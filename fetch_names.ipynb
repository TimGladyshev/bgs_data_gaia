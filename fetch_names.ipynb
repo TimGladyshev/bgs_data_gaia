{
 "cells": [
  {
   "cell_type": "code",
   "execution_count": 1,
   "id": "468f025d",
   "metadata": {},
   "outputs": [],
   "source": [
    "from selenium import webdriver\n",
    "from selenium.webdriver.common.keys import Keys\n",
    "from selenium.webdriver.firefox.service import Service\n",
    "from webdriver_manager.firefox import GeckoDriverManager\n",
    "from webdriver_manager.chrome import ChromeDriverManager\n",
    "from webdriver_manager.utils import ChromeType\n",
    "from selenium.webdriver.support.ui import WebDriverWait\n",
    "from selenium.webdriver.support import expected_conditions as EC\n",
    "from selenium.webdriver.common.by import By"
   ]
  },
  {
   "cell_type": "code",
   "execution_count": 2,
   "id": "12b3192a",
   "metadata": {},
   "outputs": [],
   "source": [
    "import pandas\n",
    "import json\n",
    "import requests\n",
    "from time import sleep\n",
    "from tqdm.notebook import tqdm, trange"
   ]
  },
  {
   "cell_type": "code",
   "execution_count": 64,
   "id": "3081e932",
   "metadata": {},
   "outputs": [],
   "source": [
    "def update_names():\n",
    "    op = webdriver.ChromeOptions()\n",
    "    op.add_argument(\"--window-size=1920,1080\")\n",
    "    op.add_argument(\"--start-maximized\")\n",
    "    op.add_argument(\"--disable-gpu\")\n",
    "    op.add_argument('--disable-extensions')\n",
    "    op.add_argument('--no-sandbox')\n",
    "    op.add_argument(\"--headless\")\n",
    "    driver = webdriver.Chrome(ChromeDriverManager(chrome_type=ChromeType.CHROMIUM).install(), options=op)\n",
    "\n",
    "    url_games = 'https://www.boardgamers.space/boardgame/gaia-project/games'\n",
    "\n",
    "    games_set = set()\n",
    "\n",
    "    with open(\"data/game_names.txt\", \"r\") as names_file:\n",
    "        lines = names_file.readlines()\n",
    "        for line in lines:\n",
    "            games_set.add(line.rstrip('\\n'))\n",
    "            \n",
    "    with open(\"data/game_names.txt\", \"w\") as names_file:\n",
    "        for n in games_set:\n",
    "            names_file.write(n + '\\n')\n",
    "\n",
    "    names_file.close()\n",
    "\n",
    "    driver.get(url=url_games)\n",
    "    finished_button = driver.find_element_by_partial_link_text(\"Finished\")\n",
    "    finished_button.click()\n",
    "    \n",
    "    sleep(.5)\n",
    "    while driver.execute_script(\"return document.readyState\") != \"complete\":\n",
    "            sleep(.5)\n",
    "    \n",
    "    num_games_found = int(driver.find_element_by_class_name(\"card-title\").text.split('(')[1].split(')')[0])\n",
    "\n",
    "    # link to click for next page\n",
    "    next_button = driver.find_elements_by_class_name(\"page-link\")[-2]\n",
    "    # parent <li> can be disabled if last page\n",
    "    next_item = driver.find_elements_by_class_name(\"page-item\")[-2]\n",
    "    # list of disabled items\n",
    "    disabled_items = driver.find_elements_by_class_name(\"disabled\")\n",
    "\n",
    "    # list of names items\n",
    "    game_names = driver.find_elements_by_class_name(\"game-name\")\n",
    "\n",
    "    with open(\"data/game_names.txt\", \"a\") as names_file:\n",
    "\n",
    "        for name in game_names:\n",
    "            n = name.text\n",
    "            if n not in games_set:\n",
    "                names_file.write(n + '\\n')\n",
    "\n",
    "        for i in range((num_games_found - len(games_set)) // 10):\n",
    "            try:\n",
    "                next_button.click()\n",
    "                sleep(.5)\n",
    "\n",
    "                # wait for JS to load -> elements are same, only text and class are updated\n",
    "                while driver.execute_script(\"return document.readyState\") != \"complete\":\n",
    "                    sleep(.5)\n",
    "\n",
    "                next_button = driver.find_elements_by_class_name(\"page-link\")[-2]\n",
    "                next_item = driver.find_elements_by_class_name(\"page-item\")[-2]\n",
    "                disabled_items = driver.find_elements_by_class_name(\"disabled\")\n",
    "\n",
    "                game_names = driver.find_elements_by_class_name(\"game-name\")\n",
    "\n",
    "                for name in game_names:\n",
    "                    n = name.text\n",
    "                    if n not in games_set:\n",
    "                        names_file.write(n + '\\n')\n",
    "            except:\n",
    "                break\n",
    "\n",
    "    names_file.close()\n",
    "    driver.close()"
   ]
  },
  {
   "cell_type": "code",
   "execution_count": 65,
   "id": "0938c28e",
   "metadata": {
    "collapsed": true,
    "jupyter": {
     "outputs_hidden": true
    },
    "tags": []
   },
   "outputs": [
    {
     "name": "stderr",
     "output_type": "stream",
     "text": [
      "\n",
      "\n",
      "====== WebDriver manager ======\n",
      "Current chromium version is 99.0.4844\n",
      "Get LATEST chromedriver version for 99.0.4844 chromium\n",
      "Driver [/home/tim/.wdm/drivers/chromedriver/linux64/99.0.4844.51/chromedriver] found in cache\n",
      "/tmp/ipykernel_270122/2743936846.py:9: DeprecationWarning: executable_path has been deprecated, please pass in a Service object\n",
      "  driver = webdriver.Chrome(ChromeDriverManager(chrome_type=ChromeType.CHROMIUM).install(), options=op)\n",
      "/tmp/ipykernel_270122/2743936846.py:27: DeprecationWarning: find_element_by_* commands are deprecated. Please use find_element() instead\n",
      "  finished_button = driver.find_element_by_partial_link_text(\"Finished\")\n",
      "/tmp/ipykernel_270122/2743936846.py:34: DeprecationWarning: find_element_by_* commands are deprecated. Please use find_element() instead\n",
      "  num_games_found = int(driver.find_element_by_class_name(\"card-title\").text.split('(')[1].split(')')[0])\n",
      "/tmp/ipykernel_270122/2743936846.py:37: DeprecationWarning: find_elements_by_* commands are deprecated. Please use find_elements() instead\n",
      "  next_button = driver.find_elements_by_class_name(\"page-link\")[-2]\n",
      "/tmp/ipykernel_270122/2743936846.py:39: DeprecationWarning: find_elements_by_* commands are deprecated. Please use find_elements() instead\n",
      "  next_item = driver.find_elements_by_class_name(\"page-item\")[-2]\n",
      "/tmp/ipykernel_270122/2743936846.py:41: DeprecationWarning: find_elements_by_* commands are deprecated. Please use find_elements() instead\n",
      "  disabled_items = driver.find_elements_by_class_name(\"disabled\")\n",
      "/tmp/ipykernel_270122/2743936846.py:44: DeprecationWarning: find_elements_by_* commands are deprecated. Please use find_elements() instead\n",
      "  game_names = driver.find_elements_by_class_name(\"game-name\")\n",
      "/tmp/ipykernel_270122/2743936846.py:62: DeprecationWarning: find_elements_by_* commands are deprecated. Please use find_elements() instead\n",
      "  next_button = driver.find_elements_by_class_name(\"page-link\")[-2]\n",
      "/tmp/ipykernel_270122/2743936846.py:63: DeprecationWarning: find_elements_by_* commands are deprecated. Please use find_elements() instead\n",
      "  next_item = driver.find_elements_by_class_name(\"page-item\")[-2]\n",
      "/tmp/ipykernel_270122/2743936846.py:64: DeprecationWarning: find_elements_by_* commands are deprecated. Please use find_elements() instead\n",
      "  disabled_items = driver.find_elements_by_class_name(\"disabled\")\n",
      "/tmp/ipykernel_270122/2743936846.py:66: DeprecationWarning: find_elements_by_* commands are deprecated. Please use find_elements() instead\n",
      "  game_names = driver.find_elements_by_class_name(\"game-name\")\n"
     ]
    }
   ],
   "source": [
    "#driver.close()\n",
    "update_names()"
   ]
  },
  {
   "cell_type": "code",
   "execution_count": 66,
   "id": "078e87f4",
   "metadata": {},
   "outputs": [],
   "source": [
    "games_set = set()\n",
    "\n",
    "with open(\"data/game_names.txt\", \"r\") as names_file:\n",
    "    lines = names_file.readlines()\n",
    "    for line in lines:\n",
    "        games_set.add(line.rstrip('\\n'))"
   ]
  },
  {
   "cell_type": "code",
   "execution_count": 67,
   "id": "2a465120",
   "metadata": {
    "scrolled": true
   },
   "outputs": [
    {
     "data": {
      "text/plain": [
       "32609"
      ]
     },
     "execution_count": 67,
     "metadata": {},
     "output_type": "execute_result"
    }
   ],
   "source": [
    "len(games_set)"
   ]
  },
  {
   "cell_type": "code",
   "execution_count": 57,
   "id": "4f4e235d",
   "metadata": {},
   "outputs": [
    {
     "name": "stderr",
     "output_type": "stream",
     "text": [
      "/tmp/ipykernel_270122/2452491508.py:8: DeprecationWarning: find_elements_by_* commands are deprecated. Please use find_elements() instead\n",
      "  next_button = driver.find_elements_by_class_name(\"page-link\")[-2]\n",
      "/tmp/ipykernel_270122/2452491508.py:10: DeprecationWarning: find_elements_by_* commands are deprecated. Please use find_elements() instead\n",
      "  next_item = driver.find_elements_by_class_name(\"page-item\")[-2]\n",
      "/tmp/ipykernel_270122/2452491508.py:12: DeprecationWarning: find_elements_by_* commands are deprecated. Please use find_elements() instead\n",
      "  disabled_items = driver.find_elements_by_class_name(\"disabled\")\n",
      "/tmp/ipykernel_270122/2452491508.py:15: DeprecationWarning: find_elements_by_* commands are deprecated. Please use find_elements() instead\n",
      "  game_names = driver.find_elements_by_class_name(\"game-name\")\n"
     ]
    },
    {
     "data": {
      "application/vnd.jupyter.widget-view+json": {
       "model_id": "aff227e1079545738be28048918a6bcd",
       "version_major": 2,
       "version_minor": 0
      },
      "text/plain": [
       "  0%|          | 0/32760 [00:00<?, ?it/s]"
      ]
     },
     "metadata": {},
     "output_type": "display_data"
    },
    {
     "name": "stderr",
     "output_type": "stream",
     "text": [
      "/tmp/ipykernel_270122/2452491508.py:44: DeprecationWarning: find_elements_by_* commands are deprecated. Please use find_elements() instead\n",
      "  next_button = driver.find_elements_by_class_name(\"page-link\")[-2]\n",
      "/tmp/ipykernel_270122/2452491508.py:45: DeprecationWarning: find_elements_by_* commands are deprecated. Please use find_elements() instead\n",
      "  next_item = driver.find_elements_by_class_name(\"page-item\")[-2]\n",
      "/tmp/ipykernel_270122/2452491508.py:46: DeprecationWarning: find_elements_by_* commands are deprecated. Please use find_elements() instead\n",
      "  disabled_items = driver.find_elements_by_class_name(\"disabled\")\n",
      "/tmp/ipykernel_270122/2452491508.py:48: DeprecationWarning: find_elements_by_* commands are deprecated. Please use find_elements() instead\n",
      "  game_names = driver.find_elements_by_class_name(\"game-name\")\n"
     ]
    }
   ],
   "source": [
    "\"\"\"\n",
    "Combination of below cells to update the game names file\n",
    "\n",
    "Currently set to run through whole set and checked for missed\n",
    "\"\"\"\n",
    "\n",
    "#link to click for next page\n",
    "next_button = driver.find_elements_by_class_name(\"page-link\")[-2]\n",
    "#parent <li> can be disabled if last page\n",
    "next_item = driver.find_elements_by_class_name(\"page-item\")[-2]\n",
    "#list of disabled items\n",
    "disabled_items = driver.find_elements_by_class_name(\"disabled\")\n",
    "\n",
    "#list of names items\n",
    "game_names = driver.find_elements_by_class_name(\"game-name\")\n",
    "\n",
    "games_set = set()\n",
    "\n",
    "pbar = tqdm(total=32760)\n",
    "\n",
    "with open(\"data/game_names.txt\", \"r\") as names_file:\n",
    "    lines = names_file.readlines()\n",
    "    for line in lines:\n",
    "        games_set.add(line)\n",
    "\n",
    "names_file.close()\n",
    "    \n",
    "with open(\"data/game_names.txt\", \"a\") as names_file:\n",
    "    \n",
    "    for name in game_names:\n",
    "        n = name.text\n",
    "        if n not in games_set:\n",
    "            names_file.write(n + '\\n' )\n",
    "    \n",
    "    while next_item not in disabled_items:\n",
    "        try:\n",
    "            next_button.click()\n",
    "            sleep(.1)\n",
    "\n",
    "            #wait for JS to load -> elements are same, only text and class are updated\n",
    "            while driver.execute_script(\"return document.readyState\") != \"complete\":\n",
    "                sleep(.05)\n",
    "\n",
    "            next_button = driver.find_elements_by_class_name(\"page-link\")[-2]\n",
    "            next_item = driver.find_elements_by_class_name(\"page-item\")[-2]\n",
    "            disabled_items = driver.find_elements_by_class_name(\"disabled\")\n",
    "\n",
    "            game_names = driver.find_elements_by_class_name(\"game-name\")\n",
    "\n",
    "            for name in game_names:\n",
    "                n = name.text\n",
    "                if n not in games_set:\n",
    "                    names_file.write(n + '\\n' )\n",
    "                pbar.update(1)\n",
    "        except Exception as e:\n",
    "            print(e)\n",
    "            break\n",
    "\n",
    "names_file.close()"
   ]
  },
  {
   "cell_type": "code",
   "execution_count": 124,
   "id": "bd6c4ca3",
   "metadata": {},
   "outputs": [],
   "source": [
    "driver.close()"
   ]
  },
  {
   "cell_type": "code",
   "execution_count": null,
   "id": "450e70da",
   "metadata": {},
   "outputs": [],
   "source": []
  }
 ],
 "metadata": {
  "kernelspec": {
   "display_name": "Python 3 (ipykernel)",
   "language": "python",
   "name": "python3"
  },
  "language_info": {
   "codemirror_mode": {
    "name": "ipython",
    "version": 3
   },
   "file_extension": ".py",
   "mimetype": "text/x-python",
   "name": "python",
   "nbconvert_exporter": "python",
   "pygments_lexer": "ipython3",
   "version": "3.9.13"
  }
 },
 "nbformat": 4,
 "nbformat_minor": 5
}
