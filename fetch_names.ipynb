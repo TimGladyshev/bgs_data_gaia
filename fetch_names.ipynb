{
 "cells": [
  {
   "cell_type": "code",
   "execution_count": 1,
   "id": "468f025d",
   "metadata": {},
   "outputs": [],
   "source": [
    "from selenium import webdriver\n",
    "from selenium.webdriver.common.keys import Keys\n",
    "from selenium.webdriver.firefox.service import Service\n",
    "from webdriver_manager.firefox import GeckoDriverManager\n",
    "from webdriver_manager.chrome import ChromeDriverManager\n",
    "from webdriver_manager.utils import ChromeType\n",
    "from selenium.webdriver.support.ui import WebDriverWait\n",
    "from selenium.webdriver.support import expected_conditions as EC\n",
    "from selenium.webdriver.common.by import By"
   ]
  },
  {
   "cell_type": "code",
   "execution_count": 2,
   "id": "12b3192a",
   "metadata": {},
   "outputs": [],
   "source": [
    "import pandas\n",
    "import json\n",
    "import requests\n",
    "from time import sleep\n",
    "from tqdm.notebook import tqdm, trange"
   ]
  },
  {
   "cell_type": "code",
   "execution_count": 3,
   "id": "f927473c",
   "metadata": {},
   "outputs": [
    {
     "name": "stderr",
     "output_type": "stream",
     "text": [
      "\n",
      "\n",
      "====== WebDriver manager ======\n",
      "Current chromium version is 98.0.4758\n",
      "Get LATEST chromedriver version for 98.0.4758 chromium\n",
      "There is no [linux64] chromedriver for browser  in cache\n",
      "Trying to download new driver from https://chromedriver.storage.googleapis.com/98.0.4758.102/chromedriver_linux64.zip\n",
      "Driver has been saved in cache [/home/tim/.wdm/drivers/chromedriver/linux64/98.0.4758.102]\n",
      "/tmp/ipykernel_2566679/689089049.py:2: DeprecationWarning: executable_path has been deprecated, please pass in a Service object\n",
      "  driver = webdriver.Chrome(ChromeDriverManager(chrome_type=ChromeType.CHROMIUM).install())\n"
     ]
    }
   ],
   "source": [
    "#driver = webdriver.Firefox(service=Service(GeckoDriverManager().install()))\n",
    "driver = webdriver.Chrome(ChromeDriverManager(chrome_type=ChromeType.CHROMIUM).install())"
   ]
  },
  {
   "cell_type": "code",
   "execution_count": 4,
   "id": "65b4f029",
   "metadata": {},
   "outputs": [],
   "source": [
    "url_games = 'https://www.boardgamers.space/boardgame/gaia-project/games'"
   ]
  },
  {
   "cell_type": "code",
   "execution_count": 5,
   "id": "99d461e9",
   "metadata": {},
   "outputs": [],
   "source": [
    "driver.get(url=url_games)"
   ]
  },
  {
   "cell_type": "code",
   "execution_count": 6,
   "id": "55f32d2c",
   "metadata": {},
   "outputs": [
    {
     "name": "stderr",
     "output_type": "stream",
     "text": [
      "/tmp/ipykernel_2566679/2660566465.py:1: DeprecationWarning: find_element_by_* commands are deprecated. Please use find_element() instead\n",
      "  finished_button = driver.find_element_by_partial_link_text(\"Finished\")\n"
     ]
    }
   ],
   "source": [
    "finished_button = driver.find_element_by_partial_link_text(\"Finished\")"
   ]
  },
  {
   "cell_type": "code",
   "execution_count": 7,
   "id": "c4ec4e91",
   "metadata": {},
   "outputs": [],
   "source": [
    "finished_button.click()"
   ]
  },
  {
   "cell_type": "code",
   "execution_count": 14,
   "id": "4f4e235d",
   "metadata": {},
   "outputs": [
    {
     "name": "stderr",
     "output_type": "stream",
     "text": [
      "/tmp/ipykernel_2566679/1689032646.py:8: DeprecationWarning: find_elements_by_* commands are deprecated. Please use find_elements() instead\n",
      "  next_button = driver.find_elements_by_class_name(\"page-link\")[-2]\n",
      "/tmp/ipykernel_2566679/1689032646.py:10: DeprecationWarning: find_elements_by_* commands are deprecated. Please use find_elements() instead\n",
      "  next_item = driver.find_elements_by_class_name(\"page-item\")[-2]\n",
      "/tmp/ipykernel_2566679/1689032646.py:12: DeprecationWarning: find_elements_by_* commands are deprecated. Please use find_elements() instead\n",
      "  disabled_items = driver.find_elements_by_class_name(\"disabled\")\n",
      "/tmp/ipykernel_2566679/1689032646.py:15: DeprecationWarning: find_elements_by_* commands are deprecated. Please use find_elements() instead\n",
      "  game_names = driver.find_elements_by_class_name(\"game-name\")\n"
     ]
    },
    {
     "data": {
      "application/vnd.jupyter.widget-view+json": {
       "model_id": "875d6c86ce6649e8abc0ce41365a2f09",
       "version_major": 2,
       "version_minor": 0
      },
      "text/plain": [
       "  0%|          | 0/32078 [00:00<?, ?it/s]"
      ]
     },
     "metadata": {},
     "output_type": "display_data"
    },
    {
     "name": "stderr",
     "output_type": "stream",
     "text": [
      "/tmp/ipykernel_2566679/1689032646.py:44: DeprecationWarning: find_elements_by_* commands are deprecated. Please use find_elements() instead\n",
      "  next_button = driver.find_elements_by_class_name(\"page-link\")[-2]\n",
      "/tmp/ipykernel_2566679/1689032646.py:45: DeprecationWarning: find_elements_by_* commands are deprecated. Please use find_elements() instead\n",
      "  next_item = driver.find_elements_by_class_name(\"page-item\")[-2]\n",
      "/tmp/ipykernel_2566679/1689032646.py:46: DeprecationWarning: find_elements_by_* commands are deprecated. Please use find_elements() instead\n",
      "  disabled_items = driver.find_elements_by_class_name(\"disabled\")\n",
      "/tmp/ipykernel_2566679/1689032646.py:48: DeprecationWarning: find_elements_by_* commands are deprecated. Please use find_elements() instead\n",
      "  game_names = driver.find_elements_by_class_name(\"game-name\")\n"
     ]
    }
   ],
   "source": [
    "\"\"\"\n",
    "Combination of below cells to update the game names file\n",
    "\n",
    "Currently set to run through whole set and checked for missed\n",
    "\"\"\"\n",
    "\n",
    "#link to click for next page\n",
    "next_button = driver.find_elements_by_class_name(\"page-link\")[-2]\n",
    "#parent <li> can be disabled if last page\n",
    "next_item = driver.find_elements_by_class_name(\"page-item\")[-2]\n",
    "#list of disabled items\n",
    "disabled_items = driver.find_elements_by_class_name(\"disabled\")\n",
    "\n",
    "#list of names items\n",
    "game_names = driver.find_elements_by_class_name(\"game-name\")\n",
    "\n",
    "games_set = set()\n",
    "\n",
    "pbar = tqdm(total=32078)\n",
    "\n",
    "with open(\"game_names.txt\", \"r\") as names_file:\n",
    "    lines = names_file.readlines()\n",
    "    for line in lines:\n",
    "        games_set.add(line)\n",
    "\n",
    "names_file.close()\n",
    "    \n",
    "with open(\"game_names.txt\", \"a\") as names_file:\n",
    "    \n",
    "    for name in game_names:\n",
    "        n = name.text\n",
    "        if n not in games_set:\n",
    "            names_file.write(n + '\\n' )\n",
    "    \n",
    "    while next_item not in disabled_items:\n",
    "        try:\n",
    "            next_button.click()\n",
    "            sleep(.1)\n",
    "\n",
    "            #wait for JS to load -> elements are same, only text and class are updated\n",
    "            while driver.execute_script(\"return document.readyState\") != \"complete\":\n",
    "                sleep(.05)\n",
    "\n",
    "            next_button = driver.find_elements_by_class_name(\"page-link\")[-2]\n",
    "            next_item = driver.find_elements_by_class_name(\"page-item\")[-2]\n",
    "            disabled_items = driver.find_elements_by_class_name(\"disabled\")\n",
    "\n",
    "            game_names = driver.find_elements_by_class_name(\"game-name\")\n",
    "\n",
    "            for name in game_names:\n",
    "                n = name.text\n",
    "                if n not in games_set:\n",
    "                    names_file.write(n + '\\n' )\n",
    "                pbar.update(1)\n",
    "        except:\n",
    "            break\n",
    "\n",
    "names_file.close()"
   ]
  },
  {
   "cell_type": "code",
   "execution_count": 122,
   "id": "3a97ac87",
   "metadata": {},
   "outputs": [
    {
     "name": "stderr",
     "output_type": "stream",
     "text": [
      "/tmp/ipykernel_3727300/346778655.py:2: DeprecationWarning: find_elements_by_* commands are deprecated. Please use find_elements() instead\n",
      "  next_button = driver.find_elements_by_class_name(\"page-link\")[-2]\n",
      "/tmp/ipykernel_3727300/346778655.py:4: DeprecationWarning: find_elements_by_* commands are deprecated. Please use find_elements() instead\n",
      "  next_item = driver.find_elements_by_class_name(\"page-item\")[-2]\n",
      "/tmp/ipykernel_3727300/346778655.py:6: DeprecationWarning: find_elements_by_* commands are deprecated. Please use find_elements() instead\n",
      "  disabled_items = driver.find_elements_by_class_name(\"disabled\")\n",
      "/tmp/ipykernel_3727300/346778655.py:9: DeprecationWarning: find_elements_by_* commands are deprecated. Please use find_elements() instead\n",
      "  game_names = driver.find_elements_by_class_name(\"game-name\")\n"
     ]
    }
   ],
   "source": [
    "#link to click for next page\n",
    "next_button = driver.find_elements_by_class_name(\"page-link\")[-2]\n",
    "#parent <li> can be disabled if last page\n",
    "next_item = driver.find_elements_by_class_name(\"page-item\")[-2]\n",
    "#list of disabled items\n",
    "disabled_items = driver.find_elements_by_class_name(\"disabled\")\n",
    "\n",
    "#list of names items\n",
    "game_names = driver.find_elements_by_class_name(\"game-name\")\n",
    "\n",
    "with open(\"game_names.txt\", \"w\") as names_file:\n",
    "    for name in game_names:\n",
    "        names_file.write(name.text + \"\\n\")\n",
    "    names_file.close()"
   ]
  },
  {
   "cell_type": "code",
   "execution_count": 123,
   "id": "6a6284e6",
   "metadata": {},
   "outputs": [
    {
     "data": {
      "application/vnd.jupyter.widget-view+json": {
       "model_id": "330ab67c2ea547d99d1f72c3a8fcc9e4",
       "version_major": 2,
       "version_minor": 0
      },
      "text/plain": [
       "  0%|          | 0/3199 [00:00<?, ?it/s]"
      ]
     },
     "metadata": {},
     "output_type": "display_data"
    },
    {
     "name": "stderr",
     "output_type": "stream",
     "text": [
      "/tmp/ipykernel_3727300/3469520725.py:14: DeprecationWarning: find_elements_by_* commands are deprecated. Please use find_elements() instead\n",
      "  next_button = driver.find_elements_by_class_name(\"page-link\")[-2]\n",
      "/tmp/ipykernel_3727300/3469520725.py:15: DeprecationWarning: find_elements_by_* commands are deprecated. Please use find_elements() instead\n",
      "  next_item = driver.find_elements_by_class_name(\"page-item\")[-2]\n",
      "/tmp/ipykernel_3727300/3469520725.py:16: DeprecationWarning: find_elements_by_* commands are deprecated. Please use find_elements() instead\n",
      "  disabled_items = driver.find_elements_by_class_name(\"disabled\")\n",
      "/tmp/ipykernel_3727300/3469520725.py:18: DeprecationWarning: find_elements_by_* commands are deprecated. Please use find_elements() instead\n",
      "  game_names = driver.find_elements_by_class_name(\"game-name\")\n"
     ]
    }
   ],
   "source": [
    "pbar = tqdm(total=3199)\n",
    "\n",
    "names_file = open(\"game_names.txt\", \"a\")\n",
    "\n",
    "while next_item not in disabled_items:\n",
    "    try:\n",
    "        next_button.click()\n",
    "        sleep(.05)\n",
    "\n",
    "        #wait for JS to load -> elements are same, only text and class are updated\n",
    "        while driver.execute_script(\"return document.readyState\") != \"complete\":\n",
    "            sleep(.05)\n",
    "\n",
    "        next_button = driver.find_elements_by_class_name(\"page-link\")[-2]\n",
    "        next_item = driver.find_elements_by_class_name(\"page-item\")[-2]\n",
    "        disabled_items = driver.find_elements_by_class_name(\"disabled\")\n",
    "\n",
    "        game_names = driver.find_elements_by_class_name(\"game-name\")\n",
    "\n",
    "        for name in game_names:\n",
    "            names_file.write(name.text + \"\\n\")\n",
    "\n",
    "        pbar.update(1)\n",
    "    except:\n",
    "        break\n",
    "\n",
    "names_file.close()"
   ]
  },
  {
   "cell_type": "code",
   "execution_count": 124,
   "id": "bd6c4ca3",
   "metadata": {},
   "outputs": [],
   "source": [
    "driver.close()"
   ]
  },
  {
   "cell_type": "code",
   "execution_count": null,
   "id": "450e70da",
   "metadata": {},
   "outputs": [],
   "source": []
  }
 ],
 "metadata": {
  "kernelspec": {
   "display_name": "Python 3 (ipykernel)",
   "language": "python",
   "name": "python3"
  },
  "language_info": {
   "codemirror_mode": {
    "name": "ipython",
    "version": 3
   },
   "file_extension": ".py",
   "mimetype": "text/x-python",
   "name": "python",
   "nbconvert_exporter": "python",
   "pygments_lexer": "ipython3",
   "version": "3.8.10"
  }
 },
 "nbformat": 4,
 "nbformat_minor": 5
}
