{
 "cells": [
  {
   "cell_type": "code",
   "execution_count": 99,
   "id": "468f025d",
   "metadata": {},
   "outputs": [],
   "source": [
    "from selenium import webdriver\n",
    "from selenium.webdriver.common.keys import Keys\n",
    "from selenium.webdriver.firefox.service import Service\n",
    "from webdriver_manager.firefox import GeckoDriverManager\n",
    "from webdriver_manager.chrome import ChromeDriverManager\n",
    "from webdriver_manager.utils import ChromeType\n",
    "from selenium.webdriver.support.ui import WebDriverWait\n",
    "from selenium.webdriver.support import expected_conditions as EC\n",
    "from selenium.webdriver.common.by import By"
   ]
  },
  {
   "cell_type": "code",
   "execution_count": 118,
   "id": "12b3192a",
   "metadata": {},
   "outputs": [],
   "source": [
    "import pandas\n",
    "import json\n",
    "import requests\n",
    "from time import sleep\n",
    "from tqdm.notebook import tqdm, trange"
   ]
  },
  {
   "cell_type": "code",
   "execution_count": 82,
   "id": "f927473c",
   "metadata": {},
   "outputs": [
    {
     "name": "stderr",
     "output_type": "stream",
     "text": [
      "\n",
      "\n",
      "====== WebDriver manager ======\n",
      "Current chromium version is 98.0.4758\n",
      "Get LATEST chromedriver version for 98.0.4758 chromium\n",
      "There is no [linux64] chromedriver for browser  in cache\n",
      "Trying to download new driver from https://chromedriver.storage.googleapis.com/98.0.4758.80/chromedriver_linux64.zip\n",
      "Driver has been saved in cache [/home/tim/.wdm/drivers/chromedriver/linux64/98.0.4758.80]\n",
      "/tmp/ipykernel_3727300/689089049.py:2: DeprecationWarning: executable_path has been deprecated, please pass in a Service object\n",
      "  driver = webdriver.Chrome(ChromeDriverManager(chrome_type=ChromeType.CHROMIUM).install())\n"
     ]
    }
   ],
   "source": [
    "#driver = webdriver.Firefox(service=Service(GeckoDriverManager().install()))\n",
    "driver = webdriver.Chrome(ChromeDriverManager(chrome_type=ChromeType.CHROMIUM).install())"
   ]
  },
  {
   "cell_type": "code",
   "execution_count": 83,
   "id": "65b4f029",
   "metadata": {},
   "outputs": [],
   "source": [
    "url_games = 'https://www.boardgamers.space/boardgame/gaia-project/games'"
   ]
  },
  {
   "cell_type": "code",
   "execution_count": 84,
   "id": "99d461e9",
   "metadata": {},
   "outputs": [],
   "source": [
    "driver.get(url=url_games)"
   ]
  },
  {
   "cell_type": "code",
   "execution_count": 85,
   "id": "55f32d2c",
   "metadata": {},
   "outputs": [
    {
     "name": "stderr",
     "output_type": "stream",
     "text": [
      "/tmp/ipykernel_3727300/2660566465.py:1: DeprecationWarning: find_element_by_* commands are deprecated. Please use find_element() instead\n",
      "  finished_button = driver.find_element_by_partial_link_text(\"Finished\")\n"
     ]
    }
   ],
   "source": [
    "finished_button = driver.find_element_by_partial_link_text(\"Finished\")"
   ]
  },
  {
   "cell_type": "code",
   "execution_count": 86,
   "id": "c4ec4e91",
   "metadata": {},
   "outputs": [],
   "source": [
    "finished_button.click()"
   ]
  },
  {
   "cell_type": "code",
   "execution_count": 91,
   "id": "0bdc77f9",
   "metadata": {},
   "outputs": [
    {
     "name": "stderr",
     "output_type": "stream",
     "text": [
      "/tmp/ipykernel_3727300/1936522469.py:1: DeprecationWarning: find_elements_by_* commands are deprecated. Please use find_elements() instead\n",
      "  next_button = driver.find_elements_by_class_name(\"page-link\")[-2]\n"
     ]
    }
   ],
   "source": [
    "next_button = driver.find_elements_by_class_name(\"page-link\")[-2]"
   ]
  },
  {
   "cell_type": "code",
   "execution_count": 93,
   "id": "07555a6d",
   "metadata": {},
   "outputs": [],
   "source": [
    "#next_button[-2].click()"
   ]
  },
  {
   "cell_type": "code",
   "execution_count": 89,
   "id": "abe5e478",
   "metadata": {},
   "outputs": [
    {
     "name": "stderr",
     "output_type": "stream",
     "text": [
      "/tmp/ipykernel_3727300/3140982318.py:1: DeprecationWarning: find_elements_by_* commands are deprecated. Please use find_elements() instead\n",
      "  game_names = driver.find_elements_by_class_name(\"game-name\")\n"
     ]
    }
   ],
   "source": [
    "game_names = driver.find_elements_by_class_name(\"game-name\")"
   ]
  },
  {
   "cell_type": "code",
   "execution_count": 90,
   "id": "76b59815",
   "metadata": {},
   "outputs": [
    {
     "data": {
      "text/plain": [
       "'Killing-experiment-1908'"
      ]
     },
     "execution_count": 90,
     "metadata": {},
     "output_type": "execute_result"
    }
   ],
   "source": [
    "game_names[0].text"
   ]
  },
  {
   "cell_type": "code",
   "execution_count": 66,
   "id": "8b38ac6f",
   "metadata": {},
   "outputs": [
    {
     "name": "stderr",
     "output_type": "stream",
     "text": [
      "/tmp/ipykernel_3727300/1346393132.py:1: DeprecationWarning: find_elements_by_* commands are deprecated. Please use find_elements() instead\n",
      "  disabled_items = driver.find_elements_by_class_name(\"disabled\")\n",
      "/tmp/ipykernel_3727300/1346393132.py:2: DeprecationWarning: find_elements_by_* commands are deprecated. Please use find_elements() instead\n",
      "  page_items = driver.find_elements_by_class_name(\"page-item\")\n"
     ]
    }
   ],
   "source": [
    "disabled_items = driver.find_elements_by_class_name(\"disabled\")\n",
    "page_items = driver.find_elements_by_class_name(\"page-item\")"
   ]
  },
  {
   "cell_type": "code",
   "execution_count": 122,
   "id": "3a97ac87",
   "metadata": {},
   "outputs": [
    {
     "name": "stderr",
     "output_type": "stream",
     "text": [
      "/tmp/ipykernel_3727300/346778655.py:2: DeprecationWarning: find_elements_by_* commands are deprecated. Please use find_elements() instead\n",
      "  next_button = driver.find_elements_by_class_name(\"page-link\")[-2]\n",
      "/tmp/ipykernel_3727300/346778655.py:4: DeprecationWarning: find_elements_by_* commands are deprecated. Please use find_elements() instead\n",
      "  next_item = driver.find_elements_by_class_name(\"page-item\")[-2]\n",
      "/tmp/ipykernel_3727300/346778655.py:6: DeprecationWarning: find_elements_by_* commands are deprecated. Please use find_elements() instead\n",
      "  disabled_items = driver.find_elements_by_class_name(\"disabled\")\n",
      "/tmp/ipykernel_3727300/346778655.py:9: DeprecationWarning: find_elements_by_* commands are deprecated. Please use find_elements() instead\n",
      "  game_names = driver.find_elements_by_class_name(\"game-name\")\n"
     ]
    }
   ],
   "source": [
    "#link to click for next page\n",
    "next_button = driver.find_elements_by_class_name(\"page-link\")[-2]\n",
    "#parent <li> can be disabled if last page\n",
    "next_item = driver.find_elements_by_class_name(\"page-item\")[-2]\n",
    "#list of disabled items\n",
    "disabled_items = driver.find_elements_by_class_name(\"disabled\")\n",
    "\n",
    "#list of names items\n",
    "game_names = driver.find_elements_by_class_name(\"game-name\")\n",
    "\n",
    "with open(\"game_names.txt\", \"w\") as names_file:\n",
    "    for name in game_names:\n",
    "        names_file.write(name.text + \"\\n\")\n",
    "    names_file.close()"
   ]
  },
  {
   "cell_type": "code",
   "execution_count": 123,
   "id": "6a6284e6",
   "metadata": {},
   "outputs": [
    {
     "data": {
      "application/vnd.jupyter.widget-view+json": {
       "model_id": "330ab67c2ea547d99d1f72c3a8fcc9e4",
       "version_major": 2,
       "version_minor": 0
      },
      "text/plain": [
       "  0%|          | 0/3199 [00:00<?, ?it/s]"
      ]
     },
     "metadata": {},
     "output_type": "display_data"
    },
    {
     "name": "stderr",
     "output_type": "stream",
     "text": [
      "/tmp/ipykernel_3727300/3469520725.py:14: DeprecationWarning: find_elements_by_* commands are deprecated. Please use find_elements() instead\n",
      "  next_button = driver.find_elements_by_class_name(\"page-link\")[-2]\n",
      "/tmp/ipykernel_3727300/3469520725.py:15: DeprecationWarning: find_elements_by_* commands are deprecated. Please use find_elements() instead\n",
      "  next_item = driver.find_elements_by_class_name(\"page-item\")[-2]\n",
      "/tmp/ipykernel_3727300/3469520725.py:16: DeprecationWarning: find_elements_by_* commands are deprecated. Please use find_elements() instead\n",
      "  disabled_items = driver.find_elements_by_class_name(\"disabled\")\n",
      "/tmp/ipykernel_3727300/3469520725.py:18: DeprecationWarning: find_elements_by_* commands are deprecated. Please use find_elements() instead\n",
      "  game_names = driver.find_elements_by_class_name(\"game-name\")\n"
     ]
    }
   ],
   "source": [
    "pbar = tqdm(total=3199)\n",
    "\n",
    "names_file = open(\"game_names.txt\", \"a\")\n",
    "\n",
    "while next_item not in disabled_items:\n",
    "    try:\n",
    "        next_button.click()\n",
    "        sleep(.05)\n",
    "\n",
    "        #wait for JS to load -> elements are same, only text and class are updated\n",
    "        while driver.execute_script(\"return document.readyState\") != \"complete\":\n",
    "            sleep(.05)\n",
    "\n",
    "        next_button = driver.find_elements_by_class_name(\"page-link\")[-2]\n",
    "        next_item = driver.find_elements_by_class_name(\"page-item\")[-2]\n",
    "        disabled_items = driver.find_elements_by_class_name(\"disabled\")\n",
    "\n",
    "        game_names = driver.find_elements_by_class_name(\"game-name\")\n",
    "\n",
    "        for name in game_names:\n",
    "            names_file.write(name.text + \"\\n\")\n",
    "\n",
    "        pbar.update(1)\n",
    "    except:\n",
    "        break\n",
    "\n",
    "names_file.close()"
   ]
  },
  {
   "cell_type": "code",
   "execution_count": 124,
   "id": "bd6c4ca3",
   "metadata": {},
   "outputs": [],
   "source": [
    "driver.close()"
   ]
  },
  {
   "cell_type": "code",
   "execution_count": null,
   "id": "450e70da",
   "metadata": {},
   "outputs": [],
   "source": []
  }
 ],
 "metadata": {
  "kernelspec": {
   "display_name": "Python 3 (ipykernel)",
   "language": "python",
   "name": "python3"
  },
  "language_info": {
   "codemirror_mode": {
    "name": "ipython",
    "version": 3
   },
   "file_extension": ".py",
   "mimetype": "text/x-python",
   "name": "python",
   "nbconvert_exporter": "python",
   "pygments_lexer": "ipython3",
   "version": "3.8.10"
  }
 },
 "nbformat": 4,
 "nbformat_minor": 5
}
