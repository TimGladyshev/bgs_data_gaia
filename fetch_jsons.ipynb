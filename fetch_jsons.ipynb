{
 "cells": [
  {
   "cell_type": "code",
   "execution_count": 1,
   "id": "f59b38db",
   "metadata": {
    "tags": []
   },
   "outputs": [],
   "source": [
    "import pandas\n",
    "import json\n",
    "import requests\n",
    "from time import sleep\n",
    "from tqdm.notebook import tqdm, trange\n",
    "import asyncio\n",
    "from concurrent.futures import ThreadPoolExecutor\n",
    "from concurrent.futures import ProcessPoolExecutor\n",
    "from timeit import default_timer\n",
    "import multiprocessing\n",
    "import nest_asyncio"
   ]
  },
  {
   "cell_type": "code",
   "execution_count": 2,
   "id": "2c121c3b",
   "metadata": {
    "tags": []
   },
   "outputs": [],
   "source": [
    "game_names = open(\"data/game_names.txt\", \"r\")\n",
    "\n",
    "#some collissions (~300) happened, need to wait more on download\n",
    "names_set = set()\n",
    "\n",
    "for name in game_names:\n",
    "    names_set.add(name)"
   ]
  },
  {
   "cell_type": "code",
   "execution_count": 3,
   "id": "adfadee6",
   "metadata": {},
   "outputs": [],
   "source": [
    "def fetch(session, game_name, lock, file, pbar):\n",
    "    base_url = \"https://www.boardgamers.space/api/gameplay/\"\n",
    "    with session.get(base_url + game_name) as response:\n",
    "        data = response.json()\n",
    "        if response.status_code != 200:\n",
    "            #print(\"FAILURE TO RETRTREIVE JSON::{0} {1}\".format(url, response.error))\n",
    "            return 1\n",
    "        else:\n",
    "            with lock:\n",
    "                try:\n",
    "                    file.write(json.dumps(data) + \"\\n\")\n",
    "                except Exception as err:\n",
    "                    print(err)\n",
    "                finally:\n",
    "                    pbar.update(1)\n",
    "                    return 0\n",
    "    return 0"
   ]
  },
  {
   "cell_type": "code",
   "execution_count": 4,
   "id": "b29770af",
   "metadata": {},
   "outputs": [],
   "source": [
    "async def get_data_asynchronous(names_set, file_lock, file, pbar):\n",
    "    \n",
    "    with ThreadPoolExecutor(max_workers=10) as executor:\n",
    "        with requests.Session() as session:\n",
    "            \n",
    "            loop = asyncio.get_event_loop()\n",
    "            \n",
    "            tasks = [\n",
    "                loop.run_in_executor(\n",
    "                    executor,\n",
    "                    fetch,\n",
    "                    *(session, name, file_lock, file, pbar)\n",
    "                )\n",
    "                for name in names_set\n",
    "            ]\n",
    "            \n",
    "            for response in await asyncio.gather(*tasks):\n",
    "                pass"
   ]
  },
  {
   "cell_type": "code",
   "execution_count": null,
   "id": "ebfc8b90",
   "metadata": {
    "tags": []
   },
   "outputs": [
    {
     "data": {
      "application/vnd.jupyter.widget-view+json": {
       "model_id": "10ba1aa04fc044af98929ea9a6bb8a33",
       "version_major": 2,
       "version_minor": 0
      },
      "text/plain": [
       "  0%|          | 0/35441 [00:00<?, ?it/s]"
      ]
     },
     "metadata": {},
     "output_type": "display_data"
    }
   ],
   "source": [
    "pbar = tqdm(total=len(names_set))\n",
    "\n",
    "nest_asyncio.apply()\n",
    "m = multiprocessing.Manager()\n",
    "lock = m.Lock()\n",
    "loop = asyncio.get_event_loop()\n",
    "with open(\"data/game_data_raw.txt\", \"a\") as game_data_raw:\n",
    "    future = asyncio.ensure_future(get_data_asynchronous(names_set, lock, game_data_raw, pbar))\n",
    "    loop.run_until_complete(future)\n",
    "    \n",
    "    game_data_raw.close()"
   ]
  },
  {
   "cell_type": "code",
   "execution_count": null,
   "id": "d3733025",
   "metadata": {},
   "outputs": [],
   "source": []
  }
 ],
 "metadata": {
  "kernelspec": {
   "display_name": "Python 3 (ipykernel)",
   "language": "python",
   "name": "python3"
  },
  "language_info": {
   "codemirror_mode": {
    "name": "ipython",
    "version": 3
   },
   "file_extension": ".py",
   "mimetype": "text/x-python",
   "name": "python",
   "nbconvert_exporter": "python",
   "pygments_lexer": "ipython3",
   "version": "3.9.13"
  }
 },
 "nbformat": 4,
 "nbformat_minor": 5
}
