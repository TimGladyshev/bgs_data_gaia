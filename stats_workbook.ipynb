{
 "cells": [
  {
   "cell_type": "code",
   "execution_count": 1,
   "id": "fd5256e6-f05b-416f-9b39-8d7078c047d9",
   "metadata": {},
   "outputs": [],
   "source": [
    "import pandas as pd\n",
    "import numpy as np\n",
    "import matplotlib.pyplot as plt\n",
    "import six"
   ]
  },
  {
   "cell_type": "markdown",
   "id": "39f41da0-391e-4730-83d0-bf6a01a1dc55",
   "metadata": {},
   "source": [
    "# Load in the stored data"
   ]
  },
  {
   "cell_type": "code",
   "execution_count": 36,
   "id": "b273dffd-4dd6-43f8-9f65-67907e30f43a",
   "metadata": {},
   "outputs": [],
   "source": [
    "DATA_FILE = 'four_players_data.csv'"
   ]
  },
  {
   "cell_type": "code",
   "execution_count": 37,
   "id": "89b6fd35-4ea8-40e6-81e0-9d43984b148c",
   "metadata": {},
   "outputs": [
    {
     "name": "stdout",
     "output_type": "stream",
     "text": [
      "Original sample size 6714\n"
     ]
    }
   ],
   "source": [
    "df_all = pd.read_csv(DATA_FILE)\n",
    "print('Original sample size', len(df_all))"
   ]
  },
  {
   "cell_type": "markdown",
   "id": "0e6f7d08-ca0c-43af-8608-26e7339414ef",
   "metadata": {
    "tags": []
   },
   "source": [
    "# Helper methods"
   ]
  },
  {
   "cell_type": "code",
   "execution_count": 38,
   "id": "3f1c08f9-ef7c-4422-a7b5-88cfdca66d94",
   "metadata": {},
   "outputs": [],
   "source": [
    "def all_players(key):\n",
    "    return ['pos_{}{}'.format(i, key) for i in range(1,5)]"
   ]
  },
  {
   "cell_type": "code",
   "execution_count": 39,
   "id": "58feabc2-08da-41c1-bb33-ff5f97a497ca",
   "metadata": {},
   "outputs": [],
   "source": [
    "def field_search(key, search_df=df_all):\n",
    "    return {_ for _ in search_df if key in _}"
   ]
  },
  {
   "cell_type": "code",
   "execution_count": 40,
   "id": "a3aaf8a7-586a-40ab-9709-916e3d301f9b",
   "metadata": {},
   "outputs": [],
   "source": [
    "def get_faction_df(df, faction):\n",
    "    df_list = []\n",
    "    for i in range(1,5) :\n",
    "        col = 'pos_{}{}'.format(i, '_faction')\n",
    "        pos_df = df.loc[df[col] == faction]\n",
    "        col_dict = {}\n",
    "        for pos_field in field_search('pos_{}'.format(i),df):\n",
    "            target_field = 'target' + pos_field[5:]\n",
    "            col_dict[target_field] = pos_df[pos_field]\n",
    "        target_df = pd.concat(col_dict, axis=1)\n",
    "        target_df = pd.concat([pos_df, target_df], axis=1) \n",
    "        df_list.append(target_df)\n",
    "    df_faction = pd.concat(df_list)\n",
    "    # display(df_faction['target_score'])\n",
    "    df_faction['target_score'] = df_faction['target_score'] + df_faction['target_bid']\n",
    "    # display(df_faction['target_score'])\n",
    "    # display(df_faction['target_score_bid'].value_counts())\n",
    "    return df_faction"
   ]
  },
  {
   "cell_type": "code",
   "execution_count": 41,
   "id": "44c3b55f-6d07-4825-bf64-77fea78fa69c",
   "metadata": {},
   "outputs": [],
   "source": [
    "def getTableHTML(df):\n",
    "    \n",
    "    \"\"\"\n",
    "    From https://stackoverflow.com/a/49687866/2007153\n",
    "    \n",
    "    Get a Jupyter like html of pandas dataframe\n",
    "    \n",
    "    \"\"\"\n",
    "\n",
    "    \n",
    "    styles = [\n",
    "        #table properties\n",
    "        dict(selector=\" \", \n",
    "             props=[(\"margin\",\"0\"),\n",
    "                    (\"font-family\",'\"Helvetica\", \"Arial\", sans-serif'),\n",
    "                    (\"border-collapse\", \"collapse\"),\n",
    "                    (\"border\", \"none\"),\n",
    "                    (\"border\",\"1px solid #ddd\")\n",
    "                       ]),\n",
    "\n",
    "        #header color - optional\n",
    "        dict(selector=\"thead\", \n",
    "             props=[(\"background-color\",\"#fff\")\n",
    "                   ]),\n",
    "\n",
    "        #background shading\n",
    "        dict(selector=\"tbody tr:nth-child(even)\",\n",
    "             props=[(\"background-color\", \"#cde\")]),\n",
    "        dict(selector=\"tbody tr:nth-child(odd)\",\n",
    "             props=[(\"background-color\", \"#eee\")]),\n",
    "\n",
    "        #cell spacing\n",
    "        dict(selector=\"td\", \n",
    "             props=[(\"padding\", \"1.0em\")]),\n",
    "\n",
    "        #header cell properties\n",
    "        dict(selector=\"th\", \n",
    "             props=[(\"font-size\", \"100%\"),\n",
    "                    (\"text-align\", \"center\")]),\n",
    "\n",
    "\n",
    "    ]\n",
    "    return (df.style.set_table_styles(styles).format({col: \"{:.2f}\" for col in assembled_df.columns[:-3]}))"
   ]
  },
  {
   "cell_type": "markdown",
   "id": "e31acb8e-c88f-41f1-a6c3-341ef2181f40",
   "metadata": {},
   "source": [
    "# Search Example"
   ]
  },
  {
   "cell_type": "code",
   "execution_count": 43,
   "id": "e22d9a94-dc49-4faf-b2d8-551da39fbb8f",
   "metadata": {},
   "outputs": [
    {
     "data": {
      "text/plain": [
       "['pos_1_fed_12vp',\n",
       " 'pos_1_fed_2o',\n",
       " 'pos_1_adv_tech_taken_3vp_per_fed_pass',\n",
       " 'pos_1_adv_tech_taken_5vp_per_fed',\n",
       " 'pos_1_feds_taken',\n",
       " 'pos_1_fed_gleens',\n",
       " 'pos_1_fed_2pw',\n",
       " 'pos_1_score_fed',\n",
       " 'pos_1_fed_qic',\n",
       " 'pos_1_fed_6c',\n",
       " 'pos_1_fed_2k']"
      ]
     },
     "execution_count": 43,
     "metadata": {},
     "output_type": "execute_result"
    }
   ],
   "source": [
    "look_cols = list(field_search('fed') - (field_search('pos_') - field_search('pos_1')))\n",
    "look_cols"
   ]
  },
  {
   "cell_type": "markdown",
   "id": "e184f2c4-c7ac-4542-8636-402100077d5f",
   "metadata": {},
   "source": [
    "# Basic Data Cleaning"
   ]
  },
  {
   "cell_type": "code",
   "execution_count": 44,
   "id": "d2d4edd6-3409-4eaa-a4d2-f01d280c71b3",
   "metadata": {},
   "outputs": [],
   "source": [
    "# Fields with one column for each player\n",
    "PLAYER_DROP_FIELDS = ['_research_level_dip']\n",
    "\n",
    "# Fields with only one column for the table\n",
    "SINGLE_DROP_FIELDS = ['Unnamed: 0']\n",
    "\n",
    "drop_col_list = []\n",
    "for field in PLAYER_DROP_FIELDS:\n",
    "    drop_col_list += all_players(field)\n",
    "drop_col_list += SINGLE_DROP_FIELDS\n",
    "df_cleaned = df_all.drop(columns=drop_col_list,errors='ignore')"
   ]
  },
  {
   "cell_type": "code",
   "execution_count": 45,
   "id": "eb9f7a66-acdf-48f0-b695-1e6f31418736",
   "metadata": {},
   "outputs": [
    {
     "name": "stdout",
     "output_type": "stream",
     "text": [
      "Sample size after cleaning 6714\n"
     ]
    }
   ],
   "source": [
    "print('Sample size after cleaning', len(df_cleaned))"
   ]
  },
  {
   "cell_type": "markdown",
   "id": "13b9af86-ed6f-4a01-a82c-c39869995c92",
   "metadata": {},
   "source": [
    "# Filtering"
   ]
  },
  {
   "cell_type": "code",
   "execution_count": 46,
   "id": "0883a8a1-a00b-4abe-b4cc-ac5627cb662c",
   "metadata": {},
   "outputs": [],
   "source": [
    "VARIANTS = ['standard'] # Possible values: ['standard','more-balanced','beta']\n",
    "\n",
    "MAP_LAYOUTS = ['standard'] # Possible to include 'xshape', but doesn't make sense for 4p\n",
    "\n",
    "# 4 player games only\n",
    "df_filtered = df_cleaned.loc[df_cleaned.num_players == 4]\n",
    "\n",
    "# Filter variants\n",
    "df_filtered = df_filtered.loc[df_filtered.balance_variant.isin(VARIANTS)]\n",
    "\n",
    "# Filter map layout\n",
    "df_filtered = df_filtered.loc[df_filtered.map_layout.isin(MAP_LAYOUTS)]\n",
    "\n",
    "# Remove games where any player is dropped\n",
    "for col in all_players('_dropped'):\n",
    "    df_filtered = df_filtered.loc[(df_filtered[col] == False)]\n"
   ]
  },
  {
   "cell_type": "code",
   "execution_count": 47,
   "id": "7e3a0d52-5329-4129-b3ce-7ba9a0e8956d",
   "metadata": {},
   "outputs": [
    {
     "name": "stdout",
     "output_type": "stream",
     "text": [
      "Sample size after filtering 4323\n"
     ]
    }
   ],
   "source": [
    "print('Sample size after filtering', len(df_filtered))"
   ]
  },
  {
   "cell_type": "markdown",
   "id": "376105ca-7c06-49ff-81ab-3dd1a51cb426",
   "metadata": {},
   "source": [
    "# R1 Actions"
   ]
  },
  {
   "cell_type": "code",
   "execution_count": 48,
   "id": "4b1f86ad-2a09-4c4c-8132-e5afa3a140b3",
   "metadata": {},
   "outputs": [],
   "source": [
    "faction_list = df_cleaned.pos_1_faction.unique()\n",
    "assert(len(faction_list) == 14)"
   ]
  },
  {
   "cell_type": "code",
   "execution_count": 55,
   "id": "5535972e-d000-4325-a34a-c553f305cbbb",
   "metadata": {},
   "outputs": [
    {
     "data": {
      "text/plain": [
       "{'pos_1_action_r_1_power3',\n",
       " 'pos_2_action_r_1_power3',\n",
       " 'pos_3_action_r_1_power3',\n",
       " 'pos_4_action_r_1_power3'}"
      ]
     },
     "execution_count": 55,
     "metadata": {},
     "output_type": "execute_result"
    }
   ],
   "source": [
    "field_search('power3').intersection(field_search('r_1'))"
   ]
  },
  {
   "cell_type": "code",
   "execution_count": null,
   "id": "9251e15c-6d66-415e-afc9-f2df81b90c5d",
   "metadata": {},
   "outputs": [],
   "source": [
    "look_cols = list(field_search('power') - (field_search('pos_') - field_search('pos_1')))"
   ]
  },
  {
   "cell_type": "code",
   "execution_count": 59,
   "id": "06b01eb7-f51c-4bb1-a643-10c6436256e0",
   "metadata": {},
   "outputs": [
    {
     "data": {
      "text/html": [
       "<style type=\"text/css\">\n",
       "#T_ec347   {\n",
       "  margin: 0;\n",
       "  font-family: \"Helvetica\", \"Arial\", sans-serif;\n",
       "  border-collapse: collapse;\n",
       "  border: none;\n",
       "  border: 1px solid #ddd;\n",
       "}\n",
       "#T_ec347 thead {\n",
       "  background-color: #fff;\n",
       "}\n",
       "#T_ec347 tbody tr:nth-child(even) {\n",
       "  background-color: #cde;\n",
       "}\n",
       "#T_ec347 tbody tr:nth-child(odd) {\n",
       "  background-color: #eee;\n",
       "}\n",
       "#T_ec347 td {\n",
       "  padding: 1.0em;\n",
       "}\n",
       "#T_ec347 th {\n",
       "  font-size: 100%;\n",
       "  text-align: center;\n",
       "}\n",
       "</style>\n",
       "<table id=\"T_ec347\">\n",
       "  <thead>\n",
       "    <tr>\n",
       "      <th class=\"blank level0\" >&nbsp;</th>\n",
       "      <th id=\"T_ec347_level0_col0\" class=\"col_heading level0 col0\" >% took 2o action in R1</th>\n",
       "      <th id=\"T_ec347_level0_col1\" class=\"col_heading level0 col1\" >additional +pts if made if 2o in R1</th>\n",
       "    </tr>\n",
       "  </thead>\n",
       "  <tbody>\n",
       "    <tr>\n",
       "      <th id=\"T_ec347_level0_row0\" class=\"row_heading level0 row0\" >ivits</th>\n",
       "      <td id=\"T_ec347_row0_col0\" class=\"data row0 col0\" >48.087071</td>\n",
       "      <td id=\"T_ec347_row0_col1\" class=\"data row0 col1\" >2.519794</td>\n",
       "    </tr>\n",
       "    <tr>\n",
       "      <th id=\"T_ec347_level0_row1\" class=\"row_heading level0 row1\" >taklons</th>\n",
       "      <td id=\"T_ec347_row1_col0\" class=\"data row1 col0\" >44.262295</td>\n",
       "      <td id=\"T_ec347_row1_col1\" class=\"data row1 col1\" >6.406140</td>\n",
       "    </tr>\n",
       "    <tr>\n",
       "      <th id=\"T_ec347_level0_row2\" class=\"row_heading level0 row2\" >firaks</th>\n",
       "      <td id=\"T_ec347_row2_col0\" class=\"data row2 col0\" >32.642020</td>\n",
       "      <td id=\"T_ec347_row2_col1\" class=\"data row2 col1\" >8.627015</td>\n",
       "    </tr>\n",
       "    <tr>\n",
       "      <th id=\"T_ec347_level0_row3\" class=\"row_heading level0 row3\" >hadsch-hallas</th>\n",
       "      <td id=\"T_ec347_row3_col0\" class=\"data row3 col0\" >32.618409</td>\n",
       "      <td id=\"T_ec347_row3_col1\" class=\"data row3 col1\" >5.015655</td>\n",
       "    </tr>\n",
       "    <tr>\n",
       "      <th id=\"T_ec347_level0_row4\" class=\"row_heading level0 row4\" >itars</th>\n",
       "      <td id=\"T_ec347_row4_col0\" class=\"data row4 col0\" >28.145266</td>\n",
       "      <td id=\"T_ec347_row4_col1\" class=\"data row4 col1\" >3.300642</td>\n",
       "    </tr>\n",
       "    <tr>\n",
       "      <th id=\"T_ec347_level0_row5\" class=\"row_heading level0 row5\" >xenos</th>\n",
       "      <td id=\"T_ec347_row5_col0\" class=\"data row5 col0\" >22.391858</td>\n",
       "      <td id=\"T_ec347_row5_col1\" class=\"data row5 col1\" >5.709548</td>\n",
       "    </tr>\n",
       "    <tr>\n",
       "      <th id=\"T_ec347_level0_row6\" class=\"row_heading level0 row6\" >nevlas</th>\n",
       "      <td id=\"T_ec347_row6_col0\" class=\"data row6 col0\" >20.964750</td>\n",
       "      <td id=\"T_ec347_row6_col1\" class=\"data row6 col1\" >3.936551</td>\n",
       "    </tr>\n",
       "    <tr>\n",
       "      <th id=\"T_ec347_level0_row7\" class=\"row_heading level0 row7\" >bescods</th>\n",
       "      <td id=\"T_ec347_row7_col0\" class=\"data row7 col0\" >20.101010</td>\n",
       "      <td id=\"T_ec347_row7_col1\" class=\"data row7 col1\" >4.421836</td>\n",
       "    </tr>\n",
       "    <tr>\n",
       "      <th id=\"T_ec347_level0_row8\" class=\"row_heading level0 row8\" >gleens</th>\n",
       "      <td id=\"T_ec347_row8_col0\" class=\"data row8 col0\" >17.575188</td>\n",
       "      <td id=\"T_ec347_row8_col1\" class=\"data row8 col1\" >1.041429</td>\n",
       "    </tr>\n",
       "    <tr>\n",
       "      <th id=\"T_ec347_level0_row9\" class=\"row_heading level0 row9\" >baltaks</th>\n",
       "      <td id=\"T_ec347_row9_col0\" class=\"data row9 col0\" >15.590947</td>\n",
       "      <td id=\"T_ec347_row9_col1\" class=\"data row9 col1\" >7.102002</td>\n",
       "    </tr>\n",
       "    <tr>\n",
       "      <th id=\"T_ec347_level0_row10\" class=\"row_heading level0 row10\" >ambas</th>\n",
       "      <td id=\"T_ec347_row10_col0\" class=\"data row10 col0\" >13.940371</td>\n",
       "      <td id=\"T_ec347_row10_col1\" class=\"data row10 col1\" >3.637543</td>\n",
       "    </tr>\n",
       "    <tr>\n",
       "      <th id=\"T_ec347_level0_row11\" class=\"row_heading level0 row11\" >terrans</th>\n",
       "      <td id=\"T_ec347_row11_col0\" class=\"data row11 col0\" >12.614679</td>\n",
       "      <td id=\"T_ec347_row11_col1\" class=\"data row11 col1\" >5.285571</td>\n",
       "    </tr>\n",
       "    <tr>\n",
       "      <th id=\"T_ec347_level0_row12\" class=\"row_heading level0 row12\" >geodens</th>\n",
       "      <td id=\"T_ec347_row12_col0\" class=\"data row12 col0\" >12.602965</td>\n",
       "      <td id=\"T_ec347_row12_col1\" class=\"data row12 col1\" >2.032346</td>\n",
       "    </tr>\n",
       "    <tr>\n",
       "      <th id=\"T_ec347_level0_row13\" class=\"row_heading level0 row13\" >lantids</th>\n",
       "      <td id=\"T_ec347_row13_col0\" class=\"data row13 col0\" >6.666667</td>\n",
       "      <td id=\"T_ec347_row13_col1\" class=\"data row13 col1\" >5.916667</td>\n",
       "    </tr>\n",
       "  </tbody>\n",
       "</table>\n"
      ],
      "text/plain": [
       "<pandas.io.formats.style.Styler at 0x11c5bb610>"
      ]
     },
     "execution_count": 59,
     "metadata": {},
     "output_type": "execute_result"
    }
   ],
   "source": [
    "pd.options.display.float_format = '{:.2}'.format\n",
    "for i in [3,2,1]:\n",
    "    full_dict = {}\n",
    "    sort_key = '% took 2o action in R{}'.format(i)\n",
    "    for faction in faction_list:\n",
    "        faction_dict = {}\n",
    "        faction_df = get_faction_df(df_filtered, faction)\n",
    "        r_2o_df = faction_df[faction_df['target_action_r_{}_power3'.format(i)] == 1]\n",
    "        faction_dict[sort_key] = len(r_2o_df)/len(faction_df) * 100\n",
    "        faction_dict['additional +pts if made if 2o in R{}'.format(i)] = r_2o_df.target_score.mean() - faction_df.target_score.mean()\n",
    "        # faction_dict['+pts if 5vp/fed scoring R{}'.format(i)] = fed_scoring.target_score.mean() - faction_df.target_score.mean()\n",
    "        # faction_dict['overall avg score'] = faction_df.target_score.mean()\n",
    "        # faction_dict['avg score if 5vp/fed scoring R{}'.format(i)] = fed_scoring.target_score.mean()\n",
    "        # faction_dict['avg score if made fed in 5vp/fed scoring R{}'.format(i)] = made_fed.target_score.mean()\n",
    "        # faction_dict['% players pick if 5vp/fed scoring R{}'.format(i)] = ((fed_scoring.shape[0]/faction_df.shape[0])*100)\n",
    "        # faction_dict['total games'] = faction_df.shape[0]\n",
    "        # faction_dict['games with 5vp/fed scoring R{}'.format(i)] = fed_scoring.shape[0]\n",
    "        # faction_dict['games fed made in 5vp/fed scoring R{}'.format(i)] = made_fed.shape[0]\n",
    "        full_dict[faction] = faction_dict\n",
    "    assembled_df = pd.DataFrame.from_dict(full_dict,orient='index').sort_values(by=sort_key, ascending=False)\n",
    "    html_df = getTableHTML(assembled_df)\n",
    "    \n",
    "    with open('r{}_2o.html'.format(i), 'w') as fo:\n",
    "        fo.write(html_df.to_html())\n",
    "html_df"
   ]
  },
  {
   "cell_type": "code",
   "execution_count": null,
   "id": "93c2a783-9825-48a4-86ab-9a013c554105",
   "metadata": {},
   "outputs": [],
   "source": []
  },
  {
   "cell_type": "markdown",
   "id": "3469ad73-4619-4ec3-a2cb-ff597ca42b88",
   "metadata": {},
   "source": [
    "# Faction Early Feds"
   ]
  },
  {
   "cell_type": "code",
   "execution_count": 13,
   "id": "b64a1d24-1b60-4150-b684-68400fc96f93",
   "metadata": {},
   "outputs": [],
   "source": [
    "faction_list = df_cleaned.pos_1_faction.unique()\n",
    "assert(len(faction_list) == 14)"
   ]
  },
  {
   "cell_type": "code",
   "execution_count": 14,
   "id": "363a2352-8e4f-4bb8-b8d6-bf69416abf34",
   "metadata": {
    "tags": []
   },
   "outputs": [
    {
     "data": {
      "text/html": [
       "<style type=\"text/css\">\n",
       "#T_1da60   {\n",
       "  margin: 0;\n",
       "  font-family: \"Helvetica\", \"Arial\", sans-serif;\n",
       "  border-collapse: collapse;\n",
       "  border: none;\n",
       "  border: 1px solid #ddd;\n",
       "}\n",
       "#T_1da60 thead {\n",
       "  background-color: #fff;\n",
       "}\n",
       "#T_1da60 tbody tr:nth-child(even) {\n",
       "  background-color: #cde;\n",
       "}\n",
       "#T_1da60 tbody tr:nth-child(odd) {\n",
       "  background-color: #eee;\n",
       "}\n",
       "#T_1da60 td {\n",
       "  padding: 1.0em;\n",
       "}\n",
       "#T_1da60 th {\n",
       "  font-size: 100%;\n",
       "  text-align: center;\n",
       "}\n",
       "</style>\n",
       "<table id=\"T_1da60\">\n",
       "  <thead>\n",
       "    <tr>\n",
       "      <th class=\"blank level0\" >&nbsp;</th>\n",
       "      <th id=\"T_1da60_level0_col0\" class=\"col_heading level0 col0\" >% made fed in 5vp/fed round R1</th>\n",
       "      <th id=\"T_1da60_level0_col1\" class=\"col_heading level0 col1\" >if 5vp/fed scoring R1, additional +pts if made fed</th>\n",
       "      <th id=\"T_1da60_level0_col2\" class=\"col_heading level0 col2\" >+pts if 5vp/fed scoring R1</th>\n",
       "      <th id=\"T_1da60_level0_col3\" class=\"col_heading level0 col3\" >overall avg score</th>\n",
       "      <th id=\"T_1da60_level0_col4\" class=\"col_heading level0 col4\" >avg score if 5vp/fed scoring R1</th>\n",
       "      <th id=\"T_1da60_level0_col5\" class=\"col_heading level0 col5\" >avg score if made fed in 5vp/fed scoring R1</th>\n",
       "      <th id=\"T_1da60_level0_col6\" class=\"col_heading level0 col6\" >% players pick if 5vp/fed scoring R1</th>\n",
       "      <th id=\"T_1da60_level0_col7\" class=\"col_heading level0 col7\" >total games</th>\n",
       "      <th id=\"T_1da60_level0_col8\" class=\"col_heading level0 col8\" >games with 5vp/fed scoring R1</th>\n",
       "      <th id=\"T_1da60_level0_col9\" class=\"col_heading level0 col9\" >games fed made in 5vp/fed scoring R1</th>\n",
       "    </tr>\n",
       "  </thead>\n",
       "  <tbody>\n",
       "    <tr>\n",
       "      <th id=\"T_1da60_level0_row0\" class=\"row_heading level0 row0\" >ivits</th>\n",
       "      <td id=\"T_1da60_row0_col0\" class=\"data row0 col0\" >74.60</td>\n",
       "      <td id=\"T_1da60_row0_col1\" class=\"data row0 col1\" >4.45</td>\n",
       "      <td id=\"T_1da60_row0_col2\" class=\"data row0 col2\" >-2.93</td>\n",
       "      <td id=\"T_1da60_row0_col3\" class=\"data row0 col3\" >158.20</td>\n",
       "      <td id=\"T_1da60_row0_col4\" class=\"data row0 col4\" >155.27</td>\n",
       "      <td id=\"T_1da60_row0_col5\" class=\"data row0 col5\" >159.72</td>\n",
       "      <td id=\"T_1da60_row0_col6\" class=\"data row0 col6\" >12.47</td>\n",
       "      <td id=\"T_1da60_row0_col7\" class=\"data row0 col7\" >1516</td>\n",
       "      <td id=\"T_1da60_row0_col8\" class=\"data row0 col8\" >189</td>\n",
       "      <td id=\"T_1da60_row0_col9\" class=\"data row0 col9\" >141</td>\n",
       "    </tr>\n",
       "    <tr>\n",
       "      <th id=\"T_1da60_level0_row1\" class=\"row_heading level0 row1\" >gleens</th>\n",
       "      <td id=\"T_1da60_row1_col0\" class=\"data row1 col0\" >20.34</td>\n",
       "      <td id=\"T_1da60_row1_col1\" class=\"data row1 col1\" >-14.45</td>\n",
       "      <td id=\"T_1da60_row1_col2\" class=\"data row1 col2\" >-10.46</td>\n",
       "      <td id=\"T_1da60_row1_col3\" class=\"data row1 col3\" >141.28</td>\n",
       "      <td id=\"T_1da60_row1_col4\" class=\"data row1 col4\" >130.82</td>\n",
       "      <td id=\"T_1da60_row1_col5\" class=\"data row1 col5\" >116.38</td>\n",
       "      <td id=\"T_1da60_row1_col6\" class=\"data row1 col6\" >11.09</td>\n",
       "      <td id=\"T_1da60_row1_col7\" class=\"data row1 col7\" >1064</td>\n",
       "      <td id=\"T_1da60_row1_col8\" class=\"data row1 col8\" >118</td>\n",
       "      <td id=\"T_1da60_row1_col9\" class=\"data row1 col9\" >24</td>\n",
       "    </tr>\n",
       "    <tr>\n",
       "      <th id=\"T_1da60_level0_row2\" class=\"row_heading level0 row2\" >lantids</th>\n",
       "      <td id=\"T_1da60_row2_col0\" class=\"data row2 col0\" >12.05</td>\n",
       "      <td id=\"T_1da60_row2_col1\" class=\"data row2 col1\" >4.48</td>\n",
       "      <td id=\"T_1da60_row2_col2\" class=\"data row2 col2\" >-2.03</td>\n",
       "      <td id=\"T_1da60_row2_col3\" class=\"data row2 col3\" >143.45</td>\n",
       "      <td id=\"T_1da60_row2_col4\" class=\"data row2 col4\" >141.42</td>\n",
       "      <td id=\"T_1da60_row2_col5\" class=\"data row2 col5\" >145.90</td>\n",
       "      <td id=\"T_1da60_row2_col6\" class=\"data row2 col6\" >9.22</td>\n",
       "      <td id=\"T_1da60_row2_col7\" class=\"data row2 col7\" >900</td>\n",
       "      <td id=\"T_1da60_row2_col8\" class=\"data row2 col8\" >83</td>\n",
       "      <td id=\"T_1da60_row2_col9\" class=\"data row2 col9\" >10</td>\n",
       "    </tr>\n",
       "    <tr>\n",
       "      <th id=\"T_1da60_level0_row3\" class=\"row_heading level0 row3\" >xenos</th>\n",
       "      <td id=\"T_1da60_row3_col0\" class=\"data row3 col0\" >4.67</td>\n",
       "      <td id=\"T_1da60_row3_col1\" class=\"data row3 col1\" >-17.44</td>\n",
       "      <td id=\"T_1da60_row3_col2\" class=\"data row3 col2\" >-4.26</td>\n",
       "      <td id=\"T_1da60_row3_col3\" class=\"data row3 col3\" >143.51</td>\n",
       "      <td id=\"T_1da60_row3_col4\" class=\"data row3 col4\" >139.24</td>\n",
       "      <td id=\"T_1da60_row3_col5\" class=\"data row3 col5\" >121.80</td>\n",
       "      <td id=\"T_1da60_row3_col6\" class=\"data row3 col6\" >9.08</td>\n",
       "      <td id=\"T_1da60_row3_col7\" class=\"data row3 col7\" >1179</td>\n",
       "      <td id=\"T_1da60_row3_col8\" class=\"data row3 col8\" >107</td>\n",
       "      <td id=\"T_1da60_row3_col9\" class=\"data row3 col9\" >5</td>\n",
       "    </tr>\n",
       "    <tr>\n",
       "      <th id=\"T_1da60_level0_row4\" class=\"row_heading level0 row4\" >hadsch-hallas</th>\n",
       "      <td id=\"T_1da60_row4_col0\" class=\"data row4 col0\" >2.73</td>\n",
       "      <td id=\"T_1da60_row4_col1\" class=\"data row4 col1\" >-22.55</td>\n",
       "      <td id=\"T_1da60_row4_col2\" class=\"data row4 col2\" >-5.41</td>\n",
       "      <td id=\"T_1da60_row4_col3\" class=\"data row4 col3\" >145.63</td>\n",
       "      <td id=\"T_1da60_row4_col4\" class=\"data row4 col4\" >140.22</td>\n",
       "      <td id=\"T_1da60_row4_col5\" class=\"data row4 col5\" >117.67</td>\n",
       "      <td id=\"T_1da60_row4_col6\" class=\"data row4 col6\" >9.83</td>\n",
       "      <td id=\"T_1da60_row4_col7\" class=\"data row4 col7\" >1119</td>\n",
       "      <td id=\"T_1da60_row4_col8\" class=\"data row4 col8\" >110</td>\n",
       "      <td id=\"T_1da60_row4_col9\" class=\"data row4 col9\" >3</td>\n",
       "    </tr>\n",
       "    <tr>\n",
       "      <th id=\"T_1da60_level0_row5\" class=\"row_heading level0 row5\" >taklons</th>\n",
       "      <td id=\"T_1da60_row5_col0\" class=\"data row5 col0\" >1.39</td>\n",
       "      <td id=\"T_1da60_row5_col1\" class=\"data row5 col1\" >2.48</td>\n",
       "      <td id=\"T_1da60_row5_col2\" class=\"data row5 col2\" >-0.02</td>\n",
       "      <td id=\"T_1da60_row5_col3\" class=\"data row5 col3\" >160.04</td>\n",
       "      <td id=\"T_1da60_row5_col4\" class=\"data row5 col4\" >160.02</td>\n",
       "      <td id=\"T_1da60_row5_col5\" class=\"data row5 col5\" >162.50</td>\n",
       "      <td id=\"T_1da60_row5_col6\" class=\"data row5 col6\" >10.26</td>\n",
       "      <td id=\"T_1da60_row5_col7\" class=\"data row5 col7\" >1403</td>\n",
       "      <td id=\"T_1da60_row5_col8\" class=\"data row5 col8\" >144</td>\n",
       "      <td id=\"T_1da60_row5_col9\" class=\"data row5 col9\" >2</td>\n",
       "    </tr>\n",
       "    <tr>\n",
       "      <th id=\"T_1da60_level0_row6\" class=\"row_heading level0 row6\" >nevlas</th>\n",
       "      <td id=\"T_1da60_row6_col0\" class=\"data row6 col0\" >0.93</td>\n",
       "      <td id=\"T_1da60_row6_col1\" class=\"data row6 col1\" >33.84</td>\n",
       "      <td id=\"T_1da60_row6_col2\" class=\"data row6 col2\" >1.18</td>\n",
       "      <td id=\"T_1da60_row6_col3\" class=\"data row6 col3\" >148.97</td>\n",
       "      <td id=\"T_1da60_row6_col4\" class=\"data row6 col4\" >150.16</td>\n",
       "      <td id=\"T_1da60_row6_col5\" class=\"data row6 col5\" >184.00</td>\n",
       "      <td id=\"T_1da60_row6_col6\" class=\"data row6 col6\" >10.02</td>\n",
       "      <td id=\"T_1da60_row6_col7\" class=\"data row6 col7\" >1078</td>\n",
       "      <td id=\"T_1da60_row6_col8\" class=\"data row6 col8\" >108</td>\n",
       "      <td id=\"T_1da60_row6_col9\" class=\"data row6 col9\" >1</td>\n",
       "    </tr>\n",
       "    <tr>\n",
       "      <th id=\"T_1da60_level0_row7\" class=\"row_heading level0 row7\" >ambas</th>\n",
       "      <td id=\"T_1da60_row7_col0\" class=\"data row7 col0\" >0.88</td>\n",
       "      <td id=\"T_1da60_row7_col1\" class=\"data row7 col1\" >0.90</td>\n",
       "      <td id=\"T_1da60_row7_col2\" class=\"data row7 col2\" >-3.57</td>\n",
       "      <td id=\"T_1da60_row7_col3\" class=\"data row7 col3\" >151.67</td>\n",
       "      <td id=\"T_1da60_row7_col4\" class=\"data row7 col4\" >148.10</td>\n",
       "      <td id=\"T_1da60_row7_col5\" class=\"data row7 col5\" >149.00</td>\n",
       "      <td id=\"T_1da60_row7_col6\" class=\"data row7 col6\" >9.11</td>\n",
       "      <td id=\"T_1da60_row7_col7\" class=\"data row7 col7\" >1241</td>\n",
       "      <td id=\"T_1da60_row7_col8\" class=\"data row7 col8\" >113</td>\n",
       "      <td id=\"T_1da60_row7_col9\" class=\"data row7 col9\" >1</td>\n",
       "    </tr>\n",
       "    <tr>\n",
       "      <th id=\"T_1da60_level0_row8\" class=\"row_heading level0 row8\" >geodens</th>\n",
       "      <td id=\"T_1da60_row8_col0\" class=\"data row8 col0\" >0.85</td>\n",
       "      <td id=\"T_1da60_row8_col1\" class=\"data row8 col1\" >32.65</td>\n",
       "      <td id=\"T_1da60_row8_col2\" class=\"data row8 col2\" >-3.29</td>\n",
       "      <td id=\"T_1da60_row8_col3\" class=\"data row8 col3\" >143.64</td>\n",
       "      <td id=\"T_1da60_row8_col4\" class=\"data row8 col4\" >140.35</td>\n",
       "      <td id=\"T_1da60_row8_col5\" class=\"data row8 col5\" >173.00</td>\n",
       "      <td id=\"T_1da60_row8_col6\" class=\"data row8 col6\" >9.72</td>\n",
       "      <td id=\"T_1da60_row8_col7\" class=\"data row8 col7\" >1214</td>\n",
       "      <td id=\"T_1da60_row8_col8\" class=\"data row8 col8\" >118</td>\n",
       "      <td id=\"T_1da60_row8_col9\" class=\"data row8 col9\" >1</td>\n",
       "    </tr>\n",
       "    <tr>\n",
       "      <th id=\"T_1da60_level0_row9\" class=\"row_heading level0 row9\" >itars</th>\n",
       "      <td id=\"T_1da60_row9_col0\" class=\"data row9 col0\" >0.63</td>\n",
       "      <td id=\"T_1da60_row9_col1\" class=\"data row9 col1\" >13.71</td>\n",
       "      <td id=\"T_1da60_row9_col2\" class=\"data row9 col2\" >-3.98</td>\n",
       "      <td id=\"T_1da60_row9_col3\" class=\"data row9 col3\" >160.27</td>\n",
       "      <td id=\"T_1da60_row9_col4\" class=\"data row9 col4\" >156.29</td>\n",
       "      <td id=\"T_1da60_row9_col5\" class=\"data row9 col5\" >170.00</td>\n",
       "      <td id=\"T_1da60_row9_col6\" class=\"data row9 col6\" >10.25</td>\n",
       "      <td id=\"T_1da60_row9_col7\" class=\"data row9 col7\" >1542</td>\n",
       "      <td id=\"T_1da60_row9_col8\" class=\"data row9 col8\" >158</td>\n",
       "      <td id=\"T_1da60_row9_col9\" class=\"data row9 col9\" >1</td>\n",
       "    </tr>\n",
       "    <tr>\n",
       "      <th id=\"T_1da60_level0_row10\" class=\"row_heading level0 row10\" >terrans</th>\n",
       "      <td id=\"T_1da60_row10_col0\" class=\"data row10 col0\" >0.00</td>\n",
       "      <td id=\"T_1da60_row10_col1\" class=\"data row10 col1\" >nan</td>\n",
       "      <td id=\"T_1da60_row10_col2\" class=\"data row10 col2\" >0.26</td>\n",
       "      <td id=\"T_1da60_row10_col3\" class=\"data row10 col3\" >150.84</td>\n",
       "      <td id=\"T_1da60_row10_col4\" class=\"data row10 col4\" >151.10</td>\n",
       "      <td id=\"T_1da60_row10_col5\" class=\"data row10 col5\" >nan</td>\n",
       "      <td id=\"T_1da60_row10_col6\" class=\"data row10 col6\" >9.98</td>\n",
       "      <td id=\"T_1da60_row10_col7\" class=\"data row10 col7\" >1744</td>\n",
       "      <td id=\"T_1da60_row10_col8\" class=\"data row10 col8\" >174</td>\n",
       "      <td id=\"T_1da60_row10_col9\" class=\"data row10 col9\" >0</td>\n",
       "    </tr>\n",
       "    <tr>\n",
       "      <th id=\"T_1da60_level0_row11\" class=\"row_heading level0 row11\" >firaks</th>\n",
       "      <td id=\"T_1da60_row11_col0\" class=\"data row11 col0\" >0.00</td>\n",
       "      <td id=\"T_1da60_row11_col1\" class=\"data row11 col1\" >nan</td>\n",
       "      <td id=\"T_1da60_row11_col2\" class=\"data row11 col2\" >-5.73</td>\n",
       "      <td id=\"T_1da60_row11_col3\" class=\"data row11 col3\" >153.00</td>\n",
       "      <td id=\"T_1da60_row11_col4\" class=\"data row11 col4\" >147.26</td>\n",
       "      <td id=\"T_1da60_row11_col5\" class=\"data row11 col5\" >nan</td>\n",
       "      <td id=\"T_1da60_row11_col6\" class=\"data row11 col6\" >10.64</td>\n",
       "      <td id=\"T_1da60_row11_col7\" class=\"data row11 col7\" >1109</td>\n",
       "      <td id=\"T_1da60_row11_col8\" class=\"data row11 col8\" >118</td>\n",
       "      <td id=\"T_1da60_row11_col9\" class=\"data row11 col9\" >0</td>\n",
       "    </tr>\n",
       "    <tr>\n",
       "      <th id=\"T_1da60_level0_row12\" class=\"row_heading level0 row12\" >baltaks</th>\n",
       "      <td id=\"T_1da60_row12_col0\" class=\"data row12 col0\" >0.00</td>\n",
       "      <td id=\"T_1da60_row12_col1\" class=\"data row12 col1\" >nan</td>\n",
       "      <td id=\"T_1da60_row12_col2\" class=\"data row12 col2\" >-1.53</td>\n",
       "      <td id=\"T_1da60_row12_col3\" class=\"data row12 col3\" >149.85</td>\n",
       "      <td id=\"T_1da60_row12_col4\" class=\"data row12 col4\" >148.33</td>\n",
       "      <td id=\"T_1da60_row12_col5\" class=\"data row12 col5\" >nan</td>\n",
       "      <td id=\"T_1da60_row12_col6\" class=\"data row12 col6\" >9.72</td>\n",
       "      <td id=\"T_1da60_row12_col7\" class=\"data row12 col7\" >1193</td>\n",
       "      <td id=\"T_1da60_row12_col8\" class=\"data row12 col8\" >116</td>\n",
       "      <td id=\"T_1da60_row12_col9\" class=\"data row12 col9\" >0</td>\n",
       "    </tr>\n",
       "    <tr>\n",
       "      <th id=\"T_1da60_level0_row13\" class=\"row_heading level0 row13\" >bescods</th>\n",
       "      <td id=\"T_1da60_row13_col0\" class=\"data row13 col0\" >0.00</td>\n",
       "      <td id=\"T_1da60_row13_col1\" class=\"data row13 col1\" >nan</td>\n",
       "      <td id=\"T_1da60_row13_col2\" class=\"data row13 col2\" >-6.60</td>\n",
       "      <td id=\"T_1da60_row13_col3\" class=\"data row13 col3\" >141.85</td>\n",
       "      <td id=\"T_1da60_row13_col4\" class=\"data row13 col4\" >135.25</td>\n",
       "      <td id=\"T_1da60_row13_col5\" class=\"data row13 col5\" >nan</td>\n",
       "      <td id=\"T_1da60_row13_col6\" class=\"data row13 col6\" >9.29</td>\n",
       "      <td id=\"T_1da60_row13_col7\" class=\"data row13 col7\" >990</td>\n",
       "      <td id=\"T_1da60_row13_col8\" class=\"data row13 col8\" >92</td>\n",
       "      <td id=\"T_1da60_row13_col9\" class=\"data row13 col9\" >0</td>\n",
       "    </tr>\n",
       "  </tbody>\n",
       "</table>\n"
      ],
      "text/plain": [
       "<pandas.io.formats.style.Styler at 0x11c500a00>"
      ]
     },
     "execution_count": 14,
     "metadata": {},
     "output_type": "execute_result"
    }
   ],
   "source": [
    "pd.options.display.float_format = '{:.2}'.format\n",
    "for i in [3,2,1]:\n",
    "    full_dict = {}\n",
    "    sort_key = '% made fed in 5vp/fed round R{}'.format(i)\n",
    "    for faction in faction_list:\n",
    "        faction_dict = {}\n",
    "        faction_df = get_faction_df(df_filtered, faction)\n",
    "        fed_scoring = faction_df[faction_df['round_{}_scoring'.format(i)] == '5vp_per_fed_place']\n",
    "        made_fed = faction_df[(faction_df['round_{}_scoring'.format(i)] == '5vp_per_fed_place') & (faction_df['target_score_round{}'.format(i)] >= 5)]\n",
    "        faction_dict[sort_key] = len(made_fed)/len(fed_scoring) * 100\n",
    "        faction_dict['if 5vp/fed scoring R{}, additional +pts if made fed'.format(i)] = made_fed.target_score.mean() - fed_scoring.target_score.mean()\n",
    "        faction_dict['+pts if 5vp/fed scoring R{}'.format(i)] = fed_scoring.target_score.mean() - faction_df.target_score.mean()\n",
    "        faction_dict['overall avg score'] = faction_df.target_score.mean()\n",
    "        faction_dict['avg score if 5vp/fed scoring R{}'.format(i)] = fed_scoring.target_score.mean()\n",
    "        faction_dict['avg score if made fed in 5vp/fed scoring R{}'.format(i)] = made_fed.target_score.mean()\n",
    "        faction_dict['% players pick if 5vp/fed scoring R{}'.format(i)] = ((fed_scoring.shape[0]/faction_df.shape[0])*100)\n",
    "        faction_dict['total games'] = faction_df.shape[0]\n",
    "        faction_dict['games with 5vp/fed scoring R{}'.format(i)] = fed_scoring.shape[0]\n",
    "        faction_dict['games fed made in 5vp/fed scoring R{}'.format(i)] = made_fed.shape[0]\n",
    "        full_dict[faction] = faction_dict\n",
    "    assembled_df = pd.DataFrame.from_dict(full_dict,orient='index').sort_values(by=sort_key, ascending=False)\n",
    "    html_df = getTableHTML(assembled_df)\n",
    "    \n",
    "    with open('r{}_fed_details.html'.format(i), 'w') as fo:\n",
    "        fo.write(html_df.to_html())\n",
    "html_df"
   ]
  },
  {
   "cell_type": "code",
   "execution_count": null,
   "id": "714e88c1-43cb-4889-bd67-5f7c2cd24994",
   "metadata": {},
   "outputs": [],
   "source": []
  },
  {
   "cell_type": "code",
   "execution_count": 15,
   "id": "af38666f-b811-4c14-adbc-6b82146aef06",
   "metadata": {
    "tags": []
   },
   "outputs": [
    {
     "data": {
      "text/plain": [
       "standard         4961\n",
       "more-balanced    1610\n",
       "beta              143\n",
       "Name: balance_variant, dtype: int64"
      ]
     },
     "execution_count": 15,
     "metadata": {},
     "output_type": "execute_result"
    }
   ],
   "source": [
    "df_cleaned.balance_variant.value_counts()"
   ]
  },
  {
   "cell_type": "code",
   "execution_count": null,
   "id": "e2dc634b-1c35-4cef-8545-352a4f9627d7",
   "metadata": {},
   "outputs": [],
   "source": []
  },
  {
   "cell_type": "code",
   "execution_count": 16,
   "id": "c52834ec-f0ad-4e65-9ad0-1f9f6edb26c2",
   "metadata": {},
   "outputs": [
    {
     "ename": "NameError",
     "evalue": "name 'df_total' is not defined",
     "output_type": "error",
     "traceback": [
      "\u001b[0;31m---------------------------------------------------------------------------\u001b[0m",
      "\u001b[0;31mNameError\u001b[0m                                 Traceback (most recent call last)",
      "Input \u001b[0;32mIn [16]\u001b[0m, in \u001b[0;36m<cell line: 1>\u001b[0;34m()\u001b[0m\n\u001b[0;32m----> 1\u001b[0m \u001b[38;5;28mlen\u001b[39m(\u001b[43mdf_total\u001b[49m)\n",
      "\u001b[0;31mNameError\u001b[0m: name 'df_total' is not defined"
     ]
    }
   ],
   "source": [
    "len(df_total)"
   ]
  },
  {
   "cell_type": "code",
   "execution_count": null,
   "id": "bdc6b7b2-3564-4c52-8316-0abde0789763",
   "metadata": {
    "tags": []
   },
   "outputs": [],
   "source": [
    "[_ for _ in list(df_total.columns) if 'pos_1' in _]"
   ]
  },
  {
   "cell_type": "code",
   "execution_count": null,
   "id": "be0741c8-1499-4b58-a735-4d09c91123aa",
   "metadata": {},
   "outputs": [],
   "source": [
    "df = df_total.loc[df_total.average_elo > 400]"
   ]
  },
  {
   "cell_type": "code",
   "execution_count": null,
   "id": "5d0fa4ff-f71e-431e-a8af-d08eff72fefc",
   "metadata": {},
   "outputs": [],
   "source": [
    "df1 = df.loc[(df.pos_1_faction=='terrans') & (df.round_6_scoring=='4vp_per_gaia_place'), 'pos_1_score']\n",
    "df2 = df.loc[(df.pos_2_faction=='terrans') & (df.round_6_scoring=='4vp_per_gaia_place'), 'pos_2_score']\n",
    "df3 = df.loc[(df.pos_3_faction=='terrans') & (df.round_6_scoring=='4vp_per_gaia_place'), 'pos_3_score']\n",
    "df4 = df.loc[(df.pos_4_faction=='terrans') & (df.round_6_scoring=='4vp_per_gaia_place'), 'pos_4_score']\n",
    "# print(df1.mean(), df2.mean(), df3.mean(), df4.mean())\n",
    "# print(df1.size, df2.size, df3.size, df4.size)\n",
    "avg_4vp = (df1.sum() + df2.sum() + df3.sum() + df4.sum())/(df1.size + df2.size + df3.size + df4.size)\n",
    "df1 = df.loc[(df.pos_1_faction=='terrans'), 'pos_1_score']\n",
    "df2 = df.loc[(df.pos_2_faction=='terrans'), 'pos_2_score']\n",
    "df3 = df.loc[(df.pos_3_faction=='terrans'), 'pos_3_score']\n",
    "df4 = df.loc[(df.pos_4_faction=='terrans'), 'pos_4_score']\n",
    "# print(df1.mean(), df2.mean(), df3.mean(), df4.mean())\n",
    "# print(df1.size, df2.size, df3.size, df4.size)\n",
    "total_games = df1.size + df2.size + df3.size + df4.size\n",
    "avg_all = (df1.sum() + df2.sum() + df3.sum() + df4.sum())/total_games\n",
    "print(avg_4vp, avg_all, total_games)"
   ]
  },
  {
   "cell_type": "code",
   "execution_count": null,
   "id": "17546493-3290-45f9-8316-59134f96dbce",
   "metadata": {},
   "outputs": [],
   "source": [
    "df1 = df.loc[(df.pos_1_faction=='terrans') & (df.round_5_scoring=='4vp_per_gaia_place'), 'pos_1_score']\n",
    "df2 = df.loc[(df.pos_2_faction=='terrans') & (df.round_5_scoring=='4vp_per_gaia_place'), 'pos_2_score']\n",
    "df3 = df.loc[(df.pos_3_faction=='terrans') & (df.round_5_scoring=='4vp_per_gaia_place'), 'pos_3_score']\n",
    "df4 = df.loc[(df.pos_4_faction=='terrans') & (df.round_5_scoring=='4vp_per_gaia_place'), 'pos_4_score']\n",
    "# print(df1.mean(), df2.mean(), df3.mean(), df4.mean())\n",
    "# print(df1.size, df2.size, df3.size, df4.size)\n",
    "avg_4vp = (df1.sum() + df2.sum() + df3.sum() + df4.sum())/(df1.size + df2.size + df3.size + df4.size)\n",
    "df1 = df.loc[(df.pos_1_faction=='terrans'), 'pos_1_score']\n",
    "df2 = df.loc[(df.pos_2_faction=='terrans'), 'pos_2_score']\n",
    "df3 = df.loc[(df.pos_3_faction=='terrans'), 'pos_3_score']\n",
    "df4 = df.loc[(df.pos_4_faction=='terrans'), 'pos_4_score']\n",
    "# print(df1.mean(), df2.mean(), df3.mean(), df4.mean())\n",
    "# print(df1.size, df2.size, df3.size, df4.size)\n",
    "total_games = df1.size + df2.size + df3.size + df4.size\n",
    "avg_all = (df1.sum() + df2.sum() + df3.sum() + df4.sum())/total_games\n",
    "print(avg_4vp, avg_all, total_games)"
   ]
  },
  {
   "cell_type": "code",
   "execution_count": null,
   "id": "1ba1ae3f-e54f-4d1d-bd7c-64b6da08d09d",
   "metadata": {},
   "outputs": [],
   "source": []
  },
  {
   "cell_type": "code",
   "execution_count": null,
   "id": "9c379829-4f5e-4ec1-9a24-3d256b56d664",
   "metadata": {},
   "outputs": [],
   "source": [
    "list(range(1,4))"
   ]
  },
  {
   "cell_type": "markdown",
   "id": "afd89e2d-ccf6-483f-bdd0-82a1fd302906",
   "metadata": {},
   "source": []
  },
  {
   "cell_type": "code",
   "execution_count": null,
   "id": "141439bb-4dda-40f1-828a-3528eed1c828",
   "metadata": {},
   "outputs": [],
   "source": [
    "display(get_faction_dddf(df_cleaned,'ivits')['target_score'].mean())\n",
    "display(get_faction_df(df_cleaned,'lantids')['target_score'].mean())\n",
    "display(get_faction_df(df_cleaned,'ivits')['target_bid'].mean())\n",
    "display(get_faction_df(df_cleaned,'lantids')['target_bid'].mean())"
   ]
  }
 ],
 "metadata": {
  "kernelspec": {
   "display_name": "Python 3 (ipykernel)",
   "language": "python",
   "name": "python3"
  },
  "language_info": {
   "codemirror_mode": {
    "name": "ipython",
    "version": 3
   },
   "file_extension": ".py",
   "mimetype": "text/x-python",
   "name": "python",
   "nbconvert_exporter": "python",
   "pygments_lexer": "ipython3",
   "version": "3.9.13"
  }
 },
 "nbformat": 4,
 "nbformat_minor": 5
}
