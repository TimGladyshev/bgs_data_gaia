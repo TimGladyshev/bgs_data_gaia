{
 "cells": [
  {
   "cell_type": "code",
   "execution_count": 1,
   "id": "a562ba5f",
   "metadata": {},
   "outputs": [],
   "source": [
    "import pandas as pd\n",
    "import numpy as np\n",
    "from scipy import stats\n",
    "pd.set_option('display.max_rows', 200)\n",
    "pd.set_option('display.max_columns', 100)\n",
    "pd.set_option('display.width', 1000)\n",
    "import json\n",
    "from IPython.display import display\n",
    "from subprocess import check_output\n",
    "import sys\n",
    "import traceback\n",
    "from tqdm.notebook import tqdm, trange\n",
    "import plotly.graph_objects as go\n",
    "import plotly.express as px\n",
    "pd.options.mode.chained_assignment = None\n",
    "import warnings\n",
    "warnings.simplefilter(action='ignore', category=FutureWarning)"
   ]
  },
  {
   "cell_type": "code",
   "execution_count": 2,
   "id": "0b63ea8e",
   "metadata": {},
   "outputs": [],
   "source": [
    "techs = {\n",
    "    \"tech1\": \"1q_1o\",\n",
    "    \"tech2\": \"k_per_terra\",\n",
    "    \"tech3\": \"4pip\",\n",
    "    \"tech4\": \"7vp\",\n",
    "    \"tech5\": \"1o_1pw\",\n",
    "    \"tech6\": \"1k_1c\",\n",
    "    \"tech7\": \"3vp_per_gaia_place\",\n",
    "    \"tech8\": \"4c\",\n",
    "    \"tech9\": \"4pw\",\n",
    "    # idk wtf this is --> \"tech-ship0\"\n",
    "}\n",
    "\n",
    "adv_techs = {\n",
    "    \"advtech1\": \"3vp_per_fed_pass\",\n",
    "    \"advtech2\": \"2vp_per_tech_bump\",\n",
    "    \"advtech3\": \"1qic_5c_action\",\n",
    "    \"advtech4\": \"2vp_per_mine\",\n",
    "    \"advtech5\": \"3vp_per_rl_pass\",\n",
    "    \"advtech6\": \"1o_per_sector\",\n",
    "    \"advtech7\": \"1vp_per_terra_pass\",\n",
    "    \"advtech8\": \"2vp_per_gaia\",\n",
    "    \"advtech9\": \"4vp_per_ts\",\n",
    "    \"advtech10\": \"2vp_per_sector\",\n",
    "    \"advtech11\": \"3o_action\",\n",
    "    \"advtech12\": \"5vp_per_fed\",\n",
    "    \"advtech13\": \"3k_action\",\n",
    "    \"advtech14\": \"3vp_per_mine_place\",\n",
    "    \"advtech15\": \"3vp_per_ts_place\",\n",
    "}\n",
    "\n",
    "feds = {\n",
    "    \"fed1\": \"12vp\",\n",
    "    \"fed2\": \"qic\",\n",
    "    \"fed3\": \"2pw\",\n",
    "    \"fed4\": \"2o\",\n",
    "    \"fed5\": \"6c\",\n",
    "    \"fed6\": \"2k\",\n",
    "    \"gleens\": \"gleens\"\n",
    "}\n",
    "\n",
    "round_scorings = {\n",
    "    \"score1\": \"2vp_per_terra\",\n",
    "    \"score2\": \"2vp_per_research_bump\",\n",
    "    \"score3\": \"2vp_per_mine_place\",\n",
    "    \"score4\": \"5vp_per_fed_place\",\n",
    "    \"score5\": \"4vp_per_ts_place\",\n",
    "    \"score6\": \"4vp_per_gaia_place\",\n",
    "    \"score7\": \"5vp_per_3pip_place\",\n",
    "    \"score8\": \"3vp_per_ts_place\",\n",
    "    \"score9\": \"3vp_per_gaia_place\",\n",
    "    \"score10\": \"5vp_per_3pip_place\",\n",
    "}\n",
    "\n",
    "boosters = {\n",
    "\n",
    "    \"booster1\": \"1k_1o\",\n",
    "    \"booster2\": \"2pwt_1o\",\n",
    "    \"booster3\": \"1qic_2c\",\n",
    "    \"booster4\": \"2c_terra\",\n",
    "    \"booster5\": \"2pw_nav\",\n",
    "    \"booster6\": \"1o_1vp_per_mine\",\n",
    "    \"booster7\": \"1o_2vp_per_ts\",\n",
    "    \"booster8\": \"1k_3vp_per_rl\",\n",
    "    \"booster9\": \"4pw_4vp_per_3pip\",\n",
    "    \"booster10\": \"4c_1vp_per_gaia\",\n",
    "}\n",
    "\n",
    "bad_buildings = {\"colony\", \n",
    "                 \"colonyShip\", \n",
    "                 \"tradeShip\", \n",
    "                 \"constructionShip\", \n",
    "                 \"researchShip\",\n",
    "                 \"scout\",\n",
    "                 \"frigate\",\n",
    "                 \"battleShip\",\n",
    "                 \"customsPost\",\n",
    "                 \"tradePost\"\n",
    "                }\n",
    "\n",
    "factions = {\n",
    "    \"terrans\",\n",
    "    \"lantids\",\n",
    "    \"hadsch-hallas\",\n",
    "    \"ivits\",\n",
    "    \"baltaks\",\n",
    "    \"geodens\",\n",
    "    \"xenos\",\n",
    "    \"gleens\",\n",
    "    \"ambas\",\n",
    "    \"taklons\",\n",
    "    \"bescods\",\n",
    "    \"firaks\",\n",
    "    \"itars\",\n",
    "    \"nevlas\"\n",
    "}"
   ]
  },
  {
   "cell_type": "code",
   "execution_count": 13,
   "id": "57c9df2b",
   "metadata": {},
   "outputs": [],
   "source": [
    "dat_2 = pd.read_pickle(\"two_players_data\")\n",
    "dat_3 = pd.read_pickle(\"three_players_data\")\n",
    "dat_4 = pd.read_pickle(\"four_players_data\")"
   ]
  },
  {
   "cell_type": "code",
   "execution_count": 4,
   "id": "d2b889c9",
   "metadata": {},
   "outputs": [
    {
     "data": {
      "text/plain": [
       "count     10982\n",
       "unique        2\n",
       "top       False\n",
       "freq      10952\n",
       "Name: pos_1_dropped, dtype: object"
      ]
     },
     "execution_count": 4,
     "metadata": {},
     "output_type": "execute_result"
    }
   ],
   "source": [
    "dat_4['pos_1_dropped'].describe()"
   ]
  },
  {
   "cell_type": "code",
   "execution_count": 11,
   "id": "8bd74acd",
   "metadata": {},
   "outputs": [
    {
     "data": {
      "text/html": [
       "<div>\n",
       "<style scoped>\n",
       "    .dataframe tbody tr th:only-of-type {\n",
       "        vertical-align: middle;\n",
       "    }\n",
       "\n",
       "    .dataframe tbody tr th {\n",
       "        vertical-align: top;\n",
       "    }\n",
       "\n",
       "    .dataframe thead th {\n",
       "        text-align: right;\n",
       "    }\n",
       "</style>\n",
       "<table border=\"1\" class=\"dataframe\">\n",
       "  <thead>\n",
       "    <tr style=\"text-align: right;\">\n",
       "      <th></th>\n",
       "      <th>id</th>\n",
       "      <th>map_layout</th>\n",
       "      <th>balance_variant</th>\n",
       "      <th>num_players</th>\n",
       "      <th>1k_1o</th>\n",
       "      <th>2pwt_1o</th>\n",
       "      <th>1qic_2c</th>\n",
       "      <th>2c_terra</th>\n",
       "      <th>2pw_nav</th>\n",
       "      <th>1o_1vp_per_mine</th>\n",
       "      <th>1o_2vp_per_ts</th>\n",
       "      <th>1k_3vp_per_rl</th>\n",
       "      <th>4pw_4vp_per_3pip</th>\n",
       "      <th>4c_1vp_per_gaia</th>\n",
       "      <th>tech_terra</th>\n",
       "      <th>tech_nav</th>\n",
       "      <th>tech_int</th>\n",
       "      <th>tech_gaia</th>\n",
       "      <th>tech_eco</th>\n",
       "      <th>tech_sci</th>\n",
       "      <th>tech_free1</th>\n",
       "      <th>tech_free2</th>\n",
       "      <th>tech_free3</th>\n",
       "      <th>tech_adv-terra</th>\n",
       "      <th>tech_adv-nav</th>\n",
       "      <th>tech_adv-int</th>\n",
       "      <th>tech_adv-gaia</th>\n",
       "      <th>tech_adv-eco</th>\n",
       "      <th>tech_adv-sci</th>\n",
       "      <th>round_1_scoring</th>\n",
       "      <th>round_2_scoring</th>\n",
       "      <th>round_3_scoring</th>\n",
       "      <th>round_4_scoring</th>\n",
       "      <th>round_5_scoring</th>\n",
       "      <th>round_6_scoring</th>\n",
       "      <th>final_scoring_1</th>\n",
       "      <th>final_scoring_2</th>\n",
       "      <th>pos_4_dropped</th>\n",
       "      <th>pos_4_elo</th>\n",
       "      <th>pos_4_faction</th>\n",
       "      <th>pos_4_score</th>\n",
       "      <th>pos_4_start_pos</th>\n",
       "      <th>pos_4_bid</th>\n",
       "      <th>pos_4_feds_taken</th>\n",
       "      <th>pos_4_fed_12vp</th>\n",
       "      <th>pos_4_fed_qic</th>\n",
       "      <th>pos_4_fed_2pw</th>\n",
       "      <th>pos_4_fed_2o</th>\n",
       "      <th>pos_4_fed_6c</th>\n",
       "      <th>pos_4_fed_2k</th>\n",
       "      <th>...</th>\n",
       "      <th>pos_1_score_qic</th>\n",
       "      <th>pos_1_score_charge</th>\n",
       "      <th>pos_1_score_init</th>\n",
       "      <th>pos_1_score_round5</th>\n",
       "      <th>pos_1_score_gleens</th>\n",
       "      <th>pos_1_score_round6</th>\n",
       "      <th>pos_1_score_resource</th>\n",
       "      <th>pos_3_score_round4</th>\n",
       "      <th>pos_3_score_round2</th>\n",
       "      <th>pos_3_score_round3</th>\n",
       "      <th>pos_3_score_tech_basic</th>\n",
       "      <th>pos_3_score_round1</th>\n",
       "      <th>pos_3_score_final1</th>\n",
       "      <th>pos_3_score_adv</th>\n",
       "      <th>pos_3_score_fed</th>\n",
       "      <th>pos_3_score_final2</th>\n",
       "      <th>pos_3_score_gaia</th>\n",
       "      <th>pos_3_score_booster</th>\n",
       "      <th>pos_3_score_bid</th>\n",
       "      <th>pos_3_score_qic</th>\n",
       "      <th>pos_3_score_charge</th>\n",
       "      <th>pos_3_score_init</th>\n",
       "      <th>pos_3_score_round5</th>\n",
       "      <th>pos_3_score_gleens</th>\n",
       "      <th>pos_3_score_round6</th>\n",
       "      <th>pos_3_score_resource</th>\n",
       "      <th>pos_2_score_round4</th>\n",
       "      <th>pos_2_score_round2</th>\n",
       "      <th>pos_2_score_round3</th>\n",
       "      <th>pos_2_score_tech_basic</th>\n",
       "      <th>pos_2_score_round1</th>\n",
       "      <th>pos_2_score_final1</th>\n",
       "      <th>pos_2_score_adv</th>\n",
       "      <th>pos_2_score_fed</th>\n",
       "      <th>pos_2_score_final2</th>\n",
       "      <th>pos_2_score_gaia</th>\n",
       "      <th>pos_2_score_booster</th>\n",
       "      <th>pos_2_score_bid</th>\n",
       "      <th>pos_2_score_qic</th>\n",
       "      <th>pos_2_score_charge</th>\n",
       "      <th>pos_2_score_init</th>\n",
       "      <th>pos_2_score_round5</th>\n",
       "      <th>pos_2_score_gleens</th>\n",
       "      <th>pos_2_score_round6</th>\n",
       "      <th>pos_2_score_resource</th>\n",
       "      <th>average_elo</th>\n",
       "      <th>pos_2_research_level_dip</th>\n",
       "      <th>pos_3_research_level_dip</th>\n",
       "      <th>pos_4_research_level_dip</th>\n",
       "      <th>pos_1_research_level_dip</th>\n",
       "    </tr>\n",
       "  </thead>\n",
       "  <tbody>\n",
       "  </tbody>\n",
       "</table>\n",
       "<p>0 rows × 470 columns</p>\n",
       "</div>"
      ],
      "text/plain": [
       "Empty DataFrame\n",
       "Columns: [id, map_layout, balance_variant, num_players, 1k_1o, 2pwt_1o, 1qic_2c, 2c_terra, 2pw_nav, 1o_1vp_per_mine, 1o_2vp_per_ts, 1k_3vp_per_rl, 4pw_4vp_per_3pip, 4c_1vp_per_gaia, tech_terra, tech_nav, tech_int, tech_gaia, tech_eco, tech_sci, tech_free1, tech_free2, tech_free3, tech_adv-terra, tech_adv-nav, tech_adv-int, tech_adv-gaia, tech_adv-eco, tech_adv-sci, round_1_scoring, round_2_scoring, round_3_scoring, round_4_scoring, round_5_scoring, round_6_scoring, final_scoring_1, final_scoring_2, pos_4_dropped, pos_4_elo, pos_4_faction, pos_4_score, pos_4_start_pos, pos_4_bid, pos_4_feds_taken, pos_4_fed_12vp, pos_4_fed_qic, pos_4_fed_2pw, pos_4_fed_2o, pos_4_fed_6c, pos_4_fed_2k, pos_4_fed_gleens, pos_4_build_m, pos_4_build_ts, pos_4_build_lab, pos_4_build_PI, pos_4_build_ac1, pos_4_build_ac2, pos_4_num_structures, pos_4_research_level_terra, pos_4_research_level_nav, pos_4_research_level_int, pos_4_research_level_gaia, pos_4_research_level_eco, pos_4_research_level_sci, pos_4_tech_score, pos_4_tech_taken_1q_1o, pos_4_tech_taken_k_per_terra, pos_4_tech_taken_4pip, pos_4_tech_taken_7vp, pos_4_tech_taken_1o_1pw, pos_4_tech_taken_1k_1c, pos_4_tech_taken_3vp_per_gaia_place, pos_4_tech_taken_4c, pos_4_tech_taken_4pw, pos_4_adv_tech_taken_3vp_per_fed_pass, pos_4_adv_tech_taken_2vp_per_tech_bump, pos_4_adv_tech_taken_1qic_5c_action, pos_4_adv_tech_taken_2vp_per_mine, pos_4_adv_tech_taken_3vp_per_rl_pass, pos_4_adv_tech_taken_1o_per_sector, pos_4_adv_tech_taken_1vp_per_terra_pass, pos_4_adv_tech_taken_2vp_per_gaia, pos_4_adv_tech_taken_4vp_per_ts, pos_4_adv_tech_taken_2vp_per_sector, pos_4_adv_tech_taken_3o_action, pos_4_adv_tech_taken_5vp_per_fed, pos_4_adv_tech_taken_3k_action, pos_4_adv_tech_taken_3vp_per_mine_place, pos_4_adv_tech_taken_3vp_per_ts_place, pos_4_total_techs_taken, pos_4_buildings_r_1_m, pos_4_buildings_r_1_ts, pos_4_buildings_r_1_lab, pos_4_buildings_r_1_ac1, pos_4_buildings_r_1_ac2, pos_4_buildings_r_1_PI, pos_4_buildings_r_1_gf, pos_4_buildings_r_2_m, pos_4_buildings_r_2_ts, pos_4_buildings_r_2_lab, ...]\n",
       "Index: []\n",
       "\n",
       "[0 rows x 470 columns]"
      ]
     },
     "execution_count": 11,
     "metadata": {},
     "output_type": "execute_result"
    }
   ],
   "source": [
    "ivits = dat_4[dat_4['pos_1_faction'] == 'ivits']\n",
    "ivits[ivits['pos_1_buildings_r_1_PI'] == 0]"
   ]
  },
  {
   "cell_type": "code",
   "execution_count": 14,
   "id": "f4917d9a",
   "metadata": {
    "scrolled": false
   },
   "outputs": [
    {
     "data": {
      "application/vnd.plotly.v1+json": {
       "config": {
        "plotlyServerURL": "https://plot.ly"
       },
       "data": [
        {
         "branchvalues": "total",
         "customdata": [
          [
           134.71428571428572,
           137.33333333333334
          ],
          [
           181.65,
           147.95
          ],
          [
           234,
           189
          ],
          [
           131.69230769230768,
           147.41666666666666
          ],
          [
           109.2,
           137.75
          ],
          [
           27.5,
           119
          ],
          [
           144.52941176470588,
           149.35294117647058
          ],
          [
           256.8520179372197,
           158.6448598130841
          ],
          [
           79.77777777777777,
           116.44444444444444
          ],
          [
           155.6153846153846,
           149.12820512820514
          ],
          [
           142.63636363636363,
           127.36363636363636
          ],
          [
           220.69565217391303,
           149.3913043478261
          ],
          [
           252.5,
           135.5
          ],
          [
           82.71428571428571,
           117.61904761904762
          ],
          [
           172.33928571428572,
           144.48598130841123
          ],
          [
           172.22222222222223,
           140.22222222222223
          ],
          [
           157,
           133.33333333333334
          ],
          [
           145.25,
           129.75
          ],
          [
           207.3404255319149,
           152.31914893617022
          ],
          [
           159.9591836734694,
           136.5625
          ],
          [
           151.5,
           131.625
          ],
          [
           47.75,
           118.75
          ],
          [
           228,
           155.5
          ],
          [
           254.85714285714286,
           155.42857142857142
          ],
          [
           134.96428571428572,
           128.40740740740742
          ],
          [
           186.515503875969,
           140.71259842519686
          ],
          [
           84,
           115.16666666666667
          ],
          [
           154.36363636363637,
           142.1818181818182
          ],
          [
           184.55555555555554,
           150.11111111111111
          ],
          [
           294,
           152
          ],
          [
           296,
           155
          ],
          [
           220.34177215189874,
           152.0940170940171
          ],
          [
           71.75,
           164.75
          ],
          [
           253.88349514563106,
           163.5242718446602
          ],
          [
           0,
           166
          ],
          [
           190.25,
           132.85714285714286
          ],
          [
           "(?)",
           125.07455507455508
          ],
          [
           "(?)",
           157.42634782319487
          ],
          [
           "(?)",
           146.47826086956522
          ],
          [
           "(?)",
           146.82596630220291
          ],
          [
           "(?)",
           137.24137931034483
          ],
          [
           "(?)",
           147.5855918956024
          ]
         ],
         "domain": {
          "x": [
           0,
           1
          ],
          "y": [
           0,
           1
          ]
         },
         "hovertemplate": "labels=%{label}<br>class_counts=%{value}<br>parent=%{parent}<br>id=%{id}<br>ave_elo_xenos=%{customdata[0]}<br>ave_score_xenos=%{color}<extra></extra>",
         "ids": [
          "R1 Structs/PI/ 1-m_0-ts_1-lab_1-pi_0-ac1_0-ac2",
          "R1 Structs/lab/ 1-m_0-ts_2-lab_0-pi_0-ac1_0-ac2",
          "R1 Structs/ac1/ 1-m_1-ts_0-lab_0-pi_1-ac1_0-ac2",
          "R1 Structs/lab/ 1-m_1-ts_1-lab_0-pi_0-ac1_0-ac2",
          "R1 Structs/lab/ 1-m_2-ts_1-lab_0-pi_0-ac1_0-ac2",
          "R1 Structs/ts/ 1-m_3-ts_0-lab_0-pi_0-ac1_0-ac2",
          "R1 Structs/ac2/ 2-m_0-ts_0-lab_0-pi_0-ac1_1-ac2",
          "R1 Structs/ac1/ 2-m_0-ts_0-lab_0-pi_1-ac1_0-ac2",
          "R1 Structs/PI/ 2-m_0-ts_0-lab_1-pi_0-ac1_0-ac2",
          "R1 Structs/lab/ 2-m_0-ts_1-lab_0-pi_0-ac1_0-ac2",
          "R1 Structs/PI/ 2-m_0-ts_1-lab_1-pi_0-ac1_0-ac2",
          "R1 Structs/lab/ 2-m_0-ts_2-lab_0-pi_0-ac1_0-ac2",
          "R1 Structs/ac1/ 2-m_1-ts_0-lab_0-pi_1-ac1_0-ac2",
          "R1 Structs/PI/ 2-m_1-ts_0-lab_1-pi_0-ac1_0-ac2",
          "R1 Structs/lab/ 2-m_1-ts_1-lab_0-pi_0-ac1_0-ac2",
          "R1 Structs/lab/ 2-m_2-ts_1-lab_0-pi_0-ac1_0-ac2",
          "R1 Structs/ts/ 2-m_3-ts_0-lab_0-pi_0-ac1_0-ac2",
          "R1 Structs/ac2/ 3-m_0-ts_0-lab_0-pi_0-ac1_1-ac2",
          "R1 Structs/ac1/ 3-m_0-ts_0-lab_0-pi_1-ac1_0-ac2",
          "R1 Structs/lab/ 3-m_0-ts_1-lab_0-pi_0-ac1_0-ac2",
          "R1 Structs/lab/ 3-m_1-ts_1-lab_0-pi_0-ac1_0-ac2",
          "R1 Structs/ts/ 3-m_2-ts_0-lab_0-pi_0-ac1_0-ac2",
          "R1 Structs/ac2/ 4-m_0-ts_0-lab_0-pi_0-ac1_1-ac2",
          "R1 Structs/ac1/ 4-m_0-ts_0-lab_0-pi_1-ac1_0-ac2",
          "R1 Structs/PI/ 4-m_0-ts_0-lab_1-pi_0-ac1_0-ac2",
          "R1 Structs/lab/ 4-m_0-ts_1-lab_0-pi_0-ac1_0-ac2",
          "R1 Structs/ts/ 4-m_1-ts_0-lab_0-pi_0-ac1_0-ac2",
          "R1 Structs/lab/ 4-m_1-ts_1-lab_0-pi_0-ac1_0-ac2",
          "R1 Structs/ts/ 4-m_2-ts_0-lab_0-pi_0-ac1_0-ac2",
          "R1 Structs/ac1/ 5-m_0-ts_0-lab_0-pi_1-ac1_0-ac2",
          "R1 Structs/PI/ 5-m_0-ts_0-lab_1-pi_0-ac1_0-ac2",
          "R1 Structs/lab/ 5-m_0-ts_1-lab_0-pi_0-ac1_0-ac2",
          "R1 Structs/ts/ 5-m_1-ts_0-lab_0-pi_0-ac1_0-ac2",
          "R1 Structs/lab/ 6-m_0-ts_1-lab_0-pi_0-ac1_0-ac2",
          "R1 Structs/ts/ 6-m_1-ts_0-lab_0-pi_0-ac1_0-ac2",
          "R1 Structs/lab/ 7-m_0-ts_1-lab_0-pi_0-ac1_0-ac2",
          "R1 Structs/PI",
          "R1 Structs/ac1",
          "R1 Structs/ac2",
          "R1 Structs/lab",
          "R1 Structs/ts",
          "R1 Structs"
         ],
         "labels": [
          " 1-m_0-ts_1-lab_1-pi_0-ac1_0-ac2",
          " 1-m_0-ts_2-lab_0-pi_0-ac1_0-ac2",
          " 1-m_1-ts_0-lab_0-pi_1-ac1_0-ac2",
          " 1-m_1-ts_1-lab_0-pi_0-ac1_0-ac2",
          " 1-m_2-ts_1-lab_0-pi_0-ac1_0-ac2",
          " 1-m_3-ts_0-lab_0-pi_0-ac1_0-ac2",
          " 2-m_0-ts_0-lab_0-pi_0-ac1_1-ac2",
          " 2-m_0-ts_0-lab_0-pi_1-ac1_0-ac2",
          " 2-m_0-ts_0-lab_1-pi_0-ac1_0-ac2",
          " 2-m_0-ts_1-lab_0-pi_0-ac1_0-ac2",
          " 2-m_0-ts_1-lab_1-pi_0-ac1_0-ac2",
          " 2-m_0-ts_2-lab_0-pi_0-ac1_0-ac2",
          " 2-m_1-ts_0-lab_0-pi_1-ac1_0-ac2",
          " 2-m_1-ts_0-lab_1-pi_0-ac1_0-ac2",
          " 2-m_1-ts_1-lab_0-pi_0-ac1_0-ac2",
          " 2-m_2-ts_1-lab_0-pi_0-ac1_0-ac2",
          " 2-m_3-ts_0-lab_0-pi_0-ac1_0-ac2",
          " 3-m_0-ts_0-lab_0-pi_0-ac1_1-ac2",
          " 3-m_0-ts_0-lab_0-pi_1-ac1_0-ac2",
          " 3-m_0-ts_1-lab_0-pi_0-ac1_0-ac2",
          " 3-m_1-ts_1-lab_0-pi_0-ac1_0-ac2",
          " 3-m_2-ts_0-lab_0-pi_0-ac1_0-ac2",
          " 4-m_0-ts_0-lab_0-pi_0-ac1_1-ac2",
          " 4-m_0-ts_0-lab_0-pi_1-ac1_0-ac2",
          " 4-m_0-ts_0-lab_1-pi_0-ac1_0-ac2",
          " 4-m_0-ts_1-lab_0-pi_0-ac1_0-ac2",
          " 4-m_1-ts_0-lab_0-pi_0-ac1_0-ac2",
          " 4-m_1-ts_1-lab_0-pi_0-ac1_0-ac2",
          " 4-m_2-ts_0-lab_0-pi_0-ac1_0-ac2",
          " 5-m_0-ts_0-lab_0-pi_1-ac1_0-ac2",
          " 5-m_0-ts_0-lab_1-pi_0-ac1_0-ac2",
          " 5-m_0-ts_1-lab_0-pi_0-ac1_0-ac2",
          " 5-m_1-ts_0-lab_0-pi_0-ac1_0-ac2",
          " 6-m_0-ts_1-lab_0-pi_0-ac1_0-ac2",
          " 6-m_1-ts_0-lab_0-pi_0-ac1_0-ac2",
          " 7-m_0-ts_1-lab_0-pi_0-ac1_0-ac2",
          "PI",
          "ac1",
          "ac2",
          "lab",
          "ts",
          "R1 Structs"
         ],
         "marker": {
          "coloraxis": "coloraxis",
          "colors": [
           137.33333333333334,
           147.95,
           189,
           147.41666666666666,
           137.75,
           119,
           149.35294117647058,
           158.6448598130841,
           116.44444444444444,
           149.12820512820514,
           127.36363636363636,
           149.3913043478261,
           135.5,
           117.61904761904762,
           144.48598130841123,
           140.22222222222223,
           133.33333333333334,
           129.75,
           152.31914893617022,
           136.5625,
           131.625,
           118.75,
           155.5,
           155.42857142857142,
           128.40740740740742,
           140.71259842519686,
           115.16666666666667,
           142.1818181818182,
           150.11111111111111,
           152,
           155,
           152.0940170940171,
           164.75,
           163.5242718446602,
           166,
           132.85714285714286,
           125.07455507455508,
           157.42634782319487,
           146.47826086956522,
           146.82596630220291,
           137.24137931034483,
           147.5855918956024
          ]
         },
         "name": "",
         "parents": [
          "R1 Structs/PI",
          "R1 Structs/lab",
          "R1 Structs/ac1",
          "R1 Structs/lab",
          "R1 Structs/lab",
          "R1 Structs/ts",
          "R1 Structs/ac2",
          "R1 Structs/ac1",
          "R1 Structs/PI",
          "R1 Structs/lab",
          "R1 Structs/PI",
          "R1 Structs/lab",
          "R1 Structs/ac1",
          "R1 Structs/PI",
          "R1 Structs/lab",
          "R1 Structs/lab",
          "R1 Structs/ts",
          "R1 Structs/ac2",
          "R1 Structs/ac1",
          "R1 Structs/lab",
          "R1 Structs/lab",
          "R1 Structs/ts",
          "R1 Structs/ac2",
          "R1 Structs/ac1",
          "R1 Structs/PI",
          "R1 Structs/lab",
          "R1 Structs/ts",
          "R1 Structs/lab",
          "R1 Structs/ts",
          "R1 Structs/ac1",
          "R1 Structs/PI",
          "R1 Structs/lab",
          "R1 Structs/ts",
          "R1 Structs/lab",
          "R1 Structs/ts",
          "R1 Structs/lab",
          "R1 Structs",
          "R1 Structs",
          "R1 Structs",
          "R1 Structs",
          "R1 Structs",
          ""
         ],
         "type": "treemap",
         "values": [
          7,
          20,
          1,
          13,
          5,
          2,
          17,
          223,
          9,
          39,
          11,
          23,
          2,
          21,
          112,
          9,
          3,
          4,
          47,
          49,
          32,
          4,
          2,
          7,
          28,
          258,
          6,
          22,
          9,
          1,
          1,
          237,
          4,
          103,
          1,
          8,
          77,
          281,
          23,
          930,
          29,
          1340
         ]
        }
       ],
       "layout": {
        "coloraxis": {
         "cmid": 148.12743354661777,
         "colorbar": {
          "title": {
           "text": "ave_score_xenos"
          }
         },
         "colorscale": [
          [
           0,
           "rgb(103,0,31)"
          ],
          [
           0.1,
           "rgb(178,24,43)"
          ],
          [
           0.2,
           "rgb(214,96,77)"
          ],
          [
           0.3,
           "rgb(244,165,130)"
          ],
          [
           0.4,
           "rgb(253,219,199)"
          ],
          [
           0.5,
           "rgb(247,247,247)"
          ],
          [
           0.6,
           "rgb(209,229,240)"
          ],
          [
           0.7,
           "rgb(146,197,222)"
          ],
          [
           0.8,
           "rgb(67,147,195)"
          ],
          [
           0.9,
           "rgb(33,102,172)"
          ],
          [
           1,
           "rgb(5,48,97)"
          ]
         ]
        },
        "legend": {
         "tracegroupgap": 0
        },
        "margin": {
         "b": 25,
         "l": 25,
         "r": 25,
         "t": 50
        },
        "template": {
         "data": {
          "bar": [
           {
            "error_x": {
             "color": "#2a3f5f"
            },
            "error_y": {
             "color": "#2a3f5f"
            },
            "marker": {
             "line": {
              "color": "#E5ECF6",
              "width": 0.5
             },
             "pattern": {
              "fillmode": "overlay",
              "size": 10,
              "solidity": 0.2
             }
            },
            "type": "bar"
           }
          ],
          "barpolar": [
           {
            "marker": {
             "line": {
              "color": "#E5ECF6",
              "width": 0.5
             },
             "pattern": {
              "fillmode": "overlay",
              "size": 10,
              "solidity": 0.2
             }
            },
            "type": "barpolar"
           }
          ],
          "carpet": [
           {
            "aaxis": {
             "endlinecolor": "#2a3f5f",
             "gridcolor": "white",
             "linecolor": "white",
             "minorgridcolor": "white",
             "startlinecolor": "#2a3f5f"
            },
            "baxis": {
             "endlinecolor": "#2a3f5f",
             "gridcolor": "white",
             "linecolor": "white",
             "minorgridcolor": "white",
             "startlinecolor": "#2a3f5f"
            },
            "type": "carpet"
           }
          ],
          "choropleth": [
           {
            "colorbar": {
             "outlinewidth": 0,
             "ticks": ""
            },
            "type": "choropleth"
           }
          ],
          "contour": [
           {
            "colorbar": {
             "outlinewidth": 0,
             "ticks": ""
            },
            "colorscale": [
             [
              0,
              "#0d0887"
             ],
             [
              0.1111111111111111,
              "#46039f"
             ],
             [
              0.2222222222222222,
              "#7201a8"
             ],
             [
              0.3333333333333333,
              "#9c179e"
             ],
             [
              0.4444444444444444,
              "#bd3786"
             ],
             [
              0.5555555555555556,
              "#d8576b"
             ],
             [
              0.6666666666666666,
              "#ed7953"
             ],
             [
              0.7777777777777778,
              "#fb9f3a"
             ],
             [
              0.8888888888888888,
              "#fdca26"
             ],
             [
              1,
              "#f0f921"
             ]
            ],
            "type": "contour"
           }
          ],
          "contourcarpet": [
           {
            "colorbar": {
             "outlinewidth": 0,
             "ticks": ""
            },
            "type": "contourcarpet"
           }
          ],
          "heatmap": [
           {
            "colorbar": {
             "outlinewidth": 0,
             "ticks": ""
            },
            "colorscale": [
             [
              0,
              "#0d0887"
             ],
             [
              0.1111111111111111,
              "#46039f"
             ],
             [
              0.2222222222222222,
              "#7201a8"
             ],
             [
              0.3333333333333333,
              "#9c179e"
             ],
             [
              0.4444444444444444,
              "#bd3786"
             ],
             [
              0.5555555555555556,
              "#d8576b"
             ],
             [
              0.6666666666666666,
              "#ed7953"
             ],
             [
              0.7777777777777778,
              "#fb9f3a"
             ],
             [
              0.8888888888888888,
              "#fdca26"
             ],
             [
              1,
              "#f0f921"
             ]
            ],
            "type": "heatmap"
           }
          ],
          "heatmapgl": [
           {
            "colorbar": {
             "outlinewidth": 0,
             "ticks": ""
            },
            "colorscale": [
             [
              0,
              "#0d0887"
             ],
             [
              0.1111111111111111,
              "#46039f"
             ],
             [
              0.2222222222222222,
              "#7201a8"
             ],
             [
              0.3333333333333333,
              "#9c179e"
             ],
             [
              0.4444444444444444,
              "#bd3786"
             ],
             [
              0.5555555555555556,
              "#d8576b"
             ],
             [
              0.6666666666666666,
              "#ed7953"
             ],
             [
              0.7777777777777778,
              "#fb9f3a"
             ],
             [
              0.8888888888888888,
              "#fdca26"
             ],
             [
              1,
              "#f0f921"
             ]
            ],
            "type": "heatmapgl"
           }
          ],
          "histogram": [
           {
            "marker": {
             "pattern": {
              "fillmode": "overlay",
              "size": 10,
              "solidity": 0.2
             }
            },
            "type": "histogram"
           }
          ],
          "histogram2d": [
           {
            "colorbar": {
             "outlinewidth": 0,
             "ticks": ""
            },
            "colorscale": [
             [
              0,
              "#0d0887"
             ],
             [
              0.1111111111111111,
              "#46039f"
             ],
             [
              0.2222222222222222,
              "#7201a8"
             ],
             [
              0.3333333333333333,
              "#9c179e"
             ],
             [
              0.4444444444444444,
              "#bd3786"
             ],
             [
              0.5555555555555556,
              "#d8576b"
             ],
             [
              0.6666666666666666,
              "#ed7953"
             ],
             [
              0.7777777777777778,
              "#fb9f3a"
             ],
             [
              0.8888888888888888,
              "#fdca26"
             ],
             [
              1,
              "#f0f921"
             ]
            ],
            "type": "histogram2d"
           }
          ],
          "histogram2dcontour": [
           {
            "colorbar": {
             "outlinewidth": 0,
             "ticks": ""
            },
            "colorscale": [
             [
              0,
              "#0d0887"
             ],
             [
              0.1111111111111111,
              "#46039f"
             ],
             [
              0.2222222222222222,
              "#7201a8"
             ],
             [
              0.3333333333333333,
              "#9c179e"
             ],
             [
              0.4444444444444444,
              "#bd3786"
             ],
             [
              0.5555555555555556,
              "#d8576b"
             ],
             [
              0.6666666666666666,
              "#ed7953"
             ],
             [
              0.7777777777777778,
              "#fb9f3a"
             ],
             [
              0.8888888888888888,
              "#fdca26"
             ],
             [
              1,
              "#f0f921"
             ]
            ],
            "type": "histogram2dcontour"
           }
          ],
          "mesh3d": [
           {
            "colorbar": {
             "outlinewidth": 0,
             "ticks": ""
            },
            "type": "mesh3d"
           }
          ],
          "parcoords": [
           {
            "line": {
             "colorbar": {
              "outlinewidth": 0,
              "ticks": ""
             }
            },
            "type": "parcoords"
           }
          ],
          "pie": [
           {
            "automargin": true,
            "type": "pie"
           }
          ],
          "scatter": [
           {
            "marker": {
             "colorbar": {
              "outlinewidth": 0,
              "ticks": ""
             }
            },
            "type": "scatter"
           }
          ],
          "scatter3d": [
           {
            "line": {
             "colorbar": {
              "outlinewidth": 0,
              "ticks": ""
             }
            },
            "marker": {
             "colorbar": {
              "outlinewidth": 0,
              "ticks": ""
             }
            },
            "type": "scatter3d"
           }
          ],
          "scattercarpet": [
           {
            "marker": {
             "colorbar": {
              "outlinewidth": 0,
              "ticks": ""
             }
            },
            "type": "scattercarpet"
           }
          ],
          "scattergeo": [
           {
            "marker": {
             "colorbar": {
              "outlinewidth": 0,
              "ticks": ""
             }
            },
            "type": "scattergeo"
           }
          ],
          "scattergl": [
           {
            "marker": {
             "colorbar": {
              "outlinewidth": 0,
              "ticks": ""
             }
            },
            "type": "scattergl"
           }
          ],
          "scattermapbox": [
           {
            "marker": {
             "colorbar": {
              "outlinewidth": 0,
              "ticks": ""
             }
            },
            "type": "scattermapbox"
           }
          ],
          "scatterpolar": [
           {
            "marker": {
             "colorbar": {
              "outlinewidth": 0,
              "ticks": ""
             }
            },
            "type": "scatterpolar"
           }
          ],
          "scatterpolargl": [
           {
            "marker": {
             "colorbar": {
              "outlinewidth": 0,
              "ticks": ""
             }
            },
            "type": "scatterpolargl"
           }
          ],
          "scatterternary": [
           {
            "marker": {
             "colorbar": {
              "outlinewidth": 0,
              "ticks": ""
             }
            },
            "type": "scatterternary"
           }
          ],
          "surface": [
           {
            "colorbar": {
             "outlinewidth": 0,
             "ticks": ""
            },
            "colorscale": [
             [
              0,
              "#0d0887"
             ],
             [
              0.1111111111111111,
              "#46039f"
             ],
             [
              0.2222222222222222,
              "#7201a8"
             ],
             [
              0.3333333333333333,
              "#9c179e"
             ],
             [
              0.4444444444444444,
              "#bd3786"
             ],
             [
              0.5555555555555556,
              "#d8576b"
             ],
             [
              0.6666666666666666,
              "#ed7953"
             ],
             [
              0.7777777777777778,
              "#fb9f3a"
             ],
             [
              0.8888888888888888,
              "#fdca26"
             ],
             [
              1,
              "#f0f921"
             ]
            ],
            "type": "surface"
           }
          ],
          "table": [
           {
            "cells": {
             "fill": {
              "color": "#EBF0F8"
             },
             "line": {
              "color": "white"
             }
            },
            "header": {
             "fill": {
              "color": "#C8D4E3"
             },
             "line": {
              "color": "white"
             }
            },
            "type": "table"
           }
          ]
         },
         "layout": {
          "annotationdefaults": {
           "arrowcolor": "#2a3f5f",
           "arrowhead": 0,
           "arrowwidth": 1
          },
          "autotypenumbers": "strict",
          "coloraxis": {
           "colorbar": {
            "outlinewidth": 0,
            "ticks": ""
           }
          },
          "colorscale": {
           "diverging": [
            [
             0,
             "#8e0152"
            ],
            [
             0.1,
             "#c51b7d"
            ],
            [
             0.2,
             "#de77ae"
            ],
            [
             0.3,
             "#f1b6da"
            ],
            [
             0.4,
             "#fde0ef"
            ],
            [
             0.5,
             "#f7f7f7"
            ],
            [
             0.6,
             "#e6f5d0"
            ],
            [
             0.7,
             "#b8e186"
            ],
            [
             0.8,
             "#7fbc41"
            ],
            [
             0.9,
             "#4d9221"
            ],
            [
             1,
             "#276419"
            ]
           ],
           "sequential": [
            [
             0,
             "#0d0887"
            ],
            [
             0.1111111111111111,
             "#46039f"
            ],
            [
             0.2222222222222222,
             "#7201a8"
            ],
            [
             0.3333333333333333,
             "#9c179e"
            ],
            [
             0.4444444444444444,
             "#bd3786"
            ],
            [
             0.5555555555555556,
             "#d8576b"
            ],
            [
             0.6666666666666666,
             "#ed7953"
            ],
            [
             0.7777777777777778,
             "#fb9f3a"
            ],
            [
             0.8888888888888888,
             "#fdca26"
            ],
            [
             1,
             "#f0f921"
            ]
           ],
           "sequentialminus": [
            [
             0,
             "#0d0887"
            ],
            [
             0.1111111111111111,
             "#46039f"
            ],
            [
             0.2222222222222222,
             "#7201a8"
            ],
            [
             0.3333333333333333,
             "#9c179e"
            ],
            [
             0.4444444444444444,
             "#bd3786"
            ],
            [
             0.5555555555555556,
             "#d8576b"
            ],
            [
             0.6666666666666666,
             "#ed7953"
            ],
            [
             0.7777777777777778,
             "#fb9f3a"
            ],
            [
             0.8888888888888888,
             "#fdca26"
            ],
            [
             1,
             "#f0f921"
            ]
           ]
          },
          "colorway": [
           "#636efa",
           "#EF553B",
           "#00cc96",
           "#ab63fa",
           "#FFA15A",
           "#19d3f3",
           "#FF6692",
           "#B6E880",
           "#FF97FF",
           "#FECB52"
          ],
          "font": {
           "color": "#2a3f5f"
          },
          "geo": {
           "bgcolor": "white",
           "lakecolor": "white",
           "landcolor": "#E5ECF6",
           "showlakes": true,
           "showland": true,
           "subunitcolor": "white"
          },
          "hoverlabel": {
           "align": "left"
          },
          "hovermode": "closest",
          "mapbox": {
           "style": "light"
          },
          "paper_bgcolor": "white",
          "plot_bgcolor": "#E5ECF6",
          "polar": {
           "angularaxis": {
            "gridcolor": "white",
            "linecolor": "white",
            "ticks": ""
           },
           "bgcolor": "#E5ECF6",
           "radialaxis": {
            "gridcolor": "white",
            "linecolor": "white",
            "ticks": ""
           }
          },
          "scene": {
           "xaxis": {
            "backgroundcolor": "#E5ECF6",
            "gridcolor": "white",
            "gridwidth": 2,
            "linecolor": "white",
            "showbackground": true,
            "ticks": "",
            "zerolinecolor": "white"
           },
           "yaxis": {
            "backgroundcolor": "#E5ECF6",
            "gridcolor": "white",
            "gridwidth": 2,
            "linecolor": "white",
            "showbackground": true,
            "ticks": "",
            "zerolinecolor": "white"
           },
           "zaxis": {
            "backgroundcolor": "#E5ECF6",
            "gridcolor": "white",
            "gridwidth": 2,
            "linecolor": "white",
            "showbackground": true,
            "ticks": "",
            "zerolinecolor": "white"
           }
          },
          "shapedefaults": {
           "line": {
            "color": "#2a3f5f"
           }
          },
          "ternary": {
           "aaxis": {
            "gridcolor": "white",
            "linecolor": "white",
            "ticks": ""
           },
           "baxis": {
            "gridcolor": "white",
            "linecolor": "white",
            "ticks": ""
           },
           "bgcolor": "#E5ECF6",
           "caxis": {
            "gridcolor": "white",
            "linecolor": "white",
            "ticks": ""
           }
          },
          "title": {
           "x": 0.05
          },
          "xaxis": {
           "automargin": true,
           "gridcolor": "white",
           "linecolor": "white",
           "ticks": "",
           "title": {
            "standoff": 15
           },
           "zerolinecolor": "white",
           "zerolinewidth": 2
          },
          "yaxis": {
           "automargin": true,
           "gridcolor": "white",
           "linecolor": "white",
           "ticks": "",
           "title": {
            "standoff": 15
           },
           "zerolinecolor": "white",
           "zerolinewidth": 2
          }
         }
        },
        "title": {
         "text": "R1 Structures: Frequency and Impact on Score Relative to All Factions Average (148.13): xenos"
        }
       }
      },
      "text/html": [
       "<div>                            <div id=\"1d2d96cf-ba3b-4a62-bf89-37af188f85a8\" class=\"plotly-graph-div\" style=\"height:525px; width:100%;\"></div>            <script type=\"text/javascript\">                require([\"plotly\"], function(Plotly) {                    window.PLOTLYENV=window.PLOTLYENV || {};                                    if (document.getElementById(\"1d2d96cf-ba3b-4a62-bf89-37af188f85a8\")) {                    Plotly.newPlot(                        \"1d2d96cf-ba3b-4a62-bf89-37af188f85a8\",                        [{\"branchvalues\":\"total\",\"customdata\":[[134.71428571428572,137.33333333333334],[181.65,147.95],[234.0,189.0],[131.69230769230768,147.41666666666666],[109.2,137.75],[27.5,119.0],[144.52941176470588,149.35294117647058],[256.8520179372197,158.6448598130841],[79.77777777777777,116.44444444444444],[155.6153846153846,149.12820512820514],[142.63636363636363,127.36363636363636],[220.69565217391303,149.3913043478261],[252.5,135.5],[82.71428571428571,117.61904761904762],[172.33928571428572,144.48598130841123],[172.22222222222223,140.22222222222223],[157.0,133.33333333333334],[145.25,129.75],[207.3404255319149,152.31914893617022],[159.9591836734694,136.5625],[151.5,131.625],[47.75,118.75],[228.0,155.5],[254.85714285714286,155.42857142857142],[134.96428571428572,128.40740740740742],[186.515503875969,140.71259842519686],[84.0,115.16666666666667],[154.36363636363637,142.1818181818182],[184.55555555555554,150.11111111111111],[294.0,152.0],[296.0,155.0],[220.34177215189874,152.0940170940171],[71.75,164.75],[253.88349514563106,163.5242718446602],[0.0,166.0],[190.25,132.85714285714286],[\"(?)\",125.07455507455508],[\"(?)\",157.42634782319487],[\"(?)\",146.47826086956522],[\"(?)\",146.82596630220291],[\"(?)\",137.24137931034483],[\"(?)\",147.5855918956024]],\"domain\":{\"x\":[0.0,1.0],\"y\":[0.0,1.0]},\"hovertemplate\":\"labels=%{label}<br>class_counts=%{value}<br>parent=%{parent}<br>id=%{id}<br>ave_elo_xenos=%{customdata[0]}<br>ave_score_xenos=%{color}<extra></extra>\",\"ids\":[\"R1 Structs/PI/ 1-m_0-ts_1-lab_1-pi_0-ac1_0-ac2\",\"R1 Structs/lab/ 1-m_0-ts_2-lab_0-pi_0-ac1_0-ac2\",\"R1 Structs/ac1/ 1-m_1-ts_0-lab_0-pi_1-ac1_0-ac2\",\"R1 Structs/lab/ 1-m_1-ts_1-lab_0-pi_0-ac1_0-ac2\",\"R1 Structs/lab/ 1-m_2-ts_1-lab_0-pi_0-ac1_0-ac2\",\"R1 Structs/ts/ 1-m_3-ts_0-lab_0-pi_0-ac1_0-ac2\",\"R1 Structs/ac2/ 2-m_0-ts_0-lab_0-pi_0-ac1_1-ac2\",\"R1 Structs/ac1/ 2-m_0-ts_0-lab_0-pi_1-ac1_0-ac2\",\"R1 Structs/PI/ 2-m_0-ts_0-lab_1-pi_0-ac1_0-ac2\",\"R1 Structs/lab/ 2-m_0-ts_1-lab_0-pi_0-ac1_0-ac2\",\"R1 Structs/PI/ 2-m_0-ts_1-lab_1-pi_0-ac1_0-ac2\",\"R1 Structs/lab/ 2-m_0-ts_2-lab_0-pi_0-ac1_0-ac2\",\"R1 Structs/ac1/ 2-m_1-ts_0-lab_0-pi_1-ac1_0-ac2\",\"R1 Structs/PI/ 2-m_1-ts_0-lab_1-pi_0-ac1_0-ac2\",\"R1 Structs/lab/ 2-m_1-ts_1-lab_0-pi_0-ac1_0-ac2\",\"R1 Structs/lab/ 2-m_2-ts_1-lab_0-pi_0-ac1_0-ac2\",\"R1 Structs/ts/ 2-m_3-ts_0-lab_0-pi_0-ac1_0-ac2\",\"R1 Structs/ac2/ 3-m_0-ts_0-lab_0-pi_0-ac1_1-ac2\",\"R1 Structs/ac1/ 3-m_0-ts_0-lab_0-pi_1-ac1_0-ac2\",\"R1 Structs/lab/ 3-m_0-ts_1-lab_0-pi_0-ac1_0-ac2\",\"R1 Structs/lab/ 3-m_1-ts_1-lab_0-pi_0-ac1_0-ac2\",\"R1 Structs/ts/ 3-m_2-ts_0-lab_0-pi_0-ac1_0-ac2\",\"R1 Structs/ac2/ 4-m_0-ts_0-lab_0-pi_0-ac1_1-ac2\",\"R1 Structs/ac1/ 4-m_0-ts_0-lab_0-pi_1-ac1_0-ac2\",\"R1 Structs/PI/ 4-m_0-ts_0-lab_1-pi_0-ac1_0-ac2\",\"R1 Structs/lab/ 4-m_0-ts_1-lab_0-pi_0-ac1_0-ac2\",\"R1 Structs/ts/ 4-m_1-ts_0-lab_0-pi_0-ac1_0-ac2\",\"R1 Structs/lab/ 4-m_1-ts_1-lab_0-pi_0-ac1_0-ac2\",\"R1 Structs/ts/ 4-m_2-ts_0-lab_0-pi_0-ac1_0-ac2\",\"R1 Structs/ac1/ 5-m_0-ts_0-lab_0-pi_1-ac1_0-ac2\",\"R1 Structs/PI/ 5-m_0-ts_0-lab_1-pi_0-ac1_0-ac2\",\"R1 Structs/lab/ 5-m_0-ts_1-lab_0-pi_0-ac1_0-ac2\",\"R1 Structs/ts/ 5-m_1-ts_0-lab_0-pi_0-ac1_0-ac2\",\"R1 Structs/lab/ 6-m_0-ts_1-lab_0-pi_0-ac1_0-ac2\",\"R1 Structs/ts/ 6-m_1-ts_0-lab_0-pi_0-ac1_0-ac2\",\"R1 Structs/lab/ 7-m_0-ts_1-lab_0-pi_0-ac1_0-ac2\",\"R1 Structs/PI\",\"R1 Structs/ac1\",\"R1 Structs/ac2\",\"R1 Structs/lab\",\"R1 Structs/ts\",\"R1 Structs\"],\"labels\":[\" 1-m_0-ts_1-lab_1-pi_0-ac1_0-ac2\",\" 1-m_0-ts_2-lab_0-pi_0-ac1_0-ac2\",\" 1-m_1-ts_0-lab_0-pi_1-ac1_0-ac2\",\" 1-m_1-ts_1-lab_0-pi_0-ac1_0-ac2\",\" 1-m_2-ts_1-lab_0-pi_0-ac1_0-ac2\",\" 1-m_3-ts_0-lab_0-pi_0-ac1_0-ac2\",\" 2-m_0-ts_0-lab_0-pi_0-ac1_1-ac2\",\" 2-m_0-ts_0-lab_0-pi_1-ac1_0-ac2\",\" 2-m_0-ts_0-lab_1-pi_0-ac1_0-ac2\",\" 2-m_0-ts_1-lab_0-pi_0-ac1_0-ac2\",\" 2-m_0-ts_1-lab_1-pi_0-ac1_0-ac2\",\" 2-m_0-ts_2-lab_0-pi_0-ac1_0-ac2\",\" 2-m_1-ts_0-lab_0-pi_1-ac1_0-ac2\",\" 2-m_1-ts_0-lab_1-pi_0-ac1_0-ac2\",\" 2-m_1-ts_1-lab_0-pi_0-ac1_0-ac2\",\" 2-m_2-ts_1-lab_0-pi_0-ac1_0-ac2\",\" 2-m_3-ts_0-lab_0-pi_0-ac1_0-ac2\",\" 3-m_0-ts_0-lab_0-pi_0-ac1_1-ac2\",\" 3-m_0-ts_0-lab_0-pi_1-ac1_0-ac2\",\" 3-m_0-ts_1-lab_0-pi_0-ac1_0-ac2\",\" 3-m_1-ts_1-lab_0-pi_0-ac1_0-ac2\",\" 3-m_2-ts_0-lab_0-pi_0-ac1_0-ac2\",\" 4-m_0-ts_0-lab_0-pi_0-ac1_1-ac2\",\" 4-m_0-ts_0-lab_0-pi_1-ac1_0-ac2\",\" 4-m_0-ts_0-lab_1-pi_0-ac1_0-ac2\",\" 4-m_0-ts_1-lab_0-pi_0-ac1_0-ac2\",\" 4-m_1-ts_0-lab_0-pi_0-ac1_0-ac2\",\" 4-m_1-ts_1-lab_0-pi_0-ac1_0-ac2\",\" 4-m_2-ts_0-lab_0-pi_0-ac1_0-ac2\",\" 5-m_0-ts_0-lab_0-pi_1-ac1_0-ac2\",\" 5-m_0-ts_0-lab_1-pi_0-ac1_0-ac2\",\" 5-m_0-ts_1-lab_0-pi_0-ac1_0-ac2\",\" 5-m_1-ts_0-lab_0-pi_0-ac1_0-ac2\",\" 6-m_0-ts_1-lab_0-pi_0-ac1_0-ac2\",\" 6-m_1-ts_0-lab_0-pi_0-ac1_0-ac2\",\" 7-m_0-ts_1-lab_0-pi_0-ac1_0-ac2\",\"PI\",\"ac1\",\"ac2\",\"lab\",\"ts\",\"R1 Structs\"],\"marker\":{\"coloraxis\":\"coloraxis\",\"colors\":[137.33333333333334,147.95,189.0,147.41666666666666,137.75,119.0,149.35294117647058,158.6448598130841,116.44444444444444,149.12820512820514,127.36363636363636,149.3913043478261,135.5,117.61904761904762,144.48598130841123,140.22222222222223,133.33333333333334,129.75,152.31914893617022,136.5625,131.625,118.75,155.5,155.42857142857142,128.40740740740742,140.71259842519686,115.16666666666667,142.1818181818182,150.11111111111111,152.0,155.0,152.0940170940171,164.75,163.5242718446602,166.0,132.85714285714286,125.07455507455508,157.42634782319487,146.47826086956522,146.82596630220291,137.24137931034483,147.5855918956024]},\"name\":\"\",\"parents\":[\"R1 Structs/PI\",\"R1 Structs/lab\",\"R1 Structs/ac1\",\"R1 Structs/lab\",\"R1 Structs/lab\",\"R1 Structs/ts\",\"R1 Structs/ac2\",\"R1 Structs/ac1\",\"R1 Structs/PI\",\"R1 Structs/lab\",\"R1 Structs/PI\",\"R1 Structs/lab\",\"R1 Structs/ac1\",\"R1 Structs/PI\",\"R1 Structs/lab\",\"R1 Structs/lab\",\"R1 Structs/ts\",\"R1 Structs/ac2\",\"R1 Structs/ac1\",\"R1 Structs/lab\",\"R1 Structs/lab\",\"R1 Structs/ts\",\"R1 Structs/ac2\",\"R1 Structs/ac1\",\"R1 Structs/PI\",\"R1 Structs/lab\",\"R1 Structs/ts\",\"R1 Structs/lab\",\"R1 Structs/ts\",\"R1 Structs/ac1\",\"R1 Structs/PI\",\"R1 Structs/lab\",\"R1 Structs/ts\",\"R1 Structs/lab\",\"R1 Structs/ts\",\"R1 Structs/lab\",\"R1 Structs\",\"R1 Structs\",\"R1 Structs\",\"R1 Structs\",\"R1 Structs\",\"\"],\"values\":[7,20,1,13,5,2,17,223,9,39,11,23,2,21,112,9,3,4,47,49,32,4,2,7,28,258,6,22,9,1,1,237,4,103,1,8,77,281,23,930,29,1340],\"type\":\"treemap\"}],                        {\"template\":{\"data\":{\"bar\":[{\"error_x\":{\"color\":\"#2a3f5f\"},\"error_y\":{\"color\":\"#2a3f5f\"},\"marker\":{\"line\":{\"color\":\"#E5ECF6\",\"width\":0.5},\"pattern\":{\"fillmode\":\"overlay\",\"size\":10,\"solidity\":0.2}},\"type\":\"bar\"}],\"barpolar\":[{\"marker\":{\"line\":{\"color\":\"#E5ECF6\",\"width\":0.5},\"pattern\":{\"fillmode\":\"overlay\",\"size\":10,\"solidity\":0.2}},\"type\":\"barpolar\"}],\"carpet\":[{\"aaxis\":{\"endlinecolor\":\"#2a3f5f\",\"gridcolor\":\"white\",\"linecolor\":\"white\",\"minorgridcolor\":\"white\",\"startlinecolor\":\"#2a3f5f\"},\"baxis\":{\"endlinecolor\":\"#2a3f5f\",\"gridcolor\":\"white\",\"linecolor\":\"white\",\"minorgridcolor\":\"white\",\"startlinecolor\":\"#2a3f5f\"},\"type\":\"carpet\"}],\"choropleth\":[{\"colorbar\":{\"outlinewidth\":0,\"ticks\":\"\"},\"type\":\"choropleth\"}],\"contour\":[{\"colorbar\":{\"outlinewidth\":0,\"ticks\":\"\"},\"colorscale\":[[0.0,\"#0d0887\"],[0.1111111111111111,\"#46039f\"],[0.2222222222222222,\"#7201a8\"],[0.3333333333333333,\"#9c179e\"],[0.4444444444444444,\"#bd3786\"],[0.5555555555555556,\"#d8576b\"],[0.6666666666666666,\"#ed7953\"],[0.7777777777777778,\"#fb9f3a\"],[0.8888888888888888,\"#fdca26\"],[1.0,\"#f0f921\"]],\"type\":\"contour\"}],\"contourcarpet\":[{\"colorbar\":{\"outlinewidth\":0,\"ticks\":\"\"},\"type\":\"contourcarpet\"}],\"heatmap\":[{\"colorbar\":{\"outlinewidth\":0,\"ticks\":\"\"},\"colorscale\":[[0.0,\"#0d0887\"],[0.1111111111111111,\"#46039f\"],[0.2222222222222222,\"#7201a8\"],[0.3333333333333333,\"#9c179e\"],[0.4444444444444444,\"#bd3786\"],[0.5555555555555556,\"#d8576b\"],[0.6666666666666666,\"#ed7953\"],[0.7777777777777778,\"#fb9f3a\"],[0.8888888888888888,\"#fdca26\"],[1.0,\"#f0f921\"]],\"type\":\"heatmap\"}],\"heatmapgl\":[{\"colorbar\":{\"outlinewidth\":0,\"ticks\":\"\"},\"colorscale\":[[0.0,\"#0d0887\"],[0.1111111111111111,\"#46039f\"],[0.2222222222222222,\"#7201a8\"],[0.3333333333333333,\"#9c179e\"],[0.4444444444444444,\"#bd3786\"],[0.5555555555555556,\"#d8576b\"],[0.6666666666666666,\"#ed7953\"],[0.7777777777777778,\"#fb9f3a\"],[0.8888888888888888,\"#fdca26\"],[1.0,\"#f0f921\"]],\"type\":\"heatmapgl\"}],\"histogram\":[{\"marker\":{\"pattern\":{\"fillmode\":\"overlay\",\"size\":10,\"solidity\":0.2}},\"type\":\"histogram\"}],\"histogram2d\":[{\"colorbar\":{\"outlinewidth\":0,\"ticks\":\"\"},\"colorscale\":[[0.0,\"#0d0887\"],[0.1111111111111111,\"#46039f\"],[0.2222222222222222,\"#7201a8\"],[0.3333333333333333,\"#9c179e\"],[0.4444444444444444,\"#bd3786\"],[0.5555555555555556,\"#d8576b\"],[0.6666666666666666,\"#ed7953\"],[0.7777777777777778,\"#fb9f3a\"],[0.8888888888888888,\"#fdca26\"],[1.0,\"#f0f921\"]],\"type\":\"histogram2d\"}],\"histogram2dcontour\":[{\"colorbar\":{\"outlinewidth\":0,\"ticks\":\"\"},\"colorscale\":[[0.0,\"#0d0887\"],[0.1111111111111111,\"#46039f\"],[0.2222222222222222,\"#7201a8\"],[0.3333333333333333,\"#9c179e\"],[0.4444444444444444,\"#bd3786\"],[0.5555555555555556,\"#d8576b\"],[0.6666666666666666,\"#ed7953\"],[0.7777777777777778,\"#fb9f3a\"],[0.8888888888888888,\"#fdca26\"],[1.0,\"#f0f921\"]],\"type\":\"histogram2dcontour\"}],\"mesh3d\":[{\"colorbar\":{\"outlinewidth\":0,\"ticks\":\"\"},\"type\":\"mesh3d\"}],\"parcoords\":[{\"line\":{\"colorbar\":{\"outlinewidth\":0,\"ticks\":\"\"}},\"type\":\"parcoords\"}],\"pie\":[{\"automargin\":true,\"type\":\"pie\"}],\"scatter\":[{\"marker\":{\"colorbar\":{\"outlinewidth\":0,\"ticks\":\"\"}},\"type\":\"scatter\"}],\"scatter3d\":[{\"line\":{\"colorbar\":{\"outlinewidth\":0,\"ticks\":\"\"}},\"marker\":{\"colorbar\":{\"outlinewidth\":0,\"ticks\":\"\"}},\"type\":\"scatter3d\"}],\"scattercarpet\":[{\"marker\":{\"colorbar\":{\"outlinewidth\":0,\"ticks\":\"\"}},\"type\":\"scattercarpet\"}],\"scattergeo\":[{\"marker\":{\"colorbar\":{\"outlinewidth\":0,\"ticks\":\"\"}},\"type\":\"scattergeo\"}],\"scattergl\":[{\"marker\":{\"colorbar\":{\"outlinewidth\":0,\"ticks\":\"\"}},\"type\":\"scattergl\"}],\"scattermapbox\":[{\"marker\":{\"colorbar\":{\"outlinewidth\":0,\"ticks\":\"\"}},\"type\":\"scattermapbox\"}],\"scatterpolar\":[{\"marker\":{\"colorbar\":{\"outlinewidth\":0,\"ticks\":\"\"}},\"type\":\"scatterpolar\"}],\"scatterpolargl\":[{\"marker\":{\"colorbar\":{\"outlinewidth\":0,\"ticks\":\"\"}},\"type\":\"scatterpolargl\"}],\"scatterternary\":[{\"marker\":{\"colorbar\":{\"outlinewidth\":0,\"ticks\":\"\"}},\"type\":\"scatterternary\"}],\"surface\":[{\"colorbar\":{\"outlinewidth\":0,\"ticks\":\"\"},\"colorscale\":[[0.0,\"#0d0887\"],[0.1111111111111111,\"#46039f\"],[0.2222222222222222,\"#7201a8\"],[0.3333333333333333,\"#9c179e\"],[0.4444444444444444,\"#bd3786\"],[0.5555555555555556,\"#d8576b\"],[0.6666666666666666,\"#ed7953\"],[0.7777777777777778,\"#fb9f3a\"],[0.8888888888888888,\"#fdca26\"],[1.0,\"#f0f921\"]],\"type\":\"surface\"}],\"table\":[{\"cells\":{\"fill\":{\"color\":\"#EBF0F8\"},\"line\":{\"color\":\"white\"}},\"header\":{\"fill\":{\"color\":\"#C8D4E3\"},\"line\":{\"color\":\"white\"}},\"type\":\"table\"}]},\"layout\":{\"annotationdefaults\":{\"arrowcolor\":\"#2a3f5f\",\"arrowhead\":0,\"arrowwidth\":1},\"autotypenumbers\":\"strict\",\"coloraxis\":{\"colorbar\":{\"outlinewidth\":0,\"ticks\":\"\"}},\"colorscale\":{\"diverging\":[[0,\"#8e0152\"],[0.1,\"#c51b7d\"],[0.2,\"#de77ae\"],[0.3,\"#f1b6da\"],[0.4,\"#fde0ef\"],[0.5,\"#f7f7f7\"],[0.6,\"#e6f5d0\"],[0.7,\"#b8e186\"],[0.8,\"#7fbc41\"],[0.9,\"#4d9221\"],[1,\"#276419\"]],\"sequential\":[[0.0,\"#0d0887\"],[0.1111111111111111,\"#46039f\"],[0.2222222222222222,\"#7201a8\"],[0.3333333333333333,\"#9c179e\"],[0.4444444444444444,\"#bd3786\"],[0.5555555555555556,\"#d8576b\"],[0.6666666666666666,\"#ed7953\"],[0.7777777777777778,\"#fb9f3a\"],[0.8888888888888888,\"#fdca26\"],[1.0,\"#f0f921\"]],\"sequentialminus\":[[0.0,\"#0d0887\"],[0.1111111111111111,\"#46039f\"],[0.2222222222222222,\"#7201a8\"],[0.3333333333333333,\"#9c179e\"],[0.4444444444444444,\"#bd3786\"],[0.5555555555555556,\"#d8576b\"],[0.6666666666666666,\"#ed7953\"],[0.7777777777777778,\"#fb9f3a\"],[0.8888888888888888,\"#fdca26\"],[1.0,\"#f0f921\"]]},\"colorway\":[\"#636efa\",\"#EF553B\",\"#00cc96\",\"#ab63fa\",\"#FFA15A\",\"#19d3f3\",\"#FF6692\",\"#B6E880\",\"#FF97FF\",\"#FECB52\"],\"font\":{\"color\":\"#2a3f5f\"},\"geo\":{\"bgcolor\":\"white\",\"lakecolor\":\"white\",\"landcolor\":\"#E5ECF6\",\"showlakes\":true,\"showland\":true,\"subunitcolor\":\"white\"},\"hoverlabel\":{\"align\":\"left\"},\"hovermode\":\"closest\",\"mapbox\":{\"style\":\"light\"},\"paper_bgcolor\":\"white\",\"plot_bgcolor\":\"#E5ECF6\",\"polar\":{\"angularaxis\":{\"gridcolor\":\"white\",\"linecolor\":\"white\",\"ticks\":\"\"},\"bgcolor\":\"#E5ECF6\",\"radialaxis\":{\"gridcolor\":\"white\",\"linecolor\":\"white\",\"ticks\":\"\"}},\"scene\":{\"xaxis\":{\"backgroundcolor\":\"#E5ECF6\",\"gridcolor\":\"white\",\"gridwidth\":2,\"linecolor\":\"white\",\"showbackground\":true,\"ticks\":\"\",\"zerolinecolor\":\"white\"},\"yaxis\":{\"backgroundcolor\":\"#E5ECF6\",\"gridcolor\":\"white\",\"gridwidth\":2,\"linecolor\":\"white\",\"showbackground\":true,\"ticks\":\"\",\"zerolinecolor\":\"white\"},\"zaxis\":{\"backgroundcolor\":\"#E5ECF6\",\"gridcolor\":\"white\",\"gridwidth\":2,\"linecolor\":\"white\",\"showbackground\":true,\"ticks\":\"\",\"zerolinecolor\":\"white\"}},\"shapedefaults\":{\"line\":{\"color\":\"#2a3f5f\"}},\"ternary\":{\"aaxis\":{\"gridcolor\":\"white\",\"linecolor\":\"white\",\"ticks\":\"\"},\"baxis\":{\"gridcolor\":\"white\",\"linecolor\":\"white\",\"ticks\":\"\"},\"bgcolor\":\"#E5ECF6\",\"caxis\":{\"gridcolor\":\"white\",\"linecolor\":\"white\",\"ticks\":\"\"}},\"title\":{\"x\":0.05},\"xaxis\":{\"automargin\":true,\"gridcolor\":\"white\",\"linecolor\":\"white\",\"ticks\":\"\",\"title\":{\"standoff\":15},\"zerolinecolor\":\"white\",\"zerolinewidth\":2},\"yaxis\":{\"automargin\":true,\"gridcolor\":\"white\",\"linecolor\":\"white\",\"ticks\":\"\",\"title\":{\"standoff\":15},\"zerolinecolor\":\"white\",\"zerolinewidth\":2}}},\"coloraxis\":{\"colorbar\":{\"title\":{\"text\":\"ave_score_xenos\"}},\"colorscale\":[[0.0,\"rgb(103,0,31)\"],[0.1,\"rgb(178,24,43)\"],[0.2,\"rgb(214,96,77)\"],[0.3,\"rgb(244,165,130)\"],[0.4,\"rgb(253,219,199)\"],[0.5,\"rgb(247,247,247)\"],[0.6,\"rgb(209,229,240)\"],[0.7,\"rgb(146,197,222)\"],[0.8,\"rgb(67,147,195)\"],[0.9,\"rgb(33,102,172)\"],[1.0,\"rgb(5,48,97)\"]],\"cmid\":148.12743354661777},\"legend\":{\"tracegroupgap\":0},\"margin\":{\"t\":50,\"l\":25,\"r\":25,\"b\":25},\"title\":{\"text\":\"R1 Structures: Frequency and Impact on Score Relative to All Factions Average (148.13): xenos\"}},                        {\"responsive\": true}                    ).then(function(){\n",
       "                            \n",
       "var gd = document.getElementById('1d2d96cf-ba3b-4a62-bf89-37af188f85a8');\n",
       "var x = new MutationObserver(function (mutations, observer) {{\n",
       "        var display = window.getComputedStyle(gd).display;\n",
       "        if (!display || display === 'none') {{\n",
       "            console.log([gd, 'removed!']);\n",
       "            Plotly.purge(gd);\n",
       "            observer.disconnect();\n",
       "        }}\n",
       "}});\n",
       "\n",
       "// Listen for the removal of the full notebook cells\n",
       "var notebookContainer = gd.closest('#notebook-container');\n",
       "if (notebookContainer) {{\n",
       "    x.observe(notebookContainer, {childList: true});\n",
       "}}\n",
       "\n",
       "// Listen for the clearing of the current output cell\n",
       "var outputEl = gd.closest('.output');\n",
       "if (outputEl) {{\n",
       "    x.observe(outputEl, {childList: true});\n",
       "}}\n",
       "\n",
       "                        })                };                });            </script>        </div>"
      ]
     },
     "metadata": {},
     "output_type": "display_data"
    },
    {
     "data": {
      "application/vnd.plotly.v1+json": {
       "config": {
        "plotlyServerURL": "https://plot.ly"
       },
       "data": [
        {
         "branchvalues": "total",
         "customdata": [
          [
           217,
           151
          ],
          [
           122.5,
           111
          ],
          [
           258.5073746312684,
           166.36936936936937
          ],
          [
           151.875,
           113.5625
          ],
          [
           155,
           127
          ],
          [
           110.33333333333333,
           118.11111111111111
          ],
          [
           202.75862068965517,
           143.78571428571428
          ],
          [
           111,
           99
          ],
          [
           274.24242424242425,
           170.05154639175257
          ],
          [
           209.75,
           151.02777777777777
          ],
          [
           215,
           178
          ],
          [
           83.33333333333333,
           138
          ],
          [
           148.35294117647058,
           119.88235294117646
          ],
          [
           212.5774058577406,
           150.98936170212767
          ],
          [
           246.16666666666666,
           152.66666666666666
          ],
          [
           210.57264957264957,
           155.35042735042734
          ],
          [
           116.83333333333333,
           135
          ],
          [
           121,
           106.66666666666667
          ],
          [
           180.13076923076923,
           141.31746031746033
          ],
          [
           100.5,
           106
          ],
          [
           124,
           143
          ],
          [
           2,
           101
          ],
          [
           236.64,
           152.3
          ],
          [
           77,
           111
          ],
          [
           29,
           106
          ],
          [
           106.25,
           152.25
          ],
          [
           "(?)",
           163.97113778269983
          ],
          [
           "(?)",
           133.6
          ],
          [
           "(?)",
           149.19166182020507
          ],
          [
           "(?)",
           103.5
          ],
          [
           "(?)",
           126.91666666666667
          ],
          [
           "(?)",
           153.7788336300086
          ]
         ],
         "domain": {
          "x": [
           0,
           1
          ],
          "y": [
           0,
           1
          ]
         },
         "hovertemplate": "labels=%{label}<br>class_counts=%{value}<br>parent=%{parent}<br>id=%{id}<br>ave_elo_firaks=%{customdata[0]}<br>ave_score_firaks=%{color}<extra></extra>",
         "ids": [
          "R1 Structs/PI/ 0-m_0-ts_1-lab_1-pi_0-ac1_0-ac2",
          "R1 Structs/lab/ 0-m_0-ts_2-lab_0-pi_0-ac1_0-ac2",
          "R1 Structs/PI/ 0-m_1-ts_0-lab_1-pi_0-ac1_0-ac2",
          "R1 Structs/lab/ 0-m_1-ts_1-lab_0-pi_0-ac1_0-ac2",
          "R1 Structs/ac1/ 1-m_0-ts_0-lab_0-pi_1-ac1_0-ac2",
          "R1 Structs/PI/ 1-m_0-ts_0-lab_1-pi_0-ac1_0-ac2",
          "R1 Structs/lab/ 1-m_0-ts_1-lab_0-pi_0-ac1_0-ac2",
          "R1 Structs/lab/ 1-m_0-ts_2-lab_0-pi_0-ac1_0-ac2",
          "R1 Structs/PI/ 1-m_1-ts_0-lab_1-pi_0-ac1_0-ac2",
          "R1 Structs/lab/ 1-m_1-ts_1-lab_0-pi_0-ac1_0-ac2",
          "R1 Structs/ts/ 1-m_3-ts_0-lab_0-pi_0-ac1_0-ac2",
          "R1 Structs/ac1/ 2-m_0-ts_0-lab_0-pi_1-ac1_0-ac2",
          "R1 Structs/PI/ 2-m_0-ts_0-lab_1-pi_0-ac1_0-ac2",
          "R1 Structs/lab/ 2-m_0-ts_1-lab_0-pi_0-ac1_0-ac2",
          "R1 Structs/PI/ 2-m_1-ts_0-lab_1-pi_0-ac1_0-ac2",
          "R1 Structs/lab/ 2-m_1-ts_1-lab_0-pi_0-ac1_0-ac2",
          "R1 Structs/ts/ 2-m_2-ts_0-lab_0-pi_0-ac1_0-ac2",
          "R1 Structs/PI/ 3-m_0-ts_0-lab_1-pi_0-ac1_0-ac2",
          "R1 Structs/lab/ 3-m_0-ts_1-lab_0-pi_0-ac1_0-ac2",
          "R1 Structs/ts/ 3-m_1-ts_0-lab_0-pi_0-ac1_0-ac2",
          "R1 Structs/lab/ 3-m_1-ts_1-lab_0-pi_0-ac1_0-ac2",
          "R1 Structs/m/ 4-m_0-ts_0-lab_0-pi_0-ac1_0-ac2",
          "R1 Structs/lab/ 4-m_0-ts_1-lab_0-pi_0-ac1_0-ac2",
          "R1 Structs/ts/ 4-m_1-ts_0-lab_0-pi_0-ac1_0-ac2",
          "R1 Structs/m/ 5-m_0-ts_0-lab_0-pi_0-ac1_0-ac2",
          "R1 Structs/lab/ 5-m_0-ts_1-lab_0-pi_0-ac1_0-ac2",
          "R1 Structs/PI",
          "R1 Structs/ac1",
          "R1 Structs/lab",
          "R1 Structs/m",
          "R1 Structs/ts",
          "R1 Structs"
         ],
         "labels": [
          " 0-m_0-ts_1-lab_1-pi_0-ac1_0-ac2",
          " 0-m_0-ts_2-lab_0-pi_0-ac1_0-ac2",
          " 0-m_1-ts_0-lab_1-pi_0-ac1_0-ac2",
          " 0-m_1-ts_1-lab_0-pi_0-ac1_0-ac2",
          " 1-m_0-ts_0-lab_0-pi_1-ac1_0-ac2",
          " 1-m_0-ts_0-lab_1-pi_0-ac1_0-ac2",
          " 1-m_0-ts_1-lab_0-pi_0-ac1_0-ac2",
          " 1-m_0-ts_2-lab_0-pi_0-ac1_0-ac2",
          " 1-m_1-ts_0-lab_1-pi_0-ac1_0-ac2",
          " 1-m_1-ts_1-lab_0-pi_0-ac1_0-ac2",
          " 1-m_3-ts_0-lab_0-pi_0-ac1_0-ac2",
          " 2-m_0-ts_0-lab_0-pi_1-ac1_0-ac2",
          " 2-m_0-ts_0-lab_1-pi_0-ac1_0-ac2",
          " 2-m_0-ts_1-lab_0-pi_0-ac1_0-ac2",
          " 2-m_1-ts_0-lab_1-pi_0-ac1_0-ac2",
          " 2-m_1-ts_1-lab_0-pi_0-ac1_0-ac2",
          " 2-m_2-ts_0-lab_0-pi_0-ac1_0-ac2",
          " 3-m_0-ts_0-lab_1-pi_0-ac1_0-ac2",
          " 3-m_0-ts_1-lab_0-pi_0-ac1_0-ac2",
          " 3-m_1-ts_0-lab_0-pi_0-ac1_0-ac2",
          " 3-m_1-ts_1-lab_0-pi_0-ac1_0-ac2",
          " 4-m_0-ts_0-lab_0-pi_0-ac1_0-ac2",
          " 4-m_0-ts_1-lab_0-pi_0-ac1_0-ac2",
          " 4-m_1-ts_0-lab_0-pi_0-ac1_0-ac2",
          " 5-m_0-ts_0-lab_0-pi_0-ac1_0-ac2",
          " 5-m_0-ts_1-lab_0-pi_0-ac1_0-ac2",
          "PI",
          "ac1",
          "lab",
          "m",
          "ts",
          "R1 Structs"
         ],
         "marker": {
          "coloraxis": "coloraxis",
          "colors": [
           151,
           111,
           166.36936936936937,
           113.5625,
           127,
           118.11111111111111,
           143.78571428571428,
           99,
           170.05154639175257,
           151.02777777777777,
           178,
           138,
           119.88235294117646,
           150.98936170212767,
           152.66666666666666,
           155.35042735042734,
           135,
           106.66666666666667,
           141.31746031746033,
           106,
           143,
           101,
           152.3,
           111,
           106,
           152.25,
           163.97113778269983,
           133.6,
           149.19166182020507,
           103.5,
           126.91666666666667,
           153.7788336300086
          ]
         },
         "name": "",
         "parents": [
          "R1 Structs/PI",
          "R1 Structs/lab",
          "R1 Structs/PI",
          "R1 Structs/lab",
          "R1 Structs/ac1",
          "R1 Structs/PI",
          "R1 Structs/lab",
          "R1 Structs/lab",
          "R1 Structs/PI",
          "R1 Structs/lab",
          "R1 Structs/ts",
          "R1 Structs/ac1",
          "R1 Structs/PI",
          "R1 Structs/lab",
          "R1 Structs/PI",
          "R1 Structs/lab",
          "R1 Structs/ts",
          "R1 Structs/PI",
          "R1 Structs/lab",
          "R1 Structs/ts",
          "R1 Structs/lab",
          "R1 Structs/m",
          "R1 Structs/lab",
          "R1 Structs/ts",
          "R1 Structs/m",
          "R1 Structs/lab",
          "R1 Structs",
          "R1 Structs",
          "R1 Structs",
          "R1 Structs",
          "R1 Structs",
          ""
         ],
         "type": "treemap",
         "values": [
          1,
          2,
          339,
          16,
          2,
          9,
          29,
          2,
          99,
          108,
          1,
          3,
          17,
          478,
          6,
          117,
          6,
          3,
          130,
          4,
          3,
          1,
          50,
          1,
          1,
          4,
          474,
          5,
          939,
          2,
          12,
          1432
         ]
        }
       ],
       "layout": {
        "coloraxis": {
         "cmid": 148.12743354661777,
         "colorbar": {
          "title": {
           "text": "ave_score_firaks"
          }
         },
         "colorscale": [
          [
           0,
           "rgb(103,0,31)"
          ],
          [
           0.1,
           "rgb(178,24,43)"
          ],
          [
           0.2,
           "rgb(214,96,77)"
          ],
          [
           0.3,
           "rgb(244,165,130)"
          ],
          [
           0.4,
           "rgb(253,219,199)"
          ],
          [
           0.5,
           "rgb(247,247,247)"
          ],
          [
           0.6,
           "rgb(209,229,240)"
          ],
          [
           0.7,
           "rgb(146,197,222)"
          ],
          [
           0.8,
           "rgb(67,147,195)"
          ],
          [
           0.9,
           "rgb(33,102,172)"
          ],
          [
           1,
           "rgb(5,48,97)"
          ]
         ]
        },
        "legend": {
         "tracegroupgap": 0
        },
        "margin": {
         "b": 25,
         "l": 25,
         "r": 25,
         "t": 50
        },
        "template": {
         "data": {
          "bar": [
           {
            "error_x": {
             "color": "#2a3f5f"
            },
            "error_y": {
             "color": "#2a3f5f"
            },
            "marker": {
             "line": {
              "color": "#E5ECF6",
              "width": 0.5
             },
             "pattern": {
              "fillmode": "overlay",
              "size": 10,
              "solidity": 0.2
             }
            },
            "type": "bar"
           }
          ],
          "barpolar": [
           {
            "marker": {
             "line": {
              "color": "#E5ECF6",
              "width": 0.5
             },
             "pattern": {
              "fillmode": "overlay",
              "size": 10,
              "solidity": 0.2
             }
            },
            "type": "barpolar"
           }
          ],
          "carpet": [
           {
            "aaxis": {
             "endlinecolor": "#2a3f5f",
             "gridcolor": "white",
             "linecolor": "white",
             "minorgridcolor": "white",
             "startlinecolor": "#2a3f5f"
            },
            "baxis": {
             "endlinecolor": "#2a3f5f",
             "gridcolor": "white",
             "linecolor": "white",
             "minorgridcolor": "white",
             "startlinecolor": "#2a3f5f"
            },
            "type": "carpet"
           }
          ],
          "choropleth": [
           {
            "colorbar": {
             "outlinewidth": 0,
             "ticks": ""
            },
            "type": "choropleth"
           }
          ],
          "contour": [
           {
            "colorbar": {
             "outlinewidth": 0,
             "ticks": ""
            },
            "colorscale": [
             [
              0,
              "#0d0887"
             ],
             [
              0.1111111111111111,
              "#46039f"
             ],
             [
              0.2222222222222222,
              "#7201a8"
             ],
             [
              0.3333333333333333,
              "#9c179e"
             ],
             [
              0.4444444444444444,
              "#bd3786"
             ],
             [
              0.5555555555555556,
              "#d8576b"
             ],
             [
              0.6666666666666666,
              "#ed7953"
             ],
             [
              0.7777777777777778,
              "#fb9f3a"
             ],
             [
              0.8888888888888888,
              "#fdca26"
             ],
             [
              1,
              "#f0f921"
             ]
            ],
            "type": "contour"
           }
          ],
          "contourcarpet": [
           {
            "colorbar": {
             "outlinewidth": 0,
             "ticks": ""
            },
            "type": "contourcarpet"
           }
          ],
          "heatmap": [
           {
            "colorbar": {
             "outlinewidth": 0,
             "ticks": ""
            },
            "colorscale": [
             [
              0,
              "#0d0887"
             ],
             [
              0.1111111111111111,
              "#46039f"
             ],
             [
              0.2222222222222222,
              "#7201a8"
             ],
             [
              0.3333333333333333,
              "#9c179e"
             ],
             [
              0.4444444444444444,
              "#bd3786"
             ],
             [
              0.5555555555555556,
              "#d8576b"
             ],
             [
              0.6666666666666666,
              "#ed7953"
             ],
             [
              0.7777777777777778,
              "#fb9f3a"
             ],
             [
              0.8888888888888888,
              "#fdca26"
             ],
             [
              1,
              "#f0f921"
             ]
            ],
            "type": "heatmap"
           }
          ],
          "heatmapgl": [
           {
            "colorbar": {
             "outlinewidth": 0,
             "ticks": ""
            },
            "colorscale": [
             [
              0,
              "#0d0887"
             ],
             [
              0.1111111111111111,
              "#46039f"
             ],
             [
              0.2222222222222222,
              "#7201a8"
             ],
             [
              0.3333333333333333,
              "#9c179e"
             ],
             [
              0.4444444444444444,
              "#bd3786"
             ],
             [
              0.5555555555555556,
              "#d8576b"
             ],
             [
              0.6666666666666666,
              "#ed7953"
             ],
             [
              0.7777777777777778,
              "#fb9f3a"
             ],
             [
              0.8888888888888888,
              "#fdca26"
             ],
             [
              1,
              "#f0f921"
             ]
            ],
            "type": "heatmapgl"
           }
          ],
          "histogram": [
           {
            "marker": {
             "pattern": {
              "fillmode": "overlay",
              "size": 10,
              "solidity": 0.2
             }
            },
            "type": "histogram"
           }
          ],
          "histogram2d": [
           {
            "colorbar": {
             "outlinewidth": 0,
             "ticks": ""
            },
            "colorscale": [
             [
              0,
              "#0d0887"
             ],
             [
              0.1111111111111111,
              "#46039f"
             ],
             [
              0.2222222222222222,
              "#7201a8"
             ],
             [
              0.3333333333333333,
              "#9c179e"
             ],
             [
              0.4444444444444444,
              "#bd3786"
             ],
             [
              0.5555555555555556,
              "#d8576b"
             ],
             [
              0.6666666666666666,
              "#ed7953"
             ],
             [
              0.7777777777777778,
              "#fb9f3a"
             ],
             [
              0.8888888888888888,
              "#fdca26"
             ],
             [
              1,
              "#f0f921"
             ]
            ],
            "type": "histogram2d"
           }
          ],
          "histogram2dcontour": [
           {
            "colorbar": {
             "outlinewidth": 0,
             "ticks": ""
            },
            "colorscale": [
             [
              0,
              "#0d0887"
             ],
             [
              0.1111111111111111,
              "#46039f"
             ],
             [
              0.2222222222222222,
              "#7201a8"
             ],
             [
              0.3333333333333333,
              "#9c179e"
             ],
             [
              0.4444444444444444,
              "#bd3786"
             ],
             [
              0.5555555555555556,
              "#d8576b"
             ],
             [
              0.6666666666666666,
              "#ed7953"
             ],
             [
              0.7777777777777778,
              "#fb9f3a"
             ],
             [
              0.8888888888888888,
              "#fdca26"
             ],
             [
              1,
              "#f0f921"
             ]
            ],
            "type": "histogram2dcontour"
           }
          ],
          "mesh3d": [
           {
            "colorbar": {
             "outlinewidth": 0,
             "ticks": ""
            },
            "type": "mesh3d"
           }
          ],
          "parcoords": [
           {
            "line": {
             "colorbar": {
              "outlinewidth": 0,
              "ticks": ""
             }
            },
            "type": "parcoords"
           }
          ],
          "pie": [
           {
            "automargin": true,
            "type": "pie"
           }
          ],
          "scatter": [
           {
            "marker": {
             "colorbar": {
              "outlinewidth": 0,
              "ticks": ""
             }
            },
            "type": "scatter"
           }
          ],
          "scatter3d": [
           {
            "line": {
             "colorbar": {
              "outlinewidth": 0,
              "ticks": ""
             }
            },
            "marker": {
             "colorbar": {
              "outlinewidth": 0,
              "ticks": ""
             }
            },
            "type": "scatter3d"
           }
          ],
          "scattercarpet": [
           {
            "marker": {
             "colorbar": {
              "outlinewidth": 0,
              "ticks": ""
             }
            },
            "type": "scattercarpet"
           }
          ],
          "scattergeo": [
           {
            "marker": {
             "colorbar": {
              "outlinewidth": 0,
              "ticks": ""
             }
            },
            "type": "scattergeo"
           }
          ],
          "scattergl": [
           {
            "marker": {
             "colorbar": {
              "outlinewidth": 0,
              "ticks": ""
             }
            },
            "type": "scattergl"
           }
          ],
          "scattermapbox": [
           {
            "marker": {
             "colorbar": {
              "outlinewidth": 0,
              "ticks": ""
             }
            },
            "type": "scattermapbox"
           }
          ],
          "scatterpolar": [
           {
            "marker": {
             "colorbar": {
              "outlinewidth": 0,
              "ticks": ""
             }
            },
            "type": "scatterpolar"
           }
          ],
          "scatterpolargl": [
           {
            "marker": {
             "colorbar": {
              "outlinewidth": 0,
              "ticks": ""
             }
            },
            "type": "scatterpolargl"
           }
          ],
          "scatterternary": [
           {
            "marker": {
             "colorbar": {
              "outlinewidth": 0,
              "ticks": ""
             }
            },
            "type": "scatterternary"
           }
          ],
          "surface": [
           {
            "colorbar": {
             "outlinewidth": 0,
             "ticks": ""
            },
            "colorscale": [
             [
              0,
              "#0d0887"
             ],
             [
              0.1111111111111111,
              "#46039f"
             ],
             [
              0.2222222222222222,
              "#7201a8"
             ],
             [
              0.3333333333333333,
              "#9c179e"
             ],
             [
              0.4444444444444444,
              "#bd3786"
             ],
             [
              0.5555555555555556,
              "#d8576b"
             ],
             [
              0.6666666666666666,
              "#ed7953"
             ],
             [
              0.7777777777777778,
              "#fb9f3a"
             ],
             [
              0.8888888888888888,
              "#fdca26"
             ],
             [
              1,
              "#f0f921"
             ]
            ],
            "type": "surface"
           }
          ],
          "table": [
           {
            "cells": {
             "fill": {
              "color": "#EBF0F8"
             },
             "line": {
              "color": "white"
             }
            },
            "header": {
             "fill": {
              "color": "#C8D4E3"
             },
             "line": {
              "color": "white"
             }
            },
            "type": "table"
           }
          ]
         },
         "layout": {
          "annotationdefaults": {
           "arrowcolor": "#2a3f5f",
           "arrowhead": 0,
           "arrowwidth": 1
          },
          "autotypenumbers": "strict",
          "coloraxis": {
           "colorbar": {
            "outlinewidth": 0,
            "ticks": ""
           }
          },
          "colorscale": {
           "diverging": [
            [
             0,
             "#8e0152"
            ],
            [
             0.1,
             "#c51b7d"
            ],
            [
             0.2,
             "#de77ae"
            ],
            [
             0.3,
             "#f1b6da"
            ],
            [
             0.4,
             "#fde0ef"
            ],
            [
             0.5,
             "#f7f7f7"
            ],
            [
             0.6,
             "#e6f5d0"
            ],
            [
             0.7,
             "#b8e186"
            ],
            [
             0.8,
             "#7fbc41"
            ],
            [
             0.9,
             "#4d9221"
            ],
            [
             1,
             "#276419"
            ]
           ],
           "sequential": [
            [
             0,
             "#0d0887"
            ],
            [
             0.1111111111111111,
             "#46039f"
            ],
            [
             0.2222222222222222,
             "#7201a8"
            ],
            [
             0.3333333333333333,
             "#9c179e"
            ],
            [
             0.4444444444444444,
             "#bd3786"
            ],
            [
             0.5555555555555556,
             "#d8576b"
            ],
            [
             0.6666666666666666,
             "#ed7953"
            ],
            [
             0.7777777777777778,
             "#fb9f3a"
            ],
            [
             0.8888888888888888,
             "#fdca26"
            ],
            [
             1,
             "#f0f921"
            ]
           ],
           "sequentialminus": [
            [
             0,
             "#0d0887"
            ],
            [
             0.1111111111111111,
             "#46039f"
            ],
            [
             0.2222222222222222,
             "#7201a8"
            ],
            [
             0.3333333333333333,
             "#9c179e"
            ],
            [
             0.4444444444444444,
             "#bd3786"
            ],
            [
             0.5555555555555556,
             "#d8576b"
            ],
            [
             0.6666666666666666,
             "#ed7953"
            ],
            [
             0.7777777777777778,
             "#fb9f3a"
            ],
            [
             0.8888888888888888,
             "#fdca26"
            ],
            [
             1,
             "#f0f921"
            ]
           ]
          },
          "colorway": [
           "#636efa",
           "#EF553B",
           "#00cc96",
           "#ab63fa",
           "#FFA15A",
           "#19d3f3",
           "#FF6692",
           "#B6E880",
           "#FF97FF",
           "#FECB52"
          ],
          "font": {
           "color": "#2a3f5f"
          },
          "geo": {
           "bgcolor": "white",
           "lakecolor": "white",
           "landcolor": "#E5ECF6",
           "showlakes": true,
           "showland": true,
           "subunitcolor": "white"
          },
          "hoverlabel": {
           "align": "left"
          },
          "hovermode": "closest",
          "mapbox": {
           "style": "light"
          },
          "paper_bgcolor": "white",
          "plot_bgcolor": "#E5ECF6",
          "polar": {
           "angularaxis": {
            "gridcolor": "white",
            "linecolor": "white",
            "ticks": ""
           },
           "bgcolor": "#E5ECF6",
           "radialaxis": {
            "gridcolor": "white",
            "linecolor": "white",
            "ticks": ""
           }
          },
          "scene": {
           "xaxis": {
            "backgroundcolor": "#E5ECF6",
            "gridcolor": "white",
            "gridwidth": 2,
            "linecolor": "white",
            "showbackground": true,
            "ticks": "",
            "zerolinecolor": "white"
           },
           "yaxis": {
            "backgroundcolor": "#E5ECF6",
            "gridcolor": "white",
            "gridwidth": 2,
            "linecolor": "white",
            "showbackground": true,
            "ticks": "",
            "zerolinecolor": "white"
           },
           "zaxis": {
            "backgroundcolor": "#E5ECF6",
            "gridcolor": "white",
            "gridwidth": 2,
            "linecolor": "white",
            "showbackground": true,
            "ticks": "",
            "zerolinecolor": "white"
           }
          },
          "shapedefaults": {
           "line": {
            "color": "#2a3f5f"
           }
          },
          "ternary": {
           "aaxis": {
            "gridcolor": "white",
            "linecolor": "white",
            "ticks": ""
           },
           "baxis": {
            "gridcolor": "white",
            "linecolor": "white",
            "ticks": ""
           },
           "bgcolor": "#E5ECF6",
           "caxis": {
            "gridcolor": "white",
            "linecolor": "white",
            "ticks": ""
           }
          },
          "title": {
           "x": 0.05
          },
          "xaxis": {
           "automargin": true,
           "gridcolor": "white",
           "linecolor": "white",
           "ticks": "",
           "title": {
            "standoff": 15
           },
           "zerolinecolor": "white",
           "zerolinewidth": 2
          },
          "yaxis": {
           "automargin": true,
           "gridcolor": "white",
           "linecolor": "white",
           "ticks": "",
           "title": {
            "standoff": 15
           },
           "zerolinecolor": "white",
           "zerolinewidth": 2
          }
         }
        },
        "title": {
         "text": "R1 Structures: Frequency and Impact on Score Relative to All Factions Average (148.13): firaks"
        }
       }
      },
      "text/html": [
       "<div>                            <div id=\"3d8b04b7-4489-46a1-ab2d-662614b12d1d\" class=\"plotly-graph-div\" style=\"height:525px; width:100%;\"></div>            <script type=\"text/javascript\">                require([\"plotly\"], function(Plotly) {                    window.PLOTLYENV=window.PLOTLYENV || {};                                    if (document.getElementById(\"3d8b04b7-4489-46a1-ab2d-662614b12d1d\")) {                    Plotly.newPlot(                        \"3d8b04b7-4489-46a1-ab2d-662614b12d1d\",                        [{\"branchvalues\":\"total\",\"customdata\":[[217.0,151.0],[122.5,111.0],[258.5073746312684,166.36936936936937],[151.875,113.5625],[155.0,127.0],[110.33333333333333,118.11111111111111],[202.75862068965517,143.78571428571428],[111.0,99.0],[274.24242424242425,170.05154639175257],[209.75,151.02777777777777],[215.0,178.0],[83.33333333333333,138.0],[148.35294117647058,119.88235294117646],[212.5774058577406,150.98936170212767],[246.16666666666666,152.66666666666666],[210.57264957264957,155.35042735042734],[116.83333333333333,135.0],[121.0,106.66666666666667],[180.13076923076923,141.31746031746033],[100.5,106.0],[124.0,143.0],[2.0,101.0],[236.64,152.3],[77.0,111.0],[29.0,106.0],[106.25,152.25],[\"(?)\",163.97113778269983],[\"(?)\",133.6],[\"(?)\",149.19166182020507],[\"(?)\",103.5],[\"(?)\",126.91666666666667],[\"(?)\",153.7788336300086]],\"domain\":{\"x\":[0.0,1.0],\"y\":[0.0,1.0]},\"hovertemplate\":\"labels=%{label}<br>class_counts=%{value}<br>parent=%{parent}<br>id=%{id}<br>ave_elo_firaks=%{customdata[0]}<br>ave_score_firaks=%{color}<extra></extra>\",\"ids\":[\"R1 Structs/PI/ 0-m_0-ts_1-lab_1-pi_0-ac1_0-ac2\",\"R1 Structs/lab/ 0-m_0-ts_2-lab_0-pi_0-ac1_0-ac2\",\"R1 Structs/PI/ 0-m_1-ts_0-lab_1-pi_0-ac1_0-ac2\",\"R1 Structs/lab/ 0-m_1-ts_1-lab_0-pi_0-ac1_0-ac2\",\"R1 Structs/ac1/ 1-m_0-ts_0-lab_0-pi_1-ac1_0-ac2\",\"R1 Structs/PI/ 1-m_0-ts_0-lab_1-pi_0-ac1_0-ac2\",\"R1 Structs/lab/ 1-m_0-ts_1-lab_0-pi_0-ac1_0-ac2\",\"R1 Structs/lab/ 1-m_0-ts_2-lab_0-pi_0-ac1_0-ac2\",\"R1 Structs/PI/ 1-m_1-ts_0-lab_1-pi_0-ac1_0-ac2\",\"R1 Structs/lab/ 1-m_1-ts_1-lab_0-pi_0-ac1_0-ac2\",\"R1 Structs/ts/ 1-m_3-ts_0-lab_0-pi_0-ac1_0-ac2\",\"R1 Structs/ac1/ 2-m_0-ts_0-lab_0-pi_1-ac1_0-ac2\",\"R1 Structs/PI/ 2-m_0-ts_0-lab_1-pi_0-ac1_0-ac2\",\"R1 Structs/lab/ 2-m_0-ts_1-lab_0-pi_0-ac1_0-ac2\",\"R1 Structs/PI/ 2-m_1-ts_0-lab_1-pi_0-ac1_0-ac2\",\"R1 Structs/lab/ 2-m_1-ts_1-lab_0-pi_0-ac1_0-ac2\",\"R1 Structs/ts/ 2-m_2-ts_0-lab_0-pi_0-ac1_0-ac2\",\"R1 Structs/PI/ 3-m_0-ts_0-lab_1-pi_0-ac1_0-ac2\",\"R1 Structs/lab/ 3-m_0-ts_1-lab_0-pi_0-ac1_0-ac2\",\"R1 Structs/ts/ 3-m_1-ts_0-lab_0-pi_0-ac1_0-ac2\",\"R1 Structs/lab/ 3-m_1-ts_1-lab_0-pi_0-ac1_0-ac2\",\"R1 Structs/m/ 4-m_0-ts_0-lab_0-pi_0-ac1_0-ac2\",\"R1 Structs/lab/ 4-m_0-ts_1-lab_0-pi_0-ac1_0-ac2\",\"R1 Structs/ts/ 4-m_1-ts_0-lab_0-pi_0-ac1_0-ac2\",\"R1 Structs/m/ 5-m_0-ts_0-lab_0-pi_0-ac1_0-ac2\",\"R1 Structs/lab/ 5-m_0-ts_1-lab_0-pi_0-ac1_0-ac2\",\"R1 Structs/PI\",\"R1 Structs/ac1\",\"R1 Structs/lab\",\"R1 Structs/m\",\"R1 Structs/ts\",\"R1 Structs\"],\"labels\":[\" 0-m_0-ts_1-lab_1-pi_0-ac1_0-ac2\",\" 0-m_0-ts_2-lab_0-pi_0-ac1_0-ac2\",\" 0-m_1-ts_0-lab_1-pi_0-ac1_0-ac2\",\" 0-m_1-ts_1-lab_0-pi_0-ac1_0-ac2\",\" 1-m_0-ts_0-lab_0-pi_1-ac1_0-ac2\",\" 1-m_0-ts_0-lab_1-pi_0-ac1_0-ac2\",\" 1-m_0-ts_1-lab_0-pi_0-ac1_0-ac2\",\" 1-m_0-ts_2-lab_0-pi_0-ac1_0-ac2\",\" 1-m_1-ts_0-lab_1-pi_0-ac1_0-ac2\",\" 1-m_1-ts_1-lab_0-pi_0-ac1_0-ac2\",\" 1-m_3-ts_0-lab_0-pi_0-ac1_0-ac2\",\" 2-m_0-ts_0-lab_0-pi_1-ac1_0-ac2\",\" 2-m_0-ts_0-lab_1-pi_0-ac1_0-ac2\",\" 2-m_0-ts_1-lab_0-pi_0-ac1_0-ac2\",\" 2-m_1-ts_0-lab_1-pi_0-ac1_0-ac2\",\" 2-m_1-ts_1-lab_0-pi_0-ac1_0-ac2\",\" 2-m_2-ts_0-lab_0-pi_0-ac1_0-ac2\",\" 3-m_0-ts_0-lab_1-pi_0-ac1_0-ac2\",\" 3-m_0-ts_1-lab_0-pi_0-ac1_0-ac2\",\" 3-m_1-ts_0-lab_0-pi_0-ac1_0-ac2\",\" 3-m_1-ts_1-lab_0-pi_0-ac1_0-ac2\",\" 4-m_0-ts_0-lab_0-pi_0-ac1_0-ac2\",\" 4-m_0-ts_1-lab_0-pi_0-ac1_0-ac2\",\" 4-m_1-ts_0-lab_0-pi_0-ac1_0-ac2\",\" 5-m_0-ts_0-lab_0-pi_0-ac1_0-ac2\",\" 5-m_0-ts_1-lab_0-pi_0-ac1_0-ac2\",\"PI\",\"ac1\",\"lab\",\"m\",\"ts\",\"R1 Structs\"],\"marker\":{\"coloraxis\":\"coloraxis\",\"colors\":[151.0,111.0,166.36936936936937,113.5625,127.0,118.11111111111111,143.78571428571428,99.0,170.05154639175257,151.02777777777777,178.0,138.0,119.88235294117646,150.98936170212767,152.66666666666666,155.35042735042734,135.0,106.66666666666667,141.31746031746033,106.0,143.0,101.0,152.3,111.0,106.0,152.25,163.97113778269983,133.6,149.19166182020507,103.5,126.91666666666667,153.7788336300086]},\"name\":\"\",\"parents\":[\"R1 Structs/PI\",\"R1 Structs/lab\",\"R1 Structs/PI\",\"R1 Structs/lab\",\"R1 Structs/ac1\",\"R1 Structs/PI\",\"R1 Structs/lab\",\"R1 Structs/lab\",\"R1 Structs/PI\",\"R1 Structs/lab\",\"R1 Structs/ts\",\"R1 Structs/ac1\",\"R1 Structs/PI\",\"R1 Structs/lab\",\"R1 Structs/PI\",\"R1 Structs/lab\",\"R1 Structs/ts\",\"R1 Structs/PI\",\"R1 Structs/lab\",\"R1 Structs/ts\",\"R1 Structs/lab\",\"R1 Structs/m\",\"R1 Structs/lab\",\"R1 Structs/ts\",\"R1 Structs/m\",\"R1 Structs/lab\",\"R1 Structs\",\"R1 Structs\",\"R1 Structs\",\"R1 Structs\",\"R1 Structs\",\"\"],\"values\":[1,2,339,16,2,9,29,2,99,108,1,3,17,478,6,117,6,3,130,4,3,1,50,1,1,4,474,5,939,2,12,1432],\"type\":\"treemap\"}],                        {\"template\":{\"data\":{\"bar\":[{\"error_x\":{\"color\":\"#2a3f5f\"},\"error_y\":{\"color\":\"#2a3f5f\"},\"marker\":{\"line\":{\"color\":\"#E5ECF6\",\"width\":0.5},\"pattern\":{\"fillmode\":\"overlay\",\"size\":10,\"solidity\":0.2}},\"type\":\"bar\"}],\"barpolar\":[{\"marker\":{\"line\":{\"color\":\"#E5ECF6\",\"width\":0.5},\"pattern\":{\"fillmode\":\"overlay\",\"size\":10,\"solidity\":0.2}},\"type\":\"barpolar\"}],\"carpet\":[{\"aaxis\":{\"endlinecolor\":\"#2a3f5f\",\"gridcolor\":\"white\",\"linecolor\":\"white\",\"minorgridcolor\":\"white\",\"startlinecolor\":\"#2a3f5f\"},\"baxis\":{\"endlinecolor\":\"#2a3f5f\",\"gridcolor\":\"white\",\"linecolor\":\"white\",\"minorgridcolor\":\"white\",\"startlinecolor\":\"#2a3f5f\"},\"type\":\"carpet\"}],\"choropleth\":[{\"colorbar\":{\"outlinewidth\":0,\"ticks\":\"\"},\"type\":\"choropleth\"}],\"contour\":[{\"colorbar\":{\"outlinewidth\":0,\"ticks\":\"\"},\"colorscale\":[[0.0,\"#0d0887\"],[0.1111111111111111,\"#46039f\"],[0.2222222222222222,\"#7201a8\"],[0.3333333333333333,\"#9c179e\"],[0.4444444444444444,\"#bd3786\"],[0.5555555555555556,\"#d8576b\"],[0.6666666666666666,\"#ed7953\"],[0.7777777777777778,\"#fb9f3a\"],[0.8888888888888888,\"#fdca26\"],[1.0,\"#f0f921\"]],\"type\":\"contour\"}],\"contourcarpet\":[{\"colorbar\":{\"outlinewidth\":0,\"ticks\":\"\"},\"type\":\"contourcarpet\"}],\"heatmap\":[{\"colorbar\":{\"outlinewidth\":0,\"ticks\":\"\"},\"colorscale\":[[0.0,\"#0d0887\"],[0.1111111111111111,\"#46039f\"],[0.2222222222222222,\"#7201a8\"],[0.3333333333333333,\"#9c179e\"],[0.4444444444444444,\"#bd3786\"],[0.5555555555555556,\"#d8576b\"],[0.6666666666666666,\"#ed7953\"],[0.7777777777777778,\"#fb9f3a\"],[0.8888888888888888,\"#fdca26\"],[1.0,\"#f0f921\"]],\"type\":\"heatmap\"}],\"heatmapgl\":[{\"colorbar\":{\"outlinewidth\":0,\"ticks\":\"\"},\"colorscale\":[[0.0,\"#0d0887\"],[0.1111111111111111,\"#46039f\"],[0.2222222222222222,\"#7201a8\"],[0.3333333333333333,\"#9c179e\"],[0.4444444444444444,\"#bd3786\"],[0.5555555555555556,\"#d8576b\"],[0.6666666666666666,\"#ed7953\"],[0.7777777777777778,\"#fb9f3a\"],[0.8888888888888888,\"#fdca26\"],[1.0,\"#f0f921\"]],\"type\":\"heatmapgl\"}],\"histogram\":[{\"marker\":{\"pattern\":{\"fillmode\":\"overlay\",\"size\":10,\"solidity\":0.2}},\"type\":\"histogram\"}],\"histogram2d\":[{\"colorbar\":{\"outlinewidth\":0,\"ticks\":\"\"},\"colorscale\":[[0.0,\"#0d0887\"],[0.1111111111111111,\"#46039f\"],[0.2222222222222222,\"#7201a8\"],[0.3333333333333333,\"#9c179e\"],[0.4444444444444444,\"#bd3786\"],[0.5555555555555556,\"#d8576b\"],[0.6666666666666666,\"#ed7953\"],[0.7777777777777778,\"#fb9f3a\"],[0.8888888888888888,\"#fdca26\"],[1.0,\"#f0f921\"]],\"type\":\"histogram2d\"}],\"histogram2dcontour\":[{\"colorbar\":{\"outlinewidth\":0,\"ticks\":\"\"},\"colorscale\":[[0.0,\"#0d0887\"],[0.1111111111111111,\"#46039f\"],[0.2222222222222222,\"#7201a8\"],[0.3333333333333333,\"#9c179e\"],[0.4444444444444444,\"#bd3786\"],[0.5555555555555556,\"#d8576b\"],[0.6666666666666666,\"#ed7953\"],[0.7777777777777778,\"#fb9f3a\"],[0.8888888888888888,\"#fdca26\"],[1.0,\"#f0f921\"]],\"type\":\"histogram2dcontour\"}],\"mesh3d\":[{\"colorbar\":{\"outlinewidth\":0,\"ticks\":\"\"},\"type\":\"mesh3d\"}],\"parcoords\":[{\"line\":{\"colorbar\":{\"outlinewidth\":0,\"ticks\":\"\"}},\"type\":\"parcoords\"}],\"pie\":[{\"automargin\":true,\"type\":\"pie\"}],\"scatter\":[{\"marker\":{\"colorbar\":{\"outlinewidth\":0,\"ticks\":\"\"}},\"type\":\"scatter\"}],\"scatter3d\":[{\"line\":{\"colorbar\":{\"outlinewidth\":0,\"ticks\":\"\"}},\"marker\":{\"colorbar\":{\"outlinewidth\":0,\"ticks\":\"\"}},\"type\":\"scatter3d\"}],\"scattercarpet\":[{\"marker\":{\"colorbar\":{\"outlinewidth\":0,\"ticks\":\"\"}},\"type\":\"scattercarpet\"}],\"scattergeo\":[{\"marker\":{\"colorbar\":{\"outlinewidth\":0,\"ticks\":\"\"}},\"type\":\"scattergeo\"}],\"scattergl\":[{\"marker\":{\"colorbar\":{\"outlinewidth\":0,\"ticks\":\"\"}},\"type\":\"scattergl\"}],\"scattermapbox\":[{\"marker\":{\"colorbar\":{\"outlinewidth\":0,\"ticks\":\"\"}},\"type\":\"scattermapbox\"}],\"scatterpolar\":[{\"marker\":{\"colorbar\":{\"outlinewidth\":0,\"ticks\":\"\"}},\"type\":\"scatterpolar\"}],\"scatterpolargl\":[{\"marker\":{\"colorbar\":{\"outlinewidth\":0,\"ticks\":\"\"}},\"type\":\"scatterpolargl\"}],\"scatterternary\":[{\"marker\":{\"colorbar\":{\"outlinewidth\":0,\"ticks\":\"\"}},\"type\":\"scatterternary\"}],\"surface\":[{\"colorbar\":{\"outlinewidth\":0,\"ticks\":\"\"},\"colorscale\":[[0.0,\"#0d0887\"],[0.1111111111111111,\"#46039f\"],[0.2222222222222222,\"#7201a8\"],[0.3333333333333333,\"#9c179e\"],[0.4444444444444444,\"#bd3786\"],[0.5555555555555556,\"#d8576b\"],[0.6666666666666666,\"#ed7953\"],[0.7777777777777778,\"#fb9f3a\"],[0.8888888888888888,\"#fdca26\"],[1.0,\"#f0f921\"]],\"type\":\"surface\"}],\"table\":[{\"cells\":{\"fill\":{\"color\":\"#EBF0F8\"},\"line\":{\"color\":\"white\"}},\"header\":{\"fill\":{\"color\":\"#C8D4E3\"},\"line\":{\"color\":\"white\"}},\"type\":\"table\"}]},\"layout\":{\"annotationdefaults\":{\"arrowcolor\":\"#2a3f5f\",\"arrowhead\":0,\"arrowwidth\":1},\"autotypenumbers\":\"strict\",\"coloraxis\":{\"colorbar\":{\"outlinewidth\":0,\"ticks\":\"\"}},\"colorscale\":{\"diverging\":[[0,\"#8e0152\"],[0.1,\"#c51b7d\"],[0.2,\"#de77ae\"],[0.3,\"#f1b6da\"],[0.4,\"#fde0ef\"],[0.5,\"#f7f7f7\"],[0.6,\"#e6f5d0\"],[0.7,\"#b8e186\"],[0.8,\"#7fbc41\"],[0.9,\"#4d9221\"],[1,\"#276419\"]],\"sequential\":[[0.0,\"#0d0887\"],[0.1111111111111111,\"#46039f\"],[0.2222222222222222,\"#7201a8\"],[0.3333333333333333,\"#9c179e\"],[0.4444444444444444,\"#bd3786\"],[0.5555555555555556,\"#d8576b\"],[0.6666666666666666,\"#ed7953\"],[0.7777777777777778,\"#fb9f3a\"],[0.8888888888888888,\"#fdca26\"],[1.0,\"#f0f921\"]],\"sequentialminus\":[[0.0,\"#0d0887\"],[0.1111111111111111,\"#46039f\"],[0.2222222222222222,\"#7201a8\"],[0.3333333333333333,\"#9c179e\"],[0.4444444444444444,\"#bd3786\"],[0.5555555555555556,\"#d8576b\"],[0.6666666666666666,\"#ed7953\"],[0.7777777777777778,\"#fb9f3a\"],[0.8888888888888888,\"#fdca26\"],[1.0,\"#f0f921\"]]},\"colorway\":[\"#636efa\",\"#EF553B\",\"#00cc96\",\"#ab63fa\",\"#FFA15A\",\"#19d3f3\",\"#FF6692\",\"#B6E880\",\"#FF97FF\",\"#FECB52\"],\"font\":{\"color\":\"#2a3f5f\"},\"geo\":{\"bgcolor\":\"white\",\"lakecolor\":\"white\",\"landcolor\":\"#E5ECF6\",\"showlakes\":true,\"showland\":true,\"subunitcolor\":\"white\"},\"hoverlabel\":{\"align\":\"left\"},\"hovermode\":\"closest\",\"mapbox\":{\"style\":\"light\"},\"paper_bgcolor\":\"white\",\"plot_bgcolor\":\"#E5ECF6\",\"polar\":{\"angularaxis\":{\"gridcolor\":\"white\",\"linecolor\":\"white\",\"ticks\":\"\"},\"bgcolor\":\"#E5ECF6\",\"radialaxis\":{\"gridcolor\":\"white\",\"linecolor\":\"white\",\"ticks\":\"\"}},\"scene\":{\"xaxis\":{\"backgroundcolor\":\"#E5ECF6\",\"gridcolor\":\"white\",\"gridwidth\":2,\"linecolor\":\"white\",\"showbackground\":true,\"ticks\":\"\",\"zerolinecolor\":\"white\"},\"yaxis\":{\"backgroundcolor\":\"#E5ECF6\",\"gridcolor\":\"white\",\"gridwidth\":2,\"linecolor\":\"white\",\"showbackground\":true,\"ticks\":\"\",\"zerolinecolor\":\"white\"},\"zaxis\":{\"backgroundcolor\":\"#E5ECF6\",\"gridcolor\":\"white\",\"gridwidth\":2,\"linecolor\":\"white\",\"showbackground\":true,\"ticks\":\"\",\"zerolinecolor\":\"white\"}},\"shapedefaults\":{\"line\":{\"color\":\"#2a3f5f\"}},\"ternary\":{\"aaxis\":{\"gridcolor\":\"white\",\"linecolor\":\"white\",\"ticks\":\"\"},\"baxis\":{\"gridcolor\":\"white\",\"linecolor\":\"white\",\"ticks\":\"\"},\"bgcolor\":\"#E5ECF6\",\"caxis\":{\"gridcolor\":\"white\",\"linecolor\":\"white\",\"ticks\":\"\"}},\"title\":{\"x\":0.05},\"xaxis\":{\"automargin\":true,\"gridcolor\":\"white\",\"linecolor\":\"white\",\"ticks\":\"\",\"title\":{\"standoff\":15},\"zerolinecolor\":\"white\",\"zerolinewidth\":2},\"yaxis\":{\"automargin\":true,\"gridcolor\":\"white\",\"linecolor\":\"white\",\"ticks\":\"\",\"title\":{\"standoff\":15},\"zerolinecolor\":\"white\",\"zerolinewidth\":2}}},\"coloraxis\":{\"colorbar\":{\"title\":{\"text\":\"ave_score_firaks\"}},\"colorscale\":[[0.0,\"rgb(103,0,31)\"],[0.1,\"rgb(178,24,43)\"],[0.2,\"rgb(214,96,77)\"],[0.3,\"rgb(244,165,130)\"],[0.4,\"rgb(253,219,199)\"],[0.5,\"rgb(247,247,247)\"],[0.6,\"rgb(209,229,240)\"],[0.7,\"rgb(146,197,222)\"],[0.8,\"rgb(67,147,195)\"],[0.9,\"rgb(33,102,172)\"],[1.0,\"rgb(5,48,97)\"]],\"cmid\":148.12743354661777},\"legend\":{\"tracegroupgap\":0},\"margin\":{\"t\":50,\"l\":25,\"r\":25,\"b\":25},\"title\":{\"text\":\"R1 Structures: Frequency and Impact on Score Relative to All Factions Average (148.13): firaks\"}},                        {\"responsive\": true}                    ).then(function(){\n",
       "                            \n",
       "var gd = document.getElementById('3d8b04b7-4489-46a1-ab2d-662614b12d1d');\n",
       "var x = new MutationObserver(function (mutations, observer) {{\n",
       "        var display = window.getComputedStyle(gd).display;\n",
       "        if (!display || display === 'none') {{\n",
       "            console.log([gd, 'removed!']);\n",
       "            Plotly.purge(gd);\n",
       "            observer.disconnect();\n",
       "        }}\n",
       "}});\n",
       "\n",
       "// Listen for the removal of the full notebook cells\n",
       "var notebookContainer = gd.closest('#notebook-container');\n",
       "if (notebookContainer) {{\n",
       "    x.observe(notebookContainer, {childList: true});\n",
       "}}\n",
       "\n",
       "// Listen for the clearing of the current output cell\n",
       "var outputEl = gd.closest('.output');\n",
       "if (outputEl) {{\n",
       "    x.observe(outputEl, {childList: true});\n",
       "}}\n",
       "\n",
       "                        })                };                });            </script>        </div>"
      ]
     },
     "metadata": {},
     "output_type": "display_data"
    },
    {
     "data": {
      "application/vnd.plotly.v1+json": {
       "config": {
        "plotlyServerURL": "https://plot.ly"
       },
       "data": [
        {
         "branchvalues": "total",
         "customdata": [
          [
           207.25454545454545,
           163.96363636363637
          ],
          [
           224,
           155
          ],
          [
           156.2,
           156.4
          ],
          [
           151.5952380952381,
           147.26190476190476
          ],
          [
           155.66666666666666,
           181.5
          ],
          [
           429,
           182
          ],
          [
           114,
           122.5
          ],
          [
           219.82857142857142,
           158.68695652173912
          ],
          [
           197.95172413793102,
           162.83098591549296
          ],
          [
           125.71428571428571,
           107.57142857142857
          ],
          [
           198.3125,
           149.4375
          ],
          [
           117.57142857142857,
           118.42857142857143
          ],
          [
           179,
           160.5
          ],
          [
           186.3673469387755,
           159.01030927835052
          ],
          [
           116.33333333333333,
           134.38888888888889
          ],
          [
           113.5,
           134
          ],
          [
           242.35446685878964,
           162.48093841642228
          ],
          [
           238.78384279475983,
           168.56798245614036
          ],
          [
           161.15555555555557,
           135.44444444444446
          ],
          [
           264.5,
           173.5
          ],
          [
           199.125,
           157.9375
          ],
          [
           176.44444444444446,
           145.6
          ],
          [
           1,
           100
          ],
          [
           191.5,
           152.33333333333334
          ],
          [
           223.5648148148148,
           159.41666666666666
          ],
          [
           144.8181818181818,
           129.1818181818182
          ],
          [
           234,
           166.5
          ],
          [
           327,
           178
          ],
          [
           206.5,
           158.25
          ],
          [
           182.23809523809524,
           140.0487804878049
          ],
          [
           289.5,
           165
          ],
          [
           30,
           86
          ],
          [
           293,
           167.5
          ],
          [
           277.4375,
           165.4375
          ],
          [
           282.5,
           180.5
          ],
          [
           "(?)",
           163.9001473353832
          ],
          [
           "(?)",
           160.43280392344104
          ],
          [
           "(?)",
           128.25
          ],
          [
           "(?)",
           141.22437822900397
          ],
          [
           "(?)",
           90.66666666666667
          ],
          [
           "(?)",
           159.91960920167315
          ]
         ],
         "domain": {
          "x": [
           0,
           1
          ],
          "y": [
           0,
           1
          ]
         },
         "hovertemplate": "labels=%{label}<br>class_counts=%{value}<br>parent=%{parent}<br>id=%{id}<br>ave_elo_itars=%{customdata[0]}<br>ave_score_itars=%{color}<extra></extra>",
         "ids": [
          "R1 Structs/PI/ 0-m_0-ts_1-lab_1-pi_0-ac1_0-ac2",
          "R1 Structs/lab/ 0-m_0-ts_2-lab_0-pi_0-ac1_0-ac2",
          "R1 Structs/ac1/ 0-m_1-ts_0-lab_0-pi_1-ac1_0-ac2",
          "R1 Structs/PI/ 0-m_1-ts_0-lab_1-pi_0-ac1_0-ac2",
          "R1 Structs/lab/ 0-m_1-ts_1-lab_0-pi_0-ac1_0-ac2",
          "R1 Structs/PI/ 0-m_2-ts_0-lab_1-pi_0-ac1_0-ac2",
          "R1 Structs/ac2/ 1-m_0-ts_0-lab_0-pi_0-ac1_1-ac2",
          "R1 Structs/ac1/ 1-m_0-ts_0-lab_0-pi_1-ac1_0-ac2",
          "R1 Structs/PI/ 1-m_0-ts_0-lab_1-pi_0-ac1_0-ac2",
          "R1 Structs/lab/ 1-m_0-ts_1-lab_0-pi_0-ac1_0-ac2",
          "R1 Structs/PI/ 1-m_0-ts_1-lab_1-pi_0-ac1_0-ac2",
          "R1 Structs/lab/ 1-m_0-ts_2-lab_0-pi_0-ac1_0-ac2",
          "R1 Structs/ac1/ 1-m_1-ts_0-lab_0-pi_1-ac1_0-ac2",
          "R1 Structs/PI/ 1-m_1-ts_0-lab_1-pi_0-ac1_0-ac2",
          "R1 Structs/lab/ 1-m_1-ts_1-lab_0-pi_0-ac1_0-ac2",
          "R1 Structs/ac2/ 2-m_0-ts_0-lab_0-pi_0-ac1_1-ac2",
          "R1 Structs/ac1/ 2-m_0-ts_0-lab_0-pi_1-ac1_0-ac2",
          "R1 Structs/PI/ 2-m_0-ts_0-lab_1-pi_0-ac1_0-ac2",
          "R1 Structs/lab/ 2-m_0-ts_1-lab_0-pi_0-ac1_0-ac2",
          "R1 Structs/lab/ 2-m_0-ts_2-lab_0-pi_0-ac1_0-ac2",
          "R1 Structs/PI/ 2-m_1-ts_0-lab_1-pi_0-ac1_0-ac2",
          "R1 Structs/lab/ 2-m_1-ts_1-lab_0-pi_0-ac1_0-ac2",
          "R1 Structs/m/ 3-m_0-ts_0-lab_0-pi_0-ac1_0-ac2",
          "R1 Structs/ac1/ 3-m_0-ts_0-lab_0-pi_1-ac1_0-ac2",
          "R1 Structs/PI/ 3-m_0-ts_0-lab_1-pi_0-ac1_0-ac2",
          "R1 Structs/lab/ 3-m_0-ts_1-lab_0-pi_0-ac1_0-ac2",
          "R1 Structs/lab/ 3-m_1-ts_1-lab_0-pi_0-ac1_0-ac2",
          "R1 Structs/ac1/ 4-m_0-ts_0-lab_0-pi_1-ac1_0-ac2",
          "R1 Structs/PI/ 4-m_0-ts_0-lab_1-pi_0-ac1_0-ac2",
          "R1 Structs/lab/ 4-m_0-ts_1-lab_0-pi_0-ac1_0-ac2",
          "R1 Structs/lab/ 4-m_1-ts_1-lab_0-pi_0-ac1_0-ac2",
          "R1 Structs/m/ 5-m_0-ts_0-lab_0-pi_0-ac1_0-ac2",
          "R1 Structs/PI/ 5-m_0-ts_0-lab_1-pi_0-ac1_0-ac2",
          "R1 Structs/lab/ 5-m_0-ts_1-lab_0-pi_0-ac1_0-ac2",
          "R1 Structs/lab/ 6-m_0-ts_1-lab_0-pi_0-ac1_0-ac2",
          "R1 Structs/PI",
          "R1 Structs/ac1",
          "R1 Structs/ac2",
          "R1 Structs/lab",
          "R1 Structs/m",
          "R1 Structs"
         ],
         "labels": [
          " 0-m_0-ts_1-lab_1-pi_0-ac1_0-ac2",
          " 0-m_0-ts_2-lab_0-pi_0-ac1_0-ac2",
          " 0-m_1-ts_0-lab_0-pi_1-ac1_0-ac2",
          " 0-m_1-ts_0-lab_1-pi_0-ac1_0-ac2",
          " 0-m_1-ts_1-lab_0-pi_0-ac1_0-ac2",
          " 0-m_2-ts_0-lab_1-pi_0-ac1_0-ac2",
          " 1-m_0-ts_0-lab_0-pi_0-ac1_1-ac2",
          " 1-m_0-ts_0-lab_0-pi_1-ac1_0-ac2",
          " 1-m_0-ts_0-lab_1-pi_0-ac1_0-ac2",
          " 1-m_0-ts_1-lab_0-pi_0-ac1_0-ac2",
          " 1-m_0-ts_1-lab_1-pi_0-ac1_0-ac2",
          " 1-m_0-ts_2-lab_0-pi_0-ac1_0-ac2",
          " 1-m_1-ts_0-lab_0-pi_1-ac1_0-ac2",
          " 1-m_1-ts_0-lab_1-pi_0-ac1_0-ac2",
          " 1-m_1-ts_1-lab_0-pi_0-ac1_0-ac2",
          " 2-m_0-ts_0-lab_0-pi_0-ac1_1-ac2",
          " 2-m_0-ts_0-lab_0-pi_1-ac1_0-ac2",
          " 2-m_0-ts_0-lab_1-pi_0-ac1_0-ac2",
          " 2-m_0-ts_1-lab_0-pi_0-ac1_0-ac2",
          " 2-m_0-ts_2-lab_0-pi_0-ac1_0-ac2",
          " 2-m_1-ts_0-lab_1-pi_0-ac1_0-ac2",
          " 2-m_1-ts_1-lab_0-pi_0-ac1_0-ac2",
          " 3-m_0-ts_0-lab_0-pi_0-ac1_0-ac2",
          " 3-m_0-ts_0-lab_0-pi_1-ac1_0-ac2",
          " 3-m_0-ts_0-lab_1-pi_0-ac1_0-ac2",
          " 3-m_0-ts_1-lab_0-pi_0-ac1_0-ac2",
          " 3-m_1-ts_1-lab_0-pi_0-ac1_0-ac2",
          " 4-m_0-ts_0-lab_0-pi_1-ac1_0-ac2",
          " 4-m_0-ts_0-lab_1-pi_0-ac1_0-ac2",
          " 4-m_0-ts_1-lab_0-pi_0-ac1_0-ac2",
          " 4-m_1-ts_1-lab_0-pi_0-ac1_0-ac2",
          " 5-m_0-ts_0-lab_0-pi_0-ac1_0-ac2",
          " 5-m_0-ts_0-lab_1-pi_0-ac1_0-ac2",
          " 5-m_0-ts_1-lab_0-pi_0-ac1_0-ac2",
          " 6-m_0-ts_1-lab_0-pi_0-ac1_0-ac2",
          "PI",
          "ac1",
          "ac2",
          "lab",
          "m",
          "R1 Structs"
         ],
         "marker": {
          "coloraxis": "coloraxis",
          "colors": [
           163.96363636363637,
           155,
           156.4,
           147.26190476190476,
           181.5,
           182,
           122.5,
           158.68695652173912,
           162.83098591549296,
           107.57142857142857,
           149.4375,
           118.42857142857143,
           160.5,
           159.01030927835052,
           134.38888888888889,
           134,
           162.48093841642228,
           168.56798245614036,
           135.44444444444446,
           173.5,
           157.9375,
           145.6,
           100,
           152.33333333333334,
           159.41666666666666,
           129.1818181818182,
           166.5,
           178,
           158.25,
           140.0487804878049,
           165,
           86,
           167.5,
           165.4375,
           180.5,
           163.9001473353832,
           160.43280392344104,
           128.25,
           141.22437822900397,
           90.66666666666667,
           159.91960920167315
          ]
         },
         "name": "",
         "parents": [
          "R1 Structs/PI",
          "R1 Structs/lab",
          "R1 Structs/ac1",
          "R1 Structs/PI",
          "R1 Structs/lab",
          "R1 Structs/PI",
          "R1 Structs/ac2",
          "R1 Structs/ac1",
          "R1 Structs/PI",
          "R1 Structs/lab",
          "R1 Structs/PI",
          "R1 Structs/lab",
          "R1 Structs/ac1",
          "R1 Structs/PI",
          "R1 Structs/lab",
          "R1 Structs/ac2",
          "R1 Structs/ac1",
          "R1 Structs/PI",
          "R1 Structs/lab",
          "R1 Structs/lab",
          "R1 Structs/PI",
          "R1 Structs/lab",
          "R1 Structs/m",
          "R1 Structs/ac1",
          "R1 Structs/PI",
          "R1 Structs/lab",
          "R1 Structs/lab",
          "R1 Structs/ac1",
          "R1 Structs/PI",
          "R1 Structs/lab",
          "R1 Structs/lab",
          "R1 Structs/m",
          "R1 Structs/PI",
          "R1 Structs/lab",
          "R1 Structs/lab",
          "R1 Structs",
          "R1 Structs",
          "R1 Structs",
          "R1 Structs",
          "R1 Structs",
          ""
         ],
         "type": "treemap",
         "values": [
          55,
          1,
          5,
          42,
          3,
          1,
          2,
          350,
          145,
          7,
          16,
          7,
          2,
          98,
          18,
          2,
          347,
          458,
          45,
          2,
          16,
          45,
          1,
          12,
          108,
          11,
          2,
          1,
          4,
          42,
          2,
          2,
          2,
          16,
          2,
          945,
          717,
          4,
          203,
          3,
          1872
         ]
        }
       ],
       "layout": {
        "coloraxis": {
         "cmid": 148.12743354661777,
         "colorbar": {
          "title": {
           "text": "ave_score_itars"
          }
         },
         "colorscale": [
          [
           0,
           "rgb(103,0,31)"
          ],
          [
           0.1,
           "rgb(178,24,43)"
          ],
          [
           0.2,
           "rgb(214,96,77)"
          ],
          [
           0.3,
           "rgb(244,165,130)"
          ],
          [
           0.4,
           "rgb(253,219,199)"
          ],
          [
           0.5,
           "rgb(247,247,247)"
          ],
          [
           0.6,
           "rgb(209,229,240)"
          ],
          [
           0.7,
           "rgb(146,197,222)"
          ],
          [
           0.8,
           "rgb(67,147,195)"
          ],
          [
           0.9,
           "rgb(33,102,172)"
          ],
          [
           1,
           "rgb(5,48,97)"
          ]
         ]
        },
        "legend": {
         "tracegroupgap": 0
        },
        "margin": {
         "b": 25,
         "l": 25,
         "r": 25,
         "t": 50
        },
        "template": {
         "data": {
          "bar": [
           {
            "error_x": {
             "color": "#2a3f5f"
            },
            "error_y": {
             "color": "#2a3f5f"
            },
            "marker": {
             "line": {
              "color": "#E5ECF6",
              "width": 0.5
             },
             "pattern": {
              "fillmode": "overlay",
              "size": 10,
              "solidity": 0.2
             }
            },
            "type": "bar"
           }
          ],
          "barpolar": [
           {
            "marker": {
             "line": {
              "color": "#E5ECF6",
              "width": 0.5
             },
             "pattern": {
              "fillmode": "overlay",
              "size": 10,
              "solidity": 0.2
             }
            },
            "type": "barpolar"
           }
          ],
          "carpet": [
           {
            "aaxis": {
             "endlinecolor": "#2a3f5f",
             "gridcolor": "white",
             "linecolor": "white",
             "minorgridcolor": "white",
             "startlinecolor": "#2a3f5f"
            },
            "baxis": {
             "endlinecolor": "#2a3f5f",
             "gridcolor": "white",
             "linecolor": "white",
             "minorgridcolor": "white",
             "startlinecolor": "#2a3f5f"
            },
            "type": "carpet"
           }
          ],
          "choropleth": [
           {
            "colorbar": {
             "outlinewidth": 0,
             "ticks": ""
            },
            "type": "choropleth"
           }
          ],
          "contour": [
           {
            "colorbar": {
             "outlinewidth": 0,
             "ticks": ""
            },
            "colorscale": [
             [
              0,
              "#0d0887"
             ],
             [
              0.1111111111111111,
              "#46039f"
             ],
             [
              0.2222222222222222,
              "#7201a8"
             ],
             [
              0.3333333333333333,
              "#9c179e"
             ],
             [
              0.4444444444444444,
              "#bd3786"
             ],
             [
              0.5555555555555556,
              "#d8576b"
             ],
             [
              0.6666666666666666,
              "#ed7953"
             ],
             [
              0.7777777777777778,
              "#fb9f3a"
             ],
             [
              0.8888888888888888,
              "#fdca26"
             ],
             [
              1,
              "#f0f921"
             ]
            ],
            "type": "contour"
           }
          ],
          "contourcarpet": [
           {
            "colorbar": {
             "outlinewidth": 0,
             "ticks": ""
            },
            "type": "contourcarpet"
           }
          ],
          "heatmap": [
           {
            "colorbar": {
             "outlinewidth": 0,
             "ticks": ""
            },
            "colorscale": [
             [
              0,
              "#0d0887"
             ],
             [
              0.1111111111111111,
              "#46039f"
             ],
             [
              0.2222222222222222,
              "#7201a8"
             ],
             [
              0.3333333333333333,
              "#9c179e"
             ],
             [
              0.4444444444444444,
              "#bd3786"
             ],
             [
              0.5555555555555556,
              "#d8576b"
             ],
             [
              0.6666666666666666,
              "#ed7953"
             ],
             [
              0.7777777777777778,
              "#fb9f3a"
             ],
             [
              0.8888888888888888,
              "#fdca26"
             ],
             [
              1,
              "#f0f921"
             ]
            ],
            "type": "heatmap"
           }
          ],
          "heatmapgl": [
           {
            "colorbar": {
             "outlinewidth": 0,
             "ticks": ""
            },
            "colorscale": [
             [
              0,
              "#0d0887"
             ],
             [
              0.1111111111111111,
              "#46039f"
             ],
             [
              0.2222222222222222,
              "#7201a8"
             ],
             [
              0.3333333333333333,
              "#9c179e"
             ],
             [
              0.4444444444444444,
              "#bd3786"
             ],
             [
              0.5555555555555556,
              "#d8576b"
             ],
             [
              0.6666666666666666,
              "#ed7953"
             ],
             [
              0.7777777777777778,
              "#fb9f3a"
             ],
             [
              0.8888888888888888,
              "#fdca26"
             ],
             [
              1,
              "#f0f921"
             ]
            ],
            "type": "heatmapgl"
           }
          ],
          "histogram": [
           {
            "marker": {
             "pattern": {
              "fillmode": "overlay",
              "size": 10,
              "solidity": 0.2
             }
            },
            "type": "histogram"
           }
          ],
          "histogram2d": [
           {
            "colorbar": {
             "outlinewidth": 0,
             "ticks": ""
            },
            "colorscale": [
             [
              0,
              "#0d0887"
             ],
             [
              0.1111111111111111,
              "#46039f"
             ],
             [
              0.2222222222222222,
              "#7201a8"
             ],
             [
              0.3333333333333333,
              "#9c179e"
             ],
             [
              0.4444444444444444,
              "#bd3786"
             ],
             [
              0.5555555555555556,
              "#d8576b"
             ],
             [
              0.6666666666666666,
              "#ed7953"
             ],
             [
              0.7777777777777778,
              "#fb9f3a"
             ],
             [
              0.8888888888888888,
              "#fdca26"
             ],
             [
              1,
              "#f0f921"
             ]
            ],
            "type": "histogram2d"
           }
          ],
          "histogram2dcontour": [
           {
            "colorbar": {
             "outlinewidth": 0,
             "ticks": ""
            },
            "colorscale": [
             [
              0,
              "#0d0887"
             ],
             [
              0.1111111111111111,
              "#46039f"
             ],
             [
              0.2222222222222222,
              "#7201a8"
             ],
             [
              0.3333333333333333,
              "#9c179e"
             ],
             [
              0.4444444444444444,
              "#bd3786"
             ],
             [
              0.5555555555555556,
              "#d8576b"
             ],
             [
              0.6666666666666666,
              "#ed7953"
             ],
             [
              0.7777777777777778,
              "#fb9f3a"
             ],
             [
              0.8888888888888888,
              "#fdca26"
             ],
             [
              1,
              "#f0f921"
             ]
            ],
            "type": "histogram2dcontour"
           }
          ],
          "mesh3d": [
           {
            "colorbar": {
             "outlinewidth": 0,
             "ticks": ""
            },
            "type": "mesh3d"
           }
          ],
          "parcoords": [
           {
            "line": {
             "colorbar": {
              "outlinewidth": 0,
              "ticks": ""
             }
            },
            "type": "parcoords"
           }
          ],
          "pie": [
           {
            "automargin": true,
            "type": "pie"
           }
          ],
          "scatter": [
           {
            "marker": {
             "colorbar": {
              "outlinewidth": 0,
              "ticks": ""
             }
            },
            "type": "scatter"
           }
          ],
          "scatter3d": [
           {
            "line": {
             "colorbar": {
              "outlinewidth": 0,
              "ticks": ""
             }
            },
            "marker": {
             "colorbar": {
              "outlinewidth": 0,
              "ticks": ""
             }
            },
            "type": "scatter3d"
           }
          ],
          "scattercarpet": [
           {
            "marker": {
             "colorbar": {
              "outlinewidth": 0,
              "ticks": ""
             }
            },
            "type": "scattercarpet"
           }
          ],
          "scattergeo": [
           {
            "marker": {
             "colorbar": {
              "outlinewidth": 0,
              "ticks": ""
             }
            },
            "type": "scattergeo"
           }
          ],
          "scattergl": [
           {
            "marker": {
             "colorbar": {
              "outlinewidth": 0,
              "ticks": ""
             }
            },
            "type": "scattergl"
           }
          ],
          "scattermapbox": [
           {
            "marker": {
             "colorbar": {
              "outlinewidth": 0,
              "ticks": ""
             }
            },
            "type": "scattermapbox"
           }
          ],
          "scatterpolar": [
           {
            "marker": {
             "colorbar": {
              "outlinewidth": 0,
              "ticks": ""
             }
            },
            "type": "scatterpolar"
           }
          ],
          "scatterpolargl": [
           {
            "marker": {
             "colorbar": {
              "outlinewidth": 0,
              "ticks": ""
             }
            },
            "type": "scatterpolargl"
           }
          ],
          "scatterternary": [
           {
            "marker": {
             "colorbar": {
              "outlinewidth": 0,
              "ticks": ""
             }
            },
            "type": "scatterternary"
           }
          ],
          "surface": [
           {
            "colorbar": {
             "outlinewidth": 0,
             "ticks": ""
            },
            "colorscale": [
             [
              0,
              "#0d0887"
             ],
             [
              0.1111111111111111,
              "#46039f"
             ],
             [
              0.2222222222222222,
              "#7201a8"
             ],
             [
              0.3333333333333333,
              "#9c179e"
             ],
             [
              0.4444444444444444,
              "#bd3786"
             ],
             [
              0.5555555555555556,
              "#d8576b"
             ],
             [
              0.6666666666666666,
              "#ed7953"
             ],
             [
              0.7777777777777778,
              "#fb9f3a"
             ],
             [
              0.8888888888888888,
              "#fdca26"
             ],
             [
              1,
              "#f0f921"
             ]
            ],
            "type": "surface"
           }
          ],
          "table": [
           {
            "cells": {
             "fill": {
              "color": "#EBF0F8"
             },
             "line": {
              "color": "white"
             }
            },
            "header": {
             "fill": {
              "color": "#C8D4E3"
             },
             "line": {
              "color": "white"
             }
            },
            "type": "table"
           }
          ]
         },
         "layout": {
          "annotationdefaults": {
           "arrowcolor": "#2a3f5f",
           "arrowhead": 0,
           "arrowwidth": 1
          },
          "autotypenumbers": "strict",
          "coloraxis": {
           "colorbar": {
            "outlinewidth": 0,
            "ticks": ""
           }
          },
          "colorscale": {
           "diverging": [
            [
             0,
             "#8e0152"
            ],
            [
             0.1,
             "#c51b7d"
            ],
            [
             0.2,
             "#de77ae"
            ],
            [
             0.3,
             "#f1b6da"
            ],
            [
             0.4,
             "#fde0ef"
            ],
            [
             0.5,
             "#f7f7f7"
            ],
            [
             0.6,
             "#e6f5d0"
            ],
            [
             0.7,
             "#b8e186"
            ],
            [
             0.8,
             "#7fbc41"
            ],
            [
             0.9,
             "#4d9221"
            ],
            [
             1,
             "#276419"
            ]
           ],
           "sequential": [
            [
             0,
             "#0d0887"
            ],
            [
             0.1111111111111111,
             "#46039f"
            ],
            [
             0.2222222222222222,
             "#7201a8"
            ],
            [
             0.3333333333333333,
             "#9c179e"
            ],
            [
             0.4444444444444444,
             "#bd3786"
            ],
            [
             0.5555555555555556,
             "#d8576b"
            ],
            [
             0.6666666666666666,
             "#ed7953"
            ],
            [
             0.7777777777777778,
             "#fb9f3a"
            ],
            [
             0.8888888888888888,
             "#fdca26"
            ],
            [
             1,
             "#f0f921"
            ]
           ],
           "sequentialminus": [
            [
             0,
             "#0d0887"
            ],
            [
             0.1111111111111111,
             "#46039f"
            ],
            [
             0.2222222222222222,
             "#7201a8"
            ],
            [
             0.3333333333333333,
             "#9c179e"
            ],
            [
             0.4444444444444444,
             "#bd3786"
            ],
            [
             0.5555555555555556,
             "#d8576b"
            ],
            [
             0.6666666666666666,
             "#ed7953"
            ],
            [
             0.7777777777777778,
             "#fb9f3a"
            ],
            [
             0.8888888888888888,
             "#fdca26"
            ],
            [
             1,
             "#f0f921"
            ]
           ]
          },
          "colorway": [
           "#636efa",
           "#EF553B",
           "#00cc96",
           "#ab63fa",
           "#FFA15A",
           "#19d3f3",
           "#FF6692",
           "#B6E880",
           "#FF97FF",
           "#FECB52"
          ],
          "font": {
           "color": "#2a3f5f"
          },
          "geo": {
           "bgcolor": "white",
           "lakecolor": "white",
           "landcolor": "#E5ECF6",
           "showlakes": true,
           "showland": true,
           "subunitcolor": "white"
          },
          "hoverlabel": {
           "align": "left"
          },
          "hovermode": "closest",
          "mapbox": {
           "style": "light"
          },
          "paper_bgcolor": "white",
          "plot_bgcolor": "#E5ECF6",
          "polar": {
           "angularaxis": {
            "gridcolor": "white",
            "linecolor": "white",
            "ticks": ""
           },
           "bgcolor": "#E5ECF6",
           "radialaxis": {
            "gridcolor": "white",
            "linecolor": "white",
            "ticks": ""
           }
          },
          "scene": {
           "xaxis": {
            "backgroundcolor": "#E5ECF6",
            "gridcolor": "white",
            "gridwidth": 2,
            "linecolor": "white",
            "showbackground": true,
            "ticks": "",
            "zerolinecolor": "white"
           },
           "yaxis": {
            "backgroundcolor": "#E5ECF6",
            "gridcolor": "white",
            "gridwidth": 2,
            "linecolor": "white",
            "showbackground": true,
            "ticks": "",
            "zerolinecolor": "white"
           },
           "zaxis": {
            "backgroundcolor": "#E5ECF6",
            "gridcolor": "white",
            "gridwidth": 2,
            "linecolor": "white",
            "showbackground": true,
            "ticks": "",
            "zerolinecolor": "white"
           }
          },
          "shapedefaults": {
           "line": {
            "color": "#2a3f5f"
           }
          },
          "ternary": {
           "aaxis": {
            "gridcolor": "white",
            "linecolor": "white",
            "ticks": ""
           },
           "baxis": {
            "gridcolor": "white",
            "linecolor": "white",
            "ticks": ""
           },
           "bgcolor": "#E5ECF6",
           "caxis": {
            "gridcolor": "white",
            "linecolor": "white",
            "ticks": ""
           }
          },
          "title": {
           "x": 0.05
          },
          "xaxis": {
           "automargin": true,
           "gridcolor": "white",
           "linecolor": "white",
           "ticks": "",
           "title": {
            "standoff": 15
           },
           "zerolinecolor": "white",
           "zerolinewidth": 2
          },
          "yaxis": {
           "automargin": true,
           "gridcolor": "white",
           "linecolor": "white",
           "ticks": "",
           "title": {
            "standoff": 15
           },
           "zerolinecolor": "white",
           "zerolinewidth": 2
          }
         }
        },
        "title": {
         "text": "R1 Structures: Frequency and Impact on Score Relative to All Factions Average (148.13): itars"
        }
       }
      },
      "text/html": [
       "<div>                            <div id=\"b18f7183-1ef8-4439-b962-e97086ddf154\" class=\"plotly-graph-div\" style=\"height:525px; width:100%;\"></div>            <script type=\"text/javascript\">                require([\"plotly\"], function(Plotly) {                    window.PLOTLYENV=window.PLOTLYENV || {};                                    if (document.getElementById(\"b18f7183-1ef8-4439-b962-e97086ddf154\")) {                    Plotly.newPlot(                        \"b18f7183-1ef8-4439-b962-e97086ddf154\",                        [{\"branchvalues\":\"total\",\"customdata\":[[207.25454545454545,163.96363636363637],[224.0,155.0],[156.2,156.4],[151.5952380952381,147.26190476190476],[155.66666666666666,181.5],[429.0,182.0],[114.0,122.5],[219.82857142857142,158.68695652173912],[197.95172413793102,162.83098591549296],[125.71428571428571,107.57142857142857],[198.3125,149.4375],[117.57142857142857,118.42857142857143],[179.0,160.5],[186.3673469387755,159.01030927835052],[116.33333333333333,134.38888888888889],[113.5,134.0],[242.35446685878964,162.48093841642228],[238.78384279475983,168.56798245614036],[161.15555555555557,135.44444444444446],[264.5,173.5],[199.125,157.9375],[176.44444444444446,145.6],[1.0,100.0],[191.5,152.33333333333334],[223.5648148148148,159.41666666666666],[144.8181818181818,129.1818181818182],[234.0,166.5],[327.0,178.0],[206.5,158.25],[182.23809523809524,140.0487804878049],[289.5,165.0],[30.0,86.0],[293.0,167.5],[277.4375,165.4375],[282.5,180.5],[\"(?)\",163.9001473353832],[\"(?)\",160.43280392344104],[\"(?)\",128.25],[\"(?)\",141.22437822900397],[\"(?)\",90.66666666666667],[\"(?)\",159.91960920167315]],\"domain\":{\"x\":[0.0,1.0],\"y\":[0.0,1.0]},\"hovertemplate\":\"labels=%{label}<br>class_counts=%{value}<br>parent=%{parent}<br>id=%{id}<br>ave_elo_itars=%{customdata[0]}<br>ave_score_itars=%{color}<extra></extra>\",\"ids\":[\"R1 Structs/PI/ 0-m_0-ts_1-lab_1-pi_0-ac1_0-ac2\",\"R1 Structs/lab/ 0-m_0-ts_2-lab_0-pi_0-ac1_0-ac2\",\"R1 Structs/ac1/ 0-m_1-ts_0-lab_0-pi_1-ac1_0-ac2\",\"R1 Structs/PI/ 0-m_1-ts_0-lab_1-pi_0-ac1_0-ac2\",\"R1 Structs/lab/ 0-m_1-ts_1-lab_0-pi_0-ac1_0-ac2\",\"R1 Structs/PI/ 0-m_2-ts_0-lab_1-pi_0-ac1_0-ac2\",\"R1 Structs/ac2/ 1-m_0-ts_0-lab_0-pi_0-ac1_1-ac2\",\"R1 Structs/ac1/ 1-m_0-ts_0-lab_0-pi_1-ac1_0-ac2\",\"R1 Structs/PI/ 1-m_0-ts_0-lab_1-pi_0-ac1_0-ac2\",\"R1 Structs/lab/ 1-m_0-ts_1-lab_0-pi_0-ac1_0-ac2\",\"R1 Structs/PI/ 1-m_0-ts_1-lab_1-pi_0-ac1_0-ac2\",\"R1 Structs/lab/ 1-m_0-ts_2-lab_0-pi_0-ac1_0-ac2\",\"R1 Structs/ac1/ 1-m_1-ts_0-lab_0-pi_1-ac1_0-ac2\",\"R1 Structs/PI/ 1-m_1-ts_0-lab_1-pi_0-ac1_0-ac2\",\"R1 Structs/lab/ 1-m_1-ts_1-lab_0-pi_0-ac1_0-ac2\",\"R1 Structs/ac2/ 2-m_0-ts_0-lab_0-pi_0-ac1_1-ac2\",\"R1 Structs/ac1/ 2-m_0-ts_0-lab_0-pi_1-ac1_0-ac2\",\"R1 Structs/PI/ 2-m_0-ts_0-lab_1-pi_0-ac1_0-ac2\",\"R1 Structs/lab/ 2-m_0-ts_1-lab_0-pi_0-ac1_0-ac2\",\"R1 Structs/lab/ 2-m_0-ts_2-lab_0-pi_0-ac1_0-ac2\",\"R1 Structs/PI/ 2-m_1-ts_0-lab_1-pi_0-ac1_0-ac2\",\"R1 Structs/lab/ 2-m_1-ts_1-lab_0-pi_0-ac1_0-ac2\",\"R1 Structs/m/ 3-m_0-ts_0-lab_0-pi_0-ac1_0-ac2\",\"R1 Structs/ac1/ 3-m_0-ts_0-lab_0-pi_1-ac1_0-ac2\",\"R1 Structs/PI/ 3-m_0-ts_0-lab_1-pi_0-ac1_0-ac2\",\"R1 Structs/lab/ 3-m_0-ts_1-lab_0-pi_0-ac1_0-ac2\",\"R1 Structs/lab/ 3-m_1-ts_1-lab_0-pi_0-ac1_0-ac2\",\"R1 Structs/ac1/ 4-m_0-ts_0-lab_0-pi_1-ac1_0-ac2\",\"R1 Structs/PI/ 4-m_0-ts_0-lab_1-pi_0-ac1_0-ac2\",\"R1 Structs/lab/ 4-m_0-ts_1-lab_0-pi_0-ac1_0-ac2\",\"R1 Structs/lab/ 4-m_1-ts_1-lab_0-pi_0-ac1_0-ac2\",\"R1 Structs/m/ 5-m_0-ts_0-lab_0-pi_0-ac1_0-ac2\",\"R1 Structs/PI/ 5-m_0-ts_0-lab_1-pi_0-ac1_0-ac2\",\"R1 Structs/lab/ 5-m_0-ts_1-lab_0-pi_0-ac1_0-ac2\",\"R1 Structs/lab/ 6-m_0-ts_1-lab_0-pi_0-ac1_0-ac2\",\"R1 Structs/PI\",\"R1 Structs/ac1\",\"R1 Structs/ac2\",\"R1 Structs/lab\",\"R1 Structs/m\",\"R1 Structs\"],\"labels\":[\" 0-m_0-ts_1-lab_1-pi_0-ac1_0-ac2\",\" 0-m_0-ts_2-lab_0-pi_0-ac1_0-ac2\",\" 0-m_1-ts_0-lab_0-pi_1-ac1_0-ac2\",\" 0-m_1-ts_0-lab_1-pi_0-ac1_0-ac2\",\" 0-m_1-ts_1-lab_0-pi_0-ac1_0-ac2\",\" 0-m_2-ts_0-lab_1-pi_0-ac1_0-ac2\",\" 1-m_0-ts_0-lab_0-pi_0-ac1_1-ac2\",\" 1-m_0-ts_0-lab_0-pi_1-ac1_0-ac2\",\" 1-m_0-ts_0-lab_1-pi_0-ac1_0-ac2\",\" 1-m_0-ts_1-lab_0-pi_0-ac1_0-ac2\",\" 1-m_0-ts_1-lab_1-pi_0-ac1_0-ac2\",\" 1-m_0-ts_2-lab_0-pi_0-ac1_0-ac2\",\" 1-m_1-ts_0-lab_0-pi_1-ac1_0-ac2\",\" 1-m_1-ts_0-lab_1-pi_0-ac1_0-ac2\",\" 1-m_1-ts_1-lab_0-pi_0-ac1_0-ac2\",\" 2-m_0-ts_0-lab_0-pi_0-ac1_1-ac2\",\" 2-m_0-ts_0-lab_0-pi_1-ac1_0-ac2\",\" 2-m_0-ts_0-lab_1-pi_0-ac1_0-ac2\",\" 2-m_0-ts_1-lab_0-pi_0-ac1_0-ac2\",\" 2-m_0-ts_2-lab_0-pi_0-ac1_0-ac2\",\" 2-m_1-ts_0-lab_1-pi_0-ac1_0-ac2\",\" 2-m_1-ts_1-lab_0-pi_0-ac1_0-ac2\",\" 3-m_0-ts_0-lab_0-pi_0-ac1_0-ac2\",\" 3-m_0-ts_0-lab_0-pi_1-ac1_0-ac2\",\" 3-m_0-ts_0-lab_1-pi_0-ac1_0-ac2\",\" 3-m_0-ts_1-lab_0-pi_0-ac1_0-ac2\",\" 3-m_1-ts_1-lab_0-pi_0-ac1_0-ac2\",\" 4-m_0-ts_0-lab_0-pi_1-ac1_0-ac2\",\" 4-m_0-ts_0-lab_1-pi_0-ac1_0-ac2\",\" 4-m_0-ts_1-lab_0-pi_0-ac1_0-ac2\",\" 4-m_1-ts_1-lab_0-pi_0-ac1_0-ac2\",\" 5-m_0-ts_0-lab_0-pi_0-ac1_0-ac2\",\" 5-m_0-ts_0-lab_1-pi_0-ac1_0-ac2\",\" 5-m_0-ts_1-lab_0-pi_0-ac1_0-ac2\",\" 6-m_0-ts_1-lab_0-pi_0-ac1_0-ac2\",\"PI\",\"ac1\",\"ac2\",\"lab\",\"m\",\"R1 Structs\"],\"marker\":{\"coloraxis\":\"coloraxis\",\"colors\":[163.96363636363637,155.0,156.4,147.26190476190476,181.5,182.0,122.5,158.68695652173912,162.83098591549296,107.57142857142857,149.4375,118.42857142857143,160.5,159.01030927835052,134.38888888888889,134.0,162.48093841642228,168.56798245614036,135.44444444444446,173.5,157.9375,145.6,100.0,152.33333333333334,159.41666666666666,129.1818181818182,166.5,178.0,158.25,140.0487804878049,165.0,86.0,167.5,165.4375,180.5,163.9001473353832,160.43280392344104,128.25,141.22437822900397,90.66666666666667,159.91960920167315]},\"name\":\"\",\"parents\":[\"R1 Structs/PI\",\"R1 Structs/lab\",\"R1 Structs/ac1\",\"R1 Structs/PI\",\"R1 Structs/lab\",\"R1 Structs/PI\",\"R1 Structs/ac2\",\"R1 Structs/ac1\",\"R1 Structs/PI\",\"R1 Structs/lab\",\"R1 Structs/PI\",\"R1 Structs/lab\",\"R1 Structs/ac1\",\"R1 Structs/PI\",\"R1 Structs/lab\",\"R1 Structs/ac2\",\"R1 Structs/ac1\",\"R1 Structs/PI\",\"R1 Structs/lab\",\"R1 Structs/lab\",\"R1 Structs/PI\",\"R1 Structs/lab\",\"R1 Structs/m\",\"R1 Structs/ac1\",\"R1 Structs/PI\",\"R1 Structs/lab\",\"R1 Structs/lab\",\"R1 Structs/ac1\",\"R1 Structs/PI\",\"R1 Structs/lab\",\"R1 Structs/lab\",\"R1 Structs/m\",\"R1 Structs/PI\",\"R1 Structs/lab\",\"R1 Structs/lab\",\"R1 Structs\",\"R1 Structs\",\"R1 Structs\",\"R1 Structs\",\"R1 Structs\",\"\"],\"values\":[55,1,5,42,3,1,2,350,145,7,16,7,2,98,18,2,347,458,45,2,16,45,1,12,108,11,2,1,4,42,2,2,2,16,2,945,717,4,203,3,1872],\"type\":\"treemap\"}],                        {\"template\":{\"data\":{\"bar\":[{\"error_x\":{\"color\":\"#2a3f5f\"},\"error_y\":{\"color\":\"#2a3f5f\"},\"marker\":{\"line\":{\"color\":\"#E5ECF6\",\"width\":0.5},\"pattern\":{\"fillmode\":\"overlay\",\"size\":10,\"solidity\":0.2}},\"type\":\"bar\"}],\"barpolar\":[{\"marker\":{\"line\":{\"color\":\"#E5ECF6\",\"width\":0.5},\"pattern\":{\"fillmode\":\"overlay\",\"size\":10,\"solidity\":0.2}},\"type\":\"barpolar\"}],\"carpet\":[{\"aaxis\":{\"endlinecolor\":\"#2a3f5f\",\"gridcolor\":\"white\",\"linecolor\":\"white\",\"minorgridcolor\":\"white\",\"startlinecolor\":\"#2a3f5f\"},\"baxis\":{\"endlinecolor\":\"#2a3f5f\",\"gridcolor\":\"white\",\"linecolor\":\"white\",\"minorgridcolor\":\"white\",\"startlinecolor\":\"#2a3f5f\"},\"type\":\"carpet\"}],\"choropleth\":[{\"colorbar\":{\"outlinewidth\":0,\"ticks\":\"\"},\"type\":\"choropleth\"}],\"contour\":[{\"colorbar\":{\"outlinewidth\":0,\"ticks\":\"\"},\"colorscale\":[[0.0,\"#0d0887\"],[0.1111111111111111,\"#46039f\"],[0.2222222222222222,\"#7201a8\"],[0.3333333333333333,\"#9c179e\"],[0.4444444444444444,\"#bd3786\"],[0.5555555555555556,\"#d8576b\"],[0.6666666666666666,\"#ed7953\"],[0.7777777777777778,\"#fb9f3a\"],[0.8888888888888888,\"#fdca26\"],[1.0,\"#f0f921\"]],\"type\":\"contour\"}],\"contourcarpet\":[{\"colorbar\":{\"outlinewidth\":0,\"ticks\":\"\"},\"type\":\"contourcarpet\"}],\"heatmap\":[{\"colorbar\":{\"outlinewidth\":0,\"ticks\":\"\"},\"colorscale\":[[0.0,\"#0d0887\"],[0.1111111111111111,\"#46039f\"],[0.2222222222222222,\"#7201a8\"],[0.3333333333333333,\"#9c179e\"],[0.4444444444444444,\"#bd3786\"],[0.5555555555555556,\"#d8576b\"],[0.6666666666666666,\"#ed7953\"],[0.7777777777777778,\"#fb9f3a\"],[0.8888888888888888,\"#fdca26\"],[1.0,\"#f0f921\"]],\"type\":\"heatmap\"}],\"heatmapgl\":[{\"colorbar\":{\"outlinewidth\":0,\"ticks\":\"\"},\"colorscale\":[[0.0,\"#0d0887\"],[0.1111111111111111,\"#46039f\"],[0.2222222222222222,\"#7201a8\"],[0.3333333333333333,\"#9c179e\"],[0.4444444444444444,\"#bd3786\"],[0.5555555555555556,\"#d8576b\"],[0.6666666666666666,\"#ed7953\"],[0.7777777777777778,\"#fb9f3a\"],[0.8888888888888888,\"#fdca26\"],[1.0,\"#f0f921\"]],\"type\":\"heatmapgl\"}],\"histogram\":[{\"marker\":{\"pattern\":{\"fillmode\":\"overlay\",\"size\":10,\"solidity\":0.2}},\"type\":\"histogram\"}],\"histogram2d\":[{\"colorbar\":{\"outlinewidth\":0,\"ticks\":\"\"},\"colorscale\":[[0.0,\"#0d0887\"],[0.1111111111111111,\"#46039f\"],[0.2222222222222222,\"#7201a8\"],[0.3333333333333333,\"#9c179e\"],[0.4444444444444444,\"#bd3786\"],[0.5555555555555556,\"#d8576b\"],[0.6666666666666666,\"#ed7953\"],[0.7777777777777778,\"#fb9f3a\"],[0.8888888888888888,\"#fdca26\"],[1.0,\"#f0f921\"]],\"type\":\"histogram2d\"}],\"histogram2dcontour\":[{\"colorbar\":{\"outlinewidth\":0,\"ticks\":\"\"},\"colorscale\":[[0.0,\"#0d0887\"],[0.1111111111111111,\"#46039f\"],[0.2222222222222222,\"#7201a8\"],[0.3333333333333333,\"#9c179e\"],[0.4444444444444444,\"#bd3786\"],[0.5555555555555556,\"#d8576b\"],[0.6666666666666666,\"#ed7953\"],[0.7777777777777778,\"#fb9f3a\"],[0.8888888888888888,\"#fdca26\"],[1.0,\"#f0f921\"]],\"type\":\"histogram2dcontour\"}],\"mesh3d\":[{\"colorbar\":{\"outlinewidth\":0,\"ticks\":\"\"},\"type\":\"mesh3d\"}],\"parcoords\":[{\"line\":{\"colorbar\":{\"outlinewidth\":0,\"ticks\":\"\"}},\"type\":\"parcoords\"}],\"pie\":[{\"automargin\":true,\"type\":\"pie\"}],\"scatter\":[{\"marker\":{\"colorbar\":{\"outlinewidth\":0,\"ticks\":\"\"}},\"type\":\"scatter\"}],\"scatter3d\":[{\"line\":{\"colorbar\":{\"outlinewidth\":0,\"ticks\":\"\"}},\"marker\":{\"colorbar\":{\"outlinewidth\":0,\"ticks\":\"\"}},\"type\":\"scatter3d\"}],\"scattercarpet\":[{\"marker\":{\"colorbar\":{\"outlinewidth\":0,\"ticks\":\"\"}},\"type\":\"scattercarpet\"}],\"scattergeo\":[{\"marker\":{\"colorbar\":{\"outlinewidth\":0,\"ticks\":\"\"}},\"type\":\"scattergeo\"}],\"scattergl\":[{\"marker\":{\"colorbar\":{\"outlinewidth\":0,\"ticks\":\"\"}},\"type\":\"scattergl\"}],\"scattermapbox\":[{\"marker\":{\"colorbar\":{\"outlinewidth\":0,\"ticks\":\"\"}},\"type\":\"scattermapbox\"}],\"scatterpolar\":[{\"marker\":{\"colorbar\":{\"outlinewidth\":0,\"ticks\":\"\"}},\"type\":\"scatterpolar\"}],\"scatterpolargl\":[{\"marker\":{\"colorbar\":{\"outlinewidth\":0,\"ticks\":\"\"}},\"type\":\"scatterpolargl\"}],\"scatterternary\":[{\"marker\":{\"colorbar\":{\"outlinewidth\":0,\"ticks\":\"\"}},\"type\":\"scatterternary\"}],\"surface\":[{\"colorbar\":{\"outlinewidth\":0,\"ticks\":\"\"},\"colorscale\":[[0.0,\"#0d0887\"],[0.1111111111111111,\"#46039f\"],[0.2222222222222222,\"#7201a8\"],[0.3333333333333333,\"#9c179e\"],[0.4444444444444444,\"#bd3786\"],[0.5555555555555556,\"#d8576b\"],[0.6666666666666666,\"#ed7953\"],[0.7777777777777778,\"#fb9f3a\"],[0.8888888888888888,\"#fdca26\"],[1.0,\"#f0f921\"]],\"type\":\"surface\"}],\"table\":[{\"cells\":{\"fill\":{\"color\":\"#EBF0F8\"},\"line\":{\"color\":\"white\"}},\"header\":{\"fill\":{\"color\":\"#C8D4E3\"},\"line\":{\"color\":\"white\"}},\"type\":\"table\"}]},\"layout\":{\"annotationdefaults\":{\"arrowcolor\":\"#2a3f5f\",\"arrowhead\":0,\"arrowwidth\":1},\"autotypenumbers\":\"strict\",\"coloraxis\":{\"colorbar\":{\"outlinewidth\":0,\"ticks\":\"\"}},\"colorscale\":{\"diverging\":[[0,\"#8e0152\"],[0.1,\"#c51b7d\"],[0.2,\"#de77ae\"],[0.3,\"#f1b6da\"],[0.4,\"#fde0ef\"],[0.5,\"#f7f7f7\"],[0.6,\"#e6f5d0\"],[0.7,\"#b8e186\"],[0.8,\"#7fbc41\"],[0.9,\"#4d9221\"],[1,\"#276419\"]],\"sequential\":[[0.0,\"#0d0887\"],[0.1111111111111111,\"#46039f\"],[0.2222222222222222,\"#7201a8\"],[0.3333333333333333,\"#9c179e\"],[0.4444444444444444,\"#bd3786\"],[0.5555555555555556,\"#d8576b\"],[0.6666666666666666,\"#ed7953\"],[0.7777777777777778,\"#fb9f3a\"],[0.8888888888888888,\"#fdca26\"],[1.0,\"#f0f921\"]],\"sequentialminus\":[[0.0,\"#0d0887\"],[0.1111111111111111,\"#46039f\"],[0.2222222222222222,\"#7201a8\"],[0.3333333333333333,\"#9c179e\"],[0.4444444444444444,\"#bd3786\"],[0.5555555555555556,\"#d8576b\"],[0.6666666666666666,\"#ed7953\"],[0.7777777777777778,\"#fb9f3a\"],[0.8888888888888888,\"#fdca26\"],[1.0,\"#f0f921\"]]},\"colorway\":[\"#636efa\",\"#EF553B\",\"#00cc96\",\"#ab63fa\",\"#FFA15A\",\"#19d3f3\",\"#FF6692\",\"#B6E880\",\"#FF97FF\",\"#FECB52\"],\"font\":{\"color\":\"#2a3f5f\"},\"geo\":{\"bgcolor\":\"white\",\"lakecolor\":\"white\",\"landcolor\":\"#E5ECF6\",\"showlakes\":true,\"showland\":true,\"subunitcolor\":\"white\"},\"hoverlabel\":{\"align\":\"left\"},\"hovermode\":\"closest\",\"mapbox\":{\"style\":\"light\"},\"paper_bgcolor\":\"white\",\"plot_bgcolor\":\"#E5ECF6\",\"polar\":{\"angularaxis\":{\"gridcolor\":\"white\",\"linecolor\":\"white\",\"ticks\":\"\"},\"bgcolor\":\"#E5ECF6\",\"radialaxis\":{\"gridcolor\":\"white\",\"linecolor\":\"white\",\"ticks\":\"\"}},\"scene\":{\"xaxis\":{\"backgroundcolor\":\"#E5ECF6\",\"gridcolor\":\"white\",\"gridwidth\":2,\"linecolor\":\"white\",\"showbackground\":true,\"ticks\":\"\",\"zerolinecolor\":\"white\"},\"yaxis\":{\"backgroundcolor\":\"#E5ECF6\",\"gridcolor\":\"white\",\"gridwidth\":2,\"linecolor\":\"white\",\"showbackground\":true,\"ticks\":\"\",\"zerolinecolor\":\"white\"},\"zaxis\":{\"backgroundcolor\":\"#E5ECF6\",\"gridcolor\":\"white\",\"gridwidth\":2,\"linecolor\":\"white\",\"showbackground\":true,\"ticks\":\"\",\"zerolinecolor\":\"white\"}},\"shapedefaults\":{\"line\":{\"color\":\"#2a3f5f\"}},\"ternary\":{\"aaxis\":{\"gridcolor\":\"white\",\"linecolor\":\"white\",\"ticks\":\"\"},\"baxis\":{\"gridcolor\":\"white\",\"linecolor\":\"white\",\"ticks\":\"\"},\"bgcolor\":\"#E5ECF6\",\"caxis\":{\"gridcolor\":\"white\",\"linecolor\":\"white\",\"ticks\":\"\"}},\"title\":{\"x\":0.05},\"xaxis\":{\"automargin\":true,\"gridcolor\":\"white\",\"linecolor\":\"white\",\"ticks\":\"\",\"title\":{\"standoff\":15},\"zerolinecolor\":\"white\",\"zerolinewidth\":2},\"yaxis\":{\"automargin\":true,\"gridcolor\":\"white\",\"linecolor\":\"white\",\"ticks\":\"\",\"title\":{\"standoff\":15},\"zerolinecolor\":\"white\",\"zerolinewidth\":2}}},\"coloraxis\":{\"colorbar\":{\"title\":{\"text\":\"ave_score_itars\"}},\"colorscale\":[[0.0,\"rgb(103,0,31)\"],[0.1,\"rgb(178,24,43)\"],[0.2,\"rgb(214,96,77)\"],[0.3,\"rgb(244,165,130)\"],[0.4,\"rgb(253,219,199)\"],[0.5,\"rgb(247,247,247)\"],[0.6,\"rgb(209,229,240)\"],[0.7,\"rgb(146,197,222)\"],[0.8,\"rgb(67,147,195)\"],[0.9,\"rgb(33,102,172)\"],[1.0,\"rgb(5,48,97)\"]],\"cmid\":148.12743354661777},\"legend\":{\"tracegroupgap\":0},\"margin\":{\"t\":50,\"l\":25,\"r\":25,\"b\":25},\"title\":{\"text\":\"R1 Structures: Frequency and Impact on Score Relative to All Factions Average (148.13): itars\"}},                        {\"responsive\": true}                    ).then(function(){\n",
       "                            \n",
       "var gd = document.getElementById('b18f7183-1ef8-4439-b962-e97086ddf154');\n",
       "var x = new MutationObserver(function (mutations, observer) {{\n",
       "        var display = window.getComputedStyle(gd).display;\n",
       "        if (!display || display === 'none') {{\n",
       "            console.log([gd, 'removed!']);\n",
       "            Plotly.purge(gd);\n",
       "            observer.disconnect();\n",
       "        }}\n",
       "}});\n",
       "\n",
       "// Listen for the removal of the full notebook cells\n",
       "var notebookContainer = gd.closest('#notebook-container');\n",
       "if (notebookContainer) {{\n",
       "    x.observe(notebookContainer, {childList: true});\n",
       "}}\n",
       "\n",
       "// Listen for the clearing of the current output cell\n",
       "var outputEl = gd.closest('.output');\n",
       "if (outputEl) {{\n",
       "    x.observe(outputEl, {childList: true});\n",
       "}}\n",
       "\n",
       "                        })                };                });            </script>        </div>"
      ]
     },
     "metadata": {},
     "output_type": "display_data"
    },
    {
     "data": {
      "application/vnd.plotly.v1+json": {
       "config": {
        "plotlyServerURL": "https://plot.ly"
       },
       "data": [
        {
         "branchvalues": "total",
         "customdata": [
          [
           170.1818181818182,
           141.45454545454547
          ],
          [
           186.66666666666666,
           139.66666666666666
          ],
          [
           302,
           138
          ],
          [
           268,
           115
          ],
          [
           123,
           127
          ],
          [
           116,
           122
          ],
          [
           178.42857142857142,
           150.71428571428572
          ],
          [
           229.50819672131146,
           146.50819672131146
          ],
          [
           158.35294117647058,
           127.47058823529412
          ],
          [
           200.75,
           117.75
          ],
          [
           225.28571428571428,
           134.28571428571428
          ],
          [
           184.5,
           135
          ],
          [
           168.7709923664122,
           135.68992248062017
          ],
          [
           169.9,
           146.5
          ],
          [
           133,
           151
          ],
          [
           138,
           178
          ],
          [
           155.57142857142858,
           164.71428571428572
          ],
          [
           253.2,
           155.37777777777777
          ],
          [
           186.38489208633092,
           141.0808823529412
          ],
          [
           133.09677419354838,
           135.83870967741936
          ],
          [
           115,
           123
          ],
          [
           205.24137931034483,
           153.79166666666666
          ],
          [
           205.16363636363636,
           147.98181818181817
          ],
          [
           70,
           130
          ],
          [
           158,
           148.57142857142858
          ],
          [
           179.98678414096915,
           136.78222222222223
          ],
          [
           258.5,
           165
          ],
          [
           145.33333333333334,
           145
          ],
          [
           346,
           125
          ],
          [
           229.75396825396825,
           162.6586345381526
          ],
          [
           188.875,
           155.875
          ],
          [
           157,
           167
          ],
          [
           231.46428571428572,
           168.14285714285714
          ],
          [
           151.2,
           159.3
          ],
          [
           244,
           211
          ],
          [
           "(?)",
           146.4639831580022
          ],
          [
           "(?)",
           151.65189873417722
          ],
          [
           "(?)",
           154.4375
          ],
          [
           "(?)",
           144.75483870967741
          ],
          [
           157,
           167
          ],
          [
           "(?)",
           136.8
          ],
          [
           "(?)",
           146.91416585543635
          ]
         ],
         "domain": {
          "x": [
           0,
           1
          ],
          "y": [
           0,
           1
          ]
         },
         "hovertemplate": "labels=%{label}<br>class_counts=%{value}<br>parent=%{parent}<br>id=%{id}<br>ave_elo_geodens=%{customdata[0]}<br>ave_score_geodens=%{color}<extra></extra>",
         "ids": [
          "R1 Structs/PI/ 0-m_0-ts_1-lab_1-pi_0-ac1_0-ac2",
          "R1 Structs/lab/ 0-m_0-ts_2-lab_0-pi_0-ac1_0-ac2",
          "R1 Structs/ac2/ 0-m_1-ts_0-lab_0-pi_0-ac1_1-ac2",
          "R1 Structs/PI/ 0-m_2-ts_0-lab_1-pi_0-ac1_0-ac2",
          "R1 Structs/lab/ 0-m_2-ts_1-lab_0-pi_0-ac1_0-ac2",
          "R1 Structs/ts/ 0-m_3-ts_0-lab_0-pi_0-ac1_0-ac2",
          "R1 Structs/ac2/ 1-m_0-ts_0-lab_0-pi_0-ac1_1-ac2",
          "R1 Structs/ac1/ 1-m_0-ts_0-lab_0-pi_1-ac1_0-ac2",
          "R1 Structs/PI/ 1-m_0-ts_0-lab_1-pi_0-ac1_0-ac2",
          "R1 Structs/lab/ 1-m_0-ts_1-lab_0-pi_0-ac1_0-ac2",
          "R1 Structs/PI/ 1-m_0-ts_1-lab_1-pi_0-ac1_0-ac2",
          "R1 Structs/lab/ 1-m_0-ts_2-lab_0-pi_0-ac1_0-ac2",
          "R1 Structs/PI/ 1-m_1-ts_0-lab_1-pi_0-ac1_0-ac2",
          "R1 Structs/lab/ 1-m_1-ts_1-lab_0-pi_0-ac1_0-ac2",
          "R1 Structs/ts/ 1-m_2-ts_0-lab_0-pi_0-ac1_0-ac2",
          "R1 Structs/lab/ 1-m_2-ts_1-lab_0-pi_0-ac1_0-ac2",
          "R1 Structs/ac2/ 2-m_0-ts_0-lab_0-pi_0-ac1_1-ac2",
          "R1 Structs/ac1/ 2-m_0-ts_0-lab_0-pi_1-ac1_0-ac2",
          "R1 Structs/PI/ 2-m_0-ts_0-lab_1-pi_0-ac1_0-ac2",
          "R1 Structs/lab/ 2-m_0-ts_1-lab_0-pi_0-ac1_0-ac2",
          "R1 Structs/PI/ 2-m_0-ts_1-lab_1-pi_0-ac1_0-ac2",
          "R1 Structs/PI/ 2-m_1-ts_0-lab_1-pi_0-ac1_0-ac2",
          "R1 Structs/lab/ 2-m_1-ts_1-lab_0-pi_0-ac1_0-ac2",
          "R1 Structs/ts/ 2-m_2-ts_0-lab_0-pi_0-ac1_0-ac2",
          "R1 Structs/ac1/ 3-m_0-ts_0-lab_0-pi_1-ac1_0-ac2",
          "R1 Structs/PI/ 3-m_0-ts_0-lab_1-pi_0-ac1_0-ac2",
          "R1 Structs/PI/ 3-m_1-ts_0-lab_1-pi_0-ac1_0-ac2",
          "R1 Structs/lab/ 3-m_1-ts_1-lab_0-pi_0-ac1_0-ac2",
          "R1 Structs/ac2/ 4-m_0-ts_0-lab_0-pi_0-ac1_1-ac2",
          "R1 Structs/PI/ 4-m_0-ts_0-lab_1-pi_0-ac1_0-ac2",
          "R1 Structs/lab/ 4-m_0-ts_1-lab_0-pi_0-ac1_0-ac2",
          "R1 Structs/m/ 5-m_0-ts_0-lab_0-pi_0-ac1_0-ac2",
          "R1 Structs/PI/ 5-m_0-ts_0-lab_1-pi_0-ac1_0-ac2",
          "R1 Structs/lab/ 5-m_0-ts_1-lab_0-pi_0-ac1_0-ac2",
          "R1 Structs/lab/ 6-m_0-ts_1-lab_0-pi_0-ac1_0-ac2",
          "R1 Structs/PI",
          "R1 Structs/ac1",
          "R1 Structs/ac2",
          "R1 Structs/lab",
          "R1 Structs/m",
          "R1 Structs/ts",
          "R1 Structs"
         ],
         "labels": [
          " 0-m_0-ts_1-lab_1-pi_0-ac1_0-ac2",
          " 0-m_0-ts_2-lab_0-pi_0-ac1_0-ac2",
          " 0-m_1-ts_0-lab_0-pi_0-ac1_1-ac2",
          " 0-m_2-ts_0-lab_1-pi_0-ac1_0-ac2",
          " 0-m_2-ts_1-lab_0-pi_0-ac1_0-ac2",
          " 0-m_3-ts_0-lab_0-pi_0-ac1_0-ac2",
          " 1-m_0-ts_0-lab_0-pi_0-ac1_1-ac2",
          " 1-m_0-ts_0-lab_0-pi_1-ac1_0-ac2",
          " 1-m_0-ts_0-lab_1-pi_0-ac1_0-ac2",
          " 1-m_0-ts_1-lab_0-pi_0-ac1_0-ac2",
          " 1-m_0-ts_1-lab_1-pi_0-ac1_0-ac2",
          " 1-m_0-ts_2-lab_0-pi_0-ac1_0-ac2",
          " 1-m_1-ts_0-lab_1-pi_0-ac1_0-ac2",
          " 1-m_1-ts_1-lab_0-pi_0-ac1_0-ac2",
          " 1-m_2-ts_0-lab_0-pi_0-ac1_0-ac2",
          " 1-m_2-ts_1-lab_0-pi_0-ac1_0-ac2",
          " 2-m_0-ts_0-lab_0-pi_0-ac1_1-ac2",
          " 2-m_0-ts_0-lab_0-pi_1-ac1_0-ac2",
          " 2-m_0-ts_0-lab_1-pi_0-ac1_0-ac2",
          " 2-m_0-ts_1-lab_0-pi_0-ac1_0-ac2",
          " 2-m_0-ts_1-lab_1-pi_0-ac1_0-ac2",
          " 2-m_1-ts_0-lab_1-pi_0-ac1_0-ac2",
          " 2-m_1-ts_1-lab_0-pi_0-ac1_0-ac2",
          " 2-m_2-ts_0-lab_0-pi_0-ac1_0-ac2",
          " 3-m_0-ts_0-lab_0-pi_1-ac1_0-ac2",
          " 3-m_0-ts_0-lab_1-pi_0-ac1_0-ac2",
          " 3-m_1-ts_0-lab_1-pi_0-ac1_0-ac2",
          " 3-m_1-ts_1-lab_0-pi_0-ac1_0-ac2",
          " 4-m_0-ts_0-lab_0-pi_0-ac1_1-ac2",
          " 4-m_0-ts_0-lab_1-pi_0-ac1_0-ac2",
          " 4-m_0-ts_1-lab_0-pi_0-ac1_0-ac2",
          " 5-m_0-ts_0-lab_0-pi_0-ac1_0-ac2",
          " 5-m_0-ts_0-lab_1-pi_0-ac1_0-ac2",
          " 5-m_0-ts_1-lab_0-pi_0-ac1_0-ac2",
          " 6-m_0-ts_1-lab_0-pi_0-ac1_0-ac2",
          "PI",
          "ac1",
          "ac2",
          "lab",
          "m",
          "ts",
          "R1 Structs"
         ],
         "marker": {
          "coloraxis": "coloraxis",
          "colors": [
           141.45454545454547,
           139.66666666666666,
           138,
           115,
           127,
           122,
           150.71428571428572,
           146.50819672131146,
           127.47058823529412,
           117.75,
           134.28571428571428,
           135,
           135.68992248062017,
           146.5,
           151,
           178,
           164.71428571428572,
           155.37777777777777,
           141.0808823529412,
           135.83870967741936,
           123,
           153.79166666666666,
           147.98181818181817,
           130,
           148.57142857142858,
           136.78222222222223,
           165,
           145,
           125,
           162.6586345381526,
           155.875,
           167,
           168.14285714285714,
           159.3,
           211,
           146.4639831580022,
           151.65189873417722,
           154.4375,
           144.75483870967741,
           167,
           136.8,
           146.91416585543635
          ]
         },
         "name": "",
         "parents": [
          "R1 Structs/PI",
          "R1 Structs/lab",
          "R1 Structs/ac2",
          "R1 Structs/PI",
          "R1 Structs/lab",
          "R1 Structs/ts",
          "R1 Structs/ac2",
          "R1 Structs/ac1",
          "R1 Structs/PI",
          "R1 Structs/lab",
          "R1 Structs/PI",
          "R1 Structs/lab",
          "R1 Structs/PI",
          "R1 Structs/lab",
          "R1 Structs/ts",
          "R1 Structs/lab",
          "R1 Structs/ac2",
          "R1 Structs/ac1",
          "R1 Structs/PI",
          "R1 Structs/lab",
          "R1 Structs/PI",
          "R1 Structs/PI",
          "R1 Structs/lab",
          "R1 Structs/ts",
          "R1 Structs/ac1",
          "R1 Structs/PI",
          "R1 Structs/PI",
          "R1 Structs/lab",
          "R1 Structs/ac2",
          "R1 Structs/PI",
          "R1 Structs/lab",
          "R1 Structs/m",
          "R1 Structs/PI",
          "R1 Structs/lab",
          "R1 Structs/lab",
          "R1 Structs",
          "R1 Structs",
          "R1 Structs",
          "R1 Structs",
          "R1 Structs",
          "R1 Structs",
          ""
         ],
         "type": "treemap",
         "values": [
          22,
          3,
          1,
          1,
          1,
          1,
          7,
          61,
          17,
          8,
          14,
          4,
          131,
          30,
          2,
          1,
          7,
          90,
          278,
          31,
          2,
          145,
          55,
          2,
          7,
          227,
          2,
          3,
          1,
          252,
          8,
          1,
          28,
          10,
          1,
          1119,
          158,
          16,
          155,
          1,
          5,
          1454
         ]
        }
       ],
       "layout": {
        "coloraxis": {
         "cmid": 148.12743354661777,
         "colorbar": {
          "title": {
           "text": "ave_score_geodens"
          }
         },
         "colorscale": [
          [
           0,
           "rgb(103,0,31)"
          ],
          [
           0.1,
           "rgb(178,24,43)"
          ],
          [
           0.2,
           "rgb(214,96,77)"
          ],
          [
           0.3,
           "rgb(244,165,130)"
          ],
          [
           0.4,
           "rgb(253,219,199)"
          ],
          [
           0.5,
           "rgb(247,247,247)"
          ],
          [
           0.6,
           "rgb(209,229,240)"
          ],
          [
           0.7,
           "rgb(146,197,222)"
          ],
          [
           0.8,
           "rgb(67,147,195)"
          ],
          [
           0.9,
           "rgb(33,102,172)"
          ],
          [
           1,
           "rgb(5,48,97)"
          ]
         ]
        },
        "legend": {
         "tracegroupgap": 0
        },
        "margin": {
         "b": 25,
         "l": 25,
         "r": 25,
         "t": 50
        },
        "template": {
         "data": {
          "bar": [
           {
            "error_x": {
             "color": "#2a3f5f"
            },
            "error_y": {
             "color": "#2a3f5f"
            },
            "marker": {
             "line": {
              "color": "#E5ECF6",
              "width": 0.5
             },
             "pattern": {
              "fillmode": "overlay",
              "size": 10,
              "solidity": 0.2
             }
            },
            "type": "bar"
           }
          ],
          "barpolar": [
           {
            "marker": {
             "line": {
              "color": "#E5ECF6",
              "width": 0.5
             },
             "pattern": {
              "fillmode": "overlay",
              "size": 10,
              "solidity": 0.2
             }
            },
            "type": "barpolar"
           }
          ],
          "carpet": [
           {
            "aaxis": {
             "endlinecolor": "#2a3f5f",
             "gridcolor": "white",
             "linecolor": "white",
             "minorgridcolor": "white",
             "startlinecolor": "#2a3f5f"
            },
            "baxis": {
             "endlinecolor": "#2a3f5f",
             "gridcolor": "white",
             "linecolor": "white",
             "minorgridcolor": "white",
             "startlinecolor": "#2a3f5f"
            },
            "type": "carpet"
           }
          ],
          "choropleth": [
           {
            "colorbar": {
             "outlinewidth": 0,
             "ticks": ""
            },
            "type": "choropleth"
           }
          ],
          "contour": [
           {
            "colorbar": {
             "outlinewidth": 0,
             "ticks": ""
            },
            "colorscale": [
             [
              0,
              "#0d0887"
             ],
             [
              0.1111111111111111,
              "#46039f"
             ],
             [
              0.2222222222222222,
              "#7201a8"
             ],
             [
              0.3333333333333333,
              "#9c179e"
             ],
             [
              0.4444444444444444,
              "#bd3786"
             ],
             [
              0.5555555555555556,
              "#d8576b"
             ],
             [
              0.6666666666666666,
              "#ed7953"
             ],
             [
              0.7777777777777778,
              "#fb9f3a"
             ],
             [
              0.8888888888888888,
              "#fdca26"
             ],
             [
              1,
              "#f0f921"
             ]
            ],
            "type": "contour"
           }
          ],
          "contourcarpet": [
           {
            "colorbar": {
             "outlinewidth": 0,
             "ticks": ""
            },
            "type": "contourcarpet"
           }
          ],
          "heatmap": [
           {
            "colorbar": {
             "outlinewidth": 0,
             "ticks": ""
            },
            "colorscale": [
             [
              0,
              "#0d0887"
             ],
             [
              0.1111111111111111,
              "#46039f"
             ],
             [
              0.2222222222222222,
              "#7201a8"
             ],
             [
              0.3333333333333333,
              "#9c179e"
             ],
             [
              0.4444444444444444,
              "#bd3786"
             ],
             [
              0.5555555555555556,
              "#d8576b"
             ],
             [
              0.6666666666666666,
              "#ed7953"
             ],
             [
              0.7777777777777778,
              "#fb9f3a"
             ],
             [
              0.8888888888888888,
              "#fdca26"
             ],
             [
              1,
              "#f0f921"
             ]
            ],
            "type": "heatmap"
           }
          ],
          "heatmapgl": [
           {
            "colorbar": {
             "outlinewidth": 0,
             "ticks": ""
            },
            "colorscale": [
             [
              0,
              "#0d0887"
             ],
             [
              0.1111111111111111,
              "#46039f"
             ],
             [
              0.2222222222222222,
              "#7201a8"
             ],
             [
              0.3333333333333333,
              "#9c179e"
             ],
             [
              0.4444444444444444,
              "#bd3786"
             ],
             [
              0.5555555555555556,
              "#d8576b"
             ],
             [
              0.6666666666666666,
              "#ed7953"
             ],
             [
              0.7777777777777778,
              "#fb9f3a"
             ],
             [
              0.8888888888888888,
              "#fdca26"
             ],
             [
              1,
              "#f0f921"
             ]
            ],
            "type": "heatmapgl"
           }
          ],
          "histogram": [
           {
            "marker": {
             "pattern": {
              "fillmode": "overlay",
              "size": 10,
              "solidity": 0.2
             }
            },
            "type": "histogram"
           }
          ],
          "histogram2d": [
           {
            "colorbar": {
             "outlinewidth": 0,
             "ticks": ""
            },
            "colorscale": [
             [
              0,
              "#0d0887"
             ],
             [
              0.1111111111111111,
              "#46039f"
             ],
             [
              0.2222222222222222,
              "#7201a8"
             ],
             [
              0.3333333333333333,
              "#9c179e"
             ],
             [
              0.4444444444444444,
              "#bd3786"
             ],
             [
              0.5555555555555556,
              "#d8576b"
             ],
             [
              0.6666666666666666,
              "#ed7953"
             ],
             [
              0.7777777777777778,
              "#fb9f3a"
             ],
             [
              0.8888888888888888,
              "#fdca26"
             ],
             [
              1,
              "#f0f921"
             ]
            ],
            "type": "histogram2d"
           }
          ],
          "histogram2dcontour": [
           {
            "colorbar": {
             "outlinewidth": 0,
             "ticks": ""
            },
            "colorscale": [
             [
              0,
              "#0d0887"
             ],
             [
              0.1111111111111111,
              "#46039f"
             ],
             [
              0.2222222222222222,
              "#7201a8"
             ],
             [
              0.3333333333333333,
              "#9c179e"
             ],
             [
              0.4444444444444444,
              "#bd3786"
             ],
             [
              0.5555555555555556,
              "#d8576b"
             ],
             [
              0.6666666666666666,
              "#ed7953"
             ],
             [
              0.7777777777777778,
              "#fb9f3a"
             ],
             [
              0.8888888888888888,
              "#fdca26"
             ],
             [
              1,
              "#f0f921"
             ]
            ],
            "type": "histogram2dcontour"
           }
          ],
          "mesh3d": [
           {
            "colorbar": {
             "outlinewidth": 0,
             "ticks": ""
            },
            "type": "mesh3d"
           }
          ],
          "parcoords": [
           {
            "line": {
             "colorbar": {
              "outlinewidth": 0,
              "ticks": ""
             }
            },
            "type": "parcoords"
           }
          ],
          "pie": [
           {
            "automargin": true,
            "type": "pie"
           }
          ],
          "scatter": [
           {
            "marker": {
             "colorbar": {
              "outlinewidth": 0,
              "ticks": ""
             }
            },
            "type": "scatter"
           }
          ],
          "scatter3d": [
           {
            "line": {
             "colorbar": {
              "outlinewidth": 0,
              "ticks": ""
             }
            },
            "marker": {
             "colorbar": {
              "outlinewidth": 0,
              "ticks": ""
             }
            },
            "type": "scatter3d"
           }
          ],
          "scattercarpet": [
           {
            "marker": {
             "colorbar": {
              "outlinewidth": 0,
              "ticks": ""
             }
            },
            "type": "scattercarpet"
           }
          ],
          "scattergeo": [
           {
            "marker": {
             "colorbar": {
              "outlinewidth": 0,
              "ticks": ""
             }
            },
            "type": "scattergeo"
           }
          ],
          "scattergl": [
           {
            "marker": {
             "colorbar": {
              "outlinewidth": 0,
              "ticks": ""
             }
            },
            "type": "scattergl"
           }
          ],
          "scattermapbox": [
           {
            "marker": {
             "colorbar": {
              "outlinewidth": 0,
              "ticks": ""
             }
            },
            "type": "scattermapbox"
           }
          ],
          "scatterpolar": [
           {
            "marker": {
             "colorbar": {
              "outlinewidth": 0,
              "ticks": ""
             }
            },
            "type": "scatterpolar"
           }
          ],
          "scatterpolargl": [
           {
            "marker": {
             "colorbar": {
              "outlinewidth": 0,
              "ticks": ""
             }
            },
            "type": "scatterpolargl"
           }
          ],
          "scatterternary": [
           {
            "marker": {
             "colorbar": {
              "outlinewidth": 0,
              "ticks": ""
             }
            },
            "type": "scatterternary"
           }
          ],
          "surface": [
           {
            "colorbar": {
             "outlinewidth": 0,
             "ticks": ""
            },
            "colorscale": [
             [
              0,
              "#0d0887"
             ],
             [
              0.1111111111111111,
              "#46039f"
             ],
             [
              0.2222222222222222,
              "#7201a8"
             ],
             [
              0.3333333333333333,
              "#9c179e"
             ],
             [
              0.4444444444444444,
              "#bd3786"
             ],
             [
              0.5555555555555556,
              "#d8576b"
             ],
             [
              0.6666666666666666,
              "#ed7953"
             ],
             [
              0.7777777777777778,
              "#fb9f3a"
             ],
             [
              0.8888888888888888,
              "#fdca26"
             ],
             [
              1,
              "#f0f921"
             ]
            ],
            "type": "surface"
           }
          ],
          "table": [
           {
            "cells": {
             "fill": {
              "color": "#EBF0F8"
             },
             "line": {
              "color": "white"
             }
            },
            "header": {
             "fill": {
              "color": "#C8D4E3"
             },
             "line": {
              "color": "white"
             }
            },
            "type": "table"
           }
          ]
         },
         "layout": {
          "annotationdefaults": {
           "arrowcolor": "#2a3f5f",
           "arrowhead": 0,
           "arrowwidth": 1
          },
          "autotypenumbers": "strict",
          "coloraxis": {
           "colorbar": {
            "outlinewidth": 0,
            "ticks": ""
           }
          },
          "colorscale": {
           "diverging": [
            [
             0,
             "#8e0152"
            ],
            [
             0.1,
             "#c51b7d"
            ],
            [
             0.2,
             "#de77ae"
            ],
            [
             0.3,
             "#f1b6da"
            ],
            [
             0.4,
             "#fde0ef"
            ],
            [
             0.5,
             "#f7f7f7"
            ],
            [
             0.6,
             "#e6f5d0"
            ],
            [
             0.7,
             "#b8e186"
            ],
            [
             0.8,
             "#7fbc41"
            ],
            [
             0.9,
             "#4d9221"
            ],
            [
             1,
             "#276419"
            ]
           ],
           "sequential": [
            [
             0,
             "#0d0887"
            ],
            [
             0.1111111111111111,
             "#46039f"
            ],
            [
             0.2222222222222222,
             "#7201a8"
            ],
            [
             0.3333333333333333,
             "#9c179e"
            ],
            [
             0.4444444444444444,
             "#bd3786"
            ],
            [
             0.5555555555555556,
             "#d8576b"
            ],
            [
             0.6666666666666666,
             "#ed7953"
            ],
            [
             0.7777777777777778,
             "#fb9f3a"
            ],
            [
             0.8888888888888888,
             "#fdca26"
            ],
            [
             1,
             "#f0f921"
            ]
           ],
           "sequentialminus": [
            [
             0,
             "#0d0887"
            ],
            [
             0.1111111111111111,
             "#46039f"
            ],
            [
             0.2222222222222222,
             "#7201a8"
            ],
            [
             0.3333333333333333,
             "#9c179e"
            ],
            [
             0.4444444444444444,
             "#bd3786"
            ],
            [
             0.5555555555555556,
             "#d8576b"
            ],
            [
             0.6666666666666666,
             "#ed7953"
            ],
            [
             0.7777777777777778,
             "#fb9f3a"
            ],
            [
             0.8888888888888888,
             "#fdca26"
            ],
            [
             1,
             "#f0f921"
            ]
           ]
          },
          "colorway": [
           "#636efa",
           "#EF553B",
           "#00cc96",
           "#ab63fa",
           "#FFA15A",
           "#19d3f3",
           "#FF6692",
           "#B6E880",
           "#FF97FF",
           "#FECB52"
          ],
          "font": {
           "color": "#2a3f5f"
          },
          "geo": {
           "bgcolor": "white",
           "lakecolor": "white",
           "landcolor": "#E5ECF6",
           "showlakes": true,
           "showland": true,
           "subunitcolor": "white"
          },
          "hoverlabel": {
           "align": "left"
          },
          "hovermode": "closest",
          "mapbox": {
           "style": "light"
          },
          "paper_bgcolor": "white",
          "plot_bgcolor": "#E5ECF6",
          "polar": {
           "angularaxis": {
            "gridcolor": "white",
            "linecolor": "white",
            "ticks": ""
           },
           "bgcolor": "#E5ECF6",
           "radialaxis": {
            "gridcolor": "white",
            "linecolor": "white",
            "ticks": ""
           }
          },
          "scene": {
           "xaxis": {
            "backgroundcolor": "#E5ECF6",
            "gridcolor": "white",
            "gridwidth": 2,
            "linecolor": "white",
            "showbackground": true,
            "ticks": "",
            "zerolinecolor": "white"
           },
           "yaxis": {
            "backgroundcolor": "#E5ECF6",
            "gridcolor": "white",
            "gridwidth": 2,
            "linecolor": "white",
            "showbackground": true,
            "ticks": "",
            "zerolinecolor": "white"
           },
           "zaxis": {
            "backgroundcolor": "#E5ECF6",
            "gridcolor": "white",
            "gridwidth": 2,
            "linecolor": "white",
            "showbackground": true,
            "ticks": "",
            "zerolinecolor": "white"
           }
          },
          "shapedefaults": {
           "line": {
            "color": "#2a3f5f"
           }
          },
          "ternary": {
           "aaxis": {
            "gridcolor": "white",
            "linecolor": "white",
            "ticks": ""
           },
           "baxis": {
            "gridcolor": "white",
            "linecolor": "white",
            "ticks": ""
           },
           "bgcolor": "#E5ECF6",
           "caxis": {
            "gridcolor": "white",
            "linecolor": "white",
            "ticks": ""
           }
          },
          "title": {
           "x": 0.05
          },
          "xaxis": {
           "automargin": true,
           "gridcolor": "white",
           "linecolor": "white",
           "ticks": "",
           "title": {
            "standoff": 15
           },
           "zerolinecolor": "white",
           "zerolinewidth": 2
          },
          "yaxis": {
           "automargin": true,
           "gridcolor": "white",
           "linecolor": "white",
           "ticks": "",
           "title": {
            "standoff": 15
           },
           "zerolinecolor": "white",
           "zerolinewidth": 2
          }
         }
        },
        "title": {
         "text": "R1 Structures: Frequency and Impact on Score Relative to All Factions Average (148.13): geodens"
        }
       }
      },
      "text/html": [
       "<div>                            <div id=\"2f4af8c6-8713-4608-b313-172950d0b08b\" class=\"plotly-graph-div\" style=\"height:525px; width:100%;\"></div>            <script type=\"text/javascript\">                require([\"plotly\"], function(Plotly) {                    window.PLOTLYENV=window.PLOTLYENV || {};                                    if (document.getElementById(\"2f4af8c6-8713-4608-b313-172950d0b08b\")) {                    Plotly.newPlot(                        \"2f4af8c6-8713-4608-b313-172950d0b08b\",                        [{\"branchvalues\":\"total\",\"customdata\":[[170.1818181818182,141.45454545454547],[186.66666666666666,139.66666666666666],[302.0,138.0],[268.0,115.0],[123.0,127.0],[116.0,122.0],[178.42857142857142,150.71428571428572],[229.50819672131146,146.50819672131146],[158.35294117647058,127.47058823529412],[200.75,117.75],[225.28571428571428,134.28571428571428],[184.5,135.0],[168.7709923664122,135.68992248062017],[169.9,146.5],[133.0,151.0],[138.0,178.0],[155.57142857142858,164.71428571428572],[253.2,155.37777777777777],[186.38489208633092,141.0808823529412],[133.09677419354838,135.83870967741936],[115.0,123.0],[205.24137931034483,153.79166666666666],[205.16363636363636,147.98181818181817],[70.0,130.0],[158.0,148.57142857142858],[179.98678414096915,136.78222222222223],[258.5,165.0],[145.33333333333334,145.0],[346.0,125.0],[229.75396825396825,162.6586345381526],[188.875,155.875],[157.0,167.0],[231.46428571428572,168.14285714285714],[151.2,159.3],[244.0,211.0],[\"(?)\",146.4639831580022],[\"(?)\",151.65189873417722],[\"(?)\",154.4375],[\"(?)\",144.75483870967741],[157.0,167.0],[\"(?)\",136.8],[\"(?)\",146.91416585543635]],\"domain\":{\"x\":[0.0,1.0],\"y\":[0.0,1.0]},\"hovertemplate\":\"labels=%{label}<br>class_counts=%{value}<br>parent=%{parent}<br>id=%{id}<br>ave_elo_geodens=%{customdata[0]}<br>ave_score_geodens=%{color}<extra></extra>\",\"ids\":[\"R1 Structs/PI/ 0-m_0-ts_1-lab_1-pi_0-ac1_0-ac2\",\"R1 Structs/lab/ 0-m_0-ts_2-lab_0-pi_0-ac1_0-ac2\",\"R1 Structs/ac2/ 0-m_1-ts_0-lab_0-pi_0-ac1_1-ac2\",\"R1 Structs/PI/ 0-m_2-ts_0-lab_1-pi_0-ac1_0-ac2\",\"R1 Structs/lab/ 0-m_2-ts_1-lab_0-pi_0-ac1_0-ac2\",\"R1 Structs/ts/ 0-m_3-ts_0-lab_0-pi_0-ac1_0-ac2\",\"R1 Structs/ac2/ 1-m_0-ts_0-lab_0-pi_0-ac1_1-ac2\",\"R1 Structs/ac1/ 1-m_0-ts_0-lab_0-pi_1-ac1_0-ac2\",\"R1 Structs/PI/ 1-m_0-ts_0-lab_1-pi_0-ac1_0-ac2\",\"R1 Structs/lab/ 1-m_0-ts_1-lab_0-pi_0-ac1_0-ac2\",\"R1 Structs/PI/ 1-m_0-ts_1-lab_1-pi_0-ac1_0-ac2\",\"R1 Structs/lab/ 1-m_0-ts_2-lab_0-pi_0-ac1_0-ac2\",\"R1 Structs/PI/ 1-m_1-ts_0-lab_1-pi_0-ac1_0-ac2\",\"R1 Structs/lab/ 1-m_1-ts_1-lab_0-pi_0-ac1_0-ac2\",\"R1 Structs/ts/ 1-m_2-ts_0-lab_0-pi_0-ac1_0-ac2\",\"R1 Structs/lab/ 1-m_2-ts_1-lab_0-pi_0-ac1_0-ac2\",\"R1 Structs/ac2/ 2-m_0-ts_0-lab_0-pi_0-ac1_1-ac2\",\"R1 Structs/ac1/ 2-m_0-ts_0-lab_0-pi_1-ac1_0-ac2\",\"R1 Structs/PI/ 2-m_0-ts_0-lab_1-pi_0-ac1_0-ac2\",\"R1 Structs/lab/ 2-m_0-ts_1-lab_0-pi_0-ac1_0-ac2\",\"R1 Structs/PI/ 2-m_0-ts_1-lab_1-pi_0-ac1_0-ac2\",\"R1 Structs/PI/ 2-m_1-ts_0-lab_1-pi_0-ac1_0-ac2\",\"R1 Structs/lab/ 2-m_1-ts_1-lab_0-pi_0-ac1_0-ac2\",\"R1 Structs/ts/ 2-m_2-ts_0-lab_0-pi_0-ac1_0-ac2\",\"R1 Structs/ac1/ 3-m_0-ts_0-lab_0-pi_1-ac1_0-ac2\",\"R1 Structs/PI/ 3-m_0-ts_0-lab_1-pi_0-ac1_0-ac2\",\"R1 Structs/PI/ 3-m_1-ts_0-lab_1-pi_0-ac1_0-ac2\",\"R1 Structs/lab/ 3-m_1-ts_1-lab_0-pi_0-ac1_0-ac2\",\"R1 Structs/ac2/ 4-m_0-ts_0-lab_0-pi_0-ac1_1-ac2\",\"R1 Structs/PI/ 4-m_0-ts_0-lab_1-pi_0-ac1_0-ac2\",\"R1 Structs/lab/ 4-m_0-ts_1-lab_0-pi_0-ac1_0-ac2\",\"R1 Structs/m/ 5-m_0-ts_0-lab_0-pi_0-ac1_0-ac2\",\"R1 Structs/PI/ 5-m_0-ts_0-lab_1-pi_0-ac1_0-ac2\",\"R1 Structs/lab/ 5-m_0-ts_1-lab_0-pi_0-ac1_0-ac2\",\"R1 Structs/lab/ 6-m_0-ts_1-lab_0-pi_0-ac1_0-ac2\",\"R1 Structs/PI\",\"R1 Structs/ac1\",\"R1 Structs/ac2\",\"R1 Structs/lab\",\"R1 Structs/m\",\"R1 Structs/ts\",\"R1 Structs\"],\"labels\":[\" 0-m_0-ts_1-lab_1-pi_0-ac1_0-ac2\",\" 0-m_0-ts_2-lab_0-pi_0-ac1_0-ac2\",\" 0-m_1-ts_0-lab_0-pi_0-ac1_1-ac2\",\" 0-m_2-ts_0-lab_1-pi_0-ac1_0-ac2\",\" 0-m_2-ts_1-lab_0-pi_0-ac1_0-ac2\",\" 0-m_3-ts_0-lab_0-pi_0-ac1_0-ac2\",\" 1-m_0-ts_0-lab_0-pi_0-ac1_1-ac2\",\" 1-m_0-ts_0-lab_0-pi_1-ac1_0-ac2\",\" 1-m_0-ts_0-lab_1-pi_0-ac1_0-ac2\",\" 1-m_0-ts_1-lab_0-pi_0-ac1_0-ac2\",\" 1-m_0-ts_1-lab_1-pi_0-ac1_0-ac2\",\" 1-m_0-ts_2-lab_0-pi_0-ac1_0-ac2\",\" 1-m_1-ts_0-lab_1-pi_0-ac1_0-ac2\",\" 1-m_1-ts_1-lab_0-pi_0-ac1_0-ac2\",\" 1-m_2-ts_0-lab_0-pi_0-ac1_0-ac2\",\" 1-m_2-ts_1-lab_0-pi_0-ac1_0-ac2\",\" 2-m_0-ts_0-lab_0-pi_0-ac1_1-ac2\",\" 2-m_0-ts_0-lab_0-pi_1-ac1_0-ac2\",\" 2-m_0-ts_0-lab_1-pi_0-ac1_0-ac2\",\" 2-m_0-ts_1-lab_0-pi_0-ac1_0-ac2\",\" 2-m_0-ts_1-lab_1-pi_0-ac1_0-ac2\",\" 2-m_1-ts_0-lab_1-pi_0-ac1_0-ac2\",\" 2-m_1-ts_1-lab_0-pi_0-ac1_0-ac2\",\" 2-m_2-ts_0-lab_0-pi_0-ac1_0-ac2\",\" 3-m_0-ts_0-lab_0-pi_1-ac1_0-ac2\",\" 3-m_0-ts_0-lab_1-pi_0-ac1_0-ac2\",\" 3-m_1-ts_0-lab_1-pi_0-ac1_0-ac2\",\" 3-m_1-ts_1-lab_0-pi_0-ac1_0-ac2\",\" 4-m_0-ts_0-lab_0-pi_0-ac1_1-ac2\",\" 4-m_0-ts_0-lab_1-pi_0-ac1_0-ac2\",\" 4-m_0-ts_1-lab_0-pi_0-ac1_0-ac2\",\" 5-m_0-ts_0-lab_0-pi_0-ac1_0-ac2\",\" 5-m_0-ts_0-lab_1-pi_0-ac1_0-ac2\",\" 5-m_0-ts_1-lab_0-pi_0-ac1_0-ac2\",\" 6-m_0-ts_1-lab_0-pi_0-ac1_0-ac2\",\"PI\",\"ac1\",\"ac2\",\"lab\",\"m\",\"ts\",\"R1 Structs\"],\"marker\":{\"coloraxis\":\"coloraxis\",\"colors\":[141.45454545454547,139.66666666666666,138.0,115.0,127.0,122.0,150.71428571428572,146.50819672131146,127.47058823529412,117.75,134.28571428571428,135.0,135.68992248062017,146.5,151.0,178.0,164.71428571428572,155.37777777777777,141.0808823529412,135.83870967741936,123.0,153.79166666666666,147.98181818181817,130.0,148.57142857142858,136.78222222222223,165.0,145.0,125.0,162.6586345381526,155.875,167.0,168.14285714285714,159.3,211.0,146.4639831580022,151.65189873417722,154.4375,144.75483870967741,167.0,136.8,146.91416585543635]},\"name\":\"\",\"parents\":[\"R1 Structs/PI\",\"R1 Structs/lab\",\"R1 Structs/ac2\",\"R1 Structs/PI\",\"R1 Structs/lab\",\"R1 Structs/ts\",\"R1 Structs/ac2\",\"R1 Structs/ac1\",\"R1 Structs/PI\",\"R1 Structs/lab\",\"R1 Structs/PI\",\"R1 Structs/lab\",\"R1 Structs/PI\",\"R1 Structs/lab\",\"R1 Structs/ts\",\"R1 Structs/lab\",\"R1 Structs/ac2\",\"R1 Structs/ac1\",\"R1 Structs/PI\",\"R1 Structs/lab\",\"R1 Structs/PI\",\"R1 Structs/PI\",\"R1 Structs/lab\",\"R1 Structs/ts\",\"R1 Structs/ac1\",\"R1 Structs/PI\",\"R1 Structs/PI\",\"R1 Structs/lab\",\"R1 Structs/ac2\",\"R1 Structs/PI\",\"R1 Structs/lab\",\"R1 Structs/m\",\"R1 Structs/PI\",\"R1 Structs/lab\",\"R1 Structs/lab\",\"R1 Structs\",\"R1 Structs\",\"R1 Structs\",\"R1 Structs\",\"R1 Structs\",\"R1 Structs\",\"\"],\"values\":[22,3,1,1,1,1,7,61,17,8,14,4,131,30,2,1,7,90,278,31,2,145,55,2,7,227,2,3,1,252,8,1,28,10,1,1119,158,16,155,1,5,1454],\"type\":\"treemap\"}],                        {\"template\":{\"data\":{\"bar\":[{\"error_x\":{\"color\":\"#2a3f5f\"},\"error_y\":{\"color\":\"#2a3f5f\"},\"marker\":{\"line\":{\"color\":\"#E5ECF6\",\"width\":0.5},\"pattern\":{\"fillmode\":\"overlay\",\"size\":10,\"solidity\":0.2}},\"type\":\"bar\"}],\"barpolar\":[{\"marker\":{\"line\":{\"color\":\"#E5ECF6\",\"width\":0.5},\"pattern\":{\"fillmode\":\"overlay\",\"size\":10,\"solidity\":0.2}},\"type\":\"barpolar\"}],\"carpet\":[{\"aaxis\":{\"endlinecolor\":\"#2a3f5f\",\"gridcolor\":\"white\",\"linecolor\":\"white\",\"minorgridcolor\":\"white\",\"startlinecolor\":\"#2a3f5f\"},\"baxis\":{\"endlinecolor\":\"#2a3f5f\",\"gridcolor\":\"white\",\"linecolor\":\"white\",\"minorgridcolor\":\"white\",\"startlinecolor\":\"#2a3f5f\"},\"type\":\"carpet\"}],\"choropleth\":[{\"colorbar\":{\"outlinewidth\":0,\"ticks\":\"\"},\"type\":\"choropleth\"}],\"contour\":[{\"colorbar\":{\"outlinewidth\":0,\"ticks\":\"\"},\"colorscale\":[[0.0,\"#0d0887\"],[0.1111111111111111,\"#46039f\"],[0.2222222222222222,\"#7201a8\"],[0.3333333333333333,\"#9c179e\"],[0.4444444444444444,\"#bd3786\"],[0.5555555555555556,\"#d8576b\"],[0.6666666666666666,\"#ed7953\"],[0.7777777777777778,\"#fb9f3a\"],[0.8888888888888888,\"#fdca26\"],[1.0,\"#f0f921\"]],\"type\":\"contour\"}],\"contourcarpet\":[{\"colorbar\":{\"outlinewidth\":0,\"ticks\":\"\"},\"type\":\"contourcarpet\"}],\"heatmap\":[{\"colorbar\":{\"outlinewidth\":0,\"ticks\":\"\"},\"colorscale\":[[0.0,\"#0d0887\"],[0.1111111111111111,\"#46039f\"],[0.2222222222222222,\"#7201a8\"],[0.3333333333333333,\"#9c179e\"],[0.4444444444444444,\"#bd3786\"],[0.5555555555555556,\"#d8576b\"],[0.6666666666666666,\"#ed7953\"],[0.7777777777777778,\"#fb9f3a\"],[0.8888888888888888,\"#fdca26\"],[1.0,\"#f0f921\"]],\"type\":\"heatmap\"}],\"heatmapgl\":[{\"colorbar\":{\"outlinewidth\":0,\"ticks\":\"\"},\"colorscale\":[[0.0,\"#0d0887\"],[0.1111111111111111,\"#46039f\"],[0.2222222222222222,\"#7201a8\"],[0.3333333333333333,\"#9c179e\"],[0.4444444444444444,\"#bd3786\"],[0.5555555555555556,\"#d8576b\"],[0.6666666666666666,\"#ed7953\"],[0.7777777777777778,\"#fb9f3a\"],[0.8888888888888888,\"#fdca26\"],[1.0,\"#f0f921\"]],\"type\":\"heatmapgl\"}],\"histogram\":[{\"marker\":{\"pattern\":{\"fillmode\":\"overlay\",\"size\":10,\"solidity\":0.2}},\"type\":\"histogram\"}],\"histogram2d\":[{\"colorbar\":{\"outlinewidth\":0,\"ticks\":\"\"},\"colorscale\":[[0.0,\"#0d0887\"],[0.1111111111111111,\"#46039f\"],[0.2222222222222222,\"#7201a8\"],[0.3333333333333333,\"#9c179e\"],[0.4444444444444444,\"#bd3786\"],[0.5555555555555556,\"#d8576b\"],[0.6666666666666666,\"#ed7953\"],[0.7777777777777778,\"#fb9f3a\"],[0.8888888888888888,\"#fdca26\"],[1.0,\"#f0f921\"]],\"type\":\"histogram2d\"}],\"histogram2dcontour\":[{\"colorbar\":{\"outlinewidth\":0,\"ticks\":\"\"},\"colorscale\":[[0.0,\"#0d0887\"],[0.1111111111111111,\"#46039f\"],[0.2222222222222222,\"#7201a8\"],[0.3333333333333333,\"#9c179e\"],[0.4444444444444444,\"#bd3786\"],[0.5555555555555556,\"#d8576b\"],[0.6666666666666666,\"#ed7953\"],[0.7777777777777778,\"#fb9f3a\"],[0.8888888888888888,\"#fdca26\"],[1.0,\"#f0f921\"]],\"type\":\"histogram2dcontour\"}],\"mesh3d\":[{\"colorbar\":{\"outlinewidth\":0,\"ticks\":\"\"},\"type\":\"mesh3d\"}],\"parcoords\":[{\"line\":{\"colorbar\":{\"outlinewidth\":0,\"ticks\":\"\"}},\"type\":\"parcoords\"}],\"pie\":[{\"automargin\":true,\"type\":\"pie\"}],\"scatter\":[{\"marker\":{\"colorbar\":{\"outlinewidth\":0,\"ticks\":\"\"}},\"type\":\"scatter\"}],\"scatter3d\":[{\"line\":{\"colorbar\":{\"outlinewidth\":0,\"ticks\":\"\"}},\"marker\":{\"colorbar\":{\"outlinewidth\":0,\"ticks\":\"\"}},\"type\":\"scatter3d\"}],\"scattercarpet\":[{\"marker\":{\"colorbar\":{\"outlinewidth\":0,\"ticks\":\"\"}},\"type\":\"scattercarpet\"}],\"scattergeo\":[{\"marker\":{\"colorbar\":{\"outlinewidth\":0,\"ticks\":\"\"}},\"type\":\"scattergeo\"}],\"scattergl\":[{\"marker\":{\"colorbar\":{\"outlinewidth\":0,\"ticks\":\"\"}},\"type\":\"scattergl\"}],\"scattermapbox\":[{\"marker\":{\"colorbar\":{\"outlinewidth\":0,\"ticks\":\"\"}},\"type\":\"scattermapbox\"}],\"scatterpolar\":[{\"marker\":{\"colorbar\":{\"outlinewidth\":0,\"ticks\":\"\"}},\"type\":\"scatterpolar\"}],\"scatterpolargl\":[{\"marker\":{\"colorbar\":{\"outlinewidth\":0,\"ticks\":\"\"}},\"type\":\"scatterpolargl\"}],\"scatterternary\":[{\"marker\":{\"colorbar\":{\"outlinewidth\":0,\"ticks\":\"\"}},\"type\":\"scatterternary\"}],\"surface\":[{\"colorbar\":{\"outlinewidth\":0,\"ticks\":\"\"},\"colorscale\":[[0.0,\"#0d0887\"],[0.1111111111111111,\"#46039f\"],[0.2222222222222222,\"#7201a8\"],[0.3333333333333333,\"#9c179e\"],[0.4444444444444444,\"#bd3786\"],[0.5555555555555556,\"#d8576b\"],[0.6666666666666666,\"#ed7953\"],[0.7777777777777778,\"#fb9f3a\"],[0.8888888888888888,\"#fdca26\"],[1.0,\"#f0f921\"]],\"type\":\"surface\"}],\"table\":[{\"cells\":{\"fill\":{\"color\":\"#EBF0F8\"},\"line\":{\"color\":\"white\"}},\"header\":{\"fill\":{\"color\":\"#C8D4E3\"},\"line\":{\"color\":\"white\"}},\"type\":\"table\"}]},\"layout\":{\"annotationdefaults\":{\"arrowcolor\":\"#2a3f5f\",\"arrowhead\":0,\"arrowwidth\":1},\"autotypenumbers\":\"strict\",\"coloraxis\":{\"colorbar\":{\"outlinewidth\":0,\"ticks\":\"\"}},\"colorscale\":{\"diverging\":[[0,\"#8e0152\"],[0.1,\"#c51b7d\"],[0.2,\"#de77ae\"],[0.3,\"#f1b6da\"],[0.4,\"#fde0ef\"],[0.5,\"#f7f7f7\"],[0.6,\"#e6f5d0\"],[0.7,\"#b8e186\"],[0.8,\"#7fbc41\"],[0.9,\"#4d9221\"],[1,\"#276419\"]],\"sequential\":[[0.0,\"#0d0887\"],[0.1111111111111111,\"#46039f\"],[0.2222222222222222,\"#7201a8\"],[0.3333333333333333,\"#9c179e\"],[0.4444444444444444,\"#bd3786\"],[0.5555555555555556,\"#d8576b\"],[0.6666666666666666,\"#ed7953\"],[0.7777777777777778,\"#fb9f3a\"],[0.8888888888888888,\"#fdca26\"],[1.0,\"#f0f921\"]],\"sequentialminus\":[[0.0,\"#0d0887\"],[0.1111111111111111,\"#46039f\"],[0.2222222222222222,\"#7201a8\"],[0.3333333333333333,\"#9c179e\"],[0.4444444444444444,\"#bd3786\"],[0.5555555555555556,\"#d8576b\"],[0.6666666666666666,\"#ed7953\"],[0.7777777777777778,\"#fb9f3a\"],[0.8888888888888888,\"#fdca26\"],[1.0,\"#f0f921\"]]},\"colorway\":[\"#636efa\",\"#EF553B\",\"#00cc96\",\"#ab63fa\",\"#FFA15A\",\"#19d3f3\",\"#FF6692\",\"#B6E880\",\"#FF97FF\",\"#FECB52\"],\"font\":{\"color\":\"#2a3f5f\"},\"geo\":{\"bgcolor\":\"white\",\"lakecolor\":\"white\",\"landcolor\":\"#E5ECF6\",\"showlakes\":true,\"showland\":true,\"subunitcolor\":\"white\"},\"hoverlabel\":{\"align\":\"left\"},\"hovermode\":\"closest\",\"mapbox\":{\"style\":\"light\"},\"paper_bgcolor\":\"white\",\"plot_bgcolor\":\"#E5ECF6\",\"polar\":{\"angularaxis\":{\"gridcolor\":\"white\",\"linecolor\":\"white\",\"ticks\":\"\"},\"bgcolor\":\"#E5ECF6\",\"radialaxis\":{\"gridcolor\":\"white\",\"linecolor\":\"white\",\"ticks\":\"\"}},\"scene\":{\"xaxis\":{\"backgroundcolor\":\"#E5ECF6\",\"gridcolor\":\"white\",\"gridwidth\":2,\"linecolor\":\"white\",\"showbackground\":true,\"ticks\":\"\",\"zerolinecolor\":\"white\"},\"yaxis\":{\"backgroundcolor\":\"#E5ECF6\",\"gridcolor\":\"white\",\"gridwidth\":2,\"linecolor\":\"white\",\"showbackground\":true,\"ticks\":\"\",\"zerolinecolor\":\"white\"},\"zaxis\":{\"backgroundcolor\":\"#E5ECF6\",\"gridcolor\":\"white\",\"gridwidth\":2,\"linecolor\":\"white\",\"showbackground\":true,\"ticks\":\"\",\"zerolinecolor\":\"white\"}},\"shapedefaults\":{\"line\":{\"color\":\"#2a3f5f\"}},\"ternary\":{\"aaxis\":{\"gridcolor\":\"white\",\"linecolor\":\"white\",\"ticks\":\"\"},\"baxis\":{\"gridcolor\":\"white\",\"linecolor\":\"white\",\"ticks\":\"\"},\"bgcolor\":\"#E5ECF6\",\"caxis\":{\"gridcolor\":\"white\",\"linecolor\":\"white\",\"ticks\":\"\"}},\"title\":{\"x\":0.05},\"xaxis\":{\"automargin\":true,\"gridcolor\":\"white\",\"linecolor\":\"white\",\"ticks\":\"\",\"title\":{\"standoff\":15},\"zerolinecolor\":\"white\",\"zerolinewidth\":2},\"yaxis\":{\"automargin\":true,\"gridcolor\":\"white\",\"linecolor\":\"white\",\"ticks\":\"\",\"title\":{\"standoff\":15},\"zerolinecolor\":\"white\",\"zerolinewidth\":2}}},\"coloraxis\":{\"colorbar\":{\"title\":{\"text\":\"ave_score_geodens\"}},\"colorscale\":[[0.0,\"rgb(103,0,31)\"],[0.1,\"rgb(178,24,43)\"],[0.2,\"rgb(214,96,77)\"],[0.3,\"rgb(244,165,130)\"],[0.4,\"rgb(253,219,199)\"],[0.5,\"rgb(247,247,247)\"],[0.6,\"rgb(209,229,240)\"],[0.7,\"rgb(146,197,222)\"],[0.8,\"rgb(67,147,195)\"],[0.9,\"rgb(33,102,172)\"],[1.0,\"rgb(5,48,97)\"]],\"cmid\":148.12743354661777},\"legend\":{\"tracegroupgap\":0},\"margin\":{\"t\":50,\"l\":25,\"r\":25,\"b\":25},\"title\":{\"text\":\"R1 Structures: Frequency and Impact on Score Relative to All Factions Average (148.13): geodens\"}},                        {\"responsive\": true}                    ).then(function(){\n",
       "                            \n",
       "var gd = document.getElementById('2f4af8c6-8713-4608-b313-172950d0b08b');\n",
       "var x = new MutationObserver(function (mutations, observer) {{\n",
       "        var display = window.getComputedStyle(gd).display;\n",
       "        if (!display || display === 'none') {{\n",
       "            console.log([gd, 'removed!']);\n",
       "            Plotly.purge(gd);\n",
       "            observer.disconnect();\n",
       "        }}\n",
       "}});\n",
       "\n",
       "// Listen for the removal of the full notebook cells\n",
       "var notebookContainer = gd.closest('#notebook-container');\n",
       "if (notebookContainer) {{\n",
       "    x.observe(notebookContainer, {childList: true});\n",
       "}}\n",
       "\n",
       "// Listen for the clearing of the current output cell\n",
       "var outputEl = gd.closest('.output');\n",
       "if (outputEl) {{\n",
       "    x.observe(outputEl, {childList: true});\n",
       "}}\n",
       "\n",
       "                        })                };                });            </script>        </div>"
      ]
     },
     "metadata": {},
     "output_type": "display_data"
    },
    {
     "data": {
      "application/vnd.plotly.v1+json": {
       "config": {
        "plotlyServerURL": "https://plot.ly"
       },
       "data": [
        {
         "branchvalues": "total",
         "customdata": [
          [
           183.9189189189189,
           151.47222222222223
          ],
          [
           133,
           132.66666666666666
          ],
          [
           198.925,
           140.5
          ],
          [
           110.5,
           111.16666666666667
          ],
          [
           170.63636363636363,
           133.3181818181818
          ],
          [
           31,
           115
          ],
          [
           243.13333333333333,
           156.5
          ],
          [
           106,
           148
          ],
          [
           68,
           117.33333333333333
          ],
          [
           181.6413043478261,
           141.8131868131868
          ],
          [
           140,
           124
          ],
          [
           128.42857142857142,
           128.71428571428572
          ],
          [
           226.65853658536585,
           144.075
          ],
          [
           120.5,
           119.75
          ],
          [
           213.56424581005587,
           145.3542857142857
          ],
          [
           239,
           141.33333333333334
          ],
          [
           48,
           114
          ],
          [
           186.6153846153846,
           146.75652173913045
          ],
          [
           121,
           164
          ],
          [
           79,
           108
          ],
          [
           152.5,
           127.66666666666667
          ],
          [
           194.8684210526316,
           140.08510638297872
          ],
          [
           74.5,
           110
          ],
          [
           186.33333333333334,
           151.6
          ],
          [
           215,
           124
          ],
          [
           240.96929824561403,
           153.94196428571428
          ],
          [
           103.66666666666667,
           120.33333333333333
          ],
          [
           170,
           145
          ],
          [
           98.33333333333333,
           116.66666666666667
          ],
          [
           258.08988764044943,
           159.48314606741573
          ],
          [
           216.5,
           182
          ],
          [
           29,
           119
          ],
          [
           214.57142857142858,
           179.28571428571428
          ],
          [
           175,
           192.5
          ],
          [
           "(?)",
           114.6
          ],
          [
           "(?)",
           141.22500000000002
          ],
          [
           "(?)",
           125.73333333333333
          ],
          [
           "(?)",
           147.9418118534262
          ],
          [
           "(?)",
           126.6
          ],
          [
           "(?)",
           129.55
          ],
          [
           "(?)",
           146.21932798757774
          ]
         ],
         "domain": {
          "x": [
           0,
           1
          ],
          "y": [
           0,
           1
          ]
         },
         "hovertemplate": "labels=%{label}<br>class_counts=%{value}<br>parent=%{parent}<br>id=%{id}<br>ave_elo_bescods=%{customdata[0]}<br>ave_score_bescods=%{color}<extra></extra>",
         "ids": [
          "R1 Structs/lab/ 0-m_0-ts_2-lab_0-pi_0-ac1_0-ac2",
          "R1 Structs/ac2/ 1-m_0-ts_0-lab_0-pi_0-ac1_1-ac2",
          "R1 Structs/ac1/ 1-m_0-ts_0-lab_0-pi_1-ac1_0-ac2",
          "R1 Structs/PI/ 1-m_0-ts_0-lab_1-pi_0-ac1_0-ac2",
          "R1 Structs/lab/ 1-m_0-ts_1-lab_0-pi_0-ac1_0-ac2",
          "R1 Structs/ac2/ 1-m_0-ts_1-lab_0-pi_0-ac1_1-ac2",
          "R1 Structs/lab/ 1-m_0-ts_2-lab_0-pi_0-ac1_0-ac2",
          "R1 Structs/ac2/ 1-m_1-ts_0-lab_0-pi_0-ac1_1-ac2",
          "R1 Structs/ac1/ 1-m_1-ts_0-lab_0-pi_1-ac1_0-ac2",
          "R1 Structs/lab/ 1-m_1-ts_1-lab_0-pi_0-ac1_0-ac2",
          "R1 Structs/lab/ 1-m_2-ts_1-lab_0-pi_0-ac1_0-ac2",
          "R1 Structs/ac2/ 2-m_0-ts_0-lab_0-pi_0-ac1_1-ac2",
          "R1 Structs/ac1/ 2-m_0-ts_0-lab_0-pi_1-ac1_0-ac2",
          "R1 Structs/PI/ 2-m_0-ts_0-lab_1-pi_0-ac1_0-ac2",
          "R1 Structs/lab/ 2-m_0-ts_1-lab_0-pi_0-ac1_0-ac2",
          "R1 Structs/lab/ 2-m_0-ts_2-lab_0-pi_0-ac1_0-ac2",
          "R1 Structs/ts/ 2-m_1-ts_0-lab_0-pi_0-ac1_0-ac2",
          "R1 Structs/lab/ 2-m_1-ts_1-lab_0-pi_0-ac1_0-ac2",
          "R1 Structs/m/ 3-m_0-ts_0-lab_0-pi_0-ac1_0-ac2",
          "R1 Structs/ac2/ 3-m_0-ts_0-lab_0-pi_0-ac1_1-ac2",
          "R1 Structs/ac1/ 3-m_0-ts_0-lab_0-pi_1-ac1_0-ac2",
          "R1 Structs/lab/ 3-m_0-ts_1-lab_0-pi_0-ac1_0-ac2",
          "R1 Structs/ts/ 3-m_1-ts_0-lab_0-pi_0-ac1_0-ac2",
          "R1 Structs/lab/ 3-m_1-ts_1-lab_0-pi_0-ac1_0-ac2",
          "R1 Structs/ac1/ 4-m_0-ts_0-lab_0-pi_1-ac1_0-ac2",
          "R1 Structs/lab/ 4-m_0-ts_1-lab_0-pi_0-ac1_0-ac2",
          "R1 Structs/ts/ 4-m_1-ts_0-lab_0-pi_0-ac1_0-ac2",
          "R1 Structs/ts/ 4-m_2-ts_0-lab_0-pi_0-ac1_0-ac2",
          "R1 Structs/m/ 5-m_0-ts_0-lab_0-pi_0-ac1_0-ac2",
          "R1 Structs/lab/ 5-m_0-ts_1-lab_0-pi_0-ac1_0-ac2",
          "R1 Structs/ts/ 5-m_1-ts_0-lab_0-pi_0-ac1_0-ac2",
          "R1 Structs/m/ 6-m_0-ts_0-lab_0-pi_0-ac1_0-ac2",
          "R1 Structs/lab/ 6-m_0-ts_1-lab_0-pi_0-ac1_0-ac2",
          "R1 Structs/ts/ 6-m_1-ts_0-lab_0-pi_0-ac1_0-ac2",
          "R1 Structs/PI",
          "R1 Structs/ac1",
          "R1 Structs/ac2",
          "R1 Structs/lab",
          "R1 Structs/m",
          "R1 Structs/ts",
          "R1 Structs"
         ],
         "labels": [
          " 0-m_0-ts_2-lab_0-pi_0-ac1_0-ac2",
          " 1-m_0-ts_0-lab_0-pi_0-ac1_1-ac2",
          " 1-m_0-ts_0-lab_0-pi_1-ac1_0-ac2",
          " 1-m_0-ts_0-lab_1-pi_0-ac1_0-ac2",
          " 1-m_0-ts_1-lab_0-pi_0-ac1_0-ac2",
          " 1-m_0-ts_1-lab_0-pi_0-ac1_1-ac2",
          " 1-m_0-ts_2-lab_0-pi_0-ac1_0-ac2",
          " 1-m_1-ts_0-lab_0-pi_0-ac1_1-ac2",
          " 1-m_1-ts_0-lab_0-pi_1-ac1_0-ac2",
          " 1-m_1-ts_1-lab_0-pi_0-ac1_0-ac2",
          " 1-m_2-ts_1-lab_0-pi_0-ac1_0-ac2",
          " 2-m_0-ts_0-lab_0-pi_0-ac1_1-ac2",
          " 2-m_0-ts_0-lab_0-pi_1-ac1_0-ac2",
          " 2-m_0-ts_0-lab_1-pi_0-ac1_0-ac2",
          " 2-m_0-ts_1-lab_0-pi_0-ac1_0-ac2",
          " 2-m_0-ts_2-lab_0-pi_0-ac1_0-ac2",
          " 2-m_1-ts_0-lab_0-pi_0-ac1_0-ac2",
          " 2-m_1-ts_1-lab_0-pi_0-ac1_0-ac2",
          " 3-m_0-ts_0-lab_0-pi_0-ac1_0-ac2",
          " 3-m_0-ts_0-lab_0-pi_0-ac1_1-ac2",
          " 3-m_0-ts_0-lab_0-pi_1-ac1_0-ac2",
          " 3-m_0-ts_1-lab_0-pi_0-ac1_0-ac2",
          " 3-m_1-ts_0-lab_0-pi_0-ac1_0-ac2",
          " 3-m_1-ts_1-lab_0-pi_0-ac1_0-ac2",
          " 4-m_0-ts_0-lab_0-pi_1-ac1_0-ac2",
          " 4-m_0-ts_1-lab_0-pi_0-ac1_0-ac2",
          " 4-m_1-ts_0-lab_0-pi_0-ac1_0-ac2",
          " 4-m_2-ts_0-lab_0-pi_0-ac1_0-ac2",
          " 5-m_0-ts_0-lab_0-pi_0-ac1_0-ac2",
          " 5-m_0-ts_1-lab_0-pi_0-ac1_0-ac2",
          " 5-m_1-ts_0-lab_0-pi_0-ac1_0-ac2",
          " 6-m_0-ts_0-lab_0-pi_0-ac1_0-ac2",
          " 6-m_0-ts_1-lab_0-pi_0-ac1_0-ac2",
          " 6-m_1-ts_0-lab_0-pi_0-ac1_0-ac2",
          "PI",
          "ac1",
          "ac2",
          "lab",
          "m",
          "ts",
          "R1 Structs"
         ],
         "marker": {
          "coloraxis": "coloraxis",
          "colors": [
           151.47222222222223,
           132.66666666666666,
           140.5,
           111.16666666666667,
           133.3181818181818,
           115,
           156.5,
           148,
           117.33333333333333,
           141.8131868131868,
           124,
           128.71428571428572,
           144.075,
           119.75,
           145.3542857142857,
           141.33333333333334,
           114,
           146.75652173913045,
           164,
           108,
           127.66666666666667,
           140.08510638297872,
           110,
           151.6,
           124,
           153.94196428571428,
           120.33333333333333,
           145,
           116.66666666666667,
           159.48314606741573,
           182,
           119,
           179.28571428571428,
           192.5,
           114.6,
           141.22500000000002,
           125.73333333333333,
           147.9418118534262,
           126.6,
           129.55,
           146.21932798757774
          ]
         },
         "name": "",
         "parents": [
          "R1 Structs/lab",
          "R1 Structs/ac2",
          "R1 Structs/ac1",
          "R1 Structs/PI",
          "R1 Structs/lab",
          "R1 Structs/ac2",
          "R1 Structs/lab",
          "R1 Structs/ac2",
          "R1 Structs/ac1",
          "R1 Structs/lab",
          "R1 Structs/lab",
          "R1 Structs/ac2",
          "R1 Structs/ac1",
          "R1 Structs/PI",
          "R1 Structs/lab",
          "R1 Structs/lab",
          "R1 Structs/ts",
          "R1 Structs/lab",
          "R1 Structs/m",
          "R1 Structs/ac2",
          "R1 Structs/ac1",
          "R1 Structs/lab",
          "R1 Structs/ts",
          "R1 Structs/lab",
          "R1 Structs/ac1",
          "R1 Structs/lab",
          "R1 Structs/ts",
          "R1 Structs/ts",
          "R1 Structs/m",
          "R1 Structs/lab",
          "R1 Structs/ts",
          "R1 Structs/m",
          "R1 Structs/lab",
          "R1 Structs/ts",
          "R1 Structs",
          "R1 Structs",
          "R1 Structs",
          "R1 Structs",
          "R1 Structs",
          "R1 Structs",
          ""
         ],
         "type": "treemap",
         "values": [
          37,
          3,
          40,
          6,
          22,
          1,
          30,
          1,
          3,
          92,
          1,
          7,
          82,
          4,
          179,
          3,
          4,
          117,
          1,
          3,
          6,
          190,
          8,
          6,
          3,
          228,
          3,
          1,
          3,
          89,
          2,
          1,
          7,
          2,
          10,
          134,
          15,
          1001,
          5,
          20,
          1185
         ]
        }
       ],
       "layout": {
        "coloraxis": {
         "cmid": 148.12743354661777,
         "colorbar": {
          "title": {
           "text": "ave_score_bescods"
          }
         },
         "colorscale": [
          [
           0,
           "rgb(103,0,31)"
          ],
          [
           0.1,
           "rgb(178,24,43)"
          ],
          [
           0.2,
           "rgb(214,96,77)"
          ],
          [
           0.3,
           "rgb(244,165,130)"
          ],
          [
           0.4,
           "rgb(253,219,199)"
          ],
          [
           0.5,
           "rgb(247,247,247)"
          ],
          [
           0.6,
           "rgb(209,229,240)"
          ],
          [
           0.7,
           "rgb(146,197,222)"
          ],
          [
           0.8,
           "rgb(67,147,195)"
          ],
          [
           0.9,
           "rgb(33,102,172)"
          ],
          [
           1,
           "rgb(5,48,97)"
          ]
         ]
        },
        "legend": {
         "tracegroupgap": 0
        },
        "margin": {
         "b": 25,
         "l": 25,
         "r": 25,
         "t": 50
        },
        "template": {
         "data": {
          "bar": [
           {
            "error_x": {
             "color": "#2a3f5f"
            },
            "error_y": {
             "color": "#2a3f5f"
            },
            "marker": {
             "line": {
              "color": "#E5ECF6",
              "width": 0.5
             },
             "pattern": {
              "fillmode": "overlay",
              "size": 10,
              "solidity": 0.2
             }
            },
            "type": "bar"
           }
          ],
          "barpolar": [
           {
            "marker": {
             "line": {
              "color": "#E5ECF6",
              "width": 0.5
             },
             "pattern": {
              "fillmode": "overlay",
              "size": 10,
              "solidity": 0.2
             }
            },
            "type": "barpolar"
           }
          ],
          "carpet": [
           {
            "aaxis": {
             "endlinecolor": "#2a3f5f",
             "gridcolor": "white",
             "linecolor": "white",
             "minorgridcolor": "white",
             "startlinecolor": "#2a3f5f"
            },
            "baxis": {
             "endlinecolor": "#2a3f5f",
             "gridcolor": "white",
             "linecolor": "white",
             "minorgridcolor": "white",
             "startlinecolor": "#2a3f5f"
            },
            "type": "carpet"
           }
          ],
          "choropleth": [
           {
            "colorbar": {
             "outlinewidth": 0,
             "ticks": ""
            },
            "type": "choropleth"
           }
          ],
          "contour": [
           {
            "colorbar": {
             "outlinewidth": 0,
             "ticks": ""
            },
            "colorscale": [
             [
              0,
              "#0d0887"
             ],
             [
              0.1111111111111111,
              "#46039f"
             ],
             [
              0.2222222222222222,
              "#7201a8"
             ],
             [
              0.3333333333333333,
              "#9c179e"
             ],
             [
              0.4444444444444444,
              "#bd3786"
             ],
             [
              0.5555555555555556,
              "#d8576b"
             ],
             [
              0.6666666666666666,
              "#ed7953"
             ],
             [
              0.7777777777777778,
              "#fb9f3a"
             ],
             [
              0.8888888888888888,
              "#fdca26"
             ],
             [
              1,
              "#f0f921"
             ]
            ],
            "type": "contour"
           }
          ],
          "contourcarpet": [
           {
            "colorbar": {
             "outlinewidth": 0,
             "ticks": ""
            },
            "type": "contourcarpet"
           }
          ],
          "heatmap": [
           {
            "colorbar": {
             "outlinewidth": 0,
             "ticks": ""
            },
            "colorscale": [
             [
              0,
              "#0d0887"
             ],
             [
              0.1111111111111111,
              "#46039f"
             ],
             [
              0.2222222222222222,
              "#7201a8"
             ],
             [
              0.3333333333333333,
              "#9c179e"
             ],
             [
              0.4444444444444444,
              "#bd3786"
             ],
             [
              0.5555555555555556,
              "#d8576b"
             ],
             [
              0.6666666666666666,
              "#ed7953"
             ],
             [
              0.7777777777777778,
              "#fb9f3a"
             ],
             [
              0.8888888888888888,
              "#fdca26"
             ],
             [
              1,
              "#f0f921"
             ]
            ],
            "type": "heatmap"
           }
          ],
          "heatmapgl": [
           {
            "colorbar": {
             "outlinewidth": 0,
             "ticks": ""
            },
            "colorscale": [
             [
              0,
              "#0d0887"
             ],
             [
              0.1111111111111111,
              "#46039f"
             ],
             [
              0.2222222222222222,
              "#7201a8"
             ],
             [
              0.3333333333333333,
              "#9c179e"
             ],
             [
              0.4444444444444444,
              "#bd3786"
             ],
             [
              0.5555555555555556,
              "#d8576b"
             ],
             [
              0.6666666666666666,
              "#ed7953"
             ],
             [
              0.7777777777777778,
              "#fb9f3a"
             ],
             [
              0.8888888888888888,
              "#fdca26"
             ],
             [
              1,
              "#f0f921"
             ]
            ],
            "type": "heatmapgl"
           }
          ],
          "histogram": [
           {
            "marker": {
             "pattern": {
              "fillmode": "overlay",
              "size": 10,
              "solidity": 0.2
             }
            },
            "type": "histogram"
           }
          ],
          "histogram2d": [
           {
            "colorbar": {
             "outlinewidth": 0,
             "ticks": ""
            },
            "colorscale": [
             [
              0,
              "#0d0887"
             ],
             [
              0.1111111111111111,
              "#46039f"
             ],
             [
              0.2222222222222222,
              "#7201a8"
             ],
             [
              0.3333333333333333,
              "#9c179e"
             ],
             [
              0.4444444444444444,
              "#bd3786"
             ],
             [
              0.5555555555555556,
              "#d8576b"
             ],
             [
              0.6666666666666666,
              "#ed7953"
             ],
             [
              0.7777777777777778,
              "#fb9f3a"
             ],
             [
              0.8888888888888888,
              "#fdca26"
             ],
             [
              1,
              "#f0f921"
             ]
            ],
            "type": "histogram2d"
           }
          ],
          "histogram2dcontour": [
           {
            "colorbar": {
             "outlinewidth": 0,
             "ticks": ""
            },
            "colorscale": [
             [
              0,
              "#0d0887"
             ],
             [
              0.1111111111111111,
              "#46039f"
             ],
             [
              0.2222222222222222,
              "#7201a8"
             ],
             [
              0.3333333333333333,
              "#9c179e"
             ],
             [
              0.4444444444444444,
              "#bd3786"
             ],
             [
              0.5555555555555556,
              "#d8576b"
             ],
             [
              0.6666666666666666,
              "#ed7953"
             ],
             [
              0.7777777777777778,
              "#fb9f3a"
             ],
             [
              0.8888888888888888,
              "#fdca26"
             ],
             [
              1,
              "#f0f921"
             ]
            ],
            "type": "histogram2dcontour"
           }
          ],
          "mesh3d": [
           {
            "colorbar": {
             "outlinewidth": 0,
             "ticks": ""
            },
            "type": "mesh3d"
           }
          ],
          "parcoords": [
           {
            "line": {
             "colorbar": {
              "outlinewidth": 0,
              "ticks": ""
             }
            },
            "type": "parcoords"
           }
          ],
          "pie": [
           {
            "automargin": true,
            "type": "pie"
           }
          ],
          "scatter": [
           {
            "marker": {
             "colorbar": {
              "outlinewidth": 0,
              "ticks": ""
             }
            },
            "type": "scatter"
           }
          ],
          "scatter3d": [
           {
            "line": {
             "colorbar": {
              "outlinewidth": 0,
              "ticks": ""
             }
            },
            "marker": {
             "colorbar": {
              "outlinewidth": 0,
              "ticks": ""
             }
            },
            "type": "scatter3d"
           }
          ],
          "scattercarpet": [
           {
            "marker": {
             "colorbar": {
              "outlinewidth": 0,
              "ticks": ""
             }
            },
            "type": "scattercarpet"
           }
          ],
          "scattergeo": [
           {
            "marker": {
             "colorbar": {
              "outlinewidth": 0,
              "ticks": ""
             }
            },
            "type": "scattergeo"
           }
          ],
          "scattergl": [
           {
            "marker": {
             "colorbar": {
              "outlinewidth": 0,
              "ticks": ""
             }
            },
            "type": "scattergl"
           }
          ],
          "scattermapbox": [
           {
            "marker": {
             "colorbar": {
              "outlinewidth": 0,
              "ticks": ""
             }
            },
            "type": "scattermapbox"
           }
          ],
          "scatterpolar": [
           {
            "marker": {
             "colorbar": {
              "outlinewidth": 0,
              "ticks": ""
             }
            },
            "type": "scatterpolar"
           }
          ],
          "scatterpolargl": [
           {
            "marker": {
             "colorbar": {
              "outlinewidth": 0,
              "ticks": ""
             }
            },
            "type": "scatterpolargl"
           }
          ],
          "scatterternary": [
           {
            "marker": {
             "colorbar": {
              "outlinewidth": 0,
              "ticks": ""
             }
            },
            "type": "scatterternary"
           }
          ],
          "surface": [
           {
            "colorbar": {
             "outlinewidth": 0,
             "ticks": ""
            },
            "colorscale": [
             [
              0,
              "#0d0887"
             ],
             [
              0.1111111111111111,
              "#46039f"
             ],
             [
              0.2222222222222222,
              "#7201a8"
             ],
             [
              0.3333333333333333,
              "#9c179e"
             ],
             [
              0.4444444444444444,
              "#bd3786"
             ],
             [
              0.5555555555555556,
              "#d8576b"
             ],
             [
              0.6666666666666666,
              "#ed7953"
             ],
             [
              0.7777777777777778,
              "#fb9f3a"
             ],
             [
              0.8888888888888888,
              "#fdca26"
             ],
             [
              1,
              "#f0f921"
             ]
            ],
            "type": "surface"
           }
          ],
          "table": [
           {
            "cells": {
             "fill": {
              "color": "#EBF0F8"
             },
             "line": {
              "color": "white"
             }
            },
            "header": {
             "fill": {
              "color": "#C8D4E3"
             },
             "line": {
              "color": "white"
             }
            },
            "type": "table"
           }
          ]
         },
         "layout": {
          "annotationdefaults": {
           "arrowcolor": "#2a3f5f",
           "arrowhead": 0,
           "arrowwidth": 1
          },
          "autotypenumbers": "strict",
          "coloraxis": {
           "colorbar": {
            "outlinewidth": 0,
            "ticks": ""
           }
          },
          "colorscale": {
           "diverging": [
            [
             0,
             "#8e0152"
            ],
            [
             0.1,
             "#c51b7d"
            ],
            [
             0.2,
             "#de77ae"
            ],
            [
             0.3,
             "#f1b6da"
            ],
            [
             0.4,
             "#fde0ef"
            ],
            [
             0.5,
             "#f7f7f7"
            ],
            [
             0.6,
             "#e6f5d0"
            ],
            [
             0.7,
             "#b8e186"
            ],
            [
             0.8,
             "#7fbc41"
            ],
            [
             0.9,
             "#4d9221"
            ],
            [
             1,
             "#276419"
            ]
           ],
           "sequential": [
            [
             0,
             "#0d0887"
            ],
            [
             0.1111111111111111,
             "#46039f"
            ],
            [
             0.2222222222222222,
             "#7201a8"
            ],
            [
             0.3333333333333333,
             "#9c179e"
            ],
            [
             0.4444444444444444,
             "#bd3786"
            ],
            [
             0.5555555555555556,
             "#d8576b"
            ],
            [
             0.6666666666666666,
             "#ed7953"
            ],
            [
             0.7777777777777778,
             "#fb9f3a"
            ],
            [
             0.8888888888888888,
             "#fdca26"
            ],
            [
             1,
             "#f0f921"
            ]
           ],
           "sequentialminus": [
            [
             0,
             "#0d0887"
            ],
            [
             0.1111111111111111,
             "#46039f"
            ],
            [
             0.2222222222222222,
             "#7201a8"
            ],
            [
             0.3333333333333333,
             "#9c179e"
            ],
            [
             0.4444444444444444,
             "#bd3786"
            ],
            [
             0.5555555555555556,
             "#d8576b"
            ],
            [
             0.6666666666666666,
             "#ed7953"
            ],
            [
             0.7777777777777778,
             "#fb9f3a"
            ],
            [
             0.8888888888888888,
             "#fdca26"
            ],
            [
             1,
             "#f0f921"
            ]
           ]
          },
          "colorway": [
           "#636efa",
           "#EF553B",
           "#00cc96",
           "#ab63fa",
           "#FFA15A",
           "#19d3f3",
           "#FF6692",
           "#B6E880",
           "#FF97FF",
           "#FECB52"
          ],
          "font": {
           "color": "#2a3f5f"
          },
          "geo": {
           "bgcolor": "white",
           "lakecolor": "white",
           "landcolor": "#E5ECF6",
           "showlakes": true,
           "showland": true,
           "subunitcolor": "white"
          },
          "hoverlabel": {
           "align": "left"
          },
          "hovermode": "closest",
          "mapbox": {
           "style": "light"
          },
          "paper_bgcolor": "white",
          "plot_bgcolor": "#E5ECF6",
          "polar": {
           "angularaxis": {
            "gridcolor": "white",
            "linecolor": "white",
            "ticks": ""
           },
           "bgcolor": "#E5ECF6",
           "radialaxis": {
            "gridcolor": "white",
            "linecolor": "white",
            "ticks": ""
           }
          },
          "scene": {
           "xaxis": {
            "backgroundcolor": "#E5ECF6",
            "gridcolor": "white",
            "gridwidth": 2,
            "linecolor": "white",
            "showbackground": true,
            "ticks": "",
            "zerolinecolor": "white"
           },
           "yaxis": {
            "backgroundcolor": "#E5ECF6",
            "gridcolor": "white",
            "gridwidth": 2,
            "linecolor": "white",
            "showbackground": true,
            "ticks": "",
            "zerolinecolor": "white"
           },
           "zaxis": {
            "backgroundcolor": "#E5ECF6",
            "gridcolor": "white",
            "gridwidth": 2,
            "linecolor": "white",
            "showbackground": true,
            "ticks": "",
            "zerolinecolor": "white"
           }
          },
          "shapedefaults": {
           "line": {
            "color": "#2a3f5f"
           }
          },
          "ternary": {
           "aaxis": {
            "gridcolor": "white",
            "linecolor": "white",
            "ticks": ""
           },
           "baxis": {
            "gridcolor": "white",
            "linecolor": "white",
            "ticks": ""
           },
           "bgcolor": "#E5ECF6",
           "caxis": {
            "gridcolor": "white",
            "linecolor": "white",
            "ticks": ""
           }
          },
          "title": {
           "x": 0.05
          },
          "xaxis": {
           "automargin": true,
           "gridcolor": "white",
           "linecolor": "white",
           "ticks": "",
           "title": {
            "standoff": 15
           },
           "zerolinecolor": "white",
           "zerolinewidth": 2
          },
          "yaxis": {
           "automargin": true,
           "gridcolor": "white",
           "linecolor": "white",
           "ticks": "",
           "title": {
            "standoff": 15
           },
           "zerolinecolor": "white",
           "zerolinewidth": 2
          }
         }
        },
        "title": {
         "text": "R1 Structures: Frequency and Impact on Score Relative to All Factions Average (148.13): bescods"
        }
       }
      },
      "text/html": [
       "<div>                            <div id=\"efc6cb9d-cea4-4a66-9160-ca30d07176f7\" class=\"plotly-graph-div\" style=\"height:525px; width:100%;\"></div>            <script type=\"text/javascript\">                require([\"plotly\"], function(Plotly) {                    window.PLOTLYENV=window.PLOTLYENV || {};                                    if (document.getElementById(\"efc6cb9d-cea4-4a66-9160-ca30d07176f7\")) {                    Plotly.newPlot(                        \"efc6cb9d-cea4-4a66-9160-ca30d07176f7\",                        [{\"branchvalues\":\"total\",\"customdata\":[[183.9189189189189,151.47222222222223],[133.0,132.66666666666666],[198.925,140.5],[110.5,111.16666666666667],[170.63636363636363,133.3181818181818],[31.0,115.0],[243.13333333333333,156.5],[106.0,148.0],[68.0,117.33333333333333],[181.6413043478261,141.8131868131868],[140.0,124.0],[128.42857142857142,128.71428571428572],[226.65853658536585,144.075],[120.5,119.75],[213.56424581005587,145.3542857142857],[239.0,141.33333333333334],[48.0,114.0],[186.6153846153846,146.75652173913045],[121.0,164.0],[79.0,108.0],[152.5,127.66666666666667],[194.8684210526316,140.08510638297872],[74.5,110.0],[186.33333333333334,151.6],[215.0,124.0],[240.96929824561403,153.94196428571428],[103.66666666666667,120.33333333333333],[170.0,145.0],[98.33333333333333,116.66666666666667],[258.08988764044943,159.48314606741573],[216.5,182.0],[29.0,119.0],[214.57142857142858,179.28571428571428],[175.0,192.5],[\"(?)\",114.6],[\"(?)\",141.22500000000002],[\"(?)\",125.73333333333333],[\"(?)\",147.9418118534262],[\"(?)\",126.6],[\"(?)\",129.55],[\"(?)\",146.21932798757774]],\"domain\":{\"x\":[0.0,1.0],\"y\":[0.0,1.0]},\"hovertemplate\":\"labels=%{label}<br>class_counts=%{value}<br>parent=%{parent}<br>id=%{id}<br>ave_elo_bescods=%{customdata[0]}<br>ave_score_bescods=%{color}<extra></extra>\",\"ids\":[\"R1 Structs/lab/ 0-m_0-ts_2-lab_0-pi_0-ac1_0-ac2\",\"R1 Structs/ac2/ 1-m_0-ts_0-lab_0-pi_0-ac1_1-ac2\",\"R1 Structs/ac1/ 1-m_0-ts_0-lab_0-pi_1-ac1_0-ac2\",\"R1 Structs/PI/ 1-m_0-ts_0-lab_1-pi_0-ac1_0-ac2\",\"R1 Structs/lab/ 1-m_0-ts_1-lab_0-pi_0-ac1_0-ac2\",\"R1 Structs/ac2/ 1-m_0-ts_1-lab_0-pi_0-ac1_1-ac2\",\"R1 Structs/lab/ 1-m_0-ts_2-lab_0-pi_0-ac1_0-ac2\",\"R1 Structs/ac2/ 1-m_1-ts_0-lab_0-pi_0-ac1_1-ac2\",\"R1 Structs/ac1/ 1-m_1-ts_0-lab_0-pi_1-ac1_0-ac2\",\"R1 Structs/lab/ 1-m_1-ts_1-lab_0-pi_0-ac1_0-ac2\",\"R1 Structs/lab/ 1-m_2-ts_1-lab_0-pi_0-ac1_0-ac2\",\"R1 Structs/ac2/ 2-m_0-ts_0-lab_0-pi_0-ac1_1-ac2\",\"R1 Structs/ac1/ 2-m_0-ts_0-lab_0-pi_1-ac1_0-ac2\",\"R1 Structs/PI/ 2-m_0-ts_0-lab_1-pi_0-ac1_0-ac2\",\"R1 Structs/lab/ 2-m_0-ts_1-lab_0-pi_0-ac1_0-ac2\",\"R1 Structs/lab/ 2-m_0-ts_2-lab_0-pi_0-ac1_0-ac2\",\"R1 Structs/ts/ 2-m_1-ts_0-lab_0-pi_0-ac1_0-ac2\",\"R1 Structs/lab/ 2-m_1-ts_1-lab_0-pi_0-ac1_0-ac2\",\"R1 Structs/m/ 3-m_0-ts_0-lab_0-pi_0-ac1_0-ac2\",\"R1 Structs/ac2/ 3-m_0-ts_0-lab_0-pi_0-ac1_1-ac2\",\"R1 Structs/ac1/ 3-m_0-ts_0-lab_0-pi_1-ac1_0-ac2\",\"R1 Structs/lab/ 3-m_0-ts_1-lab_0-pi_0-ac1_0-ac2\",\"R1 Structs/ts/ 3-m_1-ts_0-lab_0-pi_0-ac1_0-ac2\",\"R1 Structs/lab/ 3-m_1-ts_1-lab_0-pi_0-ac1_0-ac2\",\"R1 Structs/ac1/ 4-m_0-ts_0-lab_0-pi_1-ac1_0-ac2\",\"R1 Structs/lab/ 4-m_0-ts_1-lab_0-pi_0-ac1_0-ac2\",\"R1 Structs/ts/ 4-m_1-ts_0-lab_0-pi_0-ac1_0-ac2\",\"R1 Structs/ts/ 4-m_2-ts_0-lab_0-pi_0-ac1_0-ac2\",\"R1 Structs/m/ 5-m_0-ts_0-lab_0-pi_0-ac1_0-ac2\",\"R1 Structs/lab/ 5-m_0-ts_1-lab_0-pi_0-ac1_0-ac2\",\"R1 Structs/ts/ 5-m_1-ts_0-lab_0-pi_0-ac1_0-ac2\",\"R1 Structs/m/ 6-m_0-ts_0-lab_0-pi_0-ac1_0-ac2\",\"R1 Structs/lab/ 6-m_0-ts_1-lab_0-pi_0-ac1_0-ac2\",\"R1 Structs/ts/ 6-m_1-ts_0-lab_0-pi_0-ac1_0-ac2\",\"R1 Structs/PI\",\"R1 Structs/ac1\",\"R1 Structs/ac2\",\"R1 Structs/lab\",\"R1 Structs/m\",\"R1 Structs/ts\",\"R1 Structs\"],\"labels\":[\" 0-m_0-ts_2-lab_0-pi_0-ac1_0-ac2\",\" 1-m_0-ts_0-lab_0-pi_0-ac1_1-ac2\",\" 1-m_0-ts_0-lab_0-pi_1-ac1_0-ac2\",\" 1-m_0-ts_0-lab_1-pi_0-ac1_0-ac2\",\" 1-m_0-ts_1-lab_0-pi_0-ac1_0-ac2\",\" 1-m_0-ts_1-lab_0-pi_0-ac1_1-ac2\",\" 1-m_0-ts_2-lab_0-pi_0-ac1_0-ac2\",\" 1-m_1-ts_0-lab_0-pi_0-ac1_1-ac2\",\" 1-m_1-ts_0-lab_0-pi_1-ac1_0-ac2\",\" 1-m_1-ts_1-lab_0-pi_0-ac1_0-ac2\",\" 1-m_2-ts_1-lab_0-pi_0-ac1_0-ac2\",\" 2-m_0-ts_0-lab_0-pi_0-ac1_1-ac2\",\" 2-m_0-ts_0-lab_0-pi_1-ac1_0-ac2\",\" 2-m_0-ts_0-lab_1-pi_0-ac1_0-ac2\",\" 2-m_0-ts_1-lab_0-pi_0-ac1_0-ac2\",\" 2-m_0-ts_2-lab_0-pi_0-ac1_0-ac2\",\" 2-m_1-ts_0-lab_0-pi_0-ac1_0-ac2\",\" 2-m_1-ts_1-lab_0-pi_0-ac1_0-ac2\",\" 3-m_0-ts_0-lab_0-pi_0-ac1_0-ac2\",\" 3-m_0-ts_0-lab_0-pi_0-ac1_1-ac2\",\" 3-m_0-ts_0-lab_0-pi_1-ac1_0-ac2\",\" 3-m_0-ts_1-lab_0-pi_0-ac1_0-ac2\",\" 3-m_1-ts_0-lab_0-pi_0-ac1_0-ac2\",\" 3-m_1-ts_1-lab_0-pi_0-ac1_0-ac2\",\" 4-m_0-ts_0-lab_0-pi_1-ac1_0-ac2\",\" 4-m_0-ts_1-lab_0-pi_0-ac1_0-ac2\",\" 4-m_1-ts_0-lab_0-pi_0-ac1_0-ac2\",\" 4-m_2-ts_0-lab_0-pi_0-ac1_0-ac2\",\" 5-m_0-ts_0-lab_0-pi_0-ac1_0-ac2\",\" 5-m_0-ts_1-lab_0-pi_0-ac1_0-ac2\",\" 5-m_1-ts_0-lab_0-pi_0-ac1_0-ac2\",\" 6-m_0-ts_0-lab_0-pi_0-ac1_0-ac2\",\" 6-m_0-ts_1-lab_0-pi_0-ac1_0-ac2\",\" 6-m_1-ts_0-lab_0-pi_0-ac1_0-ac2\",\"PI\",\"ac1\",\"ac2\",\"lab\",\"m\",\"ts\",\"R1 Structs\"],\"marker\":{\"coloraxis\":\"coloraxis\",\"colors\":[151.47222222222223,132.66666666666666,140.5,111.16666666666667,133.3181818181818,115.0,156.5,148.0,117.33333333333333,141.8131868131868,124.0,128.71428571428572,144.075,119.75,145.3542857142857,141.33333333333334,114.0,146.75652173913045,164.0,108.0,127.66666666666667,140.08510638297872,110.0,151.6,124.0,153.94196428571428,120.33333333333333,145.0,116.66666666666667,159.48314606741573,182.0,119.0,179.28571428571428,192.5,114.6,141.22500000000002,125.73333333333333,147.9418118534262,126.6,129.55,146.21932798757774]},\"name\":\"\",\"parents\":[\"R1 Structs/lab\",\"R1 Structs/ac2\",\"R1 Structs/ac1\",\"R1 Structs/PI\",\"R1 Structs/lab\",\"R1 Structs/ac2\",\"R1 Structs/lab\",\"R1 Structs/ac2\",\"R1 Structs/ac1\",\"R1 Structs/lab\",\"R1 Structs/lab\",\"R1 Structs/ac2\",\"R1 Structs/ac1\",\"R1 Structs/PI\",\"R1 Structs/lab\",\"R1 Structs/lab\",\"R1 Structs/ts\",\"R1 Structs/lab\",\"R1 Structs/m\",\"R1 Structs/ac2\",\"R1 Structs/ac1\",\"R1 Structs/lab\",\"R1 Structs/ts\",\"R1 Structs/lab\",\"R1 Structs/ac1\",\"R1 Structs/lab\",\"R1 Structs/ts\",\"R1 Structs/ts\",\"R1 Structs/m\",\"R1 Structs/lab\",\"R1 Structs/ts\",\"R1 Structs/m\",\"R1 Structs/lab\",\"R1 Structs/ts\",\"R1 Structs\",\"R1 Structs\",\"R1 Structs\",\"R1 Structs\",\"R1 Structs\",\"R1 Structs\",\"\"],\"values\":[37,3,40,6,22,1,30,1,3,92,1,7,82,4,179,3,4,117,1,3,6,190,8,6,3,228,3,1,3,89,2,1,7,2,10,134,15,1001,5,20,1185],\"type\":\"treemap\"}],                        {\"template\":{\"data\":{\"bar\":[{\"error_x\":{\"color\":\"#2a3f5f\"},\"error_y\":{\"color\":\"#2a3f5f\"},\"marker\":{\"line\":{\"color\":\"#E5ECF6\",\"width\":0.5},\"pattern\":{\"fillmode\":\"overlay\",\"size\":10,\"solidity\":0.2}},\"type\":\"bar\"}],\"barpolar\":[{\"marker\":{\"line\":{\"color\":\"#E5ECF6\",\"width\":0.5},\"pattern\":{\"fillmode\":\"overlay\",\"size\":10,\"solidity\":0.2}},\"type\":\"barpolar\"}],\"carpet\":[{\"aaxis\":{\"endlinecolor\":\"#2a3f5f\",\"gridcolor\":\"white\",\"linecolor\":\"white\",\"minorgridcolor\":\"white\",\"startlinecolor\":\"#2a3f5f\"},\"baxis\":{\"endlinecolor\":\"#2a3f5f\",\"gridcolor\":\"white\",\"linecolor\":\"white\",\"minorgridcolor\":\"white\",\"startlinecolor\":\"#2a3f5f\"},\"type\":\"carpet\"}],\"choropleth\":[{\"colorbar\":{\"outlinewidth\":0,\"ticks\":\"\"},\"type\":\"choropleth\"}],\"contour\":[{\"colorbar\":{\"outlinewidth\":0,\"ticks\":\"\"},\"colorscale\":[[0.0,\"#0d0887\"],[0.1111111111111111,\"#46039f\"],[0.2222222222222222,\"#7201a8\"],[0.3333333333333333,\"#9c179e\"],[0.4444444444444444,\"#bd3786\"],[0.5555555555555556,\"#d8576b\"],[0.6666666666666666,\"#ed7953\"],[0.7777777777777778,\"#fb9f3a\"],[0.8888888888888888,\"#fdca26\"],[1.0,\"#f0f921\"]],\"type\":\"contour\"}],\"contourcarpet\":[{\"colorbar\":{\"outlinewidth\":0,\"ticks\":\"\"},\"type\":\"contourcarpet\"}],\"heatmap\":[{\"colorbar\":{\"outlinewidth\":0,\"ticks\":\"\"},\"colorscale\":[[0.0,\"#0d0887\"],[0.1111111111111111,\"#46039f\"],[0.2222222222222222,\"#7201a8\"],[0.3333333333333333,\"#9c179e\"],[0.4444444444444444,\"#bd3786\"],[0.5555555555555556,\"#d8576b\"],[0.6666666666666666,\"#ed7953\"],[0.7777777777777778,\"#fb9f3a\"],[0.8888888888888888,\"#fdca26\"],[1.0,\"#f0f921\"]],\"type\":\"heatmap\"}],\"heatmapgl\":[{\"colorbar\":{\"outlinewidth\":0,\"ticks\":\"\"},\"colorscale\":[[0.0,\"#0d0887\"],[0.1111111111111111,\"#46039f\"],[0.2222222222222222,\"#7201a8\"],[0.3333333333333333,\"#9c179e\"],[0.4444444444444444,\"#bd3786\"],[0.5555555555555556,\"#d8576b\"],[0.6666666666666666,\"#ed7953\"],[0.7777777777777778,\"#fb9f3a\"],[0.8888888888888888,\"#fdca26\"],[1.0,\"#f0f921\"]],\"type\":\"heatmapgl\"}],\"histogram\":[{\"marker\":{\"pattern\":{\"fillmode\":\"overlay\",\"size\":10,\"solidity\":0.2}},\"type\":\"histogram\"}],\"histogram2d\":[{\"colorbar\":{\"outlinewidth\":0,\"ticks\":\"\"},\"colorscale\":[[0.0,\"#0d0887\"],[0.1111111111111111,\"#46039f\"],[0.2222222222222222,\"#7201a8\"],[0.3333333333333333,\"#9c179e\"],[0.4444444444444444,\"#bd3786\"],[0.5555555555555556,\"#d8576b\"],[0.6666666666666666,\"#ed7953\"],[0.7777777777777778,\"#fb9f3a\"],[0.8888888888888888,\"#fdca26\"],[1.0,\"#f0f921\"]],\"type\":\"histogram2d\"}],\"histogram2dcontour\":[{\"colorbar\":{\"outlinewidth\":0,\"ticks\":\"\"},\"colorscale\":[[0.0,\"#0d0887\"],[0.1111111111111111,\"#46039f\"],[0.2222222222222222,\"#7201a8\"],[0.3333333333333333,\"#9c179e\"],[0.4444444444444444,\"#bd3786\"],[0.5555555555555556,\"#d8576b\"],[0.6666666666666666,\"#ed7953\"],[0.7777777777777778,\"#fb9f3a\"],[0.8888888888888888,\"#fdca26\"],[1.0,\"#f0f921\"]],\"type\":\"histogram2dcontour\"}],\"mesh3d\":[{\"colorbar\":{\"outlinewidth\":0,\"ticks\":\"\"},\"type\":\"mesh3d\"}],\"parcoords\":[{\"line\":{\"colorbar\":{\"outlinewidth\":0,\"ticks\":\"\"}},\"type\":\"parcoords\"}],\"pie\":[{\"automargin\":true,\"type\":\"pie\"}],\"scatter\":[{\"marker\":{\"colorbar\":{\"outlinewidth\":0,\"ticks\":\"\"}},\"type\":\"scatter\"}],\"scatter3d\":[{\"line\":{\"colorbar\":{\"outlinewidth\":0,\"ticks\":\"\"}},\"marker\":{\"colorbar\":{\"outlinewidth\":0,\"ticks\":\"\"}},\"type\":\"scatter3d\"}],\"scattercarpet\":[{\"marker\":{\"colorbar\":{\"outlinewidth\":0,\"ticks\":\"\"}},\"type\":\"scattercarpet\"}],\"scattergeo\":[{\"marker\":{\"colorbar\":{\"outlinewidth\":0,\"ticks\":\"\"}},\"type\":\"scattergeo\"}],\"scattergl\":[{\"marker\":{\"colorbar\":{\"outlinewidth\":0,\"ticks\":\"\"}},\"type\":\"scattergl\"}],\"scattermapbox\":[{\"marker\":{\"colorbar\":{\"outlinewidth\":0,\"ticks\":\"\"}},\"type\":\"scattermapbox\"}],\"scatterpolar\":[{\"marker\":{\"colorbar\":{\"outlinewidth\":0,\"ticks\":\"\"}},\"type\":\"scatterpolar\"}],\"scatterpolargl\":[{\"marker\":{\"colorbar\":{\"outlinewidth\":0,\"ticks\":\"\"}},\"type\":\"scatterpolargl\"}],\"scatterternary\":[{\"marker\":{\"colorbar\":{\"outlinewidth\":0,\"ticks\":\"\"}},\"type\":\"scatterternary\"}],\"surface\":[{\"colorbar\":{\"outlinewidth\":0,\"ticks\":\"\"},\"colorscale\":[[0.0,\"#0d0887\"],[0.1111111111111111,\"#46039f\"],[0.2222222222222222,\"#7201a8\"],[0.3333333333333333,\"#9c179e\"],[0.4444444444444444,\"#bd3786\"],[0.5555555555555556,\"#d8576b\"],[0.6666666666666666,\"#ed7953\"],[0.7777777777777778,\"#fb9f3a\"],[0.8888888888888888,\"#fdca26\"],[1.0,\"#f0f921\"]],\"type\":\"surface\"}],\"table\":[{\"cells\":{\"fill\":{\"color\":\"#EBF0F8\"},\"line\":{\"color\":\"white\"}},\"header\":{\"fill\":{\"color\":\"#C8D4E3\"},\"line\":{\"color\":\"white\"}},\"type\":\"table\"}]},\"layout\":{\"annotationdefaults\":{\"arrowcolor\":\"#2a3f5f\",\"arrowhead\":0,\"arrowwidth\":1},\"autotypenumbers\":\"strict\",\"coloraxis\":{\"colorbar\":{\"outlinewidth\":0,\"ticks\":\"\"}},\"colorscale\":{\"diverging\":[[0,\"#8e0152\"],[0.1,\"#c51b7d\"],[0.2,\"#de77ae\"],[0.3,\"#f1b6da\"],[0.4,\"#fde0ef\"],[0.5,\"#f7f7f7\"],[0.6,\"#e6f5d0\"],[0.7,\"#b8e186\"],[0.8,\"#7fbc41\"],[0.9,\"#4d9221\"],[1,\"#276419\"]],\"sequential\":[[0.0,\"#0d0887\"],[0.1111111111111111,\"#46039f\"],[0.2222222222222222,\"#7201a8\"],[0.3333333333333333,\"#9c179e\"],[0.4444444444444444,\"#bd3786\"],[0.5555555555555556,\"#d8576b\"],[0.6666666666666666,\"#ed7953\"],[0.7777777777777778,\"#fb9f3a\"],[0.8888888888888888,\"#fdca26\"],[1.0,\"#f0f921\"]],\"sequentialminus\":[[0.0,\"#0d0887\"],[0.1111111111111111,\"#46039f\"],[0.2222222222222222,\"#7201a8\"],[0.3333333333333333,\"#9c179e\"],[0.4444444444444444,\"#bd3786\"],[0.5555555555555556,\"#d8576b\"],[0.6666666666666666,\"#ed7953\"],[0.7777777777777778,\"#fb9f3a\"],[0.8888888888888888,\"#fdca26\"],[1.0,\"#f0f921\"]]},\"colorway\":[\"#636efa\",\"#EF553B\",\"#00cc96\",\"#ab63fa\",\"#FFA15A\",\"#19d3f3\",\"#FF6692\",\"#B6E880\",\"#FF97FF\",\"#FECB52\"],\"font\":{\"color\":\"#2a3f5f\"},\"geo\":{\"bgcolor\":\"white\",\"lakecolor\":\"white\",\"landcolor\":\"#E5ECF6\",\"showlakes\":true,\"showland\":true,\"subunitcolor\":\"white\"},\"hoverlabel\":{\"align\":\"left\"},\"hovermode\":\"closest\",\"mapbox\":{\"style\":\"light\"},\"paper_bgcolor\":\"white\",\"plot_bgcolor\":\"#E5ECF6\",\"polar\":{\"angularaxis\":{\"gridcolor\":\"white\",\"linecolor\":\"white\",\"ticks\":\"\"},\"bgcolor\":\"#E5ECF6\",\"radialaxis\":{\"gridcolor\":\"white\",\"linecolor\":\"white\",\"ticks\":\"\"}},\"scene\":{\"xaxis\":{\"backgroundcolor\":\"#E5ECF6\",\"gridcolor\":\"white\",\"gridwidth\":2,\"linecolor\":\"white\",\"showbackground\":true,\"ticks\":\"\",\"zerolinecolor\":\"white\"},\"yaxis\":{\"backgroundcolor\":\"#E5ECF6\",\"gridcolor\":\"white\",\"gridwidth\":2,\"linecolor\":\"white\",\"showbackground\":true,\"ticks\":\"\",\"zerolinecolor\":\"white\"},\"zaxis\":{\"backgroundcolor\":\"#E5ECF6\",\"gridcolor\":\"white\",\"gridwidth\":2,\"linecolor\":\"white\",\"showbackground\":true,\"ticks\":\"\",\"zerolinecolor\":\"white\"}},\"shapedefaults\":{\"line\":{\"color\":\"#2a3f5f\"}},\"ternary\":{\"aaxis\":{\"gridcolor\":\"white\",\"linecolor\":\"white\",\"ticks\":\"\"},\"baxis\":{\"gridcolor\":\"white\",\"linecolor\":\"white\",\"ticks\":\"\"},\"bgcolor\":\"#E5ECF6\",\"caxis\":{\"gridcolor\":\"white\",\"linecolor\":\"white\",\"ticks\":\"\"}},\"title\":{\"x\":0.05},\"xaxis\":{\"automargin\":true,\"gridcolor\":\"white\",\"linecolor\":\"white\",\"ticks\":\"\",\"title\":{\"standoff\":15},\"zerolinecolor\":\"white\",\"zerolinewidth\":2},\"yaxis\":{\"automargin\":true,\"gridcolor\":\"white\",\"linecolor\":\"white\",\"ticks\":\"\",\"title\":{\"standoff\":15},\"zerolinecolor\":\"white\",\"zerolinewidth\":2}}},\"coloraxis\":{\"colorbar\":{\"title\":{\"text\":\"ave_score_bescods\"}},\"colorscale\":[[0.0,\"rgb(103,0,31)\"],[0.1,\"rgb(178,24,43)\"],[0.2,\"rgb(214,96,77)\"],[0.3,\"rgb(244,165,130)\"],[0.4,\"rgb(253,219,199)\"],[0.5,\"rgb(247,247,247)\"],[0.6,\"rgb(209,229,240)\"],[0.7,\"rgb(146,197,222)\"],[0.8,\"rgb(67,147,195)\"],[0.9,\"rgb(33,102,172)\"],[1.0,\"rgb(5,48,97)\"]],\"cmid\":148.12743354661777},\"legend\":{\"tracegroupgap\":0},\"margin\":{\"t\":50,\"l\":25,\"r\":25,\"b\":25},\"title\":{\"text\":\"R1 Structures: Frequency and Impact on Score Relative to All Factions Average (148.13): bescods\"}},                        {\"responsive\": true}                    ).then(function(){\n",
       "                            \n",
       "var gd = document.getElementById('efc6cb9d-cea4-4a66-9160-ca30d07176f7');\n",
       "var x = new MutationObserver(function (mutations, observer) {{\n",
       "        var display = window.getComputedStyle(gd).display;\n",
       "        if (!display || display === 'none') {{\n",
       "            console.log([gd, 'removed!']);\n",
       "            Plotly.purge(gd);\n",
       "            observer.disconnect();\n",
       "        }}\n",
       "}});\n",
       "\n",
       "// Listen for the removal of the full notebook cells\n",
       "var notebookContainer = gd.closest('#notebook-container');\n",
       "if (notebookContainer) {{\n",
       "    x.observe(notebookContainer, {childList: true});\n",
       "}}\n",
       "\n",
       "// Listen for the clearing of the current output cell\n",
       "var outputEl = gd.closest('.output');\n",
       "if (outputEl) {{\n",
       "    x.observe(outputEl, {childList: true});\n",
       "}}\n",
       "\n",
       "                        })                };                });            </script>        </div>"
      ]
     },
     "metadata": {},
     "output_type": "display_data"
    },
    {
     "data": {
      "application/vnd.plotly.v1+json": {
       "config": {
        "plotlyServerURL": "https://plot.ly"
       },
       "data": [
        {
         "branchvalues": "total",
         "customdata": [
          [
           337.6666666666667,
           196
          ],
          [
           249.0744680851064,
           154.56043956043956
          ],
          [
           139.6,
           130
          ],
          [
           152,
           132.46153846153845
          ],
          [
           112.66666666666667,
           125.33333333333333
          ],
          [
           202,
           144.5
          ],
          [
           289.5,
           119.5
          ],
          [
           250.04651162790697,
           160.296875
          ],
          [
           182.94594594594594,
           127.19444444444444
          ],
          [
           125.23529411764706,
           121.58823529411765
          ],
          [
           242.52631578947367,
           164.82119205298014
          ],
          [
           100,
           156
          ],
          [
           207.74193548387098,
           149.33870967741936
          ],
          [
           133.97222222222223,
           125.55555555555556
          ],
          [
           133,
           182
          ],
          [
           58,
           158
          ],
          [
           148,
           135.5
          ],
          [
           257.2830188679245,
           156.02000000000004
          ],
          [
           201.16901408450704,
           152.58285714285714
          ],
          [
           172.08235294117648,
           134.8235294117647
          ],
          [
           282.15625,
           178.75
          ],
          [
           213.65714285714284,
           162.34285714285716
          ],
          [
           194.3695652173913,
           151
          ],
          [
           200.84615384615384,
           151.90196078431373
          ],
          [
           144.34848484848484,
           136.23076923076923
          ],
          [
           361,
           180
          ],
          [
           71.5,
           185
          ],
          [
           221.71875,
           166.59375
          ],
          [
           154.1764705882353,
           146.97058823529412
          ],
          [
           126,
           139
          ],
          [
           138,
           157
          ],
          [
           237.66666666666666,
           182
          ],
          [
           208,
           152.71428571428572
          ],
          [
           152,
           117
          ],
          [
           "(?)",
           155.21593722987097
          ],
          [
           "(?)",
           159.65057770270272
          ],
          [
           148,
           135.5
          ],
          [
           "(?)",
           137.68723026148768
          ],
          [
           "(?)",
           151.33333333333334
          ],
          [
           "(?)",
           151.8790057395085
          ]
         ],
         "domain": {
          "x": [
           0,
           1
          ],
          "y": [
           0,
           1
          ]
         },
         "hovertemplate": "labels=%{label}<br>class_counts=%{value}<br>parent=%{parent}<br>id=%{id}<br>ave_elo_nevlas=%{customdata[0]}<br>ave_score_nevlas=%{color}<extra></extra>",
         "ids": [
          "R1 Structs/ac1/ 0-m_0-ts_0-lab_1-pi_1-ac1_0-ac2",
          "R1 Structs/PI/ 0-m_0-ts_1-lab_1-pi_0-ac1_0-ac2",
          "R1 Structs/lab/ 0-m_0-ts_2-lab_0-pi_0-ac1_0-ac2",
          "R1 Structs/PI/ 0-m_1-ts_0-lab_1-pi_0-ac1_0-ac2",
          "R1 Structs/lab/ 0-m_1-ts_1-lab_0-pi_0-ac1_0-ac2",
          "R1 Structs/PI/ 0-m_1-ts_1-lab_1-pi_0-ac1_0-ac2",
          "R1 Structs/PI/ 0-m_2-ts_0-lab_1-pi_0-ac1_0-ac2",
          "R1 Structs/ac1/ 1-m_0-ts_0-lab_0-pi_1-ac1_0-ac2",
          "R1 Structs/PI/ 1-m_0-ts_0-lab_1-pi_0-ac1_0-ac2",
          "R1 Structs/lab/ 1-m_0-ts_1-lab_0-pi_0-ac1_0-ac2",
          "R1 Structs/PI/ 1-m_0-ts_1-lab_1-pi_0-ac1_0-ac2",
          "R1 Structs/lab/ 1-m_0-ts_2-lab_0-pi_0-ac1_0-ac2",
          "R1 Structs/PI/ 1-m_1-ts_0-lab_1-pi_0-ac1_0-ac2",
          "R1 Structs/lab/ 1-m_1-ts_1-lab_0-pi_0-ac1_0-ac2",
          "R1 Structs/PI/ 1-m_1-ts_1-lab_1-pi_0-ac1_0-ac2",
          "R1 Structs/ts/ 1-m_2-ts_0-lab_0-pi_0-ac1_0-ac2",
          "R1 Structs/ac2/ 2-m_0-ts_0-lab_0-pi_0-ac1_1-ac2",
          "R1 Structs/ac1/ 2-m_0-ts_0-lab_0-pi_1-ac1_0-ac2",
          "R1 Structs/PI/ 2-m_0-ts_0-lab_1-pi_0-ac1_0-ac2",
          "R1 Structs/lab/ 2-m_0-ts_1-lab_0-pi_0-ac1_0-ac2",
          "R1 Structs/PI/ 2-m_0-ts_1-lab_1-pi_0-ac1_0-ac2",
          "R1 Structs/PI/ 2-m_1-ts_0-lab_1-pi_0-ac1_0-ac2",
          "R1 Structs/lab/ 2-m_1-ts_1-lab_0-pi_0-ac1_0-ac2",
          "R1 Structs/PI/ 3-m_0-ts_0-lab_1-pi_0-ac1_0-ac2",
          "R1 Structs/lab/ 3-m_0-ts_1-lab_0-pi_0-ac1_0-ac2",
          "R1 Structs/PI/ 3-m_0-ts_1-lab_1-pi_0-ac1_0-ac2",
          "R1 Structs/lab/ 3-m_1-ts_1-lab_0-pi_0-ac1_0-ac2",
          "R1 Structs/PI/ 4-m_0-ts_0-lab_1-pi_0-ac1_0-ac2",
          "R1 Structs/lab/ 4-m_0-ts_1-lab_0-pi_0-ac1_0-ac2",
          "R1 Structs/ts/ 4-m_1-ts_0-lab_0-pi_0-ac1_0-ac2",
          "R1 Structs/ts/ 4-m_2-ts_0-lab_0-pi_0-ac1_0-ac2",
          "R1 Structs/PI/ 5-m_0-ts_0-lab_1-pi_0-ac1_0-ac2",
          "R1 Structs/lab/ 5-m_0-ts_1-lab_0-pi_0-ac1_0-ac2",
          "R1 Structs/lab/ 6-m_0-ts_1-lab_0-pi_0-ac1_0-ac2",
          "R1 Structs/PI",
          "R1 Structs/ac1",
          "R1 Structs/ac2",
          "R1 Structs/lab",
          "R1 Structs/ts",
          "R1 Structs"
         ],
         "labels": [
          " 0-m_0-ts_0-lab_1-pi_1-ac1_0-ac2",
          " 0-m_0-ts_1-lab_1-pi_0-ac1_0-ac2",
          " 0-m_0-ts_2-lab_0-pi_0-ac1_0-ac2",
          " 0-m_1-ts_0-lab_1-pi_0-ac1_0-ac2",
          " 0-m_1-ts_1-lab_0-pi_0-ac1_0-ac2",
          " 0-m_1-ts_1-lab_1-pi_0-ac1_0-ac2",
          " 0-m_2-ts_0-lab_1-pi_0-ac1_0-ac2",
          " 1-m_0-ts_0-lab_0-pi_1-ac1_0-ac2",
          " 1-m_0-ts_0-lab_1-pi_0-ac1_0-ac2",
          " 1-m_0-ts_1-lab_0-pi_0-ac1_0-ac2",
          " 1-m_0-ts_1-lab_1-pi_0-ac1_0-ac2",
          " 1-m_0-ts_2-lab_0-pi_0-ac1_0-ac2",
          " 1-m_1-ts_0-lab_1-pi_0-ac1_0-ac2",
          " 1-m_1-ts_1-lab_0-pi_0-ac1_0-ac2",
          " 1-m_1-ts_1-lab_1-pi_0-ac1_0-ac2",
          " 1-m_2-ts_0-lab_0-pi_0-ac1_0-ac2",
          " 2-m_0-ts_0-lab_0-pi_0-ac1_1-ac2",
          " 2-m_0-ts_0-lab_0-pi_1-ac1_0-ac2",
          " 2-m_0-ts_0-lab_1-pi_0-ac1_0-ac2",
          " 2-m_0-ts_1-lab_0-pi_0-ac1_0-ac2",
          " 2-m_0-ts_1-lab_1-pi_0-ac1_0-ac2",
          " 2-m_1-ts_0-lab_1-pi_0-ac1_0-ac2",
          " 2-m_1-ts_1-lab_0-pi_0-ac1_0-ac2",
          " 3-m_0-ts_0-lab_1-pi_0-ac1_0-ac2",
          " 3-m_0-ts_1-lab_0-pi_0-ac1_0-ac2",
          " 3-m_0-ts_1-lab_1-pi_0-ac1_0-ac2",
          " 3-m_1-ts_1-lab_0-pi_0-ac1_0-ac2",
          " 4-m_0-ts_0-lab_1-pi_0-ac1_0-ac2",
          " 4-m_0-ts_1-lab_0-pi_0-ac1_0-ac2",
          " 4-m_1-ts_0-lab_0-pi_0-ac1_0-ac2",
          " 4-m_2-ts_0-lab_0-pi_0-ac1_0-ac2",
          " 5-m_0-ts_0-lab_1-pi_0-ac1_0-ac2",
          " 5-m_0-ts_1-lab_0-pi_0-ac1_0-ac2",
          " 6-m_0-ts_1-lab_0-pi_0-ac1_0-ac2",
          "PI",
          "ac1",
          "ac2",
          "lab",
          "ts",
          "R1 Structs"
         ],
         "marker": {
          "coloraxis": "coloraxis",
          "colors": [
           196,
           154.56043956043956,
           130,
           132.46153846153845,
           125.33333333333333,
           144.5,
           119.5,
           160.296875,
           127.19444444444444,
           121.58823529411765,
           164.82119205298014,
           156,
           149.33870967741936,
           125.55555555555556,
           182,
           158,
           135.5,
           156.02000000000004,
           152.58285714285714,
           134.8235294117647,
           178.75,
           162.34285714285716,
           151,
           151.90196078431373,
           136.23076923076923,
           180,
           185,
           166.59375,
           146.97058823529412,
           139,
           157,
           182,
           152.71428571428572,
           117,
           155.21593722987097,
           159.65057770270272,
           135.5,
           137.68723026148768,
           151.33333333333334,
           151.8790057395085
          ]
         },
         "name": "",
         "parents": [
          "R1 Structs/ac1",
          "R1 Structs/PI",
          "R1 Structs/lab",
          "R1 Structs/PI",
          "R1 Structs/lab",
          "R1 Structs/PI",
          "R1 Structs/PI",
          "R1 Structs/ac1",
          "R1 Structs/PI",
          "R1 Structs/lab",
          "R1 Structs/PI",
          "R1 Structs/lab",
          "R1 Structs/PI",
          "R1 Structs/lab",
          "R1 Structs/PI",
          "R1 Structs/ts",
          "R1 Structs/ac2",
          "R1 Structs/ac1",
          "R1 Structs/PI",
          "R1 Structs/lab",
          "R1 Structs/PI",
          "R1 Structs/PI",
          "R1 Structs/lab",
          "R1 Structs/PI",
          "R1 Structs/lab",
          "R1 Structs/PI",
          "R1 Structs/lab",
          "R1 Structs/PI",
          "R1 Structs/lab",
          "R1 Structs/ts",
          "R1 Structs/ts",
          "R1 Structs/PI",
          "R1 Structs/lab",
          "R1 Structs/lab",
          "R1 Structs",
          "R1 Structs",
          "R1 Structs",
          "R1 Structs",
          "R1 Structs",
          ""
         ],
         "type": "treemap",
         "values": [
          3,
          94,
          5,
          13,
          3,
          2,
          2,
          129,
          37,
          17,
          152,
          1,
          62,
          36,
          1,
          1,
          3,
          53,
          355,
          85,
          32,
          35,
          46,
          52,
          66,
          1,
          2,
          32,
          34,
          1,
          1,
          3,
          7,
          1,
          873,
          185,
          3,
          303,
          3,
          1367
         ]
        }
       ],
       "layout": {
        "coloraxis": {
         "cmid": 148.12743354661777,
         "colorbar": {
          "title": {
           "text": "ave_score_nevlas"
          }
         },
         "colorscale": [
          [
           0,
           "rgb(103,0,31)"
          ],
          [
           0.1,
           "rgb(178,24,43)"
          ],
          [
           0.2,
           "rgb(214,96,77)"
          ],
          [
           0.3,
           "rgb(244,165,130)"
          ],
          [
           0.4,
           "rgb(253,219,199)"
          ],
          [
           0.5,
           "rgb(247,247,247)"
          ],
          [
           0.6,
           "rgb(209,229,240)"
          ],
          [
           0.7,
           "rgb(146,197,222)"
          ],
          [
           0.8,
           "rgb(67,147,195)"
          ],
          [
           0.9,
           "rgb(33,102,172)"
          ],
          [
           1,
           "rgb(5,48,97)"
          ]
         ]
        },
        "legend": {
         "tracegroupgap": 0
        },
        "margin": {
         "b": 25,
         "l": 25,
         "r": 25,
         "t": 50
        },
        "template": {
         "data": {
          "bar": [
           {
            "error_x": {
             "color": "#2a3f5f"
            },
            "error_y": {
             "color": "#2a3f5f"
            },
            "marker": {
             "line": {
              "color": "#E5ECF6",
              "width": 0.5
             },
             "pattern": {
              "fillmode": "overlay",
              "size": 10,
              "solidity": 0.2
             }
            },
            "type": "bar"
           }
          ],
          "barpolar": [
           {
            "marker": {
             "line": {
              "color": "#E5ECF6",
              "width": 0.5
             },
             "pattern": {
              "fillmode": "overlay",
              "size": 10,
              "solidity": 0.2
             }
            },
            "type": "barpolar"
           }
          ],
          "carpet": [
           {
            "aaxis": {
             "endlinecolor": "#2a3f5f",
             "gridcolor": "white",
             "linecolor": "white",
             "minorgridcolor": "white",
             "startlinecolor": "#2a3f5f"
            },
            "baxis": {
             "endlinecolor": "#2a3f5f",
             "gridcolor": "white",
             "linecolor": "white",
             "minorgridcolor": "white",
             "startlinecolor": "#2a3f5f"
            },
            "type": "carpet"
           }
          ],
          "choropleth": [
           {
            "colorbar": {
             "outlinewidth": 0,
             "ticks": ""
            },
            "type": "choropleth"
           }
          ],
          "contour": [
           {
            "colorbar": {
             "outlinewidth": 0,
             "ticks": ""
            },
            "colorscale": [
             [
              0,
              "#0d0887"
             ],
             [
              0.1111111111111111,
              "#46039f"
             ],
             [
              0.2222222222222222,
              "#7201a8"
             ],
             [
              0.3333333333333333,
              "#9c179e"
             ],
             [
              0.4444444444444444,
              "#bd3786"
             ],
             [
              0.5555555555555556,
              "#d8576b"
             ],
             [
              0.6666666666666666,
              "#ed7953"
             ],
             [
              0.7777777777777778,
              "#fb9f3a"
             ],
             [
              0.8888888888888888,
              "#fdca26"
             ],
             [
              1,
              "#f0f921"
             ]
            ],
            "type": "contour"
           }
          ],
          "contourcarpet": [
           {
            "colorbar": {
             "outlinewidth": 0,
             "ticks": ""
            },
            "type": "contourcarpet"
           }
          ],
          "heatmap": [
           {
            "colorbar": {
             "outlinewidth": 0,
             "ticks": ""
            },
            "colorscale": [
             [
              0,
              "#0d0887"
             ],
             [
              0.1111111111111111,
              "#46039f"
             ],
             [
              0.2222222222222222,
              "#7201a8"
             ],
             [
              0.3333333333333333,
              "#9c179e"
             ],
             [
              0.4444444444444444,
              "#bd3786"
             ],
             [
              0.5555555555555556,
              "#d8576b"
             ],
             [
              0.6666666666666666,
              "#ed7953"
             ],
             [
              0.7777777777777778,
              "#fb9f3a"
             ],
             [
              0.8888888888888888,
              "#fdca26"
             ],
             [
              1,
              "#f0f921"
             ]
            ],
            "type": "heatmap"
           }
          ],
          "heatmapgl": [
           {
            "colorbar": {
             "outlinewidth": 0,
             "ticks": ""
            },
            "colorscale": [
             [
              0,
              "#0d0887"
             ],
             [
              0.1111111111111111,
              "#46039f"
             ],
             [
              0.2222222222222222,
              "#7201a8"
             ],
             [
              0.3333333333333333,
              "#9c179e"
             ],
             [
              0.4444444444444444,
              "#bd3786"
             ],
             [
              0.5555555555555556,
              "#d8576b"
             ],
             [
              0.6666666666666666,
              "#ed7953"
             ],
             [
              0.7777777777777778,
              "#fb9f3a"
             ],
             [
              0.8888888888888888,
              "#fdca26"
             ],
             [
              1,
              "#f0f921"
             ]
            ],
            "type": "heatmapgl"
           }
          ],
          "histogram": [
           {
            "marker": {
             "pattern": {
              "fillmode": "overlay",
              "size": 10,
              "solidity": 0.2
             }
            },
            "type": "histogram"
           }
          ],
          "histogram2d": [
           {
            "colorbar": {
             "outlinewidth": 0,
             "ticks": ""
            },
            "colorscale": [
             [
              0,
              "#0d0887"
             ],
             [
              0.1111111111111111,
              "#46039f"
             ],
             [
              0.2222222222222222,
              "#7201a8"
             ],
             [
              0.3333333333333333,
              "#9c179e"
             ],
             [
              0.4444444444444444,
              "#bd3786"
             ],
             [
              0.5555555555555556,
              "#d8576b"
             ],
             [
              0.6666666666666666,
              "#ed7953"
             ],
             [
              0.7777777777777778,
              "#fb9f3a"
             ],
             [
              0.8888888888888888,
              "#fdca26"
             ],
             [
              1,
              "#f0f921"
             ]
            ],
            "type": "histogram2d"
           }
          ],
          "histogram2dcontour": [
           {
            "colorbar": {
             "outlinewidth": 0,
             "ticks": ""
            },
            "colorscale": [
             [
              0,
              "#0d0887"
             ],
             [
              0.1111111111111111,
              "#46039f"
             ],
             [
              0.2222222222222222,
              "#7201a8"
             ],
             [
              0.3333333333333333,
              "#9c179e"
             ],
             [
              0.4444444444444444,
              "#bd3786"
             ],
             [
              0.5555555555555556,
              "#d8576b"
             ],
             [
              0.6666666666666666,
              "#ed7953"
             ],
             [
              0.7777777777777778,
              "#fb9f3a"
             ],
             [
              0.8888888888888888,
              "#fdca26"
             ],
             [
              1,
              "#f0f921"
             ]
            ],
            "type": "histogram2dcontour"
           }
          ],
          "mesh3d": [
           {
            "colorbar": {
             "outlinewidth": 0,
             "ticks": ""
            },
            "type": "mesh3d"
           }
          ],
          "parcoords": [
           {
            "line": {
             "colorbar": {
              "outlinewidth": 0,
              "ticks": ""
             }
            },
            "type": "parcoords"
           }
          ],
          "pie": [
           {
            "automargin": true,
            "type": "pie"
           }
          ],
          "scatter": [
           {
            "marker": {
             "colorbar": {
              "outlinewidth": 0,
              "ticks": ""
             }
            },
            "type": "scatter"
           }
          ],
          "scatter3d": [
           {
            "line": {
             "colorbar": {
              "outlinewidth": 0,
              "ticks": ""
             }
            },
            "marker": {
             "colorbar": {
              "outlinewidth": 0,
              "ticks": ""
             }
            },
            "type": "scatter3d"
           }
          ],
          "scattercarpet": [
           {
            "marker": {
             "colorbar": {
              "outlinewidth": 0,
              "ticks": ""
             }
            },
            "type": "scattercarpet"
           }
          ],
          "scattergeo": [
           {
            "marker": {
             "colorbar": {
              "outlinewidth": 0,
              "ticks": ""
             }
            },
            "type": "scattergeo"
           }
          ],
          "scattergl": [
           {
            "marker": {
             "colorbar": {
              "outlinewidth": 0,
              "ticks": ""
             }
            },
            "type": "scattergl"
           }
          ],
          "scattermapbox": [
           {
            "marker": {
             "colorbar": {
              "outlinewidth": 0,
              "ticks": ""
             }
            },
            "type": "scattermapbox"
           }
          ],
          "scatterpolar": [
           {
            "marker": {
             "colorbar": {
              "outlinewidth": 0,
              "ticks": ""
             }
            },
            "type": "scatterpolar"
           }
          ],
          "scatterpolargl": [
           {
            "marker": {
             "colorbar": {
              "outlinewidth": 0,
              "ticks": ""
             }
            },
            "type": "scatterpolargl"
           }
          ],
          "scatterternary": [
           {
            "marker": {
             "colorbar": {
              "outlinewidth": 0,
              "ticks": ""
             }
            },
            "type": "scatterternary"
           }
          ],
          "surface": [
           {
            "colorbar": {
             "outlinewidth": 0,
             "ticks": ""
            },
            "colorscale": [
             [
              0,
              "#0d0887"
             ],
             [
              0.1111111111111111,
              "#46039f"
             ],
             [
              0.2222222222222222,
              "#7201a8"
             ],
             [
              0.3333333333333333,
              "#9c179e"
             ],
             [
              0.4444444444444444,
              "#bd3786"
             ],
             [
              0.5555555555555556,
              "#d8576b"
             ],
             [
              0.6666666666666666,
              "#ed7953"
             ],
             [
              0.7777777777777778,
              "#fb9f3a"
             ],
             [
              0.8888888888888888,
              "#fdca26"
             ],
             [
              1,
              "#f0f921"
             ]
            ],
            "type": "surface"
           }
          ],
          "table": [
           {
            "cells": {
             "fill": {
              "color": "#EBF0F8"
             },
             "line": {
              "color": "white"
             }
            },
            "header": {
             "fill": {
              "color": "#C8D4E3"
             },
             "line": {
              "color": "white"
             }
            },
            "type": "table"
           }
          ]
         },
         "layout": {
          "annotationdefaults": {
           "arrowcolor": "#2a3f5f",
           "arrowhead": 0,
           "arrowwidth": 1
          },
          "autotypenumbers": "strict",
          "coloraxis": {
           "colorbar": {
            "outlinewidth": 0,
            "ticks": ""
           }
          },
          "colorscale": {
           "diverging": [
            [
             0,
             "#8e0152"
            ],
            [
             0.1,
             "#c51b7d"
            ],
            [
             0.2,
             "#de77ae"
            ],
            [
             0.3,
             "#f1b6da"
            ],
            [
             0.4,
             "#fde0ef"
            ],
            [
             0.5,
             "#f7f7f7"
            ],
            [
             0.6,
             "#e6f5d0"
            ],
            [
             0.7,
             "#b8e186"
            ],
            [
             0.8,
             "#7fbc41"
            ],
            [
             0.9,
             "#4d9221"
            ],
            [
             1,
             "#276419"
            ]
           ],
           "sequential": [
            [
             0,
             "#0d0887"
            ],
            [
             0.1111111111111111,
             "#46039f"
            ],
            [
             0.2222222222222222,
             "#7201a8"
            ],
            [
             0.3333333333333333,
             "#9c179e"
            ],
            [
             0.4444444444444444,
             "#bd3786"
            ],
            [
             0.5555555555555556,
             "#d8576b"
            ],
            [
             0.6666666666666666,
             "#ed7953"
            ],
            [
             0.7777777777777778,
             "#fb9f3a"
            ],
            [
             0.8888888888888888,
             "#fdca26"
            ],
            [
             1,
             "#f0f921"
            ]
           ],
           "sequentialminus": [
            [
             0,
             "#0d0887"
            ],
            [
             0.1111111111111111,
             "#46039f"
            ],
            [
             0.2222222222222222,
             "#7201a8"
            ],
            [
             0.3333333333333333,
             "#9c179e"
            ],
            [
             0.4444444444444444,
             "#bd3786"
            ],
            [
             0.5555555555555556,
             "#d8576b"
            ],
            [
             0.6666666666666666,
             "#ed7953"
            ],
            [
             0.7777777777777778,
             "#fb9f3a"
            ],
            [
             0.8888888888888888,
             "#fdca26"
            ],
            [
             1,
             "#f0f921"
            ]
           ]
          },
          "colorway": [
           "#636efa",
           "#EF553B",
           "#00cc96",
           "#ab63fa",
           "#FFA15A",
           "#19d3f3",
           "#FF6692",
           "#B6E880",
           "#FF97FF",
           "#FECB52"
          ],
          "font": {
           "color": "#2a3f5f"
          },
          "geo": {
           "bgcolor": "white",
           "lakecolor": "white",
           "landcolor": "#E5ECF6",
           "showlakes": true,
           "showland": true,
           "subunitcolor": "white"
          },
          "hoverlabel": {
           "align": "left"
          },
          "hovermode": "closest",
          "mapbox": {
           "style": "light"
          },
          "paper_bgcolor": "white",
          "plot_bgcolor": "#E5ECF6",
          "polar": {
           "angularaxis": {
            "gridcolor": "white",
            "linecolor": "white",
            "ticks": ""
           },
           "bgcolor": "#E5ECF6",
           "radialaxis": {
            "gridcolor": "white",
            "linecolor": "white",
            "ticks": ""
           }
          },
          "scene": {
           "xaxis": {
            "backgroundcolor": "#E5ECF6",
            "gridcolor": "white",
            "gridwidth": 2,
            "linecolor": "white",
            "showbackground": true,
            "ticks": "",
            "zerolinecolor": "white"
           },
           "yaxis": {
            "backgroundcolor": "#E5ECF6",
            "gridcolor": "white",
            "gridwidth": 2,
            "linecolor": "white",
            "showbackground": true,
            "ticks": "",
            "zerolinecolor": "white"
           },
           "zaxis": {
            "backgroundcolor": "#E5ECF6",
            "gridcolor": "white",
            "gridwidth": 2,
            "linecolor": "white",
            "showbackground": true,
            "ticks": "",
            "zerolinecolor": "white"
           }
          },
          "shapedefaults": {
           "line": {
            "color": "#2a3f5f"
           }
          },
          "ternary": {
           "aaxis": {
            "gridcolor": "white",
            "linecolor": "white",
            "ticks": ""
           },
           "baxis": {
            "gridcolor": "white",
            "linecolor": "white",
            "ticks": ""
           },
           "bgcolor": "#E5ECF6",
           "caxis": {
            "gridcolor": "white",
            "linecolor": "white",
            "ticks": ""
           }
          },
          "title": {
           "x": 0.05
          },
          "xaxis": {
           "automargin": true,
           "gridcolor": "white",
           "linecolor": "white",
           "ticks": "",
           "title": {
            "standoff": 15
           },
           "zerolinecolor": "white",
           "zerolinewidth": 2
          },
          "yaxis": {
           "automargin": true,
           "gridcolor": "white",
           "linecolor": "white",
           "ticks": "",
           "title": {
            "standoff": 15
           },
           "zerolinecolor": "white",
           "zerolinewidth": 2
          }
         }
        },
        "title": {
         "text": "R1 Structures: Frequency and Impact on Score Relative to All Factions Average (148.13): nevlas"
        }
       }
      },
      "text/html": [
       "<div>                            <div id=\"9cff3112-baa4-4fd0-86e3-14cc1ae7a776\" class=\"plotly-graph-div\" style=\"height:525px; width:100%;\"></div>            <script type=\"text/javascript\">                require([\"plotly\"], function(Plotly) {                    window.PLOTLYENV=window.PLOTLYENV || {};                                    if (document.getElementById(\"9cff3112-baa4-4fd0-86e3-14cc1ae7a776\")) {                    Plotly.newPlot(                        \"9cff3112-baa4-4fd0-86e3-14cc1ae7a776\",                        [{\"branchvalues\":\"total\",\"customdata\":[[337.6666666666667,196.0],[249.0744680851064,154.56043956043956],[139.6,130.0],[152.0,132.46153846153845],[112.66666666666667,125.33333333333333],[202.0,144.5],[289.5,119.5],[250.04651162790697,160.296875],[182.94594594594594,127.19444444444444],[125.23529411764706,121.58823529411765],[242.52631578947367,164.82119205298014],[100.0,156.0],[207.74193548387098,149.33870967741936],[133.97222222222223,125.55555555555556],[133.0,182.0],[58.0,158.0],[148.0,135.5],[257.2830188679245,156.02000000000004],[201.16901408450704,152.58285714285714],[172.08235294117648,134.8235294117647],[282.15625,178.75],[213.65714285714284,162.34285714285716],[194.3695652173913,151.0],[200.84615384615384,151.90196078431373],[144.34848484848484,136.23076923076923],[361.0,180.0],[71.5,185.0],[221.71875,166.59375],[154.1764705882353,146.97058823529412],[126.0,139.0],[138.0,157.0],[237.66666666666666,182.0],[208.0,152.71428571428572],[152.0,117.0],[\"(?)\",155.21593722987097],[\"(?)\",159.65057770270272],[148.0,135.5],[\"(?)\",137.68723026148768],[\"(?)\",151.33333333333334],[\"(?)\",151.8790057395085]],\"domain\":{\"x\":[0.0,1.0],\"y\":[0.0,1.0]},\"hovertemplate\":\"labels=%{label}<br>class_counts=%{value}<br>parent=%{parent}<br>id=%{id}<br>ave_elo_nevlas=%{customdata[0]}<br>ave_score_nevlas=%{color}<extra></extra>\",\"ids\":[\"R1 Structs/ac1/ 0-m_0-ts_0-lab_1-pi_1-ac1_0-ac2\",\"R1 Structs/PI/ 0-m_0-ts_1-lab_1-pi_0-ac1_0-ac2\",\"R1 Structs/lab/ 0-m_0-ts_2-lab_0-pi_0-ac1_0-ac2\",\"R1 Structs/PI/ 0-m_1-ts_0-lab_1-pi_0-ac1_0-ac2\",\"R1 Structs/lab/ 0-m_1-ts_1-lab_0-pi_0-ac1_0-ac2\",\"R1 Structs/PI/ 0-m_1-ts_1-lab_1-pi_0-ac1_0-ac2\",\"R1 Structs/PI/ 0-m_2-ts_0-lab_1-pi_0-ac1_0-ac2\",\"R1 Structs/ac1/ 1-m_0-ts_0-lab_0-pi_1-ac1_0-ac2\",\"R1 Structs/PI/ 1-m_0-ts_0-lab_1-pi_0-ac1_0-ac2\",\"R1 Structs/lab/ 1-m_0-ts_1-lab_0-pi_0-ac1_0-ac2\",\"R1 Structs/PI/ 1-m_0-ts_1-lab_1-pi_0-ac1_0-ac2\",\"R1 Structs/lab/ 1-m_0-ts_2-lab_0-pi_0-ac1_0-ac2\",\"R1 Structs/PI/ 1-m_1-ts_0-lab_1-pi_0-ac1_0-ac2\",\"R1 Structs/lab/ 1-m_1-ts_1-lab_0-pi_0-ac1_0-ac2\",\"R1 Structs/PI/ 1-m_1-ts_1-lab_1-pi_0-ac1_0-ac2\",\"R1 Structs/ts/ 1-m_2-ts_0-lab_0-pi_0-ac1_0-ac2\",\"R1 Structs/ac2/ 2-m_0-ts_0-lab_0-pi_0-ac1_1-ac2\",\"R1 Structs/ac1/ 2-m_0-ts_0-lab_0-pi_1-ac1_0-ac2\",\"R1 Structs/PI/ 2-m_0-ts_0-lab_1-pi_0-ac1_0-ac2\",\"R1 Structs/lab/ 2-m_0-ts_1-lab_0-pi_0-ac1_0-ac2\",\"R1 Structs/PI/ 2-m_0-ts_1-lab_1-pi_0-ac1_0-ac2\",\"R1 Structs/PI/ 2-m_1-ts_0-lab_1-pi_0-ac1_0-ac2\",\"R1 Structs/lab/ 2-m_1-ts_1-lab_0-pi_0-ac1_0-ac2\",\"R1 Structs/PI/ 3-m_0-ts_0-lab_1-pi_0-ac1_0-ac2\",\"R1 Structs/lab/ 3-m_0-ts_1-lab_0-pi_0-ac1_0-ac2\",\"R1 Structs/PI/ 3-m_0-ts_1-lab_1-pi_0-ac1_0-ac2\",\"R1 Structs/lab/ 3-m_1-ts_1-lab_0-pi_0-ac1_0-ac2\",\"R1 Structs/PI/ 4-m_0-ts_0-lab_1-pi_0-ac1_0-ac2\",\"R1 Structs/lab/ 4-m_0-ts_1-lab_0-pi_0-ac1_0-ac2\",\"R1 Structs/ts/ 4-m_1-ts_0-lab_0-pi_0-ac1_0-ac2\",\"R1 Structs/ts/ 4-m_2-ts_0-lab_0-pi_0-ac1_0-ac2\",\"R1 Structs/PI/ 5-m_0-ts_0-lab_1-pi_0-ac1_0-ac2\",\"R1 Structs/lab/ 5-m_0-ts_1-lab_0-pi_0-ac1_0-ac2\",\"R1 Structs/lab/ 6-m_0-ts_1-lab_0-pi_0-ac1_0-ac2\",\"R1 Structs/PI\",\"R1 Structs/ac1\",\"R1 Structs/ac2\",\"R1 Structs/lab\",\"R1 Structs/ts\",\"R1 Structs\"],\"labels\":[\" 0-m_0-ts_0-lab_1-pi_1-ac1_0-ac2\",\" 0-m_0-ts_1-lab_1-pi_0-ac1_0-ac2\",\" 0-m_0-ts_2-lab_0-pi_0-ac1_0-ac2\",\" 0-m_1-ts_0-lab_1-pi_0-ac1_0-ac2\",\" 0-m_1-ts_1-lab_0-pi_0-ac1_0-ac2\",\" 0-m_1-ts_1-lab_1-pi_0-ac1_0-ac2\",\" 0-m_2-ts_0-lab_1-pi_0-ac1_0-ac2\",\" 1-m_0-ts_0-lab_0-pi_1-ac1_0-ac2\",\" 1-m_0-ts_0-lab_1-pi_0-ac1_0-ac2\",\" 1-m_0-ts_1-lab_0-pi_0-ac1_0-ac2\",\" 1-m_0-ts_1-lab_1-pi_0-ac1_0-ac2\",\" 1-m_0-ts_2-lab_0-pi_0-ac1_0-ac2\",\" 1-m_1-ts_0-lab_1-pi_0-ac1_0-ac2\",\" 1-m_1-ts_1-lab_0-pi_0-ac1_0-ac2\",\" 1-m_1-ts_1-lab_1-pi_0-ac1_0-ac2\",\" 1-m_2-ts_0-lab_0-pi_0-ac1_0-ac2\",\" 2-m_0-ts_0-lab_0-pi_0-ac1_1-ac2\",\" 2-m_0-ts_0-lab_0-pi_1-ac1_0-ac2\",\" 2-m_0-ts_0-lab_1-pi_0-ac1_0-ac2\",\" 2-m_0-ts_1-lab_0-pi_0-ac1_0-ac2\",\" 2-m_0-ts_1-lab_1-pi_0-ac1_0-ac2\",\" 2-m_1-ts_0-lab_1-pi_0-ac1_0-ac2\",\" 2-m_1-ts_1-lab_0-pi_0-ac1_0-ac2\",\" 3-m_0-ts_0-lab_1-pi_0-ac1_0-ac2\",\" 3-m_0-ts_1-lab_0-pi_0-ac1_0-ac2\",\" 3-m_0-ts_1-lab_1-pi_0-ac1_0-ac2\",\" 3-m_1-ts_1-lab_0-pi_0-ac1_0-ac2\",\" 4-m_0-ts_0-lab_1-pi_0-ac1_0-ac2\",\" 4-m_0-ts_1-lab_0-pi_0-ac1_0-ac2\",\" 4-m_1-ts_0-lab_0-pi_0-ac1_0-ac2\",\" 4-m_2-ts_0-lab_0-pi_0-ac1_0-ac2\",\" 5-m_0-ts_0-lab_1-pi_0-ac1_0-ac2\",\" 5-m_0-ts_1-lab_0-pi_0-ac1_0-ac2\",\" 6-m_0-ts_1-lab_0-pi_0-ac1_0-ac2\",\"PI\",\"ac1\",\"ac2\",\"lab\",\"ts\",\"R1 Structs\"],\"marker\":{\"coloraxis\":\"coloraxis\",\"colors\":[196.0,154.56043956043956,130.0,132.46153846153845,125.33333333333333,144.5,119.5,160.296875,127.19444444444444,121.58823529411765,164.82119205298014,156.0,149.33870967741936,125.55555555555556,182.0,158.0,135.5,156.02000000000004,152.58285714285714,134.8235294117647,178.75,162.34285714285716,151.0,151.90196078431373,136.23076923076923,180.0,185.0,166.59375,146.97058823529412,139.0,157.0,182.0,152.71428571428572,117.0,155.21593722987097,159.65057770270272,135.5,137.68723026148768,151.33333333333334,151.8790057395085]},\"name\":\"\",\"parents\":[\"R1 Structs/ac1\",\"R1 Structs/PI\",\"R1 Structs/lab\",\"R1 Structs/PI\",\"R1 Structs/lab\",\"R1 Structs/PI\",\"R1 Structs/PI\",\"R1 Structs/ac1\",\"R1 Structs/PI\",\"R1 Structs/lab\",\"R1 Structs/PI\",\"R1 Structs/lab\",\"R1 Structs/PI\",\"R1 Structs/lab\",\"R1 Structs/PI\",\"R1 Structs/ts\",\"R1 Structs/ac2\",\"R1 Structs/ac1\",\"R1 Structs/PI\",\"R1 Structs/lab\",\"R1 Structs/PI\",\"R1 Structs/PI\",\"R1 Structs/lab\",\"R1 Structs/PI\",\"R1 Structs/lab\",\"R1 Structs/PI\",\"R1 Structs/lab\",\"R1 Structs/PI\",\"R1 Structs/lab\",\"R1 Structs/ts\",\"R1 Structs/ts\",\"R1 Structs/PI\",\"R1 Structs/lab\",\"R1 Structs/lab\",\"R1 Structs\",\"R1 Structs\",\"R1 Structs\",\"R1 Structs\",\"R1 Structs\",\"\"],\"values\":[3,94,5,13,3,2,2,129,37,17,152,1,62,36,1,1,3,53,355,85,32,35,46,52,66,1,2,32,34,1,1,3,7,1,873,185,3,303,3,1367],\"type\":\"treemap\"}],                        {\"template\":{\"data\":{\"bar\":[{\"error_x\":{\"color\":\"#2a3f5f\"},\"error_y\":{\"color\":\"#2a3f5f\"},\"marker\":{\"line\":{\"color\":\"#E5ECF6\",\"width\":0.5},\"pattern\":{\"fillmode\":\"overlay\",\"size\":10,\"solidity\":0.2}},\"type\":\"bar\"}],\"barpolar\":[{\"marker\":{\"line\":{\"color\":\"#E5ECF6\",\"width\":0.5},\"pattern\":{\"fillmode\":\"overlay\",\"size\":10,\"solidity\":0.2}},\"type\":\"barpolar\"}],\"carpet\":[{\"aaxis\":{\"endlinecolor\":\"#2a3f5f\",\"gridcolor\":\"white\",\"linecolor\":\"white\",\"minorgridcolor\":\"white\",\"startlinecolor\":\"#2a3f5f\"},\"baxis\":{\"endlinecolor\":\"#2a3f5f\",\"gridcolor\":\"white\",\"linecolor\":\"white\",\"minorgridcolor\":\"white\",\"startlinecolor\":\"#2a3f5f\"},\"type\":\"carpet\"}],\"choropleth\":[{\"colorbar\":{\"outlinewidth\":0,\"ticks\":\"\"},\"type\":\"choropleth\"}],\"contour\":[{\"colorbar\":{\"outlinewidth\":0,\"ticks\":\"\"},\"colorscale\":[[0.0,\"#0d0887\"],[0.1111111111111111,\"#46039f\"],[0.2222222222222222,\"#7201a8\"],[0.3333333333333333,\"#9c179e\"],[0.4444444444444444,\"#bd3786\"],[0.5555555555555556,\"#d8576b\"],[0.6666666666666666,\"#ed7953\"],[0.7777777777777778,\"#fb9f3a\"],[0.8888888888888888,\"#fdca26\"],[1.0,\"#f0f921\"]],\"type\":\"contour\"}],\"contourcarpet\":[{\"colorbar\":{\"outlinewidth\":0,\"ticks\":\"\"},\"type\":\"contourcarpet\"}],\"heatmap\":[{\"colorbar\":{\"outlinewidth\":0,\"ticks\":\"\"},\"colorscale\":[[0.0,\"#0d0887\"],[0.1111111111111111,\"#46039f\"],[0.2222222222222222,\"#7201a8\"],[0.3333333333333333,\"#9c179e\"],[0.4444444444444444,\"#bd3786\"],[0.5555555555555556,\"#d8576b\"],[0.6666666666666666,\"#ed7953\"],[0.7777777777777778,\"#fb9f3a\"],[0.8888888888888888,\"#fdca26\"],[1.0,\"#f0f921\"]],\"type\":\"heatmap\"}],\"heatmapgl\":[{\"colorbar\":{\"outlinewidth\":0,\"ticks\":\"\"},\"colorscale\":[[0.0,\"#0d0887\"],[0.1111111111111111,\"#46039f\"],[0.2222222222222222,\"#7201a8\"],[0.3333333333333333,\"#9c179e\"],[0.4444444444444444,\"#bd3786\"],[0.5555555555555556,\"#d8576b\"],[0.6666666666666666,\"#ed7953\"],[0.7777777777777778,\"#fb9f3a\"],[0.8888888888888888,\"#fdca26\"],[1.0,\"#f0f921\"]],\"type\":\"heatmapgl\"}],\"histogram\":[{\"marker\":{\"pattern\":{\"fillmode\":\"overlay\",\"size\":10,\"solidity\":0.2}},\"type\":\"histogram\"}],\"histogram2d\":[{\"colorbar\":{\"outlinewidth\":0,\"ticks\":\"\"},\"colorscale\":[[0.0,\"#0d0887\"],[0.1111111111111111,\"#46039f\"],[0.2222222222222222,\"#7201a8\"],[0.3333333333333333,\"#9c179e\"],[0.4444444444444444,\"#bd3786\"],[0.5555555555555556,\"#d8576b\"],[0.6666666666666666,\"#ed7953\"],[0.7777777777777778,\"#fb9f3a\"],[0.8888888888888888,\"#fdca26\"],[1.0,\"#f0f921\"]],\"type\":\"histogram2d\"}],\"histogram2dcontour\":[{\"colorbar\":{\"outlinewidth\":0,\"ticks\":\"\"},\"colorscale\":[[0.0,\"#0d0887\"],[0.1111111111111111,\"#46039f\"],[0.2222222222222222,\"#7201a8\"],[0.3333333333333333,\"#9c179e\"],[0.4444444444444444,\"#bd3786\"],[0.5555555555555556,\"#d8576b\"],[0.6666666666666666,\"#ed7953\"],[0.7777777777777778,\"#fb9f3a\"],[0.8888888888888888,\"#fdca26\"],[1.0,\"#f0f921\"]],\"type\":\"histogram2dcontour\"}],\"mesh3d\":[{\"colorbar\":{\"outlinewidth\":0,\"ticks\":\"\"},\"type\":\"mesh3d\"}],\"parcoords\":[{\"line\":{\"colorbar\":{\"outlinewidth\":0,\"ticks\":\"\"}},\"type\":\"parcoords\"}],\"pie\":[{\"automargin\":true,\"type\":\"pie\"}],\"scatter\":[{\"marker\":{\"colorbar\":{\"outlinewidth\":0,\"ticks\":\"\"}},\"type\":\"scatter\"}],\"scatter3d\":[{\"line\":{\"colorbar\":{\"outlinewidth\":0,\"ticks\":\"\"}},\"marker\":{\"colorbar\":{\"outlinewidth\":0,\"ticks\":\"\"}},\"type\":\"scatter3d\"}],\"scattercarpet\":[{\"marker\":{\"colorbar\":{\"outlinewidth\":0,\"ticks\":\"\"}},\"type\":\"scattercarpet\"}],\"scattergeo\":[{\"marker\":{\"colorbar\":{\"outlinewidth\":0,\"ticks\":\"\"}},\"type\":\"scattergeo\"}],\"scattergl\":[{\"marker\":{\"colorbar\":{\"outlinewidth\":0,\"ticks\":\"\"}},\"type\":\"scattergl\"}],\"scattermapbox\":[{\"marker\":{\"colorbar\":{\"outlinewidth\":0,\"ticks\":\"\"}},\"type\":\"scattermapbox\"}],\"scatterpolar\":[{\"marker\":{\"colorbar\":{\"outlinewidth\":0,\"ticks\":\"\"}},\"type\":\"scatterpolar\"}],\"scatterpolargl\":[{\"marker\":{\"colorbar\":{\"outlinewidth\":0,\"ticks\":\"\"}},\"type\":\"scatterpolargl\"}],\"scatterternary\":[{\"marker\":{\"colorbar\":{\"outlinewidth\":0,\"ticks\":\"\"}},\"type\":\"scatterternary\"}],\"surface\":[{\"colorbar\":{\"outlinewidth\":0,\"ticks\":\"\"},\"colorscale\":[[0.0,\"#0d0887\"],[0.1111111111111111,\"#46039f\"],[0.2222222222222222,\"#7201a8\"],[0.3333333333333333,\"#9c179e\"],[0.4444444444444444,\"#bd3786\"],[0.5555555555555556,\"#d8576b\"],[0.6666666666666666,\"#ed7953\"],[0.7777777777777778,\"#fb9f3a\"],[0.8888888888888888,\"#fdca26\"],[1.0,\"#f0f921\"]],\"type\":\"surface\"}],\"table\":[{\"cells\":{\"fill\":{\"color\":\"#EBF0F8\"},\"line\":{\"color\":\"white\"}},\"header\":{\"fill\":{\"color\":\"#C8D4E3\"},\"line\":{\"color\":\"white\"}},\"type\":\"table\"}]},\"layout\":{\"annotationdefaults\":{\"arrowcolor\":\"#2a3f5f\",\"arrowhead\":0,\"arrowwidth\":1},\"autotypenumbers\":\"strict\",\"coloraxis\":{\"colorbar\":{\"outlinewidth\":0,\"ticks\":\"\"}},\"colorscale\":{\"diverging\":[[0,\"#8e0152\"],[0.1,\"#c51b7d\"],[0.2,\"#de77ae\"],[0.3,\"#f1b6da\"],[0.4,\"#fde0ef\"],[0.5,\"#f7f7f7\"],[0.6,\"#e6f5d0\"],[0.7,\"#b8e186\"],[0.8,\"#7fbc41\"],[0.9,\"#4d9221\"],[1,\"#276419\"]],\"sequential\":[[0.0,\"#0d0887\"],[0.1111111111111111,\"#46039f\"],[0.2222222222222222,\"#7201a8\"],[0.3333333333333333,\"#9c179e\"],[0.4444444444444444,\"#bd3786\"],[0.5555555555555556,\"#d8576b\"],[0.6666666666666666,\"#ed7953\"],[0.7777777777777778,\"#fb9f3a\"],[0.8888888888888888,\"#fdca26\"],[1.0,\"#f0f921\"]],\"sequentialminus\":[[0.0,\"#0d0887\"],[0.1111111111111111,\"#46039f\"],[0.2222222222222222,\"#7201a8\"],[0.3333333333333333,\"#9c179e\"],[0.4444444444444444,\"#bd3786\"],[0.5555555555555556,\"#d8576b\"],[0.6666666666666666,\"#ed7953\"],[0.7777777777777778,\"#fb9f3a\"],[0.8888888888888888,\"#fdca26\"],[1.0,\"#f0f921\"]]},\"colorway\":[\"#636efa\",\"#EF553B\",\"#00cc96\",\"#ab63fa\",\"#FFA15A\",\"#19d3f3\",\"#FF6692\",\"#B6E880\",\"#FF97FF\",\"#FECB52\"],\"font\":{\"color\":\"#2a3f5f\"},\"geo\":{\"bgcolor\":\"white\",\"lakecolor\":\"white\",\"landcolor\":\"#E5ECF6\",\"showlakes\":true,\"showland\":true,\"subunitcolor\":\"white\"},\"hoverlabel\":{\"align\":\"left\"},\"hovermode\":\"closest\",\"mapbox\":{\"style\":\"light\"},\"paper_bgcolor\":\"white\",\"plot_bgcolor\":\"#E5ECF6\",\"polar\":{\"angularaxis\":{\"gridcolor\":\"white\",\"linecolor\":\"white\",\"ticks\":\"\"},\"bgcolor\":\"#E5ECF6\",\"radialaxis\":{\"gridcolor\":\"white\",\"linecolor\":\"white\",\"ticks\":\"\"}},\"scene\":{\"xaxis\":{\"backgroundcolor\":\"#E5ECF6\",\"gridcolor\":\"white\",\"gridwidth\":2,\"linecolor\":\"white\",\"showbackground\":true,\"ticks\":\"\",\"zerolinecolor\":\"white\"},\"yaxis\":{\"backgroundcolor\":\"#E5ECF6\",\"gridcolor\":\"white\",\"gridwidth\":2,\"linecolor\":\"white\",\"showbackground\":true,\"ticks\":\"\",\"zerolinecolor\":\"white\"},\"zaxis\":{\"backgroundcolor\":\"#E5ECF6\",\"gridcolor\":\"white\",\"gridwidth\":2,\"linecolor\":\"white\",\"showbackground\":true,\"ticks\":\"\",\"zerolinecolor\":\"white\"}},\"shapedefaults\":{\"line\":{\"color\":\"#2a3f5f\"}},\"ternary\":{\"aaxis\":{\"gridcolor\":\"white\",\"linecolor\":\"white\",\"ticks\":\"\"},\"baxis\":{\"gridcolor\":\"white\",\"linecolor\":\"white\",\"ticks\":\"\"},\"bgcolor\":\"#E5ECF6\",\"caxis\":{\"gridcolor\":\"white\",\"linecolor\":\"white\",\"ticks\":\"\"}},\"title\":{\"x\":0.05},\"xaxis\":{\"automargin\":true,\"gridcolor\":\"white\",\"linecolor\":\"white\",\"ticks\":\"\",\"title\":{\"standoff\":15},\"zerolinecolor\":\"white\",\"zerolinewidth\":2},\"yaxis\":{\"automargin\":true,\"gridcolor\":\"white\",\"linecolor\":\"white\",\"ticks\":\"\",\"title\":{\"standoff\":15},\"zerolinecolor\":\"white\",\"zerolinewidth\":2}}},\"coloraxis\":{\"colorbar\":{\"title\":{\"text\":\"ave_score_nevlas\"}},\"colorscale\":[[0.0,\"rgb(103,0,31)\"],[0.1,\"rgb(178,24,43)\"],[0.2,\"rgb(214,96,77)\"],[0.3,\"rgb(244,165,130)\"],[0.4,\"rgb(253,219,199)\"],[0.5,\"rgb(247,247,247)\"],[0.6,\"rgb(209,229,240)\"],[0.7,\"rgb(146,197,222)\"],[0.8,\"rgb(67,147,195)\"],[0.9,\"rgb(33,102,172)\"],[1.0,\"rgb(5,48,97)\"]],\"cmid\":148.12743354661777},\"legend\":{\"tracegroupgap\":0},\"margin\":{\"t\":50,\"l\":25,\"r\":25,\"b\":25},\"title\":{\"text\":\"R1 Structures: Frequency and Impact on Score Relative to All Factions Average (148.13): nevlas\"}},                        {\"responsive\": true}                    ).then(function(){\n",
       "                            \n",
       "var gd = document.getElementById('9cff3112-baa4-4fd0-86e3-14cc1ae7a776');\n",
       "var x = new MutationObserver(function (mutations, observer) {{\n",
       "        var display = window.getComputedStyle(gd).display;\n",
       "        if (!display || display === 'none') {{\n",
       "            console.log([gd, 'removed!']);\n",
       "            Plotly.purge(gd);\n",
       "            observer.disconnect();\n",
       "        }}\n",
       "}});\n",
       "\n",
       "// Listen for the removal of the full notebook cells\n",
       "var notebookContainer = gd.closest('#notebook-container');\n",
       "if (notebookContainer) {{\n",
       "    x.observe(notebookContainer, {childList: true});\n",
       "}}\n",
       "\n",
       "// Listen for the clearing of the current output cell\n",
       "var outputEl = gd.closest('.output');\n",
       "if (outputEl) {{\n",
       "    x.observe(outputEl, {childList: true});\n",
       "}}\n",
       "\n",
       "                        })                };                });            </script>        </div>"
      ]
     },
     "metadata": {},
     "output_type": "display_data"
    },
    {
     "data": {
      "application/vnd.plotly.v1+json": {
       "config": {
        "plotlyServerURL": "https://plot.ly"
       },
       "data": [
        {
         "branchvalues": "total",
         "customdata": [
          [
           208,
           145.88235294117646
          ],
          [
           127.875,
           127.625
          ],
          [
           185.5,
           138.5
          ],
          [
           148.14285714285714,
           132.71428571428572
          ],
          [
           125.5,
           156
          ],
          [
           171,
           158.57142857142858
          ],
          [
           162.36363636363637,
           118.1
          ],
          [
           115,
           184
          ],
          [
           268,
           142.5
          ],
          [
           196.27272727272728,
           150.50381679389312
          ],
          [
           249.25,
           129.75
          ],
          [
           175.53333333333333,
           145.2
          ],
          [
           137.47368421052633,
           129.91666666666666
          ],
          [
           224.52173913043478,
           157.2173913043478
          ],
          [
           161,
           135
          ],
          [
           109.5,
           131.5
          ],
          [
           138.32258064516128,
           126.90322580645162
          ],
          [
           134.51724137931035,
           133.05172413793105
          ],
          [
           174.4,
           132.2
          ],
          [
           119,
           144
          ],
          [
           262.1666666666667,
           149
          ],
          [
           305.3333333333333,
           191.33333333333334
          ],
          [
           232.69354838709677,
           159.7912087912088
          ],
          [
           180.81159420289856,
           139.89705882352942
          ],
          [
           170.54054054054055,
           146.0818181818182
          ],
          [
           234.25,
           167.75
          ],
          [
           175.7,
           160.3
          ],
          [
           154.3695652173913,
           138.26666666666668
          ],
          [
           201.6161616161616,
           153.97979797979798
          ],
          [
           157.42857142857142,
           147
          ],
          [
           112,
           171
          ],
          [
           244.8125,
           162.6
          ],
          [
           131.82758620689654,
           128.85714285714286
          ],
          [
           181.54135338345864,
           145.46564885496184
          ],
          [
           141.8,
           118.2
          ],
          [
           189,
           141.4
          ],
          [
           249.2,
           166
          ],
          [
           149.1818181818182,
           142.45454545454547
          ],
          [
           205.70348837209303,
           151.69642857142858
          ],
          [
           15.5,
           128.5
          ],
          [
           260.1764705882353,
           168.7941176470588
          ],
          [
           377,
           223
          ],
          [
           289.3157894736842,
           174.1578947368421
          ],
          [
           261,
           189
          ],
          [
           "(?)",
           136.2126131848088
          ],
          [
           "(?)",
           156.1494712885094
          ],
          [
           "(?)",
           159.875
          ],
          [
           "(?)",
           151.34554687764833
          ],
          [
           15.5,
           128.5
          ],
          [
           "(?)",
           134.45483870967743
          ],
          [
           "(?)",
           149.39945072958142
          ]
         ],
         "domain": {
          "x": [
           0,
           1
          ],
          "y": [
           0,
           1
          ]
         },
         "hovertemplate": "labels=%{label}<br>class_counts=%{value}<br>parent=%{parent}<br>id=%{id}<br>ave_elo_hadsch-hallas=%{customdata[0]}<br>ave_score_hadsch-hallas=%{color}<extra></extra>",
         "ids": [
          "R1 Structs/PI/ 0-m_0-ts_1-lab_1-pi_0-ac1_0-ac2",
          "R1 Structs/lab/ 0-m_0-ts_2-lab_0-pi_0-ac1_0-ac2",
          "R1 Structs/ac1/ 0-m_1-ts_0-lab_0-pi_1-ac1_0-ac2",
          "R1 Structs/lab/ 0-m_1-ts_1-lab_0-pi_0-ac1_0-ac2",
          "R1 Structs/PI/ 0-m_2-ts_0-lab_1-pi_0-ac1_0-ac2",
          "R1 Structs/lab/ 0-m_2-ts_1-lab_0-pi_0-ac1_0-ac2",
          "R1 Structs/ts/ 0-m_3-ts_0-lab_0-pi_0-ac1_0-ac2",
          "R1 Structs/ts/ 0-m_4-ts_0-lab_0-pi_0-ac1_0-ac2",
          "R1 Structs/ac2/ 1-m_0-ts_0-lab_0-pi_0-ac1_1-ac2",
          "R1 Structs/ac1/ 1-m_0-ts_0-lab_0-pi_1-ac1_0-ac2",
          "R1 Structs/PI/ 1-m_0-ts_0-lab_1-pi_0-ac1_0-ac2",
          "R1 Structs/lab/ 1-m_0-ts_1-lab_0-pi_0-ac1_0-ac2",
          "R1 Structs/PI/ 1-m_0-ts_1-lab_1-pi_0-ac1_0-ac2",
          "R1 Structs/lab/ 1-m_0-ts_2-lab_0-pi_0-ac1_0-ac2",
          "R1 Structs/ac2/ 1-m_1-ts_0-lab_0-pi_0-ac1_1-ac2",
          "R1 Structs/ac1/ 1-m_1-ts_0-lab_0-pi_1-ac1_0-ac2",
          "R1 Structs/PI/ 1-m_1-ts_0-lab_1-pi_0-ac1_0-ac2",
          "R1 Structs/lab/ 1-m_1-ts_1-lab_0-pi_0-ac1_0-ac2",
          "R1 Structs/PI/ 1-m_2-ts_0-lab_1-pi_0-ac1_0-ac2",
          "R1 Structs/lab/ 1-m_2-ts_1-lab_0-pi_0-ac1_0-ac2",
          "R1 Structs/ts/ 1-m_3-ts_0-lab_0-pi_0-ac1_0-ac2",
          "R1 Structs/ac2/ 2-m_0-ts_0-lab_0-pi_0-ac1_1-ac2",
          "R1 Structs/ac1/ 2-m_0-ts_0-lab_0-pi_1-ac1_0-ac2",
          "R1 Structs/PI/ 2-m_0-ts_0-lab_1-pi_0-ac1_0-ac2",
          "R1 Structs/lab/ 2-m_0-ts_1-lab_0-pi_0-ac1_0-ac2",
          "R1 Structs/PI/ 2-m_0-ts_1-lab_1-pi_0-ac1_0-ac2",
          "R1 Structs/lab/ 2-m_0-ts_2-lab_0-pi_0-ac1_0-ac2",
          "R1 Structs/PI/ 2-m_1-ts_0-lab_1-pi_0-ac1_0-ac2",
          "R1 Structs/lab/ 2-m_1-ts_1-lab_0-pi_0-ac1_0-ac2",
          "R1 Structs/ts/ 2-m_2-ts_0-lab_0-pi_0-ac1_0-ac2",
          "R1 Structs/ts/ 2-m_3-ts_0-lab_0-pi_0-ac1_0-ac2",
          "R1 Structs/ac1/ 3-m_0-ts_0-lab_0-pi_1-ac1_0-ac2",
          "R1 Structs/PI/ 3-m_0-ts_0-lab_1-pi_0-ac1_0-ac2",
          "R1 Structs/lab/ 3-m_0-ts_1-lab_0-pi_0-ac1_0-ac2",
          "R1 Structs/ts/ 3-m_1-ts_0-lab_0-pi_0-ac1_0-ac2",
          "R1 Structs/lab/ 3-m_1-ts_1-lab_0-pi_0-ac1_0-ac2",
          "R1 Structs/ac1/ 4-m_0-ts_0-lab_0-pi_1-ac1_0-ac2",
          "R1 Structs/PI/ 4-m_0-ts_0-lab_1-pi_0-ac1_0-ac2",
          "R1 Structs/lab/ 4-m_0-ts_1-lab_0-pi_0-ac1_0-ac2",
          "R1 Structs/m/ 5-m_0-ts_0-lab_0-pi_0-ac1_0-ac2",
          "R1 Structs/lab/ 5-m_0-ts_1-lab_0-pi_0-ac1_0-ac2",
          "R1 Structs/lab/ 5-m_1-ts_1-lab_0-pi_0-ac1_0-ac2",
          "R1 Structs/lab/ 6-m_0-ts_1-lab_0-pi_0-ac1_0-ac2",
          "R1 Structs/lab/ 7-m_0-ts_1-lab_0-pi_0-ac1_0-ac2",
          "R1 Structs/PI",
          "R1 Structs/ac1",
          "R1 Structs/ac2",
          "R1 Structs/lab",
          "R1 Structs/m",
          "R1 Structs/ts",
          "R1 Structs"
         ],
         "labels": [
          " 0-m_0-ts_1-lab_1-pi_0-ac1_0-ac2",
          " 0-m_0-ts_2-lab_0-pi_0-ac1_0-ac2",
          " 0-m_1-ts_0-lab_0-pi_1-ac1_0-ac2",
          " 0-m_1-ts_1-lab_0-pi_0-ac1_0-ac2",
          " 0-m_2-ts_0-lab_1-pi_0-ac1_0-ac2",
          " 0-m_2-ts_1-lab_0-pi_0-ac1_0-ac2",
          " 0-m_3-ts_0-lab_0-pi_0-ac1_0-ac2",
          " 0-m_4-ts_0-lab_0-pi_0-ac1_0-ac2",
          " 1-m_0-ts_0-lab_0-pi_0-ac1_1-ac2",
          " 1-m_0-ts_0-lab_0-pi_1-ac1_0-ac2",
          " 1-m_0-ts_0-lab_1-pi_0-ac1_0-ac2",
          " 1-m_0-ts_1-lab_0-pi_0-ac1_0-ac2",
          " 1-m_0-ts_1-lab_1-pi_0-ac1_0-ac2",
          " 1-m_0-ts_2-lab_0-pi_0-ac1_0-ac2",
          " 1-m_1-ts_0-lab_0-pi_0-ac1_1-ac2",
          " 1-m_1-ts_0-lab_0-pi_1-ac1_0-ac2",
          " 1-m_1-ts_0-lab_1-pi_0-ac1_0-ac2",
          " 1-m_1-ts_1-lab_0-pi_0-ac1_0-ac2",
          " 1-m_2-ts_0-lab_1-pi_0-ac1_0-ac2",
          " 1-m_2-ts_1-lab_0-pi_0-ac1_0-ac2",
          " 1-m_3-ts_0-lab_0-pi_0-ac1_0-ac2",
          " 2-m_0-ts_0-lab_0-pi_0-ac1_1-ac2",
          " 2-m_0-ts_0-lab_0-pi_1-ac1_0-ac2",
          " 2-m_0-ts_0-lab_1-pi_0-ac1_0-ac2",
          " 2-m_0-ts_1-lab_0-pi_0-ac1_0-ac2",
          " 2-m_0-ts_1-lab_1-pi_0-ac1_0-ac2",
          " 2-m_0-ts_2-lab_0-pi_0-ac1_0-ac2",
          " 2-m_1-ts_0-lab_1-pi_0-ac1_0-ac2",
          " 2-m_1-ts_1-lab_0-pi_0-ac1_0-ac2",
          " 2-m_2-ts_0-lab_0-pi_0-ac1_0-ac2",
          " 2-m_3-ts_0-lab_0-pi_0-ac1_0-ac2",
          " 3-m_0-ts_0-lab_0-pi_1-ac1_0-ac2",
          " 3-m_0-ts_0-lab_1-pi_0-ac1_0-ac2",
          " 3-m_0-ts_1-lab_0-pi_0-ac1_0-ac2",
          " 3-m_1-ts_0-lab_0-pi_0-ac1_0-ac2",
          " 3-m_1-ts_1-lab_0-pi_0-ac1_0-ac2",
          " 4-m_0-ts_0-lab_0-pi_1-ac1_0-ac2",
          " 4-m_0-ts_0-lab_1-pi_0-ac1_0-ac2",
          " 4-m_0-ts_1-lab_0-pi_0-ac1_0-ac2",
          " 5-m_0-ts_0-lab_0-pi_0-ac1_0-ac2",
          " 5-m_0-ts_1-lab_0-pi_0-ac1_0-ac2",
          " 5-m_1-ts_1-lab_0-pi_0-ac1_0-ac2",
          " 6-m_0-ts_1-lab_0-pi_0-ac1_0-ac2",
          " 7-m_0-ts_1-lab_0-pi_0-ac1_0-ac2",
          "PI",
          "ac1",
          "ac2",
          "lab",
          "m",
          "ts",
          "R1 Structs"
         ],
         "marker": {
          "coloraxis": "coloraxis",
          "colors": [
           145.88235294117646,
           127.625,
           138.5,
           132.71428571428572,
           156,
           158.57142857142858,
           118.1,
           184,
           142.5,
           150.50381679389312,
           129.75,
           145.2,
           129.91666666666666,
           157.2173913043478,
           135,
           131.5,
           126.90322580645162,
           133.05172413793105,
           132.2,
           144,
           149,
           191.33333333333334,
           159.7912087912088,
           139.89705882352942,
           146.0818181818182,
           167.75,
           160.3,
           138.26666666666668,
           153.97979797979798,
           147,
           171,
           162.6,
           128.85714285714286,
           145.46564885496184,
           118.2,
           141.4,
           166,
           142.45454545454547,
           151.69642857142858,
           128.5,
           168.7941176470588,
           223,
           174.1578947368421,
           189,
           136.2126131848088,
           156.1494712885094,
           159.875,
           151.34554687764833,
           128.5,
           134.45483870967743,
           149.39945072958142
          ]
         },
         "name": "",
         "parents": [
          "R1 Structs/PI",
          "R1 Structs/lab",
          "R1 Structs/ac1",
          "R1 Structs/lab",
          "R1 Structs/PI",
          "R1 Structs/lab",
          "R1 Structs/ts",
          "R1 Structs/ts",
          "R1 Structs/ac2",
          "R1 Structs/ac1",
          "R1 Structs/PI",
          "R1 Structs/lab",
          "R1 Structs/PI",
          "R1 Structs/lab",
          "R1 Structs/ac2",
          "R1 Structs/ac1",
          "R1 Structs/PI",
          "R1 Structs/lab",
          "R1 Structs/PI",
          "R1 Structs/lab",
          "R1 Structs/ts",
          "R1 Structs/ac2",
          "R1 Structs/ac1",
          "R1 Structs/PI",
          "R1 Structs/lab",
          "R1 Structs/PI",
          "R1 Structs/lab",
          "R1 Structs/PI",
          "R1 Structs/lab",
          "R1 Structs/ts",
          "R1 Structs/ts",
          "R1 Structs/ac1",
          "R1 Structs/PI",
          "R1 Structs/lab",
          "R1 Structs/ts",
          "R1 Structs/lab",
          "R1 Structs/ac1",
          "R1 Structs/PI",
          "R1 Structs/lab",
          "R1 Structs/m",
          "R1 Structs/lab",
          "R1 Structs/lab",
          "R1 Structs/lab",
          "R1 Structs/lab",
          "R1 Structs",
          "R1 Structs",
          "R1 Structs",
          "R1 Structs",
          "R1 Structs",
          "R1 Structs",
          ""
         ],
         "type": "treemap",
         "values": [
          17,
          8,
          2,
          7,
          4,
          7,
          11,
          1,
          4,
          132,
          4,
          15,
          38,
          23,
          1,
          2,
          31,
          58,
          5,
          4,
          6,
          3,
          186,
          69,
          111,
          4,
          10,
          46,
          99,
          7,
          1,
          16,
          29,
          133,
          5,
          5,
          5,
          11,
          172,
          2,
          102,
          1,
          19,
          1,
          258,
          343,
          8,
          775,
          2,
          31,
          1417
         ]
        }
       ],
       "layout": {
        "coloraxis": {
         "cmid": 148.12743354661777,
         "colorbar": {
          "title": {
           "text": "ave_score_hadsch-hallas"
          }
         },
         "colorscale": [
          [
           0,
           "rgb(103,0,31)"
          ],
          [
           0.1,
           "rgb(178,24,43)"
          ],
          [
           0.2,
           "rgb(214,96,77)"
          ],
          [
           0.3,
           "rgb(244,165,130)"
          ],
          [
           0.4,
           "rgb(253,219,199)"
          ],
          [
           0.5,
           "rgb(247,247,247)"
          ],
          [
           0.6,
           "rgb(209,229,240)"
          ],
          [
           0.7,
           "rgb(146,197,222)"
          ],
          [
           0.8,
           "rgb(67,147,195)"
          ],
          [
           0.9,
           "rgb(33,102,172)"
          ],
          [
           1,
           "rgb(5,48,97)"
          ]
         ]
        },
        "legend": {
         "tracegroupgap": 0
        },
        "margin": {
         "b": 25,
         "l": 25,
         "r": 25,
         "t": 50
        },
        "template": {
         "data": {
          "bar": [
           {
            "error_x": {
             "color": "#2a3f5f"
            },
            "error_y": {
             "color": "#2a3f5f"
            },
            "marker": {
             "line": {
              "color": "#E5ECF6",
              "width": 0.5
             },
             "pattern": {
              "fillmode": "overlay",
              "size": 10,
              "solidity": 0.2
             }
            },
            "type": "bar"
           }
          ],
          "barpolar": [
           {
            "marker": {
             "line": {
              "color": "#E5ECF6",
              "width": 0.5
             },
             "pattern": {
              "fillmode": "overlay",
              "size": 10,
              "solidity": 0.2
             }
            },
            "type": "barpolar"
           }
          ],
          "carpet": [
           {
            "aaxis": {
             "endlinecolor": "#2a3f5f",
             "gridcolor": "white",
             "linecolor": "white",
             "minorgridcolor": "white",
             "startlinecolor": "#2a3f5f"
            },
            "baxis": {
             "endlinecolor": "#2a3f5f",
             "gridcolor": "white",
             "linecolor": "white",
             "minorgridcolor": "white",
             "startlinecolor": "#2a3f5f"
            },
            "type": "carpet"
           }
          ],
          "choropleth": [
           {
            "colorbar": {
             "outlinewidth": 0,
             "ticks": ""
            },
            "type": "choropleth"
           }
          ],
          "contour": [
           {
            "colorbar": {
             "outlinewidth": 0,
             "ticks": ""
            },
            "colorscale": [
             [
              0,
              "#0d0887"
             ],
             [
              0.1111111111111111,
              "#46039f"
             ],
             [
              0.2222222222222222,
              "#7201a8"
             ],
             [
              0.3333333333333333,
              "#9c179e"
             ],
             [
              0.4444444444444444,
              "#bd3786"
             ],
             [
              0.5555555555555556,
              "#d8576b"
             ],
             [
              0.6666666666666666,
              "#ed7953"
             ],
             [
              0.7777777777777778,
              "#fb9f3a"
             ],
             [
              0.8888888888888888,
              "#fdca26"
             ],
             [
              1,
              "#f0f921"
             ]
            ],
            "type": "contour"
           }
          ],
          "contourcarpet": [
           {
            "colorbar": {
             "outlinewidth": 0,
             "ticks": ""
            },
            "type": "contourcarpet"
           }
          ],
          "heatmap": [
           {
            "colorbar": {
             "outlinewidth": 0,
             "ticks": ""
            },
            "colorscale": [
             [
              0,
              "#0d0887"
             ],
             [
              0.1111111111111111,
              "#46039f"
             ],
             [
              0.2222222222222222,
              "#7201a8"
             ],
             [
              0.3333333333333333,
              "#9c179e"
             ],
             [
              0.4444444444444444,
              "#bd3786"
             ],
             [
              0.5555555555555556,
              "#d8576b"
             ],
             [
              0.6666666666666666,
              "#ed7953"
             ],
             [
              0.7777777777777778,
              "#fb9f3a"
             ],
             [
              0.8888888888888888,
              "#fdca26"
             ],
             [
              1,
              "#f0f921"
             ]
            ],
            "type": "heatmap"
           }
          ],
          "heatmapgl": [
           {
            "colorbar": {
             "outlinewidth": 0,
             "ticks": ""
            },
            "colorscale": [
             [
              0,
              "#0d0887"
             ],
             [
              0.1111111111111111,
              "#46039f"
             ],
             [
              0.2222222222222222,
              "#7201a8"
             ],
             [
              0.3333333333333333,
              "#9c179e"
             ],
             [
              0.4444444444444444,
              "#bd3786"
             ],
             [
              0.5555555555555556,
              "#d8576b"
             ],
             [
              0.6666666666666666,
              "#ed7953"
             ],
             [
              0.7777777777777778,
              "#fb9f3a"
             ],
             [
              0.8888888888888888,
              "#fdca26"
             ],
             [
              1,
              "#f0f921"
             ]
            ],
            "type": "heatmapgl"
           }
          ],
          "histogram": [
           {
            "marker": {
             "pattern": {
              "fillmode": "overlay",
              "size": 10,
              "solidity": 0.2
             }
            },
            "type": "histogram"
           }
          ],
          "histogram2d": [
           {
            "colorbar": {
             "outlinewidth": 0,
             "ticks": ""
            },
            "colorscale": [
             [
              0,
              "#0d0887"
             ],
             [
              0.1111111111111111,
              "#46039f"
             ],
             [
              0.2222222222222222,
              "#7201a8"
             ],
             [
              0.3333333333333333,
              "#9c179e"
             ],
             [
              0.4444444444444444,
              "#bd3786"
             ],
             [
              0.5555555555555556,
              "#d8576b"
             ],
             [
              0.6666666666666666,
              "#ed7953"
             ],
             [
              0.7777777777777778,
              "#fb9f3a"
             ],
             [
              0.8888888888888888,
              "#fdca26"
             ],
             [
              1,
              "#f0f921"
             ]
            ],
            "type": "histogram2d"
           }
          ],
          "histogram2dcontour": [
           {
            "colorbar": {
             "outlinewidth": 0,
             "ticks": ""
            },
            "colorscale": [
             [
              0,
              "#0d0887"
             ],
             [
              0.1111111111111111,
              "#46039f"
             ],
             [
              0.2222222222222222,
              "#7201a8"
             ],
             [
              0.3333333333333333,
              "#9c179e"
             ],
             [
              0.4444444444444444,
              "#bd3786"
             ],
             [
              0.5555555555555556,
              "#d8576b"
             ],
             [
              0.6666666666666666,
              "#ed7953"
             ],
             [
              0.7777777777777778,
              "#fb9f3a"
             ],
             [
              0.8888888888888888,
              "#fdca26"
             ],
             [
              1,
              "#f0f921"
             ]
            ],
            "type": "histogram2dcontour"
           }
          ],
          "mesh3d": [
           {
            "colorbar": {
             "outlinewidth": 0,
             "ticks": ""
            },
            "type": "mesh3d"
           }
          ],
          "parcoords": [
           {
            "line": {
             "colorbar": {
              "outlinewidth": 0,
              "ticks": ""
             }
            },
            "type": "parcoords"
           }
          ],
          "pie": [
           {
            "automargin": true,
            "type": "pie"
           }
          ],
          "scatter": [
           {
            "marker": {
             "colorbar": {
              "outlinewidth": 0,
              "ticks": ""
             }
            },
            "type": "scatter"
           }
          ],
          "scatter3d": [
           {
            "line": {
             "colorbar": {
              "outlinewidth": 0,
              "ticks": ""
             }
            },
            "marker": {
             "colorbar": {
              "outlinewidth": 0,
              "ticks": ""
             }
            },
            "type": "scatter3d"
           }
          ],
          "scattercarpet": [
           {
            "marker": {
             "colorbar": {
              "outlinewidth": 0,
              "ticks": ""
             }
            },
            "type": "scattercarpet"
           }
          ],
          "scattergeo": [
           {
            "marker": {
             "colorbar": {
              "outlinewidth": 0,
              "ticks": ""
             }
            },
            "type": "scattergeo"
           }
          ],
          "scattergl": [
           {
            "marker": {
             "colorbar": {
              "outlinewidth": 0,
              "ticks": ""
             }
            },
            "type": "scattergl"
           }
          ],
          "scattermapbox": [
           {
            "marker": {
             "colorbar": {
              "outlinewidth": 0,
              "ticks": ""
             }
            },
            "type": "scattermapbox"
           }
          ],
          "scatterpolar": [
           {
            "marker": {
             "colorbar": {
              "outlinewidth": 0,
              "ticks": ""
             }
            },
            "type": "scatterpolar"
           }
          ],
          "scatterpolargl": [
           {
            "marker": {
             "colorbar": {
              "outlinewidth": 0,
              "ticks": ""
             }
            },
            "type": "scatterpolargl"
           }
          ],
          "scatterternary": [
           {
            "marker": {
             "colorbar": {
              "outlinewidth": 0,
              "ticks": ""
             }
            },
            "type": "scatterternary"
           }
          ],
          "surface": [
           {
            "colorbar": {
             "outlinewidth": 0,
             "ticks": ""
            },
            "colorscale": [
             [
              0,
              "#0d0887"
             ],
             [
              0.1111111111111111,
              "#46039f"
             ],
             [
              0.2222222222222222,
              "#7201a8"
             ],
             [
              0.3333333333333333,
              "#9c179e"
             ],
             [
              0.4444444444444444,
              "#bd3786"
             ],
             [
              0.5555555555555556,
              "#d8576b"
             ],
             [
              0.6666666666666666,
              "#ed7953"
             ],
             [
              0.7777777777777778,
              "#fb9f3a"
             ],
             [
              0.8888888888888888,
              "#fdca26"
             ],
             [
              1,
              "#f0f921"
             ]
            ],
            "type": "surface"
           }
          ],
          "table": [
           {
            "cells": {
             "fill": {
              "color": "#EBF0F8"
             },
             "line": {
              "color": "white"
             }
            },
            "header": {
             "fill": {
              "color": "#C8D4E3"
             },
             "line": {
              "color": "white"
             }
            },
            "type": "table"
           }
          ]
         },
         "layout": {
          "annotationdefaults": {
           "arrowcolor": "#2a3f5f",
           "arrowhead": 0,
           "arrowwidth": 1
          },
          "autotypenumbers": "strict",
          "coloraxis": {
           "colorbar": {
            "outlinewidth": 0,
            "ticks": ""
           }
          },
          "colorscale": {
           "diverging": [
            [
             0,
             "#8e0152"
            ],
            [
             0.1,
             "#c51b7d"
            ],
            [
             0.2,
             "#de77ae"
            ],
            [
             0.3,
             "#f1b6da"
            ],
            [
             0.4,
             "#fde0ef"
            ],
            [
             0.5,
             "#f7f7f7"
            ],
            [
             0.6,
             "#e6f5d0"
            ],
            [
             0.7,
             "#b8e186"
            ],
            [
             0.8,
             "#7fbc41"
            ],
            [
             0.9,
             "#4d9221"
            ],
            [
             1,
             "#276419"
            ]
           ],
           "sequential": [
            [
             0,
             "#0d0887"
            ],
            [
             0.1111111111111111,
             "#46039f"
            ],
            [
             0.2222222222222222,
             "#7201a8"
            ],
            [
             0.3333333333333333,
             "#9c179e"
            ],
            [
             0.4444444444444444,
             "#bd3786"
            ],
            [
             0.5555555555555556,
             "#d8576b"
            ],
            [
             0.6666666666666666,
             "#ed7953"
            ],
            [
             0.7777777777777778,
             "#fb9f3a"
            ],
            [
             0.8888888888888888,
             "#fdca26"
            ],
            [
             1,
             "#f0f921"
            ]
           ],
           "sequentialminus": [
            [
             0,
             "#0d0887"
            ],
            [
             0.1111111111111111,
             "#46039f"
            ],
            [
             0.2222222222222222,
             "#7201a8"
            ],
            [
             0.3333333333333333,
             "#9c179e"
            ],
            [
             0.4444444444444444,
             "#bd3786"
            ],
            [
             0.5555555555555556,
             "#d8576b"
            ],
            [
             0.6666666666666666,
             "#ed7953"
            ],
            [
             0.7777777777777778,
             "#fb9f3a"
            ],
            [
             0.8888888888888888,
             "#fdca26"
            ],
            [
             1,
             "#f0f921"
            ]
           ]
          },
          "colorway": [
           "#636efa",
           "#EF553B",
           "#00cc96",
           "#ab63fa",
           "#FFA15A",
           "#19d3f3",
           "#FF6692",
           "#B6E880",
           "#FF97FF",
           "#FECB52"
          ],
          "font": {
           "color": "#2a3f5f"
          },
          "geo": {
           "bgcolor": "white",
           "lakecolor": "white",
           "landcolor": "#E5ECF6",
           "showlakes": true,
           "showland": true,
           "subunitcolor": "white"
          },
          "hoverlabel": {
           "align": "left"
          },
          "hovermode": "closest",
          "mapbox": {
           "style": "light"
          },
          "paper_bgcolor": "white",
          "plot_bgcolor": "#E5ECF6",
          "polar": {
           "angularaxis": {
            "gridcolor": "white",
            "linecolor": "white",
            "ticks": ""
           },
           "bgcolor": "#E5ECF6",
           "radialaxis": {
            "gridcolor": "white",
            "linecolor": "white",
            "ticks": ""
           }
          },
          "scene": {
           "xaxis": {
            "backgroundcolor": "#E5ECF6",
            "gridcolor": "white",
            "gridwidth": 2,
            "linecolor": "white",
            "showbackground": true,
            "ticks": "",
            "zerolinecolor": "white"
           },
           "yaxis": {
            "backgroundcolor": "#E5ECF6",
            "gridcolor": "white",
            "gridwidth": 2,
            "linecolor": "white",
            "showbackground": true,
            "ticks": "",
            "zerolinecolor": "white"
           },
           "zaxis": {
            "backgroundcolor": "#E5ECF6",
            "gridcolor": "white",
            "gridwidth": 2,
            "linecolor": "white",
            "showbackground": true,
            "ticks": "",
            "zerolinecolor": "white"
           }
          },
          "shapedefaults": {
           "line": {
            "color": "#2a3f5f"
           }
          },
          "ternary": {
           "aaxis": {
            "gridcolor": "white",
            "linecolor": "white",
            "ticks": ""
           },
           "baxis": {
            "gridcolor": "white",
            "linecolor": "white",
            "ticks": ""
           },
           "bgcolor": "#E5ECF6",
           "caxis": {
            "gridcolor": "white",
            "linecolor": "white",
            "ticks": ""
           }
          },
          "title": {
           "x": 0.05
          },
          "xaxis": {
           "automargin": true,
           "gridcolor": "white",
           "linecolor": "white",
           "ticks": "",
           "title": {
            "standoff": 15
           },
           "zerolinecolor": "white",
           "zerolinewidth": 2
          },
          "yaxis": {
           "automargin": true,
           "gridcolor": "white",
           "linecolor": "white",
           "ticks": "",
           "title": {
            "standoff": 15
           },
           "zerolinecolor": "white",
           "zerolinewidth": 2
          }
         }
        },
        "title": {
         "text": "R1 Structures: Frequency and Impact on Score Relative to All Factions Average (148.13): hadsch-hallas"
        }
       }
      },
      "text/html": [
       "<div>                            <div id=\"eaa9b29f-a7d9-473b-83db-9992d2c2cdbd\" class=\"plotly-graph-div\" style=\"height:525px; width:100%;\"></div>            <script type=\"text/javascript\">                require([\"plotly\"], function(Plotly) {                    window.PLOTLYENV=window.PLOTLYENV || {};                                    if (document.getElementById(\"eaa9b29f-a7d9-473b-83db-9992d2c2cdbd\")) {                    Plotly.newPlot(                        \"eaa9b29f-a7d9-473b-83db-9992d2c2cdbd\",                        [{\"branchvalues\":\"total\",\"customdata\":[[208.0,145.88235294117646],[127.875,127.625],[185.5,138.5],[148.14285714285714,132.71428571428572],[125.5,156.0],[171.0,158.57142857142858],[162.36363636363637,118.1],[115.0,184.0],[268.0,142.5],[196.27272727272728,150.50381679389312],[249.25,129.75],[175.53333333333333,145.2],[137.47368421052633,129.91666666666666],[224.52173913043478,157.2173913043478],[161.0,135.0],[109.5,131.5],[138.32258064516128,126.90322580645162],[134.51724137931035,133.05172413793105],[174.4,132.2],[119.0,144.0],[262.1666666666667,149.0],[305.3333333333333,191.33333333333334],[232.69354838709677,159.7912087912088],[180.81159420289856,139.89705882352942],[170.54054054054055,146.0818181818182],[234.25,167.75],[175.7,160.3],[154.3695652173913,138.26666666666668],[201.6161616161616,153.97979797979798],[157.42857142857142,147.0],[112.0,171.0],[244.8125,162.6],[131.82758620689654,128.85714285714286],[181.54135338345864,145.46564885496184],[141.8,118.2],[189.0,141.4],[249.2,166.0],[149.1818181818182,142.45454545454547],[205.70348837209303,151.69642857142858],[15.5,128.5],[260.1764705882353,168.7941176470588],[377.0,223.0],[289.3157894736842,174.1578947368421],[261.0,189.0],[\"(?)\",136.2126131848088],[\"(?)\",156.1494712885094],[\"(?)\",159.875],[\"(?)\",151.34554687764833],[15.5,128.5],[\"(?)\",134.45483870967743],[\"(?)\",149.39945072958142]],\"domain\":{\"x\":[0.0,1.0],\"y\":[0.0,1.0]},\"hovertemplate\":\"labels=%{label}<br>class_counts=%{value}<br>parent=%{parent}<br>id=%{id}<br>ave_elo_hadsch-hallas=%{customdata[0]}<br>ave_score_hadsch-hallas=%{color}<extra></extra>\",\"ids\":[\"R1 Structs/PI/ 0-m_0-ts_1-lab_1-pi_0-ac1_0-ac2\",\"R1 Structs/lab/ 0-m_0-ts_2-lab_0-pi_0-ac1_0-ac2\",\"R1 Structs/ac1/ 0-m_1-ts_0-lab_0-pi_1-ac1_0-ac2\",\"R1 Structs/lab/ 0-m_1-ts_1-lab_0-pi_0-ac1_0-ac2\",\"R1 Structs/PI/ 0-m_2-ts_0-lab_1-pi_0-ac1_0-ac2\",\"R1 Structs/lab/ 0-m_2-ts_1-lab_0-pi_0-ac1_0-ac2\",\"R1 Structs/ts/ 0-m_3-ts_0-lab_0-pi_0-ac1_0-ac2\",\"R1 Structs/ts/ 0-m_4-ts_0-lab_0-pi_0-ac1_0-ac2\",\"R1 Structs/ac2/ 1-m_0-ts_0-lab_0-pi_0-ac1_1-ac2\",\"R1 Structs/ac1/ 1-m_0-ts_0-lab_0-pi_1-ac1_0-ac2\",\"R1 Structs/PI/ 1-m_0-ts_0-lab_1-pi_0-ac1_0-ac2\",\"R1 Structs/lab/ 1-m_0-ts_1-lab_0-pi_0-ac1_0-ac2\",\"R1 Structs/PI/ 1-m_0-ts_1-lab_1-pi_0-ac1_0-ac2\",\"R1 Structs/lab/ 1-m_0-ts_2-lab_0-pi_0-ac1_0-ac2\",\"R1 Structs/ac2/ 1-m_1-ts_0-lab_0-pi_0-ac1_1-ac2\",\"R1 Structs/ac1/ 1-m_1-ts_0-lab_0-pi_1-ac1_0-ac2\",\"R1 Structs/PI/ 1-m_1-ts_0-lab_1-pi_0-ac1_0-ac2\",\"R1 Structs/lab/ 1-m_1-ts_1-lab_0-pi_0-ac1_0-ac2\",\"R1 Structs/PI/ 1-m_2-ts_0-lab_1-pi_0-ac1_0-ac2\",\"R1 Structs/lab/ 1-m_2-ts_1-lab_0-pi_0-ac1_0-ac2\",\"R1 Structs/ts/ 1-m_3-ts_0-lab_0-pi_0-ac1_0-ac2\",\"R1 Structs/ac2/ 2-m_0-ts_0-lab_0-pi_0-ac1_1-ac2\",\"R1 Structs/ac1/ 2-m_0-ts_0-lab_0-pi_1-ac1_0-ac2\",\"R1 Structs/PI/ 2-m_0-ts_0-lab_1-pi_0-ac1_0-ac2\",\"R1 Structs/lab/ 2-m_0-ts_1-lab_0-pi_0-ac1_0-ac2\",\"R1 Structs/PI/ 2-m_0-ts_1-lab_1-pi_0-ac1_0-ac2\",\"R1 Structs/lab/ 2-m_0-ts_2-lab_0-pi_0-ac1_0-ac2\",\"R1 Structs/PI/ 2-m_1-ts_0-lab_1-pi_0-ac1_0-ac2\",\"R1 Structs/lab/ 2-m_1-ts_1-lab_0-pi_0-ac1_0-ac2\",\"R1 Structs/ts/ 2-m_2-ts_0-lab_0-pi_0-ac1_0-ac2\",\"R1 Structs/ts/ 2-m_3-ts_0-lab_0-pi_0-ac1_0-ac2\",\"R1 Structs/ac1/ 3-m_0-ts_0-lab_0-pi_1-ac1_0-ac2\",\"R1 Structs/PI/ 3-m_0-ts_0-lab_1-pi_0-ac1_0-ac2\",\"R1 Structs/lab/ 3-m_0-ts_1-lab_0-pi_0-ac1_0-ac2\",\"R1 Structs/ts/ 3-m_1-ts_0-lab_0-pi_0-ac1_0-ac2\",\"R1 Structs/lab/ 3-m_1-ts_1-lab_0-pi_0-ac1_0-ac2\",\"R1 Structs/ac1/ 4-m_0-ts_0-lab_0-pi_1-ac1_0-ac2\",\"R1 Structs/PI/ 4-m_0-ts_0-lab_1-pi_0-ac1_0-ac2\",\"R1 Structs/lab/ 4-m_0-ts_1-lab_0-pi_0-ac1_0-ac2\",\"R1 Structs/m/ 5-m_0-ts_0-lab_0-pi_0-ac1_0-ac2\",\"R1 Structs/lab/ 5-m_0-ts_1-lab_0-pi_0-ac1_0-ac2\",\"R1 Structs/lab/ 5-m_1-ts_1-lab_0-pi_0-ac1_0-ac2\",\"R1 Structs/lab/ 6-m_0-ts_1-lab_0-pi_0-ac1_0-ac2\",\"R1 Structs/lab/ 7-m_0-ts_1-lab_0-pi_0-ac1_0-ac2\",\"R1 Structs/PI\",\"R1 Structs/ac1\",\"R1 Structs/ac2\",\"R1 Structs/lab\",\"R1 Structs/m\",\"R1 Structs/ts\",\"R1 Structs\"],\"labels\":[\" 0-m_0-ts_1-lab_1-pi_0-ac1_0-ac2\",\" 0-m_0-ts_2-lab_0-pi_0-ac1_0-ac2\",\" 0-m_1-ts_0-lab_0-pi_1-ac1_0-ac2\",\" 0-m_1-ts_1-lab_0-pi_0-ac1_0-ac2\",\" 0-m_2-ts_0-lab_1-pi_0-ac1_0-ac2\",\" 0-m_2-ts_1-lab_0-pi_0-ac1_0-ac2\",\" 0-m_3-ts_0-lab_0-pi_0-ac1_0-ac2\",\" 0-m_4-ts_0-lab_0-pi_0-ac1_0-ac2\",\" 1-m_0-ts_0-lab_0-pi_0-ac1_1-ac2\",\" 1-m_0-ts_0-lab_0-pi_1-ac1_0-ac2\",\" 1-m_0-ts_0-lab_1-pi_0-ac1_0-ac2\",\" 1-m_0-ts_1-lab_0-pi_0-ac1_0-ac2\",\" 1-m_0-ts_1-lab_1-pi_0-ac1_0-ac2\",\" 1-m_0-ts_2-lab_0-pi_0-ac1_0-ac2\",\" 1-m_1-ts_0-lab_0-pi_0-ac1_1-ac2\",\" 1-m_1-ts_0-lab_0-pi_1-ac1_0-ac2\",\" 1-m_1-ts_0-lab_1-pi_0-ac1_0-ac2\",\" 1-m_1-ts_1-lab_0-pi_0-ac1_0-ac2\",\" 1-m_2-ts_0-lab_1-pi_0-ac1_0-ac2\",\" 1-m_2-ts_1-lab_0-pi_0-ac1_0-ac2\",\" 1-m_3-ts_0-lab_0-pi_0-ac1_0-ac2\",\" 2-m_0-ts_0-lab_0-pi_0-ac1_1-ac2\",\" 2-m_0-ts_0-lab_0-pi_1-ac1_0-ac2\",\" 2-m_0-ts_0-lab_1-pi_0-ac1_0-ac2\",\" 2-m_0-ts_1-lab_0-pi_0-ac1_0-ac2\",\" 2-m_0-ts_1-lab_1-pi_0-ac1_0-ac2\",\" 2-m_0-ts_2-lab_0-pi_0-ac1_0-ac2\",\" 2-m_1-ts_0-lab_1-pi_0-ac1_0-ac2\",\" 2-m_1-ts_1-lab_0-pi_0-ac1_0-ac2\",\" 2-m_2-ts_0-lab_0-pi_0-ac1_0-ac2\",\" 2-m_3-ts_0-lab_0-pi_0-ac1_0-ac2\",\" 3-m_0-ts_0-lab_0-pi_1-ac1_0-ac2\",\" 3-m_0-ts_0-lab_1-pi_0-ac1_0-ac2\",\" 3-m_0-ts_1-lab_0-pi_0-ac1_0-ac2\",\" 3-m_1-ts_0-lab_0-pi_0-ac1_0-ac2\",\" 3-m_1-ts_1-lab_0-pi_0-ac1_0-ac2\",\" 4-m_0-ts_0-lab_0-pi_1-ac1_0-ac2\",\" 4-m_0-ts_0-lab_1-pi_0-ac1_0-ac2\",\" 4-m_0-ts_1-lab_0-pi_0-ac1_0-ac2\",\" 5-m_0-ts_0-lab_0-pi_0-ac1_0-ac2\",\" 5-m_0-ts_1-lab_0-pi_0-ac1_0-ac2\",\" 5-m_1-ts_1-lab_0-pi_0-ac1_0-ac2\",\" 6-m_0-ts_1-lab_0-pi_0-ac1_0-ac2\",\" 7-m_0-ts_1-lab_0-pi_0-ac1_0-ac2\",\"PI\",\"ac1\",\"ac2\",\"lab\",\"m\",\"ts\",\"R1 Structs\"],\"marker\":{\"coloraxis\":\"coloraxis\",\"colors\":[145.88235294117646,127.625,138.5,132.71428571428572,156.0,158.57142857142858,118.1,184.0,142.5,150.50381679389312,129.75,145.2,129.91666666666666,157.2173913043478,135.0,131.5,126.90322580645162,133.05172413793105,132.2,144.0,149.0,191.33333333333334,159.7912087912088,139.89705882352942,146.0818181818182,167.75,160.3,138.26666666666668,153.97979797979798,147.0,171.0,162.6,128.85714285714286,145.46564885496184,118.2,141.4,166.0,142.45454545454547,151.69642857142858,128.5,168.7941176470588,223.0,174.1578947368421,189.0,136.2126131848088,156.1494712885094,159.875,151.34554687764833,128.5,134.45483870967743,149.39945072958142]},\"name\":\"\",\"parents\":[\"R1 Structs/PI\",\"R1 Structs/lab\",\"R1 Structs/ac1\",\"R1 Structs/lab\",\"R1 Structs/PI\",\"R1 Structs/lab\",\"R1 Structs/ts\",\"R1 Structs/ts\",\"R1 Structs/ac2\",\"R1 Structs/ac1\",\"R1 Structs/PI\",\"R1 Structs/lab\",\"R1 Structs/PI\",\"R1 Structs/lab\",\"R1 Structs/ac2\",\"R1 Structs/ac1\",\"R1 Structs/PI\",\"R1 Structs/lab\",\"R1 Structs/PI\",\"R1 Structs/lab\",\"R1 Structs/ts\",\"R1 Structs/ac2\",\"R1 Structs/ac1\",\"R1 Structs/PI\",\"R1 Structs/lab\",\"R1 Structs/PI\",\"R1 Structs/lab\",\"R1 Structs/PI\",\"R1 Structs/lab\",\"R1 Structs/ts\",\"R1 Structs/ts\",\"R1 Structs/ac1\",\"R1 Structs/PI\",\"R1 Structs/lab\",\"R1 Structs/ts\",\"R1 Structs/lab\",\"R1 Structs/ac1\",\"R1 Structs/PI\",\"R1 Structs/lab\",\"R1 Structs/m\",\"R1 Structs/lab\",\"R1 Structs/lab\",\"R1 Structs/lab\",\"R1 Structs/lab\",\"R1 Structs\",\"R1 Structs\",\"R1 Structs\",\"R1 Structs\",\"R1 Structs\",\"R1 Structs\",\"\"],\"values\":[17,8,2,7,4,7,11,1,4,132,4,15,38,23,1,2,31,58,5,4,6,3,186,69,111,4,10,46,99,7,1,16,29,133,5,5,5,11,172,2,102,1,19,1,258,343,8,775,2,31,1417],\"type\":\"treemap\"}],                        {\"template\":{\"data\":{\"bar\":[{\"error_x\":{\"color\":\"#2a3f5f\"},\"error_y\":{\"color\":\"#2a3f5f\"},\"marker\":{\"line\":{\"color\":\"#E5ECF6\",\"width\":0.5},\"pattern\":{\"fillmode\":\"overlay\",\"size\":10,\"solidity\":0.2}},\"type\":\"bar\"}],\"barpolar\":[{\"marker\":{\"line\":{\"color\":\"#E5ECF6\",\"width\":0.5},\"pattern\":{\"fillmode\":\"overlay\",\"size\":10,\"solidity\":0.2}},\"type\":\"barpolar\"}],\"carpet\":[{\"aaxis\":{\"endlinecolor\":\"#2a3f5f\",\"gridcolor\":\"white\",\"linecolor\":\"white\",\"minorgridcolor\":\"white\",\"startlinecolor\":\"#2a3f5f\"},\"baxis\":{\"endlinecolor\":\"#2a3f5f\",\"gridcolor\":\"white\",\"linecolor\":\"white\",\"minorgridcolor\":\"white\",\"startlinecolor\":\"#2a3f5f\"},\"type\":\"carpet\"}],\"choropleth\":[{\"colorbar\":{\"outlinewidth\":0,\"ticks\":\"\"},\"type\":\"choropleth\"}],\"contour\":[{\"colorbar\":{\"outlinewidth\":0,\"ticks\":\"\"},\"colorscale\":[[0.0,\"#0d0887\"],[0.1111111111111111,\"#46039f\"],[0.2222222222222222,\"#7201a8\"],[0.3333333333333333,\"#9c179e\"],[0.4444444444444444,\"#bd3786\"],[0.5555555555555556,\"#d8576b\"],[0.6666666666666666,\"#ed7953\"],[0.7777777777777778,\"#fb9f3a\"],[0.8888888888888888,\"#fdca26\"],[1.0,\"#f0f921\"]],\"type\":\"contour\"}],\"contourcarpet\":[{\"colorbar\":{\"outlinewidth\":0,\"ticks\":\"\"},\"type\":\"contourcarpet\"}],\"heatmap\":[{\"colorbar\":{\"outlinewidth\":0,\"ticks\":\"\"},\"colorscale\":[[0.0,\"#0d0887\"],[0.1111111111111111,\"#46039f\"],[0.2222222222222222,\"#7201a8\"],[0.3333333333333333,\"#9c179e\"],[0.4444444444444444,\"#bd3786\"],[0.5555555555555556,\"#d8576b\"],[0.6666666666666666,\"#ed7953\"],[0.7777777777777778,\"#fb9f3a\"],[0.8888888888888888,\"#fdca26\"],[1.0,\"#f0f921\"]],\"type\":\"heatmap\"}],\"heatmapgl\":[{\"colorbar\":{\"outlinewidth\":0,\"ticks\":\"\"},\"colorscale\":[[0.0,\"#0d0887\"],[0.1111111111111111,\"#46039f\"],[0.2222222222222222,\"#7201a8\"],[0.3333333333333333,\"#9c179e\"],[0.4444444444444444,\"#bd3786\"],[0.5555555555555556,\"#d8576b\"],[0.6666666666666666,\"#ed7953\"],[0.7777777777777778,\"#fb9f3a\"],[0.8888888888888888,\"#fdca26\"],[1.0,\"#f0f921\"]],\"type\":\"heatmapgl\"}],\"histogram\":[{\"marker\":{\"pattern\":{\"fillmode\":\"overlay\",\"size\":10,\"solidity\":0.2}},\"type\":\"histogram\"}],\"histogram2d\":[{\"colorbar\":{\"outlinewidth\":0,\"ticks\":\"\"},\"colorscale\":[[0.0,\"#0d0887\"],[0.1111111111111111,\"#46039f\"],[0.2222222222222222,\"#7201a8\"],[0.3333333333333333,\"#9c179e\"],[0.4444444444444444,\"#bd3786\"],[0.5555555555555556,\"#d8576b\"],[0.6666666666666666,\"#ed7953\"],[0.7777777777777778,\"#fb9f3a\"],[0.8888888888888888,\"#fdca26\"],[1.0,\"#f0f921\"]],\"type\":\"histogram2d\"}],\"histogram2dcontour\":[{\"colorbar\":{\"outlinewidth\":0,\"ticks\":\"\"},\"colorscale\":[[0.0,\"#0d0887\"],[0.1111111111111111,\"#46039f\"],[0.2222222222222222,\"#7201a8\"],[0.3333333333333333,\"#9c179e\"],[0.4444444444444444,\"#bd3786\"],[0.5555555555555556,\"#d8576b\"],[0.6666666666666666,\"#ed7953\"],[0.7777777777777778,\"#fb9f3a\"],[0.8888888888888888,\"#fdca26\"],[1.0,\"#f0f921\"]],\"type\":\"histogram2dcontour\"}],\"mesh3d\":[{\"colorbar\":{\"outlinewidth\":0,\"ticks\":\"\"},\"type\":\"mesh3d\"}],\"parcoords\":[{\"line\":{\"colorbar\":{\"outlinewidth\":0,\"ticks\":\"\"}},\"type\":\"parcoords\"}],\"pie\":[{\"automargin\":true,\"type\":\"pie\"}],\"scatter\":[{\"marker\":{\"colorbar\":{\"outlinewidth\":0,\"ticks\":\"\"}},\"type\":\"scatter\"}],\"scatter3d\":[{\"line\":{\"colorbar\":{\"outlinewidth\":0,\"ticks\":\"\"}},\"marker\":{\"colorbar\":{\"outlinewidth\":0,\"ticks\":\"\"}},\"type\":\"scatter3d\"}],\"scattercarpet\":[{\"marker\":{\"colorbar\":{\"outlinewidth\":0,\"ticks\":\"\"}},\"type\":\"scattercarpet\"}],\"scattergeo\":[{\"marker\":{\"colorbar\":{\"outlinewidth\":0,\"ticks\":\"\"}},\"type\":\"scattergeo\"}],\"scattergl\":[{\"marker\":{\"colorbar\":{\"outlinewidth\":0,\"ticks\":\"\"}},\"type\":\"scattergl\"}],\"scattermapbox\":[{\"marker\":{\"colorbar\":{\"outlinewidth\":0,\"ticks\":\"\"}},\"type\":\"scattermapbox\"}],\"scatterpolar\":[{\"marker\":{\"colorbar\":{\"outlinewidth\":0,\"ticks\":\"\"}},\"type\":\"scatterpolar\"}],\"scatterpolargl\":[{\"marker\":{\"colorbar\":{\"outlinewidth\":0,\"ticks\":\"\"}},\"type\":\"scatterpolargl\"}],\"scatterternary\":[{\"marker\":{\"colorbar\":{\"outlinewidth\":0,\"ticks\":\"\"}},\"type\":\"scatterternary\"}],\"surface\":[{\"colorbar\":{\"outlinewidth\":0,\"ticks\":\"\"},\"colorscale\":[[0.0,\"#0d0887\"],[0.1111111111111111,\"#46039f\"],[0.2222222222222222,\"#7201a8\"],[0.3333333333333333,\"#9c179e\"],[0.4444444444444444,\"#bd3786\"],[0.5555555555555556,\"#d8576b\"],[0.6666666666666666,\"#ed7953\"],[0.7777777777777778,\"#fb9f3a\"],[0.8888888888888888,\"#fdca26\"],[1.0,\"#f0f921\"]],\"type\":\"surface\"}],\"table\":[{\"cells\":{\"fill\":{\"color\":\"#EBF0F8\"},\"line\":{\"color\":\"white\"}},\"header\":{\"fill\":{\"color\":\"#C8D4E3\"},\"line\":{\"color\":\"white\"}},\"type\":\"table\"}]},\"layout\":{\"annotationdefaults\":{\"arrowcolor\":\"#2a3f5f\",\"arrowhead\":0,\"arrowwidth\":1},\"autotypenumbers\":\"strict\",\"coloraxis\":{\"colorbar\":{\"outlinewidth\":0,\"ticks\":\"\"}},\"colorscale\":{\"diverging\":[[0,\"#8e0152\"],[0.1,\"#c51b7d\"],[0.2,\"#de77ae\"],[0.3,\"#f1b6da\"],[0.4,\"#fde0ef\"],[0.5,\"#f7f7f7\"],[0.6,\"#e6f5d0\"],[0.7,\"#b8e186\"],[0.8,\"#7fbc41\"],[0.9,\"#4d9221\"],[1,\"#276419\"]],\"sequential\":[[0.0,\"#0d0887\"],[0.1111111111111111,\"#46039f\"],[0.2222222222222222,\"#7201a8\"],[0.3333333333333333,\"#9c179e\"],[0.4444444444444444,\"#bd3786\"],[0.5555555555555556,\"#d8576b\"],[0.6666666666666666,\"#ed7953\"],[0.7777777777777778,\"#fb9f3a\"],[0.8888888888888888,\"#fdca26\"],[1.0,\"#f0f921\"]],\"sequentialminus\":[[0.0,\"#0d0887\"],[0.1111111111111111,\"#46039f\"],[0.2222222222222222,\"#7201a8\"],[0.3333333333333333,\"#9c179e\"],[0.4444444444444444,\"#bd3786\"],[0.5555555555555556,\"#d8576b\"],[0.6666666666666666,\"#ed7953\"],[0.7777777777777778,\"#fb9f3a\"],[0.8888888888888888,\"#fdca26\"],[1.0,\"#f0f921\"]]},\"colorway\":[\"#636efa\",\"#EF553B\",\"#00cc96\",\"#ab63fa\",\"#FFA15A\",\"#19d3f3\",\"#FF6692\",\"#B6E880\",\"#FF97FF\",\"#FECB52\"],\"font\":{\"color\":\"#2a3f5f\"},\"geo\":{\"bgcolor\":\"white\",\"lakecolor\":\"white\",\"landcolor\":\"#E5ECF6\",\"showlakes\":true,\"showland\":true,\"subunitcolor\":\"white\"},\"hoverlabel\":{\"align\":\"left\"},\"hovermode\":\"closest\",\"mapbox\":{\"style\":\"light\"},\"paper_bgcolor\":\"white\",\"plot_bgcolor\":\"#E5ECF6\",\"polar\":{\"angularaxis\":{\"gridcolor\":\"white\",\"linecolor\":\"white\",\"ticks\":\"\"},\"bgcolor\":\"#E5ECF6\",\"radialaxis\":{\"gridcolor\":\"white\",\"linecolor\":\"white\",\"ticks\":\"\"}},\"scene\":{\"xaxis\":{\"backgroundcolor\":\"#E5ECF6\",\"gridcolor\":\"white\",\"gridwidth\":2,\"linecolor\":\"white\",\"showbackground\":true,\"ticks\":\"\",\"zerolinecolor\":\"white\"},\"yaxis\":{\"backgroundcolor\":\"#E5ECF6\",\"gridcolor\":\"white\",\"gridwidth\":2,\"linecolor\":\"white\",\"showbackground\":true,\"ticks\":\"\",\"zerolinecolor\":\"white\"},\"zaxis\":{\"backgroundcolor\":\"#E5ECF6\",\"gridcolor\":\"white\",\"gridwidth\":2,\"linecolor\":\"white\",\"showbackground\":true,\"ticks\":\"\",\"zerolinecolor\":\"white\"}},\"shapedefaults\":{\"line\":{\"color\":\"#2a3f5f\"}},\"ternary\":{\"aaxis\":{\"gridcolor\":\"white\",\"linecolor\":\"white\",\"ticks\":\"\"},\"baxis\":{\"gridcolor\":\"white\",\"linecolor\":\"white\",\"ticks\":\"\"},\"bgcolor\":\"#E5ECF6\",\"caxis\":{\"gridcolor\":\"white\",\"linecolor\":\"white\",\"ticks\":\"\"}},\"title\":{\"x\":0.05},\"xaxis\":{\"automargin\":true,\"gridcolor\":\"white\",\"linecolor\":\"white\",\"ticks\":\"\",\"title\":{\"standoff\":15},\"zerolinecolor\":\"white\",\"zerolinewidth\":2},\"yaxis\":{\"automargin\":true,\"gridcolor\":\"white\",\"linecolor\":\"white\",\"ticks\":\"\",\"title\":{\"standoff\":15},\"zerolinecolor\":\"white\",\"zerolinewidth\":2}}},\"coloraxis\":{\"colorbar\":{\"title\":{\"text\":\"ave_score_hadsch-hallas\"}},\"colorscale\":[[0.0,\"rgb(103,0,31)\"],[0.1,\"rgb(178,24,43)\"],[0.2,\"rgb(214,96,77)\"],[0.3,\"rgb(244,165,130)\"],[0.4,\"rgb(253,219,199)\"],[0.5,\"rgb(247,247,247)\"],[0.6,\"rgb(209,229,240)\"],[0.7,\"rgb(146,197,222)\"],[0.8,\"rgb(67,147,195)\"],[0.9,\"rgb(33,102,172)\"],[1.0,\"rgb(5,48,97)\"]],\"cmid\":148.12743354661777},\"legend\":{\"tracegroupgap\":0},\"margin\":{\"t\":50,\"l\":25,\"r\":25,\"b\":25},\"title\":{\"text\":\"R1 Structures: Frequency and Impact on Score Relative to All Factions Average (148.13): hadsch-hallas\"}},                        {\"responsive\": true}                    ).then(function(){\n",
       "                            \n",
       "var gd = document.getElementById('eaa9b29f-a7d9-473b-83db-9992d2c2cdbd');\n",
       "var x = new MutationObserver(function (mutations, observer) {{\n",
       "        var display = window.getComputedStyle(gd).display;\n",
       "        if (!display || display === 'none') {{\n",
       "            console.log([gd, 'removed!']);\n",
       "            Plotly.purge(gd);\n",
       "            observer.disconnect();\n",
       "        }}\n",
       "}});\n",
       "\n",
       "// Listen for the removal of the full notebook cells\n",
       "var notebookContainer = gd.closest('#notebook-container');\n",
       "if (notebookContainer) {{\n",
       "    x.observe(notebookContainer, {childList: true});\n",
       "}}\n",
       "\n",
       "// Listen for the clearing of the current output cell\n",
       "var outputEl = gd.closest('.output');\n",
       "if (outputEl) {{\n",
       "    x.observe(outputEl, {childList: true});\n",
       "}}\n",
       "\n",
       "                        })                };                });            </script>        </div>"
      ]
     },
     "metadata": {},
     "output_type": "display_data"
    },
    {
     "data": {
      "application/vnd.plotly.v1+json": {
       "config": {
        "plotlyServerURL": "https://plot.ly"
       },
       "data": [
        {
         "branchvalues": "total",
         "customdata": [
          [
           179.93333333333334,
           146.5681818181818
          ],
          [
           124.88888888888889,
           142.44444444444446
          ],
          [
           157.12,
           136.9
          ],
          [
           167.6,
           142.45
          ],
          [
           128,
           149
          ],
          [
           210.2,
           162.4
          ],
          [
           249.29268292682926,
           162.12605042016807
          ],
          [
           159.05917159763314,
           144.59036144578315
          ],
          [
           168.85106382978722,
           134.17021276595744
          ],
          [
           214.73333333333332,
           141.64285714285714
          ],
          [
           218,
           138.16666666666666
          ],
          [
           314,
           147
          ],
          [
           198.1764705882353,
           152.65671641791045
          ],
          [
           179.43076923076924,
           147.06153846153848
          ],
          [
           181.5,
           123
          ],
          [
           318,
           194
          ],
          [
           235.34782608695653,
           165.82608695652175
          ],
          [
           213.79611650485438,
           155.9593094944513
          ],
          [
           191.30172413793105,
           148.71615720524017
          ],
          [
           219.88888888888889,
           157.55555555555554
          ],
          [
           219.27272727272728,
           157.51724137931035
          ],
          [
           122.5,
           107.25
          ],
          [
           187.65573770491804,
           157.72881355932202
          ],
          [
           187.5206611570248,
           149.64102564102564
          ],
          [
           294,
           169
          ],
          [
           0,
           107.25
          ],
          [
           268.25,
           179.25
          ],
          [
           236.12698412698413,
           164.088
          ],
          [
           75,
           110.66666666666667
          ],
          [
           239.64705882352942,
           173.6875
          ],
          [
           "(?)",
           152.93466949351887
          ],
          [
           "(?)",
           163.13316095669038
          ],
          [
           "(?)",
           167.66666666666666
          ],
          [
           "(?)",
           152.03138758940855
          ],
          [
           0,
           107.25
          ],
          [
           "(?)",
           115.4
          ],
          [
           "(?)",
           153.18346525713437
          ]
         ],
         "domain": {
          "x": [
           0,
           1
          ],
          "y": [
           0,
           1
          ]
         },
         "hovertemplate": "labels=%{label}<br>class_counts=%{value}<br>parent=%{parent}<br>id=%{id}<br>ave_elo_terrans=%{customdata[0]}<br>ave_score_terrans=%{color}<extra></extra>",
         "ids": [
          "R1 Structs/PI/ 0-m_0-ts_1-lab_1-pi_0-ac1_0-ac2",
          "R1 Structs/lab/ 0-m_0-ts_2-lab_0-pi_0-ac1_0-ac2",
          "R1 Structs/PI/ 0-m_1-ts_0-lab_1-pi_0-ac1_0-ac2",
          "R1 Structs/lab/ 0-m_1-ts_1-lab_0-pi_0-ac1_0-ac2",
          "R1 Structs/lab/ 0-m_2-ts_1-lab_0-pi_0-ac1_0-ac2",
          "R1 Structs/ac2/ 1-m_0-ts_0-lab_0-pi_0-ac1_1-ac2",
          "R1 Structs/ac1/ 1-m_0-ts_0-lab_0-pi_1-ac1_0-ac2",
          "R1 Structs/PI/ 1-m_0-ts_0-lab_1-pi_0-ac1_0-ac2",
          "R1 Structs/lab/ 1-m_0-ts_1-lab_0-pi_0-ac1_0-ac2",
          "R1 Structs/PI/ 1-m_0-ts_1-lab_1-pi_0-ac1_0-ac2",
          "R1 Structs/lab/ 1-m_0-ts_2-lab_0-pi_0-ac1_0-ac2",
          "R1 Structs/ts/ 1-m_1-ts_0-lab_0-pi_0-ac1_0-ac2",
          "R1 Structs/PI/ 1-m_1-ts_0-lab_1-pi_0-ac1_0-ac2",
          "R1 Structs/lab/ 1-m_1-ts_1-lab_0-pi_0-ac1_0-ac2",
          "R1 Structs/ts/ 1-m_2-ts_0-lab_0-pi_0-ac1_0-ac2",
          "R1 Structs/ac2/ 2-m_0-ts_0-lab_0-pi_0-ac1_1-ac2",
          "R1 Structs/ac1/ 2-m_0-ts_0-lab_0-pi_1-ac1_0-ac2",
          "R1 Structs/PI/ 2-m_0-ts_0-lab_1-pi_0-ac1_0-ac2",
          "R1 Structs/lab/ 2-m_0-ts_1-lab_0-pi_0-ac1_0-ac2",
          "R1 Structs/PI/ 2-m_1-ts_0-lab_1-pi_0-ac1_0-ac2",
          "R1 Structs/lab/ 2-m_1-ts_1-lab_0-pi_0-ac1_0-ac2",
          "R1 Structs/ts/ 2-m_2-ts_0-lab_0-pi_0-ac1_0-ac2",
          "R1 Structs/PI/ 3-m_0-ts_0-lab_1-pi_0-ac1_0-ac2",
          "R1 Structs/lab/ 3-m_0-ts_1-lab_0-pi_0-ac1_0-ac2",
          "R1 Structs/lab/ 3-m_1-ts_1-lab_0-pi_0-ac1_0-ac2",
          "R1 Structs/m/ 4-m_0-ts_0-lab_0-pi_0-ac1_0-ac2",
          "R1 Structs/PI/ 4-m_0-ts_0-lab_1-pi_0-ac1_0-ac2",
          "R1 Structs/lab/ 4-m_0-ts_1-lab_0-pi_0-ac1_0-ac2",
          "R1 Structs/ts/ 4-m_1-ts_0-lab_0-pi_0-ac1_0-ac2",
          "R1 Structs/lab/ 5-m_0-ts_1-lab_0-pi_0-ac1_0-ac2",
          "R1 Structs/PI",
          "R1 Structs/ac1",
          "R1 Structs/ac2",
          "R1 Structs/lab",
          "R1 Structs/m",
          "R1 Structs/ts",
          "R1 Structs"
         ],
         "labels": [
          " 0-m_0-ts_1-lab_1-pi_0-ac1_0-ac2",
          " 0-m_0-ts_2-lab_0-pi_0-ac1_0-ac2",
          " 0-m_1-ts_0-lab_1-pi_0-ac1_0-ac2",
          " 0-m_1-ts_1-lab_0-pi_0-ac1_0-ac2",
          " 0-m_2-ts_1-lab_0-pi_0-ac1_0-ac2",
          " 1-m_0-ts_0-lab_0-pi_0-ac1_1-ac2",
          " 1-m_0-ts_0-lab_0-pi_1-ac1_0-ac2",
          " 1-m_0-ts_0-lab_1-pi_0-ac1_0-ac2",
          " 1-m_0-ts_1-lab_0-pi_0-ac1_0-ac2",
          " 1-m_0-ts_1-lab_1-pi_0-ac1_0-ac2",
          " 1-m_0-ts_2-lab_0-pi_0-ac1_0-ac2",
          " 1-m_1-ts_0-lab_0-pi_0-ac1_0-ac2",
          " 1-m_1-ts_0-lab_1-pi_0-ac1_0-ac2",
          " 1-m_1-ts_1-lab_0-pi_0-ac1_0-ac2",
          " 1-m_2-ts_0-lab_0-pi_0-ac1_0-ac2",
          " 2-m_0-ts_0-lab_0-pi_0-ac1_1-ac2",
          " 2-m_0-ts_0-lab_0-pi_1-ac1_0-ac2",
          " 2-m_0-ts_0-lab_1-pi_0-ac1_0-ac2",
          " 2-m_0-ts_1-lab_0-pi_0-ac1_0-ac2",
          " 2-m_1-ts_0-lab_1-pi_0-ac1_0-ac2",
          " 2-m_1-ts_1-lab_0-pi_0-ac1_0-ac2",
          " 2-m_2-ts_0-lab_0-pi_0-ac1_0-ac2",
          " 3-m_0-ts_0-lab_1-pi_0-ac1_0-ac2",
          " 3-m_0-ts_1-lab_0-pi_0-ac1_0-ac2",
          " 3-m_1-ts_1-lab_0-pi_0-ac1_0-ac2",
          " 4-m_0-ts_0-lab_0-pi_0-ac1_0-ac2",
          " 4-m_0-ts_0-lab_1-pi_0-ac1_0-ac2",
          " 4-m_0-ts_1-lab_0-pi_0-ac1_0-ac2",
          " 4-m_1-ts_0-lab_0-pi_0-ac1_0-ac2",
          " 5-m_0-ts_1-lab_0-pi_0-ac1_0-ac2",
          "PI",
          "ac1",
          "ac2",
          "lab",
          "m",
          "ts",
          "R1 Structs"
         ],
         "marker": {
          "coloraxis": "coloraxis",
          "colors": [
           146.5681818181818,
           142.44444444444446,
           136.9,
           142.45,
           149,
           162.4,
           162.12605042016807,
           144.59036144578315,
           134.17021276595744,
           141.64285714285714,
           138.16666666666666,
           147,
           152.65671641791045,
           147.06153846153848,
           123,
           194,
           165.82608695652175,
           155.9593094944513,
           148.71615720524017,
           157.55555555555554,
           157.51724137931035,
           107.25,
           157.72881355932202,
           149.64102564102564,
           169,
           107.25,
           179.25,
           164.088,
           110.66666666666667,
           173.6875,
           152.93466949351887,
           163.13316095669038,
           167.66666666666666,
           152.03138758940855,
           107.25,
           115.4,
           153.18346525713437
          ]
         },
         "name": "",
         "parents": [
          "R1 Structs/PI",
          "R1 Structs/lab",
          "R1 Structs/PI",
          "R1 Structs/lab",
          "R1 Structs/lab",
          "R1 Structs/ac2",
          "R1 Structs/ac1",
          "R1 Structs/PI",
          "R1 Structs/lab",
          "R1 Structs/PI",
          "R1 Structs/lab",
          "R1 Structs/ts",
          "R1 Structs/PI",
          "R1 Structs/lab",
          "R1 Structs/ts",
          "R1 Structs/ac2",
          "R1 Structs/ac1",
          "R1 Structs/PI",
          "R1 Structs/lab",
          "R1 Structs/PI",
          "R1 Structs/lab",
          "R1 Structs/ts",
          "R1 Structs/PI",
          "R1 Structs/lab",
          "R1 Structs/lab",
          "R1 Structs/m",
          "R1 Structs/PI",
          "R1 Structs/lab",
          "R1 Structs/ts",
          "R1 Structs/lab",
          "R1 Structs",
          "R1 Structs",
          "R1 Structs",
          "R1 Structs",
          "R1 Structs",
          "R1 Structs",
          ""
         ],
         "type": "treemap",
         "values": [
          90,
          9,
          50,
          20,
          1,
          5,
          123,
          169,
          47,
          15,
          6,
          1,
          68,
          65,
          2,
          1,
          46,
          824,
          232,
          18,
          121,
          4,
          61,
          121,
          2,
          4,
          4,
          126,
          3,
          17,
          1299,
          169,
          6,
          767,
          4,
          10,
          2255
         ]
        }
       ],
       "layout": {
        "coloraxis": {
         "cmid": 148.12743354661777,
         "colorbar": {
          "title": {
           "text": "ave_score_terrans"
          }
         },
         "colorscale": [
          [
           0,
           "rgb(103,0,31)"
          ],
          [
           0.1,
           "rgb(178,24,43)"
          ],
          [
           0.2,
           "rgb(214,96,77)"
          ],
          [
           0.3,
           "rgb(244,165,130)"
          ],
          [
           0.4,
           "rgb(253,219,199)"
          ],
          [
           0.5,
           "rgb(247,247,247)"
          ],
          [
           0.6,
           "rgb(209,229,240)"
          ],
          [
           0.7,
           "rgb(146,197,222)"
          ],
          [
           0.8,
           "rgb(67,147,195)"
          ],
          [
           0.9,
           "rgb(33,102,172)"
          ],
          [
           1,
           "rgb(5,48,97)"
          ]
         ]
        },
        "legend": {
         "tracegroupgap": 0
        },
        "margin": {
         "b": 25,
         "l": 25,
         "r": 25,
         "t": 50
        },
        "template": {
         "data": {
          "bar": [
           {
            "error_x": {
             "color": "#2a3f5f"
            },
            "error_y": {
             "color": "#2a3f5f"
            },
            "marker": {
             "line": {
              "color": "#E5ECF6",
              "width": 0.5
             },
             "pattern": {
              "fillmode": "overlay",
              "size": 10,
              "solidity": 0.2
             }
            },
            "type": "bar"
           }
          ],
          "barpolar": [
           {
            "marker": {
             "line": {
              "color": "#E5ECF6",
              "width": 0.5
             },
             "pattern": {
              "fillmode": "overlay",
              "size": 10,
              "solidity": 0.2
             }
            },
            "type": "barpolar"
           }
          ],
          "carpet": [
           {
            "aaxis": {
             "endlinecolor": "#2a3f5f",
             "gridcolor": "white",
             "linecolor": "white",
             "minorgridcolor": "white",
             "startlinecolor": "#2a3f5f"
            },
            "baxis": {
             "endlinecolor": "#2a3f5f",
             "gridcolor": "white",
             "linecolor": "white",
             "minorgridcolor": "white",
             "startlinecolor": "#2a3f5f"
            },
            "type": "carpet"
           }
          ],
          "choropleth": [
           {
            "colorbar": {
             "outlinewidth": 0,
             "ticks": ""
            },
            "type": "choropleth"
           }
          ],
          "contour": [
           {
            "colorbar": {
             "outlinewidth": 0,
             "ticks": ""
            },
            "colorscale": [
             [
              0,
              "#0d0887"
             ],
             [
              0.1111111111111111,
              "#46039f"
             ],
             [
              0.2222222222222222,
              "#7201a8"
             ],
             [
              0.3333333333333333,
              "#9c179e"
             ],
             [
              0.4444444444444444,
              "#bd3786"
             ],
             [
              0.5555555555555556,
              "#d8576b"
             ],
             [
              0.6666666666666666,
              "#ed7953"
             ],
             [
              0.7777777777777778,
              "#fb9f3a"
             ],
             [
              0.8888888888888888,
              "#fdca26"
             ],
             [
              1,
              "#f0f921"
             ]
            ],
            "type": "contour"
           }
          ],
          "contourcarpet": [
           {
            "colorbar": {
             "outlinewidth": 0,
             "ticks": ""
            },
            "type": "contourcarpet"
           }
          ],
          "heatmap": [
           {
            "colorbar": {
             "outlinewidth": 0,
             "ticks": ""
            },
            "colorscale": [
             [
              0,
              "#0d0887"
             ],
             [
              0.1111111111111111,
              "#46039f"
             ],
             [
              0.2222222222222222,
              "#7201a8"
             ],
             [
              0.3333333333333333,
              "#9c179e"
             ],
             [
              0.4444444444444444,
              "#bd3786"
             ],
             [
              0.5555555555555556,
              "#d8576b"
             ],
             [
              0.6666666666666666,
              "#ed7953"
             ],
             [
              0.7777777777777778,
              "#fb9f3a"
             ],
             [
              0.8888888888888888,
              "#fdca26"
             ],
             [
              1,
              "#f0f921"
             ]
            ],
            "type": "heatmap"
           }
          ],
          "heatmapgl": [
           {
            "colorbar": {
             "outlinewidth": 0,
             "ticks": ""
            },
            "colorscale": [
             [
              0,
              "#0d0887"
             ],
             [
              0.1111111111111111,
              "#46039f"
             ],
             [
              0.2222222222222222,
              "#7201a8"
             ],
             [
              0.3333333333333333,
              "#9c179e"
             ],
             [
              0.4444444444444444,
              "#bd3786"
             ],
             [
              0.5555555555555556,
              "#d8576b"
             ],
             [
              0.6666666666666666,
              "#ed7953"
             ],
             [
              0.7777777777777778,
              "#fb9f3a"
             ],
             [
              0.8888888888888888,
              "#fdca26"
             ],
             [
              1,
              "#f0f921"
             ]
            ],
            "type": "heatmapgl"
           }
          ],
          "histogram": [
           {
            "marker": {
             "pattern": {
              "fillmode": "overlay",
              "size": 10,
              "solidity": 0.2
             }
            },
            "type": "histogram"
           }
          ],
          "histogram2d": [
           {
            "colorbar": {
             "outlinewidth": 0,
             "ticks": ""
            },
            "colorscale": [
             [
              0,
              "#0d0887"
             ],
             [
              0.1111111111111111,
              "#46039f"
             ],
             [
              0.2222222222222222,
              "#7201a8"
             ],
             [
              0.3333333333333333,
              "#9c179e"
             ],
             [
              0.4444444444444444,
              "#bd3786"
             ],
             [
              0.5555555555555556,
              "#d8576b"
             ],
             [
              0.6666666666666666,
              "#ed7953"
             ],
             [
              0.7777777777777778,
              "#fb9f3a"
             ],
             [
              0.8888888888888888,
              "#fdca26"
             ],
             [
              1,
              "#f0f921"
             ]
            ],
            "type": "histogram2d"
           }
          ],
          "histogram2dcontour": [
           {
            "colorbar": {
             "outlinewidth": 0,
             "ticks": ""
            },
            "colorscale": [
             [
              0,
              "#0d0887"
             ],
             [
              0.1111111111111111,
              "#46039f"
             ],
             [
              0.2222222222222222,
              "#7201a8"
             ],
             [
              0.3333333333333333,
              "#9c179e"
             ],
             [
              0.4444444444444444,
              "#bd3786"
             ],
             [
              0.5555555555555556,
              "#d8576b"
             ],
             [
              0.6666666666666666,
              "#ed7953"
             ],
             [
              0.7777777777777778,
              "#fb9f3a"
             ],
             [
              0.8888888888888888,
              "#fdca26"
             ],
             [
              1,
              "#f0f921"
             ]
            ],
            "type": "histogram2dcontour"
           }
          ],
          "mesh3d": [
           {
            "colorbar": {
             "outlinewidth": 0,
             "ticks": ""
            },
            "type": "mesh3d"
           }
          ],
          "parcoords": [
           {
            "line": {
             "colorbar": {
              "outlinewidth": 0,
              "ticks": ""
             }
            },
            "type": "parcoords"
           }
          ],
          "pie": [
           {
            "automargin": true,
            "type": "pie"
           }
          ],
          "scatter": [
           {
            "marker": {
             "colorbar": {
              "outlinewidth": 0,
              "ticks": ""
             }
            },
            "type": "scatter"
           }
          ],
          "scatter3d": [
           {
            "line": {
             "colorbar": {
              "outlinewidth": 0,
              "ticks": ""
             }
            },
            "marker": {
             "colorbar": {
              "outlinewidth": 0,
              "ticks": ""
             }
            },
            "type": "scatter3d"
           }
          ],
          "scattercarpet": [
           {
            "marker": {
             "colorbar": {
              "outlinewidth": 0,
              "ticks": ""
             }
            },
            "type": "scattercarpet"
           }
          ],
          "scattergeo": [
           {
            "marker": {
             "colorbar": {
              "outlinewidth": 0,
              "ticks": ""
             }
            },
            "type": "scattergeo"
           }
          ],
          "scattergl": [
           {
            "marker": {
             "colorbar": {
              "outlinewidth": 0,
              "ticks": ""
             }
            },
            "type": "scattergl"
           }
          ],
          "scattermapbox": [
           {
            "marker": {
             "colorbar": {
              "outlinewidth": 0,
              "ticks": ""
             }
            },
            "type": "scattermapbox"
           }
          ],
          "scatterpolar": [
           {
            "marker": {
             "colorbar": {
              "outlinewidth": 0,
              "ticks": ""
             }
            },
            "type": "scatterpolar"
           }
          ],
          "scatterpolargl": [
           {
            "marker": {
             "colorbar": {
              "outlinewidth": 0,
              "ticks": ""
             }
            },
            "type": "scatterpolargl"
           }
          ],
          "scatterternary": [
           {
            "marker": {
             "colorbar": {
              "outlinewidth": 0,
              "ticks": ""
             }
            },
            "type": "scatterternary"
           }
          ],
          "surface": [
           {
            "colorbar": {
             "outlinewidth": 0,
             "ticks": ""
            },
            "colorscale": [
             [
              0,
              "#0d0887"
             ],
             [
              0.1111111111111111,
              "#46039f"
             ],
             [
              0.2222222222222222,
              "#7201a8"
             ],
             [
              0.3333333333333333,
              "#9c179e"
             ],
             [
              0.4444444444444444,
              "#bd3786"
             ],
             [
              0.5555555555555556,
              "#d8576b"
             ],
             [
              0.6666666666666666,
              "#ed7953"
             ],
             [
              0.7777777777777778,
              "#fb9f3a"
             ],
             [
              0.8888888888888888,
              "#fdca26"
             ],
             [
              1,
              "#f0f921"
             ]
            ],
            "type": "surface"
           }
          ],
          "table": [
           {
            "cells": {
             "fill": {
              "color": "#EBF0F8"
             },
             "line": {
              "color": "white"
             }
            },
            "header": {
             "fill": {
              "color": "#C8D4E3"
             },
             "line": {
              "color": "white"
             }
            },
            "type": "table"
           }
          ]
         },
         "layout": {
          "annotationdefaults": {
           "arrowcolor": "#2a3f5f",
           "arrowhead": 0,
           "arrowwidth": 1
          },
          "autotypenumbers": "strict",
          "coloraxis": {
           "colorbar": {
            "outlinewidth": 0,
            "ticks": ""
           }
          },
          "colorscale": {
           "diverging": [
            [
             0,
             "#8e0152"
            ],
            [
             0.1,
             "#c51b7d"
            ],
            [
             0.2,
             "#de77ae"
            ],
            [
             0.3,
             "#f1b6da"
            ],
            [
             0.4,
             "#fde0ef"
            ],
            [
             0.5,
             "#f7f7f7"
            ],
            [
             0.6,
             "#e6f5d0"
            ],
            [
             0.7,
             "#b8e186"
            ],
            [
             0.8,
             "#7fbc41"
            ],
            [
             0.9,
             "#4d9221"
            ],
            [
             1,
             "#276419"
            ]
           ],
           "sequential": [
            [
             0,
             "#0d0887"
            ],
            [
             0.1111111111111111,
             "#46039f"
            ],
            [
             0.2222222222222222,
             "#7201a8"
            ],
            [
             0.3333333333333333,
             "#9c179e"
            ],
            [
             0.4444444444444444,
             "#bd3786"
            ],
            [
             0.5555555555555556,
             "#d8576b"
            ],
            [
             0.6666666666666666,
             "#ed7953"
            ],
            [
             0.7777777777777778,
             "#fb9f3a"
            ],
            [
             0.8888888888888888,
             "#fdca26"
            ],
            [
             1,
             "#f0f921"
            ]
           ],
           "sequentialminus": [
            [
             0,
             "#0d0887"
            ],
            [
             0.1111111111111111,
             "#46039f"
            ],
            [
             0.2222222222222222,
             "#7201a8"
            ],
            [
             0.3333333333333333,
             "#9c179e"
            ],
            [
             0.4444444444444444,
             "#bd3786"
            ],
            [
             0.5555555555555556,
             "#d8576b"
            ],
            [
             0.6666666666666666,
             "#ed7953"
            ],
            [
             0.7777777777777778,
             "#fb9f3a"
            ],
            [
             0.8888888888888888,
             "#fdca26"
            ],
            [
             1,
             "#f0f921"
            ]
           ]
          },
          "colorway": [
           "#636efa",
           "#EF553B",
           "#00cc96",
           "#ab63fa",
           "#FFA15A",
           "#19d3f3",
           "#FF6692",
           "#B6E880",
           "#FF97FF",
           "#FECB52"
          ],
          "font": {
           "color": "#2a3f5f"
          },
          "geo": {
           "bgcolor": "white",
           "lakecolor": "white",
           "landcolor": "#E5ECF6",
           "showlakes": true,
           "showland": true,
           "subunitcolor": "white"
          },
          "hoverlabel": {
           "align": "left"
          },
          "hovermode": "closest",
          "mapbox": {
           "style": "light"
          },
          "paper_bgcolor": "white",
          "plot_bgcolor": "#E5ECF6",
          "polar": {
           "angularaxis": {
            "gridcolor": "white",
            "linecolor": "white",
            "ticks": ""
           },
           "bgcolor": "#E5ECF6",
           "radialaxis": {
            "gridcolor": "white",
            "linecolor": "white",
            "ticks": ""
           }
          },
          "scene": {
           "xaxis": {
            "backgroundcolor": "#E5ECF6",
            "gridcolor": "white",
            "gridwidth": 2,
            "linecolor": "white",
            "showbackground": true,
            "ticks": "",
            "zerolinecolor": "white"
           },
           "yaxis": {
            "backgroundcolor": "#E5ECF6",
            "gridcolor": "white",
            "gridwidth": 2,
            "linecolor": "white",
            "showbackground": true,
            "ticks": "",
            "zerolinecolor": "white"
           },
           "zaxis": {
            "backgroundcolor": "#E5ECF6",
            "gridcolor": "white",
            "gridwidth": 2,
            "linecolor": "white",
            "showbackground": true,
            "ticks": "",
            "zerolinecolor": "white"
           }
          },
          "shapedefaults": {
           "line": {
            "color": "#2a3f5f"
           }
          },
          "ternary": {
           "aaxis": {
            "gridcolor": "white",
            "linecolor": "white",
            "ticks": ""
           },
           "baxis": {
            "gridcolor": "white",
            "linecolor": "white",
            "ticks": ""
           },
           "bgcolor": "#E5ECF6",
           "caxis": {
            "gridcolor": "white",
            "linecolor": "white",
            "ticks": ""
           }
          },
          "title": {
           "x": 0.05
          },
          "xaxis": {
           "automargin": true,
           "gridcolor": "white",
           "linecolor": "white",
           "ticks": "",
           "title": {
            "standoff": 15
           },
           "zerolinecolor": "white",
           "zerolinewidth": 2
          },
          "yaxis": {
           "automargin": true,
           "gridcolor": "white",
           "linecolor": "white",
           "ticks": "",
           "title": {
            "standoff": 15
           },
           "zerolinecolor": "white",
           "zerolinewidth": 2
          }
         }
        },
        "title": {
         "text": "R1 Structures: Frequency and Impact on Score Relative to All Factions Average (148.13): terrans"
        }
       }
      },
      "text/html": [
       "<div>                            <div id=\"10461940-e0fb-4b23-916a-f412f18a19c2\" class=\"plotly-graph-div\" style=\"height:525px; width:100%;\"></div>            <script type=\"text/javascript\">                require([\"plotly\"], function(Plotly) {                    window.PLOTLYENV=window.PLOTLYENV || {};                                    if (document.getElementById(\"10461940-e0fb-4b23-916a-f412f18a19c2\")) {                    Plotly.newPlot(                        \"10461940-e0fb-4b23-916a-f412f18a19c2\",                        [{\"branchvalues\":\"total\",\"customdata\":[[179.93333333333334,146.5681818181818],[124.88888888888889,142.44444444444446],[157.12,136.9],[167.6,142.45],[128.0,149.0],[210.2,162.4],[249.29268292682926,162.12605042016807],[159.05917159763314,144.59036144578315],[168.85106382978722,134.17021276595744],[214.73333333333332,141.64285714285714],[218.0,138.16666666666666],[314.0,147.0],[198.1764705882353,152.65671641791045],[179.43076923076924,147.06153846153848],[181.5,123.0],[318.0,194.0],[235.34782608695653,165.82608695652175],[213.79611650485438,155.9593094944513],[191.30172413793105,148.71615720524017],[219.88888888888889,157.55555555555554],[219.27272727272728,157.51724137931035],[122.5,107.25],[187.65573770491804,157.72881355932202],[187.5206611570248,149.64102564102564],[294.0,169.0],[0.0,107.25],[268.25,179.25],[236.12698412698413,164.088],[75.0,110.66666666666667],[239.64705882352942,173.6875],[\"(?)\",152.93466949351887],[\"(?)\",163.13316095669038],[\"(?)\",167.66666666666666],[\"(?)\",152.03138758940855],[0.0,107.25],[\"(?)\",115.4],[\"(?)\",153.18346525713437]],\"domain\":{\"x\":[0.0,1.0],\"y\":[0.0,1.0]},\"hovertemplate\":\"labels=%{label}<br>class_counts=%{value}<br>parent=%{parent}<br>id=%{id}<br>ave_elo_terrans=%{customdata[0]}<br>ave_score_terrans=%{color}<extra></extra>\",\"ids\":[\"R1 Structs/PI/ 0-m_0-ts_1-lab_1-pi_0-ac1_0-ac2\",\"R1 Structs/lab/ 0-m_0-ts_2-lab_0-pi_0-ac1_0-ac2\",\"R1 Structs/PI/ 0-m_1-ts_0-lab_1-pi_0-ac1_0-ac2\",\"R1 Structs/lab/ 0-m_1-ts_1-lab_0-pi_0-ac1_0-ac2\",\"R1 Structs/lab/ 0-m_2-ts_1-lab_0-pi_0-ac1_0-ac2\",\"R1 Structs/ac2/ 1-m_0-ts_0-lab_0-pi_0-ac1_1-ac2\",\"R1 Structs/ac1/ 1-m_0-ts_0-lab_0-pi_1-ac1_0-ac2\",\"R1 Structs/PI/ 1-m_0-ts_0-lab_1-pi_0-ac1_0-ac2\",\"R1 Structs/lab/ 1-m_0-ts_1-lab_0-pi_0-ac1_0-ac2\",\"R1 Structs/PI/ 1-m_0-ts_1-lab_1-pi_0-ac1_0-ac2\",\"R1 Structs/lab/ 1-m_0-ts_2-lab_0-pi_0-ac1_0-ac2\",\"R1 Structs/ts/ 1-m_1-ts_0-lab_0-pi_0-ac1_0-ac2\",\"R1 Structs/PI/ 1-m_1-ts_0-lab_1-pi_0-ac1_0-ac2\",\"R1 Structs/lab/ 1-m_1-ts_1-lab_0-pi_0-ac1_0-ac2\",\"R1 Structs/ts/ 1-m_2-ts_0-lab_0-pi_0-ac1_0-ac2\",\"R1 Structs/ac2/ 2-m_0-ts_0-lab_0-pi_0-ac1_1-ac2\",\"R1 Structs/ac1/ 2-m_0-ts_0-lab_0-pi_1-ac1_0-ac2\",\"R1 Structs/PI/ 2-m_0-ts_0-lab_1-pi_0-ac1_0-ac2\",\"R1 Structs/lab/ 2-m_0-ts_1-lab_0-pi_0-ac1_0-ac2\",\"R1 Structs/PI/ 2-m_1-ts_0-lab_1-pi_0-ac1_0-ac2\",\"R1 Structs/lab/ 2-m_1-ts_1-lab_0-pi_0-ac1_0-ac2\",\"R1 Structs/ts/ 2-m_2-ts_0-lab_0-pi_0-ac1_0-ac2\",\"R1 Structs/PI/ 3-m_0-ts_0-lab_1-pi_0-ac1_0-ac2\",\"R1 Structs/lab/ 3-m_0-ts_1-lab_0-pi_0-ac1_0-ac2\",\"R1 Structs/lab/ 3-m_1-ts_1-lab_0-pi_0-ac1_0-ac2\",\"R1 Structs/m/ 4-m_0-ts_0-lab_0-pi_0-ac1_0-ac2\",\"R1 Structs/PI/ 4-m_0-ts_0-lab_1-pi_0-ac1_0-ac2\",\"R1 Structs/lab/ 4-m_0-ts_1-lab_0-pi_0-ac1_0-ac2\",\"R1 Structs/ts/ 4-m_1-ts_0-lab_0-pi_0-ac1_0-ac2\",\"R1 Structs/lab/ 5-m_0-ts_1-lab_0-pi_0-ac1_0-ac2\",\"R1 Structs/PI\",\"R1 Structs/ac1\",\"R1 Structs/ac2\",\"R1 Structs/lab\",\"R1 Structs/m\",\"R1 Structs/ts\",\"R1 Structs\"],\"labels\":[\" 0-m_0-ts_1-lab_1-pi_0-ac1_0-ac2\",\" 0-m_0-ts_2-lab_0-pi_0-ac1_0-ac2\",\" 0-m_1-ts_0-lab_1-pi_0-ac1_0-ac2\",\" 0-m_1-ts_1-lab_0-pi_0-ac1_0-ac2\",\" 0-m_2-ts_1-lab_0-pi_0-ac1_0-ac2\",\" 1-m_0-ts_0-lab_0-pi_0-ac1_1-ac2\",\" 1-m_0-ts_0-lab_0-pi_1-ac1_0-ac2\",\" 1-m_0-ts_0-lab_1-pi_0-ac1_0-ac2\",\" 1-m_0-ts_1-lab_0-pi_0-ac1_0-ac2\",\" 1-m_0-ts_1-lab_1-pi_0-ac1_0-ac2\",\" 1-m_0-ts_2-lab_0-pi_0-ac1_0-ac2\",\" 1-m_1-ts_0-lab_0-pi_0-ac1_0-ac2\",\" 1-m_1-ts_0-lab_1-pi_0-ac1_0-ac2\",\" 1-m_1-ts_1-lab_0-pi_0-ac1_0-ac2\",\" 1-m_2-ts_0-lab_0-pi_0-ac1_0-ac2\",\" 2-m_0-ts_0-lab_0-pi_0-ac1_1-ac2\",\" 2-m_0-ts_0-lab_0-pi_1-ac1_0-ac2\",\" 2-m_0-ts_0-lab_1-pi_0-ac1_0-ac2\",\" 2-m_0-ts_1-lab_0-pi_0-ac1_0-ac2\",\" 2-m_1-ts_0-lab_1-pi_0-ac1_0-ac2\",\" 2-m_1-ts_1-lab_0-pi_0-ac1_0-ac2\",\" 2-m_2-ts_0-lab_0-pi_0-ac1_0-ac2\",\" 3-m_0-ts_0-lab_1-pi_0-ac1_0-ac2\",\" 3-m_0-ts_1-lab_0-pi_0-ac1_0-ac2\",\" 3-m_1-ts_1-lab_0-pi_0-ac1_0-ac2\",\" 4-m_0-ts_0-lab_0-pi_0-ac1_0-ac2\",\" 4-m_0-ts_0-lab_1-pi_0-ac1_0-ac2\",\" 4-m_0-ts_1-lab_0-pi_0-ac1_0-ac2\",\" 4-m_1-ts_0-lab_0-pi_0-ac1_0-ac2\",\" 5-m_0-ts_1-lab_0-pi_0-ac1_0-ac2\",\"PI\",\"ac1\",\"ac2\",\"lab\",\"m\",\"ts\",\"R1 Structs\"],\"marker\":{\"coloraxis\":\"coloraxis\",\"colors\":[146.5681818181818,142.44444444444446,136.9,142.45,149.0,162.4,162.12605042016807,144.59036144578315,134.17021276595744,141.64285714285714,138.16666666666666,147.0,152.65671641791045,147.06153846153848,123.0,194.0,165.82608695652175,155.9593094944513,148.71615720524017,157.55555555555554,157.51724137931035,107.25,157.72881355932202,149.64102564102564,169.0,107.25,179.25,164.088,110.66666666666667,173.6875,152.93466949351887,163.13316095669038,167.66666666666666,152.03138758940855,107.25,115.4,153.18346525713437]},\"name\":\"\",\"parents\":[\"R1 Structs/PI\",\"R1 Structs/lab\",\"R1 Structs/PI\",\"R1 Structs/lab\",\"R1 Structs/lab\",\"R1 Structs/ac2\",\"R1 Structs/ac1\",\"R1 Structs/PI\",\"R1 Structs/lab\",\"R1 Structs/PI\",\"R1 Structs/lab\",\"R1 Structs/ts\",\"R1 Structs/PI\",\"R1 Structs/lab\",\"R1 Structs/ts\",\"R1 Structs/ac2\",\"R1 Structs/ac1\",\"R1 Structs/PI\",\"R1 Structs/lab\",\"R1 Structs/PI\",\"R1 Structs/lab\",\"R1 Structs/ts\",\"R1 Structs/PI\",\"R1 Structs/lab\",\"R1 Structs/lab\",\"R1 Structs/m\",\"R1 Structs/PI\",\"R1 Structs/lab\",\"R1 Structs/ts\",\"R1 Structs/lab\",\"R1 Structs\",\"R1 Structs\",\"R1 Structs\",\"R1 Structs\",\"R1 Structs\",\"R1 Structs\",\"\"],\"values\":[90,9,50,20,1,5,123,169,47,15,6,1,68,65,2,1,46,824,232,18,121,4,61,121,2,4,4,126,3,17,1299,169,6,767,4,10,2255],\"type\":\"treemap\"}],                        {\"template\":{\"data\":{\"bar\":[{\"error_x\":{\"color\":\"#2a3f5f\"},\"error_y\":{\"color\":\"#2a3f5f\"},\"marker\":{\"line\":{\"color\":\"#E5ECF6\",\"width\":0.5},\"pattern\":{\"fillmode\":\"overlay\",\"size\":10,\"solidity\":0.2}},\"type\":\"bar\"}],\"barpolar\":[{\"marker\":{\"line\":{\"color\":\"#E5ECF6\",\"width\":0.5},\"pattern\":{\"fillmode\":\"overlay\",\"size\":10,\"solidity\":0.2}},\"type\":\"barpolar\"}],\"carpet\":[{\"aaxis\":{\"endlinecolor\":\"#2a3f5f\",\"gridcolor\":\"white\",\"linecolor\":\"white\",\"minorgridcolor\":\"white\",\"startlinecolor\":\"#2a3f5f\"},\"baxis\":{\"endlinecolor\":\"#2a3f5f\",\"gridcolor\":\"white\",\"linecolor\":\"white\",\"minorgridcolor\":\"white\",\"startlinecolor\":\"#2a3f5f\"},\"type\":\"carpet\"}],\"choropleth\":[{\"colorbar\":{\"outlinewidth\":0,\"ticks\":\"\"},\"type\":\"choropleth\"}],\"contour\":[{\"colorbar\":{\"outlinewidth\":0,\"ticks\":\"\"},\"colorscale\":[[0.0,\"#0d0887\"],[0.1111111111111111,\"#46039f\"],[0.2222222222222222,\"#7201a8\"],[0.3333333333333333,\"#9c179e\"],[0.4444444444444444,\"#bd3786\"],[0.5555555555555556,\"#d8576b\"],[0.6666666666666666,\"#ed7953\"],[0.7777777777777778,\"#fb9f3a\"],[0.8888888888888888,\"#fdca26\"],[1.0,\"#f0f921\"]],\"type\":\"contour\"}],\"contourcarpet\":[{\"colorbar\":{\"outlinewidth\":0,\"ticks\":\"\"},\"type\":\"contourcarpet\"}],\"heatmap\":[{\"colorbar\":{\"outlinewidth\":0,\"ticks\":\"\"},\"colorscale\":[[0.0,\"#0d0887\"],[0.1111111111111111,\"#46039f\"],[0.2222222222222222,\"#7201a8\"],[0.3333333333333333,\"#9c179e\"],[0.4444444444444444,\"#bd3786\"],[0.5555555555555556,\"#d8576b\"],[0.6666666666666666,\"#ed7953\"],[0.7777777777777778,\"#fb9f3a\"],[0.8888888888888888,\"#fdca26\"],[1.0,\"#f0f921\"]],\"type\":\"heatmap\"}],\"heatmapgl\":[{\"colorbar\":{\"outlinewidth\":0,\"ticks\":\"\"},\"colorscale\":[[0.0,\"#0d0887\"],[0.1111111111111111,\"#46039f\"],[0.2222222222222222,\"#7201a8\"],[0.3333333333333333,\"#9c179e\"],[0.4444444444444444,\"#bd3786\"],[0.5555555555555556,\"#d8576b\"],[0.6666666666666666,\"#ed7953\"],[0.7777777777777778,\"#fb9f3a\"],[0.8888888888888888,\"#fdca26\"],[1.0,\"#f0f921\"]],\"type\":\"heatmapgl\"}],\"histogram\":[{\"marker\":{\"pattern\":{\"fillmode\":\"overlay\",\"size\":10,\"solidity\":0.2}},\"type\":\"histogram\"}],\"histogram2d\":[{\"colorbar\":{\"outlinewidth\":0,\"ticks\":\"\"},\"colorscale\":[[0.0,\"#0d0887\"],[0.1111111111111111,\"#46039f\"],[0.2222222222222222,\"#7201a8\"],[0.3333333333333333,\"#9c179e\"],[0.4444444444444444,\"#bd3786\"],[0.5555555555555556,\"#d8576b\"],[0.6666666666666666,\"#ed7953\"],[0.7777777777777778,\"#fb9f3a\"],[0.8888888888888888,\"#fdca26\"],[1.0,\"#f0f921\"]],\"type\":\"histogram2d\"}],\"histogram2dcontour\":[{\"colorbar\":{\"outlinewidth\":0,\"ticks\":\"\"},\"colorscale\":[[0.0,\"#0d0887\"],[0.1111111111111111,\"#46039f\"],[0.2222222222222222,\"#7201a8\"],[0.3333333333333333,\"#9c179e\"],[0.4444444444444444,\"#bd3786\"],[0.5555555555555556,\"#d8576b\"],[0.6666666666666666,\"#ed7953\"],[0.7777777777777778,\"#fb9f3a\"],[0.8888888888888888,\"#fdca26\"],[1.0,\"#f0f921\"]],\"type\":\"histogram2dcontour\"}],\"mesh3d\":[{\"colorbar\":{\"outlinewidth\":0,\"ticks\":\"\"},\"type\":\"mesh3d\"}],\"parcoords\":[{\"line\":{\"colorbar\":{\"outlinewidth\":0,\"ticks\":\"\"}},\"type\":\"parcoords\"}],\"pie\":[{\"automargin\":true,\"type\":\"pie\"}],\"scatter\":[{\"marker\":{\"colorbar\":{\"outlinewidth\":0,\"ticks\":\"\"}},\"type\":\"scatter\"}],\"scatter3d\":[{\"line\":{\"colorbar\":{\"outlinewidth\":0,\"ticks\":\"\"}},\"marker\":{\"colorbar\":{\"outlinewidth\":0,\"ticks\":\"\"}},\"type\":\"scatter3d\"}],\"scattercarpet\":[{\"marker\":{\"colorbar\":{\"outlinewidth\":0,\"ticks\":\"\"}},\"type\":\"scattercarpet\"}],\"scattergeo\":[{\"marker\":{\"colorbar\":{\"outlinewidth\":0,\"ticks\":\"\"}},\"type\":\"scattergeo\"}],\"scattergl\":[{\"marker\":{\"colorbar\":{\"outlinewidth\":0,\"ticks\":\"\"}},\"type\":\"scattergl\"}],\"scattermapbox\":[{\"marker\":{\"colorbar\":{\"outlinewidth\":0,\"ticks\":\"\"}},\"type\":\"scattermapbox\"}],\"scatterpolar\":[{\"marker\":{\"colorbar\":{\"outlinewidth\":0,\"ticks\":\"\"}},\"type\":\"scatterpolar\"}],\"scatterpolargl\":[{\"marker\":{\"colorbar\":{\"outlinewidth\":0,\"ticks\":\"\"}},\"type\":\"scatterpolargl\"}],\"scatterternary\":[{\"marker\":{\"colorbar\":{\"outlinewidth\":0,\"ticks\":\"\"}},\"type\":\"scatterternary\"}],\"surface\":[{\"colorbar\":{\"outlinewidth\":0,\"ticks\":\"\"},\"colorscale\":[[0.0,\"#0d0887\"],[0.1111111111111111,\"#46039f\"],[0.2222222222222222,\"#7201a8\"],[0.3333333333333333,\"#9c179e\"],[0.4444444444444444,\"#bd3786\"],[0.5555555555555556,\"#d8576b\"],[0.6666666666666666,\"#ed7953\"],[0.7777777777777778,\"#fb9f3a\"],[0.8888888888888888,\"#fdca26\"],[1.0,\"#f0f921\"]],\"type\":\"surface\"}],\"table\":[{\"cells\":{\"fill\":{\"color\":\"#EBF0F8\"},\"line\":{\"color\":\"white\"}},\"header\":{\"fill\":{\"color\":\"#C8D4E3\"},\"line\":{\"color\":\"white\"}},\"type\":\"table\"}]},\"layout\":{\"annotationdefaults\":{\"arrowcolor\":\"#2a3f5f\",\"arrowhead\":0,\"arrowwidth\":1},\"autotypenumbers\":\"strict\",\"coloraxis\":{\"colorbar\":{\"outlinewidth\":0,\"ticks\":\"\"}},\"colorscale\":{\"diverging\":[[0,\"#8e0152\"],[0.1,\"#c51b7d\"],[0.2,\"#de77ae\"],[0.3,\"#f1b6da\"],[0.4,\"#fde0ef\"],[0.5,\"#f7f7f7\"],[0.6,\"#e6f5d0\"],[0.7,\"#b8e186\"],[0.8,\"#7fbc41\"],[0.9,\"#4d9221\"],[1,\"#276419\"]],\"sequential\":[[0.0,\"#0d0887\"],[0.1111111111111111,\"#46039f\"],[0.2222222222222222,\"#7201a8\"],[0.3333333333333333,\"#9c179e\"],[0.4444444444444444,\"#bd3786\"],[0.5555555555555556,\"#d8576b\"],[0.6666666666666666,\"#ed7953\"],[0.7777777777777778,\"#fb9f3a\"],[0.8888888888888888,\"#fdca26\"],[1.0,\"#f0f921\"]],\"sequentialminus\":[[0.0,\"#0d0887\"],[0.1111111111111111,\"#46039f\"],[0.2222222222222222,\"#7201a8\"],[0.3333333333333333,\"#9c179e\"],[0.4444444444444444,\"#bd3786\"],[0.5555555555555556,\"#d8576b\"],[0.6666666666666666,\"#ed7953\"],[0.7777777777777778,\"#fb9f3a\"],[0.8888888888888888,\"#fdca26\"],[1.0,\"#f0f921\"]]},\"colorway\":[\"#636efa\",\"#EF553B\",\"#00cc96\",\"#ab63fa\",\"#FFA15A\",\"#19d3f3\",\"#FF6692\",\"#B6E880\",\"#FF97FF\",\"#FECB52\"],\"font\":{\"color\":\"#2a3f5f\"},\"geo\":{\"bgcolor\":\"white\",\"lakecolor\":\"white\",\"landcolor\":\"#E5ECF6\",\"showlakes\":true,\"showland\":true,\"subunitcolor\":\"white\"},\"hoverlabel\":{\"align\":\"left\"},\"hovermode\":\"closest\",\"mapbox\":{\"style\":\"light\"},\"paper_bgcolor\":\"white\",\"plot_bgcolor\":\"#E5ECF6\",\"polar\":{\"angularaxis\":{\"gridcolor\":\"white\",\"linecolor\":\"white\",\"ticks\":\"\"},\"bgcolor\":\"#E5ECF6\",\"radialaxis\":{\"gridcolor\":\"white\",\"linecolor\":\"white\",\"ticks\":\"\"}},\"scene\":{\"xaxis\":{\"backgroundcolor\":\"#E5ECF6\",\"gridcolor\":\"white\",\"gridwidth\":2,\"linecolor\":\"white\",\"showbackground\":true,\"ticks\":\"\",\"zerolinecolor\":\"white\"},\"yaxis\":{\"backgroundcolor\":\"#E5ECF6\",\"gridcolor\":\"white\",\"gridwidth\":2,\"linecolor\":\"white\",\"showbackground\":true,\"ticks\":\"\",\"zerolinecolor\":\"white\"},\"zaxis\":{\"backgroundcolor\":\"#E5ECF6\",\"gridcolor\":\"white\",\"gridwidth\":2,\"linecolor\":\"white\",\"showbackground\":true,\"ticks\":\"\",\"zerolinecolor\":\"white\"}},\"shapedefaults\":{\"line\":{\"color\":\"#2a3f5f\"}},\"ternary\":{\"aaxis\":{\"gridcolor\":\"white\",\"linecolor\":\"white\",\"ticks\":\"\"},\"baxis\":{\"gridcolor\":\"white\",\"linecolor\":\"white\",\"ticks\":\"\"},\"bgcolor\":\"#E5ECF6\",\"caxis\":{\"gridcolor\":\"white\",\"linecolor\":\"white\",\"ticks\":\"\"}},\"title\":{\"x\":0.05},\"xaxis\":{\"automargin\":true,\"gridcolor\":\"white\",\"linecolor\":\"white\",\"ticks\":\"\",\"title\":{\"standoff\":15},\"zerolinecolor\":\"white\",\"zerolinewidth\":2},\"yaxis\":{\"automargin\":true,\"gridcolor\":\"white\",\"linecolor\":\"white\",\"ticks\":\"\",\"title\":{\"standoff\":15},\"zerolinecolor\":\"white\",\"zerolinewidth\":2}}},\"coloraxis\":{\"colorbar\":{\"title\":{\"text\":\"ave_score_terrans\"}},\"colorscale\":[[0.0,\"rgb(103,0,31)\"],[0.1,\"rgb(178,24,43)\"],[0.2,\"rgb(214,96,77)\"],[0.3,\"rgb(244,165,130)\"],[0.4,\"rgb(253,219,199)\"],[0.5,\"rgb(247,247,247)\"],[0.6,\"rgb(209,229,240)\"],[0.7,\"rgb(146,197,222)\"],[0.8,\"rgb(67,147,195)\"],[0.9,\"rgb(33,102,172)\"],[1.0,\"rgb(5,48,97)\"]],\"cmid\":148.12743354661777},\"legend\":{\"tracegroupgap\":0},\"margin\":{\"t\":50,\"l\":25,\"r\":25,\"b\":25},\"title\":{\"text\":\"R1 Structures: Frequency and Impact on Score Relative to All Factions Average (148.13): terrans\"}},                        {\"responsive\": true}                    ).then(function(){\n",
       "                            \n",
       "var gd = document.getElementById('10461940-e0fb-4b23-916a-f412f18a19c2');\n",
       "var x = new MutationObserver(function (mutations, observer) {{\n",
       "        var display = window.getComputedStyle(gd).display;\n",
       "        if (!display || display === 'none') {{\n",
       "            console.log([gd, 'removed!']);\n",
       "            Plotly.purge(gd);\n",
       "            observer.disconnect();\n",
       "        }}\n",
       "}});\n",
       "\n",
       "// Listen for the removal of the full notebook cells\n",
       "var notebookContainer = gd.closest('#notebook-container');\n",
       "if (notebookContainer) {{\n",
       "    x.observe(notebookContainer, {childList: true});\n",
       "}}\n",
       "\n",
       "// Listen for the clearing of the current output cell\n",
       "var outputEl = gd.closest('.output');\n",
       "if (outputEl) {{\n",
       "    x.observe(outputEl, {childList: true});\n",
       "}}\n",
       "\n",
       "                        })                };                });            </script>        </div>"
      ]
     },
     "metadata": {},
     "output_type": "display_data"
    },
    {
     "data": {
      "application/vnd.plotly.v1+json": {
       "config": {
        "plotlyServerURL": "https://plot.ly"
       },
       "data": [
        {
         "branchvalues": "total",
         "customdata": [
          [
           45,
           107
          ],
          [
           275,
           145
          ],
          [
           118,
           108
          ],
          [
           176.66666666666666,
           148.66666666666666
          ],
          [
           134,
           143
          ],
          [
           82,
           140
          ],
          [
           274.32307692307694,
           143.52380952380952
          ],
          [
           230,
           110.75
          ],
          [
           225.6315789473684,
           140.73684210526315
          ],
          [
           345,
           193
          ],
          [
           195.83333333333334,
           124.16666666666667
          ],
          [
           208.5952380952381,
           146.26190476190476
          ],
          [
           222.5,
           134
          ],
          [
           285.4375,
           147.5625
          ],
          [
           174.98717948717947,
           138.69677419354838
          ],
          [
           220.9322033898305,
           151.10526315789474
          ],
          [
           245,
           176
          ],
          [
           166.5,
           142.5
          ],
          [
           232.66666666666666,
           155.38095238095238
          ],
          [
           201.3030303030303,
           151.1875
          ],
          [
           144.8,
           114.2
          ],
          [
           173.6551724137931,
           138.7337278106509
          ],
          [
           193.82258064516128,
           135.3050847457627
          ],
          [
           0.6666666666666666,
           88.66666666666667
          ],
          [
           276.5,
           181.5
          ],
          [
           248.05882352941177,
           158.28658536585365
          ],
          [
           234.95744680851064,
           148.08695652173913
          ],
          [
           124,
           92
          ],
          [
           275.81,
           168.86868686868686
          ],
          [
           221,
           170.5
          ],
          [
           251.53846153846155,
           198.53846153846155
          ],
          [
           135,
           160
          ],
          [
           151,
           215
          ],
          [
           343.57142857142856,
           201.57142857142858
          ],
          [
           266.6666666666667,
           196.66666666666666
          ],
          [
           "(?)",
           150.81866104578643
          ],
          [
           "(?)",
           144.32157554379776
          ],
          [
           82,
           140
          ],
          [
           "(?)",
           146.85380895284172
          ],
          [
           "(?)",
           119.71428571428571
          ],
          [
           "(?)",
           148.7204885167574
          ]
         ],
         "domain": {
          "x": [
           0,
           1
          ],
          "y": [
           0,
           1
          ]
         },
         "hovertemplate": "labels=%{label}<br>class_counts=%{value}<br>parent=%{parent}<br>id=%{id}<br>ave_elo_lantids=%{customdata[0]}<br>ave_score_lantids=%{color}<extra></extra>",
         "ids": [
          "R1 Structs/PI/ 0-m_0-ts_1-lab_1-pi_0-ac1_0-ac2",
          "R1 Structs/lab/ 0-m_0-ts_2-lab_0-pi_0-ac1_0-ac2",
          "R1 Structs/PI/ 0-m_1-ts_0-lab_1-pi_0-ac1_0-ac2",
          "R1 Structs/lab/ 0-m_1-ts_1-lab_0-pi_0-ac1_0-ac2",
          "R1 Structs/ts/ 0-m_3-ts_0-lab_0-pi_0-ac1_0-ac2",
          "R1 Structs/ac2/ 1-m_0-ts_0-lab_0-pi_0-ac1_1-ac2",
          "R1 Structs/ac1/ 1-m_0-ts_0-lab_0-pi_1-ac1_0-ac2",
          "R1 Structs/PI/ 1-m_0-ts_0-lab_1-pi_0-ac1_0-ac2",
          "R1 Structs/lab/ 1-m_0-ts_1-lab_0-pi_0-ac1_0-ac2",
          "R1 Structs/lab/ 1-m_0-ts_2-lab_0-pi_0-ac1_0-ac2",
          "R1 Structs/PI/ 1-m_1-ts_0-lab_1-pi_0-ac1_0-ac2",
          "R1 Structs/lab/ 1-m_1-ts_1-lab_0-pi_0-ac1_0-ac2",
          "R1 Structs/ts/ 1-m_2-ts_0-lab_0-pi_0-ac1_0-ac2",
          "R1 Structs/ac1/ 2-m_0-ts_0-lab_0-pi_1-ac1_0-ac2",
          "R1 Structs/PI/ 2-m_0-ts_0-lab_1-pi_0-ac1_0-ac2",
          "R1 Structs/lab/ 2-m_0-ts_1-lab_0-pi_0-ac1_0-ac2",
          "R1 Structs/PI/ 2-m_0-ts_1-lab_1-pi_0-ac1_0-ac2",
          "R1 Structs/ts/ 2-m_1-ts_0-lab_0-pi_0-ac1_0-ac2",
          "R1 Structs/PI/ 2-m_1-ts_0-lab_1-pi_0-ac1_0-ac2",
          "R1 Structs/lab/ 2-m_1-ts_1-lab_0-pi_0-ac1_0-ac2",
          "R1 Structs/ts/ 2-m_2-ts_0-lab_0-pi_0-ac1_0-ac2",
          "R1 Structs/PI/ 3-m_0-ts_0-lab_1-pi_0-ac1_0-ac2",
          "R1 Structs/lab/ 3-m_0-ts_1-lab_0-pi_0-ac1_0-ac2",
          "R1 Structs/ts/ 3-m_1-ts_0-lab_0-pi_0-ac1_0-ac2",
          "R1 Structs/PI/ 3-m_1-ts_0-lab_1-pi_0-ac1_0-ac2",
          "R1 Structs/PI/ 4-m_0-ts_0-lab_1-pi_0-ac1_0-ac2",
          "R1 Structs/lab/ 4-m_0-ts_1-lab_0-pi_0-ac1_0-ac2",
          "R1 Structs/PI/ 4-m_1-ts_0-lab_1-pi_0-ac1_0-ac2",
          "R1 Structs/PI/ 5-m_0-ts_0-lab_1-pi_0-ac1_0-ac2",
          "R1 Structs/lab/ 5-m_0-ts_1-lab_0-pi_0-ac1_0-ac2",
          "R1 Structs/PI/ 6-m_0-ts_0-lab_1-pi_0-ac1_0-ac2",
          "R1 Structs/lab/ 6-m_0-ts_1-lab_0-pi_0-ac1_0-ac2",
          "R1 Structs/PI/ 6-m_1-ts_0-lab_1-pi_0-ac1_0-ac2",
          "R1 Structs/PI/ 7-m_0-ts_0-lab_1-pi_0-ac1_0-ac2",
          "R1 Structs/PI/ 8-m_0-ts_0-lab_1-pi_0-ac1_0-ac2",
          "R1 Structs/PI",
          "R1 Structs/ac1",
          "R1 Structs/ac2",
          "R1 Structs/lab",
          "R1 Structs/ts",
          "R1 Structs"
         ],
         "labels": [
          " 0-m_0-ts_1-lab_1-pi_0-ac1_0-ac2",
          " 0-m_0-ts_2-lab_0-pi_0-ac1_0-ac2",
          " 0-m_1-ts_0-lab_1-pi_0-ac1_0-ac2",
          " 0-m_1-ts_1-lab_0-pi_0-ac1_0-ac2",
          " 0-m_3-ts_0-lab_0-pi_0-ac1_0-ac2",
          " 1-m_0-ts_0-lab_0-pi_0-ac1_1-ac2",
          " 1-m_0-ts_0-lab_0-pi_1-ac1_0-ac2",
          " 1-m_0-ts_0-lab_1-pi_0-ac1_0-ac2",
          " 1-m_0-ts_1-lab_0-pi_0-ac1_0-ac2",
          " 1-m_0-ts_2-lab_0-pi_0-ac1_0-ac2",
          " 1-m_1-ts_0-lab_1-pi_0-ac1_0-ac2",
          " 1-m_1-ts_1-lab_0-pi_0-ac1_0-ac2",
          " 1-m_2-ts_0-lab_0-pi_0-ac1_0-ac2",
          " 2-m_0-ts_0-lab_0-pi_1-ac1_0-ac2",
          " 2-m_0-ts_0-lab_1-pi_0-ac1_0-ac2",
          " 2-m_0-ts_1-lab_0-pi_0-ac1_0-ac2",
          " 2-m_0-ts_1-lab_1-pi_0-ac1_0-ac2",
          " 2-m_1-ts_0-lab_0-pi_0-ac1_0-ac2",
          " 2-m_1-ts_0-lab_1-pi_0-ac1_0-ac2",
          " 2-m_1-ts_1-lab_0-pi_0-ac1_0-ac2",
          " 2-m_2-ts_0-lab_0-pi_0-ac1_0-ac2",
          " 3-m_0-ts_0-lab_1-pi_0-ac1_0-ac2",
          " 3-m_0-ts_1-lab_0-pi_0-ac1_0-ac2",
          " 3-m_1-ts_0-lab_0-pi_0-ac1_0-ac2",
          " 3-m_1-ts_0-lab_1-pi_0-ac1_0-ac2",
          " 4-m_0-ts_0-lab_1-pi_0-ac1_0-ac2",
          " 4-m_0-ts_1-lab_0-pi_0-ac1_0-ac2",
          " 4-m_1-ts_0-lab_1-pi_0-ac1_0-ac2",
          " 5-m_0-ts_0-lab_1-pi_0-ac1_0-ac2",
          " 5-m_0-ts_1-lab_0-pi_0-ac1_0-ac2",
          " 6-m_0-ts_0-lab_1-pi_0-ac1_0-ac2",
          " 6-m_0-ts_1-lab_0-pi_0-ac1_0-ac2",
          " 6-m_1-ts_0-lab_1-pi_0-ac1_0-ac2",
          " 7-m_0-ts_0-lab_1-pi_0-ac1_0-ac2",
          " 8-m_0-ts_0-lab_1-pi_0-ac1_0-ac2",
          "PI",
          "ac1",
          "ac2",
          "lab",
          "ts",
          "R1 Structs"
         ],
         "marker": {
          "coloraxis": "coloraxis",
          "colors": [
           107,
           145,
           108,
           148.66666666666666,
           143,
           140,
           143.52380952380952,
           110.75,
           140.73684210526315,
           193,
           124.16666666666667,
           146.26190476190476,
           134,
           147.5625,
           138.69677419354838,
           151.10526315789474,
           176,
           142.5,
           155.38095238095238,
           151.1875,
           114.2,
           138.7337278106509,
           135.3050847457627,
           88.66666666666667,
           181.5,
           158.28658536585365,
           148.08695652173913,
           92,
           168.86868686868686,
           170.5,
           198.53846153846155,
           160,
           215,
           201.57142857142858,
           196.66666666666666,
           150.81866104578643,
           144.32157554379776,
           140,
           146.85380895284172,
           119.71428571428571,
           148.7204885167574
          ]
         },
         "name": "",
         "parents": [
          "R1 Structs/PI",
          "R1 Structs/lab",
          "R1 Structs/PI",
          "R1 Structs/lab",
          "R1 Structs/ts",
          "R1 Structs/ac2",
          "R1 Structs/ac1",
          "R1 Structs/PI",
          "R1 Structs/lab",
          "R1 Structs/lab",
          "R1 Structs/PI",
          "R1 Structs/lab",
          "R1 Structs/ts",
          "R1 Structs/ac1",
          "R1 Structs/PI",
          "R1 Structs/lab",
          "R1 Structs/PI",
          "R1 Structs/ts",
          "R1 Structs/PI",
          "R1 Structs/lab",
          "R1 Structs/ts",
          "R1 Structs/PI",
          "R1 Structs/lab",
          "R1 Structs/ts",
          "R1 Structs/PI",
          "R1 Structs/PI",
          "R1 Structs/lab",
          "R1 Structs/PI",
          "R1 Structs/PI",
          "R1 Structs/lab",
          "R1 Structs/PI",
          "R1 Structs/lab",
          "R1 Structs/PI",
          "R1 Structs/PI",
          "R1 Structs/PI",
          "R1 Structs",
          "R1 Structs",
          "R1 Structs",
          "R1 Structs",
          "R1 Structs",
          ""
         ],
         "type": "treemap",
         "values": [
          1,
          2,
          1,
          3,
          2,
          1,
          65,
          4,
          19,
          2,
          6,
          42,
          2,
          16,
          156,
          118,
          2,
          2,
          21,
          33,
          5,
          174,
          62,
          3,
          2,
          170,
          47,
          1,
          100,
          2,
          13,
          1,
          1,
          7,
          3,
          662,
          81,
          1,
          331,
          14,
          1089
         ]
        }
       ],
       "layout": {
        "coloraxis": {
         "cmid": 148.12743354661777,
         "colorbar": {
          "title": {
           "text": "ave_score_lantids"
          }
         },
         "colorscale": [
          [
           0,
           "rgb(103,0,31)"
          ],
          [
           0.1,
           "rgb(178,24,43)"
          ],
          [
           0.2,
           "rgb(214,96,77)"
          ],
          [
           0.3,
           "rgb(244,165,130)"
          ],
          [
           0.4,
           "rgb(253,219,199)"
          ],
          [
           0.5,
           "rgb(247,247,247)"
          ],
          [
           0.6,
           "rgb(209,229,240)"
          ],
          [
           0.7,
           "rgb(146,197,222)"
          ],
          [
           0.8,
           "rgb(67,147,195)"
          ],
          [
           0.9,
           "rgb(33,102,172)"
          ],
          [
           1,
           "rgb(5,48,97)"
          ]
         ]
        },
        "legend": {
         "tracegroupgap": 0
        },
        "margin": {
         "b": 25,
         "l": 25,
         "r": 25,
         "t": 50
        },
        "template": {
         "data": {
          "bar": [
           {
            "error_x": {
             "color": "#2a3f5f"
            },
            "error_y": {
             "color": "#2a3f5f"
            },
            "marker": {
             "line": {
              "color": "#E5ECF6",
              "width": 0.5
             },
             "pattern": {
              "fillmode": "overlay",
              "size": 10,
              "solidity": 0.2
             }
            },
            "type": "bar"
           }
          ],
          "barpolar": [
           {
            "marker": {
             "line": {
              "color": "#E5ECF6",
              "width": 0.5
             },
             "pattern": {
              "fillmode": "overlay",
              "size": 10,
              "solidity": 0.2
             }
            },
            "type": "barpolar"
           }
          ],
          "carpet": [
           {
            "aaxis": {
             "endlinecolor": "#2a3f5f",
             "gridcolor": "white",
             "linecolor": "white",
             "minorgridcolor": "white",
             "startlinecolor": "#2a3f5f"
            },
            "baxis": {
             "endlinecolor": "#2a3f5f",
             "gridcolor": "white",
             "linecolor": "white",
             "minorgridcolor": "white",
             "startlinecolor": "#2a3f5f"
            },
            "type": "carpet"
           }
          ],
          "choropleth": [
           {
            "colorbar": {
             "outlinewidth": 0,
             "ticks": ""
            },
            "type": "choropleth"
           }
          ],
          "contour": [
           {
            "colorbar": {
             "outlinewidth": 0,
             "ticks": ""
            },
            "colorscale": [
             [
              0,
              "#0d0887"
             ],
             [
              0.1111111111111111,
              "#46039f"
             ],
             [
              0.2222222222222222,
              "#7201a8"
             ],
             [
              0.3333333333333333,
              "#9c179e"
             ],
             [
              0.4444444444444444,
              "#bd3786"
             ],
             [
              0.5555555555555556,
              "#d8576b"
             ],
             [
              0.6666666666666666,
              "#ed7953"
             ],
             [
              0.7777777777777778,
              "#fb9f3a"
             ],
             [
              0.8888888888888888,
              "#fdca26"
             ],
             [
              1,
              "#f0f921"
             ]
            ],
            "type": "contour"
           }
          ],
          "contourcarpet": [
           {
            "colorbar": {
             "outlinewidth": 0,
             "ticks": ""
            },
            "type": "contourcarpet"
           }
          ],
          "heatmap": [
           {
            "colorbar": {
             "outlinewidth": 0,
             "ticks": ""
            },
            "colorscale": [
             [
              0,
              "#0d0887"
             ],
             [
              0.1111111111111111,
              "#46039f"
             ],
             [
              0.2222222222222222,
              "#7201a8"
             ],
             [
              0.3333333333333333,
              "#9c179e"
             ],
             [
              0.4444444444444444,
              "#bd3786"
             ],
             [
              0.5555555555555556,
              "#d8576b"
             ],
             [
              0.6666666666666666,
              "#ed7953"
             ],
             [
              0.7777777777777778,
              "#fb9f3a"
             ],
             [
              0.8888888888888888,
              "#fdca26"
             ],
             [
              1,
              "#f0f921"
             ]
            ],
            "type": "heatmap"
           }
          ],
          "heatmapgl": [
           {
            "colorbar": {
             "outlinewidth": 0,
             "ticks": ""
            },
            "colorscale": [
             [
              0,
              "#0d0887"
             ],
             [
              0.1111111111111111,
              "#46039f"
             ],
             [
              0.2222222222222222,
              "#7201a8"
             ],
             [
              0.3333333333333333,
              "#9c179e"
             ],
             [
              0.4444444444444444,
              "#bd3786"
             ],
             [
              0.5555555555555556,
              "#d8576b"
             ],
             [
              0.6666666666666666,
              "#ed7953"
             ],
             [
              0.7777777777777778,
              "#fb9f3a"
             ],
             [
              0.8888888888888888,
              "#fdca26"
             ],
             [
              1,
              "#f0f921"
             ]
            ],
            "type": "heatmapgl"
           }
          ],
          "histogram": [
           {
            "marker": {
             "pattern": {
              "fillmode": "overlay",
              "size": 10,
              "solidity": 0.2
             }
            },
            "type": "histogram"
           }
          ],
          "histogram2d": [
           {
            "colorbar": {
             "outlinewidth": 0,
             "ticks": ""
            },
            "colorscale": [
             [
              0,
              "#0d0887"
             ],
             [
              0.1111111111111111,
              "#46039f"
             ],
             [
              0.2222222222222222,
              "#7201a8"
             ],
             [
              0.3333333333333333,
              "#9c179e"
             ],
             [
              0.4444444444444444,
              "#bd3786"
             ],
             [
              0.5555555555555556,
              "#d8576b"
             ],
             [
              0.6666666666666666,
              "#ed7953"
             ],
             [
              0.7777777777777778,
              "#fb9f3a"
             ],
             [
              0.8888888888888888,
              "#fdca26"
             ],
             [
              1,
              "#f0f921"
             ]
            ],
            "type": "histogram2d"
           }
          ],
          "histogram2dcontour": [
           {
            "colorbar": {
             "outlinewidth": 0,
             "ticks": ""
            },
            "colorscale": [
             [
              0,
              "#0d0887"
             ],
             [
              0.1111111111111111,
              "#46039f"
             ],
             [
              0.2222222222222222,
              "#7201a8"
             ],
             [
              0.3333333333333333,
              "#9c179e"
             ],
             [
              0.4444444444444444,
              "#bd3786"
             ],
             [
              0.5555555555555556,
              "#d8576b"
             ],
             [
              0.6666666666666666,
              "#ed7953"
             ],
             [
              0.7777777777777778,
              "#fb9f3a"
             ],
             [
              0.8888888888888888,
              "#fdca26"
             ],
             [
              1,
              "#f0f921"
             ]
            ],
            "type": "histogram2dcontour"
           }
          ],
          "mesh3d": [
           {
            "colorbar": {
             "outlinewidth": 0,
             "ticks": ""
            },
            "type": "mesh3d"
           }
          ],
          "parcoords": [
           {
            "line": {
             "colorbar": {
              "outlinewidth": 0,
              "ticks": ""
             }
            },
            "type": "parcoords"
           }
          ],
          "pie": [
           {
            "automargin": true,
            "type": "pie"
           }
          ],
          "scatter": [
           {
            "marker": {
             "colorbar": {
              "outlinewidth": 0,
              "ticks": ""
             }
            },
            "type": "scatter"
           }
          ],
          "scatter3d": [
           {
            "line": {
             "colorbar": {
              "outlinewidth": 0,
              "ticks": ""
             }
            },
            "marker": {
             "colorbar": {
              "outlinewidth": 0,
              "ticks": ""
             }
            },
            "type": "scatter3d"
           }
          ],
          "scattercarpet": [
           {
            "marker": {
             "colorbar": {
              "outlinewidth": 0,
              "ticks": ""
             }
            },
            "type": "scattercarpet"
           }
          ],
          "scattergeo": [
           {
            "marker": {
             "colorbar": {
              "outlinewidth": 0,
              "ticks": ""
             }
            },
            "type": "scattergeo"
           }
          ],
          "scattergl": [
           {
            "marker": {
             "colorbar": {
              "outlinewidth": 0,
              "ticks": ""
             }
            },
            "type": "scattergl"
           }
          ],
          "scattermapbox": [
           {
            "marker": {
             "colorbar": {
              "outlinewidth": 0,
              "ticks": ""
             }
            },
            "type": "scattermapbox"
           }
          ],
          "scatterpolar": [
           {
            "marker": {
             "colorbar": {
              "outlinewidth": 0,
              "ticks": ""
             }
            },
            "type": "scatterpolar"
           }
          ],
          "scatterpolargl": [
           {
            "marker": {
             "colorbar": {
              "outlinewidth": 0,
              "ticks": ""
             }
            },
            "type": "scatterpolargl"
           }
          ],
          "scatterternary": [
           {
            "marker": {
             "colorbar": {
              "outlinewidth": 0,
              "ticks": ""
             }
            },
            "type": "scatterternary"
           }
          ],
          "surface": [
           {
            "colorbar": {
             "outlinewidth": 0,
             "ticks": ""
            },
            "colorscale": [
             [
              0,
              "#0d0887"
             ],
             [
              0.1111111111111111,
              "#46039f"
             ],
             [
              0.2222222222222222,
              "#7201a8"
             ],
             [
              0.3333333333333333,
              "#9c179e"
             ],
             [
              0.4444444444444444,
              "#bd3786"
             ],
             [
              0.5555555555555556,
              "#d8576b"
             ],
             [
              0.6666666666666666,
              "#ed7953"
             ],
             [
              0.7777777777777778,
              "#fb9f3a"
             ],
             [
              0.8888888888888888,
              "#fdca26"
             ],
             [
              1,
              "#f0f921"
             ]
            ],
            "type": "surface"
           }
          ],
          "table": [
           {
            "cells": {
             "fill": {
              "color": "#EBF0F8"
             },
             "line": {
              "color": "white"
             }
            },
            "header": {
             "fill": {
              "color": "#C8D4E3"
             },
             "line": {
              "color": "white"
             }
            },
            "type": "table"
           }
          ]
         },
         "layout": {
          "annotationdefaults": {
           "arrowcolor": "#2a3f5f",
           "arrowhead": 0,
           "arrowwidth": 1
          },
          "autotypenumbers": "strict",
          "coloraxis": {
           "colorbar": {
            "outlinewidth": 0,
            "ticks": ""
           }
          },
          "colorscale": {
           "diverging": [
            [
             0,
             "#8e0152"
            ],
            [
             0.1,
             "#c51b7d"
            ],
            [
             0.2,
             "#de77ae"
            ],
            [
             0.3,
             "#f1b6da"
            ],
            [
             0.4,
             "#fde0ef"
            ],
            [
             0.5,
             "#f7f7f7"
            ],
            [
             0.6,
             "#e6f5d0"
            ],
            [
             0.7,
             "#b8e186"
            ],
            [
             0.8,
             "#7fbc41"
            ],
            [
             0.9,
             "#4d9221"
            ],
            [
             1,
             "#276419"
            ]
           ],
           "sequential": [
            [
             0,
             "#0d0887"
            ],
            [
             0.1111111111111111,
             "#46039f"
            ],
            [
             0.2222222222222222,
             "#7201a8"
            ],
            [
             0.3333333333333333,
             "#9c179e"
            ],
            [
             0.4444444444444444,
             "#bd3786"
            ],
            [
             0.5555555555555556,
             "#d8576b"
            ],
            [
             0.6666666666666666,
             "#ed7953"
            ],
            [
             0.7777777777777778,
             "#fb9f3a"
            ],
            [
             0.8888888888888888,
             "#fdca26"
            ],
            [
             1,
             "#f0f921"
            ]
           ],
           "sequentialminus": [
            [
             0,
             "#0d0887"
            ],
            [
             0.1111111111111111,
             "#46039f"
            ],
            [
             0.2222222222222222,
             "#7201a8"
            ],
            [
             0.3333333333333333,
             "#9c179e"
            ],
            [
             0.4444444444444444,
             "#bd3786"
            ],
            [
             0.5555555555555556,
             "#d8576b"
            ],
            [
             0.6666666666666666,
             "#ed7953"
            ],
            [
             0.7777777777777778,
             "#fb9f3a"
            ],
            [
             0.8888888888888888,
             "#fdca26"
            ],
            [
             1,
             "#f0f921"
            ]
           ]
          },
          "colorway": [
           "#636efa",
           "#EF553B",
           "#00cc96",
           "#ab63fa",
           "#FFA15A",
           "#19d3f3",
           "#FF6692",
           "#B6E880",
           "#FF97FF",
           "#FECB52"
          ],
          "font": {
           "color": "#2a3f5f"
          },
          "geo": {
           "bgcolor": "white",
           "lakecolor": "white",
           "landcolor": "#E5ECF6",
           "showlakes": true,
           "showland": true,
           "subunitcolor": "white"
          },
          "hoverlabel": {
           "align": "left"
          },
          "hovermode": "closest",
          "mapbox": {
           "style": "light"
          },
          "paper_bgcolor": "white",
          "plot_bgcolor": "#E5ECF6",
          "polar": {
           "angularaxis": {
            "gridcolor": "white",
            "linecolor": "white",
            "ticks": ""
           },
           "bgcolor": "#E5ECF6",
           "radialaxis": {
            "gridcolor": "white",
            "linecolor": "white",
            "ticks": ""
           }
          },
          "scene": {
           "xaxis": {
            "backgroundcolor": "#E5ECF6",
            "gridcolor": "white",
            "gridwidth": 2,
            "linecolor": "white",
            "showbackground": true,
            "ticks": "",
            "zerolinecolor": "white"
           },
           "yaxis": {
            "backgroundcolor": "#E5ECF6",
            "gridcolor": "white",
            "gridwidth": 2,
            "linecolor": "white",
            "showbackground": true,
            "ticks": "",
            "zerolinecolor": "white"
           },
           "zaxis": {
            "backgroundcolor": "#E5ECF6",
            "gridcolor": "white",
            "gridwidth": 2,
            "linecolor": "white",
            "showbackground": true,
            "ticks": "",
            "zerolinecolor": "white"
           }
          },
          "shapedefaults": {
           "line": {
            "color": "#2a3f5f"
           }
          },
          "ternary": {
           "aaxis": {
            "gridcolor": "white",
            "linecolor": "white",
            "ticks": ""
           },
           "baxis": {
            "gridcolor": "white",
            "linecolor": "white",
            "ticks": ""
           },
           "bgcolor": "#E5ECF6",
           "caxis": {
            "gridcolor": "white",
            "linecolor": "white",
            "ticks": ""
           }
          },
          "title": {
           "x": 0.05
          },
          "xaxis": {
           "automargin": true,
           "gridcolor": "white",
           "linecolor": "white",
           "ticks": "",
           "title": {
            "standoff": 15
           },
           "zerolinecolor": "white",
           "zerolinewidth": 2
          },
          "yaxis": {
           "automargin": true,
           "gridcolor": "white",
           "linecolor": "white",
           "ticks": "",
           "title": {
            "standoff": 15
           },
           "zerolinecolor": "white",
           "zerolinewidth": 2
          }
         }
        },
        "title": {
         "text": "R1 Structures: Frequency and Impact on Score Relative to All Factions Average (148.13): lantids"
        }
       }
      },
      "text/html": [
       "<div>                            <div id=\"0d5358b8-c4e0-412b-8208-a3f83d1d3cd3\" class=\"plotly-graph-div\" style=\"height:525px; width:100%;\"></div>            <script type=\"text/javascript\">                require([\"plotly\"], function(Plotly) {                    window.PLOTLYENV=window.PLOTLYENV || {};                                    if (document.getElementById(\"0d5358b8-c4e0-412b-8208-a3f83d1d3cd3\")) {                    Plotly.newPlot(                        \"0d5358b8-c4e0-412b-8208-a3f83d1d3cd3\",                        [{\"branchvalues\":\"total\",\"customdata\":[[45.0,107.0],[275.0,145.0],[118.0,108.0],[176.66666666666666,148.66666666666666],[134.0,143.0],[82.0,140.0],[274.32307692307694,143.52380952380952],[230.0,110.75],[225.6315789473684,140.73684210526315],[345.0,193.0],[195.83333333333334,124.16666666666667],[208.5952380952381,146.26190476190476],[222.5,134.0],[285.4375,147.5625],[174.98717948717947,138.69677419354838],[220.9322033898305,151.10526315789474],[245.0,176.0],[166.5,142.5],[232.66666666666666,155.38095238095238],[201.3030303030303,151.1875],[144.8,114.2],[173.6551724137931,138.7337278106509],[193.82258064516128,135.3050847457627],[0.6666666666666666,88.66666666666667],[276.5,181.5],[248.05882352941177,158.28658536585365],[234.95744680851064,148.08695652173913],[124.0,92.0],[275.81,168.86868686868686],[221.0,170.5],[251.53846153846155,198.53846153846155],[135.0,160.0],[151.0,215.0],[343.57142857142856,201.57142857142858],[266.6666666666667,196.66666666666666],[\"(?)\",150.81866104578643],[\"(?)\",144.32157554379776],[82.0,140.0],[\"(?)\",146.85380895284172],[\"(?)\",119.71428571428571],[\"(?)\",148.7204885167574]],\"domain\":{\"x\":[0.0,1.0],\"y\":[0.0,1.0]},\"hovertemplate\":\"labels=%{label}<br>class_counts=%{value}<br>parent=%{parent}<br>id=%{id}<br>ave_elo_lantids=%{customdata[0]}<br>ave_score_lantids=%{color}<extra></extra>\",\"ids\":[\"R1 Structs/PI/ 0-m_0-ts_1-lab_1-pi_0-ac1_0-ac2\",\"R1 Structs/lab/ 0-m_0-ts_2-lab_0-pi_0-ac1_0-ac2\",\"R1 Structs/PI/ 0-m_1-ts_0-lab_1-pi_0-ac1_0-ac2\",\"R1 Structs/lab/ 0-m_1-ts_1-lab_0-pi_0-ac1_0-ac2\",\"R1 Structs/ts/ 0-m_3-ts_0-lab_0-pi_0-ac1_0-ac2\",\"R1 Structs/ac2/ 1-m_0-ts_0-lab_0-pi_0-ac1_1-ac2\",\"R1 Structs/ac1/ 1-m_0-ts_0-lab_0-pi_1-ac1_0-ac2\",\"R1 Structs/PI/ 1-m_0-ts_0-lab_1-pi_0-ac1_0-ac2\",\"R1 Structs/lab/ 1-m_0-ts_1-lab_0-pi_0-ac1_0-ac2\",\"R1 Structs/lab/ 1-m_0-ts_2-lab_0-pi_0-ac1_0-ac2\",\"R1 Structs/PI/ 1-m_1-ts_0-lab_1-pi_0-ac1_0-ac2\",\"R1 Structs/lab/ 1-m_1-ts_1-lab_0-pi_0-ac1_0-ac2\",\"R1 Structs/ts/ 1-m_2-ts_0-lab_0-pi_0-ac1_0-ac2\",\"R1 Structs/ac1/ 2-m_0-ts_0-lab_0-pi_1-ac1_0-ac2\",\"R1 Structs/PI/ 2-m_0-ts_0-lab_1-pi_0-ac1_0-ac2\",\"R1 Structs/lab/ 2-m_0-ts_1-lab_0-pi_0-ac1_0-ac2\",\"R1 Structs/PI/ 2-m_0-ts_1-lab_1-pi_0-ac1_0-ac2\",\"R1 Structs/ts/ 2-m_1-ts_0-lab_0-pi_0-ac1_0-ac2\",\"R1 Structs/PI/ 2-m_1-ts_0-lab_1-pi_0-ac1_0-ac2\",\"R1 Structs/lab/ 2-m_1-ts_1-lab_0-pi_0-ac1_0-ac2\",\"R1 Structs/ts/ 2-m_2-ts_0-lab_0-pi_0-ac1_0-ac2\",\"R1 Structs/PI/ 3-m_0-ts_0-lab_1-pi_0-ac1_0-ac2\",\"R1 Structs/lab/ 3-m_0-ts_1-lab_0-pi_0-ac1_0-ac2\",\"R1 Structs/ts/ 3-m_1-ts_0-lab_0-pi_0-ac1_0-ac2\",\"R1 Structs/PI/ 3-m_1-ts_0-lab_1-pi_0-ac1_0-ac2\",\"R1 Structs/PI/ 4-m_0-ts_0-lab_1-pi_0-ac1_0-ac2\",\"R1 Structs/lab/ 4-m_0-ts_1-lab_0-pi_0-ac1_0-ac2\",\"R1 Structs/PI/ 4-m_1-ts_0-lab_1-pi_0-ac1_0-ac2\",\"R1 Structs/PI/ 5-m_0-ts_0-lab_1-pi_0-ac1_0-ac2\",\"R1 Structs/lab/ 5-m_0-ts_1-lab_0-pi_0-ac1_0-ac2\",\"R1 Structs/PI/ 6-m_0-ts_0-lab_1-pi_0-ac1_0-ac2\",\"R1 Structs/lab/ 6-m_0-ts_1-lab_0-pi_0-ac1_0-ac2\",\"R1 Structs/PI/ 6-m_1-ts_0-lab_1-pi_0-ac1_0-ac2\",\"R1 Structs/PI/ 7-m_0-ts_0-lab_1-pi_0-ac1_0-ac2\",\"R1 Structs/PI/ 8-m_0-ts_0-lab_1-pi_0-ac1_0-ac2\",\"R1 Structs/PI\",\"R1 Structs/ac1\",\"R1 Structs/ac2\",\"R1 Structs/lab\",\"R1 Structs/ts\",\"R1 Structs\"],\"labels\":[\" 0-m_0-ts_1-lab_1-pi_0-ac1_0-ac2\",\" 0-m_0-ts_2-lab_0-pi_0-ac1_0-ac2\",\" 0-m_1-ts_0-lab_1-pi_0-ac1_0-ac2\",\" 0-m_1-ts_1-lab_0-pi_0-ac1_0-ac2\",\" 0-m_3-ts_0-lab_0-pi_0-ac1_0-ac2\",\" 1-m_0-ts_0-lab_0-pi_0-ac1_1-ac2\",\" 1-m_0-ts_0-lab_0-pi_1-ac1_0-ac2\",\" 1-m_0-ts_0-lab_1-pi_0-ac1_0-ac2\",\" 1-m_0-ts_1-lab_0-pi_0-ac1_0-ac2\",\" 1-m_0-ts_2-lab_0-pi_0-ac1_0-ac2\",\" 1-m_1-ts_0-lab_1-pi_0-ac1_0-ac2\",\" 1-m_1-ts_1-lab_0-pi_0-ac1_0-ac2\",\" 1-m_2-ts_0-lab_0-pi_0-ac1_0-ac2\",\" 2-m_0-ts_0-lab_0-pi_1-ac1_0-ac2\",\" 2-m_0-ts_0-lab_1-pi_0-ac1_0-ac2\",\" 2-m_0-ts_1-lab_0-pi_0-ac1_0-ac2\",\" 2-m_0-ts_1-lab_1-pi_0-ac1_0-ac2\",\" 2-m_1-ts_0-lab_0-pi_0-ac1_0-ac2\",\" 2-m_1-ts_0-lab_1-pi_0-ac1_0-ac2\",\" 2-m_1-ts_1-lab_0-pi_0-ac1_0-ac2\",\" 2-m_2-ts_0-lab_0-pi_0-ac1_0-ac2\",\" 3-m_0-ts_0-lab_1-pi_0-ac1_0-ac2\",\" 3-m_0-ts_1-lab_0-pi_0-ac1_0-ac2\",\" 3-m_1-ts_0-lab_0-pi_0-ac1_0-ac2\",\" 3-m_1-ts_0-lab_1-pi_0-ac1_0-ac2\",\" 4-m_0-ts_0-lab_1-pi_0-ac1_0-ac2\",\" 4-m_0-ts_1-lab_0-pi_0-ac1_0-ac2\",\" 4-m_1-ts_0-lab_1-pi_0-ac1_0-ac2\",\" 5-m_0-ts_0-lab_1-pi_0-ac1_0-ac2\",\" 5-m_0-ts_1-lab_0-pi_0-ac1_0-ac2\",\" 6-m_0-ts_0-lab_1-pi_0-ac1_0-ac2\",\" 6-m_0-ts_1-lab_0-pi_0-ac1_0-ac2\",\" 6-m_1-ts_0-lab_1-pi_0-ac1_0-ac2\",\" 7-m_0-ts_0-lab_1-pi_0-ac1_0-ac2\",\" 8-m_0-ts_0-lab_1-pi_0-ac1_0-ac2\",\"PI\",\"ac1\",\"ac2\",\"lab\",\"ts\",\"R1 Structs\"],\"marker\":{\"coloraxis\":\"coloraxis\",\"colors\":[107.0,145.0,108.0,148.66666666666666,143.0,140.0,143.52380952380952,110.75,140.73684210526315,193.0,124.16666666666667,146.26190476190476,134.0,147.5625,138.69677419354838,151.10526315789474,176.0,142.5,155.38095238095238,151.1875,114.2,138.7337278106509,135.3050847457627,88.66666666666667,181.5,158.28658536585365,148.08695652173913,92.0,168.86868686868686,170.5,198.53846153846155,160.0,215.0,201.57142857142858,196.66666666666666,150.81866104578643,144.32157554379776,140.0,146.85380895284172,119.71428571428571,148.7204885167574]},\"name\":\"\",\"parents\":[\"R1 Structs/PI\",\"R1 Structs/lab\",\"R1 Structs/PI\",\"R1 Structs/lab\",\"R1 Structs/ts\",\"R1 Structs/ac2\",\"R1 Structs/ac1\",\"R1 Structs/PI\",\"R1 Structs/lab\",\"R1 Structs/lab\",\"R1 Structs/PI\",\"R1 Structs/lab\",\"R1 Structs/ts\",\"R1 Structs/ac1\",\"R1 Structs/PI\",\"R1 Structs/lab\",\"R1 Structs/PI\",\"R1 Structs/ts\",\"R1 Structs/PI\",\"R1 Structs/lab\",\"R1 Structs/ts\",\"R1 Structs/PI\",\"R1 Structs/lab\",\"R1 Structs/ts\",\"R1 Structs/PI\",\"R1 Structs/PI\",\"R1 Structs/lab\",\"R1 Structs/PI\",\"R1 Structs/PI\",\"R1 Structs/lab\",\"R1 Structs/PI\",\"R1 Structs/lab\",\"R1 Structs/PI\",\"R1 Structs/PI\",\"R1 Structs/PI\",\"R1 Structs\",\"R1 Structs\",\"R1 Structs\",\"R1 Structs\",\"R1 Structs\",\"\"],\"values\":[1,2,1,3,2,1,65,4,19,2,6,42,2,16,156,118,2,2,21,33,5,174,62,3,2,170,47,1,100,2,13,1,1,7,3,662,81,1,331,14,1089],\"type\":\"treemap\"}],                        {\"template\":{\"data\":{\"bar\":[{\"error_x\":{\"color\":\"#2a3f5f\"},\"error_y\":{\"color\":\"#2a3f5f\"},\"marker\":{\"line\":{\"color\":\"#E5ECF6\",\"width\":0.5},\"pattern\":{\"fillmode\":\"overlay\",\"size\":10,\"solidity\":0.2}},\"type\":\"bar\"}],\"barpolar\":[{\"marker\":{\"line\":{\"color\":\"#E5ECF6\",\"width\":0.5},\"pattern\":{\"fillmode\":\"overlay\",\"size\":10,\"solidity\":0.2}},\"type\":\"barpolar\"}],\"carpet\":[{\"aaxis\":{\"endlinecolor\":\"#2a3f5f\",\"gridcolor\":\"white\",\"linecolor\":\"white\",\"minorgridcolor\":\"white\",\"startlinecolor\":\"#2a3f5f\"},\"baxis\":{\"endlinecolor\":\"#2a3f5f\",\"gridcolor\":\"white\",\"linecolor\":\"white\",\"minorgridcolor\":\"white\",\"startlinecolor\":\"#2a3f5f\"},\"type\":\"carpet\"}],\"choropleth\":[{\"colorbar\":{\"outlinewidth\":0,\"ticks\":\"\"},\"type\":\"choropleth\"}],\"contour\":[{\"colorbar\":{\"outlinewidth\":0,\"ticks\":\"\"},\"colorscale\":[[0.0,\"#0d0887\"],[0.1111111111111111,\"#46039f\"],[0.2222222222222222,\"#7201a8\"],[0.3333333333333333,\"#9c179e\"],[0.4444444444444444,\"#bd3786\"],[0.5555555555555556,\"#d8576b\"],[0.6666666666666666,\"#ed7953\"],[0.7777777777777778,\"#fb9f3a\"],[0.8888888888888888,\"#fdca26\"],[1.0,\"#f0f921\"]],\"type\":\"contour\"}],\"contourcarpet\":[{\"colorbar\":{\"outlinewidth\":0,\"ticks\":\"\"},\"type\":\"contourcarpet\"}],\"heatmap\":[{\"colorbar\":{\"outlinewidth\":0,\"ticks\":\"\"},\"colorscale\":[[0.0,\"#0d0887\"],[0.1111111111111111,\"#46039f\"],[0.2222222222222222,\"#7201a8\"],[0.3333333333333333,\"#9c179e\"],[0.4444444444444444,\"#bd3786\"],[0.5555555555555556,\"#d8576b\"],[0.6666666666666666,\"#ed7953\"],[0.7777777777777778,\"#fb9f3a\"],[0.8888888888888888,\"#fdca26\"],[1.0,\"#f0f921\"]],\"type\":\"heatmap\"}],\"heatmapgl\":[{\"colorbar\":{\"outlinewidth\":0,\"ticks\":\"\"},\"colorscale\":[[0.0,\"#0d0887\"],[0.1111111111111111,\"#46039f\"],[0.2222222222222222,\"#7201a8\"],[0.3333333333333333,\"#9c179e\"],[0.4444444444444444,\"#bd3786\"],[0.5555555555555556,\"#d8576b\"],[0.6666666666666666,\"#ed7953\"],[0.7777777777777778,\"#fb9f3a\"],[0.8888888888888888,\"#fdca26\"],[1.0,\"#f0f921\"]],\"type\":\"heatmapgl\"}],\"histogram\":[{\"marker\":{\"pattern\":{\"fillmode\":\"overlay\",\"size\":10,\"solidity\":0.2}},\"type\":\"histogram\"}],\"histogram2d\":[{\"colorbar\":{\"outlinewidth\":0,\"ticks\":\"\"},\"colorscale\":[[0.0,\"#0d0887\"],[0.1111111111111111,\"#46039f\"],[0.2222222222222222,\"#7201a8\"],[0.3333333333333333,\"#9c179e\"],[0.4444444444444444,\"#bd3786\"],[0.5555555555555556,\"#d8576b\"],[0.6666666666666666,\"#ed7953\"],[0.7777777777777778,\"#fb9f3a\"],[0.8888888888888888,\"#fdca26\"],[1.0,\"#f0f921\"]],\"type\":\"histogram2d\"}],\"histogram2dcontour\":[{\"colorbar\":{\"outlinewidth\":0,\"ticks\":\"\"},\"colorscale\":[[0.0,\"#0d0887\"],[0.1111111111111111,\"#46039f\"],[0.2222222222222222,\"#7201a8\"],[0.3333333333333333,\"#9c179e\"],[0.4444444444444444,\"#bd3786\"],[0.5555555555555556,\"#d8576b\"],[0.6666666666666666,\"#ed7953\"],[0.7777777777777778,\"#fb9f3a\"],[0.8888888888888888,\"#fdca26\"],[1.0,\"#f0f921\"]],\"type\":\"histogram2dcontour\"}],\"mesh3d\":[{\"colorbar\":{\"outlinewidth\":0,\"ticks\":\"\"},\"type\":\"mesh3d\"}],\"parcoords\":[{\"line\":{\"colorbar\":{\"outlinewidth\":0,\"ticks\":\"\"}},\"type\":\"parcoords\"}],\"pie\":[{\"automargin\":true,\"type\":\"pie\"}],\"scatter\":[{\"marker\":{\"colorbar\":{\"outlinewidth\":0,\"ticks\":\"\"}},\"type\":\"scatter\"}],\"scatter3d\":[{\"line\":{\"colorbar\":{\"outlinewidth\":0,\"ticks\":\"\"}},\"marker\":{\"colorbar\":{\"outlinewidth\":0,\"ticks\":\"\"}},\"type\":\"scatter3d\"}],\"scattercarpet\":[{\"marker\":{\"colorbar\":{\"outlinewidth\":0,\"ticks\":\"\"}},\"type\":\"scattercarpet\"}],\"scattergeo\":[{\"marker\":{\"colorbar\":{\"outlinewidth\":0,\"ticks\":\"\"}},\"type\":\"scattergeo\"}],\"scattergl\":[{\"marker\":{\"colorbar\":{\"outlinewidth\":0,\"ticks\":\"\"}},\"type\":\"scattergl\"}],\"scattermapbox\":[{\"marker\":{\"colorbar\":{\"outlinewidth\":0,\"ticks\":\"\"}},\"type\":\"scattermapbox\"}],\"scatterpolar\":[{\"marker\":{\"colorbar\":{\"outlinewidth\":0,\"ticks\":\"\"}},\"type\":\"scatterpolar\"}],\"scatterpolargl\":[{\"marker\":{\"colorbar\":{\"outlinewidth\":0,\"ticks\":\"\"}},\"type\":\"scatterpolargl\"}],\"scatterternary\":[{\"marker\":{\"colorbar\":{\"outlinewidth\":0,\"ticks\":\"\"}},\"type\":\"scatterternary\"}],\"surface\":[{\"colorbar\":{\"outlinewidth\":0,\"ticks\":\"\"},\"colorscale\":[[0.0,\"#0d0887\"],[0.1111111111111111,\"#46039f\"],[0.2222222222222222,\"#7201a8\"],[0.3333333333333333,\"#9c179e\"],[0.4444444444444444,\"#bd3786\"],[0.5555555555555556,\"#d8576b\"],[0.6666666666666666,\"#ed7953\"],[0.7777777777777778,\"#fb9f3a\"],[0.8888888888888888,\"#fdca26\"],[1.0,\"#f0f921\"]],\"type\":\"surface\"}],\"table\":[{\"cells\":{\"fill\":{\"color\":\"#EBF0F8\"},\"line\":{\"color\":\"white\"}},\"header\":{\"fill\":{\"color\":\"#C8D4E3\"},\"line\":{\"color\":\"white\"}},\"type\":\"table\"}]},\"layout\":{\"annotationdefaults\":{\"arrowcolor\":\"#2a3f5f\",\"arrowhead\":0,\"arrowwidth\":1},\"autotypenumbers\":\"strict\",\"coloraxis\":{\"colorbar\":{\"outlinewidth\":0,\"ticks\":\"\"}},\"colorscale\":{\"diverging\":[[0,\"#8e0152\"],[0.1,\"#c51b7d\"],[0.2,\"#de77ae\"],[0.3,\"#f1b6da\"],[0.4,\"#fde0ef\"],[0.5,\"#f7f7f7\"],[0.6,\"#e6f5d0\"],[0.7,\"#b8e186\"],[0.8,\"#7fbc41\"],[0.9,\"#4d9221\"],[1,\"#276419\"]],\"sequential\":[[0.0,\"#0d0887\"],[0.1111111111111111,\"#46039f\"],[0.2222222222222222,\"#7201a8\"],[0.3333333333333333,\"#9c179e\"],[0.4444444444444444,\"#bd3786\"],[0.5555555555555556,\"#d8576b\"],[0.6666666666666666,\"#ed7953\"],[0.7777777777777778,\"#fb9f3a\"],[0.8888888888888888,\"#fdca26\"],[1.0,\"#f0f921\"]],\"sequentialminus\":[[0.0,\"#0d0887\"],[0.1111111111111111,\"#46039f\"],[0.2222222222222222,\"#7201a8\"],[0.3333333333333333,\"#9c179e\"],[0.4444444444444444,\"#bd3786\"],[0.5555555555555556,\"#d8576b\"],[0.6666666666666666,\"#ed7953\"],[0.7777777777777778,\"#fb9f3a\"],[0.8888888888888888,\"#fdca26\"],[1.0,\"#f0f921\"]]},\"colorway\":[\"#636efa\",\"#EF553B\",\"#00cc96\",\"#ab63fa\",\"#FFA15A\",\"#19d3f3\",\"#FF6692\",\"#B6E880\",\"#FF97FF\",\"#FECB52\"],\"font\":{\"color\":\"#2a3f5f\"},\"geo\":{\"bgcolor\":\"white\",\"lakecolor\":\"white\",\"landcolor\":\"#E5ECF6\",\"showlakes\":true,\"showland\":true,\"subunitcolor\":\"white\"},\"hoverlabel\":{\"align\":\"left\"},\"hovermode\":\"closest\",\"mapbox\":{\"style\":\"light\"},\"paper_bgcolor\":\"white\",\"plot_bgcolor\":\"#E5ECF6\",\"polar\":{\"angularaxis\":{\"gridcolor\":\"white\",\"linecolor\":\"white\",\"ticks\":\"\"},\"bgcolor\":\"#E5ECF6\",\"radialaxis\":{\"gridcolor\":\"white\",\"linecolor\":\"white\",\"ticks\":\"\"}},\"scene\":{\"xaxis\":{\"backgroundcolor\":\"#E5ECF6\",\"gridcolor\":\"white\",\"gridwidth\":2,\"linecolor\":\"white\",\"showbackground\":true,\"ticks\":\"\",\"zerolinecolor\":\"white\"},\"yaxis\":{\"backgroundcolor\":\"#E5ECF6\",\"gridcolor\":\"white\",\"gridwidth\":2,\"linecolor\":\"white\",\"showbackground\":true,\"ticks\":\"\",\"zerolinecolor\":\"white\"},\"zaxis\":{\"backgroundcolor\":\"#E5ECF6\",\"gridcolor\":\"white\",\"gridwidth\":2,\"linecolor\":\"white\",\"showbackground\":true,\"ticks\":\"\",\"zerolinecolor\":\"white\"}},\"shapedefaults\":{\"line\":{\"color\":\"#2a3f5f\"}},\"ternary\":{\"aaxis\":{\"gridcolor\":\"white\",\"linecolor\":\"white\",\"ticks\":\"\"},\"baxis\":{\"gridcolor\":\"white\",\"linecolor\":\"white\",\"ticks\":\"\"},\"bgcolor\":\"#E5ECF6\",\"caxis\":{\"gridcolor\":\"white\",\"linecolor\":\"white\",\"ticks\":\"\"}},\"title\":{\"x\":0.05},\"xaxis\":{\"automargin\":true,\"gridcolor\":\"white\",\"linecolor\":\"white\",\"ticks\":\"\",\"title\":{\"standoff\":15},\"zerolinecolor\":\"white\",\"zerolinewidth\":2},\"yaxis\":{\"automargin\":true,\"gridcolor\":\"white\",\"linecolor\":\"white\",\"ticks\":\"\",\"title\":{\"standoff\":15},\"zerolinecolor\":\"white\",\"zerolinewidth\":2}}},\"coloraxis\":{\"colorbar\":{\"title\":{\"text\":\"ave_score_lantids\"}},\"colorscale\":[[0.0,\"rgb(103,0,31)\"],[0.1,\"rgb(178,24,43)\"],[0.2,\"rgb(214,96,77)\"],[0.3,\"rgb(244,165,130)\"],[0.4,\"rgb(253,219,199)\"],[0.5,\"rgb(247,247,247)\"],[0.6,\"rgb(209,229,240)\"],[0.7,\"rgb(146,197,222)\"],[0.8,\"rgb(67,147,195)\"],[0.9,\"rgb(33,102,172)\"],[1.0,\"rgb(5,48,97)\"]],\"cmid\":148.12743354661777},\"legend\":{\"tracegroupgap\":0},\"margin\":{\"t\":50,\"l\":25,\"r\":25,\"b\":25},\"title\":{\"text\":\"R1 Structures: Frequency and Impact on Score Relative to All Factions Average (148.13): lantids\"}},                        {\"responsive\": true}                    ).then(function(){\n",
       "                            \n",
       "var gd = document.getElementById('0d5358b8-c4e0-412b-8208-a3f83d1d3cd3');\n",
       "var x = new MutationObserver(function (mutations, observer) {{\n",
       "        var display = window.getComputedStyle(gd).display;\n",
       "        if (!display || display === 'none') {{\n",
       "            console.log([gd, 'removed!']);\n",
       "            Plotly.purge(gd);\n",
       "            observer.disconnect();\n",
       "        }}\n",
       "}});\n",
       "\n",
       "// Listen for the removal of the full notebook cells\n",
       "var notebookContainer = gd.closest('#notebook-container');\n",
       "if (notebookContainer) {{\n",
       "    x.observe(notebookContainer, {childList: true});\n",
       "}}\n",
       "\n",
       "// Listen for the clearing of the current output cell\n",
       "var outputEl = gd.closest('.output');\n",
       "if (outputEl) {{\n",
       "    x.observe(outputEl, {childList: true});\n",
       "}}\n",
       "\n",
       "                        })                };                });            </script>        </div>"
      ]
     },
     "metadata": {},
     "output_type": "display_data"
    },
    {
     "data": {
      "application/vnd.plotly.v1+json": {
       "config": {
        "plotlyServerURL": "https://plot.ly"
       },
       "data": [
        {
         "branchvalues": "total",
         "customdata": [
          [
           117,
           131
          ],
          [
           44,
           144
          ],
          [
           212.13636363636363,
           140.1818181818182
          ],
          [
           228.63793103448276,
           147.87719298245614
          ],
          [
           131,
           126.5
          ],
          [
           124,
           122.75
          ],
          [
           235.66666666666666,
           141
          ],
          [
           104,
           113.8
          ],
          [
           191.03333333333333,
           128.44827586206895
          ],
          [
           173,
           128.5
          ],
          [
           235.32258064516128,
           146.26666666666668
          ],
          [
           237.32394366197184,
           154.59420289855072
          ],
          [
           139.88235294117646,
           123.29411764705883
          ],
          [
           202.77678571428572,
           143.7037037037037
          ],
          [
           192.75,
           137.27272727272728
          ],
          [
           188.8673469387755,
           144.5408163265306
          ],
          [
           222.83333333333334,
           140.9090909090909
          ],
          [
           219,
           217
          ],
          [
           254.66666666666666,
           165.33333333333334
          ],
          [
           100,
           170
          ],
          [
           195.2941176470588,
           123.29411764705883
          ],
          [
           192.8578431372549,
           144.955
          ],
          [
           148,
           142
          ],
          [
           100,
           160
          ],
          [
           157.33333333333334,
           156.63636363636363
          ],
          [
           161.5,
           128
          ],
          [
           139.88888888888889,
           127.44444444444444
          ],
          [
           210.63076923076923,
           153.10256410256412
          ],
          [
           165.6,
           140.56666666666666
          ],
          [
           229.6,
           165.8
          ],
          [
           182.86363636363637,
           123
          ],
          [
           360,
           190.5
          ],
          [
           239.26785714285714,
           158.1090909090909
          ],
          [
           218.91358024691357,
           151.62962962962962
          ],
          [
           300,
           205
          ],
          [
           216,
           149.390625
          ],
          [
           214.71428571428572,
           174.42857142857142
          ],
          [
           227.76470588235293,
           162.88235294117646
          ],
          [
           244.367816091954,
           164.69767441860466
          ],
          [
           321,
           207
          ],
          [
           250.42857142857142,
           194.57142857142858
          ],
          [
           "(?)",
           128.08961038961039
          ],
          [
           "(?)",
           151.71588922138122
          ],
          [
           "(?)",
           144.89761904761906
          ],
          [
           "(?)",
           147.55486025512718
          ],
          [
           "(?)",
           156.78982713592836
          ],
          [
           "(?)",
           149.9867663981588
          ],
          [
           "(?)",
           148.41449909816805
          ]
         ],
         "domain": {
          "x": [
           0,
           1
          ],
          "y": [
           0,
           1
          ]
         },
         "hovertemplate": "labels=%{label}<br>class_counts=%{value}<br>parent=%{parent}<br>id=%{id}<br>ave_elo_gleens=%{customdata[0]}<br>ave_score_gleens=%{color}<extra></extra>",
         "ids": [
          "R1 Structs/lab/ 0-m_0-ts_2-lab_0-pi_0-ac1_0-ac2",
          "R1 Structs/PI/ 0-m_1-ts_0-lab_1-pi_0-ac1_0-ac2",
          "R1 Structs/ac2/ 1-m_0-ts_0-lab_0-pi_0-ac1_1-ac2",
          "R1 Structs/ac1/ 1-m_0-ts_0-lab_0-pi_1-ac1_0-ac2",
          "R1 Structs/PI/ 1-m_0-ts_0-lab_1-pi_0-ac1_0-ac2",
          "R1 Structs/PI/ 1-m_0-ts_1-lab_1-pi_0-ac1_0-ac2",
          "R1 Structs/lab/ 1-m_0-ts_2-lab_0-pi_0-ac1_0-ac2",
          "R1 Structs/PI/ 1-m_1-ts_0-lab_1-pi_0-ac1_0-ac2",
          "R1 Structs/lab/ 1-m_1-ts_1-lab_0-pi_0-ac1_0-ac2",
          "R1 Structs/ts/ 1-m_3-ts_0-lab_0-pi_0-ac1_0-ac2",
          "R1 Structs/ac2/ 2-m_0-ts_0-lab_0-pi_0-ac1_1-ac2",
          "R1 Structs/ac1/ 2-m_0-ts_0-lab_0-pi_1-ac1_0-ac2",
          "R1 Structs/PI/ 2-m_0-ts_0-lab_1-pi_0-ac1_0-ac2",
          "R1 Structs/lab/ 2-m_0-ts_1-lab_0-pi_0-ac1_0-ac2",
          "R1 Structs/PI/ 2-m_1-ts_0-lab_1-pi_0-ac1_0-ac2",
          "R1 Structs/lab/ 2-m_1-ts_1-lab_0-pi_0-ac1_0-ac2",
          "R1 Structs/ts/ 2-m_2-ts_0-lab_0-pi_0-ac1_0-ac2",
          "R1 Structs/ts/ 2-m_3-ts_0-lab_0-pi_0-ac1_0-ac2",
          "R1 Structs/ac2/ 3-m_0-ts_0-lab_0-pi_0-ac1_1-ac2",
          "R1 Structs/ac1/ 3-m_0-ts_0-lab_0-pi_1-ac1_0-ac2",
          "R1 Structs/PI/ 3-m_0-ts_0-lab_1-pi_0-ac1_0-ac2",
          "R1 Structs/lab/ 3-m_0-ts_1-lab_0-pi_0-ac1_0-ac2",
          "R1 Structs/PI/ 3-m_0-ts_1-lab_1-pi_0-ac1_0-ac2",
          "R1 Structs/lab/ 3-m_0-ts_2-lab_0-pi_0-ac1_0-ac2",
          "R1 Structs/lab/ 3-m_1-ts_1-lab_0-pi_0-ac1_0-ac2",
          "R1 Structs/ts/ 3-m_2-ts_0-lab_0-pi_0-ac1_0-ac2",
          "R1 Structs/PI/ 4-m_0-ts_0-lab_1-pi_0-ac1_0-ac2",
          "R1 Structs/lab/ 4-m_0-ts_1-lab_0-pi_0-ac1_0-ac2",
          "R1 Structs/ts/ 4-m_1-ts_0-lab_0-pi_0-ac1_0-ac2",
          "R1 Structs/ts/ 4-m_2-ts_0-lab_0-pi_0-ac1_0-ac2",
          "R1 Structs/m/ 5-m_0-ts_0-lab_0-pi_0-ac1_0-ac2",
          "R1 Structs/PI/ 5-m_0-ts_0-lab_1-pi_0-ac1_0-ac2",
          "R1 Structs/lab/ 5-m_0-ts_1-lab_0-pi_0-ac1_0-ac2",
          "R1 Structs/ts/ 5-m_1-ts_0-lab_0-pi_0-ac1_0-ac2",
          "R1 Structs/ts/ 5-m_2-ts_0-lab_0-pi_0-ac1_0-ac2",
          "R1 Structs/m/ 6-m_0-ts_0-lab_0-pi_0-ac1_0-ac2",
          "R1 Structs/lab/ 6-m_0-ts_1-lab_0-pi_0-ac1_0-ac2",
          "R1 Structs/ts/ 6-m_1-ts_0-lab_0-pi_0-ac1_0-ac2",
          "R1 Structs/m/ 7-m_0-ts_0-lab_0-pi_0-ac1_0-ac2",
          "R1 Structs/ts/ 7-m_1-ts_0-lab_0-pi_0-ac1_0-ac2",
          "R1 Structs/m/ 8-m_0-ts_0-lab_0-pi_0-ac1_0-ac2",
          "R1 Structs/PI",
          "R1 Structs/ac1",
          "R1 Structs/ac2",
          "R1 Structs/lab",
          "R1 Structs/m",
          "R1 Structs/ts",
          "R1 Structs"
         ],
         "labels": [
          " 0-m_0-ts_2-lab_0-pi_0-ac1_0-ac2",
          " 0-m_1-ts_0-lab_1-pi_0-ac1_0-ac2",
          " 1-m_0-ts_0-lab_0-pi_0-ac1_1-ac2",
          " 1-m_0-ts_0-lab_0-pi_1-ac1_0-ac2",
          " 1-m_0-ts_0-lab_1-pi_0-ac1_0-ac2",
          " 1-m_0-ts_1-lab_1-pi_0-ac1_0-ac2",
          " 1-m_0-ts_2-lab_0-pi_0-ac1_0-ac2",
          " 1-m_1-ts_0-lab_1-pi_0-ac1_0-ac2",
          " 1-m_1-ts_1-lab_0-pi_0-ac1_0-ac2",
          " 1-m_3-ts_0-lab_0-pi_0-ac1_0-ac2",
          " 2-m_0-ts_0-lab_0-pi_0-ac1_1-ac2",
          " 2-m_0-ts_0-lab_0-pi_1-ac1_0-ac2",
          " 2-m_0-ts_0-lab_1-pi_0-ac1_0-ac2",
          " 2-m_0-ts_1-lab_0-pi_0-ac1_0-ac2",
          " 2-m_1-ts_0-lab_1-pi_0-ac1_0-ac2",
          " 2-m_1-ts_1-lab_0-pi_0-ac1_0-ac2",
          " 2-m_2-ts_0-lab_0-pi_0-ac1_0-ac2",
          " 2-m_3-ts_0-lab_0-pi_0-ac1_0-ac2",
          " 3-m_0-ts_0-lab_0-pi_0-ac1_1-ac2",
          " 3-m_0-ts_0-lab_0-pi_1-ac1_0-ac2",
          " 3-m_0-ts_0-lab_1-pi_0-ac1_0-ac2",
          " 3-m_0-ts_1-lab_0-pi_0-ac1_0-ac2",
          " 3-m_0-ts_1-lab_1-pi_0-ac1_0-ac2",
          " 3-m_0-ts_2-lab_0-pi_0-ac1_0-ac2",
          " 3-m_1-ts_1-lab_0-pi_0-ac1_0-ac2",
          " 3-m_2-ts_0-lab_0-pi_0-ac1_0-ac2",
          " 4-m_0-ts_0-lab_1-pi_0-ac1_0-ac2",
          " 4-m_0-ts_1-lab_0-pi_0-ac1_0-ac2",
          " 4-m_1-ts_0-lab_0-pi_0-ac1_0-ac2",
          " 4-m_2-ts_0-lab_0-pi_0-ac1_0-ac2",
          " 5-m_0-ts_0-lab_0-pi_0-ac1_0-ac2",
          " 5-m_0-ts_0-lab_1-pi_0-ac1_0-ac2",
          " 5-m_0-ts_1-lab_0-pi_0-ac1_0-ac2",
          " 5-m_1-ts_0-lab_0-pi_0-ac1_0-ac2",
          " 5-m_2-ts_0-lab_0-pi_0-ac1_0-ac2",
          " 6-m_0-ts_0-lab_0-pi_0-ac1_0-ac2",
          " 6-m_0-ts_1-lab_0-pi_0-ac1_0-ac2",
          " 6-m_1-ts_0-lab_0-pi_0-ac1_0-ac2",
          " 7-m_0-ts_0-lab_0-pi_0-ac1_0-ac2",
          " 7-m_1-ts_0-lab_0-pi_0-ac1_0-ac2",
          " 8-m_0-ts_0-lab_0-pi_0-ac1_0-ac2",
          "PI",
          "ac1",
          "ac2",
          "lab",
          "m",
          "ts",
          "R1 Structs"
         ],
         "marker": {
          "coloraxis": "coloraxis",
          "colors": [
           131,
           144,
           140.1818181818182,
           147.87719298245614,
           126.5,
           122.75,
           141,
           113.8,
           128.44827586206895,
           128.5,
           146.26666666666668,
           154.59420289855072,
           123.29411764705883,
           143.7037037037037,
           137.27272727272728,
           144.5408163265306,
           140.9090909090909,
           217,
           165.33333333333334,
           170,
           123.29411764705883,
           144.955,
           142,
           160,
           156.63636363636363,
           128,
           127.44444444444444,
           153.10256410256412,
           140.56666666666666,
           165.8,
           123,
           190.5,
           158.1090909090909,
           151.62962962962962,
           205,
           149.390625,
           174.42857142857142,
           162.88235294117646,
           164.69767441860466,
           207,
           194.57142857142858,
           128.08961038961039,
           151.71588922138122,
           144.89761904761906,
           147.55486025512718,
           156.78982713592836,
           149.9867663981588,
           148.41449909816805
          ]
         },
         "name": "",
         "parents": [
          "R1 Structs/lab",
          "R1 Structs/PI",
          "R1 Structs/ac2",
          "R1 Structs/ac1",
          "R1 Structs/PI",
          "R1 Structs/PI",
          "R1 Structs/lab",
          "R1 Structs/PI",
          "R1 Structs/lab",
          "R1 Structs/ts",
          "R1 Structs/ac2",
          "R1 Structs/ac1",
          "R1 Structs/PI",
          "R1 Structs/lab",
          "R1 Structs/PI",
          "R1 Structs/lab",
          "R1 Structs/ts",
          "R1 Structs/ts",
          "R1 Structs/ac2",
          "R1 Structs/ac1",
          "R1 Structs/PI",
          "R1 Structs/lab",
          "R1 Structs/PI",
          "R1 Structs/lab",
          "R1 Structs/lab",
          "R1 Structs/ts",
          "R1 Structs/PI",
          "R1 Structs/lab",
          "R1 Structs/ts",
          "R1 Structs/ts",
          "R1 Structs/m",
          "R1 Structs/PI",
          "R1 Structs/lab",
          "R1 Structs/ts",
          "R1 Structs/ts",
          "R1 Structs/m",
          "R1 Structs/lab",
          "R1 Structs/ts",
          "R1 Structs/m",
          "R1 Structs/ts",
          "R1 Structs/m",
          "R1 Structs",
          "R1 Structs",
          "R1 Structs",
          "R1 Structs",
          "R1 Structs",
          "R1 Structs",
          ""
         ],
         "type": "treemap",
         "values": [
          8,
          1,
          22,
          58,
          2,
          4,
          3,
          5,
          30,
          2,
          31,
          71,
          17,
          112,
          12,
          98,
          12,
          1,
          3,
          1,
          17,
          204,
          1,
          1,
          12,
          8,
          9,
          195,
          30,
          5,
          22,
          2,
          56,
          81,
          1,
          64,
          7,
          17,
          87,
          1,
          14,
          70,
          130,
          56,
          726,
          187,
          158,
          1327
         ]
        }
       ],
       "layout": {
        "coloraxis": {
         "cmid": 148.12743354661777,
         "colorbar": {
          "title": {
           "text": "ave_score_gleens"
          }
         },
         "colorscale": [
          [
           0,
           "rgb(103,0,31)"
          ],
          [
           0.1,
           "rgb(178,24,43)"
          ],
          [
           0.2,
           "rgb(214,96,77)"
          ],
          [
           0.3,
           "rgb(244,165,130)"
          ],
          [
           0.4,
           "rgb(253,219,199)"
          ],
          [
           0.5,
           "rgb(247,247,247)"
          ],
          [
           0.6,
           "rgb(209,229,240)"
          ],
          [
           0.7,
           "rgb(146,197,222)"
          ],
          [
           0.8,
           "rgb(67,147,195)"
          ],
          [
           0.9,
           "rgb(33,102,172)"
          ],
          [
           1,
           "rgb(5,48,97)"
          ]
         ]
        },
        "legend": {
         "tracegroupgap": 0
        },
        "margin": {
         "b": 25,
         "l": 25,
         "r": 25,
         "t": 50
        },
        "template": {
         "data": {
          "bar": [
           {
            "error_x": {
             "color": "#2a3f5f"
            },
            "error_y": {
             "color": "#2a3f5f"
            },
            "marker": {
             "line": {
              "color": "#E5ECF6",
              "width": 0.5
             },
             "pattern": {
              "fillmode": "overlay",
              "size": 10,
              "solidity": 0.2
             }
            },
            "type": "bar"
           }
          ],
          "barpolar": [
           {
            "marker": {
             "line": {
              "color": "#E5ECF6",
              "width": 0.5
             },
             "pattern": {
              "fillmode": "overlay",
              "size": 10,
              "solidity": 0.2
             }
            },
            "type": "barpolar"
           }
          ],
          "carpet": [
           {
            "aaxis": {
             "endlinecolor": "#2a3f5f",
             "gridcolor": "white",
             "linecolor": "white",
             "minorgridcolor": "white",
             "startlinecolor": "#2a3f5f"
            },
            "baxis": {
             "endlinecolor": "#2a3f5f",
             "gridcolor": "white",
             "linecolor": "white",
             "minorgridcolor": "white",
             "startlinecolor": "#2a3f5f"
            },
            "type": "carpet"
           }
          ],
          "choropleth": [
           {
            "colorbar": {
             "outlinewidth": 0,
             "ticks": ""
            },
            "type": "choropleth"
           }
          ],
          "contour": [
           {
            "colorbar": {
             "outlinewidth": 0,
             "ticks": ""
            },
            "colorscale": [
             [
              0,
              "#0d0887"
             ],
             [
              0.1111111111111111,
              "#46039f"
             ],
             [
              0.2222222222222222,
              "#7201a8"
             ],
             [
              0.3333333333333333,
              "#9c179e"
             ],
             [
              0.4444444444444444,
              "#bd3786"
             ],
             [
              0.5555555555555556,
              "#d8576b"
             ],
             [
              0.6666666666666666,
              "#ed7953"
             ],
             [
              0.7777777777777778,
              "#fb9f3a"
             ],
             [
              0.8888888888888888,
              "#fdca26"
             ],
             [
              1,
              "#f0f921"
             ]
            ],
            "type": "contour"
           }
          ],
          "contourcarpet": [
           {
            "colorbar": {
             "outlinewidth": 0,
             "ticks": ""
            },
            "type": "contourcarpet"
           }
          ],
          "heatmap": [
           {
            "colorbar": {
             "outlinewidth": 0,
             "ticks": ""
            },
            "colorscale": [
             [
              0,
              "#0d0887"
             ],
             [
              0.1111111111111111,
              "#46039f"
             ],
             [
              0.2222222222222222,
              "#7201a8"
             ],
             [
              0.3333333333333333,
              "#9c179e"
             ],
             [
              0.4444444444444444,
              "#bd3786"
             ],
             [
              0.5555555555555556,
              "#d8576b"
             ],
             [
              0.6666666666666666,
              "#ed7953"
             ],
             [
              0.7777777777777778,
              "#fb9f3a"
             ],
             [
              0.8888888888888888,
              "#fdca26"
             ],
             [
              1,
              "#f0f921"
             ]
            ],
            "type": "heatmap"
           }
          ],
          "heatmapgl": [
           {
            "colorbar": {
             "outlinewidth": 0,
             "ticks": ""
            },
            "colorscale": [
             [
              0,
              "#0d0887"
             ],
             [
              0.1111111111111111,
              "#46039f"
             ],
             [
              0.2222222222222222,
              "#7201a8"
             ],
             [
              0.3333333333333333,
              "#9c179e"
             ],
             [
              0.4444444444444444,
              "#bd3786"
             ],
             [
              0.5555555555555556,
              "#d8576b"
             ],
             [
              0.6666666666666666,
              "#ed7953"
             ],
             [
              0.7777777777777778,
              "#fb9f3a"
             ],
             [
              0.8888888888888888,
              "#fdca26"
             ],
             [
              1,
              "#f0f921"
             ]
            ],
            "type": "heatmapgl"
           }
          ],
          "histogram": [
           {
            "marker": {
             "pattern": {
              "fillmode": "overlay",
              "size": 10,
              "solidity": 0.2
             }
            },
            "type": "histogram"
           }
          ],
          "histogram2d": [
           {
            "colorbar": {
             "outlinewidth": 0,
             "ticks": ""
            },
            "colorscale": [
             [
              0,
              "#0d0887"
             ],
             [
              0.1111111111111111,
              "#46039f"
             ],
             [
              0.2222222222222222,
              "#7201a8"
             ],
             [
              0.3333333333333333,
              "#9c179e"
             ],
             [
              0.4444444444444444,
              "#bd3786"
             ],
             [
              0.5555555555555556,
              "#d8576b"
             ],
             [
              0.6666666666666666,
              "#ed7953"
             ],
             [
              0.7777777777777778,
              "#fb9f3a"
             ],
             [
              0.8888888888888888,
              "#fdca26"
             ],
             [
              1,
              "#f0f921"
             ]
            ],
            "type": "histogram2d"
           }
          ],
          "histogram2dcontour": [
           {
            "colorbar": {
             "outlinewidth": 0,
             "ticks": ""
            },
            "colorscale": [
             [
              0,
              "#0d0887"
             ],
             [
              0.1111111111111111,
              "#46039f"
             ],
             [
              0.2222222222222222,
              "#7201a8"
             ],
             [
              0.3333333333333333,
              "#9c179e"
             ],
             [
              0.4444444444444444,
              "#bd3786"
             ],
             [
              0.5555555555555556,
              "#d8576b"
             ],
             [
              0.6666666666666666,
              "#ed7953"
             ],
             [
              0.7777777777777778,
              "#fb9f3a"
             ],
             [
              0.8888888888888888,
              "#fdca26"
             ],
             [
              1,
              "#f0f921"
             ]
            ],
            "type": "histogram2dcontour"
           }
          ],
          "mesh3d": [
           {
            "colorbar": {
             "outlinewidth": 0,
             "ticks": ""
            },
            "type": "mesh3d"
           }
          ],
          "parcoords": [
           {
            "line": {
             "colorbar": {
              "outlinewidth": 0,
              "ticks": ""
             }
            },
            "type": "parcoords"
           }
          ],
          "pie": [
           {
            "automargin": true,
            "type": "pie"
           }
          ],
          "scatter": [
           {
            "marker": {
             "colorbar": {
              "outlinewidth": 0,
              "ticks": ""
             }
            },
            "type": "scatter"
           }
          ],
          "scatter3d": [
           {
            "line": {
             "colorbar": {
              "outlinewidth": 0,
              "ticks": ""
             }
            },
            "marker": {
             "colorbar": {
              "outlinewidth": 0,
              "ticks": ""
             }
            },
            "type": "scatter3d"
           }
          ],
          "scattercarpet": [
           {
            "marker": {
             "colorbar": {
              "outlinewidth": 0,
              "ticks": ""
             }
            },
            "type": "scattercarpet"
           }
          ],
          "scattergeo": [
           {
            "marker": {
             "colorbar": {
              "outlinewidth": 0,
              "ticks": ""
             }
            },
            "type": "scattergeo"
           }
          ],
          "scattergl": [
           {
            "marker": {
             "colorbar": {
              "outlinewidth": 0,
              "ticks": ""
             }
            },
            "type": "scattergl"
           }
          ],
          "scattermapbox": [
           {
            "marker": {
             "colorbar": {
              "outlinewidth": 0,
              "ticks": ""
             }
            },
            "type": "scattermapbox"
           }
          ],
          "scatterpolar": [
           {
            "marker": {
             "colorbar": {
              "outlinewidth": 0,
              "ticks": ""
             }
            },
            "type": "scatterpolar"
           }
          ],
          "scatterpolargl": [
           {
            "marker": {
             "colorbar": {
              "outlinewidth": 0,
              "ticks": ""
             }
            },
            "type": "scatterpolargl"
           }
          ],
          "scatterternary": [
           {
            "marker": {
             "colorbar": {
              "outlinewidth": 0,
              "ticks": ""
             }
            },
            "type": "scatterternary"
           }
          ],
          "surface": [
           {
            "colorbar": {
             "outlinewidth": 0,
             "ticks": ""
            },
            "colorscale": [
             [
              0,
              "#0d0887"
             ],
             [
              0.1111111111111111,
              "#46039f"
             ],
             [
              0.2222222222222222,
              "#7201a8"
             ],
             [
              0.3333333333333333,
              "#9c179e"
             ],
             [
              0.4444444444444444,
              "#bd3786"
             ],
             [
              0.5555555555555556,
              "#d8576b"
             ],
             [
              0.6666666666666666,
              "#ed7953"
             ],
             [
              0.7777777777777778,
              "#fb9f3a"
             ],
             [
              0.8888888888888888,
              "#fdca26"
             ],
             [
              1,
              "#f0f921"
             ]
            ],
            "type": "surface"
           }
          ],
          "table": [
           {
            "cells": {
             "fill": {
              "color": "#EBF0F8"
             },
             "line": {
              "color": "white"
             }
            },
            "header": {
             "fill": {
              "color": "#C8D4E3"
             },
             "line": {
              "color": "white"
             }
            },
            "type": "table"
           }
          ]
         },
         "layout": {
          "annotationdefaults": {
           "arrowcolor": "#2a3f5f",
           "arrowhead": 0,
           "arrowwidth": 1
          },
          "autotypenumbers": "strict",
          "coloraxis": {
           "colorbar": {
            "outlinewidth": 0,
            "ticks": ""
           }
          },
          "colorscale": {
           "diverging": [
            [
             0,
             "#8e0152"
            ],
            [
             0.1,
             "#c51b7d"
            ],
            [
             0.2,
             "#de77ae"
            ],
            [
             0.3,
             "#f1b6da"
            ],
            [
             0.4,
             "#fde0ef"
            ],
            [
             0.5,
             "#f7f7f7"
            ],
            [
             0.6,
             "#e6f5d0"
            ],
            [
             0.7,
             "#b8e186"
            ],
            [
             0.8,
             "#7fbc41"
            ],
            [
             0.9,
             "#4d9221"
            ],
            [
             1,
             "#276419"
            ]
           ],
           "sequential": [
            [
             0,
             "#0d0887"
            ],
            [
             0.1111111111111111,
             "#46039f"
            ],
            [
             0.2222222222222222,
             "#7201a8"
            ],
            [
             0.3333333333333333,
             "#9c179e"
            ],
            [
             0.4444444444444444,
             "#bd3786"
            ],
            [
             0.5555555555555556,
             "#d8576b"
            ],
            [
             0.6666666666666666,
             "#ed7953"
            ],
            [
             0.7777777777777778,
             "#fb9f3a"
            ],
            [
             0.8888888888888888,
             "#fdca26"
            ],
            [
             1,
             "#f0f921"
            ]
           ],
           "sequentialminus": [
            [
             0,
             "#0d0887"
            ],
            [
             0.1111111111111111,
             "#46039f"
            ],
            [
             0.2222222222222222,
             "#7201a8"
            ],
            [
             0.3333333333333333,
             "#9c179e"
            ],
            [
             0.4444444444444444,
             "#bd3786"
            ],
            [
             0.5555555555555556,
             "#d8576b"
            ],
            [
             0.6666666666666666,
             "#ed7953"
            ],
            [
             0.7777777777777778,
             "#fb9f3a"
            ],
            [
             0.8888888888888888,
             "#fdca26"
            ],
            [
             1,
             "#f0f921"
            ]
           ]
          },
          "colorway": [
           "#636efa",
           "#EF553B",
           "#00cc96",
           "#ab63fa",
           "#FFA15A",
           "#19d3f3",
           "#FF6692",
           "#B6E880",
           "#FF97FF",
           "#FECB52"
          ],
          "font": {
           "color": "#2a3f5f"
          },
          "geo": {
           "bgcolor": "white",
           "lakecolor": "white",
           "landcolor": "#E5ECF6",
           "showlakes": true,
           "showland": true,
           "subunitcolor": "white"
          },
          "hoverlabel": {
           "align": "left"
          },
          "hovermode": "closest",
          "mapbox": {
           "style": "light"
          },
          "paper_bgcolor": "white",
          "plot_bgcolor": "#E5ECF6",
          "polar": {
           "angularaxis": {
            "gridcolor": "white",
            "linecolor": "white",
            "ticks": ""
           },
           "bgcolor": "#E5ECF6",
           "radialaxis": {
            "gridcolor": "white",
            "linecolor": "white",
            "ticks": ""
           }
          },
          "scene": {
           "xaxis": {
            "backgroundcolor": "#E5ECF6",
            "gridcolor": "white",
            "gridwidth": 2,
            "linecolor": "white",
            "showbackground": true,
            "ticks": "",
            "zerolinecolor": "white"
           },
           "yaxis": {
            "backgroundcolor": "#E5ECF6",
            "gridcolor": "white",
            "gridwidth": 2,
            "linecolor": "white",
            "showbackground": true,
            "ticks": "",
            "zerolinecolor": "white"
           },
           "zaxis": {
            "backgroundcolor": "#E5ECF6",
            "gridcolor": "white",
            "gridwidth": 2,
            "linecolor": "white",
            "showbackground": true,
            "ticks": "",
            "zerolinecolor": "white"
           }
          },
          "shapedefaults": {
           "line": {
            "color": "#2a3f5f"
           }
          },
          "ternary": {
           "aaxis": {
            "gridcolor": "white",
            "linecolor": "white",
            "ticks": ""
           },
           "baxis": {
            "gridcolor": "white",
            "linecolor": "white",
            "ticks": ""
           },
           "bgcolor": "#E5ECF6",
           "caxis": {
            "gridcolor": "white",
            "linecolor": "white",
            "ticks": ""
           }
          },
          "title": {
           "x": 0.05
          },
          "xaxis": {
           "automargin": true,
           "gridcolor": "white",
           "linecolor": "white",
           "ticks": "",
           "title": {
            "standoff": 15
           },
           "zerolinecolor": "white",
           "zerolinewidth": 2
          },
          "yaxis": {
           "automargin": true,
           "gridcolor": "white",
           "linecolor": "white",
           "ticks": "",
           "title": {
            "standoff": 15
           },
           "zerolinecolor": "white",
           "zerolinewidth": 2
          }
         }
        },
        "title": {
         "text": "R1 Structures: Frequency and Impact on Score Relative to All Factions Average (148.13): gleens"
        }
       }
      },
      "text/html": [
       "<div>                            <div id=\"9d6ada0f-a8ec-43ee-8b84-a73297ea3a3d\" class=\"plotly-graph-div\" style=\"height:525px; width:100%;\"></div>            <script type=\"text/javascript\">                require([\"plotly\"], function(Plotly) {                    window.PLOTLYENV=window.PLOTLYENV || {};                                    if (document.getElementById(\"9d6ada0f-a8ec-43ee-8b84-a73297ea3a3d\")) {                    Plotly.newPlot(                        \"9d6ada0f-a8ec-43ee-8b84-a73297ea3a3d\",                        [{\"branchvalues\":\"total\",\"customdata\":[[117.0,131.0],[44.0,144.0],[212.13636363636363,140.1818181818182],[228.63793103448276,147.87719298245614],[131.0,126.5],[124.0,122.75],[235.66666666666666,141.0],[104.0,113.8],[191.03333333333333,128.44827586206895],[173.0,128.5],[235.32258064516128,146.26666666666668],[237.32394366197184,154.59420289855072],[139.88235294117646,123.29411764705883],[202.77678571428572,143.7037037037037],[192.75,137.27272727272728],[188.8673469387755,144.5408163265306],[222.83333333333334,140.9090909090909],[219.0,217.0],[254.66666666666666,165.33333333333334],[100.0,170.0],[195.2941176470588,123.29411764705883],[192.8578431372549,144.955],[148.0,142.0],[100.0,160.0],[157.33333333333334,156.63636363636363],[161.5,128.0],[139.88888888888889,127.44444444444444],[210.63076923076923,153.10256410256412],[165.6,140.56666666666666],[229.6,165.8],[182.86363636363637,123.0],[360.0,190.5],[239.26785714285714,158.1090909090909],[218.91358024691357,151.62962962962962],[300.0,205.0],[216.0,149.390625],[214.71428571428572,174.42857142857142],[227.76470588235293,162.88235294117646],[244.367816091954,164.69767441860466],[321.0,207.0],[250.42857142857142,194.57142857142858],[\"(?)\",128.08961038961039],[\"(?)\",151.71588922138122],[\"(?)\",144.89761904761906],[\"(?)\",147.55486025512718],[\"(?)\",156.78982713592836],[\"(?)\",149.9867663981588],[\"(?)\",148.41449909816805]],\"domain\":{\"x\":[0.0,1.0],\"y\":[0.0,1.0]},\"hovertemplate\":\"labels=%{label}<br>class_counts=%{value}<br>parent=%{parent}<br>id=%{id}<br>ave_elo_gleens=%{customdata[0]}<br>ave_score_gleens=%{color}<extra></extra>\",\"ids\":[\"R1 Structs/lab/ 0-m_0-ts_2-lab_0-pi_0-ac1_0-ac2\",\"R1 Structs/PI/ 0-m_1-ts_0-lab_1-pi_0-ac1_0-ac2\",\"R1 Structs/ac2/ 1-m_0-ts_0-lab_0-pi_0-ac1_1-ac2\",\"R1 Structs/ac1/ 1-m_0-ts_0-lab_0-pi_1-ac1_0-ac2\",\"R1 Structs/PI/ 1-m_0-ts_0-lab_1-pi_0-ac1_0-ac2\",\"R1 Structs/PI/ 1-m_0-ts_1-lab_1-pi_0-ac1_0-ac2\",\"R1 Structs/lab/ 1-m_0-ts_2-lab_0-pi_0-ac1_0-ac2\",\"R1 Structs/PI/ 1-m_1-ts_0-lab_1-pi_0-ac1_0-ac2\",\"R1 Structs/lab/ 1-m_1-ts_1-lab_0-pi_0-ac1_0-ac2\",\"R1 Structs/ts/ 1-m_3-ts_0-lab_0-pi_0-ac1_0-ac2\",\"R1 Structs/ac2/ 2-m_0-ts_0-lab_0-pi_0-ac1_1-ac2\",\"R1 Structs/ac1/ 2-m_0-ts_0-lab_0-pi_1-ac1_0-ac2\",\"R1 Structs/PI/ 2-m_0-ts_0-lab_1-pi_0-ac1_0-ac2\",\"R1 Structs/lab/ 2-m_0-ts_1-lab_0-pi_0-ac1_0-ac2\",\"R1 Structs/PI/ 2-m_1-ts_0-lab_1-pi_0-ac1_0-ac2\",\"R1 Structs/lab/ 2-m_1-ts_1-lab_0-pi_0-ac1_0-ac2\",\"R1 Structs/ts/ 2-m_2-ts_0-lab_0-pi_0-ac1_0-ac2\",\"R1 Structs/ts/ 2-m_3-ts_0-lab_0-pi_0-ac1_0-ac2\",\"R1 Structs/ac2/ 3-m_0-ts_0-lab_0-pi_0-ac1_1-ac2\",\"R1 Structs/ac1/ 3-m_0-ts_0-lab_0-pi_1-ac1_0-ac2\",\"R1 Structs/PI/ 3-m_0-ts_0-lab_1-pi_0-ac1_0-ac2\",\"R1 Structs/lab/ 3-m_0-ts_1-lab_0-pi_0-ac1_0-ac2\",\"R1 Structs/PI/ 3-m_0-ts_1-lab_1-pi_0-ac1_0-ac2\",\"R1 Structs/lab/ 3-m_0-ts_2-lab_0-pi_0-ac1_0-ac2\",\"R1 Structs/lab/ 3-m_1-ts_1-lab_0-pi_0-ac1_0-ac2\",\"R1 Structs/ts/ 3-m_2-ts_0-lab_0-pi_0-ac1_0-ac2\",\"R1 Structs/PI/ 4-m_0-ts_0-lab_1-pi_0-ac1_0-ac2\",\"R1 Structs/lab/ 4-m_0-ts_1-lab_0-pi_0-ac1_0-ac2\",\"R1 Structs/ts/ 4-m_1-ts_0-lab_0-pi_0-ac1_0-ac2\",\"R1 Structs/ts/ 4-m_2-ts_0-lab_0-pi_0-ac1_0-ac2\",\"R1 Structs/m/ 5-m_0-ts_0-lab_0-pi_0-ac1_0-ac2\",\"R1 Structs/PI/ 5-m_0-ts_0-lab_1-pi_0-ac1_0-ac2\",\"R1 Structs/lab/ 5-m_0-ts_1-lab_0-pi_0-ac1_0-ac2\",\"R1 Structs/ts/ 5-m_1-ts_0-lab_0-pi_0-ac1_0-ac2\",\"R1 Structs/ts/ 5-m_2-ts_0-lab_0-pi_0-ac1_0-ac2\",\"R1 Structs/m/ 6-m_0-ts_0-lab_0-pi_0-ac1_0-ac2\",\"R1 Structs/lab/ 6-m_0-ts_1-lab_0-pi_0-ac1_0-ac2\",\"R1 Structs/ts/ 6-m_1-ts_0-lab_0-pi_0-ac1_0-ac2\",\"R1 Structs/m/ 7-m_0-ts_0-lab_0-pi_0-ac1_0-ac2\",\"R1 Structs/ts/ 7-m_1-ts_0-lab_0-pi_0-ac1_0-ac2\",\"R1 Structs/m/ 8-m_0-ts_0-lab_0-pi_0-ac1_0-ac2\",\"R1 Structs/PI\",\"R1 Structs/ac1\",\"R1 Structs/ac2\",\"R1 Structs/lab\",\"R1 Structs/m\",\"R1 Structs/ts\",\"R1 Structs\"],\"labels\":[\" 0-m_0-ts_2-lab_0-pi_0-ac1_0-ac2\",\" 0-m_1-ts_0-lab_1-pi_0-ac1_0-ac2\",\" 1-m_0-ts_0-lab_0-pi_0-ac1_1-ac2\",\" 1-m_0-ts_0-lab_0-pi_1-ac1_0-ac2\",\" 1-m_0-ts_0-lab_1-pi_0-ac1_0-ac2\",\" 1-m_0-ts_1-lab_1-pi_0-ac1_0-ac2\",\" 1-m_0-ts_2-lab_0-pi_0-ac1_0-ac2\",\" 1-m_1-ts_0-lab_1-pi_0-ac1_0-ac2\",\" 1-m_1-ts_1-lab_0-pi_0-ac1_0-ac2\",\" 1-m_3-ts_0-lab_0-pi_0-ac1_0-ac2\",\" 2-m_0-ts_0-lab_0-pi_0-ac1_1-ac2\",\" 2-m_0-ts_0-lab_0-pi_1-ac1_0-ac2\",\" 2-m_0-ts_0-lab_1-pi_0-ac1_0-ac2\",\" 2-m_0-ts_1-lab_0-pi_0-ac1_0-ac2\",\" 2-m_1-ts_0-lab_1-pi_0-ac1_0-ac2\",\" 2-m_1-ts_1-lab_0-pi_0-ac1_0-ac2\",\" 2-m_2-ts_0-lab_0-pi_0-ac1_0-ac2\",\" 2-m_3-ts_0-lab_0-pi_0-ac1_0-ac2\",\" 3-m_0-ts_0-lab_0-pi_0-ac1_1-ac2\",\" 3-m_0-ts_0-lab_0-pi_1-ac1_0-ac2\",\" 3-m_0-ts_0-lab_1-pi_0-ac1_0-ac2\",\" 3-m_0-ts_1-lab_0-pi_0-ac1_0-ac2\",\" 3-m_0-ts_1-lab_1-pi_0-ac1_0-ac2\",\" 3-m_0-ts_2-lab_0-pi_0-ac1_0-ac2\",\" 3-m_1-ts_1-lab_0-pi_0-ac1_0-ac2\",\" 3-m_2-ts_0-lab_0-pi_0-ac1_0-ac2\",\" 4-m_0-ts_0-lab_1-pi_0-ac1_0-ac2\",\" 4-m_0-ts_1-lab_0-pi_0-ac1_0-ac2\",\" 4-m_1-ts_0-lab_0-pi_0-ac1_0-ac2\",\" 4-m_2-ts_0-lab_0-pi_0-ac1_0-ac2\",\" 5-m_0-ts_0-lab_0-pi_0-ac1_0-ac2\",\" 5-m_0-ts_0-lab_1-pi_0-ac1_0-ac2\",\" 5-m_0-ts_1-lab_0-pi_0-ac1_0-ac2\",\" 5-m_1-ts_0-lab_0-pi_0-ac1_0-ac2\",\" 5-m_2-ts_0-lab_0-pi_0-ac1_0-ac2\",\" 6-m_0-ts_0-lab_0-pi_0-ac1_0-ac2\",\" 6-m_0-ts_1-lab_0-pi_0-ac1_0-ac2\",\" 6-m_1-ts_0-lab_0-pi_0-ac1_0-ac2\",\" 7-m_0-ts_0-lab_0-pi_0-ac1_0-ac2\",\" 7-m_1-ts_0-lab_0-pi_0-ac1_0-ac2\",\" 8-m_0-ts_0-lab_0-pi_0-ac1_0-ac2\",\"PI\",\"ac1\",\"ac2\",\"lab\",\"m\",\"ts\",\"R1 Structs\"],\"marker\":{\"coloraxis\":\"coloraxis\",\"colors\":[131.0,144.0,140.1818181818182,147.87719298245614,126.5,122.75,141.0,113.8,128.44827586206895,128.5,146.26666666666668,154.59420289855072,123.29411764705883,143.7037037037037,137.27272727272728,144.5408163265306,140.9090909090909,217.0,165.33333333333334,170.0,123.29411764705883,144.955,142.0,160.0,156.63636363636363,128.0,127.44444444444444,153.10256410256412,140.56666666666666,165.8,123.0,190.5,158.1090909090909,151.62962962962962,205.0,149.390625,174.42857142857142,162.88235294117646,164.69767441860466,207.0,194.57142857142858,128.08961038961039,151.71588922138122,144.89761904761906,147.55486025512718,156.78982713592836,149.9867663981588,148.41449909816805]},\"name\":\"\",\"parents\":[\"R1 Structs/lab\",\"R1 Structs/PI\",\"R1 Structs/ac2\",\"R1 Structs/ac1\",\"R1 Structs/PI\",\"R1 Structs/PI\",\"R1 Structs/lab\",\"R1 Structs/PI\",\"R1 Structs/lab\",\"R1 Structs/ts\",\"R1 Structs/ac2\",\"R1 Structs/ac1\",\"R1 Structs/PI\",\"R1 Structs/lab\",\"R1 Structs/PI\",\"R1 Structs/lab\",\"R1 Structs/ts\",\"R1 Structs/ts\",\"R1 Structs/ac2\",\"R1 Structs/ac1\",\"R1 Structs/PI\",\"R1 Structs/lab\",\"R1 Structs/PI\",\"R1 Structs/lab\",\"R1 Structs/lab\",\"R1 Structs/ts\",\"R1 Structs/PI\",\"R1 Structs/lab\",\"R1 Structs/ts\",\"R1 Structs/ts\",\"R1 Structs/m\",\"R1 Structs/PI\",\"R1 Structs/lab\",\"R1 Structs/ts\",\"R1 Structs/ts\",\"R1 Structs/m\",\"R1 Structs/lab\",\"R1 Structs/ts\",\"R1 Structs/m\",\"R1 Structs/ts\",\"R1 Structs/m\",\"R1 Structs\",\"R1 Structs\",\"R1 Structs\",\"R1 Structs\",\"R1 Structs\",\"R1 Structs\",\"\"],\"values\":[8,1,22,58,2,4,3,5,30,2,31,71,17,112,12,98,12,1,3,1,17,204,1,1,12,8,9,195,30,5,22,2,56,81,1,64,7,17,87,1,14,70,130,56,726,187,158,1327],\"type\":\"treemap\"}],                        {\"template\":{\"data\":{\"bar\":[{\"error_x\":{\"color\":\"#2a3f5f\"},\"error_y\":{\"color\":\"#2a3f5f\"},\"marker\":{\"line\":{\"color\":\"#E5ECF6\",\"width\":0.5},\"pattern\":{\"fillmode\":\"overlay\",\"size\":10,\"solidity\":0.2}},\"type\":\"bar\"}],\"barpolar\":[{\"marker\":{\"line\":{\"color\":\"#E5ECF6\",\"width\":0.5},\"pattern\":{\"fillmode\":\"overlay\",\"size\":10,\"solidity\":0.2}},\"type\":\"barpolar\"}],\"carpet\":[{\"aaxis\":{\"endlinecolor\":\"#2a3f5f\",\"gridcolor\":\"white\",\"linecolor\":\"white\",\"minorgridcolor\":\"white\",\"startlinecolor\":\"#2a3f5f\"},\"baxis\":{\"endlinecolor\":\"#2a3f5f\",\"gridcolor\":\"white\",\"linecolor\":\"white\",\"minorgridcolor\":\"white\",\"startlinecolor\":\"#2a3f5f\"},\"type\":\"carpet\"}],\"choropleth\":[{\"colorbar\":{\"outlinewidth\":0,\"ticks\":\"\"},\"type\":\"choropleth\"}],\"contour\":[{\"colorbar\":{\"outlinewidth\":0,\"ticks\":\"\"},\"colorscale\":[[0.0,\"#0d0887\"],[0.1111111111111111,\"#46039f\"],[0.2222222222222222,\"#7201a8\"],[0.3333333333333333,\"#9c179e\"],[0.4444444444444444,\"#bd3786\"],[0.5555555555555556,\"#d8576b\"],[0.6666666666666666,\"#ed7953\"],[0.7777777777777778,\"#fb9f3a\"],[0.8888888888888888,\"#fdca26\"],[1.0,\"#f0f921\"]],\"type\":\"contour\"}],\"contourcarpet\":[{\"colorbar\":{\"outlinewidth\":0,\"ticks\":\"\"},\"type\":\"contourcarpet\"}],\"heatmap\":[{\"colorbar\":{\"outlinewidth\":0,\"ticks\":\"\"},\"colorscale\":[[0.0,\"#0d0887\"],[0.1111111111111111,\"#46039f\"],[0.2222222222222222,\"#7201a8\"],[0.3333333333333333,\"#9c179e\"],[0.4444444444444444,\"#bd3786\"],[0.5555555555555556,\"#d8576b\"],[0.6666666666666666,\"#ed7953\"],[0.7777777777777778,\"#fb9f3a\"],[0.8888888888888888,\"#fdca26\"],[1.0,\"#f0f921\"]],\"type\":\"heatmap\"}],\"heatmapgl\":[{\"colorbar\":{\"outlinewidth\":0,\"ticks\":\"\"},\"colorscale\":[[0.0,\"#0d0887\"],[0.1111111111111111,\"#46039f\"],[0.2222222222222222,\"#7201a8\"],[0.3333333333333333,\"#9c179e\"],[0.4444444444444444,\"#bd3786\"],[0.5555555555555556,\"#d8576b\"],[0.6666666666666666,\"#ed7953\"],[0.7777777777777778,\"#fb9f3a\"],[0.8888888888888888,\"#fdca26\"],[1.0,\"#f0f921\"]],\"type\":\"heatmapgl\"}],\"histogram\":[{\"marker\":{\"pattern\":{\"fillmode\":\"overlay\",\"size\":10,\"solidity\":0.2}},\"type\":\"histogram\"}],\"histogram2d\":[{\"colorbar\":{\"outlinewidth\":0,\"ticks\":\"\"},\"colorscale\":[[0.0,\"#0d0887\"],[0.1111111111111111,\"#46039f\"],[0.2222222222222222,\"#7201a8\"],[0.3333333333333333,\"#9c179e\"],[0.4444444444444444,\"#bd3786\"],[0.5555555555555556,\"#d8576b\"],[0.6666666666666666,\"#ed7953\"],[0.7777777777777778,\"#fb9f3a\"],[0.8888888888888888,\"#fdca26\"],[1.0,\"#f0f921\"]],\"type\":\"histogram2d\"}],\"histogram2dcontour\":[{\"colorbar\":{\"outlinewidth\":0,\"ticks\":\"\"},\"colorscale\":[[0.0,\"#0d0887\"],[0.1111111111111111,\"#46039f\"],[0.2222222222222222,\"#7201a8\"],[0.3333333333333333,\"#9c179e\"],[0.4444444444444444,\"#bd3786\"],[0.5555555555555556,\"#d8576b\"],[0.6666666666666666,\"#ed7953\"],[0.7777777777777778,\"#fb9f3a\"],[0.8888888888888888,\"#fdca26\"],[1.0,\"#f0f921\"]],\"type\":\"histogram2dcontour\"}],\"mesh3d\":[{\"colorbar\":{\"outlinewidth\":0,\"ticks\":\"\"},\"type\":\"mesh3d\"}],\"parcoords\":[{\"line\":{\"colorbar\":{\"outlinewidth\":0,\"ticks\":\"\"}},\"type\":\"parcoords\"}],\"pie\":[{\"automargin\":true,\"type\":\"pie\"}],\"scatter\":[{\"marker\":{\"colorbar\":{\"outlinewidth\":0,\"ticks\":\"\"}},\"type\":\"scatter\"}],\"scatter3d\":[{\"line\":{\"colorbar\":{\"outlinewidth\":0,\"ticks\":\"\"}},\"marker\":{\"colorbar\":{\"outlinewidth\":0,\"ticks\":\"\"}},\"type\":\"scatter3d\"}],\"scattercarpet\":[{\"marker\":{\"colorbar\":{\"outlinewidth\":0,\"ticks\":\"\"}},\"type\":\"scattercarpet\"}],\"scattergeo\":[{\"marker\":{\"colorbar\":{\"outlinewidth\":0,\"ticks\":\"\"}},\"type\":\"scattergeo\"}],\"scattergl\":[{\"marker\":{\"colorbar\":{\"outlinewidth\":0,\"ticks\":\"\"}},\"type\":\"scattergl\"}],\"scattermapbox\":[{\"marker\":{\"colorbar\":{\"outlinewidth\":0,\"ticks\":\"\"}},\"type\":\"scattermapbox\"}],\"scatterpolar\":[{\"marker\":{\"colorbar\":{\"outlinewidth\":0,\"ticks\":\"\"}},\"type\":\"scatterpolar\"}],\"scatterpolargl\":[{\"marker\":{\"colorbar\":{\"outlinewidth\":0,\"ticks\":\"\"}},\"type\":\"scatterpolargl\"}],\"scatterternary\":[{\"marker\":{\"colorbar\":{\"outlinewidth\":0,\"ticks\":\"\"}},\"type\":\"scatterternary\"}],\"surface\":[{\"colorbar\":{\"outlinewidth\":0,\"ticks\":\"\"},\"colorscale\":[[0.0,\"#0d0887\"],[0.1111111111111111,\"#46039f\"],[0.2222222222222222,\"#7201a8\"],[0.3333333333333333,\"#9c179e\"],[0.4444444444444444,\"#bd3786\"],[0.5555555555555556,\"#d8576b\"],[0.6666666666666666,\"#ed7953\"],[0.7777777777777778,\"#fb9f3a\"],[0.8888888888888888,\"#fdca26\"],[1.0,\"#f0f921\"]],\"type\":\"surface\"}],\"table\":[{\"cells\":{\"fill\":{\"color\":\"#EBF0F8\"},\"line\":{\"color\":\"white\"}},\"header\":{\"fill\":{\"color\":\"#C8D4E3\"},\"line\":{\"color\":\"white\"}},\"type\":\"table\"}]},\"layout\":{\"annotationdefaults\":{\"arrowcolor\":\"#2a3f5f\",\"arrowhead\":0,\"arrowwidth\":1},\"autotypenumbers\":\"strict\",\"coloraxis\":{\"colorbar\":{\"outlinewidth\":0,\"ticks\":\"\"}},\"colorscale\":{\"diverging\":[[0,\"#8e0152\"],[0.1,\"#c51b7d\"],[0.2,\"#de77ae\"],[0.3,\"#f1b6da\"],[0.4,\"#fde0ef\"],[0.5,\"#f7f7f7\"],[0.6,\"#e6f5d0\"],[0.7,\"#b8e186\"],[0.8,\"#7fbc41\"],[0.9,\"#4d9221\"],[1,\"#276419\"]],\"sequential\":[[0.0,\"#0d0887\"],[0.1111111111111111,\"#46039f\"],[0.2222222222222222,\"#7201a8\"],[0.3333333333333333,\"#9c179e\"],[0.4444444444444444,\"#bd3786\"],[0.5555555555555556,\"#d8576b\"],[0.6666666666666666,\"#ed7953\"],[0.7777777777777778,\"#fb9f3a\"],[0.8888888888888888,\"#fdca26\"],[1.0,\"#f0f921\"]],\"sequentialminus\":[[0.0,\"#0d0887\"],[0.1111111111111111,\"#46039f\"],[0.2222222222222222,\"#7201a8\"],[0.3333333333333333,\"#9c179e\"],[0.4444444444444444,\"#bd3786\"],[0.5555555555555556,\"#d8576b\"],[0.6666666666666666,\"#ed7953\"],[0.7777777777777778,\"#fb9f3a\"],[0.8888888888888888,\"#fdca26\"],[1.0,\"#f0f921\"]]},\"colorway\":[\"#636efa\",\"#EF553B\",\"#00cc96\",\"#ab63fa\",\"#FFA15A\",\"#19d3f3\",\"#FF6692\",\"#B6E880\",\"#FF97FF\",\"#FECB52\"],\"font\":{\"color\":\"#2a3f5f\"},\"geo\":{\"bgcolor\":\"white\",\"lakecolor\":\"white\",\"landcolor\":\"#E5ECF6\",\"showlakes\":true,\"showland\":true,\"subunitcolor\":\"white\"},\"hoverlabel\":{\"align\":\"left\"},\"hovermode\":\"closest\",\"mapbox\":{\"style\":\"light\"},\"paper_bgcolor\":\"white\",\"plot_bgcolor\":\"#E5ECF6\",\"polar\":{\"angularaxis\":{\"gridcolor\":\"white\",\"linecolor\":\"white\",\"ticks\":\"\"},\"bgcolor\":\"#E5ECF6\",\"radialaxis\":{\"gridcolor\":\"white\",\"linecolor\":\"white\",\"ticks\":\"\"}},\"scene\":{\"xaxis\":{\"backgroundcolor\":\"#E5ECF6\",\"gridcolor\":\"white\",\"gridwidth\":2,\"linecolor\":\"white\",\"showbackground\":true,\"ticks\":\"\",\"zerolinecolor\":\"white\"},\"yaxis\":{\"backgroundcolor\":\"#E5ECF6\",\"gridcolor\":\"white\",\"gridwidth\":2,\"linecolor\":\"white\",\"showbackground\":true,\"ticks\":\"\",\"zerolinecolor\":\"white\"},\"zaxis\":{\"backgroundcolor\":\"#E5ECF6\",\"gridcolor\":\"white\",\"gridwidth\":2,\"linecolor\":\"white\",\"showbackground\":true,\"ticks\":\"\",\"zerolinecolor\":\"white\"}},\"shapedefaults\":{\"line\":{\"color\":\"#2a3f5f\"}},\"ternary\":{\"aaxis\":{\"gridcolor\":\"white\",\"linecolor\":\"white\",\"ticks\":\"\"},\"baxis\":{\"gridcolor\":\"white\",\"linecolor\":\"white\",\"ticks\":\"\"},\"bgcolor\":\"#E5ECF6\",\"caxis\":{\"gridcolor\":\"white\",\"linecolor\":\"white\",\"ticks\":\"\"}},\"title\":{\"x\":0.05},\"xaxis\":{\"automargin\":true,\"gridcolor\":\"white\",\"linecolor\":\"white\",\"ticks\":\"\",\"title\":{\"standoff\":15},\"zerolinecolor\":\"white\",\"zerolinewidth\":2},\"yaxis\":{\"automargin\":true,\"gridcolor\":\"white\",\"linecolor\":\"white\",\"ticks\":\"\",\"title\":{\"standoff\":15},\"zerolinecolor\":\"white\",\"zerolinewidth\":2}}},\"coloraxis\":{\"colorbar\":{\"title\":{\"text\":\"ave_score_gleens\"}},\"colorscale\":[[0.0,\"rgb(103,0,31)\"],[0.1,\"rgb(178,24,43)\"],[0.2,\"rgb(214,96,77)\"],[0.3,\"rgb(244,165,130)\"],[0.4,\"rgb(253,219,199)\"],[0.5,\"rgb(247,247,247)\"],[0.6,\"rgb(209,229,240)\"],[0.7,\"rgb(146,197,222)\"],[0.8,\"rgb(67,147,195)\"],[0.9,\"rgb(33,102,172)\"],[1.0,\"rgb(5,48,97)\"]],\"cmid\":148.12743354661777},\"legend\":{\"tracegroupgap\":0},\"margin\":{\"t\":50,\"l\":25,\"r\":25,\"b\":25},\"title\":{\"text\":\"R1 Structures: Frequency and Impact on Score Relative to All Factions Average (148.13): gleens\"}},                        {\"responsive\": true}                    ).then(function(){\n",
       "                            \n",
       "var gd = document.getElementById('9d6ada0f-a8ec-43ee-8b84-a73297ea3a3d');\n",
       "var x = new MutationObserver(function (mutations, observer) {{\n",
       "        var display = window.getComputedStyle(gd).display;\n",
       "        if (!display || display === 'none') {{\n",
       "            console.log([gd, 'removed!']);\n",
       "            Plotly.purge(gd);\n",
       "            observer.disconnect();\n",
       "        }}\n",
       "}});\n",
       "\n",
       "// Listen for the removal of the full notebook cells\n",
       "var notebookContainer = gd.closest('#notebook-container');\n",
       "if (notebookContainer) {{\n",
       "    x.observe(notebookContainer, {childList: true});\n",
       "}}\n",
       "\n",
       "// Listen for the clearing of the current output cell\n",
       "var outputEl = gd.closest('.output');\n",
       "if (outputEl) {{\n",
       "    x.observe(outputEl, {childList: true});\n",
       "}}\n",
       "\n",
       "                        })                };                });            </script>        </div>"
      ]
     },
     "metadata": {},
     "output_type": "display_data"
    },
    {
     "data": {
      "application/vnd.plotly.v1+json": {
       "config": {
        "plotlyServerURL": "https://plot.ly"
       },
       "data": [
        {
         "branchvalues": "total",
         "customdata": [
          [
           227.78947368421052,
           149.61111111111111
          ],
          [
           257,
           189
          ],
          [
           114,
           89
          ],
          [
           175.14285714285714,
           141.85714285714286
          ],
          [
           10,
           105
          ],
          [
           197.40697674418604,
           153.20481927710844
          ],
          [
           232.92096219931273,
           156.6232394366197
          ],
          [
           170.55555555555554,
           137.96226415094338
          ],
          [
           266.42857142857144,
           163
          ],
          [
           175.47457627118644,
           139.93103448275863
          ],
          [
           209.6031746031746,
           151.56666666666666
          ],
          [
           268.9922480620155,
           154.9920634920635
          ],
          [
           218.54666666666665,
           153.93766937669378
          ],
          [
           101.2,
           105.2
          ],
          [
           219.30864197530863,
           148.375
          ],
          [
           203.75,
           134.75
          ],
          [
           218,
           128
          ],
          [
           434,
           167
          ],
          [
           205.47513812154696,
           149.70056497175142
          ],
          [
           153,
           101
          ],
          [
           100,
           110
          ],
          [
           233.0983606557377,
           153.93333333333334
          ],
          [
           172,
           135
          ],
          [
           42,
           140
          ],
          [
           262,
           138
          ],
          [
           114,
           89
          ],
          [
           "(?)",
           156.22592148467422
          ],
          [
           "(?)",
           152.18751296577034
          ],
          [
           "(?)",
           150.17124241127087
          ],
          [
           42,
           140
          ],
          [
           "(?)",
           117.91666666666667
          ],
          [
           "(?)",
           151.79396279028373
          ]
         ],
         "domain": {
          "x": [
           0,
           1
          ],
          "y": [
           0,
           1
          ]
         },
         "hovertemplate": "labels=%{label}<br>class_counts=%{value}<br>parent=%{parent}<br>id=%{id}<br>ave_elo_baltaks=%{customdata[0]}<br>ave_score_baltaks=%{color}<extra></extra>",
         "ids": [
          "R1 Structs/lab/ 0-m_0-ts_2-lab_0-pi_0-ac1_0-ac2",
          "R1 Structs/ac1/ 0-m_1-ts_0-lab_0-pi_1-ac1_0-ac2",
          "R1 Structs/PI/ 0-m_1-ts_0-lab_1-pi_0-ac1_0-ac2",
          "R1 Structs/lab/ 0-m_1-ts_1-lab_0-pi_0-ac1_0-ac2",
          "R1 Structs/ts/ 0-m_3-ts_0-lab_0-pi_0-ac1_0-ac2",
          "R1 Structs/ac2/ 1-m_0-ts_0-lab_0-pi_0-ac1_1-ac2",
          "R1 Structs/ac1/ 1-m_0-ts_0-lab_0-pi_1-ac1_0-ac2",
          "R1 Structs/lab/ 1-m_0-ts_1-lab_0-pi_0-ac1_0-ac2",
          "R1 Structs/lab/ 1-m_0-ts_2-lab_0-pi_0-ac1_0-ac2",
          "R1 Structs/lab/ 1-m_1-ts_1-lab_0-pi_0-ac1_0-ac2",
          "R1 Structs/ac2/ 2-m_0-ts_0-lab_0-pi_0-ac1_1-ac2",
          "R1 Structs/ac1/ 2-m_0-ts_0-lab_0-pi_1-ac1_0-ac2",
          "R1 Structs/lab/ 2-m_0-ts_1-lab_0-pi_0-ac1_0-ac2",
          "R1 Structs/ts/ 2-m_1-ts_0-lab_0-pi_0-ac1_0-ac2",
          "R1 Structs/lab/ 2-m_1-ts_1-lab_0-pi_0-ac1_0-ac2",
          "R1 Structs/ts/ 2-m_2-ts_0-lab_0-pi_0-ac1_0-ac2",
          "R1 Structs/ac2/ 3-m_0-ts_0-lab_0-pi_0-ac1_1-ac2",
          "R1 Structs/ac1/ 3-m_0-ts_0-lab_0-pi_1-ac1_0-ac2",
          "R1 Structs/lab/ 3-m_0-ts_1-lab_0-pi_0-ac1_0-ac2",
          "R1 Structs/lab/ 3-m_1-ts_1-lab_0-pi_0-ac1_0-ac2",
          "R1 Structs/ts/ 3-m_2-ts_0-lab_0-pi_0-ac1_0-ac2",
          "R1 Structs/lab/ 4-m_0-ts_1-lab_0-pi_0-ac1_0-ac2",
          "R1 Structs/ts/ 4-m_1-ts_0-lab_0-pi_0-ac1_0-ac2",
          "R1 Structs/m/ 5-m_0-ts_0-lab_0-pi_0-ac1_0-ac2",
          "R1 Structs/lab/ 5-m_0-ts_1-lab_0-pi_0-ac1_0-ac2",
          "R1 Structs/PI",
          "R1 Structs/ac1",
          "R1 Structs/ac2",
          "R1 Structs/lab",
          "R1 Structs/m",
          "R1 Structs/ts",
          "R1 Structs"
         ],
         "labels": [
          " 0-m_0-ts_2-lab_0-pi_0-ac1_0-ac2",
          " 0-m_1-ts_0-lab_0-pi_1-ac1_0-ac2",
          " 0-m_1-ts_0-lab_1-pi_0-ac1_0-ac2",
          " 0-m_1-ts_1-lab_0-pi_0-ac1_0-ac2",
          " 0-m_3-ts_0-lab_0-pi_0-ac1_0-ac2",
          " 1-m_0-ts_0-lab_0-pi_0-ac1_1-ac2",
          " 1-m_0-ts_0-lab_0-pi_1-ac1_0-ac2",
          " 1-m_0-ts_1-lab_0-pi_0-ac1_0-ac2",
          " 1-m_0-ts_2-lab_0-pi_0-ac1_0-ac2",
          " 1-m_1-ts_1-lab_0-pi_0-ac1_0-ac2",
          " 2-m_0-ts_0-lab_0-pi_0-ac1_1-ac2",
          " 2-m_0-ts_0-lab_0-pi_1-ac1_0-ac2",
          " 2-m_0-ts_1-lab_0-pi_0-ac1_0-ac2",
          " 2-m_1-ts_0-lab_0-pi_0-ac1_0-ac2",
          " 2-m_1-ts_1-lab_0-pi_0-ac1_0-ac2",
          " 2-m_2-ts_0-lab_0-pi_0-ac1_0-ac2",
          " 3-m_0-ts_0-lab_0-pi_0-ac1_1-ac2",
          " 3-m_0-ts_0-lab_0-pi_1-ac1_0-ac2",
          " 3-m_0-ts_1-lab_0-pi_0-ac1_0-ac2",
          " 3-m_1-ts_1-lab_0-pi_0-ac1_0-ac2",
          " 3-m_2-ts_0-lab_0-pi_0-ac1_0-ac2",
          " 4-m_0-ts_1-lab_0-pi_0-ac1_0-ac2",
          " 4-m_1-ts_0-lab_0-pi_0-ac1_0-ac2",
          " 5-m_0-ts_0-lab_0-pi_0-ac1_0-ac2",
          " 5-m_0-ts_1-lab_0-pi_0-ac1_0-ac2",
          "PI",
          "ac1",
          "ac2",
          "lab",
          "m",
          "ts",
          "R1 Structs"
         ],
         "marker": {
          "coloraxis": "coloraxis",
          "colors": [
           149.61111111111111,
           189,
           89,
           141.85714285714286,
           105,
           153.20481927710844,
           156.6232394366197,
           137.96226415094338,
           163,
           139.93103448275863,
           151.56666666666666,
           154.9920634920635,
           153.93766937669378,
           105.2,
           148.375,
           134.75,
           128,
           167,
           149.70056497175142,
           101,
           110,
           153.93333333333334,
           135,
           140,
           138,
           89,
           156.22592148467422,
           152.18751296577034,
           150.17124241127087,
           140,
           117.91666666666667,
           151.79396279028373
          ]
         },
         "name": "",
         "parents": [
          "R1 Structs/lab",
          "R1 Structs/ac1",
          "R1 Structs/PI",
          "R1 Structs/lab",
          "R1 Structs/ts",
          "R1 Structs/ac2",
          "R1 Structs/ac1",
          "R1 Structs/lab",
          "R1 Structs/lab",
          "R1 Structs/lab",
          "R1 Structs/ac2",
          "R1 Structs/ac1",
          "R1 Structs/lab",
          "R1 Structs/ts",
          "R1 Structs/lab",
          "R1 Structs/ts",
          "R1 Structs/ac2",
          "R1 Structs/ac1",
          "R1 Structs/lab",
          "R1 Structs/lab",
          "R1 Structs/ts",
          "R1 Structs/lab",
          "R1 Structs/ts",
          "R1 Structs/m",
          "R1 Structs/lab",
          "R1 Structs",
          "R1 Structs",
          "R1 Structs",
          "R1 Structs",
          "R1 Structs",
          "R1 Structs",
          ""
         ],
         "type": "treemap",
         "values": [
          19,
          1,
          2,
          14,
          1,
          86,
          291,
          54,
          7,
          59,
          63,
          129,
          375,
          5,
          81,
          4,
          2,
          1,
          181,
          2,
          1,
          61,
          1,
          1,
          1,
          2,
          422,
          151,
          854,
          1,
          12,
          1442
         ]
        }
       ],
       "layout": {
        "coloraxis": {
         "cmid": 148.12743354661777,
         "colorbar": {
          "title": {
           "text": "ave_score_baltaks"
          }
         },
         "colorscale": [
          [
           0,
           "rgb(103,0,31)"
          ],
          [
           0.1,
           "rgb(178,24,43)"
          ],
          [
           0.2,
           "rgb(214,96,77)"
          ],
          [
           0.3,
           "rgb(244,165,130)"
          ],
          [
           0.4,
           "rgb(253,219,199)"
          ],
          [
           0.5,
           "rgb(247,247,247)"
          ],
          [
           0.6,
           "rgb(209,229,240)"
          ],
          [
           0.7,
           "rgb(146,197,222)"
          ],
          [
           0.8,
           "rgb(67,147,195)"
          ],
          [
           0.9,
           "rgb(33,102,172)"
          ],
          [
           1,
           "rgb(5,48,97)"
          ]
         ]
        },
        "legend": {
         "tracegroupgap": 0
        },
        "margin": {
         "b": 25,
         "l": 25,
         "r": 25,
         "t": 50
        },
        "template": {
         "data": {
          "bar": [
           {
            "error_x": {
             "color": "#2a3f5f"
            },
            "error_y": {
             "color": "#2a3f5f"
            },
            "marker": {
             "line": {
              "color": "#E5ECF6",
              "width": 0.5
             },
             "pattern": {
              "fillmode": "overlay",
              "size": 10,
              "solidity": 0.2
             }
            },
            "type": "bar"
           }
          ],
          "barpolar": [
           {
            "marker": {
             "line": {
              "color": "#E5ECF6",
              "width": 0.5
             },
             "pattern": {
              "fillmode": "overlay",
              "size": 10,
              "solidity": 0.2
             }
            },
            "type": "barpolar"
           }
          ],
          "carpet": [
           {
            "aaxis": {
             "endlinecolor": "#2a3f5f",
             "gridcolor": "white",
             "linecolor": "white",
             "minorgridcolor": "white",
             "startlinecolor": "#2a3f5f"
            },
            "baxis": {
             "endlinecolor": "#2a3f5f",
             "gridcolor": "white",
             "linecolor": "white",
             "minorgridcolor": "white",
             "startlinecolor": "#2a3f5f"
            },
            "type": "carpet"
           }
          ],
          "choropleth": [
           {
            "colorbar": {
             "outlinewidth": 0,
             "ticks": ""
            },
            "type": "choropleth"
           }
          ],
          "contour": [
           {
            "colorbar": {
             "outlinewidth": 0,
             "ticks": ""
            },
            "colorscale": [
             [
              0,
              "#0d0887"
             ],
             [
              0.1111111111111111,
              "#46039f"
             ],
             [
              0.2222222222222222,
              "#7201a8"
             ],
             [
              0.3333333333333333,
              "#9c179e"
             ],
             [
              0.4444444444444444,
              "#bd3786"
             ],
             [
              0.5555555555555556,
              "#d8576b"
             ],
             [
              0.6666666666666666,
              "#ed7953"
             ],
             [
              0.7777777777777778,
              "#fb9f3a"
             ],
             [
              0.8888888888888888,
              "#fdca26"
             ],
             [
              1,
              "#f0f921"
             ]
            ],
            "type": "contour"
           }
          ],
          "contourcarpet": [
           {
            "colorbar": {
             "outlinewidth": 0,
             "ticks": ""
            },
            "type": "contourcarpet"
           }
          ],
          "heatmap": [
           {
            "colorbar": {
             "outlinewidth": 0,
             "ticks": ""
            },
            "colorscale": [
             [
              0,
              "#0d0887"
             ],
             [
              0.1111111111111111,
              "#46039f"
             ],
             [
              0.2222222222222222,
              "#7201a8"
             ],
             [
              0.3333333333333333,
              "#9c179e"
             ],
             [
              0.4444444444444444,
              "#bd3786"
             ],
             [
              0.5555555555555556,
              "#d8576b"
             ],
             [
              0.6666666666666666,
              "#ed7953"
             ],
             [
              0.7777777777777778,
              "#fb9f3a"
             ],
             [
              0.8888888888888888,
              "#fdca26"
             ],
             [
              1,
              "#f0f921"
             ]
            ],
            "type": "heatmap"
           }
          ],
          "heatmapgl": [
           {
            "colorbar": {
             "outlinewidth": 0,
             "ticks": ""
            },
            "colorscale": [
             [
              0,
              "#0d0887"
             ],
             [
              0.1111111111111111,
              "#46039f"
             ],
             [
              0.2222222222222222,
              "#7201a8"
             ],
             [
              0.3333333333333333,
              "#9c179e"
             ],
             [
              0.4444444444444444,
              "#bd3786"
             ],
             [
              0.5555555555555556,
              "#d8576b"
             ],
             [
              0.6666666666666666,
              "#ed7953"
             ],
             [
              0.7777777777777778,
              "#fb9f3a"
             ],
             [
              0.8888888888888888,
              "#fdca26"
             ],
             [
              1,
              "#f0f921"
             ]
            ],
            "type": "heatmapgl"
           }
          ],
          "histogram": [
           {
            "marker": {
             "pattern": {
              "fillmode": "overlay",
              "size": 10,
              "solidity": 0.2
             }
            },
            "type": "histogram"
           }
          ],
          "histogram2d": [
           {
            "colorbar": {
             "outlinewidth": 0,
             "ticks": ""
            },
            "colorscale": [
             [
              0,
              "#0d0887"
             ],
             [
              0.1111111111111111,
              "#46039f"
             ],
             [
              0.2222222222222222,
              "#7201a8"
             ],
             [
              0.3333333333333333,
              "#9c179e"
             ],
             [
              0.4444444444444444,
              "#bd3786"
             ],
             [
              0.5555555555555556,
              "#d8576b"
             ],
             [
              0.6666666666666666,
              "#ed7953"
             ],
             [
              0.7777777777777778,
              "#fb9f3a"
             ],
             [
              0.8888888888888888,
              "#fdca26"
             ],
             [
              1,
              "#f0f921"
             ]
            ],
            "type": "histogram2d"
           }
          ],
          "histogram2dcontour": [
           {
            "colorbar": {
             "outlinewidth": 0,
             "ticks": ""
            },
            "colorscale": [
             [
              0,
              "#0d0887"
             ],
             [
              0.1111111111111111,
              "#46039f"
             ],
             [
              0.2222222222222222,
              "#7201a8"
             ],
             [
              0.3333333333333333,
              "#9c179e"
             ],
             [
              0.4444444444444444,
              "#bd3786"
             ],
             [
              0.5555555555555556,
              "#d8576b"
             ],
             [
              0.6666666666666666,
              "#ed7953"
             ],
             [
              0.7777777777777778,
              "#fb9f3a"
             ],
             [
              0.8888888888888888,
              "#fdca26"
             ],
             [
              1,
              "#f0f921"
             ]
            ],
            "type": "histogram2dcontour"
           }
          ],
          "mesh3d": [
           {
            "colorbar": {
             "outlinewidth": 0,
             "ticks": ""
            },
            "type": "mesh3d"
           }
          ],
          "parcoords": [
           {
            "line": {
             "colorbar": {
              "outlinewidth": 0,
              "ticks": ""
             }
            },
            "type": "parcoords"
           }
          ],
          "pie": [
           {
            "automargin": true,
            "type": "pie"
           }
          ],
          "scatter": [
           {
            "marker": {
             "colorbar": {
              "outlinewidth": 0,
              "ticks": ""
             }
            },
            "type": "scatter"
           }
          ],
          "scatter3d": [
           {
            "line": {
             "colorbar": {
              "outlinewidth": 0,
              "ticks": ""
             }
            },
            "marker": {
             "colorbar": {
              "outlinewidth": 0,
              "ticks": ""
             }
            },
            "type": "scatter3d"
           }
          ],
          "scattercarpet": [
           {
            "marker": {
             "colorbar": {
              "outlinewidth": 0,
              "ticks": ""
             }
            },
            "type": "scattercarpet"
           }
          ],
          "scattergeo": [
           {
            "marker": {
             "colorbar": {
              "outlinewidth": 0,
              "ticks": ""
             }
            },
            "type": "scattergeo"
           }
          ],
          "scattergl": [
           {
            "marker": {
             "colorbar": {
              "outlinewidth": 0,
              "ticks": ""
             }
            },
            "type": "scattergl"
           }
          ],
          "scattermapbox": [
           {
            "marker": {
             "colorbar": {
              "outlinewidth": 0,
              "ticks": ""
             }
            },
            "type": "scattermapbox"
           }
          ],
          "scatterpolar": [
           {
            "marker": {
             "colorbar": {
              "outlinewidth": 0,
              "ticks": ""
             }
            },
            "type": "scatterpolar"
           }
          ],
          "scatterpolargl": [
           {
            "marker": {
             "colorbar": {
              "outlinewidth": 0,
              "ticks": ""
             }
            },
            "type": "scatterpolargl"
           }
          ],
          "scatterternary": [
           {
            "marker": {
             "colorbar": {
              "outlinewidth": 0,
              "ticks": ""
             }
            },
            "type": "scatterternary"
           }
          ],
          "surface": [
           {
            "colorbar": {
             "outlinewidth": 0,
             "ticks": ""
            },
            "colorscale": [
             [
              0,
              "#0d0887"
             ],
             [
              0.1111111111111111,
              "#46039f"
             ],
             [
              0.2222222222222222,
              "#7201a8"
             ],
             [
              0.3333333333333333,
              "#9c179e"
             ],
             [
              0.4444444444444444,
              "#bd3786"
             ],
             [
              0.5555555555555556,
              "#d8576b"
             ],
             [
              0.6666666666666666,
              "#ed7953"
             ],
             [
              0.7777777777777778,
              "#fb9f3a"
             ],
             [
              0.8888888888888888,
              "#fdca26"
             ],
             [
              1,
              "#f0f921"
             ]
            ],
            "type": "surface"
           }
          ],
          "table": [
           {
            "cells": {
             "fill": {
              "color": "#EBF0F8"
             },
             "line": {
              "color": "white"
             }
            },
            "header": {
             "fill": {
              "color": "#C8D4E3"
             },
             "line": {
              "color": "white"
             }
            },
            "type": "table"
           }
          ]
         },
         "layout": {
          "annotationdefaults": {
           "arrowcolor": "#2a3f5f",
           "arrowhead": 0,
           "arrowwidth": 1
          },
          "autotypenumbers": "strict",
          "coloraxis": {
           "colorbar": {
            "outlinewidth": 0,
            "ticks": ""
           }
          },
          "colorscale": {
           "diverging": [
            [
             0,
             "#8e0152"
            ],
            [
             0.1,
             "#c51b7d"
            ],
            [
             0.2,
             "#de77ae"
            ],
            [
             0.3,
             "#f1b6da"
            ],
            [
             0.4,
             "#fde0ef"
            ],
            [
             0.5,
             "#f7f7f7"
            ],
            [
             0.6,
             "#e6f5d0"
            ],
            [
             0.7,
             "#b8e186"
            ],
            [
             0.8,
             "#7fbc41"
            ],
            [
             0.9,
             "#4d9221"
            ],
            [
             1,
             "#276419"
            ]
           ],
           "sequential": [
            [
             0,
             "#0d0887"
            ],
            [
             0.1111111111111111,
             "#46039f"
            ],
            [
             0.2222222222222222,
             "#7201a8"
            ],
            [
             0.3333333333333333,
             "#9c179e"
            ],
            [
             0.4444444444444444,
             "#bd3786"
            ],
            [
             0.5555555555555556,
             "#d8576b"
            ],
            [
             0.6666666666666666,
             "#ed7953"
            ],
            [
             0.7777777777777778,
             "#fb9f3a"
            ],
            [
             0.8888888888888888,
             "#fdca26"
            ],
            [
             1,
             "#f0f921"
            ]
           ],
           "sequentialminus": [
            [
             0,
             "#0d0887"
            ],
            [
             0.1111111111111111,
             "#46039f"
            ],
            [
             0.2222222222222222,
             "#7201a8"
            ],
            [
             0.3333333333333333,
             "#9c179e"
            ],
            [
             0.4444444444444444,
             "#bd3786"
            ],
            [
             0.5555555555555556,
             "#d8576b"
            ],
            [
             0.6666666666666666,
             "#ed7953"
            ],
            [
             0.7777777777777778,
             "#fb9f3a"
            ],
            [
             0.8888888888888888,
             "#fdca26"
            ],
            [
             1,
             "#f0f921"
            ]
           ]
          },
          "colorway": [
           "#636efa",
           "#EF553B",
           "#00cc96",
           "#ab63fa",
           "#FFA15A",
           "#19d3f3",
           "#FF6692",
           "#B6E880",
           "#FF97FF",
           "#FECB52"
          ],
          "font": {
           "color": "#2a3f5f"
          },
          "geo": {
           "bgcolor": "white",
           "lakecolor": "white",
           "landcolor": "#E5ECF6",
           "showlakes": true,
           "showland": true,
           "subunitcolor": "white"
          },
          "hoverlabel": {
           "align": "left"
          },
          "hovermode": "closest",
          "mapbox": {
           "style": "light"
          },
          "paper_bgcolor": "white",
          "plot_bgcolor": "#E5ECF6",
          "polar": {
           "angularaxis": {
            "gridcolor": "white",
            "linecolor": "white",
            "ticks": ""
           },
           "bgcolor": "#E5ECF6",
           "radialaxis": {
            "gridcolor": "white",
            "linecolor": "white",
            "ticks": ""
           }
          },
          "scene": {
           "xaxis": {
            "backgroundcolor": "#E5ECF6",
            "gridcolor": "white",
            "gridwidth": 2,
            "linecolor": "white",
            "showbackground": true,
            "ticks": "",
            "zerolinecolor": "white"
           },
           "yaxis": {
            "backgroundcolor": "#E5ECF6",
            "gridcolor": "white",
            "gridwidth": 2,
            "linecolor": "white",
            "showbackground": true,
            "ticks": "",
            "zerolinecolor": "white"
           },
           "zaxis": {
            "backgroundcolor": "#E5ECF6",
            "gridcolor": "white",
            "gridwidth": 2,
            "linecolor": "white",
            "showbackground": true,
            "ticks": "",
            "zerolinecolor": "white"
           }
          },
          "shapedefaults": {
           "line": {
            "color": "#2a3f5f"
           }
          },
          "ternary": {
           "aaxis": {
            "gridcolor": "white",
            "linecolor": "white",
            "ticks": ""
           },
           "baxis": {
            "gridcolor": "white",
            "linecolor": "white",
            "ticks": ""
           },
           "bgcolor": "#E5ECF6",
           "caxis": {
            "gridcolor": "white",
            "linecolor": "white",
            "ticks": ""
           }
          },
          "title": {
           "x": 0.05
          },
          "xaxis": {
           "automargin": true,
           "gridcolor": "white",
           "linecolor": "white",
           "ticks": "",
           "title": {
            "standoff": 15
           },
           "zerolinecolor": "white",
           "zerolinewidth": 2
          },
          "yaxis": {
           "automargin": true,
           "gridcolor": "white",
           "linecolor": "white",
           "ticks": "",
           "title": {
            "standoff": 15
           },
           "zerolinecolor": "white",
           "zerolinewidth": 2
          }
         }
        },
        "title": {
         "text": "R1 Structures: Frequency and Impact on Score Relative to All Factions Average (148.13): baltaks"
        }
       }
      },
      "text/html": [
       "<div>                            <div id=\"8f58b82a-dfc4-43b6-81ee-509e36796e94\" class=\"plotly-graph-div\" style=\"height:525px; width:100%;\"></div>            <script type=\"text/javascript\">                require([\"plotly\"], function(Plotly) {                    window.PLOTLYENV=window.PLOTLYENV || {};                                    if (document.getElementById(\"8f58b82a-dfc4-43b6-81ee-509e36796e94\")) {                    Plotly.newPlot(                        \"8f58b82a-dfc4-43b6-81ee-509e36796e94\",                        [{\"branchvalues\":\"total\",\"customdata\":[[227.78947368421052,149.61111111111111],[257.0,189.0],[114.0,89.0],[175.14285714285714,141.85714285714286],[10.0,105.0],[197.40697674418604,153.20481927710844],[232.92096219931273,156.6232394366197],[170.55555555555554,137.96226415094338],[266.42857142857144,163.0],[175.47457627118644,139.93103448275863],[209.6031746031746,151.56666666666666],[268.9922480620155,154.9920634920635],[218.54666666666665,153.93766937669378],[101.2,105.2],[219.30864197530863,148.375],[203.75,134.75],[218.0,128.0],[434.0,167.0],[205.47513812154696,149.70056497175142],[153.0,101.0],[100.0,110.0],[233.0983606557377,153.93333333333334],[172.0,135.0],[42.0,140.0],[262.0,138.0],[114.0,89.0],[\"(?)\",156.22592148467422],[\"(?)\",152.18751296577034],[\"(?)\",150.17124241127087],[42.0,140.0],[\"(?)\",117.91666666666667],[\"(?)\",151.79396279028373]],\"domain\":{\"x\":[0.0,1.0],\"y\":[0.0,1.0]},\"hovertemplate\":\"labels=%{label}<br>class_counts=%{value}<br>parent=%{parent}<br>id=%{id}<br>ave_elo_baltaks=%{customdata[0]}<br>ave_score_baltaks=%{color}<extra></extra>\",\"ids\":[\"R1 Structs/lab/ 0-m_0-ts_2-lab_0-pi_0-ac1_0-ac2\",\"R1 Structs/ac1/ 0-m_1-ts_0-lab_0-pi_1-ac1_0-ac2\",\"R1 Structs/PI/ 0-m_1-ts_0-lab_1-pi_0-ac1_0-ac2\",\"R1 Structs/lab/ 0-m_1-ts_1-lab_0-pi_0-ac1_0-ac2\",\"R1 Structs/ts/ 0-m_3-ts_0-lab_0-pi_0-ac1_0-ac2\",\"R1 Structs/ac2/ 1-m_0-ts_0-lab_0-pi_0-ac1_1-ac2\",\"R1 Structs/ac1/ 1-m_0-ts_0-lab_0-pi_1-ac1_0-ac2\",\"R1 Structs/lab/ 1-m_0-ts_1-lab_0-pi_0-ac1_0-ac2\",\"R1 Structs/lab/ 1-m_0-ts_2-lab_0-pi_0-ac1_0-ac2\",\"R1 Structs/lab/ 1-m_1-ts_1-lab_0-pi_0-ac1_0-ac2\",\"R1 Structs/ac2/ 2-m_0-ts_0-lab_0-pi_0-ac1_1-ac2\",\"R1 Structs/ac1/ 2-m_0-ts_0-lab_0-pi_1-ac1_0-ac2\",\"R1 Structs/lab/ 2-m_0-ts_1-lab_0-pi_0-ac1_0-ac2\",\"R1 Structs/ts/ 2-m_1-ts_0-lab_0-pi_0-ac1_0-ac2\",\"R1 Structs/lab/ 2-m_1-ts_1-lab_0-pi_0-ac1_0-ac2\",\"R1 Structs/ts/ 2-m_2-ts_0-lab_0-pi_0-ac1_0-ac2\",\"R1 Structs/ac2/ 3-m_0-ts_0-lab_0-pi_0-ac1_1-ac2\",\"R1 Structs/ac1/ 3-m_0-ts_0-lab_0-pi_1-ac1_0-ac2\",\"R1 Structs/lab/ 3-m_0-ts_1-lab_0-pi_0-ac1_0-ac2\",\"R1 Structs/lab/ 3-m_1-ts_1-lab_0-pi_0-ac1_0-ac2\",\"R1 Structs/ts/ 3-m_2-ts_0-lab_0-pi_0-ac1_0-ac2\",\"R1 Structs/lab/ 4-m_0-ts_1-lab_0-pi_0-ac1_0-ac2\",\"R1 Structs/ts/ 4-m_1-ts_0-lab_0-pi_0-ac1_0-ac2\",\"R1 Structs/m/ 5-m_0-ts_0-lab_0-pi_0-ac1_0-ac2\",\"R1 Structs/lab/ 5-m_0-ts_1-lab_0-pi_0-ac1_0-ac2\",\"R1 Structs/PI\",\"R1 Structs/ac1\",\"R1 Structs/ac2\",\"R1 Structs/lab\",\"R1 Structs/m\",\"R1 Structs/ts\",\"R1 Structs\"],\"labels\":[\" 0-m_0-ts_2-lab_0-pi_0-ac1_0-ac2\",\" 0-m_1-ts_0-lab_0-pi_1-ac1_0-ac2\",\" 0-m_1-ts_0-lab_1-pi_0-ac1_0-ac2\",\" 0-m_1-ts_1-lab_0-pi_0-ac1_0-ac2\",\" 0-m_3-ts_0-lab_0-pi_0-ac1_0-ac2\",\" 1-m_0-ts_0-lab_0-pi_0-ac1_1-ac2\",\" 1-m_0-ts_0-lab_0-pi_1-ac1_0-ac2\",\" 1-m_0-ts_1-lab_0-pi_0-ac1_0-ac2\",\" 1-m_0-ts_2-lab_0-pi_0-ac1_0-ac2\",\" 1-m_1-ts_1-lab_0-pi_0-ac1_0-ac2\",\" 2-m_0-ts_0-lab_0-pi_0-ac1_1-ac2\",\" 2-m_0-ts_0-lab_0-pi_1-ac1_0-ac2\",\" 2-m_0-ts_1-lab_0-pi_0-ac1_0-ac2\",\" 2-m_1-ts_0-lab_0-pi_0-ac1_0-ac2\",\" 2-m_1-ts_1-lab_0-pi_0-ac1_0-ac2\",\" 2-m_2-ts_0-lab_0-pi_0-ac1_0-ac2\",\" 3-m_0-ts_0-lab_0-pi_0-ac1_1-ac2\",\" 3-m_0-ts_0-lab_0-pi_1-ac1_0-ac2\",\" 3-m_0-ts_1-lab_0-pi_0-ac1_0-ac2\",\" 3-m_1-ts_1-lab_0-pi_0-ac1_0-ac2\",\" 3-m_2-ts_0-lab_0-pi_0-ac1_0-ac2\",\" 4-m_0-ts_1-lab_0-pi_0-ac1_0-ac2\",\" 4-m_1-ts_0-lab_0-pi_0-ac1_0-ac2\",\" 5-m_0-ts_0-lab_0-pi_0-ac1_0-ac2\",\" 5-m_0-ts_1-lab_0-pi_0-ac1_0-ac2\",\"PI\",\"ac1\",\"ac2\",\"lab\",\"m\",\"ts\",\"R1 Structs\"],\"marker\":{\"coloraxis\":\"coloraxis\",\"colors\":[149.61111111111111,189.0,89.0,141.85714285714286,105.0,153.20481927710844,156.6232394366197,137.96226415094338,163.0,139.93103448275863,151.56666666666666,154.9920634920635,153.93766937669378,105.2,148.375,134.75,128.0,167.0,149.70056497175142,101.0,110.0,153.93333333333334,135.0,140.0,138.0,89.0,156.22592148467422,152.18751296577034,150.17124241127087,140.0,117.91666666666667,151.79396279028373]},\"name\":\"\",\"parents\":[\"R1 Structs/lab\",\"R1 Structs/ac1\",\"R1 Structs/PI\",\"R1 Structs/lab\",\"R1 Structs/ts\",\"R1 Structs/ac2\",\"R1 Structs/ac1\",\"R1 Structs/lab\",\"R1 Structs/lab\",\"R1 Structs/lab\",\"R1 Structs/ac2\",\"R1 Structs/ac1\",\"R1 Structs/lab\",\"R1 Structs/ts\",\"R1 Structs/lab\",\"R1 Structs/ts\",\"R1 Structs/ac2\",\"R1 Structs/ac1\",\"R1 Structs/lab\",\"R1 Structs/lab\",\"R1 Structs/ts\",\"R1 Structs/lab\",\"R1 Structs/ts\",\"R1 Structs/m\",\"R1 Structs/lab\",\"R1 Structs\",\"R1 Structs\",\"R1 Structs\",\"R1 Structs\",\"R1 Structs\",\"R1 Structs\",\"\"],\"values\":[19,1,2,14,1,86,291,54,7,59,63,129,375,5,81,4,2,1,181,2,1,61,1,1,1,2,422,151,854,1,12,1442],\"type\":\"treemap\"}],                        {\"template\":{\"data\":{\"bar\":[{\"error_x\":{\"color\":\"#2a3f5f\"},\"error_y\":{\"color\":\"#2a3f5f\"},\"marker\":{\"line\":{\"color\":\"#E5ECF6\",\"width\":0.5},\"pattern\":{\"fillmode\":\"overlay\",\"size\":10,\"solidity\":0.2}},\"type\":\"bar\"}],\"barpolar\":[{\"marker\":{\"line\":{\"color\":\"#E5ECF6\",\"width\":0.5},\"pattern\":{\"fillmode\":\"overlay\",\"size\":10,\"solidity\":0.2}},\"type\":\"barpolar\"}],\"carpet\":[{\"aaxis\":{\"endlinecolor\":\"#2a3f5f\",\"gridcolor\":\"white\",\"linecolor\":\"white\",\"minorgridcolor\":\"white\",\"startlinecolor\":\"#2a3f5f\"},\"baxis\":{\"endlinecolor\":\"#2a3f5f\",\"gridcolor\":\"white\",\"linecolor\":\"white\",\"minorgridcolor\":\"white\",\"startlinecolor\":\"#2a3f5f\"},\"type\":\"carpet\"}],\"choropleth\":[{\"colorbar\":{\"outlinewidth\":0,\"ticks\":\"\"},\"type\":\"choropleth\"}],\"contour\":[{\"colorbar\":{\"outlinewidth\":0,\"ticks\":\"\"},\"colorscale\":[[0.0,\"#0d0887\"],[0.1111111111111111,\"#46039f\"],[0.2222222222222222,\"#7201a8\"],[0.3333333333333333,\"#9c179e\"],[0.4444444444444444,\"#bd3786\"],[0.5555555555555556,\"#d8576b\"],[0.6666666666666666,\"#ed7953\"],[0.7777777777777778,\"#fb9f3a\"],[0.8888888888888888,\"#fdca26\"],[1.0,\"#f0f921\"]],\"type\":\"contour\"}],\"contourcarpet\":[{\"colorbar\":{\"outlinewidth\":0,\"ticks\":\"\"},\"type\":\"contourcarpet\"}],\"heatmap\":[{\"colorbar\":{\"outlinewidth\":0,\"ticks\":\"\"},\"colorscale\":[[0.0,\"#0d0887\"],[0.1111111111111111,\"#46039f\"],[0.2222222222222222,\"#7201a8\"],[0.3333333333333333,\"#9c179e\"],[0.4444444444444444,\"#bd3786\"],[0.5555555555555556,\"#d8576b\"],[0.6666666666666666,\"#ed7953\"],[0.7777777777777778,\"#fb9f3a\"],[0.8888888888888888,\"#fdca26\"],[1.0,\"#f0f921\"]],\"type\":\"heatmap\"}],\"heatmapgl\":[{\"colorbar\":{\"outlinewidth\":0,\"ticks\":\"\"},\"colorscale\":[[0.0,\"#0d0887\"],[0.1111111111111111,\"#46039f\"],[0.2222222222222222,\"#7201a8\"],[0.3333333333333333,\"#9c179e\"],[0.4444444444444444,\"#bd3786\"],[0.5555555555555556,\"#d8576b\"],[0.6666666666666666,\"#ed7953\"],[0.7777777777777778,\"#fb9f3a\"],[0.8888888888888888,\"#fdca26\"],[1.0,\"#f0f921\"]],\"type\":\"heatmapgl\"}],\"histogram\":[{\"marker\":{\"pattern\":{\"fillmode\":\"overlay\",\"size\":10,\"solidity\":0.2}},\"type\":\"histogram\"}],\"histogram2d\":[{\"colorbar\":{\"outlinewidth\":0,\"ticks\":\"\"},\"colorscale\":[[0.0,\"#0d0887\"],[0.1111111111111111,\"#46039f\"],[0.2222222222222222,\"#7201a8\"],[0.3333333333333333,\"#9c179e\"],[0.4444444444444444,\"#bd3786\"],[0.5555555555555556,\"#d8576b\"],[0.6666666666666666,\"#ed7953\"],[0.7777777777777778,\"#fb9f3a\"],[0.8888888888888888,\"#fdca26\"],[1.0,\"#f0f921\"]],\"type\":\"histogram2d\"}],\"histogram2dcontour\":[{\"colorbar\":{\"outlinewidth\":0,\"ticks\":\"\"},\"colorscale\":[[0.0,\"#0d0887\"],[0.1111111111111111,\"#46039f\"],[0.2222222222222222,\"#7201a8\"],[0.3333333333333333,\"#9c179e\"],[0.4444444444444444,\"#bd3786\"],[0.5555555555555556,\"#d8576b\"],[0.6666666666666666,\"#ed7953\"],[0.7777777777777778,\"#fb9f3a\"],[0.8888888888888888,\"#fdca26\"],[1.0,\"#f0f921\"]],\"type\":\"histogram2dcontour\"}],\"mesh3d\":[{\"colorbar\":{\"outlinewidth\":0,\"ticks\":\"\"},\"type\":\"mesh3d\"}],\"parcoords\":[{\"line\":{\"colorbar\":{\"outlinewidth\":0,\"ticks\":\"\"}},\"type\":\"parcoords\"}],\"pie\":[{\"automargin\":true,\"type\":\"pie\"}],\"scatter\":[{\"marker\":{\"colorbar\":{\"outlinewidth\":0,\"ticks\":\"\"}},\"type\":\"scatter\"}],\"scatter3d\":[{\"line\":{\"colorbar\":{\"outlinewidth\":0,\"ticks\":\"\"}},\"marker\":{\"colorbar\":{\"outlinewidth\":0,\"ticks\":\"\"}},\"type\":\"scatter3d\"}],\"scattercarpet\":[{\"marker\":{\"colorbar\":{\"outlinewidth\":0,\"ticks\":\"\"}},\"type\":\"scattercarpet\"}],\"scattergeo\":[{\"marker\":{\"colorbar\":{\"outlinewidth\":0,\"ticks\":\"\"}},\"type\":\"scattergeo\"}],\"scattergl\":[{\"marker\":{\"colorbar\":{\"outlinewidth\":0,\"ticks\":\"\"}},\"type\":\"scattergl\"}],\"scattermapbox\":[{\"marker\":{\"colorbar\":{\"outlinewidth\":0,\"ticks\":\"\"}},\"type\":\"scattermapbox\"}],\"scatterpolar\":[{\"marker\":{\"colorbar\":{\"outlinewidth\":0,\"ticks\":\"\"}},\"type\":\"scatterpolar\"}],\"scatterpolargl\":[{\"marker\":{\"colorbar\":{\"outlinewidth\":0,\"ticks\":\"\"}},\"type\":\"scatterpolargl\"}],\"scatterternary\":[{\"marker\":{\"colorbar\":{\"outlinewidth\":0,\"ticks\":\"\"}},\"type\":\"scatterternary\"}],\"surface\":[{\"colorbar\":{\"outlinewidth\":0,\"ticks\":\"\"},\"colorscale\":[[0.0,\"#0d0887\"],[0.1111111111111111,\"#46039f\"],[0.2222222222222222,\"#7201a8\"],[0.3333333333333333,\"#9c179e\"],[0.4444444444444444,\"#bd3786\"],[0.5555555555555556,\"#d8576b\"],[0.6666666666666666,\"#ed7953\"],[0.7777777777777778,\"#fb9f3a\"],[0.8888888888888888,\"#fdca26\"],[1.0,\"#f0f921\"]],\"type\":\"surface\"}],\"table\":[{\"cells\":{\"fill\":{\"color\":\"#EBF0F8\"},\"line\":{\"color\":\"white\"}},\"header\":{\"fill\":{\"color\":\"#C8D4E3\"},\"line\":{\"color\":\"white\"}},\"type\":\"table\"}]},\"layout\":{\"annotationdefaults\":{\"arrowcolor\":\"#2a3f5f\",\"arrowhead\":0,\"arrowwidth\":1},\"autotypenumbers\":\"strict\",\"coloraxis\":{\"colorbar\":{\"outlinewidth\":0,\"ticks\":\"\"}},\"colorscale\":{\"diverging\":[[0,\"#8e0152\"],[0.1,\"#c51b7d\"],[0.2,\"#de77ae\"],[0.3,\"#f1b6da\"],[0.4,\"#fde0ef\"],[0.5,\"#f7f7f7\"],[0.6,\"#e6f5d0\"],[0.7,\"#b8e186\"],[0.8,\"#7fbc41\"],[0.9,\"#4d9221\"],[1,\"#276419\"]],\"sequential\":[[0.0,\"#0d0887\"],[0.1111111111111111,\"#46039f\"],[0.2222222222222222,\"#7201a8\"],[0.3333333333333333,\"#9c179e\"],[0.4444444444444444,\"#bd3786\"],[0.5555555555555556,\"#d8576b\"],[0.6666666666666666,\"#ed7953\"],[0.7777777777777778,\"#fb9f3a\"],[0.8888888888888888,\"#fdca26\"],[1.0,\"#f0f921\"]],\"sequentialminus\":[[0.0,\"#0d0887\"],[0.1111111111111111,\"#46039f\"],[0.2222222222222222,\"#7201a8\"],[0.3333333333333333,\"#9c179e\"],[0.4444444444444444,\"#bd3786\"],[0.5555555555555556,\"#d8576b\"],[0.6666666666666666,\"#ed7953\"],[0.7777777777777778,\"#fb9f3a\"],[0.8888888888888888,\"#fdca26\"],[1.0,\"#f0f921\"]]},\"colorway\":[\"#636efa\",\"#EF553B\",\"#00cc96\",\"#ab63fa\",\"#FFA15A\",\"#19d3f3\",\"#FF6692\",\"#B6E880\",\"#FF97FF\",\"#FECB52\"],\"font\":{\"color\":\"#2a3f5f\"},\"geo\":{\"bgcolor\":\"white\",\"lakecolor\":\"white\",\"landcolor\":\"#E5ECF6\",\"showlakes\":true,\"showland\":true,\"subunitcolor\":\"white\"},\"hoverlabel\":{\"align\":\"left\"},\"hovermode\":\"closest\",\"mapbox\":{\"style\":\"light\"},\"paper_bgcolor\":\"white\",\"plot_bgcolor\":\"#E5ECF6\",\"polar\":{\"angularaxis\":{\"gridcolor\":\"white\",\"linecolor\":\"white\",\"ticks\":\"\"},\"bgcolor\":\"#E5ECF6\",\"radialaxis\":{\"gridcolor\":\"white\",\"linecolor\":\"white\",\"ticks\":\"\"}},\"scene\":{\"xaxis\":{\"backgroundcolor\":\"#E5ECF6\",\"gridcolor\":\"white\",\"gridwidth\":2,\"linecolor\":\"white\",\"showbackground\":true,\"ticks\":\"\",\"zerolinecolor\":\"white\"},\"yaxis\":{\"backgroundcolor\":\"#E5ECF6\",\"gridcolor\":\"white\",\"gridwidth\":2,\"linecolor\":\"white\",\"showbackground\":true,\"ticks\":\"\",\"zerolinecolor\":\"white\"},\"zaxis\":{\"backgroundcolor\":\"#E5ECF6\",\"gridcolor\":\"white\",\"gridwidth\":2,\"linecolor\":\"white\",\"showbackground\":true,\"ticks\":\"\",\"zerolinecolor\":\"white\"}},\"shapedefaults\":{\"line\":{\"color\":\"#2a3f5f\"}},\"ternary\":{\"aaxis\":{\"gridcolor\":\"white\",\"linecolor\":\"white\",\"ticks\":\"\"},\"baxis\":{\"gridcolor\":\"white\",\"linecolor\":\"white\",\"ticks\":\"\"},\"bgcolor\":\"#E5ECF6\",\"caxis\":{\"gridcolor\":\"white\",\"linecolor\":\"white\",\"ticks\":\"\"}},\"title\":{\"x\":0.05},\"xaxis\":{\"automargin\":true,\"gridcolor\":\"white\",\"linecolor\":\"white\",\"ticks\":\"\",\"title\":{\"standoff\":15},\"zerolinecolor\":\"white\",\"zerolinewidth\":2},\"yaxis\":{\"automargin\":true,\"gridcolor\":\"white\",\"linecolor\":\"white\",\"ticks\":\"\",\"title\":{\"standoff\":15},\"zerolinecolor\":\"white\",\"zerolinewidth\":2}}},\"coloraxis\":{\"colorbar\":{\"title\":{\"text\":\"ave_score_baltaks\"}},\"colorscale\":[[0.0,\"rgb(103,0,31)\"],[0.1,\"rgb(178,24,43)\"],[0.2,\"rgb(214,96,77)\"],[0.3,\"rgb(244,165,130)\"],[0.4,\"rgb(253,219,199)\"],[0.5,\"rgb(247,247,247)\"],[0.6,\"rgb(209,229,240)\"],[0.7,\"rgb(146,197,222)\"],[0.8,\"rgb(67,147,195)\"],[0.9,\"rgb(33,102,172)\"],[1.0,\"rgb(5,48,97)\"]],\"cmid\":148.12743354661777},\"legend\":{\"tracegroupgap\":0},\"margin\":{\"t\":50,\"l\":25,\"r\":25,\"b\":25},\"title\":{\"text\":\"R1 Structures: Frequency and Impact on Score Relative to All Factions Average (148.13): baltaks\"}},                        {\"responsive\": true}                    ).then(function(){\n",
       "                            \n",
       "var gd = document.getElementById('8f58b82a-dfc4-43b6-81ee-509e36796e94');\n",
       "var x = new MutationObserver(function (mutations, observer) {{\n",
       "        var display = window.getComputedStyle(gd).display;\n",
       "        if (!display || display === 'none') {{\n",
       "            console.log([gd, 'removed!']);\n",
       "            Plotly.purge(gd);\n",
       "            observer.disconnect();\n",
       "        }}\n",
       "}});\n",
       "\n",
       "// Listen for the removal of the full notebook cells\n",
       "var notebookContainer = gd.closest('#notebook-container');\n",
       "if (notebookContainer) {{\n",
       "    x.observe(notebookContainer, {childList: true});\n",
       "}}\n",
       "\n",
       "// Listen for the clearing of the current output cell\n",
       "var outputEl = gd.closest('.output');\n",
       "if (outputEl) {{\n",
       "    x.observe(outputEl, {childList: true});\n",
       "}}\n",
       "\n",
       "                        })                };                });            </script>        </div>"
      ]
     },
     "metadata": {},
     "output_type": "display_data"
    },
    {
     "data": {
      "application/vnd.plotly.v1+json": {
       "config": {
        "plotlyServerURL": "https://plot.ly"
       },
       "data": [
        {
         "branchvalues": "total",
         "customdata": [
          [
           150.16666666666666,
           147.75
          ],
          [
           203.8709677419355,
           155.96774193548387
          ],
          [
           188.38993710691824,
           148.19480519480518
          ],
          [
           166,
           145.80769230769232
          ],
          [
           181.66666666666666,
           158.5
          ],
          [
           232.6551724137931,
           165.14285714285714
          ],
          [
           219.12718204488777,
           166.81772151898736
          ],
          [
           130.7391304347826,
           129.51111111111112
          ],
          [
           158.125,
           153.21428571428572
          ],
          [
           189.55555555555554,
           142.33333333333334
          ],
          [
           150.55357142857142,
           140.16071428571428
          ],
          [
           334,
           223
          ],
          [
           235.93859649122808,
           172.36043956043957
          ],
          [
           196.27083333333334,
           157.50694444444446
          ],
          [
           247,
           171
          ],
          [
           143,
           153.33333333333334
          ],
          [
           116.07142857142857,
           133.96296296296296
          ],
          [
           198.3913043478261,
           172.95652173913044
          ],
          [
           154,
           161.2
          ],
          [
           198.36666666666667,
           157
          ],
          [
           169,
           126
          ],
          [
           170.5,
           178.5
          ],
          [
           263.55555555555554,
           169.22222222222223
          ],
          [
           "(?)",
           162.88167110644656
          ],
          [
           "(?)",
           159.58850931677017
          ],
          [
           150.16666666666666,
           147.75
          ],
          [
           "(?)",
           162.6304782925909
          ]
         ],
         "domain": {
          "x": [
           0,
           1
          ],
          "y": [
           0,
           1
          ]
         },
         "hovertemplate": "labels=%{label}<br>class_counts=%{value}<br>parent=%{parent}<br>id=%{id}<br>ave_elo_ivits=%{customdata[0]}<br>ave_score_ivits=%{color}<extra></extra>",
         "ids": [
          "R1 Structs/ac2/ 0-m_0-ts_0-lab_1-pi_0-ac1_1-ac2",
          "R1 Structs/ac1/ 0-m_0-ts_0-lab_1-pi_1-ac1_0-ac2",
          "R1 Structs/PI/ 0-m_0-ts_1-lab_1-pi_0-ac1_0-ac2",
          "R1 Structs/PI/ 0-m_1-ts_1-lab_1-pi_0-ac1_0-ac2",
          "R1 Structs/PI/ 0-m_2-ts_0-lab_1-pi_0-ac1_0-ac2",
          "R1 Structs/ac1/ 1-m_0-ts_0-lab_1-pi_1-ac1_0-ac2",
          "R1 Structs/PI/ 1-m_0-ts_1-lab_1-pi_0-ac1_0-ac2",
          "R1 Structs/PI/ 1-m_1-ts_0-lab_1-pi_0-ac1_0-ac2",
          "R1 Structs/PI/ 1-m_1-ts_1-lab_1-pi_0-ac1_0-ac2",
          "R1 Structs/PI/ 1-m_2-ts_0-lab_1-pi_0-ac1_0-ac2",
          "R1 Structs/PI/ 2-m_0-ts_0-lab_1-pi_0-ac1_0-ac2",
          "R1 Structs/ac1/ 2-m_0-ts_0-lab_1-pi_1-ac1_0-ac2",
          "R1 Structs/PI/ 2-m_0-ts_1-lab_1-pi_0-ac1_0-ac2",
          "R1 Structs/PI/ 2-m_1-ts_0-lab_1-pi_0-ac1_0-ac2",
          "R1 Structs/PI/ 2-m_1-ts_1-lab_1-pi_0-ac1_0-ac2",
          "R1 Structs/PI/ 2-m_2-ts_0-lab_1-pi_0-ac1_0-ac2",
          "R1 Structs/PI/ 3-m_0-ts_0-lab_1-pi_0-ac1_0-ac2",
          "R1 Structs/PI/ 3-m_0-ts_1-lab_1-pi_0-ac1_0-ac2",
          "R1 Structs/PI/ 3-m_1-ts_0-lab_1-pi_0-ac1_0-ac2",
          "R1 Structs/PI/ 4-m_0-ts_0-lab_1-pi_0-ac1_0-ac2",
          "R1 Structs/PI/ 4-m_0-ts_1-lab_1-pi_0-ac1_0-ac2",
          "R1 Structs/PI/ 4-m_1-ts_0-lab_1-pi_0-ac1_0-ac2",
          "R1 Structs/PI/ 5-m_0-ts_0-lab_1-pi_0-ac1_0-ac2",
          "R1 Structs/PI",
          "R1 Structs/ac1",
          "R1 Structs/ac2",
          "R1 Structs"
         ],
         "labels": [
          " 0-m_0-ts_0-lab_1-pi_0-ac1_1-ac2",
          " 0-m_0-ts_0-lab_1-pi_1-ac1_0-ac2",
          " 0-m_0-ts_1-lab_1-pi_0-ac1_0-ac2",
          " 0-m_1-ts_1-lab_1-pi_0-ac1_0-ac2",
          " 0-m_2-ts_0-lab_1-pi_0-ac1_0-ac2",
          " 1-m_0-ts_0-lab_1-pi_1-ac1_0-ac2",
          " 1-m_0-ts_1-lab_1-pi_0-ac1_0-ac2",
          " 1-m_1-ts_0-lab_1-pi_0-ac1_0-ac2",
          " 1-m_1-ts_1-lab_1-pi_0-ac1_0-ac2",
          " 1-m_2-ts_0-lab_1-pi_0-ac1_0-ac2",
          " 2-m_0-ts_0-lab_1-pi_0-ac1_0-ac2",
          " 2-m_0-ts_0-lab_1-pi_1-ac1_0-ac2",
          " 2-m_0-ts_1-lab_1-pi_0-ac1_0-ac2",
          " 2-m_1-ts_0-lab_1-pi_0-ac1_0-ac2",
          " 2-m_1-ts_1-lab_1-pi_0-ac1_0-ac2",
          " 2-m_2-ts_0-lab_1-pi_0-ac1_0-ac2",
          " 3-m_0-ts_0-lab_1-pi_0-ac1_0-ac2",
          " 3-m_0-ts_1-lab_1-pi_0-ac1_0-ac2",
          " 3-m_1-ts_0-lab_1-pi_0-ac1_0-ac2",
          " 4-m_0-ts_0-lab_1-pi_0-ac1_0-ac2",
          " 4-m_0-ts_1-lab_1-pi_0-ac1_0-ac2",
          " 4-m_1-ts_0-lab_1-pi_0-ac1_0-ac2",
          " 5-m_0-ts_0-lab_1-pi_0-ac1_0-ac2",
          "PI",
          "ac1",
          "ac2",
          "R1 Structs"
         ],
         "marker": {
          "coloraxis": "coloraxis",
          "colors": [
           147.75,
           155.96774193548387,
           148.19480519480518,
           145.80769230769232,
           158.5,
           165.14285714285714,
           166.81772151898736,
           129.51111111111112,
           153.21428571428572,
           142.33333333333334,
           140.16071428571428,
           223,
           172.36043956043957,
           157.50694444444446,
           171,
           153.33333333333334,
           133.96296296296296,
           172.95652173913044,
           161.2,
           157,
           126,
           178.5,
           169.22222222222223,
           162.88167110644656,
           159.58850931677017,
           147.75,
           162.6304782925909
          ]
         },
         "name": "",
         "parents": [
          "R1 Structs/ac2",
          "R1 Structs/ac1",
          "R1 Structs/PI",
          "R1 Structs/PI",
          "R1 Structs/PI",
          "R1 Structs/ac1",
          "R1 Structs/PI",
          "R1 Structs/PI",
          "R1 Structs/PI",
          "R1 Structs/PI",
          "R1 Structs/PI",
          "R1 Structs/ac1",
          "R1 Structs/PI",
          "R1 Structs/PI",
          "R1 Structs/PI",
          "R1 Structs/PI",
          "R1 Structs/PI",
          "R1 Structs/PI",
          "R1 Structs/PI",
          "R1 Structs/PI",
          "R1 Structs/PI",
          "R1 Structs/PI",
          "R1 Structs/PI",
          "R1 Structs",
          "R1 Structs",
          "R1 Structs",
          ""
         ],
         "type": "treemap",
         "values": [
          12,
          62,
          159,
          26,
          6,
          29,
          802,
          46,
          16,
          9,
          56,
          1,
          456,
          144,
          3,
          3,
          28,
          23,
          5,
          30,
          2,
          2,
          9,
          1825,
          92,
          12,
          1929
         ]
        }
       ],
       "layout": {
        "coloraxis": {
         "cmid": 148.12743354661777,
         "colorbar": {
          "title": {
           "text": "ave_score_ivits"
          }
         },
         "colorscale": [
          [
           0,
           "rgb(103,0,31)"
          ],
          [
           0.1,
           "rgb(178,24,43)"
          ],
          [
           0.2,
           "rgb(214,96,77)"
          ],
          [
           0.3,
           "rgb(244,165,130)"
          ],
          [
           0.4,
           "rgb(253,219,199)"
          ],
          [
           0.5,
           "rgb(247,247,247)"
          ],
          [
           0.6,
           "rgb(209,229,240)"
          ],
          [
           0.7,
           "rgb(146,197,222)"
          ],
          [
           0.8,
           "rgb(67,147,195)"
          ],
          [
           0.9,
           "rgb(33,102,172)"
          ],
          [
           1,
           "rgb(5,48,97)"
          ]
         ]
        },
        "legend": {
         "tracegroupgap": 0
        },
        "margin": {
         "b": 25,
         "l": 25,
         "r": 25,
         "t": 50
        },
        "template": {
         "data": {
          "bar": [
           {
            "error_x": {
             "color": "#2a3f5f"
            },
            "error_y": {
             "color": "#2a3f5f"
            },
            "marker": {
             "line": {
              "color": "#E5ECF6",
              "width": 0.5
             },
             "pattern": {
              "fillmode": "overlay",
              "size": 10,
              "solidity": 0.2
             }
            },
            "type": "bar"
           }
          ],
          "barpolar": [
           {
            "marker": {
             "line": {
              "color": "#E5ECF6",
              "width": 0.5
             },
             "pattern": {
              "fillmode": "overlay",
              "size": 10,
              "solidity": 0.2
             }
            },
            "type": "barpolar"
           }
          ],
          "carpet": [
           {
            "aaxis": {
             "endlinecolor": "#2a3f5f",
             "gridcolor": "white",
             "linecolor": "white",
             "minorgridcolor": "white",
             "startlinecolor": "#2a3f5f"
            },
            "baxis": {
             "endlinecolor": "#2a3f5f",
             "gridcolor": "white",
             "linecolor": "white",
             "minorgridcolor": "white",
             "startlinecolor": "#2a3f5f"
            },
            "type": "carpet"
           }
          ],
          "choropleth": [
           {
            "colorbar": {
             "outlinewidth": 0,
             "ticks": ""
            },
            "type": "choropleth"
           }
          ],
          "contour": [
           {
            "colorbar": {
             "outlinewidth": 0,
             "ticks": ""
            },
            "colorscale": [
             [
              0,
              "#0d0887"
             ],
             [
              0.1111111111111111,
              "#46039f"
             ],
             [
              0.2222222222222222,
              "#7201a8"
             ],
             [
              0.3333333333333333,
              "#9c179e"
             ],
             [
              0.4444444444444444,
              "#bd3786"
             ],
             [
              0.5555555555555556,
              "#d8576b"
             ],
             [
              0.6666666666666666,
              "#ed7953"
             ],
             [
              0.7777777777777778,
              "#fb9f3a"
             ],
             [
              0.8888888888888888,
              "#fdca26"
             ],
             [
              1,
              "#f0f921"
             ]
            ],
            "type": "contour"
           }
          ],
          "contourcarpet": [
           {
            "colorbar": {
             "outlinewidth": 0,
             "ticks": ""
            },
            "type": "contourcarpet"
           }
          ],
          "heatmap": [
           {
            "colorbar": {
             "outlinewidth": 0,
             "ticks": ""
            },
            "colorscale": [
             [
              0,
              "#0d0887"
             ],
             [
              0.1111111111111111,
              "#46039f"
             ],
             [
              0.2222222222222222,
              "#7201a8"
             ],
             [
              0.3333333333333333,
              "#9c179e"
             ],
             [
              0.4444444444444444,
              "#bd3786"
             ],
             [
              0.5555555555555556,
              "#d8576b"
             ],
             [
              0.6666666666666666,
              "#ed7953"
             ],
             [
              0.7777777777777778,
              "#fb9f3a"
             ],
             [
              0.8888888888888888,
              "#fdca26"
             ],
             [
              1,
              "#f0f921"
             ]
            ],
            "type": "heatmap"
           }
          ],
          "heatmapgl": [
           {
            "colorbar": {
             "outlinewidth": 0,
             "ticks": ""
            },
            "colorscale": [
             [
              0,
              "#0d0887"
             ],
             [
              0.1111111111111111,
              "#46039f"
             ],
             [
              0.2222222222222222,
              "#7201a8"
             ],
             [
              0.3333333333333333,
              "#9c179e"
             ],
             [
              0.4444444444444444,
              "#bd3786"
             ],
             [
              0.5555555555555556,
              "#d8576b"
             ],
             [
              0.6666666666666666,
              "#ed7953"
             ],
             [
              0.7777777777777778,
              "#fb9f3a"
             ],
             [
              0.8888888888888888,
              "#fdca26"
             ],
             [
              1,
              "#f0f921"
             ]
            ],
            "type": "heatmapgl"
           }
          ],
          "histogram": [
           {
            "marker": {
             "pattern": {
              "fillmode": "overlay",
              "size": 10,
              "solidity": 0.2
             }
            },
            "type": "histogram"
           }
          ],
          "histogram2d": [
           {
            "colorbar": {
             "outlinewidth": 0,
             "ticks": ""
            },
            "colorscale": [
             [
              0,
              "#0d0887"
             ],
             [
              0.1111111111111111,
              "#46039f"
             ],
             [
              0.2222222222222222,
              "#7201a8"
             ],
             [
              0.3333333333333333,
              "#9c179e"
             ],
             [
              0.4444444444444444,
              "#bd3786"
             ],
             [
              0.5555555555555556,
              "#d8576b"
             ],
             [
              0.6666666666666666,
              "#ed7953"
             ],
             [
              0.7777777777777778,
              "#fb9f3a"
             ],
             [
              0.8888888888888888,
              "#fdca26"
             ],
             [
              1,
              "#f0f921"
             ]
            ],
            "type": "histogram2d"
           }
          ],
          "histogram2dcontour": [
           {
            "colorbar": {
             "outlinewidth": 0,
             "ticks": ""
            },
            "colorscale": [
             [
              0,
              "#0d0887"
             ],
             [
              0.1111111111111111,
              "#46039f"
             ],
             [
              0.2222222222222222,
              "#7201a8"
             ],
             [
              0.3333333333333333,
              "#9c179e"
             ],
             [
              0.4444444444444444,
              "#bd3786"
             ],
             [
              0.5555555555555556,
              "#d8576b"
             ],
             [
              0.6666666666666666,
              "#ed7953"
             ],
             [
              0.7777777777777778,
              "#fb9f3a"
             ],
             [
              0.8888888888888888,
              "#fdca26"
             ],
             [
              1,
              "#f0f921"
             ]
            ],
            "type": "histogram2dcontour"
           }
          ],
          "mesh3d": [
           {
            "colorbar": {
             "outlinewidth": 0,
             "ticks": ""
            },
            "type": "mesh3d"
           }
          ],
          "parcoords": [
           {
            "line": {
             "colorbar": {
              "outlinewidth": 0,
              "ticks": ""
             }
            },
            "type": "parcoords"
           }
          ],
          "pie": [
           {
            "automargin": true,
            "type": "pie"
           }
          ],
          "scatter": [
           {
            "marker": {
             "colorbar": {
              "outlinewidth": 0,
              "ticks": ""
             }
            },
            "type": "scatter"
           }
          ],
          "scatter3d": [
           {
            "line": {
             "colorbar": {
              "outlinewidth": 0,
              "ticks": ""
             }
            },
            "marker": {
             "colorbar": {
              "outlinewidth": 0,
              "ticks": ""
             }
            },
            "type": "scatter3d"
           }
          ],
          "scattercarpet": [
           {
            "marker": {
             "colorbar": {
              "outlinewidth": 0,
              "ticks": ""
             }
            },
            "type": "scattercarpet"
           }
          ],
          "scattergeo": [
           {
            "marker": {
             "colorbar": {
              "outlinewidth": 0,
              "ticks": ""
             }
            },
            "type": "scattergeo"
           }
          ],
          "scattergl": [
           {
            "marker": {
             "colorbar": {
              "outlinewidth": 0,
              "ticks": ""
             }
            },
            "type": "scattergl"
           }
          ],
          "scattermapbox": [
           {
            "marker": {
             "colorbar": {
              "outlinewidth": 0,
              "ticks": ""
             }
            },
            "type": "scattermapbox"
           }
          ],
          "scatterpolar": [
           {
            "marker": {
             "colorbar": {
              "outlinewidth": 0,
              "ticks": ""
             }
            },
            "type": "scatterpolar"
           }
          ],
          "scatterpolargl": [
           {
            "marker": {
             "colorbar": {
              "outlinewidth": 0,
              "ticks": ""
             }
            },
            "type": "scatterpolargl"
           }
          ],
          "scatterternary": [
           {
            "marker": {
             "colorbar": {
              "outlinewidth": 0,
              "ticks": ""
             }
            },
            "type": "scatterternary"
           }
          ],
          "surface": [
           {
            "colorbar": {
             "outlinewidth": 0,
             "ticks": ""
            },
            "colorscale": [
             [
              0,
              "#0d0887"
             ],
             [
              0.1111111111111111,
              "#46039f"
             ],
             [
              0.2222222222222222,
              "#7201a8"
             ],
             [
              0.3333333333333333,
              "#9c179e"
             ],
             [
              0.4444444444444444,
              "#bd3786"
             ],
             [
              0.5555555555555556,
              "#d8576b"
             ],
             [
              0.6666666666666666,
              "#ed7953"
             ],
             [
              0.7777777777777778,
              "#fb9f3a"
             ],
             [
              0.8888888888888888,
              "#fdca26"
             ],
             [
              1,
              "#f0f921"
             ]
            ],
            "type": "surface"
           }
          ],
          "table": [
           {
            "cells": {
             "fill": {
              "color": "#EBF0F8"
             },
             "line": {
              "color": "white"
             }
            },
            "header": {
             "fill": {
              "color": "#C8D4E3"
             },
             "line": {
              "color": "white"
             }
            },
            "type": "table"
           }
          ]
         },
         "layout": {
          "annotationdefaults": {
           "arrowcolor": "#2a3f5f",
           "arrowhead": 0,
           "arrowwidth": 1
          },
          "autotypenumbers": "strict",
          "coloraxis": {
           "colorbar": {
            "outlinewidth": 0,
            "ticks": ""
           }
          },
          "colorscale": {
           "diverging": [
            [
             0,
             "#8e0152"
            ],
            [
             0.1,
             "#c51b7d"
            ],
            [
             0.2,
             "#de77ae"
            ],
            [
             0.3,
             "#f1b6da"
            ],
            [
             0.4,
             "#fde0ef"
            ],
            [
             0.5,
             "#f7f7f7"
            ],
            [
             0.6,
             "#e6f5d0"
            ],
            [
             0.7,
             "#b8e186"
            ],
            [
             0.8,
             "#7fbc41"
            ],
            [
             0.9,
             "#4d9221"
            ],
            [
             1,
             "#276419"
            ]
           ],
           "sequential": [
            [
             0,
             "#0d0887"
            ],
            [
             0.1111111111111111,
             "#46039f"
            ],
            [
             0.2222222222222222,
             "#7201a8"
            ],
            [
             0.3333333333333333,
             "#9c179e"
            ],
            [
             0.4444444444444444,
             "#bd3786"
            ],
            [
             0.5555555555555556,
             "#d8576b"
            ],
            [
             0.6666666666666666,
             "#ed7953"
            ],
            [
             0.7777777777777778,
             "#fb9f3a"
            ],
            [
             0.8888888888888888,
             "#fdca26"
            ],
            [
             1,
             "#f0f921"
            ]
           ],
           "sequentialminus": [
            [
             0,
             "#0d0887"
            ],
            [
             0.1111111111111111,
             "#46039f"
            ],
            [
             0.2222222222222222,
             "#7201a8"
            ],
            [
             0.3333333333333333,
             "#9c179e"
            ],
            [
             0.4444444444444444,
             "#bd3786"
            ],
            [
             0.5555555555555556,
             "#d8576b"
            ],
            [
             0.6666666666666666,
             "#ed7953"
            ],
            [
             0.7777777777777778,
             "#fb9f3a"
            ],
            [
             0.8888888888888888,
             "#fdca26"
            ],
            [
             1,
             "#f0f921"
            ]
           ]
          },
          "colorway": [
           "#636efa",
           "#EF553B",
           "#00cc96",
           "#ab63fa",
           "#FFA15A",
           "#19d3f3",
           "#FF6692",
           "#B6E880",
           "#FF97FF",
           "#FECB52"
          ],
          "font": {
           "color": "#2a3f5f"
          },
          "geo": {
           "bgcolor": "white",
           "lakecolor": "white",
           "landcolor": "#E5ECF6",
           "showlakes": true,
           "showland": true,
           "subunitcolor": "white"
          },
          "hoverlabel": {
           "align": "left"
          },
          "hovermode": "closest",
          "mapbox": {
           "style": "light"
          },
          "paper_bgcolor": "white",
          "plot_bgcolor": "#E5ECF6",
          "polar": {
           "angularaxis": {
            "gridcolor": "white",
            "linecolor": "white",
            "ticks": ""
           },
           "bgcolor": "#E5ECF6",
           "radialaxis": {
            "gridcolor": "white",
            "linecolor": "white",
            "ticks": ""
           }
          },
          "scene": {
           "xaxis": {
            "backgroundcolor": "#E5ECF6",
            "gridcolor": "white",
            "gridwidth": 2,
            "linecolor": "white",
            "showbackground": true,
            "ticks": "",
            "zerolinecolor": "white"
           },
           "yaxis": {
            "backgroundcolor": "#E5ECF6",
            "gridcolor": "white",
            "gridwidth": 2,
            "linecolor": "white",
            "showbackground": true,
            "ticks": "",
            "zerolinecolor": "white"
           },
           "zaxis": {
            "backgroundcolor": "#E5ECF6",
            "gridcolor": "white",
            "gridwidth": 2,
            "linecolor": "white",
            "showbackground": true,
            "ticks": "",
            "zerolinecolor": "white"
           }
          },
          "shapedefaults": {
           "line": {
            "color": "#2a3f5f"
           }
          },
          "ternary": {
           "aaxis": {
            "gridcolor": "white",
            "linecolor": "white",
            "ticks": ""
           },
           "baxis": {
            "gridcolor": "white",
            "linecolor": "white",
            "ticks": ""
           },
           "bgcolor": "#E5ECF6",
           "caxis": {
            "gridcolor": "white",
            "linecolor": "white",
            "ticks": ""
           }
          },
          "title": {
           "x": 0.05
          },
          "xaxis": {
           "automargin": true,
           "gridcolor": "white",
           "linecolor": "white",
           "ticks": "",
           "title": {
            "standoff": 15
           },
           "zerolinecolor": "white",
           "zerolinewidth": 2
          },
          "yaxis": {
           "automargin": true,
           "gridcolor": "white",
           "linecolor": "white",
           "ticks": "",
           "title": {
            "standoff": 15
           },
           "zerolinecolor": "white",
           "zerolinewidth": 2
          }
         }
        },
        "title": {
         "text": "R1 Structures: Frequency and Impact on Score Relative to All Factions Average (148.13): ivits"
        }
       }
      },
      "text/html": [
       "<div>                            <div id=\"857bff55-6953-476f-bcfd-f49964dd143d\" class=\"plotly-graph-div\" style=\"height:525px; width:100%;\"></div>            <script type=\"text/javascript\">                require([\"plotly\"], function(Plotly) {                    window.PLOTLYENV=window.PLOTLYENV || {};                                    if (document.getElementById(\"857bff55-6953-476f-bcfd-f49964dd143d\")) {                    Plotly.newPlot(                        \"857bff55-6953-476f-bcfd-f49964dd143d\",                        [{\"branchvalues\":\"total\",\"customdata\":[[150.16666666666666,147.75],[203.8709677419355,155.96774193548387],[188.38993710691824,148.19480519480518],[166.0,145.80769230769232],[181.66666666666666,158.5],[232.6551724137931,165.14285714285714],[219.12718204488777,166.81772151898736],[130.7391304347826,129.51111111111112],[158.125,153.21428571428572],[189.55555555555554,142.33333333333334],[150.55357142857142,140.16071428571428],[334.0,223.0],[235.93859649122808,172.36043956043957],[196.27083333333334,157.50694444444446],[247.0,171.0],[143.0,153.33333333333334],[116.07142857142857,133.96296296296296],[198.3913043478261,172.95652173913044],[154.0,161.2],[198.36666666666667,157.0],[169.0,126.0],[170.5,178.5],[263.55555555555554,169.22222222222223],[\"(?)\",162.88167110644656],[\"(?)\",159.58850931677017],[150.16666666666666,147.75],[\"(?)\",162.6304782925909]],\"domain\":{\"x\":[0.0,1.0],\"y\":[0.0,1.0]},\"hovertemplate\":\"labels=%{label}<br>class_counts=%{value}<br>parent=%{parent}<br>id=%{id}<br>ave_elo_ivits=%{customdata[0]}<br>ave_score_ivits=%{color}<extra></extra>\",\"ids\":[\"R1 Structs/ac2/ 0-m_0-ts_0-lab_1-pi_0-ac1_1-ac2\",\"R1 Structs/ac1/ 0-m_0-ts_0-lab_1-pi_1-ac1_0-ac2\",\"R1 Structs/PI/ 0-m_0-ts_1-lab_1-pi_0-ac1_0-ac2\",\"R1 Structs/PI/ 0-m_1-ts_1-lab_1-pi_0-ac1_0-ac2\",\"R1 Structs/PI/ 0-m_2-ts_0-lab_1-pi_0-ac1_0-ac2\",\"R1 Structs/ac1/ 1-m_0-ts_0-lab_1-pi_1-ac1_0-ac2\",\"R1 Structs/PI/ 1-m_0-ts_1-lab_1-pi_0-ac1_0-ac2\",\"R1 Structs/PI/ 1-m_1-ts_0-lab_1-pi_0-ac1_0-ac2\",\"R1 Structs/PI/ 1-m_1-ts_1-lab_1-pi_0-ac1_0-ac2\",\"R1 Structs/PI/ 1-m_2-ts_0-lab_1-pi_0-ac1_0-ac2\",\"R1 Structs/PI/ 2-m_0-ts_0-lab_1-pi_0-ac1_0-ac2\",\"R1 Structs/ac1/ 2-m_0-ts_0-lab_1-pi_1-ac1_0-ac2\",\"R1 Structs/PI/ 2-m_0-ts_1-lab_1-pi_0-ac1_0-ac2\",\"R1 Structs/PI/ 2-m_1-ts_0-lab_1-pi_0-ac1_0-ac2\",\"R1 Structs/PI/ 2-m_1-ts_1-lab_1-pi_0-ac1_0-ac2\",\"R1 Structs/PI/ 2-m_2-ts_0-lab_1-pi_0-ac1_0-ac2\",\"R1 Structs/PI/ 3-m_0-ts_0-lab_1-pi_0-ac1_0-ac2\",\"R1 Structs/PI/ 3-m_0-ts_1-lab_1-pi_0-ac1_0-ac2\",\"R1 Structs/PI/ 3-m_1-ts_0-lab_1-pi_0-ac1_0-ac2\",\"R1 Structs/PI/ 4-m_0-ts_0-lab_1-pi_0-ac1_0-ac2\",\"R1 Structs/PI/ 4-m_0-ts_1-lab_1-pi_0-ac1_0-ac2\",\"R1 Structs/PI/ 4-m_1-ts_0-lab_1-pi_0-ac1_0-ac2\",\"R1 Structs/PI/ 5-m_0-ts_0-lab_1-pi_0-ac1_0-ac2\",\"R1 Structs/PI\",\"R1 Structs/ac1\",\"R1 Structs/ac2\",\"R1 Structs\"],\"labels\":[\" 0-m_0-ts_0-lab_1-pi_0-ac1_1-ac2\",\" 0-m_0-ts_0-lab_1-pi_1-ac1_0-ac2\",\" 0-m_0-ts_1-lab_1-pi_0-ac1_0-ac2\",\" 0-m_1-ts_1-lab_1-pi_0-ac1_0-ac2\",\" 0-m_2-ts_0-lab_1-pi_0-ac1_0-ac2\",\" 1-m_0-ts_0-lab_1-pi_1-ac1_0-ac2\",\" 1-m_0-ts_1-lab_1-pi_0-ac1_0-ac2\",\" 1-m_1-ts_0-lab_1-pi_0-ac1_0-ac2\",\" 1-m_1-ts_1-lab_1-pi_0-ac1_0-ac2\",\" 1-m_2-ts_0-lab_1-pi_0-ac1_0-ac2\",\" 2-m_0-ts_0-lab_1-pi_0-ac1_0-ac2\",\" 2-m_0-ts_0-lab_1-pi_1-ac1_0-ac2\",\" 2-m_0-ts_1-lab_1-pi_0-ac1_0-ac2\",\" 2-m_1-ts_0-lab_1-pi_0-ac1_0-ac2\",\" 2-m_1-ts_1-lab_1-pi_0-ac1_0-ac2\",\" 2-m_2-ts_0-lab_1-pi_0-ac1_0-ac2\",\" 3-m_0-ts_0-lab_1-pi_0-ac1_0-ac2\",\" 3-m_0-ts_1-lab_1-pi_0-ac1_0-ac2\",\" 3-m_1-ts_0-lab_1-pi_0-ac1_0-ac2\",\" 4-m_0-ts_0-lab_1-pi_0-ac1_0-ac2\",\" 4-m_0-ts_1-lab_1-pi_0-ac1_0-ac2\",\" 4-m_1-ts_0-lab_1-pi_0-ac1_0-ac2\",\" 5-m_0-ts_0-lab_1-pi_0-ac1_0-ac2\",\"PI\",\"ac1\",\"ac2\",\"R1 Structs\"],\"marker\":{\"coloraxis\":\"coloraxis\",\"colors\":[147.75,155.96774193548387,148.19480519480518,145.80769230769232,158.5,165.14285714285714,166.81772151898736,129.51111111111112,153.21428571428572,142.33333333333334,140.16071428571428,223.0,172.36043956043957,157.50694444444446,171.0,153.33333333333334,133.96296296296296,172.95652173913044,161.2,157.0,126.0,178.5,169.22222222222223,162.88167110644656,159.58850931677017,147.75,162.6304782925909]},\"name\":\"\",\"parents\":[\"R1 Structs/ac2\",\"R1 Structs/ac1\",\"R1 Structs/PI\",\"R1 Structs/PI\",\"R1 Structs/PI\",\"R1 Structs/ac1\",\"R1 Structs/PI\",\"R1 Structs/PI\",\"R1 Structs/PI\",\"R1 Structs/PI\",\"R1 Structs/PI\",\"R1 Structs/ac1\",\"R1 Structs/PI\",\"R1 Structs/PI\",\"R1 Structs/PI\",\"R1 Structs/PI\",\"R1 Structs/PI\",\"R1 Structs/PI\",\"R1 Structs/PI\",\"R1 Structs/PI\",\"R1 Structs/PI\",\"R1 Structs/PI\",\"R1 Structs/PI\",\"R1 Structs\",\"R1 Structs\",\"R1 Structs\",\"\"],\"values\":[12,62,159,26,6,29,802,46,16,9,56,1,456,144,3,3,28,23,5,30,2,2,9,1825,92,12,1929],\"type\":\"treemap\"}],                        {\"template\":{\"data\":{\"bar\":[{\"error_x\":{\"color\":\"#2a3f5f\"},\"error_y\":{\"color\":\"#2a3f5f\"},\"marker\":{\"line\":{\"color\":\"#E5ECF6\",\"width\":0.5},\"pattern\":{\"fillmode\":\"overlay\",\"size\":10,\"solidity\":0.2}},\"type\":\"bar\"}],\"barpolar\":[{\"marker\":{\"line\":{\"color\":\"#E5ECF6\",\"width\":0.5},\"pattern\":{\"fillmode\":\"overlay\",\"size\":10,\"solidity\":0.2}},\"type\":\"barpolar\"}],\"carpet\":[{\"aaxis\":{\"endlinecolor\":\"#2a3f5f\",\"gridcolor\":\"white\",\"linecolor\":\"white\",\"minorgridcolor\":\"white\",\"startlinecolor\":\"#2a3f5f\"},\"baxis\":{\"endlinecolor\":\"#2a3f5f\",\"gridcolor\":\"white\",\"linecolor\":\"white\",\"minorgridcolor\":\"white\",\"startlinecolor\":\"#2a3f5f\"},\"type\":\"carpet\"}],\"choropleth\":[{\"colorbar\":{\"outlinewidth\":0,\"ticks\":\"\"},\"type\":\"choropleth\"}],\"contour\":[{\"colorbar\":{\"outlinewidth\":0,\"ticks\":\"\"},\"colorscale\":[[0.0,\"#0d0887\"],[0.1111111111111111,\"#46039f\"],[0.2222222222222222,\"#7201a8\"],[0.3333333333333333,\"#9c179e\"],[0.4444444444444444,\"#bd3786\"],[0.5555555555555556,\"#d8576b\"],[0.6666666666666666,\"#ed7953\"],[0.7777777777777778,\"#fb9f3a\"],[0.8888888888888888,\"#fdca26\"],[1.0,\"#f0f921\"]],\"type\":\"contour\"}],\"contourcarpet\":[{\"colorbar\":{\"outlinewidth\":0,\"ticks\":\"\"},\"type\":\"contourcarpet\"}],\"heatmap\":[{\"colorbar\":{\"outlinewidth\":0,\"ticks\":\"\"},\"colorscale\":[[0.0,\"#0d0887\"],[0.1111111111111111,\"#46039f\"],[0.2222222222222222,\"#7201a8\"],[0.3333333333333333,\"#9c179e\"],[0.4444444444444444,\"#bd3786\"],[0.5555555555555556,\"#d8576b\"],[0.6666666666666666,\"#ed7953\"],[0.7777777777777778,\"#fb9f3a\"],[0.8888888888888888,\"#fdca26\"],[1.0,\"#f0f921\"]],\"type\":\"heatmap\"}],\"heatmapgl\":[{\"colorbar\":{\"outlinewidth\":0,\"ticks\":\"\"},\"colorscale\":[[0.0,\"#0d0887\"],[0.1111111111111111,\"#46039f\"],[0.2222222222222222,\"#7201a8\"],[0.3333333333333333,\"#9c179e\"],[0.4444444444444444,\"#bd3786\"],[0.5555555555555556,\"#d8576b\"],[0.6666666666666666,\"#ed7953\"],[0.7777777777777778,\"#fb9f3a\"],[0.8888888888888888,\"#fdca26\"],[1.0,\"#f0f921\"]],\"type\":\"heatmapgl\"}],\"histogram\":[{\"marker\":{\"pattern\":{\"fillmode\":\"overlay\",\"size\":10,\"solidity\":0.2}},\"type\":\"histogram\"}],\"histogram2d\":[{\"colorbar\":{\"outlinewidth\":0,\"ticks\":\"\"},\"colorscale\":[[0.0,\"#0d0887\"],[0.1111111111111111,\"#46039f\"],[0.2222222222222222,\"#7201a8\"],[0.3333333333333333,\"#9c179e\"],[0.4444444444444444,\"#bd3786\"],[0.5555555555555556,\"#d8576b\"],[0.6666666666666666,\"#ed7953\"],[0.7777777777777778,\"#fb9f3a\"],[0.8888888888888888,\"#fdca26\"],[1.0,\"#f0f921\"]],\"type\":\"histogram2d\"}],\"histogram2dcontour\":[{\"colorbar\":{\"outlinewidth\":0,\"ticks\":\"\"},\"colorscale\":[[0.0,\"#0d0887\"],[0.1111111111111111,\"#46039f\"],[0.2222222222222222,\"#7201a8\"],[0.3333333333333333,\"#9c179e\"],[0.4444444444444444,\"#bd3786\"],[0.5555555555555556,\"#d8576b\"],[0.6666666666666666,\"#ed7953\"],[0.7777777777777778,\"#fb9f3a\"],[0.8888888888888888,\"#fdca26\"],[1.0,\"#f0f921\"]],\"type\":\"histogram2dcontour\"}],\"mesh3d\":[{\"colorbar\":{\"outlinewidth\":0,\"ticks\":\"\"},\"type\":\"mesh3d\"}],\"parcoords\":[{\"line\":{\"colorbar\":{\"outlinewidth\":0,\"ticks\":\"\"}},\"type\":\"parcoords\"}],\"pie\":[{\"automargin\":true,\"type\":\"pie\"}],\"scatter\":[{\"marker\":{\"colorbar\":{\"outlinewidth\":0,\"ticks\":\"\"}},\"type\":\"scatter\"}],\"scatter3d\":[{\"line\":{\"colorbar\":{\"outlinewidth\":0,\"ticks\":\"\"}},\"marker\":{\"colorbar\":{\"outlinewidth\":0,\"ticks\":\"\"}},\"type\":\"scatter3d\"}],\"scattercarpet\":[{\"marker\":{\"colorbar\":{\"outlinewidth\":0,\"ticks\":\"\"}},\"type\":\"scattercarpet\"}],\"scattergeo\":[{\"marker\":{\"colorbar\":{\"outlinewidth\":0,\"ticks\":\"\"}},\"type\":\"scattergeo\"}],\"scattergl\":[{\"marker\":{\"colorbar\":{\"outlinewidth\":0,\"ticks\":\"\"}},\"type\":\"scattergl\"}],\"scattermapbox\":[{\"marker\":{\"colorbar\":{\"outlinewidth\":0,\"ticks\":\"\"}},\"type\":\"scattermapbox\"}],\"scatterpolar\":[{\"marker\":{\"colorbar\":{\"outlinewidth\":0,\"ticks\":\"\"}},\"type\":\"scatterpolar\"}],\"scatterpolargl\":[{\"marker\":{\"colorbar\":{\"outlinewidth\":0,\"ticks\":\"\"}},\"type\":\"scatterpolargl\"}],\"scatterternary\":[{\"marker\":{\"colorbar\":{\"outlinewidth\":0,\"ticks\":\"\"}},\"type\":\"scatterternary\"}],\"surface\":[{\"colorbar\":{\"outlinewidth\":0,\"ticks\":\"\"},\"colorscale\":[[0.0,\"#0d0887\"],[0.1111111111111111,\"#46039f\"],[0.2222222222222222,\"#7201a8\"],[0.3333333333333333,\"#9c179e\"],[0.4444444444444444,\"#bd3786\"],[0.5555555555555556,\"#d8576b\"],[0.6666666666666666,\"#ed7953\"],[0.7777777777777778,\"#fb9f3a\"],[0.8888888888888888,\"#fdca26\"],[1.0,\"#f0f921\"]],\"type\":\"surface\"}],\"table\":[{\"cells\":{\"fill\":{\"color\":\"#EBF0F8\"},\"line\":{\"color\":\"white\"}},\"header\":{\"fill\":{\"color\":\"#C8D4E3\"},\"line\":{\"color\":\"white\"}},\"type\":\"table\"}]},\"layout\":{\"annotationdefaults\":{\"arrowcolor\":\"#2a3f5f\",\"arrowhead\":0,\"arrowwidth\":1},\"autotypenumbers\":\"strict\",\"coloraxis\":{\"colorbar\":{\"outlinewidth\":0,\"ticks\":\"\"}},\"colorscale\":{\"diverging\":[[0,\"#8e0152\"],[0.1,\"#c51b7d\"],[0.2,\"#de77ae\"],[0.3,\"#f1b6da\"],[0.4,\"#fde0ef\"],[0.5,\"#f7f7f7\"],[0.6,\"#e6f5d0\"],[0.7,\"#b8e186\"],[0.8,\"#7fbc41\"],[0.9,\"#4d9221\"],[1,\"#276419\"]],\"sequential\":[[0.0,\"#0d0887\"],[0.1111111111111111,\"#46039f\"],[0.2222222222222222,\"#7201a8\"],[0.3333333333333333,\"#9c179e\"],[0.4444444444444444,\"#bd3786\"],[0.5555555555555556,\"#d8576b\"],[0.6666666666666666,\"#ed7953\"],[0.7777777777777778,\"#fb9f3a\"],[0.8888888888888888,\"#fdca26\"],[1.0,\"#f0f921\"]],\"sequentialminus\":[[0.0,\"#0d0887\"],[0.1111111111111111,\"#46039f\"],[0.2222222222222222,\"#7201a8\"],[0.3333333333333333,\"#9c179e\"],[0.4444444444444444,\"#bd3786\"],[0.5555555555555556,\"#d8576b\"],[0.6666666666666666,\"#ed7953\"],[0.7777777777777778,\"#fb9f3a\"],[0.8888888888888888,\"#fdca26\"],[1.0,\"#f0f921\"]]},\"colorway\":[\"#636efa\",\"#EF553B\",\"#00cc96\",\"#ab63fa\",\"#FFA15A\",\"#19d3f3\",\"#FF6692\",\"#B6E880\",\"#FF97FF\",\"#FECB52\"],\"font\":{\"color\":\"#2a3f5f\"},\"geo\":{\"bgcolor\":\"white\",\"lakecolor\":\"white\",\"landcolor\":\"#E5ECF6\",\"showlakes\":true,\"showland\":true,\"subunitcolor\":\"white\"},\"hoverlabel\":{\"align\":\"left\"},\"hovermode\":\"closest\",\"mapbox\":{\"style\":\"light\"},\"paper_bgcolor\":\"white\",\"plot_bgcolor\":\"#E5ECF6\",\"polar\":{\"angularaxis\":{\"gridcolor\":\"white\",\"linecolor\":\"white\",\"ticks\":\"\"},\"bgcolor\":\"#E5ECF6\",\"radialaxis\":{\"gridcolor\":\"white\",\"linecolor\":\"white\",\"ticks\":\"\"}},\"scene\":{\"xaxis\":{\"backgroundcolor\":\"#E5ECF6\",\"gridcolor\":\"white\",\"gridwidth\":2,\"linecolor\":\"white\",\"showbackground\":true,\"ticks\":\"\",\"zerolinecolor\":\"white\"},\"yaxis\":{\"backgroundcolor\":\"#E5ECF6\",\"gridcolor\":\"white\",\"gridwidth\":2,\"linecolor\":\"white\",\"showbackground\":true,\"ticks\":\"\",\"zerolinecolor\":\"white\"},\"zaxis\":{\"backgroundcolor\":\"#E5ECF6\",\"gridcolor\":\"white\",\"gridwidth\":2,\"linecolor\":\"white\",\"showbackground\":true,\"ticks\":\"\",\"zerolinecolor\":\"white\"}},\"shapedefaults\":{\"line\":{\"color\":\"#2a3f5f\"}},\"ternary\":{\"aaxis\":{\"gridcolor\":\"white\",\"linecolor\":\"white\",\"ticks\":\"\"},\"baxis\":{\"gridcolor\":\"white\",\"linecolor\":\"white\",\"ticks\":\"\"},\"bgcolor\":\"#E5ECF6\",\"caxis\":{\"gridcolor\":\"white\",\"linecolor\":\"white\",\"ticks\":\"\"}},\"title\":{\"x\":0.05},\"xaxis\":{\"automargin\":true,\"gridcolor\":\"white\",\"linecolor\":\"white\",\"ticks\":\"\",\"title\":{\"standoff\":15},\"zerolinecolor\":\"white\",\"zerolinewidth\":2},\"yaxis\":{\"automargin\":true,\"gridcolor\":\"white\",\"linecolor\":\"white\",\"ticks\":\"\",\"title\":{\"standoff\":15},\"zerolinecolor\":\"white\",\"zerolinewidth\":2}}},\"coloraxis\":{\"colorbar\":{\"title\":{\"text\":\"ave_score_ivits\"}},\"colorscale\":[[0.0,\"rgb(103,0,31)\"],[0.1,\"rgb(178,24,43)\"],[0.2,\"rgb(214,96,77)\"],[0.3,\"rgb(244,165,130)\"],[0.4,\"rgb(253,219,199)\"],[0.5,\"rgb(247,247,247)\"],[0.6,\"rgb(209,229,240)\"],[0.7,\"rgb(146,197,222)\"],[0.8,\"rgb(67,147,195)\"],[0.9,\"rgb(33,102,172)\"],[1.0,\"rgb(5,48,97)\"]],\"cmid\":148.12743354661777},\"legend\":{\"tracegroupgap\":0},\"margin\":{\"t\":50,\"l\":25,\"r\":25,\"b\":25},\"title\":{\"text\":\"R1 Structures: Frequency and Impact on Score Relative to All Factions Average (148.13): ivits\"}},                        {\"responsive\": true}                    ).then(function(){\n",
       "                            \n",
       "var gd = document.getElementById('857bff55-6953-476f-bcfd-f49964dd143d');\n",
       "var x = new MutationObserver(function (mutations, observer) {{\n",
       "        var display = window.getComputedStyle(gd).display;\n",
       "        if (!display || display === 'none') {{\n",
       "            console.log([gd, 'removed!']);\n",
       "            Plotly.purge(gd);\n",
       "            observer.disconnect();\n",
       "        }}\n",
       "}});\n",
       "\n",
       "// Listen for the removal of the full notebook cells\n",
       "var notebookContainer = gd.closest('#notebook-container');\n",
       "if (notebookContainer) {{\n",
       "    x.observe(notebookContainer, {childList: true});\n",
       "}}\n",
       "\n",
       "// Listen for the clearing of the current output cell\n",
       "var outputEl = gd.closest('.output');\n",
       "if (outputEl) {{\n",
       "    x.observe(outputEl, {childList: true});\n",
       "}}\n",
       "\n",
       "                        })                };                });            </script>        </div>"
      ]
     },
     "metadata": {},
     "output_type": "display_data"
    },
    {
     "data": {
      "application/vnd.plotly.v1+json": {
       "config": {
        "plotlyServerURL": "https://plot.ly"
       },
       "data": [
        {
         "branchvalues": "total",
         "customdata": [
          [
           130.42857142857142,
           152.28571428571428
          ],
          [
           88,
           132.5
          ],
          [
           40,
           134
          ],
          [
           257.4,
           165.8
          ],
          [
           226.26666666666668,
           154.30833333333334
          ],
          [
           198.33333333333334,
           100.16666666666667
          ],
          [
           130,
           118
          ],
          [
           198.42857142857142,
           123.42857142857143
          ],
          [
           315,
           187
          ],
          [
           31,
           103
          ],
          [
           130.77777777777777,
           129.25925925925927
          ],
          [
           50,
           139.5
          ],
          [
           65,
           164
          ],
          [
           130,
           149.33333333333334
          ],
          [
           143,
           150
          ],
          [
           239.85777777777778,
           160.38532110091742
          ],
          [
           174.4,
           145.175
          ],
          [
           209,
           163.4
          ],
          [
           104.66666666666667,
           122
          ],
          [
           217.13089005235602,
           148.41884816753927
          ],
          [
           163.66666666666666,
           135.66666666666666
          ],
          [
           276,
           175
          ],
          [
           242.66666666666666,
           151.5
          ],
          [
           121,
           170
          ],
          [
           211.94444444444446,
           156.55555555555554
          ],
          [
           130.5,
           118.5625
          ],
          [
           176.41095890410958,
           140.58333333333334
          ],
          [
           203.05405405405406,
           153.97222222222223
          ],
          [
           120.9,
           128.3
          ],
          [
           67.85714285714286,
           100.14285714285714
          ],
          [
           290.25,
           174
          ],
          [
           123.33333333333333,
           136.66666666666666
          ],
          [
           220.9493670886076,
           155.60256410256412
          ],
          [
           140.4,
           119.8
          ],
          [
           181.375,
           122.25
          ],
          [
           218.2258064516129,
           156.67741935483872
          ],
          [
           129,
           118
          ],
          [
           249.3154761904762,
           169.17964071856287
          ],
          [
           166.8,
           150.2
          ],
          [
           121,
           154
          ],
          [
           147,
           161.9090909090909
          ],
          [
           275.67857142857144,
           163.55555555555551
          ],
          [
           276.7,
           160.8
          ],
          [
           165,
           178.33333333333334
          ],
          [
           340,
           219
          ],
          [
           325.6666666666667,
           209.33333333333334
          ],
          [
           "(?)",
           119.23076923076923
          ],
          [
           "(?)",
           158.43667730355006
          ],
          [
           "(?)",
           159
          ],
          [
           "(?)",
           153.70070498230712
          ],
          [
           "(?)",
           141.43478260869566
          ],
          [
           "(?)",
           148.44210526315788
          ],
          [
           "(?)",
           153.78172309010446
          ]
         ],
         "domain": {
          "x": [
           0,
           1
          ],
          "y": [
           0,
           1
          ]
         },
         "hovertemplate": "labels=%{label}<br>class_counts=%{value}<br>parent=%{parent}<br>id=%{id}<br>ave_elo_ambas=%{customdata[0]}<br>ave_score_ambas=%{color}<extra></extra>",
         "ids": [
          "R1 Structs/lab/ 0-m_0-ts_2-lab_0-pi_0-ac1_0-ac2",
          "R1 Structs/lab/ 0-m_1-ts_1-lab_0-pi_0-ac1_0-ac2",
          "R1 Structs/ts/ 0-m_3-ts_0-lab_0-pi_0-ac1_0-ac2",
          "R1 Structs/ac2/ 1-m_0-ts_0-lab_0-pi_0-ac1_1-ac2",
          "R1 Structs/ac1/ 1-m_0-ts_0-lab_0-pi_1-ac1_0-ac2",
          "R1 Structs/lab/ 1-m_0-ts_1-lab_0-pi_0-ac1_0-ac2",
          "R1 Structs/PI/ 1-m_0-ts_1-lab_1-pi_0-ac1_0-ac2",
          "R1 Structs/lab/ 1-m_0-ts_2-lab_0-pi_0-ac1_0-ac2",
          "R1 Structs/ac1/ 1-m_1-ts_0-lab_0-pi_1-ac1_0-ac2",
          "R1 Structs/PI/ 1-m_1-ts_0-lab_1-pi_0-ac1_0-ac2",
          "R1 Structs/lab/ 1-m_1-ts_1-lab_0-pi_0-ac1_0-ac2",
          "R1 Structs/ts/ 1-m_2-ts_0-lab_0-pi_0-ac1_0-ac2",
          "R1 Structs/lab/ 1-m_2-ts_1-lab_0-pi_0-ac1_0-ac2",
          "R1 Structs/ts/ 1-m_3-ts_0-lab_0-pi_0-ac1_0-ac2",
          "R1 Structs/ac2/ 2-m_0-ts_0-lab_0-pi_0-ac1_1-ac2",
          "R1 Structs/ac1/ 2-m_0-ts_0-lab_0-pi_1-ac1_0-ac2",
          "R1 Structs/lab/ 2-m_0-ts_1-lab_0-pi_0-ac1_0-ac2",
          "R1 Structs/lab/ 2-m_0-ts_2-lab_0-pi_0-ac1_0-ac2",
          "R1 Structs/PI/ 2-m_1-ts_0-lab_1-pi_0-ac1_0-ac2",
          "R1 Structs/lab/ 2-m_1-ts_1-lab_0-pi_0-ac1_0-ac2",
          "R1 Structs/ts/ 2-m_2-ts_0-lab_0-pi_0-ac1_0-ac2",
          "R1 Structs/lab/ 2-m_2-ts_1-lab_0-pi_0-ac1_0-ac2",
          "R1 Structs/ts/ 2-m_3-ts_0-lab_0-pi_0-ac1_0-ac2",
          "R1 Structs/ac2/ 3-m_0-ts_0-lab_0-pi_0-ac1_1-ac2",
          "R1 Structs/ac1/ 3-m_0-ts_0-lab_0-pi_1-ac1_0-ac2",
          "R1 Structs/PI/ 3-m_0-ts_0-lab_1-pi_0-ac1_0-ac2",
          "R1 Structs/lab/ 3-m_0-ts_1-lab_0-pi_0-ac1_0-ac2",
          "R1 Structs/lab/ 3-m_1-ts_1-lab_0-pi_0-ac1_0-ac2",
          "R1 Structs/ts/ 3-m_2-ts_0-lab_0-pi_0-ac1_0-ac2",
          "R1 Structs/m/ 4-m_0-ts_0-lab_0-pi_0-ac1_0-ac2",
          "R1 Structs/ac1/ 4-m_0-ts_0-lab_0-pi_1-ac1_0-ac2",
          "R1 Structs/PI/ 4-m_0-ts_0-lab_1-pi_0-ac1_0-ac2",
          "R1 Structs/lab/ 4-m_0-ts_1-lab_0-pi_0-ac1_0-ac2",
          "R1 Structs/ts/ 4-m_1-ts_0-lab_0-pi_0-ac1_0-ac2",
          "R1 Structs/lab/ 4-m_1-ts_1-lab_0-pi_0-ac1_0-ac2",
          "R1 Structs/ts/ 4-m_2-ts_0-lab_0-pi_0-ac1_0-ac2",
          "R1 Structs/m/ 5-m_0-ts_0-lab_0-pi_0-ac1_0-ac2",
          "R1 Structs/lab/ 5-m_0-ts_1-lab_0-pi_0-ac1_0-ac2",
          "R1 Structs/ts/ 5-m_1-ts_0-lab_0-pi_0-ac1_0-ac2",
          "R1 Structs/ts/ 5-m_2-ts_0-lab_0-pi_0-ac1_0-ac2",
          "R1 Structs/m/ 6-m_0-ts_0-lab_0-pi_0-ac1_0-ac2",
          "R1 Structs/lab/ 6-m_0-ts_1-lab_0-pi_0-ac1_0-ac2",
          "R1 Structs/ts/ 6-m_1-ts_0-lab_0-pi_0-ac1_0-ac2",
          "R1 Structs/m/ 7-m_0-ts_0-lab_0-pi_0-ac1_0-ac2",
          "R1 Structs/lab/ 7-m_0-ts_1-lab_0-pi_0-ac1_0-ac2",
          "R1 Structs/ts/ 7-m_1-ts_0-lab_0-pi_0-ac1_0-ac2",
          "R1 Structs/PI",
          "R1 Structs/ac1",
          "R1 Structs/ac2",
          "R1 Structs/lab",
          "R1 Structs/m",
          "R1 Structs/ts",
          "R1 Structs"
         ],
         "labels": [
          " 0-m_0-ts_2-lab_0-pi_0-ac1_0-ac2",
          " 0-m_1-ts_1-lab_0-pi_0-ac1_0-ac2",
          " 0-m_3-ts_0-lab_0-pi_0-ac1_0-ac2",
          " 1-m_0-ts_0-lab_0-pi_0-ac1_1-ac2",
          " 1-m_0-ts_0-lab_0-pi_1-ac1_0-ac2",
          " 1-m_0-ts_1-lab_0-pi_0-ac1_0-ac2",
          " 1-m_0-ts_1-lab_1-pi_0-ac1_0-ac2",
          " 1-m_0-ts_2-lab_0-pi_0-ac1_0-ac2",
          " 1-m_1-ts_0-lab_0-pi_1-ac1_0-ac2",
          " 1-m_1-ts_0-lab_1-pi_0-ac1_0-ac2",
          " 1-m_1-ts_1-lab_0-pi_0-ac1_0-ac2",
          " 1-m_2-ts_0-lab_0-pi_0-ac1_0-ac2",
          " 1-m_2-ts_1-lab_0-pi_0-ac1_0-ac2",
          " 1-m_3-ts_0-lab_0-pi_0-ac1_0-ac2",
          " 2-m_0-ts_0-lab_0-pi_0-ac1_1-ac2",
          " 2-m_0-ts_0-lab_0-pi_1-ac1_0-ac2",
          " 2-m_0-ts_1-lab_0-pi_0-ac1_0-ac2",
          " 2-m_0-ts_2-lab_0-pi_0-ac1_0-ac2",
          " 2-m_1-ts_0-lab_1-pi_0-ac1_0-ac2",
          " 2-m_1-ts_1-lab_0-pi_0-ac1_0-ac2",
          " 2-m_2-ts_0-lab_0-pi_0-ac1_0-ac2",
          " 2-m_2-ts_1-lab_0-pi_0-ac1_0-ac2",
          " 2-m_3-ts_0-lab_0-pi_0-ac1_0-ac2",
          " 3-m_0-ts_0-lab_0-pi_0-ac1_1-ac2",
          " 3-m_0-ts_0-lab_0-pi_1-ac1_0-ac2",
          " 3-m_0-ts_0-lab_1-pi_0-ac1_0-ac2",
          " 3-m_0-ts_1-lab_0-pi_0-ac1_0-ac2",
          " 3-m_1-ts_1-lab_0-pi_0-ac1_0-ac2",
          " 3-m_2-ts_0-lab_0-pi_0-ac1_0-ac2",
          " 4-m_0-ts_0-lab_0-pi_0-ac1_0-ac2",
          " 4-m_0-ts_0-lab_0-pi_1-ac1_0-ac2",
          " 4-m_0-ts_0-lab_1-pi_0-ac1_0-ac2",
          " 4-m_0-ts_1-lab_0-pi_0-ac1_0-ac2",
          " 4-m_1-ts_0-lab_0-pi_0-ac1_0-ac2",
          " 4-m_1-ts_1-lab_0-pi_0-ac1_0-ac2",
          " 4-m_2-ts_0-lab_0-pi_0-ac1_0-ac2",
          " 5-m_0-ts_0-lab_0-pi_0-ac1_0-ac2",
          " 5-m_0-ts_1-lab_0-pi_0-ac1_0-ac2",
          " 5-m_1-ts_0-lab_0-pi_0-ac1_0-ac2",
          " 5-m_2-ts_0-lab_0-pi_0-ac1_0-ac2",
          " 6-m_0-ts_0-lab_0-pi_0-ac1_0-ac2",
          " 6-m_0-ts_1-lab_0-pi_0-ac1_0-ac2",
          " 6-m_1-ts_0-lab_0-pi_0-ac1_0-ac2",
          " 7-m_0-ts_0-lab_0-pi_0-ac1_0-ac2",
          " 7-m_0-ts_1-lab_0-pi_0-ac1_0-ac2",
          " 7-m_1-ts_0-lab_0-pi_0-ac1_0-ac2",
          "PI",
          "ac1",
          "ac2",
          "lab",
          "m",
          "ts",
          "R1 Structs"
         ],
         "marker": {
          "coloraxis": "coloraxis",
          "colors": [
           152.28571428571428,
           132.5,
           134,
           165.8,
           154.30833333333334,
           100.16666666666667,
           118,
           123.42857142857143,
           187,
           103,
           129.25925925925927,
           139.5,
           164,
           149.33333333333334,
           150,
           160.38532110091742,
           145.175,
           163.4,
           122,
           148.41884816753927,
           135.66666666666666,
           175,
           151.5,
           170,
           156.55555555555554,
           118.5625,
           140.58333333333334,
           153.97222222222223,
           128.3,
           100.14285714285714,
           174,
           136.66666666666666,
           155.60256410256412,
           119.8,
           122.25,
           156.67741935483872,
           118,
           169.17964071856287,
           150.2,
           154,
           161.9090909090909,
           163.55555555555551,
           160.8,
           178.33333333333334,
           219,
           209.33333333333334,
           119.23076923076923,
           158.43667730355006,
           159,
           153.70070498230712,
           141.43478260869566,
           148.44210526315788,
           153.78172309010446
          ]
         },
         "name": "",
         "parents": [
          "R1 Structs/lab",
          "R1 Structs/lab",
          "R1 Structs/ts",
          "R1 Structs/ac2",
          "R1 Structs/ac1",
          "R1 Structs/lab",
          "R1 Structs/PI",
          "R1 Structs/lab",
          "R1 Structs/ac1",
          "R1 Structs/PI",
          "R1 Structs/lab",
          "R1 Structs/ts",
          "R1 Structs/lab",
          "R1 Structs/ts",
          "R1 Structs/ac2",
          "R1 Structs/ac1",
          "R1 Structs/lab",
          "R1 Structs/lab",
          "R1 Structs/PI",
          "R1 Structs/lab",
          "R1 Structs/ts",
          "R1 Structs/lab",
          "R1 Structs/ts",
          "R1 Structs/ac2",
          "R1 Structs/ac1",
          "R1 Structs/PI",
          "R1 Structs/lab",
          "R1 Structs/lab",
          "R1 Structs/ts",
          "R1 Structs/m",
          "R1 Structs/ac1",
          "R1 Structs/PI",
          "R1 Structs/lab",
          "R1 Structs/ts",
          "R1 Structs/lab",
          "R1 Structs/ts",
          "R1 Structs/m",
          "R1 Structs/lab",
          "R1 Structs/ts",
          "R1 Structs/ts",
          "R1 Structs/m",
          "R1 Structs/lab",
          "R1 Structs/ts",
          "R1 Structs/m",
          "R1 Structs/lab",
          "R1 Structs/ts",
          "R1 Structs",
          "R1 Structs",
          "R1 Structs",
          "R1 Structs",
          "R1 Structs",
          "R1 Structs",
          ""
         ],
         "type": "treemap",
         "values": [
          7,
          2,
          2,
          5,
          120,
          6,
          1,
          7,
          1,
          3,
          27,
          2,
          1,
          3,
          5,
          225,
          40,
          5,
          3,
          191,
          6,
          2,
          6,
          1,
          18,
          16,
          73,
          37,
          10,
          7,
          4,
          3,
          395,
          10,
          8,
          31,
          2,
          168,
          10,
          2,
          11,
          28,
          10,
          3,
          1,
          3,
          26,
          368,
          11,
          998,
          23,
          95,
          1521
         ]
        }
       ],
       "layout": {
        "coloraxis": {
         "cmid": 148.12743354661777,
         "colorbar": {
          "title": {
           "text": "ave_score_ambas"
          }
         },
         "colorscale": [
          [
           0,
           "rgb(103,0,31)"
          ],
          [
           0.1,
           "rgb(178,24,43)"
          ],
          [
           0.2,
           "rgb(214,96,77)"
          ],
          [
           0.3,
           "rgb(244,165,130)"
          ],
          [
           0.4,
           "rgb(253,219,199)"
          ],
          [
           0.5,
           "rgb(247,247,247)"
          ],
          [
           0.6,
           "rgb(209,229,240)"
          ],
          [
           0.7,
           "rgb(146,197,222)"
          ],
          [
           0.8,
           "rgb(67,147,195)"
          ],
          [
           0.9,
           "rgb(33,102,172)"
          ],
          [
           1,
           "rgb(5,48,97)"
          ]
         ]
        },
        "legend": {
         "tracegroupgap": 0
        },
        "margin": {
         "b": 25,
         "l": 25,
         "r": 25,
         "t": 50
        },
        "template": {
         "data": {
          "bar": [
           {
            "error_x": {
             "color": "#2a3f5f"
            },
            "error_y": {
             "color": "#2a3f5f"
            },
            "marker": {
             "line": {
              "color": "#E5ECF6",
              "width": 0.5
             },
             "pattern": {
              "fillmode": "overlay",
              "size": 10,
              "solidity": 0.2
             }
            },
            "type": "bar"
           }
          ],
          "barpolar": [
           {
            "marker": {
             "line": {
              "color": "#E5ECF6",
              "width": 0.5
             },
             "pattern": {
              "fillmode": "overlay",
              "size": 10,
              "solidity": 0.2
             }
            },
            "type": "barpolar"
           }
          ],
          "carpet": [
           {
            "aaxis": {
             "endlinecolor": "#2a3f5f",
             "gridcolor": "white",
             "linecolor": "white",
             "minorgridcolor": "white",
             "startlinecolor": "#2a3f5f"
            },
            "baxis": {
             "endlinecolor": "#2a3f5f",
             "gridcolor": "white",
             "linecolor": "white",
             "minorgridcolor": "white",
             "startlinecolor": "#2a3f5f"
            },
            "type": "carpet"
           }
          ],
          "choropleth": [
           {
            "colorbar": {
             "outlinewidth": 0,
             "ticks": ""
            },
            "type": "choropleth"
           }
          ],
          "contour": [
           {
            "colorbar": {
             "outlinewidth": 0,
             "ticks": ""
            },
            "colorscale": [
             [
              0,
              "#0d0887"
             ],
             [
              0.1111111111111111,
              "#46039f"
             ],
             [
              0.2222222222222222,
              "#7201a8"
             ],
             [
              0.3333333333333333,
              "#9c179e"
             ],
             [
              0.4444444444444444,
              "#bd3786"
             ],
             [
              0.5555555555555556,
              "#d8576b"
             ],
             [
              0.6666666666666666,
              "#ed7953"
             ],
             [
              0.7777777777777778,
              "#fb9f3a"
             ],
             [
              0.8888888888888888,
              "#fdca26"
             ],
             [
              1,
              "#f0f921"
             ]
            ],
            "type": "contour"
           }
          ],
          "contourcarpet": [
           {
            "colorbar": {
             "outlinewidth": 0,
             "ticks": ""
            },
            "type": "contourcarpet"
           }
          ],
          "heatmap": [
           {
            "colorbar": {
             "outlinewidth": 0,
             "ticks": ""
            },
            "colorscale": [
             [
              0,
              "#0d0887"
             ],
             [
              0.1111111111111111,
              "#46039f"
             ],
             [
              0.2222222222222222,
              "#7201a8"
             ],
             [
              0.3333333333333333,
              "#9c179e"
             ],
             [
              0.4444444444444444,
              "#bd3786"
             ],
             [
              0.5555555555555556,
              "#d8576b"
             ],
             [
              0.6666666666666666,
              "#ed7953"
             ],
             [
              0.7777777777777778,
              "#fb9f3a"
             ],
             [
              0.8888888888888888,
              "#fdca26"
             ],
             [
              1,
              "#f0f921"
             ]
            ],
            "type": "heatmap"
           }
          ],
          "heatmapgl": [
           {
            "colorbar": {
             "outlinewidth": 0,
             "ticks": ""
            },
            "colorscale": [
             [
              0,
              "#0d0887"
             ],
             [
              0.1111111111111111,
              "#46039f"
             ],
             [
              0.2222222222222222,
              "#7201a8"
             ],
             [
              0.3333333333333333,
              "#9c179e"
             ],
             [
              0.4444444444444444,
              "#bd3786"
             ],
             [
              0.5555555555555556,
              "#d8576b"
             ],
             [
              0.6666666666666666,
              "#ed7953"
             ],
             [
              0.7777777777777778,
              "#fb9f3a"
             ],
             [
              0.8888888888888888,
              "#fdca26"
             ],
             [
              1,
              "#f0f921"
             ]
            ],
            "type": "heatmapgl"
           }
          ],
          "histogram": [
           {
            "marker": {
             "pattern": {
              "fillmode": "overlay",
              "size": 10,
              "solidity": 0.2
             }
            },
            "type": "histogram"
           }
          ],
          "histogram2d": [
           {
            "colorbar": {
             "outlinewidth": 0,
             "ticks": ""
            },
            "colorscale": [
             [
              0,
              "#0d0887"
             ],
             [
              0.1111111111111111,
              "#46039f"
             ],
             [
              0.2222222222222222,
              "#7201a8"
             ],
             [
              0.3333333333333333,
              "#9c179e"
             ],
             [
              0.4444444444444444,
              "#bd3786"
             ],
             [
              0.5555555555555556,
              "#d8576b"
             ],
             [
              0.6666666666666666,
              "#ed7953"
             ],
             [
              0.7777777777777778,
              "#fb9f3a"
             ],
             [
              0.8888888888888888,
              "#fdca26"
             ],
             [
              1,
              "#f0f921"
             ]
            ],
            "type": "histogram2d"
           }
          ],
          "histogram2dcontour": [
           {
            "colorbar": {
             "outlinewidth": 0,
             "ticks": ""
            },
            "colorscale": [
             [
              0,
              "#0d0887"
             ],
             [
              0.1111111111111111,
              "#46039f"
             ],
             [
              0.2222222222222222,
              "#7201a8"
             ],
             [
              0.3333333333333333,
              "#9c179e"
             ],
             [
              0.4444444444444444,
              "#bd3786"
             ],
             [
              0.5555555555555556,
              "#d8576b"
             ],
             [
              0.6666666666666666,
              "#ed7953"
             ],
             [
              0.7777777777777778,
              "#fb9f3a"
             ],
             [
              0.8888888888888888,
              "#fdca26"
             ],
             [
              1,
              "#f0f921"
             ]
            ],
            "type": "histogram2dcontour"
           }
          ],
          "mesh3d": [
           {
            "colorbar": {
             "outlinewidth": 0,
             "ticks": ""
            },
            "type": "mesh3d"
           }
          ],
          "parcoords": [
           {
            "line": {
             "colorbar": {
              "outlinewidth": 0,
              "ticks": ""
             }
            },
            "type": "parcoords"
           }
          ],
          "pie": [
           {
            "automargin": true,
            "type": "pie"
           }
          ],
          "scatter": [
           {
            "marker": {
             "colorbar": {
              "outlinewidth": 0,
              "ticks": ""
             }
            },
            "type": "scatter"
           }
          ],
          "scatter3d": [
           {
            "line": {
             "colorbar": {
              "outlinewidth": 0,
              "ticks": ""
             }
            },
            "marker": {
             "colorbar": {
              "outlinewidth": 0,
              "ticks": ""
             }
            },
            "type": "scatter3d"
           }
          ],
          "scattercarpet": [
           {
            "marker": {
             "colorbar": {
              "outlinewidth": 0,
              "ticks": ""
             }
            },
            "type": "scattercarpet"
           }
          ],
          "scattergeo": [
           {
            "marker": {
             "colorbar": {
              "outlinewidth": 0,
              "ticks": ""
             }
            },
            "type": "scattergeo"
           }
          ],
          "scattergl": [
           {
            "marker": {
             "colorbar": {
              "outlinewidth": 0,
              "ticks": ""
             }
            },
            "type": "scattergl"
           }
          ],
          "scattermapbox": [
           {
            "marker": {
             "colorbar": {
              "outlinewidth": 0,
              "ticks": ""
             }
            },
            "type": "scattermapbox"
           }
          ],
          "scatterpolar": [
           {
            "marker": {
             "colorbar": {
              "outlinewidth": 0,
              "ticks": ""
             }
            },
            "type": "scatterpolar"
           }
          ],
          "scatterpolargl": [
           {
            "marker": {
             "colorbar": {
              "outlinewidth": 0,
              "ticks": ""
             }
            },
            "type": "scatterpolargl"
           }
          ],
          "scatterternary": [
           {
            "marker": {
             "colorbar": {
              "outlinewidth": 0,
              "ticks": ""
             }
            },
            "type": "scatterternary"
           }
          ],
          "surface": [
           {
            "colorbar": {
             "outlinewidth": 0,
             "ticks": ""
            },
            "colorscale": [
             [
              0,
              "#0d0887"
             ],
             [
              0.1111111111111111,
              "#46039f"
             ],
             [
              0.2222222222222222,
              "#7201a8"
             ],
             [
              0.3333333333333333,
              "#9c179e"
             ],
             [
              0.4444444444444444,
              "#bd3786"
             ],
             [
              0.5555555555555556,
              "#d8576b"
             ],
             [
              0.6666666666666666,
              "#ed7953"
             ],
             [
              0.7777777777777778,
              "#fb9f3a"
             ],
             [
              0.8888888888888888,
              "#fdca26"
             ],
             [
              1,
              "#f0f921"
             ]
            ],
            "type": "surface"
           }
          ],
          "table": [
           {
            "cells": {
             "fill": {
              "color": "#EBF0F8"
             },
             "line": {
              "color": "white"
             }
            },
            "header": {
             "fill": {
              "color": "#C8D4E3"
             },
             "line": {
              "color": "white"
             }
            },
            "type": "table"
           }
          ]
         },
         "layout": {
          "annotationdefaults": {
           "arrowcolor": "#2a3f5f",
           "arrowhead": 0,
           "arrowwidth": 1
          },
          "autotypenumbers": "strict",
          "coloraxis": {
           "colorbar": {
            "outlinewidth": 0,
            "ticks": ""
           }
          },
          "colorscale": {
           "diverging": [
            [
             0,
             "#8e0152"
            ],
            [
             0.1,
             "#c51b7d"
            ],
            [
             0.2,
             "#de77ae"
            ],
            [
             0.3,
             "#f1b6da"
            ],
            [
             0.4,
             "#fde0ef"
            ],
            [
             0.5,
             "#f7f7f7"
            ],
            [
             0.6,
             "#e6f5d0"
            ],
            [
             0.7,
             "#b8e186"
            ],
            [
             0.8,
             "#7fbc41"
            ],
            [
             0.9,
             "#4d9221"
            ],
            [
             1,
             "#276419"
            ]
           ],
           "sequential": [
            [
             0,
             "#0d0887"
            ],
            [
             0.1111111111111111,
             "#46039f"
            ],
            [
             0.2222222222222222,
             "#7201a8"
            ],
            [
             0.3333333333333333,
             "#9c179e"
            ],
            [
             0.4444444444444444,
             "#bd3786"
            ],
            [
             0.5555555555555556,
             "#d8576b"
            ],
            [
             0.6666666666666666,
             "#ed7953"
            ],
            [
             0.7777777777777778,
             "#fb9f3a"
            ],
            [
             0.8888888888888888,
             "#fdca26"
            ],
            [
             1,
             "#f0f921"
            ]
           ],
           "sequentialminus": [
            [
             0,
             "#0d0887"
            ],
            [
             0.1111111111111111,
             "#46039f"
            ],
            [
             0.2222222222222222,
             "#7201a8"
            ],
            [
             0.3333333333333333,
             "#9c179e"
            ],
            [
             0.4444444444444444,
             "#bd3786"
            ],
            [
             0.5555555555555556,
             "#d8576b"
            ],
            [
             0.6666666666666666,
             "#ed7953"
            ],
            [
             0.7777777777777778,
             "#fb9f3a"
            ],
            [
             0.8888888888888888,
             "#fdca26"
            ],
            [
             1,
             "#f0f921"
            ]
           ]
          },
          "colorway": [
           "#636efa",
           "#EF553B",
           "#00cc96",
           "#ab63fa",
           "#FFA15A",
           "#19d3f3",
           "#FF6692",
           "#B6E880",
           "#FF97FF",
           "#FECB52"
          ],
          "font": {
           "color": "#2a3f5f"
          },
          "geo": {
           "bgcolor": "white",
           "lakecolor": "white",
           "landcolor": "#E5ECF6",
           "showlakes": true,
           "showland": true,
           "subunitcolor": "white"
          },
          "hoverlabel": {
           "align": "left"
          },
          "hovermode": "closest",
          "mapbox": {
           "style": "light"
          },
          "paper_bgcolor": "white",
          "plot_bgcolor": "#E5ECF6",
          "polar": {
           "angularaxis": {
            "gridcolor": "white",
            "linecolor": "white",
            "ticks": ""
           },
           "bgcolor": "#E5ECF6",
           "radialaxis": {
            "gridcolor": "white",
            "linecolor": "white",
            "ticks": ""
           }
          },
          "scene": {
           "xaxis": {
            "backgroundcolor": "#E5ECF6",
            "gridcolor": "white",
            "gridwidth": 2,
            "linecolor": "white",
            "showbackground": true,
            "ticks": "",
            "zerolinecolor": "white"
           },
           "yaxis": {
            "backgroundcolor": "#E5ECF6",
            "gridcolor": "white",
            "gridwidth": 2,
            "linecolor": "white",
            "showbackground": true,
            "ticks": "",
            "zerolinecolor": "white"
           },
           "zaxis": {
            "backgroundcolor": "#E5ECF6",
            "gridcolor": "white",
            "gridwidth": 2,
            "linecolor": "white",
            "showbackground": true,
            "ticks": "",
            "zerolinecolor": "white"
           }
          },
          "shapedefaults": {
           "line": {
            "color": "#2a3f5f"
           }
          },
          "ternary": {
           "aaxis": {
            "gridcolor": "white",
            "linecolor": "white",
            "ticks": ""
           },
           "baxis": {
            "gridcolor": "white",
            "linecolor": "white",
            "ticks": ""
           },
           "bgcolor": "#E5ECF6",
           "caxis": {
            "gridcolor": "white",
            "linecolor": "white",
            "ticks": ""
           }
          },
          "title": {
           "x": 0.05
          },
          "xaxis": {
           "automargin": true,
           "gridcolor": "white",
           "linecolor": "white",
           "ticks": "",
           "title": {
            "standoff": 15
           },
           "zerolinecolor": "white",
           "zerolinewidth": 2
          },
          "yaxis": {
           "automargin": true,
           "gridcolor": "white",
           "linecolor": "white",
           "ticks": "",
           "title": {
            "standoff": 15
           },
           "zerolinecolor": "white",
           "zerolinewidth": 2
          }
         }
        },
        "title": {
         "text": "R1 Structures: Frequency and Impact on Score Relative to All Factions Average (148.13): ambas"
        }
       }
      },
      "text/html": [
       "<div>                            <div id=\"a517e9af-4a33-499f-80ec-505e881c0b92\" class=\"plotly-graph-div\" style=\"height:525px; width:100%;\"></div>            <script type=\"text/javascript\">                require([\"plotly\"], function(Plotly) {                    window.PLOTLYENV=window.PLOTLYENV || {};                                    if (document.getElementById(\"a517e9af-4a33-499f-80ec-505e881c0b92\")) {                    Plotly.newPlot(                        \"a517e9af-4a33-499f-80ec-505e881c0b92\",                        [{\"branchvalues\":\"total\",\"customdata\":[[130.42857142857142,152.28571428571428],[88.0,132.5],[40.0,134.0],[257.4,165.8],[226.26666666666668,154.30833333333334],[198.33333333333334,100.16666666666667],[130.0,118.0],[198.42857142857142,123.42857142857143],[315.0,187.0],[31.0,103.0],[130.77777777777777,129.25925925925927],[50.0,139.5],[65.0,164.0],[130.0,149.33333333333334],[143.0,150.0],[239.85777777777778,160.38532110091742],[174.4,145.175],[209.0,163.4],[104.66666666666667,122.0],[217.13089005235602,148.41884816753927],[163.66666666666666,135.66666666666666],[276.0,175.0],[242.66666666666666,151.5],[121.0,170.0],[211.94444444444446,156.55555555555554],[130.5,118.5625],[176.41095890410958,140.58333333333334],[203.05405405405406,153.97222222222223],[120.9,128.3],[67.85714285714286,100.14285714285714],[290.25,174.0],[123.33333333333333,136.66666666666666],[220.9493670886076,155.60256410256412],[140.4,119.8],[181.375,122.25],[218.2258064516129,156.67741935483872],[129.0,118.0],[249.3154761904762,169.17964071856287],[166.8,150.2],[121.0,154.0],[147.0,161.9090909090909],[275.67857142857144,163.55555555555551],[276.7,160.8],[165.0,178.33333333333334],[340.0,219.0],[325.6666666666667,209.33333333333334],[\"(?)\",119.23076923076923],[\"(?)\",158.43667730355006],[\"(?)\",159.0],[\"(?)\",153.70070498230712],[\"(?)\",141.43478260869566],[\"(?)\",148.44210526315788],[\"(?)\",153.78172309010446]],\"domain\":{\"x\":[0.0,1.0],\"y\":[0.0,1.0]},\"hovertemplate\":\"labels=%{label}<br>class_counts=%{value}<br>parent=%{parent}<br>id=%{id}<br>ave_elo_ambas=%{customdata[0]}<br>ave_score_ambas=%{color}<extra></extra>\",\"ids\":[\"R1 Structs/lab/ 0-m_0-ts_2-lab_0-pi_0-ac1_0-ac2\",\"R1 Structs/lab/ 0-m_1-ts_1-lab_0-pi_0-ac1_0-ac2\",\"R1 Structs/ts/ 0-m_3-ts_0-lab_0-pi_0-ac1_0-ac2\",\"R1 Structs/ac2/ 1-m_0-ts_0-lab_0-pi_0-ac1_1-ac2\",\"R1 Structs/ac1/ 1-m_0-ts_0-lab_0-pi_1-ac1_0-ac2\",\"R1 Structs/lab/ 1-m_0-ts_1-lab_0-pi_0-ac1_0-ac2\",\"R1 Structs/PI/ 1-m_0-ts_1-lab_1-pi_0-ac1_0-ac2\",\"R1 Structs/lab/ 1-m_0-ts_2-lab_0-pi_0-ac1_0-ac2\",\"R1 Structs/ac1/ 1-m_1-ts_0-lab_0-pi_1-ac1_0-ac2\",\"R1 Structs/PI/ 1-m_1-ts_0-lab_1-pi_0-ac1_0-ac2\",\"R1 Structs/lab/ 1-m_1-ts_1-lab_0-pi_0-ac1_0-ac2\",\"R1 Structs/ts/ 1-m_2-ts_0-lab_0-pi_0-ac1_0-ac2\",\"R1 Structs/lab/ 1-m_2-ts_1-lab_0-pi_0-ac1_0-ac2\",\"R1 Structs/ts/ 1-m_3-ts_0-lab_0-pi_0-ac1_0-ac2\",\"R1 Structs/ac2/ 2-m_0-ts_0-lab_0-pi_0-ac1_1-ac2\",\"R1 Structs/ac1/ 2-m_0-ts_0-lab_0-pi_1-ac1_0-ac2\",\"R1 Structs/lab/ 2-m_0-ts_1-lab_0-pi_0-ac1_0-ac2\",\"R1 Structs/lab/ 2-m_0-ts_2-lab_0-pi_0-ac1_0-ac2\",\"R1 Structs/PI/ 2-m_1-ts_0-lab_1-pi_0-ac1_0-ac2\",\"R1 Structs/lab/ 2-m_1-ts_1-lab_0-pi_0-ac1_0-ac2\",\"R1 Structs/ts/ 2-m_2-ts_0-lab_0-pi_0-ac1_0-ac2\",\"R1 Structs/lab/ 2-m_2-ts_1-lab_0-pi_0-ac1_0-ac2\",\"R1 Structs/ts/ 2-m_3-ts_0-lab_0-pi_0-ac1_0-ac2\",\"R1 Structs/ac2/ 3-m_0-ts_0-lab_0-pi_0-ac1_1-ac2\",\"R1 Structs/ac1/ 3-m_0-ts_0-lab_0-pi_1-ac1_0-ac2\",\"R1 Structs/PI/ 3-m_0-ts_0-lab_1-pi_0-ac1_0-ac2\",\"R1 Structs/lab/ 3-m_0-ts_1-lab_0-pi_0-ac1_0-ac2\",\"R1 Structs/lab/ 3-m_1-ts_1-lab_0-pi_0-ac1_0-ac2\",\"R1 Structs/ts/ 3-m_2-ts_0-lab_0-pi_0-ac1_0-ac2\",\"R1 Structs/m/ 4-m_0-ts_0-lab_0-pi_0-ac1_0-ac2\",\"R1 Structs/ac1/ 4-m_0-ts_0-lab_0-pi_1-ac1_0-ac2\",\"R1 Structs/PI/ 4-m_0-ts_0-lab_1-pi_0-ac1_0-ac2\",\"R1 Structs/lab/ 4-m_0-ts_1-lab_0-pi_0-ac1_0-ac2\",\"R1 Structs/ts/ 4-m_1-ts_0-lab_0-pi_0-ac1_0-ac2\",\"R1 Structs/lab/ 4-m_1-ts_1-lab_0-pi_0-ac1_0-ac2\",\"R1 Structs/ts/ 4-m_2-ts_0-lab_0-pi_0-ac1_0-ac2\",\"R1 Structs/m/ 5-m_0-ts_0-lab_0-pi_0-ac1_0-ac2\",\"R1 Structs/lab/ 5-m_0-ts_1-lab_0-pi_0-ac1_0-ac2\",\"R1 Structs/ts/ 5-m_1-ts_0-lab_0-pi_0-ac1_0-ac2\",\"R1 Structs/ts/ 5-m_2-ts_0-lab_0-pi_0-ac1_0-ac2\",\"R1 Structs/m/ 6-m_0-ts_0-lab_0-pi_0-ac1_0-ac2\",\"R1 Structs/lab/ 6-m_0-ts_1-lab_0-pi_0-ac1_0-ac2\",\"R1 Structs/ts/ 6-m_1-ts_0-lab_0-pi_0-ac1_0-ac2\",\"R1 Structs/m/ 7-m_0-ts_0-lab_0-pi_0-ac1_0-ac2\",\"R1 Structs/lab/ 7-m_0-ts_1-lab_0-pi_0-ac1_0-ac2\",\"R1 Structs/ts/ 7-m_1-ts_0-lab_0-pi_0-ac1_0-ac2\",\"R1 Structs/PI\",\"R1 Structs/ac1\",\"R1 Structs/ac2\",\"R1 Structs/lab\",\"R1 Structs/m\",\"R1 Structs/ts\",\"R1 Structs\"],\"labels\":[\" 0-m_0-ts_2-lab_0-pi_0-ac1_0-ac2\",\" 0-m_1-ts_1-lab_0-pi_0-ac1_0-ac2\",\" 0-m_3-ts_0-lab_0-pi_0-ac1_0-ac2\",\" 1-m_0-ts_0-lab_0-pi_0-ac1_1-ac2\",\" 1-m_0-ts_0-lab_0-pi_1-ac1_0-ac2\",\" 1-m_0-ts_1-lab_0-pi_0-ac1_0-ac2\",\" 1-m_0-ts_1-lab_1-pi_0-ac1_0-ac2\",\" 1-m_0-ts_2-lab_0-pi_0-ac1_0-ac2\",\" 1-m_1-ts_0-lab_0-pi_1-ac1_0-ac2\",\" 1-m_1-ts_0-lab_1-pi_0-ac1_0-ac2\",\" 1-m_1-ts_1-lab_0-pi_0-ac1_0-ac2\",\" 1-m_2-ts_0-lab_0-pi_0-ac1_0-ac2\",\" 1-m_2-ts_1-lab_0-pi_0-ac1_0-ac2\",\" 1-m_3-ts_0-lab_0-pi_0-ac1_0-ac2\",\" 2-m_0-ts_0-lab_0-pi_0-ac1_1-ac2\",\" 2-m_0-ts_0-lab_0-pi_1-ac1_0-ac2\",\" 2-m_0-ts_1-lab_0-pi_0-ac1_0-ac2\",\" 2-m_0-ts_2-lab_0-pi_0-ac1_0-ac2\",\" 2-m_1-ts_0-lab_1-pi_0-ac1_0-ac2\",\" 2-m_1-ts_1-lab_0-pi_0-ac1_0-ac2\",\" 2-m_2-ts_0-lab_0-pi_0-ac1_0-ac2\",\" 2-m_2-ts_1-lab_0-pi_0-ac1_0-ac2\",\" 2-m_3-ts_0-lab_0-pi_0-ac1_0-ac2\",\" 3-m_0-ts_0-lab_0-pi_0-ac1_1-ac2\",\" 3-m_0-ts_0-lab_0-pi_1-ac1_0-ac2\",\" 3-m_0-ts_0-lab_1-pi_0-ac1_0-ac2\",\" 3-m_0-ts_1-lab_0-pi_0-ac1_0-ac2\",\" 3-m_1-ts_1-lab_0-pi_0-ac1_0-ac2\",\" 3-m_2-ts_0-lab_0-pi_0-ac1_0-ac2\",\" 4-m_0-ts_0-lab_0-pi_0-ac1_0-ac2\",\" 4-m_0-ts_0-lab_0-pi_1-ac1_0-ac2\",\" 4-m_0-ts_0-lab_1-pi_0-ac1_0-ac2\",\" 4-m_0-ts_1-lab_0-pi_0-ac1_0-ac2\",\" 4-m_1-ts_0-lab_0-pi_0-ac1_0-ac2\",\" 4-m_1-ts_1-lab_0-pi_0-ac1_0-ac2\",\" 4-m_2-ts_0-lab_0-pi_0-ac1_0-ac2\",\" 5-m_0-ts_0-lab_0-pi_0-ac1_0-ac2\",\" 5-m_0-ts_1-lab_0-pi_0-ac1_0-ac2\",\" 5-m_1-ts_0-lab_0-pi_0-ac1_0-ac2\",\" 5-m_2-ts_0-lab_0-pi_0-ac1_0-ac2\",\" 6-m_0-ts_0-lab_0-pi_0-ac1_0-ac2\",\" 6-m_0-ts_1-lab_0-pi_0-ac1_0-ac2\",\" 6-m_1-ts_0-lab_0-pi_0-ac1_0-ac2\",\" 7-m_0-ts_0-lab_0-pi_0-ac1_0-ac2\",\" 7-m_0-ts_1-lab_0-pi_0-ac1_0-ac2\",\" 7-m_1-ts_0-lab_0-pi_0-ac1_0-ac2\",\"PI\",\"ac1\",\"ac2\",\"lab\",\"m\",\"ts\",\"R1 Structs\"],\"marker\":{\"coloraxis\":\"coloraxis\",\"colors\":[152.28571428571428,132.5,134.0,165.8,154.30833333333334,100.16666666666667,118.0,123.42857142857143,187.0,103.0,129.25925925925927,139.5,164.0,149.33333333333334,150.0,160.38532110091742,145.175,163.4,122.0,148.41884816753927,135.66666666666666,175.0,151.5,170.0,156.55555555555554,118.5625,140.58333333333334,153.97222222222223,128.3,100.14285714285714,174.0,136.66666666666666,155.60256410256412,119.8,122.25,156.67741935483872,118.0,169.17964071856287,150.2,154.0,161.9090909090909,163.55555555555551,160.8,178.33333333333334,219.0,209.33333333333334,119.23076923076923,158.43667730355006,159.0,153.70070498230712,141.43478260869566,148.44210526315788,153.78172309010446]},\"name\":\"\",\"parents\":[\"R1 Structs/lab\",\"R1 Structs/lab\",\"R1 Structs/ts\",\"R1 Structs/ac2\",\"R1 Structs/ac1\",\"R1 Structs/lab\",\"R1 Structs/PI\",\"R1 Structs/lab\",\"R1 Structs/ac1\",\"R1 Structs/PI\",\"R1 Structs/lab\",\"R1 Structs/ts\",\"R1 Structs/lab\",\"R1 Structs/ts\",\"R1 Structs/ac2\",\"R1 Structs/ac1\",\"R1 Structs/lab\",\"R1 Structs/lab\",\"R1 Structs/PI\",\"R1 Structs/lab\",\"R1 Structs/ts\",\"R1 Structs/lab\",\"R1 Structs/ts\",\"R1 Structs/ac2\",\"R1 Structs/ac1\",\"R1 Structs/PI\",\"R1 Structs/lab\",\"R1 Structs/lab\",\"R1 Structs/ts\",\"R1 Structs/m\",\"R1 Structs/ac1\",\"R1 Structs/PI\",\"R1 Structs/lab\",\"R1 Structs/ts\",\"R1 Structs/lab\",\"R1 Structs/ts\",\"R1 Structs/m\",\"R1 Structs/lab\",\"R1 Structs/ts\",\"R1 Structs/ts\",\"R1 Structs/m\",\"R1 Structs/lab\",\"R1 Structs/ts\",\"R1 Structs/m\",\"R1 Structs/lab\",\"R1 Structs/ts\",\"R1 Structs\",\"R1 Structs\",\"R1 Structs\",\"R1 Structs\",\"R1 Structs\",\"R1 Structs\",\"\"],\"values\":[7,2,2,5,120,6,1,7,1,3,27,2,1,3,5,225,40,5,3,191,6,2,6,1,18,16,73,37,10,7,4,3,395,10,8,31,2,168,10,2,11,28,10,3,1,3,26,368,11,998,23,95,1521],\"type\":\"treemap\"}],                        {\"template\":{\"data\":{\"bar\":[{\"error_x\":{\"color\":\"#2a3f5f\"},\"error_y\":{\"color\":\"#2a3f5f\"},\"marker\":{\"line\":{\"color\":\"#E5ECF6\",\"width\":0.5},\"pattern\":{\"fillmode\":\"overlay\",\"size\":10,\"solidity\":0.2}},\"type\":\"bar\"}],\"barpolar\":[{\"marker\":{\"line\":{\"color\":\"#E5ECF6\",\"width\":0.5},\"pattern\":{\"fillmode\":\"overlay\",\"size\":10,\"solidity\":0.2}},\"type\":\"barpolar\"}],\"carpet\":[{\"aaxis\":{\"endlinecolor\":\"#2a3f5f\",\"gridcolor\":\"white\",\"linecolor\":\"white\",\"minorgridcolor\":\"white\",\"startlinecolor\":\"#2a3f5f\"},\"baxis\":{\"endlinecolor\":\"#2a3f5f\",\"gridcolor\":\"white\",\"linecolor\":\"white\",\"minorgridcolor\":\"white\",\"startlinecolor\":\"#2a3f5f\"},\"type\":\"carpet\"}],\"choropleth\":[{\"colorbar\":{\"outlinewidth\":0,\"ticks\":\"\"},\"type\":\"choropleth\"}],\"contour\":[{\"colorbar\":{\"outlinewidth\":0,\"ticks\":\"\"},\"colorscale\":[[0.0,\"#0d0887\"],[0.1111111111111111,\"#46039f\"],[0.2222222222222222,\"#7201a8\"],[0.3333333333333333,\"#9c179e\"],[0.4444444444444444,\"#bd3786\"],[0.5555555555555556,\"#d8576b\"],[0.6666666666666666,\"#ed7953\"],[0.7777777777777778,\"#fb9f3a\"],[0.8888888888888888,\"#fdca26\"],[1.0,\"#f0f921\"]],\"type\":\"contour\"}],\"contourcarpet\":[{\"colorbar\":{\"outlinewidth\":0,\"ticks\":\"\"},\"type\":\"contourcarpet\"}],\"heatmap\":[{\"colorbar\":{\"outlinewidth\":0,\"ticks\":\"\"},\"colorscale\":[[0.0,\"#0d0887\"],[0.1111111111111111,\"#46039f\"],[0.2222222222222222,\"#7201a8\"],[0.3333333333333333,\"#9c179e\"],[0.4444444444444444,\"#bd3786\"],[0.5555555555555556,\"#d8576b\"],[0.6666666666666666,\"#ed7953\"],[0.7777777777777778,\"#fb9f3a\"],[0.8888888888888888,\"#fdca26\"],[1.0,\"#f0f921\"]],\"type\":\"heatmap\"}],\"heatmapgl\":[{\"colorbar\":{\"outlinewidth\":0,\"ticks\":\"\"},\"colorscale\":[[0.0,\"#0d0887\"],[0.1111111111111111,\"#46039f\"],[0.2222222222222222,\"#7201a8\"],[0.3333333333333333,\"#9c179e\"],[0.4444444444444444,\"#bd3786\"],[0.5555555555555556,\"#d8576b\"],[0.6666666666666666,\"#ed7953\"],[0.7777777777777778,\"#fb9f3a\"],[0.8888888888888888,\"#fdca26\"],[1.0,\"#f0f921\"]],\"type\":\"heatmapgl\"}],\"histogram\":[{\"marker\":{\"pattern\":{\"fillmode\":\"overlay\",\"size\":10,\"solidity\":0.2}},\"type\":\"histogram\"}],\"histogram2d\":[{\"colorbar\":{\"outlinewidth\":0,\"ticks\":\"\"},\"colorscale\":[[0.0,\"#0d0887\"],[0.1111111111111111,\"#46039f\"],[0.2222222222222222,\"#7201a8\"],[0.3333333333333333,\"#9c179e\"],[0.4444444444444444,\"#bd3786\"],[0.5555555555555556,\"#d8576b\"],[0.6666666666666666,\"#ed7953\"],[0.7777777777777778,\"#fb9f3a\"],[0.8888888888888888,\"#fdca26\"],[1.0,\"#f0f921\"]],\"type\":\"histogram2d\"}],\"histogram2dcontour\":[{\"colorbar\":{\"outlinewidth\":0,\"ticks\":\"\"},\"colorscale\":[[0.0,\"#0d0887\"],[0.1111111111111111,\"#46039f\"],[0.2222222222222222,\"#7201a8\"],[0.3333333333333333,\"#9c179e\"],[0.4444444444444444,\"#bd3786\"],[0.5555555555555556,\"#d8576b\"],[0.6666666666666666,\"#ed7953\"],[0.7777777777777778,\"#fb9f3a\"],[0.8888888888888888,\"#fdca26\"],[1.0,\"#f0f921\"]],\"type\":\"histogram2dcontour\"}],\"mesh3d\":[{\"colorbar\":{\"outlinewidth\":0,\"ticks\":\"\"},\"type\":\"mesh3d\"}],\"parcoords\":[{\"line\":{\"colorbar\":{\"outlinewidth\":0,\"ticks\":\"\"}},\"type\":\"parcoords\"}],\"pie\":[{\"automargin\":true,\"type\":\"pie\"}],\"scatter\":[{\"marker\":{\"colorbar\":{\"outlinewidth\":0,\"ticks\":\"\"}},\"type\":\"scatter\"}],\"scatter3d\":[{\"line\":{\"colorbar\":{\"outlinewidth\":0,\"ticks\":\"\"}},\"marker\":{\"colorbar\":{\"outlinewidth\":0,\"ticks\":\"\"}},\"type\":\"scatter3d\"}],\"scattercarpet\":[{\"marker\":{\"colorbar\":{\"outlinewidth\":0,\"ticks\":\"\"}},\"type\":\"scattercarpet\"}],\"scattergeo\":[{\"marker\":{\"colorbar\":{\"outlinewidth\":0,\"ticks\":\"\"}},\"type\":\"scattergeo\"}],\"scattergl\":[{\"marker\":{\"colorbar\":{\"outlinewidth\":0,\"ticks\":\"\"}},\"type\":\"scattergl\"}],\"scattermapbox\":[{\"marker\":{\"colorbar\":{\"outlinewidth\":0,\"ticks\":\"\"}},\"type\":\"scattermapbox\"}],\"scatterpolar\":[{\"marker\":{\"colorbar\":{\"outlinewidth\":0,\"ticks\":\"\"}},\"type\":\"scatterpolar\"}],\"scatterpolargl\":[{\"marker\":{\"colorbar\":{\"outlinewidth\":0,\"ticks\":\"\"}},\"type\":\"scatterpolargl\"}],\"scatterternary\":[{\"marker\":{\"colorbar\":{\"outlinewidth\":0,\"ticks\":\"\"}},\"type\":\"scatterternary\"}],\"surface\":[{\"colorbar\":{\"outlinewidth\":0,\"ticks\":\"\"},\"colorscale\":[[0.0,\"#0d0887\"],[0.1111111111111111,\"#46039f\"],[0.2222222222222222,\"#7201a8\"],[0.3333333333333333,\"#9c179e\"],[0.4444444444444444,\"#bd3786\"],[0.5555555555555556,\"#d8576b\"],[0.6666666666666666,\"#ed7953\"],[0.7777777777777778,\"#fb9f3a\"],[0.8888888888888888,\"#fdca26\"],[1.0,\"#f0f921\"]],\"type\":\"surface\"}],\"table\":[{\"cells\":{\"fill\":{\"color\":\"#EBF0F8\"},\"line\":{\"color\":\"white\"}},\"header\":{\"fill\":{\"color\":\"#C8D4E3\"},\"line\":{\"color\":\"white\"}},\"type\":\"table\"}]},\"layout\":{\"annotationdefaults\":{\"arrowcolor\":\"#2a3f5f\",\"arrowhead\":0,\"arrowwidth\":1},\"autotypenumbers\":\"strict\",\"coloraxis\":{\"colorbar\":{\"outlinewidth\":0,\"ticks\":\"\"}},\"colorscale\":{\"diverging\":[[0,\"#8e0152\"],[0.1,\"#c51b7d\"],[0.2,\"#de77ae\"],[0.3,\"#f1b6da\"],[0.4,\"#fde0ef\"],[0.5,\"#f7f7f7\"],[0.6,\"#e6f5d0\"],[0.7,\"#b8e186\"],[0.8,\"#7fbc41\"],[0.9,\"#4d9221\"],[1,\"#276419\"]],\"sequential\":[[0.0,\"#0d0887\"],[0.1111111111111111,\"#46039f\"],[0.2222222222222222,\"#7201a8\"],[0.3333333333333333,\"#9c179e\"],[0.4444444444444444,\"#bd3786\"],[0.5555555555555556,\"#d8576b\"],[0.6666666666666666,\"#ed7953\"],[0.7777777777777778,\"#fb9f3a\"],[0.8888888888888888,\"#fdca26\"],[1.0,\"#f0f921\"]],\"sequentialminus\":[[0.0,\"#0d0887\"],[0.1111111111111111,\"#46039f\"],[0.2222222222222222,\"#7201a8\"],[0.3333333333333333,\"#9c179e\"],[0.4444444444444444,\"#bd3786\"],[0.5555555555555556,\"#d8576b\"],[0.6666666666666666,\"#ed7953\"],[0.7777777777777778,\"#fb9f3a\"],[0.8888888888888888,\"#fdca26\"],[1.0,\"#f0f921\"]]},\"colorway\":[\"#636efa\",\"#EF553B\",\"#00cc96\",\"#ab63fa\",\"#FFA15A\",\"#19d3f3\",\"#FF6692\",\"#B6E880\",\"#FF97FF\",\"#FECB52\"],\"font\":{\"color\":\"#2a3f5f\"},\"geo\":{\"bgcolor\":\"white\",\"lakecolor\":\"white\",\"landcolor\":\"#E5ECF6\",\"showlakes\":true,\"showland\":true,\"subunitcolor\":\"white\"},\"hoverlabel\":{\"align\":\"left\"},\"hovermode\":\"closest\",\"mapbox\":{\"style\":\"light\"},\"paper_bgcolor\":\"white\",\"plot_bgcolor\":\"#E5ECF6\",\"polar\":{\"angularaxis\":{\"gridcolor\":\"white\",\"linecolor\":\"white\",\"ticks\":\"\"},\"bgcolor\":\"#E5ECF6\",\"radialaxis\":{\"gridcolor\":\"white\",\"linecolor\":\"white\",\"ticks\":\"\"}},\"scene\":{\"xaxis\":{\"backgroundcolor\":\"#E5ECF6\",\"gridcolor\":\"white\",\"gridwidth\":2,\"linecolor\":\"white\",\"showbackground\":true,\"ticks\":\"\",\"zerolinecolor\":\"white\"},\"yaxis\":{\"backgroundcolor\":\"#E5ECF6\",\"gridcolor\":\"white\",\"gridwidth\":2,\"linecolor\":\"white\",\"showbackground\":true,\"ticks\":\"\",\"zerolinecolor\":\"white\"},\"zaxis\":{\"backgroundcolor\":\"#E5ECF6\",\"gridcolor\":\"white\",\"gridwidth\":2,\"linecolor\":\"white\",\"showbackground\":true,\"ticks\":\"\",\"zerolinecolor\":\"white\"}},\"shapedefaults\":{\"line\":{\"color\":\"#2a3f5f\"}},\"ternary\":{\"aaxis\":{\"gridcolor\":\"white\",\"linecolor\":\"white\",\"ticks\":\"\"},\"baxis\":{\"gridcolor\":\"white\",\"linecolor\":\"white\",\"ticks\":\"\"},\"bgcolor\":\"#E5ECF6\",\"caxis\":{\"gridcolor\":\"white\",\"linecolor\":\"white\",\"ticks\":\"\"}},\"title\":{\"x\":0.05},\"xaxis\":{\"automargin\":true,\"gridcolor\":\"white\",\"linecolor\":\"white\",\"ticks\":\"\",\"title\":{\"standoff\":15},\"zerolinecolor\":\"white\",\"zerolinewidth\":2},\"yaxis\":{\"automargin\":true,\"gridcolor\":\"white\",\"linecolor\":\"white\",\"ticks\":\"\",\"title\":{\"standoff\":15},\"zerolinecolor\":\"white\",\"zerolinewidth\":2}}},\"coloraxis\":{\"colorbar\":{\"title\":{\"text\":\"ave_score_ambas\"}},\"colorscale\":[[0.0,\"rgb(103,0,31)\"],[0.1,\"rgb(178,24,43)\"],[0.2,\"rgb(214,96,77)\"],[0.3,\"rgb(244,165,130)\"],[0.4,\"rgb(253,219,199)\"],[0.5,\"rgb(247,247,247)\"],[0.6,\"rgb(209,229,240)\"],[0.7,\"rgb(146,197,222)\"],[0.8,\"rgb(67,147,195)\"],[0.9,\"rgb(33,102,172)\"],[1.0,\"rgb(5,48,97)\"]],\"cmid\":148.12743354661777},\"legend\":{\"tracegroupgap\":0},\"margin\":{\"t\":50,\"l\":25,\"r\":25,\"b\":25},\"title\":{\"text\":\"R1 Structures: Frequency and Impact on Score Relative to All Factions Average (148.13): ambas\"}},                        {\"responsive\": true}                    ).then(function(){\n",
       "                            \n",
       "var gd = document.getElementById('a517e9af-4a33-499f-80ec-505e881c0b92');\n",
       "var x = new MutationObserver(function (mutations, observer) {{\n",
       "        var display = window.getComputedStyle(gd).display;\n",
       "        if (!display || display === 'none') {{\n",
       "            console.log([gd, 'removed!']);\n",
       "            Plotly.purge(gd);\n",
       "            observer.disconnect();\n",
       "        }}\n",
       "}});\n",
       "\n",
       "// Listen for the removal of the full notebook cells\n",
       "var notebookContainer = gd.closest('#notebook-container');\n",
       "if (notebookContainer) {{\n",
       "    x.observe(notebookContainer, {childList: true});\n",
       "}}\n",
       "\n",
       "// Listen for the clearing of the current output cell\n",
       "var outputEl = gd.closest('.output');\n",
       "if (outputEl) {{\n",
       "    x.observe(outputEl, {childList: true});\n",
       "}}\n",
       "\n",
       "                        })                };                });            </script>        </div>"
      ]
     },
     "metadata": {},
     "output_type": "display_data"
    },
    {
     "data": {
      "application/vnd.plotly.v1+json": {
       "config": {
        "plotlyServerURL": "https://plot.ly"
       },
       "data": [
        {
         "branchvalues": "total",
         "customdata": [
          [
           226.8,
           146.8
          ],
          [
           242,
           175
          ],
          [
           113,
           142.66666666666666
          ],
          [
           1,
           133
          ],
          [
           85.5,
           114
          ],
          [
           196.5,
           146.33333333333334
          ],
          [
           182,
           158
          ],
          [
           121,
           188.5
          ],
          [
           230.2439024390244,
           163.28455284552845
          ],
          [
           110.75,
           122.75
          ],
          [
           153.4,
           142
          ],
          [
           298.4888888888889,
           170.53333333333333
          ],
          [
           100,
           135
          ],
          [
           259.44444444444446,
           175.83333333333334
          ],
          [
           197.05882352941177,
           132.05882352941177
          ],
          [
           246,
           204.33333333333334
          ],
          [
           198.30769230769232,
           167.30769230769232
          ],
          [
           260.72727272727275,
           160.0909090909091
          ],
          [
           256.81541218637994,
           170.21660649819495
          ],
          [
           91.30434782608695,
           110.26086956521739
          ],
          [
           169.01785714285714,
           141.1851851851852
          ],
          [
           125.66666666666667,
           162
          ],
          [
           295.95652173913044,
           173.0735294117647
          ],
          [
           245,
           197
          ],
          [
           293.4,
           186.6
          ],
          [
           118.88888888888889,
           153.11111111111111
          ],
          [
           207.14594594594595,
           157.94594594594594
          ],
          [
           256.5,
           182.375
          ],
          [
           157.5,
           157.42857142857142
          ],
          [
           264.2113821138211,
           178.77685950413223
          ],
          [
           90.6875,
           113.3125
          ],
          [
           168.56666666666666,
           140.54444444444445
          ],
          [
           274.85714285714283,
           180.28571428571428
          ],
          [
           200.66666666666666,
           162.79166666666666
          ],
          [
           164,
           115
          ],
          [
           104.5,
           108.5
          ],
          [
           169.5,
           164.5
          ],
          [
           248.19444444444446,
           178.02857142857144
          ],
          [
           184.33333333333334,
           135.33333333333334
          ],
          [
           211.57931034482758,
           156.12056737588654
          ],
          [
           367.5,
           197.5
          ],
          [
           260.2352941176471,
           176.64705882352942
          ],
          [
           61.5,
           125
          ],
          [
           314,
           203.6
          ],
          [
           234.41836734693877,
           174.87628865979383
          ],
          [
           161,
           191
          ],
          [
           267,
           188.47619047619048
          ],
          [
           1,
           161
          ],
          [
           317.5,
           205.5
          ],
          [
           "(?)",
           127.67647058823529
          ],
          [
           "(?)",
           171.33910690341943
          ],
          [
           "(?)",
           163.67032967032966
          ],
          [
           "(?)",
           159.2803386785917
          ],
          [
           "(?)",
           125.6
          ],
          [
           "(?)",
           154.66666666666666
          ],
          [
           "(?)",
           163.9273763698154
          ]
         ],
         "domain": {
          "x": [
           0,
           1
          ],
          "y": [
           0,
           1
          ]
         },
         "hovertemplate": "labels=%{label}<br>class_counts=%{value}<br>parent=%{parent}<br>id=%{id}<br>ave_elo_taklons=%{customdata[0]}<br>ave_score_taklons=%{color}<extra></extra>",
         "ids": [
          "R1 Structs/PI/ 0-m_0-ts_1-lab_1-pi_0-ac1_0-ac2",
          "R1 Structs/lab/ 0-m_0-ts_2-lab_0-pi_0-ac1_0-ac2",
          "R1 Structs/ac1/ 0-m_1-ts_0-lab_0-pi_1-ac1_0-ac2",
          "R1 Structs/PI/ 0-m_1-ts_0-lab_1-pi_0-ac1_0-ac2",
          "R1 Structs/lab/ 0-m_1-ts_1-lab_0-pi_0-ac1_0-ac2",
          "R1 Structs/lab/ 0-m_2-ts_1-lab_0-pi_0-ac1_0-ac2",
          "R1 Structs/ts/ 0-m_3-ts_0-lab_0-pi_0-ac1_0-ac2",
          "R1 Structs/ac2/ 1-m_0-ts_0-lab_0-pi_0-ac1_1-ac2",
          "R1 Structs/ac1/ 1-m_0-ts_0-lab_0-pi_1-ac1_0-ac2",
          "R1 Structs/lab/ 1-m_0-ts_1-lab_0-pi_0-ac1_0-ac2",
          "R1 Structs/PI/ 1-m_0-ts_1-lab_1-pi_0-ac1_0-ac2",
          "R1 Structs/lab/ 1-m_0-ts_2-lab_0-pi_0-ac1_0-ac2",
          "R1 Structs/ac2/ 1-m_1-ts_0-lab_0-pi_0-ac1_1-ac2",
          "R1 Structs/ac1/ 1-m_1-ts_0-lab_0-pi_1-ac1_0-ac2",
          "R1 Structs/lab/ 1-m_1-ts_1-lab_0-pi_0-ac1_0-ac2",
          "R1 Structs/lab/ 1-m_1-ts_2-lab_0-pi_0-ac1_0-ac2",
          "R1 Structs/lab/ 1-m_2-ts_1-lab_0-pi_0-ac1_0-ac2",
          "R1 Structs/ac2/ 2-m_0-ts_0-lab_0-pi_0-ac1_1-ac2",
          "R1 Structs/ac1/ 2-m_0-ts_0-lab_0-pi_1-ac1_0-ac2",
          "R1 Structs/PI/ 2-m_0-ts_0-lab_1-pi_0-ac1_0-ac2",
          "R1 Structs/lab/ 2-m_0-ts_1-lab_0-pi_0-ac1_0-ac2",
          "R1 Structs/PI/ 2-m_0-ts_1-lab_1-pi_0-ac1_0-ac2",
          "R1 Structs/lab/ 2-m_0-ts_2-lab_0-pi_0-ac1_0-ac2",
          "R1 Structs/ac2/ 2-m_1-ts_0-lab_0-pi_0-ac1_1-ac2",
          "R1 Structs/ac1/ 2-m_1-ts_0-lab_0-pi_1-ac1_0-ac2",
          "R1 Structs/PI/ 2-m_1-ts_0-lab_1-pi_0-ac1_0-ac2",
          "R1 Structs/lab/ 2-m_1-ts_1-lab_0-pi_0-ac1_0-ac2",
          "R1 Structs/lab/ 2-m_2-ts_1-lab_0-pi_0-ac1_0-ac2",
          "R1 Structs/ac2/ 3-m_0-ts_0-lab_0-pi_0-ac1_1-ac2",
          "R1 Structs/ac1/ 3-m_0-ts_0-lab_0-pi_1-ac1_0-ac2",
          "R1 Structs/PI/ 3-m_0-ts_0-lab_1-pi_0-ac1_0-ac2",
          "R1 Structs/lab/ 3-m_0-ts_1-lab_0-pi_0-ac1_0-ac2",
          "R1 Structs/lab/ 3-m_0-ts_2-lab_0-pi_0-ac1_0-ac2",
          "R1 Structs/lab/ 3-m_1-ts_1-lab_0-pi_0-ac1_0-ac2",
          "R1 Structs/ts/ 3-m_2-ts_0-lab_0-pi_0-ac1_0-ac2",
          "R1 Structs/m/ 4-m_0-ts_0-lab_0-pi_0-ac1_0-ac2",
          "R1 Structs/ac2/ 4-m_0-ts_0-lab_0-pi_0-ac1_1-ac2",
          "R1 Structs/ac1/ 4-m_0-ts_0-lab_0-pi_1-ac1_0-ac2",
          "R1 Structs/PI/ 4-m_0-ts_0-lab_1-pi_0-ac1_0-ac2",
          "R1 Structs/lab/ 4-m_0-ts_1-lab_0-pi_0-ac1_0-ac2",
          "R1 Structs/lab/ 4-m_0-ts_2-lab_0-pi_0-ac1_0-ac2",
          "R1 Structs/lab/ 4-m_1-ts_1-lab_0-pi_0-ac1_0-ac2",
          "R1 Structs/m/ 5-m_0-ts_0-lab_0-pi_0-ac1_0-ac2",
          "R1 Structs/ac1/ 5-m_0-ts_0-lab_0-pi_1-ac1_0-ac2",
          "R1 Structs/lab/ 5-m_0-ts_1-lab_0-pi_0-ac1_0-ac2",
          "R1 Structs/ts/ 5-m_1-ts_0-lab_0-pi_0-ac1_0-ac2",
          "R1 Structs/lab/ 6-m_0-ts_1-lab_0-pi_0-ac1_0-ac2",
          "R1 Structs/m/ 7-m_0-ts_0-lab_0-pi_0-ac1_0-ac2",
          "R1 Structs/lab/ 7-m_0-ts_1-lab_0-pi_0-ac1_0-ac2",
          "R1 Structs/PI",
          "R1 Structs/ac1",
          "R1 Structs/ac2",
          "R1 Structs/lab",
          "R1 Structs/m",
          "R1 Structs/ts",
          "R1 Structs"
         ],
         "labels": [
          " 0-m_0-ts_1-lab_1-pi_0-ac1_0-ac2",
          " 0-m_0-ts_2-lab_0-pi_0-ac1_0-ac2",
          " 0-m_1-ts_0-lab_0-pi_1-ac1_0-ac2",
          " 0-m_1-ts_0-lab_1-pi_0-ac1_0-ac2",
          " 0-m_1-ts_1-lab_0-pi_0-ac1_0-ac2",
          " 0-m_2-ts_1-lab_0-pi_0-ac1_0-ac2",
          " 0-m_3-ts_0-lab_0-pi_0-ac1_0-ac2",
          " 1-m_0-ts_0-lab_0-pi_0-ac1_1-ac2",
          " 1-m_0-ts_0-lab_0-pi_1-ac1_0-ac2",
          " 1-m_0-ts_1-lab_0-pi_0-ac1_0-ac2",
          " 1-m_0-ts_1-lab_1-pi_0-ac1_0-ac2",
          " 1-m_0-ts_2-lab_0-pi_0-ac1_0-ac2",
          " 1-m_1-ts_0-lab_0-pi_0-ac1_1-ac2",
          " 1-m_1-ts_0-lab_0-pi_1-ac1_0-ac2",
          " 1-m_1-ts_1-lab_0-pi_0-ac1_0-ac2",
          " 1-m_1-ts_2-lab_0-pi_0-ac1_0-ac2",
          " 1-m_2-ts_1-lab_0-pi_0-ac1_0-ac2",
          " 2-m_0-ts_0-lab_0-pi_0-ac1_1-ac2",
          " 2-m_0-ts_0-lab_0-pi_1-ac1_0-ac2",
          " 2-m_0-ts_0-lab_1-pi_0-ac1_0-ac2",
          " 2-m_0-ts_1-lab_0-pi_0-ac1_0-ac2",
          " 2-m_0-ts_1-lab_1-pi_0-ac1_0-ac2",
          " 2-m_0-ts_2-lab_0-pi_0-ac1_0-ac2",
          " 2-m_1-ts_0-lab_0-pi_0-ac1_1-ac2",
          " 2-m_1-ts_0-lab_0-pi_1-ac1_0-ac2",
          " 2-m_1-ts_0-lab_1-pi_0-ac1_0-ac2",
          " 2-m_1-ts_1-lab_0-pi_0-ac1_0-ac2",
          " 2-m_2-ts_1-lab_0-pi_0-ac1_0-ac2",
          " 3-m_0-ts_0-lab_0-pi_0-ac1_1-ac2",
          " 3-m_0-ts_0-lab_0-pi_1-ac1_0-ac2",
          " 3-m_0-ts_0-lab_1-pi_0-ac1_0-ac2",
          " 3-m_0-ts_1-lab_0-pi_0-ac1_0-ac2",
          " 3-m_0-ts_2-lab_0-pi_0-ac1_0-ac2",
          " 3-m_1-ts_1-lab_0-pi_0-ac1_0-ac2",
          " 3-m_2-ts_0-lab_0-pi_0-ac1_0-ac2",
          " 4-m_0-ts_0-lab_0-pi_0-ac1_0-ac2",
          " 4-m_0-ts_0-lab_0-pi_0-ac1_1-ac2",
          " 4-m_0-ts_0-lab_0-pi_1-ac1_0-ac2",
          " 4-m_0-ts_0-lab_1-pi_0-ac1_0-ac2",
          " 4-m_0-ts_1-lab_0-pi_0-ac1_0-ac2",
          " 4-m_0-ts_2-lab_0-pi_0-ac1_0-ac2",
          " 4-m_1-ts_1-lab_0-pi_0-ac1_0-ac2",
          " 5-m_0-ts_0-lab_0-pi_0-ac1_0-ac2",
          " 5-m_0-ts_0-lab_0-pi_1-ac1_0-ac2",
          " 5-m_0-ts_1-lab_0-pi_0-ac1_0-ac2",
          " 5-m_1-ts_0-lab_0-pi_0-ac1_0-ac2",
          " 6-m_0-ts_1-lab_0-pi_0-ac1_0-ac2",
          " 7-m_0-ts_0-lab_0-pi_0-ac1_0-ac2",
          " 7-m_0-ts_1-lab_0-pi_0-ac1_0-ac2",
          "PI",
          "ac1",
          "ac2",
          "lab",
          "m",
          "ts",
          "R1 Structs"
         ],
         "marker": {
          "coloraxis": "coloraxis",
          "colors": [
           146.8,
           175,
           142.66666666666666,
           133,
           114,
           146.33333333333334,
           158,
           188.5,
           163.28455284552845,
           122.75,
           142,
           170.53333333333333,
           135,
           175.83333333333334,
           132.05882352941177,
           204.33333333333334,
           167.30769230769232,
           160.0909090909091,
           170.21660649819495,
           110.26086956521739,
           141.1851851851852,
           162,
           173.0735294117647,
           197,
           186.6,
           153.11111111111111,
           157.94594594594594,
           182.375,
           157.42857142857142,
           178.77685950413223,
           113.3125,
           140.54444444444445,
           180.28571428571428,
           162.79166666666666,
           115,
           108.5,
           164.5,
           178.02857142857144,
           135.33333333333334,
           156.12056737588654,
           197.5,
           176.64705882352942,
           125,
           203.6,
           174.87628865979383,
           191,
           188.47619047619048,
           161,
           205.5,
           127.67647058823529,
           171.33910690341943,
           163.67032967032966,
           159.2803386785917,
           125.6,
           154.66666666666666,
           163.9273763698154
          ]
         },
         "name": "",
         "parents": [
          "R1 Structs/PI",
          "R1 Structs/lab",
          "R1 Structs/ac1",
          "R1 Structs/PI",
          "R1 Structs/lab",
          "R1 Structs/lab",
          "R1 Structs/ts",
          "R1 Structs/ac2",
          "R1 Structs/ac1",
          "R1 Structs/lab",
          "R1 Structs/PI",
          "R1 Structs/lab",
          "R1 Structs/ac2",
          "R1 Structs/ac1",
          "R1 Structs/lab",
          "R1 Structs/lab",
          "R1 Structs/lab",
          "R1 Structs/ac2",
          "R1 Structs/ac1",
          "R1 Structs/PI",
          "R1 Structs/lab",
          "R1 Structs/PI",
          "R1 Structs/lab",
          "R1 Structs/ac2",
          "R1 Structs/ac1",
          "R1 Structs/PI",
          "R1 Structs/lab",
          "R1 Structs/lab",
          "R1 Structs/ac2",
          "R1 Structs/ac1",
          "R1 Structs/PI",
          "R1 Structs/lab",
          "R1 Structs/lab",
          "R1 Structs/lab",
          "R1 Structs/ts",
          "R1 Structs/m",
          "R1 Structs/ac2",
          "R1 Structs/ac1",
          "R1 Structs/PI",
          "R1 Structs/lab",
          "R1 Structs/lab",
          "R1 Structs/lab",
          "R1 Structs/m",
          "R1 Structs/ac1",
          "R1 Structs/lab",
          "R1 Structs/ts",
          "R1 Structs/lab",
          "R1 Structs/m",
          "R1 Structs/lab",
          "R1 Structs",
          "R1 Structs",
          "R1 Structs",
          "R1 Structs",
          "R1 Structs",
          "R1 Structs",
          ""
         ],
         "type": "treemap",
         "values": [
          5,
          1,
          3,
          1,
          4,
          6,
          1,
          2,
          123,
          4,
          5,
          45,
          1,
          18,
          34,
          3,
          13,
          11,
          558,
          23,
          56,
          6,
          69,
          2,
          20,
          9,
          185,
          8,
          8,
          123,
          16,
          90,
          7,
          24,
          1,
          2,
          2,
          36,
          3,
          145,
          2,
          17,
          2,
          5,
          98,
          1,
          21,
          1,
          2,
          68,
          886,
          26,
          834,
          5,
          3,
          1822
         ]
        }
       ],
       "layout": {
        "coloraxis": {
         "cmid": 148.12743354661777,
         "colorbar": {
          "title": {
           "text": "ave_score_taklons"
          }
         },
         "colorscale": [
          [
           0,
           "rgb(103,0,31)"
          ],
          [
           0.1,
           "rgb(178,24,43)"
          ],
          [
           0.2,
           "rgb(214,96,77)"
          ],
          [
           0.3,
           "rgb(244,165,130)"
          ],
          [
           0.4,
           "rgb(253,219,199)"
          ],
          [
           0.5,
           "rgb(247,247,247)"
          ],
          [
           0.6,
           "rgb(209,229,240)"
          ],
          [
           0.7,
           "rgb(146,197,222)"
          ],
          [
           0.8,
           "rgb(67,147,195)"
          ],
          [
           0.9,
           "rgb(33,102,172)"
          ],
          [
           1,
           "rgb(5,48,97)"
          ]
         ]
        },
        "legend": {
         "tracegroupgap": 0
        },
        "margin": {
         "b": 25,
         "l": 25,
         "r": 25,
         "t": 50
        },
        "template": {
         "data": {
          "bar": [
           {
            "error_x": {
             "color": "#2a3f5f"
            },
            "error_y": {
             "color": "#2a3f5f"
            },
            "marker": {
             "line": {
              "color": "#E5ECF6",
              "width": 0.5
             },
             "pattern": {
              "fillmode": "overlay",
              "size": 10,
              "solidity": 0.2
             }
            },
            "type": "bar"
           }
          ],
          "barpolar": [
           {
            "marker": {
             "line": {
              "color": "#E5ECF6",
              "width": 0.5
             },
             "pattern": {
              "fillmode": "overlay",
              "size": 10,
              "solidity": 0.2
             }
            },
            "type": "barpolar"
           }
          ],
          "carpet": [
           {
            "aaxis": {
             "endlinecolor": "#2a3f5f",
             "gridcolor": "white",
             "linecolor": "white",
             "minorgridcolor": "white",
             "startlinecolor": "#2a3f5f"
            },
            "baxis": {
             "endlinecolor": "#2a3f5f",
             "gridcolor": "white",
             "linecolor": "white",
             "minorgridcolor": "white",
             "startlinecolor": "#2a3f5f"
            },
            "type": "carpet"
           }
          ],
          "choropleth": [
           {
            "colorbar": {
             "outlinewidth": 0,
             "ticks": ""
            },
            "type": "choropleth"
           }
          ],
          "contour": [
           {
            "colorbar": {
             "outlinewidth": 0,
             "ticks": ""
            },
            "colorscale": [
             [
              0,
              "#0d0887"
             ],
             [
              0.1111111111111111,
              "#46039f"
             ],
             [
              0.2222222222222222,
              "#7201a8"
             ],
             [
              0.3333333333333333,
              "#9c179e"
             ],
             [
              0.4444444444444444,
              "#bd3786"
             ],
             [
              0.5555555555555556,
              "#d8576b"
             ],
             [
              0.6666666666666666,
              "#ed7953"
             ],
             [
              0.7777777777777778,
              "#fb9f3a"
             ],
             [
              0.8888888888888888,
              "#fdca26"
             ],
             [
              1,
              "#f0f921"
             ]
            ],
            "type": "contour"
           }
          ],
          "contourcarpet": [
           {
            "colorbar": {
             "outlinewidth": 0,
             "ticks": ""
            },
            "type": "contourcarpet"
           }
          ],
          "heatmap": [
           {
            "colorbar": {
             "outlinewidth": 0,
             "ticks": ""
            },
            "colorscale": [
             [
              0,
              "#0d0887"
             ],
             [
              0.1111111111111111,
              "#46039f"
             ],
             [
              0.2222222222222222,
              "#7201a8"
             ],
             [
              0.3333333333333333,
              "#9c179e"
             ],
             [
              0.4444444444444444,
              "#bd3786"
             ],
             [
              0.5555555555555556,
              "#d8576b"
             ],
             [
              0.6666666666666666,
              "#ed7953"
             ],
             [
              0.7777777777777778,
              "#fb9f3a"
             ],
             [
              0.8888888888888888,
              "#fdca26"
             ],
             [
              1,
              "#f0f921"
             ]
            ],
            "type": "heatmap"
           }
          ],
          "heatmapgl": [
           {
            "colorbar": {
             "outlinewidth": 0,
             "ticks": ""
            },
            "colorscale": [
             [
              0,
              "#0d0887"
             ],
             [
              0.1111111111111111,
              "#46039f"
             ],
             [
              0.2222222222222222,
              "#7201a8"
             ],
             [
              0.3333333333333333,
              "#9c179e"
             ],
             [
              0.4444444444444444,
              "#bd3786"
             ],
             [
              0.5555555555555556,
              "#d8576b"
             ],
             [
              0.6666666666666666,
              "#ed7953"
             ],
             [
              0.7777777777777778,
              "#fb9f3a"
             ],
             [
              0.8888888888888888,
              "#fdca26"
             ],
             [
              1,
              "#f0f921"
             ]
            ],
            "type": "heatmapgl"
           }
          ],
          "histogram": [
           {
            "marker": {
             "pattern": {
              "fillmode": "overlay",
              "size": 10,
              "solidity": 0.2
             }
            },
            "type": "histogram"
           }
          ],
          "histogram2d": [
           {
            "colorbar": {
             "outlinewidth": 0,
             "ticks": ""
            },
            "colorscale": [
             [
              0,
              "#0d0887"
             ],
             [
              0.1111111111111111,
              "#46039f"
             ],
             [
              0.2222222222222222,
              "#7201a8"
             ],
             [
              0.3333333333333333,
              "#9c179e"
             ],
             [
              0.4444444444444444,
              "#bd3786"
             ],
             [
              0.5555555555555556,
              "#d8576b"
             ],
             [
              0.6666666666666666,
              "#ed7953"
             ],
             [
              0.7777777777777778,
              "#fb9f3a"
             ],
             [
              0.8888888888888888,
              "#fdca26"
             ],
             [
              1,
              "#f0f921"
             ]
            ],
            "type": "histogram2d"
           }
          ],
          "histogram2dcontour": [
           {
            "colorbar": {
             "outlinewidth": 0,
             "ticks": ""
            },
            "colorscale": [
             [
              0,
              "#0d0887"
             ],
             [
              0.1111111111111111,
              "#46039f"
             ],
             [
              0.2222222222222222,
              "#7201a8"
             ],
             [
              0.3333333333333333,
              "#9c179e"
             ],
             [
              0.4444444444444444,
              "#bd3786"
             ],
             [
              0.5555555555555556,
              "#d8576b"
             ],
             [
              0.6666666666666666,
              "#ed7953"
             ],
             [
              0.7777777777777778,
              "#fb9f3a"
             ],
             [
              0.8888888888888888,
              "#fdca26"
             ],
             [
              1,
              "#f0f921"
             ]
            ],
            "type": "histogram2dcontour"
           }
          ],
          "mesh3d": [
           {
            "colorbar": {
             "outlinewidth": 0,
             "ticks": ""
            },
            "type": "mesh3d"
           }
          ],
          "parcoords": [
           {
            "line": {
             "colorbar": {
              "outlinewidth": 0,
              "ticks": ""
             }
            },
            "type": "parcoords"
           }
          ],
          "pie": [
           {
            "automargin": true,
            "type": "pie"
           }
          ],
          "scatter": [
           {
            "marker": {
             "colorbar": {
              "outlinewidth": 0,
              "ticks": ""
             }
            },
            "type": "scatter"
           }
          ],
          "scatter3d": [
           {
            "line": {
             "colorbar": {
              "outlinewidth": 0,
              "ticks": ""
             }
            },
            "marker": {
             "colorbar": {
              "outlinewidth": 0,
              "ticks": ""
             }
            },
            "type": "scatter3d"
           }
          ],
          "scattercarpet": [
           {
            "marker": {
             "colorbar": {
              "outlinewidth": 0,
              "ticks": ""
             }
            },
            "type": "scattercarpet"
           }
          ],
          "scattergeo": [
           {
            "marker": {
             "colorbar": {
              "outlinewidth": 0,
              "ticks": ""
             }
            },
            "type": "scattergeo"
           }
          ],
          "scattergl": [
           {
            "marker": {
             "colorbar": {
              "outlinewidth": 0,
              "ticks": ""
             }
            },
            "type": "scattergl"
           }
          ],
          "scattermapbox": [
           {
            "marker": {
             "colorbar": {
              "outlinewidth": 0,
              "ticks": ""
             }
            },
            "type": "scattermapbox"
           }
          ],
          "scatterpolar": [
           {
            "marker": {
             "colorbar": {
              "outlinewidth": 0,
              "ticks": ""
             }
            },
            "type": "scatterpolar"
           }
          ],
          "scatterpolargl": [
           {
            "marker": {
             "colorbar": {
              "outlinewidth": 0,
              "ticks": ""
             }
            },
            "type": "scatterpolargl"
           }
          ],
          "scatterternary": [
           {
            "marker": {
             "colorbar": {
              "outlinewidth": 0,
              "ticks": ""
             }
            },
            "type": "scatterternary"
           }
          ],
          "surface": [
           {
            "colorbar": {
             "outlinewidth": 0,
             "ticks": ""
            },
            "colorscale": [
             [
              0,
              "#0d0887"
             ],
             [
              0.1111111111111111,
              "#46039f"
             ],
             [
              0.2222222222222222,
              "#7201a8"
             ],
             [
              0.3333333333333333,
              "#9c179e"
             ],
             [
              0.4444444444444444,
              "#bd3786"
             ],
             [
              0.5555555555555556,
              "#d8576b"
             ],
             [
              0.6666666666666666,
              "#ed7953"
             ],
             [
              0.7777777777777778,
              "#fb9f3a"
             ],
             [
              0.8888888888888888,
              "#fdca26"
             ],
             [
              1,
              "#f0f921"
             ]
            ],
            "type": "surface"
           }
          ],
          "table": [
           {
            "cells": {
             "fill": {
              "color": "#EBF0F8"
             },
             "line": {
              "color": "white"
             }
            },
            "header": {
             "fill": {
              "color": "#C8D4E3"
             },
             "line": {
              "color": "white"
             }
            },
            "type": "table"
           }
          ]
         },
         "layout": {
          "annotationdefaults": {
           "arrowcolor": "#2a3f5f",
           "arrowhead": 0,
           "arrowwidth": 1
          },
          "autotypenumbers": "strict",
          "coloraxis": {
           "colorbar": {
            "outlinewidth": 0,
            "ticks": ""
           }
          },
          "colorscale": {
           "diverging": [
            [
             0,
             "#8e0152"
            ],
            [
             0.1,
             "#c51b7d"
            ],
            [
             0.2,
             "#de77ae"
            ],
            [
             0.3,
             "#f1b6da"
            ],
            [
             0.4,
             "#fde0ef"
            ],
            [
             0.5,
             "#f7f7f7"
            ],
            [
             0.6,
             "#e6f5d0"
            ],
            [
             0.7,
             "#b8e186"
            ],
            [
             0.8,
             "#7fbc41"
            ],
            [
             0.9,
             "#4d9221"
            ],
            [
             1,
             "#276419"
            ]
           ],
           "sequential": [
            [
             0,
             "#0d0887"
            ],
            [
             0.1111111111111111,
             "#46039f"
            ],
            [
             0.2222222222222222,
             "#7201a8"
            ],
            [
             0.3333333333333333,
             "#9c179e"
            ],
            [
             0.4444444444444444,
             "#bd3786"
            ],
            [
             0.5555555555555556,
             "#d8576b"
            ],
            [
             0.6666666666666666,
             "#ed7953"
            ],
            [
             0.7777777777777778,
             "#fb9f3a"
            ],
            [
             0.8888888888888888,
             "#fdca26"
            ],
            [
             1,
             "#f0f921"
            ]
           ],
           "sequentialminus": [
            [
             0,
             "#0d0887"
            ],
            [
             0.1111111111111111,
             "#46039f"
            ],
            [
             0.2222222222222222,
             "#7201a8"
            ],
            [
             0.3333333333333333,
             "#9c179e"
            ],
            [
             0.4444444444444444,
             "#bd3786"
            ],
            [
             0.5555555555555556,
             "#d8576b"
            ],
            [
             0.6666666666666666,
             "#ed7953"
            ],
            [
             0.7777777777777778,
             "#fb9f3a"
            ],
            [
             0.8888888888888888,
             "#fdca26"
            ],
            [
             1,
             "#f0f921"
            ]
           ]
          },
          "colorway": [
           "#636efa",
           "#EF553B",
           "#00cc96",
           "#ab63fa",
           "#FFA15A",
           "#19d3f3",
           "#FF6692",
           "#B6E880",
           "#FF97FF",
           "#FECB52"
          ],
          "font": {
           "color": "#2a3f5f"
          },
          "geo": {
           "bgcolor": "white",
           "lakecolor": "white",
           "landcolor": "#E5ECF6",
           "showlakes": true,
           "showland": true,
           "subunitcolor": "white"
          },
          "hoverlabel": {
           "align": "left"
          },
          "hovermode": "closest",
          "mapbox": {
           "style": "light"
          },
          "paper_bgcolor": "white",
          "plot_bgcolor": "#E5ECF6",
          "polar": {
           "angularaxis": {
            "gridcolor": "white",
            "linecolor": "white",
            "ticks": ""
           },
           "bgcolor": "#E5ECF6",
           "radialaxis": {
            "gridcolor": "white",
            "linecolor": "white",
            "ticks": ""
           }
          },
          "scene": {
           "xaxis": {
            "backgroundcolor": "#E5ECF6",
            "gridcolor": "white",
            "gridwidth": 2,
            "linecolor": "white",
            "showbackground": true,
            "ticks": "",
            "zerolinecolor": "white"
           },
           "yaxis": {
            "backgroundcolor": "#E5ECF6",
            "gridcolor": "white",
            "gridwidth": 2,
            "linecolor": "white",
            "showbackground": true,
            "ticks": "",
            "zerolinecolor": "white"
           },
           "zaxis": {
            "backgroundcolor": "#E5ECF6",
            "gridcolor": "white",
            "gridwidth": 2,
            "linecolor": "white",
            "showbackground": true,
            "ticks": "",
            "zerolinecolor": "white"
           }
          },
          "shapedefaults": {
           "line": {
            "color": "#2a3f5f"
           }
          },
          "ternary": {
           "aaxis": {
            "gridcolor": "white",
            "linecolor": "white",
            "ticks": ""
           },
           "baxis": {
            "gridcolor": "white",
            "linecolor": "white",
            "ticks": ""
           },
           "bgcolor": "#E5ECF6",
           "caxis": {
            "gridcolor": "white",
            "linecolor": "white",
            "ticks": ""
           }
          },
          "title": {
           "x": 0.05
          },
          "xaxis": {
           "automargin": true,
           "gridcolor": "white",
           "linecolor": "white",
           "ticks": "",
           "title": {
            "standoff": 15
           },
           "zerolinecolor": "white",
           "zerolinewidth": 2
          },
          "yaxis": {
           "automargin": true,
           "gridcolor": "white",
           "linecolor": "white",
           "ticks": "",
           "title": {
            "standoff": 15
           },
           "zerolinecolor": "white",
           "zerolinewidth": 2
          }
         }
        },
        "title": {
         "text": "R1 Structures: Frequency and Impact on Score Relative to All Factions Average (148.13): taklons"
        }
       }
      },
      "text/html": [
       "<div>                            <div id=\"6c019517-dce3-4c28-a64e-ce57f8b53aa1\" class=\"plotly-graph-div\" style=\"height:525px; width:100%;\"></div>            <script type=\"text/javascript\">                require([\"plotly\"], function(Plotly) {                    window.PLOTLYENV=window.PLOTLYENV || {};                                    if (document.getElementById(\"6c019517-dce3-4c28-a64e-ce57f8b53aa1\")) {                    Plotly.newPlot(                        \"6c019517-dce3-4c28-a64e-ce57f8b53aa1\",                        [{\"branchvalues\":\"total\",\"customdata\":[[226.8,146.8],[242.0,175.0],[113.0,142.66666666666666],[1.0,133.0],[85.5,114.0],[196.5,146.33333333333334],[182.0,158.0],[121.0,188.5],[230.2439024390244,163.28455284552845],[110.75,122.75],[153.4,142.0],[298.4888888888889,170.53333333333333],[100.0,135.0],[259.44444444444446,175.83333333333334],[197.05882352941177,132.05882352941177],[246.0,204.33333333333334],[198.30769230769232,167.30769230769232],[260.72727272727275,160.0909090909091],[256.81541218637994,170.21660649819495],[91.30434782608695,110.26086956521739],[169.01785714285714,141.1851851851852],[125.66666666666667,162.0],[295.95652173913044,173.0735294117647],[245.0,197.0],[293.4,186.6],[118.88888888888889,153.11111111111111],[207.14594594594595,157.94594594594594],[256.5,182.375],[157.5,157.42857142857142],[264.2113821138211,178.77685950413223],[90.6875,113.3125],[168.56666666666666,140.54444444444445],[274.85714285714283,180.28571428571428],[200.66666666666666,162.79166666666666],[164.0,115.0],[104.5,108.5],[169.5,164.5],[248.19444444444446,178.02857142857144],[184.33333333333334,135.33333333333334],[211.57931034482758,156.12056737588654],[367.5,197.5],[260.2352941176471,176.64705882352942],[61.5,125.0],[314.0,203.6],[234.41836734693877,174.87628865979383],[161.0,191.0],[267.0,188.47619047619048],[1.0,161.0],[317.5,205.5],[\"(?)\",127.67647058823529],[\"(?)\",171.33910690341943],[\"(?)\",163.67032967032966],[\"(?)\",159.2803386785917],[\"(?)\",125.6],[\"(?)\",154.66666666666666],[\"(?)\",163.9273763698154]],\"domain\":{\"x\":[0.0,1.0],\"y\":[0.0,1.0]},\"hovertemplate\":\"labels=%{label}<br>class_counts=%{value}<br>parent=%{parent}<br>id=%{id}<br>ave_elo_taklons=%{customdata[0]}<br>ave_score_taklons=%{color}<extra></extra>\",\"ids\":[\"R1 Structs/PI/ 0-m_0-ts_1-lab_1-pi_0-ac1_0-ac2\",\"R1 Structs/lab/ 0-m_0-ts_2-lab_0-pi_0-ac1_0-ac2\",\"R1 Structs/ac1/ 0-m_1-ts_0-lab_0-pi_1-ac1_0-ac2\",\"R1 Structs/PI/ 0-m_1-ts_0-lab_1-pi_0-ac1_0-ac2\",\"R1 Structs/lab/ 0-m_1-ts_1-lab_0-pi_0-ac1_0-ac2\",\"R1 Structs/lab/ 0-m_2-ts_1-lab_0-pi_0-ac1_0-ac2\",\"R1 Structs/ts/ 0-m_3-ts_0-lab_0-pi_0-ac1_0-ac2\",\"R1 Structs/ac2/ 1-m_0-ts_0-lab_0-pi_0-ac1_1-ac2\",\"R1 Structs/ac1/ 1-m_0-ts_0-lab_0-pi_1-ac1_0-ac2\",\"R1 Structs/lab/ 1-m_0-ts_1-lab_0-pi_0-ac1_0-ac2\",\"R1 Structs/PI/ 1-m_0-ts_1-lab_1-pi_0-ac1_0-ac2\",\"R1 Structs/lab/ 1-m_0-ts_2-lab_0-pi_0-ac1_0-ac2\",\"R1 Structs/ac2/ 1-m_1-ts_0-lab_0-pi_0-ac1_1-ac2\",\"R1 Structs/ac1/ 1-m_1-ts_0-lab_0-pi_1-ac1_0-ac2\",\"R1 Structs/lab/ 1-m_1-ts_1-lab_0-pi_0-ac1_0-ac2\",\"R1 Structs/lab/ 1-m_1-ts_2-lab_0-pi_0-ac1_0-ac2\",\"R1 Structs/lab/ 1-m_2-ts_1-lab_0-pi_0-ac1_0-ac2\",\"R1 Structs/ac2/ 2-m_0-ts_0-lab_0-pi_0-ac1_1-ac2\",\"R1 Structs/ac1/ 2-m_0-ts_0-lab_0-pi_1-ac1_0-ac2\",\"R1 Structs/PI/ 2-m_0-ts_0-lab_1-pi_0-ac1_0-ac2\",\"R1 Structs/lab/ 2-m_0-ts_1-lab_0-pi_0-ac1_0-ac2\",\"R1 Structs/PI/ 2-m_0-ts_1-lab_1-pi_0-ac1_0-ac2\",\"R1 Structs/lab/ 2-m_0-ts_2-lab_0-pi_0-ac1_0-ac2\",\"R1 Structs/ac2/ 2-m_1-ts_0-lab_0-pi_0-ac1_1-ac2\",\"R1 Structs/ac1/ 2-m_1-ts_0-lab_0-pi_1-ac1_0-ac2\",\"R1 Structs/PI/ 2-m_1-ts_0-lab_1-pi_0-ac1_0-ac2\",\"R1 Structs/lab/ 2-m_1-ts_1-lab_0-pi_0-ac1_0-ac2\",\"R1 Structs/lab/ 2-m_2-ts_1-lab_0-pi_0-ac1_0-ac2\",\"R1 Structs/ac2/ 3-m_0-ts_0-lab_0-pi_0-ac1_1-ac2\",\"R1 Structs/ac1/ 3-m_0-ts_0-lab_0-pi_1-ac1_0-ac2\",\"R1 Structs/PI/ 3-m_0-ts_0-lab_1-pi_0-ac1_0-ac2\",\"R1 Structs/lab/ 3-m_0-ts_1-lab_0-pi_0-ac1_0-ac2\",\"R1 Structs/lab/ 3-m_0-ts_2-lab_0-pi_0-ac1_0-ac2\",\"R1 Structs/lab/ 3-m_1-ts_1-lab_0-pi_0-ac1_0-ac2\",\"R1 Structs/ts/ 3-m_2-ts_0-lab_0-pi_0-ac1_0-ac2\",\"R1 Structs/m/ 4-m_0-ts_0-lab_0-pi_0-ac1_0-ac2\",\"R1 Structs/ac2/ 4-m_0-ts_0-lab_0-pi_0-ac1_1-ac2\",\"R1 Structs/ac1/ 4-m_0-ts_0-lab_0-pi_1-ac1_0-ac2\",\"R1 Structs/PI/ 4-m_0-ts_0-lab_1-pi_0-ac1_0-ac2\",\"R1 Structs/lab/ 4-m_0-ts_1-lab_0-pi_0-ac1_0-ac2\",\"R1 Structs/lab/ 4-m_0-ts_2-lab_0-pi_0-ac1_0-ac2\",\"R1 Structs/lab/ 4-m_1-ts_1-lab_0-pi_0-ac1_0-ac2\",\"R1 Structs/m/ 5-m_0-ts_0-lab_0-pi_0-ac1_0-ac2\",\"R1 Structs/ac1/ 5-m_0-ts_0-lab_0-pi_1-ac1_0-ac2\",\"R1 Structs/lab/ 5-m_0-ts_1-lab_0-pi_0-ac1_0-ac2\",\"R1 Structs/ts/ 5-m_1-ts_0-lab_0-pi_0-ac1_0-ac2\",\"R1 Structs/lab/ 6-m_0-ts_1-lab_0-pi_0-ac1_0-ac2\",\"R1 Structs/m/ 7-m_0-ts_0-lab_0-pi_0-ac1_0-ac2\",\"R1 Structs/lab/ 7-m_0-ts_1-lab_0-pi_0-ac1_0-ac2\",\"R1 Structs/PI\",\"R1 Structs/ac1\",\"R1 Structs/ac2\",\"R1 Structs/lab\",\"R1 Structs/m\",\"R1 Structs/ts\",\"R1 Structs\"],\"labels\":[\" 0-m_0-ts_1-lab_1-pi_0-ac1_0-ac2\",\" 0-m_0-ts_2-lab_0-pi_0-ac1_0-ac2\",\" 0-m_1-ts_0-lab_0-pi_1-ac1_0-ac2\",\" 0-m_1-ts_0-lab_1-pi_0-ac1_0-ac2\",\" 0-m_1-ts_1-lab_0-pi_0-ac1_0-ac2\",\" 0-m_2-ts_1-lab_0-pi_0-ac1_0-ac2\",\" 0-m_3-ts_0-lab_0-pi_0-ac1_0-ac2\",\" 1-m_0-ts_0-lab_0-pi_0-ac1_1-ac2\",\" 1-m_0-ts_0-lab_0-pi_1-ac1_0-ac2\",\" 1-m_0-ts_1-lab_0-pi_0-ac1_0-ac2\",\" 1-m_0-ts_1-lab_1-pi_0-ac1_0-ac2\",\" 1-m_0-ts_2-lab_0-pi_0-ac1_0-ac2\",\" 1-m_1-ts_0-lab_0-pi_0-ac1_1-ac2\",\" 1-m_1-ts_0-lab_0-pi_1-ac1_0-ac2\",\" 1-m_1-ts_1-lab_0-pi_0-ac1_0-ac2\",\" 1-m_1-ts_2-lab_0-pi_0-ac1_0-ac2\",\" 1-m_2-ts_1-lab_0-pi_0-ac1_0-ac2\",\" 2-m_0-ts_0-lab_0-pi_0-ac1_1-ac2\",\" 2-m_0-ts_0-lab_0-pi_1-ac1_0-ac2\",\" 2-m_0-ts_0-lab_1-pi_0-ac1_0-ac2\",\" 2-m_0-ts_1-lab_0-pi_0-ac1_0-ac2\",\" 2-m_0-ts_1-lab_1-pi_0-ac1_0-ac2\",\" 2-m_0-ts_2-lab_0-pi_0-ac1_0-ac2\",\" 2-m_1-ts_0-lab_0-pi_0-ac1_1-ac2\",\" 2-m_1-ts_0-lab_0-pi_1-ac1_0-ac2\",\" 2-m_1-ts_0-lab_1-pi_0-ac1_0-ac2\",\" 2-m_1-ts_1-lab_0-pi_0-ac1_0-ac2\",\" 2-m_2-ts_1-lab_0-pi_0-ac1_0-ac2\",\" 3-m_0-ts_0-lab_0-pi_0-ac1_1-ac2\",\" 3-m_0-ts_0-lab_0-pi_1-ac1_0-ac2\",\" 3-m_0-ts_0-lab_1-pi_0-ac1_0-ac2\",\" 3-m_0-ts_1-lab_0-pi_0-ac1_0-ac2\",\" 3-m_0-ts_2-lab_0-pi_0-ac1_0-ac2\",\" 3-m_1-ts_1-lab_0-pi_0-ac1_0-ac2\",\" 3-m_2-ts_0-lab_0-pi_0-ac1_0-ac2\",\" 4-m_0-ts_0-lab_0-pi_0-ac1_0-ac2\",\" 4-m_0-ts_0-lab_0-pi_0-ac1_1-ac2\",\" 4-m_0-ts_0-lab_0-pi_1-ac1_0-ac2\",\" 4-m_0-ts_0-lab_1-pi_0-ac1_0-ac2\",\" 4-m_0-ts_1-lab_0-pi_0-ac1_0-ac2\",\" 4-m_0-ts_2-lab_0-pi_0-ac1_0-ac2\",\" 4-m_1-ts_1-lab_0-pi_0-ac1_0-ac2\",\" 5-m_0-ts_0-lab_0-pi_0-ac1_0-ac2\",\" 5-m_0-ts_0-lab_0-pi_1-ac1_0-ac2\",\" 5-m_0-ts_1-lab_0-pi_0-ac1_0-ac2\",\" 5-m_1-ts_0-lab_0-pi_0-ac1_0-ac2\",\" 6-m_0-ts_1-lab_0-pi_0-ac1_0-ac2\",\" 7-m_0-ts_0-lab_0-pi_0-ac1_0-ac2\",\" 7-m_0-ts_1-lab_0-pi_0-ac1_0-ac2\",\"PI\",\"ac1\",\"ac2\",\"lab\",\"m\",\"ts\",\"R1 Structs\"],\"marker\":{\"coloraxis\":\"coloraxis\",\"colors\":[146.8,175.0,142.66666666666666,133.0,114.0,146.33333333333334,158.0,188.5,163.28455284552845,122.75,142.0,170.53333333333333,135.0,175.83333333333334,132.05882352941177,204.33333333333334,167.30769230769232,160.0909090909091,170.21660649819495,110.26086956521739,141.1851851851852,162.0,173.0735294117647,197.0,186.6,153.11111111111111,157.94594594594594,182.375,157.42857142857142,178.77685950413223,113.3125,140.54444444444445,180.28571428571428,162.79166666666666,115.0,108.5,164.5,178.02857142857144,135.33333333333334,156.12056737588654,197.5,176.64705882352942,125.0,203.6,174.87628865979383,191.0,188.47619047619048,161.0,205.5,127.67647058823529,171.33910690341943,163.67032967032966,159.2803386785917,125.6,154.66666666666666,163.9273763698154]},\"name\":\"\",\"parents\":[\"R1 Structs/PI\",\"R1 Structs/lab\",\"R1 Structs/ac1\",\"R1 Structs/PI\",\"R1 Structs/lab\",\"R1 Structs/lab\",\"R1 Structs/ts\",\"R1 Structs/ac2\",\"R1 Structs/ac1\",\"R1 Structs/lab\",\"R1 Structs/PI\",\"R1 Structs/lab\",\"R1 Structs/ac2\",\"R1 Structs/ac1\",\"R1 Structs/lab\",\"R1 Structs/lab\",\"R1 Structs/lab\",\"R1 Structs/ac2\",\"R1 Structs/ac1\",\"R1 Structs/PI\",\"R1 Structs/lab\",\"R1 Structs/PI\",\"R1 Structs/lab\",\"R1 Structs/ac2\",\"R1 Structs/ac1\",\"R1 Structs/PI\",\"R1 Structs/lab\",\"R1 Structs/lab\",\"R1 Structs/ac2\",\"R1 Structs/ac1\",\"R1 Structs/PI\",\"R1 Structs/lab\",\"R1 Structs/lab\",\"R1 Structs/lab\",\"R1 Structs/ts\",\"R1 Structs/m\",\"R1 Structs/ac2\",\"R1 Structs/ac1\",\"R1 Structs/PI\",\"R1 Structs/lab\",\"R1 Structs/lab\",\"R1 Structs/lab\",\"R1 Structs/m\",\"R1 Structs/ac1\",\"R1 Structs/lab\",\"R1 Structs/ts\",\"R1 Structs/lab\",\"R1 Structs/m\",\"R1 Structs/lab\",\"R1 Structs\",\"R1 Structs\",\"R1 Structs\",\"R1 Structs\",\"R1 Structs\",\"R1 Structs\",\"\"],\"values\":[5,1,3,1,4,6,1,2,123,4,5,45,1,18,34,3,13,11,558,23,56,6,69,2,20,9,185,8,8,123,16,90,7,24,1,2,2,36,3,145,2,17,2,5,98,1,21,1,2,68,886,26,834,5,3,1822],\"type\":\"treemap\"}],                        {\"template\":{\"data\":{\"bar\":[{\"error_x\":{\"color\":\"#2a3f5f\"},\"error_y\":{\"color\":\"#2a3f5f\"},\"marker\":{\"line\":{\"color\":\"#E5ECF6\",\"width\":0.5},\"pattern\":{\"fillmode\":\"overlay\",\"size\":10,\"solidity\":0.2}},\"type\":\"bar\"}],\"barpolar\":[{\"marker\":{\"line\":{\"color\":\"#E5ECF6\",\"width\":0.5},\"pattern\":{\"fillmode\":\"overlay\",\"size\":10,\"solidity\":0.2}},\"type\":\"barpolar\"}],\"carpet\":[{\"aaxis\":{\"endlinecolor\":\"#2a3f5f\",\"gridcolor\":\"white\",\"linecolor\":\"white\",\"minorgridcolor\":\"white\",\"startlinecolor\":\"#2a3f5f\"},\"baxis\":{\"endlinecolor\":\"#2a3f5f\",\"gridcolor\":\"white\",\"linecolor\":\"white\",\"minorgridcolor\":\"white\",\"startlinecolor\":\"#2a3f5f\"},\"type\":\"carpet\"}],\"choropleth\":[{\"colorbar\":{\"outlinewidth\":0,\"ticks\":\"\"},\"type\":\"choropleth\"}],\"contour\":[{\"colorbar\":{\"outlinewidth\":0,\"ticks\":\"\"},\"colorscale\":[[0.0,\"#0d0887\"],[0.1111111111111111,\"#46039f\"],[0.2222222222222222,\"#7201a8\"],[0.3333333333333333,\"#9c179e\"],[0.4444444444444444,\"#bd3786\"],[0.5555555555555556,\"#d8576b\"],[0.6666666666666666,\"#ed7953\"],[0.7777777777777778,\"#fb9f3a\"],[0.8888888888888888,\"#fdca26\"],[1.0,\"#f0f921\"]],\"type\":\"contour\"}],\"contourcarpet\":[{\"colorbar\":{\"outlinewidth\":0,\"ticks\":\"\"},\"type\":\"contourcarpet\"}],\"heatmap\":[{\"colorbar\":{\"outlinewidth\":0,\"ticks\":\"\"},\"colorscale\":[[0.0,\"#0d0887\"],[0.1111111111111111,\"#46039f\"],[0.2222222222222222,\"#7201a8\"],[0.3333333333333333,\"#9c179e\"],[0.4444444444444444,\"#bd3786\"],[0.5555555555555556,\"#d8576b\"],[0.6666666666666666,\"#ed7953\"],[0.7777777777777778,\"#fb9f3a\"],[0.8888888888888888,\"#fdca26\"],[1.0,\"#f0f921\"]],\"type\":\"heatmap\"}],\"heatmapgl\":[{\"colorbar\":{\"outlinewidth\":0,\"ticks\":\"\"},\"colorscale\":[[0.0,\"#0d0887\"],[0.1111111111111111,\"#46039f\"],[0.2222222222222222,\"#7201a8\"],[0.3333333333333333,\"#9c179e\"],[0.4444444444444444,\"#bd3786\"],[0.5555555555555556,\"#d8576b\"],[0.6666666666666666,\"#ed7953\"],[0.7777777777777778,\"#fb9f3a\"],[0.8888888888888888,\"#fdca26\"],[1.0,\"#f0f921\"]],\"type\":\"heatmapgl\"}],\"histogram\":[{\"marker\":{\"pattern\":{\"fillmode\":\"overlay\",\"size\":10,\"solidity\":0.2}},\"type\":\"histogram\"}],\"histogram2d\":[{\"colorbar\":{\"outlinewidth\":0,\"ticks\":\"\"},\"colorscale\":[[0.0,\"#0d0887\"],[0.1111111111111111,\"#46039f\"],[0.2222222222222222,\"#7201a8\"],[0.3333333333333333,\"#9c179e\"],[0.4444444444444444,\"#bd3786\"],[0.5555555555555556,\"#d8576b\"],[0.6666666666666666,\"#ed7953\"],[0.7777777777777778,\"#fb9f3a\"],[0.8888888888888888,\"#fdca26\"],[1.0,\"#f0f921\"]],\"type\":\"histogram2d\"}],\"histogram2dcontour\":[{\"colorbar\":{\"outlinewidth\":0,\"ticks\":\"\"},\"colorscale\":[[0.0,\"#0d0887\"],[0.1111111111111111,\"#46039f\"],[0.2222222222222222,\"#7201a8\"],[0.3333333333333333,\"#9c179e\"],[0.4444444444444444,\"#bd3786\"],[0.5555555555555556,\"#d8576b\"],[0.6666666666666666,\"#ed7953\"],[0.7777777777777778,\"#fb9f3a\"],[0.8888888888888888,\"#fdca26\"],[1.0,\"#f0f921\"]],\"type\":\"histogram2dcontour\"}],\"mesh3d\":[{\"colorbar\":{\"outlinewidth\":0,\"ticks\":\"\"},\"type\":\"mesh3d\"}],\"parcoords\":[{\"line\":{\"colorbar\":{\"outlinewidth\":0,\"ticks\":\"\"}},\"type\":\"parcoords\"}],\"pie\":[{\"automargin\":true,\"type\":\"pie\"}],\"scatter\":[{\"marker\":{\"colorbar\":{\"outlinewidth\":0,\"ticks\":\"\"}},\"type\":\"scatter\"}],\"scatter3d\":[{\"line\":{\"colorbar\":{\"outlinewidth\":0,\"ticks\":\"\"}},\"marker\":{\"colorbar\":{\"outlinewidth\":0,\"ticks\":\"\"}},\"type\":\"scatter3d\"}],\"scattercarpet\":[{\"marker\":{\"colorbar\":{\"outlinewidth\":0,\"ticks\":\"\"}},\"type\":\"scattercarpet\"}],\"scattergeo\":[{\"marker\":{\"colorbar\":{\"outlinewidth\":0,\"ticks\":\"\"}},\"type\":\"scattergeo\"}],\"scattergl\":[{\"marker\":{\"colorbar\":{\"outlinewidth\":0,\"ticks\":\"\"}},\"type\":\"scattergl\"}],\"scattermapbox\":[{\"marker\":{\"colorbar\":{\"outlinewidth\":0,\"ticks\":\"\"}},\"type\":\"scattermapbox\"}],\"scatterpolar\":[{\"marker\":{\"colorbar\":{\"outlinewidth\":0,\"ticks\":\"\"}},\"type\":\"scatterpolar\"}],\"scatterpolargl\":[{\"marker\":{\"colorbar\":{\"outlinewidth\":0,\"ticks\":\"\"}},\"type\":\"scatterpolargl\"}],\"scatterternary\":[{\"marker\":{\"colorbar\":{\"outlinewidth\":0,\"ticks\":\"\"}},\"type\":\"scatterternary\"}],\"surface\":[{\"colorbar\":{\"outlinewidth\":0,\"ticks\":\"\"},\"colorscale\":[[0.0,\"#0d0887\"],[0.1111111111111111,\"#46039f\"],[0.2222222222222222,\"#7201a8\"],[0.3333333333333333,\"#9c179e\"],[0.4444444444444444,\"#bd3786\"],[0.5555555555555556,\"#d8576b\"],[0.6666666666666666,\"#ed7953\"],[0.7777777777777778,\"#fb9f3a\"],[0.8888888888888888,\"#fdca26\"],[1.0,\"#f0f921\"]],\"type\":\"surface\"}],\"table\":[{\"cells\":{\"fill\":{\"color\":\"#EBF0F8\"},\"line\":{\"color\":\"white\"}},\"header\":{\"fill\":{\"color\":\"#C8D4E3\"},\"line\":{\"color\":\"white\"}},\"type\":\"table\"}]},\"layout\":{\"annotationdefaults\":{\"arrowcolor\":\"#2a3f5f\",\"arrowhead\":0,\"arrowwidth\":1},\"autotypenumbers\":\"strict\",\"coloraxis\":{\"colorbar\":{\"outlinewidth\":0,\"ticks\":\"\"}},\"colorscale\":{\"diverging\":[[0,\"#8e0152\"],[0.1,\"#c51b7d\"],[0.2,\"#de77ae\"],[0.3,\"#f1b6da\"],[0.4,\"#fde0ef\"],[0.5,\"#f7f7f7\"],[0.6,\"#e6f5d0\"],[0.7,\"#b8e186\"],[0.8,\"#7fbc41\"],[0.9,\"#4d9221\"],[1,\"#276419\"]],\"sequential\":[[0.0,\"#0d0887\"],[0.1111111111111111,\"#46039f\"],[0.2222222222222222,\"#7201a8\"],[0.3333333333333333,\"#9c179e\"],[0.4444444444444444,\"#bd3786\"],[0.5555555555555556,\"#d8576b\"],[0.6666666666666666,\"#ed7953\"],[0.7777777777777778,\"#fb9f3a\"],[0.8888888888888888,\"#fdca26\"],[1.0,\"#f0f921\"]],\"sequentialminus\":[[0.0,\"#0d0887\"],[0.1111111111111111,\"#46039f\"],[0.2222222222222222,\"#7201a8\"],[0.3333333333333333,\"#9c179e\"],[0.4444444444444444,\"#bd3786\"],[0.5555555555555556,\"#d8576b\"],[0.6666666666666666,\"#ed7953\"],[0.7777777777777778,\"#fb9f3a\"],[0.8888888888888888,\"#fdca26\"],[1.0,\"#f0f921\"]]},\"colorway\":[\"#636efa\",\"#EF553B\",\"#00cc96\",\"#ab63fa\",\"#FFA15A\",\"#19d3f3\",\"#FF6692\",\"#B6E880\",\"#FF97FF\",\"#FECB52\"],\"font\":{\"color\":\"#2a3f5f\"},\"geo\":{\"bgcolor\":\"white\",\"lakecolor\":\"white\",\"landcolor\":\"#E5ECF6\",\"showlakes\":true,\"showland\":true,\"subunitcolor\":\"white\"},\"hoverlabel\":{\"align\":\"left\"},\"hovermode\":\"closest\",\"mapbox\":{\"style\":\"light\"},\"paper_bgcolor\":\"white\",\"plot_bgcolor\":\"#E5ECF6\",\"polar\":{\"angularaxis\":{\"gridcolor\":\"white\",\"linecolor\":\"white\",\"ticks\":\"\"},\"bgcolor\":\"#E5ECF6\",\"radialaxis\":{\"gridcolor\":\"white\",\"linecolor\":\"white\",\"ticks\":\"\"}},\"scene\":{\"xaxis\":{\"backgroundcolor\":\"#E5ECF6\",\"gridcolor\":\"white\",\"gridwidth\":2,\"linecolor\":\"white\",\"showbackground\":true,\"ticks\":\"\",\"zerolinecolor\":\"white\"},\"yaxis\":{\"backgroundcolor\":\"#E5ECF6\",\"gridcolor\":\"white\",\"gridwidth\":2,\"linecolor\":\"white\",\"showbackground\":true,\"ticks\":\"\",\"zerolinecolor\":\"white\"},\"zaxis\":{\"backgroundcolor\":\"#E5ECF6\",\"gridcolor\":\"white\",\"gridwidth\":2,\"linecolor\":\"white\",\"showbackground\":true,\"ticks\":\"\",\"zerolinecolor\":\"white\"}},\"shapedefaults\":{\"line\":{\"color\":\"#2a3f5f\"}},\"ternary\":{\"aaxis\":{\"gridcolor\":\"white\",\"linecolor\":\"white\",\"ticks\":\"\"},\"baxis\":{\"gridcolor\":\"white\",\"linecolor\":\"white\",\"ticks\":\"\"},\"bgcolor\":\"#E5ECF6\",\"caxis\":{\"gridcolor\":\"white\",\"linecolor\":\"white\",\"ticks\":\"\"}},\"title\":{\"x\":0.05},\"xaxis\":{\"automargin\":true,\"gridcolor\":\"white\",\"linecolor\":\"white\",\"ticks\":\"\",\"title\":{\"standoff\":15},\"zerolinecolor\":\"white\",\"zerolinewidth\":2},\"yaxis\":{\"automargin\":true,\"gridcolor\":\"white\",\"linecolor\":\"white\",\"ticks\":\"\",\"title\":{\"standoff\":15},\"zerolinecolor\":\"white\",\"zerolinewidth\":2}}},\"coloraxis\":{\"colorbar\":{\"title\":{\"text\":\"ave_score_taklons\"}},\"colorscale\":[[0.0,\"rgb(103,0,31)\"],[0.1,\"rgb(178,24,43)\"],[0.2,\"rgb(214,96,77)\"],[0.3,\"rgb(244,165,130)\"],[0.4,\"rgb(253,219,199)\"],[0.5,\"rgb(247,247,247)\"],[0.6,\"rgb(209,229,240)\"],[0.7,\"rgb(146,197,222)\"],[0.8,\"rgb(67,147,195)\"],[0.9,\"rgb(33,102,172)\"],[1.0,\"rgb(5,48,97)\"]],\"cmid\":148.12743354661777},\"legend\":{\"tracegroupgap\":0},\"margin\":{\"t\":50,\"l\":25,\"r\":25,\"b\":25},\"title\":{\"text\":\"R1 Structures: Frequency and Impact on Score Relative to All Factions Average (148.13): taklons\"}},                        {\"responsive\": true}                    ).then(function(){\n",
       "                            \n",
       "var gd = document.getElementById('6c019517-dce3-4c28-a64e-ce57f8b53aa1');\n",
       "var x = new MutationObserver(function (mutations, observer) {{\n",
       "        var display = window.getComputedStyle(gd).display;\n",
       "        if (!display || display === 'none') {{\n",
       "            console.log([gd, 'removed!']);\n",
       "            Plotly.purge(gd);\n",
       "            observer.disconnect();\n",
       "        }}\n",
       "}});\n",
       "\n",
       "// Listen for the removal of the full notebook cells\n",
       "var notebookContainer = gd.closest('#notebook-container');\n",
       "if (notebookContainer) {{\n",
       "    x.observe(notebookContainer, {childList: true});\n",
       "}}\n",
       "\n",
       "// Listen for the clearing of the current output cell\n",
       "var outputEl = gd.closest('.output');\n",
       "if (outputEl) {{\n",
       "    x.observe(outputEl, {childList: true});\n",
       "}}\n",
       "\n",
       "                        })                };                });            </script>        </div>"
      ]
     },
     "metadata": {},
     "output_type": "display_data"
    }
   ],
   "source": [
    "for faction in factions:\n",
    "    factions_pos = []\n",
    "    for pos in range(4):\n",
    "        dat = dat_4\n",
    "        \n",
    "        # select faction\n",
    "        dat = dat[dat[\"pos_\" + str(pos + 1) +\"_faction\"] == faction]\n",
    "        \n",
    "        #remove dropped players\n",
    "        dat = dat[dat['pos_' + str(pos + 1) + '_dropped'] == False]\n",
    "        \n",
    "        dat['pos_' + str(pos + 1) + '_score'] += -1 * dat['pos_' + str(pos + 1) + '_score_bid']\n",
    "        \n",
    "        #labels\n",
    "        prefix = \"pos_\" + str(pos + 1) + '_buildings_r_1'\n",
    "        structs_class = 'r1_structs_class_' + faction\n",
    "        structs_exact = 'r1_structs_exact_' + faction\n",
    "        over_all_score = 'ave_score_' + faction\n",
    "        over_all_elo = 'ave_elo_' + faction\n",
    "        \n",
    "        #get scores and elos\n",
    "        dat[over_all_score] = dat['pos_' + str(pos + 1) + '_score']\n",
    "        dat[over_all_elo] = dat['pos_' + str(pos + 1) + '_elo']\n",
    "        \n",
    "        #structs placed\n",
    "        dat[prefix + '_PI'] = pd.to_numeric(dat[prefix + '_PI'], downcast='integer')\n",
    "        dat[prefix + '_ac1'] = pd.to_numeric(dat[prefix + '_ac1'], downcast='integer')\n",
    "        dat[prefix + '_ac2'] = pd.to_numeric(dat[prefix + '_ac2'], downcast='integer')\n",
    "        dat[prefix + '_lab'] = pd.to_numeric(dat[prefix + '_lab'], downcast='integer')\n",
    "        dat[prefix + '_ts'] = pd.to_numeric(dat[prefix + '_ts'], downcast='integer')\n",
    "        dat[prefix + '_m'] = pd.to_numeric(dat[prefix + '_m'], downcast='integer')\n",
    "        \n",
    "        # create general structs catergory                        \n",
    "        dat.loc[dat[prefix + '_PI'] > 0, structs_class] = 'PI'\n",
    "        dat.loc[dat[prefix + '_ac1'] > 0, structs_class] = 'ac1'\n",
    "        dat.loc[dat[prefix + '_ac2'] > 0, structs_class] = 'ac2'\n",
    "        dat.loc[\n",
    "            (dat[prefix + '_lab'] > 0) &\n",
    "            (dat[prefix + '_PI'] == 0) &\n",
    "            (dat[prefix + '_ac1'] == 0) &\n",
    "            (dat[prefix + '_ac2'] == 0)\n",
    "            , structs_class] = 'lab'\n",
    "        \n",
    "        dat.loc[\n",
    "            (dat[prefix + '_ts'] > 0) &\n",
    "            (dat[prefix + '_lab'] == 0) &\n",
    "            (dat[prefix + '_PI'] == 0) &\n",
    "            (dat[prefix + '_ac1'] == 0) &\n",
    "            (dat[prefix + '_ac2'] == 0)\n",
    "            , structs_class] = 'ts'\n",
    "        \n",
    "        dat.loc[\n",
    "            (dat[prefix + '_ts'] == 0) &\n",
    "            (dat[prefix + '_lab'] == 0) &\n",
    "            (dat[prefix + '_PI'] == 0) &\n",
    "            (dat[prefix + '_ac1'] == 0) &\n",
    "            (dat[prefix + '_ac2'] == 0)\n",
    "            , structs_class] = 'm'\n",
    "        \n",
    "        \n",
    "        #create exact category\n",
    "        dat[structs_exact] = [\" \" +\n",
    "            str(m) + '-m_' +\n",
    "            str(ts) + '-ts_' +\n",
    "            str(lab) + '-lab_' + \n",
    "            str(PI) + '-pi_' +\n",
    "            str(ac1) + '-ac1_' +\n",
    "            str(ac2) + '-ac2' \n",
    "            for m, ts, lab, PI, ac1, ac2 in zip(\n",
    "            dat[prefix + '_m'], \n",
    "            dat[prefix + '_ts'], \n",
    "            dat[prefix + '_lab'],\n",
    "            dat[prefix + '_PI'], \n",
    "            dat[prefix + '_ac1'], \n",
    "            dat[prefix + '_ac2'])\n",
    "        ]\n",
    "        \n",
    "        \n",
    "        factions_pos.append(dat)\n",
    "        \n",
    "    factions_in = pd.concat(factions_pos, ignore_index=True)\n",
    "    \n",
    "    unique_starts = factions_in[[structs_exact, structs_class, over_all_score, over_all_elo]]\n",
    "    unique_starts['class_counts'] = 0\n",
    "    counts = unique_starts.groupby(structs_exact)['class_counts'].transform('count').to_frame()\n",
    "    unique_starts = unique_starts[[structs_exact, structs_class, over_all_score, over_all_elo]]\n",
    "    unique_starts = pd.concat([unique_starts, counts], axis=1)\n",
    "    unique_starts = unique_starts.groupby([structs_class, structs_exact]).mean().reset_index()\n",
    "    unique_starts['class_counts'] = pd.to_numeric(unique_starts['class_counts'], downcast='integer')\n",
    "    \n",
    "    #remove really low scores\n",
    "    #unique_starts = unique_starts[(np.abs(stats.zscore(unique_starts[over_all_score])) > 2)]\n",
    "    unique_starts = unique_starts[unique_starts[over_all_score].between(unique_starts[over_all_score].quantile(.15), unique_starts[over_all_score].quantile(1))]\n",
    "    \n",
    "    \n",
    "    #average score overall for position played till end\n",
    "    average_overall = (np.mean(dat_4[dat_4['pos_1_dropped'] == False]['pos_1_score']) + \n",
    "                      np.mean(dat_4[dat_4['pos_2_dropped'] == False]['pos_2_score']) + \n",
    "                      np.mean(dat_4[dat_4['pos_3_dropped'] == False]['pos_3_score']) + \n",
    "                      np.mean(dat_4[dat_4['pos_4_dropped'] == False]['pos_4_score'])) / 4\n",
    "    \n",
    "    #midpoint is average for all factions overall - but color ends are highest and lowest score by that faction\n",
    "    fig = px.treemap(unique_starts, path=[px.Constant('R1 Structs'), structs_class, structs_exact], values='class_counts',\n",
    "                  color=over_all_score, hover_data=[over_all_elo],\n",
    "                  color_continuous_scale='RdBu',\n",
    "                  color_continuous_midpoint=(average_overall))\n",
    "    fig.update_layout(margin = dict(t=50, l=25, r=25, b=25))\n",
    "    \n",
    "    fig.update_layout(title_text=\"R1 Structures: Frequency and Impact on Score Relative to All Factions Average (\" + str(round(average_overall, 2)) + \"): \" + faction)\n",
    "    \n",
    "    fig.write_html(\"./plots/r1_structs_analysis/freq_and_score/\" + faction + \".html\")\n",
    "    fig.show()\n",
    "    \n",
    "    \"\"\"\n",
    "    fig = px.sunburst(unique_starts, path=[px.Constant('R1 Structures: Frequency and Overall Score for ' + faction), structs_class, structs_exact], values='class_counts',\n",
    "                  color=over_all_score, hover_data=[over_all_elo],\n",
    "                  color_continuous_scale='RdBu',\n",
    "                  color_continuous_midpoint=np.median(unique_starts[over_all_score]))\n",
    "    fig.show()\n",
    "    \"\"\"\n",
    "    \n",
    "    \n",
    "    \n",
    "    "
   ]
  },
  {
   "cell_type": "code",
   "execution_count": 6,
   "id": "cac38859",
   "metadata": {},
   "outputs": [
    {
     "data": {
      "text/html": [
       "<div>\n",
       "<style scoped>\n",
       "    .dataframe tbody tr th:only-of-type {\n",
       "        vertical-align: middle;\n",
       "    }\n",
       "\n",
       "    .dataframe tbody tr th {\n",
       "        vertical-align: top;\n",
       "    }\n",
       "\n",
       "    .dataframe thead th {\n",
       "        text-align: right;\n",
       "    }\n",
       "</style>\n",
       "<table border=\"1\" class=\"dataframe\">\n",
       "  <thead>\n",
       "    <tr style=\"text-align: right;\">\n",
       "      <th></th>\n",
       "      <th>id</th>\n",
       "      <th>map_layout</th>\n",
       "      <th>num_players</th>\n",
       "      <th>1k_1o</th>\n",
       "      <th>2pwt_1o</th>\n",
       "      <th>1qic_2c</th>\n",
       "      <th>2c_terra</th>\n",
       "      <th>2pw_nav</th>\n",
       "      <th>1o_1vp_per_mine</th>\n",
       "      <th>1o_2vp_per_ts</th>\n",
       "      <th>1k_3vp_per_rl</th>\n",
       "      <th>4pw_4vp_per_3pip</th>\n",
       "      <th>4c_1vp_per_gaia</th>\n",
       "      <th>tech_terra</th>\n",
       "      <th>tech_nav</th>\n",
       "      <th>tech_int</th>\n",
       "      <th>tech_gaia</th>\n",
       "      <th>tech_eco</th>\n",
       "      <th>tech_sci</th>\n",
       "      <th>tech_free1</th>\n",
       "      <th>tech_free2</th>\n",
       "      <th>tech_free3</th>\n",
       "      <th>tech_adv-terra</th>\n",
       "      <th>tech_adv-nav</th>\n",
       "      <th>tech_adv-int</th>\n",
       "      <th>tech_adv-gaia</th>\n",
       "      <th>tech_adv-eco</th>\n",
       "      <th>tech_adv-sci</th>\n",
       "      <th>round_1_scoring</th>\n",
       "      <th>round_2_scoring</th>\n",
       "      <th>round_3_scoring</th>\n",
       "      <th>round_4_scoring</th>\n",
       "      <th>round_5_scoring</th>\n",
       "      <th>round_6_scoring</th>\n",
       "      <th>final_scoring_1</th>\n",
       "      <th>final_scoring_2</th>\n",
       "      <th>pos_4_dropped</th>\n",
       "      <th>pos_4_elo</th>\n",
       "      <th>pos_4_faction</th>\n",
       "      <th>pos_4_score</th>\n",
       "      <th>pos_4_start_pos</th>\n",
       "      <th>pos_4_bid</th>\n",
       "      <th>pos_4_feds_taken</th>\n",
       "      <th>pos_4_fed_12vp</th>\n",
       "      <th>pos_4_fed_qic</th>\n",
       "      <th>pos_4_fed_2pw</th>\n",
       "      <th>pos_4_fed_2o</th>\n",
       "      <th>pos_4_fed_6c</th>\n",
       "      <th>pos_4_fed_2k</th>\n",
       "      <th>pos_4_fed_gleens</th>\n",
       "      <th>...</th>\n",
       "      <th>pos_2_adv_tech_taken_1qic_5c_action</th>\n",
       "      <th>pos_2_adv_tech_taken_2vp_per_mine</th>\n",
       "      <th>pos_2_adv_tech_taken_3vp_per_rl_pass</th>\n",
       "      <th>pos_2_adv_tech_taken_1o_per_sector</th>\n",
       "      <th>pos_2_adv_tech_taken_1vp_per_terra_pass</th>\n",
       "      <th>pos_2_adv_tech_taken_2vp_per_gaia</th>\n",
       "      <th>pos_2_adv_tech_taken_4vp_per_ts</th>\n",
       "      <th>pos_2_adv_tech_taken_2vp_per_sector</th>\n",
       "      <th>pos_2_adv_tech_taken_3o_action</th>\n",
       "      <th>pos_2_adv_tech_taken_5vp_per_fed</th>\n",
       "      <th>pos_2_adv_tech_taken_3k_action</th>\n",
       "      <th>pos_2_adv_tech_taken_3vp_per_mine_place</th>\n",
       "      <th>pos_2_adv_tech_taken_3vp_per_ts_place</th>\n",
       "      <th>pos_2_total_techs_taken</th>\n",
       "      <th>pos_2_buildings_r_1_m</th>\n",
       "      <th>pos_2_buildings_r_1_ts</th>\n",
       "      <th>pos_2_buildings_r_1_lab</th>\n",
       "      <th>pos_2_buildings_r_1_ac1</th>\n",
       "      <th>pos_2_buildings_r_1_ac2</th>\n",
       "      <th>pos_2_buildings_r_1_PI</th>\n",
       "      <th>pos_2_buildings_r_1_gf</th>\n",
       "      <th>pos_2_buildings_r_2_m</th>\n",
       "      <th>pos_2_buildings_r_2_ts</th>\n",
       "      <th>pos_2_buildings_r_2_lab</th>\n",
       "      <th>pos_2_buildings_r_2_ac1</th>\n",
       "      <th>pos_2_buildings_r_2_ac2</th>\n",
       "      <th>pos_2_buildings_r_2_PI</th>\n",
       "      <th>pos_2_buildings_r_2_gf</th>\n",
       "      <th>pos_2_buildings_r_3_m</th>\n",
       "      <th>pos_2_buildings_r_3_ts</th>\n",
       "      <th>pos_2_buildings_r_3_lab</th>\n",
       "      <th>pos_2_buildings_r_3_ac1</th>\n",
       "      <th>pos_2_buildings_r_3_ac2</th>\n",
       "      <th>pos_2_buildings_r_3_PI</th>\n",
       "      <th>pos_2_buildings_r_3_gf</th>\n",
       "      <th>pos_2_buildings_r_4_m</th>\n",
       "      <th>pos_2_buildings_r_4_ts</th>\n",
       "      <th>pos_2_buildings_r_4_lab</th>\n",
       "      <th>pos_2_buildings_r_4_ac1</th>\n",
       "      <th>pos_2_buildings_r_4_ac2</th>\n",
       "      <th>pos_2_buildings_r_4_PI</th>\n",
       "      <th>pos_2_buildings_r_4_gf</th>\n",
       "      <th>pos_2_buildings_r_5_m</th>\n",
       "      <th>pos_2_buildings_r_5_ts</th>\n",
       "      <th>pos_2_buildings_r_5_lab</th>\n",
       "      <th>pos_2_buildings_r_5_ac1</th>\n",
       "      <th>pos_2_buildings_r_5_ac2</th>\n",
       "      <th>pos_2_buildings_r_5_PI</th>\n",
       "      <th>pos_2_buildings_r_5_gf</th>\n",
       "      <th>average_elo</th>\n",
       "    </tr>\n",
       "  </thead>\n",
       "  <tbody>\n",
       "    <tr>\n",
       "      <th>4364</th>\n",
       "      <td>Imperial-tree-6131</td>\n",
       "      <td>standard</td>\n",
       "      <td>4</td>\n",
       "      <td>False</td>\n",
       "      <td>True</td>\n",
       "      <td>True</td>\n",
       "      <td>False</td>\n",
       "      <td>True</td>\n",
       "      <td>True</td>\n",
       "      <td>True</td>\n",
       "      <td>True</td>\n",
       "      <td>False</td>\n",
       "      <td>True</td>\n",
       "      <td>k_per_terra</td>\n",
       "      <td>4pw</td>\n",
       "      <td>3vp_per_gaia_place</td>\n",
       "      <td>4c</td>\n",
       "      <td>1k_1c</td>\n",
       "      <td>1q_1o</td>\n",
       "      <td>4pip</td>\n",
       "      <td>1o_1pw</td>\n",
       "      <td>7vp</td>\n",
       "      <td>3k_action</td>\n",
       "      <td>1o_per_sector</td>\n",
       "      <td>1vp_per_terra_pass</td>\n",
       "      <td>2vp_per_gaia</td>\n",
       "      <td>2vp_per_tech_bump</td>\n",
       "      <td>2vp_per_mine</td>\n",
       "      <td>2vp_per_terra</td>\n",
       "      <td>5vp_per_fed_place</td>\n",
       "      <td>4vp_per_gaia_place</td>\n",
       "      <td>4vp_per_ts_place</td>\n",
       "      <td>5vp_per_3pip_place</td>\n",
       "      <td>3vp_per_ts_place</td>\n",
       "      <td>gaia</td>\n",
       "      <td>structureFed</td>\n",
       "      <td>False</td>\n",
       "      <td>100.0</td>\n",
       "      <td>bescods</td>\n",
       "      <td>126.0</td>\n",
       "      <td>3.0</td>\n",
       "      <td>0.0</td>\n",
       "      <td>3.0</td>\n",
       "      <td>1.0</td>\n",
       "      <td>0.0</td>\n",
       "      <td>0.0</td>\n",
       "      <td>0.0</td>\n",
       "      <td>1.0</td>\n",
       "      <td>1.0</td>\n",
       "      <td>0.0</td>\n",
       "      <td>...</td>\n",
       "      <td>False</td>\n",
       "      <td>True</td>\n",
       "      <td>False</td>\n",
       "      <td>False</td>\n",
       "      <td>False</td>\n",
       "      <td>False</td>\n",
       "      <td>False</td>\n",
       "      <td>False</td>\n",
       "      <td>False</td>\n",
       "      <td>False</td>\n",
       "      <td>False</td>\n",
       "      <td>False</td>\n",
       "      <td>False</td>\n",
       "      <td>7.0</td>\n",
       "      <td>7.0</td>\n",
       "      <td>0.0</td>\n",
       "      <td>0.0</td>\n",
       "      <td>0.0</td>\n",
       "      <td>0.0</td>\n",
       "      <td>1.0</td>\n",
       "      <td>0.0</td>\n",
       "      <td>6.0</td>\n",
       "      <td>2.0</td>\n",
       "      <td>0.0</td>\n",
       "      <td>0.0</td>\n",
       "      <td>0.0</td>\n",
       "      <td>1.0</td>\n",
       "      <td>0.0</td>\n",
       "      <td>7.0</td>\n",
       "      <td>0.0</td>\n",
       "      <td>1.0</td>\n",
       "      <td>1.0</td>\n",
       "      <td>0.0</td>\n",
       "      <td>1.0</td>\n",
       "      <td>0.0</td>\n",
       "      <td>6.0</td>\n",
       "      <td>1.0</td>\n",
       "      <td>2.0</td>\n",
       "      <td>1.0</td>\n",
       "      <td>0.0</td>\n",
       "      <td>1.0</td>\n",
       "      <td>0.0</td>\n",
       "      <td>8.0</td>\n",
       "      <td>1.0</td>\n",
       "      <td>1.0</td>\n",
       "      <td>1.0</td>\n",
       "      <td>1.0</td>\n",
       "      <td>1.0</td>\n",
       "      <td>0.0</td>\n",
       "      <td>177.75</td>\n",
       "    </tr>\n",
       "  </tbody>\n",
       "</table>\n",
       "<p>1 rows × 389 columns</p>\n",
       "</div>"
      ],
      "text/plain": [
       "                      id map_layout  num_players  1k_1o  2pwt_1o  1qic_2c  2c_terra  2pw_nav  1o_1vp_per_mine  1o_2vp_per_ts  1k_3vp_per_rl  4pw_4vp_per_3pip  4c_1vp_per_gaia   tech_terra tech_nav            tech_int tech_gaia tech_eco tech_sci tech_free1 tech_free2 tech_free3 tech_adv-terra   tech_adv-nav        tech_adv-int tech_adv-gaia       tech_adv-eco  tech_adv-sci round_1_scoring    round_2_scoring     round_3_scoring   round_4_scoring     round_5_scoring   round_6_scoring final_scoring_1 final_scoring_2 pos_4_dropped  pos_4_elo pos_4_faction  pos_4_score  pos_4_start_pos  pos_4_bid  pos_4_feds_taken  pos_4_fed_12vp  pos_4_fed_qic  pos_4_fed_2pw  pos_4_fed_2o  pos_4_fed_6c  pos_4_fed_2k  pos_4_fed_gleens  ...  pos_2_adv_tech_taken_1qic_5c_action  pos_2_adv_tech_taken_2vp_per_mine  pos_2_adv_tech_taken_3vp_per_rl_pass  pos_2_adv_tech_taken_1o_per_sector  pos_2_adv_tech_taken_1vp_per_terra_pass  pos_2_adv_tech_taken_2vp_per_gaia  pos_2_adv_tech_taken_4vp_per_ts  \\\n",
       "4364  Imperial-tree-6131   standard            4  False     True     True     False     True             True           True           True             False             True  k_per_terra      4pw  3vp_per_gaia_place        4c    1k_1c    1q_1o       4pip     1o_1pw        7vp      3k_action  1o_per_sector  1vp_per_terra_pass  2vp_per_gaia  2vp_per_tech_bump  2vp_per_mine   2vp_per_terra  5vp_per_fed_place  4vp_per_gaia_place  4vp_per_ts_place  5vp_per_3pip_place  3vp_per_ts_place            gaia    structureFed         False      100.0       bescods        126.0              3.0        0.0               3.0             1.0            0.0            0.0           0.0           1.0           1.0               0.0  ...                                False                               True                                 False                               False                                    False                              False                            False   \n",
       "\n",
       "      pos_2_adv_tech_taken_2vp_per_sector  pos_2_adv_tech_taken_3o_action  pos_2_adv_tech_taken_5vp_per_fed  pos_2_adv_tech_taken_3k_action  pos_2_adv_tech_taken_3vp_per_mine_place  pos_2_adv_tech_taken_3vp_per_ts_place  pos_2_total_techs_taken pos_2_buildings_r_1_m pos_2_buildings_r_1_ts pos_2_buildings_r_1_lab pos_2_buildings_r_1_ac1 pos_2_buildings_r_1_ac2 pos_2_buildings_r_1_PI pos_2_buildings_r_1_gf pos_2_buildings_r_2_m pos_2_buildings_r_2_ts pos_2_buildings_r_2_lab pos_2_buildings_r_2_ac1 pos_2_buildings_r_2_ac2 pos_2_buildings_r_2_PI pos_2_buildings_r_2_gf pos_2_buildings_r_3_m pos_2_buildings_r_3_ts pos_2_buildings_r_3_lab pos_2_buildings_r_3_ac1 pos_2_buildings_r_3_ac2 pos_2_buildings_r_3_PI pos_2_buildings_r_3_gf pos_2_buildings_r_4_m pos_2_buildings_r_4_ts pos_2_buildings_r_4_lab  pos_2_buildings_r_4_ac1  pos_2_buildings_r_4_ac2  pos_2_buildings_r_4_PI  pos_2_buildings_r_4_gf  pos_2_buildings_r_5_m  pos_2_buildings_r_5_ts  pos_2_buildings_r_5_lab  pos_2_buildings_r_5_ac1  \\\n",
       "4364                                False                           False                             False                           False                                    False                                  False                      7.0                   7.0                    0.0                     0.0                     0.0                     0.0                    1.0                    0.0                   6.0                    2.0                     0.0                     0.0                     0.0                    1.0                    0.0                   7.0                    0.0                     1.0                     1.0                     0.0                    1.0                    0.0                   6.0                    1.0                     2.0                      1.0                      0.0                     1.0                     0.0                    8.0                     1.0                      1.0                      1.0   \n",
       "\n",
       "      pos_2_buildings_r_5_ac2  pos_2_buildings_r_5_PI  pos_2_buildings_r_5_gf  average_elo  \n",
       "4364                      1.0                     1.0                     0.0       177.75  \n",
       "\n",
       "[1 rows x 389 columns]"
      ]
     },
     "execution_count": 6,
     "metadata": {},
     "output_type": "execute_result"
    }
   ],
   "source": [
    "# checking out if data wrong for unlikely taklon start --> it happend!\n",
    "p = 'pos_1_buildings_r_1'\n",
    "taklons_1 = dat_4[dat_4['pos_1_faction'] == 'taklons']\n",
    "taklons_1 = taklons_1.loc[(taklons_1[p + '_m'] == 7) & (taklons_1[p + '_lab'] == 1)]\n",
    "taklons_1.head()"
   ]
  },
  {
   "cell_type": "code",
   "execution_count": null,
   "id": "2987b2d8",
   "metadata": {},
   "outputs": [],
   "source": []
  }
 ],
 "metadata": {
  "kernelspec": {
   "display_name": "Python 3 (ipykernel)",
   "language": "python",
   "name": "python3"
  },
  "language_info": {
   "codemirror_mode": {
    "name": "ipython",
    "version": 3
   },
   "file_extension": ".py",
   "mimetype": "text/x-python",
   "name": "python",
   "nbconvert_exporter": "python",
   "pygments_lexer": "ipython3",
   "version": "3.8.10"
  }
 },
 "nbformat": 4,
 "nbformat_minor": 5
}
