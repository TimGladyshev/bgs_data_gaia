{
 "cells": [
  {
   "cell_type": "code",
   "execution_count": 220,
   "id": "7f7446e2",
   "metadata": {},
   "outputs": [],
   "source": [
    "import pandas as pd\n",
    "import numpy as np\n",
    "from scipy import stats\n",
    "pd.set_option('display.max_rows', 200)\n",
    "pd.set_option('display.max_columns', 100)\n",
    "pd.set_option('display.width', 1000)\n",
    "import json\n",
    "from IPython.display import display\n",
    "from subprocess import check_output\n",
    "import sys\n",
    "import traceback\n",
    "from tqdm.notebook import tqdm, trange\n",
    "import plotly.graph_objects as go\n",
    "import plotly.express as px\n",
    "pd.options.mode.chained_assignment = None\n",
    "import warnings\n",
    "warnings.simplefilter(action='ignore', category=FutureWarning)"
   ]
  },
  {
   "cell_type": "code",
   "execution_count": 2,
   "id": "e765f841",
   "metadata": {},
   "outputs": [],
   "source": [
    "techs = {\n",
    "    \"tech1\": \"1q_1o\",\n",
    "    \"tech2\": \"k_per_terra\",\n",
    "    \"tech3\": \"4pip\",\n",
    "    \"tech4\": \"7vp\",\n",
    "    \"tech5\": \"1o_1pw\",\n",
    "    \"tech6\": \"1k_1c\",\n",
    "    \"tech7\": \"3vp_per_gaia_place\",\n",
    "    \"tech8\": \"4c\",\n",
    "    \"tech9\": \"4pw\",\n",
    "    # idk wtf this is --> \"tech-ship0\"\n",
    "}\n",
    "\n",
    "adv_techs = {\n",
    "    \"advtech1\": \"3vp_per_fed_pass\",\n",
    "    \"advtech2\": \"2vp_per_tech_bump\",\n",
    "    \"advtech3\": \"1qic_5c_action\",\n",
    "    \"advtech4\": \"2vp_per_mine\",\n",
    "    \"advtech5\": \"3vp_per_rl_pass\",\n",
    "    \"advtech6\": \"1o_per_sector\",\n",
    "    \"advtech7\": \"1vp_per_terra_pass\",\n",
    "    \"advtech8\": \"2vp_per_gaia\",\n",
    "    \"advtech9\": \"4vp_per_ts\",\n",
    "    \"advtech10\": \"2vp_per_sector\",\n",
    "    \"advtech11\": \"3o_action\",\n",
    "    \"advtech12\": \"5vp_per_fed\",\n",
    "    \"advtech13\": \"3k_action\",\n",
    "    \"advtech14\": \"3vp_per_mine_place\",\n",
    "    \"advtech15\": \"3vp_per_ts_place\",\n",
    "}\n",
    "\n",
    "feds = {\n",
    "    \"fed1\": \"12vp\",\n",
    "    \"fed2\": \"qic\",\n",
    "    \"fed3\": \"2pw\",\n",
    "    \"fed4\": \"2o\",\n",
    "    \"fed5\": \"6c\",\n",
    "    \"fed6\": \"2k\",\n",
    "    \"gleens\": \"gleens\"\n",
    "}\n",
    "\n",
    "round_scorings = {\n",
    "    \"score1\": \"2vp_per_terra\",\n",
    "    \"score2\": \"2vp_per_research_bump\",\n",
    "    \"score3\": \"2vp_per_mine_place\",\n",
    "    \"score4\": \"5vp_per_fed_place\",\n",
    "    \"score5\": \"4vp_per_ts_place\",\n",
    "    \"score6\": \"4vp_per_gaia_place\",\n",
    "    \"score7\": \"5vp_per_3pip_place\",\n",
    "    \"score8\": \"3vp_per_ts_place\",\n",
    "    \"score9\": \"3vp_per_gaia_place\",\n",
    "    \"score10\": \"5vp_per_3pip_place\",\n",
    "}\n",
    "\n",
    "boosters = {\n",
    "\n",
    "    \"booster1\": \"1k_1o\",\n",
    "    \"booster2\": \"2pwt_1o\",\n",
    "    \"booster3\": \"1qic_2c\",\n",
    "    \"booster4\": \"2c_terra\",\n",
    "    \"booster5\": \"2pw_nav\",\n",
    "    \"booster6\": \"1o_1vp_per_mine\",\n",
    "    \"booster7\": \"1o_2vp_per_ts\",\n",
    "    \"booster8\": \"1k_3vp_per_rl\",\n",
    "    \"booster9\": \"4pw_4vp_per_3pip\",\n",
    "    \"booster10\": \"4c_1vp_per_gaia\",\n",
    "}\n",
    "\n",
    "bad_buildings = {\"colony\", \n",
    "                 \"colonyShip\", \n",
    "                 \"tradeShip\", \n",
    "                 \"constructionShip\", \n",
    "                 \"researchShip\",\n",
    "                 \"scout\",\n",
    "                 \"frigate\",\n",
    "                 \"battleShip\",\n",
    "                 \"customsPost\",\n",
    "                 \"tradePost\"\n",
    "                }\n",
    "\n",
    "factions = {\n",
    "    \"terrans\",\n",
    "    \"lantids\",\n",
    "    \"hadsch-hallas\",\n",
    "    \"ivits\",\n",
    "    \"baltaks\",\n",
    "    \"geodens\",\n",
    "    \"xenos\",\n",
    "    \"gleens\",\n",
    "    \"ambas\",\n",
    "    \"taklons\",\n",
    "    \"bescods\",\n",
    "    \"firaks\",\n",
    "    \"itars\",\n",
    "    \"nevlas\"\n",
    "}"
   ]
  },
  {
   "cell_type": "code",
   "execution_count": 42,
   "id": "60fb1163",
   "metadata": {},
   "outputs": [],
   "source": [
    "dat_2 = pd.read_pickle(\"two_players_data\")\n",
    "dat_3 = pd.read_pickle(\"three_players_data\")\n",
    "dat_4 = pd.read_pickle(\"four_players_data\")"
   ]
  },
  {
   "cell_type": "code",
   "execution_count": 4,
   "id": "7b00125d",
   "metadata": {},
   "outputs": [],
   "source": [
    "df = px.data.gapminder().query(\"year == 2007\")\n"
   ]
  },
  {
   "cell_type": "code",
   "execution_count": 5,
   "id": "b97a904f",
   "metadata": {},
   "outputs": [
    {
     "data": {
      "text/html": [
       "<div>\n",
       "<style scoped>\n",
       "    .dataframe tbody tr th:only-of-type {\n",
       "        vertical-align: middle;\n",
       "    }\n",
       "\n",
       "    .dataframe tbody tr th {\n",
       "        vertical-align: top;\n",
       "    }\n",
       "\n",
       "    .dataframe thead th {\n",
       "        text-align: right;\n",
       "    }\n",
       "</style>\n",
       "<table border=\"1\" class=\"dataframe\">\n",
       "  <thead>\n",
       "    <tr style=\"text-align: right;\">\n",
       "      <th></th>\n",
       "      <th>country</th>\n",
       "      <th>continent</th>\n",
       "      <th>year</th>\n",
       "      <th>lifeExp</th>\n",
       "      <th>pop</th>\n",
       "      <th>gdpPercap</th>\n",
       "      <th>iso_alpha</th>\n",
       "      <th>iso_num</th>\n",
       "    </tr>\n",
       "  </thead>\n",
       "  <tbody>\n",
       "    <tr>\n",
       "      <th>11</th>\n",
       "      <td>Afghanistan</td>\n",
       "      <td>Asia</td>\n",
       "      <td>2007</td>\n",
       "      <td>43.828</td>\n",
       "      <td>31889923</td>\n",
       "      <td>974.580338</td>\n",
       "      <td>AFG</td>\n",
       "      <td>4</td>\n",
       "    </tr>\n",
       "    <tr>\n",
       "      <th>23</th>\n",
       "      <td>Albania</td>\n",
       "      <td>Europe</td>\n",
       "      <td>2007</td>\n",
       "      <td>76.423</td>\n",
       "      <td>3600523</td>\n",
       "      <td>5937.029526</td>\n",
       "      <td>ALB</td>\n",
       "      <td>8</td>\n",
       "    </tr>\n",
       "    <tr>\n",
       "      <th>35</th>\n",
       "      <td>Algeria</td>\n",
       "      <td>Africa</td>\n",
       "      <td>2007</td>\n",
       "      <td>72.301</td>\n",
       "      <td>33333216</td>\n",
       "      <td>6223.367465</td>\n",
       "      <td>DZA</td>\n",
       "      <td>12</td>\n",
       "    </tr>\n",
       "    <tr>\n",
       "      <th>47</th>\n",
       "      <td>Angola</td>\n",
       "      <td>Africa</td>\n",
       "      <td>2007</td>\n",
       "      <td>42.731</td>\n",
       "      <td>12420476</td>\n",
       "      <td>4797.231267</td>\n",
       "      <td>AGO</td>\n",
       "      <td>24</td>\n",
       "    </tr>\n",
       "    <tr>\n",
       "      <th>59</th>\n",
       "      <td>Argentina</td>\n",
       "      <td>Americas</td>\n",
       "      <td>2007</td>\n",
       "      <td>75.320</td>\n",
       "      <td>40301927</td>\n",
       "      <td>12779.379640</td>\n",
       "      <td>ARG</td>\n",
       "      <td>32</td>\n",
       "    </tr>\n",
       "    <tr>\n",
       "      <th>71</th>\n",
       "      <td>Australia</td>\n",
       "      <td>Oceania</td>\n",
       "      <td>2007</td>\n",
       "      <td>81.235</td>\n",
       "      <td>20434176</td>\n",
       "      <td>34435.367440</td>\n",
       "      <td>AUS</td>\n",
       "      <td>36</td>\n",
       "    </tr>\n",
       "    <tr>\n",
       "      <th>83</th>\n",
       "      <td>Austria</td>\n",
       "      <td>Europe</td>\n",
       "      <td>2007</td>\n",
       "      <td>79.829</td>\n",
       "      <td>8199783</td>\n",
       "      <td>36126.492700</td>\n",
       "      <td>AUT</td>\n",
       "      <td>40</td>\n",
       "    </tr>\n",
       "    <tr>\n",
       "      <th>95</th>\n",
       "      <td>Bahrain</td>\n",
       "      <td>Asia</td>\n",
       "      <td>2007</td>\n",
       "      <td>75.635</td>\n",
       "      <td>708573</td>\n",
       "      <td>29796.048340</td>\n",
       "      <td>BHR</td>\n",
       "      <td>48</td>\n",
       "    </tr>\n",
       "    <tr>\n",
       "      <th>107</th>\n",
       "      <td>Bangladesh</td>\n",
       "      <td>Asia</td>\n",
       "      <td>2007</td>\n",
       "      <td>64.062</td>\n",
       "      <td>150448339</td>\n",
       "      <td>1391.253792</td>\n",
       "      <td>BGD</td>\n",
       "      <td>50</td>\n",
       "    </tr>\n",
       "    <tr>\n",
       "      <th>119</th>\n",
       "      <td>Belgium</td>\n",
       "      <td>Europe</td>\n",
       "      <td>2007</td>\n",
       "      <td>79.441</td>\n",
       "      <td>10392226</td>\n",
       "      <td>33692.605080</td>\n",
       "      <td>BEL</td>\n",
       "      <td>56</td>\n",
       "    </tr>\n",
       "    <tr>\n",
       "      <th>131</th>\n",
       "      <td>Benin</td>\n",
       "      <td>Africa</td>\n",
       "      <td>2007</td>\n",
       "      <td>56.728</td>\n",
       "      <td>8078314</td>\n",
       "      <td>1441.284873</td>\n",
       "      <td>BEN</td>\n",
       "      <td>204</td>\n",
       "    </tr>\n",
       "    <tr>\n",
       "      <th>143</th>\n",
       "      <td>Bolivia</td>\n",
       "      <td>Americas</td>\n",
       "      <td>2007</td>\n",
       "      <td>65.554</td>\n",
       "      <td>9119152</td>\n",
       "      <td>3822.137084</td>\n",
       "      <td>BOL</td>\n",
       "      <td>68</td>\n",
       "    </tr>\n",
       "    <tr>\n",
       "      <th>155</th>\n",
       "      <td>Bosnia and Herzegovina</td>\n",
       "      <td>Europe</td>\n",
       "      <td>2007</td>\n",
       "      <td>74.852</td>\n",
       "      <td>4552198</td>\n",
       "      <td>7446.298803</td>\n",
       "      <td>BIH</td>\n",
       "      <td>70</td>\n",
       "    </tr>\n",
       "    <tr>\n",
       "      <th>167</th>\n",
       "      <td>Botswana</td>\n",
       "      <td>Africa</td>\n",
       "      <td>2007</td>\n",
       "      <td>50.728</td>\n",
       "      <td>1639131</td>\n",
       "      <td>12569.851770</td>\n",
       "      <td>BWA</td>\n",
       "      <td>72</td>\n",
       "    </tr>\n",
       "    <tr>\n",
       "      <th>179</th>\n",
       "      <td>Brazil</td>\n",
       "      <td>Americas</td>\n",
       "      <td>2007</td>\n",
       "      <td>72.390</td>\n",
       "      <td>190010647</td>\n",
       "      <td>9065.800825</td>\n",
       "      <td>BRA</td>\n",
       "      <td>76</td>\n",
       "    </tr>\n",
       "    <tr>\n",
       "      <th>191</th>\n",
       "      <td>Bulgaria</td>\n",
       "      <td>Europe</td>\n",
       "      <td>2007</td>\n",
       "      <td>73.005</td>\n",
       "      <td>7322858</td>\n",
       "      <td>10680.792820</td>\n",
       "      <td>BGR</td>\n",
       "      <td>100</td>\n",
       "    </tr>\n",
       "    <tr>\n",
       "      <th>203</th>\n",
       "      <td>Burkina Faso</td>\n",
       "      <td>Africa</td>\n",
       "      <td>2007</td>\n",
       "      <td>52.295</td>\n",
       "      <td>14326203</td>\n",
       "      <td>1217.032994</td>\n",
       "      <td>BFA</td>\n",
       "      <td>854</td>\n",
       "    </tr>\n",
       "    <tr>\n",
       "      <th>215</th>\n",
       "      <td>Burundi</td>\n",
       "      <td>Africa</td>\n",
       "      <td>2007</td>\n",
       "      <td>49.580</td>\n",
       "      <td>8390505</td>\n",
       "      <td>430.070692</td>\n",
       "      <td>BDI</td>\n",
       "      <td>108</td>\n",
       "    </tr>\n",
       "    <tr>\n",
       "      <th>227</th>\n",
       "      <td>Cambodia</td>\n",
       "      <td>Asia</td>\n",
       "      <td>2007</td>\n",
       "      <td>59.723</td>\n",
       "      <td>14131858</td>\n",
       "      <td>1713.778686</td>\n",
       "      <td>KHM</td>\n",
       "      <td>116</td>\n",
       "    </tr>\n",
       "    <tr>\n",
       "      <th>239</th>\n",
       "      <td>Cameroon</td>\n",
       "      <td>Africa</td>\n",
       "      <td>2007</td>\n",
       "      <td>50.430</td>\n",
       "      <td>17696293</td>\n",
       "      <td>2042.095240</td>\n",
       "      <td>CMR</td>\n",
       "      <td>120</td>\n",
       "    </tr>\n",
       "    <tr>\n",
       "      <th>251</th>\n",
       "      <td>Canada</td>\n",
       "      <td>Americas</td>\n",
       "      <td>2007</td>\n",
       "      <td>80.653</td>\n",
       "      <td>33390141</td>\n",
       "      <td>36319.235010</td>\n",
       "      <td>CAN</td>\n",
       "      <td>124</td>\n",
       "    </tr>\n",
       "    <tr>\n",
       "      <th>263</th>\n",
       "      <td>Central African Republic</td>\n",
       "      <td>Africa</td>\n",
       "      <td>2007</td>\n",
       "      <td>44.741</td>\n",
       "      <td>4369038</td>\n",
       "      <td>706.016537</td>\n",
       "      <td>CAF</td>\n",
       "      <td>140</td>\n",
       "    </tr>\n",
       "    <tr>\n",
       "      <th>275</th>\n",
       "      <td>Chad</td>\n",
       "      <td>Africa</td>\n",
       "      <td>2007</td>\n",
       "      <td>50.651</td>\n",
       "      <td>10238807</td>\n",
       "      <td>1704.063724</td>\n",
       "      <td>TCD</td>\n",
       "      <td>148</td>\n",
       "    </tr>\n",
       "    <tr>\n",
       "      <th>287</th>\n",
       "      <td>Chile</td>\n",
       "      <td>Americas</td>\n",
       "      <td>2007</td>\n",
       "      <td>78.553</td>\n",
       "      <td>16284741</td>\n",
       "      <td>13171.638850</td>\n",
       "      <td>CHL</td>\n",
       "      <td>152</td>\n",
       "    </tr>\n",
       "    <tr>\n",
       "      <th>299</th>\n",
       "      <td>China</td>\n",
       "      <td>Asia</td>\n",
       "      <td>2007</td>\n",
       "      <td>72.961</td>\n",
       "      <td>1318683096</td>\n",
       "      <td>4959.114854</td>\n",
       "      <td>CHN</td>\n",
       "      <td>156</td>\n",
       "    </tr>\n",
       "    <tr>\n",
       "      <th>311</th>\n",
       "      <td>Colombia</td>\n",
       "      <td>Americas</td>\n",
       "      <td>2007</td>\n",
       "      <td>72.889</td>\n",
       "      <td>44227550</td>\n",
       "      <td>7006.580419</td>\n",
       "      <td>COL</td>\n",
       "      <td>170</td>\n",
       "    </tr>\n",
       "    <tr>\n",
       "      <th>323</th>\n",
       "      <td>Comoros</td>\n",
       "      <td>Africa</td>\n",
       "      <td>2007</td>\n",
       "      <td>65.152</td>\n",
       "      <td>710960</td>\n",
       "      <td>986.147879</td>\n",
       "      <td>COM</td>\n",
       "      <td>174</td>\n",
       "    </tr>\n",
       "    <tr>\n",
       "      <th>335</th>\n",
       "      <td>Congo, Dem. Rep.</td>\n",
       "      <td>Africa</td>\n",
       "      <td>2007</td>\n",
       "      <td>46.462</td>\n",
       "      <td>64606759</td>\n",
       "      <td>277.551859</td>\n",
       "      <td>COD</td>\n",
       "      <td>180</td>\n",
       "    </tr>\n",
       "    <tr>\n",
       "      <th>347</th>\n",
       "      <td>Congo, Rep.</td>\n",
       "      <td>Africa</td>\n",
       "      <td>2007</td>\n",
       "      <td>55.322</td>\n",
       "      <td>3800610</td>\n",
       "      <td>3632.557798</td>\n",
       "      <td>COG</td>\n",
       "      <td>178</td>\n",
       "    </tr>\n",
       "    <tr>\n",
       "      <th>359</th>\n",
       "      <td>Costa Rica</td>\n",
       "      <td>Americas</td>\n",
       "      <td>2007</td>\n",
       "      <td>78.782</td>\n",
       "      <td>4133884</td>\n",
       "      <td>9645.061420</td>\n",
       "      <td>CRI</td>\n",
       "      <td>188</td>\n",
       "    </tr>\n",
       "    <tr>\n",
       "      <th>371</th>\n",
       "      <td>Cote d'Ivoire</td>\n",
       "      <td>Africa</td>\n",
       "      <td>2007</td>\n",
       "      <td>48.328</td>\n",
       "      <td>18013409</td>\n",
       "      <td>1544.750112</td>\n",
       "      <td>CIV</td>\n",
       "      <td>384</td>\n",
       "    </tr>\n",
       "    <tr>\n",
       "      <th>383</th>\n",
       "      <td>Croatia</td>\n",
       "      <td>Europe</td>\n",
       "      <td>2007</td>\n",
       "      <td>75.748</td>\n",
       "      <td>4493312</td>\n",
       "      <td>14619.222720</td>\n",
       "      <td>HRV</td>\n",
       "      <td>191</td>\n",
       "    </tr>\n",
       "    <tr>\n",
       "      <th>395</th>\n",
       "      <td>Cuba</td>\n",
       "      <td>Americas</td>\n",
       "      <td>2007</td>\n",
       "      <td>78.273</td>\n",
       "      <td>11416987</td>\n",
       "      <td>8948.102923</td>\n",
       "      <td>CUB</td>\n",
       "      <td>192</td>\n",
       "    </tr>\n",
       "    <tr>\n",
       "      <th>407</th>\n",
       "      <td>Czech Republic</td>\n",
       "      <td>Europe</td>\n",
       "      <td>2007</td>\n",
       "      <td>76.486</td>\n",
       "      <td>10228744</td>\n",
       "      <td>22833.308510</td>\n",
       "      <td>CZE</td>\n",
       "      <td>203</td>\n",
       "    </tr>\n",
       "    <tr>\n",
       "      <th>419</th>\n",
       "      <td>Denmark</td>\n",
       "      <td>Europe</td>\n",
       "      <td>2007</td>\n",
       "      <td>78.332</td>\n",
       "      <td>5468120</td>\n",
       "      <td>35278.418740</td>\n",
       "      <td>DNK</td>\n",
       "      <td>208</td>\n",
       "    </tr>\n",
       "    <tr>\n",
       "      <th>431</th>\n",
       "      <td>Djibouti</td>\n",
       "      <td>Africa</td>\n",
       "      <td>2007</td>\n",
       "      <td>54.791</td>\n",
       "      <td>496374</td>\n",
       "      <td>2082.481567</td>\n",
       "      <td>DJI</td>\n",
       "      <td>262</td>\n",
       "    </tr>\n",
       "    <tr>\n",
       "      <th>443</th>\n",
       "      <td>Dominican Republic</td>\n",
       "      <td>Americas</td>\n",
       "      <td>2007</td>\n",
       "      <td>72.235</td>\n",
       "      <td>9319622</td>\n",
       "      <td>6025.374752</td>\n",
       "      <td>DOM</td>\n",
       "      <td>214</td>\n",
       "    </tr>\n",
       "    <tr>\n",
       "      <th>455</th>\n",
       "      <td>Ecuador</td>\n",
       "      <td>Americas</td>\n",
       "      <td>2007</td>\n",
       "      <td>74.994</td>\n",
       "      <td>13755680</td>\n",
       "      <td>6873.262326</td>\n",
       "      <td>ECU</td>\n",
       "      <td>218</td>\n",
       "    </tr>\n",
       "    <tr>\n",
       "      <th>467</th>\n",
       "      <td>Egypt</td>\n",
       "      <td>Africa</td>\n",
       "      <td>2007</td>\n",
       "      <td>71.338</td>\n",
       "      <td>80264543</td>\n",
       "      <td>5581.180998</td>\n",
       "      <td>EGY</td>\n",
       "      <td>818</td>\n",
       "    </tr>\n",
       "    <tr>\n",
       "      <th>479</th>\n",
       "      <td>El Salvador</td>\n",
       "      <td>Americas</td>\n",
       "      <td>2007</td>\n",
       "      <td>71.878</td>\n",
       "      <td>6939688</td>\n",
       "      <td>5728.353514</td>\n",
       "      <td>SLV</td>\n",
       "      <td>222</td>\n",
       "    </tr>\n",
       "    <tr>\n",
       "      <th>491</th>\n",
       "      <td>Equatorial Guinea</td>\n",
       "      <td>Africa</td>\n",
       "      <td>2007</td>\n",
       "      <td>51.579</td>\n",
       "      <td>551201</td>\n",
       "      <td>12154.089750</td>\n",
       "      <td>GNQ</td>\n",
       "      <td>226</td>\n",
       "    </tr>\n",
       "    <tr>\n",
       "      <th>503</th>\n",
       "      <td>Eritrea</td>\n",
       "      <td>Africa</td>\n",
       "      <td>2007</td>\n",
       "      <td>58.040</td>\n",
       "      <td>4906585</td>\n",
       "      <td>641.369524</td>\n",
       "      <td>ERI</td>\n",
       "      <td>232</td>\n",
       "    </tr>\n",
       "    <tr>\n",
       "      <th>515</th>\n",
       "      <td>Ethiopia</td>\n",
       "      <td>Africa</td>\n",
       "      <td>2007</td>\n",
       "      <td>52.947</td>\n",
       "      <td>76511887</td>\n",
       "      <td>690.805576</td>\n",
       "      <td>ETH</td>\n",
       "      <td>231</td>\n",
       "    </tr>\n",
       "    <tr>\n",
       "      <th>527</th>\n",
       "      <td>Finland</td>\n",
       "      <td>Europe</td>\n",
       "      <td>2007</td>\n",
       "      <td>79.313</td>\n",
       "      <td>5238460</td>\n",
       "      <td>33207.084400</td>\n",
       "      <td>FIN</td>\n",
       "      <td>246</td>\n",
       "    </tr>\n",
       "    <tr>\n",
       "      <th>539</th>\n",
       "      <td>France</td>\n",
       "      <td>Europe</td>\n",
       "      <td>2007</td>\n",
       "      <td>80.657</td>\n",
       "      <td>61083916</td>\n",
       "      <td>30470.016700</td>\n",
       "      <td>FRA</td>\n",
       "      <td>250</td>\n",
       "    </tr>\n",
       "    <tr>\n",
       "      <th>551</th>\n",
       "      <td>Gabon</td>\n",
       "      <td>Africa</td>\n",
       "      <td>2007</td>\n",
       "      <td>56.735</td>\n",
       "      <td>1454867</td>\n",
       "      <td>13206.484520</td>\n",
       "      <td>GAB</td>\n",
       "      <td>266</td>\n",
       "    </tr>\n",
       "    <tr>\n",
       "      <th>563</th>\n",
       "      <td>Gambia</td>\n",
       "      <td>Africa</td>\n",
       "      <td>2007</td>\n",
       "      <td>59.448</td>\n",
       "      <td>1688359</td>\n",
       "      <td>752.749726</td>\n",
       "      <td>GMB</td>\n",
       "      <td>270</td>\n",
       "    </tr>\n",
       "    <tr>\n",
       "      <th>575</th>\n",
       "      <td>Germany</td>\n",
       "      <td>Europe</td>\n",
       "      <td>2007</td>\n",
       "      <td>79.406</td>\n",
       "      <td>82400996</td>\n",
       "      <td>32170.374420</td>\n",
       "      <td>DEU</td>\n",
       "      <td>276</td>\n",
       "    </tr>\n",
       "    <tr>\n",
       "      <th>587</th>\n",
       "      <td>Ghana</td>\n",
       "      <td>Africa</td>\n",
       "      <td>2007</td>\n",
       "      <td>60.022</td>\n",
       "      <td>22873338</td>\n",
       "      <td>1327.608910</td>\n",
       "      <td>GHA</td>\n",
       "      <td>288</td>\n",
       "    </tr>\n",
       "    <tr>\n",
       "      <th>599</th>\n",
       "      <td>Greece</td>\n",
       "      <td>Europe</td>\n",
       "      <td>2007</td>\n",
       "      <td>79.483</td>\n",
       "      <td>10706290</td>\n",
       "      <td>27538.411880</td>\n",
       "      <td>GRC</td>\n",
       "      <td>300</td>\n",
       "    </tr>\n",
       "    <tr>\n",
       "      <th>611</th>\n",
       "      <td>Guatemala</td>\n",
       "      <td>Americas</td>\n",
       "      <td>2007</td>\n",
       "      <td>70.259</td>\n",
       "      <td>12572928</td>\n",
       "      <td>5186.050003</td>\n",
       "      <td>GTM</td>\n",
       "      <td>320</td>\n",
       "    </tr>\n",
       "    <tr>\n",
       "      <th>623</th>\n",
       "      <td>Guinea</td>\n",
       "      <td>Africa</td>\n",
       "      <td>2007</td>\n",
       "      <td>56.007</td>\n",
       "      <td>9947814</td>\n",
       "      <td>942.654211</td>\n",
       "      <td>GIN</td>\n",
       "      <td>324</td>\n",
       "    </tr>\n",
       "    <tr>\n",
       "      <th>635</th>\n",
       "      <td>Guinea-Bissau</td>\n",
       "      <td>Africa</td>\n",
       "      <td>2007</td>\n",
       "      <td>46.388</td>\n",
       "      <td>1472041</td>\n",
       "      <td>579.231743</td>\n",
       "      <td>GNB</td>\n",
       "      <td>624</td>\n",
       "    </tr>\n",
       "    <tr>\n",
       "      <th>647</th>\n",
       "      <td>Haiti</td>\n",
       "      <td>Americas</td>\n",
       "      <td>2007</td>\n",
       "      <td>60.916</td>\n",
       "      <td>8502814</td>\n",
       "      <td>1201.637154</td>\n",
       "      <td>HTI</td>\n",
       "      <td>332</td>\n",
       "    </tr>\n",
       "    <tr>\n",
       "      <th>659</th>\n",
       "      <td>Honduras</td>\n",
       "      <td>Americas</td>\n",
       "      <td>2007</td>\n",
       "      <td>70.198</td>\n",
       "      <td>7483763</td>\n",
       "      <td>3548.330846</td>\n",
       "      <td>HND</td>\n",
       "      <td>340</td>\n",
       "    </tr>\n",
       "    <tr>\n",
       "      <th>671</th>\n",
       "      <td>Hong Kong, China</td>\n",
       "      <td>Asia</td>\n",
       "      <td>2007</td>\n",
       "      <td>82.208</td>\n",
       "      <td>6980412</td>\n",
       "      <td>39724.978670</td>\n",
       "      <td>HKG</td>\n",
       "      <td>344</td>\n",
       "    </tr>\n",
       "    <tr>\n",
       "      <th>683</th>\n",
       "      <td>Hungary</td>\n",
       "      <td>Europe</td>\n",
       "      <td>2007</td>\n",
       "      <td>73.338</td>\n",
       "      <td>9956108</td>\n",
       "      <td>18008.944440</td>\n",
       "      <td>HUN</td>\n",
       "      <td>348</td>\n",
       "    </tr>\n",
       "    <tr>\n",
       "      <th>695</th>\n",
       "      <td>Iceland</td>\n",
       "      <td>Europe</td>\n",
       "      <td>2007</td>\n",
       "      <td>81.757</td>\n",
       "      <td>301931</td>\n",
       "      <td>36180.789190</td>\n",
       "      <td>ISL</td>\n",
       "      <td>352</td>\n",
       "    </tr>\n",
       "    <tr>\n",
       "      <th>707</th>\n",
       "      <td>India</td>\n",
       "      <td>Asia</td>\n",
       "      <td>2007</td>\n",
       "      <td>64.698</td>\n",
       "      <td>1110396331</td>\n",
       "      <td>2452.210407</td>\n",
       "      <td>IND</td>\n",
       "      <td>356</td>\n",
       "    </tr>\n",
       "    <tr>\n",
       "      <th>719</th>\n",
       "      <td>Indonesia</td>\n",
       "      <td>Asia</td>\n",
       "      <td>2007</td>\n",
       "      <td>70.650</td>\n",
       "      <td>223547000</td>\n",
       "      <td>3540.651564</td>\n",
       "      <td>IDN</td>\n",
       "      <td>360</td>\n",
       "    </tr>\n",
       "    <tr>\n",
       "      <th>731</th>\n",
       "      <td>Iran</td>\n",
       "      <td>Asia</td>\n",
       "      <td>2007</td>\n",
       "      <td>70.964</td>\n",
       "      <td>69453570</td>\n",
       "      <td>11605.714490</td>\n",
       "      <td>IRN</td>\n",
       "      <td>364</td>\n",
       "    </tr>\n",
       "    <tr>\n",
       "      <th>743</th>\n",
       "      <td>Iraq</td>\n",
       "      <td>Asia</td>\n",
       "      <td>2007</td>\n",
       "      <td>59.545</td>\n",
       "      <td>27499638</td>\n",
       "      <td>4471.061906</td>\n",
       "      <td>IRQ</td>\n",
       "      <td>368</td>\n",
       "    </tr>\n",
       "    <tr>\n",
       "      <th>755</th>\n",
       "      <td>Ireland</td>\n",
       "      <td>Europe</td>\n",
       "      <td>2007</td>\n",
       "      <td>78.885</td>\n",
       "      <td>4109086</td>\n",
       "      <td>40675.996350</td>\n",
       "      <td>IRL</td>\n",
       "      <td>372</td>\n",
       "    </tr>\n",
       "    <tr>\n",
       "      <th>767</th>\n",
       "      <td>Israel</td>\n",
       "      <td>Asia</td>\n",
       "      <td>2007</td>\n",
       "      <td>80.745</td>\n",
       "      <td>6426679</td>\n",
       "      <td>25523.277100</td>\n",
       "      <td>ISR</td>\n",
       "      <td>376</td>\n",
       "    </tr>\n",
       "    <tr>\n",
       "      <th>779</th>\n",
       "      <td>Italy</td>\n",
       "      <td>Europe</td>\n",
       "      <td>2007</td>\n",
       "      <td>80.546</td>\n",
       "      <td>58147733</td>\n",
       "      <td>28569.719700</td>\n",
       "      <td>ITA</td>\n",
       "      <td>380</td>\n",
       "    </tr>\n",
       "    <tr>\n",
       "      <th>791</th>\n",
       "      <td>Jamaica</td>\n",
       "      <td>Americas</td>\n",
       "      <td>2007</td>\n",
       "      <td>72.567</td>\n",
       "      <td>2780132</td>\n",
       "      <td>7320.880262</td>\n",
       "      <td>JAM</td>\n",
       "      <td>388</td>\n",
       "    </tr>\n",
       "    <tr>\n",
       "      <th>803</th>\n",
       "      <td>Japan</td>\n",
       "      <td>Asia</td>\n",
       "      <td>2007</td>\n",
       "      <td>82.603</td>\n",
       "      <td>127467972</td>\n",
       "      <td>31656.068060</td>\n",
       "      <td>JPN</td>\n",
       "      <td>392</td>\n",
       "    </tr>\n",
       "    <tr>\n",
       "      <th>815</th>\n",
       "      <td>Jordan</td>\n",
       "      <td>Asia</td>\n",
       "      <td>2007</td>\n",
       "      <td>72.535</td>\n",
       "      <td>6053193</td>\n",
       "      <td>4519.461171</td>\n",
       "      <td>JOR</td>\n",
       "      <td>400</td>\n",
       "    </tr>\n",
       "    <tr>\n",
       "      <th>827</th>\n",
       "      <td>Kenya</td>\n",
       "      <td>Africa</td>\n",
       "      <td>2007</td>\n",
       "      <td>54.110</td>\n",
       "      <td>35610177</td>\n",
       "      <td>1463.249282</td>\n",
       "      <td>KEN</td>\n",
       "      <td>404</td>\n",
       "    </tr>\n",
       "    <tr>\n",
       "      <th>839</th>\n",
       "      <td>Korea, Dem. Rep.</td>\n",
       "      <td>Asia</td>\n",
       "      <td>2007</td>\n",
       "      <td>67.297</td>\n",
       "      <td>23301725</td>\n",
       "      <td>1593.065480</td>\n",
       "      <td>KOR</td>\n",
       "      <td>410</td>\n",
       "    </tr>\n",
       "    <tr>\n",
       "      <th>851</th>\n",
       "      <td>Korea, Rep.</td>\n",
       "      <td>Asia</td>\n",
       "      <td>2007</td>\n",
       "      <td>78.623</td>\n",
       "      <td>49044790</td>\n",
       "      <td>23348.139730</td>\n",
       "      <td>KOR</td>\n",
       "      <td>410</td>\n",
       "    </tr>\n",
       "    <tr>\n",
       "      <th>863</th>\n",
       "      <td>Kuwait</td>\n",
       "      <td>Asia</td>\n",
       "      <td>2007</td>\n",
       "      <td>77.588</td>\n",
       "      <td>2505559</td>\n",
       "      <td>47306.989780</td>\n",
       "      <td>KWT</td>\n",
       "      <td>414</td>\n",
       "    </tr>\n",
       "    <tr>\n",
       "      <th>875</th>\n",
       "      <td>Lebanon</td>\n",
       "      <td>Asia</td>\n",
       "      <td>2007</td>\n",
       "      <td>71.993</td>\n",
       "      <td>3921278</td>\n",
       "      <td>10461.058680</td>\n",
       "      <td>LBN</td>\n",
       "      <td>422</td>\n",
       "    </tr>\n",
       "    <tr>\n",
       "      <th>887</th>\n",
       "      <td>Lesotho</td>\n",
       "      <td>Africa</td>\n",
       "      <td>2007</td>\n",
       "      <td>42.592</td>\n",
       "      <td>2012649</td>\n",
       "      <td>1569.331442</td>\n",
       "      <td>LSO</td>\n",
       "      <td>426</td>\n",
       "    </tr>\n",
       "    <tr>\n",
       "      <th>899</th>\n",
       "      <td>Liberia</td>\n",
       "      <td>Africa</td>\n",
       "      <td>2007</td>\n",
       "      <td>45.678</td>\n",
       "      <td>3193942</td>\n",
       "      <td>414.507341</td>\n",
       "      <td>LBR</td>\n",
       "      <td>430</td>\n",
       "    </tr>\n",
       "    <tr>\n",
       "      <th>911</th>\n",
       "      <td>Libya</td>\n",
       "      <td>Africa</td>\n",
       "      <td>2007</td>\n",
       "      <td>73.952</td>\n",
       "      <td>6036914</td>\n",
       "      <td>12057.499280</td>\n",
       "      <td>LBY</td>\n",
       "      <td>434</td>\n",
       "    </tr>\n",
       "    <tr>\n",
       "      <th>923</th>\n",
       "      <td>Madagascar</td>\n",
       "      <td>Africa</td>\n",
       "      <td>2007</td>\n",
       "      <td>59.443</td>\n",
       "      <td>19167654</td>\n",
       "      <td>1044.770126</td>\n",
       "      <td>MDG</td>\n",
       "      <td>450</td>\n",
       "    </tr>\n",
       "    <tr>\n",
       "      <th>935</th>\n",
       "      <td>Malawi</td>\n",
       "      <td>Africa</td>\n",
       "      <td>2007</td>\n",
       "      <td>48.303</td>\n",
       "      <td>13327079</td>\n",
       "      <td>759.349910</td>\n",
       "      <td>MWI</td>\n",
       "      <td>454</td>\n",
       "    </tr>\n",
       "    <tr>\n",
       "      <th>947</th>\n",
       "      <td>Malaysia</td>\n",
       "      <td>Asia</td>\n",
       "      <td>2007</td>\n",
       "      <td>74.241</td>\n",
       "      <td>24821286</td>\n",
       "      <td>12451.655800</td>\n",
       "      <td>MYS</td>\n",
       "      <td>458</td>\n",
       "    </tr>\n",
       "    <tr>\n",
       "      <th>959</th>\n",
       "      <td>Mali</td>\n",
       "      <td>Africa</td>\n",
       "      <td>2007</td>\n",
       "      <td>54.467</td>\n",
       "      <td>12031795</td>\n",
       "      <td>1042.581557</td>\n",
       "      <td>MLI</td>\n",
       "      <td>466</td>\n",
       "    </tr>\n",
       "    <tr>\n",
       "      <th>971</th>\n",
       "      <td>Mauritania</td>\n",
       "      <td>Africa</td>\n",
       "      <td>2007</td>\n",
       "      <td>64.164</td>\n",
       "      <td>3270065</td>\n",
       "      <td>1803.151496</td>\n",
       "      <td>MRT</td>\n",
       "      <td>478</td>\n",
       "    </tr>\n",
       "    <tr>\n",
       "      <th>983</th>\n",
       "      <td>Mauritius</td>\n",
       "      <td>Africa</td>\n",
       "      <td>2007</td>\n",
       "      <td>72.801</td>\n",
       "      <td>1250882</td>\n",
       "      <td>10956.991120</td>\n",
       "      <td>MUS</td>\n",
       "      <td>480</td>\n",
       "    </tr>\n",
       "    <tr>\n",
       "      <th>995</th>\n",
       "      <td>Mexico</td>\n",
       "      <td>Americas</td>\n",
       "      <td>2007</td>\n",
       "      <td>76.195</td>\n",
       "      <td>108700891</td>\n",
       "      <td>11977.574960</td>\n",
       "      <td>MEX</td>\n",
       "      <td>484</td>\n",
       "    </tr>\n",
       "    <tr>\n",
       "      <th>1007</th>\n",
       "      <td>Mongolia</td>\n",
       "      <td>Asia</td>\n",
       "      <td>2007</td>\n",
       "      <td>66.803</td>\n",
       "      <td>2874127</td>\n",
       "      <td>3095.772271</td>\n",
       "      <td>MNG</td>\n",
       "      <td>496</td>\n",
       "    </tr>\n",
       "    <tr>\n",
       "      <th>1019</th>\n",
       "      <td>Montenegro</td>\n",
       "      <td>Europe</td>\n",
       "      <td>2007</td>\n",
       "      <td>74.543</td>\n",
       "      <td>684736</td>\n",
       "      <td>9253.896111</td>\n",
       "      <td>MNE</td>\n",
       "      <td>499</td>\n",
       "    </tr>\n",
       "    <tr>\n",
       "      <th>1031</th>\n",
       "      <td>Morocco</td>\n",
       "      <td>Africa</td>\n",
       "      <td>2007</td>\n",
       "      <td>71.164</td>\n",
       "      <td>33757175</td>\n",
       "      <td>3820.175230</td>\n",
       "      <td>MAR</td>\n",
       "      <td>504</td>\n",
       "    </tr>\n",
       "    <tr>\n",
       "      <th>1043</th>\n",
       "      <td>Mozambique</td>\n",
       "      <td>Africa</td>\n",
       "      <td>2007</td>\n",
       "      <td>42.082</td>\n",
       "      <td>19951656</td>\n",
       "      <td>823.685621</td>\n",
       "      <td>MOZ</td>\n",
       "      <td>508</td>\n",
       "    </tr>\n",
       "    <tr>\n",
       "      <th>1055</th>\n",
       "      <td>Myanmar</td>\n",
       "      <td>Asia</td>\n",
       "      <td>2007</td>\n",
       "      <td>62.069</td>\n",
       "      <td>47761980</td>\n",
       "      <td>944.000000</td>\n",
       "      <td>MMR</td>\n",
       "      <td>104</td>\n",
       "    </tr>\n",
       "    <tr>\n",
       "      <th>1067</th>\n",
       "      <td>Namibia</td>\n",
       "      <td>Africa</td>\n",
       "      <td>2007</td>\n",
       "      <td>52.906</td>\n",
       "      <td>2055080</td>\n",
       "      <td>4811.060429</td>\n",
       "      <td>NAM</td>\n",
       "      <td>516</td>\n",
       "    </tr>\n",
       "    <tr>\n",
       "      <th>1079</th>\n",
       "      <td>Nepal</td>\n",
       "      <td>Asia</td>\n",
       "      <td>2007</td>\n",
       "      <td>63.785</td>\n",
       "      <td>28901790</td>\n",
       "      <td>1091.359778</td>\n",
       "      <td>NPL</td>\n",
       "      <td>524</td>\n",
       "    </tr>\n",
       "    <tr>\n",
       "      <th>1091</th>\n",
       "      <td>Netherlands</td>\n",
       "      <td>Europe</td>\n",
       "      <td>2007</td>\n",
       "      <td>79.762</td>\n",
       "      <td>16570613</td>\n",
       "      <td>36797.933320</td>\n",
       "      <td>NLD</td>\n",
       "      <td>528</td>\n",
       "    </tr>\n",
       "    <tr>\n",
       "      <th>1103</th>\n",
       "      <td>New Zealand</td>\n",
       "      <td>Oceania</td>\n",
       "      <td>2007</td>\n",
       "      <td>80.204</td>\n",
       "      <td>4115771</td>\n",
       "      <td>25185.009110</td>\n",
       "      <td>NZL</td>\n",
       "      <td>554</td>\n",
       "    </tr>\n",
       "    <tr>\n",
       "      <th>1115</th>\n",
       "      <td>Nicaragua</td>\n",
       "      <td>Americas</td>\n",
       "      <td>2007</td>\n",
       "      <td>72.899</td>\n",
       "      <td>5675356</td>\n",
       "      <td>2749.320965</td>\n",
       "      <td>NIC</td>\n",
       "      <td>558</td>\n",
       "    </tr>\n",
       "    <tr>\n",
       "      <th>1127</th>\n",
       "      <td>Niger</td>\n",
       "      <td>Africa</td>\n",
       "      <td>2007</td>\n",
       "      <td>56.867</td>\n",
       "      <td>12894865</td>\n",
       "      <td>619.676892</td>\n",
       "      <td>NER</td>\n",
       "      <td>562</td>\n",
       "    </tr>\n",
       "    <tr>\n",
       "      <th>1139</th>\n",
       "      <td>Nigeria</td>\n",
       "      <td>Africa</td>\n",
       "      <td>2007</td>\n",
       "      <td>46.859</td>\n",
       "      <td>135031164</td>\n",
       "      <td>2013.977305</td>\n",
       "      <td>NGA</td>\n",
       "      <td>566</td>\n",
       "    </tr>\n",
       "    <tr>\n",
       "      <th>1151</th>\n",
       "      <td>Norway</td>\n",
       "      <td>Europe</td>\n",
       "      <td>2007</td>\n",
       "      <td>80.196</td>\n",
       "      <td>4627926</td>\n",
       "      <td>49357.190170</td>\n",
       "      <td>NOR</td>\n",
       "      <td>578</td>\n",
       "    </tr>\n",
       "    <tr>\n",
       "      <th>1163</th>\n",
       "      <td>Oman</td>\n",
       "      <td>Asia</td>\n",
       "      <td>2007</td>\n",
       "      <td>75.640</td>\n",
       "      <td>3204897</td>\n",
       "      <td>22316.192870</td>\n",
       "      <td>OMN</td>\n",
       "      <td>512</td>\n",
       "    </tr>\n",
       "    <tr>\n",
       "      <th>1175</th>\n",
       "      <td>Pakistan</td>\n",
       "      <td>Asia</td>\n",
       "      <td>2007</td>\n",
       "      <td>65.483</td>\n",
       "      <td>169270617</td>\n",
       "      <td>2605.947580</td>\n",
       "      <td>PAK</td>\n",
       "      <td>586</td>\n",
       "    </tr>\n",
       "    <tr>\n",
       "      <th>1187</th>\n",
       "      <td>Panama</td>\n",
       "      <td>Americas</td>\n",
       "      <td>2007</td>\n",
       "      <td>75.537</td>\n",
       "      <td>3242173</td>\n",
       "      <td>9809.185636</td>\n",
       "      <td>PAN</td>\n",
       "      <td>591</td>\n",
       "    </tr>\n",
       "    <tr>\n",
       "      <th>1199</th>\n",
       "      <td>Paraguay</td>\n",
       "      <td>Americas</td>\n",
       "      <td>2007</td>\n",
       "      <td>71.752</td>\n",
       "      <td>6667147</td>\n",
       "      <td>4172.838464</td>\n",
       "      <td>PRY</td>\n",
       "      <td>600</td>\n",
       "    </tr>\n",
       "    <tr>\n",
       "      <th>1211</th>\n",
       "      <td>Peru</td>\n",
       "      <td>Americas</td>\n",
       "      <td>2007</td>\n",
       "      <td>71.421</td>\n",
       "      <td>28674757</td>\n",
       "      <td>7408.905561</td>\n",
       "      <td>PER</td>\n",
       "      <td>604</td>\n",
       "    </tr>\n",
       "    <tr>\n",
       "      <th>1223</th>\n",
       "      <td>Philippines</td>\n",
       "      <td>Asia</td>\n",
       "      <td>2007</td>\n",
       "      <td>71.688</td>\n",
       "      <td>91077287</td>\n",
       "      <td>3190.481016</td>\n",
       "      <td>PHL</td>\n",
       "      <td>608</td>\n",
       "    </tr>\n",
       "    <tr>\n",
       "      <th>1235</th>\n",
       "      <td>Poland</td>\n",
       "      <td>Europe</td>\n",
       "      <td>2007</td>\n",
       "      <td>75.563</td>\n",
       "      <td>38518241</td>\n",
       "      <td>15389.924680</td>\n",
       "      <td>POL</td>\n",
       "      <td>616</td>\n",
       "    </tr>\n",
       "    <tr>\n",
       "      <th>1247</th>\n",
       "      <td>Portugal</td>\n",
       "      <td>Europe</td>\n",
       "      <td>2007</td>\n",
       "      <td>78.098</td>\n",
       "      <td>10642836</td>\n",
       "      <td>20509.647770</td>\n",
       "      <td>PRT</td>\n",
       "      <td>620</td>\n",
       "    </tr>\n",
       "    <tr>\n",
       "      <th>1259</th>\n",
       "      <td>Puerto Rico</td>\n",
       "      <td>Americas</td>\n",
       "      <td>2007</td>\n",
       "      <td>78.746</td>\n",
       "      <td>3942491</td>\n",
       "      <td>19328.709010</td>\n",
       "      <td>PRI</td>\n",
       "      <td>630</td>\n",
       "    </tr>\n",
       "    <tr>\n",
       "      <th>1271</th>\n",
       "      <td>Reunion</td>\n",
       "      <td>Africa</td>\n",
       "      <td>2007</td>\n",
       "      <td>76.442</td>\n",
       "      <td>798094</td>\n",
       "      <td>7670.122558</td>\n",
       "      <td>REU</td>\n",
       "      <td>638</td>\n",
       "    </tr>\n",
       "    <tr>\n",
       "      <th>1283</th>\n",
       "      <td>Romania</td>\n",
       "      <td>Europe</td>\n",
       "      <td>2007</td>\n",
       "      <td>72.476</td>\n",
       "      <td>22276056</td>\n",
       "      <td>10808.475610</td>\n",
       "      <td>ROU</td>\n",
       "      <td>642</td>\n",
       "    </tr>\n",
       "    <tr>\n",
       "      <th>1295</th>\n",
       "      <td>Rwanda</td>\n",
       "      <td>Africa</td>\n",
       "      <td>2007</td>\n",
       "      <td>46.242</td>\n",
       "      <td>8860588</td>\n",
       "      <td>863.088464</td>\n",
       "      <td>RWA</td>\n",
       "      <td>646</td>\n",
       "    </tr>\n",
       "    <tr>\n",
       "      <th>1307</th>\n",
       "      <td>Sao Tome and Principe</td>\n",
       "      <td>Africa</td>\n",
       "      <td>2007</td>\n",
       "      <td>65.528</td>\n",
       "      <td>199579</td>\n",
       "      <td>1598.435089</td>\n",
       "      <td>STP</td>\n",
       "      <td>678</td>\n",
       "    </tr>\n",
       "    <tr>\n",
       "      <th>1319</th>\n",
       "      <td>Saudi Arabia</td>\n",
       "      <td>Asia</td>\n",
       "      <td>2007</td>\n",
       "      <td>72.777</td>\n",
       "      <td>27601038</td>\n",
       "      <td>21654.831940</td>\n",
       "      <td>SAU</td>\n",
       "      <td>682</td>\n",
       "    </tr>\n",
       "    <tr>\n",
       "      <th>1331</th>\n",
       "      <td>Senegal</td>\n",
       "      <td>Africa</td>\n",
       "      <td>2007</td>\n",
       "      <td>63.062</td>\n",
       "      <td>12267493</td>\n",
       "      <td>1712.472136</td>\n",
       "      <td>SEN</td>\n",
       "      <td>686</td>\n",
       "    </tr>\n",
       "    <tr>\n",
       "      <th>1343</th>\n",
       "      <td>Serbia</td>\n",
       "      <td>Europe</td>\n",
       "      <td>2007</td>\n",
       "      <td>74.002</td>\n",
       "      <td>10150265</td>\n",
       "      <td>9786.534714</td>\n",
       "      <td>SRB</td>\n",
       "      <td>688</td>\n",
       "    </tr>\n",
       "    <tr>\n",
       "      <th>1355</th>\n",
       "      <td>Sierra Leone</td>\n",
       "      <td>Africa</td>\n",
       "      <td>2007</td>\n",
       "      <td>42.568</td>\n",
       "      <td>6144562</td>\n",
       "      <td>862.540756</td>\n",
       "      <td>SLE</td>\n",
       "      <td>694</td>\n",
       "    </tr>\n",
       "    <tr>\n",
       "      <th>1367</th>\n",
       "      <td>Singapore</td>\n",
       "      <td>Asia</td>\n",
       "      <td>2007</td>\n",
       "      <td>79.972</td>\n",
       "      <td>4553009</td>\n",
       "      <td>47143.179640</td>\n",
       "      <td>SGP</td>\n",
       "      <td>702</td>\n",
       "    </tr>\n",
       "    <tr>\n",
       "      <th>1379</th>\n",
       "      <td>Slovak Republic</td>\n",
       "      <td>Europe</td>\n",
       "      <td>2007</td>\n",
       "      <td>74.663</td>\n",
       "      <td>5447502</td>\n",
       "      <td>18678.314350</td>\n",
       "      <td>SVK</td>\n",
       "      <td>703</td>\n",
       "    </tr>\n",
       "    <tr>\n",
       "      <th>1391</th>\n",
       "      <td>Slovenia</td>\n",
       "      <td>Europe</td>\n",
       "      <td>2007</td>\n",
       "      <td>77.926</td>\n",
       "      <td>2009245</td>\n",
       "      <td>25768.257590</td>\n",
       "      <td>SVN</td>\n",
       "      <td>705</td>\n",
       "    </tr>\n",
       "    <tr>\n",
       "      <th>1403</th>\n",
       "      <td>Somalia</td>\n",
       "      <td>Africa</td>\n",
       "      <td>2007</td>\n",
       "      <td>48.159</td>\n",
       "      <td>9118773</td>\n",
       "      <td>926.141068</td>\n",
       "      <td>SOM</td>\n",
       "      <td>706</td>\n",
       "    </tr>\n",
       "    <tr>\n",
       "      <th>1415</th>\n",
       "      <td>South Africa</td>\n",
       "      <td>Africa</td>\n",
       "      <td>2007</td>\n",
       "      <td>49.339</td>\n",
       "      <td>43997828</td>\n",
       "      <td>9269.657808</td>\n",
       "      <td>ZAF</td>\n",
       "      <td>710</td>\n",
       "    </tr>\n",
       "    <tr>\n",
       "      <th>1427</th>\n",
       "      <td>Spain</td>\n",
       "      <td>Europe</td>\n",
       "      <td>2007</td>\n",
       "      <td>80.941</td>\n",
       "      <td>40448191</td>\n",
       "      <td>28821.063700</td>\n",
       "      <td>ESP</td>\n",
       "      <td>724</td>\n",
       "    </tr>\n",
       "    <tr>\n",
       "      <th>1439</th>\n",
       "      <td>Sri Lanka</td>\n",
       "      <td>Asia</td>\n",
       "      <td>2007</td>\n",
       "      <td>72.396</td>\n",
       "      <td>20378239</td>\n",
       "      <td>3970.095407</td>\n",
       "      <td>LKA</td>\n",
       "      <td>144</td>\n",
       "    </tr>\n",
       "    <tr>\n",
       "      <th>1451</th>\n",
       "      <td>Sudan</td>\n",
       "      <td>Africa</td>\n",
       "      <td>2007</td>\n",
       "      <td>58.556</td>\n",
       "      <td>42292929</td>\n",
       "      <td>2602.394995</td>\n",
       "      <td>SDN</td>\n",
       "      <td>736</td>\n",
       "    </tr>\n",
       "    <tr>\n",
       "      <th>1463</th>\n",
       "      <td>Swaziland</td>\n",
       "      <td>Africa</td>\n",
       "      <td>2007</td>\n",
       "      <td>39.613</td>\n",
       "      <td>1133066</td>\n",
       "      <td>4513.480643</td>\n",
       "      <td>SWZ</td>\n",
       "      <td>748</td>\n",
       "    </tr>\n",
       "    <tr>\n",
       "      <th>1475</th>\n",
       "      <td>Sweden</td>\n",
       "      <td>Europe</td>\n",
       "      <td>2007</td>\n",
       "      <td>80.884</td>\n",
       "      <td>9031088</td>\n",
       "      <td>33859.748350</td>\n",
       "      <td>SWE</td>\n",
       "      <td>752</td>\n",
       "    </tr>\n",
       "    <tr>\n",
       "      <th>1487</th>\n",
       "      <td>Switzerland</td>\n",
       "      <td>Europe</td>\n",
       "      <td>2007</td>\n",
       "      <td>81.701</td>\n",
       "      <td>7554661</td>\n",
       "      <td>37506.419070</td>\n",
       "      <td>CHE</td>\n",
       "      <td>756</td>\n",
       "    </tr>\n",
       "    <tr>\n",
       "      <th>1499</th>\n",
       "      <td>Syria</td>\n",
       "      <td>Asia</td>\n",
       "      <td>2007</td>\n",
       "      <td>74.143</td>\n",
       "      <td>19314747</td>\n",
       "      <td>4184.548089</td>\n",
       "      <td>SYR</td>\n",
       "      <td>760</td>\n",
       "    </tr>\n",
       "    <tr>\n",
       "      <th>1511</th>\n",
       "      <td>Taiwan</td>\n",
       "      <td>Asia</td>\n",
       "      <td>2007</td>\n",
       "      <td>78.400</td>\n",
       "      <td>23174294</td>\n",
       "      <td>28718.276840</td>\n",
       "      <td>TWN</td>\n",
       "      <td>158</td>\n",
       "    </tr>\n",
       "    <tr>\n",
       "      <th>1523</th>\n",
       "      <td>Tanzania</td>\n",
       "      <td>Africa</td>\n",
       "      <td>2007</td>\n",
       "      <td>52.517</td>\n",
       "      <td>38139640</td>\n",
       "      <td>1107.482182</td>\n",
       "      <td>TZA</td>\n",
       "      <td>834</td>\n",
       "    </tr>\n",
       "    <tr>\n",
       "      <th>1535</th>\n",
       "      <td>Thailand</td>\n",
       "      <td>Asia</td>\n",
       "      <td>2007</td>\n",
       "      <td>70.616</td>\n",
       "      <td>65068149</td>\n",
       "      <td>7458.396327</td>\n",
       "      <td>THA</td>\n",
       "      <td>764</td>\n",
       "    </tr>\n",
       "    <tr>\n",
       "      <th>1547</th>\n",
       "      <td>Togo</td>\n",
       "      <td>Africa</td>\n",
       "      <td>2007</td>\n",
       "      <td>58.420</td>\n",
       "      <td>5701579</td>\n",
       "      <td>882.969944</td>\n",
       "      <td>TGO</td>\n",
       "      <td>768</td>\n",
       "    </tr>\n",
       "    <tr>\n",
       "      <th>1559</th>\n",
       "      <td>Trinidad and Tobago</td>\n",
       "      <td>Americas</td>\n",
       "      <td>2007</td>\n",
       "      <td>69.819</td>\n",
       "      <td>1056608</td>\n",
       "      <td>18008.509240</td>\n",
       "      <td>TTO</td>\n",
       "      <td>780</td>\n",
       "    </tr>\n",
       "    <tr>\n",
       "      <th>1571</th>\n",
       "      <td>Tunisia</td>\n",
       "      <td>Africa</td>\n",
       "      <td>2007</td>\n",
       "      <td>73.923</td>\n",
       "      <td>10276158</td>\n",
       "      <td>7092.923025</td>\n",
       "      <td>TUN</td>\n",
       "      <td>788</td>\n",
       "    </tr>\n",
       "    <tr>\n",
       "      <th>1583</th>\n",
       "      <td>Turkey</td>\n",
       "      <td>Europe</td>\n",
       "      <td>2007</td>\n",
       "      <td>71.777</td>\n",
       "      <td>71158647</td>\n",
       "      <td>8458.276384</td>\n",
       "      <td>TUR</td>\n",
       "      <td>792</td>\n",
       "    </tr>\n",
       "    <tr>\n",
       "      <th>1595</th>\n",
       "      <td>Uganda</td>\n",
       "      <td>Africa</td>\n",
       "      <td>2007</td>\n",
       "      <td>51.542</td>\n",
       "      <td>29170398</td>\n",
       "      <td>1056.380121</td>\n",
       "      <td>UGA</td>\n",
       "      <td>800</td>\n",
       "    </tr>\n",
       "    <tr>\n",
       "      <th>1607</th>\n",
       "      <td>United Kingdom</td>\n",
       "      <td>Europe</td>\n",
       "      <td>2007</td>\n",
       "      <td>79.425</td>\n",
       "      <td>60776238</td>\n",
       "      <td>33203.261280</td>\n",
       "      <td>GBR</td>\n",
       "      <td>826</td>\n",
       "    </tr>\n",
       "    <tr>\n",
       "      <th>1619</th>\n",
       "      <td>United States</td>\n",
       "      <td>Americas</td>\n",
       "      <td>2007</td>\n",
       "      <td>78.242</td>\n",
       "      <td>301139947</td>\n",
       "      <td>42951.653090</td>\n",
       "      <td>USA</td>\n",
       "      <td>840</td>\n",
       "    </tr>\n",
       "    <tr>\n",
       "      <th>1631</th>\n",
       "      <td>Uruguay</td>\n",
       "      <td>Americas</td>\n",
       "      <td>2007</td>\n",
       "      <td>76.384</td>\n",
       "      <td>3447496</td>\n",
       "      <td>10611.462990</td>\n",
       "      <td>URY</td>\n",
       "      <td>858</td>\n",
       "    </tr>\n",
       "    <tr>\n",
       "      <th>1643</th>\n",
       "      <td>Venezuela</td>\n",
       "      <td>Americas</td>\n",
       "      <td>2007</td>\n",
       "      <td>73.747</td>\n",
       "      <td>26084662</td>\n",
       "      <td>11415.805690</td>\n",
       "      <td>VEN</td>\n",
       "      <td>862</td>\n",
       "    </tr>\n",
       "    <tr>\n",
       "      <th>1655</th>\n",
       "      <td>Vietnam</td>\n",
       "      <td>Asia</td>\n",
       "      <td>2007</td>\n",
       "      <td>74.249</td>\n",
       "      <td>85262356</td>\n",
       "      <td>2441.576404</td>\n",
       "      <td>VNM</td>\n",
       "      <td>704</td>\n",
       "    </tr>\n",
       "    <tr>\n",
       "      <th>1667</th>\n",
       "      <td>West Bank and Gaza</td>\n",
       "      <td>Asia</td>\n",
       "      <td>2007</td>\n",
       "      <td>73.422</td>\n",
       "      <td>4018332</td>\n",
       "      <td>3025.349798</td>\n",
       "      <td>PSE</td>\n",
       "      <td>275</td>\n",
       "    </tr>\n",
       "    <tr>\n",
       "      <th>1679</th>\n",
       "      <td>Yemen, Rep.</td>\n",
       "      <td>Asia</td>\n",
       "      <td>2007</td>\n",
       "      <td>62.698</td>\n",
       "      <td>22211743</td>\n",
       "      <td>2280.769906</td>\n",
       "      <td>YEM</td>\n",
       "      <td>887</td>\n",
       "    </tr>\n",
       "    <tr>\n",
       "      <th>1691</th>\n",
       "      <td>Zambia</td>\n",
       "      <td>Africa</td>\n",
       "      <td>2007</td>\n",
       "      <td>42.384</td>\n",
       "      <td>11746035</td>\n",
       "      <td>1271.211593</td>\n",
       "      <td>ZMB</td>\n",
       "      <td>894</td>\n",
       "    </tr>\n",
       "    <tr>\n",
       "      <th>1703</th>\n",
       "      <td>Zimbabwe</td>\n",
       "      <td>Africa</td>\n",
       "      <td>2007</td>\n",
       "      <td>43.487</td>\n",
       "      <td>12311143</td>\n",
       "      <td>469.709298</td>\n",
       "      <td>ZWE</td>\n",
       "      <td>716</td>\n",
       "    </tr>\n",
       "  </tbody>\n",
       "</table>\n",
       "</div>"
      ],
      "text/plain": [
       "                       country continent  year  lifeExp         pop     gdpPercap iso_alpha  iso_num\n",
       "11                 Afghanistan      Asia  2007   43.828    31889923    974.580338       AFG        4\n",
       "23                     Albania    Europe  2007   76.423     3600523   5937.029526       ALB        8\n",
       "35                     Algeria    Africa  2007   72.301    33333216   6223.367465       DZA       12\n",
       "47                      Angola    Africa  2007   42.731    12420476   4797.231267       AGO       24\n",
       "59                   Argentina  Americas  2007   75.320    40301927  12779.379640       ARG       32\n",
       "71                   Australia   Oceania  2007   81.235    20434176  34435.367440       AUS       36\n",
       "83                     Austria    Europe  2007   79.829     8199783  36126.492700       AUT       40\n",
       "95                     Bahrain      Asia  2007   75.635      708573  29796.048340       BHR       48\n",
       "107                 Bangladesh      Asia  2007   64.062   150448339   1391.253792       BGD       50\n",
       "119                    Belgium    Europe  2007   79.441    10392226  33692.605080       BEL       56\n",
       "131                      Benin    Africa  2007   56.728     8078314   1441.284873       BEN      204\n",
       "143                    Bolivia  Americas  2007   65.554     9119152   3822.137084       BOL       68\n",
       "155     Bosnia and Herzegovina    Europe  2007   74.852     4552198   7446.298803       BIH       70\n",
       "167                   Botswana    Africa  2007   50.728     1639131  12569.851770       BWA       72\n",
       "179                     Brazil  Americas  2007   72.390   190010647   9065.800825       BRA       76\n",
       "191                   Bulgaria    Europe  2007   73.005     7322858  10680.792820       BGR      100\n",
       "203               Burkina Faso    Africa  2007   52.295    14326203   1217.032994       BFA      854\n",
       "215                    Burundi    Africa  2007   49.580     8390505    430.070692       BDI      108\n",
       "227                   Cambodia      Asia  2007   59.723    14131858   1713.778686       KHM      116\n",
       "239                   Cameroon    Africa  2007   50.430    17696293   2042.095240       CMR      120\n",
       "251                     Canada  Americas  2007   80.653    33390141  36319.235010       CAN      124\n",
       "263   Central African Republic    Africa  2007   44.741     4369038    706.016537       CAF      140\n",
       "275                       Chad    Africa  2007   50.651    10238807   1704.063724       TCD      148\n",
       "287                      Chile  Americas  2007   78.553    16284741  13171.638850       CHL      152\n",
       "299                      China      Asia  2007   72.961  1318683096   4959.114854       CHN      156\n",
       "311                   Colombia  Americas  2007   72.889    44227550   7006.580419       COL      170\n",
       "323                    Comoros    Africa  2007   65.152      710960    986.147879       COM      174\n",
       "335           Congo, Dem. Rep.    Africa  2007   46.462    64606759    277.551859       COD      180\n",
       "347                Congo, Rep.    Africa  2007   55.322     3800610   3632.557798       COG      178\n",
       "359                 Costa Rica  Americas  2007   78.782     4133884   9645.061420       CRI      188\n",
       "371              Cote d'Ivoire    Africa  2007   48.328    18013409   1544.750112       CIV      384\n",
       "383                    Croatia    Europe  2007   75.748     4493312  14619.222720       HRV      191\n",
       "395                       Cuba  Americas  2007   78.273    11416987   8948.102923       CUB      192\n",
       "407             Czech Republic    Europe  2007   76.486    10228744  22833.308510       CZE      203\n",
       "419                    Denmark    Europe  2007   78.332     5468120  35278.418740       DNK      208\n",
       "431                   Djibouti    Africa  2007   54.791      496374   2082.481567       DJI      262\n",
       "443         Dominican Republic  Americas  2007   72.235     9319622   6025.374752       DOM      214\n",
       "455                    Ecuador  Americas  2007   74.994    13755680   6873.262326       ECU      218\n",
       "467                      Egypt    Africa  2007   71.338    80264543   5581.180998       EGY      818\n",
       "479                El Salvador  Americas  2007   71.878     6939688   5728.353514       SLV      222\n",
       "491          Equatorial Guinea    Africa  2007   51.579      551201  12154.089750       GNQ      226\n",
       "503                    Eritrea    Africa  2007   58.040     4906585    641.369524       ERI      232\n",
       "515                   Ethiopia    Africa  2007   52.947    76511887    690.805576       ETH      231\n",
       "527                    Finland    Europe  2007   79.313     5238460  33207.084400       FIN      246\n",
       "539                     France    Europe  2007   80.657    61083916  30470.016700       FRA      250\n",
       "551                      Gabon    Africa  2007   56.735     1454867  13206.484520       GAB      266\n",
       "563                     Gambia    Africa  2007   59.448     1688359    752.749726       GMB      270\n",
       "575                    Germany    Europe  2007   79.406    82400996  32170.374420       DEU      276\n",
       "587                      Ghana    Africa  2007   60.022    22873338   1327.608910       GHA      288\n",
       "599                     Greece    Europe  2007   79.483    10706290  27538.411880       GRC      300\n",
       "611                  Guatemala  Americas  2007   70.259    12572928   5186.050003       GTM      320\n",
       "623                     Guinea    Africa  2007   56.007     9947814    942.654211       GIN      324\n",
       "635              Guinea-Bissau    Africa  2007   46.388     1472041    579.231743       GNB      624\n",
       "647                      Haiti  Americas  2007   60.916     8502814   1201.637154       HTI      332\n",
       "659                   Honduras  Americas  2007   70.198     7483763   3548.330846       HND      340\n",
       "671           Hong Kong, China      Asia  2007   82.208     6980412  39724.978670       HKG      344\n",
       "683                    Hungary    Europe  2007   73.338     9956108  18008.944440       HUN      348\n",
       "695                    Iceland    Europe  2007   81.757      301931  36180.789190       ISL      352\n",
       "707                      India      Asia  2007   64.698  1110396331   2452.210407       IND      356\n",
       "719                  Indonesia      Asia  2007   70.650   223547000   3540.651564       IDN      360\n",
       "731                       Iran      Asia  2007   70.964    69453570  11605.714490       IRN      364\n",
       "743                       Iraq      Asia  2007   59.545    27499638   4471.061906       IRQ      368\n",
       "755                    Ireland    Europe  2007   78.885     4109086  40675.996350       IRL      372\n",
       "767                     Israel      Asia  2007   80.745     6426679  25523.277100       ISR      376\n",
       "779                      Italy    Europe  2007   80.546    58147733  28569.719700       ITA      380\n",
       "791                    Jamaica  Americas  2007   72.567     2780132   7320.880262       JAM      388\n",
       "803                      Japan      Asia  2007   82.603   127467972  31656.068060       JPN      392\n",
       "815                     Jordan      Asia  2007   72.535     6053193   4519.461171       JOR      400\n",
       "827                      Kenya    Africa  2007   54.110    35610177   1463.249282       KEN      404\n",
       "839           Korea, Dem. Rep.      Asia  2007   67.297    23301725   1593.065480       KOR      410\n",
       "851                Korea, Rep.      Asia  2007   78.623    49044790  23348.139730       KOR      410\n",
       "863                     Kuwait      Asia  2007   77.588     2505559  47306.989780       KWT      414\n",
       "875                    Lebanon      Asia  2007   71.993     3921278  10461.058680       LBN      422\n",
       "887                    Lesotho    Africa  2007   42.592     2012649   1569.331442       LSO      426\n",
       "899                    Liberia    Africa  2007   45.678     3193942    414.507341       LBR      430\n",
       "911                      Libya    Africa  2007   73.952     6036914  12057.499280       LBY      434\n",
       "923                 Madagascar    Africa  2007   59.443    19167654   1044.770126       MDG      450\n",
       "935                     Malawi    Africa  2007   48.303    13327079    759.349910       MWI      454\n",
       "947                   Malaysia      Asia  2007   74.241    24821286  12451.655800       MYS      458\n",
       "959                       Mali    Africa  2007   54.467    12031795   1042.581557       MLI      466\n",
       "971                 Mauritania    Africa  2007   64.164     3270065   1803.151496       MRT      478\n",
       "983                  Mauritius    Africa  2007   72.801     1250882  10956.991120       MUS      480\n",
       "995                     Mexico  Americas  2007   76.195   108700891  11977.574960       MEX      484\n",
       "1007                  Mongolia      Asia  2007   66.803     2874127   3095.772271       MNG      496\n",
       "1019                Montenegro    Europe  2007   74.543      684736   9253.896111       MNE      499\n",
       "1031                   Morocco    Africa  2007   71.164    33757175   3820.175230       MAR      504\n",
       "1043                Mozambique    Africa  2007   42.082    19951656    823.685621       MOZ      508\n",
       "1055                   Myanmar      Asia  2007   62.069    47761980    944.000000       MMR      104\n",
       "1067                   Namibia    Africa  2007   52.906     2055080   4811.060429       NAM      516\n",
       "1079                     Nepal      Asia  2007   63.785    28901790   1091.359778       NPL      524\n",
       "1091               Netherlands    Europe  2007   79.762    16570613  36797.933320       NLD      528\n",
       "1103               New Zealand   Oceania  2007   80.204     4115771  25185.009110       NZL      554\n",
       "1115                 Nicaragua  Americas  2007   72.899     5675356   2749.320965       NIC      558\n",
       "1127                     Niger    Africa  2007   56.867    12894865    619.676892       NER      562\n",
       "1139                   Nigeria    Africa  2007   46.859   135031164   2013.977305       NGA      566\n",
       "1151                    Norway    Europe  2007   80.196     4627926  49357.190170       NOR      578\n",
       "1163                      Oman      Asia  2007   75.640     3204897  22316.192870       OMN      512\n",
       "1175                  Pakistan      Asia  2007   65.483   169270617   2605.947580       PAK      586\n",
       "1187                    Panama  Americas  2007   75.537     3242173   9809.185636       PAN      591\n",
       "1199                  Paraguay  Americas  2007   71.752     6667147   4172.838464       PRY      600\n",
       "1211                      Peru  Americas  2007   71.421    28674757   7408.905561       PER      604\n",
       "1223               Philippines      Asia  2007   71.688    91077287   3190.481016       PHL      608\n",
       "1235                    Poland    Europe  2007   75.563    38518241  15389.924680       POL      616\n",
       "1247                  Portugal    Europe  2007   78.098    10642836  20509.647770       PRT      620\n",
       "1259               Puerto Rico  Americas  2007   78.746     3942491  19328.709010       PRI      630\n",
       "1271                   Reunion    Africa  2007   76.442      798094   7670.122558       REU      638\n",
       "1283                   Romania    Europe  2007   72.476    22276056  10808.475610       ROU      642\n",
       "1295                    Rwanda    Africa  2007   46.242     8860588    863.088464       RWA      646\n",
       "1307     Sao Tome and Principe    Africa  2007   65.528      199579   1598.435089       STP      678\n",
       "1319              Saudi Arabia      Asia  2007   72.777    27601038  21654.831940       SAU      682\n",
       "1331                   Senegal    Africa  2007   63.062    12267493   1712.472136       SEN      686\n",
       "1343                    Serbia    Europe  2007   74.002    10150265   9786.534714       SRB      688\n",
       "1355              Sierra Leone    Africa  2007   42.568     6144562    862.540756       SLE      694\n",
       "1367                 Singapore      Asia  2007   79.972     4553009  47143.179640       SGP      702\n",
       "1379           Slovak Republic    Europe  2007   74.663     5447502  18678.314350       SVK      703\n",
       "1391                  Slovenia    Europe  2007   77.926     2009245  25768.257590       SVN      705\n",
       "1403                   Somalia    Africa  2007   48.159     9118773    926.141068       SOM      706\n",
       "1415              South Africa    Africa  2007   49.339    43997828   9269.657808       ZAF      710\n",
       "1427                     Spain    Europe  2007   80.941    40448191  28821.063700       ESP      724\n",
       "1439                 Sri Lanka      Asia  2007   72.396    20378239   3970.095407       LKA      144\n",
       "1451                     Sudan    Africa  2007   58.556    42292929   2602.394995       SDN      736\n",
       "1463                 Swaziland    Africa  2007   39.613     1133066   4513.480643       SWZ      748\n",
       "1475                    Sweden    Europe  2007   80.884     9031088  33859.748350       SWE      752\n",
       "1487               Switzerland    Europe  2007   81.701     7554661  37506.419070       CHE      756\n",
       "1499                     Syria      Asia  2007   74.143    19314747   4184.548089       SYR      760\n",
       "1511                    Taiwan      Asia  2007   78.400    23174294  28718.276840       TWN      158\n",
       "1523                  Tanzania    Africa  2007   52.517    38139640   1107.482182       TZA      834\n",
       "1535                  Thailand      Asia  2007   70.616    65068149   7458.396327       THA      764\n",
       "1547                      Togo    Africa  2007   58.420     5701579    882.969944       TGO      768\n",
       "1559       Trinidad and Tobago  Americas  2007   69.819     1056608  18008.509240       TTO      780\n",
       "1571                   Tunisia    Africa  2007   73.923    10276158   7092.923025       TUN      788\n",
       "1583                    Turkey    Europe  2007   71.777    71158647   8458.276384       TUR      792\n",
       "1595                    Uganda    Africa  2007   51.542    29170398   1056.380121       UGA      800\n",
       "1607            United Kingdom    Europe  2007   79.425    60776238  33203.261280       GBR      826\n",
       "1619             United States  Americas  2007   78.242   301139947  42951.653090       USA      840\n",
       "1631                   Uruguay  Americas  2007   76.384     3447496  10611.462990       URY      858\n",
       "1643                 Venezuela  Americas  2007   73.747    26084662  11415.805690       VEN      862\n",
       "1655                   Vietnam      Asia  2007   74.249    85262356   2441.576404       VNM      704\n",
       "1667        West Bank and Gaza      Asia  2007   73.422     4018332   3025.349798       PSE      275\n",
       "1679               Yemen, Rep.      Asia  2007   62.698    22211743   2280.769906       YEM      887\n",
       "1691                    Zambia    Africa  2007   42.384    11746035   1271.211593       ZMB      894\n",
       "1703                  Zimbabwe    Africa  2007   43.487    12311143    469.709298       ZWE      716"
      ]
     },
     "execution_count": 5,
     "metadata": {},
     "output_type": "execute_result"
    }
   ],
   "source": [
    "df"
   ]
  },
  {
   "cell_type": "code",
   "execution_count": 223,
   "id": "77fa693a",
   "metadata": {
    "scrolled": false
   },
   "outputs": [
    {
     "data": {
      "application/vnd.plotly.v1+json": {
       "config": {
        "plotlyServerURL": "https://plot.ly"
       },
       "data": [
        {
         "branchvalues": "total",
         "customdata": [
          [
           226.8,
           133.6
          ],
          [
           242,
           163
          ],
          [
           85.5,
           114
          ],
          [
           102,
           105
          ],
          [
           208.5,
           144.25
          ],
          [
           154,
           128.6
          ],
          [
           213.10256410256412,
           144.81196581196582
          ],
          [
           121.75,
           102.5
          ],
          [
           153.4,
           134
          ],
          [
           307.75757575757575,
           159.6060606060606
          ],
          [
           100,
           129
          ],
          [
           250.78947368421052,
           156.68421052631578
          ],
          [
           109.58333333333333,
           103.58333333333333
          ],
          [
           199.83870967741936,
           123.35483870967742
          ],
          [
           324,
           211
          ],
          [
           170.55555555555554,
           162
          ],
          [
           1,
           108
          ],
          [
           255.1818181818182,
           126.36363636363636
          ],
          [
           251.20118343195267,
           155.629191321499
          ],
          [
           87.27272727272727,
           103
          ],
          [
           170.98245614035088,
           126.03508771929825
          ],
          [
           125.66666666666667,
           145
          ],
          [
           301.6774193548387,
           157.67741935483872
          ],
          [
           245,
           197
          ],
          [
           297,
           160.66666666666666
          ],
          [
           112,
           152
          ],
          [
           202.45555555555555,
           146.90555555555557
          ],
          [
           252,
           156.57142857142858
          ],
          [
           141.6,
           161.2
          ],
          [
           258.7217391304348,
           162.2
          ],
          [
           85.66666666666667,
           108.6
          ],
          [
           164.25,
           130.9875
          ],
          [
           257.8333333333333,
           181
          ],
          [
           208.3181818181818,
           151.6818181818182
          ],
          [
           164,
           115
          ],
          [
           104.5,
           108.5
          ],
          [
           169.5,
           164.5
          ],
          [
           243.61111111111111,
           159.72222222222223
          ],
          [
           158,
           129.5
          ],
          [
           213.09022556390977,
           141.84962406015038
          ],
          [
           101,
           117
          ],
          [
           251.58823529411765,
           154.41176470588235
          ],
          [
           61.5,
           125
          ],
          [
           306.5,
           166.66666666666666
          ],
          [
           226.25,
           154.70833333333334
          ],
          [
           161,
           165
          ],
          [
           255,
           174.1764705882353
          ],
          [
           1,
           161
          ],
          [
           317.5,
           173.5
          ],
          [
           "(?)",
           116.98666666666666
          ],
          [
           "(?)",
           155.40220048899755
          ],
          [
           "(?)",
           141.96153846153845
          ],
          [
           "(?)",
           145.53976531942632
          ],
          [
           "(?)",
           125.6
          ],
          [
           "(?)",
           126.25
          ],
          [
           "(?)",
           148.87669616519173
          ]
         ],
         "domain": {
          "x": [
           0,
           1
          ],
          "y": [
           0,
           1
          ]
         },
         "hovertemplate": "labels=%{label}<br>class_counts=%{value}<br>parent=%{parent}<br>id=%{id}<br>overall_elo_taklons=%{customdata[0]}<br>overall_score_taklons=%{color}<extra></extra>",
         "ids": [
          "R1 Structures: Frequency and Overall Score for taklons/PI/0_m / 0_ts / 1_lab / 1_pi / 0_ac1 / 0_ac2",
          "R1 Structures: Frequency and Overall Score for taklons/lab/0_m / 0_ts / 2_lab / 0_pi / 0_ac1 / 0_ac2",
          "R1 Structures: Frequency and Overall Score for taklons/lab/0_m / 1_ts / 1_lab / 0_pi / 0_ac1 / 0_ac2",
          "R1 Structures: Frequency and Overall Score for taklons/PI/0_m / 2_ts / 0_lab / 1_pi / 0_ac1 / 0_ac2",
          "R1 Structures: Frequency and Overall Score for taklons/lab/0_m / 2_ts / 1_lab / 0_pi / 0_ac1 / 0_ac2",
          "R1 Structures: Frequency and Overall Score for taklons/ac2/1_m / 0_ts / 0_lab / 0_pi / 0_ac1 / 1_ac2",
          "R1 Structures: Frequency and Overall Score for taklons/ac1/1_m / 0_ts / 0_lab / 0_pi / 1_ac1 / 0_ac2",
          "R1 Structures: Frequency and Overall Score for taklons/lab/1_m / 0_ts / 1_lab / 0_pi / 0_ac1 / 0_ac2",
          "R1 Structures: Frequency and Overall Score for taklons/PI/1_m / 0_ts / 1_lab / 1_pi / 0_ac1 / 0_ac2",
          "R1 Structures: Frequency and Overall Score for taklons/lab/1_m / 0_ts / 2_lab / 0_pi / 0_ac1 / 0_ac2",
          "R1 Structures: Frequency and Overall Score for taklons/ac2/1_m / 1_ts / 0_lab / 0_pi / 0_ac1 / 1_ac2",
          "R1 Structures: Frequency and Overall Score for taklons/ac1/1_m / 1_ts / 0_lab / 0_pi / 1_ac1 / 0_ac2",
          "R1 Structures: Frequency and Overall Score for taklons/PI/1_m / 1_ts / 0_lab / 1_pi / 0_ac1 / 0_ac2",
          "R1 Structures: Frequency and Overall Score for taklons/lab/1_m / 1_ts / 1_lab / 0_pi / 0_ac1 / 0_ac2",
          "R1 Structures: Frequency and Overall Score for taklons/lab/1_m / 1_ts / 2_lab / 0_pi / 0_ac1 / 0_ac2",
          "R1 Structures: Frequency and Overall Score for taklons/lab/1_m / 2_ts / 1_lab / 0_pi / 0_ac1 / 0_ac2",
          "R1 Structures: Frequency and Overall Score for taklons/ts/1_m / 3_ts / 0_lab / 0_pi / 0_ac1 / 0_ac2",
          "R1 Structures: Frequency and Overall Score for taklons/ac2/2_m / 0_ts / 0_lab / 0_pi / 0_ac1 / 1_ac2",
          "R1 Structures: Frequency and Overall Score for taklons/ac1/2_m / 0_ts / 0_lab / 0_pi / 1_ac1 / 0_ac2",
          "R1 Structures: Frequency and Overall Score for taklons/PI/2_m / 0_ts / 0_lab / 1_pi / 0_ac1 / 0_ac2",
          "R1 Structures: Frequency and Overall Score for taklons/lab/2_m / 0_ts / 1_lab / 0_pi / 0_ac1 / 0_ac2",
          "R1 Structures: Frequency and Overall Score for taklons/PI/2_m / 0_ts / 1_lab / 1_pi / 0_ac1 / 0_ac2",
          "R1 Structures: Frequency and Overall Score for taklons/lab/2_m / 0_ts / 2_lab / 0_pi / 0_ac1 / 0_ac2",
          "R1 Structures: Frequency and Overall Score for taklons/ac2/2_m / 1_ts / 0_lab / 0_pi / 0_ac1 / 1_ac2",
          "R1 Structures: Frequency and Overall Score for taklons/ac1/2_m / 1_ts / 0_lab / 0_pi / 1_ac1 / 0_ac2",
          "R1 Structures: Frequency and Overall Score for taklons/PI/2_m / 1_ts / 0_lab / 1_pi / 0_ac1 / 0_ac2",
          "R1 Structures: Frequency and Overall Score for taklons/lab/2_m / 1_ts / 1_lab / 0_pi / 0_ac1 / 0_ac2",
          "R1 Structures: Frequency and Overall Score for taklons/lab/2_m / 2_ts / 1_lab / 0_pi / 0_ac1 / 0_ac2",
          "R1 Structures: Frequency and Overall Score for taklons/ac2/3_m / 0_ts / 0_lab / 0_pi / 0_ac1 / 1_ac2",
          "R1 Structures: Frequency and Overall Score for taklons/ac1/3_m / 0_ts / 0_lab / 0_pi / 1_ac1 / 0_ac2",
          "R1 Structures: Frequency and Overall Score for taklons/PI/3_m / 0_ts / 0_lab / 1_pi / 0_ac1 / 0_ac2",
          "R1 Structures: Frequency and Overall Score for taklons/lab/3_m / 0_ts / 1_lab / 0_pi / 0_ac1 / 0_ac2",
          "R1 Structures: Frequency and Overall Score for taklons/lab/3_m / 0_ts / 2_lab / 0_pi / 0_ac1 / 0_ac2",
          "R1 Structures: Frequency and Overall Score for taklons/lab/3_m / 1_ts / 1_lab / 0_pi / 0_ac1 / 0_ac2",
          "R1 Structures: Frequency and Overall Score for taklons/ts/3_m / 2_ts / 0_lab / 0_pi / 0_ac1 / 0_ac2",
          "R1 Structures: Frequency and Overall Score for taklons/m/4_m / 0_ts / 0_lab / 0_pi / 0_ac1 / 0_ac2",
          "R1 Structures: Frequency and Overall Score for taklons/ac2/4_m / 0_ts / 0_lab / 0_pi / 0_ac1 / 1_ac2",
          "R1 Structures: Frequency and Overall Score for taklons/ac1/4_m / 0_ts / 0_lab / 0_pi / 1_ac1 / 0_ac2",
          "R1 Structures: Frequency and Overall Score for taklons/PI/4_m / 0_ts / 0_lab / 1_pi / 0_ac1 / 0_ac2",
          "R1 Structures: Frequency and Overall Score for taklons/lab/4_m / 0_ts / 1_lab / 0_pi / 0_ac1 / 0_ac2",
          "R1 Structures: Frequency and Overall Score for taklons/ts/4_m / 1_ts / 0_lab / 0_pi / 0_ac1 / 0_ac2",
          "R1 Structures: Frequency and Overall Score for taklons/lab/4_m / 1_ts / 1_lab / 0_pi / 0_ac1 / 0_ac2",
          "R1 Structures: Frequency and Overall Score for taklons/m/5_m / 0_ts / 0_lab / 0_pi / 0_ac1 / 0_ac2",
          "R1 Structures: Frequency and Overall Score for taklons/ac1/5_m / 0_ts / 0_lab / 0_pi / 1_ac1 / 0_ac2",
          "R1 Structures: Frequency and Overall Score for taklons/lab/5_m / 0_ts / 1_lab / 0_pi / 0_ac1 / 0_ac2",
          "R1 Structures: Frequency and Overall Score for taklons/ts/5_m / 1_ts / 0_lab / 0_pi / 0_ac1 / 0_ac2",
          "R1 Structures: Frequency and Overall Score for taklons/lab/6_m / 0_ts / 1_lab / 0_pi / 0_ac1 / 0_ac2",
          "R1 Structures: Frequency and Overall Score for taklons/m/7_m / 0_ts / 0_lab / 0_pi / 0_ac1 / 0_ac2",
          "R1 Structures: Frequency and Overall Score for taklons/lab/7_m / 0_ts / 1_lab / 0_pi / 0_ac1 / 0_ac2",
          "R1 Structures: Frequency and Overall Score for taklons/PI",
          "R1 Structures: Frequency and Overall Score for taklons/ac1",
          "R1 Structures: Frequency and Overall Score for taklons/ac2",
          "R1 Structures: Frequency and Overall Score for taklons/lab",
          "R1 Structures: Frequency and Overall Score for taklons/m",
          "R1 Structures: Frequency and Overall Score for taklons/ts",
          "R1 Structures: Frequency and Overall Score for taklons"
         ],
         "labels": [
          "0_m / 0_ts / 1_lab / 1_pi / 0_ac1 / 0_ac2",
          "0_m / 0_ts / 2_lab / 0_pi / 0_ac1 / 0_ac2",
          "0_m / 1_ts / 1_lab / 0_pi / 0_ac1 / 0_ac2",
          "0_m / 2_ts / 0_lab / 1_pi / 0_ac1 / 0_ac2",
          "0_m / 2_ts / 1_lab / 0_pi / 0_ac1 / 0_ac2",
          "1_m / 0_ts / 0_lab / 0_pi / 0_ac1 / 1_ac2",
          "1_m / 0_ts / 0_lab / 0_pi / 1_ac1 / 0_ac2",
          "1_m / 0_ts / 1_lab / 0_pi / 0_ac1 / 0_ac2",
          "1_m / 0_ts / 1_lab / 1_pi / 0_ac1 / 0_ac2",
          "1_m / 0_ts / 2_lab / 0_pi / 0_ac1 / 0_ac2",
          "1_m / 1_ts / 0_lab / 0_pi / 0_ac1 / 1_ac2",
          "1_m / 1_ts / 0_lab / 0_pi / 1_ac1 / 0_ac2",
          "1_m / 1_ts / 0_lab / 1_pi / 0_ac1 / 0_ac2",
          "1_m / 1_ts / 1_lab / 0_pi / 0_ac1 / 0_ac2",
          "1_m / 1_ts / 2_lab / 0_pi / 0_ac1 / 0_ac2",
          "1_m / 2_ts / 1_lab / 0_pi / 0_ac1 / 0_ac2",
          "1_m / 3_ts / 0_lab / 0_pi / 0_ac1 / 0_ac2",
          "2_m / 0_ts / 0_lab / 0_pi / 0_ac1 / 1_ac2",
          "2_m / 0_ts / 0_lab / 0_pi / 1_ac1 / 0_ac2",
          "2_m / 0_ts / 0_lab / 1_pi / 0_ac1 / 0_ac2",
          "2_m / 0_ts / 1_lab / 0_pi / 0_ac1 / 0_ac2",
          "2_m / 0_ts / 1_lab / 1_pi / 0_ac1 / 0_ac2",
          "2_m / 0_ts / 2_lab / 0_pi / 0_ac1 / 0_ac2",
          "2_m / 1_ts / 0_lab / 0_pi / 0_ac1 / 1_ac2",
          "2_m / 1_ts / 0_lab / 0_pi / 1_ac1 / 0_ac2",
          "2_m / 1_ts / 0_lab / 1_pi / 0_ac1 / 0_ac2",
          "2_m / 1_ts / 1_lab / 0_pi / 0_ac1 / 0_ac2",
          "2_m / 2_ts / 1_lab / 0_pi / 0_ac1 / 0_ac2",
          "3_m / 0_ts / 0_lab / 0_pi / 0_ac1 / 1_ac2",
          "3_m / 0_ts / 0_lab / 0_pi / 1_ac1 / 0_ac2",
          "3_m / 0_ts / 0_lab / 1_pi / 0_ac1 / 0_ac2",
          "3_m / 0_ts / 1_lab / 0_pi / 0_ac1 / 0_ac2",
          "3_m / 0_ts / 2_lab / 0_pi / 0_ac1 / 0_ac2",
          "3_m / 1_ts / 1_lab / 0_pi / 0_ac1 / 0_ac2",
          "3_m / 2_ts / 0_lab / 0_pi / 0_ac1 / 0_ac2",
          "4_m / 0_ts / 0_lab / 0_pi / 0_ac1 / 0_ac2",
          "4_m / 0_ts / 0_lab / 0_pi / 0_ac1 / 1_ac2",
          "4_m / 0_ts / 0_lab / 0_pi / 1_ac1 / 0_ac2",
          "4_m / 0_ts / 0_lab / 1_pi / 0_ac1 / 0_ac2",
          "4_m / 0_ts / 1_lab / 0_pi / 0_ac1 / 0_ac2",
          "4_m / 1_ts / 0_lab / 0_pi / 0_ac1 / 0_ac2",
          "4_m / 1_ts / 1_lab / 0_pi / 0_ac1 / 0_ac2",
          "5_m / 0_ts / 0_lab / 0_pi / 0_ac1 / 0_ac2",
          "5_m / 0_ts / 0_lab / 0_pi / 1_ac1 / 0_ac2",
          "5_m / 0_ts / 1_lab / 0_pi / 0_ac1 / 0_ac2",
          "5_m / 1_ts / 0_lab / 0_pi / 0_ac1 / 0_ac2",
          "6_m / 0_ts / 1_lab / 0_pi / 0_ac1 / 0_ac2",
          "7_m / 0_ts / 0_lab / 0_pi / 0_ac1 / 0_ac2",
          "7_m / 0_ts / 1_lab / 0_pi / 0_ac1 / 0_ac2",
          "PI",
          "ac1",
          "ac2",
          "lab",
          "m",
          "ts",
          "R1 Structures: Frequency and Overall Score for taklons"
         ],
         "marker": {
          "coloraxis": "coloraxis",
          "colors": [
           133.6,
           163,
           114,
           105,
           144.25,
           128.6,
           144.81196581196582,
           102.5,
           134,
           159.6060606060606,
           129,
           156.68421052631578,
           103.58333333333333,
           123.35483870967742,
           211,
           162,
           108,
           126.36363636363636,
           155.629191321499,
           103,
           126.03508771929825,
           145,
           157.67741935483872,
           197,
           160.66666666666666,
           152,
           146.90555555555557,
           156.57142857142858,
           161.2,
           162.2,
           108.6,
           130.9875,
           181,
           151.6818181818182,
           115,
           108.5,
           164.5,
           159.72222222222223,
           129.5,
           141.84962406015038,
           117,
           154.41176470588235,
           125,
           166.66666666666666,
           154.70833333333334,
           165,
           174.1764705882353,
           161,
           173.5,
           116.98666666666666,
           155.40220048899755,
           141.96153846153845,
           145.53976531942632,
           125.6,
           126.25,
           148.87669616519173
          ]
         },
         "name": "",
         "parents": [
          "R1 Structures: Frequency and Overall Score for taklons/PI",
          "R1 Structures: Frequency and Overall Score for taklons/lab",
          "R1 Structures: Frequency and Overall Score for taklons/lab",
          "R1 Structures: Frequency and Overall Score for taklons/PI",
          "R1 Structures: Frequency and Overall Score for taklons/lab",
          "R1 Structures: Frequency and Overall Score for taklons/ac2",
          "R1 Structures: Frequency and Overall Score for taklons/ac1",
          "R1 Structures: Frequency and Overall Score for taklons/lab",
          "R1 Structures: Frequency and Overall Score for taklons/PI",
          "R1 Structures: Frequency and Overall Score for taklons/lab",
          "R1 Structures: Frequency and Overall Score for taklons/ac2",
          "R1 Structures: Frequency and Overall Score for taklons/ac1",
          "R1 Structures: Frequency and Overall Score for taklons/PI",
          "R1 Structures: Frequency and Overall Score for taklons/lab",
          "R1 Structures: Frequency and Overall Score for taklons/lab",
          "R1 Structures: Frequency and Overall Score for taklons/lab",
          "R1 Structures: Frequency and Overall Score for taklons/ts",
          "R1 Structures: Frequency and Overall Score for taklons/ac2",
          "R1 Structures: Frequency and Overall Score for taklons/ac1",
          "R1 Structures: Frequency and Overall Score for taklons/PI",
          "R1 Structures: Frequency and Overall Score for taklons/lab",
          "R1 Structures: Frequency and Overall Score for taklons/PI",
          "R1 Structures: Frequency and Overall Score for taklons/lab",
          "R1 Structures: Frequency and Overall Score for taklons/ac2",
          "R1 Structures: Frequency and Overall Score for taklons/ac1",
          "R1 Structures: Frequency and Overall Score for taklons/PI",
          "R1 Structures: Frequency and Overall Score for taklons/lab",
          "R1 Structures: Frequency and Overall Score for taklons/lab",
          "R1 Structures: Frequency and Overall Score for taklons/ac2",
          "R1 Structures: Frequency and Overall Score for taklons/ac1",
          "R1 Structures: Frequency and Overall Score for taklons/PI",
          "R1 Structures: Frequency and Overall Score for taklons/lab",
          "R1 Structures: Frequency and Overall Score for taklons/lab",
          "R1 Structures: Frequency and Overall Score for taklons/lab",
          "R1 Structures: Frequency and Overall Score for taklons/ts",
          "R1 Structures: Frequency and Overall Score for taklons/m",
          "R1 Structures: Frequency and Overall Score for taklons/ac2",
          "R1 Structures: Frequency and Overall Score for taklons/ac1",
          "R1 Structures: Frequency and Overall Score for taklons/PI",
          "R1 Structures: Frequency and Overall Score for taklons/lab",
          "R1 Structures: Frequency and Overall Score for taklons/ts",
          "R1 Structures: Frequency and Overall Score for taklons/lab",
          "R1 Structures: Frequency and Overall Score for taklons/m",
          "R1 Structures: Frequency and Overall Score for taklons/ac1",
          "R1 Structures: Frequency and Overall Score for taklons/lab",
          "R1 Structures: Frequency and Overall Score for taklons/ts",
          "R1 Structures: Frequency and Overall Score for taklons/lab",
          "R1 Structures: Frequency and Overall Score for taklons/m",
          "R1 Structures: Frequency and Overall Score for taklons/lab",
          "R1 Structures: Frequency and Overall Score for taklons",
          "R1 Structures: Frequency and Overall Score for taklons",
          "R1 Structures: Frequency and Overall Score for taklons",
          "R1 Structures: Frequency and Overall Score for taklons",
          "R1 Structures: Frequency and Overall Score for taklons",
          "R1 Structures: Frequency and Overall Score for taklons",
          ""
         ],
         "type": "treemap",
         "values": [
          5,
          1,
          4,
          1,
          4,
          5,
          117,
          4,
          5,
          33,
          1,
          19,
          12,
          31,
          2,
          9,
          1,
          11,
          507,
          22,
          57,
          6,
          62,
          2,
          18,
          7,
          180,
          7,
          5,
          115,
          15,
          80,
          6,
          22,
          1,
          2,
          2,
          36,
          2,
          133,
          1,
          17,
          2,
          6,
          96,
          1,
          17,
          1,
          2,
          75,
          818,
          26,
          767,
          5,
          4,
          1695
         ]
        }
       ],
       "layout": {
        "coloraxis": {
         "cmid": 146.90555555555557,
         "colorbar": {
          "title": {
           "text": "overall_score_taklons"
          }
         },
         "colorscale": [
          [
           0,
           "rgb(103,0,31)"
          ],
          [
           0.1,
           "rgb(178,24,43)"
          ],
          [
           0.2,
           "rgb(214,96,77)"
          ],
          [
           0.3,
           "rgb(244,165,130)"
          ],
          [
           0.4,
           "rgb(253,219,199)"
          ],
          [
           0.5,
           "rgb(247,247,247)"
          ],
          [
           0.6,
           "rgb(209,229,240)"
          ],
          [
           0.7,
           "rgb(146,197,222)"
          ],
          [
           0.8,
           "rgb(67,147,195)"
          ],
          [
           0.9,
           "rgb(33,102,172)"
          ],
          [
           1,
           "rgb(5,48,97)"
          ]
         ]
        },
        "legend": {
         "tracegroupgap": 0
        },
        "margin": {
         "b": 25,
         "l": 25,
         "r": 25,
         "t": 50
        },
        "template": {
         "data": {
          "bar": [
           {
            "error_x": {
             "color": "#2a3f5f"
            },
            "error_y": {
             "color": "#2a3f5f"
            },
            "marker": {
             "line": {
              "color": "#E5ECF6",
              "width": 0.5
             },
             "pattern": {
              "fillmode": "overlay",
              "size": 10,
              "solidity": 0.2
             }
            },
            "type": "bar"
           }
          ],
          "barpolar": [
           {
            "marker": {
             "line": {
              "color": "#E5ECF6",
              "width": 0.5
             },
             "pattern": {
              "fillmode": "overlay",
              "size": 10,
              "solidity": 0.2
             }
            },
            "type": "barpolar"
           }
          ],
          "carpet": [
           {
            "aaxis": {
             "endlinecolor": "#2a3f5f",
             "gridcolor": "white",
             "linecolor": "white",
             "minorgridcolor": "white",
             "startlinecolor": "#2a3f5f"
            },
            "baxis": {
             "endlinecolor": "#2a3f5f",
             "gridcolor": "white",
             "linecolor": "white",
             "minorgridcolor": "white",
             "startlinecolor": "#2a3f5f"
            },
            "type": "carpet"
           }
          ],
          "choropleth": [
           {
            "colorbar": {
             "outlinewidth": 0,
             "ticks": ""
            },
            "type": "choropleth"
           }
          ],
          "contour": [
           {
            "colorbar": {
             "outlinewidth": 0,
             "ticks": ""
            },
            "colorscale": [
             [
              0,
              "#0d0887"
             ],
             [
              0.1111111111111111,
              "#46039f"
             ],
             [
              0.2222222222222222,
              "#7201a8"
             ],
             [
              0.3333333333333333,
              "#9c179e"
             ],
             [
              0.4444444444444444,
              "#bd3786"
             ],
             [
              0.5555555555555556,
              "#d8576b"
             ],
             [
              0.6666666666666666,
              "#ed7953"
             ],
             [
              0.7777777777777778,
              "#fb9f3a"
             ],
             [
              0.8888888888888888,
              "#fdca26"
             ],
             [
              1,
              "#f0f921"
             ]
            ],
            "type": "contour"
           }
          ],
          "contourcarpet": [
           {
            "colorbar": {
             "outlinewidth": 0,
             "ticks": ""
            },
            "type": "contourcarpet"
           }
          ],
          "heatmap": [
           {
            "colorbar": {
             "outlinewidth": 0,
             "ticks": ""
            },
            "colorscale": [
             [
              0,
              "#0d0887"
             ],
             [
              0.1111111111111111,
              "#46039f"
             ],
             [
              0.2222222222222222,
              "#7201a8"
             ],
             [
              0.3333333333333333,
              "#9c179e"
             ],
             [
              0.4444444444444444,
              "#bd3786"
             ],
             [
              0.5555555555555556,
              "#d8576b"
             ],
             [
              0.6666666666666666,
              "#ed7953"
             ],
             [
              0.7777777777777778,
              "#fb9f3a"
             ],
             [
              0.8888888888888888,
              "#fdca26"
             ],
             [
              1,
              "#f0f921"
             ]
            ],
            "type": "heatmap"
           }
          ],
          "heatmapgl": [
           {
            "colorbar": {
             "outlinewidth": 0,
             "ticks": ""
            },
            "colorscale": [
             [
              0,
              "#0d0887"
             ],
             [
              0.1111111111111111,
              "#46039f"
             ],
             [
              0.2222222222222222,
              "#7201a8"
             ],
             [
              0.3333333333333333,
              "#9c179e"
             ],
             [
              0.4444444444444444,
              "#bd3786"
             ],
             [
              0.5555555555555556,
              "#d8576b"
             ],
             [
              0.6666666666666666,
              "#ed7953"
             ],
             [
              0.7777777777777778,
              "#fb9f3a"
             ],
             [
              0.8888888888888888,
              "#fdca26"
             ],
             [
              1,
              "#f0f921"
             ]
            ],
            "type": "heatmapgl"
           }
          ],
          "histogram": [
           {
            "marker": {
             "pattern": {
              "fillmode": "overlay",
              "size": 10,
              "solidity": 0.2
             }
            },
            "type": "histogram"
           }
          ],
          "histogram2d": [
           {
            "colorbar": {
             "outlinewidth": 0,
             "ticks": ""
            },
            "colorscale": [
             [
              0,
              "#0d0887"
             ],
             [
              0.1111111111111111,
              "#46039f"
             ],
             [
              0.2222222222222222,
              "#7201a8"
             ],
             [
              0.3333333333333333,
              "#9c179e"
             ],
             [
              0.4444444444444444,
              "#bd3786"
             ],
             [
              0.5555555555555556,
              "#d8576b"
             ],
             [
              0.6666666666666666,
              "#ed7953"
             ],
             [
              0.7777777777777778,
              "#fb9f3a"
             ],
             [
              0.8888888888888888,
              "#fdca26"
             ],
             [
              1,
              "#f0f921"
             ]
            ],
            "type": "histogram2d"
           }
          ],
          "histogram2dcontour": [
           {
            "colorbar": {
             "outlinewidth": 0,
             "ticks": ""
            },
            "colorscale": [
             [
              0,
              "#0d0887"
             ],
             [
              0.1111111111111111,
              "#46039f"
             ],
             [
              0.2222222222222222,
              "#7201a8"
             ],
             [
              0.3333333333333333,
              "#9c179e"
             ],
             [
              0.4444444444444444,
              "#bd3786"
             ],
             [
              0.5555555555555556,
              "#d8576b"
             ],
             [
              0.6666666666666666,
              "#ed7953"
             ],
             [
              0.7777777777777778,
              "#fb9f3a"
             ],
             [
              0.8888888888888888,
              "#fdca26"
             ],
             [
              1,
              "#f0f921"
             ]
            ],
            "type": "histogram2dcontour"
           }
          ],
          "mesh3d": [
           {
            "colorbar": {
             "outlinewidth": 0,
             "ticks": ""
            },
            "type": "mesh3d"
           }
          ],
          "parcoords": [
           {
            "line": {
             "colorbar": {
              "outlinewidth": 0,
              "ticks": ""
             }
            },
            "type": "parcoords"
           }
          ],
          "pie": [
           {
            "automargin": true,
            "type": "pie"
           }
          ],
          "scatter": [
           {
            "marker": {
             "colorbar": {
              "outlinewidth": 0,
              "ticks": ""
             }
            },
            "type": "scatter"
           }
          ],
          "scatter3d": [
           {
            "line": {
             "colorbar": {
              "outlinewidth": 0,
              "ticks": ""
             }
            },
            "marker": {
             "colorbar": {
              "outlinewidth": 0,
              "ticks": ""
             }
            },
            "type": "scatter3d"
           }
          ],
          "scattercarpet": [
           {
            "marker": {
             "colorbar": {
              "outlinewidth": 0,
              "ticks": ""
             }
            },
            "type": "scattercarpet"
           }
          ],
          "scattergeo": [
           {
            "marker": {
             "colorbar": {
              "outlinewidth": 0,
              "ticks": ""
             }
            },
            "type": "scattergeo"
           }
          ],
          "scattergl": [
           {
            "marker": {
             "colorbar": {
              "outlinewidth": 0,
              "ticks": ""
             }
            },
            "type": "scattergl"
           }
          ],
          "scattermapbox": [
           {
            "marker": {
             "colorbar": {
              "outlinewidth": 0,
              "ticks": ""
             }
            },
            "type": "scattermapbox"
           }
          ],
          "scatterpolar": [
           {
            "marker": {
             "colorbar": {
              "outlinewidth": 0,
              "ticks": ""
             }
            },
            "type": "scatterpolar"
           }
          ],
          "scatterpolargl": [
           {
            "marker": {
             "colorbar": {
              "outlinewidth": 0,
              "ticks": ""
             }
            },
            "type": "scatterpolargl"
           }
          ],
          "scatterternary": [
           {
            "marker": {
             "colorbar": {
              "outlinewidth": 0,
              "ticks": ""
             }
            },
            "type": "scatterternary"
           }
          ],
          "surface": [
           {
            "colorbar": {
             "outlinewidth": 0,
             "ticks": ""
            },
            "colorscale": [
             [
              0,
              "#0d0887"
             ],
             [
              0.1111111111111111,
              "#46039f"
             ],
             [
              0.2222222222222222,
              "#7201a8"
             ],
             [
              0.3333333333333333,
              "#9c179e"
             ],
             [
              0.4444444444444444,
              "#bd3786"
             ],
             [
              0.5555555555555556,
              "#d8576b"
             ],
             [
              0.6666666666666666,
              "#ed7953"
             ],
             [
              0.7777777777777778,
              "#fb9f3a"
             ],
             [
              0.8888888888888888,
              "#fdca26"
             ],
             [
              1,
              "#f0f921"
             ]
            ],
            "type": "surface"
           }
          ],
          "table": [
           {
            "cells": {
             "fill": {
              "color": "#EBF0F8"
             },
             "line": {
              "color": "white"
             }
            },
            "header": {
             "fill": {
              "color": "#C8D4E3"
             },
             "line": {
              "color": "white"
             }
            },
            "type": "table"
           }
          ]
         },
         "layout": {
          "annotationdefaults": {
           "arrowcolor": "#2a3f5f",
           "arrowhead": 0,
           "arrowwidth": 1
          },
          "autotypenumbers": "strict",
          "coloraxis": {
           "colorbar": {
            "outlinewidth": 0,
            "ticks": ""
           }
          },
          "colorscale": {
           "diverging": [
            [
             0,
             "#8e0152"
            ],
            [
             0.1,
             "#c51b7d"
            ],
            [
             0.2,
             "#de77ae"
            ],
            [
             0.3,
             "#f1b6da"
            ],
            [
             0.4,
             "#fde0ef"
            ],
            [
             0.5,
             "#f7f7f7"
            ],
            [
             0.6,
             "#e6f5d0"
            ],
            [
             0.7,
             "#b8e186"
            ],
            [
             0.8,
             "#7fbc41"
            ],
            [
             0.9,
             "#4d9221"
            ],
            [
             1,
             "#276419"
            ]
           ],
           "sequential": [
            [
             0,
             "#0d0887"
            ],
            [
             0.1111111111111111,
             "#46039f"
            ],
            [
             0.2222222222222222,
             "#7201a8"
            ],
            [
             0.3333333333333333,
             "#9c179e"
            ],
            [
             0.4444444444444444,
             "#bd3786"
            ],
            [
             0.5555555555555556,
             "#d8576b"
            ],
            [
             0.6666666666666666,
             "#ed7953"
            ],
            [
             0.7777777777777778,
             "#fb9f3a"
            ],
            [
             0.8888888888888888,
             "#fdca26"
            ],
            [
             1,
             "#f0f921"
            ]
           ],
           "sequentialminus": [
            [
             0,
             "#0d0887"
            ],
            [
             0.1111111111111111,
             "#46039f"
            ],
            [
             0.2222222222222222,
             "#7201a8"
            ],
            [
             0.3333333333333333,
             "#9c179e"
            ],
            [
             0.4444444444444444,
             "#bd3786"
            ],
            [
             0.5555555555555556,
             "#d8576b"
            ],
            [
             0.6666666666666666,
             "#ed7953"
            ],
            [
             0.7777777777777778,
             "#fb9f3a"
            ],
            [
             0.8888888888888888,
             "#fdca26"
            ],
            [
             1,
             "#f0f921"
            ]
           ]
          },
          "colorway": [
           "#636efa",
           "#EF553B",
           "#00cc96",
           "#ab63fa",
           "#FFA15A",
           "#19d3f3",
           "#FF6692",
           "#B6E880",
           "#FF97FF",
           "#FECB52"
          ],
          "font": {
           "color": "#2a3f5f"
          },
          "geo": {
           "bgcolor": "white",
           "lakecolor": "white",
           "landcolor": "#E5ECF6",
           "showlakes": true,
           "showland": true,
           "subunitcolor": "white"
          },
          "hoverlabel": {
           "align": "left"
          },
          "hovermode": "closest",
          "mapbox": {
           "style": "light"
          },
          "paper_bgcolor": "white",
          "plot_bgcolor": "#E5ECF6",
          "polar": {
           "angularaxis": {
            "gridcolor": "white",
            "linecolor": "white",
            "ticks": ""
           },
           "bgcolor": "#E5ECF6",
           "radialaxis": {
            "gridcolor": "white",
            "linecolor": "white",
            "ticks": ""
           }
          },
          "scene": {
           "xaxis": {
            "backgroundcolor": "#E5ECF6",
            "gridcolor": "white",
            "gridwidth": 2,
            "linecolor": "white",
            "showbackground": true,
            "ticks": "",
            "zerolinecolor": "white"
           },
           "yaxis": {
            "backgroundcolor": "#E5ECF6",
            "gridcolor": "white",
            "gridwidth": 2,
            "linecolor": "white",
            "showbackground": true,
            "ticks": "",
            "zerolinecolor": "white"
           },
           "zaxis": {
            "backgroundcolor": "#E5ECF6",
            "gridcolor": "white",
            "gridwidth": 2,
            "linecolor": "white",
            "showbackground": true,
            "ticks": "",
            "zerolinecolor": "white"
           }
          },
          "shapedefaults": {
           "line": {
            "color": "#2a3f5f"
           }
          },
          "ternary": {
           "aaxis": {
            "gridcolor": "white",
            "linecolor": "white",
            "ticks": ""
           },
           "baxis": {
            "gridcolor": "white",
            "linecolor": "white",
            "ticks": ""
           },
           "bgcolor": "#E5ECF6",
           "caxis": {
            "gridcolor": "white",
            "linecolor": "white",
            "ticks": ""
           }
          },
          "title": {
           "x": 0.05
          },
          "xaxis": {
           "automargin": true,
           "gridcolor": "white",
           "linecolor": "white",
           "ticks": "",
           "title": {
            "standoff": 15
           },
           "zerolinecolor": "white",
           "zerolinewidth": 2
          },
          "yaxis": {
           "automargin": true,
           "gridcolor": "white",
           "linecolor": "white",
           "ticks": "",
           "title": {
            "standoff": 15
           },
           "zerolinecolor": "white",
           "zerolinewidth": 2
          }
         }
        }
       }
      },
      "text/html": [
       "<div>                            <div id=\"1cc0c157-7857-4b3b-ad01-580fc6baf5f8\" class=\"plotly-graph-div\" style=\"height:525px; width:100%;\"></div>            <script type=\"text/javascript\">                require([\"plotly\"], function(Plotly) {                    window.PLOTLYENV=window.PLOTLYENV || {};                                    if (document.getElementById(\"1cc0c157-7857-4b3b-ad01-580fc6baf5f8\")) {                    Plotly.newPlot(                        \"1cc0c157-7857-4b3b-ad01-580fc6baf5f8\",                        [{\"branchvalues\":\"total\",\"customdata\":[[226.8,133.6],[242.0,163.0],[85.5,114.0],[102.0,105.0],[208.5,144.25],[154.0,128.6],[213.10256410256412,144.81196581196582],[121.75,102.5],[153.4,134.0],[307.75757575757575,159.6060606060606],[100.0,129.0],[250.78947368421052,156.68421052631578],[109.58333333333333,103.58333333333333],[199.83870967741936,123.35483870967742],[324.0,211.0],[170.55555555555554,162.0],[1.0,108.0],[255.1818181818182,126.36363636363636],[251.20118343195267,155.629191321499],[87.27272727272727,103.0],[170.98245614035088,126.03508771929825],[125.66666666666667,145.0],[301.6774193548387,157.67741935483872],[245.0,197.0],[297.0,160.66666666666666],[112.0,152.0],[202.45555555555555,146.90555555555557],[252.0,156.57142857142858],[141.6,161.2],[258.7217391304348,162.2],[85.66666666666667,108.6],[164.25,130.9875],[257.8333333333333,181.0],[208.3181818181818,151.6818181818182],[164.0,115.0],[104.5,108.5],[169.5,164.5],[243.61111111111111,159.72222222222223],[158.0,129.5],[213.09022556390977,141.84962406015038],[101.0,117.0],[251.58823529411765,154.41176470588235],[61.5,125.0],[306.5,166.66666666666666],[226.25,154.70833333333334],[161.0,165.0],[255.0,174.1764705882353],[1.0,161.0],[317.5,173.5],[\"(?)\",116.98666666666666],[\"(?)\",155.40220048899755],[\"(?)\",141.96153846153845],[\"(?)\",145.53976531942632],[\"(?)\",125.6],[\"(?)\",126.25],[\"(?)\",148.87669616519173]],\"domain\":{\"x\":[0.0,1.0],\"y\":[0.0,1.0]},\"hovertemplate\":\"labels=%{label}<br>class_counts=%{value}<br>parent=%{parent}<br>id=%{id}<br>overall_elo_taklons=%{customdata[0]}<br>overall_score_taklons=%{color}<extra></extra>\",\"ids\":[\"R1 Structures: Frequency and Overall Score for taklons/PI/0_m / 0_ts / 1_lab / 1_pi / 0_ac1 / 0_ac2\",\"R1 Structures: Frequency and Overall Score for taklons/lab/0_m / 0_ts / 2_lab / 0_pi / 0_ac1 / 0_ac2\",\"R1 Structures: Frequency and Overall Score for taklons/lab/0_m / 1_ts / 1_lab / 0_pi / 0_ac1 / 0_ac2\",\"R1 Structures: Frequency and Overall Score for taklons/PI/0_m / 2_ts / 0_lab / 1_pi / 0_ac1 / 0_ac2\",\"R1 Structures: Frequency and Overall Score for taklons/lab/0_m / 2_ts / 1_lab / 0_pi / 0_ac1 / 0_ac2\",\"R1 Structures: Frequency and Overall Score for taklons/ac2/1_m / 0_ts / 0_lab / 0_pi / 0_ac1 / 1_ac2\",\"R1 Structures: Frequency and Overall Score for taklons/ac1/1_m / 0_ts / 0_lab / 0_pi / 1_ac1 / 0_ac2\",\"R1 Structures: Frequency and Overall Score for taklons/lab/1_m / 0_ts / 1_lab / 0_pi / 0_ac1 / 0_ac2\",\"R1 Structures: Frequency and Overall Score for taklons/PI/1_m / 0_ts / 1_lab / 1_pi / 0_ac1 / 0_ac2\",\"R1 Structures: Frequency and Overall Score for taklons/lab/1_m / 0_ts / 2_lab / 0_pi / 0_ac1 / 0_ac2\",\"R1 Structures: Frequency and Overall Score for taklons/ac2/1_m / 1_ts / 0_lab / 0_pi / 0_ac1 / 1_ac2\",\"R1 Structures: Frequency and Overall Score for taklons/ac1/1_m / 1_ts / 0_lab / 0_pi / 1_ac1 / 0_ac2\",\"R1 Structures: Frequency and Overall Score for taklons/PI/1_m / 1_ts / 0_lab / 1_pi / 0_ac1 / 0_ac2\",\"R1 Structures: Frequency and Overall Score for taklons/lab/1_m / 1_ts / 1_lab / 0_pi / 0_ac1 / 0_ac2\",\"R1 Structures: Frequency and Overall Score for taklons/lab/1_m / 1_ts / 2_lab / 0_pi / 0_ac1 / 0_ac2\",\"R1 Structures: Frequency and Overall Score for taklons/lab/1_m / 2_ts / 1_lab / 0_pi / 0_ac1 / 0_ac2\",\"R1 Structures: Frequency and Overall Score for taklons/ts/1_m / 3_ts / 0_lab / 0_pi / 0_ac1 / 0_ac2\",\"R1 Structures: Frequency and Overall Score for taklons/ac2/2_m / 0_ts / 0_lab / 0_pi / 0_ac1 / 1_ac2\",\"R1 Structures: Frequency and Overall Score for taklons/ac1/2_m / 0_ts / 0_lab / 0_pi / 1_ac1 / 0_ac2\",\"R1 Structures: Frequency and Overall Score for taklons/PI/2_m / 0_ts / 0_lab / 1_pi / 0_ac1 / 0_ac2\",\"R1 Structures: Frequency and Overall Score for taklons/lab/2_m / 0_ts / 1_lab / 0_pi / 0_ac1 / 0_ac2\",\"R1 Structures: Frequency and Overall Score for taklons/PI/2_m / 0_ts / 1_lab / 1_pi / 0_ac1 / 0_ac2\",\"R1 Structures: Frequency and Overall Score for taklons/lab/2_m / 0_ts / 2_lab / 0_pi / 0_ac1 / 0_ac2\",\"R1 Structures: Frequency and Overall Score for taklons/ac2/2_m / 1_ts / 0_lab / 0_pi / 0_ac1 / 1_ac2\",\"R1 Structures: Frequency and Overall Score for taklons/ac1/2_m / 1_ts / 0_lab / 0_pi / 1_ac1 / 0_ac2\",\"R1 Structures: Frequency and Overall Score for taklons/PI/2_m / 1_ts / 0_lab / 1_pi / 0_ac1 / 0_ac2\",\"R1 Structures: Frequency and Overall Score for taklons/lab/2_m / 1_ts / 1_lab / 0_pi / 0_ac1 / 0_ac2\",\"R1 Structures: Frequency and Overall Score for taklons/lab/2_m / 2_ts / 1_lab / 0_pi / 0_ac1 / 0_ac2\",\"R1 Structures: Frequency and Overall Score for taklons/ac2/3_m / 0_ts / 0_lab / 0_pi / 0_ac1 / 1_ac2\",\"R1 Structures: Frequency and Overall Score for taklons/ac1/3_m / 0_ts / 0_lab / 0_pi / 1_ac1 / 0_ac2\",\"R1 Structures: Frequency and Overall Score for taklons/PI/3_m / 0_ts / 0_lab / 1_pi / 0_ac1 / 0_ac2\",\"R1 Structures: Frequency and Overall Score for taklons/lab/3_m / 0_ts / 1_lab / 0_pi / 0_ac1 / 0_ac2\",\"R1 Structures: Frequency and Overall Score for taklons/lab/3_m / 0_ts / 2_lab / 0_pi / 0_ac1 / 0_ac2\",\"R1 Structures: Frequency and Overall Score for taklons/lab/3_m / 1_ts / 1_lab / 0_pi / 0_ac1 / 0_ac2\",\"R1 Structures: Frequency and Overall Score for taklons/ts/3_m / 2_ts / 0_lab / 0_pi / 0_ac1 / 0_ac2\",\"R1 Structures: Frequency and Overall Score for taklons/m/4_m / 0_ts / 0_lab / 0_pi / 0_ac1 / 0_ac2\",\"R1 Structures: Frequency and Overall Score for taklons/ac2/4_m / 0_ts / 0_lab / 0_pi / 0_ac1 / 1_ac2\",\"R1 Structures: Frequency and Overall Score for taklons/ac1/4_m / 0_ts / 0_lab / 0_pi / 1_ac1 / 0_ac2\",\"R1 Structures: Frequency and Overall Score for taklons/PI/4_m / 0_ts / 0_lab / 1_pi / 0_ac1 / 0_ac2\",\"R1 Structures: Frequency and Overall Score for taklons/lab/4_m / 0_ts / 1_lab / 0_pi / 0_ac1 / 0_ac2\",\"R1 Structures: Frequency and Overall Score for taklons/ts/4_m / 1_ts / 0_lab / 0_pi / 0_ac1 / 0_ac2\",\"R1 Structures: Frequency and Overall Score for taklons/lab/4_m / 1_ts / 1_lab / 0_pi / 0_ac1 / 0_ac2\",\"R1 Structures: Frequency and Overall Score for taklons/m/5_m / 0_ts / 0_lab / 0_pi / 0_ac1 / 0_ac2\",\"R1 Structures: Frequency and Overall Score for taklons/ac1/5_m / 0_ts / 0_lab / 0_pi / 1_ac1 / 0_ac2\",\"R1 Structures: Frequency and Overall Score for taklons/lab/5_m / 0_ts / 1_lab / 0_pi / 0_ac1 / 0_ac2\",\"R1 Structures: Frequency and Overall Score for taklons/ts/5_m / 1_ts / 0_lab / 0_pi / 0_ac1 / 0_ac2\",\"R1 Structures: Frequency and Overall Score for taklons/lab/6_m / 0_ts / 1_lab / 0_pi / 0_ac1 / 0_ac2\",\"R1 Structures: Frequency and Overall Score for taklons/m/7_m / 0_ts / 0_lab / 0_pi / 0_ac1 / 0_ac2\",\"R1 Structures: Frequency and Overall Score for taklons/lab/7_m / 0_ts / 1_lab / 0_pi / 0_ac1 / 0_ac2\",\"R1 Structures: Frequency and Overall Score for taklons/PI\",\"R1 Structures: Frequency and Overall Score for taklons/ac1\",\"R1 Structures: Frequency and Overall Score for taklons/ac2\",\"R1 Structures: Frequency and Overall Score for taklons/lab\",\"R1 Structures: Frequency and Overall Score for taklons/m\",\"R1 Structures: Frequency and Overall Score for taklons/ts\",\"R1 Structures: Frequency and Overall Score for taklons\"],\"labels\":[\"0_m / 0_ts / 1_lab / 1_pi / 0_ac1 / 0_ac2\",\"0_m / 0_ts / 2_lab / 0_pi / 0_ac1 / 0_ac2\",\"0_m / 1_ts / 1_lab / 0_pi / 0_ac1 / 0_ac2\",\"0_m / 2_ts / 0_lab / 1_pi / 0_ac1 / 0_ac2\",\"0_m / 2_ts / 1_lab / 0_pi / 0_ac1 / 0_ac2\",\"1_m / 0_ts / 0_lab / 0_pi / 0_ac1 / 1_ac2\",\"1_m / 0_ts / 0_lab / 0_pi / 1_ac1 / 0_ac2\",\"1_m / 0_ts / 1_lab / 0_pi / 0_ac1 / 0_ac2\",\"1_m / 0_ts / 1_lab / 1_pi / 0_ac1 / 0_ac2\",\"1_m / 0_ts / 2_lab / 0_pi / 0_ac1 / 0_ac2\",\"1_m / 1_ts / 0_lab / 0_pi / 0_ac1 / 1_ac2\",\"1_m / 1_ts / 0_lab / 0_pi / 1_ac1 / 0_ac2\",\"1_m / 1_ts / 0_lab / 1_pi / 0_ac1 / 0_ac2\",\"1_m / 1_ts / 1_lab / 0_pi / 0_ac1 / 0_ac2\",\"1_m / 1_ts / 2_lab / 0_pi / 0_ac1 / 0_ac2\",\"1_m / 2_ts / 1_lab / 0_pi / 0_ac1 / 0_ac2\",\"1_m / 3_ts / 0_lab / 0_pi / 0_ac1 / 0_ac2\",\"2_m / 0_ts / 0_lab / 0_pi / 0_ac1 / 1_ac2\",\"2_m / 0_ts / 0_lab / 0_pi / 1_ac1 / 0_ac2\",\"2_m / 0_ts / 0_lab / 1_pi / 0_ac1 / 0_ac2\",\"2_m / 0_ts / 1_lab / 0_pi / 0_ac1 / 0_ac2\",\"2_m / 0_ts / 1_lab / 1_pi / 0_ac1 / 0_ac2\",\"2_m / 0_ts / 2_lab / 0_pi / 0_ac1 / 0_ac2\",\"2_m / 1_ts / 0_lab / 0_pi / 0_ac1 / 1_ac2\",\"2_m / 1_ts / 0_lab / 0_pi / 1_ac1 / 0_ac2\",\"2_m / 1_ts / 0_lab / 1_pi / 0_ac1 / 0_ac2\",\"2_m / 1_ts / 1_lab / 0_pi / 0_ac1 / 0_ac2\",\"2_m / 2_ts / 1_lab / 0_pi / 0_ac1 / 0_ac2\",\"3_m / 0_ts / 0_lab / 0_pi / 0_ac1 / 1_ac2\",\"3_m / 0_ts / 0_lab / 0_pi / 1_ac1 / 0_ac2\",\"3_m / 0_ts / 0_lab / 1_pi / 0_ac1 / 0_ac2\",\"3_m / 0_ts / 1_lab / 0_pi / 0_ac1 / 0_ac2\",\"3_m / 0_ts / 2_lab / 0_pi / 0_ac1 / 0_ac2\",\"3_m / 1_ts / 1_lab / 0_pi / 0_ac1 / 0_ac2\",\"3_m / 2_ts / 0_lab / 0_pi / 0_ac1 / 0_ac2\",\"4_m / 0_ts / 0_lab / 0_pi / 0_ac1 / 0_ac2\",\"4_m / 0_ts / 0_lab / 0_pi / 0_ac1 / 1_ac2\",\"4_m / 0_ts / 0_lab / 0_pi / 1_ac1 / 0_ac2\",\"4_m / 0_ts / 0_lab / 1_pi / 0_ac1 / 0_ac2\",\"4_m / 0_ts / 1_lab / 0_pi / 0_ac1 / 0_ac2\",\"4_m / 1_ts / 0_lab / 0_pi / 0_ac1 / 0_ac2\",\"4_m / 1_ts / 1_lab / 0_pi / 0_ac1 / 0_ac2\",\"5_m / 0_ts / 0_lab / 0_pi / 0_ac1 / 0_ac2\",\"5_m / 0_ts / 0_lab / 0_pi / 1_ac1 / 0_ac2\",\"5_m / 0_ts / 1_lab / 0_pi / 0_ac1 / 0_ac2\",\"5_m / 1_ts / 0_lab / 0_pi / 0_ac1 / 0_ac2\",\"6_m / 0_ts / 1_lab / 0_pi / 0_ac1 / 0_ac2\",\"7_m / 0_ts / 0_lab / 0_pi / 0_ac1 / 0_ac2\",\"7_m / 0_ts / 1_lab / 0_pi / 0_ac1 / 0_ac2\",\"PI\",\"ac1\",\"ac2\",\"lab\",\"m\",\"ts\",\"R1 Structures: Frequency and Overall Score for taklons\"],\"marker\":{\"coloraxis\":\"coloraxis\",\"colors\":[133.6,163.0,114.0,105.0,144.25,128.6,144.81196581196582,102.5,134.0,159.6060606060606,129.0,156.68421052631578,103.58333333333333,123.35483870967742,211.0,162.0,108.0,126.36363636363636,155.629191321499,103.0,126.03508771929825,145.0,157.67741935483872,197.0,160.66666666666666,152.0,146.90555555555557,156.57142857142858,161.2,162.2,108.6,130.9875,181.0,151.6818181818182,115.0,108.5,164.5,159.72222222222223,129.5,141.84962406015038,117.0,154.41176470588235,125.0,166.66666666666666,154.70833333333334,165.0,174.1764705882353,161.0,173.5,116.98666666666666,155.40220048899755,141.96153846153845,145.53976531942632,125.6,126.25,148.87669616519173]},\"name\":\"\",\"parents\":[\"R1 Structures: Frequency and Overall Score for taklons/PI\",\"R1 Structures: Frequency and Overall Score for taklons/lab\",\"R1 Structures: Frequency and Overall Score for taklons/lab\",\"R1 Structures: Frequency and Overall Score for taklons/PI\",\"R1 Structures: Frequency and Overall Score for taklons/lab\",\"R1 Structures: Frequency and Overall Score for taklons/ac2\",\"R1 Structures: Frequency and Overall Score for taklons/ac1\",\"R1 Structures: Frequency and Overall Score for taklons/lab\",\"R1 Structures: Frequency and Overall Score for taklons/PI\",\"R1 Structures: Frequency and Overall Score for taklons/lab\",\"R1 Structures: Frequency and Overall Score for taklons/ac2\",\"R1 Structures: Frequency and Overall Score for taklons/ac1\",\"R1 Structures: Frequency and Overall Score for taklons/PI\",\"R1 Structures: Frequency and Overall Score for taklons/lab\",\"R1 Structures: Frequency and Overall Score for taklons/lab\",\"R1 Structures: Frequency and Overall Score for taklons/lab\",\"R1 Structures: Frequency and Overall Score for taklons/ts\",\"R1 Structures: Frequency and Overall Score for taklons/ac2\",\"R1 Structures: Frequency and Overall Score for taklons/ac1\",\"R1 Structures: Frequency and Overall Score for taklons/PI\",\"R1 Structures: Frequency and Overall Score for taklons/lab\",\"R1 Structures: Frequency and Overall Score for taklons/PI\",\"R1 Structures: Frequency and Overall Score for taklons/lab\",\"R1 Structures: Frequency and Overall Score for taklons/ac2\",\"R1 Structures: Frequency and Overall Score for taklons/ac1\",\"R1 Structures: Frequency and Overall Score for taklons/PI\",\"R1 Structures: Frequency and Overall Score for taklons/lab\",\"R1 Structures: Frequency and Overall Score for taklons/lab\",\"R1 Structures: Frequency and Overall Score for taklons/ac2\",\"R1 Structures: Frequency and Overall Score for taklons/ac1\",\"R1 Structures: Frequency and Overall Score for taklons/PI\",\"R1 Structures: Frequency and Overall Score for taklons/lab\",\"R1 Structures: Frequency and Overall Score for taklons/lab\",\"R1 Structures: Frequency and Overall Score for taklons/lab\",\"R1 Structures: Frequency and Overall Score for taklons/ts\",\"R1 Structures: Frequency and Overall Score for taklons/m\",\"R1 Structures: Frequency and Overall Score for taklons/ac2\",\"R1 Structures: Frequency and Overall Score for taklons/ac1\",\"R1 Structures: Frequency and Overall Score for taklons/PI\",\"R1 Structures: Frequency and Overall Score for taklons/lab\",\"R1 Structures: Frequency and Overall Score for taklons/ts\",\"R1 Structures: Frequency and Overall Score for taklons/lab\",\"R1 Structures: Frequency and Overall Score for taklons/m\",\"R1 Structures: Frequency and Overall Score for taklons/ac1\",\"R1 Structures: Frequency and Overall Score for taklons/lab\",\"R1 Structures: Frequency and Overall Score for taklons/ts\",\"R1 Structures: Frequency and Overall Score for taklons/lab\",\"R1 Structures: Frequency and Overall Score for taklons/m\",\"R1 Structures: Frequency and Overall Score for taklons/lab\",\"R1 Structures: Frequency and Overall Score for taklons\",\"R1 Structures: Frequency and Overall Score for taklons\",\"R1 Structures: Frequency and Overall Score for taklons\",\"R1 Structures: Frequency and Overall Score for taklons\",\"R1 Structures: Frequency and Overall Score for taklons\",\"R1 Structures: Frequency and Overall Score for taklons\",\"\"],\"values\":[5,1,4,1,4,5,117,4,5,33,1,19,12,31,2,9,1,11,507,22,57,6,62,2,18,7,180,7,5,115,15,80,6,22,1,2,2,36,2,133,1,17,2,6,96,1,17,1,2,75,818,26,767,5,4,1695],\"type\":\"treemap\"}],                        {\"template\":{\"data\":{\"bar\":[{\"error_x\":{\"color\":\"#2a3f5f\"},\"error_y\":{\"color\":\"#2a3f5f\"},\"marker\":{\"line\":{\"color\":\"#E5ECF6\",\"width\":0.5},\"pattern\":{\"fillmode\":\"overlay\",\"size\":10,\"solidity\":0.2}},\"type\":\"bar\"}],\"barpolar\":[{\"marker\":{\"line\":{\"color\":\"#E5ECF6\",\"width\":0.5},\"pattern\":{\"fillmode\":\"overlay\",\"size\":10,\"solidity\":0.2}},\"type\":\"barpolar\"}],\"carpet\":[{\"aaxis\":{\"endlinecolor\":\"#2a3f5f\",\"gridcolor\":\"white\",\"linecolor\":\"white\",\"minorgridcolor\":\"white\",\"startlinecolor\":\"#2a3f5f\"},\"baxis\":{\"endlinecolor\":\"#2a3f5f\",\"gridcolor\":\"white\",\"linecolor\":\"white\",\"minorgridcolor\":\"white\",\"startlinecolor\":\"#2a3f5f\"},\"type\":\"carpet\"}],\"choropleth\":[{\"colorbar\":{\"outlinewidth\":0,\"ticks\":\"\"},\"type\":\"choropleth\"}],\"contour\":[{\"colorbar\":{\"outlinewidth\":0,\"ticks\":\"\"},\"colorscale\":[[0.0,\"#0d0887\"],[0.1111111111111111,\"#46039f\"],[0.2222222222222222,\"#7201a8\"],[0.3333333333333333,\"#9c179e\"],[0.4444444444444444,\"#bd3786\"],[0.5555555555555556,\"#d8576b\"],[0.6666666666666666,\"#ed7953\"],[0.7777777777777778,\"#fb9f3a\"],[0.8888888888888888,\"#fdca26\"],[1.0,\"#f0f921\"]],\"type\":\"contour\"}],\"contourcarpet\":[{\"colorbar\":{\"outlinewidth\":0,\"ticks\":\"\"},\"type\":\"contourcarpet\"}],\"heatmap\":[{\"colorbar\":{\"outlinewidth\":0,\"ticks\":\"\"},\"colorscale\":[[0.0,\"#0d0887\"],[0.1111111111111111,\"#46039f\"],[0.2222222222222222,\"#7201a8\"],[0.3333333333333333,\"#9c179e\"],[0.4444444444444444,\"#bd3786\"],[0.5555555555555556,\"#d8576b\"],[0.6666666666666666,\"#ed7953\"],[0.7777777777777778,\"#fb9f3a\"],[0.8888888888888888,\"#fdca26\"],[1.0,\"#f0f921\"]],\"type\":\"heatmap\"}],\"heatmapgl\":[{\"colorbar\":{\"outlinewidth\":0,\"ticks\":\"\"},\"colorscale\":[[0.0,\"#0d0887\"],[0.1111111111111111,\"#46039f\"],[0.2222222222222222,\"#7201a8\"],[0.3333333333333333,\"#9c179e\"],[0.4444444444444444,\"#bd3786\"],[0.5555555555555556,\"#d8576b\"],[0.6666666666666666,\"#ed7953\"],[0.7777777777777778,\"#fb9f3a\"],[0.8888888888888888,\"#fdca26\"],[1.0,\"#f0f921\"]],\"type\":\"heatmapgl\"}],\"histogram\":[{\"marker\":{\"pattern\":{\"fillmode\":\"overlay\",\"size\":10,\"solidity\":0.2}},\"type\":\"histogram\"}],\"histogram2d\":[{\"colorbar\":{\"outlinewidth\":0,\"ticks\":\"\"},\"colorscale\":[[0.0,\"#0d0887\"],[0.1111111111111111,\"#46039f\"],[0.2222222222222222,\"#7201a8\"],[0.3333333333333333,\"#9c179e\"],[0.4444444444444444,\"#bd3786\"],[0.5555555555555556,\"#d8576b\"],[0.6666666666666666,\"#ed7953\"],[0.7777777777777778,\"#fb9f3a\"],[0.8888888888888888,\"#fdca26\"],[1.0,\"#f0f921\"]],\"type\":\"histogram2d\"}],\"histogram2dcontour\":[{\"colorbar\":{\"outlinewidth\":0,\"ticks\":\"\"},\"colorscale\":[[0.0,\"#0d0887\"],[0.1111111111111111,\"#46039f\"],[0.2222222222222222,\"#7201a8\"],[0.3333333333333333,\"#9c179e\"],[0.4444444444444444,\"#bd3786\"],[0.5555555555555556,\"#d8576b\"],[0.6666666666666666,\"#ed7953\"],[0.7777777777777778,\"#fb9f3a\"],[0.8888888888888888,\"#fdca26\"],[1.0,\"#f0f921\"]],\"type\":\"histogram2dcontour\"}],\"mesh3d\":[{\"colorbar\":{\"outlinewidth\":0,\"ticks\":\"\"},\"type\":\"mesh3d\"}],\"parcoords\":[{\"line\":{\"colorbar\":{\"outlinewidth\":0,\"ticks\":\"\"}},\"type\":\"parcoords\"}],\"pie\":[{\"automargin\":true,\"type\":\"pie\"}],\"scatter\":[{\"marker\":{\"colorbar\":{\"outlinewidth\":0,\"ticks\":\"\"}},\"type\":\"scatter\"}],\"scatter3d\":[{\"line\":{\"colorbar\":{\"outlinewidth\":0,\"ticks\":\"\"}},\"marker\":{\"colorbar\":{\"outlinewidth\":0,\"ticks\":\"\"}},\"type\":\"scatter3d\"}],\"scattercarpet\":[{\"marker\":{\"colorbar\":{\"outlinewidth\":0,\"ticks\":\"\"}},\"type\":\"scattercarpet\"}],\"scattergeo\":[{\"marker\":{\"colorbar\":{\"outlinewidth\":0,\"ticks\":\"\"}},\"type\":\"scattergeo\"}],\"scattergl\":[{\"marker\":{\"colorbar\":{\"outlinewidth\":0,\"ticks\":\"\"}},\"type\":\"scattergl\"}],\"scattermapbox\":[{\"marker\":{\"colorbar\":{\"outlinewidth\":0,\"ticks\":\"\"}},\"type\":\"scattermapbox\"}],\"scatterpolar\":[{\"marker\":{\"colorbar\":{\"outlinewidth\":0,\"ticks\":\"\"}},\"type\":\"scatterpolar\"}],\"scatterpolargl\":[{\"marker\":{\"colorbar\":{\"outlinewidth\":0,\"ticks\":\"\"}},\"type\":\"scatterpolargl\"}],\"scatterternary\":[{\"marker\":{\"colorbar\":{\"outlinewidth\":0,\"ticks\":\"\"}},\"type\":\"scatterternary\"}],\"surface\":[{\"colorbar\":{\"outlinewidth\":0,\"ticks\":\"\"},\"colorscale\":[[0.0,\"#0d0887\"],[0.1111111111111111,\"#46039f\"],[0.2222222222222222,\"#7201a8\"],[0.3333333333333333,\"#9c179e\"],[0.4444444444444444,\"#bd3786\"],[0.5555555555555556,\"#d8576b\"],[0.6666666666666666,\"#ed7953\"],[0.7777777777777778,\"#fb9f3a\"],[0.8888888888888888,\"#fdca26\"],[1.0,\"#f0f921\"]],\"type\":\"surface\"}],\"table\":[{\"cells\":{\"fill\":{\"color\":\"#EBF0F8\"},\"line\":{\"color\":\"white\"}},\"header\":{\"fill\":{\"color\":\"#C8D4E3\"},\"line\":{\"color\":\"white\"}},\"type\":\"table\"}]},\"layout\":{\"annotationdefaults\":{\"arrowcolor\":\"#2a3f5f\",\"arrowhead\":0,\"arrowwidth\":1},\"autotypenumbers\":\"strict\",\"coloraxis\":{\"colorbar\":{\"outlinewidth\":0,\"ticks\":\"\"}},\"colorscale\":{\"diverging\":[[0,\"#8e0152\"],[0.1,\"#c51b7d\"],[0.2,\"#de77ae\"],[0.3,\"#f1b6da\"],[0.4,\"#fde0ef\"],[0.5,\"#f7f7f7\"],[0.6,\"#e6f5d0\"],[0.7,\"#b8e186\"],[0.8,\"#7fbc41\"],[0.9,\"#4d9221\"],[1,\"#276419\"]],\"sequential\":[[0.0,\"#0d0887\"],[0.1111111111111111,\"#46039f\"],[0.2222222222222222,\"#7201a8\"],[0.3333333333333333,\"#9c179e\"],[0.4444444444444444,\"#bd3786\"],[0.5555555555555556,\"#d8576b\"],[0.6666666666666666,\"#ed7953\"],[0.7777777777777778,\"#fb9f3a\"],[0.8888888888888888,\"#fdca26\"],[1.0,\"#f0f921\"]],\"sequentialminus\":[[0.0,\"#0d0887\"],[0.1111111111111111,\"#46039f\"],[0.2222222222222222,\"#7201a8\"],[0.3333333333333333,\"#9c179e\"],[0.4444444444444444,\"#bd3786\"],[0.5555555555555556,\"#d8576b\"],[0.6666666666666666,\"#ed7953\"],[0.7777777777777778,\"#fb9f3a\"],[0.8888888888888888,\"#fdca26\"],[1.0,\"#f0f921\"]]},\"colorway\":[\"#636efa\",\"#EF553B\",\"#00cc96\",\"#ab63fa\",\"#FFA15A\",\"#19d3f3\",\"#FF6692\",\"#B6E880\",\"#FF97FF\",\"#FECB52\"],\"font\":{\"color\":\"#2a3f5f\"},\"geo\":{\"bgcolor\":\"white\",\"lakecolor\":\"white\",\"landcolor\":\"#E5ECF6\",\"showlakes\":true,\"showland\":true,\"subunitcolor\":\"white\"},\"hoverlabel\":{\"align\":\"left\"},\"hovermode\":\"closest\",\"mapbox\":{\"style\":\"light\"},\"paper_bgcolor\":\"white\",\"plot_bgcolor\":\"#E5ECF6\",\"polar\":{\"angularaxis\":{\"gridcolor\":\"white\",\"linecolor\":\"white\",\"ticks\":\"\"},\"bgcolor\":\"#E5ECF6\",\"radialaxis\":{\"gridcolor\":\"white\",\"linecolor\":\"white\",\"ticks\":\"\"}},\"scene\":{\"xaxis\":{\"backgroundcolor\":\"#E5ECF6\",\"gridcolor\":\"white\",\"gridwidth\":2,\"linecolor\":\"white\",\"showbackground\":true,\"ticks\":\"\",\"zerolinecolor\":\"white\"},\"yaxis\":{\"backgroundcolor\":\"#E5ECF6\",\"gridcolor\":\"white\",\"gridwidth\":2,\"linecolor\":\"white\",\"showbackground\":true,\"ticks\":\"\",\"zerolinecolor\":\"white\"},\"zaxis\":{\"backgroundcolor\":\"#E5ECF6\",\"gridcolor\":\"white\",\"gridwidth\":2,\"linecolor\":\"white\",\"showbackground\":true,\"ticks\":\"\",\"zerolinecolor\":\"white\"}},\"shapedefaults\":{\"line\":{\"color\":\"#2a3f5f\"}},\"ternary\":{\"aaxis\":{\"gridcolor\":\"white\",\"linecolor\":\"white\",\"ticks\":\"\"},\"baxis\":{\"gridcolor\":\"white\",\"linecolor\":\"white\",\"ticks\":\"\"},\"bgcolor\":\"#E5ECF6\",\"caxis\":{\"gridcolor\":\"white\",\"linecolor\":\"white\",\"ticks\":\"\"}},\"title\":{\"x\":0.05},\"xaxis\":{\"automargin\":true,\"gridcolor\":\"white\",\"linecolor\":\"white\",\"ticks\":\"\",\"title\":{\"standoff\":15},\"zerolinecolor\":\"white\",\"zerolinewidth\":2},\"yaxis\":{\"automargin\":true,\"gridcolor\":\"white\",\"linecolor\":\"white\",\"ticks\":\"\",\"title\":{\"standoff\":15},\"zerolinecolor\":\"white\",\"zerolinewidth\":2}}},\"coloraxis\":{\"colorbar\":{\"title\":{\"text\":\"overall_score_taklons\"}},\"colorscale\":[[0.0,\"rgb(103,0,31)\"],[0.1,\"rgb(178,24,43)\"],[0.2,\"rgb(214,96,77)\"],[0.3,\"rgb(244,165,130)\"],[0.4,\"rgb(253,219,199)\"],[0.5,\"rgb(247,247,247)\"],[0.6,\"rgb(209,229,240)\"],[0.7,\"rgb(146,197,222)\"],[0.8,\"rgb(67,147,195)\"],[0.9,\"rgb(33,102,172)\"],[1.0,\"rgb(5,48,97)\"]],\"cmid\":146.90555555555557},\"legend\":{\"tracegroupgap\":0},\"margin\":{\"t\":50,\"l\":25,\"r\":25,\"b\":25}},                        {\"responsive\": true}                    ).then(function(){\n",
       "                            \n",
       "var gd = document.getElementById('1cc0c157-7857-4b3b-ad01-580fc6baf5f8');\n",
       "var x = new MutationObserver(function (mutations, observer) {{\n",
       "        var display = window.getComputedStyle(gd).display;\n",
       "        if (!display || display === 'none') {{\n",
       "            console.log([gd, 'removed!']);\n",
       "            Plotly.purge(gd);\n",
       "            observer.disconnect();\n",
       "        }}\n",
       "}});\n",
       "\n",
       "// Listen for the removal of the full notebook cells\n",
       "var notebookContainer = gd.closest('#notebook-container');\n",
       "if (notebookContainer) {{\n",
       "    x.observe(notebookContainer, {childList: true});\n",
       "}}\n",
       "\n",
       "// Listen for the clearing of the current output cell\n",
       "var outputEl = gd.closest('.output');\n",
       "if (outputEl) {{\n",
       "    x.observe(outputEl, {childList: true});\n",
       "}}\n",
       "\n",
       "                        })                };                });            </script>        </div>"
      ]
     },
     "metadata": {},
     "output_type": "display_data"
    },
    {
     "data": {
      "application/vnd.plotly.v1+json": {
       "config": {
        "plotlyServerURL": "https://plot.ly"
       },
       "data": [
        {
         "branchvalues": "total",
         "customdata": [
          [
           117,
           128.25
          ],
          [
           91,
           101
          ],
          [
           102.375,
           109.125
          ],
          [
           212.13636363636363,
           132.5909090909091
          ],
          [
           230.33333333333334,
           138.59649122807016
          ],
          [
           170.2,
           102.9
          ],
          [
           124,
           121.75
          ],
          [
           235.66666666666666,
           134.66666666666666
          ],
          [
           191.76923076923077,
           120.53846153846153
          ],
          [
           0,
           105
          ],
          [
           239.46666666666667,
           139
          ],
          [
           228.95454545454547,
           146.54545454545453
          ],
          [
           119.55555555555556,
           118.55555555555556
          ],
          [
           198.17391304347825,
           133.05217391304348
          ],
          [
           182.6,
           132.5
          ],
          [
           181.9891304347826,
           137.32608695652175
          ],
          [
           229.4,
           142.9
          ],
          [
           219,
           163
          ],
          [
           254.66666666666666,
           161.33333333333334
          ],
          [
           100,
           128.5
          ],
          [
           169.66666666666666,
           119.08333333333333
          ],
          [
           188.73469387755102,
           138.39795918367346
          ],
          [
           100,
           160
          ],
          [
           67.2,
           100.4
          ],
          [
           123.625,
           148.625
          ],
          [
           148.85714285714286,
           124.28571428571429
          ],
          [
           146.85714285714286,
           129
          ],
          [
           208.35106382978722,
           146.46808510638297
          ],
          [
           169.10714285714286,
           135.32142857142858
          ],
          [
           229.6,
           162.2
          ],
          [
           194.9,
           124.3
          ],
          [
           360,
           186.5
          ],
          [
           236.8181818181818,
           154.8181818181818
          ],
          [
           214.68115942028984,
           145.8695652173913
          ],
          [
           300,
           205
          ],
          [
           204.703125,
           140.3125
          ],
          [
           214.71428571428572,
           166.42857142857142
          ],
          [
           222.4375,
           146.625
          ],
          [
           246.56338028169014,
           162.59154929577466
          ],
          [
           239.6,
           187.9
          ],
          [
           "(?)",
           124.6
          ],
          [
           "(?)",
           142.632
          ],
          [
           "(?)",
           137.65454545454546
          ],
          [
           "(?)",
           139.59832635983264
          ],
          [
           "(?)",
           150.84242424242424
          ],
          [
           "(?)",
           141.85314685314685
          ],
          [
           "(?)",
           140.88809523809525
          ]
         ],
         "domain": {
          "x": [
           0,
           1
          ],
          "y": [
           0,
           1
          ]
         },
         "hovertemplate": "labels=%{label}<br>class_counts=%{value}<br>parent=%{parent}<br>id=%{id}<br>overall_elo_gleens=%{customdata[0]}<br>overall_score_gleens=%{color}<extra></extra>",
         "ids": [
          "R1 Structures: Frequency and Overall Score for gleens/lab/0_m / 0_ts / 2_lab / 0_pi / 0_ac1 / 0_ac2",
          "R1 Structures: Frequency and Overall Score for gleens/PI/0_m / 1_ts / 0_lab / 1_pi / 0_ac1 / 0_ac2",
          "R1 Structures: Frequency and Overall Score for gleens/lab/0_m / 1_ts / 1_lab / 0_pi / 0_ac1 / 0_ac2",
          "R1 Structures: Frequency and Overall Score for gleens/ac2/1_m / 0_ts / 0_lab / 0_pi / 0_ac1 / 1_ac2",
          "R1 Structures: Frequency and Overall Score for gleens/ac1/1_m / 0_ts / 0_lab / 0_pi / 1_ac1 / 0_ac2",
          "R1 Structures: Frequency and Overall Score for gleens/lab/1_m / 0_ts / 1_lab / 0_pi / 0_ac1 / 0_ac2",
          "R1 Structures: Frequency and Overall Score for gleens/PI/1_m / 0_ts / 1_lab / 1_pi / 0_ac1 / 0_ac2",
          "R1 Structures: Frequency and Overall Score for gleens/lab/1_m / 0_ts / 2_lab / 0_pi / 0_ac1 / 0_ac2",
          "R1 Structures: Frequency and Overall Score for gleens/lab/1_m / 1_ts / 1_lab / 0_pi / 0_ac1 / 0_ac2",
          "R1 Structures: Frequency and Overall Score for gleens/ts/1_m / 2_ts / 0_lab / 0_pi / 0_ac1 / 0_ac2",
          "R1 Structures: Frequency and Overall Score for gleens/ac2/2_m / 0_ts / 0_lab / 0_pi / 0_ac1 / 1_ac2",
          "R1 Structures: Frequency and Overall Score for gleens/ac1/2_m / 0_ts / 0_lab / 0_pi / 1_ac1 / 0_ac2",
          "R1 Structures: Frequency and Overall Score for gleens/PI/2_m / 0_ts / 0_lab / 1_pi / 0_ac1 / 0_ac2",
          "R1 Structures: Frequency and Overall Score for gleens/lab/2_m / 0_ts / 1_lab / 0_pi / 0_ac1 / 0_ac2",
          "R1 Structures: Frequency and Overall Score for gleens/PI/2_m / 1_ts / 0_lab / 1_pi / 0_ac1 / 0_ac2",
          "R1 Structures: Frequency and Overall Score for gleens/lab/2_m / 1_ts / 1_lab / 0_pi / 0_ac1 / 0_ac2",
          "R1 Structures: Frequency and Overall Score for gleens/ts/2_m / 2_ts / 0_lab / 0_pi / 0_ac1 / 0_ac2",
          "R1 Structures: Frequency and Overall Score for gleens/ts/2_m / 3_ts / 0_lab / 0_pi / 0_ac1 / 0_ac2",
          "R1 Structures: Frequency and Overall Score for gleens/ac2/3_m / 0_ts / 0_lab / 0_pi / 0_ac1 / 1_ac2",
          "R1 Structures: Frequency and Overall Score for gleens/ac1/3_m / 0_ts / 0_lab / 0_pi / 1_ac1 / 0_ac2",
          "R1 Structures: Frequency and Overall Score for gleens/PI/3_m / 0_ts / 0_lab / 1_pi / 0_ac1 / 0_ac2",
          "R1 Structures: Frequency and Overall Score for gleens/lab/3_m / 0_ts / 1_lab / 0_pi / 0_ac1 / 0_ac2",
          "R1 Structures: Frequency and Overall Score for gleens/lab/3_m / 0_ts / 2_lab / 0_pi / 0_ac1 / 0_ac2",
          "R1 Structures: Frequency and Overall Score for gleens/ts/3_m / 1_ts / 0_lab / 0_pi / 0_ac1 / 0_ac2",
          "R1 Structures: Frequency and Overall Score for gleens/lab/3_m / 1_ts / 1_lab / 0_pi / 0_ac1 / 0_ac2",
          "R1 Structures: Frequency and Overall Score for gleens/ts/3_m / 2_ts / 0_lab / 0_pi / 0_ac1 / 0_ac2",
          "R1 Structures: Frequency and Overall Score for gleens/PI/4_m / 0_ts / 0_lab / 1_pi / 0_ac1 / 0_ac2",
          "R1 Structures: Frequency and Overall Score for gleens/lab/4_m / 0_ts / 1_lab / 0_pi / 0_ac1 / 0_ac2",
          "R1 Structures: Frequency and Overall Score for gleens/ts/4_m / 1_ts / 0_lab / 0_pi / 0_ac1 / 0_ac2",
          "R1 Structures: Frequency and Overall Score for gleens/ts/4_m / 2_ts / 0_lab / 0_pi / 0_ac1 / 0_ac2",
          "R1 Structures: Frequency and Overall Score for gleens/m/5_m / 0_ts / 0_lab / 0_pi / 0_ac1 / 0_ac2",
          "R1 Structures: Frequency and Overall Score for gleens/PI/5_m / 0_ts / 0_lab / 1_pi / 0_ac1 / 0_ac2",
          "R1 Structures: Frequency and Overall Score for gleens/lab/5_m / 0_ts / 1_lab / 0_pi / 0_ac1 / 0_ac2",
          "R1 Structures: Frequency and Overall Score for gleens/ts/5_m / 1_ts / 0_lab / 0_pi / 0_ac1 / 0_ac2",
          "R1 Structures: Frequency and Overall Score for gleens/ts/5_m / 2_ts / 0_lab / 0_pi / 0_ac1 / 0_ac2",
          "R1 Structures: Frequency and Overall Score for gleens/m/6_m / 0_ts / 0_lab / 0_pi / 0_ac1 / 0_ac2",
          "R1 Structures: Frequency and Overall Score for gleens/lab/6_m / 0_ts / 1_lab / 0_pi / 0_ac1 / 0_ac2",
          "R1 Structures: Frequency and Overall Score for gleens/ts/6_m / 1_ts / 0_lab / 0_pi / 0_ac1 / 0_ac2",
          "R1 Structures: Frequency and Overall Score for gleens/m/7_m / 0_ts / 0_lab / 0_pi / 0_ac1 / 0_ac2",
          "R1 Structures: Frequency and Overall Score for gleens/m/8_m / 0_ts / 0_lab / 0_pi / 0_ac1 / 0_ac2",
          "R1 Structures: Frequency and Overall Score for gleens/PI",
          "R1 Structures: Frequency and Overall Score for gleens/ac1",
          "R1 Structures: Frequency and Overall Score for gleens/ac2",
          "R1 Structures: Frequency and Overall Score for gleens/lab",
          "R1 Structures: Frequency and Overall Score for gleens/m",
          "R1 Structures: Frequency and Overall Score for gleens/ts",
          "R1 Structures: Frequency and Overall Score for gleens"
         ],
         "labels": [
          "0_m / 0_ts / 2_lab / 0_pi / 0_ac1 / 0_ac2",
          "0_m / 1_ts / 0_lab / 1_pi / 0_ac1 / 0_ac2",
          "0_m / 1_ts / 1_lab / 0_pi / 0_ac1 / 0_ac2",
          "1_m / 0_ts / 0_lab / 0_pi / 0_ac1 / 1_ac2",
          "1_m / 0_ts / 0_lab / 0_pi / 1_ac1 / 0_ac2",
          "1_m / 0_ts / 1_lab / 0_pi / 0_ac1 / 0_ac2",
          "1_m / 0_ts / 1_lab / 1_pi / 0_ac1 / 0_ac2",
          "1_m / 0_ts / 2_lab / 0_pi / 0_ac1 / 0_ac2",
          "1_m / 1_ts / 1_lab / 0_pi / 0_ac1 / 0_ac2",
          "1_m / 2_ts / 0_lab / 0_pi / 0_ac1 / 0_ac2",
          "2_m / 0_ts / 0_lab / 0_pi / 0_ac1 / 1_ac2",
          "2_m / 0_ts / 0_lab / 0_pi / 1_ac1 / 0_ac2",
          "2_m / 0_ts / 0_lab / 1_pi / 0_ac1 / 0_ac2",
          "2_m / 0_ts / 1_lab / 0_pi / 0_ac1 / 0_ac2",
          "2_m / 1_ts / 0_lab / 1_pi / 0_ac1 / 0_ac2",
          "2_m / 1_ts / 1_lab / 0_pi / 0_ac1 / 0_ac2",
          "2_m / 2_ts / 0_lab / 0_pi / 0_ac1 / 0_ac2",
          "2_m / 3_ts / 0_lab / 0_pi / 0_ac1 / 0_ac2",
          "3_m / 0_ts / 0_lab / 0_pi / 0_ac1 / 1_ac2",
          "3_m / 0_ts / 0_lab / 0_pi / 1_ac1 / 0_ac2",
          "3_m / 0_ts / 0_lab / 1_pi / 0_ac1 / 0_ac2",
          "3_m / 0_ts / 1_lab / 0_pi / 0_ac1 / 0_ac2",
          "3_m / 0_ts / 2_lab / 0_pi / 0_ac1 / 0_ac2",
          "3_m / 1_ts / 0_lab / 0_pi / 0_ac1 / 0_ac2",
          "3_m / 1_ts / 1_lab / 0_pi / 0_ac1 / 0_ac2",
          "3_m / 2_ts / 0_lab / 0_pi / 0_ac1 / 0_ac2",
          "4_m / 0_ts / 0_lab / 1_pi / 0_ac1 / 0_ac2",
          "4_m / 0_ts / 1_lab / 0_pi / 0_ac1 / 0_ac2",
          "4_m / 1_ts / 0_lab / 0_pi / 0_ac1 / 0_ac2",
          "4_m / 2_ts / 0_lab / 0_pi / 0_ac1 / 0_ac2",
          "5_m / 0_ts / 0_lab / 0_pi / 0_ac1 / 0_ac2",
          "5_m / 0_ts / 0_lab / 1_pi / 0_ac1 / 0_ac2",
          "5_m / 0_ts / 1_lab / 0_pi / 0_ac1 / 0_ac2",
          "5_m / 1_ts / 0_lab / 0_pi / 0_ac1 / 0_ac2",
          "5_m / 2_ts / 0_lab / 0_pi / 0_ac1 / 0_ac2",
          "6_m / 0_ts / 0_lab / 0_pi / 0_ac1 / 0_ac2",
          "6_m / 0_ts / 1_lab / 0_pi / 0_ac1 / 0_ac2",
          "6_m / 1_ts / 0_lab / 0_pi / 0_ac1 / 0_ac2",
          "7_m / 0_ts / 0_lab / 0_pi / 0_ac1 / 0_ac2",
          "8_m / 0_ts / 0_lab / 0_pi / 0_ac1 / 0_ac2",
          "PI",
          "ac1",
          "ac2",
          "lab",
          "m",
          "ts",
          "R1 Structures: Frequency and Overall Score for gleens"
         ],
         "marker": {
          "coloraxis": "coloraxis",
          "colors": [
           128.25,
           101,
           109.125,
           132.5909090909091,
           138.59649122807016,
           102.9,
           121.75,
           134.66666666666666,
           120.53846153846153,
           105,
           139,
           146.54545454545453,
           118.55555555555556,
           133.05217391304348,
           132.5,
           137.32608695652175,
           142.9,
           163,
           161.33333333333334,
           128.5,
           119.08333333333333,
           138.39795918367346,
           160,
           100.4,
           148.625,
           124.28571428571429,
           129,
           146.46808510638297,
           135.32142857142858,
           162.2,
           124.3,
           186.5,
           154.8181818181818,
           145.8695652173913,
           205,
           140.3125,
           166.42857142857142,
           146.625,
           162.59154929577466,
           187.9,
           124.6,
           142.632,
           137.65454545454546,
           139.59832635983264,
           150.84242424242424,
           141.85314685314685,
           140.88809523809525
          ]
         },
         "name": "",
         "parents": [
          "R1 Structures: Frequency and Overall Score for gleens/lab",
          "R1 Structures: Frequency and Overall Score for gleens/PI",
          "R1 Structures: Frequency and Overall Score for gleens/lab",
          "R1 Structures: Frequency and Overall Score for gleens/ac2",
          "R1 Structures: Frequency and Overall Score for gleens/ac1",
          "R1 Structures: Frequency and Overall Score for gleens/lab",
          "R1 Structures: Frequency and Overall Score for gleens/PI",
          "R1 Structures: Frequency and Overall Score for gleens/lab",
          "R1 Structures: Frequency and Overall Score for gleens/lab",
          "R1 Structures: Frequency and Overall Score for gleens/ts",
          "R1 Structures: Frequency and Overall Score for gleens/ac2",
          "R1 Structures: Frequency and Overall Score for gleens/ac1",
          "R1 Structures: Frequency and Overall Score for gleens/PI",
          "R1 Structures: Frequency and Overall Score for gleens/lab",
          "R1 Structures: Frequency and Overall Score for gleens/PI",
          "R1 Structures: Frequency and Overall Score for gleens/lab",
          "R1 Structures: Frequency and Overall Score for gleens/ts",
          "R1 Structures: Frequency and Overall Score for gleens/ts",
          "R1 Structures: Frequency and Overall Score for gleens/ac2",
          "R1 Structures: Frequency and Overall Score for gleens/ac1",
          "R1 Structures: Frequency and Overall Score for gleens/PI",
          "R1 Structures: Frequency and Overall Score for gleens/lab",
          "R1 Structures: Frequency and Overall Score for gleens/lab",
          "R1 Structures: Frequency and Overall Score for gleens/ts",
          "R1 Structures: Frequency and Overall Score for gleens/lab",
          "R1 Structures: Frequency and Overall Score for gleens/ts",
          "R1 Structures: Frequency and Overall Score for gleens/PI",
          "R1 Structures: Frequency and Overall Score for gleens/lab",
          "R1 Structures: Frequency and Overall Score for gleens/ts",
          "R1 Structures: Frequency and Overall Score for gleens/ts",
          "R1 Structures: Frequency and Overall Score for gleens/m",
          "R1 Structures: Frequency and Overall Score for gleens/PI",
          "R1 Structures: Frequency and Overall Score for gleens/lab",
          "R1 Structures: Frequency and Overall Score for gleens/ts",
          "R1 Structures: Frequency and Overall Score for gleens/ts",
          "R1 Structures: Frequency and Overall Score for gleens/m",
          "R1 Structures: Frequency and Overall Score for gleens/lab",
          "R1 Structures: Frequency and Overall Score for gleens/ts",
          "R1 Structures: Frequency and Overall Score for gleens/m",
          "R1 Structures: Frequency and Overall Score for gleens/m",
          "R1 Structures: Frequency and Overall Score for gleens",
          "R1 Structures: Frequency and Overall Score for gleens",
          "R1 Structures: Frequency and Overall Score for gleens",
          "R1 Structures: Frequency and Overall Score for gleens",
          "R1 Structures: Frequency and Overall Score for gleens",
          "R1 Structures: Frequency and Overall Score for gleens",
          ""
         ],
         "type": "treemap",
         "values": [
          8,
          2,
          8,
          22,
          57,
          10,
          4,
          3,
          26,
          1,
          30,
          66,
          18,
          115,
          10,
          92,
          10,
          1,
          3,
          2,
          12,
          196,
          1,
          5,
          8,
          7,
          7,
          188,
          28,
          5,
          20,
          2,
          55,
          69,
          1,
          64,
          7,
          16,
          71,
          10,
          55,
          125,
          55,
          717,
          165,
          143,
          1260
         ]
        }
       ],
       "layout": {
        "coloraxis": {
         "cmid": 137.86202307009762,
         "colorbar": {
          "title": {
           "text": "overall_score_gleens"
          }
         },
         "colorscale": [
          [
           0,
           "rgb(103,0,31)"
          ],
          [
           0.1,
           "rgb(178,24,43)"
          ],
          [
           0.2,
           "rgb(214,96,77)"
          ],
          [
           0.3,
           "rgb(244,165,130)"
          ],
          [
           0.4,
           "rgb(253,219,199)"
          ],
          [
           0.5,
           "rgb(247,247,247)"
          ],
          [
           0.6,
           "rgb(209,229,240)"
          ],
          [
           0.7,
           "rgb(146,197,222)"
          ],
          [
           0.8,
           "rgb(67,147,195)"
          ],
          [
           0.9,
           "rgb(33,102,172)"
          ],
          [
           1,
           "rgb(5,48,97)"
          ]
         ]
        },
        "legend": {
         "tracegroupgap": 0
        },
        "margin": {
         "b": 25,
         "l": 25,
         "r": 25,
         "t": 50
        },
        "template": {
         "data": {
          "bar": [
           {
            "error_x": {
             "color": "#2a3f5f"
            },
            "error_y": {
             "color": "#2a3f5f"
            },
            "marker": {
             "line": {
              "color": "#E5ECF6",
              "width": 0.5
             },
             "pattern": {
              "fillmode": "overlay",
              "size": 10,
              "solidity": 0.2
             }
            },
            "type": "bar"
           }
          ],
          "barpolar": [
           {
            "marker": {
             "line": {
              "color": "#E5ECF6",
              "width": 0.5
             },
             "pattern": {
              "fillmode": "overlay",
              "size": 10,
              "solidity": 0.2
             }
            },
            "type": "barpolar"
           }
          ],
          "carpet": [
           {
            "aaxis": {
             "endlinecolor": "#2a3f5f",
             "gridcolor": "white",
             "linecolor": "white",
             "minorgridcolor": "white",
             "startlinecolor": "#2a3f5f"
            },
            "baxis": {
             "endlinecolor": "#2a3f5f",
             "gridcolor": "white",
             "linecolor": "white",
             "minorgridcolor": "white",
             "startlinecolor": "#2a3f5f"
            },
            "type": "carpet"
           }
          ],
          "choropleth": [
           {
            "colorbar": {
             "outlinewidth": 0,
             "ticks": ""
            },
            "type": "choropleth"
           }
          ],
          "contour": [
           {
            "colorbar": {
             "outlinewidth": 0,
             "ticks": ""
            },
            "colorscale": [
             [
              0,
              "#0d0887"
             ],
             [
              0.1111111111111111,
              "#46039f"
             ],
             [
              0.2222222222222222,
              "#7201a8"
             ],
             [
              0.3333333333333333,
              "#9c179e"
             ],
             [
              0.4444444444444444,
              "#bd3786"
             ],
             [
              0.5555555555555556,
              "#d8576b"
             ],
             [
              0.6666666666666666,
              "#ed7953"
             ],
             [
              0.7777777777777778,
              "#fb9f3a"
             ],
             [
              0.8888888888888888,
              "#fdca26"
             ],
             [
              1,
              "#f0f921"
             ]
            ],
            "type": "contour"
           }
          ],
          "contourcarpet": [
           {
            "colorbar": {
             "outlinewidth": 0,
             "ticks": ""
            },
            "type": "contourcarpet"
           }
          ],
          "heatmap": [
           {
            "colorbar": {
             "outlinewidth": 0,
             "ticks": ""
            },
            "colorscale": [
             [
              0,
              "#0d0887"
             ],
             [
              0.1111111111111111,
              "#46039f"
             ],
             [
              0.2222222222222222,
              "#7201a8"
             ],
             [
              0.3333333333333333,
              "#9c179e"
             ],
             [
              0.4444444444444444,
              "#bd3786"
             ],
             [
              0.5555555555555556,
              "#d8576b"
             ],
             [
              0.6666666666666666,
              "#ed7953"
             ],
             [
              0.7777777777777778,
              "#fb9f3a"
             ],
             [
              0.8888888888888888,
              "#fdca26"
             ],
             [
              1,
              "#f0f921"
             ]
            ],
            "type": "heatmap"
           }
          ],
          "heatmapgl": [
           {
            "colorbar": {
             "outlinewidth": 0,
             "ticks": ""
            },
            "colorscale": [
             [
              0,
              "#0d0887"
             ],
             [
              0.1111111111111111,
              "#46039f"
             ],
             [
              0.2222222222222222,
              "#7201a8"
             ],
             [
              0.3333333333333333,
              "#9c179e"
             ],
             [
              0.4444444444444444,
              "#bd3786"
             ],
             [
              0.5555555555555556,
              "#d8576b"
             ],
             [
              0.6666666666666666,
              "#ed7953"
             ],
             [
              0.7777777777777778,
              "#fb9f3a"
             ],
             [
              0.8888888888888888,
              "#fdca26"
             ],
             [
              1,
              "#f0f921"
             ]
            ],
            "type": "heatmapgl"
           }
          ],
          "histogram": [
           {
            "marker": {
             "pattern": {
              "fillmode": "overlay",
              "size": 10,
              "solidity": 0.2
             }
            },
            "type": "histogram"
           }
          ],
          "histogram2d": [
           {
            "colorbar": {
             "outlinewidth": 0,
             "ticks": ""
            },
            "colorscale": [
             [
              0,
              "#0d0887"
             ],
             [
              0.1111111111111111,
              "#46039f"
             ],
             [
              0.2222222222222222,
              "#7201a8"
             ],
             [
              0.3333333333333333,
              "#9c179e"
             ],
             [
              0.4444444444444444,
              "#bd3786"
             ],
             [
              0.5555555555555556,
              "#d8576b"
             ],
             [
              0.6666666666666666,
              "#ed7953"
             ],
             [
              0.7777777777777778,
              "#fb9f3a"
             ],
             [
              0.8888888888888888,
              "#fdca26"
             ],
             [
              1,
              "#f0f921"
             ]
            ],
            "type": "histogram2d"
           }
          ],
          "histogram2dcontour": [
           {
            "colorbar": {
             "outlinewidth": 0,
             "ticks": ""
            },
            "colorscale": [
             [
              0,
              "#0d0887"
             ],
             [
              0.1111111111111111,
              "#46039f"
             ],
             [
              0.2222222222222222,
              "#7201a8"
             ],
             [
              0.3333333333333333,
              "#9c179e"
             ],
             [
              0.4444444444444444,
              "#bd3786"
             ],
             [
              0.5555555555555556,
              "#d8576b"
             ],
             [
              0.6666666666666666,
              "#ed7953"
             ],
             [
              0.7777777777777778,
              "#fb9f3a"
             ],
             [
              0.8888888888888888,
              "#fdca26"
             ],
             [
              1,
              "#f0f921"
             ]
            ],
            "type": "histogram2dcontour"
           }
          ],
          "mesh3d": [
           {
            "colorbar": {
             "outlinewidth": 0,
             "ticks": ""
            },
            "type": "mesh3d"
           }
          ],
          "parcoords": [
           {
            "line": {
             "colorbar": {
              "outlinewidth": 0,
              "ticks": ""
             }
            },
            "type": "parcoords"
           }
          ],
          "pie": [
           {
            "automargin": true,
            "type": "pie"
           }
          ],
          "scatter": [
           {
            "marker": {
             "colorbar": {
              "outlinewidth": 0,
              "ticks": ""
             }
            },
            "type": "scatter"
           }
          ],
          "scatter3d": [
           {
            "line": {
             "colorbar": {
              "outlinewidth": 0,
              "ticks": ""
             }
            },
            "marker": {
             "colorbar": {
              "outlinewidth": 0,
              "ticks": ""
             }
            },
            "type": "scatter3d"
           }
          ],
          "scattercarpet": [
           {
            "marker": {
             "colorbar": {
              "outlinewidth": 0,
              "ticks": ""
             }
            },
            "type": "scattercarpet"
           }
          ],
          "scattergeo": [
           {
            "marker": {
             "colorbar": {
              "outlinewidth": 0,
              "ticks": ""
             }
            },
            "type": "scattergeo"
           }
          ],
          "scattergl": [
           {
            "marker": {
             "colorbar": {
              "outlinewidth": 0,
              "ticks": ""
             }
            },
            "type": "scattergl"
           }
          ],
          "scattermapbox": [
           {
            "marker": {
             "colorbar": {
              "outlinewidth": 0,
              "ticks": ""
             }
            },
            "type": "scattermapbox"
           }
          ],
          "scatterpolar": [
           {
            "marker": {
             "colorbar": {
              "outlinewidth": 0,
              "ticks": ""
             }
            },
            "type": "scatterpolar"
           }
          ],
          "scatterpolargl": [
           {
            "marker": {
             "colorbar": {
              "outlinewidth": 0,
              "ticks": ""
             }
            },
            "type": "scatterpolargl"
           }
          ],
          "scatterternary": [
           {
            "marker": {
             "colorbar": {
              "outlinewidth": 0,
              "ticks": ""
             }
            },
            "type": "scatterternary"
           }
          ],
          "surface": [
           {
            "colorbar": {
             "outlinewidth": 0,
             "ticks": ""
            },
            "colorscale": [
             [
              0,
              "#0d0887"
             ],
             [
              0.1111111111111111,
              "#46039f"
             ],
             [
              0.2222222222222222,
              "#7201a8"
             ],
             [
              0.3333333333333333,
              "#9c179e"
             ],
             [
              0.4444444444444444,
              "#bd3786"
             ],
             [
              0.5555555555555556,
              "#d8576b"
             ],
             [
              0.6666666666666666,
              "#ed7953"
             ],
             [
              0.7777777777777778,
              "#fb9f3a"
             ],
             [
              0.8888888888888888,
              "#fdca26"
             ],
             [
              1,
              "#f0f921"
             ]
            ],
            "type": "surface"
           }
          ],
          "table": [
           {
            "cells": {
             "fill": {
              "color": "#EBF0F8"
             },
             "line": {
              "color": "white"
             }
            },
            "header": {
             "fill": {
              "color": "#C8D4E3"
             },
             "line": {
              "color": "white"
             }
            },
            "type": "table"
           }
          ]
         },
         "layout": {
          "annotationdefaults": {
           "arrowcolor": "#2a3f5f",
           "arrowhead": 0,
           "arrowwidth": 1
          },
          "autotypenumbers": "strict",
          "coloraxis": {
           "colorbar": {
            "outlinewidth": 0,
            "ticks": ""
           }
          },
          "colorscale": {
           "diverging": [
            [
             0,
             "#8e0152"
            ],
            [
             0.1,
             "#c51b7d"
            ],
            [
             0.2,
             "#de77ae"
            ],
            [
             0.3,
             "#f1b6da"
            ],
            [
             0.4,
             "#fde0ef"
            ],
            [
             0.5,
             "#f7f7f7"
            ],
            [
             0.6,
             "#e6f5d0"
            ],
            [
             0.7,
             "#b8e186"
            ],
            [
             0.8,
             "#7fbc41"
            ],
            [
             0.9,
             "#4d9221"
            ],
            [
             1,
             "#276419"
            ]
           ],
           "sequential": [
            [
             0,
             "#0d0887"
            ],
            [
             0.1111111111111111,
             "#46039f"
            ],
            [
             0.2222222222222222,
             "#7201a8"
            ],
            [
             0.3333333333333333,
             "#9c179e"
            ],
            [
             0.4444444444444444,
             "#bd3786"
            ],
            [
             0.5555555555555556,
             "#d8576b"
            ],
            [
             0.6666666666666666,
             "#ed7953"
            ],
            [
             0.7777777777777778,
             "#fb9f3a"
            ],
            [
             0.8888888888888888,
             "#fdca26"
            ],
            [
             1,
             "#f0f921"
            ]
           ],
           "sequentialminus": [
            [
             0,
             "#0d0887"
            ],
            [
             0.1111111111111111,
             "#46039f"
            ],
            [
             0.2222222222222222,
             "#7201a8"
            ],
            [
             0.3333333333333333,
             "#9c179e"
            ],
            [
             0.4444444444444444,
             "#bd3786"
            ],
            [
             0.5555555555555556,
             "#d8576b"
            ],
            [
             0.6666666666666666,
             "#ed7953"
            ],
            [
             0.7777777777777778,
             "#fb9f3a"
            ],
            [
             0.8888888888888888,
             "#fdca26"
            ],
            [
             1,
             "#f0f921"
            ]
           ]
          },
          "colorway": [
           "#636efa",
           "#EF553B",
           "#00cc96",
           "#ab63fa",
           "#FFA15A",
           "#19d3f3",
           "#FF6692",
           "#B6E880",
           "#FF97FF",
           "#FECB52"
          ],
          "font": {
           "color": "#2a3f5f"
          },
          "geo": {
           "bgcolor": "white",
           "lakecolor": "white",
           "landcolor": "#E5ECF6",
           "showlakes": true,
           "showland": true,
           "subunitcolor": "white"
          },
          "hoverlabel": {
           "align": "left"
          },
          "hovermode": "closest",
          "mapbox": {
           "style": "light"
          },
          "paper_bgcolor": "white",
          "plot_bgcolor": "#E5ECF6",
          "polar": {
           "angularaxis": {
            "gridcolor": "white",
            "linecolor": "white",
            "ticks": ""
           },
           "bgcolor": "#E5ECF6",
           "radialaxis": {
            "gridcolor": "white",
            "linecolor": "white",
            "ticks": ""
           }
          },
          "scene": {
           "xaxis": {
            "backgroundcolor": "#E5ECF6",
            "gridcolor": "white",
            "gridwidth": 2,
            "linecolor": "white",
            "showbackground": true,
            "ticks": "",
            "zerolinecolor": "white"
           },
           "yaxis": {
            "backgroundcolor": "#E5ECF6",
            "gridcolor": "white",
            "gridwidth": 2,
            "linecolor": "white",
            "showbackground": true,
            "ticks": "",
            "zerolinecolor": "white"
           },
           "zaxis": {
            "backgroundcolor": "#E5ECF6",
            "gridcolor": "white",
            "gridwidth": 2,
            "linecolor": "white",
            "showbackground": true,
            "ticks": "",
            "zerolinecolor": "white"
           }
          },
          "shapedefaults": {
           "line": {
            "color": "#2a3f5f"
           }
          },
          "ternary": {
           "aaxis": {
            "gridcolor": "white",
            "linecolor": "white",
            "ticks": ""
           },
           "baxis": {
            "gridcolor": "white",
            "linecolor": "white",
            "ticks": ""
           },
           "bgcolor": "#E5ECF6",
           "caxis": {
            "gridcolor": "white",
            "linecolor": "white",
            "ticks": ""
           }
          },
          "title": {
           "x": 0.05
          },
          "xaxis": {
           "automargin": true,
           "gridcolor": "white",
           "linecolor": "white",
           "ticks": "",
           "title": {
            "standoff": 15
           },
           "zerolinecolor": "white",
           "zerolinewidth": 2
          },
          "yaxis": {
           "automargin": true,
           "gridcolor": "white",
           "linecolor": "white",
           "ticks": "",
           "title": {
            "standoff": 15
           },
           "zerolinecolor": "white",
           "zerolinewidth": 2
          }
         }
        }
       }
      },
      "text/html": [
       "<div>                            <div id=\"9c05ced2-713c-4765-8d61-58f0699c1220\" class=\"plotly-graph-div\" style=\"height:525px; width:100%;\"></div>            <script type=\"text/javascript\">                require([\"plotly\"], function(Plotly) {                    window.PLOTLYENV=window.PLOTLYENV || {};                                    if (document.getElementById(\"9c05ced2-713c-4765-8d61-58f0699c1220\")) {                    Plotly.newPlot(                        \"9c05ced2-713c-4765-8d61-58f0699c1220\",                        [{\"branchvalues\":\"total\",\"customdata\":[[117.0,128.25],[91.0,101.0],[102.375,109.125],[212.13636363636363,132.5909090909091],[230.33333333333334,138.59649122807016],[170.2,102.9],[124.0,121.75],[235.66666666666666,134.66666666666666],[191.76923076923077,120.53846153846153],[0.0,105.0],[239.46666666666667,139.0],[228.95454545454547,146.54545454545453],[119.55555555555556,118.55555555555556],[198.17391304347825,133.05217391304348],[182.6,132.5],[181.9891304347826,137.32608695652175],[229.4,142.9],[219.0,163.0],[254.66666666666666,161.33333333333334],[100.0,128.5],[169.66666666666666,119.08333333333333],[188.73469387755102,138.39795918367346],[100.0,160.0],[67.2,100.4],[123.625,148.625],[148.85714285714286,124.28571428571429],[146.85714285714286,129.0],[208.35106382978722,146.46808510638297],[169.10714285714286,135.32142857142858],[229.6,162.2],[194.9,124.3],[360.0,186.5],[236.8181818181818,154.8181818181818],[214.68115942028984,145.8695652173913],[300.0,205.0],[204.703125,140.3125],[214.71428571428572,166.42857142857142],[222.4375,146.625],[246.56338028169014,162.59154929577466],[239.6,187.9],[\"(?)\",124.6],[\"(?)\",142.632],[\"(?)\",137.65454545454546],[\"(?)\",139.59832635983264],[\"(?)\",150.84242424242424],[\"(?)\",141.85314685314685],[\"(?)\",140.88809523809525]],\"domain\":{\"x\":[0.0,1.0],\"y\":[0.0,1.0]},\"hovertemplate\":\"labels=%{label}<br>class_counts=%{value}<br>parent=%{parent}<br>id=%{id}<br>overall_elo_gleens=%{customdata[0]}<br>overall_score_gleens=%{color}<extra></extra>\",\"ids\":[\"R1 Structures: Frequency and Overall Score for gleens/lab/0_m / 0_ts / 2_lab / 0_pi / 0_ac1 / 0_ac2\",\"R1 Structures: Frequency and Overall Score for gleens/PI/0_m / 1_ts / 0_lab / 1_pi / 0_ac1 / 0_ac2\",\"R1 Structures: Frequency and Overall Score for gleens/lab/0_m / 1_ts / 1_lab / 0_pi / 0_ac1 / 0_ac2\",\"R1 Structures: Frequency and Overall Score for gleens/ac2/1_m / 0_ts / 0_lab / 0_pi / 0_ac1 / 1_ac2\",\"R1 Structures: Frequency and Overall Score for gleens/ac1/1_m / 0_ts / 0_lab / 0_pi / 1_ac1 / 0_ac2\",\"R1 Structures: Frequency and Overall Score for gleens/lab/1_m / 0_ts / 1_lab / 0_pi / 0_ac1 / 0_ac2\",\"R1 Structures: Frequency and Overall Score for gleens/PI/1_m / 0_ts / 1_lab / 1_pi / 0_ac1 / 0_ac2\",\"R1 Structures: Frequency and Overall Score for gleens/lab/1_m / 0_ts / 2_lab / 0_pi / 0_ac1 / 0_ac2\",\"R1 Structures: Frequency and Overall Score for gleens/lab/1_m / 1_ts / 1_lab / 0_pi / 0_ac1 / 0_ac2\",\"R1 Structures: Frequency and Overall Score for gleens/ts/1_m / 2_ts / 0_lab / 0_pi / 0_ac1 / 0_ac2\",\"R1 Structures: Frequency and Overall Score for gleens/ac2/2_m / 0_ts / 0_lab / 0_pi / 0_ac1 / 1_ac2\",\"R1 Structures: Frequency and Overall Score for gleens/ac1/2_m / 0_ts / 0_lab / 0_pi / 1_ac1 / 0_ac2\",\"R1 Structures: Frequency and Overall Score for gleens/PI/2_m / 0_ts / 0_lab / 1_pi / 0_ac1 / 0_ac2\",\"R1 Structures: Frequency and Overall Score for gleens/lab/2_m / 0_ts / 1_lab / 0_pi / 0_ac1 / 0_ac2\",\"R1 Structures: Frequency and Overall Score for gleens/PI/2_m / 1_ts / 0_lab / 1_pi / 0_ac1 / 0_ac2\",\"R1 Structures: Frequency and Overall Score for gleens/lab/2_m / 1_ts / 1_lab / 0_pi / 0_ac1 / 0_ac2\",\"R1 Structures: Frequency and Overall Score for gleens/ts/2_m / 2_ts / 0_lab / 0_pi / 0_ac1 / 0_ac2\",\"R1 Structures: Frequency and Overall Score for gleens/ts/2_m / 3_ts / 0_lab / 0_pi / 0_ac1 / 0_ac2\",\"R1 Structures: Frequency and Overall Score for gleens/ac2/3_m / 0_ts / 0_lab / 0_pi / 0_ac1 / 1_ac2\",\"R1 Structures: Frequency and Overall Score for gleens/ac1/3_m / 0_ts / 0_lab / 0_pi / 1_ac1 / 0_ac2\",\"R1 Structures: Frequency and Overall Score for gleens/PI/3_m / 0_ts / 0_lab / 1_pi / 0_ac1 / 0_ac2\",\"R1 Structures: Frequency and Overall Score for gleens/lab/3_m / 0_ts / 1_lab / 0_pi / 0_ac1 / 0_ac2\",\"R1 Structures: Frequency and Overall Score for gleens/lab/3_m / 0_ts / 2_lab / 0_pi / 0_ac1 / 0_ac2\",\"R1 Structures: Frequency and Overall Score for gleens/ts/3_m / 1_ts / 0_lab / 0_pi / 0_ac1 / 0_ac2\",\"R1 Structures: Frequency and Overall Score for gleens/lab/3_m / 1_ts / 1_lab / 0_pi / 0_ac1 / 0_ac2\",\"R1 Structures: Frequency and Overall Score for gleens/ts/3_m / 2_ts / 0_lab / 0_pi / 0_ac1 / 0_ac2\",\"R1 Structures: Frequency and Overall Score for gleens/PI/4_m / 0_ts / 0_lab / 1_pi / 0_ac1 / 0_ac2\",\"R1 Structures: Frequency and Overall Score for gleens/lab/4_m / 0_ts / 1_lab / 0_pi / 0_ac1 / 0_ac2\",\"R1 Structures: Frequency and Overall Score for gleens/ts/4_m / 1_ts / 0_lab / 0_pi / 0_ac1 / 0_ac2\",\"R1 Structures: Frequency and Overall Score for gleens/ts/4_m / 2_ts / 0_lab / 0_pi / 0_ac1 / 0_ac2\",\"R1 Structures: Frequency and Overall Score for gleens/m/5_m / 0_ts / 0_lab / 0_pi / 0_ac1 / 0_ac2\",\"R1 Structures: Frequency and Overall Score for gleens/PI/5_m / 0_ts / 0_lab / 1_pi / 0_ac1 / 0_ac2\",\"R1 Structures: Frequency and Overall Score for gleens/lab/5_m / 0_ts / 1_lab / 0_pi / 0_ac1 / 0_ac2\",\"R1 Structures: Frequency and Overall Score for gleens/ts/5_m / 1_ts / 0_lab / 0_pi / 0_ac1 / 0_ac2\",\"R1 Structures: Frequency and Overall Score for gleens/ts/5_m / 2_ts / 0_lab / 0_pi / 0_ac1 / 0_ac2\",\"R1 Structures: Frequency and Overall Score for gleens/m/6_m / 0_ts / 0_lab / 0_pi / 0_ac1 / 0_ac2\",\"R1 Structures: Frequency and Overall Score for gleens/lab/6_m / 0_ts / 1_lab / 0_pi / 0_ac1 / 0_ac2\",\"R1 Structures: Frequency and Overall Score for gleens/ts/6_m / 1_ts / 0_lab / 0_pi / 0_ac1 / 0_ac2\",\"R1 Structures: Frequency and Overall Score for gleens/m/7_m / 0_ts / 0_lab / 0_pi / 0_ac1 / 0_ac2\",\"R1 Structures: Frequency and Overall Score for gleens/m/8_m / 0_ts / 0_lab / 0_pi / 0_ac1 / 0_ac2\",\"R1 Structures: Frequency and Overall Score for gleens/PI\",\"R1 Structures: Frequency and Overall Score for gleens/ac1\",\"R1 Structures: Frequency and Overall Score for gleens/ac2\",\"R1 Structures: Frequency and Overall Score for gleens/lab\",\"R1 Structures: Frequency and Overall Score for gleens/m\",\"R1 Structures: Frequency and Overall Score for gleens/ts\",\"R1 Structures: Frequency and Overall Score for gleens\"],\"labels\":[\"0_m / 0_ts / 2_lab / 0_pi / 0_ac1 / 0_ac2\",\"0_m / 1_ts / 0_lab / 1_pi / 0_ac1 / 0_ac2\",\"0_m / 1_ts / 1_lab / 0_pi / 0_ac1 / 0_ac2\",\"1_m / 0_ts / 0_lab / 0_pi / 0_ac1 / 1_ac2\",\"1_m / 0_ts / 0_lab / 0_pi / 1_ac1 / 0_ac2\",\"1_m / 0_ts / 1_lab / 0_pi / 0_ac1 / 0_ac2\",\"1_m / 0_ts / 1_lab / 1_pi / 0_ac1 / 0_ac2\",\"1_m / 0_ts / 2_lab / 0_pi / 0_ac1 / 0_ac2\",\"1_m / 1_ts / 1_lab / 0_pi / 0_ac1 / 0_ac2\",\"1_m / 2_ts / 0_lab / 0_pi / 0_ac1 / 0_ac2\",\"2_m / 0_ts / 0_lab / 0_pi / 0_ac1 / 1_ac2\",\"2_m / 0_ts / 0_lab / 0_pi / 1_ac1 / 0_ac2\",\"2_m / 0_ts / 0_lab / 1_pi / 0_ac1 / 0_ac2\",\"2_m / 0_ts / 1_lab / 0_pi / 0_ac1 / 0_ac2\",\"2_m / 1_ts / 0_lab / 1_pi / 0_ac1 / 0_ac2\",\"2_m / 1_ts / 1_lab / 0_pi / 0_ac1 / 0_ac2\",\"2_m / 2_ts / 0_lab / 0_pi / 0_ac1 / 0_ac2\",\"2_m / 3_ts / 0_lab / 0_pi / 0_ac1 / 0_ac2\",\"3_m / 0_ts / 0_lab / 0_pi / 0_ac1 / 1_ac2\",\"3_m / 0_ts / 0_lab / 0_pi / 1_ac1 / 0_ac2\",\"3_m / 0_ts / 0_lab / 1_pi / 0_ac1 / 0_ac2\",\"3_m / 0_ts / 1_lab / 0_pi / 0_ac1 / 0_ac2\",\"3_m / 0_ts / 2_lab / 0_pi / 0_ac1 / 0_ac2\",\"3_m / 1_ts / 0_lab / 0_pi / 0_ac1 / 0_ac2\",\"3_m / 1_ts / 1_lab / 0_pi / 0_ac1 / 0_ac2\",\"3_m / 2_ts / 0_lab / 0_pi / 0_ac1 / 0_ac2\",\"4_m / 0_ts / 0_lab / 1_pi / 0_ac1 / 0_ac2\",\"4_m / 0_ts / 1_lab / 0_pi / 0_ac1 / 0_ac2\",\"4_m / 1_ts / 0_lab / 0_pi / 0_ac1 / 0_ac2\",\"4_m / 2_ts / 0_lab / 0_pi / 0_ac1 / 0_ac2\",\"5_m / 0_ts / 0_lab / 0_pi / 0_ac1 / 0_ac2\",\"5_m / 0_ts / 0_lab / 1_pi / 0_ac1 / 0_ac2\",\"5_m / 0_ts / 1_lab / 0_pi / 0_ac1 / 0_ac2\",\"5_m / 1_ts / 0_lab / 0_pi / 0_ac1 / 0_ac2\",\"5_m / 2_ts / 0_lab / 0_pi / 0_ac1 / 0_ac2\",\"6_m / 0_ts / 0_lab / 0_pi / 0_ac1 / 0_ac2\",\"6_m / 0_ts / 1_lab / 0_pi / 0_ac1 / 0_ac2\",\"6_m / 1_ts / 0_lab / 0_pi / 0_ac1 / 0_ac2\",\"7_m / 0_ts / 0_lab / 0_pi / 0_ac1 / 0_ac2\",\"8_m / 0_ts / 0_lab / 0_pi / 0_ac1 / 0_ac2\",\"PI\",\"ac1\",\"ac2\",\"lab\",\"m\",\"ts\",\"R1 Structures: Frequency and Overall Score for gleens\"],\"marker\":{\"coloraxis\":\"coloraxis\",\"colors\":[128.25,101.0,109.125,132.5909090909091,138.59649122807016,102.9,121.75,134.66666666666666,120.53846153846153,105.0,139.0,146.54545454545453,118.55555555555556,133.05217391304348,132.5,137.32608695652175,142.9,163.0,161.33333333333334,128.5,119.08333333333333,138.39795918367346,160.0,100.4,148.625,124.28571428571429,129.0,146.46808510638297,135.32142857142858,162.2,124.3,186.5,154.8181818181818,145.8695652173913,205.0,140.3125,166.42857142857142,146.625,162.59154929577466,187.9,124.6,142.632,137.65454545454546,139.59832635983264,150.84242424242424,141.85314685314685,140.88809523809525]},\"name\":\"\",\"parents\":[\"R1 Structures: Frequency and Overall Score for gleens/lab\",\"R1 Structures: Frequency and Overall Score for gleens/PI\",\"R1 Structures: Frequency and Overall Score for gleens/lab\",\"R1 Structures: Frequency and Overall Score for gleens/ac2\",\"R1 Structures: Frequency and Overall Score for gleens/ac1\",\"R1 Structures: Frequency and Overall Score for gleens/lab\",\"R1 Structures: Frequency and Overall Score for gleens/PI\",\"R1 Structures: Frequency and Overall Score for gleens/lab\",\"R1 Structures: Frequency and Overall Score for gleens/lab\",\"R1 Structures: Frequency and Overall Score for gleens/ts\",\"R1 Structures: Frequency and Overall Score for gleens/ac2\",\"R1 Structures: Frequency and Overall Score for gleens/ac1\",\"R1 Structures: Frequency and Overall Score for gleens/PI\",\"R1 Structures: Frequency and Overall Score for gleens/lab\",\"R1 Structures: Frequency and Overall Score for gleens/PI\",\"R1 Structures: Frequency and Overall Score for gleens/lab\",\"R1 Structures: Frequency and Overall Score for gleens/ts\",\"R1 Structures: Frequency and Overall Score for gleens/ts\",\"R1 Structures: Frequency and Overall Score for gleens/ac2\",\"R1 Structures: Frequency and Overall Score for gleens/ac1\",\"R1 Structures: Frequency and Overall Score for gleens/PI\",\"R1 Structures: Frequency and Overall Score for gleens/lab\",\"R1 Structures: Frequency and Overall Score for gleens/lab\",\"R1 Structures: Frequency and Overall Score for gleens/ts\",\"R1 Structures: Frequency and Overall Score for gleens/lab\",\"R1 Structures: Frequency and Overall Score for gleens/ts\",\"R1 Structures: Frequency and Overall Score for gleens/PI\",\"R1 Structures: Frequency and Overall Score for gleens/lab\",\"R1 Structures: Frequency and Overall Score for gleens/ts\",\"R1 Structures: Frequency and Overall Score for gleens/ts\",\"R1 Structures: Frequency and Overall Score for gleens/m\",\"R1 Structures: Frequency and Overall Score for gleens/PI\",\"R1 Structures: Frequency and Overall Score for gleens/lab\",\"R1 Structures: Frequency and Overall Score for gleens/ts\",\"R1 Structures: Frequency and Overall Score for gleens/ts\",\"R1 Structures: Frequency and Overall Score for gleens/m\",\"R1 Structures: Frequency and Overall Score for gleens/lab\",\"R1 Structures: Frequency and Overall Score for gleens/ts\",\"R1 Structures: Frequency and Overall Score for gleens/m\",\"R1 Structures: Frequency and Overall Score for gleens/m\",\"R1 Structures: Frequency and Overall Score for gleens\",\"R1 Structures: Frequency and Overall Score for gleens\",\"R1 Structures: Frequency and Overall Score for gleens\",\"R1 Structures: Frequency and Overall Score for gleens\",\"R1 Structures: Frequency and Overall Score for gleens\",\"R1 Structures: Frequency and Overall Score for gleens\",\"\"],\"values\":[8,2,8,22,57,10,4,3,26,1,30,66,18,115,10,92,10,1,3,2,12,196,1,5,8,7,7,188,28,5,20,2,55,69,1,64,7,16,71,10,55,125,55,717,165,143,1260],\"type\":\"treemap\"}],                        {\"template\":{\"data\":{\"bar\":[{\"error_x\":{\"color\":\"#2a3f5f\"},\"error_y\":{\"color\":\"#2a3f5f\"},\"marker\":{\"line\":{\"color\":\"#E5ECF6\",\"width\":0.5},\"pattern\":{\"fillmode\":\"overlay\",\"size\":10,\"solidity\":0.2}},\"type\":\"bar\"}],\"barpolar\":[{\"marker\":{\"line\":{\"color\":\"#E5ECF6\",\"width\":0.5},\"pattern\":{\"fillmode\":\"overlay\",\"size\":10,\"solidity\":0.2}},\"type\":\"barpolar\"}],\"carpet\":[{\"aaxis\":{\"endlinecolor\":\"#2a3f5f\",\"gridcolor\":\"white\",\"linecolor\":\"white\",\"minorgridcolor\":\"white\",\"startlinecolor\":\"#2a3f5f\"},\"baxis\":{\"endlinecolor\":\"#2a3f5f\",\"gridcolor\":\"white\",\"linecolor\":\"white\",\"minorgridcolor\":\"white\",\"startlinecolor\":\"#2a3f5f\"},\"type\":\"carpet\"}],\"choropleth\":[{\"colorbar\":{\"outlinewidth\":0,\"ticks\":\"\"},\"type\":\"choropleth\"}],\"contour\":[{\"colorbar\":{\"outlinewidth\":0,\"ticks\":\"\"},\"colorscale\":[[0.0,\"#0d0887\"],[0.1111111111111111,\"#46039f\"],[0.2222222222222222,\"#7201a8\"],[0.3333333333333333,\"#9c179e\"],[0.4444444444444444,\"#bd3786\"],[0.5555555555555556,\"#d8576b\"],[0.6666666666666666,\"#ed7953\"],[0.7777777777777778,\"#fb9f3a\"],[0.8888888888888888,\"#fdca26\"],[1.0,\"#f0f921\"]],\"type\":\"contour\"}],\"contourcarpet\":[{\"colorbar\":{\"outlinewidth\":0,\"ticks\":\"\"},\"type\":\"contourcarpet\"}],\"heatmap\":[{\"colorbar\":{\"outlinewidth\":0,\"ticks\":\"\"},\"colorscale\":[[0.0,\"#0d0887\"],[0.1111111111111111,\"#46039f\"],[0.2222222222222222,\"#7201a8\"],[0.3333333333333333,\"#9c179e\"],[0.4444444444444444,\"#bd3786\"],[0.5555555555555556,\"#d8576b\"],[0.6666666666666666,\"#ed7953\"],[0.7777777777777778,\"#fb9f3a\"],[0.8888888888888888,\"#fdca26\"],[1.0,\"#f0f921\"]],\"type\":\"heatmap\"}],\"heatmapgl\":[{\"colorbar\":{\"outlinewidth\":0,\"ticks\":\"\"},\"colorscale\":[[0.0,\"#0d0887\"],[0.1111111111111111,\"#46039f\"],[0.2222222222222222,\"#7201a8\"],[0.3333333333333333,\"#9c179e\"],[0.4444444444444444,\"#bd3786\"],[0.5555555555555556,\"#d8576b\"],[0.6666666666666666,\"#ed7953\"],[0.7777777777777778,\"#fb9f3a\"],[0.8888888888888888,\"#fdca26\"],[1.0,\"#f0f921\"]],\"type\":\"heatmapgl\"}],\"histogram\":[{\"marker\":{\"pattern\":{\"fillmode\":\"overlay\",\"size\":10,\"solidity\":0.2}},\"type\":\"histogram\"}],\"histogram2d\":[{\"colorbar\":{\"outlinewidth\":0,\"ticks\":\"\"},\"colorscale\":[[0.0,\"#0d0887\"],[0.1111111111111111,\"#46039f\"],[0.2222222222222222,\"#7201a8\"],[0.3333333333333333,\"#9c179e\"],[0.4444444444444444,\"#bd3786\"],[0.5555555555555556,\"#d8576b\"],[0.6666666666666666,\"#ed7953\"],[0.7777777777777778,\"#fb9f3a\"],[0.8888888888888888,\"#fdca26\"],[1.0,\"#f0f921\"]],\"type\":\"histogram2d\"}],\"histogram2dcontour\":[{\"colorbar\":{\"outlinewidth\":0,\"ticks\":\"\"},\"colorscale\":[[0.0,\"#0d0887\"],[0.1111111111111111,\"#46039f\"],[0.2222222222222222,\"#7201a8\"],[0.3333333333333333,\"#9c179e\"],[0.4444444444444444,\"#bd3786\"],[0.5555555555555556,\"#d8576b\"],[0.6666666666666666,\"#ed7953\"],[0.7777777777777778,\"#fb9f3a\"],[0.8888888888888888,\"#fdca26\"],[1.0,\"#f0f921\"]],\"type\":\"histogram2dcontour\"}],\"mesh3d\":[{\"colorbar\":{\"outlinewidth\":0,\"ticks\":\"\"},\"type\":\"mesh3d\"}],\"parcoords\":[{\"line\":{\"colorbar\":{\"outlinewidth\":0,\"ticks\":\"\"}},\"type\":\"parcoords\"}],\"pie\":[{\"automargin\":true,\"type\":\"pie\"}],\"scatter\":[{\"marker\":{\"colorbar\":{\"outlinewidth\":0,\"ticks\":\"\"}},\"type\":\"scatter\"}],\"scatter3d\":[{\"line\":{\"colorbar\":{\"outlinewidth\":0,\"ticks\":\"\"}},\"marker\":{\"colorbar\":{\"outlinewidth\":0,\"ticks\":\"\"}},\"type\":\"scatter3d\"}],\"scattercarpet\":[{\"marker\":{\"colorbar\":{\"outlinewidth\":0,\"ticks\":\"\"}},\"type\":\"scattercarpet\"}],\"scattergeo\":[{\"marker\":{\"colorbar\":{\"outlinewidth\":0,\"ticks\":\"\"}},\"type\":\"scattergeo\"}],\"scattergl\":[{\"marker\":{\"colorbar\":{\"outlinewidth\":0,\"ticks\":\"\"}},\"type\":\"scattergl\"}],\"scattermapbox\":[{\"marker\":{\"colorbar\":{\"outlinewidth\":0,\"ticks\":\"\"}},\"type\":\"scattermapbox\"}],\"scatterpolar\":[{\"marker\":{\"colorbar\":{\"outlinewidth\":0,\"ticks\":\"\"}},\"type\":\"scatterpolar\"}],\"scatterpolargl\":[{\"marker\":{\"colorbar\":{\"outlinewidth\":0,\"ticks\":\"\"}},\"type\":\"scatterpolargl\"}],\"scatterternary\":[{\"marker\":{\"colorbar\":{\"outlinewidth\":0,\"ticks\":\"\"}},\"type\":\"scatterternary\"}],\"surface\":[{\"colorbar\":{\"outlinewidth\":0,\"ticks\":\"\"},\"colorscale\":[[0.0,\"#0d0887\"],[0.1111111111111111,\"#46039f\"],[0.2222222222222222,\"#7201a8\"],[0.3333333333333333,\"#9c179e\"],[0.4444444444444444,\"#bd3786\"],[0.5555555555555556,\"#d8576b\"],[0.6666666666666666,\"#ed7953\"],[0.7777777777777778,\"#fb9f3a\"],[0.8888888888888888,\"#fdca26\"],[1.0,\"#f0f921\"]],\"type\":\"surface\"}],\"table\":[{\"cells\":{\"fill\":{\"color\":\"#EBF0F8\"},\"line\":{\"color\":\"white\"}},\"header\":{\"fill\":{\"color\":\"#C8D4E3\"},\"line\":{\"color\":\"white\"}},\"type\":\"table\"}]},\"layout\":{\"annotationdefaults\":{\"arrowcolor\":\"#2a3f5f\",\"arrowhead\":0,\"arrowwidth\":1},\"autotypenumbers\":\"strict\",\"coloraxis\":{\"colorbar\":{\"outlinewidth\":0,\"ticks\":\"\"}},\"colorscale\":{\"diverging\":[[0,\"#8e0152\"],[0.1,\"#c51b7d\"],[0.2,\"#de77ae\"],[0.3,\"#f1b6da\"],[0.4,\"#fde0ef\"],[0.5,\"#f7f7f7\"],[0.6,\"#e6f5d0\"],[0.7,\"#b8e186\"],[0.8,\"#7fbc41\"],[0.9,\"#4d9221\"],[1,\"#276419\"]],\"sequential\":[[0.0,\"#0d0887\"],[0.1111111111111111,\"#46039f\"],[0.2222222222222222,\"#7201a8\"],[0.3333333333333333,\"#9c179e\"],[0.4444444444444444,\"#bd3786\"],[0.5555555555555556,\"#d8576b\"],[0.6666666666666666,\"#ed7953\"],[0.7777777777777778,\"#fb9f3a\"],[0.8888888888888888,\"#fdca26\"],[1.0,\"#f0f921\"]],\"sequentialminus\":[[0.0,\"#0d0887\"],[0.1111111111111111,\"#46039f\"],[0.2222222222222222,\"#7201a8\"],[0.3333333333333333,\"#9c179e\"],[0.4444444444444444,\"#bd3786\"],[0.5555555555555556,\"#d8576b\"],[0.6666666666666666,\"#ed7953\"],[0.7777777777777778,\"#fb9f3a\"],[0.8888888888888888,\"#fdca26\"],[1.0,\"#f0f921\"]]},\"colorway\":[\"#636efa\",\"#EF553B\",\"#00cc96\",\"#ab63fa\",\"#FFA15A\",\"#19d3f3\",\"#FF6692\",\"#B6E880\",\"#FF97FF\",\"#FECB52\"],\"font\":{\"color\":\"#2a3f5f\"},\"geo\":{\"bgcolor\":\"white\",\"lakecolor\":\"white\",\"landcolor\":\"#E5ECF6\",\"showlakes\":true,\"showland\":true,\"subunitcolor\":\"white\"},\"hoverlabel\":{\"align\":\"left\"},\"hovermode\":\"closest\",\"mapbox\":{\"style\":\"light\"},\"paper_bgcolor\":\"white\",\"plot_bgcolor\":\"#E5ECF6\",\"polar\":{\"angularaxis\":{\"gridcolor\":\"white\",\"linecolor\":\"white\",\"ticks\":\"\"},\"bgcolor\":\"#E5ECF6\",\"radialaxis\":{\"gridcolor\":\"white\",\"linecolor\":\"white\",\"ticks\":\"\"}},\"scene\":{\"xaxis\":{\"backgroundcolor\":\"#E5ECF6\",\"gridcolor\":\"white\",\"gridwidth\":2,\"linecolor\":\"white\",\"showbackground\":true,\"ticks\":\"\",\"zerolinecolor\":\"white\"},\"yaxis\":{\"backgroundcolor\":\"#E5ECF6\",\"gridcolor\":\"white\",\"gridwidth\":2,\"linecolor\":\"white\",\"showbackground\":true,\"ticks\":\"\",\"zerolinecolor\":\"white\"},\"zaxis\":{\"backgroundcolor\":\"#E5ECF6\",\"gridcolor\":\"white\",\"gridwidth\":2,\"linecolor\":\"white\",\"showbackground\":true,\"ticks\":\"\",\"zerolinecolor\":\"white\"}},\"shapedefaults\":{\"line\":{\"color\":\"#2a3f5f\"}},\"ternary\":{\"aaxis\":{\"gridcolor\":\"white\",\"linecolor\":\"white\",\"ticks\":\"\"},\"baxis\":{\"gridcolor\":\"white\",\"linecolor\":\"white\",\"ticks\":\"\"},\"bgcolor\":\"#E5ECF6\",\"caxis\":{\"gridcolor\":\"white\",\"linecolor\":\"white\",\"ticks\":\"\"}},\"title\":{\"x\":0.05},\"xaxis\":{\"automargin\":true,\"gridcolor\":\"white\",\"linecolor\":\"white\",\"ticks\":\"\",\"title\":{\"standoff\":15},\"zerolinecolor\":\"white\",\"zerolinewidth\":2},\"yaxis\":{\"automargin\":true,\"gridcolor\":\"white\",\"linecolor\":\"white\",\"ticks\":\"\",\"title\":{\"standoff\":15},\"zerolinecolor\":\"white\",\"zerolinewidth\":2}}},\"coloraxis\":{\"colorbar\":{\"title\":{\"text\":\"overall_score_gleens\"}},\"colorscale\":[[0.0,\"rgb(103,0,31)\"],[0.1,\"rgb(178,24,43)\"],[0.2,\"rgb(214,96,77)\"],[0.3,\"rgb(244,165,130)\"],[0.4,\"rgb(253,219,199)\"],[0.5,\"rgb(247,247,247)\"],[0.6,\"rgb(209,229,240)\"],[0.7,\"rgb(146,197,222)\"],[0.8,\"rgb(67,147,195)\"],[0.9,\"rgb(33,102,172)\"],[1.0,\"rgb(5,48,97)\"]],\"cmid\":137.86202307009762},\"legend\":{\"tracegroupgap\":0},\"margin\":{\"t\":50,\"l\":25,\"r\":25,\"b\":25}},                        {\"responsive\": true}                    ).then(function(){\n",
       "                            \n",
       "var gd = document.getElementById('9c05ced2-713c-4765-8d61-58f0699c1220');\n",
       "var x = new MutationObserver(function (mutations, observer) {{\n",
       "        var display = window.getComputedStyle(gd).display;\n",
       "        if (!display || display === 'none') {{\n",
       "            console.log([gd, 'removed!']);\n",
       "            Plotly.purge(gd);\n",
       "            observer.disconnect();\n",
       "        }}\n",
       "}});\n",
       "\n",
       "// Listen for the removal of the full notebook cells\n",
       "var notebookContainer = gd.closest('#notebook-container');\n",
       "if (notebookContainer) {{\n",
       "    x.observe(notebookContainer, {childList: true});\n",
       "}}\n",
       "\n",
       "// Listen for the clearing of the current output cell\n",
       "var outputEl = gd.closest('.output');\n",
       "if (outputEl) {{\n",
       "    x.observe(outputEl, {childList: true});\n",
       "}}\n",
       "\n",
       "                        })                };                });            </script>        </div>"
      ]
     },
     "metadata": {},
     "output_type": "display_data"
    },
    {
     "data": {
      "application/vnd.plotly.v1+json": {
       "config": {
        "plotlyServerURL": "https://plot.ly"
       },
       "data": [
        {
         "branchvalues": "total",
         "customdata": [
          [
           217,
           151
          ],
          [
           258.125,
           158.4375
          ],
          [
           122.5,
           111
          ],
          [
           22,
           120
          ],
          [
           163.30769230769232,
           109.07692307692308
          ],
          [
           279.97727272727275,
           159.70454545454547
          ],
          [
           101,
           100
          ],
          [
           123.33333333333333,
           84
          ],
          [
           80.125,
           97.375
          ],
          [
           182.3939393939394,
           124.42424242424242
          ],
          [
           111.66666666666667,
           77.33333333333333
          ],
          [
           81.66666666666667,
           143
          ],
          [
           205.58415841584159,
           137.85148514851485
          ],
          [
           246.16666666666666,
           143.66666666666666
          ],
          [
           62.333333333333336,
           96
          ],
          [
           215,
           168
          ],
          [
           83.33333333333333,
           134
          ],
          [
           146.625,
           113.875
          ],
          [
           212.7099567099567,
           144.53030303030303
          ],
          [
           200.0841121495327,
           147.10280373831776
          ],
          [
           118.57142857142857,
           132.71428571428572
          ],
          [
           121,
           106.66666666666667
          ],
          [
           177.53225806451613,
           135.36290322580646
          ],
          [
           100.5,
           106
          ],
          [
           124,
           137.66666666666666
          ],
          [
           2,
           101
          ],
          [
           229.89795918367346,
           135.12244897959184
          ],
          [
           77,
           111
          ],
          [
           106.25,
           140.75
          ],
          [
           "(?)",
           155.03944315545243
          ],
          [
           "(?)",
           109
          ],
          [
           "(?)",
           140.6829268292683
          ],
          [
           2,
           101
          ],
          [
           "(?)",
           120
          ],
          [
           "(?)",
           144.8325958702065
          ]
         ],
         "domain": {
          "x": [
           0,
           1
          ],
          "y": [
           0,
           1
          ]
         },
         "hovertemplate": "labels=%{label}<br>class_counts=%{value}<br>parent=%{parent}<br>id=%{id}<br>overall_elo_firaks=%{customdata[0]}<br>overall_score_firaks=%{color}<extra></extra>",
         "ids": [
          "R1 Structures: Frequency and Overall Score for firaks/PI/-1_m / 0_ts / 2_lab / 1_pi / 0_ac1 / 0_ac2",
          "R1 Structures: Frequency and Overall Score for firaks/PI/-1_m / 1_ts / 1_lab / 1_pi / 0_ac1 / 0_ac2",
          "R1 Structures: Frequency and Overall Score for firaks/lab/0_m / 0_ts / 2_lab / 0_pi / 0_ac1 / 0_ac2",
          "R1 Structures: Frequency and Overall Score for firaks/PI/0_m / 1_ts / 0_lab / 1_pi / 0_ac1 / 0_ac2",
          "R1 Structures: Frequency and Overall Score for firaks/lab/0_m / 1_ts / 1_lab / 0_pi / 0_ac1 / 0_ac2",
          "R1 Structures: Frequency and Overall Score for firaks/PI/0_m / 1_ts / 1_lab / 1_pi / 0_ac1 / 0_ac2",
          "R1 Structures: Frequency and Overall Score for firaks/lab/0_m / 2_ts / 1_lab / 0_pi / 0_ac1 / 0_ac2",
          "R1 Structures: Frequency and Overall Score for firaks/ac1/1_m / 0_ts / 0_lab / 0_pi / 1_ac1 / 0_ac2",
          "R1 Structures: Frequency and Overall Score for firaks/PI/1_m / 0_ts / 0_lab / 1_pi / 0_ac1 / 0_ac2",
          "R1 Structures: Frequency and Overall Score for firaks/lab/1_m / 0_ts / 1_lab / 0_pi / 0_ac1 / 0_ac2",
          "R1 Structures: Frequency and Overall Score for firaks/lab/1_m / 0_ts / 2_lab / 0_pi / 0_ac1 / 0_ac2",
          "R1 Structures: Frequency and Overall Score for firaks/PI/1_m / 1_ts / 0_lab / 1_pi / 0_ac1 / 0_ac2",
          "R1 Structures: Frequency and Overall Score for firaks/lab/1_m / 1_ts / 1_lab / 0_pi / 0_ac1 / 0_ac2",
          "R1 Structures: Frequency and Overall Score for firaks/PI/1_m / 1_ts / 1_lab / 1_pi / 0_ac1 / 0_ac2",
          "R1 Structures: Frequency and Overall Score for firaks/ts/1_m / 2_ts / 0_lab / 0_pi / 0_ac1 / 0_ac2",
          "R1 Structures: Frequency and Overall Score for firaks/ts/1_m / 3_ts / 0_lab / 0_pi / 0_ac1 / 0_ac2",
          "R1 Structures: Frequency and Overall Score for firaks/ac1/2_m / 0_ts / 0_lab / 0_pi / 1_ac1 / 0_ac2",
          "R1 Structures: Frequency and Overall Score for firaks/PI/2_m / 0_ts / 0_lab / 1_pi / 0_ac1 / 0_ac2",
          "R1 Structures: Frequency and Overall Score for firaks/lab/2_m / 0_ts / 1_lab / 0_pi / 0_ac1 / 0_ac2",
          "R1 Structures: Frequency and Overall Score for firaks/lab/2_m / 1_ts / 1_lab / 0_pi / 0_ac1 / 0_ac2",
          "R1 Structures: Frequency and Overall Score for firaks/ts/2_m / 2_ts / 0_lab / 0_pi / 0_ac1 / 0_ac2",
          "R1 Structures: Frequency and Overall Score for firaks/PI/3_m / 0_ts / 0_lab / 1_pi / 0_ac1 / 0_ac2",
          "R1 Structures: Frequency and Overall Score for firaks/lab/3_m / 0_ts / 1_lab / 0_pi / 0_ac1 / 0_ac2",
          "R1 Structures: Frequency and Overall Score for firaks/ts/3_m / 1_ts / 0_lab / 0_pi / 0_ac1 / 0_ac2",
          "R1 Structures: Frequency and Overall Score for firaks/lab/3_m / 1_ts / 1_lab / 0_pi / 0_ac1 / 0_ac2",
          "R1 Structures: Frequency and Overall Score for firaks/m/4_m / 0_ts / 0_lab / 0_pi / 0_ac1 / 0_ac2",
          "R1 Structures: Frequency and Overall Score for firaks/lab/4_m / 0_ts / 1_lab / 0_pi / 0_ac1 / 0_ac2",
          "R1 Structures: Frequency and Overall Score for firaks/ts/4_m / 1_ts / 0_lab / 0_pi / 0_ac1 / 0_ac2",
          "R1 Structures: Frequency and Overall Score for firaks/lab/5_m / 0_ts / 1_lab / 0_pi / 0_ac1 / 0_ac2",
          "R1 Structures: Frequency and Overall Score for firaks/PI",
          "R1 Structures: Frequency and Overall Score for firaks/ac1",
          "R1 Structures: Frequency and Overall Score for firaks/lab",
          "R1 Structures: Frequency and Overall Score for firaks/m",
          "R1 Structures: Frequency and Overall Score for firaks/ts",
          "R1 Structures: Frequency and Overall Score for firaks"
         ],
         "labels": [
          "-1_m / 0_ts / 2_lab / 1_pi / 0_ac1 / 0_ac2",
          "-1_m / 1_ts / 1_lab / 1_pi / 0_ac1 / 0_ac2",
          "0_m / 0_ts / 2_lab / 0_pi / 0_ac1 / 0_ac2",
          "0_m / 1_ts / 0_lab / 1_pi / 0_ac1 / 0_ac2",
          "0_m / 1_ts / 1_lab / 0_pi / 0_ac1 / 0_ac2",
          "0_m / 1_ts / 1_lab / 1_pi / 0_ac1 / 0_ac2",
          "0_m / 2_ts / 1_lab / 0_pi / 0_ac1 / 0_ac2",
          "1_m / 0_ts / 0_lab / 0_pi / 1_ac1 / 0_ac2",
          "1_m / 0_ts / 0_lab / 1_pi / 0_ac1 / 0_ac2",
          "1_m / 0_ts / 1_lab / 0_pi / 0_ac1 / 0_ac2",
          "1_m / 0_ts / 2_lab / 0_pi / 0_ac1 / 0_ac2",
          "1_m / 1_ts / 0_lab / 1_pi / 0_ac1 / 0_ac2",
          "1_m / 1_ts / 1_lab / 0_pi / 0_ac1 / 0_ac2",
          "1_m / 1_ts / 1_lab / 1_pi / 0_ac1 / 0_ac2",
          "1_m / 2_ts / 0_lab / 0_pi / 0_ac1 / 0_ac2",
          "1_m / 3_ts / 0_lab / 0_pi / 0_ac1 / 0_ac2",
          "2_m / 0_ts / 0_lab / 0_pi / 1_ac1 / 0_ac2",
          "2_m / 0_ts / 0_lab / 1_pi / 0_ac1 / 0_ac2",
          "2_m / 0_ts / 1_lab / 0_pi / 0_ac1 / 0_ac2",
          "2_m / 1_ts / 1_lab / 0_pi / 0_ac1 / 0_ac2",
          "2_m / 2_ts / 0_lab / 0_pi / 0_ac1 / 0_ac2",
          "3_m / 0_ts / 0_lab / 1_pi / 0_ac1 / 0_ac2",
          "3_m / 0_ts / 1_lab / 0_pi / 0_ac1 / 0_ac2",
          "3_m / 1_ts / 0_lab / 0_pi / 0_ac1 / 0_ac2",
          "3_m / 1_ts / 1_lab / 0_pi / 0_ac1 / 0_ac2",
          "4_m / 0_ts / 0_lab / 0_pi / 0_ac1 / 0_ac2",
          "4_m / 0_ts / 1_lab / 0_pi / 0_ac1 / 0_ac2",
          "4_m / 1_ts / 0_lab / 0_pi / 0_ac1 / 0_ac2",
          "5_m / 0_ts / 1_lab / 0_pi / 0_ac1 / 0_ac2",
          "PI",
          "ac1",
          "lab",
          "m",
          "ts",
          "R1 Structures: Frequency and Overall Score for firaks"
         ],
         "marker": {
          "coloraxis": "coloraxis",
          "colors": [
           151,
           158.4375,
           111,
           120,
           109.07692307692308,
           159.70454545454547,
           100,
           84,
           97.375,
           124.42424242424242,
           77.33333333333333,
           143,
           137.85148514851485,
           143.66666666666666,
           96,
           168,
           134,
           113.875,
           144.53030303030303,
           147.10280373831776,
           132.71428571428572,
           106.66666666666667,
           135.36290322580646,
           106,
           137.66666666666666,
           101,
           135.12244897959184,
           111,
           140.75,
           155.03944315545243,
           109,
           140.6829268292683,
           101,
           120,
           144.8325958702065
          ]
         },
         "name": "",
         "parents": [
          "R1 Structures: Frequency and Overall Score for firaks/PI",
          "R1 Structures: Frequency and Overall Score for firaks/PI",
          "R1 Structures: Frequency and Overall Score for firaks/lab",
          "R1 Structures: Frequency and Overall Score for firaks/PI",
          "R1 Structures: Frequency and Overall Score for firaks/lab",
          "R1 Structures: Frequency and Overall Score for firaks/PI",
          "R1 Structures: Frequency and Overall Score for firaks/lab",
          "R1 Structures: Frequency and Overall Score for firaks/ac1",
          "R1 Structures: Frequency and Overall Score for firaks/PI",
          "R1 Structures: Frequency and Overall Score for firaks/lab",
          "R1 Structures: Frequency and Overall Score for firaks/lab",
          "R1 Structures: Frequency and Overall Score for firaks/PI",
          "R1 Structures: Frequency and Overall Score for firaks/lab",
          "R1 Structures: Frequency and Overall Score for firaks/PI",
          "R1 Structures: Frequency and Overall Score for firaks/ts",
          "R1 Structures: Frequency and Overall Score for firaks/ts",
          "R1 Structures: Frequency and Overall Score for firaks/ac1",
          "R1 Structures: Frequency and Overall Score for firaks/PI",
          "R1 Structures: Frequency and Overall Score for firaks/lab",
          "R1 Structures: Frequency and Overall Score for firaks/lab",
          "R1 Structures: Frequency and Overall Score for firaks/ts",
          "R1 Structures: Frequency and Overall Score for firaks/PI",
          "R1 Structures: Frequency and Overall Score for firaks/lab",
          "R1 Structures: Frequency and Overall Score for firaks/ts",
          "R1 Structures: Frequency and Overall Score for firaks/lab",
          "R1 Structures: Frequency and Overall Score for firaks/m",
          "R1 Structures: Frequency and Overall Score for firaks/lab",
          "R1 Structures: Frequency and Overall Score for firaks/ts",
          "R1 Structures: Frequency and Overall Score for firaks/lab",
          "R1 Structures: Frequency and Overall Score for firaks",
          "R1 Structures: Frequency and Overall Score for firaks",
          "R1 Structures: Frequency and Overall Score for firaks",
          "R1 Structures: Frequency and Overall Score for firaks",
          "R1 Structures: Frequency and Overall Score for firaks",
          ""
         ],
         "type": "treemap",
         "values": [
          1,
          304,
          2,
          2,
          13,
          88,
          1,
          3,
          8,
          33,
          3,
          3,
          101,
          6,
          3,
          1,
          3,
          16,
          462,
          107,
          7,
          3,
          124,
          4,
          3,
          1,
          49,
          1,
          4,
          431,
          6,
          902,
          1,
          16,
          1356
         ]
        }
       ],
       "layout": {
        "coloraxis": {
         "cmid": 132.71428571428572,
         "colorbar": {
          "title": {
           "text": "overall_score_firaks"
          }
         },
         "colorscale": [
          [
           0,
           "rgb(103,0,31)"
          ],
          [
           0.1,
           "rgb(178,24,43)"
          ],
          [
           0.2,
           "rgb(214,96,77)"
          ],
          [
           0.3,
           "rgb(244,165,130)"
          ],
          [
           0.4,
           "rgb(253,219,199)"
          ],
          [
           0.5,
           "rgb(247,247,247)"
          ],
          [
           0.6,
           "rgb(209,229,240)"
          ],
          [
           0.7,
           "rgb(146,197,222)"
          ],
          [
           0.8,
           "rgb(67,147,195)"
          ],
          [
           0.9,
           "rgb(33,102,172)"
          ],
          [
           1,
           "rgb(5,48,97)"
          ]
         ]
        },
        "legend": {
         "tracegroupgap": 0
        },
        "margin": {
         "b": 25,
         "l": 25,
         "r": 25,
         "t": 50
        },
        "template": {
         "data": {
          "bar": [
           {
            "error_x": {
             "color": "#2a3f5f"
            },
            "error_y": {
             "color": "#2a3f5f"
            },
            "marker": {
             "line": {
              "color": "#E5ECF6",
              "width": 0.5
             },
             "pattern": {
              "fillmode": "overlay",
              "size": 10,
              "solidity": 0.2
             }
            },
            "type": "bar"
           }
          ],
          "barpolar": [
           {
            "marker": {
             "line": {
              "color": "#E5ECF6",
              "width": 0.5
             },
             "pattern": {
              "fillmode": "overlay",
              "size": 10,
              "solidity": 0.2
             }
            },
            "type": "barpolar"
           }
          ],
          "carpet": [
           {
            "aaxis": {
             "endlinecolor": "#2a3f5f",
             "gridcolor": "white",
             "linecolor": "white",
             "minorgridcolor": "white",
             "startlinecolor": "#2a3f5f"
            },
            "baxis": {
             "endlinecolor": "#2a3f5f",
             "gridcolor": "white",
             "linecolor": "white",
             "minorgridcolor": "white",
             "startlinecolor": "#2a3f5f"
            },
            "type": "carpet"
           }
          ],
          "choropleth": [
           {
            "colorbar": {
             "outlinewidth": 0,
             "ticks": ""
            },
            "type": "choropleth"
           }
          ],
          "contour": [
           {
            "colorbar": {
             "outlinewidth": 0,
             "ticks": ""
            },
            "colorscale": [
             [
              0,
              "#0d0887"
             ],
             [
              0.1111111111111111,
              "#46039f"
             ],
             [
              0.2222222222222222,
              "#7201a8"
             ],
             [
              0.3333333333333333,
              "#9c179e"
             ],
             [
              0.4444444444444444,
              "#bd3786"
             ],
             [
              0.5555555555555556,
              "#d8576b"
             ],
             [
              0.6666666666666666,
              "#ed7953"
             ],
             [
              0.7777777777777778,
              "#fb9f3a"
             ],
             [
              0.8888888888888888,
              "#fdca26"
             ],
             [
              1,
              "#f0f921"
             ]
            ],
            "type": "contour"
           }
          ],
          "contourcarpet": [
           {
            "colorbar": {
             "outlinewidth": 0,
             "ticks": ""
            },
            "type": "contourcarpet"
           }
          ],
          "heatmap": [
           {
            "colorbar": {
             "outlinewidth": 0,
             "ticks": ""
            },
            "colorscale": [
             [
              0,
              "#0d0887"
             ],
             [
              0.1111111111111111,
              "#46039f"
             ],
             [
              0.2222222222222222,
              "#7201a8"
             ],
             [
              0.3333333333333333,
              "#9c179e"
             ],
             [
              0.4444444444444444,
              "#bd3786"
             ],
             [
              0.5555555555555556,
              "#d8576b"
             ],
             [
              0.6666666666666666,
              "#ed7953"
             ],
             [
              0.7777777777777778,
              "#fb9f3a"
             ],
             [
              0.8888888888888888,
              "#fdca26"
             ],
             [
              1,
              "#f0f921"
             ]
            ],
            "type": "heatmap"
           }
          ],
          "heatmapgl": [
           {
            "colorbar": {
             "outlinewidth": 0,
             "ticks": ""
            },
            "colorscale": [
             [
              0,
              "#0d0887"
             ],
             [
              0.1111111111111111,
              "#46039f"
             ],
             [
              0.2222222222222222,
              "#7201a8"
             ],
             [
              0.3333333333333333,
              "#9c179e"
             ],
             [
              0.4444444444444444,
              "#bd3786"
             ],
             [
              0.5555555555555556,
              "#d8576b"
             ],
             [
              0.6666666666666666,
              "#ed7953"
             ],
             [
              0.7777777777777778,
              "#fb9f3a"
             ],
             [
              0.8888888888888888,
              "#fdca26"
             ],
             [
              1,
              "#f0f921"
             ]
            ],
            "type": "heatmapgl"
           }
          ],
          "histogram": [
           {
            "marker": {
             "pattern": {
              "fillmode": "overlay",
              "size": 10,
              "solidity": 0.2
             }
            },
            "type": "histogram"
           }
          ],
          "histogram2d": [
           {
            "colorbar": {
             "outlinewidth": 0,
             "ticks": ""
            },
            "colorscale": [
             [
              0,
              "#0d0887"
             ],
             [
              0.1111111111111111,
              "#46039f"
             ],
             [
              0.2222222222222222,
              "#7201a8"
             ],
             [
              0.3333333333333333,
              "#9c179e"
             ],
             [
              0.4444444444444444,
              "#bd3786"
             ],
             [
              0.5555555555555556,
              "#d8576b"
             ],
             [
              0.6666666666666666,
              "#ed7953"
             ],
             [
              0.7777777777777778,
              "#fb9f3a"
             ],
             [
              0.8888888888888888,
              "#fdca26"
             ],
             [
              1,
              "#f0f921"
             ]
            ],
            "type": "histogram2d"
           }
          ],
          "histogram2dcontour": [
           {
            "colorbar": {
             "outlinewidth": 0,
             "ticks": ""
            },
            "colorscale": [
             [
              0,
              "#0d0887"
             ],
             [
              0.1111111111111111,
              "#46039f"
             ],
             [
              0.2222222222222222,
              "#7201a8"
             ],
             [
              0.3333333333333333,
              "#9c179e"
             ],
             [
              0.4444444444444444,
              "#bd3786"
             ],
             [
              0.5555555555555556,
              "#d8576b"
             ],
             [
              0.6666666666666666,
              "#ed7953"
             ],
             [
              0.7777777777777778,
              "#fb9f3a"
             ],
             [
              0.8888888888888888,
              "#fdca26"
             ],
             [
              1,
              "#f0f921"
             ]
            ],
            "type": "histogram2dcontour"
           }
          ],
          "mesh3d": [
           {
            "colorbar": {
             "outlinewidth": 0,
             "ticks": ""
            },
            "type": "mesh3d"
           }
          ],
          "parcoords": [
           {
            "line": {
             "colorbar": {
              "outlinewidth": 0,
              "ticks": ""
             }
            },
            "type": "parcoords"
           }
          ],
          "pie": [
           {
            "automargin": true,
            "type": "pie"
           }
          ],
          "scatter": [
           {
            "marker": {
             "colorbar": {
              "outlinewidth": 0,
              "ticks": ""
             }
            },
            "type": "scatter"
           }
          ],
          "scatter3d": [
           {
            "line": {
             "colorbar": {
              "outlinewidth": 0,
              "ticks": ""
             }
            },
            "marker": {
             "colorbar": {
              "outlinewidth": 0,
              "ticks": ""
             }
            },
            "type": "scatter3d"
           }
          ],
          "scattercarpet": [
           {
            "marker": {
             "colorbar": {
              "outlinewidth": 0,
              "ticks": ""
             }
            },
            "type": "scattercarpet"
           }
          ],
          "scattergeo": [
           {
            "marker": {
             "colorbar": {
              "outlinewidth": 0,
              "ticks": ""
             }
            },
            "type": "scattergeo"
           }
          ],
          "scattergl": [
           {
            "marker": {
             "colorbar": {
              "outlinewidth": 0,
              "ticks": ""
             }
            },
            "type": "scattergl"
           }
          ],
          "scattermapbox": [
           {
            "marker": {
             "colorbar": {
              "outlinewidth": 0,
              "ticks": ""
             }
            },
            "type": "scattermapbox"
           }
          ],
          "scatterpolar": [
           {
            "marker": {
             "colorbar": {
              "outlinewidth": 0,
              "ticks": ""
             }
            },
            "type": "scatterpolar"
           }
          ],
          "scatterpolargl": [
           {
            "marker": {
             "colorbar": {
              "outlinewidth": 0,
              "ticks": ""
             }
            },
            "type": "scatterpolargl"
           }
          ],
          "scatterternary": [
           {
            "marker": {
             "colorbar": {
              "outlinewidth": 0,
              "ticks": ""
             }
            },
            "type": "scatterternary"
           }
          ],
          "surface": [
           {
            "colorbar": {
             "outlinewidth": 0,
             "ticks": ""
            },
            "colorscale": [
             [
              0,
              "#0d0887"
             ],
             [
              0.1111111111111111,
              "#46039f"
             ],
             [
              0.2222222222222222,
              "#7201a8"
             ],
             [
              0.3333333333333333,
              "#9c179e"
             ],
             [
              0.4444444444444444,
              "#bd3786"
             ],
             [
              0.5555555555555556,
              "#d8576b"
             ],
             [
              0.6666666666666666,
              "#ed7953"
             ],
             [
              0.7777777777777778,
              "#fb9f3a"
             ],
             [
              0.8888888888888888,
              "#fdca26"
             ],
             [
              1,
              "#f0f921"
             ]
            ],
            "type": "surface"
           }
          ],
          "table": [
           {
            "cells": {
             "fill": {
              "color": "#EBF0F8"
             },
             "line": {
              "color": "white"
             }
            },
            "header": {
             "fill": {
              "color": "#C8D4E3"
             },
             "line": {
              "color": "white"
             }
            },
            "type": "table"
           }
          ]
         },
         "layout": {
          "annotationdefaults": {
           "arrowcolor": "#2a3f5f",
           "arrowhead": 0,
           "arrowwidth": 1
          },
          "autotypenumbers": "strict",
          "coloraxis": {
           "colorbar": {
            "outlinewidth": 0,
            "ticks": ""
           }
          },
          "colorscale": {
           "diverging": [
            [
             0,
             "#8e0152"
            ],
            [
             0.1,
             "#c51b7d"
            ],
            [
             0.2,
             "#de77ae"
            ],
            [
             0.3,
             "#f1b6da"
            ],
            [
             0.4,
             "#fde0ef"
            ],
            [
             0.5,
             "#f7f7f7"
            ],
            [
             0.6,
             "#e6f5d0"
            ],
            [
             0.7,
             "#b8e186"
            ],
            [
             0.8,
             "#7fbc41"
            ],
            [
             0.9,
             "#4d9221"
            ],
            [
             1,
             "#276419"
            ]
           ],
           "sequential": [
            [
             0,
             "#0d0887"
            ],
            [
             0.1111111111111111,
             "#46039f"
            ],
            [
             0.2222222222222222,
             "#7201a8"
            ],
            [
             0.3333333333333333,
             "#9c179e"
            ],
            [
             0.4444444444444444,
             "#bd3786"
            ],
            [
             0.5555555555555556,
             "#d8576b"
            ],
            [
             0.6666666666666666,
             "#ed7953"
            ],
            [
             0.7777777777777778,
             "#fb9f3a"
            ],
            [
             0.8888888888888888,
             "#fdca26"
            ],
            [
             1,
             "#f0f921"
            ]
           ],
           "sequentialminus": [
            [
             0,
             "#0d0887"
            ],
            [
             0.1111111111111111,
             "#46039f"
            ],
            [
             0.2222222222222222,
             "#7201a8"
            ],
            [
             0.3333333333333333,
             "#9c179e"
            ],
            [
             0.4444444444444444,
             "#bd3786"
            ],
            [
             0.5555555555555556,
             "#d8576b"
            ],
            [
             0.6666666666666666,
             "#ed7953"
            ],
            [
             0.7777777777777778,
             "#fb9f3a"
            ],
            [
             0.8888888888888888,
             "#fdca26"
            ],
            [
             1,
             "#f0f921"
            ]
           ]
          },
          "colorway": [
           "#636efa",
           "#EF553B",
           "#00cc96",
           "#ab63fa",
           "#FFA15A",
           "#19d3f3",
           "#FF6692",
           "#B6E880",
           "#FF97FF",
           "#FECB52"
          ],
          "font": {
           "color": "#2a3f5f"
          },
          "geo": {
           "bgcolor": "white",
           "lakecolor": "white",
           "landcolor": "#E5ECF6",
           "showlakes": true,
           "showland": true,
           "subunitcolor": "white"
          },
          "hoverlabel": {
           "align": "left"
          },
          "hovermode": "closest",
          "mapbox": {
           "style": "light"
          },
          "paper_bgcolor": "white",
          "plot_bgcolor": "#E5ECF6",
          "polar": {
           "angularaxis": {
            "gridcolor": "white",
            "linecolor": "white",
            "ticks": ""
           },
           "bgcolor": "#E5ECF6",
           "radialaxis": {
            "gridcolor": "white",
            "linecolor": "white",
            "ticks": ""
           }
          },
          "scene": {
           "xaxis": {
            "backgroundcolor": "#E5ECF6",
            "gridcolor": "white",
            "gridwidth": 2,
            "linecolor": "white",
            "showbackground": true,
            "ticks": "",
            "zerolinecolor": "white"
           },
           "yaxis": {
            "backgroundcolor": "#E5ECF6",
            "gridcolor": "white",
            "gridwidth": 2,
            "linecolor": "white",
            "showbackground": true,
            "ticks": "",
            "zerolinecolor": "white"
           },
           "zaxis": {
            "backgroundcolor": "#E5ECF6",
            "gridcolor": "white",
            "gridwidth": 2,
            "linecolor": "white",
            "showbackground": true,
            "ticks": "",
            "zerolinecolor": "white"
           }
          },
          "shapedefaults": {
           "line": {
            "color": "#2a3f5f"
           }
          },
          "ternary": {
           "aaxis": {
            "gridcolor": "white",
            "linecolor": "white",
            "ticks": ""
           },
           "baxis": {
            "gridcolor": "white",
            "linecolor": "white",
            "ticks": ""
           },
           "bgcolor": "#E5ECF6",
           "caxis": {
            "gridcolor": "white",
            "linecolor": "white",
            "ticks": ""
           }
          },
          "title": {
           "x": 0.05
          },
          "xaxis": {
           "automargin": true,
           "gridcolor": "white",
           "linecolor": "white",
           "ticks": "",
           "title": {
            "standoff": 15
           },
           "zerolinecolor": "white",
           "zerolinewidth": 2
          },
          "yaxis": {
           "automargin": true,
           "gridcolor": "white",
           "linecolor": "white",
           "ticks": "",
           "title": {
            "standoff": 15
           },
           "zerolinecolor": "white",
           "zerolinewidth": 2
          }
         }
        }
       }
      },
      "text/html": [
       "<div>                            <div id=\"6c692e5a-e10c-498b-a9c0-aaa5f8749dd9\" class=\"plotly-graph-div\" style=\"height:525px; width:100%;\"></div>            <script type=\"text/javascript\">                require([\"plotly\"], function(Plotly) {                    window.PLOTLYENV=window.PLOTLYENV || {};                                    if (document.getElementById(\"6c692e5a-e10c-498b-a9c0-aaa5f8749dd9\")) {                    Plotly.newPlot(                        \"6c692e5a-e10c-498b-a9c0-aaa5f8749dd9\",                        [{\"branchvalues\":\"total\",\"customdata\":[[217.0,151.0],[258.125,158.4375],[122.5,111.0],[22.0,120.0],[163.30769230769232,109.07692307692308],[279.97727272727275,159.70454545454547],[101.0,100.0],[123.33333333333333,84.0],[80.125,97.375],[182.3939393939394,124.42424242424242],[111.66666666666667,77.33333333333333],[81.66666666666667,143.0],[205.58415841584159,137.85148514851485],[246.16666666666666,143.66666666666666],[62.333333333333336,96.0],[215.0,168.0],[83.33333333333333,134.0],[146.625,113.875],[212.7099567099567,144.53030303030303],[200.0841121495327,147.10280373831776],[118.57142857142857,132.71428571428572],[121.0,106.66666666666667],[177.53225806451613,135.36290322580646],[100.5,106.0],[124.0,137.66666666666666],[2.0,101.0],[229.89795918367346,135.12244897959184],[77.0,111.0],[106.25,140.75],[\"(?)\",155.03944315545243],[\"(?)\",109.0],[\"(?)\",140.6829268292683],[2.0,101.0],[\"(?)\",120.0],[\"(?)\",144.8325958702065]],\"domain\":{\"x\":[0.0,1.0],\"y\":[0.0,1.0]},\"hovertemplate\":\"labels=%{label}<br>class_counts=%{value}<br>parent=%{parent}<br>id=%{id}<br>overall_elo_firaks=%{customdata[0]}<br>overall_score_firaks=%{color}<extra></extra>\",\"ids\":[\"R1 Structures: Frequency and Overall Score for firaks/PI/-1_m / 0_ts / 2_lab / 1_pi / 0_ac1 / 0_ac2\",\"R1 Structures: Frequency and Overall Score for firaks/PI/-1_m / 1_ts / 1_lab / 1_pi / 0_ac1 / 0_ac2\",\"R1 Structures: Frequency and Overall Score for firaks/lab/0_m / 0_ts / 2_lab / 0_pi / 0_ac1 / 0_ac2\",\"R1 Structures: Frequency and Overall Score for firaks/PI/0_m / 1_ts / 0_lab / 1_pi / 0_ac1 / 0_ac2\",\"R1 Structures: Frequency and Overall Score for firaks/lab/0_m / 1_ts / 1_lab / 0_pi / 0_ac1 / 0_ac2\",\"R1 Structures: Frequency and Overall Score for firaks/PI/0_m / 1_ts / 1_lab / 1_pi / 0_ac1 / 0_ac2\",\"R1 Structures: Frequency and Overall Score for firaks/lab/0_m / 2_ts / 1_lab / 0_pi / 0_ac1 / 0_ac2\",\"R1 Structures: Frequency and Overall Score for firaks/ac1/1_m / 0_ts / 0_lab / 0_pi / 1_ac1 / 0_ac2\",\"R1 Structures: Frequency and Overall Score for firaks/PI/1_m / 0_ts / 0_lab / 1_pi / 0_ac1 / 0_ac2\",\"R1 Structures: Frequency and Overall Score for firaks/lab/1_m / 0_ts / 1_lab / 0_pi / 0_ac1 / 0_ac2\",\"R1 Structures: Frequency and Overall Score for firaks/lab/1_m / 0_ts / 2_lab / 0_pi / 0_ac1 / 0_ac2\",\"R1 Structures: Frequency and Overall Score for firaks/PI/1_m / 1_ts / 0_lab / 1_pi / 0_ac1 / 0_ac2\",\"R1 Structures: Frequency and Overall Score for firaks/lab/1_m / 1_ts / 1_lab / 0_pi / 0_ac1 / 0_ac2\",\"R1 Structures: Frequency and Overall Score for firaks/PI/1_m / 1_ts / 1_lab / 1_pi / 0_ac1 / 0_ac2\",\"R1 Structures: Frequency and Overall Score for firaks/ts/1_m / 2_ts / 0_lab / 0_pi / 0_ac1 / 0_ac2\",\"R1 Structures: Frequency and Overall Score for firaks/ts/1_m / 3_ts / 0_lab / 0_pi / 0_ac1 / 0_ac2\",\"R1 Structures: Frequency and Overall Score for firaks/ac1/2_m / 0_ts / 0_lab / 0_pi / 1_ac1 / 0_ac2\",\"R1 Structures: Frequency and Overall Score for firaks/PI/2_m / 0_ts / 0_lab / 1_pi / 0_ac1 / 0_ac2\",\"R1 Structures: Frequency and Overall Score for firaks/lab/2_m / 0_ts / 1_lab / 0_pi / 0_ac1 / 0_ac2\",\"R1 Structures: Frequency and Overall Score for firaks/lab/2_m / 1_ts / 1_lab / 0_pi / 0_ac1 / 0_ac2\",\"R1 Structures: Frequency and Overall Score for firaks/ts/2_m / 2_ts / 0_lab / 0_pi / 0_ac1 / 0_ac2\",\"R1 Structures: Frequency and Overall Score for firaks/PI/3_m / 0_ts / 0_lab / 1_pi / 0_ac1 / 0_ac2\",\"R1 Structures: Frequency and Overall Score for firaks/lab/3_m / 0_ts / 1_lab / 0_pi / 0_ac1 / 0_ac2\",\"R1 Structures: Frequency and Overall Score for firaks/ts/3_m / 1_ts / 0_lab / 0_pi / 0_ac1 / 0_ac2\",\"R1 Structures: Frequency and Overall Score for firaks/lab/3_m / 1_ts / 1_lab / 0_pi / 0_ac1 / 0_ac2\",\"R1 Structures: Frequency and Overall Score for firaks/m/4_m / 0_ts / 0_lab / 0_pi / 0_ac1 / 0_ac2\",\"R1 Structures: Frequency and Overall Score for firaks/lab/4_m / 0_ts / 1_lab / 0_pi / 0_ac1 / 0_ac2\",\"R1 Structures: Frequency and Overall Score for firaks/ts/4_m / 1_ts / 0_lab / 0_pi / 0_ac1 / 0_ac2\",\"R1 Structures: Frequency and Overall Score for firaks/lab/5_m / 0_ts / 1_lab / 0_pi / 0_ac1 / 0_ac2\",\"R1 Structures: Frequency and Overall Score for firaks/PI\",\"R1 Structures: Frequency and Overall Score for firaks/ac1\",\"R1 Structures: Frequency and Overall Score for firaks/lab\",\"R1 Structures: Frequency and Overall Score for firaks/m\",\"R1 Structures: Frequency and Overall Score for firaks/ts\",\"R1 Structures: Frequency and Overall Score for firaks\"],\"labels\":[\"-1_m / 0_ts / 2_lab / 1_pi / 0_ac1 / 0_ac2\",\"-1_m / 1_ts / 1_lab / 1_pi / 0_ac1 / 0_ac2\",\"0_m / 0_ts / 2_lab / 0_pi / 0_ac1 / 0_ac2\",\"0_m / 1_ts / 0_lab / 1_pi / 0_ac1 / 0_ac2\",\"0_m / 1_ts / 1_lab / 0_pi / 0_ac1 / 0_ac2\",\"0_m / 1_ts / 1_lab / 1_pi / 0_ac1 / 0_ac2\",\"0_m / 2_ts / 1_lab / 0_pi / 0_ac1 / 0_ac2\",\"1_m / 0_ts / 0_lab / 0_pi / 1_ac1 / 0_ac2\",\"1_m / 0_ts / 0_lab / 1_pi / 0_ac1 / 0_ac2\",\"1_m / 0_ts / 1_lab / 0_pi / 0_ac1 / 0_ac2\",\"1_m / 0_ts / 2_lab / 0_pi / 0_ac1 / 0_ac2\",\"1_m / 1_ts / 0_lab / 1_pi / 0_ac1 / 0_ac2\",\"1_m / 1_ts / 1_lab / 0_pi / 0_ac1 / 0_ac2\",\"1_m / 1_ts / 1_lab / 1_pi / 0_ac1 / 0_ac2\",\"1_m / 2_ts / 0_lab / 0_pi / 0_ac1 / 0_ac2\",\"1_m / 3_ts / 0_lab / 0_pi / 0_ac1 / 0_ac2\",\"2_m / 0_ts / 0_lab / 0_pi / 1_ac1 / 0_ac2\",\"2_m / 0_ts / 0_lab / 1_pi / 0_ac1 / 0_ac2\",\"2_m / 0_ts / 1_lab / 0_pi / 0_ac1 / 0_ac2\",\"2_m / 1_ts / 1_lab / 0_pi / 0_ac1 / 0_ac2\",\"2_m / 2_ts / 0_lab / 0_pi / 0_ac1 / 0_ac2\",\"3_m / 0_ts / 0_lab / 1_pi / 0_ac1 / 0_ac2\",\"3_m / 0_ts / 1_lab / 0_pi / 0_ac1 / 0_ac2\",\"3_m / 1_ts / 0_lab / 0_pi / 0_ac1 / 0_ac2\",\"3_m / 1_ts / 1_lab / 0_pi / 0_ac1 / 0_ac2\",\"4_m / 0_ts / 0_lab / 0_pi / 0_ac1 / 0_ac2\",\"4_m / 0_ts / 1_lab / 0_pi / 0_ac1 / 0_ac2\",\"4_m / 1_ts / 0_lab / 0_pi / 0_ac1 / 0_ac2\",\"5_m / 0_ts / 1_lab / 0_pi / 0_ac1 / 0_ac2\",\"PI\",\"ac1\",\"lab\",\"m\",\"ts\",\"R1 Structures: Frequency and Overall Score for firaks\"],\"marker\":{\"coloraxis\":\"coloraxis\",\"colors\":[151.0,158.4375,111.0,120.0,109.07692307692308,159.70454545454547,100.0,84.0,97.375,124.42424242424242,77.33333333333333,143.0,137.85148514851485,143.66666666666666,96.0,168.0,134.0,113.875,144.53030303030303,147.10280373831776,132.71428571428572,106.66666666666667,135.36290322580646,106.0,137.66666666666666,101.0,135.12244897959184,111.0,140.75,155.03944315545243,109.0,140.6829268292683,101.0,120.0,144.8325958702065]},\"name\":\"\",\"parents\":[\"R1 Structures: Frequency and Overall Score for firaks/PI\",\"R1 Structures: Frequency and Overall Score for firaks/PI\",\"R1 Structures: Frequency and Overall Score for firaks/lab\",\"R1 Structures: Frequency and Overall Score for firaks/PI\",\"R1 Structures: Frequency and Overall Score for firaks/lab\",\"R1 Structures: Frequency and Overall Score for firaks/PI\",\"R1 Structures: Frequency and Overall Score for firaks/lab\",\"R1 Structures: Frequency and Overall Score for firaks/ac1\",\"R1 Structures: Frequency and Overall Score for firaks/PI\",\"R1 Structures: Frequency and Overall Score for firaks/lab\",\"R1 Structures: Frequency and Overall Score for firaks/lab\",\"R1 Structures: Frequency and Overall Score for firaks/PI\",\"R1 Structures: Frequency and Overall Score for firaks/lab\",\"R1 Structures: Frequency and Overall Score for firaks/PI\",\"R1 Structures: Frequency and Overall Score for firaks/ts\",\"R1 Structures: Frequency and Overall Score for firaks/ts\",\"R1 Structures: Frequency and Overall Score for firaks/ac1\",\"R1 Structures: Frequency and Overall Score for firaks/PI\",\"R1 Structures: Frequency and Overall Score for firaks/lab\",\"R1 Structures: Frequency and Overall Score for firaks/lab\",\"R1 Structures: Frequency and Overall Score for firaks/ts\",\"R1 Structures: Frequency and Overall Score for firaks/PI\",\"R1 Structures: Frequency and Overall Score for firaks/lab\",\"R1 Structures: Frequency and Overall Score for firaks/ts\",\"R1 Structures: Frequency and Overall Score for firaks/lab\",\"R1 Structures: Frequency and Overall Score for firaks/m\",\"R1 Structures: Frequency and Overall Score for firaks/lab\",\"R1 Structures: Frequency and Overall Score for firaks/ts\",\"R1 Structures: Frequency and Overall Score for firaks/lab\",\"R1 Structures: Frequency and Overall Score for firaks\",\"R1 Structures: Frequency and Overall Score for firaks\",\"R1 Structures: Frequency and Overall Score for firaks\",\"R1 Structures: Frequency and Overall Score for firaks\",\"R1 Structures: Frequency and Overall Score for firaks\",\"\"],\"values\":[1,304,2,2,13,88,1,3,8,33,3,3,101,6,3,1,3,16,462,107,7,3,124,4,3,1,49,1,4,431,6,902,1,16,1356],\"type\":\"treemap\"}],                        {\"template\":{\"data\":{\"bar\":[{\"error_x\":{\"color\":\"#2a3f5f\"},\"error_y\":{\"color\":\"#2a3f5f\"},\"marker\":{\"line\":{\"color\":\"#E5ECF6\",\"width\":0.5},\"pattern\":{\"fillmode\":\"overlay\",\"size\":10,\"solidity\":0.2}},\"type\":\"bar\"}],\"barpolar\":[{\"marker\":{\"line\":{\"color\":\"#E5ECF6\",\"width\":0.5},\"pattern\":{\"fillmode\":\"overlay\",\"size\":10,\"solidity\":0.2}},\"type\":\"barpolar\"}],\"carpet\":[{\"aaxis\":{\"endlinecolor\":\"#2a3f5f\",\"gridcolor\":\"white\",\"linecolor\":\"white\",\"minorgridcolor\":\"white\",\"startlinecolor\":\"#2a3f5f\"},\"baxis\":{\"endlinecolor\":\"#2a3f5f\",\"gridcolor\":\"white\",\"linecolor\":\"white\",\"minorgridcolor\":\"white\",\"startlinecolor\":\"#2a3f5f\"},\"type\":\"carpet\"}],\"choropleth\":[{\"colorbar\":{\"outlinewidth\":0,\"ticks\":\"\"},\"type\":\"choropleth\"}],\"contour\":[{\"colorbar\":{\"outlinewidth\":0,\"ticks\":\"\"},\"colorscale\":[[0.0,\"#0d0887\"],[0.1111111111111111,\"#46039f\"],[0.2222222222222222,\"#7201a8\"],[0.3333333333333333,\"#9c179e\"],[0.4444444444444444,\"#bd3786\"],[0.5555555555555556,\"#d8576b\"],[0.6666666666666666,\"#ed7953\"],[0.7777777777777778,\"#fb9f3a\"],[0.8888888888888888,\"#fdca26\"],[1.0,\"#f0f921\"]],\"type\":\"contour\"}],\"contourcarpet\":[{\"colorbar\":{\"outlinewidth\":0,\"ticks\":\"\"},\"type\":\"contourcarpet\"}],\"heatmap\":[{\"colorbar\":{\"outlinewidth\":0,\"ticks\":\"\"},\"colorscale\":[[0.0,\"#0d0887\"],[0.1111111111111111,\"#46039f\"],[0.2222222222222222,\"#7201a8\"],[0.3333333333333333,\"#9c179e\"],[0.4444444444444444,\"#bd3786\"],[0.5555555555555556,\"#d8576b\"],[0.6666666666666666,\"#ed7953\"],[0.7777777777777778,\"#fb9f3a\"],[0.8888888888888888,\"#fdca26\"],[1.0,\"#f0f921\"]],\"type\":\"heatmap\"}],\"heatmapgl\":[{\"colorbar\":{\"outlinewidth\":0,\"ticks\":\"\"},\"colorscale\":[[0.0,\"#0d0887\"],[0.1111111111111111,\"#46039f\"],[0.2222222222222222,\"#7201a8\"],[0.3333333333333333,\"#9c179e\"],[0.4444444444444444,\"#bd3786\"],[0.5555555555555556,\"#d8576b\"],[0.6666666666666666,\"#ed7953\"],[0.7777777777777778,\"#fb9f3a\"],[0.8888888888888888,\"#fdca26\"],[1.0,\"#f0f921\"]],\"type\":\"heatmapgl\"}],\"histogram\":[{\"marker\":{\"pattern\":{\"fillmode\":\"overlay\",\"size\":10,\"solidity\":0.2}},\"type\":\"histogram\"}],\"histogram2d\":[{\"colorbar\":{\"outlinewidth\":0,\"ticks\":\"\"},\"colorscale\":[[0.0,\"#0d0887\"],[0.1111111111111111,\"#46039f\"],[0.2222222222222222,\"#7201a8\"],[0.3333333333333333,\"#9c179e\"],[0.4444444444444444,\"#bd3786\"],[0.5555555555555556,\"#d8576b\"],[0.6666666666666666,\"#ed7953\"],[0.7777777777777778,\"#fb9f3a\"],[0.8888888888888888,\"#fdca26\"],[1.0,\"#f0f921\"]],\"type\":\"histogram2d\"}],\"histogram2dcontour\":[{\"colorbar\":{\"outlinewidth\":0,\"ticks\":\"\"},\"colorscale\":[[0.0,\"#0d0887\"],[0.1111111111111111,\"#46039f\"],[0.2222222222222222,\"#7201a8\"],[0.3333333333333333,\"#9c179e\"],[0.4444444444444444,\"#bd3786\"],[0.5555555555555556,\"#d8576b\"],[0.6666666666666666,\"#ed7953\"],[0.7777777777777778,\"#fb9f3a\"],[0.8888888888888888,\"#fdca26\"],[1.0,\"#f0f921\"]],\"type\":\"histogram2dcontour\"}],\"mesh3d\":[{\"colorbar\":{\"outlinewidth\":0,\"ticks\":\"\"},\"type\":\"mesh3d\"}],\"parcoords\":[{\"line\":{\"colorbar\":{\"outlinewidth\":0,\"ticks\":\"\"}},\"type\":\"parcoords\"}],\"pie\":[{\"automargin\":true,\"type\":\"pie\"}],\"scatter\":[{\"marker\":{\"colorbar\":{\"outlinewidth\":0,\"ticks\":\"\"}},\"type\":\"scatter\"}],\"scatter3d\":[{\"line\":{\"colorbar\":{\"outlinewidth\":0,\"ticks\":\"\"}},\"marker\":{\"colorbar\":{\"outlinewidth\":0,\"ticks\":\"\"}},\"type\":\"scatter3d\"}],\"scattercarpet\":[{\"marker\":{\"colorbar\":{\"outlinewidth\":0,\"ticks\":\"\"}},\"type\":\"scattercarpet\"}],\"scattergeo\":[{\"marker\":{\"colorbar\":{\"outlinewidth\":0,\"ticks\":\"\"}},\"type\":\"scattergeo\"}],\"scattergl\":[{\"marker\":{\"colorbar\":{\"outlinewidth\":0,\"ticks\":\"\"}},\"type\":\"scattergl\"}],\"scattermapbox\":[{\"marker\":{\"colorbar\":{\"outlinewidth\":0,\"ticks\":\"\"}},\"type\":\"scattermapbox\"}],\"scatterpolar\":[{\"marker\":{\"colorbar\":{\"outlinewidth\":0,\"ticks\":\"\"}},\"type\":\"scatterpolar\"}],\"scatterpolargl\":[{\"marker\":{\"colorbar\":{\"outlinewidth\":0,\"ticks\":\"\"}},\"type\":\"scatterpolargl\"}],\"scatterternary\":[{\"marker\":{\"colorbar\":{\"outlinewidth\":0,\"ticks\":\"\"}},\"type\":\"scatterternary\"}],\"surface\":[{\"colorbar\":{\"outlinewidth\":0,\"ticks\":\"\"},\"colorscale\":[[0.0,\"#0d0887\"],[0.1111111111111111,\"#46039f\"],[0.2222222222222222,\"#7201a8\"],[0.3333333333333333,\"#9c179e\"],[0.4444444444444444,\"#bd3786\"],[0.5555555555555556,\"#d8576b\"],[0.6666666666666666,\"#ed7953\"],[0.7777777777777778,\"#fb9f3a\"],[0.8888888888888888,\"#fdca26\"],[1.0,\"#f0f921\"]],\"type\":\"surface\"}],\"table\":[{\"cells\":{\"fill\":{\"color\":\"#EBF0F8\"},\"line\":{\"color\":\"white\"}},\"header\":{\"fill\":{\"color\":\"#C8D4E3\"},\"line\":{\"color\":\"white\"}},\"type\":\"table\"}]},\"layout\":{\"annotationdefaults\":{\"arrowcolor\":\"#2a3f5f\",\"arrowhead\":0,\"arrowwidth\":1},\"autotypenumbers\":\"strict\",\"coloraxis\":{\"colorbar\":{\"outlinewidth\":0,\"ticks\":\"\"}},\"colorscale\":{\"diverging\":[[0,\"#8e0152\"],[0.1,\"#c51b7d\"],[0.2,\"#de77ae\"],[0.3,\"#f1b6da\"],[0.4,\"#fde0ef\"],[0.5,\"#f7f7f7\"],[0.6,\"#e6f5d0\"],[0.7,\"#b8e186\"],[0.8,\"#7fbc41\"],[0.9,\"#4d9221\"],[1,\"#276419\"]],\"sequential\":[[0.0,\"#0d0887\"],[0.1111111111111111,\"#46039f\"],[0.2222222222222222,\"#7201a8\"],[0.3333333333333333,\"#9c179e\"],[0.4444444444444444,\"#bd3786\"],[0.5555555555555556,\"#d8576b\"],[0.6666666666666666,\"#ed7953\"],[0.7777777777777778,\"#fb9f3a\"],[0.8888888888888888,\"#fdca26\"],[1.0,\"#f0f921\"]],\"sequentialminus\":[[0.0,\"#0d0887\"],[0.1111111111111111,\"#46039f\"],[0.2222222222222222,\"#7201a8\"],[0.3333333333333333,\"#9c179e\"],[0.4444444444444444,\"#bd3786\"],[0.5555555555555556,\"#d8576b\"],[0.6666666666666666,\"#ed7953\"],[0.7777777777777778,\"#fb9f3a\"],[0.8888888888888888,\"#fdca26\"],[1.0,\"#f0f921\"]]},\"colorway\":[\"#636efa\",\"#EF553B\",\"#00cc96\",\"#ab63fa\",\"#FFA15A\",\"#19d3f3\",\"#FF6692\",\"#B6E880\",\"#FF97FF\",\"#FECB52\"],\"font\":{\"color\":\"#2a3f5f\"},\"geo\":{\"bgcolor\":\"white\",\"lakecolor\":\"white\",\"landcolor\":\"#E5ECF6\",\"showlakes\":true,\"showland\":true,\"subunitcolor\":\"white\"},\"hoverlabel\":{\"align\":\"left\"},\"hovermode\":\"closest\",\"mapbox\":{\"style\":\"light\"},\"paper_bgcolor\":\"white\",\"plot_bgcolor\":\"#E5ECF6\",\"polar\":{\"angularaxis\":{\"gridcolor\":\"white\",\"linecolor\":\"white\",\"ticks\":\"\"},\"bgcolor\":\"#E5ECF6\",\"radialaxis\":{\"gridcolor\":\"white\",\"linecolor\":\"white\",\"ticks\":\"\"}},\"scene\":{\"xaxis\":{\"backgroundcolor\":\"#E5ECF6\",\"gridcolor\":\"white\",\"gridwidth\":2,\"linecolor\":\"white\",\"showbackground\":true,\"ticks\":\"\",\"zerolinecolor\":\"white\"},\"yaxis\":{\"backgroundcolor\":\"#E5ECF6\",\"gridcolor\":\"white\",\"gridwidth\":2,\"linecolor\":\"white\",\"showbackground\":true,\"ticks\":\"\",\"zerolinecolor\":\"white\"},\"zaxis\":{\"backgroundcolor\":\"#E5ECF6\",\"gridcolor\":\"white\",\"gridwidth\":2,\"linecolor\":\"white\",\"showbackground\":true,\"ticks\":\"\",\"zerolinecolor\":\"white\"}},\"shapedefaults\":{\"line\":{\"color\":\"#2a3f5f\"}},\"ternary\":{\"aaxis\":{\"gridcolor\":\"white\",\"linecolor\":\"white\",\"ticks\":\"\"},\"baxis\":{\"gridcolor\":\"white\",\"linecolor\":\"white\",\"ticks\":\"\"},\"bgcolor\":\"#E5ECF6\",\"caxis\":{\"gridcolor\":\"white\",\"linecolor\":\"white\",\"ticks\":\"\"}},\"title\":{\"x\":0.05},\"xaxis\":{\"automargin\":true,\"gridcolor\":\"white\",\"linecolor\":\"white\",\"ticks\":\"\",\"title\":{\"standoff\":15},\"zerolinecolor\":\"white\",\"zerolinewidth\":2},\"yaxis\":{\"automargin\":true,\"gridcolor\":\"white\",\"linecolor\":\"white\",\"ticks\":\"\",\"title\":{\"standoff\":15},\"zerolinecolor\":\"white\",\"zerolinewidth\":2}}},\"coloraxis\":{\"colorbar\":{\"title\":{\"text\":\"overall_score_firaks\"}},\"colorscale\":[[0.0,\"rgb(103,0,31)\"],[0.1,\"rgb(178,24,43)\"],[0.2,\"rgb(214,96,77)\"],[0.3,\"rgb(244,165,130)\"],[0.4,\"rgb(253,219,199)\"],[0.5,\"rgb(247,247,247)\"],[0.6,\"rgb(209,229,240)\"],[0.7,\"rgb(146,197,222)\"],[0.8,\"rgb(67,147,195)\"],[0.9,\"rgb(33,102,172)\"],[1.0,\"rgb(5,48,97)\"]],\"cmid\":132.71428571428572},\"legend\":{\"tracegroupgap\":0},\"margin\":{\"t\":50,\"l\":25,\"r\":25,\"b\":25}},                        {\"responsive\": true}                    ).then(function(){\n",
       "                            \n",
       "var gd = document.getElementById('6c692e5a-e10c-498b-a9c0-aaa5f8749dd9');\n",
       "var x = new MutationObserver(function (mutations, observer) {{\n",
       "        var display = window.getComputedStyle(gd).display;\n",
       "        if (!display || display === 'none') {{\n",
       "            console.log([gd, 'removed!']);\n",
       "            Plotly.purge(gd);\n",
       "            observer.disconnect();\n",
       "        }}\n",
       "}});\n",
       "\n",
       "// Listen for the removal of the full notebook cells\n",
       "var notebookContainer = gd.closest('#notebook-container');\n",
       "if (notebookContainer) {{\n",
       "    x.observe(notebookContainer, {childList: true});\n",
       "}}\n",
       "\n",
       "// Listen for the clearing of the current output cell\n",
       "var outputEl = gd.closest('.output');\n",
       "if (outputEl) {{\n",
       "    x.observe(outputEl, {childList: true});\n",
       "}}\n",
       "\n",
       "                        })                };                });            </script>        </div>"
      ]
     },
     "metadata": {},
     "output_type": "display_data"
    },
    {
     "data": {
      "application/vnd.plotly.v1+json": {
       "config": {
        "plotlyServerURL": "https://plot.ly"
       },
       "data": [
        {
         "branchvalues": "total",
         "customdata": [
          [
           143,
           104
          ],
          [
           181.71052631578948,
           143.3421052631579
          ],
          [
           156.2,
           103.6
          ],
          [
           110.5,
           107.5
          ],
          [
           171.25,
           117.89285714285714
          ],
          [
           234.19230769230768,
           143.07692307692307
          ],
          [
           133,
           121.66666666666667
          ],
          [
           192.12820512820514,
           129.69230769230768
          ],
          [
           31,
           115
          ],
          [
           182.51162790697674,
           134.74418604651163
          ],
          [
           68,
           117.33333333333333
          ],
          [
           140,
           124
          ],
          [
           96.6,
           107.8
          ],
          [
           212.15116279069767,
           137.87790697674419
          ],
          [
           229,
           102.5
          ],
          [
           128.42857142857142,
           126.71428571428571
          ],
          [
           223.3846153846154,
           138.55128205128204
          ],
          [
           48,
           114
          ],
          [
           177.5701754385965,
           137.2017543859649
          ],
          [
           121,
           164
          ],
          [
           190.82285714285715,
           133.05142857142857
          ],
          [
           79,
           108
          ],
          [
           118,
           119.66666666666667
          ],
          [
           65.875,
           104.125
          ],
          [
           154.6,
           150.4
          ],
          [
           234.5075376884422,
           144.96984924623115
          ],
          [
           215,
           124
          ],
          [
           136.5,
           101.5
          ],
          [
           170,
           141
          ],
          [
           98.33333333333333,
           116.66666666666667
          ],
          [
           256,
           148.27058823529413
          ],
          [
           217,
           199
          ],
          [
           214.57142857142858,
           174.14285714285714
          ],
          [
           204,
           202
          ],
          [
           "(?)",
           107.33333333333333
          ],
          [
           "(?)",
           134.1627906976744
          ],
          [
           "(?)",
           120.78571428571429
          ],
          [
           "(?)",
           138.32985386221296
          ],
          [
           "(?)",
           128.5
          ],
          [
           "(?)",
           117.73684210526316
          ],
          [
           "(?)",
           136.93397887323943
          ]
         ],
         "domain": {
          "x": [
           0,
           1
          ],
          "y": [
           0,
           1
          ]
         },
         "hovertemplate": "labels=%{label}<br>class_counts=%{value}<br>parent=%{parent}<br>id=%{id}<br>overall_elo_bescods=%{customdata[0]}<br>overall_score_bescods=%{color}<extra></extra>",
         "ids": [
          "R1 Structures: Frequency and Overall Score for bescods/PI/0_m / 0_ts / 1_lab / 1_pi / 0_ac1 / 0_ac2",
          "R1 Structures: Frequency and Overall Score for bescods/lab/0_m / 0_ts / 2_lab / 0_pi / 0_ac1 / 0_ac2",
          "R1 Structures: Frequency and Overall Score for bescods/lab/0_m / 1_ts / 1_lab / 0_pi / 0_ac1 / 0_ac2",
          "R1 Structures: Frequency and Overall Score for bescods/PI/1_m / -1_ts / 1_lab / 1_pi / 0_ac1 / 0_ac2",
          "R1 Structures: Frequency and Overall Score for bescods/lab/1_m / 0_ts / 1_lab / 0_pi / 0_ac1 / 0_ac2",
          "R1 Structures: Frequency and Overall Score for bescods/lab/1_m / 0_ts / 2_lab / 0_pi / 0_ac1 / 0_ac2",
          "R1 Structures: Frequency and Overall Score for bescods/ac2/1_m / 1_ts / -1_lab / 0_pi / 0_ac1 / 1_ac2",
          "R1 Structures: Frequency and Overall Score for bescods/ac1/1_m / 1_ts / -1_lab / 0_pi / 1_ac1 / 0_ac2",
          "R1 Structures: Frequency and Overall Score for bescods/ac2/1_m / 1_ts / 0_lab / 0_pi / 0_ac1 / 1_ac2",
          "R1 Structures: Frequency and Overall Score for bescods/lab/1_m / 1_ts / 1_lab / 0_pi / 0_ac1 / 0_ac2",
          "R1 Structures: Frequency and Overall Score for bescods/ac1/1_m / 2_ts / -1_lab / 0_pi / 1_ac1 / 0_ac2",
          "R1 Structures: Frequency and Overall Score for bescods/lab/1_m / 2_ts / 1_lab / 0_pi / 0_ac1 / 0_ac2",
          "R1 Structures: Frequency and Overall Score for bescods/PI/2_m / -1_ts / 1_lab / 1_pi / 0_ac1 / 0_ac2",
          "R1 Structures: Frequency and Overall Score for bescods/lab/2_m / 0_ts / 1_lab / 0_pi / 0_ac1 / 0_ac2",
          "R1 Structures: Frequency and Overall Score for bescods/lab/2_m / 0_ts / 2_lab / 0_pi / 0_ac1 / 0_ac2",
          "R1 Structures: Frequency and Overall Score for bescods/ac2/2_m / 1_ts / -1_lab / 0_pi / 0_ac1 / 1_ac2",
          "R1 Structures: Frequency and Overall Score for bescods/ac1/2_m / 1_ts / -1_lab / 0_pi / 1_ac1 / 0_ac2",
          "R1 Structures: Frequency and Overall Score for bescods/ts/2_m / 1_ts / 0_lab / 0_pi / 0_ac1 / 0_ac2",
          "R1 Structures: Frequency and Overall Score for bescods/lab/2_m / 1_ts / 1_lab / 0_pi / 0_ac1 / 0_ac2",
          "R1 Structures: Frequency and Overall Score for bescods/m/3_m / 0_ts / 0_lab / 0_pi / 0_ac1 / 0_ac2",
          "R1 Structures: Frequency and Overall Score for bescods/lab/3_m / 0_ts / 1_lab / 0_pi / 0_ac1 / 0_ac2",
          "R1 Structures: Frequency and Overall Score for bescods/ac2/3_m / 1_ts / -1_lab / 0_pi / 0_ac1 / 1_ac2",
          "R1 Structures: Frequency and Overall Score for bescods/ac1/3_m / 1_ts / -1_lab / 0_pi / 1_ac1 / 0_ac2",
          "R1 Structures: Frequency and Overall Score for bescods/ts/3_m / 1_ts / 0_lab / 0_pi / 0_ac1 / 0_ac2",
          "R1 Structures: Frequency and Overall Score for bescods/lab/3_m / 1_ts / 1_lab / 0_pi / 0_ac1 / 0_ac2",
          "R1 Structures: Frequency and Overall Score for bescods/lab/4_m / 0_ts / 1_lab / 0_pi / 0_ac1 / 0_ac2",
          "R1 Structures: Frequency and Overall Score for bescods/ac1/4_m / 1_ts / -1_lab / 0_pi / 1_ac1 / 0_ac2",
          "R1 Structures: Frequency and Overall Score for bescods/ts/4_m / 1_ts / 0_lab / 0_pi / 0_ac1 / 0_ac2",
          "R1 Structures: Frequency and Overall Score for bescods/ts/4_m / 2_ts / 0_lab / 0_pi / 0_ac1 / 0_ac2",
          "R1 Structures: Frequency and Overall Score for bescods/m/5_m / 0_ts / 0_lab / 0_pi / 0_ac1 / 0_ac2",
          "R1 Structures: Frequency and Overall Score for bescods/lab/5_m / 0_ts / 1_lab / 0_pi / 0_ac1 / 0_ac2",
          "R1 Structures: Frequency and Overall Score for bescods/ts/5_m / 1_ts / 0_lab / 0_pi / 0_ac1 / 0_ac2",
          "R1 Structures: Frequency and Overall Score for bescods/lab/6_m / 0_ts / 1_lab / 0_pi / 0_ac1 / 0_ac2",
          "R1 Structures: Frequency and Overall Score for bescods/ts/6_m / 1_ts / 0_lab / 0_pi / 0_ac1 / 0_ac2",
          "R1 Structures: Frequency and Overall Score for bescods/PI",
          "R1 Structures: Frequency and Overall Score for bescods/ac1",
          "R1 Structures: Frequency and Overall Score for bescods/ac2",
          "R1 Structures: Frequency and Overall Score for bescods/lab",
          "R1 Structures: Frequency and Overall Score for bescods/m",
          "R1 Structures: Frequency and Overall Score for bescods/ts",
          "R1 Structures: Frequency and Overall Score for bescods"
         ],
         "labels": [
          "0_m / 0_ts / 1_lab / 1_pi / 0_ac1 / 0_ac2",
          "0_m / 0_ts / 2_lab / 0_pi / 0_ac1 / 0_ac2",
          "0_m / 1_ts / 1_lab / 0_pi / 0_ac1 / 0_ac2",
          "1_m / -1_ts / 1_lab / 1_pi / 0_ac1 / 0_ac2",
          "1_m / 0_ts / 1_lab / 0_pi / 0_ac1 / 0_ac2",
          "1_m / 0_ts / 2_lab / 0_pi / 0_ac1 / 0_ac2",
          "1_m / 1_ts / -1_lab / 0_pi / 0_ac1 / 1_ac2",
          "1_m / 1_ts / -1_lab / 0_pi / 1_ac1 / 0_ac2",
          "1_m / 1_ts / 0_lab / 0_pi / 0_ac1 / 1_ac2",
          "1_m / 1_ts / 1_lab / 0_pi / 0_ac1 / 0_ac2",
          "1_m / 2_ts / -1_lab / 0_pi / 1_ac1 / 0_ac2",
          "1_m / 2_ts / 1_lab / 0_pi / 0_ac1 / 0_ac2",
          "2_m / -1_ts / 1_lab / 1_pi / 0_ac1 / 0_ac2",
          "2_m / 0_ts / 1_lab / 0_pi / 0_ac1 / 0_ac2",
          "2_m / 0_ts / 2_lab / 0_pi / 0_ac1 / 0_ac2",
          "2_m / 1_ts / -1_lab / 0_pi / 0_ac1 / 1_ac2",
          "2_m / 1_ts / -1_lab / 0_pi / 1_ac1 / 0_ac2",
          "2_m / 1_ts / 0_lab / 0_pi / 0_ac1 / 0_ac2",
          "2_m / 1_ts / 1_lab / 0_pi / 0_ac1 / 0_ac2",
          "3_m / 0_ts / 0_lab / 0_pi / 0_ac1 / 0_ac2",
          "3_m / 0_ts / 1_lab / 0_pi / 0_ac1 / 0_ac2",
          "3_m / 1_ts / -1_lab / 0_pi / 0_ac1 / 1_ac2",
          "3_m / 1_ts / -1_lab / 0_pi / 1_ac1 / 0_ac2",
          "3_m / 1_ts / 0_lab / 0_pi / 0_ac1 / 0_ac2",
          "3_m / 1_ts / 1_lab / 0_pi / 0_ac1 / 0_ac2",
          "4_m / 0_ts / 1_lab / 0_pi / 0_ac1 / 0_ac2",
          "4_m / 1_ts / -1_lab / 0_pi / 1_ac1 / 0_ac2",
          "4_m / 1_ts / 0_lab / 0_pi / 0_ac1 / 0_ac2",
          "4_m / 2_ts / 0_lab / 0_pi / 0_ac1 / 0_ac2",
          "5_m / 0_ts / 0_lab / 0_pi / 0_ac1 / 0_ac2",
          "5_m / 0_ts / 1_lab / 0_pi / 0_ac1 / 0_ac2",
          "5_m / 1_ts / 0_lab / 0_pi / 0_ac1 / 0_ac2",
          "6_m / 0_ts / 1_lab / 0_pi / 0_ac1 / 0_ac2",
          "6_m / 1_ts / 0_lab / 0_pi / 0_ac1 / 0_ac2",
          "PI",
          "ac1",
          "ac2",
          "lab",
          "m",
          "ts",
          "R1 Structures: Frequency and Overall Score for bescods"
         ],
         "marker": {
          "coloraxis": "coloraxis",
          "colors": [
           104,
           143.3421052631579,
           103.6,
           107.5,
           117.89285714285714,
           143.07692307692307,
           121.66666666666667,
           129.69230769230768,
           115,
           134.74418604651163,
           117.33333333333333,
           124,
           107.8,
           137.87790697674419,
           102.5,
           126.71428571428571,
           138.55128205128204,
           114,
           137.2017543859649,
           164,
           133.05142857142857,
           108,
           119.66666666666667,
           104.125,
           150.4,
           144.96984924623115,
           124,
           101.5,
           141,
           116.66666666666667,
           148.27058823529413,
           199,
           174.14285714285714,
           202,
           107.33333333333333,
           134.1627906976744,
           120.78571428571429,
           138.32985386221296,
           128.5,
           117.73684210526316,
           136.93397887323943
          ]
         },
         "name": "",
         "parents": [
          "R1 Structures: Frequency and Overall Score for bescods/PI",
          "R1 Structures: Frequency and Overall Score for bescods/lab",
          "R1 Structures: Frequency and Overall Score for bescods/lab",
          "R1 Structures: Frequency and Overall Score for bescods/PI",
          "R1 Structures: Frequency and Overall Score for bescods/lab",
          "R1 Structures: Frequency and Overall Score for bescods/lab",
          "R1 Structures: Frequency and Overall Score for bescods/ac2",
          "R1 Structures: Frequency and Overall Score for bescods/ac1",
          "R1 Structures: Frequency and Overall Score for bescods/ac2",
          "R1 Structures: Frequency and Overall Score for bescods/lab",
          "R1 Structures: Frequency and Overall Score for bescods/ac1",
          "R1 Structures: Frequency and Overall Score for bescods/lab",
          "R1 Structures: Frequency and Overall Score for bescods/PI",
          "R1 Structures: Frequency and Overall Score for bescods/lab",
          "R1 Structures: Frequency and Overall Score for bescods/lab",
          "R1 Structures: Frequency and Overall Score for bescods/ac2",
          "R1 Structures: Frequency and Overall Score for bescods/ac1",
          "R1 Structures: Frequency and Overall Score for bescods/ts",
          "R1 Structures: Frequency and Overall Score for bescods/lab",
          "R1 Structures: Frequency and Overall Score for bescods/m",
          "R1 Structures: Frequency and Overall Score for bescods/lab",
          "R1 Structures: Frequency and Overall Score for bescods/ac2",
          "R1 Structures: Frequency and Overall Score for bescods/ac1",
          "R1 Structures: Frequency and Overall Score for bescods/ts",
          "R1 Structures: Frequency and Overall Score for bescods/lab",
          "R1 Structures: Frequency and Overall Score for bescods/lab",
          "R1 Structures: Frequency and Overall Score for bescods/ac1",
          "R1 Structures: Frequency and Overall Score for bescods/ts",
          "R1 Structures: Frequency and Overall Score for bescods/ts",
          "R1 Structures: Frequency and Overall Score for bescods/m",
          "R1 Structures: Frequency and Overall Score for bescods/lab",
          "R1 Structures: Frequency and Overall Score for bescods/ts",
          "R1 Structures: Frequency and Overall Score for bescods/lab",
          "R1 Structures: Frequency and Overall Score for bescods/ts",
          "R1 Structures: Frequency and Overall Score for bescods",
          "R1 Structures: Frequency and Overall Score for bescods",
          "R1 Structures: Frequency and Overall Score for bescods",
          "R1 Structures: Frequency and Overall Score for bescods",
          "R1 Structures: Frequency and Overall Score for bescods",
          "R1 Structures: Frequency and Overall Score for bescods",
          ""
         ],
         "type": "treemap",
         "values": [
          1,
          38,
          20,
          6,
          28,
          26,
          3,
          39,
          1,
          86,
          3,
          1,
          5,
          172,
          2,
          7,
          78,
          4,
          114,
          1,
          175,
          3,
          6,
          8,
          5,
          199,
          3,
          4,
          1,
          3,
          85,
          1,
          7,
          1,
          12,
          129,
          14,
          958,
          4,
          19,
          1136
         ]
        }
       ],
       "layout": {
        "coloraxis": {
         "cmid": 125.35714285714286,
         "colorbar": {
          "title": {
           "text": "overall_score_bescods"
          }
         },
         "colorscale": [
          [
           0,
           "rgb(103,0,31)"
          ],
          [
           0.1,
           "rgb(178,24,43)"
          ],
          [
           0.2,
           "rgb(214,96,77)"
          ],
          [
           0.3,
           "rgb(244,165,130)"
          ],
          [
           0.4,
           "rgb(253,219,199)"
          ],
          [
           0.5,
           "rgb(247,247,247)"
          ],
          [
           0.6,
           "rgb(209,229,240)"
          ],
          [
           0.7,
           "rgb(146,197,222)"
          ],
          [
           0.8,
           "rgb(67,147,195)"
          ],
          [
           0.9,
           "rgb(33,102,172)"
          ],
          [
           1,
           "rgb(5,48,97)"
          ]
         ]
        },
        "legend": {
         "tracegroupgap": 0
        },
        "margin": {
         "b": 25,
         "l": 25,
         "r": 25,
         "t": 50
        },
        "template": {
         "data": {
          "bar": [
           {
            "error_x": {
             "color": "#2a3f5f"
            },
            "error_y": {
             "color": "#2a3f5f"
            },
            "marker": {
             "line": {
              "color": "#E5ECF6",
              "width": 0.5
             },
             "pattern": {
              "fillmode": "overlay",
              "size": 10,
              "solidity": 0.2
             }
            },
            "type": "bar"
           }
          ],
          "barpolar": [
           {
            "marker": {
             "line": {
              "color": "#E5ECF6",
              "width": 0.5
             },
             "pattern": {
              "fillmode": "overlay",
              "size": 10,
              "solidity": 0.2
             }
            },
            "type": "barpolar"
           }
          ],
          "carpet": [
           {
            "aaxis": {
             "endlinecolor": "#2a3f5f",
             "gridcolor": "white",
             "linecolor": "white",
             "minorgridcolor": "white",
             "startlinecolor": "#2a3f5f"
            },
            "baxis": {
             "endlinecolor": "#2a3f5f",
             "gridcolor": "white",
             "linecolor": "white",
             "minorgridcolor": "white",
             "startlinecolor": "#2a3f5f"
            },
            "type": "carpet"
           }
          ],
          "choropleth": [
           {
            "colorbar": {
             "outlinewidth": 0,
             "ticks": ""
            },
            "type": "choropleth"
           }
          ],
          "contour": [
           {
            "colorbar": {
             "outlinewidth": 0,
             "ticks": ""
            },
            "colorscale": [
             [
              0,
              "#0d0887"
             ],
             [
              0.1111111111111111,
              "#46039f"
             ],
             [
              0.2222222222222222,
              "#7201a8"
             ],
             [
              0.3333333333333333,
              "#9c179e"
             ],
             [
              0.4444444444444444,
              "#bd3786"
             ],
             [
              0.5555555555555556,
              "#d8576b"
             ],
             [
              0.6666666666666666,
              "#ed7953"
             ],
             [
              0.7777777777777778,
              "#fb9f3a"
             ],
             [
              0.8888888888888888,
              "#fdca26"
             ],
             [
              1,
              "#f0f921"
             ]
            ],
            "type": "contour"
           }
          ],
          "contourcarpet": [
           {
            "colorbar": {
             "outlinewidth": 0,
             "ticks": ""
            },
            "type": "contourcarpet"
           }
          ],
          "heatmap": [
           {
            "colorbar": {
             "outlinewidth": 0,
             "ticks": ""
            },
            "colorscale": [
             [
              0,
              "#0d0887"
             ],
             [
              0.1111111111111111,
              "#46039f"
             ],
             [
              0.2222222222222222,
              "#7201a8"
             ],
             [
              0.3333333333333333,
              "#9c179e"
             ],
             [
              0.4444444444444444,
              "#bd3786"
             ],
             [
              0.5555555555555556,
              "#d8576b"
             ],
             [
              0.6666666666666666,
              "#ed7953"
             ],
             [
              0.7777777777777778,
              "#fb9f3a"
             ],
             [
              0.8888888888888888,
              "#fdca26"
             ],
             [
              1,
              "#f0f921"
             ]
            ],
            "type": "heatmap"
           }
          ],
          "heatmapgl": [
           {
            "colorbar": {
             "outlinewidth": 0,
             "ticks": ""
            },
            "colorscale": [
             [
              0,
              "#0d0887"
             ],
             [
              0.1111111111111111,
              "#46039f"
             ],
             [
              0.2222222222222222,
              "#7201a8"
             ],
             [
              0.3333333333333333,
              "#9c179e"
             ],
             [
              0.4444444444444444,
              "#bd3786"
             ],
             [
              0.5555555555555556,
              "#d8576b"
             ],
             [
              0.6666666666666666,
              "#ed7953"
             ],
             [
              0.7777777777777778,
              "#fb9f3a"
             ],
             [
              0.8888888888888888,
              "#fdca26"
             ],
             [
              1,
              "#f0f921"
             ]
            ],
            "type": "heatmapgl"
           }
          ],
          "histogram": [
           {
            "marker": {
             "pattern": {
              "fillmode": "overlay",
              "size": 10,
              "solidity": 0.2
             }
            },
            "type": "histogram"
           }
          ],
          "histogram2d": [
           {
            "colorbar": {
             "outlinewidth": 0,
             "ticks": ""
            },
            "colorscale": [
             [
              0,
              "#0d0887"
             ],
             [
              0.1111111111111111,
              "#46039f"
             ],
             [
              0.2222222222222222,
              "#7201a8"
             ],
             [
              0.3333333333333333,
              "#9c179e"
             ],
             [
              0.4444444444444444,
              "#bd3786"
             ],
             [
              0.5555555555555556,
              "#d8576b"
             ],
             [
              0.6666666666666666,
              "#ed7953"
             ],
             [
              0.7777777777777778,
              "#fb9f3a"
             ],
             [
              0.8888888888888888,
              "#fdca26"
             ],
             [
              1,
              "#f0f921"
             ]
            ],
            "type": "histogram2d"
           }
          ],
          "histogram2dcontour": [
           {
            "colorbar": {
             "outlinewidth": 0,
             "ticks": ""
            },
            "colorscale": [
             [
              0,
              "#0d0887"
             ],
             [
              0.1111111111111111,
              "#46039f"
             ],
             [
              0.2222222222222222,
              "#7201a8"
             ],
             [
              0.3333333333333333,
              "#9c179e"
             ],
             [
              0.4444444444444444,
              "#bd3786"
             ],
             [
              0.5555555555555556,
              "#d8576b"
             ],
             [
              0.6666666666666666,
              "#ed7953"
             ],
             [
              0.7777777777777778,
              "#fb9f3a"
             ],
             [
              0.8888888888888888,
              "#fdca26"
             ],
             [
              1,
              "#f0f921"
             ]
            ],
            "type": "histogram2dcontour"
           }
          ],
          "mesh3d": [
           {
            "colorbar": {
             "outlinewidth": 0,
             "ticks": ""
            },
            "type": "mesh3d"
           }
          ],
          "parcoords": [
           {
            "line": {
             "colorbar": {
              "outlinewidth": 0,
              "ticks": ""
             }
            },
            "type": "parcoords"
           }
          ],
          "pie": [
           {
            "automargin": true,
            "type": "pie"
           }
          ],
          "scatter": [
           {
            "marker": {
             "colorbar": {
              "outlinewidth": 0,
              "ticks": ""
             }
            },
            "type": "scatter"
           }
          ],
          "scatter3d": [
           {
            "line": {
             "colorbar": {
              "outlinewidth": 0,
              "ticks": ""
             }
            },
            "marker": {
             "colorbar": {
              "outlinewidth": 0,
              "ticks": ""
             }
            },
            "type": "scatter3d"
           }
          ],
          "scattercarpet": [
           {
            "marker": {
             "colorbar": {
              "outlinewidth": 0,
              "ticks": ""
             }
            },
            "type": "scattercarpet"
           }
          ],
          "scattergeo": [
           {
            "marker": {
             "colorbar": {
              "outlinewidth": 0,
              "ticks": ""
             }
            },
            "type": "scattergeo"
           }
          ],
          "scattergl": [
           {
            "marker": {
             "colorbar": {
              "outlinewidth": 0,
              "ticks": ""
             }
            },
            "type": "scattergl"
           }
          ],
          "scattermapbox": [
           {
            "marker": {
             "colorbar": {
              "outlinewidth": 0,
              "ticks": ""
             }
            },
            "type": "scattermapbox"
           }
          ],
          "scatterpolar": [
           {
            "marker": {
             "colorbar": {
              "outlinewidth": 0,
              "ticks": ""
             }
            },
            "type": "scatterpolar"
           }
          ],
          "scatterpolargl": [
           {
            "marker": {
             "colorbar": {
              "outlinewidth": 0,
              "ticks": ""
             }
            },
            "type": "scatterpolargl"
           }
          ],
          "scatterternary": [
           {
            "marker": {
             "colorbar": {
              "outlinewidth": 0,
              "ticks": ""
             }
            },
            "type": "scatterternary"
           }
          ],
          "surface": [
           {
            "colorbar": {
             "outlinewidth": 0,
             "ticks": ""
            },
            "colorscale": [
             [
              0,
              "#0d0887"
             ],
             [
              0.1111111111111111,
              "#46039f"
             ],
             [
              0.2222222222222222,
              "#7201a8"
             ],
             [
              0.3333333333333333,
              "#9c179e"
             ],
             [
              0.4444444444444444,
              "#bd3786"
             ],
             [
              0.5555555555555556,
              "#d8576b"
             ],
             [
              0.6666666666666666,
              "#ed7953"
             ],
             [
              0.7777777777777778,
              "#fb9f3a"
             ],
             [
              0.8888888888888888,
              "#fdca26"
             ],
             [
              1,
              "#f0f921"
             ]
            ],
            "type": "surface"
           }
          ],
          "table": [
           {
            "cells": {
             "fill": {
              "color": "#EBF0F8"
             },
             "line": {
              "color": "white"
             }
            },
            "header": {
             "fill": {
              "color": "#C8D4E3"
             },
             "line": {
              "color": "white"
             }
            },
            "type": "table"
           }
          ]
         },
         "layout": {
          "annotationdefaults": {
           "arrowcolor": "#2a3f5f",
           "arrowhead": 0,
           "arrowwidth": 1
          },
          "autotypenumbers": "strict",
          "coloraxis": {
           "colorbar": {
            "outlinewidth": 0,
            "ticks": ""
           }
          },
          "colorscale": {
           "diverging": [
            [
             0,
             "#8e0152"
            ],
            [
             0.1,
             "#c51b7d"
            ],
            [
             0.2,
             "#de77ae"
            ],
            [
             0.3,
             "#f1b6da"
            ],
            [
             0.4,
             "#fde0ef"
            ],
            [
             0.5,
             "#f7f7f7"
            ],
            [
             0.6,
             "#e6f5d0"
            ],
            [
             0.7,
             "#b8e186"
            ],
            [
             0.8,
             "#7fbc41"
            ],
            [
             0.9,
             "#4d9221"
            ],
            [
             1,
             "#276419"
            ]
           ],
           "sequential": [
            [
             0,
             "#0d0887"
            ],
            [
             0.1111111111111111,
             "#46039f"
            ],
            [
             0.2222222222222222,
             "#7201a8"
            ],
            [
             0.3333333333333333,
             "#9c179e"
            ],
            [
             0.4444444444444444,
             "#bd3786"
            ],
            [
             0.5555555555555556,
             "#d8576b"
            ],
            [
             0.6666666666666666,
             "#ed7953"
            ],
            [
             0.7777777777777778,
             "#fb9f3a"
            ],
            [
             0.8888888888888888,
             "#fdca26"
            ],
            [
             1,
             "#f0f921"
            ]
           ],
           "sequentialminus": [
            [
             0,
             "#0d0887"
            ],
            [
             0.1111111111111111,
             "#46039f"
            ],
            [
             0.2222222222222222,
             "#7201a8"
            ],
            [
             0.3333333333333333,
             "#9c179e"
            ],
            [
             0.4444444444444444,
             "#bd3786"
            ],
            [
             0.5555555555555556,
             "#d8576b"
            ],
            [
             0.6666666666666666,
             "#ed7953"
            ],
            [
             0.7777777777777778,
             "#fb9f3a"
            ],
            [
             0.8888888888888888,
             "#fdca26"
            ],
            [
             1,
             "#f0f921"
            ]
           ]
          },
          "colorway": [
           "#636efa",
           "#EF553B",
           "#00cc96",
           "#ab63fa",
           "#FFA15A",
           "#19d3f3",
           "#FF6692",
           "#B6E880",
           "#FF97FF",
           "#FECB52"
          ],
          "font": {
           "color": "#2a3f5f"
          },
          "geo": {
           "bgcolor": "white",
           "lakecolor": "white",
           "landcolor": "#E5ECF6",
           "showlakes": true,
           "showland": true,
           "subunitcolor": "white"
          },
          "hoverlabel": {
           "align": "left"
          },
          "hovermode": "closest",
          "mapbox": {
           "style": "light"
          },
          "paper_bgcolor": "white",
          "plot_bgcolor": "#E5ECF6",
          "polar": {
           "angularaxis": {
            "gridcolor": "white",
            "linecolor": "white",
            "ticks": ""
           },
           "bgcolor": "#E5ECF6",
           "radialaxis": {
            "gridcolor": "white",
            "linecolor": "white",
            "ticks": ""
           }
          },
          "scene": {
           "xaxis": {
            "backgroundcolor": "#E5ECF6",
            "gridcolor": "white",
            "gridwidth": 2,
            "linecolor": "white",
            "showbackground": true,
            "ticks": "",
            "zerolinecolor": "white"
           },
           "yaxis": {
            "backgroundcolor": "#E5ECF6",
            "gridcolor": "white",
            "gridwidth": 2,
            "linecolor": "white",
            "showbackground": true,
            "ticks": "",
            "zerolinecolor": "white"
           },
           "zaxis": {
            "backgroundcolor": "#E5ECF6",
            "gridcolor": "white",
            "gridwidth": 2,
            "linecolor": "white",
            "showbackground": true,
            "ticks": "",
            "zerolinecolor": "white"
           }
          },
          "shapedefaults": {
           "line": {
            "color": "#2a3f5f"
           }
          },
          "ternary": {
           "aaxis": {
            "gridcolor": "white",
            "linecolor": "white",
            "ticks": ""
           },
           "baxis": {
            "gridcolor": "white",
            "linecolor": "white",
            "ticks": ""
           },
           "bgcolor": "#E5ECF6",
           "caxis": {
            "gridcolor": "white",
            "linecolor": "white",
            "ticks": ""
           }
          },
          "title": {
           "x": 0.05
          },
          "xaxis": {
           "automargin": true,
           "gridcolor": "white",
           "linecolor": "white",
           "ticks": "",
           "title": {
            "standoff": 15
           },
           "zerolinecolor": "white",
           "zerolinewidth": 2
          },
          "yaxis": {
           "automargin": true,
           "gridcolor": "white",
           "linecolor": "white",
           "ticks": "",
           "title": {
            "standoff": 15
           },
           "zerolinecolor": "white",
           "zerolinewidth": 2
          }
         }
        }
       }
      },
      "text/html": [
       "<div>                            <div id=\"4febe51d-582e-4cea-886e-dbbd194b2e8e\" class=\"plotly-graph-div\" style=\"height:525px; width:100%;\"></div>            <script type=\"text/javascript\">                require([\"plotly\"], function(Plotly) {                    window.PLOTLYENV=window.PLOTLYENV || {};                                    if (document.getElementById(\"4febe51d-582e-4cea-886e-dbbd194b2e8e\")) {                    Plotly.newPlot(                        \"4febe51d-582e-4cea-886e-dbbd194b2e8e\",                        [{\"branchvalues\":\"total\",\"customdata\":[[143.0,104.0],[181.71052631578948,143.3421052631579],[156.2,103.6],[110.5,107.5],[171.25,117.89285714285714],[234.19230769230768,143.07692307692307],[133.0,121.66666666666667],[192.12820512820514,129.69230769230768],[31.0,115.0],[182.51162790697674,134.74418604651163],[68.0,117.33333333333333],[140.0,124.0],[96.6,107.8],[212.15116279069767,137.87790697674419],[229.0,102.5],[128.42857142857142,126.71428571428571],[223.3846153846154,138.55128205128204],[48.0,114.0],[177.5701754385965,137.2017543859649],[121.0,164.0],[190.82285714285715,133.05142857142857],[79.0,108.0],[118.0,119.66666666666667],[65.875,104.125],[154.6,150.4],[234.5075376884422,144.96984924623115],[215.0,124.0],[136.5,101.5],[170.0,141.0],[98.33333333333333,116.66666666666667],[256.0,148.27058823529413],[217.0,199.0],[214.57142857142858,174.14285714285714],[204.0,202.0],[\"(?)\",107.33333333333333],[\"(?)\",134.1627906976744],[\"(?)\",120.78571428571429],[\"(?)\",138.32985386221296],[\"(?)\",128.5],[\"(?)\",117.73684210526316],[\"(?)\",136.93397887323943]],\"domain\":{\"x\":[0.0,1.0],\"y\":[0.0,1.0]},\"hovertemplate\":\"labels=%{label}<br>class_counts=%{value}<br>parent=%{parent}<br>id=%{id}<br>overall_elo_bescods=%{customdata[0]}<br>overall_score_bescods=%{color}<extra></extra>\",\"ids\":[\"R1 Structures: Frequency and Overall Score for bescods/PI/0_m / 0_ts / 1_lab / 1_pi / 0_ac1 / 0_ac2\",\"R1 Structures: Frequency and Overall Score for bescods/lab/0_m / 0_ts / 2_lab / 0_pi / 0_ac1 / 0_ac2\",\"R1 Structures: Frequency and Overall Score for bescods/lab/0_m / 1_ts / 1_lab / 0_pi / 0_ac1 / 0_ac2\",\"R1 Structures: Frequency and Overall Score for bescods/PI/1_m / -1_ts / 1_lab / 1_pi / 0_ac1 / 0_ac2\",\"R1 Structures: Frequency and Overall Score for bescods/lab/1_m / 0_ts / 1_lab / 0_pi / 0_ac1 / 0_ac2\",\"R1 Structures: Frequency and Overall Score for bescods/lab/1_m / 0_ts / 2_lab / 0_pi / 0_ac1 / 0_ac2\",\"R1 Structures: Frequency and Overall Score for bescods/ac2/1_m / 1_ts / -1_lab / 0_pi / 0_ac1 / 1_ac2\",\"R1 Structures: Frequency and Overall Score for bescods/ac1/1_m / 1_ts / -1_lab / 0_pi / 1_ac1 / 0_ac2\",\"R1 Structures: Frequency and Overall Score for bescods/ac2/1_m / 1_ts / 0_lab / 0_pi / 0_ac1 / 1_ac2\",\"R1 Structures: Frequency and Overall Score for bescods/lab/1_m / 1_ts / 1_lab / 0_pi / 0_ac1 / 0_ac2\",\"R1 Structures: Frequency and Overall Score for bescods/ac1/1_m / 2_ts / -1_lab / 0_pi / 1_ac1 / 0_ac2\",\"R1 Structures: Frequency and Overall Score for bescods/lab/1_m / 2_ts / 1_lab / 0_pi / 0_ac1 / 0_ac2\",\"R1 Structures: Frequency and Overall Score for bescods/PI/2_m / -1_ts / 1_lab / 1_pi / 0_ac1 / 0_ac2\",\"R1 Structures: Frequency and Overall Score for bescods/lab/2_m / 0_ts / 1_lab / 0_pi / 0_ac1 / 0_ac2\",\"R1 Structures: Frequency and Overall Score for bescods/lab/2_m / 0_ts / 2_lab / 0_pi / 0_ac1 / 0_ac2\",\"R1 Structures: Frequency and Overall Score for bescods/ac2/2_m / 1_ts / -1_lab / 0_pi / 0_ac1 / 1_ac2\",\"R1 Structures: Frequency and Overall Score for bescods/ac1/2_m / 1_ts / -1_lab / 0_pi / 1_ac1 / 0_ac2\",\"R1 Structures: Frequency and Overall Score for bescods/ts/2_m / 1_ts / 0_lab / 0_pi / 0_ac1 / 0_ac2\",\"R1 Structures: Frequency and Overall Score for bescods/lab/2_m / 1_ts / 1_lab / 0_pi / 0_ac1 / 0_ac2\",\"R1 Structures: Frequency and Overall Score for bescods/m/3_m / 0_ts / 0_lab / 0_pi / 0_ac1 / 0_ac2\",\"R1 Structures: Frequency and Overall Score for bescods/lab/3_m / 0_ts / 1_lab / 0_pi / 0_ac1 / 0_ac2\",\"R1 Structures: Frequency and Overall Score for bescods/ac2/3_m / 1_ts / -1_lab / 0_pi / 0_ac1 / 1_ac2\",\"R1 Structures: Frequency and Overall Score for bescods/ac1/3_m / 1_ts / -1_lab / 0_pi / 1_ac1 / 0_ac2\",\"R1 Structures: Frequency and Overall Score for bescods/ts/3_m / 1_ts / 0_lab / 0_pi / 0_ac1 / 0_ac2\",\"R1 Structures: Frequency and Overall Score for bescods/lab/3_m / 1_ts / 1_lab / 0_pi / 0_ac1 / 0_ac2\",\"R1 Structures: Frequency and Overall Score for bescods/lab/4_m / 0_ts / 1_lab / 0_pi / 0_ac1 / 0_ac2\",\"R1 Structures: Frequency and Overall Score for bescods/ac1/4_m / 1_ts / -1_lab / 0_pi / 1_ac1 / 0_ac2\",\"R1 Structures: Frequency and Overall Score for bescods/ts/4_m / 1_ts / 0_lab / 0_pi / 0_ac1 / 0_ac2\",\"R1 Structures: Frequency and Overall Score for bescods/ts/4_m / 2_ts / 0_lab / 0_pi / 0_ac1 / 0_ac2\",\"R1 Structures: Frequency and Overall Score for bescods/m/5_m / 0_ts / 0_lab / 0_pi / 0_ac1 / 0_ac2\",\"R1 Structures: Frequency and Overall Score for bescods/lab/5_m / 0_ts / 1_lab / 0_pi / 0_ac1 / 0_ac2\",\"R1 Structures: Frequency and Overall Score for bescods/ts/5_m / 1_ts / 0_lab / 0_pi / 0_ac1 / 0_ac2\",\"R1 Structures: Frequency and Overall Score for bescods/lab/6_m / 0_ts / 1_lab / 0_pi / 0_ac1 / 0_ac2\",\"R1 Structures: Frequency and Overall Score for bescods/ts/6_m / 1_ts / 0_lab / 0_pi / 0_ac1 / 0_ac2\",\"R1 Structures: Frequency and Overall Score for bescods/PI\",\"R1 Structures: Frequency and Overall Score for bescods/ac1\",\"R1 Structures: Frequency and Overall Score for bescods/ac2\",\"R1 Structures: Frequency and Overall Score for bescods/lab\",\"R1 Structures: Frequency and Overall Score for bescods/m\",\"R1 Structures: Frequency and Overall Score for bescods/ts\",\"R1 Structures: Frequency and Overall Score for bescods\"],\"labels\":[\"0_m / 0_ts / 1_lab / 1_pi / 0_ac1 / 0_ac2\",\"0_m / 0_ts / 2_lab / 0_pi / 0_ac1 / 0_ac2\",\"0_m / 1_ts / 1_lab / 0_pi / 0_ac1 / 0_ac2\",\"1_m / -1_ts / 1_lab / 1_pi / 0_ac1 / 0_ac2\",\"1_m / 0_ts / 1_lab / 0_pi / 0_ac1 / 0_ac2\",\"1_m / 0_ts / 2_lab / 0_pi / 0_ac1 / 0_ac2\",\"1_m / 1_ts / -1_lab / 0_pi / 0_ac1 / 1_ac2\",\"1_m / 1_ts / -1_lab / 0_pi / 1_ac1 / 0_ac2\",\"1_m / 1_ts / 0_lab / 0_pi / 0_ac1 / 1_ac2\",\"1_m / 1_ts / 1_lab / 0_pi / 0_ac1 / 0_ac2\",\"1_m / 2_ts / -1_lab / 0_pi / 1_ac1 / 0_ac2\",\"1_m / 2_ts / 1_lab / 0_pi / 0_ac1 / 0_ac2\",\"2_m / -1_ts / 1_lab / 1_pi / 0_ac1 / 0_ac2\",\"2_m / 0_ts / 1_lab / 0_pi / 0_ac1 / 0_ac2\",\"2_m / 0_ts / 2_lab / 0_pi / 0_ac1 / 0_ac2\",\"2_m / 1_ts / -1_lab / 0_pi / 0_ac1 / 1_ac2\",\"2_m / 1_ts / -1_lab / 0_pi / 1_ac1 / 0_ac2\",\"2_m / 1_ts / 0_lab / 0_pi / 0_ac1 / 0_ac2\",\"2_m / 1_ts / 1_lab / 0_pi / 0_ac1 / 0_ac2\",\"3_m / 0_ts / 0_lab / 0_pi / 0_ac1 / 0_ac2\",\"3_m / 0_ts / 1_lab / 0_pi / 0_ac1 / 0_ac2\",\"3_m / 1_ts / -1_lab / 0_pi / 0_ac1 / 1_ac2\",\"3_m / 1_ts / -1_lab / 0_pi / 1_ac1 / 0_ac2\",\"3_m / 1_ts / 0_lab / 0_pi / 0_ac1 / 0_ac2\",\"3_m / 1_ts / 1_lab / 0_pi / 0_ac1 / 0_ac2\",\"4_m / 0_ts / 1_lab / 0_pi / 0_ac1 / 0_ac2\",\"4_m / 1_ts / -1_lab / 0_pi / 1_ac1 / 0_ac2\",\"4_m / 1_ts / 0_lab / 0_pi / 0_ac1 / 0_ac2\",\"4_m / 2_ts / 0_lab / 0_pi / 0_ac1 / 0_ac2\",\"5_m / 0_ts / 0_lab / 0_pi / 0_ac1 / 0_ac2\",\"5_m / 0_ts / 1_lab / 0_pi / 0_ac1 / 0_ac2\",\"5_m / 1_ts / 0_lab / 0_pi / 0_ac1 / 0_ac2\",\"6_m / 0_ts / 1_lab / 0_pi / 0_ac1 / 0_ac2\",\"6_m / 1_ts / 0_lab / 0_pi / 0_ac1 / 0_ac2\",\"PI\",\"ac1\",\"ac2\",\"lab\",\"m\",\"ts\",\"R1 Structures: Frequency and Overall Score for bescods\"],\"marker\":{\"coloraxis\":\"coloraxis\",\"colors\":[104.0,143.3421052631579,103.6,107.5,117.89285714285714,143.07692307692307,121.66666666666667,129.69230769230768,115.0,134.74418604651163,117.33333333333333,124.0,107.8,137.87790697674419,102.5,126.71428571428571,138.55128205128204,114.0,137.2017543859649,164.0,133.05142857142857,108.0,119.66666666666667,104.125,150.4,144.96984924623115,124.0,101.5,141.0,116.66666666666667,148.27058823529413,199.0,174.14285714285714,202.0,107.33333333333333,134.1627906976744,120.78571428571429,138.32985386221296,128.5,117.73684210526316,136.93397887323943]},\"name\":\"\",\"parents\":[\"R1 Structures: Frequency and Overall Score for bescods/PI\",\"R1 Structures: Frequency and Overall Score for bescods/lab\",\"R1 Structures: Frequency and Overall Score for bescods/lab\",\"R1 Structures: Frequency and Overall Score for bescods/PI\",\"R1 Structures: Frequency and Overall Score for bescods/lab\",\"R1 Structures: Frequency and Overall Score for bescods/lab\",\"R1 Structures: Frequency and Overall Score for bescods/ac2\",\"R1 Structures: Frequency and Overall Score for bescods/ac1\",\"R1 Structures: Frequency and Overall Score for bescods/ac2\",\"R1 Structures: Frequency and Overall Score for bescods/lab\",\"R1 Structures: Frequency and Overall Score for bescods/ac1\",\"R1 Structures: Frequency and Overall Score for bescods/lab\",\"R1 Structures: Frequency and Overall Score for bescods/PI\",\"R1 Structures: Frequency and Overall Score for bescods/lab\",\"R1 Structures: Frequency and Overall Score for bescods/lab\",\"R1 Structures: Frequency and Overall Score for bescods/ac2\",\"R1 Structures: Frequency and Overall Score for bescods/ac1\",\"R1 Structures: Frequency and Overall Score for bescods/ts\",\"R1 Structures: Frequency and Overall Score for bescods/lab\",\"R1 Structures: Frequency and Overall Score for bescods/m\",\"R1 Structures: Frequency and Overall Score for bescods/lab\",\"R1 Structures: Frequency and Overall Score for bescods/ac2\",\"R1 Structures: Frequency and Overall Score for bescods/ac1\",\"R1 Structures: Frequency and Overall Score for bescods/ts\",\"R1 Structures: Frequency and Overall Score for bescods/lab\",\"R1 Structures: Frequency and Overall Score for bescods/lab\",\"R1 Structures: Frequency and Overall Score for bescods/ac1\",\"R1 Structures: Frequency and Overall Score for bescods/ts\",\"R1 Structures: Frequency and Overall Score for bescods/ts\",\"R1 Structures: Frequency and Overall Score for bescods/m\",\"R1 Structures: Frequency and Overall Score for bescods/lab\",\"R1 Structures: Frequency and Overall Score for bescods/ts\",\"R1 Structures: Frequency and Overall Score for bescods/lab\",\"R1 Structures: Frequency and Overall Score for bescods/ts\",\"R1 Structures: Frequency and Overall Score for bescods\",\"R1 Structures: Frequency and Overall Score for bescods\",\"R1 Structures: Frequency and Overall Score for bescods\",\"R1 Structures: Frequency and Overall Score for bescods\",\"R1 Structures: Frequency and Overall Score for bescods\",\"R1 Structures: Frequency and Overall Score for bescods\",\"\"],\"values\":[1,38,20,6,28,26,3,39,1,86,3,1,5,172,2,7,78,4,114,1,175,3,6,8,5,199,3,4,1,3,85,1,7,1,12,129,14,958,4,19,1136],\"type\":\"treemap\"}],                        {\"template\":{\"data\":{\"bar\":[{\"error_x\":{\"color\":\"#2a3f5f\"},\"error_y\":{\"color\":\"#2a3f5f\"},\"marker\":{\"line\":{\"color\":\"#E5ECF6\",\"width\":0.5},\"pattern\":{\"fillmode\":\"overlay\",\"size\":10,\"solidity\":0.2}},\"type\":\"bar\"}],\"barpolar\":[{\"marker\":{\"line\":{\"color\":\"#E5ECF6\",\"width\":0.5},\"pattern\":{\"fillmode\":\"overlay\",\"size\":10,\"solidity\":0.2}},\"type\":\"barpolar\"}],\"carpet\":[{\"aaxis\":{\"endlinecolor\":\"#2a3f5f\",\"gridcolor\":\"white\",\"linecolor\":\"white\",\"minorgridcolor\":\"white\",\"startlinecolor\":\"#2a3f5f\"},\"baxis\":{\"endlinecolor\":\"#2a3f5f\",\"gridcolor\":\"white\",\"linecolor\":\"white\",\"minorgridcolor\":\"white\",\"startlinecolor\":\"#2a3f5f\"},\"type\":\"carpet\"}],\"choropleth\":[{\"colorbar\":{\"outlinewidth\":0,\"ticks\":\"\"},\"type\":\"choropleth\"}],\"contour\":[{\"colorbar\":{\"outlinewidth\":0,\"ticks\":\"\"},\"colorscale\":[[0.0,\"#0d0887\"],[0.1111111111111111,\"#46039f\"],[0.2222222222222222,\"#7201a8\"],[0.3333333333333333,\"#9c179e\"],[0.4444444444444444,\"#bd3786\"],[0.5555555555555556,\"#d8576b\"],[0.6666666666666666,\"#ed7953\"],[0.7777777777777778,\"#fb9f3a\"],[0.8888888888888888,\"#fdca26\"],[1.0,\"#f0f921\"]],\"type\":\"contour\"}],\"contourcarpet\":[{\"colorbar\":{\"outlinewidth\":0,\"ticks\":\"\"},\"type\":\"contourcarpet\"}],\"heatmap\":[{\"colorbar\":{\"outlinewidth\":0,\"ticks\":\"\"},\"colorscale\":[[0.0,\"#0d0887\"],[0.1111111111111111,\"#46039f\"],[0.2222222222222222,\"#7201a8\"],[0.3333333333333333,\"#9c179e\"],[0.4444444444444444,\"#bd3786\"],[0.5555555555555556,\"#d8576b\"],[0.6666666666666666,\"#ed7953\"],[0.7777777777777778,\"#fb9f3a\"],[0.8888888888888888,\"#fdca26\"],[1.0,\"#f0f921\"]],\"type\":\"heatmap\"}],\"heatmapgl\":[{\"colorbar\":{\"outlinewidth\":0,\"ticks\":\"\"},\"colorscale\":[[0.0,\"#0d0887\"],[0.1111111111111111,\"#46039f\"],[0.2222222222222222,\"#7201a8\"],[0.3333333333333333,\"#9c179e\"],[0.4444444444444444,\"#bd3786\"],[0.5555555555555556,\"#d8576b\"],[0.6666666666666666,\"#ed7953\"],[0.7777777777777778,\"#fb9f3a\"],[0.8888888888888888,\"#fdca26\"],[1.0,\"#f0f921\"]],\"type\":\"heatmapgl\"}],\"histogram\":[{\"marker\":{\"pattern\":{\"fillmode\":\"overlay\",\"size\":10,\"solidity\":0.2}},\"type\":\"histogram\"}],\"histogram2d\":[{\"colorbar\":{\"outlinewidth\":0,\"ticks\":\"\"},\"colorscale\":[[0.0,\"#0d0887\"],[0.1111111111111111,\"#46039f\"],[0.2222222222222222,\"#7201a8\"],[0.3333333333333333,\"#9c179e\"],[0.4444444444444444,\"#bd3786\"],[0.5555555555555556,\"#d8576b\"],[0.6666666666666666,\"#ed7953\"],[0.7777777777777778,\"#fb9f3a\"],[0.8888888888888888,\"#fdca26\"],[1.0,\"#f0f921\"]],\"type\":\"histogram2d\"}],\"histogram2dcontour\":[{\"colorbar\":{\"outlinewidth\":0,\"ticks\":\"\"},\"colorscale\":[[0.0,\"#0d0887\"],[0.1111111111111111,\"#46039f\"],[0.2222222222222222,\"#7201a8\"],[0.3333333333333333,\"#9c179e\"],[0.4444444444444444,\"#bd3786\"],[0.5555555555555556,\"#d8576b\"],[0.6666666666666666,\"#ed7953\"],[0.7777777777777778,\"#fb9f3a\"],[0.8888888888888888,\"#fdca26\"],[1.0,\"#f0f921\"]],\"type\":\"histogram2dcontour\"}],\"mesh3d\":[{\"colorbar\":{\"outlinewidth\":0,\"ticks\":\"\"},\"type\":\"mesh3d\"}],\"parcoords\":[{\"line\":{\"colorbar\":{\"outlinewidth\":0,\"ticks\":\"\"}},\"type\":\"parcoords\"}],\"pie\":[{\"automargin\":true,\"type\":\"pie\"}],\"scatter\":[{\"marker\":{\"colorbar\":{\"outlinewidth\":0,\"ticks\":\"\"}},\"type\":\"scatter\"}],\"scatter3d\":[{\"line\":{\"colorbar\":{\"outlinewidth\":0,\"ticks\":\"\"}},\"marker\":{\"colorbar\":{\"outlinewidth\":0,\"ticks\":\"\"}},\"type\":\"scatter3d\"}],\"scattercarpet\":[{\"marker\":{\"colorbar\":{\"outlinewidth\":0,\"ticks\":\"\"}},\"type\":\"scattercarpet\"}],\"scattergeo\":[{\"marker\":{\"colorbar\":{\"outlinewidth\":0,\"ticks\":\"\"}},\"type\":\"scattergeo\"}],\"scattergl\":[{\"marker\":{\"colorbar\":{\"outlinewidth\":0,\"ticks\":\"\"}},\"type\":\"scattergl\"}],\"scattermapbox\":[{\"marker\":{\"colorbar\":{\"outlinewidth\":0,\"ticks\":\"\"}},\"type\":\"scattermapbox\"}],\"scatterpolar\":[{\"marker\":{\"colorbar\":{\"outlinewidth\":0,\"ticks\":\"\"}},\"type\":\"scatterpolar\"}],\"scatterpolargl\":[{\"marker\":{\"colorbar\":{\"outlinewidth\":0,\"ticks\":\"\"}},\"type\":\"scatterpolargl\"}],\"scatterternary\":[{\"marker\":{\"colorbar\":{\"outlinewidth\":0,\"ticks\":\"\"}},\"type\":\"scatterternary\"}],\"surface\":[{\"colorbar\":{\"outlinewidth\":0,\"ticks\":\"\"},\"colorscale\":[[0.0,\"#0d0887\"],[0.1111111111111111,\"#46039f\"],[0.2222222222222222,\"#7201a8\"],[0.3333333333333333,\"#9c179e\"],[0.4444444444444444,\"#bd3786\"],[0.5555555555555556,\"#d8576b\"],[0.6666666666666666,\"#ed7953\"],[0.7777777777777778,\"#fb9f3a\"],[0.8888888888888888,\"#fdca26\"],[1.0,\"#f0f921\"]],\"type\":\"surface\"}],\"table\":[{\"cells\":{\"fill\":{\"color\":\"#EBF0F8\"},\"line\":{\"color\":\"white\"}},\"header\":{\"fill\":{\"color\":\"#C8D4E3\"},\"line\":{\"color\":\"white\"}},\"type\":\"table\"}]},\"layout\":{\"annotationdefaults\":{\"arrowcolor\":\"#2a3f5f\",\"arrowhead\":0,\"arrowwidth\":1},\"autotypenumbers\":\"strict\",\"coloraxis\":{\"colorbar\":{\"outlinewidth\":0,\"ticks\":\"\"}},\"colorscale\":{\"diverging\":[[0,\"#8e0152\"],[0.1,\"#c51b7d\"],[0.2,\"#de77ae\"],[0.3,\"#f1b6da\"],[0.4,\"#fde0ef\"],[0.5,\"#f7f7f7\"],[0.6,\"#e6f5d0\"],[0.7,\"#b8e186\"],[0.8,\"#7fbc41\"],[0.9,\"#4d9221\"],[1,\"#276419\"]],\"sequential\":[[0.0,\"#0d0887\"],[0.1111111111111111,\"#46039f\"],[0.2222222222222222,\"#7201a8\"],[0.3333333333333333,\"#9c179e\"],[0.4444444444444444,\"#bd3786\"],[0.5555555555555556,\"#d8576b\"],[0.6666666666666666,\"#ed7953\"],[0.7777777777777778,\"#fb9f3a\"],[0.8888888888888888,\"#fdca26\"],[1.0,\"#f0f921\"]],\"sequentialminus\":[[0.0,\"#0d0887\"],[0.1111111111111111,\"#46039f\"],[0.2222222222222222,\"#7201a8\"],[0.3333333333333333,\"#9c179e\"],[0.4444444444444444,\"#bd3786\"],[0.5555555555555556,\"#d8576b\"],[0.6666666666666666,\"#ed7953\"],[0.7777777777777778,\"#fb9f3a\"],[0.8888888888888888,\"#fdca26\"],[1.0,\"#f0f921\"]]},\"colorway\":[\"#636efa\",\"#EF553B\",\"#00cc96\",\"#ab63fa\",\"#FFA15A\",\"#19d3f3\",\"#FF6692\",\"#B6E880\",\"#FF97FF\",\"#FECB52\"],\"font\":{\"color\":\"#2a3f5f\"},\"geo\":{\"bgcolor\":\"white\",\"lakecolor\":\"white\",\"landcolor\":\"#E5ECF6\",\"showlakes\":true,\"showland\":true,\"subunitcolor\":\"white\"},\"hoverlabel\":{\"align\":\"left\"},\"hovermode\":\"closest\",\"mapbox\":{\"style\":\"light\"},\"paper_bgcolor\":\"white\",\"plot_bgcolor\":\"#E5ECF6\",\"polar\":{\"angularaxis\":{\"gridcolor\":\"white\",\"linecolor\":\"white\",\"ticks\":\"\"},\"bgcolor\":\"#E5ECF6\",\"radialaxis\":{\"gridcolor\":\"white\",\"linecolor\":\"white\",\"ticks\":\"\"}},\"scene\":{\"xaxis\":{\"backgroundcolor\":\"#E5ECF6\",\"gridcolor\":\"white\",\"gridwidth\":2,\"linecolor\":\"white\",\"showbackground\":true,\"ticks\":\"\",\"zerolinecolor\":\"white\"},\"yaxis\":{\"backgroundcolor\":\"#E5ECF6\",\"gridcolor\":\"white\",\"gridwidth\":2,\"linecolor\":\"white\",\"showbackground\":true,\"ticks\":\"\",\"zerolinecolor\":\"white\"},\"zaxis\":{\"backgroundcolor\":\"#E5ECF6\",\"gridcolor\":\"white\",\"gridwidth\":2,\"linecolor\":\"white\",\"showbackground\":true,\"ticks\":\"\",\"zerolinecolor\":\"white\"}},\"shapedefaults\":{\"line\":{\"color\":\"#2a3f5f\"}},\"ternary\":{\"aaxis\":{\"gridcolor\":\"white\",\"linecolor\":\"white\",\"ticks\":\"\"},\"baxis\":{\"gridcolor\":\"white\",\"linecolor\":\"white\",\"ticks\":\"\"},\"bgcolor\":\"#E5ECF6\",\"caxis\":{\"gridcolor\":\"white\",\"linecolor\":\"white\",\"ticks\":\"\"}},\"title\":{\"x\":0.05},\"xaxis\":{\"automargin\":true,\"gridcolor\":\"white\",\"linecolor\":\"white\",\"ticks\":\"\",\"title\":{\"standoff\":15},\"zerolinecolor\":\"white\",\"zerolinewidth\":2},\"yaxis\":{\"automargin\":true,\"gridcolor\":\"white\",\"linecolor\":\"white\",\"ticks\":\"\",\"title\":{\"standoff\":15},\"zerolinecolor\":\"white\",\"zerolinewidth\":2}}},\"coloraxis\":{\"colorbar\":{\"title\":{\"text\":\"overall_score_bescods\"}},\"colorscale\":[[0.0,\"rgb(103,0,31)\"],[0.1,\"rgb(178,24,43)\"],[0.2,\"rgb(214,96,77)\"],[0.3,\"rgb(244,165,130)\"],[0.4,\"rgb(253,219,199)\"],[0.5,\"rgb(247,247,247)\"],[0.6,\"rgb(209,229,240)\"],[0.7,\"rgb(146,197,222)\"],[0.8,\"rgb(67,147,195)\"],[0.9,\"rgb(33,102,172)\"],[1.0,\"rgb(5,48,97)\"]],\"cmid\":125.35714285714286},\"legend\":{\"tracegroupgap\":0},\"margin\":{\"t\":50,\"l\":25,\"r\":25,\"b\":25}},                        {\"responsive\": true}                    ).then(function(){\n",
       "                            \n",
       "var gd = document.getElementById('4febe51d-582e-4cea-886e-dbbd194b2e8e');\n",
       "var x = new MutationObserver(function (mutations, observer) {{\n",
       "        var display = window.getComputedStyle(gd).display;\n",
       "        if (!display || display === 'none') {{\n",
       "            console.log([gd, 'removed!']);\n",
       "            Plotly.purge(gd);\n",
       "            observer.disconnect();\n",
       "        }}\n",
       "}});\n",
       "\n",
       "// Listen for the removal of the full notebook cells\n",
       "var notebookContainer = gd.closest('#notebook-container');\n",
       "if (notebookContainer) {{\n",
       "    x.observe(notebookContainer, {childList: true});\n",
       "}}\n",
       "\n",
       "// Listen for the clearing of the current output cell\n",
       "var outputEl = gd.closest('.output');\n",
       "if (outputEl) {{\n",
       "    x.observe(outputEl, {childList: true});\n",
       "}}\n",
       "\n",
       "                        })                };                });            </script>        </div>"
      ]
     },
     "metadata": {},
     "output_type": "display_data"
    },
    {
     "data": {
      "application/vnd.plotly.v1+json": {
       "config": {
        "plotlyServerURL": "https://plot.ly"
       },
       "data": [
        {
         "branchvalues": "total",
         "customdata": [
          [
           200.03773584905662,
           151.1320754716981
          ],
          [
           134,
           121.25
          ],
          [
           153.8421052631579,
           136.47368421052633
          ],
          [
           143.75,
           124.75
          ],
          [
           86,
           58
          ],
          [
           429,
           170
          ],
          [
           24,
           69
          ],
          [
           1,
           94
          ],
          [
           212.9525222551929,
           144.67655786350147
          ],
          [
           194.2890625,
           152.078125
          ],
          [
           125.71428571428571,
           106.28571428571429
          ],
          [
           202.93333333333334,
           139.86666666666667
          ],
          [
           101.66666666666667,
           111.5
          ],
          [
           179,
           156.5
          ],
          [
           179.44565217391303,
           147.6304347826087
          ],
          [
           115.52941176470588,
           119.94117647058823
          ],
          [
           184,
           151
          ],
          [
           240.20127795527156,
           150.03514376996804
          ],
          [
           233.19858156028369,
           152.43971631205673
          ],
          [
           163.6904761904762,
           122.88095238095238
          ],
          [
           259,
           159
          ],
          [
           199.125,
           149.9375
          ],
          [
           167.6046511627907,
           132.90697674418604
          ],
          [
           139,
           57
          ],
          [
           204.27272727272728,
           122.18181818181819
          ],
          [
           215.07920792079207,
           144.21782178217822
          ],
          [
           176.77777777777777,
           122
          ],
          [
           234,
           159.5
          ],
          [
           327,
           178
          ],
          [
           224.66666666666666,
           130.66666666666666
          ],
          [
           186.9090909090909,
           124.51515151515152
          ],
          [
           289.5,
           163.5
          ],
          [
           30,
           86
          ],
          [
           221,
           124
          ],
          [
           259.53333333333336,
           152.4
          ],
          [
           282.5,
           173.5
          ],
          [
           "(?)",
           149.79908151549944
          ],
          [
           "(?)",
           146.7619760479042
          ],
          [
           "(?)",
           122.5
          ],
          [
           "(?)",
           127.94021739130434
          ],
          [
           "(?)",
           68.6
          ],
          [
           86,
           58
          ],
          [
           "(?)",
           145.9844020797227
          ]
         ],
         "domain": {
          "x": [
           0,
           1
          ],
          "y": [
           0,
           1
          ]
         },
         "hovertemplate": "labels=%{label}<br>class_counts=%{value}<br>parent=%{parent}<br>id=%{id}<br>overall_elo_itars=%{customdata[0]}<br>overall_score_itars=%{color}<extra></extra>",
         "ids": [
          "R1 Structures: Frequency and Overall Score for itars/PI/0_m / 0_ts / 1_lab / 1_pi / 0_ac1 / 0_ac2",
          "R1 Structures: Frequency and Overall Score for itars/ac1/0_m / 1_ts / 0_lab / 0_pi / 1_ac1 / 0_ac2",
          "R1 Structures: Frequency and Overall Score for itars/PI/0_m / 1_ts / 0_lab / 1_pi / 0_ac1 / 0_ac2",
          "R1 Structures: Frequency and Overall Score for itars/lab/0_m / 1_ts / 1_lab / 0_pi / 0_ac1 / 0_ac2",
          "R1 Structures: Frequency and Overall Score for itars/ts/0_m / 2_ts / 0_lab / 0_pi / 0_ac1 / 0_ac2",
          "R1 Structures: Frequency and Overall Score for itars/PI/0_m / 2_ts / 0_lab / 1_pi / 0_ac1 / 0_ac2",
          "R1 Structures: Frequency and Overall Score for itars/lab/0_m / 2_ts / 1_lab / 0_pi / 0_ac1 / 0_ac2",
          "R1 Structures: Frequency and Overall Score for itars/ac2/1_m / 0_ts / 0_lab / 0_pi / 0_ac1 / 1_ac2",
          "R1 Structures: Frequency and Overall Score for itars/ac1/1_m / 0_ts / 0_lab / 0_pi / 1_ac1 / 0_ac2",
          "R1 Structures: Frequency and Overall Score for itars/PI/1_m / 0_ts / 0_lab / 1_pi / 0_ac1 / 0_ac2",
          "R1 Structures: Frequency and Overall Score for itars/lab/1_m / 0_ts / 1_lab / 0_pi / 0_ac1 / 0_ac2",
          "R1 Structures: Frequency and Overall Score for itars/PI/1_m / 0_ts / 1_lab / 1_pi / 0_ac1 / 0_ac2",
          "R1 Structures: Frequency and Overall Score for itars/lab/1_m / 0_ts / 2_lab / 0_pi / 0_ac1 / 0_ac2",
          "R1 Structures: Frequency and Overall Score for itars/ac1/1_m / 1_ts / 0_lab / 0_pi / 1_ac1 / 0_ac2",
          "R1 Structures: Frequency and Overall Score for itars/PI/1_m / 1_ts / 0_lab / 1_pi / 0_ac1 / 0_ac2",
          "R1 Structures: Frequency and Overall Score for itars/lab/1_m / 1_ts / 1_lab / 0_pi / 0_ac1 / 0_ac2",
          "R1 Structures: Frequency and Overall Score for itars/ac2/2_m / 0_ts / 0_lab / 0_pi / 0_ac1 / 1_ac2",
          "R1 Structures: Frequency and Overall Score for itars/ac1/2_m / 0_ts / 0_lab / 0_pi / 1_ac1 / 0_ac2",
          "R1 Structures: Frequency and Overall Score for itars/PI/2_m / 0_ts / 0_lab / 1_pi / 0_ac1 / 0_ac2",
          "R1 Structures: Frequency and Overall Score for itars/lab/2_m / 0_ts / 1_lab / 0_pi / 0_ac1 / 0_ac2",
          "R1 Structures: Frequency and Overall Score for itars/lab/2_m / 0_ts / 2_lab / 0_pi / 0_ac1 / 0_ac2",
          "R1 Structures: Frequency and Overall Score for itars/PI/2_m / 1_ts / 0_lab / 1_pi / 0_ac1 / 0_ac2",
          "R1 Structures: Frequency and Overall Score for itars/lab/2_m / 1_ts / 1_lab / 0_pi / 0_ac1 / 0_ac2",
          "R1 Structures: Frequency and Overall Score for itars/m/3_m / 0_ts / 0_lab / 0_pi / 0_ac1 / 0_ac2",
          "R1 Structures: Frequency and Overall Score for itars/ac1/3_m / 0_ts / 0_lab / 0_pi / 1_ac1 / 0_ac2",
          "R1 Structures: Frequency and Overall Score for itars/PI/3_m / 0_ts / 0_lab / 1_pi / 0_ac1 / 0_ac2",
          "R1 Structures: Frequency and Overall Score for itars/lab/3_m / 0_ts / 1_lab / 0_pi / 0_ac1 / 0_ac2",
          "R1 Structures: Frequency and Overall Score for itars/lab/3_m / 1_ts / 1_lab / 0_pi / 0_ac1 / 0_ac2",
          "R1 Structures: Frequency and Overall Score for itars/ac1/4_m / 0_ts / 0_lab / 0_pi / 1_ac1 / 0_ac2",
          "R1 Structures: Frequency and Overall Score for itars/PI/4_m / 0_ts / 0_lab / 1_pi / 0_ac1 / 0_ac2",
          "R1 Structures: Frequency and Overall Score for itars/lab/4_m / 0_ts / 1_lab / 0_pi / 0_ac1 / 0_ac2",
          "R1 Structures: Frequency and Overall Score for itars/lab/4_m / 1_ts / 1_lab / 0_pi / 0_ac1 / 0_ac2",
          "R1 Structures: Frequency and Overall Score for itars/m/5_m / 0_ts / 0_lab / 0_pi / 0_ac1 / 0_ac2",
          "R1 Structures: Frequency and Overall Score for itars/PI/5_m / 0_ts / 0_lab / 1_pi / 0_ac1 / 0_ac2",
          "R1 Structures: Frequency and Overall Score for itars/lab/5_m / 0_ts / 1_lab / 0_pi / 0_ac1 / 0_ac2",
          "R1 Structures: Frequency and Overall Score for itars/lab/6_m / 0_ts / 1_lab / 0_pi / 0_ac1 / 0_ac2",
          "R1 Structures: Frequency and Overall Score for itars/PI",
          "R1 Structures: Frequency and Overall Score for itars/ac1",
          "R1 Structures: Frequency and Overall Score for itars/ac2",
          "R1 Structures: Frequency and Overall Score for itars/lab",
          "R1 Structures: Frequency and Overall Score for itars/m",
          "R1 Structures: Frequency and Overall Score for itars/ts",
          "R1 Structures: Frequency and Overall Score for itars"
         ],
         "labels": [
          "0_m / 0_ts / 1_lab / 1_pi / 0_ac1 / 0_ac2",
          "0_m / 1_ts / 0_lab / 0_pi / 1_ac1 / 0_ac2",
          "0_m / 1_ts / 0_lab / 1_pi / 0_ac1 / 0_ac2",
          "0_m / 1_ts / 1_lab / 0_pi / 0_ac1 / 0_ac2",
          "0_m / 2_ts / 0_lab / 0_pi / 0_ac1 / 0_ac2",
          "0_m / 2_ts / 0_lab / 1_pi / 0_ac1 / 0_ac2",
          "0_m / 2_ts / 1_lab / 0_pi / 0_ac1 / 0_ac2",
          "1_m / 0_ts / 0_lab / 0_pi / 0_ac1 / 1_ac2",
          "1_m / 0_ts / 0_lab / 0_pi / 1_ac1 / 0_ac2",
          "1_m / 0_ts / 0_lab / 1_pi / 0_ac1 / 0_ac2",
          "1_m / 0_ts / 1_lab / 0_pi / 0_ac1 / 0_ac2",
          "1_m / 0_ts / 1_lab / 1_pi / 0_ac1 / 0_ac2",
          "1_m / 0_ts / 2_lab / 0_pi / 0_ac1 / 0_ac2",
          "1_m / 1_ts / 0_lab / 0_pi / 1_ac1 / 0_ac2",
          "1_m / 1_ts / 0_lab / 1_pi / 0_ac1 / 0_ac2",
          "1_m / 1_ts / 1_lab / 0_pi / 0_ac1 / 0_ac2",
          "2_m / 0_ts / 0_lab / 0_pi / 0_ac1 / 1_ac2",
          "2_m / 0_ts / 0_lab / 0_pi / 1_ac1 / 0_ac2",
          "2_m / 0_ts / 0_lab / 1_pi / 0_ac1 / 0_ac2",
          "2_m / 0_ts / 1_lab / 0_pi / 0_ac1 / 0_ac2",
          "2_m / 0_ts / 2_lab / 0_pi / 0_ac1 / 0_ac2",
          "2_m / 1_ts / 0_lab / 1_pi / 0_ac1 / 0_ac2",
          "2_m / 1_ts / 1_lab / 0_pi / 0_ac1 / 0_ac2",
          "3_m / 0_ts / 0_lab / 0_pi / 0_ac1 / 0_ac2",
          "3_m / 0_ts / 0_lab / 0_pi / 1_ac1 / 0_ac2",
          "3_m / 0_ts / 0_lab / 1_pi / 0_ac1 / 0_ac2",
          "3_m / 0_ts / 1_lab / 0_pi / 0_ac1 / 0_ac2",
          "3_m / 1_ts / 1_lab / 0_pi / 0_ac1 / 0_ac2",
          "4_m / 0_ts / 0_lab / 0_pi / 1_ac1 / 0_ac2",
          "4_m / 0_ts / 0_lab / 1_pi / 0_ac1 / 0_ac2",
          "4_m / 0_ts / 1_lab / 0_pi / 0_ac1 / 0_ac2",
          "4_m / 1_ts / 1_lab / 0_pi / 0_ac1 / 0_ac2",
          "5_m / 0_ts / 0_lab / 0_pi / 0_ac1 / 0_ac2",
          "5_m / 0_ts / 0_lab / 1_pi / 0_ac1 / 0_ac2",
          "5_m / 0_ts / 1_lab / 0_pi / 0_ac1 / 0_ac2",
          "6_m / 0_ts / 1_lab / 0_pi / 0_ac1 / 0_ac2",
          "PI",
          "ac1",
          "ac2",
          "lab",
          "m",
          "ts",
          "R1 Structures: Frequency and Overall Score for itars"
         ],
         "marker": {
          "coloraxis": "coloraxis",
          "colors": [
           151.1320754716981,
           121.25,
           136.47368421052633,
           124.75,
           58,
           170,
           69,
           94,
           144.67655786350147,
           152.078125,
           106.28571428571429,
           139.86666666666667,
           111.5,
           156.5,
           147.6304347826087,
           119.94117647058823,
           151,
           150.03514376996804,
           152.43971631205673,
           122.88095238095238,
           159,
           149.9375,
           132.90697674418604,
           57,
           122.18181818181819,
           144.21782178217822,
           122,
           159.5,
           178,
           130.66666666666666,
           124.51515151515152,
           163.5,
           86,
           124,
           152.4,
           173.5,
           149.79908151549944,
           146.7619760479042,
           122.5,
           127.94021739130434,
           68.6,
           58,
           145.9844020797227
          ]
         },
         "name": "",
         "parents": [
          "R1 Structures: Frequency and Overall Score for itars/PI",
          "R1 Structures: Frequency and Overall Score for itars/ac1",
          "R1 Structures: Frequency and Overall Score for itars/PI",
          "R1 Structures: Frequency and Overall Score for itars/lab",
          "R1 Structures: Frequency and Overall Score for itars/ts",
          "R1 Structures: Frequency and Overall Score for itars/PI",
          "R1 Structures: Frequency and Overall Score for itars/lab",
          "R1 Structures: Frequency and Overall Score for itars/ac2",
          "R1 Structures: Frequency and Overall Score for itars/ac1",
          "R1 Structures: Frequency and Overall Score for itars/PI",
          "R1 Structures: Frequency and Overall Score for itars/lab",
          "R1 Structures: Frequency and Overall Score for itars/PI",
          "R1 Structures: Frequency and Overall Score for itars/lab",
          "R1 Structures: Frequency and Overall Score for itars/ac1",
          "R1 Structures: Frequency and Overall Score for itars/PI",
          "R1 Structures: Frequency and Overall Score for itars/lab",
          "R1 Structures: Frequency and Overall Score for itars/ac2",
          "R1 Structures: Frequency and Overall Score for itars/ac1",
          "R1 Structures: Frequency and Overall Score for itars/PI",
          "R1 Structures: Frequency and Overall Score for itars/lab",
          "R1 Structures: Frequency and Overall Score for itars/lab",
          "R1 Structures: Frequency and Overall Score for itars/PI",
          "R1 Structures: Frequency and Overall Score for itars/lab",
          "R1 Structures: Frequency and Overall Score for itars/m",
          "R1 Structures: Frequency and Overall Score for itars/ac1",
          "R1 Structures: Frequency and Overall Score for itars/PI",
          "R1 Structures: Frequency and Overall Score for itars/lab",
          "R1 Structures: Frequency and Overall Score for itars/lab",
          "R1 Structures: Frequency and Overall Score for itars/ac1",
          "R1 Structures: Frequency and Overall Score for itars/PI",
          "R1 Structures: Frequency and Overall Score for itars/lab",
          "R1 Structures: Frequency and Overall Score for itars/lab",
          "R1 Structures: Frequency and Overall Score for itars/m",
          "R1 Structures: Frequency and Overall Score for itars/PI",
          "R1 Structures: Frequency and Overall Score for itars/lab",
          "R1 Structures: Frequency and Overall Score for itars/lab",
          "R1 Structures: Frequency and Overall Score for itars",
          "R1 Structures: Frequency and Overall Score for itars",
          "R1 Structures: Frequency and Overall Score for itars",
          "R1 Structures: Frequency and Overall Score for itars",
          "R1 Structures: Frequency and Overall Score for itars",
          "R1 Structures: Frequency and Overall Score for itars",
          ""
         ],
         "type": "treemap",
         "values": [
          53,
          4,
          38,
          4,
          1,
          1,
          1,
          1,
          337,
          128,
          7,
          15,
          6,
          2,
          92,
          17,
          1,
          313,
          423,
          42,
          1,
          16,
          43,
          3,
          11,
          101,
          9,
          2,
          1,
          3,
          33,
          2,
          2,
          1,
          15,
          2,
          871,
          668,
          2,
          184,
          5,
          1,
          1731
         ]
        }
       ],
       "layout": {
        "coloraxis": {
         "cmid": 138.17017543859652,
         "colorbar": {
          "title": {
           "text": "overall_score_itars"
          }
         },
         "colorscale": [
          [
           0,
           "rgb(103,0,31)"
          ],
          [
           0.1,
           "rgb(178,24,43)"
          ],
          [
           0.2,
           "rgb(214,96,77)"
          ],
          [
           0.3,
           "rgb(244,165,130)"
          ],
          [
           0.4,
           "rgb(253,219,199)"
          ],
          [
           0.5,
           "rgb(247,247,247)"
          ],
          [
           0.6,
           "rgb(209,229,240)"
          ],
          [
           0.7,
           "rgb(146,197,222)"
          ],
          [
           0.8,
           "rgb(67,147,195)"
          ],
          [
           0.9,
           "rgb(33,102,172)"
          ],
          [
           1,
           "rgb(5,48,97)"
          ]
         ]
        },
        "legend": {
         "tracegroupgap": 0
        },
        "margin": {
         "b": 25,
         "l": 25,
         "r": 25,
         "t": 50
        },
        "template": {
         "data": {
          "bar": [
           {
            "error_x": {
             "color": "#2a3f5f"
            },
            "error_y": {
             "color": "#2a3f5f"
            },
            "marker": {
             "line": {
              "color": "#E5ECF6",
              "width": 0.5
             },
             "pattern": {
              "fillmode": "overlay",
              "size": 10,
              "solidity": 0.2
             }
            },
            "type": "bar"
           }
          ],
          "barpolar": [
           {
            "marker": {
             "line": {
              "color": "#E5ECF6",
              "width": 0.5
             },
             "pattern": {
              "fillmode": "overlay",
              "size": 10,
              "solidity": 0.2
             }
            },
            "type": "barpolar"
           }
          ],
          "carpet": [
           {
            "aaxis": {
             "endlinecolor": "#2a3f5f",
             "gridcolor": "white",
             "linecolor": "white",
             "minorgridcolor": "white",
             "startlinecolor": "#2a3f5f"
            },
            "baxis": {
             "endlinecolor": "#2a3f5f",
             "gridcolor": "white",
             "linecolor": "white",
             "minorgridcolor": "white",
             "startlinecolor": "#2a3f5f"
            },
            "type": "carpet"
           }
          ],
          "choropleth": [
           {
            "colorbar": {
             "outlinewidth": 0,
             "ticks": ""
            },
            "type": "choropleth"
           }
          ],
          "contour": [
           {
            "colorbar": {
             "outlinewidth": 0,
             "ticks": ""
            },
            "colorscale": [
             [
              0,
              "#0d0887"
             ],
             [
              0.1111111111111111,
              "#46039f"
             ],
             [
              0.2222222222222222,
              "#7201a8"
             ],
             [
              0.3333333333333333,
              "#9c179e"
             ],
             [
              0.4444444444444444,
              "#bd3786"
             ],
             [
              0.5555555555555556,
              "#d8576b"
             ],
             [
              0.6666666666666666,
              "#ed7953"
             ],
             [
              0.7777777777777778,
              "#fb9f3a"
             ],
             [
              0.8888888888888888,
              "#fdca26"
             ],
             [
              1,
              "#f0f921"
             ]
            ],
            "type": "contour"
           }
          ],
          "contourcarpet": [
           {
            "colorbar": {
             "outlinewidth": 0,
             "ticks": ""
            },
            "type": "contourcarpet"
           }
          ],
          "heatmap": [
           {
            "colorbar": {
             "outlinewidth": 0,
             "ticks": ""
            },
            "colorscale": [
             [
              0,
              "#0d0887"
             ],
             [
              0.1111111111111111,
              "#46039f"
             ],
             [
              0.2222222222222222,
              "#7201a8"
             ],
             [
              0.3333333333333333,
              "#9c179e"
             ],
             [
              0.4444444444444444,
              "#bd3786"
             ],
             [
              0.5555555555555556,
              "#d8576b"
             ],
             [
              0.6666666666666666,
              "#ed7953"
             ],
             [
              0.7777777777777778,
              "#fb9f3a"
             ],
             [
              0.8888888888888888,
              "#fdca26"
             ],
             [
              1,
              "#f0f921"
             ]
            ],
            "type": "heatmap"
           }
          ],
          "heatmapgl": [
           {
            "colorbar": {
             "outlinewidth": 0,
             "ticks": ""
            },
            "colorscale": [
             [
              0,
              "#0d0887"
             ],
             [
              0.1111111111111111,
              "#46039f"
             ],
             [
              0.2222222222222222,
              "#7201a8"
             ],
             [
              0.3333333333333333,
              "#9c179e"
             ],
             [
              0.4444444444444444,
              "#bd3786"
             ],
             [
              0.5555555555555556,
              "#d8576b"
             ],
             [
              0.6666666666666666,
              "#ed7953"
             ],
             [
              0.7777777777777778,
              "#fb9f3a"
             ],
             [
              0.8888888888888888,
              "#fdca26"
             ],
             [
              1,
              "#f0f921"
             ]
            ],
            "type": "heatmapgl"
           }
          ],
          "histogram": [
           {
            "marker": {
             "pattern": {
              "fillmode": "overlay",
              "size": 10,
              "solidity": 0.2
             }
            },
            "type": "histogram"
           }
          ],
          "histogram2d": [
           {
            "colorbar": {
             "outlinewidth": 0,
             "ticks": ""
            },
            "colorscale": [
             [
              0,
              "#0d0887"
             ],
             [
              0.1111111111111111,
              "#46039f"
             ],
             [
              0.2222222222222222,
              "#7201a8"
             ],
             [
              0.3333333333333333,
              "#9c179e"
             ],
             [
              0.4444444444444444,
              "#bd3786"
             ],
             [
              0.5555555555555556,
              "#d8576b"
             ],
             [
              0.6666666666666666,
              "#ed7953"
             ],
             [
              0.7777777777777778,
              "#fb9f3a"
             ],
             [
              0.8888888888888888,
              "#fdca26"
             ],
             [
              1,
              "#f0f921"
             ]
            ],
            "type": "histogram2d"
           }
          ],
          "histogram2dcontour": [
           {
            "colorbar": {
             "outlinewidth": 0,
             "ticks": ""
            },
            "colorscale": [
             [
              0,
              "#0d0887"
             ],
             [
              0.1111111111111111,
              "#46039f"
             ],
             [
              0.2222222222222222,
              "#7201a8"
             ],
             [
              0.3333333333333333,
              "#9c179e"
             ],
             [
              0.4444444444444444,
              "#bd3786"
             ],
             [
              0.5555555555555556,
              "#d8576b"
             ],
             [
              0.6666666666666666,
              "#ed7953"
             ],
             [
              0.7777777777777778,
              "#fb9f3a"
             ],
             [
              0.8888888888888888,
              "#fdca26"
             ],
             [
              1,
              "#f0f921"
             ]
            ],
            "type": "histogram2dcontour"
           }
          ],
          "mesh3d": [
           {
            "colorbar": {
             "outlinewidth": 0,
             "ticks": ""
            },
            "type": "mesh3d"
           }
          ],
          "parcoords": [
           {
            "line": {
             "colorbar": {
              "outlinewidth": 0,
              "ticks": ""
             }
            },
            "type": "parcoords"
           }
          ],
          "pie": [
           {
            "automargin": true,
            "type": "pie"
           }
          ],
          "scatter": [
           {
            "marker": {
             "colorbar": {
              "outlinewidth": 0,
              "ticks": ""
             }
            },
            "type": "scatter"
           }
          ],
          "scatter3d": [
           {
            "line": {
             "colorbar": {
              "outlinewidth": 0,
              "ticks": ""
             }
            },
            "marker": {
             "colorbar": {
              "outlinewidth": 0,
              "ticks": ""
             }
            },
            "type": "scatter3d"
           }
          ],
          "scattercarpet": [
           {
            "marker": {
             "colorbar": {
              "outlinewidth": 0,
              "ticks": ""
             }
            },
            "type": "scattercarpet"
           }
          ],
          "scattergeo": [
           {
            "marker": {
             "colorbar": {
              "outlinewidth": 0,
              "ticks": ""
             }
            },
            "type": "scattergeo"
           }
          ],
          "scattergl": [
           {
            "marker": {
             "colorbar": {
              "outlinewidth": 0,
              "ticks": ""
             }
            },
            "type": "scattergl"
           }
          ],
          "scattermapbox": [
           {
            "marker": {
             "colorbar": {
              "outlinewidth": 0,
              "ticks": ""
             }
            },
            "type": "scattermapbox"
           }
          ],
          "scatterpolar": [
           {
            "marker": {
             "colorbar": {
              "outlinewidth": 0,
              "ticks": ""
             }
            },
            "type": "scatterpolar"
           }
          ],
          "scatterpolargl": [
           {
            "marker": {
             "colorbar": {
              "outlinewidth": 0,
              "ticks": ""
             }
            },
            "type": "scatterpolargl"
           }
          ],
          "scatterternary": [
           {
            "marker": {
             "colorbar": {
              "outlinewidth": 0,
              "ticks": ""
             }
            },
            "type": "scatterternary"
           }
          ],
          "surface": [
           {
            "colorbar": {
             "outlinewidth": 0,
             "ticks": ""
            },
            "colorscale": [
             [
              0,
              "#0d0887"
             ],
             [
              0.1111111111111111,
              "#46039f"
             ],
             [
              0.2222222222222222,
              "#7201a8"
             ],
             [
              0.3333333333333333,
              "#9c179e"
             ],
             [
              0.4444444444444444,
              "#bd3786"
             ],
             [
              0.5555555555555556,
              "#d8576b"
             ],
             [
              0.6666666666666666,
              "#ed7953"
             ],
             [
              0.7777777777777778,
              "#fb9f3a"
             ],
             [
              0.8888888888888888,
              "#fdca26"
             ],
             [
              1,
              "#f0f921"
             ]
            ],
            "type": "surface"
           }
          ],
          "table": [
           {
            "cells": {
             "fill": {
              "color": "#EBF0F8"
             },
             "line": {
              "color": "white"
             }
            },
            "header": {
             "fill": {
              "color": "#C8D4E3"
             },
             "line": {
              "color": "white"
             }
            },
            "type": "table"
           }
          ]
         },
         "layout": {
          "annotationdefaults": {
           "arrowcolor": "#2a3f5f",
           "arrowhead": 0,
           "arrowwidth": 1
          },
          "autotypenumbers": "strict",
          "coloraxis": {
           "colorbar": {
            "outlinewidth": 0,
            "ticks": ""
           }
          },
          "colorscale": {
           "diverging": [
            [
             0,
             "#8e0152"
            ],
            [
             0.1,
             "#c51b7d"
            ],
            [
             0.2,
             "#de77ae"
            ],
            [
             0.3,
             "#f1b6da"
            ],
            [
             0.4,
             "#fde0ef"
            ],
            [
             0.5,
             "#f7f7f7"
            ],
            [
             0.6,
             "#e6f5d0"
            ],
            [
             0.7,
             "#b8e186"
            ],
            [
             0.8,
             "#7fbc41"
            ],
            [
             0.9,
             "#4d9221"
            ],
            [
             1,
             "#276419"
            ]
           ],
           "sequential": [
            [
             0,
             "#0d0887"
            ],
            [
             0.1111111111111111,
             "#46039f"
            ],
            [
             0.2222222222222222,
             "#7201a8"
            ],
            [
             0.3333333333333333,
             "#9c179e"
            ],
            [
             0.4444444444444444,
             "#bd3786"
            ],
            [
             0.5555555555555556,
             "#d8576b"
            ],
            [
             0.6666666666666666,
             "#ed7953"
            ],
            [
             0.7777777777777778,
             "#fb9f3a"
            ],
            [
             0.8888888888888888,
             "#fdca26"
            ],
            [
             1,
             "#f0f921"
            ]
           ],
           "sequentialminus": [
            [
             0,
             "#0d0887"
            ],
            [
             0.1111111111111111,
             "#46039f"
            ],
            [
             0.2222222222222222,
             "#7201a8"
            ],
            [
             0.3333333333333333,
             "#9c179e"
            ],
            [
             0.4444444444444444,
             "#bd3786"
            ],
            [
             0.5555555555555556,
             "#d8576b"
            ],
            [
             0.6666666666666666,
             "#ed7953"
            ],
            [
             0.7777777777777778,
             "#fb9f3a"
            ],
            [
             0.8888888888888888,
             "#fdca26"
            ],
            [
             1,
             "#f0f921"
            ]
           ]
          },
          "colorway": [
           "#636efa",
           "#EF553B",
           "#00cc96",
           "#ab63fa",
           "#FFA15A",
           "#19d3f3",
           "#FF6692",
           "#B6E880",
           "#FF97FF",
           "#FECB52"
          ],
          "font": {
           "color": "#2a3f5f"
          },
          "geo": {
           "bgcolor": "white",
           "lakecolor": "white",
           "landcolor": "#E5ECF6",
           "showlakes": true,
           "showland": true,
           "subunitcolor": "white"
          },
          "hoverlabel": {
           "align": "left"
          },
          "hovermode": "closest",
          "mapbox": {
           "style": "light"
          },
          "paper_bgcolor": "white",
          "plot_bgcolor": "#E5ECF6",
          "polar": {
           "angularaxis": {
            "gridcolor": "white",
            "linecolor": "white",
            "ticks": ""
           },
           "bgcolor": "#E5ECF6",
           "radialaxis": {
            "gridcolor": "white",
            "linecolor": "white",
            "ticks": ""
           }
          },
          "scene": {
           "xaxis": {
            "backgroundcolor": "#E5ECF6",
            "gridcolor": "white",
            "gridwidth": 2,
            "linecolor": "white",
            "showbackground": true,
            "ticks": "",
            "zerolinecolor": "white"
           },
           "yaxis": {
            "backgroundcolor": "#E5ECF6",
            "gridcolor": "white",
            "gridwidth": 2,
            "linecolor": "white",
            "showbackground": true,
            "ticks": "",
            "zerolinecolor": "white"
           },
           "zaxis": {
            "backgroundcolor": "#E5ECF6",
            "gridcolor": "white",
            "gridwidth": 2,
            "linecolor": "white",
            "showbackground": true,
            "ticks": "",
            "zerolinecolor": "white"
           }
          },
          "shapedefaults": {
           "line": {
            "color": "#2a3f5f"
           }
          },
          "ternary": {
           "aaxis": {
            "gridcolor": "white",
            "linecolor": "white",
            "ticks": ""
           },
           "baxis": {
            "gridcolor": "white",
            "linecolor": "white",
            "ticks": ""
           },
           "bgcolor": "#E5ECF6",
           "caxis": {
            "gridcolor": "white",
            "linecolor": "white",
            "ticks": ""
           }
          },
          "title": {
           "x": 0.05
          },
          "xaxis": {
           "automargin": true,
           "gridcolor": "white",
           "linecolor": "white",
           "ticks": "",
           "title": {
            "standoff": 15
           },
           "zerolinecolor": "white",
           "zerolinewidth": 2
          },
          "yaxis": {
           "automargin": true,
           "gridcolor": "white",
           "linecolor": "white",
           "ticks": "",
           "title": {
            "standoff": 15
           },
           "zerolinecolor": "white",
           "zerolinewidth": 2
          }
         }
        }
       }
      },
      "text/html": [
       "<div>                            <div id=\"ba175759-e7af-47ed-921a-fe077b6410f2\" class=\"plotly-graph-div\" style=\"height:525px; width:100%;\"></div>            <script type=\"text/javascript\">                require([\"plotly\"], function(Plotly) {                    window.PLOTLYENV=window.PLOTLYENV || {};                                    if (document.getElementById(\"ba175759-e7af-47ed-921a-fe077b6410f2\")) {                    Plotly.newPlot(                        \"ba175759-e7af-47ed-921a-fe077b6410f2\",                        [{\"branchvalues\":\"total\",\"customdata\":[[200.03773584905662,151.1320754716981],[134.0,121.25],[153.8421052631579,136.47368421052633],[143.75,124.75],[86.0,58.0],[429.0,170.0],[24.0,69.0],[1.0,94.0],[212.9525222551929,144.67655786350147],[194.2890625,152.078125],[125.71428571428571,106.28571428571429],[202.93333333333334,139.86666666666667],[101.66666666666667,111.5],[179.0,156.5],[179.44565217391303,147.6304347826087],[115.52941176470588,119.94117647058823],[184.0,151.0],[240.20127795527156,150.03514376996804],[233.19858156028369,152.43971631205673],[163.6904761904762,122.88095238095238],[259.0,159.0],[199.125,149.9375],[167.6046511627907,132.90697674418604],[139.0,57.0],[204.27272727272728,122.18181818181819],[215.07920792079207,144.21782178217822],[176.77777777777777,122.0],[234.0,159.5],[327.0,178.0],[224.66666666666666,130.66666666666666],[186.9090909090909,124.51515151515152],[289.5,163.5],[30.0,86.0],[221.0,124.0],[259.53333333333336,152.4],[282.5,173.5],[\"(?)\",149.79908151549944],[\"(?)\",146.7619760479042],[\"(?)\",122.5],[\"(?)\",127.94021739130434],[\"(?)\",68.6],[86.0,58.0],[\"(?)\",145.9844020797227]],\"domain\":{\"x\":[0.0,1.0],\"y\":[0.0,1.0]},\"hovertemplate\":\"labels=%{label}<br>class_counts=%{value}<br>parent=%{parent}<br>id=%{id}<br>overall_elo_itars=%{customdata[0]}<br>overall_score_itars=%{color}<extra></extra>\",\"ids\":[\"R1 Structures: Frequency and Overall Score for itars/PI/0_m / 0_ts / 1_lab / 1_pi / 0_ac1 / 0_ac2\",\"R1 Structures: Frequency and Overall Score for itars/ac1/0_m / 1_ts / 0_lab / 0_pi / 1_ac1 / 0_ac2\",\"R1 Structures: Frequency and Overall Score for itars/PI/0_m / 1_ts / 0_lab / 1_pi / 0_ac1 / 0_ac2\",\"R1 Structures: Frequency and Overall Score for itars/lab/0_m / 1_ts / 1_lab / 0_pi / 0_ac1 / 0_ac2\",\"R1 Structures: Frequency and Overall Score for itars/ts/0_m / 2_ts / 0_lab / 0_pi / 0_ac1 / 0_ac2\",\"R1 Structures: Frequency and Overall Score for itars/PI/0_m / 2_ts / 0_lab / 1_pi / 0_ac1 / 0_ac2\",\"R1 Structures: Frequency and Overall Score for itars/lab/0_m / 2_ts / 1_lab / 0_pi / 0_ac1 / 0_ac2\",\"R1 Structures: Frequency and Overall Score for itars/ac2/1_m / 0_ts / 0_lab / 0_pi / 0_ac1 / 1_ac2\",\"R1 Structures: Frequency and Overall Score for itars/ac1/1_m / 0_ts / 0_lab / 0_pi / 1_ac1 / 0_ac2\",\"R1 Structures: Frequency and Overall Score for itars/PI/1_m / 0_ts / 0_lab / 1_pi / 0_ac1 / 0_ac2\",\"R1 Structures: Frequency and Overall Score for itars/lab/1_m / 0_ts / 1_lab / 0_pi / 0_ac1 / 0_ac2\",\"R1 Structures: Frequency and Overall Score for itars/PI/1_m / 0_ts / 1_lab / 1_pi / 0_ac1 / 0_ac2\",\"R1 Structures: Frequency and Overall Score for itars/lab/1_m / 0_ts / 2_lab / 0_pi / 0_ac1 / 0_ac2\",\"R1 Structures: Frequency and Overall Score for itars/ac1/1_m / 1_ts / 0_lab / 0_pi / 1_ac1 / 0_ac2\",\"R1 Structures: Frequency and Overall Score for itars/PI/1_m / 1_ts / 0_lab / 1_pi / 0_ac1 / 0_ac2\",\"R1 Structures: Frequency and Overall Score for itars/lab/1_m / 1_ts / 1_lab / 0_pi / 0_ac1 / 0_ac2\",\"R1 Structures: Frequency and Overall Score for itars/ac2/2_m / 0_ts / 0_lab / 0_pi / 0_ac1 / 1_ac2\",\"R1 Structures: Frequency and Overall Score for itars/ac1/2_m / 0_ts / 0_lab / 0_pi / 1_ac1 / 0_ac2\",\"R1 Structures: Frequency and Overall Score for itars/PI/2_m / 0_ts / 0_lab / 1_pi / 0_ac1 / 0_ac2\",\"R1 Structures: Frequency and Overall Score for itars/lab/2_m / 0_ts / 1_lab / 0_pi / 0_ac1 / 0_ac2\",\"R1 Structures: Frequency and Overall Score for itars/lab/2_m / 0_ts / 2_lab / 0_pi / 0_ac1 / 0_ac2\",\"R1 Structures: Frequency and Overall Score for itars/PI/2_m / 1_ts / 0_lab / 1_pi / 0_ac1 / 0_ac2\",\"R1 Structures: Frequency and Overall Score for itars/lab/2_m / 1_ts / 1_lab / 0_pi / 0_ac1 / 0_ac2\",\"R1 Structures: Frequency and Overall Score for itars/m/3_m / 0_ts / 0_lab / 0_pi / 0_ac1 / 0_ac2\",\"R1 Structures: Frequency and Overall Score for itars/ac1/3_m / 0_ts / 0_lab / 0_pi / 1_ac1 / 0_ac2\",\"R1 Structures: Frequency and Overall Score for itars/PI/3_m / 0_ts / 0_lab / 1_pi / 0_ac1 / 0_ac2\",\"R1 Structures: Frequency and Overall Score for itars/lab/3_m / 0_ts / 1_lab / 0_pi / 0_ac1 / 0_ac2\",\"R1 Structures: Frequency and Overall Score for itars/lab/3_m / 1_ts / 1_lab / 0_pi / 0_ac1 / 0_ac2\",\"R1 Structures: Frequency and Overall Score for itars/ac1/4_m / 0_ts / 0_lab / 0_pi / 1_ac1 / 0_ac2\",\"R1 Structures: Frequency and Overall Score for itars/PI/4_m / 0_ts / 0_lab / 1_pi / 0_ac1 / 0_ac2\",\"R1 Structures: Frequency and Overall Score for itars/lab/4_m / 0_ts / 1_lab / 0_pi / 0_ac1 / 0_ac2\",\"R1 Structures: Frequency and Overall Score for itars/lab/4_m / 1_ts / 1_lab / 0_pi / 0_ac1 / 0_ac2\",\"R1 Structures: Frequency and Overall Score for itars/m/5_m / 0_ts / 0_lab / 0_pi / 0_ac1 / 0_ac2\",\"R1 Structures: Frequency and Overall Score for itars/PI/5_m / 0_ts / 0_lab / 1_pi / 0_ac1 / 0_ac2\",\"R1 Structures: Frequency and Overall Score for itars/lab/5_m / 0_ts / 1_lab / 0_pi / 0_ac1 / 0_ac2\",\"R1 Structures: Frequency and Overall Score for itars/lab/6_m / 0_ts / 1_lab / 0_pi / 0_ac1 / 0_ac2\",\"R1 Structures: Frequency and Overall Score for itars/PI\",\"R1 Structures: Frequency and Overall Score for itars/ac1\",\"R1 Structures: Frequency and Overall Score for itars/ac2\",\"R1 Structures: Frequency and Overall Score for itars/lab\",\"R1 Structures: Frequency and Overall Score for itars/m\",\"R1 Structures: Frequency and Overall Score for itars/ts\",\"R1 Structures: Frequency and Overall Score for itars\"],\"labels\":[\"0_m / 0_ts / 1_lab / 1_pi / 0_ac1 / 0_ac2\",\"0_m / 1_ts / 0_lab / 0_pi / 1_ac1 / 0_ac2\",\"0_m / 1_ts / 0_lab / 1_pi / 0_ac1 / 0_ac2\",\"0_m / 1_ts / 1_lab / 0_pi / 0_ac1 / 0_ac2\",\"0_m / 2_ts / 0_lab / 0_pi / 0_ac1 / 0_ac2\",\"0_m / 2_ts / 0_lab / 1_pi / 0_ac1 / 0_ac2\",\"0_m / 2_ts / 1_lab / 0_pi / 0_ac1 / 0_ac2\",\"1_m / 0_ts / 0_lab / 0_pi / 0_ac1 / 1_ac2\",\"1_m / 0_ts / 0_lab / 0_pi / 1_ac1 / 0_ac2\",\"1_m / 0_ts / 0_lab / 1_pi / 0_ac1 / 0_ac2\",\"1_m / 0_ts / 1_lab / 0_pi / 0_ac1 / 0_ac2\",\"1_m / 0_ts / 1_lab / 1_pi / 0_ac1 / 0_ac2\",\"1_m / 0_ts / 2_lab / 0_pi / 0_ac1 / 0_ac2\",\"1_m / 1_ts / 0_lab / 0_pi / 1_ac1 / 0_ac2\",\"1_m / 1_ts / 0_lab / 1_pi / 0_ac1 / 0_ac2\",\"1_m / 1_ts / 1_lab / 0_pi / 0_ac1 / 0_ac2\",\"2_m / 0_ts / 0_lab / 0_pi / 0_ac1 / 1_ac2\",\"2_m / 0_ts / 0_lab / 0_pi / 1_ac1 / 0_ac2\",\"2_m / 0_ts / 0_lab / 1_pi / 0_ac1 / 0_ac2\",\"2_m / 0_ts / 1_lab / 0_pi / 0_ac1 / 0_ac2\",\"2_m / 0_ts / 2_lab / 0_pi / 0_ac1 / 0_ac2\",\"2_m / 1_ts / 0_lab / 1_pi / 0_ac1 / 0_ac2\",\"2_m / 1_ts / 1_lab / 0_pi / 0_ac1 / 0_ac2\",\"3_m / 0_ts / 0_lab / 0_pi / 0_ac1 / 0_ac2\",\"3_m / 0_ts / 0_lab / 0_pi / 1_ac1 / 0_ac2\",\"3_m / 0_ts / 0_lab / 1_pi / 0_ac1 / 0_ac2\",\"3_m / 0_ts / 1_lab / 0_pi / 0_ac1 / 0_ac2\",\"3_m / 1_ts / 1_lab / 0_pi / 0_ac1 / 0_ac2\",\"4_m / 0_ts / 0_lab / 0_pi / 1_ac1 / 0_ac2\",\"4_m / 0_ts / 0_lab / 1_pi / 0_ac1 / 0_ac2\",\"4_m / 0_ts / 1_lab / 0_pi / 0_ac1 / 0_ac2\",\"4_m / 1_ts / 1_lab / 0_pi / 0_ac1 / 0_ac2\",\"5_m / 0_ts / 0_lab / 0_pi / 0_ac1 / 0_ac2\",\"5_m / 0_ts / 0_lab / 1_pi / 0_ac1 / 0_ac2\",\"5_m / 0_ts / 1_lab / 0_pi / 0_ac1 / 0_ac2\",\"6_m / 0_ts / 1_lab / 0_pi / 0_ac1 / 0_ac2\",\"PI\",\"ac1\",\"ac2\",\"lab\",\"m\",\"ts\",\"R1 Structures: Frequency and Overall Score for itars\"],\"marker\":{\"coloraxis\":\"coloraxis\",\"colors\":[151.1320754716981,121.25,136.47368421052633,124.75,58.0,170.0,69.0,94.0,144.67655786350147,152.078125,106.28571428571429,139.86666666666667,111.5,156.5,147.6304347826087,119.94117647058823,151.0,150.03514376996804,152.43971631205673,122.88095238095238,159.0,149.9375,132.90697674418604,57.0,122.18181818181819,144.21782178217822,122.0,159.5,178.0,130.66666666666666,124.51515151515152,163.5,86.0,124.0,152.4,173.5,149.79908151549944,146.7619760479042,122.5,127.94021739130434,68.6,58.0,145.9844020797227]},\"name\":\"\",\"parents\":[\"R1 Structures: Frequency and Overall Score for itars/PI\",\"R1 Structures: Frequency and Overall Score for itars/ac1\",\"R1 Structures: Frequency and Overall Score for itars/PI\",\"R1 Structures: Frequency and Overall Score for itars/lab\",\"R1 Structures: Frequency and Overall Score for itars/ts\",\"R1 Structures: Frequency and Overall Score for itars/PI\",\"R1 Structures: Frequency and Overall Score for itars/lab\",\"R1 Structures: Frequency and Overall Score for itars/ac2\",\"R1 Structures: Frequency and Overall Score for itars/ac1\",\"R1 Structures: Frequency and Overall Score for itars/PI\",\"R1 Structures: Frequency and Overall Score for itars/lab\",\"R1 Structures: Frequency and Overall Score for itars/PI\",\"R1 Structures: Frequency and Overall Score for itars/lab\",\"R1 Structures: Frequency and Overall Score for itars/ac1\",\"R1 Structures: Frequency and Overall Score for itars/PI\",\"R1 Structures: Frequency and Overall Score for itars/lab\",\"R1 Structures: Frequency and Overall Score for itars/ac2\",\"R1 Structures: Frequency and Overall Score for itars/ac1\",\"R1 Structures: Frequency and Overall Score for itars/PI\",\"R1 Structures: Frequency and Overall Score for itars/lab\",\"R1 Structures: Frequency and Overall Score for itars/lab\",\"R1 Structures: Frequency and Overall Score for itars/PI\",\"R1 Structures: Frequency and Overall Score for itars/lab\",\"R1 Structures: Frequency and Overall Score for itars/m\",\"R1 Structures: Frequency and Overall Score for itars/ac1\",\"R1 Structures: Frequency and Overall Score for itars/PI\",\"R1 Structures: Frequency and Overall Score for itars/lab\",\"R1 Structures: Frequency and Overall Score for itars/lab\",\"R1 Structures: Frequency and Overall Score for itars/ac1\",\"R1 Structures: Frequency and Overall Score for itars/PI\",\"R1 Structures: Frequency and Overall Score for itars/lab\",\"R1 Structures: Frequency and Overall Score for itars/lab\",\"R1 Structures: Frequency and Overall Score for itars/m\",\"R1 Structures: Frequency and Overall Score for itars/PI\",\"R1 Structures: Frequency and Overall Score for itars/lab\",\"R1 Structures: Frequency and Overall Score for itars/lab\",\"R1 Structures: Frequency and Overall Score for itars\",\"R1 Structures: Frequency and Overall Score for itars\",\"R1 Structures: Frequency and Overall Score for itars\",\"R1 Structures: Frequency and Overall Score for itars\",\"R1 Structures: Frequency and Overall Score for itars\",\"R1 Structures: Frequency and Overall Score for itars\",\"\"],\"values\":[53,4,38,4,1,1,1,1,337,128,7,15,6,2,92,17,1,313,423,42,1,16,43,3,11,101,9,2,1,3,33,2,2,1,15,2,871,668,2,184,5,1,1731],\"type\":\"treemap\"}],                        {\"template\":{\"data\":{\"bar\":[{\"error_x\":{\"color\":\"#2a3f5f\"},\"error_y\":{\"color\":\"#2a3f5f\"},\"marker\":{\"line\":{\"color\":\"#E5ECF6\",\"width\":0.5},\"pattern\":{\"fillmode\":\"overlay\",\"size\":10,\"solidity\":0.2}},\"type\":\"bar\"}],\"barpolar\":[{\"marker\":{\"line\":{\"color\":\"#E5ECF6\",\"width\":0.5},\"pattern\":{\"fillmode\":\"overlay\",\"size\":10,\"solidity\":0.2}},\"type\":\"barpolar\"}],\"carpet\":[{\"aaxis\":{\"endlinecolor\":\"#2a3f5f\",\"gridcolor\":\"white\",\"linecolor\":\"white\",\"minorgridcolor\":\"white\",\"startlinecolor\":\"#2a3f5f\"},\"baxis\":{\"endlinecolor\":\"#2a3f5f\",\"gridcolor\":\"white\",\"linecolor\":\"white\",\"minorgridcolor\":\"white\",\"startlinecolor\":\"#2a3f5f\"},\"type\":\"carpet\"}],\"choropleth\":[{\"colorbar\":{\"outlinewidth\":0,\"ticks\":\"\"},\"type\":\"choropleth\"}],\"contour\":[{\"colorbar\":{\"outlinewidth\":0,\"ticks\":\"\"},\"colorscale\":[[0.0,\"#0d0887\"],[0.1111111111111111,\"#46039f\"],[0.2222222222222222,\"#7201a8\"],[0.3333333333333333,\"#9c179e\"],[0.4444444444444444,\"#bd3786\"],[0.5555555555555556,\"#d8576b\"],[0.6666666666666666,\"#ed7953\"],[0.7777777777777778,\"#fb9f3a\"],[0.8888888888888888,\"#fdca26\"],[1.0,\"#f0f921\"]],\"type\":\"contour\"}],\"contourcarpet\":[{\"colorbar\":{\"outlinewidth\":0,\"ticks\":\"\"},\"type\":\"contourcarpet\"}],\"heatmap\":[{\"colorbar\":{\"outlinewidth\":0,\"ticks\":\"\"},\"colorscale\":[[0.0,\"#0d0887\"],[0.1111111111111111,\"#46039f\"],[0.2222222222222222,\"#7201a8\"],[0.3333333333333333,\"#9c179e\"],[0.4444444444444444,\"#bd3786\"],[0.5555555555555556,\"#d8576b\"],[0.6666666666666666,\"#ed7953\"],[0.7777777777777778,\"#fb9f3a\"],[0.8888888888888888,\"#fdca26\"],[1.0,\"#f0f921\"]],\"type\":\"heatmap\"}],\"heatmapgl\":[{\"colorbar\":{\"outlinewidth\":0,\"ticks\":\"\"},\"colorscale\":[[0.0,\"#0d0887\"],[0.1111111111111111,\"#46039f\"],[0.2222222222222222,\"#7201a8\"],[0.3333333333333333,\"#9c179e\"],[0.4444444444444444,\"#bd3786\"],[0.5555555555555556,\"#d8576b\"],[0.6666666666666666,\"#ed7953\"],[0.7777777777777778,\"#fb9f3a\"],[0.8888888888888888,\"#fdca26\"],[1.0,\"#f0f921\"]],\"type\":\"heatmapgl\"}],\"histogram\":[{\"marker\":{\"pattern\":{\"fillmode\":\"overlay\",\"size\":10,\"solidity\":0.2}},\"type\":\"histogram\"}],\"histogram2d\":[{\"colorbar\":{\"outlinewidth\":0,\"ticks\":\"\"},\"colorscale\":[[0.0,\"#0d0887\"],[0.1111111111111111,\"#46039f\"],[0.2222222222222222,\"#7201a8\"],[0.3333333333333333,\"#9c179e\"],[0.4444444444444444,\"#bd3786\"],[0.5555555555555556,\"#d8576b\"],[0.6666666666666666,\"#ed7953\"],[0.7777777777777778,\"#fb9f3a\"],[0.8888888888888888,\"#fdca26\"],[1.0,\"#f0f921\"]],\"type\":\"histogram2d\"}],\"histogram2dcontour\":[{\"colorbar\":{\"outlinewidth\":0,\"ticks\":\"\"},\"colorscale\":[[0.0,\"#0d0887\"],[0.1111111111111111,\"#46039f\"],[0.2222222222222222,\"#7201a8\"],[0.3333333333333333,\"#9c179e\"],[0.4444444444444444,\"#bd3786\"],[0.5555555555555556,\"#d8576b\"],[0.6666666666666666,\"#ed7953\"],[0.7777777777777778,\"#fb9f3a\"],[0.8888888888888888,\"#fdca26\"],[1.0,\"#f0f921\"]],\"type\":\"histogram2dcontour\"}],\"mesh3d\":[{\"colorbar\":{\"outlinewidth\":0,\"ticks\":\"\"},\"type\":\"mesh3d\"}],\"parcoords\":[{\"line\":{\"colorbar\":{\"outlinewidth\":0,\"ticks\":\"\"}},\"type\":\"parcoords\"}],\"pie\":[{\"automargin\":true,\"type\":\"pie\"}],\"scatter\":[{\"marker\":{\"colorbar\":{\"outlinewidth\":0,\"ticks\":\"\"}},\"type\":\"scatter\"}],\"scatter3d\":[{\"line\":{\"colorbar\":{\"outlinewidth\":0,\"ticks\":\"\"}},\"marker\":{\"colorbar\":{\"outlinewidth\":0,\"ticks\":\"\"}},\"type\":\"scatter3d\"}],\"scattercarpet\":[{\"marker\":{\"colorbar\":{\"outlinewidth\":0,\"ticks\":\"\"}},\"type\":\"scattercarpet\"}],\"scattergeo\":[{\"marker\":{\"colorbar\":{\"outlinewidth\":0,\"ticks\":\"\"}},\"type\":\"scattergeo\"}],\"scattergl\":[{\"marker\":{\"colorbar\":{\"outlinewidth\":0,\"ticks\":\"\"}},\"type\":\"scattergl\"}],\"scattermapbox\":[{\"marker\":{\"colorbar\":{\"outlinewidth\":0,\"ticks\":\"\"}},\"type\":\"scattermapbox\"}],\"scatterpolar\":[{\"marker\":{\"colorbar\":{\"outlinewidth\":0,\"ticks\":\"\"}},\"type\":\"scatterpolar\"}],\"scatterpolargl\":[{\"marker\":{\"colorbar\":{\"outlinewidth\":0,\"ticks\":\"\"}},\"type\":\"scatterpolargl\"}],\"scatterternary\":[{\"marker\":{\"colorbar\":{\"outlinewidth\":0,\"ticks\":\"\"}},\"type\":\"scatterternary\"}],\"surface\":[{\"colorbar\":{\"outlinewidth\":0,\"ticks\":\"\"},\"colorscale\":[[0.0,\"#0d0887\"],[0.1111111111111111,\"#46039f\"],[0.2222222222222222,\"#7201a8\"],[0.3333333333333333,\"#9c179e\"],[0.4444444444444444,\"#bd3786\"],[0.5555555555555556,\"#d8576b\"],[0.6666666666666666,\"#ed7953\"],[0.7777777777777778,\"#fb9f3a\"],[0.8888888888888888,\"#fdca26\"],[1.0,\"#f0f921\"]],\"type\":\"surface\"}],\"table\":[{\"cells\":{\"fill\":{\"color\":\"#EBF0F8\"},\"line\":{\"color\":\"white\"}},\"header\":{\"fill\":{\"color\":\"#C8D4E3\"},\"line\":{\"color\":\"white\"}},\"type\":\"table\"}]},\"layout\":{\"annotationdefaults\":{\"arrowcolor\":\"#2a3f5f\",\"arrowhead\":0,\"arrowwidth\":1},\"autotypenumbers\":\"strict\",\"coloraxis\":{\"colorbar\":{\"outlinewidth\":0,\"ticks\":\"\"}},\"colorscale\":{\"diverging\":[[0,\"#8e0152\"],[0.1,\"#c51b7d\"],[0.2,\"#de77ae\"],[0.3,\"#f1b6da\"],[0.4,\"#fde0ef\"],[0.5,\"#f7f7f7\"],[0.6,\"#e6f5d0\"],[0.7,\"#b8e186\"],[0.8,\"#7fbc41\"],[0.9,\"#4d9221\"],[1,\"#276419\"]],\"sequential\":[[0.0,\"#0d0887\"],[0.1111111111111111,\"#46039f\"],[0.2222222222222222,\"#7201a8\"],[0.3333333333333333,\"#9c179e\"],[0.4444444444444444,\"#bd3786\"],[0.5555555555555556,\"#d8576b\"],[0.6666666666666666,\"#ed7953\"],[0.7777777777777778,\"#fb9f3a\"],[0.8888888888888888,\"#fdca26\"],[1.0,\"#f0f921\"]],\"sequentialminus\":[[0.0,\"#0d0887\"],[0.1111111111111111,\"#46039f\"],[0.2222222222222222,\"#7201a8\"],[0.3333333333333333,\"#9c179e\"],[0.4444444444444444,\"#bd3786\"],[0.5555555555555556,\"#d8576b\"],[0.6666666666666666,\"#ed7953\"],[0.7777777777777778,\"#fb9f3a\"],[0.8888888888888888,\"#fdca26\"],[1.0,\"#f0f921\"]]},\"colorway\":[\"#636efa\",\"#EF553B\",\"#00cc96\",\"#ab63fa\",\"#FFA15A\",\"#19d3f3\",\"#FF6692\",\"#B6E880\",\"#FF97FF\",\"#FECB52\"],\"font\":{\"color\":\"#2a3f5f\"},\"geo\":{\"bgcolor\":\"white\",\"lakecolor\":\"white\",\"landcolor\":\"#E5ECF6\",\"showlakes\":true,\"showland\":true,\"subunitcolor\":\"white\"},\"hoverlabel\":{\"align\":\"left\"},\"hovermode\":\"closest\",\"mapbox\":{\"style\":\"light\"},\"paper_bgcolor\":\"white\",\"plot_bgcolor\":\"#E5ECF6\",\"polar\":{\"angularaxis\":{\"gridcolor\":\"white\",\"linecolor\":\"white\",\"ticks\":\"\"},\"bgcolor\":\"#E5ECF6\",\"radialaxis\":{\"gridcolor\":\"white\",\"linecolor\":\"white\",\"ticks\":\"\"}},\"scene\":{\"xaxis\":{\"backgroundcolor\":\"#E5ECF6\",\"gridcolor\":\"white\",\"gridwidth\":2,\"linecolor\":\"white\",\"showbackground\":true,\"ticks\":\"\",\"zerolinecolor\":\"white\"},\"yaxis\":{\"backgroundcolor\":\"#E5ECF6\",\"gridcolor\":\"white\",\"gridwidth\":2,\"linecolor\":\"white\",\"showbackground\":true,\"ticks\":\"\",\"zerolinecolor\":\"white\"},\"zaxis\":{\"backgroundcolor\":\"#E5ECF6\",\"gridcolor\":\"white\",\"gridwidth\":2,\"linecolor\":\"white\",\"showbackground\":true,\"ticks\":\"\",\"zerolinecolor\":\"white\"}},\"shapedefaults\":{\"line\":{\"color\":\"#2a3f5f\"}},\"ternary\":{\"aaxis\":{\"gridcolor\":\"white\",\"linecolor\":\"white\",\"ticks\":\"\"},\"baxis\":{\"gridcolor\":\"white\",\"linecolor\":\"white\",\"ticks\":\"\"},\"bgcolor\":\"#E5ECF6\",\"caxis\":{\"gridcolor\":\"white\",\"linecolor\":\"white\",\"ticks\":\"\"}},\"title\":{\"x\":0.05},\"xaxis\":{\"automargin\":true,\"gridcolor\":\"white\",\"linecolor\":\"white\",\"ticks\":\"\",\"title\":{\"standoff\":15},\"zerolinecolor\":\"white\",\"zerolinewidth\":2},\"yaxis\":{\"automargin\":true,\"gridcolor\":\"white\",\"linecolor\":\"white\",\"ticks\":\"\",\"title\":{\"standoff\":15},\"zerolinecolor\":\"white\",\"zerolinewidth\":2}}},\"coloraxis\":{\"colorbar\":{\"title\":{\"text\":\"overall_score_itars\"}},\"colorscale\":[[0.0,\"rgb(103,0,31)\"],[0.1,\"rgb(178,24,43)\"],[0.2,\"rgb(214,96,77)\"],[0.3,\"rgb(244,165,130)\"],[0.4,\"rgb(253,219,199)\"],[0.5,\"rgb(247,247,247)\"],[0.6,\"rgb(209,229,240)\"],[0.7,\"rgb(146,197,222)\"],[0.8,\"rgb(67,147,195)\"],[0.9,\"rgb(33,102,172)\"],[1.0,\"rgb(5,48,97)\"]],\"cmid\":138.17017543859652},\"legend\":{\"tracegroupgap\":0},\"margin\":{\"t\":50,\"l\":25,\"r\":25,\"b\":25}},                        {\"responsive\": true}                    ).then(function(){\n",
       "                            \n",
       "var gd = document.getElementById('ba175759-e7af-47ed-921a-fe077b6410f2');\n",
       "var x = new MutationObserver(function (mutations, observer) {{\n",
       "        var display = window.getComputedStyle(gd).display;\n",
       "        if (!display || display === 'none') {{\n",
       "            console.log([gd, 'removed!']);\n",
       "            Plotly.purge(gd);\n",
       "            observer.disconnect();\n",
       "        }}\n",
       "}});\n",
       "\n",
       "// Listen for the removal of the full notebook cells\n",
       "var notebookContainer = gd.closest('#notebook-container');\n",
       "if (notebookContainer) {{\n",
       "    x.observe(notebookContainer, {childList: true});\n",
       "}}\n",
       "\n",
       "// Listen for the clearing of the current output cell\n",
       "var outputEl = gd.closest('.output');\n",
       "if (outputEl) {{\n",
       "    x.observe(outputEl, {childList: true});\n",
       "}}\n",
       "\n",
       "                        })                };                });            </script>        </div>"
      ]
     },
     "metadata": {},
     "output_type": "display_data"
    },
    {
     "data": {
      "application/vnd.plotly.v1+json": {
       "config": {
        "plotlyServerURL": "https://plot.ly"
       },
       "data": [
        {
         "branchvalues": "total",
         "customdata": [
          [
           163.8,
           141.6
          ],
          [
           181.65,
           146.2
          ],
          [
           234,
           163
          ],
          [
           137,
           119
          ],
          [
           155.45454545454547,
           147.63636363636363
          ],
          [
           117.33333333333333,
           129
          ],
          [
           27.5,
           119
          ],
          [
           125.75,
           144.0625
          ],
          [
           252.29326923076923,
           146.84615384615384
          ],
          [
           89,
           116
          ],
          [
           152.76923076923077,
           137.33333333333334
          ],
          [
           159.85714285714286,
           127.57142857142857
          ],
          [
           203,
           142.35
          ],
          [
           165,
           128
          ],
          [
           82.72727272727273,
           113.4090909090909
          ],
          [
           171.59459459459458,
           131.54954954954954
          ],
          [
           69.4,
           105.4
          ],
          [
           185.6,
           158.4
          ],
          [
           157,
           133.33333333333334
          ],
          [
           110,
           123
          ],
          [
           209.275,
           145.125
          ],
          [
           159.30434782608697,
           127.52173913043478
          ],
          [
           146.55172413793105,
           130.3793103448276
          ],
          [
           63.666666666666664,
           139
          ],
          [
           228,
           141.5
          ],
          [
           254.85714285714286,
           148
          ],
          [
           130.07407407407408,
           119.11111111111111
          ],
          [
           179.51821862348177,
           133.08906882591094
          ],
          [
           100.6,
           114.8
          ],
          [
           148.6,
           136
          ],
          [
           144.42857142857142,
           144
          ],
          [
           216.4488888888889,
           142.77333333333334
          ],
          [
           67,
           150.66666666666666
          ],
          [
           84,
           106
          ],
          [
           251.74444444444444,
           155.32222222222222
          ],
          [
           0,
           166
          ],
          [
           199.28571428571428,
           125.71428571428571
          ],
          [
           "(?)",
           119.41428571428571
          ],
          [
           "(?)",
           146.59922178988327
          ],
          [
           "(?)",
           140.8095238095238
          ],
          [
           "(?)",
           138.32187857961054
          ],
          [
           84,
           106
          ],
          [
           "(?)",
           130.41379310344828
          ],
          [
           "(?)",
           138.74461292897047
          ]
         ],
         "domain": {
          "x": [
           0,
           1
          ],
          "y": [
           0,
           1
          ]
         },
         "hovertemplate": "labels=%{label}<br>class_counts=%{value}<br>parent=%{parent}<br>id=%{id}<br>overall_elo_xenos=%{customdata[0]}<br>overall_score_xenos=%{color}<extra></extra>",
         "ids": [
          "R1 Structures: Frequency and Overall Score for xenos/PI/1_m / 0_ts / 1_lab / 1_pi / 0_ac1 / 0_ac2",
          "R1 Structures: Frequency and Overall Score for xenos/lab/1_m / 0_ts / 2_lab / 0_pi / 0_ac1 / 0_ac2",
          "R1 Structures: Frequency and Overall Score for xenos/ac1/1_m / 1_ts / 0_lab / 0_pi / 1_ac1 / 0_ac2",
          "R1 Structures: Frequency and Overall Score for xenos/PI/1_m / 1_ts / 0_lab / 1_pi / 0_ac1 / 0_ac2",
          "R1 Structures: Frequency and Overall Score for xenos/lab/1_m / 1_ts / 1_lab / 0_pi / 0_ac1 / 0_ac2",
          "R1 Structures: Frequency and Overall Score for xenos/lab/1_m / 2_ts / 1_lab / 0_pi / 0_ac1 / 0_ac2",
          "R1 Structures: Frequency and Overall Score for xenos/ts/1_m / 3_ts / 0_lab / 0_pi / 0_ac1 / 0_ac2",
          "R1 Structures: Frequency and Overall Score for xenos/ac2/2_m / 0_ts / 0_lab / 0_pi / 0_ac1 / 1_ac2",
          "R1 Structures: Frequency and Overall Score for xenos/ac1/2_m / 0_ts / 0_lab / 0_pi / 1_ac1 / 0_ac2",
          "R1 Structures: Frequency and Overall Score for xenos/PI/2_m / 0_ts / 0_lab / 1_pi / 0_ac1 / 0_ac2",
          "R1 Structures: Frequency and Overall Score for xenos/lab/2_m / 0_ts / 1_lab / 0_pi / 0_ac1 / 0_ac2",
          "R1 Structures: Frequency and Overall Score for xenos/PI/2_m / 0_ts / 1_lab / 1_pi / 0_ac1 / 0_ac2",
          "R1 Structures: Frequency and Overall Score for xenos/lab/2_m / 0_ts / 2_lab / 0_pi / 0_ac1 / 0_ac2",
          "R1 Structures: Frequency and Overall Score for xenos/ac1/2_m / 1_ts / 0_lab / 0_pi / 1_ac1 / 0_ac2",
          "R1 Structures: Frequency and Overall Score for xenos/PI/2_m / 1_ts / 0_lab / 1_pi / 0_ac1 / 0_ac2",
          "R1 Structures: Frequency and Overall Score for xenos/lab/2_m / 1_ts / 1_lab / 0_pi / 0_ac1 / 0_ac2",
          "R1 Structures: Frequency and Overall Score for xenos/ts/2_m / 2_ts / 0_lab / 0_pi / 0_ac1 / 0_ac2",
          "R1 Structures: Frequency and Overall Score for xenos/lab/2_m / 2_ts / 1_lab / 0_pi / 0_ac1 / 0_ac2",
          "R1 Structures: Frequency and Overall Score for xenos/ts/2_m / 3_ts / 0_lab / 0_pi / 0_ac1 / 0_ac2",
          "R1 Structures: Frequency and Overall Score for xenos/ac2/3_m / 0_ts / 0_lab / 0_pi / 0_ac1 / 1_ac2",
          "R1 Structures: Frequency and Overall Score for xenos/ac1/3_m / 0_ts / 0_lab / 0_pi / 1_ac1 / 0_ac2",
          "R1 Structures: Frequency and Overall Score for xenos/lab/3_m / 0_ts / 1_lab / 0_pi / 0_ac1 / 0_ac2",
          "R1 Structures: Frequency and Overall Score for xenos/lab/3_m / 1_ts / 1_lab / 0_pi / 0_ac1 / 0_ac2",
          "R1 Structures: Frequency and Overall Score for xenos/ts/3_m / 2_ts / 0_lab / 0_pi / 0_ac1 / 0_ac2",
          "R1 Structures: Frequency and Overall Score for xenos/ac2/4_m / 0_ts / 0_lab / 0_pi / 0_ac1 / 1_ac2",
          "R1 Structures: Frequency and Overall Score for xenos/ac1/4_m / 0_ts / 0_lab / 0_pi / 1_ac1 / 0_ac2",
          "R1 Structures: Frequency and Overall Score for xenos/PI/4_m / 0_ts / 0_lab / 1_pi / 0_ac1 / 0_ac2",
          "R1 Structures: Frequency and Overall Score for xenos/lab/4_m / 0_ts / 1_lab / 0_pi / 0_ac1 / 0_ac2",
          "R1 Structures: Frequency and Overall Score for xenos/ts/4_m / 1_ts / 0_lab / 0_pi / 0_ac1 / 0_ac2",
          "R1 Structures: Frequency and Overall Score for xenos/lab/4_m / 1_ts / 1_lab / 0_pi / 0_ac1 / 0_ac2",
          "R1 Structures: Frequency and Overall Score for xenos/ts/4_m / 2_ts / 0_lab / 0_pi / 0_ac1 / 0_ac2",
          "R1 Structures: Frequency and Overall Score for xenos/lab/5_m / 0_ts / 1_lab / 0_pi / 0_ac1 / 0_ac2",
          "R1 Structures: Frequency and Overall Score for xenos/ts/5_m / 1_ts / 0_lab / 0_pi / 0_ac1 / 0_ac2",
          "R1 Structures: Frequency and Overall Score for xenos/m/6_m / 0_ts / 0_lab / 0_pi / 0_ac1 / 0_ac2",
          "R1 Structures: Frequency and Overall Score for xenos/lab/6_m / 0_ts / 1_lab / 0_pi / 0_ac1 / 0_ac2",
          "R1 Structures: Frequency and Overall Score for xenos/ts/6_m / 1_ts / 0_lab / 0_pi / 0_ac1 / 0_ac2",
          "R1 Structures: Frequency and Overall Score for xenos/lab/7_m / 0_ts / 1_lab / 0_pi / 0_ac1 / 0_ac2",
          "R1 Structures: Frequency and Overall Score for xenos/PI",
          "R1 Structures: Frequency and Overall Score for xenos/ac1",
          "R1 Structures: Frequency and Overall Score for xenos/ac2",
          "R1 Structures: Frequency and Overall Score for xenos/lab",
          "R1 Structures: Frequency and Overall Score for xenos/m",
          "R1 Structures: Frequency and Overall Score for xenos/ts",
          "R1 Structures: Frequency and Overall Score for xenos"
         ],
         "labels": [
          "1_m / 0_ts / 1_lab / 1_pi / 0_ac1 / 0_ac2",
          "1_m / 0_ts / 2_lab / 0_pi / 0_ac1 / 0_ac2",
          "1_m / 1_ts / 0_lab / 0_pi / 1_ac1 / 0_ac2",
          "1_m / 1_ts / 0_lab / 1_pi / 0_ac1 / 0_ac2",
          "1_m / 1_ts / 1_lab / 0_pi / 0_ac1 / 0_ac2",
          "1_m / 2_ts / 1_lab / 0_pi / 0_ac1 / 0_ac2",
          "1_m / 3_ts / 0_lab / 0_pi / 0_ac1 / 0_ac2",
          "2_m / 0_ts / 0_lab / 0_pi / 0_ac1 / 1_ac2",
          "2_m / 0_ts / 0_lab / 0_pi / 1_ac1 / 0_ac2",
          "2_m / 0_ts / 0_lab / 1_pi / 0_ac1 / 0_ac2",
          "2_m / 0_ts / 1_lab / 0_pi / 0_ac1 / 0_ac2",
          "2_m / 0_ts / 1_lab / 1_pi / 0_ac1 / 0_ac2",
          "2_m / 0_ts / 2_lab / 0_pi / 0_ac1 / 0_ac2",
          "2_m / 1_ts / 0_lab / 0_pi / 1_ac1 / 0_ac2",
          "2_m / 1_ts / 0_lab / 1_pi / 0_ac1 / 0_ac2",
          "2_m / 1_ts / 1_lab / 0_pi / 0_ac1 / 0_ac2",
          "2_m / 2_ts / 0_lab / 0_pi / 0_ac1 / 0_ac2",
          "2_m / 2_ts / 1_lab / 0_pi / 0_ac1 / 0_ac2",
          "2_m / 3_ts / 0_lab / 0_pi / 0_ac1 / 0_ac2",
          "3_m / 0_ts / 0_lab / 0_pi / 0_ac1 / 1_ac2",
          "3_m / 0_ts / 0_lab / 0_pi / 1_ac1 / 0_ac2",
          "3_m / 0_ts / 1_lab / 0_pi / 0_ac1 / 0_ac2",
          "3_m / 1_ts / 1_lab / 0_pi / 0_ac1 / 0_ac2",
          "3_m / 2_ts / 0_lab / 0_pi / 0_ac1 / 0_ac2",
          "4_m / 0_ts / 0_lab / 0_pi / 0_ac1 / 1_ac2",
          "4_m / 0_ts / 0_lab / 0_pi / 1_ac1 / 0_ac2",
          "4_m / 0_ts / 0_lab / 1_pi / 0_ac1 / 0_ac2",
          "4_m / 0_ts / 1_lab / 0_pi / 0_ac1 / 0_ac2",
          "4_m / 1_ts / 0_lab / 0_pi / 0_ac1 / 0_ac2",
          "4_m / 1_ts / 1_lab / 0_pi / 0_ac1 / 0_ac2",
          "4_m / 2_ts / 0_lab / 0_pi / 0_ac1 / 0_ac2",
          "5_m / 0_ts / 1_lab / 0_pi / 0_ac1 / 0_ac2",
          "5_m / 1_ts / 0_lab / 0_pi / 0_ac1 / 0_ac2",
          "6_m / 0_ts / 0_lab / 0_pi / 0_ac1 / 0_ac2",
          "6_m / 0_ts / 1_lab / 0_pi / 0_ac1 / 0_ac2",
          "6_m / 1_ts / 0_lab / 0_pi / 0_ac1 / 0_ac2",
          "7_m / 0_ts / 1_lab / 0_pi / 0_ac1 / 0_ac2",
          "PI",
          "ac1",
          "ac2",
          "lab",
          "m",
          "ts",
          "R1 Structures: Frequency and Overall Score for xenos"
         ],
         "marker": {
          "coloraxis": "coloraxis",
          "colors": [
           141.6,
           146.2,
           163,
           119,
           147.63636363636363,
           129,
           119,
           144.0625,
           146.84615384615384,
           116,
           137.33333333333334,
           127.57142857142857,
           142.35,
           128,
           113.4090909090909,
           131.54954954954954,
           105.4,
           158.4,
           133.33333333333334,
           123,
           145.125,
           127.52173913043478,
           130.3793103448276,
           139,
           141.5,
           148,
           119.11111111111111,
           133.08906882591094,
           114.8,
           136,
           144,
           142.77333333333334,
           150.66666666666666,
           106,
           155.32222222222222,
           166,
           125.71428571428571,
           119.41428571428571,
           146.59922178988327,
           140.8095238095238,
           138.32187857961054,
           106,
           130.41379310344828,
           138.74461292897047
          ]
         },
         "name": "",
         "parents": [
          "R1 Structures: Frequency and Overall Score for xenos/PI",
          "R1 Structures: Frequency and Overall Score for xenos/lab",
          "R1 Structures: Frequency and Overall Score for xenos/ac1",
          "R1 Structures: Frequency and Overall Score for xenos/PI",
          "R1 Structures: Frequency and Overall Score for xenos/lab",
          "R1 Structures: Frequency and Overall Score for xenos/lab",
          "R1 Structures: Frequency and Overall Score for xenos/ts",
          "R1 Structures: Frequency and Overall Score for xenos/ac2",
          "R1 Structures: Frequency and Overall Score for xenos/ac1",
          "R1 Structures: Frequency and Overall Score for xenos/PI",
          "R1 Structures: Frequency and Overall Score for xenos/lab",
          "R1 Structures: Frequency and Overall Score for xenos/PI",
          "R1 Structures: Frequency and Overall Score for xenos/lab",
          "R1 Structures: Frequency and Overall Score for xenos/ac1",
          "R1 Structures: Frequency and Overall Score for xenos/PI",
          "R1 Structures: Frequency and Overall Score for xenos/lab",
          "R1 Structures: Frequency and Overall Score for xenos/ts",
          "R1 Structures: Frequency and Overall Score for xenos/lab",
          "R1 Structures: Frequency and Overall Score for xenos/ts",
          "R1 Structures: Frequency and Overall Score for xenos/ac2",
          "R1 Structures: Frequency and Overall Score for xenos/ac1",
          "R1 Structures: Frequency and Overall Score for xenos/lab",
          "R1 Structures: Frequency and Overall Score for xenos/lab",
          "R1 Structures: Frequency and Overall Score for xenos/ts",
          "R1 Structures: Frequency and Overall Score for xenos/ac2",
          "R1 Structures: Frequency and Overall Score for xenos/ac1",
          "R1 Structures: Frequency and Overall Score for xenos/PI",
          "R1 Structures: Frequency and Overall Score for xenos/lab",
          "R1 Structures: Frequency and Overall Score for xenos/ts",
          "R1 Structures: Frequency and Overall Score for xenos/lab",
          "R1 Structures: Frequency and Overall Score for xenos/ts",
          "R1 Structures: Frequency and Overall Score for xenos/lab",
          "R1 Structures: Frequency and Overall Score for xenos/ts",
          "R1 Structures: Frequency and Overall Score for xenos/m",
          "R1 Structures: Frequency and Overall Score for xenos/lab",
          "R1 Structures: Frequency and Overall Score for xenos/ts",
          "R1 Structures: Frequency and Overall Score for xenos/lab",
          "R1 Structures: Frequency and Overall Score for xenos",
          "R1 Structures: Frequency and Overall Score for xenos",
          "R1 Structures: Frequency and Overall Score for xenos",
          "R1 Structures: Frequency and Overall Score for xenos",
          "R1 Structures: Frequency and Overall Score for xenos",
          "R1 Structures: Frequency and Overall Score for xenos",
          ""
         ],
         "type": "treemap",
         "values": [
          5,
          20,
          1,
          1,
          11,
          3,
          2,
          16,
          208,
          8,
          39,
          7,
          20,
          1,
          22,
          111,
          5,
          5,
          3,
          3,
          40,
          46,
          29,
          3,
          2,
          7,
          27,
          247,
          5,
          20,
          7,
          225,
          3,
          3,
          90,
          1,
          7,
          70,
          257,
          21,
          873,
          3,
          29,
          1253
         ]
        }
       ],
       "layout": {
        "coloraxis": {
         "cmid": 136,
         "colorbar": {
          "title": {
           "text": "overall_score_xenos"
          }
         },
         "colorscale": [
          [
           0,
           "rgb(103,0,31)"
          ],
          [
           0.1,
           "rgb(178,24,43)"
          ],
          [
           0.2,
           "rgb(214,96,77)"
          ],
          [
           0.3,
           "rgb(244,165,130)"
          ],
          [
           0.4,
           "rgb(253,219,199)"
          ],
          [
           0.5,
           "rgb(247,247,247)"
          ],
          [
           0.6,
           "rgb(209,229,240)"
          ],
          [
           0.7,
           "rgb(146,197,222)"
          ],
          [
           0.8,
           "rgb(67,147,195)"
          ],
          [
           0.9,
           "rgb(33,102,172)"
          ],
          [
           1,
           "rgb(5,48,97)"
          ]
         ]
        },
        "legend": {
         "tracegroupgap": 0
        },
        "margin": {
         "b": 25,
         "l": 25,
         "r": 25,
         "t": 50
        },
        "template": {
         "data": {
          "bar": [
           {
            "error_x": {
             "color": "#2a3f5f"
            },
            "error_y": {
             "color": "#2a3f5f"
            },
            "marker": {
             "line": {
              "color": "#E5ECF6",
              "width": 0.5
             },
             "pattern": {
              "fillmode": "overlay",
              "size": 10,
              "solidity": 0.2
             }
            },
            "type": "bar"
           }
          ],
          "barpolar": [
           {
            "marker": {
             "line": {
              "color": "#E5ECF6",
              "width": 0.5
             },
             "pattern": {
              "fillmode": "overlay",
              "size": 10,
              "solidity": 0.2
             }
            },
            "type": "barpolar"
           }
          ],
          "carpet": [
           {
            "aaxis": {
             "endlinecolor": "#2a3f5f",
             "gridcolor": "white",
             "linecolor": "white",
             "minorgridcolor": "white",
             "startlinecolor": "#2a3f5f"
            },
            "baxis": {
             "endlinecolor": "#2a3f5f",
             "gridcolor": "white",
             "linecolor": "white",
             "minorgridcolor": "white",
             "startlinecolor": "#2a3f5f"
            },
            "type": "carpet"
           }
          ],
          "choropleth": [
           {
            "colorbar": {
             "outlinewidth": 0,
             "ticks": ""
            },
            "type": "choropleth"
           }
          ],
          "contour": [
           {
            "colorbar": {
             "outlinewidth": 0,
             "ticks": ""
            },
            "colorscale": [
             [
              0,
              "#0d0887"
             ],
             [
              0.1111111111111111,
              "#46039f"
             ],
             [
              0.2222222222222222,
              "#7201a8"
             ],
             [
              0.3333333333333333,
              "#9c179e"
             ],
             [
              0.4444444444444444,
              "#bd3786"
             ],
             [
              0.5555555555555556,
              "#d8576b"
             ],
             [
              0.6666666666666666,
              "#ed7953"
             ],
             [
              0.7777777777777778,
              "#fb9f3a"
             ],
             [
              0.8888888888888888,
              "#fdca26"
             ],
             [
              1,
              "#f0f921"
             ]
            ],
            "type": "contour"
           }
          ],
          "contourcarpet": [
           {
            "colorbar": {
             "outlinewidth": 0,
             "ticks": ""
            },
            "type": "contourcarpet"
           }
          ],
          "heatmap": [
           {
            "colorbar": {
             "outlinewidth": 0,
             "ticks": ""
            },
            "colorscale": [
             [
              0,
              "#0d0887"
             ],
             [
              0.1111111111111111,
              "#46039f"
             ],
             [
              0.2222222222222222,
              "#7201a8"
             ],
             [
              0.3333333333333333,
              "#9c179e"
             ],
             [
              0.4444444444444444,
              "#bd3786"
             ],
             [
              0.5555555555555556,
              "#d8576b"
             ],
             [
              0.6666666666666666,
              "#ed7953"
             ],
             [
              0.7777777777777778,
              "#fb9f3a"
             ],
             [
              0.8888888888888888,
              "#fdca26"
             ],
             [
              1,
              "#f0f921"
             ]
            ],
            "type": "heatmap"
           }
          ],
          "heatmapgl": [
           {
            "colorbar": {
             "outlinewidth": 0,
             "ticks": ""
            },
            "colorscale": [
             [
              0,
              "#0d0887"
             ],
             [
              0.1111111111111111,
              "#46039f"
             ],
             [
              0.2222222222222222,
              "#7201a8"
             ],
             [
              0.3333333333333333,
              "#9c179e"
             ],
             [
              0.4444444444444444,
              "#bd3786"
             ],
             [
              0.5555555555555556,
              "#d8576b"
             ],
             [
              0.6666666666666666,
              "#ed7953"
             ],
             [
              0.7777777777777778,
              "#fb9f3a"
             ],
             [
              0.8888888888888888,
              "#fdca26"
             ],
             [
              1,
              "#f0f921"
             ]
            ],
            "type": "heatmapgl"
           }
          ],
          "histogram": [
           {
            "marker": {
             "pattern": {
              "fillmode": "overlay",
              "size": 10,
              "solidity": 0.2
             }
            },
            "type": "histogram"
           }
          ],
          "histogram2d": [
           {
            "colorbar": {
             "outlinewidth": 0,
             "ticks": ""
            },
            "colorscale": [
             [
              0,
              "#0d0887"
             ],
             [
              0.1111111111111111,
              "#46039f"
             ],
             [
              0.2222222222222222,
              "#7201a8"
             ],
             [
              0.3333333333333333,
              "#9c179e"
             ],
             [
              0.4444444444444444,
              "#bd3786"
             ],
             [
              0.5555555555555556,
              "#d8576b"
             ],
             [
              0.6666666666666666,
              "#ed7953"
             ],
             [
              0.7777777777777778,
              "#fb9f3a"
             ],
             [
              0.8888888888888888,
              "#fdca26"
             ],
             [
              1,
              "#f0f921"
             ]
            ],
            "type": "histogram2d"
           }
          ],
          "histogram2dcontour": [
           {
            "colorbar": {
             "outlinewidth": 0,
             "ticks": ""
            },
            "colorscale": [
             [
              0,
              "#0d0887"
             ],
             [
              0.1111111111111111,
              "#46039f"
             ],
             [
              0.2222222222222222,
              "#7201a8"
             ],
             [
              0.3333333333333333,
              "#9c179e"
             ],
             [
              0.4444444444444444,
              "#bd3786"
             ],
             [
              0.5555555555555556,
              "#d8576b"
             ],
             [
              0.6666666666666666,
              "#ed7953"
             ],
             [
              0.7777777777777778,
              "#fb9f3a"
             ],
             [
              0.8888888888888888,
              "#fdca26"
             ],
             [
              1,
              "#f0f921"
             ]
            ],
            "type": "histogram2dcontour"
           }
          ],
          "mesh3d": [
           {
            "colorbar": {
             "outlinewidth": 0,
             "ticks": ""
            },
            "type": "mesh3d"
           }
          ],
          "parcoords": [
           {
            "line": {
             "colorbar": {
              "outlinewidth": 0,
              "ticks": ""
             }
            },
            "type": "parcoords"
           }
          ],
          "pie": [
           {
            "automargin": true,
            "type": "pie"
           }
          ],
          "scatter": [
           {
            "marker": {
             "colorbar": {
              "outlinewidth": 0,
              "ticks": ""
             }
            },
            "type": "scatter"
           }
          ],
          "scatter3d": [
           {
            "line": {
             "colorbar": {
              "outlinewidth": 0,
              "ticks": ""
             }
            },
            "marker": {
             "colorbar": {
              "outlinewidth": 0,
              "ticks": ""
             }
            },
            "type": "scatter3d"
           }
          ],
          "scattercarpet": [
           {
            "marker": {
             "colorbar": {
              "outlinewidth": 0,
              "ticks": ""
             }
            },
            "type": "scattercarpet"
           }
          ],
          "scattergeo": [
           {
            "marker": {
             "colorbar": {
              "outlinewidth": 0,
              "ticks": ""
             }
            },
            "type": "scattergeo"
           }
          ],
          "scattergl": [
           {
            "marker": {
             "colorbar": {
              "outlinewidth": 0,
              "ticks": ""
             }
            },
            "type": "scattergl"
           }
          ],
          "scattermapbox": [
           {
            "marker": {
             "colorbar": {
              "outlinewidth": 0,
              "ticks": ""
             }
            },
            "type": "scattermapbox"
           }
          ],
          "scatterpolar": [
           {
            "marker": {
             "colorbar": {
              "outlinewidth": 0,
              "ticks": ""
             }
            },
            "type": "scatterpolar"
           }
          ],
          "scatterpolargl": [
           {
            "marker": {
             "colorbar": {
              "outlinewidth": 0,
              "ticks": ""
             }
            },
            "type": "scatterpolargl"
           }
          ],
          "scatterternary": [
           {
            "marker": {
             "colorbar": {
              "outlinewidth": 0,
              "ticks": ""
             }
            },
            "type": "scatterternary"
           }
          ],
          "surface": [
           {
            "colorbar": {
             "outlinewidth": 0,
             "ticks": ""
            },
            "colorscale": [
             [
              0,
              "#0d0887"
             ],
             [
              0.1111111111111111,
              "#46039f"
             ],
             [
              0.2222222222222222,
              "#7201a8"
             ],
             [
              0.3333333333333333,
              "#9c179e"
             ],
             [
              0.4444444444444444,
              "#bd3786"
             ],
             [
              0.5555555555555556,
              "#d8576b"
             ],
             [
              0.6666666666666666,
              "#ed7953"
             ],
             [
              0.7777777777777778,
              "#fb9f3a"
             ],
             [
              0.8888888888888888,
              "#fdca26"
             ],
             [
              1,
              "#f0f921"
             ]
            ],
            "type": "surface"
           }
          ],
          "table": [
           {
            "cells": {
             "fill": {
              "color": "#EBF0F8"
             },
             "line": {
              "color": "white"
             }
            },
            "header": {
             "fill": {
              "color": "#C8D4E3"
             },
             "line": {
              "color": "white"
             }
            },
            "type": "table"
           }
          ]
         },
         "layout": {
          "annotationdefaults": {
           "arrowcolor": "#2a3f5f",
           "arrowhead": 0,
           "arrowwidth": 1
          },
          "autotypenumbers": "strict",
          "coloraxis": {
           "colorbar": {
            "outlinewidth": 0,
            "ticks": ""
           }
          },
          "colorscale": {
           "diverging": [
            [
             0,
             "#8e0152"
            ],
            [
             0.1,
             "#c51b7d"
            ],
            [
             0.2,
             "#de77ae"
            ],
            [
             0.3,
             "#f1b6da"
            ],
            [
             0.4,
             "#fde0ef"
            ],
            [
             0.5,
             "#f7f7f7"
            ],
            [
             0.6,
             "#e6f5d0"
            ],
            [
             0.7,
             "#b8e186"
            ],
            [
             0.8,
             "#7fbc41"
            ],
            [
             0.9,
             "#4d9221"
            ],
            [
             1,
             "#276419"
            ]
           ],
           "sequential": [
            [
             0,
             "#0d0887"
            ],
            [
             0.1111111111111111,
             "#46039f"
            ],
            [
             0.2222222222222222,
             "#7201a8"
            ],
            [
             0.3333333333333333,
             "#9c179e"
            ],
            [
             0.4444444444444444,
             "#bd3786"
            ],
            [
             0.5555555555555556,
             "#d8576b"
            ],
            [
             0.6666666666666666,
             "#ed7953"
            ],
            [
             0.7777777777777778,
             "#fb9f3a"
            ],
            [
             0.8888888888888888,
             "#fdca26"
            ],
            [
             1,
             "#f0f921"
            ]
           ],
           "sequentialminus": [
            [
             0,
             "#0d0887"
            ],
            [
             0.1111111111111111,
             "#46039f"
            ],
            [
             0.2222222222222222,
             "#7201a8"
            ],
            [
             0.3333333333333333,
             "#9c179e"
            ],
            [
             0.4444444444444444,
             "#bd3786"
            ],
            [
             0.5555555555555556,
             "#d8576b"
            ],
            [
             0.6666666666666666,
             "#ed7953"
            ],
            [
             0.7777777777777778,
             "#fb9f3a"
            ],
            [
             0.8888888888888888,
             "#fdca26"
            ],
            [
             1,
             "#f0f921"
            ]
           ]
          },
          "colorway": [
           "#636efa",
           "#EF553B",
           "#00cc96",
           "#ab63fa",
           "#FFA15A",
           "#19d3f3",
           "#FF6692",
           "#B6E880",
           "#FF97FF",
           "#FECB52"
          ],
          "font": {
           "color": "#2a3f5f"
          },
          "geo": {
           "bgcolor": "white",
           "lakecolor": "white",
           "landcolor": "#E5ECF6",
           "showlakes": true,
           "showland": true,
           "subunitcolor": "white"
          },
          "hoverlabel": {
           "align": "left"
          },
          "hovermode": "closest",
          "mapbox": {
           "style": "light"
          },
          "paper_bgcolor": "white",
          "plot_bgcolor": "#E5ECF6",
          "polar": {
           "angularaxis": {
            "gridcolor": "white",
            "linecolor": "white",
            "ticks": ""
           },
           "bgcolor": "#E5ECF6",
           "radialaxis": {
            "gridcolor": "white",
            "linecolor": "white",
            "ticks": ""
           }
          },
          "scene": {
           "xaxis": {
            "backgroundcolor": "#E5ECF6",
            "gridcolor": "white",
            "gridwidth": 2,
            "linecolor": "white",
            "showbackground": true,
            "ticks": "",
            "zerolinecolor": "white"
           },
           "yaxis": {
            "backgroundcolor": "#E5ECF6",
            "gridcolor": "white",
            "gridwidth": 2,
            "linecolor": "white",
            "showbackground": true,
            "ticks": "",
            "zerolinecolor": "white"
           },
           "zaxis": {
            "backgroundcolor": "#E5ECF6",
            "gridcolor": "white",
            "gridwidth": 2,
            "linecolor": "white",
            "showbackground": true,
            "ticks": "",
            "zerolinecolor": "white"
           }
          },
          "shapedefaults": {
           "line": {
            "color": "#2a3f5f"
           }
          },
          "ternary": {
           "aaxis": {
            "gridcolor": "white",
            "linecolor": "white",
            "ticks": ""
           },
           "baxis": {
            "gridcolor": "white",
            "linecolor": "white",
            "ticks": ""
           },
           "bgcolor": "#E5ECF6",
           "caxis": {
            "gridcolor": "white",
            "linecolor": "white",
            "ticks": ""
           }
          },
          "title": {
           "x": 0.05
          },
          "xaxis": {
           "automargin": true,
           "gridcolor": "white",
           "linecolor": "white",
           "ticks": "",
           "title": {
            "standoff": 15
           },
           "zerolinecolor": "white",
           "zerolinewidth": 2
          },
          "yaxis": {
           "automargin": true,
           "gridcolor": "white",
           "linecolor": "white",
           "ticks": "",
           "title": {
            "standoff": 15
           },
           "zerolinecolor": "white",
           "zerolinewidth": 2
          }
         }
        }
       }
      },
      "text/html": [
       "<div>                            <div id=\"a53cf9b3-6473-4b94-81ba-b0585ff93541\" class=\"plotly-graph-div\" style=\"height:525px; width:100%;\"></div>            <script type=\"text/javascript\">                require([\"plotly\"], function(Plotly) {                    window.PLOTLYENV=window.PLOTLYENV || {};                                    if (document.getElementById(\"a53cf9b3-6473-4b94-81ba-b0585ff93541\")) {                    Plotly.newPlot(                        \"a53cf9b3-6473-4b94-81ba-b0585ff93541\",                        [{\"branchvalues\":\"total\",\"customdata\":[[163.8,141.6],[181.65,146.2],[234.0,163.0],[137.0,119.0],[155.45454545454547,147.63636363636363],[117.33333333333333,129.0],[27.5,119.0],[125.75,144.0625],[252.29326923076923,146.84615384615384],[89.0,116.0],[152.76923076923077,137.33333333333334],[159.85714285714286,127.57142857142857],[203.0,142.35],[165.0,128.0],[82.72727272727273,113.4090909090909],[171.59459459459458,131.54954954954954],[69.4,105.4],[185.6,158.4],[157.0,133.33333333333334],[110.0,123.0],[209.275,145.125],[159.30434782608697,127.52173913043478],[146.55172413793105,130.3793103448276],[63.666666666666664,139.0],[228.0,141.5],[254.85714285714286,148.0],[130.07407407407408,119.11111111111111],[179.51821862348177,133.08906882591094],[100.6,114.8],[148.6,136.0],[144.42857142857142,144.0],[216.4488888888889,142.77333333333334],[67.0,150.66666666666666],[84.0,106.0],[251.74444444444444,155.32222222222222],[0.0,166.0],[199.28571428571428,125.71428571428571],[\"(?)\",119.41428571428571],[\"(?)\",146.59922178988327],[\"(?)\",140.8095238095238],[\"(?)\",138.32187857961054],[84.0,106.0],[\"(?)\",130.41379310344828],[\"(?)\",138.74461292897047]],\"domain\":{\"x\":[0.0,1.0],\"y\":[0.0,1.0]},\"hovertemplate\":\"labels=%{label}<br>class_counts=%{value}<br>parent=%{parent}<br>id=%{id}<br>overall_elo_xenos=%{customdata[0]}<br>overall_score_xenos=%{color}<extra></extra>\",\"ids\":[\"R1 Structures: Frequency and Overall Score for xenos/PI/1_m / 0_ts / 1_lab / 1_pi / 0_ac1 / 0_ac2\",\"R1 Structures: Frequency and Overall Score for xenos/lab/1_m / 0_ts / 2_lab / 0_pi / 0_ac1 / 0_ac2\",\"R1 Structures: Frequency and Overall Score for xenos/ac1/1_m / 1_ts / 0_lab / 0_pi / 1_ac1 / 0_ac2\",\"R1 Structures: Frequency and Overall Score for xenos/PI/1_m / 1_ts / 0_lab / 1_pi / 0_ac1 / 0_ac2\",\"R1 Structures: Frequency and Overall Score for xenos/lab/1_m / 1_ts / 1_lab / 0_pi / 0_ac1 / 0_ac2\",\"R1 Structures: Frequency and Overall Score for xenos/lab/1_m / 2_ts / 1_lab / 0_pi / 0_ac1 / 0_ac2\",\"R1 Structures: Frequency and Overall Score for xenos/ts/1_m / 3_ts / 0_lab / 0_pi / 0_ac1 / 0_ac2\",\"R1 Structures: Frequency and Overall Score for xenos/ac2/2_m / 0_ts / 0_lab / 0_pi / 0_ac1 / 1_ac2\",\"R1 Structures: Frequency and Overall Score for xenos/ac1/2_m / 0_ts / 0_lab / 0_pi / 1_ac1 / 0_ac2\",\"R1 Structures: Frequency and Overall Score for xenos/PI/2_m / 0_ts / 0_lab / 1_pi / 0_ac1 / 0_ac2\",\"R1 Structures: Frequency and Overall Score for xenos/lab/2_m / 0_ts / 1_lab / 0_pi / 0_ac1 / 0_ac2\",\"R1 Structures: Frequency and Overall Score for xenos/PI/2_m / 0_ts / 1_lab / 1_pi / 0_ac1 / 0_ac2\",\"R1 Structures: Frequency and Overall Score for xenos/lab/2_m / 0_ts / 2_lab / 0_pi / 0_ac1 / 0_ac2\",\"R1 Structures: Frequency and Overall Score for xenos/ac1/2_m / 1_ts / 0_lab / 0_pi / 1_ac1 / 0_ac2\",\"R1 Structures: Frequency and Overall Score for xenos/PI/2_m / 1_ts / 0_lab / 1_pi / 0_ac1 / 0_ac2\",\"R1 Structures: Frequency and Overall Score for xenos/lab/2_m / 1_ts / 1_lab / 0_pi / 0_ac1 / 0_ac2\",\"R1 Structures: Frequency and Overall Score for xenos/ts/2_m / 2_ts / 0_lab / 0_pi / 0_ac1 / 0_ac2\",\"R1 Structures: Frequency and Overall Score for xenos/lab/2_m / 2_ts / 1_lab / 0_pi / 0_ac1 / 0_ac2\",\"R1 Structures: Frequency and Overall Score for xenos/ts/2_m / 3_ts / 0_lab / 0_pi / 0_ac1 / 0_ac2\",\"R1 Structures: Frequency and Overall Score for xenos/ac2/3_m / 0_ts / 0_lab / 0_pi / 0_ac1 / 1_ac2\",\"R1 Structures: Frequency and Overall Score for xenos/ac1/3_m / 0_ts / 0_lab / 0_pi / 1_ac1 / 0_ac2\",\"R1 Structures: Frequency and Overall Score for xenos/lab/3_m / 0_ts / 1_lab / 0_pi / 0_ac1 / 0_ac2\",\"R1 Structures: Frequency and Overall Score for xenos/lab/3_m / 1_ts / 1_lab / 0_pi / 0_ac1 / 0_ac2\",\"R1 Structures: Frequency and Overall Score for xenos/ts/3_m / 2_ts / 0_lab / 0_pi / 0_ac1 / 0_ac2\",\"R1 Structures: Frequency and Overall Score for xenos/ac2/4_m / 0_ts / 0_lab / 0_pi / 0_ac1 / 1_ac2\",\"R1 Structures: Frequency and Overall Score for xenos/ac1/4_m / 0_ts / 0_lab / 0_pi / 1_ac1 / 0_ac2\",\"R1 Structures: Frequency and Overall Score for xenos/PI/4_m / 0_ts / 0_lab / 1_pi / 0_ac1 / 0_ac2\",\"R1 Structures: Frequency and Overall Score for xenos/lab/4_m / 0_ts / 1_lab / 0_pi / 0_ac1 / 0_ac2\",\"R1 Structures: Frequency and Overall Score for xenos/ts/4_m / 1_ts / 0_lab / 0_pi / 0_ac1 / 0_ac2\",\"R1 Structures: Frequency and Overall Score for xenos/lab/4_m / 1_ts / 1_lab / 0_pi / 0_ac1 / 0_ac2\",\"R1 Structures: Frequency and Overall Score for xenos/ts/4_m / 2_ts / 0_lab / 0_pi / 0_ac1 / 0_ac2\",\"R1 Structures: Frequency and Overall Score for xenos/lab/5_m / 0_ts / 1_lab / 0_pi / 0_ac1 / 0_ac2\",\"R1 Structures: Frequency and Overall Score for xenos/ts/5_m / 1_ts / 0_lab / 0_pi / 0_ac1 / 0_ac2\",\"R1 Structures: Frequency and Overall Score for xenos/m/6_m / 0_ts / 0_lab / 0_pi / 0_ac1 / 0_ac2\",\"R1 Structures: Frequency and Overall Score for xenos/lab/6_m / 0_ts / 1_lab / 0_pi / 0_ac1 / 0_ac2\",\"R1 Structures: Frequency and Overall Score for xenos/ts/6_m / 1_ts / 0_lab / 0_pi / 0_ac1 / 0_ac2\",\"R1 Structures: Frequency and Overall Score for xenos/lab/7_m / 0_ts / 1_lab / 0_pi / 0_ac1 / 0_ac2\",\"R1 Structures: Frequency and Overall Score for xenos/PI\",\"R1 Structures: Frequency and Overall Score for xenos/ac1\",\"R1 Structures: Frequency and Overall Score for xenos/ac2\",\"R1 Structures: Frequency and Overall Score for xenos/lab\",\"R1 Structures: Frequency and Overall Score for xenos/m\",\"R1 Structures: Frequency and Overall Score for xenos/ts\",\"R1 Structures: Frequency and Overall Score for xenos\"],\"labels\":[\"1_m / 0_ts / 1_lab / 1_pi / 0_ac1 / 0_ac2\",\"1_m / 0_ts / 2_lab / 0_pi / 0_ac1 / 0_ac2\",\"1_m / 1_ts / 0_lab / 0_pi / 1_ac1 / 0_ac2\",\"1_m / 1_ts / 0_lab / 1_pi / 0_ac1 / 0_ac2\",\"1_m / 1_ts / 1_lab / 0_pi / 0_ac1 / 0_ac2\",\"1_m / 2_ts / 1_lab / 0_pi / 0_ac1 / 0_ac2\",\"1_m / 3_ts / 0_lab / 0_pi / 0_ac1 / 0_ac2\",\"2_m / 0_ts / 0_lab / 0_pi / 0_ac1 / 1_ac2\",\"2_m / 0_ts / 0_lab / 0_pi / 1_ac1 / 0_ac2\",\"2_m / 0_ts / 0_lab / 1_pi / 0_ac1 / 0_ac2\",\"2_m / 0_ts / 1_lab / 0_pi / 0_ac1 / 0_ac2\",\"2_m / 0_ts / 1_lab / 1_pi / 0_ac1 / 0_ac2\",\"2_m / 0_ts / 2_lab / 0_pi / 0_ac1 / 0_ac2\",\"2_m / 1_ts / 0_lab / 0_pi / 1_ac1 / 0_ac2\",\"2_m / 1_ts / 0_lab / 1_pi / 0_ac1 / 0_ac2\",\"2_m / 1_ts / 1_lab / 0_pi / 0_ac1 / 0_ac2\",\"2_m / 2_ts / 0_lab / 0_pi / 0_ac1 / 0_ac2\",\"2_m / 2_ts / 1_lab / 0_pi / 0_ac1 / 0_ac2\",\"2_m / 3_ts / 0_lab / 0_pi / 0_ac1 / 0_ac2\",\"3_m / 0_ts / 0_lab / 0_pi / 0_ac1 / 1_ac2\",\"3_m / 0_ts / 0_lab / 0_pi / 1_ac1 / 0_ac2\",\"3_m / 0_ts / 1_lab / 0_pi / 0_ac1 / 0_ac2\",\"3_m / 1_ts / 1_lab / 0_pi / 0_ac1 / 0_ac2\",\"3_m / 2_ts / 0_lab / 0_pi / 0_ac1 / 0_ac2\",\"4_m / 0_ts / 0_lab / 0_pi / 0_ac1 / 1_ac2\",\"4_m / 0_ts / 0_lab / 0_pi / 1_ac1 / 0_ac2\",\"4_m / 0_ts / 0_lab / 1_pi / 0_ac1 / 0_ac2\",\"4_m / 0_ts / 1_lab / 0_pi / 0_ac1 / 0_ac2\",\"4_m / 1_ts / 0_lab / 0_pi / 0_ac1 / 0_ac2\",\"4_m / 1_ts / 1_lab / 0_pi / 0_ac1 / 0_ac2\",\"4_m / 2_ts / 0_lab / 0_pi / 0_ac1 / 0_ac2\",\"5_m / 0_ts / 1_lab / 0_pi / 0_ac1 / 0_ac2\",\"5_m / 1_ts / 0_lab / 0_pi / 0_ac1 / 0_ac2\",\"6_m / 0_ts / 0_lab / 0_pi / 0_ac1 / 0_ac2\",\"6_m / 0_ts / 1_lab / 0_pi / 0_ac1 / 0_ac2\",\"6_m / 1_ts / 0_lab / 0_pi / 0_ac1 / 0_ac2\",\"7_m / 0_ts / 1_lab / 0_pi / 0_ac1 / 0_ac2\",\"PI\",\"ac1\",\"ac2\",\"lab\",\"m\",\"ts\",\"R1 Structures: Frequency and Overall Score for xenos\"],\"marker\":{\"coloraxis\":\"coloraxis\",\"colors\":[141.6,146.2,163.0,119.0,147.63636363636363,129.0,119.0,144.0625,146.84615384615384,116.0,137.33333333333334,127.57142857142857,142.35,128.0,113.4090909090909,131.54954954954954,105.4,158.4,133.33333333333334,123.0,145.125,127.52173913043478,130.3793103448276,139.0,141.5,148.0,119.11111111111111,133.08906882591094,114.8,136.0,144.0,142.77333333333334,150.66666666666666,106.0,155.32222222222222,166.0,125.71428571428571,119.41428571428571,146.59922178988327,140.8095238095238,138.32187857961054,106.0,130.41379310344828,138.74461292897047]},\"name\":\"\",\"parents\":[\"R1 Structures: Frequency and Overall Score for xenos/PI\",\"R1 Structures: Frequency and Overall Score for xenos/lab\",\"R1 Structures: Frequency and Overall Score for xenos/ac1\",\"R1 Structures: Frequency and Overall Score for xenos/PI\",\"R1 Structures: Frequency and Overall Score for xenos/lab\",\"R1 Structures: Frequency and Overall Score for xenos/lab\",\"R1 Structures: Frequency and Overall Score for xenos/ts\",\"R1 Structures: Frequency and Overall Score for xenos/ac2\",\"R1 Structures: Frequency and Overall Score for xenos/ac1\",\"R1 Structures: Frequency and Overall Score for xenos/PI\",\"R1 Structures: Frequency and Overall Score for xenos/lab\",\"R1 Structures: Frequency and Overall Score for xenos/PI\",\"R1 Structures: Frequency and Overall Score for xenos/lab\",\"R1 Structures: Frequency and Overall Score for xenos/ac1\",\"R1 Structures: Frequency and Overall Score for xenos/PI\",\"R1 Structures: Frequency and Overall Score for xenos/lab\",\"R1 Structures: Frequency and Overall Score for xenos/ts\",\"R1 Structures: Frequency and Overall Score for xenos/lab\",\"R1 Structures: Frequency and Overall Score for xenos/ts\",\"R1 Structures: Frequency and Overall Score for xenos/ac2\",\"R1 Structures: Frequency and Overall Score for xenos/ac1\",\"R1 Structures: Frequency and Overall Score for xenos/lab\",\"R1 Structures: Frequency and Overall Score for xenos/lab\",\"R1 Structures: Frequency and Overall Score for xenos/ts\",\"R1 Structures: Frequency and Overall Score for xenos/ac2\",\"R1 Structures: Frequency and Overall Score for xenos/ac1\",\"R1 Structures: Frequency and Overall Score for xenos/PI\",\"R1 Structures: Frequency and Overall Score for xenos/lab\",\"R1 Structures: Frequency and Overall Score for xenos/ts\",\"R1 Structures: Frequency and Overall Score for xenos/lab\",\"R1 Structures: Frequency and Overall Score for xenos/ts\",\"R1 Structures: Frequency and Overall Score for xenos/lab\",\"R1 Structures: Frequency and Overall Score for xenos/ts\",\"R1 Structures: Frequency and Overall Score for xenos/m\",\"R1 Structures: Frequency and Overall Score for xenos/lab\",\"R1 Structures: Frequency and Overall Score for xenos/ts\",\"R1 Structures: Frequency and Overall Score for xenos/lab\",\"R1 Structures: Frequency and Overall Score for xenos\",\"R1 Structures: Frequency and Overall Score for xenos\",\"R1 Structures: Frequency and Overall Score for xenos\",\"R1 Structures: Frequency and Overall Score for xenos\",\"R1 Structures: Frequency and Overall Score for xenos\",\"R1 Structures: Frequency and Overall Score for xenos\",\"\"],\"values\":[5,20,1,1,11,3,2,16,208,8,39,7,20,1,22,111,5,5,3,3,40,46,29,3,2,7,27,247,5,20,7,225,3,3,90,1,7,70,257,21,873,3,29,1253],\"type\":\"treemap\"}],                        {\"template\":{\"data\":{\"bar\":[{\"error_x\":{\"color\":\"#2a3f5f\"},\"error_y\":{\"color\":\"#2a3f5f\"},\"marker\":{\"line\":{\"color\":\"#E5ECF6\",\"width\":0.5},\"pattern\":{\"fillmode\":\"overlay\",\"size\":10,\"solidity\":0.2}},\"type\":\"bar\"}],\"barpolar\":[{\"marker\":{\"line\":{\"color\":\"#E5ECF6\",\"width\":0.5},\"pattern\":{\"fillmode\":\"overlay\",\"size\":10,\"solidity\":0.2}},\"type\":\"barpolar\"}],\"carpet\":[{\"aaxis\":{\"endlinecolor\":\"#2a3f5f\",\"gridcolor\":\"white\",\"linecolor\":\"white\",\"minorgridcolor\":\"white\",\"startlinecolor\":\"#2a3f5f\"},\"baxis\":{\"endlinecolor\":\"#2a3f5f\",\"gridcolor\":\"white\",\"linecolor\":\"white\",\"minorgridcolor\":\"white\",\"startlinecolor\":\"#2a3f5f\"},\"type\":\"carpet\"}],\"choropleth\":[{\"colorbar\":{\"outlinewidth\":0,\"ticks\":\"\"},\"type\":\"choropleth\"}],\"contour\":[{\"colorbar\":{\"outlinewidth\":0,\"ticks\":\"\"},\"colorscale\":[[0.0,\"#0d0887\"],[0.1111111111111111,\"#46039f\"],[0.2222222222222222,\"#7201a8\"],[0.3333333333333333,\"#9c179e\"],[0.4444444444444444,\"#bd3786\"],[0.5555555555555556,\"#d8576b\"],[0.6666666666666666,\"#ed7953\"],[0.7777777777777778,\"#fb9f3a\"],[0.8888888888888888,\"#fdca26\"],[1.0,\"#f0f921\"]],\"type\":\"contour\"}],\"contourcarpet\":[{\"colorbar\":{\"outlinewidth\":0,\"ticks\":\"\"},\"type\":\"contourcarpet\"}],\"heatmap\":[{\"colorbar\":{\"outlinewidth\":0,\"ticks\":\"\"},\"colorscale\":[[0.0,\"#0d0887\"],[0.1111111111111111,\"#46039f\"],[0.2222222222222222,\"#7201a8\"],[0.3333333333333333,\"#9c179e\"],[0.4444444444444444,\"#bd3786\"],[0.5555555555555556,\"#d8576b\"],[0.6666666666666666,\"#ed7953\"],[0.7777777777777778,\"#fb9f3a\"],[0.8888888888888888,\"#fdca26\"],[1.0,\"#f0f921\"]],\"type\":\"heatmap\"}],\"heatmapgl\":[{\"colorbar\":{\"outlinewidth\":0,\"ticks\":\"\"},\"colorscale\":[[0.0,\"#0d0887\"],[0.1111111111111111,\"#46039f\"],[0.2222222222222222,\"#7201a8\"],[0.3333333333333333,\"#9c179e\"],[0.4444444444444444,\"#bd3786\"],[0.5555555555555556,\"#d8576b\"],[0.6666666666666666,\"#ed7953\"],[0.7777777777777778,\"#fb9f3a\"],[0.8888888888888888,\"#fdca26\"],[1.0,\"#f0f921\"]],\"type\":\"heatmapgl\"}],\"histogram\":[{\"marker\":{\"pattern\":{\"fillmode\":\"overlay\",\"size\":10,\"solidity\":0.2}},\"type\":\"histogram\"}],\"histogram2d\":[{\"colorbar\":{\"outlinewidth\":0,\"ticks\":\"\"},\"colorscale\":[[0.0,\"#0d0887\"],[0.1111111111111111,\"#46039f\"],[0.2222222222222222,\"#7201a8\"],[0.3333333333333333,\"#9c179e\"],[0.4444444444444444,\"#bd3786\"],[0.5555555555555556,\"#d8576b\"],[0.6666666666666666,\"#ed7953\"],[0.7777777777777778,\"#fb9f3a\"],[0.8888888888888888,\"#fdca26\"],[1.0,\"#f0f921\"]],\"type\":\"histogram2d\"}],\"histogram2dcontour\":[{\"colorbar\":{\"outlinewidth\":0,\"ticks\":\"\"},\"colorscale\":[[0.0,\"#0d0887\"],[0.1111111111111111,\"#46039f\"],[0.2222222222222222,\"#7201a8\"],[0.3333333333333333,\"#9c179e\"],[0.4444444444444444,\"#bd3786\"],[0.5555555555555556,\"#d8576b\"],[0.6666666666666666,\"#ed7953\"],[0.7777777777777778,\"#fb9f3a\"],[0.8888888888888888,\"#fdca26\"],[1.0,\"#f0f921\"]],\"type\":\"histogram2dcontour\"}],\"mesh3d\":[{\"colorbar\":{\"outlinewidth\":0,\"ticks\":\"\"},\"type\":\"mesh3d\"}],\"parcoords\":[{\"line\":{\"colorbar\":{\"outlinewidth\":0,\"ticks\":\"\"}},\"type\":\"parcoords\"}],\"pie\":[{\"automargin\":true,\"type\":\"pie\"}],\"scatter\":[{\"marker\":{\"colorbar\":{\"outlinewidth\":0,\"ticks\":\"\"}},\"type\":\"scatter\"}],\"scatter3d\":[{\"line\":{\"colorbar\":{\"outlinewidth\":0,\"ticks\":\"\"}},\"marker\":{\"colorbar\":{\"outlinewidth\":0,\"ticks\":\"\"}},\"type\":\"scatter3d\"}],\"scattercarpet\":[{\"marker\":{\"colorbar\":{\"outlinewidth\":0,\"ticks\":\"\"}},\"type\":\"scattercarpet\"}],\"scattergeo\":[{\"marker\":{\"colorbar\":{\"outlinewidth\":0,\"ticks\":\"\"}},\"type\":\"scattergeo\"}],\"scattergl\":[{\"marker\":{\"colorbar\":{\"outlinewidth\":0,\"ticks\":\"\"}},\"type\":\"scattergl\"}],\"scattermapbox\":[{\"marker\":{\"colorbar\":{\"outlinewidth\":0,\"ticks\":\"\"}},\"type\":\"scattermapbox\"}],\"scatterpolar\":[{\"marker\":{\"colorbar\":{\"outlinewidth\":0,\"ticks\":\"\"}},\"type\":\"scatterpolar\"}],\"scatterpolargl\":[{\"marker\":{\"colorbar\":{\"outlinewidth\":0,\"ticks\":\"\"}},\"type\":\"scatterpolargl\"}],\"scatterternary\":[{\"marker\":{\"colorbar\":{\"outlinewidth\":0,\"ticks\":\"\"}},\"type\":\"scatterternary\"}],\"surface\":[{\"colorbar\":{\"outlinewidth\":0,\"ticks\":\"\"},\"colorscale\":[[0.0,\"#0d0887\"],[0.1111111111111111,\"#46039f\"],[0.2222222222222222,\"#7201a8\"],[0.3333333333333333,\"#9c179e\"],[0.4444444444444444,\"#bd3786\"],[0.5555555555555556,\"#d8576b\"],[0.6666666666666666,\"#ed7953\"],[0.7777777777777778,\"#fb9f3a\"],[0.8888888888888888,\"#fdca26\"],[1.0,\"#f0f921\"]],\"type\":\"surface\"}],\"table\":[{\"cells\":{\"fill\":{\"color\":\"#EBF0F8\"},\"line\":{\"color\":\"white\"}},\"header\":{\"fill\":{\"color\":\"#C8D4E3\"},\"line\":{\"color\":\"white\"}},\"type\":\"table\"}]},\"layout\":{\"annotationdefaults\":{\"arrowcolor\":\"#2a3f5f\",\"arrowhead\":0,\"arrowwidth\":1},\"autotypenumbers\":\"strict\",\"coloraxis\":{\"colorbar\":{\"outlinewidth\":0,\"ticks\":\"\"}},\"colorscale\":{\"diverging\":[[0,\"#8e0152\"],[0.1,\"#c51b7d\"],[0.2,\"#de77ae\"],[0.3,\"#f1b6da\"],[0.4,\"#fde0ef\"],[0.5,\"#f7f7f7\"],[0.6,\"#e6f5d0\"],[0.7,\"#b8e186\"],[0.8,\"#7fbc41\"],[0.9,\"#4d9221\"],[1,\"#276419\"]],\"sequential\":[[0.0,\"#0d0887\"],[0.1111111111111111,\"#46039f\"],[0.2222222222222222,\"#7201a8\"],[0.3333333333333333,\"#9c179e\"],[0.4444444444444444,\"#bd3786\"],[0.5555555555555556,\"#d8576b\"],[0.6666666666666666,\"#ed7953\"],[0.7777777777777778,\"#fb9f3a\"],[0.8888888888888888,\"#fdca26\"],[1.0,\"#f0f921\"]],\"sequentialminus\":[[0.0,\"#0d0887\"],[0.1111111111111111,\"#46039f\"],[0.2222222222222222,\"#7201a8\"],[0.3333333333333333,\"#9c179e\"],[0.4444444444444444,\"#bd3786\"],[0.5555555555555556,\"#d8576b\"],[0.6666666666666666,\"#ed7953\"],[0.7777777777777778,\"#fb9f3a\"],[0.8888888888888888,\"#fdca26\"],[1.0,\"#f0f921\"]]},\"colorway\":[\"#636efa\",\"#EF553B\",\"#00cc96\",\"#ab63fa\",\"#FFA15A\",\"#19d3f3\",\"#FF6692\",\"#B6E880\",\"#FF97FF\",\"#FECB52\"],\"font\":{\"color\":\"#2a3f5f\"},\"geo\":{\"bgcolor\":\"white\",\"lakecolor\":\"white\",\"landcolor\":\"#E5ECF6\",\"showlakes\":true,\"showland\":true,\"subunitcolor\":\"white\"},\"hoverlabel\":{\"align\":\"left\"},\"hovermode\":\"closest\",\"mapbox\":{\"style\":\"light\"},\"paper_bgcolor\":\"white\",\"plot_bgcolor\":\"#E5ECF6\",\"polar\":{\"angularaxis\":{\"gridcolor\":\"white\",\"linecolor\":\"white\",\"ticks\":\"\"},\"bgcolor\":\"#E5ECF6\",\"radialaxis\":{\"gridcolor\":\"white\",\"linecolor\":\"white\",\"ticks\":\"\"}},\"scene\":{\"xaxis\":{\"backgroundcolor\":\"#E5ECF6\",\"gridcolor\":\"white\",\"gridwidth\":2,\"linecolor\":\"white\",\"showbackground\":true,\"ticks\":\"\",\"zerolinecolor\":\"white\"},\"yaxis\":{\"backgroundcolor\":\"#E5ECF6\",\"gridcolor\":\"white\",\"gridwidth\":2,\"linecolor\":\"white\",\"showbackground\":true,\"ticks\":\"\",\"zerolinecolor\":\"white\"},\"zaxis\":{\"backgroundcolor\":\"#E5ECF6\",\"gridcolor\":\"white\",\"gridwidth\":2,\"linecolor\":\"white\",\"showbackground\":true,\"ticks\":\"\",\"zerolinecolor\":\"white\"}},\"shapedefaults\":{\"line\":{\"color\":\"#2a3f5f\"}},\"ternary\":{\"aaxis\":{\"gridcolor\":\"white\",\"linecolor\":\"white\",\"ticks\":\"\"},\"baxis\":{\"gridcolor\":\"white\",\"linecolor\":\"white\",\"ticks\":\"\"},\"bgcolor\":\"#E5ECF6\",\"caxis\":{\"gridcolor\":\"white\",\"linecolor\":\"white\",\"ticks\":\"\"}},\"title\":{\"x\":0.05},\"xaxis\":{\"automargin\":true,\"gridcolor\":\"white\",\"linecolor\":\"white\",\"ticks\":\"\",\"title\":{\"standoff\":15},\"zerolinecolor\":\"white\",\"zerolinewidth\":2},\"yaxis\":{\"automargin\":true,\"gridcolor\":\"white\",\"linecolor\":\"white\",\"ticks\":\"\",\"title\":{\"standoff\":15},\"zerolinecolor\":\"white\",\"zerolinewidth\":2}}},\"coloraxis\":{\"colorbar\":{\"title\":{\"text\":\"overall_score_xenos\"}},\"colorscale\":[[0.0,\"rgb(103,0,31)\"],[0.1,\"rgb(178,24,43)\"],[0.2,\"rgb(214,96,77)\"],[0.3,\"rgb(244,165,130)\"],[0.4,\"rgb(253,219,199)\"],[0.5,\"rgb(247,247,247)\"],[0.6,\"rgb(209,229,240)\"],[0.7,\"rgb(146,197,222)\"],[0.8,\"rgb(67,147,195)\"],[0.9,\"rgb(33,102,172)\"],[1.0,\"rgb(5,48,97)\"]],\"cmid\":136.0},\"legend\":{\"tracegroupgap\":0},\"margin\":{\"t\":50,\"l\":25,\"r\":25,\"b\":25}},                        {\"responsive\": true}                    ).then(function(){\n",
       "                            \n",
       "var gd = document.getElementById('a53cf9b3-6473-4b94-81ba-b0585ff93541');\n",
       "var x = new MutationObserver(function (mutations, observer) {{\n",
       "        var display = window.getComputedStyle(gd).display;\n",
       "        if (!display || display === 'none') {{\n",
       "            console.log([gd, 'removed!']);\n",
       "            Plotly.purge(gd);\n",
       "            observer.disconnect();\n",
       "        }}\n",
       "}});\n",
       "\n",
       "// Listen for the removal of the full notebook cells\n",
       "var notebookContainer = gd.closest('#notebook-container');\n",
       "if (notebookContainer) {{\n",
       "    x.observe(notebookContainer, {childList: true});\n",
       "}}\n",
       "\n",
       "// Listen for the clearing of the current output cell\n",
       "var outputEl = gd.closest('.output');\n",
       "if (outputEl) {{\n",
       "    x.observe(outputEl, {childList: true});\n",
       "}}\n",
       "\n",
       "                        })                };                });            </script>        </div>"
      ]
     },
     "metadata": {},
     "output_type": "display_data"
    },
    {
     "data": {
      "application/vnd.plotly.v1+json": {
       "config": {
        "plotlyServerURL": "https://plot.ly"
       },
       "data": [
        {
         "branchvalues": "total",
         "customdata": [
          [
           206,
           110.33333333333333
          ],
          [
           176.66666666666666,
           142.66666666666666
          ],
          [
           37,
           78
          ],
          [
           134,
           143
          ],
          [
           82,
           138
          ],
          [
           271.55555555555554,
           135.5873015873016
          ],
          [
           207.2,
           88
          ],
          [
           225.6315789473684,
           135.57894736842104
          ],
          [
           345,
           181
          ],
          [
           133,
           85.5
          ],
          [
           195.83333333333334,
           118.5
          ],
          [
           208.48648648648648,
           139.43243243243242
          ],
          [
           222.5,
           129
          ],
          [
           276.46666666666664,
           137.06666666666666
          ],
          [
           173.40714285714284,
           133.27857142857144
          ],
          [
           215.29357798165137,
           142.37614678899084
          ],
          [
           245,
           176
          ],
          [
           222,
           98
          ],
          [
           229.71428571428572,
           146.1904761904762
          ],
          [
           206.44117647058823,
           150.35294117647058
          ],
          [
           144.8,
           114.2
          ],
          [
           169.7621951219512,
           135.34756097560975
          ],
          [
           196.03571428571428,
           132.96428571428572
          ],
          [
           0.6666666666666666,
           88.66666666666667
          ],
          [
           276.5,
           166.5
          ],
          [
           244.14556962025316,
           147.12025316455697
          ],
          [
           225.75,
           137.95454545454547
          ],
          [
           270.65555555555557,
           166.87777777777777
          ],
          [
           221,
           170.5
          ],
          [
           270.7,
           193.4
          ],
          [
           135,
           160
          ],
          [
           151,
           215
          ],
          [
           343.57142857142856,
           191.57142857142858
          ],
          [
           266.6666666666667,
           196.66666666666666
          ],
          [
           "(?)",
           144.67323481116586
          ],
          [
           "(?)",
           135.87179487179486
          ],
          [
           82,
           138
          ],
          [
           "(?)",
           140.33548387096775
          ],
          [
           "(?)",
           106.88888888888889
          ],
          [
           "(?)",
           141.998031496063
          ]
         ],
         "domain": {
          "x": [
           0,
           1
          ],
          "y": [
           0,
           1
          ]
         },
         "hovertemplate": "labels=%{label}<br>class_counts=%{value}<br>parent=%{parent}<br>id=%{id}<br>overall_elo_lantids=%{customdata[0]}<br>overall_score_lantids=%{color}<extra></extra>",
         "ids": [
          "R1 Structures: Frequency and Overall Score for lantids/lab/0_m / 0_ts / 2_lab / 0_pi / 0_ac1 / 0_ac2",
          "R1 Structures: Frequency and Overall Score for lantids/lab/0_m / 1_ts / 1_lab / 0_pi / 0_ac1 / 0_ac2",
          "R1 Structures: Frequency and Overall Score for lantids/ts/0_m / 2_ts / 0_lab / 0_pi / 0_ac1 / 0_ac2",
          "R1 Structures: Frequency and Overall Score for lantids/ts/0_m / 3_ts / 0_lab / 0_pi / 0_ac1 / 0_ac2",
          "R1 Structures: Frequency and Overall Score for lantids/ac2/1_m / 0_ts / 0_lab / 0_pi / 0_ac1 / 1_ac2",
          "R1 Structures: Frequency and Overall Score for lantids/ac1/1_m / 0_ts / 0_lab / 0_pi / 1_ac1 / 0_ac2",
          "R1 Structures: Frequency and Overall Score for lantids/PI/1_m / 0_ts / 0_lab / 1_pi / 0_ac1 / 0_ac2",
          "R1 Structures: Frequency and Overall Score for lantids/lab/1_m / 0_ts / 1_lab / 0_pi / 0_ac1 / 0_ac2",
          "R1 Structures: Frequency and Overall Score for lantids/lab/1_m / 0_ts / 2_lab / 0_pi / 0_ac1 / 0_ac2",
          "R1 Structures: Frequency and Overall Score for lantids/ts/1_m / 1_ts / 0_lab / 0_pi / 0_ac1 / 0_ac2",
          "R1 Structures: Frequency and Overall Score for lantids/PI/1_m / 1_ts / 0_lab / 1_pi / 0_ac1 / 0_ac2",
          "R1 Structures: Frequency and Overall Score for lantids/lab/1_m / 1_ts / 1_lab / 0_pi / 0_ac1 / 0_ac2",
          "R1 Structures: Frequency and Overall Score for lantids/ts/1_m / 2_ts / 0_lab / 0_pi / 0_ac1 / 0_ac2",
          "R1 Structures: Frequency and Overall Score for lantids/ac1/2_m / 0_ts / 0_lab / 0_pi / 1_ac1 / 0_ac2",
          "R1 Structures: Frequency and Overall Score for lantids/PI/2_m / 0_ts / 0_lab / 1_pi / 0_ac1 / 0_ac2",
          "R1 Structures: Frequency and Overall Score for lantids/lab/2_m / 0_ts / 1_lab / 0_pi / 0_ac1 / 0_ac2",
          "R1 Structures: Frequency and Overall Score for lantids/PI/2_m / 0_ts / 1_lab / 1_pi / 0_ac1 / 0_ac2",
          "R1 Structures: Frequency and Overall Score for lantids/ts/2_m / 1_ts / 0_lab / 0_pi / 0_ac1 / 0_ac2",
          "R1 Structures: Frequency and Overall Score for lantids/PI/2_m / 1_ts / 0_lab / 1_pi / 0_ac1 / 0_ac2",
          "R1 Structures: Frequency and Overall Score for lantids/lab/2_m / 1_ts / 1_lab / 0_pi / 0_ac1 / 0_ac2",
          "R1 Structures: Frequency and Overall Score for lantids/ts/2_m / 2_ts / 0_lab / 0_pi / 0_ac1 / 0_ac2",
          "R1 Structures: Frequency and Overall Score for lantids/PI/3_m / 0_ts / 0_lab / 1_pi / 0_ac1 / 0_ac2",
          "R1 Structures: Frequency and Overall Score for lantids/lab/3_m / 0_ts / 1_lab / 0_pi / 0_ac1 / 0_ac2",
          "R1 Structures: Frequency and Overall Score for lantids/ts/3_m / 1_ts / 0_lab / 0_pi / 0_ac1 / 0_ac2",
          "R1 Structures: Frequency and Overall Score for lantids/PI/3_m / 1_ts / 0_lab / 1_pi / 0_ac1 / 0_ac2",
          "R1 Structures: Frequency and Overall Score for lantids/PI/4_m / 0_ts / 0_lab / 1_pi / 0_ac1 / 0_ac2",
          "R1 Structures: Frequency and Overall Score for lantids/lab/4_m / 0_ts / 1_lab / 0_pi / 0_ac1 / 0_ac2",
          "R1 Structures: Frequency and Overall Score for lantids/PI/5_m / 0_ts / 0_lab / 1_pi / 0_ac1 / 0_ac2",
          "R1 Structures: Frequency and Overall Score for lantids/lab/5_m / 0_ts / 1_lab / 0_pi / 0_ac1 / 0_ac2",
          "R1 Structures: Frequency and Overall Score for lantids/PI/6_m / 0_ts / 0_lab / 1_pi / 0_ac1 / 0_ac2",
          "R1 Structures: Frequency and Overall Score for lantids/lab/6_m / 0_ts / 1_lab / 0_pi / 0_ac1 / 0_ac2",
          "R1 Structures: Frequency and Overall Score for lantids/PI/6_m / 1_ts / 0_lab / 1_pi / 0_ac1 / 0_ac2",
          "R1 Structures: Frequency and Overall Score for lantids/PI/7_m / 0_ts / 0_lab / 1_pi / 0_ac1 / 0_ac2",
          "R1 Structures: Frequency and Overall Score for lantids/PI/8_m / 0_ts / 0_lab / 1_pi / 0_ac1 / 0_ac2",
          "R1 Structures: Frequency and Overall Score for lantids/PI",
          "R1 Structures: Frequency and Overall Score for lantids/ac1",
          "R1 Structures: Frequency and Overall Score for lantids/ac2",
          "R1 Structures: Frequency and Overall Score for lantids/lab",
          "R1 Structures: Frequency and Overall Score for lantids/ts",
          "R1 Structures: Frequency and Overall Score for lantids"
         ],
         "labels": [
          "0_m / 0_ts / 2_lab / 0_pi / 0_ac1 / 0_ac2",
          "0_m / 1_ts / 1_lab / 0_pi / 0_ac1 / 0_ac2",
          "0_m / 2_ts / 0_lab / 0_pi / 0_ac1 / 0_ac2",
          "0_m / 3_ts / 0_lab / 0_pi / 0_ac1 / 0_ac2",
          "1_m / 0_ts / 0_lab / 0_pi / 0_ac1 / 1_ac2",
          "1_m / 0_ts / 0_lab / 0_pi / 1_ac1 / 0_ac2",
          "1_m / 0_ts / 0_lab / 1_pi / 0_ac1 / 0_ac2",
          "1_m / 0_ts / 1_lab / 0_pi / 0_ac1 / 0_ac2",
          "1_m / 0_ts / 2_lab / 0_pi / 0_ac1 / 0_ac2",
          "1_m / 1_ts / 0_lab / 0_pi / 0_ac1 / 0_ac2",
          "1_m / 1_ts / 0_lab / 1_pi / 0_ac1 / 0_ac2",
          "1_m / 1_ts / 1_lab / 0_pi / 0_ac1 / 0_ac2",
          "1_m / 2_ts / 0_lab / 0_pi / 0_ac1 / 0_ac2",
          "2_m / 0_ts / 0_lab / 0_pi / 1_ac1 / 0_ac2",
          "2_m / 0_ts / 0_lab / 1_pi / 0_ac1 / 0_ac2",
          "2_m / 0_ts / 1_lab / 0_pi / 0_ac1 / 0_ac2",
          "2_m / 0_ts / 1_lab / 1_pi / 0_ac1 / 0_ac2",
          "2_m / 1_ts / 0_lab / 0_pi / 0_ac1 / 0_ac2",
          "2_m / 1_ts / 0_lab / 1_pi / 0_ac1 / 0_ac2",
          "2_m / 1_ts / 1_lab / 0_pi / 0_ac1 / 0_ac2",
          "2_m / 2_ts / 0_lab / 0_pi / 0_ac1 / 0_ac2",
          "3_m / 0_ts / 0_lab / 1_pi / 0_ac1 / 0_ac2",
          "3_m / 0_ts / 1_lab / 0_pi / 0_ac1 / 0_ac2",
          "3_m / 1_ts / 0_lab / 0_pi / 0_ac1 / 0_ac2",
          "3_m / 1_ts / 0_lab / 1_pi / 0_ac1 / 0_ac2",
          "4_m / 0_ts / 0_lab / 1_pi / 0_ac1 / 0_ac2",
          "4_m / 0_ts / 1_lab / 0_pi / 0_ac1 / 0_ac2",
          "5_m / 0_ts / 0_lab / 1_pi / 0_ac1 / 0_ac2",
          "5_m / 0_ts / 1_lab / 0_pi / 0_ac1 / 0_ac2",
          "6_m / 0_ts / 0_lab / 1_pi / 0_ac1 / 0_ac2",
          "6_m / 0_ts / 1_lab / 0_pi / 0_ac1 / 0_ac2",
          "6_m / 1_ts / 0_lab / 1_pi / 0_ac1 / 0_ac2",
          "7_m / 0_ts / 0_lab / 1_pi / 0_ac1 / 0_ac2",
          "8_m / 0_ts / 0_lab / 1_pi / 0_ac1 / 0_ac2",
          "PI",
          "ac1",
          "ac2",
          "lab",
          "ts",
          "R1 Structures: Frequency and Overall Score for lantids"
         ],
         "marker": {
          "coloraxis": "coloraxis",
          "colors": [
           110.33333333333333,
           142.66666666666666,
           78,
           143,
           138,
           135.5873015873016,
           88,
           135.57894736842104,
           181,
           85.5,
           118.5,
           139.43243243243242,
           129,
           137.06666666666666,
           133.27857142857144,
           142.37614678899084,
           176,
           98,
           146.1904761904762,
           150.35294117647058,
           114.2,
           135.34756097560975,
           132.96428571428572,
           88.66666666666667,
           166.5,
           147.12025316455697,
           137.95454545454547,
           166.87777777777777,
           170.5,
           193.4,
           160,
           215,
           191.57142857142858,
           196.66666666666666,
           144.67323481116586,
           135.87179487179486,
           138,
           140.33548387096775,
           106.88888888888889,
           141.998031496063
          ]
         },
         "name": "",
         "parents": [
          "R1 Structures: Frequency and Overall Score for lantids/lab",
          "R1 Structures: Frequency and Overall Score for lantids/lab",
          "R1 Structures: Frequency and Overall Score for lantids/ts",
          "R1 Structures: Frequency and Overall Score for lantids/ts",
          "R1 Structures: Frequency and Overall Score for lantids/ac2",
          "R1 Structures: Frequency and Overall Score for lantids/ac1",
          "R1 Structures: Frequency and Overall Score for lantids/PI",
          "R1 Structures: Frequency and Overall Score for lantids/lab",
          "R1 Structures: Frequency and Overall Score for lantids/lab",
          "R1 Structures: Frequency and Overall Score for lantids/ts",
          "R1 Structures: Frequency and Overall Score for lantids/PI",
          "R1 Structures: Frequency and Overall Score for lantids/lab",
          "R1 Structures: Frequency and Overall Score for lantids/ts",
          "R1 Structures: Frequency and Overall Score for lantids/ac1",
          "R1 Structures: Frequency and Overall Score for lantids/PI",
          "R1 Structures: Frequency and Overall Score for lantids/lab",
          "R1 Structures: Frequency and Overall Score for lantids/PI",
          "R1 Structures: Frequency and Overall Score for lantids/ts",
          "R1 Structures: Frequency and Overall Score for lantids/PI",
          "R1 Structures: Frequency and Overall Score for lantids/lab",
          "R1 Structures: Frequency and Overall Score for lantids/ts",
          "R1 Structures: Frequency and Overall Score for lantids/PI",
          "R1 Structures: Frequency and Overall Score for lantids/lab",
          "R1 Structures: Frequency and Overall Score for lantids/ts",
          "R1 Structures: Frequency and Overall Score for lantids/PI",
          "R1 Structures: Frequency and Overall Score for lantids/PI",
          "R1 Structures: Frequency and Overall Score for lantids/lab",
          "R1 Structures: Frequency and Overall Score for lantids/PI",
          "R1 Structures: Frequency and Overall Score for lantids/lab",
          "R1 Structures: Frequency and Overall Score for lantids/PI",
          "R1 Structures: Frequency and Overall Score for lantids/lab",
          "R1 Structures: Frequency and Overall Score for lantids/PI",
          "R1 Structures: Frequency and Overall Score for lantids/PI",
          "R1 Structures: Frequency and Overall Score for lantids/PI",
          "R1 Structures: Frequency and Overall Score for lantids",
          "R1 Structures: Frequency and Overall Score for lantids",
          "R1 Structures: Frequency and Overall Score for lantids",
          "R1 Structures: Frequency and Overall Score for lantids",
          "R1 Structures: Frequency and Overall Score for lantids",
          ""
         ],
         "type": "treemap",
         "values": [
          3,
          3,
          1,
          2,
          1,
          63,
          5,
          19,
          2,
          2,
          6,
          37,
          2,
          15,
          140,
          109,
          2,
          3,
          21,
          34,
          5,
          164,
          56,
          3,
          2,
          158,
          44,
          90,
          2,
          10,
          1,
          1,
          7,
          3,
          609,
          78,
          1,
          310,
          18,
          1016
         ]
        }
       ],
       "layout": {
        "coloraxis": {
         "cmid": 138.7162162162162,
         "colorbar": {
          "title": {
           "text": "overall_score_lantids"
          }
         },
         "colorscale": [
          [
           0,
           "rgb(103,0,31)"
          ],
          [
           0.1,
           "rgb(178,24,43)"
          ],
          [
           0.2,
           "rgb(214,96,77)"
          ],
          [
           0.3,
           "rgb(244,165,130)"
          ],
          [
           0.4,
           "rgb(253,219,199)"
          ],
          [
           0.5,
           "rgb(247,247,247)"
          ],
          [
           0.6,
           "rgb(209,229,240)"
          ],
          [
           0.7,
           "rgb(146,197,222)"
          ],
          [
           0.8,
           "rgb(67,147,195)"
          ],
          [
           0.9,
           "rgb(33,102,172)"
          ],
          [
           1,
           "rgb(5,48,97)"
          ]
         ]
        },
        "legend": {
         "tracegroupgap": 0
        },
        "margin": {
         "b": 25,
         "l": 25,
         "r": 25,
         "t": 50
        },
        "template": {
         "data": {
          "bar": [
           {
            "error_x": {
             "color": "#2a3f5f"
            },
            "error_y": {
             "color": "#2a3f5f"
            },
            "marker": {
             "line": {
              "color": "#E5ECF6",
              "width": 0.5
             },
             "pattern": {
              "fillmode": "overlay",
              "size": 10,
              "solidity": 0.2
             }
            },
            "type": "bar"
           }
          ],
          "barpolar": [
           {
            "marker": {
             "line": {
              "color": "#E5ECF6",
              "width": 0.5
             },
             "pattern": {
              "fillmode": "overlay",
              "size": 10,
              "solidity": 0.2
             }
            },
            "type": "barpolar"
           }
          ],
          "carpet": [
           {
            "aaxis": {
             "endlinecolor": "#2a3f5f",
             "gridcolor": "white",
             "linecolor": "white",
             "minorgridcolor": "white",
             "startlinecolor": "#2a3f5f"
            },
            "baxis": {
             "endlinecolor": "#2a3f5f",
             "gridcolor": "white",
             "linecolor": "white",
             "minorgridcolor": "white",
             "startlinecolor": "#2a3f5f"
            },
            "type": "carpet"
           }
          ],
          "choropleth": [
           {
            "colorbar": {
             "outlinewidth": 0,
             "ticks": ""
            },
            "type": "choropleth"
           }
          ],
          "contour": [
           {
            "colorbar": {
             "outlinewidth": 0,
             "ticks": ""
            },
            "colorscale": [
             [
              0,
              "#0d0887"
             ],
             [
              0.1111111111111111,
              "#46039f"
             ],
             [
              0.2222222222222222,
              "#7201a8"
             ],
             [
              0.3333333333333333,
              "#9c179e"
             ],
             [
              0.4444444444444444,
              "#bd3786"
             ],
             [
              0.5555555555555556,
              "#d8576b"
             ],
             [
              0.6666666666666666,
              "#ed7953"
             ],
             [
              0.7777777777777778,
              "#fb9f3a"
             ],
             [
              0.8888888888888888,
              "#fdca26"
             ],
             [
              1,
              "#f0f921"
             ]
            ],
            "type": "contour"
           }
          ],
          "contourcarpet": [
           {
            "colorbar": {
             "outlinewidth": 0,
             "ticks": ""
            },
            "type": "contourcarpet"
           }
          ],
          "heatmap": [
           {
            "colorbar": {
             "outlinewidth": 0,
             "ticks": ""
            },
            "colorscale": [
             [
              0,
              "#0d0887"
             ],
             [
              0.1111111111111111,
              "#46039f"
             ],
             [
              0.2222222222222222,
              "#7201a8"
             ],
             [
              0.3333333333333333,
              "#9c179e"
             ],
             [
              0.4444444444444444,
              "#bd3786"
             ],
             [
              0.5555555555555556,
              "#d8576b"
             ],
             [
              0.6666666666666666,
              "#ed7953"
             ],
             [
              0.7777777777777778,
              "#fb9f3a"
             ],
             [
              0.8888888888888888,
              "#fdca26"
             ],
             [
              1,
              "#f0f921"
             ]
            ],
            "type": "heatmap"
           }
          ],
          "heatmapgl": [
           {
            "colorbar": {
             "outlinewidth": 0,
             "ticks": ""
            },
            "colorscale": [
             [
              0,
              "#0d0887"
             ],
             [
              0.1111111111111111,
              "#46039f"
             ],
             [
              0.2222222222222222,
              "#7201a8"
             ],
             [
              0.3333333333333333,
              "#9c179e"
             ],
             [
              0.4444444444444444,
              "#bd3786"
             ],
             [
              0.5555555555555556,
              "#d8576b"
             ],
             [
              0.6666666666666666,
              "#ed7953"
             ],
             [
              0.7777777777777778,
              "#fb9f3a"
             ],
             [
              0.8888888888888888,
              "#fdca26"
             ],
             [
              1,
              "#f0f921"
             ]
            ],
            "type": "heatmapgl"
           }
          ],
          "histogram": [
           {
            "marker": {
             "pattern": {
              "fillmode": "overlay",
              "size": 10,
              "solidity": 0.2
             }
            },
            "type": "histogram"
           }
          ],
          "histogram2d": [
           {
            "colorbar": {
             "outlinewidth": 0,
             "ticks": ""
            },
            "colorscale": [
             [
              0,
              "#0d0887"
             ],
             [
              0.1111111111111111,
              "#46039f"
             ],
             [
              0.2222222222222222,
              "#7201a8"
             ],
             [
              0.3333333333333333,
              "#9c179e"
             ],
             [
              0.4444444444444444,
              "#bd3786"
             ],
             [
              0.5555555555555556,
              "#d8576b"
             ],
             [
              0.6666666666666666,
              "#ed7953"
             ],
             [
              0.7777777777777778,
              "#fb9f3a"
             ],
             [
              0.8888888888888888,
              "#fdca26"
             ],
             [
              1,
              "#f0f921"
             ]
            ],
            "type": "histogram2d"
           }
          ],
          "histogram2dcontour": [
           {
            "colorbar": {
             "outlinewidth": 0,
             "ticks": ""
            },
            "colorscale": [
             [
              0,
              "#0d0887"
             ],
             [
              0.1111111111111111,
              "#46039f"
             ],
             [
              0.2222222222222222,
              "#7201a8"
             ],
             [
              0.3333333333333333,
              "#9c179e"
             ],
             [
              0.4444444444444444,
              "#bd3786"
             ],
             [
              0.5555555555555556,
              "#d8576b"
             ],
             [
              0.6666666666666666,
              "#ed7953"
             ],
             [
              0.7777777777777778,
              "#fb9f3a"
             ],
             [
              0.8888888888888888,
              "#fdca26"
             ],
             [
              1,
              "#f0f921"
             ]
            ],
            "type": "histogram2dcontour"
           }
          ],
          "mesh3d": [
           {
            "colorbar": {
             "outlinewidth": 0,
             "ticks": ""
            },
            "type": "mesh3d"
           }
          ],
          "parcoords": [
           {
            "line": {
             "colorbar": {
              "outlinewidth": 0,
              "ticks": ""
             }
            },
            "type": "parcoords"
           }
          ],
          "pie": [
           {
            "automargin": true,
            "type": "pie"
           }
          ],
          "scatter": [
           {
            "marker": {
             "colorbar": {
              "outlinewidth": 0,
              "ticks": ""
             }
            },
            "type": "scatter"
           }
          ],
          "scatter3d": [
           {
            "line": {
             "colorbar": {
              "outlinewidth": 0,
              "ticks": ""
             }
            },
            "marker": {
             "colorbar": {
              "outlinewidth": 0,
              "ticks": ""
             }
            },
            "type": "scatter3d"
           }
          ],
          "scattercarpet": [
           {
            "marker": {
             "colorbar": {
              "outlinewidth": 0,
              "ticks": ""
             }
            },
            "type": "scattercarpet"
           }
          ],
          "scattergeo": [
           {
            "marker": {
             "colorbar": {
              "outlinewidth": 0,
              "ticks": ""
             }
            },
            "type": "scattergeo"
           }
          ],
          "scattergl": [
           {
            "marker": {
             "colorbar": {
              "outlinewidth": 0,
              "ticks": ""
             }
            },
            "type": "scattergl"
           }
          ],
          "scattermapbox": [
           {
            "marker": {
             "colorbar": {
              "outlinewidth": 0,
              "ticks": ""
             }
            },
            "type": "scattermapbox"
           }
          ],
          "scatterpolar": [
           {
            "marker": {
             "colorbar": {
              "outlinewidth": 0,
              "ticks": ""
             }
            },
            "type": "scatterpolar"
           }
          ],
          "scatterpolargl": [
           {
            "marker": {
             "colorbar": {
              "outlinewidth": 0,
              "ticks": ""
             }
            },
            "type": "scatterpolargl"
           }
          ],
          "scatterternary": [
           {
            "marker": {
             "colorbar": {
              "outlinewidth": 0,
              "ticks": ""
             }
            },
            "type": "scatterternary"
           }
          ],
          "surface": [
           {
            "colorbar": {
             "outlinewidth": 0,
             "ticks": ""
            },
            "colorscale": [
             [
              0,
              "#0d0887"
             ],
             [
              0.1111111111111111,
              "#46039f"
             ],
             [
              0.2222222222222222,
              "#7201a8"
             ],
             [
              0.3333333333333333,
              "#9c179e"
             ],
             [
              0.4444444444444444,
              "#bd3786"
             ],
             [
              0.5555555555555556,
              "#d8576b"
             ],
             [
              0.6666666666666666,
              "#ed7953"
             ],
             [
              0.7777777777777778,
              "#fb9f3a"
             ],
             [
              0.8888888888888888,
              "#fdca26"
             ],
             [
              1,
              "#f0f921"
             ]
            ],
            "type": "surface"
           }
          ],
          "table": [
           {
            "cells": {
             "fill": {
              "color": "#EBF0F8"
             },
             "line": {
              "color": "white"
             }
            },
            "header": {
             "fill": {
              "color": "#C8D4E3"
             },
             "line": {
              "color": "white"
             }
            },
            "type": "table"
           }
          ]
         },
         "layout": {
          "annotationdefaults": {
           "arrowcolor": "#2a3f5f",
           "arrowhead": 0,
           "arrowwidth": 1
          },
          "autotypenumbers": "strict",
          "coloraxis": {
           "colorbar": {
            "outlinewidth": 0,
            "ticks": ""
           }
          },
          "colorscale": {
           "diverging": [
            [
             0,
             "#8e0152"
            ],
            [
             0.1,
             "#c51b7d"
            ],
            [
             0.2,
             "#de77ae"
            ],
            [
             0.3,
             "#f1b6da"
            ],
            [
             0.4,
             "#fde0ef"
            ],
            [
             0.5,
             "#f7f7f7"
            ],
            [
             0.6,
             "#e6f5d0"
            ],
            [
             0.7,
             "#b8e186"
            ],
            [
             0.8,
             "#7fbc41"
            ],
            [
             0.9,
             "#4d9221"
            ],
            [
             1,
             "#276419"
            ]
           ],
           "sequential": [
            [
             0,
             "#0d0887"
            ],
            [
             0.1111111111111111,
             "#46039f"
            ],
            [
             0.2222222222222222,
             "#7201a8"
            ],
            [
             0.3333333333333333,
             "#9c179e"
            ],
            [
             0.4444444444444444,
             "#bd3786"
            ],
            [
             0.5555555555555556,
             "#d8576b"
            ],
            [
             0.6666666666666666,
             "#ed7953"
            ],
            [
             0.7777777777777778,
             "#fb9f3a"
            ],
            [
             0.8888888888888888,
             "#fdca26"
            ],
            [
             1,
             "#f0f921"
            ]
           ],
           "sequentialminus": [
            [
             0,
             "#0d0887"
            ],
            [
             0.1111111111111111,
             "#46039f"
            ],
            [
             0.2222222222222222,
             "#7201a8"
            ],
            [
             0.3333333333333333,
             "#9c179e"
            ],
            [
             0.4444444444444444,
             "#bd3786"
            ],
            [
             0.5555555555555556,
             "#d8576b"
            ],
            [
             0.6666666666666666,
             "#ed7953"
            ],
            [
             0.7777777777777778,
             "#fb9f3a"
            ],
            [
             0.8888888888888888,
             "#fdca26"
            ],
            [
             1,
             "#f0f921"
            ]
           ]
          },
          "colorway": [
           "#636efa",
           "#EF553B",
           "#00cc96",
           "#ab63fa",
           "#FFA15A",
           "#19d3f3",
           "#FF6692",
           "#B6E880",
           "#FF97FF",
           "#FECB52"
          ],
          "font": {
           "color": "#2a3f5f"
          },
          "geo": {
           "bgcolor": "white",
           "lakecolor": "white",
           "landcolor": "#E5ECF6",
           "showlakes": true,
           "showland": true,
           "subunitcolor": "white"
          },
          "hoverlabel": {
           "align": "left"
          },
          "hovermode": "closest",
          "mapbox": {
           "style": "light"
          },
          "paper_bgcolor": "white",
          "plot_bgcolor": "#E5ECF6",
          "polar": {
           "angularaxis": {
            "gridcolor": "white",
            "linecolor": "white",
            "ticks": ""
           },
           "bgcolor": "#E5ECF6",
           "radialaxis": {
            "gridcolor": "white",
            "linecolor": "white",
            "ticks": ""
           }
          },
          "scene": {
           "xaxis": {
            "backgroundcolor": "#E5ECF6",
            "gridcolor": "white",
            "gridwidth": 2,
            "linecolor": "white",
            "showbackground": true,
            "ticks": "",
            "zerolinecolor": "white"
           },
           "yaxis": {
            "backgroundcolor": "#E5ECF6",
            "gridcolor": "white",
            "gridwidth": 2,
            "linecolor": "white",
            "showbackground": true,
            "ticks": "",
            "zerolinecolor": "white"
           },
           "zaxis": {
            "backgroundcolor": "#E5ECF6",
            "gridcolor": "white",
            "gridwidth": 2,
            "linecolor": "white",
            "showbackground": true,
            "ticks": "",
            "zerolinecolor": "white"
           }
          },
          "shapedefaults": {
           "line": {
            "color": "#2a3f5f"
           }
          },
          "ternary": {
           "aaxis": {
            "gridcolor": "white",
            "linecolor": "white",
            "ticks": ""
           },
           "baxis": {
            "gridcolor": "white",
            "linecolor": "white",
            "ticks": ""
           },
           "bgcolor": "#E5ECF6",
           "caxis": {
            "gridcolor": "white",
            "linecolor": "white",
            "ticks": ""
           }
          },
          "title": {
           "x": 0.05
          },
          "xaxis": {
           "automargin": true,
           "gridcolor": "white",
           "linecolor": "white",
           "ticks": "",
           "title": {
            "standoff": 15
           },
           "zerolinecolor": "white",
           "zerolinewidth": 2
          },
          "yaxis": {
           "automargin": true,
           "gridcolor": "white",
           "linecolor": "white",
           "ticks": "",
           "title": {
            "standoff": 15
           },
           "zerolinecolor": "white",
           "zerolinewidth": 2
          }
         }
        }
       }
      },
      "text/html": [
       "<div>                            <div id=\"2fde53d4-1f69-41e6-9c85-9202448cd475\" class=\"plotly-graph-div\" style=\"height:525px; width:100%;\"></div>            <script type=\"text/javascript\">                require([\"plotly\"], function(Plotly) {                    window.PLOTLYENV=window.PLOTLYENV || {};                                    if (document.getElementById(\"2fde53d4-1f69-41e6-9c85-9202448cd475\")) {                    Plotly.newPlot(                        \"2fde53d4-1f69-41e6-9c85-9202448cd475\",                        [{\"branchvalues\":\"total\",\"customdata\":[[206.0,110.33333333333333],[176.66666666666666,142.66666666666666],[37.0,78.0],[134.0,143.0],[82.0,138.0],[271.55555555555554,135.5873015873016],[207.2,88.0],[225.6315789473684,135.57894736842104],[345.0,181.0],[133.0,85.5],[195.83333333333334,118.5],[208.48648648648648,139.43243243243242],[222.5,129.0],[276.46666666666664,137.06666666666666],[173.40714285714284,133.27857142857144],[215.29357798165137,142.37614678899084],[245.0,176.0],[222.0,98.0],[229.71428571428572,146.1904761904762],[206.44117647058823,150.35294117647058],[144.8,114.2],[169.7621951219512,135.34756097560975],[196.03571428571428,132.96428571428572],[0.6666666666666666,88.66666666666667],[276.5,166.5],[244.14556962025316,147.12025316455697],[225.75,137.95454545454547],[270.65555555555557,166.87777777777777],[221.0,170.5],[270.7,193.4],[135.0,160.0],[151.0,215.0],[343.57142857142856,191.57142857142858],[266.6666666666667,196.66666666666666],[\"(?)\",144.67323481116586],[\"(?)\",135.87179487179486],[82.0,138.0],[\"(?)\",140.33548387096775],[\"(?)\",106.88888888888889],[\"(?)\",141.998031496063]],\"domain\":{\"x\":[0.0,1.0],\"y\":[0.0,1.0]},\"hovertemplate\":\"labels=%{label}<br>class_counts=%{value}<br>parent=%{parent}<br>id=%{id}<br>overall_elo_lantids=%{customdata[0]}<br>overall_score_lantids=%{color}<extra></extra>\",\"ids\":[\"R1 Structures: Frequency and Overall Score for lantids/lab/0_m / 0_ts / 2_lab / 0_pi / 0_ac1 / 0_ac2\",\"R1 Structures: Frequency and Overall Score for lantids/lab/0_m / 1_ts / 1_lab / 0_pi / 0_ac1 / 0_ac2\",\"R1 Structures: Frequency and Overall Score for lantids/ts/0_m / 2_ts / 0_lab / 0_pi / 0_ac1 / 0_ac2\",\"R1 Structures: Frequency and Overall Score for lantids/ts/0_m / 3_ts / 0_lab / 0_pi / 0_ac1 / 0_ac2\",\"R1 Structures: Frequency and Overall Score for lantids/ac2/1_m / 0_ts / 0_lab / 0_pi / 0_ac1 / 1_ac2\",\"R1 Structures: Frequency and Overall Score for lantids/ac1/1_m / 0_ts / 0_lab / 0_pi / 1_ac1 / 0_ac2\",\"R1 Structures: Frequency and Overall Score for lantids/PI/1_m / 0_ts / 0_lab / 1_pi / 0_ac1 / 0_ac2\",\"R1 Structures: Frequency and Overall Score for lantids/lab/1_m / 0_ts / 1_lab / 0_pi / 0_ac1 / 0_ac2\",\"R1 Structures: Frequency and Overall Score for lantids/lab/1_m / 0_ts / 2_lab / 0_pi / 0_ac1 / 0_ac2\",\"R1 Structures: Frequency and Overall Score for lantids/ts/1_m / 1_ts / 0_lab / 0_pi / 0_ac1 / 0_ac2\",\"R1 Structures: Frequency and Overall Score for lantids/PI/1_m / 1_ts / 0_lab / 1_pi / 0_ac1 / 0_ac2\",\"R1 Structures: Frequency and Overall Score for lantids/lab/1_m / 1_ts / 1_lab / 0_pi / 0_ac1 / 0_ac2\",\"R1 Structures: Frequency and Overall Score for lantids/ts/1_m / 2_ts / 0_lab / 0_pi / 0_ac1 / 0_ac2\",\"R1 Structures: Frequency and Overall Score for lantids/ac1/2_m / 0_ts / 0_lab / 0_pi / 1_ac1 / 0_ac2\",\"R1 Structures: Frequency and Overall Score for lantids/PI/2_m / 0_ts / 0_lab / 1_pi / 0_ac1 / 0_ac2\",\"R1 Structures: Frequency and Overall Score for lantids/lab/2_m / 0_ts / 1_lab / 0_pi / 0_ac1 / 0_ac2\",\"R1 Structures: Frequency and Overall Score for lantids/PI/2_m / 0_ts / 1_lab / 1_pi / 0_ac1 / 0_ac2\",\"R1 Structures: Frequency and Overall Score for lantids/ts/2_m / 1_ts / 0_lab / 0_pi / 0_ac1 / 0_ac2\",\"R1 Structures: Frequency and Overall Score for lantids/PI/2_m / 1_ts / 0_lab / 1_pi / 0_ac1 / 0_ac2\",\"R1 Structures: Frequency and Overall Score for lantids/lab/2_m / 1_ts / 1_lab / 0_pi / 0_ac1 / 0_ac2\",\"R1 Structures: Frequency and Overall Score for lantids/ts/2_m / 2_ts / 0_lab / 0_pi / 0_ac1 / 0_ac2\",\"R1 Structures: Frequency and Overall Score for lantids/PI/3_m / 0_ts / 0_lab / 1_pi / 0_ac1 / 0_ac2\",\"R1 Structures: Frequency and Overall Score for lantids/lab/3_m / 0_ts / 1_lab / 0_pi / 0_ac1 / 0_ac2\",\"R1 Structures: Frequency and Overall Score for lantids/ts/3_m / 1_ts / 0_lab / 0_pi / 0_ac1 / 0_ac2\",\"R1 Structures: Frequency and Overall Score for lantids/PI/3_m / 1_ts / 0_lab / 1_pi / 0_ac1 / 0_ac2\",\"R1 Structures: Frequency and Overall Score for lantids/PI/4_m / 0_ts / 0_lab / 1_pi / 0_ac1 / 0_ac2\",\"R1 Structures: Frequency and Overall Score for lantids/lab/4_m / 0_ts / 1_lab / 0_pi / 0_ac1 / 0_ac2\",\"R1 Structures: Frequency and Overall Score for lantids/PI/5_m / 0_ts / 0_lab / 1_pi / 0_ac1 / 0_ac2\",\"R1 Structures: Frequency and Overall Score for lantids/lab/5_m / 0_ts / 1_lab / 0_pi / 0_ac1 / 0_ac2\",\"R1 Structures: Frequency and Overall Score for lantids/PI/6_m / 0_ts / 0_lab / 1_pi / 0_ac1 / 0_ac2\",\"R1 Structures: Frequency and Overall Score for lantids/lab/6_m / 0_ts / 1_lab / 0_pi / 0_ac1 / 0_ac2\",\"R1 Structures: Frequency and Overall Score for lantids/PI/6_m / 1_ts / 0_lab / 1_pi / 0_ac1 / 0_ac2\",\"R1 Structures: Frequency and Overall Score for lantids/PI/7_m / 0_ts / 0_lab / 1_pi / 0_ac1 / 0_ac2\",\"R1 Structures: Frequency and Overall Score for lantids/PI/8_m / 0_ts / 0_lab / 1_pi / 0_ac1 / 0_ac2\",\"R1 Structures: Frequency and Overall Score for lantids/PI\",\"R1 Structures: Frequency and Overall Score for lantids/ac1\",\"R1 Structures: Frequency and Overall Score for lantids/ac2\",\"R1 Structures: Frequency and Overall Score for lantids/lab\",\"R1 Structures: Frequency and Overall Score for lantids/ts\",\"R1 Structures: Frequency and Overall Score for lantids\"],\"labels\":[\"0_m / 0_ts / 2_lab / 0_pi / 0_ac1 / 0_ac2\",\"0_m / 1_ts / 1_lab / 0_pi / 0_ac1 / 0_ac2\",\"0_m / 2_ts / 0_lab / 0_pi / 0_ac1 / 0_ac2\",\"0_m / 3_ts / 0_lab / 0_pi / 0_ac1 / 0_ac2\",\"1_m / 0_ts / 0_lab / 0_pi / 0_ac1 / 1_ac2\",\"1_m / 0_ts / 0_lab / 0_pi / 1_ac1 / 0_ac2\",\"1_m / 0_ts / 0_lab / 1_pi / 0_ac1 / 0_ac2\",\"1_m / 0_ts / 1_lab / 0_pi / 0_ac1 / 0_ac2\",\"1_m / 0_ts / 2_lab / 0_pi / 0_ac1 / 0_ac2\",\"1_m / 1_ts / 0_lab / 0_pi / 0_ac1 / 0_ac2\",\"1_m / 1_ts / 0_lab / 1_pi / 0_ac1 / 0_ac2\",\"1_m / 1_ts / 1_lab / 0_pi / 0_ac1 / 0_ac2\",\"1_m / 2_ts / 0_lab / 0_pi / 0_ac1 / 0_ac2\",\"2_m / 0_ts / 0_lab / 0_pi / 1_ac1 / 0_ac2\",\"2_m / 0_ts / 0_lab / 1_pi / 0_ac1 / 0_ac2\",\"2_m / 0_ts / 1_lab / 0_pi / 0_ac1 / 0_ac2\",\"2_m / 0_ts / 1_lab / 1_pi / 0_ac1 / 0_ac2\",\"2_m / 1_ts / 0_lab / 0_pi / 0_ac1 / 0_ac2\",\"2_m / 1_ts / 0_lab / 1_pi / 0_ac1 / 0_ac2\",\"2_m / 1_ts / 1_lab / 0_pi / 0_ac1 / 0_ac2\",\"2_m / 2_ts / 0_lab / 0_pi / 0_ac1 / 0_ac2\",\"3_m / 0_ts / 0_lab / 1_pi / 0_ac1 / 0_ac2\",\"3_m / 0_ts / 1_lab / 0_pi / 0_ac1 / 0_ac2\",\"3_m / 1_ts / 0_lab / 0_pi / 0_ac1 / 0_ac2\",\"3_m / 1_ts / 0_lab / 1_pi / 0_ac1 / 0_ac2\",\"4_m / 0_ts / 0_lab / 1_pi / 0_ac1 / 0_ac2\",\"4_m / 0_ts / 1_lab / 0_pi / 0_ac1 / 0_ac2\",\"5_m / 0_ts / 0_lab / 1_pi / 0_ac1 / 0_ac2\",\"5_m / 0_ts / 1_lab / 0_pi / 0_ac1 / 0_ac2\",\"6_m / 0_ts / 0_lab / 1_pi / 0_ac1 / 0_ac2\",\"6_m / 0_ts / 1_lab / 0_pi / 0_ac1 / 0_ac2\",\"6_m / 1_ts / 0_lab / 1_pi / 0_ac1 / 0_ac2\",\"7_m / 0_ts / 0_lab / 1_pi / 0_ac1 / 0_ac2\",\"8_m / 0_ts / 0_lab / 1_pi / 0_ac1 / 0_ac2\",\"PI\",\"ac1\",\"ac2\",\"lab\",\"ts\",\"R1 Structures: Frequency and Overall Score for lantids\"],\"marker\":{\"coloraxis\":\"coloraxis\",\"colors\":[110.33333333333333,142.66666666666666,78.0,143.0,138.0,135.5873015873016,88.0,135.57894736842104,181.0,85.5,118.5,139.43243243243242,129.0,137.06666666666666,133.27857142857144,142.37614678899084,176.0,98.0,146.1904761904762,150.35294117647058,114.2,135.34756097560975,132.96428571428572,88.66666666666667,166.5,147.12025316455697,137.95454545454547,166.87777777777777,170.5,193.4,160.0,215.0,191.57142857142858,196.66666666666666,144.67323481116586,135.87179487179486,138.0,140.33548387096775,106.88888888888889,141.998031496063]},\"name\":\"\",\"parents\":[\"R1 Structures: Frequency and Overall Score for lantids/lab\",\"R1 Structures: Frequency and Overall Score for lantids/lab\",\"R1 Structures: Frequency and Overall Score for lantids/ts\",\"R1 Structures: Frequency and Overall Score for lantids/ts\",\"R1 Structures: Frequency and Overall Score for lantids/ac2\",\"R1 Structures: Frequency and Overall Score for lantids/ac1\",\"R1 Structures: Frequency and Overall Score for lantids/PI\",\"R1 Structures: Frequency and Overall Score for lantids/lab\",\"R1 Structures: Frequency and Overall Score for lantids/lab\",\"R1 Structures: Frequency and Overall Score for lantids/ts\",\"R1 Structures: Frequency and Overall Score for lantids/PI\",\"R1 Structures: Frequency and Overall Score for lantids/lab\",\"R1 Structures: Frequency and Overall Score for lantids/ts\",\"R1 Structures: Frequency and Overall Score for lantids/ac1\",\"R1 Structures: Frequency and Overall Score for lantids/PI\",\"R1 Structures: Frequency and Overall Score for lantids/lab\",\"R1 Structures: Frequency and Overall Score for lantids/PI\",\"R1 Structures: Frequency and Overall Score for lantids/ts\",\"R1 Structures: Frequency and Overall Score for lantids/PI\",\"R1 Structures: Frequency and Overall Score for lantids/lab\",\"R1 Structures: Frequency and Overall Score for lantids/ts\",\"R1 Structures: Frequency and Overall Score for lantids/PI\",\"R1 Structures: Frequency and Overall Score for lantids/lab\",\"R1 Structures: Frequency and Overall Score for lantids/ts\",\"R1 Structures: Frequency and Overall Score for lantids/PI\",\"R1 Structures: Frequency and Overall Score for lantids/PI\",\"R1 Structures: Frequency and Overall Score for lantids/lab\",\"R1 Structures: Frequency and Overall Score for lantids/PI\",\"R1 Structures: Frequency and Overall Score for lantids/lab\",\"R1 Structures: Frequency and Overall Score for lantids/PI\",\"R1 Structures: Frequency and Overall Score for lantids/lab\",\"R1 Structures: Frequency and Overall Score for lantids/PI\",\"R1 Structures: Frequency and Overall Score for lantids/PI\",\"R1 Structures: Frequency and Overall Score for lantids/PI\",\"R1 Structures: Frequency and Overall Score for lantids\",\"R1 Structures: Frequency and Overall Score for lantids\",\"R1 Structures: Frequency and Overall Score for lantids\",\"R1 Structures: Frequency and Overall Score for lantids\",\"R1 Structures: Frequency and Overall Score for lantids\",\"\"],\"values\":[3,3,1,2,1,63,5,19,2,2,6,37,2,15,140,109,2,3,21,34,5,164,56,3,2,158,44,90,2,10,1,1,7,3,609,78,1,310,18,1016],\"type\":\"treemap\"}],                        {\"template\":{\"data\":{\"bar\":[{\"error_x\":{\"color\":\"#2a3f5f\"},\"error_y\":{\"color\":\"#2a3f5f\"},\"marker\":{\"line\":{\"color\":\"#E5ECF6\",\"width\":0.5},\"pattern\":{\"fillmode\":\"overlay\",\"size\":10,\"solidity\":0.2}},\"type\":\"bar\"}],\"barpolar\":[{\"marker\":{\"line\":{\"color\":\"#E5ECF6\",\"width\":0.5},\"pattern\":{\"fillmode\":\"overlay\",\"size\":10,\"solidity\":0.2}},\"type\":\"barpolar\"}],\"carpet\":[{\"aaxis\":{\"endlinecolor\":\"#2a3f5f\",\"gridcolor\":\"white\",\"linecolor\":\"white\",\"minorgridcolor\":\"white\",\"startlinecolor\":\"#2a3f5f\"},\"baxis\":{\"endlinecolor\":\"#2a3f5f\",\"gridcolor\":\"white\",\"linecolor\":\"white\",\"minorgridcolor\":\"white\",\"startlinecolor\":\"#2a3f5f\"},\"type\":\"carpet\"}],\"choropleth\":[{\"colorbar\":{\"outlinewidth\":0,\"ticks\":\"\"},\"type\":\"choropleth\"}],\"contour\":[{\"colorbar\":{\"outlinewidth\":0,\"ticks\":\"\"},\"colorscale\":[[0.0,\"#0d0887\"],[0.1111111111111111,\"#46039f\"],[0.2222222222222222,\"#7201a8\"],[0.3333333333333333,\"#9c179e\"],[0.4444444444444444,\"#bd3786\"],[0.5555555555555556,\"#d8576b\"],[0.6666666666666666,\"#ed7953\"],[0.7777777777777778,\"#fb9f3a\"],[0.8888888888888888,\"#fdca26\"],[1.0,\"#f0f921\"]],\"type\":\"contour\"}],\"contourcarpet\":[{\"colorbar\":{\"outlinewidth\":0,\"ticks\":\"\"},\"type\":\"contourcarpet\"}],\"heatmap\":[{\"colorbar\":{\"outlinewidth\":0,\"ticks\":\"\"},\"colorscale\":[[0.0,\"#0d0887\"],[0.1111111111111111,\"#46039f\"],[0.2222222222222222,\"#7201a8\"],[0.3333333333333333,\"#9c179e\"],[0.4444444444444444,\"#bd3786\"],[0.5555555555555556,\"#d8576b\"],[0.6666666666666666,\"#ed7953\"],[0.7777777777777778,\"#fb9f3a\"],[0.8888888888888888,\"#fdca26\"],[1.0,\"#f0f921\"]],\"type\":\"heatmap\"}],\"heatmapgl\":[{\"colorbar\":{\"outlinewidth\":0,\"ticks\":\"\"},\"colorscale\":[[0.0,\"#0d0887\"],[0.1111111111111111,\"#46039f\"],[0.2222222222222222,\"#7201a8\"],[0.3333333333333333,\"#9c179e\"],[0.4444444444444444,\"#bd3786\"],[0.5555555555555556,\"#d8576b\"],[0.6666666666666666,\"#ed7953\"],[0.7777777777777778,\"#fb9f3a\"],[0.8888888888888888,\"#fdca26\"],[1.0,\"#f0f921\"]],\"type\":\"heatmapgl\"}],\"histogram\":[{\"marker\":{\"pattern\":{\"fillmode\":\"overlay\",\"size\":10,\"solidity\":0.2}},\"type\":\"histogram\"}],\"histogram2d\":[{\"colorbar\":{\"outlinewidth\":0,\"ticks\":\"\"},\"colorscale\":[[0.0,\"#0d0887\"],[0.1111111111111111,\"#46039f\"],[0.2222222222222222,\"#7201a8\"],[0.3333333333333333,\"#9c179e\"],[0.4444444444444444,\"#bd3786\"],[0.5555555555555556,\"#d8576b\"],[0.6666666666666666,\"#ed7953\"],[0.7777777777777778,\"#fb9f3a\"],[0.8888888888888888,\"#fdca26\"],[1.0,\"#f0f921\"]],\"type\":\"histogram2d\"}],\"histogram2dcontour\":[{\"colorbar\":{\"outlinewidth\":0,\"ticks\":\"\"},\"colorscale\":[[0.0,\"#0d0887\"],[0.1111111111111111,\"#46039f\"],[0.2222222222222222,\"#7201a8\"],[0.3333333333333333,\"#9c179e\"],[0.4444444444444444,\"#bd3786\"],[0.5555555555555556,\"#d8576b\"],[0.6666666666666666,\"#ed7953\"],[0.7777777777777778,\"#fb9f3a\"],[0.8888888888888888,\"#fdca26\"],[1.0,\"#f0f921\"]],\"type\":\"histogram2dcontour\"}],\"mesh3d\":[{\"colorbar\":{\"outlinewidth\":0,\"ticks\":\"\"},\"type\":\"mesh3d\"}],\"parcoords\":[{\"line\":{\"colorbar\":{\"outlinewidth\":0,\"ticks\":\"\"}},\"type\":\"parcoords\"}],\"pie\":[{\"automargin\":true,\"type\":\"pie\"}],\"scatter\":[{\"marker\":{\"colorbar\":{\"outlinewidth\":0,\"ticks\":\"\"}},\"type\":\"scatter\"}],\"scatter3d\":[{\"line\":{\"colorbar\":{\"outlinewidth\":0,\"ticks\":\"\"}},\"marker\":{\"colorbar\":{\"outlinewidth\":0,\"ticks\":\"\"}},\"type\":\"scatter3d\"}],\"scattercarpet\":[{\"marker\":{\"colorbar\":{\"outlinewidth\":0,\"ticks\":\"\"}},\"type\":\"scattercarpet\"}],\"scattergeo\":[{\"marker\":{\"colorbar\":{\"outlinewidth\":0,\"ticks\":\"\"}},\"type\":\"scattergeo\"}],\"scattergl\":[{\"marker\":{\"colorbar\":{\"outlinewidth\":0,\"ticks\":\"\"}},\"type\":\"scattergl\"}],\"scattermapbox\":[{\"marker\":{\"colorbar\":{\"outlinewidth\":0,\"ticks\":\"\"}},\"type\":\"scattermapbox\"}],\"scatterpolar\":[{\"marker\":{\"colorbar\":{\"outlinewidth\":0,\"ticks\":\"\"}},\"type\":\"scatterpolar\"}],\"scatterpolargl\":[{\"marker\":{\"colorbar\":{\"outlinewidth\":0,\"ticks\":\"\"}},\"type\":\"scatterpolargl\"}],\"scatterternary\":[{\"marker\":{\"colorbar\":{\"outlinewidth\":0,\"ticks\":\"\"}},\"type\":\"scatterternary\"}],\"surface\":[{\"colorbar\":{\"outlinewidth\":0,\"ticks\":\"\"},\"colorscale\":[[0.0,\"#0d0887\"],[0.1111111111111111,\"#46039f\"],[0.2222222222222222,\"#7201a8\"],[0.3333333333333333,\"#9c179e\"],[0.4444444444444444,\"#bd3786\"],[0.5555555555555556,\"#d8576b\"],[0.6666666666666666,\"#ed7953\"],[0.7777777777777778,\"#fb9f3a\"],[0.8888888888888888,\"#fdca26\"],[1.0,\"#f0f921\"]],\"type\":\"surface\"}],\"table\":[{\"cells\":{\"fill\":{\"color\":\"#EBF0F8\"},\"line\":{\"color\":\"white\"}},\"header\":{\"fill\":{\"color\":\"#C8D4E3\"},\"line\":{\"color\":\"white\"}},\"type\":\"table\"}]},\"layout\":{\"annotationdefaults\":{\"arrowcolor\":\"#2a3f5f\",\"arrowhead\":0,\"arrowwidth\":1},\"autotypenumbers\":\"strict\",\"coloraxis\":{\"colorbar\":{\"outlinewidth\":0,\"ticks\":\"\"}},\"colorscale\":{\"diverging\":[[0,\"#8e0152\"],[0.1,\"#c51b7d\"],[0.2,\"#de77ae\"],[0.3,\"#f1b6da\"],[0.4,\"#fde0ef\"],[0.5,\"#f7f7f7\"],[0.6,\"#e6f5d0\"],[0.7,\"#b8e186\"],[0.8,\"#7fbc41\"],[0.9,\"#4d9221\"],[1,\"#276419\"]],\"sequential\":[[0.0,\"#0d0887\"],[0.1111111111111111,\"#46039f\"],[0.2222222222222222,\"#7201a8\"],[0.3333333333333333,\"#9c179e\"],[0.4444444444444444,\"#bd3786\"],[0.5555555555555556,\"#d8576b\"],[0.6666666666666666,\"#ed7953\"],[0.7777777777777778,\"#fb9f3a\"],[0.8888888888888888,\"#fdca26\"],[1.0,\"#f0f921\"]],\"sequentialminus\":[[0.0,\"#0d0887\"],[0.1111111111111111,\"#46039f\"],[0.2222222222222222,\"#7201a8\"],[0.3333333333333333,\"#9c179e\"],[0.4444444444444444,\"#bd3786\"],[0.5555555555555556,\"#d8576b\"],[0.6666666666666666,\"#ed7953\"],[0.7777777777777778,\"#fb9f3a\"],[0.8888888888888888,\"#fdca26\"],[1.0,\"#f0f921\"]]},\"colorway\":[\"#636efa\",\"#EF553B\",\"#00cc96\",\"#ab63fa\",\"#FFA15A\",\"#19d3f3\",\"#FF6692\",\"#B6E880\",\"#FF97FF\",\"#FECB52\"],\"font\":{\"color\":\"#2a3f5f\"},\"geo\":{\"bgcolor\":\"white\",\"lakecolor\":\"white\",\"landcolor\":\"#E5ECF6\",\"showlakes\":true,\"showland\":true,\"subunitcolor\":\"white\"},\"hoverlabel\":{\"align\":\"left\"},\"hovermode\":\"closest\",\"mapbox\":{\"style\":\"light\"},\"paper_bgcolor\":\"white\",\"plot_bgcolor\":\"#E5ECF6\",\"polar\":{\"angularaxis\":{\"gridcolor\":\"white\",\"linecolor\":\"white\",\"ticks\":\"\"},\"bgcolor\":\"#E5ECF6\",\"radialaxis\":{\"gridcolor\":\"white\",\"linecolor\":\"white\",\"ticks\":\"\"}},\"scene\":{\"xaxis\":{\"backgroundcolor\":\"#E5ECF6\",\"gridcolor\":\"white\",\"gridwidth\":2,\"linecolor\":\"white\",\"showbackground\":true,\"ticks\":\"\",\"zerolinecolor\":\"white\"},\"yaxis\":{\"backgroundcolor\":\"#E5ECF6\",\"gridcolor\":\"white\",\"gridwidth\":2,\"linecolor\":\"white\",\"showbackground\":true,\"ticks\":\"\",\"zerolinecolor\":\"white\"},\"zaxis\":{\"backgroundcolor\":\"#E5ECF6\",\"gridcolor\":\"white\",\"gridwidth\":2,\"linecolor\":\"white\",\"showbackground\":true,\"ticks\":\"\",\"zerolinecolor\":\"white\"}},\"shapedefaults\":{\"line\":{\"color\":\"#2a3f5f\"}},\"ternary\":{\"aaxis\":{\"gridcolor\":\"white\",\"linecolor\":\"white\",\"ticks\":\"\"},\"baxis\":{\"gridcolor\":\"white\",\"linecolor\":\"white\",\"ticks\":\"\"},\"bgcolor\":\"#E5ECF6\",\"caxis\":{\"gridcolor\":\"white\",\"linecolor\":\"white\",\"ticks\":\"\"}},\"title\":{\"x\":0.05},\"xaxis\":{\"automargin\":true,\"gridcolor\":\"white\",\"linecolor\":\"white\",\"ticks\":\"\",\"title\":{\"standoff\":15},\"zerolinecolor\":\"white\",\"zerolinewidth\":2},\"yaxis\":{\"automargin\":true,\"gridcolor\":\"white\",\"linecolor\":\"white\",\"ticks\":\"\",\"title\":{\"standoff\":15},\"zerolinecolor\":\"white\",\"zerolinewidth\":2}}},\"coloraxis\":{\"colorbar\":{\"title\":{\"text\":\"overall_score_lantids\"}},\"colorscale\":[[0.0,\"rgb(103,0,31)\"],[0.1,\"rgb(178,24,43)\"],[0.2,\"rgb(214,96,77)\"],[0.3,\"rgb(244,165,130)\"],[0.4,\"rgb(253,219,199)\"],[0.5,\"rgb(247,247,247)\"],[0.6,\"rgb(209,229,240)\"],[0.7,\"rgb(146,197,222)\"],[0.8,\"rgb(67,147,195)\"],[0.9,\"rgb(33,102,172)\"],[1.0,\"rgb(5,48,97)\"]],\"cmid\":138.7162162162162},\"legend\":{\"tracegroupgap\":0},\"margin\":{\"t\":50,\"l\":25,\"r\":25,\"b\":25}},                        {\"responsive\": true}                    ).then(function(){\n",
       "                            \n",
       "var gd = document.getElementById('2fde53d4-1f69-41e6-9c85-9202448cd475');\n",
       "var x = new MutationObserver(function (mutations, observer) {{\n",
       "        var display = window.getComputedStyle(gd).display;\n",
       "        if (!display || display === 'none') {{\n",
       "            console.log([gd, 'removed!']);\n",
       "            Plotly.purge(gd);\n",
       "            observer.disconnect();\n",
       "        }}\n",
       "}});\n",
       "\n",
       "// Listen for the removal of the full notebook cells\n",
       "var notebookContainer = gd.closest('#notebook-container');\n",
       "if (notebookContainer) {{\n",
       "    x.observe(notebookContainer, {childList: true});\n",
       "}}\n",
       "\n",
       "// Listen for the clearing of the current output cell\n",
       "var outputEl = gd.closest('.output');\n",
       "if (outputEl) {{\n",
       "    x.observe(outputEl, {childList: true});\n",
       "}}\n",
       "\n",
       "                        })                };                });            </script>        </div>"
      ]
     },
     "metadata": {},
     "output_type": "display_data"
    },
    {
     "data": {
      "application/vnd.plotly.v1+json": {
       "config": {
        "plotlyServerURL": "https://plot.ly"
       },
       "data": [
        {
         "branchvalues": "total",
         "customdata": [
          [
           179.1,
           137.05
          ],
          [
           186.66666666666666,
           139.66666666666666
          ],
          [
           195,
           109
          ],
          [
           268,
           115
          ],
          [
           123,
           107
          ],
          [
           116,
           122
          ],
          [
           178.42857142857142,
           144.71428571428572
          ],
          [
           220.1,
           135.66666666666666
          ],
          [
           156.35294117647058,
           121.05882352941177
          ],
          [
           212.28571428571428,
           111.85714285714286
          ],
          [
           225.28571428571428,
           128.28571428571428
          ],
          [
           182.4,
           127.6
          ],
          [
           172.60169491525423,
           128.21186440677965
          ],
          [
           169.64,
           142.6
          ],
          [
           133,
           151
          ],
          [
           264,
           108
          ],
          [
           138,
           174
          ],
          [
           154.375,
           158.625
          ],
          [
           255.9294117647059,
           148.43529411764706
          ],
          [
           181.0479704797048,
           133.81549815498155
          ],
          [
           134.3939393939394,
           129.54545454545453
          ],
          [
           202.59712230215828,
           145.84892086330936
          ],
          [
           200.64705882352942,
           142.49019607843138
          ],
          [
           70,
           118
          ],
          [
           158,
           137.14285714285714
          ],
          [
           182.65217391304347,
           131.81159420289856
          ],
          [
           155.4,
           110.9
          ],
          [
           258.5,
           165
          ],
          [
           145.33333333333334,
           144.33333333333334
          ],
          [
           346,
           125
          ],
          [
           228.40086206896552,
           157.2198275862069
          ],
          [
           174,
           137.11111111111111
          ],
          [
           228.4814814814815,
           163.59259259259258
          ],
          [
           149,
           142.1818181818182
          ],
          [
           244,
           175
          ],
          [
           "(?)",
           140.12488083889417
          ],
          [
           "(?)",
           142.43506493506493
          ],
          [
           "(?)",
           150.4375
          ],
          [
           "(?)",
           135.89375
          ],
          [
           "(?)",
           132
          ],
          [
           "(?)",
           139.98265895953756
          ]
         ],
         "domain": {
          "x": [
           0,
           1
          ],
          "y": [
           0,
           1
          ]
         },
         "hovertemplate": "labels=%{label}<br>class_counts=%{value}<br>parent=%{parent}<br>id=%{id}<br>overall_elo_geodens=%{customdata[0]}<br>overall_score_geodens=%{color}<extra></extra>",
         "ids": [
          "R1 Structures: Frequency and Overall Score for geodens/PI/0_m / 0_ts / 1_lab / 1_pi / 0_ac1 / 0_ac2",
          "R1 Structures: Frequency and Overall Score for geodens/lab/0_m / 0_ts / 2_lab / 0_pi / 0_ac1 / 0_ac2",
          "R1 Structures: Frequency and Overall Score for geodens/ac1/0_m / 1_ts / 0_lab / 0_pi / 1_ac1 / 0_ac2",
          "R1 Structures: Frequency and Overall Score for geodens/PI/0_m / 2_ts / 0_lab / 1_pi / 0_ac1 / 0_ac2",
          "R1 Structures: Frequency and Overall Score for geodens/lab/0_m / 2_ts / 1_lab / 0_pi / 0_ac1 / 0_ac2",
          "R1 Structures: Frequency and Overall Score for geodens/ts/0_m / 3_ts / 0_lab / 0_pi / 0_ac1 / 0_ac2",
          "R1 Structures: Frequency and Overall Score for geodens/ac2/1_m / 0_ts / 0_lab / 0_pi / 0_ac1 / 1_ac2",
          "R1 Structures: Frequency and Overall Score for geodens/ac1/1_m / 0_ts / 0_lab / 0_pi / 1_ac1 / 0_ac2",
          "R1 Structures: Frequency and Overall Score for geodens/PI/1_m / 0_ts / 0_lab / 1_pi / 0_ac1 / 0_ac2",
          "R1 Structures: Frequency and Overall Score for geodens/lab/1_m / 0_ts / 1_lab / 0_pi / 0_ac1 / 0_ac2",
          "R1 Structures: Frequency and Overall Score for geodens/PI/1_m / 0_ts / 1_lab / 1_pi / 0_ac1 / 0_ac2",
          "R1 Structures: Frequency and Overall Score for geodens/lab/1_m / 0_ts / 2_lab / 0_pi / 0_ac1 / 0_ac2",
          "R1 Structures: Frequency and Overall Score for geodens/PI/1_m / 1_ts / 0_lab / 1_pi / 0_ac1 / 0_ac2",
          "R1 Structures: Frequency and Overall Score for geodens/lab/1_m / 1_ts / 1_lab / 0_pi / 0_ac1 / 0_ac2",
          "R1 Structures: Frequency and Overall Score for geodens/ts/1_m / 2_ts / 0_lab / 0_pi / 0_ac1 / 0_ac2",
          "R1 Structures: Frequency and Overall Score for geodens/PI/1_m / 2_ts / 0_lab / 1_pi / 0_ac1 / 0_ac2",
          "R1 Structures: Frequency and Overall Score for geodens/lab/1_m / 2_ts / 1_lab / 0_pi / 0_ac1 / 0_ac2",
          "R1 Structures: Frequency and Overall Score for geodens/ac2/2_m / 0_ts / 0_lab / 0_pi / 0_ac1 / 1_ac2",
          "R1 Structures: Frequency and Overall Score for geodens/ac1/2_m / 0_ts / 0_lab / 0_pi / 1_ac1 / 0_ac2",
          "R1 Structures: Frequency and Overall Score for geodens/PI/2_m / 0_ts / 0_lab / 1_pi / 0_ac1 / 0_ac2",
          "R1 Structures: Frequency and Overall Score for geodens/lab/2_m / 0_ts / 1_lab / 0_pi / 0_ac1 / 0_ac2",
          "R1 Structures: Frequency and Overall Score for geodens/PI/2_m / 1_ts / 0_lab / 1_pi / 0_ac1 / 0_ac2",
          "R1 Structures: Frequency and Overall Score for geodens/lab/2_m / 1_ts / 1_lab / 0_pi / 0_ac1 / 0_ac2",
          "R1 Structures: Frequency and Overall Score for geodens/ts/2_m / 2_ts / 0_lab / 0_pi / 0_ac1 / 0_ac2",
          "R1 Structures: Frequency and Overall Score for geodens/ac1/3_m / 0_ts / 0_lab / 0_pi / 1_ac1 / 0_ac2",
          "R1 Structures: Frequency and Overall Score for geodens/PI/3_m / 0_ts / 0_lab / 1_pi / 0_ac1 / 0_ac2",
          "R1 Structures: Frequency and Overall Score for geodens/lab/3_m / 0_ts / 1_lab / 0_pi / 0_ac1 / 0_ac2",
          "R1 Structures: Frequency and Overall Score for geodens/PI/3_m / 1_ts / 0_lab / 1_pi / 0_ac1 / 0_ac2",
          "R1 Structures: Frequency and Overall Score for geodens/lab/3_m / 1_ts / 1_lab / 0_pi / 0_ac1 / 0_ac2",
          "R1 Structures: Frequency and Overall Score for geodens/ac2/4_m / 0_ts / 0_lab / 0_pi / 0_ac1 / 1_ac2",
          "R1 Structures: Frequency and Overall Score for geodens/PI/4_m / 0_ts / 0_lab / 1_pi / 0_ac1 / 0_ac2",
          "R1 Structures: Frequency and Overall Score for geodens/lab/4_m / 0_ts / 1_lab / 0_pi / 0_ac1 / 0_ac2",
          "R1 Structures: Frequency and Overall Score for geodens/PI/5_m / 0_ts / 0_lab / 1_pi / 0_ac1 / 0_ac2",
          "R1 Structures: Frequency and Overall Score for geodens/lab/5_m / 0_ts / 1_lab / 0_pi / 0_ac1 / 0_ac2",
          "R1 Structures: Frequency and Overall Score for geodens/lab/6_m / 0_ts / 1_lab / 0_pi / 0_ac1 / 0_ac2",
          "R1 Structures: Frequency and Overall Score for geodens/PI",
          "R1 Structures: Frequency and Overall Score for geodens/ac1",
          "R1 Structures: Frequency and Overall Score for geodens/ac2",
          "R1 Structures: Frequency and Overall Score for geodens/lab",
          "R1 Structures: Frequency and Overall Score for geodens/ts",
          "R1 Structures: Frequency and Overall Score for geodens"
         ],
         "labels": [
          "0_m / 0_ts / 1_lab / 1_pi / 0_ac1 / 0_ac2",
          "0_m / 0_ts / 2_lab / 0_pi / 0_ac1 / 0_ac2",
          "0_m / 1_ts / 0_lab / 0_pi / 1_ac1 / 0_ac2",
          "0_m / 2_ts / 0_lab / 1_pi / 0_ac1 / 0_ac2",
          "0_m / 2_ts / 1_lab / 0_pi / 0_ac1 / 0_ac2",
          "0_m / 3_ts / 0_lab / 0_pi / 0_ac1 / 0_ac2",
          "1_m / 0_ts / 0_lab / 0_pi / 0_ac1 / 1_ac2",
          "1_m / 0_ts / 0_lab / 0_pi / 1_ac1 / 0_ac2",
          "1_m / 0_ts / 0_lab / 1_pi / 0_ac1 / 0_ac2",
          "1_m / 0_ts / 1_lab / 0_pi / 0_ac1 / 0_ac2",
          "1_m / 0_ts / 1_lab / 1_pi / 0_ac1 / 0_ac2",
          "1_m / 0_ts / 2_lab / 0_pi / 0_ac1 / 0_ac2",
          "1_m / 1_ts / 0_lab / 1_pi / 0_ac1 / 0_ac2",
          "1_m / 1_ts / 1_lab / 0_pi / 0_ac1 / 0_ac2",
          "1_m / 2_ts / 0_lab / 0_pi / 0_ac1 / 0_ac2",
          "1_m / 2_ts / 0_lab / 1_pi / 0_ac1 / 0_ac2",
          "1_m / 2_ts / 1_lab / 0_pi / 0_ac1 / 0_ac2",
          "2_m / 0_ts / 0_lab / 0_pi / 0_ac1 / 1_ac2",
          "2_m / 0_ts / 0_lab / 0_pi / 1_ac1 / 0_ac2",
          "2_m / 0_ts / 0_lab / 1_pi / 0_ac1 / 0_ac2",
          "2_m / 0_ts / 1_lab / 0_pi / 0_ac1 / 0_ac2",
          "2_m / 1_ts / 0_lab / 1_pi / 0_ac1 / 0_ac2",
          "2_m / 1_ts / 1_lab / 0_pi / 0_ac1 / 0_ac2",
          "2_m / 2_ts / 0_lab / 0_pi / 0_ac1 / 0_ac2",
          "3_m / 0_ts / 0_lab / 0_pi / 1_ac1 / 0_ac2",
          "3_m / 0_ts / 0_lab / 1_pi / 0_ac1 / 0_ac2",
          "3_m / 0_ts / 1_lab / 0_pi / 0_ac1 / 0_ac2",
          "3_m / 1_ts / 0_lab / 1_pi / 0_ac1 / 0_ac2",
          "3_m / 1_ts / 1_lab / 0_pi / 0_ac1 / 0_ac2",
          "4_m / 0_ts / 0_lab / 0_pi / 0_ac1 / 1_ac2",
          "4_m / 0_ts / 0_lab / 1_pi / 0_ac1 / 0_ac2",
          "4_m / 0_ts / 1_lab / 0_pi / 0_ac1 / 0_ac2",
          "5_m / 0_ts / 0_lab / 1_pi / 0_ac1 / 0_ac2",
          "5_m / 0_ts / 1_lab / 0_pi / 0_ac1 / 0_ac2",
          "6_m / 0_ts / 1_lab / 0_pi / 0_ac1 / 0_ac2",
          "PI",
          "ac1",
          "ac2",
          "lab",
          "ts",
          "R1 Structures: Frequency and Overall Score for geodens"
         ],
         "marker": {
          "coloraxis": "coloraxis",
          "colors": [
           137.05,
           139.66666666666666,
           109,
           115,
           107,
           122,
           144.71428571428572,
           135.66666666666666,
           121.05882352941177,
           111.85714285714286,
           128.28571428571428,
           127.6,
           128.21186440677965,
           142.6,
           151,
           108,
           174,
           158.625,
           148.43529411764706,
           133.81549815498155,
           129.54545454545453,
           145.84892086330936,
           142.49019607843138,
           118,
           137.14285714285714,
           131.81159420289856,
           110.9,
           165,
           144.33333333333334,
           125,
           157.2198275862069,
           137.11111111111111,
           163.59259259259258,
           142.1818181818182,
           175,
           140.12488083889417,
           142.43506493506493,
           150.4375,
           135.89375,
           132,
           139.98265895953756
          ]
         },
         "name": "",
         "parents": [
          "R1 Structures: Frequency and Overall Score for geodens/PI",
          "R1 Structures: Frequency and Overall Score for geodens/lab",
          "R1 Structures: Frequency and Overall Score for geodens/ac1",
          "R1 Structures: Frequency and Overall Score for geodens/PI",
          "R1 Structures: Frequency and Overall Score for geodens/lab",
          "R1 Structures: Frequency and Overall Score for geodens/ts",
          "R1 Structures: Frequency and Overall Score for geodens/ac2",
          "R1 Structures: Frequency and Overall Score for geodens/ac1",
          "R1 Structures: Frequency and Overall Score for geodens/PI",
          "R1 Structures: Frequency and Overall Score for geodens/lab",
          "R1 Structures: Frequency and Overall Score for geodens/PI",
          "R1 Structures: Frequency and Overall Score for geodens/lab",
          "R1 Structures: Frequency and Overall Score for geodens/PI",
          "R1 Structures: Frequency and Overall Score for geodens/lab",
          "R1 Structures: Frequency and Overall Score for geodens/ts",
          "R1 Structures: Frequency and Overall Score for geodens/PI",
          "R1 Structures: Frequency and Overall Score for geodens/lab",
          "R1 Structures: Frequency and Overall Score for geodens/ac2",
          "R1 Structures: Frequency and Overall Score for geodens/ac1",
          "R1 Structures: Frequency and Overall Score for geodens/PI",
          "R1 Structures: Frequency and Overall Score for geodens/lab",
          "R1 Structures: Frequency and Overall Score for geodens/PI",
          "R1 Structures: Frequency and Overall Score for geodens/lab",
          "R1 Structures: Frequency and Overall Score for geodens/ts",
          "R1 Structures: Frequency and Overall Score for geodens/ac1",
          "R1 Structures: Frequency and Overall Score for geodens/PI",
          "R1 Structures: Frequency and Overall Score for geodens/lab",
          "R1 Structures: Frequency and Overall Score for geodens/PI",
          "R1 Structures: Frequency and Overall Score for geodens/lab",
          "R1 Structures: Frequency and Overall Score for geodens/ac2",
          "R1 Structures: Frequency and Overall Score for geodens/PI",
          "R1 Structures: Frequency and Overall Score for geodens/lab",
          "R1 Structures: Frequency and Overall Score for geodens/PI",
          "R1 Structures: Frequency and Overall Score for geodens/lab",
          "R1 Structures: Frequency and Overall Score for geodens/lab",
          "R1 Structures: Frequency and Overall Score for geodens",
          "R1 Structures: Frequency and Overall Score for geodens",
          "R1 Structures: Frequency and Overall Score for geodens",
          "R1 Structures: Frequency and Overall Score for geodens",
          "R1 Structures: Frequency and Overall Score for geodens",
          ""
         ],
         "type": "treemap",
         "values": [
          20,
          3,
          2,
          1,
          1,
          1,
          7,
          60,
          17,
          7,
          14,
          5,
          118,
          25,
          2,
          1,
          1,
          8,
          85,
          271,
          33,
          139,
          51,
          2,
          7,
          207,
          10,
          2,
          3,
          1,
          232,
          9,
          27,
          11,
          1,
          1049,
          154,
          16,
          160,
          5,
          1384
         ]
        }
       ],
       "layout": {
        "coloraxis": {
         "cmid": 137.05,
         "colorbar": {
          "title": {
           "text": "overall_score_geodens"
          }
         },
         "colorscale": [
          [
           0,
           "rgb(103,0,31)"
          ],
          [
           0.1,
           "rgb(178,24,43)"
          ],
          [
           0.2,
           "rgb(214,96,77)"
          ],
          [
           0.3,
           "rgb(244,165,130)"
          ],
          [
           0.4,
           "rgb(253,219,199)"
          ],
          [
           0.5,
           "rgb(247,247,247)"
          ],
          [
           0.6,
           "rgb(209,229,240)"
          ],
          [
           0.7,
           "rgb(146,197,222)"
          ],
          [
           0.8,
           "rgb(67,147,195)"
          ],
          [
           0.9,
           "rgb(33,102,172)"
          ],
          [
           1,
           "rgb(5,48,97)"
          ]
         ]
        },
        "legend": {
         "tracegroupgap": 0
        },
        "margin": {
         "b": 25,
         "l": 25,
         "r": 25,
         "t": 50
        },
        "template": {
         "data": {
          "bar": [
           {
            "error_x": {
             "color": "#2a3f5f"
            },
            "error_y": {
             "color": "#2a3f5f"
            },
            "marker": {
             "line": {
              "color": "#E5ECF6",
              "width": 0.5
             },
             "pattern": {
              "fillmode": "overlay",
              "size": 10,
              "solidity": 0.2
             }
            },
            "type": "bar"
           }
          ],
          "barpolar": [
           {
            "marker": {
             "line": {
              "color": "#E5ECF6",
              "width": 0.5
             },
             "pattern": {
              "fillmode": "overlay",
              "size": 10,
              "solidity": 0.2
             }
            },
            "type": "barpolar"
           }
          ],
          "carpet": [
           {
            "aaxis": {
             "endlinecolor": "#2a3f5f",
             "gridcolor": "white",
             "linecolor": "white",
             "minorgridcolor": "white",
             "startlinecolor": "#2a3f5f"
            },
            "baxis": {
             "endlinecolor": "#2a3f5f",
             "gridcolor": "white",
             "linecolor": "white",
             "minorgridcolor": "white",
             "startlinecolor": "#2a3f5f"
            },
            "type": "carpet"
           }
          ],
          "choropleth": [
           {
            "colorbar": {
             "outlinewidth": 0,
             "ticks": ""
            },
            "type": "choropleth"
           }
          ],
          "contour": [
           {
            "colorbar": {
             "outlinewidth": 0,
             "ticks": ""
            },
            "colorscale": [
             [
              0,
              "#0d0887"
             ],
             [
              0.1111111111111111,
              "#46039f"
             ],
             [
              0.2222222222222222,
              "#7201a8"
             ],
             [
              0.3333333333333333,
              "#9c179e"
             ],
             [
              0.4444444444444444,
              "#bd3786"
             ],
             [
              0.5555555555555556,
              "#d8576b"
             ],
             [
              0.6666666666666666,
              "#ed7953"
             ],
             [
              0.7777777777777778,
              "#fb9f3a"
             ],
             [
              0.8888888888888888,
              "#fdca26"
             ],
             [
              1,
              "#f0f921"
             ]
            ],
            "type": "contour"
           }
          ],
          "contourcarpet": [
           {
            "colorbar": {
             "outlinewidth": 0,
             "ticks": ""
            },
            "type": "contourcarpet"
           }
          ],
          "heatmap": [
           {
            "colorbar": {
             "outlinewidth": 0,
             "ticks": ""
            },
            "colorscale": [
             [
              0,
              "#0d0887"
             ],
             [
              0.1111111111111111,
              "#46039f"
             ],
             [
              0.2222222222222222,
              "#7201a8"
             ],
             [
              0.3333333333333333,
              "#9c179e"
             ],
             [
              0.4444444444444444,
              "#bd3786"
             ],
             [
              0.5555555555555556,
              "#d8576b"
             ],
             [
              0.6666666666666666,
              "#ed7953"
             ],
             [
              0.7777777777777778,
              "#fb9f3a"
             ],
             [
              0.8888888888888888,
              "#fdca26"
             ],
             [
              1,
              "#f0f921"
             ]
            ],
            "type": "heatmap"
           }
          ],
          "heatmapgl": [
           {
            "colorbar": {
             "outlinewidth": 0,
             "ticks": ""
            },
            "colorscale": [
             [
              0,
              "#0d0887"
             ],
             [
              0.1111111111111111,
              "#46039f"
             ],
             [
              0.2222222222222222,
              "#7201a8"
             ],
             [
              0.3333333333333333,
              "#9c179e"
             ],
             [
              0.4444444444444444,
              "#bd3786"
             ],
             [
              0.5555555555555556,
              "#d8576b"
             ],
             [
              0.6666666666666666,
              "#ed7953"
             ],
             [
              0.7777777777777778,
              "#fb9f3a"
             ],
             [
              0.8888888888888888,
              "#fdca26"
             ],
             [
              1,
              "#f0f921"
             ]
            ],
            "type": "heatmapgl"
           }
          ],
          "histogram": [
           {
            "marker": {
             "pattern": {
              "fillmode": "overlay",
              "size": 10,
              "solidity": 0.2
             }
            },
            "type": "histogram"
           }
          ],
          "histogram2d": [
           {
            "colorbar": {
             "outlinewidth": 0,
             "ticks": ""
            },
            "colorscale": [
             [
              0,
              "#0d0887"
             ],
             [
              0.1111111111111111,
              "#46039f"
             ],
             [
              0.2222222222222222,
              "#7201a8"
             ],
             [
              0.3333333333333333,
              "#9c179e"
             ],
             [
              0.4444444444444444,
              "#bd3786"
             ],
             [
              0.5555555555555556,
              "#d8576b"
             ],
             [
              0.6666666666666666,
              "#ed7953"
             ],
             [
              0.7777777777777778,
              "#fb9f3a"
             ],
             [
              0.8888888888888888,
              "#fdca26"
             ],
             [
              1,
              "#f0f921"
             ]
            ],
            "type": "histogram2d"
           }
          ],
          "histogram2dcontour": [
           {
            "colorbar": {
             "outlinewidth": 0,
             "ticks": ""
            },
            "colorscale": [
             [
              0,
              "#0d0887"
             ],
             [
              0.1111111111111111,
              "#46039f"
             ],
             [
              0.2222222222222222,
              "#7201a8"
             ],
             [
              0.3333333333333333,
              "#9c179e"
             ],
             [
              0.4444444444444444,
              "#bd3786"
             ],
             [
              0.5555555555555556,
              "#d8576b"
             ],
             [
              0.6666666666666666,
              "#ed7953"
             ],
             [
              0.7777777777777778,
              "#fb9f3a"
             ],
             [
              0.8888888888888888,
              "#fdca26"
             ],
             [
              1,
              "#f0f921"
             ]
            ],
            "type": "histogram2dcontour"
           }
          ],
          "mesh3d": [
           {
            "colorbar": {
             "outlinewidth": 0,
             "ticks": ""
            },
            "type": "mesh3d"
           }
          ],
          "parcoords": [
           {
            "line": {
             "colorbar": {
              "outlinewidth": 0,
              "ticks": ""
             }
            },
            "type": "parcoords"
           }
          ],
          "pie": [
           {
            "automargin": true,
            "type": "pie"
           }
          ],
          "scatter": [
           {
            "marker": {
             "colorbar": {
              "outlinewidth": 0,
              "ticks": ""
             }
            },
            "type": "scatter"
           }
          ],
          "scatter3d": [
           {
            "line": {
             "colorbar": {
              "outlinewidth": 0,
              "ticks": ""
             }
            },
            "marker": {
             "colorbar": {
              "outlinewidth": 0,
              "ticks": ""
             }
            },
            "type": "scatter3d"
           }
          ],
          "scattercarpet": [
           {
            "marker": {
             "colorbar": {
              "outlinewidth": 0,
              "ticks": ""
             }
            },
            "type": "scattercarpet"
           }
          ],
          "scattergeo": [
           {
            "marker": {
             "colorbar": {
              "outlinewidth": 0,
              "ticks": ""
             }
            },
            "type": "scattergeo"
           }
          ],
          "scattergl": [
           {
            "marker": {
             "colorbar": {
              "outlinewidth": 0,
              "ticks": ""
             }
            },
            "type": "scattergl"
           }
          ],
          "scattermapbox": [
           {
            "marker": {
             "colorbar": {
              "outlinewidth": 0,
              "ticks": ""
             }
            },
            "type": "scattermapbox"
           }
          ],
          "scatterpolar": [
           {
            "marker": {
             "colorbar": {
              "outlinewidth": 0,
              "ticks": ""
             }
            },
            "type": "scatterpolar"
           }
          ],
          "scatterpolargl": [
           {
            "marker": {
             "colorbar": {
              "outlinewidth": 0,
              "ticks": ""
             }
            },
            "type": "scatterpolargl"
           }
          ],
          "scatterternary": [
           {
            "marker": {
             "colorbar": {
              "outlinewidth": 0,
              "ticks": ""
             }
            },
            "type": "scatterternary"
           }
          ],
          "surface": [
           {
            "colorbar": {
             "outlinewidth": 0,
             "ticks": ""
            },
            "colorscale": [
             [
              0,
              "#0d0887"
             ],
             [
              0.1111111111111111,
              "#46039f"
             ],
             [
              0.2222222222222222,
              "#7201a8"
             ],
             [
              0.3333333333333333,
              "#9c179e"
             ],
             [
              0.4444444444444444,
              "#bd3786"
             ],
             [
              0.5555555555555556,
              "#d8576b"
             ],
             [
              0.6666666666666666,
              "#ed7953"
             ],
             [
              0.7777777777777778,
              "#fb9f3a"
             ],
             [
              0.8888888888888888,
              "#fdca26"
             ],
             [
              1,
              "#f0f921"
             ]
            ],
            "type": "surface"
           }
          ],
          "table": [
           {
            "cells": {
             "fill": {
              "color": "#EBF0F8"
             },
             "line": {
              "color": "white"
             }
            },
            "header": {
             "fill": {
              "color": "#C8D4E3"
             },
             "line": {
              "color": "white"
             }
            },
            "type": "table"
           }
          ]
         },
         "layout": {
          "annotationdefaults": {
           "arrowcolor": "#2a3f5f",
           "arrowhead": 0,
           "arrowwidth": 1
          },
          "autotypenumbers": "strict",
          "coloraxis": {
           "colorbar": {
            "outlinewidth": 0,
            "ticks": ""
           }
          },
          "colorscale": {
           "diverging": [
            [
             0,
             "#8e0152"
            ],
            [
             0.1,
             "#c51b7d"
            ],
            [
             0.2,
             "#de77ae"
            ],
            [
             0.3,
             "#f1b6da"
            ],
            [
             0.4,
             "#fde0ef"
            ],
            [
             0.5,
             "#f7f7f7"
            ],
            [
             0.6,
             "#e6f5d0"
            ],
            [
             0.7,
             "#b8e186"
            ],
            [
             0.8,
             "#7fbc41"
            ],
            [
             0.9,
             "#4d9221"
            ],
            [
             1,
             "#276419"
            ]
           ],
           "sequential": [
            [
             0,
             "#0d0887"
            ],
            [
             0.1111111111111111,
             "#46039f"
            ],
            [
             0.2222222222222222,
             "#7201a8"
            ],
            [
             0.3333333333333333,
             "#9c179e"
            ],
            [
             0.4444444444444444,
             "#bd3786"
            ],
            [
             0.5555555555555556,
             "#d8576b"
            ],
            [
             0.6666666666666666,
             "#ed7953"
            ],
            [
             0.7777777777777778,
             "#fb9f3a"
            ],
            [
             0.8888888888888888,
             "#fdca26"
            ],
            [
             1,
             "#f0f921"
            ]
           ],
           "sequentialminus": [
            [
             0,
             "#0d0887"
            ],
            [
             0.1111111111111111,
             "#46039f"
            ],
            [
             0.2222222222222222,
             "#7201a8"
            ],
            [
             0.3333333333333333,
             "#9c179e"
            ],
            [
             0.4444444444444444,
             "#bd3786"
            ],
            [
             0.5555555555555556,
             "#d8576b"
            ],
            [
             0.6666666666666666,
             "#ed7953"
            ],
            [
             0.7777777777777778,
             "#fb9f3a"
            ],
            [
             0.8888888888888888,
             "#fdca26"
            ],
            [
             1,
             "#f0f921"
            ]
           ]
          },
          "colorway": [
           "#636efa",
           "#EF553B",
           "#00cc96",
           "#ab63fa",
           "#FFA15A",
           "#19d3f3",
           "#FF6692",
           "#B6E880",
           "#FF97FF",
           "#FECB52"
          ],
          "font": {
           "color": "#2a3f5f"
          },
          "geo": {
           "bgcolor": "white",
           "lakecolor": "white",
           "landcolor": "#E5ECF6",
           "showlakes": true,
           "showland": true,
           "subunitcolor": "white"
          },
          "hoverlabel": {
           "align": "left"
          },
          "hovermode": "closest",
          "mapbox": {
           "style": "light"
          },
          "paper_bgcolor": "white",
          "plot_bgcolor": "#E5ECF6",
          "polar": {
           "angularaxis": {
            "gridcolor": "white",
            "linecolor": "white",
            "ticks": ""
           },
           "bgcolor": "#E5ECF6",
           "radialaxis": {
            "gridcolor": "white",
            "linecolor": "white",
            "ticks": ""
           }
          },
          "scene": {
           "xaxis": {
            "backgroundcolor": "#E5ECF6",
            "gridcolor": "white",
            "gridwidth": 2,
            "linecolor": "white",
            "showbackground": true,
            "ticks": "",
            "zerolinecolor": "white"
           },
           "yaxis": {
            "backgroundcolor": "#E5ECF6",
            "gridcolor": "white",
            "gridwidth": 2,
            "linecolor": "white",
            "showbackground": true,
            "ticks": "",
            "zerolinecolor": "white"
           },
           "zaxis": {
            "backgroundcolor": "#E5ECF6",
            "gridcolor": "white",
            "gridwidth": 2,
            "linecolor": "white",
            "showbackground": true,
            "ticks": "",
            "zerolinecolor": "white"
           }
          },
          "shapedefaults": {
           "line": {
            "color": "#2a3f5f"
           }
          },
          "ternary": {
           "aaxis": {
            "gridcolor": "white",
            "linecolor": "white",
            "ticks": ""
           },
           "baxis": {
            "gridcolor": "white",
            "linecolor": "white",
            "ticks": ""
           },
           "bgcolor": "#E5ECF6",
           "caxis": {
            "gridcolor": "white",
            "linecolor": "white",
            "ticks": ""
           }
          },
          "title": {
           "x": 0.05
          },
          "xaxis": {
           "automargin": true,
           "gridcolor": "white",
           "linecolor": "white",
           "ticks": "",
           "title": {
            "standoff": 15
           },
           "zerolinecolor": "white",
           "zerolinewidth": 2
          },
          "yaxis": {
           "automargin": true,
           "gridcolor": "white",
           "linecolor": "white",
           "ticks": "",
           "title": {
            "standoff": 15
           },
           "zerolinecolor": "white",
           "zerolinewidth": 2
          }
         }
        }
       }
      },
      "text/html": [
       "<div>                            <div id=\"b0edb933-c454-47a4-97b8-a76f0154df76\" class=\"plotly-graph-div\" style=\"height:525px; width:100%;\"></div>            <script type=\"text/javascript\">                require([\"plotly\"], function(Plotly) {                    window.PLOTLYENV=window.PLOTLYENV || {};                                    if (document.getElementById(\"b0edb933-c454-47a4-97b8-a76f0154df76\")) {                    Plotly.newPlot(                        \"b0edb933-c454-47a4-97b8-a76f0154df76\",                        [{\"branchvalues\":\"total\",\"customdata\":[[179.1,137.05],[186.66666666666666,139.66666666666666],[195.0,109.0],[268.0,115.0],[123.0,107.0],[116.0,122.0],[178.42857142857142,144.71428571428572],[220.1,135.66666666666666],[156.35294117647058,121.05882352941177],[212.28571428571428,111.85714285714286],[225.28571428571428,128.28571428571428],[182.4,127.6],[172.60169491525423,128.21186440677965],[169.64,142.6],[133.0,151.0],[264.0,108.0],[138.0,174.0],[154.375,158.625],[255.9294117647059,148.43529411764706],[181.0479704797048,133.81549815498155],[134.3939393939394,129.54545454545453],[202.59712230215828,145.84892086330936],[200.64705882352942,142.49019607843138],[70.0,118.0],[158.0,137.14285714285714],[182.65217391304347,131.81159420289856],[155.4,110.9],[258.5,165.0],[145.33333333333334,144.33333333333334],[346.0,125.0],[228.40086206896552,157.2198275862069],[174.0,137.11111111111111],[228.4814814814815,163.59259259259258],[149.0,142.1818181818182],[244.0,175.0],[\"(?)\",140.12488083889417],[\"(?)\",142.43506493506493],[\"(?)\",150.4375],[\"(?)\",135.89375],[\"(?)\",132.0],[\"(?)\",139.98265895953756]],\"domain\":{\"x\":[0.0,1.0],\"y\":[0.0,1.0]},\"hovertemplate\":\"labels=%{label}<br>class_counts=%{value}<br>parent=%{parent}<br>id=%{id}<br>overall_elo_geodens=%{customdata[0]}<br>overall_score_geodens=%{color}<extra></extra>\",\"ids\":[\"R1 Structures: Frequency and Overall Score for geodens/PI/0_m / 0_ts / 1_lab / 1_pi / 0_ac1 / 0_ac2\",\"R1 Structures: Frequency and Overall Score for geodens/lab/0_m / 0_ts / 2_lab / 0_pi / 0_ac1 / 0_ac2\",\"R1 Structures: Frequency and Overall Score for geodens/ac1/0_m / 1_ts / 0_lab / 0_pi / 1_ac1 / 0_ac2\",\"R1 Structures: Frequency and Overall Score for geodens/PI/0_m / 2_ts / 0_lab / 1_pi / 0_ac1 / 0_ac2\",\"R1 Structures: Frequency and Overall Score for geodens/lab/0_m / 2_ts / 1_lab / 0_pi / 0_ac1 / 0_ac2\",\"R1 Structures: Frequency and Overall Score for geodens/ts/0_m / 3_ts / 0_lab / 0_pi / 0_ac1 / 0_ac2\",\"R1 Structures: Frequency and Overall Score for geodens/ac2/1_m / 0_ts / 0_lab / 0_pi / 0_ac1 / 1_ac2\",\"R1 Structures: Frequency and Overall Score for geodens/ac1/1_m / 0_ts / 0_lab / 0_pi / 1_ac1 / 0_ac2\",\"R1 Structures: Frequency and Overall Score for geodens/PI/1_m / 0_ts / 0_lab / 1_pi / 0_ac1 / 0_ac2\",\"R1 Structures: Frequency and Overall Score for geodens/lab/1_m / 0_ts / 1_lab / 0_pi / 0_ac1 / 0_ac2\",\"R1 Structures: Frequency and Overall Score for geodens/PI/1_m / 0_ts / 1_lab / 1_pi / 0_ac1 / 0_ac2\",\"R1 Structures: Frequency and Overall Score for geodens/lab/1_m / 0_ts / 2_lab / 0_pi / 0_ac1 / 0_ac2\",\"R1 Structures: Frequency and Overall Score for geodens/PI/1_m / 1_ts / 0_lab / 1_pi / 0_ac1 / 0_ac2\",\"R1 Structures: Frequency and Overall Score for geodens/lab/1_m / 1_ts / 1_lab / 0_pi / 0_ac1 / 0_ac2\",\"R1 Structures: Frequency and Overall Score for geodens/ts/1_m / 2_ts / 0_lab / 0_pi / 0_ac1 / 0_ac2\",\"R1 Structures: Frequency and Overall Score for geodens/PI/1_m / 2_ts / 0_lab / 1_pi / 0_ac1 / 0_ac2\",\"R1 Structures: Frequency and Overall Score for geodens/lab/1_m / 2_ts / 1_lab / 0_pi / 0_ac1 / 0_ac2\",\"R1 Structures: Frequency and Overall Score for geodens/ac2/2_m / 0_ts / 0_lab / 0_pi / 0_ac1 / 1_ac2\",\"R1 Structures: Frequency and Overall Score for geodens/ac1/2_m / 0_ts / 0_lab / 0_pi / 1_ac1 / 0_ac2\",\"R1 Structures: Frequency and Overall Score for geodens/PI/2_m / 0_ts / 0_lab / 1_pi / 0_ac1 / 0_ac2\",\"R1 Structures: Frequency and Overall Score for geodens/lab/2_m / 0_ts / 1_lab / 0_pi / 0_ac1 / 0_ac2\",\"R1 Structures: Frequency and Overall Score for geodens/PI/2_m / 1_ts / 0_lab / 1_pi / 0_ac1 / 0_ac2\",\"R1 Structures: Frequency and Overall Score for geodens/lab/2_m / 1_ts / 1_lab / 0_pi / 0_ac1 / 0_ac2\",\"R1 Structures: Frequency and Overall Score for geodens/ts/2_m / 2_ts / 0_lab / 0_pi / 0_ac1 / 0_ac2\",\"R1 Structures: Frequency and Overall Score for geodens/ac1/3_m / 0_ts / 0_lab / 0_pi / 1_ac1 / 0_ac2\",\"R1 Structures: Frequency and Overall Score for geodens/PI/3_m / 0_ts / 0_lab / 1_pi / 0_ac1 / 0_ac2\",\"R1 Structures: Frequency and Overall Score for geodens/lab/3_m / 0_ts / 1_lab / 0_pi / 0_ac1 / 0_ac2\",\"R1 Structures: Frequency and Overall Score for geodens/PI/3_m / 1_ts / 0_lab / 1_pi / 0_ac1 / 0_ac2\",\"R1 Structures: Frequency and Overall Score for geodens/lab/3_m / 1_ts / 1_lab / 0_pi / 0_ac1 / 0_ac2\",\"R1 Structures: Frequency and Overall Score for geodens/ac2/4_m / 0_ts / 0_lab / 0_pi / 0_ac1 / 1_ac2\",\"R1 Structures: Frequency and Overall Score for geodens/PI/4_m / 0_ts / 0_lab / 1_pi / 0_ac1 / 0_ac2\",\"R1 Structures: Frequency and Overall Score for geodens/lab/4_m / 0_ts / 1_lab / 0_pi / 0_ac1 / 0_ac2\",\"R1 Structures: Frequency and Overall Score for geodens/PI/5_m / 0_ts / 0_lab / 1_pi / 0_ac1 / 0_ac2\",\"R1 Structures: Frequency and Overall Score for geodens/lab/5_m / 0_ts / 1_lab / 0_pi / 0_ac1 / 0_ac2\",\"R1 Structures: Frequency and Overall Score for geodens/lab/6_m / 0_ts / 1_lab / 0_pi / 0_ac1 / 0_ac2\",\"R1 Structures: Frequency and Overall Score for geodens/PI\",\"R1 Structures: Frequency and Overall Score for geodens/ac1\",\"R1 Structures: Frequency and Overall Score for geodens/ac2\",\"R1 Structures: Frequency and Overall Score for geodens/lab\",\"R1 Structures: Frequency and Overall Score for geodens/ts\",\"R1 Structures: Frequency and Overall Score for geodens\"],\"labels\":[\"0_m / 0_ts / 1_lab / 1_pi / 0_ac1 / 0_ac2\",\"0_m / 0_ts / 2_lab / 0_pi / 0_ac1 / 0_ac2\",\"0_m / 1_ts / 0_lab / 0_pi / 1_ac1 / 0_ac2\",\"0_m / 2_ts / 0_lab / 1_pi / 0_ac1 / 0_ac2\",\"0_m / 2_ts / 1_lab / 0_pi / 0_ac1 / 0_ac2\",\"0_m / 3_ts / 0_lab / 0_pi / 0_ac1 / 0_ac2\",\"1_m / 0_ts / 0_lab / 0_pi / 0_ac1 / 1_ac2\",\"1_m / 0_ts / 0_lab / 0_pi / 1_ac1 / 0_ac2\",\"1_m / 0_ts / 0_lab / 1_pi / 0_ac1 / 0_ac2\",\"1_m / 0_ts / 1_lab / 0_pi / 0_ac1 / 0_ac2\",\"1_m / 0_ts / 1_lab / 1_pi / 0_ac1 / 0_ac2\",\"1_m / 0_ts / 2_lab / 0_pi / 0_ac1 / 0_ac2\",\"1_m / 1_ts / 0_lab / 1_pi / 0_ac1 / 0_ac2\",\"1_m / 1_ts / 1_lab / 0_pi / 0_ac1 / 0_ac2\",\"1_m / 2_ts / 0_lab / 0_pi / 0_ac1 / 0_ac2\",\"1_m / 2_ts / 0_lab / 1_pi / 0_ac1 / 0_ac2\",\"1_m / 2_ts / 1_lab / 0_pi / 0_ac1 / 0_ac2\",\"2_m / 0_ts / 0_lab / 0_pi / 0_ac1 / 1_ac2\",\"2_m / 0_ts / 0_lab / 0_pi / 1_ac1 / 0_ac2\",\"2_m / 0_ts / 0_lab / 1_pi / 0_ac1 / 0_ac2\",\"2_m / 0_ts / 1_lab / 0_pi / 0_ac1 / 0_ac2\",\"2_m / 1_ts / 0_lab / 1_pi / 0_ac1 / 0_ac2\",\"2_m / 1_ts / 1_lab / 0_pi / 0_ac1 / 0_ac2\",\"2_m / 2_ts / 0_lab / 0_pi / 0_ac1 / 0_ac2\",\"3_m / 0_ts / 0_lab / 0_pi / 1_ac1 / 0_ac2\",\"3_m / 0_ts / 0_lab / 1_pi / 0_ac1 / 0_ac2\",\"3_m / 0_ts / 1_lab / 0_pi / 0_ac1 / 0_ac2\",\"3_m / 1_ts / 0_lab / 1_pi / 0_ac1 / 0_ac2\",\"3_m / 1_ts / 1_lab / 0_pi / 0_ac1 / 0_ac2\",\"4_m / 0_ts / 0_lab / 0_pi / 0_ac1 / 1_ac2\",\"4_m / 0_ts / 0_lab / 1_pi / 0_ac1 / 0_ac2\",\"4_m / 0_ts / 1_lab / 0_pi / 0_ac1 / 0_ac2\",\"5_m / 0_ts / 0_lab / 1_pi / 0_ac1 / 0_ac2\",\"5_m / 0_ts / 1_lab / 0_pi / 0_ac1 / 0_ac2\",\"6_m / 0_ts / 1_lab / 0_pi / 0_ac1 / 0_ac2\",\"PI\",\"ac1\",\"ac2\",\"lab\",\"ts\",\"R1 Structures: Frequency and Overall Score for geodens\"],\"marker\":{\"coloraxis\":\"coloraxis\",\"colors\":[137.05,139.66666666666666,109.0,115.0,107.0,122.0,144.71428571428572,135.66666666666666,121.05882352941177,111.85714285714286,128.28571428571428,127.6,128.21186440677965,142.6,151.0,108.0,174.0,158.625,148.43529411764706,133.81549815498155,129.54545454545453,145.84892086330936,142.49019607843138,118.0,137.14285714285714,131.81159420289856,110.9,165.0,144.33333333333334,125.0,157.2198275862069,137.11111111111111,163.59259259259258,142.1818181818182,175.0,140.12488083889417,142.43506493506493,150.4375,135.89375,132.0,139.98265895953756]},\"name\":\"\",\"parents\":[\"R1 Structures: Frequency and Overall Score for geodens/PI\",\"R1 Structures: Frequency and Overall Score for geodens/lab\",\"R1 Structures: Frequency and Overall Score for geodens/ac1\",\"R1 Structures: Frequency and Overall Score for geodens/PI\",\"R1 Structures: Frequency and Overall Score for geodens/lab\",\"R1 Structures: Frequency and Overall Score for geodens/ts\",\"R1 Structures: Frequency and Overall Score for geodens/ac2\",\"R1 Structures: Frequency and Overall Score for geodens/ac1\",\"R1 Structures: Frequency and Overall Score for geodens/PI\",\"R1 Structures: Frequency and Overall Score for geodens/lab\",\"R1 Structures: Frequency and Overall Score for geodens/PI\",\"R1 Structures: Frequency and Overall Score for geodens/lab\",\"R1 Structures: Frequency and Overall Score for geodens/PI\",\"R1 Structures: Frequency and Overall Score for geodens/lab\",\"R1 Structures: Frequency and Overall Score for geodens/ts\",\"R1 Structures: Frequency and Overall Score for geodens/PI\",\"R1 Structures: Frequency and Overall Score for geodens/lab\",\"R1 Structures: Frequency and Overall Score for geodens/ac2\",\"R1 Structures: Frequency and Overall Score for geodens/ac1\",\"R1 Structures: Frequency and Overall Score for geodens/PI\",\"R1 Structures: Frequency and Overall Score for geodens/lab\",\"R1 Structures: Frequency and Overall Score for geodens/PI\",\"R1 Structures: Frequency and Overall Score for geodens/lab\",\"R1 Structures: Frequency and Overall Score for geodens/ts\",\"R1 Structures: Frequency and Overall Score for geodens/ac1\",\"R1 Structures: Frequency and Overall Score for geodens/PI\",\"R1 Structures: Frequency and Overall Score for geodens/lab\",\"R1 Structures: Frequency and Overall Score for geodens/PI\",\"R1 Structures: Frequency and Overall Score for geodens/lab\",\"R1 Structures: Frequency and Overall Score for geodens/ac2\",\"R1 Structures: Frequency and Overall Score for geodens/PI\",\"R1 Structures: Frequency and Overall Score for geodens/lab\",\"R1 Structures: Frequency and Overall Score for geodens/PI\",\"R1 Structures: Frequency and Overall Score for geodens/lab\",\"R1 Structures: Frequency and Overall Score for geodens/lab\",\"R1 Structures: Frequency and Overall Score for geodens\",\"R1 Structures: Frequency and Overall Score for geodens\",\"R1 Structures: Frequency and Overall Score for geodens\",\"R1 Structures: Frequency and Overall Score for geodens\",\"R1 Structures: Frequency and Overall Score for geodens\",\"\"],\"values\":[20,3,2,1,1,1,7,60,17,7,14,5,118,25,2,1,1,8,85,271,33,139,51,2,7,207,10,2,3,1,232,9,27,11,1,1049,154,16,160,5,1384],\"type\":\"treemap\"}],                        {\"template\":{\"data\":{\"bar\":[{\"error_x\":{\"color\":\"#2a3f5f\"},\"error_y\":{\"color\":\"#2a3f5f\"},\"marker\":{\"line\":{\"color\":\"#E5ECF6\",\"width\":0.5},\"pattern\":{\"fillmode\":\"overlay\",\"size\":10,\"solidity\":0.2}},\"type\":\"bar\"}],\"barpolar\":[{\"marker\":{\"line\":{\"color\":\"#E5ECF6\",\"width\":0.5},\"pattern\":{\"fillmode\":\"overlay\",\"size\":10,\"solidity\":0.2}},\"type\":\"barpolar\"}],\"carpet\":[{\"aaxis\":{\"endlinecolor\":\"#2a3f5f\",\"gridcolor\":\"white\",\"linecolor\":\"white\",\"minorgridcolor\":\"white\",\"startlinecolor\":\"#2a3f5f\"},\"baxis\":{\"endlinecolor\":\"#2a3f5f\",\"gridcolor\":\"white\",\"linecolor\":\"white\",\"minorgridcolor\":\"white\",\"startlinecolor\":\"#2a3f5f\"},\"type\":\"carpet\"}],\"choropleth\":[{\"colorbar\":{\"outlinewidth\":0,\"ticks\":\"\"},\"type\":\"choropleth\"}],\"contour\":[{\"colorbar\":{\"outlinewidth\":0,\"ticks\":\"\"},\"colorscale\":[[0.0,\"#0d0887\"],[0.1111111111111111,\"#46039f\"],[0.2222222222222222,\"#7201a8\"],[0.3333333333333333,\"#9c179e\"],[0.4444444444444444,\"#bd3786\"],[0.5555555555555556,\"#d8576b\"],[0.6666666666666666,\"#ed7953\"],[0.7777777777777778,\"#fb9f3a\"],[0.8888888888888888,\"#fdca26\"],[1.0,\"#f0f921\"]],\"type\":\"contour\"}],\"contourcarpet\":[{\"colorbar\":{\"outlinewidth\":0,\"ticks\":\"\"},\"type\":\"contourcarpet\"}],\"heatmap\":[{\"colorbar\":{\"outlinewidth\":0,\"ticks\":\"\"},\"colorscale\":[[0.0,\"#0d0887\"],[0.1111111111111111,\"#46039f\"],[0.2222222222222222,\"#7201a8\"],[0.3333333333333333,\"#9c179e\"],[0.4444444444444444,\"#bd3786\"],[0.5555555555555556,\"#d8576b\"],[0.6666666666666666,\"#ed7953\"],[0.7777777777777778,\"#fb9f3a\"],[0.8888888888888888,\"#fdca26\"],[1.0,\"#f0f921\"]],\"type\":\"heatmap\"}],\"heatmapgl\":[{\"colorbar\":{\"outlinewidth\":0,\"ticks\":\"\"},\"colorscale\":[[0.0,\"#0d0887\"],[0.1111111111111111,\"#46039f\"],[0.2222222222222222,\"#7201a8\"],[0.3333333333333333,\"#9c179e\"],[0.4444444444444444,\"#bd3786\"],[0.5555555555555556,\"#d8576b\"],[0.6666666666666666,\"#ed7953\"],[0.7777777777777778,\"#fb9f3a\"],[0.8888888888888888,\"#fdca26\"],[1.0,\"#f0f921\"]],\"type\":\"heatmapgl\"}],\"histogram\":[{\"marker\":{\"pattern\":{\"fillmode\":\"overlay\",\"size\":10,\"solidity\":0.2}},\"type\":\"histogram\"}],\"histogram2d\":[{\"colorbar\":{\"outlinewidth\":0,\"ticks\":\"\"},\"colorscale\":[[0.0,\"#0d0887\"],[0.1111111111111111,\"#46039f\"],[0.2222222222222222,\"#7201a8\"],[0.3333333333333333,\"#9c179e\"],[0.4444444444444444,\"#bd3786\"],[0.5555555555555556,\"#d8576b\"],[0.6666666666666666,\"#ed7953\"],[0.7777777777777778,\"#fb9f3a\"],[0.8888888888888888,\"#fdca26\"],[1.0,\"#f0f921\"]],\"type\":\"histogram2d\"}],\"histogram2dcontour\":[{\"colorbar\":{\"outlinewidth\":0,\"ticks\":\"\"},\"colorscale\":[[0.0,\"#0d0887\"],[0.1111111111111111,\"#46039f\"],[0.2222222222222222,\"#7201a8\"],[0.3333333333333333,\"#9c179e\"],[0.4444444444444444,\"#bd3786\"],[0.5555555555555556,\"#d8576b\"],[0.6666666666666666,\"#ed7953\"],[0.7777777777777778,\"#fb9f3a\"],[0.8888888888888888,\"#fdca26\"],[1.0,\"#f0f921\"]],\"type\":\"histogram2dcontour\"}],\"mesh3d\":[{\"colorbar\":{\"outlinewidth\":0,\"ticks\":\"\"},\"type\":\"mesh3d\"}],\"parcoords\":[{\"line\":{\"colorbar\":{\"outlinewidth\":0,\"ticks\":\"\"}},\"type\":\"parcoords\"}],\"pie\":[{\"automargin\":true,\"type\":\"pie\"}],\"scatter\":[{\"marker\":{\"colorbar\":{\"outlinewidth\":0,\"ticks\":\"\"}},\"type\":\"scatter\"}],\"scatter3d\":[{\"line\":{\"colorbar\":{\"outlinewidth\":0,\"ticks\":\"\"}},\"marker\":{\"colorbar\":{\"outlinewidth\":0,\"ticks\":\"\"}},\"type\":\"scatter3d\"}],\"scattercarpet\":[{\"marker\":{\"colorbar\":{\"outlinewidth\":0,\"ticks\":\"\"}},\"type\":\"scattercarpet\"}],\"scattergeo\":[{\"marker\":{\"colorbar\":{\"outlinewidth\":0,\"ticks\":\"\"}},\"type\":\"scattergeo\"}],\"scattergl\":[{\"marker\":{\"colorbar\":{\"outlinewidth\":0,\"ticks\":\"\"}},\"type\":\"scattergl\"}],\"scattermapbox\":[{\"marker\":{\"colorbar\":{\"outlinewidth\":0,\"ticks\":\"\"}},\"type\":\"scattermapbox\"}],\"scatterpolar\":[{\"marker\":{\"colorbar\":{\"outlinewidth\":0,\"ticks\":\"\"}},\"type\":\"scatterpolar\"}],\"scatterpolargl\":[{\"marker\":{\"colorbar\":{\"outlinewidth\":0,\"ticks\":\"\"}},\"type\":\"scatterpolargl\"}],\"scatterternary\":[{\"marker\":{\"colorbar\":{\"outlinewidth\":0,\"ticks\":\"\"}},\"type\":\"scatterternary\"}],\"surface\":[{\"colorbar\":{\"outlinewidth\":0,\"ticks\":\"\"},\"colorscale\":[[0.0,\"#0d0887\"],[0.1111111111111111,\"#46039f\"],[0.2222222222222222,\"#7201a8\"],[0.3333333333333333,\"#9c179e\"],[0.4444444444444444,\"#bd3786\"],[0.5555555555555556,\"#d8576b\"],[0.6666666666666666,\"#ed7953\"],[0.7777777777777778,\"#fb9f3a\"],[0.8888888888888888,\"#fdca26\"],[1.0,\"#f0f921\"]],\"type\":\"surface\"}],\"table\":[{\"cells\":{\"fill\":{\"color\":\"#EBF0F8\"},\"line\":{\"color\":\"white\"}},\"header\":{\"fill\":{\"color\":\"#C8D4E3\"},\"line\":{\"color\":\"white\"}},\"type\":\"table\"}]},\"layout\":{\"annotationdefaults\":{\"arrowcolor\":\"#2a3f5f\",\"arrowhead\":0,\"arrowwidth\":1},\"autotypenumbers\":\"strict\",\"coloraxis\":{\"colorbar\":{\"outlinewidth\":0,\"ticks\":\"\"}},\"colorscale\":{\"diverging\":[[0,\"#8e0152\"],[0.1,\"#c51b7d\"],[0.2,\"#de77ae\"],[0.3,\"#f1b6da\"],[0.4,\"#fde0ef\"],[0.5,\"#f7f7f7\"],[0.6,\"#e6f5d0\"],[0.7,\"#b8e186\"],[0.8,\"#7fbc41\"],[0.9,\"#4d9221\"],[1,\"#276419\"]],\"sequential\":[[0.0,\"#0d0887\"],[0.1111111111111111,\"#46039f\"],[0.2222222222222222,\"#7201a8\"],[0.3333333333333333,\"#9c179e\"],[0.4444444444444444,\"#bd3786\"],[0.5555555555555556,\"#d8576b\"],[0.6666666666666666,\"#ed7953\"],[0.7777777777777778,\"#fb9f3a\"],[0.8888888888888888,\"#fdca26\"],[1.0,\"#f0f921\"]],\"sequentialminus\":[[0.0,\"#0d0887\"],[0.1111111111111111,\"#46039f\"],[0.2222222222222222,\"#7201a8\"],[0.3333333333333333,\"#9c179e\"],[0.4444444444444444,\"#bd3786\"],[0.5555555555555556,\"#d8576b\"],[0.6666666666666666,\"#ed7953\"],[0.7777777777777778,\"#fb9f3a\"],[0.8888888888888888,\"#fdca26\"],[1.0,\"#f0f921\"]]},\"colorway\":[\"#636efa\",\"#EF553B\",\"#00cc96\",\"#ab63fa\",\"#FFA15A\",\"#19d3f3\",\"#FF6692\",\"#B6E880\",\"#FF97FF\",\"#FECB52\"],\"font\":{\"color\":\"#2a3f5f\"},\"geo\":{\"bgcolor\":\"white\",\"lakecolor\":\"white\",\"landcolor\":\"#E5ECF6\",\"showlakes\":true,\"showland\":true,\"subunitcolor\":\"white\"},\"hoverlabel\":{\"align\":\"left\"},\"hovermode\":\"closest\",\"mapbox\":{\"style\":\"light\"},\"paper_bgcolor\":\"white\",\"plot_bgcolor\":\"#E5ECF6\",\"polar\":{\"angularaxis\":{\"gridcolor\":\"white\",\"linecolor\":\"white\",\"ticks\":\"\"},\"bgcolor\":\"#E5ECF6\",\"radialaxis\":{\"gridcolor\":\"white\",\"linecolor\":\"white\",\"ticks\":\"\"}},\"scene\":{\"xaxis\":{\"backgroundcolor\":\"#E5ECF6\",\"gridcolor\":\"white\",\"gridwidth\":2,\"linecolor\":\"white\",\"showbackground\":true,\"ticks\":\"\",\"zerolinecolor\":\"white\"},\"yaxis\":{\"backgroundcolor\":\"#E5ECF6\",\"gridcolor\":\"white\",\"gridwidth\":2,\"linecolor\":\"white\",\"showbackground\":true,\"ticks\":\"\",\"zerolinecolor\":\"white\"},\"zaxis\":{\"backgroundcolor\":\"#E5ECF6\",\"gridcolor\":\"white\",\"gridwidth\":2,\"linecolor\":\"white\",\"showbackground\":true,\"ticks\":\"\",\"zerolinecolor\":\"white\"}},\"shapedefaults\":{\"line\":{\"color\":\"#2a3f5f\"}},\"ternary\":{\"aaxis\":{\"gridcolor\":\"white\",\"linecolor\":\"white\",\"ticks\":\"\"},\"baxis\":{\"gridcolor\":\"white\",\"linecolor\":\"white\",\"ticks\":\"\"},\"bgcolor\":\"#E5ECF6\",\"caxis\":{\"gridcolor\":\"white\",\"linecolor\":\"white\",\"ticks\":\"\"}},\"title\":{\"x\":0.05},\"xaxis\":{\"automargin\":true,\"gridcolor\":\"white\",\"linecolor\":\"white\",\"ticks\":\"\",\"title\":{\"standoff\":15},\"zerolinecolor\":\"white\",\"zerolinewidth\":2},\"yaxis\":{\"automargin\":true,\"gridcolor\":\"white\",\"linecolor\":\"white\",\"ticks\":\"\",\"title\":{\"standoff\":15},\"zerolinecolor\":\"white\",\"zerolinewidth\":2}}},\"coloraxis\":{\"colorbar\":{\"title\":{\"text\":\"overall_score_geodens\"}},\"colorscale\":[[0.0,\"rgb(103,0,31)\"],[0.1,\"rgb(178,24,43)\"],[0.2,\"rgb(214,96,77)\"],[0.3,\"rgb(244,165,130)\"],[0.4,\"rgb(253,219,199)\"],[0.5,\"rgb(247,247,247)\"],[0.6,\"rgb(209,229,240)\"],[0.7,\"rgb(146,197,222)\"],[0.8,\"rgb(67,147,195)\"],[0.9,\"rgb(33,102,172)\"],[1.0,\"rgb(5,48,97)\"]],\"cmid\":137.05},\"legend\":{\"tracegroupgap\":0},\"margin\":{\"t\":50,\"l\":25,\"r\":25,\"b\":25}},                        {\"responsive\": true}                    ).then(function(){\n",
       "                            \n",
       "var gd = document.getElementById('b0edb933-c454-47a4-97b8-a76f0154df76');\n",
       "var x = new MutationObserver(function (mutations, observer) {{\n",
       "        var display = window.getComputedStyle(gd).display;\n",
       "        if (!display || display === 'none') {{\n",
       "            console.log([gd, 'removed!']);\n",
       "            Plotly.purge(gd);\n",
       "            observer.disconnect();\n",
       "        }}\n",
       "}});\n",
       "\n",
       "// Listen for the removal of the full notebook cells\n",
       "var notebookContainer = gd.closest('#notebook-container');\n",
       "if (notebookContainer) {{\n",
       "    x.observe(notebookContainer, {childList: true});\n",
       "}}\n",
       "\n",
       "// Listen for the clearing of the current output cell\n",
       "var outputEl = gd.closest('.output');\n",
       "if (outputEl) {{\n",
       "    x.observe(outputEl, {childList: true});\n",
       "}}\n",
       "\n",
       "                        })                };                });            </script>        </div>"
      ]
     },
     "metadata": {},
     "output_type": "display_data"
    },
    {
     "data": {
      "application/vnd.plotly.v1+json": {
       "config": {
        "plotlyServerURL": "https://plot.ly"
       },
       "data": [
        {
         "branchvalues": "total",
         "customdata": [
          [
           150.5,
           140.6
          ],
          [
           210.875,
           147.98214285714286
          ],
          [
           179.59493670886076,
           134.29113924050634
          ],
          [
           169.04166666666666,
           142.91666666666666
          ],
          [
           156.28571428571428,
           136.28571428571428
          ],
          [
           234.76923076923077,
           148.46153846153845
          ],
          [
           215.84438430311232,
           154.00270635994588
          ],
          [
           133.9047619047619,
           121.80952380952381
          ],
          [
           155.5,
           142.88888888888889
          ],
          [
           175.5,
           138.375
          ],
          [
           146.78846153846155,
           133.98076923076923
          ],
          [
           334,
           203
          ],
          [
           229.17401960784315,
           159.35049019607843
          ],
          [
           192.48529411764707,
           145.93382352941177
          ],
          [
           233.5,
           179
          ],
          [
           143,
           151.33333333333334
          ],
          [
           119.48,
           128.08
          ],
          [
           181.15,
           155.5
          ],
          [
           98.5,
           159.5
          ],
          [
           184.63333333333333,
           141.56666666666666
          ],
          [
           169,
           126
          ],
          [
           170.5,
           167.5
          ],
          [
           264.375,
           160.375
          ],
          [
           "(?)",
           150.42239336492892
          ],
          [
           "(?)",
           148.79518072289156
          ],
          [
           150.5,
           140.6
          ],
          [
           "(?)",
           150.2914093206064
          ]
         ],
         "domain": {
          "x": [
           0,
           1
          ],
          "y": [
           0,
           1
          ]
         },
         "hovertemplate": "labels=%{label}<br>class_counts=%{value}<br>parent=%{parent}<br>id=%{id}<br>overall_elo_ivits=%{customdata[0]}<br>overall_score_ivits=%{color}<extra></extra>",
         "ids": [
          "R1 Structures: Frequency and Overall Score for ivits/ac2/0_m / -1_ts / 0_lab / 1_pi / 0_ac1 / 1_ac2",
          "R1 Structures: Frequency and Overall Score for ivits/ac1/0_m / -1_ts / 0_lab / 1_pi / 1_ac1 / 0_ac2",
          "R1 Structures: Frequency and Overall Score for ivits/PI/0_m / -1_ts / 1_lab / 1_pi / 0_ac1 / 0_ac2",
          "R1 Structures: Frequency and Overall Score for ivits/PI/0_m / 0_ts / 1_lab / 1_pi / 0_ac1 / 0_ac2",
          "R1 Structures: Frequency and Overall Score for ivits/PI/0_m / 1_ts / 0_lab / 1_pi / 0_ac1 / 0_ac2",
          "R1 Structures: Frequency and Overall Score for ivits/ac1/1_m / -1_ts / 0_lab / 1_pi / 1_ac1 / 0_ac2",
          "R1 Structures: Frequency and Overall Score for ivits/PI/1_m / -1_ts / 1_lab / 1_pi / 0_ac1 / 0_ac2",
          "R1 Structures: Frequency and Overall Score for ivits/PI/1_m / 0_ts / 0_lab / 1_pi / 0_ac1 / 0_ac2",
          "R1 Structures: Frequency and Overall Score for ivits/PI/1_m / 0_ts / 1_lab / 1_pi / 0_ac1 / 0_ac2",
          "R1 Structures: Frequency and Overall Score for ivits/PI/1_m / 1_ts / 0_lab / 1_pi / 0_ac1 / 0_ac2",
          "R1 Structures: Frequency and Overall Score for ivits/PI/2_m / -1_ts / 0_lab / 1_pi / 0_ac1 / 0_ac2",
          "R1 Structures: Frequency and Overall Score for ivits/ac1/2_m / -1_ts / 0_lab / 1_pi / 1_ac1 / 0_ac2",
          "R1 Structures: Frequency and Overall Score for ivits/PI/2_m / -1_ts / 1_lab / 1_pi / 0_ac1 / 0_ac2",
          "R1 Structures: Frequency and Overall Score for ivits/PI/2_m / 0_ts / 0_lab / 1_pi / 0_ac1 / 0_ac2",
          "R1 Structures: Frequency and Overall Score for ivits/PI/2_m / 0_ts / 1_lab / 1_pi / 0_ac1 / 0_ac2",
          "R1 Structures: Frequency and Overall Score for ivits/PI/2_m / 1_ts / 0_lab / 1_pi / 0_ac1 / 0_ac2",
          "R1 Structures: Frequency and Overall Score for ivits/PI/3_m / -1_ts / 0_lab / 1_pi / 0_ac1 / 0_ac2",
          "R1 Structures: Frequency and Overall Score for ivits/PI/3_m / -1_ts / 1_lab / 1_pi / 0_ac1 / 0_ac2",
          "R1 Structures: Frequency and Overall Score for ivits/PI/3_m / 0_ts / 0_lab / 1_pi / 0_ac1 / 0_ac2",
          "R1 Structures: Frequency and Overall Score for ivits/PI/4_m / -1_ts / 0_lab / 1_pi / 0_ac1 / 0_ac2",
          "R1 Structures: Frequency and Overall Score for ivits/PI/4_m / -1_ts / 1_lab / 1_pi / 0_ac1 / 0_ac2",
          "R1 Structures: Frequency and Overall Score for ivits/PI/4_m / 0_ts / 0_lab / 1_pi / 0_ac1 / 0_ac2",
          "R1 Structures: Frequency and Overall Score for ivits/PI/5_m / -1_ts / 0_lab / 1_pi / 0_ac1 / 0_ac2",
          "R1 Structures: Frequency and Overall Score for ivits/PI",
          "R1 Structures: Frequency and Overall Score for ivits/ac1",
          "R1 Structures: Frequency and Overall Score for ivits/ac2",
          "R1 Structures: Frequency and Overall Score for ivits"
         ],
         "labels": [
          "0_m / -1_ts / 0_lab / 1_pi / 0_ac1 / 1_ac2",
          "0_m / -1_ts / 0_lab / 1_pi / 1_ac1 / 0_ac2",
          "0_m / -1_ts / 1_lab / 1_pi / 0_ac1 / 0_ac2",
          "0_m / 0_ts / 1_lab / 1_pi / 0_ac1 / 0_ac2",
          "0_m / 1_ts / 0_lab / 1_pi / 0_ac1 / 0_ac2",
          "1_m / -1_ts / 0_lab / 1_pi / 1_ac1 / 0_ac2",
          "1_m / -1_ts / 1_lab / 1_pi / 0_ac1 / 0_ac2",
          "1_m / 0_ts / 0_lab / 1_pi / 0_ac1 / 0_ac2",
          "1_m / 0_ts / 1_lab / 1_pi / 0_ac1 / 0_ac2",
          "1_m / 1_ts / 0_lab / 1_pi / 0_ac1 / 0_ac2",
          "2_m / -1_ts / 0_lab / 1_pi / 0_ac1 / 0_ac2",
          "2_m / -1_ts / 0_lab / 1_pi / 1_ac1 / 0_ac2",
          "2_m / -1_ts / 1_lab / 1_pi / 0_ac1 / 0_ac2",
          "2_m / 0_ts / 0_lab / 1_pi / 0_ac1 / 0_ac2",
          "2_m / 0_ts / 1_lab / 1_pi / 0_ac1 / 0_ac2",
          "2_m / 1_ts / 0_lab / 1_pi / 0_ac1 / 0_ac2",
          "3_m / -1_ts / 0_lab / 1_pi / 0_ac1 / 0_ac2",
          "3_m / -1_ts / 1_lab / 1_pi / 0_ac1 / 0_ac2",
          "3_m / 0_ts / 0_lab / 1_pi / 0_ac1 / 0_ac2",
          "4_m / -1_ts / 0_lab / 1_pi / 0_ac1 / 0_ac2",
          "4_m / -1_ts / 1_lab / 1_pi / 0_ac1 / 0_ac2",
          "4_m / 0_ts / 0_lab / 1_pi / 0_ac1 / 0_ac2",
          "5_m / -1_ts / 0_lab / 1_pi / 0_ac1 / 0_ac2",
          "PI",
          "ac1",
          "ac2",
          "R1 Structures: Frequency and Overall Score for ivits"
         ],
         "marker": {
          "coloraxis": "coloraxis",
          "colors": [
           140.6,
           147.98214285714286,
           134.29113924050634,
           142.91666666666666,
           136.28571428571428,
           148.46153846153845,
           154.00270635994588,
           121.80952380952381,
           142.88888888888889,
           138.375,
           133.98076923076923,
           203,
           159.35049019607843,
           145.93382352941177,
           179,
           151.33333333333334,
           128.08,
           155.5,
           159.5,
           141.56666666666666,
           126,
           167.5,
           160.375,
           150.42239336492892,
           148.79518072289156,
           140.6,
           150.2914093206064
          ]
         },
         "name": "",
         "parents": [
          "R1 Structures: Frequency and Overall Score for ivits/ac2",
          "R1 Structures: Frequency and Overall Score for ivits/ac1",
          "R1 Structures: Frequency and Overall Score for ivits/PI",
          "R1 Structures: Frequency and Overall Score for ivits/PI",
          "R1 Structures: Frequency and Overall Score for ivits/PI",
          "R1 Structures: Frequency and Overall Score for ivits/ac1",
          "R1 Structures: Frequency and Overall Score for ivits/PI",
          "R1 Structures: Frequency and Overall Score for ivits/PI",
          "R1 Structures: Frequency and Overall Score for ivits/PI",
          "R1 Structures: Frequency and Overall Score for ivits/PI",
          "R1 Structures: Frequency and Overall Score for ivits/PI",
          "R1 Structures: Frequency and Overall Score for ivits/ac1",
          "R1 Structures: Frequency and Overall Score for ivits/PI",
          "R1 Structures: Frequency and Overall Score for ivits/PI",
          "R1 Structures: Frequency and Overall Score for ivits/PI",
          "R1 Structures: Frequency and Overall Score for ivits/PI",
          "R1 Structures: Frequency and Overall Score for ivits/PI",
          "R1 Structures: Frequency and Overall Score for ivits/PI",
          "R1 Structures: Frequency and Overall Score for ivits/PI",
          "R1 Structures: Frequency and Overall Score for ivits/PI",
          "R1 Structures: Frequency and Overall Score for ivits/PI",
          "R1 Structures: Frequency and Overall Score for ivits/PI",
          "R1 Structures: Frequency and Overall Score for ivits/PI",
          "R1 Structures: Frequency and Overall Score for ivits",
          "R1 Structures: Frequency and Overall Score for ivits",
          "R1 Structures: Frequency and Overall Score for ivits",
          ""
         ],
         "type": "treemap",
         "values": [
          10,
          56,
          158,
          24,
          7,
          26,
          739,
          42,
          18,
          8,
          52,
          1,
          408,
          136,
          2,
          3,
          25,
          20,
          4,
          30,
          2,
          2,
          8,
          1688,
          83,
          10,
          1781
         ]
        }
       ],
       "layout": {
        "coloraxis": {
         "cmid": 145.93382352941177,
         "colorbar": {
          "title": {
           "text": "overall_score_ivits"
          }
         },
         "colorscale": [
          [
           0,
           "rgb(103,0,31)"
          ],
          [
           0.1,
           "rgb(178,24,43)"
          ],
          [
           0.2,
           "rgb(214,96,77)"
          ],
          [
           0.3,
           "rgb(244,165,130)"
          ],
          [
           0.4,
           "rgb(253,219,199)"
          ],
          [
           0.5,
           "rgb(247,247,247)"
          ],
          [
           0.6,
           "rgb(209,229,240)"
          ],
          [
           0.7,
           "rgb(146,197,222)"
          ],
          [
           0.8,
           "rgb(67,147,195)"
          ],
          [
           0.9,
           "rgb(33,102,172)"
          ],
          [
           1,
           "rgb(5,48,97)"
          ]
         ]
        },
        "legend": {
         "tracegroupgap": 0
        },
        "margin": {
         "b": 25,
         "l": 25,
         "r": 25,
         "t": 50
        },
        "template": {
         "data": {
          "bar": [
           {
            "error_x": {
             "color": "#2a3f5f"
            },
            "error_y": {
             "color": "#2a3f5f"
            },
            "marker": {
             "line": {
              "color": "#E5ECF6",
              "width": 0.5
             },
             "pattern": {
              "fillmode": "overlay",
              "size": 10,
              "solidity": 0.2
             }
            },
            "type": "bar"
           }
          ],
          "barpolar": [
           {
            "marker": {
             "line": {
              "color": "#E5ECF6",
              "width": 0.5
             },
             "pattern": {
              "fillmode": "overlay",
              "size": 10,
              "solidity": 0.2
             }
            },
            "type": "barpolar"
           }
          ],
          "carpet": [
           {
            "aaxis": {
             "endlinecolor": "#2a3f5f",
             "gridcolor": "white",
             "linecolor": "white",
             "minorgridcolor": "white",
             "startlinecolor": "#2a3f5f"
            },
            "baxis": {
             "endlinecolor": "#2a3f5f",
             "gridcolor": "white",
             "linecolor": "white",
             "minorgridcolor": "white",
             "startlinecolor": "#2a3f5f"
            },
            "type": "carpet"
           }
          ],
          "choropleth": [
           {
            "colorbar": {
             "outlinewidth": 0,
             "ticks": ""
            },
            "type": "choropleth"
           }
          ],
          "contour": [
           {
            "colorbar": {
             "outlinewidth": 0,
             "ticks": ""
            },
            "colorscale": [
             [
              0,
              "#0d0887"
             ],
             [
              0.1111111111111111,
              "#46039f"
             ],
             [
              0.2222222222222222,
              "#7201a8"
             ],
             [
              0.3333333333333333,
              "#9c179e"
             ],
             [
              0.4444444444444444,
              "#bd3786"
             ],
             [
              0.5555555555555556,
              "#d8576b"
             ],
             [
              0.6666666666666666,
              "#ed7953"
             ],
             [
              0.7777777777777778,
              "#fb9f3a"
             ],
             [
              0.8888888888888888,
              "#fdca26"
             ],
             [
              1,
              "#f0f921"
             ]
            ],
            "type": "contour"
           }
          ],
          "contourcarpet": [
           {
            "colorbar": {
             "outlinewidth": 0,
             "ticks": ""
            },
            "type": "contourcarpet"
           }
          ],
          "heatmap": [
           {
            "colorbar": {
             "outlinewidth": 0,
             "ticks": ""
            },
            "colorscale": [
             [
              0,
              "#0d0887"
             ],
             [
              0.1111111111111111,
              "#46039f"
             ],
             [
              0.2222222222222222,
              "#7201a8"
             ],
             [
              0.3333333333333333,
              "#9c179e"
             ],
             [
              0.4444444444444444,
              "#bd3786"
             ],
             [
              0.5555555555555556,
              "#d8576b"
             ],
             [
              0.6666666666666666,
              "#ed7953"
             ],
             [
              0.7777777777777778,
              "#fb9f3a"
             ],
             [
              0.8888888888888888,
              "#fdca26"
             ],
             [
              1,
              "#f0f921"
             ]
            ],
            "type": "heatmap"
           }
          ],
          "heatmapgl": [
           {
            "colorbar": {
             "outlinewidth": 0,
             "ticks": ""
            },
            "colorscale": [
             [
              0,
              "#0d0887"
             ],
             [
              0.1111111111111111,
              "#46039f"
             ],
             [
              0.2222222222222222,
              "#7201a8"
             ],
             [
              0.3333333333333333,
              "#9c179e"
             ],
             [
              0.4444444444444444,
              "#bd3786"
             ],
             [
              0.5555555555555556,
              "#d8576b"
             ],
             [
              0.6666666666666666,
              "#ed7953"
             ],
             [
              0.7777777777777778,
              "#fb9f3a"
             ],
             [
              0.8888888888888888,
              "#fdca26"
             ],
             [
              1,
              "#f0f921"
             ]
            ],
            "type": "heatmapgl"
           }
          ],
          "histogram": [
           {
            "marker": {
             "pattern": {
              "fillmode": "overlay",
              "size": 10,
              "solidity": 0.2
             }
            },
            "type": "histogram"
           }
          ],
          "histogram2d": [
           {
            "colorbar": {
             "outlinewidth": 0,
             "ticks": ""
            },
            "colorscale": [
             [
              0,
              "#0d0887"
             ],
             [
              0.1111111111111111,
              "#46039f"
             ],
             [
              0.2222222222222222,
              "#7201a8"
             ],
             [
              0.3333333333333333,
              "#9c179e"
             ],
             [
              0.4444444444444444,
              "#bd3786"
             ],
             [
              0.5555555555555556,
              "#d8576b"
             ],
             [
              0.6666666666666666,
              "#ed7953"
             ],
             [
              0.7777777777777778,
              "#fb9f3a"
             ],
             [
              0.8888888888888888,
              "#fdca26"
             ],
             [
              1,
              "#f0f921"
             ]
            ],
            "type": "histogram2d"
           }
          ],
          "histogram2dcontour": [
           {
            "colorbar": {
             "outlinewidth": 0,
             "ticks": ""
            },
            "colorscale": [
             [
              0,
              "#0d0887"
             ],
             [
              0.1111111111111111,
              "#46039f"
             ],
             [
              0.2222222222222222,
              "#7201a8"
             ],
             [
              0.3333333333333333,
              "#9c179e"
             ],
             [
              0.4444444444444444,
              "#bd3786"
             ],
             [
              0.5555555555555556,
              "#d8576b"
             ],
             [
              0.6666666666666666,
              "#ed7953"
             ],
             [
              0.7777777777777778,
              "#fb9f3a"
             ],
             [
              0.8888888888888888,
              "#fdca26"
             ],
             [
              1,
              "#f0f921"
             ]
            ],
            "type": "histogram2dcontour"
           }
          ],
          "mesh3d": [
           {
            "colorbar": {
             "outlinewidth": 0,
             "ticks": ""
            },
            "type": "mesh3d"
           }
          ],
          "parcoords": [
           {
            "line": {
             "colorbar": {
              "outlinewidth": 0,
              "ticks": ""
             }
            },
            "type": "parcoords"
           }
          ],
          "pie": [
           {
            "automargin": true,
            "type": "pie"
           }
          ],
          "scatter": [
           {
            "marker": {
             "colorbar": {
              "outlinewidth": 0,
              "ticks": ""
             }
            },
            "type": "scatter"
           }
          ],
          "scatter3d": [
           {
            "line": {
             "colorbar": {
              "outlinewidth": 0,
              "ticks": ""
             }
            },
            "marker": {
             "colorbar": {
              "outlinewidth": 0,
              "ticks": ""
             }
            },
            "type": "scatter3d"
           }
          ],
          "scattercarpet": [
           {
            "marker": {
             "colorbar": {
              "outlinewidth": 0,
              "ticks": ""
             }
            },
            "type": "scattercarpet"
           }
          ],
          "scattergeo": [
           {
            "marker": {
             "colorbar": {
              "outlinewidth": 0,
              "ticks": ""
             }
            },
            "type": "scattergeo"
           }
          ],
          "scattergl": [
           {
            "marker": {
             "colorbar": {
              "outlinewidth": 0,
              "ticks": ""
             }
            },
            "type": "scattergl"
           }
          ],
          "scattermapbox": [
           {
            "marker": {
             "colorbar": {
              "outlinewidth": 0,
              "ticks": ""
             }
            },
            "type": "scattermapbox"
           }
          ],
          "scatterpolar": [
           {
            "marker": {
             "colorbar": {
              "outlinewidth": 0,
              "ticks": ""
             }
            },
            "type": "scatterpolar"
           }
          ],
          "scatterpolargl": [
           {
            "marker": {
             "colorbar": {
              "outlinewidth": 0,
              "ticks": ""
             }
            },
            "type": "scatterpolargl"
           }
          ],
          "scatterternary": [
           {
            "marker": {
             "colorbar": {
              "outlinewidth": 0,
              "ticks": ""
             }
            },
            "type": "scatterternary"
           }
          ],
          "surface": [
           {
            "colorbar": {
             "outlinewidth": 0,
             "ticks": ""
            },
            "colorscale": [
             [
              0,
              "#0d0887"
             ],
             [
              0.1111111111111111,
              "#46039f"
             ],
             [
              0.2222222222222222,
              "#7201a8"
             ],
             [
              0.3333333333333333,
              "#9c179e"
             ],
             [
              0.4444444444444444,
              "#bd3786"
             ],
             [
              0.5555555555555556,
              "#d8576b"
             ],
             [
              0.6666666666666666,
              "#ed7953"
             ],
             [
              0.7777777777777778,
              "#fb9f3a"
             ],
             [
              0.8888888888888888,
              "#fdca26"
             ],
             [
              1,
              "#f0f921"
             ]
            ],
            "type": "surface"
           }
          ],
          "table": [
           {
            "cells": {
             "fill": {
              "color": "#EBF0F8"
             },
             "line": {
              "color": "white"
             }
            },
            "header": {
             "fill": {
              "color": "#C8D4E3"
             },
             "line": {
              "color": "white"
             }
            },
            "type": "table"
           }
          ]
         },
         "layout": {
          "annotationdefaults": {
           "arrowcolor": "#2a3f5f",
           "arrowhead": 0,
           "arrowwidth": 1
          },
          "autotypenumbers": "strict",
          "coloraxis": {
           "colorbar": {
            "outlinewidth": 0,
            "ticks": ""
           }
          },
          "colorscale": {
           "diverging": [
            [
             0,
             "#8e0152"
            ],
            [
             0.1,
             "#c51b7d"
            ],
            [
             0.2,
             "#de77ae"
            ],
            [
             0.3,
             "#f1b6da"
            ],
            [
             0.4,
             "#fde0ef"
            ],
            [
             0.5,
             "#f7f7f7"
            ],
            [
             0.6,
             "#e6f5d0"
            ],
            [
             0.7,
             "#b8e186"
            ],
            [
             0.8,
             "#7fbc41"
            ],
            [
             0.9,
             "#4d9221"
            ],
            [
             1,
             "#276419"
            ]
           ],
           "sequential": [
            [
             0,
             "#0d0887"
            ],
            [
             0.1111111111111111,
             "#46039f"
            ],
            [
             0.2222222222222222,
             "#7201a8"
            ],
            [
             0.3333333333333333,
             "#9c179e"
            ],
            [
             0.4444444444444444,
             "#bd3786"
            ],
            [
             0.5555555555555556,
             "#d8576b"
            ],
            [
             0.6666666666666666,
             "#ed7953"
            ],
            [
             0.7777777777777778,
             "#fb9f3a"
            ],
            [
             0.8888888888888888,
             "#fdca26"
            ],
            [
             1,
             "#f0f921"
            ]
           ],
           "sequentialminus": [
            [
             0,
             "#0d0887"
            ],
            [
             0.1111111111111111,
             "#46039f"
            ],
            [
             0.2222222222222222,
             "#7201a8"
            ],
            [
             0.3333333333333333,
             "#9c179e"
            ],
            [
             0.4444444444444444,
             "#bd3786"
            ],
            [
             0.5555555555555556,
             "#d8576b"
            ],
            [
             0.6666666666666666,
             "#ed7953"
            ],
            [
             0.7777777777777778,
             "#fb9f3a"
            ],
            [
             0.8888888888888888,
             "#fdca26"
            ],
            [
             1,
             "#f0f921"
            ]
           ]
          },
          "colorway": [
           "#636efa",
           "#EF553B",
           "#00cc96",
           "#ab63fa",
           "#FFA15A",
           "#19d3f3",
           "#FF6692",
           "#B6E880",
           "#FF97FF",
           "#FECB52"
          ],
          "font": {
           "color": "#2a3f5f"
          },
          "geo": {
           "bgcolor": "white",
           "lakecolor": "white",
           "landcolor": "#E5ECF6",
           "showlakes": true,
           "showland": true,
           "subunitcolor": "white"
          },
          "hoverlabel": {
           "align": "left"
          },
          "hovermode": "closest",
          "mapbox": {
           "style": "light"
          },
          "paper_bgcolor": "white",
          "plot_bgcolor": "#E5ECF6",
          "polar": {
           "angularaxis": {
            "gridcolor": "white",
            "linecolor": "white",
            "ticks": ""
           },
           "bgcolor": "#E5ECF6",
           "radialaxis": {
            "gridcolor": "white",
            "linecolor": "white",
            "ticks": ""
           }
          },
          "scene": {
           "xaxis": {
            "backgroundcolor": "#E5ECF6",
            "gridcolor": "white",
            "gridwidth": 2,
            "linecolor": "white",
            "showbackground": true,
            "ticks": "",
            "zerolinecolor": "white"
           },
           "yaxis": {
            "backgroundcolor": "#E5ECF6",
            "gridcolor": "white",
            "gridwidth": 2,
            "linecolor": "white",
            "showbackground": true,
            "ticks": "",
            "zerolinecolor": "white"
           },
           "zaxis": {
            "backgroundcolor": "#E5ECF6",
            "gridcolor": "white",
            "gridwidth": 2,
            "linecolor": "white",
            "showbackground": true,
            "ticks": "",
            "zerolinecolor": "white"
           }
          },
          "shapedefaults": {
           "line": {
            "color": "#2a3f5f"
           }
          },
          "ternary": {
           "aaxis": {
            "gridcolor": "white",
            "linecolor": "white",
            "ticks": ""
           },
           "baxis": {
            "gridcolor": "white",
            "linecolor": "white",
            "ticks": ""
           },
           "bgcolor": "#E5ECF6",
           "caxis": {
            "gridcolor": "white",
            "linecolor": "white",
            "ticks": ""
           }
          },
          "title": {
           "x": 0.05
          },
          "xaxis": {
           "automargin": true,
           "gridcolor": "white",
           "linecolor": "white",
           "ticks": "",
           "title": {
            "standoff": 15
           },
           "zerolinecolor": "white",
           "zerolinewidth": 2
          },
          "yaxis": {
           "automargin": true,
           "gridcolor": "white",
           "linecolor": "white",
           "ticks": "",
           "title": {
            "standoff": 15
           },
           "zerolinecolor": "white",
           "zerolinewidth": 2
          }
         }
        }
       }
      },
      "text/html": [
       "<div>                            <div id=\"d0a4181c-3bd7-4fa8-89db-cba1e7dca24e\" class=\"plotly-graph-div\" style=\"height:525px; width:100%;\"></div>            <script type=\"text/javascript\">                require([\"plotly\"], function(Plotly) {                    window.PLOTLYENV=window.PLOTLYENV || {};                                    if (document.getElementById(\"d0a4181c-3bd7-4fa8-89db-cba1e7dca24e\")) {                    Plotly.newPlot(                        \"d0a4181c-3bd7-4fa8-89db-cba1e7dca24e\",                        [{\"branchvalues\":\"total\",\"customdata\":[[150.5,140.6],[210.875,147.98214285714286],[179.59493670886076,134.29113924050634],[169.04166666666666,142.91666666666666],[156.28571428571428,136.28571428571428],[234.76923076923077,148.46153846153845],[215.84438430311232,154.00270635994588],[133.9047619047619,121.80952380952381],[155.5,142.88888888888889],[175.5,138.375],[146.78846153846155,133.98076923076923],[334.0,203.0],[229.17401960784315,159.35049019607843],[192.48529411764707,145.93382352941177],[233.5,179.0],[143.0,151.33333333333334],[119.48,128.08],[181.15,155.5],[98.5,159.5],[184.63333333333333,141.56666666666666],[169.0,126.0],[170.5,167.5],[264.375,160.375],[\"(?)\",150.42239336492892],[\"(?)\",148.79518072289156],[150.5,140.6],[\"(?)\",150.2914093206064]],\"domain\":{\"x\":[0.0,1.0],\"y\":[0.0,1.0]},\"hovertemplate\":\"labels=%{label}<br>class_counts=%{value}<br>parent=%{parent}<br>id=%{id}<br>overall_elo_ivits=%{customdata[0]}<br>overall_score_ivits=%{color}<extra></extra>\",\"ids\":[\"R1 Structures: Frequency and Overall Score for ivits/ac2/0_m / -1_ts / 0_lab / 1_pi / 0_ac1 / 1_ac2\",\"R1 Structures: Frequency and Overall Score for ivits/ac1/0_m / -1_ts / 0_lab / 1_pi / 1_ac1 / 0_ac2\",\"R1 Structures: Frequency and Overall Score for ivits/PI/0_m / -1_ts / 1_lab / 1_pi / 0_ac1 / 0_ac2\",\"R1 Structures: Frequency and Overall Score for ivits/PI/0_m / 0_ts / 1_lab / 1_pi / 0_ac1 / 0_ac2\",\"R1 Structures: Frequency and Overall Score for ivits/PI/0_m / 1_ts / 0_lab / 1_pi / 0_ac1 / 0_ac2\",\"R1 Structures: Frequency and Overall Score for ivits/ac1/1_m / -1_ts / 0_lab / 1_pi / 1_ac1 / 0_ac2\",\"R1 Structures: Frequency and Overall Score for ivits/PI/1_m / -1_ts / 1_lab / 1_pi / 0_ac1 / 0_ac2\",\"R1 Structures: Frequency and Overall Score for ivits/PI/1_m / 0_ts / 0_lab / 1_pi / 0_ac1 / 0_ac2\",\"R1 Structures: Frequency and Overall Score for ivits/PI/1_m / 0_ts / 1_lab / 1_pi / 0_ac1 / 0_ac2\",\"R1 Structures: Frequency and Overall Score for ivits/PI/1_m / 1_ts / 0_lab / 1_pi / 0_ac1 / 0_ac2\",\"R1 Structures: Frequency and Overall Score for ivits/PI/2_m / -1_ts / 0_lab / 1_pi / 0_ac1 / 0_ac2\",\"R1 Structures: Frequency and Overall Score for ivits/ac1/2_m / -1_ts / 0_lab / 1_pi / 1_ac1 / 0_ac2\",\"R1 Structures: Frequency and Overall Score for ivits/PI/2_m / -1_ts / 1_lab / 1_pi / 0_ac1 / 0_ac2\",\"R1 Structures: Frequency and Overall Score for ivits/PI/2_m / 0_ts / 0_lab / 1_pi / 0_ac1 / 0_ac2\",\"R1 Structures: Frequency and Overall Score for ivits/PI/2_m / 0_ts / 1_lab / 1_pi / 0_ac1 / 0_ac2\",\"R1 Structures: Frequency and Overall Score for ivits/PI/2_m / 1_ts / 0_lab / 1_pi / 0_ac1 / 0_ac2\",\"R1 Structures: Frequency and Overall Score for ivits/PI/3_m / -1_ts / 0_lab / 1_pi / 0_ac1 / 0_ac2\",\"R1 Structures: Frequency and Overall Score for ivits/PI/3_m / -1_ts / 1_lab / 1_pi / 0_ac1 / 0_ac2\",\"R1 Structures: Frequency and Overall Score for ivits/PI/3_m / 0_ts / 0_lab / 1_pi / 0_ac1 / 0_ac2\",\"R1 Structures: Frequency and Overall Score for ivits/PI/4_m / -1_ts / 0_lab / 1_pi / 0_ac1 / 0_ac2\",\"R1 Structures: Frequency and Overall Score for ivits/PI/4_m / -1_ts / 1_lab / 1_pi / 0_ac1 / 0_ac2\",\"R1 Structures: Frequency and Overall Score for ivits/PI/4_m / 0_ts / 0_lab / 1_pi / 0_ac1 / 0_ac2\",\"R1 Structures: Frequency and Overall Score for ivits/PI/5_m / -1_ts / 0_lab / 1_pi / 0_ac1 / 0_ac2\",\"R1 Structures: Frequency and Overall Score for ivits/PI\",\"R1 Structures: Frequency and Overall Score for ivits/ac1\",\"R1 Structures: Frequency and Overall Score for ivits/ac2\",\"R1 Structures: Frequency and Overall Score for ivits\"],\"labels\":[\"0_m / -1_ts / 0_lab / 1_pi / 0_ac1 / 1_ac2\",\"0_m / -1_ts / 0_lab / 1_pi / 1_ac1 / 0_ac2\",\"0_m / -1_ts / 1_lab / 1_pi / 0_ac1 / 0_ac2\",\"0_m / 0_ts / 1_lab / 1_pi / 0_ac1 / 0_ac2\",\"0_m / 1_ts / 0_lab / 1_pi / 0_ac1 / 0_ac2\",\"1_m / -1_ts / 0_lab / 1_pi / 1_ac1 / 0_ac2\",\"1_m / -1_ts / 1_lab / 1_pi / 0_ac1 / 0_ac2\",\"1_m / 0_ts / 0_lab / 1_pi / 0_ac1 / 0_ac2\",\"1_m / 0_ts / 1_lab / 1_pi / 0_ac1 / 0_ac2\",\"1_m / 1_ts / 0_lab / 1_pi / 0_ac1 / 0_ac2\",\"2_m / -1_ts / 0_lab / 1_pi / 0_ac1 / 0_ac2\",\"2_m / -1_ts / 0_lab / 1_pi / 1_ac1 / 0_ac2\",\"2_m / -1_ts / 1_lab / 1_pi / 0_ac1 / 0_ac2\",\"2_m / 0_ts / 0_lab / 1_pi / 0_ac1 / 0_ac2\",\"2_m / 0_ts / 1_lab / 1_pi / 0_ac1 / 0_ac2\",\"2_m / 1_ts / 0_lab / 1_pi / 0_ac1 / 0_ac2\",\"3_m / -1_ts / 0_lab / 1_pi / 0_ac1 / 0_ac2\",\"3_m / -1_ts / 1_lab / 1_pi / 0_ac1 / 0_ac2\",\"3_m / 0_ts / 0_lab / 1_pi / 0_ac1 / 0_ac2\",\"4_m / -1_ts / 0_lab / 1_pi / 0_ac1 / 0_ac2\",\"4_m / -1_ts / 1_lab / 1_pi / 0_ac1 / 0_ac2\",\"4_m / 0_ts / 0_lab / 1_pi / 0_ac1 / 0_ac2\",\"5_m / -1_ts / 0_lab / 1_pi / 0_ac1 / 0_ac2\",\"PI\",\"ac1\",\"ac2\",\"R1 Structures: Frequency and Overall Score for ivits\"],\"marker\":{\"coloraxis\":\"coloraxis\",\"colors\":[140.6,147.98214285714286,134.29113924050634,142.91666666666666,136.28571428571428,148.46153846153845,154.00270635994588,121.80952380952381,142.88888888888889,138.375,133.98076923076923,203.0,159.35049019607843,145.93382352941177,179.0,151.33333333333334,128.08,155.5,159.5,141.56666666666666,126.0,167.5,160.375,150.42239336492892,148.79518072289156,140.6,150.2914093206064]},\"name\":\"\",\"parents\":[\"R1 Structures: Frequency and Overall Score for ivits/ac2\",\"R1 Structures: Frequency and Overall Score for ivits/ac1\",\"R1 Structures: Frequency and Overall Score for ivits/PI\",\"R1 Structures: Frequency and Overall Score for ivits/PI\",\"R1 Structures: Frequency and Overall Score for ivits/PI\",\"R1 Structures: Frequency and Overall Score for ivits/ac1\",\"R1 Structures: Frequency and Overall Score for ivits/PI\",\"R1 Structures: Frequency and Overall Score for ivits/PI\",\"R1 Structures: Frequency and Overall Score for ivits/PI\",\"R1 Structures: Frequency and Overall Score for ivits/PI\",\"R1 Structures: Frequency and Overall Score for ivits/PI\",\"R1 Structures: Frequency and Overall Score for ivits/ac1\",\"R1 Structures: Frequency and Overall Score for ivits/PI\",\"R1 Structures: Frequency and Overall Score for ivits/PI\",\"R1 Structures: Frequency and Overall Score for ivits/PI\",\"R1 Structures: Frequency and Overall Score for ivits/PI\",\"R1 Structures: Frequency and Overall Score for ivits/PI\",\"R1 Structures: Frequency and Overall Score for ivits/PI\",\"R1 Structures: Frequency and Overall Score for ivits/PI\",\"R1 Structures: Frequency and Overall Score for ivits/PI\",\"R1 Structures: Frequency and Overall Score for ivits/PI\",\"R1 Structures: Frequency and Overall Score for ivits/PI\",\"R1 Structures: Frequency and Overall Score for ivits/PI\",\"R1 Structures: Frequency and Overall Score for ivits\",\"R1 Structures: Frequency and Overall Score for ivits\",\"R1 Structures: Frequency and Overall Score for ivits\",\"\"],\"values\":[10,56,158,24,7,26,739,42,18,8,52,1,408,136,2,3,25,20,4,30,2,2,8,1688,83,10,1781],\"type\":\"treemap\"}],                        {\"template\":{\"data\":{\"bar\":[{\"error_x\":{\"color\":\"#2a3f5f\"},\"error_y\":{\"color\":\"#2a3f5f\"},\"marker\":{\"line\":{\"color\":\"#E5ECF6\",\"width\":0.5},\"pattern\":{\"fillmode\":\"overlay\",\"size\":10,\"solidity\":0.2}},\"type\":\"bar\"}],\"barpolar\":[{\"marker\":{\"line\":{\"color\":\"#E5ECF6\",\"width\":0.5},\"pattern\":{\"fillmode\":\"overlay\",\"size\":10,\"solidity\":0.2}},\"type\":\"barpolar\"}],\"carpet\":[{\"aaxis\":{\"endlinecolor\":\"#2a3f5f\",\"gridcolor\":\"white\",\"linecolor\":\"white\",\"minorgridcolor\":\"white\",\"startlinecolor\":\"#2a3f5f\"},\"baxis\":{\"endlinecolor\":\"#2a3f5f\",\"gridcolor\":\"white\",\"linecolor\":\"white\",\"minorgridcolor\":\"white\",\"startlinecolor\":\"#2a3f5f\"},\"type\":\"carpet\"}],\"choropleth\":[{\"colorbar\":{\"outlinewidth\":0,\"ticks\":\"\"},\"type\":\"choropleth\"}],\"contour\":[{\"colorbar\":{\"outlinewidth\":0,\"ticks\":\"\"},\"colorscale\":[[0.0,\"#0d0887\"],[0.1111111111111111,\"#46039f\"],[0.2222222222222222,\"#7201a8\"],[0.3333333333333333,\"#9c179e\"],[0.4444444444444444,\"#bd3786\"],[0.5555555555555556,\"#d8576b\"],[0.6666666666666666,\"#ed7953\"],[0.7777777777777778,\"#fb9f3a\"],[0.8888888888888888,\"#fdca26\"],[1.0,\"#f0f921\"]],\"type\":\"contour\"}],\"contourcarpet\":[{\"colorbar\":{\"outlinewidth\":0,\"ticks\":\"\"},\"type\":\"contourcarpet\"}],\"heatmap\":[{\"colorbar\":{\"outlinewidth\":0,\"ticks\":\"\"},\"colorscale\":[[0.0,\"#0d0887\"],[0.1111111111111111,\"#46039f\"],[0.2222222222222222,\"#7201a8\"],[0.3333333333333333,\"#9c179e\"],[0.4444444444444444,\"#bd3786\"],[0.5555555555555556,\"#d8576b\"],[0.6666666666666666,\"#ed7953\"],[0.7777777777777778,\"#fb9f3a\"],[0.8888888888888888,\"#fdca26\"],[1.0,\"#f0f921\"]],\"type\":\"heatmap\"}],\"heatmapgl\":[{\"colorbar\":{\"outlinewidth\":0,\"ticks\":\"\"},\"colorscale\":[[0.0,\"#0d0887\"],[0.1111111111111111,\"#46039f\"],[0.2222222222222222,\"#7201a8\"],[0.3333333333333333,\"#9c179e\"],[0.4444444444444444,\"#bd3786\"],[0.5555555555555556,\"#d8576b\"],[0.6666666666666666,\"#ed7953\"],[0.7777777777777778,\"#fb9f3a\"],[0.8888888888888888,\"#fdca26\"],[1.0,\"#f0f921\"]],\"type\":\"heatmapgl\"}],\"histogram\":[{\"marker\":{\"pattern\":{\"fillmode\":\"overlay\",\"size\":10,\"solidity\":0.2}},\"type\":\"histogram\"}],\"histogram2d\":[{\"colorbar\":{\"outlinewidth\":0,\"ticks\":\"\"},\"colorscale\":[[0.0,\"#0d0887\"],[0.1111111111111111,\"#46039f\"],[0.2222222222222222,\"#7201a8\"],[0.3333333333333333,\"#9c179e\"],[0.4444444444444444,\"#bd3786\"],[0.5555555555555556,\"#d8576b\"],[0.6666666666666666,\"#ed7953\"],[0.7777777777777778,\"#fb9f3a\"],[0.8888888888888888,\"#fdca26\"],[1.0,\"#f0f921\"]],\"type\":\"histogram2d\"}],\"histogram2dcontour\":[{\"colorbar\":{\"outlinewidth\":0,\"ticks\":\"\"},\"colorscale\":[[0.0,\"#0d0887\"],[0.1111111111111111,\"#46039f\"],[0.2222222222222222,\"#7201a8\"],[0.3333333333333333,\"#9c179e\"],[0.4444444444444444,\"#bd3786\"],[0.5555555555555556,\"#d8576b\"],[0.6666666666666666,\"#ed7953\"],[0.7777777777777778,\"#fb9f3a\"],[0.8888888888888888,\"#fdca26\"],[1.0,\"#f0f921\"]],\"type\":\"histogram2dcontour\"}],\"mesh3d\":[{\"colorbar\":{\"outlinewidth\":0,\"ticks\":\"\"},\"type\":\"mesh3d\"}],\"parcoords\":[{\"line\":{\"colorbar\":{\"outlinewidth\":0,\"ticks\":\"\"}},\"type\":\"parcoords\"}],\"pie\":[{\"automargin\":true,\"type\":\"pie\"}],\"scatter\":[{\"marker\":{\"colorbar\":{\"outlinewidth\":0,\"ticks\":\"\"}},\"type\":\"scatter\"}],\"scatter3d\":[{\"line\":{\"colorbar\":{\"outlinewidth\":0,\"ticks\":\"\"}},\"marker\":{\"colorbar\":{\"outlinewidth\":0,\"ticks\":\"\"}},\"type\":\"scatter3d\"}],\"scattercarpet\":[{\"marker\":{\"colorbar\":{\"outlinewidth\":0,\"ticks\":\"\"}},\"type\":\"scattercarpet\"}],\"scattergeo\":[{\"marker\":{\"colorbar\":{\"outlinewidth\":0,\"ticks\":\"\"}},\"type\":\"scattergeo\"}],\"scattergl\":[{\"marker\":{\"colorbar\":{\"outlinewidth\":0,\"ticks\":\"\"}},\"type\":\"scattergl\"}],\"scattermapbox\":[{\"marker\":{\"colorbar\":{\"outlinewidth\":0,\"ticks\":\"\"}},\"type\":\"scattermapbox\"}],\"scatterpolar\":[{\"marker\":{\"colorbar\":{\"outlinewidth\":0,\"ticks\":\"\"}},\"type\":\"scatterpolar\"}],\"scatterpolargl\":[{\"marker\":{\"colorbar\":{\"outlinewidth\":0,\"ticks\":\"\"}},\"type\":\"scatterpolargl\"}],\"scatterternary\":[{\"marker\":{\"colorbar\":{\"outlinewidth\":0,\"ticks\":\"\"}},\"type\":\"scatterternary\"}],\"surface\":[{\"colorbar\":{\"outlinewidth\":0,\"ticks\":\"\"},\"colorscale\":[[0.0,\"#0d0887\"],[0.1111111111111111,\"#46039f\"],[0.2222222222222222,\"#7201a8\"],[0.3333333333333333,\"#9c179e\"],[0.4444444444444444,\"#bd3786\"],[0.5555555555555556,\"#d8576b\"],[0.6666666666666666,\"#ed7953\"],[0.7777777777777778,\"#fb9f3a\"],[0.8888888888888888,\"#fdca26\"],[1.0,\"#f0f921\"]],\"type\":\"surface\"}],\"table\":[{\"cells\":{\"fill\":{\"color\":\"#EBF0F8\"},\"line\":{\"color\":\"white\"}},\"header\":{\"fill\":{\"color\":\"#C8D4E3\"},\"line\":{\"color\":\"white\"}},\"type\":\"table\"}]},\"layout\":{\"annotationdefaults\":{\"arrowcolor\":\"#2a3f5f\",\"arrowhead\":0,\"arrowwidth\":1},\"autotypenumbers\":\"strict\",\"coloraxis\":{\"colorbar\":{\"outlinewidth\":0,\"ticks\":\"\"}},\"colorscale\":{\"diverging\":[[0,\"#8e0152\"],[0.1,\"#c51b7d\"],[0.2,\"#de77ae\"],[0.3,\"#f1b6da\"],[0.4,\"#fde0ef\"],[0.5,\"#f7f7f7\"],[0.6,\"#e6f5d0\"],[0.7,\"#b8e186\"],[0.8,\"#7fbc41\"],[0.9,\"#4d9221\"],[1,\"#276419\"]],\"sequential\":[[0.0,\"#0d0887\"],[0.1111111111111111,\"#46039f\"],[0.2222222222222222,\"#7201a8\"],[0.3333333333333333,\"#9c179e\"],[0.4444444444444444,\"#bd3786\"],[0.5555555555555556,\"#d8576b\"],[0.6666666666666666,\"#ed7953\"],[0.7777777777777778,\"#fb9f3a\"],[0.8888888888888888,\"#fdca26\"],[1.0,\"#f0f921\"]],\"sequentialminus\":[[0.0,\"#0d0887\"],[0.1111111111111111,\"#46039f\"],[0.2222222222222222,\"#7201a8\"],[0.3333333333333333,\"#9c179e\"],[0.4444444444444444,\"#bd3786\"],[0.5555555555555556,\"#d8576b\"],[0.6666666666666666,\"#ed7953\"],[0.7777777777777778,\"#fb9f3a\"],[0.8888888888888888,\"#fdca26\"],[1.0,\"#f0f921\"]]},\"colorway\":[\"#636efa\",\"#EF553B\",\"#00cc96\",\"#ab63fa\",\"#FFA15A\",\"#19d3f3\",\"#FF6692\",\"#B6E880\",\"#FF97FF\",\"#FECB52\"],\"font\":{\"color\":\"#2a3f5f\"},\"geo\":{\"bgcolor\":\"white\",\"lakecolor\":\"white\",\"landcolor\":\"#E5ECF6\",\"showlakes\":true,\"showland\":true,\"subunitcolor\":\"white\"},\"hoverlabel\":{\"align\":\"left\"},\"hovermode\":\"closest\",\"mapbox\":{\"style\":\"light\"},\"paper_bgcolor\":\"white\",\"plot_bgcolor\":\"#E5ECF6\",\"polar\":{\"angularaxis\":{\"gridcolor\":\"white\",\"linecolor\":\"white\",\"ticks\":\"\"},\"bgcolor\":\"#E5ECF6\",\"radialaxis\":{\"gridcolor\":\"white\",\"linecolor\":\"white\",\"ticks\":\"\"}},\"scene\":{\"xaxis\":{\"backgroundcolor\":\"#E5ECF6\",\"gridcolor\":\"white\",\"gridwidth\":2,\"linecolor\":\"white\",\"showbackground\":true,\"ticks\":\"\",\"zerolinecolor\":\"white\"},\"yaxis\":{\"backgroundcolor\":\"#E5ECF6\",\"gridcolor\":\"white\",\"gridwidth\":2,\"linecolor\":\"white\",\"showbackground\":true,\"ticks\":\"\",\"zerolinecolor\":\"white\"},\"zaxis\":{\"backgroundcolor\":\"#E5ECF6\",\"gridcolor\":\"white\",\"gridwidth\":2,\"linecolor\":\"white\",\"showbackground\":true,\"ticks\":\"\",\"zerolinecolor\":\"white\"}},\"shapedefaults\":{\"line\":{\"color\":\"#2a3f5f\"}},\"ternary\":{\"aaxis\":{\"gridcolor\":\"white\",\"linecolor\":\"white\",\"ticks\":\"\"},\"baxis\":{\"gridcolor\":\"white\",\"linecolor\":\"white\",\"ticks\":\"\"},\"bgcolor\":\"#E5ECF6\",\"caxis\":{\"gridcolor\":\"white\",\"linecolor\":\"white\",\"ticks\":\"\"}},\"title\":{\"x\":0.05},\"xaxis\":{\"automargin\":true,\"gridcolor\":\"white\",\"linecolor\":\"white\",\"ticks\":\"\",\"title\":{\"standoff\":15},\"zerolinecolor\":\"white\",\"zerolinewidth\":2},\"yaxis\":{\"automargin\":true,\"gridcolor\":\"white\",\"linecolor\":\"white\",\"ticks\":\"\",\"title\":{\"standoff\":15},\"zerolinecolor\":\"white\",\"zerolinewidth\":2}}},\"coloraxis\":{\"colorbar\":{\"title\":{\"text\":\"overall_score_ivits\"}},\"colorscale\":[[0.0,\"rgb(103,0,31)\"],[0.1,\"rgb(178,24,43)\"],[0.2,\"rgb(214,96,77)\"],[0.3,\"rgb(244,165,130)\"],[0.4,\"rgb(253,219,199)\"],[0.5,\"rgb(247,247,247)\"],[0.6,\"rgb(209,229,240)\"],[0.7,\"rgb(146,197,222)\"],[0.8,\"rgb(67,147,195)\"],[0.9,\"rgb(33,102,172)\"],[1.0,\"rgb(5,48,97)\"]],\"cmid\":145.93382352941177},\"legend\":{\"tracegroupgap\":0},\"margin\":{\"t\":50,\"l\":25,\"r\":25,\"b\":25}},                        {\"responsive\": true}                    ).then(function(){\n",
       "                            \n",
       "var gd = document.getElementById('d0a4181c-3bd7-4fa8-89db-cba1e7dca24e');\n",
       "var x = new MutationObserver(function (mutations, observer) {{\n",
       "        var display = window.getComputedStyle(gd).display;\n",
       "        if (!display || display === 'none') {{\n",
       "            console.log([gd, 'removed!']);\n",
       "            Plotly.purge(gd);\n",
       "            observer.disconnect();\n",
       "        }}\n",
       "}});\n",
       "\n",
       "// Listen for the removal of the full notebook cells\n",
       "var notebookContainer = gd.closest('#notebook-container');\n",
       "if (notebookContainer) {{\n",
       "    x.observe(notebookContainer, {childList: true});\n",
       "}}\n",
       "\n",
       "// Listen for the clearing of the current output cell\n",
       "var outputEl = gd.closest('.output');\n",
       "if (outputEl) {{\n",
       "    x.observe(outputEl, {childList: true});\n",
       "}}\n",
       "\n",
       "                        })                };                });            </script>        </div>"
      ]
     },
     "metadata": {},
     "output_type": "display_data"
    },
    {
     "data": {
      "application/vnd.plotly.v1+json": {
       "config": {
        "plotlyServerURL": "https://plot.ly"
       },
       "data": [
        {
         "branchvalues": "total",
         "customdata": [
          [
           337.6666666666667,
           174.33333333333334
          ],
          [
           243.96629213483146,
           143.13483146067415
          ],
          [
           139.6,
           128
          ],
          [
           150.35714285714286,
           120.35714285714286
          ],
          [
           168.5,
           121.5
          ],
          [
           202,
           134
          ],
          [
           251,
           113
          ],
          [
           250.27350427350427,
           142.60683760683762
          ],
          [
           175.5897435897436,
           112
          ],
          [
           111.88888888888889,
           109.83333333333333
          ],
          [
           238.43795620437956,
           150.23357664233578
          ],
          [
           100,
           156
          ],
          [
           205,
           134.87719298245614
          ],
          [
           134.11764705882354,
           112.88235294117646
          ],
          [
           133,
           182
          ],
          [
           58,
           158
          ],
          [
           148,
           138.33333333333334
          ],
          [
           247.28846153846155,
           138.84615384615384
          ],
          [
           197.6317365269461,
           140.39520958083833
          ],
          [
           162.24705882352941,
           123.30588235294118
          ],
          [
           288.85714285714283,
           167.28571428571428
          ],
          [
           215.21875,
           148.9375
          ],
          [
           186,
           138.35714285714286
          ],
          [
           87,
           93.66666666666667
          ],
          [
           201.7872340425532,
           139.68085106382978
          ],
          [
           136.95238095238096,
           128.31746031746033
          ],
          [
           361,
           180
          ],
          [
           0,
           153
          ],
          [
           209.1153846153846,
           155
          ],
          [
           141.74193548387098,
           133.70967741935485
          ],
          [
           126,
           139
          ],
          [
           138,
           157
          ],
          [
           266,
           175
          ],
          [
           220.8,
           141
          ],
          [
           152,
           117
          ],
          [
           "(?)",
           142.01724137931035
          ],
          [
           "(?)",
           142.02325581395348
          ],
          [
           148,
           138.33333333333334
          ],
          [
           "(?)",
           126.21527777777777
          ],
          [
           "(?)",
           122.5
          ],
          [
           "(?)",
           138.36533957845432
          ]
         ],
         "domain": {
          "x": [
           0,
           1
          ],
          "y": [
           0,
           1
          ]
         },
         "hovertemplate": "labels=%{label}<br>class_counts=%{value}<br>parent=%{parent}<br>id=%{id}<br>overall_elo_nevlas=%{customdata[0]}<br>overall_score_nevlas=%{color}<extra></extra>",
         "ids": [
          "R1 Structures: Frequency and Overall Score for nevlas/ac1/0_m / 0_ts / 0_lab / 1_pi / 1_ac1 / 0_ac2",
          "R1 Structures: Frequency and Overall Score for nevlas/PI/0_m / 0_ts / 1_lab / 1_pi / 0_ac1 / 0_ac2",
          "R1 Structures: Frequency and Overall Score for nevlas/lab/0_m / 0_ts / 2_lab / 0_pi / 0_ac1 / 0_ac2",
          "R1 Structures: Frequency and Overall Score for nevlas/PI/0_m / 1_ts / 0_lab / 1_pi / 0_ac1 / 0_ac2",
          "R1 Structures: Frequency and Overall Score for nevlas/lab/0_m / 1_ts / 1_lab / 0_pi / 0_ac1 / 0_ac2",
          "R1 Structures: Frequency and Overall Score for nevlas/PI/0_m / 1_ts / 1_lab / 1_pi / 0_ac1 / 0_ac2",
          "R1 Structures: Frequency and Overall Score for nevlas/PI/0_m / 2_ts / 0_lab / 1_pi / 0_ac1 / 0_ac2",
          "R1 Structures: Frequency and Overall Score for nevlas/ac1/1_m / 0_ts / 0_lab / 0_pi / 1_ac1 / 0_ac2",
          "R1 Structures: Frequency and Overall Score for nevlas/PI/1_m / 0_ts / 0_lab / 1_pi / 0_ac1 / 0_ac2",
          "R1 Structures: Frequency and Overall Score for nevlas/lab/1_m / 0_ts / 1_lab / 0_pi / 0_ac1 / 0_ac2",
          "R1 Structures: Frequency and Overall Score for nevlas/PI/1_m / 0_ts / 1_lab / 1_pi / 0_ac1 / 0_ac2",
          "R1 Structures: Frequency and Overall Score for nevlas/lab/1_m / 0_ts / 2_lab / 0_pi / 0_ac1 / 0_ac2",
          "R1 Structures: Frequency and Overall Score for nevlas/PI/1_m / 1_ts / 0_lab / 1_pi / 0_ac1 / 0_ac2",
          "R1 Structures: Frequency and Overall Score for nevlas/lab/1_m / 1_ts / 1_lab / 0_pi / 0_ac1 / 0_ac2",
          "R1 Structures: Frequency and Overall Score for nevlas/PI/1_m / 1_ts / 1_lab / 1_pi / 0_ac1 / 0_ac2",
          "R1 Structures: Frequency and Overall Score for nevlas/ts/1_m / 2_ts / 0_lab / 0_pi / 0_ac1 / 0_ac2",
          "R1 Structures: Frequency and Overall Score for nevlas/ac2/2_m / 0_ts / 0_lab / 0_pi / 0_ac1 / 1_ac2",
          "R1 Structures: Frequency and Overall Score for nevlas/ac1/2_m / 0_ts / 0_lab / 0_pi / 1_ac1 / 0_ac2",
          "R1 Structures: Frequency and Overall Score for nevlas/PI/2_m / 0_ts / 0_lab / 1_pi / 0_ac1 / 0_ac2",
          "R1 Structures: Frequency and Overall Score for nevlas/lab/2_m / 0_ts / 1_lab / 0_pi / 0_ac1 / 0_ac2",
          "R1 Structures: Frequency and Overall Score for nevlas/PI/2_m / 0_ts / 1_lab / 1_pi / 0_ac1 / 0_ac2",
          "R1 Structures: Frequency and Overall Score for nevlas/PI/2_m / 1_ts / 0_lab / 1_pi / 0_ac1 / 0_ac2",
          "R1 Structures: Frequency and Overall Score for nevlas/lab/2_m / 1_ts / 1_lab / 0_pi / 0_ac1 / 0_ac2",
          "R1 Structures: Frequency and Overall Score for nevlas/ts/2_m / 2_ts / 0_lab / 0_pi / 0_ac1 / 0_ac2",
          "R1 Structures: Frequency and Overall Score for nevlas/PI/3_m / 0_ts / 0_lab / 1_pi / 0_ac1 / 0_ac2",
          "R1 Structures: Frequency and Overall Score for nevlas/lab/3_m / 0_ts / 1_lab / 0_pi / 0_ac1 / 0_ac2",
          "R1 Structures: Frequency and Overall Score for nevlas/PI/3_m / 0_ts / 1_lab / 1_pi / 0_ac1 / 0_ac2",
          "R1 Structures: Frequency and Overall Score for nevlas/lab/3_m / 1_ts / 1_lab / 0_pi / 0_ac1 / 0_ac2",
          "R1 Structures: Frequency and Overall Score for nevlas/PI/4_m / 0_ts / 0_lab / 1_pi / 0_ac1 / 0_ac2",
          "R1 Structures: Frequency and Overall Score for nevlas/lab/4_m / 0_ts / 1_lab / 0_pi / 0_ac1 / 0_ac2",
          "R1 Structures: Frequency and Overall Score for nevlas/ts/4_m / 1_ts / 0_lab / 0_pi / 0_ac1 / 0_ac2",
          "R1 Structures: Frequency and Overall Score for nevlas/ts/4_m / 2_ts / 0_lab / 0_pi / 0_ac1 / 0_ac2",
          "R1 Structures: Frequency and Overall Score for nevlas/PI/5_m / 0_ts / 0_lab / 1_pi / 0_ac1 / 0_ac2",
          "R1 Structures: Frequency and Overall Score for nevlas/lab/5_m / 0_ts / 1_lab / 0_pi / 0_ac1 / 0_ac2",
          "R1 Structures: Frequency and Overall Score for nevlas/lab/6_m / 0_ts / 1_lab / 0_pi / 0_ac1 / 0_ac2",
          "R1 Structures: Frequency and Overall Score for nevlas/PI",
          "R1 Structures: Frequency and Overall Score for nevlas/ac1",
          "R1 Structures: Frequency and Overall Score for nevlas/ac2",
          "R1 Structures: Frequency and Overall Score for nevlas/lab",
          "R1 Structures: Frequency and Overall Score for nevlas/ts",
          "R1 Structures: Frequency and Overall Score for nevlas"
         ],
         "labels": [
          "0_m / 0_ts / 0_lab / 1_pi / 1_ac1 / 0_ac2",
          "0_m / 0_ts / 1_lab / 1_pi / 0_ac1 / 0_ac2",
          "0_m / 0_ts / 2_lab / 0_pi / 0_ac1 / 0_ac2",
          "0_m / 1_ts / 0_lab / 1_pi / 0_ac1 / 0_ac2",
          "0_m / 1_ts / 1_lab / 0_pi / 0_ac1 / 0_ac2",
          "0_m / 1_ts / 1_lab / 1_pi / 0_ac1 / 0_ac2",
          "0_m / 2_ts / 0_lab / 1_pi / 0_ac1 / 0_ac2",
          "1_m / 0_ts / 0_lab / 0_pi / 1_ac1 / 0_ac2",
          "1_m / 0_ts / 0_lab / 1_pi / 0_ac1 / 0_ac2",
          "1_m / 0_ts / 1_lab / 0_pi / 0_ac1 / 0_ac2",
          "1_m / 0_ts / 1_lab / 1_pi / 0_ac1 / 0_ac2",
          "1_m / 0_ts / 2_lab / 0_pi / 0_ac1 / 0_ac2",
          "1_m / 1_ts / 0_lab / 1_pi / 0_ac1 / 0_ac2",
          "1_m / 1_ts / 1_lab / 0_pi / 0_ac1 / 0_ac2",
          "1_m / 1_ts / 1_lab / 1_pi / 0_ac1 / 0_ac2",
          "1_m / 2_ts / 0_lab / 0_pi / 0_ac1 / 0_ac2",
          "2_m / 0_ts / 0_lab / 0_pi / 0_ac1 / 1_ac2",
          "2_m / 0_ts / 0_lab / 0_pi / 1_ac1 / 0_ac2",
          "2_m / 0_ts / 0_lab / 1_pi / 0_ac1 / 0_ac2",
          "2_m / 0_ts / 1_lab / 0_pi / 0_ac1 / 0_ac2",
          "2_m / 0_ts / 1_lab / 1_pi / 0_ac1 / 0_ac2",
          "2_m / 1_ts / 0_lab / 1_pi / 0_ac1 / 0_ac2",
          "2_m / 1_ts / 1_lab / 0_pi / 0_ac1 / 0_ac2",
          "2_m / 2_ts / 0_lab / 0_pi / 0_ac1 / 0_ac2",
          "3_m / 0_ts / 0_lab / 1_pi / 0_ac1 / 0_ac2",
          "3_m / 0_ts / 1_lab / 0_pi / 0_ac1 / 0_ac2",
          "3_m / 0_ts / 1_lab / 1_pi / 0_ac1 / 0_ac2",
          "3_m / 1_ts / 1_lab / 0_pi / 0_ac1 / 0_ac2",
          "4_m / 0_ts / 0_lab / 1_pi / 0_ac1 / 0_ac2",
          "4_m / 0_ts / 1_lab / 0_pi / 0_ac1 / 0_ac2",
          "4_m / 1_ts / 0_lab / 0_pi / 0_ac1 / 0_ac2",
          "4_m / 2_ts / 0_lab / 0_pi / 0_ac1 / 0_ac2",
          "5_m / 0_ts / 0_lab / 1_pi / 0_ac1 / 0_ac2",
          "5_m / 0_ts / 1_lab / 0_pi / 0_ac1 / 0_ac2",
          "6_m / 0_ts / 1_lab / 0_pi / 0_ac1 / 0_ac2",
          "PI",
          "ac1",
          "ac2",
          "lab",
          "ts",
          "R1 Structures: Frequency and Overall Score for nevlas"
         ],
         "marker": {
          "coloraxis": "coloraxis",
          "colors": [
           174.33333333333334,
           143.13483146067415,
           128,
           120.35714285714286,
           121.5,
           134,
           113,
           142.60683760683762,
           112,
           109.83333333333333,
           150.23357664233578,
           156,
           134.87719298245614,
           112.88235294117646,
           182,
           158,
           138.33333333333334,
           138.84615384615384,
           140.39520958083833,
           123.30588235294118,
           167.28571428571428,
           148.9375,
           138.35714285714286,
           93.66666666666667,
           139.68085106382978,
           128.31746031746033,
           180,
           153,
           155,
           133.70967741935485,
           139,
           157,
           175,
           141,
           117,
           142.01724137931035,
           142.02325581395348,
           138.33333333333334,
           126.21527777777777,
           122.5,
           138.36533957845432
          ]
         },
         "name": "",
         "parents": [
          "R1 Structures: Frequency and Overall Score for nevlas/ac1",
          "R1 Structures: Frequency and Overall Score for nevlas/PI",
          "R1 Structures: Frequency and Overall Score for nevlas/lab",
          "R1 Structures: Frequency and Overall Score for nevlas/PI",
          "R1 Structures: Frequency and Overall Score for nevlas/lab",
          "R1 Structures: Frequency and Overall Score for nevlas/PI",
          "R1 Structures: Frequency and Overall Score for nevlas/PI",
          "R1 Structures: Frequency and Overall Score for nevlas/ac1",
          "R1 Structures: Frequency and Overall Score for nevlas/PI",
          "R1 Structures: Frequency and Overall Score for nevlas/lab",
          "R1 Structures: Frequency and Overall Score for nevlas/PI",
          "R1 Structures: Frequency and Overall Score for nevlas/lab",
          "R1 Structures: Frequency and Overall Score for nevlas/PI",
          "R1 Structures: Frequency and Overall Score for nevlas/lab",
          "R1 Structures: Frequency and Overall Score for nevlas/PI",
          "R1 Structures: Frequency and Overall Score for nevlas/ts",
          "R1 Structures: Frequency and Overall Score for nevlas/ac2",
          "R1 Structures: Frequency and Overall Score for nevlas/ac1",
          "R1 Structures: Frequency and Overall Score for nevlas/PI",
          "R1 Structures: Frequency and Overall Score for nevlas/lab",
          "R1 Structures: Frequency and Overall Score for nevlas/PI",
          "R1 Structures: Frequency and Overall Score for nevlas/PI",
          "R1 Structures: Frequency and Overall Score for nevlas/lab",
          "R1 Structures: Frequency and Overall Score for nevlas/ts",
          "R1 Structures: Frequency and Overall Score for nevlas/PI",
          "R1 Structures: Frequency and Overall Score for nevlas/lab",
          "R1 Structures: Frequency and Overall Score for nevlas/PI",
          "R1 Structures: Frequency and Overall Score for nevlas/lab",
          "R1 Structures: Frequency and Overall Score for nevlas/PI",
          "R1 Structures: Frequency and Overall Score for nevlas/lab",
          "R1 Structures: Frequency and Overall Score for nevlas/ts",
          "R1 Structures: Frequency and Overall Score for nevlas/ts",
          "R1 Structures: Frequency and Overall Score for nevlas/PI",
          "R1 Structures: Frequency and Overall Score for nevlas/lab",
          "R1 Structures: Frequency and Overall Score for nevlas/lab",
          "R1 Structures: Frequency and Overall Score for nevlas",
          "R1 Structures: Frequency and Overall Score for nevlas",
          "R1 Structures: Frequency and Overall Score for nevlas",
          "R1 Structures: Frequency and Overall Score for nevlas",
          "R1 Structures: Frequency and Overall Score for nevlas",
          ""
         ],
         "type": "treemap",
         "values": [
          3,
          89,
          5,
          14,
          2,
          2,
          3,
          117,
          39,
          18,
          137,
          1,
          57,
          34,
          1,
          1,
          3,
          52,
          334,
          85,
          28,
          32,
          42,
          3,
          47,
          63,
          1,
          1,
          26,
          31,
          1,
          1,
          2,
          5,
          1,
          812,
          172,
          3,
          288,
          6,
          1281
         ]
        }
       ],
       "layout": {
        "coloraxis": {
         "cmid": 139,
         "colorbar": {
          "title": {
           "text": "overall_score_nevlas"
          }
         },
         "colorscale": [
          [
           0,
           "rgb(103,0,31)"
          ],
          [
           0.1,
           "rgb(178,24,43)"
          ],
          [
           0.2,
           "rgb(214,96,77)"
          ],
          [
           0.3,
           "rgb(244,165,130)"
          ],
          [
           0.4,
           "rgb(253,219,199)"
          ],
          [
           0.5,
           "rgb(247,247,247)"
          ],
          [
           0.6,
           "rgb(209,229,240)"
          ],
          [
           0.7,
           "rgb(146,197,222)"
          ],
          [
           0.8,
           "rgb(67,147,195)"
          ],
          [
           0.9,
           "rgb(33,102,172)"
          ],
          [
           1,
           "rgb(5,48,97)"
          ]
         ]
        },
        "legend": {
         "tracegroupgap": 0
        },
        "margin": {
         "b": 25,
         "l": 25,
         "r": 25,
         "t": 50
        },
        "template": {
         "data": {
          "bar": [
           {
            "error_x": {
             "color": "#2a3f5f"
            },
            "error_y": {
             "color": "#2a3f5f"
            },
            "marker": {
             "line": {
              "color": "#E5ECF6",
              "width": 0.5
             },
             "pattern": {
              "fillmode": "overlay",
              "size": 10,
              "solidity": 0.2
             }
            },
            "type": "bar"
           }
          ],
          "barpolar": [
           {
            "marker": {
             "line": {
              "color": "#E5ECF6",
              "width": 0.5
             },
             "pattern": {
              "fillmode": "overlay",
              "size": 10,
              "solidity": 0.2
             }
            },
            "type": "barpolar"
           }
          ],
          "carpet": [
           {
            "aaxis": {
             "endlinecolor": "#2a3f5f",
             "gridcolor": "white",
             "linecolor": "white",
             "minorgridcolor": "white",
             "startlinecolor": "#2a3f5f"
            },
            "baxis": {
             "endlinecolor": "#2a3f5f",
             "gridcolor": "white",
             "linecolor": "white",
             "minorgridcolor": "white",
             "startlinecolor": "#2a3f5f"
            },
            "type": "carpet"
           }
          ],
          "choropleth": [
           {
            "colorbar": {
             "outlinewidth": 0,
             "ticks": ""
            },
            "type": "choropleth"
           }
          ],
          "contour": [
           {
            "colorbar": {
             "outlinewidth": 0,
             "ticks": ""
            },
            "colorscale": [
             [
              0,
              "#0d0887"
             ],
             [
              0.1111111111111111,
              "#46039f"
             ],
             [
              0.2222222222222222,
              "#7201a8"
             ],
             [
              0.3333333333333333,
              "#9c179e"
             ],
             [
              0.4444444444444444,
              "#bd3786"
             ],
             [
              0.5555555555555556,
              "#d8576b"
             ],
             [
              0.6666666666666666,
              "#ed7953"
             ],
             [
              0.7777777777777778,
              "#fb9f3a"
             ],
             [
              0.8888888888888888,
              "#fdca26"
             ],
             [
              1,
              "#f0f921"
             ]
            ],
            "type": "contour"
           }
          ],
          "contourcarpet": [
           {
            "colorbar": {
             "outlinewidth": 0,
             "ticks": ""
            },
            "type": "contourcarpet"
           }
          ],
          "heatmap": [
           {
            "colorbar": {
             "outlinewidth": 0,
             "ticks": ""
            },
            "colorscale": [
             [
              0,
              "#0d0887"
             ],
             [
              0.1111111111111111,
              "#46039f"
             ],
             [
              0.2222222222222222,
              "#7201a8"
             ],
             [
              0.3333333333333333,
              "#9c179e"
             ],
             [
              0.4444444444444444,
              "#bd3786"
             ],
             [
              0.5555555555555556,
              "#d8576b"
             ],
             [
              0.6666666666666666,
              "#ed7953"
             ],
             [
              0.7777777777777778,
              "#fb9f3a"
             ],
             [
              0.8888888888888888,
              "#fdca26"
             ],
             [
              1,
              "#f0f921"
             ]
            ],
            "type": "heatmap"
           }
          ],
          "heatmapgl": [
           {
            "colorbar": {
             "outlinewidth": 0,
             "ticks": ""
            },
            "colorscale": [
             [
              0,
              "#0d0887"
             ],
             [
              0.1111111111111111,
              "#46039f"
             ],
             [
              0.2222222222222222,
              "#7201a8"
             ],
             [
              0.3333333333333333,
              "#9c179e"
             ],
             [
              0.4444444444444444,
              "#bd3786"
             ],
             [
              0.5555555555555556,
              "#d8576b"
             ],
             [
              0.6666666666666666,
              "#ed7953"
             ],
             [
              0.7777777777777778,
              "#fb9f3a"
             ],
             [
              0.8888888888888888,
              "#fdca26"
             ],
             [
              1,
              "#f0f921"
             ]
            ],
            "type": "heatmapgl"
           }
          ],
          "histogram": [
           {
            "marker": {
             "pattern": {
              "fillmode": "overlay",
              "size": 10,
              "solidity": 0.2
             }
            },
            "type": "histogram"
           }
          ],
          "histogram2d": [
           {
            "colorbar": {
             "outlinewidth": 0,
             "ticks": ""
            },
            "colorscale": [
             [
              0,
              "#0d0887"
             ],
             [
              0.1111111111111111,
              "#46039f"
             ],
             [
              0.2222222222222222,
              "#7201a8"
             ],
             [
              0.3333333333333333,
              "#9c179e"
             ],
             [
              0.4444444444444444,
              "#bd3786"
             ],
             [
              0.5555555555555556,
              "#d8576b"
             ],
             [
              0.6666666666666666,
              "#ed7953"
             ],
             [
              0.7777777777777778,
              "#fb9f3a"
             ],
             [
              0.8888888888888888,
              "#fdca26"
             ],
             [
              1,
              "#f0f921"
             ]
            ],
            "type": "histogram2d"
           }
          ],
          "histogram2dcontour": [
           {
            "colorbar": {
             "outlinewidth": 0,
             "ticks": ""
            },
            "colorscale": [
             [
              0,
              "#0d0887"
             ],
             [
              0.1111111111111111,
              "#46039f"
             ],
             [
              0.2222222222222222,
              "#7201a8"
             ],
             [
              0.3333333333333333,
              "#9c179e"
             ],
             [
              0.4444444444444444,
              "#bd3786"
             ],
             [
              0.5555555555555556,
              "#d8576b"
             ],
             [
              0.6666666666666666,
              "#ed7953"
             ],
             [
              0.7777777777777778,
              "#fb9f3a"
             ],
             [
              0.8888888888888888,
              "#fdca26"
             ],
             [
              1,
              "#f0f921"
             ]
            ],
            "type": "histogram2dcontour"
           }
          ],
          "mesh3d": [
           {
            "colorbar": {
             "outlinewidth": 0,
             "ticks": ""
            },
            "type": "mesh3d"
           }
          ],
          "parcoords": [
           {
            "line": {
             "colorbar": {
              "outlinewidth": 0,
              "ticks": ""
             }
            },
            "type": "parcoords"
           }
          ],
          "pie": [
           {
            "automargin": true,
            "type": "pie"
           }
          ],
          "scatter": [
           {
            "marker": {
             "colorbar": {
              "outlinewidth": 0,
              "ticks": ""
             }
            },
            "type": "scatter"
           }
          ],
          "scatter3d": [
           {
            "line": {
             "colorbar": {
              "outlinewidth": 0,
              "ticks": ""
             }
            },
            "marker": {
             "colorbar": {
              "outlinewidth": 0,
              "ticks": ""
             }
            },
            "type": "scatter3d"
           }
          ],
          "scattercarpet": [
           {
            "marker": {
             "colorbar": {
              "outlinewidth": 0,
              "ticks": ""
             }
            },
            "type": "scattercarpet"
           }
          ],
          "scattergeo": [
           {
            "marker": {
             "colorbar": {
              "outlinewidth": 0,
              "ticks": ""
             }
            },
            "type": "scattergeo"
           }
          ],
          "scattergl": [
           {
            "marker": {
             "colorbar": {
              "outlinewidth": 0,
              "ticks": ""
             }
            },
            "type": "scattergl"
           }
          ],
          "scattermapbox": [
           {
            "marker": {
             "colorbar": {
              "outlinewidth": 0,
              "ticks": ""
             }
            },
            "type": "scattermapbox"
           }
          ],
          "scatterpolar": [
           {
            "marker": {
             "colorbar": {
              "outlinewidth": 0,
              "ticks": ""
             }
            },
            "type": "scatterpolar"
           }
          ],
          "scatterpolargl": [
           {
            "marker": {
             "colorbar": {
              "outlinewidth": 0,
              "ticks": ""
             }
            },
            "type": "scatterpolargl"
           }
          ],
          "scatterternary": [
           {
            "marker": {
             "colorbar": {
              "outlinewidth": 0,
              "ticks": ""
             }
            },
            "type": "scatterternary"
           }
          ],
          "surface": [
           {
            "colorbar": {
             "outlinewidth": 0,
             "ticks": ""
            },
            "colorscale": [
             [
              0,
              "#0d0887"
             ],
             [
              0.1111111111111111,
              "#46039f"
             ],
             [
              0.2222222222222222,
              "#7201a8"
             ],
             [
              0.3333333333333333,
              "#9c179e"
             ],
             [
              0.4444444444444444,
              "#bd3786"
             ],
             [
              0.5555555555555556,
              "#d8576b"
             ],
             [
              0.6666666666666666,
              "#ed7953"
             ],
             [
              0.7777777777777778,
              "#fb9f3a"
             ],
             [
              0.8888888888888888,
              "#fdca26"
             ],
             [
              1,
              "#f0f921"
             ]
            ],
            "type": "surface"
           }
          ],
          "table": [
           {
            "cells": {
             "fill": {
              "color": "#EBF0F8"
             },
             "line": {
              "color": "white"
             }
            },
            "header": {
             "fill": {
              "color": "#C8D4E3"
             },
             "line": {
              "color": "white"
             }
            },
            "type": "table"
           }
          ]
         },
         "layout": {
          "annotationdefaults": {
           "arrowcolor": "#2a3f5f",
           "arrowhead": 0,
           "arrowwidth": 1
          },
          "autotypenumbers": "strict",
          "coloraxis": {
           "colorbar": {
            "outlinewidth": 0,
            "ticks": ""
           }
          },
          "colorscale": {
           "diverging": [
            [
             0,
             "#8e0152"
            ],
            [
             0.1,
             "#c51b7d"
            ],
            [
             0.2,
             "#de77ae"
            ],
            [
             0.3,
             "#f1b6da"
            ],
            [
             0.4,
             "#fde0ef"
            ],
            [
             0.5,
             "#f7f7f7"
            ],
            [
             0.6,
             "#e6f5d0"
            ],
            [
             0.7,
             "#b8e186"
            ],
            [
             0.8,
             "#7fbc41"
            ],
            [
             0.9,
             "#4d9221"
            ],
            [
             1,
             "#276419"
            ]
           ],
           "sequential": [
            [
             0,
             "#0d0887"
            ],
            [
             0.1111111111111111,
             "#46039f"
            ],
            [
             0.2222222222222222,
             "#7201a8"
            ],
            [
             0.3333333333333333,
             "#9c179e"
            ],
            [
             0.4444444444444444,
             "#bd3786"
            ],
            [
             0.5555555555555556,
             "#d8576b"
            ],
            [
             0.6666666666666666,
             "#ed7953"
            ],
            [
             0.7777777777777778,
             "#fb9f3a"
            ],
            [
             0.8888888888888888,
             "#fdca26"
            ],
            [
             1,
             "#f0f921"
            ]
           ],
           "sequentialminus": [
            [
             0,
             "#0d0887"
            ],
            [
             0.1111111111111111,
             "#46039f"
            ],
            [
             0.2222222222222222,
             "#7201a8"
            ],
            [
             0.3333333333333333,
             "#9c179e"
            ],
            [
             0.4444444444444444,
             "#bd3786"
            ],
            [
             0.5555555555555556,
             "#d8576b"
            ],
            [
             0.6666666666666666,
             "#ed7953"
            ],
            [
             0.7777777777777778,
             "#fb9f3a"
            ],
            [
             0.8888888888888888,
             "#fdca26"
            ],
            [
             1,
             "#f0f921"
            ]
           ]
          },
          "colorway": [
           "#636efa",
           "#EF553B",
           "#00cc96",
           "#ab63fa",
           "#FFA15A",
           "#19d3f3",
           "#FF6692",
           "#B6E880",
           "#FF97FF",
           "#FECB52"
          ],
          "font": {
           "color": "#2a3f5f"
          },
          "geo": {
           "bgcolor": "white",
           "lakecolor": "white",
           "landcolor": "#E5ECF6",
           "showlakes": true,
           "showland": true,
           "subunitcolor": "white"
          },
          "hoverlabel": {
           "align": "left"
          },
          "hovermode": "closest",
          "mapbox": {
           "style": "light"
          },
          "paper_bgcolor": "white",
          "plot_bgcolor": "#E5ECF6",
          "polar": {
           "angularaxis": {
            "gridcolor": "white",
            "linecolor": "white",
            "ticks": ""
           },
           "bgcolor": "#E5ECF6",
           "radialaxis": {
            "gridcolor": "white",
            "linecolor": "white",
            "ticks": ""
           }
          },
          "scene": {
           "xaxis": {
            "backgroundcolor": "#E5ECF6",
            "gridcolor": "white",
            "gridwidth": 2,
            "linecolor": "white",
            "showbackground": true,
            "ticks": "",
            "zerolinecolor": "white"
           },
           "yaxis": {
            "backgroundcolor": "#E5ECF6",
            "gridcolor": "white",
            "gridwidth": 2,
            "linecolor": "white",
            "showbackground": true,
            "ticks": "",
            "zerolinecolor": "white"
           },
           "zaxis": {
            "backgroundcolor": "#E5ECF6",
            "gridcolor": "white",
            "gridwidth": 2,
            "linecolor": "white",
            "showbackground": true,
            "ticks": "",
            "zerolinecolor": "white"
           }
          },
          "shapedefaults": {
           "line": {
            "color": "#2a3f5f"
           }
          },
          "ternary": {
           "aaxis": {
            "gridcolor": "white",
            "linecolor": "white",
            "ticks": ""
           },
           "baxis": {
            "gridcolor": "white",
            "linecolor": "white",
            "ticks": ""
           },
           "bgcolor": "#E5ECF6",
           "caxis": {
            "gridcolor": "white",
            "linecolor": "white",
            "ticks": ""
           }
          },
          "title": {
           "x": 0.05
          },
          "xaxis": {
           "automargin": true,
           "gridcolor": "white",
           "linecolor": "white",
           "ticks": "",
           "title": {
            "standoff": 15
           },
           "zerolinecolor": "white",
           "zerolinewidth": 2
          },
          "yaxis": {
           "automargin": true,
           "gridcolor": "white",
           "linecolor": "white",
           "ticks": "",
           "title": {
            "standoff": 15
           },
           "zerolinecolor": "white",
           "zerolinewidth": 2
          }
         }
        }
       }
      },
      "text/html": [
       "<div>                            <div id=\"dbf32237-1c56-416e-9d1d-9813fc8b5a64\" class=\"plotly-graph-div\" style=\"height:525px; width:100%;\"></div>            <script type=\"text/javascript\">                require([\"plotly\"], function(Plotly) {                    window.PLOTLYENV=window.PLOTLYENV || {};                                    if (document.getElementById(\"dbf32237-1c56-416e-9d1d-9813fc8b5a64\")) {                    Plotly.newPlot(                        \"dbf32237-1c56-416e-9d1d-9813fc8b5a64\",                        [{\"branchvalues\":\"total\",\"customdata\":[[337.6666666666667,174.33333333333334],[243.96629213483146,143.13483146067415],[139.6,128.0],[150.35714285714286,120.35714285714286],[168.5,121.5],[202.0,134.0],[251.0,113.0],[250.27350427350427,142.60683760683762],[175.5897435897436,112.0],[111.88888888888889,109.83333333333333],[238.43795620437956,150.23357664233578],[100.0,156.0],[205.0,134.87719298245614],[134.11764705882354,112.88235294117646],[133.0,182.0],[58.0,158.0],[148.0,138.33333333333334],[247.28846153846155,138.84615384615384],[197.6317365269461,140.39520958083833],[162.24705882352941,123.30588235294118],[288.85714285714283,167.28571428571428],[215.21875,148.9375],[186.0,138.35714285714286],[87.0,93.66666666666667],[201.7872340425532,139.68085106382978],[136.95238095238096,128.31746031746033],[361.0,180.0],[0.0,153.0],[209.1153846153846,155.0],[141.74193548387098,133.70967741935485],[126.0,139.0],[138.0,157.0],[266.0,175.0],[220.8,141.0],[152.0,117.0],[\"(?)\",142.01724137931035],[\"(?)\",142.02325581395348],[148.0,138.33333333333334],[\"(?)\",126.21527777777777],[\"(?)\",122.5],[\"(?)\",138.36533957845432]],\"domain\":{\"x\":[0.0,1.0],\"y\":[0.0,1.0]},\"hovertemplate\":\"labels=%{label}<br>class_counts=%{value}<br>parent=%{parent}<br>id=%{id}<br>overall_elo_nevlas=%{customdata[0]}<br>overall_score_nevlas=%{color}<extra></extra>\",\"ids\":[\"R1 Structures: Frequency and Overall Score for nevlas/ac1/0_m / 0_ts / 0_lab / 1_pi / 1_ac1 / 0_ac2\",\"R1 Structures: Frequency and Overall Score for nevlas/PI/0_m / 0_ts / 1_lab / 1_pi / 0_ac1 / 0_ac2\",\"R1 Structures: Frequency and Overall Score for nevlas/lab/0_m / 0_ts / 2_lab / 0_pi / 0_ac1 / 0_ac2\",\"R1 Structures: Frequency and Overall Score for nevlas/PI/0_m / 1_ts / 0_lab / 1_pi / 0_ac1 / 0_ac2\",\"R1 Structures: Frequency and Overall Score for nevlas/lab/0_m / 1_ts / 1_lab / 0_pi / 0_ac1 / 0_ac2\",\"R1 Structures: Frequency and Overall Score for nevlas/PI/0_m / 1_ts / 1_lab / 1_pi / 0_ac1 / 0_ac2\",\"R1 Structures: Frequency and Overall Score for nevlas/PI/0_m / 2_ts / 0_lab / 1_pi / 0_ac1 / 0_ac2\",\"R1 Structures: Frequency and Overall Score for nevlas/ac1/1_m / 0_ts / 0_lab / 0_pi / 1_ac1 / 0_ac2\",\"R1 Structures: Frequency and Overall Score for nevlas/PI/1_m / 0_ts / 0_lab / 1_pi / 0_ac1 / 0_ac2\",\"R1 Structures: Frequency and Overall Score for nevlas/lab/1_m / 0_ts / 1_lab / 0_pi / 0_ac1 / 0_ac2\",\"R1 Structures: Frequency and Overall Score for nevlas/PI/1_m / 0_ts / 1_lab / 1_pi / 0_ac1 / 0_ac2\",\"R1 Structures: Frequency and Overall Score for nevlas/lab/1_m / 0_ts / 2_lab / 0_pi / 0_ac1 / 0_ac2\",\"R1 Structures: Frequency and Overall Score for nevlas/PI/1_m / 1_ts / 0_lab / 1_pi / 0_ac1 / 0_ac2\",\"R1 Structures: Frequency and Overall Score for nevlas/lab/1_m / 1_ts / 1_lab / 0_pi / 0_ac1 / 0_ac2\",\"R1 Structures: Frequency and Overall Score for nevlas/PI/1_m / 1_ts / 1_lab / 1_pi / 0_ac1 / 0_ac2\",\"R1 Structures: Frequency and Overall Score for nevlas/ts/1_m / 2_ts / 0_lab / 0_pi / 0_ac1 / 0_ac2\",\"R1 Structures: Frequency and Overall Score for nevlas/ac2/2_m / 0_ts / 0_lab / 0_pi / 0_ac1 / 1_ac2\",\"R1 Structures: Frequency and Overall Score for nevlas/ac1/2_m / 0_ts / 0_lab / 0_pi / 1_ac1 / 0_ac2\",\"R1 Structures: Frequency and Overall Score for nevlas/PI/2_m / 0_ts / 0_lab / 1_pi / 0_ac1 / 0_ac2\",\"R1 Structures: Frequency and Overall Score for nevlas/lab/2_m / 0_ts / 1_lab / 0_pi / 0_ac1 / 0_ac2\",\"R1 Structures: Frequency and Overall Score for nevlas/PI/2_m / 0_ts / 1_lab / 1_pi / 0_ac1 / 0_ac2\",\"R1 Structures: Frequency and Overall Score for nevlas/PI/2_m / 1_ts / 0_lab / 1_pi / 0_ac1 / 0_ac2\",\"R1 Structures: Frequency and Overall Score for nevlas/lab/2_m / 1_ts / 1_lab / 0_pi / 0_ac1 / 0_ac2\",\"R1 Structures: Frequency and Overall Score for nevlas/ts/2_m / 2_ts / 0_lab / 0_pi / 0_ac1 / 0_ac2\",\"R1 Structures: Frequency and Overall Score for nevlas/PI/3_m / 0_ts / 0_lab / 1_pi / 0_ac1 / 0_ac2\",\"R1 Structures: Frequency and Overall Score for nevlas/lab/3_m / 0_ts / 1_lab / 0_pi / 0_ac1 / 0_ac2\",\"R1 Structures: Frequency and Overall Score for nevlas/PI/3_m / 0_ts / 1_lab / 1_pi / 0_ac1 / 0_ac2\",\"R1 Structures: Frequency and Overall Score for nevlas/lab/3_m / 1_ts / 1_lab / 0_pi / 0_ac1 / 0_ac2\",\"R1 Structures: Frequency and Overall Score for nevlas/PI/4_m / 0_ts / 0_lab / 1_pi / 0_ac1 / 0_ac2\",\"R1 Structures: Frequency and Overall Score for nevlas/lab/4_m / 0_ts / 1_lab / 0_pi / 0_ac1 / 0_ac2\",\"R1 Structures: Frequency and Overall Score for nevlas/ts/4_m / 1_ts / 0_lab / 0_pi / 0_ac1 / 0_ac2\",\"R1 Structures: Frequency and Overall Score for nevlas/ts/4_m / 2_ts / 0_lab / 0_pi / 0_ac1 / 0_ac2\",\"R1 Structures: Frequency and Overall Score for nevlas/PI/5_m / 0_ts / 0_lab / 1_pi / 0_ac1 / 0_ac2\",\"R1 Structures: Frequency and Overall Score for nevlas/lab/5_m / 0_ts / 1_lab / 0_pi / 0_ac1 / 0_ac2\",\"R1 Structures: Frequency and Overall Score for nevlas/lab/6_m / 0_ts / 1_lab / 0_pi / 0_ac1 / 0_ac2\",\"R1 Structures: Frequency and Overall Score for nevlas/PI\",\"R1 Structures: Frequency and Overall Score for nevlas/ac1\",\"R1 Structures: Frequency and Overall Score for nevlas/ac2\",\"R1 Structures: Frequency and Overall Score for nevlas/lab\",\"R1 Structures: Frequency and Overall Score for nevlas/ts\",\"R1 Structures: Frequency and Overall Score for nevlas\"],\"labels\":[\"0_m / 0_ts / 0_lab / 1_pi / 1_ac1 / 0_ac2\",\"0_m / 0_ts / 1_lab / 1_pi / 0_ac1 / 0_ac2\",\"0_m / 0_ts / 2_lab / 0_pi / 0_ac1 / 0_ac2\",\"0_m / 1_ts / 0_lab / 1_pi / 0_ac1 / 0_ac2\",\"0_m / 1_ts / 1_lab / 0_pi / 0_ac1 / 0_ac2\",\"0_m / 1_ts / 1_lab / 1_pi / 0_ac1 / 0_ac2\",\"0_m / 2_ts / 0_lab / 1_pi / 0_ac1 / 0_ac2\",\"1_m / 0_ts / 0_lab / 0_pi / 1_ac1 / 0_ac2\",\"1_m / 0_ts / 0_lab / 1_pi / 0_ac1 / 0_ac2\",\"1_m / 0_ts / 1_lab / 0_pi / 0_ac1 / 0_ac2\",\"1_m / 0_ts / 1_lab / 1_pi / 0_ac1 / 0_ac2\",\"1_m / 0_ts / 2_lab / 0_pi / 0_ac1 / 0_ac2\",\"1_m / 1_ts / 0_lab / 1_pi / 0_ac1 / 0_ac2\",\"1_m / 1_ts / 1_lab / 0_pi / 0_ac1 / 0_ac2\",\"1_m / 1_ts / 1_lab / 1_pi / 0_ac1 / 0_ac2\",\"1_m / 2_ts / 0_lab / 0_pi / 0_ac1 / 0_ac2\",\"2_m / 0_ts / 0_lab / 0_pi / 0_ac1 / 1_ac2\",\"2_m / 0_ts / 0_lab / 0_pi / 1_ac1 / 0_ac2\",\"2_m / 0_ts / 0_lab / 1_pi / 0_ac1 / 0_ac2\",\"2_m / 0_ts / 1_lab / 0_pi / 0_ac1 / 0_ac2\",\"2_m / 0_ts / 1_lab / 1_pi / 0_ac1 / 0_ac2\",\"2_m / 1_ts / 0_lab / 1_pi / 0_ac1 / 0_ac2\",\"2_m / 1_ts / 1_lab / 0_pi / 0_ac1 / 0_ac2\",\"2_m / 2_ts / 0_lab / 0_pi / 0_ac1 / 0_ac2\",\"3_m / 0_ts / 0_lab / 1_pi / 0_ac1 / 0_ac2\",\"3_m / 0_ts / 1_lab / 0_pi / 0_ac1 / 0_ac2\",\"3_m / 0_ts / 1_lab / 1_pi / 0_ac1 / 0_ac2\",\"3_m / 1_ts / 1_lab / 0_pi / 0_ac1 / 0_ac2\",\"4_m / 0_ts / 0_lab / 1_pi / 0_ac1 / 0_ac2\",\"4_m / 0_ts / 1_lab / 0_pi / 0_ac1 / 0_ac2\",\"4_m / 1_ts / 0_lab / 0_pi / 0_ac1 / 0_ac2\",\"4_m / 2_ts / 0_lab / 0_pi / 0_ac1 / 0_ac2\",\"5_m / 0_ts / 0_lab / 1_pi / 0_ac1 / 0_ac2\",\"5_m / 0_ts / 1_lab / 0_pi / 0_ac1 / 0_ac2\",\"6_m / 0_ts / 1_lab / 0_pi / 0_ac1 / 0_ac2\",\"PI\",\"ac1\",\"ac2\",\"lab\",\"ts\",\"R1 Structures: Frequency and Overall Score for nevlas\"],\"marker\":{\"coloraxis\":\"coloraxis\",\"colors\":[174.33333333333334,143.13483146067415,128.0,120.35714285714286,121.5,134.0,113.0,142.60683760683762,112.0,109.83333333333333,150.23357664233578,156.0,134.87719298245614,112.88235294117646,182.0,158.0,138.33333333333334,138.84615384615384,140.39520958083833,123.30588235294118,167.28571428571428,148.9375,138.35714285714286,93.66666666666667,139.68085106382978,128.31746031746033,180.0,153.0,155.0,133.70967741935485,139.0,157.0,175.0,141.0,117.0,142.01724137931035,142.02325581395348,138.33333333333334,126.21527777777777,122.5,138.36533957845432]},\"name\":\"\",\"parents\":[\"R1 Structures: Frequency and Overall Score for nevlas/ac1\",\"R1 Structures: Frequency and Overall Score for nevlas/PI\",\"R1 Structures: Frequency and Overall Score for nevlas/lab\",\"R1 Structures: Frequency and Overall Score for nevlas/PI\",\"R1 Structures: Frequency and Overall Score for nevlas/lab\",\"R1 Structures: Frequency and Overall Score for nevlas/PI\",\"R1 Structures: Frequency and Overall Score for nevlas/PI\",\"R1 Structures: Frequency and Overall Score for nevlas/ac1\",\"R1 Structures: Frequency and Overall Score for nevlas/PI\",\"R1 Structures: Frequency and Overall Score for nevlas/lab\",\"R1 Structures: Frequency and Overall Score for nevlas/PI\",\"R1 Structures: Frequency and Overall Score for nevlas/lab\",\"R1 Structures: Frequency and Overall Score for nevlas/PI\",\"R1 Structures: Frequency and Overall Score for nevlas/lab\",\"R1 Structures: Frequency and Overall Score for nevlas/PI\",\"R1 Structures: Frequency and Overall Score for nevlas/ts\",\"R1 Structures: Frequency and Overall Score for nevlas/ac2\",\"R1 Structures: Frequency and Overall Score for nevlas/ac1\",\"R1 Structures: Frequency and Overall Score for nevlas/PI\",\"R1 Structures: Frequency and Overall Score for nevlas/lab\",\"R1 Structures: Frequency and Overall Score for nevlas/PI\",\"R1 Structures: Frequency and Overall Score for nevlas/PI\",\"R1 Structures: Frequency and Overall Score for nevlas/lab\",\"R1 Structures: Frequency and Overall Score for nevlas/ts\",\"R1 Structures: Frequency and Overall Score for nevlas/PI\",\"R1 Structures: Frequency and Overall Score for nevlas/lab\",\"R1 Structures: Frequency and Overall Score for nevlas/PI\",\"R1 Structures: Frequency and Overall Score for nevlas/lab\",\"R1 Structures: Frequency and Overall Score for nevlas/PI\",\"R1 Structures: Frequency and Overall Score for nevlas/lab\",\"R1 Structures: Frequency and Overall Score for nevlas/ts\",\"R1 Structures: Frequency and Overall Score for nevlas/ts\",\"R1 Structures: Frequency and Overall Score for nevlas/PI\",\"R1 Structures: Frequency and Overall Score for nevlas/lab\",\"R1 Structures: Frequency and Overall Score for nevlas/lab\",\"R1 Structures: Frequency and Overall Score for nevlas\",\"R1 Structures: Frequency and Overall Score for nevlas\",\"R1 Structures: Frequency and Overall Score for nevlas\",\"R1 Structures: Frequency and Overall Score for nevlas\",\"R1 Structures: Frequency and Overall Score for nevlas\",\"\"],\"values\":[3,89,5,14,2,2,3,117,39,18,137,1,57,34,1,1,3,52,334,85,28,32,42,3,47,63,1,1,26,31,1,1,2,5,1,812,172,3,288,6,1281],\"type\":\"treemap\"}],                        {\"template\":{\"data\":{\"bar\":[{\"error_x\":{\"color\":\"#2a3f5f\"},\"error_y\":{\"color\":\"#2a3f5f\"},\"marker\":{\"line\":{\"color\":\"#E5ECF6\",\"width\":0.5},\"pattern\":{\"fillmode\":\"overlay\",\"size\":10,\"solidity\":0.2}},\"type\":\"bar\"}],\"barpolar\":[{\"marker\":{\"line\":{\"color\":\"#E5ECF6\",\"width\":0.5},\"pattern\":{\"fillmode\":\"overlay\",\"size\":10,\"solidity\":0.2}},\"type\":\"barpolar\"}],\"carpet\":[{\"aaxis\":{\"endlinecolor\":\"#2a3f5f\",\"gridcolor\":\"white\",\"linecolor\":\"white\",\"minorgridcolor\":\"white\",\"startlinecolor\":\"#2a3f5f\"},\"baxis\":{\"endlinecolor\":\"#2a3f5f\",\"gridcolor\":\"white\",\"linecolor\":\"white\",\"minorgridcolor\":\"white\",\"startlinecolor\":\"#2a3f5f\"},\"type\":\"carpet\"}],\"choropleth\":[{\"colorbar\":{\"outlinewidth\":0,\"ticks\":\"\"},\"type\":\"choropleth\"}],\"contour\":[{\"colorbar\":{\"outlinewidth\":0,\"ticks\":\"\"},\"colorscale\":[[0.0,\"#0d0887\"],[0.1111111111111111,\"#46039f\"],[0.2222222222222222,\"#7201a8\"],[0.3333333333333333,\"#9c179e\"],[0.4444444444444444,\"#bd3786\"],[0.5555555555555556,\"#d8576b\"],[0.6666666666666666,\"#ed7953\"],[0.7777777777777778,\"#fb9f3a\"],[0.8888888888888888,\"#fdca26\"],[1.0,\"#f0f921\"]],\"type\":\"contour\"}],\"contourcarpet\":[{\"colorbar\":{\"outlinewidth\":0,\"ticks\":\"\"},\"type\":\"contourcarpet\"}],\"heatmap\":[{\"colorbar\":{\"outlinewidth\":0,\"ticks\":\"\"},\"colorscale\":[[0.0,\"#0d0887\"],[0.1111111111111111,\"#46039f\"],[0.2222222222222222,\"#7201a8\"],[0.3333333333333333,\"#9c179e\"],[0.4444444444444444,\"#bd3786\"],[0.5555555555555556,\"#d8576b\"],[0.6666666666666666,\"#ed7953\"],[0.7777777777777778,\"#fb9f3a\"],[0.8888888888888888,\"#fdca26\"],[1.0,\"#f0f921\"]],\"type\":\"heatmap\"}],\"heatmapgl\":[{\"colorbar\":{\"outlinewidth\":0,\"ticks\":\"\"},\"colorscale\":[[0.0,\"#0d0887\"],[0.1111111111111111,\"#46039f\"],[0.2222222222222222,\"#7201a8\"],[0.3333333333333333,\"#9c179e\"],[0.4444444444444444,\"#bd3786\"],[0.5555555555555556,\"#d8576b\"],[0.6666666666666666,\"#ed7953\"],[0.7777777777777778,\"#fb9f3a\"],[0.8888888888888888,\"#fdca26\"],[1.0,\"#f0f921\"]],\"type\":\"heatmapgl\"}],\"histogram\":[{\"marker\":{\"pattern\":{\"fillmode\":\"overlay\",\"size\":10,\"solidity\":0.2}},\"type\":\"histogram\"}],\"histogram2d\":[{\"colorbar\":{\"outlinewidth\":0,\"ticks\":\"\"},\"colorscale\":[[0.0,\"#0d0887\"],[0.1111111111111111,\"#46039f\"],[0.2222222222222222,\"#7201a8\"],[0.3333333333333333,\"#9c179e\"],[0.4444444444444444,\"#bd3786\"],[0.5555555555555556,\"#d8576b\"],[0.6666666666666666,\"#ed7953\"],[0.7777777777777778,\"#fb9f3a\"],[0.8888888888888888,\"#fdca26\"],[1.0,\"#f0f921\"]],\"type\":\"histogram2d\"}],\"histogram2dcontour\":[{\"colorbar\":{\"outlinewidth\":0,\"ticks\":\"\"},\"colorscale\":[[0.0,\"#0d0887\"],[0.1111111111111111,\"#46039f\"],[0.2222222222222222,\"#7201a8\"],[0.3333333333333333,\"#9c179e\"],[0.4444444444444444,\"#bd3786\"],[0.5555555555555556,\"#d8576b\"],[0.6666666666666666,\"#ed7953\"],[0.7777777777777778,\"#fb9f3a\"],[0.8888888888888888,\"#fdca26\"],[1.0,\"#f0f921\"]],\"type\":\"histogram2dcontour\"}],\"mesh3d\":[{\"colorbar\":{\"outlinewidth\":0,\"ticks\":\"\"},\"type\":\"mesh3d\"}],\"parcoords\":[{\"line\":{\"colorbar\":{\"outlinewidth\":0,\"ticks\":\"\"}},\"type\":\"parcoords\"}],\"pie\":[{\"automargin\":true,\"type\":\"pie\"}],\"scatter\":[{\"marker\":{\"colorbar\":{\"outlinewidth\":0,\"ticks\":\"\"}},\"type\":\"scatter\"}],\"scatter3d\":[{\"line\":{\"colorbar\":{\"outlinewidth\":0,\"ticks\":\"\"}},\"marker\":{\"colorbar\":{\"outlinewidth\":0,\"ticks\":\"\"}},\"type\":\"scatter3d\"}],\"scattercarpet\":[{\"marker\":{\"colorbar\":{\"outlinewidth\":0,\"ticks\":\"\"}},\"type\":\"scattercarpet\"}],\"scattergeo\":[{\"marker\":{\"colorbar\":{\"outlinewidth\":0,\"ticks\":\"\"}},\"type\":\"scattergeo\"}],\"scattergl\":[{\"marker\":{\"colorbar\":{\"outlinewidth\":0,\"ticks\":\"\"}},\"type\":\"scattergl\"}],\"scattermapbox\":[{\"marker\":{\"colorbar\":{\"outlinewidth\":0,\"ticks\":\"\"}},\"type\":\"scattermapbox\"}],\"scatterpolar\":[{\"marker\":{\"colorbar\":{\"outlinewidth\":0,\"ticks\":\"\"}},\"type\":\"scatterpolar\"}],\"scatterpolargl\":[{\"marker\":{\"colorbar\":{\"outlinewidth\":0,\"ticks\":\"\"}},\"type\":\"scatterpolargl\"}],\"scatterternary\":[{\"marker\":{\"colorbar\":{\"outlinewidth\":0,\"ticks\":\"\"}},\"type\":\"scatterternary\"}],\"surface\":[{\"colorbar\":{\"outlinewidth\":0,\"ticks\":\"\"},\"colorscale\":[[0.0,\"#0d0887\"],[0.1111111111111111,\"#46039f\"],[0.2222222222222222,\"#7201a8\"],[0.3333333333333333,\"#9c179e\"],[0.4444444444444444,\"#bd3786\"],[0.5555555555555556,\"#d8576b\"],[0.6666666666666666,\"#ed7953\"],[0.7777777777777778,\"#fb9f3a\"],[0.8888888888888888,\"#fdca26\"],[1.0,\"#f0f921\"]],\"type\":\"surface\"}],\"table\":[{\"cells\":{\"fill\":{\"color\":\"#EBF0F8\"},\"line\":{\"color\":\"white\"}},\"header\":{\"fill\":{\"color\":\"#C8D4E3\"},\"line\":{\"color\":\"white\"}},\"type\":\"table\"}]},\"layout\":{\"annotationdefaults\":{\"arrowcolor\":\"#2a3f5f\",\"arrowhead\":0,\"arrowwidth\":1},\"autotypenumbers\":\"strict\",\"coloraxis\":{\"colorbar\":{\"outlinewidth\":0,\"ticks\":\"\"}},\"colorscale\":{\"diverging\":[[0,\"#8e0152\"],[0.1,\"#c51b7d\"],[0.2,\"#de77ae\"],[0.3,\"#f1b6da\"],[0.4,\"#fde0ef\"],[0.5,\"#f7f7f7\"],[0.6,\"#e6f5d0\"],[0.7,\"#b8e186\"],[0.8,\"#7fbc41\"],[0.9,\"#4d9221\"],[1,\"#276419\"]],\"sequential\":[[0.0,\"#0d0887\"],[0.1111111111111111,\"#46039f\"],[0.2222222222222222,\"#7201a8\"],[0.3333333333333333,\"#9c179e\"],[0.4444444444444444,\"#bd3786\"],[0.5555555555555556,\"#d8576b\"],[0.6666666666666666,\"#ed7953\"],[0.7777777777777778,\"#fb9f3a\"],[0.8888888888888888,\"#fdca26\"],[1.0,\"#f0f921\"]],\"sequentialminus\":[[0.0,\"#0d0887\"],[0.1111111111111111,\"#46039f\"],[0.2222222222222222,\"#7201a8\"],[0.3333333333333333,\"#9c179e\"],[0.4444444444444444,\"#bd3786\"],[0.5555555555555556,\"#d8576b\"],[0.6666666666666666,\"#ed7953\"],[0.7777777777777778,\"#fb9f3a\"],[0.8888888888888888,\"#fdca26\"],[1.0,\"#f0f921\"]]},\"colorway\":[\"#636efa\",\"#EF553B\",\"#00cc96\",\"#ab63fa\",\"#FFA15A\",\"#19d3f3\",\"#FF6692\",\"#B6E880\",\"#FF97FF\",\"#FECB52\"],\"font\":{\"color\":\"#2a3f5f\"},\"geo\":{\"bgcolor\":\"white\",\"lakecolor\":\"white\",\"landcolor\":\"#E5ECF6\",\"showlakes\":true,\"showland\":true,\"subunitcolor\":\"white\"},\"hoverlabel\":{\"align\":\"left\"},\"hovermode\":\"closest\",\"mapbox\":{\"style\":\"light\"},\"paper_bgcolor\":\"white\",\"plot_bgcolor\":\"#E5ECF6\",\"polar\":{\"angularaxis\":{\"gridcolor\":\"white\",\"linecolor\":\"white\",\"ticks\":\"\"},\"bgcolor\":\"#E5ECF6\",\"radialaxis\":{\"gridcolor\":\"white\",\"linecolor\":\"white\",\"ticks\":\"\"}},\"scene\":{\"xaxis\":{\"backgroundcolor\":\"#E5ECF6\",\"gridcolor\":\"white\",\"gridwidth\":2,\"linecolor\":\"white\",\"showbackground\":true,\"ticks\":\"\",\"zerolinecolor\":\"white\"},\"yaxis\":{\"backgroundcolor\":\"#E5ECF6\",\"gridcolor\":\"white\",\"gridwidth\":2,\"linecolor\":\"white\",\"showbackground\":true,\"ticks\":\"\",\"zerolinecolor\":\"white\"},\"zaxis\":{\"backgroundcolor\":\"#E5ECF6\",\"gridcolor\":\"white\",\"gridwidth\":2,\"linecolor\":\"white\",\"showbackground\":true,\"ticks\":\"\",\"zerolinecolor\":\"white\"}},\"shapedefaults\":{\"line\":{\"color\":\"#2a3f5f\"}},\"ternary\":{\"aaxis\":{\"gridcolor\":\"white\",\"linecolor\":\"white\",\"ticks\":\"\"},\"baxis\":{\"gridcolor\":\"white\",\"linecolor\":\"white\",\"ticks\":\"\"},\"bgcolor\":\"#E5ECF6\",\"caxis\":{\"gridcolor\":\"white\",\"linecolor\":\"white\",\"ticks\":\"\"}},\"title\":{\"x\":0.05},\"xaxis\":{\"automargin\":true,\"gridcolor\":\"white\",\"linecolor\":\"white\",\"ticks\":\"\",\"title\":{\"standoff\":15},\"zerolinecolor\":\"white\",\"zerolinewidth\":2},\"yaxis\":{\"automargin\":true,\"gridcolor\":\"white\",\"linecolor\":\"white\",\"ticks\":\"\",\"title\":{\"standoff\":15},\"zerolinecolor\":\"white\",\"zerolinewidth\":2}}},\"coloraxis\":{\"colorbar\":{\"title\":{\"text\":\"overall_score_nevlas\"}},\"colorscale\":[[0.0,\"rgb(103,0,31)\"],[0.1,\"rgb(178,24,43)\"],[0.2,\"rgb(214,96,77)\"],[0.3,\"rgb(244,165,130)\"],[0.4,\"rgb(253,219,199)\"],[0.5,\"rgb(247,247,247)\"],[0.6,\"rgb(209,229,240)\"],[0.7,\"rgb(146,197,222)\"],[0.8,\"rgb(67,147,195)\"],[0.9,\"rgb(33,102,172)\"],[1.0,\"rgb(5,48,97)\"]],\"cmid\":139.0},\"legend\":{\"tracegroupgap\":0},\"margin\":{\"t\":50,\"l\":25,\"r\":25,\"b\":25}},                        {\"responsive\": true}                    ).then(function(){\n",
       "                            \n",
       "var gd = document.getElementById('dbf32237-1c56-416e-9d1d-9813fc8b5a64');\n",
       "var x = new MutationObserver(function (mutations, observer) {{\n",
       "        var display = window.getComputedStyle(gd).display;\n",
       "        if (!display || display === 'none') {{\n",
       "            console.log([gd, 'removed!']);\n",
       "            Plotly.purge(gd);\n",
       "            observer.disconnect();\n",
       "        }}\n",
       "}});\n",
       "\n",
       "// Listen for the removal of the full notebook cells\n",
       "var notebookContainer = gd.closest('#notebook-container');\n",
       "if (notebookContainer) {{\n",
       "    x.observe(notebookContainer, {childList: true});\n",
       "}}\n",
       "\n",
       "// Listen for the clearing of the current output cell\n",
       "var outputEl = gd.closest('.output');\n",
       "if (outputEl) {{\n",
       "    x.observe(outputEl, {childList: true});\n",
       "}}\n",
       "\n",
       "                        })                };                });            </script>        </div>"
      ]
     },
     "metadata": {},
     "output_type": "display_data"
    },
    {
     "data": {
      "application/vnd.plotly.v1+json": {
       "config": {
        "plotlyServerURL": "https://plot.ly"
       },
       "data": [
        {
         "branchvalues": "total",
         "customdata": [
          [
           213.53333333333333,
           141.4
          ],
          [
           257,
           168
          ],
          [
           157.83333333333334,
           133.33333333333334
          ],
          [
           10,
           105
          ],
          [
           200.75,
           147.71052631578948
          ],
          [
           221.93333333333334,
           145.45925925925926
          ],
          [
           166.37735849056602,
           130
          ],
          [
           266.42857142857144,
           163
          ],
          [
           168.28301886792454,
           131.56603773584905
          ],
          [
           200.53703703703704,
           148.96296296296296
          ],
          [
           263.8070175438597,
           146.359649122807
          ],
          [
           215.9512893982808,
           145.92550143266476
          ],
          [
           112.25,
           110.75
          ],
          [
           209.5875,
           139.025
          ],
          [
           190,
           132
          ],
          [
           41.333333333333336,
           87.66666666666667
          ],
          [
           185,
           156
          ],
          [
           434,
           141
          ],
          [
           34,
           87
          ],
          [
           205.44242424242424,
           142.84242424242424
          ],
          [
           0.5,
           118
          ],
          [
           100,
           110
          ],
          [
           239.33333333333334,
           145.0701754385965
          ],
          [
           172,
           135
          ],
          [
           42,
           140
          ],
          [
           262,
           112
          ],
          [
           34,
           87
          ],
          [
           "(?)",
           145.77202072538861
          ],
          [
           "(?)",
           148.34848484848484
          ],
          [
           "(?)",
           142.32954545454547
          ],
          [
           "(?)",
           100.75
          ],
          [
           "(?)",
           117.54545454545455
          ],
          [
           "(?)",
           143.55806938159878
          ]
         ],
         "domain": {
          "x": [
           0,
           1
          ],
          "y": [
           0,
           1
          ]
         },
         "hovertemplate": "labels=%{label}<br>class_counts=%{value}<br>parent=%{parent}<br>id=%{id}<br>overall_elo_baltaks=%{customdata[0]}<br>overall_score_baltaks=%{color}<extra></extra>",
         "ids": [
          "R1 Structures: Frequency and Overall Score for baltaks/lab/0_m / 0_ts / 2_lab / 0_pi / 0_ac1 / 0_ac2",
          "R1 Structures: Frequency and Overall Score for baltaks/ac1/0_m / 1_ts / 0_lab / 0_pi / 1_ac1 / 0_ac2",
          "R1 Structures: Frequency and Overall Score for baltaks/lab/0_m / 1_ts / 1_lab / 0_pi / 0_ac1 / 0_ac2",
          "R1 Structures: Frequency and Overall Score for baltaks/ts/0_m / 3_ts / 0_lab / 0_pi / 0_ac1 / 0_ac2",
          "R1 Structures: Frequency and Overall Score for baltaks/ac2/1_m / 0_ts / 0_lab / 0_pi / 0_ac1 / 1_ac2",
          "R1 Structures: Frequency and Overall Score for baltaks/ac1/1_m / 0_ts / 0_lab / 0_pi / 1_ac1 / 0_ac2",
          "R1 Structures: Frequency and Overall Score for baltaks/lab/1_m / 0_ts / 1_lab / 0_pi / 0_ac1 / 0_ac2",
          "R1 Structures: Frequency and Overall Score for baltaks/lab/1_m / 0_ts / 2_lab / 0_pi / 0_ac1 / 0_ac2",
          "R1 Structures: Frequency and Overall Score for baltaks/lab/1_m / 1_ts / 1_lab / 0_pi / 0_ac1 / 0_ac2",
          "R1 Structures: Frequency and Overall Score for baltaks/ac2/2_m / 0_ts / 0_lab / 0_pi / 0_ac1 / 1_ac2",
          "R1 Structures: Frequency and Overall Score for baltaks/ac1/2_m / 0_ts / 0_lab / 0_pi / 1_ac1 / 0_ac2",
          "R1 Structures: Frequency and Overall Score for baltaks/lab/2_m / 0_ts / 1_lab / 0_pi / 0_ac1 / 0_ac2",
          "R1 Structures: Frequency and Overall Score for baltaks/ts/2_m / 1_ts / 0_lab / 0_pi / 0_ac1 / 0_ac2",
          "R1 Structures: Frequency and Overall Score for baltaks/lab/2_m / 1_ts / 1_lab / 0_pi / 0_ac1 / 0_ac2",
          "R1 Structures: Frequency and Overall Score for baltaks/ts/2_m / 2_ts / 0_lab / 0_pi / 0_ac1 / 0_ac2",
          "R1 Structures: Frequency and Overall Score for baltaks/m/3_m / 0_ts / 0_lab / 0_pi / 0_ac1 / 0_ac2",
          "R1 Structures: Frequency and Overall Score for baltaks/ac2/3_m / 0_ts / 0_lab / 0_pi / 0_ac1 / 1_ac2",
          "R1 Structures: Frequency and Overall Score for baltaks/ac1/3_m / 0_ts / 0_lab / 0_pi / 1_ac1 / 0_ac2",
          "R1 Structures: Frequency and Overall Score for baltaks/PI/3_m / 0_ts / 0_lab / 1_pi / 0_ac1 / 0_ac2",
          "R1 Structures: Frequency and Overall Score for baltaks/lab/3_m / 0_ts / 1_lab / 0_pi / 0_ac1 / 0_ac2",
          "R1 Structures: Frequency and Overall Score for baltaks/ts/3_m / 1_ts / 0_lab / 0_pi / 0_ac1 / 0_ac2",
          "R1 Structures: Frequency and Overall Score for baltaks/ts/3_m / 2_ts / 0_lab / 0_pi / 0_ac1 / 0_ac2",
          "R1 Structures: Frequency and Overall Score for baltaks/lab/4_m / 0_ts / 1_lab / 0_pi / 0_ac1 / 0_ac2",
          "R1 Structures: Frequency and Overall Score for baltaks/ts/4_m / 1_ts / 0_lab / 0_pi / 0_ac1 / 0_ac2",
          "R1 Structures: Frequency and Overall Score for baltaks/m/5_m / 0_ts / 0_lab / 0_pi / 0_ac1 / 0_ac2",
          "R1 Structures: Frequency and Overall Score for baltaks/lab/5_m / 0_ts / 1_lab / 0_pi / 0_ac1 / 0_ac2",
          "R1 Structures: Frequency and Overall Score for baltaks/PI",
          "R1 Structures: Frequency and Overall Score for baltaks/ac1",
          "R1 Structures: Frequency and Overall Score for baltaks/ac2",
          "R1 Structures: Frequency and Overall Score for baltaks/lab",
          "R1 Structures: Frequency and Overall Score for baltaks/m",
          "R1 Structures: Frequency and Overall Score for baltaks/ts",
          "R1 Structures: Frequency and Overall Score for baltaks"
         ],
         "labels": [
          "0_m / 0_ts / 2_lab / 0_pi / 0_ac1 / 0_ac2",
          "0_m / 1_ts / 0_lab / 0_pi / 1_ac1 / 0_ac2",
          "0_m / 1_ts / 1_lab / 0_pi / 0_ac1 / 0_ac2",
          "0_m / 3_ts / 0_lab / 0_pi / 0_ac1 / 0_ac2",
          "1_m / 0_ts / 0_lab / 0_pi / 0_ac1 / 1_ac2",
          "1_m / 0_ts / 0_lab / 0_pi / 1_ac1 / 0_ac2",
          "1_m / 0_ts / 1_lab / 0_pi / 0_ac1 / 0_ac2",
          "1_m / 0_ts / 2_lab / 0_pi / 0_ac1 / 0_ac2",
          "1_m / 1_ts / 1_lab / 0_pi / 0_ac1 / 0_ac2",
          "2_m / 0_ts / 0_lab / 0_pi / 0_ac1 / 1_ac2",
          "2_m / 0_ts / 0_lab / 0_pi / 1_ac1 / 0_ac2",
          "2_m / 0_ts / 1_lab / 0_pi / 0_ac1 / 0_ac2",
          "2_m / 1_ts / 0_lab / 0_pi / 0_ac1 / 0_ac2",
          "2_m / 1_ts / 1_lab / 0_pi / 0_ac1 / 0_ac2",
          "2_m / 2_ts / 0_lab / 0_pi / 0_ac1 / 0_ac2",
          "3_m / 0_ts / 0_lab / 0_pi / 0_ac1 / 0_ac2",
          "3_m / 0_ts / 0_lab / 0_pi / 0_ac1 / 1_ac2",
          "3_m / 0_ts / 0_lab / 0_pi / 1_ac1 / 0_ac2",
          "3_m / 0_ts / 0_lab / 1_pi / 0_ac1 / 0_ac2",
          "3_m / 0_ts / 1_lab / 0_pi / 0_ac1 / 0_ac2",
          "3_m / 1_ts / 0_lab / 0_pi / 0_ac1 / 0_ac2",
          "3_m / 2_ts / 0_lab / 0_pi / 0_ac1 / 0_ac2",
          "4_m / 0_ts / 1_lab / 0_pi / 0_ac1 / 0_ac2",
          "4_m / 1_ts / 0_lab / 0_pi / 0_ac1 / 0_ac2",
          "5_m / 0_ts / 0_lab / 0_pi / 0_ac1 / 0_ac2",
          "5_m / 0_ts / 1_lab / 0_pi / 0_ac1 / 0_ac2",
          "PI",
          "ac1",
          "ac2",
          "lab",
          "m",
          "ts",
          "R1 Structures: Frequency and Overall Score for baltaks"
         ],
         "marker": {
          "coloraxis": "coloraxis",
          "colors": [
           141.4,
           168,
           133.33333333333334,
           105,
           147.71052631578948,
           145.45925925925926,
           130,
           163,
           131.56603773584905,
           148.96296296296296,
           146.359649122807,
           145.92550143266476,
           110.75,
           139.025,
           132,
           87.66666666666667,
           156,
           141,
           87,
           142.84242424242424,
           118,
           110,
           145.0701754385965,
           135,
           140,
           112,
           87,
           145.77202072538861,
           148.34848484848484,
           142.32954545454547,
           100.75,
           117.54545454545455,
           143.55806938159878
          ]
         },
         "name": "",
         "parents": [
          "R1 Structures: Frequency and Overall Score for baltaks/lab",
          "R1 Structures: Frequency and Overall Score for baltaks/ac1",
          "R1 Structures: Frequency and Overall Score for baltaks/lab",
          "R1 Structures: Frequency and Overall Score for baltaks/ts",
          "R1 Structures: Frequency and Overall Score for baltaks/ac2",
          "R1 Structures: Frequency and Overall Score for baltaks/ac1",
          "R1 Structures: Frequency and Overall Score for baltaks/lab",
          "R1 Structures: Frequency and Overall Score for baltaks/lab",
          "R1 Structures: Frequency and Overall Score for baltaks/lab",
          "R1 Structures: Frequency and Overall Score for baltaks/ac2",
          "R1 Structures: Frequency and Overall Score for baltaks/ac1",
          "R1 Structures: Frequency and Overall Score for baltaks/lab",
          "R1 Structures: Frequency and Overall Score for baltaks/ts",
          "R1 Structures: Frequency and Overall Score for baltaks/lab",
          "R1 Structures: Frequency and Overall Score for baltaks/ts",
          "R1 Structures: Frequency and Overall Score for baltaks/m",
          "R1 Structures: Frequency and Overall Score for baltaks/ac2",
          "R1 Structures: Frequency and Overall Score for baltaks/ac1",
          "R1 Structures: Frequency and Overall Score for baltaks/PI",
          "R1 Structures: Frequency and Overall Score for baltaks/lab",
          "R1 Structures: Frequency and Overall Score for baltaks/ts",
          "R1 Structures: Frequency and Overall Score for baltaks/ts",
          "R1 Structures: Frequency and Overall Score for baltaks/lab",
          "R1 Structures: Frequency and Overall Score for baltaks/ts",
          "R1 Structures: Frequency and Overall Score for baltaks/m",
          "R1 Structures: Frequency and Overall Score for baltaks/lab",
          "R1 Structures: Frequency and Overall Score for baltaks",
          "R1 Structures: Frequency and Overall Score for baltaks",
          "R1 Structures: Frequency and Overall Score for baltaks",
          "R1 Structures: Frequency and Overall Score for baltaks",
          "R1 Structures: Frequency and Overall Score for baltaks",
          "R1 Structures: Frequency and Overall Score for baltaks",
          ""
         ],
         "type": "treemap",
         "values": [
          15,
          1,
          12,
          1,
          76,
          270,
          53,
          7,
          53,
          54,
          114,
          349,
          4,
          80,
          2,
          3,
          2,
          1,
          1,
          165,
          2,
          1,
          57,
          1,
          1,
          1,
          1,
          386,
          132,
          792,
          4,
          11,
          1326
         ]
        }
       ],
       "layout": {
        "coloraxis": {
         "cmid": 139.5125,
         "colorbar": {
          "title": {
           "text": "overall_score_baltaks"
          }
         },
         "colorscale": [
          [
           0,
           "rgb(103,0,31)"
          ],
          [
           0.1,
           "rgb(178,24,43)"
          ],
          [
           0.2,
           "rgb(214,96,77)"
          ],
          [
           0.3,
           "rgb(244,165,130)"
          ],
          [
           0.4,
           "rgb(253,219,199)"
          ],
          [
           0.5,
           "rgb(247,247,247)"
          ],
          [
           0.6,
           "rgb(209,229,240)"
          ],
          [
           0.7,
           "rgb(146,197,222)"
          ],
          [
           0.8,
           "rgb(67,147,195)"
          ],
          [
           0.9,
           "rgb(33,102,172)"
          ],
          [
           1,
           "rgb(5,48,97)"
          ]
         ]
        },
        "legend": {
         "tracegroupgap": 0
        },
        "margin": {
         "b": 25,
         "l": 25,
         "r": 25,
         "t": 50
        },
        "template": {
         "data": {
          "bar": [
           {
            "error_x": {
             "color": "#2a3f5f"
            },
            "error_y": {
             "color": "#2a3f5f"
            },
            "marker": {
             "line": {
              "color": "#E5ECF6",
              "width": 0.5
             },
             "pattern": {
              "fillmode": "overlay",
              "size": 10,
              "solidity": 0.2
             }
            },
            "type": "bar"
           }
          ],
          "barpolar": [
           {
            "marker": {
             "line": {
              "color": "#E5ECF6",
              "width": 0.5
             },
             "pattern": {
              "fillmode": "overlay",
              "size": 10,
              "solidity": 0.2
             }
            },
            "type": "barpolar"
           }
          ],
          "carpet": [
           {
            "aaxis": {
             "endlinecolor": "#2a3f5f",
             "gridcolor": "white",
             "linecolor": "white",
             "minorgridcolor": "white",
             "startlinecolor": "#2a3f5f"
            },
            "baxis": {
             "endlinecolor": "#2a3f5f",
             "gridcolor": "white",
             "linecolor": "white",
             "minorgridcolor": "white",
             "startlinecolor": "#2a3f5f"
            },
            "type": "carpet"
           }
          ],
          "choropleth": [
           {
            "colorbar": {
             "outlinewidth": 0,
             "ticks": ""
            },
            "type": "choropleth"
           }
          ],
          "contour": [
           {
            "colorbar": {
             "outlinewidth": 0,
             "ticks": ""
            },
            "colorscale": [
             [
              0,
              "#0d0887"
             ],
             [
              0.1111111111111111,
              "#46039f"
             ],
             [
              0.2222222222222222,
              "#7201a8"
             ],
             [
              0.3333333333333333,
              "#9c179e"
             ],
             [
              0.4444444444444444,
              "#bd3786"
             ],
             [
              0.5555555555555556,
              "#d8576b"
             ],
             [
              0.6666666666666666,
              "#ed7953"
             ],
             [
              0.7777777777777778,
              "#fb9f3a"
             ],
             [
              0.8888888888888888,
              "#fdca26"
             ],
             [
              1,
              "#f0f921"
             ]
            ],
            "type": "contour"
           }
          ],
          "contourcarpet": [
           {
            "colorbar": {
             "outlinewidth": 0,
             "ticks": ""
            },
            "type": "contourcarpet"
           }
          ],
          "heatmap": [
           {
            "colorbar": {
             "outlinewidth": 0,
             "ticks": ""
            },
            "colorscale": [
             [
              0,
              "#0d0887"
             ],
             [
              0.1111111111111111,
              "#46039f"
             ],
             [
              0.2222222222222222,
              "#7201a8"
             ],
             [
              0.3333333333333333,
              "#9c179e"
             ],
             [
              0.4444444444444444,
              "#bd3786"
             ],
             [
              0.5555555555555556,
              "#d8576b"
             ],
             [
              0.6666666666666666,
              "#ed7953"
             ],
             [
              0.7777777777777778,
              "#fb9f3a"
             ],
             [
              0.8888888888888888,
              "#fdca26"
             ],
             [
              1,
              "#f0f921"
             ]
            ],
            "type": "heatmap"
           }
          ],
          "heatmapgl": [
           {
            "colorbar": {
             "outlinewidth": 0,
             "ticks": ""
            },
            "colorscale": [
             [
              0,
              "#0d0887"
             ],
             [
              0.1111111111111111,
              "#46039f"
             ],
             [
              0.2222222222222222,
              "#7201a8"
             ],
             [
              0.3333333333333333,
              "#9c179e"
             ],
             [
              0.4444444444444444,
              "#bd3786"
             ],
             [
              0.5555555555555556,
              "#d8576b"
             ],
             [
              0.6666666666666666,
              "#ed7953"
             ],
             [
              0.7777777777777778,
              "#fb9f3a"
             ],
             [
              0.8888888888888888,
              "#fdca26"
             ],
             [
              1,
              "#f0f921"
             ]
            ],
            "type": "heatmapgl"
           }
          ],
          "histogram": [
           {
            "marker": {
             "pattern": {
              "fillmode": "overlay",
              "size": 10,
              "solidity": 0.2
             }
            },
            "type": "histogram"
           }
          ],
          "histogram2d": [
           {
            "colorbar": {
             "outlinewidth": 0,
             "ticks": ""
            },
            "colorscale": [
             [
              0,
              "#0d0887"
             ],
             [
              0.1111111111111111,
              "#46039f"
             ],
             [
              0.2222222222222222,
              "#7201a8"
             ],
             [
              0.3333333333333333,
              "#9c179e"
             ],
             [
              0.4444444444444444,
              "#bd3786"
             ],
             [
              0.5555555555555556,
              "#d8576b"
             ],
             [
              0.6666666666666666,
              "#ed7953"
             ],
             [
              0.7777777777777778,
              "#fb9f3a"
             ],
             [
              0.8888888888888888,
              "#fdca26"
             ],
             [
              1,
              "#f0f921"
             ]
            ],
            "type": "histogram2d"
           }
          ],
          "histogram2dcontour": [
           {
            "colorbar": {
             "outlinewidth": 0,
             "ticks": ""
            },
            "colorscale": [
             [
              0,
              "#0d0887"
             ],
             [
              0.1111111111111111,
              "#46039f"
             ],
             [
              0.2222222222222222,
              "#7201a8"
             ],
             [
              0.3333333333333333,
              "#9c179e"
             ],
             [
              0.4444444444444444,
              "#bd3786"
             ],
             [
              0.5555555555555556,
              "#d8576b"
             ],
             [
              0.6666666666666666,
              "#ed7953"
             ],
             [
              0.7777777777777778,
              "#fb9f3a"
             ],
             [
              0.8888888888888888,
              "#fdca26"
             ],
             [
              1,
              "#f0f921"
             ]
            ],
            "type": "histogram2dcontour"
           }
          ],
          "mesh3d": [
           {
            "colorbar": {
             "outlinewidth": 0,
             "ticks": ""
            },
            "type": "mesh3d"
           }
          ],
          "parcoords": [
           {
            "line": {
             "colorbar": {
              "outlinewidth": 0,
              "ticks": ""
             }
            },
            "type": "parcoords"
           }
          ],
          "pie": [
           {
            "automargin": true,
            "type": "pie"
           }
          ],
          "scatter": [
           {
            "marker": {
             "colorbar": {
              "outlinewidth": 0,
              "ticks": ""
             }
            },
            "type": "scatter"
           }
          ],
          "scatter3d": [
           {
            "line": {
             "colorbar": {
              "outlinewidth": 0,
              "ticks": ""
             }
            },
            "marker": {
             "colorbar": {
              "outlinewidth": 0,
              "ticks": ""
             }
            },
            "type": "scatter3d"
           }
          ],
          "scattercarpet": [
           {
            "marker": {
             "colorbar": {
              "outlinewidth": 0,
              "ticks": ""
             }
            },
            "type": "scattercarpet"
           }
          ],
          "scattergeo": [
           {
            "marker": {
             "colorbar": {
              "outlinewidth": 0,
              "ticks": ""
             }
            },
            "type": "scattergeo"
           }
          ],
          "scattergl": [
           {
            "marker": {
             "colorbar": {
              "outlinewidth": 0,
              "ticks": ""
             }
            },
            "type": "scattergl"
           }
          ],
          "scattermapbox": [
           {
            "marker": {
             "colorbar": {
              "outlinewidth": 0,
              "ticks": ""
             }
            },
            "type": "scattermapbox"
           }
          ],
          "scatterpolar": [
           {
            "marker": {
             "colorbar": {
              "outlinewidth": 0,
              "ticks": ""
             }
            },
            "type": "scatterpolar"
           }
          ],
          "scatterpolargl": [
           {
            "marker": {
             "colorbar": {
              "outlinewidth": 0,
              "ticks": ""
             }
            },
            "type": "scatterpolargl"
           }
          ],
          "scatterternary": [
           {
            "marker": {
             "colorbar": {
              "outlinewidth": 0,
              "ticks": ""
             }
            },
            "type": "scatterternary"
           }
          ],
          "surface": [
           {
            "colorbar": {
             "outlinewidth": 0,
             "ticks": ""
            },
            "colorscale": [
             [
              0,
              "#0d0887"
             ],
             [
              0.1111111111111111,
              "#46039f"
             ],
             [
              0.2222222222222222,
              "#7201a8"
             ],
             [
              0.3333333333333333,
              "#9c179e"
             ],
             [
              0.4444444444444444,
              "#bd3786"
             ],
             [
              0.5555555555555556,
              "#d8576b"
             ],
             [
              0.6666666666666666,
              "#ed7953"
             ],
             [
              0.7777777777777778,
              "#fb9f3a"
             ],
             [
              0.8888888888888888,
              "#fdca26"
             ],
             [
              1,
              "#f0f921"
             ]
            ],
            "type": "surface"
           }
          ],
          "table": [
           {
            "cells": {
             "fill": {
              "color": "#EBF0F8"
             },
             "line": {
              "color": "white"
             }
            },
            "header": {
             "fill": {
              "color": "#C8D4E3"
             },
             "line": {
              "color": "white"
             }
            },
            "type": "table"
           }
          ]
         },
         "layout": {
          "annotationdefaults": {
           "arrowcolor": "#2a3f5f",
           "arrowhead": 0,
           "arrowwidth": 1
          },
          "autotypenumbers": "strict",
          "coloraxis": {
           "colorbar": {
            "outlinewidth": 0,
            "ticks": ""
           }
          },
          "colorscale": {
           "diverging": [
            [
             0,
             "#8e0152"
            ],
            [
             0.1,
             "#c51b7d"
            ],
            [
             0.2,
             "#de77ae"
            ],
            [
             0.3,
             "#f1b6da"
            ],
            [
             0.4,
             "#fde0ef"
            ],
            [
             0.5,
             "#f7f7f7"
            ],
            [
             0.6,
             "#e6f5d0"
            ],
            [
             0.7,
             "#b8e186"
            ],
            [
             0.8,
             "#7fbc41"
            ],
            [
             0.9,
             "#4d9221"
            ],
            [
             1,
             "#276419"
            ]
           ],
           "sequential": [
            [
             0,
             "#0d0887"
            ],
            [
             0.1111111111111111,
             "#46039f"
            ],
            [
             0.2222222222222222,
             "#7201a8"
            ],
            [
             0.3333333333333333,
             "#9c179e"
            ],
            [
             0.4444444444444444,
             "#bd3786"
            ],
            [
             0.5555555555555556,
             "#d8576b"
            ],
            [
             0.6666666666666666,
             "#ed7953"
            ],
            [
             0.7777777777777778,
             "#fb9f3a"
            ],
            [
             0.8888888888888888,
             "#fdca26"
            ],
            [
             1,
             "#f0f921"
            ]
           ],
           "sequentialminus": [
            [
             0,
             "#0d0887"
            ],
            [
             0.1111111111111111,
             "#46039f"
            ],
            [
             0.2222222222222222,
             "#7201a8"
            ],
            [
             0.3333333333333333,
             "#9c179e"
            ],
            [
             0.4444444444444444,
             "#bd3786"
            ],
            [
             0.5555555555555556,
             "#d8576b"
            ],
            [
             0.6666666666666666,
             "#ed7953"
            ],
            [
             0.7777777777777778,
             "#fb9f3a"
            ],
            [
             0.8888888888888888,
             "#fdca26"
            ],
            [
             1,
             "#f0f921"
            ]
           ]
          },
          "colorway": [
           "#636efa",
           "#EF553B",
           "#00cc96",
           "#ab63fa",
           "#FFA15A",
           "#19d3f3",
           "#FF6692",
           "#B6E880",
           "#FF97FF",
           "#FECB52"
          ],
          "font": {
           "color": "#2a3f5f"
          },
          "geo": {
           "bgcolor": "white",
           "lakecolor": "white",
           "landcolor": "#E5ECF6",
           "showlakes": true,
           "showland": true,
           "subunitcolor": "white"
          },
          "hoverlabel": {
           "align": "left"
          },
          "hovermode": "closest",
          "mapbox": {
           "style": "light"
          },
          "paper_bgcolor": "white",
          "plot_bgcolor": "#E5ECF6",
          "polar": {
           "angularaxis": {
            "gridcolor": "white",
            "linecolor": "white",
            "ticks": ""
           },
           "bgcolor": "#E5ECF6",
           "radialaxis": {
            "gridcolor": "white",
            "linecolor": "white",
            "ticks": ""
           }
          },
          "scene": {
           "xaxis": {
            "backgroundcolor": "#E5ECF6",
            "gridcolor": "white",
            "gridwidth": 2,
            "linecolor": "white",
            "showbackground": true,
            "ticks": "",
            "zerolinecolor": "white"
           },
           "yaxis": {
            "backgroundcolor": "#E5ECF6",
            "gridcolor": "white",
            "gridwidth": 2,
            "linecolor": "white",
            "showbackground": true,
            "ticks": "",
            "zerolinecolor": "white"
           },
           "zaxis": {
            "backgroundcolor": "#E5ECF6",
            "gridcolor": "white",
            "gridwidth": 2,
            "linecolor": "white",
            "showbackground": true,
            "ticks": "",
            "zerolinecolor": "white"
           }
          },
          "shapedefaults": {
           "line": {
            "color": "#2a3f5f"
           }
          },
          "ternary": {
           "aaxis": {
            "gridcolor": "white",
            "linecolor": "white",
            "ticks": ""
           },
           "baxis": {
            "gridcolor": "white",
            "linecolor": "white",
            "ticks": ""
           },
           "bgcolor": "#E5ECF6",
           "caxis": {
            "gridcolor": "white",
            "linecolor": "white",
            "ticks": ""
           }
          },
          "title": {
           "x": 0.05
          },
          "xaxis": {
           "automargin": true,
           "gridcolor": "white",
           "linecolor": "white",
           "ticks": "",
           "title": {
            "standoff": 15
           },
           "zerolinecolor": "white",
           "zerolinewidth": 2
          },
          "yaxis": {
           "automargin": true,
           "gridcolor": "white",
           "linecolor": "white",
           "ticks": "",
           "title": {
            "standoff": 15
           },
           "zerolinecolor": "white",
           "zerolinewidth": 2
          }
         }
        }
       }
      },
      "text/html": [
       "<div>                            <div id=\"4b01a0d0-8bc3-417d-8b28-efff609f41ed\" class=\"plotly-graph-div\" style=\"height:525px; width:100%;\"></div>            <script type=\"text/javascript\">                require([\"plotly\"], function(Plotly) {                    window.PLOTLYENV=window.PLOTLYENV || {};                                    if (document.getElementById(\"4b01a0d0-8bc3-417d-8b28-efff609f41ed\")) {                    Plotly.newPlot(                        \"4b01a0d0-8bc3-417d-8b28-efff609f41ed\",                        [{\"branchvalues\":\"total\",\"customdata\":[[213.53333333333333,141.4],[257.0,168.0],[157.83333333333334,133.33333333333334],[10.0,105.0],[200.75,147.71052631578948],[221.93333333333334,145.45925925925926],[166.37735849056602,130.0],[266.42857142857144,163.0],[168.28301886792454,131.56603773584905],[200.53703703703704,148.96296296296296],[263.8070175438597,146.359649122807],[215.9512893982808,145.92550143266476],[112.25,110.75],[209.5875,139.025],[190.0,132.0],[41.333333333333336,87.66666666666667],[185.0,156.0],[434.0,141.0],[34.0,87.0],[205.44242424242424,142.84242424242424],[0.5,118.0],[100.0,110.0],[239.33333333333334,145.0701754385965],[172.0,135.0],[42.0,140.0],[262.0,112.0],[34.0,87.0],[\"(?)\",145.77202072538861],[\"(?)\",148.34848484848484],[\"(?)\",142.32954545454547],[\"(?)\",100.75],[\"(?)\",117.54545454545455],[\"(?)\",143.55806938159878]],\"domain\":{\"x\":[0.0,1.0],\"y\":[0.0,1.0]},\"hovertemplate\":\"labels=%{label}<br>class_counts=%{value}<br>parent=%{parent}<br>id=%{id}<br>overall_elo_baltaks=%{customdata[0]}<br>overall_score_baltaks=%{color}<extra></extra>\",\"ids\":[\"R1 Structures: Frequency and Overall Score for baltaks/lab/0_m / 0_ts / 2_lab / 0_pi / 0_ac1 / 0_ac2\",\"R1 Structures: Frequency and Overall Score for baltaks/ac1/0_m / 1_ts / 0_lab / 0_pi / 1_ac1 / 0_ac2\",\"R1 Structures: Frequency and Overall Score for baltaks/lab/0_m / 1_ts / 1_lab / 0_pi / 0_ac1 / 0_ac2\",\"R1 Structures: Frequency and Overall Score for baltaks/ts/0_m / 3_ts / 0_lab / 0_pi / 0_ac1 / 0_ac2\",\"R1 Structures: Frequency and Overall Score for baltaks/ac2/1_m / 0_ts / 0_lab / 0_pi / 0_ac1 / 1_ac2\",\"R1 Structures: Frequency and Overall Score for baltaks/ac1/1_m / 0_ts / 0_lab / 0_pi / 1_ac1 / 0_ac2\",\"R1 Structures: Frequency and Overall Score for baltaks/lab/1_m / 0_ts / 1_lab / 0_pi / 0_ac1 / 0_ac2\",\"R1 Structures: Frequency and Overall Score for baltaks/lab/1_m / 0_ts / 2_lab / 0_pi / 0_ac1 / 0_ac2\",\"R1 Structures: Frequency and Overall Score for baltaks/lab/1_m / 1_ts / 1_lab / 0_pi / 0_ac1 / 0_ac2\",\"R1 Structures: Frequency and Overall Score for baltaks/ac2/2_m / 0_ts / 0_lab / 0_pi / 0_ac1 / 1_ac2\",\"R1 Structures: Frequency and Overall Score for baltaks/ac1/2_m / 0_ts / 0_lab / 0_pi / 1_ac1 / 0_ac2\",\"R1 Structures: Frequency and Overall Score for baltaks/lab/2_m / 0_ts / 1_lab / 0_pi / 0_ac1 / 0_ac2\",\"R1 Structures: Frequency and Overall Score for baltaks/ts/2_m / 1_ts / 0_lab / 0_pi / 0_ac1 / 0_ac2\",\"R1 Structures: Frequency and Overall Score for baltaks/lab/2_m / 1_ts / 1_lab / 0_pi / 0_ac1 / 0_ac2\",\"R1 Structures: Frequency and Overall Score for baltaks/ts/2_m / 2_ts / 0_lab / 0_pi / 0_ac1 / 0_ac2\",\"R1 Structures: Frequency and Overall Score for baltaks/m/3_m / 0_ts / 0_lab / 0_pi / 0_ac1 / 0_ac2\",\"R1 Structures: Frequency and Overall Score for baltaks/ac2/3_m / 0_ts / 0_lab / 0_pi / 0_ac1 / 1_ac2\",\"R1 Structures: Frequency and Overall Score for baltaks/ac1/3_m / 0_ts / 0_lab / 0_pi / 1_ac1 / 0_ac2\",\"R1 Structures: Frequency and Overall Score for baltaks/PI/3_m / 0_ts / 0_lab / 1_pi / 0_ac1 / 0_ac2\",\"R1 Structures: Frequency and Overall Score for baltaks/lab/3_m / 0_ts / 1_lab / 0_pi / 0_ac1 / 0_ac2\",\"R1 Structures: Frequency and Overall Score for baltaks/ts/3_m / 1_ts / 0_lab / 0_pi / 0_ac1 / 0_ac2\",\"R1 Structures: Frequency and Overall Score for baltaks/ts/3_m / 2_ts / 0_lab / 0_pi / 0_ac1 / 0_ac2\",\"R1 Structures: Frequency and Overall Score for baltaks/lab/4_m / 0_ts / 1_lab / 0_pi / 0_ac1 / 0_ac2\",\"R1 Structures: Frequency and Overall Score for baltaks/ts/4_m / 1_ts / 0_lab / 0_pi / 0_ac1 / 0_ac2\",\"R1 Structures: Frequency and Overall Score for baltaks/m/5_m / 0_ts / 0_lab / 0_pi / 0_ac1 / 0_ac2\",\"R1 Structures: Frequency and Overall Score for baltaks/lab/5_m / 0_ts / 1_lab / 0_pi / 0_ac1 / 0_ac2\",\"R1 Structures: Frequency and Overall Score for baltaks/PI\",\"R1 Structures: Frequency and Overall Score for baltaks/ac1\",\"R1 Structures: Frequency and Overall Score for baltaks/ac2\",\"R1 Structures: Frequency and Overall Score for baltaks/lab\",\"R1 Structures: Frequency and Overall Score for baltaks/m\",\"R1 Structures: Frequency and Overall Score for baltaks/ts\",\"R1 Structures: Frequency and Overall Score for baltaks\"],\"labels\":[\"0_m / 0_ts / 2_lab / 0_pi / 0_ac1 / 0_ac2\",\"0_m / 1_ts / 0_lab / 0_pi / 1_ac1 / 0_ac2\",\"0_m / 1_ts / 1_lab / 0_pi / 0_ac1 / 0_ac2\",\"0_m / 3_ts / 0_lab / 0_pi / 0_ac1 / 0_ac2\",\"1_m / 0_ts / 0_lab / 0_pi / 0_ac1 / 1_ac2\",\"1_m / 0_ts / 0_lab / 0_pi / 1_ac1 / 0_ac2\",\"1_m / 0_ts / 1_lab / 0_pi / 0_ac1 / 0_ac2\",\"1_m / 0_ts / 2_lab / 0_pi / 0_ac1 / 0_ac2\",\"1_m / 1_ts / 1_lab / 0_pi / 0_ac1 / 0_ac2\",\"2_m / 0_ts / 0_lab / 0_pi / 0_ac1 / 1_ac2\",\"2_m / 0_ts / 0_lab / 0_pi / 1_ac1 / 0_ac2\",\"2_m / 0_ts / 1_lab / 0_pi / 0_ac1 / 0_ac2\",\"2_m / 1_ts / 0_lab / 0_pi / 0_ac1 / 0_ac2\",\"2_m / 1_ts / 1_lab / 0_pi / 0_ac1 / 0_ac2\",\"2_m / 2_ts / 0_lab / 0_pi / 0_ac1 / 0_ac2\",\"3_m / 0_ts / 0_lab / 0_pi / 0_ac1 / 0_ac2\",\"3_m / 0_ts / 0_lab / 0_pi / 0_ac1 / 1_ac2\",\"3_m / 0_ts / 0_lab / 0_pi / 1_ac1 / 0_ac2\",\"3_m / 0_ts / 0_lab / 1_pi / 0_ac1 / 0_ac2\",\"3_m / 0_ts / 1_lab / 0_pi / 0_ac1 / 0_ac2\",\"3_m / 1_ts / 0_lab / 0_pi / 0_ac1 / 0_ac2\",\"3_m / 2_ts / 0_lab / 0_pi / 0_ac1 / 0_ac2\",\"4_m / 0_ts / 1_lab / 0_pi / 0_ac1 / 0_ac2\",\"4_m / 1_ts / 0_lab / 0_pi / 0_ac1 / 0_ac2\",\"5_m / 0_ts / 0_lab / 0_pi / 0_ac1 / 0_ac2\",\"5_m / 0_ts / 1_lab / 0_pi / 0_ac1 / 0_ac2\",\"PI\",\"ac1\",\"ac2\",\"lab\",\"m\",\"ts\",\"R1 Structures: Frequency and Overall Score for baltaks\"],\"marker\":{\"coloraxis\":\"coloraxis\",\"colors\":[141.4,168.0,133.33333333333334,105.0,147.71052631578948,145.45925925925926,130.0,163.0,131.56603773584905,148.96296296296296,146.359649122807,145.92550143266476,110.75,139.025,132.0,87.66666666666667,156.0,141.0,87.0,142.84242424242424,118.0,110.0,145.0701754385965,135.0,140.0,112.0,87.0,145.77202072538861,148.34848484848484,142.32954545454547,100.75,117.54545454545455,143.55806938159878]},\"name\":\"\",\"parents\":[\"R1 Structures: Frequency and Overall Score for baltaks/lab\",\"R1 Structures: Frequency and Overall Score for baltaks/ac1\",\"R1 Structures: Frequency and Overall Score for baltaks/lab\",\"R1 Structures: Frequency and Overall Score for baltaks/ts\",\"R1 Structures: Frequency and Overall Score for baltaks/ac2\",\"R1 Structures: Frequency and Overall Score for baltaks/ac1\",\"R1 Structures: Frequency and Overall Score for baltaks/lab\",\"R1 Structures: Frequency and Overall Score for baltaks/lab\",\"R1 Structures: Frequency and Overall Score for baltaks/lab\",\"R1 Structures: Frequency and Overall Score for baltaks/ac2\",\"R1 Structures: Frequency and Overall Score for baltaks/ac1\",\"R1 Structures: Frequency and Overall Score for baltaks/lab\",\"R1 Structures: Frequency and Overall Score for baltaks/ts\",\"R1 Structures: Frequency and Overall Score for baltaks/lab\",\"R1 Structures: Frequency and Overall Score for baltaks/ts\",\"R1 Structures: Frequency and Overall Score for baltaks/m\",\"R1 Structures: Frequency and Overall Score for baltaks/ac2\",\"R1 Structures: Frequency and Overall Score for baltaks/ac1\",\"R1 Structures: Frequency and Overall Score for baltaks/PI\",\"R1 Structures: Frequency and Overall Score for baltaks/lab\",\"R1 Structures: Frequency and Overall Score for baltaks/ts\",\"R1 Structures: Frequency and Overall Score for baltaks/ts\",\"R1 Structures: Frequency and Overall Score for baltaks/lab\",\"R1 Structures: Frequency and Overall Score for baltaks/ts\",\"R1 Structures: Frequency and Overall Score for baltaks/m\",\"R1 Structures: Frequency and Overall Score for baltaks/lab\",\"R1 Structures: Frequency and Overall Score for baltaks\",\"R1 Structures: Frequency and Overall Score for baltaks\",\"R1 Structures: Frequency and Overall Score for baltaks\",\"R1 Structures: Frequency and Overall Score for baltaks\",\"R1 Structures: Frequency and Overall Score for baltaks\",\"R1 Structures: Frequency and Overall Score for baltaks\",\"\"],\"values\":[15,1,12,1,76,270,53,7,53,54,114,349,4,80,2,3,2,1,1,165,2,1,57,1,1,1,1,386,132,792,4,11,1326],\"type\":\"treemap\"}],                        {\"template\":{\"data\":{\"bar\":[{\"error_x\":{\"color\":\"#2a3f5f\"},\"error_y\":{\"color\":\"#2a3f5f\"},\"marker\":{\"line\":{\"color\":\"#E5ECF6\",\"width\":0.5},\"pattern\":{\"fillmode\":\"overlay\",\"size\":10,\"solidity\":0.2}},\"type\":\"bar\"}],\"barpolar\":[{\"marker\":{\"line\":{\"color\":\"#E5ECF6\",\"width\":0.5},\"pattern\":{\"fillmode\":\"overlay\",\"size\":10,\"solidity\":0.2}},\"type\":\"barpolar\"}],\"carpet\":[{\"aaxis\":{\"endlinecolor\":\"#2a3f5f\",\"gridcolor\":\"white\",\"linecolor\":\"white\",\"minorgridcolor\":\"white\",\"startlinecolor\":\"#2a3f5f\"},\"baxis\":{\"endlinecolor\":\"#2a3f5f\",\"gridcolor\":\"white\",\"linecolor\":\"white\",\"minorgridcolor\":\"white\",\"startlinecolor\":\"#2a3f5f\"},\"type\":\"carpet\"}],\"choropleth\":[{\"colorbar\":{\"outlinewidth\":0,\"ticks\":\"\"},\"type\":\"choropleth\"}],\"contour\":[{\"colorbar\":{\"outlinewidth\":0,\"ticks\":\"\"},\"colorscale\":[[0.0,\"#0d0887\"],[0.1111111111111111,\"#46039f\"],[0.2222222222222222,\"#7201a8\"],[0.3333333333333333,\"#9c179e\"],[0.4444444444444444,\"#bd3786\"],[0.5555555555555556,\"#d8576b\"],[0.6666666666666666,\"#ed7953\"],[0.7777777777777778,\"#fb9f3a\"],[0.8888888888888888,\"#fdca26\"],[1.0,\"#f0f921\"]],\"type\":\"contour\"}],\"contourcarpet\":[{\"colorbar\":{\"outlinewidth\":0,\"ticks\":\"\"},\"type\":\"contourcarpet\"}],\"heatmap\":[{\"colorbar\":{\"outlinewidth\":0,\"ticks\":\"\"},\"colorscale\":[[0.0,\"#0d0887\"],[0.1111111111111111,\"#46039f\"],[0.2222222222222222,\"#7201a8\"],[0.3333333333333333,\"#9c179e\"],[0.4444444444444444,\"#bd3786\"],[0.5555555555555556,\"#d8576b\"],[0.6666666666666666,\"#ed7953\"],[0.7777777777777778,\"#fb9f3a\"],[0.8888888888888888,\"#fdca26\"],[1.0,\"#f0f921\"]],\"type\":\"heatmap\"}],\"heatmapgl\":[{\"colorbar\":{\"outlinewidth\":0,\"ticks\":\"\"},\"colorscale\":[[0.0,\"#0d0887\"],[0.1111111111111111,\"#46039f\"],[0.2222222222222222,\"#7201a8\"],[0.3333333333333333,\"#9c179e\"],[0.4444444444444444,\"#bd3786\"],[0.5555555555555556,\"#d8576b\"],[0.6666666666666666,\"#ed7953\"],[0.7777777777777778,\"#fb9f3a\"],[0.8888888888888888,\"#fdca26\"],[1.0,\"#f0f921\"]],\"type\":\"heatmapgl\"}],\"histogram\":[{\"marker\":{\"pattern\":{\"fillmode\":\"overlay\",\"size\":10,\"solidity\":0.2}},\"type\":\"histogram\"}],\"histogram2d\":[{\"colorbar\":{\"outlinewidth\":0,\"ticks\":\"\"},\"colorscale\":[[0.0,\"#0d0887\"],[0.1111111111111111,\"#46039f\"],[0.2222222222222222,\"#7201a8\"],[0.3333333333333333,\"#9c179e\"],[0.4444444444444444,\"#bd3786\"],[0.5555555555555556,\"#d8576b\"],[0.6666666666666666,\"#ed7953\"],[0.7777777777777778,\"#fb9f3a\"],[0.8888888888888888,\"#fdca26\"],[1.0,\"#f0f921\"]],\"type\":\"histogram2d\"}],\"histogram2dcontour\":[{\"colorbar\":{\"outlinewidth\":0,\"ticks\":\"\"},\"colorscale\":[[0.0,\"#0d0887\"],[0.1111111111111111,\"#46039f\"],[0.2222222222222222,\"#7201a8\"],[0.3333333333333333,\"#9c179e\"],[0.4444444444444444,\"#bd3786\"],[0.5555555555555556,\"#d8576b\"],[0.6666666666666666,\"#ed7953\"],[0.7777777777777778,\"#fb9f3a\"],[0.8888888888888888,\"#fdca26\"],[1.0,\"#f0f921\"]],\"type\":\"histogram2dcontour\"}],\"mesh3d\":[{\"colorbar\":{\"outlinewidth\":0,\"ticks\":\"\"},\"type\":\"mesh3d\"}],\"parcoords\":[{\"line\":{\"colorbar\":{\"outlinewidth\":0,\"ticks\":\"\"}},\"type\":\"parcoords\"}],\"pie\":[{\"automargin\":true,\"type\":\"pie\"}],\"scatter\":[{\"marker\":{\"colorbar\":{\"outlinewidth\":0,\"ticks\":\"\"}},\"type\":\"scatter\"}],\"scatter3d\":[{\"line\":{\"colorbar\":{\"outlinewidth\":0,\"ticks\":\"\"}},\"marker\":{\"colorbar\":{\"outlinewidth\":0,\"ticks\":\"\"}},\"type\":\"scatter3d\"}],\"scattercarpet\":[{\"marker\":{\"colorbar\":{\"outlinewidth\":0,\"ticks\":\"\"}},\"type\":\"scattercarpet\"}],\"scattergeo\":[{\"marker\":{\"colorbar\":{\"outlinewidth\":0,\"ticks\":\"\"}},\"type\":\"scattergeo\"}],\"scattergl\":[{\"marker\":{\"colorbar\":{\"outlinewidth\":0,\"ticks\":\"\"}},\"type\":\"scattergl\"}],\"scattermapbox\":[{\"marker\":{\"colorbar\":{\"outlinewidth\":0,\"ticks\":\"\"}},\"type\":\"scattermapbox\"}],\"scatterpolar\":[{\"marker\":{\"colorbar\":{\"outlinewidth\":0,\"ticks\":\"\"}},\"type\":\"scatterpolar\"}],\"scatterpolargl\":[{\"marker\":{\"colorbar\":{\"outlinewidth\":0,\"ticks\":\"\"}},\"type\":\"scatterpolargl\"}],\"scatterternary\":[{\"marker\":{\"colorbar\":{\"outlinewidth\":0,\"ticks\":\"\"}},\"type\":\"scatterternary\"}],\"surface\":[{\"colorbar\":{\"outlinewidth\":0,\"ticks\":\"\"},\"colorscale\":[[0.0,\"#0d0887\"],[0.1111111111111111,\"#46039f\"],[0.2222222222222222,\"#7201a8\"],[0.3333333333333333,\"#9c179e\"],[0.4444444444444444,\"#bd3786\"],[0.5555555555555556,\"#d8576b\"],[0.6666666666666666,\"#ed7953\"],[0.7777777777777778,\"#fb9f3a\"],[0.8888888888888888,\"#fdca26\"],[1.0,\"#f0f921\"]],\"type\":\"surface\"}],\"table\":[{\"cells\":{\"fill\":{\"color\":\"#EBF0F8\"},\"line\":{\"color\":\"white\"}},\"header\":{\"fill\":{\"color\":\"#C8D4E3\"},\"line\":{\"color\":\"white\"}},\"type\":\"table\"}]},\"layout\":{\"annotationdefaults\":{\"arrowcolor\":\"#2a3f5f\",\"arrowhead\":0,\"arrowwidth\":1},\"autotypenumbers\":\"strict\",\"coloraxis\":{\"colorbar\":{\"outlinewidth\":0,\"ticks\":\"\"}},\"colorscale\":{\"diverging\":[[0,\"#8e0152\"],[0.1,\"#c51b7d\"],[0.2,\"#de77ae\"],[0.3,\"#f1b6da\"],[0.4,\"#fde0ef\"],[0.5,\"#f7f7f7\"],[0.6,\"#e6f5d0\"],[0.7,\"#b8e186\"],[0.8,\"#7fbc41\"],[0.9,\"#4d9221\"],[1,\"#276419\"]],\"sequential\":[[0.0,\"#0d0887\"],[0.1111111111111111,\"#46039f\"],[0.2222222222222222,\"#7201a8\"],[0.3333333333333333,\"#9c179e\"],[0.4444444444444444,\"#bd3786\"],[0.5555555555555556,\"#d8576b\"],[0.6666666666666666,\"#ed7953\"],[0.7777777777777778,\"#fb9f3a\"],[0.8888888888888888,\"#fdca26\"],[1.0,\"#f0f921\"]],\"sequentialminus\":[[0.0,\"#0d0887\"],[0.1111111111111111,\"#46039f\"],[0.2222222222222222,\"#7201a8\"],[0.3333333333333333,\"#9c179e\"],[0.4444444444444444,\"#bd3786\"],[0.5555555555555556,\"#d8576b\"],[0.6666666666666666,\"#ed7953\"],[0.7777777777777778,\"#fb9f3a\"],[0.8888888888888888,\"#fdca26\"],[1.0,\"#f0f921\"]]},\"colorway\":[\"#636efa\",\"#EF553B\",\"#00cc96\",\"#ab63fa\",\"#FFA15A\",\"#19d3f3\",\"#FF6692\",\"#B6E880\",\"#FF97FF\",\"#FECB52\"],\"font\":{\"color\":\"#2a3f5f\"},\"geo\":{\"bgcolor\":\"white\",\"lakecolor\":\"white\",\"landcolor\":\"#E5ECF6\",\"showlakes\":true,\"showland\":true,\"subunitcolor\":\"white\"},\"hoverlabel\":{\"align\":\"left\"},\"hovermode\":\"closest\",\"mapbox\":{\"style\":\"light\"},\"paper_bgcolor\":\"white\",\"plot_bgcolor\":\"#E5ECF6\",\"polar\":{\"angularaxis\":{\"gridcolor\":\"white\",\"linecolor\":\"white\",\"ticks\":\"\"},\"bgcolor\":\"#E5ECF6\",\"radialaxis\":{\"gridcolor\":\"white\",\"linecolor\":\"white\",\"ticks\":\"\"}},\"scene\":{\"xaxis\":{\"backgroundcolor\":\"#E5ECF6\",\"gridcolor\":\"white\",\"gridwidth\":2,\"linecolor\":\"white\",\"showbackground\":true,\"ticks\":\"\",\"zerolinecolor\":\"white\"},\"yaxis\":{\"backgroundcolor\":\"#E5ECF6\",\"gridcolor\":\"white\",\"gridwidth\":2,\"linecolor\":\"white\",\"showbackground\":true,\"ticks\":\"\",\"zerolinecolor\":\"white\"},\"zaxis\":{\"backgroundcolor\":\"#E5ECF6\",\"gridcolor\":\"white\",\"gridwidth\":2,\"linecolor\":\"white\",\"showbackground\":true,\"ticks\":\"\",\"zerolinecolor\":\"white\"}},\"shapedefaults\":{\"line\":{\"color\":\"#2a3f5f\"}},\"ternary\":{\"aaxis\":{\"gridcolor\":\"white\",\"linecolor\":\"white\",\"ticks\":\"\"},\"baxis\":{\"gridcolor\":\"white\",\"linecolor\":\"white\",\"ticks\":\"\"},\"bgcolor\":\"#E5ECF6\",\"caxis\":{\"gridcolor\":\"white\",\"linecolor\":\"white\",\"ticks\":\"\"}},\"title\":{\"x\":0.05},\"xaxis\":{\"automargin\":true,\"gridcolor\":\"white\",\"linecolor\":\"white\",\"ticks\":\"\",\"title\":{\"standoff\":15},\"zerolinecolor\":\"white\",\"zerolinewidth\":2},\"yaxis\":{\"automargin\":true,\"gridcolor\":\"white\",\"linecolor\":\"white\",\"ticks\":\"\",\"title\":{\"standoff\":15},\"zerolinecolor\":\"white\",\"zerolinewidth\":2}}},\"coloraxis\":{\"colorbar\":{\"title\":{\"text\":\"overall_score_baltaks\"}},\"colorscale\":[[0.0,\"rgb(103,0,31)\"],[0.1,\"rgb(178,24,43)\"],[0.2,\"rgb(214,96,77)\"],[0.3,\"rgb(244,165,130)\"],[0.4,\"rgb(253,219,199)\"],[0.5,\"rgb(247,247,247)\"],[0.6,\"rgb(209,229,240)\"],[0.7,\"rgb(146,197,222)\"],[0.8,\"rgb(67,147,195)\"],[0.9,\"rgb(33,102,172)\"],[1.0,\"rgb(5,48,97)\"]],\"cmid\":139.5125},\"legend\":{\"tracegroupgap\":0},\"margin\":{\"t\":50,\"l\":25,\"r\":25,\"b\":25}},                        {\"responsive\": true}                    ).then(function(){\n",
       "                            \n",
       "var gd = document.getElementById('4b01a0d0-8bc3-417d-8b28-efff609f41ed');\n",
       "var x = new MutationObserver(function (mutations, observer) {{\n",
       "        var display = window.getComputedStyle(gd).display;\n",
       "        if (!display || display === 'none') {{\n",
       "            console.log([gd, 'removed!']);\n",
       "            Plotly.purge(gd);\n",
       "            observer.disconnect();\n",
       "        }}\n",
       "}});\n",
       "\n",
       "// Listen for the removal of the full notebook cells\n",
       "var notebookContainer = gd.closest('#notebook-container');\n",
       "if (notebookContainer) {{\n",
       "    x.observe(notebookContainer, {childList: true});\n",
       "}}\n",
       "\n",
       "// Listen for the clearing of the current output cell\n",
       "var outputEl = gd.closest('.output');\n",
       "if (outputEl) {{\n",
       "    x.observe(outputEl, {childList: true});\n",
       "}}\n",
       "\n",
       "                        })                };                });            </script>        </div>"
      ]
     },
     "metadata": {},
     "output_type": "display_data"
    },
    {
     "data": {
      "application/vnd.plotly.v1+json": {
       "config": {
        "plotlyServerURL": "https://plot.ly"
       },
       "data": [
        {
         "branchvalues": "total",
         "customdata": [
          [
           204.94444444444446,
           135
          ],
          [
           127.875,
           122.875
          ],
          [
           185.5,
           138.5
          ],
          [
           102.16666666666667,
           99.16666666666667
          ],
          [
           144,
           116.625
          ],
          [
           144.5,
           109.5
          ],
          [
           128.8,
           141.8
          ],
          [
           154.2,
           157.2
          ],
          [
           162.36363636363637,
           119.0909090909091
          ],
          [
           115,
           168
          ],
          [
           268,
           138
          ],
          [
           198.45081967213116,
           139.48360655737704
          ],
          [
           219.4,
           112
          ],
          [
           170.47058823529412,
           128
          ],
          [
           142.02777777777777,
           128.97222222222223
          ],
          [
           207.3,
           149.2
          ],
          [
           161,
           127
          ],
          [
           109.5,
           118.5
          ],
          [
           135.10344827586206,
           120.62068965517241
          ],
          [
           129.20338983050848,
           124.61016949152543
          ],
          [
           138.5,
           129.25
          ],
          [
           188,
           143
          ],
          [
           262.1666666666667,
           146
          ],
          [
           305.3333333333333,
           191.33333333333334
          ],
          [
           235.49704142011834,
           148.55029585798817
          ],
          [
           170.75757575757575,
           123.84848484848484
          ],
          [
           169.1153846153846,
           137.72115384615384
          ],
          [
           312,
           166
          ],
          [
           168.33333333333334,
           141.11111111111111
          ],
          [
           158.2439024390244,
           133
          ],
          [
           192.67708333333334,
           145.55208333333334
          ],
          [
           126.42857142857143,
           121.85714285714286
          ],
          [
           112,
           171
          ],
          [
           173,
           109
          ],
          [
           246.8125,
           149.1875
          ],
          [
           125.39285714285714,
           119.85714285714286
          ],
          [
           174.20833333333334,
           136.25833333333333
          ],
          [
           189,
           135.8
          ],
          [
           97.5,
           114.25
          ],
          [
           249.2,
           159.6
          ],
          [
           149.5,
           143.3
          ],
          [
           206.39743589743588,
           143.71794871794873
          ],
          [
           30,
           150
          ],
          [
           254.12765957446808,
           153.9255319148936
          ],
          [
           377,
           219
          ],
          [
           272.8,
           155.4
          ],
          [
           261,
           189
          ],
          [
           "(?)",
           126.95617529880478
          ],
          [
           "(?)",
           145.00316455696202
          ],
          [
           "(?)",
           151.33333333333334
          ],
          [
           "(?)",
           141.3806896551724
          ],
          [
           "(?)",
           121.4
          ],
          [
           "(?)",
           128.46428571428572
          ],
          [
           "(?)",
           139.24587706146926
          ]
         ],
         "domain": {
          "x": [
           0,
           1
          ],
          "y": [
           0,
           1
          ]
         },
         "hovertemplate": "labels=%{label}<br>class_counts=%{value}<br>parent=%{parent}<br>id=%{id}<br>overall_elo_hadsch-hallas=%{customdata[0]}<br>overall_score_hadsch-hallas=%{color}<extra></extra>",
         "ids": [
          "R1 Structures: Frequency and Overall Score for hadsch-hallas/PI/0_m / 0_ts / 1_lab / 1_pi / 0_ac1 / 0_ac2",
          "R1 Structures: Frequency and Overall Score for hadsch-hallas/lab/0_m / 0_ts / 2_lab / 0_pi / 0_ac1 / 0_ac2",
          "R1 Structures: Frequency and Overall Score for hadsch-hallas/ac1/0_m / 1_ts / 0_lab / 0_pi / 1_ac1 / 0_ac2",
          "R1 Structures: Frequency and Overall Score for hadsch-hallas/PI/0_m / 1_ts / 0_lab / 1_pi / 0_ac1 / 0_ac2",
          "R1 Structures: Frequency and Overall Score for hadsch-hallas/lab/0_m / 1_ts / 1_lab / 0_pi / 0_ac1 / 0_ac2",
          "R1 Structures: Frequency and Overall Score for hadsch-hallas/ts/0_m / 2_ts / 0_lab / 0_pi / 0_ac1 / 0_ac2",
          "R1 Structures: Frequency and Overall Score for hadsch-hallas/PI/0_m / 2_ts / 0_lab / 1_pi / 0_ac1 / 0_ac2",
          "R1 Structures: Frequency and Overall Score for hadsch-hallas/lab/0_m / 2_ts / 1_lab / 0_pi / 0_ac1 / 0_ac2",
          "R1 Structures: Frequency and Overall Score for hadsch-hallas/ts/0_m / 3_ts / 0_lab / 0_pi / 0_ac1 / 0_ac2",
          "R1 Structures: Frequency and Overall Score for hadsch-hallas/ts/0_m / 4_ts / 0_lab / 0_pi / 0_ac1 / 0_ac2",
          "R1 Structures: Frequency and Overall Score for hadsch-hallas/ac2/1_m / 0_ts / 0_lab / 0_pi / 0_ac1 / 1_ac2",
          "R1 Structures: Frequency and Overall Score for hadsch-hallas/ac1/1_m / 0_ts / 0_lab / 0_pi / 1_ac1 / 0_ac2",
          "R1 Structures: Frequency and Overall Score for hadsch-hallas/PI/1_m / 0_ts / 0_lab / 1_pi / 0_ac1 / 0_ac2",
          "R1 Structures: Frequency and Overall Score for hadsch-hallas/lab/1_m / 0_ts / 1_lab / 0_pi / 0_ac1 / 0_ac2",
          "R1 Structures: Frequency and Overall Score for hadsch-hallas/PI/1_m / 0_ts / 1_lab / 1_pi / 0_ac1 / 0_ac2",
          "R1 Structures: Frequency and Overall Score for hadsch-hallas/lab/1_m / 0_ts / 2_lab / 0_pi / 0_ac1 / 0_ac2",
          "R1 Structures: Frequency and Overall Score for hadsch-hallas/ac2/1_m / 1_ts / 0_lab / 0_pi / 0_ac1 / 1_ac2",
          "R1 Structures: Frequency and Overall Score for hadsch-hallas/ac1/1_m / 1_ts / 0_lab / 0_pi / 1_ac1 / 0_ac2",
          "R1 Structures: Frequency and Overall Score for hadsch-hallas/PI/1_m / 1_ts / 0_lab / 1_pi / 0_ac1 / 0_ac2",
          "R1 Structures: Frequency and Overall Score for hadsch-hallas/lab/1_m / 1_ts / 1_lab / 0_pi / 0_ac1 / 0_ac2",
          "R1 Structures: Frequency and Overall Score for hadsch-hallas/PI/1_m / 2_ts / 0_lab / 1_pi / 0_ac1 / 0_ac2",
          "R1 Structures: Frequency and Overall Score for hadsch-hallas/lab/1_m / 2_ts / 1_lab / 0_pi / 0_ac1 / 0_ac2",
          "R1 Structures: Frequency and Overall Score for hadsch-hallas/ts/1_m / 3_ts / 0_lab / 0_pi / 0_ac1 / 0_ac2",
          "R1 Structures: Frequency and Overall Score for hadsch-hallas/ac2/2_m / 0_ts / 0_lab / 0_pi / 0_ac1 / 1_ac2",
          "R1 Structures: Frequency and Overall Score for hadsch-hallas/ac1/2_m / 0_ts / 0_lab / 0_pi / 1_ac1 / 0_ac2",
          "R1 Structures: Frequency and Overall Score for hadsch-hallas/PI/2_m / 0_ts / 0_lab / 1_pi / 0_ac1 / 0_ac2",
          "R1 Structures: Frequency and Overall Score for hadsch-hallas/lab/2_m / 0_ts / 1_lab / 0_pi / 0_ac1 / 0_ac2",
          "R1 Structures: Frequency and Overall Score for hadsch-hallas/PI/2_m / 0_ts / 1_lab / 1_pi / 0_ac1 / 0_ac2",
          "R1 Structures: Frequency and Overall Score for hadsch-hallas/lab/2_m / 0_ts / 2_lab / 0_pi / 0_ac1 / 0_ac2",
          "R1 Structures: Frequency and Overall Score for hadsch-hallas/PI/2_m / 1_ts / 0_lab / 1_pi / 0_ac1 / 0_ac2",
          "R1 Structures: Frequency and Overall Score for hadsch-hallas/lab/2_m / 1_ts / 1_lab / 0_pi / 0_ac1 / 0_ac2",
          "R1 Structures: Frequency and Overall Score for hadsch-hallas/ts/2_m / 2_ts / 0_lab / 0_pi / 0_ac1 / 0_ac2",
          "R1 Structures: Frequency and Overall Score for hadsch-hallas/ts/2_m / 3_ts / 0_lab / 0_pi / 0_ac1 / 0_ac2",
          "R1 Structures: Frequency and Overall Score for hadsch-hallas/ac2/3_m / 0_ts / 0_lab / 0_pi / 0_ac1 / 1_ac2",
          "R1 Structures: Frequency and Overall Score for hadsch-hallas/ac1/3_m / 0_ts / 0_lab / 0_pi / 1_ac1 / 0_ac2",
          "R1 Structures: Frequency and Overall Score for hadsch-hallas/PI/3_m / 0_ts / 0_lab / 1_pi / 0_ac1 / 0_ac2",
          "R1 Structures: Frequency and Overall Score for hadsch-hallas/lab/3_m / 0_ts / 1_lab / 0_pi / 0_ac1 / 0_ac2",
          "R1 Structures: Frequency and Overall Score for hadsch-hallas/lab/3_m / 1_ts / 1_lab / 0_pi / 0_ac1 / 0_ac2",
          "R1 Structures: Frequency and Overall Score for hadsch-hallas/m/4_m / 0_ts / 0_lab / 0_pi / 0_ac1 / 0_ac2",
          "R1 Structures: Frequency and Overall Score for hadsch-hallas/ac1/4_m / 0_ts / 0_lab / 0_pi / 1_ac1 / 0_ac2",
          "R1 Structures: Frequency and Overall Score for hadsch-hallas/PI/4_m / 0_ts / 0_lab / 1_pi / 0_ac1 / 0_ac2",
          "R1 Structures: Frequency and Overall Score for hadsch-hallas/lab/4_m / 0_ts / 1_lab / 0_pi / 0_ac1 / 0_ac2",
          "R1 Structures: Frequency and Overall Score for hadsch-hallas/m/5_m / 0_ts / 0_lab / 0_pi / 0_ac1 / 0_ac2",
          "R1 Structures: Frequency and Overall Score for hadsch-hallas/lab/5_m / 0_ts / 1_lab / 0_pi / 0_ac1 / 0_ac2",
          "R1 Structures: Frequency and Overall Score for hadsch-hallas/lab/5_m / 1_ts / 1_lab / 0_pi / 0_ac1 / 0_ac2",
          "R1 Structures: Frequency and Overall Score for hadsch-hallas/lab/6_m / 0_ts / 1_lab / 0_pi / 0_ac1 / 0_ac2",
          "R1 Structures: Frequency and Overall Score for hadsch-hallas/lab/7_m / 0_ts / 1_lab / 0_pi / 0_ac1 / 0_ac2",
          "R1 Structures: Frequency and Overall Score for hadsch-hallas/PI",
          "R1 Structures: Frequency and Overall Score for hadsch-hallas/ac1",
          "R1 Structures: Frequency and Overall Score for hadsch-hallas/ac2",
          "R1 Structures: Frequency and Overall Score for hadsch-hallas/lab",
          "R1 Structures: Frequency and Overall Score for hadsch-hallas/m",
          "R1 Structures: Frequency and Overall Score for hadsch-hallas/ts",
          "R1 Structures: Frequency and Overall Score for hadsch-hallas"
         ],
         "labels": [
          "0_m / 0_ts / 1_lab / 1_pi / 0_ac1 / 0_ac2",
          "0_m / 0_ts / 2_lab / 0_pi / 0_ac1 / 0_ac2",
          "0_m / 1_ts / 0_lab / 0_pi / 1_ac1 / 0_ac2",
          "0_m / 1_ts / 0_lab / 1_pi / 0_ac1 / 0_ac2",
          "0_m / 1_ts / 1_lab / 0_pi / 0_ac1 / 0_ac2",
          "0_m / 2_ts / 0_lab / 0_pi / 0_ac1 / 0_ac2",
          "0_m / 2_ts / 0_lab / 1_pi / 0_ac1 / 0_ac2",
          "0_m / 2_ts / 1_lab / 0_pi / 0_ac1 / 0_ac2",
          "0_m / 3_ts / 0_lab / 0_pi / 0_ac1 / 0_ac2",
          "0_m / 4_ts / 0_lab / 0_pi / 0_ac1 / 0_ac2",
          "1_m / 0_ts / 0_lab / 0_pi / 0_ac1 / 1_ac2",
          "1_m / 0_ts / 0_lab / 0_pi / 1_ac1 / 0_ac2",
          "1_m / 0_ts / 0_lab / 1_pi / 0_ac1 / 0_ac2",
          "1_m / 0_ts / 1_lab / 0_pi / 0_ac1 / 0_ac2",
          "1_m / 0_ts / 1_lab / 1_pi / 0_ac1 / 0_ac2",
          "1_m / 0_ts / 2_lab / 0_pi / 0_ac1 / 0_ac2",
          "1_m / 1_ts / 0_lab / 0_pi / 0_ac1 / 1_ac2",
          "1_m / 1_ts / 0_lab / 0_pi / 1_ac1 / 0_ac2",
          "1_m / 1_ts / 0_lab / 1_pi / 0_ac1 / 0_ac2",
          "1_m / 1_ts / 1_lab / 0_pi / 0_ac1 / 0_ac2",
          "1_m / 2_ts / 0_lab / 1_pi / 0_ac1 / 0_ac2",
          "1_m / 2_ts / 1_lab / 0_pi / 0_ac1 / 0_ac2",
          "1_m / 3_ts / 0_lab / 0_pi / 0_ac1 / 0_ac2",
          "2_m / 0_ts / 0_lab / 0_pi / 0_ac1 / 1_ac2",
          "2_m / 0_ts / 0_lab / 0_pi / 1_ac1 / 0_ac2",
          "2_m / 0_ts / 0_lab / 1_pi / 0_ac1 / 0_ac2",
          "2_m / 0_ts / 1_lab / 0_pi / 0_ac1 / 0_ac2",
          "2_m / 0_ts / 1_lab / 1_pi / 0_ac1 / 0_ac2",
          "2_m / 0_ts / 2_lab / 0_pi / 0_ac1 / 0_ac2",
          "2_m / 1_ts / 0_lab / 1_pi / 0_ac1 / 0_ac2",
          "2_m / 1_ts / 1_lab / 0_pi / 0_ac1 / 0_ac2",
          "2_m / 2_ts / 0_lab / 0_pi / 0_ac1 / 0_ac2",
          "2_m / 3_ts / 0_lab / 0_pi / 0_ac1 / 0_ac2",
          "3_m / 0_ts / 0_lab / 0_pi / 0_ac1 / 1_ac2",
          "3_m / 0_ts / 0_lab / 0_pi / 1_ac1 / 0_ac2",
          "3_m / 0_ts / 0_lab / 1_pi / 0_ac1 / 0_ac2",
          "3_m / 0_ts / 1_lab / 0_pi / 0_ac1 / 0_ac2",
          "3_m / 1_ts / 1_lab / 0_pi / 0_ac1 / 0_ac2",
          "4_m / 0_ts / 0_lab / 0_pi / 0_ac1 / 0_ac2",
          "4_m / 0_ts / 0_lab / 0_pi / 1_ac1 / 0_ac2",
          "4_m / 0_ts / 0_lab / 1_pi / 0_ac1 / 0_ac2",
          "4_m / 0_ts / 1_lab / 0_pi / 0_ac1 / 0_ac2",
          "5_m / 0_ts / 0_lab / 0_pi / 0_ac1 / 0_ac2",
          "5_m / 0_ts / 1_lab / 0_pi / 0_ac1 / 0_ac2",
          "5_m / 1_ts / 1_lab / 0_pi / 0_ac1 / 0_ac2",
          "6_m / 0_ts / 1_lab / 0_pi / 0_ac1 / 0_ac2",
          "7_m / 0_ts / 1_lab / 0_pi / 0_ac1 / 0_ac2",
          "PI",
          "ac1",
          "ac2",
          "lab",
          "m",
          "ts",
          "R1 Structures: Frequency and Overall Score for hadsch-hallas"
         ],
         "marker": {
          "coloraxis": "coloraxis",
          "colors": [
           135,
           122.875,
           138.5,
           99.16666666666667,
           116.625,
           109.5,
           141.8,
           157.2,
           119.0909090909091,
           168,
           138,
           139.48360655737704,
           112,
           128,
           128.97222222222223,
           149.2,
           127,
           118.5,
           120.62068965517241,
           124.61016949152543,
           129.25,
           143,
           146,
           191.33333333333334,
           148.55029585798817,
           123.84848484848484,
           137.72115384615384,
           166,
           141.11111111111111,
           133,
           145.55208333333334,
           121.85714285714286,
           171,
           109,
           149.1875,
           119.85714285714286,
           136.25833333333333,
           135.8,
           114.25,
           159.6,
           143.3,
           143.71794871794873,
           150,
           153.9255319148936,
           219,
           155.4,
           189,
           126.95617529880478,
           145.00316455696202,
           151.33333333333334,
           141.3806896551724,
           121.4,
           128.46428571428572,
           139.24587706146926
          ]
         },
         "name": "",
         "parents": [
          "R1 Structures: Frequency and Overall Score for hadsch-hallas/PI",
          "R1 Structures: Frequency and Overall Score for hadsch-hallas/lab",
          "R1 Structures: Frequency and Overall Score for hadsch-hallas/ac1",
          "R1 Structures: Frequency and Overall Score for hadsch-hallas/PI",
          "R1 Structures: Frequency and Overall Score for hadsch-hallas/lab",
          "R1 Structures: Frequency and Overall Score for hadsch-hallas/ts",
          "R1 Structures: Frequency and Overall Score for hadsch-hallas/PI",
          "R1 Structures: Frequency and Overall Score for hadsch-hallas/lab",
          "R1 Structures: Frequency and Overall Score for hadsch-hallas/ts",
          "R1 Structures: Frequency and Overall Score for hadsch-hallas/ts",
          "R1 Structures: Frequency and Overall Score for hadsch-hallas/ac2",
          "R1 Structures: Frequency and Overall Score for hadsch-hallas/ac1",
          "R1 Structures: Frequency and Overall Score for hadsch-hallas/PI",
          "R1 Structures: Frequency and Overall Score for hadsch-hallas/lab",
          "R1 Structures: Frequency and Overall Score for hadsch-hallas/PI",
          "R1 Structures: Frequency and Overall Score for hadsch-hallas/lab",
          "R1 Structures: Frequency and Overall Score for hadsch-hallas/ac2",
          "R1 Structures: Frequency and Overall Score for hadsch-hallas/ac1",
          "R1 Structures: Frequency and Overall Score for hadsch-hallas/PI",
          "R1 Structures: Frequency and Overall Score for hadsch-hallas/lab",
          "R1 Structures: Frequency and Overall Score for hadsch-hallas/PI",
          "R1 Structures: Frequency and Overall Score for hadsch-hallas/lab",
          "R1 Structures: Frequency and Overall Score for hadsch-hallas/ts",
          "R1 Structures: Frequency and Overall Score for hadsch-hallas/ac2",
          "R1 Structures: Frequency and Overall Score for hadsch-hallas/ac1",
          "R1 Structures: Frequency and Overall Score for hadsch-hallas/PI",
          "R1 Structures: Frequency and Overall Score for hadsch-hallas/lab",
          "R1 Structures: Frequency and Overall Score for hadsch-hallas/PI",
          "R1 Structures: Frequency and Overall Score for hadsch-hallas/lab",
          "R1 Structures: Frequency and Overall Score for hadsch-hallas/PI",
          "R1 Structures: Frequency and Overall Score for hadsch-hallas/lab",
          "R1 Structures: Frequency and Overall Score for hadsch-hallas/ts",
          "R1 Structures: Frequency and Overall Score for hadsch-hallas/ts",
          "R1 Structures: Frequency and Overall Score for hadsch-hallas/ac2",
          "R1 Structures: Frequency and Overall Score for hadsch-hallas/ac1",
          "R1 Structures: Frequency and Overall Score for hadsch-hallas/PI",
          "R1 Structures: Frequency and Overall Score for hadsch-hallas/lab",
          "R1 Structures: Frequency and Overall Score for hadsch-hallas/lab",
          "R1 Structures: Frequency and Overall Score for hadsch-hallas/m",
          "R1 Structures: Frequency and Overall Score for hadsch-hallas/ac1",
          "R1 Structures: Frequency and Overall Score for hadsch-hallas/PI",
          "R1 Structures: Frequency and Overall Score for hadsch-hallas/lab",
          "R1 Structures: Frequency and Overall Score for hadsch-hallas/m",
          "R1 Structures: Frequency and Overall Score for hadsch-hallas/lab",
          "R1 Structures: Frequency and Overall Score for hadsch-hallas/lab",
          "R1 Structures: Frequency and Overall Score for hadsch-hallas/lab",
          "R1 Structures: Frequency and Overall Score for hadsch-hallas/lab",
          "R1 Structures: Frequency and Overall Score for hadsch-hallas",
          "R1 Structures: Frequency and Overall Score for hadsch-hallas",
          "R1 Structures: Frequency and Overall Score for hadsch-hallas",
          "R1 Structures: Frequency and Overall Score for hadsch-hallas",
          "R1 Structures: Frequency and Overall Score for hadsch-hallas",
          "R1 Structures: Frequency and Overall Score for hadsch-hallas",
          ""
         ],
         "type": "treemap",
         "values": [
          18,
          8,
          2,
          6,
          8,
          2,
          5,
          5,
          11,
          1,
          4,
          122,
          5,
          17,
          36,
          20,
          1,
          2,
          29,
          59,
          4,
          2,
          6,
          3,
          169,
          66,
          104,
          3,
          9,
          41,
          96,
          7,
          1,
          1,
          16,
          28,
          120,
          5,
          4,
          5,
          10,
          156,
          1,
          94,
          1,
          20,
          1,
          251,
          316,
          9,
          725,
          5,
          28,
          1334
         ]
        }
       ],
       "layout": {
        "coloraxis": {
         "cmid": 138,
         "colorbar": {
          "title": {
           "text": "overall_score_hadsch-hallas"
          }
         },
         "colorscale": [
          [
           0,
           "rgb(103,0,31)"
          ],
          [
           0.1,
           "rgb(178,24,43)"
          ],
          [
           0.2,
           "rgb(214,96,77)"
          ],
          [
           0.3,
           "rgb(244,165,130)"
          ],
          [
           0.4,
           "rgb(253,219,199)"
          ],
          [
           0.5,
           "rgb(247,247,247)"
          ],
          [
           0.6,
           "rgb(209,229,240)"
          ],
          [
           0.7,
           "rgb(146,197,222)"
          ],
          [
           0.8,
           "rgb(67,147,195)"
          ],
          [
           0.9,
           "rgb(33,102,172)"
          ],
          [
           1,
           "rgb(5,48,97)"
          ]
         ]
        },
        "legend": {
         "tracegroupgap": 0
        },
        "margin": {
         "b": 25,
         "l": 25,
         "r": 25,
         "t": 50
        },
        "template": {
         "data": {
          "bar": [
           {
            "error_x": {
             "color": "#2a3f5f"
            },
            "error_y": {
             "color": "#2a3f5f"
            },
            "marker": {
             "line": {
              "color": "#E5ECF6",
              "width": 0.5
             },
             "pattern": {
              "fillmode": "overlay",
              "size": 10,
              "solidity": 0.2
             }
            },
            "type": "bar"
           }
          ],
          "barpolar": [
           {
            "marker": {
             "line": {
              "color": "#E5ECF6",
              "width": 0.5
             },
             "pattern": {
              "fillmode": "overlay",
              "size": 10,
              "solidity": 0.2
             }
            },
            "type": "barpolar"
           }
          ],
          "carpet": [
           {
            "aaxis": {
             "endlinecolor": "#2a3f5f",
             "gridcolor": "white",
             "linecolor": "white",
             "minorgridcolor": "white",
             "startlinecolor": "#2a3f5f"
            },
            "baxis": {
             "endlinecolor": "#2a3f5f",
             "gridcolor": "white",
             "linecolor": "white",
             "minorgridcolor": "white",
             "startlinecolor": "#2a3f5f"
            },
            "type": "carpet"
           }
          ],
          "choropleth": [
           {
            "colorbar": {
             "outlinewidth": 0,
             "ticks": ""
            },
            "type": "choropleth"
           }
          ],
          "contour": [
           {
            "colorbar": {
             "outlinewidth": 0,
             "ticks": ""
            },
            "colorscale": [
             [
              0,
              "#0d0887"
             ],
             [
              0.1111111111111111,
              "#46039f"
             ],
             [
              0.2222222222222222,
              "#7201a8"
             ],
             [
              0.3333333333333333,
              "#9c179e"
             ],
             [
              0.4444444444444444,
              "#bd3786"
             ],
             [
              0.5555555555555556,
              "#d8576b"
             ],
             [
              0.6666666666666666,
              "#ed7953"
             ],
             [
              0.7777777777777778,
              "#fb9f3a"
             ],
             [
              0.8888888888888888,
              "#fdca26"
             ],
             [
              1,
              "#f0f921"
             ]
            ],
            "type": "contour"
           }
          ],
          "contourcarpet": [
           {
            "colorbar": {
             "outlinewidth": 0,
             "ticks": ""
            },
            "type": "contourcarpet"
           }
          ],
          "heatmap": [
           {
            "colorbar": {
             "outlinewidth": 0,
             "ticks": ""
            },
            "colorscale": [
             [
              0,
              "#0d0887"
             ],
             [
              0.1111111111111111,
              "#46039f"
             ],
             [
              0.2222222222222222,
              "#7201a8"
             ],
             [
              0.3333333333333333,
              "#9c179e"
             ],
             [
              0.4444444444444444,
              "#bd3786"
             ],
             [
              0.5555555555555556,
              "#d8576b"
             ],
             [
              0.6666666666666666,
              "#ed7953"
             ],
             [
              0.7777777777777778,
              "#fb9f3a"
             ],
             [
              0.8888888888888888,
              "#fdca26"
             ],
             [
              1,
              "#f0f921"
             ]
            ],
            "type": "heatmap"
           }
          ],
          "heatmapgl": [
           {
            "colorbar": {
             "outlinewidth": 0,
             "ticks": ""
            },
            "colorscale": [
             [
              0,
              "#0d0887"
             ],
             [
              0.1111111111111111,
              "#46039f"
             ],
             [
              0.2222222222222222,
              "#7201a8"
             ],
             [
              0.3333333333333333,
              "#9c179e"
             ],
             [
              0.4444444444444444,
              "#bd3786"
             ],
             [
              0.5555555555555556,
              "#d8576b"
             ],
             [
              0.6666666666666666,
              "#ed7953"
             ],
             [
              0.7777777777777778,
              "#fb9f3a"
             ],
             [
              0.8888888888888888,
              "#fdca26"
             ],
             [
              1,
              "#f0f921"
             ]
            ],
            "type": "heatmapgl"
           }
          ],
          "histogram": [
           {
            "marker": {
             "pattern": {
              "fillmode": "overlay",
              "size": 10,
              "solidity": 0.2
             }
            },
            "type": "histogram"
           }
          ],
          "histogram2d": [
           {
            "colorbar": {
             "outlinewidth": 0,
             "ticks": ""
            },
            "colorscale": [
             [
              0,
              "#0d0887"
             ],
             [
              0.1111111111111111,
              "#46039f"
             ],
             [
              0.2222222222222222,
              "#7201a8"
             ],
             [
              0.3333333333333333,
              "#9c179e"
             ],
             [
              0.4444444444444444,
              "#bd3786"
             ],
             [
              0.5555555555555556,
              "#d8576b"
             ],
             [
              0.6666666666666666,
              "#ed7953"
             ],
             [
              0.7777777777777778,
              "#fb9f3a"
             ],
             [
              0.8888888888888888,
              "#fdca26"
             ],
             [
              1,
              "#f0f921"
             ]
            ],
            "type": "histogram2d"
           }
          ],
          "histogram2dcontour": [
           {
            "colorbar": {
             "outlinewidth": 0,
             "ticks": ""
            },
            "colorscale": [
             [
              0,
              "#0d0887"
             ],
             [
              0.1111111111111111,
              "#46039f"
             ],
             [
              0.2222222222222222,
              "#7201a8"
             ],
             [
              0.3333333333333333,
              "#9c179e"
             ],
             [
              0.4444444444444444,
              "#bd3786"
             ],
             [
              0.5555555555555556,
              "#d8576b"
             ],
             [
              0.6666666666666666,
              "#ed7953"
             ],
             [
              0.7777777777777778,
              "#fb9f3a"
             ],
             [
              0.8888888888888888,
              "#fdca26"
             ],
             [
              1,
              "#f0f921"
             ]
            ],
            "type": "histogram2dcontour"
           }
          ],
          "mesh3d": [
           {
            "colorbar": {
             "outlinewidth": 0,
             "ticks": ""
            },
            "type": "mesh3d"
           }
          ],
          "parcoords": [
           {
            "line": {
             "colorbar": {
              "outlinewidth": 0,
              "ticks": ""
             }
            },
            "type": "parcoords"
           }
          ],
          "pie": [
           {
            "automargin": true,
            "type": "pie"
           }
          ],
          "scatter": [
           {
            "marker": {
             "colorbar": {
              "outlinewidth": 0,
              "ticks": ""
             }
            },
            "type": "scatter"
           }
          ],
          "scatter3d": [
           {
            "line": {
             "colorbar": {
              "outlinewidth": 0,
              "ticks": ""
             }
            },
            "marker": {
             "colorbar": {
              "outlinewidth": 0,
              "ticks": ""
             }
            },
            "type": "scatter3d"
           }
          ],
          "scattercarpet": [
           {
            "marker": {
             "colorbar": {
              "outlinewidth": 0,
              "ticks": ""
             }
            },
            "type": "scattercarpet"
           }
          ],
          "scattergeo": [
           {
            "marker": {
             "colorbar": {
              "outlinewidth": 0,
              "ticks": ""
             }
            },
            "type": "scattergeo"
           }
          ],
          "scattergl": [
           {
            "marker": {
             "colorbar": {
              "outlinewidth": 0,
              "ticks": ""
             }
            },
            "type": "scattergl"
           }
          ],
          "scattermapbox": [
           {
            "marker": {
             "colorbar": {
              "outlinewidth": 0,
              "ticks": ""
             }
            },
            "type": "scattermapbox"
           }
          ],
          "scatterpolar": [
           {
            "marker": {
             "colorbar": {
              "outlinewidth": 0,
              "ticks": ""
             }
            },
            "type": "scatterpolar"
           }
          ],
          "scatterpolargl": [
           {
            "marker": {
             "colorbar": {
              "outlinewidth": 0,
              "ticks": ""
             }
            },
            "type": "scatterpolargl"
           }
          ],
          "scatterternary": [
           {
            "marker": {
             "colorbar": {
              "outlinewidth": 0,
              "ticks": ""
             }
            },
            "type": "scatterternary"
           }
          ],
          "surface": [
           {
            "colorbar": {
             "outlinewidth": 0,
             "ticks": ""
            },
            "colorscale": [
             [
              0,
              "#0d0887"
             ],
             [
              0.1111111111111111,
              "#46039f"
             ],
             [
              0.2222222222222222,
              "#7201a8"
             ],
             [
              0.3333333333333333,
              "#9c179e"
             ],
             [
              0.4444444444444444,
              "#bd3786"
             ],
             [
              0.5555555555555556,
              "#d8576b"
             ],
             [
              0.6666666666666666,
              "#ed7953"
             ],
             [
              0.7777777777777778,
              "#fb9f3a"
             ],
             [
              0.8888888888888888,
              "#fdca26"
             ],
             [
              1,
              "#f0f921"
             ]
            ],
            "type": "surface"
           }
          ],
          "table": [
           {
            "cells": {
             "fill": {
              "color": "#EBF0F8"
             },
             "line": {
              "color": "white"
             }
            },
            "header": {
             "fill": {
              "color": "#C8D4E3"
             },
             "line": {
              "color": "white"
             }
            },
            "type": "table"
           }
          ]
         },
         "layout": {
          "annotationdefaults": {
           "arrowcolor": "#2a3f5f",
           "arrowhead": 0,
           "arrowwidth": 1
          },
          "autotypenumbers": "strict",
          "coloraxis": {
           "colorbar": {
            "outlinewidth": 0,
            "ticks": ""
           }
          },
          "colorscale": {
           "diverging": [
            [
             0,
             "#8e0152"
            ],
            [
             0.1,
             "#c51b7d"
            ],
            [
             0.2,
             "#de77ae"
            ],
            [
             0.3,
             "#f1b6da"
            ],
            [
             0.4,
             "#fde0ef"
            ],
            [
             0.5,
             "#f7f7f7"
            ],
            [
             0.6,
             "#e6f5d0"
            ],
            [
             0.7,
             "#b8e186"
            ],
            [
             0.8,
             "#7fbc41"
            ],
            [
             0.9,
             "#4d9221"
            ],
            [
             1,
             "#276419"
            ]
           ],
           "sequential": [
            [
             0,
             "#0d0887"
            ],
            [
             0.1111111111111111,
             "#46039f"
            ],
            [
             0.2222222222222222,
             "#7201a8"
            ],
            [
             0.3333333333333333,
             "#9c179e"
            ],
            [
             0.4444444444444444,
             "#bd3786"
            ],
            [
             0.5555555555555556,
             "#d8576b"
            ],
            [
             0.6666666666666666,
             "#ed7953"
            ],
            [
             0.7777777777777778,
             "#fb9f3a"
            ],
            [
             0.8888888888888888,
             "#fdca26"
            ],
            [
             1,
             "#f0f921"
            ]
           ],
           "sequentialminus": [
            [
             0,
             "#0d0887"
            ],
            [
             0.1111111111111111,
             "#46039f"
            ],
            [
             0.2222222222222222,
             "#7201a8"
            ],
            [
             0.3333333333333333,
             "#9c179e"
            ],
            [
             0.4444444444444444,
             "#bd3786"
            ],
            [
             0.5555555555555556,
             "#d8576b"
            ],
            [
             0.6666666666666666,
             "#ed7953"
            ],
            [
             0.7777777777777778,
             "#fb9f3a"
            ],
            [
             0.8888888888888888,
             "#fdca26"
            ],
            [
             1,
             "#f0f921"
            ]
           ]
          },
          "colorway": [
           "#636efa",
           "#EF553B",
           "#00cc96",
           "#ab63fa",
           "#FFA15A",
           "#19d3f3",
           "#FF6692",
           "#B6E880",
           "#FF97FF",
           "#FECB52"
          ],
          "font": {
           "color": "#2a3f5f"
          },
          "geo": {
           "bgcolor": "white",
           "lakecolor": "white",
           "landcolor": "#E5ECF6",
           "showlakes": true,
           "showland": true,
           "subunitcolor": "white"
          },
          "hoverlabel": {
           "align": "left"
          },
          "hovermode": "closest",
          "mapbox": {
           "style": "light"
          },
          "paper_bgcolor": "white",
          "plot_bgcolor": "#E5ECF6",
          "polar": {
           "angularaxis": {
            "gridcolor": "white",
            "linecolor": "white",
            "ticks": ""
           },
           "bgcolor": "#E5ECF6",
           "radialaxis": {
            "gridcolor": "white",
            "linecolor": "white",
            "ticks": ""
           }
          },
          "scene": {
           "xaxis": {
            "backgroundcolor": "#E5ECF6",
            "gridcolor": "white",
            "gridwidth": 2,
            "linecolor": "white",
            "showbackground": true,
            "ticks": "",
            "zerolinecolor": "white"
           },
           "yaxis": {
            "backgroundcolor": "#E5ECF6",
            "gridcolor": "white",
            "gridwidth": 2,
            "linecolor": "white",
            "showbackground": true,
            "ticks": "",
            "zerolinecolor": "white"
           },
           "zaxis": {
            "backgroundcolor": "#E5ECF6",
            "gridcolor": "white",
            "gridwidth": 2,
            "linecolor": "white",
            "showbackground": true,
            "ticks": "",
            "zerolinecolor": "white"
           }
          },
          "shapedefaults": {
           "line": {
            "color": "#2a3f5f"
           }
          },
          "ternary": {
           "aaxis": {
            "gridcolor": "white",
            "linecolor": "white",
            "ticks": ""
           },
           "baxis": {
            "gridcolor": "white",
            "linecolor": "white",
            "ticks": ""
           },
           "bgcolor": "#E5ECF6",
           "caxis": {
            "gridcolor": "white",
            "linecolor": "white",
            "ticks": ""
           }
          },
          "title": {
           "x": 0.05
          },
          "xaxis": {
           "automargin": true,
           "gridcolor": "white",
           "linecolor": "white",
           "ticks": "",
           "title": {
            "standoff": 15
           },
           "zerolinecolor": "white",
           "zerolinewidth": 2
          },
          "yaxis": {
           "automargin": true,
           "gridcolor": "white",
           "linecolor": "white",
           "ticks": "",
           "title": {
            "standoff": 15
           },
           "zerolinecolor": "white",
           "zerolinewidth": 2
          }
         }
        }
       }
      },
      "text/html": [
       "<div>                            <div id=\"535d11a0-a931-4ceb-8150-780758081f82\" class=\"plotly-graph-div\" style=\"height:525px; width:100%;\"></div>            <script type=\"text/javascript\">                require([\"plotly\"], function(Plotly) {                    window.PLOTLYENV=window.PLOTLYENV || {};                                    if (document.getElementById(\"535d11a0-a931-4ceb-8150-780758081f82\")) {                    Plotly.newPlot(                        \"535d11a0-a931-4ceb-8150-780758081f82\",                        [{\"branchvalues\":\"total\",\"customdata\":[[204.94444444444446,135.0],[127.875,122.875],[185.5,138.5],[102.16666666666667,99.16666666666667],[144.0,116.625],[144.5,109.5],[128.8,141.8],[154.2,157.2],[162.36363636363637,119.0909090909091],[115.0,168.0],[268.0,138.0],[198.45081967213116,139.48360655737704],[219.4,112.0],[170.47058823529412,128.0],[142.02777777777777,128.97222222222223],[207.3,149.2],[161.0,127.0],[109.5,118.5],[135.10344827586206,120.62068965517241],[129.20338983050848,124.61016949152543],[138.5,129.25],[188.0,143.0],[262.1666666666667,146.0],[305.3333333333333,191.33333333333334],[235.49704142011834,148.55029585798817],[170.75757575757575,123.84848484848484],[169.1153846153846,137.72115384615384],[312.0,166.0],[168.33333333333334,141.11111111111111],[158.2439024390244,133.0],[192.67708333333334,145.55208333333334],[126.42857142857143,121.85714285714286],[112.0,171.0],[173.0,109.0],[246.8125,149.1875],[125.39285714285714,119.85714285714286],[174.20833333333334,136.25833333333333],[189.0,135.8],[97.5,114.25],[249.2,159.6],[149.5,143.3],[206.39743589743588,143.71794871794873],[30.0,150.0],[254.12765957446808,153.9255319148936],[377.0,219.0],[272.8,155.4],[261.0,189.0],[\"(?)\",126.95617529880478],[\"(?)\",145.00316455696202],[\"(?)\",151.33333333333334],[\"(?)\",141.3806896551724],[\"(?)\",121.4],[\"(?)\",128.46428571428572],[\"(?)\",139.24587706146926]],\"domain\":{\"x\":[0.0,1.0],\"y\":[0.0,1.0]},\"hovertemplate\":\"labels=%{label}<br>class_counts=%{value}<br>parent=%{parent}<br>id=%{id}<br>overall_elo_hadsch-hallas=%{customdata[0]}<br>overall_score_hadsch-hallas=%{color}<extra></extra>\",\"ids\":[\"R1 Structures: Frequency and Overall Score for hadsch-hallas/PI/0_m / 0_ts / 1_lab / 1_pi / 0_ac1 / 0_ac2\",\"R1 Structures: Frequency and Overall Score for hadsch-hallas/lab/0_m / 0_ts / 2_lab / 0_pi / 0_ac1 / 0_ac2\",\"R1 Structures: Frequency and Overall Score for hadsch-hallas/ac1/0_m / 1_ts / 0_lab / 0_pi / 1_ac1 / 0_ac2\",\"R1 Structures: Frequency and Overall Score for hadsch-hallas/PI/0_m / 1_ts / 0_lab / 1_pi / 0_ac1 / 0_ac2\",\"R1 Structures: Frequency and Overall Score for hadsch-hallas/lab/0_m / 1_ts / 1_lab / 0_pi / 0_ac1 / 0_ac2\",\"R1 Structures: Frequency and Overall Score for hadsch-hallas/ts/0_m / 2_ts / 0_lab / 0_pi / 0_ac1 / 0_ac2\",\"R1 Structures: Frequency and Overall Score for hadsch-hallas/PI/0_m / 2_ts / 0_lab / 1_pi / 0_ac1 / 0_ac2\",\"R1 Structures: Frequency and Overall Score for hadsch-hallas/lab/0_m / 2_ts / 1_lab / 0_pi / 0_ac1 / 0_ac2\",\"R1 Structures: Frequency and Overall Score for hadsch-hallas/ts/0_m / 3_ts / 0_lab / 0_pi / 0_ac1 / 0_ac2\",\"R1 Structures: Frequency and Overall Score for hadsch-hallas/ts/0_m / 4_ts / 0_lab / 0_pi / 0_ac1 / 0_ac2\",\"R1 Structures: Frequency and Overall Score for hadsch-hallas/ac2/1_m / 0_ts / 0_lab / 0_pi / 0_ac1 / 1_ac2\",\"R1 Structures: Frequency and Overall Score for hadsch-hallas/ac1/1_m / 0_ts / 0_lab / 0_pi / 1_ac1 / 0_ac2\",\"R1 Structures: Frequency and Overall Score for hadsch-hallas/PI/1_m / 0_ts / 0_lab / 1_pi / 0_ac1 / 0_ac2\",\"R1 Structures: Frequency and Overall Score for hadsch-hallas/lab/1_m / 0_ts / 1_lab / 0_pi / 0_ac1 / 0_ac2\",\"R1 Structures: Frequency and Overall Score for hadsch-hallas/PI/1_m / 0_ts / 1_lab / 1_pi / 0_ac1 / 0_ac2\",\"R1 Structures: Frequency and Overall Score for hadsch-hallas/lab/1_m / 0_ts / 2_lab / 0_pi / 0_ac1 / 0_ac2\",\"R1 Structures: Frequency and Overall Score for hadsch-hallas/ac2/1_m / 1_ts / 0_lab / 0_pi / 0_ac1 / 1_ac2\",\"R1 Structures: Frequency and Overall Score for hadsch-hallas/ac1/1_m / 1_ts / 0_lab / 0_pi / 1_ac1 / 0_ac2\",\"R1 Structures: Frequency and Overall Score for hadsch-hallas/PI/1_m / 1_ts / 0_lab / 1_pi / 0_ac1 / 0_ac2\",\"R1 Structures: Frequency and Overall Score for hadsch-hallas/lab/1_m / 1_ts / 1_lab / 0_pi / 0_ac1 / 0_ac2\",\"R1 Structures: Frequency and Overall Score for hadsch-hallas/PI/1_m / 2_ts / 0_lab / 1_pi / 0_ac1 / 0_ac2\",\"R1 Structures: Frequency and Overall Score for hadsch-hallas/lab/1_m / 2_ts / 1_lab / 0_pi / 0_ac1 / 0_ac2\",\"R1 Structures: Frequency and Overall Score for hadsch-hallas/ts/1_m / 3_ts / 0_lab / 0_pi / 0_ac1 / 0_ac2\",\"R1 Structures: Frequency and Overall Score for hadsch-hallas/ac2/2_m / 0_ts / 0_lab / 0_pi / 0_ac1 / 1_ac2\",\"R1 Structures: Frequency and Overall Score for hadsch-hallas/ac1/2_m / 0_ts / 0_lab / 0_pi / 1_ac1 / 0_ac2\",\"R1 Structures: Frequency and Overall Score for hadsch-hallas/PI/2_m / 0_ts / 0_lab / 1_pi / 0_ac1 / 0_ac2\",\"R1 Structures: Frequency and Overall Score for hadsch-hallas/lab/2_m / 0_ts / 1_lab / 0_pi / 0_ac1 / 0_ac2\",\"R1 Structures: Frequency and Overall Score for hadsch-hallas/PI/2_m / 0_ts / 1_lab / 1_pi / 0_ac1 / 0_ac2\",\"R1 Structures: Frequency and Overall Score for hadsch-hallas/lab/2_m / 0_ts / 2_lab / 0_pi / 0_ac1 / 0_ac2\",\"R1 Structures: Frequency and Overall Score for hadsch-hallas/PI/2_m / 1_ts / 0_lab / 1_pi / 0_ac1 / 0_ac2\",\"R1 Structures: Frequency and Overall Score for hadsch-hallas/lab/2_m / 1_ts / 1_lab / 0_pi / 0_ac1 / 0_ac2\",\"R1 Structures: Frequency and Overall Score for hadsch-hallas/ts/2_m / 2_ts / 0_lab / 0_pi / 0_ac1 / 0_ac2\",\"R1 Structures: Frequency and Overall Score for hadsch-hallas/ts/2_m / 3_ts / 0_lab / 0_pi / 0_ac1 / 0_ac2\",\"R1 Structures: Frequency and Overall Score for hadsch-hallas/ac2/3_m / 0_ts / 0_lab / 0_pi / 0_ac1 / 1_ac2\",\"R1 Structures: Frequency and Overall Score for hadsch-hallas/ac1/3_m / 0_ts / 0_lab / 0_pi / 1_ac1 / 0_ac2\",\"R1 Structures: Frequency and Overall Score for hadsch-hallas/PI/3_m / 0_ts / 0_lab / 1_pi / 0_ac1 / 0_ac2\",\"R1 Structures: Frequency and Overall Score for hadsch-hallas/lab/3_m / 0_ts / 1_lab / 0_pi / 0_ac1 / 0_ac2\",\"R1 Structures: Frequency and Overall Score for hadsch-hallas/lab/3_m / 1_ts / 1_lab / 0_pi / 0_ac1 / 0_ac2\",\"R1 Structures: Frequency and Overall Score for hadsch-hallas/m/4_m / 0_ts / 0_lab / 0_pi / 0_ac1 / 0_ac2\",\"R1 Structures: Frequency and Overall Score for hadsch-hallas/ac1/4_m / 0_ts / 0_lab / 0_pi / 1_ac1 / 0_ac2\",\"R1 Structures: Frequency and Overall Score for hadsch-hallas/PI/4_m / 0_ts / 0_lab / 1_pi / 0_ac1 / 0_ac2\",\"R1 Structures: Frequency and Overall Score for hadsch-hallas/lab/4_m / 0_ts / 1_lab / 0_pi / 0_ac1 / 0_ac2\",\"R1 Structures: Frequency and Overall Score for hadsch-hallas/m/5_m / 0_ts / 0_lab / 0_pi / 0_ac1 / 0_ac2\",\"R1 Structures: Frequency and Overall Score for hadsch-hallas/lab/5_m / 0_ts / 1_lab / 0_pi / 0_ac1 / 0_ac2\",\"R1 Structures: Frequency and Overall Score for hadsch-hallas/lab/5_m / 1_ts / 1_lab / 0_pi / 0_ac1 / 0_ac2\",\"R1 Structures: Frequency and Overall Score for hadsch-hallas/lab/6_m / 0_ts / 1_lab / 0_pi / 0_ac1 / 0_ac2\",\"R1 Structures: Frequency and Overall Score for hadsch-hallas/lab/7_m / 0_ts / 1_lab / 0_pi / 0_ac1 / 0_ac2\",\"R1 Structures: Frequency and Overall Score for hadsch-hallas/PI\",\"R1 Structures: Frequency and Overall Score for hadsch-hallas/ac1\",\"R1 Structures: Frequency and Overall Score for hadsch-hallas/ac2\",\"R1 Structures: Frequency and Overall Score for hadsch-hallas/lab\",\"R1 Structures: Frequency and Overall Score for hadsch-hallas/m\",\"R1 Structures: Frequency and Overall Score for hadsch-hallas/ts\",\"R1 Structures: Frequency and Overall Score for hadsch-hallas\"],\"labels\":[\"0_m / 0_ts / 1_lab / 1_pi / 0_ac1 / 0_ac2\",\"0_m / 0_ts / 2_lab / 0_pi / 0_ac1 / 0_ac2\",\"0_m / 1_ts / 0_lab / 0_pi / 1_ac1 / 0_ac2\",\"0_m / 1_ts / 0_lab / 1_pi / 0_ac1 / 0_ac2\",\"0_m / 1_ts / 1_lab / 0_pi / 0_ac1 / 0_ac2\",\"0_m / 2_ts / 0_lab / 0_pi / 0_ac1 / 0_ac2\",\"0_m / 2_ts / 0_lab / 1_pi / 0_ac1 / 0_ac2\",\"0_m / 2_ts / 1_lab / 0_pi / 0_ac1 / 0_ac2\",\"0_m / 3_ts / 0_lab / 0_pi / 0_ac1 / 0_ac2\",\"0_m / 4_ts / 0_lab / 0_pi / 0_ac1 / 0_ac2\",\"1_m / 0_ts / 0_lab / 0_pi / 0_ac1 / 1_ac2\",\"1_m / 0_ts / 0_lab / 0_pi / 1_ac1 / 0_ac2\",\"1_m / 0_ts / 0_lab / 1_pi / 0_ac1 / 0_ac2\",\"1_m / 0_ts / 1_lab / 0_pi / 0_ac1 / 0_ac2\",\"1_m / 0_ts / 1_lab / 1_pi / 0_ac1 / 0_ac2\",\"1_m / 0_ts / 2_lab / 0_pi / 0_ac1 / 0_ac2\",\"1_m / 1_ts / 0_lab / 0_pi / 0_ac1 / 1_ac2\",\"1_m / 1_ts / 0_lab / 0_pi / 1_ac1 / 0_ac2\",\"1_m / 1_ts / 0_lab / 1_pi / 0_ac1 / 0_ac2\",\"1_m / 1_ts / 1_lab / 0_pi / 0_ac1 / 0_ac2\",\"1_m / 2_ts / 0_lab / 1_pi / 0_ac1 / 0_ac2\",\"1_m / 2_ts / 1_lab / 0_pi / 0_ac1 / 0_ac2\",\"1_m / 3_ts / 0_lab / 0_pi / 0_ac1 / 0_ac2\",\"2_m / 0_ts / 0_lab / 0_pi / 0_ac1 / 1_ac2\",\"2_m / 0_ts / 0_lab / 0_pi / 1_ac1 / 0_ac2\",\"2_m / 0_ts / 0_lab / 1_pi / 0_ac1 / 0_ac2\",\"2_m / 0_ts / 1_lab / 0_pi / 0_ac1 / 0_ac2\",\"2_m / 0_ts / 1_lab / 1_pi / 0_ac1 / 0_ac2\",\"2_m / 0_ts / 2_lab / 0_pi / 0_ac1 / 0_ac2\",\"2_m / 1_ts / 0_lab / 1_pi / 0_ac1 / 0_ac2\",\"2_m / 1_ts / 1_lab / 0_pi / 0_ac1 / 0_ac2\",\"2_m / 2_ts / 0_lab / 0_pi / 0_ac1 / 0_ac2\",\"2_m / 3_ts / 0_lab / 0_pi / 0_ac1 / 0_ac2\",\"3_m / 0_ts / 0_lab / 0_pi / 0_ac1 / 1_ac2\",\"3_m / 0_ts / 0_lab / 0_pi / 1_ac1 / 0_ac2\",\"3_m / 0_ts / 0_lab / 1_pi / 0_ac1 / 0_ac2\",\"3_m / 0_ts / 1_lab / 0_pi / 0_ac1 / 0_ac2\",\"3_m / 1_ts / 1_lab / 0_pi / 0_ac1 / 0_ac2\",\"4_m / 0_ts / 0_lab / 0_pi / 0_ac1 / 0_ac2\",\"4_m / 0_ts / 0_lab / 0_pi / 1_ac1 / 0_ac2\",\"4_m / 0_ts / 0_lab / 1_pi / 0_ac1 / 0_ac2\",\"4_m / 0_ts / 1_lab / 0_pi / 0_ac1 / 0_ac2\",\"5_m / 0_ts / 0_lab / 0_pi / 0_ac1 / 0_ac2\",\"5_m / 0_ts / 1_lab / 0_pi / 0_ac1 / 0_ac2\",\"5_m / 1_ts / 1_lab / 0_pi / 0_ac1 / 0_ac2\",\"6_m / 0_ts / 1_lab / 0_pi / 0_ac1 / 0_ac2\",\"7_m / 0_ts / 1_lab / 0_pi / 0_ac1 / 0_ac2\",\"PI\",\"ac1\",\"ac2\",\"lab\",\"m\",\"ts\",\"R1 Structures: Frequency and Overall Score for hadsch-hallas\"],\"marker\":{\"coloraxis\":\"coloraxis\",\"colors\":[135.0,122.875,138.5,99.16666666666667,116.625,109.5,141.8,157.2,119.0909090909091,168.0,138.0,139.48360655737704,112.0,128.0,128.97222222222223,149.2,127.0,118.5,120.62068965517241,124.61016949152543,129.25,143.0,146.0,191.33333333333334,148.55029585798817,123.84848484848484,137.72115384615384,166.0,141.11111111111111,133.0,145.55208333333334,121.85714285714286,171.0,109.0,149.1875,119.85714285714286,136.25833333333333,135.8,114.25,159.6,143.3,143.71794871794873,150.0,153.9255319148936,219.0,155.4,189.0,126.95617529880478,145.00316455696202,151.33333333333334,141.3806896551724,121.4,128.46428571428572,139.24587706146926]},\"name\":\"\",\"parents\":[\"R1 Structures: Frequency and Overall Score for hadsch-hallas/PI\",\"R1 Structures: Frequency and Overall Score for hadsch-hallas/lab\",\"R1 Structures: Frequency and Overall Score for hadsch-hallas/ac1\",\"R1 Structures: Frequency and Overall Score for hadsch-hallas/PI\",\"R1 Structures: Frequency and Overall Score for hadsch-hallas/lab\",\"R1 Structures: Frequency and Overall Score for hadsch-hallas/ts\",\"R1 Structures: Frequency and Overall Score for hadsch-hallas/PI\",\"R1 Structures: Frequency and Overall Score for hadsch-hallas/lab\",\"R1 Structures: Frequency and Overall Score for hadsch-hallas/ts\",\"R1 Structures: Frequency and Overall Score for hadsch-hallas/ts\",\"R1 Structures: Frequency and Overall Score for hadsch-hallas/ac2\",\"R1 Structures: Frequency and Overall Score for hadsch-hallas/ac1\",\"R1 Structures: Frequency and Overall Score for hadsch-hallas/PI\",\"R1 Structures: Frequency and Overall Score for hadsch-hallas/lab\",\"R1 Structures: Frequency and Overall Score for hadsch-hallas/PI\",\"R1 Structures: Frequency and Overall Score for hadsch-hallas/lab\",\"R1 Structures: Frequency and Overall Score for hadsch-hallas/ac2\",\"R1 Structures: Frequency and Overall Score for hadsch-hallas/ac1\",\"R1 Structures: Frequency and Overall Score for hadsch-hallas/PI\",\"R1 Structures: Frequency and Overall Score for hadsch-hallas/lab\",\"R1 Structures: Frequency and Overall Score for hadsch-hallas/PI\",\"R1 Structures: Frequency and Overall Score for hadsch-hallas/lab\",\"R1 Structures: Frequency and Overall Score for hadsch-hallas/ts\",\"R1 Structures: Frequency and Overall Score for hadsch-hallas/ac2\",\"R1 Structures: Frequency and Overall Score for hadsch-hallas/ac1\",\"R1 Structures: Frequency and Overall Score for hadsch-hallas/PI\",\"R1 Structures: Frequency and Overall Score for hadsch-hallas/lab\",\"R1 Structures: Frequency and Overall Score for hadsch-hallas/PI\",\"R1 Structures: Frequency and Overall Score for hadsch-hallas/lab\",\"R1 Structures: Frequency and Overall Score for hadsch-hallas/PI\",\"R1 Structures: Frequency and Overall Score for hadsch-hallas/lab\",\"R1 Structures: Frequency and Overall Score for hadsch-hallas/ts\",\"R1 Structures: Frequency and Overall Score for hadsch-hallas/ts\",\"R1 Structures: Frequency and Overall Score for hadsch-hallas/ac2\",\"R1 Structures: Frequency and Overall Score for hadsch-hallas/ac1\",\"R1 Structures: Frequency and Overall Score for hadsch-hallas/PI\",\"R1 Structures: Frequency and Overall Score for hadsch-hallas/lab\",\"R1 Structures: Frequency and Overall Score for hadsch-hallas/lab\",\"R1 Structures: Frequency and Overall Score for hadsch-hallas/m\",\"R1 Structures: Frequency and Overall Score for hadsch-hallas/ac1\",\"R1 Structures: Frequency and Overall Score for hadsch-hallas/PI\",\"R1 Structures: Frequency and Overall Score for hadsch-hallas/lab\",\"R1 Structures: Frequency and Overall Score for hadsch-hallas/m\",\"R1 Structures: Frequency and Overall Score for hadsch-hallas/lab\",\"R1 Structures: Frequency and Overall Score for hadsch-hallas/lab\",\"R1 Structures: Frequency and Overall Score for hadsch-hallas/lab\",\"R1 Structures: Frequency and Overall Score for hadsch-hallas/lab\",\"R1 Structures: Frequency and Overall Score for hadsch-hallas\",\"R1 Structures: Frequency and Overall Score for hadsch-hallas\",\"R1 Structures: Frequency and Overall Score for hadsch-hallas\",\"R1 Structures: Frequency and Overall Score for hadsch-hallas\",\"R1 Structures: Frequency and Overall Score for hadsch-hallas\",\"R1 Structures: Frequency and Overall Score for hadsch-hallas\",\"\"],\"values\":[18,8,2,6,8,2,5,5,11,1,4,122,5,17,36,20,1,2,29,59,4,2,6,3,169,66,104,3,9,41,96,7,1,1,16,28,120,5,4,5,10,156,1,94,1,20,1,251,316,9,725,5,28,1334],\"type\":\"treemap\"}],                        {\"template\":{\"data\":{\"bar\":[{\"error_x\":{\"color\":\"#2a3f5f\"},\"error_y\":{\"color\":\"#2a3f5f\"},\"marker\":{\"line\":{\"color\":\"#E5ECF6\",\"width\":0.5},\"pattern\":{\"fillmode\":\"overlay\",\"size\":10,\"solidity\":0.2}},\"type\":\"bar\"}],\"barpolar\":[{\"marker\":{\"line\":{\"color\":\"#E5ECF6\",\"width\":0.5},\"pattern\":{\"fillmode\":\"overlay\",\"size\":10,\"solidity\":0.2}},\"type\":\"barpolar\"}],\"carpet\":[{\"aaxis\":{\"endlinecolor\":\"#2a3f5f\",\"gridcolor\":\"white\",\"linecolor\":\"white\",\"minorgridcolor\":\"white\",\"startlinecolor\":\"#2a3f5f\"},\"baxis\":{\"endlinecolor\":\"#2a3f5f\",\"gridcolor\":\"white\",\"linecolor\":\"white\",\"minorgridcolor\":\"white\",\"startlinecolor\":\"#2a3f5f\"},\"type\":\"carpet\"}],\"choropleth\":[{\"colorbar\":{\"outlinewidth\":0,\"ticks\":\"\"},\"type\":\"choropleth\"}],\"contour\":[{\"colorbar\":{\"outlinewidth\":0,\"ticks\":\"\"},\"colorscale\":[[0.0,\"#0d0887\"],[0.1111111111111111,\"#46039f\"],[0.2222222222222222,\"#7201a8\"],[0.3333333333333333,\"#9c179e\"],[0.4444444444444444,\"#bd3786\"],[0.5555555555555556,\"#d8576b\"],[0.6666666666666666,\"#ed7953\"],[0.7777777777777778,\"#fb9f3a\"],[0.8888888888888888,\"#fdca26\"],[1.0,\"#f0f921\"]],\"type\":\"contour\"}],\"contourcarpet\":[{\"colorbar\":{\"outlinewidth\":0,\"ticks\":\"\"},\"type\":\"contourcarpet\"}],\"heatmap\":[{\"colorbar\":{\"outlinewidth\":0,\"ticks\":\"\"},\"colorscale\":[[0.0,\"#0d0887\"],[0.1111111111111111,\"#46039f\"],[0.2222222222222222,\"#7201a8\"],[0.3333333333333333,\"#9c179e\"],[0.4444444444444444,\"#bd3786\"],[0.5555555555555556,\"#d8576b\"],[0.6666666666666666,\"#ed7953\"],[0.7777777777777778,\"#fb9f3a\"],[0.8888888888888888,\"#fdca26\"],[1.0,\"#f0f921\"]],\"type\":\"heatmap\"}],\"heatmapgl\":[{\"colorbar\":{\"outlinewidth\":0,\"ticks\":\"\"},\"colorscale\":[[0.0,\"#0d0887\"],[0.1111111111111111,\"#46039f\"],[0.2222222222222222,\"#7201a8\"],[0.3333333333333333,\"#9c179e\"],[0.4444444444444444,\"#bd3786\"],[0.5555555555555556,\"#d8576b\"],[0.6666666666666666,\"#ed7953\"],[0.7777777777777778,\"#fb9f3a\"],[0.8888888888888888,\"#fdca26\"],[1.0,\"#f0f921\"]],\"type\":\"heatmapgl\"}],\"histogram\":[{\"marker\":{\"pattern\":{\"fillmode\":\"overlay\",\"size\":10,\"solidity\":0.2}},\"type\":\"histogram\"}],\"histogram2d\":[{\"colorbar\":{\"outlinewidth\":0,\"ticks\":\"\"},\"colorscale\":[[0.0,\"#0d0887\"],[0.1111111111111111,\"#46039f\"],[0.2222222222222222,\"#7201a8\"],[0.3333333333333333,\"#9c179e\"],[0.4444444444444444,\"#bd3786\"],[0.5555555555555556,\"#d8576b\"],[0.6666666666666666,\"#ed7953\"],[0.7777777777777778,\"#fb9f3a\"],[0.8888888888888888,\"#fdca26\"],[1.0,\"#f0f921\"]],\"type\":\"histogram2d\"}],\"histogram2dcontour\":[{\"colorbar\":{\"outlinewidth\":0,\"ticks\":\"\"},\"colorscale\":[[0.0,\"#0d0887\"],[0.1111111111111111,\"#46039f\"],[0.2222222222222222,\"#7201a8\"],[0.3333333333333333,\"#9c179e\"],[0.4444444444444444,\"#bd3786\"],[0.5555555555555556,\"#d8576b\"],[0.6666666666666666,\"#ed7953\"],[0.7777777777777778,\"#fb9f3a\"],[0.8888888888888888,\"#fdca26\"],[1.0,\"#f0f921\"]],\"type\":\"histogram2dcontour\"}],\"mesh3d\":[{\"colorbar\":{\"outlinewidth\":0,\"ticks\":\"\"},\"type\":\"mesh3d\"}],\"parcoords\":[{\"line\":{\"colorbar\":{\"outlinewidth\":0,\"ticks\":\"\"}},\"type\":\"parcoords\"}],\"pie\":[{\"automargin\":true,\"type\":\"pie\"}],\"scatter\":[{\"marker\":{\"colorbar\":{\"outlinewidth\":0,\"ticks\":\"\"}},\"type\":\"scatter\"}],\"scatter3d\":[{\"line\":{\"colorbar\":{\"outlinewidth\":0,\"ticks\":\"\"}},\"marker\":{\"colorbar\":{\"outlinewidth\":0,\"ticks\":\"\"}},\"type\":\"scatter3d\"}],\"scattercarpet\":[{\"marker\":{\"colorbar\":{\"outlinewidth\":0,\"ticks\":\"\"}},\"type\":\"scattercarpet\"}],\"scattergeo\":[{\"marker\":{\"colorbar\":{\"outlinewidth\":0,\"ticks\":\"\"}},\"type\":\"scattergeo\"}],\"scattergl\":[{\"marker\":{\"colorbar\":{\"outlinewidth\":0,\"ticks\":\"\"}},\"type\":\"scattergl\"}],\"scattermapbox\":[{\"marker\":{\"colorbar\":{\"outlinewidth\":0,\"ticks\":\"\"}},\"type\":\"scattermapbox\"}],\"scatterpolar\":[{\"marker\":{\"colorbar\":{\"outlinewidth\":0,\"ticks\":\"\"}},\"type\":\"scatterpolar\"}],\"scatterpolargl\":[{\"marker\":{\"colorbar\":{\"outlinewidth\":0,\"ticks\":\"\"}},\"type\":\"scatterpolargl\"}],\"scatterternary\":[{\"marker\":{\"colorbar\":{\"outlinewidth\":0,\"ticks\":\"\"}},\"type\":\"scatterternary\"}],\"surface\":[{\"colorbar\":{\"outlinewidth\":0,\"ticks\":\"\"},\"colorscale\":[[0.0,\"#0d0887\"],[0.1111111111111111,\"#46039f\"],[0.2222222222222222,\"#7201a8\"],[0.3333333333333333,\"#9c179e\"],[0.4444444444444444,\"#bd3786\"],[0.5555555555555556,\"#d8576b\"],[0.6666666666666666,\"#ed7953\"],[0.7777777777777778,\"#fb9f3a\"],[0.8888888888888888,\"#fdca26\"],[1.0,\"#f0f921\"]],\"type\":\"surface\"}],\"table\":[{\"cells\":{\"fill\":{\"color\":\"#EBF0F8\"},\"line\":{\"color\":\"white\"}},\"header\":{\"fill\":{\"color\":\"#C8D4E3\"},\"line\":{\"color\":\"white\"}},\"type\":\"table\"}]},\"layout\":{\"annotationdefaults\":{\"arrowcolor\":\"#2a3f5f\",\"arrowhead\":0,\"arrowwidth\":1},\"autotypenumbers\":\"strict\",\"coloraxis\":{\"colorbar\":{\"outlinewidth\":0,\"ticks\":\"\"}},\"colorscale\":{\"diverging\":[[0,\"#8e0152\"],[0.1,\"#c51b7d\"],[0.2,\"#de77ae\"],[0.3,\"#f1b6da\"],[0.4,\"#fde0ef\"],[0.5,\"#f7f7f7\"],[0.6,\"#e6f5d0\"],[0.7,\"#b8e186\"],[0.8,\"#7fbc41\"],[0.9,\"#4d9221\"],[1,\"#276419\"]],\"sequential\":[[0.0,\"#0d0887\"],[0.1111111111111111,\"#46039f\"],[0.2222222222222222,\"#7201a8\"],[0.3333333333333333,\"#9c179e\"],[0.4444444444444444,\"#bd3786\"],[0.5555555555555556,\"#d8576b\"],[0.6666666666666666,\"#ed7953\"],[0.7777777777777778,\"#fb9f3a\"],[0.8888888888888888,\"#fdca26\"],[1.0,\"#f0f921\"]],\"sequentialminus\":[[0.0,\"#0d0887\"],[0.1111111111111111,\"#46039f\"],[0.2222222222222222,\"#7201a8\"],[0.3333333333333333,\"#9c179e\"],[0.4444444444444444,\"#bd3786\"],[0.5555555555555556,\"#d8576b\"],[0.6666666666666666,\"#ed7953\"],[0.7777777777777778,\"#fb9f3a\"],[0.8888888888888888,\"#fdca26\"],[1.0,\"#f0f921\"]]},\"colorway\":[\"#636efa\",\"#EF553B\",\"#00cc96\",\"#ab63fa\",\"#FFA15A\",\"#19d3f3\",\"#FF6692\",\"#B6E880\",\"#FF97FF\",\"#FECB52\"],\"font\":{\"color\":\"#2a3f5f\"},\"geo\":{\"bgcolor\":\"white\",\"lakecolor\":\"white\",\"landcolor\":\"#E5ECF6\",\"showlakes\":true,\"showland\":true,\"subunitcolor\":\"white\"},\"hoverlabel\":{\"align\":\"left\"},\"hovermode\":\"closest\",\"mapbox\":{\"style\":\"light\"},\"paper_bgcolor\":\"white\",\"plot_bgcolor\":\"#E5ECF6\",\"polar\":{\"angularaxis\":{\"gridcolor\":\"white\",\"linecolor\":\"white\",\"ticks\":\"\"},\"bgcolor\":\"#E5ECF6\",\"radialaxis\":{\"gridcolor\":\"white\",\"linecolor\":\"white\",\"ticks\":\"\"}},\"scene\":{\"xaxis\":{\"backgroundcolor\":\"#E5ECF6\",\"gridcolor\":\"white\",\"gridwidth\":2,\"linecolor\":\"white\",\"showbackground\":true,\"ticks\":\"\",\"zerolinecolor\":\"white\"},\"yaxis\":{\"backgroundcolor\":\"#E5ECF6\",\"gridcolor\":\"white\",\"gridwidth\":2,\"linecolor\":\"white\",\"showbackground\":true,\"ticks\":\"\",\"zerolinecolor\":\"white\"},\"zaxis\":{\"backgroundcolor\":\"#E5ECF6\",\"gridcolor\":\"white\",\"gridwidth\":2,\"linecolor\":\"white\",\"showbackground\":true,\"ticks\":\"\",\"zerolinecolor\":\"white\"}},\"shapedefaults\":{\"line\":{\"color\":\"#2a3f5f\"}},\"ternary\":{\"aaxis\":{\"gridcolor\":\"white\",\"linecolor\":\"white\",\"ticks\":\"\"},\"baxis\":{\"gridcolor\":\"white\",\"linecolor\":\"white\",\"ticks\":\"\"},\"bgcolor\":\"#E5ECF6\",\"caxis\":{\"gridcolor\":\"white\",\"linecolor\":\"white\",\"ticks\":\"\"}},\"title\":{\"x\":0.05},\"xaxis\":{\"automargin\":true,\"gridcolor\":\"white\",\"linecolor\":\"white\",\"ticks\":\"\",\"title\":{\"standoff\":15},\"zerolinecolor\":\"white\",\"zerolinewidth\":2},\"yaxis\":{\"automargin\":true,\"gridcolor\":\"white\",\"linecolor\":\"white\",\"ticks\":\"\",\"title\":{\"standoff\":15},\"zerolinecolor\":\"white\",\"zerolinewidth\":2}}},\"coloraxis\":{\"colorbar\":{\"title\":{\"text\":\"overall_score_hadsch-hallas\"}},\"colorscale\":[[0.0,\"rgb(103,0,31)\"],[0.1,\"rgb(178,24,43)\"],[0.2,\"rgb(214,96,77)\"],[0.3,\"rgb(244,165,130)\"],[0.4,\"rgb(253,219,199)\"],[0.5,\"rgb(247,247,247)\"],[0.6,\"rgb(209,229,240)\"],[0.7,\"rgb(146,197,222)\"],[0.8,\"rgb(67,147,195)\"],[0.9,\"rgb(33,102,172)\"],[1.0,\"rgb(5,48,97)\"]],\"cmid\":138.0},\"legend\":{\"tracegroupgap\":0},\"margin\":{\"t\":50,\"l\":25,\"r\":25,\"b\":25}},                        {\"responsive\": true}                    ).then(function(){\n",
       "                            \n",
       "var gd = document.getElementById('535d11a0-a931-4ceb-8150-780758081f82');\n",
       "var x = new MutationObserver(function (mutations, observer) {{\n",
       "        var display = window.getComputedStyle(gd).display;\n",
       "        if (!display || display === 'none') {{\n",
       "            console.log([gd, 'removed!']);\n",
       "            Plotly.purge(gd);\n",
       "            observer.disconnect();\n",
       "        }}\n",
       "}});\n",
       "\n",
       "// Listen for the removal of the full notebook cells\n",
       "var notebookContainer = gd.closest('#notebook-container');\n",
       "if (notebookContainer) {{\n",
       "    x.observe(notebookContainer, {childList: true});\n",
       "}}\n",
       "\n",
       "// Listen for the clearing of the current output cell\n",
       "var outputEl = gd.closest('.output');\n",
       "if (outputEl) {{\n",
       "    x.observe(outputEl, {childList: true});\n",
       "}}\n",
       "\n",
       "                        })                };                });            </script>        </div>"
      ]
     },
     "metadata": {},
     "output_type": "display_data"
    },
    {
     "data": {
      "application/vnd.plotly.v1+json": {
       "config": {
        "plotlyServerURL": "https://plot.ly"
       },
       "data": [
        {
         "branchvalues": "total",
         "customdata": [
          [
           135.57142857142858,
           126.42857142857143
          ],
          [
           88,
           132.5
          ],
          [
           190,
           94
          ],
          [
           40,
           122
          ],
          [
           176.66666666666666,
           157
          ],
          [
           225.19298245614036,
           143.85087719298247
          ],
          [
           198.42857142857142,
           112.14285714285714
          ],
          [
           315,
           187
          ],
          [
           31,
           103
          ],
          [
           126.92307692307692,
           118.26923076923077
          ],
          [
           50,
           139.5
          ],
          [
           65,
           164
          ],
          [
           175.5,
           134.5
          ],
          [
           139.66666666666666,
           143.33333333333334
          ],
          [
           235.0487804878049,
           146.93170731707318
          ],
          [
           180.84615384615384,
           142.05128205128204
          ],
          [
           209,
           153.4
          ],
          [
           67.5,
           117
          ],
          [
           201.02824858757063,
           138.8361581920904
          ],
          [
           169.2,
           119.4
          ],
          [
           276,
           159
          ],
          [
           220.83333333333334,
           150.83333333333334
          ],
          [
           121,
           170
          ],
          [
           216.10526315789474,
           138.52631578947367
          ],
          [
           132.85714285714286,
           109.71428571428571
          ],
          [
           177.55714285714285,
           132.54285714285714
          ],
          [
           186.3235294117647,
           142.76470588235293
          ],
          [
           113.77777777777777,
           123.55555555555556
          ],
          [
           67.85714285714286,
           97.28571428571429
          ],
          [
           290.25,
           152
          ],
          [
           108,
           126
          ],
          [
           221.13333333333333,
           144.675
          ],
          [
           129.36363636363637,
           107.27272727272727
          ],
          [
           190.14285714285714,
           107.71428571428571
          ],
          [
           209.06896551724137,
           140.44827586206895
          ],
          [
           247.53703703703704,
           155.69135802469137
          ],
          [
           165,
           132.33333333333334
          ],
          [
           121,
           154
          ],
          [
           150.6,
           159.6
          ],
          [
           271.5925925925926,
           157.88888888888889
          ],
          [
           261.625,
           159
          ],
          [
           201.33333333333334,
           181.33333333333334
          ],
          [
           340,
           219
          ],
          [
           325.6666666666667,
           200.66666666666666
          ],
          [
           "(?)",
           111
          ],
          [
           "(?)",
           145.61807580174928
          ],
          [
           "(?)",
           150.1
          ],
          [
           "(?)",
           143.4698275862069
          ],
          [
           "(?)",
           141.05
          ],
          [
           "(?)",
           136.58241758241758
          ],
          [
           "(?)",
           143.07784854918611
          ]
         ],
         "domain": {
          "x": [
           0,
           1
          ],
          "y": [
           0,
           1
          ]
         },
         "hovertemplate": "labels=%{label}<br>class_counts=%{value}<br>parent=%{parent}<br>id=%{id}<br>overall_elo_ambas=%{customdata[0]}<br>overall_score_ambas=%{color}<extra></extra>",
         "ids": [
          "R1 Structures: Frequency and Overall Score for ambas/lab/0_m / 0_ts / 2_lab / 0_pi / 0_ac1 / 0_ac2",
          "R1 Structures: Frequency and Overall Score for ambas/lab/0_m / 1_ts / 1_lab / 0_pi / 0_ac1 / 0_ac2",
          "R1 Structures: Frequency and Overall Score for ambas/lab/0_m / 2_ts / 1_lab / 0_pi / 0_ac1 / 0_ac2",
          "R1 Structures: Frequency and Overall Score for ambas/ts/0_m / 3_ts / 0_lab / 0_pi / 0_ac1 / 0_ac2",
          "R1 Structures: Frequency and Overall Score for ambas/ac2/1_m / 0_ts / 0_lab / 0_pi / 0_ac1 / 1_ac2",
          "R1 Structures: Frequency and Overall Score for ambas/ac1/1_m / 0_ts / 0_lab / 0_pi / 1_ac1 / 0_ac2",
          "R1 Structures: Frequency and Overall Score for ambas/lab/1_m / 0_ts / 2_lab / 0_pi / 0_ac1 / 0_ac2",
          "R1 Structures: Frequency and Overall Score for ambas/ac1/1_m / 1_ts / 0_lab / 0_pi / 1_ac1 / 0_ac2",
          "R1 Structures: Frequency and Overall Score for ambas/PI/1_m / 1_ts / 0_lab / 1_pi / 0_ac1 / 0_ac2",
          "R1 Structures: Frequency and Overall Score for ambas/lab/1_m / 1_ts / 1_lab / 0_pi / 0_ac1 / 0_ac2",
          "R1 Structures: Frequency and Overall Score for ambas/ts/1_m / 2_ts / 0_lab / 0_pi / 0_ac1 / 0_ac2",
          "R1 Structures: Frequency and Overall Score for ambas/lab/1_m / 2_ts / 1_lab / 0_pi / 0_ac1 / 0_ac2",
          "R1 Structures: Frequency and Overall Score for ambas/ts/1_m / 3_ts / 0_lab / 0_pi / 0_ac1 / 0_ac2",
          "R1 Structures: Frequency and Overall Score for ambas/ac2/2_m / 0_ts / 0_lab / 0_pi / 0_ac1 / 1_ac2",
          "R1 Structures: Frequency and Overall Score for ambas/ac1/2_m / 0_ts / 0_lab / 0_pi / 1_ac1 / 0_ac2",
          "R1 Structures: Frequency and Overall Score for ambas/lab/2_m / 0_ts / 1_lab / 0_pi / 0_ac1 / 0_ac2",
          "R1 Structures: Frequency and Overall Score for ambas/lab/2_m / 0_ts / 2_lab / 0_pi / 0_ac1 / 0_ac2",
          "R1 Structures: Frequency and Overall Score for ambas/PI/2_m / 1_ts / 0_lab / 1_pi / 0_ac1 / 0_ac2",
          "R1 Structures: Frequency and Overall Score for ambas/lab/2_m / 1_ts / 1_lab / 0_pi / 0_ac1 / 0_ac2",
          "R1 Structures: Frequency and Overall Score for ambas/ts/2_m / 2_ts / 0_lab / 0_pi / 0_ac1 / 0_ac2",
          "R1 Structures: Frequency and Overall Score for ambas/lab/2_m / 2_ts / 1_lab / 0_pi / 0_ac1 / 0_ac2",
          "R1 Structures: Frequency and Overall Score for ambas/ts/2_m / 3_ts / 0_lab / 0_pi / 0_ac1 / 0_ac2",
          "R1 Structures: Frequency and Overall Score for ambas/ac2/3_m / 0_ts / 0_lab / 0_pi / 0_ac1 / 1_ac2",
          "R1 Structures: Frequency and Overall Score for ambas/ac1/3_m / 0_ts / 0_lab / 0_pi / 1_ac1 / 0_ac2",
          "R1 Structures: Frequency and Overall Score for ambas/PI/3_m / 0_ts / 0_lab / 1_pi / 0_ac1 / 0_ac2",
          "R1 Structures: Frequency and Overall Score for ambas/lab/3_m / 0_ts / 1_lab / 0_pi / 0_ac1 / 0_ac2",
          "R1 Structures: Frequency and Overall Score for ambas/lab/3_m / 1_ts / 1_lab / 0_pi / 0_ac1 / 0_ac2",
          "R1 Structures: Frequency and Overall Score for ambas/ts/3_m / 2_ts / 0_lab / 0_pi / 0_ac1 / 0_ac2",
          "R1 Structures: Frequency and Overall Score for ambas/m/4_m / 0_ts / 0_lab / 0_pi / 0_ac1 / 0_ac2",
          "R1 Structures: Frequency and Overall Score for ambas/ac1/4_m / 0_ts / 0_lab / 0_pi / 1_ac1 / 0_ac2",
          "R1 Structures: Frequency and Overall Score for ambas/PI/4_m / 0_ts / 0_lab / 1_pi / 0_ac1 / 0_ac2",
          "R1 Structures: Frequency and Overall Score for ambas/lab/4_m / 0_ts / 1_lab / 0_pi / 0_ac1 / 0_ac2",
          "R1 Structures: Frequency and Overall Score for ambas/ts/4_m / 1_ts / 0_lab / 0_pi / 0_ac1 / 0_ac2",
          "R1 Structures: Frequency and Overall Score for ambas/lab/4_m / 1_ts / 1_lab / 0_pi / 0_ac1 / 0_ac2",
          "R1 Structures: Frequency and Overall Score for ambas/ts/4_m / 2_ts / 0_lab / 0_pi / 0_ac1 / 0_ac2",
          "R1 Structures: Frequency and Overall Score for ambas/lab/5_m / 0_ts / 1_lab / 0_pi / 0_ac1 / 0_ac2",
          "R1 Structures: Frequency and Overall Score for ambas/ts/5_m / 1_ts / 0_lab / 0_pi / 0_ac1 / 0_ac2",
          "R1 Structures: Frequency and Overall Score for ambas/ts/5_m / 2_ts / 0_lab / 0_pi / 0_ac1 / 0_ac2",
          "R1 Structures: Frequency and Overall Score for ambas/m/6_m / 0_ts / 0_lab / 0_pi / 0_ac1 / 0_ac2",
          "R1 Structures: Frequency and Overall Score for ambas/lab/6_m / 0_ts / 1_lab / 0_pi / 0_ac1 / 0_ac2",
          "R1 Structures: Frequency and Overall Score for ambas/ts/6_m / 1_ts / 0_lab / 0_pi / 0_ac1 / 0_ac2",
          "R1 Structures: Frequency and Overall Score for ambas/m/7_m / 0_ts / 0_lab / 0_pi / 0_ac1 / 0_ac2",
          "R1 Structures: Frequency and Overall Score for ambas/lab/7_m / 0_ts / 1_lab / 0_pi / 0_ac1 / 0_ac2",
          "R1 Structures: Frequency and Overall Score for ambas/ts/7_m / 1_ts / 0_lab / 0_pi / 0_ac1 / 0_ac2",
          "R1 Structures: Frequency and Overall Score for ambas/PI",
          "R1 Structures: Frequency and Overall Score for ambas/ac1",
          "R1 Structures: Frequency and Overall Score for ambas/ac2",
          "R1 Structures: Frequency and Overall Score for ambas/lab",
          "R1 Structures: Frequency and Overall Score for ambas/m",
          "R1 Structures: Frequency and Overall Score for ambas/ts",
          "R1 Structures: Frequency and Overall Score for ambas"
         ],
         "labels": [
          "0_m / 0_ts / 2_lab / 0_pi / 0_ac1 / 0_ac2",
          "0_m / 1_ts / 1_lab / 0_pi / 0_ac1 / 0_ac2",
          "0_m / 2_ts / 1_lab / 0_pi / 0_ac1 / 0_ac2",
          "0_m / 3_ts / 0_lab / 0_pi / 0_ac1 / 0_ac2",
          "1_m / 0_ts / 0_lab / 0_pi / 0_ac1 / 1_ac2",
          "1_m / 0_ts / 0_lab / 0_pi / 1_ac1 / 0_ac2",
          "1_m / 0_ts / 2_lab / 0_pi / 0_ac1 / 0_ac2",
          "1_m / 1_ts / 0_lab / 0_pi / 1_ac1 / 0_ac2",
          "1_m / 1_ts / 0_lab / 1_pi / 0_ac1 / 0_ac2",
          "1_m / 1_ts / 1_lab / 0_pi / 0_ac1 / 0_ac2",
          "1_m / 2_ts / 0_lab / 0_pi / 0_ac1 / 0_ac2",
          "1_m / 2_ts / 1_lab / 0_pi / 0_ac1 / 0_ac2",
          "1_m / 3_ts / 0_lab / 0_pi / 0_ac1 / 0_ac2",
          "2_m / 0_ts / 0_lab / 0_pi / 0_ac1 / 1_ac2",
          "2_m / 0_ts / 0_lab / 0_pi / 1_ac1 / 0_ac2",
          "2_m / 0_ts / 1_lab / 0_pi / 0_ac1 / 0_ac2",
          "2_m / 0_ts / 2_lab / 0_pi / 0_ac1 / 0_ac2",
          "2_m / 1_ts / 0_lab / 1_pi / 0_ac1 / 0_ac2",
          "2_m / 1_ts / 1_lab / 0_pi / 0_ac1 / 0_ac2",
          "2_m / 2_ts / 0_lab / 0_pi / 0_ac1 / 0_ac2",
          "2_m / 2_ts / 1_lab / 0_pi / 0_ac1 / 0_ac2",
          "2_m / 3_ts / 0_lab / 0_pi / 0_ac1 / 0_ac2",
          "3_m / 0_ts / 0_lab / 0_pi / 0_ac1 / 1_ac2",
          "3_m / 0_ts / 0_lab / 0_pi / 1_ac1 / 0_ac2",
          "3_m / 0_ts / 0_lab / 1_pi / 0_ac1 / 0_ac2",
          "3_m / 0_ts / 1_lab / 0_pi / 0_ac1 / 0_ac2",
          "3_m / 1_ts / 1_lab / 0_pi / 0_ac1 / 0_ac2",
          "3_m / 2_ts / 0_lab / 0_pi / 0_ac1 / 0_ac2",
          "4_m / 0_ts / 0_lab / 0_pi / 0_ac1 / 0_ac2",
          "4_m / 0_ts / 0_lab / 0_pi / 1_ac1 / 0_ac2",
          "4_m / 0_ts / 0_lab / 1_pi / 0_ac1 / 0_ac2",
          "4_m / 0_ts / 1_lab / 0_pi / 0_ac1 / 0_ac2",
          "4_m / 1_ts / 0_lab / 0_pi / 0_ac1 / 0_ac2",
          "4_m / 1_ts / 1_lab / 0_pi / 0_ac1 / 0_ac2",
          "4_m / 2_ts / 0_lab / 0_pi / 0_ac1 / 0_ac2",
          "5_m / 0_ts / 1_lab / 0_pi / 0_ac1 / 0_ac2",
          "5_m / 1_ts / 0_lab / 0_pi / 0_ac1 / 0_ac2",
          "5_m / 2_ts / 0_lab / 0_pi / 0_ac1 / 0_ac2",
          "6_m / 0_ts / 0_lab / 0_pi / 0_ac1 / 0_ac2",
          "6_m / 0_ts / 1_lab / 0_pi / 0_ac1 / 0_ac2",
          "6_m / 1_ts / 0_lab / 0_pi / 0_ac1 / 0_ac2",
          "7_m / 0_ts / 0_lab / 0_pi / 0_ac1 / 0_ac2",
          "7_m / 0_ts / 1_lab / 0_pi / 0_ac1 / 0_ac2",
          "7_m / 1_ts / 0_lab / 0_pi / 0_ac1 / 0_ac2",
          "PI",
          "ac1",
          "ac2",
          "lab",
          "m",
          "ts",
          "R1 Structures: Frequency and Overall Score for ambas"
         ],
         "marker": {
          "coloraxis": "coloraxis",
          "colors": [
           126.42857142857143,
           132.5,
           94,
           122,
           157,
           143.85087719298247,
           112.14285714285714,
           187,
           103,
           118.26923076923077,
           139.5,
           164,
           134.5,
           143.33333333333334,
           146.93170731707318,
           142.05128205128204,
           153.4,
           117,
           138.8361581920904,
           119.4,
           159,
           150.83333333333334,
           170,
           138.52631578947367,
           109.71428571428571,
           132.54285714285714,
           142.76470588235293,
           123.55555555555556,
           97.28571428571429,
           152,
           126,
           144.675,
           107.27272727272727,
           107.71428571428571,
           140.44827586206895,
           155.69135802469137,
           132.33333333333334,
           154,
           159.6,
           157.88888888888889,
           159,
           181.33333333333334,
           219,
           200.66666666666666,
           111,
           145.61807580174928,
           150.1,
           143.4698275862069,
           141.05,
           136.58241758241758,
           143.07784854918611
          ]
         },
         "name": "",
         "parents": [
          "R1 Structures: Frequency and Overall Score for ambas/lab",
          "R1 Structures: Frequency and Overall Score for ambas/lab",
          "R1 Structures: Frequency and Overall Score for ambas/lab",
          "R1 Structures: Frequency and Overall Score for ambas/ts",
          "R1 Structures: Frequency and Overall Score for ambas/ac2",
          "R1 Structures: Frequency and Overall Score for ambas/ac1",
          "R1 Structures: Frequency and Overall Score for ambas/lab",
          "R1 Structures: Frequency and Overall Score for ambas/ac1",
          "R1 Structures: Frequency and Overall Score for ambas/PI",
          "R1 Structures: Frequency and Overall Score for ambas/lab",
          "R1 Structures: Frequency and Overall Score for ambas/ts",
          "R1 Structures: Frequency and Overall Score for ambas/lab",
          "R1 Structures: Frequency and Overall Score for ambas/ts",
          "R1 Structures: Frequency and Overall Score for ambas/ac2",
          "R1 Structures: Frequency and Overall Score for ambas/ac1",
          "R1 Structures: Frequency and Overall Score for ambas/lab",
          "R1 Structures: Frequency and Overall Score for ambas/lab",
          "R1 Structures: Frequency and Overall Score for ambas/PI",
          "R1 Structures: Frequency and Overall Score for ambas/lab",
          "R1 Structures: Frequency and Overall Score for ambas/ts",
          "R1 Structures: Frequency and Overall Score for ambas/lab",
          "R1 Structures: Frequency and Overall Score for ambas/ts",
          "R1 Structures: Frequency and Overall Score for ambas/ac2",
          "R1 Structures: Frequency and Overall Score for ambas/ac1",
          "R1 Structures: Frequency and Overall Score for ambas/PI",
          "R1 Structures: Frequency and Overall Score for ambas/lab",
          "R1 Structures: Frequency and Overall Score for ambas/lab",
          "R1 Structures: Frequency and Overall Score for ambas/ts",
          "R1 Structures: Frequency and Overall Score for ambas/m",
          "R1 Structures: Frequency and Overall Score for ambas/ac1",
          "R1 Structures: Frequency and Overall Score for ambas/PI",
          "R1 Structures: Frequency and Overall Score for ambas/lab",
          "R1 Structures: Frequency and Overall Score for ambas/ts",
          "R1 Structures: Frequency and Overall Score for ambas/lab",
          "R1 Structures: Frequency and Overall Score for ambas/ts",
          "R1 Structures: Frequency and Overall Score for ambas/lab",
          "R1 Structures: Frequency and Overall Score for ambas/ts",
          "R1 Structures: Frequency and Overall Score for ambas/ts",
          "R1 Structures: Frequency and Overall Score for ambas/m",
          "R1 Structures: Frequency and Overall Score for ambas/lab",
          "R1 Structures: Frequency and Overall Score for ambas/ts",
          "R1 Structures: Frequency and Overall Score for ambas/m",
          "R1 Structures: Frequency and Overall Score for ambas/lab",
          "R1 Structures: Frequency and Overall Score for ambas/ts",
          "R1 Structures: Frequency and Overall Score for ambas",
          "R1 Structures: Frequency and Overall Score for ambas",
          "R1 Structures: Frequency and Overall Score for ambas",
          "R1 Structures: Frequency and Overall Score for ambas",
          "R1 Structures: Frequency and Overall Score for ambas",
          "R1 Structures: Frequency and Overall Score for ambas",
          ""
         ],
         "type": "treemap",
         "values": [
          7,
          2,
          1,
          2,
          3,
          114,
          7,
          1,
          3,
          26,
          2,
          1,
          2,
          6,
          205,
          39,
          5,
          2,
          177,
          5,
          2,
          6,
          1,
          19,
          14,
          70,
          34,
          9,
          7,
          4,
          2,
          360,
          11,
          7,
          29,
          162,
          12,
          2,
          10,
          27,
          8,
          3,
          1,
          3,
          21,
          343,
          10,
          928,
          20,
          91,
          1413
         ]
        }
       ],
       "layout": {
        "coloraxis": {
         "cmid": 141.2497789566755,
         "colorbar": {
          "title": {
           "text": "overall_score_ambas"
          }
         },
         "colorscale": [
          [
           0,
           "rgb(103,0,31)"
          ],
          [
           0.1,
           "rgb(178,24,43)"
          ],
          [
           0.2,
           "rgb(214,96,77)"
          ],
          [
           0.3,
           "rgb(244,165,130)"
          ],
          [
           0.4,
           "rgb(253,219,199)"
          ],
          [
           0.5,
           "rgb(247,247,247)"
          ],
          [
           0.6,
           "rgb(209,229,240)"
          ],
          [
           0.7,
           "rgb(146,197,222)"
          ],
          [
           0.8,
           "rgb(67,147,195)"
          ],
          [
           0.9,
           "rgb(33,102,172)"
          ],
          [
           1,
           "rgb(5,48,97)"
          ]
         ]
        },
        "legend": {
         "tracegroupgap": 0
        },
        "margin": {
         "b": 25,
         "l": 25,
         "r": 25,
         "t": 50
        },
        "template": {
         "data": {
          "bar": [
           {
            "error_x": {
             "color": "#2a3f5f"
            },
            "error_y": {
             "color": "#2a3f5f"
            },
            "marker": {
             "line": {
              "color": "#E5ECF6",
              "width": 0.5
             },
             "pattern": {
              "fillmode": "overlay",
              "size": 10,
              "solidity": 0.2
             }
            },
            "type": "bar"
           }
          ],
          "barpolar": [
           {
            "marker": {
             "line": {
              "color": "#E5ECF6",
              "width": 0.5
             },
             "pattern": {
              "fillmode": "overlay",
              "size": 10,
              "solidity": 0.2
             }
            },
            "type": "barpolar"
           }
          ],
          "carpet": [
           {
            "aaxis": {
             "endlinecolor": "#2a3f5f",
             "gridcolor": "white",
             "linecolor": "white",
             "minorgridcolor": "white",
             "startlinecolor": "#2a3f5f"
            },
            "baxis": {
             "endlinecolor": "#2a3f5f",
             "gridcolor": "white",
             "linecolor": "white",
             "minorgridcolor": "white",
             "startlinecolor": "#2a3f5f"
            },
            "type": "carpet"
           }
          ],
          "choropleth": [
           {
            "colorbar": {
             "outlinewidth": 0,
             "ticks": ""
            },
            "type": "choropleth"
           }
          ],
          "contour": [
           {
            "colorbar": {
             "outlinewidth": 0,
             "ticks": ""
            },
            "colorscale": [
             [
              0,
              "#0d0887"
             ],
             [
              0.1111111111111111,
              "#46039f"
             ],
             [
              0.2222222222222222,
              "#7201a8"
             ],
             [
              0.3333333333333333,
              "#9c179e"
             ],
             [
              0.4444444444444444,
              "#bd3786"
             ],
             [
              0.5555555555555556,
              "#d8576b"
             ],
             [
              0.6666666666666666,
              "#ed7953"
             ],
             [
              0.7777777777777778,
              "#fb9f3a"
             ],
             [
              0.8888888888888888,
              "#fdca26"
             ],
             [
              1,
              "#f0f921"
             ]
            ],
            "type": "contour"
           }
          ],
          "contourcarpet": [
           {
            "colorbar": {
             "outlinewidth": 0,
             "ticks": ""
            },
            "type": "contourcarpet"
           }
          ],
          "heatmap": [
           {
            "colorbar": {
             "outlinewidth": 0,
             "ticks": ""
            },
            "colorscale": [
             [
              0,
              "#0d0887"
             ],
             [
              0.1111111111111111,
              "#46039f"
             ],
             [
              0.2222222222222222,
              "#7201a8"
             ],
             [
              0.3333333333333333,
              "#9c179e"
             ],
             [
              0.4444444444444444,
              "#bd3786"
             ],
             [
              0.5555555555555556,
              "#d8576b"
             ],
             [
              0.6666666666666666,
              "#ed7953"
             ],
             [
              0.7777777777777778,
              "#fb9f3a"
             ],
             [
              0.8888888888888888,
              "#fdca26"
             ],
             [
              1,
              "#f0f921"
             ]
            ],
            "type": "heatmap"
           }
          ],
          "heatmapgl": [
           {
            "colorbar": {
             "outlinewidth": 0,
             "ticks": ""
            },
            "colorscale": [
             [
              0,
              "#0d0887"
             ],
             [
              0.1111111111111111,
              "#46039f"
             ],
             [
              0.2222222222222222,
              "#7201a8"
             ],
             [
              0.3333333333333333,
              "#9c179e"
             ],
             [
              0.4444444444444444,
              "#bd3786"
             ],
             [
              0.5555555555555556,
              "#d8576b"
             ],
             [
              0.6666666666666666,
              "#ed7953"
             ],
             [
              0.7777777777777778,
              "#fb9f3a"
             ],
             [
              0.8888888888888888,
              "#fdca26"
             ],
             [
              1,
              "#f0f921"
             ]
            ],
            "type": "heatmapgl"
           }
          ],
          "histogram": [
           {
            "marker": {
             "pattern": {
              "fillmode": "overlay",
              "size": 10,
              "solidity": 0.2
             }
            },
            "type": "histogram"
           }
          ],
          "histogram2d": [
           {
            "colorbar": {
             "outlinewidth": 0,
             "ticks": ""
            },
            "colorscale": [
             [
              0,
              "#0d0887"
             ],
             [
              0.1111111111111111,
              "#46039f"
             ],
             [
              0.2222222222222222,
              "#7201a8"
             ],
             [
              0.3333333333333333,
              "#9c179e"
             ],
             [
              0.4444444444444444,
              "#bd3786"
             ],
             [
              0.5555555555555556,
              "#d8576b"
             ],
             [
              0.6666666666666666,
              "#ed7953"
             ],
             [
              0.7777777777777778,
              "#fb9f3a"
             ],
             [
              0.8888888888888888,
              "#fdca26"
             ],
             [
              1,
              "#f0f921"
             ]
            ],
            "type": "histogram2d"
           }
          ],
          "histogram2dcontour": [
           {
            "colorbar": {
             "outlinewidth": 0,
             "ticks": ""
            },
            "colorscale": [
             [
              0,
              "#0d0887"
             ],
             [
              0.1111111111111111,
              "#46039f"
             ],
             [
              0.2222222222222222,
              "#7201a8"
             ],
             [
              0.3333333333333333,
              "#9c179e"
             ],
             [
              0.4444444444444444,
              "#bd3786"
             ],
             [
              0.5555555555555556,
              "#d8576b"
             ],
             [
              0.6666666666666666,
              "#ed7953"
             ],
             [
              0.7777777777777778,
              "#fb9f3a"
             ],
             [
              0.8888888888888888,
              "#fdca26"
             ],
             [
              1,
              "#f0f921"
             ]
            ],
            "type": "histogram2dcontour"
           }
          ],
          "mesh3d": [
           {
            "colorbar": {
             "outlinewidth": 0,
             "ticks": ""
            },
            "type": "mesh3d"
           }
          ],
          "parcoords": [
           {
            "line": {
             "colorbar": {
              "outlinewidth": 0,
              "ticks": ""
             }
            },
            "type": "parcoords"
           }
          ],
          "pie": [
           {
            "automargin": true,
            "type": "pie"
           }
          ],
          "scatter": [
           {
            "marker": {
             "colorbar": {
              "outlinewidth": 0,
              "ticks": ""
             }
            },
            "type": "scatter"
           }
          ],
          "scatter3d": [
           {
            "line": {
             "colorbar": {
              "outlinewidth": 0,
              "ticks": ""
             }
            },
            "marker": {
             "colorbar": {
              "outlinewidth": 0,
              "ticks": ""
             }
            },
            "type": "scatter3d"
           }
          ],
          "scattercarpet": [
           {
            "marker": {
             "colorbar": {
              "outlinewidth": 0,
              "ticks": ""
             }
            },
            "type": "scattercarpet"
           }
          ],
          "scattergeo": [
           {
            "marker": {
             "colorbar": {
              "outlinewidth": 0,
              "ticks": ""
             }
            },
            "type": "scattergeo"
           }
          ],
          "scattergl": [
           {
            "marker": {
             "colorbar": {
              "outlinewidth": 0,
              "ticks": ""
             }
            },
            "type": "scattergl"
           }
          ],
          "scattermapbox": [
           {
            "marker": {
             "colorbar": {
              "outlinewidth": 0,
              "ticks": ""
             }
            },
            "type": "scattermapbox"
           }
          ],
          "scatterpolar": [
           {
            "marker": {
             "colorbar": {
              "outlinewidth": 0,
              "ticks": ""
             }
            },
            "type": "scatterpolar"
           }
          ],
          "scatterpolargl": [
           {
            "marker": {
             "colorbar": {
              "outlinewidth": 0,
              "ticks": ""
             }
            },
            "type": "scatterpolargl"
           }
          ],
          "scatterternary": [
           {
            "marker": {
             "colorbar": {
              "outlinewidth": 0,
              "ticks": ""
             }
            },
            "type": "scatterternary"
           }
          ],
          "surface": [
           {
            "colorbar": {
             "outlinewidth": 0,
             "ticks": ""
            },
            "colorscale": [
             [
              0,
              "#0d0887"
             ],
             [
              0.1111111111111111,
              "#46039f"
             ],
             [
              0.2222222222222222,
              "#7201a8"
             ],
             [
              0.3333333333333333,
              "#9c179e"
             ],
             [
              0.4444444444444444,
              "#bd3786"
             ],
             [
              0.5555555555555556,
              "#d8576b"
             ],
             [
              0.6666666666666666,
              "#ed7953"
             ],
             [
              0.7777777777777778,
              "#fb9f3a"
             ],
             [
              0.8888888888888888,
              "#fdca26"
             ],
             [
              1,
              "#f0f921"
             ]
            ],
            "type": "surface"
           }
          ],
          "table": [
           {
            "cells": {
             "fill": {
              "color": "#EBF0F8"
             },
             "line": {
              "color": "white"
             }
            },
            "header": {
             "fill": {
              "color": "#C8D4E3"
             },
             "line": {
              "color": "white"
             }
            },
            "type": "table"
           }
          ]
         },
         "layout": {
          "annotationdefaults": {
           "arrowcolor": "#2a3f5f",
           "arrowhead": 0,
           "arrowwidth": 1
          },
          "autotypenumbers": "strict",
          "coloraxis": {
           "colorbar": {
            "outlinewidth": 0,
            "ticks": ""
           }
          },
          "colorscale": {
           "diverging": [
            [
             0,
             "#8e0152"
            ],
            [
             0.1,
             "#c51b7d"
            ],
            [
             0.2,
             "#de77ae"
            ],
            [
             0.3,
             "#f1b6da"
            ],
            [
             0.4,
             "#fde0ef"
            ],
            [
             0.5,
             "#f7f7f7"
            ],
            [
             0.6,
             "#e6f5d0"
            ],
            [
             0.7,
             "#b8e186"
            ],
            [
             0.8,
             "#7fbc41"
            ],
            [
             0.9,
             "#4d9221"
            ],
            [
             1,
             "#276419"
            ]
           ],
           "sequential": [
            [
             0,
             "#0d0887"
            ],
            [
             0.1111111111111111,
             "#46039f"
            ],
            [
             0.2222222222222222,
             "#7201a8"
            ],
            [
             0.3333333333333333,
             "#9c179e"
            ],
            [
             0.4444444444444444,
             "#bd3786"
            ],
            [
             0.5555555555555556,
             "#d8576b"
            ],
            [
             0.6666666666666666,
             "#ed7953"
            ],
            [
             0.7777777777777778,
             "#fb9f3a"
            ],
            [
             0.8888888888888888,
             "#fdca26"
            ],
            [
             1,
             "#f0f921"
            ]
           ],
           "sequentialminus": [
            [
             0,
             "#0d0887"
            ],
            [
             0.1111111111111111,
             "#46039f"
            ],
            [
             0.2222222222222222,
             "#7201a8"
            ],
            [
             0.3333333333333333,
             "#9c179e"
            ],
            [
             0.4444444444444444,
             "#bd3786"
            ],
            [
             0.5555555555555556,
             "#d8576b"
            ],
            [
             0.6666666666666666,
             "#ed7953"
            ],
            [
             0.7777777777777778,
             "#fb9f3a"
            ],
            [
             0.8888888888888888,
             "#fdca26"
            ],
            [
             1,
             "#f0f921"
            ]
           ]
          },
          "colorway": [
           "#636efa",
           "#EF553B",
           "#00cc96",
           "#ab63fa",
           "#FFA15A",
           "#19d3f3",
           "#FF6692",
           "#B6E880",
           "#FF97FF",
           "#FECB52"
          ],
          "font": {
           "color": "#2a3f5f"
          },
          "geo": {
           "bgcolor": "white",
           "lakecolor": "white",
           "landcolor": "#E5ECF6",
           "showlakes": true,
           "showland": true,
           "subunitcolor": "white"
          },
          "hoverlabel": {
           "align": "left"
          },
          "hovermode": "closest",
          "mapbox": {
           "style": "light"
          },
          "paper_bgcolor": "white",
          "plot_bgcolor": "#E5ECF6",
          "polar": {
           "angularaxis": {
            "gridcolor": "white",
            "linecolor": "white",
            "ticks": ""
           },
           "bgcolor": "#E5ECF6",
           "radialaxis": {
            "gridcolor": "white",
            "linecolor": "white",
            "ticks": ""
           }
          },
          "scene": {
           "xaxis": {
            "backgroundcolor": "#E5ECF6",
            "gridcolor": "white",
            "gridwidth": 2,
            "linecolor": "white",
            "showbackground": true,
            "ticks": "",
            "zerolinecolor": "white"
           },
           "yaxis": {
            "backgroundcolor": "#E5ECF6",
            "gridcolor": "white",
            "gridwidth": 2,
            "linecolor": "white",
            "showbackground": true,
            "ticks": "",
            "zerolinecolor": "white"
           },
           "zaxis": {
            "backgroundcolor": "#E5ECF6",
            "gridcolor": "white",
            "gridwidth": 2,
            "linecolor": "white",
            "showbackground": true,
            "ticks": "",
            "zerolinecolor": "white"
           }
          },
          "shapedefaults": {
           "line": {
            "color": "#2a3f5f"
           }
          },
          "ternary": {
           "aaxis": {
            "gridcolor": "white",
            "linecolor": "white",
            "ticks": ""
           },
           "baxis": {
            "gridcolor": "white",
            "linecolor": "white",
            "ticks": ""
           },
           "bgcolor": "#E5ECF6",
           "caxis": {
            "gridcolor": "white",
            "linecolor": "white",
            "ticks": ""
           }
          },
          "title": {
           "x": 0.05
          },
          "xaxis": {
           "automargin": true,
           "gridcolor": "white",
           "linecolor": "white",
           "ticks": "",
           "title": {
            "standoff": 15
           },
           "zerolinecolor": "white",
           "zerolinewidth": 2
          },
          "yaxis": {
           "automargin": true,
           "gridcolor": "white",
           "linecolor": "white",
           "ticks": "",
           "title": {
            "standoff": 15
           },
           "zerolinecolor": "white",
           "zerolinewidth": 2
          }
         }
        }
       }
      },
      "text/html": [
       "<div>                            <div id=\"23d60bf0-bce3-47c4-95e7-abf03357c7f4\" class=\"plotly-graph-div\" style=\"height:525px; width:100%;\"></div>            <script type=\"text/javascript\">                require([\"plotly\"], function(Plotly) {                    window.PLOTLYENV=window.PLOTLYENV || {};                                    if (document.getElementById(\"23d60bf0-bce3-47c4-95e7-abf03357c7f4\")) {                    Plotly.newPlot(                        \"23d60bf0-bce3-47c4-95e7-abf03357c7f4\",                        [{\"branchvalues\":\"total\",\"customdata\":[[135.57142857142858,126.42857142857143],[88.0,132.5],[190.0,94.0],[40.0,122.0],[176.66666666666666,157.0],[225.19298245614036,143.85087719298247],[198.42857142857142,112.14285714285714],[315.0,187.0],[31.0,103.0],[126.92307692307692,118.26923076923077],[50.0,139.5],[65.0,164.0],[175.5,134.5],[139.66666666666666,143.33333333333334],[235.0487804878049,146.93170731707318],[180.84615384615384,142.05128205128204],[209.0,153.4],[67.5,117.0],[201.02824858757063,138.8361581920904],[169.2,119.4],[276.0,159.0],[220.83333333333334,150.83333333333334],[121.0,170.0],[216.10526315789474,138.52631578947367],[132.85714285714286,109.71428571428571],[177.55714285714285,132.54285714285714],[186.3235294117647,142.76470588235293],[113.77777777777777,123.55555555555556],[67.85714285714286,97.28571428571429],[290.25,152.0],[108.0,126.0],[221.13333333333333,144.675],[129.36363636363637,107.27272727272727],[190.14285714285714,107.71428571428571],[209.06896551724137,140.44827586206895],[247.53703703703704,155.69135802469137],[165.0,132.33333333333334],[121.0,154.0],[150.6,159.6],[271.5925925925926,157.88888888888889],[261.625,159.0],[201.33333333333334,181.33333333333334],[340.0,219.0],[325.6666666666667,200.66666666666666],[\"(?)\",111.0],[\"(?)\",145.61807580174928],[\"(?)\",150.1],[\"(?)\",143.4698275862069],[\"(?)\",141.05],[\"(?)\",136.58241758241758],[\"(?)\",143.07784854918611]],\"domain\":{\"x\":[0.0,1.0],\"y\":[0.0,1.0]},\"hovertemplate\":\"labels=%{label}<br>class_counts=%{value}<br>parent=%{parent}<br>id=%{id}<br>overall_elo_ambas=%{customdata[0]}<br>overall_score_ambas=%{color}<extra></extra>\",\"ids\":[\"R1 Structures: Frequency and Overall Score for ambas/lab/0_m / 0_ts / 2_lab / 0_pi / 0_ac1 / 0_ac2\",\"R1 Structures: Frequency and Overall Score for ambas/lab/0_m / 1_ts / 1_lab / 0_pi / 0_ac1 / 0_ac2\",\"R1 Structures: Frequency and Overall Score for ambas/lab/0_m / 2_ts / 1_lab / 0_pi / 0_ac1 / 0_ac2\",\"R1 Structures: Frequency and Overall Score for ambas/ts/0_m / 3_ts / 0_lab / 0_pi / 0_ac1 / 0_ac2\",\"R1 Structures: Frequency and Overall Score for ambas/ac2/1_m / 0_ts / 0_lab / 0_pi / 0_ac1 / 1_ac2\",\"R1 Structures: Frequency and Overall Score for ambas/ac1/1_m / 0_ts / 0_lab / 0_pi / 1_ac1 / 0_ac2\",\"R1 Structures: Frequency and Overall Score for ambas/lab/1_m / 0_ts / 2_lab / 0_pi / 0_ac1 / 0_ac2\",\"R1 Structures: Frequency and Overall Score for ambas/ac1/1_m / 1_ts / 0_lab / 0_pi / 1_ac1 / 0_ac2\",\"R1 Structures: Frequency and Overall Score for ambas/PI/1_m / 1_ts / 0_lab / 1_pi / 0_ac1 / 0_ac2\",\"R1 Structures: Frequency and Overall Score for ambas/lab/1_m / 1_ts / 1_lab / 0_pi / 0_ac1 / 0_ac2\",\"R1 Structures: Frequency and Overall Score for ambas/ts/1_m / 2_ts / 0_lab / 0_pi / 0_ac1 / 0_ac2\",\"R1 Structures: Frequency and Overall Score for ambas/lab/1_m / 2_ts / 1_lab / 0_pi / 0_ac1 / 0_ac2\",\"R1 Structures: Frequency and Overall Score for ambas/ts/1_m / 3_ts / 0_lab / 0_pi / 0_ac1 / 0_ac2\",\"R1 Structures: Frequency and Overall Score for ambas/ac2/2_m / 0_ts / 0_lab / 0_pi / 0_ac1 / 1_ac2\",\"R1 Structures: Frequency and Overall Score for ambas/ac1/2_m / 0_ts / 0_lab / 0_pi / 1_ac1 / 0_ac2\",\"R1 Structures: Frequency and Overall Score for ambas/lab/2_m / 0_ts / 1_lab / 0_pi / 0_ac1 / 0_ac2\",\"R1 Structures: Frequency and Overall Score for ambas/lab/2_m / 0_ts / 2_lab / 0_pi / 0_ac1 / 0_ac2\",\"R1 Structures: Frequency and Overall Score for ambas/PI/2_m / 1_ts / 0_lab / 1_pi / 0_ac1 / 0_ac2\",\"R1 Structures: Frequency and Overall Score for ambas/lab/2_m / 1_ts / 1_lab / 0_pi / 0_ac1 / 0_ac2\",\"R1 Structures: Frequency and Overall Score for ambas/ts/2_m / 2_ts / 0_lab / 0_pi / 0_ac1 / 0_ac2\",\"R1 Structures: Frequency and Overall Score for ambas/lab/2_m / 2_ts / 1_lab / 0_pi / 0_ac1 / 0_ac2\",\"R1 Structures: Frequency and Overall Score for ambas/ts/2_m / 3_ts / 0_lab / 0_pi / 0_ac1 / 0_ac2\",\"R1 Structures: Frequency and Overall Score for ambas/ac2/3_m / 0_ts / 0_lab / 0_pi / 0_ac1 / 1_ac2\",\"R1 Structures: Frequency and Overall Score for ambas/ac1/3_m / 0_ts / 0_lab / 0_pi / 1_ac1 / 0_ac2\",\"R1 Structures: Frequency and Overall Score for ambas/PI/3_m / 0_ts / 0_lab / 1_pi / 0_ac1 / 0_ac2\",\"R1 Structures: Frequency and Overall Score for ambas/lab/3_m / 0_ts / 1_lab / 0_pi / 0_ac1 / 0_ac2\",\"R1 Structures: Frequency and Overall Score for ambas/lab/3_m / 1_ts / 1_lab / 0_pi / 0_ac1 / 0_ac2\",\"R1 Structures: Frequency and Overall Score for ambas/ts/3_m / 2_ts / 0_lab / 0_pi / 0_ac1 / 0_ac2\",\"R1 Structures: Frequency and Overall Score for ambas/m/4_m / 0_ts / 0_lab / 0_pi / 0_ac1 / 0_ac2\",\"R1 Structures: Frequency and Overall Score for ambas/ac1/4_m / 0_ts / 0_lab / 0_pi / 1_ac1 / 0_ac2\",\"R1 Structures: Frequency and Overall Score for ambas/PI/4_m / 0_ts / 0_lab / 1_pi / 0_ac1 / 0_ac2\",\"R1 Structures: Frequency and Overall Score for ambas/lab/4_m / 0_ts / 1_lab / 0_pi / 0_ac1 / 0_ac2\",\"R1 Structures: Frequency and Overall Score for ambas/ts/4_m / 1_ts / 0_lab / 0_pi / 0_ac1 / 0_ac2\",\"R1 Structures: Frequency and Overall Score for ambas/lab/4_m / 1_ts / 1_lab / 0_pi / 0_ac1 / 0_ac2\",\"R1 Structures: Frequency and Overall Score for ambas/ts/4_m / 2_ts / 0_lab / 0_pi / 0_ac1 / 0_ac2\",\"R1 Structures: Frequency and Overall Score for ambas/lab/5_m / 0_ts / 1_lab / 0_pi / 0_ac1 / 0_ac2\",\"R1 Structures: Frequency and Overall Score for ambas/ts/5_m / 1_ts / 0_lab / 0_pi / 0_ac1 / 0_ac2\",\"R1 Structures: Frequency and Overall Score for ambas/ts/5_m / 2_ts / 0_lab / 0_pi / 0_ac1 / 0_ac2\",\"R1 Structures: Frequency and Overall Score for ambas/m/6_m / 0_ts / 0_lab / 0_pi / 0_ac1 / 0_ac2\",\"R1 Structures: Frequency and Overall Score for ambas/lab/6_m / 0_ts / 1_lab / 0_pi / 0_ac1 / 0_ac2\",\"R1 Structures: Frequency and Overall Score for ambas/ts/6_m / 1_ts / 0_lab / 0_pi / 0_ac1 / 0_ac2\",\"R1 Structures: Frequency and Overall Score for ambas/m/7_m / 0_ts / 0_lab / 0_pi / 0_ac1 / 0_ac2\",\"R1 Structures: Frequency and Overall Score for ambas/lab/7_m / 0_ts / 1_lab / 0_pi / 0_ac1 / 0_ac2\",\"R1 Structures: Frequency and Overall Score for ambas/ts/7_m / 1_ts / 0_lab / 0_pi / 0_ac1 / 0_ac2\",\"R1 Structures: Frequency and Overall Score for ambas/PI\",\"R1 Structures: Frequency and Overall Score for ambas/ac1\",\"R1 Structures: Frequency and Overall Score for ambas/ac2\",\"R1 Structures: Frequency and Overall Score for ambas/lab\",\"R1 Structures: Frequency and Overall Score for ambas/m\",\"R1 Structures: Frequency and Overall Score for ambas/ts\",\"R1 Structures: Frequency and Overall Score for ambas\"],\"labels\":[\"0_m / 0_ts / 2_lab / 0_pi / 0_ac1 / 0_ac2\",\"0_m / 1_ts / 1_lab / 0_pi / 0_ac1 / 0_ac2\",\"0_m / 2_ts / 1_lab / 0_pi / 0_ac1 / 0_ac2\",\"0_m / 3_ts / 0_lab / 0_pi / 0_ac1 / 0_ac2\",\"1_m / 0_ts / 0_lab / 0_pi / 0_ac1 / 1_ac2\",\"1_m / 0_ts / 0_lab / 0_pi / 1_ac1 / 0_ac2\",\"1_m / 0_ts / 2_lab / 0_pi / 0_ac1 / 0_ac2\",\"1_m / 1_ts / 0_lab / 0_pi / 1_ac1 / 0_ac2\",\"1_m / 1_ts / 0_lab / 1_pi / 0_ac1 / 0_ac2\",\"1_m / 1_ts / 1_lab / 0_pi / 0_ac1 / 0_ac2\",\"1_m / 2_ts / 0_lab / 0_pi / 0_ac1 / 0_ac2\",\"1_m / 2_ts / 1_lab / 0_pi / 0_ac1 / 0_ac2\",\"1_m / 3_ts / 0_lab / 0_pi / 0_ac1 / 0_ac2\",\"2_m / 0_ts / 0_lab / 0_pi / 0_ac1 / 1_ac2\",\"2_m / 0_ts / 0_lab / 0_pi / 1_ac1 / 0_ac2\",\"2_m / 0_ts / 1_lab / 0_pi / 0_ac1 / 0_ac2\",\"2_m / 0_ts / 2_lab / 0_pi / 0_ac1 / 0_ac2\",\"2_m / 1_ts / 0_lab / 1_pi / 0_ac1 / 0_ac2\",\"2_m / 1_ts / 1_lab / 0_pi / 0_ac1 / 0_ac2\",\"2_m / 2_ts / 0_lab / 0_pi / 0_ac1 / 0_ac2\",\"2_m / 2_ts / 1_lab / 0_pi / 0_ac1 / 0_ac2\",\"2_m / 3_ts / 0_lab / 0_pi / 0_ac1 / 0_ac2\",\"3_m / 0_ts / 0_lab / 0_pi / 0_ac1 / 1_ac2\",\"3_m / 0_ts / 0_lab / 0_pi / 1_ac1 / 0_ac2\",\"3_m / 0_ts / 0_lab / 1_pi / 0_ac1 / 0_ac2\",\"3_m / 0_ts / 1_lab / 0_pi / 0_ac1 / 0_ac2\",\"3_m / 1_ts / 1_lab / 0_pi / 0_ac1 / 0_ac2\",\"3_m / 2_ts / 0_lab / 0_pi / 0_ac1 / 0_ac2\",\"4_m / 0_ts / 0_lab / 0_pi / 0_ac1 / 0_ac2\",\"4_m / 0_ts / 0_lab / 0_pi / 1_ac1 / 0_ac2\",\"4_m / 0_ts / 0_lab / 1_pi / 0_ac1 / 0_ac2\",\"4_m / 0_ts / 1_lab / 0_pi / 0_ac1 / 0_ac2\",\"4_m / 1_ts / 0_lab / 0_pi / 0_ac1 / 0_ac2\",\"4_m / 1_ts / 1_lab / 0_pi / 0_ac1 / 0_ac2\",\"4_m / 2_ts / 0_lab / 0_pi / 0_ac1 / 0_ac2\",\"5_m / 0_ts / 1_lab / 0_pi / 0_ac1 / 0_ac2\",\"5_m / 1_ts / 0_lab / 0_pi / 0_ac1 / 0_ac2\",\"5_m / 2_ts / 0_lab / 0_pi / 0_ac1 / 0_ac2\",\"6_m / 0_ts / 0_lab / 0_pi / 0_ac1 / 0_ac2\",\"6_m / 0_ts / 1_lab / 0_pi / 0_ac1 / 0_ac2\",\"6_m / 1_ts / 0_lab / 0_pi / 0_ac1 / 0_ac2\",\"7_m / 0_ts / 0_lab / 0_pi / 0_ac1 / 0_ac2\",\"7_m / 0_ts / 1_lab / 0_pi / 0_ac1 / 0_ac2\",\"7_m / 1_ts / 0_lab / 0_pi / 0_ac1 / 0_ac2\",\"PI\",\"ac1\",\"ac2\",\"lab\",\"m\",\"ts\",\"R1 Structures: Frequency and Overall Score for ambas\"],\"marker\":{\"coloraxis\":\"coloraxis\",\"colors\":[126.42857142857143,132.5,94.0,122.0,157.0,143.85087719298247,112.14285714285714,187.0,103.0,118.26923076923077,139.5,164.0,134.5,143.33333333333334,146.93170731707318,142.05128205128204,153.4,117.0,138.8361581920904,119.4,159.0,150.83333333333334,170.0,138.52631578947367,109.71428571428571,132.54285714285714,142.76470588235293,123.55555555555556,97.28571428571429,152.0,126.0,144.675,107.27272727272727,107.71428571428571,140.44827586206895,155.69135802469137,132.33333333333334,154.0,159.6,157.88888888888889,159.0,181.33333333333334,219.0,200.66666666666666,111.0,145.61807580174928,150.1,143.4698275862069,141.05,136.58241758241758,143.07784854918611]},\"name\":\"\",\"parents\":[\"R1 Structures: Frequency and Overall Score for ambas/lab\",\"R1 Structures: Frequency and Overall Score for ambas/lab\",\"R1 Structures: Frequency and Overall Score for ambas/lab\",\"R1 Structures: Frequency and Overall Score for ambas/ts\",\"R1 Structures: Frequency and Overall Score for ambas/ac2\",\"R1 Structures: Frequency and Overall Score for ambas/ac1\",\"R1 Structures: Frequency and Overall Score for ambas/lab\",\"R1 Structures: Frequency and Overall Score for ambas/ac1\",\"R1 Structures: Frequency and Overall Score for ambas/PI\",\"R1 Structures: Frequency and Overall Score for ambas/lab\",\"R1 Structures: Frequency and Overall Score for ambas/ts\",\"R1 Structures: Frequency and Overall Score for ambas/lab\",\"R1 Structures: Frequency and Overall Score for ambas/ts\",\"R1 Structures: Frequency and Overall Score for ambas/ac2\",\"R1 Structures: Frequency and Overall Score for ambas/ac1\",\"R1 Structures: Frequency and Overall Score for ambas/lab\",\"R1 Structures: Frequency and Overall Score for ambas/lab\",\"R1 Structures: Frequency and Overall Score for ambas/PI\",\"R1 Structures: Frequency and Overall Score for ambas/lab\",\"R1 Structures: Frequency and Overall Score for ambas/ts\",\"R1 Structures: Frequency and Overall Score for ambas/lab\",\"R1 Structures: Frequency and Overall Score for ambas/ts\",\"R1 Structures: Frequency and Overall Score for ambas/ac2\",\"R1 Structures: Frequency and Overall Score for ambas/ac1\",\"R1 Structures: Frequency and Overall Score for ambas/PI\",\"R1 Structures: Frequency and Overall Score for ambas/lab\",\"R1 Structures: Frequency and Overall Score for ambas/lab\",\"R1 Structures: Frequency and Overall Score for ambas/ts\",\"R1 Structures: Frequency and Overall Score for ambas/m\",\"R1 Structures: Frequency and Overall Score for ambas/ac1\",\"R1 Structures: Frequency and Overall Score for ambas/PI\",\"R1 Structures: Frequency and Overall Score for ambas/lab\",\"R1 Structures: Frequency and Overall Score for ambas/ts\",\"R1 Structures: Frequency and Overall Score for ambas/lab\",\"R1 Structures: Frequency and Overall Score for ambas/ts\",\"R1 Structures: Frequency and Overall Score for ambas/lab\",\"R1 Structures: Frequency and Overall Score for ambas/ts\",\"R1 Structures: Frequency and Overall Score for ambas/ts\",\"R1 Structures: Frequency and Overall Score for ambas/m\",\"R1 Structures: Frequency and Overall Score for ambas/lab\",\"R1 Structures: Frequency and Overall Score for ambas/ts\",\"R1 Structures: Frequency and Overall Score for ambas/m\",\"R1 Structures: Frequency and Overall Score for ambas/lab\",\"R1 Structures: Frequency and Overall Score for ambas/ts\",\"R1 Structures: Frequency and Overall Score for ambas\",\"R1 Structures: Frequency and Overall Score for ambas\",\"R1 Structures: Frequency and Overall Score for ambas\",\"R1 Structures: Frequency and Overall Score for ambas\",\"R1 Structures: Frequency and Overall Score for ambas\",\"R1 Structures: Frequency and Overall Score for ambas\",\"\"],\"values\":[7,2,1,2,3,114,7,1,3,26,2,1,2,6,205,39,5,2,177,5,2,6,1,19,14,70,34,9,7,4,2,360,11,7,29,162,12,2,10,27,8,3,1,3,21,343,10,928,20,91,1413],\"type\":\"treemap\"}],                        {\"template\":{\"data\":{\"bar\":[{\"error_x\":{\"color\":\"#2a3f5f\"},\"error_y\":{\"color\":\"#2a3f5f\"},\"marker\":{\"line\":{\"color\":\"#E5ECF6\",\"width\":0.5},\"pattern\":{\"fillmode\":\"overlay\",\"size\":10,\"solidity\":0.2}},\"type\":\"bar\"}],\"barpolar\":[{\"marker\":{\"line\":{\"color\":\"#E5ECF6\",\"width\":0.5},\"pattern\":{\"fillmode\":\"overlay\",\"size\":10,\"solidity\":0.2}},\"type\":\"barpolar\"}],\"carpet\":[{\"aaxis\":{\"endlinecolor\":\"#2a3f5f\",\"gridcolor\":\"white\",\"linecolor\":\"white\",\"minorgridcolor\":\"white\",\"startlinecolor\":\"#2a3f5f\"},\"baxis\":{\"endlinecolor\":\"#2a3f5f\",\"gridcolor\":\"white\",\"linecolor\":\"white\",\"minorgridcolor\":\"white\",\"startlinecolor\":\"#2a3f5f\"},\"type\":\"carpet\"}],\"choropleth\":[{\"colorbar\":{\"outlinewidth\":0,\"ticks\":\"\"},\"type\":\"choropleth\"}],\"contour\":[{\"colorbar\":{\"outlinewidth\":0,\"ticks\":\"\"},\"colorscale\":[[0.0,\"#0d0887\"],[0.1111111111111111,\"#46039f\"],[0.2222222222222222,\"#7201a8\"],[0.3333333333333333,\"#9c179e\"],[0.4444444444444444,\"#bd3786\"],[0.5555555555555556,\"#d8576b\"],[0.6666666666666666,\"#ed7953\"],[0.7777777777777778,\"#fb9f3a\"],[0.8888888888888888,\"#fdca26\"],[1.0,\"#f0f921\"]],\"type\":\"contour\"}],\"contourcarpet\":[{\"colorbar\":{\"outlinewidth\":0,\"ticks\":\"\"},\"type\":\"contourcarpet\"}],\"heatmap\":[{\"colorbar\":{\"outlinewidth\":0,\"ticks\":\"\"},\"colorscale\":[[0.0,\"#0d0887\"],[0.1111111111111111,\"#46039f\"],[0.2222222222222222,\"#7201a8\"],[0.3333333333333333,\"#9c179e\"],[0.4444444444444444,\"#bd3786\"],[0.5555555555555556,\"#d8576b\"],[0.6666666666666666,\"#ed7953\"],[0.7777777777777778,\"#fb9f3a\"],[0.8888888888888888,\"#fdca26\"],[1.0,\"#f0f921\"]],\"type\":\"heatmap\"}],\"heatmapgl\":[{\"colorbar\":{\"outlinewidth\":0,\"ticks\":\"\"},\"colorscale\":[[0.0,\"#0d0887\"],[0.1111111111111111,\"#46039f\"],[0.2222222222222222,\"#7201a8\"],[0.3333333333333333,\"#9c179e\"],[0.4444444444444444,\"#bd3786\"],[0.5555555555555556,\"#d8576b\"],[0.6666666666666666,\"#ed7953\"],[0.7777777777777778,\"#fb9f3a\"],[0.8888888888888888,\"#fdca26\"],[1.0,\"#f0f921\"]],\"type\":\"heatmapgl\"}],\"histogram\":[{\"marker\":{\"pattern\":{\"fillmode\":\"overlay\",\"size\":10,\"solidity\":0.2}},\"type\":\"histogram\"}],\"histogram2d\":[{\"colorbar\":{\"outlinewidth\":0,\"ticks\":\"\"},\"colorscale\":[[0.0,\"#0d0887\"],[0.1111111111111111,\"#46039f\"],[0.2222222222222222,\"#7201a8\"],[0.3333333333333333,\"#9c179e\"],[0.4444444444444444,\"#bd3786\"],[0.5555555555555556,\"#d8576b\"],[0.6666666666666666,\"#ed7953\"],[0.7777777777777778,\"#fb9f3a\"],[0.8888888888888888,\"#fdca26\"],[1.0,\"#f0f921\"]],\"type\":\"histogram2d\"}],\"histogram2dcontour\":[{\"colorbar\":{\"outlinewidth\":0,\"ticks\":\"\"},\"colorscale\":[[0.0,\"#0d0887\"],[0.1111111111111111,\"#46039f\"],[0.2222222222222222,\"#7201a8\"],[0.3333333333333333,\"#9c179e\"],[0.4444444444444444,\"#bd3786\"],[0.5555555555555556,\"#d8576b\"],[0.6666666666666666,\"#ed7953\"],[0.7777777777777778,\"#fb9f3a\"],[0.8888888888888888,\"#fdca26\"],[1.0,\"#f0f921\"]],\"type\":\"histogram2dcontour\"}],\"mesh3d\":[{\"colorbar\":{\"outlinewidth\":0,\"ticks\":\"\"},\"type\":\"mesh3d\"}],\"parcoords\":[{\"line\":{\"colorbar\":{\"outlinewidth\":0,\"ticks\":\"\"}},\"type\":\"parcoords\"}],\"pie\":[{\"automargin\":true,\"type\":\"pie\"}],\"scatter\":[{\"marker\":{\"colorbar\":{\"outlinewidth\":0,\"ticks\":\"\"}},\"type\":\"scatter\"}],\"scatter3d\":[{\"line\":{\"colorbar\":{\"outlinewidth\":0,\"ticks\":\"\"}},\"marker\":{\"colorbar\":{\"outlinewidth\":0,\"ticks\":\"\"}},\"type\":\"scatter3d\"}],\"scattercarpet\":[{\"marker\":{\"colorbar\":{\"outlinewidth\":0,\"ticks\":\"\"}},\"type\":\"scattercarpet\"}],\"scattergeo\":[{\"marker\":{\"colorbar\":{\"outlinewidth\":0,\"ticks\":\"\"}},\"type\":\"scattergeo\"}],\"scattergl\":[{\"marker\":{\"colorbar\":{\"outlinewidth\":0,\"ticks\":\"\"}},\"type\":\"scattergl\"}],\"scattermapbox\":[{\"marker\":{\"colorbar\":{\"outlinewidth\":0,\"ticks\":\"\"}},\"type\":\"scattermapbox\"}],\"scatterpolar\":[{\"marker\":{\"colorbar\":{\"outlinewidth\":0,\"ticks\":\"\"}},\"type\":\"scatterpolar\"}],\"scatterpolargl\":[{\"marker\":{\"colorbar\":{\"outlinewidth\":0,\"ticks\":\"\"}},\"type\":\"scatterpolargl\"}],\"scatterternary\":[{\"marker\":{\"colorbar\":{\"outlinewidth\":0,\"ticks\":\"\"}},\"type\":\"scatterternary\"}],\"surface\":[{\"colorbar\":{\"outlinewidth\":0,\"ticks\":\"\"},\"colorscale\":[[0.0,\"#0d0887\"],[0.1111111111111111,\"#46039f\"],[0.2222222222222222,\"#7201a8\"],[0.3333333333333333,\"#9c179e\"],[0.4444444444444444,\"#bd3786\"],[0.5555555555555556,\"#d8576b\"],[0.6666666666666666,\"#ed7953\"],[0.7777777777777778,\"#fb9f3a\"],[0.8888888888888888,\"#fdca26\"],[1.0,\"#f0f921\"]],\"type\":\"surface\"}],\"table\":[{\"cells\":{\"fill\":{\"color\":\"#EBF0F8\"},\"line\":{\"color\":\"white\"}},\"header\":{\"fill\":{\"color\":\"#C8D4E3\"},\"line\":{\"color\":\"white\"}},\"type\":\"table\"}]},\"layout\":{\"annotationdefaults\":{\"arrowcolor\":\"#2a3f5f\",\"arrowhead\":0,\"arrowwidth\":1},\"autotypenumbers\":\"strict\",\"coloraxis\":{\"colorbar\":{\"outlinewidth\":0,\"ticks\":\"\"}},\"colorscale\":{\"diverging\":[[0,\"#8e0152\"],[0.1,\"#c51b7d\"],[0.2,\"#de77ae\"],[0.3,\"#f1b6da\"],[0.4,\"#fde0ef\"],[0.5,\"#f7f7f7\"],[0.6,\"#e6f5d0\"],[0.7,\"#b8e186\"],[0.8,\"#7fbc41\"],[0.9,\"#4d9221\"],[1,\"#276419\"]],\"sequential\":[[0.0,\"#0d0887\"],[0.1111111111111111,\"#46039f\"],[0.2222222222222222,\"#7201a8\"],[0.3333333333333333,\"#9c179e\"],[0.4444444444444444,\"#bd3786\"],[0.5555555555555556,\"#d8576b\"],[0.6666666666666666,\"#ed7953\"],[0.7777777777777778,\"#fb9f3a\"],[0.8888888888888888,\"#fdca26\"],[1.0,\"#f0f921\"]],\"sequentialminus\":[[0.0,\"#0d0887\"],[0.1111111111111111,\"#46039f\"],[0.2222222222222222,\"#7201a8\"],[0.3333333333333333,\"#9c179e\"],[0.4444444444444444,\"#bd3786\"],[0.5555555555555556,\"#d8576b\"],[0.6666666666666666,\"#ed7953\"],[0.7777777777777778,\"#fb9f3a\"],[0.8888888888888888,\"#fdca26\"],[1.0,\"#f0f921\"]]},\"colorway\":[\"#636efa\",\"#EF553B\",\"#00cc96\",\"#ab63fa\",\"#FFA15A\",\"#19d3f3\",\"#FF6692\",\"#B6E880\",\"#FF97FF\",\"#FECB52\"],\"font\":{\"color\":\"#2a3f5f\"},\"geo\":{\"bgcolor\":\"white\",\"lakecolor\":\"white\",\"landcolor\":\"#E5ECF6\",\"showlakes\":true,\"showland\":true,\"subunitcolor\":\"white\"},\"hoverlabel\":{\"align\":\"left\"},\"hovermode\":\"closest\",\"mapbox\":{\"style\":\"light\"},\"paper_bgcolor\":\"white\",\"plot_bgcolor\":\"#E5ECF6\",\"polar\":{\"angularaxis\":{\"gridcolor\":\"white\",\"linecolor\":\"white\",\"ticks\":\"\"},\"bgcolor\":\"#E5ECF6\",\"radialaxis\":{\"gridcolor\":\"white\",\"linecolor\":\"white\",\"ticks\":\"\"}},\"scene\":{\"xaxis\":{\"backgroundcolor\":\"#E5ECF6\",\"gridcolor\":\"white\",\"gridwidth\":2,\"linecolor\":\"white\",\"showbackground\":true,\"ticks\":\"\",\"zerolinecolor\":\"white\"},\"yaxis\":{\"backgroundcolor\":\"#E5ECF6\",\"gridcolor\":\"white\",\"gridwidth\":2,\"linecolor\":\"white\",\"showbackground\":true,\"ticks\":\"\",\"zerolinecolor\":\"white\"},\"zaxis\":{\"backgroundcolor\":\"#E5ECF6\",\"gridcolor\":\"white\",\"gridwidth\":2,\"linecolor\":\"white\",\"showbackground\":true,\"ticks\":\"\",\"zerolinecolor\":\"white\"}},\"shapedefaults\":{\"line\":{\"color\":\"#2a3f5f\"}},\"ternary\":{\"aaxis\":{\"gridcolor\":\"white\",\"linecolor\":\"white\",\"ticks\":\"\"},\"baxis\":{\"gridcolor\":\"white\",\"linecolor\":\"white\",\"ticks\":\"\"},\"bgcolor\":\"#E5ECF6\",\"caxis\":{\"gridcolor\":\"white\",\"linecolor\":\"white\",\"ticks\":\"\"}},\"title\":{\"x\":0.05},\"xaxis\":{\"automargin\":true,\"gridcolor\":\"white\",\"linecolor\":\"white\",\"ticks\":\"\",\"title\":{\"standoff\":15},\"zerolinecolor\":\"white\",\"zerolinewidth\":2},\"yaxis\":{\"automargin\":true,\"gridcolor\":\"white\",\"linecolor\":\"white\",\"ticks\":\"\",\"title\":{\"standoff\":15},\"zerolinecolor\":\"white\",\"zerolinewidth\":2}}},\"coloraxis\":{\"colorbar\":{\"title\":{\"text\":\"overall_score_ambas\"}},\"colorscale\":[[0.0,\"rgb(103,0,31)\"],[0.1,\"rgb(178,24,43)\"],[0.2,\"rgb(214,96,77)\"],[0.3,\"rgb(244,165,130)\"],[0.4,\"rgb(253,219,199)\"],[0.5,\"rgb(247,247,247)\"],[0.6,\"rgb(209,229,240)\"],[0.7,\"rgb(146,197,222)\"],[0.8,\"rgb(67,147,195)\"],[0.9,\"rgb(33,102,172)\"],[1.0,\"rgb(5,48,97)\"]],\"cmid\":141.2497789566755},\"legend\":{\"tracegroupgap\":0},\"margin\":{\"t\":50,\"l\":25,\"r\":25,\"b\":25}},                        {\"responsive\": true}                    ).then(function(){\n",
       "                            \n",
       "var gd = document.getElementById('23d60bf0-bce3-47c4-95e7-abf03357c7f4');\n",
       "var x = new MutationObserver(function (mutations, observer) {{\n",
       "        var display = window.getComputedStyle(gd).display;\n",
       "        if (!display || display === 'none') {{\n",
       "            console.log([gd, 'removed!']);\n",
       "            Plotly.purge(gd);\n",
       "            observer.disconnect();\n",
       "        }}\n",
       "}});\n",
       "\n",
       "// Listen for the removal of the full notebook cells\n",
       "var notebookContainer = gd.closest('#notebook-container');\n",
       "if (notebookContainer) {{\n",
       "    x.observe(notebookContainer, {childList: true});\n",
       "}}\n",
       "\n",
       "// Listen for the clearing of the current output cell\n",
       "var outputEl = gd.closest('.output');\n",
       "if (outputEl) {{\n",
       "    x.observe(outputEl, {childList: true});\n",
       "}}\n",
       "\n",
       "                        })                };                });            </script>        </div>"
      ]
     },
     "metadata": {},
     "output_type": "display_data"
    },
    {
     "data": {
      "application/vnd.plotly.v1+json": {
       "config": {
        "plotlyServerURL": "https://plot.ly"
       },
       "data": [
        {
         "branchvalues": "total",
         "customdata": [
          [
           180.6341463414634,
           140.5609756097561
          ],
          [
           50.857142857142854,
           109.42857142857143
          ],
          [
           152.52272727272728,
           124.95454545454545
          ],
          [
           166.11111111111111,
           133.16666666666666
          ],
          [
           128,
           133
          ],
          [
           102.5,
           103
          ],
          [
           176.5,
           152
          ],
          [
           244.16190476190476,
           149.6095238095238
          ],
          [
           155.61290322580646,
           137.18064516129033
          ],
          [
           169.9777777777778,
           128.22222222222223
          ],
          [
           195.23076923076923,
           131.6153846153846
          ],
          [
           218,
           134.16666666666666
          ],
          [
           195.82539682539684,
           141
          ],
          [
           180.54098360655738,
           142.52459016393442
          ],
          [
           181.5,
           123
          ],
          [
           225.34782608695653,
           148.3695652173913
          ],
          [
           212.49608355091385,
           145.8289817232376
          ],
          [
           185.21559633027522,
           137.0137614678899
          ],
          [
           225.3,
           134.45
          ],
          [
           208.44642857142858,
           146.34821428571428
          ],
          [
           99.8,
           101.6
          ],
          [
           181,
           142.76666666666668
          ],
          [
           182.07692307692307,
           142.15384615384616
          ],
          [
           277,
           149
          ],
          [
           0,
           107.25
          ],
          [
           243.2,
           174.6
          ],
          [
           237.8090909090909,
           156.7
          ],
          [
           53.5,
           102.5
          ],
          [
           218.84615384615384,
           162.46153846153845
          ],
          [
           "(?)",
           142.9751655629139
          ],
          [
           "(?)",
           149.2317880794702
          ],
          [
           176.5,
           152
          ],
          [
           "(?)",
           142.39511494252875
          ],
          [
           0,
           107.25
          ],
          [
           "(?)",
           105.9090909090909
          ],
          [
           "(?)",
           142.98794599807135
          ]
         ],
         "domain": {
          "x": [
           0,
           1
          ],
          "y": [
           0,
           1
          ]
         },
         "hovertemplate": "labels=%{label}<br>class_counts=%{value}<br>parent=%{parent}<br>id=%{id}<br>overall_elo_terrans=%{customdata[0]}<br>overall_score_terrans=%{color}<extra></extra>",
         "ids": [
          "R1 Structures: Frequency and Overall Score for terrans/PI/0_m / 0_ts / 1_lab / 1_pi / 0_ac1 / 0_ac2",
          "R1 Structures: Frequency and Overall Score for terrans/lab/0_m / 0_ts / 2_lab / 0_pi / 0_ac1 / 0_ac2",
          "R1 Structures: Frequency and Overall Score for terrans/PI/0_m / 1_ts / 0_lab / 1_pi / 0_ac1 / 0_ac2",
          "R1 Structures: Frequency and Overall Score for terrans/lab/0_m / 1_ts / 1_lab / 0_pi / 0_ac1 / 0_ac2",
          "R1 Structures: Frequency and Overall Score for terrans/lab/0_m / 2_ts / 1_lab / 0_pi / 0_ac1 / 0_ac2",
          "R1 Structures: Frequency and Overall Score for terrans/ts/0_m / 3_ts / 0_lab / 0_pi / 0_ac1 / 0_ac2",
          "R1 Structures: Frequency and Overall Score for terrans/ac2/1_m / 0_ts / 0_lab / 0_pi / 0_ac1 / 1_ac2",
          "R1 Structures: Frequency and Overall Score for terrans/ac1/1_m / 0_ts / 0_lab / 0_pi / 1_ac1 / 0_ac2",
          "R1 Structures: Frequency and Overall Score for terrans/PI/1_m / 0_ts / 0_lab / 1_pi / 0_ac1 / 0_ac2",
          "R1 Structures: Frequency and Overall Score for terrans/lab/1_m / 0_ts / 1_lab / 0_pi / 0_ac1 / 0_ac2",
          "R1 Structures: Frequency and Overall Score for terrans/PI/1_m / 0_ts / 1_lab / 1_pi / 0_ac1 / 0_ac2",
          "R1 Structures: Frequency and Overall Score for terrans/lab/1_m / 0_ts / 2_lab / 0_pi / 0_ac1 / 0_ac2",
          "R1 Structures: Frequency and Overall Score for terrans/PI/1_m / 1_ts / 0_lab / 1_pi / 0_ac1 / 0_ac2",
          "R1 Structures: Frequency and Overall Score for terrans/lab/1_m / 1_ts / 1_lab / 0_pi / 0_ac1 / 0_ac2",
          "R1 Structures: Frequency and Overall Score for terrans/ts/1_m / 2_ts / 0_lab / 0_pi / 0_ac1 / 0_ac2",
          "R1 Structures: Frequency and Overall Score for terrans/ac1/2_m / 0_ts / 0_lab / 0_pi / 1_ac1 / 0_ac2",
          "R1 Structures: Frequency and Overall Score for terrans/PI/2_m / 0_ts / 0_lab / 1_pi / 0_ac1 / 0_ac2",
          "R1 Structures: Frequency and Overall Score for terrans/lab/2_m / 0_ts / 1_lab / 0_pi / 0_ac1 / 0_ac2",
          "R1 Structures: Frequency and Overall Score for terrans/PI/2_m / 1_ts / 0_lab / 1_pi / 0_ac1 / 0_ac2",
          "R1 Structures: Frequency and Overall Score for terrans/lab/2_m / 1_ts / 1_lab / 0_pi / 0_ac1 / 0_ac2",
          "R1 Structures: Frequency and Overall Score for terrans/ts/2_m / 2_ts / 0_lab / 0_pi / 0_ac1 / 0_ac2",
          "R1 Structures: Frequency and Overall Score for terrans/PI/3_m / 0_ts / 0_lab / 1_pi / 0_ac1 / 0_ac2",
          "R1 Structures: Frequency and Overall Score for terrans/lab/3_m / 0_ts / 1_lab / 0_pi / 0_ac1 / 0_ac2",
          "R1 Structures: Frequency and Overall Score for terrans/lab/3_m / 1_ts / 1_lab / 0_pi / 0_ac1 / 0_ac2",
          "R1 Structures: Frequency and Overall Score for terrans/m/4_m / 0_ts / 0_lab / 0_pi / 0_ac1 / 0_ac2",
          "R1 Structures: Frequency and Overall Score for terrans/PI/4_m / 0_ts / 0_lab / 1_pi / 0_ac1 / 0_ac2",
          "R1 Structures: Frequency and Overall Score for terrans/lab/4_m / 0_ts / 1_lab / 0_pi / 0_ac1 / 0_ac2",
          "R1 Structures: Frequency and Overall Score for terrans/ts/4_m / 1_ts / 0_lab / 0_pi / 0_ac1 / 0_ac2",
          "R1 Structures: Frequency and Overall Score for terrans/lab/5_m / 0_ts / 1_lab / 0_pi / 0_ac1 / 0_ac2",
          "R1 Structures: Frequency and Overall Score for terrans/PI",
          "R1 Structures: Frequency and Overall Score for terrans/ac1",
          "R1 Structures: Frequency and Overall Score for terrans/ac2",
          "R1 Structures: Frequency and Overall Score for terrans/lab",
          "R1 Structures: Frequency and Overall Score for terrans/m",
          "R1 Structures: Frequency and Overall Score for terrans/ts",
          "R1 Structures: Frequency and Overall Score for terrans"
         ],
         "labels": [
          "0_m / 0_ts / 1_lab / 1_pi / 0_ac1 / 0_ac2",
          "0_m / 0_ts / 2_lab / 0_pi / 0_ac1 / 0_ac2",
          "0_m / 1_ts / 0_lab / 1_pi / 0_ac1 / 0_ac2",
          "0_m / 1_ts / 1_lab / 0_pi / 0_ac1 / 0_ac2",
          "0_m / 2_ts / 1_lab / 0_pi / 0_ac1 / 0_ac2",
          "0_m / 3_ts / 0_lab / 0_pi / 0_ac1 / 0_ac2",
          "1_m / 0_ts / 0_lab / 0_pi / 0_ac1 / 1_ac2",
          "1_m / 0_ts / 0_lab / 0_pi / 1_ac1 / 0_ac2",
          "1_m / 0_ts / 0_lab / 1_pi / 0_ac1 / 0_ac2",
          "1_m / 0_ts / 1_lab / 0_pi / 0_ac1 / 0_ac2",
          "1_m / 0_ts / 1_lab / 1_pi / 0_ac1 / 0_ac2",
          "1_m / 0_ts / 2_lab / 0_pi / 0_ac1 / 0_ac2",
          "1_m / 1_ts / 0_lab / 1_pi / 0_ac1 / 0_ac2",
          "1_m / 1_ts / 1_lab / 0_pi / 0_ac1 / 0_ac2",
          "1_m / 2_ts / 0_lab / 0_pi / 0_ac1 / 0_ac2",
          "2_m / 0_ts / 0_lab / 0_pi / 1_ac1 / 0_ac2",
          "2_m / 0_ts / 0_lab / 1_pi / 0_ac1 / 0_ac2",
          "2_m / 0_ts / 1_lab / 0_pi / 0_ac1 / 0_ac2",
          "2_m / 1_ts / 0_lab / 1_pi / 0_ac1 / 0_ac2",
          "2_m / 1_ts / 1_lab / 0_pi / 0_ac1 / 0_ac2",
          "2_m / 2_ts / 0_lab / 0_pi / 0_ac1 / 0_ac2",
          "3_m / 0_ts / 0_lab / 1_pi / 0_ac1 / 0_ac2",
          "3_m / 0_ts / 1_lab / 0_pi / 0_ac1 / 0_ac2",
          "3_m / 1_ts / 1_lab / 0_pi / 0_ac1 / 0_ac2",
          "4_m / 0_ts / 0_lab / 0_pi / 0_ac1 / 0_ac2",
          "4_m / 0_ts / 0_lab / 1_pi / 0_ac1 / 0_ac2",
          "4_m / 0_ts / 1_lab / 0_pi / 0_ac1 / 0_ac2",
          "4_m / 1_ts / 0_lab / 0_pi / 0_ac1 / 0_ac2",
          "5_m / 0_ts / 1_lab / 0_pi / 0_ac1 / 0_ac2",
          "PI",
          "ac1",
          "ac2",
          "lab",
          "m",
          "ts",
          "R1 Structures: Frequency and Overall Score for terrans"
         ],
         "marker": {
          "coloraxis": "coloraxis",
          "colors": [
           140.5609756097561,
           109.42857142857143,
           124.95454545454545,
           133.16666666666666,
           133,
           103,
           152,
           149.6095238095238,
           137.18064516129033,
           128.22222222222223,
           131.6153846153846,
           134.16666666666666,
           141,
           142.52459016393442,
           123,
           148.3695652173913,
           145.8289817232376,
           137.0137614678899,
           134.45,
           146.34821428571428,
           101.6,
           142.76666666666668,
           142.15384615384616,
           149,
           107.25,
           174.6,
           156.7,
           102.5,
           162.46153846153845,
           142.9751655629139,
           149.2317880794702,
           152,
           142.39511494252875,
           107.25,
           105.9090909090909,
           142.98794599807135
          ]
         },
         "name": "",
         "parents": [
          "R1 Structures: Frequency and Overall Score for terrans/PI",
          "R1 Structures: Frequency and Overall Score for terrans/lab",
          "R1 Structures: Frequency and Overall Score for terrans/PI",
          "R1 Structures: Frequency and Overall Score for terrans/lab",
          "R1 Structures: Frequency and Overall Score for terrans/lab",
          "R1 Structures: Frequency and Overall Score for terrans/ts",
          "R1 Structures: Frequency and Overall Score for terrans/ac2",
          "R1 Structures: Frequency and Overall Score for terrans/ac1",
          "R1 Structures: Frequency and Overall Score for terrans/PI",
          "R1 Structures: Frequency and Overall Score for terrans/lab",
          "R1 Structures: Frequency and Overall Score for terrans/PI",
          "R1 Structures: Frequency and Overall Score for terrans/lab",
          "R1 Structures: Frequency and Overall Score for terrans/PI",
          "R1 Structures: Frequency and Overall Score for terrans/lab",
          "R1 Structures: Frequency and Overall Score for terrans/ts",
          "R1 Structures: Frequency and Overall Score for terrans/ac1",
          "R1 Structures: Frequency and Overall Score for terrans/PI",
          "R1 Structures: Frequency and Overall Score for terrans/lab",
          "R1 Structures: Frequency and Overall Score for terrans/PI",
          "R1 Structures: Frequency and Overall Score for terrans/lab",
          "R1 Structures: Frequency and Overall Score for terrans/ts",
          "R1 Structures: Frequency and Overall Score for terrans/PI",
          "R1 Structures: Frequency and Overall Score for terrans/lab",
          "R1 Structures: Frequency and Overall Score for terrans/lab",
          "R1 Structures: Frequency and Overall Score for terrans/m",
          "R1 Structures: Frequency and Overall Score for terrans/PI",
          "R1 Structures: Frequency and Overall Score for terrans/lab",
          "R1 Structures: Frequency and Overall Score for terrans/ts",
          "R1 Structures: Frequency and Overall Score for terrans/lab",
          "R1 Structures: Frequency and Overall Score for terrans",
          "R1 Structures: Frequency and Overall Score for terrans",
          "R1 Structures: Frequency and Overall Score for terrans",
          "R1 Structures: Frequency and Overall Score for terrans",
          "R1 Structures: Frequency and Overall Score for terrans",
          "R1 Structures: Frequency and Overall Score for terrans",
          ""
         ],
         "type": "treemap",
         "values": [
          82,
          7,
          44,
          18,
          1,
          2,
          4,
          105,
          155,
          45,
          13,
          6,
          63,
          61,
          2,
          46,
          766,
          218,
          20,
          112,
          5,
          60,
          104,
          1,
          4,
          5,
          110,
          2,
          13,
          1208,
          151,
          4,
          696,
          4,
          11,
          2074
         ]
        }
       ],
       "layout": {
        "coloraxis": {
         "cmid": 137.18064516129033,
         "colorbar": {
          "title": {
           "text": "overall_score_terrans"
          }
         },
         "colorscale": [
          [
           0,
           "rgb(103,0,31)"
          ],
          [
           0.1,
           "rgb(178,24,43)"
          ],
          [
           0.2,
           "rgb(214,96,77)"
          ],
          [
           0.3,
           "rgb(244,165,130)"
          ],
          [
           0.4,
           "rgb(253,219,199)"
          ],
          [
           0.5,
           "rgb(247,247,247)"
          ],
          [
           0.6,
           "rgb(209,229,240)"
          ],
          [
           0.7,
           "rgb(146,197,222)"
          ],
          [
           0.8,
           "rgb(67,147,195)"
          ],
          [
           0.9,
           "rgb(33,102,172)"
          ],
          [
           1,
           "rgb(5,48,97)"
          ]
         ]
        },
        "legend": {
         "tracegroupgap": 0
        },
        "margin": {
         "b": 25,
         "l": 25,
         "r": 25,
         "t": 50
        },
        "template": {
         "data": {
          "bar": [
           {
            "error_x": {
             "color": "#2a3f5f"
            },
            "error_y": {
             "color": "#2a3f5f"
            },
            "marker": {
             "line": {
              "color": "#E5ECF6",
              "width": 0.5
             },
             "pattern": {
              "fillmode": "overlay",
              "size": 10,
              "solidity": 0.2
             }
            },
            "type": "bar"
           }
          ],
          "barpolar": [
           {
            "marker": {
             "line": {
              "color": "#E5ECF6",
              "width": 0.5
             },
             "pattern": {
              "fillmode": "overlay",
              "size": 10,
              "solidity": 0.2
             }
            },
            "type": "barpolar"
           }
          ],
          "carpet": [
           {
            "aaxis": {
             "endlinecolor": "#2a3f5f",
             "gridcolor": "white",
             "linecolor": "white",
             "minorgridcolor": "white",
             "startlinecolor": "#2a3f5f"
            },
            "baxis": {
             "endlinecolor": "#2a3f5f",
             "gridcolor": "white",
             "linecolor": "white",
             "minorgridcolor": "white",
             "startlinecolor": "#2a3f5f"
            },
            "type": "carpet"
           }
          ],
          "choropleth": [
           {
            "colorbar": {
             "outlinewidth": 0,
             "ticks": ""
            },
            "type": "choropleth"
           }
          ],
          "contour": [
           {
            "colorbar": {
             "outlinewidth": 0,
             "ticks": ""
            },
            "colorscale": [
             [
              0,
              "#0d0887"
             ],
             [
              0.1111111111111111,
              "#46039f"
             ],
             [
              0.2222222222222222,
              "#7201a8"
             ],
             [
              0.3333333333333333,
              "#9c179e"
             ],
             [
              0.4444444444444444,
              "#bd3786"
             ],
             [
              0.5555555555555556,
              "#d8576b"
             ],
             [
              0.6666666666666666,
              "#ed7953"
             ],
             [
              0.7777777777777778,
              "#fb9f3a"
             ],
             [
              0.8888888888888888,
              "#fdca26"
             ],
             [
              1,
              "#f0f921"
             ]
            ],
            "type": "contour"
           }
          ],
          "contourcarpet": [
           {
            "colorbar": {
             "outlinewidth": 0,
             "ticks": ""
            },
            "type": "contourcarpet"
           }
          ],
          "heatmap": [
           {
            "colorbar": {
             "outlinewidth": 0,
             "ticks": ""
            },
            "colorscale": [
             [
              0,
              "#0d0887"
             ],
             [
              0.1111111111111111,
              "#46039f"
             ],
             [
              0.2222222222222222,
              "#7201a8"
             ],
             [
              0.3333333333333333,
              "#9c179e"
             ],
             [
              0.4444444444444444,
              "#bd3786"
             ],
             [
              0.5555555555555556,
              "#d8576b"
             ],
             [
              0.6666666666666666,
              "#ed7953"
             ],
             [
              0.7777777777777778,
              "#fb9f3a"
             ],
             [
              0.8888888888888888,
              "#fdca26"
             ],
             [
              1,
              "#f0f921"
             ]
            ],
            "type": "heatmap"
           }
          ],
          "heatmapgl": [
           {
            "colorbar": {
             "outlinewidth": 0,
             "ticks": ""
            },
            "colorscale": [
             [
              0,
              "#0d0887"
             ],
             [
              0.1111111111111111,
              "#46039f"
             ],
             [
              0.2222222222222222,
              "#7201a8"
             ],
             [
              0.3333333333333333,
              "#9c179e"
             ],
             [
              0.4444444444444444,
              "#bd3786"
             ],
             [
              0.5555555555555556,
              "#d8576b"
             ],
             [
              0.6666666666666666,
              "#ed7953"
             ],
             [
              0.7777777777777778,
              "#fb9f3a"
             ],
             [
              0.8888888888888888,
              "#fdca26"
             ],
             [
              1,
              "#f0f921"
             ]
            ],
            "type": "heatmapgl"
           }
          ],
          "histogram": [
           {
            "marker": {
             "pattern": {
              "fillmode": "overlay",
              "size": 10,
              "solidity": 0.2
             }
            },
            "type": "histogram"
           }
          ],
          "histogram2d": [
           {
            "colorbar": {
             "outlinewidth": 0,
             "ticks": ""
            },
            "colorscale": [
             [
              0,
              "#0d0887"
             ],
             [
              0.1111111111111111,
              "#46039f"
             ],
             [
              0.2222222222222222,
              "#7201a8"
             ],
             [
              0.3333333333333333,
              "#9c179e"
             ],
             [
              0.4444444444444444,
              "#bd3786"
             ],
             [
              0.5555555555555556,
              "#d8576b"
             ],
             [
              0.6666666666666666,
              "#ed7953"
             ],
             [
              0.7777777777777778,
              "#fb9f3a"
             ],
             [
              0.8888888888888888,
              "#fdca26"
             ],
             [
              1,
              "#f0f921"
             ]
            ],
            "type": "histogram2d"
           }
          ],
          "histogram2dcontour": [
           {
            "colorbar": {
             "outlinewidth": 0,
             "ticks": ""
            },
            "colorscale": [
             [
              0,
              "#0d0887"
             ],
             [
              0.1111111111111111,
              "#46039f"
             ],
             [
              0.2222222222222222,
              "#7201a8"
             ],
             [
              0.3333333333333333,
              "#9c179e"
             ],
             [
              0.4444444444444444,
              "#bd3786"
             ],
             [
              0.5555555555555556,
              "#d8576b"
             ],
             [
              0.6666666666666666,
              "#ed7953"
             ],
             [
              0.7777777777777778,
              "#fb9f3a"
             ],
             [
              0.8888888888888888,
              "#fdca26"
             ],
             [
              1,
              "#f0f921"
             ]
            ],
            "type": "histogram2dcontour"
           }
          ],
          "mesh3d": [
           {
            "colorbar": {
             "outlinewidth": 0,
             "ticks": ""
            },
            "type": "mesh3d"
           }
          ],
          "parcoords": [
           {
            "line": {
             "colorbar": {
              "outlinewidth": 0,
              "ticks": ""
             }
            },
            "type": "parcoords"
           }
          ],
          "pie": [
           {
            "automargin": true,
            "type": "pie"
           }
          ],
          "scatter": [
           {
            "marker": {
             "colorbar": {
              "outlinewidth": 0,
              "ticks": ""
             }
            },
            "type": "scatter"
           }
          ],
          "scatter3d": [
           {
            "line": {
             "colorbar": {
              "outlinewidth": 0,
              "ticks": ""
             }
            },
            "marker": {
             "colorbar": {
              "outlinewidth": 0,
              "ticks": ""
             }
            },
            "type": "scatter3d"
           }
          ],
          "scattercarpet": [
           {
            "marker": {
             "colorbar": {
              "outlinewidth": 0,
              "ticks": ""
             }
            },
            "type": "scattercarpet"
           }
          ],
          "scattergeo": [
           {
            "marker": {
             "colorbar": {
              "outlinewidth": 0,
              "ticks": ""
             }
            },
            "type": "scattergeo"
           }
          ],
          "scattergl": [
           {
            "marker": {
             "colorbar": {
              "outlinewidth": 0,
              "ticks": ""
             }
            },
            "type": "scattergl"
           }
          ],
          "scattermapbox": [
           {
            "marker": {
             "colorbar": {
              "outlinewidth": 0,
              "ticks": ""
             }
            },
            "type": "scattermapbox"
           }
          ],
          "scatterpolar": [
           {
            "marker": {
             "colorbar": {
              "outlinewidth": 0,
              "ticks": ""
             }
            },
            "type": "scatterpolar"
           }
          ],
          "scatterpolargl": [
           {
            "marker": {
             "colorbar": {
              "outlinewidth": 0,
              "ticks": ""
             }
            },
            "type": "scatterpolargl"
           }
          ],
          "scatterternary": [
           {
            "marker": {
             "colorbar": {
              "outlinewidth": 0,
              "ticks": ""
             }
            },
            "type": "scatterternary"
           }
          ],
          "surface": [
           {
            "colorbar": {
             "outlinewidth": 0,
             "ticks": ""
            },
            "colorscale": [
             [
              0,
              "#0d0887"
             ],
             [
              0.1111111111111111,
              "#46039f"
             ],
             [
              0.2222222222222222,
              "#7201a8"
             ],
             [
              0.3333333333333333,
              "#9c179e"
             ],
             [
              0.4444444444444444,
              "#bd3786"
             ],
             [
              0.5555555555555556,
              "#d8576b"
             ],
             [
              0.6666666666666666,
              "#ed7953"
             ],
             [
              0.7777777777777778,
              "#fb9f3a"
             ],
             [
              0.8888888888888888,
              "#fdca26"
             ],
             [
              1,
              "#f0f921"
             ]
            ],
            "type": "surface"
           }
          ],
          "table": [
           {
            "cells": {
             "fill": {
              "color": "#EBF0F8"
             },
             "line": {
              "color": "white"
             }
            },
            "header": {
             "fill": {
              "color": "#C8D4E3"
             },
             "line": {
              "color": "white"
             }
            },
            "type": "table"
           }
          ]
         },
         "layout": {
          "annotationdefaults": {
           "arrowcolor": "#2a3f5f",
           "arrowhead": 0,
           "arrowwidth": 1
          },
          "autotypenumbers": "strict",
          "coloraxis": {
           "colorbar": {
            "outlinewidth": 0,
            "ticks": ""
           }
          },
          "colorscale": {
           "diverging": [
            [
             0,
             "#8e0152"
            ],
            [
             0.1,
             "#c51b7d"
            ],
            [
             0.2,
             "#de77ae"
            ],
            [
             0.3,
             "#f1b6da"
            ],
            [
             0.4,
             "#fde0ef"
            ],
            [
             0.5,
             "#f7f7f7"
            ],
            [
             0.6,
             "#e6f5d0"
            ],
            [
             0.7,
             "#b8e186"
            ],
            [
             0.8,
             "#7fbc41"
            ],
            [
             0.9,
             "#4d9221"
            ],
            [
             1,
             "#276419"
            ]
           ],
           "sequential": [
            [
             0,
             "#0d0887"
            ],
            [
             0.1111111111111111,
             "#46039f"
            ],
            [
             0.2222222222222222,
             "#7201a8"
            ],
            [
             0.3333333333333333,
             "#9c179e"
            ],
            [
             0.4444444444444444,
             "#bd3786"
            ],
            [
             0.5555555555555556,
             "#d8576b"
            ],
            [
             0.6666666666666666,
             "#ed7953"
            ],
            [
             0.7777777777777778,
             "#fb9f3a"
            ],
            [
             0.8888888888888888,
             "#fdca26"
            ],
            [
             1,
             "#f0f921"
            ]
           ],
           "sequentialminus": [
            [
             0,
             "#0d0887"
            ],
            [
             0.1111111111111111,
             "#46039f"
            ],
            [
             0.2222222222222222,
             "#7201a8"
            ],
            [
             0.3333333333333333,
             "#9c179e"
            ],
            [
             0.4444444444444444,
             "#bd3786"
            ],
            [
             0.5555555555555556,
             "#d8576b"
            ],
            [
             0.6666666666666666,
             "#ed7953"
            ],
            [
             0.7777777777777778,
             "#fb9f3a"
            ],
            [
             0.8888888888888888,
             "#fdca26"
            ],
            [
             1,
             "#f0f921"
            ]
           ]
          },
          "colorway": [
           "#636efa",
           "#EF553B",
           "#00cc96",
           "#ab63fa",
           "#FFA15A",
           "#19d3f3",
           "#FF6692",
           "#B6E880",
           "#FF97FF",
           "#FECB52"
          ],
          "font": {
           "color": "#2a3f5f"
          },
          "geo": {
           "bgcolor": "white",
           "lakecolor": "white",
           "landcolor": "#E5ECF6",
           "showlakes": true,
           "showland": true,
           "subunitcolor": "white"
          },
          "hoverlabel": {
           "align": "left"
          },
          "hovermode": "closest",
          "mapbox": {
           "style": "light"
          },
          "paper_bgcolor": "white",
          "plot_bgcolor": "#E5ECF6",
          "polar": {
           "angularaxis": {
            "gridcolor": "white",
            "linecolor": "white",
            "ticks": ""
           },
           "bgcolor": "#E5ECF6",
           "radialaxis": {
            "gridcolor": "white",
            "linecolor": "white",
            "ticks": ""
           }
          },
          "scene": {
           "xaxis": {
            "backgroundcolor": "#E5ECF6",
            "gridcolor": "white",
            "gridwidth": 2,
            "linecolor": "white",
            "showbackground": true,
            "ticks": "",
            "zerolinecolor": "white"
           },
           "yaxis": {
            "backgroundcolor": "#E5ECF6",
            "gridcolor": "white",
            "gridwidth": 2,
            "linecolor": "white",
            "showbackground": true,
            "ticks": "",
            "zerolinecolor": "white"
           },
           "zaxis": {
            "backgroundcolor": "#E5ECF6",
            "gridcolor": "white",
            "gridwidth": 2,
            "linecolor": "white",
            "showbackground": true,
            "ticks": "",
            "zerolinecolor": "white"
           }
          },
          "shapedefaults": {
           "line": {
            "color": "#2a3f5f"
           }
          },
          "ternary": {
           "aaxis": {
            "gridcolor": "white",
            "linecolor": "white",
            "ticks": ""
           },
           "baxis": {
            "gridcolor": "white",
            "linecolor": "white",
            "ticks": ""
           },
           "bgcolor": "#E5ECF6",
           "caxis": {
            "gridcolor": "white",
            "linecolor": "white",
            "ticks": ""
           }
          },
          "title": {
           "x": 0.05
          },
          "xaxis": {
           "automargin": true,
           "gridcolor": "white",
           "linecolor": "white",
           "ticks": "",
           "title": {
            "standoff": 15
           },
           "zerolinecolor": "white",
           "zerolinewidth": 2
          },
          "yaxis": {
           "automargin": true,
           "gridcolor": "white",
           "linecolor": "white",
           "ticks": "",
           "title": {
            "standoff": 15
           },
           "zerolinecolor": "white",
           "zerolinewidth": 2
          }
         }
        }
       }
      },
      "text/html": [
       "<div>                            <div id=\"5e48a7d1-c669-4e23-bdfd-f038d653cca3\" class=\"plotly-graph-div\" style=\"height:525px; width:100%;\"></div>            <script type=\"text/javascript\">                require([\"plotly\"], function(Plotly) {                    window.PLOTLYENV=window.PLOTLYENV || {};                                    if (document.getElementById(\"5e48a7d1-c669-4e23-bdfd-f038d653cca3\")) {                    Plotly.newPlot(                        \"5e48a7d1-c669-4e23-bdfd-f038d653cca3\",                        [{\"branchvalues\":\"total\",\"customdata\":[[180.6341463414634,140.5609756097561],[50.857142857142854,109.42857142857143],[152.52272727272728,124.95454545454545],[166.11111111111111,133.16666666666666],[128.0,133.0],[102.5,103.0],[176.5,152.0],[244.16190476190476,149.6095238095238],[155.61290322580646,137.18064516129033],[169.9777777777778,128.22222222222223],[195.23076923076923,131.6153846153846],[218.0,134.16666666666666],[195.82539682539684,141.0],[180.54098360655738,142.52459016393442],[181.5,123.0],[225.34782608695653,148.3695652173913],[212.49608355091385,145.8289817232376],[185.21559633027522,137.0137614678899],[225.3,134.45],[208.44642857142858,146.34821428571428],[99.8,101.6],[181.0,142.76666666666668],[182.07692307692307,142.15384615384616],[277.0,149.0],[0.0,107.25],[243.2,174.6],[237.8090909090909,156.7],[53.5,102.5],[218.84615384615384,162.46153846153845],[\"(?)\",142.9751655629139],[\"(?)\",149.2317880794702],[176.5,152.0],[\"(?)\",142.39511494252875],[0.0,107.25],[\"(?)\",105.9090909090909],[\"(?)\",142.98794599807135]],\"domain\":{\"x\":[0.0,1.0],\"y\":[0.0,1.0]},\"hovertemplate\":\"labels=%{label}<br>class_counts=%{value}<br>parent=%{parent}<br>id=%{id}<br>overall_elo_terrans=%{customdata[0]}<br>overall_score_terrans=%{color}<extra></extra>\",\"ids\":[\"R1 Structures: Frequency and Overall Score for terrans/PI/0_m / 0_ts / 1_lab / 1_pi / 0_ac1 / 0_ac2\",\"R1 Structures: Frequency and Overall Score for terrans/lab/0_m / 0_ts / 2_lab / 0_pi / 0_ac1 / 0_ac2\",\"R1 Structures: Frequency and Overall Score for terrans/PI/0_m / 1_ts / 0_lab / 1_pi / 0_ac1 / 0_ac2\",\"R1 Structures: Frequency and Overall Score for terrans/lab/0_m / 1_ts / 1_lab / 0_pi / 0_ac1 / 0_ac2\",\"R1 Structures: Frequency and Overall Score for terrans/lab/0_m / 2_ts / 1_lab / 0_pi / 0_ac1 / 0_ac2\",\"R1 Structures: Frequency and Overall Score for terrans/ts/0_m / 3_ts / 0_lab / 0_pi / 0_ac1 / 0_ac2\",\"R1 Structures: Frequency and Overall Score for terrans/ac2/1_m / 0_ts / 0_lab / 0_pi / 0_ac1 / 1_ac2\",\"R1 Structures: Frequency and Overall Score for terrans/ac1/1_m / 0_ts / 0_lab / 0_pi / 1_ac1 / 0_ac2\",\"R1 Structures: Frequency and Overall Score for terrans/PI/1_m / 0_ts / 0_lab / 1_pi / 0_ac1 / 0_ac2\",\"R1 Structures: Frequency and Overall Score for terrans/lab/1_m / 0_ts / 1_lab / 0_pi / 0_ac1 / 0_ac2\",\"R1 Structures: Frequency and Overall Score for terrans/PI/1_m / 0_ts / 1_lab / 1_pi / 0_ac1 / 0_ac2\",\"R1 Structures: Frequency and Overall Score for terrans/lab/1_m / 0_ts / 2_lab / 0_pi / 0_ac1 / 0_ac2\",\"R1 Structures: Frequency and Overall Score for terrans/PI/1_m / 1_ts / 0_lab / 1_pi / 0_ac1 / 0_ac2\",\"R1 Structures: Frequency and Overall Score for terrans/lab/1_m / 1_ts / 1_lab / 0_pi / 0_ac1 / 0_ac2\",\"R1 Structures: Frequency and Overall Score for terrans/ts/1_m / 2_ts / 0_lab / 0_pi / 0_ac1 / 0_ac2\",\"R1 Structures: Frequency and Overall Score for terrans/ac1/2_m / 0_ts / 0_lab / 0_pi / 1_ac1 / 0_ac2\",\"R1 Structures: Frequency and Overall Score for terrans/PI/2_m / 0_ts / 0_lab / 1_pi / 0_ac1 / 0_ac2\",\"R1 Structures: Frequency and Overall Score for terrans/lab/2_m / 0_ts / 1_lab / 0_pi / 0_ac1 / 0_ac2\",\"R1 Structures: Frequency and Overall Score for terrans/PI/2_m / 1_ts / 0_lab / 1_pi / 0_ac1 / 0_ac2\",\"R1 Structures: Frequency and Overall Score for terrans/lab/2_m / 1_ts / 1_lab / 0_pi / 0_ac1 / 0_ac2\",\"R1 Structures: Frequency and Overall Score for terrans/ts/2_m / 2_ts / 0_lab / 0_pi / 0_ac1 / 0_ac2\",\"R1 Structures: Frequency and Overall Score for terrans/PI/3_m / 0_ts / 0_lab / 1_pi / 0_ac1 / 0_ac2\",\"R1 Structures: Frequency and Overall Score for terrans/lab/3_m / 0_ts / 1_lab / 0_pi / 0_ac1 / 0_ac2\",\"R1 Structures: Frequency and Overall Score for terrans/lab/3_m / 1_ts / 1_lab / 0_pi / 0_ac1 / 0_ac2\",\"R1 Structures: Frequency and Overall Score for terrans/m/4_m / 0_ts / 0_lab / 0_pi / 0_ac1 / 0_ac2\",\"R1 Structures: Frequency and Overall Score for terrans/PI/4_m / 0_ts / 0_lab / 1_pi / 0_ac1 / 0_ac2\",\"R1 Structures: Frequency and Overall Score for terrans/lab/4_m / 0_ts / 1_lab / 0_pi / 0_ac1 / 0_ac2\",\"R1 Structures: Frequency and Overall Score for terrans/ts/4_m / 1_ts / 0_lab / 0_pi / 0_ac1 / 0_ac2\",\"R1 Structures: Frequency and Overall Score for terrans/lab/5_m / 0_ts / 1_lab / 0_pi / 0_ac1 / 0_ac2\",\"R1 Structures: Frequency and Overall Score for terrans/PI\",\"R1 Structures: Frequency and Overall Score for terrans/ac1\",\"R1 Structures: Frequency and Overall Score for terrans/ac2\",\"R1 Structures: Frequency and Overall Score for terrans/lab\",\"R1 Structures: Frequency and Overall Score for terrans/m\",\"R1 Structures: Frequency and Overall Score for terrans/ts\",\"R1 Structures: Frequency and Overall Score for terrans\"],\"labels\":[\"0_m / 0_ts / 1_lab / 1_pi / 0_ac1 / 0_ac2\",\"0_m / 0_ts / 2_lab / 0_pi / 0_ac1 / 0_ac2\",\"0_m / 1_ts / 0_lab / 1_pi / 0_ac1 / 0_ac2\",\"0_m / 1_ts / 1_lab / 0_pi / 0_ac1 / 0_ac2\",\"0_m / 2_ts / 1_lab / 0_pi / 0_ac1 / 0_ac2\",\"0_m / 3_ts / 0_lab / 0_pi / 0_ac1 / 0_ac2\",\"1_m / 0_ts / 0_lab / 0_pi / 0_ac1 / 1_ac2\",\"1_m / 0_ts / 0_lab / 0_pi / 1_ac1 / 0_ac2\",\"1_m / 0_ts / 0_lab / 1_pi / 0_ac1 / 0_ac2\",\"1_m / 0_ts / 1_lab / 0_pi / 0_ac1 / 0_ac2\",\"1_m / 0_ts / 1_lab / 1_pi / 0_ac1 / 0_ac2\",\"1_m / 0_ts / 2_lab / 0_pi / 0_ac1 / 0_ac2\",\"1_m / 1_ts / 0_lab / 1_pi / 0_ac1 / 0_ac2\",\"1_m / 1_ts / 1_lab / 0_pi / 0_ac1 / 0_ac2\",\"1_m / 2_ts / 0_lab / 0_pi / 0_ac1 / 0_ac2\",\"2_m / 0_ts / 0_lab / 0_pi / 1_ac1 / 0_ac2\",\"2_m / 0_ts / 0_lab / 1_pi / 0_ac1 / 0_ac2\",\"2_m / 0_ts / 1_lab / 0_pi / 0_ac1 / 0_ac2\",\"2_m / 1_ts / 0_lab / 1_pi / 0_ac1 / 0_ac2\",\"2_m / 1_ts / 1_lab / 0_pi / 0_ac1 / 0_ac2\",\"2_m / 2_ts / 0_lab / 0_pi / 0_ac1 / 0_ac2\",\"3_m / 0_ts / 0_lab / 1_pi / 0_ac1 / 0_ac2\",\"3_m / 0_ts / 1_lab / 0_pi / 0_ac1 / 0_ac2\",\"3_m / 1_ts / 1_lab / 0_pi / 0_ac1 / 0_ac2\",\"4_m / 0_ts / 0_lab / 0_pi / 0_ac1 / 0_ac2\",\"4_m / 0_ts / 0_lab / 1_pi / 0_ac1 / 0_ac2\",\"4_m / 0_ts / 1_lab / 0_pi / 0_ac1 / 0_ac2\",\"4_m / 1_ts / 0_lab / 0_pi / 0_ac1 / 0_ac2\",\"5_m / 0_ts / 1_lab / 0_pi / 0_ac1 / 0_ac2\",\"PI\",\"ac1\",\"ac2\",\"lab\",\"m\",\"ts\",\"R1 Structures: Frequency and Overall Score for terrans\"],\"marker\":{\"coloraxis\":\"coloraxis\",\"colors\":[140.5609756097561,109.42857142857143,124.95454545454545,133.16666666666666,133.0,103.0,152.0,149.6095238095238,137.18064516129033,128.22222222222223,131.6153846153846,134.16666666666666,141.0,142.52459016393442,123.0,148.3695652173913,145.8289817232376,137.0137614678899,134.45,146.34821428571428,101.6,142.76666666666668,142.15384615384616,149.0,107.25,174.6,156.7,102.5,162.46153846153845,142.9751655629139,149.2317880794702,152.0,142.39511494252875,107.25,105.9090909090909,142.98794599807135]},\"name\":\"\",\"parents\":[\"R1 Structures: Frequency and Overall Score for terrans/PI\",\"R1 Structures: Frequency and Overall Score for terrans/lab\",\"R1 Structures: Frequency and Overall Score for terrans/PI\",\"R1 Structures: Frequency and Overall Score for terrans/lab\",\"R1 Structures: Frequency and Overall Score for terrans/lab\",\"R1 Structures: Frequency and Overall Score for terrans/ts\",\"R1 Structures: Frequency and Overall Score for terrans/ac2\",\"R1 Structures: Frequency and Overall Score for terrans/ac1\",\"R1 Structures: Frequency and Overall Score for terrans/PI\",\"R1 Structures: Frequency and Overall Score for terrans/lab\",\"R1 Structures: Frequency and Overall Score for terrans/PI\",\"R1 Structures: Frequency and Overall Score for terrans/lab\",\"R1 Structures: Frequency and Overall Score for terrans/PI\",\"R1 Structures: Frequency and Overall Score for terrans/lab\",\"R1 Structures: Frequency and Overall Score for terrans/ts\",\"R1 Structures: Frequency and Overall Score for terrans/ac1\",\"R1 Structures: Frequency and Overall Score for terrans/PI\",\"R1 Structures: Frequency and Overall Score for terrans/lab\",\"R1 Structures: Frequency and Overall Score for terrans/PI\",\"R1 Structures: Frequency and Overall Score for terrans/lab\",\"R1 Structures: Frequency and Overall Score for terrans/ts\",\"R1 Structures: Frequency and Overall Score for terrans/PI\",\"R1 Structures: Frequency and Overall Score for terrans/lab\",\"R1 Structures: Frequency and Overall Score for terrans/lab\",\"R1 Structures: Frequency and Overall Score for terrans/m\",\"R1 Structures: Frequency and Overall Score for terrans/PI\",\"R1 Structures: Frequency and Overall Score for terrans/lab\",\"R1 Structures: Frequency and Overall Score for terrans/ts\",\"R1 Structures: Frequency and Overall Score for terrans/lab\",\"R1 Structures: Frequency and Overall Score for terrans\",\"R1 Structures: Frequency and Overall Score for terrans\",\"R1 Structures: Frequency and Overall Score for terrans\",\"R1 Structures: Frequency and Overall Score for terrans\",\"R1 Structures: Frequency and Overall Score for terrans\",\"R1 Structures: Frequency and Overall Score for terrans\",\"\"],\"values\":[82,7,44,18,1,2,4,105,155,45,13,6,63,61,2,46,766,218,20,112,5,60,104,1,4,5,110,2,13,1208,151,4,696,4,11,2074],\"type\":\"treemap\"}],                        {\"template\":{\"data\":{\"bar\":[{\"error_x\":{\"color\":\"#2a3f5f\"},\"error_y\":{\"color\":\"#2a3f5f\"},\"marker\":{\"line\":{\"color\":\"#E5ECF6\",\"width\":0.5},\"pattern\":{\"fillmode\":\"overlay\",\"size\":10,\"solidity\":0.2}},\"type\":\"bar\"}],\"barpolar\":[{\"marker\":{\"line\":{\"color\":\"#E5ECF6\",\"width\":0.5},\"pattern\":{\"fillmode\":\"overlay\",\"size\":10,\"solidity\":0.2}},\"type\":\"barpolar\"}],\"carpet\":[{\"aaxis\":{\"endlinecolor\":\"#2a3f5f\",\"gridcolor\":\"white\",\"linecolor\":\"white\",\"minorgridcolor\":\"white\",\"startlinecolor\":\"#2a3f5f\"},\"baxis\":{\"endlinecolor\":\"#2a3f5f\",\"gridcolor\":\"white\",\"linecolor\":\"white\",\"minorgridcolor\":\"white\",\"startlinecolor\":\"#2a3f5f\"},\"type\":\"carpet\"}],\"choropleth\":[{\"colorbar\":{\"outlinewidth\":0,\"ticks\":\"\"},\"type\":\"choropleth\"}],\"contour\":[{\"colorbar\":{\"outlinewidth\":0,\"ticks\":\"\"},\"colorscale\":[[0.0,\"#0d0887\"],[0.1111111111111111,\"#46039f\"],[0.2222222222222222,\"#7201a8\"],[0.3333333333333333,\"#9c179e\"],[0.4444444444444444,\"#bd3786\"],[0.5555555555555556,\"#d8576b\"],[0.6666666666666666,\"#ed7953\"],[0.7777777777777778,\"#fb9f3a\"],[0.8888888888888888,\"#fdca26\"],[1.0,\"#f0f921\"]],\"type\":\"contour\"}],\"contourcarpet\":[{\"colorbar\":{\"outlinewidth\":0,\"ticks\":\"\"},\"type\":\"contourcarpet\"}],\"heatmap\":[{\"colorbar\":{\"outlinewidth\":0,\"ticks\":\"\"},\"colorscale\":[[0.0,\"#0d0887\"],[0.1111111111111111,\"#46039f\"],[0.2222222222222222,\"#7201a8\"],[0.3333333333333333,\"#9c179e\"],[0.4444444444444444,\"#bd3786\"],[0.5555555555555556,\"#d8576b\"],[0.6666666666666666,\"#ed7953\"],[0.7777777777777778,\"#fb9f3a\"],[0.8888888888888888,\"#fdca26\"],[1.0,\"#f0f921\"]],\"type\":\"heatmap\"}],\"heatmapgl\":[{\"colorbar\":{\"outlinewidth\":0,\"ticks\":\"\"},\"colorscale\":[[0.0,\"#0d0887\"],[0.1111111111111111,\"#46039f\"],[0.2222222222222222,\"#7201a8\"],[0.3333333333333333,\"#9c179e\"],[0.4444444444444444,\"#bd3786\"],[0.5555555555555556,\"#d8576b\"],[0.6666666666666666,\"#ed7953\"],[0.7777777777777778,\"#fb9f3a\"],[0.8888888888888888,\"#fdca26\"],[1.0,\"#f0f921\"]],\"type\":\"heatmapgl\"}],\"histogram\":[{\"marker\":{\"pattern\":{\"fillmode\":\"overlay\",\"size\":10,\"solidity\":0.2}},\"type\":\"histogram\"}],\"histogram2d\":[{\"colorbar\":{\"outlinewidth\":0,\"ticks\":\"\"},\"colorscale\":[[0.0,\"#0d0887\"],[0.1111111111111111,\"#46039f\"],[0.2222222222222222,\"#7201a8\"],[0.3333333333333333,\"#9c179e\"],[0.4444444444444444,\"#bd3786\"],[0.5555555555555556,\"#d8576b\"],[0.6666666666666666,\"#ed7953\"],[0.7777777777777778,\"#fb9f3a\"],[0.8888888888888888,\"#fdca26\"],[1.0,\"#f0f921\"]],\"type\":\"histogram2d\"}],\"histogram2dcontour\":[{\"colorbar\":{\"outlinewidth\":0,\"ticks\":\"\"},\"colorscale\":[[0.0,\"#0d0887\"],[0.1111111111111111,\"#46039f\"],[0.2222222222222222,\"#7201a8\"],[0.3333333333333333,\"#9c179e\"],[0.4444444444444444,\"#bd3786\"],[0.5555555555555556,\"#d8576b\"],[0.6666666666666666,\"#ed7953\"],[0.7777777777777778,\"#fb9f3a\"],[0.8888888888888888,\"#fdca26\"],[1.0,\"#f0f921\"]],\"type\":\"histogram2dcontour\"}],\"mesh3d\":[{\"colorbar\":{\"outlinewidth\":0,\"ticks\":\"\"},\"type\":\"mesh3d\"}],\"parcoords\":[{\"line\":{\"colorbar\":{\"outlinewidth\":0,\"ticks\":\"\"}},\"type\":\"parcoords\"}],\"pie\":[{\"automargin\":true,\"type\":\"pie\"}],\"scatter\":[{\"marker\":{\"colorbar\":{\"outlinewidth\":0,\"ticks\":\"\"}},\"type\":\"scatter\"}],\"scatter3d\":[{\"line\":{\"colorbar\":{\"outlinewidth\":0,\"ticks\":\"\"}},\"marker\":{\"colorbar\":{\"outlinewidth\":0,\"ticks\":\"\"}},\"type\":\"scatter3d\"}],\"scattercarpet\":[{\"marker\":{\"colorbar\":{\"outlinewidth\":0,\"ticks\":\"\"}},\"type\":\"scattercarpet\"}],\"scattergeo\":[{\"marker\":{\"colorbar\":{\"outlinewidth\":0,\"ticks\":\"\"}},\"type\":\"scattergeo\"}],\"scattergl\":[{\"marker\":{\"colorbar\":{\"outlinewidth\":0,\"ticks\":\"\"}},\"type\":\"scattergl\"}],\"scattermapbox\":[{\"marker\":{\"colorbar\":{\"outlinewidth\":0,\"ticks\":\"\"}},\"type\":\"scattermapbox\"}],\"scatterpolar\":[{\"marker\":{\"colorbar\":{\"outlinewidth\":0,\"ticks\":\"\"}},\"type\":\"scatterpolar\"}],\"scatterpolargl\":[{\"marker\":{\"colorbar\":{\"outlinewidth\":0,\"ticks\":\"\"}},\"type\":\"scatterpolargl\"}],\"scatterternary\":[{\"marker\":{\"colorbar\":{\"outlinewidth\":0,\"ticks\":\"\"}},\"type\":\"scatterternary\"}],\"surface\":[{\"colorbar\":{\"outlinewidth\":0,\"ticks\":\"\"},\"colorscale\":[[0.0,\"#0d0887\"],[0.1111111111111111,\"#46039f\"],[0.2222222222222222,\"#7201a8\"],[0.3333333333333333,\"#9c179e\"],[0.4444444444444444,\"#bd3786\"],[0.5555555555555556,\"#d8576b\"],[0.6666666666666666,\"#ed7953\"],[0.7777777777777778,\"#fb9f3a\"],[0.8888888888888888,\"#fdca26\"],[1.0,\"#f0f921\"]],\"type\":\"surface\"}],\"table\":[{\"cells\":{\"fill\":{\"color\":\"#EBF0F8\"},\"line\":{\"color\":\"white\"}},\"header\":{\"fill\":{\"color\":\"#C8D4E3\"},\"line\":{\"color\":\"white\"}},\"type\":\"table\"}]},\"layout\":{\"annotationdefaults\":{\"arrowcolor\":\"#2a3f5f\",\"arrowhead\":0,\"arrowwidth\":1},\"autotypenumbers\":\"strict\",\"coloraxis\":{\"colorbar\":{\"outlinewidth\":0,\"ticks\":\"\"}},\"colorscale\":{\"diverging\":[[0,\"#8e0152\"],[0.1,\"#c51b7d\"],[0.2,\"#de77ae\"],[0.3,\"#f1b6da\"],[0.4,\"#fde0ef\"],[0.5,\"#f7f7f7\"],[0.6,\"#e6f5d0\"],[0.7,\"#b8e186\"],[0.8,\"#7fbc41\"],[0.9,\"#4d9221\"],[1,\"#276419\"]],\"sequential\":[[0.0,\"#0d0887\"],[0.1111111111111111,\"#46039f\"],[0.2222222222222222,\"#7201a8\"],[0.3333333333333333,\"#9c179e\"],[0.4444444444444444,\"#bd3786\"],[0.5555555555555556,\"#d8576b\"],[0.6666666666666666,\"#ed7953\"],[0.7777777777777778,\"#fb9f3a\"],[0.8888888888888888,\"#fdca26\"],[1.0,\"#f0f921\"]],\"sequentialminus\":[[0.0,\"#0d0887\"],[0.1111111111111111,\"#46039f\"],[0.2222222222222222,\"#7201a8\"],[0.3333333333333333,\"#9c179e\"],[0.4444444444444444,\"#bd3786\"],[0.5555555555555556,\"#d8576b\"],[0.6666666666666666,\"#ed7953\"],[0.7777777777777778,\"#fb9f3a\"],[0.8888888888888888,\"#fdca26\"],[1.0,\"#f0f921\"]]},\"colorway\":[\"#636efa\",\"#EF553B\",\"#00cc96\",\"#ab63fa\",\"#FFA15A\",\"#19d3f3\",\"#FF6692\",\"#B6E880\",\"#FF97FF\",\"#FECB52\"],\"font\":{\"color\":\"#2a3f5f\"},\"geo\":{\"bgcolor\":\"white\",\"lakecolor\":\"white\",\"landcolor\":\"#E5ECF6\",\"showlakes\":true,\"showland\":true,\"subunitcolor\":\"white\"},\"hoverlabel\":{\"align\":\"left\"},\"hovermode\":\"closest\",\"mapbox\":{\"style\":\"light\"},\"paper_bgcolor\":\"white\",\"plot_bgcolor\":\"#E5ECF6\",\"polar\":{\"angularaxis\":{\"gridcolor\":\"white\",\"linecolor\":\"white\",\"ticks\":\"\"},\"bgcolor\":\"#E5ECF6\",\"radialaxis\":{\"gridcolor\":\"white\",\"linecolor\":\"white\",\"ticks\":\"\"}},\"scene\":{\"xaxis\":{\"backgroundcolor\":\"#E5ECF6\",\"gridcolor\":\"white\",\"gridwidth\":2,\"linecolor\":\"white\",\"showbackground\":true,\"ticks\":\"\",\"zerolinecolor\":\"white\"},\"yaxis\":{\"backgroundcolor\":\"#E5ECF6\",\"gridcolor\":\"white\",\"gridwidth\":2,\"linecolor\":\"white\",\"showbackground\":true,\"ticks\":\"\",\"zerolinecolor\":\"white\"},\"zaxis\":{\"backgroundcolor\":\"#E5ECF6\",\"gridcolor\":\"white\",\"gridwidth\":2,\"linecolor\":\"white\",\"showbackground\":true,\"ticks\":\"\",\"zerolinecolor\":\"white\"}},\"shapedefaults\":{\"line\":{\"color\":\"#2a3f5f\"}},\"ternary\":{\"aaxis\":{\"gridcolor\":\"white\",\"linecolor\":\"white\",\"ticks\":\"\"},\"baxis\":{\"gridcolor\":\"white\",\"linecolor\":\"white\",\"ticks\":\"\"},\"bgcolor\":\"#E5ECF6\",\"caxis\":{\"gridcolor\":\"white\",\"linecolor\":\"white\",\"ticks\":\"\"}},\"title\":{\"x\":0.05},\"xaxis\":{\"automargin\":true,\"gridcolor\":\"white\",\"linecolor\":\"white\",\"ticks\":\"\",\"title\":{\"standoff\":15},\"zerolinecolor\":\"white\",\"zerolinewidth\":2},\"yaxis\":{\"automargin\":true,\"gridcolor\":\"white\",\"linecolor\":\"white\",\"ticks\":\"\",\"title\":{\"standoff\":15},\"zerolinecolor\":\"white\",\"zerolinewidth\":2}}},\"coloraxis\":{\"colorbar\":{\"title\":{\"text\":\"overall_score_terrans\"}},\"colorscale\":[[0.0,\"rgb(103,0,31)\"],[0.1,\"rgb(178,24,43)\"],[0.2,\"rgb(214,96,77)\"],[0.3,\"rgb(244,165,130)\"],[0.4,\"rgb(253,219,199)\"],[0.5,\"rgb(247,247,247)\"],[0.6,\"rgb(209,229,240)\"],[0.7,\"rgb(146,197,222)\"],[0.8,\"rgb(67,147,195)\"],[0.9,\"rgb(33,102,172)\"],[1.0,\"rgb(5,48,97)\"]],\"cmid\":137.18064516129033},\"legend\":{\"tracegroupgap\":0},\"margin\":{\"t\":50,\"l\":25,\"r\":25,\"b\":25}},                        {\"responsive\": true}                    ).then(function(){\n",
       "                            \n",
       "var gd = document.getElementById('5e48a7d1-c669-4e23-bdfd-f038d653cca3');\n",
       "var x = new MutationObserver(function (mutations, observer) {{\n",
       "        var display = window.getComputedStyle(gd).display;\n",
       "        if (!display || display === 'none') {{\n",
       "            console.log([gd, 'removed!']);\n",
       "            Plotly.purge(gd);\n",
       "            observer.disconnect();\n",
       "        }}\n",
       "}});\n",
       "\n",
       "// Listen for the removal of the full notebook cells\n",
       "var notebookContainer = gd.closest('#notebook-container');\n",
       "if (notebookContainer) {{\n",
       "    x.observe(notebookContainer, {childList: true});\n",
       "}}\n",
       "\n",
       "// Listen for the clearing of the current output cell\n",
       "var outputEl = gd.closest('.output');\n",
       "if (outputEl) {{\n",
       "    x.observe(outputEl, {childList: true});\n",
       "}}\n",
       "\n",
       "                        })                };                });            </script>        </div>"
      ]
     },
     "metadata": {},
     "output_type": "display_data"
    }
   ],
   "source": [
    "for faction in factions:\n",
    "    factions_pos = []\n",
    "    for pos in range(4):\n",
    "        dat = dat_4\n",
    "        \n",
    "        # select faction\n",
    "        dat = dat[dat[\"pos_\" + str(pos + 1) +\"_faction\"] == faction]\n",
    "        \n",
    "        \n",
    "        prefix = \"pos_\" + str(pos + 1) + '_buildings_r_1'\n",
    "        structs_class = 'r1_structs_class_' + faction\n",
    "        structs_exact = 'r1_structs_exact_' + faction\n",
    "        over_all_score = 'overall_score_' + faction\n",
    "        over_all_elo = 'overall_elo_' + faction\n",
    "        \n",
    "        dat[over_all_score] = dat['pos_' + str(pos + 1) + '_score']\n",
    "        dat[over_all_elo] = dat['pos_' + str(pos + 1) + '_elo']\n",
    "        \n",
    "        dat[prefix + '_PI'] = pd.to_numeric(dat[prefix + '_PI'], downcast='integer')\n",
    "        dat[prefix + '_ac1'] = pd.to_numeric(dat[prefix + '_ac1'], downcast='integer')\n",
    "        dat[prefix + '_ac2'] = pd.to_numeric(dat[prefix + '_ac2'], downcast='integer')\n",
    "        dat[prefix + '_lab'] = pd.to_numeric(dat[prefix + '_lab'], downcast='integer')\n",
    "        dat[prefix + '_ts'] = pd.to_numeric(dat[prefix + '_ts'], downcast='integer')\n",
    "        dat[prefix + '_m'] = pd.to_numeric(dat[prefix + '_m'], downcast='integer')\n",
    "        \n",
    "        # create general structs catergory                        \n",
    "        dat.loc[dat[prefix + '_PI'] > 0, structs_class] = 'PI'\n",
    "        dat.loc[dat[prefix + '_ac1'] > 0, structs_class] = 'ac1'\n",
    "        dat.loc[dat[prefix + '_ac2'] > 0, structs_class] = 'ac2'\n",
    "        dat.loc[\n",
    "            (dat[prefix + '_lab'] > 0) &\n",
    "            (dat[prefix + '_PI'] == 0) &\n",
    "            (dat[prefix + '_ac1'] == 0) &\n",
    "            (dat[prefix + '_ac2'] == 0)\n",
    "            , structs_class] = 'lab'\n",
    "        \n",
    "        dat.loc[\n",
    "            (dat[prefix + '_ts'] > 0) &\n",
    "            (dat[prefix + '_lab'] == 0) &\n",
    "            (dat[prefix + '_PI'] == 0) &\n",
    "            (dat[prefix + '_ac1'] == 0) &\n",
    "            (dat[prefix + '_ac2'] == 0)\n",
    "            , structs_class] = 'ts'\n",
    "        \n",
    "        dat.loc[\n",
    "            (dat[prefix + '_ts'] == 0) &\n",
    "            (dat[prefix + '_lab'] == 0) &\n",
    "            (dat[prefix + '_PI'] == 0) &\n",
    "            (dat[prefix + '_ac1'] == 0) &\n",
    "            (dat[prefix + '_ac2'] == 0)\n",
    "            , structs_class] = 'm'\n",
    "        \n",
    "        \n",
    "        #create exact category\n",
    "        dat[structs_exact] = [\n",
    "            str(m) + '_m / ' +\n",
    "            str(ts) + '_ts / ' +\n",
    "            str(lab) + '_lab / ' +\n",
    "            str(PI) + '_pi / ' +\n",
    "            str(ac1) + '_ac1 / ' +\n",
    "            str(ac2) + '_ac2' \n",
    "            for m, ts, lab, PI, ac1, ac2 in zip(\n",
    "            dat[prefix + '_m'], \n",
    "            dat[prefix + '_ts'], \n",
    "            dat[prefix + '_lab'],\n",
    "            dat[prefix + '_PI'], \n",
    "            dat[prefix + '_ac1'], \n",
    "            dat[prefix + '_ac2'])\n",
    "        ]\n",
    "        \n",
    "        \n",
    "        factions_pos.append(dat)\n",
    "        \n",
    "    factions_in = pd.concat(factions_pos, ignore_index=True)\n",
    "    \n",
    "    unique_starts = factions_in[[structs_exact, structs_class, over_all_score, over_all_elo]]\n",
    "    unique_starts['class_counts'] = 0\n",
    "    counts = unique_starts.groupby(structs_exact)['class_counts'].transform('count').to_frame()\n",
    "    unique_starts = unique_starts[[structs_exact, structs_class, over_all_score, over_all_elo]]\n",
    "    unique_starts = pd.concat([unique_starts, counts], axis=1)\n",
    "    unique_starts = unique_starts.groupby([structs_class, structs_exact]).mean().reset_index()\n",
    "    unique_starts['class_counts'] = pd.to_numeric(unique_starts['class_counts'], downcast='integer')\n",
    "    \n",
    "    #remove really low scores\n",
    "    #unique_starts = unique_starts[(np.abs(stats.zscore(unique_starts[over_all_score])) > 2)]\n",
    "    unique_starts = unique_starts[unique_starts[over_all_score].between(unique_starts[over_all_score].quantile(.15), unique_starts[over_all_score].quantile(1))]\n",
    "    \n",
    "    fig = px.treemap(unique_starts, path=[px.Constant('R1 Structures: Frequency and Overall Score for ' + faction), structs_class, structs_exact], values='class_counts',\n",
    "                  color=over_all_score, hover_data=[over_all_elo],\n",
    "                  color_continuous_scale='RdBu',\n",
    "                  color_continuous_midpoint=np.median(unique_starts[over_all_score]))\n",
    "    fig.update_layout(margin = dict(t=50, l=25, r=25, b=25))\n",
    "    \n",
    "    fig.write_html(\"./plots/r1_structs_analysis/freq_and_score/\" + faction + \".html\")\n",
    "    \n",
    "    fig.show()\n",
    "    \n",
    "    \n",
    "    \n",
    "    "
   ]
  },
  {
   "cell_type": "code",
   "execution_count": 222,
   "id": "c0030c92",
   "metadata": {},
   "outputs": [
    {
     "data": {
      "text/html": [
       "<div>\n",
       "<style scoped>\n",
       "    .dataframe tbody tr th:only-of-type {\n",
       "        vertical-align: middle;\n",
       "    }\n",
       "\n",
       "    .dataframe tbody tr th {\n",
       "        vertical-align: top;\n",
       "    }\n",
       "\n",
       "    .dataframe thead th {\n",
       "        text-align: right;\n",
       "    }\n",
       "</style>\n",
       "<table border=\"1\" class=\"dataframe\">\n",
       "  <thead>\n",
       "    <tr style=\"text-align: right;\">\n",
       "      <th></th>\n",
       "      <th>id</th>\n",
       "      <th>map_layout</th>\n",
       "      <th>num_players</th>\n",
       "      <th>1k_1o</th>\n",
       "      <th>2pwt_1o</th>\n",
       "      <th>1qic_2c</th>\n",
       "      <th>2c_terra</th>\n",
       "      <th>2pw_nav</th>\n",
       "      <th>1o_1vp_per_mine</th>\n",
       "      <th>1o_2vp_per_ts</th>\n",
       "      <th>1k_3vp_per_rl</th>\n",
       "      <th>4pw_4vp_per_3pip</th>\n",
       "      <th>4c_1vp_per_gaia</th>\n",
       "      <th>tech_terra</th>\n",
       "      <th>tech_nav</th>\n",
       "      <th>tech_int</th>\n",
       "      <th>tech_gaia</th>\n",
       "      <th>tech_eco</th>\n",
       "      <th>tech_sci</th>\n",
       "      <th>tech_free1</th>\n",
       "      <th>tech_free2</th>\n",
       "      <th>tech_free3</th>\n",
       "      <th>tech_adv-terra</th>\n",
       "      <th>tech_adv-nav</th>\n",
       "      <th>tech_adv-int</th>\n",
       "      <th>tech_adv-gaia</th>\n",
       "      <th>tech_adv-eco</th>\n",
       "      <th>tech_adv-sci</th>\n",
       "      <th>round_1_scoring</th>\n",
       "      <th>round_2_scoring</th>\n",
       "      <th>round_3_scoring</th>\n",
       "      <th>round_4_scoring</th>\n",
       "      <th>round_5_scoring</th>\n",
       "      <th>round_6_scoring</th>\n",
       "      <th>final_scoring_1</th>\n",
       "      <th>final_scoring_2</th>\n",
       "      <th>pos_2_elo</th>\n",
       "      <th>pos_2_faction</th>\n",
       "      <th>pos_2_score</th>\n",
       "      <th>pos_2_start_pos</th>\n",
       "      <th>pos_2_bid</th>\n",
       "      <th>pos_2_feds_taken</th>\n",
       "      <th>pos_2_fed_12vp</th>\n",
       "      <th>pos_2_fed_qic</th>\n",
       "      <th>pos_2_fed_2pw</th>\n",
       "      <th>pos_2_fed_2o</th>\n",
       "      <th>pos_2_fed_6c</th>\n",
       "      <th>pos_2_fed_2k</th>\n",
       "      <th>pos_2_fed_gleens</th>\n",
       "      <th>pos_2_build_m</th>\n",
       "      <th>...</th>\n",
       "      <th>pos_3_adv_tech_taken_2vp_per_mine</th>\n",
       "      <th>pos_3_adv_tech_taken_3vp_per_rl_pass</th>\n",
       "      <th>pos_3_adv_tech_taken_1o_per_sector</th>\n",
       "      <th>pos_3_adv_tech_taken_1vp_per_terra_pass</th>\n",
       "      <th>pos_3_adv_tech_taken_2vp_per_gaia</th>\n",
       "      <th>pos_3_adv_tech_taken_4vp_per_ts</th>\n",
       "      <th>pos_3_adv_tech_taken_2vp_per_sector</th>\n",
       "      <th>pos_3_adv_tech_taken_3o_action</th>\n",
       "      <th>pos_3_adv_tech_taken_5vp_per_fed</th>\n",
       "      <th>pos_3_adv_tech_taken_3k_action</th>\n",
       "      <th>pos_3_adv_tech_taken_3vp_per_mine_place</th>\n",
       "      <th>pos_3_adv_tech_taken_3vp_per_ts_place</th>\n",
       "      <th>pos_3_total_techs_taken</th>\n",
       "      <th>pos_3_buildings_r_1_m</th>\n",
       "      <th>pos_3_buildings_r_1_ts</th>\n",
       "      <th>pos_3_buildings_r_1_lab</th>\n",
       "      <th>pos_3_buildings_r_1_ac1</th>\n",
       "      <th>pos_3_buildings_r_1_ac2</th>\n",
       "      <th>pos_3_buildings_r_1_PI</th>\n",
       "      <th>pos_3_buildings_r_1_gf</th>\n",
       "      <th>pos_3_buildings_r_2_m</th>\n",
       "      <th>pos_3_buildings_r_2_ts</th>\n",
       "      <th>pos_3_buildings_r_2_lab</th>\n",
       "      <th>pos_3_buildings_r_2_ac1</th>\n",
       "      <th>pos_3_buildings_r_2_ac2</th>\n",
       "      <th>pos_3_buildings_r_2_PI</th>\n",
       "      <th>pos_3_buildings_r_2_gf</th>\n",
       "      <th>pos_3_buildings_r_3_m</th>\n",
       "      <th>pos_3_buildings_r_3_ts</th>\n",
       "      <th>pos_3_buildings_r_3_lab</th>\n",
       "      <th>pos_3_buildings_r_3_ac1</th>\n",
       "      <th>pos_3_buildings_r_3_ac2</th>\n",
       "      <th>pos_3_buildings_r_3_PI</th>\n",
       "      <th>pos_3_buildings_r_3_gf</th>\n",
       "      <th>pos_3_buildings_r_4_m</th>\n",
       "      <th>pos_3_buildings_r_4_ts</th>\n",
       "      <th>pos_3_buildings_r_4_lab</th>\n",
       "      <th>pos_3_buildings_r_4_ac1</th>\n",
       "      <th>pos_3_buildings_r_4_ac2</th>\n",
       "      <th>pos_3_buildings_r_4_PI</th>\n",
       "      <th>pos_3_buildings_r_4_gf</th>\n",
       "      <th>pos_3_buildings_r_5_m</th>\n",
       "      <th>pos_3_buildings_r_5_ts</th>\n",
       "      <th>pos_3_buildings_r_5_lab</th>\n",
       "      <th>pos_3_buildings_r_5_ac1</th>\n",
       "      <th>pos_3_buildings_r_5_ac2</th>\n",
       "      <th>pos_3_buildings_r_5_PI</th>\n",
       "      <th>pos_3_buildings_r_5_gf</th>\n",
       "      <th>average_elo</th>\n",
       "      <th>r1_structs_classtaklons</th>\n",
       "    </tr>\n",
       "  </thead>\n",
       "  <tbody>\n",
       "    <tr>\n",
       "      <th>921</th>\n",
       "      <td>Imperial-tree-6131</td>\n",
       "      <td>standard</td>\n",
       "      <td>4</td>\n",
       "      <td>False</td>\n",
       "      <td>True</td>\n",
       "      <td>True</td>\n",
       "      <td>False</td>\n",
       "      <td>True</td>\n",
       "      <td>True</td>\n",
       "      <td>True</td>\n",
       "      <td>True</td>\n",
       "      <td>False</td>\n",
       "      <td>True</td>\n",
       "      <td>k_per_terra</td>\n",
       "      <td>4pw</td>\n",
       "      <td>3vp_per_gaia_place</td>\n",
       "      <td>4c</td>\n",
       "      <td>1k_1c</td>\n",
       "      <td>1q_1o</td>\n",
       "      <td>4pip</td>\n",
       "      <td>1o_1pw</td>\n",
       "      <td>7vp</td>\n",
       "      <td>3k_action</td>\n",
       "      <td>1o_per_sector</td>\n",
       "      <td>1vp_per_terra_pass</td>\n",
       "      <td>2vp_per_gaia</td>\n",
       "      <td>2vp_per_tech_bump</td>\n",
       "      <td>2vp_per_mine</td>\n",
       "      <td>2vp_per_terra</td>\n",
       "      <td>5vp_per_fed_place</td>\n",
       "      <td>4vp_per_gaia_place</td>\n",
       "      <td>4vp_per_ts_place</td>\n",
       "      <td>5vp_per_3pip_place</td>\n",
       "      <td>3vp_per_ts_place</td>\n",
       "      <td>gaia</td>\n",
       "      <td>structureFed</td>\n",
       "      <td>173.0</td>\n",
       "      <td>lantids</td>\n",
       "      <td>181.0</td>\n",
       "      <td>2.0</td>\n",
       "      <td>10.0</td>\n",
       "      <td>4.0</td>\n",
       "      <td>0.0</td>\n",
       "      <td>1.0</td>\n",
       "      <td>1.0</td>\n",
       "      <td>1.0</td>\n",
       "      <td>1.0</td>\n",
       "      <td>0.0</td>\n",
       "      <td>0.0</td>\n",
       "      <td>8.0</td>\n",
       "      <td>...</td>\n",
       "      <td>False</td>\n",
       "      <td>False</td>\n",
       "      <td>False</td>\n",
       "      <td>False</td>\n",
       "      <td>True</td>\n",
       "      <td>False</td>\n",
       "      <td>False</td>\n",
       "      <td>False</td>\n",
       "      <td>False</td>\n",
       "      <td>False</td>\n",
       "      <td>False</td>\n",
       "      <td>False</td>\n",
       "      <td>5.0</td>\n",
       "      <td>1.0</td>\n",
       "      <td>-1.0</td>\n",
       "      <td>1.0</td>\n",
       "      <td>0.0</td>\n",
       "      <td>0.0</td>\n",
       "      <td>1.0</td>\n",
       "      <td>0.0</td>\n",
       "      <td>2.0</td>\n",
       "      <td>-1.0</td>\n",
       "      <td>1.0</td>\n",
       "      <td>0.0</td>\n",
       "      <td>0.0</td>\n",
       "      <td>1.0</td>\n",
       "      <td>1.0</td>\n",
       "      <td>4.0</td>\n",
       "      <td>-1.0</td>\n",
       "      <td>0.0</td>\n",
       "      <td>1.0</td>\n",
       "      <td>0.0</td>\n",
       "      <td>1.0</td>\n",
       "      <td>2.0</td>\n",
       "      <td>3.0</td>\n",
       "      <td>1.0</td>\n",
       "      <td>1.0</td>\n",
       "      <td>1.0</td>\n",
       "      <td>0.0</td>\n",
       "      <td>1.0</td>\n",
       "      <td>4.0</td>\n",
       "      <td>6.0</td>\n",
       "      <td>1.0</td>\n",
       "      <td>1.0</td>\n",
       "      <td>1.0</td>\n",
       "      <td>0.0</td>\n",
       "      <td>1.0</td>\n",
       "      <td>6.0</td>\n",
       "      <td>177.75</td>\n",
       "      <td>PI</td>\n",
       "    </tr>\n",
       "  </tbody>\n",
       "</table>\n",
       "<p>1 rows × 386 columns</p>\n",
       "</div>"
      ],
      "text/plain": [
       "                     id map_layout  num_players  1k_1o  2pwt_1o  1qic_2c  2c_terra  2pw_nav  1o_1vp_per_mine  1o_2vp_per_ts  1k_3vp_per_rl  4pw_4vp_per_3pip  4c_1vp_per_gaia   tech_terra tech_nav            tech_int tech_gaia tech_eco tech_sci tech_free1 tech_free2 tech_free3 tech_adv-terra   tech_adv-nav        tech_adv-int tech_adv-gaia       tech_adv-eco  tech_adv-sci round_1_scoring    round_2_scoring     round_3_scoring   round_4_scoring     round_5_scoring   round_6_scoring final_scoring_1 final_scoring_2  pos_2_elo pos_2_faction  pos_2_score  pos_2_start_pos  pos_2_bid  pos_2_feds_taken  pos_2_fed_12vp  pos_2_fed_qic  pos_2_fed_2pw  pos_2_fed_2o  pos_2_fed_6c  pos_2_fed_2k  pos_2_fed_gleens  pos_2_build_m  ...  pos_3_adv_tech_taken_2vp_per_mine  pos_3_adv_tech_taken_3vp_per_rl_pass  pos_3_adv_tech_taken_1o_per_sector  pos_3_adv_tech_taken_1vp_per_terra_pass  pos_3_adv_tech_taken_2vp_per_gaia  pos_3_adv_tech_taken_4vp_per_ts  pos_3_adv_tech_taken_2vp_per_sector  \\\n",
       "921  Imperial-tree-6131   standard            4  False     True     True     False     True             True           True           True             False             True  k_per_terra      4pw  3vp_per_gaia_place        4c    1k_1c    1q_1o       4pip     1o_1pw        7vp      3k_action  1o_per_sector  1vp_per_terra_pass  2vp_per_gaia  2vp_per_tech_bump  2vp_per_mine   2vp_per_terra  5vp_per_fed_place  4vp_per_gaia_place  4vp_per_ts_place  5vp_per_3pip_place  3vp_per_ts_place            gaia    structureFed      173.0       lantids        181.0              2.0       10.0               4.0             0.0            1.0            1.0           1.0           1.0           0.0               0.0            8.0  ...                              False                                 False                               False                                    False                               True                            False                                False   \n",
       "\n",
       "     pos_3_adv_tech_taken_3o_action  pos_3_adv_tech_taken_5vp_per_fed  pos_3_adv_tech_taken_3k_action  pos_3_adv_tech_taken_3vp_per_mine_place  pos_3_adv_tech_taken_3vp_per_ts_place  pos_3_total_techs_taken pos_3_buildings_r_1_m pos_3_buildings_r_1_ts pos_3_buildings_r_1_lab pos_3_buildings_r_1_ac1 pos_3_buildings_r_1_ac2 pos_3_buildings_r_1_PI pos_3_buildings_r_1_gf pos_3_buildings_r_2_m pos_3_buildings_r_2_ts pos_3_buildings_r_2_lab pos_3_buildings_r_2_ac1 pos_3_buildings_r_2_ac2 pos_3_buildings_r_2_PI pos_3_buildings_r_2_gf pos_3_buildings_r_3_m pos_3_buildings_r_3_ts pos_3_buildings_r_3_lab pos_3_buildings_r_3_ac1 pos_3_buildings_r_3_ac2 pos_3_buildings_r_3_PI pos_3_buildings_r_3_gf pos_3_buildings_r_4_m pos_3_buildings_r_4_ts pos_3_buildings_r_4_lab  pos_3_buildings_r_4_ac1  pos_3_buildings_r_4_ac2  pos_3_buildings_r_4_PI  pos_3_buildings_r_4_gf  pos_3_buildings_r_5_m  pos_3_buildings_r_5_ts  pos_3_buildings_r_5_lab  pos_3_buildings_r_5_ac1  pos_3_buildings_r_5_ac2  \\\n",
       "921                           False                             False                           False                                    False                                  False                      5.0                   1.0                   -1.0                     1.0                     0.0                     0.0                    1.0                    0.0                   2.0                   -1.0                     1.0                     0.0                     0.0                    1.0                    1.0                   4.0                   -1.0                     0.0                     1.0                     0.0                    1.0                    2.0                   3.0                    1.0                     1.0                      1.0                      0.0                     1.0                     4.0                    6.0                     1.0                      1.0                      1.0                      0.0   \n",
       "\n",
       "     pos_3_buildings_r_5_PI  pos_3_buildings_r_5_gf  average_elo  r1_structs_classtaklons  \n",
       "921                     1.0                     6.0       177.75                       PI  \n",
       "\n",
       "[1 rows x 386 columns]"
      ]
     },
     "execution_count": 222,
     "metadata": {},
     "output_type": "execute_result"
    }
   ],
   "source": [
    "# checking out if data wrong for unlikely taklon start --> it happend!\n",
    "p = 'pos_1_buildings_r_1'\n",
    "taklons_1 = dat_4[dat_4['pos_1_faction'] == 'taklons']\n",
    "taklons_1 = taklons_1.loc[(taklons_1[p + '_m'] == 7) & (taklons_1[p + '_lab'] == 1)]\n",
    "taklons_1.head()"
   ]
  },
  {
   "cell_type": "code",
   "execution_count": null,
   "id": "b71eb8eb",
   "metadata": {},
   "outputs": [],
   "source": []
  }
 ],
 "metadata": {
  "kernelspec": {
   "display_name": "Python 3 (ipykernel)",
   "language": "python",
   "name": "python3"
  },
  "language_info": {
   "codemirror_mode": {
    "name": "ipython",
    "version": 3
   },
   "file_extension": ".py",
   "mimetype": "text/x-python",
   "name": "python",
   "nbconvert_exporter": "python",
   "pygments_lexer": "ipython3",
   "version": "3.8.10"
  }
 },
 "nbformat": 4,
 "nbformat_minor": 5
}
