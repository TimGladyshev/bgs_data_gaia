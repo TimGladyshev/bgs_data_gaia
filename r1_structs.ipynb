{
 "cells": [
  {
   "cell_type": "code",
   "execution_count": 1,
   "id": "a562ba5f",
   "metadata": {},
   "outputs": [],
   "source": [
    "import pandas as pd\n",
    "import numpy as np\n",
    "from scipy import stats\n",
    "pd.set_option('display.max_rows', 200)\n",
    "pd.set_option('display.max_columns', 100)\n",
    "pd.set_option('display.width', 1000)\n",
    "import json\n",
    "from IPython.display import display\n",
    "from subprocess import check_output\n",
    "import sys\n",
    "import traceback\n",
    "from tqdm.notebook import tqdm, trange\n",
    "import plotly.graph_objects as go\n",
    "import plotly.express as px\n",
    "pd.options.mode.chained_assignment = None\n",
    "import warnings\n",
    "warnings.simplefilter(action='ignore', category=FutureWarning)"
   ]
  },
  {
   "cell_type": "code",
   "execution_count": 2,
   "id": "0b63ea8e",
   "metadata": {},
   "outputs": [],
   "source": [
    "techs = {\n",
    "    \"tech1\": \"1q_1o\",\n",
    "    \"tech2\": \"k_per_terra\",\n",
    "    \"tech3\": \"4pip\",\n",
    "    \"tech4\": \"7vp\",\n",
    "    \"tech5\": \"1o_1pw\",\n",
    "    \"tech6\": \"1k_1c\",\n",
    "    \"tech7\": \"3vp_per_gaia_place\",\n",
    "    \"tech8\": \"4c\",\n",
    "    \"tech9\": \"4pw\",\n",
    "    # idk wtf this is --> \"tech-ship0\"\n",
    "}\n",
    "\n",
    "adv_techs = {\n",
    "    \"advtech1\": \"3vp_per_fed_pass\",\n",
    "    \"advtech2\": \"2vp_per_tech_bump\",\n",
    "    \"advtech3\": \"1qic_5c_action\",\n",
    "    \"advtech4\": \"2vp_per_mine\",\n",
    "    \"advtech5\": \"3vp_per_rl_pass\",\n",
    "    \"advtech6\": \"1o_per_sector\",\n",
    "    \"advtech7\": \"1vp_per_terra_pass\",\n",
    "    \"advtech8\": \"2vp_per_gaia\",\n",
    "    \"advtech9\": \"4vp_per_ts\",\n",
    "    \"advtech10\": \"2vp_per_sector\",\n",
    "    \"advtech11\": \"3o_action\",\n",
    "    \"advtech12\": \"5vp_per_fed\",\n",
    "    \"advtech13\": \"3k_action\",\n",
    "    \"advtech14\": \"3vp_per_mine_place\",\n",
    "    \"advtech15\": \"3vp_per_ts_place\",\n",
    "}\n",
    "\n",
    "feds = {\n",
    "    \"fed1\": \"12vp\",\n",
    "    \"fed2\": \"qic\",\n",
    "    \"fed3\": \"2pw\",\n",
    "    \"fed4\": \"2o\",\n",
    "    \"fed5\": \"6c\",\n",
    "    \"fed6\": \"2k\",\n",
    "    \"gleens\": \"gleens\"\n",
    "}\n",
    "\n",
    "round_scorings = {\n",
    "    \"score1\": \"2vp_per_terra\",\n",
    "    \"score2\": \"2vp_per_research_bump\",\n",
    "    \"score3\": \"2vp_per_mine_place\",\n",
    "    \"score4\": \"5vp_per_fed_place\",\n",
    "    \"score5\": \"4vp_per_ts_place\",\n",
    "    \"score6\": \"4vp_per_gaia_place\",\n",
    "    \"score7\": \"5vp_per_3pip_place\",\n",
    "    \"score8\": \"3vp_per_ts_place\",\n",
    "    \"score9\": \"3vp_per_gaia_place\",\n",
    "    \"score10\": \"5vp_per_3pip_place\",\n",
    "}\n",
    "\n",
    "boosters = {\n",
    "\n",
    "    \"booster1\": \"1k_1o\",\n",
    "    \"booster2\": \"2pwt_1o\",\n",
    "    \"booster3\": \"1qic_2c\",\n",
    "    \"booster4\": \"2c_terra\",\n",
    "    \"booster5\": \"2pw_nav\",\n",
    "    \"booster6\": \"1o_1vp_per_mine\",\n",
    "    \"booster7\": \"1o_2vp_per_ts\",\n",
    "    \"booster8\": \"1k_3vp_per_rl\",\n",
    "    \"booster9\": \"4pw_4vp_per_3pip\",\n",
    "    \"booster10\": \"4c_1vp_per_gaia\",\n",
    "}\n",
    "\n",
    "bad_buildings = {\"colony\", \n",
    "                 \"colonyShip\", \n",
    "                 \"tradeShip\", \n",
    "                 \"constructionShip\", \n",
    "                 \"researchShip\",\n",
    "                 \"scout\",\n",
    "                 \"frigate\",\n",
    "                 \"battleShip\",\n",
    "                 \"customsPost\",\n",
    "                 \"tradePost\"\n",
    "                }\n",
    "\n",
    "factions = {\n",
    "    \"terrans\",\n",
    "    \"lantids\",\n",
    "    \"hadsch-hallas\",\n",
    "    \"ivits\",\n",
    "    \"baltaks\",\n",
    "    \"geodens\",\n",
    "    \"xenos\",\n",
    "    \"gleens\",\n",
    "    \"ambas\",\n",
    "    \"taklons\",\n",
    "    \"bescods\",\n",
    "    \"firaks\",\n",
    "    \"itars\",\n",
    "    \"nevlas\"\n",
    "}"
   ]
  },
  {
   "cell_type": "code",
   "execution_count": 3,
   "id": "57c9df2b",
   "metadata": {},
   "outputs": [],
   "source": [
    "dat_2 = pd.read_pickle(\"two_players_data\")\n",
    "dat_3 = pd.read_pickle(\"three_players_data\")\n",
    "dat_4 = pd.read_pickle(\"four_players_data\")"
   ]
  },
  {
   "cell_type": "code",
   "execution_count": 4,
   "id": "d2b889c9",
   "metadata": {},
   "outputs": [
    {
     "data": {
      "text/plain": [
       "count     10982\n",
       "unique        2\n",
       "top       False\n",
       "freq      10952\n",
       "Name: pos_1_dropped, dtype: object"
      ]
     },
     "execution_count": 4,
     "metadata": {},
     "output_type": "execute_result"
    }
   ],
   "source": [
    "dat_4['pos_1_dropped'].describe()"
   ]
  },
  {
   "cell_type": "code",
   "execution_count": 7,
   "id": "f4917d9a",
   "metadata": {
    "scrolled": false
   },
   "outputs": [
    {
     "data": {
      "application/vnd.plotly.v1+json": {
       "config": {
        "plotlyServerURL": "https://plot.ly"
       },
       "data": [
        {
         "branchvalues": "total",
         "customdata": [
          [
           208,
           142.8235294117647
          ],
          [
           127.875,
           125.25
          ],
          [
           185.5,
           138.5
          ],
          [
           148.14285714285714,
           126.85714285714286
          ],
          [
           144.5,
           109.5
          ],
          [
           125.5,
           147.25
          ],
          [
           186.66666666666666,
           158.83333333333334
          ],
          [
           162.36363636363637,
           120.0909090909091
          ],
          [
           115,
           176
          ],
          [
           268,
           140.25
          ],
          [
           197.28925619834712,
           146.59504132231405
          ],
          [
           249.25,
           129
          ],
          [
           175.53333333333333,
           140.73333333333332
          ],
          [
           142.02777777777777,
           130.55555555555554
          ],
          [
           215.4,
           150.85
          ],
          [
           161,
           135
          ],
          [
           109.5,
           131.5
          ],
          [
           138.13793103448276,
           126.6896551724138
          ],
          [
           130.08928571428572,
           130.75
          ],
          [
           174.4,
           132.2
          ],
          [
           158.66666666666666,
           144
          ],
          [
           262.1666666666667,
           148.16666666666666
          ],
          [
           305.3333333333333,
           191.33333333333334
          ],
          [
           236.51977401129943,
           154.3276836158192
          ],
          [
           175.43548387096774,
           136.56451612903226
          ],
          [
           171.5981308411215,
           143.7663551401869
          ],
          [
           312,
           169.33333333333334
          ],
          [
           185.33333333333334,
           159.11111111111111
          ],
          [
           155.65116279069767,
           134.41860465116278
          ],
          [
           199.88659793814432,
           151.37113402061857
          ],
          [
           147.33333333333334,
           137.66666666666666
          ],
          [
           112,
           171
          ],
          [
           240.73333333333332,
           158.66666666666666
          ],
          [
           131.82758620689654,
           126.41379310344827
          ],
          [
           178.296875,
           141.671875
          ],
          [
           189,
           138.6
          ],
          [
           97.5,
           114.25
          ],
          [
           249.2,
           162.8
          ],
          [
           149.5,
           143.8
          ],
          [
           205.76073619631902,
           147.6564417177914
          ],
          [
           15.5,
           119
          ],
          [
           262.69072164948454,
           164.4742268041237
          ],
          [
           377,
           221
          ],
          [
           289.6111111111111,
           165.77777777777777
          ],
          [
           261,
           189
          ],
          [
           "(?)",
           133.99586776859505
          ],
          [
           "(?)",
           151.51552795031057
          ],
          [
           "(?)",
           158.75
          ],
          [
           "(?)",
           147.72739541160593
          ],
          [
           "(?)",
           115.83333333333333
          ],
          [
           "(?)",
           133.40740740740742
          ],
          [
           "(?)",
           145.80089153046063
          ]
         ],
         "domain": {
          "x": [
           0,
           1
          ],
          "y": [
           0,
           1
          ]
         },
         "hovertemplate": "labels=%{label}<br>class_counts=%{value}<br>parent=%{parent}<br>id=%{id}<br>ave_elo_hadsch-hallas=%{customdata[0]}<br>ave_score_hadsch-hallas=%{color}<extra></extra>",
         "ids": [
          "R1 Structs/PI/ 0-m_0-ts_1-lab_1-pi_0-ac1_0-ac2",
          "R1 Structs/lab/ 0-m_0-ts_2-lab_0-pi_0-ac1_0-ac2",
          "R1 Structs/ac1/ 0-m_1-ts_0-lab_0-pi_1-ac1_0-ac2",
          "R1 Structs/lab/ 0-m_1-ts_1-lab_0-pi_0-ac1_0-ac2",
          "R1 Structs/ts/ 0-m_2-ts_0-lab_0-pi_0-ac1_0-ac2",
          "R1 Structs/PI/ 0-m_2-ts_0-lab_1-pi_0-ac1_0-ac2",
          "R1 Structs/lab/ 0-m_2-ts_1-lab_0-pi_0-ac1_0-ac2",
          "R1 Structs/ts/ 0-m_3-ts_0-lab_0-pi_0-ac1_0-ac2",
          "R1 Structs/ts/ 0-m_4-ts_0-lab_0-pi_0-ac1_0-ac2",
          "R1 Structs/ac2/ 1-m_0-ts_0-lab_0-pi_0-ac1_1-ac2",
          "R1 Structs/ac1/ 1-m_0-ts_0-lab_0-pi_1-ac1_0-ac2",
          "R1 Structs/PI/ 1-m_0-ts_0-lab_1-pi_0-ac1_0-ac2",
          "R1 Structs/lab/ 1-m_0-ts_1-lab_0-pi_0-ac1_0-ac2",
          "R1 Structs/PI/ 1-m_0-ts_1-lab_1-pi_0-ac1_0-ac2",
          "R1 Structs/lab/ 1-m_0-ts_2-lab_0-pi_0-ac1_0-ac2",
          "R1 Structs/ac2/ 1-m_1-ts_0-lab_0-pi_0-ac1_1-ac2",
          "R1 Structs/ac1/ 1-m_1-ts_0-lab_0-pi_1-ac1_0-ac2",
          "R1 Structs/PI/ 1-m_1-ts_0-lab_1-pi_0-ac1_0-ac2",
          "R1 Structs/lab/ 1-m_1-ts_1-lab_0-pi_0-ac1_0-ac2",
          "R1 Structs/PI/ 1-m_2-ts_0-lab_1-pi_0-ac1_0-ac2",
          "R1 Structs/lab/ 1-m_2-ts_1-lab_0-pi_0-ac1_0-ac2",
          "R1 Structs/ts/ 1-m_3-ts_0-lab_0-pi_0-ac1_0-ac2",
          "R1 Structs/ac2/ 2-m_0-ts_0-lab_0-pi_0-ac1_1-ac2",
          "R1 Structs/ac1/ 2-m_0-ts_0-lab_0-pi_1-ac1_0-ac2",
          "R1 Structs/PI/ 2-m_0-ts_0-lab_1-pi_0-ac1_0-ac2",
          "R1 Structs/lab/ 2-m_0-ts_1-lab_0-pi_0-ac1_0-ac2",
          "R1 Structs/PI/ 2-m_0-ts_1-lab_1-pi_0-ac1_0-ac2",
          "R1 Structs/lab/ 2-m_0-ts_2-lab_0-pi_0-ac1_0-ac2",
          "R1 Structs/PI/ 2-m_1-ts_0-lab_1-pi_0-ac1_0-ac2",
          "R1 Structs/lab/ 2-m_1-ts_1-lab_0-pi_0-ac1_0-ac2",
          "R1 Structs/ts/ 2-m_2-ts_0-lab_0-pi_0-ac1_0-ac2",
          "R1 Structs/ts/ 2-m_3-ts_0-lab_0-pi_0-ac1_0-ac2",
          "R1 Structs/ac1/ 3-m_0-ts_0-lab_0-pi_1-ac1_0-ac2",
          "R1 Structs/PI/ 3-m_0-ts_0-lab_1-pi_0-ac1_0-ac2",
          "R1 Structs/lab/ 3-m_0-ts_1-lab_0-pi_0-ac1_0-ac2",
          "R1 Structs/lab/ 3-m_1-ts_1-lab_0-pi_0-ac1_0-ac2",
          "R1 Structs/m/ 4-m_0-ts_0-lab_0-pi_0-ac1_0-ac2",
          "R1 Structs/ac1/ 4-m_0-ts_0-lab_0-pi_1-ac1_0-ac2",
          "R1 Structs/PI/ 4-m_0-ts_0-lab_1-pi_0-ac1_0-ac2",
          "R1 Structs/lab/ 4-m_0-ts_1-lab_0-pi_0-ac1_0-ac2",
          "R1 Structs/m/ 5-m_0-ts_0-lab_0-pi_0-ac1_0-ac2",
          "R1 Structs/lab/ 5-m_0-ts_1-lab_0-pi_0-ac1_0-ac2",
          "R1 Structs/lab/ 5-m_1-ts_1-lab_0-pi_0-ac1_0-ac2",
          "R1 Structs/lab/ 6-m_0-ts_1-lab_0-pi_0-ac1_0-ac2",
          "R1 Structs/lab/ 7-m_0-ts_1-lab_0-pi_0-ac1_0-ac2",
          "R1 Structs/PI",
          "R1 Structs/ac1",
          "R1 Structs/ac2",
          "R1 Structs/lab",
          "R1 Structs/m",
          "R1 Structs/ts",
          "R1 Structs"
         ],
         "labels": [
          " 0-m_0-ts_1-lab_1-pi_0-ac1_0-ac2",
          " 0-m_0-ts_2-lab_0-pi_0-ac1_0-ac2",
          " 0-m_1-ts_0-lab_0-pi_1-ac1_0-ac2",
          " 0-m_1-ts_1-lab_0-pi_0-ac1_0-ac2",
          " 0-m_2-ts_0-lab_0-pi_0-ac1_0-ac2",
          " 0-m_2-ts_0-lab_1-pi_0-ac1_0-ac2",
          " 0-m_2-ts_1-lab_0-pi_0-ac1_0-ac2",
          " 0-m_3-ts_0-lab_0-pi_0-ac1_0-ac2",
          " 0-m_4-ts_0-lab_0-pi_0-ac1_0-ac2",
          " 1-m_0-ts_0-lab_0-pi_0-ac1_1-ac2",
          " 1-m_0-ts_0-lab_0-pi_1-ac1_0-ac2",
          " 1-m_0-ts_0-lab_1-pi_0-ac1_0-ac2",
          " 1-m_0-ts_1-lab_0-pi_0-ac1_0-ac2",
          " 1-m_0-ts_1-lab_1-pi_0-ac1_0-ac2",
          " 1-m_0-ts_2-lab_0-pi_0-ac1_0-ac2",
          " 1-m_1-ts_0-lab_0-pi_0-ac1_1-ac2",
          " 1-m_1-ts_0-lab_0-pi_1-ac1_0-ac2",
          " 1-m_1-ts_0-lab_1-pi_0-ac1_0-ac2",
          " 1-m_1-ts_1-lab_0-pi_0-ac1_0-ac2",
          " 1-m_2-ts_0-lab_1-pi_0-ac1_0-ac2",
          " 1-m_2-ts_1-lab_0-pi_0-ac1_0-ac2",
          " 1-m_3-ts_0-lab_0-pi_0-ac1_0-ac2",
          " 2-m_0-ts_0-lab_0-pi_0-ac1_1-ac2",
          " 2-m_0-ts_0-lab_0-pi_1-ac1_0-ac2",
          " 2-m_0-ts_0-lab_1-pi_0-ac1_0-ac2",
          " 2-m_0-ts_1-lab_0-pi_0-ac1_0-ac2",
          " 2-m_0-ts_1-lab_1-pi_0-ac1_0-ac2",
          " 2-m_0-ts_2-lab_0-pi_0-ac1_0-ac2",
          " 2-m_1-ts_0-lab_1-pi_0-ac1_0-ac2",
          " 2-m_1-ts_1-lab_0-pi_0-ac1_0-ac2",
          " 2-m_2-ts_0-lab_0-pi_0-ac1_0-ac2",
          " 2-m_3-ts_0-lab_0-pi_0-ac1_0-ac2",
          " 3-m_0-ts_0-lab_0-pi_1-ac1_0-ac2",
          " 3-m_0-ts_0-lab_1-pi_0-ac1_0-ac2",
          " 3-m_0-ts_1-lab_0-pi_0-ac1_0-ac2",
          " 3-m_1-ts_1-lab_0-pi_0-ac1_0-ac2",
          " 4-m_0-ts_0-lab_0-pi_0-ac1_0-ac2",
          " 4-m_0-ts_0-lab_0-pi_1-ac1_0-ac2",
          " 4-m_0-ts_0-lab_1-pi_0-ac1_0-ac2",
          " 4-m_0-ts_1-lab_0-pi_0-ac1_0-ac2",
          " 5-m_0-ts_0-lab_0-pi_0-ac1_0-ac2",
          " 5-m_0-ts_1-lab_0-pi_0-ac1_0-ac2",
          " 5-m_1-ts_1-lab_0-pi_0-ac1_0-ac2",
          " 6-m_0-ts_1-lab_0-pi_0-ac1_0-ac2",
          " 7-m_0-ts_1-lab_0-pi_0-ac1_0-ac2",
          "PI",
          "ac1",
          "ac2",
          "lab",
          "m",
          "ts",
          "R1 Structs"
         ],
         "marker": {
          "coloraxis": "coloraxis",
          "colors": [
           142.8235294117647,
           125.25,
           138.5,
           126.85714285714286,
           109.5,
           147.25,
           158.83333333333334,
           120.0909090909091,
           176,
           140.25,
           146.59504132231405,
           129,
           140.73333333333332,
           130.55555555555554,
           150.85,
           135,
           131.5,
           126.6896551724138,
           130.75,
           132.2,
           144,
           148.16666666666666,
           191.33333333333334,
           154.3276836158192,
           136.56451612903226,
           143.7663551401869,
           169.33333333333334,
           159.11111111111111,
           134.41860465116278,
           151.37113402061857,
           137.66666666666666,
           171,
           158.66666666666666,
           126.41379310344827,
           141.671875,
           138.6,
           114.25,
           162.8,
           143.8,
           147.6564417177914,
           119,
           164.4742268041237,
           221,
           165.77777777777777,
           189,
           133.99586776859505,
           151.51552795031057,
           158.75,
           147.72739541160593,
           115.83333333333333,
           133.40740740740742,
           145.80089153046063
          ]
         },
         "name": "",
         "parents": [
          "R1 Structs/PI",
          "R1 Structs/lab",
          "R1 Structs/ac1",
          "R1 Structs/lab",
          "R1 Structs/ts",
          "R1 Structs/PI",
          "R1 Structs/lab",
          "R1 Structs/ts",
          "R1 Structs/ts",
          "R1 Structs/ac2",
          "R1 Structs/ac1",
          "R1 Structs/PI",
          "R1 Structs/lab",
          "R1 Structs/PI",
          "R1 Structs/lab",
          "R1 Structs/ac2",
          "R1 Structs/ac1",
          "R1 Structs/PI",
          "R1 Structs/lab",
          "R1 Structs/PI",
          "R1 Structs/lab",
          "R1 Structs/ts",
          "R1 Structs/ac2",
          "R1 Structs/ac1",
          "R1 Structs/PI",
          "R1 Structs/lab",
          "R1 Structs/PI",
          "R1 Structs/lab",
          "R1 Structs/PI",
          "R1 Structs/lab",
          "R1 Structs/ts",
          "R1 Structs/ts",
          "R1 Structs/ac1",
          "R1 Structs/PI",
          "R1 Structs/lab",
          "R1 Structs/lab",
          "R1 Structs/m",
          "R1 Structs/ac1",
          "R1 Structs/PI",
          "R1 Structs/lab",
          "R1 Structs/m",
          "R1 Structs/lab",
          "R1 Structs/lab",
          "R1 Structs/lab",
          "R1 Structs/lab",
          "R1 Structs",
          "R1 Structs",
          "R1 Structs",
          "R1 Structs",
          "R1 Structs",
          "R1 Structs",
          ""
         ],
         "type": "treemap",
         "values": [
          34,
          16,
          4,
          14,
          4,
          8,
          12,
          22,
          2,
          8,
          242,
          8,
          30,
          72,
          40,
          2,
          4,
          58,
          112,
          10,
          6,
          12,
          6,
          354,
          124,
          214,
          6,
          18,
          86,
          194,
          12,
          2,
          30,
          58,
          256,
          10,
          8,
          10,
          20,
          326,
          4,
          194,
          2,
          36,
          2,
          484,
          644,
          16,
          1482,
          12,
          54,
          2692
         ]
        }
       ],
       "layout": {
        "coloraxis": {
         "cmid": 144.39872372553106,
         "colorbar": {
          "title": {
           "text": "ave_score_hadsch-hallas"
          }
         },
         "colorscale": [
          [
           0,
           "rgb(103,0,31)"
          ],
          [
           0.1,
           "rgb(178,24,43)"
          ],
          [
           0.2,
           "rgb(214,96,77)"
          ],
          [
           0.3,
           "rgb(244,165,130)"
          ],
          [
           0.4,
           "rgb(253,219,199)"
          ],
          [
           0.5,
           "rgb(247,247,247)"
          ],
          [
           0.6,
           "rgb(209,229,240)"
          ],
          [
           0.7,
           "rgb(146,197,222)"
          ],
          [
           0.8,
           "rgb(67,147,195)"
          ],
          [
           0.9,
           "rgb(33,102,172)"
          ],
          [
           1,
           "rgb(5,48,97)"
          ]
         ]
        },
        "legend": {
         "tracegroupgap": 0
        },
        "margin": {
         "b": 25,
         "l": 25,
         "r": 25,
         "t": 50
        },
        "template": {
         "data": {
          "bar": [
           {
            "error_x": {
             "color": "#2a3f5f"
            },
            "error_y": {
             "color": "#2a3f5f"
            },
            "marker": {
             "line": {
              "color": "#E5ECF6",
              "width": 0.5
             },
             "pattern": {
              "fillmode": "overlay",
              "size": 10,
              "solidity": 0.2
             }
            },
            "type": "bar"
           }
          ],
          "barpolar": [
           {
            "marker": {
             "line": {
              "color": "#E5ECF6",
              "width": 0.5
             },
             "pattern": {
              "fillmode": "overlay",
              "size": 10,
              "solidity": 0.2
             }
            },
            "type": "barpolar"
           }
          ],
          "carpet": [
           {
            "aaxis": {
             "endlinecolor": "#2a3f5f",
             "gridcolor": "white",
             "linecolor": "white",
             "minorgridcolor": "white",
             "startlinecolor": "#2a3f5f"
            },
            "baxis": {
             "endlinecolor": "#2a3f5f",
             "gridcolor": "white",
             "linecolor": "white",
             "minorgridcolor": "white",
             "startlinecolor": "#2a3f5f"
            },
            "type": "carpet"
           }
          ],
          "choropleth": [
           {
            "colorbar": {
             "outlinewidth": 0,
             "ticks": ""
            },
            "type": "choropleth"
           }
          ],
          "contour": [
           {
            "colorbar": {
             "outlinewidth": 0,
             "ticks": ""
            },
            "colorscale": [
             [
              0,
              "#0d0887"
             ],
             [
              0.1111111111111111,
              "#46039f"
             ],
             [
              0.2222222222222222,
              "#7201a8"
             ],
             [
              0.3333333333333333,
              "#9c179e"
             ],
             [
              0.4444444444444444,
              "#bd3786"
             ],
             [
              0.5555555555555556,
              "#d8576b"
             ],
             [
              0.6666666666666666,
              "#ed7953"
             ],
             [
              0.7777777777777778,
              "#fb9f3a"
             ],
             [
              0.8888888888888888,
              "#fdca26"
             ],
             [
              1,
              "#f0f921"
             ]
            ],
            "type": "contour"
           }
          ],
          "contourcarpet": [
           {
            "colorbar": {
             "outlinewidth": 0,
             "ticks": ""
            },
            "type": "contourcarpet"
           }
          ],
          "heatmap": [
           {
            "colorbar": {
             "outlinewidth": 0,
             "ticks": ""
            },
            "colorscale": [
             [
              0,
              "#0d0887"
             ],
             [
              0.1111111111111111,
              "#46039f"
             ],
             [
              0.2222222222222222,
              "#7201a8"
             ],
             [
              0.3333333333333333,
              "#9c179e"
             ],
             [
              0.4444444444444444,
              "#bd3786"
             ],
             [
              0.5555555555555556,
              "#d8576b"
             ],
             [
              0.6666666666666666,
              "#ed7953"
             ],
             [
              0.7777777777777778,
              "#fb9f3a"
             ],
             [
              0.8888888888888888,
              "#fdca26"
             ],
             [
              1,
              "#f0f921"
             ]
            ],
            "type": "heatmap"
           }
          ],
          "heatmapgl": [
           {
            "colorbar": {
             "outlinewidth": 0,
             "ticks": ""
            },
            "colorscale": [
             [
              0,
              "#0d0887"
             ],
             [
              0.1111111111111111,
              "#46039f"
             ],
             [
              0.2222222222222222,
              "#7201a8"
             ],
             [
              0.3333333333333333,
              "#9c179e"
             ],
             [
              0.4444444444444444,
              "#bd3786"
             ],
             [
              0.5555555555555556,
              "#d8576b"
             ],
             [
              0.6666666666666666,
              "#ed7953"
             ],
             [
              0.7777777777777778,
              "#fb9f3a"
             ],
             [
              0.8888888888888888,
              "#fdca26"
             ],
             [
              1,
              "#f0f921"
             ]
            ],
            "type": "heatmapgl"
           }
          ],
          "histogram": [
           {
            "marker": {
             "pattern": {
              "fillmode": "overlay",
              "size": 10,
              "solidity": 0.2
             }
            },
            "type": "histogram"
           }
          ],
          "histogram2d": [
           {
            "colorbar": {
             "outlinewidth": 0,
             "ticks": ""
            },
            "colorscale": [
             [
              0,
              "#0d0887"
             ],
             [
              0.1111111111111111,
              "#46039f"
             ],
             [
              0.2222222222222222,
              "#7201a8"
             ],
             [
              0.3333333333333333,
              "#9c179e"
             ],
             [
              0.4444444444444444,
              "#bd3786"
             ],
             [
              0.5555555555555556,
              "#d8576b"
             ],
             [
              0.6666666666666666,
              "#ed7953"
             ],
             [
              0.7777777777777778,
              "#fb9f3a"
             ],
             [
              0.8888888888888888,
              "#fdca26"
             ],
             [
              1,
              "#f0f921"
             ]
            ],
            "type": "histogram2d"
           }
          ],
          "histogram2dcontour": [
           {
            "colorbar": {
             "outlinewidth": 0,
             "ticks": ""
            },
            "colorscale": [
             [
              0,
              "#0d0887"
             ],
             [
              0.1111111111111111,
              "#46039f"
             ],
             [
              0.2222222222222222,
              "#7201a8"
             ],
             [
              0.3333333333333333,
              "#9c179e"
             ],
             [
              0.4444444444444444,
              "#bd3786"
             ],
             [
              0.5555555555555556,
              "#d8576b"
             ],
             [
              0.6666666666666666,
              "#ed7953"
             ],
             [
              0.7777777777777778,
              "#fb9f3a"
             ],
             [
              0.8888888888888888,
              "#fdca26"
             ],
             [
              1,
              "#f0f921"
             ]
            ],
            "type": "histogram2dcontour"
           }
          ],
          "mesh3d": [
           {
            "colorbar": {
             "outlinewidth": 0,
             "ticks": ""
            },
            "type": "mesh3d"
           }
          ],
          "parcoords": [
           {
            "line": {
             "colorbar": {
              "outlinewidth": 0,
              "ticks": ""
             }
            },
            "type": "parcoords"
           }
          ],
          "pie": [
           {
            "automargin": true,
            "type": "pie"
           }
          ],
          "scatter": [
           {
            "marker": {
             "colorbar": {
              "outlinewidth": 0,
              "ticks": ""
             }
            },
            "type": "scatter"
           }
          ],
          "scatter3d": [
           {
            "line": {
             "colorbar": {
              "outlinewidth": 0,
              "ticks": ""
             }
            },
            "marker": {
             "colorbar": {
              "outlinewidth": 0,
              "ticks": ""
             }
            },
            "type": "scatter3d"
           }
          ],
          "scattercarpet": [
           {
            "marker": {
             "colorbar": {
              "outlinewidth": 0,
              "ticks": ""
             }
            },
            "type": "scattercarpet"
           }
          ],
          "scattergeo": [
           {
            "marker": {
             "colorbar": {
              "outlinewidth": 0,
              "ticks": ""
             }
            },
            "type": "scattergeo"
           }
          ],
          "scattergl": [
           {
            "marker": {
             "colorbar": {
              "outlinewidth": 0,
              "ticks": ""
             }
            },
            "type": "scattergl"
           }
          ],
          "scattermapbox": [
           {
            "marker": {
             "colorbar": {
              "outlinewidth": 0,
              "ticks": ""
             }
            },
            "type": "scattermapbox"
           }
          ],
          "scatterpolar": [
           {
            "marker": {
             "colorbar": {
              "outlinewidth": 0,
              "ticks": ""
             }
            },
            "type": "scatterpolar"
           }
          ],
          "scatterpolargl": [
           {
            "marker": {
             "colorbar": {
              "outlinewidth": 0,
              "ticks": ""
             }
            },
            "type": "scatterpolargl"
           }
          ],
          "scatterternary": [
           {
            "marker": {
             "colorbar": {
              "outlinewidth": 0,
              "ticks": ""
             }
            },
            "type": "scatterternary"
           }
          ],
          "surface": [
           {
            "colorbar": {
             "outlinewidth": 0,
             "ticks": ""
            },
            "colorscale": [
             [
              0,
              "#0d0887"
             ],
             [
              0.1111111111111111,
              "#46039f"
             ],
             [
              0.2222222222222222,
              "#7201a8"
             ],
             [
              0.3333333333333333,
              "#9c179e"
             ],
             [
              0.4444444444444444,
              "#bd3786"
             ],
             [
              0.5555555555555556,
              "#d8576b"
             ],
             [
              0.6666666666666666,
              "#ed7953"
             ],
             [
              0.7777777777777778,
              "#fb9f3a"
             ],
             [
              0.8888888888888888,
              "#fdca26"
             ],
             [
              1,
              "#f0f921"
             ]
            ],
            "type": "surface"
           }
          ],
          "table": [
           {
            "cells": {
             "fill": {
              "color": "#EBF0F8"
             },
             "line": {
              "color": "white"
             }
            },
            "header": {
             "fill": {
              "color": "#C8D4E3"
             },
             "line": {
              "color": "white"
             }
            },
            "type": "table"
           }
          ]
         },
         "layout": {
          "annotationdefaults": {
           "arrowcolor": "#2a3f5f",
           "arrowhead": 0,
           "arrowwidth": 1
          },
          "autotypenumbers": "strict",
          "coloraxis": {
           "colorbar": {
            "outlinewidth": 0,
            "ticks": ""
           }
          },
          "colorscale": {
           "diverging": [
            [
             0,
             "#8e0152"
            ],
            [
             0.1,
             "#c51b7d"
            ],
            [
             0.2,
             "#de77ae"
            ],
            [
             0.3,
             "#f1b6da"
            ],
            [
             0.4,
             "#fde0ef"
            ],
            [
             0.5,
             "#f7f7f7"
            ],
            [
             0.6,
             "#e6f5d0"
            ],
            [
             0.7,
             "#b8e186"
            ],
            [
             0.8,
             "#7fbc41"
            ],
            [
             0.9,
             "#4d9221"
            ],
            [
             1,
             "#276419"
            ]
           ],
           "sequential": [
            [
             0,
             "#0d0887"
            ],
            [
             0.1111111111111111,
             "#46039f"
            ],
            [
             0.2222222222222222,
             "#7201a8"
            ],
            [
             0.3333333333333333,
             "#9c179e"
            ],
            [
             0.4444444444444444,
             "#bd3786"
            ],
            [
             0.5555555555555556,
             "#d8576b"
            ],
            [
             0.6666666666666666,
             "#ed7953"
            ],
            [
             0.7777777777777778,
             "#fb9f3a"
            ],
            [
             0.8888888888888888,
             "#fdca26"
            ],
            [
             1,
             "#f0f921"
            ]
           ],
           "sequentialminus": [
            [
             0,
             "#0d0887"
            ],
            [
             0.1111111111111111,
             "#46039f"
            ],
            [
             0.2222222222222222,
             "#7201a8"
            ],
            [
             0.3333333333333333,
             "#9c179e"
            ],
            [
             0.4444444444444444,
             "#bd3786"
            ],
            [
             0.5555555555555556,
             "#d8576b"
            ],
            [
             0.6666666666666666,
             "#ed7953"
            ],
            [
             0.7777777777777778,
             "#fb9f3a"
            ],
            [
             0.8888888888888888,
             "#fdca26"
            ],
            [
             1,
             "#f0f921"
            ]
           ]
          },
          "colorway": [
           "#636efa",
           "#EF553B",
           "#00cc96",
           "#ab63fa",
           "#FFA15A",
           "#19d3f3",
           "#FF6692",
           "#B6E880",
           "#FF97FF",
           "#FECB52"
          ],
          "font": {
           "color": "#2a3f5f"
          },
          "geo": {
           "bgcolor": "white",
           "lakecolor": "white",
           "landcolor": "#E5ECF6",
           "showlakes": true,
           "showland": true,
           "subunitcolor": "white"
          },
          "hoverlabel": {
           "align": "left"
          },
          "hovermode": "closest",
          "mapbox": {
           "style": "light"
          },
          "paper_bgcolor": "white",
          "plot_bgcolor": "#E5ECF6",
          "polar": {
           "angularaxis": {
            "gridcolor": "white",
            "linecolor": "white",
            "ticks": ""
           },
           "bgcolor": "#E5ECF6",
           "radialaxis": {
            "gridcolor": "white",
            "linecolor": "white",
            "ticks": ""
           }
          },
          "scene": {
           "xaxis": {
            "backgroundcolor": "#E5ECF6",
            "gridcolor": "white",
            "gridwidth": 2,
            "linecolor": "white",
            "showbackground": true,
            "ticks": "",
            "zerolinecolor": "white"
           },
           "yaxis": {
            "backgroundcolor": "#E5ECF6",
            "gridcolor": "white",
            "gridwidth": 2,
            "linecolor": "white",
            "showbackground": true,
            "ticks": "",
            "zerolinecolor": "white"
           },
           "zaxis": {
            "backgroundcolor": "#E5ECF6",
            "gridcolor": "white",
            "gridwidth": 2,
            "linecolor": "white",
            "showbackground": true,
            "ticks": "",
            "zerolinecolor": "white"
           }
          },
          "shapedefaults": {
           "line": {
            "color": "#2a3f5f"
           }
          },
          "ternary": {
           "aaxis": {
            "gridcolor": "white",
            "linecolor": "white",
            "ticks": ""
           },
           "baxis": {
            "gridcolor": "white",
            "linecolor": "white",
            "ticks": ""
           },
           "bgcolor": "#E5ECF6",
           "caxis": {
            "gridcolor": "white",
            "linecolor": "white",
            "ticks": ""
           }
          },
          "title": {
           "x": 0.05
          },
          "xaxis": {
           "automargin": true,
           "gridcolor": "white",
           "linecolor": "white",
           "ticks": "",
           "title": {
            "standoff": 15
           },
           "zerolinecolor": "white",
           "zerolinewidth": 2
          },
          "yaxis": {
           "automargin": true,
           "gridcolor": "white",
           "linecolor": "white",
           "ticks": "",
           "title": {
            "standoff": 15
           },
           "zerolinecolor": "white",
           "zerolinewidth": 2
          }
         }
        },
        "title": {
         "text": "R1 Structures: Frequency and Impact on Score Relative to All Factions Average (144.4): hadsch-hallas"
        }
       }
      },
      "text/html": [
       "<div>                            <div id=\"c5e5b38c-dca8-40c2-9b26-d5c31eeaaf1c\" class=\"plotly-graph-div\" style=\"height:525px; width:100%;\"></div>            <script type=\"text/javascript\">                require([\"plotly\"], function(Plotly) {                    window.PLOTLYENV=window.PLOTLYENV || {};                                    if (document.getElementById(\"c5e5b38c-dca8-40c2-9b26-d5c31eeaaf1c\")) {                    Plotly.newPlot(                        \"c5e5b38c-dca8-40c2-9b26-d5c31eeaaf1c\",                        [{\"branchvalues\":\"total\",\"customdata\":[[208.0,142.8235294117647],[127.875,125.25],[185.5,138.5],[148.14285714285714,126.85714285714286],[144.5,109.5],[125.5,147.25],[186.66666666666666,158.83333333333334],[162.36363636363637,120.0909090909091],[115.0,176.0],[268.0,140.25],[197.28925619834712,146.59504132231405],[249.25,129.0],[175.53333333333333,140.73333333333332],[142.02777777777777,130.55555555555554],[215.4,150.85],[161.0,135.0],[109.5,131.5],[138.13793103448276,126.6896551724138],[130.08928571428572,130.75],[174.4,132.2],[158.66666666666666,144.0],[262.1666666666667,148.16666666666666],[305.3333333333333,191.33333333333334],[236.51977401129943,154.3276836158192],[175.43548387096774,136.56451612903226],[171.5981308411215,143.7663551401869],[312.0,169.33333333333334],[185.33333333333334,159.11111111111111],[155.65116279069767,134.41860465116278],[199.88659793814432,151.37113402061857],[147.33333333333334,137.66666666666666],[112.0,171.0],[240.73333333333332,158.66666666666666],[131.82758620689654,126.41379310344827],[178.296875,141.671875],[189.0,138.6],[97.5,114.25],[249.2,162.8],[149.5,143.8],[205.76073619631902,147.6564417177914],[15.5,119.0],[262.69072164948454,164.4742268041237],[377.0,221.0],[289.6111111111111,165.77777777777777],[261.0,189.0],[\"(?)\",133.99586776859505],[\"(?)\",151.51552795031057],[\"(?)\",158.75],[\"(?)\",147.72739541160593],[\"(?)\",115.83333333333333],[\"(?)\",133.40740740740742],[\"(?)\",145.80089153046063]],\"domain\":{\"x\":[0.0,1.0],\"y\":[0.0,1.0]},\"hovertemplate\":\"labels=%{label}<br>class_counts=%{value}<br>parent=%{parent}<br>id=%{id}<br>ave_elo_hadsch-hallas=%{customdata[0]}<br>ave_score_hadsch-hallas=%{color}<extra></extra>\",\"ids\":[\"R1 Structs/PI/ 0-m_0-ts_1-lab_1-pi_0-ac1_0-ac2\",\"R1 Structs/lab/ 0-m_0-ts_2-lab_0-pi_0-ac1_0-ac2\",\"R1 Structs/ac1/ 0-m_1-ts_0-lab_0-pi_1-ac1_0-ac2\",\"R1 Structs/lab/ 0-m_1-ts_1-lab_0-pi_0-ac1_0-ac2\",\"R1 Structs/ts/ 0-m_2-ts_0-lab_0-pi_0-ac1_0-ac2\",\"R1 Structs/PI/ 0-m_2-ts_0-lab_1-pi_0-ac1_0-ac2\",\"R1 Structs/lab/ 0-m_2-ts_1-lab_0-pi_0-ac1_0-ac2\",\"R1 Structs/ts/ 0-m_3-ts_0-lab_0-pi_0-ac1_0-ac2\",\"R1 Structs/ts/ 0-m_4-ts_0-lab_0-pi_0-ac1_0-ac2\",\"R1 Structs/ac2/ 1-m_0-ts_0-lab_0-pi_0-ac1_1-ac2\",\"R1 Structs/ac1/ 1-m_0-ts_0-lab_0-pi_1-ac1_0-ac2\",\"R1 Structs/PI/ 1-m_0-ts_0-lab_1-pi_0-ac1_0-ac2\",\"R1 Structs/lab/ 1-m_0-ts_1-lab_0-pi_0-ac1_0-ac2\",\"R1 Structs/PI/ 1-m_0-ts_1-lab_1-pi_0-ac1_0-ac2\",\"R1 Structs/lab/ 1-m_0-ts_2-lab_0-pi_0-ac1_0-ac2\",\"R1 Structs/ac2/ 1-m_1-ts_0-lab_0-pi_0-ac1_1-ac2\",\"R1 Structs/ac1/ 1-m_1-ts_0-lab_0-pi_1-ac1_0-ac2\",\"R1 Structs/PI/ 1-m_1-ts_0-lab_1-pi_0-ac1_0-ac2\",\"R1 Structs/lab/ 1-m_1-ts_1-lab_0-pi_0-ac1_0-ac2\",\"R1 Structs/PI/ 1-m_2-ts_0-lab_1-pi_0-ac1_0-ac2\",\"R1 Structs/lab/ 1-m_2-ts_1-lab_0-pi_0-ac1_0-ac2\",\"R1 Structs/ts/ 1-m_3-ts_0-lab_0-pi_0-ac1_0-ac2\",\"R1 Structs/ac2/ 2-m_0-ts_0-lab_0-pi_0-ac1_1-ac2\",\"R1 Structs/ac1/ 2-m_0-ts_0-lab_0-pi_1-ac1_0-ac2\",\"R1 Structs/PI/ 2-m_0-ts_0-lab_1-pi_0-ac1_0-ac2\",\"R1 Structs/lab/ 2-m_0-ts_1-lab_0-pi_0-ac1_0-ac2\",\"R1 Structs/PI/ 2-m_0-ts_1-lab_1-pi_0-ac1_0-ac2\",\"R1 Structs/lab/ 2-m_0-ts_2-lab_0-pi_0-ac1_0-ac2\",\"R1 Structs/PI/ 2-m_1-ts_0-lab_1-pi_0-ac1_0-ac2\",\"R1 Structs/lab/ 2-m_1-ts_1-lab_0-pi_0-ac1_0-ac2\",\"R1 Structs/ts/ 2-m_2-ts_0-lab_0-pi_0-ac1_0-ac2\",\"R1 Structs/ts/ 2-m_3-ts_0-lab_0-pi_0-ac1_0-ac2\",\"R1 Structs/ac1/ 3-m_0-ts_0-lab_0-pi_1-ac1_0-ac2\",\"R1 Structs/PI/ 3-m_0-ts_0-lab_1-pi_0-ac1_0-ac2\",\"R1 Structs/lab/ 3-m_0-ts_1-lab_0-pi_0-ac1_0-ac2\",\"R1 Structs/lab/ 3-m_1-ts_1-lab_0-pi_0-ac1_0-ac2\",\"R1 Structs/m/ 4-m_0-ts_0-lab_0-pi_0-ac1_0-ac2\",\"R1 Structs/ac1/ 4-m_0-ts_0-lab_0-pi_1-ac1_0-ac2\",\"R1 Structs/PI/ 4-m_0-ts_0-lab_1-pi_0-ac1_0-ac2\",\"R1 Structs/lab/ 4-m_0-ts_1-lab_0-pi_0-ac1_0-ac2\",\"R1 Structs/m/ 5-m_0-ts_0-lab_0-pi_0-ac1_0-ac2\",\"R1 Structs/lab/ 5-m_0-ts_1-lab_0-pi_0-ac1_0-ac2\",\"R1 Structs/lab/ 5-m_1-ts_1-lab_0-pi_0-ac1_0-ac2\",\"R1 Structs/lab/ 6-m_0-ts_1-lab_0-pi_0-ac1_0-ac2\",\"R1 Structs/lab/ 7-m_0-ts_1-lab_0-pi_0-ac1_0-ac2\",\"R1 Structs/PI\",\"R1 Structs/ac1\",\"R1 Structs/ac2\",\"R1 Structs/lab\",\"R1 Structs/m\",\"R1 Structs/ts\",\"R1 Structs\"],\"labels\":[\" 0-m_0-ts_1-lab_1-pi_0-ac1_0-ac2\",\" 0-m_0-ts_2-lab_0-pi_0-ac1_0-ac2\",\" 0-m_1-ts_0-lab_0-pi_1-ac1_0-ac2\",\" 0-m_1-ts_1-lab_0-pi_0-ac1_0-ac2\",\" 0-m_2-ts_0-lab_0-pi_0-ac1_0-ac2\",\" 0-m_2-ts_0-lab_1-pi_0-ac1_0-ac2\",\" 0-m_2-ts_1-lab_0-pi_0-ac1_0-ac2\",\" 0-m_3-ts_0-lab_0-pi_0-ac1_0-ac2\",\" 0-m_4-ts_0-lab_0-pi_0-ac1_0-ac2\",\" 1-m_0-ts_0-lab_0-pi_0-ac1_1-ac2\",\" 1-m_0-ts_0-lab_0-pi_1-ac1_0-ac2\",\" 1-m_0-ts_0-lab_1-pi_0-ac1_0-ac2\",\" 1-m_0-ts_1-lab_0-pi_0-ac1_0-ac2\",\" 1-m_0-ts_1-lab_1-pi_0-ac1_0-ac2\",\" 1-m_0-ts_2-lab_0-pi_0-ac1_0-ac2\",\" 1-m_1-ts_0-lab_0-pi_0-ac1_1-ac2\",\" 1-m_1-ts_0-lab_0-pi_1-ac1_0-ac2\",\" 1-m_1-ts_0-lab_1-pi_0-ac1_0-ac2\",\" 1-m_1-ts_1-lab_0-pi_0-ac1_0-ac2\",\" 1-m_2-ts_0-lab_1-pi_0-ac1_0-ac2\",\" 1-m_2-ts_1-lab_0-pi_0-ac1_0-ac2\",\" 1-m_3-ts_0-lab_0-pi_0-ac1_0-ac2\",\" 2-m_0-ts_0-lab_0-pi_0-ac1_1-ac2\",\" 2-m_0-ts_0-lab_0-pi_1-ac1_0-ac2\",\" 2-m_0-ts_0-lab_1-pi_0-ac1_0-ac2\",\" 2-m_0-ts_1-lab_0-pi_0-ac1_0-ac2\",\" 2-m_0-ts_1-lab_1-pi_0-ac1_0-ac2\",\" 2-m_0-ts_2-lab_0-pi_0-ac1_0-ac2\",\" 2-m_1-ts_0-lab_1-pi_0-ac1_0-ac2\",\" 2-m_1-ts_1-lab_0-pi_0-ac1_0-ac2\",\" 2-m_2-ts_0-lab_0-pi_0-ac1_0-ac2\",\" 2-m_3-ts_0-lab_0-pi_0-ac1_0-ac2\",\" 3-m_0-ts_0-lab_0-pi_1-ac1_0-ac2\",\" 3-m_0-ts_0-lab_1-pi_0-ac1_0-ac2\",\" 3-m_0-ts_1-lab_0-pi_0-ac1_0-ac2\",\" 3-m_1-ts_1-lab_0-pi_0-ac1_0-ac2\",\" 4-m_0-ts_0-lab_0-pi_0-ac1_0-ac2\",\" 4-m_0-ts_0-lab_0-pi_1-ac1_0-ac2\",\" 4-m_0-ts_0-lab_1-pi_0-ac1_0-ac2\",\" 4-m_0-ts_1-lab_0-pi_0-ac1_0-ac2\",\" 5-m_0-ts_0-lab_0-pi_0-ac1_0-ac2\",\" 5-m_0-ts_1-lab_0-pi_0-ac1_0-ac2\",\" 5-m_1-ts_1-lab_0-pi_0-ac1_0-ac2\",\" 6-m_0-ts_1-lab_0-pi_0-ac1_0-ac2\",\" 7-m_0-ts_1-lab_0-pi_0-ac1_0-ac2\",\"PI\",\"ac1\",\"ac2\",\"lab\",\"m\",\"ts\",\"R1 Structs\"],\"marker\":{\"coloraxis\":\"coloraxis\",\"colors\":[142.8235294117647,125.25,138.5,126.85714285714286,109.5,147.25,158.83333333333334,120.0909090909091,176.0,140.25,146.59504132231405,129.0,140.73333333333332,130.55555555555554,150.85,135.0,131.5,126.6896551724138,130.75,132.2,144.0,148.16666666666666,191.33333333333334,154.3276836158192,136.56451612903226,143.7663551401869,169.33333333333334,159.11111111111111,134.41860465116278,151.37113402061857,137.66666666666666,171.0,158.66666666666666,126.41379310344827,141.671875,138.6,114.25,162.8,143.8,147.6564417177914,119.0,164.4742268041237,221.0,165.77777777777777,189.0,133.99586776859505,151.51552795031057,158.75,147.72739541160593,115.83333333333333,133.40740740740742,145.80089153046063]},\"name\":\"\",\"parents\":[\"R1 Structs/PI\",\"R1 Structs/lab\",\"R1 Structs/ac1\",\"R1 Structs/lab\",\"R1 Structs/ts\",\"R1 Structs/PI\",\"R1 Structs/lab\",\"R1 Structs/ts\",\"R1 Structs/ts\",\"R1 Structs/ac2\",\"R1 Structs/ac1\",\"R1 Structs/PI\",\"R1 Structs/lab\",\"R1 Structs/PI\",\"R1 Structs/lab\",\"R1 Structs/ac2\",\"R1 Structs/ac1\",\"R1 Structs/PI\",\"R1 Structs/lab\",\"R1 Structs/PI\",\"R1 Structs/lab\",\"R1 Structs/ts\",\"R1 Structs/ac2\",\"R1 Structs/ac1\",\"R1 Structs/PI\",\"R1 Structs/lab\",\"R1 Structs/PI\",\"R1 Structs/lab\",\"R1 Structs/PI\",\"R1 Structs/lab\",\"R1 Structs/ts\",\"R1 Structs/ts\",\"R1 Structs/ac1\",\"R1 Structs/PI\",\"R1 Structs/lab\",\"R1 Structs/lab\",\"R1 Structs/m\",\"R1 Structs/ac1\",\"R1 Structs/PI\",\"R1 Structs/lab\",\"R1 Structs/m\",\"R1 Structs/lab\",\"R1 Structs/lab\",\"R1 Structs/lab\",\"R1 Structs/lab\",\"R1 Structs\",\"R1 Structs\",\"R1 Structs\",\"R1 Structs\",\"R1 Structs\",\"R1 Structs\",\"\"],\"values\":[34,16,4,14,4,8,12,22,2,8,242,8,30,72,40,2,4,58,112,10,6,12,6,354,124,214,6,18,86,194,12,2,30,58,256,10,8,10,20,326,4,194,2,36,2,484,644,16,1482,12,54,2692],\"type\":\"treemap\"}],                        {\"template\":{\"data\":{\"bar\":[{\"error_x\":{\"color\":\"#2a3f5f\"},\"error_y\":{\"color\":\"#2a3f5f\"},\"marker\":{\"line\":{\"color\":\"#E5ECF6\",\"width\":0.5},\"pattern\":{\"fillmode\":\"overlay\",\"size\":10,\"solidity\":0.2}},\"type\":\"bar\"}],\"barpolar\":[{\"marker\":{\"line\":{\"color\":\"#E5ECF6\",\"width\":0.5},\"pattern\":{\"fillmode\":\"overlay\",\"size\":10,\"solidity\":0.2}},\"type\":\"barpolar\"}],\"carpet\":[{\"aaxis\":{\"endlinecolor\":\"#2a3f5f\",\"gridcolor\":\"white\",\"linecolor\":\"white\",\"minorgridcolor\":\"white\",\"startlinecolor\":\"#2a3f5f\"},\"baxis\":{\"endlinecolor\":\"#2a3f5f\",\"gridcolor\":\"white\",\"linecolor\":\"white\",\"minorgridcolor\":\"white\",\"startlinecolor\":\"#2a3f5f\"},\"type\":\"carpet\"}],\"choropleth\":[{\"colorbar\":{\"outlinewidth\":0,\"ticks\":\"\"},\"type\":\"choropleth\"}],\"contour\":[{\"colorbar\":{\"outlinewidth\":0,\"ticks\":\"\"},\"colorscale\":[[0.0,\"#0d0887\"],[0.1111111111111111,\"#46039f\"],[0.2222222222222222,\"#7201a8\"],[0.3333333333333333,\"#9c179e\"],[0.4444444444444444,\"#bd3786\"],[0.5555555555555556,\"#d8576b\"],[0.6666666666666666,\"#ed7953\"],[0.7777777777777778,\"#fb9f3a\"],[0.8888888888888888,\"#fdca26\"],[1.0,\"#f0f921\"]],\"type\":\"contour\"}],\"contourcarpet\":[{\"colorbar\":{\"outlinewidth\":0,\"ticks\":\"\"},\"type\":\"contourcarpet\"}],\"heatmap\":[{\"colorbar\":{\"outlinewidth\":0,\"ticks\":\"\"},\"colorscale\":[[0.0,\"#0d0887\"],[0.1111111111111111,\"#46039f\"],[0.2222222222222222,\"#7201a8\"],[0.3333333333333333,\"#9c179e\"],[0.4444444444444444,\"#bd3786\"],[0.5555555555555556,\"#d8576b\"],[0.6666666666666666,\"#ed7953\"],[0.7777777777777778,\"#fb9f3a\"],[0.8888888888888888,\"#fdca26\"],[1.0,\"#f0f921\"]],\"type\":\"heatmap\"}],\"heatmapgl\":[{\"colorbar\":{\"outlinewidth\":0,\"ticks\":\"\"},\"colorscale\":[[0.0,\"#0d0887\"],[0.1111111111111111,\"#46039f\"],[0.2222222222222222,\"#7201a8\"],[0.3333333333333333,\"#9c179e\"],[0.4444444444444444,\"#bd3786\"],[0.5555555555555556,\"#d8576b\"],[0.6666666666666666,\"#ed7953\"],[0.7777777777777778,\"#fb9f3a\"],[0.8888888888888888,\"#fdca26\"],[1.0,\"#f0f921\"]],\"type\":\"heatmapgl\"}],\"histogram\":[{\"marker\":{\"pattern\":{\"fillmode\":\"overlay\",\"size\":10,\"solidity\":0.2}},\"type\":\"histogram\"}],\"histogram2d\":[{\"colorbar\":{\"outlinewidth\":0,\"ticks\":\"\"},\"colorscale\":[[0.0,\"#0d0887\"],[0.1111111111111111,\"#46039f\"],[0.2222222222222222,\"#7201a8\"],[0.3333333333333333,\"#9c179e\"],[0.4444444444444444,\"#bd3786\"],[0.5555555555555556,\"#d8576b\"],[0.6666666666666666,\"#ed7953\"],[0.7777777777777778,\"#fb9f3a\"],[0.8888888888888888,\"#fdca26\"],[1.0,\"#f0f921\"]],\"type\":\"histogram2d\"}],\"histogram2dcontour\":[{\"colorbar\":{\"outlinewidth\":0,\"ticks\":\"\"},\"colorscale\":[[0.0,\"#0d0887\"],[0.1111111111111111,\"#46039f\"],[0.2222222222222222,\"#7201a8\"],[0.3333333333333333,\"#9c179e\"],[0.4444444444444444,\"#bd3786\"],[0.5555555555555556,\"#d8576b\"],[0.6666666666666666,\"#ed7953\"],[0.7777777777777778,\"#fb9f3a\"],[0.8888888888888888,\"#fdca26\"],[1.0,\"#f0f921\"]],\"type\":\"histogram2dcontour\"}],\"mesh3d\":[{\"colorbar\":{\"outlinewidth\":0,\"ticks\":\"\"},\"type\":\"mesh3d\"}],\"parcoords\":[{\"line\":{\"colorbar\":{\"outlinewidth\":0,\"ticks\":\"\"}},\"type\":\"parcoords\"}],\"pie\":[{\"automargin\":true,\"type\":\"pie\"}],\"scatter\":[{\"marker\":{\"colorbar\":{\"outlinewidth\":0,\"ticks\":\"\"}},\"type\":\"scatter\"}],\"scatter3d\":[{\"line\":{\"colorbar\":{\"outlinewidth\":0,\"ticks\":\"\"}},\"marker\":{\"colorbar\":{\"outlinewidth\":0,\"ticks\":\"\"}},\"type\":\"scatter3d\"}],\"scattercarpet\":[{\"marker\":{\"colorbar\":{\"outlinewidth\":0,\"ticks\":\"\"}},\"type\":\"scattercarpet\"}],\"scattergeo\":[{\"marker\":{\"colorbar\":{\"outlinewidth\":0,\"ticks\":\"\"}},\"type\":\"scattergeo\"}],\"scattergl\":[{\"marker\":{\"colorbar\":{\"outlinewidth\":0,\"ticks\":\"\"}},\"type\":\"scattergl\"}],\"scattermapbox\":[{\"marker\":{\"colorbar\":{\"outlinewidth\":0,\"ticks\":\"\"}},\"type\":\"scattermapbox\"}],\"scatterpolar\":[{\"marker\":{\"colorbar\":{\"outlinewidth\":0,\"ticks\":\"\"}},\"type\":\"scatterpolar\"}],\"scatterpolargl\":[{\"marker\":{\"colorbar\":{\"outlinewidth\":0,\"ticks\":\"\"}},\"type\":\"scatterpolargl\"}],\"scatterternary\":[{\"marker\":{\"colorbar\":{\"outlinewidth\":0,\"ticks\":\"\"}},\"type\":\"scatterternary\"}],\"surface\":[{\"colorbar\":{\"outlinewidth\":0,\"ticks\":\"\"},\"colorscale\":[[0.0,\"#0d0887\"],[0.1111111111111111,\"#46039f\"],[0.2222222222222222,\"#7201a8\"],[0.3333333333333333,\"#9c179e\"],[0.4444444444444444,\"#bd3786\"],[0.5555555555555556,\"#d8576b\"],[0.6666666666666666,\"#ed7953\"],[0.7777777777777778,\"#fb9f3a\"],[0.8888888888888888,\"#fdca26\"],[1.0,\"#f0f921\"]],\"type\":\"surface\"}],\"table\":[{\"cells\":{\"fill\":{\"color\":\"#EBF0F8\"},\"line\":{\"color\":\"white\"}},\"header\":{\"fill\":{\"color\":\"#C8D4E3\"},\"line\":{\"color\":\"white\"}},\"type\":\"table\"}]},\"layout\":{\"annotationdefaults\":{\"arrowcolor\":\"#2a3f5f\",\"arrowhead\":0,\"arrowwidth\":1},\"autotypenumbers\":\"strict\",\"coloraxis\":{\"colorbar\":{\"outlinewidth\":0,\"ticks\":\"\"}},\"colorscale\":{\"diverging\":[[0,\"#8e0152\"],[0.1,\"#c51b7d\"],[0.2,\"#de77ae\"],[0.3,\"#f1b6da\"],[0.4,\"#fde0ef\"],[0.5,\"#f7f7f7\"],[0.6,\"#e6f5d0\"],[0.7,\"#b8e186\"],[0.8,\"#7fbc41\"],[0.9,\"#4d9221\"],[1,\"#276419\"]],\"sequential\":[[0.0,\"#0d0887\"],[0.1111111111111111,\"#46039f\"],[0.2222222222222222,\"#7201a8\"],[0.3333333333333333,\"#9c179e\"],[0.4444444444444444,\"#bd3786\"],[0.5555555555555556,\"#d8576b\"],[0.6666666666666666,\"#ed7953\"],[0.7777777777777778,\"#fb9f3a\"],[0.8888888888888888,\"#fdca26\"],[1.0,\"#f0f921\"]],\"sequentialminus\":[[0.0,\"#0d0887\"],[0.1111111111111111,\"#46039f\"],[0.2222222222222222,\"#7201a8\"],[0.3333333333333333,\"#9c179e\"],[0.4444444444444444,\"#bd3786\"],[0.5555555555555556,\"#d8576b\"],[0.6666666666666666,\"#ed7953\"],[0.7777777777777778,\"#fb9f3a\"],[0.8888888888888888,\"#fdca26\"],[1.0,\"#f0f921\"]]},\"colorway\":[\"#636efa\",\"#EF553B\",\"#00cc96\",\"#ab63fa\",\"#FFA15A\",\"#19d3f3\",\"#FF6692\",\"#B6E880\",\"#FF97FF\",\"#FECB52\"],\"font\":{\"color\":\"#2a3f5f\"},\"geo\":{\"bgcolor\":\"white\",\"lakecolor\":\"white\",\"landcolor\":\"#E5ECF6\",\"showlakes\":true,\"showland\":true,\"subunitcolor\":\"white\"},\"hoverlabel\":{\"align\":\"left\"},\"hovermode\":\"closest\",\"mapbox\":{\"style\":\"light\"},\"paper_bgcolor\":\"white\",\"plot_bgcolor\":\"#E5ECF6\",\"polar\":{\"angularaxis\":{\"gridcolor\":\"white\",\"linecolor\":\"white\",\"ticks\":\"\"},\"bgcolor\":\"#E5ECF6\",\"radialaxis\":{\"gridcolor\":\"white\",\"linecolor\":\"white\",\"ticks\":\"\"}},\"scene\":{\"xaxis\":{\"backgroundcolor\":\"#E5ECF6\",\"gridcolor\":\"white\",\"gridwidth\":2,\"linecolor\":\"white\",\"showbackground\":true,\"ticks\":\"\",\"zerolinecolor\":\"white\"},\"yaxis\":{\"backgroundcolor\":\"#E5ECF6\",\"gridcolor\":\"white\",\"gridwidth\":2,\"linecolor\":\"white\",\"showbackground\":true,\"ticks\":\"\",\"zerolinecolor\":\"white\"},\"zaxis\":{\"backgroundcolor\":\"#E5ECF6\",\"gridcolor\":\"white\",\"gridwidth\":2,\"linecolor\":\"white\",\"showbackground\":true,\"ticks\":\"\",\"zerolinecolor\":\"white\"}},\"shapedefaults\":{\"line\":{\"color\":\"#2a3f5f\"}},\"ternary\":{\"aaxis\":{\"gridcolor\":\"white\",\"linecolor\":\"white\",\"ticks\":\"\"},\"baxis\":{\"gridcolor\":\"white\",\"linecolor\":\"white\",\"ticks\":\"\"},\"bgcolor\":\"#E5ECF6\",\"caxis\":{\"gridcolor\":\"white\",\"linecolor\":\"white\",\"ticks\":\"\"}},\"title\":{\"x\":0.05},\"xaxis\":{\"automargin\":true,\"gridcolor\":\"white\",\"linecolor\":\"white\",\"ticks\":\"\",\"title\":{\"standoff\":15},\"zerolinecolor\":\"white\",\"zerolinewidth\":2},\"yaxis\":{\"automargin\":true,\"gridcolor\":\"white\",\"linecolor\":\"white\",\"ticks\":\"\",\"title\":{\"standoff\":15},\"zerolinecolor\":\"white\",\"zerolinewidth\":2}}},\"coloraxis\":{\"colorbar\":{\"title\":{\"text\":\"ave_score_hadsch-hallas\"}},\"colorscale\":[[0.0,\"rgb(103,0,31)\"],[0.1,\"rgb(178,24,43)\"],[0.2,\"rgb(214,96,77)\"],[0.3,\"rgb(244,165,130)\"],[0.4,\"rgb(253,219,199)\"],[0.5,\"rgb(247,247,247)\"],[0.6,\"rgb(209,229,240)\"],[0.7,\"rgb(146,197,222)\"],[0.8,\"rgb(67,147,195)\"],[0.9,\"rgb(33,102,172)\"],[1.0,\"rgb(5,48,97)\"]],\"cmid\":144.39872372553106},\"legend\":{\"tracegroupgap\":0},\"margin\":{\"t\":50,\"l\":25,\"r\":25,\"b\":25},\"title\":{\"text\":\"R1 Structures: Frequency and Impact on Score Relative to All Factions Average (144.4): hadsch-hallas\"}},                        {\"responsive\": true}                    ).then(function(){\n",
       "                            \n",
       "var gd = document.getElementById('c5e5b38c-dca8-40c2-9b26-d5c31eeaaf1c');\n",
       "var x = new MutationObserver(function (mutations, observer) {{\n",
       "        var display = window.getComputedStyle(gd).display;\n",
       "        if (!display || display === 'none') {{\n",
       "            console.log([gd, 'removed!']);\n",
       "            Plotly.purge(gd);\n",
       "            observer.disconnect();\n",
       "        }}\n",
       "}});\n",
       "\n",
       "// Listen for the removal of the full notebook cells\n",
       "var notebookContainer = gd.closest('#notebook-container');\n",
       "if (notebookContainer) {{\n",
       "    x.observe(notebookContainer, {childList: true});\n",
       "}}\n",
       "\n",
       "// Listen for the clearing of the current output cell\n",
       "var outputEl = gd.closest('.output');\n",
       "if (outputEl) {{\n",
       "    x.observe(outputEl, {childList: true});\n",
       "}}\n",
       "\n",
       "                        })                };                });            </script>        </div>"
      ]
     },
     "metadata": {},
     "output_type": "display_data"
    },
    {
     "data": {
      "application/vnd.plotly.v1+json": {
       "config": {
        "plotlyServerURL": "https://plot.ly"
       },
       "data": [
        {
         "branchvalues": "total",
         "customdata": [
          [
           128.66666666666666,
           142.16666666666666
          ],
          [
           88,
           132.5
          ],
          [
           40,
           123
          ],
          [
           224,
           163.25
          ],
          [
           227.5,
           151.21186440677965
          ],
          [
           165,
           104.5
          ],
          [
           130,
           118
          ],
          [
           198.42857142857142,
           117
          ],
          [
           315,
           187
          ],
          [
           31,
           103
          ],
          [
           128,
           125.32
          ],
          [
           50,
           139.5
          ],
          [
           65,
           164
          ],
          [
           175.5,
           134.5
          ],
          [
           143,
           149.6
          ],
          [
           237.98104265402844,
           154.70616113744074
          ],
          [
           179.71052631578948,
           144.3684210526316
          ],
          [
           209,
           158.4
          ],
          [
           104.66666666666667,
           121.66666666666667
          ],
          [
           214.20994475138122,
           144.92265193370164
          ],
          [
           184.5,
           126.5
          ],
          [
           276,
           167
          ],
          [
           220.83333333333334,
           156.66666666666666
          ],
          [
           121,
           170
          ],
          [
           217.64705882352942,
           152.11764705882354
          ],
          [
           125.92857142857143,
           115.64285714285714
          ],
          [
           179.8235294117647,
           138.13235294117646
          ],
          [
           200.94444444444446,
           148.83333333333334
          ],
          [
           120.9,
           126.6
          ],
          [
           290.25,
           163
          ],
          [
           123.33333333333333,
           133.33333333333334
          ],
          [
           221.33066666666667,
           151.96266666666668
          ],
          [
           140.4,
           118
          ],
          [
           181.375,
           117.625
          ],
          [
           213.31034482758622,
           150
          ],
          [
           129,
           118
          ],
          [
           249.6280487804878,
           164.3231707317073
          ],
          [
           166.8,
           150.1
          ],
          [
           121,
           154
          ],
          [
           147,
           160.9090909090909
          ],
          [
           272.5925925925926,
           161.8148148148148
          ],
          [
           259.1111111111111,
           153.44444444444446
          ],
          [
           185.5,
           183.75
          ],
          [
           340,
           219
          ],
          [
           325.6666666666667,
           205
          ],
          [
           "(?)",
           117.125
          ],
          [
           "(?)",
           153.59259259259258
          ],
          [
           "(?)",
           157.1
          ],
          [
           "(?)",
           150.22105263157894
          ],
          [
           "(?)",
           161.23529411764707
          ],
          [
           "(?)",
           144.2808988764045
          ],
          [
           "(?)",
           150.30187369882026
          ]
         ],
         "domain": {
          "x": [
           0,
           1
          ],
          "y": [
           0,
           1
          ]
         },
         "hovertemplate": "labels=%{label}<br>class_counts=%{value}<br>parent=%{parent}<br>id=%{id}<br>ave_elo_ambas=%{customdata[0]}<br>ave_score_ambas=%{color}<extra></extra>",
         "ids": [
          "R1 Structs/lab/ 0-m_0-ts_2-lab_0-pi_0-ac1_0-ac2",
          "R1 Structs/lab/ 0-m_1-ts_1-lab_0-pi_0-ac1_0-ac2",
          "R1 Structs/ts/ 0-m_3-ts_0-lab_0-pi_0-ac1_0-ac2",
          "R1 Structs/ac2/ 1-m_0-ts_0-lab_0-pi_0-ac1_1-ac2",
          "R1 Structs/ac1/ 1-m_0-ts_0-lab_0-pi_1-ac1_0-ac2",
          "R1 Structs/lab/ 1-m_0-ts_1-lab_0-pi_0-ac1_0-ac2",
          "R1 Structs/PI/ 1-m_0-ts_1-lab_1-pi_0-ac1_0-ac2",
          "R1 Structs/lab/ 1-m_0-ts_2-lab_0-pi_0-ac1_0-ac2",
          "R1 Structs/ac1/ 1-m_1-ts_0-lab_0-pi_1-ac1_0-ac2",
          "R1 Structs/PI/ 1-m_1-ts_0-lab_1-pi_0-ac1_0-ac2",
          "R1 Structs/lab/ 1-m_1-ts_1-lab_0-pi_0-ac1_0-ac2",
          "R1 Structs/ts/ 1-m_2-ts_0-lab_0-pi_0-ac1_0-ac2",
          "R1 Structs/lab/ 1-m_2-ts_1-lab_0-pi_0-ac1_0-ac2",
          "R1 Structs/ts/ 1-m_3-ts_0-lab_0-pi_0-ac1_0-ac2",
          "R1 Structs/ac2/ 2-m_0-ts_0-lab_0-pi_0-ac1_1-ac2",
          "R1 Structs/ac1/ 2-m_0-ts_0-lab_0-pi_1-ac1_0-ac2",
          "R1 Structs/lab/ 2-m_0-ts_1-lab_0-pi_0-ac1_0-ac2",
          "R1 Structs/lab/ 2-m_0-ts_2-lab_0-pi_0-ac1_0-ac2",
          "R1 Structs/PI/ 2-m_1-ts_0-lab_1-pi_0-ac1_0-ac2",
          "R1 Structs/lab/ 2-m_1-ts_1-lab_0-pi_0-ac1_0-ac2",
          "R1 Structs/ts/ 2-m_2-ts_0-lab_0-pi_0-ac1_0-ac2",
          "R1 Structs/lab/ 2-m_2-ts_1-lab_0-pi_0-ac1_0-ac2",
          "R1 Structs/ts/ 2-m_3-ts_0-lab_0-pi_0-ac1_0-ac2",
          "R1 Structs/ac2/ 3-m_0-ts_0-lab_0-pi_0-ac1_1-ac2",
          "R1 Structs/ac1/ 3-m_0-ts_0-lab_0-pi_1-ac1_0-ac2",
          "R1 Structs/PI/ 3-m_0-ts_0-lab_1-pi_0-ac1_0-ac2",
          "R1 Structs/lab/ 3-m_0-ts_1-lab_0-pi_0-ac1_0-ac2",
          "R1 Structs/lab/ 3-m_1-ts_1-lab_0-pi_0-ac1_0-ac2",
          "R1 Structs/ts/ 3-m_2-ts_0-lab_0-pi_0-ac1_0-ac2",
          "R1 Structs/ac1/ 4-m_0-ts_0-lab_0-pi_1-ac1_0-ac2",
          "R1 Structs/PI/ 4-m_0-ts_0-lab_1-pi_0-ac1_0-ac2",
          "R1 Structs/lab/ 4-m_0-ts_1-lab_0-pi_0-ac1_0-ac2",
          "R1 Structs/ts/ 4-m_1-ts_0-lab_0-pi_0-ac1_0-ac2",
          "R1 Structs/lab/ 4-m_1-ts_1-lab_0-pi_0-ac1_0-ac2",
          "R1 Structs/ts/ 4-m_2-ts_0-lab_0-pi_0-ac1_0-ac2",
          "R1 Structs/m/ 5-m_0-ts_0-lab_0-pi_0-ac1_0-ac2",
          "R1 Structs/lab/ 5-m_0-ts_1-lab_0-pi_0-ac1_0-ac2",
          "R1 Structs/ts/ 5-m_1-ts_0-lab_0-pi_0-ac1_0-ac2",
          "R1 Structs/ts/ 5-m_2-ts_0-lab_0-pi_0-ac1_0-ac2",
          "R1 Structs/m/ 6-m_0-ts_0-lab_0-pi_0-ac1_0-ac2",
          "R1 Structs/lab/ 6-m_0-ts_1-lab_0-pi_0-ac1_0-ac2",
          "R1 Structs/ts/ 6-m_1-ts_0-lab_0-pi_0-ac1_0-ac2",
          "R1 Structs/m/ 7-m_0-ts_0-lab_0-pi_0-ac1_0-ac2",
          "R1 Structs/lab/ 7-m_0-ts_1-lab_0-pi_0-ac1_0-ac2",
          "R1 Structs/ts/ 7-m_1-ts_0-lab_0-pi_0-ac1_0-ac2",
          "R1 Structs/PI",
          "R1 Structs/ac1",
          "R1 Structs/ac2",
          "R1 Structs/lab",
          "R1 Structs/m",
          "R1 Structs/ts",
          "R1 Structs"
         ],
         "labels": [
          " 0-m_0-ts_2-lab_0-pi_0-ac1_0-ac2",
          " 0-m_1-ts_1-lab_0-pi_0-ac1_0-ac2",
          " 0-m_3-ts_0-lab_0-pi_0-ac1_0-ac2",
          " 1-m_0-ts_0-lab_0-pi_0-ac1_1-ac2",
          " 1-m_0-ts_0-lab_0-pi_1-ac1_0-ac2",
          " 1-m_0-ts_1-lab_0-pi_0-ac1_0-ac2",
          " 1-m_0-ts_1-lab_1-pi_0-ac1_0-ac2",
          " 1-m_0-ts_2-lab_0-pi_0-ac1_0-ac2",
          " 1-m_1-ts_0-lab_0-pi_1-ac1_0-ac2",
          " 1-m_1-ts_0-lab_1-pi_0-ac1_0-ac2",
          " 1-m_1-ts_1-lab_0-pi_0-ac1_0-ac2",
          " 1-m_2-ts_0-lab_0-pi_0-ac1_0-ac2",
          " 1-m_2-ts_1-lab_0-pi_0-ac1_0-ac2",
          " 1-m_3-ts_0-lab_0-pi_0-ac1_0-ac2",
          " 2-m_0-ts_0-lab_0-pi_0-ac1_1-ac2",
          " 2-m_0-ts_0-lab_0-pi_1-ac1_0-ac2",
          " 2-m_0-ts_1-lab_0-pi_0-ac1_0-ac2",
          " 2-m_0-ts_2-lab_0-pi_0-ac1_0-ac2",
          " 2-m_1-ts_0-lab_1-pi_0-ac1_0-ac2",
          " 2-m_1-ts_1-lab_0-pi_0-ac1_0-ac2",
          " 2-m_2-ts_0-lab_0-pi_0-ac1_0-ac2",
          " 2-m_2-ts_1-lab_0-pi_0-ac1_0-ac2",
          " 2-m_3-ts_0-lab_0-pi_0-ac1_0-ac2",
          " 3-m_0-ts_0-lab_0-pi_0-ac1_1-ac2",
          " 3-m_0-ts_0-lab_0-pi_1-ac1_0-ac2",
          " 3-m_0-ts_0-lab_1-pi_0-ac1_0-ac2",
          " 3-m_0-ts_1-lab_0-pi_0-ac1_0-ac2",
          " 3-m_1-ts_1-lab_0-pi_0-ac1_0-ac2",
          " 3-m_2-ts_0-lab_0-pi_0-ac1_0-ac2",
          " 4-m_0-ts_0-lab_0-pi_1-ac1_0-ac2",
          " 4-m_0-ts_0-lab_1-pi_0-ac1_0-ac2",
          " 4-m_0-ts_1-lab_0-pi_0-ac1_0-ac2",
          " 4-m_1-ts_0-lab_0-pi_0-ac1_0-ac2",
          " 4-m_1-ts_1-lab_0-pi_0-ac1_0-ac2",
          " 4-m_2-ts_0-lab_0-pi_0-ac1_0-ac2",
          " 5-m_0-ts_0-lab_0-pi_0-ac1_0-ac2",
          " 5-m_0-ts_1-lab_0-pi_0-ac1_0-ac2",
          " 5-m_1-ts_0-lab_0-pi_0-ac1_0-ac2",
          " 5-m_2-ts_0-lab_0-pi_0-ac1_0-ac2",
          " 6-m_0-ts_0-lab_0-pi_0-ac1_0-ac2",
          " 6-m_0-ts_1-lab_0-pi_0-ac1_0-ac2",
          " 6-m_1-ts_0-lab_0-pi_0-ac1_0-ac2",
          " 7-m_0-ts_0-lab_0-pi_0-ac1_0-ac2",
          " 7-m_0-ts_1-lab_0-pi_0-ac1_0-ac2",
          " 7-m_1-ts_0-lab_0-pi_0-ac1_0-ac2",
          "PI",
          "ac1",
          "ac2",
          "lab",
          "m",
          "ts",
          "R1 Structs"
         ],
         "marker": {
          "coloraxis": "coloraxis",
          "colors": [
           142.16666666666666,
           132.5,
           123,
           163.25,
           151.21186440677965,
           104.5,
           118,
           117,
           187,
           103,
           125.32,
           139.5,
           164,
           134.5,
           149.6,
           154.70616113744074,
           144.3684210526316,
           158.4,
           121.66666666666667,
           144.92265193370164,
           126.5,
           167,
           156.66666666666666,
           170,
           152.11764705882354,
           115.64285714285714,
           138.13235294117646,
           148.83333333333334,
           126.6,
           163,
           133.33333333333334,
           151.96266666666668,
           118,
           117.625,
           150,
           118,
           164.3231707317073,
           150.1,
           154,
           160.9090909090909,
           161.8148148148148,
           153.44444444444446,
           183.75,
           219,
           205,
           117.125,
           153.59259259259258,
           157.1,
           150.22105263157894,
           161.23529411764707,
           144.2808988764045,
           150.30187369882026
          ]
         },
         "name": "",
         "parents": [
          "R1 Structs/lab",
          "R1 Structs/lab",
          "R1 Structs/ts",
          "R1 Structs/ac2",
          "R1 Structs/ac1",
          "R1 Structs/lab",
          "R1 Structs/PI",
          "R1 Structs/lab",
          "R1 Structs/ac1",
          "R1 Structs/PI",
          "R1 Structs/lab",
          "R1 Structs/ts",
          "R1 Structs/lab",
          "R1 Structs/ts",
          "R1 Structs/ac2",
          "R1 Structs/ac1",
          "R1 Structs/lab",
          "R1 Structs/lab",
          "R1 Structs/PI",
          "R1 Structs/lab",
          "R1 Structs/ts",
          "R1 Structs/lab",
          "R1 Structs/ts",
          "R1 Structs/ac2",
          "R1 Structs/ac1",
          "R1 Structs/PI",
          "R1 Structs/lab",
          "R1 Structs/lab",
          "R1 Structs/ts",
          "R1 Structs/ac1",
          "R1 Structs/PI",
          "R1 Structs/lab",
          "R1 Structs/ts",
          "R1 Structs/lab",
          "R1 Structs/ts",
          "R1 Structs/m",
          "R1 Structs/lab",
          "R1 Structs/ts",
          "R1 Structs/ts",
          "R1 Structs/m",
          "R1 Structs/lab",
          "R1 Structs/ts",
          "R1 Structs/m",
          "R1 Structs/lab",
          "R1 Structs/ts",
          "R1 Structs",
          "R1 Structs",
          "R1 Structs",
          "R1 Structs",
          "R1 Structs",
          "R1 Structs",
          ""
         ],
         "type": "treemap",
         "values": [
          12,
          4,
          4,
          8,
          236,
          8,
          2,
          14,
          2,
          6,
          50,
          4,
          2,
          4,
          10,
          422,
          76,
          10,
          6,
          362,
          8,
          4,
          12,
          2,
          34,
          28,
          136,
          72,
          20,
          8,
          6,
          750,
          20,
          16,
          58,
          4,
          328,
          20,
          4,
          22,
          54,
          18,
          8,
          2,
          6,
          48,
          702,
          20,
          1900,
          34,
          178,
          2882
         ]
        }
       ],
       "layout": {
        "coloraxis": {
         "cmid": 144.39872372553106,
         "colorbar": {
          "title": {
           "text": "ave_score_ambas"
          }
         },
         "colorscale": [
          [
           0,
           "rgb(103,0,31)"
          ],
          [
           0.1,
           "rgb(178,24,43)"
          ],
          [
           0.2,
           "rgb(214,96,77)"
          ],
          [
           0.3,
           "rgb(244,165,130)"
          ],
          [
           0.4,
           "rgb(253,219,199)"
          ],
          [
           0.5,
           "rgb(247,247,247)"
          ],
          [
           0.6,
           "rgb(209,229,240)"
          ],
          [
           0.7,
           "rgb(146,197,222)"
          ],
          [
           0.8,
           "rgb(67,147,195)"
          ],
          [
           0.9,
           "rgb(33,102,172)"
          ],
          [
           1,
           "rgb(5,48,97)"
          ]
         ]
        },
        "legend": {
         "tracegroupgap": 0
        },
        "margin": {
         "b": 25,
         "l": 25,
         "r": 25,
         "t": 50
        },
        "template": {
         "data": {
          "bar": [
           {
            "error_x": {
             "color": "#2a3f5f"
            },
            "error_y": {
             "color": "#2a3f5f"
            },
            "marker": {
             "line": {
              "color": "#E5ECF6",
              "width": 0.5
             },
             "pattern": {
              "fillmode": "overlay",
              "size": 10,
              "solidity": 0.2
             }
            },
            "type": "bar"
           }
          ],
          "barpolar": [
           {
            "marker": {
             "line": {
              "color": "#E5ECF6",
              "width": 0.5
             },
             "pattern": {
              "fillmode": "overlay",
              "size": 10,
              "solidity": 0.2
             }
            },
            "type": "barpolar"
           }
          ],
          "carpet": [
           {
            "aaxis": {
             "endlinecolor": "#2a3f5f",
             "gridcolor": "white",
             "linecolor": "white",
             "minorgridcolor": "white",
             "startlinecolor": "#2a3f5f"
            },
            "baxis": {
             "endlinecolor": "#2a3f5f",
             "gridcolor": "white",
             "linecolor": "white",
             "minorgridcolor": "white",
             "startlinecolor": "#2a3f5f"
            },
            "type": "carpet"
           }
          ],
          "choropleth": [
           {
            "colorbar": {
             "outlinewidth": 0,
             "ticks": ""
            },
            "type": "choropleth"
           }
          ],
          "contour": [
           {
            "colorbar": {
             "outlinewidth": 0,
             "ticks": ""
            },
            "colorscale": [
             [
              0,
              "#0d0887"
             ],
             [
              0.1111111111111111,
              "#46039f"
             ],
             [
              0.2222222222222222,
              "#7201a8"
             ],
             [
              0.3333333333333333,
              "#9c179e"
             ],
             [
              0.4444444444444444,
              "#bd3786"
             ],
             [
              0.5555555555555556,
              "#d8576b"
             ],
             [
              0.6666666666666666,
              "#ed7953"
             ],
             [
              0.7777777777777778,
              "#fb9f3a"
             ],
             [
              0.8888888888888888,
              "#fdca26"
             ],
             [
              1,
              "#f0f921"
             ]
            ],
            "type": "contour"
           }
          ],
          "contourcarpet": [
           {
            "colorbar": {
             "outlinewidth": 0,
             "ticks": ""
            },
            "type": "contourcarpet"
           }
          ],
          "heatmap": [
           {
            "colorbar": {
             "outlinewidth": 0,
             "ticks": ""
            },
            "colorscale": [
             [
              0,
              "#0d0887"
             ],
             [
              0.1111111111111111,
              "#46039f"
             ],
             [
              0.2222222222222222,
              "#7201a8"
             ],
             [
              0.3333333333333333,
              "#9c179e"
             ],
             [
              0.4444444444444444,
              "#bd3786"
             ],
             [
              0.5555555555555556,
              "#d8576b"
             ],
             [
              0.6666666666666666,
              "#ed7953"
             ],
             [
              0.7777777777777778,
              "#fb9f3a"
             ],
             [
              0.8888888888888888,
              "#fdca26"
             ],
             [
              1,
              "#f0f921"
             ]
            ],
            "type": "heatmap"
           }
          ],
          "heatmapgl": [
           {
            "colorbar": {
             "outlinewidth": 0,
             "ticks": ""
            },
            "colorscale": [
             [
              0,
              "#0d0887"
             ],
             [
              0.1111111111111111,
              "#46039f"
             ],
             [
              0.2222222222222222,
              "#7201a8"
             ],
             [
              0.3333333333333333,
              "#9c179e"
             ],
             [
              0.4444444444444444,
              "#bd3786"
             ],
             [
              0.5555555555555556,
              "#d8576b"
             ],
             [
              0.6666666666666666,
              "#ed7953"
             ],
             [
              0.7777777777777778,
              "#fb9f3a"
             ],
             [
              0.8888888888888888,
              "#fdca26"
             ],
             [
              1,
              "#f0f921"
             ]
            ],
            "type": "heatmapgl"
           }
          ],
          "histogram": [
           {
            "marker": {
             "pattern": {
              "fillmode": "overlay",
              "size": 10,
              "solidity": 0.2
             }
            },
            "type": "histogram"
           }
          ],
          "histogram2d": [
           {
            "colorbar": {
             "outlinewidth": 0,
             "ticks": ""
            },
            "colorscale": [
             [
              0,
              "#0d0887"
             ],
             [
              0.1111111111111111,
              "#46039f"
             ],
             [
              0.2222222222222222,
              "#7201a8"
             ],
             [
              0.3333333333333333,
              "#9c179e"
             ],
             [
              0.4444444444444444,
              "#bd3786"
             ],
             [
              0.5555555555555556,
              "#d8576b"
             ],
             [
              0.6666666666666666,
              "#ed7953"
             ],
             [
              0.7777777777777778,
              "#fb9f3a"
             ],
             [
              0.8888888888888888,
              "#fdca26"
             ],
             [
              1,
              "#f0f921"
             ]
            ],
            "type": "histogram2d"
           }
          ],
          "histogram2dcontour": [
           {
            "colorbar": {
             "outlinewidth": 0,
             "ticks": ""
            },
            "colorscale": [
             [
              0,
              "#0d0887"
             ],
             [
              0.1111111111111111,
              "#46039f"
             ],
             [
              0.2222222222222222,
              "#7201a8"
             ],
             [
              0.3333333333333333,
              "#9c179e"
             ],
             [
              0.4444444444444444,
              "#bd3786"
             ],
             [
              0.5555555555555556,
              "#d8576b"
             ],
             [
              0.6666666666666666,
              "#ed7953"
             ],
             [
              0.7777777777777778,
              "#fb9f3a"
             ],
             [
              0.8888888888888888,
              "#fdca26"
             ],
             [
              1,
              "#f0f921"
             ]
            ],
            "type": "histogram2dcontour"
           }
          ],
          "mesh3d": [
           {
            "colorbar": {
             "outlinewidth": 0,
             "ticks": ""
            },
            "type": "mesh3d"
           }
          ],
          "parcoords": [
           {
            "line": {
             "colorbar": {
              "outlinewidth": 0,
              "ticks": ""
             }
            },
            "type": "parcoords"
           }
          ],
          "pie": [
           {
            "automargin": true,
            "type": "pie"
           }
          ],
          "scatter": [
           {
            "marker": {
             "colorbar": {
              "outlinewidth": 0,
              "ticks": ""
             }
            },
            "type": "scatter"
           }
          ],
          "scatter3d": [
           {
            "line": {
             "colorbar": {
              "outlinewidth": 0,
              "ticks": ""
             }
            },
            "marker": {
             "colorbar": {
              "outlinewidth": 0,
              "ticks": ""
             }
            },
            "type": "scatter3d"
           }
          ],
          "scattercarpet": [
           {
            "marker": {
             "colorbar": {
              "outlinewidth": 0,
              "ticks": ""
             }
            },
            "type": "scattercarpet"
           }
          ],
          "scattergeo": [
           {
            "marker": {
             "colorbar": {
              "outlinewidth": 0,
              "ticks": ""
             }
            },
            "type": "scattergeo"
           }
          ],
          "scattergl": [
           {
            "marker": {
             "colorbar": {
              "outlinewidth": 0,
              "ticks": ""
             }
            },
            "type": "scattergl"
           }
          ],
          "scattermapbox": [
           {
            "marker": {
             "colorbar": {
              "outlinewidth": 0,
              "ticks": ""
             }
            },
            "type": "scattermapbox"
           }
          ],
          "scatterpolar": [
           {
            "marker": {
             "colorbar": {
              "outlinewidth": 0,
              "ticks": ""
             }
            },
            "type": "scatterpolar"
           }
          ],
          "scatterpolargl": [
           {
            "marker": {
             "colorbar": {
              "outlinewidth": 0,
              "ticks": ""
             }
            },
            "type": "scatterpolargl"
           }
          ],
          "scatterternary": [
           {
            "marker": {
             "colorbar": {
              "outlinewidth": 0,
              "ticks": ""
             }
            },
            "type": "scatterternary"
           }
          ],
          "surface": [
           {
            "colorbar": {
             "outlinewidth": 0,
             "ticks": ""
            },
            "colorscale": [
             [
              0,
              "#0d0887"
             ],
             [
              0.1111111111111111,
              "#46039f"
             ],
             [
              0.2222222222222222,
              "#7201a8"
             ],
             [
              0.3333333333333333,
              "#9c179e"
             ],
             [
              0.4444444444444444,
              "#bd3786"
             ],
             [
              0.5555555555555556,
              "#d8576b"
             ],
             [
              0.6666666666666666,
              "#ed7953"
             ],
             [
              0.7777777777777778,
              "#fb9f3a"
             ],
             [
              0.8888888888888888,
              "#fdca26"
             ],
             [
              1,
              "#f0f921"
             ]
            ],
            "type": "surface"
           }
          ],
          "table": [
           {
            "cells": {
             "fill": {
              "color": "#EBF0F8"
             },
             "line": {
              "color": "white"
             }
            },
            "header": {
             "fill": {
              "color": "#C8D4E3"
             },
             "line": {
              "color": "white"
             }
            },
            "type": "table"
           }
          ]
         },
         "layout": {
          "annotationdefaults": {
           "arrowcolor": "#2a3f5f",
           "arrowhead": 0,
           "arrowwidth": 1
          },
          "autotypenumbers": "strict",
          "coloraxis": {
           "colorbar": {
            "outlinewidth": 0,
            "ticks": ""
           }
          },
          "colorscale": {
           "diverging": [
            [
             0,
             "#8e0152"
            ],
            [
             0.1,
             "#c51b7d"
            ],
            [
             0.2,
             "#de77ae"
            ],
            [
             0.3,
             "#f1b6da"
            ],
            [
             0.4,
             "#fde0ef"
            ],
            [
             0.5,
             "#f7f7f7"
            ],
            [
             0.6,
             "#e6f5d0"
            ],
            [
             0.7,
             "#b8e186"
            ],
            [
             0.8,
             "#7fbc41"
            ],
            [
             0.9,
             "#4d9221"
            ],
            [
             1,
             "#276419"
            ]
           ],
           "sequential": [
            [
             0,
             "#0d0887"
            ],
            [
             0.1111111111111111,
             "#46039f"
            ],
            [
             0.2222222222222222,
             "#7201a8"
            ],
            [
             0.3333333333333333,
             "#9c179e"
            ],
            [
             0.4444444444444444,
             "#bd3786"
            ],
            [
             0.5555555555555556,
             "#d8576b"
            ],
            [
             0.6666666666666666,
             "#ed7953"
            ],
            [
             0.7777777777777778,
             "#fb9f3a"
            ],
            [
             0.8888888888888888,
             "#fdca26"
            ],
            [
             1,
             "#f0f921"
            ]
           ],
           "sequentialminus": [
            [
             0,
             "#0d0887"
            ],
            [
             0.1111111111111111,
             "#46039f"
            ],
            [
             0.2222222222222222,
             "#7201a8"
            ],
            [
             0.3333333333333333,
             "#9c179e"
            ],
            [
             0.4444444444444444,
             "#bd3786"
            ],
            [
             0.5555555555555556,
             "#d8576b"
            ],
            [
             0.6666666666666666,
             "#ed7953"
            ],
            [
             0.7777777777777778,
             "#fb9f3a"
            ],
            [
             0.8888888888888888,
             "#fdca26"
            ],
            [
             1,
             "#f0f921"
            ]
           ]
          },
          "colorway": [
           "#636efa",
           "#EF553B",
           "#00cc96",
           "#ab63fa",
           "#FFA15A",
           "#19d3f3",
           "#FF6692",
           "#B6E880",
           "#FF97FF",
           "#FECB52"
          ],
          "font": {
           "color": "#2a3f5f"
          },
          "geo": {
           "bgcolor": "white",
           "lakecolor": "white",
           "landcolor": "#E5ECF6",
           "showlakes": true,
           "showland": true,
           "subunitcolor": "white"
          },
          "hoverlabel": {
           "align": "left"
          },
          "hovermode": "closest",
          "mapbox": {
           "style": "light"
          },
          "paper_bgcolor": "white",
          "plot_bgcolor": "#E5ECF6",
          "polar": {
           "angularaxis": {
            "gridcolor": "white",
            "linecolor": "white",
            "ticks": ""
           },
           "bgcolor": "#E5ECF6",
           "radialaxis": {
            "gridcolor": "white",
            "linecolor": "white",
            "ticks": ""
           }
          },
          "scene": {
           "xaxis": {
            "backgroundcolor": "#E5ECF6",
            "gridcolor": "white",
            "gridwidth": 2,
            "linecolor": "white",
            "showbackground": true,
            "ticks": "",
            "zerolinecolor": "white"
           },
           "yaxis": {
            "backgroundcolor": "#E5ECF6",
            "gridcolor": "white",
            "gridwidth": 2,
            "linecolor": "white",
            "showbackground": true,
            "ticks": "",
            "zerolinecolor": "white"
           },
           "zaxis": {
            "backgroundcolor": "#E5ECF6",
            "gridcolor": "white",
            "gridwidth": 2,
            "linecolor": "white",
            "showbackground": true,
            "ticks": "",
            "zerolinecolor": "white"
           }
          },
          "shapedefaults": {
           "line": {
            "color": "#2a3f5f"
           }
          },
          "ternary": {
           "aaxis": {
            "gridcolor": "white",
            "linecolor": "white",
            "ticks": ""
           },
           "baxis": {
            "gridcolor": "white",
            "linecolor": "white",
            "ticks": ""
           },
           "bgcolor": "#E5ECF6",
           "caxis": {
            "gridcolor": "white",
            "linecolor": "white",
            "ticks": ""
           }
          },
          "title": {
           "x": 0.05
          },
          "xaxis": {
           "automargin": true,
           "gridcolor": "white",
           "linecolor": "white",
           "ticks": "",
           "title": {
            "standoff": 15
           },
           "zerolinecolor": "white",
           "zerolinewidth": 2
          },
          "yaxis": {
           "automargin": true,
           "gridcolor": "white",
           "linecolor": "white",
           "ticks": "",
           "title": {
            "standoff": 15
           },
           "zerolinecolor": "white",
           "zerolinewidth": 2
          }
         }
        },
        "title": {
         "text": "R1 Structures: Frequency and Impact on Score Relative to All Factions Average (144.4): ambas"
        }
       }
      },
      "text/html": [
       "<div>                            <div id=\"9dbd896f-3f74-4638-9c25-fa4dee652694\" class=\"plotly-graph-div\" style=\"height:525px; width:100%;\"></div>            <script type=\"text/javascript\">                require([\"plotly\"], function(Plotly) {                    window.PLOTLYENV=window.PLOTLYENV || {};                                    if (document.getElementById(\"9dbd896f-3f74-4638-9c25-fa4dee652694\")) {                    Plotly.newPlot(                        \"9dbd896f-3f74-4638-9c25-fa4dee652694\",                        [{\"branchvalues\":\"total\",\"customdata\":[[128.66666666666666,142.16666666666666],[88.0,132.5],[40.0,123.0],[224.0,163.25],[227.5,151.21186440677965],[165.0,104.5],[130.0,118.0],[198.42857142857142,117.0],[315.0,187.0],[31.0,103.0],[128.0,125.32],[50.0,139.5],[65.0,164.0],[175.5,134.5],[143.0,149.6],[237.98104265402844,154.70616113744074],[179.71052631578948,144.3684210526316],[209.0,158.4],[104.66666666666667,121.66666666666667],[214.20994475138122,144.92265193370164],[184.5,126.5],[276.0,167.0],[220.83333333333334,156.66666666666666],[121.0,170.0],[217.64705882352942,152.11764705882354],[125.92857142857143,115.64285714285714],[179.8235294117647,138.13235294117646],[200.94444444444446,148.83333333333334],[120.9,126.6],[290.25,163.0],[123.33333333333333,133.33333333333334],[221.33066666666667,151.96266666666668],[140.4,118.0],[181.375,117.625],[213.31034482758622,150.0],[129.0,118.0],[249.6280487804878,164.3231707317073],[166.8,150.1],[121.0,154.0],[147.0,160.9090909090909],[272.5925925925926,161.8148148148148],[259.1111111111111,153.44444444444446],[185.5,183.75],[340.0,219.0],[325.6666666666667,205.0],[\"(?)\",117.125],[\"(?)\",153.59259259259258],[\"(?)\",157.1],[\"(?)\",150.22105263157894],[\"(?)\",161.23529411764707],[\"(?)\",144.2808988764045],[\"(?)\",150.30187369882026]],\"domain\":{\"x\":[0.0,1.0],\"y\":[0.0,1.0]},\"hovertemplate\":\"labels=%{label}<br>class_counts=%{value}<br>parent=%{parent}<br>id=%{id}<br>ave_elo_ambas=%{customdata[0]}<br>ave_score_ambas=%{color}<extra></extra>\",\"ids\":[\"R1 Structs/lab/ 0-m_0-ts_2-lab_0-pi_0-ac1_0-ac2\",\"R1 Structs/lab/ 0-m_1-ts_1-lab_0-pi_0-ac1_0-ac2\",\"R1 Structs/ts/ 0-m_3-ts_0-lab_0-pi_0-ac1_0-ac2\",\"R1 Structs/ac2/ 1-m_0-ts_0-lab_0-pi_0-ac1_1-ac2\",\"R1 Structs/ac1/ 1-m_0-ts_0-lab_0-pi_1-ac1_0-ac2\",\"R1 Structs/lab/ 1-m_0-ts_1-lab_0-pi_0-ac1_0-ac2\",\"R1 Structs/PI/ 1-m_0-ts_1-lab_1-pi_0-ac1_0-ac2\",\"R1 Structs/lab/ 1-m_0-ts_2-lab_0-pi_0-ac1_0-ac2\",\"R1 Structs/ac1/ 1-m_1-ts_0-lab_0-pi_1-ac1_0-ac2\",\"R1 Structs/PI/ 1-m_1-ts_0-lab_1-pi_0-ac1_0-ac2\",\"R1 Structs/lab/ 1-m_1-ts_1-lab_0-pi_0-ac1_0-ac2\",\"R1 Structs/ts/ 1-m_2-ts_0-lab_0-pi_0-ac1_0-ac2\",\"R1 Structs/lab/ 1-m_2-ts_1-lab_0-pi_0-ac1_0-ac2\",\"R1 Structs/ts/ 1-m_3-ts_0-lab_0-pi_0-ac1_0-ac2\",\"R1 Structs/ac2/ 2-m_0-ts_0-lab_0-pi_0-ac1_1-ac2\",\"R1 Structs/ac1/ 2-m_0-ts_0-lab_0-pi_1-ac1_0-ac2\",\"R1 Structs/lab/ 2-m_0-ts_1-lab_0-pi_0-ac1_0-ac2\",\"R1 Structs/lab/ 2-m_0-ts_2-lab_0-pi_0-ac1_0-ac2\",\"R1 Structs/PI/ 2-m_1-ts_0-lab_1-pi_0-ac1_0-ac2\",\"R1 Structs/lab/ 2-m_1-ts_1-lab_0-pi_0-ac1_0-ac2\",\"R1 Structs/ts/ 2-m_2-ts_0-lab_0-pi_0-ac1_0-ac2\",\"R1 Structs/lab/ 2-m_2-ts_1-lab_0-pi_0-ac1_0-ac2\",\"R1 Structs/ts/ 2-m_3-ts_0-lab_0-pi_0-ac1_0-ac2\",\"R1 Structs/ac2/ 3-m_0-ts_0-lab_0-pi_0-ac1_1-ac2\",\"R1 Structs/ac1/ 3-m_0-ts_0-lab_0-pi_1-ac1_0-ac2\",\"R1 Structs/PI/ 3-m_0-ts_0-lab_1-pi_0-ac1_0-ac2\",\"R1 Structs/lab/ 3-m_0-ts_1-lab_0-pi_0-ac1_0-ac2\",\"R1 Structs/lab/ 3-m_1-ts_1-lab_0-pi_0-ac1_0-ac2\",\"R1 Structs/ts/ 3-m_2-ts_0-lab_0-pi_0-ac1_0-ac2\",\"R1 Structs/ac1/ 4-m_0-ts_0-lab_0-pi_1-ac1_0-ac2\",\"R1 Structs/PI/ 4-m_0-ts_0-lab_1-pi_0-ac1_0-ac2\",\"R1 Structs/lab/ 4-m_0-ts_1-lab_0-pi_0-ac1_0-ac2\",\"R1 Structs/ts/ 4-m_1-ts_0-lab_0-pi_0-ac1_0-ac2\",\"R1 Structs/lab/ 4-m_1-ts_1-lab_0-pi_0-ac1_0-ac2\",\"R1 Structs/ts/ 4-m_2-ts_0-lab_0-pi_0-ac1_0-ac2\",\"R1 Structs/m/ 5-m_0-ts_0-lab_0-pi_0-ac1_0-ac2\",\"R1 Structs/lab/ 5-m_0-ts_1-lab_0-pi_0-ac1_0-ac2\",\"R1 Structs/ts/ 5-m_1-ts_0-lab_0-pi_0-ac1_0-ac2\",\"R1 Structs/ts/ 5-m_2-ts_0-lab_0-pi_0-ac1_0-ac2\",\"R1 Structs/m/ 6-m_0-ts_0-lab_0-pi_0-ac1_0-ac2\",\"R1 Structs/lab/ 6-m_0-ts_1-lab_0-pi_0-ac1_0-ac2\",\"R1 Structs/ts/ 6-m_1-ts_0-lab_0-pi_0-ac1_0-ac2\",\"R1 Structs/m/ 7-m_0-ts_0-lab_0-pi_0-ac1_0-ac2\",\"R1 Structs/lab/ 7-m_0-ts_1-lab_0-pi_0-ac1_0-ac2\",\"R1 Structs/ts/ 7-m_1-ts_0-lab_0-pi_0-ac1_0-ac2\",\"R1 Structs/PI\",\"R1 Structs/ac1\",\"R1 Structs/ac2\",\"R1 Structs/lab\",\"R1 Structs/m\",\"R1 Structs/ts\",\"R1 Structs\"],\"labels\":[\" 0-m_0-ts_2-lab_0-pi_0-ac1_0-ac2\",\" 0-m_1-ts_1-lab_0-pi_0-ac1_0-ac2\",\" 0-m_3-ts_0-lab_0-pi_0-ac1_0-ac2\",\" 1-m_0-ts_0-lab_0-pi_0-ac1_1-ac2\",\" 1-m_0-ts_0-lab_0-pi_1-ac1_0-ac2\",\" 1-m_0-ts_1-lab_0-pi_0-ac1_0-ac2\",\" 1-m_0-ts_1-lab_1-pi_0-ac1_0-ac2\",\" 1-m_0-ts_2-lab_0-pi_0-ac1_0-ac2\",\" 1-m_1-ts_0-lab_0-pi_1-ac1_0-ac2\",\" 1-m_1-ts_0-lab_1-pi_0-ac1_0-ac2\",\" 1-m_1-ts_1-lab_0-pi_0-ac1_0-ac2\",\" 1-m_2-ts_0-lab_0-pi_0-ac1_0-ac2\",\" 1-m_2-ts_1-lab_0-pi_0-ac1_0-ac2\",\" 1-m_3-ts_0-lab_0-pi_0-ac1_0-ac2\",\" 2-m_0-ts_0-lab_0-pi_0-ac1_1-ac2\",\" 2-m_0-ts_0-lab_0-pi_1-ac1_0-ac2\",\" 2-m_0-ts_1-lab_0-pi_0-ac1_0-ac2\",\" 2-m_0-ts_2-lab_0-pi_0-ac1_0-ac2\",\" 2-m_1-ts_0-lab_1-pi_0-ac1_0-ac2\",\" 2-m_1-ts_1-lab_0-pi_0-ac1_0-ac2\",\" 2-m_2-ts_0-lab_0-pi_0-ac1_0-ac2\",\" 2-m_2-ts_1-lab_0-pi_0-ac1_0-ac2\",\" 2-m_3-ts_0-lab_0-pi_0-ac1_0-ac2\",\" 3-m_0-ts_0-lab_0-pi_0-ac1_1-ac2\",\" 3-m_0-ts_0-lab_0-pi_1-ac1_0-ac2\",\" 3-m_0-ts_0-lab_1-pi_0-ac1_0-ac2\",\" 3-m_0-ts_1-lab_0-pi_0-ac1_0-ac2\",\" 3-m_1-ts_1-lab_0-pi_0-ac1_0-ac2\",\" 3-m_2-ts_0-lab_0-pi_0-ac1_0-ac2\",\" 4-m_0-ts_0-lab_0-pi_1-ac1_0-ac2\",\" 4-m_0-ts_0-lab_1-pi_0-ac1_0-ac2\",\" 4-m_0-ts_1-lab_0-pi_0-ac1_0-ac2\",\" 4-m_1-ts_0-lab_0-pi_0-ac1_0-ac2\",\" 4-m_1-ts_1-lab_0-pi_0-ac1_0-ac2\",\" 4-m_2-ts_0-lab_0-pi_0-ac1_0-ac2\",\" 5-m_0-ts_0-lab_0-pi_0-ac1_0-ac2\",\" 5-m_0-ts_1-lab_0-pi_0-ac1_0-ac2\",\" 5-m_1-ts_0-lab_0-pi_0-ac1_0-ac2\",\" 5-m_2-ts_0-lab_0-pi_0-ac1_0-ac2\",\" 6-m_0-ts_0-lab_0-pi_0-ac1_0-ac2\",\" 6-m_0-ts_1-lab_0-pi_0-ac1_0-ac2\",\" 6-m_1-ts_0-lab_0-pi_0-ac1_0-ac2\",\" 7-m_0-ts_0-lab_0-pi_0-ac1_0-ac2\",\" 7-m_0-ts_1-lab_0-pi_0-ac1_0-ac2\",\" 7-m_1-ts_0-lab_0-pi_0-ac1_0-ac2\",\"PI\",\"ac1\",\"ac2\",\"lab\",\"m\",\"ts\",\"R1 Structs\"],\"marker\":{\"coloraxis\":\"coloraxis\",\"colors\":[142.16666666666666,132.5,123.0,163.25,151.21186440677965,104.5,118.0,117.0,187.0,103.0,125.32,139.5,164.0,134.5,149.6,154.70616113744074,144.3684210526316,158.4,121.66666666666667,144.92265193370164,126.5,167.0,156.66666666666666,170.0,152.11764705882354,115.64285714285714,138.13235294117646,148.83333333333334,126.6,163.0,133.33333333333334,151.96266666666668,118.0,117.625,150.0,118.0,164.3231707317073,150.1,154.0,160.9090909090909,161.8148148148148,153.44444444444446,183.75,219.0,205.0,117.125,153.59259259259258,157.1,150.22105263157894,161.23529411764707,144.2808988764045,150.30187369882026]},\"name\":\"\",\"parents\":[\"R1 Structs/lab\",\"R1 Structs/lab\",\"R1 Structs/ts\",\"R1 Structs/ac2\",\"R1 Structs/ac1\",\"R1 Structs/lab\",\"R1 Structs/PI\",\"R1 Structs/lab\",\"R1 Structs/ac1\",\"R1 Structs/PI\",\"R1 Structs/lab\",\"R1 Structs/ts\",\"R1 Structs/lab\",\"R1 Structs/ts\",\"R1 Structs/ac2\",\"R1 Structs/ac1\",\"R1 Structs/lab\",\"R1 Structs/lab\",\"R1 Structs/PI\",\"R1 Structs/lab\",\"R1 Structs/ts\",\"R1 Structs/lab\",\"R1 Structs/ts\",\"R1 Structs/ac2\",\"R1 Structs/ac1\",\"R1 Structs/PI\",\"R1 Structs/lab\",\"R1 Structs/lab\",\"R1 Structs/ts\",\"R1 Structs/ac1\",\"R1 Structs/PI\",\"R1 Structs/lab\",\"R1 Structs/ts\",\"R1 Structs/lab\",\"R1 Structs/ts\",\"R1 Structs/m\",\"R1 Structs/lab\",\"R1 Structs/ts\",\"R1 Structs/ts\",\"R1 Structs/m\",\"R1 Structs/lab\",\"R1 Structs/ts\",\"R1 Structs/m\",\"R1 Structs/lab\",\"R1 Structs/ts\",\"R1 Structs\",\"R1 Structs\",\"R1 Structs\",\"R1 Structs\",\"R1 Structs\",\"R1 Structs\",\"\"],\"values\":[12,4,4,8,236,8,2,14,2,6,50,4,2,4,10,422,76,10,6,362,8,4,12,2,34,28,136,72,20,8,6,750,20,16,58,4,328,20,4,22,54,18,8,2,6,48,702,20,1900,34,178,2882],\"type\":\"treemap\"}],                        {\"template\":{\"data\":{\"bar\":[{\"error_x\":{\"color\":\"#2a3f5f\"},\"error_y\":{\"color\":\"#2a3f5f\"},\"marker\":{\"line\":{\"color\":\"#E5ECF6\",\"width\":0.5},\"pattern\":{\"fillmode\":\"overlay\",\"size\":10,\"solidity\":0.2}},\"type\":\"bar\"}],\"barpolar\":[{\"marker\":{\"line\":{\"color\":\"#E5ECF6\",\"width\":0.5},\"pattern\":{\"fillmode\":\"overlay\",\"size\":10,\"solidity\":0.2}},\"type\":\"barpolar\"}],\"carpet\":[{\"aaxis\":{\"endlinecolor\":\"#2a3f5f\",\"gridcolor\":\"white\",\"linecolor\":\"white\",\"minorgridcolor\":\"white\",\"startlinecolor\":\"#2a3f5f\"},\"baxis\":{\"endlinecolor\":\"#2a3f5f\",\"gridcolor\":\"white\",\"linecolor\":\"white\",\"minorgridcolor\":\"white\",\"startlinecolor\":\"#2a3f5f\"},\"type\":\"carpet\"}],\"choropleth\":[{\"colorbar\":{\"outlinewidth\":0,\"ticks\":\"\"},\"type\":\"choropleth\"}],\"contour\":[{\"colorbar\":{\"outlinewidth\":0,\"ticks\":\"\"},\"colorscale\":[[0.0,\"#0d0887\"],[0.1111111111111111,\"#46039f\"],[0.2222222222222222,\"#7201a8\"],[0.3333333333333333,\"#9c179e\"],[0.4444444444444444,\"#bd3786\"],[0.5555555555555556,\"#d8576b\"],[0.6666666666666666,\"#ed7953\"],[0.7777777777777778,\"#fb9f3a\"],[0.8888888888888888,\"#fdca26\"],[1.0,\"#f0f921\"]],\"type\":\"contour\"}],\"contourcarpet\":[{\"colorbar\":{\"outlinewidth\":0,\"ticks\":\"\"},\"type\":\"contourcarpet\"}],\"heatmap\":[{\"colorbar\":{\"outlinewidth\":0,\"ticks\":\"\"},\"colorscale\":[[0.0,\"#0d0887\"],[0.1111111111111111,\"#46039f\"],[0.2222222222222222,\"#7201a8\"],[0.3333333333333333,\"#9c179e\"],[0.4444444444444444,\"#bd3786\"],[0.5555555555555556,\"#d8576b\"],[0.6666666666666666,\"#ed7953\"],[0.7777777777777778,\"#fb9f3a\"],[0.8888888888888888,\"#fdca26\"],[1.0,\"#f0f921\"]],\"type\":\"heatmap\"}],\"heatmapgl\":[{\"colorbar\":{\"outlinewidth\":0,\"ticks\":\"\"},\"colorscale\":[[0.0,\"#0d0887\"],[0.1111111111111111,\"#46039f\"],[0.2222222222222222,\"#7201a8\"],[0.3333333333333333,\"#9c179e\"],[0.4444444444444444,\"#bd3786\"],[0.5555555555555556,\"#d8576b\"],[0.6666666666666666,\"#ed7953\"],[0.7777777777777778,\"#fb9f3a\"],[0.8888888888888888,\"#fdca26\"],[1.0,\"#f0f921\"]],\"type\":\"heatmapgl\"}],\"histogram\":[{\"marker\":{\"pattern\":{\"fillmode\":\"overlay\",\"size\":10,\"solidity\":0.2}},\"type\":\"histogram\"}],\"histogram2d\":[{\"colorbar\":{\"outlinewidth\":0,\"ticks\":\"\"},\"colorscale\":[[0.0,\"#0d0887\"],[0.1111111111111111,\"#46039f\"],[0.2222222222222222,\"#7201a8\"],[0.3333333333333333,\"#9c179e\"],[0.4444444444444444,\"#bd3786\"],[0.5555555555555556,\"#d8576b\"],[0.6666666666666666,\"#ed7953\"],[0.7777777777777778,\"#fb9f3a\"],[0.8888888888888888,\"#fdca26\"],[1.0,\"#f0f921\"]],\"type\":\"histogram2d\"}],\"histogram2dcontour\":[{\"colorbar\":{\"outlinewidth\":0,\"ticks\":\"\"},\"colorscale\":[[0.0,\"#0d0887\"],[0.1111111111111111,\"#46039f\"],[0.2222222222222222,\"#7201a8\"],[0.3333333333333333,\"#9c179e\"],[0.4444444444444444,\"#bd3786\"],[0.5555555555555556,\"#d8576b\"],[0.6666666666666666,\"#ed7953\"],[0.7777777777777778,\"#fb9f3a\"],[0.8888888888888888,\"#fdca26\"],[1.0,\"#f0f921\"]],\"type\":\"histogram2dcontour\"}],\"mesh3d\":[{\"colorbar\":{\"outlinewidth\":0,\"ticks\":\"\"},\"type\":\"mesh3d\"}],\"parcoords\":[{\"line\":{\"colorbar\":{\"outlinewidth\":0,\"ticks\":\"\"}},\"type\":\"parcoords\"}],\"pie\":[{\"automargin\":true,\"type\":\"pie\"}],\"scatter\":[{\"marker\":{\"colorbar\":{\"outlinewidth\":0,\"ticks\":\"\"}},\"type\":\"scatter\"}],\"scatter3d\":[{\"line\":{\"colorbar\":{\"outlinewidth\":0,\"ticks\":\"\"}},\"marker\":{\"colorbar\":{\"outlinewidth\":0,\"ticks\":\"\"}},\"type\":\"scatter3d\"}],\"scattercarpet\":[{\"marker\":{\"colorbar\":{\"outlinewidth\":0,\"ticks\":\"\"}},\"type\":\"scattercarpet\"}],\"scattergeo\":[{\"marker\":{\"colorbar\":{\"outlinewidth\":0,\"ticks\":\"\"}},\"type\":\"scattergeo\"}],\"scattergl\":[{\"marker\":{\"colorbar\":{\"outlinewidth\":0,\"ticks\":\"\"}},\"type\":\"scattergl\"}],\"scattermapbox\":[{\"marker\":{\"colorbar\":{\"outlinewidth\":0,\"ticks\":\"\"}},\"type\":\"scattermapbox\"}],\"scatterpolar\":[{\"marker\":{\"colorbar\":{\"outlinewidth\":0,\"ticks\":\"\"}},\"type\":\"scatterpolar\"}],\"scatterpolargl\":[{\"marker\":{\"colorbar\":{\"outlinewidth\":0,\"ticks\":\"\"}},\"type\":\"scatterpolargl\"}],\"scatterternary\":[{\"marker\":{\"colorbar\":{\"outlinewidth\":0,\"ticks\":\"\"}},\"type\":\"scatterternary\"}],\"surface\":[{\"colorbar\":{\"outlinewidth\":0,\"ticks\":\"\"},\"colorscale\":[[0.0,\"#0d0887\"],[0.1111111111111111,\"#46039f\"],[0.2222222222222222,\"#7201a8\"],[0.3333333333333333,\"#9c179e\"],[0.4444444444444444,\"#bd3786\"],[0.5555555555555556,\"#d8576b\"],[0.6666666666666666,\"#ed7953\"],[0.7777777777777778,\"#fb9f3a\"],[0.8888888888888888,\"#fdca26\"],[1.0,\"#f0f921\"]],\"type\":\"surface\"}],\"table\":[{\"cells\":{\"fill\":{\"color\":\"#EBF0F8\"},\"line\":{\"color\":\"white\"}},\"header\":{\"fill\":{\"color\":\"#C8D4E3\"},\"line\":{\"color\":\"white\"}},\"type\":\"table\"}]},\"layout\":{\"annotationdefaults\":{\"arrowcolor\":\"#2a3f5f\",\"arrowhead\":0,\"arrowwidth\":1},\"autotypenumbers\":\"strict\",\"coloraxis\":{\"colorbar\":{\"outlinewidth\":0,\"ticks\":\"\"}},\"colorscale\":{\"diverging\":[[0,\"#8e0152\"],[0.1,\"#c51b7d\"],[0.2,\"#de77ae\"],[0.3,\"#f1b6da\"],[0.4,\"#fde0ef\"],[0.5,\"#f7f7f7\"],[0.6,\"#e6f5d0\"],[0.7,\"#b8e186\"],[0.8,\"#7fbc41\"],[0.9,\"#4d9221\"],[1,\"#276419\"]],\"sequential\":[[0.0,\"#0d0887\"],[0.1111111111111111,\"#46039f\"],[0.2222222222222222,\"#7201a8\"],[0.3333333333333333,\"#9c179e\"],[0.4444444444444444,\"#bd3786\"],[0.5555555555555556,\"#d8576b\"],[0.6666666666666666,\"#ed7953\"],[0.7777777777777778,\"#fb9f3a\"],[0.8888888888888888,\"#fdca26\"],[1.0,\"#f0f921\"]],\"sequentialminus\":[[0.0,\"#0d0887\"],[0.1111111111111111,\"#46039f\"],[0.2222222222222222,\"#7201a8\"],[0.3333333333333333,\"#9c179e\"],[0.4444444444444444,\"#bd3786\"],[0.5555555555555556,\"#d8576b\"],[0.6666666666666666,\"#ed7953\"],[0.7777777777777778,\"#fb9f3a\"],[0.8888888888888888,\"#fdca26\"],[1.0,\"#f0f921\"]]},\"colorway\":[\"#636efa\",\"#EF553B\",\"#00cc96\",\"#ab63fa\",\"#FFA15A\",\"#19d3f3\",\"#FF6692\",\"#B6E880\",\"#FF97FF\",\"#FECB52\"],\"font\":{\"color\":\"#2a3f5f\"},\"geo\":{\"bgcolor\":\"white\",\"lakecolor\":\"white\",\"landcolor\":\"#E5ECF6\",\"showlakes\":true,\"showland\":true,\"subunitcolor\":\"white\"},\"hoverlabel\":{\"align\":\"left\"},\"hovermode\":\"closest\",\"mapbox\":{\"style\":\"light\"},\"paper_bgcolor\":\"white\",\"plot_bgcolor\":\"#E5ECF6\",\"polar\":{\"angularaxis\":{\"gridcolor\":\"white\",\"linecolor\":\"white\",\"ticks\":\"\"},\"bgcolor\":\"#E5ECF6\",\"radialaxis\":{\"gridcolor\":\"white\",\"linecolor\":\"white\",\"ticks\":\"\"}},\"scene\":{\"xaxis\":{\"backgroundcolor\":\"#E5ECF6\",\"gridcolor\":\"white\",\"gridwidth\":2,\"linecolor\":\"white\",\"showbackground\":true,\"ticks\":\"\",\"zerolinecolor\":\"white\"},\"yaxis\":{\"backgroundcolor\":\"#E5ECF6\",\"gridcolor\":\"white\",\"gridwidth\":2,\"linecolor\":\"white\",\"showbackground\":true,\"ticks\":\"\",\"zerolinecolor\":\"white\"},\"zaxis\":{\"backgroundcolor\":\"#E5ECF6\",\"gridcolor\":\"white\",\"gridwidth\":2,\"linecolor\":\"white\",\"showbackground\":true,\"ticks\":\"\",\"zerolinecolor\":\"white\"}},\"shapedefaults\":{\"line\":{\"color\":\"#2a3f5f\"}},\"ternary\":{\"aaxis\":{\"gridcolor\":\"white\",\"linecolor\":\"white\",\"ticks\":\"\"},\"baxis\":{\"gridcolor\":\"white\",\"linecolor\":\"white\",\"ticks\":\"\"},\"bgcolor\":\"#E5ECF6\",\"caxis\":{\"gridcolor\":\"white\",\"linecolor\":\"white\",\"ticks\":\"\"}},\"title\":{\"x\":0.05},\"xaxis\":{\"automargin\":true,\"gridcolor\":\"white\",\"linecolor\":\"white\",\"ticks\":\"\",\"title\":{\"standoff\":15},\"zerolinecolor\":\"white\",\"zerolinewidth\":2},\"yaxis\":{\"automargin\":true,\"gridcolor\":\"white\",\"linecolor\":\"white\",\"ticks\":\"\",\"title\":{\"standoff\":15},\"zerolinecolor\":\"white\",\"zerolinewidth\":2}}},\"coloraxis\":{\"colorbar\":{\"title\":{\"text\":\"ave_score_ambas\"}},\"colorscale\":[[0.0,\"rgb(103,0,31)\"],[0.1,\"rgb(178,24,43)\"],[0.2,\"rgb(214,96,77)\"],[0.3,\"rgb(244,165,130)\"],[0.4,\"rgb(253,219,199)\"],[0.5,\"rgb(247,247,247)\"],[0.6,\"rgb(209,229,240)\"],[0.7,\"rgb(146,197,222)\"],[0.8,\"rgb(67,147,195)\"],[0.9,\"rgb(33,102,172)\"],[1.0,\"rgb(5,48,97)\"]],\"cmid\":144.39872372553106},\"legend\":{\"tracegroupgap\":0},\"margin\":{\"t\":50,\"l\":25,\"r\":25,\"b\":25},\"title\":{\"text\":\"R1 Structures: Frequency and Impact on Score Relative to All Factions Average (144.4): ambas\"}},                        {\"responsive\": true}                    ).then(function(){\n",
       "                            \n",
       "var gd = document.getElementById('9dbd896f-3f74-4638-9c25-fa4dee652694');\n",
       "var x = new MutationObserver(function (mutations, observer) {{\n",
       "        var display = window.getComputedStyle(gd).display;\n",
       "        if (!display || display === 'none') {{\n",
       "            console.log([gd, 'removed!']);\n",
       "            Plotly.purge(gd);\n",
       "            observer.disconnect();\n",
       "        }}\n",
       "}});\n",
       "\n",
       "// Listen for the removal of the full notebook cells\n",
       "var notebookContainer = gd.closest('#notebook-container');\n",
       "if (notebookContainer) {{\n",
       "    x.observe(notebookContainer, {childList: true});\n",
       "}}\n",
       "\n",
       "// Listen for the clearing of the current output cell\n",
       "var outputEl = gd.closest('.output');\n",
       "if (outputEl) {{\n",
       "    x.observe(outputEl, {childList: true});\n",
       "}}\n",
       "\n",
       "                        })                };                });            </script>        </div>"
      ]
     },
     "metadata": {},
     "output_type": "display_data"
    },
    {
     "data": {
      "application/vnd.plotly.v1+json": {
       "config": {
        "plotlyServerURL": "https://plot.ly"
       },
       "data": [
        {
         "branchvalues": "total",
         "customdata": [
          [
           117,
           128.625
          ],
          [
           44,
           144
          ],
          [
           102.375,
           109.125
          ],
          [
           212.13636363636363,
           135.27272727272728
          ],
          [
           232.6315789473684,
           143.52631578947367
          ],
          [
           124,
           122.25
          ],
          [
           235.66666666666666,
           137
          ],
          [
           104,
           111.8
          ],
          [
           192.1851851851852,
           124.74074074074075
          ],
          [
           235.32258064516128,
           139.83870967741936
          ],
          [
           236.43478260869566,
           149.47826086956522
          ],
          [
           128.76470588235293,
           121.3529411764706
          ],
          [
           203.2,
           140.3272727272727
          ],
          [
           149,
           111.66666666666667
          ],
          [
           180.0909090909091,
           133
          ],
          [
           184.13684210526316,
           140.62105263157895
          ],
          [
           229.4,
           143.2
          ],
          [
           219,
           190
          ],
          [
           254.66666666666666,
           163.33333333333334
          ],
          [
           100,
           170
          ],
          [
           169.42857142857142,
           123.14285714285714
          ],
          [
           193.375,
           141.655
          ],
          [
           100,
           160
          ],
          [
           123.625,
           151.125
          ],
          [
           161.5,
           125.5
          ],
          [
           146.85714285714286,
           129.85714285714286
          ],
          [
           211.7127659574468,
           150.4840425531915
          ],
          [
           165.6,
           136.86666666666667
          ],
          [
           229.6,
           164
          ],
          [
           194.9,
           125.65
          ],
          [
           360,
           188.5
          ],
          [
           238.08771929824562,
           156.28070175438597
          ],
          [
           219.84615384615384,
           149.89743589743588
          ],
          [
           300,
           205
          ],
          [
           216.3709677419355,
           147.1451612903226
          ],
          [
           214.71428571428572,
           170.42857142857142
          ],
          [
           233.5625,
           165.6875
          ],
          [
           248.63291139240508,
           164.31645569620252
          ],
          [
           249.58333333333334,
           185.58333333333334
          ],
          [
           "(?)",
           126.68852459016394
          ],
          [
           "(?)",
           146.96850393700788
          ],
          [
           "(?)",
           139.30357142857142
          ],
          [
           "(?)",
           144.0561797752809
          ],
          [
           "(?)",
           155.16763005780348
          ],
          [
           "(?)",
           147.59868421052633
          ],
          [
           "(?)",
           145.23106947697113
          ]
         ],
         "domain": {
          "x": [
           0,
           1
          ],
          "y": [
           0,
           1
          ]
         },
         "hovertemplate": "labels=%{label}<br>class_counts=%{value}<br>parent=%{parent}<br>id=%{id}<br>ave_elo_gleens=%{customdata[0]}<br>ave_score_gleens=%{color}<extra></extra>",
         "ids": [
          "R1 Structs/lab/ 0-m_0-ts_2-lab_0-pi_0-ac1_0-ac2",
          "R1 Structs/PI/ 0-m_1-ts_0-lab_1-pi_0-ac1_0-ac2",
          "R1 Structs/lab/ 0-m_1-ts_1-lab_0-pi_0-ac1_0-ac2",
          "R1 Structs/ac2/ 1-m_0-ts_0-lab_0-pi_0-ac1_1-ac2",
          "R1 Structs/ac1/ 1-m_0-ts_0-lab_0-pi_1-ac1_0-ac2",
          "R1 Structs/PI/ 1-m_0-ts_1-lab_1-pi_0-ac1_0-ac2",
          "R1 Structs/lab/ 1-m_0-ts_2-lab_0-pi_0-ac1_0-ac2",
          "R1 Structs/PI/ 1-m_1-ts_0-lab_1-pi_0-ac1_0-ac2",
          "R1 Structs/lab/ 1-m_1-ts_1-lab_0-pi_0-ac1_0-ac2",
          "R1 Structs/ac2/ 2-m_0-ts_0-lab_0-pi_0-ac1_1-ac2",
          "R1 Structs/ac1/ 2-m_0-ts_0-lab_0-pi_1-ac1_0-ac2",
          "R1 Structs/PI/ 2-m_0-ts_0-lab_1-pi_0-ac1_0-ac2",
          "R1 Structs/lab/ 2-m_0-ts_1-lab_0-pi_0-ac1_0-ac2",
          "R1 Structs/ts/ 2-m_1-ts_0-lab_0-pi_0-ac1_0-ac2",
          "R1 Structs/PI/ 2-m_1-ts_0-lab_1-pi_0-ac1_0-ac2",
          "R1 Structs/lab/ 2-m_1-ts_1-lab_0-pi_0-ac1_0-ac2",
          "R1 Structs/ts/ 2-m_2-ts_0-lab_0-pi_0-ac1_0-ac2",
          "R1 Structs/ts/ 2-m_3-ts_0-lab_0-pi_0-ac1_0-ac2",
          "R1 Structs/ac2/ 3-m_0-ts_0-lab_0-pi_0-ac1_1-ac2",
          "R1 Structs/ac1/ 3-m_0-ts_0-lab_0-pi_1-ac1_0-ac2",
          "R1 Structs/PI/ 3-m_0-ts_0-lab_1-pi_0-ac1_0-ac2",
          "R1 Structs/lab/ 3-m_0-ts_1-lab_0-pi_0-ac1_0-ac2",
          "R1 Structs/lab/ 3-m_0-ts_2-lab_0-pi_0-ac1_0-ac2",
          "R1 Structs/lab/ 3-m_1-ts_1-lab_0-pi_0-ac1_0-ac2",
          "R1 Structs/ts/ 3-m_2-ts_0-lab_0-pi_0-ac1_0-ac2",
          "R1 Structs/PI/ 4-m_0-ts_0-lab_1-pi_0-ac1_0-ac2",
          "R1 Structs/lab/ 4-m_0-ts_1-lab_0-pi_0-ac1_0-ac2",
          "R1 Structs/ts/ 4-m_1-ts_0-lab_0-pi_0-ac1_0-ac2",
          "R1 Structs/ts/ 4-m_2-ts_0-lab_0-pi_0-ac1_0-ac2",
          "R1 Structs/m/ 5-m_0-ts_0-lab_0-pi_0-ac1_0-ac2",
          "R1 Structs/PI/ 5-m_0-ts_0-lab_1-pi_0-ac1_0-ac2",
          "R1 Structs/lab/ 5-m_0-ts_1-lab_0-pi_0-ac1_0-ac2",
          "R1 Structs/ts/ 5-m_1-ts_0-lab_0-pi_0-ac1_0-ac2",
          "R1 Structs/ts/ 5-m_2-ts_0-lab_0-pi_0-ac1_0-ac2",
          "R1 Structs/m/ 6-m_0-ts_0-lab_0-pi_0-ac1_0-ac2",
          "R1 Structs/lab/ 6-m_0-ts_1-lab_0-pi_0-ac1_0-ac2",
          "R1 Structs/ts/ 6-m_1-ts_0-lab_0-pi_0-ac1_0-ac2",
          "R1 Structs/m/ 7-m_0-ts_0-lab_0-pi_0-ac1_0-ac2",
          "R1 Structs/m/ 8-m_0-ts_0-lab_0-pi_0-ac1_0-ac2",
          "R1 Structs/PI",
          "R1 Structs/ac1",
          "R1 Structs/ac2",
          "R1 Structs/lab",
          "R1 Structs/m",
          "R1 Structs/ts",
          "R1 Structs"
         ],
         "labels": [
          " 0-m_0-ts_2-lab_0-pi_0-ac1_0-ac2",
          " 0-m_1-ts_0-lab_1-pi_0-ac1_0-ac2",
          " 0-m_1-ts_1-lab_0-pi_0-ac1_0-ac2",
          " 1-m_0-ts_0-lab_0-pi_0-ac1_1-ac2",
          " 1-m_0-ts_0-lab_0-pi_1-ac1_0-ac2",
          " 1-m_0-ts_1-lab_1-pi_0-ac1_0-ac2",
          " 1-m_0-ts_2-lab_0-pi_0-ac1_0-ac2",
          " 1-m_1-ts_0-lab_1-pi_0-ac1_0-ac2",
          " 1-m_1-ts_1-lab_0-pi_0-ac1_0-ac2",
          " 2-m_0-ts_0-lab_0-pi_0-ac1_1-ac2",
          " 2-m_0-ts_0-lab_0-pi_1-ac1_0-ac2",
          " 2-m_0-ts_0-lab_1-pi_0-ac1_0-ac2",
          " 2-m_0-ts_1-lab_0-pi_0-ac1_0-ac2",
          " 2-m_1-ts_0-lab_0-pi_0-ac1_0-ac2",
          " 2-m_1-ts_0-lab_1-pi_0-ac1_0-ac2",
          " 2-m_1-ts_1-lab_0-pi_0-ac1_0-ac2",
          " 2-m_2-ts_0-lab_0-pi_0-ac1_0-ac2",
          " 2-m_3-ts_0-lab_0-pi_0-ac1_0-ac2",
          " 3-m_0-ts_0-lab_0-pi_0-ac1_1-ac2",
          " 3-m_0-ts_0-lab_0-pi_1-ac1_0-ac2",
          " 3-m_0-ts_0-lab_1-pi_0-ac1_0-ac2",
          " 3-m_0-ts_1-lab_0-pi_0-ac1_0-ac2",
          " 3-m_0-ts_2-lab_0-pi_0-ac1_0-ac2",
          " 3-m_1-ts_1-lab_0-pi_0-ac1_0-ac2",
          " 3-m_2-ts_0-lab_0-pi_0-ac1_0-ac2",
          " 4-m_0-ts_0-lab_1-pi_0-ac1_0-ac2",
          " 4-m_0-ts_1-lab_0-pi_0-ac1_0-ac2",
          " 4-m_1-ts_0-lab_0-pi_0-ac1_0-ac2",
          " 4-m_2-ts_0-lab_0-pi_0-ac1_0-ac2",
          " 5-m_0-ts_0-lab_0-pi_0-ac1_0-ac2",
          " 5-m_0-ts_0-lab_1-pi_0-ac1_0-ac2",
          " 5-m_0-ts_1-lab_0-pi_0-ac1_0-ac2",
          " 5-m_1-ts_0-lab_0-pi_0-ac1_0-ac2",
          " 5-m_2-ts_0-lab_0-pi_0-ac1_0-ac2",
          " 6-m_0-ts_0-lab_0-pi_0-ac1_0-ac2",
          " 6-m_0-ts_1-lab_0-pi_0-ac1_0-ac2",
          " 6-m_1-ts_0-lab_0-pi_0-ac1_0-ac2",
          " 7-m_0-ts_0-lab_0-pi_0-ac1_0-ac2",
          " 8-m_0-ts_0-lab_0-pi_0-ac1_0-ac2",
          "PI",
          "ac1",
          "ac2",
          "lab",
          "m",
          "ts",
          "R1 Structs"
         ],
         "marker": {
          "coloraxis": "coloraxis",
          "colors": [
           128.625,
           144,
           109.125,
           135.27272727272728,
           143.52631578947367,
           122.25,
           137,
           111.8,
           124.74074074074075,
           139.83870967741936,
           149.47826086956522,
           121.3529411764706,
           140.3272727272727,
           111.66666666666667,
           133,
           140.62105263157895,
           143.2,
           190,
           163.33333333333334,
           170,
           123.14285714285714,
           141.655,
           160,
           151.125,
           125.5,
           129.85714285714286,
           150.4840425531915,
           136.86666666666667,
           164,
           125.65,
           188.5,
           156.28070175438597,
           149.89743589743588,
           205,
           147.1451612903226,
           170.42857142857142,
           165.6875,
           164.31645569620252,
           185.58333333333334,
           126.68852459016394,
           146.96850393700788,
           139.30357142857142,
           144.0561797752809,
           155.16763005780348,
           147.59868421052633,
           145.23106947697113
          ]
         },
         "name": "",
         "parents": [
          "R1 Structs/lab",
          "R1 Structs/PI",
          "R1 Structs/lab",
          "R1 Structs/ac2",
          "R1 Structs/ac1",
          "R1 Structs/PI",
          "R1 Structs/lab",
          "R1 Structs/PI",
          "R1 Structs/lab",
          "R1 Structs/ac2",
          "R1 Structs/ac1",
          "R1 Structs/PI",
          "R1 Structs/lab",
          "R1 Structs/ts",
          "R1 Structs/PI",
          "R1 Structs/lab",
          "R1 Structs/ts",
          "R1 Structs/ts",
          "R1 Structs/ac2",
          "R1 Structs/ac1",
          "R1 Structs/PI",
          "R1 Structs/lab",
          "R1 Structs/lab",
          "R1 Structs/lab",
          "R1 Structs/ts",
          "R1 Structs/PI",
          "R1 Structs/lab",
          "R1 Structs/ts",
          "R1 Structs/ts",
          "R1 Structs/m",
          "R1 Structs/PI",
          "R1 Structs/lab",
          "R1 Structs/ts",
          "R1 Structs/ts",
          "R1 Structs/m",
          "R1 Structs/lab",
          "R1 Structs/ts",
          "R1 Structs/m",
          "R1 Structs/m",
          "R1 Structs",
          "R1 Structs",
          "R1 Structs",
          "R1 Structs",
          "R1 Structs",
          "R1 Structs",
          ""
         ],
         "type": "treemap",
         "values": [
          16,
          2,
          16,
          44,
          114,
          8,
          6,
          10,
          54,
          62,
          138,
          34,
          220,
          6,
          22,
          190,
          20,
          2,
          6,
          2,
          28,
          400,
          2,
          16,
          16,
          14,
          376,
          60,
          10,
          40,
          4,
          114,
          156,
          2,
          124,
          14,
          32,
          158,
          24,
          122,
          254,
          112,
          1424,
          346,
          304,
          2562
         ]
        }
       ],
       "layout": {
        "coloraxis": {
         "cmid": 144.39872372553106,
         "colorbar": {
          "title": {
           "text": "ave_score_gleens"
          }
         },
         "colorscale": [
          [
           0,
           "rgb(103,0,31)"
          ],
          [
           0.1,
           "rgb(178,24,43)"
          ],
          [
           0.2,
           "rgb(214,96,77)"
          ],
          [
           0.3,
           "rgb(244,165,130)"
          ],
          [
           0.4,
           "rgb(253,219,199)"
          ],
          [
           0.5,
           "rgb(247,247,247)"
          ],
          [
           0.6,
           "rgb(209,229,240)"
          ],
          [
           0.7,
           "rgb(146,197,222)"
          ],
          [
           0.8,
           "rgb(67,147,195)"
          ],
          [
           0.9,
           "rgb(33,102,172)"
          ],
          [
           1,
           "rgb(5,48,97)"
          ]
         ]
        },
        "legend": {
         "tracegroupgap": 0
        },
        "margin": {
         "b": 25,
         "l": 25,
         "r": 25,
         "t": 50
        },
        "template": {
         "data": {
          "bar": [
           {
            "error_x": {
             "color": "#2a3f5f"
            },
            "error_y": {
             "color": "#2a3f5f"
            },
            "marker": {
             "line": {
              "color": "#E5ECF6",
              "width": 0.5
             },
             "pattern": {
              "fillmode": "overlay",
              "size": 10,
              "solidity": 0.2
             }
            },
            "type": "bar"
           }
          ],
          "barpolar": [
           {
            "marker": {
             "line": {
              "color": "#E5ECF6",
              "width": 0.5
             },
             "pattern": {
              "fillmode": "overlay",
              "size": 10,
              "solidity": 0.2
             }
            },
            "type": "barpolar"
           }
          ],
          "carpet": [
           {
            "aaxis": {
             "endlinecolor": "#2a3f5f",
             "gridcolor": "white",
             "linecolor": "white",
             "minorgridcolor": "white",
             "startlinecolor": "#2a3f5f"
            },
            "baxis": {
             "endlinecolor": "#2a3f5f",
             "gridcolor": "white",
             "linecolor": "white",
             "minorgridcolor": "white",
             "startlinecolor": "#2a3f5f"
            },
            "type": "carpet"
           }
          ],
          "choropleth": [
           {
            "colorbar": {
             "outlinewidth": 0,
             "ticks": ""
            },
            "type": "choropleth"
           }
          ],
          "contour": [
           {
            "colorbar": {
             "outlinewidth": 0,
             "ticks": ""
            },
            "colorscale": [
             [
              0,
              "#0d0887"
             ],
             [
              0.1111111111111111,
              "#46039f"
             ],
             [
              0.2222222222222222,
              "#7201a8"
             ],
             [
              0.3333333333333333,
              "#9c179e"
             ],
             [
              0.4444444444444444,
              "#bd3786"
             ],
             [
              0.5555555555555556,
              "#d8576b"
             ],
             [
              0.6666666666666666,
              "#ed7953"
             ],
             [
              0.7777777777777778,
              "#fb9f3a"
             ],
             [
              0.8888888888888888,
              "#fdca26"
             ],
             [
              1,
              "#f0f921"
             ]
            ],
            "type": "contour"
           }
          ],
          "contourcarpet": [
           {
            "colorbar": {
             "outlinewidth": 0,
             "ticks": ""
            },
            "type": "contourcarpet"
           }
          ],
          "heatmap": [
           {
            "colorbar": {
             "outlinewidth": 0,
             "ticks": ""
            },
            "colorscale": [
             [
              0,
              "#0d0887"
             ],
             [
              0.1111111111111111,
              "#46039f"
             ],
             [
              0.2222222222222222,
              "#7201a8"
             ],
             [
              0.3333333333333333,
              "#9c179e"
             ],
             [
              0.4444444444444444,
              "#bd3786"
             ],
             [
              0.5555555555555556,
              "#d8576b"
             ],
             [
              0.6666666666666666,
              "#ed7953"
             ],
             [
              0.7777777777777778,
              "#fb9f3a"
             ],
             [
              0.8888888888888888,
              "#fdca26"
             ],
             [
              1,
              "#f0f921"
             ]
            ],
            "type": "heatmap"
           }
          ],
          "heatmapgl": [
           {
            "colorbar": {
             "outlinewidth": 0,
             "ticks": ""
            },
            "colorscale": [
             [
              0,
              "#0d0887"
             ],
             [
              0.1111111111111111,
              "#46039f"
             ],
             [
              0.2222222222222222,
              "#7201a8"
             ],
             [
              0.3333333333333333,
              "#9c179e"
             ],
             [
              0.4444444444444444,
              "#bd3786"
             ],
             [
              0.5555555555555556,
              "#d8576b"
             ],
             [
              0.6666666666666666,
              "#ed7953"
             ],
             [
              0.7777777777777778,
              "#fb9f3a"
             ],
             [
              0.8888888888888888,
              "#fdca26"
             ],
             [
              1,
              "#f0f921"
             ]
            ],
            "type": "heatmapgl"
           }
          ],
          "histogram": [
           {
            "marker": {
             "pattern": {
              "fillmode": "overlay",
              "size": 10,
              "solidity": 0.2
             }
            },
            "type": "histogram"
           }
          ],
          "histogram2d": [
           {
            "colorbar": {
             "outlinewidth": 0,
             "ticks": ""
            },
            "colorscale": [
             [
              0,
              "#0d0887"
             ],
             [
              0.1111111111111111,
              "#46039f"
             ],
             [
              0.2222222222222222,
              "#7201a8"
             ],
             [
              0.3333333333333333,
              "#9c179e"
             ],
             [
              0.4444444444444444,
              "#bd3786"
             ],
             [
              0.5555555555555556,
              "#d8576b"
             ],
             [
              0.6666666666666666,
              "#ed7953"
             ],
             [
              0.7777777777777778,
              "#fb9f3a"
             ],
             [
              0.8888888888888888,
              "#fdca26"
             ],
             [
              1,
              "#f0f921"
             ]
            ],
            "type": "histogram2d"
           }
          ],
          "histogram2dcontour": [
           {
            "colorbar": {
             "outlinewidth": 0,
             "ticks": ""
            },
            "colorscale": [
             [
              0,
              "#0d0887"
             ],
             [
              0.1111111111111111,
              "#46039f"
             ],
             [
              0.2222222222222222,
              "#7201a8"
             ],
             [
              0.3333333333333333,
              "#9c179e"
             ],
             [
              0.4444444444444444,
              "#bd3786"
             ],
             [
              0.5555555555555556,
              "#d8576b"
             ],
             [
              0.6666666666666666,
              "#ed7953"
             ],
             [
              0.7777777777777778,
              "#fb9f3a"
             ],
             [
              0.8888888888888888,
              "#fdca26"
             ],
             [
              1,
              "#f0f921"
             ]
            ],
            "type": "histogram2dcontour"
           }
          ],
          "mesh3d": [
           {
            "colorbar": {
             "outlinewidth": 0,
             "ticks": ""
            },
            "type": "mesh3d"
           }
          ],
          "parcoords": [
           {
            "line": {
             "colorbar": {
              "outlinewidth": 0,
              "ticks": ""
             }
            },
            "type": "parcoords"
           }
          ],
          "pie": [
           {
            "automargin": true,
            "type": "pie"
           }
          ],
          "scatter": [
           {
            "marker": {
             "colorbar": {
              "outlinewidth": 0,
              "ticks": ""
             }
            },
            "type": "scatter"
           }
          ],
          "scatter3d": [
           {
            "line": {
             "colorbar": {
              "outlinewidth": 0,
              "ticks": ""
             }
            },
            "marker": {
             "colorbar": {
              "outlinewidth": 0,
              "ticks": ""
             }
            },
            "type": "scatter3d"
           }
          ],
          "scattercarpet": [
           {
            "marker": {
             "colorbar": {
              "outlinewidth": 0,
              "ticks": ""
             }
            },
            "type": "scattercarpet"
           }
          ],
          "scattergeo": [
           {
            "marker": {
             "colorbar": {
              "outlinewidth": 0,
              "ticks": ""
             }
            },
            "type": "scattergeo"
           }
          ],
          "scattergl": [
           {
            "marker": {
             "colorbar": {
              "outlinewidth": 0,
              "ticks": ""
             }
            },
            "type": "scattergl"
           }
          ],
          "scattermapbox": [
           {
            "marker": {
             "colorbar": {
              "outlinewidth": 0,
              "ticks": ""
             }
            },
            "type": "scattermapbox"
           }
          ],
          "scatterpolar": [
           {
            "marker": {
             "colorbar": {
              "outlinewidth": 0,
              "ticks": ""
             }
            },
            "type": "scatterpolar"
           }
          ],
          "scatterpolargl": [
           {
            "marker": {
             "colorbar": {
              "outlinewidth": 0,
              "ticks": ""
             }
            },
            "type": "scatterpolargl"
           }
          ],
          "scatterternary": [
           {
            "marker": {
             "colorbar": {
              "outlinewidth": 0,
              "ticks": ""
             }
            },
            "type": "scatterternary"
           }
          ],
          "surface": [
           {
            "colorbar": {
             "outlinewidth": 0,
             "ticks": ""
            },
            "colorscale": [
             [
              0,
              "#0d0887"
             ],
             [
              0.1111111111111111,
              "#46039f"
             ],
             [
              0.2222222222222222,
              "#7201a8"
             ],
             [
              0.3333333333333333,
              "#9c179e"
             ],
             [
              0.4444444444444444,
              "#bd3786"
             ],
             [
              0.5555555555555556,
              "#d8576b"
             ],
             [
              0.6666666666666666,
              "#ed7953"
             ],
             [
              0.7777777777777778,
              "#fb9f3a"
             ],
             [
              0.8888888888888888,
              "#fdca26"
             ],
             [
              1,
              "#f0f921"
             ]
            ],
            "type": "surface"
           }
          ],
          "table": [
           {
            "cells": {
             "fill": {
              "color": "#EBF0F8"
             },
             "line": {
              "color": "white"
             }
            },
            "header": {
             "fill": {
              "color": "#C8D4E3"
             },
             "line": {
              "color": "white"
             }
            },
            "type": "table"
           }
          ]
         },
         "layout": {
          "annotationdefaults": {
           "arrowcolor": "#2a3f5f",
           "arrowhead": 0,
           "arrowwidth": 1
          },
          "autotypenumbers": "strict",
          "coloraxis": {
           "colorbar": {
            "outlinewidth": 0,
            "ticks": ""
           }
          },
          "colorscale": {
           "diverging": [
            [
             0,
             "#8e0152"
            ],
            [
             0.1,
             "#c51b7d"
            ],
            [
             0.2,
             "#de77ae"
            ],
            [
             0.3,
             "#f1b6da"
            ],
            [
             0.4,
             "#fde0ef"
            ],
            [
             0.5,
             "#f7f7f7"
            ],
            [
             0.6,
             "#e6f5d0"
            ],
            [
             0.7,
             "#b8e186"
            ],
            [
             0.8,
             "#7fbc41"
            ],
            [
             0.9,
             "#4d9221"
            ],
            [
             1,
             "#276419"
            ]
           ],
           "sequential": [
            [
             0,
             "#0d0887"
            ],
            [
             0.1111111111111111,
             "#46039f"
            ],
            [
             0.2222222222222222,
             "#7201a8"
            ],
            [
             0.3333333333333333,
             "#9c179e"
            ],
            [
             0.4444444444444444,
             "#bd3786"
            ],
            [
             0.5555555555555556,
             "#d8576b"
            ],
            [
             0.6666666666666666,
             "#ed7953"
            ],
            [
             0.7777777777777778,
             "#fb9f3a"
            ],
            [
             0.8888888888888888,
             "#fdca26"
            ],
            [
             1,
             "#f0f921"
            ]
           ],
           "sequentialminus": [
            [
             0,
             "#0d0887"
            ],
            [
             0.1111111111111111,
             "#46039f"
            ],
            [
             0.2222222222222222,
             "#7201a8"
            ],
            [
             0.3333333333333333,
             "#9c179e"
            ],
            [
             0.4444444444444444,
             "#bd3786"
            ],
            [
             0.5555555555555556,
             "#d8576b"
            ],
            [
             0.6666666666666666,
             "#ed7953"
            ],
            [
             0.7777777777777778,
             "#fb9f3a"
            ],
            [
             0.8888888888888888,
             "#fdca26"
            ],
            [
             1,
             "#f0f921"
            ]
           ]
          },
          "colorway": [
           "#636efa",
           "#EF553B",
           "#00cc96",
           "#ab63fa",
           "#FFA15A",
           "#19d3f3",
           "#FF6692",
           "#B6E880",
           "#FF97FF",
           "#FECB52"
          ],
          "font": {
           "color": "#2a3f5f"
          },
          "geo": {
           "bgcolor": "white",
           "lakecolor": "white",
           "landcolor": "#E5ECF6",
           "showlakes": true,
           "showland": true,
           "subunitcolor": "white"
          },
          "hoverlabel": {
           "align": "left"
          },
          "hovermode": "closest",
          "mapbox": {
           "style": "light"
          },
          "paper_bgcolor": "white",
          "plot_bgcolor": "#E5ECF6",
          "polar": {
           "angularaxis": {
            "gridcolor": "white",
            "linecolor": "white",
            "ticks": ""
           },
           "bgcolor": "#E5ECF6",
           "radialaxis": {
            "gridcolor": "white",
            "linecolor": "white",
            "ticks": ""
           }
          },
          "scene": {
           "xaxis": {
            "backgroundcolor": "#E5ECF6",
            "gridcolor": "white",
            "gridwidth": 2,
            "linecolor": "white",
            "showbackground": true,
            "ticks": "",
            "zerolinecolor": "white"
           },
           "yaxis": {
            "backgroundcolor": "#E5ECF6",
            "gridcolor": "white",
            "gridwidth": 2,
            "linecolor": "white",
            "showbackground": true,
            "ticks": "",
            "zerolinecolor": "white"
           },
           "zaxis": {
            "backgroundcolor": "#E5ECF6",
            "gridcolor": "white",
            "gridwidth": 2,
            "linecolor": "white",
            "showbackground": true,
            "ticks": "",
            "zerolinecolor": "white"
           }
          },
          "shapedefaults": {
           "line": {
            "color": "#2a3f5f"
           }
          },
          "ternary": {
           "aaxis": {
            "gridcolor": "white",
            "linecolor": "white",
            "ticks": ""
           },
           "baxis": {
            "gridcolor": "white",
            "linecolor": "white",
            "ticks": ""
           },
           "bgcolor": "#E5ECF6",
           "caxis": {
            "gridcolor": "white",
            "linecolor": "white",
            "ticks": ""
           }
          },
          "title": {
           "x": 0.05
          },
          "xaxis": {
           "automargin": true,
           "gridcolor": "white",
           "linecolor": "white",
           "ticks": "",
           "title": {
            "standoff": 15
           },
           "zerolinecolor": "white",
           "zerolinewidth": 2
          },
          "yaxis": {
           "automargin": true,
           "gridcolor": "white",
           "linecolor": "white",
           "ticks": "",
           "title": {
            "standoff": 15
           },
           "zerolinecolor": "white",
           "zerolinewidth": 2
          }
         }
        },
        "title": {
         "text": "R1 Structures: Frequency and Impact on Score Relative to All Factions Average (144.4): gleens"
        }
       }
      },
      "text/html": [
       "<div>                            <div id=\"7e60b02a-5c59-4ef0-a0db-92cd4496d3cb\" class=\"plotly-graph-div\" style=\"height:525px; width:100%;\"></div>            <script type=\"text/javascript\">                require([\"plotly\"], function(Plotly) {                    window.PLOTLYENV=window.PLOTLYENV || {};                                    if (document.getElementById(\"7e60b02a-5c59-4ef0-a0db-92cd4496d3cb\")) {                    Plotly.newPlot(                        \"7e60b02a-5c59-4ef0-a0db-92cd4496d3cb\",                        [{\"branchvalues\":\"total\",\"customdata\":[[117.0,128.625],[44.0,144.0],[102.375,109.125],[212.13636363636363,135.27272727272728],[232.6315789473684,143.52631578947367],[124.0,122.25],[235.66666666666666,137.0],[104.0,111.8],[192.1851851851852,124.74074074074075],[235.32258064516128,139.83870967741936],[236.43478260869566,149.47826086956522],[128.76470588235293,121.3529411764706],[203.2,140.3272727272727],[149.0,111.66666666666667],[180.0909090909091,133.0],[184.13684210526316,140.62105263157895],[229.4,143.2],[219.0,190.0],[254.66666666666666,163.33333333333334],[100.0,170.0],[169.42857142857142,123.14285714285714],[193.375,141.655],[100.0,160.0],[123.625,151.125],[161.5,125.5],[146.85714285714286,129.85714285714286],[211.7127659574468,150.4840425531915],[165.6,136.86666666666667],[229.6,164.0],[194.9,125.65],[360.0,188.5],[238.08771929824562,156.28070175438597],[219.84615384615384,149.89743589743588],[300.0,205.0],[216.3709677419355,147.1451612903226],[214.71428571428572,170.42857142857142],[233.5625,165.6875],[248.63291139240508,164.31645569620252],[249.58333333333334,185.58333333333334],[\"(?)\",126.68852459016394],[\"(?)\",146.96850393700788],[\"(?)\",139.30357142857142],[\"(?)\",144.0561797752809],[\"(?)\",155.16763005780348],[\"(?)\",147.59868421052633],[\"(?)\",145.23106947697113]],\"domain\":{\"x\":[0.0,1.0],\"y\":[0.0,1.0]},\"hovertemplate\":\"labels=%{label}<br>class_counts=%{value}<br>parent=%{parent}<br>id=%{id}<br>ave_elo_gleens=%{customdata[0]}<br>ave_score_gleens=%{color}<extra></extra>\",\"ids\":[\"R1 Structs/lab/ 0-m_0-ts_2-lab_0-pi_0-ac1_0-ac2\",\"R1 Structs/PI/ 0-m_1-ts_0-lab_1-pi_0-ac1_0-ac2\",\"R1 Structs/lab/ 0-m_1-ts_1-lab_0-pi_0-ac1_0-ac2\",\"R1 Structs/ac2/ 1-m_0-ts_0-lab_0-pi_0-ac1_1-ac2\",\"R1 Structs/ac1/ 1-m_0-ts_0-lab_0-pi_1-ac1_0-ac2\",\"R1 Structs/PI/ 1-m_0-ts_1-lab_1-pi_0-ac1_0-ac2\",\"R1 Structs/lab/ 1-m_0-ts_2-lab_0-pi_0-ac1_0-ac2\",\"R1 Structs/PI/ 1-m_1-ts_0-lab_1-pi_0-ac1_0-ac2\",\"R1 Structs/lab/ 1-m_1-ts_1-lab_0-pi_0-ac1_0-ac2\",\"R1 Structs/ac2/ 2-m_0-ts_0-lab_0-pi_0-ac1_1-ac2\",\"R1 Structs/ac1/ 2-m_0-ts_0-lab_0-pi_1-ac1_0-ac2\",\"R1 Structs/PI/ 2-m_0-ts_0-lab_1-pi_0-ac1_0-ac2\",\"R1 Structs/lab/ 2-m_0-ts_1-lab_0-pi_0-ac1_0-ac2\",\"R1 Structs/ts/ 2-m_1-ts_0-lab_0-pi_0-ac1_0-ac2\",\"R1 Structs/PI/ 2-m_1-ts_0-lab_1-pi_0-ac1_0-ac2\",\"R1 Structs/lab/ 2-m_1-ts_1-lab_0-pi_0-ac1_0-ac2\",\"R1 Structs/ts/ 2-m_2-ts_0-lab_0-pi_0-ac1_0-ac2\",\"R1 Structs/ts/ 2-m_3-ts_0-lab_0-pi_0-ac1_0-ac2\",\"R1 Structs/ac2/ 3-m_0-ts_0-lab_0-pi_0-ac1_1-ac2\",\"R1 Structs/ac1/ 3-m_0-ts_0-lab_0-pi_1-ac1_0-ac2\",\"R1 Structs/PI/ 3-m_0-ts_0-lab_1-pi_0-ac1_0-ac2\",\"R1 Structs/lab/ 3-m_0-ts_1-lab_0-pi_0-ac1_0-ac2\",\"R1 Structs/lab/ 3-m_0-ts_2-lab_0-pi_0-ac1_0-ac2\",\"R1 Structs/lab/ 3-m_1-ts_1-lab_0-pi_0-ac1_0-ac2\",\"R1 Structs/ts/ 3-m_2-ts_0-lab_0-pi_0-ac1_0-ac2\",\"R1 Structs/PI/ 4-m_0-ts_0-lab_1-pi_0-ac1_0-ac2\",\"R1 Structs/lab/ 4-m_0-ts_1-lab_0-pi_0-ac1_0-ac2\",\"R1 Structs/ts/ 4-m_1-ts_0-lab_0-pi_0-ac1_0-ac2\",\"R1 Structs/ts/ 4-m_2-ts_0-lab_0-pi_0-ac1_0-ac2\",\"R1 Structs/m/ 5-m_0-ts_0-lab_0-pi_0-ac1_0-ac2\",\"R1 Structs/PI/ 5-m_0-ts_0-lab_1-pi_0-ac1_0-ac2\",\"R1 Structs/lab/ 5-m_0-ts_1-lab_0-pi_0-ac1_0-ac2\",\"R1 Structs/ts/ 5-m_1-ts_0-lab_0-pi_0-ac1_0-ac2\",\"R1 Structs/ts/ 5-m_2-ts_0-lab_0-pi_0-ac1_0-ac2\",\"R1 Structs/m/ 6-m_0-ts_0-lab_0-pi_0-ac1_0-ac2\",\"R1 Structs/lab/ 6-m_0-ts_1-lab_0-pi_0-ac1_0-ac2\",\"R1 Structs/ts/ 6-m_1-ts_0-lab_0-pi_0-ac1_0-ac2\",\"R1 Structs/m/ 7-m_0-ts_0-lab_0-pi_0-ac1_0-ac2\",\"R1 Structs/m/ 8-m_0-ts_0-lab_0-pi_0-ac1_0-ac2\",\"R1 Structs/PI\",\"R1 Structs/ac1\",\"R1 Structs/ac2\",\"R1 Structs/lab\",\"R1 Structs/m\",\"R1 Structs/ts\",\"R1 Structs\"],\"labels\":[\" 0-m_0-ts_2-lab_0-pi_0-ac1_0-ac2\",\" 0-m_1-ts_0-lab_1-pi_0-ac1_0-ac2\",\" 0-m_1-ts_1-lab_0-pi_0-ac1_0-ac2\",\" 1-m_0-ts_0-lab_0-pi_0-ac1_1-ac2\",\" 1-m_0-ts_0-lab_0-pi_1-ac1_0-ac2\",\" 1-m_0-ts_1-lab_1-pi_0-ac1_0-ac2\",\" 1-m_0-ts_2-lab_0-pi_0-ac1_0-ac2\",\" 1-m_1-ts_0-lab_1-pi_0-ac1_0-ac2\",\" 1-m_1-ts_1-lab_0-pi_0-ac1_0-ac2\",\" 2-m_0-ts_0-lab_0-pi_0-ac1_1-ac2\",\" 2-m_0-ts_0-lab_0-pi_1-ac1_0-ac2\",\" 2-m_0-ts_0-lab_1-pi_0-ac1_0-ac2\",\" 2-m_0-ts_1-lab_0-pi_0-ac1_0-ac2\",\" 2-m_1-ts_0-lab_0-pi_0-ac1_0-ac2\",\" 2-m_1-ts_0-lab_1-pi_0-ac1_0-ac2\",\" 2-m_1-ts_1-lab_0-pi_0-ac1_0-ac2\",\" 2-m_2-ts_0-lab_0-pi_0-ac1_0-ac2\",\" 2-m_3-ts_0-lab_0-pi_0-ac1_0-ac2\",\" 3-m_0-ts_0-lab_0-pi_0-ac1_1-ac2\",\" 3-m_0-ts_0-lab_0-pi_1-ac1_0-ac2\",\" 3-m_0-ts_0-lab_1-pi_0-ac1_0-ac2\",\" 3-m_0-ts_1-lab_0-pi_0-ac1_0-ac2\",\" 3-m_0-ts_2-lab_0-pi_0-ac1_0-ac2\",\" 3-m_1-ts_1-lab_0-pi_0-ac1_0-ac2\",\" 3-m_2-ts_0-lab_0-pi_0-ac1_0-ac2\",\" 4-m_0-ts_0-lab_1-pi_0-ac1_0-ac2\",\" 4-m_0-ts_1-lab_0-pi_0-ac1_0-ac2\",\" 4-m_1-ts_0-lab_0-pi_0-ac1_0-ac2\",\" 4-m_2-ts_0-lab_0-pi_0-ac1_0-ac2\",\" 5-m_0-ts_0-lab_0-pi_0-ac1_0-ac2\",\" 5-m_0-ts_0-lab_1-pi_0-ac1_0-ac2\",\" 5-m_0-ts_1-lab_0-pi_0-ac1_0-ac2\",\" 5-m_1-ts_0-lab_0-pi_0-ac1_0-ac2\",\" 5-m_2-ts_0-lab_0-pi_0-ac1_0-ac2\",\" 6-m_0-ts_0-lab_0-pi_0-ac1_0-ac2\",\" 6-m_0-ts_1-lab_0-pi_0-ac1_0-ac2\",\" 6-m_1-ts_0-lab_0-pi_0-ac1_0-ac2\",\" 7-m_0-ts_0-lab_0-pi_0-ac1_0-ac2\",\" 8-m_0-ts_0-lab_0-pi_0-ac1_0-ac2\",\"PI\",\"ac1\",\"ac2\",\"lab\",\"m\",\"ts\",\"R1 Structs\"],\"marker\":{\"coloraxis\":\"coloraxis\",\"colors\":[128.625,144.0,109.125,135.27272727272728,143.52631578947367,122.25,137.0,111.8,124.74074074074075,139.83870967741936,149.47826086956522,121.3529411764706,140.3272727272727,111.66666666666667,133.0,140.62105263157895,143.2,190.0,163.33333333333334,170.0,123.14285714285714,141.655,160.0,151.125,125.5,129.85714285714286,150.4840425531915,136.86666666666667,164.0,125.65,188.5,156.28070175438597,149.89743589743588,205.0,147.1451612903226,170.42857142857142,165.6875,164.31645569620252,185.58333333333334,126.68852459016394,146.96850393700788,139.30357142857142,144.0561797752809,155.16763005780348,147.59868421052633,145.23106947697113]},\"name\":\"\",\"parents\":[\"R1 Structs/lab\",\"R1 Structs/PI\",\"R1 Structs/lab\",\"R1 Structs/ac2\",\"R1 Structs/ac1\",\"R1 Structs/PI\",\"R1 Structs/lab\",\"R1 Structs/PI\",\"R1 Structs/lab\",\"R1 Structs/ac2\",\"R1 Structs/ac1\",\"R1 Structs/PI\",\"R1 Structs/lab\",\"R1 Structs/ts\",\"R1 Structs/PI\",\"R1 Structs/lab\",\"R1 Structs/ts\",\"R1 Structs/ts\",\"R1 Structs/ac2\",\"R1 Structs/ac1\",\"R1 Structs/PI\",\"R1 Structs/lab\",\"R1 Structs/lab\",\"R1 Structs/lab\",\"R1 Structs/ts\",\"R1 Structs/PI\",\"R1 Structs/lab\",\"R1 Structs/ts\",\"R1 Structs/ts\",\"R1 Structs/m\",\"R1 Structs/PI\",\"R1 Structs/lab\",\"R1 Structs/ts\",\"R1 Structs/ts\",\"R1 Structs/m\",\"R1 Structs/lab\",\"R1 Structs/ts\",\"R1 Structs/m\",\"R1 Structs/m\",\"R1 Structs\",\"R1 Structs\",\"R1 Structs\",\"R1 Structs\",\"R1 Structs\",\"R1 Structs\",\"\"],\"values\":[16,2,16,44,114,8,6,10,54,62,138,34,220,6,22,190,20,2,6,2,28,400,2,16,16,14,376,60,10,40,4,114,156,2,124,14,32,158,24,122,254,112,1424,346,304,2562],\"type\":\"treemap\"}],                        {\"template\":{\"data\":{\"bar\":[{\"error_x\":{\"color\":\"#2a3f5f\"},\"error_y\":{\"color\":\"#2a3f5f\"},\"marker\":{\"line\":{\"color\":\"#E5ECF6\",\"width\":0.5},\"pattern\":{\"fillmode\":\"overlay\",\"size\":10,\"solidity\":0.2}},\"type\":\"bar\"}],\"barpolar\":[{\"marker\":{\"line\":{\"color\":\"#E5ECF6\",\"width\":0.5},\"pattern\":{\"fillmode\":\"overlay\",\"size\":10,\"solidity\":0.2}},\"type\":\"barpolar\"}],\"carpet\":[{\"aaxis\":{\"endlinecolor\":\"#2a3f5f\",\"gridcolor\":\"white\",\"linecolor\":\"white\",\"minorgridcolor\":\"white\",\"startlinecolor\":\"#2a3f5f\"},\"baxis\":{\"endlinecolor\":\"#2a3f5f\",\"gridcolor\":\"white\",\"linecolor\":\"white\",\"minorgridcolor\":\"white\",\"startlinecolor\":\"#2a3f5f\"},\"type\":\"carpet\"}],\"choropleth\":[{\"colorbar\":{\"outlinewidth\":0,\"ticks\":\"\"},\"type\":\"choropleth\"}],\"contour\":[{\"colorbar\":{\"outlinewidth\":0,\"ticks\":\"\"},\"colorscale\":[[0.0,\"#0d0887\"],[0.1111111111111111,\"#46039f\"],[0.2222222222222222,\"#7201a8\"],[0.3333333333333333,\"#9c179e\"],[0.4444444444444444,\"#bd3786\"],[0.5555555555555556,\"#d8576b\"],[0.6666666666666666,\"#ed7953\"],[0.7777777777777778,\"#fb9f3a\"],[0.8888888888888888,\"#fdca26\"],[1.0,\"#f0f921\"]],\"type\":\"contour\"}],\"contourcarpet\":[{\"colorbar\":{\"outlinewidth\":0,\"ticks\":\"\"},\"type\":\"contourcarpet\"}],\"heatmap\":[{\"colorbar\":{\"outlinewidth\":0,\"ticks\":\"\"},\"colorscale\":[[0.0,\"#0d0887\"],[0.1111111111111111,\"#46039f\"],[0.2222222222222222,\"#7201a8\"],[0.3333333333333333,\"#9c179e\"],[0.4444444444444444,\"#bd3786\"],[0.5555555555555556,\"#d8576b\"],[0.6666666666666666,\"#ed7953\"],[0.7777777777777778,\"#fb9f3a\"],[0.8888888888888888,\"#fdca26\"],[1.0,\"#f0f921\"]],\"type\":\"heatmap\"}],\"heatmapgl\":[{\"colorbar\":{\"outlinewidth\":0,\"ticks\":\"\"},\"colorscale\":[[0.0,\"#0d0887\"],[0.1111111111111111,\"#46039f\"],[0.2222222222222222,\"#7201a8\"],[0.3333333333333333,\"#9c179e\"],[0.4444444444444444,\"#bd3786\"],[0.5555555555555556,\"#d8576b\"],[0.6666666666666666,\"#ed7953\"],[0.7777777777777778,\"#fb9f3a\"],[0.8888888888888888,\"#fdca26\"],[1.0,\"#f0f921\"]],\"type\":\"heatmapgl\"}],\"histogram\":[{\"marker\":{\"pattern\":{\"fillmode\":\"overlay\",\"size\":10,\"solidity\":0.2}},\"type\":\"histogram\"}],\"histogram2d\":[{\"colorbar\":{\"outlinewidth\":0,\"ticks\":\"\"},\"colorscale\":[[0.0,\"#0d0887\"],[0.1111111111111111,\"#46039f\"],[0.2222222222222222,\"#7201a8\"],[0.3333333333333333,\"#9c179e\"],[0.4444444444444444,\"#bd3786\"],[0.5555555555555556,\"#d8576b\"],[0.6666666666666666,\"#ed7953\"],[0.7777777777777778,\"#fb9f3a\"],[0.8888888888888888,\"#fdca26\"],[1.0,\"#f0f921\"]],\"type\":\"histogram2d\"}],\"histogram2dcontour\":[{\"colorbar\":{\"outlinewidth\":0,\"ticks\":\"\"},\"colorscale\":[[0.0,\"#0d0887\"],[0.1111111111111111,\"#46039f\"],[0.2222222222222222,\"#7201a8\"],[0.3333333333333333,\"#9c179e\"],[0.4444444444444444,\"#bd3786\"],[0.5555555555555556,\"#d8576b\"],[0.6666666666666666,\"#ed7953\"],[0.7777777777777778,\"#fb9f3a\"],[0.8888888888888888,\"#fdca26\"],[1.0,\"#f0f921\"]],\"type\":\"histogram2dcontour\"}],\"mesh3d\":[{\"colorbar\":{\"outlinewidth\":0,\"ticks\":\"\"},\"type\":\"mesh3d\"}],\"parcoords\":[{\"line\":{\"colorbar\":{\"outlinewidth\":0,\"ticks\":\"\"}},\"type\":\"parcoords\"}],\"pie\":[{\"automargin\":true,\"type\":\"pie\"}],\"scatter\":[{\"marker\":{\"colorbar\":{\"outlinewidth\":0,\"ticks\":\"\"}},\"type\":\"scatter\"}],\"scatter3d\":[{\"line\":{\"colorbar\":{\"outlinewidth\":0,\"ticks\":\"\"}},\"marker\":{\"colorbar\":{\"outlinewidth\":0,\"ticks\":\"\"}},\"type\":\"scatter3d\"}],\"scattercarpet\":[{\"marker\":{\"colorbar\":{\"outlinewidth\":0,\"ticks\":\"\"}},\"type\":\"scattercarpet\"}],\"scattergeo\":[{\"marker\":{\"colorbar\":{\"outlinewidth\":0,\"ticks\":\"\"}},\"type\":\"scattergeo\"}],\"scattergl\":[{\"marker\":{\"colorbar\":{\"outlinewidth\":0,\"ticks\":\"\"}},\"type\":\"scattergl\"}],\"scattermapbox\":[{\"marker\":{\"colorbar\":{\"outlinewidth\":0,\"ticks\":\"\"}},\"type\":\"scattermapbox\"}],\"scatterpolar\":[{\"marker\":{\"colorbar\":{\"outlinewidth\":0,\"ticks\":\"\"}},\"type\":\"scatterpolar\"}],\"scatterpolargl\":[{\"marker\":{\"colorbar\":{\"outlinewidth\":0,\"ticks\":\"\"}},\"type\":\"scatterpolargl\"}],\"scatterternary\":[{\"marker\":{\"colorbar\":{\"outlinewidth\":0,\"ticks\":\"\"}},\"type\":\"scatterternary\"}],\"surface\":[{\"colorbar\":{\"outlinewidth\":0,\"ticks\":\"\"},\"colorscale\":[[0.0,\"#0d0887\"],[0.1111111111111111,\"#46039f\"],[0.2222222222222222,\"#7201a8\"],[0.3333333333333333,\"#9c179e\"],[0.4444444444444444,\"#bd3786\"],[0.5555555555555556,\"#d8576b\"],[0.6666666666666666,\"#ed7953\"],[0.7777777777777778,\"#fb9f3a\"],[0.8888888888888888,\"#fdca26\"],[1.0,\"#f0f921\"]],\"type\":\"surface\"}],\"table\":[{\"cells\":{\"fill\":{\"color\":\"#EBF0F8\"},\"line\":{\"color\":\"white\"}},\"header\":{\"fill\":{\"color\":\"#C8D4E3\"},\"line\":{\"color\":\"white\"}},\"type\":\"table\"}]},\"layout\":{\"annotationdefaults\":{\"arrowcolor\":\"#2a3f5f\",\"arrowhead\":0,\"arrowwidth\":1},\"autotypenumbers\":\"strict\",\"coloraxis\":{\"colorbar\":{\"outlinewidth\":0,\"ticks\":\"\"}},\"colorscale\":{\"diverging\":[[0,\"#8e0152\"],[0.1,\"#c51b7d\"],[0.2,\"#de77ae\"],[0.3,\"#f1b6da\"],[0.4,\"#fde0ef\"],[0.5,\"#f7f7f7\"],[0.6,\"#e6f5d0\"],[0.7,\"#b8e186\"],[0.8,\"#7fbc41\"],[0.9,\"#4d9221\"],[1,\"#276419\"]],\"sequential\":[[0.0,\"#0d0887\"],[0.1111111111111111,\"#46039f\"],[0.2222222222222222,\"#7201a8\"],[0.3333333333333333,\"#9c179e\"],[0.4444444444444444,\"#bd3786\"],[0.5555555555555556,\"#d8576b\"],[0.6666666666666666,\"#ed7953\"],[0.7777777777777778,\"#fb9f3a\"],[0.8888888888888888,\"#fdca26\"],[1.0,\"#f0f921\"]],\"sequentialminus\":[[0.0,\"#0d0887\"],[0.1111111111111111,\"#46039f\"],[0.2222222222222222,\"#7201a8\"],[0.3333333333333333,\"#9c179e\"],[0.4444444444444444,\"#bd3786\"],[0.5555555555555556,\"#d8576b\"],[0.6666666666666666,\"#ed7953\"],[0.7777777777777778,\"#fb9f3a\"],[0.8888888888888888,\"#fdca26\"],[1.0,\"#f0f921\"]]},\"colorway\":[\"#636efa\",\"#EF553B\",\"#00cc96\",\"#ab63fa\",\"#FFA15A\",\"#19d3f3\",\"#FF6692\",\"#B6E880\",\"#FF97FF\",\"#FECB52\"],\"font\":{\"color\":\"#2a3f5f\"},\"geo\":{\"bgcolor\":\"white\",\"lakecolor\":\"white\",\"landcolor\":\"#E5ECF6\",\"showlakes\":true,\"showland\":true,\"subunitcolor\":\"white\"},\"hoverlabel\":{\"align\":\"left\"},\"hovermode\":\"closest\",\"mapbox\":{\"style\":\"light\"},\"paper_bgcolor\":\"white\",\"plot_bgcolor\":\"#E5ECF6\",\"polar\":{\"angularaxis\":{\"gridcolor\":\"white\",\"linecolor\":\"white\",\"ticks\":\"\"},\"bgcolor\":\"#E5ECF6\",\"radialaxis\":{\"gridcolor\":\"white\",\"linecolor\":\"white\",\"ticks\":\"\"}},\"scene\":{\"xaxis\":{\"backgroundcolor\":\"#E5ECF6\",\"gridcolor\":\"white\",\"gridwidth\":2,\"linecolor\":\"white\",\"showbackground\":true,\"ticks\":\"\",\"zerolinecolor\":\"white\"},\"yaxis\":{\"backgroundcolor\":\"#E5ECF6\",\"gridcolor\":\"white\",\"gridwidth\":2,\"linecolor\":\"white\",\"showbackground\":true,\"ticks\":\"\",\"zerolinecolor\":\"white\"},\"zaxis\":{\"backgroundcolor\":\"#E5ECF6\",\"gridcolor\":\"white\",\"gridwidth\":2,\"linecolor\":\"white\",\"showbackground\":true,\"ticks\":\"\",\"zerolinecolor\":\"white\"}},\"shapedefaults\":{\"line\":{\"color\":\"#2a3f5f\"}},\"ternary\":{\"aaxis\":{\"gridcolor\":\"white\",\"linecolor\":\"white\",\"ticks\":\"\"},\"baxis\":{\"gridcolor\":\"white\",\"linecolor\":\"white\",\"ticks\":\"\"},\"bgcolor\":\"#E5ECF6\",\"caxis\":{\"gridcolor\":\"white\",\"linecolor\":\"white\",\"ticks\":\"\"}},\"title\":{\"x\":0.05},\"xaxis\":{\"automargin\":true,\"gridcolor\":\"white\",\"linecolor\":\"white\",\"ticks\":\"\",\"title\":{\"standoff\":15},\"zerolinecolor\":\"white\",\"zerolinewidth\":2},\"yaxis\":{\"automargin\":true,\"gridcolor\":\"white\",\"linecolor\":\"white\",\"ticks\":\"\",\"title\":{\"standoff\":15},\"zerolinecolor\":\"white\",\"zerolinewidth\":2}}},\"coloraxis\":{\"colorbar\":{\"title\":{\"text\":\"ave_score_gleens\"}},\"colorscale\":[[0.0,\"rgb(103,0,31)\"],[0.1,\"rgb(178,24,43)\"],[0.2,\"rgb(214,96,77)\"],[0.3,\"rgb(244,165,130)\"],[0.4,\"rgb(253,219,199)\"],[0.5,\"rgb(247,247,247)\"],[0.6,\"rgb(209,229,240)\"],[0.7,\"rgb(146,197,222)\"],[0.8,\"rgb(67,147,195)\"],[0.9,\"rgb(33,102,172)\"],[1.0,\"rgb(5,48,97)\"]],\"cmid\":144.39872372553106},\"legend\":{\"tracegroupgap\":0},\"margin\":{\"t\":50,\"l\":25,\"r\":25,\"b\":25},\"title\":{\"text\":\"R1 Structures: Frequency and Impact on Score Relative to All Factions Average (144.4): gleens\"}},                        {\"responsive\": true}                    ).then(function(){\n",
       "                            \n",
       "var gd = document.getElementById('7e60b02a-5c59-4ef0-a0db-92cd4496d3cb');\n",
       "var x = new MutationObserver(function (mutations, observer) {{\n",
       "        var display = window.getComputedStyle(gd).display;\n",
       "        if (!display || display === 'none') {{\n",
       "            console.log([gd, 'removed!']);\n",
       "            Plotly.purge(gd);\n",
       "            observer.disconnect();\n",
       "        }}\n",
       "}});\n",
       "\n",
       "// Listen for the removal of the full notebook cells\n",
       "var notebookContainer = gd.closest('#notebook-container');\n",
       "if (notebookContainer) {{\n",
       "    x.observe(notebookContainer, {childList: true});\n",
       "}}\n",
       "\n",
       "// Listen for the clearing of the current output cell\n",
       "var outputEl = gd.closest('.output');\n",
       "if (outputEl) {{\n",
       "    x.observe(outputEl, {childList: true});\n",
       "}}\n",
       "\n",
       "                        })                };                });            </script>        </div>"
      ]
     },
     "metadata": {},
     "output_type": "display_data"
    },
    {
     "data": {
      "application/vnd.plotly.v1+json": {
       "config": {
        "plotlyServerURL": "https://plot.ly"
       },
       "data": [
        {
         "branchvalues": "total",
         "customdata": [
          [
           227.78947368421052,
           146.8421052631579
          ],
          [
           257,
           171
          ],
          [
           159.45454545454547,
           139.54545454545453
          ],
          [
           10,
           105
          ],
          [
           199.9367088607595,
           152.69620253164558
          ],
          [
           228.47330960854092,
           152.10320284697508
          ],
          [
           170.19607843137254,
           134.50980392156862
          ],
          [
           266.42857142857144,
           163
          ],
          [
           175.26315789473685,
           137.98245614035088
          ],
          [
           207.86776859504133,
           150.7603305785124
          ],
          [
           268.4715447154472,
           151.47154471544715
          ],
          [
           220.07365439093485,
           150.72521246458925
          ],
          [
           101.2,
           105.2
          ],
          [
           216.2207792207792,
           145.1038961038961
          ],
          [
           238.33333333333334,
           135
          ],
          [
           185,
           156
          ],
          [
           434,
           154
          ],
          [
           207.95833333333334,
           147.33928571428572
          ],
          [
           0.6666666666666666,
           104
          ],
          [
           153,
           91
          ],
          [
           100,
           110
          ],
          [
           232.55172413793105,
           149.72413793103448
          ],
          [
           172,
           135
          ],
          [
           42,
           140
          ],
          [
           262,
           130
          ],
          [
           "(?)",
           151.9630541871921
          ],
          [
           "(?)",
           151.91519434628975
          ],
          [
           "(?)",
           147.1629353233831
          ],
          [
           42,
           140
          ],
          [
           "(?)",
           113.78571428571429
          ],
          [
           "(?)",
           148.73399195023782
          ]
         ],
         "domain": {
          "x": [
           0,
           1
          ],
          "y": [
           0,
           1
          ]
         },
         "hovertemplate": "labels=%{label}<br>class_counts=%{value}<br>parent=%{parent}<br>id=%{id}<br>ave_elo_baltaks=%{customdata[0]}<br>ave_score_baltaks=%{color}<extra></extra>",
         "ids": [
          "R1 Structs/lab/ 0-m_0-ts_2-lab_0-pi_0-ac1_0-ac2",
          "R1 Structs/ac1/ 0-m_1-ts_0-lab_0-pi_1-ac1_0-ac2",
          "R1 Structs/lab/ 0-m_1-ts_1-lab_0-pi_0-ac1_0-ac2",
          "R1 Structs/ts/ 0-m_3-ts_0-lab_0-pi_0-ac1_0-ac2",
          "R1 Structs/ac2/ 1-m_0-ts_0-lab_0-pi_0-ac1_1-ac2",
          "R1 Structs/ac1/ 1-m_0-ts_0-lab_0-pi_1-ac1_0-ac2",
          "R1 Structs/lab/ 1-m_0-ts_1-lab_0-pi_0-ac1_0-ac2",
          "R1 Structs/lab/ 1-m_0-ts_2-lab_0-pi_0-ac1_0-ac2",
          "R1 Structs/lab/ 1-m_1-ts_1-lab_0-pi_0-ac1_0-ac2",
          "R1 Structs/ac2/ 2-m_0-ts_0-lab_0-pi_0-ac1_1-ac2",
          "R1 Structs/ac1/ 2-m_0-ts_0-lab_0-pi_1-ac1_0-ac2",
          "R1 Structs/lab/ 2-m_0-ts_1-lab_0-pi_0-ac1_0-ac2",
          "R1 Structs/ts/ 2-m_1-ts_0-lab_0-pi_0-ac1_0-ac2",
          "R1 Structs/lab/ 2-m_1-ts_1-lab_0-pi_0-ac1_0-ac2",
          "R1 Structs/ts/ 2-m_2-ts_0-lab_0-pi_0-ac1_0-ac2",
          "R1 Structs/ac2/ 3-m_0-ts_0-lab_0-pi_0-ac1_1-ac2",
          "R1 Structs/ac1/ 3-m_0-ts_0-lab_0-pi_1-ac1_0-ac2",
          "R1 Structs/lab/ 3-m_0-ts_1-lab_0-pi_0-ac1_0-ac2",
          "R1 Structs/ts/ 3-m_1-ts_0-lab_0-pi_0-ac1_0-ac2",
          "R1 Structs/lab/ 3-m_1-ts_1-lab_0-pi_0-ac1_0-ac2",
          "R1 Structs/ts/ 3-m_2-ts_0-lab_0-pi_0-ac1_0-ac2",
          "R1 Structs/lab/ 4-m_0-ts_1-lab_0-pi_0-ac1_0-ac2",
          "R1 Structs/ts/ 4-m_1-ts_0-lab_0-pi_0-ac1_0-ac2",
          "R1 Structs/m/ 5-m_0-ts_0-lab_0-pi_0-ac1_0-ac2",
          "R1 Structs/lab/ 5-m_0-ts_1-lab_0-pi_0-ac1_0-ac2",
          "R1 Structs/ac1",
          "R1 Structs/ac2",
          "R1 Structs/lab",
          "R1 Structs/m",
          "R1 Structs/ts",
          "R1 Structs"
         ],
         "labels": [
          " 0-m_0-ts_2-lab_0-pi_0-ac1_0-ac2",
          " 0-m_1-ts_0-lab_0-pi_1-ac1_0-ac2",
          " 0-m_1-ts_1-lab_0-pi_0-ac1_0-ac2",
          " 0-m_3-ts_0-lab_0-pi_0-ac1_0-ac2",
          " 1-m_0-ts_0-lab_0-pi_0-ac1_1-ac2",
          " 1-m_0-ts_0-lab_0-pi_1-ac1_0-ac2",
          " 1-m_0-ts_1-lab_0-pi_0-ac1_0-ac2",
          " 1-m_0-ts_2-lab_0-pi_0-ac1_0-ac2",
          " 1-m_1-ts_1-lab_0-pi_0-ac1_0-ac2",
          " 2-m_0-ts_0-lab_0-pi_0-ac1_1-ac2",
          " 2-m_0-ts_0-lab_0-pi_1-ac1_0-ac2",
          " 2-m_0-ts_1-lab_0-pi_0-ac1_0-ac2",
          " 2-m_1-ts_0-lab_0-pi_0-ac1_0-ac2",
          " 2-m_1-ts_1-lab_0-pi_0-ac1_0-ac2",
          " 2-m_2-ts_0-lab_0-pi_0-ac1_0-ac2",
          " 3-m_0-ts_0-lab_0-pi_0-ac1_1-ac2",
          " 3-m_0-ts_0-lab_0-pi_1-ac1_0-ac2",
          " 3-m_0-ts_1-lab_0-pi_0-ac1_0-ac2",
          " 3-m_1-ts_0-lab_0-pi_0-ac1_0-ac2",
          " 3-m_1-ts_1-lab_0-pi_0-ac1_0-ac2",
          " 3-m_2-ts_0-lab_0-pi_0-ac1_0-ac2",
          " 4-m_0-ts_1-lab_0-pi_0-ac1_0-ac2",
          " 4-m_1-ts_0-lab_0-pi_0-ac1_0-ac2",
          " 5-m_0-ts_0-lab_0-pi_0-ac1_0-ac2",
          " 5-m_0-ts_1-lab_0-pi_0-ac1_0-ac2",
          "ac1",
          "ac2",
          "lab",
          "m",
          "ts",
          "R1 Structs"
         ],
         "marker": {
          "coloraxis": "coloraxis",
          "colors": [
           146.8421052631579,
           171,
           139.54545454545453,
           105,
           152.69620253164558,
           152.10320284697508,
           134.50980392156862,
           163,
           137.98245614035088,
           150.7603305785124,
           151.47154471544715,
           150.72521246458925,
           105.2,
           145.1038961038961,
           135,
           156,
           154,
           147.33928571428572,
           104,
           91,
           110,
           149.72413793103448,
           135,
           140,
           130,
           151.9630541871921,
           151.91519434628975,
           147.1629353233831,
           140,
           113.78571428571429,
           148.73399195023782
          ]
         },
         "name": "",
         "parents": [
          "R1 Structs/lab",
          "R1 Structs/ac1",
          "R1 Structs/lab",
          "R1 Structs/ts",
          "R1 Structs/ac2",
          "R1 Structs/ac1",
          "R1 Structs/lab",
          "R1 Structs/lab",
          "R1 Structs/lab",
          "R1 Structs/ac2",
          "R1 Structs/ac1",
          "R1 Structs/lab",
          "R1 Structs/ts",
          "R1 Structs/lab",
          "R1 Structs/ts",
          "R1 Structs/ac2",
          "R1 Structs/ac1",
          "R1 Structs/lab",
          "R1 Structs/ts",
          "R1 Structs/lab",
          "R1 Structs/ts",
          "R1 Structs/lab",
          "R1 Structs/ts",
          "R1 Structs/m",
          "R1 Structs/lab",
          "R1 Structs",
          "R1 Structs",
          "R1 Structs",
          "R1 Structs",
          "R1 Structs",
          ""
         ],
         "type": "treemap",
         "values": [
          38,
          2,
          22,
          2,
          158,
          562,
          102,
          14,
          114,
          121,
          246,
          706,
          10,
          154,
          6,
          4,
          2,
          336,
          6,
          4,
          2,
          116,
          2,
          2,
          2,
          812,
          283,
          1608,
          2,
          28,
          2733
         ]
        }
       ],
       "layout": {
        "coloraxis": {
         "cmid": 144.39872372553106,
         "colorbar": {
          "title": {
           "text": "ave_score_baltaks"
          }
         },
         "colorscale": [
          [
           0,
           "rgb(103,0,31)"
          ],
          [
           0.1,
           "rgb(178,24,43)"
          ],
          [
           0.2,
           "rgb(214,96,77)"
          ],
          [
           0.3,
           "rgb(244,165,130)"
          ],
          [
           0.4,
           "rgb(253,219,199)"
          ],
          [
           0.5,
           "rgb(247,247,247)"
          ],
          [
           0.6,
           "rgb(209,229,240)"
          ],
          [
           0.7,
           "rgb(146,197,222)"
          ],
          [
           0.8,
           "rgb(67,147,195)"
          ],
          [
           0.9,
           "rgb(33,102,172)"
          ],
          [
           1,
           "rgb(5,48,97)"
          ]
         ]
        },
        "legend": {
         "tracegroupgap": 0
        },
        "margin": {
         "b": 25,
         "l": 25,
         "r": 25,
         "t": 50
        },
        "template": {
         "data": {
          "bar": [
           {
            "error_x": {
             "color": "#2a3f5f"
            },
            "error_y": {
             "color": "#2a3f5f"
            },
            "marker": {
             "line": {
              "color": "#E5ECF6",
              "width": 0.5
             },
             "pattern": {
              "fillmode": "overlay",
              "size": 10,
              "solidity": 0.2
             }
            },
            "type": "bar"
           }
          ],
          "barpolar": [
           {
            "marker": {
             "line": {
              "color": "#E5ECF6",
              "width": 0.5
             },
             "pattern": {
              "fillmode": "overlay",
              "size": 10,
              "solidity": 0.2
             }
            },
            "type": "barpolar"
           }
          ],
          "carpet": [
           {
            "aaxis": {
             "endlinecolor": "#2a3f5f",
             "gridcolor": "white",
             "linecolor": "white",
             "minorgridcolor": "white",
             "startlinecolor": "#2a3f5f"
            },
            "baxis": {
             "endlinecolor": "#2a3f5f",
             "gridcolor": "white",
             "linecolor": "white",
             "minorgridcolor": "white",
             "startlinecolor": "#2a3f5f"
            },
            "type": "carpet"
           }
          ],
          "choropleth": [
           {
            "colorbar": {
             "outlinewidth": 0,
             "ticks": ""
            },
            "type": "choropleth"
           }
          ],
          "contour": [
           {
            "colorbar": {
             "outlinewidth": 0,
             "ticks": ""
            },
            "colorscale": [
             [
              0,
              "#0d0887"
             ],
             [
              0.1111111111111111,
              "#46039f"
             ],
             [
              0.2222222222222222,
              "#7201a8"
             ],
             [
              0.3333333333333333,
              "#9c179e"
             ],
             [
              0.4444444444444444,
              "#bd3786"
             ],
             [
              0.5555555555555556,
              "#d8576b"
             ],
             [
              0.6666666666666666,
              "#ed7953"
             ],
             [
              0.7777777777777778,
              "#fb9f3a"
             ],
             [
              0.8888888888888888,
              "#fdca26"
             ],
             [
              1,
              "#f0f921"
             ]
            ],
            "type": "contour"
           }
          ],
          "contourcarpet": [
           {
            "colorbar": {
             "outlinewidth": 0,
             "ticks": ""
            },
            "type": "contourcarpet"
           }
          ],
          "heatmap": [
           {
            "colorbar": {
             "outlinewidth": 0,
             "ticks": ""
            },
            "colorscale": [
             [
              0,
              "#0d0887"
             ],
             [
              0.1111111111111111,
              "#46039f"
             ],
             [
              0.2222222222222222,
              "#7201a8"
             ],
             [
              0.3333333333333333,
              "#9c179e"
             ],
             [
              0.4444444444444444,
              "#bd3786"
             ],
             [
              0.5555555555555556,
              "#d8576b"
             ],
             [
              0.6666666666666666,
              "#ed7953"
             ],
             [
              0.7777777777777778,
              "#fb9f3a"
             ],
             [
              0.8888888888888888,
              "#fdca26"
             ],
             [
              1,
              "#f0f921"
             ]
            ],
            "type": "heatmap"
           }
          ],
          "heatmapgl": [
           {
            "colorbar": {
             "outlinewidth": 0,
             "ticks": ""
            },
            "colorscale": [
             [
              0,
              "#0d0887"
             ],
             [
              0.1111111111111111,
              "#46039f"
             ],
             [
              0.2222222222222222,
              "#7201a8"
             ],
             [
              0.3333333333333333,
              "#9c179e"
             ],
             [
              0.4444444444444444,
              "#bd3786"
             ],
             [
              0.5555555555555556,
              "#d8576b"
             ],
             [
              0.6666666666666666,
              "#ed7953"
             ],
             [
              0.7777777777777778,
              "#fb9f3a"
             ],
             [
              0.8888888888888888,
              "#fdca26"
             ],
             [
              1,
              "#f0f921"
             ]
            ],
            "type": "heatmapgl"
           }
          ],
          "histogram": [
           {
            "marker": {
             "pattern": {
              "fillmode": "overlay",
              "size": 10,
              "solidity": 0.2
             }
            },
            "type": "histogram"
           }
          ],
          "histogram2d": [
           {
            "colorbar": {
             "outlinewidth": 0,
             "ticks": ""
            },
            "colorscale": [
             [
              0,
              "#0d0887"
             ],
             [
              0.1111111111111111,
              "#46039f"
             ],
             [
              0.2222222222222222,
              "#7201a8"
             ],
             [
              0.3333333333333333,
              "#9c179e"
             ],
             [
              0.4444444444444444,
              "#bd3786"
             ],
             [
              0.5555555555555556,
              "#d8576b"
             ],
             [
              0.6666666666666666,
              "#ed7953"
             ],
             [
              0.7777777777777778,
              "#fb9f3a"
             ],
             [
              0.8888888888888888,
              "#fdca26"
             ],
             [
              1,
              "#f0f921"
             ]
            ],
            "type": "histogram2d"
           }
          ],
          "histogram2dcontour": [
           {
            "colorbar": {
             "outlinewidth": 0,
             "ticks": ""
            },
            "colorscale": [
             [
              0,
              "#0d0887"
             ],
             [
              0.1111111111111111,
              "#46039f"
             ],
             [
              0.2222222222222222,
              "#7201a8"
             ],
             [
              0.3333333333333333,
              "#9c179e"
             ],
             [
              0.4444444444444444,
              "#bd3786"
             ],
             [
              0.5555555555555556,
              "#d8576b"
             ],
             [
              0.6666666666666666,
              "#ed7953"
             ],
             [
              0.7777777777777778,
              "#fb9f3a"
             ],
             [
              0.8888888888888888,
              "#fdca26"
             ],
             [
              1,
              "#f0f921"
             ]
            ],
            "type": "histogram2dcontour"
           }
          ],
          "mesh3d": [
           {
            "colorbar": {
             "outlinewidth": 0,
             "ticks": ""
            },
            "type": "mesh3d"
           }
          ],
          "parcoords": [
           {
            "line": {
             "colorbar": {
              "outlinewidth": 0,
              "ticks": ""
             }
            },
            "type": "parcoords"
           }
          ],
          "pie": [
           {
            "automargin": true,
            "type": "pie"
           }
          ],
          "scatter": [
           {
            "marker": {
             "colorbar": {
              "outlinewidth": 0,
              "ticks": ""
             }
            },
            "type": "scatter"
           }
          ],
          "scatter3d": [
           {
            "line": {
             "colorbar": {
              "outlinewidth": 0,
              "ticks": ""
             }
            },
            "marker": {
             "colorbar": {
              "outlinewidth": 0,
              "ticks": ""
             }
            },
            "type": "scatter3d"
           }
          ],
          "scattercarpet": [
           {
            "marker": {
             "colorbar": {
              "outlinewidth": 0,
              "ticks": ""
             }
            },
            "type": "scattercarpet"
           }
          ],
          "scattergeo": [
           {
            "marker": {
             "colorbar": {
              "outlinewidth": 0,
              "ticks": ""
             }
            },
            "type": "scattergeo"
           }
          ],
          "scattergl": [
           {
            "marker": {
             "colorbar": {
              "outlinewidth": 0,
              "ticks": ""
             }
            },
            "type": "scattergl"
           }
          ],
          "scattermapbox": [
           {
            "marker": {
             "colorbar": {
              "outlinewidth": 0,
              "ticks": ""
             }
            },
            "type": "scattermapbox"
           }
          ],
          "scatterpolar": [
           {
            "marker": {
             "colorbar": {
              "outlinewidth": 0,
              "ticks": ""
             }
            },
            "type": "scatterpolar"
           }
          ],
          "scatterpolargl": [
           {
            "marker": {
             "colorbar": {
              "outlinewidth": 0,
              "ticks": ""
             }
            },
            "type": "scatterpolargl"
           }
          ],
          "scatterternary": [
           {
            "marker": {
             "colorbar": {
              "outlinewidth": 0,
              "ticks": ""
             }
            },
            "type": "scatterternary"
           }
          ],
          "surface": [
           {
            "colorbar": {
             "outlinewidth": 0,
             "ticks": ""
            },
            "colorscale": [
             [
              0,
              "#0d0887"
             ],
             [
              0.1111111111111111,
              "#46039f"
             ],
             [
              0.2222222222222222,
              "#7201a8"
             ],
             [
              0.3333333333333333,
              "#9c179e"
             ],
             [
              0.4444444444444444,
              "#bd3786"
             ],
             [
              0.5555555555555556,
              "#d8576b"
             ],
             [
              0.6666666666666666,
              "#ed7953"
             ],
             [
              0.7777777777777778,
              "#fb9f3a"
             ],
             [
              0.8888888888888888,
              "#fdca26"
             ],
             [
              1,
              "#f0f921"
             ]
            ],
            "type": "surface"
           }
          ],
          "table": [
           {
            "cells": {
             "fill": {
              "color": "#EBF0F8"
             },
             "line": {
              "color": "white"
             }
            },
            "header": {
             "fill": {
              "color": "#C8D4E3"
             },
             "line": {
              "color": "white"
             }
            },
            "type": "table"
           }
          ]
         },
         "layout": {
          "annotationdefaults": {
           "arrowcolor": "#2a3f5f",
           "arrowhead": 0,
           "arrowwidth": 1
          },
          "autotypenumbers": "strict",
          "coloraxis": {
           "colorbar": {
            "outlinewidth": 0,
            "ticks": ""
           }
          },
          "colorscale": {
           "diverging": [
            [
             0,
             "#8e0152"
            ],
            [
             0.1,
             "#c51b7d"
            ],
            [
             0.2,
             "#de77ae"
            ],
            [
             0.3,
             "#f1b6da"
            ],
            [
             0.4,
             "#fde0ef"
            ],
            [
             0.5,
             "#f7f7f7"
            ],
            [
             0.6,
             "#e6f5d0"
            ],
            [
             0.7,
             "#b8e186"
            ],
            [
             0.8,
             "#7fbc41"
            ],
            [
             0.9,
             "#4d9221"
            ],
            [
             1,
             "#276419"
            ]
           ],
           "sequential": [
            [
             0,
             "#0d0887"
            ],
            [
             0.1111111111111111,
             "#46039f"
            ],
            [
             0.2222222222222222,
             "#7201a8"
            ],
            [
             0.3333333333333333,
             "#9c179e"
            ],
            [
             0.4444444444444444,
             "#bd3786"
            ],
            [
             0.5555555555555556,
             "#d8576b"
            ],
            [
             0.6666666666666666,
             "#ed7953"
            ],
            [
             0.7777777777777778,
             "#fb9f3a"
            ],
            [
             0.8888888888888888,
             "#fdca26"
            ],
            [
             1,
             "#f0f921"
            ]
           ],
           "sequentialminus": [
            [
             0,
             "#0d0887"
            ],
            [
             0.1111111111111111,
             "#46039f"
            ],
            [
             0.2222222222222222,
             "#7201a8"
            ],
            [
             0.3333333333333333,
             "#9c179e"
            ],
            [
             0.4444444444444444,
             "#bd3786"
            ],
            [
             0.5555555555555556,
             "#d8576b"
            ],
            [
             0.6666666666666666,
             "#ed7953"
            ],
            [
             0.7777777777777778,
             "#fb9f3a"
            ],
            [
             0.8888888888888888,
             "#fdca26"
            ],
            [
             1,
             "#f0f921"
            ]
           ]
          },
          "colorway": [
           "#636efa",
           "#EF553B",
           "#00cc96",
           "#ab63fa",
           "#FFA15A",
           "#19d3f3",
           "#FF6692",
           "#B6E880",
           "#FF97FF",
           "#FECB52"
          ],
          "font": {
           "color": "#2a3f5f"
          },
          "geo": {
           "bgcolor": "white",
           "lakecolor": "white",
           "landcolor": "#E5ECF6",
           "showlakes": true,
           "showland": true,
           "subunitcolor": "white"
          },
          "hoverlabel": {
           "align": "left"
          },
          "hovermode": "closest",
          "mapbox": {
           "style": "light"
          },
          "paper_bgcolor": "white",
          "plot_bgcolor": "#E5ECF6",
          "polar": {
           "angularaxis": {
            "gridcolor": "white",
            "linecolor": "white",
            "ticks": ""
           },
           "bgcolor": "#E5ECF6",
           "radialaxis": {
            "gridcolor": "white",
            "linecolor": "white",
            "ticks": ""
           }
          },
          "scene": {
           "xaxis": {
            "backgroundcolor": "#E5ECF6",
            "gridcolor": "white",
            "gridwidth": 2,
            "linecolor": "white",
            "showbackground": true,
            "ticks": "",
            "zerolinecolor": "white"
           },
           "yaxis": {
            "backgroundcolor": "#E5ECF6",
            "gridcolor": "white",
            "gridwidth": 2,
            "linecolor": "white",
            "showbackground": true,
            "ticks": "",
            "zerolinecolor": "white"
           },
           "zaxis": {
            "backgroundcolor": "#E5ECF6",
            "gridcolor": "white",
            "gridwidth": 2,
            "linecolor": "white",
            "showbackground": true,
            "ticks": "",
            "zerolinecolor": "white"
           }
          },
          "shapedefaults": {
           "line": {
            "color": "#2a3f5f"
           }
          },
          "ternary": {
           "aaxis": {
            "gridcolor": "white",
            "linecolor": "white",
            "ticks": ""
           },
           "baxis": {
            "gridcolor": "white",
            "linecolor": "white",
            "ticks": ""
           },
           "bgcolor": "#E5ECF6",
           "caxis": {
            "gridcolor": "white",
            "linecolor": "white",
            "ticks": ""
           }
          },
          "title": {
           "x": 0.05
          },
          "xaxis": {
           "automargin": true,
           "gridcolor": "white",
           "linecolor": "white",
           "ticks": "",
           "title": {
            "standoff": 15
           },
           "zerolinecolor": "white",
           "zerolinewidth": 2
          },
          "yaxis": {
           "automargin": true,
           "gridcolor": "white",
           "linecolor": "white",
           "ticks": "",
           "title": {
            "standoff": 15
           },
           "zerolinecolor": "white",
           "zerolinewidth": 2
          }
         }
        },
        "title": {
         "text": "R1 Structures: Frequency and Impact on Score Relative to All Factions Average (144.4): baltaks"
        }
       }
      },
      "text/html": [
       "<div>                            <div id=\"adfe2b32-99fe-4c52-9cef-c8572dc2c494\" class=\"plotly-graph-div\" style=\"height:525px; width:100%;\"></div>            <script type=\"text/javascript\">                require([\"plotly\"], function(Plotly) {                    window.PLOTLYENV=window.PLOTLYENV || {};                                    if (document.getElementById(\"adfe2b32-99fe-4c52-9cef-c8572dc2c494\")) {                    Plotly.newPlot(                        \"adfe2b32-99fe-4c52-9cef-c8572dc2c494\",                        [{\"branchvalues\":\"total\",\"customdata\":[[227.78947368421052,146.8421052631579],[257.0,171.0],[159.45454545454547,139.54545454545453],[10.0,105.0],[199.9367088607595,152.69620253164558],[228.47330960854092,152.10320284697508],[170.19607843137254,134.50980392156862],[266.42857142857144,163.0],[175.26315789473685,137.98245614035088],[207.86776859504133,150.7603305785124],[268.4715447154472,151.47154471544715],[220.07365439093485,150.72521246458925],[101.2,105.2],[216.2207792207792,145.1038961038961],[238.33333333333334,135.0],[185.0,156.0],[434.0,154.0],[207.95833333333334,147.33928571428572],[0.6666666666666666,104.0],[153.0,91.0],[100.0,110.0],[232.55172413793105,149.72413793103448],[172.0,135.0],[42.0,140.0],[262.0,130.0],[\"(?)\",151.9630541871921],[\"(?)\",151.91519434628975],[\"(?)\",147.1629353233831],[42.0,140.0],[\"(?)\",113.78571428571429],[\"(?)\",148.73399195023782]],\"domain\":{\"x\":[0.0,1.0],\"y\":[0.0,1.0]},\"hovertemplate\":\"labels=%{label}<br>class_counts=%{value}<br>parent=%{parent}<br>id=%{id}<br>ave_elo_baltaks=%{customdata[0]}<br>ave_score_baltaks=%{color}<extra></extra>\",\"ids\":[\"R1 Structs/lab/ 0-m_0-ts_2-lab_0-pi_0-ac1_0-ac2\",\"R1 Structs/ac1/ 0-m_1-ts_0-lab_0-pi_1-ac1_0-ac2\",\"R1 Structs/lab/ 0-m_1-ts_1-lab_0-pi_0-ac1_0-ac2\",\"R1 Structs/ts/ 0-m_3-ts_0-lab_0-pi_0-ac1_0-ac2\",\"R1 Structs/ac2/ 1-m_0-ts_0-lab_0-pi_0-ac1_1-ac2\",\"R1 Structs/ac1/ 1-m_0-ts_0-lab_0-pi_1-ac1_0-ac2\",\"R1 Structs/lab/ 1-m_0-ts_1-lab_0-pi_0-ac1_0-ac2\",\"R1 Structs/lab/ 1-m_0-ts_2-lab_0-pi_0-ac1_0-ac2\",\"R1 Structs/lab/ 1-m_1-ts_1-lab_0-pi_0-ac1_0-ac2\",\"R1 Structs/ac2/ 2-m_0-ts_0-lab_0-pi_0-ac1_1-ac2\",\"R1 Structs/ac1/ 2-m_0-ts_0-lab_0-pi_1-ac1_0-ac2\",\"R1 Structs/lab/ 2-m_0-ts_1-lab_0-pi_0-ac1_0-ac2\",\"R1 Structs/ts/ 2-m_1-ts_0-lab_0-pi_0-ac1_0-ac2\",\"R1 Structs/lab/ 2-m_1-ts_1-lab_0-pi_0-ac1_0-ac2\",\"R1 Structs/ts/ 2-m_2-ts_0-lab_0-pi_0-ac1_0-ac2\",\"R1 Structs/ac2/ 3-m_0-ts_0-lab_0-pi_0-ac1_1-ac2\",\"R1 Structs/ac1/ 3-m_0-ts_0-lab_0-pi_1-ac1_0-ac2\",\"R1 Structs/lab/ 3-m_0-ts_1-lab_0-pi_0-ac1_0-ac2\",\"R1 Structs/ts/ 3-m_1-ts_0-lab_0-pi_0-ac1_0-ac2\",\"R1 Structs/lab/ 3-m_1-ts_1-lab_0-pi_0-ac1_0-ac2\",\"R1 Structs/ts/ 3-m_2-ts_0-lab_0-pi_0-ac1_0-ac2\",\"R1 Structs/lab/ 4-m_0-ts_1-lab_0-pi_0-ac1_0-ac2\",\"R1 Structs/ts/ 4-m_1-ts_0-lab_0-pi_0-ac1_0-ac2\",\"R1 Structs/m/ 5-m_0-ts_0-lab_0-pi_0-ac1_0-ac2\",\"R1 Structs/lab/ 5-m_0-ts_1-lab_0-pi_0-ac1_0-ac2\",\"R1 Structs/ac1\",\"R1 Structs/ac2\",\"R1 Structs/lab\",\"R1 Structs/m\",\"R1 Structs/ts\",\"R1 Structs\"],\"labels\":[\" 0-m_0-ts_2-lab_0-pi_0-ac1_0-ac2\",\" 0-m_1-ts_0-lab_0-pi_1-ac1_0-ac2\",\" 0-m_1-ts_1-lab_0-pi_0-ac1_0-ac2\",\" 0-m_3-ts_0-lab_0-pi_0-ac1_0-ac2\",\" 1-m_0-ts_0-lab_0-pi_0-ac1_1-ac2\",\" 1-m_0-ts_0-lab_0-pi_1-ac1_0-ac2\",\" 1-m_0-ts_1-lab_0-pi_0-ac1_0-ac2\",\" 1-m_0-ts_2-lab_0-pi_0-ac1_0-ac2\",\" 1-m_1-ts_1-lab_0-pi_0-ac1_0-ac2\",\" 2-m_0-ts_0-lab_0-pi_0-ac1_1-ac2\",\" 2-m_0-ts_0-lab_0-pi_1-ac1_0-ac2\",\" 2-m_0-ts_1-lab_0-pi_0-ac1_0-ac2\",\" 2-m_1-ts_0-lab_0-pi_0-ac1_0-ac2\",\" 2-m_1-ts_1-lab_0-pi_0-ac1_0-ac2\",\" 2-m_2-ts_0-lab_0-pi_0-ac1_0-ac2\",\" 3-m_0-ts_0-lab_0-pi_0-ac1_1-ac2\",\" 3-m_0-ts_0-lab_0-pi_1-ac1_0-ac2\",\" 3-m_0-ts_1-lab_0-pi_0-ac1_0-ac2\",\" 3-m_1-ts_0-lab_0-pi_0-ac1_0-ac2\",\" 3-m_1-ts_1-lab_0-pi_0-ac1_0-ac2\",\" 3-m_2-ts_0-lab_0-pi_0-ac1_0-ac2\",\" 4-m_0-ts_1-lab_0-pi_0-ac1_0-ac2\",\" 4-m_1-ts_0-lab_0-pi_0-ac1_0-ac2\",\" 5-m_0-ts_0-lab_0-pi_0-ac1_0-ac2\",\" 5-m_0-ts_1-lab_0-pi_0-ac1_0-ac2\",\"ac1\",\"ac2\",\"lab\",\"m\",\"ts\",\"R1 Structs\"],\"marker\":{\"coloraxis\":\"coloraxis\",\"colors\":[146.8421052631579,171.0,139.54545454545453,105.0,152.69620253164558,152.10320284697508,134.50980392156862,163.0,137.98245614035088,150.7603305785124,151.47154471544715,150.72521246458925,105.2,145.1038961038961,135.0,156.0,154.0,147.33928571428572,104.0,91.0,110.0,149.72413793103448,135.0,140.0,130.0,151.9630541871921,151.91519434628975,147.1629353233831,140.0,113.78571428571429,148.73399195023782]},\"name\":\"\",\"parents\":[\"R1 Structs/lab\",\"R1 Structs/ac1\",\"R1 Structs/lab\",\"R1 Structs/ts\",\"R1 Structs/ac2\",\"R1 Structs/ac1\",\"R1 Structs/lab\",\"R1 Structs/lab\",\"R1 Structs/lab\",\"R1 Structs/ac2\",\"R1 Structs/ac1\",\"R1 Structs/lab\",\"R1 Structs/ts\",\"R1 Structs/lab\",\"R1 Structs/ts\",\"R1 Structs/ac2\",\"R1 Structs/ac1\",\"R1 Structs/lab\",\"R1 Structs/ts\",\"R1 Structs/lab\",\"R1 Structs/ts\",\"R1 Structs/lab\",\"R1 Structs/ts\",\"R1 Structs/m\",\"R1 Structs/lab\",\"R1 Structs\",\"R1 Structs\",\"R1 Structs\",\"R1 Structs\",\"R1 Structs\",\"\"],\"values\":[38,2,22,2,158,562,102,14,114,121,246,706,10,154,6,4,2,336,6,4,2,116,2,2,2,812,283,1608,2,28,2733],\"type\":\"treemap\"}],                        {\"template\":{\"data\":{\"bar\":[{\"error_x\":{\"color\":\"#2a3f5f\"},\"error_y\":{\"color\":\"#2a3f5f\"},\"marker\":{\"line\":{\"color\":\"#E5ECF6\",\"width\":0.5},\"pattern\":{\"fillmode\":\"overlay\",\"size\":10,\"solidity\":0.2}},\"type\":\"bar\"}],\"barpolar\":[{\"marker\":{\"line\":{\"color\":\"#E5ECF6\",\"width\":0.5},\"pattern\":{\"fillmode\":\"overlay\",\"size\":10,\"solidity\":0.2}},\"type\":\"barpolar\"}],\"carpet\":[{\"aaxis\":{\"endlinecolor\":\"#2a3f5f\",\"gridcolor\":\"white\",\"linecolor\":\"white\",\"minorgridcolor\":\"white\",\"startlinecolor\":\"#2a3f5f\"},\"baxis\":{\"endlinecolor\":\"#2a3f5f\",\"gridcolor\":\"white\",\"linecolor\":\"white\",\"minorgridcolor\":\"white\",\"startlinecolor\":\"#2a3f5f\"},\"type\":\"carpet\"}],\"choropleth\":[{\"colorbar\":{\"outlinewidth\":0,\"ticks\":\"\"},\"type\":\"choropleth\"}],\"contour\":[{\"colorbar\":{\"outlinewidth\":0,\"ticks\":\"\"},\"colorscale\":[[0.0,\"#0d0887\"],[0.1111111111111111,\"#46039f\"],[0.2222222222222222,\"#7201a8\"],[0.3333333333333333,\"#9c179e\"],[0.4444444444444444,\"#bd3786\"],[0.5555555555555556,\"#d8576b\"],[0.6666666666666666,\"#ed7953\"],[0.7777777777777778,\"#fb9f3a\"],[0.8888888888888888,\"#fdca26\"],[1.0,\"#f0f921\"]],\"type\":\"contour\"}],\"contourcarpet\":[{\"colorbar\":{\"outlinewidth\":0,\"ticks\":\"\"},\"type\":\"contourcarpet\"}],\"heatmap\":[{\"colorbar\":{\"outlinewidth\":0,\"ticks\":\"\"},\"colorscale\":[[0.0,\"#0d0887\"],[0.1111111111111111,\"#46039f\"],[0.2222222222222222,\"#7201a8\"],[0.3333333333333333,\"#9c179e\"],[0.4444444444444444,\"#bd3786\"],[0.5555555555555556,\"#d8576b\"],[0.6666666666666666,\"#ed7953\"],[0.7777777777777778,\"#fb9f3a\"],[0.8888888888888888,\"#fdca26\"],[1.0,\"#f0f921\"]],\"type\":\"heatmap\"}],\"heatmapgl\":[{\"colorbar\":{\"outlinewidth\":0,\"ticks\":\"\"},\"colorscale\":[[0.0,\"#0d0887\"],[0.1111111111111111,\"#46039f\"],[0.2222222222222222,\"#7201a8\"],[0.3333333333333333,\"#9c179e\"],[0.4444444444444444,\"#bd3786\"],[0.5555555555555556,\"#d8576b\"],[0.6666666666666666,\"#ed7953\"],[0.7777777777777778,\"#fb9f3a\"],[0.8888888888888888,\"#fdca26\"],[1.0,\"#f0f921\"]],\"type\":\"heatmapgl\"}],\"histogram\":[{\"marker\":{\"pattern\":{\"fillmode\":\"overlay\",\"size\":10,\"solidity\":0.2}},\"type\":\"histogram\"}],\"histogram2d\":[{\"colorbar\":{\"outlinewidth\":0,\"ticks\":\"\"},\"colorscale\":[[0.0,\"#0d0887\"],[0.1111111111111111,\"#46039f\"],[0.2222222222222222,\"#7201a8\"],[0.3333333333333333,\"#9c179e\"],[0.4444444444444444,\"#bd3786\"],[0.5555555555555556,\"#d8576b\"],[0.6666666666666666,\"#ed7953\"],[0.7777777777777778,\"#fb9f3a\"],[0.8888888888888888,\"#fdca26\"],[1.0,\"#f0f921\"]],\"type\":\"histogram2d\"}],\"histogram2dcontour\":[{\"colorbar\":{\"outlinewidth\":0,\"ticks\":\"\"},\"colorscale\":[[0.0,\"#0d0887\"],[0.1111111111111111,\"#46039f\"],[0.2222222222222222,\"#7201a8\"],[0.3333333333333333,\"#9c179e\"],[0.4444444444444444,\"#bd3786\"],[0.5555555555555556,\"#d8576b\"],[0.6666666666666666,\"#ed7953\"],[0.7777777777777778,\"#fb9f3a\"],[0.8888888888888888,\"#fdca26\"],[1.0,\"#f0f921\"]],\"type\":\"histogram2dcontour\"}],\"mesh3d\":[{\"colorbar\":{\"outlinewidth\":0,\"ticks\":\"\"},\"type\":\"mesh3d\"}],\"parcoords\":[{\"line\":{\"colorbar\":{\"outlinewidth\":0,\"ticks\":\"\"}},\"type\":\"parcoords\"}],\"pie\":[{\"automargin\":true,\"type\":\"pie\"}],\"scatter\":[{\"marker\":{\"colorbar\":{\"outlinewidth\":0,\"ticks\":\"\"}},\"type\":\"scatter\"}],\"scatter3d\":[{\"line\":{\"colorbar\":{\"outlinewidth\":0,\"ticks\":\"\"}},\"marker\":{\"colorbar\":{\"outlinewidth\":0,\"ticks\":\"\"}},\"type\":\"scatter3d\"}],\"scattercarpet\":[{\"marker\":{\"colorbar\":{\"outlinewidth\":0,\"ticks\":\"\"}},\"type\":\"scattercarpet\"}],\"scattergeo\":[{\"marker\":{\"colorbar\":{\"outlinewidth\":0,\"ticks\":\"\"}},\"type\":\"scattergeo\"}],\"scattergl\":[{\"marker\":{\"colorbar\":{\"outlinewidth\":0,\"ticks\":\"\"}},\"type\":\"scattergl\"}],\"scattermapbox\":[{\"marker\":{\"colorbar\":{\"outlinewidth\":0,\"ticks\":\"\"}},\"type\":\"scattermapbox\"}],\"scatterpolar\":[{\"marker\":{\"colorbar\":{\"outlinewidth\":0,\"ticks\":\"\"}},\"type\":\"scatterpolar\"}],\"scatterpolargl\":[{\"marker\":{\"colorbar\":{\"outlinewidth\":0,\"ticks\":\"\"}},\"type\":\"scatterpolargl\"}],\"scatterternary\":[{\"marker\":{\"colorbar\":{\"outlinewidth\":0,\"ticks\":\"\"}},\"type\":\"scatterternary\"}],\"surface\":[{\"colorbar\":{\"outlinewidth\":0,\"ticks\":\"\"},\"colorscale\":[[0.0,\"#0d0887\"],[0.1111111111111111,\"#46039f\"],[0.2222222222222222,\"#7201a8\"],[0.3333333333333333,\"#9c179e\"],[0.4444444444444444,\"#bd3786\"],[0.5555555555555556,\"#d8576b\"],[0.6666666666666666,\"#ed7953\"],[0.7777777777777778,\"#fb9f3a\"],[0.8888888888888888,\"#fdca26\"],[1.0,\"#f0f921\"]],\"type\":\"surface\"}],\"table\":[{\"cells\":{\"fill\":{\"color\":\"#EBF0F8\"},\"line\":{\"color\":\"white\"}},\"header\":{\"fill\":{\"color\":\"#C8D4E3\"},\"line\":{\"color\":\"white\"}},\"type\":\"table\"}]},\"layout\":{\"annotationdefaults\":{\"arrowcolor\":\"#2a3f5f\",\"arrowhead\":0,\"arrowwidth\":1},\"autotypenumbers\":\"strict\",\"coloraxis\":{\"colorbar\":{\"outlinewidth\":0,\"ticks\":\"\"}},\"colorscale\":{\"diverging\":[[0,\"#8e0152\"],[0.1,\"#c51b7d\"],[0.2,\"#de77ae\"],[0.3,\"#f1b6da\"],[0.4,\"#fde0ef\"],[0.5,\"#f7f7f7\"],[0.6,\"#e6f5d0\"],[0.7,\"#b8e186\"],[0.8,\"#7fbc41\"],[0.9,\"#4d9221\"],[1,\"#276419\"]],\"sequential\":[[0.0,\"#0d0887\"],[0.1111111111111111,\"#46039f\"],[0.2222222222222222,\"#7201a8\"],[0.3333333333333333,\"#9c179e\"],[0.4444444444444444,\"#bd3786\"],[0.5555555555555556,\"#d8576b\"],[0.6666666666666666,\"#ed7953\"],[0.7777777777777778,\"#fb9f3a\"],[0.8888888888888888,\"#fdca26\"],[1.0,\"#f0f921\"]],\"sequentialminus\":[[0.0,\"#0d0887\"],[0.1111111111111111,\"#46039f\"],[0.2222222222222222,\"#7201a8\"],[0.3333333333333333,\"#9c179e\"],[0.4444444444444444,\"#bd3786\"],[0.5555555555555556,\"#d8576b\"],[0.6666666666666666,\"#ed7953\"],[0.7777777777777778,\"#fb9f3a\"],[0.8888888888888888,\"#fdca26\"],[1.0,\"#f0f921\"]]},\"colorway\":[\"#636efa\",\"#EF553B\",\"#00cc96\",\"#ab63fa\",\"#FFA15A\",\"#19d3f3\",\"#FF6692\",\"#B6E880\",\"#FF97FF\",\"#FECB52\"],\"font\":{\"color\":\"#2a3f5f\"},\"geo\":{\"bgcolor\":\"white\",\"lakecolor\":\"white\",\"landcolor\":\"#E5ECF6\",\"showlakes\":true,\"showland\":true,\"subunitcolor\":\"white\"},\"hoverlabel\":{\"align\":\"left\"},\"hovermode\":\"closest\",\"mapbox\":{\"style\":\"light\"},\"paper_bgcolor\":\"white\",\"plot_bgcolor\":\"#E5ECF6\",\"polar\":{\"angularaxis\":{\"gridcolor\":\"white\",\"linecolor\":\"white\",\"ticks\":\"\"},\"bgcolor\":\"#E5ECF6\",\"radialaxis\":{\"gridcolor\":\"white\",\"linecolor\":\"white\",\"ticks\":\"\"}},\"scene\":{\"xaxis\":{\"backgroundcolor\":\"#E5ECF6\",\"gridcolor\":\"white\",\"gridwidth\":2,\"linecolor\":\"white\",\"showbackground\":true,\"ticks\":\"\",\"zerolinecolor\":\"white\"},\"yaxis\":{\"backgroundcolor\":\"#E5ECF6\",\"gridcolor\":\"white\",\"gridwidth\":2,\"linecolor\":\"white\",\"showbackground\":true,\"ticks\":\"\",\"zerolinecolor\":\"white\"},\"zaxis\":{\"backgroundcolor\":\"#E5ECF6\",\"gridcolor\":\"white\",\"gridwidth\":2,\"linecolor\":\"white\",\"showbackground\":true,\"ticks\":\"\",\"zerolinecolor\":\"white\"}},\"shapedefaults\":{\"line\":{\"color\":\"#2a3f5f\"}},\"ternary\":{\"aaxis\":{\"gridcolor\":\"white\",\"linecolor\":\"white\",\"ticks\":\"\"},\"baxis\":{\"gridcolor\":\"white\",\"linecolor\":\"white\",\"ticks\":\"\"},\"bgcolor\":\"#E5ECF6\",\"caxis\":{\"gridcolor\":\"white\",\"linecolor\":\"white\",\"ticks\":\"\"}},\"title\":{\"x\":0.05},\"xaxis\":{\"automargin\":true,\"gridcolor\":\"white\",\"linecolor\":\"white\",\"ticks\":\"\",\"title\":{\"standoff\":15},\"zerolinecolor\":\"white\",\"zerolinewidth\":2},\"yaxis\":{\"automargin\":true,\"gridcolor\":\"white\",\"linecolor\":\"white\",\"ticks\":\"\",\"title\":{\"standoff\":15},\"zerolinecolor\":\"white\",\"zerolinewidth\":2}}},\"coloraxis\":{\"colorbar\":{\"title\":{\"text\":\"ave_score_baltaks\"}},\"colorscale\":[[0.0,\"rgb(103,0,31)\"],[0.1,\"rgb(178,24,43)\"],[0.2,\"rgb(214,96,77)\"],[0.3,\"rgb(244,165,130)\"],[0.4,\"rgb(253,219,199)\"],[0.5,\"rgb(247,247,247)\"],[0.6,\"rgb(209,229,240)\"],[0.7,\"rgb(146,197,222)\"],[0.8,\"rgb(67,147,195)\"],[0.9,\"rgb(33,102,172)\"],[1.0,\"rgb(5,48,97)\"]],\"cmid\":144.39872372553106},\"legend\":{\"tracegroupgap\":0},\"margin\":{\"t\":50,\"l\":25,\"r\":25,\"b\":25},\"title\":{\"text\":\"R1 Structures: Frequency and Impact on Score Relative to All Factions Average (144.4): baltaks\"}},                        {\"responsive\": true}                    ).then(function(){\n",
       "                            \n",
       "var gd = document.getElementById('adfe2b32-99fe-4c52-9cef-c8572dc2c494');\n",
       "var x = new MutationObserver(function (mutations, observer) {{\n",
       "        var display = window.getComputedStyle(gd).display;\n",
       "        if (!display || display === 'none') {{\n",
       "            console.log([gd, 'removed!']);\n",
       "            Plotly.purge(gd);\n",
       "            observer.disconnect();\n",
       "        }}\n",
       "}});\n",
       "\n",
       "// Listen for the removal of the full notebook cells\n",
       "var notebookContainer = gd.closest('#notebook-container');\n",
       "if (notebookContainer) {{\n",
       "    x.observe(notebookContainer, {childList: true});\n",
       "}}\n",
       "\n",
       "// Listen for the clearing of the current output cell\n",
       "var outputEl = gd.closest('.output');\n",
       "if (outputEl) {{\n",
       "    x.observe(outputEl, {childList: true});\n",
       "}}\n",
       "\n",
       "                        })                };                });            </script>        </div>"
      ]
     },
     "metadata": {},
     "output_type": "display_data"
    },
    {
     "data": {
      "application/vnd.plotly.v1+json": {
       "config": {
        "plotlyServerURL": "https://plot.ly"
       },
       "data": [
        {
         "branchvalues": "total",
         "customdata": [
          [
           183.90361445783134,
           146.81927710843374
          ],
          [
           67.57142857142857,
           127.14285714285714
          ],
          [
           156.29545454545453,
           133.02272727272728
          ],
          [
           178.38888888888889,
           140
          ],
          [
           128,
           141
          ],
          [
           210.2,
           156.8
          ],
          [
           248.48181818181817,
           156.6090909090909
          ],
          [
           158.59259259259258,
           143.00617283950618
          ],
          [
           170.26666666666668,
           133.73333333333332
          ],
          [
           205.14285714285714,
           139.78571428571428
          ],
          [
           218,
           136.16666666666666
          ],
          [
           196.04761904761904,
           148.3968253968254
          ],
          [
           181.125,
           144.953125
          ],
          [
           181.5,
           123
          ],
          [
           318,
           194
          ],
          [
           238.2888888888889,
           161.0888888888889
          ],
          [
           214.48624440179142,
           152.6001279590531
          ],
          [
           189.8318181818182,
           145.46363636363637
          ],
          [
           219.88888888888889,
           155.55555555555554
          ],
          [
           216.52991452991452,
           153.30769230769232
          ],
          [
           122.5,
           107.25
          ],
          [
           186.89830508474577,
           155.5084745762712
          ],
          [
           188.71929824561403,
           147.64912280701753
          ],
          [
           277,
           158
          ],
          [
           0,
           107.25
          ],
          [
           243.2,
           179.6
          ],
          [
           238.66666666666666,
           161.36752136752136
          ],
          [
           75,
           107.33333333333333
          ],
          [
           230,
           173.2
          ],
          [
           "(?)",
           150.1764945099634
          ],
          [
           "(?)",
           157.90967741935484
          ],
          [
           "(?)",
           163
          ],
          [
           "(?)",
           149.06206896551726
          ],
          [
           0,
           107.25
          ],
          [
           "(?)",
           110.77777777777777
          ],
          [
           "(?)",
           150.148931172187
          ]
         ],
         "domain": {
          "x": [
           0,
           1
          ],
          "y": [
           0,
           1
          ]
         },
         "hovertemplate": "labels=%{label}<br>class_counts=%{value}<br>parent=%{parent}<br>id=%{id}<br>ave_elo_terrans=%{customdata[0]}<br>ave_score_terrans=%{color}<extra></extra>",
         "ids": [
          "R1 Structs/PI/ 0-m_0-ts_1-lab_1-pi_0-ac1_0-ac2",
          "R1 Structs/lab/ 0-m_0-ts_2-lab_0-pi_0-ac1_0-ac2",
          "R1 Structs/PI/ 0-m_1-ts_0-lab_1-pi_0-ac1_0-ac2",
          "R1 Structs/lab/ 0-m_1-ts_1-lab_0-pi_0-ac1_0-ac2",
          "R1 Structs/lab/ 0-m_2-ts_1-lab_0-pi_0-ac1_0-ac2",
          "R1 Structs/ac2/ 1-m_0-ts_0-lab_0-pi_0-ac1_1-ac2",
          "R1 Structs/ac1/ 1-m_0-ts_0-lab_0-pi_1-ac1_0-ac2",
          "R1 Structs/PI/ 1-m_0-ts_0-lab_1-pi_0-ac1_0-ac2",
          "R1 Structs/lab/ 1-m_0-ts_1-lab_0-pi_0-ac1_0-ac2",
          "R1 Structs/PI/ 1-m_0-ts_1-lab_1-pi_0-ac1_0-ac2",
          "R1 Structs/lab/ 1-m_0-ts_2-lab_0-pi_0-ac1_0-ac2",
          "R1 Structs/PI/ 1-m_1-ts_0-lab_1-pi_0-ac1_0-ac2",
          "R1 Structs/lab/ 1-m_1-ts_1-lab_0-pi_0-ac1_0-ac2",
          "R1 Structs/ts/ 1-m_2-ts_0-lab_0-pi_0-ac1_0-ac2",
          "R1 Structs/ac2/ 2-m_0-ts_0-lab_0-pi_0-ac1_1-ac2",
          "R1 Structs/ac1/ 2-m_0-ts_0-lab_0-pi_1-ac1_0-ac2",
          "R1 Structs/PI/ 2-m_0-ts_0-lab_1-pi_0-ac1_0-ac2",
          "R1 Structs/lab/ 2-m_0-ts_1-lab_0-pi_0-ac1_0-ac2",
          "R1 Structs/PI/ 2-m_1-ts_0-lab_1-pi_0-ac1_0-ac2",
          "R1 Structs/lab/ 2-m_1-ts_1-lab_0-pi_0-ac1_0-ac2",
          "R1 Structs/ts/ 2-m_2-ts_0-lab_0-pi_0-ac1_0-ac2",
          "R1 Structs/PI/ 3-m_0-ts_0-lab_1-pi_0-ac1_0-ac2",
          "R1 Structs/lab/ 3-m_0-ts_1-lab_0-pi_0-ac1_0-ac2",
          "R1 Structs/lab/ 3-m_1-ts_1-lab_0-pi_0-ac1_0-ac2",
          "R1 Structs/m/ 4-m_0-ts_0-lab_0-pi_0-ac1_0-ac2",
          "R1 Structs/PI/ 4-m_0-ts_0-lab_1-pi_0-ac1_0-ac2",
          "R1 Structs/lab/ 4-m_0-ts_1-lab_0-pi_0-ac1_0-ac2",
          "R1 Structs/ts/ 4-m_1-ts_0-lab_0-pi_0-ac1_0-ac2",
          "R1 Structs/lab/ 5-m_0-ts_1-lab_0-pi_0-ac1_0-ac2",
          "R1 Structs/PI",
          "R1 Structs/ac1",
          "R1 Structs/ac2",
          "R1 Structs/lab",
          "R1 Structs/m",
          "R1 Structs/ts",
          "R1 Structs"
         ],
         "labels": [
          " 0-m_0-ts_1-lab_1-pi_0-ac1_0-ac2",
          " 0-m_0-ts_2-lab_0-pi_0-ac1_0-ac2",
          " 0-m_1-ts_0-lab_1-pi_0-ac1_0-ac2",
          " 0-m_1-ts_1-lab_0-pi_0-ac1_0-ac2",
          " 0-m_2-ts_1-lab_0-pi_0-ac1_0-ac2",
          " 1-m_0-ts_0-lab_0-pi_0-ac1_1-ac2",
          " 1-m_0-ts_0-lab_0-pi_1-ac1_0-ac2",
          " 1-m_0-ts_0-lab_1-pi_0-ac1_0-ac2",
          " 1-m_0-ts_1-lab_0-pi_0-ac1_0-ac2",
          " 1-m_0-ts_1-lab_1-pi_0-ac1_0-ac2",
          " 1-m_0-ts_2-lab_0-pi_0-ac1_0-ac2",
          " 1-m_1-ts_0-lab_1-pi_0-ac1_0-ac2",
          " 1-m_1-ts_1-lab_0-pi_0-ac1_0-ac2",
          " 1-m_2-ts_0-lab_0-pi_0-ac1_0-ac2",
          " 2-m_0-ts_0-lab_0-pi_0-ac1_1-ac2",
          " 2-m_0-ts_0-lab_0-pi_1-ac1_0-ac2",
          " 2-m_0-ts_0-lab_1-pi_0-ac1_0-ac2",
          " 2-m_0-ts_1-lab_0-pi_0-ac1_0-ac2",
          " 2-m_1-ts_0-lab_1-pi_0-ac1_0-ac2",
          " 2-m_1-ts_1-lab_0-pi_0-ac1_0-ac2",
          " 2-m_2-ts_0-lab_0-pi_0-ac1_0-ac2",
          " 3-m_0-ts_0-lab_1-pi_0-ac1_0-ac2",
          " 3-m_0-ts_1-lab_0-pi_0-ac1_0-ac2",
          " 3-m_1-ts_1-lab_0-pi_0-ac1_0-ac2",
          " 4-m_0-ts_0-lab_0-pi_0-ac1_0-ac2",
          " 4-m_0-ts_0-lab_1-pi_0-ac1_0-ac2",
          " 4-m_0-ts_1-lab_0-pi_0-ac1_0-ac2",
          " 4-m_1-ts_0-lab_0-pi_0-ac1_0-ac2",
          " 5-m_0-ts_1-lab_0-pi_0-ac1_0-ac2",
          "PI",
          "ac1",
          "ac2",
          "lab",
          "m",
          "ts",
          "R1 Structs"
         ],
         "marker": {
          "coloraxis": "coloraxis",
          "colors": [
           146.81927710843374,
           127.14285714285714,
           133.02272727272728,
           140,
           141,
           156.8,
           156.6090909090909,
           143.00617283950618,
           133.73333333333332,
           139.78571428571428,
           136.16666666666666,
           148.3968253968254,
           144.953125,
           123,
           194,
           161.0888888888889,
           152.6001279590531,
           145.46363636363637,
           155.55555555555554,
           153.30769230769232,
           107.25,
           155.5084745762712,
           147.64912280701753,
           158,
           107.25,
           179.6,
           161.36752136752136,
           107.33333333333333,
           173.2,
           150.1764945099634,
           157.90967741935484,
           163,
           149.06206896551726,
           107.25,
           110.77777777777777,
           150.148931172187
          ]
         },
         "name": "",
         "parents": [
          "R1 Structs/PI",
          "R1 Structs/lab",
          "R1 Structs/PI",
          "R1 Structs/lab",
          "R1 Structs/lab",
          "R1 Structs/ac2",
          "R1 Structs/ac1",
          "R1 Structs/PI",
          "R1 Structs/lab",
          "R1 Structs/PI",
          "R1 Structs/lab",
          "R1 Structs/PI",
          "R1 Structs/lab",
          "R1 Structs/ts",
          "R1 Structs/ac2",
          "R1 Structs/ac1",
          "R1 Structs/PI",
          "R1 Structs/lab",
          "R1 Structs/PI",
          "R1 Structs/lab",
          "R1 Structs/ts",
          "R1 Structs/PI",
          "R1 Structs/lab",
          "R1 Structs/lab",
          "R1 Structs/m",
          "R1 Structs/PI",
          "R1 Structs/lab",
          "R1 Structs/ts",
          "R1 Structs/lab",
          "R1 Structs",
          "R1 Structs",
          "R1 Structs",
          "R1 Structs",
          "R1 Structs",
          "R1 Structs",
          ""
         ],
         "type": "treemap",
         "values": [
          166,
          14,
          88,
          36,
          2,
          10,
          220,
          324,
          90,
          28,
          12,
          126,
          128,
          4,
          2,
          90,
          1563,
          440,
          36,
          234,
          8,
          118,
          228,
          2,
          8,
          10,
          234,
          6,
          30,
          2459,
          310,
          12,
          1450,
          8,
          18,
          4257
         ]
        }
       ],
       "layout": {
        "coloraxis": {
         "cmid": 144.39872372553106,
         "colorbar": {
          "title": {
           "text": "ave_score_terrans"
          }
         },
         "colorscale": [
          [
           0,
           "rgb(103,0,31)"
          ],
          [
           0.1,
           "rgb(178,24,43)"
          ],
          [
           0.2,
           "rgb(214,96,77)"
          ],
          [
           0.3,
           "rgb(244,165,130)"
          ],
          [
           0.4,
           "rgb(253,219,199)"
          ],
          [
           0.5,
           "rgb(247,247,247)"
          ],
          [
           0.6,
           "rgb(209,229,240)"
          ],
          [
           0.7,
           "rgb(146,197,222)"
          ],
          [
           0.8,
           "rgb(67,147,195)"
          ],
          [
           0.9,
           "rgb(33,102,172)"
          ],
          [
           1,
           "rgb(5,48,97)"
          ]
         ]
        },
        "legend": {
         "tracegroupgap": 0
        },
        "margin": {
         "b": 25,
         "l": 25,
         "r": 25,
         "t": 50
        },
        "template": {
         "data": {
          "bar": [
           {
            "error_x": {
             "color": "#2a3f5f"
            },
            "error_y": {
             "color": "#2a3f5f"
            },
            "marker": {
             "line": {
              "color": "#E5ECF6",
              "width": 0.5
             },
             "pattern": {
              "fillmode": "overlay",
              "size": 10,
              "solidity": 0.2
             }
            },
            "type": "bar"
           }
          ],
          "barpolar": [
           {
            "marker": {
             "line": {
              "color": "#E5ECF6",
              "width": 0.5
             },
             "pattern": {
              "fillmode": "overlay",
              "size": 10,
              "solidity": 0.2
             }
            },
            "type": "barpolar"
           }
          ],
          "carpet": [
           {
            "aaxis": {
             "endlinecolor": "#2a3f5f",
             "gridcolor": "white",
             "linecolor": "white",
             "minorgridcolor": "white",
             "startlinecolor": "#2a3f5f"
            },
            "baxis": {
             "endlinecolor": "#2a3f5f",
             "gridcolor": "white",
             "linecolor": "white",
             "minorgridcolor": "white",
             "startlinecolor": "#2a3f5f"
            },
            "type": "carpet"
           }
          ],
          "choropleth": [
           {
            "colorbar": {
             "outlinewidth": 0,
             "ticks": ""
            },
            "type": "choropleth"
           }
          ],
          "contour": [
           {
            "colorbar": {
             "outlinewidth": 0,
             "ticks": ""
            },
            "colorscale": [
             [
              0,
              "#0d0887"
             ],
             [
              0.1111111111111111,
              "#46039f"
             ],
             [
              0.2222222222222222,
              "#7201a8"
             ],
             [
              0.3333333333333333,
              "#9c179e"
             ],
             [
              0.4444444444444444,
              "#bd3786"
             ],
             [
              0.5555555555555556,
              "#d8576b"
             ],
             [
              0.6666666666666666,
              "#ed7953"
             ],
             [
              0.7777777777777778,
              "#fb9f3a"
             ],
             [
              0.8888888888888888,
              "#fdca26"
             ],
             [
              1,
              "#f0f921"
             ]
            ],
            "type": "contour"
           }
          ],
          "contourcarpet": [
           {
            "colorbar": {
             "outlinewidth": 0,
             "ticks": ""
            },
            "type": "contourcarpet"
           }
          ],
          "heatmap": [
           {
            "colorbar": {
             "outlinewidth": 0,
             "ticks": ""
            },
            "colorscale": [
             [
              0,
              "#0d0887"
             ],
             [
              0.1111111111111111,
              "#46039f"
             ],
             [
              0.2222222222222222,
              "#7201a8"
             ],
             [
              0.3333333333333333,
              "#9c179e"
             ],
             [
              0.4444444444444444,
              "#bd3786"
             ],
             [
              0.5555555555555556,
              "#d8576b"
             ],
             [
              0.6666666666666666,
              "#ed7953"
             ],
             [
              0.7777777777777778,
              "#fb9f3a"
             ],
             [
              0.8888888888888888,
              "#fdca26"
             ],
             [
              1,
              "#f0f921"
             ]
            ],
            "type": "heatmap"
           }
          ],
          "heatmapgl": [
           {
            "colorbar": {
             "outlinewidth": 0,
             "ticks": ""
            },
            "colorscale": [
             [
              0,
              "#0d0887"
             ],
             [
              0.1111111111111111,
              "#46039f"
             ],
             [
              0.2222222222222222,
              "#7201a8"
             ],
             [
              0.3333333333333333,
              "#9c179e"
             ],
             [
              0.4444444444444444,
              "#bd3786"
             ],
             [
              0.5555555555555556,
              "#d8576b"
             ],
             [
              0.6666666666666666,
              "#ed7953"
             ],
             [
              0.7777777777777778,
              "#fb9f3a"
             ],
             [
              0.8888888888888888,
              "#fdca26"
             ],
             [
              1,
              "#f0f921"
             ]
            ],
            "type": "heatmapgl"
           }
          ],
          "histogram": [
           {
            "marker": {
             "pattern": {
              "fillmode": "overlay",
              "size": 10,
              "solidity": 0.2
             }
            },
            "type": "histogram"
           }
          ],
          "histogram2d": [
           {
            "colorbar": {
             "outlinewidth": 0,
             "ticks": ""
            },
            "colorscale": [
             [
              0,
              "#0d0887"
             ],
             [
              0.1111111111111111,
              "#46039f"
             ],
             [
              0.2222222222222222,
              "#7201a8"
             ],
             [
              0.3333333333333333,
              "#9c179e"
             ],
             [
              0.4444444444444444,
              "#bd3786"
             ],
             [
              0.5555555555555556,
              "#d8576b"
             ],
             [
              0.6666666666666666,
              "#ed7953"
             ],
             [
              0.7777777777777778,
              "#fb9f3a"
             ],
             [
              0.8888888888888888,
              "#fdca26"
             ],
             [
              1,
              "#f0f921"
             ]
            ],
            "type": "histogram2d"
           }
          ],
          "histogram2dcontour": [
           {
            "colorbar": {
             "outlinewidth": 0,
             "ticks": ""
            },
            "colorscale": [
             [
              0,
              "#0d0887"
             ],
             [
              0.1111111111111111,
              "#46039f"
             ],
             [
              0.2222222222222222,
              "#7201a8"
             ],
             [
              0.3333333333333333,
              "#9c179e"
             ],
             [
              0.4444444444444444,
              "#bd3786"
             ],
             [
              0.5555555555555556,
              "#d8576b"
             ],
             [
              0.6666666666666666,
              "#ed7953"
             ],
             [
              0.7777777777777778,
              "#fb9f3a"
             ],
             [
              0.8888888888888888,
              "#fdca26"
             ],
             [
              1,
              "#f0f921"
             ]
            ],
            "type": "histogram2dcontour"
           }
          ],
          "mesh3d": [
           {
            "colorbar": {
             "outlinewidth": 0,
             "ticks": ""
            },
            "type": "mesh3d"
           }
          ],
          "parcoords": [
           {
            "line": {
             "colorbar": {
              "outlinewidth": 0,
              "ticks": ""
             }
            },
            "type": "parcoords"
           }
          ],
          "pie": [
           {
            "automargin": true,
            "type": "pie"
           }
          ],
          "scatter": [
           {
            "marker": {
             "colorbar": {
              "outlinewidth": 0,
              "ticks": ""
             }
            },
            "type": "scatter"
           }
          ],
          "scatter3d": [
           {
            "line": {
             "colorbar": {
              "outlinewidth": 0,
              "ticks": ""
             }
            },
            "marker": {
             "colorbar": {
              "outlinewidth": 0,
              "ticks": ""
             }
            },
            "type": "scatter3d"
           }
          ],
          "scattercarpet": [
           {
            "marker": {
             "colorbar": {
              "outlinewidth": 0,
              "ticks": ""
             }
            },
            "type": "scattercarpet"
           }
          ],
          "scattergeo": [
           {
            "marker": {
             "colorbar": {
              "outlinewidth": 0,
              "ticks": ""
             }
            },
            "type": "scattergeo"
           }
          ],
          "scattergl": [
           {
            "marker": {
             "colorbar": {
              "outlinewidth": 0,
              "ticks": ""
             }
            },
            "type": "scattergl"
           }
          ],
          "scattermapbox": [
           {
            "marker": {
             "colorbar": {
              "outlinewidth": 0,
              "ticks": ""
             }
            },
            "type": "scattermapbox"
           }
          ],
          "scatterpolar": [
           {
            "marker": {
             "colorbar": {
              "outlinewidth": 0,
              "ticks": ""
             }
            },
            "type": "scatterpolar"
           }
          ],
          "scatterpolargl": [
           {
            "marker": {
             "colorbar": {
              "outlinewidth": 0,
              "ticks": ""
             }
            },
            "type": "scatterpolargl"
           }
          ],
          "scatterternary": [
           {
            "marker": {
             "colorbar": {
              "outlinewidth": 0,
              "ticks": ""
             }
            },
            "type": "scatterternary"
           }
          ],
          "surface": [
           {
            "colorbar": {
             "outlinewidth": 0,
             "ticks": ""
            },
            "colorscale": [
             [
              0,
              "#0d0887"
             ],
             [
              0.1111111111111111,
              "#46039f"
             ],
             [
              0.2222222222222222,
              "#7201a8"
             ],
             [
              0.3333333333333333,
              "#9c179e"
             ],
             [
              0.4444444444444444,
              "#bd3786"
             ],
             [
              0.5555555555555556,
              "#d8576b"
             ],
             [
              0.6666666666666666,
              "#ed7953"
             ],
             [
              0.7777777777777778,
              "#fb9f3a"
             ],
             [
              0.8888888888888888,
              "#fdca26"
             ],
             [
              1,
              "#f0f921"
             ]
            ],
            "type": "surface"
           }
          ],
          "table": [
           {
            "cells": {
             "fill": {
              "color": "#EBF0F8"
             },
             "line": {
              "color": "white"
             }
            },
            "header": {
             "fill": {
              "color": "#C8D4E3"
             },
             "line": {
              "color": "white"
             }
            },
            "type": "table"
           }
          ]
         },
         "layout": {
          "annotationdefaults": {
           "arrowcolor": "#2a3f5f",
           "arrowhead": 0,
           "arrowwidth": 1
          },
          "autotypenumbers": "strict",
          "coloraxis": {
           "colorbar": {
            "outlinewidth": 0,
            "ticks": ""
           }
          },
          "colorscale": {
           "diverging": [
            [
             0,
             "#8e0152"
            ],
            [
             0.1,
             "#c51b7d"
            ],
            [
             0.2,
             "#de77ae"
            ],
            [
             0.3,
             "#f1b6da"
            ],
            [
             0.4,
             "#fde0ef"
            ],
            [
             0.5,
             "#f7f7f7"
            ],
            [
             0.6,
             "#e6f5d0"
            ],
            [
             0.7,
             "#b8e186"
            ],
            [
             0.8,
             "#7fbc41"
            ],
            [
             0.9,
             "#4d9221"
            ],
            [
             1,
             "#276419"
            ]
           ],
           "sequential": [
            [
             0,
             "#0d0887"
            ],
            [
             0.1111111111111111,
             "#46039f"
            ],
            [
             0.2222222222222222,
             "#7201a8"
            ],
            [
             0.3333333333333333,
             "#9c179e"
            ],
            [
             0.4444444444444444,
             "#bd3786"
            ],
            [
             0.5555555555555556,
             "#d8576b"
            ],
            [
             0.6666666666666666,
             "#ed7953"
            ],
            [
             0.7777777777777778,
             "#fb9f3a"
            ],
            [
             0.8888888888888888,
             "#fdca26"
            ],
            [
             1,
             "#f0f921"
            ]
           ],
           "sequentialminus": [
            [
             0,
             "#0d0887"
            ],
            [
             0.1111111111111111,
             "#46039f"
            ],
            [
             0.2222222222222222,
             "#7201a8"
            ],
            [
             0.3333333333333333,
             "#9c179e"
            ],
            [
             0.4444444444444444,
             "#bd3786"
            ],
            [
             0.5555555555555556,
             "#d8576b"
            ],
            [
             0.6666666666666666,
             "#ed7953"
            ],
            [
             0.7777777777777778,
             "#fb9f3a"
            ],
            [
             0.8888888888888888,
             "#fdca26"
            ],
            [
             1,
             "#f0f921"
            ]
           ]
          },
          "colorway": [
           "#636efa",
           "#EF553B",
           "#00cc96",
           "#ab63fa",
           "#FFA15A",
           "#19d3f3",
           "#FF6692",
           "#B6E880",
           "#FF97FF",
           "#FECB52"
          ],
          "font": {
           "color": "#2a3f5f"
          },
          "geo": {
           "bgcolor": "white",
           "lakecolor": "white",
           "landcolor": "#E5ECF6",
           "showlakes": true,
           "showland": true,
           "subunitcolor": "white"
          },
          "hoverlabel": {
           "align": "left"
          },
          "hovermode": "closest",
          "mapbox": {
           "style": "light"
          },
          "paper_bgcolor": "white",
          "plot_bgcolor": "#E5ECF6",
          "polar": {
           "angularaxis": {
            "gridcolor": "white",
            "linecolor": "white",
            "ticks": ""
           },
           "bgcolor": "#E5ECF6",
           "radialaxis": {
            "gridcolor": "white",
            "linecolor": "white",
            "ticks": ""
           }
          },
          "scene": {
           "xaxis": {
            "backgroundcolor": "#E5ECF6",
            "gridcolor": "white",
            "gridwidth": 2,
            "linecolor": "white",
            "showbackground": true,
            "ticks": "",
            "zerolinecolor": "white"
           },
           "yaxis": {
            "backgroundcolor": "#E5ECF6",
            "gridcolor": "white",
            "gridwidth": 2,
            "linecolor": "white",
            "showbackground": true,
            "ticks": "",
            "zerolinecolor": "white"
           },
           "zaxis": {
            "backgroundcolor": "#E5ECF6",
            "gridcolor": "white",
            "gridwidth": 2,
            "linecolor": "white",
            "showbackground": true,
            "ticks": "",
            "zerolinecolor": "white"
           }
          },
          "shapedefaults": {
           "line": {
            "color": "#2a3f5f"
           }
          },
          "ternary": {
           "aaxis": {
            "gridcolor": "white",
            "linecolor": "white",
            "ticks": ""
           },
           "baxis": {
            "gridcolor": "white",
            "linecolor": "white",
            "ticks": ""
           },
           "bgcolor": "#E5ECF6",
           "caxis": {
            "gridcolor": "white",
            "linecolor": "white",
            "ticks": ""
           }
          },
          "title": {
           "x": 0.05
          },
          "xaxis": {
           "automargin": true,
           "gridcolor": "white",
           "linecolor": "white",
           "ticks": "",
           "title": {
            "standoff": 15
           },
           "zerolinecolor": "white",
           "zerolinewidth": 2
          },
          "yaxis": {
           "automargin": true,
           "gridcolor": "white",
           "linecolor": "white",
           "ticks": "",
           "title": {
            "standoff": 15
           },
           "zerolinecolor": "white",
           "zerolinewidth": 2
          }
         }
        },
        "title": {
         "text": "R1 Structures: Frequency and Impact on Score Relative to All Factions Average (144.4): terrans"
        }
       }
      },
      "text/html": [
       "<div>                            <div id=\"b536620d-01ae-4d44-9f7a-672deeb340e3\" class=\"plotly-graph-div\" style=\"height:525px; width:100%;\"></div>            <script type=\"text/javascript\">                require([\"plotly\"], function(Plotly) {                    window.PLOTLYENV=window.PLOTLYENV || {};                                    if (document.getElementById(\"b536620d-01ae-4d44-9f7a-672deeb340e3\")) {                    Plotly.newPlot(                        \"b536620d-01ae-4d44-9f7a-672deeb340e3\",                        [{\"branchvalues\":\"total\",\"customdata\":[[183.90361445783134,146.81927710843374],[67.57142857142857,127.14285714285714],[156.29545454545453,133.02272727272728],[178.38888888888889,140.0],[128.0,141.0],[210.2,156.8],[248.48181818181817,156.6090909090909],[158.59259259259258,143.00617283950618],[170.26666666666668,133.73333333333332],[205.14285714285714,139.78571428571428],[218.0,136.16666666666666],[196.04761904761904,148.3968253968254],[181.125,144.953125],[181.5,123.0],[318.0,194.0],[238.2888888888889,161.0888888888889],[214.48624440179142,152.6001279590531],[189.8318181818182,145.46363636363637],[219.88888888888889,155.55555555555554],[216.52991452991452,153.30769230769232],[122.5,107.25],[186.89830508474577,155.5084745762712],[188.71929824561403,147.64912280701753],[277.0,158.0],[0.0,107.25],[243.2,179.6],[238.66666666666666,161.36752136752136],[75.0,107.33333333333333],[230.0,173.2],[\"(?)\",150.1764945099634],[\"(?)\",157.90967741935484],[\"(?)\",163.0],[\"(?)\",149.06206896551726],[0.0,107.25],[\"(?)\",110.77777777777777],[\"(?)\",150.148931172187]],\"domain\":{\"x\":[0.0,1.0],\"y\":[0.0,1.0]},\"hovertemplate\":\"labels=%{label}<br>class_counts=%{value}<br>parent=%{parent}<br>id=%{id}<br>ave_elo_terrans=%{customdata[0]}<br>ave_score_terrans=%{color}<extra></extra>\",\"ids\":[\"R1 Structs/PI/ 0-m_0-ts_1-lab_1-pi_0-ac1_0-ac2\",\"R1 Structs/lab/ 0-m_0-ts_2-lab_0-pi_0-ac1_0-ac2\",\"R1 Structs/PI/ 0-m_1-ts_0-lab_1-pi_0-ac1_0-ac2\",\"R1 Structs/lab/ 0-m_1-ts_1-lab_0-pi_0-ac1_0-ac2\",\"R1 Structs/lab/ 0-m_2-ts_1-lab_0-pi_0-ac1_0-ac2\",\"R1 Structs/ac2/ 1-m_0-ts_0-lab_0-pi_0-ac1_1-ac2\",\"R1 Structs/ac1/ 1-m_0-ts_0-lab_0-pi_1-ac1_0-ac2\",\"R1 Structs/PI/ 1-m_0-ts_0-lab_1-pi_0-ac1_0-ac2\",\"R1 Structs/lab/ 1-m_0-ts_1-lab_0-pi_0-ac1_0-ac2\",\"R1 Structs/PI/ 1-m_0-ts_1-lab_1-pi_0-ac1_0-ac2\",\"R1 Structs/lab/ 1-m_0-ts_2-lab_0-pi_0-ac1_0-ac2\",\"R1 Structs/PI/ 1-m_1-ts_0-lab_1-pi_0-ac1_0-ac2\",\"R1 Structs/lab/ 1-m_1-ts_1-lab_0-pi_0-ac1_0-ac2\",\"R1 Structs/ts/ 1-m_2-ts_0-lab_0-pi_0-ac1_0-ac2\",\"R1 Structs/ac2/ 2-m_0-ts_0-lab_0-pi_0-ac1_1-ac2\",\"R1 Structs/ac1/ 2-m_0-ts_0-lab_0-pi_1-ac1_0-ac2\",\"R1 Structs/PI/ 2-m_0-ts_0-lab_1-pi_0-ac1_0-ac2\",\"R1 Structs/lab/ 2-m_0-ts_1-lab_0-pi_0-ac1_0-ac2\",\"R1 Structs/PI/ 2-m_1-ts_0-lab_1-pi_0-ac1_0-ac2\",\"R1 Structs/lab/ 2-m_1-ts_1-lab_0-pi_0-ac1_0-ac2\",\"R1 Structs/ts/ 2-m_2-ts_0-lab_0-pi_0-ac1_0-ac2\",\"R1 Structs/PI/ 3-m_0-ts_0-lab_1-pi_0-ac1_0-ac2\",\"R1 Structs/lab/ 3-m_0-ts_1-lab_0-pi_0-ac1_0-ac2\",\"R1 Structs/lab/ 3-m_1-ts_1-lab_0-pi_0-ac1_0-ac2\",\"R1 Structs/m/ 4-m_0-ts_0-lab_0-pi_0-ac1_0-ac2\",\"R1 Structs/PI/ 4-m_0-ts_0-lab_1-pi_0-ac1_0-ac2\",\"R1 Structs/lab/ 4-m_0-ts_1-lab_0-pi_0-ac1_0-ac2\",\"R1 Structs/ts/ 4-m_1-ts_0-lab_0-pi_0-ac1_0-ac2\",\"R1 Structs/lab/ 5-m_0-ts_1-lab_0-pi_0-ac1_0-ac2\",\"R1 Structs/PI\",\"R1 Structs/ac1\",\"R1 Structs/ac2\",\"R1 Structs/lab\",\"R1 Structs/m\",\"R1 Structs/ts\",\"R1 Structs\"],\"labels\":[\" 0-m_0-ts_1-lab_1-pi_0-ac1_0-ac2\",\" 0-m_0-ts_2-lab_0-pi_0-ac1_0-ac2\",\" 0-m_1-ts_0-lab_1-pi_0-ac1_0-ac2\",\" 0-m_1-ts_1-lab_0-pi_0-ac1_0-ac2\",\" 0-m_2-ts_1-lab_0-pi_0-ac1_0-ac2\",\" 1-m_0-ts_0-lab_0-pi_0-ac1_1-ac2\",\" 1-m_0-ts_0-lab_0-pi_1-ac1_0-ac2\",\" 1-m_0-ts_0-lab_1-pi_0-ac1_0-ac2\",\" 1-m_0-ts_1-lab_0-pi_0-ac1_0-ac2\",\" 1-m_0-ts_1-lab_1-pi_0-ac1_0-ac2\",\" 1-m_0-ts_2-lab_0-pi_0-ac1_0-ac2\",\" 1-m_1-ts_0-lab_1-pi_0-ac1_0-ac2\",\" 1-m_1-ts_1-lab_0-pi_0-ac1_0-ac2\",\" 1-m_2-ts_0-lab_0-pi_0-ac1_0-ac2\",\" 2-m_0-ts_0-lab_0-pi_0-ac1_1-ac2\",\" 2-m_0-ts_0-lab_0-pi_1-ac1_0-ac2\",\" 2-m_0-ts_0-lab_1-pi_0-ac1_0-ac2\",\" 2-m_0-ts_1-lab_0-pi_0-ac1_0-ac2\",\" 2-m_1-ts_0-lab_1-pi_0-ac1_0-ac2\",\" 2-m_1-ts_1-lab_0-pi_0-ac1_0-ac2\",\" 2-m_2-ts_0-lab_0-pi_0-ac1_0-ac2\",\" 3-m_0-ts_0-lab_1-pi_0-ac1_0-ac2\",\" 3-m_0-ts_1-lab_0-pi_0-ac1_0-ac2\",\" 3-m_1-ts_1-lab_0-pi_0-ac1_0-ac2\",\" 4-m_0-ts_0-lab_0-pi_0-ac1_0-ac2\",\" 4-m_0-ts_0-lab_1-pi_0-ac1_0-ac2\",\" 4-m_0-ts_1-lab_0-pi_0-ac1_0-ac2\",\" 4-m_1-ts_0-lab_0-pi_0-ac1_0-ac2\",\" 5-m_0-ts_1-lab_0-pi_0-ac1_0-ac2\",\"PI\",\"ac1\",\"ac2\",\"lab\",\"m\",\"ts\",\"R1 Structs\"],\"marker\":{\"coloraxis\":\"coloraxis\",\"colors\":[146.81927710843374,127.14285714285714,133.02272727272728,140.0,141.0,156.8,156.6090909090909,143.00617283950618,133.73333333333332,139.78571428571428,136.16666666666666,148.3968253968254,144.953125,123.0,194.0,161.0888888888889,152.6001279590531,145.46363636363637,155.55555555555554,153.30769230769232,107.25,155.5084745762712,147.64912280701753,158.0,107.25,179.6,161.36752136752136,107.33333333333333,173.2,150.1764945099634,157.90967741935484,163.0,149.06206896551726,107.25,110.77777777777777,150.148931172187]},\"name\":\"\",\"parents\":[\"R1 Structs/PI\",\"R1 Structs/lab\",\"R1 Structs/PI\",\"R1 Structs/lab\",\"R1 Structs/lab\",\"R1 Structs/ac2\",\"R1 Structs/ac1\",\"R1 Structs/PI\",\"R1 Structs/lab\",\"R1 Structs/PI\",\"R1 Structs/lab\",\"R1 Structs/PI\",\"R1 Structs/lab\",\"R1 Structs/ts\",\"R1 Structs/ac2\",\"R1 Structs/ac1\",\"R1 Structs/PI\",\"R1 Structs/lab\",\"R1 Structs/PI\",\"R1 Structs/lab\",\"R1 Structs/ts\",\"R1 Structs/PI\",\"R1 Structs/lab\",\"R1 Structs/lab\",\"R1 Structs/m\",\"R1 Structs/PI\",\"R1 Structs/lab\",\"R1 Structs/ts\",\"R1 Structs/lab\",\"R1 Structs\",\"R1 Structs\",\"R1 Structs\",\"R1 Structs\",\"R1 Structs\",\"R1 Structs\",\"\"],\"values\":[166,14,88,36,2,10,220,324,90,28,12,126,128,4,2,90,1563,440,36,234,8,118,228,2,8,10,234,6,30,2459,310,12,1450,8,18,4257],\"type\":\"treemap\"}],                        {\"template\":{\"data\":{\"bar\":[{\"error_x\":{\"color\":\"#2a3f5f\"},\"error_y\":{\"color\":\"#2a3f5f\"},\"marker\":{\"line\":{\"color\":\"#E5ECF6\",\"width\":0.5},\"pattern\":{\"fillmode\":\"overlay\",\"size\":10,\"solidity\":0.2}},\"type\":\"bar\"}],\"barpolar\":[{\"marker\":{\"line\":{\"color\":\"#E5ECF6\",\"width\":0.5},\"pattern\":{\"fillmode\":\"overlay\",\"size\":10,\"solidity\":0.2}},\"type\":\"barpolar\"}],\"carpet\":[{\"aaxis\":{\"endlinecolor\":\"#2a3f5f\",\"gridcolor\":\"white\",\"linecolor\":\"white\",\"minorgridcolor\":\"white\",\"startlinecolor\":\"#2a3f5f\"},\"baxis\":{\"endlinecolor\":\"#2a3f5f\",\"gridcolor\":\"white\",\"linecolor\":\"white\",\"minorgridcolor\":\"white\",\"startlinecolor\":\"#2a3f5f\"},\"type\":\"carpet\"}],\"choropleth\":[{\"colorbar\":{\"outlinewidth\":0,\"ticks\":\"\"},\"type\":\"choropleth\"}],\"contour\":[{\"colorbar\":{\"outlinewidth\":0,\"ticks\":\"\"},\"colorscale\":[[0.0,\"#0d0887\"],[0.1111111111111111,\"#46039f\"],[0.2222222222222222,\"#7201a8\"],[0.3333333333333333,\"#9c179e\"],[0.4444444444444444,\"#bd3786\"],[0.5555555555555556,\"#d8576b\"],[0.6666666666666666,\"#ed7953\"],[0.7777777777777778,\"#fb9f3a\"],[0.8888888888888888,\"#fdca26\"],[1.0,\"#f0f921\"]],\"type\":\"contour\"}],\"contourcarpet\":[{\"colorbar\":{\"outlinewidth\":0,\"ticks\":\"\"},\"type\":\"contourcarpet\"}],\"heatmap\":[{\"colorbar\":{\"outlinewidth\":0,\"ticks\":\"\"},\"colorscale\":[[0.0,\"#0d0887\"],[0.1111111111111111,\"#46039f\"],[0.2222222222222222,\"#7201a8\"],[0.3333333333333333,\"#9c179e\"],[0.4444444444444444,\"#bd3786\"],[0.5555555555555556,\"#d8576b\"],[0.6666666666666666,\"#ed7953\"],[0.7777777777777778,\"#fb9f3a\"],[0.8888888888888888,\"#fdca26\"],[1.0,\"#f0f921\"]],\"type\":\"heatmap\"}],\"heatmapgl\":[{\"colorbar\":{\"outlinewidth\":0,\"ticks\":\"\"},\"colorscale\":[[0.0,\"#0d0887\"],[0.1111111111111111,\"#46039f\"],[0.2222222222222222,\"#7201a8\"],[0.3333333333333333,\"#9c179e\"],[0.4444444444444444,\"#bd3786\"],[0.5555555555555556,\"#d8576b\"],[0.6666666666666666,\"#ed7953\"],[0.7777777777777778,\"#fb9f3a\"],[0.8888888888888888,\"#fdca26\"],[1.0,\"#f0f921\"]],\"type\":\"heatmapgl\"}],\"histogram\":[{\"marker\":{\"pattern\":{\"fillmode\":\"overlay\",\"size\":10,\"solidity\":0.2}},\"type\":\"histogram\"}],\"histogram2d\":[{\"colorbar\":{\"outlinewidth\":0,\"ticks\":\"\"},\"colorscale\":[[0.0,\"#0d0887\"],[0.1111111111111111,\"#46039f\"],[0.2222222222222222,\"#7201a8\"],[0.3333333333333333,\"#9c179e\"],[0.4444444444444444,\"#bd3786\"],[0.5555555555555556,\"#d8576b\"],[0.6666666666666666,\"#ed7953\"],[0.7777777777777778,\"#fb9f3a\"],[0.8888888888888888,\"#fdca26\"],[1.0,\"#f0f921\"]],\"type\":\"histogram2d\"}],\"histogram2dcontour\":[{\"colorbar\":{\"outlinewidth\":0,\"ticks\":\"\"},\"colorscale\":[[0.0,\"#0d0887\"],[0.1111111111111111,\"#46039f\"],[0.2222222222222222,\"#7201a8\"],[0.3333333333333333,\"#9c179e\"],[0.4444444444444444,\"#bd3786\"],[0.5555555555555556,\"#d8576b\"],[0.6666666666666666,\"#ed7953\"],[0.7777777777777778,\"#fb9f3a\"],[0.8888888888888888,\"#fdca26\"],[1.0,\"#f0f921\"]],\"type\":\"histogram2dcontour\"}],\"mesh3d\":[{\"colorbar\":{\"outlinewidth\":0,\"ticks\":\"\"},\"type\":\"mesh3d\"}],\"parcoords\":[{\"line\":{\"colorbar\":{\"outlinewidth\":0,\"ticks\":\"\"}},\"type\":\"parcoords\"}],\"pie\":[{\"automargin\":true,\"type\":\"pie\"}],\"scatter\":[{\"marker\":{\"colorbar\":{\"outlinewidth\":0,\"ticks\":\"\"}},\"type\":\"scatter\"}],\"scatter3d\":[{\"line\":{\"colorbar\":{\"outlinewidth\":0,\"ticks\":\"\"}},\"marker\":{\"colorbar\":{\"outlinewidth\":0,\"ticks\":\"\"}},\"type\":\"scatter3d\"}],\"scattercarpet\":[{\"marker\":{\"colorbar\":{\"outlinewidth\":0,\"ticks\":\"\"}},\"type\":\"scattercarpet\"}],\"scattergeo\":[{\"marker\":{\"colorbar\":{\"outlinewidth\":0,\"ticks\":\"\"}},\"type\":\"scattergeo\"}],\"scattergl\":[{\"marker\":{\"colorbar\":{\"outlinewidth\":0,\"ticks\":\"\"}},\"type\":\"scattergl\"}],\"scattermapbox\":[{\"marker\":{\"colorbar\":{\"outlinewidth\":0,\"ticks\":\"\"}},\"type\":\"scattermapbox\"}],\"scatterpolar\":[{\"marker\":{\"colorbar\":{\"outlinewidth\":0,\"ticks\":\"\"}},\"type\":\"scatterpolar\"}],\"scatterpolargl\":[{\"marker\":{\"colorbar\":{\"outlinewidth\":0,\"ticks\":\"\"}},\"type\":\"scatterpolargl\"}],\"scatterternary\":[{\"marker\":{\"colorbar\":{\"outlinewidth\":0,\"ticks\":\"\"}},\"type\":\"scatterternary\"}],\"surface\":[{\"colorbar\":{\"outlinewidth\":0,\"ticks\":\"\"},\"colorscale\":[[0.0,\"#0d0887\"],[0.1111111111111111,\"#46039f\"],[0.2222222222222222,\"#7201a8\"],[0.3333333333333333,\"#9c179e\"],[0.4444444444444444,\"#bd3786\"],[0.5555555555555556,\"#d8576b\"],[0.6666666666666666,\"#ed7953\"],[0.7777777777777778,\"#fb9f3a\"],[0.8888888888888888,\"#fdca26\"],[1.0,\"#f0f921\"]],\"type\":\"surface\"}],\"table\":[{\"cells\":{\"fill\":{\"color\":\"#EBF0F8\"},\"line\":{\"color\":\"white\"}},\"header\":{\"fill\":{\"color\":\"#C8D4E3\"},\"line\":{\"color\":\"white\"}},\"type\":\"table\"}]},\"layout\":{\"annotationdefaults\":{\"arrowcolor\":\"#2a3f5f\",\"arrowhead\":0,\"arrowwidth\":1},\"autotypenumbers\":\"strict\",\"coloraxis\":{\"colorbar\":{\"outlinewidth\":0,\"ticks\":\"\"}},\"colorscale\":{\"diverging\":[[0,\"#8e0152\"],[0.1,\"#c51b7d\"],[0.2,\"#de77ae\"],[0.3,\"#f1b6da\"],[0.4,\"#fde0ef\"],[0.5,\"#f7f7f7\"],[0.6,\"#e6f5d0\"],[0.7,\"#b8e186\"],[0.8,\"#7fbc41\"],[0.9,\"#4d9221\"],[1,\"#276419\"]],\"sequential\":[[0.0,\"#0d0887\"],[0.1111111111111111,\"#46039f\"],[0.2222222222222222,\"#7201a8\"],[0.3333333333333333,\"#9c179e\"],[0.4444444444444444,\"#bd3786\"],[0.5555555555555556,\"#d8576b\"],[0.6666666666666666,\"#ed7953\"],[0.7777777777777778,\"#fb9f3a\"],[0.8888888888888888,\"#fdca26\"],[1.0,\"#f0f921\"]],\"sequentialminus\":[[0.0,\"#0d0887\"],[0.1111111111111111,\"#46039f\"],[0.2222222222222222,\"#7201a8\"],[0.3333333333333333,\"#9c179e\"],[0.4444444444444444,\"#bd3786\"],[0.5555555555555556,\"#d8576b\"],[0.6666666666666666,\"#ed7953\"],[0.7777777777777778,\"#fb9f3a\"],[0.8888888888888888,\"#fdca26\"],[1.0,\"#f0f921\"]]},\"colorway\":[\"#636efa\",\"#EF553B\",\"#00cc96\",\"#ab63fa\",\"#FFA15A\",\"#19d3f3\",\"#FF6692\",\"#B6E880\",\"#FF97FF\",\"#FECB52\"],\"font\":{\"color\":\"#2a3f5f\"},\"geo\":{\"bgcolor\":\"white\",\"lakecolor\":\"white\",\"landcolor\":\"#E5ECF6\",\"showlakes\":true,\"showland\":true,\"subunitcolor\":\"white\"},\"hoverlabel\":{\"align\":\"left\"},\"hovermode\":\"closest\",\"mapbox\":{\"style\":\"light\"},\"paper_bgcolor\":\"white\",\"plot_bgcolor\":\"#E5ECF6\",\"polar\":{\"angularaxis\":{\"gridcolor\":\"white\",\"linecolor\":\"white\",\"ticks\":\"\"},\"bgcolor\":\"#E5ECF6\",\"radialaxis\":{\"gridcolor\":\"white\",\"linecolor\":\"white\",\"ticks\":\"\"}},\"scene\":{\"xaxis\":{\"backgroundcolor\":\"#E5ECF6\",\"gridcolor\":\"white\",\"gridwidth\":2,\"linecolor\":\"white\",\"showbackground\":true,\"ticks\":\"\",\"zerolinecolor\":\"white\"},\"yaxis\":{\"backgroundcolor\":\"#E5ECF6\",\"gridcolor\":\"white\",\"gridwidth\":2,\"linecolor\":\"white\",\"showbackground\":true,\"ticks\":\"\",\"zerolinecolor\":\"white\"},\"zaxis\":{\"backgroundcolor\":\"#E5ECF6\",\"gridcolor\":\"white\",\"gridwidth\":2,\"linecolor\":\"white\",\"showbackground\":true,\"ticks\":\"\",\"zerolinecolor\":\"white\"}},\"shapedefaults\":{\"line\":{\"color\":\"#2a3f5f\"}},\"ternary\":{\"aaxis\":{\"gridcolor\":\"white\",\"linecolor\":\"white\",\"ticks\":\"\"},\"baxis\":{\"gridcolor\":\"white\",\"linecolor\":\"white\",\"ticks\":\"\"},\"bgcolor\":\"#E5ECF6\",\"caxis\":{\"gridcolor\":\"white\",\"linecolor\":\"white\",\"ticks\":\"\"}},\"title\":{\"x\":0.05},\"xaxis\":{\"automargin\":true,\"gridcolor\":\"white\",\"linecolor\":\"white\",\"ticks\":\"\",\"title\":{\"standoff\":15},\"zerolinecolor\":\"white\",\"zerolinewidth\":2},\"yaxis\":{\"automargin\":true,\"gridcolor\":\"white\",\"linecolor\":\"white\",\"ticks\":\"\",\"title\":{\"standoff\":15},\"zerolinecolor\":\"white\",\"zerolinewidth\":2}}},\"coloraxis\":{\"colorbar\":{\"title\":{\"text\":\"ave_score_terrans\"}},\"colorscale\":[[0.0,\"rgb(103,0,31)\"],[0.1,\"rgb(178,24,43)\"],[0.2,\"rgb(214,96,77)\"],[0.3,\"rgb(244,165,130)\"],[0.4,\"rgb(253,219,199)\"],[0.5,\"rgb(247,247,247)\"],[0.6,\"rgb(209,229,240)\"],[0.7,\"rgb(146,197,222)\"],[0.8,\"rgb(67,147,195)\"],[0.9,\"rgb(33,102,172)\"],[1.0,\"rgb(5,48,97)\"]],\"cmid\":144.39872372553106},\"legend\":{\"tracegroupgap\":0},\"margin\":{\"t\":50,\"l\":25,\"r\":25,\"b\":25},\"title\":{\"text\":\"R1 Structures: Frequency and Impact on Score Relative to All Factions Average (144.4): terrans\"}},                        {\"responsive\": true}                    ).then(function(){\n",
       "                            \n",
       "var gd = document.getElementById('b536620d-01ae-4d44-9f7a-672deeb340e3');\n",
       "var x = new MutationObserver(function (mutations, observer) {{\n",
       "        var display = window.getComputedStyle(gd).display;\n",
       "        if (!display || display === 'none') {{\n",
       "            console.log([gd, 'removed!']);\n",
       "            Plotly.purge(gd);\n",
       "            observer.disconnect();\n",
       "        }}\n",
       "}});\n",
       "\n",
       "// Listen for the removal of the full notebook cells\n",
       "var notebookContainer = gd.closest('#notebook-container');\n",
       "if (notebookContainer) {{\n",
       "    x.observe(notebookContainer, {childList: true});\n",
       "}}\n",
       "\n",
       "// Listen for the clearing of the current output cell\n",
       "var outputEl = gd.closest('.output');\n",
       "if (outputEl) {{\n",
       "    x.observe(outputEl, {childList: true});\n",
       "}}\n",
       "\n",
       "                        })                };                });            </script>        </div>"
      ]
     },
     "metadata": {},
     "output_type": "display_data"
    },
    {
     "data": {
      "application/vnd.plotly.v1+json": {
       "config": {
        "plotlyServerURL": "https://plot.ly"
       },
       "data": [
        {
         "branchvalues": "total",
         "customdata": [
          [
           217,
           151
          ],
          [
           122.5,
           111
          ],
          [
           259.346875,
           163.16875
          ],
          [
           163.30769230769232,
           110.61538461538461
          ],
          [
           144.5,
           115
          ],
          [
           110.33333333333333,
           115.44444444444444
          ],
          [
           203.10714285714286,
           141.60714285714286
          ],
          [
           111,
           97
          ],
          [
           276.5,
           166.07291666666666
          ],
          [
           214.8640776699029,
           147.84466019417476
          ],
          [
           62.333333333333336,
           96
          ],
          [
           215,
           173
          ],
          [
           83.33333333333333,
           136
          ],
          [
           146.625,
           117.1875
          ],
          [
           213.21505376344086,
           148.47096774193548
          ],
          [
           246.16666666666666,
           148.16666666666666
          ],
          [
           208.68421052631578,
           152.40350877192984
          ],
          [
           116.83333333333333,
           134.5
          ],
          [
           121,
           106.66666666666667
          ],
          [
           182.0952380952381,
           141.03968253968253
          ],
          [
           100.5,
           106
          ],
          [
           124,
           140.33333333333334
          ],
          [
           2,
           101
          ],
          [
           240.24444444444444,
           147.13333333333333
          ],
          [
           77,
           111
          ],
          [
           106.25,
           146.5
          ],
          [
           "(?)",
           160.60088691796008
          ],
          [
           "(?)",
           127.6
          ],
          [
           "(?)",
           146.80552486187844
          ],
          [
           2,
           101
          ],
          [
           "(?)",
           120.2
          ],
          [
           "(?)",
           150.93100944081337
          ]
         ],
         "domain": {
          "x": [
           0,
           1
          ],
          "y": [
           0,
           1
          ]
         },
         "hovertemplate": "labels=%{label}<br>class_counts=%{value}<br>parent=%{parent}<br>id=%{id}<br>ave_elo_firaks=%{customdata[0]}<br>ave_score_firaks=%{color}<extra></extra>",
         "ids": [
          "R1 Structs/PI/ 0-m_0-ts_1-lab_1-pi_0-ac1_0-ac2",
          "R1 Structs/lab/ 0-m_0-ts_2-lab_0-pi_0-ac1_0-ac2",
          "R1 Structs/PI/ 0-m_1-ts_0-lab_1-pi_0-ac1_0-ac2",
          "R1 Structs/lab/ 0-m_1-ts_1-lab_0-pi_0-ac1_0-ac2",
          "R1 Structs/ac1/ 1-m_0-ts_0-lab_0-pi_1-ac1_0-ac2",
          "R1 Structs/PI/ 1-m_0-ts_0-lab_1-pi_0-ac1_0-ac2",
          "R1 Structs/lab/ 1-m_0-ts_1-lab_0-pi_0-ac1_0-ac2",
          "R1 Structs/lab/ 1-m_0-ts_2-lab_0-pi_0-ac1_0-ac2",
          "R1 Structs/PI/ 1-m_1-ts_0-lab_1-pi_0-ac1_0-ac2",
          "R1 Structs/lab/ 1-m_1-ts_1-lab_0-pi_0-ac1_0-ac2",
          "R1 Structs/ts/ 1-m_2-ts_0-lab_0-pi_0-ac1_0-ac2",
          "R1 Structs/ts/ 1-m_3-ts_0-lab_0-pi_0-ac1_0-ac2",
          "R1 Structs/ac1/ 2-m_0-ts_0-lab_0-pi_1-ac1_0-ac2",
          "R1 Structs/PI/ 2-m_0-ts_0-lab_1-pi_0-ac1_0-ac2",
          "R1 Structs/lab/ 2-m_0-ts_1-lab_0-pi_0-ac1_0-ac2",
          "R1 Structs/PI/ 2-m_1-ts_0-lab_1-pi_0-ac1_0-ac2",
          "R1 Structs/lab/ 2-m_1-ts_1-lab_0-pi_0-ac1_0-ac2",
          "R1 Structs/ts/ 2-m_2-ts_0-lab_0-pi_0-ac1_0-ac2",
          "R1 Structs/PI/ 3-m_0-ts_0-lab_1-pi_0-ac1_0-ac2",
          "R1 Structs/lab/ 3-m_0-ts_1-lab_0-pi_0-ac1_0-ac2",
          "R1 Structs/ts/ 3-m_1-ts_0-lab_0-pi_0-ac1_0-ac2",
          "R1 Structs/lab/ 3-m_1-ts_1-lab_0-pi_0-ac1_0-ac2",
          "R1 Structs/m/ 4-m_0-ts_0-lab_0-pi_0-ac1_0-ac2",
          "R1 Structs/lab/ 4-m_0-ts_1-lab_0-pi_0-ac1_0-ac2",
          "R1 Structs/ts/ 4-m_1-ts_0-lab_0-pi_0-ac1_0-ac2",
          "R1 Structs/lab/ 5-m_0-ts_1-lab_0-pi_0-ac1_0-ac2",
          "R1 Structs/PI",
          "R1 Structs/ac1",
          "R1 Structs/lab",
          "R1 Structs/m",
          "R1 Structs/ts",
          "R1 Structs"
         ],
         "labels": [
          " 0-m_0-ts_1-lab_1-pi_0-ac1_0-ac2",
          " 0-m_0-ts_2-lab_0-pi_0-ac1_0-ac2",
          " 0-m_1-ts_0-lab_1-pi_0-ac1_0-ac2",
          " 0-m_1-ts_1-lab_0-pi_0-ac1_0-ac2",
          " 1-m_0-ts_0-lab_0-pi_1-ac1_0-ac2",
          " 1-m_0-ts_0-lab_1-pi_0-ac1_0-ac2",
          " 1-m_0-ts_1-lab_0-pi_0-ac1_0-ac2",
          " 1-m_0-ts_2-lab_0-pi_0-ac1_0-ac2",
          " 1-m_1-ts_0-lab_1-pi_0-ac1_0-ac2",
          " 1-m_1-ts_1-lab_0-pi_0-ac1_0-ac2",
          " 1-m_2-ts_0-lab_0-pi_0-ac1_0-ac2",
          " 1-m_3-ts_0-lab_0-pi_0-ac1_0-ac2",
          " 2-m_0-ts_0-lab_0-pi_1-ac1_0-ac2",
          " 2-m_0-ts_0-lab_1-pi_0-ac1_0-ac2",
          " 2-m_0-ts_1-lab_0-pi_0-ac1_0-ac2",
          " 2-m_1-ts_0-lab_1-pi_0-ac1_0-ac2",
          " 2-m_1-ts_1-lab_0-pi_0-ac1_0-ac2",
          " 2-m_2-ts_0-lab_0-pi_0-ac1_0-ac2",
          " 3-m_0-ts_0-lab_1-pi_0-ac1_0-ac2",
          " 3-m_0-ts_1-lab_0-pi_0-ac1_0-ac2",
          " 3-m_1-ts_0-lab_0-pi_0-ac1_0-ac2",
          " 3-m_1-ts_1-lab_0-pi_0-ac1_0-ac2",
          " 4-m_0-ts_0-lab_0-pi_0-ac1_0-ac2",
          " 4-m_0-ts_1-lab_0-pi_0-ac1_0-ac2",
          " 4-m_1-ts_0-lab_0-pi_0-ac1_0-ac2",
          " 5-m_0-ts_1-lab_0-pi_0-ac1_0-ac2",
          "PI",
          "ac1",
          "lab",
          "m",
          "ts",
          "R1 Structs"
         ],
         "marker": {
          "coloraxis": "coloraxis",
          "colors": [
           151,
           111,
           163.16875,
           110.61538461538461,
           115,
           115.44444444444444,
           141.60714285714286,
           97,
           166.07291666666666,
           147.84466019417476,
           96,
           173,
           136,
           117.1875,
           148.47096774193548,
           148.16666666666666,
           152.40350877192984,
           134.5,
           106.66666666666667,
           141.03968253968253,
           106,
           140.33333333333334,
           101,
           147.13333333333333,
           111,
           146.5,
           160.60088691796008,
           127.6,
           146.80552486187844,
           101,
           120.2,
           150.93100944081337
          ]
         },
         "name": "",
         "parents": [
          "R1 Structs/PI",
          "R1 Structs/lab",
          "R1 Structs/PI",
          "R1 Structs/lab",
          "R1 Structs/ac1",
          "R1 Structs/PI",
          "R1 Structs/lab",
          "R1 Structs/lab",
          "R1 Structs/PI",
          "R1 Structs/lab",
          "R1 Structs/ts",
          "R1 Structs/ts",
          "R1 Structs/ac1",
          "R1 Structs/PI",
          "R1 Structs/lab",
          "R1 Structs/PI",
          "R1 Structs/lab",
          "R1 Structs/ts",
          "R1 Structs/PI",
          "R1 Structs/lab",
          "R1 Structs/ts",
          "R1 Structs/lab",
          "R1 Structs/m",
          "R1 Structs/lab",
          "R1 Structs/ts",
          "R1 Structs/lab",
          "R1 Structs",
          "R1 Structs",
          "R1 Structs",
          "R1 Structs",
          "R1 Structs",
          ""
         ],
         "type": "treemap",
         "values": [
          2,
          4,
          640,
          26,
          4,
          18,
          56,
          4,
          192,
          206,
          6,
          2,
          6,
          32,
          930,
          12,
          228,
          12,
          6,
          252,
          8,
          6,
          2,
          90,
          2,
          8,
          902,
          10,
          1810,
          2,
          30,
          2754
         ]
        }
       ],
       "layout": {
        "coloraxis": {
         "cmid": 144.39872372553106,
         "colorbar": {
          "title": {
           "text": "ave_score_firaks"
          }
         },
         "colorscale": [
          [
           0,
           "rgb(103,0,31)"
          ],
          [
           0.1,
           "rgb(178,24,43)"
          ],
          [
           0.2,
           "rgb(214,96,77)"
          ],
          [
           0.3,
           "rgb(244,165,130)"
          ],
          [
           0.4,
           "rgb(253,219,199)"
          ],
          [
           0.5,
           "rgb(247,247,247)"
          ],
          [
           0.6,
           "rgb(209,229,240)"
          ],
          [
           0.7,
           "rgb(146,197,222)"
          ],
          [
           0.8,
           "rgb(67,147,195)"
          ],
          [
           0.9,
           "rgb(33,102,172)"
          ],
          [
           1,
           "rgb(5,48,97)"
          ]
         ]
        },
        "legend": {
         "tracegroupgap": 0
        },
        "margin": {
         "b": 25,
         "l": 25,
         "r": 25,
         "t": 50
        },
        "template": {
         "data": {
          "bar": [
           {
            "error_x": {
             "color": "#2a3f5f"
            },
            "error_y": {
             "color": "#2a3f5f"
            },
            "marker": {
             "line": {
              "color": "#E5ECF6",
              "width": 0.5
             },
             "pattern": {
              "fillmode": "overlay",
              "size": 10,
              "solidity": 0.2
             }
            },
            "type": "bar"
           }
          ],
          "barpolar": [
           {
            "marker": {
             "line": {
              "color": "#E5ECF6",
              "width": 0.5
             },
             "pattern": {
              "fillmode": "overlay",
              "size": 10,
              "solidity": 0.2
             }
            },
            "type": "barpolar"
           }
          ],
          "carpet": [
           {
            "aaxis": {
             "endlinecolor": "#2a3f5f",
             "gridcolor": "white",
             "linecolor": "white",
             "minorgridcolor": "white",
             "startlinecolor": "#2a3f5f"
            },
            "baxis": {
             "endlinecolor": "#2a3f5f",
             "gridcolor": "white",
             "linecolor": "white",
             "minorgridcolor": "white",
             "startlinecolor": "#2a3f5f"
            },
            "type": "carpet"
           }
          ],
          "choropleth": [
           {
            "colorbar": {
             "outlinewidth": 0,
             "ticks": ""
            },
            "type": "choropleth"
           }
          ],
          "contour": [
           {
            "colorbar": {
             "outlinewidth": 0,
             "ticks": ""
            },
            "colorscale": [
             [
              0,
              "#0d0887"
             ],
             [
              0.1111111111111111,
              "#46039f"
             ],
             [
              0.2222222222222222,
              "#7201a8"
             ],
             [
              0.3333333333333333,
              "#9c179e"
             ],
             [
              0.4444444444444444,
              "#bd3786"
             ],
             [
              0.5555555555555556,
              "#d8576b"
             ],
             [
              0.6666666666666666,
              "#ed7953"
             ],
             [
              0.7777777777777778,
              "#fb9f3a"
             ],
             [
              0.8888888888888888,
              "#fdca26"
             ],
             [
              1,
              "#f0f921"
             ]
            ],
            "type": "contour"
           }
          ],
          "contourcarpet": [
           {
            "colorbar": {
             "outlinewidth": 0,
             "ticks": ""
            },
            "type": "contourcarpet"
           }
          ],
          "heatmap": [
           {
            "colorbar": {
             "outlinewidth": 0,
             "ticks": ""
            },
            "colorscale": [
             [
              0,
              "#0d0887"
             ],
             [
              0.1111111111111111,
              "#46039f"
             ],
             [
              0.2222222222222222,
              "#7201a8"
             ],
             [
              0.3333333333333333,
              "#9c179e"
             ],
             [
              0.4444444444444444,
              "#bd3786"
             ],
             [
              0.5555555555555556,
              "#d8576b"
             ],
             [
              0.6666666666666666,
              "#ed7953"
             ],
             [
              0.7777777777777778,
              "#fb9f3a"
             ],
             [
              0.8888888888888888,
              "#fdca26"
             ],
             [
              1,
              "#f0f921"
             ]
            ],
            "type": "heatmap"
           }
          ],
          "heatmapgl": [
           {
            "colorbar": {
             "outlinewidth": 0,
             "ticks": ""
            },
            "colorscale": [
             [
              0,
              "#0d0887"
             ],
             [
              0.1111111111111111,
              "#46039f"
             ],
             [
              0.2222222222222222,
              "#7201a8"
             ],
             [
              0.3333333333333333,
              "#9c179e"
             ],
             [
              0.4444444444444444,
              "#bd3786"
             ],
             [
              0.5555555555555556,
              "#d8576b"
             ],
             [
              0.6666666666666666,
              "#ed7953"
             ],
             [
              0.7777777777777778,
              "#fb9f3a"
             ],
             [
              0.8888888888888888,
              "#fdca26"
             ],
             [
              1,
              "#f0f921"
             ]
            ],
            "type": "heatmapgl"
           }
          ],
          "histogram": [
           {
            "marker": {
             "pattern": {
              "fillmode": "overlay",
              "size": 10,
              "solidity": 0.2
             }
            },
            "type": "histogram"
           }
          ],
          "histogram2d": [
           {
            "colorbar": {
             "outlinewidth": 0,
             "ticks": ""
            },
            "colorscale": [
             [
              0,
              "#0d0887"
             ],
             [
              0.1111111111111111,
              "#46039f"
             ],
             [
              0.2222222222222222,
              "#7201a8"
             ],
             [
              0.3333333333333333,
              "#9c179e"
             ],
             [
              0.4444444444444444,
              "#bd3786"
             ],
             [
              0.5555555555555556,
              "#d8576b"
             ],
             [
              0.6666666666666666,
              "#ed7953"
             ],
             [
              0.7777777777777778,
              "#fb9f3a"
             ],
             [
              0.8888888888888888,
              "#fdca26"
             ],
             [
              1,
              "#f0f921"
             ]
            ],
            "type": "histogram2d"
           }
          ],
          "histogram2dcontour": [
           {
            "colorbar": {
             "outlinewidth": 0,
             "ticks": ""
            },
            "colorscale": [
             [
              0,
              "#0d0887"
             ],
             [
              0.1111111111111111,
              "#46039f"
             ],
             [
              0.2222222222222222,
              "#7201a8"
             ],
             [
              0.3333333333333333,
              "#9c179e"
             ],
             [
              0.4444444444444444,
              "#bd3786"
             ],
             [
              0.5555555555555556,
              "#d8576b"
             ],
             [
              0.6666666666666666,
              "#ed7953"
             ],
             [
              0.7777777777777778,
              "#fb9f3a"
             ],
             [
              0.8888888888888888,
              "#fdca26"
             ],
             [
              1,
              "#f0f921"
             ]
            ],
            "type": "histogram2dcontour"
           }
          ],
          "mesh3d": [
           {
            "colorbar": {
             "outlinewidth": 0,
             "ticks": ""
            },
            "type": "mesh3d"
           }
          ],
          "parcoords": [
           {
            "line": {
             "colorbar": {
              "outlinewidth": 0,
              "ticks": ""
             }
            },
            "type": "parcoords"
           }
          ],
          "pie": [
           {
            "automargin": true,
            "type": "pie"
           }
          ],
          "scatter": [
           {
            "marker": {
             "colorbar": {
              "outlinewidth": 0,
              "ticks": ""
             }
            },
            "type": "scatter"
           }
          ],
          "scatter3d": [
           {
            "line": {
             "colorbar": {
              "outlinewidth": 0,
              "ticks": ""
             }
            },
            "marker": {
             "colorbar": {
              "outlinewidth": 0,
              "ticks": ""
             }
            },
            "type": "scatter3d"
           }
          ],
          "scattercarpet": [
           {
            "marker": {
             "colorbar": {
              "outlinewidth": 0,
              "ticks": ""
             }
            },
            "type": "scattercarpet"
           }
          ],
          "scattergeo": [
           {
            "marker": {
             "colorbar": {
              "outlinewidth": 0,
              "ticks": ""
             }
            },
            "type": "scattergeo"
           }
          ],
          "scattergl": [
           {
            "marker": {
             "colorbar": {
              "outlinewidth": 0,
              "ticks": ""
             }
            },
            "type": "scattergl"
           }
          ],
          "scattermapbox": [
           {
            "marker": {
             "colorbar": {
              "outlinewidth": 0,
              "ticks": ""
             }
            },
            "type": "scattermapbox"
           }
          ],
          "scatterpolar": [
           {
            "marker": {
             "colorbar": {
              "outlinewidth": 0,
              "ticks": ""
             }
            },
            "type": "scatterpolar"
           }
          ],
          "scatterpolargl": [
           {
            "marker": {
             "colorbar": {
              "outlinewidth": 0,
              "ticks": ""
             }
            },
            "type": "scatterpolargl"
           }
          ],
          "scatterternary": [
           {
            "marker": {
             "colorbar": {
              "outlinewidth": 0,
              "ticks": ""
             }
            },
            "type": "scatterternary"
           }
          ],
          "surface": [
           {
            "colorbar": {
             "outlinewidth": 0,
             "ticks": ""
            },
            "colorscale": [
             [
              0,
              "#0d0887"
             ],
             [
              0.1111111111111111,
              "#46039f"
             ],
             [
              0.2222222222222222,
              "#7201a8"
             ],
             [
              0.3333333333333333,
              "#9c179e"
             ],
             [
              0.4444444444444444,
              "#bd3786"
             ],
             [
              0.5555555555555556,
              "#d8576b"
             ],
             [
              0.6666666666666666,
              "#ed7953"
             ],
             [
              0.7777777777777778,
              "#fb9f3a"
             ],
             [
              0.8888888888888888,
              "#fdca26"
             ],
             [
              1,
              "#f0f921"
             ]
            ],
            "type": "surface"
           }
          ],
          "table": [
           {
            "cells": {
             "fill": {
              "color": "#EBF0F8"
             },
             "line": {
              "color": "white"
             }
            },
            "header": {
             "fill": {
              "color": "#C8D4E3"
             },
             "line": {
              "color": "white"
             }
            },
            "type": "table"
           }
          ]
         },
         "layout": {
          "annotationdefaults": {
           "arrowcolor": "#2a3f5f",
           "arrowhead": 0,
           "arrowwidth": 1
          },
          "autotypenumbers": "strict",
          "coloraxis": {
           "colorbar": {
            "outlinewidth": 0,
            "ticks": ""
           }
          },
          "colorscale": {
           "diverging": [
            [
             0,
             "#8e0152"
            ],
            [
             0.1,
             "#c51b7d"
            ],
            [
             0.2,
             "#de77ae"
            ],
            [
             0.3,
             "#f1b6da"
            ],
            [
             0.4,
             "#fde0ef"
            ],
            [
             0.5,
             "#f7f7f7"
            ],
            [
             0.6,
             "#e6f5d0"
            ],
            [
             0.7,
             "#b8e186"
            ],
            [
             0.8,
             "#7fbc41"
            ],
            [
             0.9,
             "#4d9221"
            ],
            [
             1,
             "#276419"
            ]
           ],
           "sequential": [
            [
             0,
             "#0d0887"
            ],
            [
             0.1111111111111111,
             "#46039f"
            ],
            [
             0.2222222222222222,
             "#7201a8"
            ],
            [
             0.3333333333333333,
             "#9c179e"
            ],
            [
             0.4444444444444444,
             "#bd3786"
            ],
            [
             0.5555555555555556,
             "#d8576b"
            ],
            [
             0.6666666666666666,
             "#ed7953"
            ],
            [
             0.7777777777777778,
             "#fb9f3a"
            ],
            [
             0.8888888888888888,
             "#fdca26"
            ],
            [
             1,
             "#f0f921"
            ]
           ],
           "sequentialminus": [
            [
             0,
             "#0d0887"
            ],
            [
             0.1111111111111111,
             "#46039f"
            ],
            [
             0.2222222222222222,
             "#7201a8"
            ],
            [
             0.3333333333333333,
             "#9c179e"
            ],
            [
             0.4444444444444444,
             "#bd3786"
            ],
            [
             0.5555555555555556,
             "#d8576b"
            ],
            [
             0.6666666666666666,
             "#ed7953"
            ],
            [
             0.7777777777777778,
             "#fb9f3a"
            ],
            [
             0.8888888888888888,
             "#fdca26"
            ],
            [
             1,
             "#f0f921"
            ]
           ]
          },
          "colorway": [
           "#636efa",
           "#EF553B",
           "#00cc96",
           "#ab63fa",
           "#FFA15A",
           "#19d3f3",
           "#FF6692",
           "#B6E880",
           "#FF97FF",
           "#FECB52"
          ],
          "font": {
           "color": "#2a3f5f"
          },
          "geo": {
           "bgcolor": "white",
           "lakecolor": "white",
           "landcolor": "#E5ECF6",
           "showlakes": true,
           "showland": true,
           "subunitcolor": "white"
          },
          "hoverlabel": {
           "align": "left"
          },
          "hovermode": "closest",
          "mapbox": {
           "style": "light"
          },
          "paper_bgcolor": "white",
          "plot_bgcolor": "#E5ECF6",
          "polar": {
           "angularaxis": {
            "gridcolor": "white",
            "linecolor": "white",
            "ticks": ""
           },
           "bgcolor": "#E5ECF6",
           "radialaxis": {
            "gridcolor": "white",
            "linecolor": "white",
            "ticks": ""
           }
          },
          "scene": {
           "xaxis": {
            "backgroundcolor": "#E5ECF6",
            "gridcolor": "white",
            "gridwidth": 2,
            "linecolor": "white",
            "showbackground": true,
            "ticks": "",
            "zerolinecolor": "white"
           },
           "yaxis": {
            "backgroundcolor": "#E5ECF6",
            "gridcolor": "white",
            "gridwidth": 2,
            "linecolor": "white",
            "showbackground": true,
            "ticks": "",
            "zerolinecolor": "white"
           },
           "zaxis": {
            "backgroundcolor": "#E5ECF6",
            "gridcolor": "white",
            "gridwidth": 2,
            "linecolor": "white",
            "showbackground": true,
            "ticks": "",
            "zerolinecolor": "white"
           }
          },
          "shapedefaults": {
           "line": {
            "color": "#2a3f5f"
           }
          },
          "ternary": {
           "aaxis": {
            "gridcolor": "white",
            "linecolor": "white",
            "ticks": ""
           },
           "baxis": {
            "gridcolor": "white",
            "linecolor": "white",
            "ticks": ""
           },
           "bgcolor": "#E5ECF6",
           "caxis": {
            "gridcolor": "white",
            "linecolor": "white",
            "ticks": ""
           }
          },
          "title": {
           "x": 0.05
          },
          "xaxis": {
           "automargin": true,
           "gridcolor": "white",
           "linecolor": "white",
           "ticks": "",
           "title": {
            "standoff": 15
           },
           "zerolinecolor": "white",
           "zerolinewidth": 2
          },
          "yaxis": {
           "automargin": true,
           "gridcolor": "white",
           "linecolor": "white",
           "ticks": "",
           "title": {
            "standoff": 15
           },
           "zerolinecolor": "white",
           "zerolinewidth": 2
          }
         }
        },
        "title": {
         "text": "R1 Structures: Frequency and Impact on Score Relative to All Factions Average (144.4): firaks"
        }
       }
      },
      "text/html": [
       "<div>                            <div id=\"b5dfcbaf-d19b-4af9-a9fc-cdd1277f8208\" class=\"plotly-graph-div\" style=\"height:525px; width:100%;\"></div>            <script type=\"text/javascript\">                require([\"plotly\"], function(Plotly) {                    window.PLOTLYENV=window.PLOTLYENV || {};                                    if (document.getElementById(\"b5dfcbaf-d19b-4af9-a9fc-cdd1277f8208\")) {                    Plotly.newPlot(                        \"b5dfcbaf-d19b-4af9-a9fc-cdd1277f8208\",                        [{\"branchvalues\":\"total\",\"customdata\":[[217.0,151.0],[122.5,111.0],[259.346875,163.16875],[163.30769230769232,110.61538461538461],[144.5,115.0],[110.33333333333333,115.44444444444444],[203.10714285714286,141.60714285714286],[111.0,97.0],[276.5,166.07291666666666],[214.8640776699029,147.84466019417476],[62.333333333333336,96.0],[215.0,173.0],[83.33333333333333,136.0],[146.625,117.1875],[213.21505376344086,148.47096774193548],[246.16666666666666,148.16666666666666],[208.68421052631578,152.40350877192984],[116.83333333333333,134.5],[121.0,106.66666666666667],[182.0952380952381,141.03968253968253],[100.5,106.0],[124.0,140.33333333333334],[2.0,101.0],[240.24444444444444,147.13333333333333],[77.0,111.0],[106.25,146.5],[\"(?)\",160.60088691796008],[\"(?)\",127.6],[\"(?)\",146.80552486187844],[2.0,101.0],[\"(?)\",120.2],[\"(?)\",150.93100944081337]],\"domain\":{\"x\":[0.0,1.0],\"y\":[0.0,1.0]},\"hovertemplate\":\"labels=%{label}<br>class_counts=%{value}<br>parent=%{parent}<br>id=%{id}<br>ave_elo_firaks=%{customdata[0]}<br>ave_score_firaks=%{color}<extra></extra>\",\"ids\":[\"R1 Structs/PI/ 0-m_0-ts_1-lab_1-pi_0-ac1_0-ac2\",\"R1 Structs/lab/ 0-m_0-ts_2-lab_0-pi_0-ac1_0-ac2\",\"R1 Structs/PI/ 0-m_1-ts_0-lab_1-pi_0-ac1_0-ac2\",\"R1 Structs/lab/ 0-m_1-ts_1-lab_0-pi_0-ac1_0-ac2\",\"R1 Structs/ac1/ 1-m_0-ts_0-lab_0-pi_1-ac1_0-ac2\",\"R1 Structs/PI/ 1-m_0-ts_0-lab_1-pi_0-ac1_0-ac2\",\"R1 Structs/lab/ 1-m_0-ts_1-lab_0-pi_0-ac1_0-ac2\",\"R1 Structs/lab/ 1-m_0-ts_2-lab_0-pi_0-ac1_0-ac2\",\"R1 Structs/PI/ 1-m_1-ts_0-lab_1-pi_0-ac1_0-ac2\",\"R1 Structs/lab/ 1-m_1-ts_1-lab_0-pi_0-ac1_0-ac2\",\"R1 Structs/ts/ 1-m_2-ts_0-lab_0-pi_0-ac1_0-ac2\",\"R1 Structs/ts/ 1-m_3-ts_0-lab_0-pi_0-ac1_0-ac2\",\"R1 Structs/ac1/ 2-m_0-ts_0-lab_0-pi_1-ac1_0-ac2\",\"R1 Structs/PI/ 2-m_0-ts_0-lab_1-pi_0-ac1_0-ac2\",\"R1 Structs/lab/ 2-m_0-ts_1-lab_0-pi_0-ac1_0-ac2\",\"R1 Structs/PI/ 2-m_1-ts_0-lab_1-pi_0-ac1_0-ac2\",\"R1 Structs/lab/ 2-m_1-ts_1-lab_0-pi_0-ac1_0-ac2\",\"R1 Structs/ts/ 2-m_2-ts_0-lab_0-pi_0-ac1_0-ac2\",\"R1 Structs/PI/ 3-m_0-ts_0-lab_1-pi_0-ac1_0-ac2\",\"R1 Structs/lab/ 3-m_0-ts_1-lab_0-pi_0-ac1_0-ac2\",\"R1 Structs/ts/ 3-m_1-ts_0-lab_0-pi_0-ac1_0-ac2\",\"R1 Structs/lab/ 3-m_1-ts_1-lab_0-pi_0-ac1_0-ac2\",\"R1 Structs/m/ 4-m_0-ts_0-lab_0-pi_0-ac1_0-ac2\",\"R1 Structs/lab/ 4-m_0-ts_1-lab_0-pi_0-ac1_0-ac2\",\"R1 Structs/ts/ 4-m_1-ts_0-lab_0-pi_0-ac1_0-ac2\",\"R1 Structs/lab/ 5-m_0-ts_1-lab_0-pi_0-ac1_0-ac2\",\"R1 Structs/PI\",\"R1 Structs/ac1\",\"R1 Structs/lab\",\"R1 Structs/m\",\"R1 Structs/ts\",\"R1 Structs\"],\"labels\":[\" 0-m_0-ts_1-lab_1-pi_0-ac1_0-ac2\",\" 0-m_0-ts_2-lab_0-pi_0-ac1_0-ac2\",\" 0-m_1-ts_0-lab_1-pi_0-ac1_0-ac2\",\" 0-m_1-ts_1-lab_0-pi_0-ac1_0-ac2\",\" 1-m_0-ts_0-lab_0-pi_1-ac1_0-ac2\",\" 1-m_0-ts_0-lab_1-pi_0-ac1_0-ac2\",\" 1-m_0-ts_1-lab_0-pi_0-ac1_0-ac2\",\" 1-m_0-ts_2-lab_0-pi_0-ac1_0-ac2\",\" 1-m_1-ts_0-lab_1-pi_0-ac1_0-ac2\",\" 1-m_1-ts_1-lab_0-pi_0-ac1_0-ac2\",\" 1-m_2-ts_0-lab_0-pi_0-ac1_0-ac2\",\" 1-m_3-ts_0-lab_0-pi_0-ac1_0-ac2\",\" 2-m_0-ts_0-lab_0-pi_1-ac1_0-ac2\",\" 2-m_0-ts_0-lab_1-pi_0-ac1_0-ac2\",\" 2-m_0-ts_1-lab_0-pi_0-ac1_0-ac2\",\" 2-m_1-ts_0-lab_1-pi_0-ac1_0-ac2\",\" 2-m_1-ts_1-lab_0-pi_0-ac1_0-ac2\",\" 2-m_2-ts_0-lab_0-pi_0-ac1_0-ac2\",\" 3-m_0-ts_0-lab_1-pi_0-ac1_0-ac2\",\" 3-m_0-ts_1-lab_0-pi_0-ac1_0-ac2\",\" 3-m_1-ts_0-lab_0-pi_0-ac1_0-ac2\",\" 3-m_1-ts_1-lab_0-pi_0-ac1_0-ac2\",\" 4-m_0-ts_0-lab_0-pi_0-ac1_0-ac2\",\" 4-m_0-ts_1-lab_0-pi_0-ac1_0-ac2\",\" 4-m_1-ts_0-lab_0-pi_0-ac1_0-ac2\",\" 5-m_0-ts_1-lab_0-pi_0-ac1_0-ac2\",\"PI\",\"ac1\",\"lab\",\"m\",\"ts\",\"R1 Structs\"],\"marker\":{\"coloraxis\":\"coloraxis\",\"colors\":[151.0,111.0,163.16875,110.61538461538461,115.0,115.44444444444444,141.60714285714286,97.0,166.07291666666666,147.84466019417476,96.0,173.0,136.0,117.1875,148.47096774193548,148.16666666666666,152.40350877192984,134.5,106.66666666666667,141.03968253968253,106.0,140.33333333333334,101.0,147.13333333333333,111.0,146.5,160.60088691796008,127.6,146.80552486187844,101.0,120.2,150.93100944081337]},\"name\":\"\",\"parents\":[\"R1 Structs/PI\",\"R1 Structs/lab\",\"R1 Structs/PI\",\"R1 Structs/lab\",\"R1 Structs/ac1\",\"R1 Structs/PI\",\"R1 Structs/lab\",\"R1 Structs/lab\",\"R1 Structs/PI\",\"R1 Structs/lab\",\"R1 Structs/ts\",\"R1 Structs/ts\",\"R1 Structs/ac1\",\"R1 Structs/PI\",\"R1 Structs/lab\",\"R1 Structs/PI\",\"R1 Structs/lab\",\"R1 Structs/ts\",\"R1 Structs/PI\",\"R1 Structs/lab\",\"R1 Structs/ts\",\"R1 Structs/lab\",\"R1 Structs/m\",\"R1 Structs/lab\",\"R1 Structs/ts\",\"R1 Structs/lab\",\"R1 Structs\",\"R1 Structs\",\"R1 Structs\",\"R1 Structs\",\"R1 Structs\",\"\"],\"values\":[2,4,640,26,4,18,56,4,192,206,6,2,6,32,930,12,228,12,6,252,8,6,2,90,2,8,902,10,1810,2,30,2754],\"type\":\"treemap\"}],                        {\"template\":{\"data\":{\"bar\":[{\"error_x\":{\"color\":\"#2a3f5f\"},\"error_y\":{\"color\":\"#2a3f5f\"},\"marker\":{\"line\":{\"color\":\"#E5ECF6\",\"width\":0.5},\"pattern\":{\"fillmode\":\"overlay\",\"size\":10,\"solidity\":0.2}},\"type\":\"bar\"}],\"barpolar\":[{\"marker\":{\"line\":{\"color\":\"#E5ECF6\",\"width\":0.5},\"pattern\":{\"fillmode\":\"overlay\",\"size\":10,\"solidity\":0.2}},\"type\":\"barpolar\"}],\"carpet\":[{\"aaxis\":{\"endlinecolor\":\"#2a3f5f\",\"gridcolor\":\"white\",\"linecolor\":\"white\",\"minorgridcolor\":\"white\",\"startlinecolor\":\"#2a3f5f\"},\"baxis\":{\"endlinecolor\":\"#2a3f5f\",\"gridcolor\":\"white\",\"linecolor\":\"white\",\"minorgridcolor\":\"white\",\"startlinecolor\":\"#2a3f5f\"},\"type\":\"carpet\"}],\"choropleth\":[{\"colorbar\":{\"outlinewidth\":0,\"ticks\":\"\"},\"type\":\"choropleth\"}],\"contour\":[{\"colorbar\":{\"outlinewidth\":0,\"ticks\":\"\"},\"colorscale\":[[0.0,\"#0d0887\"],[0.1111111111111111,\"#46039f\"],[0.2222222222222222,\"#7201a8\"],[0.3333333333333333,\"#9c179e\"],[0.4444444444444444,\"#bd3786\"],[0.5555555555555556,\"#d8576b\"],[0.6666666666666666,\"#ed7953\"],[0.7777777777777778,\"#fb9f3a\"],[0.8888888888888888,\"#fdca26\"],[1.0,\"#f0f921\"]],\"type\":\"contour\"}],\"contourcarpet\":[{\"colorbar\":{\"outlinewidth\":0,\"ticks\":\"\"},\"type\":\"contourcarpet\"}],\"heatmap\":[{\"colorbar\":{\"outlinewidth\":0,\"ticks\":\"\"},\"colorscale\":[[0.0,\"#0d0887\"],[0.1111111111111111,\"#46039f\"],[0.2222222222222222,\"#7201a8\"],[0.3333333333333333,\"#9c179e\"],[0.4444444444444444,\"#bd3786\"],[0.5555555555555556,\"#d8576b\"],[0.6666666666666666,\"#ed7953\"],[0.7777777777777778,\"#fb9f3a\"],[0.8888888888888888,\"#fdca26\"],[1.0,\"#f0f921\"]],\"type\":\"heatmap\"}],\"heatmapgl\":[{\"colorbar\":{\"outlinewidth\":0,\"ticks\":\"\"},\"colorscale\":[[0.0,\"#0d0887\"],[0.1111111111111111,\"#46039f\"],[0.2222222222222222,\"#7201a8\"],[0.3333333333333333,\"#9c179e\"],[0.4444444444444444,\"#bd3786\"],[0.5555555555555556,\"#d8576b\"],[0.6666666666666666,\"#ed7953\"],[0.7777777777777778,\"#fb9f3a\"],[0.8888888888888888,\"#fdca26\"],[1.0,\"#f0f921\"]],\"type\":\"heatmapgl\"}],\"histogram\":[{\"marker\":{\"pattern\":{\"fillmode\":\"overlay\",\"size\":10,\"solidity\":0.2}},\"type\":\"histogram\"}],\"histogram2d\":[{\"colorbar\":{\"outlinewidth\":0,\"ticks\":\"\"},\"colorscale\":[[0.0,\"#0d0887\"],[0.1111111111111111,\"#46039f\"],[0.2222222222222222,\"#7201a8\"],[0.3333333333333333,\"#9c179e\"],[0.4444444444444444,\"#bd3786\"],[0.5555555555555556,\"#d8576b\"],[0.6666666666666666,\"#ed7953\"],[0.7777777777777778,\"#fb9f3a\"],[0.8888888888888888,\"#fdca26\"],[1.0,\"#f0f921\"]],\"type\":\"histogram2d\"}],\"histogram2dcontour\":[{\"colorbar\":{\"outlinewidth\":0,\"ticks\":\"\"},\"colorscale\":[[0.0,\"#0d0887\"],[0.1111111111111111,\"#46039f\"],[0.2222222222222222,\"#7201a8\"],[0.3333333333333333,\"#9c179e\"],[0.4444444444444444,\"#bd3786\"],[0.5555555555555556,\"#d8576b\"],[0.6666666666666666,\"#ed7953\"],[0.7777777777777778,\"#fb9f3a\"],[0.8888888888888888,\"#fdca26\"],[1.0,\"#f0f921\"]],\"type\":\"histogram2dcontour\"}],\"mesh3d\":[{\"colorbar\":{\"outlinewidth\":0,\"ticks\":\"\"},\"type\":\"mesh3d\"}],\"parcoords\":[{\"line\":{\"colorbar\":{\"outlinewidth\":0,\"ticks\":\"\"}},\"type\":\"parcoords\"}],\"pie\":[{\"automargin\":true,\"type\":\"pie\"}],\"scatter\":[{\"marker\":{\"colorbar\":{\"outlinewidth\":0,\"ticks\":\"\"}},\"type\":\"scatter\"}],\"scatter3d\":[{\"line\":{\"colorbar\":{\"outlinewidth\":0,\"ticks\":\"\"}},\"marker\":{\"colorbar\":{\"outlinewidth\":0,\"ticks\":\"\"}},\"type\":\"scatter3d\"}],\"scattercarpet\":[{\"marker\":{\"colorbar\":{\"outlinewidth\":0,\"ticks\":\"\"}},\"type\":\"scattercarpet\"}],\"scattergeo\":[{\"marker\":{\"colorbar\":{\"outlinewidth\":0,\"ticks\":\"\"}},\"type\":\"scattergeo\"}],\"scattergl\":[{\"marker\":{\"colorbar\":{\"outlinewidth\":0,\"ticks\":\"\"}},\"type\":\"scattergl\"}],\"scattermapbox\":[{\"marker\":{\"colorbar\":{\"outlinewidth\":0,\"ticks\":\"\"}},\"type\":\"scattermapbox\"}],\"scatterpolar\":[{\"marker\":{\"colorbar\":{\"outlinewidth\":0,\"ticks\":\"\"}},\"type\":\"scatterpolar\"}],\"scatterpolargl\":[{\"marker\":{\"colorbar\":{\"outlinewidth\":0,\"ticks\":\"\"}},\"type\":\"scatterpolargl\"}],\"scatterternary\":[{\"marker\":{\"colorbar\":{\"outlinewidth\":0,\"ticks\":\"\"}},\"type\":\"scatterternary\"}],\"surface\":[{\"colorbar\":{\"outlinewidth\":0,\"ticks\":\"\"},\"colorscale\":[[0.0,\"#0d0887\"],[0.1111111111111111,\"#46039f\"],[0.2222222222222222,\"#7201a8\"],[0.3333333333333333,\"#9c179e\"],[0.4444444444444444,\"#bd3786\"],[0.5555555555555556,\"#d8576b\"],[0.6666666666666666,\"#ed7953\"],[0.7777777777777778,\"#fb9f3a\"],[0.8888888888888888,\"#fdca26\"],[1.0,\"#f0f921\"]],\"type\":\"surface\"}],\"table\":[{\"cells\":{\"fill\":{\"color\":\"#EBF0F8\"},\"line\":{\"color\":\"white\"}},\"header\":{\"fill\":{\"color\":\"#C8D4E3\"},\"line\":{\"color\":\"white\"}},\"type\":\"table\"}]},\"layout\":{\"annotationdefaults\":{\"arrowcolor\":\"#2a3f5f\",\"arrowhead\":0,\"arrowwidth\":1},\"autotypenumbers\":\"strict\",\"coloraxis\":{\"colorbar\":{\"outlinewidth\":0,\"ticks\":\"\"}},\"colorscale\":{\"diverging\":[[0,\"#8e0152\"],[0.1,\"#c51b7d\"],[0.2,\"#de77ae\"],[0.3,\"#f1b6da\"],[0.4,\"#fde0ef\"],[0.5,\"#f7f7f7\"],[0.6,\"#e6f5d0\"],[0.7,\"#b8e186\"],[0.8,\"#7fbc41\"],[0.9,\"#4d9221\"],[1,\"#276419\"]],\"sequential\":[[0.0,\"#0d0887\"],[0.1111111111111111,\"#46039f\"],[0.2222222222222222,\"#7201a8\"],[0.3333333333333333,\"#9c179e\"],[0.4444444444444444,\"#bd3786\"],[0.5555555555555556,\"#d8576b\"],[0.6666666666666666,\"#ed7953\"],[0.7777777777777778,\"#fb9f3a\"],[0.8888888888888888,\"#fdca26\"],[1.0,\"#f0f921\"]],\"sequentialminus\":[[0.0,\"#0d0887\"],[0.1111111111111111,\"#46039f\"],[0.2222222222222222,\"#7201a8\"],[0.3333333333333333,\"#9c179e\"],[0.4444444444444444,\"#bd3786\"],[0.5555555555555556,\"#d8576b\"],[0.6666666666666666,\"#ed7953\"],[0.7777777777777778,\"#fb9f3a\"],[0.8888888888888888,\"#fdca26\"],[1.0,\"#f0f921\"]]},\"colorway\":[\"#636efa\",\"#EF553B\",\"#00cc96\",\"#ab63fa\",\"#FFA15A\",\"#19d3f3\",\"#FF6692\",\"#B6E880\",\"#FF97FF\",\"#FECB52\"],\"font\":{\"color\":\"#2a3f5f\"},\"geo\":{\"bgcolor\":\"white\",\"lakecolor\":\"white\",\"landcolor\":\"#E5ECF6\",\"showlakes\":true,\"showland\":true,\"subunitcolor\":\"white\"},\"hoverlabel\":{\"align\":\"left\"},\"hovermode\":\"closest\",\"mapbox\":{\"style\":\"light\"},\"paper_bgcolor\":\"white\",\"plot_bgcolor\":\"#E5ECF6\",\"polar\":{\"angularaxis\":{\"gridcolor\":\"white\",\"linecolor\":\"white\",\"ticks\":\"\"},\"bgcolor\":\"#E5ECF6\",\"radialaxis\":{\"gridcolor\":\"white\",\"linecolor\":\"white\",\"ticks\":\"\"}},\"scene\":{\"xaxis\":{\"backgroundcolor\":\"#E5ECF6\",\"gridcolor\":\"white\",\"gridwidth\":2,\"linecolor\":\"white\",\"showbackground\":true,\"ticks\":\"\",\"zerolinecolor\":\"white\"},\"yaxis\":{\"backgroundcolor\":\"#E5ECF6\",\"gridcolor\":\"white\",\"gridwidth\":2,\"linecolor\":\"white\",\"showbackground\":true,\"ticks\":\"\",\"zerolinecolor\":\"white\"},\"zaxis\":{\"backgroundcolor\":\"#E5ECF6\",\"gridcolor\":\"white\",\"gridwidth\":2,\"linecolor\":\"white\",\"showbackground\":true,\"ticks\":\"\",\"zerolinecolor\":\"white\"}},\"shapedefaults\":{\"line\":{\"color\":\"#2a3f5f\"}},\"ternary\":{\"aaxis\":{\"gridcolor\":\"white\",\"linecolor\":\"white\",\"ticks\":\"\"},\"baxis\":{\"gridcolor\":\"white\",\"linecolor\":\"white\",\"ticks\":\"\"},\"bgcolor\":\"#E5ECF6\",\"caxis\":{\"gridcolor\":\"white\",\"linecolor\":\"white\",\"ticks\":\"\"}},\"title\":{\"x\":0.05},\"xaxis\":{\"automargin\":true,\"gridcolor\":\"white\",\"linecolor\":\"white\",\"ticks\":\"\",\"title\":{\"standoff\":15},\"zerolinecolor\":\"white\",\"zerolinewidth\":2},\"yaxis\":{\"automargin\":true,\"gridcolor\":\"white\",\"linecolor\":\"white\",\"ticks\":\"\",\"title\":{\"standoff\":15},\"zerolinecolor\":\"white\",\"zerolinewidth\":2}}},\"coloraxis\":{\"colorbar\":{\"title\":{\"text\":\"ave_score_firaks\"}},\"colorscale\":[[0.0,\"rgb(103,0,31)\"],[0.1,\"rgb(178,24,43)\"],[0.2,\"rgb(214,96,77)\"],[0.3,\"rgb(244,165,130)\"],[0.4,\"rgb(253,219,199)\"],[0.5,\"rgb(247,247,247)\"],[0.6,\"rgb(209,229,240)\"],[0.7,\"rgb(146,197,222)\"],[0.8,\"rgb(67,147,195)\"],[0.9,\"rgb(33,102,172)\"],[1.0,\"rgb(5,48,97)\"]],\"cmid\":144.39872372553106},\"legend\":{\"tracegroupgap\":0},\"margin\":{\"t\":50,\"l\":25,\"r\":25,\"b\":25},\"title\":{\"text\":\"R1 Structures: Frequency and Impact on Score Relative to All Factions Average (144.4): firaks\"}},                        {\"responsive\": true}                    ).then(function(){\n",
       "                            \n",
       "var gd = document.getElementById('b5dfcbaf-d19b-4af9-a9fc-cdd1277f8208');\n",
       "var x = new MutationObserver(function (mutations, observer) {{\n",
       "        var display = window.getComputedStyle(gd).display;\n",
       "        if (!display || display === 'none') {{\n",
       "            console.log([gd, 'removed!']);\n",
       "            Plotly.purge(gd);\n",
       "            observer.disconnect();\n",
       "        }}\n",
       "}});\n",
       "\n",
       "// Listen for the removal of the full notebook cells\n",
       "var notebookContainer = gd.closest('#notebook-container');\n",
       "if (notebookContainer) {{\n",
       "    x.observe(notebookContainer, {childList: true});\n",
       "}}\n",
       "\n",
       "// Listen for the clearing of the current output cell\n",
       "var outputEl = gd.closest('.output');\n",
       "if (outputEl) {{\n",
       "    x.observe(outputEl, {childList: true});\n",
       "}}\n",
       "\n",
       "                        })                };                });            </script>        </div>"
      ]
     },
     "metadata": {},
     "output_type": "display_data"
    },
    {
     "data": {
      "application/vnd.plotly.v1+json": {
       "config": {
        "plotlyServerURL": "https://plot.ly"
       },
       "data": [
        {
         "branchvalues": "total",
         "customdata": [
          [
           202.26923076923077,
           160.19230769230768
          ],
          [
           134,
           134.75
          ],
          [
           145.68421052631578,
           144.52631578947367
          ],
          [
           155.66666666666666,
           164.33333333333334
          ],
          [
           429,
           176
          ],
          [
           1,
           94
          ],
          [
           219.2258543833581,
           155.1040118870728
          ],
          [
           195.22137404580153,
           158.45801526717557
          ],
          [
           125.71428571428571,
           106.71428571428571
          ],
          [
           202.93333333333334,
           145
          ],
          [
           101.66666666666667,
           115.83333333333333
          ],
          [
           179,
           158.5
          ],
          [
           183.0531914893617,
           156.06382978723406
          ],
          [
           116.33333333333333,
           129.77777777777777
          ],
          [
           113.5,
           134
          ],
          [
           243.92586989409986,
           158.44326777609683
          ],
          [
           239.4334085778781,
           163.02483069977427
          ],
          [
           160.93023255813952,
           130.67441860465115
          ],
          [
           264.5,
           173.5
          ],
          [
           199.125,
           153.9375
          ],
          [
           174.1860465116279,
           141.62790697674419
          ],
          [
           1,
           100
          ],
          [
           191.5,
           145.16666666666666
          ],
          [
           223.60576923076923,
           154.31730769230768
          ],
          [
           176.77777777777777,
           126.33333333333333
          ],
          [
           234,
           163
          ],
          [
           100,
           84
          ],
          [
           327,
           178
          ],
          [
           206.5,
           150.75
          ],
          [
           186.23684210526315,
           135.05263157894737
          ],
          [
           289.5,
           163.5
          ],
          [
           30,
           86
          ],
          [
           293,
           152
          ],
          [
           276.93333333333334,
           160.73333333333332
          ],
          [
           282.5,
           177
          ],
          [
           "(?)",
           159.15555555555557
          ],
          [
           "(?)",
           156.46355685131195
          ],
          [
           "(?)",
           120.66666666666667
          ],
          [
           "(?)",
           136.9157894736842
          ],
          [
           "(?)",
           89
          ],
          [
           "(?)",
           155.52776219854178
          ]
         ],
         "domain": {
          "x": [
           0,
           1
          ],
          "y": [
           0,
           1
          ]
         },
         "hovertemplate": "labels=%{label}<br>class_counts=%{value}<br>parent=%{parent}<br>id=%{id}<br>ave_elo_itars=%{customdata[0]}<br>ave_score_itars=%{color}<extra></extra>",
         "ids": [
          "R1 Structs/PI/ 0-m_0-ts_1-lab_1-pi_0-ac1_0-ac2",
          "R1 Structs/ac1/ 0-m_1-ts_0-lab_0-pi_1-ac1_0-ac2",
          "R1 Structs/PI/ 0-m_1-ts_0-lab_1-pi_0-ac1_0-ac2",
          "R1 Structs/lab/ 0-m_1-ts_1-lab_0-pi_0-ac1_0-ac2",
          "R1 Structs/PI/ 0-m_2-ts_0-lab_1-pi_0-ac1_0-ac2",
          "R1 Structs/ac2/ 1-m_0-ts_0-lab_0-pi_0-ac1_1-ac2",
          "R1 Structs/ac1/ 1-m_0-ts_0-lab_0-pi_1-ac1_0-ac2",
          "R1 Structs/PI/ 1-m_0-ts_0-lab_1-pi_0-ac1_0-ac2",
          "R1 Structs/lab/ 1-m_0-ts_1-lab_0-pi_0-ac1_0-ac2",
          "R1 Structs/PI/ 1-m_0-ts_1-lab_1-pi_0-ac1_0-ac2",
          "R1 Structs/lab/ 1-m_0-ts_2-lab_0-pi_0-ac1_0-ac2",
          "R1 Structs/ac1/ 1-m_1-ts_0-lab_0-pi_1-ac1_0-ac2",
          "R1 Structs/PI/ 1-m_1-ts_0-lab_1-pi_0-ac1_0-ac2",
          "R1 Structs/lab/ 1-m_1-ts_1-lab_0-pi_0-ac1_0-ac2",
          "R1 Structs/ac2/ 2-m_0-ts_0-lab_0-pi_0-ac1_1-ac2",
          "R1 Structs/ac1/ 2-m_0-ts_0-lab_0-pi_1-ac1_0-ac2",
          "R1 Structs/PI/ 2-m_0-ts_0-lab_1-pi_0-ac1_0-ac2",
          "R1 Structs/lab/ 2-m_0-ts_1-lab_0-pi_0-ac1_0-ac2",
          "R1 Structs/lab/ 2-m_0-ts_2-lab_0-pi_0-ac1_0-ac2",
          "R1 Structs/PI/ 2-m_1-ts_0-lab_1-pi_0-ac1_0-ac2",
          "R1 Structs/lab/ 2-m_1-ts_1-lab_0-pi_0-ac1_0-ac2",
          "R1 Structs/m/ 3-m_0-ts_0-lab_0-pi_0-ac1_0-ac2",
          "R1 Structs/ac1/ 3-m_0-ts_0-lab_0-pi_1-ac1_0-ac2",
          "R1 Structs/PI/ 3-m_0-ts_0-lab_1-pi_0-ac1_0-ac2",
          "R1 Structs/lab/ 3-m_0-ts_1-lab_0-pi_0-ac1_0-ac2",
          "R1 Structs/lab/ 3-m_1-ts_1-lab_0-pi_0-ac1_0-ac2",
          "R1 Structs/m/ 4-m_0-ts_0-lab_0-pi_0-ac1_0-ac2",
          "R1 Structs/ac1/ 4-m_0-ts_0-lab_0-pi_1-ac1_0-ac2",
          "R1 Structs/PI/ 4-m_0-ts_0-lab_1-pi_0-ac1_0-ac2",
          "R1 Structs/lab/ 4-m_0-ts_1-lab_0-pi_0-ac1_0-ac2",
          "R1 Structs/lab/ 4-m_1-ts_1-lab_0-pi_0-ac1_0-ac2",
          "R1 Structs/m/ 5-m_0-ts_0-lab_0-pi_0-ac1_0-ac2",
          "R1 Structs/PI/ 5-m_0-ts_0-lab_1-pi_0-ac1_0-ac2",
          "R1 Structs/lab/ 5-m_0-ts_1-lab_0-pi_0-ac1_0-ac2",
          "R1 Structs/lab/ 6-m_0-ts_1-lab_0-pi_0-ac1_0-ac2",
          "R1 Structs/PI",
          "R1 Structs/ac1",
          "R1 Structs/ac2",
          "R1 Structs/lab",
          "R1 Structs/m",
          "R1 Structs"
         ],
         "labels": [
          " 0-m_0-ts_1-lab_1-pi_0-ac1_0-ac2",
          " 0-m_1-ts_0-lab_0-pi_1-ac1_0-ac2",
          " 0-m_1-ts_0-lab_1-pi_0-ac1_0-ac2",
          " 0-m_1-ts_1-lab_0-pi_0-ac1_0-ac2",
          " 0-m_2-ts_0-lab_1-pi_0-ac1_0-ac2",
          " 1-m_0-ts_0-lab_0-pi_0-ac1_1-ac2",
          " 1-m_0-ts_0-lab_0-pi_1-ac1_0-ac2",
          " 1-m_0-ts_0-lab_1-pi_0-ac1_0-ac2",
          " 1-m_0-ts_1-lab_0-pi_0-ac1_0-ac2",
          " 1-m_0-ts_1-lab_1-pi_0-ac1_0-ac2",
          " 1-m_0-ts_2-lab_0-pi_0-ac1_0-ac2",
          " 1-m_1-ts_0-lab_0-pi_1-ac1_0-ac2",
          " 1-m_1-ts_0-lab_1-pi_0-ac1_0-ac2",
          " 1-m_1-ts_1-lab_0-pi_0-ac1_0-ac2",
          " 2-m_0-ts_0-lab_0-pi_0-ac1_1-ac2",
          " 2-m_0-ts_0-lab_0-pi_1-ac1_0-ac2",
          " 2-m_0-ts_0-lab_1-pi_0-ac1_0-ac2",
          " 2-m_0-ts_1-lab_0-pi_0-ac1_0-ac2",
          " 2-m_0-ts_2-lab_0-pi_0-ac1_0-ac2",
          " 2-m_1-ts_0-lab_1-pi_0-ac1_0-ac2",
          " 2-m_1-ts_1-lab_0-pi_0-ac1_0-ac2",
          " 3-m_0-ts_0-lab_0-pi_0-ac1_0-ac2",
          " 3-m_0-ts_0-lab_0-pi_1-ac1_0-ac2",
          " 3-m_0-ts_0-lab_1-pi_0-ac1_0-ac2",
          " 3-m_0-ts_1-lab_0-pi_0-ac1_0-ac2",
          " 3-m_1-ts_1-lab_0-pi_0-ac1_0-ac2",
          " 4-m_0-ts_0-lab_0-pi_0-ac1_0-ac2",
          " 4-m_0-ts_0-lab_0-pi_1-ac1_0-ac2",
          " 4-m_0-ts_0-lab_1-pi_0-ac1_0-ac2",
          " 4-m_0-ts_1-lab_0-pi_0-ac1_0-ac2",
          " 4-m_1-ts_1-lab_0-pi_0-ac1_0-ac2",
          " 5-m_0-ts_0-lab_0-pi_0-ac1_0-ac2",
          " 5-m_0-ts_0-lab_1-pi_0-ac1_0-ac2",
          " 5-m_0-ts_1-lab_0-pi_0-ac1_0-ac2",
          " 6-m_0-ts_1-lab_0-pi_0-ac1_0-ac2",
          "PI",
          "ac1",
          "ac2",
          "lab",
          "m",
          "R1 Structs"
         ],
         "marker": {
          "coloraxis": "coloraxis",
          "colors": [
           160.19230769230768,
           134.75,
           144.52631578947367,
           164.33333333333334,
           176,
           94,
           155.1040118870728,
           158.45801526717557,
           106.71428571428571,
           145,
           115.83333333333333,
           158.5,
           156.06382978723406,
           129.77777777777777,
           134,
           158.44326777609683,
           163.02483069977427,
           130.67441860465115,
           173.5,
           153.9375,
           141.62790697674419,
           100,
           145.16666666666666,
           154.31730769230768,
           126.33333333333333,
           163,
           84,
           178,
           150.75,
           135.05263157894737,
           163.5,
           86,
           152,
           160.73333333333332,
           177,
           159.15555555555557,
           156.46355685131195,
           120.66666666666667,
           136.9157894736842,
           89,
           155.52776219854178
          ]
         },
         "name": "",
         "parents": [
          "R1 Structs/PI",
          "R1 Structs/ac1",
          "R1 Structs/PI",
          "R1 Structs/lab",
          "R1 Structs/PI",
          "R1 Structs/ac2",
          "R1 Structs/ac1",
          "R1 Structs/PI",
          "R1 Structs/lab",
          "R1 Structs/PI",
          "R1 Structs/lab",
          "R1 Structs/ac1",
          "R1 Structs/PI",
          "R1 Structs/lab",
          "R1 Structs/ac2",
          "R1 Structs/ac1",
          "R1 Structs/PI",
          "R1 Structs/lab",
          "R1 Structs/lab",
          "R1 Structs/PI",
          "R1 Structs/lab",
          "R1 Structs/m",
          "R1 Structs/ac1",
          "R1 Structs/PI",
          "R1 Structs/lab",
          "R1 Structs/lab",
          "R1 Structs/m",
          "R1 Structs/ac1",
          "R1 Structs/PI",
          "R1 Structs/lab",
          "R1 Structs/lab",
          "R1 Structs/m",
          "R1 Structs/PI",
          "R1 Structs/lab",
          "R1 Structs/lab",
          "R1 Structs",
          "R1 Structs",
          "R1 Structs",
          "R1 Structs",
          "R1 Structs",
          ""
         ],
         "type": "treemap",
         "values": [
          104,
          8,
          76,
          6,
          2,
          2,
          673,
          262,
          14,
          30,
          12,
          4,
          188,
          36,
          4,
          661,
          886,
          86,
          4,
          32,
          86,
          2,
          24,
          208,
          18,
          4,
          2,
          2,
          8,
          76,
          4,
          4,
          4,
          30,
          4,
          1800,
          1372,
          6,
          380,
          8,
          3566
         ]
        }
       ],
       "layout": {
        "coloraxis": {
         "cmid": 144.39872372553106,
         "colorbar": {
          "title": {
           "text": "ave_score_itars"
          }
         },
         "colorscale": [
          [
           0,
           "rgb(103,0,31)"
          ],
          [
           0.1,
           "rgb(178,24,43)"
          ],
          [
           0.2,
           "rgb(214,96,77)"
          ],
          [
           0.3,
           "rgb(244,165,130)"
          ],
          [
           0.4,
           "rgb(253,219,199)"
          ],
          [
           0.5,
           "rgb(247,247,247)"
          ],
          [
           0.6,
           "rgb(209,229,240)"
          ],
          [
           0.7,
           "rgb(146,197,222)"
          ],
          [
           0.8,
           "rgb(67,147,195)"
          ],
          [
           0.9,
           "rgb(33,102,172)"
          ],
          [
           1,
           "rgb(5,48,97)"
          ]
         ]
        },
        "legend": {
         "tracegroupgap": 0
        },
        "margin": {
         "b": 25,
         "l": 25,
         "r": 25,
         "t": 50
        },
        "template": {
         "data": {
          "bar": [
           {
            "error_x": {
             "color": "#2a3f5f"
            },
            "error_y": {
             "color": "#2a3f5f"
            },
            "marker": {
             "line": {
              "color": "#E5ECF6",
              "width": 0.5
             },
             "pattern": {
              "fillmode": "overlay",
              "size": 10,
              "solidity": 0.2
             }
            },
            "type": "bar"
           }
          ],
          "barpolar": [
           {
            "marker": {
             "line": {
              "color": "#E5ECF6",
              "width": 0.5
             },
             "pattern": {
              "fillmode": "overlay",
              "size": 10,
              "solidity": 0.2
             }
            },
            "type": "barpolar"
           }
          ],
          "carpet": [
           {
            "aaxis": {
             "endlinecolor": "#2a3f5f",
             "gridcolor": "white",
             "linecolor": "white",
             "minorgridcolor": "white",
             "startlinecolor": "#2a3f5f"
            },
            "baxis": {
             "endlinecolor": "#2a3f5f",
             "gridcolor": "white",
             "linecolor": "white",
             "minorgridcolor": "white",
             "startlinecolor": "#2a3f5f"
            },
            "type": "carpet"
           }
          ],
          "choropleth": [
           {
            "colorbar": {
             "outlinewidth": 0,
             "ticks": ""
            },
            "type": "choropleth"
           }
          ],
          "contour": [
           {
            "colorbar": {
             "outlinewidth": 0,
             "ticks": ""
            },
            "colorscale": [
             [
              0,
              "#0d0887"
             ],
             [
              0.1111111111111111,
              "#46039f"
             ],
             [
              0.2222222222222222,
              "#7201a8"
             ],
             [
              0.3333333333333333,
              "#9c179e"
             ],
             [
              0.4444444444444444,
              "#bd3786"
             ],
             [
              0.5555555555555556,
              "#d8576b"
             ],
             [
              0.6666666666666666,
              "#ed7953"
             ],
             [
              0.7777777777777778,
              "#fb9f3a"
             ],
             [
              0.8888888888888888,
              "#fdca26"
             ],
             [
              1,
              "#f0f921"
             ]
            ],
            "type": "contour"
           }
          ],
          "contourcarpet": [
           {
            "colorbar": {
             "outlinewidth": 0,
             "ticks": ""
            },
            "type": "contourcarpet"
           }
          ],
          "heatmap": [
           {
            "colorbar": {
             "outlinewidth": 0,
             "ticks": ""
            },
            "colorscale": [
             [
              0,
              "#0d0887"
             ],
             [
              0.1111111111111111,
              "#46039f"
             ],
             [
              0.2222222222222222,
              "#7201a8"
             ],
             [
              0.3333333333333333,
              "#9c179e"
             ],
             [
              0.4444444444444444,
              "#bd3786"
             ],
             [
              0.5555555555555556,
              "#d8576b"
             ],
             [
              0.6666666666666666,
              "#ed7953"
             ],
             [
              0.7777777777777778,
              "#fb9f3a"
             ],
             [
              0.8888888888888888,
              "#fdca26"
             ],
             [
              1,
              "#f0f921"
             ]
            ],
            "type": "heatmap"
           }
          ],
          "heatmapgl": [
           {
            "colorbar": {
             "outlinewidth": 0,
             "ticks": ""
            },
            "colorscale": [
             [
              0,
              "#0d0887"
             ],
             [
              0.1111111111111111,
              "#46039f"
             ],
             [
              0.2222222222222222,
              "#7201a8"
             ],
             [
              0.3333333333333333,
              "#9c179e"
             ],
             [
              0.4444444444444444,
              "#bd3786"
             ],
             [
              0.5555555555555556,
              "#d8576b"
             ],
             [
              0.6666666666666666,
              "#ed7953"
             ],
             [
              0.7777777777777778,
              "#fb9f3a"
             ],
             [
              0.8888888888888888,
              "#fdca26"
             ],
             [
              1,
              "#f0f921"
             ]
            ],
            "type": "heatmapgl"
           }
          ],
          "histogram": [
           {
            "marker": {
             "pattern": {
              "fillmode": "overlay",
              "size": 10,
              "solidity": 0.2
             }
            },
            "type": "histogram"
           }
          ],
          "histogram2d": [
           {
            "colorbar": {
             "outlinewidth": 0,
             "ticks": ""
            },
            "colorscale": [
             [
              0,
              "#0d0887"
             ],
             [
              0.1111111111111111,
              "#46039f"
             ],
             [
              0.2222222222222222,
              "#7201a8"
             ],
             [
              0.3333333333333333,
              "#9c179e"
             ],
             [
              0.4444444444444444,
              "#bd3786"
             ],
             [
              0.5555555555555556,
              "#d8576b"
             ],
             [
              0.6666666666666666,
              "#ed7953"
             ],
             [
              0.7777777777777778,
              "#fb9f3a"
             ],
             [
              0.8888888888888888,
              "#fdca26"
             ],
             [
              1,
              "#f0f921"
             ]
            ],
            "type": "histogram2d"
           }
          ],
          "histogram2dcontour": [
           {
            "colorbar": {
             "outlinewidth": 0,
             "ticks": ""
            },
            "colorscale": [
             [
              0,
              "#0d0887"
             ],
             [
              0.1111111111111111,
              "#46039f"
             ],
             [
              0.2222222222222222,
              "#7201a8"
             ],
             [
              0.3333333333333333,
              "#9c179e"
             ],
             [
              0.4444444444444444,
              "#bd3786"
             ],
             [
              0.5555555555555556,
              "#d8576b"
             ],
             [
              0.6666666666666666,
              "#ed7953"
             ],
             [
              0.7777777777777778,
              "#fb9f3a"
             ],
             [
              0.8888888888888888,
              "#fdca26"
             ],
             [
              1,
              "#f0f921"
             ]
            ],
            "type": "histogram2dcontour"
           }
          ],
          "mesh3d": [
           {
            "colorbar": {
             "outlinewidth": 0,
             "ticks": ""
            },
            "type": "mesh3d"
           }
          ],
          "parcoords": [
           {
            "line": {
             "colorbar": {
              "outlinewidth": 0,
              "ticks": ""
             }
            },
            "type": "parcoords"
           }
          ],
          "pie": [
           {
            "automargin": true,
            "type": "pie"
           }
          ],
          "scatter": [
           {
            "marker": {
             "colorbar": {
              "outlinewidth": 0,
              "ticks": ""
             }
            },
            "type": "scatter"
           }
          ],
          "scatter3d": [
           {
            "line": {
             "colorbar": {
              "outlinewidth": 0,
              "ticks": ""
             }
            },
            "marker": {
             "colorbar": {
              "outlinewidth": 0,
              "ticks": ""
             }
            },
            "type": "scatter3d"
           }
          ],
          "scattercarpet": [
           {
            "marker": {
             "colorbar": {
              "outlinewidth": 0,
              "ticks": ""
             }
            },
            "type": "scattercarpet"
           }
          ],
          "scattergeo": [
           {
            "marker": {
             "colorbar": {
              "outlinewidth": 0,
              "ticks": ""
             }
            },
            "type": "scattergeo"
           }
          ],
          "scattergl": [
           {
            "marker": {
             "colorbar": {
              "outlinewidth": 0,
              "ticks": ""
             }
            },
            "type": "scattergl"
           }
          ],
          "scattermapbox": [
           {
            "marker": {
             "colorbar": {
              "outlinewidth": 0,
              "ticks": ""
             }
            },
            "type": "scattermapbox"
           }
          ],
          "scatterpolar": [
           {
            "marker": {
             "colorbar": {
              "outlinewidth": 0,
              "ticks": ""
             }
            },
            "type": "scatterpolar"
           }
          ],
          "scatterpolargl": [
           {
            "marker": {
             "colorbar": {
              "outlinewidth": 0,
              "ticks": ""
             }
            },
            "type": "scatterpolargl"
           }
          ],
          "scatterternary": [
           {
            "marker": {
             "colorbar": {
              "outlinewidth": 0,
              "ticks": ""
             }
            },
            "type": "scatterternary"
           }
          ],
          "surface": [
           {
            "colorbar": {
             "outlinewidth": 0,
             "ticks": ""
            },
            "colorscale": [
             [
              0,
              "#0d0887"
             ],
             [
              0.1111111111111111,
              "#46039f"
             ],
             [
              0.2222222222222222,
              "#7201a8"
             ],
             [
              0.3333333333333333,
              "#9c179e"
             ],
             [
              0.4444444444444444,
              "#bd3786"
             ],
             [
              0.5555555555555556,
              "#d8576b"
             ],
             [
              0.6666666666666666,
              "#ed7953"
             ],
             [
              0.7777777777777778,
              "#fb9f3a"
             ],
             [
              0.8888888888888888,
              "#fdca26"
             ],
             [
              1,
              "#f0f921"
             ]
            ],
            "type": "surface"
           }
          ],
          "table": [
           {
            "cells": {
             "fill": {
              "color": "#EBF0F8"
             },
             "line": {
              "color": "white"
             }
            },
            "header": {
             "fill": {
              "color": "#C8D4E3"
             },
             "line": {
              "color": "white"
             }
            },
            "type": "table"
           }
          ]
         },
         "layout": {
          "annotationdefaults": {
           "arrowcolor": "#2a3f5f",
           "arrowhead": 0,
           "arrowwidth": 1
          },
          "autotypenumbers": "strict",
          "coloraxis": {
           "colorbar": {
            "outlinewidth": 0,
            "ticks": ""
           }
          },
          "colorscale": {
           "diverging": [
            [
             0,
             "#8e0152"
            ],
            [
             0.1,
             "#c51b7d"
            ],
            [
             0.2,
             "#de77ae"
            ],
            [
             0.3,
             "#f1b6da"
            ],
            [
             0.4,
             "#fde0ef"
            ],
            [
             0.5,
             "#f7f7f7"
            ],
            [
             0.6,
             "#e6f5d0"
            ],
            [
             0.7,
             "#b8e186"
            ],
            [
             0.8,
             "#7fbc41"
            ],
            [
             0.9,
             "#4d9221"
            ],
            [
             1,
             "#276419"
            ]
           ],
           "sequential": [
            [
             0,
             "#0d0887"
            ],
            [
             0.1111111111111111,
             "#46039f"
            ],
            [
             0.2222222222222222,
             "#7201a8"
            ],
            [
             0.3333333333333333,
             "#9c179e"
            ],
            [
             0.4444444444444444,
             "#bd3786"
            ],
            [
             0.5555555555555556,
             "#d8576b"
            ],
            [
             0.6666666666666666,
             "#ed7953"
            ],
            [
             0.7777777777777778,
             "#fb9f3a"
            ],
            [
             0.8888888888888888,
             "#fdca26"
            ],
            [
             1,
             "#f0f921"
            ]
           ],
           "sequentialminus": [
            [
             0,
             "#0d0887"
            ],
            [
             0.1111111111111111,
             "#46039f"
            ],
            [
             0.2222222222222222,
             "#7201a8"
            ],
            [
             0.3333333333333333,
             "#9c179e"
            ],
            [
             0.4444444444444444,
             "#bd3786"
            ],
            [
             0.5555555555555556,
             "#d8576b"
            ],
            [
             0.6666666666666666,
             "#ed7953"
            ],
            [
             0.7777777777777778,
             "#fb9f3a"
            ],
            [
             0.8888888888888888,
             "#fdca26"
            ],
            [
             1,
             "#f0f921"
            ]
           ]
          },
          "colorway": [
           "#636efa",
           "#EF553B",
           "#00cc96",
           "#ab63fa",
           "#FFA15A",
           "#19d3f3",
           "#FF6692",
           "#B6E880",
           "#FF97FF",
           "#FECB52"
          ],
          "font": {
           "color": "#2a3f5f"
          },
          "geo": {
           "bgcolor": "white",
           "lakecolor": "white",
           "landcolor": "#E5ECF6",
           "showlakes": true,
           "showland": true,
           "subunitcolor": "white"
          },
          "hoverlabel": {
           "align": "left"
          },
          "hovermode": "closest",
          "mapbox": {
           "style": "light"
          },
          "paper_bgcolor": "white",
          "plot_bgcolor": "#E5ECF6",
          "polar": {
           "angularaxis": {
            "gridcolor": "white",
            "linecolor": "white",
            "ticks": ""
           },
           "bgcolor": "#E5ECF6",
           "radialaxis": {
            "gridcolor": "white",
            "linecolor": "white",
            "ticks": ""
           }
          },
          "scene": {
           "xaxis": {
            "backgroundcolor": "#E5ECF6",
            "gridcolor": "white",
            "gridwidth": 2,
            "linecolor": "white",
            "showbackground": true,
            "ticks": "",
            "zerolinecolor": "white"
           },
           "yaxis": {
            "backgroundcolor": "#E5ECF6",
            "gridcolor": "white",
            "gridwidth": 2,
            "linecolor": "white",
            "showbackground": true,
            "ticks": "",
            "zerolinecolor": "white"
           },
           "zaxis": {
            "backgroundcolor": "#E5ECF6",
            "gridcolor": "white",
            "gridwidth": 2,
            "linecolor": "white",
            "showbackground": true,
            "ticks": "",
            "zerolinecolor": "white"
           }
          },
          "shapedefaults": {
           "line": {
            "color": "#2a3f5f"
           }
          },
          "ternary": {
           "aaxis": {
            "gridcolor": "white",
            "linecolor": "white",
            "ticks": ""
           },
           "baxis": {
            "gridcolor": "white",
            "linecolor": "white",
            "ticks": ""
           },
           "bgcolor": "#E5ECF6",
           "caxis": {
            "gridcolor": "white",
            "linecolor": "white",
            "ticks": ""
           }
          },
          "title": {
           "x": 0.05
          },
          "xaxis": {
           "automargin": true,
           "gridcolor": "white",
           "linecolor": "white",
           "ticks": "",
           "title": {
            "standoff": 15
           },
           "zerolinecolor": "white",
           "zerolinewidth": 2
          },
          "yaxis": {
           "automargin": true,
           "gridcolor": "white",
           "linecolor": "white",
           "ticks": "",
           "title": {
            "standoff": 15
           },
           "zerolinecolor": "white",
           "zerolinewidth": 2
          }
         }
        },
        "title": {
         "text": "R1 Structures: Frequency and Impact on Score Relative to All Factions Average (144.4): itars"
        }
       }
      },
      "text/html": [
       "<div>                            <div id=\"195ed146-7484-4af8-aecb-54b2ad7b3f8b\" class=\"plotly-graph-div\" style=\"height:525px; width:100%;\"></div>            <script type=\"text/javascript\">                require([\"plotly\"], function(Plotly) {                    window.PLOTLYENV=window.PLOTLYENV || {};                                    if (document.getElementById(\"195ed146-7484-4af8-aecb-54b2ad7b3f8b\")) {                    Plotly.newPlot(                        \"195ed146-7484-4af8-aecb-54b2ad7b3f8b\",                        [{\"branchvalues\":\"total\",\"customdata\":[[202.26923076923077,160.19230769230768],[134.0,134.75],[145.68421052631578,144.52631578947367],[155.66666666666666,164.33333333333334],[429.0,176.0],[1.0,94.0],[219.2258543833581,155.1040118870728],[195.22137404580153,158.45801526717557],[125.71428571428571,106.71428571428571],[202.93333333333334,145.0],[101.66666666666667,115.83333333333333],[179.0,158.5],[183.0531914893617,156.06382978723406],[116.33333333333333,129.77777777777777],[113.5,134.0],[243.92586989409986,158.44326777609683],[239.4334085778781,163.02483069977427],[160.93023255813952,130.67441860465115],[264.5,173.5],[199.125,153.9375],[174.1860465116279,141.62790697674419],[1.0,100.0],[191.5,145.16666666666666],[223.60576923076923,154.31730769230768],[176.77777777777777,126.33333333333333],[234.0,163.0],[100.0,84.0],[327.0,178.0],[206.5,150.75],[186.23684210526315,135.05263157894737],[289.5,163.5],[30.0,86.0],[293.0,152.0],[276.93333333333334,160.73333333333332],[282.5,177.0],[\"(?)\",159.15555555555557],[\"(?)\",156.46355685131195],[\"(?)\",120.66666666666667],[\"(?)\",136.9157894736842],[\"(?)\",89.0],[\"(?)\",155.52776219854178]],\"domain\":{\"x\":[0.0,1.0],\"y\":[0.0,1.0]},\"hovertemplate\":\"labels=%{label}<br>class_counts=%{value}<br>parent=%{parent}<br>id=%{id}<br>ave_elo_itars=%{customdata[0]}<br>ave_score_itars=%{color}<extra></extra>\",\"ids\":[\"R1 Structs/PI/ 0-m_0-ts_1-lab_1-pi_0-ac1_0-ac2\",\"R1 Structs/ac1/ 0-m_1-ts_0-lab_0-pi_1-ac1_0-ac2\",\"R1 Structs/PI/ 0-m_1-ts_0-lab_1-pi_0-ac1_0-ac2\",\"R1 Structs/lab/ 0-m_1-ts_1-lab_0-pi_0-ac1_0-ac2\",\"R1 Structs/PI/ 0-m_2-ts_0-lab_1-pi_0-ac1_0-ac2\",\"R1 Structs/ac2/ 1-m_0-ts_0-lab_0-pi_0-ac1_1-ac2\",\"R1 Structs/ac1/ 1-m_0-ts_0-lab_0-pi_1-ac1_0-ac2\",\"R1 Structs/PI/ 1-m_0-ts_0-lab_1-pi_0-ac1_0-ac2\",\"R1 Structs/lab/ 1-m_0-ts_1-lab_0-pi_0-ac1_0-ac2\",\"R1 Structs/PI/ 1-m_0-ts_1-lab_1-pi_0-ac1_0-ac2\",\"R1 Structs/lab/ 1-m_0-ts_2-lab_0-pi_0-ac1_0-ac2\",\"R1 Structs/ac1/ 1-m_1-ts_0-lab_0-pi_1-ac1_0-ac2\",\"R1 Structs/PI/ 1-m_1-ts_0-lab_1-pi_0-ac1_0-ac2\",\"R1 Structs/lab/ 1-m_1-ts_1-lab_0-pi_0-ac1_0-ac2\",\"R1 Structs/ac2/ 2-m_0-ts_0-lab_0-pi_0-ac1_1-ac2\",\"R1 Structs/ac1/ 2-m_0-ts_0-lab_0-pi_1-ac1_0-ac2\",\"R1 Structs/PI/ 2-m_0-ts_0-lab_1-pi_0-ac1_0-ac2\",\"R1 Structs/lab/ 2-m_0-ts_1-lab_0-pi_0-ac1_0-ac2\",\"R1 Structs/lab/ 2-m_0-ts_2-lab_0-pi_0-ac1_0-ac2\",\"R1 Structs/PI/ 2-m_1-ts_0-lab_1-pi_0-ac1_0-ac2\",\"R1 Structs/lab/ 2-m_1-ts_1-lab_0-pi_0-ac1_0-ac2\",\"R1 Structs/m/ 3-m_0-ts_0-lab_0-pi_0-ac1_0-ac2\",\"R1 Structs/ac1/ 3-m_0-ts_0-lab_0-pi_1-ac1_0-ac2\",\"R1 Structs/PI/ 3-m_0-ts_0-lab_1-pi_0-ac1_0-ac2\",\"R1 Structs/lab/ 3-m_0-ts_1-lab_0-pi_0-ac1_0-ac2\",\"R1 Structs/lab/ 3-m_1-ts_1-lab_0-pi_0-ac1_0-ac2\",\"R1 Structs/m/ 4-m_0-ts_0-lab_0-pi_0-ac1_0-ac2\",\"R1 Structs/ac1/ 4-m_0-ts_0-lab_0-pi_1-ac1_0-ac2\",\"R1 Structs/PI/ 4-m_0-ts_0-lab_1-pi_0-ac1_0-ac2\",\"R1 Structs/lab/ 4-m_0-ts_1-lab_0-pi_0-ac1_0-ac2\",\"R1 Structs/lab/ 4-m_1-ts_1-lab_0-pi_0-ac1_0-ac2\",\"R1 Structs/m/ 5-m_0-ts_0-lab_0-pi_0-ac1_0-ac2\",\"R1 Structs/PI/ 5-m_0-ts_0-lab_1-pi_0-ac1_0-ac2\",\"R1 Structs/lab/ 5-m_0-ts_1-lab_0-pi_0-ac1_0-ac2\",\"R1 Structs/lab/ 6-m_0-ts_1-lab_0-pi_0-ac1_0-ac2\",\"R1 Structs/PI\",\"R1 Structs/ac1\",\"R1 Structs/ac2\",\"R1 Structs/lab\",\"R1 Structs/m\",\"R1 Structs\"],\"labels\":[\" 0-m_0-ts_1-lab_1-pi_0-ac1_0-ac2\",\" 0-m_1-ts_0-lab_0-pi_1-ac1_0-ac2\",\" 0-m_1-ts_0-lab_1-pi_0-ac1_0-ac2\",\" 0-m_1-ts_1-lab_0-pi_0-ac1_0-ac2\",\" 0-m_2-ts_0-lab_1-pi_0-ac1_0-ac2\",\" 1-m_0-ts_0-lab_0-pi_0-ac1_1-ac2\",\" 1-m_0-ts_0-lab_0-pi_1-ac1_0-ac2\",\" 1-m_0-ts_0-lab_1-pi_0-ac1_0-ac2\",\" 1-m_0-ts_1-lab_0-pi_0-ac1_0-ac2\",\" 1-m_0-ts_1-lab_1-pi_0-ac1_0-ac2\",\" 1-m_0-ts_2-lab_0-pi_0-ac1_0-ac2\",\" 1-m_1-ts_0-lab_0-pi_1-ac1_0-ac2\",\" 1-m_1-ts_0-lab_1-pi_0-ac1_0-ac2\",\" 1-m_1-ts_1-lab_0-pi_0-ac1_0-ac2\",\" 2-m_0-ts_0-lab_0-pi_0-ac1_1-ac2\",\" 2-m_0-ts_0-lab_0-pi_1-ac1_0-ac2\",\" 2-m_0-ts_0-lab_1-pi_0-ac1_0-ac2\",\" 2-m_0-ts_1-lab_0-pi_0-ac1_0-ac2\",\" 2-m_0-ts_2-lab_0-pi_0-ac1_0-ac2\",\" 2-m_1-ts_0-lab_1-pi_0-ac1_0-ac2\",\" 2-m_1-ts_1-lab_0-pi_0-ac1_0-ac2\",\" 3-m_0-ts_0-lab_0-pi_0-ac1_0-ac2\",\" 3-m_0-ts_0-lab_0-pi_1-ac1_0-ac2\",\" 3-m_0-ts_0-lab_1-pi_0-ac1_0-ac2\",\" 3-m_0-ts_1-lab_0-pi_0-ac1_0-ac2\",\" 3-m_1-ts_1-lab_0-pi_0-ac1_0-ac2\",\" 4-m_0-ts_0-lab_0-pi_0-ac1_0-ac2\",\" 4-m_0-ts_0-lab_0-pi_1-ac1_0-ac2\",\" 4-m_0-ts_0-lab_1-pi_0-ac1_0-ac2\",\" 4-m_0-ts_1-lab_0-pi_0-ac1_0-ac2\",\" 4-m_1-ts_1-lab_0-pi_0-ac1_0-ac2\",\" 5-m_0-ts_0-lab_0-pi_0-ac1_0-ac2\",\" 5-m_0-ts_0-lab_1-pi_0-ac1_0-ac2\",\" 5-m_0-ts_1-lab_0-pi_0-ac1_0-ac2\",\" 6-m_0-ts_1-lab_0-pi_0-ac1_0-ac2\",\"PI\",\"ac1\",\"ac2\",\"lab\",\"m\",\"R1 Structs\"],\"marker\":{\"coloraxis\":\"coloraxis\",\"colors\":[160.19230769230768,134.75,144.52631578947367,164.33333333333334,176.0,94.0,155.1040118870728,158.45801526717557,106.71428571428571,145.0,115.83333333333333,158.5,156.06382978723406,129.77777777777777,134.0,158.44326777609683,163.02483069977427,130.67441860465115,173.5,153.9375,141.62790697674419,100.0,145.16666666666666,154.31730769230768,126.33333333333333,163.0,84.0,178.0,150.75,135.05263157894737,163.5,86.0,152.0,160.73333333333332,177.0,159.15555555555557,156.46355685131195,120.66666666666667,136.9157894736842,89.0,155.52776219854178]},\"name\":\"\",\"parents\":[\"R1 Structs/PI\",\"R1 Structs/ac1\",\"R1 Structs/PI\",\"R1 Structs/lab\",\"R1 Structs/PI\",\"R1 Structs/ac2\",\"R1 Structs/ac1\",\"R1 Structs/PI\",\"R1 Structs/lab\",\"R1 Structs/PI\",\"R1 Structs/lab\",\"R1 Structs/ac1\",\"R1 Structs/PI\",\"R1 Structs/lab\",\"R1 Structs/ac2\",\"R1 Structs/ac1\",\"R1 Structs/PI\",\"R1 Structs/lab\",\"R1 Structs/lab\",\"R1 Structs/PI\",\"R1 Structs/lab\",\"R1 Structs/m\",\"R1 Structs/ac1\",\"R1 Structs/PI\",\"R1 Structs/lab\",\"R1 Structs/lab\",\"R1 Structs/m\",\"R1 Structs/ac1\",\"R1 Structs/PI\",\"R1 Structs/lab\",\"R1 Structs/lab\",\"R1 Structs/m\",\"R1 Structs/PI\",\"R1 Structs/lab\",\"R1 Structs/lab\",\"R1 Structs\",\"R1 Structs\",\"R1 Structs\",\"R1 Structs\",\"R1 Structs\",\"\"],\"values\":[104,8,76,6,2,2,673,262,14,30,12,4,188,36,4,661,886,86,4,32,86,2,24,208,18,4,2,2,8,76,4,4,4,30,4,1800,1372,6,380,8,3566],\"type\":\"treemap\"}],                        {\"template\":{\"data\":{\"bar\":[{\"error_x\":{\"color\":\"#2a3f5f\"},\"error_y\":{\"color\":\"#2a3f5f\"},\"marker\":{\"line\":{\"color\":\"#E5ECF6\",\"width\":0.5},\"pattern\":{\"fillmode\":\"overlay\",\"size\":10,\"solidity\":0.2}},\"type\":\"bar\"}],\"barpolar\":[{\"marker\":{\"line\":{\"color\":\"#E5ECF6\",\"width\":0.5},\"pattern\":{\"fillmode\":\"overlay\",\"size\":10,\"solidity\":0.2}},\"type\":\"barpolar\"}],\"carpet\":[{\"aaxis\":{\"endlinecolor\":\"#2a3f5f\",\"gridcolor\":\"white\",\"linecolor\":\"white\",\"minorgridcolor\":\"white\",\"startlinecolor\":\"#2a3f5f\"},\"baxis\":{\"endlinecolor\":\"#2a3f5f\",\"gridcolor\":\"white\",\"linecolor\":\"white\",\"minorgridcolor\":\"white\",\"startlinecolor\":\"#2a3f5f\"},\"type\":\"carpet\"}],\"choropleth\":[{\"colorbar\":{\"outlinewidth\":0,\"ticks\":\"\"},\"type\":\"choropleth\"}],\"contour\":[{\"colorbar\":{\"outlinewidth\":0,\"ticks\":\"\"},\"colorscale\":[[0.0,\"#0d0887\"],[0.1111111111111111,\"#46039f\"],[0.2222222222222222,\"#7201a8\"],[0.3333333333333333,\"#9c179e\"],[0.4444444444444444,\"#bd3786\"],[0.5555555555555556,\"#d8576b\"],[0.6666666666666666,\"#ed7953\"],[0.7777777777777778,\"#fb9f3a\"],[0.8888888888888888,\"#fdca26\"],[1.0,\"#f0f921\"]],\"type\":\"contour\"}],\"contourcarpet\":[{\"colorbar\":{\"outlinewidth\":0,\"ticks\":\"\"},\"type\":\"contourcarpet\"}],\"heatmap\":[{\"colorbar\":{\"outlinewidth\":0,\"ticks\":\"\"},\"colorscale\":[[0.0,\"#0d0887\"],[0.1111111111111111,\"#46039f\"],[0.2222222222222222,\"#7201a8\"],[0.3333333333333333,\"#9c179e\"],[0.4444444444444444,\"#bd3786\"],[0.5555555555555556,\"#d8576b\"],[0.6666666666666666,\"#ed7953\"],[0.7777777777777778,\"#fb9f3a\"],[0.8888888888888888,\"#fdca26\"],[1.0,\"#f0f921\"]],\"type\":\"heatmap\"}],\"heatmapgl\":[{\"colorbar\":{\"outlinewidth\":0,\"ticks\":\"\"},\"colorscale\":[[0.0,\"#0d0887\"],[0.1111111111111111,\"#46039f\"],[0.2222222222222222,\"#7201a8\"],[0.3333333333333333,\"#9c179e\"],[0.4444444444444444,\"#bd3786\"],[0.5555555555555556,\"#d8576b\"],[0.6666666666666666,\"#ed7953\"],[0.7777777777777778,\"#fb9f3a\"],[0.8888888888888888,\"#fdca26\"],[1.0,\"#f0f921\"]],\"type\":\"heatmapgl\"}],\"histogram\":[{\"marker\":{\"pattern\":{\"fillmode\":\"overlay\",\"size\":10,\"solidity\":0.2}},\"type\":\"histogram\"}],\"histogram2d\":[{\"colorbar\":{\"outlinewidth\":0,\"ticks\":\"\"},\"colorscale\":[[0.0,\"#0d0887\"],[0.1111111111111111,\"#46039f\"],[0.2222222222222222,\"#7201a8\"],[0.3333333333333333,\"#9c179e\"],[0.4444444444444444,\"#bd3786\"],[0.5555555555555556,\"#d8576b\"],[0.6666666666666666,\"#ed7953\"],[0.7777777777777778,\"#fb9f3a\"],[0.8888888888888888,\"#fdca26\"],[1.0,\"#f0f921\"]],\"type\":\"histogram2d\"}],\"histogram2dcontour\":[{\"colorbar\":{\"outlinewidth\":0,\"ticks\":\"\"},\"colorscale\":[[0.0,\"#0d0887\"],[0.1111111111111111,\"#46039f\"],[0.2222222222222222,\"#7201a8\"],[0.3333333333333333,\"#9c179e\"],[0.4444444444444444,\"#bd3786\"],[0.5555555555555556,\"#d8576b\"],[0.6666666666666666,\"#ed7953\"],[0.7777777777777778,\"#fb9f3a\"],[0.8888888888888888,\"#fdca26\"],[1.0,\"#f0f921\"]],\"type\":\"histogram2dcontour\"}],\"mesh3d\":[{\"colorbar\":{\"outlinewidth\":0,\"ticks\":\"\"},\"type\":\"mesh3d\"}],\"parcoords\":[{\"line\":{\"colorbar\":{\"outlinewidth\":0,\"ticks\":\"\"}},\"type\":\"parcoords\"}],\"pie\":[{\"automargin\":true,\"type\":\"pie\"}],\"scatter\":[{\"marker\":{\"colorbar\":{\"outlinewidth\":0,\"ticks\":\"\"}},\"type\":\"scatter\"}],\"scatter3d\":[{\"line\":{\"colorbar\":{\"outlinewidth\":0,\"ticks\":\"\"}},\"marker\":{\"colorbar\":{\"outlinewidth\":0,\"ticks\":\"\"}},\"type\":\"scatter3d\"}],\"scattercarpet\":[{\"marker\":{\"colorbar\":{\"outlinewidth\":0,\"ticks\":\"\"}},\"type\":\"scattercarpet\"}],\"scattergeo\":[{\"marker\":{\"colorbar\":{\"outlinewidth\":0,\"ticks\":\"\"}},\"type\":\"scattergeo\"}],\"scattergl\":[{\"marker\":{\"colorbar\":{\"outlinewidth\":0,\"ticks\":\"\"}},\"type\":\"scattergl\"}],\"scattermapbox\":[{\"marker\":{\"colorbar\":{\"outlinewidth\":0,\"ticks\":\"\"}},\"type\":\"scattermapbox\"}],\"scatterpolar\":[{\"marker\":{\"colorbar\":{\"outlinewidth\":0,\"ticks\":\"\"}},\"type\":\"scatterpolar\"}],\"scatterpolargl\":[{\"marker\":{\"colorbar\":{\"outlinewidth\":0,\"ticks\":\"\"}},\"type\":\"scatterpolargl\"}],\"scatterternary\":[{\"marker\":{\"colorbar\":{\"outlinewidth\":0,\"ticks\":\"\"}},\"type\":\"scatterternary\"}],\"surface\":[{\"colorbar\":{\"outlinewidth\":0,\"ticks\":\"\"},\"colorscale\":[[0.0,\"#0d0887\"],[0.1111111111111111,\"#46039f\"],[0.2222222222222222,\"#7201a8\"],[0.3333333333333333,\"#9c179e\"],[0.4444444444444444,\"#bd3786\"],[0.5555555555555556,\"#d8576b\"],[0.6666666666666666,\"#ed7953\"],[0.7777777777777778,\"#fb9f3a\"],[0.8888888888888888,\"#fdca26\"],[1.0,\"#f0f921\"]],\"type\":\"surface\"}],\"table\":[{\"cells\":{\"fill\":{\"color\":\"#EBF0F8\"},\"line\":{\"color\":\"white\"}},\"header\":{\"fill\":{\"color\":\"#C8D4E3\"},\"line\":{\"color\":\"white\"}},\"type\":\"table\"}]},\"layout\":{\"annotationdefaults\":{\"arrowcolor\":\"#2a3f5f\",\"arrowhead\":0,\"arrowwidth\":1},\"autotypenumbers\":\"strict\",\"coloraxis\":{\"colorbar\":{\"outlinewidth\":0,\"ticks\":\"\"}},\"colorscale\":{\"diverging\":[[0,\"#8e0152\"],[0.1,\"#c51b7d\"],[0.2,\"#de77ae\"],[0.3,\"#f1b6da\"],[0.4,\"#fde0ef\"],[0.5,\"#f7f7f7\"],[0.6,\"#e6f5d0\"],[0.7,\"#b8e186\"],[0.8,\"#7fbc41\"],[0.9,\"#4d9221\"],[1,\"#276419\"]],\"sequential\":[[0.0,\"#0d0887\"],[0.1111111111111111,\"#46039f\"],[0.2222222222222222,\"#7201a8\"],[0.3333333333333333,\"#9c179e\"],[0.4444444444444444,\"#bd3786\"],[0.5555555555555556,\"#d8576b\"],[0.6666666666666666,\"#ed7953\"],[0.7777777777777778,\"#fb9f3a\"],[0.8888888888888888,\"#fdca26\"],[1.0,\"#f0f921\"]],\"sequentialminus\":[[0.0,\"#0d0887\"],[0.1111111111111111,\"#46039f\"],[0.2222222222222222,\"#7201a8\"],[0.3333333333333333,\"#9c179e\"],[0.4444444444444444,\"#bd3786\"],[0.5555555555555556,\"#d8576b\"],[0.6666666666666666,\"#ed7953\"],[0.7777777777777778,\"#fb9f3a\"],[0.8888888888888888,\"#fdca26\"],[1.0,\"#f0f921\"]]},\"colorway\":[\"#636efa\",\"#EF553B\",\"#00cc96\",\"#ab63fa\",\"#FFA15A\",\"#19d3f3\",\"#FF6692\",\"#B6E880\",\"#FF97FF\",\"#FECB52\"],\"font\":{\"color\":\"#2a3f5f\"},\"geo\":{\"bgcolor\":\"white\",\"lakecolor\":\"white\",\"landcolor\":\"#E5ECF6\",\"showlakes\":true,\"showland\":true,\"subunitcolor\":\"white\"},\"hoverlabel\":{\"align\":\"left\"},\"hovermode\":\"closest\",\"mapbox\":{\"style\":\"light\"},\"paper_bgcolor\":\"white\",\"plot_bgcolor\":\"#E5ECF6\",\"polar\":{\"angularaxis\":{\"gridcolor\":\"white\",\"linecolor\":\"white\",\"ticks\":\"\"},\"bgcolor\":\"#E5ECF6\",\"radialaxis\":{\"gridcolor\":\"white\",\"linecolor\":\"white\",\"ticks\":\"\"}},\"scene\":{\"xaxis\":{\"backgroundcolor\":\"#E5ECF6\",\"gridcolor\":\"white\",\"gridwidth\":2,\"linecolor\":\"white\",\"showbackground\":true,\"ticks\":\"\",\"zerolinecolor\":\"white\"},\"yaxis\":{\"backgroundcolor\":\"#E5ECF6\",\"gridcolor\":\"white\",\"gridwidth\":2,\"linecolor\":\"white\",\"showbackground\":true,\"ticks\":\"\",\"zerolinecolor\":\"white\"},\"zaxis\":{\"backgroundcolor\":\"#E5ECF6\",\"gridcolor\":\"white\",\"gridwidth\":2,\"linecolor\":\"white\",\"showbackground\":true,\"ticks\":\"\",\"zerolinecolor\":\"white\"}},\"shapedefaults\":{\"line\":{\"color\":\"#2a3f5f\"}},\"ternary\":{\"aaxis\":{\"gridcolor\":\"white\",\"linecolor\":\"white\",\"ticks\":\"\"},\"baxis\":{\"gridcolor\":\"white\",\"linecolor\":\"white\",\"ticks\":\"\"},\"bgcolor\":\"#E5ECF6\",\"caxis\":{\"gridcolor\":\"white\",\"linecolor\":\"white\",\"ticks\":\"\"}},\"title\":{\"x\":0.05},\"xaxis\":{\"automargin\":true,\"gridcolor\":\"white\",\"linecolor\":\"white\",\"ticks\":\"\",\"title\":{\"standoff\":15},\"zerolinecolor\":\"white\",\"zerolinewidth\":2},\"yaxis\":{\"automargin\":true,\"gridcolor\":\"white\",\"linecolor\":\"white\",\"ticks\":\"\",\"title\":{\"standoff\":15},\"zerolinecolor\":\"white\",\"zerolinewidth\":2}}},\"coloraxis\":{\"colorbar\":{\"title\":{\"text\":\"ave_score_itars\"}},\"colorscale\":[[0.0,\"rgb(103,0,31)\"],[0.1,\"rgb(178,24,43)\"],[0.2,\"rgb(214,96,77)\"],[0.3,\"rgb(244,165,130)\"],[0.4,\"rgb(253,219,199)\"],[0.5,\"rgb(247,247,247)\"],[0.6,\"rgb(209,229,240)\"],[0.7,\"rgb(146,197,222)\"],[0.8,\"rgb(67,147,195)\"],[0.9,\"rgb(33,102,172)\"],[1.0,\"rgb(5,48,97)\"]],\"cmid\":144.39872372553106},\"legend\":{\"tracegroupgap\":0},\"margin\":{\"t\":50,\"l\":25,\"r\":25,\"b\":25},\"title\":{\"text\":\"R1 Structures: Frequency and Impact on Score Relative to All Factions Average (144.4): itars\"}},                        {\"responsive\": true}                    ).then(function(){\n",
       "                            \n",
       "var gd = document.getElementById('195ed146-7484-4af8-aecb-54b2ad7b3f8b');\n",
       "var x = new MutationObserver(function (mutations, observer) {{\n",
       "        var display = window.getComputedStyle(gd).display;\n",
       "        if (!display || display === 'none') {{\n",
       "            console.log([gd, 'removed!']);\n",
       "            Plotly.purge(gd);\n",
       "            observer.disconnect();\n",
       "        }}\n",
       "}});\n",
       "\n",
       "// Listen for the removal of the full notebook cells\n",
       "var notebookContainer = gd.closest('#notebook-container');\n",
       "if (notebookContainer) {{\n",
       "    x.observe(notebookContainer, {childList: true});\n",
       "}}\n",
       "\n",
       "// Listen for the clearing of the current output cell\n",
       "var outputEl = gd.closest('.output');\n",
       "if (outputEl) {{\n",
       "    x.observe(outputEl, {childList: true});\n",
       "}}\n",
       "\n",
       "                        })                };                });            </script>        </div>"
      ]
     },
     "metadata": {},
     "output_type": "display_data"
    },
    {
     "data": {
      "application/vnd.plotly.v1+json": {
       "config": {
        "plotlyServerURL": "https://plot.ly"
       },
       "data": [
        {
         "branchvalues": "total",
         "customdata": [
          [
           45,
           91
          ],
          [
           275,
           145
          ],
          [
           118,
           108
          ],
          [
           176.66666666666666,
           148.66666666666666
          ],
          [
           134,
           143
          ],
          [
           82,
           139
          ],
          [
           275.04651162790697,
           139.7829457364341
          ],
          [
           306.6666666666667,
           126.66666666666667
          ],
          [
           225.6315789473684,
           136.42105263157896
          ],
          [
           345,
           187
          ],
          [
           133,
           85.5
          ],
          [
           195.83333333333334,
           120.33333333333333
          ],
          [
           216.15,
           141.95
          ],
          [
           222.5,
           131.5
          ],
          [
           285.4375,
           142.1875
          ],
          [
           175.60264900662253,
           136.4437086092715
          ],
          [
           220.64601769911505,
           147.4513274336283
          ],
          [
           245,
           176
          ],
          [
           166.5,
           136.5
          ],
          [
           232.66666666666666,
           150.57142857142858
          ],
          [
           204.8235294117647,
           148.97058823529412
          ],
          [
           144.8,
           114.2
          ],
          [
           173.60703812316714,
           137.47507331378299
          ],
          [
           194.23728813559322,
           134.15254237288136
          ],
          [
           0.6666666666666666,
           88.66666666666667
          ],
          [
           276.5,
           174
          ],
          [
           247.50632911392404,
           154.23417721518987
          ],
          [
           232.06976744186048,
           146.06976744186048
          ],
          [
           272.97872340425533,
           166.35106382978722
          ],
          [
           221,
           170.5
          ],
          [
           270.7,
           201.3
          ],
          [
           135,
           160
          ],
          [
           151,
           215
          ],
          [
           343.57142857142856,
           196.57142857142858
          ],
          [
           266.6666666666667,
           196.66666666666666
          ],
          [
           "(?)",
           148.1451229183188
          ],
          [
           "(?)",
           140.2608695652174
          ],
          [
           82,
           139
          ],
          [
           "(?)",
           144.03773584905662
          ],
          [
           "(?)",
           114.375
          ],
          [
           "(?)",
           145.76434034416826
          ]
         ],
         "domain": {
          "x": [
           0,
           1
          ],
          "y": [
           0,
           1
          ]
         },
         "hovertemplate": "labels=%{label}<br>class_counts=%{value}<br>parent=%{parent}<br>id=%{id}<br>ave_elo_lantids=%{customdata[0]}<br>ave_score_lantids=%{color}<extra></extra>",
         "ids": [
          "R1 Structs/PI/ 0-m_0-ts_1-lab_1-pi_0-ac1_0-ac2",
          "R1 Structs/lab/ 0-m_0-ts_2-lab_0-pi_0-ac1_0-ac2",
          "R1 Structs/PI/ 0-m_1-ts_0-lab_1-pi_0-ac1_0-ac2",
          "R1 Structs/lab/ 0-m_1-ts_1-lab_0-pi_0-ac1_0-ac2",
          "R1 Structs/ts/ 0-m_3-ts_0-lab_0-pi_0-ac1_0-ac2",
          "R1 Structs/ac2/ 1-m_0-ts_0-lab_0-pi_0-ac1_1-ac2",
          "R1 Structs/ac1/ 1-m_0-ts_0-lab_0-pi_1-ac1_0-ac2",
          "R1 Structs/PI/ 1-m_0-ts_0-lab_1-pi_0-ac1_0-ac2",
          "R1 Structs/lab/ 1-m_0-ts_1-lab_0-pi_0-ac1_0-ac2",
          "R1 Structs/lab/ 1-m_0-ts_2-lab_0-pi_0-ac1_0-ac2",
          "R1 Structs/ts/ 1-m_1-ts_0-lab_0-pi_0-ac1_0-ac2",
          "R1 Structs/PI/ 1-m_1-ts_0-lab_1-pi_0-ac1_0-ac2",
          "R1 Structs/lab/ 1-m_1-ts_1-lab_0-pi_0-ac1_0-ac2",
          "R1 Structs/ts/ 1-m_2-ts_0-lab_0-pi_0-ac1_0-ac2",
          "R1 Structs/ac1/ 2-m_0-ts_0-lab_0-pi_1-ac1_0-ac2",
          "R1 Structs/PI/ 2-m_0-ts_0-lab_1-pi_0-ac1_0-ac2",
          "R1 Structs/lab/ 2-m_0-ts_1-lab_0-pi_0-ac1_0-ac2",
          "R1 Structs/PI/ 2-m_0-ts_1-lab_1-pi_0-ac1_0-ac2",
          "R1 Structs/ts/ 2-m_1-ts_0-lab_0-pi_0-ac1_0-ac2",
          "R1 Structs/PI/ 2-m_1-ts_0-lab_1-pi_0-ac1_0-ac2",
          "R1 Structs/lab/ 2-m_1-ts_1-lab_0-pi_0-ac1_0-ac2",
          "R1 Structs/ts/ 2-m_2-ts_0-lab_0-pi_0-ac1_0-ac2",
          "R1 Structs/PI/ 3-m_0-ts_0-lab_1-pi_0-ac1_0-ac2",
          "R1 Structs/lab/ 3-m_0-ts_1-lab_0-pi_0-ac1_0-ac2",
          "R1 Structs/ts/ 3-m_1-ts_0-lab_0-pi_0-ac1_0-ac2",
          "R1 Structs/PI/ 3-m_1-ts_0-lab_1-pi_0-ac1_0-ac2",
          "R1 Structs/PI/ 4-m_0-ts_0-lab_1-pi_0-ac1_0-ac2",
          "R1 Structs/lab/ 4-m_0-ts_1-lab_0-pi_0-ac1_0-ac2",
          "R1 Structs/PI/ 5-m_0-ts_0-lab_1-pi_0-ac1_0-ac2",
          "R1 Structs/lab/ 5-m_0-ts_1-lab_0-pi_0-ac1_0-ac2",
          "R1 Structs/PI/ 6-m_0-ts_0-lab_1-pi_0-ac1_0-ac2",
          "R1 Structs/lab/ 6-m_0-ts_1-lab_0-pi_0-ac1_0-ac2",
          "R1 Structs/PI/ 6-m_1-ts_0-lab_1-pi_0-ac1_0-ac2",
          "R1 Structs/PI/ 7-m_0-ts_0-lab_1-pi_0-ac1_0-ac2",
          "R1 Structs/PI/ 8-m_0-ts_0-lab_1-pi_0-ac1_0-ac2",
          "R1 Structs/PI",
          "R1 Structs/ac1",
          "R1 Structs/ac2",
          "R1 Structs/lab",
          "R1 Structs/ts",
          "R1 Structs"
         ],
         "labels": [
          " 0-m_0-ts_1-lab_1-pi_0-ac1_0-ac2",
          " 0-m_0-ts_2-lab_0-pi_0-ac1_0-ac2",
          " 0-m_1-ts_0-lab_1-pi_0-ac1_0-ac2",
          " 0-m_1-ts_1-lab_0-pi_0-ac1_0-ac2",
          " 0-m_3-ts_0-lab_0-pi_0-ac1_0-ac2",
          " 1-m_0-ts_0-lab_0-pi_0-ac1_1-ac2",
          " 1-m_0-ts_0-lab_0-pi_1-ac1_0-ac2",
          " 1-m_0-ts_0-lab_1-pi_0-ac1_0-ac2",
          " 1-m_0-ts_1-lab_0-pi_0-ac1_0-ac2",
          " 1-m_0-ts_2-lab_0-pi_0-ac1_0-ac2",
          " 1-m_1-ts_0-lab_0-pi_0-ac1_0-ac2",
          " 1-m_1-ts_0-lab_1-pi_0-ac1_0-ac2",
          " 1-m_1-ts_1-lab_0-pi_0-ac1_0-ac2",
          " 1-m_2-ts_0-lab_0-pi_0-ac1_0-ac2",
          " 2-m_0-ts_0-lab_0-pi_1-ac1_0-ac2",
          " 2-m_0-ts_0-lab_1-pi_0-ac1_0-ac2",
          " 2-m_0-ts_1-lab_0-pi_0-ac1_0-ac2",
          " 2-m_0-ts_1-lab_1-pi_0-ac1_0-ac2",
          " 2-m_1-ts_0-lab_0-pi_0-ac1_0-ac2",
          " 2-m_1-ts_0-lab_1-pi_0-ac1_0-ac2",
          " 2-m_1-ts_1-lab_0-pi_0-ac1_0-ac2",
          " 2-m_2-ts_0-lab_0-pi_0-ac1_0-ac2",
          " 3-m_0-ts_0-lab_1-pi_0-ac1_0-ac2",
          " 3-m_0-ts_1-lab_0-pi_0-ac1_0-ac2",
          " 3-m_1-ts_0-lab_0-pi_0-ac1_0-ac2",
          " 3-m_1-ts_0-lab_1-pi_0-ac1_0-ac2",
          " 4-m_0-ts_0-lab_1-pi_0-ac1_0-ac2",
          " 4-m_0-ts_1-lab_0-pi_0-ac1_0-ac2",
          " 5-m_0-ts_0-lab_1-pi_0-ac1_0-ac2",
          " 5-m_0-ts_1-lab_0-pi_0-ac1_0-ac2",
          " 6-m_0-ts_0-lab_1-pi_0-ac1_0-ac2",
          " 6-m_0-ts_1-lab_0-pi_0-ac1_0-ac2",
          " 6-m_1-ts_0-lab_1-pi_0-ac1_0-ac2",
          " 7-m_0-ts_0-lab_1-pi_0-ac1_0-ac2",
          " 8-m_0-ts_0-lab_1-pi_0-ac1_0-ac2",
          "PI",
          "ac1",
          "ac2",
          "lab",
          "ts",
          "R1 Structs"
         ],
         "marker": {
          "coloraxis": "coloraxis",
          "colors": [
           91,
           145,
           108,
           148.66666666666666,
           143,
           139,
           139.7829457364341,
           126.66666666666667,
           136.42105263157896,
           187,
           85.5,
           120.33333333333333,
           141.95,
           131.5,
           142.1875,
           136.4437086092715,
           147.4513274336283,
           176,
           136.5,
           150.57142857142858,
           148.97058823529412,
           114.2,
           137.47507331378299,
           134.15254237288136,
           88.66666666666667,
           174,
           154.23417721518987,
           146.06976744186048,
           166.35106382978722,
           170.5,
           201.3,
           160,
           215,
           196.57142857142858,
           196.66666666666666,
           148.1451229183188,
           140.2608695652174,
           139,
           144.03773584905662,
           114.375,
           145.76434034416826
          ]
         },
         "name": "",
         "parents": [
          "R1 Structs/PI",
          "R1 Structs/lab",
          "R1 Structs/PI",
          "R1 Structs/lab",
          "R1 Structs/ts",
          "R1 Structs/ac2",
          "R1 Structs/ac1",
          "R1 Structs/PI",
          "R1 Structs/lab",
          "R1 Structs/lab",
          "R1 Structs/ts",
          "R1 Structs/PI",
          "R1 Structs/lab",
          "R1 Structs/ts",
          "R1 Structs/ac1",
          "R1 Structs/PI",
          "R1 Structs/lab",
          "R1 Structs/PI",
          "R1 Structs/ts",
          "R1 Structs/PI",
          "R1 Structs/lab",
          "R1 Structs/ts",
          "R1 Structs/PI",
          "R1 Structs/lab",
          "R1 Structs/ts",
          "R1 Structs/PI",
          "R1 Structs/PI",
          "R1 Structs/lab",
          "R1 Structs/PI",
          "R1 Structs/lab",
          "R1 Structs/PI",
          "R1 Structs/lab",
          "R1 Structs/PI",
          "R1 Structs/PI",
          "R1 Structs/PI",
          "R1 Structs",
          "R1 Structs",
          "R1 Structs",
          "R1 Structs",
          "R1 Structs",
          ""
         ],
         "type": "treemap",
         "values": [
          2,
          4,
          2,
          6,
          4,
          2,
          129,
          6,
          38,
          4,
          4,
          12,
          80,
          4,
          32,
          302,
          226,
          4,
          4,
          42,
          68,
          10,
          341,
          118,
          6,
          4,
          316,
          86,
          188,
          4,
          20,
          2,
          2,
          14,
          6,
          1261,
          161,
          2,
          636,
          32,
          2092
         ]
        }
       ],
       "layout": {
        "coloraxis": {
         "cmid": 144.39872372553106,
         "colorbar": {
          "title": {
           "text": "ave_score_lantids"
          }
         },
         "colorscale": [
          [
           0,
           "rgb(103,0,31)"
          ],
          [
           0.1,
           "rgb(178,24,43)"
          ],
          [
           0.2,
           "rgb(214,96,77)"
          ],
          [
           0.3,
           "rgb(244,165,130)"
          ],
          [
           0.4,
           "rgb(253,219,199)"
          ],
          [
           0.5,
           "rgb(247,247,247)"
          ],
          [
           0.6,
           "rgb(209,229,240)"
          ],
          [
           0.7,
           "rgb(146,197,222)"
          ],
          [
           0.8,
           "rgb(67,147,195)"
          ],
          [
           0.9,
           "rgb(33,102,172)"
          ],
          [
           1,
           "rgb(5,48,97)"
          ]
         ]
        },
        "legend": {
         "tracegroupgap": 0
        },
        "margin": {
         "b": 25,
         "l": 25,
         "r": 25,
         "t": 50
        },
        "template": {
         "data": {
          "bar": [
           {
            "error_x": {
             "color": "#2a3f5f"
            },
            "error_y": {
             "color": "#2a3f5f"
            },
            "marker": {
             "line": {
              "color": "#E5ECF6",
              "width": 0.5
             },
             "pattern": {
              "fillmode": "overlay",
              "size": 10,
              "solidity": 0.2
             }
            },
            "type": "bar"
           }
          ],
          "barpolar": [
           {
            "marker": {
             "line": {
              "color": "#E5ECF6",
              "width": 0.5
             },
             "pattern": {
              "fillmode": "overlay",
              "size": 10,
              "solidity": 0.2
             }
            },
            "type": "barpolar"
           }
          ],
          "carpet": [
           {
            "aaxis": {
             "endlinecolor": "#2a3f5f",
             "gridcolor": "white",
             "linecolor": "white",
             "minorgridcolor": "white",
             "startlinecolor": "#2a3f5f"
            },
            "baxis": {
             "endlinecolor": "#2a3f5f",
             "gridcolor": "white",
             "linecolor": "white",
             "minorgridcolor": "white",
             "startlinecolor": "#2a3f5f"
            },
            "type": "carpet"
           }
          ],
          "choropleth": [
           {
            "colorbar": {
             "outlinewidth": 0,
             "ticks": ""
            },
            "type": "choropleth"
           }
          ],
          "contour": [
           {
            "colorbar": {
             "outlinewidth": 0,
             "ticks": ""
            },
            "colorscale": [
             [
              0,
              "#0d0887"
             ],
             [
              0.1111111111111111,
              "#46039f"
             ],
             [
              0.2222222222222222,
              "#7201a8"
             ],
             [
              0.3333333333333333,
              "#9c179e"
             ],
             [
              0.4444444444444444,
              "#bd3786"
             ],
             [
              0.5555555555555556,
              "#d8576b"
             ],
             [
              0.6666666666666666,
              "#ed7953"
             ],
             [
              0.7777777777777778,
              "#fb9f3a"
             ],
             [
              0.8888888888888888,
              "#fdca26"
             ],
             [
              1,
              "#f0f921"
             ]
            ],
            "type": "contour"
           }
          ],
          "contourcarpet": [
           {
            "colorbar": {
             "outlinewidth": 0,
             "ticks": ""
            },
            "type": "contourcarpet"
           }
          ],
          "heatmap": [
           {
            "colorbar": {
             "outlinewidth": 0,
             "ticks": ""
            },
            "colorscale": [
             [
              0,
              "#0d0887"
             ],
             [
              0.1111111111111111,
              "#46039f"
             ],
             [
              0.2222222222222222,
              "#7201a8"
             ],
             [
              0.3333333333333333,
              "#9c179e"
             ],
             [
              0.4444444444444444,
              "#bd3786"
             ],
             [
              0.5555555555555556,
              "#d8576b"
             ],
             [
              0.6666666666666666,
              "#ed7953"
             ],
             [
              0.7777777777777778,
              "#fb9f3a"
             ],
             [
              0.8888888888888888,
              "#fdca26"
             ],
             [
              1,
              "#f0f921"
             ]
            ],
            "type": "heatmap"
           }
          ],
          "heatmapgl": [
           {
            "colorbar": {
             "outlinewidth": 0,
             "ticks": ""
            },
            "colorscale": [
             [
              0,
              "#0d0887"
             ],
             [
              0.1111111111111111,
              "#46039f"
             ],
             [
              0.2222222222222222,
              "#7201a8"
             ],
             [
              0.3333333333333333,
              "#9c179e"
             ],
             [
              0.4444444444444444,
              "#bd3786"
             ],
             [
              0.5555555555555556,
              "#d8576b"
             ],
             [
              0.6666666666666666,
              "#ed7953"
             ],
             [
              0.7777777777777778,
              "#fb9f3a"
             ],
             [
              0.8888888888888888,
              "#fdca26"
             ],
             [
              1,
              "#f0f921"
             ]
            ],
            "type": "heatmapgl"
           }
          ],
          "histogram": [
           {
            "marker": {
             "pattern": {
              "fillmode": "overlay",
              "size": 10,
              "solidity": 0.2
             }
            },
            "type": "histogram"
           }
          ],
          "histogram2d": [
           {
            "colorbar": {
             "outlinewidth": 0,
             "ticks": ""
            },
            "colorscale": [
             [
              0,
              "#0d0887"
             ],
             [
              0.1111111111111111,
              "#46039f"
             ],
             [
              0.2222222222222222,
              "#7201a8"
             ],
             [
              0.3333333333333333,
              "#9c179e"
             ],
             [
              0.4444444444444444,
              "#bd3786"
             ],
             [
              0.5555555555555556,
              "#d8576b"
             ],
             [
              0.6666666666666666,
              "#ed7953"
             ],
             [
              0.7777777777777778,
              "#fb9f3a"
             ],
             [
              0.8888888888888888,
              "#fdca26"
             ],
             [
              1,
              "#f0f921"
             ]
            ],
            "type": "histogram2d"
           }
          ],
          "histogram2dcontour": [
           {
            "colorbar": {
             "outlinewidth": 0,
             "ticks": ""
            },
            "colorscale": [
             [
              0,
              "#0d0887"
             ],
             [
              0.1111111111111111,
              "#46039f"
             ],
             [
              0.2222222222222222,
              "#7201a8"
             ],
             [
              0.3333333333333333,
              "#9c179e"
             ],
             [
              0.4444444444444444,
              "#bd3786"
             ],
             [
              0.5555555555555556,
              "#d8576b"
             ],
             [
              0.6666666666666666,
              "#ed7953"
             ],
             [
              0.7777777777777778,
              "#fb9f3a"
             ],
             [
              0.8888888888888888,
              "#fdca26"
             ],
             [
              1,
              "#f0f921"
             ]
            ],
            "type": "histogram2dcontour"
           }
          ],
          "mesh3d": [
           {
            "colorbar": {
             "outlinewidth": 0,
             "ticks": ""
            },
            "type": "mesh3d"
           }
          ],
          "parcoords": [
           {
            "line": {
             "colorbar": {
              "outlinewidth": 0,
              "ticks": ""
             }
            },
            "type": "parcoords"
           }
          ],
          "pie": [
           {
            "automargin": true,
            "type": "pie"
           }
          ],
          "scatter": [
           {
            "marker": {
             "colorbar": {
              "outlinewidth": 0,
              "ticks": ""
             }
            },
            "type": "scatter"
           }
          ],
          "scatter3d": [
           {
            "line": {
             "colorbar": {
              "outlinewidth": 0,
              "ticks": ""
             }
            },
            "marker": {
             "colorbar": {
              "outlinewidth": 0,
              "ticks": ""
             }
            },
            "type": "scatter3d"
           }
          ],
          "scattercarpet": [
           {
            "marker": {
             "colorbar": {
              "outlinewidth": 0,
              "ticks": ""
             }
            },
            "type": "scattercarpet"
           }
          ],
          "scattergeo": [
           {
            "marker": {
             "colorbar": {
              "outlinewidth": 0,
              "ticks": ""
             }
            },
            "type": "scattergeo"
           }
          ],
          "scattergl": [
           {
            "marker": {
             "colorbar": {
              "outlinewidth": 0,
              "ticks": ""
             }
            },
            "type": "scattergl"
           }
          ],
          "scattermapbox": [
           {
            "marker": {
             "colorbar": {
              "outlinewidth": 0,
              "ticks": ""
             }
            },
            "type": "scattermapbox"
           }
          ],
          "scatterpolar": [
           {
            "marker": {
             "colorbar": {
              "outlinewidth": 0,
              "ticks": ""
             }
            },
            "type": "scatterpolar"
           }
          ],
          "scatterpolargl": [
           {
            "marker": {
             "colorbar": {
              "outlinewidth": 0,
              "ticks": ""
             }
            },
            "type": "scatterpolargl"
           }
          ],
          "scatterternary": [
           {
            "marker": {
             "colorbar": {
              "outlinewidth": 0,
              "ticks": ""
             }
            },
            "type": "scatterternary"
           }
          ],
          "surface": [
           {
            "colorbar": {
             "outlinewidth": 0,
             "ticks": ""
            },
            "colorscale": [
             [
              0,
              "#0d0887"
             ],
             [
              0.1111111111111111,
              "#46039f"
             ],
             [
              0.2222222222222222,
              "#7201a8"
             ],
             [
              0.3333333333333333,
              "#9c179e"
             ],
             [
              0.4444444444444444,
              "#bd3786"
             ],
             [
              0.5555555555555556,
              "#d8576b"
             ],
             [
              0.6666666666666666,
              "#ed7953"
             ],
             [
              0.7777777777777778,
              "#fb9f3a"
             ],
             [
              0.8888888888888888,
              "#fdca26"
             ],
             [
              1,
              "#f0f921"
             ]
            ],
            "type": "surface"
           }
          ],
          "table": [
           {
            "cells": {
             "fill": {
              "color": "#EBF0F8"
             },
             "line": {
              "color": "white"
             }
            },
            "header": {
             "fill": {
              "color": "#C8D4E3"
             },
             "line": {
              "color": "white"
             }
            },
            "type": "table"
           }
          ]
         },
         "layout": {
          "annotationdefaults": {
           "arrowcolor": "#2a3f5f",
           "arrowhead": 0,
           "arrowwidth": 1
          },
          "autotypenumbers": "strict",
          "coloraxis": {
           "colorbar": {
            "outlinewidth": 0,
            "ticks": ""
           }
          },
          "colorscale": {
           "diverging": [
            [
             0,
             "#8e0152"
            ],
            [
             0.1,
             "#c51b7d"
            ],
            [
             0.2,
             "#de77ae"
            ],
            [
             0.3,
             "#f1b6da"
            ],
            [
             0.4,
             "#fde0ef"
            ],
            [
             0.5,
             "#f7f7f7"
            ],
            [
             0.6,
             "#e6f5d0"
            ],
            [
             0.7,
             "#b8e186"
            ],
            [
             0.8,
             "#7fbc41"
            ],
            [
             0.9,
             "#4d9221"
            ],
            [
             1,
             "#276419"
            ]
           ],
           "sequential": [
            [
             0,
             "#0d0887"
            ],
            [
             0.1111111111111111,
             "#46039f"
            ],
            [
             0.2222222222222222,
             "#7201a8"
            ],
            [
             0.3333333333333333,
             "#9c179e"
            ],
            [
             0.4444444444444444,
             "#bd3786"
            ],
            [
             0.5555555555555556,
             "#d8576b"
            ],
            [
             0.6666666666666666,
             "#ed7953"
            ],
            [
             0.7777777777777778,
             "#fb9f3a"
            ],
            [
             0.8888888888888888,
             "#fdca26"
            ],
            [
             1,
             "#f0f921"
            ]
           ],
           "sequentialminus": [
            [
             0,
             "#0d0887"
            ],
            [
             0.1111111111111111,
             "#46039f"
            ],
            [
             0.2222222222222222,
             "#7201a8"
            ],
            [
             0.3333333333333333,
             "#9c179e"
            ],
            [
             0.4444444444444444,
             "#bd3786"
            ],
            [
             0.5555555555555556,
             "#d8576b"
            ],
            [
             0.6666666666666666,
             "#ed7953"
            ],
            [
             0.7777777777777778,
             "#fb9f3a"
            ],
            [
             0.8888888888888888,
             "#fdca26"
            ],
            [
             1,
             "#f0f921"
            ]
           ]
          },
          "colorway": [
           "#636efa",
           "#EF553B",
           "#00cc96",
           "#ab63fa",
           "#FFA15A",
           "#19d3f3",
           "#FF6692",
           "#B6E880",
           "#FF97FF",
           "#FECB52"
          ],
          "font": {
           "color": "#2a3f5f"
          },
          "geo": {
           "bgcolor": "white",
           "lakecolor": "white",
           "landcolor": "#E5ECF6",
           "showlakes": true,
           "showland": true,
           "subunitcolor": "white"
          },
          "hoverlabel": {
           "align": "left"
          },
          "hovermode": "closest",
          "mapbox": {
           "style": "light"
          },
          "paper_bgcolor": "white",
          "plot_bgcolor": "#E5ECF6",
          "polar": {
           "angularaxis": {
            "gridcolor": "white",
            "linecolor": "white",
            "ticks": ""
           },
           "bgcolor": "#E5ECF6",
           "radialaxis": {
            "gridcolor": "white",
            "linecolor": "white",
            "ticks": ""
           }
          },
          "scene": {
           "xaxis": {
            "backgroundcolor": "#E5ECF6",
            "gridcolor": "white",
            "gridwidth": 2,
            "linecolor": "white",
            "showbackground": true,
            "ticks": "",
            "zerolinecolor": "white"
           },
           "yaxis": {
            "backgroundcolor": "#E5ECF6",
            "gridcolor": "white",
            "gridwidth": 2,
            "linecolor": "white",
            "showbackground": true,
            "ticks": "",
            "zerolinecolor": "white"
           },
           "zaxis": {
            "backgroundcolor": "#E5ECF6",
            "gridcolor": "white",
            "gridwidth": 2,
            "linecolor": "white",
            "showbackground": true,
            "ticks": "",
            "zerolinecolor": "white"
           }
          },
          "shapedefaults": {
           "line": {
            "color": "#2a3f5f"
           }
          },
          "ternary": {
           "aaxis": {
            "gridcolor": "white",
            "linecolor": "white",
            "ticks": ""
           },
           "baxis": {
            "gridcolor": "white",
            "linecolor": "white",
            "ticks": ""
           },
           "bgcolor": "#E5ECF6",
           "caxis": {
            "gridcolor": "white",
            "linecolor": "white",
            "ticks": ""
           }
          },
          "title": {
           "x": 0.05
          },
          "xaxis": {
           "automargin": true,
           "gridcolor": "white",
           "linecolor": "white",
           "ticks": "",
           "title": {
            "standoff": 15
           },
           "zerolinecolor": "white",
           "zerolinewidth": 2
          },
          "yaxis": {
           "automargin": true,
           "gridcolor": "white",
           "linecolor": "white",
           "ticks": "",
           "title": {
            "standoff": 15
           },
           "zerolinecolor": "white",
           "zerolinewidth": 2
          }
         }
        },
        "title": {
         "text": "R1 Structures: Frequency and Impact on Score Relative to All Factions Average (144.4): lantids"
        }
       }
      },
      "text/html": [
       "<div>                            <div id=\"e743caa1-9ce7-4f0a-ad7a-aa0a696c1cf5\" class=\"plotly-graph-div\" style=\"height:525px; width:100%;\"></div>            <script type=\"text/javascript\">                require([\"plotly\"], function(Plotly) {                    window.PLOTLYENV=window.PLOTLYENV || {};                                    if (document.getElementById(\"e743caa1-9ce7-4f0a-ad7a-aa0a696c1cf5\")) {                    Plotly.newPlot(                        \"e743caa1-9ce7-4f0a-ad7a-aa0a696c1cf5\",                        [{\"branchvalues\":\"total\",\"customdata\":[[45.0,91.0],[275.0,145.0],[118.0,108.0],[176.66666666666666,148.66666666666666],[134.0,143.0],[82.0,139.0],[275.04651162790697,139.7829457364341],[306.6666666666667,126.66666666666667],[225.6315789473684,136.42105263157896],[345.0,187.0],[133.0,85.5],[195.83333333333334,120.33333333333333],[216.15,141.95],[222.5,131.5],[285.4375,142.1875],[175.60264900662253,136.4437086092715],[220.64601769911505,147.4513274336283],[245.0,176.0],[166.5,136.5],[232.66666666666666,150.57142857142858],[204.8235294117647,148.97058823529412],[144.8,114.2],[173.60703812316714,137.47507331378299],[194.23728813559322,134.15254237288136],[0.6666666666666666,88.66666666666667],[276.5,174.0],[247.50632911392404,154.23417721518987],[232.06976744186048,146.06976744186048],[272.97872340425533,166.35106382978722],[221.0,170.5],[270.7,201.3],[135.0,160.0],[151.0,215.0],[343.57142857142856,196.57142857142858],[266.6666666666667,196.66666666666666],[\"(?)\",148.1451229183188],[\"(?)\",140.2608695652174],[82.0,139.0],[\"(?)\",144.03773584905662],[\"(?)\",114.375],[\"(?)\",145.76434034416826]],\"domain\":{\"x\":[0.0,1.0],\"y\":[0.0,1.0]},\"hovertemplate\":\"labels=%{label}<br>class_counts=%{value}<br>parent=%{parent}<br>id=%{id}<br>ave_elo_lantids=%{customdata[0]}<br>ave_score_lantids=%{color}<extra></extra>\",\"ids\":[\"R1 Structs/PI/ 0-m_0-ts_1-lab_1-pi_0-ac1_0-ac2\",\"R1 Structs/lab/ 0-m_0-ts_2-lab_0-pi_0-ac1_0-ac2\",\"R1 Structs/PI/ 0-m_1-ts_0-lab_1-pi_0-ac1_0-ac2\",\"R1 Structs/lab/ 0-m_1-ts_1-lab_0-pi_0-ac1_0-ac2\",\"R1 Structs/ts/ 0-m_3-ts_0-lab_0-pi_0-ac1_0-ac2\",\"R1 Structs/ac2/ 1-m_0-ts_0-lab_0-pi_0-ac1_1-ac2\",\"R1 Structs/ac1/ 1-m_0-ts_0-lab_0-pi_1-ac1_0-ac2\",\"R1 Structs/PI/ 1-m_0-ts_0-lab_1-pi_0-ac1_0-ac2\",\"R1 Structs/lab/ 1-m_0-ts_1-lab_0-pi_0-ac1_0-ac2\",\"R1 Structs/lab/ 1-m_0-ts_2-lab_0-pi_0-ac1_0-ac2\",\"R1 Structs/ts/ 1-m_1-ts_0-lab_0-pi_0-ac1_0-ac2\",\"R1 Structs/PI/ 1-m_1-ts_0-lab_1-pi_0-ac1_0-ac2\",\"R1 Structs/lab/ 1-m_1-ts_1-lab_0-pi_0-ac1_0-ac2\",\"R1 Structs/ts/ 1-m_2-ts_0-lab_0-pi_0-ac1_0-ac2\",\"R1 Structs/ac1/ 2-m_0-ts_0-lab_0-pi_1-ac1_0-ac2\",\"R1 Structs/PI/ 2-m_0-ts_0-lab_1-pi_0-ac1_0-ac2\",\"R1 Structs/lab/ 2-m_0-ts_1-lab_0-pi_0-ac1_0-ac2\",\"R1 Structs/PI/ 2-m_0-ts_1-lab_1-pi_0-ac1_0-ac2\",\"R1 Structs/ts/ 2-m_1-ts_0-lab_0-pi_0-ac1_0-ac2\",\"R1 Structs/PI/ 2-m_1-ts_0-lab_1-pi_0-ac1_0-ac2\",\"R1 Structs/lab/ 2-m_1-ts_1-lab_0-pi_0-ac1_0-ac2\",\"R1 Structs/ts/ 2-m_2-ts_0-lab_0-pi_0-ac1_0-ac2\",\"R1 Structs/PI/ 3-m_0-ts_0-lab_1-pi_0-ac1_0-ac2\",\"R1 Structs/lab/ 3-m_0-ts_1-lab_0-pi_0-ac1_0-ac2\",\"R1 Structs/ts/ 3-m_1-ts_0-lab_0-pi_0-ac1_0-ac2\",\"R1 Structs/PI/ 3-m_1-ts_0-lab_1-pi_0-ac1_0-ac2\",\"R1 Structs/PI/ 4-m_0-ts_0-lab_1-pi_0-ac1_0-ac2\",\"R1 Structs/lab/ 4-m_0-ts_1-lab_0-pi_0-ac1_0-ac2\",\"R1 Structs/PI/ 5-m_0-ts_0-lab_1-pi_0-ac1_0-ac2\",\"R1 Structs/lab/ 5-m_0-ts_1-lab_0-pi_0-ac1_0-ac2\",\"R1 Structs/PI/ 6-m_0-ts_0-lab_1-pi_0-ac1_0-ac2\",\"R1 Structs/lab/ 6-m_0-ts_1-lab_0-pi_0-ac1_0-ac2\",\"R1 Structs/PI/ 6-m_1-ts_0-lab_1-pi_0-ac1_0-ac2\",\"R1 Structs/PI/ 7-m_0-ts_0-lab_1-pi_0-ac1_0-ac2\",\"R1 Structs/PI/ 8-m_0-ts_0-lab_1-pi_0-ac1_0-ac2\",\"R1 Structs/PI\",\"R1 Structs/ac1\",\"R1 Structs/ac2\",\"R1 Structs/lab\",\"R1 Structs/ts\",\"R1 Structs\"],\"labels\":[\" 0-m_0-ts_1-lab_1-pi_0-ac1_0-ac2\",\" 0-m_0-ts_2-lab_0-pi_0-ac1_0-ac2\",\" 0-m_1-ts_0-lab_1-pi_0-ac1_0-ac2\",\" 0-m_1-ts_1-lab_0-pi_0-ac1_0-ac2\",\" 0-m_3-ts_0-lab_0-pi_0-ac1_0-ac2\",\" 1-m_0-ts_0-lab_0-pi_0-ac1_1-ac2\",\" 1-m_0-ts_0-lab_0-pi_1-ac1_0-ac2\",\" 1-m_0-ts_0-lab_1-pi_0-ac1_0-ac2\",\" 1-m_0-ts_1-lab_0-pi_0-ac1_0-ac2\",\" 1-m_0-ts_2-lab_0-pi_0-ac1_0-ac2\",\" 1-m_1-ts_0-lab_0-pi_0-ac1_0-ac2\",\" 1-m_1-ts_0-lab_1-pi_0-ac1_0-ac2\",\" 1-m_1-ts_1-lab_0-pi_0-ac1_0-ac2\",\" 1-m_2-ts_0-lab_0-pi_0-ac1_0-ac2\",\" 2-m_0-ts_0-lab_0-pi_1-ac1_0-ac2\",\" 2-m_0-ts_0-lab_1-pi_0-ac1_0-ac2\",\" 2-m_0-ts_1-lab_0-pi_0-ac1_0-ac2\",\" 2-m_0-ts_1-lab_1-pi_0-ac1_0-ac2\",\" 2-m_1-ts_0-lab_0-pi_0-ac1_0-ac2\",\" 2-m_1-ts_0-lab_1-pi_0-ac1_0-ac2\",\" 2-m_1-ts_1-lab_0-pi_0-ac1_0-ac2\",\" 2-m_2-ts_0-lab_0-pi_0-ac1_0-ac2\",\" 3-m_0-ts_0-lab_1-pi_0-ac1_0-ac2\",\" 3-m_0-ts_1-lab_0-pi_0-ac1_0-ac2\",\" 3-m_1-ts_0-lab_0-pi_0-ac1_0-ac2\",\" 3-m_1-ts_0-lab_1-pi_0-ac1_0-ac2\",\" 4-m_0-ts_0-lab_1-pi_0-ac1_0-ac2\",\" 4-m_0-ts_1-lab_0-pi_0-ac1_0-ac2\",\" 5-m_0-ts_0-lab_1-pi_0-ac1_0-ac2\",\" 5-m_0-ts_1-lab_0-pi_0-ac1_0-ac2\",\" 6-m_0-ts_0-lab_1-pi_0-ac1_0-ac2\",\" 6-m_0-ts_1-lab_0-pi_0-ac1_0-ac2\",\" 6-m_1-ts_0-lab_1-pi_0-ac1_0-ac2\",\" 7-m_0-ts_0-lab_1-pi_0-ac1_0-ac2\",\" 8-m_0-ts_0-lab_1-pi_0-ac1_0-ac2\",\"PI\",\"ac1\",\"ac2\",\"lab\",\"ts\",\"R1 Structs\"],\"marker\":{\"coloraxis\":\"coloraxis\",\"colors\":[91.0,145.0,108.0,148.66666666666666,143.0,139.0,139.7829457364341,126.66666666666667,136.42105263157896,187.0,85.5,120.33333333333333,141.95,131.5,142.1875,136.4437086092715,147.4513274336283,176.0,136.5,150.57142857142858,148.97058823529412,114.2,137.47507331378299,134.15254237288136,88.66666666666667,174.0,154.23417721518987,146.06976744186048,166.35106382978722,170.5,201.3,160.0,215.0,196.57142857142858,196.66666666666666,148.1451229183188,140.2608695652174,139.0,144.03773584905662,114.375,145.76434034416826]},\"name\":\"\",\"parents\":[\"R1 Structs/PI\",\"R1 Structs/lab\",\"R1 Structs/PI\",\"R1 Structs/lab\",\"R1 Structs/ts\",\"R1 Structs/ac2\",\"R1 Structs/ac1\",\"R1 Structs/PI\",\"R1 Structs/lab\",\"R1 Structs/lab\",\"R1 Structs/ts\",\"R1 Structs/PI\",\"R1 Structs/lab\",\"R1 Structs/ts\",\"R1 Structs/ac1\",\"R1 Structs/PI\",\"R1 Structs/lab\",\"R1 Structs/PI\",\"R1 Structs/ts\",\"R1 Structs/PI\",\"R1 Structs/lab\",\"R1 Structs/ts\",\"R1 Structs/PI\",\"R1 Structs/lab\",\"R1 Structs/ts\",\"R1 Structs/PI\",\"R1 Structs/PI\",\"R1 Structs/lab\",\"R1 Structs/PI\",\"R1 Structs/lab\",\"R1 Structs/PI\",\"R1 Structs/lab\",\"R1 Structs/PI\",\"R1 Structs/PI\",\"R1 Structs/PI\",\"R1 Structs\",\"R1 Structs\",\"R1 Structs\",\"R1 Structs\",\"R1 Structs\",\"\"],\"values\":[2,4,2,6,4,2,129,6,38,4,4,12,80,4,32,302,226,4,4,42,68,10,341,118,6,4,316,86,188,4,20,2,2,14,6,1261,161,2,636,32,2092],\"type\":\"treemap\"}],                        {\"template\":{\"data\":{\"bar\":[{\"error_x\":{\"color\":\"#2a3f5f\"},\"error_y\":{\"color\":\"#2a3f5f\"},\"marker\":{\"line\":{\"color\":\"#E5ECF6\",\"width\":0.5},\"pattern\":{\"fillmode\":\"overlay\",\"size\":10,\"solidity\":0.2}},\"type\":\"bar\"}],\"barpolar\":[{\"marker\":{\"line\":{\"color\":\"#E5ECF6\",\"width\":0.5},\"pattern\":{\"fillmode\":\"overlay\",\"size\":10,\"solidity\":0.2}},\"type\":\"barpolar\"}],\"carpet\":[{\"aaxis\":{\"endlinecolor\":\"#2a3f5f\",\"gridcolor\":\"white\",\"linecolor\":\"white\",\"minorgridcolor\":\"white\",\"startlinecolor\":\"#2a3f5f\"},\"baxis\":{\"endlinecolor\":\"#2a3f5f\",\"gridcolor\":\"white\",\"linecolor\":\"white\",\"minorgridcolor\":\"white\",\"startlinecolor\":\"#2a3f5f\"},\"type\":\"carpet\"}],\"choropleth\":[{\"colorbar\":{\"outlinewidth\":0,\"ticks\":\"\"},\"type\":\"choropleth\"}],\"contour\":[{\"colorbar\":{\"outlinewidth\":0,\"ticks\":\"\"},\"colorscale\":[[0.0,\"#0d0887\"],[0.1111111111111111,\"#46039f\"],[0.2222222222222222,\"#7201a8\"],[0.3333333333333333,\"#9c179e\"],[0.4444444444444444,\"#bd3786\"],[0.5555555555555556,\"#d8576b\"],[0.6666666666666666,\"#ed7953\"],[0.7777777777777778,\"#fb9f3a\"],[0.8888888888888888,\"#fdca26\"],[1.0,\"#f0f921\"]],\"type\":\"contour\"}],\"contourcarpet\":[{\"colorbar\":{\"outlinewidth\":0,\"ticks\":\"\"},\"type\":\"contourcarpet\"}],\"heatmap\":[{\"colorbar\":{\"outlinewidth\":0,\"ticks\":\"\"},\"colorscale\":[[0.0,\"#0d0887\"],[0.1111111111111111,\"#46039f\"],[0.2222222222222222,\"#7201a8\"],[0.3333333333333333,\"#9c179e\"],[0.4444444444444444,\"#bd3786\"],[0.5555555555555556,\"#d8576b\"],[0.6666666666666666,\"#ed7953\"],[0.7777777777777778,\"#fb9f3a\"],[0.8888888888888888,\"#fdca26\"],[1.0,\"#f0f921\"]],\"type\":\"heatmap\"}],\"heatmapgl\":[{\"colorbar\":{\"outlinewidth\":0,\"ticks\":\"\"},\"colorscale\":[[0.0,\"#0d0887\"],[0.1111111111111111,\"#46039f\"],[0.2222222222222222,\"#7201a8\"],[0.3333333333333333,\"#9c179e\"],[0.4444444444444444,\"#bd3786\"],[0.5555555555555556,\"#d8576b\"],[0.6666666666666666,\"#ed7953\"],[0.7777777777777778,\"#fb9f3a\"],[0.8888888888888888,\"#fdca26\"],[1.0,\"#f0f921\"]],\"type\":\"heatmapgl\"}],\"histogram\":[{\"marker\":{\"pattern\":{\"fillmode\":\"overlay\",\"size\":10,\"solidity\":0.2}},\"type\":\"histogram\"}],\"histogram2d\":[{\"colorbar\":{\"outlinewidth\":0,\"ticks\":\"\"},\"colorscale\":[[0.0,\"#0d0887\"],[0.1111111111111111,\"#46039f\"],[0.2222222222222222,\"#7201a8\"],[0.3333333333333333,\"#9c179e\"],[0.4444444444444444,\"#bd3786\"],[0.5555555555555556,\"#d8576b\"],[0.6666666666666666,\"#ed7953\"],[0.7777777777777778,\"#fb9f3a\"],[0.8888888888888888,\"#fdca26\"],[1.0,\"#f0f921\"]],\"type\":\"histogram2d\"}],\"histogram2dcontour\":[{\"colorbar\":{\"outlinewidth\":0,\"ticks\":\"\"},\"colorscale\":[[0.0,\"#0d0887\"],[0.1111111111111111,\"#46039f\"],[0.2222222222222222,\"#7201a8\"],[0.3333333333333333,\"#9c179e\"],[0.4444444444444444,\"#bd3786\"],[0.5555555555555556,\"#d8576b\"],[0.6666666666666666,\"#ed7953\"],[0.7777777777777778,\"#fb9f3a\"],[0.8888888888888888,\"#fdca26\"],[1.0,\"#f0f921\"]],\"type\":\"histogram2dcontour\"}],\"mesh3d\":[{\"colorbar\":{\"outlinewidth\":0,\"ticks\":\"\"},\"type\":\"mesh3d\"}],\"parcoords\":[{\"line\":{\"colorbar\":{\"outlinewidth\":0,\"ticks\":\"\"}},\"type\":\"parcoords\"}],\"pie\":[{\"automargin\":true,\"type\":\"pie\"}],\"scatter\":[{\"marker\":{\"colorbar\":{\"outlinewidth\":0,\"ticks\":\"\"}},\"type\":\"scatter\"}],\"scatter3d\":[{\"line\":{\"colorbar\":{\"outlinewidth\":0,\"ticks\":\"\"}},\"marker\":{\"colorbar\":{\"outlinewidth\":0,\"ticks\":\"\"}},\"type\":\"scatter3d\"}],\"scattercarpet\":[{\"marker\":{\"colorbar\":{\"outlinewidth\":0,\"ticks\":\"\"}},\"type\":\"scattercarpet\"}],\"scattergeo\":[{\"marker\":{\"colorbar\":{\"outlinewidth\":0,\"ticks\":\"\"}},\"type\":\"scattergeo\"}],\"scattergl\":[{\"marker\":{\"colorbar\":{\"outlinewidth\":0,\"ticks\":\"\"}},\"type\":\"scattergl\"}],\"scattermapbox\":[{\"marker\":{\"colorbar\":{\"outlinewidth\":0,\"ticks\":\"\"}},\"type\":\"scattermapbox\"}],\"scatterpolar\":[{\"marker\":{\"colorbar\":{\"outlinewidth\":0,\"ticks\":\"\"}},\"type\":\"scatterpolar\"}],\"scatterpolargl\":[{\"marker\":{\"colorbar\":{\"outlinewidth\":0,\"ticks\":\"\"}},\"type\":\"scatterpolargl\"}],\"scatterternary\":[{\"marker\":{\"colorbar\":{\"outlinewidth\":0,\"ticks\":\"\"}},\"type\":\"scatterternary\"}],\"surface\":[{\"colorbar\":{\"outlinewidth\":0,\"ticks\":\"\"},\"colorscale\":[[0.0,\"#0d0887\"],[0.1111111111111111,\"#46039f\"],[0.2222222222222222,\"#7201a8\"],[0.3333333333333333,\"#9c179e\"],[0.4444444444444444,\"#bd3786\"],[0.5555555555555556,\"#d8576b\"],[0.6666666666666666,\"#ed7953\"],[0.7777777777777778,\"#fb9f3a\"],[0.8888888888888888,\"#fdca26\"],[1.0,\"#f0f921\"]],\"type\":\"surface\"}],\"table\":[{\"cells\":{\"fill\":{\"color\":\"#EBF0F8\"},\"line\":{\"color\":\"white\"}},\"header\":{\"fill\":{\"color\":\"#C8D4E3\"},\"line\":{\"color\":\"white\"}},\"type\":\"table\"}]},\"layout\":{\"annotationdefaults\":{\"arrowcolor\":\"#2a3f5f\",\"arrowhead\":0,\"arrowwidth\":1},\"autotypenumbers\":\"strict\",\"coloraxis\":{\"colorbar\":{\"outlinewidth\":0,\"ticks\":\"\"}},\"colorscale\":{\"diverging\":[[0,\"#8e0152\"],[0.1,\"#c51b7d\"],[0.2,\"#de77ae\"],[0.3,\"#f1b6da\"],[0.4,\"#fde0ef\"],[0.5,\"#f7f7f7\"],[0.6,\"#e6f5d0\"],[0.7,\"#b8e186\"],[0.8,\"#7fbc41\"],[0.9,\"#4d9221\"],[1,\"#276419\"]],\"sequential\":[[0.0,\"#0d0887\"],[0.1111111111111111,\"#46039f\"],[0.2222222222222222,\"#7201a8\"],[0.3333333333333333,\"#9c179e\"],[0.4444444444444444,\"#bd3786\"],[0.5555555555555556,\"#d8576b\"],[0.6666666666666666,\"#ed7953\"],[0.7777777777777778,\"#fb9f3a\"],[0.8888888888888888,\"#fdca26\"],[1.0,\"#f0f921\"]],\"sequentialminus\":[[0.0,\"#0d0887\"],[0.1111111111111111,\"#46039f\"],[0.2222222222222222,\"#7201a8\"],[0.3333333333333333,\"#9c179e\"],[0.4444444444444444,\"#bd3786\"],[0.5555555555555556,\"#d8576b\"],[0.6666666666666666,\"#ed7953\"],[0.7777777777777778,\"#fb9f3a\"],[0.8888888888888888,\"#fdca26\"],[1.0,\"#f0f921\"]]},\"colorway\":[\"#636efa\",\"#EF553B\",\"#00cc96\",\"#ab63fa\",\"#FFA15A\",\"#19d3f3\",\"#FF6692\",\"#B6E880\",\"#FF97FF\",\"#FECB52\"],\"font\":{\"color\":\"#2a3f5f\"},\"geo\":{\"bgcolor\":\"white\",\"lakecolor\":\"white\",\"landcolor\":\"#E5ECF6\",\"showlakes\":true,\"showland\":true,\"subunitcolor\":\"white\"},\"hoverlabel\":{\"align\":\"left\"},\"hovermode\":\"closest\",\"mapbox\":{\"style\":\"light\"},\"paper_bgcolor\":\"white\",\"plot_bgcolor\":\"#E5ECF6\",\"polar\":{\"angularaxis\":{\"gridcolor\":\"white\",\"linecolor\":\"white\",\"ticks\":\"\"},\"bgcolor\":\"#E5ECF6\",\"radialaxis\":{\"gridcolor\":\"white\",\"linecolor\":\"white\",\"ticks\":\"\"}},\"scene\":{\"xaxis\":{\"backgroundcolor\":\"#E5ECF6\",\"gridcolor\":\"white\",\"gridwidth\":2,\"linecolor\":\"white\",\"showbackground\":true,\"ticks\":\"\",\"zerolinecolor\":\"white\"},\"yaxis\":{\"backgroundcolor\":\"#E5ECF6\",\"gridcolor\":\"white\",\"gridwidth\":2,\"linecolor\":\"white\",\"showbackground\":true,\"ticks\":\"\",\"zerolinecolor\":\"white\"},\"zaxis\":{\"backgroundcolor\":\"#E5ECF6\",\"gridcolor\":\"white\",\"gridwidth\":2,\"linecolor\":\"white\",\"showbackground\":true,\"ticks\":\"\",\"zerolinecolor\":\"white\"}},\"shapedefaults\":{\"line\":{\"color\":\"#2a3f5f\"}},\"ternary\":{\"aaxis\":{\"gridcolor\":\"white\",\"linecolor\":\"white\",\"ticks\":\"\"},\"baxis\":{\"gridcolor\":\"white\",\"linecolor\":\"white\",\"ticks\":\"\"},\"bgcolor\":\"#E5ECF6\",\"caxis\":{\"gridcolor\":\"white\",\"linecolor\":\"white\",\"ticks\":\"\"}},\"title\":{\"x\":0.05},\"xaxis\":{\"automargin\":true,\"gridcolor\":\"white\",\"linecolor\":\"white\",\"ticks\":\"\",\"title\":{\"standoff\":15},\"zerolinecolor\":\"white\",\"zerolinewidth\":2},\"yaxis\":{\"automargin\":true,\"gridcolor\":\"white\",\"linecolor\":\"white\",\"ticks\":\"\",\"title\":{\"standoff\":15},\"zerolinecolor\":\"white\",\"zerolinewidth\":2}}},\"coloraxis\":{\"colorbar\":{\"title\":{\"text\":\"ave_score_lantids\"}},\"colorscale\":[[0.0,\"rgb(103,0,31)\"],[0.1,\"rgb(178,24,43)\"],[0.2,\"rgb(214,96,77)\"],[0.3,\"rgb(244,165,130)\"],[0.4,\"rgb(253,219,199)\"],[0.5,\"rgb(247,247,247)\"],[0.6,\"rgb(209,229,240)\"],[0.7,\"rgb(146,197,222)\"],[0.8,\"rgb(67,147,195)\"],[0.9,\"rgb(33,102,172)\"],[1.0,\"rgb(5,48,97)\"]],\"cmid\":144.39872372553106},\"legend\":{\"tracegroupgap\":0},\"margin\":{\"t\":50,\"l\":25,\"r\":25,\"b\":25},\"title\":{\"text\":\"R1 Structures: Frequency and Impact on Score Relative to All Factions Average (144.4): lantids\"}},                        {\"responsive\": true}                    ).then(function(){\n",
       "                            \n",
       "var gd = document.getElementById('e743caa1-9ce7-4f0a-ad7a-aa0a696c1cf5');\n",
       "var x = new MutationObserver(function (mutations, observer) {{\n",
       "        var display = window.getComputedStyle(gd).display;\n",
       "        if (!display || display === 'none') {{\n",
       "            console.log([gd, 'removed!']);\n",
       "            Plotly.purge(gd);\n",
       "            observer.disconnect();\n",
       "        }}\n",
       "}});\n",
       "\n",
       "// Listen for the removal of the full notebook cells\n",
       "var notebookContainer = gd.closest('#notebook-container');\n",
       "if (notebookContainer) {{\n",
       "    x.observe(notebookContainer, {childList: true});\n",
       "}}\n",
       "\n",
       "// Listen for the clearing of the current output cell\n",
       "var outputEl = gd.closest('.output');\n",
       "if (outputEl) {{\n",
       "    x.observe(outputEl, {childList: true});\n",
       "}}\n",
       "\n",
       "                        })                };                });            </script>        </div>"
      ]
     },
     "metadata": {},
     "output_type": "display_data"
    },
    {
     "data": {
      "application/vnd.plotly.v1+json": {
       "config": {
        "plotlyServerURL": "https://plot.ly"
       },
       "data": [
        {
         "branchvalues": "total",
         "customdata": [
          [
           337.6666666666667,
           183.66666666666666
          ],
          [
           252.6813186813187,
           149.7032967032967
          ],
          [
           139.6,
           129
          ],
          [
           152,
           129.30769230769232
          ],
          [
           168.5,
           130.5
          ],
          [
           202,
           144.5
          ],
          [
           250.968,
           152.632
          ],
          [
           181.27777777777777,
           122.91666666666667
          ],
          [
           121.125,
           117.625
          ],
          [
           242.79432624113474,
           160.33333333333334
          ],
          [
           100,
           156
          ],
          [
           213.68421052631578,
           145.49122807017545
          ],
          [
           141.93939393939394,
           120.06060606060606
          ],
          [
           133,
           182
          ],
          [
           58,
           158
          ],
          [
           148,
           138.33333333333334
          ],
          [
           253.48076923076923,
           150.80769230769232
          ],
          [
           200.9882005899705,
           148.12979351032448
          ],
          [
           169.15853658536585,
           131.58536585365854
          ],
          [
           288.85714285714283,
           174.10714285714286
          ],
          [
           215.85294117647058,
           156.61764705882354
          ],
          [
           194.51162790697674,
           146.1627906976744
          ],
          [
           90.25,
           113
          ],
          [
           202.40816326530611,
           146.08163265306123
          ],
          [
           140.83870967741936,
           132.7741935483871
          ],
          [
           361,
           180
          ],
          [
           0,
           153
          ],
          [
           215.4,
           161.73333333333332
          ],
          [
           150,
           141.93333333333334
          ],
          [
           126,
           139
          ],
          [
           138,
           157
          ],
          [
           266,
           184
          ],
          [
           208.66666666666666,
           145.5
          ],
          [
           152,
           117
          ],
          [
           "(?)",
           150.5752427184466
          ],
          [
           "(?)",
           152.62222222222223
          ],
          [
           148,
           138.33333333333334
          ],
          [
           "(?)",
           133.38297872340425
          ],
          [
           "(?)",
           129.42857142857142
          ],
          [
           "(?)",
           146.97608024691357
          ]
         ],
         "domain": {
          "x": [
           0,
           1
          ],
          "y": [
           0,
           1
          ]
         },
         "hovertemplate": "labels=%{label}<br>class_counts=%{value}<br>parent=%{parent}<br>id=%{id}<br>ave_elo_nevlas=%{customdata[0]}<br>ave_score_nevlas=%{color}<extra></extra>",
         "ids": [
          "R1 Structs/ac1/ 0-m_0-ts_0-lab_1-pi_1-ac1_0-ac2",
          "R1 Structs/PI/ 0-m_0-ts_1-lab_1-pi_0-ac1_0-ac2",
          "R1 Structs/lab/ 0-m_0-ts_2-lab_0-pi_0-ac1_0-ac2",
          "R1 Structs/PI/ 0-m_1-ts_0-lab_1-pi_0-ac1_0-ac2",
          "R1 Structs/lab/ 0-m_1-ts_1-lab_0-pi_0-ac1_0-ac2",
          "R1 Structs/PI/ 0-m_1-ts_1-lab_1-pi_0-ac1_0-ac2",
          "R1 Structs/ac1/ 1-m_0-ts_0-lab_0-pi_1-ac1_0-ac2",
          "R1 Structs/PI/ 1-m_0-ts_0-lab_1-pi_0-ac1_0-ac2",
          "R1 Structs/lab/ 1-m_0-ts_1-lab_0-pi_0-ac1_0-ac2",
          "R1 Structs/PI/ 1-m_0-ts_1-lab_1-pi_0-ac1_0-ac2",
          "R1 Structs/lab/ 1-m_0-ts_2-lab_0-pi_0-ac1_0-ac2",
          "R1 Structs/PI/ 1-m_1-ts_0-lab_1-pi_0-ac1_0-ac2",
          "R1 Structs/lab/ 1-m_1-ts_1-lab_0-pi_0-ac1_0-ac2",
          "R1 Structs/PI/ 1-m_1-ts_1-lab_1-pi_0-ac1_0-ac2",
          "R1 Structs/ts/ 1-m_2-ts_0-lab_0-pi_0-ac1_0-ac2",
          "R1 Structs/ac2/ 2-m_0-ts_0-lab_0-pi_0-ac1_1-ac2",
          "R1 Structs/ac1/ 2-m_0-ts_0-lab_0-pi_1-ac1_0-ac2",
          "R1 Structs/PI/ 2-m_0-ts_0-lab_1-pi_0-ac1_0-ac2",
          "R1 Structs/lab/ 2-m_0-ts_1-lab_0-pi_0-ac1_0-ac2",
          "R1 Structs/PI/ 2-m_0-ts_1-lab_1-pi_0-ac1_0-ac2",
          "R1 Structs/PI/ 2-m_1-ts_0-lab_1-pi_0-ac1_0-ac2",
          "R1 Structs/lab/ 2-m_1-ts_1-lab_0-pi_0-ac1_0-ac2",
          "R1 Structs/ts/ 2-m_2-ts_0-lab_0-pi_0-ac1_0-ac2",
          "R1 Structs/PI/ 3-m_0-ts_0-lab_1-pi_0-ac1_0-ac2",
          "R1 Structs/lab/ 3-m_0-ts_1-lab_0-pi_0-ac1_0-ac2",
          "R1 Structs/PI/ 3-m_0-ts_1-lab_1-pi_0-ac1_0-ac2",
          "R1 Structs/lab/ 3-m_1-ts_1-lab_0-pi_0-ac1_0-ac2",
          "R1 Structs/PI/ 4-m_0-ts_0-lab_1-pi_0-ac1_0-ac2",
          "R1 Structs/lab/ 4-m_0-ts_1-lab_0-pi_0-ac1_0-ac2",
          "R1 Structs/ts/ 4-m_1-ts_0-lab_0-pi_0-ac1_0-ac2",
          "R1 Structs/ts/ 4-m_2-ts_0-lab_0-pi_0-ac1_0-ac2",
          "R1 Structs/PI/ 5-m_0-ts_0-lab_1-pi_0-ac1_0-ac2",
          "R1 Structs/lab/ 5-m_0-ts_1-lab_0-pi_0-ac1_0-ac2",
          "R1 Structs/lab/ 6-m_0-ts_1-lab_0-pi_0-ac1_0-ac2",
          "R1 Structs/PI",
          "R1 Structs/ac1",
          "R1 Structs/ac2",
          "R1 Structs/lab",
          "R1 Structs/ts",
          "R1 Structs"
         ],
         "labels": [
          " 0-m_0-ts_0-lab_1-pi_1-ac1_0-ac2",
          " 0-m_0-ts_1-lab_1-pi_0-ac1_0-ac2",
          " 0-m_0-ts_2-lab_0-pi_0-ac1_0-ac2",
          " 0-m_1-ts_0-lab_1-pi_0-ac1_0-ac2",
          " 0-m_1-ts_1-lab_0-pi_0-ac1_0-ac2",
          " 0-m_1-ts_1-lab_1-pi_0-ac1_0-ac2",
          " 1-m_0-ts_0-lab_0-pi_1-ac1_0-ac2",
          " 1-m_0-ts_0-lab_1-pi_0-ac1_0-ac2",
          " 1-m_0-ts_1-lab_0-pi_0-ac1_0-ac2",
          " 1-m_0-ts_1-lab_1-pi_0-ac1_0-ac2",
          " 1-m_0-ts_2-lab_0-pi_0-ac1_0-ac2",
          " 1-m_1-ts_0-lab_1-pi_0-ac1_0-ac2",
          " 1-m_1-ts_1-lab_0-pi_0-ac1_0-ac2",
          " 1-m_1-ts_1-lab_1-pi_0-ac1_0-ac2",
          " 1-m_2-ts_0-lab_0-pi_0-ac1_0-ac2",
          " 2-m_0-ts_0-lab_0-pi_0-ac1_1-ac2",
          " 2-m_0-ts_0-lab_0-pi_1-ac1_0-ac2",
          " 2-m_0-ts_0-lab_1-pi_0-ac1_0-ac2",
          " 2-m_0-ts_1-lab_0-pi_0-ac1_0-ac2",
          " 2-m_0-ts_1-lab_1-pi_0-ac1_0-ac2",
          " 2-m_1-ts_0-lab_1-pi_0-ac1_0-ac2",
          " 2-m_1-ts_1-lab_0-pi_0-ac1_0-ac2",
          " 2-m_2-ts_0-lab_0-pi_0-ac1_0-ac2",
          " 3-m_0-ts_0-lab_1-pi_0-ac1_0-ac2",
          " 3-m_0-ts_1-lab_0-pi_0-ac1_0-ac2",
          " 3-m_0-ts_1-lab_1-pi_0-ac1_0-ac2",
          " 3-m_1-ts_1-lab_0-pi_0-ac1_0-ac2",
          " 4-m_0-ts_0-lab_1-pi_0-ac1_0-ac2",
          " 4-m_0-ts_1-lab_0-pi_0-ac1_0-ac2",
          " 4-m_1-ts_0-lab_0-pi_0-ac1_0-ac2",
          " 4-m_2-ts_0-lab_0-pi_0-ac1_0-ac2",
          " 5-m_0-ts_0-lab_1-pi_0-ac1_0-ac2",
          " 5-m_0-ts_1-lab_0-pi_0-ac1_0-ac2",
          " 6-m_0-ts_1-lab_0-pi_0-ac1_0-ac2",
          "PI",
          "ac1",
          "ac2",
          "lab",
          "ts",
          "R1 Structs"
         ],
         "marker": {
          "coloraxis": "coloraxis",
          "colors": [
           183.66666666666666,
           149.7032967032967,
           129,
           129.30769230769232,
           130.5,
           144.5,
           152.632,
           122.91666666666667,
           117.625,
           160.33333333333334,
           156,
           145.49122807017545,
           120.06060606060606,
           182,
           158,
           138.33333333333334,
           150.80769230769232,
           148.12979351032448,
           131.58536585365854,
           174.10714285714286,
           156.61764705882354,
           146.1627906976744,
           113,
           146.08163265306123,
           132.7741935483871,
           180,
           153,
           161.73333333333332,
           141.93333333333334,
           139,
           157,
           184,
           145.5,
           117,
           150.5752427184466,
           152.62222222222223,
           138.33333333333334,
           133.38297872340425,
           129.42857142857142,
           146.97608024691357
          ]
         },
         "name": "",
         "parents": [
          "R1 Structs/ac1",
          "R1 Structs/PI",
          "R1 Structs/lab",
          "R1 Structs/PI",
          "R1 Structs/lab",
          "R1 Structs/PI",
          "R1 Structs/ac1",
          "R1 Structs/PI",
          "R1 Structs/lab",
          "R1 Structs/PI",
          "R1 Structs/lab",
          "R1 Structs/PI",
          "R1 Structs/lab",
          "R1 Structs/PI",
          "R1 Structs/ts",
          "R1 Structs/ac2",
          "R1 Structs/ac1",
          "R1 Structs/PI",
          "R1 Structs/lab",
          "R1 Structs/PI",
          "R1 Structs/PI",
          "R1 Structs/lab",
          "R1 Structs/ts",
          "R1 Structs/PI",
          "R1 Structs/lab",
          "R1 Structs/PI",
          "R1 Structs/lab",
          "R1 Structs/PI",
          "R1 Structs/lab",
          "R1 Structs/ts",
          "R1 Structs/ts",
          "R1 Structs/PI",
          "R1 Structs/lab",
          "R1 Structs/lab",
          "R1 Structs",
          "R1 Structs",
          "R1 Structs",
          "R1 Structs",
          "R1 Structs",
          ""
         ],
         "type": "treemap",
         "values": [
          6,
          182,
          10,
          26,
          4,
          4,
          250,
          72,
          32,
          282,
          2,
          114,
          66,
          2,
          2,
          6,
          104,
          678,
          164,
          56,
          68,
          86,
          8,
          98,
          124,
          2,
          2,
          60,
          60,
          2,
          2,
          4,
          12,
          2,
          1648,
          360,
          6,
          564,
          14,
          2592
         ]
        }
       ],
       "layout": {
        "coloraxis": {
         "cmid": 144.39872372553106,
         "colorbar": {
          "title": {
           "text": "ave_score_nevlas"
          }
         },
         "colorscale": [
          [
           0,
           "rgb(103,0,31)"
          ],
          [
           0.1,
           "rgb(178,24,43)"
          ],
          [
           0.2,
           "rgb(214,96,77)"
          ],
          [
           0.3,
           "rgb(244,165,130)"
          ],
          [
           0.4,
           "rgb(253,219,199)"
          ],
          [
           0.5,
           "rgb(247,247,247)"
          ],
          [
           0.6,
           "rgb(209,229,240)"
          ],
          [
           0.7,
           "rgb(146,197,222)"
          ],
          [
           0.8,
           "rgb(67,147,195)"
          ],
          [
           0.9,
           "rgb(33,102,172)"
          ],
          [
           1,
           "rgb(5,48,97)"
          ]
         ]
        },
        "legend": {
         "tracegroupgap": 0
        },
        "margin": {
         "b": 25,
         "l": 25,
         "r": 25,
         "t": 50
        },
        "template": {
         "data": {
          "bar": [
           {
            "error_x": {
             "color": "#2a3f5f"
            },
            "error_y": {
             "color": "#2a3f5f"
            },
            "marker": {
             "line": {
              "color": "#E5ECF6",
              "width": 0.5
             },
             "pattern": {
              "fillmode": "overlay",
              "size": 10,
              "solidity": 0.2
             }
            },
            "type": "bar"
           }
          ],
          "barpolar": [
           {
            "marker": {
             "line": {
              "color": "#E5ECF6",
              "width": 0.5
             },
             "pattern": {
              "fillmode": "overlay",
              "size": 10,
              "solidity": 0.2
             }
            },
            "type": "barpolar"
           }
          ],
          "carpet": [
           {
            "aaxis": {
             "endlinecolor": "#2a3f5f",
             "gridcolor": "white",
             "linecolor": "white",
             "minorgridcolor": "white",
             "startlinecolor": "#2a3f5f"
            },
            "baxis": {
             "endlinecolor": "#2a3f5f",
             "gridcolor": "white",
             "linecolor": "white",
             "minorgridcolor": "white",
             "startlinecolor": "#2a3f5f"
            },
            "type": "carpet"
           }
          ],
          "choropleth": [
           {
            "colorbar": {
             "outlinewidth": 0,
             "ticks": ""
            },
            "type": "choropleth"
           }
          ],
          "contour": [
           {
            "colorbar": {
             "outlinewidth": 0,
             "ticks": ""
            },
            "colorscale": [
             [
              0,
              "#0d0887"
             ],
             [
              0.1111111111111111,
              "#46039f"
             ],
             [
              0.2222222222222222,
              "#7201a8"
             ],
             [
              0.3333333333333333,
              "#9c179e"
             ],
             [
              0.4444444444444444,
              "#bd3786"
             ],
             [
              0.5555555555555556,
              "#d8576b"
             ],
             [
              0.6666666666666666,
              "#ed7953"
             ],
             [
              0.7777777777777778,
              "#fb9f3a"
             ],
             [
              0.8888888888888888,
              "#fdca26"
             ],
             [
              1,
              "#f0f921"
             ]
            ],
            "type": "contour"
           }
          ],
          "contourcarpet": [
           {
            "colorbar": {
             "outlinewidth": 0,
             "ticks": ""
            },
            "type": "contourcarpet"
           }
          ],
          "heatmap": [
           {
            "colorbar": {
             "outlinewidth": 0,
             "ticks": ""
            },
            "colorscale": [
             [
              0,
              "#0d0887"
             ],
             [
              0.1111111111111111,
              "#46039f"
             ],
             [
              0.2222222222222222,
              "#7201a8"
             ],
             [
              0.3333333333333333,
              "#9c179e"
             ],
             [
              0.4444444444444444,
              "#bd3786"
             ],
             [
              0.5555555555555556,
              "#d8576b"
             ],
             [
              0.6666666666666666,
              "#ed7953"
             ],
             [
              0.7777777777777778,
              "#fb9f3a"
             ],
             [
              0.8888888888888888,
              "#fdca26"
             ],
             [
              1,
              "#f0f921"
             ]
            ],
            "type": "heatmap"
           }
          ],
          "heatmapgl": [
           {
            "colorbar": {
             "outlinewidth": 0,
             "ticks": ""
            },
            "colorscale": [
             [
              0,
              "#0d0887"
             ],
             [
              0.1111111111111111,
              "#46039f"
             ],
             [
              0.2222222222222222,
              "#7201a8"
             ],
             [
              0.3333333333333333,
              "#9c179e"
             ],
             [
              0.4444444444444444,
              "#bd3786"
             ],
             [
              0.5555555555555556,
              "#d8576b"
             ],
             [
              0.6666666666666666,
              "#ed7953"
             ],
             [
              0.7777777777777778,
              "#fb9f3a"
             ],
             [
              0.8888888888888888,
              "#fdca26"
             ],
             [
              1,
              "#f0f921"
             ]
            ],
            "type": "heatmapgl"
           }
          ],
          "histogram": [
           {
            "marker": {
             "pattern": {
              "fillmode": "overlay",
              "size": 10,
              "solidity": 0.2
             }
            },
            "type": "histogram"
           }
          ],
          "histogram2d": [
           {
            "colorbar": {
             "outlinewidth": 0,
             "ticks": ""
            },
            "colorscale": [
             [
              0,
              "#0d0887"
             ],
             [
              0.1111111111111111,
              "#46039f"
             ],
             [
              0.2222222222222222,
              "#7201a8"
             ],
             [
              0.3333333333333333,
              "#9c179e"
             ],
             [
              0.4444444444444444,
              "#bd3786"
             ],
             [
              0.5555555555555556,
              "#d8576b"
             ],
             [
              0.6666666666666666,
              "#ed7953"
             ],
             [
              0.7777777777777778,
              "#fb9f3a"
             ],
             [
              0.8888888888888888,
              "#fdca26"
             ],
             [
              1,
              "#f0f921"
             ]
            ],
            "type": "histogram2d"
           }
          ],
          "histogram2dcontour": [
           {
            "colorbar": {
             "outlinewidth": 0,
             "ticks": ""
            },
            "colorscale": [
             [
              0,
              "#0d0887"
             ],
             [
              0.1111111111111111,
              "#46039f"
             ],
             [
              0.2222222222222222,
              "#7201a8"
             ],
             [
              0.3333333333333333,
              "#9c179e"
             ],
             [
              0.4444444444444444,
              "#bd3786"
             ],
             [
              0.5555555555555556,
              "#d8576b"
             ],
             [
              0.6666666666666666,
              "#ed7953"
             ],
             [
              0.7777777777777778,
              "#fb9f3a"
             ],
             [
              0.8888888888888888,
              "#fdca26"
             ],
             [
              1,
              "#f0f921"
             ]
            ],
            "type": "histogram2dcontour"
           }
          ],
          "mesh3d": [
           {
            "colorbar": {
             "outlinewidth": 0,
             "ticks": ""
            },
            "type": "mesh3d"
           }
          ],
          "parcoords": [
           {
            "line": {
             "colorbar": {
              "outlinewidth": 0,
              "ticks": ""
             }
            },
            "type": "parcoords"
           }
          ],
          "pie": [
           {
            "automargin": true,
            "type": "pie"
           }
          ],
          "scatter": [
           {
            "marker": {
             "colorbar": {
              "outlinewidth": 0,
              "ticks": ""
             }
            },
            "type": "scatter"
           }
          ],
          "scatter3d": [
           {
            "line": {
             "colorbar": {
              "outlinewidth": 0,
              "ticks": ""
             }
            },
            "marker": {
             "colorbar": {
              "outlinewidth": 0,
              "ticks": ""
             }
            },
            "type": "scatter3d"
           }
          ],
          "scattercarpet": [
           {
            "marker": {
             "colorbar": {
              "outlinewidth": 0,
              "ticks": ""
             }
            },
            "type": "scattercarpet"
           }
          ],
          "scattergeo": [
           {
            "marker": {
             "colorbar": {
              "outlinewidth": 0,
              "ticks": ""
             }
            },
            "type": "scattergeo"
           }
          ],
          "scattergl": [
           {
            "marker": {
             "colorbar": {
              "outlinewidth": 0,
              "ticks": ""
             }
            },
            "type": "scattergl"
           }
          ],
          "scattermapbox": [
           {
            "marker": {
             "colorbar": {
              "outlinewidth": 0,
              "ticks": ""
             }
            },
            "type": "scattermapbox"
           }
          ],
          "scatterpolar": [
           {
            "marker": {
             "colorbar": {
              "outlinewidth": 0,
              "ticks": ""
             }
            },
            "type": "scatterpolar"
           }
          ],
          "scatterpolargl": [
           {
            "marker": {
             "colorbar": {
              "outlinewidth": 0,
              "ticks": ""
             }
            },
            "type": "scatterpolargl"
           }
          ],
          "scatterternary": [
           {
            "marker": {
             "colorbar": {
              "outlinewidth": 0,
              "ticks": ""
             }
            },
            "type": "scatterternary"
           }
          ],
          "surface": [
           {
            "colorbar": {
             "outlinewidth": 0,
             "ticks": ""
            },
            "colorscale": [
             [
              0,
              "#0d0887"
             ],
             [
              0.1111111111111111,
              "#46039f"
             ],
             [
              0.2222222222222222,
              "#7201a8"
             ],
             [
              0.3333333333333333,
              "#9c179e"
             ],
             [
              0.4444444444444444,
              "#bd3786"
             ],
             [
              0.5555555555555556,
              "#d8576b"
             ],
             [
              0.6666666666666666,
              "#ed7953"
             ],
             [
              0.7777777777777778,
              "#fb9f3a"
             ],
             [
              0.8888888888888888,
              "#fdca26"
             ],
             [
              1,
              "#f0f921"
             ]
            ],
            "type": "surface"
           }
          ],
          "table": [
           {
            "cells": {
             "fill": {
              "color": "#EBF0F8"
             },
             "line": {
              "color": "white"
             }
            },
            "header": {
             "fill": {
              "color": "#C8D4E3"
             },
             "line": {
              "color": "white"
             }
            },
            "type": "table"
           }
          ]
         },
         "layout": {
          "annotationdefaults": {
           "arrowcolor": "#2a3f5f",
           "arrowhead": 0,
           "arrowwidth": 1
          },
          "autotypenumbers": "strict",
          "coloraxis": {
           "colorbar": {
            "outlinewidth": 0,
            "ticks": ""
           }
          },
          "colorscale": {
           "diverging": [
            [
             0,
             "#8e0152"
            ],
            [
             0.1,
             "#c51b7d"
            ],
            [
             0.2,
             "#de77ae"
            ],
            [
             0.3,
             "#f1b6da"
            ],
            [
             0.4,
             "#fde0ef"
            ],
            [
             0.5,
             "#f7f7f7"
            ],
            [
             0.6,
             "#e6f5d0"
            ],
            [
             0.7,
             "#b8e186"
            ],
            [
             0.8,
             "#7fbc41"
            ],
            [
             0.9,
             "#4d9221"
            ],
            [
             1,
             "#276419"
            ]
           ],
           "sequential": [
            [
             0,
             "#0d0887"
            ],
            [
             0.1111111111111111,
             "#46039f"
            ],
            [
             0.2222222222222222,
             "#7201a8"
            ],
            [
             0.3333333333333333,
             "#9c179e"
            ],
            [
             0.4444444444444444,
             "#bd3786"
            ],
            [
             0.5555555555555556,
             "#d8576b"
            ],
            [
             0.6666666666666666,
             "#ed7953"
            ],
            [
             0.7777777777777778,
             "#fb9f3a"
            ],
            [
             0.8888888888888888,
             "#fdca26"
            ],
            [
             1,
             "#f0f921"
            ]
           ],
           "sequentialminus": [
            [
             0,
             "#0d0887"
            ],
            [
             0.1111111111111111,
             "#46039f"
            ],
            [
             0.2222222222222222,
             "#7201a8"
            ],
            [
             0.3333333333333333,
             "#9c179e"
            ],
            [
             0.4444444444444444,
             "#bd3786"
            ],
            [
             0.5555555555555556,
             "#d8576b"
            ],
            [
             0.6666666666666666,
             "#ed7953"
            ],
            [
             0.7777777777777778,
             "#fb9f3a"
            ],
            [
             0.8888888888888888,
             "#fdca26"
            ],
            [
             1,
             "#f0f921"
            ]
           ]
          },
          "colorway": [
           "#636efa",
           "#EF553B",
           "#00cc96",
           "#ab63fa",
           "#FFA15A",
           "#19d3f3",
           "#FF6692",
           "#B6E880",
           "#FF97FF",
           "#FECB52"
          ],
          "font": {
           "color": "#2a3f5f"
          },
          "geo": {
           "bgcolor": "white",
           "lakecolor": "white",
           "landcolor": "#E5ECF6",
           "showlakes": true,
           "showland": true,
           "subunitcolor": "white"
          },
          "hoverlabel": {
           "align": "left"
          },
          "hovermode": "closest",
          "mapbox": {
           "style": "light"
          },
          "paper_bgcolor": "white",
          "plot_bgcolor": "#E5ECF6",
          "polar": {
           "angularaxis": {
            "gridcolor": "white",
            "linecolor": "white",
            "ticks": ""
           },
           "bgcolor": "#E5ECF6",
           "radialaxis": {
            "gridcolor": "white",
            "linecolor": "white",
            "ticks": ""
           }
          },
          "scene": {
           "xaxis": {
            "backgroundcolor": "#E5ECF6",
            "gridcolor": "white",
            "gridwidth": 2,
            "linecolor": "white",
            "showbackground": true,
            "ticks": "",
            "zerolinecolor": "white"
           },
           "yaxis": {
            "backgroundcolor": "#E5ECF6",
            "gridcolor": "white",
            "gridwidth": 2,
            "linecolor": "white",
            "showbackground": true,
            "ticks": "",
            "zerolinecolor": "white"
           },
           "zaxis": {
            "backgroundcolor": "#E5ECF6",
            "gridcolor": "white",
            "gridwidth": 2,
            "linecolor": "white",
            "showbackground": true,
            "ticks": "",
            "zerolinecolor": "white"
           }
          },
          "shapedefaults": {
           "line": {
            "color": "#2a3f5f"
           }
          },
          "ternary": {
           "aaxis": {
            "gridcolor": "white",
            "linecolor": "white",
            "ticks": ""
           },
           "baxis": {
            "gridcolor": "white",
            "linecolor": "white",
            "ticks": ""
           },
           "bgcolor": "#E5ECF6",
           "caxis": {
            "gridcolor": "white",
            "linecolor": "white",
            "ticks": ""
           }
          },
          "title": {
           "x": 0.05
          },
          "xaxis": {
           "automargin": true,
           "gridcolor": "white",
           "linecolor": "white",
           "ticks": "",
           "title": {
            "standoff": 15
           },
           "zerolinecolor": "white",
           "zerolinewidth": 2
          },
          "yaxis": {
           "automargin": true,
           "gridcolor": "white",
           "linecolor": "white",
           "ticks": "",
           "title": {
            "standoff": 15
           },
           "zerolinecolor": "white",
           "zerolinewidth": 2
          }
         }
        },
        "title": {
         "text": "R1 Structures: Frequency and Impact on Score Relative to All Factions Average (144.4): nevlas"
        }
       }
      },
      "text/html": [
       "<div>                            <div id=\"55996586-1f41-4e2b-a84b-8694c96212b7\" class=\"plotly-graph-div\" style=\"height:525px; width:100%;\"></div>            <script type=\"text/javascript\">                require([\"plotly\"], function(Plotly) {                    window.PLOTLYENV=window.PLOTLYENV || {};                                    if (document.getElementById(\"55996586-1f41-4e2b-a84b-8694c96212b7\")) {                    Plotly.newPlot(                        \"55996586-1f41-4e2b-a84b-8694c96212b7\",                        [{\"branchvalues\":\"total\",\"customdata\":[[337.6666666666667,183.66666666666666],[252.6813186813187,149.7032967032967],[139.6,129.0],[152.0,129.30769230769232],[168.5,130.5],[202.0,144.5],[250.968,152.632],[181.27777777777777,122.91666666666667],[121.125,117.625],[242.79432624113474,160.33333333333334],[100.0,156.0],[213.68421052631578,145.49122807017545],[141.93939393939394,120.06060606060606],[133.0,182.0],[58.0,158.0],[148.0,138.33333333333334],[253.48076923076923,150.80769230769232],[200.9882005899705,148.12979351032448],[169.15853658536585,131.58536585365854],[288.85714285714283,174.10714285714286],[215.85294117647058,156.61764705882354],[194.51162790697674,146.1627906976744],[90.25,113.0],[202.40816326530611,146.08163265306123],[140.83870967741936,132.7741935483871],[361.0,180.0],[0.0,153.0],[215.4,161.73333333333332],[150.0,141.93333333333334],[126.0,139.0],[138.0,157.0],[266.0,184.0],[208.66666666666666,145.5],[152.0,117.0],[\"(?)\",150.5752427184466],[\"(?)\",152.62222222222223],[148.0,138.33333333333334],[\"(?)\",133.38297872340425],[\"(?)\",129.42857142857142],[\"(?)\",146.97608024691357]],\"domain\":{\"x\":[0.0,1.0],\"y\":[0.0,1.0]},\"hovertemplate\":\"labels=%{label}<br>class_counts=%{value}<br>parent=%{parent}<br>id=%{id}<br>ave_elo_nevlas=%{customdata[0]}<br>ave_score_nevlas=%{color}<extra></extra>\",\"ids\":[\"R1 Structs/ac1/ 0-m_0-ts_0-lab_1-pi_1-ac1_0-ac2\",\"R1 Structs/PI/ 0-m_0-ts_1-lab_1-pi_0-ac1_0-ac2\",\"R1 Structs/lab/ 0-m_0-ts_2-lab_0-pi_0-ac1_0-ac2\",\"R1 Structs/PI/ 0-m_1-ts_0-lab_1-pi_0-ac1_0-ac2\",\"R1 Structs/lab/ 0-m_1-ts_1-lab_0-pi_0-ac1_0-ac2\",\"R1 Structs/PI/ 0-m_1-ts_1-lab_1-pi_0-ac1_0-ac2\",\"R1 Structs/ac1/ 1-m_0-ts_0-lab_0-pi_1-ac1_0-ac2\",\"R1 Structs/PI/ 1-m_0-ts_0-lab_1-pi_0-ac1_0-ac2\",\"R1 Structs/lab/ 1-m_0-ts_1-lab_0-pi_0-ac1_0-ac2\",\"R1 Structs/PI/ 1-m_0-ts_1-lab_1-pi_0-ac1_0-ac2\",\"R1 Structs/lab/ 1-m_0-ts_2-lab_0-pi_0-ac1_0-ac2\",\"R1 Structs/PI/ 1-m_1-ts_0-lab_1-pi_0-ac1_0-ac2\",\"R1 Structs/lab/ 1-m_1-ts_1-lab_0-pi_0-ac1_0-ac2\",\"R1 Structs/PI/ 1-m_1-ts_1-lab_1-pi_0-ac1_0-ac2\",\"R1 Structs/ts/ 1-m_2-ts_0-lab_0-pi_0-ac1_0-ac2\",\"R1 Structs/ac2/ 2-m_0-ts_0-lab_0-pi_0-ac1_1-ac2\",\"R1 Structs/ac1/ 2-m_0-ts_0-lab_0-pi_1-ac1_0-ac2\",\"R1 Structs/PI/ 2-m_0-ts_0-lab_1-pi_0-ac1_0-ac2\",\"R1 Structs/lab/ 2-m_0-ts_1-lab_0-pi_0-ac1_0-ac2\",\"R1 Structs/PI/ 2-m_0-ts_1-lab_1-pi_0-ac1_0-ac2\",\"R1 Structs/PI/ 2-m_1-ts_0-lab_1-pi_0-ac1_0-ac2\",\"R1 Structs/lab/ 2-m_1-ts_1-lab_0-pi_0-ac1_0-ac2\",\"R1 Structs/ts/ 2-m_2-ts_0-lab_0-pi_0-ac1_0-ac2\",\"R1 Structs/PI/ 3-m_0-ts_0-lab_1-pi_0-ac1_0-ac2\",\"R1 Structs/lab/ 3-m_0-ts_1-lab_0-pi_0-ac1_0-ac2\",\"R1 Structs/PI/ 3-m_0-ts_1-lab_1-pi_0-ac1_0-ac2\",\"R1 Structs/lab/ 3-m_1-ts_1-lab_0-pi_0-ac1_0-ac2\",\"R1 Structs/PI/ 4-m_0-ts_0-lab_1-pi_0-ac1_0-ac2\",\"R1 Structs/lab/ 4-m_0-ts_1-lab_0-pi_0-ac1_0-ac2\",\"R1 Structs/ts/ 4-m_1-ts_0-lab_0-pi_0-ac1_0-ac2\",\"R1 Structs/ts/ 4-m_2-ts_0-lab_0-pi_0-ac1_0-ac2\",\"R1 Structs/PI/ 5-m_0-ts_0-lab_1-pi_0-ac1_0-ac2\",\"R1 Structs/lab/ 5-m_0-ts_1-lab_0-pi_0-ac1_0-ac2\",\"R1 Structs/lab/ 6-m_0-ts_1-lab_0-pi_0-ac1_0-ac2\",\"R1 Structs/PI\",\"R1 Structs/ac1\",\"R1 Structs/ac2\",\"R1 Structs/lab\",\"R1 Structs/ts\",\"R1 Structs\"],\"labels\":[\" 0-m_0-ts_0-lab_1-pi_1-ac1_0-ac2\",\" 0-m_0-ts_1-lab_1-pi_0-ac1_0-ac2\",\" 0-m_0-ts_2-lab_0-pi_0-ac1_0-ac2\",\" 0-m_1-ts_0-lab_1-pi_0-ac1_0-ac2\",\" 0-m_1-ts_1-lab_0-pi_0-ac1_0-ac2\",\" 0-m_1-ts_1-lab_1-pi_0-ac1_0-ac2\",\" 1-m_0-ts_0-lab_0-pi_1-ac1_0-ac2\",\" 1-m_0-ts_0-lab_1-pi_0-ac1_0-ac2\",\" 1-m_0-ts_1-lab_0-pi_0-ac1_0-ac2\",\" 1-m_0-ts_1-lab_1-pi_0-ac1_0-ac2\",\" 1-m_0-ts_2-lab_0-pi_0-ac1_0-ac2\",\" 1-m_1-ts_0-lab_1-pi_0-ac1_0-ac2\",\" 1-m_1-ts_1-lab_0-pi_0-ac1_0-ac2\",\" 1-m_1-ts_1-lab_1-pi_0-ac1_0-ac2\",\" 1-m_2-ts_0-lab_0-pi_0-ac1_0-ac2\",\" 2-m_0-ts_0-lab_0-pi_0-ac1_1-ac2\",\" 2-m_0-ts_0-lab_0-pi_1-ac1_0-ac2\",\" 2-m_0-ts_0-lab_1-pi_0-ac1_0-ac2\",\" 2-m_0-ts_1-lab_0-pi_0-ac1_0-ac2\",\" 2-m_0-ts_1-lab_1-pi_0-ac1_0-ac2\",\" 2-m_1-ts_0-lab_1-pi_0-ac1_0-ac2\",\" 2-m_1-ts_1-lab_0-pi_0-ac1_0-ac2\",\" 2-m_2-ts_0-lab_0-pi_0-ac1_0-ac2\",\" 3-m_0-ts_0-lab_1-pi_0-ac1_0-ac2\",\" 3-m_0-ts_1-lab_0-pi_0-ac1_0-ac2\",\" 3-m_0-ts_1-lab_1-pi_0-ac1_0-ac2\",\" 3-m_1-ts_1-lab_0-pi_0-ac1_0-ac2\",\" 4-m_0-ts_0-lab_1-pi_0-ac1_0-ac2\",\" 4-m_0-ts_1-lab_0-pi_0-ac1_0-ac2\",\" 4-m_1-ts_0-lab_0-pi_0-ac1_0-ac2\",\" 4-m_2-ts_0-lab_0-pi_0-ac1_0-ac2\",\" 5-m_0-ts_0-lab_1-pi_0-ac1_0-ac2\",\" 5-m_0-ts_1-lab_0-pi_0-ac1_0-ac2\",\" 6-m_0-ts_1-lab_0-pi_0-ac1_0-ac2\",\"PI\",\"ac1\",\"ac2\",\"lab\",\"ts\",\"R1 Structs\"],\"marker\":{\"coloraxis\":\"coloraxis\",\"colors\":[183.66666666666666,149.7032967032967,129.0,129.30769230769232,130.5,144.5,152.632,122.91666666666667,117.625,160.33333333333334,156.0,145.49122807017545,120.06060606060606,182.0,158.0,138.33333333333334,150.80769230769232,148.12979351032448,131.58536585365854,174.10714285714286,156.61764705882354,146.1627906976744,113.0,146.08163265306123,132.7741935483871,180.0,153.0,161.73333333333332,141.93333333333334,139.0,157.0,184.0,145.5,117.0,150.5752427184466,152.62222222222223,138.33333333333334,133.38297872340425,129.42857142857142,146.97608024691357]},\"name\":\"\",\"parents\":[\"R1 Structs/ac1\",\"R1 Structs/PI\",\"R1 Structs/lab\",\"R1 Structs/PI\",\"R1 Structs/lab\",\"R1 Structs/PI\",\"R1 Structs/ac1\",\"R1 Structs/PI\",\"R1 Structs/lab\",\"R1 Structs/PI\",\"R1 Structs/lab\",\"R1 Structs/PI\",\"R1 Structs/lab\",\"R1 Structs/PI\",\"R1 Structs/ts\",\"R1 Structs/ac2\",\"R1 Structs/ac1\",\"R1 Structs/PI\",\"R1 Structs/lab\",\"R1 Structs/PI\",\"R1 Structs/PI\",\"R1 Structs/lab\",\"R1 Structs/ts\",\"R1 Structs/PI\",\"R1 Structs/lab\",\"R1 Structs/PI\",\"R1 Structs/lab\",\"R1 Structs/PI\",\"R1 Structs/lab\",\"R1 Structs/ts\",\"R1 Structs/ts\",\"R1 Structs/PI\",\"R1 Structs/lab\",\"R1 Structs/lab\",\"R1 Structs\",\"R1 Structs\",\"R1 Structs\",\"R1 Structs\",\"R1 Structs\",\"\"],\"values\":[6,182,10,26,4,4,250,72,32,282,2,114,66,2,2,6,104,678,164,56,68,86,8,98,124,2,2,60,60,2,2,4,12,2,1648,360,6,564,14,2592],\"type\":\"treemap\"}],                        {\"template\":{\"data\":{\"bar\":[{\"error_x\":{\"color\":\"#2a3f5f\"},\"error_y\":{\"color\":\"#2a3f5f\"},\"marker\":{\"line\":{\"color\":\"#E5ECF6\",\"width\":0.5},\"pattern\":{\"fillmode\":\"overlay\",\"size\":10,\"solidity\":0.2}},\"type\":\"bar\"}],\"barpolar\":[{\"marker\":{\"line\":{\"color\":\"#E5ECF6\",\"width\":0.5},\"pattern\":{\"fillmode\":\"overlay\",\"size\":10,\"solidity\":0.2}},\"type\":\"barpolar\"}],\"carpet\":[{\"aaxis\":{\"endlinecolor\":\"#2a3f5f\",\"gridcolor\":\"white\",\"linecolor\":\"white\",\"minorgridcolor\":\"white\",\"startlinecolor\":\"#2a3f5f\"},\"baxis\":{\"endlinecolor\":\"#2a3f5f\",\"gridcolor\":\"white\",\"linecolor\":\"white\",\"minorgridcolor\":\"white\",\"startlinecolor\":\"#2a3f5f\"},\"type\":\"carpet\"}],\"choropleth\":[{\"colorbar\":{\"outlinewidth\":0,\"ticks\":\"\"},\"type\":\"choropleth\"}],\"contour\":[{\"colorbar\":{\"outlinewidth\":0,\"ticks\":\"\"},\"colorscale\":[[0.0,\"#0d0887\"],[0.1111111111111111,\"#46039f\"],[0.2222222222222222,\"#7201a8\"],[0.3333333333333333,\"#9c179e\"],[0.4444444444444444,\"#bd3786\"],[0.5555555555555556,\"#d8576b\"],[0.6666666666666666,\"#ed7953\"],[0.7777777777777778,\"#fb9f3a\"],[0.8888888888888888,\"#fdca26\"],[1.0,\"#f0f921\"]],\"type\":\"contour\"}],\"contourcarpet\":[{\"colorbar\":{\"outlinewidth\":0,\"ticks\":\"\"},\"type\":\"contourcarpet\"}],\"heatmap\":[{\"colorbar\":{\"outlinewidth\":0,\"ticks\":\"\"},\"colorscale\":[[0.0,\"#0d0887\"],[0.1111111111111111,\"#46039f\"],[0.2222222222222222,\"#7201a8\"],[0.3333333333333333,\"#9c179e\"],[0.4444444444444444,\"#bd3786\"],[0.5555555555555556,\"#d8576b\"],[0.6666666666666666,\"#ed7953\"],[0.7777777777777778,\"#fb9f3a\"],[0.8888888888888888,\"#fdca26\"],[1.0,\"#f0f921\"]],\"type\":\"heatmap\"}],\"heatmapgl\":[{\"colorbar\":{\"outlinewidth\":0,\"ticks\":\"\"},\"colorscale\":[[0.0,\"#0d0887\"],[0.1111111111111111,\"#46039f\"],[0.2222222222222222,\"#7201a8\"],[0.3333333333333333,\"#9c179e\"],[0.4444444444444444,\"#bd3786\"],[0.5555555555555556,\"#d8576b\"],[0.6666666666666666,\"#ed7953\"],[0.7777777777777778,\"#fb9f3a\"],[0.8888888888888888,\"#fdca26\"],[1.0,\"#f0f921\"]],\"type\":\"heatmapgl\"}],\"histogram\":[{\"marker\":{\"pattern\":{\"fillmode\":\"overlay\",\"size\":10,\"solidity\":0.2}},\"type\":\"histogram\"}],\"histogram2d\":[{\"colorbar\":{\"outlinewidth\":0,\"ticks\":\"\"},\"colorscale\":[[0.0,\"#0d0887\"],[0.1111111111111111,\"#46039f\"],[0.2222222222222222,\"#7201a8\"],[0.3333333333333333,\"#9c179e\"],[0.4444444444444444,\"#bd3786\"],[0.5555555555555556,\"#d8576b\"],[0.6666666666666666,\"#ed7953\"],[0.7777777777777778,\"#fb9f3a\"],[0.8888888888888888,\"#fdca26\"],[1.0,\"#f0f921\"]],\"type\":\"histogram2d\"}],\"histogram2dcontour\":[{\"colorbar\":{\"outlinewidth\":0,\"ticks\":\"\"},\"colorscale\":[[0.0,\"#0d0887\"],[0.1111111111111111,\"#46039f\"],[0.2222222222222222,\"#7201a8\"],[0.3333333333333333,\"#9c179e\"],[0.4444444444444444,\"#bd3786\"],[0.5555555555555556,\"#d8576b\"],[0.6666666666666666,\"#ed7953\"],[0.7777777777777778,\"#fb9f3a\"],[0.8888888888888888,\"#fdca26\"],[1.0,\"#f0f921\"]],\"type\":\"histogram2dcontour\"}],\"mesh3d\":[{\"colorbar\":{\"outlinewidth\":0,\"ticks\":\"\"},\"type\":\"mesh3d\"}],\"parcoords\":[{\"line\":{\"colorbar\":{\"outlinewidth\":0,\"ticks\":\"\"}},\"type\":\"parcoords\"}],\"pie\":[{\"automargin\":true,\"type\":\"pie\"}],\"scatter\":[{\"marker\":{\"colorbar\":{\"outlinewidth\":0,\"ticks\":\"\"}},\"type\":\"scatter\"}],\"scatter3d\":[{\"line\":{\"colorbar\":{\"outlinewidth\":0,\"ticks\":\"\"}},\"marker\":{\"colorbar\":{\"outlinewidth\":0,\"ticks\":\"\"}},\"type\":\"scatter3d\"}],\"scattercarpet\":[{\"marker\":{\"colorbar\":{\"outlinewidth\":0,\"ticks\":\"\"}},\"type\":\"scattercarpet\"}],\"scattergeo\":[{\"marker\":{\"colorbar\":{\"outlinewidth\":0,\"ticks\":\"\"}},\"type\":\"scattergeo\"}],\"scattergl\":[{\"marker\":{\"colorbar\":{\"outlinewidth\":0,\"ticks\":\"\"}},\"type\":\"scattergl\"}],\"scattermapbox\":[{\"marker\":{\"colorbar\":{\"outlinewidth\":0,\"ticks\":\"\"}},\"type\":\"scattermapbox\"}],\"scatterpolar\":[{\"marker\":{\"colorbar\":{\"outlinewidth\":0,\"ticks\":\"\"}},\"type\":\"scatterpolar\"}],\"scatterpolargl\":[{\"marker\":{\"colorbar\":{\"outlinewidth\":0,\"ticks\":\"\"}},\"type\":\"scatterpolargl\"}],\"scatterternary\":[{\"marker\":{\"colorbar\":{\"outlinewidth\":0,\"ticks\":\"\"}},\"type\":\"scatterternary\"}],\"surface\":[{\"colorbar\":{\"outlinewidth\":0,\"ticks\":\"\"},\"colorscale\":[[0.0,\"#0d0887\"],[0.1111111111111111,\"#46039f\"],[0.2222222222222222,\"#7201a8\"],[0.3333333333333333,\"#9c179e\"],[0.4444444444444444,\"#bd3786\"],[0.5555555555555556,\"#d8576b\"],[0.6666666666666666,\"#ed7953\"],[0.7777777777777778,\"#fb9f3a\"],[0.8888888888888888,\"#fdca26\"],[1.0,\"#f0f921\"]],\"type\":\"surface\"}],\"table\":[{\"cells\":{\"fill\":{\"color\":\"#EBF0F8\"},\"line\":{\"color\":\"white\"}},\"header\":{\"fill\":{\"color\":\"#C8D4E3\"},\"line\":{\"color\":\"white\"}},\"type\":\"table\"}]},\"layout\":{\"annotationdefaults\":{\"arrowcolor\":\"#2a3f5f\",\"arrowhead\":0,\"arrowwidth\":1},\"autotypenumbers\":\"strict\",\"coloraxis\":{\"colorbar\":{\"outlinewidth\":0,\"ticks\":\"\"}},\"colorscale\":{\"diverging\":[[0,\"#8e0152\"],[0.1,\"#c51b7d\"],[0.2,\"#de77ae\"],[0.3,\"#f1b6da\"],[0.4,\"#fde0ef\"],[0.5,\"#f7f7f7\"],[0.6,\"#e6f5d0\"],[0.7,\"#b8e186\"],[0.8,\"#7fbc41\"],[0.9,\"#4d9221\"],[1,\"#276419\"]],\"sequential\":[[0.0,\"#0d0887\"],[0.1111111111111111,\"#46039f\"],[0.2222222222222222,\"#7201a8\"],[0.3333333333333333,\"#9c179e\"],[0.4444444444444444,\"#bd3786\"],[0.5555555555555556,\"#d8576b\"],[0.6666666666666666,\"#ed7953\"],[0.7777777777777778,\"#fb9f3a\"],[0.8888888888888888,\"#fdca26\"],[1.0,\"#f0f921\"]],\"sequentialminus\":[[0.0,\"#0d0887\"],[0.1111111111111111,\"#46039f\"],[0.2222222222222222,\"#7201a8\"],[0.3333333333333333,\"#9c179e\"],[0.4444444444444444,\"#bd3786\"],[0.5555555555555556,\"#d8576b\"],[0.6666666666666666,\"#ed7953\"],[0.7777777777777778,\"#fb9f3a\"],[0.8888888888888888,\"#fdca26\"],[1.0,\"#f0f921\"]]},\"colorway\":[\"#636efa\",\"#EF553B\",\"#00cc96\",\"#ab63fa\",\"#FFA15A\",\"#19d3f3\",\"#FF6692\",\"#B6E880\",\"#FF97FF\",\"#FECB52\"],\"font\":{\"color\":\"#2a3f5f\"},\"geo\":{\"bgcolor\":\"white\",\"lakecolor\":\"white\",\"landcolor\":\"#E5ECF6\",\"showlakes\":true,\"showland\":true,\"subunitcolor\":\"white\"},\"hoverlabel\":{\"align\":\"left\"},\"hovermode\":\"closest\",\"mapbox\":{\"style\":\"light\"},\"paper_bgcolor\":\"white\",\"plot_bgcolor\":\"#E5ECF6\",\"polar\":{\"angularaxis\":{\"gridcolor\":\"white\",\"linecolor\":\"white\",\"ticks\":\"\"},\"bgcolor\":\"#E5ECF6\",\"radialaxis\":{\"gridcolor\":\"white\",\"linecolor\":\"white\",\"ticks\":\"\"}},\"scene\":{\"xaxis\":{\"backgroundcolor\":\"#E5ECF6\",\"gridcolor\":\"white\",\"gridwidth\":2,\"linecolor\":\"white\",\"showbackground\":true,\"ticks\":\"\",\"zerolinecolor\":\"white\"},\"yaxis\":{\"backgroundcolor\":\"#E5ECF6\",\"gridcolor\":\"white\",\"gridwidth\":2,\"linecolor\":\"white\",\"showbackground\":true,\"ticks\":\"\",\"zerolinecolor\":\"white\"},\"zaxis\":{\"backgroundcolor\":\"#E5ECF6\",\"gridcolor\":\"white\",\"gridwidth\":2,\"linecolor\":\"white\",\"showbackground\":true,\"ticks\":\"\",\"zerolinecolor\":\"white\"}},\"shapedefaults\":{\"line\":{\"color\":\"#2a3f5f\"}},\"ternary\":{\"aaxis\":{\"gridcolor\":\"white\",\"linecolor\":\"white\",\"ticks\":\"\"},\"baxis\":{\"gridcolor\":\"white\",\"linecolor\":\"white\",\"ticks\":\"\"},\"bgcolor\":\"#E5ECF6\",\"caxis\":{\"gridcolor\":\"white\",\"linecolor\":\"white\",\"ticks\":\"\"}},\"title\":{\"x\":0.05},\"xaxis\":{\"automargin\":true,\"gridcolor\":\"white\",\"linecolor\":\"white\",\"ticks\":\"\",\"title\":{\"standoff\":15},\"zerolinecolor\":\"white\",\"zerolinewidth\":2},\"yaxis\":{\"automargin\":true,\"gridcolor\":\"white\",\"linecolor\":\"white\",\"ticks\":\"\",\"title\":{\"standoff\":15},\"zerolinecolor\":\"white\",\"zerolinewidth\":2}}},\"coloraxis\":{\"colorbar\":{\"title\":{\"text\":\"ave_score_nevlas\"}},\"colorscale\":[[0.0,\"rgb(103,0,31)\"],[0.1,\"rgb(178,24,43)\"],[0.2,\"rgb(214,96,77)\"],[0.3,\"rgb(244,165,130)\"],[0.4,\"rgb(253,219,199)\"],[0.5,\"rgb(247,247,247)\"],[0.6,\"rgb(209,229,240)\"],[0.7,\"rgb(146,197,222)\"],[0.8,\"rgb(67,147,195)\"],[0.9,\"rgb(33,102,172)\"],[1.0,\"rgb(5,48,97)\"]],\"cmid\":144.39872372553106},\"legend\":{\"tracegroupgap\":0},\"margin\":{\"t\":50,\"l\":25,\"r\":25,\"b\":25},\"title\":{\"text\":\"R1 Structures: Frequency and Impact on Score Relative to All Factions Average (144.4): nevlas\"}},                        {\"responsive\": true}                    ).then(function(){\n",
       "                            \n",
       "var gd = document.getElementById('55996586-1f41-4e2b-a84b-8694c96212b7');\n",
       "var x = new MutationObserver(function (mutations, observer) {{\n",
       "        var display = window.getComputedStyle(gd).display;\n",
       "        if (!display || display === 'none') {{\n",
       "            console.log([gd, 'removed!']);\n",
       "            Plotly.purge(gd);\n",
       "            observer.disconnect();\n",
       "        }}\n",
       "}});\n",
       "\n",
       "// Listen for the removal of the full notebook cells\n",
       "var notebookContainer = gd.closest('#notebook-container');\n",
       "if (notebookContainer) {{\n",
       "    x.observe(notebookContainer, {childList: true});\n",
       "}}\n",
       "\n",
       "// Listen for the clearing of the current output cell\n",
       "var outputEl = gd.closest('.output');\n",
       "if (outputEl) {{\n",
       "    x.observe(outputEl, {childList: true});\n",
       "}}\n",
       "\n",
       "                        })                };                });            </script>        </div>"
      ]
     },
     "metadata": {},
     "output_type": "display_data"
    },
    {
     "data": {
      "application/vnd.plotly.v1+json": {
       "config": {
        "plotlyServerURL": "https://plot.ly"
       },
       "data": [
        {
         "branchvalues": "total",
         "customdata": [
          [
           150.5,
           143.3
          ],
          [
           201.71186440677965,
           154.61016949152543
          ],
          [
           185.29032258064515,
           144.88387096774193
          ],
          [
           169.04166666666666,
           146.58333333333334
          ],
          [
           181.66666666666666,
           155
          ],
          [
           230.11111111111111,
           157.88888888888889
          ],
          [
           219.93989431968296,
           162.54161162483487
          ],
          [
           134.30864197530863,
           128.320987654321
          ],
          [
           158.125,
           151.1875
          ],
          [
           189.55555555555554,
           140.44444444444446
          ],
          [
           148.01923076923077,
           140.32692307692307
          ],
          [
           334,
           213
          ],
          [
           234.52325581395348,
           167.3860465116279
          ],
          [
           196.83516483516485,
           154.3919413919414
          ],
          [
           247,
           170.66666666666666
          ],
          [
           143,
           152.33333333333334
          ],
          [
           116.73076923076923,
           132.57692307692307
          ],
          [
           202,
           168.33333333333334
          ],
          [
           98.5,
           159.5
          ],
          [
           198.36666666666667,
           154
          ],
          [
           169,
           126
          ],
          [
           170.5,
           173
          ],
          [
           263.55555555555554,
           163.44444444444446
          ],
          [
           "(?)",
           159.01187717265353
          ],
          [
           "(?)",
           156.29885057471265
          ],
          [
           150.5,
           143.3
          ],
          [
           "(?)",
           158.79621503017006
          ]
         ],
         "domain": {
          "x": [
           0,
           1
          ],
          "y": [
           0,
           1
          ]
         },
         "hovertemplate": "labels=%{label}<br>class_counts=%{value}<br>parent=%{parent}<br>id=%{id}<br>ave_elo_ivits=%{customdata[0]}<br>ave_score_ivits=%{color}<extra></extra>",
         "ids": [
          "R1 Structs/ac2/ 0-m_0-ts_0-lab_1-pi_0-ac1_1-ac2",
          "R1 Structs/ac1/ 0-m_0-ts_0-lab_1-pi_1-ac1_0-ac2",
          "R1 Structs/PI/ 0-m_0-ts_1-lab_1-pi_0-ac1_0-ac2",
          "R1 Structs/PI/ 0-m_1-ts_1-lab_1-pi_0-ac1_0-ac2",
          "R1 Structs/PI/ 0-m_2-ts_0-lab_1-pi_0-ac1_0-ac2",
          "R1 Structs/ac1/ 1-m_0-ts_0-lab_1-pi_1-ac1_0-ac2",
          "R1 Structs/PI/ 1-m_0-ts_1-lab_1-pi_0-ac1_0-ac2",
          "R1 Structs/PI/ 1-m_1-ts_0-lab_1-pi_0-ac1_0-ac2",
          "R1 Structs/PI/ 1-m_1-ts_1-lab_1-pi_0-ac1_0-ac2",
          "R1 Structs/PI/ 1-m_2-ts_0-lab_1-pi_0-ac1_0-ac2",
          "R1 Structs/PI/ 2-m_0-ts_0-lab_1-pi_0-ac1_0-ac2",
          "R1 Structs/ac1/ 2-m_0-ts_0-lab_1-pi_1-ac1_0-ac2",
          "R1 Structs/PI/ 2-m_0-ts_1-lab_1-pi_0-ac1_0-ac2",
          "R1 Structs/PI/ 2-m_1-ts_0-lab_1-pi_0-ac1_0-ac2",
          "R1 Structs/PI/ 2-m_1-ts_1-lab_1-pi_0-ac1_0-ac2",
          "R1 Structs/PI/ 2-m_2-ts_0-lab_1-pi_0-ac1_0-ac2",
          "R1 Structs/PI/ 3-m_0-ts_0-lab_1-pi_0-ac1_0-ac2",
          "R1 Structs/PI/ 3-m_0-ts_1-lab_1-pi_0-ac1_0-ac2",
          "R1 Structs/PI/ 3-m_1-ts_0-lab_1-pi_0-ac1_0-ac2",
          "R1 Structs/PI/ 4-m_0-ts_0-lab_1-pi_0-ac1_0-ac2",
          "R1 Structs/PI/ 4-m_0-ts_1-lab_1-pi_0-ac1_0-ac2",
          "R1 Structs/PI/ 4-m_1-ts_0-lab_1-pi_0-ac1_0-ac2",
          "R1 Structs/PI/ 5-m_0-ts_0-lab_1-pi_0-ac1_0-ac2",
          "R1 Structs/PI",
          "R1 Structs/ac1",
          "R1 Structs/ac2",
          "R1 Structs"
         ],
         "labels": [
          " 0-m_0-ts_0-lab_1-pi_0-ac1_1-ac2",
          " 0-m_0-ts_0-lab_1-pi_1-ac1_0-ac2",
          " 0-m_0-ts_1-lab_1-pi_0-ac1_0-ac2",
          " 0-m_1-ts_1-lab_1-pi_0-ac1_0-ac2",
          " 0-m_2-ts_0-lab_1-pi_0-ac1_0-ac2",
          " 1-m_0-ts_0-lab_1-pi_1-ac1_0-ac2",
          " 1-m_0-ts_1-lab_1-pi_0-ac1_0-ac2",
          " 1-m_1-ts_0-lab_1-pi_0-ac1_0-ac2",
          " 1-m_1-ts_1-lab_1-pi_0-ac1_0-ac2",
          " 1-m_2-ts_0-lab_1-pi_0-ac1_0-ac2",
          " 2-m_0-ts_0-lab_1-pi_0-ac1_0-ac2",
          " 2-m_0-ts_0-lab_1-pi_1-ac1_0-ac2",
          " 2-m_0-ts_1-lab_1-pi_0-ac1_0-ac2",
          " 2-m_1-ts_0-lab_1-pi_0-ac1_0-ac2",
          " 2-m_1-ts_1-lab_1-pi_0-ac1_0-ac2",
          " 2-m_2-ts_0-lab_1-pi_0-ac1_0-ac2",
          " 3-m_0-ts_0-lab_1-pi_0-ac1_0-ac2",
          " 3-m_0-ts_1-lab_1-pi_0-ac1_0-ac2",
          " 3-m_1-ts_0-lab_1-pi_0-ac1_0-ac2",
          " 4-m_0-ts_0-lab_1-pi_0-ac1_0-ac2",
          " 4-m_0-ts_1-lab_1-pi_0-ac1_0-ac2",
          " 4-m_1-ts_0-lab_1-pi_0-ac1_0-ac2",
          " 5-m_0-ts_0-lab_1-pi_0-ac1_0-ac2",
          "PI",
          "ac1",
          "ac2",
          "R1 Structs"
         ],
         "marker": {
          "coloraxis": "coloraxis",
          "colors": [
           143.3,
           154.61016949152543,
           144.88387096774193,
           146.58333333333334,
           155,
           157.88888888888889,
           162.54161162483487,
           128.320987654321,
           151.1875,
           140.44444444444446,
           140.32692307692307,
           213,
           167.3860465116279,
           154.3919413919414,
           170.66666666666666,
           152.33333333333334,
           132.57692307692307,
           168.33333333333334,
           159.5,
           154,
           126,
           173,
           163.44444444444446,
           159.01187717265353,
           156.29885057471265,
           143.3,
           158.79621503017006
          ]
         },
         "name": "",
         "parents": [
          "R1 Structs/ac2",
          "R1 Structs/ac1",
          "R1 Structs/PI",
          "R1 Structs/PI",
          "R1 Structs/PI",
          "R1 Structs/ac1",
          "R1 Structs/PI",
          "R1 Structs/PI",
          "R1 Structs/PI",
          "R1 Structs/PI",
          "R1 Structs/PI",
          "R1 Structs/ac1",
          "R1 Structs/PI",
          "R1 Structs/PI",
          "R1 Structs/PI",
          "R1 Structs/PI",
          "R1 Structs/PI",
          "R1 Structs/PI",
          "R1 Structs/PI",
          "R1 Structs/PI",
          "R1 Structs/PI",
          "R1 Structs/PI",
          "R1 Structs/PI",
          "R1 Structs",
          "R1 Structs",
          "R1 Structs",
          ""
         ],
         "type": "treemap",
         "values": [
          20,
          118,
          310,
          48,
          12,
          54,
          1514,
          81,
          32,
          18,
          104,
          2,
          860,
          273,
          6,
          6,
          52,
          42,
          8,
          60,
          4,
          4,
          18,
          3452,
          174,
          20,
          3646
         ]
        }
       ],
       "layout": {
        "coloraxis": {
         "cmid": 144.39872372553106,
         "colorbar": {
          "title": {
           "text": "ave_score_ivits"
          }
         },
         "colorscale": [
          [
           0,
           "rgb(103,0,31)"
          ],
          [
           0.1,
           "rgb(178,24,43)"
          ],
          [
           0.2,
           "rgb(214,96,77)"
          ],
          [
           0.3,
           "rgb(244,165,130)"
          ],
          [
           0.4,
           "rgb(253,219,199)"
          ],
          [
           0.5,
           "rgb(247,247,247)"
          ],
          [
           0.6,
           "rgb(209,229,240)"
          ],
          [
           0.7,
           "rgb(146,197,222)"
          ],
          [
           0.8,
           "rgb(67,147,195)"
          ],
          [
           0.9,
           "rgb(33,102,172)"
          ],
          [
           1,
           "rgb(5,48,97)"
          ]
         ]
        },
        "legend": {
         "tracegroupgap": 0
        },
        "margin": {
         "b": 25,
         "l": 25,
         "r": 25,
         "t": 50
        },
        "template": {
         "data": {
          "bar": [
           {
            "error_x": {
             "color": "#2a3f5f"
            },
            "error_y": {
             "color": "#2a3f5f"
            },
            "marker": {
             "line": {
              "color": "#E5ECF6",
              "width": 0.5
             },
             "pattern": {
              "fillmode": "overlay",
              "size": 10,
              "solidity": 0.2
             }
            },
            "type": "bar"
           }
          ],
          "barpolar": [
           {
            "marker": {
             "line": {
              "color": "#E5ECF6",
              "width": 0.5
             },
             "pattern": {
              "fillmode": "overlay",
              "size": 10,
              "solidity": 0.2
             }
            },
            "type": "barpolar"
           }
          ],
          "carpet": [
           {
            "aaxis": {
             "endlinecolor": "#2a3f5f",
             "gridcolor": "white",
             "linecolor": "white",
             "minorgridcolor": "white",
             "startlinecolor": "#2a3f5f"
            },
            "baxis": {
             "endlinecolor": "#2a3f5f",
             "gridcolor": "white",
             "linecolor": "white",
             "minorgridcolor": "white",
             "startlinecolor": "#2a3f5f"
            },
            "type": "carpet"
           }
          ],
          "choropleth": [
           {
            "colorbar": {
             "outlinewidth": 0,
             "ticks": ""
            },
            "type": "choropleth"
           }
          ],
          "contour": [
           {
            "colorbar": {
             "outlinewidth": 0,
             "ticks": ""
            },
            "colorscale": [
             [
              0,
              "#0d0887"
             ],
             [
              0.1111111111111111,
              "#46039f"
             ],
             [
              0.2222222222222222,
              "#7201a8"
             ],
             [
              0.3333333333333333,
              "#9c179e"
             ],
             [
              0.4444444444444444,
              "#bd3786"
             ],
             [
              0.5555555555555556,
              "#d8576b"
             ],
             [
              0.6666666666666666,
              "#ed7953"
             ],
             [
              0.7777777777777778,
              "#fb9f3a"
             ],
             [
              0.8888888888888888,
              "#fdca26"
             ],
             [
              1,
              "#f0f921"
             ]
            ],
            "type": "contour"
           }
          ],
          "contourcarpet": [
           {
            "colorbar": {
             "outlinewidth": 0,
             "ticks": ""
            },
            "type": "contourcarpet"
           }
          ],
          "heatmap": [
           {
            "colorbar": {
             "outlinewidth": 0,
             "ticks": ""
            },
            "colorscale": [
             [
              0,
              "#0d0887"
             ],
             [
              0.1111111111111111,
              "#46039f"
             ],
             [
              0.2222222222222222,
              "#7201a8"
             ],
             [
              0.3333333333333333,
              "#9c179e"
             ],
             [
              0.4444444444444444,
              "#bd3786"
             ],
             [
              0.5555555555555556,
              "#d8576b"
             ],
             [
              0.6666666666666666,
              "#ed7953"
             ],
             [
              0.7777777777777778,
              "#fb9f3a"
             ],
             [
              0.8888888888888888,
              "#fdca26"
             ],
             [
              1,
              "#f0f921"
             ]
            ],
            "type": "heatmap"
           }
          ],
          "heatmapgl": [
           {
            "colorbar": {
             "outlinewidth": 0,
             "ticks": ""
            },
            "colorscale": [
             [
              0,
              "#0d0887"
             ],
             [
              0.1111111111111111,
              "#46039f"
             ],
             [
              0.2222222222222222,
              "#7201a8"
             ],
             [
              0.3333333333333333,
              "#9c179e"
             ],
             [
              0.4444444444444444,
              "#bd3786"
             ],
             [
              0.5555555555555556,
              "#d8576b"
             ],
             [
              0.6666666666666666,
              "#ed7953"
             ],
             [
              0.7777777777777778,
              "#fb9f3a"
             ],
             [
              0.8888888888888888,
              "#fdca26"
             ],
             [
              1,
              "#f0f921"
             ]
            ],
            "type": "heatmapgl"
           }
          ],
          "histogram": [
           {
            "marker": {
             "pattern": {
              "fillmode": "overlay",
              "size": 10,
              "solidity": 0.2
             }
            },
            "type": "histogram"
           }
          ],
          "histogram2d": [
           {
            "colorbar": {
             "outlinewidth": 0,
             "ticks": ""
            },
            "colorscale": [
             [
              0,
              "#0d0887"
             ],
             [
              0.1111111111111111,
              "#46039f"
             ],
             [
              0.2222222222222222,
              "#7201a8"
             ],
             [
              0.3333333333333333,
              "#9c179e"
             ],
             [
              0.4444444444444444,
              "#bd3786"
             ],
             [
              0.5555555555555556,
              "#d8576b"
             ],
             [
              0.6666666666666666,
              "#ed7953"
             ],
             [
              0.7777777777777778,
              "#fb9f3a"
             ],
             [
              0.8888888888888888,
              "#fdca26"
             ],
             [
              1,
              "#f0f921"
             ]
            ],
            "type": "histogram2d"
           }
          ],
          "histogram2dcontour": [
           {
            "colorbar": {
             "outlinewidth": 0,
             "ticks": ""
            },
            "colorscale": [
             [
              0,
              "#0d0887"
             ],
             [
              0.1111111111111111,
              "#46039f"
             ],
             [
              0.2222222222222222,
              "#7201a8"
             ],
             [
              0.3333333333333333,
              "#9c179e"
             ],
             [
              0.4444444444444444,
              "#bd3786"
             ],
             [
              0.5555555555555556,
              "#d8576b"
             ],
             [
              0.6666666666666666,
              "#ed7953"
             ],
             [
              0.7777777777777778,
              "#fb9f3a"
             ],
             [
              0.8888888888888888,
              "#fdca26"
             ],
             [
              1,
              "#f0f921"
             ]
            ],
            "type": "histogram2dcontour"
           }
          ],
          "mesh3d": [
           {
            "colorbar": {
             "outlinewidth": 0,
             "ticks": ""
            },
            "type": "mesh3d"
           }
          ],
          "parcoords": [
           {
            "line": {
             "colorbar": {
              "outlinewidth": 0,
              "ticks": ""
             }
            },
            "type": "parcoords"
           }
          ],
          "pie": [
           {
            "automargin": true,
            "type": "pie"
           }
          ],
          "scatter": [
           {
            "marker": {
             "colorbar": {
              "outlinewidth": 0,
              "ticks": ""
             }
            },
            "type": "scatter"
           }
          ],
          "scatter3d": [
           {
            "line": {
             "colorbar": {
              "outlinewidth": 0,
              "ticks": ""
             }
            },
            "marker": {
             "colorbar": {
              "outlinewidth": 0,
              "ticks": ""
             }
            },
            "type": "scatter3d"
           }
          ],
          "scattercarpet": [
           {
            "marker": {
             "colorbar": {
              "outlinewidth": 0,
              "ticks": ""
             }
            },
            "type": "scattercarpet"
           }
          ],
          "scattergeo": [
           {
            "marker": {
             "colorbar": {
              "outlinewidth": 0,
              "ticks": ""
             }
            },
            "type": "scattergeo"
           }
          ],
          "scattergl": [
           {
            "marker": {
             "colorbar": {
              "outlinewidth": 0,
              "ticks": ""
             }
            },
            "type": "scattergl"
           }
          ],
          "scattermapbox": [
           {
            "marker": {
             "colorbar": {
              "outlinewidth": 0,
              "ticks": ""
             }
            },
            "type": "scattermapbox"
           }
          ],
          "scatterpolar": [
           {
            "marker": {
             "colorbar": {
              "outlinewidth": 0,
              "ticks": ""
             }
            },
            "type": "scatterpolar"
           }
          ],
          "scatterpolargl": [
           {
            "marker": {
             "colorbar": {
              "outlinewidth": 0,
              "ticks": ""
             }
            },
            "type": "scatterpolargl"
           }
          ],
          "scatterternary": [
           {
            "marker": {
             "colorbar": {
              "outlinewidth": 0,
              "ticks": ""
             }
            },
            "type": "scatterternary"
           }
          ],
          "surface": [
           {
            "colorbar": {
             "outlinewidth": 0,
             "ticks": ""
            },
            "colorscale": [
             [
              0,
              "#0d0887"
             ],
             [
              0.1111111111111111,
              "#46039f"
             ],
             [
              0.2222222222222222,
              "#7201a8"
             ],
             [
              0.3333333333333333,
              "#9c179e"
             ],
             [
              0.4444444444444444,
              "#bd3786"
             ],
             [
              0.5555555555555556,
              "#d8576b"
             ],
             [
              0.6666666666666666,
              "#ed7953"
             ],
             [
              0.7777777777777778,
              "#fb9f3a"
             ],
             [
              0.8888888888888888,
              "#fdca26"
             ],
             [
              1,
              "#f0f921"
             ]
            ],
            "type": "surface"
           }
          ],
          "table": [
           {
            "cells": {
             "fill": {
              "color": "#EBF0F8"
             },
             "line": {
              "color": "white"
             }
            },
            "header": {
             "fill": {
              "color": "#C8D4E3"
             },
             "line": {
              "color": "white"
             }
            },
            "type": "table"
           }
          ]
         },
         "layout": {
          "annotationdefaults": {
           "arrowcolor": "#2a3f5f",
           "arrowhead": 0,
           "arrowwidth": 1
          },
          "autotypenumbers": "strict",
          "coloraxis": {
           "colorbar": {
            "outlinewidth": 0,
            "ticks": ""
           }
          },
          "colorscale": {
           "diverging": [
            [
             0,
             "#8e0152"
            ],
            [
             0.1,
             "#c51b7d"
            ],
            [
             0.2,
             "#de77ae"
            ],
            [
             0.3,
             "#f1b6da"
            ],
            [
             0.4,
             "#fde0ef"
            ],
            [
             0.5,
             "#f7f7f7"
            ],
            [
             0.6,
             "#e6f5d0"
            ],
            [
             0.7,
             "#b8e186"
            ],
            [
             0.8,
             "#7fbc41"
            ],
            [
             0.9,
             "#4d9221"
            ],
            [
             1,
             "#276419"
            ]
           ],
           "sequential": [
            [
             0,
             "#0d0887"
            ],
            [
             0.1111111111111111,
             "#46039f"
            ],
            [
             0.2222222222222222,
             "#7201a8"
            ],
            [
             0.3333333333333333,
             "#9c179e"
            ],
            [
             0.4444444444444444,
             "#bd3786"
            ],
            [
             0.5555555555555556,
             "#d8576b"
            ],
            [
             0.6666666666666666,
             "#ed7953"
            ],
            [
             0.7777777777777778,
             "#fb9f3a"
            ],
            [
             0.8888888888888888,
             "#fdca26"
            ],
            [
             1,
             "#f0f921"
            ]
           ],
           "sequentialminus": [
            [
             0,
             "#0d0887"
            ],
            [
             0.1111111111111111,
             "#46039f"
            ],
            [
             0.2222222222222222,
             "#7201a8"
            ],
            [
             0.3333333333333333,
             "#9c179e"
            ],
            [
             0.4444444444444444,
             "#bd3786"
            ],
            [
             0.5555555555555556,
             "#d8576b"
            ],
            [
             0.6666666666666666,
             "#ed7953"
            ],
            [
             0.7777777777777778,
             "#fb9f3a"
            ],
            [
             0.8888888888888888,
             "#fdca26"
            ],
            [
             1,
             "#f0f921"
            ]
           ]
          },
          "colorway": [
           "#636efa",
           "#EF553B",
           "#00cc96",
           "#ab63fa",
           "#FFA15A",
           "#19d3f3",
           "#FF6692",
           "#B6E880",
           "#FF97FF",
           "#FECB52"
          ],
          "font": {
           "color": "#2a3f5f"
          },
          "geo": {
           "bgcolor": "white",
           "lakecolor": "white",
           "landcolor": "#E5ECF6",
           "showlakes": true,
           "showland": true,
           "subunitcolor": "white"
          },
          "hoverlabel": {
           "align": "left"
          },
          "hovermode": "closest",
          "mapbox": {
           "style": "light"
          },
          "paper_bgcolor": "white",
          "plot_bgcolor": "#E5ECF6",
          "polar": {
           "angularaxis": {
            "gridcolor": "white",
            "linecolor": "white",
            "ticks": ""
           },
           "bgcolor": "#E5ECF6",
           "radialaxis": {
            "gridcolor": "white",
            "linecolor": "white",
            "ticks": ""
           }
          },
          "scene": {
           "xaxis": {
            "backgroundcolor": "#E5ECF6",
            "gridcolor": "white",
            "gridwidth": 2,
            "linecolor": "white",
            "showbackground": true,
            "ticks": "",
            "zerolinecolor": "white"
           },
           "yaxis": {
            "backgroundcolor": "#E5ECF6",
            "gridcolor": "white",
            "gridwidth": 2,
            "linecolor": "white",
            "showbackground": true,
            "ticks": "",
            "zerolinecolor": "white"
           },
           "zaxis": {
            "backgroundcolor": "#E5ECF6",
            "gridcolor": "white",
            "gridwidth": 2,
            "linecolor": "white",
            "showbackground": true,
            "ticks": "",
            "zerolinecolor": "white"
           }
          },
          "shapedefaults": {
           "line": {
            "color": "#2a3f5f"
           }
          },
          "ternary": {
           "aaxis": {
            "gridcolor": "white",
            "linecolor": "white",
            "ticks": ""
           },
           "baxis": {
            "gridcolor": "white",
            "linecolor": "white",
            "ticks": ""
           },
           "bgcolor": "#E5ECF6",
           "caxis": {
            "gridcolor": "white",
            "linecolor": "white",
            "ticks": ""
           }
          },
          "title": {
           "x": 0.05
          },
          "xaxis": {
           "automargin": true,
           "gridcolor": "white",
           "linecolor": "white",
           "ticks": "",
           "title": {
            "standoff": 15
           },
           "zerolinecolor": "white",
           "zerolinewidth": 2
          },
          "yaxis": {
           "automargin": true,
           "gridcolor": "white",
           "linecolor": "white",
           "ticks": "",
           "title": {
            "standoff": 15
           },
           "zerolinecolor": "white",
           "zerolinewidth": 2
          }
         }
        },
        "title": {
         "text": "R1 Structures: Frequency and Impact on Score Relative to All Factions Average (144.4): ivits"
        }
       }
      },
      "text/html": [
       "<div>                            <div id=\"318293f0-aa71-4100-b508-bd45a11d8c08\" class=\"plotly-graph-div\" style=\"height:525px; width:100%;\"></div>            <script type=\"text/javascript\">                require([\"plotly\"], function(Plotly) {                    window.PLOTLYENV=window.PLOTLYENV || {};                                    if (document.getElementById(\"318293f0-aa71-4100-b508-bd45a11d8c08\")) {                    Plotly.newPlot(                        \"318293f0-aa71-4100-b508-bd45a11d8c08\",                        [{\"branchvalues\":\"total\",\"customdata\":[[150.5,143.3],[201.71186440677965,154.61016949152543],[185.29032258064515,144.88387096774193],[169.04166666666666,146.58333333333334],[181.66666666666666,155.0],[230.11111111111111,157.88888888888889],[219.93989431968296,162.54161162483487],[134.30864197530863,128.320987654321],[158.125,151.1875],[189.55555555555554,140.44444444444446],[148.01923076923077,140.32692307692307],[334.0,213.0],[234.52325581395348,167.3860465116279],[196.83516483516485,154.3919413919414],[247.0,170.66666666666666],[143.0,152.33333333333334],[116.73076923076923,132.57692307692307],[202.0,168.33333333333334],[98.5,159.5],[198.36666666666667,154.0],[169.0,126.0],[170.5,173.0],[263.55555555555554,163.44444444444446],[\"(?)\",159.01187717265353],[\"(?)\",156.29885057471265],[150.5,143.3],[\"(?)\",158.79621503017006]],\"domain\":{\"x\":[0.0,1.0],\"y\":[0.0,1.0]},\"hovertemplate\":\"labels=%{label}<br>class_counts=%{value}<br>parent=%{parent}<br>id=%{id}<br>ave_elo_ivits=%{customdata[0]}<br>ave_score_ivits=%{color}<extra></extra>\",\"ids\":[\"R1 Structs/ac2/ 0-m_0-ts_0-lab_1-pi_0-ac1_1-ac2\",\"R1 Structs/ac1/ 0-m_0-ts_0-lab_1-pi_1-ac1_0-ac2\",\"R1 Structs/PI/ 0-m_0-ts_1-lab_1-pi_0-ac1_0-ac2\",\"R1 Structs/PI/ 0-m_1-ts_1-lab_1-pi_0-ac1_0-ac2\",\"R1 Structs/PI/ 0-m_2-ts_0-lab_1-pi_0-ac1_0-ac2\",\"R1 Structs/ac1/ 1-m_0-ts_0-lab_1-pi_1-ac1_0-ac2\",\"R1 Structs/PI/ 1-m_0-ts_1-lab_1-pi_0-ac1_0-ac2\",\"R1 Structs/PI/ 1-m_1-ts_0-lab_1-pi_0-ac1_0-ac2\",\"R1 Structs/PI/ 1-m_1-ts_1-lab_1-pi_0-ac1_0-ac2\",\"R1 Structs/PI/ 1-m_2-ts_0-lab_1-pi_0-ac1_0-ac2\",\"R1 Structs/PI/ 2-m_0-ts_0-lab_1-pi_0-ac1_0-ac2\",\"R1 Structs/ac1/ 2-m_0-ts_0-lab_1-pi_1-ac1_0-ac2\",\"R1 Structs/PI/ 2-m_0-ts_1-lab_1-pi_0-ac1_0-ac2\",\"R1 Structs/PI/ 2-m_1-ts_0-lab_1-pi_0-ac1_0-ac2\",\"R1 Structs/PI/ 2-m_1-ts_1-lab_1-pi_0-ac1_0-ac2\",\"R1 Structs/PI/ 2-m_2-ts_0-lab_1-pi_0-ac1_0-ac2\",\"R1 Structs/PI/ 3-m_0-ts_0-lab_1-pi_0-ac1_0-ac2\",\"R1 Structs/PI/ 3-m_0-ts_1-lab_1-pi_0-ac1_0-ac2\",\"R1 Structs/PI/ 3-m_1-ts_0-lab_1-pi_0-ac1_0-ac2\",\"R1 Structs/PI/ 4-m_0-ts_0-lab_1-pi_0-ac1_0-ac2\",\"R1 Structs/PI/ 4-m_0-ts_1-lab_1-pi_0-ac1_0-ac2\",\"R1 Structs/PI/ 4-m_1-ts_0-lab_1-pi_0-ac1_0-ac2\",\"R1 Structs/PI/ 5-m_0-ts_0-lab_1-pi_0-ac1_0-ac2\",\"R1 Structs/PI\",\"R1 Structs/ac1\",\"R1 Structs/ac2\",\"R1 Structs\"],\"labels\":[\" 0-m_0-ts_0-lab_1-pi_0-ac1_1-ac2\",\" 0-m_0-ts_0-lab_1-pi_1-ac1_0-ac2\",\" 0-m_0-ts_1-lab_1-pi_0-ac1_0-ac2\",\" 0-m_1-ts_1-lab_1-pi_0-ac1_0-ac2\",\" 0-m_2-ts_0-lab_1-pi_0-ac1_0-ac2\",\" 1-m_0-ts_0-lab_1-pi_1-ac1_0-ac2\",\" 1-m_0-ts_1-lab_1-pi_0-ac1_0-ac2\",\" 1-m_1-ts_0-lab_1-pi_0-ac1_0-ac2\",\" 1-m_1-ts_1-lab_1-pi_0-ac1_0-ac2\",\" 1-m_2-ts_0-lab_1-pi_0-ac1_0-ac2\",\" 2-m_0-ts_0-lab_1-pi_0-ac1_0-ac2\",\" 2-m_0-ts_0-lab_1-pi_1-ac1_0-ac2\",\" 2-m_0-ts_1-lab_1-pi_0-ac1_0-ac2\",\" 2-m_1-ts_0-lab_1-pi_0-ac1_0-ac2\",\" 2-m_1-ts_1-lab_1-pi_0-ac1_0-ac2\",\" 2-m_2-ts_0-lab_1-pi_0-ac1_0-ac2\",\" 3-m_0-ts_0-lab_1-pi_0-ac1_0-ac2\",\" 3-m_0-ts_1-lab_1-pi_0-ac1_0-ac2\",\" 3-m_1-ts_0-lab_1-pi_0-ac1_0-ac2\",\" 4-m_0-ts_0-lab_1-pi_0-ac1_0-ac2\",\" 4-m_0-ts_1-lab_1-pi_0-ac1_0-ac2\",\" 4-m_1-ts_0-lab_1-pi_0-ac1_0-ac2\",\" 5-m_0-ts_0-lab_1-pi_0-ac1_0-ac2\",\"PI\",\"ac1\",\"ac2\",\"R1 Structs\"],\"marker\":{\"coloraxis\":\"coloraxis\",\"colors\":[143.3,154.61016949152543,144.88387096774193,146.58333333333334,155.0,157.88888888888889,162.54161162483487,128.320987654321,151.1875,140.44444444444446,140.32692307692307,213.0,167.3860465116279,154.3919413919414,170.66666666666666,152.33333333333334,132.57692307692307,168.33333333333334,159.5,154.0,126.0,173.0,163.44444444444446,159.01187717265353,156.29885057471265,143.3,158.79621503017006]},\"name\":\"\",\"parents\":[\"R1 Structs/ac2\",\"R1 Structs/ac1\",\"R1 Structs/PI\",\"R1 Structs/PI\",\"R1 Structs/PI\",\"R1 Structs/ac1\",\"R1 Structs/PI\",\"R1 Structs/PI\",\"R1 Structs/PI\",\"R1 Structs/PI\",\"R1 Structs/PI\",\"R1 Structs/ac1\",\"R1 Structs/PI\",\"R1 Structs/PI\",\"R1 Structs/PI\",\"R1 Structs/PI\",\"R1 Structs/PI\",\"R1 Structs/PI\",\"R1 Structs/PI\",\"R1 Structs/PI\",\"R1 Structs/PI\",\"R1 Structs/PI\",\"R1 Structs/PI\",\"R1 Structs\",\"R1 Structs\",\"R1 Structs\",\"\"],\"values\":[20,118,310,48,12,54,1514,81,32,18,104,2,860,273,6,6,52,42,8,60,4,4,18,3452,174,20,3646],\"type\":\"treemap\"}],                        {\"template\":{\"data\":{\"bar\":[{\"error_x\":{\"color\":\"#2a3f5f\"},\"error_y\":{\"color\":\"#2a3f5f\"},\"marker\":{\"line\":{\"color\":\"#E5ECF6\",\"width\":0.5},\"pattern\":{\"fillmode\":\"overlay\",\"size\":10,\"solidity\":0.2}},\"type\":\"bar\"}],\"barpolar\":[{\"marker\":{\"line\":{\"color\":\"#E5ECF6\",\"width\":0.5},\"pattern\":{\"fillmode\":\"overlay\",\"size\":10,\"solidity\":0.2}},\"type\":\"barpolar\"}],\"carpet\":[{\"aaxis\":{\"endlinecolor\":\"#2a3f5f\",\"gridcolor\":\"white\",\"linecolor\":\"white\",\"minorgridcolor\":\"white\",\"startlinecolor\":\"#2a3f5f\"},\"baxis\":{\"endlinecolor\":\"#2a3f5f\",\"gridcolor\":\"white\",\"linecolor\":\"white\",\"minorgridcolor\":\"white\",\"startlinecolor\":\"#2a3f5f\"},\"type\":\"carpet\"}],\"choropleth\":[{\"colorbar\":{\"outlinewidth\":0,\"ticks\":\"\"},\"type\":\"choropleth\"}],\"contour\":[{\"colorbar\":{\"outlinewidth\":0,\"ticks\":\"\"},\"colorscale\":[[0.0,\"#0d0887\"],[0.1111111111111111,\"#46039f\"],[0.2222222222222222,\"#7201a8\"],[0.3333333333333333,\"#9c179e\"],[0.4444444444444444,\"#bd3786\"],[0.5555555555555556,\"#d8576b\"],[0.6666666666666666,\"#ed7953\"],[0.7777777777777778,\"#fb9f3a\"],[0.8888888888888888,\"#fdca26\"],[1.0,\"#f0f921\"]],\"type\":\"contour\"}],\"contourcarpet\":[{\"colorbar\":{\"outlinewidth\":0,\"ticks\":\"\"},\"type\":\"contourcarpet\"}],\"heatmap\":[{\"colorbar\":{\"outlinewidth\":0,\"ticks\":\"\"},\"colorscale\":[[0.0,\"#0d0887\"],[0.1111111111111111,\"#46039f\"],[0.2222222222222222,\"#7201a8\"],[0.3333333333333333,\"#9c179e\"],[0.4444444444444444,\"#bd3786\"],[0.5555555555555556,\"#d8576b\"],[0.6666666666666666,\"#ed7953\"],[0.7777777777777778,\"#fb9f3a\"],[0.8888888888888888,\"#fdca26\"],[1.0,\"#f0f921\"]],\"type\":\"heatmap\"}],\"heatmapgl\":[{\"colorbar\":{\"outlinewidth\":0,\"ticks\":\"\"},\"colorscale\":[[0.0,\"#0d0887\"],[0.1111111111111111,\"#46039f\"],[0.2222222222222222,\"#7201a8\"],[0.3333333333333333,\"#9c179e\"],[0.4444444444444444,\"#bd3786\"],[0.5555555555555556,\"#d8576b\"],[0.6666666666666666,\"#ed7953\"],[0.7777777777777778,\"#fb9f3a\"],[0.8888888888888888,\"#fdca26\"],[1.0,\"#f0f921\"]],\"type\":\"heatmapgl\"}],\"histogram\":[{\"marker\":{\"pattern\":{\"fillmode\":\"overlay\",\"size\":10,\"solidity\":0.2}},\"type\":\"histogram\"}],\"histogram2d\":[{\"colorbar\":{\"outlinewidth\":0,\"ticks\":\"\"},\"colorscale\":[[0.0,\"#0d0887\"],[0.1111111111111111,\"#46039f\"],[0.2222222222222222,\"#7201a8\"],[0.3333333333333333,\"#9c179e\"],[0.4444444444444444,\"#bd3786\"],[0.5555555555555556,\"#d8576b\"],[0.6666666666666666,\"#ed7953\"],[0.7777777777777778,\"#fb9f3a\"],[0.8888888888888888,\"#fdca26\"],[1.0,\"#f0f921\"]],\"type\":\"histogram2d\"}],\"histogram2dcontour\":[{\"colorbar\":{\"outlinewidth\":0,\"ticks\":\"\"},\"colorscale\":[[0.0,\"#0d0887\"],[0.1111111111111111,\"#46039f\"],[0.2222222222222222,\"#7201a8\"],[0.3333333333333333,\"#9c179e\"],[0.4444444444444444,\"#bd3786\"],[0.5555555555555556,\"#d8576b\"],[0.6666666666666666,\"#ed7953\"],[0.7777777777777778,\"#fb9f3a\"],[0.8888888888888888,\"#fdca26\"],[1.0,\"#f0f921\"]],\"type\":\"histogram2dcontour\"}],\"mesh3d\":[{\"colorbar\":{\"outlinewidth\":0,\"ticks\":\"\"},\"type\":\"mesh3d\"}],\"parcoords\":[{\"line\":{\"colorbar\":{\"outlinewidth\":0,\"ticks\":\"\"}},\"type\":\"parcoords\"}],\"pie\":[{\"automargin\":true,\"type\":\"pie\"}],\"scatter\":[{\"marker\":{\"colorbar\":{\"outlinewidth\":0,\"ticks\":\"\"}},\"type\":\"scatter\"}],\"scatter3d\":[{\"line\":{\"colorbar\":{\"outlinewidth\":0,\"ticks\":\"\"}},\"marker\":{\"colorbar\":{\"outlinewidth\":0,\"ticks\":\"\"}},\"type\":\"scatter3d\"}],\"scattercarpet\":[{\"marker\":{\"colorbar\":{\"outlinewidth\":0,\"ticks\":\"\"}},\"type\":\"scattercarpet\"}],\"scattergeo\":[{\"marker\":{\"colorbar\":{\"outlinewidth\":0,\"ticks\":\"\"}},\"type\":\"scattergeo\"}],\"scattergl\":[{\"marker\":{\"colorbar\":{\"outlinewidth\":0,\"ticks\":\"\"}},\"type\":\"scattergl\"}],\"scattermapbox\":[{\"marker\":{\"colorbar\":{\"outlinewidth\":0,\"ticks\":\"\"}},\"type\":\"scattermapbox\"}],\"scatterpolar\":[{\"marker\":{\"colorbar\":{\"outlinewidth\":0,\"ticks\":\"\"}},\"type\":\"scatterpolar\"}],\"scatterpolargl\":[{\"marker\":{\"colorbar\":{\"outlinewidth\":0,\"ticks\":\"\"}},\"type\":\"scatterpolargl\"}],\"scatterternary\":[{\"marker\":{\"colorbar\":{\"outlinewidth\":0,\"ticks\":\"\"}},\"type\":\"scatterternary\"}],\"surface\":[{\"colorbar\":{\"outlinewidth\":0,\"ticks\":\"\"},\"colorscale\":[[0.0,\"#0d0887\"],[0.1111111111111111,\"#46039f\"],[0.2222222222222222,\"#7201a8\"],[0.3333333333333333,\"#9c179e\"],[0.4444444444444444,\"#bd3786\"],[0.5555555555555556,\"#d8576b\"],[0.6666666666666666,\"#ed7953\"],[0.7777777777777778,\"#fb9f3a\"],[0.8888888888888888,\"#fdca26\"],[1.0,\"#f0f921\"]],\"type\":\"surface\"}],\"table\":[{\"cells\":{\"fill\":{\"color\":\"#EBF0F8\"},\"line\":{\"color\":\"white\"}},\"header\":{\"fill\":{\"color\":\"#C8D4E3\"},\"line\":{\"color\":\"white\"}},\"type\":\"table\"}]},\"layout\":{\"annotationdefaults\":{\"arrowcolor\":\"#2a3f5f\",\"arrowhead\":0,\"arrowwidth\":1},\"autotypenumbers\":\"strict\",\"coloraxis\":{\"colorbar\":{\"outlinewidth\":0,\"ticks\":\"\"}},\"colorscale\":{\"diverging\":[[0,\"#8e0152\"],[0.1,\"#c51b7d\"],[0.2,\"#de77ae\"],[0.3,\"#f1b6da\"],[0.4,\"#fde0ef\"],[0.5,\"#f7f7f7\"],[0.6,\"#e6f5d0\"],[0.7,\"#b8e186\"],[0.8,\"#7fbc41\"],[0.9,\"#4d9221\"],[1,\"#276419\"]],\"sequential\":[[0.0,\"#0d0887\"],[0.1111111111111111,\"#46039f\"],[0.2222222222222222,\"#7201a8\"],[0.3333333333333333,\"#9c179e\"],[0.4444444444444444,\"#bd3786\"],[0.5555555555555556,\"#d8576b\"],[0.6666666666666666,\"#ed7953\"],[0.7777777777777778,\"#fb9f3a\"],[0.8888888888888888,\"#fdca26\"],[1.0,\"#f0f921\"]],\"sequentialminus\":[[0.0,\"#0d0887\"],[0.1111111111111111,\"#46039f\"],[0.2222222222222222,\"#7201a8\"],[0.3333333333333333,\"#9c179e\"],[0.4444444444444444,\"#bd3786\"],[0.5555555555555556,\"#d8576b\"],[0.6666666666666666,\"#ed7953\"],[0.7777777777777778,\"#fb9f3a\"],[0.8888888888888888,\"#fdca26\"],[1.0,\"#f0f921\"]]},\"colorway\":[\"#636efa\",\"#EF553B\",\"#00cc96\",\"#ab63fa\",\"#FFA15A\",\"#19d3f3\",\"#FF6692\",\"#B6E880\",\"#FF97FF\",\"#FECB52\"],\"font\":{\"color\":\"#2a3f5f\"},\"geo\":{\"bgcolor\":\"white\",\"lakecolor\":\"white\",\"landcolor\":\"#E5ECF6\",\"showlakes\":true,\"showland\":true,\"subunitcolor\":\"white\"},\"hoverlabel\":{\"align\":\"left\"},\"hovermode\":\"closest\",\"mapbox\":{\"style\":\"light\"},\"paper_bgcolor\":\"white\",\"plot_bgcolor\":\"#E5ECF6\",\"polar\":{\"angularaxis\":{\"gridcolor\":\"white\",\"linecolor\":\"white\",\"ticks\":\"\"},\"bgcolor\":\"#E5ECF6\",\"radialaxis\":{\"gridcolor\":\"white\",\"linecolor\":\"white\",\"ticks\":\"\"}},\"scene\":{\"xaxis\":{\"backgroundcolor\":\"#E5ECF6\",\"gridcolor\":\"white\",\"gridwidth\":2,\"linecolor\":\"white\",\"showbackground\":true,\"ticks\":\"\",\"zerolinecolor\":\"white\"},\"yaxis\":{\"backgroundcolor\":\"#E5ECF6\",\"gridcolor\":\"white\",\"gridwidth\":2,\"linecolor\":\"white\",\"showbackground\":true,\"ticks\":\"\",\"zerolinecolor\":\"white\"},\"zaxis\":{\"backgroundcolor\":\"#E5ECF6\",\"gridcolor\":\"white\",\"gridwidth\":2,\"linecolor\":\"white\",\"showbackground\":true,\"ticks\":\"\",\"zerolinecolor\":\"white\"}},\"shapedefaults\":{\"line\":{\"color\":\"#2a3f5f\"}},\"ternary\":{\"aaxis\":{\"gridcolor\":\"white\",\"linecolor\":\"white\",\"ticks\":\"\"},\"baxis\":{\"gridcolor\":\"white\",\"linecolor\":\"white\",\"ticks\":\"\"},\"bgcolor\":\"#E5ECF6\",\"caxis\":{\"gridcolor\":\"white\",\"linecolor\":\"white\",\"ticks\":\"\"}},\"title\":{\"x\":0.05},\"xaxis\":{\"automargin\":true,\"gridcolor\":\"white\",\"linecolor\":\"white\",\"ticks\":\"\",\"title\":{\"standoff\":15},\"zerolinecolor\":\"white\",\"zerolinewidth\":2},\"yaxis\":{\"automargin\":true,\"gridcolor\":\"white\",\"linecolor\":\"white\",\"ticks\":\"\",\"title\":{\"standoff\":15},\"zerolinecolor\":\"white\",\"zerolinewidth\":2}}},\"coloraxis\":{\"colorbar\":{\"title\":{\"text\":\"ave_score_ivits\"}},\"colorscale\":[[0.0,\"rgb(103,0,31)\"],[0.1,\"rgb(178,24,43)\"],[0.2,\"rgb(214,96,77)\"],[0.3,\"rgb(244,165,130)\"],[0.4,\"rgb(253,219,199)\"],[0.5,\"rgb(247,247,247)\"],[0.6,\"rgb(209,229,240)\"],[0.7,\"rgb(146,197,222)\"],[0.8,\"rgb(67,147,195)\"],[0.9,\"rgb(33,102,172)\"],[1.0,\"rgb(5,48,97)\"]],\"cmid\":144.39872372553106},\"legend\":{\"tracegroupgap\":0},\"margin\":{\"t\":50,\"l\":25,\"r\":25,\"b\":25},\"title\":{\"text\":\"R1 Structures: Frequency and Impact on Score Relative to All Factions Average (144.4): ivits\"}},                        {\"responsive\": true}                    ).then(function(){\n",
       "                            \n",
       "var gd = document.getElementById('318293f0-aa71-4100-b508-bd45a11d8c08');\n",
       "var x = new MutationObserver(function (mutations, observer) {{\n",
       "        var display = window.getComputedStyle(gd).display;\n",
       "        if (!display || display === 'none') {{\n",
       "            console.log([gd, 'removed!']);\n",
       "            Plotly.purge(gd);\n",
       "            observer.disconnect();\n",
       "        }}\n",
       "}});\n",
       "\n",
       "// Listen for the removal of the full notebook cells\n",
       "var notebookContainer = gd.closest('#notebook-container');\n",
       "if (notebookContainer) {{\n",
       "    x.observe(notebookContainer, {childList: true});\n",
       "}}\n",
       "\n",
       "// Listen for the clearing of the current output cell\n",
       "var outputEl = gd.closest('.output');\n",
       "if (outputEl) {{\n",
       "    x.observe(outputEl, {childList: true});\n",
       "}}\n",
       "\n",
       "                        })                };                });            </script>        </div>"
      ]
     },
     "metadata": {},
     "output_type": "display_data"
    },
    {
     "data": {
      "application/vnd.plotly.v1+json": {
       "config": {
        "plotlyServerURL": "https://plot.ly"
       },
       "data": [
        {
         "branchvalues": "total",
         "customdata": [
          [
           170.1818181818182,
           139.63636363636363
          ],
          [
           186.66666666666666,
           139.66666666666666
          ],
          [
           302,
           138
          ],
          [
           268,
           115
          ],
          [
           123,
           117
          ],
          [
           116,
           122
          ],
          [
           178.42857142857142,
           147.71428571428572
          ],
          [
           229.50819672131146,
           142.31147540983608
          ],
          [
           158.35294117647058,
           125.58823529411765
          ],
          [
           200.75,
           114.5
          ],
          [
           225.28571428571428,
           131.5
          ],
          [
           184.5,
           132.75
          ],
          [
           168.0650406504065,
           132.3170731707317
          ],
          [
           176.35714285714286,
           143.64285714285714
          ],
          [
           133,
           151
          ],
          [
           138,
           176
          ],
          [
           155.57142857142858,
           164.71428571428572
          ],
          [
           255.51685393258427,
           150.41573033707866
          ],
          [
           186.1139705882353,
           138.56617647058823
          ],
          [
           130.78125,
           134.8125
          ],
          [
           115,
           123
          ],
          [
           204.84172661870502,
           151.31654676258992
          ],
          [
           206.87037037037038,
           146.75925925925927
          ],
          [
           70,
           124
          ],
          [
           158,
           140.85714285714286
          ],
          [
           182.3577981651376,
           135.045871559633
          ],
          [
           258.5,
           165
          ],
          [
           145.33333333333334,
           144.66666666666666
          ],
          [
           346,
           125
          ],
          [
           229.89958158995816,
           160.1715481171548
          ],
          [
           188.875,
           152.875
          ],
          [
           157,
           162
          ],
          [
           228.4814814814815,
           165.59259259259258
          ],
          [
           151.2,
           154.3
          ],
          [
           244,
           193
          ],
          [
           "(?)",
           143.98605947955392
          ],
          [
           "(?)",
           146.84076433121018
          ],
          [
           "(?)",
           153.125
          ],
          [
           "(?)",
           142.5686274509804
          ],
          [
           157,
           162
          ],
          [
           "(?)",
           134.4
          ],
          [
           "(?)",
           144.23295454545453
          ]
         ],
         "domain": {
          "x": [
           0,
           1
          ],
          "y": [
           0,
           1
          ]
         },
         "hovertemplate": "labels=%{label}<br>class_counts=%{value}<br>parent=%{parent}<br>id=%{id}<br>ave_elo_geodens=%{customdata[0]}<br>ave_score_geodens=%{color}<extra></extra>",
         "ids": [
          "R1 Structs/PI/ 0-m_0-ts_1-lab_1-pi_0-ac1_0-ac2",
          "R1 Structs/lab/ 0-m_0-ts_2-lab_0-pi_0-ac1_0-ac2",
          "R1 Structs/ac2/ 0-m_1-ts_0-lab_0-pi_0-ac1_1-ac2",
          "R1 Structs/PI/ 0-m_2-ts_0-lab_1-pi_0-ac1_0-ac2",
          "R1 Structs/lab/ 0-m_2-ts_1-lab_0-pi_0-ac1_0-ac2",
          "R1 Structs/ts/ 0-m_3-ts_0-lab_0-pi_0-ac1_0-ac2",
          "R1 Structs/ac2/ 1-m_0-ts_0-lab_0-pi_0-ac1_1-ac2",
          "R1 Structs/ac1/ 1-m_0-ts_0-lab_0-pi_1-ac1_0-ac2",
          "R1 Structs/PI/ 1-m_0-ts_0-lab_1-pi_0-ac1_0-ac2",
          "R1 Structs/lab/ 1-m_0-ts_1-lab_0-pi_0-ac1_0-ac2",
          "R1 Structs/PI/ 1-m_0-ts_1-lab_1-pi_0-ac1_0-ac2",
          "R1 Structs/lab/ 1-m_0-ts_2-lab_0-pi_0-ac1_0-ac2",
          "R1 Structs/PI/ 1-m_1-ts_0-lab_1-pi_0-ac1_0-ac2",
          "R1 Structs/lab/ 1-m_1-ts_1-lab_0-pi_0-ac1_0-ac2",
          "R1 Structs/ts/ 1-m_2-ts_0-lab_0-pi_0-ac1_0-ac2",
          "R1 Structs/lab/ 1-m_2-ts_1-lab_0-pi_0-ac1_0-ac2",
          "R1 Structs/ac2/ 2-m_0-ts_0-lab_0-pi_0-ac1_1-ac2",
          "R1 Structs/ac1/ 2-m_0-ts_0-lab_0-pi_1-ac1_0-ac2",
          "R1 Structs/PI/ 2-m_0-ts_0-lab_1-pi_0-ac1_0-ac2",
          "R1 Structs/lab/ 2-m_0-ts_1-lab_0-pi_0-ac1_0-ac2",
          "R1 Structs/PI/ 2-m_0-ts_1-lab_1-pi_0-ac1_0-ac2",
          "R1 Structs/PI/ 2-m_1-ts_0-lab_1-pi_0-ac1_0-ac2",
          "R1 Structs/lab/ 2-m_1-ts_1-lab_0-pi_0-ac1_0-ac2",
          "R1 Structs/ts/ 2-m_2-ts_0-lab_0-pi_0-ac1_0-ac2",
          "R1 Structs/ac1/ 3-m_0-ts_0-lab_0-pi_1-ac1_0-ac2",
          "R1 Structs/PI/ 3-m_0-ts_0-lab_1-pi_0-ac1_0-ac2",
          "R1 Structs/PI/ 3-m_1-ts_0-lab_1-pi_0-ac1_0-ac2",
          "R1 Structs/lab/ 3-m_1-ts_1-lab_0-pi_0-ac1_0-ac2",
          "R1 Structs/ac2/ 4-m_0-ts_0-lab_0-pi_0-ac1_1-ac2",
          "R1 Structs/PI/ 4-m_0-ts_0-lab_1-pi_0-ac1_0-ac2",
          "R1 Structs/lab/ 4-m_0-ts_1-lab_0-pi_0-ac1_0-ac2",
          "R1 Structs/m/ 5-m_0-ts_0-lab_0-pi_0-ac1_0-ac2",
          "R1 Structs/PI/ 5-m_0-ts_0-lab_1-pi_0-ac1_0-ac2",
          "R1 Structs/lab/ 5-m_0-ts_1-lab_0-pi_0-ac1_0-ac2",
          "R1 Structs/lab/ 6-m_0-ts_1-lab_0-pi_0-ac1_0-ac2",
          "R1 Structs/PI",
          "R1 Structs/ac1",
          "R1 Structs/ac2",
          "R1 Structs/lab",
          "R1 Structs/m",
          "R1 Structs/ts",
          "R1 Structs"
         ],
         "labels": [
          " 0-m_0-ts_1-lab_1-pi_0-ac1_0-ac2",
          " 0-m_0-ts_2-lab_0-pi_0-ac1_0-ac2",
          " 0-m_1-ts_0-lab_0-pi_0-ac1_1-ac2",
          " 0-m_2-ts_0-lab_1-pi_0-ac1_0-ac2",
          " 0-m_2-ts_1-lab_0-pi_0-ac1_0-ac2",
          " 0-m_3-ts_0-lab_0-pi_0-ac1_0-ac2",
          " 1-m_0-ts_0-lab_0-pi_0-ac1_1-ac2",
          " 1-m_0-ts_0-lab_0-pi_1-ac1_0-ac2",
          " 1-m_0-ts_0-lab_1-pi_0-ac1_0-ac2",
          " 1-m_0-ts_1-lab_0-pi_0-ac1_0-ac2",
          " 1-m_0-ts_1-lab_1-pi_0-ac1_0-ac2",
          " 1-m_0-ts_2-lab_0-pi_0-ac1_0-ac2",
          " 1-m_1-ts_0-lab_1-pi_0-ac1_0-ac2",
          " 1-m_1-ts_1-lab_0-pi_0-ac1_0-ac2",
          " 1-m_2-ts_0-lab_0-pi_0-ac1_0-ac2",
          " 1-m_2-ts_1-lab_0-pi_0-ac1_0-ac2",
          " 2-m_0-ts_0-lab_0-pi_0-ac1_1-ac2",
          " 2-m_0-ts_0-lab_0-pi_1-ac1_0-ac2",
          " 2-m_0-ts_0-lab_1-pi_0-ac1_0-ac2",
          " 2-m_0-ts_1-lab_0-pi_0-ac1_0-ac2",
          " 2-m_0-ts_1-lab_1-pi_0-ac1_0-ac2",
          " 2-m_1-ts_0-lab_1-pi_0-ac1_0-ac2",
          " 2-m_1-ts_1-lab_0-pi_0-ac1_0-ac2",
          " 2-m_2-ts_0-lab_0-pi_0-ac1_0-ac2",
          " 3-m_0-ts_0-lab_0-pi_1-ac1_0-ac2",
          " 3-m_0-ts_0-lab_1-pi_0-ac1_0-ac2",
          " 3-m_1-ts_0-lab_1-pi_0-ac1_0-ac2",
          " 3-m_1-ts_1-lab_0-pi_0-ac1_0-ac2",
          " 4-m_0-ts_0-lab_0-pi_0-ac1_1-ac2",
          " 4-m_0-ts_0-lab_1-pi_0-ac1_0-ac2",
          " 4-m_0-ts_1-lab_0-pi_0-ac1_0-ac2",
          " 5-m_0-ts_0-lab_0-pi_0-ac1_0-ac2",
          " 5-m_0-ts_0-lab_1-pi_0-ac1_0-ac2",
          " 5-m_0-ts_1-lab_0-pi_0-ac1_0-ac2",
          " 6-m_0-ts_1-lab_0-pi_0-ac1_0-ac2",
          "PI",
          "ac1",
          "ac2",
          "lab",
          "m",
          "ts",
          "R1 Structs"
         ],
         "marker": {
          "coloraxis": "coloraxis",
          "colors": [
           139.63636363636363,
           139.66666666666666,
           138,
           115,
           117,
           122,
           147.71428571428572,
           142.31147540983608,
           125.58823529411765,
           114.5,
           131.5,
           132.75,
           132.3170731707317,
           143.64285714285714,
           151,
           176,
           164.71428571428572,
           150.41573033707866,
           138.56617647058823,
           134.8125,
           123,
           151.31654676258992,
           146.75925925925927,
           124,
           140.85714285714286,
           135.045871559633,
           165,
           144.66666666666666,
           125,
           160.1715481171548,
           152.875,
           162,
           165.59259259259258,
           154.3,
           193,
           143.98605947955392,
           146.84076433121018,
           153.125,
           142.5686274509804,
           162,
           134.4,
           144.23295454545453
          ]
         },
         "name": "",
         "parents": [
          "R1 Structs/PI",
          "R1 Structs/lab",
          "R1 Structs/ac2",
          "R1 Structs/PI",
          "R1 Structs/lab",
          "R1 Structs/ts",
          "R1 Structs/ac2",
          "R1 Structs/ac1",
          "R1 Structs/PI",
          "R1 Structs/lab",
          "R1 Structs/PI",
          "R1 Structs/lab",
          "R1 Structs/PI",
          "R1 Structs/lab",
          "R1 Structs/ts",
          "R1 Structs/lab",
          "R1 Structs/ac2",
          "R1 Structs/ac1",
          "R1 Structs/PI",
          "R1 Structs/lab",
          "R1 Structs/PI",
          "R1 Structs/PI",
          "R1 Structs/lab",
          "R1 Structs/ts",
          "R1 Structs/ac1",
          "R1 Structs/PI",
          "R1 Structs/PI",
          "R1 Structs/lab",
          "R1 Structs/ac2",
          "R1 Structs/PI",
          "R1 Structs/lab",
          "R1 Structs/m",
          "R1 Structs/PI",
          "R1 Structs/lab",
          "R1 Structs/lab",
          "R1 Structs",
          "R1 Structs",
          "R1 Structs",
          "R1 Structs",
          "R1 Structs",
          "R1 Structs",
          ""
         ],
         "type": "treemap",
         "values": [
          44,
          6,
          2,
          2,
          2,
          2,
          14,
          122,
          34,
          16,
          28,
          8,
          246,
          56,
          4,
          2,
          14,
          178,
          544,
          64,
          4,
          278,
          108,
          4,
          14,
          436,
          4,
          6,
          2,
          478,
          16,
          2,
          54,
          20,
          2,
          2152,
          314,
          32,
          306,
          2,
          10,
          2816
         ]
        }
       ],
       "layout": {
        "coloraxis": {
         "cmid": 144.39872372553106,
         "colorbar": {
          "title": {
           "text": "ave_score_geodens"
          }
         },
         "colorscale": [
          [
           0,
           "rgb(103,0,31)"
          ],
          [
           0.1,
           "rgb(178,24,43)"
          ],
          [
           0.2,
           "rgb(214,96,77)"
          ],
          [
           0.3,
           "rgb(244,165,130)"
          ],
          [
           0.4,
           "rgb(253,219,199)"
          ],
          [
           0.5,
           "rgb(247,247,247)"
          ],
          [
           0.6,
           "rgb(209,229,240)"
          ],
          [
           0.7,
           "rgb(146,197,222)"
          ],
          [
           0.8,
           "rgb(67,147,195)"
          ],
          [
           0.9,
           "rgb(33,102,172)"
          ],
          [
           1,
           "rgb(5,48,97)"
          ]
         ]
        },
        "legend": {
         "tracegroupgap": 0
        },
        "margin": {
         "b": 25,
         "l": 25,
         "r": 25,
         "t": 50
        },
        "template": {
         "data": {
          "bar": [
           {
            "error_x": {
             "color": "#2a3f5f"
            },
            "error_y": {
             "color": "#2a3f5f"
            },
            "marker": {
             "line": {
              "color": "#E5ECF6",
              "width": 0.5
             },
             "pattern": {
              "fillmode": "overlay",
              "size": 10,
              "solidity": 0.2
             }
            },
            "type": "bar"
           }
          ],
          "barpolar": [
           {
            "marker": {
             "line": {
              "color": "#E5ECF6",
              "width": 0.5
             },
             "pattern": {
              "fillmode": "overlay",
              "size": 10,
              "solidity": 0.2
             }
            },
            "type": "barpolar"
           }
          ],
          "carpet": [
           {
            "aaxis": {
             "endlinecolor": "#2a3f5f",
             "gridcolor": "white",
             "linecolor": "white",
             "minorgridcolor": "white",
             "startlinecolor": "#2a3f5f"
            },
            "baxis": {
             "endlinecolor": "#2a3f5f",
             "gridcolor": "white",
             "linecolor": "white",
             "minorgridcolor": "white",
             "startlinecolor": "#2a3f5f"
            },
            "type": "carpet"
           }
          ],
          "choropleth": [
           {
            "colorbar": {
             "outlinewidth": 0,
             "ticks": ""
            },
            "type": "choropleth"
           }
          ],
          "contour": [
           {
            "colorbar": {
             "outlinewidth": 0,
             "ticks": ""
            },
            "colorscale": [
             [
              0,
              "#0d0887"
             ],
             [
              0.1111111111111111,
              "#46039f"
             ],
             [
              0.2222222222222222,
              "#7201a8"
             ],
             [
              0.3333333333333333,
              "#9c179e"
             ],
             [
              0.4444444444444444,
              "#bd3786"
             ],
             [
              0.5555555555555556,
              "#d8576b"
             ],
             [
              0.6666666666666666,
              "#ed7953"
             ],
             [
              0.7777777777777778,
              "#fb9f3a"
             ],
             [
              0.8888888888888888,
              "#fdca26"
             ],
             [
              1,
              "#f0f921"
             ]
            ],
            "type": "contour"
           }
          ],
          "contourcarpet": [
           {
            "colorbar": {
             "outlinewidth": 0,
             "ticks": ""
            },
            "type": "contourcarpet"
           }
          ],
          "heatmap": [
           {
            "colorbar": {
             "outlinewidth": 0,
             "ticks": ""
            },
            "colorscale": [
             [
              0,
              "#0d0887"
             ],
             [
              0.1111111111111111,
              "#46039f"
             ],
             [
              0.2222222222222222,
              "#7201a8"
             ],
             [
              0.3333333333333333,
              "#9c179e"
             ],
             [
              0.4444444444444444,
              "#bd3786"
             ],
             [
              0.5555555555555556,
              "#d8576b"
             ],
             [
              0.6666666666666666,
              "#ed7953"
             ],
             [
              0.7777777777777778,
              "#fb9f3a"
             ],
             [
              0.8888888888888888,
              "#fdca26"
             ],
             [
              1,
              "#f0f921"
             ]
            ],
            "type": "heatmap"
           }
          ],
          "heatmapgl": [
           {
            "colorbar": {
             "outlinewidth": 0,
             "ticks": ""
            },
            "colorscale": [
             [
              0,
              "#0d0887"
             ],
             [
              0.1111111111111111,
              "#46039f"
             ],
             [
              0.2222222222222222,
              "#7201a8"
             ],
             [
              0.3333333333333333,
              "#9c179e"
             ],
             [
              0.4444444444444444,
              "#bd3786"
             ],
             [
              0.5555555555555556,
              "#d8576b"
             ],
             [
              0.6666666666666666,
              "#ed7953"
             ],
             [
              0.7777777777777778,
              "#fb9f3a"
             ],
             [
              0.8888888888888888,
              "#fdca26"
             ],
             [
              1,
              "#f0f921"
             ]
            ],
            "type": "heatmapgl"
           }
          ],
          "histogram": [
           {
            "marker": {
             "pattern": {
              "fillmode": "overlay",
              "size": 10,
              "solidity": 0.2
             }
            },
            "type": "histogram"
           }
          ],
          "histogram2d": [
           {
            "colorbar": {
             "outlinewidth": 0,
             "ticks": ""
            },
            "colorscale": [
             [
              0,
              "#0d0887"
             ],
             [
              0.1111111111111111,
              "#46039f"
             ],
             [
              0.2222222222222222,
              "#7201a8"
             ],
             [
              0.3333333333333333,
              "#9c179e"
             ],
             [
              0.4444444444444444,
              "#bd3786"
             ],
             [
              0.5555555555555556,
              "#d8576b"
             ],
             [
              0.6666666666666666,
              "#ed7953"
             ],
             [
              0.7777777777777778,
              "#fb9f3a"
             ],
             [
              0.8888888888888888,
              "#fdca26"
             ],
             [
              1,
              "#f0f921"
             ]
            ],
            "type": "histogram2d"
           }
          ],
          "histogram2dcontour": [
           {
            "colorbar": {
             "outlinewidth": 0,
             "ticks": ""
            },
            "colorscale": [
             [
              0,
              "#0d0887"
             ],
             [
              0.1111111111111111,
              "#46039f"
             ],
             [
              0.2222222222222222,
              "#7201a8"
             ],
             [
              0.3333333333333333,
              "#9c179e"
             ],
             [
              0.4444444444444444,
              "#bd3786"
             ],
             [
              0.5555555555555556,
              "#d8576b"
             ],
             [
              0.6666666666666666,
              "#ed7953"
             ],
             [
              0.7777777777777778,
              "#fb9f3a"
             ],
             [
              0.8888888888888888,
              "#fdca26"
             ],
             [
              1,
              "#f0f921"
             ]
            ],
            "type": "histogram2dcontour"
           }
          ],
          "mesh3d": [
           {
            "colorbar": {
             "outlinewidth": 0,
             "ticks": ""
            },
            "type": "mesh3d"
           }
          ],
          "parcoords": [
           {
            "line": {
             "colorbar": {
              "outlinewidth": 0,
              "ticks": ""
             }
            },
            "type": "parcoords"
           }
          ],
          "pie": [
           {
            "automargin": true,
            "type": "pie"
           }
          ],
          "scatter": [
           {
            "marker": {
             "colorbar": {
              "outlinewidth": 0,
              "ticks": ""
             }
            },
            "type": "scatter"
           }
          ],
          "scatter3d": [
           {
            "line": {
             "colorbar": {
              "outlinewidth": 0,
              "ticks": ""
             }
            },
            "marker": {
             "colorbar": {
              "outlinewidth": 0,
              "ticks": ""
             }
            },
            "type": "scatter3d"
           }
          ],
          "scattercarpet": [
           {
            "marker": {
             "colorbar": {
              "outlinewidth": 0,
              "ticks": ""
             }
            },
            "type": "scattercarpet"
           }
          ],
          "scattergeo": [
           {
            "marker": {
             "colorbar": {
              "outlinewidth": 0,
              "ticks": ""
             }
            },
            "type": "scattergeo"
           }
          ],
          "scattergl": [
           {
            "marker": {
             "colorbar": {
              "outlinewidth": 0,
              "ticks": ""
             }
            },
            "type": "scattergl"
           }
          ],
          "scattermapbox": [
           {
            "marker": {
             "colorbar": {
              "outlinewidth": 0,
              "ticks": ""
             }
            },
            "type": "scattermapbox"
           }
          ],
          "scatterpolar": [
           {
            "marker": {
             "colorbar": {
              "outlinewidth": 0,
              "ticks": ""
             }
            },
            "type": "scatterpolar"
           }
          ],
          "scatterpolargl": [
           {
            "marker": {
             "colorbar": {
              "outlinewidth": 0,
              "ticks": ""
             }
            },
            "type": "scatterpolargl"
           }
          ],
          "scatterternary": [
           {
            "marker": {
             "colorbar": {
              "outlinewidth": 0,
              "ticks": ""
             }
            },
            "type": "scatterternary"
           }
          ],
          "surface": [
           {
            "colorbar": {
             "outlinewidth": 0,
             "ticks": ""
            },
            "colorscale": [
             [
              0,
              "#0d0887"
             ],
             [
              0.1111111111111111,
              "#46039f"
             ],
             [
              0.2222222222222222,
              "#7201a8"
             ],
             [
              0.3333333333333333,
              "#9c179e"
             ],
             [
              0.4444444444444444,
              "#bd3786"
             ],
             [
              0.5555555555555556,
              "#d8576b"
             ],
             [
              0.6666666666666666,
              "#ed7953"
             ],
             [
              0.7777777777777778,
              "#fb9f3a"
             ],
             [
              0.8888888888888888,
              "#fdca26"
             ],
             [
              1,
              "#f0f921"
             ]
            ],
            "type": "surface"
           }
          ],
          "table": [
           {
            "cells": {
             "fill": {
              "color": "#EBF0F8"
             },
             "line": {
              "color": "white"
             }
            },
            "header": {
             "fill": {
              "color": "#C8D4E3"
             },
             "line": {
              "color": "white"
             }
            },
            "type": "table"
           }
          ]
         },
         "layout": {
          "annotationdefaults": {
           "arrowcolor": "#2a3f5f",
           "arrowhead": 0,
           "arrowwidth": 1
          },
          "autotypenumbers": "strict",
          "coloraxis": {
           "colorbar": {
            "outlinewidth": 0,
            "ticks": ""
           }
          },
          "colorscale": {
           "diverging": [
            [
             0,
             "#8e0152"
            ],
            [
             0.1,
             "#c51b7d"
            ],
            [
             0.2,
             "#de77ae"
            ],
            [
             0.3,
             "#f1b6da"
            ],
            [
             0.4,
             "#fde0ef"
            ],
            [
             0.5,
             "#f7f7f7"
            ],
            [
             0.6,
             "#e6f5d0"
            ],
            [
             0.7,
             "#b8e186"
            ],
            [
             0.8,
             "#7fbc41"
            ],
            [
             0.9,
             "#4d9221"
            ],
            [
             1,
             "#276419"
            ]
           ],
           "sequential": [
            [
             0,
             "#0d0887"
            ],
            [
             0.1111111111111111,
             "#46039f"
            ],
            [
             0.2222222222222222,
             "#7201a8"
            ],
            [
             0.3333333333333333,
             "#9c179e"
            ],
            [
             0.4444444444444444,
             "#bd3786"
            ],
            [
             0.5555555555555556,
             "#d8576b"
            ],
            [
             0.6666666666666666,
             "#ed7953"
            ],
            [
             0.7777777777777778,
             "#fb9f3a"
            ],
            [
             0.8888888888888888,
             "#fdca26"
            ],
            [
             1,
             "#f0f921"
            ]
           ],
           "sequentialminus": [
            [
             0,
             "#0d0887"
            ],
            [
             0.1111111111111111,
             "#46039f"
            ],
            [
             0.2222222222222222,
             "#7201a8"
            ],
            [
             0.3333333333333333,
             "#9c179e"
            ],
            [
             0.4444444444444444,
             "#bd3786"
            ],
            [
             0.5555555555555556,
             "#d8576b"
            ],
            [
             0.6666666666666666,
             "#ed7953"
            ],
            [
             0.7777777777777778,
             "#fb9f3a"
            ],
            [
             0.8888888888888888,
             "#fdca26"
            ],
            [
             1,
             "#f0f921"
            ]
           ]
          },
          "colorway": [
           "#636efa",
           "#EF553B",
           "#00cc96",
           "#ab63fa",
           "#FFA15A",
           "#19d3f3",
           "#FF6692",
           "#B6E880",
           "#FF97FF",
           "#FECB52"
          ],
          "font": {
           "color": "#2a3f5f"
          },
          "geo": {
           "bgcolor": "white",
           "lakecolor": "white",
           "landcolor": "#E5ECF6",
           "showlakes": true,
           "showland": true,
           "subunitcolor": "white"
          },
          "hoverlabel": {
           "align": "left"
          },
          "hovermode": "closest",
          "mapbox": {
           "style": "light"
          },
          "paper_bgcolor": "white",
          "plot_bgcolor": "#E5ECF6",
          "polar": {
           "angularaxis": {
            "gridcolor": "white",
            "linecolor": "white",
            "ticks": ""
           },
           "bgcolor": "#E5ECF6",
           "radialaxis": {
            "gridcolor": "white",
            "linecolor": "white",
            "ticks": ""
           }
          },
          "scene": {
           "xaxis": {
            "backgroundcolor": "#E5ECF6",
            "gridcolor": "white",
            "gridwidth": 2,
            "linecolor": "white",
            "showbackground": true,
            "ticks": "",
            "zerolinecolor": "white"
           },
           "yaxis": {
            "backgroundcolor": "#E5ECF6",
            "gridcolor": "white",
            "gridwidth": 2,
            "linecolor": "white",
            "showbackground": true,
            "ticks": "",
            "zerolinecolor": "white"
           },
           "zaxis": {
            "backgroundcolor": "#E5ECF6",
            "gridcolor": "white",
            "gridwidth": 2,
            "linecolor": "white",
            "showbackground": true,
            "ticks": "",
            "zerolinecolor": "white"
           }
          },
          "shapedefaults": {
           "line": {
            "color": "#2a3f5f"
           }
          },
          "ternary": {
           "aaxis": {
            "gridcolor": "white",
            "linecolor": "white",
            "ticks": ""
           },
           "baxis": {
            "gridcolor": "white",
            "linecolor": "white",
            "ticks": ""
           },
           "bgcolor": "#E5ECF6",
           "caxis": {
            "gridcolor": "white",
            "linecolor": "white",
            "ticks": ""
           }
          },
          "title": {
           "x": 0.05
          },
          "xaxis": {
           "automargin": true,
           "gridcolor": "white",
           "linecolor": "white",
           "ticks": "",
           "title": {
            "standoff": 15
           },
           "zerolinecolor": "white",
           "zerolinewidth": 2
          },
          "yaxis": {
           "automargin": true,
           "gridcolor": "white",
           "linecolor": "white",
           "ticks": "",
           "title": {
            "standoff": 15
           },
           "zerolinecolor": "white",
           "zerolinewidth": 2
          }
         }
        },
        "title": {
         "text": "R1 Structures: Frequency and Impact on Score Relative to All Factions Average (144.4): geodens"
        }
       }
      },
      "text/html": [
       "<div>                            <div id=\"b449a01e-d0a6-413a-916c-6c5809099bcc\" class=\"plotly-graph-div\" style=\"height:525px; width:100%;\"></div>            <script type=\"text/javascript\">                require([\"plotly\"], function(Plotly) {                    window.PLOTLYENV=window.PLOTLYENV || {};                                    if (document.getElementById(\"b449a01e-d0a6-413a-916c-6c5809099bcc\")) {                    Plotly.newPlot(                        \"b449a01e-d0a6-413a-916c-6c5809099bcc\",                        [{\"branchvalues\":\"total\",\"customdata\":[[170.1818181818182,139.63636363636363],[186.66666666666666,139.66666666666666],[302.0,138.0],[268.0,115.0],[123.0,117.0],[116.0,122.0],[178.42857142857142,147.71428571428572],[229.50819672131146,142.31147540983608],[158.35294117647058,125.58823529411765],[200.75,114.5],[225.28571428571428,131.5],[184.5,132.75],[168.0650406504065,132.3170731707317],[176.35714285714286,143.64285714285714],[133.0,151.0],[138.0,176.0],[155.57142857142858,164.71428571428572],[255.51685393258427,150.41573033707866],[186.1139705882353,138.56617647058823],[130.78125,134.8125],[115.0,123.0],[204.84172661870502,151.31654676258992],[206.87037037037038,146.75925925925927],[70.0,124.0],[158.0,140.85714285714286],[182.3577981651376,135.045871559633],[258.5,165.0],[145.33333333333334,144.66666666666666],[346.0,125.0],[229.89958158995816,160.1715481171548],[188.875,152.875],[157.0,162.0],[228.4814814814815,165.59259259259258],[151.2,154.3],[244.0,193.0],[\"(?)\",143.98605947955392],[\"(?)\",146.84076433121018],[\"(?)\",153.125],[\"(?)\",142.5686274509804],[157.0,162.0],[\"(?)\",134.4],[\"(?)\",144.23295454545453]],\"domain\":{\"x\":[0.0,1.0],\"y\":[0.0,1.0]},\"hovertemplate\":\"labels=%{label}<br>class_counts=%{value}<br>parent=%{parent}<br>id=%{id}<br>ave_elo_geodens=%{customdata[0]}<br>ave_score_geodens=%{color}<extra></extra>\",\"ids\":[\"R1 Structs/PI/ 0-m_0-ts_1-lab_1-pi_0-ac1_0-ac2\",\"R1 Structs/lab/ 0-m_0-ts_2-lab_0-pi_0-ac1_0-ac2\",\"R1 Structs/ac2/ 0-m_1-ts_0-lab_0-pi_0-ac1_1-ac2\",\"R1 Structs/PI/ 0-m_2-ts_0-lab_1-pi_0-ac1_0-ac2\",\"R1 Structs/lab/ 0-m_2-ts_1-lab_0-pi_0-ac1_0-ac2\",\"R1 Structs/ts/ 0-m_3-ts_0-lab_0-pi_0-ac1_0-ac2\",\"R1 Structs/ac2/ 1-m_0-ts_0-lab_0-pi_0-ac1_1-ac2\",\"R1 Structs/ac1/ 1-m_0-ts_0-lab_0-pi_1-ac1_0-ac2\",\"R1 Structs/PI/ 1-m_0-ts_0-lab_1-pi_0-ac1_0-ac2\",\"R1 Structs/lab/ 1-m_0-ts_1-lab_0-pi_0-ac1_0-ac2\",\"R1 Structs/PI/ 1-m_0-ts_1-lab_1-pi_0-ac1_0-ac2\",\"R1 Structs/lab/ 1-m_0-ts_2-lab_0-pi_0-ac1_0-ac2\",\"R1 Structs/PI/ 1-m_1-ts_0-lab_1-pi_0-ac1_0-ac2\",\"R1 Structs/lab/ 1-m_1-ts_1-lab_0-pi_0-ac1_0-ac2\",\"R1 Structs/ts/ 1-m_2-ts_0-lab_0-pi_0-ac1_0-ac2\",\"R1 Structs/lab/ 1-m_2-ts_1-lab_0-pi_0-ac1_0-ac2\",\"R1 Structs/ac2/ 2-m_0-ts_0-lab_0-pi_0-ac1_1-ac2\",\"R1 Structs/ac1/ 2-m_0-ts_0-lab_0-pi_1-ac1_0-ac2\",\"R1 Structs/PI/ 2-m_0-ts_0-lab_1-pi_0-ac1_0-ac2\",\"R1 Structs/lab/ 2-m_0-ts_1-lab_0-pi_0-ac1_0-ac2\",\"R1 Structs/PI/ 2-m_0-ts_1-lab_1-pi_0-ac1_0-ac2\",\"R1 Structs/PI/ 2-m_1-ts_0-lab_1-pi_0-ac1_0-ac2\",\"R1 Structs/lab/ 2-m_1-ts_1-lab_0-pi_0-ac1_0-ac2\",\"R1 Structs/ts/ 2-m_2-ts_0-lab_0-pi_0-ac1_0-ac2\",\"R1 Structs/ac1/ 3-m_0-ts_0-lab_0-pi_1-ac1_0-ac2\",\"R1 Structs/PI/ 3-m_0-ts_0-lab_1-pi_0-ac1_0-ac2\",\"R1 Structs/PI/ 3-m_1-ts_0-lab_1-pi_0-ac1_0-ac2\",\"R1 Structs/lab/ 3-m_1-ts_1-lab_0-pi_0-ac1_0-ac2\",\"R1 Structs/ac2/ 4-m_0-ts_0-lab_0-pi_0-ac1_1-ac2\",\"R1 Structs/PI/ 4-m_0-ts_0-lab_1-pi_0-ac1_0-ac2\",\"R1 Structs/lab/ 4-m_0-ts_1-lab_0-pi_0-ac1_0-ac2\",\"R1 Structs/m/ 5-m_0-ts_0-lab_0-pi_0-ac1_0-ac2\",\"R1 Structs/PI/ 5-m_0-ts_0-lab_1-pi_0-ac1_0-ac2\",\"R1 Structs/lab/ 5-m_0-ts_1-lab_0-pi_0-ac1_0-ac2\",\"R1 Structs/lab/ 6-m_0-ts_1-lab_0-pi_0-ac1_0-ac2\",\"R1 Structs/PI\",\"R1 Structs/ac1\",\"R1 Structs/ac2\",\"R1 Structs/lab\",\"R1 Structs/m\",\"R1 Structs/ts\",\"R1 Structs\"],\"labels\":[\" 0-m_0-ts_1-lab_1-pi_0-ac1_0-ac2\",\" 0-m_0-ts_2-lab_0-pi_0-ac1_0-ac2\",\" 0-m_1-ts_0-lab_0-pi_0-ac1_1-ac2\",\" 0-m_2-ts_0-lab_1-pi_0-ac1_0-ac2\",\" 0-m_2-ts_1-lab_0-pi_0-ac1_0-ac2\",\" 0-m_3-ts_0-lab_0-pi_0-ac1_0-ac2\",\" 1-m_0-ts_0-lab_0-pi_0-ac1_1-ac2\",\" 1-m_0-ts_0-lab_0-pi_1-ac1_0-ac2\",\" 1-m_0-ts_0-lab_1-pi_0-ac1_0-ac2\",\" 1-m_0-ts_1-lab_0-pi_0-ac1_0-ac2\",\" 1-m_0-ts_1-lab_1-pi_0-ac1_0-ac2\",\" 1-m_0-ts_2-lab_0-pi_0-ac1_0-ac2\",\" 1-m_1-ts_0-lab_1-pi_0-ac1_0-ac2\",\" 1-m_1-ts_1-lab_0-pi_0-ac1_0-ac2\",\" 1-m_2-ts_0-lab_0-pi_0-ac1_0-ac2\",\" 1-m_2-ts_1-lab_0-pi_0-ac1_0-ac2\",\" 2-m_0-ts_0-lab_0-pi_0-ac1_1-ac2\",\" 2-m_0-ts_0-lab_0-pi_1-ac1_0-ac2\",\" 2-m_0-ts_0-lab_1-pi_0-ac1_0-ac2\",\" 2-m_0-ts_1-lab_0-pi_0-ac1_0-ac2\",\" 2-m_0-ts_1-lab_1-pi_0-ac1_0-ac2\",\" 2-m_1-ts_0-lab_1-pi_0-ac1_0-ac2\",\" 2-m_1-ts_1-lab_0-pi_0-ac1_0-ac2\",\" 2-m_2-ts_0-lab_0-pi_0-ac1_0-ac2\",\" 3-m_0-ts_0-lab_0-pi_1-ac1_0-ac2\",\" 3-m_0-ts_0-lab_1-pi_0-ac1_0-ac2\",\" 3-m_1-ts_0-lab_1-pi_0-ac1_0-ac2\",\" 3-m_1-ts_1-lab_0-pi_0-ac1_0-ac2\",\" 4-m_0-ts_0-lab_0-pi_0-ac1_1-ac2\",\" 4-m_0-ts_0-lab_1-pi_0-ac1_0-ac2\",\" 4-m_0-ts_1-lab_0-pi_0-ac1_0-ac2\",\" 5-m_0-ts_0-lab_0-pi_0-ac1_0-ac2\",\" 5-m_0-ts_0-lab_1-pi_0-ac1_0-ac2\",\" 5-m_0-ts_1-lab_0-pi_0-ac1_0-ac2\",\" 6-m_0-ts_1-lab_0-pi_0-ac1_0-ac2\",\"PI\",\"ac1\",\"ac2\",\"lab\",\"m\",\"ts\",\"R1 Structs\"],\"marker\":{\"coloraxis\":\"coloraxis\",\"colors\":[139.63636363636363,139.66666666666666,138.0,115.0,117.0,122.0,147.71428571428572,142.31147540983608,125.58823529411765,114.5,131.5,132.75,132.3170731707317,143.64285714285714,151.0,176.0,164.71428571428572,150.41573033707866,138.56617647058823,134.8125,123.0,151.31654676258992,146.75925925925927,124.0,140.85714285714286,135.045871559633,165.0,144.66666666666666,125.0,160.1715481171548,152.875,162.0,165.59259259259258,154.3,193.0,143.98605947955392,146.84076433121018,153.125,142.5686274509804,162.0,134.4,144.23295454545453]},\"name\":\"\",\"parents\":[\"R1 Structs/PI\",\"R1 Structs/lab\",\"R1 Structs/ac2\",\"R1 Structs/PI\",\"R1 Structs/lab\",\"R1 Structs/ts\",\"R1 Structs/ac2\",\"R1 Structs/ac1\",\"R1 Structs/PI\",\"R1 Structs/lab\",\"R1 Structs/PI\",\"R1 Structs/lab\",\"R1 Structs/PI\",\"R1 Structs/lab\",\"R1 Structs/ts\",\"R1 Structs/lab\",\"R1 Structs/ac2\",\"R1 Structs/ac1\",\"R1 Structs/PI\",\"R1 Structs/lab\",\"R1 Structs/PI\",\"R1 Structs/PI\",\"R1 Structs/lab\",\"R1 Structs/ts\",\"R1 Structs/ac1\",\"R1 Structs/PI\",\"R1 Structs/PI\",\"R1 Structs/lab\",\"R1 Structs/ac2\",\"R1 Structs/PI\",\"R1 Structs/lab\",\"R1 Structs/m\",\"R1 Structs/PI\",\"R1 Structs/lab\",\"R1 Structs/lab\",\"R1 Structs\",\"R1 Structs\",\"R1 Structs\",\"R1 Structs\",\"R1 Structs\",\"R1 Structs\",\"\"],\"values\":[44,6,2,2,2,2,14,122,34,16,28,8,246,56,4,2,14,178,544,64,4,278,108,4,14,436,4,6,2,478,16,2,54,20,2,2152,314,32,306,2,10,2816],\"type\":\"treemap\"}],                        {\"template\":{\"data\":{\"bar\":[{\"error_x\":{\"color\":\"#2a3f5f\"},\"error_y\":{\"color\":\"#2a3f5f\"},\"marker\":{\"line\":{\"color\":\"#E5ECF6\",\"width\":0.5},\"pattern\":{\"fillmode\":\"overlay\",\"size\":10,\"solidity\":0.2}},\"type\":\"bar\"}],\"barpolar\":[{\"marker\":{\"line\":{\"color\":\"#E5ECF6\",\"width\":0.5},\"pattern\":{\"fillmode\":\"overlay\",\"size\":10,\"solidity\":0.2}},\"type\":\"barpolar\"}],\"carpet\":[{\"aaxis\":{\"endlinecolor\":\"#2a3f5f\",\"gridcolor\":\"white\",\"linecolor\":\"white\",\"minorgridcolor\":\"white\",\"startlinecolor\":\"#2a3f5f\"},\"baxis\":{\"endlinecolor\":\"#2a3f5f\",\"gridcolor\":\"white\",\"linecolor\":\"white\",\"minorgridcolor\":\"white\",\"startlinecolor\":\"#2a3f5f\"},\"type\":\"carpet\"}],\"choropleth\":[{\"colorbar\":{\"outlinewidth\":0,\"ticks\":\"\"},\"type\":\"choropleth\"}],\"contour\":[{\"colorbar\":{\"outlinewidth\":0,\"ticks\":\"\"},\"colorscale\":[[0.0,\"#0d0887\"],[0.1111111111111111,\"#46039f\"],[0.2222222222222222,\"#7201a8\"],[0.3333333333333333,\"#9c179e\"],[0.4444444444444444,\"#bd3786\"],[0.5555555555555556,\"#d8576b\"],[0.6666666666666666,\"#ed7953\"],[0.7777777777777778,\"#fb9f3a\"],[0.8888888888888888,\"#fdca26\"],[1.0,\"#f0f921\"]],\"type\":\"contour\"}],\"contourcarpet\":[{\"colorbar\":{\"outlinewidth\":0,\"ticks\":\"\"},\"type\":\"contourcarpet\"}],\"heatmap\":[{\"colorbar\":{\"outlinewidth\":0,\"ticks\":\"\"},\"colorscale\":[[0.0,\"#0d0887\"],[0.1111111111111111,\"#46039f\"],[0.2222222222222222,\"#7201a8\"],[0.3333333333333333,\"#9c179e\"],[0.4444444444444444,\"#bd3786\"],[0.5555555555555556,\"#d8576b\"],[0.6666666666666666,\"#ed7953\"],[0.7777777777777778,\"#fb9f3a\"],[0.8888888888888888,\"#fdca26\"],[1.0,\"#f0f921\"]],\"type\":\"heatmap\"}],\"heatmapgl\":[{\"colorbar\":{\"outlinewidth\":0,\"ticks\":\"\"},\"colorscale\":[[0.0,\"#0d0887\"],[0.1111111111111111,\"#46039f\"],[0.2222222222222222,\"#7201a8\"],[0.3333333333333333,\"#9c179e\"],[0.4444444444444444,\"#bd3786\"],[0.5555555555555556,\"#d8576b\"],[0.6666666666666666,\"#ed7953\"],[0.7777777777777778,\"#fb9f3a\"],[0.8888888888888888,\"#fdca26\"],[1.0,\"#f0f921\"]],\"type\":\"heatmapgl\"}],\"histogram\":[{\"marker\":{\"pattern\":{\"fillmode\":\"overlay\",\"size\":10,\"solidity\":0.2}},\"type\":\"histogram\"}],\"histogram2d\":[{\"colorbar\":{\"outlinewidth\":0,\"ticks\":\"\"},\"colorscale\":[[0.0,\"#0d0887\"],[0.1111111111111111,\"#46039f\"],[0.2222222222222222,\"#7201a8\"],[0.3333333333333333,\"#9c179e\"],[0.4444444444444444,\"#bd3786\"],[0.5555555555555556,\"#d8576b\"],[0.6666666666666666,\"#ed7953\"],[0.7777777777777778,\"#fb9f3a\"],[0.8888888888888888,\"#fdca26\"],[1.0,\"#f0f921\"]],\"type\":\"histogram2d\"}],\"histogram2dcontour\":[{\"colorbar\":{\"outlinewidth\":0,\"ticks\":\"\"},\"colorscale\":[[0.0,\"#0d0887\"],[0.1111111111111111,\"#46039f\"],[0.2222222222222222,\"#7201a8\"],[0.3333333333333333,\"#9c179e\"],[0.4444444444444444,\"#bd3786\"],[0.5555555555555556,\"#d8576b\"],[0.6666666666666666,\"#ed7953\"],[0.7777777777777778,\"#fb9f3a\"],[0.8888888888888888,\"#fdca26\"],[1.0,\"#f0f921\"]],\"type\":\"histogram2dcontour\"}],\"mesh3d\":[{\"colorbar\":{\"outlinewidth\":0,\"ticks\":\"\"},\"type\":\"mesh3d\"}],\"parcoords\":[{\"line\":{\"colorbar\":{\"outlinewidth\":0,\"ticks\":\"\"}},\"type\":\"parcoords\"}],\"pie\":[{\"automargin\":true,\"type\":\"pie\"}],\"scatter\":[{\"marker\":{\"colorbar\":{\"outlinewidth\":0,\"ticks\":\"\"}},\"type\":\"scatter\"}],\"scatter3d\":[{\"line\":{\"colorbar\":{\"outlinewidth\":0,\"ticks\":\"\"}},\"marker\":{\"colorbar\":{\"outlinewidth\":0,\"ticks\":\"\"}},\"type\":\"scatter3d\"}],\"scattercarpet\":[{\"marker\":{\"colorbar\":{\"outlinewidth\":0,\"ticks\":\"\"}},\"type\":\"scattercarpet\"}],\"scattergeo\":[{\"marker\":{\"colorbar\":{\"outlinewidth\":0,\"ticks\":\"\"}},\"type\":\"scattergeo\"}],\"scattergl\":[{\"marker\":{\"colorbar\":{\"outlinewidth\":0,\"ticks\":\"\"}},\"type\":\"scattergl\"}],\"scattermapbox\":[{\"marker\":{\"colorbar\":{\"outlinewidth\":0,\"ticks\":\"\"}},\"type\":\"scattermapbox\"}],\"scatterpolar\":[{\"marker\":{\"colorbar\":{\"outlinewidth\":0,\"ticks\":\"\"}},\"type\":\"scatterpolar\"}],\"scatterpolargl\":[{\"marker\":{\"colorbar\":{\"outlinewidth\":0,\"ticks\":\"\"}},\"type\":\"scatterpolargl\"}],\"scatterternary\":[{\"marker\":{\"colorbar\":{\"outlinewidth\":0,\"ticks\":\"\"}},\"type\":\"scatterternary\"}],\"surface\":[{\"colorbar\":{\"outlinewidth\":0,\"ticks\":\"\"},\"colorscale\":[[0.0,\"#0d0887\"],[0.1111111111111111,\"#46039f\"],[0.2222222222222222,\"#7201a8\"],[0.3333333333333333,\"#9c179e\"],[0.4444444444444444,\"#bd3786\"],[0.5555555555555556,\"#d8576b\"],[0.6666666666666666,\"#ed7953\"],[0.7777777777777778,\"#fb9f3a\"],[0.8888888888888888,\"#fdca26\"],[1.0,\"#f0f921\"]],\"type\":\"surface\"}],\"table\":[{\"cells\":{\"fill\":{\"color\":\"#EBF0F8\"},\"line\":{\"color\":\"white\"}},\"header\":{\"fill\":{\"color\":\"#C8D4E3\"},\"line\":{\"color\":\"white\"}},\"type\":\"table\"}]},\"layout\":{\"annotationdefaults\":{\"arrowcolor\":\"#2a3f5f\",\"arrowhead\":0,\"arrowwidth\":1},\"autotypenumbers\":\"strict\",\"coloraxis\":{\"colorbar\":{\"outlinewidth\":0,\"ticks\":\"\"}},\"colorscale\":{\"diverging\":[[0,\"#8e0152\"],[0.1,\"#c51b7d\"],[0.2,\"#de77ae\"],[0.3,\"#f1b6da\"],[0.4,\"#fde0ef\"],[0.5,\"#f7f7f7\"],[0.6,\"#e6f5d0\"],[0.7,\"#b8e186\"],[0.8,\"#7fbc41\"],[0.9,\"#4d9221\"],[1,\"#276419\"]],\"sequential\":[[0.0,\"#0d0887\"],[0.1111111111111111,\"#46039f\"],[0.2222222222222222,\"#7201a8\"],[0.3333333333333333,\"#9c179e\"],[0.4444444444444444,\"#bd3786\"],[0.5555555555555556,\"#d8576b\"],[0.6666666666666666,\"#ed7953\"],[0.7777777777777778,\"#fb9f3a\"],[0.8888888888888888,\"#fdca26\"],[1.0,\"#f0f921\"]],\"sequentialminus\":[[0.0,\"#0d0887\"],[0.1111111111111111,\"#46039f\"],[0.2222222222222222,\"#7201a8\"],[0.3333333333333333,\"#9c179e\"],[0.4444444444444444,\"#bd3786\"],[0.5555555555555556,\"#d8576b\"],[0.6666666666666666,\"#ed7953\"],[0.7777777777777778,\"#fb9f3a\"],[0.8888888888888888,\"#fdca26\"],[1.0,\"#f0f921\"]]},\"colorway\":[\"#636efa\",\"#EF553B\",\"#00cc96\",\"#ab63fa\",\"#FFA15A\",\"#19d3f3\",\"#FF6692\",\"#B6E880\",\"#FF97FF\",\"#FECB52\"],\"font\":{\"color\":\"#2a3f5f\"},\"geo\":{\"bgcolor\":\"white\",\"lakecolor\":\"white\",\"landcolor\":\"#E5ECF6\",\"showlakes\":true,\"showland\":true,\"subunitcolor\":\"white\"},\"hoverlabel\":{\"align\":\"left\"},\"hovermode\":\"closest\",\"mapbox\":{\"style\":\"light\"},\"paper_bgcolor\":\"white\",\"plot_bgcolor\":\"#E5ECF6\",\"polar\":{\"angularaxis\":{\"gridcolor\":\"white\",\"linecolor\":\"white\",\"ticks\":\"\"},\"bgcolor\":\"#E5ECF6\",\"radialaxis\":{\"gridcolor\":\"white\",\"linecolor\":\"white\",\"ticks\":\"\"}},\"scene\":{\"xaxis\":{\"backgroundcolor\":\"#E5ECF6\",\"gridcolor\":\"white\",\"gridwidth\":2,\"linecolor\":\"white\",\"showbackground\":true,\"ticks\":\"\",\"zerolinecolor\":\"white\"},\"yaxis\":{\"backgroundcolor\":\"#E5ECF6\",\"gridcolor\":\"white\",\"gridwidth\":2,\"linecolor\":\"white\",\"showbackground\":true,\"ticks\":\"\",\"zerolinecolor\":\"white\"},\"zaxis\":{\"backgroundcolor\":\"#E5ECF6\",\"gridcolor\":\"white\",\"gridwidth\":2,\"linecolor\":\"white\",\"showbackground\":true,\"ticks\":\"\",\"zerolinecolor\":\"white\"}},\"shapedefaults\":{\"line\":{\"color\":\"#2a3f5f\"}},\"ternary\":{\"aaxis\":{\"gridcolor\":\"white\",\"linecolor\":\"white\",\"ticks\":\"\"},\"baxis\":{\"gridcolor\":\"white\",\"linecolor\":\"white\",\"ticks\":\"\"},\"bgcolor\":\"#E5ECF6\",\"caxis\":{\"gridcolor\":\"white\",\"linecolor\":\"white\",\"ticks\":\"\"}},\"title\":{\"x\":0.05},\"xaxis\":{\"automargin\":true,\"gridcolor\":\"white\",\"linecolor\":\"white\",\"ticks\":\"\",\"title\":{\"standoff\":15},\"zerolinecolor\":\"white\",\"zerolinewidth\":2},\"yaxis\":{\"automargin\":true,\"gridcolor\":\"white\",\"linecolor\":\"white\",\"ticks\":\"\",\"title\":{\"standoff\":15},\"zerolinecolor\":\"white\",\"zerolinewidth\":2}}},\"coloraxis\":{\"colorbar\":{\"title\":{\"text\":\"ave_score_geodens\"}},\"colorscale\":[[0.0,\"rgb(103,0,31)\"],[0.1,\"rgb(178,24,43)\"],[0.2,\"rgb(214,96,77)\"],[0.3,\"rgb(244,165,130)\"],[0.4,\"rgb(253,219,199)\"],[0.5,\"rgb(247,247,247)\"],[0.6,\"rgb(209,229,240)\"],[0.7,\"rgb(146,197,222)\"],[0.8,\"rgb(67,147,195)\"],[0.9,\"rgb(33,102,172)\"],[1.0,\"rgb(5,48,97)\"]],\"cmid\":144.39872372553106},\"legend\":{\"tracegroupgap\":0},\"margin\":{\"t\":50,\"l\":25,\"r\":25,\"b\":25},\"title\":{\"text\":\"R1 Structures: Frequency and Impact on Score Relative to All Factions Average (144.4): geodens\"}},                        {\"responsive\": true}                    ).then(function(){\n",
       "                            \n",
       "var gd = document.getElementById('b449a01e-d0a6-413a-916c-6c5809099bcc');\n",
       "var x = new MutationObserver(function (mutations, observer) {{\n",
       "        var display = window.getComputedStyle(gd).display;\n",
       "        if (!display || display === 'none') {{\n",
       "            console.log([gd, 'removed!']);\n",
       "            Plotly.purge(gd);\n",
       "            observer.disconnect();\n",
       "        }}\n",
       "}});\n",
       "\n",
       "// Listen for the removal of the full notebook cells\n",
       "var notebookContainer = gd.closest('#notebook-container');\n",
       "if (notebookContainer) {{\n",
       "    x.observe(notebookContainer, {childList: true});\n",
       "}}\n",
       "\n",
       "// Listen for the clearing of the current output cell\n",
       "var outputEl = gd.closest('.output');\n",
       "if (outputEl) {{\n",
       "    x.observe(outputEl, {childList: true});\n",
       "}}\n",
       "\n",
       "                        })                };                });            </script>        </div>"
      ]
     },
     "metadata": {},
     "output_type": "display_data"
    },
    {
     "data": {
      "application/vnd.plotly.v1+json": {
       "config": {
        "plotlyServerURL": "https://plot.ly"
       },
       "data": [
        {
         "branchvalues": "total",
         "customdata": [
          [
           183.9189189189189,
           148
          ],
          [
           133,
           125.66666666666667
          ],
          [
           193.3846153846154,
           137.10256410256412
          ],
          [
           110.5,
           109.33333333333333
          ],
          [
           170.63636363636363,
           129.4090909090909
          ],
          [
           31,
           115
          ],
          [
           243.13333333333333,
           152.7
          ],
          [
           106,
           148
          ],
          [
           68,
           117.33333333333333
          ],
          [
           178.5909090909091,
           138.625
          ],
          [
           140,
           124
          ],
          [
           128.42857142857142,
           127
          ],
          [
           224.05128205128204,
           141.75641025641025
          ],
          [
           120.5,
           119
          ],
          [
           215.53142857142856,
           142.34285714285716
          ],
          [
           229,
           119
          ],
          [
           48,
           114
          ],
          [
           184.07142857142858,
           143.79464285714286
          ],
          [
           121,
           164
          ],
          [
           79,
           108
          ],
          [
           118,
           119.83333333333333
          ],
          [
           195.9146005509642,
           138.13498622589532
          ],
          [
           74.5,
           108.875
          ],
          [
           154.6,
           150.4
          ],
          [
           215,
           124
          ],
          [
           239.76255707762556,
           149.5068493150685
          ],
          [
           103.66666666666667,
           120.33333333333333
          ],
          [
           170,
           143
          ],
          [
           98.33333333333333,
           116.66666666666667
          ],
          [
           261.6242774566474,
           154.71098265895955
          ],
          [
           217,
           199
          ],
          [
           214.57142857142858,
           176.71428571428572
          ],
          [
           204,
           215
          ],
          [
           "(?)",
           113.2
          ],
          [
           "(?)",
           138.34883720930233
          ],
          [
           "(?)",
           123.53333333333333
          ],
          [
           "(?)",
           144.58074534161491
          ],
          [
           "(?)",
           128.5
          ],
          [
           "(?)",
           124.72222222222223
          ],
          [
           "(?)",
           142.95621716287215
          ]
         ],
         "domain": {
          "x": [
           0,
           1
          ],
          "y": [
           0,
           1
          ]
         },
         "hovertemplate": "labels=%{label}<br>class_counts=%{value}<br>parent=%{parent}<br>id=%{id}<br>ave_elo_bescods=%{customdata[0]}<br>ave_score_bescods=%{color}<extra></extra>",
         "ids": [
          "R1 Structs/lab/ 0-m_0-ts_2-lab_0-pi_0-ac1_0-ac2",
          "R1 Structs/ac2/ 1-m_0-ts_0-lab_0-pi_0-ac1_1-ac2",
          "R1 Structs/ac1/ 1-m_0-ts_0-lab_0-pi_1-ac1_0-ac2",
          "R1 Structs/PI/ 1-m_0-ts_0-lab_1-pi_0-ac1_0-ac2",
          "R1 Structs/lab/ 1-m_0-ts_1-lab_0-pi_0-ac1_0-ac2",
          "R1 Structs/ac2/ 1-m_0-ts_1-lab_0-pi_0-ac1_1-ac2",
          "R1 Structs/lab/ 1-m_0-ts_2-lab_0-pi_0-ac1_0-ac2",
          "R1 Structs/ac2/ 1-m_1-ts_0-lab_0-pi_0-ac1_1-ac2",
          "R1 Structs/ac1/ 1-m_1-ts_0-lab_0-pi_1-ac1_0-ac2",
          "R1 Structs/lab/ 1-m_1-ts_1-lab_0-pi_0-ac1_0-ac2",
          "R1 Structs/lab/ 1-m_2-ts_1-lab_0-pi_0-ac1_0-ac2",
          "R1 Structs/ac2/ 2-m_0-ts_0-lab_0-pi_0-ac1_1-ac2",
          "R1 Structs/ac1/ 2-m_0-ts_0-lab_0-pi_1-ac1_0-ac2",
          "R1 Structs/PI/ 2-m_0-ts_0-lab_1-pi_0-ac1_0-ac2",
          "R1 Structs/lab/ 2-m_0-ts_1-lab_0-pi_0-ac1_0-ac2",
          "R1 Structs/lab/ 2-m_0-ts_2-lab_0-pi_0-ac1_0-ac2",
          "R1 Structs/ts/ 2-m_1-ts_0-lab_0-pi_0-ac1_0-ac2",
          "R1 Structs/lab/ 2-m_1-ts_1-lab_0-pi_0-ac1_0-ac2",
          "R1 Structs/m/ 3-m_0-ts_0-lab_0-pi_0-ac1_0-ac2",
          "R1 Structs/ac2/ 3-m_0-ts_0-lab_0-pi_0-ac1_1-ac2",
          "R1 Structs/ac1/ 3-m_0-ts_0-lab_0-pi_1-ac1_0-ac2",
          "R1 Structs/lab/ 3-m_0-ts_1-lab_0-pi_0-ac1_0-ac2",
          "R1 Structs/ts/ 3-m_1-ts_0-lab_0-pi_0-ac1_0-ac2",
          "R1 Structs/lab/ 3-m_1-ts_1-lab_0-pi_0-ac1_0-ac2",
          "R1 Structs/ac1/ 4-m_0-ts_0-lab_0-pi_1-ac1_0-ac2",
          "R1 Structs/lab/ 4-m_0-ts_1-lab_0-pi_0-ac1_0-ac2",
          "R1 Structs/ts/ 4-m_1-ts_0-lab_0-pi_0-ac1_0-ac2",
          "R1 Structs/ts/ 4-m_2-ts_0-lab_0-pi_0-ac1_0-ac2",
          "R1 Structs/m/ 5-m_0-ts_0-lab_0-pi_0-ac1_0-ac2",
          "R1 Structs/lab/ 5-m_0-ts_1-lab_0-pi_0-ac1_0-ac2",
          "R1 Structs/ts/ 5-m_1-ts_0-lab_0-pi_0-ac1_0-ac2",
          "R1 Structs/lab/ 6-m_0-ts_1-lab_0-pi_0-ac1_0-ac2",
          "R1 Structs/ts/ 6-m_1-ts_0-lab_0-pi_0-ac1_0-ac2",
          "R1 Structs/PI",
          "R1 Structs/ac1",
          "R1 Structs/ac2",
          "R1 Structs/lab",
          "R1 Structs/m",
          "R1 Structs/ts",
          "R1 Structs"
         ],
         "labels": [
          " 0-m_0-ts_2-lab_0-pi_0-ac1_0-ac2",
          " 1-m_0-ts_0-lab_0-pi_0-ac1_1-ac2",
          " 1-m_0-ts_0-lab_0-pi_1-ac1_0-ac2",
          " 1-m_0-ts_0-lab_1-pi_0-ac1_0-ac2",
          " 1-m_0-ts_1-lab_0-pi_0-ac1_0-ac2",
          " 1-m_0-ts_1-lab_0-pi_0-ac1_1-ac2",
          " 1-m_0-ts_2-lab_0-pi_0-ac1_0-ac2",
          " 1-m_1-ts_0-lab_0-pi_0-ac1_1-ac2",
          " 1-m_1-ts_0-lab_0-pi_1-ac1_0-ac2",
          " 1-m_1-ts_1-lab_0-pi_0-ac1_0-ac2",
          " 1-m_2-ts_1-lab_0-pi_0-ac1_0-ac2",
          " 2-m_0-ts_0-lab_0-pi_0-ac1_1-ac2",
          " 2-m_0-ts_0-lab_0-pi_1-ac1_0-ac2",
          " 2-m_0-ts_0-lab_1-pi_0-ac1_0-ac2",
          " 2-m_0-ts_1-lab_0-pi_0-ac1_0-ac2",
          " 2-m_0-ts_2-lab_0-pi_0-ac1_0-ac2",
          " 2-m_1-ts_0-lab_0-pi_0-ac1_0-ac2",
          " 2-m_1-ts_1-lab_0-pi_0-ac1_0-ac2",
          " 3-m_0-ts_0-lab_0-pi_0-ac1_0-ac2",
          " 3-m_0-ts_0-lab_0-pi_0-ac1_1-ac2",
          " 3-m_0-ts_0-lab_0-pi_1-ac1_0-ac2",
          " 3-m_0-ts_1-lab_0-pi_0-ac1_0-ac2",
          " 3-m_1-ts_0-lab_0-pi_0-ac1_0-ac2",
          " 3-m_1-ts_1-lab_0-pi_0-ac1_0-ac2",
          " 4-m_0-ts_0-lab_0-pi_1-ac1_0-ac2",
          " 4-m_0-ts_1-lab_0-pi_0-ac1_0-ac2",
          " 4-m_1-ts_0-lab_0-pi_0-ac1_0-ac2",
          " 4-m_2-ts_0-lab_0-pi_0-ac1_0-ac2",
          " 5-m_0-ts_0-lab_0-pi_0-ac1_0-ac2",
          " 5-m_0-ts_1-lab_0-pi_0-ac1_0-ac2",
          " 5-m_1-ts_0-lab_0-pi_0-ac1_0-ac2",
          " 6-m_0-ts_1-lab_0-pi_0-ac1_0-ac2",
          " 6-m_1-ts_0-lab_0-pi_0-ac1_0-ac2",
          "PI",
          "ac1",
          "ac2",
          "lab",
          "m",
          "ts",
          "R1 Structs"
         ],
         "marker": {
          "coloraxis": "coloraxis",
          "colors": [
           148,
           125.66666666666667,
           137.10256410256412,
           109.33333333333333,
           129.4090909090909,
           115,
           152.7,
           148,
           117.33333333333333,
           138.625,
           124,
           127,
           141.75641025641025,
           119,
           142.34285714285716,
           119,
           114,
           143.79464285714286,
           164,
           108,
           119.83333333333333,
           138.13498622589532,
           108.875,
           150.4,
           124,
           149.5068493150685,
           120.33333333333333,
           143,
           116.66666666666667,
           154.71098265895955,
           199,
           176.71428571428572,
           215,
           113.2,
           138.34883720930233,
           123.53333333333333,
           144.58074534161491,
           128.5,
           124.72222222222223,
           142.95621716287215
          ]
         },
         "name": "",
         "parents": [
          "R1 Structs/lab",
          "R1 Structs/ac2",
          "R1 Structs/ac1",
          "R1 Structs/PI",
          "R1 Structs/lab",
          "R1 Structs/ac2",
          "R1 Structs/lab",
          "R1 Structs/ac2",
          "R1 Structs/ac1",
          "R1 Structs/lab",
          "R1 Structs/lab",
          "R1 Structs/ac2",
          "R1 Structs/ac1",
          "R1 Structs/PI",
          "R1 Structs/lab",
          "R1 Structs/lab",
          "R1 Structs/ts",
          "R1 Structs/lab",
          "R1 Structs/m",
          "R1 Structs/ac2",
          "R1 Structs/ac1",
          "R1 Structs/lab",
          "R1 Structs/ts",
          "R1 Structs/lab",
          "R1 Structs/ac1",
          "R1 Structs/lab",
          "R1 Structs/ts",
          "R1 Structs/ts",
          "R1 Structs/m",
          "R1 Structs/lab",
          "R1 Structs/ts",
          "R1 Structs/lab",
          "R1 Structs/ts",
          "R1 Structs",
          "R1 Structs",
          "R1 Structs",
          "R1 Structs",
          "R1 Structs",
          "R1 Structs",
          ""
         ],
         "type": "treemap",
         "values": [
          74,
          6,
          78,
          12,
          44,
          2,
          60,
          2,
          6,
          176,
          2,
          14,
          156,
          8,
          350,
          4,
          8,
          224,
          2,
          6,
          12,
          363,
          16,
          10,
          6,
          438,
          6,
          2,
          6,
          173,
          2,
          14,
          2,
          20,
          258,
          30,
          1932,
          8,
          36,
          2284
         ]
        }
       ],
       "layout": {
        "coloraxis": {
         "cmid": 144.39872372553106,
         "colorbar": {
          "title": {
           "text": "ave_score_bescods"
          }
         },
         "colorscale": [
          [
           0,
           "rgb(103,0,31)"
          ],
          [
           0.1,
           "rgb(178,24,43)"
          ],
          [
           0.2,
           "rgb(214,96,77)"
          ],
          [
           0.3,
           "rgb(244,165,130)"
          ],
          [
           0.4,
           "rgb(253,219,199)"
          ],
          [
           0.5,
           "rgb(247,247,247)"
          ],
          [
           0.6,
           "rgb(209,229,240)"
          ],
          [
           0.7,
           "rgb(146,197,222)"
          ],
          [
           0.8,
           "rgb(67,147,195)"
          ],
          [
           0.9,
           "rgb(33,102,172)"
          ],
          [
           1,
           "rgb(5,48,97)"
          ]
         ]
        },
        "legend": {
         "tracegroupgap": 0
        },
        "margin": {
         "b": 25,
         "l": 25,
         "r": 25,
         "t": 50
        },
        "template": {
         "data": {
          "bar": [
           {
            "error_x": {
             "color": "#2a3f5f"
            },
            "error_y": {
             "color": "#2a3f5f"
            },
            "marker": {
             "line": {
              "color": "#E5ECF6",
              "width": 0.5
             },
             "pattern": {
              "fillmode": "overlay",
              "size": 10,
              "solidity": 0.2
             }
            },
            "type": "bar"
           }
          ],
          "barpolar": [
           {
            "marker": {
             "line": {
              "color": "#E5ECF6",
              "width": 0.5
             },
             "pattern": {
              "fillmode": "overlay",
              "size": 10,
              "solidity": 0.2
             }
            },
            "type": "barpolar"
           }
          ],
          "carpet": [
           {
            "aaxis": {
             "endlinecolor": "#2a3f5f",
             "gridcolor": "white",
             "linecolor": "white",
             "minorgridcolor": "white",
             "startlinecolor": "#2a3f5f"
            },
            "baxis": {
             "endlinecolor": "#2a3f5f",
             "gridcolor": "white",
             "linecolor": "white",
             "minorgridcolor": "white",
             "startlinecolor": "#2a3f5f"
            },
            "type": "carpet"
           }
          ],
          "choropleth": [
           {
            "colorbar": {
             "outlinewidth": 0,
             "ticks": ""
            },
            "type": "choropleth"
           }
          ],
          "contour": [
           {
            "colorbar": {
             "outlinewidth": 0,
             "ticks": ""
            },
            "colorscale": [
             [
              0,
              "#0d0887"
             ],
             [
              0.1111111111111111,
              "#46039f"
             ],
             [
              0.2222222222222222,
              "#7201a8"
             ],
             [
              0.3333333333333333,
              "#9c179e"
             ],
             [
              0.4444444444444444,
              "#bd3786"
             ],
             [
              0.5555555555555556,
              "#d8576b"
             ],
             [
              0.6666666666666666,
              "#ed7953"
             ],
             [
              0.7777777777777778,
              "#fb9f3a"
             ],
             [
              0.8888888888888888,
              "#fdca26"
             ],
             [
              1,
              "#f0f921"
             ]
            ],
            "type": "contour"
           }
          ],
          "contourcarpet": [
           {
            "colorbar": {
             "outlinewidth": 0,
             "ticks": ""
            },
            "type": "contourcarpet"
           }
          ],
          "heatmap": [
           {
            "colorbar": {
             "outlinewidth": 0,
             "ticks": ""
            },
            "colorscale": [
             [
              0,
              "#0d0887"
             ],
             [
              0.1111111111111111,
              "#46039f"
             ],
             [
              0.2222222222222222,
              "#7201a8"
             ],
             [
              0.3333333333333333,
              "#9c179e"
             ],
             [
              0.4444444444444444,
              "#bd3786"
             ],
             [
              0.5555555555555556,
              "#d8576b"
             ],
             [
              0.6666666666666666,
              "#ed7953"
             ],
             [
              0.7777777777777778,
              "#fb9f3a"
             ],
             [
              0.8888888888888888,
              "#fdca26"
             ],
             [
              1,
              "#f0f921"
             ]
            ],
            "type": "heatmap"
           }
          ],
          "heatmapgl": [
           {
            "colorbar": {
             "outlinewidth": 0,
             "ticks": ""
            },
            "colorscale": [
             [
              0,
              "#0d0887"
             ],
             [
              0.1111111111111111,
              "#46039f"
             ],
             [
              0.2222222222222222,
              "#7201a8"
             ],
             [
              0.3333333333333333,
              "#9c179e"
             ],
             [
              0.4444444444444444,
              "#bd3786"
             ],
             [
              0.5555555555555556,
              "#d8576b"
             ],
             [
              0.6666666666666666,
              "#ed7953"
             ],
             [
              0.7777777777777778,
              "#fb9f3a"
             ],
             [
              0.8888888888888888,
              "#fdca26"
             ],
             [
              1,
              "#f0f921"
             ]
            ],
            "type": "heatmapgl"
           }
          ],
          "histogram": [
           {
            "marker": {
             "pattern": {
              "fillmode": "overlay",
              "size": 10,
              "solidity": 0.2
             }
            },
            "type": "histogram"
           }
          ],
          "histogram2d": [
           {
            "colorbar": {
             "outlinewidth": 0,
             "ticks": ""
            },
            "colorscale": [
             [
              0,
              "#0d0887"
             ],
             [
              0.1111111111111111,
              "#46039f"
             ],
             [
              0.2222222222222222,
              "#7201a8"
             ],
             [
              0.3333333333333333,
              "#9c179e"
             ],
             [
              0.4444444444444444,
              "#bd3786"
             ],
             [
              0.5555555555555556,
              "#d8576b"
             ],
             [
              0.6666666666666666,
              "#ed7953"
             ],
             [
              0.7777777777777778,
              "#fb9f3a"
             ],
             [
              0.8888888888888888,
              "#fdca26"
             ],
             [
              1,
              "#f0f921"
             ]
            ],
            "type": "histogram2d"
           }
          ],
          "histogram2dcontour": [
           {
            "colorbar": {
             "outlinewidth": 0,
             "ticks": ""
            },
            "colorscale": [
             [
              0,
              "#0d0887"
             ],
             [
              0.1111111111111111,
              "#46039f"
             ],
             [
              0.2222222222222222,
              "#7201a8"
             ],
             [
              0.3333333333333333,
              "#9c179e"
             ],
             [
              0.4444444444444444,
              "#bd3786"
             ],
             [
              0.5555555555555556,
              "#d8576b"
             ],
             [
              0.6666666666666666,
              "#ed7953"
             ],
             [
              0.7777777777777778,
              "#fb9f3a"
             ],
             [
              0.8888888888888888,
              "#fdca26"
             ],
             [
              1,
              "#f0f921"
             ]
            ],
            "type": "histogram2dcontour"
           }
          ],
          "mesh3d": [
           {
            "colorbar": {
             "outlinewidth": 0,
             "ticks": ""
            },
            "type": "mesh3d"
           }
          ],
          "parcoords": [
           {
            "line": {
             "colorbar": {
              "outlinewidth": 0,
              "ticks": ""
             }
            },
            "type": "parcoords"
           }
          ],
          "pie": [
           {
            "automargin": true,
            "type": "pie"
           }
          ],
          "scatter": [
           {
            "marker": {
             "colorbar": {
              "outlinewidth": 0,
              "ticks": ""
             }
            },
            "type": "scatter"
           }
          ],
          "scatter3d": [
           {
            "line": {
             "colorbar": {
              "outlinewidth": 0,
              "ticks": ""
             }
            },
            "marker": {
             "colorbar": {
              "outlinewidth": 0,
              "ticks": ""
             }
            },
            "type": "scatter3d"
           }
          ],
          "scattercarpet": [
           {
            "marker": {
             "colorbar": {
              "outlinewidth": 0,
              "ticks": ""
             }
            },
            "type": "scattercarpet"
           }
          ],
          "scattergeo": [
           {
            "marker": {
             "colorbar": {
              "outlinewidth": 0,
              "ticks": ""
             }
            },
            "type": "scattergeo"
           }
          ],
          "scattergl": [
           {
            "marker": {
             "colorbar": {
              "outlinewidth": 0,
              "ticks": ""
             }
            },
            "type": "scattergl"
           }
          ],
          "scattermapbox": [
           {
            "marker": {
             "colorbar": {
              "outlinewidth": 0,
              "ticks": ""
             }
            },
            "type": "scattermapbox"
           }
          ],
          "scatterpolar": [
           {
            "marker": {
             "colorbar": {
              "outlinewidth": 0,
              "ticks": ""
             }
            },
            "type": "scatterpolar"
           }
          ],
          "scatterpolargl": [
           {
            "marker": {
             "colorbar": {
              "outlinewidth": 0,
              "ticks": ""
             }
            },
            "type": "scatterpolargl"
           }
          ],
          "scatterternary": [
           {
            "marker": {
             "colorbar": {
              "outlinewidth": 0,
              "ticks": ""
             }
            },
            "type": "scatterternary"
           }
          ],
          "surface": [
           {
            "colorbar": {
             "outlinewidth": 0,
             "ticks": ""
            },
            "colorscale": [
             [
              0,
              "#0d0887"
             ],
             [
              0.1111111111111111,
              "#46039f"
             ],
             [
              0.2222222222222222,
              "#7201a8"
             ],
             [
              0.3333333333333333,
              "#9c179e"
             ],
             [
              0.4444444444444444,
              "#bd3786"
             ],
             [
              0.5555555555555556,
              "#d8576b"
             ],
             [
              0.6666666666666666,
              "#ed7953"
             ],
             [
              0.7777777777777778,
              "#fb9f3a"
             ],
             [
              0.8888888888888888,
              "#fdca26"
             ],
             [
              1,
              "#f0f921"
             ]
            ],
            "type": "surface"
           }
          ],
          "table": [
           {
            "cells": {
             "fill": {
              "color": "#EBF0F8"
             },
             "line": {
              "color": "white"
             }
            },
            "header": {
             "fill": {
              "color": "#C8D4E3"
             },
             "line": {
              "color": "white"
             }
            },
            "type": "table"
           }
          ]
         },
         "layout": {
          "annotationdefaults": {
           "arrowcolor": "#2a3f5f",
           "arrowhead": 0,
           "arrowwidth": 1
          },
          "autotypenumbers": "strict",
          "coloraxis": {
           "colorbar": {
            "outlinewidth": 0,
            "ticks": ""
           }
          },
          "colorscale": {
           "diverging": [
            [
             0,
             "#8e0152"
            ],
            [
             0.1,
             "#c51b7d"
            ],
            [
             0.2,
             "#de77ae"
            ],
            [
             0.3,
             "#f1b6da"
            ],
            [
             0.4,
             "#fde0ef"
            ],
            [
             0.5,
             "#f7f7f7"
            ],
            [
             0.6,
             "#e6f5d0"
            ],
            [
             0.7,
             "#b8e186"
            ],
            [
             0.8,
             "#7fbc41"
            ],
            [
             0.9,
             "#4d9221"
            ],
            [
             1,
             "#276419"
            ]
           ],
           "sequential": [
            [
             0,
             "#0d0887"
            ],
            [
             0.1111111111111111,
             "#46039f"
            ],
            [
             0.2222222222222222,
             "#7201a8"
            ],
            [
             0.3333333333333333,
             "#9c179e"
            ],
            [
             0.4444444444444444,
             "#bd3786"
            ],
            [
             0.5555555555555556,
             "#d8576b"
            ],
            [
             0.6666666666666666,
             "#ed7953"
            ],
            [
             0.7777777777777778,
             "#fb9f3a"
            ],
            [
             0.8888888888888888,
             "#fdca26"
            ],
            [
             1,
             "#f0f921"
            ]
           ],
           "sequentialminus": [
            [
             0,
             "#0d0887"
            ],
            [
             0.1111111111111111,
             "#46039f"
            ],
            [
             0.2222222222222222,
             "#7201a8"
            ],
            [
             0.3333333333333333,
             "#9c179e"
            ],
            [
             0.4444444444444444,
             "#bd3786"
            ],
            [
             0.5555555555555556,
             "#d8576b"
            ],
            [
             0.6666666666666666,
             "#ed7953"
            ],
            [
             0.7777777777777778,
             "#fb9f3a"
            ],
            [
             0.8888888888888888,
             "#fdca26"
            ],
            [
             1,
             "#f0f921"
            ]
           ]
          },
          "colorway": [
           "#636efa",
           "#EF553B",
           "#00cc96",
           "#ab63fa",
           "#FFA15A",
           "#19d3f3",
           "#FF6692",
           "#B6E880",
           "#FF97FF",
           "#FECB52"
          ],
          "font": {
           "color": "#2a3f5f"
          },
          "geo": {
           "bgcolor": "white",
           "lakecolor": "white",
           "landcolor": "#E5ECF6",
           "showlakes": true,
           "showland": true,
           "subunitcolor": "white"
          },
          "hoverlabel": {
           "align": "left"
          },
          "hovermode": "closest",
          "mapbox": {
           "style": "light"
          },
          "paper_bgcolor": "white",
          "plot_bgcolor": "#E5ECF6",
          "polar": {
           "angularaxis": {
            "gridcolor": "white",
            "linecolor": "white",
            "ticks": ""
           },
           "bgcolor": "#E5ECF6",
           "radialaxis": {
            "gridcolor": "white",
            "linecolor": "white",
            "ticks": ""
           }
          },
          "scene": {
           "xaxis": {
            "backgroundcolor": "#E5ECF6",
            "gridcolor": "white",
            "gridwidth": 2,
            "linecolor": "white",
            "showbackground": true,
            "ticks": "",
            "zerolinecolor": "white"
           },
           "yaxis": {
            "backgroundcolor": "#E5ECF6",
            "gridcolor": "white",
            "gridwidth": 2,
            "linecolor": "white",
            "showbackground": true,
            "ticks": "",
            "zerolinecolor": "white"
           },
           "zaxis": {
            "backgroundcolor": "#E5ECF6",
            "gridcolor": "white",
            "gridwidth": 2,
            "linecolor": "white",
            "showbackground": true,
            "ticks": "",
            "zerolinecolor": "white"
           }
          },
          "shapedefaults": {
           "line": {
            "color": "#2a3f5f"
           }
          },
          "ternary": {
           "aaxis": {
            "gridcolor": "white",
            "linecolor": "white",
            "ticks": ""
           },
           "baxis": {
            "gridcolor": "white",
            "linecolor": "white",
            "ticks": ""
           },
           "bgcolor": "#E5ECF6",
           "caxis": {
            "gridcolor": "white",
            "linecolor": "white",
            "ticks": ""
           }
          },
          "title": {
           "x": 0.05
          },
          "xaxis": {
           "automargin": true,
           "gridcolor": "white",
           "linecolor": "white",
           "ticks": "",
           "title": {
            "standoff": 15
           },
           "zerolinecolor": "white",
           "zerolinewidth": 2
          },
          "yaxis": {
           "automargin": true,
           "gridcolor": "white",
           "linecolor": "white",
           "ticks": "",
           "title": {
            "standoff": 15
           },
           "zerolinecolor": "white",
           "zerolinewidth": 2
          }
         }
        },
        "title": {
         "text": "R1 Structures: Frequency and Impact on Score Relative to All Factions Average (144.4): bescods"
        }
       }
      },
      "text/html": [
       "<div>                            <div id=\"e8695487-01b0-4957-a671-7a0f794cf1f4\" class=\"plotly-graph-div\" style=\"height:525px; width:100%;\"></div>            <script type=\"text/javascript\">                require([\"plotly\"], function(Plotly) {                    window.PLOTLYENV=window.PLOTLYENV || {};                                    if (document.getElementById(\"e8695487-01b0-4957-a671-7a0f794cf1f4\")) {                    Plotly.newPlot(                        \"e8695487-01b0-4957-a671-7a0f794cf1f4\",                        [{\"branchvalues\":\"total\",\"customdata\":[[183.9189189189189,148.0],[133.0,125.66666666666667],[193.3846153846154,137.10256410256412],[110.5,109.33333333333333],[170.63636363636363,129.4090909090909],[31.0,115.0],[243.13333333333333,152.7],[106.0,148.0],[68.0,117.33333333333333],[178.5909090909091,138.625],[140.0,124.0],[128.42857142857142,127.0],[224.05128205128204,141.75641025641025],[120.5,119.0],[215.53142857142856,142.34285714285716],[229.0,119.0],[48.0,114.0],[184.07142857142858,143.79464285714286],[121.0,164.0],[79.0,108.0],[118.0,119.83333333333333],[195.9146005509642,138.13498622589532],[74.5,108.875],[154.6,150.4],[215.0,124.0],[239.76255707762556,149.5068493150685],[103.66666666666667,120.33333333333333],[170.0,143.0],[98.33333333333333,116.66666666666667],[261.6242774566474,154.71098265895955],[217.0,199.0],[214.57142857142858,176.71428571428572],[204.0,215.0],[\"(?)\",113.2],[\"(?)\",138.34883720930233],[\"(?)\",123.53333333333333],[\"(?)\",144.58074534161491],[\"(?)\",128.5],[\"(?)\",124.72222222222223],[\"(?)\",142.95621716287215]],\"domain\":{\"x\":[0.0,1.0],\"y\":[0.0,1.0]},\"hovertemplate\":\"labels=%{label}<br>class_counts=%{value}<br>parent=%{parent}<br>id=%{id}<br>ave_elo_bescods=%{customdata[0]}<br>ave_score_bescods=%{color}<extra></extra>\",\"ids\":[\"R1 Structs/lab/ 0-m_0-ts_2-lab_0-pi_0-ac1_0-ac2\",\"R1 Structs/ac2/ 1-m_0-ts_0-lab_0-pi_0-ac1_1-ac2\",\"R1 Structs/ac1/ 1-m_0-ts_0-lab_0-pi_1-ac1_0-ac2\",\"R1 Structs/PI/ 1-m_0-ts_0-lab_1-pi_0-ac1_0-ac2\",\"R1 Structs/lab/ 1-m_0-ts_1-lab_0-pi_0-ac1_0-ac2\",\"R1 Structs/ac2/ 1-m_0-ts_1-lab_0-pi_0-ac1_1-ac2\",\"R1 Structs/lab/ 1-m_0-ts_2-lab_0-pi_0-ac1_0-ac2\",\"R1 Structs/ac2/ 1-m_1-ts_0-lab_0-pi_0-ac1_1-ac2\",\"R1 Structs/ac1/ 1-m_1-ts_0-lab_0-pi_1-ac1_0-ac2\",\"R1 Structs/lab/ 1-m_1-ts_1-lab_0-pi_0-ac1_0-ac2\",\"R1 Structs/lab/ 1-m_2-ts_1-lab_0-pi_0-ac1_0-ac2\",\"R1 Structs/ac2/ 2-m_0-ts_0-lab_0-pi_0-ac1_1-ac2\",\"R1 Structs/ac1/ 2-m_0-ts_0-lab_0-pi_1-ac1_0-ac2\",\"R1 Structs/PI/ 2-m_0-ts_0-lab_1-pi_0-ac1_0-ac2\",\"R1 Structs/lab/ 2-m_0-ts_1-lab_0-pi_0-ac1_0-ac2\",\"R1 Structs/lab/ 2-m_0-ts_2-lab_0-pi_0-ac1_0-ac2\",\"R1 Structs/ts/ 2-m_1-ts_0-lab_0-pi_0-ac1_0-ac2\",\"R1 Structs/lab/ 2-m_1-ts_1-lab_0-pi_0-ac1_0-ac2\",\"R1 Structs/m/ 3-m_0-ts_0-lab_0-pi_0-ac1_0-ac2\",\"R1 Structs/ac2/ 3-m_0-ts_0-lab_0-pi_0-ac1_1-ac2\",\"R1 Structs/ac1/ 3-m_0-ts_0-lab_0-pi_1-ac1_0-ac2\",\"R1 Structs/lab/ 3-m_0-ts_1-lab_0-pi_0-ac1_0-ac2\",\"R1 Structs/ts/ 3-m_1-ts_0-lab_0-pi_0-ac1_0-ac2\",\"R1 Structs/lab/ 3-m_1-ts_1-lab_0-pi_0-ac1_0-ac2\",\"R1 Structs/ac1/ 4-m_0-ts_0-lab_0-pi_1-ac1_0-ac2\",\"R1 Structs/lab/ 4-m_0-ts_1-lab_0-pi_0-ac1_0-ac2\",\"R1 Structs/ts/ 4-m_1-ts_0-lab_0-pi_0-ac1_0-ac2\",\"R1 Structs/ts/ 4-m_2-ts_0-lab_0-pi_0-ac1_0-ac2\",\"R1 Structs/m/ 5-m_0-ts_0-lab_0-pi_0-ac1_0-ac2\",\"R1 Structs/lab/ 5-m_0-ts_1-lab_0-pi_0-ac1_0-ac2\",\"R1 Structs/ts/ 5-m_1-ts_0-lab_0-pi_0-ac1_0-ac2\",\"R1 Structs/lab/ 6-m_0-ts_1-lab_0-pi_0-ac1_0-ac2\",\"R1 Structs/ts/ 6-m_1-ts_0-lab_0-pi_0-ac1_0-ac2\",\"R1 Structs/PI\",\"R1 Structs/ac1\",\"R1 Structs/ac2\",\"R1 Structs/lab\",\"R1 Structs/m\",\"R1 Structs/ts\",\"R1 Structs\"],\"labels\":[\" 0-m_0-ts_2-lab_0-pi_0-ac1_0-ac2\",\" 1-m_0-ts_0-lab_0-pi_0-ac1_1-ac2\",\" 1-m_0-ts_0-lab_0-pi_1-ac1_0-ac2\",\" 1-m_0-ts_0-lab_1-pi_0-ac1_0-ac2\",\" 1-m_0-ts_1-lab_0-pi_0-ac1_0-ac2\",\" 1-m_0-ts_1-lab_0-pi_0-ac1_1-ac2\",\" 1-m_0-ts_2-lab_0-pi_0-ac1_0-ac2\",\" 1-m_1-ts_0-lab_0-pi_0-ac1_1-ac2\",\" 1-m_1-ts_0-lab_0-pi_1-ac1_0-ac2\",\" 1-m_1-ts_1-lab_0-pi_0-ac1_0-ac2\",\" 1-m_2-ts_1-lab_0-pi_0-ac1_0-ac2\",\" 2-m_0-ts_0-lab_0-pi_0-ac1_1-ac2\",\" 2-m_0-ts_0-lab_0-pi_1-ac1_0-ac2\",\" 2-m_0-ts_0-lab_1-pi_0-ac1_0-ac2\",\" 2-m_0-ts_1-lab_0-pi_0-ac1_0-ac2\",\" 2-m_0-ts_2-lab_0-pi_0-ac1_0-ac2\",\" 2-m_1-ts_0-lab_0-pi_0-ac1_0-ac2\",\" 2-m_1-ts_1-lab_0-pi_0-ac1_0-ac2\",\" 3-m_0-ts_0-lab_0-pi_0-ac1_0-ac2\",\" 3-m_0-ts_0-lab_0-pi_0-ac1_1-ac2\",\" 3-m_0-ts_0-lab_0-pi_1-ac1_0-ac2\",\" 3-m_0-ts_1-lab_0-pi_0-ac1_0-ac2\",\" 3-m_1-ts_0-lab_0-pi_0-ac1_0-ac2\",\" 3-m_1-ts_1-lab_0-pi_0-ac1_0-ac2\",\" 4-m_0-ts_0-lab_0-pi_1-ac1_0-ac2\",\" 4-m_0-ts_1-lab_0-pi_0-ac1_0-ac2\",\" 4-m_1-ts_0-lab_0-pi_0-ac1_0-ac2\",\" 4-m_2-ts_0-lab_0-pi_0-ac1_0-ac2\",\" 5-m_0-ts_0-lab_0-pi_0-ac1_0-ac2\",\" 5-m_0-ts_1-lab_0-pi_0-ac1_0-ac2\",\" 5-m_1-ts_0-lab_0-pi_0-ac1_0-ac2\",\" 6-m_0-ts_1-lab_0-pi_0-ac1_0-ac2\",\" 6-m_1-ts_0-lab_0-pi_0-ac1_0-ac2\",\"PI\",\"ac1\",\"ac2\",\"lab\",\"m\",\"ts\",\"R1 Structs\"],\"marker\":{\"coloraxis\":\"coloraxis\",\"colors\":[148.0,125.66666666666667,137.10256410256412,109.33333333333333,129.4090909090909,115.0,152.7,148.0,117.33333333333333,138.625,124.0,127.0,141.75641025641025,119.0,142.34285714285716,119.0,114.0,143.79464285714286,164.0,108.0,119.83333333333333,138.13498622589532,108.875,150.4,124.0,149.5068493150685,120.33333333333333,143.0,116.66666666666667,154.71098265895955,199.0,176.71428571428572,215.0,113.2,138.34883720930233,123.53333333333333,144.58074534161491,128.5,124.72222222222223,142.95621716287215]},\"name\":\"\",\"parents\":[\"R1 Structs/lab\",\"R1 Structs/ac2\",\"R1 Structs/ac1\",\"R1 Structs/PI\",\"R1 Structs/lab\",\"R1 Structs/ac2\",\"R1 Structs/lab\",\"R1 Structs/ac2\",\"R1 Structs/ac1\",\"R1 Structs/lab\",\"R1 Structs/lab\",\"R1 Structs/ac2\",\"R1 Structs/ac1\",\"R1 Structs/PI\",\"R1 Structs/lab\",\"R1 Structs/lab\",\"R1 Structs/ts\",\"R1 Structs/lab\",\"R1 Structs/m\",\"R1 Structs/ac2\",\"R1 Structs/ac1\",\"R1 Structs/lab\",\"R1 Structs/ts\",\"R1 Structs/lab\",\"R1 Structs/ac1\",\"R1 Structs/lab\",\"R1 Structs/ts\",\"R1 Structs/ts\",\"R1 Structs/m\",\"R1 Structs/lab\",\"R1 Structs/ts\",\"R1 Structs/lab\",\"R1 Structs/ts\",\"R1 Structs\",\"R1 Structs\",\"R1 Structs\",\"R1 Structs\",\"R1 Structs\",\"R1 Structs\",\"\"],\"values\":[74,6,78,12,44,2,60,2,6,176,2,14,156,8,350,4,8,224,2,6,12,363,16,10,6,438,6,2,6,173,2,14,2,20,258,30,1932,8,36,2284],\"type\":\"treemap\"}],                        {\"template\":{\"data\":{\"bar\":[{\"error_x\":{\"color\":\"#2a3f5f\"},\"error_y\":{\"color\":\"#2a3f5f\"},\"marker\":{\"line\":{\"color\":\"#E5ECF6\",\"width\":0.5},\"pattern\":{\"fillmode\":\"overlay\",\"size\":10,\"solidity\":0.2}},\"type\":\"bar\"}],\"barpolar\":[{\"marker\":{\"line\":{\"color\":\"#E5ECF6\",\"width\":0.5},\"pattern\":{\"fillmode\":\"overlay\",\"size\":10,\"solidity\":0.2}},\"type\":\"barpolar\"}],\"carpet\":[{\"aaxis\":{\"endlinecolor\":\"#2a3f5f\",\"gridcolor\":\"white\",\"linecolor\":\"white\",\"minorgridcolor\":\"white\",\"startlinecolor\":\"#2a3f5f\"},\"baxis\":{\"endlinecolor\":\"#2a3f5f\",\"gridcolor\":\"white\",\"linecolor\":\"white\",\"minorgridcolor\":\"white\",\"startlinecolor\":\"#2a3f5f\"},\"type\":\"carpet\"}],\"choropleth\":[{\"colorbar\":{\"outlinewidth\":0,\"ticks\":\"\"},\"type\":\"choropleth\"}],\"contour\":[{\"colorbar\":{\"outlinewidth\":0,\"ticks\":\"\"},\"colorscale\":[[0.0,\"#0d0887\"],[0.1111111111111111,\"#46039f\"],[0.2222222222222222,\"#7201a8\"],[0.3333333333333333,\"#9c179e\"],[0.4444444444444444,\"#bd3786\"],[0.5555555555555556,\"#d8576b\"],[0.6666666666666666,\"#ed7953\"],[0.7777777777777778,\"#fb9f3a\"],[0.8888888888888888,\"#fdca26\"],[1.0,\"#f0f921\"]],\"type\":\"contour\"}],\"contourcarpet\":[{\"colorbar\":{\"outlinewidth\":0,\"ticks\":\"\"},\"type\":\"contourcarpet\"}],\"heatmap\":[{\"colorbar\":{\"outlinewidth\":0,\"ticks\":\"\"},\"colorscale\":[[0.0,\"#0d0887\"],[0.1111111111111111,\"#46039f\"],[0.2222222222222222,\"#7201a8\"],[0.3333333333333333,\"#9c179e\"],[0.4444444444444444,\"#bd3786\"],[0.5555555555555556,\"#d8576b\"],[0.6666666666666666,\"#ed7953\"],[0.7777777777777778,\"#fb9f3a\"],[0.8888888888888888,\"#fdca26\"],[1.0,\"#f0f921\"]],\"type\":\"heatmap\"}],\"heatmapgl\":[{\"colorbar\":{\"outlinewidth\":0,\"ticks\":\"\"},\"colorscale\":[[0.0,\"#0d0887\"],[0.1111111111111111,\"#46039f\"],[0.2222222222222222,\"#7201a8\"],[0.3333333333333333,\"#9c179e\"],[0.4444444444444444,\"#bd3786\"],[0.5555555555555556,\"#d8576b\"],[0.6666666666666666,\"#ed7953\"],[0.7777777777777778,\"#fb9f3a\"],[0.8888888888888888,\"#fdca26\"],[1.0,\"#f0f921\"]],\"type\":\"heatmapgl\"}],\"histogram\":[{\"marker\":{\"pattern\":{\"fillmode\":\"overlay\",\"size\":10,\"solidity\":0.2}},\"type\":\"histogram\"}],\"histogram2d\":[{\"colorbar\":{\"outlinewidth\":0,\"ticks\":\"\"},\"colorscale\":[[0.0,\"#0d0887\"],[0.1111111111111111,\"#46039f\"],[0.2222222222222222,\"#7201a8\"],[0.3333333333333333,\"#9c179e\"],[0.4444444444444444,\"#bd3786\"],[0.5555555555555556,\"#d8576b\"],[0.6666666666666666,\"#ed7953\"],[0.7777777777777778,\"#fb9f3a\"],[0.8888888888888888,\"#fdca26\"],[1.0,\"#f0f921\"]],\"type\":\"histogram2d\"}],\"histogram2dcontour\":[{\"colorbar\":{\"outlinewidth\":0,\"ticks\":\"\"},\"colorscale\":[[0.0,\"#0d0887\"],[0.1111111111111111,\"#46039f\"],[0.2222222222222222,\"#7201a8\"],[0.3333333333333333,\"#9c179e\"],[0.4444444444444444,\"#bd3786\"],[0.5555555555555556,\"#d8576b\"],[0.6666666666666666,\"#ed7953\"],[0.7777777777777778,\"#fb9f3a\"],[0.8888888888888888,\"#fdca26\"],[1.0,\"#f0f921\"]],\"type\":\"histogram2dcontour\"}],\"mesh3d\":[{\"colorbar\":{\"outlinewidth\":0,\"ticks\":\"\"},\"type\":\"mesh3d\"}],\"parcoords\":[{\"line\":{\"colorbar\":{\"outlinewidth\":0,\"ticks\":\"\"}},\"type\":\"parcoords\"}],\"pie\":[{\"automargin\":true,\"type\":\"pie\"}],\"scatter\":[{\"marker\":{\"colorbar\":{\"outlinewidth\":0,\"ticks\":\"\"}},\"type\":\"scatter\"}],\"scatter3d\":[{\"line\":{\"colorbar\":{\"outlinewidth\":0,\"ticks\":\"\"}},\"marker\":{\"colorbar\":{\"outlinewidth\":0,\"ticks\":\"\"}},\"type\":\"scatter3d\"}],\"scattercarpet\":[{\"marker\":{\"colorbar\":{\"outlinewidth\":0,\"ticks\":\"\"}},\"type\":\"scattercarpet\"}],\"scattergeo\":[{\"marker\":{\"colorbar\":{\"outlinewidth\":0,\"ticks\":\"\"}},\"type\":\"scattergeo\"}],\"scattergl\":[{\"marker\":{\"colorbar\":{\"outlinewidth\":0,\"ticks\":\"\"}},\"type\":\"scattergl\"}],\"scattermapbox\":[{\"marker\":{\"colorbar\":{\"outlinewidth\":0,\"ticks\":\"\"}},\"type\":\"scattermapbox\"}],\"scatterpolar\":[{\"marker\":{\"colorbar\":{\"outlinewidth\":0,\"ticks\":\"\"}},\"type\":\"scatterpolar\"}],\"scatterpolargl\":[{\"marker\":{\"colorbar\":{\"outlinewidth\":0,\"ticks\":\"\"}},\"type\":\"scatterpolargl\"}],\"scatterternary\":[{\"marker\":{\"colorbar\":{\"outlinewidth\":0,\"ticks\":\"\"}},\"type\":\"scatterternary\"}],\"surface\":[{\"colorbar\":{\"outlinewidth\":0,\"ticks\":\"\"},\"colorscale\":[[0.0,\"#0d0887\"],[0.1111111111111111,\"#46039f\"],[0.2222222222222222,\"#7201a8\"],[0.3333333333333333,\"#9c179e\"],[0.4444444444444444,\"#bd3786\"],[0.5555555555555556,\"#d8576b\"],[0.6666666666666666,\"#ed7953\"],[0.7777777777777778,\"#fb9f3a\"],[0.8888888888888888,\"#fdca26\"],[1.0,\"#f0f921\"]],\"type\":\"surface\"}],\"table\":[{\"cells\":{\"fill\":{\"color\":\"#EBF0F8\"},\"line\":{\"color\":\"white\"}},\"header\":{\"fill\":{\"color\":\"#C8D4E3\"},\"line\":{\"color\":\"white\"}},\"type\":\"table\"}]},\"layout\":{\"annotationdefaults\":{\"arrowcolor\":\"#2a3f5f\",\"arrowhead\":0,\"arrowwidth\":1},\"autotypenumbers\":\"strict\",\"coloraxis\":{\"colorbar\":{\"outlinewidth\":0,\"ticks\":\"\"}},\"colorscale\":{\"diverging\":[[0,\"#8e0152\"],[0.1,\"#c51b7d\"],[0.2,\"#de77ae\"],[0.3,\"#f1b6da\"],[0.4,\"#fde0ef\"],[0.5,\"#f7f7f7\"],[0.6,\"#e6f5d0\"],[0.7,\"#b8e186\"],[0.8,\"#7fbc41\"],[0.9,\"#4d9221\"],[1,\"#276419\"]],\"sequential\":[[0.0,\"#0d0887\"],[0.1111111111111111,\"#46039f\"],[0.2222222222222222,\"#7201a8\"],[0.3333333333333333,\"#9c179e\"],[0.4444444444444444,\"#bd3786\"],[0.5555555555555556,\"#d8576b\"],[0.6666666666666666,\"#ed7953\"],[0.7777777777777778,\"#fb9f3a\"],[0.8888888888888888,\"#fdca26\"],[1.0,\"#f0f921\"]],\"sequentialminus\":[[0.0,\"#0d0887\"],[0.1111111111111111,\"#46039f\"],[0.2222222222222222,\"#7201a8\"],[0.3333333333333333,\"#9c179e\"],[0.4444444444444444,\"#bd3786\"],[0.5555555555555556,\"#d8576b\"],[0.6666666666666666,\"#ed7953\"],[0.7777777777777778,\"#fb9f3a\"],[0.8888888888888888,\"#fdca26\"],[1.0,\"#f0f921\"]]},\"colorway\":[\"#636efa\",\"#EF553B\",\"#00cc96\",\"#ab63fa\",\"#FFA15A\",\"#19d3f3\",\"#FF6692\",\"#B6E880\",\"#FF97FF\",\"#FECB52\"],\"font\":{\"color\":\"#2a3f5f\"},\"geo\":{\"bgcolor\":\"white\",\"lakecolor\":\"white\",\"landcolor\":\"#E5ECF6\",\"showlakes\":true,\"showland\":true,\"subunitcolor\":\"white\"},\"hoverlabel\":{\"align\":\"left\"},\"hovermode\":\"closest\",\"mapbox\":{\"style\":\"light\"},\"paper_bgcolor\":\"white\",\"plot_bgcolor\":\"#E5ECF6\",\"polar\":{\"angularaxis\":{\"gridcolor\":\"white\",\"linecolor\":\"white\",\"ticks\":\"\"},\"bgcolor\":\"#E5ECF6\",\"radialaxis\":{\"gridcolor\":\"white\",\"linecolor\":\"white\",\"ticks\":\"\"}},\"scene\":{\"xaxis\":{\"backgroundcolor\":\"#E5ECF6\",\"gridcolor\":\"white\",\"gridwidth\":2,\"linecolor\":\"white\",\"showbackground\":true,\"ticks\":\"\",\"zerolinecolor\":\"white\"},\"yaxis\":{\"backgroundcolor\":\"#E5ECF6\",\"gridcolor\":\"white\",\"gridwidth\":2,\"linecolor\":\"white\",\"showbackground\":true,\"ticks\":\"\",\"zerolinecolor\":\"white\"},\"zaxis\":{\"backgroundcolor\":\"#E5ECF6\",\"gridcolor\":\"white\",\"gridwidth\":2,\"linecolor\":\"white\",\"showbackground\":true,\"ticks\":\"\",\"zerolinecolor\":\"white\"}},\"shapedefaults\":{\"line\":{\"color\":\"#2a3f5f\"}},\"ternary\":{\"aaxis\":{\"gridcolor\":\"white\",\"linecolor\":\"white\",\"ticks\":\"\"},\"baxis\":{\"gridcolor\":\"white\",\"linecolor\":\"white\",\"ticks\":\"\"},\"bgcolor\":\"#E5ECF6\",\"caxis\":{\"gridcolor\":\"white\",\"linecolor\":\"white\",\"ticks\":\"\"}},\"title\":{\"x\":0.05},\"xaxis\":{\"automargin\":true,\"gridcolor\":\"white\",\"linecolor\":\"white\",\"ticks\":\"\",\"title\":{\"standoff\":15},\"zerolinecolor\":\"white\",\"zerolinewidth\":2},\"yaxis\":{\"automargin\":true,\"gridcolor\":\"white\",\"linecolor\":\"white\",\"ticks\":\"\",\"title\":{\"standoff\":15},\"zerolinecolor\":\"white\",\"zerolinewidth\":2}}},\"coloraxis\":{\"colorbar\":{\"title\":{\"text\":\"ave_score_bescods\"}},\"colorscale\":[[0.0,\"rgb(103,0,31)\"],[0.1,\"rgb(178,24,43)\"],[0.2,\"rgb(214,96,77)\"],[0.3,\"rgb(244,165,130)\"],[0.4,\"rgb(253,219,199)\"],[0.5,\"rgb(247,247,247)\"],[0.6,\"rgb(209,229,240)\"],[0.7,\"rgb(146,197,222)\"],[0.8,\"rgb(67,147,195)\"],[0.9,\"rgb(33,102,172)\"],[1.0,\"rgb(5,48,97)\"]],\"cmid\":144.39872372553106},\"legend\":{\"tracegroupgap\":0},\"margin\":{\"t\":50,\"l\":25,\"r\":25,\"b\":25},\"title\":{\"text\":\"R1 Structures: Frequency and Impact on Score Relative to All Factions Average (144.4): bescods\"}},                        {\"responsive\": true}                    ).then(function(){\n",
       "                            \n",
       "var gd = document.getElementById('e8695487-01b0-4957-a671-7a0f794cf1f4');\n",
       "var x = new MutationObserver(function (mutations, observer) {{\n",
       "        var display = window.getComputedStyle(gd).display;\n",
       "        if (!display || display === 'none') {{\n",
       "            console.log([gd, 'removed!']);\n",
       "            Plotly.purge(gd);\n",
       "            observer.disconnect();\n",
       "        }}\n",
       "}});\n",
       "\n",
       "// Listen for the removal of the full notebook cells\n",
       "var notebookContainer = gd.closest('#notebook-container');\n",
       "if (notebookContainer) {{\n",
       "    x.observe(notebookContainer, {childList: true});\n",
       "}}\n",
       "\n",
       "// Listen for the clearing of the current output cell\n",
       "var outputEl = gd.closest('.output');\n",
       "if (outputEl) {{\n",
       "    x.observe(outputEl, {childList: true});\n",
       "}}\n",
       "\n",
       "                        })                };                });            </script>        </div>"
      ]
     },
     "metadata": {},
     "output_type": "display_data"
    },
    {
     "data": {
      "application/vnd.plotly.v1+json": {
       "config": {
        "plotlyServerURL": "https://plot.ly"
       },
       "data": [
        {
         "branchvalues": "total",
         "customdata": [
          [
           226.8,
           142
          ],
          [
           242,
           169
          ],
          [
           113,
           131.66666666666666
          ],
          [
           85.5,
           114
          ],
          [
           209.6,
           146.2
          ],
          [
           150.33333333333334,
           175
          ],
          [
           228.12389380530973,
           159.28318584070797
          ],
          [
           135.33333333333334,
           141.66666666666666
          ],
          [
           153.4,
           138
          ],
          [
           304.7105263157895,
           166.6315789473684
          ],
          [
           100,
           129
          ],
          [
           257.4117647058824,
           169.23529411764707
          ],
          [
           110.27272727272727,
           108.18181818181819
          ],
          [
           197.75,
           128.625
          ],
          [
           246,
           193
          ],
          [
           189.45454545454547,
           165
          ],
          [
           252.3,
           150.7
          ],
          [
           256.5345971563981,
           164.67962085308056
          ],
          [
           169.54545454545453,
           137.05454545454546
          ],
          [
           125.66666666666667,
           153.5
          ],
          [
           298.0151515151515,
           167.6060606060606
          ],
          [
           245,
           197
          ],
          [
           297.5135135135135,
           179.21621621621622
          ],
          [
           112,
           156.42857142857142
          ],
          [
           204.98882681564245,
           154.1340782122905
          ],
          [
           256.5,
           171.625
          ],
          [
           141.6,
           163
          ],
          [
           261.7758620689655,
           172.86206896551724
          ],
          [
           90.6875,
           112.625
          ],
          [
           168.46511627906978,
           138.03488372093022
          ],
          [
           267,
           180.6153846153846
          ],
          [
           200.66666666666666,
           160.41666666666666
          ],
          [
           164,
           115
          ],
          [
           104.5,
           108.5
          ],
          [
           169.5,
           164.5
          ],
          [
           248.19444444444446,
           170.16666666666666
          ],
          [
           158,
           141.5
          ],
          [
           216.0962962962963,
           151.56296296296296
          ],
          [
           367.5,
           197.5
          ],
          [
           272.53333333333336,
           170.13333333333333
          ],
          [
           61.5,
           125
          ],
          [
           314,
           190.8
          ],
          [
           234.09473684210528,
           168.50526315789475
          ],
          [
           161,
           178
          ],
          [
           264.35,
           182.75
          ],
          [
           1,
           161
          ],
          [
           317.5,
           191.5
          ],
          [
           "(?)",
           128.67307692307693
          ],
          [
           "(?)",
           165.77392344497608
          ],
          [
           "(?)",
           160.82608695652175
          ],
          [
           "(?)",
           155.00948766603415
          ],
          [
           "(?)",
           125.6
          ],
          [
           "(?)",
           146.5
          ],
          [
           "(?)",
           159.45741878841088
          ]
         ],
         "domain": {
          "x": [
           0,
           1
          ],
          "y": [
           0,
           1
          ]
         },
         "hovertemplate": "labels=%{label}<br>class_counts=%{value}<br>parent=%{parent}<br>id=%{id}<br>ave_elo_taklons=%{customdata[0]}<br>ave_score_taklons=%{color}<extra></extra>",
         "ids": [
          "R1 Structs/PI/ 0-m_0-ts_1-lab_1-pi_0-ac1_0-ac2",
          "R1 Structs/lab/ 0-m_0-ts_2-lab_0-pi_0-ac1_0-ac2",
          "R1 Structs/ac1/ 0-m_1-ts_0-lab_0-pi_1-ac1_0-ac2",
          "R1 Structs/lab/ 0-m_1-ts_1-lab_0-pi_0-ac1_0-ac2",
          "R1 Structs/lab/ 0-m_2-ts_1-lab_0-pi_0-ac1_0-ac2",
          "R1 Structs/ac2/ 1-m_0-ts_0-lab_0-pi_0-ac1_1-ac2",
          "R1 Structs/ac1/ 1-m_0-ts_0-lab_0-pi_1-ac1_0-ac2",
          "R1 Structs/lab/ 1-m_0-ts_1-lab_0-pi_0-ac1_0-ac2",
          "R1 Structs/PI/ 1-m_0-ts_1-lab_1-pi_0-ac1_0-ac2",
          "R1 Structs/lab/ 1-m_0-ts_2-lab_0-pi_0-ac1_0-ac2",
          "R1 Structs/ac2/ 1-m_1-ts_0-lab_0-pi_0-ac1_1-ac2",
          "R1 Structs/ac1/ 1-m_1-ts_0-lab_0-pi_1-ac1_0-ac2",
          "R1 Structs/PI/ 1-m_1-ts_0-lab_1-pi_0-ac1_0-ac2",
          "R1 Structs/lab/ 1-m_1-ts_1-lab_0-pi_0-ac1_0-ac2",
          "R1 Structs/lab/ 1-m_1-ts_2-lab_0-pi_0-ac1_0-ac2",
          "R1 Structs/lab/ 1-m_2-ts_1-lab_0-pi_0-ac1_0-ac2",
          "R1 Structs/ac2/ 2-m_0-ts_0-lab_0-pi_0-ac1_1-ac2",
          "R1 Structs/ac1/ 2-m_0-ts_0-lab_0-pi_1-ac1_0-ac2",
          "R1 Structs/lab/ 2-m_0-ts_1-lab_0-pi_0-ac1_0-ac2",
          "R1 Structs/PI/ 2-m_0-ts_1-lab_1-pi_0-ac1_0-ac2",
          "R1 Structs/lab/ 2-m_0-ts_2-lab_0-pi_0-ac1_0-ac2",
          "R1 Structs/ac2/ 2-m_1-ts_0-lab_0-pi_0-ac1_1-ac2",
          "R1 Structs/ac1/ 2-m_1-ts_0-lab_0-pi_1-ac1_0-ac2",
          "R1 Structs/PI/ 2-m_1-ts_0-lab_1-pi_0-ac1_0-ac2",
          "R1 Structs/lab/ 2-m_1-ts_1-lab_0-pi_0-ac1_0-ac2",
          "R1 Structs/lab/ 2-m_2-ts_1-lab_0-pi_0-ac1_0-ac2",
          "R1 Structs/ac2/ 3-m_0-ts_0-lab_0-pi_0-ac1_1-ac2",
          "R1 Structs/ac1/ 3-m_0-ts_0-lab_0-pi_1-ac1_0-ac2",
          "R1 Structs/PI/ 3-m_0-ts_0-lab_1-pi_0-ac1_0-ac2",
          "R1 Structs/lab/ 3-m_0-ts_1-lab_0-pi_0-ac1_0-ac2",
          "R1 Structs/lab/ 3-m_0-ts_2-lab_0-pi_0-ac1_0-ac2",
          "R1 Structs/lab/ 3-m_1-ts_1-lab_0-pi_0-ac1_0-ac2",
          "R1 Structs/ts/ 3-m_2-ts_0-lab_0-pi_0-ac1_0-ac2",
          "R1 Structs/m/ 4-m_0-ts_0-lab_0-pi_0-ac1_0-ac2",
          "R1 Structs/ac2/ 4-m_0-ts_0-lab_0-pi_0-ac1_1-ac2",
          "R1 Structs/ac1/ 4-m_0-ts_0-lab_0-pi_1-ac1_0-ac2",
          "R1 Structs/PI/ 4-m_0-ts_0-lab_1-pi_0-ac1_0-ac2",
          "R1 Structs/lab/ 4-m_0-ts_1-lab_0-pi_0-ac1_0-ac2",
          "R1 Structs/lab/ 4-m_0-ts_2-lab_0-pi_0-ac1_0-ac2",
          "R1 Structs/lab/ 4-m_1-ts_1-lab_0-pi_0-ac1_0-ac2",
          "R1 Structs/m/ 5-m_0-ts_0-lab_0-pi_0-ac1_0-ac2",
          "R1 Structs/ac1/ 5-m_0-ts_0-lab_0-pi_1-ac1_0-ac2",
          "R1 Structs/lab/ 5-m_0-ts_1-lab_0-pi_0-ac1_0-ac2",
          "R1 Structs/ts/ 5-m_1-ts_0-lab_0-pi_0-ac1_0-ac2",
          "R1 Structs/lab/ 6-m_0-ts_1-lab_0-pi_0-ac1_0-ac2",
          "R1 Structs/m/ 7-m_0-ts_0-lab_0-pi_0-ac1_0-ac2",
          "R1 Structs/lab/ 7-m_0-ts_1-lab_0-pi_0-ac1_0-ac2",
          "R1 Structs/PI",
          "R1 Structs/ac1",
          "R1 Structs/ac2",
          "R1 Structs/lab",
          "R1 Structs/m",
          "R1 Structs/ts",
          "R1 Structs"
         ],
         "labels": [
          " 0-m_0-ts_1-lab_1-pi_0-ac1_0-ac2",
          " 0-m_0-ts_2-lab_0-pi_0-ac1_0-ac2",
          " 0-m_1-ts_0-lab_0-pi_1-ac1_0-ac2",
          " 0-m_1-ts_1-lab_0-pi_0-ac1_0-ac2",
          " 0-m_2-ts_1-lab_0-pi_0-ac1_0-ac2",
          " 1-m_0-ts_0-lab_0-pi_0-ac1_1-ac2",
          " 1-m_0-ts_0-lab_0-pi_1-ac1_0-ac2",
          " 1-m_0-ts_1-lab_0-pi_0-ac1_0-ac2",
          " 1-m_0-ts_1-lab_1-pi_0-ac1_0-ac2",
          " 1-m_0-ts_2-lab_0-pi_0-ac1_0-ac2",
          " 1-m_1-ts_0-lab_0-pi_0-ac1_1-ac2",
          " 1-m_1-ts_0-lab_0-pi_1-ac1_0-ac2",
          " 1-m_1-ts_0-lab_1-pi_0-ac1_0-ac2",
          " 1-m_1-ts_1-lab_0-pi_0-ac1_0-ac2",
          " 1-m_1-ts_2-lab_0-pi_0-ac1_0-ac2",
          " 1-m_2-ts_1-lab_0-pi_0-ac1_0-ac2",
          " 2-m_0-ts_0-lab_0-pi_0-ac1_1-ac2",
          " 2-m_0-ts_0-lab_0-pi_1-ac1_0-ac2",
          " 2-m_0-ts_1-lab_0-pi_0-ac1_0-ac2",
          " 2-m_0-ts_1-lab_1-pi_0-ac1_0-ac2",
          " 2-m_0-ts_2-lab_0-pi_0-ac1_0-ac2",
          " 2-m_1-ts_0-lab_0-pi_0-ac1_1-ac2",
          " 2-m_1-ts_0-lab_0-pi_1-ac1_0-ac2",
          " 2-m_1-ts_0-lab_1-pi_0-ac1_0-ac2",
          " 2-m_1-ts_1-lab_0-pi_0-ac1_0-ac2",
          " 2-m_2-ts_1-lab_0-pi_0-ac1_0-ac2",
          " 3-m_0-ts_0-lab_0-pi_0-ac1_1-ac2",
          " 3-m_0-ts_0-lab_0-pi_1-ac1_0-ac2",
          " 3-m_0-ts_0-lab_1-pi_0-ac1_0-ac2",
          " 3-m_0-ts_1-lab_0-pi_0-ac1_0-ac2",
          " 3-m_0-ts_2-lab_0-pi_0-ac1_0-ac2",
          " 3-m_1-ts_1-lab_0-pi_0-ac1_0-ac2",
          " 3-m_2-ts_0-lab_0-pi_0-ac1_0-ac2",
          " 4-m_0-ts_0-lab_0-pi_0-ac1_0-ac2",
          " 4-m_0-ts_0-lab_0-pi_0-ac1_1-ac2",
          " 4-m_0-ts_0-lab_0-pi_1-ac1_0-ac2",
          " 4-m_0-ts_0-lab_1-pi_0-ac1_0-ac2",
          " 4-m_0-ts_1-lab_0-pi_0-ac1_0-ac2",
          " 4-m_0-ts_2-lab_0-pi_0-ac1_0-ac2",
          " 4-m_1-ts_1-lab_0-pi_0-ac1_0-ac2",
          " 5-m_0-ts_0-lab_0-pi_0-ac1_0-ac2",
          " 5-m_0-ts_0-lab_0-pi_1-ac1_0-ac2",
          " 5-m_0-ts_1-lab_0-pi_0-ac1_0-ac2",
          " 5-m_1-ts_0-lab_0-pi_0-ac1_0-ac2",
          " 6-m_0-ts_1-lab_0-pi_0-ac1_0-ac2",
          " 7-m_0-ts_0-lab_0-pi_0-ac1_0-ac2",
          " 7-m_0-ts_1-lab_0-pi_0-ac1_0-ac2",
          "PI",
          "ac1",
          "ac2",
          "lab",
          "m",
          "ts",
          "R1 Structs"
         ],
         "marker": {
          "coloraxis": "coloraxis",
          "colors": [
           142,
           169,
           131.66666666666666,
           114,
           146.2,
           175,
           159.28318584070797,
           141.66666666666666,
           138,
           166.6315789473684,
           129,
           169.23529411764707,
           108.18181818181819,
           128.625,
           193,
           165,
           150.7,
           164.67962085308056,
           137.05454545454546,
           153.5,
           167.6060606060606,
           197,
           179.21621621621622,
           156.42857142857142,
           154.1340782122905,
           171.625,
           163,
           172.86206896551724,
           112.625,
           138.03488372093022,
           180.6153846153846,
           160.41666666666666,
           115,
           108.5,
           164.5,
           170.16666666666666,
           141.5,
           151.56296296296296,
           197.5,
           170.13333333333333,
           125,
           190.8,
           168.50526315789475,
           178,
           182.75,
           161,
           191.5,
           128.67307692307693,
           165.77392344497608,
           160.82608695652175,
           155.00948766603415,
           125.6,
           146.5,
           159.45741878841088
          ]
         },
         "name": "",
         "parents": [
          "R1 Structs/PI",
          "R1 Structs/lab",
          "R1 Structs/ac1",
          "R1 Structs/lab",
          "R1 Structs/lab",
          "R1 Structs/ac2",
          "R1 Structs/ac1",
          "R1 Structs/lab",
          "R1 Structs/PI",
          "R1 Structs/lab",
          "R1 Structs/ac2",
          "R1 Structs/ac1",
          "R1 Structs/PI",
          "R1 Structs/lab",
          "R1 Structs/lab",
          "R1 Structs/lab",
          "R1 Structs/ac2",
          "R1 Structs/ac1",
          "R1 Structs/lab",
          "R1 Structs/PI",
          "R1 Structs/lab",
          "R1 Structs/ac2",
          "R1 Structs/ac1",
          "R1 Structs/PI",
          "R1 Structs/lab",
          "R1 Structs/lab",
          "R1 Structs/ac2",
          "R1 Structs/ac1",
          "R1 Structs/PI",
          "R1 Structs/lab",
          "R1 Structs/lab",
          "R1 Structs/lab",
          "R1 Structs/ts",
          "R1 Structs/m",
          "R1 Structs/ac2",
          "R1 Structs/ac1",
          "R1 Structs/PI",
          "R1 Structs/lab",
          "R1 Structs/lab",
          "R1 Structs/lab",
          "R1 Structs/m",
          "R1 Structs/ac1",
          "R1 Structs/lab",
          "R1 Structs/ts",
          "R1 Structs/lab",
          "R1 Structs/m",
          "R1 Structs/lab",
          "R1 Structs",
          "R1 Structs",
          "R1 Structs",
          "R1 Structs",
          "R1 Structs",
          "R1 Structs",
          ""
         ],
         "type": "treemap",
         "values": [
          10,
          2,
          6,
          8,
          10,
          6,
          226,
          6,
          10,
          76,
          2,
          34,
          22,
          64,
          6,
          22,
          20,
          1055,
          110,
          12,
          132,
          4,
          37,
          14,
          358,
          16,
          10,
          232,
          32,
          172,
          13,
          48,
          2,
          4,
          4,
          72,
          4,
          270,
          4,
          30,
          4,
          10,
          190,
          2,
          40,
          2,
          4,
          104,
          1672,
          46,
          1581,
          10,
          4,
          3417
         ]
        }
       ],
       "layout": {
        "coloraxis": {
         "cmid": 144.39872372553106,
         "colorbar": {
          "title": {
           "text": "ave_score_taklons"
          }
         },
         "colorscale": [
          [
           0,
           "rgb(103,0,31)"
          ],
          [
           0.1,
           "rgb(178,24,43)"
          ],
          [
           0.2,
           "rgb(214,96,77)"
          ],
          [
           0.3,
           "rgb(244,165,130)"
          ],
          [
           0.4,
           "rgb(253,219,199)"
          ],
          [
           0.5,
           "rgb(247,247,247)"
          ],
          [
           0.6,
           "rgb(209,229,240)"
          ],
          [
           0.7,
           "rgb(146,197,222)"
          ],
          [
           0.8,
           "rgb(67,147,195)"
          ],
          [
           0.9,
           "rgb(33,102,172)"
          ],
          [
           1,
           "rgb(5,48,97)"
          ]
         ]
        },
        "legend": {
         "tracegroupgap": 0
        },
        "margin": {
         "b": 25,
         "l": 25,
         "r": 25,
         "t": 50
        },
        "template": {
         "data": {
          "bar": [
           {
            "error_x": {
             "color": "#2a3f5f"
            },
            "error_y": {
             "color": "#2a3f5f"
            },
            "marker": {
             "line": {
              "color": "#E5ECF6",
              "width": 0.5
             },
             "pattern": {
              "fillmode": "overlay",
              "size": 10,
              "solidity": 0.2
             }
            },
            "type": "bar"
           }
          ],
          "barpolar": [
           {
            "marker": {
             "line": {
              "color": "#E5ECF6",
              "width": 0.5
             },
             "pattern": {
              "fillmode": "overlay",
              "size": 10,
              "solidity": 0.2
             }
            },
            "type": "barpolar"
           }
          ],
          "carpet": [
           {
            "aaxis": {
             "endlinecolor": "#2a3f5f",
             "gridcolor": "white",
             "linecolor": "white",
             "minorgridcolor": "white",
             "startlinecolor": "#2a3f5f"
            },
            "baxis": {
             "endlinecolor": "#2a3f5f",
             "gridcolor": "white",
             "linecolor": "white",
             "minorgridcolor": "white",
             "startlinecolor": "#2a3f5f"
            },
            "type": "carpet"
           }
          ],
          "choropleth": [
           {
            "colorbar": {
             "outlinewidth": 0,
             "ticks": ""
            },
            "type": "choropleth"
           }
          ],
          "contour": [
           {
            "colorbar": {
             "outlinewidth": 0,
             "ticks": ""
            },
            "colorscale": [
             [
              0,
              "#0d0887"
             ],
             [
              0.1111111111111111,
              "#46039f"
             ],
             [
              0.2222222222222222,
              "#7201a8"
             ],
             [
              0.3333333333333333,
              "#9c179e"
             ],
             [
              0.4444444444444444,
              "#bd3786"
             ],
             [
              0.5555555555555556,
              "#d8576b"
             ],
             [
              0.6666666666666666,
              "#ed7953"
             ],
             [
              0.7777777777777778,
              "#fb9f3a"
             ],
             [
              0.8888888888888888,
              "#fdca26"
             ],
             [
              1,
              "#f0f921"
             ]
            ],
            "type": "contour"
           }
          ],
          "contourcarpet": [
           {
            "colorbar": {
             "outlinewidth": 0,
             "ticks": ""
            },
            "type": "contourcarpet"
           }
          ],
          "heatmap": [
           {
            "colorbar": {
             "outlinewidth": 0,
             "ticks": ""
            },
            "colorscale": [
             [
              0,
              "#0d0887"
             ],
             [
              0.1111111111111111,
              "#46039f"
             ],
             [
              0.2222222222222222,
              "#7201a8"
             ],
             [
              0.3333333333333333,
              "#9c179e"
             ],
             [
              0.4444444444444444,
              "#bd3786"
             ],
             [
              0.5555555555555556,
              "#d8576b"
             ],
             [
              0.6666666666666666,
              "#ed7953"
             ],
             [
              0.7777777777777778,
              "#fb9f3a"
             ],
             [
              0.8888888888888888,
              "#fdca26"
             ],
             [
              1,
              "#f0f921"
             ]
            ],
            "type": "heatmap"
           }
          ],
          "heatmapgl": [
           {
            "colorbar": {
             "outlinewidth": 0,
             "ticks": ""
            },
            "colorscale": [
             [
              0,
              "#0d0887"
             ],
             [
              0.1111111111111111,
              "#46039f"
             ],
             [
              0.2222222222222222,
              "#7201a8"
             ],
             [
              0.3333333333333333,
              "#9c179e"
             ],
             [
              0.4444444444444444,
              "#bd3786"
             ],
             [
              0.5555555555555556,
              "#d8576b"
             ],
             [
              0.6666666666666666,
              "#ed7953"
             ],
             [
              0.7777777777777778,
              "#fb9f3a"
             ],
             [
              0.8888888888888888,
              "#fdca26"
             ],
             [
              1,
              "#f0f921"
             ]
            ],
            "type": "heatmapgl"
           }
          ],
          "histogram": [
           {
            "marker": {
             "pattern": {
              "fillmode": "overlay",
              "size": 10,
              "solidity": 0.2
             }
            },
            "type": "histogram"
           }
          ],
          "histogram2d": [
           {
            "colorbar": {
             "outlinewidth": 0,
             "ticks": ""
            },
            "colorscale": [
             [
              0,
              "#0d0887"
             ],
             [
              0.1111111111111111,
              "#46039f"
             ],
             [
              0.2222222222222222,
              "#7201a8"
             ],
             [
              0.3333333333333333,
              "#9c179e"
             ],
             [
              0.4444444444444444,
              "#bd3786"
             ],
             [
              0.5555555555555556,
              "#d8576b"
             ],
             [
              0.6666666666666666,
              "#ed7953"
             ],
             [
              0.7777777777777778,
              "#fb9f3a"
             ],
             [
              0.8888888888888888,
              "#fdca26"
             ],
             [
              1,
              "#f0f921"
             ]
            ],
            "type": "histogram2d"
           }
          ],
          "histogram2dcontour": [
           {
            "colorbar": {
             "outlinewidth": 0,
             "ticks": ""
            },
            "colorscale": [
             [
              0,
              "#0d0887"
             ],
             [
              0.1111111111111111,
              "#46039f"
             ],
             [
              0.2222222222222222,
              "#7201a8"
             ],
             [
              0.3333333333333333,
              "#9c179e"
             ],
             [
              0.4444444444444444,
              "#bd3786"
             ],
             [
              0.5555555555555556,
              "#d8576b"
             ],
             [
              0.6666666666666666,
              "#ed7953"
             ],
             [
              0.7777777777777778,
              "#fb9f3a"
             ],
             [
              0.8888888888888888,
              "#fdca26"
             ],
             [
              1,
              "#f0f921"
             ]
            ],
            "type": "histogram2dcontour"
           }
          ],
          "mesh3d": [
           {
            "colorbar": {
             "outlinewidth": 0,
             "ticks": ""
            },
            "type": "mesh3d"
           }
          ],
          "parcoords": [
           {
            "line": {
             "colorbar": {
              "outlinewidth": 0,
              "ticks": ""
             }
            },
            "type": "parcoords"
           }
          ],
          "pie": [
           {
            "automargin": true,
            "type": "pie"
           }
          ],
          "scatter": [
           {
            "marker": {
             "colorbar": {
              "outlinewidth": 0,
              "ticks": ""
             }
            },
            "type": "scatter"
           }
          ],
          "scatter3d": [
           {
            "line": {
             "colorbar": {
              "outlinewidth": 0,
              "ticks": ""
             }
            },
            "marker": {
             "colorbar": {
              "outlinewidth": 0,
              "ticks": ""
             }
            },
            "type": "scatter3d"
           }
          ],
          "scattercarpet": [
           {
            "marker": {
             "colorbar": {
              "outlinewidth": 0,
              "ticks": ""
             }
            },
            "type": "scattercarpet"
           }
          ],
          "scattergeo": [
           {
            "marker": {
             "colorbar": {
              "outlinewidth": 0,
              "ticks": ""
             }
            },
            "type": "scattergeo"
           }
          ],
          "scattergl": [
           {
            "marker": {
             "colorbar": {
              "outlinewidth": 0,
              "ticks": ""
             }
            },
            "type": "scattergl"
           }
          ],
          "scattermapbox": [
           {
            "marker": {
             "colorbar": {
              "outlinewidth": 0,
              "ticks": ""
             }
            },
            "type": "scattermapbox"
           }
          ],
          "scatterpolar": [
           {
            "marker": {
             "colorbar": {
              "outlinewidth": 0,
              "ticks": ""
             }
            },
            "type": "scatterpolar"
           }
          ],
          "scatterpolargl": [
           {
            "marker": {
             "colorbar": {
              "outlinewidth": 0,
              "ticks": ""
             }
            },
            "type": "scatterpolargl"
           }
          ],
          "scatterternary": [
           {
            "marker": {
             "colorbar": {
              "outlinewidth": 0,
              "ticks": ""
             }
            },
            "type": "scatterternary"
           }
          ],
          "surface": [
           {
            "colorbar": {
             "outlinewidth": 0,
             "ticks": ""
            },
            "colorscale": [
             [
              0,
              "#0d0887"
             ],
             [
              0.1111111111111111,
              "#46039f"
             ],
             [
              0.2222222222222222,
              "#7201a8"
             ],
             [
              0.3333333333333333,
              "#9c179e"
             ],
             [
              0.4444444444444444,
              "#bd3786"
             ],
             [
              0.5555555555555556,
              "#d8576b"
             ],
             [
              0.6666666666666666,
              "#ed7953"
             ],
             [
              0.7777777777777778,
              "#fb9f3a"
             ],
             [
              0.8888888888888888,
              "#fdca26"
             ],
             [
              1,
              "#f0f921"
             ]
            ],
            "type": "surface"
           }
          ],
          "table": [
           {
            "cells": {
             "fill": {
              "color": "#EBF0F8"
             },
             "line": {
              "color": "white"
             }
            },
            "header": {
             "fill": {
              "color": "#C8D4E3"
             },
             "line": {
              "color": "white"
             }
            },
            "type": "table"
           }
          ]
         },
         "layout": {
          "annotationdefaults": {
           "arrowcolor": "#2a3f5f",
           "arrowhead": 0,
           "arrowwidth": 1
          },
          "autotypenumbers": "strict",
          "coloraxis": {
           "colorbar": {
            "outlinewidth": 0,
            "ticks": ""
           }
          },
          "colorscale": {
           "diverging": [
            [
             0,
             "#8e0152"
            ],
            [
             0.1,
             "#c51b7d"
            ],
            [
             0.2,
             "#de77ae"
            ],
            [
             0.3,
             "#f1b6da"
            ],
            [
             0.4,
             "#fde0ef"
            ],
            [
             0.5,
             "#f7f7f7"
            ],
            [
             0.6,
             "#e6f5d0"
            ],
            [
             0.7,
             "#b8e186"
            ],
            [
             0.8,
             "#7fbc41"
            ],
            [
             0.9,
             "#4d9221"
            ],
            [
             1,
             "#276419"
            ]
           ],
           "sequential": [
            [
             0,
             "#0d0887"
            ],
            [
             0.1111111111111111,
             "#46039f"
            ],
            [
             0.2222222222222222,
             "#7201a8"
            ],
            [
             0.3333333333333333,
             "#9c179e"
            ],
            [
             0.4444444444444444,
             "#bd3786"
            ],
            [
             0.5555555555555556,
             "#d8576b"
            ],
            [
             0.6666666666666666,
             "#ed7953"
            ],
            [
             0.7777777777777778,
             "#fb9f3a"
            ],
            [
             0.8888888888888888,
             "#fdca26"
            ],
            [
             1,
             "#f0f921"
            ]
           ],
           "sequentialminus": [
            [
             0,
             "#0d0887"
            ],
            [
             0.1111111111111111,
             "#46039f"
            ],
            [
             0.2222222222222222,
             "#7201a8"
            ],
            [
             0.3333333333333333,
             "#9c179e"
            ],
            [
             0.4444444444444444,
             "#bd3786"
            ],
            [
             0.5555555555555556,
             "#d8576b"
            ],
            [
             0.6666666666666666,
             "#ed7953"
            ],
            [
             0.7777777777777778,
             "#fb9f3a"
            ],
            [
             0.8888888888888888,
             "#fdca26"
            ],
            [
             1,
             "#f0f921"
            ]
           ]
          },
          "colorway": [
           "#636efa",
           "#EF553B",
           "#00cc96",
           "#ab63fa",
           "#FFA15A",
           "#19d3f3",
           "#FF6692",
           "#B6E880",
           "#FF97FF",
           "#FECB52"
          ],
          "font": {
           "color": "#2a3f5f"
          },
          "geo": {
           "bgcolor": "white",
           "lakecolor": "white",
           "landcolor": "#E5ECF6",
           "showlakes": true,
           "showland": true,
           "subunitcolor": "white"
          },
          "hoverlabel": {
           "align": "left"
          },
          "hovermode": "closest",
          "mapbox": {
           "style": "light"
          },
          "paper_bgcolor": "white",
          "plot_bgcolor": "#E5ECF6",
          "polar": {
           "angularaxis": {
            "gridcolor": "white",
            "linecolor": "white",
            "ticks": ""
           },
           "bgcolor": "#E5ECF6",
           "radialaxis": {
            "gridcolor": "white",
            "linecolor": "white",
            "ticks": ""
           }
          },
          "scene": {
           "xaxis": {
            "backgroundcolor": "#E5ECF6",
            "gridcolor": "white",
            "gridwidth": 2,
            "linecolor": "white",
            "showbackground": true,
            "ticks": "",
            "zerolinecolor": "white"
           },
           "yaxis": {
            "backgroundcolor": "#E5ECF6",
            "gridcolor": "white",
            "gridwidth": 2,
            "linecolor": "white",
            "showbackground": true,
            "ticks": "",
            "zerolinecolor": "white"
           },
           "zaxis": {
            "backgroundcolor": "#E5ECF6",
            "gridcolor": "white",
            "gridwidth": 2,
            "linecolor": "white",
            "showbackground": true,
            "ticks": "",
            "zerolinecolor": "white"
           }
          },
          "shapedefaults": {
           "line": {
            "color": "#2a3f5f"
           }
          },
          "ternary": {
           "aaxis": {
            "gridcolor": "white",
            "linecolor": "white",
            "ticks": ""
           },
           "baxis": {
            "gridcolor": "white",
            "linecolor": "white",
            "ticks": ""
           },
           "bgcolor": "#E5ECF6",
           "caxis": {
            "gridcolor": "white",
            "linecolor": "white",
            "ticks": ""
           }
          },
          "title": {
           "x": 0.05
          },
          "xaxis": {
           "automargin": true,
           "gridcolor": "white",
           "linecolor": "white",
           "ticks": "",
           "title": {
            "standoff": 15
           },
           "zerolinecolor": "white",
           "zerolinewidth": 2
          },
          "yaxis": {
           "automargin": true,
           "gridcolor": "white",
           "linecolor": "white",
           "ticks": "",
           "title": {
            "standoff": 15
           },
           "zerolinecolor": "white",
           "zerolinewidth": 2
          }
         }
        },
        "title": {
         "text": "R1 Structures: Frequency and Impact on Score Relative to All Factions Average (144.4): taklons"
        }
       }
      },
      "text/html": [
       "<div>                            <div id=\"59013d80-662b-48d9-b49e-905ac22037e7\" class=\"plotly-graph-div\" style=\"height:525px; width:100%;\"></div>            <script type=\"text/javascript\">                require([\"plotly\"], function(Plotly) {                    window.PLOTLYENV=window.PLOTLYENV || {};                                    if (document.getElementById(\"59013d80-662b-48d9-b49e-905ac22037e7\")) {                    Plotly.newPlot(                        \"59013d80-662b-48d9-b49e-905ac22037e7\",                        [{\"branchvalues\":\"total\",\"customdata\":[[226.8,142.0],[242.0,169.0],[113.0,131.66666666666666],[85.5,114.0],[209.6,146.2],[150.33333333333334,175.0],[228.12389380530973,159.28318584070797],[135.33333333333334,141.66666666666666],[153.4,138.0],[304.7105263157895,166.6315789473684],[100.0,129.0],[257.4117647058824,169.23529411764707],[110.27272727272727,108.18181818181819],[197.75,128.625],[246.0,193.0],[189.45454545454547,165.0],[252.3,150.7],[256.5345971563981,164.67962085308056],[169.54545454545453,137.05454545454546],[125.66666666666667,153.5],[298.0151515151515,167.6060606060606],[245.0,197.0],[297.5135135135135,179.21621621621622],[112.0,156.42857142857142],[204.98882681564245,154.1340782122905],[256.5,171.625],[141.6,163.0],[261.7758620689655,172.86206896551724],[90.6875,112.625],[168.46511627906978,138.03488372093022],[267.0,180.6153846153846],[200.66666666666666,160.41666666666666],[164.0,115.0],[104.5,108.5],[169.5,164.5],[248.19444444444446,170.16666666666666],[158.0,141.5],[216.0962962962963,151.56296296296296],[367.5,197.5],[272.53333333333336,170.13333333333333],[61.5,125.0],[314.0,190.8],[234.09473684210528,168.50526315789475],[161.0,178.0],[264.35,182.75],[1.0,161.0],[317.5,191.5],[\"(?)\",128.67307692307693],[\"(?)\",165.77392344497608],[\"(?)\",160.82608695652175],[\"(?)\",155.00948766603415],[\"(?)\",125.6],[\"(?)\",146.5],[\"(?)\",159.45741878841088]],\"domain\":{\"x\":[0.0,1.0],\"y\":[0.0,1.0]},\"hovertemplate\":\"labels=%{label}<br>class_counts=%{value}<br>parent=%{parent}<br>id=%{id}<br>ave_elo_taklons=%{customdata[0]}<br>ave_score_taklons=%{color}<extra></extra>\",\"ids\":[\"R1 Structs/PI/ 0-m_0-ts_1-lab_1-pi_0-ac1_0-ac2\",\"R1 Structs/lab/ 0-m_0-ts_2-lab_0-pi_0-ac1_0-ac2\",\"R1 Structs/ac1/ 0-m_1-ts_0-lab_0-pi_1-ac1_0-ac2\",\"R1 Structs/lab/ 0-m_1-ts_1-lab_0-pi_0-ac1_0-ac2\",\"R1 Structs/lab/ 0-m_2-ts_1-lab_0-pi_0-ac1_0-ac2\",\"R1 Structs/ac2/ 1-m_0-ts_0-lab_0-pi_0-ac1_1-ac2\",\"R1 Structs/ac1/ 1-m_0-ts_0-lab_0-pi_1-ac1_0-ac2\",\"R1 Structs/lab/ 1-m_0-ts_1-lab_0-pi_0-ac1_0-ac2\",\"R1 Structs/PI/ 1-m_0-ts_1-lab_1-pi_0-ac1_0-ac2\",\"R1 Structs/lab/ 1-m_0-ts_2-lab_0-pi_0-ac1_0-ac2\",\"R1 Structs/ac2/ 1-m_1-ts_0-lab_0-pi_0-ac1_1-ac2\",\"R1 Structs/ac1/ 1-m_1-ts_0-lab_0-pi_1-ac1_0-ac2\",\"R1 Structs/PI/ 1-m_1-ts_0-lab_1-pi_0-ac1_0-ac2\",\"R1 Structs/lab/ 1-m_1-ts_1-lab_0-pi_0-ac1_0-ac2\",\"R1 Structs/lab/ 1-m_1-ts_2-lab_0-pi_0-ac1_0-ac2\",\"R1 Structs/lab/ 1-m_2-ts_1-lab_0-pi_0-ac1_0-ac2\",\"R1 Structs/ac2/ 2-m_0-ts_0-lab_0-pi_0-ac1_1-ac2\",\"R1 Structs/ac1/ 2-m_0-ts_0-lab_0-pi_1-ac1_0-ac2\",\"R1 Structs/lab/ 2-m_0-ts_1-lab_0-pi_0-ac1_0-ac2\",\"R1 Structs/PI/ 2-m_0-ts_1-lab_1-pi_0-ac1_0-ac2\",\"R1 Structs/lab/ 2-m_0-ts_2-lab_0-pi_0-ac1_0-ac2\",\"R1 Structs/ac2/ 2-m_1-ts_0-lab_0-pi_0-ac1_1-ac2\",\"R1 Structs/ac1/ 2-m_1-ts_0-lab_0-pi_1-ac1_0-ac2\",\"R1 Structs/PI/ 2-m_1-ts_0-lab_1-pi_0-ac1_0-ac2\",\"R1 Structs/lab/ 2-m_1-ts_1-lab_0-pi_0-ac1_0-ac2\",\"R1 Structs/lab/ 2-m_2-ts_1-lab_0-pi_0-ac1_0-ac2\",\"R1 Structs/ac2/ 3-m_0-ts_0-lab_0-pi_0-ac1_1-ac2\",\"R1 Structs/ac1/ 3-m_0-ts_0-lab_0-pi_1-ac1_0-ac2\",\"R1 Structs/PI/ 3-m_0-ts_0-lab_1-pi_0-ac1_0-ac2\",\"R1 Structs/lab/ 3-m_0-ts_1-lab_0-pi_0-ac1_0-ac2\",\"R1 Structs/lab/ 3-m_0-ts_2-lab_0-pi_0-ac1_0-ac2\",\"R1 Structs/lab/ 3-m_1-ts_1-lab_0-pi_0-ac1_0-ac2\",\"R1 Structs/ts/ 3-m_2-ts_0-lab_0-pi_0-ac1_0-ac2\",\"R1 Structs/m/ 4-m_0-ts_0-lab_0-pi_0-ac1_0-ac2\",\"R1 Structs/ac2/ 4-m_0-ts_0-lab_0-pi_0-ac1_1-ac2\",\"R1 Structs/ac1/ 4-m_0-ts_0-lab_0-pi_1-ac1_0-ac2\",\"R1 Structs/PI/ 4-m_0-ts_0-lab_1-pi_0-ac1_0-ac2\",\"R1 Structs/lab/ 4-m_0-ts_1-lab_0-pi_0-ac1_0-ac2\",\"R1 Structs/lab/ 4-m_0-ts_2-lab_0-pi_0-ac1_0-ac2\",\"R1 Structs/lab/ 4-m_1-ts_1-lab_0-pi_0-ac1_0-ac2\",\"R1 Structs/m/ 5-m_0-ts_0-lab_0-pi_0-ac1_0-ac2\",\"R1 Structs/ac1/ 5-m_0-ts_0-lab_0-pi_1-ac1_0-ac2\",\"R1 Structs/lab/ 5-m_0-ts_1-lab_0-pi_0-ac1_0-ac2\",\"R1 Structs/ts/ 5-m_1-ts_0-lab_0-pi_0-ac1_0-ac2\",\"R1 Structs/lab/ 6-m_0-ts_1-lab_0-pi_0-ac1_0-ac2\",\"R1 Structs/m/ 7-m_0-ts_0-lab_0-pi_0-ac1_0-ac2\",\"R1 Structs/lab/ 7-m_0-ts_1-lab_0-pi_0-ac1_0-ac2\",\"R1 Structs/PI\",\"R1 Structs/ac1\",\"R1 Structs/ac2\",\"R1 Structs/lab\",\"R1 Structs/m\",\"R1 Structs/ts\",\"R1 Structs\"],\"labels\":[\" 0-m_0-ts_1-lab_1-pi_0-ac1_0-ac2\",\" 0-m_0-ts_2-lab_0-pi_0-ac1_0-ac2\",\" 0-m_1-ts_0-lab_0-pi_1-ac1_0-ac2\",\" 0-m_1-ts_1-lab_0-pi_0-ac1_0-ac2\",\" 0-m_2-ts_1-lab_0-pi_0-ac1_0-ac2\",\" 1-m_0-ts_0-lab_0-pi_0-ac1_1-ac2\",\" 1-m_0-ts_0-lab_0-pi_1-ac1_0-ac2\",\" 1-m_0-ts_1-lab_0-pi_0-ac1_0-ac2\",\" 1-m_0-ts_1-lab_1-pi_0-ac1_0-ac2\",\" 1-m_0-ts_2-lab_0-pi_0-ac1_0-ac2\",\" 1-m_1-ts_0-lab_0-pi_0-ac1_1-ac2\",\" 1-m_1-ts_0-lab_0-pi_1-ac1_0-ac2\",\" 1-m_1-ts_0-lab_1-pi_0-ac1_0-ac2\",\" 1-m_1-ts_1-lab_0-pi_0-ac1_0-ac2\",\" 1-m_1-ts_2-lab_0-pi_0-ac1_0-ac2\",\" 1-m_2-ts_1-lab_0-pi_0-ac1_0-ac2\",\" 2-m_0-ts_0-lab_0-pi_0-ac1_1-ac2\",\" 2-m_0-ts_0-lab_0-pi_1-ac1_0-ac2\",\" 2-m_0-ts_1-lab_0-pi_0-ac1_0-ac2\",\" 2-m_0-ts_1-lab_1-pi_0-ac1_0-ac2\",\" 2-m_0-ts_2-lab_0-pi_0-ac1_0-ac2\",\" 2-m_1-ts_0-lab_0-pi_0-ac1_1-ac2\",\" 2-m_1-ts_0-lab_0-pi_1-ac1_0-ac2\",\" 2-m_1-ts_0-lab_1-pi_0-ac1_0-ac2\",\" 2-m_1-ts_1-lab_0-pi_0-ac1_0-ac2\",\" 2-m_2-ts_1-lab_0-pi_0-ac1_0-ac2\",\" 3-m_0-ts_0-lab_0-pi_0-ac1_1-ac2\",\" 3-m_0-ts_0-lab_0-pi_1-ac1_0-ac2\",\" 3-m_0-ts_0-lab_1-pi_0-ac1_0-ac2\",\" 3-m_0-ts_1-lab_0-pi_0-ac1_0-ac2\",\" 3-m_0-ts_2-lab_0-pi_0-ac1_0-ac2\",\" 3-m_1-ts_1-lab_0-pi_0-ac1_0-ac2\",\" 3-m_2-ts_0-lab_0-pi_0-ac1_0-ac2\",\" 4-m_0-ts_0-lab_0-pi_0-ac1_0-ac2\",\" 4-m_0-ts_0-lab_0-pi_0-ac1_1-ac2\",\" 4-m_0-ts_0-lab_0-pi_1-ac1_0-ac2\",\" 4-m_0-ts_0-lab_1-pi_0-ac1_0-ac2\",\" 4-m_0-ts_1-lab_0-pi_0-ac1_0-ac2\",\" 4-m_0-ts_2-lab_0-pi_0-ac1_0-ac2\",\" 4-m_1-ts_1-lab_0-pi_0-ac1_0-ac2\",\" 5-m_0-ts_0-lab_0-pi_0-ac1_0-ac2\",\" 5-m_0-ts_0-lab_0-pi_1-ac1_0-ac2\",\" 5-m_0-ts_1-lab_0-pi_0-ac1_0-ac2\",\" 5-m_1-ts_0-lab_0-pi_0-ac1_0-ac2\",\" 6-m_0-ts_1-lab_0-pi_0-ac1_0-ac2\",\" 7-m_0-ts_0-lab_0-pi_0-ac1_0-ac2\",\" 7-m_0-ts_1-lab_0-pi_0-ac1_0-ac2\",\"PI\",\"ac1\",\"ac2\",\"lab\",\"m\",\"ts\",\"R1 Structs\"],\"marker\":{\"coloraxis\":\"coloraxis\",\"colors\":[142.0,169.0,131.66666666666666,114.0,146.2,175.0,159.28318584070797,141.66666666666666,138.0,166.6315789473684,129.0,169.23529411764707,108.18181818181819,128.625,193.0,165.0,150.7,164.67962085308056,137.05454545454546,153.5,167.6060606060606,197.0,179.21621621621622,156.42857142857142,154.1340782122905,171.625,163.0,172.86206896551724,112.625,138.03488372093022,180.6153846153846,160.41666666666666,115.0,108.5,164.5,170.16666666666666,141.5,151.56296296296296,197.5,170.13333333333333,125.0,190.8,168.50526315789475,178.0,182.75,161.0,191.5,128.67307692307693,165.77392344497608,160.82608695652175,155.00948766603415,125.6,146.5,159.45741878841088]},\"name\":\"\",\"parents\":[\"R1 Structs/PI\",\"R1 Structs/lab\",\"R1 Structs/ac1\",\"R1 Structs/lab\",\"R1 Structs/lab\",\"R1 Structs/ac2\",\"R1 Structs/ac1\",\"R1 Structs/lab\",\"R1 Structs/PI\",\"R1 Structs/lab\",\"R1 Structs/ac2\",\"R1 Structs/ac1\",\"R1 Structs/PI\",\"R1 Structs/lab\",\"R1 Structs/lab\",\"R1 Structs/lab\",\"R1 Structs/ac2\",\"R1 Structs/ac1\",\"R1 Structs/lab\",\"R1 Structs/PI\",\"R1 Structs/lab\",\"R1 Structs/ac2\",\"R1 Structs/ac1\",\"R1 Structs/PI\",\"R1 Structs/lab\",\"R1 Structs/lab\",\"R1 Structs/ac2\",\"R1 Structs/ac1\",\"R1 Structs/PI\",\"R1 Structs/lab\",\"R1 Structs/lab\",\"R1 Structs/lab\",\"R1 Structs/ts\",\"R1 Structs/m\",\"R1 Structs/ac2\",\"R1 Structs/ac1\",\"R1 Structs/PI\",\"R1 Structs/lab\",\"R1 Structs/lab\",\"R1 Structs/lab\",\"R1 Structs/m\",\"R1 Structs/ac1\",\"R1 Structs/lab\",\"R1 Structs/ts\",\"R1 Structs/lab\",\"R1 Structs/m\",\"R1 Structs/lab\",\"R1 Structs\",\"R1 Structs\",\"R1 Structs\",\"R1 Structs\",\"R1 Structs\",\"R1 Structs\",\"\"],\"values\":[10,2,6,8,10,6,226,6,10,76,2,34,22,64,6,22,20,1055,110,12,132,4,37,14,358,16,10,232,32,172,13,48,2,4,4,72,4,270,4,30,4,10,190,2,40,2,4,104,1672,46,1581,10,4,3417],\"type\":\"treemap\"}],                        {\"template\":{\"data\":{\"bar\":[{\"error_x\":{\"color\":\"#2a3f5f\"},\"error_y\":{\"color\":\"#2a3f5f\"},\"marker\":{\"line\":{\"color\":\"#E5ECF6\",\"width\":0.5},\"pattern\":{\"fillmode\":\"overlay\",\"size\":10,\"solidity\":0.2}},\"type\":\"bar\"}],\"barpolar\":[{\"marker\":{\"line\":{\"color\":\"#E5ECF6\",\"width\":0.5},\"pattern\":{\"fillmode\":\"overlay\",\"size\":10,\"solidity\":0.2}},\"type\":\"barpolar\"}],\"carpet\":[{\"aaxis\":{\"endlinecolor\":\"#2a3f5f\",\"gridcolor\":\"white\",\"linecolor\":\"white\",\"minorgridcolor\":\"white\",\"startlinecolor\":\"#2a3f5f\"},\"baxis\":{\"endlinecolor\":\"#2a3f5f\",\"gridcolor\":\"white\",\"linecolor\":\"white\",\"minorgridcolor\":\"white\",\"startlinecolor\":\"#2a3f5f\"},\"type\":\"carpet\"}],\"choropleth\":[{\"colorbar\":{\"outlinewidth\":0,\"ticks\":\"\"},\"type\":\"choropleth\"}],\"contour\":[{\"colorbar\":{\"outlinewidth\":0,\"ticks\":\"\"},\"colorscale\":[[0.0,\"#0d0887\"],[0.1111111111111111,\"#46039f\"],[0.2222222222222222,\"#7201a8\"],[0.3333333333333333,\"#9c179e\"],[0.4444444444444444,\"#bd3786\"],[0.5555555555555556,\"#d8576b\"],[0.6666666666666666,\"#ed7953\"],[0.7777777777777778,\"#fb9f3a\"],[0.8888888888888888,\"#fdca26\"],[1.0,\"#f0f921\"]],\"type\":\"contour\"}],\"contourcarpet\":[{\"colorbar\":{\"outlinewidth\":0,\"ticks\":\"\"},\"type\":\"contourcarpet\"}],\"heatmap\":[{\"colorbar\":{\"outlinewidth\":0,\"ticks\":\"\"},\"colorscale\":[[0.0,\"#0d0887\"],[0.1111111111111111,\"#46039f\"],[0.2222222222222222,\"#7201a8\"],[0.3333333333333333,\"#9c179e\"],[0.4444444444444444,\"#bd3786\"],[0.5555555555555556,\"#d8576b\"],[0.6666666666666666,\"#ed7953\"],[0.7777777777777778,\"#fb9f3a\"],[0.8888888888888888,\"#fdca26\"],[1.0,\"#f0f921\"]],\"type\":\"heatmap\"}],\"heatmapgl\":[{\"colorbar\":{\"outlinewidth\":0,\"ticks\":\"\"},\"colorscale\":[[0.0,\"#0d0887\"],[0.1111111111111111,\"#46039f\"],[0.2222222222222222,\"#7201a8\"],[0.3333333333333333,\"#9c179e\"],[0.4444444444444444,\"#bd3786\"],[0.5555555555555556,\"#d8576b\"],[0.6666666666666666,\"#ed7953\"],[0.7777777777777778,\"#fb9f3a\"],[0.8888888888888888,\"#fdca26\"],[1.0,\"#f0f921\"]],\"type\":\"heatmapgl\"}],\"histogram\":[{\"marker\":{\"pattern\":{\"fillmode\":\"overlay\",\"size\":10,\"solidity\":0.2}},\"type\":\"histogram\"}],\"histogram2d\":[{\"colorbar\":{\"outlinewidth\":0,\"ticks\":\"\"},\"colorscale\":[[0.0,\"#0d0887\"],[0.1111111111111111,\"#46039f\"],[0.2222222222222222,\"#7201a8\"],[0.3333333333333333,\"#9c179e\"],[0.4444444444444444,\"#bd3786\"],[0.5555555555555556,\"#d8576b\"],[0.6666666666666666,\"#ed7953\"],[0.7777777777777778,\"#fb9f3a\"],[0.8888888888888888,\"#fdca26\"],[1.0,\"#f0f921\"]],\"type\":\"histogram2d\"}],\"histogram2dcontour\":[{\"colorbar\":{\"outlinewidth\":0,\"ticks\":\"\"},\"colorscale\":[[0.0,\"#0d0887\"],[0.1111111111111111,\"#46039f\"],[0.2222222222222222,\"#7201a8\"],[0.3333333333333333,\"#9c179e\"],[0.4444444444444444,\"#bd3786\"],[0.5555555555555556,\"#d8576b\"],[0.6666666666666666,\"#ed7953\"],[0.7777777777777778,\"#fb9f3a\"],[0.8888888888888888,\"#fdca26\"],[1.0,\"#f0f921\"]],\"type\":\"histogram2dcontour\"}],\"mesh3d\":[{\"colorbar\":{\"outlinewidth\":0,\"ticks\":\"\"},\"type\":\"mesh3d\"}],\"parcoords\":[{\"line\":{\"colorbar\":{\"outlinewidth\":0,\"ticks\":\"\"}},\"type\":\"parcoords\"}],\"pie\":[{\"automargin\":true,\"type\":\"pie\"}],\"scatter\":[{\"marker\":{\"colorbar\":{\"outlinewidth\":0,\"ticks\":\"\"}},\"type\":\"scatter\"}],\"scatter3d\":[{\"line\":{\"colorbar\":{\"outlinewidth\":0,\"ticks\":\"\"}},\"marker\":{\"colorbar\":{\"outlinewidth\":0,\"ticks\":\"\"}},\"type\":\"scatter3d\"}],\"scattercarpet\":[{\"marker\":{\"colorbar\":{\"outlinewidth\":0,\"ticks\":\"\"}},\"type\":\"scattercarpet\"}],\"scattergeo\":[{\"marker\":{\"colorbar\":{\"outlinewidth\":0,\"ticks\":\"\"}},\"type\":\"scattergeo\"}],\"scattergl\":[{\"marker\":{\"colorbar\":{\"outlinewidth\":0,\"ticks\":\"\"}},\"type\":\"scattergl\"}],\"scattermapbox\":[{\"marker\":{\"colorbar\":{\"outlinewidth\":0,\"ticks\":\"\"}},\"type\":\"scattermapbox\"}],\"scatterpolar\":[{\"marker\":{\"colorbar\":{\"outlinewidth\":0,\"ticks\":\"\"}},\"type\":\"scatterpolar\"}],\"scatterpolargl\":[{\"marker\":{\"colorbar\":{\"outlinewidth\":0,\"ticks\":\"\"}},\"type\":\"scatterpolargl\"}],\"scatterternary\":[{\"marker\":{\"colorbar\":{\"outlinewidth\":0,\"ticks\":\"\"}},\"type\":\"scatterternary\"}],\"surface\":[{\"colorbar\":{\"outlinewidth\":0,\"ticks\":\"\"},\"colorscale\":[[0.0,\"#0d0887\"],[0.1111111111111111,\"#46039f\"],[0.2222222222222222,\"#7201a8\"],[0.3333333333333333,\"#9c179e\"],[0.4444444444444444,\"#bd3786\"],[0.5555555555555556,\"#d8576b\"],[0.6666666666666666,\"#ed7953\"],[0.7777777777777778,\"#fb9f3a\"],[0.8888888888888888,\"#fdca26\"],[1.0,\"#f0f921\"]],\"type\":\"surface\"}],\"table\":[{\"cells\":{\"fill\":{\"color\":\"#EBF0F8\"},\"line\":{\"color\":\"white\"}},\"header\":{\"fill\":{\"color\":\"#C8D4E3\"},\"line\":{\"color\":\"white\"}},\"type\":\"table\"}]},\"layout\":{\"annotationdefaults\":{\"arrowcolor\":\"#2a3f5f\",\"arrowhead\":0,\"arrowwidth\":1},\"autotypenumbers\":\"strict\",\"coloraxis\":{\"colorbar\":{\"outlinewidth\":0,\"ticks\":\"\"}},\"colorscale\":{\"diverging\":[[0,\"#8e0152\"],[0.1,\"#c51b7d\"],[0.2,\"#de77ae\"],[0.3,\"#f1b6da\"],[0.4,\"#fde0ef\"],[0.5,\"#f7f7f7\"],[0.6,\"#e6f5d0\"],[0.7,\"#b8e186\"],[0.8,\"#7fbc41\"],[0.9,\"#4d9221\"],[1,\"#276419\"]],\"sequential\":[[0.0,\"#0d0887\"],[0.1111111111111111,\"#46039f\"],[0.2222222222222222,\"#7201a8\"],[0.3333333333333333,\"#9c179e\"],[0.4444444444444444,\"#bd3786\"],[0.5555555555555556,\"#d8576b\"],[0.6666666666666666,\"#ed7953\"],[0.7777777777777778,\"#fb9f3a\"],[0.8888888888888888,\"#fdca26\"],[1.0,\"#f0f921\"]],\"sequentialminus\":[[0.0,\"#0d0887\"],[0.1111111111111111,\"#46039f\"],[0.2222222222222222,\"#7201a8\"],[0.3333333333333333,\"#9c179e\"],[0.4444444444444444,\"#bd3786\"],[0.5555555555555556,\"#d8576b\"],[0.6666666666666666,\"#ed7953\"],[0.7777777777777778,\"#fb9f3a\"],[0.8888888888888888,\"#fdca26\"],[1.0,\"#f0f921\"]]},\"colorway\":[\"#636efa\",\"#EF553B\",\"#00cc96\",\"#ab63fa\",\"#FFA15A\",\"#19d3f3\",\"#FF6692\",\"#B6E880\",\"#FF97FF\",\"#FECB52\"],\"font\":{\"color\":\"#2a3f5f\"},\"geo\":{\"bgcolor\":\"white\",\"lakecolor\":\"white\",\"landcolor\":\"#E5ECF6\",\"showlakes\":true,\"showland\":true,\"subunitcolor\":\"white\"},\"hoverlabel\":{\"align\":\"left\"},\"hovermode\":\"closest\",\"mapbox\":{\"style\":\"light\"},\"paper_bgcolor\":\"white\",\"plot_bgcolor\":\"#E5ECF6\",\"polar\":{\"angularaxis\":{\"gridcolor\":\"white\",\"linecolor\":\"white\",\"ticks\":\"\"},\"bgcolor\":\"#E5ECF6\",\"radialaxis\":{\"gridcolor\":\"white\",\"linecolor\":\"white\",\"ticks\":\"\"}},\"scene\":{\"xaxis\":{\"backgroundcolor\":\"#E5ECF6\",\"gridcolor\":\"white\",\"gridwidth\":2,\"linecolor\":\"white\",\"showbackground\":true,\"ticks\":\"\",\"zerolinecolor\":\"white\"},\"yaxis\":{\"backgroundcolor\":\"#E5ECF6\",\"gridcolor\":\"white\",\"gridwidth\":2,\"linecolor\":\"white\",\"showbackground\":true,\"ticks\":\"\",\"zerolinecolor\":\"white\"},\"zaxis\":{\"backgroundcolor\":\"#E5ECF6\",\"gridcolor\":\"white\",\"gridwidth\":2,\"linecolor\":\"white\",\"showbackground\":true,\"ticks\":\"\",\"zerolinecolor\":\"white\"}},\"shapedefaults\":{\"line\":{\"color\":\"#2a3f5f\"}},\"ternary\":{\"aaxis\":{\"gridcolor\":\"white\",\"linecolor\":\"white\",\"ticks\":\"\"},\"baxis\":{\"gridcolor\":\"white\",\"linecolor\":\"white\",\"ticks\":\"\"},\"bgcolor\":\"#E5ECF6\",\"caxis\":{\"gridcolor\":\"white\",\"linecolor\":\"white\",\"ticks\":\"\"}},\"title\":{\"x\":0.05},\"xaxis\":{\"automargin\":true,\"gridcolor\":\"white\",\"linecolor\":\"white\",\"ticks\":\"\",\"title\":{\"standoff\":15},\"zerolinecolor\":\"white\",\"zerolinewidth\":2},\"yaxis\":{\"automargin\":true,\"gridcolor\":\"white\",\"linecolor\":\"white\",\"ticks\":\"\",\"title\":{\"standoff\":15},\"zerolinecolor\":\"white\",\"zerolinewidth\":2}}},\"coloraxis\":{\"colorbar\":{\"title\":{\"text\":\"ave_score_taklons\"}},\"colorscale\":[[0.0,\"rgb(103,0,31)\"],[0.1,\"rgb(178,24,43)\"],[0.2,\"rgb(214,96,77)\"],[0.3,\"rgb(244,165,130)\"],[0.4,\"rgb(253,219,199)\"],[0.5,\"rgb(247,247,247)\"],[0.6,\"rgb(209,229,240)\"],[0.7,\"rgb(146,197,222)\"],[0.8,\"rgb(67,147,195)\"],[0.9,\"rgb(33,102,172)\"],[1.0,\"rgb(5,48,97)\"]],\"cmid\":144.39872372553106},\"legend\":{\"tracegroupgap\":0},\"margin\":{\"t\":50,\"l\":25,\"r\":25,\"b\":25},\"title\":{\"text\":\"R1 Structures: Frequency and Impact on Score Relative to All Factions Average (144.4): taklons\"}},                        {\"responsive\": true}                    ).then(function(){\n",
       "                            \n",
       "var gd = document.getElementById('59013d80-662b-48d9-b49e-905ac22037e7');\n",
       "var x = new MutationObserver(function (mutations, observer) {{\n",
       "        var display = window.getComputedStyle(gd).display;\n",
       "        if (!display || display === 'none') {{\n",
       "            console.log([gd, 'removed!']);\n",
       "            Plotly.purge(gd);\n",
       "            observer.disconnect();\n",
       "        }}\n",
       "}});\n",
       "\n",
       "// Listen for the removal of the full notebook cells\n",
       "var notebookContainer = gd.closest('#notebook-container');\n",
       "if (notebookContainer) {{\n",
       "    x.observe(notebookContainer, {childList: true});\n",
       "}}\n",
       "\n",
       "// Listen for the clearing of the current output cell\n",
       "var outputEl = gd.closest('.output');\n",
       "if (outputEl) {{\n",
       "    x.observe(outputEl, {childList: true});\n",
       "}}\n",
       "\n",
       "                        })                };                });            </script>        </div>"
      ]
     },
     "metadata": {},
     "output_type": "display_data"
    },
    {
     "data": {
      "application/vnd.plotly.v1+json": {
       "config": {
        "plotlyServerURL": "https://plot.ly"
       },
       "data": [
        {
         "branchvalues": "total",
         "customdata": [
          [
           137.66666666666666,
           135.33333333333334
          ],
          [
           181.65,
           146.85
          ],
          [
           234,
           176
          ],
          [
           142.58333333333334,
           146.33333333333334
          ],
          [
           109.2,
           125.8
          ],
          [
           27.5,
           119
          ],
          [
           146.3125,
           150.0625
          ],
          [
           255.92233009708738,
           154.01456310679612
          ],
          [
           89,
           116
          ],
          [
           155.67567567567568,
           146.9189189189189
          ],
          [
           159.85714285714286,
           128.14285714285714
          ],
          [
           212.72727272727272,
           146.4090909090909
          ],
          [
           165,
           128
          ],
          [
           82.71428571428571,
           116.28571428571429
          ],
          [
           174.8272727272727,
           141.20909090909092
          ],
          [
           196,
           148
          ],
          [
           157,
           133.33333333333334
          ],
          [
           110,
           125.33333333333333
          ],
          [
           210.45238095238096,
           149.28571428571428
          ],
          [
           168.17777777777778,
           135.0222222222222
          ],
          [
           95.83333333333333,
           108.66666666666667
          ],
          [
           151.5,
           130.78125
          ],
          [
           47.75,
           118.75
          ],
          [
           228,
           146.5
          ],
          [
           254.85714285714286,
           150.28571428571428
          ],
          [
           134.96428571428572,
           126.46428571428571
          ],
          [
           185.73493975903614,
           138.40160642570282
          ],
          [
           100.6,
           115
          ],
          [
           156.57142857142858,
           138.47619047619048
          ],
          [
           179,
           149
          ],
          [
           294,
           152
          ],
          [
           220.65065502183407,
           148.80786026200875
          ],
          [
           67,
           152.66666666666666
          ],
          [
           255.4949494949495,
           160.23232323232324
          ],
          [
           0,
           166
          ],
          [
           190.25,
           130.875
          ],
          [
           "(?)",
           122
          ],
          [
           "(?)",
           153.1201550387597
          ],
          [
           "(?)",
           146.1904761904762
          ],
          [
           "(?)",
           144.15848214285714
          ],
          [
           "(?)",
           134.76923076923077
          ],
          [
           "(?)",
           144.49256068911512
          ]
         ],
         "domain": {
          "x": [
           0,
           1
          ],
          "y": [
           0,
           1
          ]
         },
         "hovertemplate": "labels=%{label}<br>class_counts=%{value}<br>parent=%{parent}<br>id=%{id}<br>ave_elo_xenos=%{customdata[0]}<br>ave_score_xenos=%{color}<extra></extra>",
         "ids": [
          "R1 Structs/PI/ 1-m_0-ts_1-lab_1-pi_0-ac1_0-ac2",
          "R1 Structs/lab/ 1-m_0-ts_2-lab_0-pi_0-ac1_0-ac2",
          "R1 Structs/ac1/ 1-m_1-ts_0-lab_0-pi_1-ac1_0-ac2",
          "R1 Structs/lab/ 1-m_1-ts_1-lab_0-pi_0-ac1_0-ac2",
          "R1 Structs/lab/ 1-m_2-ts_1-lab_0-pi_0-ac1_0-ac2",
          "R1 Structs/ts/ 1-m_3-ts_0-lab_0-pi_0-ac1_0-ac2",
          "R1 Structs/ac2/ 2-m_0-ts_0-lab_0-pi_0-ac1_1-ac2",
          "R1 Structs/ac1/ 2-m_0-ts_0-lab_0-pi_1-ac1_0-ac2",
          "R1 Structs/PI/ 2-m_0-ts_0-lab_1-pi_0-ac1_0-ac2",
          "R1 Structs/lab/ 2-m_0-ts_1-lab_0-pi_0-ac1_0-ac2",
          "R1 Structs/PI/ 2-m_0-ts_1-lab_1-pi_0-ac1_0-ac2",
          "R1 Structs/lab/ 2-m_0-ts_2-lab_0-pi_0-ac1_0-ac2",
          "R1 Structs/ac1/ 2-m_1-ts_0-lab_0-pi_1-ac1_0-ac2",
          "R1 Structs/PI/ 2-m_1-ts_0-lab_1-pi_0-ac1_0-ac2",
          "R1 Structs/lab/ 2-m_1-ts_1-lab_0-pi_0-ac1_0-ac2",
          "R1 Structs/lab/ 2-m_2-ts_1-lab_0-pi_0-ac1_0-ac2",
          "R1 Structs/ts/ 2-m_3-ts_0-lab_0-pi_0-ac1_0-ac2",
          "R1 Structs/ac2/ 3-m_0-ts_0-lab_0-pi_0-ac1_1-ac2",
          "R1 Structs/ac1/ 3-m_0-ts_0-lab_0-pi_1-ac1_0-ac2",
          "R1 Structs/lab/ 3-m_0-ts_1-lab_0-pi_0-ac1_0-ac2",
          "R1 Structs/PI/ 3-m_1-ts_0-lab_1-pi_0-ac1_0-ac2",
          "R1 Structs/lab/ 3-m_1-ts_1-lab_0-pi_0-ac1_0-ac2",
          "R1 Structs/ts/ 3-m_2-ts_0-lab_0-pi_0-ac1_0-ac2",
          "R1 Structs/ac2/ 4-m_0-ts_0-lab_0-pi_0-ac1_1-ac2",
          "R1 Structs/ac1/ 4-m_0-ts_0-lab_0-pi_1-ac1_0-ac2",
          "R1 Structs/PI/ 4-m_0-ts_0-lab_1-pi_0-ac1_0-ac2",
          "R1 Structs/lab/ 4-m_0-ts_1-lab_0-pi_0-ac1_0-ac2",
          "R1 Structs/ts/ 4-m_1-ts_0-lab_0-pi_0-ac1_0-ac2",
          "R1 Structs/lab/ 4-m_1-ts_1-lab_0-pi_0-ac1_0-ac2",
          "R1 Structs/ts/ 4-m_2-ts_0-lab_0-pi_0-ac1_0-ac2",
          "R1 Structs/ac1/ 5-m_0-ts_0-lab_0-pi_1-ac1_0-ac2",
          "R1 Structs/lab/ 5-m_0-ts_1-lab_0-pi_0-ac1_0-ac2",
          "R1 Structs/ts/ 5-m_1-ts_0-lab_0-pi_0-ac1_0-ac2",
          "R1 Structs/lab/ 6-m_0-ts_1-lab_0-pi_0-ac1_0-ac2",
          "R1 Structs/ts/ 6-m_1-ts_0-lab_0-pi_0-ac1_0-ac2",
          "R1 Structs/lab/ 7-m_0-ts_1-lab_0-pi_0-ac1_0-ac2",
          "R1 Structs/PI",
          "R1 Structs/ac1",
          "R1 Structs/ac2",
          "R1 Structs/lab",
          "R1 Structs/ts",
          "R1 Structs"
         ],
         "labels": [
          " 1-m_0-ts_1-lab_1-pi_0-ac1_0-ac2",
          " 1-m_0-ts_2-lab_0-pi_0-ac1_0-ac2",
          " 1-m_1-ts_0-lab_0-pi_1-ac1_0-ac2",
          " 1-m_1-ts_1-lab_0-pi_0-ac1_0-ac2",
          " 1-m_2-ts_1-lab_0-pi_0-ac1_0-ac2",
          " 1-m_3-ts_0-lab_0-pi_0-ac1_0-ac2",
          " 2-m_0-ts_0-lab_0-pi_0-ac1_1-ac2",
          " 2-m_0-ts_0-lab_0-pi_1-ac1_0-ac2",
          " 2-m_0-ts_0-lab_1-pi_0-ac1_0-ac2",
          " 2-m_0-ts_1-lab_0-pi_0-ac1_0-ac2",
          " 2-m_0-ts_1-lab_1-pi_0-ac1_0-ac2",
          " 2-m_0-ts_2-lab_0-pi_0-ac1_0-ac2",
          " 2-m_1-ts_0-lab_0-pi_1-ac1_0-ac2",
          " 2-m_1-ts_0-lab_1-pi_0-ac1_0-ac2",
          " 2-m_1-ts_1-lab_0-pi_0-ac1_0-ac2",
          " 2-m_2-ts_1-lab_0-pi_0-ac1_0-ac2",
          " 2-m_3-ts_0-lab_0-pi_0-ac1_0-ac2",
          " 3-m_0-ts_0-lab_0-pi_0-ac1_1-ac2",
          " 3-m_0-ts_0-lab_0-pi_1-ac1_0-ac2",
          " 3-m_0-ts_1-lab_0-pi_0-ac1_0-ac2",
          " 3-m_1-ts_0-lab_1-pi_0-ac1_0-ac2",
          " 3-m_1-ts_1-lab_0-pi_0-ac1_0-ac2",
          " 3-m_2-ts_0-lab_0-pi_0-ac1_0-ac2",
          " 4-m_0-ts_0-lab_0-pi_0-ac1_1-ac2",
          " 4-m_0-ts_0-lab_0-pi_1-ac1_0-ac2",
          " 4-m_0-ts_0-lab_1-pi_0-ac1_0-ac2",
          " 4-m_0-ts_1-lab_0-pi_0-ac1_0-ac2",
          " 4-m_1-ts_0-lab_0-pi_0-ac1_0-ac2",
          " 4-m_1-ts_1-lab_0-pi_0-ac1_0-ac2",
          " 4-m_2-ts_0-lab_0-pi_0-ac1_0-ac2",
          " 5-m_0-ts_0-lab_0-pi_1-ac1_0-ac2",
          " 5-m_0-ts_1-lab_0-pi_0-ac1_0-ac2",
          " 5-m_1-ts_0-lab_0-pi_0-ac1_0-ac2",
          " 6-m_0-ts_1-lab_0-pi_0-ac1_0-ac2",
          " 6-m_1-ts_0-lab_0-pi_0-ac1_0-ac2",
          " 7-m_0-ts_1-lab_0-pi_0-ac1_0-ac2",
          "PI",
          "ac1",
          "ac2",
          "lab",
          "ts",
          "R1 Structs"
         ],
         "marker": {
          "coloraxis": "coloraxis",
          "colors": [
           135.33333333333334,
           146.85,
           176,
           146.33333333333334,
           125.8,
           119,
           150.0625,
           154.01456310679612,
           116,
           146.9189189189189,
           128.14285714285714,
           146.4090909090909,
           128,
           116.28571428571429,
           141.20909090909092,
           148,
           133.33333333333334,
           125.33333333333333,
           149.28571428571428,
           135.0222222222222,
           108.66666666666667,
           130.78125,
           118.75,
           146.5,
           150.28571428571428,
           126.46428571428571,
           138.40160642570282,
           115,
           138.47619047619048,
           149,
           152,
           148.80786026200875,
           152.66666666666666,
           160.23232323232324,
           166,
           130.875,
           122,
           153.1201550387597,
           146.1904761904762,
           144.15848214285714,
           134.76923076923077,
           144.49256068911512
          ]
         },
         "name": "",
         "parents": [
          "R1 Structs/PI",
          "R1 Structs/lab",
          "R1 Structs/ac1",
          "R1 Structs/lab",
          "R1 Structs/lab",
          "R1 Structs/ts",
          "R1 Structs/ac2",
          "R1 Structs/ac1",
          "R1 Structs/PI",
          "R1 Structs/lab",
          "R1 Structs/PI",
          "R1 Structs/lab",
          "R1 Structs/ac1",
          "R1 Structs/PI",
          "R1 Structs/lab",
          "R1 Structs/lab",
          "R1 Structs/ts",
          "R1 Structs/ac2",
          "R1 Structs/ac1",
          "R1 Structs/lab",
          "R1 Structs/PI",
          "R1 Structs/lab",
          "R1 Structs/ts",
          "R1 Structs/ac2",
          "R1 Structs/ac1",
          "R1 Structs/PI",
          "R1 Structs/lab",
          "R1 Structs/ts",
          "R1 Structs/lab",
          "R1 Structs/ts",
          "R1 Structs/ac1",
          "R1 Structs/lab",
          "R1 Structs/ts",
          "R1 Structs/lab",
          "R1 Structs/ts",
          "R1 Structs/lab",
          "R1 Structs",
          "R1 Structs",
          "R1 Structs",
          "R1 Structs",
          "R1 Structs",
          ""
         ],
         "type": "treemap",
         "values": [
          12,
          40,
          2,
          24,
          10,
          4,
          32,
          412,
          16,
          74,
          14,
          44,
          2,
          42,
          220,
          14,
          6,
          6,
          84,
          90,
          12,
          64,
          8,
          4,
          14,
          56,
          498,
          10,
          42,
          16,
          2,
          458,
          6,
          198,
          2,
          16,
          152,
          516,
          42,
          1792,
          52,
          2554
         ]
        }
       ],
       "layout": {
        "coloraxis": {
         "cmid": 144.39872372553106,
         "colorbar": {
          "title": {
           "text": "ave_score_xenos"
          }
         },
         "colorscale": [
          [
           0,
           "rgb(103,0,31)"
          ],
          [
           0.1,
           "rgb(178,24,43)"
          ],
          [
           0.2,
           "rgb(214,96,77)"
          ],
          [
           0.3,
           "rgb(244,165,130)"
          ],
          [
           0.4,
           "rgb(253,219,199)"
          ],
          [
           0.5,
           "rgb(247,247,247)"
          ],
          [
           0.6,
           "rgb(209,229,240)"
          ],
          [
           0.7,
           "rgb(146,197,222)"
          ],
          [
           0.8,
           "rgb(67,147,195)"
          ],
          [
           0.9,
           "rgb(33,102,172)"
          ],
          [
           1,
           "rgb(5,48,97)"
          ]
         ]
        },
        "legend": {
         "tracegroupgap": 0
        },
        "margin": {
         "b": 25,
         "l": 25,
         "r": 25,
         "t": 50
        },
        "template": {
         "data": {
          "bar": [
           {
            "error_x": {
             "color": "#2a3f5f"
            },
            "error_y": {
             "color": "#2a3f5f"
            },
            "marker": {
             "line": {
              "color": "#E5ECF6",
              "width": 0.5
             },
             "pattern": {
              "fillmode": "overlay",
              "size": 10,
              "solidity": 0.2
             }
            },
            "type": "bar"
           }
          ],
          "barpolar": [
           {
            "marker": {
             "line": {
              "color": "#E5ECF6",
              "width": 0.5
             },
             "pattern": {
              "fillmode": "overlay",
              "size": 10,
              "solidity": 0.2
             }
            },
            "type": "barpolar"
           }
          ],
          "carpet": [
           {
            "aaxis": {
             "endlinecolor": "#2a3f5f",
             "gridcolor": "white",
             "linecolor": "white",
             "minorgridcolor": "white",
             "startlinecolor": "#2a3f5f"
            },
            "baxis": {
             "endlinecolor": "#2a3f5f",
             "gridcolor": "white",
             "linecolor": "white",
             "minorgridcolor": "white",
             "startlinecolor": "#2a3f5f"
            },
            "type": "carpet"
           }
          ],
          "choropleth": [
           {
            "colorbar": {
             "outlinewidth": 0,
             "ticks": ""
            },
            "type": "choropleth"
           }
          ],
          "contour": [
           {
            "colorbar": {
             "outlinewidth": 0,
             "ticks": ""
            },
            "colorscale": [
             [
              0,
              "#0d0887"
             ],
             [
              0.1111111111111111,
              "#46039f"
             ],
             [
              0.2222222222222222,
              "#7201a8"
             ],
             [
              0.3333333333333333,
              "#9c179e"
             ],
             [
              0.4444444444444444,
              "#bd3786"
             ],
             [
              0.5555555555555556,
              "#d8576b"
             ],
             [
              0.6666666666666666,
              "#ed7953"
             ],
             [
              0.7777777777777778,
              "#fb9f3a"
             ],
             [
              0.8888888888888888,
              "#fdca26"
             ],
             [
              1,
              "#f0f921"
             ]
            ],
            "type": "contour"
           }
          ],
          "contourcarpet": [
           {
            "colorbar": {
             "outlinewidth": 0,
             "ticks": ""
            },
            "type": "contourcarpet"
           }
          ],
          "heatmap": [
           {
            "colorbar": {
             "outlinewidth": 0,
             "ticks": ""
            },
            "colorscale": [
             [
              0,
              "#0d0887"
             ],
             [
              0.1111111111111111,
              "#46039f"
             ],
             [
              0.2222222222222222,
              "#7201a8"
             ],
             [
              0.3333333333333333,
              "#9c179e"
             ],
             [
              0.4444444444444444,
              "#bd3786"
             ],
             [
              0.5555555555555556,
              "#d8576b"
             ],
             [
              0.6666666666666666,
              "#ed7953"
             ],
             [
              0.7777777777777778,
              "#fb9f3a"
             ],
             [
              0.8888888888888888,
              "#fdca26"
             ],
             [
              1,
              "#f0f921"
             ]
            ],
            "type": "heatmap"
           }
          ],
          "heatmapgl": [
           {
            "colorbar": {
             "outlinewidth": 0,
             "ticks": ""
            },
            "colorscale": [
             [
              0,
              "#0d0887"
             ],
             [
              0.1111111111111111,
              "#46039f"
             ],
             [
              0.2222222222222222,
              "#7201a8"
             ],
             [
              0.3333333333333333,
              "#9c179e"
             ],
             [
              0.4444444444444444,
              "#bd3786"
             ],
             [
              0.5555555555555556,
              "#d8576b"
             ],
             [
              0.6666666666666666,
              "#ed7953"
             ],
             [
              0.7777777777777778,
              "#fb9f3a"
             ],
             [
              0.8888888888888888,
              "#fdca26"
             ],
             [
              1,
              "#f0f921"
             ]
            ],
            "type": "heatmapgl"
           }
          ],
          "histogram": [
           {
            "marker": {
             "pattern": {
              "fillmode": "overlay",
              "size": 10,
              "solidity": 0.2
             }
            },
            "type": "histogram"
           }
          ],
          "histogram2d": [
           {
            "colorbar": {
             "outlinewidth": 0,
             "ticks": ""
            },
            "colorscale": [
             [
              0,
              "#0d0887"
             ],
             [
              0.1111111111111111,
              "#46039f"
             ],
             [
              0.2222222222222222,
              "#7201a8"
             ],
             [
              0.3333333333333333,
              "#9c179e"
             ],
             [
              0.4444444444444444,
              "#bd3786"
             ],
             [
              0.5555555555555556,
              "#d8576b"
             ],
             [
              0.6666666666666666,
              "#ed7953"
             ],
             [
              0.7777777777777778,
              "#fb9f3a"
             ],
             [
              0.8888888888888888,
              "#fdca26"
             ],
             [
              1,
              "#f0f921"
             ]
            ],
            "type": "histogram2d"
           }
          ],
          "histogram2dcontour": [
           {
            "colorbar": {
             "outlinewidth": 0,
             "ticks": ""
            },
            "colorscale": [
             [
              0,
              "#0d0887"
             ],
             [
              0.1111111111111111,
              "#46039f"
             ],
             [
              0.2222222222222222,
              "#7201a8"
             ],
             [
              0.3333333333333333,
              "#9c179e"
             ],
             [
              0.4444444444444444,
              "#bd3786"
             ],
             [
              0.5555555555555556,
              "#d8576b"
             ],
             [
              0.6666666666666666,
              "#ed7953"
             ],
             [
              0.7777777777777778,
              "#fb9f3a"
             ],
             [
              0.8888888888888888,
              "#fdca26"
             ],
             [
              1,
              "#f0f921"
             ]
            ],
            "type": "histogram2dcontour"
           }
          ],
          "mesh3d": [
           {
            "colorbar": {
             "outlinewidth": 0,
             "ticks": ""
            },
            "type": "mesh3d"
           }
          ],
          "parcoords": [
           {
            "line": {
             "colorbar": {
              "outlinewidth": 0,
              "ticks": ""
             }
            },
            "type": "parcoords"
           }
          ],
          "pie": [
           {
            "automargin": true,
            "type": "pie"
           }
          ],
          "scatter": [
           {
            "marker": {
             "colorbar": {
              "outlinewidth": 0,
              "ticks": ""
             }
            },
            "type": "scatter"
           }
          ],
          "scatter3d": [
           {
            "line": {
             "colorbar": {
              "outlinewidth": 0,
              "ticks": ""
             }
            },
            "marker": {
             "colorbar": {
              "outlinewidth": 0,
              "ticks": ""
             }
            },
            "type": "scatter3d"
           }
          ],
          "scattercarpet": [
           {
            "marker": {
             "colorbar": {
              "outlinewidth": 0,
              "ticks": ""
             }
            },
            "type": "scattercarpet"
           }
          ],
          "scattergeo": [
           {
            "marker": {
             "colorbar": {
              "outlinewidth": 0,
              "ticks": ""
             }
            },
            "type": "scattergeo"
           }
          ],
          "scattergl": [
           {
            "marker": {
             "colorbar": {
              "outlinewidth": 0,
              "ticks": ""
             }
            },
            "type": "scattergl"
           }
          ],
          "scattermapbox": [
           {
            "marker": {
             "colorbar": {
              "outlinewidth": 0,
              "ticks": ""
             }
            },
            "type": "scattermapbox"
           }
          ],
          "scatterpolar": [
           {
            "marker": {
             "colorbar": {
              "outlinewidth": 0,
              "ticks": ""
             }
            },
            "type": "scatterpolar"
           }
          ],
          "scatterpolargl": [
           {
            "marker": {
             "colorbar": {
              "outlinewidth": 0,
              "ticks": ""
             }
            },
            "type": "scatterpolargl"
           }
          ],
          "scatterternary": [
           {
            "marker": {
             "colorbar": {
              "outlinewidth": 0,
              "ticks": ""
             }
            },
            "type": "scatterternary"
           }
          ],
          "surface": [
           {
            "colorbar": {
             "outlinewidth": 0,
             "ticks": ""
            },
            "colorscale": [
             [
              0,
              "#0d0887"
             ],
             [
              0.1111111111111111,
              "#46039f"
             ],
             [
              0.2222222222222222,
              "#7201a8"
             ],
             [
              0.3333333333333333,
              "#9c179e"
             ],
             [
              0.4444444444444444,
              "#bd3786"
             ],
             [
              0.5555555555555556,
              "#d8576b"
             ],
             [
              0.6666666666666666,
              "#ed7953"
             ],
             [
              0.7777777777777778,
              "#fb9f3a"
             ],
             [
              0.8888888888888888,
              "#fdca26"
             ],
             [
              1,
              "#f0f921"
             ]
            ],
            "type": "surface"
           }
          ],
          "table": [
           {
            "cells": {
             "fill": {
              "color": "#EBF0F8"
             },
             "line": {
              "color": "white"
             }
            },
            "header": {
             "fill": {
              "color": "#C8D4E3"
             },
             "line": {
              "color": "white"
             }
            },
            "type": "table"
           }
          ]
         },
         "layout": {
          "annotationdefaults": {
           "arrowcolor": "#2a3f5f",
           "arrowhead": 0,
           "arrowwidth": 1
          },
          "autotypenumbers": "strict",
          "coloraxis": {
           "colorbar": {
            "outlinewidth": 0,
            "ticks": ""
           }
          },
          "colorscale": {
           "diverging": [
            [
             0,
             "#8e0152"
            ],
            [
             0.1,
             "#c51b7d"
            ],
            [
             0.2,
             "#de77ae"
            ],
            [
             0.3,
             "#f1b6da"
            ],
            [
             0.4,
             "#fde0ef"
            ],
            [
             0.5,
             "#f7f7f7"
            ],
            [
             0.6,
             "#e6f5d0"
            ],
            [
             0.7,
             "#b8e186"
            ],
            [
             0.8,
             "#7fbc41"
            ],
            [
             0.9,
             "#4d9221"
            ],
            [
             1,
             "#276419"
            ]
           ],
           "sequential": [
            [
             0,
             "#0d0887"
            ],
            [
             0.1111111111111111,
             "#46039f"
            ],
            [
             0.2222222222222222,
             "#7201a8"
            ],
            [
             0.3333333333333333,
             "#9c179e"
            ],
            [
             0.4444444444444444,
             "#bd3786"
            ],
            [
             0.5555555555555556,
             "#d8576b"
            ],
            [
             0.6666666666666666,
             "#ed7953"
            ],
            [
             0.7777777777777778,
             "#fb9f3a"
            ],
            [
             0.8888888888888888,
             "#fdca26"
            ],
            [
             1,
             "#f0f921"
            ]
           ],
           "sequentialminus": [
            [
             0,
             "#0d0887"
            ],
            [
             0.1111111111111111,
             "#46039f"
            ],
            [
             0.2222222222222222,
             "#7201a8"
            ],
            [
             0.3333333333333333,
             "#9c179e"
            ],
            [
             0.4444444444444444,
             "#bd3786"
            ],
            [
             0.5555555555555556,
             "#d8576b"
            ],
            [
             0.6666666666666666,
             "#ed7953"
            ],
            [
             0.7777777777777778,
             "#fb9f3a"
            ],
            [
             0.8888888888888888,
             "#fdca26"
            ],
            [
             1,
             "#f0f921"
            ]
           ]
          },
          "colorway": [
           "#636efa",
           "#EF553B",
           "#00cc96",
           "#ab63fa",
           "#FFA15A",
           "#19d3f3",
           "#FF6692",
           "#B6E880",
           "#FF97FF",
           "#FECB52"
          ],
          "font": {
           "color": "#2a3f5f"
          },
          "geo": {
           "bgcolor": "white",
           "lakecolor": "white",
           "landcolor": "#E5ECF6",
           "showlakes": true,
           "showland": true,
           "subunitcolor": "white"
          },
          "hoverlabel": {
           "align": "left"
          },
          "hovermode": "closest",
          "mapbox": {
           "style": "light"
          },
          "paper_bgcolor": "white",
          "plot_bgcolor": "#E5ECF6",
          "polar": {
           "angularaxis": {
            "gridcolor": "white",
            "linecolor": "white",
            "ticks": ""
           },
           "bgcolor": "#E5ECF6",
           "radialaxis": {
            "gridcolor": "white",
            "linecolor": "white",
            "ticks": ""
           }
          },
          "scene": {
           "xaxis": {
            "backgroundcolor": "#E5ECF6",
            "gridcolor": "white",
            "gridwidth": 2,
            "linecolor": "white",
            "showbackground": true,
            "ticks": "",
            "zerolinecolor": "white"
           },
           "yaxis": {
            "backgroundcolor": "#E5ECF6",
            "gridcolor": "white",
            "gridwidth": 2,
            "linecolor": "white",
            "showbackground": true,
            "ticks": "",
            "zerolinecolor": "white"
           },
           "zaxis": {
            "backgroundcolor": "#E5ECF6",
            "gridcolor": "white",
            "gridwidth": 2,
            "linecolor": "white",
            "showbackground": true,
            "ticks": "",
            "zerolinecolor": "white"
           }
          },
          "shapedefaults": {
           "line": {
            "color": "#2a3f5f"
           }
          },
          "ternary": {
           "aaxis": {
            "gridcolor": "white",
            "linecolor": "white",
            "ticks": ""
           },
           "baxis": {
            "gridcolor": "white",
            "linecolor": "white",
            "ticks": ""
           },
           "bgcolor": "#E5ECF6",
           "caxis": {
            "gridcolor": "white",
            "linecolor": "white",
            "ticks": ""
           }
          },
          "title": {
           "x": 0.05
          },
          "xaxis": {
           "automargin": true,
           "gridcolor": "white",
           "linecolor": "white",
           "ticks": "",
           "title": {
            "standoff": 15
           },
           "zerolinecolor": "white",
           "zerolinewidth": 2
          },
          "yaxis": {
           "automargin": true,
           "gridcolor": "white",
           "linecolor": "white",
           "ticks": "",
           "title": {
            "standoff": 15
           },
           "zerolinecolor": "white",
           "zerolinewidth": 2
          }
         }
        },
        "title": {
         "text": "R1 Structures: Frequency and Impact on Score Relative to All Factions Average (144.4): xenos"
        }
       }
      },
      "text/html": [
       "<div>                            <div id=\"318b304e-e2c9-4370-9392-66f7f6a68c04\" class=\"plotly-graph-div\" style=\"height:525px; width:100%;\"></div>            <script type=\"text/javascript\">                require([\"plotly\"], function(Plotly) {                    window.PLOTLYENV=window.PLOTLYENV || {};                                    if (document.getElementById(\"318b304e-e2c9-4370-9392-66f7f6a68c04\")) {                    Plotly.newPlot(                        \"318b304e-e2c9-4370-9392-66f7f6a68c04\",                        [{\"branchvalues\":\"total\",\"customdata\":[[137.66666666666666,135.33333333333334],[181.65,146.85],[234.0,176.0],[142.58333333333334,146.33333333333334],[109.2,125.8],[27.5,119.0],[146.3125,150.0625],[255.92233009708738,154.01456310679612],[89.0,116.0],[155.67567567567568,146.9189189189189],[159.85714285714286,128.14285714285714],[212.72727272727272,146.4090909090909],[165.0,128.0],[82.71428571428571,116.28571428571429],[174.8272727272727,141.20909090909092],[196.0,148.0],[157.0,133.33333333333334],[110.0,125.33333333333333],[210.45238095238096,149.28571428571428],[168.17777777777778,135.0222222222222],[95.83333333333333,108.66666666666667],[151.5,130.78125],[47.75,118.75],[228.0,146.5],[254.85714285714286,150.28571428571428],[134.96428571428572,126.46428571428571],[185.73493975903614,138.40160642570282],[100.6,115.0],[156.57142857142858,138.47619047619048],[179.0,149.0],[294.0,152.0],[220.65065502183407,148.80786026200875],[67.0,152.66666666666666],[255.4949494949495,160.23232323232324],[0.0,166.0],[190.25,130.875],[\"(?)\",122.0],[\"(?)\",153.1201550387597],[\"(?)\",146.1904761904762],[\"(?)\",144.15848214285714],[\"(?)\",134.76923076923077],[\"(?)\",144.49256068911512]],\"domain\":{\"x\":[0.0,1.0],\"y\":[0.0,1.0]},\"hovertemplate\":\"labels=%{label}<br>class_counts=%{value}<br>parent=%{parent}<br>id=%{id}<br>ave_elo_xenos=%{customdata[0]}<br>ave_score_xenos=%{color}<extra></extra>\",\"ids\":[\"R1 Structs/PI/ 1-m_0-ts_1-lab_1-pi_0-ac1_0-ac2\",\"R1 Structs/lab/ 1-m_0-ts_2-lab_0-pi_0-ac1_0-ac2\",\"R1 Structs/ac1/ 1-m_1-ts_0-lab_0-pi_1-ac1_0-ac2\",\"R1 Structs/lab/ 1-m_1-ts_1-lab_0-pi_0-ac1_0-ac2\",\"R1 Structs/lab/ 1-m_2-ts_1-lab_0-pi_0-ac1_0-ac2\",\"R1 Structs/ts/ 1-m_3-ts_0-lab_0-pi_0-ac1_0-ac2\",\"R1 Structs/ac2/ 2-m_0-ts_0-lab_0-pi_0-ac1_1-ac2\",\"R1 Structs/ac1/ 2-m_0-ts_0-lab_0-pi_1-ac1_0-ac2\",\"R1 Structs/PI/ 2-m_0-ts_0-lab_1-pi_0-ac1_0-ac2\",\"R1 Structs/lab/ 2-m_0-ts_1-lab_0-pi_0-ac1_0-ac2\",\"R1 Structs/PI/ 2-m_0-ts_1-lab_1-pi_0-ac1_0-ac2\",\"R1 Structs/lab/ 2-m_0-ts_2-lab_0-pi_0-ac1_0-ac2\",\"R1 Structs/ac1/ 2-m_1-ts_0-lab_0-pi_1-ac1_0-ac2\",\"R1 Structs/PI/ 2-m_1-ts_0-lab_1-pi_0-ac1_0-ac2\",\"R1 Structs/lab/ 2-m_1-ts_1-lab_0-pi_0-ac1_0-ac2\",\"R1 Structs/lab/ 2-m_2-ts_1-lab_0-pi_0-ac1_0-ac2\",\"R1 Structs/ts/ 2-m_3-ts_0-lab_0-pi_0-ac1_0-ac2\",\"R1 Structs/ac2/ 3-m_0-ts_0-lab_0-pi_0-ac1_1-ac2\",\"R1 Structs/ac1/ 3-m_0-ts_0-lab_0-pi_1-ac1_0-ac2\",\"R1 Structs/lab/ 3-m_0-ts_1-lab_0-pi_0-ac1_0-ac2\",\"R1 Structs/PI/ 3-m_1-ts_0-lab_1-pi_0-ac1_0-ac2\",\"R1 Structs/lab/ 3-m_1-ts_1-lab_0-pi_0-ac1_0-ac2\",\"R1 Structs/ts/ 3-m_2-ts_0-lab_0-pi_0-ac1_0-ac2\",\"R1 Structs/ac2/ 4-m_0-ts_0-lab_0-pi_0-ac1_1-ac2\",\"R1 Structs/ac1/ 4-m_0-ts_0-lab_0-pi_1-ac1_0-ac2\",\"R1 Structs/PI/ 4-m_0-ts_0-lab_1-pi_0-ac1_0-ac2\",\"R1 Structs/lab/ 4-m_0-ts_1-lab_0-pi_0-ac1_0-ac2\",\"R1 Structs/ts/ 4-m_1-ts_0-lab_0-pi_0-ac1_0-ac2\",\"R1 Structs/lab/ 4-m_1-ts_1-lab_0-pi_0-ac1_0-ac2\",\"R1 Structs/ts/ 4-m_2-ts_0-lab_0-pi_0-ac1_0-ac2\",\"R1 Structs/ac1/ 5-m_0-ts_0-lab_0-pi_1-ac1_0-ac2\",\"R1 Structs/lab/ 5-m_0-ts_1-lab_0-pi_0-ac1_0-ac2\",\"R1 Structs/ts/ 5-m_1-ts_0-lab_0-pi_0-ac1_0-ac2\",\"R1 Structs/lab/ 6-m_0-ts_1-lab_0-pi_0-ac1_0-ac2\",\"R1 Structs/ts/ 6-m_1-ts_0-lab_0-pi_0-ac1_0-ac2\",\"R1 Structs/lab/ 7-m_0-ts_1-lab_0-pi_0-ac1_0-ac2\",\"R1 Structs/PI\",\"R1 Structs/ac1\",\"R1 Structs/ac2\",\"R1 Structs/lab\",\"R1 Structs/ts\",\"R1 Structs\"],\"labels\":[\" 1-m_0-ts_1-lab_1-pi_0-ac1_0-ac2\",\" 1-m_0-ts_2-lab_0-pi_0-ac1_0-ac2\",\" 1-m_1-ts_0-lab_0-pi_1-ac1_0-ac2\",\" 1-m_1-ts_1-lab_0-pi_0-ac1_0-ac2\",\" 1-m_2-ts_1-lab_0-pi_0-ac1_0-ac2\",\" 1-m_3-ts_0-lab_0-pi_0-ac1_0-ac2\",\" 2-m_0-ts_0-lab_0-pi_0-ac1_1-ac2\",\" 2-m_0-ts_0-lab_0-pi_1-ac1_0-ac2\",\" 2-m_0-ts_0-lab_1-pi_0-ac1_0-ac2\",\" 2-m_0-ts_1-lab_0-pi_0-ac1_0-ac2\",\" 2-m_0-ts_1-lab_1-pi_0-ac1_0-ac2\",\" 2-m_0-ts_2-lab_0-pi_0-ac1_0-ac2\",\" 2-m_1-ts_0-lab_0-pi_1-ac1_0-ac2\",\" 2-m_1-ts_0-lab_1-pi_0-ac1_0-ac2\",\" 2-m_1-ts_1-lab_0-pi_0-ac1_0-ac2\",\" 2-m_2-ts_1-lab_0-pi_0-ac1_0-ac2\",\" 2-m_3-ts_0-lab_0-pi_0-ac1_0-ac2\",\" 3-m_0-ts_0-lab_0-pi_0-ac1_1-ac2\",\" 3-m_0-ts_0-lab_0-pi_1-ac1_0-ac2\",\" 3-m_0-ts_1-lab_0-pi_0-ac1_0-ac2\",\" 3-m_1-ts_0-lab_1-pi_0-ac1_0-ac2\",\" 3-m_1-ts_1-lab_0-pi_0-ac1_0-ac2\",\" 3-m_2-ts_0-lab_0-pi_0-ac1_0-ac2\",\" 4-m_0-ts_0-lab_0-pi_0-ac1_1-ac2\",\" 4-m_0-ts_0-lab_0-pi_1-ac1_0-ac2\",\" 4-m_0-ts_0-lab_1-pi_0-ac1_0-ac2\",\" 4-m_0-ts_1-lab_0-pi_0-ac1_0-ac2\",\" 4-m_1-ts_0-lab_0-pi_0-ac1_0-ac2\",\" 4-m_1-ts_1-lab_0-pi_0-ac1_0-ac2\",\" 4-m_2-ts_0-lab_0-pi_0-ac1_0-ac2\",\" 5-m_0-ts_0-lab_0-pi_1-ac1_0-ac2\",\" 5-m_0-ts_1-lab_0-pi_0-ac1_0-ac2\",\" 5-m_1-ts_0-lab_0-pi_0-ac1_0-ac2\",\" 6-m_0-ts_1-lab_0-pi_0-ac1_0-ac2\",\" 6-m_1-ts_0-lab_0-pi_0-ac1_0-ac2\",\" 7-m_0-ts_1-lab_0-pi_0-ac1_0-ac2\",\"PI\",\"ac1\",\"ac2\",\"lab\",\"ts\",\"R1 Structs\"],\"marker\":{\"coloraxis\":\"coloraxis\",\"colors\":[135.33333333333334,146.85,176.0,146.33333333333334,125.8,119.0,150.0625,154.01456310679612,116.0,146.9189189189189,128.14285714285714,146.4090909090909,128.0,116.28571428571429,141.20909090909092,148.0,133.33333333333334,125.33333333333333,149.28571428571428,135.0222222222222,108.66666666666667,130.78125,118.75,146.5,150.28571428571428,126.46428571428571,138.40160642570282,115.0,138.47619047619048,149.0,152.0,148.80786026200875,152.66666666666666,160.23232323232324,166.0,130.875,122.0,153.1201550387597,146.1904761904762,144.15848214285714,134.76923076923077,144.49256068911512]},\"name\":\"\",\"parents\":[\"R1 Structs/PI\",\"R1 Structs/lab\",\"R1 Structs/ac1\",\"R1 Structs/lab\",\"R1 Structs/lab\",\"R1 Structs/ts\",\"R1 Structs/ac2\",\"R1 Structs/ac1\",\"R1 Structs/PI\",\"R1 Structs/lab\",\"R1 Structs/PI\",\"R1 Structs/lab\",\"R1 Structs/ac1\",\"R1 Structs/PI\",\"R1 Structs/lab\",\"R1 Structs/lab\",\"R1 Structs/ts\",\"R1 Structs/ac2\",\"R1 Structs/ac1\",\"R1 Structs/lab\",\"R1 Structs/PI\",\"R1 Structs/lab\",\"R1 Structs/ts\",\"R1 Structs/ac2\",\"R1 Structs/ac1\",\"R1 Structs/PI\",\"R1 Structs/lab\",\"R1 Structs/ts\",\"R1 Structs/lab\",\"R1 Structs/ts\",\"R1 Structs/ac1\",\"R1 Structs/lab\",\"R1 Structs/ts\",\"R1 Structs/lab\",\"R1 Structs/ts\",\"R1 Structs/lab\",\"R1 Structs\",\"R1 Structs\",\"R1 Structs\",\"R1 Structs\",\"R1 Structs\",\"\"],\"values\":[12,40,2,24,10,4,32,412,16,74,14,44,2,42,220,14,6,6,84,90,12,64,8,4,14,56,498,10,42,16,2,458,6,198,2,16,152,516,42,1792,52,2554],\"type\":\"treemap\"}],                        {\"template\":{\"data\":{\"bar\":[{\"error_x\":{\"color\":\"#2a3f5f\"},\"error_y\":{\"color\":\"#2a3f5f\"},\"marker\":{\"line\":{\"color\":\"#E5ECF6\",\"width\":0.5},\"pattern\":{\"fillmode\":\"overlay\",\"size\":10,\"solidity\":0.2}},\"type\":\"bar\"}],\"barpolar\":[{\"marker\":{\"line\":{\"color\":\"#E5ECF6\",\"width\":0.5},\"pattern\":{\"fillmode\":\"overlay\",\"size\":10,\"solidity\":0.2}},\"type\":\"barpolar\"}],\"carpet\":[{\"aaxis\":{\"endlinecolor\":\"#2a3f5f\",\"gridcolor\":\"white\",\"linecolor\":\"white\",\"minorgridcolor\":\"white\",\"startlinecolor\":\"#2a3f5f\"},\"baxis\":{\"endlinecolor\":\"#2a3f5f\",\"gridcolor\":\"white\",\"linecolor\":\"white\",\"minorgridcolor\":\"white\",\"startlinecolor\":\"#2a3f5f\"},\"type\":\"carpet\"}],\"choropleth\":[{\"colorbar\":{\"outlinewidth\":0,\"ticks\":\"\"},\"type\":\"choropleth\"}],\"contour\":[{\"colorbar\":{\"outlinewidth\":0,\"ticks\":\"\"},\"colorscale\":[[0.0,\"#0d0887\"],[0.1111111111111111,\"#46039f\"],[0.2222222222222222,\"#7201a8\"],[0.3333333333333333,\"#9c179e\"],[0.4444444444444444,\"#bd3786\"],[0.5555555555555556,\"#d8576b\"],[0.6666666666666666,\"#ed7953\"],[0.7777777777777778,\"#fb9f3a\"],[0.8888888888888888,\"#fdca26\"],[1.0,\"#f0f921\"]],\"type\":\"contour\"}],\"contourcarpet\":[{\"colorbar\":{\"outlinewidth\":0,\"ticks\":\"\"},\"type\":\"contourcarpet\"}],\"heatmap\":[{\"colorbar\":{\"outlinewidth\":0,\"ticks\":\"\"},\"colorscale\":[[0.0,\"#0d0887\"],[0.1111111111111111,\"#46039f\"],[0.2222222222222222,\"#7201a8\"],[0.3333333333333333,\"#9c179e\"],[0.4444444444444444,\"#bd3786\"],[0.5555555555555556,\"#d8576b\"],[0.6666666666666666,\"#ed7953\"],[0.7777777777777778,\"#fb9f3a\"],[0.8888888888888888,\"#fdca26\"],[1.0,\"#f0f921\"]],\"type\":\"heatmap\"}],\"heatmapgl\":[{\"colorbar\":{\"outlinewidth\":0,\"ticks\":\"\"},\"colorscale\":[[0.0,\"#0d0887\"],[0.1111111111111111,\"#46039f\"],[0.2222222222222222,\"#7201a8\"],[0.3333333333333333,\"#9c179e\"],[0.4444444444444444,\"#bd3786\"],[0.5555555555555556,\"#d8576b\"],[0.6666666666666666,\"#ed7953\"],[0.7777777777777778,\"#fb9f3a\"],[0.8888888888888888,\"#fdca26\"],[1.0,\"#f0f921\"]],\"type\":\"heatmapgl\"}],\"histogram\":[{\"marker\":{\"pattern\":{\"fillmode\":\"overlay\",\"size\":10,\"solidity\":0.2}},\"type\":\"histogram\"}],\"histogram2d\":[{\"colorbar\":{\"outlinewidth\":0,\"ticks\":\"\"},\"colorscale\":[[0.0,\"#0d0887\"],[0.1111111111111111,\"#46039f\"],[0.2222222222222222,\"#7201a8\"],[0.3333333333333333,\"#9c179e\"],[0.4444444444444444,\"#bd3786\"],[0.5555555555555556,\"#d8576b\"],[0.6666666666666666,\"#ed7953\"],[0.7777777777777778,\"#fb9f3a\"],[0.8888888888888888,\"#fdca26\"],[1.0,\"#f0f921\"]],\"type\":\"histogram2d\"}],\"histogram2dcontour\":[{\"colorbar\":{\"outlinewidth\":0,\"ticks\":\"\"},\"colorscale\":[[0.0,\"#0d0887\"],[0.1111111111111111,\"#46039f\"],[0.2222222222222222,\"#7201a8\"],[0.3333333333333333,\"#9c179e\"],[0.4444444444444444,\"#bd3786\"],[0.5555555555555556,\"#d8576b\"],[0.6666666666666666,\"#ed7953\"],[0.7777777777777778,\"#fb9f3a\"],[0.8888888888888888,\"#fdca26\"],[1.0,\"#f0f921\"]],\"type\":\"histogram2dcontour\"}],\"mesh3d\":[{\"colorbar\":{\"outlinewidth\":0,\"ticks\":\"\"},\"type\":\"mesh3d\"}],\"parcoords\":[{\"line\":{\"colorbar\":{\"outlinewidth\":0,\"ticks\":\"\"}},\"type\":\"parcoords\"}],\"pie\":[{\"automargin\":true,\"type\":\"pie\"}],\"scatter\":[{\"marker\":{\"colorbar\":{\"outlinewidth\":0,\"ticks\":\"\"}},\"type\":\"scatter\"}],\"scatter3d\":[{\"line\":{\"colorbar\":{\"outlinewidth\":0,\"ticks\":\"\"}},\"marker\":{\"colorbar\":{\"outlinewidth\":0,\"ticks\":\"\"}},\"type\":\"scatter3d\"}],\"scattercarpet\":[{\"marker\":{\"colorbar\":{\"outlinewidth\":0,\"ticks\":\"\"}},\"type\":\"scattercarpet\"}],\"scattergeo\":[{\"marker\":{\"colorbar\":{\"outlinewidth\":0,\"ticks\":\"\"}},\"type\":\"scattergeo\"}],\"scattergl\":[{\"marker\":{\"colorbar\":{\"outlinewidth\":0,\"ticks\":\"\"}},\"type\":\"scattergl\"}],\"scattermapbox\":[{\"marker\":{\"colorbar\":{\"outlinewidth\":0,\"ticks\":\"\"}},\"type\":\"scattermapbox\"}],\"scatterpolar\":[{\"marker\":{\"colorbar\":{\"outlinewidth\":0,\"ticks\":\"\"}},\"type\":\"scatterpolar\"}],\"scatterpolargl\":[{\"marker\":{\"colorbar\":{\"outlinewidth\":0,\"ticks\":\"\"}},\"type\":\"scatterpolargl\"}],\"scatterternary\":[{\"marker\":{\"colorbar\":{\"outlinewidth\":0,\"ticks\":\"\"}},\"type\":\"scatterternary\"}],\"surface\":[{\"colorbar\":{\"outlinewidth\":0,\"ticks\":\"\"},\"colorscale\":[[0.0,\"#0d0887\"],[0.1111111111111111,\"#46039f\"],[0.2222222222222222,\"#7201a8\"],[0.3333333333333333,\"#9c179e\"],[0.4444444444444444,\"#bd3786\"],[0.5555555555555556,\"#d8576b\"],[0.6666666666666666,\"#ed7953\"],[0.7777777777777778,\"#fb9f3a\"],[0.8888888888888888,\"#fdca26\"],[1.0,\"#f0f921\"]],\"type\":\"surface\"}],\"table\":[{\"cells\":{\"fill\":{\"color\":\"#EBF0F8\"},\"line\":{\"color\":\"white\"}},\"header\":{\"fill\":{\"color\":\"#C8D4E3\"},\"line\":{\"color\":\"white\"}},\"type\":\"table\"}]},\"layout\":{\"annotationdefaults\":{\"arrowcolor\":\"#2a3f5f\",\"arrowhead\":0,\"arrowwidth\":1},\"autotypenumbers\":\"strict\",\"coloraxis\":{\"colorbar\":{\"outlinewidth\":0,\"ticks\":\"\"}},\"colorscale\":{\"diverging\":[[0,\"#8e0152\"],[0.1,\"#c51b7d\"],[0.2,\"#de77ae\"],[0.3,\"#f1b6da\"],[0.4,\"#fde0ef\"],[0.5,\"#f7f7f7\"],[0.6,\"#e6f5d0\"],[0.7,\"#b8e186\"],[0.8,\"#7fbc41\"],[0.9,\"#4d9221\"],[1,\"#276419\"]],\"sequential\":[[0.0,\"#0d0887\"],[0.1111111111111111,\"#46039f\"],[0.2222222222222222,\"#7201a8\"],[0.3333333333333333,\"#9c179e\"],[0.4444444444444444,\"#bd3786\"],[0.5555555555555556,\"#d8576b\"],[0.6666666666666666,\"#ed7953\"],[0.7777777777777778,\"#fb9f3a\"],[0.8888888888888888,\"#fdca26\"],[1.0,\"#f0f921\"]],\"sequentialminus\":[[0.0,\"#0d0887\"],[0.1111111111111111,\"#46039f\"],[0.2222222222222222,\"#7201a8\"],[0.3333333333333333,\"#9c179e\"],[0.4444444444444444,\"#bd3786\"],[0.5555555555555556,\"#d8576b\"],[0.6666666666666666,\"#ed7953\"],[0.7777777777777778,\"#fb9f3a\"],[0.8888888888888888,\"#fdca26\"],[1.0,\"#f0f921\"]]},\"colorway\":[\"#636efa\",\"#EF553B\",\"#00cc96\",\"#ab63fa\",\"#FFA15A\",\"#19d3f3\",\"#FF6692\",\"#B6E880\",\"#FF97FF\",\"#FECB52\"],\"font\":{\"color\":\"#2a3f5f\"},\"geo\":{\"bgcolor\":\"white\",\"lakecolor\":\"white\",\"landcolor\":\"#E5ECF6\",\"showlakes\":true,\"showland\":true,\"subunitcolor\":\"white\"},\"hoverlabel\":{\"align\":\"left\"},\"hovermode\":\"closest\",\"mapbox\":{\"style\":\"light\"},\"paper_bgcolor\":\"white\",\"plot_bgcolor\":\"#E5ECF6\",\"polar\":{\"angularaxis\":{\"gridcolor\":\"white\",\"linecolor\":\"white\",\"ticks\":\"\"},\"bgcolor\":\"#E5ECF6\",\"radialaxis\":{\"gridcolor\":\"white\",\"linecolor\":\"white\",\"ticks\":\"\"}},\"scene\":{\"xaxis\":{\"backgroundcolor\":\"#E5ECF6\",\"gridcolor\":\"white\",\"gridwidth\":2,\"linecolor\":\"white\",\"showbackground\":true,\"ticks\":\"\",\"zerolinecolor\":\"white\"},\"yaxis\":{\"backgroundcolor\":\"#E5ECF6\",\"gridcolor\":\"white\",\"gridwidth\":2,\"linecolor\":\"white\",\"showbackground\":true,\"ticks\":\"\",\"zerolinecolor\":\"white\"},\"zaxis\":{\"backgroundcolor\":\"#E5ECF6\",\"gridcolor\":\"white\",\"gridwidth\":2,\"linecolor\":\"white\",\"showbackground\":true,\"ticks\":\"\",\"zerolinecolor\":\"white\"}},\"shapedefaults\":{\"line\":{\"color\":\"#2a3f5f\"}},\"ternary\":{\"aaxis\":{\"gridcolor\":\"white\",\"linecolor\":\"white\",\"ticks\":\"\"},\"baxis\":{\"gridcolor\":\"white\",\"linecolor\":\"white\",\"ticks\":\"\"},\"bgcolor\":\"#E5ECF6\",\"caxis\":{\"gridcolor\":\"white\",\"linecolor\":\"white\",\"ticks\":\"\"}},\"title\":{\"x\":0.05},\"xaxis\":{\"automargin\":true,\"gridcolor\":\"white\",\"linecolor\":\"white\",\"ticks\":\"\",\"title\":{\"standoff\":15},\"zerolinecolor\":\"white\",\"zerolinewidth\":2},\"yaxis\":{\"automargin\":true,\"gridcolor\":\"white\",\"linecolor\":\"white\",\"ticks\":\"\",\"title\":{\"standoff\":15},\"zerolinecolor\":\"white\",\"zerolinewidth\":2}}},\"coloraxis\":{\"colorbar\":{\"title\":{\"text\":\"ave_score_xenos\"}},\"colorscale\":[[0.0,\"rgb(103,0,31)\"],[0.1,\"rgb(178,24,43)\"],[0.2,\"rgb(214,96,77)\"],[0.3,\"rgb(244,165,130)\"],[0.4,\"rgb(253,219,199)\"],[0.5,\"rgb(247,247,247)\"],[0.6,\"rgb(209,229,240)\"],[0.7,\"rgb(146,197,222)\"],[0.8,\"rgb(67,147,195)\"],[0.9,\"rgb(33,102,172)\"],[1.0,\"rgb(5,48,97)\"]],\"cmid\":144.39872372553106},\"legend\":{\"tracegroupgap\":0},\"margin\":{\"t\":50,\"l\":25,\"r\":25,\"b\":25},\"title\":{\"text\":\"R1 Structures: Frequency and Impact on Score Relative to All Factions Average (144.4): xenos\"}},                        {\"responsive\": true}                    ).then(function(){\n",
       "                            \n",
       "var gd = document.getElementById('318b304e-e2c9-4370-9392-66f7f6a68c04');\n",
       "var x = new MutationObserver(function (mutations, observer) {{\n",
       "        var display = window.getComputedStyle(gd).display;\n",
       "        if (!display || display === 'none') {{\n",
       "            console.log([gd, 'removed!']);\n",
       "            Plotly.purge(gd);\n",
       "            observer.disconnect();\n",
       "        }}\n",
       "}});\n",
       "\n",
       "// Listen for the removal of the full notebook cells\n",
       "var notebookContainer = gd.closest('#notebook-container');\n",
       "if (notebookContainer) {{\n",
       "    x.observe(notebookContainer, {childList: true});\n",
       "}}\n",
       "\n",
       "// Listen for the clearing of the current output cell\n",
       "var outputEl = gd.closest('.output');\n",
       "if (outputEl) {{\n",
       "    x.observe(outputEl, {childList: true});\n",
       "}}\n",
       "\n",
       "                        })                };                });            </script>        </div>"
      ]
     },
     "metadata": {},
     "output_type": "display_data"
    }
   ],
   "source": [
    "for faction in factions:\n",
    "    factions_pos = []\n",
    "    for pos in range(4):\n",
    "        dat = dat_4\n",
    "        \n",
    "        # select faction\n",
    "        dat = dat[dat[\"pos_\" + str(pos + 1) +\"_faction\"] == faction]\n",
    "        \n",
    "        #remove dropped players\n",
    "        dat = dat[dat['pos_' + str(pos + 1) + '_dropped'] == False]\n",
    "        \n",
    "        dat['pos_' + str(pos + 1) + '_score'] += -1 * dat['pos_' + str(pos + 1) + '_score_bid']\n",
    "        \n",
    "        #labels\n",
    "        prefix = \"pos_\" + str(pos + 1) + '_buildings_r_1'\n",
    "        structs_class = 'r1_structs_class_' + faction\n",
    "        structs_exact = 'r1_structs_exact_' + faction\n",
    "        over_all_score = 'ave_score_' + faction\n",
    "        over_all_elo = 'ave_elo_' + faction\n",
    "        \n",
    "        #get scores and elos\n",
    "        dat[over_all_score] = dat['pos_' + str(pos + 1) + '_score']\n",
    "        dat[over_all_elo] = dat['pos_' + str(pos + 1) + '_elo']\n",
    "        \n",
    "        #structs placed\n",
    "        dat[prefix + '_PI'] = pd.to_numeric(dat[prefix + '_PI'], downcast='integer')\n",
    "        dat[prefix + '_ac1'] = pd.to_numeric(dat[prefix + '_ac1'], downcast='integer')\n",
    "        dat[prefix + '_ac2'] = pd.to_numeric(dat[prefix + '_ac2'], downcast='integer')\n",
    "        dat[prefix + '_lab'] = pd.to_numeric(dat[prefix + '_lab'], downcast='integer')\n",
    "        dat[prefix + '_ts'] = pd.to_numeric(dat[prefix + '_ts'], downcast='integer')\n",
    "        dat[prefix + '_m'] = pd.to_numeric(dat[prefix + '_m'], downcast='integer')\n",
    "        \n",
    "        # create general structs catergory                        \n",
    "        dat.loc[dat[prefix + '_PI'] > 0, structs_class] = 'PI'\n",
    "        dat.loc[dat[prefix + '_ac1'] > 0, structs_class] = 'ac1'\n",
    "        dat.loc[dat[prefix + '_ac2'] > 0, structs_class] = 'ac2'\n",
    "        dat.loc[\n",
    "            (dat[prefix + '_lab'] > 0) &\n",
    "            (dat[prefix + '_PI'] == 0) &\n",
    "            (dat[prefix + '_ac1'] == 0) &\n",
    "            (dat[prefix + '_ac2'] == 0)\n",
    "            , structs_class] = 'lab'\n",
    "        \n",
    "        dat.loc[\n",
    "            (dat[prefix + '_ts'] > 0) &\n",
    "            (dat[prefix + '_lab'] == 0) &\n",
    "            (dat[prefix + '_PI'] == 0) &\n",
    "            (dat[prefix + '_ac1'] == 0) &\n",
    "            (dat[prefix + '_ac2'] == 0)\n",
    "            , structs_class] = 'ts'\n",
    "        \n",
    "        dat.loc[\n",
    "            (dat[prefix + '_ts'] == 0) &\n",
    "            (dat[prefix + '_lab'] == 0) &\n",
    "            (dat[prefix + '_PI'] == 0) &\n",
    "            (dat[prefix + '_ac1'] == 0) &\n",
    "            (dat[prefix + '_ac2'] == 0)\n",
    "            , structs_class] = 'm'\n",
    "        \n",
    "        \n",
    "        #create exact category\n",
    "        dat[structs_exact] = [\" \" +\n",
    "            str(m) + '-m_' +\n",
    "            str(ts) + '-ts_' +\n",
    "            str(lab) + '-lab_' + \n",
    "            str(PI) + '-pi_' +\n",
    "            str(ac1) + '-ac1_' +\n",
    "            str(ac2) + '-ac2' \n",
    "            for m, ts, lab, PI, ac1, ac2 in zip(\n",
    "            dat[prefix + '_m'], \n",
    "            dat[prefix + '_ts'], \n",
    "            dat[prefix + '_lab'],\n",
    "            dat[prefix + '_PI'], \n",
    "            dat[prefix + '_ac1'], \n",
    "            dat[prefix + '_ac2'])\n",
    "        ]\n",
    "        \n",
    "        \n",
    "        factions_pos.append(dat)\n",
    "        \n",
    "    factions_in = pd.concat(factions_pos, ignore_index=True)\n",
    "    \n",
    "    unique_starts = factions_in[[structs_exact, structs_class, over_all_score, over_all_elo]]\n",
    "    unique_starts['class_counts'] = 0\n",
    "    counts = unique_starts.groupby(structs_exact)['class_counts'].transform('count').to_frame()\n",
    "    unique_starts = unique_starts[[structs_exact, structs_class, over_all_score, over_all_elo]]\n",
    "    unique_starts = pd.concat([unique_starts, counts], axis=1)\n",
    "    unique_starts = unique_starts.groupby([structs_class, structs_exact]).mean().reset_index()\n",
    "    unique_starts['class_counts'] = pd.to_numeric(unique_starts['class_counts'], downcast='integer')\n",
    "    \n",
    "    #remove really low scores\n",
    "    #unique_starts = unique_starts[(np.abs(stats.zscore(unique_starts[over_all_score])) > 2)]\n",
    "    unique_starts = unique_starts[unique_starts[over_all_score].between(unique_starts[over_all_score].quantile(.15), unique_starts[over_all_score].quantile(1))]\n",
    "    \n",
    "    \n",
    "    #average score overall for position played till end\n",
    "    average_overall = (np.mean(dat_4[dat_4['pos_1_dropped'] == False]['pos_1_score']) + \n",
    "                      np.mean(dat_4[dat_4['pos_2_dropped'] == False]['pos_2_score']) + \n",
    "                      np.mean(dat_4[dat_4['pos_3_dropped'] == False]['pos_3_score']) + \n",
    "                      np.mean(dat_4[dat_4['pos_4_dropped'] == False]['pos_4_score'])) / 4\n",
    "    \n",
    "    #midpoint is average for all factions overall - but color ends are highest and lowest score by that faction\n",
    "    fig = px.treemap(unique_starts, path=[px.Constant('R1 Structs'), structs_class, structs_exact], values='class_counts',\n",
    "                  color=over_all_score, hover_data=[over_all_elo],\n",
    "                  color_continuous_scale='RdBu',\n",
    "                  color_continuous_midpoint=(average_overall))\n",
    "    fig.update_layout(margin = dict(t=50, l=25, r=25, b=25))\n",
    "    \n",
    "    fig.update_layout(title_text=\"R1 Structures: Frequency and Impact on Score Relative to All Factions Average (\" + str(round(average_overall, 2)) + \"): \" + faction)\n",
    "    \n",
    "    fig.write_html(\"./plots/r1_structs_analysis/freq_and_score/\" + faction + \".html\")\n",
    "    fig.show()\n",
    "    \n",
    "    \"\"\"\n",
    "    fig = px.sunburst(unique_starts, path=[px.Constant('R1 Structures: Frequency and Overall Score for ' + faction), structs_class, structs_exact], values='class_counts',\n",
    "                  color=over_all_score, hover_data=[over_all_elo],\n",
    "                  color_continuous_scale='RdBu',\n",
    "                  color_continuous_midpoint=np.median(unique_starts[over_all_score]))\n",
    "    fig.show()\n",
    "    \"\"\"\n",
    "    \n",
    "    \n",
    "    \n",
    "    "
   ]
  },
  {
   "cell_type": "code",
   "execution_count": 6,
   "id": "cac38859",
   "metadata": {},
   "outputs": [
    {
     "data": {
      "text/html": [
       "<div>\n",
       "<style scoped>\n",
       "    .dataframe tbody tr th:only-of-type {\n",
       "        vertical-align: middle;\n",
       "    }\n",
       "\n",
       "    .dataframe tbody tr th {\n",
       "        vertical-align: top;\n",
       "    }\n",
       "\n",
       "    .dataframe thead th {\n",
       "        text-align: right;\n",
       "    }\n",
       "</style>\n",
       "<table border=\"1\" class=\"dataframe\">\n",
       "  <thead>\n",
       "    <tr style=\"text-align: right;\">\n",
       "      <th></th>\n",
       "      <th>id</th>\n",
       "      <th>map_layout</th>\n",
       "      <th>num_players</th>\n",
       "      <th>1k_1o</th>\n",
       "      <th>2pwt_1o</th>\n",
       "      <th>1qic_2c</th>\n",
       "      <th>2c_terra</th>\n",
       "      <th>2pw_nav</th>\n",
       "      <th>1o_1vp_per_mine</th>\n",
       "      <th>1o_2vp_per_ts</th>\n",
       "      <th>1k_3vp_per_rl</th>\n",
       "      <th>4pw_4vp_per_3pip</th>\n",
       "      <th>4c_1vp_per_gaia</th>\n",
       "      <th>tech_terra</th>\n",
       "      <th>tech_nav</th>\n",
       "      <th>tech_int</th>\n",
       "      <th>tech_gaia</th>\n",
       "      <th>tech_eco</th>\n",
       "      <th>tech_sci</th>\n",
       "      <th>tech_free1</th>\n",
       "      <th>tech_free2</th>\n",
       "      <th>tech_free3</th>\n",
       "      <th>tech_adv-terra</th>\n",
       "      <th>tech_adv-nav</th>\n",
       "      <th>tech_adv-int</th>\n",
       "      <th>tech_adv-gaia</th>\n",
       "      <th>tech_adv-eco</th>\n",
       "      <th>tech_adv-sci</th>\n",
       "      <th>round_1_scoring</th>\n",
       "      <th>round_2_scoring</th>\n",
       "      <th>round_3_scoring</th>\n",
       "      <th>round_4_scoring</th>\n",
       "      <th>round_5_scoring</th>\n",
       "      <th>round_6_scoring</th>\n",
       "      <th>final_scoring_1</th>\n",
       "      <th>final_scoring_2</th>\n",
       "      <th>pos_4_dropped</th>\n",
       "      <th>pos_4_elo</th>\n",
       "      <th>pos_4_faction</th>\n",
       "      <th>pos_4_score</th>\n",
       "      <th>pos_4_start_pos</th>\n",
       "      <th>pos_4_bid</th>\n",
       "      <th>pos_4_feds_taken</th>\n",
       "      <th>pos_4_fed_12vp</th>\n",
       "      <th>pos_4_fed_qic</th>\n",
       "      <th>pos_4_fed_2pw</th>\n",
       "      <th>pos_4_fed_2o</th>\n",
       "      <th>pos_4_fed_6c</th>\n",
       "      <th>pos_4_fed_2k</th>\n",
       "      <th>pos_4_fed_gleens</th>\n",
       "      <th>...</th>\n",
       "      <th>pos_2_adv_tech_taken_1qic_5c_action</th>\n",
       "      <th>pos_2_adv_tech_taken_2vp_per_mine</th>\n",
       "      <th>pos_2_adv_tech_taken_3vp_per_rl_pass</th>\n",
       "      <th>pos_2_adv_tech_taken_1o_per_sector</th>\n",
       "      <th>pos_2_adv_tech_taken_1vp_per_terra_pass</th>\n",
       "      <th>pos_2_adv_tech_taken_2vp_per_gaia</th>\n",
       "      <th>pos_2_adv_tech_taken_4vp_per_ts</th>\n",
       "      <th>pos_2_adv_tech_taken_2vp_per_sector</th>\n",
       "      <th>pos_2_adv_tech_taken_3o_action</th>\n",
       "      <th>pos_2_adv_tech_taken_5vp_per_fed</th>\n",
       "      <th>pos_2_adv_tech_taken_3k_action</th>\n",
       "      <th>pos_2_adv_tech_taken_3vp_per_mine_place</th>\n",
       "      <th>pos_2_adv_tech_taken_3vp_per_ts_place</th>\n",
       "      <th>pos_2_total_techs_taken</th>\n",
       "      <th>pos_2_buildings_r_1_m</th>\n",
       "      <th>pos_2_buildings_r_1_ts</th>\n",
       "      <th>pos_2_buildings_r_1_lab</th>\n",
       "      <th>pos_2_buildings_r_1_ac1</th>\n",
       "      <th>pos_2_buildings_r_1_ac2</th>\n",
       "      <th>pos_2_buildings_r_1_PI</th>\n",
       "      <th>pos_2_buildings_r_1_gf</th>\n",
       "      <th>pos_2_buildings_r_2_m</th>\n",
       "      <th>pos_2_buildings_r_2_ts</th>\n",
       "      <th>pos_2_buildings_r_2_lab</th>\n",
       "      <th>pos_2_buildings_r_2_ac1</th>\n",
       "      <th>pos_2_buildings_r_2_ac2</th>\n",
       "      <th>pos_2_buildings_r_2_PI</th>\n",
       "      <th>pos_2_buildings_r_2_gf</th>\n",
       "      <th>pos_2_buildings_r_3_m</th>\n",
       "      <th>pos_2_buildings_r_3_ts</th>\n",
       "      <th>pos_2_buildings_r_3_lab</th>\n",
       "      <th>pos_2_buildings_r_3_ac1</th>\n",
       "      <th>pos_2_buildings_r_3_ac2</th>\n",
       "      <th>pos_2_buildings_r_3_PI</th>\n",
       "      <th>pos_2_buildings_r_3_gf</th>\n",
       "      <th>pos_2_buildings_r_4_m</th>\n",
       "      <th>pos_2_buildings_r_4_ts</th>\n",
       "      <th>pos_2_buildings_r_4_lab</th>\n",
       "      <th>pos_2_buildings_r_4_ac1</th>\n",
       "      <th>pos_2_buildings_r_4_ac2</th>\n",
       "      <th>pos_2_buildings_r_4_PI</th>\n",
       "      <th>pos_2_buildings_r_4_gf</th>\n",
       "      <th>pos_2_buildings_r_5_m</th>\n",
       "      <th>pos_2_buildings_r_5_ts</th>\n",
       "      <th>pos_2_buildings_r_5_lab</th>\n",
       "      <th>pos_2_buildings_r_5_ac1</th>\n",
       "      <th>pos_2_buildings_r_5_ac2</th>\n",
       "      <th>pos_2_buildings_r_5_PI</th>\n",
       "      <th>pos_2_buildings_r_5_gf</th>\n",
       "      <th>average_elo</th>\n",
       "    </tr>\n",
       "  </thead>\n",
       "  <tbody>\n",
       "    <tr>\n",
       "      <th>4364</th>\n",
       "      <td>Imperial-tree-6131</td>\n",
       "      <td>standard</td>\n",
       "      <td>4</td>\n",
       "      <td>False</td>\n",
       "      <td>True</td>\n",
       "      <td>True</td>\n",
       "      <td>False</td>\n",
       "      <td>True</td>\n",
       "      <td>True</td>\n",
       "      <td>True</td>\n",
       "      <td>True</td>\n",
       "      <td>False</td>\n",
       "      <td>True</td>\n",
       "      <td>k_per_terra</td>\n",
       "      <td>4pw</td>\n",
       "      <td>3vp_per_gaia_place</td>\n",
       "      <td>4c</td>\n",
       "      <td>1k_1c</td>\n",
       "      <td>1q_1o</td>\n",
       "      <td>4pip</td>\n",
       "      <td>1o_1pw</td>\n",
       "      <td>7vp</td>\n",
       "      <td>3k_action</td>\n",
       "      <td>1o_per_sector</td>\n",
       "      <td>1vp_per_terra_pass</td>\n",
       "      <td>2vp_per_gaia</td>\n",
       "      <td>2vp_per_tech_bump</td>\n",
       "      <td>2vp_per_mine</td>\n",
       "      <td>2vp_per_terra</td>\n",
       "      <td>5vp_per_fed_place</td>\n",
       "      <td>4vp_per_gaia_place</td>\n",
       "      <td>4vp_per_ts_place</td>\n",
       "      <td>5vp_per_3pip_place</td>\n",
       "      <td>3vp_per_ts_place</td>\n",
       "      <td>gaia</td>\n",
       "      <td>structureFed</td>\n",
       "      <td>False</td>\n",
       "      <td>100.0</td>\n",
       "      <td>bescods</td>\n",
       "      <td>126.0</td>\n",
       "      <td>3.0</td>\n",
       "      <td>0.0</td>\n",
       "      <td>3.0</td>\n",
       "      <td>1.0</td>\n",
       "      <td>0.0</td>\n",
       "      <td>0.0</td>\n",
       "      <td>0.0</td>\n",
       "      <td>1.0</td>\n",
       "      <td>1.0</td>\n",
       "      <td>0.0</td>\n",
       "      <td>...</td>\n",
       "      <td>False</td>\n",
       "      <td>True</td>\n",
       "      <td>False</td>\n",
       "      <td>False</td>\n",
       "      <td>False</td>\n",
       "      <td>False</td>\n",
       "      <td>False</td>\n",
       "      <td>False</td>\n",
       "      <td>False</td>\n",
       "      <td>False</td>\n",
       "      <td>False</td>\n",
       "      <td>False</td>\n",
       "      <td>False</td>\n",
       "      <td>7.0</td>\n",
       "      <td>7.0</td>\n",
       "      <td>0.0</td>\n",
       "      <td>0.0</td>\n",
       "      <td>0.0</td>\n",
       "      <td>0.0</td>\n",
       "      <td>1.0</td>\n",
       "      <td>0.0</td>\n",
       "      <td>6.0</td>\n",
       "      <td>2.0</td>\n",
       "      <td>0.0</td>\n",
       "      <td>0.0</td>\n",
       "      <td>0.0</td>\n",
       "      <td>1.0</td>\n",
       "      <td>0.0</td>\n",
       "      <td>7.0</td>\n",
       "      <td>0.0</td>\n",
       "      <td>1.0</td>\n",
       "      <td>1.0</td>\n",
       "      <td>0.0</td>\n",
       "      <td>1.0</td>\n",
       "      <td>0.0</td>\n",
       "      <td>6.0</td>\n",
       "      <td>1.0</td>\n",
       "      <td>2.0</td>\n",
       "      <td>1.0</td>\n",
       "      <td>0.0</td>\n",
       "      <td>1.0</td>\n",
       "      <td>0.0</td>\n",
       "      <td>8.0</td>\n",
       "      <td>1.0</td>\n",
       "      <td>1.0</td>\n",
       "      <td>1.0</td>\n",
       "      <td>1.0</td>\n",
       "      <td>1.0</td>\n",
       "      <td>0.0</td>\n",
       "      <td>177.75</td>\n",
       "    </tr>\n",
       "  </tbody>\n",
       "</table>\n",
       "<p>1 rows × 389 columns</p>\n",
       "</div>"
      ],
      "text/plain": [
       "                      id map_layout  num_players  1k_1o  2pwt_1o  1qic_2c  2c_terra  2pw_nav  1o_1vp_per_mine  1o_2vp_per_ts  1k_3vp_per_rl  4pw_4vp_per_3pip  4c_1vp_per_gaia   tech_terra tech_nav            tech_int tech_gaia tech_eco tech_sci tech_free1 tech_free2 tech_free3 tech_adv-terra   tech_adv-nav        tech_adv-int tech_adv-gaia       tech_adv-eco  tech_adv-sci round_1_scoring    round_2_scoring     round_3_scoring   round_4_scoring     round_5_scoring   round_6_scoring final_scoring_1 final_scoring_2 pos_4_dropped  pos_4_elo pos_4_faction  pos_4_score  pos_4_start_pos  pos_4_bid  pos_4_feds_taken  pos_4_fed_12vp  pos_4_fed_qic  pos_4_fed_2pw  pos_4_fed_2o  pos_4_fed_6c  pos_4_fed_2k  pos_4_fed_gleens  ...  pos_2_adv_tech_taken_1qic_5c_action  pos_2_adv_tech_taken_2vp_per_mine  pos_2_adv_tech_taken_3vp_per_rl_pass  pos_2_adv_tech_taken_1o_per_sector  pos_2_adv_tech_taken_1vp_per_terra_pass  pos_2_adv_tech_taken_2vp_per_gaia  pos_2_adv_tech_taken_4vp_per_ts  \\\n",
       "4364  Imperial-tree-6131   standard            4  False     True     True     False     True             True           True           True             False             True  k_per_terra      4pw  3vp_per_gaia_place        4c    1k_1c    1q_1o       4pip     1o_1pw        7vp      3k_action  1o_per_sector  1vp_per_terra_pass  2vp_per_gaia  2vp_per_tech_bump  2vp_per_mine   2vp_per_terra  5vp_per_fed_place  4vp_per_gaia_place  4vp_per_ts_place  5vp_per_3pip_place  3vp_per_ts_place            gaia    structureFed         False      100.0       bescods        126.0              3.0        0.0               3.0             1.0            0.0            0.0           0.0           1.0           1.0               0.0  ...                                False                               True                                 False                               False                                    False                              False                            False   \n",
       "\n",
       "      pos_2_adv_tech_taken_2vp_per_sector  pos_2_adv_tech_taken_3o_action  pos_2_adv_tech_taken_5vp_per_fed  pos_2_adv_tech_taken_3k_action  pos_2_adv_tech_taken_3vp_per_mine_place  pos_2_adv_tech_taken_3vp_per_ts_place  pos_2_total_techs_taken pos_2_buildings_r_1_m pos_2_buildings_r_1_ts pos_2_buildings_r_1_lab pos_2_buildings_r_1_ac1 pos_2_buildings_r_1_ac2 pos_2_buildings_r_1_PI pos_2_buildings_r_1_gf pos_2_buildings_r_2_m pos_2_buildings_r_2_ts pos_2_buildings_r_2_lab pos_2_buildings_r_2_ac1 pos_2_buildings_r_2_ac2 pos_2_buildings_r_2_PI pos_2_buildings_r_2_gf pos_2_buildings_r_3_m pos_2_buildings_r_3_ts pos_2_buildings_r_3_lab pos_2_buildings_r_3_ac1 pos_2_buildings_r_3_ac2 pos_2_buildings_r_3_PI pos_2_buildings_r_3_gf pos_2_buildings_r_4_m pos_2_buildings_r_4_ts pos_2_buildings_r_4_lab  pos_2_buildings_r_4_ac1  pos_2_buildings_r_4_ac2  pos_2_buildings_r_4_PI  pos_2_buildings_r_4_gf  pos_2_buildings_r_5_m  pos_2_buildings_r_5_ts  pos_2_buildings_r_5_lab  pos_2_buildings_r_5_ac1  \\\n",
       "4364                                False                           False                             False                           False                                    False                                  False                      7.0                   7.0                    0.0                     0.0                     0.0                     0.0                    1.0                    0.0                   6.0                    2.0                     0.0                     0.0                     0.0                    1.0                    0.0                   7.0                    0.0                     1.0                     1.0                     0.0                    1.0                    0.0                   6.0                    1.0                     2.0                      1.0                      0.0                     1.0                     0.0                    8.0                     1.0                      1.0                      1.0   \n",
       "\n",
       "      pos_2_buildings_r_5_ac2  pos_2_buildings_r_5_PI  pos_2_buildings_r_5_gf  average_elo  \n",
       "4364                      1.0                     1.0                     0.0       177.75  \n",
       "\n",
       "[1 rows x 389 columns]"
      ]
     },
     "execution_count": 6,
     "metadata": {},
     "output_type": "execute_result"
    }
   ],
   "source": [
    "# checking out if data wrong for unlikely taklon start --> it happend!\n",
    "p = 'pos_1_buildings_r_1'\n",
    "taklons_1 = dat_4[dat_4['pos_1_faction'] == 'taklons']\n",
    "taklons_1 = taklons_1.loc[(taklons_1[p + '_m'] == 7) & (taklons_1[p + '_lab'] == 1)]\n",
    "taklons_1.head()"
   ]
  },
  {
   "cell_type": "code",
   "execution_count": null,
   "id": "2987b2d8",
   "metadata": {},
   "outputs": [],
   "source": []
  }
 ],
 "metadata": {
  "kernelspec": {
   "display_name": "Python 3 (ipykernel)",
   "language": "python",
   "name": "python3"
  },
  "language_info": {
   "codemirror_mode": {
    "name": "ipython",
    "version": 3
   },
   "file_extension": ".py",
   "mimetype": "text/x-python",
   "name": "python",
   "nbconvert_exporter": "python",
   "pygments_lexer": "ipython3",
   "version": "3.8.10"
  }
 },
 "nbformat": 4,
 "nbformat_minor": 5
}
