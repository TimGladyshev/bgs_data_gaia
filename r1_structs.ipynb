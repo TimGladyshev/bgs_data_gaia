{
 "cells": [
  {
   "cell_type": "code",
   "execution_count": 1,
   "id": "a562ba5f",
   "metadata": {},
   "outputs": [],
   "source": [
    "import pandas as pd\n",
    "import numpy as np\n",
    "from scipy import stats\n",
    "pd.set_option('display.max_rows', 200)\n",
    "pd.set_option('display.max_columns', 100)\n",
    "pd.set_option('display.width', 1000)\n",
    "import json\n",
    "from IPython.display import display\n",
    "from subprocess import check_output\n",
    "import sys\n",
    "import traceback\n",
    "from tqdm.notebook import tqdm, trange\n",
    "import plotly.graph_objects as go\n",
    "import plotly.express as px\n",
    "pd.options.mode.chained_assignment = None\n",
    "import warnings\n",
    "warnings.simplefilter(action='ignore', category=FutureWarning)"
   ]
  },
  {
   "cell_type": "code",
   "execution_count": 7,
   "id": "0b63ea8e",
   "metadata": {},
   "outputs": [],
   "source": [
    "techs = {\n",
    "    \"tech1\": \"1q_1o\",\n",
    "    \"tech2\": \"k_per_terra\",\n",
    "    \"tech3\": \"4pip\",\n",
    "    \"tech4\": \"7vp\",\n",
    "    \"tech5\": \"1o_1pw\",\n",
    "    \"tech6\": \"1k_1c\",\n",
    "    \"tech7\": \"3vp_per_gaia_place\",\n",
    "    \"tech8\": \"4c\",\n",
    "    \"tech9\": \"4pw\",\n",
    "    # idk wtf this is --> \"tech-ship0\"\n",
    "}\n",
    "\n",
    "adv_techs = {\n",
    "    \"advtech1\": \"3vp_per_fed_pass\",\n",
    "    \"advtech2\": \"2vp_per_tech_bump\",\n",
    "    \"advtech3\": \"1qic_5c_action\",\n",
    "    \"advtech4\": \"2vp_per_mine\",\n",
    "    \"advtech5\": \"3vp_per_rl_pass\",\n",
    "    \"advtech6\": \"1o_per_sector\",\n",
    "    \"advtech7\": \"1vp_per_terra_pass\",\n",
    "    \"advtech8\": \"2vp_per_gaia\",\n",
    "    \"advtech9\": \"4vp_per_ts\",\n",
    "    \"advtech10\": \"2vp_per_sector\",\n",
    "    \"advtech11\": \"3o_action\",\n",
    "    \"advtech12\": \"5vp_per_fed\",\n",
    "    \"advtech13\": \"3k_action\",\n",
    "    \"advtech14\": \"3vp_per_mine_place\",\n",
    "    \"advtech15\": \"3vp_per_ts_place\",\n",
    "}\n",
    "\n",
    "feds = {\n",
    "    \"fed1\": \"12vp\",\n",
    "    \"fed2\": \"qic\",\n",
    "    \"fed3\": \"2pw\",\n",
    "    \"fed4\": \"2o\",\n",
    "    \"fed5\": \"6c\",\n",
    "    \"fed6\": \"2k\",\n",
    "    \"gleens\": \"gleens\"\n",
    "}\n",
    "\n",
    "round_scorings = {\n",
    "    \"score1\": \"2vp_per_terra\",\n",
    "    \"score2\": \"2vp_per_research_bump\",\n",
    "    \"score3\": \"2vp_per_mine_place\",\n",
    "    \"score4\": \"5vp_per_fed_place\",\n",
    "    \"score5\": \"4vp_per_ts_place\",\n",
    "    \"score6\": \"4vp_per_gaia_place\",\n",
    "    \"score7\": \"5vp_per_3pip_place\",\n",
    "    \"score8\": \"3vp_per_ts_place\",\n",
    "    \"score9\": \"3vp_per_gaia_place\",\n",
    "    \"score10\": \"5vp_per_3pip_place\",\n",
    "}\n",
    "\n",
    "boosters = {\n",
    "\n",
    "    \"booster1\": \"1k_1o\",\n",
    "    \"booster2\": \"2pwt_1o\",\n",
    "    \"booster3\": \"1qic_2c\",\n",
    "    \"booster4\": \"2c_terra\",\n",
    "    \"booster5\": \"2pw_nav\",\n",
    "    \"booster6\": \"1o_1vp_per_mine\",\n",
    "    \"booster7\": \"1o_2vp_per_ts\",\n",
    "    \"booster8\": \"1k_3vp_per_rl\",\n",
    "    \"booster9\": \"4pw_4vp_per_3pip\",\n",
    "    \"booster10\": \"4c_1vp_per_gaia\",\n",
    "}\n",
    "\n",
    "bad_buildings = {\"colony\", \n",
    "                 \"colonyShip\", \n",
    "                 \"tradeShip\", \n",
    "                 \"constructionShip\", \n",
    "                 \"researchShip\",\n",
    "                 \"scout\",\n",
    "                 \"frigate\",\n",
    "                 \"battleShip\",\n",
    "                 \"customsPost\",\n",
    "                 \"tradePost\"\n",
    "                }\n",
    "\n",
    "factions = {\n",
    "    \"terrans\",\n",
    "    \"lantids\",\n",
    "    \"hadsch-hallas\",\n",
    "    \"ivits\",\n",
    "    \"baltaks\",\n",
    "    \"geodens\",\n",
    "    \"xenos\",\n",
    "    \"gleens\",\n",
    "    \"ambas\",\n",
    "    \"taklons\",\n",
    "    \"bescods\",\n",
    "    \"firaks\",\n",
    "    \"itars\",\n",
    "    \"nevlas\"\n",
    "}"
   ]
  },
  {
   "cell_type": "code",
   "execution_count": 8,
   "id": "57c9df2b",
   "metadata": {},
   "outputs": [],
   "source": [
    "dat_2 = pd.read_pickle(\"./data/two_players_data\")\n",
    "dat_3 = pd.read_pickle(\"./data/three_players_data\")\n",
    "dat_4 = pd.read_pickle(\"./data/four_players_data\")"
   ]
  },
  {
   "cell_type": "code",
   "execution_count": 9,
   "id": "d2b889c9",
   "metadata": {},
   "outputs": [
    {
     "data": {
      "text/plain": [
       "count      5681\n",
       "unique        2\n",
       "top       False\n",
       "freq       5665\n",
       "Name: pos_1_dropped, dtype: object"
      ]
     },
     "execution_count": 9,
     "metadata": {},
     "output_type": "execute_result"
    }
   ],
   "source": [
    "dat_4['pos_1_dropped'].describe()"
   ]
  },
  {
   "cell_type": "code",
   "execution_count": 12,
   "id": "d911fb98",
   "metadata": {},
   "outputs": [],
   "source": [
    "def plot_r1_structs_remote(num_players, dat_x):\n",
    "    # do cleaning\n",
    "    dat_clean = dat_x.copy()\n",
    "    for pos in range(num_players):\n",
    "        dat_clean = dat_clean[dat_clean['pos_' + str(pos + 1) + '_dropped'] == False]\n",
    "        dat_clean['pos_' + str(pos + 1) + '_score'] += abs(dat_clean['pos_' + str(pos + 1) + '_score_bid'])\n",
    "        dat_clean = dat_clean[dat_clean['pos_' + str(pos + 1) + '_score'] >= 100]\n",
    "\n",
    "    for faction in factions:\n",
    "        factions_pos = []\n",
    "        for pos in range(num_players):\n",
    "            dat = dat_clean.copy()\n",
    "\n",
    "            # select faction\n",
    "            dat = dat[dat[\"pos_\" + str(pos + 1) + \"_faction\"] == faction]\n",
    "\n",
    "            # remove dropped players\n",
    "            # dat = dat[dat['pos_' + str(pos + 1) + '_dropped'] == False]\n",
    "\n",
    "            # bid part of score\n",
    "            # dat['pos_' + str(pos + 1) + '_score'] += -1 * dat['pos_' + str(pos + 1) + '_score_bid']\n",
    "\n",
    "            # labels\n",
    "            prefix = \"pos_\" + str(pos + 1) + '_buildings_r_1'\n",
    "            structs_class = 'r1_structs_class_' + faction\n",
    "            structs_exact = 'r1_structs_exact_' + faction\n",
    "            over_all_score = 'ave_score_' + faction\n",
    "            over_all_elo = 'ave_elo_' + faction\n",
    "\n",
    "            # get scores and elos\n",
    "            dat[over_all_score] = dat['pos_' + str(pos + 1) + '_score']\n",
    "            dat[over_all_elo] = dat['pos_' + str(pos + 1) + '_elo']\n",
    "\n",
    "            # structs placed\n",
    "            dat[prefix + '_PI'] = pd.to_numeric(dat[prefix + '_PI'], downcast='integer')\n",
    "            dat[prefix + '_ac1'] = pd.to_numeric(dat[prefix + '_ac1'], downcast='integer')\n",
    "            dat[prefix + '_ac2'] = pd.to_numeric(dat[prefix + '_ac2'], downcast='integer')\n",
    "            dat[prefix + '_lab'] = pd.to_numeric(dat[prefix + '_lab'], downcast='integer')\n",
    "            dat[prefix + '_ts'] = pd.to_numeric(dat[prefix + '_ts'], downcast='integer')\n",
    "            dat[prefix + '_m'] = pd.to_numeric(dat[prefix + '_m'], downcast='integer')\n",
    "\n",
    "            # create general structs catergory\n",
    "            dat.loc[dat[prefix + '_PI'] > 0, structs_class] = 'PI'\n",
    "            dat.loc[dat[prefix + '_ac1'] > 0, structs_class] = 'ac1'\n",
    "            dat.loc[dat[prefix + '_ac2'] > 0, structs_class] = 'ac2'\n",
    "            dat.loc[\n",
    "                (dat[prefix + '_lab'] > 0) &\n",
    "                (dat[prefix + '_PI'] == 0) &\n",
    "                (dat[prefix + '_ac1'] == 0) &\n",
    "                (dat[prefix + '_ac2'] == 0)\n",
    "                , structs_class] = 'lab'\n",
    "\n",
    "            dat.loc[\n",
    "                (dat[prefix + '_ts'] > 0) &\n",
    "                (dat[prefix + '_lab'] == 0) &\n",
    "                (dat[prefix + '_PI'] == 0) &\n",
    "                (dat[prefix + '_ac1'] == 0) &\n",
    "                (dat[prefix + '_ac2'] == 0)\n",
    "                , structs_class] = 'ts'\n",
    "\n",
    "            dat.loc[\n",
    "                (dat[prefix + '_ts'] == 0) &\n",
    "                (dat[prefix + '_lab'] == 0) &\n",
    "                (dat[prefix + '_PI'] == 0) &\n",
    "                (dat[prefix + '_ac1'] == 0) &\n",
    "                (dat[prefix + '_ac2'] == 0)\n",
    "                , structs_class] = 'm'\n",
    "\n",
    "            # create exact category\n",
    "            dat[structs_exact] = [\" \" +\n",
    "                                  str(m) + '-m_' +\n",
    "                                  str(ts) + '-ts_' +\n",
    "                                  str(lab) + '-lab_' +\n",
    "                                  str(PI) + '-pi_' +\n",
    "                                  str(ac1) + '-ac1_' +\n",
    "                                  str(ac2) + '-ac2'\n",
    "                                  for m, ts, lab, PI, ac1, ac2 in zip(\n",
    "                    dat[prefix + '_m'],\n",
    "                    dat[prefix + '_ts'],\n",
    "                    dat[prefix + '_lab'],\n",
    "                    dat[prefix + '_PI'],\n",
    "                    dat[prefix + '_ac1'],\n",
    "                    dat[prefix + '_ac2'])\n",
    "                                  ]\n",
    "\n",
    "            factions_pos.append(dat)\n",
    "\n",
    "        factions_in = pd.concat(factions_pos, ignore_index=True)\n",
    "\n",
    "        unique_starts = factions_in[[structs_exact, structs_class, over_all_score, over_all_elo]]\n",
    "        unique_starts['class_counts'] = 0\n",
    "        counts = unique_starts.groupby(structs_exact)['class_counts'].transform('count').to_frame()\n",
    "        unique_starts = unique_starts[[structs_exact, structs_class, over_all_score, over_all_elo]]\n",
    "        unique_starts = pd.concat([unique_starts, counts], axis=1)\n",
    "        unique_starts = unique_starts.groupby([structs_class, structs_exact]).mean().reset_index()\n",
    "        unique_starts['class_counts'] = pd.to_numeric(unique_starts['class_counts'], downcast='integer')\n",
    "\n",
    "        # remove really low scores\n",
    "        # unique_starts = unique_starts[(np.abs(stats.zscore(unique_starts[over_all_score])) > 2)]\n",
    "        unique_starts = unique_starts[unique_starts[over_all_score].between(unique_starts[over_all_score].quantile(.15),\n",
    "                                                                            unique_starts[over_all_score].quantile(1))]\n",
    "\n",
    "        # get average score\n",
    "        midpoint = 0\n",
    "        for i in range(num_players):\n",
    "            midpoint += np.mean(dat_clean['pos_' + str(i + 1) + '_score'])\n",
    "        midpoint /= num_players\n",
    "\n",
    "        # midpoint is average for all factions overall - but color ends are highest and lowest score by that faction\n",
    "        fig = px.treemap(unique_starts,\n",
    "                         path=[px.Constant('R1 Structures: Frequency and Overall Score for ' + faction), structs_class,\n",
    "                               structs_exact], values='class_counts',\n",
    "                         color=over_all_score, hover_data=[over_all_elo],\n",
    "                         color_continuous_scale='RdBu',\n",
    "                         color_continuous_midpoint=midpoint\n",
    "                         )\n",
    "        fig.update_layout(margin=dict(t=50, l=25, r=25, b=25))\n",
    "        fig.update_layout(\n",
    "            title_text=\"R1 Structures: Frequency and Impact on Score Relative to All Factions Average (\" + str(\n",
    "                round(midpoint, 2)) + \"): \" + faction)\n",
    "        fig.show()\n"
   ]
  },
  {
   "cell_type": "code",
   "execution_count": 14,
   "id": "654c3e2a",
   "metadata": {
    "scrolled": false
   },
   "outputs": [
    {
     "data": {
      "application/vnd.plotly.v1+json": {
       "config": {
        "plotlyServerURL": "https://plot.ly"
       },
       "data": [
        {
         "branchvalues": "total",
         "customdata": [
          [
           191,
           159.71428571428572
          ],
          [
           199.08695652173913,
           154.52173913043478
          ],
          [
           203.41964285714286,
           150.67857142857142
          ],
          [
           180.58823529411765,
           150.94117647058823
          ],
          [
           210,
           153.75
          ],
          [
           236.54166666666666,
           158.04166666666666
          ],
          [
           226.73584905660377,
           163.06003430531732
          ],
          [
           160.05882352941177,
           144.76470588235293
          ],
          [
           168.72727272727272,
           151.63636363636363
          ],
          [
           215.28571428571428,
           155.42857142857142
          ],
          [
           149.75,
           146.975
          ],
          [
           334,
           213
          ],
          [
           238.9093567251462,
           168.53508771929825
          ],
          [
           200.1809523809524,
           154.02857142857144
          ],
          [
           100,
           141
          ],
          [
           192.8235294117647,
           164.41176470588235
          ],
          [
           157.75,
           148.75
          ],
          [
           205.19230769230768,
           158.6153846153846
          ],
          [
           170,
           185
          ],
          [
           280.2,
           181
          ],
          [
           "(?)",
           161.58978328173376
          ],
          [
           "(?)",
           156.53521126760563
          ],
          [
           191,
           159.71428571428572
          ],
          [
           "(?)",
           161.31824817518248
          ]
         ],
         "domain": {
          "x": [
           0,
           1
          ],
          "y": [
           0,
           1
          ]
         },
         "hovertemplate": "labels=%{label}<br>class_counts=%{value}<br>parent=%{parent}<br>id=%{id}<br>ave_elo_ivits=%{customdata[0]}<br>ave_score_ivits=%{color}<extra></extra>",
         "ids": [
          "R1 Structures: Frequency and Overall Score for ivits/ac2/ 0-m_0-ts_0-lab_1-pi_0-ac1_1-ac2",
          "R1 Structures: Frequency and Overall Score for ivits/ac1/ 0-m_0-ts_0-lab_1-pi_1-ac1_0-ac2",
          "R1 Structures: Frequency and Overall Score for ivits/PI/ 0-m_0-ts_1-lab_1-pi_0-ac1_0-ac2",
          "R1 Structures: Frequency and Overall Score for ivits/PI/ 0-m_1-ts_1-lab_1-pi_0-ac1_0-ac2",
          "R1 Structures: Frequency and Overall Score for ivits/PI/ 0-m_2-ts_0-lab_1-pi_0-ac1_0-ac2",
          "R1 Structures: Frequency and Overall Score for ivits/ac1/ 1-m_0-ts_0-lab_1-pi_1-ac1_0-ac2",
          "R1 Structures: Frequency and Overall Score for ivits/PI/ 1-m_0-ts_1-lab_1-pi_0-ac1_0-ac2",
          "R1 Structures: Frequency and Overall Score for ivits/PI/ 1-m_1-ts_0-lab_1-pi_0-ac1_0-ac2",
          "R1 Structures: Frequency and Overall Score for ivits/PI/ 1-m_1-ts_1-lab_1-pi_0-ac1_0-ac2",
          "R1 Structures: Frequency and Overall Score for ivits/PI/ 1-m_2-ts_0-lab_1-pi_0-ac1_0-ac2",
          "R1 Structures: Frequency and Overall Score for ivits/PI/ 2-m_0-ts_0-lab_1-pi_0-ac1_0-ac2",
          "R1 Structures: Frequency and Overall Score for ivits/ac1/ 2-m_0-ts_0-lab_1-pi_1-ac1_0-ac2",
          "R1 Structures: Frequency and Overall Score for ivits/PI/ 2-m_0-ts_1-lab_1-pi_0-ac1_0-ac2",
          "R1 Structures: Frequency and Overall Score for ivits/PI/ 2-m_1-ts_0-lab_1-pi_0-ac1_0-ac2",
          "R1 Structures: Frequency and Overall Score for ivits/PI/ 2-m_2-ts_0-lab_1-pi_0-ac1_0-ac2",
          "R1 Structures: Frequency and Overall Score for ivits/PI/ 3-m_0-ts_1-lab_1-pi_0-ac1_0-ac2",
          "R1 Structures: Frequency and Overall Score for ivits/PI/ 3-m_1-ts_0-lab_1-pi_0-ac1_0-ac2",
          "R1 Structures: Frequency and Overall Score for ivits/PI/ 4-m_0-ts_0-lab_1-pi_0-ac1_0-ac2",
          "R1 Structures: Frequency and Overall Score for ivits/PI/ 4-m_0-ts_1-lab_1-pi_0-ac1_0-ac2",
          "R1 Structures: Frequency and Overall Score for ivits/PI/ 5-m_0-ts_0-lab_1-pi_0-ac1_0-ac2",
          "R1 Structures: Frequency and Overall Score for ivits/PI",
          "R1 Structures: Frequency and Overall Score for ivits/ac1",
          "R1 Structures: Frequency and Overall Score for ivits/ac2",
          "R1 Structures: Frequency and Overall Score for ivits"
         ],
         "labels": [
          " 0-m_0-ts_0-lab_1-pi_0-ac1_1-ac2",
          " 0-m_0-ts_0-lab_1-pi_1-ac1_0-ac2",
          " 0-m_0-ts_1-lab_1-pi_0-ac1_0-ac2",
          " 0-m_1-ts_1-lab_1-pi_0-ac1_0-ac2",
          " 0-m_2-ts_0-lab_1-pi_0-ac1_0-ac2",
          " 1-m_0-ts_0-lab_1-pi_1-ac1_0-ac2",
          " 1-m_0-ts_1-lab_1-pi_0-ac1_0-ac2",
          " 1-m_1-ts_0-lab_1-pi_0-ac1_0-ac2",
          " 1-m_1-ts_1-lab_1-pi_0-ac1_0-ac2",
          " 1-m_2-ts_0-lab_1-pi_0-ac1_0-ac2",
          " 2-m_0-ts_0-lab_1-pi_0-ac1_0-ac2",
          " 2-m_0-ts_0-lab_1-pi_1-ac1_0-ac2",
          " 2-m_0-ts_1-lab_1-pi_0-ac1_0-ac2",
          " 2-m_1-ts_0-lab_1-pi_0-ac1_0-ac2",
          " 2-m_2-ts_0-lab_1-pi_0-ac1_0-ac2",
          " 3-m_0-ts_1-lab_1-pi_0-ac1_0-ac2",
          " 3-m_1-ts_0-lab_1-pi_0-ac1_0-ac2",
          " 4-m_0-ts_0-lab_1-pi_0-ac1_0-ac2",
          " 4-m_0-ts_1-lab_1-pi_0-ac1_0-ac2",
          " 5-m_0-ts_0-lab_1-pi_0-ac1_0-ac2",
          "PI",
          "ac1",
          "ac2",
          "R1 Structures: Frequency and Overall Score for ivits"
         ],
         "marker": {
          "coloraxis": "coloraxis",
          "colors": [
           159.71428571428572,
           154.52173913043478,
           150.67857142857142,
           150.94117647058823,
           153.75,
           158.04166666666666,
           163.06003430531732,
           144.76470588235293,
           151.63636363636363,
           155.42857142857142,
           146.975,
           213,
           168.53508771929825,
           154.02857142857144,
           141,
           164.41176470588235,
           148.75,
           158.6153846153846,
           185,
           181,
           161.58978328173376,
           156.53521126760563,
           159.71428571428572,
           161.31824817518248
          ]
         },
         "name": "",
         "parents": [
          "R1 Structures: Frequency and Overall Score for ivits/ac2",
          "R1 Structures: Frequency and Overall Score for ivits/ac1",
          "R1 Structures: Frequency and Overall Score for ivits/PI",
          "R1 Structures: Frequency and Overall Score for ivits/PI",
          "R1 Structures: Frequency and Overall Score for ivits/PI",
          "R1 Structures: Frequency and Overall Score for ivits/ac1",
          "R1 Structures: Frequency and Overall Score for ivits/PI",
          "R1 Structures: Frequency and Overall Score for ivits/PI",
          "R1 Structures: Frequency and Overall Score for ivits/PI",
          "R1 Structures: Frequency and Overall Score for ivits/PI",
          "R1 Structures: Frequency and Overall Score for ivits/PI",
          "R1 Structures: Frequency and Overall Score for ivits/ac1",
          "R1 Structures: Frequency and Overall Score for ivits/PI",
          "R1 Structures: Frequency and Overall Score for ivits/PI",
          "R1 Structures: Frequency and Overall Score for ivits/PI",
          "R1 Structures: Frequency and Overall Score for ivits/PI",
          "R1 Structures: Frequency and Overall Score for ivits/PI",
          "R1 Structures: Frequency and Overall Score for ivits/PI",
          "R1 Structures: Frequency and Overall Score for ivits/PI",
          "R1 Structures: Frequency and Overall Score for ivits/PI",
          "R1 Structures: Frequency and Overall Score for ivits",
          "R1 Structures: Frequency and Overall Score for ivits",
          "R1 Structures: Frequency and Overall Score for ivits",
          ""
         ],
         "type": "treemap",
         "values": [
          7,
          46,
          112,
          17,
          4,
          24,
          583,
          17,
          11,
          7,
          40,
          1,
          342,
          105,
          1,
          17,
          4,
          26,
          1,
          5,
          1292,
          71,
          7,
          1370
         ]
        }
       ],
       "layout": {
        "coloraxis": {
         "cmid": 153.409394703657,
         "colorbar": {
          "title": {
           "text": "ave_score_ivits"
          }
         },
         "colorscale": [
          [
           0,
           "rgb(103,0,31)"
          ],
          [
           0.1,
           "rgb(178,24,43)"
          ],
          [
           0.2,
           "rgb(214,96,77)"
          ],
          [
           0.3,
           "rgb(244,165,130)"
          ],
          [
           0.4,
           "rgb(253,219,199)"
          ],
          [
           0.5,
           "rgb(247,247,247)"
          ],
          [
           0.6,
           "rgb(209,229,240)"
          ],
          [
           0.7,
           "rgb(146,197,222)"
          ],
          [
           0.8,
           "rgb(67,147,195)"
          ],
          [
           0.9,
           "rgb(33,102,172)"
          ],
          [
           1,
           "rgb(5,48,97)"
          ]
         ]
        },
        "legend": {
         "tracegroupgap": 0
        },
        "margin": {
         "b": 25,
         "l": 25,
         "r": 25,
         "t": 50
        },
        "template": {
         "data": {
          "bar": [
           {
            "error_x": {
             "color": "#2a3f5f"
            },
            "error_y": {
             "color": "#2a3f5f"
            },
            "marker": {
             "line": {
              "color": "#E5ECF6",
              "width": 0.5
             },
             "pattern": {
              "fillmode": "overlay",
              "size": 10,
              "solidity": 0.2
             }
            },
            "type": "bar"
           }
          ],
          "barpolar": [
           {
            "marker": {
             "line": {
              "color": "#E5ECF6",
              "width": 0.5
             },
             "pattern": {
              "fillmode": "overlay",
              "size": 10,
              "solidity": 0.2
             }
            },
            "type": "barpolar"
           }
          ],
          "carpet": [
           {
            "aaxis": {
             "endlinecolor": "#2a3f5f",
             "gridcolor": "white",
             "linecolor": "white",
             "minorgridcolor": "white",
             "startlinecolor": "#2a3f5f"
            },
            "baxis": {
             "endlinecolor": "#2a3f5f",
             "gridcolor": "white",
             "linecolor": "white",
             "minorgridcolor": "white",
             "startlinecolor": "#2a3f5f"
            },
            "type": "carpet"
           }
          ],
          "choropleth": [
           {
            "colorbar": {
             "outlinewidth": 0,
             "ticks": ""
            },
            "type": "choropleth"
           }
          ],
          "contour": [
           {
            "colorbar": {
             "outlinewidth": 0,
             "ticks": ""
            },
            "colorscale": [
             [
              0,
              "#0d0887"
             ],
             [
              0.1111111111111111,
              "#46039f"
             ],
             [
              0.2222222222222222,
              "#7201a8"
             ],
             [
              0.3333333333333333,
              "#9c179e"
             ],
             [
              0.4444444444444444,
              "#bd3786"
             ],
             [
              0.5555555555555556,
              "#d8576b"
             ],
             [
              0.6666666666666666,
              "#ed7953"
             ],
             [
              0.7777777777777778,
              "#fb9f3a"
             ],
             [
              0.8888888888888888,
              "#fdca26"
             ],
             [
              1,
              "#f0f921"
             ]
            ],
            "type": "contour"
           }
          ],
          "contourcarpet": [
           {
            "colorbar": {
             "outlinewidth": 0,
             "ticks": ""
            },
            "type": "contourcarpet"
           }
          ],
          "heatmap": [
           {
            "colorbar": {
             "outlinewidth": 0,
             "ticks": ""
            },
            "colorscale": [
             [
              0,
              "#0d0887"
             ],
             [
              0.1111111111111111,
              "#46039f"
             ],
             [
              0.2222222222222222,
              "#7201a8"
             ],
             [
              0.3333333333333333,
              "#9c179e"
             ],
             [
              0.4444444444444444,
              "#bd3786"
             ],
             [
              0.5555555555555556,
              "#d8576b"
             ],
             [
              0.6666666666666666,
              "#ed7953"
             ],
             [
              0.7777777777777778,
              "#fb9f3a"
             ],
             [
              0.8888888888888888,
              "#fdca26"
             ],
             [
              1,
              "#f0f921"
             ]
            ],
            "type": "heatmap"
           }
          ],
          "heatmapgl": [
           {
            "colorbar": {
             "outlinewidth": 0,
             "ticks": ""
            },
            "colorscale": [
             [
              0,
              "#0d0887"
             ],
             [
              0.1111111111111111,
              "#46039f"
             ],
             [
              0.2222222222222222,
              "#7201a8"
             ],
             [
              0.3333333333333333,
              "#9c179e"
             ],
             [
              0.4444444444444444,
              "#bd3786"
             ],
             [
              0.5555555555555556,
              "#d8576b"
             ],
             [
              0.6666666666666666,
              "#ed7953"
             ],
             [
              0.7777777777777778,
              "#fb9f3a"
             ],
             [
              0.8888888888888888,
              "#fdca26"
             ],
             [
              1,
              "#f0f921"
             ]
            ],
            "type": "heatmapgl"
           }
          ],
          "histogram": [
           {
            "marker": {
             "pattern": {
              "fillmode": "overlay",
              "size": 10,
              "solidity": 0.2
             }
            },
            "type": "histogram"
           }
          ],
          "histogram2d": [
           {
            "colorbar": {
             "outlinewidth": 0,
             "ticks": ""
            },
            "colorscale": [
             [
              0,
              "#0d0887"
             ],
             [
              0.1111111111111111,
              "#46039f"
             ],
             [
              0.2222222222222222,
              "#7201a8"
             ],
             [
              0.3333333333333333,
              "#9c179e"
             ],
             [
              0.4444444444444444,
              "#bd3786"
             ],
             [
              0.5555555555555556,
              "#d8576b"
             ],
             [
              0.6666666666666666,
              "#ed7953"
             ],
             [
              0.7777777777777778,
              "#fb9f3a"
             ],
             [
              0.8888888888888888,
              "#fdca26"
             ],
             [
              1,
              "#f0f921"
             ]
            ],
            "type": "histogram2d"
           }
          ],
          "histogram2dcontour": [
           {
            "colorbar": {
             "outlinewidth": 0,
             "ticks": ""
            },
            "colorscale": [
             [
              0,
              "#0d0887"
             ],
             [
              0.1111111111111111,
              "#46039f"
             ],
             [
              0.2222222222222222,
              "#7201a8"
             ],
             [
              0.3333333333333333,
              "#9c179e"
             ],
             [
              0.4444444444444444,
              "#bd3786"
             ],
             [
              0.5555555555555556,
              "#d8576b"
             ],
             [
              0.6666666666666666,
              "#ed7953"
             ],
             [
              0.7777777777777778,
              "#fb9f3a"
             ],
             [
              0.8888888888888888,
              "#fdca26"
             ],
             [
              1,
              "#f0f921"
             ]
            ],
            "type": "histogram2dcontour"
           }
          ],
          "mesh3d": [
           {
            "colorbar": {
             "outlinewidth": 0,
             "ticks": ""
            },
            "type": "mesh3d"
           }
          ],
          "parcoords": [
           {
            "line": {
             "colorbar": {
              "outlinewidth": 0,
              "ticks": ""
             }
            },
            "type": "parcoords"
           }
          ],
          "pie": [
           {
            "automargin": true,
            "type": "pie"
           }
          ],
          "scatter": [
           {
            "marker": {
             "colorbar": {
              "outlinewidth": 0,
              "ticks": ""
             }
            },
            "type": "scatter"
           }
          ],
          "scatter3d": [
           {
            "line": {
             "colorbar": {
              "outlinewidth": 0,
              "ticks": ""
             }
            },
            "marker": {
             "colorbar": {
              "outlinewidth": 0,
              "ticks": ""
             }
            },
            "type": "scatter3d"
           }
          ],
          "scattercarpet": [
           {
            "marker": {
             "colorbar": {
              "outlinewidth": 0,
              "ticks": ""
             }
            },
            "type": "scattercarpet"
           }
          ],
          "scattergeo": [
           {
            "marker": {
             "colorbar": {
              "outlinewidth": 0,
              "ticks": ""
             }
            },
            "type": "scattergeo"
           }
          ],
          "scattergl": [
           {
            "marker": {
             "colorbar": {
              "outlinewidth": 0,
              "ticks": ""
             }
            },
            "type": "scattergl"
           }
          ],
          "scattermapbox": [
           {
            "marker": {
             "colorbar": {
              "outlinewidth": 0,
              "ticks": ""
             }
            },
            "type": "scattermapbox"
           }
          ],
          "scatterpolar": [
           {
            "marker": {
             "colorbar": {
              "outlinewidth": 0,
              "ticks": ""
             }
            },
            "type": "scatterpolar"
           }
          ],
          "scatterpolargl": [
           {
            "marker": {
             "colorbar": {
              "outlinewidth": 0,
              "ticks": ""
             }
            },
            "type": "scatterpolargl"
           }
          ],
          "scatterternary": [
           {
            "marker": {
             "colorbar": {
              "outlinewidth": 0,
              "ticks": ""
             }
            },
            "type": "scatterternary"
           }
          ],
          "surface": [
           {
            "colorbar": {
             "outlinewidth": 0,
             "ticks": ""
            },
            "colorscale": [
             [
              0,
              "#0d0887"
             ],
             [
              0.1111111111111111,
              "#46039f"
             ],
             [
              0.2222222222222222,
              "#7201a8"
             ],
             [
              0.3333333333333333,
              "#9c179e"
             ],
             [
              0.4444444444444444,
              "#bd3786"
             ],
             [
              0.5555555555555556,
              "#d8576b"
             ],
             [
              0.6666666666666666,
              "#ed7953"
             ],
             [
              0.7777777777777778,
              "#fb9f3a"
             ],
             [
              0.8888888888888888,
              "#fdca26"
             ],
             [
              1,
              "#f0f921"
             ]
            ],
            "type": "surface"
           }
          ],
          "table": [
           {
            "cells": {
             "fill": {
              "color": "#EBF0F8"
             },
             "line": {
              "color": "white"
             }
            },
            "header": {
             "fill": {
              "color": "#C8D4E3"
             },
             "line": {
              "color": "white"
             }
            },
            "type": "table"
           }
          ]
         },
         "layout": {
          "annotationdefaults": {
           "arrowcolor": "#2a3f5f",
           "arrowhead": 0,
           "arrowwidth": 1
          },
          "autotypenumbers": "strict",
          "coloraxis": {
           "colorbar": {
            "outlinewidth": 0,
            "ticks": ""
           }
          },
          "colorscale": {
           "diverging": [
            [
             0,
             "#8e0152"
            ],
            [
             0.1,
             "#c51b7d"
            ],
            [
             0.2,
             "#de77ae"
            ],
            [
             0.3,
             "#f1b6da"
            ],
            [
             0.4,
             "#fde0ef"
            ],
            [
             0.5,
             "#f7f7f7"
            ],
            [
             0.6,
             "#e6f5d0"
            ],
            [
             0.7,
             "#b8e186"
            ],
            [
             0.8,
             "#7fbc41"
            ],
            [
             0.9,
             "#4d9221"
            ],
            [
             1,
             "#276419"
            ]
           ],
           "sequential": [
            [
             0,
             "#0d0887"
            ],
            [
             0.1111111111111111,
             "#46039f"
            ],
            [
             0.2222222222222222,
             "#7201a8"
            ],
            [
             0.3333333333333333,
             "#9c179e"
            ],
            [
             0.4444444444444444,
             "#bd3786"
            ],
            [
             0.5555555555555556,
             "#d8576b"
            ],
            [
             0.6666666666666666,
             "#ed7953"
            ],
            [
             0.7777777777777778,
             "#fb9f3a"
            ],
            [
             0.8888888888888888,
             "#fdca26"
            ],
            [
             1,
             "#f0f921"
            ]
           ],
           "sequentialminus": [
            [
             0,
             "#0d0887"
            ],
            [
             0.1111111111111111,
             "#46039f"
            ],
            [
             0.2222222222222222,
             "#7201a8"
            ],
            [
             0.3333333333333333,
             "#9c179e"
            ],
            [
             0.4444444444444444,
             "#bd3786"
            ],
            [
             0.5555555555555556,
             "#d8576b"
            ],
            [
             0.6666666666666666,
             "#ed7953"
            ],
            [
             0.7777777777777778,
             "#fb9f3a"
            ],
            [
             0.8888888888888888,
             "#fdca26"
            ],
            [
             1,
             "#f0f921"
            ]
           ]
          },
          "colorway": [
           "#636efa",
           "#EF553B",
           "#00cc96",
           "#ab63fa",
           "#FFA15A",
           "#19d3f3",
           "#FF6692",
           "#B6E880",
           "#FF97FF",
           "#FECB52"
          ],
          "font": {
           "color": "#2a3f5f"
          },
          "geo": {
           "bgcolor": "white",
           "lakecolor": "white",
           "landcolor": "#E5ECF6",
           "showlakes": true,
           "showland": true,
           "subunitcolor": "white"
          },
          "hoverlabel": {
           "align": "left"
          },
          "hovermode": "closest",
          "mapbox": {
           "style": "light"
          },
          "paper_bgcolor": "white",
          "plot_bgcolor": "#E5ECF6",
          "polar": {
           "angularaxis": {
            "gridcolor": "white",
            "linecolor": "white",
            "ticks": ""
           },
           "bgcolor": "#E5ECF6",
           "radialaxis": {
            "gridcolor": "white",
            "linecolor": "white",
            "ticks": ""
           }
          },
          "scene": {
           "xaxis": {
            "backgroundcolor": "#E5ECF6",
            "gridcolor": "white",
            "gridwidth": 2,
            "linecolor": "white",
            "showbackground": true,
            "ticks": "",
            "zerolinecolor": "white"
           },
           "yaxis": {
            "backgroundcolor": "#E5ECF6",
            "gridcolor": "white",
            "gridwidth": 2,
            "linecolor": "white",
            "showbackground": true,
            "ticks": "",
            "zerolinecolor": "white"
           },
           "zaxis": {
            "backgroundcolor": "#E5ECF6",
            "gridcolor": "white",
            "gridwidth": 2,
            "linecolor": "white",
            "showbackground": true,
            "ticks": "",
            "zerolinecolor": "white"
           }
          },
          "shapedefaults": {
           "line": {
            "color": "#2a3f5f"
           }
          },
          "ternary": {
           "aaxis": {
            "gridcolor": "white",
            "linecolor": "white",
            "ticks": ""
           },
           "baxis": {
            "gridcolor": "white",
            "linecolor": "white",
            "ticks": ""
           },
           "bgcolor": "#E5ECF6",
           "caxis": {
            "gridcolor": "white",
            "linecolor": "white",
            "ticks": ""
           }
          },
          "title": {
           "x": 0.05
          },
          "xaxis": {
           "automargin": true,
           "gridcolor": "white",
           "linecolor": "white",
           "ticks": "",
           "title": {
            "standoff": 15
           },
           "zerolinecolor": "white",
           "zerolinewidth": 2
          },
          "yaxis": {
           "automargin": true,
           "gridcolor": "white",
           "linecolor": "white",
           "ticks": "",
           "title": {
            "standoff": 15
           },
           "zerolinecolor": "white",
           "zerolinewidth": 2
          }
         }
        },
        "title": {
         "text": "R1 Structures: Frequency and Impact on Score Relative to All Factions Average (153.41): ivits"
        }
       }
      },
      "text/html": [
       "<div>                            <div id=\"4755e1a5-9371-46a1-9a63-4fc9c9788079\" class=\"plotly-graph-div\" style=\"height:525px; width:100%;\"></div>            <script type=\"text/javascript\">                require([\"plotly\"], function(Plotly) {                    window.PLOTLYENV=window.PLOTLYENV || {};                                    if (document.getElementById(\"4755e1a5-9371-46a1-9a63-4fc9c9788079\")) {                    Plotly.newPlot(                        \"4755e1a5-9371-46a1-9a63-4fc9c9788079\",                        [{\"branchvalues\":\"total\",\"customdata\":[[191.0,159.71428571428572],[199.08695652173913,154.52173913043478],[203.41964285714286,150.67857142857142],[180.58823529411765,150.94117647058823],[210.0,153.75],[236.54166666666666,158.04166666666666],[226.73584905660377,163.06003430531732],[160.05882352941177,144.76470588235293],[168.72727272727272,151.63636363636363],[215.28571428571428,155.42857142857142],[149.75,146.975],[334.0,213.0],[238.9093567251462,168.53508771929825],[200.1809523809524,154.02857142857144],[100.0,141.0],[192.8235294117647,164.41176470588235],[157.75,148.75],[205.19230769230768,158.6153846153846],[170.0,185.0],[280.2,181.0],[\"(?)\",161.58978328173376],[\"(?)\",156.53521126760563],[191.0,159.71428571428572],[\"(?)\",161.31824817518248]],\"domain\":{\"x\":[0.0,1.0],\"y\":[0.0,1.0]},\"hovertemplate\":\"labels=%{label}<br>class_counts=%{value}<br>parent=%{parent}<br>id=%{id}<br>ave_elo_ivits=%{customdata[0]}<br>ave_score_ivits=%{color}<extra></extra>\",\"ids\":[\"R1 Structures: Frequency and Overall Score for ivits/ac2/ 0-m_0-ts_0-lab_1-pi_0-ac1_1-ac2\",\"R1 Structures: Frequency and Overall Score for ivits/ac1/ 0-m_0-ts_0-lab_1-pi_1-ac1_0-ac2\",\"R1 Structures: Frequency and Overall Score for ivits/PI/ 0-m_0-ts_1-lab_1-pi_0-ac1_0-ac2\",\"R1 Structures: Frequency and Overall Score for ivits/PI/ 0-m_1-ts_1-lab_1-pi_0-ac1_0-ac2\",\"R1 Structures: Frequency and Overall Score for ivits/PI/ 0-m_2-ts_0-lab_1-pi_0-ac1_0-ac2\",\"R1 Structures: Frequency and Overall Score for ivits/ac1/ 1-m_0-ts_0-lab_1-pi_1-ac1_0-ac2\",\"R1 Structures: Frequency and Overall Score for ivits/PI/ 1-m_0-ts_1-lab_1-pi_0-ac1_0-ac2\",\"R1 Structures: Frequency and Overall Score for ivits/PI/ 1-m_1-ts_0-lab_1-pi_0-ac1_0-ac2\",\"R1 Structures: Frequency and Overall Score for ivits/PI/ 1-m_1-ts_1-lab_1-pi_0-ac1_0-ac2\",\"R1 Structures: Frequency and Overall Score for ivits/PI/ 1-m_2-ts_0-lab_1-pi_0-ac1_0-ac2\",\"R1 Structures: Frequency and Overall Score for ivits/PI/ 2-m_0-ts_0-lab_1-pi_0-ac1_0-ac2\",\"R1 Structures: Frequency and Overall Score for ivits/ac1/ 2-m_0-ts_0-lab_1-pi_1-ac1_0-ac2\",\"R1 Structures: Frequency and Overall Score for ivits/PI/ 2-m_0-ts_1-lab_1-pi_0-ac1_0-ac2\",\"R1 Structures: Frequency and Overall Score for ivits/PI/ 2-m_1-ts_0-lab_1-pi_0-ac1_0-ac2\",\"R1 Structures: Frequency and Overall Score for ivits/PI/ 2-m_2-ts_0-lab_1-pi_0-ac1_0-ac2\",\"R1 Structures: Frequency and Overall Score for ivits/PI/ 3-m_0-ts_1-lab_1-pi_0-ac1_0-ac2\",\"R1 Structures: Frequency and Overall Score for ivits/PI/ 3-m_1-ts_0-lab_1-pi_0-ac1_0-ac2\",\"R1 Structures: Frequency and Overall Score for ivits/PI/ 4-m_0-ts_0-lab_1-pi_0-ac1_0-ac2\",\"R1 Structures: Frequency and Overall Score for ivits/PI/ 4-m_0-ts_1-lab_1-pi_0-ac1_0-ac2\",\"R1 Structures: Frequency and Overall Score for ivits/PI/ 5-m_0-ts_0-lab_1-pi_0-ac1_0-ac2\",\"R1 Structures: Frequency and Overall Score for ivits/PI\",\"R1 Structures: Frequency and Overall Score for ivits/ac1\",\"R1 Structures: Frequency and Overall Score for ivits/ac2\",\"R1 Structures: Frequency and Overall Score for ivits\"],\"labels\":[\" 0-m_0-ts_0-lab_1-pi_0-ac1_1-ac2\",\" 0-m_0-ts_0-lab_1-pi_1-ac1_0-ac2\",\" 0-m_0-ts_1-lab_1-pi_0-ac1_0-ac2\",\" 0-m_1-ts_1-lab_1-pi_0-ac1_0-ac2\",\" 0-m_2-ts_0-lab_1-pi_0-ac1_0-ac2\",\" 1-m_0-ts_0-lab_1-pi_1-ac1_0-ac2\",\" 1-m_0-ts_1-lab_1-pi_0-ac1_0-ac2\",\" 1-m_1-ts_0-lab_1-pi_0-ac1_0-ac2\",\" 1-m_1-ts_1-lab_1-pi_0-ac1_0-ac2\",\" 1-m_2-ts_0-lab_1-pi_0-ac1_0-ac2\",\" 2-m_0-ts_0-lab_1-pi_0-ac1_0-ac2\",\" 2-m_0-ts_0-lab_1-pi_1-ac1_0-ac2\",\" 2-m_0-ts_1-lab_1-pi_0-ac1_0-ac2\",\" 2-m_1-ts_0-lab_1-pi_0-ac1_0-ac2\",\" 2-m_2-ts_0-lab_1-pi_0-ac1_0-ac2\",\" 3-m_0-ts_1-lab_1-pi_0-ac1_0-ac2\",\" 3-m_1-ts_0-lab_1-pi_0-ac1_0-ac2\",\" 4-m_0-ts_0-lab_1-pi_0-ac1_0-ac2\",\" 4-m_0-ts_1-lab_1-pi_0-ac1_0-ac2\",\" 5-m_0-ts_0-lab_1-pi_0-ac1_0-ac2\",\"PI\",\"ac1\",\"ac2\",\"R1 Structures: Frequency and Overall Score for ivits\"],\"marker\":{\"coloraxis\":\"coloraxis\",\"colors\":[159.71428571428572,154.52173913043478,150.67857142857142,150.94117647058823,153.75,158.04166666666666,163.06003430531732,144.76470588235293,151.63636363636363,155.42857142857142,146.975,213.0,168.53508771929825,154.02857142857144,141.0,164.41176470588235,148.75,158.6153846153846,185.0,181.0,161.58978328173376,156.53521126760563,159.71428571428572,161.31824817518248]},\"name\":\"\",\"parents\":[\"R1 Structures: Frequency and Overall Score for ivits/ac2\",\"R1 Structures: Frequency and Overall Score for ivits/ac1\",\"R1 Structures: Frequency and Overall Score for ivits/PI\",\"R1 Structures: Frequency and Overall Score for ivits/PI\",\"R1 Structures: Frequency and Overall Score for ivits/PI\",\"R1 Structures: Frequency and Overall Score for ivits/ac1\",\"R1 Structures: Frequency and Overall Score for ivits/PI\",\"R1 Structures: Frequency and Overall Score for ivits/PI\",\"R1 Structures: Frequency and Overall Score for ivits/PI\",\"R1 Structures: Frequency and Overall Score for ivits/PI\",\"R1 Structures: Frequency and Overall Score for ivits/PI\",\"R1 Structures: Frequency and Overall Score for ivits/ac1\",\"R1 Structures: Frequency and Overall Score for ivits/PI\",\"R1 Structures: Frequency and Overall Score for ivits/PI\",\"R1 Structures: Frequency and Overall Score for ivits/PI\",\"R1 Structures: Frequency and Overall Score for ivits/PI\",\"R1 Structures: Frequency and Overall Score for ivits/PI\",\"R1 Structures: Frequency and Overall Score for ivits/PI\",\"R1 Structures: Frequency and Overall Score for ivits/PI\",\"R1 Structures: Frequency and Overall Score for ivits/PI\",\"R1 Structures: Frequency and Overall Score for ivits\",\"R1 Structures: Frequency and Overall Score for ivits\",\"R1 Structures: Frequency and Overall Score for ivits\",\"\"],\"values\":[7,46,112,17,4,24,583,17,11,7,40,1,342,105,1,17,4,26,1,5,1292,71,7,1370],\"type\":\"treemap\"}],                        {\"template\":{\"data\":{\"bar\":[{\"error_x\":{\"color\":\"#2a3f5f\"},\"error_y\":{\"color\":\"#2a3f5f\"},\"marker\":{\"line\":{\"color\":\"#E5ECF6\",\"width\":0.5},\"pattern\":{\"fillmode\":\"overlay\",\"size\":10,\"solidity\":0.2}},\"type\":\"bar\"}],\"barpolar\":[{\"marker\":{\"line\":{\"color\":\"#E5ECF6\",\"width\":0.5},\"pattern\":{\"fillmode\":\"overlay\",\"size\":10,\"solidity\":0.2}},\"type\":\"barpolar\"}],\"carpet\":[{\"aaxis\":{\"endlinecolor\":\"#2a3f5f\",\"gridcolor\":\"white\",\"linecolor\":\"white\",\"minorgridcolor\":\"white\",\"startlinecolor\":\"#2a3f5f\"},\"baxis\":{\"endlinecolor\":\"#2a3f5f\",\"gridcolor\":\"white\",\"linecolor\":\"white\",\"minorgridcolor\":\"white\",\"startlinecolor\":\"#2a3f5f\"},\"type\":\"carpet\"}],\"choropleth\":[{\"colorbar\":{\"outlinewidth\":0,\"ticks\":\"\"},\"type\":\"choropleth\"}],\"contour\":[{\"colorbar\":{\"outlinewidth\":0,\"ticks\":\"\"},\"colorscale\":[[0.0,\"#0d0887\"],[0.1111111111111111,\"#46039f\"],[0.2222222222222222,\"#7201a8\"],[0.3333333333333333,\"#9c179e\"],[0.4444444444444444,\"#bd3786\"],[0.5555555555555556,\"#d8576b\"],[0.6666666666666666,\"#ed7953\"],[0.7777777777777778,\"#fb9f3a\"],[0.8888888888888888,\"#fdca26\"],[1.0,\"#f0f921\"]],\"type\":\"contour\"}],\"contourcarpet\":[{\"colorbar\":{\"outlinewidth\":0,\"ticks\":\"\"},\"type\":\"contourcarpet\"}],\"heatmap\":[{\"colorbar\":{\"outlinewidth\":0,\"ticks\":\"\"},\"colorscale\":[[0.0,\"#0d0887\"],[0.1111111111111111,\"#46039f\"],[0.2222222222222222,\"#7201a8\"],[0.3333333333333333,\"#9c179e\"],[0.4444444444444444,\"#bd3786\"],[0.5555555555555556,\"#d8576b\"],[0.6666666666666666,\"#ed7953\"],[0.7777777777777778,\"#fb9f3a\"],[0.8888888888888888,\"#fdca26\"],[1.0,\"#f0f921\"]],\"type\":\"heatmap\"}],\"heatmapgl\":[{\"colorbar\":{\"outlinewidth\":0,\"ticks\":\"\"},\"colorscale\":[[0.0,\"#0d0887\"],[0.1111111111111111,\"#46039f\"],[0.2222222222222222,\"#7201a8\"],[0.3333333333333333,\"#9c179e\"],[0.4444444444444444,\"#bd3786\"],[0.5555555555555556,\"#d8576b\"],[0.6666666666666666,\"#ed7953\"],[0.7777777777777778,\"#fb9f3a\"],[0.8888888888888888,\"#fdca26\"],[1.0,\"#f0f921\"]],\"type\":\"heatmapgl\"}],\"histogram\":[{\"marker\":{\"pattern\":{\"fillmode\":\"overlay\",\"size\":10,\"solidity\":0.2}},\"type\":\"histogram\"}],\"histogram2d\":[{\"colorbar\":{\"outlinewidth\":0,\"ticks\":\"\"},\"colorscale\":[[0.0,\"#0d0887\"],[0.1111111111111111,\"#46039f\"],[0.2222222222222222,\"#7201a8\"],[0.3333333333333333,\"#9c179e\"],[0.4444444444444444,\"#bd3786\"],[0.5555555555555556,\"#d8576b\"],[0.6666666666666666,\"#ed7953\"],[0.7777777777777778,\"#fb9f3a\"],[0.8888888888888888,\"#fdca26\"],[1.0,\"#f0f921\"]],\"type\":\"histogram2d\"}],\"histogram2dcontour\":[{\"colorbar\":{\"outlinewidth\":0,\"ticks\":\"\"},\"colorscale\":[[0.0,\"#0d0887\"],[0.1111111111111111,\"#46039f\"],[0.2222222222222222,\"#7201a8\"],[0.3333333333333333,\"#9c179e\"],[0.4444444444444444,\"#bd3786\"],[0.5555555555555556,\"#d8576b\"],[0.6666666666666666,\"#ed7953\"],[0.7777777777777778,\"#fb9f3a\"],[0.8888888888888888,\"#fdca26\"],[1.0,\"#f0f921\"]],\"type\":\"histogram2dcontour\"}],\"mesh3d\":[{\"colorbar\":{\"outlinewidth\":0,\"ticks\":\"\"},\"type\":\"mesh3d\"}],\"parcoords\":[{\"line\":{\"colorbar\":{\"outlinewidth\":0,\"ticks\":\"\"}},\"type\":\"parcoords\"}],\"pie\":[{\"automargin\":true,\"type\":\"pie\"}],\"scatter\":[{\"marker\":{\"colorbar\":{\"outlinewidth\":0,\"ticks\":\"\"}},\"type\":\"scatter\"}],\"scatter3d\":[{\"line\":{\"colorbar\":{\"outlinewidth\":0,\"ticks\":\"\"}},\"marker\":{\"colorbar\":{\"outlinewidth\":0,\"ticks\":\"\"}},\"type\":\"scatter3d\"}],\"scattercarpet\":[{\"marker\":{\"colorbar\":{\"outlinewidth\":0,\"ticks\":\"\"}},\"type\":\"scattercarpet\"}],\"scattergeo\":[{\"marker\":{\"colorbar\":{\"outlinewidth\":0,\"ticks\":\"\"}},\"type\":\"scattergeo\"}],\"scattergl\":[{\"marker\":{\"colorbar\":{\"outlinewidth\":0,\"ticks\":\"\"}},\"type\":\"scattergl\"}],\"scattermapbox\":[{\"marker\":{\"colorbar\":{\"outlinewidth\":0,\"ticks\":\"\"}},\"type\":\"scattermapbox\"}],\"scatterpolar\":[{\"marker\":{\"colorbar\":{\"outlinewidth\":0,\"ticks\":\"\"}},\"type\":\"scatterpolar\"}],\"scatterpolargl\":[{\"marker\":{\"colorbar\":{\"outlinewidth\":0,\"ticks\":\"\"}},\"type\":\"scatterpolargl\"}],\"scatterternary\":[{\"marker\":{\"colorbar\":{\"outlinewidth\":0,\"ticks\":\"\"}},\"type\":\"scatterternary\"}],\"surface\":[{\"colorbar\":{\"outlinewidth\":0,\"ticks\":\"\"},\"colorscale\":[[0.0,\"#0d0887\"],[0.1111111111111111,\"#46039f\"],[0.2222222222222222,\"#7201a8\"],[0.3333333333333333,\"#9c179e\"],[0.4444444444444444,\"#bd3786\"],[0.5555555555555556,\"#d8576b\"],[0.6666666666666666,\"#ed7953\"],[0.7777777777777778,\"#fb9f3a\"],[0.8888888888888888,\"#fdca26\"],[1.0,\"#f0f921\"]],\"type\":\"surface\"}],\"table\":[{\"cells\":{\"fill\":{\"color\":\"#EBF0F8\"},\"line\":{\"color\":\"white\"}},\"header\":{\"fill\":{\"color\":\"#C8D4E3\"},\"line\":{\"color\":\"white\"}},\"type\":\"table\"}]},\"layout\":{\"annotationdefaults\":{\"arrowcolor\":\"#2a3f5f\",\"arrowhead\":0,\"arrowwidth\":1},\"autotypenumbers\":\"strict\",\"coloraxis\":{\"colorbar\":{\"outlinewidth\":0,\"ticks\":\"\"}},\"colorscale\":{\"diverging\":[[0,\"#8e0152\"],[0.1,\"#c51b7d\"],[0.2,\"#de77ae\"],[0.3,\"#f1b6da\"],[0.4,\"#fde0ef\"],[0.5,\"#f7f7f7\"],[0.6,\"#e6f5d0\"],[0.7,\"#b8e186\"],[0.8,\"#7fbc41\"],[0.9,\"#4d9221\"],[1,\"#276419\"]],\"sequential\":[[0.0,\"#0d0887\"],[0.1111111111111111,\"#46039f\"],[0.2222222222222222,\"#7201a8\"],[0.3333333333333333,\"#9c179e\"],[0.4444444444444444,\"#bd3786\"],[0.5555555555555556,\"#d8576b\"],[0.6666666666666666,\"#ed7953\"],[0.7777777777777778,\"#fb9f3a\"],[0.8888888888888888,\"#fdca26\"],[1.0,\"#f0f921\"]],\"sequentialminus\":[[0.0,\"#0d0887\"],[0.1111111111111111,\"#46039f\"],[0.2222222222222222,\"#7201a8\"],[0.3333333333333333,\"#9c179e\"],[0.4444444444444444,\"#bd3786\"],[0.5555555555555556,\"#d8576b\"],[0.6666666666666666,\"#ed7953\"],[0.7777777777777778,\"#fb9f3a\"],[0.8888888888888888,\"#fdca26\"],[1.0,\"#f0f921\"]]},\"colorway\":[\"#636efa\",\"#EF553B\",\"#00cc96\",\"#ab63fa\",\"#FFA15A\",\"#19d3f3\",\"#FF6692\",\"#B6E880\",\"#FF97FF\",\"#FECB52\"],\"font\":{\"color\":\"#2a3f5f\"},\"geo\":{\"bgcolor\":\"white\",\"lakecolor\":\"white\",\"landcolor\":\"#E5ECF6\",\"showlakes\":true,\"showland\":true,\"subunitcolor\":\"white\"},\"hoverlabel\":{\"align\":\"left\"},\"hovermode\":\"closest\",\"mapbox\":{\"style\":\"light\"},\"paper_bgcolor\":\"white\",\"plot_bgcolor\":\"#E5ECF6\",\"polar\":{\"angularaxis\":{\"gridcolor\":\"white\",\"linecolor\":\"white\",\"ticks\":\"\"},\"bgcolor\":\"#E5ECF6\",\"radialaxis\":{\"gridcolor\":\"white\",\"linecolor\":\"white\",\"ticks\":\"\"}},\"scene\":{\"xaxis\":{\"backgroundcolor\":\"#E5ECF6\",\"gridcolor\":\"white\",\"gridwidth\":2,\"linecolor\":\"white\",\"showbackground\":true,\"ticks\":\"\",\"zerolinecolor\":\"white\"},\"yaxis\":{\"backgroundcolor\":\"#E5ECF6\",\"gridcolor\":\"white\",\"gridwidth\":2,\"linecolor\":\"white\",\"showbackground\":true,\"ticks\":\"\",\"zerolinecolor\":\"white\"},\"zaxis\":{\"backgroundcolor\":\"#E5ECF6\",\"gridcolor\":\"white\",\"gridwidth\":2,\"linecolor\":\"white\",\"showbackground\":true,\"ticks\":\"\",\"zerolinecolor\":\"white\"}},\"shapedefaults\":{\"line\":{\"color\":\"#2a3f5f\"}},\"ternary\":{\"aaxis\":{\"gridcolor\":\"white\",\"linecolor\":\"white\",\"ticks\":\"\"},\"baxis\":{\"gridcolor\":\"white\",\"linecolor\":\"white\",\"ticks\":\"\"},\"bgcolor\":\"#E5ECF6\",\"caxis\":{\"gridcolor\":\"white\",\"linecolor\":\"white\",\"ticks\":\"\"}},\"title\":{\"x\":0.05},\"xaxis\":{\"automargin\":true,\"gridcolor\":\"white\",\"linecolor\":\"white\",\"ticks\":\"\",\"title\":{\"standoff\":15},\"zerolinecolor\":\"white\",\"zerolinewidth\":2},\"yaxis\":{\"automargin\":true,\"gridcolor\":\"white\",\"linecolor\":\"white\",\"ticks\":\"\",\"title\":{\"standoff\":15},\"zerolinecolor\":\"white\",\"zerolinewidth\":2}}},\"coloraxis\":{\"colorbar\":{\"title\":{\"text\":\"ave_score_ivits\"}},\"colorscale\":[[0.0,\"rgb(103,0,31)\"],[0.1,\"rgb(178,24,43)\"],[0.2,\"rgb(214,96,77)\"],[0.3,\"rgb(244,165,130)\"],[0.4,\"rgb(253,219,199)\"],[0.5,\"rgb(247,247,247)\"],[0.6,\"rgb(209,229,240)\"],[0.7,\"rgb(146,197,222)\"],[0.8,\"rgb(67,147,195)\"],[0.9,\"rgb(33,102,172)\"],[1.0,\"rgb(5,48,97)\"]],\"cmid\":153.409394703657},\"legend\":{\"tracegroupgap\":0},\"margin\":{\"t\":50,\"l\":25,\"r\":25,\"b\":25},\"title\":{\"text\":\"R1 Structures: Frequency and Impact on Score Relative to All Factions Average (153.41): ivits\"}},                        {\"responsive\": true}                    ).then(function(){\n",
       "                            \n",
       "var gd = document.getElementById('4755e1a5-9371-46a1-9a63-4fc9c9788079');\n",
       "var x = new MutationObserver(function (mutations, observer) {{\n",
       "        var display = window.getComputedStyle(gd).display;\n",
       "        if (!display || display === 'none') {{\n",
       "            console.log([gd, 'removed!']);\n",
       "            Plotly.purge(gd);\n",
       "            observer.disconnect();\n",
       "        }}\n",
       "}});\n",
       "\n",
       "// Listen for the removal of the full notebook cells\n",
       "var notebookContainer = gd.closest('#notebook-container');\n",
       "if (notebookContainer) {{\n",
       "    x.observe(notebookContainer, {childList: true});\n",
       "}}\n",
       "\n",
       "// Listen for the clearing of the current output cell\n",
       "var outputEl = gd.closest('.output');\n",
       "if (outputEl) {{\n",
       "    x.observe(outputEl, {childList: true});\n",
       "}}\n",
       "\n",
       "                        })                };                });            </script>        </div>"
      ]
     },
     "metadata": {},
     "output_type": "display_data"
    },
    {
     "data": {
      "application/vnd.plotly.v1+json": {
       "config": {
        "plotlyServerURL": "https://plot.ly"
       },
       "data": [
        {
         "branchvalues": "total",
         "customdata": [
          [
           217.84615384615384,
           160.82051282051282
          ],
          [
           224,
           155
          ],
          [
           175.75,
           155.5
          ],
          [
           175.36,
           155.48
          ],
          [
           155.66666666666666,
           164.33333333333334
          ],
          [
           429,
           176
          ],
          [
           227,
           140
          ],
          [
           223.38432835820896,
           158.02611940298507
          ],
          [
           208.76288659793815,
           162.35051546391753
          ],
          [
           217.25,
           145.25
          ],
          [
           100,
           140
          ],
          [
           198.21428571428572,
           163.14285714285714
          ],
          [
           245.31203007518798,
           160.71428571428572
          ],
          [
           257.9260355029586,
           167.84023668639054
          ],
          [
           167.0344827586207,
           137.44827586206895
          ],
          [
           259,
           159
          ],
          [
           192,
           161.25
          ],
          [
           204.93548387096774,
           150.8709677419355
          ],
          [
           191.5,
           144.125
          ],
          [
           242.82716049382717,
           160.8641975308642
          ],
          [
           234,
           163
          ],
          [
           327,
           178
          ],
          [
           259.3333333333333,
           168
          ],
          [
           185.27586206896552,
           144.72413793103448
          ],
          [
           289.5,
           163.5
          ],
          [
           365,
           165
          ],
          [
           285.75,
           159.33333333333334
          ],
          [
           282.5,
           177
          ],
          [
           "(?)",
           164.3925925925926
          ],
          [
           "(?)",
           159.11313868613138
          ],
          [
           227,
           140
          ],
          [
           "(?)",
           148.08928571428572
          ],
          [
           "(?)",
           160.84206586826346
          ]
         ],
         "domain": {
          "x": [
           0,
           1
          ],
          "y": [
           0,
           1
          ]
         },
         "hovertemplate": "labels=%{label}<br>class_counts=%{value}<br>parent=%{parent}<br>id=%{id}<br>ave_elo_itars=%{customdata[0]}<br>ave_score_itars=%{color}<extra></extra>",
         "ids": [
          "R1 Structures: Frequency and Overall Score for itars/PI/ 0-m_0-ts_1-lab_1-pi_0-ac1_0-ac2",
          "R1 Structures: Frequency and Overall Score for itars/lab/ 0-m_0-ts_2-lab_0-pi_0-ac1_0-ac2",
          "R1 Structures: Frequency and Overall Score for itars/ac1/ 0-m_1-ts_0-lab_0-pi_1-ac1_0-ac2",
          "R1 Structures: Frequency and Overall Score for itars/PI/ 0-m_1-ts_0-lab_1-pi_0-ac1_0-ac2",
          "R1 Structures: Frequency and Overall Score for itars/lab/ 0-m_1-ts_1-lab_0-pi_0-ac1_0-ac2",
          "R1 Structures: Frequency and Overall Score for itars/PI/ 0-m_2-ts_0-lab_1-pi_0-ac1_0-ac2",
          "R1 Structures: Frequency and Overall Score for itars/ac2/ 1-m_0-ts_0-lab_0-pi_0-ac1_1-ac2",
          "R1 Structures: Frequency and Overall Score for itars/ac1/ 1-m_0-ts_0-lab_0-pi_1-ac1_0-ac2",
          "R1 Structures: Frequency and Overall Score for itars/PI/ 1-m_0-ts_0-lab_1-pi_0-ac1_0-ac2",
          "R1 Structures: Frequency and Overall Score for itars/PI/ 1-m_0-ts_1-lab_1-pi_0-ac1_0-ac2",
          "R1 Structures: Frequency and Overall Score for itars/ac1/ 1-m_1-ts_0-lab_0-pi_1-ac1_0-ac2",
          "R1 Structures: Frequency and Overall Score for itars/PI/ 1-m_1-ts_0-lab_1-pi_0-ac1_0-ac2",
          "R1 Structures: Frequency and Overall Score for itars/ac1/ 2-m_0-ts_0-lab_0-pi_1-ac1_0-ac2",
          "R1 Structures: Frequency and Overall Score for itars/PI/ 2-m_0-ts_0-lab_1-pi_0-ac1_0-ac2",
          "R1 Structures: Frequency and Overall Score for itars/lab/ 2-m_0-ts_1-lab_0-pi_0-ac1_0-ac2",
          "R1 Structures: Frequency and Overall Score for itars/lab/ 2-m_0-ts_2-lab_0-pi_0-ac1_0-ac2",
          "R1 Structures: Frequency and Overall Score for itars/PI/ 2-m_1-ts_0-lab_1-pi_0-ac1_0-ac2",
          "R1 Structures: Frequency and Overall Score for itars/lab/ 2-m_1-ts_1-lab_0-pi_0-ac1_0-ac2",
          "R1 Structures: Frequency and Overall Score for itars/ac1/ 3-m_0-ts_0-lab_0-pi_1-ac1_0-ac2",
          "R1 Structures: Frequency and Overall Score for itars/PI/ 3-m_0-ts_0-lab_1-pi_0-ac1_0-ac2",
          "R1 Structures: Frequency and Overall Score for itars/lab/ 3-m_1-ts_1-lab_0-pi_0-ac1_0-ac2",
          "R1 Structures: Frequency and Overall Score for itars/ac1/ 4-m_0-ts_0-lab_0-pi_1-ac1_0-ac2",
          "R1 Structures: Frequency and Overall Score for itars/PI/ 4-m_0-ts_0-lab_1-pi_0-ac1_0-ac2",
          "R1 Structures: Frequency and Overall Score for itars/lab/ 4-m_0-ts_1-lab_0-pi_0-ac1_0-ac2",
          "R1 Structures: Frequency and Overall Score for itars/lab/ 4-m_1-ts_1-lab_0-pi_0-ac1_0-ac2",
          "R1 Structures: Frequency and Overall Score for itars/PI/ 5-m_0-ts_0-lab_1-pi_0-ac1_0-ac2",
          "R1 Structures: Frequency and Overall Score for itars/lab/ 5-m_0-ts_1-lab_0-pi_0-ac1_0-ac2",
          "R1 Structures: Frequency and Overall Score for itars/lab/ 6-m_0-ts_1-lab_0-pi_0-ac1_0-ac2",
          "R1 Structures: Frequency and Overall Score for itars/PI",
          "R1 Structures: Frequency and Overall Score for itars/ac1",
          "R1 Structures: Frequency and Overall Score for itars/ac2",
          "R1 Structures: Frequency and Overall Score for itars/lab",
          "R1 Structures: Frequency and Overall Score for itars"
         ],
         "labels": [
          " 0-m_0-ts_1-lab_1-pi_0-ac1_0-ac2",
          " 0-m_0-ts_2-lab_0-pi_0-ac1_0-ac2",
          " 0-m_1-ts_0-lab_0-pi_1-ac1_0-ac2",
          " 0-m_1-ts_0-lab_1-pi_0-ac1_0-ac2",
          " 0-m_1-ts_1-lab_0-pi_0-ac1_0-ac2",
          " 0-m_2-ts_0-lab_1-pi_0-ac1_0-ac2",
          " 1-m_0-ts_0-lab_0-pi_0-ac1_1-ac2",
          " 1-m_0-ts_0-lab_0-pi_1-ac1_0-ac2",
          " 1-m_0-ts_0-lab_1-pi_0-ac1_0-ac2",
          " 1-m_0-ts_1-lab_1-pi_0-ac1_0-ac2",
          " 1-m_1-ts_0-lab_0-pi_1-ac1_0-ac2",
          " 1-m_1-ts_0-lab_1-pi_0-ac1_0-ac2",
          " 2-m_0-ts_0-lab_0-pi_1-ac1_0-ac2",
          " 2-m_0-ts_0-lab_1-pi_0-ac1_0-ac2",
          " 2-m_0-ts_1-lab_0-pi_0-ac1_0-ac2",
          " 2-m_0-ts_2-lab_0-pi_0-ac1_0-ac2",
          " 2-m_1-ts_0-lab_1-pi_0-ac1_0-ac2",
          " 2-m_1-ts_1-lab_0-pi_0-ac1_0-ac2",
          " 3-m_0-ts_0-lab_0-pi_1-ac1_0-ac2",
          " 3-m_0-ts_0-lab_1-pi_0-ac1_0-ac2",
          " 3-m_1-ts_1-lab_0-pi_0-ac1_0-ac2",
          " 4-m_0-ts_0-lab_0-pi_1-ac1_0-ac2",
          " 4-m_0-ts_0-lab_1-pi_0-ac1_0-ac2",
          " 4-m_0-ts_1-lab_0-pi_0-ac1_0-ac2",
          " 4-m_1-ts_1-lab_0-pi_0-ac1_0-ac2",
          " 5-m_0-ts_0-lab_1-pi_0-ac1_0-ac2",
          " 5-m_0-ts_1-lab_0-pi_0-ac1_0-ac2",
          " 6-m_0-ts_1-lab_0-pi_0-ac1_0-ac2",
          "PI",
          "ac1",
          "ac2",
          "lab",
          "R1 Structures: Frequency and Overall Score for itars"
         ],
         "marker": {
          "coloraxis": "coloraxis",
          "colors": [
           160.82051282051282,
           155,
           155.5,
           155.48,
           164.33333333333334,
           176,
           140,
           158.02611940298507,
           162.35051546391753,
           145.25,
           140,
           163.14285714285714,
           160.71428571428572,
           167.84023668639054,
           137.44827586206895,
           159,
           161.25,
           150.8709677419355,
           144.125,
           160.8641975308642,
           163,
           178,
           168,
           144.72413793103448,
           163.5,
           165,
           159.33333333333334,
           177,
           164.3925925925926,
           159.11313868613138,
           140,
           148.08928571428572,
           160.84206586826346
          ]
         },
         "name": "",
         "parents": [
          "R1 Structures: Frequency and Overall Score for itars/PI",
          "R1 Structures: Frequency and Overall Score for itars/lab",
          "R1 Structures: Frequency and Overall Score for itars/ac1",
          "R1 Structures: Frequency and Overall Score for itars/PI",
          "R1 Structures: Frequency and Overall Score for itars/lab",
          "R1 Structures: Frequency and Overall Score for itars/PI",
          "R1 Structures: Frequency and Overall Score for itars/ac2",
          "R1 Structures: Frequency and Overall Score for itars/ac1",
          "R1 Structures: Frequency and Overall Score for itars/PI",
          "R1 Structures: Frequency and Overall Score for itars/PI",
          "R1 Structures: Frequency and Overall Score for itars/ac1",
          "R1 Structures: Frequency and Overall Score for itars/PI",
          "R1 Structures: Frequency and Overall Score for itars/ac1",
          "R1 Structures: Frequency and Overall Score for itars/PI",
          "R1 Structures: Frequency and Overall Score for itars/lab",
          "R1 Structures: Frequency and Overall Score for itars/lab",
          "R1 Structures: Frequency and Overall Score for itars/PI",
          "R1 Structures: Frequency and Overall Score for itars/lab",
          "R1 Structures: Frequency and Overall Score for itars/ac1",
          "R1 Structures: Frequency and Overall Score for itars/PI",
          "R1 Structures: Frequency and Overall Score for itars/lab",
          "R1 Structures: Frequency and Overall Score for itars/ac1",
          "R1 Structures: Frequency and Overall Score for itars/PI",
          "R1 Structures: Frequency and Overall Score for itars/lab",
          "R1 Structures: Frequency and Overall Score for itars/lab",
          "R1 Structures: Frequency and Overall Score for itars/PI",
          "R1 Structures: Frequency and Overall Score for itars/lab",
          "R1 Structures: Frequency and Overall Score for itars/lab",
          "R1 Structures: Frequency and Overall Score for itars",
          "R1 Structures: Frequency and Overall Score for itars",
          "R1 Structures: Frequency and Overall Score for itars",
          "R1 Structures: Frequency and Overall Score for itars",
          ""
         ],
         "type": "treemap",
         "values": [
          39,
          1,
          4,
          25,
          3,
          1,
          1,
          268,
          97,
          12,
          1,
          70,
          266,
          338,
          29,
          1,
          8,
          31,
          8,
          81,
          2,
          1,
          3,
          29,
          2,
          1,
          12,
          2,
          675,
          548,
          1,
          112,
          1336
         ]
        }
       ],
       "layout": {
        "coloraxis": {
         "cmid": 153.409394703657,
         "colorbar": {
          "title": {
           "text": "ave_score_itars"
          }
         },
         "colorscale": [
          [
           0,
           "rgb(103,0,31)"
          ],
          [
           0.1,
           "rgb(178,24,43)"
          ],
          [
           0.2,
           "rgb(214,96,77)"
          ],
          [
           0.3,
           "rgb(244,165,130)"
          ],
          [
           0.4,
           "rgb(253,219,199)"
          ],
          [
           0.5,
           "rgb(247,247,247)"
          ],
          [
           0.6,
           "rgb(209,229,240)"
          ],
          [
           0.7,
           "rgb(146,197,222)"
          ],
          [
           0.8,
           "rgb(67,147,195)"
          ],
          [
           0.9,
           "rgb(33,102,172)"
          ],
          [
           1,
           "rgb(5,48,97)"
          ]
         ]
        },
        "legend": {
         "tracegroupgap": 0
        },
        "margin": {
         "b": 25,
         "l": 25,
         "r": 25,
         "t": 50
        },
        "template": {
         "data": {
          "bar": [
           {
            "error_x": {
             "color": "#2a3f5f"
            },
            "error_y": {
             "color": "#2a3f5f"
            },
            "marker": {
             "line": {
              "color": "#E5ECF6",
              "width": 0.5
             },
             "pattern": {
              "fillmode": "overlay",
              "size": 10,
              "solidity": 0.2
             }
            },
            "type": "bar"
           }
          ],
          "barpolar": [
           {
            "marker": {
             "line": {
              "color": "#E5ECF6",
              "width": 0.5
             },
             "pattern": {
              "fillmode": "overlay",
              "size": 10,
              "solidity": 0.2
             }
            },
            "type": "barpolar"
           }
          ],
          "carpet": [
           {
            "aaxis": {
             "endlinecolor": "#2a3f5f",
             "gridcolor": "white",
             "linecolor": "white",
             "minorgridcolor": "white",
             "startlinecolor": "#2a3f5f"
            },
            "baxis": {
             "endlinecolor": "#2a3f5f",
             "gridcolor": "white",
             "linecolor": "white",
             "minorgridcolor": "white",
             "startlinecolor": "#2a3f5f"
            },
            "type": "carpet"
           }
          ],
          "choropleth": [
           {
            "colorbar": {
             "outlinewidth": 0,
             "ticks": ""
            },
            "type": "choropleth"
           }
          ],
          "contour": [
           {
            "colorbar": {
             "outlinewidth": 0,
             "ticks": ""
            },
            "colorscale": [
             [
              0,
              "#0d0887"
             ],
             [
              0.1111111111111111,
              "#46039f"
             ],
             [
              0.2222222222222222,
              "#7201a8"
             ],
             [
              0.3333333333333333,
              "#9c179e"
             ],
             [
              0.4444444444444444,
              "#bd3786"
             ],
             [
              0.5555555555555556,
              "#d8576b"
             ],
             [
              0.6666666666666666,
              "#ed7953"
             ],
             [
              0.7777777777777778,
              "#fb9f3a"
             ],
             [
              0.8888888888888888,
              "#fdca26"
             ],
             [
              1,
              "#f0f921"
             ]
            ],
            "type": "contour"
           }
          ],
          "contourcarpet": [
           {
            "colorbar": {
             "outlinewidth": 0,
             "ticks": ""
            },
            "type": "contourcarpet"
           }
          ],
          "heatmap": [
           {
            "colorbar": {
             "outlinewidth": 0,
             "ticks": ""
            },
            "colorscale": [
             [
              0,
              "#0d0887"
             ],
             [
              0.1111111111111111,
              "#46039f"
             ],
             [
              0.2222222222222222,
              "#7201a8"
             ],
             [
              0.3333333333333333,
              "#9c179e"
             ],
             [
              0.4444444444444444,
              "#bd3786"
             ],
             [
              0.5555555555555556,
              "#d8576b"
             ],
             [
              0.6666666666666666,
              "#ed7953"
             ],
             [
              0.7777777777777778,
              "#fb9f3a"
             ],
             [
              0.8888888888888888,
              "#fdca26"
             ],
             [
              1,
              "#f0f921"
             ]
            ],
            "type": "heatmap"
           }
          ],
          "heatmapgl": [
           {
            "colorbar": {
             "outlinewidth": 0,
             "ticks": ""
            },
            "colorscale": [
             [
              0,
              "#0d0887"
             ],
             [
              0.1111111111111111,
              "#46039f"
             ],
             [
              0.2222222222222222,
              "#7201a8"
             ],
             [
              0.3333333333333333,
              "#9c179e"
             ],
             [
              0.4444444444444444,
              "#bd3786"
             ],
             [
              0.5555555555555556,
              "#d8576b"
             ],
             [
              0.6666666666666666,
              "#ed7953"
             ],
             [
              0.7777777777777778,
              "#fb9f3a"
             ],
             [
              0.8888888888888888,
              "#fdca26"
             ],
             [
              1,
              "#f0f921"
             ]
            ],
            "type": "heatmapgl"
           }
          ],
          "histogram": [
           {
            "marker": {
             "pattern": {
              "fillmode": "overlay",
              "size": 10,
              "solidity": 0.2
             }
            },
            "type": "histogram"
           }
          ],
          "histogram2d": [
           {
            "colorbar": {
             "outlinewidth": 0,
             "ticks": ""
            },
            "colorscale": [
             [
              0,
              "#0d0887"
             ],
             [
              0.1111111111111111,
              "#46039f"
             ],
             [
              0.2222222222222222,
              "#7201a8"
             ],
             [
              0.3333333333333333,
              "#9c179e"
             ],
             [
              0.4444444444444444,
              "#bd3786"
             ],
             [
              0.5555555555555556,
              "#d8576b"
             ],
             [
              0.6666666666666666,
              "#ed7953"
             ],
             [
              0.7777777777777778,
              "#fb9f3a"
             ],
             [
              0.8888888888888888,
              "#fdca26"
             ],
             [
              1,
              "#f0f921"
             ]
            ],
            "type": "histogram2d"
           }
          ],
          "histogram2dcontour": [
           {
            "colorbar": {
             "outlinewidth": 0,
             "ticks": ""
            },
            "colorscale": [
             [
              0,
              "#0d0887"
             ],
             [
              0.1111111111111111,
              "#46039f"
             ],
             [
              0.2222222222222222,
              "#7201a8"
             ],
             [
              0.3333333333333333,
              "#9c179e"
             ],
             [
              0.4444444444444444,
              "#bd3786"
             ],
             [
              0.5555555555555556,
              "#d8576b"
             ],
             [
              0.6666666666666666,
              "#ed7953"
             ],
             [
              0.7777777777777778,
              "#fb9f3a"
             ],
             [
              0.8888888888888888,
              "#fdca26"
             ],
             [
              1,
              "#f0f921"
             ]
            ],
            "type": "histogram2dcontour"
           }
          ],
          "mesh3d": [
           {
            "colorbar": {
             "outlinewidth": 0,
             "ticks": ""
            },
            "type": "mesh3d"
           }
          ],
          "parcoords": [
           {
            "line": {
             "colorbar": {
              "outlinewidth": 0,
              "ticks": ""
             }
            },
            "type": "parcoords"
           }
          ],
          "pie": [
           {
            "automargin": true,
            "type": "pie"
           }
          ],
          "scatter": [
           {
            "marker": {
             "colorbar": {
              "outlinewidth": 0,
              "ticks": ""
             }
            },
            "type": "scatter"
           }
          ],
          "scatter3d": [
           {
            "line": {
             "colorbar": {
              "outlinewidth": 0,
              "ticks": ""
             }
            },
            "marker": {
             "colorbar": {
              "outlinewidth": 0,
              "ticks": ""
             }
            },
            "type": "scatter3d"
           }
          ],
          "scattercarpet": [
           {
            "marker": {
             "colorbar": {
              "outlinewidth": 0,
              "ticks": ""
             }
            },
            "type": "scattercarpet"
           }
          ],
          "scattergeo": [
           {
            "marker": {
             "colorbar": {
              "outlinewidth": 0,
              "ticks": ""
             }
            },
            "type": "scattergeo"
           }
          ],
          "scattergl": [
           {
            "marker": {
             "colorbar": {
              "outlinewidth": 0,
              "ticks": ""
             }
            },
            "type": "scattergl"
           }
          ],
          "scattermapbox": [
           {
            "marker": {
             "colorbar": {
              "outlinewidth": 0,
              "ticks": ""
             }
            },
            "type": "scattermapbox"
           }
          ],
          "scatterpolar": [
           {
            "marker": {
             "colorbar": {
              "outlinewidth": 0,
              "ticks": ""
             }
            },
            "type": "scatterpolar"
           }
          ],
          "scatterpolargl": [
           {
            "marker": {
             "colorbar": {
              "outlinewidth": 0,
              "ticks": ""
             }
            },
            "type": "scatterpolargl"
           }
          ],
          "scatterternary": [
           {
            "marker": {
             "colorbar": {
              "outlinewidth": 0,
              "ticks": ""
             }
            },
            "type": "scatterternary"
           }
          ],
          "surface": [
           {
            "colorbar": {
             "outlinewidth": 0,
             "ticks": ""
            },
            "colorscale": [
             [
              0,
              "#0d0887"
             ],
             [
              0.1111111111111111,
              "#46039f"
             ],
             [
              0.2222222222222222,
              "#7201a8"
             ],
             [
              0.3333333333333333,
              "#9c179e"
             ],
             [
              0.4444444444444444,
              "#bd3786"
             ],
             [
              0.5555555555555556,
              "#d8576b"
             ],
             [
              0.6666666666666666,
              "#ed7953"
             ],
             [
              0.7777777777777778,
              "#fb9f3a"
             ],
             [
              0.8888888888888888,
              "#fdca26"
             ],
             [
              1,
              "#f0f921"
             ]
            ],
            "type": "surface"
           }
          ],
          "table": [
           {
            "cells": {
             "fill": {
              "color": "#EBF0F8"
             },
             "line": {
              "color": "white"
             }
            },
            "header": {
             "fill": {
              "color": "#C8D4E3"
             },
             "line": {
              "color": "white"
             }
            },
            "type": "table"
           }
          ]
         },
         "layout": {
          "annotationdefaults": {
           "arrowcolor": "#2a3f5f",
           "arrowhead": 0,
           "arrowwidth": 1
          },
          "autotypenumbers": "strict",
          "coloraxis": {
           "colorbar": {
            "outlinewidth": 0,
            "ticks": ""
           }
          },
          "colorscale": {
           "diverging": [
            [
             0,
             "#8e0152"
            ],
            [
             0.1,
             "#c51b7d"
            ],
            [
             0.2,
             "#de77ae"
            ],
            [
             0.3,
             "#f1b6da"
            ],
            [
             0.4,
             "#fde0ef"
            ],
            [
             0.5,
             "#f7f7f7"
            ],
            [
             0.6,
             "#e6f5d0"
            ],
            [
             0.7,
             "#b8e186"
            ],
            [
             0.8,
             "#7fbc41"
            ],
            [
             0.9,
             "#4d9221"
            ],
            [
             1,
             "#276419"
            ]
           ],
           "sequential": [
            [
             0,
             "#0d0887"
            ],
            [
             0.1111111111111111,
             "#46039f"
            ],
            [
             0.2222222222222222,
             "#7201a8"
            ],
            [
             0.3333333333333333,
             "#9c179e"
            ],
            [
             0.4444444444444444,
             "#bd3786"
            ],
            [
             0.5555555555555556,
             "#d8576b"
            ],
            [
             0.6666666666666666,
             "#ed7953"
            ],
            [
             0.7777777777777778,
             "#fb9f3a"
            ],
            [
             0.8888888888888888,
             "#fdca26"
            ],
            [
             1,
             "#f0f921"
            ]
           ],
           "sequentialminus": [
            [
             0,
             "#0d0887"
            ],
            [
             0.1111111111111111,
             "#46039f"
            ],
            [
             0.2222222222222222,
             "#7201a8"
            ],
            [
             0.3333333333333333,
             "#9c179e"
            ],
            [
             0.4444444444444444,
             "#bd3786"
            ],
            [
             0.5555555555555556,
             "#d8576b"
            ],
            [
             0.6666666666666666,
             "#ed7953"
            ],
            [
             0.7777777777777778,
             "#fb9f3a"
            ],
            [
             0.8888888888888888,
             "#fdca26"
            ],
            [
             1,
             "#f0f921"
            ]
           ]
          },
          "colorway": [
           "#636efa",
           "#EF553B",
           "#00cc96",
           "#ab63fa",
           "#FFA15A",
           "#19d3f3",
           "#FF6692",
           "#B6E880",
           "#FF97FF",
           "#FECB52"
          ],
          "font": {
           "color": "#2a3f5f"
          },
          "geo": {
           "bgcolor": "white",
           "lakecolor": "white",
           "landcolor": "#E5ECF6",
           "showlakes": true,
           "showland": true,
           "subunitcolor": "white"
          },
          "hoverlabel": {
           "align": "left"
          },
          "hovermode": "closest",
          "mapbox": {
           "style": "light"
          },
          "paper_bgcolor": "white",
          "plot_bgcolor": "#E5ECF6",
          "polar": {
           "angularaxis": {
            "gridcolor": "white",
            "linecolor": "white",
            "ticks": ""
           },
           "bgcolor": "#E5ECF6",
           "radialaxis": {
            "gridcolor": "white",
            "linecolor": "white",
            "ticks": ""
           }
          },
          "scene": {
           "xaxis": {
            "backgroundcolor": "#E5ECF6",
            "gridcolor": "white",
            "gridwidth": 2,
            "linecolor": "white",
            "showbackground": true,
            "ticks": "",
            "zerolinecolor": "white"
           },
           "yaxis": {
            "backgroundcolor": "#E5ECF6",
            "gridcolor": "white",
            "gridwidth": 2,
            "linecolor": "white",
            "showbackground": true,
            "ticks": "",
            "zerolinecolor": "white"
           },
           "zaxis": {
            "backgroundcolor": "#E5ECF6",
            "gridcolor": "white",
            "gridwidth": 2,
            "linecolor": "white",
            "showbackground": true,
            "ticks": "",
            "zerolinecolor": "white"
           }
          },
          "shapedefaults": {
           "line": {
            "color": "#2a3f5f"
           }
          },
          "ternary": {
           "aaxis": {
            "gridcolor": "white",
            "linecolor": "white",
            "ticks": ""
           },
           "baxis": {
            "gridcolor": "white",
            "linecolor": "white",
            "ticks": ""
           },
           "bgcolor": "#E5ECF6",
           "caxis": {
            "gridcolor": "white",
            "linecolor": "white",
            "ticks": ""
           }
          },
          "title": {
           "x": 0.05
          },
          "xaxis": {
           "automargin": true,
           "gridcolor": "white",
           "linecolor": "white",
           "ticks": "",
           "title": {
            "standoff": 15
           },
           "zerolinecolor": "white",
           "zerolinewidth": 2
          },
          "yaxis": {
           "automargin": true,
           "gridcolor": "white",
           "linecolor": "white",
           "ticks": "",
           "title": {
            "standoff": 15
           },
           "zerolinecolor": "white",
           "zerolinewidth": 2
          }
         }
        },
        "title": {
         "text": "R1 Structures: Frequency and Impact on Score Relative to All Factions Average (153.41): itars"
        }
       }
      },
      "text/html": [
       "<div>                            <div id=\"175dc0fd-0ba6-4195-9612-c05d65ae127d\" class=\"plotly-graph-div\" style=\"height:525px; width:100%;\"></div>            <script type=\"text/javascript\">                require([\"plotly\"], function(Plotly) {                    window.PLOTLYENV=window.PLOTLYENV || {};                                    if (document.getElementById(\"175dc0fd-0ba6-4195-9612-c05d65ae127d\")) {                    Plotly.newPlot(                        \"175dc0fd-0ba6-4195-9612-c05d65ae127d\",                        [{\"branchvalues\":\"total\",\"customdata\":[[217.84615384615384,160.82051282051282],[224.0,155.0],[175.75,155.5],[175.36,155.48],[155.66666666666666,164.33333333333334],[429.0,176.0],[227.0,140.0],[223.38432835820896,158.02611940298507],[208.76288659793815,162.35051546391753],[217.25,145.25],[100.0,140.0],[198.21428571428572,163.14285714285714],[245.31203007518798,160.71428571428572],[257.9260355029586,167.84023668639054],[167.0344827586207,137.44827586206895],[259.0,159.0],[192.0,161.25],[204.93548387096774,150.8709677419355],[191.5,144.125],[242.82716049382717,160.8641975308642],[234.0,163.0],[327.0,178.0],[259.3333333333333,168.0],[185.27586206896552,144.72413793103448],[289.5,163.5],[365.0,165.0],[285.75,159.33333333333334],[282.5,177.0],[\"(?)\",164.3925925925926],[\"(?)\",159.11313868613138],[227.0,140.0],[\"(?)\",148.08928571428572],[\"(?)\",160.84206586826346]],\"domain\":{\"x\":[0.0,1.0],\"y\":[0.0,1.0]},\"hovertemplate\":\"labels=%{label}<br>class_counts=%{value}<br>parent=%{parent}<br>id=%{id}<br>ave_elo_itars=%{customdata[0]}<br>ave_score_itars=%{color}<extra></extra>\",\"ids\":[\"R1 Structures: Frequency and Overall Score for itars/PI/ 0-m_0-ts_1-lab_1-pi_0-ac1_0-ac2\",\"R1 Structures: Frequency and Overall Score for itars/lab/ 0-m_0-ts_2-lab_0-pi_0-ac1_0-ac2\",\"R1 Structures: Frequency and Overall Score for itars/ac1/ 0-m_1-ts_0-lab_0-pi_1-ac1_0-ac2\",\"R1 Structures: Frequency and Overall Score for itars/PI/ 0-m_1-ts_0-lab_1-pi_0-ac1_0-ac2\",\"R1 Structures: Frequency and Overall Score for itars/lab/ 0-m_1-ts_1-lab_0-pi_0-ac1_0-ac2\",\"R1 Structures: Frequency and Overall Score for itars/PI/ 0-m_2-ts_0-lab_1-pi_0-ac1_0-ac2\",\"R1 Structures: Frequency and Overall Score for itars/ac2/ 1-m_0-ts_0-lab_0-pi_0-ac1_1-ac2\",\"R1 Structures: Frequency and Overall Score for itars/ac1/ 1-m_0-ts_0-lab_0-pi_1-ac1_0-ac2\",\"R1 Structures: Frequency and Overall Score for itars/PI/ 1-m_0-ts_0-lab_1-pi_0-ac1_0-ac2\",\"R1 Structures: Frequency and Overall Score for itars/PI/ 1-m_0-ts_1-lab_1-pi_0-ac1_0-ac2\",\"R1 Structures: Frequency and Overall Score for itars/ac1/ 1-m_1-ts_0-lab_0-pi_1-ac1_0-ac2\",\"R1 Structures: Frequency and Overall Score for itars/PI/ 1-m_1-ts_0-lab_1-pi_0-ac1_0-ac2\",\"R1 Structures: Frequency and Overall Score for itars/ac1/ 2-m_0-ts_0-lab_0-pi_1-ac1_0-ac2\",\"R1 Structures: Frequency and Overall Score for itars/PI/ 2-m_0-ts_0-lab_1-pi_0-ac1_0-ac2\",\"R1 Structures: Frequency and Overall Score for itars/lab/ 2-m_0-ts_1-lab_0-pi_0-ac1_0-ac2\",\"R1 Structures: Frequency and Overall Score for itars/lab/ 2-m_0-ts_2-lab_0-pi_0-ac1_0-ac2\",\"R1 Structures: Frequency and Overall Score for itars/PI/ 2-m_1-ts_0-lab_1-pi_0-ac1_0-ac2\",\"R1 Structures: Frequency and Overall Score for itars/lab/ 2-m_1-ts_1-lab_0-pi_0-ac1_0-ac2\",\"R1 Structures: Frequency and Overall Score for itars/ac1/ 3-m_0-ts_0-lab_0-pi_1-ac1_0-ac2\",\"R1 Structures: Frequency and Overall Score for itars/PI/ 3-m_0-ts_0-lab_1-pi_0-ac1_0-ac2\",\"R1 Structures: Frequency and Overall Score for itars/lab/ 3-m_1-ts_1-lab_0-pi_0-ac1_0-ac2\",\"R1 Structures: Frequency and Overall Score for itars/ac1/ 4-m_0-ts_0-lab_0-pi_1-ac1_0-ac2\",\"R1 Structures: Frequency and Overall Score for itars/PI/ 4-m_0-ts_0-lab_1-pi_0-ac1_0-ac2\",\"R1 Structures: Frequency and Overall Score for itars/lab/ 4-m_0-ts_1-lab_0-pi_0-ac1_0-ac2\",\"R1 Structures: Frequency and Overall Score for itars/lab/ 4-m_1-ts_1-lab_0-pi_0-ac1_0-ac2\",\"R1 Structures: Frequency and Overall Score for itars/PI/ 5-m_0-ts_0-lab_1-pi_0-ac1_0-ac2\",\"R1 Structures: Frequency and Overall Score for itars/lab/ 5-m_0-ts_1-lab_0-pi_0-ac1_0-ac2\",\"R1 Structures: Frequency and Overall Score for itars/lab/ 6-m_0-ts_1-lab_0-pi_0-ac1_0-ac2\",\"R1 Structures: Frequency and Overall Score for itars/PI\",\"R1 Structures: Frequency and Overall Score for itars/ac1\",\"R1 Structures: Frequency and Overall Score for itars/ac2\",\"R1 Structures: Frequency and Overall Score for itars/lab\",\"R1 Structures: Frequency and Overall Score for itars\"],\"labels\":[\" 0-m_0-ts_1-lab_1-pi_0-ac1_0-ac2\",\" 0-m_0-ts_2-lab_0-pi_0-ac1_0-ac2\",\" 0-m_1-ts_0-lab_0-pi_1-ac1_0-ac2\",\" 0-m_1-ts_0-lab_1-pi_0-ac1_0-ac2\",\" 0-m_1-ts_1-lab_0-pi_0-ac1_0-ac2\",\" 0-m_2-ts_0-lab_1-pi_0-ac1_0-ac2\",\" 1-m_0-ts_0-lab_0-pi_0-ac1_1-ac2\",\" 1-m_0-ts_0-lab_0-pi_1-ac1_0-ac2\",\" 1-m_0-ts_0-lab_1-pi_0-ac1_0-ac2\",\" 1-m_0-ts_1-lab_1-pi_0-ac1_0-ac2\",\" 1-m_1-ts_0-lab_0-pi_1-ac1_0-ac2\",\" 1-m_1-ts_0-lab_1-pi_0-ac1_0-ac2\",\" 2-m_0-ts_0-lab_0-pi_1-ac1_0-ac2\",\" 2-m_0-ts_0-lab_1-pi_0-ac1_0-ac2\",\" 2-m_0-ts_1-lab_0-pi_0-ac1_0-ac2\",\" 2-m_0-ts_2-lab_0-pi_0-ac1_0-ac2\",\" 2-m_1-ts_0-lab_1-pi_0-ac1_0-ac2\",\" 2-m_1-ts_1-lab_0-pi_0-ac1_0-ac2\",\" 3-m_0-ts_0-lab_0-pi_1-ac1_0-ac2\",\" 3-m_0-ts_0-lab_1-pi_0-ac1_0-ac2\",\" 3-m_1-ts_1-lab_0-pi_0-ac1_0-ac2\",\" 4-m_0-ts_0-lab_0-pi_1-ac1_0-ac2\",\" 4-m_0-ts_0-lab_1-pi_0-ac1_0-ac2\",\" 4-m_0-ts_1-lab_0-pi_0-ac1_0-ac2\",\" 4-m_1-ts_1-lab_0-pi_0-ac1_0-ac2\",\" 5-m_0-ts_0-lab_1-pi_0-ac1_0-ac2\",\" 5-m_0-ts_1-lab_0-pi_0-ac1_0-ac2\",\" 6-m_0-ts_1-lab_0-pi_0-ac1_0-ac2\",\"PI\",\"ac1\",\"ac2\",\"lab\",\"R1 Structures: Frequency and Overall Score for itars\"],\"marker\":{\"coloraxis\":\"coloraxis\",\"colors\":[160.82051282051282,155.0,155.5,155.48,164.33333333333334,176.0,140.0,158.02611940298507,162.35051546391753,145.25,140.0,163.14285714285714,160.71428571428572,167.84023668639054,137.44827586206895,159.0,161.25,150.8709677419355,144.125,160.8641975308642,163.0,178.0,168.0,144.72413793103448,163.5,165.0,159.33333333333334,177.0,164.3925925925926,159.11313868613138,140.0,148.08928571428572,160.84206586826346]},\"name\":\"\",\"parents\":[\"R1 Structures: Frequency and Overall Score for itars/PI\",\"R1 Structures: Frequency and Overall Score for itars/lab\",\"R1 Structures: Frequency and Overall Score for itars/ac1\",\"R1 Structures: Frequency and Overall Score for itars/PI\",\"R1 Structures: Frequency and Overall Score for itars/lab\",\"R1 Structures: Frequency and Overall Score for itars/PI\",\"R1 Structures: Frequency and Overall Score for itars/ac2\",\"R1 Structures: Frequency and Overall Score for itars/ac1\",\"R1 Structures: Frequency and Overall Score for itars/PI\",\"R1 Structures: Frequency and Overall Score for itars/PI\",\"R1 Structures: Frequency and Overall Score for itars/ac1\",\"R1 Structures: Frequency and Overall Score for itars/PI\",\"R1 Structures: Frequency and Overall Score for itars/ac1\",\"R1 Structures: Frequency and Overall Score for itars/PI\",\"R1 Structures: Frequency and Overall Score for itars/lab\",\"R1 Structures: Frequency and Overall Score for itars/lab\",\"R1 Structures: Frequency and Overall Score for itars/PI\",\"R1 Structures: Frequency and Overall Score for itars/lab\",\"R1 Structures: Frequency and Overall Score for itars/ac1\",\"R1 Structures: Frequency and Overall Score for itars/PI\",\"R1 Structures: Frequency and Overall Score for itars/lab\",\"R1 Structures: Frequency and Overall Score for itars/ac1\",\"R1 Structures: Frequency and Overall Score for itars/PI\",\"R1 Structures: Frequency and Overall Score for itars/lab\",\"R1 Structures: Frequency and Overall Score for itars/lab\",\"R1 Structures: Frequency and Overall Score for itars/PI\",\"R1 Structures: Frequency and Overall Score for itars/lab\",\"R1 Structures: Frequency and Overall Score for itars/lab\",\"R1 Structures: Frequency and Overall Score for itars\",\"R1 Structures: Frequency and Overall Score for itars\",\"R1 Structures: Frequency and Overall Score for itars\",\"R1 Structures: Frequency and Overall Score for itars\",\"\"],\"values\":[39,1,4,25,3,1,1,268,97,12,1,70,266,338,29,1,8,31,8,81,2,1,3,29,2,1,12,2,675,548,1,112,1336],\"type\":\"treemap\"}],                        {\"template\":{\"data\":{\"bar\":[{\"error_x\":{\"color\":\"#2a3f5f\"},\"error_y\":{\"color\":\"#2a3f5f\"},\"marker\":{\"line\":{\"color\":\"#E5ECF6\",\"width\":0.5},\"pattern\":{\"fillmode\":\"overlay\",\"size\":10,\"solidity\":0.2}},\"type\":\"bar\"}],\"barpolar\":[{\"marker\":{\"line\":{\"color\":\"#E5ECF6\",\"width\":0.5},\"pattern\":{\"fillmode\":\"overlay\",\"size\":10,\"solidity\":0.2}},\"type\":\"barpolar\"}],\"carpet\":[{\"aaxis\":{\"endlinecolor\":\"#2a3f5f\",\"gridcolor\":\"white\",\"linecolor\":\"white\",\"minorgridcolor\":\"white\",\"startlinecolor\":\"#2a3f5f\"},\"baxis\":{\"endlinecolor\":\"#2a3f5f\",\"gridcolor\":\"white\",\"linecolor\":\"white\",\"minorgridcolor\":\"white\",\"startlinecolor\":\"#2a3f5f\"},\"type\":\"carpet\"}],\"choropleth\":[{\"colorbar\":{\"outlinewidth\":0,\"ticks\":\"\"},\"type\":\"choropleth\"}],\"contour\":[{\"colorbar\":{\"outlinewidth\":0,\"ticks\":\"\"},\"colorscale\":[[0.0,\"#0d0887\"],[0.1111111111111111,\"#46039f\"],[0.2222222222222222,\"#7201a8\"],[0.3333333333333333,\"#9c179e\"],[0.4444444444444444,\"#bd3786\"],[0.5555555555555556,\"#d8576b\"],[0.6666666666666666,\"#ed7953\"],[0.7777777777777778,\"#fb9f3a\"],[0.8888888888888888,\"#fdca26\"],[1.0,\"#f0f921\"]],\"type\":\"contour\"}],\"contourcarpet\":[{\"colorbar\":{\"outlinewidth\":0,\"ticks\":\"\"},\"type\":\"contourcarpet\"}],\"heatmap\":[{\"colorbar\":{\"outlinewidth\":0,\"ticks\":\"\"},\"colorscale\":[[0.0,\"#0d0887\"],[0.1111111111111111,\"#46039f\"],[0.2222222222222222,\"#7201a8\"],[0.3333333333333333,\"#9c179e\"],[0.4444444444444444,\"#bd3786\"],[0.5555555555555556,\"#d8576b\"],[0.6666666666666666,\"#ed7953\"],[0.7777777777777778,\"#fb9f3a\"],[0.8888888888888888,\"#fdca26\"],[1.0,\"#f0f921\"]],\"type\":\"heatmap\"}],\"heatmapgl\":[{\"colorbar\":{\"outlinewidth\":0,\"ticks\":\"\"},\"colorscale\":[[0.0,\"#0d0887\"],[0.1111111111111111,\"#46039f\"],[0.2222222222222222,\"#7201a8\"],[0.3333333333333333,\"#9c179e\"],[0.4444444444444444,\"#bd3786\"],[0.5555555555555556,\"#d8576b\"],[0.6666666666666666,\"#ed7953\"],[0.7777777777777778,\"#fb9f3a\"],[0.8888888888888888,\"#fdca26\"],[1.0,\"#f0f921\"]],\"type\":\"heatmapgl\"}],\"histogram\":[{\"marker\":{\"pattern\":{\"fillmode\":\"overlay\",\"size\":10,\"solidity\":0.2}},\"type\":\"histogram\"}],\"histogram2d\":[{\"colorbar\":{\"outlinewidth\":0,\"ticks\":\"\"},\"colorscale\":[[0.0,\"#0d0887\"],[0.1111111111111111,\"#46039f\"],[0.2222222222222222,\"#7201a8\"],[0.3333333333333333,\"#9c179e\"],[0.4444444444444444,\"#bd3786\"],[0.5555555555555556,\"#d8576b\"],[0.6666666666666666,\"#ed7953\"],[0.7777777777777778,\"#fb9f3a\"],[0.8888888888888888,\"#fdca26\"],[1.0,\"#f0f921\"]],\"type\":\"histogram2d\"}],\"histogram2dcontour\":[{\"colorbar\":{\"outlinewidth\":0,\"ticks\":\"\"},\"colorscale\":[[0.0,\"#0d0887\"],[0.1111111111111111,\"#46039f\"],[0.2222222222222222,\"#7201a8\"],[0.3333333333333333,\"#9c179e\"],[0.4444444444444444,\"#bd3786\"],[0.5555555555555556,\"#d8576b\"],[0.6666666666666666,\"#ed7953\"],[0.7777777777777778,\"#fb9f3a\"],[0.8888888888888888,\"#fdca26\"],[1.0,\"#f0f921\"]],\"type\":\"histogram2dcontour\"}],\"mesh3d\":[{\"colorbar\":{\"outlinewidth\":0,\"ticks\":\"\"},\"type\":\"mesh3d\"}],\"parcoords\":[{\"line\":{\"colorbar\":{\"outlinewidth\":0,\"ticks\":\"\"}},\"type\":\"parcoords\"}],\"pie\":[{\"automargin\":true,\"type\":\"pie\"}],\"scatter\":[{\"marker\":{\"colorbar\":{\"outlinewidth\":0,\"ticks\":\"\"}},\"type\":\"scatter\"}],\"scatter3d\":[{\"line\":{\"colorbar\":{\"outlinewidth\":0,\"ticks\":\"\"}},\"marker\":{\"colorbar\":{\"outlinewidth\":0,\"ticks\":\"\"}},\"type\":\"scatter3d\"}],\"scattercarpet\":[{\"marker\":{\"colorbar\":{\"outlinewidth\":0,\"ticks\":\"\"}},\"type\":\"scattercarpet\"}],\"scattergeo\":[{\"marker\":{\"colorbar\":{\"outlinewidth\":0,\"ticks\":\"\"}},\"type\":\"scattergeo\"}],\"scattergl\":[{\"marker\":{\"colorbar\":{\"outlinewidth\":0,\"ticks\":\"\"}},\"type\":\"scattergl\"}],\"scattermapbox\":[{\"marker\":{\"colorbar\":{\"outlinewidth\":0,\"ticks\":\"\"}},\"type\":\"scattermapbox\"}],\"scatterpolar\":[{\"marker\":{\"colorbar\":{\"outlinewidth\":0,\"ticks\":\"\"}},\"type\":\"scatterpolar\"}],\"scatterpolargl\":[{\"marker\":{\"colorbar\":{\"outlinewidth\":0,\"ticks\":\"\"}},\"type\":\"scatterpolargl\"}],\"scatterternary\":[{\"marker\":{\"colorbar\":{\"outlinewidth\":0,\"ticks\":\"\"}},\"type\":\"scatterternary\"}],\"surface\":[{\"colorbar\":{\"outlinewidth\":0,\"ticks\":\"\"},\"colorscale\":[[0.0,\"#0d0887\"],[0.1111111111111111,\"#46039f\"],[0.2222222222222222,\"#7201a8\"],[0.3333333333333333,\"#9c179e\"],[0.4444444444444444,\"#bd3786\"],[0.5555555555555556,\"#d8576b\"],[0.6666666666666666,\"#ed7953\"],[0.7777777777777778,\"#fb9f3a\"],[0.8888888888888888,\"#fdca26\"],[1.0,\"#f0f921\"]],\"type\":\"surface\"}],\"table\":[{\"cells\":{\"fill\":{\"color\":\"#EBF0F8\"},\"line\":{\"color\":\"white\"}},\"header\":{\"fill\":{\"color\":\"#C8D4E3\"},\"line\":{\"color\":\"white\"}},\"type\":\"table\"}]},\"layout\":{\"annotationdefaults\":{\"arrowcolor\":\"#2a3f5f\",\"arrowhead\":0,\"arrowwidth\":1},\"autotypenumbers\":\"strict\",\"coloraxis\":{\"colorbar\":{\"outlinewidth\":0,\"ticks\":\"\"}},\"colorscale\":{\"diverging\":[[0,\"#8e0152\"],[0.1,\"#c51b7d\"],[0.2,\"#de77ae\"],[0.3,\"#f1b6da\"],[0.4,\"#fde0ef\"],[0.5,\"#f7f7f7\"],[0.6,\"#e6f5d0\"],[0.7,\"#b8e186\"],[0.8,\"#7fbc41\"],[0.9,\"#4d9221\"],[1,\"#276419\"]],\"sequential\":[[0.0,\"#0d0887\"],[0.1111111111111111,\"#46039f\"],[0.2222222222222222,\"#7201a8\"],[0.3333333333333333,\"#9c179e\"],[0.4444444444444444,\"#bd3786\"],[0.5555555555555556,\"#d8576b\"],[0.6666666666666666,\"#ed7953\"],[0.7777777777777778,\"#fb9f3a\"],[0.8888888888888888,\"#fdca26\"],[1.0,\"#f0f921\"]],\"sequentialminus\":[[0.0,\"#0d0887\"],[0.1111111111111111,\"#46039f\"],[0.2222222222222222,\"#7201a8\"],[0.3333333333333333,\"#9c179e\"],[0.4444444444444444,\"#bd3786\"],[0.5555555555555556,\"#d8576b\"],[0.6666666666666666,\"#ed7953\"],[0.7777777777777778,\"#fb9f3a\"],[0.8888888888888888,\"#fdca26\"],[1.0,\"#f0f921\"]]},\"colorway\":[\"#636efa\",\"#EF553B\",\"#00cc96\",\"#ab63fa\",\"#FFA15A\",\"#19d3f3\",\"#FF6692\",\"#B6E880\",\"#FF97FF\",\"#FECB52\"],\"font\":{\"color\":\"#2a3f5f\"},\"geo\":{\"bgcolor\":\"white\",\"lakecolor\":\"white\",\"landcolor\":\"#E5ECF6\",\"showlakes\":true,\"showland\":true,\"subunitcolor\":\"white\"},\"hoverlabel\":{\"align\":\"left\"},\"hovermode\":\"closest\",\"mapbox\":{\"style\":\"light\"},\"paper_bgcolor\":\"white\",\"plot_bgcolor\":\"#E5ECF6\",\"polar\":{\"angularaxis\":{\"gridcolor\":\"white\",\"linecolor\":\"white\",\"ticks\":\"\"},\"bgcolor\":\"#E5ECF6\",\"radialaxis\":{\"gridcolor\":\"white\",\"linecolor\":\"white\",\"ticks\":\"\"}},\"scene\":{\"xaxis\":{\"backgroundcolor\":\"#E5ECF6\",\"gridcolor\":\"white\",\"gridwidth\":2,\"linecolor\":\"white\",\"showbackground\":true,\"ticks\":\"\",\"zerolinecolor\":\"white\"},\"yaxis\":{\"backgroundcolor\":\"#E5ECF6\",\"gridcolor\":\"white\",\"gridwidth\":2,\"linecolor\":\"white\",\"showbackground\":true,\"ticks\":\"\",\"zerolinecolor\":\"white\"},\"zaxis\":{\"backgroundcolor\":\"#E5ECF6\",\"gridcolor\":\"white\",\"gridwidth\":2,\"linecolor\":\"white\",\"showbackground\":true,\"ticks\":\"\",\"zerolinecolor\":\"white\"}},\"shapedefaults\":{\"line\":{\"color\":\"#2a3f5f\"}},\"ternary\":{\"aaxis\":{\"gridcolor\":\"white\",\"linecolor\":\"white\",\"ticks\":\"\"},\"baxis\":{\"gridcolor\":\"white\",\"linecolor\":\"white\",\"ticks\":\"\"},\"bgcolor\":\"#E5ECF6\",\"caxis\":{\"gridcolor\":\"white\",\"linecolor\":\"white\",\"ticks\":\"\"}},\"title\":{\"x\":0.05},\"xaxis\":{\"automargin\":true,\"gridcolor\":\"white\",\"linecolor\":\"white\",\"ticks\":\"\",\"title\":{\"standoff\":15},\"zerolinecolor\":\"white\",\"zerolinewidth\":2},\"yaxis\":{\"automargin\":true,\"gridcolor\":\"white\",\"linecolor\":\"white\",\"ticks\":\"\",\"title\":{\"standoff\":15},\"zerolinecolor\":\"white\",\"zerolinewidth\":2}}},\"coloraxis\":{\"colorbar\":{\"title\":{\"text\":\"ave_score_itars\"}},\"colorscale\":[[0.0,\"rgb(103,0,31)\"],[0.1,\"rgb(178,24,43)\"],[0.2,\"rgb(214,96,77)\"],[0.3,\"rgb(244,165,130)\"],[0.4,\"rgb(253,219,199)\"],[0.5,\"rgb(247,247,247)\"],[0.6,\"rgb(209,229,240)\"],[0.7,\"rgb(146,197,222)\"],[0.8,\"rgb(67,147,195)\"],[0.9,\"rgb(33,102,172)\"],[1.0,\"rgb(5,48,97)\"]],\"cmid\":153.409394703657},\"legend\":{\"tracegroupgap\":0},\"margin\":{\"t\":50,\"l\":25,\"r\":25,\"b\":25},\"title\":{\"text\":\"R1 Structures: Frequency and Impact on Score Relative to All Factions Average (153.41): itars\"}},                        {\"responsive\": true}                    ).then(function(){\n",
       "                            \n",
       "var gd = document.getElementById('175dc0fd-0ba6-4195-9612-c05d65ae127d');\n",
       "var x = new MutationObserver(function (mutations, observer) {{\n",
       "        var display = window.getComputedStyle(gd).display;\n",
       "        if (!display || display === 'none') {{\n",
       "            console.log([gd, 'removed!']);\n",
       "            Plotly.purge(gd);\n",
       "            observer.disconnect();\n",
       "        }}\n",
       "}});\n",
       "\n",
       "// Listen for the removal of the full notebook cells\n",
       "var notebookContainer = gd.closest('#notebook-container');\n",
       "if (notebookContainer) {{\n",
       "    x.observe(notebookContainer, {childList: true});\n",
       "}}\n",
       "\n",
       "// Listen for the clearing of the current output cell\n",
       "var outputEl = gd.closest('.output');\n",
       "if (outputEl) {{\n",
       "    x.observe(outputEl, {childList: true});\n",
       "}}\n",
       "\n",
       "                        })                };                });            </script>        </div>"
      ]
     },
     "metadata": {},
     "output_type": "display_data"
    },
    {
     "data": {
      "application/vnd.plotly.v1+json": {
       "config": {
        "plotlyServerURL": "https://plot.ly"
       },
       "data": [
        {
         "branchvalues": "total",
         "customdata": [
          [
           337.6666666666667,
           183.66666666666666
          ],
          [
           240.15873015873015,
           153.42857142857142
          ],
          [
           175.71428571428572,
           142
          ],
          [
           404,
           156
          ],
          [
           454,
           140
          ],
          [
           259.2916666666667,
           158.84375
          ],
          [
           197.63636363636363,
           149.5909090909091
          ],
          [
           139,
           196
          ],
          [
           238.44736842105263,
           162.66666666666666
          ],
          [
           222.04255319148936,
           151.40425531914894
          ],
          [
           135.30434782608697,
           136.34782608695653
          ],
          [
           133,
           182
          ],
          [
           276.8181818181818,
           153.54545454545453
          ],
          [
           206.32950191570882,
           152.21455938697318
          ],
          [
           206.39622641509433,
           143.79245283018867
          ],
          [
           305.04545454545456,
           177.6818181818182
          ],
          [
           224.30769230769232,
           159.23076923076923
          ],
          [
           209.4,
           148
          ],
          [
           100,
           170
          ],
          [
           205.13888888888889,
           146.55555555555554
          ],
          [
           159.25531914893617,
           135.89361702127658
          ],
          [
           361,
           180
          ],
          [
           71.5,
           164
          ],
          [
           222.57692307692307,
           162.03846153846155
          ],
          [
           150.2,
           141.9
          ],
          [
           126,
           139
          ],
          [
           138,
           157
          ],
          [
           237.66666666666666,
           175
          ],
          [
           215.25,
           138.75
          ],
          [
           "(?)",
           155.40412044374008
          ],
          [
           "(?)",
           158
          ],
          [
           "(?)",
           141.3687150837989
          ],
          [
           "(?)",
           155.33333333333334
          ],
          [
           "(?)",
           153.16927899686522
          ]
         ],
         "domain": {
          "x": [
           0,
           1
          ],
          "y": [
           0,
           1
          ]
         },
         "hovertemplate": "labels=%{label}<br>class_counts=%{value}<br>parent=%{parent}<br>id=%{id}<br>ave_elo_nevlas=%{customdata[0]}<br>ave_score_nevlas=%{color}<extra></extra>",
         "ids": [
          "R1 Structures: Frequency and Overall Score for nevlas/ac1/ 0-m_0-ts_0-lab_1-pi_1-ac1_0-ac2",
          "R1 Structures: Frequency and Overall Score for nevlas/PI/ 0-m_0-ts_1-lab_1-pi_0-ac1_0-ac2",
          "R1 Structures: Frequency and Overall Score for nevlas/PI/ 0-m_1-ts_0-lab_1-pi_0-ac1_0-ac2",
          "R1 Structures: Frequency and Overall Score for nevlas/PI/ 0-m_1-ts_1-lab_1-pi_0-ac1_0-ac2",
          "R1 Structures: Frequency and Overall Score for nevlas/PI/ 0-m_2-ts_0-lab_1-pi_0-ac1_0-ac2",
          "R1 Structures: Frequency and Overall Score for nevlas/ac1/ 1-m_0-ts_0-lab_0-pi_1-ac1_0-ac2",
          "R1 Structures: Frequency and Overall Score for nevlas/PI/ 1-m_0-ts_0-lab_1-pi_0-ac1_0-ac2",
          "R1 Structures: Frequency and Overall Score for nevlas/ac1/ 1-m_0-ts_0-lab_1-pi_1-ac1_0-ac2",
          "R1 Structures: Frequency and Overall Score for nevlas/PI/ 1-m_0-ts_1-lab_1-pi_0-ac1_0-ac2",
          "R1 Structures: Frequency and Overall Score for nevlas/PI/ 1-m_1-ts_0-lab_1-pi_0-ac1_0-ac2",
          "R1 Structures: Frequency and Overall Score for nevlas/lab/ 1-m_1-ts_1-lab_0-pi_0-ac1_0-ac2",
          "R1 Structures: Frequency and Overall Score for nevlas/PI/ 1-m_1-ts_1-lab_1-pi_0-ac1_0-ac2",
          "R1 Structures: Frequency and Overall Score for nevlas/ac1/ 2-m_0-ts_0-lab_0-pi_1-ac1_0-ac2",
          "R1 Structures: Frequency and Overall Score for nevlas/PI/ 2-m_0-ts_0-lab_1-pi_0-ac1_0-ac2",
          "R1 Structures: Frequency and Overall Score for nevlas/lab/ 2-m_0-ts_1-lab_0-pi_0-ac1_0-ac2",
          "R1 Structures: Frequency and Overall Score for nevlas/PI/ 2-m_0-ts_1-lab_1-pi_0-ac1_0-ac2",
          "R1 Structures: Frequency and Overall Score for nevlas/PI/ 2-m_1-ts_0-lab_1-pi_0-ac1_0-ac2",
          "R1 Structures: Frequency and Overall Score for nevlas/lab/ 2-m_1-ts_1-lab_0-pi_0-ac1_0-ac2",
          "R1 Structures: Frequency and Overall Score for nevlas/ts/ 2-m_2-ts_0-lab_0-pi_0-ac1_0-ac2",
          "R1 Structures: Frequency and Overall Score for nevlas/PI/ 3-m_0-ts_0-lab_1-pi_0-ac1_0-ac2",
          "R1 Structures: Frequency and Overall Score for nevlas/lab/ 3-m_0-ts_1-lab_0-pi_0-ac1_0-ac2",
          "R1 Structures: Frequency and Overall Score for nevlas/PI/ 3-m_0-ts_1-lab_1-pi_0-ac1_0-ac2",
          "R1 Structures: Frequency and Overall Score for nevlas/lab/ 3-m_1-ts_1-lab_0-pi_0-ac1_0-ac2",
          "R1 Structures: Frequency and Overall Score for nevlas/PI/ 4-m_0-ts_0-lab_1-pi_0-ac1_0-ac2",
          "R1 Structures: Frequency and Overall Score for nevlas/lab/ 4-m_0-ts_1-lab_0-pi_0-ac1_0-ac2",
          "R1 Structures: Frequency and Overall Score for nevlas/ts/ 4-m_1-ts_0-lab_0-pi_0-ac1_0-ac2",
          "R1 Structures: Frequency and Overall Score for nevlas/ts/ 4-m_2-ts_0-lab_0-pi_0-ac1_0-ac2",
          "R1 Structures: Frequency and Overall Score for nevlas/PI/ 5-m_0-ts_0-lab_1-pi_0-ac1_0-ac2",
          "R1 Structures: Frequency and Overall Score for nevlas/lab/ 5-m_0-ts_1-lab_0-pi_0-ac1_0-ac2",
          "R1 Structures: Frequency and Overall Score for nevlas/PI",
          "R1 Structures: Frequency and Overall Score for nevlas/ac1",
          "R1 Structures: Frequency and Overall Score for nevlas/lab",
          "R1 Structures: Frequency and Overall Score for nevlas/ts",
          "R1 Structures: Frequency and Overall Score for nevlas"
         ],
         "labels": [
          " 0-m_0-ts_0-lab_1-pi_1-ac1_0-ac2",
          " 0-m_0-ts_1-lab_1-pi_0-ac1_0-ac2",
          " 0-m_1-ts_0-lab_1-pi_0-ac1_0-ac2",
          " 0-m_1-ts_1-lab_1-pi_0-ac1_0-ac2",
          " 0-m_2-ts_0-lab_1-pi_0-ac1_0-ac2",
          " 1-m_0-ts_0-lab_0-pi_1-ac1_0-ac2",
          " 1-m_0-ts_0-lab_1-pi_0-ac1_0-ac2",
          " 1-m_0-ts_0-lab_1-pi_1-ac1_0-ac2",
          " 1-m_0-ts_1-lab_1-pi_0-ac1_0-ac2",
          " 1-m_1-ts_0-lab_1-pi_0-ac1_0-ac2",
          " 1-m_1-ts_1-lab_0-pi_0-ac1_0-ac2",
          " 1-m_1-ts_1-lab_1-pi_0-ac1_0-ac2",
          " 2-m_0-ts_0-lab_0-pi_1-ac1_0-ac2",
          " 2-m_0-ts_0-lab_1-pi_0-ac1_0-ac2",
          " 2-m_0-ts_1-lab_0-pi_0-ac1_0-ac2",
          " 2-m_0-ts_1-lab_1-pi_0-ac1_0-ac2",
          " 2-m_1-ts_0-lab_1-pi_0-ac1_0-ac2",
          " 2-m_1-ts_1-lab_0-pi_0-ac1_0-ac2",
          " 2-m_2-ts_0-lab_0-pi_0-ac1_0-ac2",
          " 3-m_0-ts_0-lab_1-pi_0-ac1_0-ac2",
          " 3-m_0-ts_1-lab_0-pi_0-ac1_0-ac2",
          " 3-m_0-ts_1-lab_1-pi_0-ac1_0-ac2",
          " 3-m_1-ts_1-lab_0-pi_0-ac1_0-ac2",
          " 4-m_0-ts_0-lab_1-pi_0-ac1_0-ac2",
          " 4-m_0-ts_1-lab_0-pi_0-ac1_0-ac2",
          " 4-m_1-ts_0-lab_0-pi_0-ac1_0-ac2",
          " 4-m_2-ts_0-lab_0-pi_0-ac1_0-ac2",
          " 5-m_0-ts_0-lab_1-pi_0-ac1_0-ac2",
          " 5-m_0-ts_1-lab_0-pi_0-ac1_0-ac2",
          "PI",
          "ac1",
          "lab",
          "ts",
          "R1 Structures: Frequency and Overall Score for nevlas"
         ],
         "marker": {
          "coloraxis": "coloraxis",
          "colors": [
           183.66666666666666,
           153.42857142857142,
           142,
           156,
           140,
           158.84375,
           149.5909090909091,
           196,
           162.66666666666666,
           151.40425531914894,
           136.34782608695653,
           182,
           153.54545454545453,
           152.21455938697318,
           143.79245283018867,
           177.6818181818182,
           159.23076923076923,
           148,
           170,
           146.55555555555554,
           135.89361702127658,
           180,
           164,
           162.03846153846155,
           141.9,
           139,
           157,
           175,
           138.75,
           155.40412044374008,
           158,
           141.3687150837989,
           155.33333333333334,
           153.16927899686522
          ]
         },
         "name": "",
         "parents": [
          "R1 Structures: Frequency and Overall Score for nevlas/ac1",
          "R1 Structures: Frequency and Overall Score for nevlas/PI",
          "R1 Structures: Frequency and Overall Score for nevlas/PI",
          "R1 Structures: Frequency and Overall Score for nevlas/PI",
          "R1 Structures: Frequency and Overall Score for nevlas/PI",
          "R1 Structures: Frequency and Overall Score for nevlas/ac1",
          "R1 Structures: Frequency and Overall Score for nevlas/PI",
          "R1 Structures: Frequency and Overall Score for nevlas/ac1",
          "R1 Structures: Frequency and Overall Score for nevlas/PI",
          "R1 Structures: Frequency and Overall Score for nevlas/PI",
          "R1 Structures: Frequency and Overall Score for nevlas/lab",
          "R1 Structures: Frequency and Overall Score for nevlas/PI",
          "R1 Structures: Frequency and Overall Score for nevlas/ac1",
          "R1 Structures: Frequency and Overall Score for nevlas/PI",
          "R1 Structures: Frequency and Overall Score for nevlas/lab",
          "R1 Structures: Frequency and Overall Score for nevlas/PI",
          "R1 Structures: Frequency and Overall Score for nevlas/PI",
          "R1 Structures: Frequency and Overall Score for nevlas/lab",
          "R1 Structures: Frequency and Overall Score for nevlas/ts",
          "R1 Structures: Frequency and Overall Score for nevlas/PI",
          "R1 Structures: Frequency and Overall Score for nevlas/lab",
          "R1 Structures: Frequency and Overall Score for nevlas/PI",
          "R1 Structures: Frequency and Overall Score for nevlas/lab",
          "R1 Structures: Frequency and Overall Score for nevlas/PI",
          "R1 Structures: Frequency and Overall Score for nevlas/lab",
          "R1 Structures: Frequency and Overall Score for nevlas/ts",
          "R1 Structures: Frequency and Overall Score for nevlas/ts",
          "R1 Structures: Frequency and Overall Score for nevlas/PI",
          "R1 Structures: Frequency and Overall Score for nevlas/lab",
          "R1 Structures: Frequency and Overall Score for nevlas",
          "R1 Structures: Frequency and Overall Score for nevlas",
          "R1 Structures: Frequency and Overall Score for nevlas",
          "R1 Structures: Frequency and Overall Score for nevlas",
          ""
         ],
         "type": "treemap",
         "values": [
          3,
          63,
          7,
          1,
          1,
          96,
          22,
          1,
          114,
          47,
          23,
          1,
          44,
          261,
          53,
          22,
          26,
          30,
          1,
          36,
          47,
          1,
          2,
          26,
          20,
          1,
          1,
          3,
          4,
          631,
          144,
          179,
          3,
          957
         ]
        }
       ],
       "layout": {
        "coloraxis": {
         "cmid": 153.409394703657,
         "colorbar": {
          "title": {
           "text": "ave_score_nevlas"
          }
         },
         "colorscale": [
          [
           0,
           "rgb(103,0,31)"
          ],
          [
           0.1,
           "rgb(178,24,43)"
          ],
          [
           0.2,
           "rgb(214,96,77)"
          ],
          [
           0.3,
           "rgb(244,165,130)"
          ],
          [
           0.4,
           "rgb(253,219,199)"
          ],
          [
           0.5,
           "rgb(247,247,247)"
          ],
          [
           0.6,
           "rgb(209,229,240)"
          ],
          [
           0.7,
           "rgb(146,197,222)"
          ],
          [
           0.8,
           "rgb(67,147,195)"
          ],
          [
           0.9,
           "rgb(33,102,172)"
          ],
          [
           1,
           "rgb(5,48,97)"
          ]
         ]
        },
        "legend": {
         "tracegroupgap": 0
        },
        "margin": {
         "b": 25,
         "l": 25,
         "r": 25,
         "t": 50
        },
        "template": {
         "data": {
          "bar": [
           {
            "error_x": {
             "color": "#2a3f5f"
            },
            "error_y": {
             "color": "#2a3f5f"
            },
            "marker": {
             "line": {
              "color": "#E5ECF6",
              "width": 0.5
             },
             "pattern": {
              "fillmode": "overlay",
              "size": 10,
              "solidity": 0.2
             }
            },
            "type": "bar"
           }
          ],
          "barpolar": [
           {
            "marker": {
             "line": {
              "color": "#E5ECF6",
              "width": 0.5
             },
             "pattern": {
              "fillmode": "overlay",
              "size": 10,
              "solidity": 0.2
             }
            },
            "type": "barpolar"
           }
          ],
          "carpet": [
           {
            "aaxis": {
             "endlinecolor": "#2a3f5f",
             "gridcolor": "white",
             "linecolor": "white",
             "minorgridcolor": "white",
             "startlinecolor": "#2a3f5f"
            },
            "baxis": {
             "endlinecolor": "#2a3f5f",
             "gridcolor": "white",
             "linecolor": "white",
             "minorgridcolor": "white",
             "startlinecolor": "#2a3f5f"
            },
            "type": "carpet"
           }
          ],
          "choropleth": [
           {
            "colorbar": {
             "outlinewidth": 0,
             "ticks": ""
            },
            "type": "choropleth"
           }
          ],
          "contour": [
           {
            "colorbar": {
             "outlinewidth": 0,
             "ticks": ""
            },
            "colorscale": [
             [
              0,
              "#0d0887"
             ],
             [
              0.1111111111111111,
              "#46039f"
             ],
             [
              0.2222222222222222,
              "#7201a8"
             ],
             [
              0.3333333333333333,
              "#9c179e"
             ],
             [
              0.4444444444444444,
              "#bd3786"
             ],
             [
              0.5555555555555556,
              "#d8576b"
             ],
             [
              0.6666666666666666,
              "#ed7953"
             ],
             [
              0.7777777777777778,
              "#fb9f3a"
             ],
             [
              0.8888888888888888,
              "#fdca26"
             ],
             [
              1,
              "#f0f921"
             ]
            ],
            "type": "contour"
           }
          ],
          "contourcarpet": [
           {
            "colorbar": {
             "outlinewidth": 0,
             "ticks": ""
            },
            "type": "contourcarpet"
           }
          ],
          "heatmap": [
           {
            "colorbar": {
             "outlinewidth": 0,
             "ticks": ""
            },
            "colorscale": [
             [
              0,
              "#0d0887"
             ],
             [
              0.1111111111111111,
              "#46039f"
             ],
             [
              0.2222222222222222,
              "#7201a8"
             ],
             [
              0.3333333333333333,
              "#9c179e"
             ],
             [
              0.4444444444444444,
              "#bd3786"
             ],
             [
              0.5555555555555556,
              "#d8576b"
             ],
             [
              0.6666666666666666,
              "#ed7953"
             ],
             [
              0.7777777777777778,
              "#fb9f3a"
             ],
             [
              0.8888888888888888,
              "#fdca26"
             ],
             [
              1,
              "#f0f921"
             ]
            ],
            "type": "heatmap"
           }
          ],
          "heatmapgl": [
           {
            "colorbar": {
             "outlinewidth": 0,
             "ticks": ""
            },
            "colorscale": [
             [
              0,
              "#0d0887"
             ],
             [
              0.1111111111111111,
              "#46039f"
             ],
             [
              0.2222222222222222,
              "#7201a8"
             ],
             [
              0.3333333333333333,
              "#9c179e"
             ],
             [
              0.4444444444444444,
              "#bd3786"
             ],
             [
              0.5555555555555556,
              "#d8576b"
             ],
             [
              0.6666666666666666,
              "#ed7953"
             ],
             [
              0.7777777777777778,
              "#fb9f3a"
             ],
             [
              0.8888888888888888,
              "#fdca26"
             ],
             [
              1,
              "#f0f921"
             ]
            ],
            "type": "heatmapgl"
           }
          ],
          "histogram": [
           {
            "marker": {
             "pattern": {
              "fillmode": "overlay",
              "size": 10,
              "solidity": 0.2
             }
            },
            "type": "histogram"
           }
          ],
          "histogram2d": [
           {
            "colorbar": {
             "outlinewidth": 0,
             "ticks": ""
            },
            "colorscale": [
             [
              0,
              "#0d0887"
             ],
             [
              0.1111111111111111,
              "#46039f"
             ],
             [
              0.2222222222222222,
              "#7201a8"
             ],
             [
              0.3333333333333333,
              "#9c179e"
             ],
             [
              0.4444444444444444,
              "#bd3786"
             ],
             [
              0.5555555555555556,
              "#d8576b"
             ],
             [
              0.6666666666666666,
              "#ed7953"
             ],
             [
              0.7777777777777778,
              "#fb9f3a"
             ],
             [
              0.8888888888888888,
              "#fdca26"
             ],
             [
              1,
              "#f0f921"
             ]
            ],
            "type": "histogram2d"
           }
          ],
          "histogram2dcontour": [
           {
            "colorbar": {
             "outlinewidth": 0,
             "ticks": ""
            },
            "colorscale": [
             [
              0,
              "#0d0887"
             ],
             [
              0.1111111111111111,
              "#46039f"
             ],
             [
              0.2222222222222222,
              "#7201a8"
             ],
             [
              0.3333333333333333,
              "#9c179e"
             ],
             [
              0.4444444444444444,
              "#bd3786"
             ],
             [
              0.5555555555555556,
              "#d8576b"
             ],
             [
              0.6666666666666666,
              "#ed7953"
             ],
             [
              0.7777777777777778,
              "#fb9f3a"
             ],
             [
              0.8888888888888888,
              "#fdca26"
             ],
             [
              1,
              "#f0f921"
             ]
            ],
            "type": "histogram2dcontour"
           }
          ],
          "mesh3d": [
           {
            "colorbar": {
             "outlinewidth": 0,
             "ticks": ""
            },
            "type": "mesh3d"
           }
          ],
          "parcoords": [
           {
            "line": {
             "colorbar": {
              "outlinewidth": 0,
              "ticks": ""
             }
            },
            "type": "parcoords"
           }
          ],
          "pie": [
           {
            "automargin": true,
            "type": "pie"
           }
          ],
          "scatter": [
           {
            "marker": {
             "colorbar": {
              "outlinewidth": 0,
              "ticks": ""
             }
            },
            "type": "scatter"
           }
          ],
          "scatter3d": [
           {
            "line": {
             "colorbar": {
              "outlinewidth": 0,
              "ticks": ""
             }
            },
            "marker": {
             "colorbar": {
              "outlinewidth": 0,
              "ticks": ""
             }
            },
            "type": "scatter3d"
           }
          ],
          "scattercarpet": [
           {
            "marker": {
             "colorbar": {
              "outlinewidth": 0,
              "ticks": ""
             }
            },
            "type": "scattercarpet"
           }
          ],
          "scattergeo": [
           {
            "marker": {
             "colorbar": {
              "outlinewidth": 0,
              "ticks": ""
             }
            },
            "type": "scattergeo"
           }
          ],
          "scattergl": [
           {
            "marker": {
             "colorbar": {
              "outlinewidth": 0,
              "ticks": ""
             }
            },
            "type": "scattergl"
           }
          ],
          "scattermapbox": [
           {
            "marker": {
             "colorbar": {
              "outlinewidth": 0,
              "ticks": ""
             }
            },
            "type": "scattermapbox"
           }
          ],
          "scatterpolar": [
           {
            "marker": {
             "colorbar": {
              "outlinewidth": 0,
              "ticks": ""
             }
            },
            "type": "scatterpolar"
           }
          ],
          "scatterpolargl": [
           {
            "marker": {
             "colorbar": {
              "outlinewidth": 0,
              "ticks": ""
             }
            },
            "type": "scatterpolargl"
           }
          ],
          "scatterternary": [
           {
            "marker": {
             "colorbar": {
              "outlinewidth": 0,
              "ticks": ""
             }
            },
            "type": "scatterternary"
           }
          ],
          "surface": [
           {
            "colorbar": {
             "outlinewidth": 0,
             "ticks": ""
            },
            "colorscale": [
             [
              0,
              "#0d0887"
             ],
             [
              0.1111111111111111,
              "#46039f"
             ],
             [
              0.2222222222222222,
              "#7201a8"
             ],
             [
              0.3333333333333333,
              "#9c179e"
             ],
             [
              0.4444444444444444,
              "#bd3786"
             ],
             [
              0.5555555555555556,
              "#d8576b"
             ],
             [
              0.6666666666666666,
              "#ed7953"
             ],
             [
              0.7777777777777778,
              "#fb9f3a"
             ],
             [
              0.8888888888888888,
              "#fdca26"
             ],
             [
              1,
              "#f0f921"
             ]
            ],
            "type": "surface"
           }
          ],
          "table": [
           {
            "cells": {
             "fill": {
              "color": "#EBF0F8"
             },
             "line": {
              "color": "white"
             }
            },
            "header": {
             "fill": {
              "color": "#C8D4E3"
             },
             "line": {
              "color": "white"
             }
            },
            "type": "table"
           }
          ]
         },
         "layout": {
          "annotationdefaults": {
           "arrowcolor": "#2a3f5f",
           "arrowhead": 0,
           "arrowwidth": 1
          },
          "autotypenumbers": "strict",
          "coloraxis": {
           "colorbar": {
            "outlinewidth": 0,
            "ticks": ""
           }
          },
          "colorscale": {
           "diverging": [
            [
             0,
             "#8e0152"
            ],
            [
             0.1,
             "#c51b7d"
            ],
            [
             0.2,
             "#de77ae"
            ],
            [
             0.3,
             "#f1b6da"
            ],
            [
             0.4,
             "#fde0ef"
            ],
            [
             0.5,
             "#f7f7f7"
            ],
            [
             0.6,
             "#e6f5d0"
            ],
            [
             0.7,
             "#b8e186"
            ],
            [
             0.8,
             "#7fbc41"
            ],
            [
             0.9,
             "#4d9221"
            ],
            [
             1,
             "#276419"
            ]
           ],
           "sequential": [
            [
             0,
             "#0d0887"
            ],
            [
             0.1111111111111111,
             "#46039f"
            ],
            [
             0.2222222222222222,
             "#7201a8"
            ],
            [
             0.3333333333333333,
             "#9c179e"
            ],
            [
             0.4444444444444444,
             "#bd3786"
            ],
            [
             0.5555555555555556,
             "#d8576b"
            ],
            [
             0.6666666666666666,
             "#ed7953"
            ],
            [
             0.7777777777777778,
             "#fb9f3a"
            ],
            [
             0.8888888888888888,
             "#fdca26"
            ],
            [
             1,
             "#f0f921"
            ]
           ],
           "sequentialminus": [
            [
             0,
             "#0d0887"
            ],
            [
             0.1111111111111111,
             "#46039f"
            ],
            [
             0.2222222222222222,
             "#7201a8"
            ],
            [
             0.3333333333333333,
             "#9c179e"
            ],
            [
             0.4444444444444444,
             "#bd3786"
            ],
            [
             0.5555555555555556,
             "#d8576b"
            ],
            [
             0.6666666666666666,
             "#ed7953"
            ],
            [
             0.7777777777777778,
             "#fb9f3a"
            ],
            [
             0.8888888888888888,
             "#fdca26"
            ],
            [
             1,
             "#f0f921"
            ]
           ]
          },
          "colorway": [
           "#636efa",
           "#EF553B",
           "#00cc96",
           "#ab63fa",
           "#FFA15A",
           "#19d3f3",
           "#FF6692",
           "#B6E880",
           "#FF97FF",
           "#FECB52"
          ],
          "font": {
           "color": "#2a3f5f"
          },
          "geo": {
           "bgcolor": "white",
           "lakecolor": "white",
           "landcolor": "#E5ECF6",
           "showlakes": true,
           "showland": true,
           "subunitcolor": "white"
          },
          "hoverlabel": {
           "align": "left"
          },
          "hovermode": "closest",
          "mapbox": {
           "style": "light"
          },
          "paper_bgcolor": "white",
          "plot_bgcolor": "#E5ECF6",
          "polar": {
           "angularaxis": {
            "gridcolor": "white",
            "linecolor": "white",
            "ticks": ""
           },
           "bgcolor": "#E5ECF6",
           "radialaxis": {
            "gridcolor": "white",
            "linecolor": "white",
            "ticks": ""
           }
          },
          "scene": {
           "xaxis": {
            "backgroundcolor": "#E5ECF6",
            "gridcolor": "white",
            "gridwidth": 2,
            "linecolor": "white",
            "showbackground": true,
            "ticks": "",
            "zerolinecolor": "white"
           },
           "yaxis": {
            "backgroundcolor": "#E5ECF6",
            "gridcolor": "white",
            "gridwidth": 2,
            "linecolor": "white",
            "showbackground": true,
            "ticks": "",
            "zerolinecolor": "white"
           },
           "zaxis": {
            "backgroundcolor": "#E5ECF6",
            "gridcolor": "white",
            "gridwidth": 2,
            "linecolor": "white",
            "showbackground": true,
            "ticks": "",
            "zerolinecolor": "white"
           }
          },
          "shapedefaults": {
           "line": {
            "color": "#2a3f5f"
           }
          },
          "ternary": {
           "aaxis": {
            "gridcolor": "white",
            "linecolor": "white",
            "ticks": ""
           },
           "baxis": {
            "gridcolor": "white",
            "linecolor": "white",
            "ticks": ""
           },
           "bgcolor": "#E5ECF6",
           "caxis": {
            "gridcolor": "white",
            "linecolor": "white",
            "ticks": ""
           }
          },
          "title": {
           "x": 0.05
          },
          "xaxis": {
           "automargin": true,
           "gridcolor": "white",
           "linecolor": "white",
           "ticks": "",
           "title": {
            "standoff": 15
           },
           "zerolinecolor": "white",
           "zerolinewidth": 2
          },
          "yaxis": {
           "automargin": true,
           "gridcolor": "white",
           "linecolor": "white",
           "ticks": "",
           "title": {
            "standoff": 15
           },
           "zerolinecolor": "white",
           "zerolinewidth": 2
          }
         }
        },
        "title": {
         "text": "R1 Structures: Frequency and Impact on Score Relative to All Factions Average (153.41): nevlas"
        }
       }
      },
      "text/html": [
       "<div>                            <div id=\"465843e1-385c-48dc-a713-cf0daf0a60cf\" class=\"plotly-graph-div\" style=\"height:525px; width:100%;\"></div>            <script type=\"text/javascript\">                require([\"plotly\"], function(Plotly) {                    window.PLOTLYENV=window.PLOTLYENV || {};                                    if (document.getElementById(\"465843e1-385c-48dc-a713-cf0daf0a60cf\")) {                    Plotly.newPlot(                        \"465843e1-385c-48dc-a713-cf0daf0a60cf\",                        [{\"branchvalues\":\"total\",\"customdata\":[[337.6666666666667,183.66666666666666],[240.15873015873015,153.42857142857142],[175.71428571428572,142.0],[404.0,156.0],[454.0,140.0],[259.2916666666667,158.84375],[197.63636363636363,149.5909090909091],[139.0,196.0],[238.44736842105263,162.66666666666666],[222.04255319148936,151.40425531914894],[135.30434782608697,136.34782608695653],[133.0,182.0],[276.8181818181818,153.54545454545453],[206.32950191570882,152.21455938697318],[206.39622641509433,143.79245283018867],[305.04545454545456,177.6818181818182],[224.30769230769232,159.23076923076923],[209.4,148.0],[100.0,170.0],[205.13888888888889,146.55555555555554],[159.25531914893617,135.89361702127658],[361.0,180.0],[71.5,164.0],[222.57692307692307,162.03846153846155],[150.2,141.9],[126.0,139.0],[138.0,157.0],[237.66666666666666,175.0],[215.25,138.75],[\"(?)\",155.40412044374008],[\"(?)\",158.0],[\"(?)\",141.3687150837989],[\"(?)\",155.33333333333334],[\"(?)\",153.16927899686522]],\"domain\":{\"x\":[0.0,1.0],\"y\":[0.0,1.0]},\"hovertemplate\":\"labels=%{label}<br>class_counts=%{value}<br>parent=%{parent}<br>id=%{id}<br>ave_elo_nevlas=%{customdata[0]}<br>ave_score_nevlas=%{color}<extra></extra>\",\"ids\":[\"R1 Structures: Frequency and Overall Score for nevlas/ac1/ 0-m_0-ts_0-lab_1-pi_1-ac1_0-ac2\",\"R1 Structures: Frequency and Overall Score for nevlas/PI/ 0-m_0-ts_1-lab_1-pi_0-ac1_0-ac2\",\"R1 Structures: Frequency and Overall Score for nevlas/PI/ 0-m_1-ts_0-lab_1-pi_0-ac1_0-ac2\",\"R1 Structures: Frequency and Overall Score for nevlas/PI/ 0-m_1-ts_1-lab_1-pi_0-ac1_0-ac2\",\"R1 Structures: Frequency and Overall Score for nevlas/PI/ 0-m_2-ts_0-lab_1-pi_0-ac1_0-ac2\",\"R1 Structures: Frequency and Overall Score for nevlas/ac1/ 1-m_0-ts_0-lab_0-pi_1-ac1_0-ac2\",\"R1 Structures: Frequency and Overall Score for nevlas/PI/ 1-m_0-ts_0-lab_1-pi_0-ac1_0-ac2\",\"R1 Structures: Frequency and Overall Score for nevlas/ac1/ 1-m_0-ts_0-lab_1-pi_1-ac1_0-ac2\",\"R1 Structures: Frequency and Overall Score for nevlas/PI/ 1-m_0-ts_1-lab_1-pi_0-ac1_0-ac2\",\"R1 Structures: Frequency and Overall Score for nevlas/PI/ 1-m_1-ts_0-lab_1-pi_0-ac1_0-ac2\",\"R1 Structures: Frequency and Overall Score for nevlas/lab/ 1-m_1-ts_1-lab_0-pi_0-ac1_0-ac2\",\"R1 Structures: Frequency and Overall Score for nevlas/PI/ 1-m_1-ts_1-lab_1-pi_0-ac1_0-ac2\",\"R1 Structures: Frequency and Overall Score for nevlas/ac1/ 2-m_0-ts_0-lab_0-pi_1-ac1_0-ac2\",\"R1 Structures: Frequency and Overall Score for nevlas/PI/ 2-m_0-ts_0-lab_1-pi_0-ac1_0-ac2\",\"R1 Structures: Frequency and Overall Score for nevlas/lab/ 2-m_0-ts_1-lab_0-pi_0-ac1_0-ac2\",\"R1 Structures: Frequency and Overall Score for nevlas/PI/ 2-m_0-ts_1-lab_1-pi_0-ac1_0-ac2\",\"R1 Structures: Frequency and Overall Score for nevlas/PI/ 2-m_1-ts_0-lab_1-pi_0-ac1_0-ac2\",\"R1 Structures: Frequency and Overall Score for nevlas/lab/ 2-m_1-ts_1-lab_0-pi_0-ac1_0-ac2\",\"R1 Structures: Frequency and Overall Score for nevlas/ts/ 2-m_2-ts_0-lab_0-pi_0-ac1_0-ac2\",\"R1 Structures: Frequency and Overall Score for nevlas/PI/ 3-m_0-ts_0-lab_1-pi_0-ac1_0-ac2\",\"R1 Structures: Frequency and Overall Score for nevlas/lab/ 3-m_0-ts_1-lab_0-pi_0-ac1_0-ac2\",\"R1 Structures: Frequency and Overall Score for nevlas/PI/ 3-m_0-ts_1-lab_1-pi_0-ac1_0-ac2\",\"R1 Structures: Frequency and Overall Score for nevlas/lab/ 3-m_1-ts_1-lab_0-pi_0-ac1_0-ac2\",\"R1 Structures: Frequency and Overall Score for nevlas/PI/ 4-m_0-ts_0-lab_1-pi_0-ac1_0-ac2\",\"R1 Structures: Frequency and Overall Score for nevlas/lab/ 4-m_0-ts_1-lab_0-pi_0-ac1_0-ac2\",\"R1 Structures: Frequency and Overall Score for nevlas/ts/ 4-m_1-ts_0-lab_0-pi_0-ac1_0-ac2\",\"R1 Structures: Frequency and Overall Score for nevlas/ts/ 4-m_2-ts_0-lab_0-pi_0-ac1_0-ac2\",\"R1 Structures: Frequency and Overall Score for nevlas/PI/ 5-m_0-ts_0-lab_1-pi_0-ac1_0-ac2\",\"R1 Structures: Frequency and Overall Score for nevlas/lab/ 5-m_0-ts_1-lab_0-pi_0-ac1_0-ac2\",\"R1 Structures: Frequency and Overall Score for nevlas/PI\",\"R1 Structures: Frequency and Overall Score for nevlas/ac1\",\"R1 Structures: Frequency and Overall Score for nevlas/lab\",\"R1 Structures: Frequency and Overall Score for nevlas/ts\",\"R1 Structures: Frequency and Overall Score for nevlas\"],\"labels\":[\" 0-m_0-ts_0-lab_1-pi_1-ac1_0-ac2\",\" 0-m_0-ts_1-lab_1-pi_0-ac1_0-ac2\",\" 0-m_1-ts_0-lab_1-pi_0-ac1_0-ac2\",\" 0-m_1-ts_1-lab_1-pi_0-ac1_0-ac2\",\" 0-m_2-ts_0-lab_1-pi_0-ac1_0-ac2\",\" 1-m_0-ts_0-lab_0-pi_1-ac1_0-ac2\",\" 1-m_0-ts_0-lab_1-pi_0-ac1_0-ac2\",\" 1-m_0-ts_0-lab_1-pi_1-ac1_0-ac2\",\" 1-m_0-ts_1-lab_1-pi_0-ac1_0-ac2\",\" 1-m_1-ts_0-lab_1-pi_0-ac1_0-ac2\",\" 1-m_1-ts_1-lab_0-pi_0-ac1_0-ac2\",\" 1-m_1-ts_1-lab_1-pi_0-ac1_0-ac2\",\" 2-m_0-ts_0-lab_0-pi_1-ac1_0-ac2\",\" 2-m_0-ts_0-lab_1-pi_0-ac1_0-ac2\",\" 2-m_0-ts_1-lab_0-pi_0-ac1_0-ac2\",\" 2-m_0-ts_1-lab_1-pi_0-ac1_0-ac2\",\" 2-m_1-ts_0-lab_1-pi_0-ac1_0-ac2\",\" 2-m_1-ts_1-lab_0-pi_0-ac1_0-ac2\",\" 2-m_2-ts_0-lab_0-pi_0-ac1_0-ac2\",\" 3-m_0-ts_0-lab_1-pi_0-ac1_0-ac2\",\" 3-m_0-ts_1-lab_0-pi_0-ac1_0-ac2\",\" 3-m_0-ts_1-lab_1-pi_0-ac1_0-ac2\",\" 3-m_1-ts_1-lab_0-pi_0-ac1_0-ac2\",\" 4-m_0-ts_0-lab_1-pi_0-ac1_0-ac2\",\" 4-m_0-ts_1-lab_0-pi_0-ac1_0-ac2\",\" 4-m_1-ts_0-lab_0-pi_0-ac1_0-ac2\",\" 4-m_2-ts_0-lab_0-pi_0-ac1_0-ac2\",\" 5-m_0-ts_0-lab_1-pi_0-ac1_0-ac2\",\" 5-m_0-ts_1-lab_0-pi_0-ac1_0-ac2\",\"PI\",\"ac1\",\"lab\",\"ts\",\"R1 Structures: Frequency and Overall Score for nevlas\"],\"marker\":{\"coloraxis\":\"coloraxis\",\"colors\":[183.66666666666666,153.42857142857142,142.0,156.0,140.0,158.84375,149.5909090909091,196.0,162.66666666666666,151.40425531914894,136.34782608695653,182.0,153.54545454545453,152.21455938697318,143.79245283018867,177.6818181818182,159.23076923076923,148.0,170.0,146.55555555555554,135.89361702127658,180.0,164.0,162.03846153846155,141.9,139.0,157.0,175.0,138.75,155.40412044374008,158.0,141.3687150837989,155.33333333333334,153.16927899686522]},\"name\":\"\",\"parents\":[\"R1 Structures: Frequency and Overall Score for nevlas/ac1\",\"R1 Structures: Frequency and Overall Score for nevlas/PI\",\"R1 Structures: Frequency and Overall Score for nevlas/PI\",\"R1 Structures: Frequency and Overall Score for nevlas/PI\",\"R1 Structures: Frequency and Overall Score for nevlas/PI\",\"R1 Structures: Frequency and Overall Score for nevlas/ac1\",\"R1 Structures: Frequency and Overall Score for nevlas/PI\",\"R1 Structures: Frequency and Overall Score for nevlas/ac1\",\"R1 Structures: Frequency and Overall Score for nevlas/PI\",\"R1 Structures: Frequency and Overall Score for nevlas/PI\",\"R1 Structures: Frequency and Overall Score for nevlas/lab\",\"R1 Structures: Frequency and Overall Score for nevlas/PI\",\"R1 Structures: Frequency and Overall Score for nevlas/ac1\",\"R1 Structures: Frequency and Overall Score for nevlas/PI\",\"R1 Structures: Frequency and Overall Score for nevlas/lab\",\"R1 Structures: Frequency and Overall Score for nevlas/PI\",\"R1 Structures: Frequency and Overall Score for nevlas/PI\",\"R1 Structures: Frequency and Overall Score for nevlas/lab\",\"R1 Structures: Frequency and Overall Score for nevlas/ts\",\"R1 Structures: Frequency and Overall Score for nevlas/PI\",\"R1 Structures: Frequency and Overall Score for nevlas/lab\",\"R1 Structures: Frequency and Overall Score for nevlas/PI\",\"R1 Structures: Frequency and Overall Score for nevlas/lab\",\"R1 Structures: Frequency and Overall Score for nevlas/PI\",\"R1 Structures: Frequency and Overall Score for nevlas/lab\",\"R1 Structures: Frequency and Overall Score for nevlas/ts\",\"R1 Structures: Frequency and Overall Score for nevlas/ts\",\"R1 Structures: Frequency and Overall Score for nevlas/PI\",\"R1 Structures: Frequency and Overall Score for nevlas/lab\",\"R1 Structures: Frequency and Overall Score for nevlas\",\"R1 Structures: Frequency and Overall Score for nevlas\",\"R1 Structures: Frequency and Overall Score for nevlas\",\"R1 Structures: Frequency and Overall Score for nevlas\",\"\"],\"values\":[3,63,7,1,1,96,22,1,114,47,23,1,44,261,53,22,26,30,1,36,47,1,2,26,20,1,1,3,4,631,144,179,3,957],\"type\":\"treemap\"}],                        {\"template\":{\"data\":{\"bar\":[{\"error_x\":{\"color\":\"#2a3f5f\"},\"error_y\":{\"color\":\"#2a3f5f\"},\"marker\":{\"line\":{\"color\":\"#E5ECF6\",\"width\":0.5},\"pattern\":{\"fillmode\":\"overlay\",\"size\":10,\"solidity\":0.2}},\"type\":\"bar\"}],\"barpolar\":[{\"marker\":{\"line\":{\"color\":\"#E5ECF6\",\"width\":0.5},\"pattern\":{\"fillmode\":\"overlay\",\"size\":10,\"solidity\":0.2}},\"type\":\"barpolar\"}],\"carpet\":[{\"aaxis\":{\"endlinecolor\":\"#2a3f5f\",\"gridcolor\":\"white\",\"linecolor\":\"white\",\"minorgridcolor\":\"white\",\"startlinecolor\":\"#2a3f5f\"},\"baxis\":{\"endlinecolor\":\"#2a3f5f\",\"gridcolor\":\"white\",\"linecolor\":\"white\",\"minorgridcolor\":\"white\",\"startlinecolor\":\"#2a3f5f\"},\"type\":\"carpet\"}],\"choropleth\":[{\"colorbar\":{\"outlinewidth\":0,\"ticks\":\"\"},\"type\":\"choropleth\"}],\"contour\":[{\"colorbar\":{\"outlinewidth\":0,\"ticks\":\"\"},\"colorscale\":[[0.0,\"#0d0887\"],[0.1111111111111111,\"#46039f\"],[0.2222222222222222,\"#7201a8\"],[0.3333333333333333,\"#9c179e\"],[0.4444444444444444,\"#bd3786\"],[0.5555555555555556,\"#d8576b\"],[0.6666666666666666,\"#ed7953\"],[0.7777777777777778,\"#fb9f3a\"],[0.8888888888888888,\"#fdca26\"],[1.0,\"#f0f921\"]],\"type\":\"contour\"}],\"contourcarpet\":[{\"colorbar\":{\"outlinewidth\":0,\"ticks\":\"\"},\"type\":\"contourcarpet\"}],\"heatmap\":[{\"colorbar\":{\"outlinewidth\":0,\"ticks\":\"\"},\"colorscale\":[[0.0,\"#0d0887\"],[0.1111111111111111,\"#46039f\"],[0.2222222222222222,\"#7201a8\"],[0.3333333333333333,\"#9c179e\"],[0.4444444444444444,\"#bd3786\"],[0.5555555555555556,\"#d8576b\"],[0.6666666666666666,\"#ed7953\"],[0.7777777777777778,\"#fb9f3a\"],[0.8888888888888888,\"#fdca26\"],[1.0,\"#f0f921\"]],\"type\":\"heatmap\"}],\"heatmapgl\":[{\"colorbar\":{\"outlinewidth\":0,\"ticks\":\"\"},\"colorscale\":[[0.0,\"#0d0887\"],[0.1111111111111111,\"#46039f\"],[0.2222222222222222,\"#7201a8\"],[0.3333333333333333,\"#9c179e\"],[0.4444444444444444,\"#bd3786\"],[0.5555555555555556,\"#d8576b\"],[0.6666666666666666,\"#ed7953\"],[0.7777777777777778,\"#fb9f3a\"],[0.8888888888888888,\"#fdca26\"],[1.0,\"#f0f921\"]],\"type\":\"heatmapgl\"}],\"histogram\":[{\"marker\":{\"pattern\":{\"fillmode\":\"overlay\",\"size\":10,\"solidity\":0.2}},\"type\":\"histogram\"}],\"histogram2d\":[{\"colorbar\":{\"outlinewidth\":0,\"ticks\":\"\"},\"colorscale\":[[0.0,\"#0d0887\"],[0.1111111111111111,\"#46039f\"],[0.2222222222222222,\"#7201a8\"],[0.3333333333333333,\"#9c179e\"],[0.4444444444444444,\"#bd3786\"],[0.5555555555555556,\"#d8576b\"],[0.6666666666666666,\"#ed7953\"],[0.7777777777777778,\"#fb9f3a\"],[0.8888888888888888,\"#fdca26\"],[1.0,\"#f0f921\"]],\"type\":\"histogram2d\"}],\"histogram2dcontour\":[{\"colorbar\":{\"outlinewidth\":0,\"ticks\":\"\"},\"colorscale\":[[0.0,\"#0d0887\"],[0.1111111111111111,\"#46039f\"],[0.2222222222222222,\"#7201a8\"],[0.3333333333333333,\"#9c179e\"],[0.4444444444444444,\"#bd3786\"],[0.5555555555555556,\"#d8576b\"],[0.6666666666666666,\"#ed7953\"],[0.7777777777777778,\"#fb9f3a\"],[0.8888888888888888,\"#fdca26\"],[1.0,\"#f0f921\"]],\"type\":\"histogram2dcontour\"}],\"mesh3d\":[{\"colorbar\":{\"outlinewidth\":0,\"ticks\":\"\"},\"type\":\"mesh3d\"}],\"parcoords\":[{\"line\":{\"colorbar\":{\"outlinewidth\":0,\"ticks\":\"\"}},\"type\":\"parcoords\"}],\"pie\":[{\"automargin\":true,\"type\":\"pie\"}],\"scatter\":[{\"marker\":{\"colorbar\":{\"outlinewidth\":0,\"ticks\":\"\"}},\"type\":\"scatter\"}],\"scatter3d\":[{\"line\":{\"colorbar\":{\"outlinewidth\":0,\"ticks\":\"\"}},\"marker\":{\"colorbar\":{\"outlinewidth\":0,\"ticks\":\"\"}},\"type\":\"scatter3d\"}],\"scattercarpet\":[{\"marker\":{\"colorbar\":{\"outlinewidth\":0,\"ticks\":\"\"}},\"type\":\"scattercarpet\"}],\"scattergeo\":[{\"marker\":{\"colorbar\":{\"outlinewidth\":0,\"ticks\":\"\"}},\"type\":\"scattergeo\"}],\"scattergl\":[{\"marker\":{\"colorbar\":{\"outlinewidth\":0,\"ticks\":\"\"}},\"type\":\"scattergl\"}],\"scattermapbox\":[{\"marker\":{\"colorbar\":{\"outlinewidth\":0,\"ticks\":\"\"}},\"type\":\"scattermapbox\"}],\"scatterpolar\":[{\"marker\":{\"colorbar\":{\"outlinewidth\":0,\"ticks\":\"\"}},\"type\":\"scatterpolar\"}],\"scatterpolargl\":[{\"marker\":{\"colorbar\":{\"outlinewidth\":0,\"ticks\":\"\"}},\"type\":\"scatterpolargl\"}],\"scatterternary\":[{\"marker\":{\"colorbar\":{\"outlinewidth\":0,\"ticks\":\"\"}},\"type\":\"scatterternary\"}],\"surface\":[{\"colorbar\":{\"outlinewidth\":0,\"ticks\":\"\"},\"colorscale\":[[0.0,\"#0d0887\"],[0.1111111111111111,\"#46039f\"],[0.2222222222222222,\"#7201a8\"],[0.3333333333333333,\"#9c179e\"],[0.4444444444444444,\"#bd3786\"],[0.5555555555555556,\"#d8576b\"],[0.6666666666666666,\"#ed7953\"],[0.7777777777777778,\"#fb9f3a\"],[0.8888888888888888,\"#fdca26\"],[1.0,\"#f0f921\"]],\"type\":\"surface\"}],\"table\":[{\"cells\":{\"fill\":{\"color\":\"#EBF0F8\"},\"line\":{\"color\":\"white\"}},\"header\":{\"fill\":{\"color\":\"#C8D4E3\"},\"line\":{\"color\":\"white\"}},\"type\":\"table\"}]},\"layout\":{\"annotationdefaults\":{\"arrowcolor\":\"#2a3f5f\",\"arrowhead\":0,\"arrowwidth\":1},\"autotypenumbers\":\"strict\",\"coloraxis\":{\"colorbar\":{\"outlinewidth\":0,\"ticks\":\"\"}},\"colorscale\":{\"diverging\":[[0,\"#8e0152\"],[0.1,\"#c51b7d\"],[0.2,\"#de77ae\"],[0.3,\"#f1b6da\"],[0.4,\"#fde0ef\"],[0.5,\"#f7f7f7\"],[0.6,\"#e6f5d0\"],[0.7,\"#b8e186\"],[0.8,\"#7fbc41\"],[0.9,\"#4d9221\"],[1,\"#276419\"]],\"sequential\":[[0.0,\"#0d0887\"],[0.1111111111111111,\"#46039f\"],[0.2222222222222222,\"#7201a8\"],[0.3333333333333333,\"#9c179e\"],[0.4444444444444444,\"#bd3786\"],[0.5555555555555556,\"#d8576b\"],[0.6666666666666666,\"#ed7953\"],[0.7777777777777778,\"#fb9f3a\"],[0.8888888888888888,\"#fdca26\"],[1.0,\"#f0f921\"]],\"sequentialminus\":[[0.0,\"#0d0887\"],[0.1111111111111111,\"#46039f\"],[0.2222222222222222,\"#7201a8\"],[0.3333333333333333,\"#9c179e\"],[0.4444444444444444,\"#bd3786\"],[0.5555555555555556,\"#d8576b\"],[0.6666666666666666,\"#ed7953\"],[0.7777777777777778,\"#fb9f3a\"],[0.8888888888888888,\"#fdca26\"],[1.0,\"#f0f921\"]]},\"colorway\":[\"#636efa\",\"#EF553B\",\"#00cc96\",\"#ab63fa\",\"#FFA15A\",\"#19d3f3\",\"#FF6692\",\"#B6E880\",\"#FF97FF\",\"#FECB52\"],\"font\":{\"color\":\"#2a3f5f\"},\"geo\":{\"bgcolor\":\"white\",\"lakecolor\":\"white\",\"landcolor\":\"#E5ECF6\",\"showlakes\":true,\"showland\":true,\"subunitcolor\":\"white\"},\"hoverlabel\":{\"align\":\"left\"},\"hovermode\":\"closest\",\"mapbox\":{\"style\":\"light\"},\"paper_bgcolor\":\"white\",\"plot_bgcolor\":\"#E5ECF6\",\"polar\":{\"angularaxis\":{\"gridcolor\":\"white\",\"linecolor\":\"white\",\"ticks\":\"\"},\"bgcolor\":\"#E5ECF6\",\"radialaxis\":{\"gridcolor\":\"white\",\"linecolor\":\"white\",\"ticks\":\"\"}},\"scene\":{\"xaxis\":{\"backgroundcolor\":\"#E5ECF6\",\"gridcolor\":\"white\",\"gridwidth\":2,\"linecolor\":\"white\",\"showbackground\":true,\"ticks\":\"\",\"zerolinecolor\":\"white\"},\"yaxis\":{\"backgroundcolor\":\"#E5ECF6\",\"gridcolor\":\"white\",\"gridwidth\":2,\"linecolor\":\"white\",\"showbackground\":true,\"ticks\":\"\",\"zerolinecolor\":\"white\"},\"zaxis\":{\"backgroundcolor\":\"#E5ECF6\",\"gridcolor\":\"white\",\"gridwidth\":2,\"linecolor\":\"white\",\"showbackground\":true,\"ticks\":\"\",\"zerolinecolor\":\"white\"}},\"shapedefaults\":{\"line\":{\"color\":\"#2a3f5f\"}},\"ternary\":{\"aaxis\":{\"gridcolor\":\"white\",\"linecolor\":\"white\",\"ticks\":\"\"},\"baxis\":{\"gridcolor\":\"white\",\"linecolor\":\"white\",\"ticks\":\"\"},\"bgcolor\":\"#E5ECF6\",\"caxis\":{\"gridcolor\":\"white\",\"linecolor\":\"white\",\"ticks\":\"\"}},\"title\":{\"x\":0.05},\"xaxis\":{\"automargin\":true,\"gridcolor\":\"white\",\"linecolor\":\"white\",\"ticks\":\"\",\"title\":{\"standoff\":15},\"zerolinecolor\":\"white\",\"zerolinewidth\":2},\"yaxis\":{\"automargin\":true,\"gridcolor\":\"white\",\"linecolor\":\"white\",\"ticks\":\"\",\"title\":{\"standoff\":15},\"zerolinecolor\":\"white\",\"zerolinewidth\":2}}},\"coloraxis\":{\"colorbar\":{\"title\":{\"text\":\"ave_score_nevlas\"}},\"colorscale\":[[0.0,\"rgb(103,0,31)\"],[0.1,\"rgb(178,24,43)\"],[0.2,\"rgb(214,96,77)\"],[0.3,\"rgb(244,165,130)\"],[0.4,\"rgb(253,219,199)\"],[0.5,\"rgb(247,247,247)\"],[0.6,\"rgb(209,229,240)\"],[0.7,\"rgb(146,197,222)\"],[0.8,\"rgb(67,147,195)\"],[0.9,\"rgb(33,102,172)\"],[1.0,\"rgb(5,48,97)\"]],\"cmid\":153.409394703657},\"legend\":{\"tracegroupgap\":0},\"margin\":{\"t\":50,\"l\":25,\"r\":25,\"b\":25},\"title\":{\"text\":\"R1 Structures: Frequency and Impact on Score Relative to All Factions Average (153.41): nevlas\"}},                        {\"responsive\": true}                    ).then(function(){\n",
       "                            \n",
       "var gd = document.getElementById('465843e1-385c-48dc-a713-cf0daf0a60cf');\n",
       "var x = new MutationObserver(function (mutations, observer) {{\n",
       "        var display = window.getComputedStyle(gd).display;\n",
       "        if (!display || display === 'none') {{\n",
       "            console.log([gd, 'removed!']);\n",
       "            Plotly.purge(gd);\n",
       "            observer.disconnect();\n",
       "        }}\n",
       "}});\n",
       "\n",
       "// Listen for the removal of the full notebook cells\n",
       "var notebookContainer = gd.closest('#notebook-container');\n",
       "if (notebookContainer) {{\n",
       "    x.observe(notebookContainer, {childList: true});\n",
       "}}\n",
       "\n",
       "// Listen for the clearing of the current output cell\n",
       "var outputEl = gd.closest('.output');\n",
       "if (outputEl) {{\n",
       "    x.observe(outputEl, {childList: true});\n",
       "}}\n",
       "\n",
       "                        })                };                });            </script>        </div>"
      ]
     },
     "metadata": {},
     "output_type": "display_data"
    },
    {
     "data": {
      "application/vnd.plotly.v1+json": {
       "config": {
        "plotlyServerURL": "https://plot.ly"
       },
       "data": [
        {
         "branchvalues": "total",
         "customdata": [
          [
           275,
           145
          ],
          [
           176.66666666666666,
           148.66666666666666
          ],
          [
           82,
           139
          ],
          [
           288.0980392156863,
           146.8235294117647
          ],
          [
           280,
           176
          ],
          [
           232.11764705882354,
           138.11764705882354
          ],
          [
           326,
           169
          ],
          [
           119,
           142
          ],
          [
           211.4848484848485,
           143.0909090909091
          ],
          [
           222.5,
           131.5
          ],
          [
           274.7857142857143,
           141.35714285714286
          ],
          [
           183.7280701754386,
           140.42105263157896
          ],
          [
           219.92307692307693,
           149.78021978021977
          ],
          [
           245,
           176
          ],
          [
           262.6666666666667,
           159.16666666666666
          ],
          [
           203.54166666666666,
           151.95833333333334
          ],
          [
           187.5234375,
           143.875
          ],
          [
           213.93023255813952,
           145.04651162790697
          ],
          [
           276.5,
           174
          ],
          [
           252.18796992481202,
           156.09022556390977
          ],
          [
           237.02941176470588,
           145.2058823529412
          ],
          [
           267.9764705882353,
           171.27058823529413
          ],
          [
           185,
           137
          ],
          [
           247.33333333333334,
           195.25
          ],
          [
           135,
           160
          ],
          [
           330.2,
           194
          ],
          [
           346.5,
           169.5
          ],
          [
           "(?)",
           153.6338028169014
          ],
          [
           "(?)",
           145.64615384615385
          ],
          [
           82,
           139
          ],
          [
           "(?)",
           146.892
          ],
          [
           "(?)",
           135
          ],
          [
           "(?)",
           150.84558823529412
          ]
         ],
         "domain": {
          "x": [
           0,
           1
          ],
          "y": [
           0,
           1
          ]
         },
         "hovertemplate": "labels=%{label}<br>class_counts=%{value}<br>parent=%{parent}<br>id=%{id}<br>ave_elo_lantids=%{customdata[0]}<br>ave_score_lantids=%{color}<extra></extra>",
         "ids": [
          "R1 Structures: Frequency and Overall Score for lantids/lab/ 0-m_0-ts_2-lab_0-pi_0-ac1_0-ac2",
          "R1 Structures: Frequency and Overall Score for lantids/lab/ 0-m_1-ts_1-lab_0-pi_0-ac1_0-ac2",
          "R1 Structures: Frequency and Overall Score for lantids/ac2/ 1-m_0-ts_0-lab_0-pi_0-ac1_1-ac2",
          "R1 Structures: Frequency and Overall Score for lantids/ac1/ 1-m_0-ts_0-lab_0-pi_1-ac1_0-ac2",
          "R1 Structures: Frequency and Overall Score for lantids/PI/ 1-m_0-ts_0-lab_1-pi_0-ac1_0-ac2",
          "R1 Structures: Frequency and Overall Score for lantids/lab/ 1-m_0-ts_1-lab_0-pi_0-ac1_0-ac2",
          "R1 Structures: Frequency and Overall Score for lantids/lab/ 1-m_0-ts_2-lab_0-pi_0-ac1_0-ac2",
          "R1 Structures: Frequency and Overall Score for lantids/ts/ 1-m_1-ts_0-lab_0-pi_0-ac1_0-ac2",
          "R1 Structures: Frequency and Overall Score for lantids/lab/ 1-m_1-ts_1-lab_0-pi_0-ac1_0-ac2",
          "R1 Structures: Frequency and Overall Score for lantids/ts/ 1-m_2-ts_0-lab_0-pi_0-ac1_0-ac2",
          "R1 Structures: Frequency and Overall Score for lantids/ac1/ 2-m_0-ts_0-lab_0-pi_1-ac1_0-ac2",
          "R1 Structures: Frequency and Overall Score for lantids/PI/ 2-m_0-ts_0-lab_1-pi_0-ac1_0-ac2",
          "R1 Structures: Frequency and Overall Score for lantids/lab/ 2-m_0-ts_1-lab_0-pi_0-ac1_0-ac2",
          "R1 Structures: Frequency and Overall Score for lantids/PI/ 2-m_0-ts_1-lab_1-pi_0-ac1_0-ac2",
          "R1 Structures: Frequency and Overall Score for lantids/PI/ 2-m_1-ts_0-lab_1-pi_0-ac1_0-ac2",
          "R1 Structures: Frequency and Overall Score for lantids/lab/ 2-m_1-ts_1-lab_0-pi_0-ac1_0-ac2",
          "R1 Structures: Frequency and Overall Score for lantids/PI/ 3-m_0-ts_0-lab_1-pi_0-ac1_0-ac2",
          "R1 Structures: Frequency and Overall Score for lantids/lab/ 3-m_0-ts_1-lab_0-pi_0-ac1_0-ac2",
          "R1 Structures: Frequency and Overall Score for lantids/PI/ 3-m_1-ts_0-lab_1-pi_0-ac1_0-ac2",
          "R1 Structures: Frequency and Overall Score for lantids/PI/ 4-m_0-ts_0-lab_1-pi_0-ac1_0-ac2",
          "R1 Structures: Frequency and Overall Score for lantids/lab/ 4-m_0-ts_1-lab_0-pi_0-ac1_0-ac2",
          "R1 Structures: Frequency and Overall Score for lantids/PI/ 5-m_0-ts_0-lab_1-pi_0-ac1_0-ac2",
          "R1 Structures: Frequency and Overall Score for lantids/lab/ 5-m_0-ts_1-lab_0-pi_0-ac1_0-ac2",
          "R1 Structures: Frequency and Overall Score for lantids/PI/ 6-m_0-ts_0-lab_1-pi_0-ac1_0-ac2",
          "R1 Structures: Frequency and Overall Score for lantids/lab/ 6-m_0-ts_1-lab_0-pi_0-ac1_0-ac2",
          "R1 Structures: Frequency and Overall Score for lantids/PI/ 7-m_0-ts_0-lab_1-pi_0-ac1_0-ac2",
          "R1 Structures: Frequency and Overall Score for lantids/PI/ 8-m_0-ts_0-lab_1-pi_0-ac1_0-ac2",
          "R1 Structures: Frequency and Overall Score for lantids/PI",
          "R1 Structures: Frequency and Overall Score for lantids/ac1",
          "R1 Structures: Frequency and Overall Score for lantids/ac2",
          "R1 Structures: Frequency and Overall Score for lantids/lab",
          "R1 Structures: Frequency and Overall Score for lantids/ts",
          "R1 Structures: Frequency and Overall Score for lantids"
         ],
         "labels": [
          " 0-m_0-ts_2-lab_0-pi_0-ac1_0-ac2",
          " 0-m_1-ts_1-lab_0-pi_0-ac1_0-ac2",
          " 1-m_0-ts_0-lab_0-pi_0-ac1_1-ac2",
          " 1-m_0-ts_0-lab_0-pi_1-ac1_0-ac2",
          " 1-m_0-ts_0-lab_1-pi_0-ac1_0-ac2",
          " 1-m_0-ts_1-lab_0-pi_0-ac1_0-ac2",
          " 1-m_0-ts_2-lab_0-pi_0-ac1_0-ac2",
          " 1-m_1-ts_0-lab_0-pi_0-ac1_0-ac2",
          " 1-m_1-ts_1-lab_0-pi_0-ac1_0-ac2",
          " 1-m_2-ts_0-lab_0-pi_0-ac1_0-ac2",
          " 2-m_0-ts_0-lab_0-pi_1-ac1_0-ac2",
          " 2-m_0-ts_0-lab_1-pi_0-ac1_0-ac2",
          " 2-m_0-ts_1-lab_0-pi_0-ac1_0-ac2",
          " 2-m_0-ts_1-lab_1-pi_0-ac1_0-ac2",
          " 2-m_1-ts_0-lab_1-pi_0-ac1_0-ac2",
          " 2-m_1-ts_1-lab_0-pi_0-ac1_0-ac2",
          " 3-m_0-ts_0-lab_1-pi_0-ac1_0-ac2",
          " 3-m_0-ts_1-lab_0-pi_0-ac1_0-ac2",
          " 3-m_1-ts_0-lab_1-pi_0-ac1_0-ac2",
          " 4-m_0-ts_0-lab_1-pi_0-ac1_0-ac2",
          " 4-m_0-ts_1-lab_0-pi_0-ac1_0-ac2",
          " 5-m_0-ts_0-lab_1-pi_0-ac1_0-ac2",
          " 5-m_0-ts_1-lab_0-pi_0-ac1_0-ac2",
          " 6-m_0-ts_0-lab_1-pi_0-ac1_0-ac2",
          " 6-m_0-ts_1-lab_0-pi_0-ac1_0-ac2",
          " 7-m_0-ts_0-lab_1-pi_0-ac1_0-ac2",
          " 8-m_0-ts_0-lab_1-pi_0-ac1_0-ac2",
          "PI",
          "ac1",
          "ac2",
          "lab",
          "ts",
          "R1 Structures: Frequency and Overall Score for lantids"
         ],
         "marker": {
          "coloraxis": "coloraxis",
          "colors": [
           145,
           148.66666666666666,
           139,
           146.8235294117647,
           176,
           138.11764705882354,
           169,
           142,
           143.0909090909091,
           131.5,
           141.35714285714286,
           140.42105263157896,
           149.78021978021977,
           176,
           159.16666666666666,
           151.95833333333334,
           143.875,
           145.04651162790697,
           174,
           156.09022556390977,
           145.2058823529412,
           171.27058823529413,
           137,
           195.25,
           160,
           194,
           169.5,
           153.6338028169014,
           145.64615384615385,
           139,
           146.892,
           135,
           150.84558823529412
          ]
         },
         "name": "",
         "parents": [
          "R1 Structures: Frequency and Overall Score for lantids/lab",
          "R1 Structures: Frequency and Overall Score for lantids/lab",
          "R1 Structures: Frequency and Overall Score for lantids/ac2",
          "R1 Structures: Frequency and Overall Score for lantids/ac1",
          "R1 Structures: Frequency and Overall Score for lantids/PI",
          "R1 Structures: Frequency and Overall Score for lantids/lab",
          "R1 Structures: Frequency and Overall Score for lantids/lab",
          "R1 Structures: Frequency and Overall Score for lantids/ts",
          "R1 Structures: Frequency and Overall Score for lantids/lab",
          "R1 Structures: Frequency and Overall Score for lantids/ts",
          "R1 Structures: Frequency and Overall Score for lantids/ac1",
          "R1 Structures: Frequency and Overall Score for lantids/PI",
          "R1 Structures: Frequency and Overall Score for lantids/lab",
          "R1 Structures: Frequency and Overall Score for lantids/PI",
          "R1 Structures: Frequency and Overall Score for lantids/PI",
          "R1 Structures: Frequency and Overall Score for lantids/lab",
          "R1 Structures: Frequency and Overall Score for lantids/PI",
          "R1 Structures: Frequency and Overall Score for lantids/lab",
          "R1 Structures: Frequency and Overall Score for lantids/PI",
          "R1 Structures: Frequency and Overall Score for lantids/PI",
          "R1 Structures: Frequency and Overall Score for lantids/lab",
          "R1 Structures: Frequency and Overall Score for lantids/PI",
          "R1 Structures: Frequency and Overall Score for lantids/lab",
          "R1 Structures: Frequency and Overall Score for lantids/PI",
          "R1 Structures: Frequency and Overall Score for lantids/lab",
          "R1 Structures: Frequency and Overall Score for lantids/PI",
          "R1 Structures: Frequency and Overall Score for lantids/PI",
          "R1 Structures: Frequency and Overall Score for lantids",
          "R1 Structures: Frequency and Overall Score for lantids",
          "R1 Structures: Frequency and Overall Score for lantids",
          "R1 Structures: Frequency and Overall Score for lantids",
          "R1 Structures: Frequency and Overall Score for lantids",
          ""
         ],
         "type": "treemap",
         "values": [
          2,
          3,
          1,
          51,
          2,
          17,
          1,
          1,
          33,
          2,
          14,
          114,
          91,
          2,
          12,
          24,
          128,
          43,
          2,
          133,
          34,
          85,
          1,
          12,
          1,
          5,
          2,
          497,
          65,
          1,
          250,
          3,
          816
         ]
        }
       ],
       "layout": {
        "coloraxis": {
         "cmid": 153.409394703657,
         "colorbar": {
          "title": {
           "text": "ave_score_lantids"
          }
         },
         "colorscale": [
          [
           0,
           "rgb(103,0,31)"
          ],
          [
           0.1,
           "rgb(178,24,43)"
          ],
          [
           0.2,
           "rgb(214,96,77)"
          ],
          [
           0.3,
           "rgb(244,165,130)"
          ],
          [
           0.4,
           "rgb(253,219,199)"
          ],
          [
           0.5,
           "rgb(247,247,247)"
          ],
          [
           0.6,
           "rgb(209,229,240)"
          ],
          [
           0.7,
           "rgb(146,197,222)"
          ],
          [
           0.8,
           "rgb(67,147,195)"
          ],
          [
           0.9,
           "rgb(33,102,172)"
          ],
          [
           1,
           "rgb(5,48,97)"
          ]
         ]
        },
        "legend": {
         "tracegroupgap": 0
        },
        "margin": {
         "b": 25,
         "l": 25,
         "r": 25,
         "t": 50
        },
        "template": {
         "data": {
          "bar": [
           {
            "error_x": {
             "color": "#2a3f5f"
            },
            "error_y": {
             "color": "#2a3f5f"
            },
            "marker": {
             "line": {
              "color": "#E5ECF6",
              "width": 0.5
             },
             "pattern": {
              "fillmode": "overlay",
              "size": 10,
              "solidity": 0.2
             }
            },
            "type": "bar"
           }
          ],
          "barpolar": [
           {
            "marker": {
             "line": {
              "color": "#E5ECF6",
              "width": 0.5
             },
             "pattern": {
              "fillmode": "overlay",
              "size": 10,
              "solidity": 0.2
             }
            },
            "type": "barpolar"
           }
          ],
          "carpet": [
           {
            "aaxis": {
             "endlinecolor": "#2a3f5f",
             "gridcolor": "white",
             "linecolor": "white",
             "minorgridcolor": "white",
             "startlinecolor": "#2a3f5f"
            },
            "baxis": {
             "endlinecolor": "#2a3f5f",
             "gridcolor": "white",
             "linecolor": "white",
             "minorgridcolor": "white",
             "startlinecolor": "#2a3f5f"
            },
            "type": "carpet"
           }
          ],
          "choropleth": [
           {
            "colorbar": {
             "outlinewidth": 0,
             "ticks": ""
            },
            "type": "choropleth"
           }
          ],
          "contour": [
           {
            "colorbar": {
             "outlinewidth": 0,
             "ticks": ""
            },
            "colorscale": [
             [
              0,
              "#0d0887"
             ],
             [
              0.1111111111111111,
              "#46039f"
             ],
             [
              0.2222222222222222,
              "#7201a8"
             ],
             [
              0.3333333333333333,
              "#9c179e"
             ],
             [
              0.4444444444444444,
              "#bd3786"
             ],
             [
              0.5555555555555556,
              "#d8576b"
             ],
             [
              0.6666666666666666,
              "#ed7953"
             ],
             [
              0.7777777777777778,
              "#fb9f3a"
             ],
             [
              0.8888888888888888,
              "#fdca26"
             ],
             [
              1,
              "#f0f921"
             ]
            ],
            "type": "contour"
           }
          ],
          "contourcarpet": [
           {
            "colorbar": {
             "outlinewidth": 0,
             "ticks": ""
            },
            "type": "contourcarpet"
           }
          ],
          "heatmap": [
           {
            "colorbar": {
             "outlinewidth": 0,
             "ticks": ""
            },
            "colorscale": [
             [
              0,
              "#0d0887"
             ],
             [
              0.1111111111111111,
              "#46039f"
             ],
             [
              0.2222222222222222,
              "#7201a8"
             ],
             [
              0.3333333333333333,
              "#9c179e"
             ],
             [
              0.4444444444444444,
              "#bd3786"
             ],
             [
              0.5555555555555556,
              "#d8576b"
             ],
             [
              0.6666666666666666,
              "#ed7953"
             ],
             [
              0.7777777777777778,
              "#fb9f3a"
             ],
             [
              0.8888888888888888,
              "#fdca26"
             ],
             [
              1,
              "#f0f921"
             ]
            ],
            "type": "heatmap"
           }
          ],
          "heatmapgl": [
           {
            "colorbar": {
             "outlinewidth": 0,
             "ticks": ""
            },
            "colorscale": [
             [
              0,
              "#0d0887"
             ],
             [
              0.1111111111111111,
              "#46039f"
             ],
             [
              0.2222222222222222,
              "#7201a8"
             ],
             [
              0.3333333333333333,
              "#9c179e"
             ],
             [
              0.4444444444444444,
              "#bd3786"
             ],
             [
              0.5555555555555556,
              "#d8576b"
             ],
             [
              0.6666666666666666,
              "#ed7953"
             ],
             [
              0.7777777777777778,
              "#fb9f3a"
             ],
             [
              0.8888888888888888,
              "#fdca26"
             ],
             [
              1,
              "#f0f921"
             ]
            ],
            "type": "heatmapgl"
           }
          ],
          "histogram": [
           {
            "marker": {
             "pattern": {
              "fillmode": "overlay",
              "size": 10,
              "solidity": 0.2
             }
            },
            "type": "histogram"
           }
          ],
          "histogram2d": [
           {
            "colorbar": {
             "outlinewidth": 0,
             "ticks": ""
            },
            "colorscale": [
             [
              0,
              "#0d0887"
             ],
             [
              0.1111111111111111,
              "#46039f"
             ],
             [
              0.2222222222222222,
              "#7201a8"
             ],
             [
              0.3333333333333333,
              "#9c179e"
             ],
             [
              0.4444444444444444,
              "#bd3786"
             ],
             [
              0.5555555555555556,
              "#d8576b"
             ],
             [
              0.6666666666666666,
              "#ed7953"
             ],
             [
              0.7777777777777778,
              "#fb9f3a"
             ],
             [
              0.8888888888888888,
              "#fdca26"
             ],
             [
              1,
              "#f0f921"
             ]
            ],
            "type": "histogram2d"
           }
          ],
          "histogram2dcontour": [
           {
            "colorbar": {
             "outlinewidth": 0,
             "ticks": ""
            },
            "colorscale": [
             [
              0,
              "#0d0887"
             ],
             [
              0.1111111111111111,
              "#46039f"
             ],
             [
              0.2222222222222222,
              "#7201a8"
             ],
             [
              0.3333333333333333,
              "#9c179e"
             ],
             [
              0.4444444444444444,
              "#bd3786"
             ],
             [
              0.5555555555555556,
              "#d8576b"
             ],
             [
              0.6666666666666666,
              "#ed7953"
             ],
             [
              0.7777777777777778,
              "#fb9f3a"
             ],
             [
              0.8888888888888888,
              "#fdca26"
             ],
             [
              1,
              "#f0f921"
             ]
            ],
            "type": "histogram2dcontour"
           }
          ],
          "mesh3d": [
           {
            "colorbar": {
             "outlinewidth": 0,
             "ticks": ""
            },
            "type": "mesh3d"
           }
          ],
          "parcoords": [
           {
            "line": {
             "colorbar": {
              "outlinewidth": 0,
              "ticks": ""
             }
            },
            "type": "parcoords"
           }
          ],
          "pie": [
           {
            "automargin": true,
            "type": "pie"
           }
          ],
          "scatter": [
           {
            "marker": {
             "colorbar": {
              "outlinewidth": 0,
              "ticks": ""
             }
            },
            "type": "scatter"
           }
          ],
          "scatter3d": [
           {
            "line": {
             "colorbar": {
              "outlinewidth": 0,
              "ticks": ""
             }
            },
            "marker": {
             "colorbar": {
              "outlinewidth": 0,
              "ticks": ""
             }
            },
            "type": "scatter3d"
           }
          ],
          "scattercarpet": [
           {
            "marker": {
             "colorbar": {
              "outlinewidth": 0,
              "ticks": ""
             }
            },
            "type": "scattercarpet"
           }
          ],
          "scattergeo": [
           {
            "marker": {
             "colorbar": {
              "outlinewidth": 0,
              "ticks": ""
             }
            },
            "type": "scattergeo"
           }
          ],
          "scattergl": [
           {
            "marker": {
             "colorbar": {
              "outlinewidth": 0,
              "ticks": ""
             }
            },
            "type": "scattergl"
           }
          ],
          "scattermapbox": [
           {
            "marker": {
             "colorbar": {
              "outlinewidth": 0,
              "ticks": ""
             }
            },
            "type": "scattermapbox"
           }
          ],
          "scatterpolar": [
           {
            "marker": {
             "colorbar": {
              "outlinewidth": 0,
              "ticks": ""
             }
            },
            "type": "scatterpolar"
           }
          ],
          "scatterpolargl": [
           {
            "marker": {
             "colorbar": {
              "outlinewidth": 0,
              "ticks": ""
             }
            },
            "type": "scatterpolargl"
           }
          ],
          "scatterternary": [
           {
            "marker": {
             "colorbar": {
              "outlinewidth": 0,
              "ticks": ""
             }
            },
            "type": "scatterternary"
           }
          ],
          "surface": [
           {
            "colorbar": {
             "outlinewidth": 0,
             "ticks": ""
            },
            "colorscale": [
             [
              0,
              "#0d0887"
             ],
             [
              0.1111111111111111,
              "#46039f"
             ],
             [
              0.2222222222222222,
              "#7201a8"
             ],
             [
              0.3333333333333333,
              "#9c179e"
             ],
             [
              0.4444444444444444,
              "#bd3786"
             ],
             [
              0.5555555555555556,
              "#d8576b"
             ],
             [
              0.6666666666666666,
              "#ed7953"
             ],
             [
              0.7777777777777778,
              "#fb9f3a"
             ],
             [
              0.8888888888888888,
              "#fdca26"
             ],
             [
              1,
              "#f0f921"
             ]
            ],
            "type": "surface"
           }
          ],
          "table": [
           {
            "cells": {
             "fill": {
              "color": "#EBF0F8"
             },
             "line": {
              "color": "white"
             }
            },
            "header": {
             "fill": {
              "color": "#C8D4E3"
             },
             "line": {
              "color": "white"
             }
            },
            "type": "table"
           }
          ]
         },
         "layout": {
          "annotationdefaults": {
           "arrowcolor": "#2a3f5f",
           "arrowhead": 0,
           "arrowwidth": 1
          },
          "autotypenumbers": "strict",
          "coloraxis": {
           "colorbar": {
            "outlinewidth": 0,
            "ticks": ""
           }
          },
          "colorscale": {
           "diverging": [
            [
             0,
             "#8e0152"
            ],
            [
             0.1,
             "#c51b7d"
            ],
            [
             0.2,
             "#de77ae"
            ],
            [
             0.3,
             "#f1b6da"
            ],
            [
             0.4,
             "#fde0ef"
            ],
            [
             0.5,
             "#f7f7f7"
            ],
            [
             0.6,
             "#e6f5d0"
            ],
            [
             0.7,
             "#b8e186"
            ],
            [
             0.8,
             "#7fbc41"
            ],
            [
             0.9,
             "#4d9221"
            ],
            [
             1,
             "#276419"
            ]
           ],
           "sequential": [
            [
             0,
             "#0d0887"
            ],
            [
             0.1111111111111111,
             "#46039f"
            ],
            [
             0.2222222222222222,
             "#7201a8"
            ],
            [
             0.3333333333333333,
             "#9c179e"
            ],
            [
             0.4444444444444444,
             "#bd3786"
            ],
            [
             0.5555555555555556,
             "#d8576b"
            ],
            [
             0.6666666666666666,
             "#ed7953"
            ],
            [
             0.7777777777777778,
             "#fb9f3a"
            ],
            [
             0.8888888888888888,
             "#fdca26"
            ],
            [
             1,
             "#f0f921"
            ]
           ],
           "sequentialminus": [
            [
             0,
             "#0d0887"
            ],
            [
             0.1111111111111111,
             "#46039f"
            ],
            [
             0.2222222222222222,
             "#7201a8"
            ],
            [
             0.3333333333333333,
             "#9c179e"
            ],
            [
             0.4444444444444444,
             "#bd3786"
            ],
            [
             0.5555555555555556,
             "#d8576b"
            ],
            [
             0.6666666666666666,
             "#ed7953"
            ],
            [
             0.7777777777777778,
             "#fb9f3a"
            ],
            [
             0.8888888888888888,
             "#fdca26"
            ],
            [
             1,
             "#f0f921"
            ]
           ]
          },
          "colorway": [
           "#636efa",
           "#EF553B",
           "#00cc96",
           "#ab63fa",
           "#FFA15A",
           "#19d3f3",
           "#FF6692",
           "#B6E880",
           "#FF97FF",
           "#FECB52"
          ],
          "font": {
           "color": "#2a3f5f"
          },
          "geo": {
           "bgcolor": "white",
           "lakecolor": "white",
           "landcolor": "#E5ECF6",
           "showlakes": true,
           "showland": true,
           "subunitcolor": "white"
          },
          "hoverlabel": {
           "align": "left"
          },
          "hovermode": "closest",
          "mapbox": {
           "style": "light"
          },
          "paper_bgcolor": "white",
          "plot_bgcolor": "#E5ECF6",
          "polar": {
           "angularaxis": {
            "gridcolor": "white",
            "linecolor": "white",
            "ticks": ""
           },
           "bgcolor": "#E5ECF6",
           "radialaxis": {
            "gridcolor": "white",
            "linecolor": "white",
            "ticks": ""
           }
          },
          "scene": {
           "xaxis": {
            "backgroundcolor": "#E5ECF6",
            "gridcolor": "white",
            "gridwidth": 2,
            "linecolor": "white",
            "showbackground": true,
            "ticks": "",
            "zerolinecolor": "white"
           },
           "yaxis": {
            "backgroundcolor": "#E5ECF6",
            "gridcolor": "white",
            "gridwidth": 2,
            "linecolor": "white",
            "showbackground": true,
            "ticks": "",
            "zerolinecolor": "white"
           },
           "zaxis": {
            "backgroundcolor": "#E5ECF6",
            "gridcolor": "white",
            "gridwidth": 2,
            "linecolor": "white",
            "showbackground": true,
            "ticks": "",
            "zerolinecolor": "white"
           }
          },
          "shapedefaults": {
           "line": {
            "color": "#2a3f5f"
           }
          },
          "ternary": {
           "aaxis": {
            "gridcolor": "white",
            "linecolor": "white",
            "ticks": ""
           },
           "baxis": {
            "gridcolor": "white",
            "linecolor": "white",
            "ticks": ""
           },
           "bgcolor": "#E5ECF6",
           "caxis": {
            "gridcolor": "white",
            "linecolor": "white",
            "ticks": ""
           }
          },
          "title": {
           "x": 0.05
          },
          "xaxis": {
           "automargin": true,
           "gridcolor": "white",
           "linecolor": "white",
           "ticks": "",
           "title": {
            "standoff": 15
           },
           "zerolinecolor": "white",
           "zerolinewidth": 2
          },
          "yaxis": {
           "automargin": true,
           "gridcolor": "white",
           "linecolor": "white",
           "ticks": "",
           "title": {
            "standoff": 15
           },
           "zerolinecolor": "white",
           "zerolinewidth": 2
          }
         }
        },
        "title": {
         "text": "R1 Structures: Frequency and Impact on Score Relative to All Factions Average (153.41): lantids"
        }
       }
      },
      "text/html": [
       "<div>                            <div id=\"e6a55c66-604c-458e-a892-f6814065d36a\" class=\"plotly-graph-div\" style=\"height:525px; width:100%;\"></div>            <script type=\"text/javascript\">                require([\"plotly\"], function(Plotly) {                    window.PLOTLYENV=window.PLOTLYENV || {};                                    if (document.getElementById(\"e6a55c66-604c-458e-a892-f6814065d36a\")) {                    Plotly.newPlot(                        \"e6a55c66-604c-458e-a892-f6814065d36a\",                        [{\"branchvalues\":\"total\",\"customdata\":[[275.0,145.0],[176.66666666666666,148.66666666666666],[82.0,139.0],[288.0980392156863,146.8235294117647],[280.0,176.0],[232.11764705882354,138.11764705882354],[326.0,169.0],[119.0,142.0],[211.4848484848485,143.0909090909091],[222.5,131.5],[274.7857142857143,141.35714285714286],[183.7280701754386,140.42105263157896],[219.92307692307693,149.78021978021977],[245.0,176.0],[262.6666666666667,159.16666666666666],[203.54166666666666,151.95833333333334],[187.5234375,143.875],[213.93023255813952,145.04651162790697],[276.5,174.0],[252.18796992481202,156.09022556390977],[237.02941176470588,145.2058823529412],[267.9764705882353,171.27058823529413],[185.0,137.0],[247.33333333333334,195.25],[135.0,160.0],[330.2,194.0],[346.5,169.5],[\"(?)\",153.6338028169014],[\"(?)\",145.64615384615385],[82.0,139.0],[\"(?)\",146.892],[\"(?)\",135.0],[\"(?)\",150.84558823529412]],\"domain\":{\"x\":[0.0,1.0],\"y\":[0.0,1.0]},\"hovertemplate\":\"labels=%{label}<br>class_counts=%{value}<br>parent=%{parent}<br>id=%{id}<br>ave_elo_lantids=%{customdata[0]}<br>ave_score_lantids=%{color}<extra></extra>\",\"ids\":[\"R1 Structures: Frequency and Overall Score for lantids/lab/ 0-m_0-ts_2-lab_0-pi_0-ac1_0-ac2\",\"R1 Structures: Frequency and Overall Score for lantids/lab/ 0-m_1-ts_1-lab_0-pi_0-ac1_0-ac2\",\"R1 Structures: Frequency and Overall Score for lantids/ac2/ 1-m_0-ts_0-lab_0-pi_0-ac1_1-ac2\",\"R1 Structures: Frequency and Overall Score for lantids/ac1/ 1-m_0-ts_0-lab_0-pi_1-ac1_0-ac2\",\"R1 Structures: Frequency and Overall Score for lantids/PI/ 1-m_0-ts_0-lab_1-pi_0-ac1_0-ac2\",\"R1 Structures: Frequency and Overall Score for lantids/lab/ 1-m_0-ts_1-lab_0-pi_0-ac1_0-ac2\",\"R1 Structures: Frequency and Overall Score for lantids/lab/ 1-m_0-ts_2-lab_0-pi_0-ac1_0-ac2\",\"R1 Structures: Frequency and Overall Score for lantids/ts/ 1-m_1-ts_0-lab_0-pi_0-ac1_0-ac2\",\"R1 Structures: Frequency and Overall Score for lantids/lab/ 1-m_1-ts_1-lab_0-pi_0-ac1_0-ac2\",\"R1 Structures: Frequency and Overall Score for lantids/ts/ 1-m_2-ts_0-lab_0-pi_0-ac1_0-ac2\",\"R1 Structures: Frequency and Overall Score for lantids/ac1/ 2-m_0-ts_0-lab_0-pi_1-ac1_0-ac2\",\"R1 Structures: Frequency and Overall Score for lantids/PI/ 2-m_0-ts_0-lab_1-pi_0-ac1_0-ac2\",\"R1 Structures: Frequency and Overall Score for lantids/lab/ 2-m_0-ts_1-lab_0-pi_0-ac1_0-ac2\",\"R1 Structures: Frequency and Overall Score for lantids/PI/ 2-m_0-ts_1-lab_1-pi_0-ac1_0-ac2\",\"R1 Structures: Frequency and Overall Score for lantids/PI/ 2-m_1-ts_0-lab_1-pi_0-ac1_0-ac2\",\"R1 Structures: Frequency and Overall Score for lantids/lab/ 2-m_1-ts_1-lab_0-pi_0-ac1_0-ac2\",\"R1 Structures: Frequency and Overall Score for lantids/PI/ 3-m_0-ts_0-lab_1-pi_0-ac1_0-ac2\",\"R1 Structures: Frequency and Overall Score for lantids/lab/ 3-m_0-ts_1-lab_0-pi_0-ac1_0-ac2\",\"R1 Structures: Frequency and Overall Score for lantids/PI/ 3-m_1-ts_0-lab_1-pi_0-ac1_0-ac2\",\"R1 Structures: Frequency and Overall Score for lantids/PI/ 4-m_0-ts_0-lab_1-pi_0-ac1_0-ac2\",\"R1 Structures: Frequency and Overall Score for lantids/lab/ 4-m_0-ts_1-lab_0-pi_0-ac1_0-ac2\",\"R1 Structures: Frequency and Overall Score for lantids/PI/ 5-m_0-ts_0-lab_1-pi_0-ac1_0-ac2\",\"R1 Structures: Frequency and Overall Score for lantids/lab/ 5-m_0-ts_1-lab_0-pi_0-ac1_0-ac2\",\"R1 Structures: Frequency and Overall Score for lantids/PI/ 6-m_0-ts_0-lab_1-pi_0-ac1_0-ac2\",\"R1 Structures: Frequency and Overall Score for lantids/lab/ 6-m_0-ts_1-lab_0-pi_0-ac1_0-ac2\",\"R1 Structures: Frequency and Overall Score for lantids/PI/ 7-m_0-ts_0-lab_1-pi_0-ac1_0-ac2\",\"R1 Structures: Frequency and Overall Score for lantids/PI/ 8-m_0-ts_0-lab_1-pi_0-ac1_0-ac2\",\"R1 Structures: Frequency and Overall Score for lantids/PI\",\"R1 Structures: Frequency and Overall Score for lantids/ac1\",\"R1 Structures: Frequency and Overall Score for lantids/ac2\",\"R1 Structures: Frequency and Overall Score for lantids/lab\",\"R1 Structures: Frequency and Overall Score for lantids/ts\",\"R1 Structures: Frequency and Overall Score for lantids\"],\"labels\":[\" 0-m_0-ts_2-lab_0-pi_0-ac1_0-ac2\",\" 0-m_1-ts_1-lab_0-pi_0-ac1_0-ac2\",\" 1-m_0-ts_0-lab_0-pi_0-ac1_1-ac2\",\" 1-m_0-ts_0-lab_0-pi_1-ac1_0-ac2\",\" 1-m_0-ts_0-lab_1-pi_0-ac1_0-ac2\",\" 1-m_0-ts_1-lab_0-pi_0-ac1_0-ac2\",\" 1-m_0-ts_2-lab_0-pi_0-ac1_0-ac2\",\" 1-m_1-ts_0-lab_0-pi_0-ac1_0-ac2\",\" 1-m_1-ts_1-lab_0-pi_0-ac1_0-ac2\",\" 1-m_2-ts_0-lab_0-pi_0-ac1_0-ac2\",\" 2-m_0-ts_0-lab_0-pi_1-ac1_0-ac2\",\" 2-m_0-ts_0-lab_1-pi_0-ac1_0-ac2\",\" 2-m_0-ts_1-lab_0-pi_0-ac1_0-ac2\",\" 2-m_0-ts_1-lab_1-pi_0-ac1_0-ac2\",\" 2-m_1-ts_0-lab_1-pi_0-ac1_0-ac2\",\" 2-m_1-ts_1-lab_0-pi_0-ac1_0-ac2\",\" 3-m_0-ts_0-lab_1-pi_0-ac1_0-ac2\",\" 3-m_0-ts_1-lab_0-pi_0-ac1_0-ac2\",\" 3-m_1-ts_0-lab_1-pi_0-ac1_0-ac2\",\" 4-m_0-ts_0-lab_1-pi_0-ac1_0-ac2\",\" 4-m_0-ts_1-lab_0-pi_0-ac1_0-ac2\",\" 5-m_0-ts_0-lab_1-pi_0-ac1_0-ac2\",\" 5-m_0-ts_1-lab_0-pi_0-ac1_0-ac2\",\" 6-m_0-ts_0-lab_1-pi_0-ac1_0-ac2\",\" 6-m_0-ts_1-lab_0-pi_0-ac1_0-ac2\",\" 7-m_0-ts_0-lab_1-pi_0-ac1_0-ac2\",\" 8-m_0-ts_0-lab_1-pi_0-ac1_0-ac2\",\"PI\",\"ac1\",\"ac2\",\"lab\",\"ts\",\"R1 Structures: Frequency and Overall Score for lantids\"],\"marker\":{\"coloraxis\":\"coloraxis\",\"colors\":[145.0,148.66666666666666,139.0,146.8235294117647,176.0,138.11764705882354,169.0,142.0,143.0909090909091,131.5,141.35714285714286,140.42105263157896,149.78021978021977,176.0,159.16666666666666,151.95833333333334,143.875,145.04651162790697,174.0,156.09022556390977,145.2058823529412,171.27058823529413,137.0,195.25,160.0,194.0,169.5,153.6338028169014,145.64615384615385,139.0,146.892,135.0,150.84558823529412]},\"name\":\"\",\"parents\":[\"R1 Structures: Frequency and Overall Score for lantids/lab\",\"R1 Structures: Frequency and Overall Score for lantids/lab\",\"R1 Structures: Frequency and Overall Score for lantids/ac2\",\"R1 Structures: Frequency and Overall Score for lantids/ac1\",\"R1 Structures: Frequency and Overall Score for lantids/PI\",\"R1 Structures: Frequency and Overall Score for lantids/lab\",\"R1 Structures: Frequency and Overall Score for lantids/lab\",\"R1 Structures: Frequency and Overall Score for lantids/ts\",\"R1 Structures: Frequency and Overall Score for lantids/lab\",\"R1 Structures: Frequency and Overall Score for lantids/ts\",\"R1 Structures: Frequency and Overall Score for lantids/ac1\",\"R1 Structures: Frequency and Overall Score for lantids/PI\",\"R1 Structures: Frequency and Overall Score for lantids/lab\",\"R1 Structures: Frequency and Overall Score for lantids/PI\",\"R1 Structures: Frequency and Overall Score for lantids/PI\",\"R1 Structures: Frequency and Overall Score for lantids/lab\",\"R1 Structures: Frequency and Overall Score for lantids/PI\",\"R1 Structures: Frequency and Overall Score for lantids/lab\",\"R1 Structures: Frequency and Overall Score for lantids/PI\",\"R1 Structures: Frequency and Overall Score for lantids/PI\",\"R1 Structures: Frequency and Overall Score for lantids/lab\",\"R1 Structures: Frequency and Overall Score for lantids/PI\",\"R1 Structures: Frequency and Overall Score for lantids/lab\",\"R1 Structures: Frequency and Overall Score for lantids/PI\",\"R1 Structures: Frequency and Overall Score for lantids/lab\",\"R1 Structures: Frequency and Overall Score for lantids/PI\",\"R1 Structures: Frequency and Overall Score for lantids/PI\",\"R1 Structures: Frequency and Overall Score for lantids\",\"R1 Structures: Frequency and Overall Score for lantids\",\"R1 Structures: Frequency and Overall Score for lantids\",\"R1 Structures: Frequency and Overall Score for lantids\",\"R1 Structures: Frequency and Overall Score for lantids\",\"\"],\"values\":[2,3,1,51,2,17,1,1,33,2,14,114,91,2,12,24,128,43,2,133,34,85,1,12,1,5,2,497,65,1,250,3,816],\"type\":\"treemap\"}],                        {\"template\":{\"data\":{\"bar\":[{\"error_x\":{\"color\":\"#2a3f5f\"},\"error_y\":{\"color\":\"#2a3f5f\"},\"marker\":{\"line\":{\"color\":\"#E5ECF6\",\"width\":0.5},\"pattern\":{\"fillmode\":\"overlay\",\"size\":10,\"solidity\":0.2}},\"type\":\"bar\"}],\"barpolar\":[{\"marker\":{\"line\":{\"color\":\"#E5ECF6\",\"width\":0.5},\"pattern\":{\"fillmode\":\"overlay\",\"size\":10,\"solidity\":0.2}},\"type\":\"barpolar\"}],\"carpet\":[{\"aaxis\":{\"endlinecolor\":\"#2a3f5f\",\"gridcolor\":\"white\",\"linecolor\":\"white\",\"minorgridcolor\":\"white\",\"startlinecolor\":\"#2a3f5f\"},\"baxis\":{\"endlinecolor\":\"#2a3f5f\",\"gridcolor\":\"white\",\"linecolor\":\"white\",\"minorgridcolor\":\"white\",\"startlinecolor\":\"#2a3f5f\"},\"type\":\"carpet\"}],\"choropleth\":[{\"colorbar\":{\"outlinewidth\":0,\"ticks\":\"\"},\"type\":\"choropleth\"}],\"contour\":[{\"colorbar\":{\"outlinewidth\":0,\"ticks\":\"\"},\"colorscale\":[[0.0,\"#0d0887\"],[0.1111111111111111,\"#46039f\"],[0.2222222222222222,\"#7201a8\"],[0.3333333333333333,\"#9c179e\"],[0.4444444444444444,\"#bd3786\"],[0.5555555555555556,\"#d8576b\"],[0.6666666666666666,\"#ed7953\"],[0.7777777777777778,\"#fb9f3a\"],[0.8888888888888888,\"#fdca26\"],[1.0,\"#f0f921\"]],\"type\":\"contour\"}],\"contourcarpet\":[{\"colorbar\":{\"outlinewidth\":0,\"ticks\":\"\"},\"type\":\"contourcarpet\"}],\"heatmap\":[{\"colorbar\":{\"outlinewidth\":0,\"ticks\":\"\"},\"colorscale\":[[0.0,\"#0d0887\"],[0.1111111111111111,\"#46039f\"],[0.2222222222222222,\"#7201a8\"],[0.3333333333333333,\"#9c179e\"],[0.4444444444444444,\"#bd3786\"],[0.5555555555555556,\"#d8576b\"],[0.6666666666666666,\"#ed7953\"],[0.7777777777777778,\"#fb9f3a\"],[0.8888888888888888,\"#fdca26\"],[1.0,\"#f0f921\"]],\"type\":\"heatmap\"}],\"heatmapgl\":[{\"colorbar\":{\"outlinewidth\":0,\"ticks\":\"\"},\"colorscale\":[[0.0,\"#0d0887\"],[0.1111111111111111,\"#46039f\"],[0.2222222222222222,\"#7201a8\"],[0.3333333333333333,\"#9c179e\"],[0.4444444444444444,\"#bd3786\"],[0.5555555555555556,\"#d8576b\"],[0.6666666666666666,\"#ed7953\"],[0.7777777777777778,\"#fb9f3a\"],[0.8888888888888888,\"#fdca26\"],[1.0,\"#f0f921\"]],\"type\":\"heatmapgl\"}],\"histogram\":[{\"marker\":{\"pattern\":{\"fillmode\":\"overlay\",\"size\":10,\"solidity\":0.2}},\"type\":\"histogram\"}],\"histogram2d\":[{\"colorbar\":{\"outlinewidth\":0,\"ticks\":\"\"},\"colorscale\":[[0.0,\"#0d0887\"],[0.1111111111111111,\"#46039f\"],[0.2222222222222222,\"#7201a8\"],[0.3333333333333333,\"#9c179e\"],[0.4444444444444444,\"#bd3786\"],[0.5555555555555556,\"#d8576b\"],[0.6666666666666666,\"#ed7953\"],[0.7777777777777778,\"#fb9f3a\"],[0.8888888888888888,\"#fdca26\"],[1.0,\"#f0f921\"]],\"type\":\"histogram2d\"}],\"histogram2dcontour\":[{\"colorbar\":{\"outlinewidth\":0,\"ticks\":\"\"},\"colorscale\":[[0.0,\"#0d0887\"],[0.1111111111111111,\"#46039f\"],[0.2222222222222222,\"#7201a8\"],[0.3333333333333333,\"#9c179e\"],[0.4444444444444444,\"#bd3786\"],[0.5555555555555556,\"#d8576b\"],[0.6666666666666666,\"#ed7953\"],[0.7777777777777778,\"#fb9f3a\"],[0.8888888888888888,\"#fdca26\"],[1.0,\"#f0f921\"]],\"type\":\"histogram2dcontour\"}],\"mesh3d\":[{\"colorbar\":{\"outlinewidth\":0,\"ticks\":\"\"},\"type\":\"mesh3d\"}],\"parcoords\":[{\"line\":{\"colorbar\":{\"outlinewidth\":0,\"ticks\":\"\"}},\"type\":\"parcoords\"}],\"pie\":[{\"automargin\":true,\"type\":\"pie\"}],\"scatter\":[{\"marker\":{\"colorbar\":{\"outlinewidth\":0,\"ticks\":\"\"}},\"type\":\"scatter\"}],\"scatter3d\":[{\"line\":{\"colorbar\":{\"outlinewidth\":0,\"ticks\":\"\"}},\"marker\":{\"colorbar\":{\"outlinewidth\":0,\"ticks\":\"\"}},\"type\":\"scatter3d\"}],\"scattercarpet\":[{\"marker\":{\"colorbar\":{\"outlinewidth\":0,\"ticks\":\"\"}},\"type\":\"scattercarpet\"}],\"scattergeo\":[{\"marker\":{\"colorbar\":{\"outlinewidth\":0,\"ticks\":\"\"}},\"type\":\"scattergeo\"}],\"scattergl\":[{\"marker\":{\"colorbar\":{\"outlinewidth\":0,\"ticks\":\"\"}},\"type\":\"scattergl\"}],\"scattermapbox\":[{\"marker\":{\"colorbar\":{\"outlinewidth\":0,\"ticks\":\"\"}},\"type\":\"scattermapbox\"}],\"scatterpolar\":[{\"marker\":{\"colorbar\":{\"outlinewidth\":0,\"ticks\":\"\"}},\"type\":\"scatterpolar\"}],\"scatterpolargl\":[{\"marker\":{\"colorbar\":{\"outlinewidth\":0,\"ticks\":\"\"}},\"type\":\"scatterpolargl\"}],\"scatterternary\":[{\"marker\":{\"colorbar\":{\"outlinewidth\":0,\"ticks\":\"\"}},\"type\":\"scatterternary\"}],\"surface\":[{\"colorbar\":{\"outlinewidth\":0,\"ticks\":\"\"},\"colorscale\":[[0.0,\"#0d0887\"],[0.1111111111111111,\"#46039f\"],[0.2222222222222222,\"#7201a8\"],[0.3333333333333333,\"#9c179e\"],[0.4444444444444444,\"#bd3786\"],[0.5555555555555556,\"#d8576b\"],[0.6666666666666666,\"#ed7953\"],[0.7777777777777778,\"#fb9f3a\"],[0.8888888888888888,\"#fdca26\"],[1.0,\"#f0f921\"]],\"type\":\"surface\"}],\"table\":[{\"cells\":{\"fill\":{\"color\":\"#EBF0F8\"},\"line\":{\"color\":\"white\"}},\"header\":{\"fill\":{\"color\":\"#C8D4E3\"},\"line\":{\"color\":\"white\"}},\"type\":\"table\"}]},\"layout\":{\"annotationdefaults\":{\"arrowcolor\":\"#2a3f5f\",\"arrowhead\":0,\"arrowwidth\":1},\"autotypenumbers\":\"strict\",\"coloraxis\":{\"colorbar\":{\"outlinewidth\":0,\"ticks\":\"\"}},\"colorscale\":{\"diverging\":[[0,\"#8e0152\"],[0.1,\"#c51b7d\"],[0.2,\"#de77ae\"],[0.3,\"#f1b6da\"],[0.4,\"#fde0ef\"],[0.5,\"#f7f7f7\"],[0.6,\"#e6f5d0\"],[0.7,\"#b8e186\"],[0.8,\"#7fbc41\"],[0.9,\"#4d9221\"],[1,\"#276419\"]],\"sequential\":[[0.0,\"#0d0887\"],[0.1111111111111111,\"#46039f\"],[0.2222222222222222,\"#7201a8\"],[0.3333333333333333,\"#9c179e\"],[0.4444444444444444,\"#bd3786\"],[0.5555555555555556,\"#d8576b\"],[0.6666666666666666,\"#ed7953\"],[0.7777777777777778,\"#fb9f3a\"],[0.8888888888888888,\"#fdca26\"],[1.0,\"#f0f921\"]],\"sequentialminus\":[[0.0,\"#0d0887\"],[0.1111111111111111,\"#46039f\"],[0.2222222222222222,\"#7201a8\"],[0.3333333333333333,\"#9c179e\"],[0.4444444444444444,\"#bd3786\"],[0.5555555555555556,\"#d8576b\"],[0.6666666666666666,\"#ed7953\"],[0.7777777777777778,\"#fb9f3a\"],[0.8888888888888888,\"#fdca26\"],[1.0,\"#f0f921\"]]},\"colorway\":[\"#636efa\",\"#EF553B\",\"#00cc96\",\"#ab63fa\",\"#FFA15A\",\"#19d3f3\",\"#FF6692\",\"#B6E880\",\"#FF97FF\",\"#FECB52\"],\"font\":{\"color\":\"#2a3f5f\"},\"geo\":{\"bgcolor\":\"white\",\"lakecolor\":\"white\",\"landcolor\":\"#E5ECF6\",\"showlakes\":true,\"showland\":true,\"subunitcolor\":\"white\"},\"hoverlabel\":{\"align\":\"left\"},\"hovermode\":\"closest\",\"mapbox\":{\"style\":\"light\"},\"paper_bgcolor\":\"white\",\"plot_bgcolor\":\"#E5ECF6\",\"polar\":{\"angularaxis\":{\"gridcolor\":\"white\",\"linecolor\":\"white\",\"ticks\":\"\"},\"bgcolor\":\"#E5ECF6\",\"radialaxis\":{\"gridcolor\":\"white\",\"linecolor\":\"white\",\"ticks\":\"\"}},\"scene\":{\"xaxis\":{\"backgroundcolor\":\"#E5ECF6\",\"gridcolor\":\"white\",\"gridwidth\":2,\"linecolor\":\"white\",\"showbackground\":true,\"ticks\":\"\",\"zerolinecolor\":\"white\"},\"yaxis\":{\"backgroundcolor\":\"#E5ECF6\",\"gridcolor\":\"white\",\"gridwidth\":2,\"linecolor\":\"white\",\"showbackground\":true,\"ticks\":\"\",\"zerolinecolor\":\"white\"},\"zaxis\":{\"backgroundcolor\":\"#E5ECF6\",\"gridcolor\":\"white\",\"gridwidth\":2,\"linecolor\":\"white\",\"showbackground\":true,\"ticks\":\"\",\"zerolinecolor\":\"white\"}},\"shapedefaults\":{\"line\":{\"color\":\"#2a3f5f\"}},\"ternary\":{\"aaxis\":{\"gridcolor\":\"white\",\"linecolor\":\"white\",\"ticks\":\"\"},\"baxis\":{\"gridcolor\":\"white\",\"linecolor\":\"white\",\"ticks\":\"\"},\"bgcolor\":\"#E5ECF6\",\"caxis\":{\"gridcolor\":\"white\",\"linecolor\":\"white\",\"ticks\":\"\"}},\"title\":{\"x\":0.05},\"xaxis\":{\"automargin\":true,\"gridcolor\":\"white\",\"linecolor\":\"white\",\"ticks\":\"\",\"title\":{\"standoff\":15},\"zerolinecolor\":\"white\",\"zerolinewidth\":2},\"yaxis\":{\"automargin\":true,\"gridcolor\":\"white\",\"linecolor\":\"white\",\"ticks\":\"\",\"title\":{\"standoff\":15},\"zerolinecolor\":\"white\",\"zerolinewidth\":2}}},\"coloraxis\":{\"colorbar\":{\"title\":{\"text\":\"ave_score_lantids\"}},\"colorscale\":[[0.0,\"rgb(103,0,31)\"],[0.1,\"rgb(178,24,43)\"],[0.2,\"rgb(214,96,77)\"],[0.3,\"rgb(244,165,130)\"],[0.4,\"rgb(253,219,199)\"],[0.5,\"rgb(247,247,247)\"],[0.6,\"rgb(209,229,240)\"],[0.7,\"rgb(146,197,222)\"],[0.8,\"rgb(67,147,195)\"],[0.9,\"rgb(33,102,172)\"],[1.0,\"rgb(5,48,97)\"]],\"cmid\":153.409394703657},\"legend\":{\"tracegroupgap\":0},\"margin\":{\"t\":50,\"l\":25,\"r\":25,\"b\":25},\"title\":{\"text\":\"R1 Structures: Frequency and Impact on Score Relative to All Factions Average (153.41): lantids\"}},                        {\"responsive\": true}                    ).then(function(){\n",
       "                            \n",
       "var gd = document.getElementById('e6a55c66-604c-458e-a892-f6814065d36a');\n",
       "var x = new MutationObserver(function (mutations, observer) {{\n",
       "        var display = window.getComputedStyle(gd).display;\n",
       "        if (!display || display === 'none') {{\n",
       "            console.log([gd, 'removed!']);\n",
       "            Plotly.purge(gd);\n",
       "            observer.disconnect();\n",
       "        }}\n",
       "}});\n",
       "\n",
       "// Listen for the removal of the full notebook cells\n",
       "var notebookContainer = gd.closest('#notebook-container');\n",
       "if (notebookContainer) {{\n",
       "    x.observe(notebookContainer, {childList: true});\n",
       "}}\n",
       "\n",
       "// Listen for the clearing of the current output cell\n",
       "var outputEl = gd.closest('.output');\n",
       "if (outputEl) {{\n",
       "    x.observe(outputEl, {childList: true});\n",
       "}}\n",
       "\n",
       "                        })                };                });            </script>        </div>"
      ]
     },
     "metadata": {},
     "output_type": "display_data"
    },
    {
     "data": {
      "application/vnd.plotly.v1+json": {
       "config": {
        "plotlyServerURL": "https://plot.ly"
       },
       "data": [
        {
         "branchvalues": "total",
         "customdata": [
          [
           125.5,
           139.75
          ],
          [
           229.64285714285714,
           141.5
          ],
          [
           230.3673469387755,
           143.53061224489795
          ],
          [
           152,
           164
          ],
          [
           133,
           127.57142857142857
          ],
          [
           129.33333333333334,
           134
          ],
          [
           235.66666666666666,
           137
          ],
          [
           167,
           151.5
          ],
          [
           199.4,
           133.95
          ],
          [
           160,
           153
          ],
          [
           253.5,
           142.57692307692307
          ],
          [
           239.19298245614036,
           150.7017543859649
          ],
          [
           157.36363636363637,
           132.0909090909091
          ],
          [
           209,
           145.32911392405063
          ],
          [
           205.5,
           149.25
          ],
          [
           191.2987012987013,
           139.55844155844156
          ],
          [
           236.125,
           148.25
          ],
          [
           219,
           190
          ],
          [
           254.66666666666666,
           163.33333333333334
          ],
          [
           100,
           170
          ],
          [
           201.69677419354838,
           144.95483870967743
          ],
          [
           148,
           142
          ],
          [
           100,
           160
          ],
          [
           161.66666666666666,
           150.22222222222223
          ],
          [
           189.8,
           131.8
          ],
          [
           211.14102564102564,
           151.02564102564102
          ],
          [
           179.4090909090909,
           139.36363636363637
          ],
          [
           250,
           164
          ],
          [
           213.23076923076923,
           136
          ],
          [
           409,
           207
          ],
          [
           246.8,
           158.9777777777778
          ],
          [
           229.13333333333333,
           149.91666666666666
          ],
          [
           300,
           205
          ],
          [
           224.375,
           152.625
          ],
          [
           208.66666666666666,
           157.66666666666666
          ],
          [
           286.6666666666667,
           171.44444444444446
          ],
          [
           247.0483870967742,
           163.51612903225808
          ],
          [
           321,
           202
          ],
          [
           256.8888888888889,
           177.55555555555554
          ],
          [
           "(?)",
           143.14814814814815
          ],
          [
           "(?)",
           147.5981308411215
          ],
          [
           "(?)",
           143.67441860465115
          ],
          [
           "(?)",
           146.57602862254026
          ],
          [
           "(?)",
           158.13709677419354
          ],
          [
           "(?)",
           150.36936936936937
          ],
          [
           "(?)",
           148.3748712667353
          ]
         ],
         "domain": {
          "x": [
           0,
           1
          ],
          "y": [
           0,
           1
          ]
         },
         "hovertemplate": "labels=%{label}<br>class_counts=%{value}<br>parent=%{parent}<br>id=%{id}<br>ave_elo_gleens=%{customdata[0]}<br>ave_score_gleens=%{color}<extra></extra>",
         "ids": [
          "R1 Structures: Frequency and Overall Score for gleens/lab/ 0-m_0-ts_2-lab_0-pi_0-ac1_0-ac2",
          "R1 Structures: Frequency and Overall Score for gleens/ac2/ 1-m_0-ts_0-lab_0-pi_0-ac1_1-ac2",
          "R1 Structures: Frequency and Overall Score for gleens/ac1/ 1-m_0-ts_0-lab_0-pi_1-ac1_0-ac2",
          "R1 Structures: Frequency and Overall Score for gleens/PI/ 1-m_0-ts_0-lab_1-pi_0-ac1_0-ac2",
          "R1 Structures: Frequency and Overall Score for gleens/lab/ 1-m_0-ts_1-lab_0-pi_0-ac1_0-ac2",
          "R1 Structures: Frequency and Overall Score for gleens/PI/ 1-m_0-ts_1-lab_1-pi_0-ac1_0-ac2",
          "R1 Structures: Frequency and Overall Score for gleens/lab/ 1-m_0-ts_2-lab_0-pi_0-ac1_0-ac2",
          "R1 Structures: Frequency and Overall Score for gleens/PI/ 1-m_1-ts_0-lab_1-pi_0-ac1_0-ac2",
          "R1 Structures: Frequency and Overall Score for gleens/lab/ 1-m_1-ts_1-lab_0-pi_0-ac1_0-ac2",
          "R1 Structures: Frequency and Overall Score for gleens/ts/ 1-m_3-ts_0-lab_0-pi_0-ac1_0-ac2",
          "R1 Structures: Frequency and Overall Score for gleens/ac2/ 2-m_0-ts_0-lab_0-pi_0-ac1_1-ac2",
          "R1 Structures: Frequency and Overall Score for gleens/ac1/ 2-m_0-ts_0-lab_0-pi_1-ac1_0-ac2",
          "R1 Structures: Frequency and Overall Score for gleens/PI/ 2-m_0-ts_0-lab_1-pi_0-ac1_0-ac2",
          "R1 Structures: Frequency and Overall Score for gleens/lab/ 2-m_0-ts_1-lab_0-pi_0-ac1_0-ac2",
          "R1 Structures: Frequency and Overall Score for gleens/PI/ 2-m_1-ts_0-lab_1-pi_0-ac1_0-ac2",
          "R1 Structures: Frequency and Overall Score for gleens/lab/ 2-m_1-ts_1-lab_0-pi_0-ac1_0-ac2",
          "R1 Structures: Frequency and Overall Score for gleens/ts/ 2-m_2-ts_0-lab_0-pi_0-ac1_0-ac2",
          "R1 Structures: Frequency and Overall Score for gleens/ts/ 2-m_3-ts_0-lab_0-pi_0-ac1_0-ac2",
          "R1 Structures: Frequency and Overall Score for gleens/ac2/ 3-m_0-ts_0-lab_0-pi_0-ac1_1-ac2",
          "R1 Structures: Frequency and Overall Score for gleens/ac1/ 3-m_0-ts_0-lab_0-pi_1-ac1_0-ac2",
          "R1 Structures: Frequency and Overall Score for gleens/lab/ 3-m_0-ts_1-lab_0-pi_0-ac1_0-ac2",
          "R1 Structures: Frequency and Overall Score for gleens/PI/ 3-m_0-ts_1-lab_1-pi_0-ac1_0-ac2",
          "R1 Structures: Frequency and Overall Score for gleens/lab/ 3-m_0-ts_2-lab_0-pi_0-ac1_0-ac2",
          "R1 Structures: Frequency and Overall Score for gleens/lab/ 3-m_1-ts_1-lab_0-pi_0-ac1_0-ac2",
          "R1 Structures: Frequency and Overall Score for gleens/ts/ 3-m_2-ts_0-lab_0-pi_0-ac1_0-ac2",
          "R1 Structures: Frequency and Overall Score for gleens/lab/ 4-m_0-ts_1-lab_0-pi_0-ac1_0-ac2",
          "R1 Structures: Frequency and Overall Score for gleens/ts/ 4-m_1-ts_0-lab_0-pi_0-ac1_0-ac2",
          "R1 Structures: Frequency and Overall Score for gleens/ts/ 4-m_2-ts_0-lab_0-pi_0-ac1_0-ac2",
          "R1 Structures: Frequency and Overall Score for gleens/m/ 5-m_0-ts_0-lab_0-pi_0-ac1_0-ac2",
          "R1 Structures: Frequency and Overall Score for gleens/PI/ 5-m_0-ts_0-lab_1-pi_0-ac1_0-ac2",
          "R1 Structures: Frequency and Overall Score for gleens/lab/ 5-m_0-ts_1-lab_0-pi_0-ac1_0-ac2",
          "R1 Structures: Frequency and Overall Score for gleens/ts/ 5-m_1-ts_0-lab_0-pi_0-ac1_0-ac2",
          "R1 Structures: Frequency and Overall Score for gleens/ts/ 5-m_2-ts_0-lab_0-pi_0-ac1_0-ac2",
          "R1 Structures: Frequency and Overall Score for gleens/m/ 6-m_0-ts_0-lab_0-pi_0-ac1_0-ac2",
          "R1 Structures: Frequency and Overall Score for gleens/lab/ 6-m_0-ts_1-lab_0-pi_0-ac1_0-ac2",
          "R1 Structures: Frequency and Overall Score for gleens/ts/ 6-m_1-ts_0-lab_0-pi_0-ac1_0-ac2",
          "R1 Structures: Frequency and Overall Score for gleens/m/ 7-m_0-ts_0-lab_0-pi_0-ac1_0-ac2",
          "R1 Structures: Frequency and Overall Score for gleens/ts/ 7-m_1-ts_0-lab_0-pi_0-ac1_0-ac2",
          "R1 Structures: Frequency and Overall Score for gleens/m/ 8-m_0-ts_0-lab_0-pi_0-ac1_0-ac2",
          "R1 Structures: Frequency and Overall Score for gleens/PI",
          "R1 Structures: Frequency and Overall Score for gleens/ac1",
          "R1 Structures: Frequency and Overall Score for gleens/ac2",
          "R1 Structures: Frequency and Overall Score for gleens/lab",
          "R1 Structures: Frequency and Overall Score for gleens/m",
          "R1 Structures: Frequency and Overall Score for gleens/ts",
          "R1 Structures: Frequency and Overall Score for gleens"
         ],
         "labels": [
          " 0-m_0-ts_2-lab_0-pi_0-ac1_0-ac2",
          " 1-m_0-ts_0-lab_0-pi_0-ac1_1-ac2",
          " 1-m_0-ts_0-lab_0-pi_1-ac1_0-ac2",
          " 1-m_0-ts_0-lab_1-pi_0-ac1_0-ac2",
          " 1-m_0-ts_1-lab_0-pi_0-ac1_0-ac2",
          " 1-m_0-ts_1-lab_1-pi_0-ac1_0-ac2",
          " 1-m_0-ts_2-lab_0-pi_0-ac1_0-ac2",
          " 1-m_1-ts_0-lab_1-pi_0-ac1_0-ac2",
          " 1-m_1-ts_1-lab_0-pi_0-ac1_0-ac2",
          " 1-m_3-ts_0-lab_0-pi_0-ac1_0-ac2",
          " 2-m_0-ts_0-lab_0-pi_0-ac1_1-ac2",
          " 2-m_0-ts_0-lab_0-pi_1-ac1_0-ac2",
          " 2-m_0-ts_0-lab_1-pi_0-ac1_0-ac2",
          " 2-m_0-ts_1-lab_0-pi_0-ac1_0-ac2",
          " 2-m_1-ts_0-lab_1-pi_0-ac1_0-ac2",
          " 2-m_1-ts_1-lab_0-pi_0-ac1_0-ac2",
          " 2-m_2-ts_0-lab_0-pi_0-ac1_0-ac2",
          " 2-m_3-ts_0-lab_0-pi_0-ac1_0-ac2",
          " 3-m_0-ts_0-lab_0-pi_0-ac1_1-ac2",
          " 3-m_0-ts_0-lab_0-pi_1-ac1_0-ac2",
          " 3-m_0-ts_1-lab_0-pi_0-ac1_0-ac2",
          " 3-m_0-ts_1-lab_1-pi_0-ac1_0-ac2",
          " 3-m_0-ts_2-lab_0-pi_0-ac1_0-ac2",
          " 3-m_1-ts_1-lab_0-pi_0-ac1_0-ac2",
          " 3-m_2-ts_0-lab_0-pi_0-ac1_0-ac2",
          " 4-m_0-ts_1-lab_0-pi_0-ac1_0-ac2",
          " 4-m_1-ts_0-lab_0-pi_0-ac1_0-ac2",
          " 4-m_2-ts_0-lab_0-pi_0-ac1_0-ac2",
          " 5-m_0-ts_0-lab_0-pi_0-ac1_0-ac2",
          " 5-m_0-ts_0-lab_1-pi_0-ac1_0-ac2",
          " 5-m_0-ts_1-lab_0-pi_0-ac1_0-ac2",
          " 5-m_1-ts_0-lab_0-pi_0-ac1_0-ac2",
          " 5-m_2-ts_0-lab_0-pi_0-ac1_0-ac2",
          " 6-m_0-ts_0-lab_0-pi_0-ac1_0-ac2",
          " 6-m_0-ts_1-lab_0-pi_0-ac1_0-ac2",
          " 6-m_1-ts_0-lab_0-pi_0-ac1_0-ac2",
          " 7-m_0-ts_0-lab_0-pi_0-ac1_0-ac2",
          " 7-m_1-ts_0-lab_0-pi_0-ac1_0-ac2",
          " 8-m_0-ts_0-lab_0-pi_0-ac1_0-ac2",
          "PI",
          "ac1",
          "ac2",
          "lab",
          "m",
          "ts",
          "R1 Structures: Frequency and Overall Score for gleens"
         ],
         "marker": {
          "coloraxis": "coloraxis",
          "colors": [
           139.75,
           141.5,
           143.53061224489795,
           164,
           127.57142857142857,
           134,
           137,
           151.5,
           133.95,
           153,
           142.57692307692307,
           150.7017543859649,
           132.0909090909091,
           145.32911392405063,
           149.25,
           139.55844155844156,
           148.25,
           190,
           163.33333333333334,
           170,
           144.95483870967743,
           142,
           160,
           150.22222222222223,
           131.8,
           151.02564102564102,
           139.36363636363637,
           164,
           136,
           207,
           158.9777777777778,
           149.91666666666666,
           205,
           152.625,
           157.66666666666666,
           171.44444444444446,
           163.51612903225808,
           202,
           177.55555555555554,
           143.14814814814815,
           147.5981308411215,
           143.67441860465115,
           146.57602862254026,
           158.13709677419354,
           150.36936936936937,
           148.3748712667353
          ]
         },
         "name": "",
         "parents": [
          "R1 Structures: Frequency and Overall Score for gleens/lab",
          "R1 Structures: Frequency and Overall Score for gleens/ac2",
          "R1 Structures: Frequency and Overall Score for gleens/ac1",
          "R1 Structures: Frequency and Overall Score for gleens/PI",
          "R1 Structures: Frequency and Overall Score for gleens/lab",
          "R1 Structures: Frequency and Overall Score for gleens/PI",
          "R1 Structures: Frequency and Overall Score for gleens/lab",
          "R1 Structures: Frequency and Overall Score for gleens/PI",
          "R1 Structures: Frequency and Overall Score for gleens/lab",
          "R1 Structures: Frequency and Overall Score for gleens/ts",
          "R1 Structures: Frequency and Overall Score for gleens/ac2",
          "R1 Structures: Frequency and Overall Score for gleens/ac1",
          "R1 Structures: Frequency and Overall Score for gleens/PI",
          "R1 Structures: Frequency and Overall Score for gleens/lab",
          "R1 Structures: Frequency and Overall Score for gleens/PI",
          "R1 Structures: Frequency and Overall Score for gleens/lab",
          "R1 Structures: Frequency and Overall Score for gleens/ts",
          "R1 Structures: Frequency and Overall Score for gleens/ts",
          "R1 Structures: Frequency and Overall Score for gleens/ac2",
          "R1 Structures: Frequency and Overall Score for gleens/ac1",
          "R1 Structures: Frequency and Overall Score for gleens/lab",
          "R1 Structures: Frequency and Overall Score for gleens/PI",
          "R1 Structures: Frequency and Overall Score for gleens/lab",
          "R1 Structures: Frequency and Overall Score for gleens/lab",
          "R1 Structures: Frequency and Overall Score for gleens/ts",
          "R1 Structures: Frequency and Overall Score for gleens/lab",
          "R1 Structures: Frequency and Overall Score for gleens/ts",
          "R1 Structures: Frequency and Overall Score for gleens/ts",
          "R1 Structures: Frequency and Overall Score for gleens/m",
          "R1 Structures: Frequency and Overall Score for gleens/PI",
          "R1 Structures: Frequency and Overall Score for gleens/lab",
          "R1 Structures: Frequency and Overall Score for gleens/ts",
          "R1 Structures: Frequency and Overall Score for gleens/ts",
          "R1 Structures: Frequency and Overall Score for gleens/m",
          "R1 Structures: Frequency and Overall Score for gleens/lab",
          "R1 Structures: Frequency and Overall Score for gleens/ts",
          "R1 Structures: Frequency and Overall Score for gleens/m",
          "R1 Structures: Frequency and Overall Score for gleens/ts",
          "R1 Structures: Frequency and Overall Score for gleens/m",
          "R1 Structures: Frequency and Overall Score for gleens",
          "R1 Structures: Frequency and Overall Score for gleens",
          "R1 Structures: Frequency and Overall Score for gleens",
          "R1 Structures: Frequency and Overall Score for gleens",
          "R1 Structures: Frequency and Overall Score for gleens",
          "R1 Structures: Frequency and Overall Score for gleens",
          ""
         ],
         "type": "treemap",
         "values": [
          4,
          14,
          49,
          1,
          7,
          3,
          3,
          2,
          20,
          1,
          26,
          57,
          11,
          79,
          8,
          77,
          8,
          1,
          3,
          1,
          155,
          1,
          1,
          9,
          5,
          156,
          22,
          3,
          13,
          1,
          45,
          60,
          1,
          40,
          3,
          9,
          62,
          1,
          9,
          27,
          107,
          43,
          559,
          124,
          111,
          971
         ]
        }
       ],
       "layout": {
        "coloraxis": {
         "cmid": 153.409394703657,
         "colorbar": {
          "title": {
           "text": "ave_score_gleens"
          }
         },
         "colorscale": [
          [
           0,
           "rgb(103,0,31)"
          ],
          [
           0.1,
           "rgb(178,24,43)"
          ],
          [
           0.2,
           "rgb(214,96,77)"
          ],
          [
           0.3,
           "rgb(244,165,130)"
          ],
          [
           0.4,
           "rgb(253,219,199)"
          ],
          [
           0.5,
           "rgb(247,247,247)"
          ],
          [
           0.6,
           "rgb(209,229,240)"
          ],
          [
           0.7,
           "rgb(146,197,222)"
          ],
          [
           0.8,
           "rgb(67,147,195)"
          ],
          [
           0.9,
           "rgb(33,102,172)"
          ],
          [
           1,
           "rgb(5,48,97)"
          ]
         ]
        },
        "legend": {
         "tracegroupgap": 0
        },
        "margin": {
         "b": 25,
         "l": 25,
         "r": 25,
         "t": 50
        },
        "template": {
         "data": {
          "bar": [
           {
            "error_x": {
             "color": "#2a3f5f"
            },
            "error_y": {
             "color": "#2a3f5f"
            },
            "marker": {
             "line": {
              "color": "#E5ECF6",
              "width": 0.5
             },
             "pattern": {
              "fillmode": "overlay",
              "size": 10,
              "solidity": 0.2
             }
            },
            "type": "bar"
           }
          ],
          "barpolar": [
           {
            "marker": {
             "line": {
              "color": "#E5ECF6",
              "width": 0.5
             },
             "pattern": {
              "fillmode": "overlay",
              "size": 10,
              "solidity": 0.2
             }
            },
            "type": "barpolar"
           }
          ],
          "carpet": [
           {
            "aaxis": {
             "endlinecolor": "#2a3f5f",
             "gridcolor": "white",
             "linecolor": "white",
             "minorgridcolor": "white",
             "startlinecolor": "#2a3f5f"
            },
            "baxis": {
             "endlinecolor": "#2a3f5f",
             "gridcolor": "white",
             "linecolor": "white",
             "minorgridcolor": "white",
             "startlinecolor": "#2a3f5f"
            },
            "type": "carpet"
           }
          ],
          "choropleth": [
           {
            "colorbar": {
             "outlinewidth": 0,
             "ticks": ""
            },
            "type": "choropleth"
           }
          ],
          "contour": [
           {
            "colorbar": {
             "outlinewidth": 0,
             "ticks": ""
            },
            "colorscale": [
             [
              0,
              "#0d0887"
             ],
             [
              0.1111111111111111,
              "#46039f"
             ],
             [
              0.2222222222222222,
              "#7201a8"
             ],
             [
              0.3333333333333333,
              "#9c179e"
             ],
             [
              0.4444444444444444,
              "#bd3786"
             ],
             [
              0.5555555555555556,
              "#d8576b"
             ],
             [
              0.6666666666666666,
              "#ed7953"
             ],
             [
              0.7777777777777778,
              "#fb9f3a"
             ],
             [
              0.8888888888888888,
              "#fdca26"
             ],
             [
              1,
              "#f0f921"
             ]
            ],
            "type": "contour"
           }
          ],
          "contourcarpet": [
           {
            "colorbar": {
             "outlinewidth": 0,
             "ticks": ""
            },
            "type": "contourcarpet"
           }
          ],
          "heatmap": [
           {
            "colorbar": {
             "outlinewidth": 0,
             "ticks": ""
            },
            "colorscale": [
             [
              0,
              "#0d0887"
             ],
             [
              0.1111111111111111,
              "#46039f"
             ],
             [
              0.2222222222222222,
              "#7201a8"
             ],
             [
              0.3333333333333333,
              "#9c179e"
             ],
             [
              0.4444444444444444,
              "#bd3786"
             ],
             [
              0.5555555555555556,
              "#d8576b"
             ],
             [
              0.6666666666666666,
              "#ed7953"
             ],
             [
              0.7777777777777778,
              "#fb9f3a"
             ],
             [
              0.8888888888888888,
              "#fdca26"
             ],
             [
              1,
              "#f0f921"
             ]
            ],
            "type": "heatmap"
           }
          ],
          "heatmapgl": [
           {
            "colorbar": {
             "outlinewidth": 0,
             "ticks": ""
            },
            "colorscale": [
             [
              0,
              "#0d0887"
             ],
             [
              0.1111111111111111,
              "#46039f"
             ],
             [
              0.2222222222222222,
              "#7201a8"
             ],
             [
              0.3333333333333333,
              "#9c179e"
             ],
             [
              0.4444444444444444,
              "#bd3786"
             ],
             [
              0.5555555555555556,
              "#d8576b"
             ],
             [
              0.6666666666666666,
              "#ed7953"
             ],
             [
              0.7777777777777778,
              "#fb9f3a"
             ],
             [
              0.8888888888888888,
              "#fdca26"
             ],
             [
              1,
              "#f0f921"
             ]
            ],
            "type": "heatmapgl"
           }
          ],
          "histogram": [
           {
            "marker": {
             "pattern": {
              "fillmode": "overlay",
              "size": 10,
              "solidity": 0.2
             }
            },
            "type": "histogram"
           }
          ],
          "histogram2d": [
           {
            "colorbar": {
             "outlinewidth": 0,
             "ticks": ""
            },
            "colorscale": [
             [
              0,
              "#0d0887"
             ],
             [
              0.1111111111111111,
              "#46039f"
             ],
             [
              0.2222222222222222,
              "#7201a8"
             ],
             [
              0.3333333333333333,
              "#9c179e"
             ],
             [
              0.4444444444444444,
              "#bd3786"
             ],
             [
              0.5555555555555556,
              "#d8576b"
             ],
             [
              0.6666666666666666,
              "#ed7953"
             ],
             [
              0.7777777777777778,
              "#fb9f3a"
             ],
             [
              0.8888888888888888,
              "#fdca26"
             ],
             [
              1,
              "#f0f921"
             ]
            ],
            "type": "histogram2d"
           }
          ],
          "histogram2dcontour": [
           {
            "colorbar": {
             "outlinewidth": 0,
             "ticks": ""
            },
            "colorscale": [
             [
              0,
              "#0d0887"
             ],
             [
              0.1111111111111111,
              "#46039f"
             ],
             [
              0.2222222222222222,
              "#7201a8"
             ],
             [
              0.3333333333333333,
              "#9c179e"
             ],
             [
              0.4444444444444444,
              "#bd3786"
             ],
             [
              0.5555555555555556,
              "#d8576b"
             ],
             [
              0.6666666666666666,
              "#ed7953"
             ],
             [
              0.7777777777777778,
              "#fb9f3a"
             ],
             [
              0.8888888888888888,
              "#fdca26"
             ],
             [
              1,
              "#f0f921"
             ]
            ],
            "type": "histogram2dcontour"
           }
          ],
          "mesh3d": [
           {
            "colorbar": {
             "outlinewidth": 0,
             "ticks": ""
            },
            "type": "mesh3d"
           }
          ],
          "parcoords": [
           {
            "line": {
             "colorbar": {
              "outlinewidth": 0,
              "ticks": ""
             }
            },
            "type": "parcoords"
           }
          ],
          "pie": [
           {
            "automargin": true,
            "type": "pie"
           }
          ],
          "scatter": [
           {
            "marker": {
             "colorbar": {
              "outlinewidth": 0,
              "ticks": ""
             }
            },
            "type": "scatter"
           }
          ],
          "scatter3d": [
           {
            "line": {
             "colorbar": {
              "outlinewidth": 0,
              "ticks": ""
             }
            },
            "marker": {
             "colorbar": {
              "outlinewidth": 0,
              "ticks": ""
             }
            },
            "type": "scatter3d"
           }
          ],
          "scattercarpet": [
           {
            "marker": {
             "colorbar": {
              "outlinewidth": 0,
              "ticks": ""
             }
            },
            "type": "scattercarpet"
           }
          ],
          "scattergeo": [
           {
            "marker": {
             "colorbar": {
              "outlinewidth": 0,
              "ticks": ""
             }
            },
            "type": "scattergeo"
           }
          ],
          "scattergl": [
           {
            "marker": {
             "colorbar": {
              "outlinewidth": 0,
              "ticks": ""
             }
            },
            "type": "scattergl"
           }
          ],
          "scattermapbox": [
           {
            "marker": {
             "colorbar": {
              "outlinewidth": 0,
              "ticks": ""
             }
            },
            "type": "scattermapbox"
           }
          ],
          "scatterpolar": [
           {
            "marker": {
             "colorbar": {
              "outlinewidth": 0,
              "ticks": ""
             }
            },
            "type": "scatterpolar"
           }
          ],
          "scatterpolargl": [
           {
            "marker": {
             "colorbar": {
              "outlinewidth": 0,
              "ticks": ""
             }
            },
            "type": "scatterpolargl"
           }
          ],
          "scatterternary": [
           {
            "marker": {
             "colorbar": {
              "outlinewidth": 0,
              "ticks": ""
             }
            },
            "type": "scatterternary"
           }
          ],
          "surface": [
           {
            "colorbar": {
             "outlinewidth": 0,
             "ticks": ""
            },
            "colorscale": [
             [
              0,
              "#0d0887"
             ],
             [
              0.1111111111111111,
              "#46039f"
             ],
             [
              0.2222222222222222,
              "#7201a8"
             ],
             [
              0.3333333333333333,
              "#9c179e"
             ],
             [
              0.4444444444444444,
              "#bd3786"
             ],
             [
              0.5555555555555556,
              "#d8576b"
             ],
             [
              0.6666666666666666,
              "#ed7953"
             ],
             [
              0.7777777777777778,
              "#fb9f3a"
             ],
             [
              0.8888888888888888,
              "#fdca26"
             ],
             [
              1,
              "#f0f921"
             ]
            ],
            "type": "surface"
           }
          ],
          "table": [
           {
            "cells": {
             "fill": {
              "color": "#EBF0F8"
             },
             "line": {
              "color": "white"
             }
            },
            "header": {
             "fill": {
              "color": "#C8D4E3"
             },
             "line": {
              "color": "white"
             }
            },
            "type": "table"
           }
          ]
         },
         "layout": {
          "annotationdefaults": {
           "arrowcolor": "#2a3f5f",
           "arrowhead": 0,
           "arrowwidth": 1
          },
          "autotypenumbers": "strict",
          "coloraxis": {
           "colorbar": {
            "outlinewidth": 0,
            "ticks": ""
           }
          },
          "colorscale": {
           "diverging": [
            [
             0,
             "#8e0152"
            ],
            [
             0.1,
             "#c51b7d"
            ],
            [
             0.2,
             "#de77ae"
            ],
            [
             0.3,
             "#f1b6da"
            ],
            [
             0.4,
             "#fde0ef"
            ],
            [
             0.5,
             "#f7f7f7"
            ],
            [
             0.6,
             "#e6f5d0"
            ],
            [
             0.7,
             "#b8e186"
            ],
            [
             0.8,
             "#7fbc41"
            ],
            [
             0.9,
             "#4d9221"
            ],
            [
             1,
             "#276419"
            ]
           ],
           "sequential": [
            [
             0,
             "#0d0887"
            ],
            [
             0.1111111111111111,
             "#46039f"
            ],
            [
             0.2222222222222222,
             "#7201a8"
            ],
            [
             0.3333333333333333,
             "#9c179e"
            ],
            [
             0.4444444444444444,
             "#bd3786"
            ],
            [
             0.5555555555555556,
             "#d8576b"
            ],
            [
             0.6666666666666666,
             "#ed7953"
            ],
            [
             0.7777777777777778,
             "#fb9f3a"
            ],
            [
             0.8888888888888888,
             "#fdca26"
            ],
            [
             1,
             "#f0f921"
            ]
           ],
           "sequentialminus": [
            [
             0,
             "#0d0887"
            ],
            [
             0.1111111111111111,
             "#46039f"
            ],
            [
             0.2222222222222222,
             "#7201a8"
            ],
            [
             0.3333333333333333,
             "#9c179e"
            ],
            [
             0.4444444444444444,
             "#bd3786"
            ],
            [
             0.5555555555555556,
             "#d8576b"
            ],
            [
             0.6666666666666666,
             "#ed7953"
            ],
            [
             0.7777777777777778,
             "#fb9f3a"
            ],
            [
             0.8888888888888888,
             "#fdca26"
            ],
            [
             1,
             "#f0f921"
            ]
           ]
          },
          "colorway": [
           "#636efa",
           "#EF553B",
           "#00cc96",
           "#ab63fa",
           "#FFA15A",
           "#19d3f3",
           "#FF6692",
           "#B6E880",
           "#FF97FF",
           "#FECB52"
          ],
          "font": {
           "color": "#2a3f5f"
          },
          "geo": {
           "bgcolor": "white",
           "lakecolor": "white",
           "landcolor": "#E5ECF6",
           "showlakes": true,
           "showland": true,
           "subunitcolor": "white"
          },
          "hoverlabel": {
           "align": "left"
          },
          "hovermode": "closest",
          "mapbox": {
           "style": "light"
          },
          "paper_bgcolor": "white",
          "plot_bgcolor": "#E5ECF6",
          "polar": {
           "angularaxis": {
            "gridcolor": "white",
            "linecolor": "white",
            "ticks": ""
           },
           "bgcolor": "#E5ECF6",
           "radialaxis": {
            "gridcolor": "white",
            "linecolor": "white",
            "ticks": ""
           }
          },
          "scene": {
           "xaxis": {
            "backgroundcolor": "#E5ECF6",
            "gridcolor": "white",
            "gridwidth": 2,
            "linecolor": "white",
            "showbackground": true,
            "ticks": "",
            "zerolinecolor": "white"
           },
           "yaxis": {
            "backgroundcolor": "#E5ECF6",
            "gridcolor": "white",
            "gridwidth": 2,
            "linecolor": "white",
            "showbackground": true,
            "ticks": "",
            "zerolinecolor": "white"
           },
           "zaxis": {
            "backgroundcolor": "#E5ECF6",
            "gridcolor": "white",
            "gridwidth": 2,
            "linecolor": "white",
            "showbackground": true,
            "ticks": "",
            "zerolinecolor": "white"
           }
          },
          "shapedefaults": {
           "line": {
            "color": "#2a3f5f"
           }
          },
          "ternary": {
           "aaxis": {
            "gridcolor": "white",
            "linecolor": "white",
            "ticks": ""
           },
           "baxis": {
            "gridcolor": "white",
            "linecolor": "white",
            "ticks": ""
           },
           "bgcolor": "#E5ECF6",
           "caxis": {
            "gridcolor": "white",
            "linecolor": "white",
            "ticks": ""
           }
          },
          "title": {
           "x": 0.05
          },
          "xaxis": {
           "automargin": true,
           "gridcolor": "white",
           "linecolor": "white",
           "ticks": "",
           "title": {
            "standoff": 15
           },
           "zerolinecolor": "white",
           "zerolinewidth": 2
          },
          "yaxis": {
           "automargin": true,
           "gridcolor": "white",
           "linecolor": "white",
           "ticks": "",
           "title": {
            "standoff": 15
           },
           "zerolinecolor": "white",
           "zerolinewidth": 2
          }
         }
        },
        "title": {
         "text": "R1 Structures: Frequency and Impact on Score Relative to All Factions Average (153.41): gleens"
        }
       }
      },
      "text/html": [
       "<div>                            <div id=\"84a327f9-fc79-433b-9bbe-37ad23f238ce\" class=\"plotly-graph-div\" style=\"height:525px; width:100%;\"></div>            <script type=\"text/javascript\">                require([\"plotly\"], function(Plotly) {                    window.PLOTLYENV=window.PLOTLYENV || {};                                    if (document.getElementById(\"84a327f9-fc79-433b-9bbe-37ad23f238ce\")) {                    Plotly.newPlot(                        \"84a327f9-fc79-433b-9bbe-37ad23f238ce\",                        [{\"branchvalues\":\"total\",\"customdata\":[[125.5,139.75],[229.64285714285714,141.5],[230.3673469387755,143.53061224489795],[152.0,164.0],[133.0,127.57142857142857],[129.33333333333334,134.0],[235.66666666666666,137.0],[167.0,151.5],[199.4,133.95],[160.0,153.0],[253.5,142.57692307692307],[239.19298245614036,150.7017543859649],[157.36363636363637,132.0909090909091],[209.0,145.32911392405063],[205.5,149.25],[191.2987012987013,139.55844155844156],[236.125,148.25],[219.0,190.0],[254.66666666666666,163.33333333333334],[100.0,170.0],[201.69677419354838,144.95483870967743],[148.0,142.0],[100.0,160.0],[161.66666666666666,150.22222222222223],[189.8,131.8],[211.14102564102564,151.02564102564102],[179.4090909090909,139.36363636363637],[250.0,164.0],[213.23076923076923,136.0],[409.0,207.0],[246.8,158.9777777777778],[229.13333333333333,149.91666666666666],[300.0,205.0],[224.375,152.625],[208.66666666666666,157.66666666666666],[286.6666666666667,171.44444444444446],[247.0483870967742,163.51612903225808],[321.0,202.0],[256.8888888888889,177.55555555555554],[\"(?)\",143.14814814814815],[\"(?)\",147.5981308411215],[\"(?)\",143.67441860465115],[\"(?)\",146.57602862254026],[\"(?)\",158.13709677419354],[\"(?)\",150.36936936936937],[\"(?)\",148.3748712667353]],\"domain\":{\"x\":[0.0,1.0],\"y\":[0.0,1.0]},\"hovertemplate\":\"labels=%{label}<br>class_counts=%{value}<br>parent=%{parent}<br>id=%{id}<br>ave_elo_gleens=%{customdata[0]}<br>ave_score_gleens=%{color}<extra></extra>\",\"ids\":[\"R1 Structures: Frequency and Overall Score for gleens/lab/ 0-m_0-ts_2-lab_0-pi_0-ac1_0-ac2\",\"R1 Structures: Frequency and Overall Score for gleens/ac2/ 1-m_0-ts_0-lab_0-pi_0-ac1_1-ac2\",\"R1 Structures: Frequency and Overall Score for gleens/ac1/ 1-m_0-ts_0-lab_0-pi_1-ac1_0-ac2\",\"R1 Structures: Frequency and Overall Score for gleens/PI/ 1-m_0-ts_0-lab_1-pi_0-ac1_0-ac2\",\"R1 Structures: Frequency and Overall Score for gleens/lab/ 1-m_0-ts_1-lab_0-pi_0-ac1_0-ac2\",\"R1 Structures: Frequency and Overall Score for gleens/PI/ 1-m_0-ts_1-lab_1-pi_0-ac1_0-ac2\",\"R1 Structures: Frequency and Overall Score for gleens/lab/ 1-m_0-ts_2-lab_0-pi_0-ac1_0-ac2\",\"R1 Structures: Frequency and Overall Score for gleens/PI/ 1-m_1-ts_0-lab_1-pi_0-ac1_0-ac2\",\"R1 Structures: Frequency and Overall Score for gleens/lab/ 1-m_1-ts_1-lab_0-pi_0-ac1_0-ac2\",\"R1 Structures: Frequency and Overall Score for gleens/ts/ 1-m_3-ts_0-lab_0-pi_0-ac1_0-ac2\",\"R1 Structures: Frequency and Overall Score for gleens/ac2/ 2-m_0-ts_0-lab_0-pi_0-ac1_1-ac2\",\"R1 Structures: Frequency and Overall Score for gleens/ac1/ 2-m_0-ts_0-lab_0-pi_1-ac1_0-ac2\",\"R1 Structures: Frequency and Overall Score for gleens/PI/ 2-m_0-ts_0-lab_1-pi_0-ac1_0-ac2\",\"R1 Structures: Frequency and Overall Score for gleens/lab/ 2-m_0-ts_1-lab_0-pi_0-ac1_0-ac2\",\"R1 Structures: Frequency and Overall Score for gleens/PI/ 2-m_1-ts_0-lab_1-pi_0-ac1_0-ac2\",\"R1 Structures: Frequency and Overall Score for gleens/lab/ 2-m_1-ts_1-lab_0-pi_0-ac1_0-ac2\",\"R1 Structures: Frequency and Overall Score for gleens/ts/ 2-m_2-ts_0-lab_0-pi_0-ac1_0-ac2\",\"R1 Structures: Frequency and Overall Score for gleens/ts/ 2-m_3-ts_0-lab_0-pi_0-ac1_0-ac2\",\"R1 Structures: Frequency and Overall Score for gleens/ac2/ 3-m_0-ts_0-lab_0-pi_0-ac1_1-ac2\",\"R1 Structures: Frequency and Overall Score for gleens/ac1/ 3-m_0-ts_0-lab_0-pi_1-ac1_0-ac2\",\"R1 Structures: Frequency and Overall Score for gleens/lab/ 3-m_0-ts_1-lab_0-pi_0-ac1_0-ac2\",\"R1 Structures: Frequency and Overall Score for gleens/PI/ 3-m_0-ts_1-lab_1-pi_0-ac1_0-ac2\",\"R1 Structures: Frequency and Overall Score for gleens/lab/ 3-m_0-ts_2-lab_0-pi_0-ac1_0-ac2\",\"R1 Structures: Frequency and Overall Score for gleens/lab/ 3-m_1-ts_1-lab_0-pi_0-ac1_0-ac2\",\"R1 Structures: Frequency and Overall Score for gleens/ts/ 3-m_2-ts_0-lab_0-pi_0-ac1_0-ac2\",\"R1 Structures: Frequency and Overall Score for gleens/lab/ 4-m_0-ts_1-lab_0-pi_0-ac1_0-ac2\",\"R1 Structures: Frequency and Overall Score for gleens/ts/ 4-m_1-ts_0-lab_0-pi_0-ac1_0-ac2\",\"R1 Structures: Frequency and Overall Score for gleens/ts/ 4-m_2-ts_0-lab_0-pi_0-ac1_0-ac2\",\"R1 Structures: Frequency and Overall Score for gleens/m/ 5-m_0-ts_0-lab_0-pi_0-ac1_0-ac2\",\"R1 Structures: Frequency and Overall Score for gleens/PI/ 5-m_0-ts_0-lab_1-pi_0-ac1_0-ac2\",\"R1 Structures: Frequency and Overall Score for gleens/lab/ 5-m_0-ts_1-lab_0-pi_0-ac1_0-ac2\",\"R1 Structures: Frequency and Overall Score for gleens/ts/ 5-m_1-ts_0-lab_0-pi_0-ac1_0-ac2\",\"R1 Structures: Frequency and Overall Score for gleens/ts/ 5-m_2-ts_0-lab_0-pi_0-ac1_0-ac2\",\"R1 Structures: Frequency and Overall Score for gleens/m/ 6-m_0-ts_0-lab_0-pi_0-ac1_0-ac2\",\"R1 Structures: Frequency and Overall Score for gleens/lab/ 6-m_0-ts_1-lab_0-pi_0-ac1_0-ac2\",\"R1 Structures: Frequency and Overall Score for gleens/ts/ 6-m_1-ts_0-lab_0-pi_0-ac1_0-ac2\",\"R1 Structures: Frequency and Overall Score for gleens/m/ 7-m_0-ts_0-lab_0-pi_0-ac1_0-ac2\",\"R1 Structures: Frequency and Overall Score for gleens/ts/ 7-m_1-ts_0-lab_0-pi_0-ac1_0-ac2\",\"R1 Structures: Frequency and Overall Score for gleens/m/ 8-m_0-ts_0-lab_0-pi_0-ac1_0-ac2\",\"R1 Structures: Frequency and Overall Score for gleens/PI\",\"R1 Structures: Frequency and Overall Score for gleens/ac1\",\"R1 Structures: Frequency and Overall Score for gleens/ac2\",\"R1 Structures: Frequency and Overall Score for gleens/lab\",\"R1 Structures: Frequency and Overall Score for gleens/m\",\"R1 Structures: Frequency and Overall Score for gleens/ts\",\"R1 Structures: Frequency and Overall Score for gleens\"],\"labels\":[\" 0-m_0-ts_2-lab_0-pi_0-ac1_0-ac2\",\" 1-m_0-ts_0-lab_0-pi_0-ac1_1-ac2\",\" 1-m_0-ts_0-lab_0-pi_1-ac1_0-ac2\",\" 1-m_0-ts_0-lab_1-pi_0-ac1_0-ac2\",\" 1-m_0-ts_1-lab_0-pi_0-ac1_0-ac2\",\" 1-m_0-ts_1-lab_1-pi_0-ac1_0-ac2\",\" 1-m_0-ts_2-lab_0-pi_0-ac1_0-ac2\",\" 1-m_1-ts_0-lab_1-pi_0-ac1_0-ac2\",\" 1-m_1-ts_1-lab_0-pi_0-ac1_0-ac2\",\" 1-m_3-ts_0-lab_0-pi_0-ac1_0-ac2\",\" 2-m_0-ts_0-lab_0-pi_0-ac1_1-ac2\",\" 2-m_0-ts_0-lab_0-pi_1-ac1_0-ac2\",\" 2-m_0-ts_0-lab_1-pi_0-ac1_0-ac2\",\" 2-m_0-ts_1-lab_0-pi_0-ac1_0-ac2\",\" 2-m_1-ts_0-lab_1-pi_0-ac1_0-ac2\",\" 2-m_1-ts_1-lab_0-pi_0-ac1_0-ac2\",\" 2-m_2-ts_0-lab_0-pi_0-ac1_0-ac2\",\" 2-m_3-ts_0-lab_0-pi_0-ac1_0-ac2\",\" 3-m_0-ts_0-lab_0-pi_0-ac1_1-ac2\",\" 3-m_0-ts_0-lab_0-pi_1-ac1_0-ac2\",\" 3-m_0-ts_1-lab_0-pi_0-ac1_0-ac2\",\" 3-m_0-ts_1-lab_1-pi_0-ac1_0-ac2\",\" 3-m_0-ts_2-lab_0-pi_0-ac1_0-ac2\",\" 3-m_1-ts_1-lab_0-pi_0-ac1_0-ac2\",\" 3-m_2-ts_0-lab_0-pi_0-ac1_0-ac2\",\" 4-m_0-ts_1-lab_0-pi_0-ac1_0-ac2\",\" 4-m_1-ts_0-lab_0-pi_0-ac1_0-ac2\",\" 4-m_2-ts_0-lab_0-pi_0-ac1_0-ac2\",\" 5-m_0-ts_0-lab_0-pi_0-ac1_0-ac2\",\" 5-m_0-ts_0-lab_1-pi_0-ac1_0-ac2\",\" 5-m_0-ts_1-lab_0-pi_0-ac1_0-ac2\",\" 5-m_1-ts_0-lab_0-pi_0-ac1_0-ac2\",\" 5-m_2-ts_0-lab_0-pi_0-ac1_0-ac2\",\" 6-m_0-ts_0-lab_0-pi_0-ac1_0-ac2\",\" 6-m_0-ts_1-lab_0-pi_0-ac1_0-ac2\",\" 6-m_1-ts_0-lab_0-pi_0-ac1_0-ac2\",\" 7-m_0-ts_0-lab_0-pi_0-ac1_0-ac2\",\" 7-m_1-ts_0-lab_0-pi_0-ac1_0-ac2\",\" 8-m_0-ts_0-lab_0-pi_0-ac1_0-ac2\",\"PI\",\"ac1\",\"ac2\",\"lab\",\"m\",\"ts\",\"R1 Structures: Frequency and Overall Score for gleens\"],\"marker\":{\"coloraxis\":\"coloraxis\",\"colors\":[139.75,141.5,143.53061224489795,164.0,127.57142857142857,134.0,137.0,151.5,133.95,153.0,142.57692307692307,150.7017543859649,132.0909090909091,145.32911392405063,149.25,139.55844155844156,148.25,190.0,163.33333333333334,170.0,144.95483870967743,142.0,160.0,150.22222222222223,131.8,151.02564102564102,139.36363636363637,164.0,136.0,207.0,158.9777777777778,149.91666666666666,205.0,152.625,157.66666666666666,171.44444444444446,163.51612903225808,202.0,177.55555555555554,143.14814814814815,147.5981308411215,143.67441860465115,146.57602862254026,158.13709677419354,150.36936936936937,148.3748712667353]},\"name\":\"\",\"parents\":[\"R1 Structures: Frequency and Overall Score for gleens/lab\",\"R1 Structures: Frequency and Overall Score for gleens/ac2\",\"R1 Structures: Frequency and Overall Score for gleens/ac1\",\"R1 Structures: Frequency and Overall Score for gleens/PI\",\"R1 Structures: Frequency and Overall Score for gleens/lab\",\"R1 Structures: Frequency and Overall Score for gleens/PI\",\"R1 Structures: Frequency and Overall Score for gleens/lab\",\"R1 Structures: Frequency and Overall Score for gleens/PI\",\"R1 Structures: Frequency and Overall Score for gleens/lab\",\"R1 Structures: Frequency and Overall Score for gleens/ts\",\"R1 Structures: Frequency and Overall Score for gleens/ac2\",\"R1 Structures: Frequency and Overall Score for gleens/ac1\",\"R1 Structures: Frequency and Overall Score for gleens/PI\",\"R1 Structures: Frequency and Overall Score for gleens/lab\",\"R1 Structures: Frequency and Overall Score for gleens/PI\",\"R1 Structures: Frequency and Overall Score for gleens/lab\",\"R1 Structures: Frequency and Overall Score for gleens/ts\",\"R1 Structures: Frequency and Overall Score for gleens/ts\",\"R1 Structures: Frequency and Overall Score for gleens/ac2\",\"R1 Structures: Frequency and Overall Score for gleens/ac1\",\"R1 Structures: Frequency and Overall Score for gleens/lab\",\"R1 Structures: Frequency and Overall Score for gleens/PI\",\"R1 Structures: Frequency and Overall Score for gleens/lab\",\"R1 Structures: Frequency and Overall Score for gleens/lab\",\"R1 Structures: Frequency and Overall Score for gleens/ts\",\"R1 Structures: Frequency and Overall Score for gleens/lab\",\"R1 Structures: Frequency and Overall Score for gleens/ts\",\"R1 Structures: Frequency and Overall Score for gleens/ts\",\"R1 Structures: Frequency and Overall Score for gleens/m\",\"R1 Structures: Frequency and Overall Score for gleens/PI\",\"R1 Structures: Frequency and Overall Score for gleens/lab\",\"R1 Structures: Frequency and Overall Score for gleens/ts\",\"R1 Structures: Frequency and Overall Score for gleens/ts\",\"R1 Structures: Frequency and Overall Score for gleens/m\",\"R1 Structures: Frequency and Overall Score for gleens/lab\",\"R1 Structures: Frequency and Overall Score for gleens/ts\",\"R1 Structures: Frequency and Overall Score for gleens/m\",\"R1 Structures: Frequency and Overall Score for gleens/ts\",\"R1 Structures: Frequency and Overall Score for gleens/m\",\"R1 Structures: Frequency and Overall Score for gleens\",\"R1 Structures: Frequency and Overall Score for gleens\",\"R1 Structures: Frequency and Overall Score for gleens\",\"R1 Structures: Frequency and Overall Score for gleens\",\"R1 Structures: Frequency and Overall Score for gleens\",\"R1 Structures: Frequency and Overall Score for gleens\",\"\"],\"values\":[4,14,49,1,7,3,3,2,20,1,26,57,11,79,8,77,8,1,3,1,155,1,1,9,5,156,22,3,13,1,45,60,1,40,3,9,62,1,9,27,107,43,559,124,111,971],\"type\":\"treemap\"}],                        {\"template\":{\"data\":{\"bar\":[{\"error_x\":{\"color\":\"#2a3f5f\"},\"error_y\":{\"color\":\"#2a3f5f\"},\"marker\":{\"line\":{\"color\":\"#E5ECF6\",\"width\":0.5},\"pattern\":{\"fillmode\":\"overlay\",\"size\":10,\"solidity\":0.2}},\"type\":\"bar\"}],\"barpolar\":[{\"marker\":{\"line\":{\"color\":\"#E5ECF6\",\"width\":0.5},\"pattern\":{\"fillmode\":\"overlay\",\"size\":10,\"solidity\":0.2}},\"type\":\"barpolar\"}],\"carpet\":[{\"aaxis\":{\"endlinecolor\":\"#2a3f5f\",\"gridcolor\":\"white\",\"linecolor\":\"white\",\"minorgridcolor\":\"white\",\"startlinecolor\":\"#2a3f5f\"},\"baxis\":{\"endlinecolor\":\"#2a3f5f\",\"gridcolor\":\"white\",\"linecolor\":\"white\",\"minorgridcolor\":\"white\",\"startlinecolor\":\"#2a3f5f\"},\"type\":\"carpet\"}],\"choropleth\":[{\"colorbar\":{\"outlinewidth\":0,\"ticks\":\"\"},\"type\":\"choropleth\"}],\"contour\":[{\"colorbar\":{\"outlinewidth\":0,\"ticks\":\"\"},\"colorscale\":[[0.0,\"#0d0887\"],[0.1111111111111111,\"#46039f\"],[0.2222222222222222,\"#7201a8\"],[0.3333333333333333,\"#9c179e\"],[0.4444444444444444,\"#bd3786\"],[0.5555555555555556,\"#d8576b\"],[0.6666666666666666,\"#ed7953\"],[0.7777777777777778,\"#fb9f3a\"],[0.8888888888888888,\"#fdca26\"],[1.0,\"#f0f921\"]],\"type\":\"contour\"}],\"contourcarpet\":[{\"colorbar\":{\"outlinewidth\":0,\"ticks\":\"\"},\"type\":\"contourcarpet\"}],\"heatmap\":[{\"colorbar\":{\"outlinewidth\":0,\"ticks\":\"\"},\"colorscale\":[[0.0,\"#0d0887\"],[0.1111111111111111,\"#46039f\"],[0.2222222222222222,\"#7201a8\"],[0.3333333333333333,\"#9c179e\"],[0.4444444444444444,\"#bd3786\"],[0.5555555555555556,\"#d8576b\"],[0.6666666666666666,\"#ed7953\"],[0.7777777777777778,\"#fb9f3a\"],[0.8888888888888888,\"#fdca26\"],[1.0,\"#f0f921\"]],\"type\":\"heatmap\"}],\"heatmapgl\":[{\"colorbar\":{\"outlinewidth\":0,\"ticks\":\"\"},\"colorscale\":[[0.0,\"#0d0887\"],[0.1111111111111111,\"#46039f\"],[0.2222222222222222,\"#7201a8\"],[0.3333333333333333,\"#9c179e\"],[0.4444444444444444,\"#bd3786\"],[0.5555555555555556,\"#d8576b\"],[0.6666666666666666,\"#ed7953\"],[0.7777777777777778,\"#fb9f3a\"],[0.8888888888888888,\"#fdca26\"],[1.0,\"#f0f921\"]],\"type\":\"heatmapgl\"}],\"histogram\":[{\"marker\":{\"pattern\":{\"fillmode\":\"overlay\",\"size\":10,\"solidity\":0.2}},\"type\":\"histogram\"}],\"histogram2d\":[{\"colorbar\":{\"outlinewidth\":0,\"ticks\":\"\"},\"colorscale\":[[0.0,\"#0d0887\"],[0.1111111111111111,\"#46039f\"],[0.2222222222222222,\"#7201a8\"],[0.3333333333333333,\"#9c179e\"],[0.4444444444444444,\"#bd3786\"],[0.5555555555555556,\"#d8576b\"],[0.6666666666666666,\"#ed7953\"],[0.7777777777777778,\"#fb9f3a\"],[0.8888888888888888,\"#fdca26\"],[1.0,\"#f0f921\"]],\"type\":\"histogram2d\"}],\"histogram2dcontour\":[{\"colorbar\":{\"outlinewidth\":0,\"ticks\":\"\"},\"colorscale\":[[0.0,\"#0d0887\"],[0.1111111111111111,\"#46039f\"],[0.2222222222222222,\"#7201a8\"],[0.3333333333333333,\"#9c179e\"],[0.4444444444444444,\"#bd3786\"],[0.5555555555555556,\"#d8576b\"],[0.6666666666666666,\"#ed7953\"],[0.7777777777777778,\"#fb9f3a\"],[0.8888888888888888,\"#fdca26\"],[1.0,\"#f0f921\"]],\"type\":\"histogram2dcontour\"}],\"mesh3d\":[{\"colorbar\":{\"outlinewidth\":0,\"ticks\":\"\"},\"type\":\"mesh3d\"}],\"parcoords\":[{\"line\":{\"colorbar\":{\"outlinewidth\":0,\"ticks\":\"\"}},\"type\":\"parcoords\"}],\"pie\":[{\"automargin\":true,\"type\":\"pie\"}],\"scatter\":[{\"marker\":{\"colorbar\":{\"outlinewidth\":0,\"ticks\":\"\"}},\"type\":\"scatter\"}],\"scatter3d\":[{\"line\":{\"colorbar\":{\"outlinewidth\":0,\"ticks\":\"\"}},\"marker\":{\"colorbar\":{\"outlinewidth\":0,\"ticks\":\"\"}},\"type\":\"scatter3d\"}],\"scattercarpet\":[{\"marker\":{\"colorbar\":{\"outlinewidth\":0,\"ticks\":\"\"}},\"type\":\"scattercarpet\"}],\"scattergeo\":[{\"marker\":{\"colorbar\":{\"outlinewidth\":0,\"ticks\":\"\"}},\"type\":\"scattergeo\"}],\"scattergl\":[{\"marker\":{\"colorbar\":{\"outlinewidth\":0,\"ticks\":\"\"}},\"type\":\"scattergl\"}],\"scattermapbox\":[{\"marker\":{\"colorbar\":{\"outlinewidth\":0,\"ticks\":\"\"}},\"type\":\"scattermapbox\"}],\"scatterpolar\":[{\"marker\":{\"colorbar\":{\"outlinewidth\":0,\"ticks\":\"\"}},\"type\":\"scatterpolar\"}],\"scatterpolargl\":[{\"marker\":{\"colorbar\":{\"outlinewidth\":0,\"ticks\":\"\"}},\"type\":\"scatterpolargl\"}],\"scatterternary\":[{\"marker\":{\"colorbar\":{\"outlinewidth\":0,\"ticks\":\"\"}},\"type\":\"scatterternary\"}],\"surface\":[{\"colorbar\":{\"outlinewidth\":0,\"ticks\":\"\"},\"colorscale\":[[0.0,\"#0d0887\"],[0.1111111111111111,\"#46039f\"],[0.2222222222222222,\"#7201a8\"],[0.3333333333333333,\"#9c179e\"],[0.4444444444444444,\"#bd3786\"],[0.5555555555555556,\"#d8576b\"],[0.6666666666666666,\"#ed7953\"],[0.7777777777777778,\"#fb9f3a\"],[0.8888888888888888,\"#fdca26\"],[1.0,\"#f0f921\"]],\"type\":\"surface\"}],\"table\":[{\"cells\":{\"fill\":{\"color\":\"#EBF0F8\"},\"line\":{\"color\":\"white\"}},\"header\":{\"fill\":{\"color\":\"#C8D4E3\"},\"line\":{\"color\":\"white\"}},\"type\":\"table\"}]},\"layout\":{\"annotationdefaults\":{\"arrowcolor\":\"#2a3f5f\",\"arrowhead\":0,\"arrowwidth\":1},\"autotypenumbers\":\"strict\",\"coloraxis\":{\"colorbar\":{\"outlinewidth\":0,\"ticks\":\"\"}},\"colorscale\":{\"diverging\":[[0,\"#8e0152\"],[0.1,\"#c51b7d\"],[0.2,\"#de77ae\"],[0.3,\"#f1b6da\"],[0.4,\"#fde0ef\"],[0.5,\"#f7f7f7\"],[0.6,\"#e6f5d0\"],[0.7,\"#b8e186\"],[0.8,\"#7fbc41\"],[0.9,\"#4d9221\"],[1,\"#276419\"]],\"sequential\":[[0.0,\"#0d0887\"],[0.1111111111111111,\"#46039f\"],[0.2222222222222222,\"#7201a8\"],[0.3333333333333333,\"#9c179e\"],[0.4444444444444444,\"#bd3786\"],[0.5555555555555556,\"#d8576b\"],[0.6666666666666666,\"#ed7953\"],[0.7777777777777778,\"#fb9f3a\"],[0.8888888888888888,\"#fdca26\"],[1.0,\"#f0f921\"]],\"sequentialminus\":[[0.0,\"#0d0887\"],[0.1111111111111111,\"#46039f\"],[0.2222222222222222,\"#7201a8\"],[0.3333333333333333,\"#9c179e\"],[0.4444444444444444,\"#bd3786\"],[0.5555555555555556,\"#d8576b\"],[0.6666666666666666,\"#ed7953\"],[0.7777777777777778,\"#fb9f3a\"],[0.8888888888888888,\"#fdca26\"],[1.0,\"#f0f921\"]]},\"colorway\":[\"#636efa\",\"#EF553B\",\"#00cc96\",\"#ab63fa\",\"#FFA15A\",\"#19d3f3\",\"#FF6692\",\"#B6E880\",\"#FF97FF\",\"#FECB52\"],\"font\":{\"color\":\"#2a3f5f\"},\"geo\":{\"bgcolor\":\"white\",\"lakecolor\":\"white\",\"landcolor\":\"#E5ECF6\",\"showlakes\":true,\"showland\":true,\"subunitcolor\":\"white\"},\"hoverlabel\":{\"align\":\"left\"},\"hovermode\":\"closest\",\"mapbox\":{\"style\":\"light\"},\"paper_bgcolor\":\"white\",\"plot_bgcolor\":\"#E5ECF6\",\"polar\":{\"angularaxis\":{\"gridcolor\":\"white\",\"linecolor\":\"white\",\"ticks\":\"\"},\"bgcolor\":\"#E5ECF6\",\"radialaxis\":{\"gridcolor\":\"white\",\"linecolor\":\"white\",\"ticks\":\"\"}},\"scene\":{\"xaxis\":{\"backgroundcolor\":\"#E5ECF6\",\"gridcolor\":\"white\",\"gridwidth\":2,\"linecolor\":\"white\",\"showbackground\":true,\"ticks\":\"\",\"zerolinecolor\":\"white\"},\"yaxis\":{\"backgroundcolor\":\"#E5ECF6\",\"gridcolor\":\"white\",\"gridwidth\":2,\"linecolor\":\"white\",\"showbackground\":true,\"ticks\":\"\",\"zerolinecolor\":\"white\"},\"zaxis\":{\"backgroundcolor\":\"#E5ECF6\",\"gridcolor\":\"white\",\"gridwidth\":2,\"linecolor\":\"white\",\"showbackground\":true,\"ticks\":\"\",\"zerolinecolor\":\"white\"}},\"shapedefaults\":{\"line\":{\"color\":\"#2a3f5f\"}},\"ternary\":{\"aaxis\":{\"gridcolor\":\"white\",\"linecolor\":\"white\",\"ticks\":\"\"},\"baxis\":{\"gridcolor\":\"white\",\"linecolor\":\"white\",\"ticks\":\"\"},\"bgcolor\":\"#E5ECF6\",\"caxis\":{\"gridcolor\":\"white\",\"linecolor\":\"white\",\"ticks\":\"\"}},\"title\":{\"x\":0.05},\"xaxis\":{\"automargin\":true,\"gridcolor\":\"white\",\"linecolor\":\"white\",\"ticks\":\"\",\"title\":{\"standoff\":15},\"zerolinecolor\":\"white\",\"zerolinewidth\":2},\"yaxis\":{\"automargin\":true,\"gridcolor\":\"white\",\"linecolor\":\"white\",\"ticks\":\"\",\"title\":{\"standoff\":15},\"zerolinecolor\":\"white\",\"zerolinewidth\":2}}},\"coloraxis\":{\"colorbar\":{\"title\":{\"text\":\"ave_score_gleens\"}},\"colorscale\":[[0.0,\"rgb(103,0,31)\"],[0.1,\"rgb(178,24,43)\"],[0.2,\"rgb(214,96,77)\"],[0.3,\"rgb(244,165,130)\"],[0.4,\"rgb(253,219,199)\"],[0.5,\"rgb(247,247,247)\"],[0.6,\"rgb(209,229,240)\"],[0.7,\"rgb(146,197,222)\"],[0.8,\"rgb(67,147,195)\"],[0.9,\"rgb(33,102,172)\"],[1.0,\"rgb(5,48,97)\"]],\"cmid\":153.409394703657},\"legend\":{\"tracegroupgap\":0},\"margin\":{\"t\":50,\"l\":25,\"r\":25,\"b\":25},\"title\":{\"text\":\"R1 Structures: Frequency and Impact on Score Relative to All Factions Average (153.41): gleens\"}},                        {\"responsive\": true}                    ).then(function(){\n",
       "                            \n",
       "var gd = document.getElementById('84a327f9-fc79-433b-9bbe-37ad23f238ce');\n",
       "var x = new MutationObserver(function (mutations, observer) {{\n",
       "        var display = window.getComputedStyle(gd).display;\n",
       "        if (!display || display === 'none') {{\n",
       "            console.log([gd, 'removed!']);\n",
       "            Plotly.purge(gd);\n",
       "            observer.disconnect();\n",
       "        }}\n",
       "}});\n",
       "\n",
       "// Listen for the removal of the full notebook cells\n",
       "var notebookContainer = gd.closest('#notebook-container');\n",
       "if (notebookContainer) {{\n",
       "    x.observe(notebookContainer, {childList: true});\n",
       "}}\n",
       "\n",
       "// Listen for the clearing of the current output cell\n",
       "var outputEl = gd.closest('.output');\n",
       "if (outputEl) {{\n",
       "    x.observe(outputEl, {childList: true});\n",
       "}}\n",
       "\n",
       "                        })                };                });            </script>        </div>"
      ]
     },
     "metadata": {},
     "output_type": "display_data"
    },
    {
     "data": {
      "application/vnd.plotly.v1+json": {
       "config": {
        "plotlyServerURL": "https://plot.ly"
       },
       "data": [
        {
         "branchvalues": "total",
         "customdata": [
          [
           156,
           141.5
          ],
          [
           199.6,
           157.93333333333334
          ],
          [
           130.57142857142858,
           144.14285714285714
          ],
          [
           147.33333333333334,
           137.66666666666666
          ],
          [
           126.42857142857143,
           145.14285714285714
          ],
          [
           259.4329896907216,
           154.36082474226805
          ],
          [
           173.2,
           149.76
          ],
          [
           142.2,
           130.1
          ],
          [
           230.76470588235293,
           152.52941176470588
          ],
          [
           252.5,
           135.5
          ],
          [
           149.75,
           139.25
          ],
          [
           174.30232558139534,
           144.08139534883722
          ],
          [
           115.33333333333333,
           126
          ],
          [
           173.66666666666666,
           151.83333333333334
          ],
          [
           184.5,
           163.5
          ],
          [
           200.42857142857142,
           151.28571428571428
          ],
          [
           179.88571428571427,
           139.45714285714286
          ],
          [
           156.1818181818182,
           138.0909090909091
          ],
          [
           63.666666666666664,
           139
          ],
          [
           275.5,
           152
          ],
          [
           163.9375,
           130.25
          ],
          [
           202.21621621621622,
           144.32432432432432
          ],
          [
           114.33333333333333,
           136.66666666666666
          ],
          [
           166.4,
           140.6
          ],
          [
           215.16666666666666,
           144.16666666666666
          ],
          [
           294,
           152
          ],
          [
           296,
           155
          ],
          [
           221.7070707070707,
           150.5252525252525
          ],
          [
           95.33333333333333,
           167.66666666666666
          ],
          [
           272.75,
           165.03947368421052
          ],
          [
           201.4,
           144.4
          ],
          [
           "(?)",
           133.67567567567568
          ],
          [
           "(?)",
           153.68067226890756
          ],
          [
           126.42857142857143,
           145.14285714285714
          ],
          [
           "(?)",
           148.52805755395684
          ],
          [
           "(?)",
           145
          ],
          [
           "(?)",
           149.08466135458167
          ]
         ],
         "domain": {
          "x": [
           0,
           1
          ],
          "y": [
           0,
           1
          ]
         },
         "hovertemplate": "labels=%{label}<br>class_counts=%{value}<br>parent=%{parent}<br>id=%{id}<br>ave_elo_xenos=%{customdata[0]}<br>ave_score_xenos=%{color}<extra></extra>",
         "ids": [
          "R1 Structures: Frequency and Overall Score for xenos/PI/ 1-m_0-ts_1-lab_1-pi_0-ac1_0-ac2",
          "R1 Structures: Frequency and Overall Score for xenos/lab/ 1-m_0-ts_2-lab_0-pi_0-ac1_0-ac2",
          "R1 Structures: Frequency and Overall Score for xenos/lab/ 1-m_1-ts_1-lab_0-pi_0-ac1_0-ac2",
          "R1 Structures: Frequency and Overall Score for xenos/lab/ 1-m_2-ts_1-lab_0-pi_0-ac1_0-ac2",
          "R1 Structures: Frequency and Overall Score for xenos/ac2/ 2-m_0-ts_0-lab_0-pi_0-ac1_1-ac2",
          "R1 Structures: Frequency and Overall Score for xenos/ac1/ 2-m_0-ts_0-lab_0-pi_1-ac1_0-ac2",
          "R1 Structures: Frequency and Overall Score for xenos/lab/ 2-m_0-ts_1-lab_0-pi_0-ac1_0-ac2",
          "R1 Structures: Frequency and Overall Score for xenos/PI/ 2-m_0-ts_1-lab_1-pi_0-ac1_0-ac2",
          "R1 Structures: Frequency and Overall Score for xenos/lab/ 2-m_0-ts_2-lab_0-pi_0-ac1_0-ac2",
          "R1 Structures: Frequency and Overall Score for xenos/ac1/ 2-m_1-ts_0-lab_0-pi_1-ac1_0-ac2",
          "R1 Structures: Frequency and Overall Score for xenos/PI/ 2-m_1-ts_0-lab_1-pi_0-ac1_0-ac2",
          "R1 Structures: Frequency and Overall Score for xenos/lab/ 2-m_1-ts_1-lab_0-pi_0-ac1_0-ac2",
          "R1 Structures: Frequency and Overall Score for xenos/ts/ 2-m_2-ts_0-lab_0-pi_0-ac1_0-ac2",
          "R1 Structures: Frequency and Overall Score for xenos/lab/ 2-m_2-ts_1-lab_0-pi_0-ac1_0-ac2",
          "R1 Structures: Frequency and Overall Score for xenos/ts/ 2-m_3-ts_0-lab_0-pi_0-ac1_0-ac2",
          "R1 Structures: Frequency and Overall Score for xenos/ac1/ 3-m_0-ts_0-lab_0-pi_1-ac1_0-ac2",
          "R1 Structures: Frequency and Overall Score for xenos/lab/ 3-m_0-ts_1-lab_0-pi_0-ac1_0-ac2",
          "R1 Structures: Frequency and Overall Score for xenos/lab/ 3-m_1-ts_1-lab_0-pi_0-ac1_0-ac2",
          "R1 Structures: Frequency and Overall Score for xenos/ts/ 3-m_2-ts_0-lab_0-pi_0-ac1_0-ac2",
          "R1 Structures: Frequency and Overall Score for xenos/ac1/ 4-m_0-ts_0-lab_0-pi_1-ac1_0-ac2",
          "R1 Structures: Frequency and Overall Score for xenos/PI/ 4-m_0-ts_0-lab_1-pi_0-ac1_0-ac2",
          "R1 Structures: Frequency and Overall Score for xenos/lab/ 4-m_0-ts_1-lab_0-pi_0-ac1_0-ac2",
          "R1 Structures: Frequency and Overall Score for xenos/ts/ 4-m_1-ts_0-lab_0-pi_0-ac1_0-ac2",
          "R1 Structures: Frequency and Overall Score for xenos/lab/ 4-m_1-ts_1-lab_0-pi_0-ac1_0-ac2",
          "R1 Structures: Frequency and Overall Score for xenos/ts/ 4-m_2-ts_0-lab_0-pi_0-ac1_0-ac2",
          "R1 Structures: Frequency and Overall Score for xenos/ac1/ 5-m_0-ts_0-lab_0-pi_1-ac1_0-ac2",
          "R1 Structures: Frequency and Overall Score for xenos/PI/ 5-m_0-ts_0-lab_1-pi_0-ac1_0-ac2",
          "R1 Structures: Frequency and Overall Score for xenos/lab/ 5-m_0-ts_1-lab_0-pi_0-ac1_0-ac2",
          "R1 Structures: Frequency and Overall Score for xenos/ts/ 5-m_1-ts_0-lab_0-pi_0-ac1_0-ac2",
          "R1 Structures: Frequency and Overall Score for xenos/lab/ 6-m_0-ts_1-lab_0-pi_0-ac1_0-ac2",
          "R1 Structures: Frequency and Overall Score for xenos/lab/ 7-m_0-ts_1-lab_0-pi_0-ac1_0-ac2",
          "R1 Structures: Frequency and Overall Score for xenos/PI",
          "R1 Structures: Frequency and Overall Score for xenos/ac1",
          "R1 Structures: Frequency and Overall Score for xenos/ac2",
          "R1 Structures: Frequency and Overall Score for xenos/lab",
          "R1 Structures: Frequency and Overall Score for xenos/ts",
          "R1 Structures: Frequency and Overall Score for xenos"
         ],
         "labels": [
          " 1-m_0-ts_1-lab_1-pi_0-ac1_0-ac2",
          " 1-m_0-ts_2-lab_0-pi_0-ac1_0-ac2",
          " 1-m_1-ts_1-lab_0-pi_0-ac1_0-ac2",
          " 1-m_2-ts_1-lab_0-pi_0-ac1_0-ac2",
          " 2-m_0-ts_0-lab_0-pi_0-ac1_1-ac2",
          " 2-m_0-ts_0-lab_0-pi_1-ac1_0-ac2",
          " 2-m_0-ts_1-lab_0-pi_0-ac1_0-ac2",
          " 2-m_0-ts_1-lab_1-pi_0-ac1_0-ac2",
          " 2-m_0-ts_2-lab_0-pi_0-ac1_0-ac2",
          " 2-m_1-ts_0-lab_0-pi_1-ac1_0-ac2",
          " 2-m_1-ts_0-lab_1-pi_0-ac1_0-ac2",
          " 2-m_1-ts_1-lab_0-pi_0-ac1_0-ac2",
          " 2-m_2-ts_0-lab_0-pi_0-ac1_0-ac2",
          " 2-m_2-ts_1-lab_0-pi_0-ac1_0-ac2",
          " 2-m_3-ts_0-lab_0-pi_0-ac1_0-ac2",
          " 3-m_0-ts_0-lab_0-pi_1-ac1_0-ac2",
          " 3-m_0-ts_1-lab_0-pi_0-ac1_0-ac2",
          " 3-m_1-ts_1-lab_0-pi_0-ac1_0-ac2",
          " 3-m_2-ts_0-lab_0-pi_0-ac1_0-ac2",
          " 4-m_0-ts_0-lab_0-pi_1-ac1_0-ac2",
          " 4-m_0-ts_0-lab_1-pi_0-ac1_0-ac2",
          " 4-m_0-ts_1-lab_0-pi_0-ac1_0-ac2",
          " 4-m_1-ts_0-lab_0-pi_0-ac1_0-ac2",
          " 4-m_1-ts_1-lab_0-pi_0-ac1_0-ac2",
          " 4-m_2-ts_0-lab_0-pi_0-ac1_0-ac2",
          " 5-m_0-ts_0-lab_0-pi_1-ac1_0-ac2",
          " 5-m_0-ts_0-lab_1-pi_0-ac1_0-ac2",
          " 5-m_0-ts_1-lab_0-pi_0-ac1_0-ac2",
          " 5-m_1-ts_0-lab_0-pi_0-ac1_0-ac2",
          " 6-m_0-ts_1-lab_0-pi_0-ac1_0-ac2",
          " 7-m_0-ts_1-lab_0-pi_0-ac1_0-ac2",
          "PI",
          "ac1",
          "ac2",
          "lab",
          "ts",
          "R1 Structures: Frequency and Overall Score for xenos"
         ],
         "marker": {
          "coloraxis": "coloraxis",
          "colors": [
           141.5,
           157.93333333333334,
           144.14285714285714,
           137.66666666666666,
           145.14285714285714,
           154.36082474226805,
           149.76,
           130.1,
           152.52941176470588,
           135.5,
           139.25,
           144.08139534883722,
           126,
           151.83333333333334,
           163.5,
           151.28571428571428,
           139.45714285714286,
           138.0909090909091,
           139,
           152,
           130.25,
           144.32432432432432,
           136.66666666666666,
           140.6,
           144.16666666666666,
           152,
           155,
           150.5252525252525,
           167.66666666666666,
           165.03947368421052,
           144.4,
           133.67567567567568,
           153.68067226890756,
           145.14285714285714,
           148.52805755395684,
           145,
           149.08466135458167
          ]
         },
         "name": "",
         "parents": [
          "R1 Structures: Frequency and Overall Score for xenos/PI",
          "R1 Structures: Frequency and Overall Score for xenos/lab",
          "R1 Structures: Frequency and Overall Score for xenos/lab",
          "R1 Structures: Frequency and Overall Score for xenos/lab",
          "R1 Structures: Frequency and Overall Score for xenos/ac2",
          "R1 Structures: Frequency and Overall Score for xenos/ac1",
          "R1 Structures: Frequency and Overall Score for xenos/lab",
          "R1 Structures: Frequency and Overall Score for xenos/PI",
          "R1 Structures: Frequency and Overall Score for xenos/lab",
          "R1 Structures: Frequency and Overall Score for xenos/ac1",
          "R1 Structures: Frequency and Overall Score for xenos/PI",
          "R1 Structures: Frequency and Overall Score for xenos/lab",
          "R1 Structures: Frequency and Overall Score for xenos/ts",
          "R1 Structures: Frequency and Overall Score for xenos/lab",
          "R1 Structures: Frequency and Overall Score for xenos/ts",
          "R1 Structures: Frequency and Overall Score for xenos/ac1",
          "R1 Structures: Frequency and Overall Score for xenos/lab",
          "R1 Structures: Frequency and Overall Score for xenos/lab",
          "R1 Structures: Frequency and Overall Score for xenos/ts",
          "R1 Structures: Frequency and Overall Score for xenos/ac1",
          "R1 Structures: Frequency and Overall Score for xenos/PI",
          "R1 Structures: Frequency and Overall Score for xenos/lab",
          "R1 Structures: Frequency and Overall Score for xenos/ts",
          "R1 Structures: Frequency and Overall Score for xenos/lab",
          "R1 Structures: Frequency and Overall Score for xenos/ts",
          "R1 Structures: Frequency and Overall Score for xenos/ac1",
          "R1 Structures: Frequency and Overall Score for xenos/PI",
          "R1 Structures: Frequency and Overall Score for xenos/lab",
          "R1 Structures: Frequency and Overall Score for xenos/ts",
          "R1 Structures: Frequency and Overall Score for xenos/lab",
          "R1 Structures: Frequency and Overall Score for xenos/lab",
          "R1 Structures: Frequency and Overall Score for xenos",
          "R1 Structures: Frequency and Overall Score for xenos",
          "R1 Structures: Frequency and Overall Score for xenos",
          "R1 Structures: Frequency and Overall Score for xenos",
          "R1 Structures: Frequency and Overall Score for xenos",
          ""
         ],
         "type": "treemap",
         "values": [
          6,
          15,
          7,
          3,
          14,
          194,
          25,
          10,
          17,
          2,
          4,
          86,
          3,
          6,
          2,
          35,
          35,
          22,
          3,
          6,
          16,
          185,
          3,
          15,
          6,
          1,
          1,
          198,
          3,
          76,
          5,
          37,
          238,
          14,
          695,
          20,
          1004
         ]
        }
       ],
       "layout": {
        "coloraxis": {
         "cmid": 153.409394703657,
         "colorbar": {
          "title": {
           "text": "ave_score_xenos"
          }
         },
         "colorscale": [
          [
           0,
           "rgb(103,0,31)"
          ],
          [
           0.1,
           "rgb(178,24,43)"
          ],
          [
           0.2,
           "rgb(214,96,77)"
          ],
          [
           0.3,
           "rgb(244,165,130)"
          ],
          [
           0.4,
           "rgb(253,219,199)"
          ],
          [
           0.5,
           "rgb(247,247,247)"
          ],
          [
           0.6,
           "rgb(209,229,240)"
          ],
          [
           0.7,
           "rgb(146,197,222)"
          ],
          [
           0.8,
           "rgb(67,147,195)"
          ],
          [
           0.9,
           "rgb(33,102,172)"
          ],
          [
           1,
           "rgb(5,48,97)"
          ]
         ]
        },
        "legend": {
         "tracegroupgap": 0
        },
        "margin": {
         "b": 25,
         "l": 25,
         "r": 25,
         "t": 50
        },
        "template": {
         "data": {
          "bar": [
           {
            "error_x": {
             "color": "#2a3f5f"
            },
            "error_y": {
             "color": "#2a3f5f"
            },
            "marker": {
             "line": {
              "color": "#E5ECF6",
              "width": 0.5
             },
             "pattern": {
              "fillmode": "overlay",
              "size": 10,
              "solidity": 0.2
             }
            },
            "type": "bar"
           }
          ],
          "barpolar": [
           {
            "marker": {
             "line": {
              "color": "#E5ECF6",
              "width": 0.5
             },
             "pattern": {
              "fillmode": "overlay",
              "size": 10,
              "solidity": 0.2
             }
            },
            "type": "barpolar"
           }
          ],
          "carpet": [
           {
            "aaxis": {
             "endlinecolor": "#2a3f5f",
             "gridcolor": "white",
             "linecolor": "white",
             "minorgridcolor": "white",
             "startlinecolor": "#2a3f5f"
            },
            "baxis": {
             "endlinecolor": "#2a3f5f",
             "gridcolor": "white",
             "linecolor": "white",
             "minorgridcolor": "white",
             "startlinecolor": "#2a3f5f"
            },
            "type": "carpet"
           }
          ],
          "choropleth": [
           {
            "colorbar": {
             "outlinewidth": 0,
             "ticks": ""
            },
            "type": "choropleth"
           }
          ],
          "contour": [
           {
            "colorbar": {
             "outlinewidth": 0,
             "ticks": ""
            },
            "colorscale": [
             [
              0,
              "#0d0887"
             ],
             [
              0.1111111111111111,
              "#46039f"
             ],
             [
              0.2222222222222222,
              "#7201a8"
             ],
             [
              0.3333333333333333,
              "#9c179e"
             ],
             [
              0.4444444444444444,
              "#bd3786"
             ],
             [
              0.5555555555555556,
              "#d8576b"
             ],
             [
              0.6666666666666666,
              "#ed7953"
             ],
             [
              0.7777777777777778,
              "#fb9f3a"
             ],
             [
              0.8888888888888888,
              "#fdca26"
             ],
             [
              1,
              "#f0f921"
             ]
            ],
            "type": "contour"
           }
          ],
          "contourcarpet": [
           {
            "colorbar": {
             "outlinewidth": 0,
             "ticks": ""
            },
            "type": "contourcarpet"
           }
          ],
          "heatmap": [
           {
            "colorbar": {
             "outlinewidth": 0,
             "ticks": ""
            },
            "colorscale": [
             [
              0,
              "#0d0887"
             ],
             [
              0.1111111111111111,
              "#46039f"
             ],
             [
              0.2222222222222222,
              "#7201a8"
             ],
             [
              0.3333333333333333,
              "#9c179e"
             ],
             [
              0.4444444444444444,
              "#bd3786"
             ],
             [
              0.5555555555555556,
              "#d8576b"
             ],
             [
              0.6666666666666666,
              "#ed7953"
             ],
             [
              0.7777777777777778,
              "#fb9f3a"
             ],
             [
              0.8888888888888888,
              "#fdca26"
             ],
             [
              1,
              "#f0f921"
             ]
            ],
            "type": "heatmap"
           }
          ],
          "heatmapgl": [
           {
            "colorbar": {
             "outlinewidth": 0,
             "ticks": ""
            },
            "colorscale": [
             [
              0,
              "#0d0887"
             ],
             [
              0.1111111111111111,
              "#46039f"
             ],
             [
              0.2222222222222222,
              "#7201a8"
             ],
             [
              0.3333333333333333,
              "#9c179e"
             ],
             [
              0.4444444444444444,
              "#bd3786"
             ],
             [
              0.5555555555555556,
              "#d8576b"
             ],
             [
              0.6666666666666666,
              "#ed7953"
             ],
             [
              0.7777777777777778,
              "#fb9f3a"
             ],
             [
              0.8888888888888888,
              "#fdca26"
             ],
             [
              1,
              "#f0f921"
             ]
            ],
            "type": "heatmapgl"
           }
          ],
          "histogram": [
           {
            "marker": {
             "pattern": {
              "fillmode": "overlay",
              "size": 10,
              "solidity": 0.2
             }
            },
            "type": "histogram"
           }
          ],
          "histogram2d": [
           {
            "colorbar": {
             "outlinewidth": 0,
             "ticks": ""
            },
            "colorscale": [
             [
              0,
              "#0d0887"
             ],
             [
              0.1111111111111111,
              "#46039f"
             ],
             [
              0.2222222222222222,
              "#7201a8"
             ],
             [
              0.3333333333333333,
              "#9c179e"
             ],
             [
              0.4444444444444444,
              "#bd3786"
             ],
             [
              0.5555555555555556,
              "#d8576b"
             ],
             [
              0.6666666666666666,
              "#ed7953"
             ],
             [
              0.7777777777777778,
              "#fb9f3a"
             ],
             [
              0.8888888888888888,
              "#fdca26"
             ],
             [
              1,
              "#f0f921"
             ]
            ],
            "type": "histogram2d"
           }
          ],
          "histogram2dcontour": [
           {
            "colorbar": {
             "outlinewidth": 0,
             "ticks": ""
            },
            "colorscale": [
             [
              0,
              "#0d0887"
             ],
             [
              0.1111111111111111,
              "#46039f"
             ],
             [
              0.2222222222222222,
              "#7201a8"
             ],
             [
              0.3333333333333333,
              "#9c179e"
             ],
             [
              0.4444444444444444,
              "#bd3786"
             ],
             [
              0.5555555555555556,
              "#d8576b"
             ],
             [
              0.6666666666666666,
              "#ed7953"
             ],
             [
              0.7777777777777778,
              "#fb9f3a"
             ],
             [
              0.8888888888888888,
              "#fdca26"
             ],
             [
              1,
              "#f0f921"
             ]
            ],
            "type": "histogram2dcontour"
           }
          ],
          "mesh3d": [
           {
            "colorbar": {
             "outlinewidth": 0,
             "ticks": ""
            },
            "type": "mesh3d"
           }
          ],
          "parcoords": [
           {
            "line": {
             "colorbar": {
              "outlinewidth": 0,
              "ticks": ""
             }
            },
            "type": "parcoords"
           }
          ],
          "pie": [
           {
            "automargin": true,
            "type": "pie"
           }
          ],
          "scatter": [
           {
            "marker": {
             "colorbar": {
              "outlinewidth": 0,
              "ticks": ""
             }
            },
            "type": "scatter"
           }
          ],
          "scatter3d": [
           {
            "line": {
             "colorbar": {
              "outlinewidth": 0,
              "ticks": ""
             }
            },
            "marker": {
             "colorbar": {
              "outlinewidth": 0,
              "ticks": ""
             }
            },
            "type": "scatter3d"
           }
          ],
          "scattercarpet": [
           {
            "marker": {
             "colorbar": {
              "outlinewidth": 0,
              "ticks": ""
             }
            },
            "type": "scattercarpet"
           }
          ],
          "scattergeo": [
           {
            "marker": {
             "colorbar": {
              "outlinewidth": 0,
              "ticks": ""
             }
            },
            "type": "scattergeo"
           }
          ],
          "scattergl": [
           {
            "marker": {
             "colorbar": {
              "outlinewidth": 0,
              "ticks": ""
             }
            },
            "type": "scattergl"
           }
          ],
          "scattermapbox": [
           {
            "marker": {
             "colorbar": {
              "outlinewidth": 0,
              "ticks": ""
             }
            },
            "type": "scattermapbox"
           }
          ],
          "scatterpolar": [
           {
            "marker": {
             "colorbar": {
              "outlinewidth": 0,
              "ticks": ""
             }
            },
            "type": "scatterpolar"
           }
          ],
          "scatterpolargl": [
           {
            "marker": {
             "colorbar": {
              "outlinewidth": 0,
              "ticks": ""
             }
            },
            "type": "scatterpolargl"
           }
          ],
          "scatterternary": [
           {
            "marker": {
             "colorbar": {
              "outlinewidth": 0,
              "ticks": ""
             }
            },
            "type": "scatterternary"
           }
          ],
          "surface": [
           {
            "colorbar": {
             "outlinewidth": 0,
             "ticks": ""
            },
            "colorscale": [
             [
              0,
              "#0d0887"
             ],
             [
              0.1111111111111111,
              "#46039f"
             ],
             [
              0.2222222222222222,
              "#7201a8"
             ],
             [
              0.3333333333333333,
              "#9c179e"
             ],
             [
              0.4444444444444444,
              "#bd3786"
             ],
             [
              0.5555555555555556,
              "#d8576b"
             ],
             [
              0.6666666666666666,
              "#ed7953"
             ],
             [
              0.7777777777777778,
              "#fb9f3a"
             ],
             [
              0.8888888888888888,
              "#fdca26"
             ],
             [
              1,
              "#f0f921"
             ]
            ],
            "type": "surface"
           }
          ],
          "table": [
           {
            "cells": {
             "fill": {
              "color": "#EBF0F8"
             },
             "line": {
              "color": "white"
             }
            },
            "header": {
             "fill": {
              "color": "#C8D4E3"
             },
             "line": {
              "color": "white"
             }
            },
            "type": "table"
           }
          ]
         },
         "layout": {
          "annotationdefaults": {
           "arrowcolor": "#2a3f5f",
           "arrowhead": 0,
           "arrowwidth": 1
          },
          "autotypenumbers": "strict",
          "coloraxis": {
           "colorbar": {
            "outlinewidth": 0,
            "ticks": ""
           }
          },
          "colorscale": {
           "diverging": [
            [
             0,
             "#8e0152"
            ],
            [
             0.1,
             "#c51b7d"
            ],
            [
             0.2,
             "#de77ae"
            ],
            [
             0.3,
             "#f1b6da"
            ],
            [
             0.4,
             "#fde0ef"
            ],
            [
             0.5,
             "#f7f7f7"
            ],
            [
             0.6,
             "#e6f5d0"
            ],
            [
             0.7,
             "#b8e186"
            ],
            [
             0.8,
             "#7fbc41"
            ],
            [
             0.9,
             "#4d9221"
            ],
            [
             1,
             "#276419"
            ]
           ],
           "sequential": [
            [
             0,
             "#0d0887"
            ],
            [
             0.1111111111111111,
             "#46039f"
            ],
            [
             0.2222222222222222,
             "#7201a8"
            ],
            [
             0.3333333333333333,
             "#9c179e"
            ],
            [
             0.4444444444444444,
             "#bd3786"
            ],
            [
             0.5555555555555556,
             "#d8576b"
            ],
            [
             0.6666666666666666,
             "#ed7953"
            ],
            [
             0.7777777777777778,
             "#fb9f3a"
            ],
            [
             0.8888888888888888,
             "#fdca26"
            ],
            [
             1,
             "#f0f921"
            ]
           ],
           "sequentialminus": [
            [
             0,
             "#0d0887"
            ],
            [
             0.1111111111111111,
             "#46039f"
            ],
            [
             0.2222222222222222,
             "#7201a8"
            ],
            [
             0.3333333333333333,
             "#9c179e"
            ],
            [
             0.4444444444444444,
             "#bd3786"
            ],
            [
             0.5555555555555556,
             "#d8576b"
            ],
            [
             0.6666666666666666,
             "#ed7953"
            ],
            [
             0.7777777777777778,
             "#fb9f3a"
            ],
            [
             0.8888888888888888,
             "#fdca26"
            ],
            [
             1,
             "#f0f921"
            ]
           ]
          },
          "colorway": [
           "#636efa",
           "#EF553B",
           "#00cc96",
           "#ab63fa",
           "#FFA15A",
           "#19d3f3",
           "#FF6692",
           "#B6E880",
           "#FF97FF",
           "#FECB52"
          ],
          "font": {
           "color": "#2a3f5f"
          },
          "geo": {
           "bgcolor": "white",
           "lakecolor": "white",
           "landcolor": "#E5ECF6",
           "showlakes": true,
           "showland": true,
           "subunitcolor": "white"
          },
          "hoverlabel": {
           "align": "left"
          },
          "hovermode": "closest",
          "mapbox": {
           "style": "light"
          },
          "paper_bgcolor": "white",
          "plot_bgcolor": "#E5ECF6",
          "polar": {
           "angularaxis": {
            "gridcolor": "white",
            "linecolor": "white",
            "ticks": ""
           },
           "bgcolor": "#E5ECF6",
           "radialaxis": {
            "gridcolor": "white",
            "linecolor": "white",
            "ticks": ""
           }
          },
          "scene": {
           "xaxis": {
            "backgroundcolor": "#E5ECF6",
            "gridcolor": "white",
            "gridwidth": 2,
            "linecolor": "white",
            "showbackground": true,
            "ticks": "",
            "zerolinecolor": "white"
           },
           "yaxis": {
            "backgroundcolor": "#E5ECF6",
            "gridcolor": "white",
            "gridwidth": 2,
            "linecolor": "white",
            "showbackground": true,
            "ticks": "",
            "zerolinecolor": "white"
           },
           "zaxis": {
            "backgroundcolor": "#E5ECF6",
            "gridcolor": "white",
            "gridwidth": 2,
            "linecolor": "white",
            "showbackground": true,
            "ticks": "",
            "zerolinecolor": "white"
           }
          },
          "shapedefaults": {
           "line": {
            "color": "#2a3f5f"
           }
          },
          "ternary": {
           "aaxis": {
            "gridcolor": "white",
            "linecolor": "white",
            "ticks": ""
           },
           "baxis": {
            "gridcolor": "white",
            "linecolor": "white",
            "ticks": ""
           },
           "bgcolor": "#E5ECF6",
           "caxis": {
            "gridcolor": "white",
            "linecolor": "white",
            "ticks": ""
           }
          },
          "title": {
           "x": 0.05
          },
          "xaxis": {
           "automargin": true,
           "gridcolor": "white",
           "linecolor": "white",
           "ticks": "",
           "title": {
            "standoff": 15
           },
           "zerolinecolor": "white",
           "zerolinewidth": 2
          },
          "yaxis": {
           "automargin": true,
           "gridcolor": "white",
           "linecolor": "white",
           "ticks": "",
           "title": {
            "standoff": 15
           },
           "zerolinecolor": "white",
           "zerolinewidth": 2
          }
         }
        },
        "title": {
         "text": "R1 Structures: Frequency and Impact on Score Relative to All Factions Average (153.41): xenos"
        }
       }
      },
      "text/html": [
       "<div>                            <div id=\"ffb49d44-175a-48c8-9c38-45b5684e3aeb\" class=\"plotly-graph-div\" style=\"height:525px; width:100%;\"></div>            <script type=\"text/javascript\">                require([\"plotly\"], function(Plotly) {                    window.PLOTLYENV=window.PLOTLYENV || {};                                    if (document.getElementById(\"ffb49d44-175a-48c8-9c38-45b5684e3aeb\")) {                    Plotly.newPlot(                        \"ffb49d44-175a-48c8-9c38-45b5684e3aeb\",                        [{\"branchvalues\":\"total\",\"customdata\":[[156.0,141.5],[199.6,157.93333333333334],[130.57142857142858,144.14285714285714],[147.33333333333334,137.66666666666666],[126.42857142857143,145.14285714285714],[259.4329896907216,154.36082474226805],[173.2,149.76],[142.2,130.1],[230.76470588235293,152.52941176470588],[252.5,135.5],[149.75,139.25],[174.30232558139534,144.08139534883722],[115.33333333333333,126.0],[173.66666666666666,151.83333333333334],[184.5,163.5],[200.42857142857142,151.28571428571428],[179.88571428571427,139.45714285714286],[156.1818181818182,138.0909090909091],[63.666666666666664,139.0],[275.5,152.0],[163.9375,130.25],[202.21621621621622,144.32432432432432],[114.33333333333333,136.66666666666666],[166.4,140.6],[215.16666666666666,144.16666666666666],[294.0,152.0],[296.0,155.0],[221.7070707070707,150.5252525252525],[95.33333333333333,167.66666666666666],[272.75,165.03947368421052],[201.4,144.4],[\"(?)\",133.67567567567568],[\"(?)\",153.68067226890756],[126.42857142857143,145.14285714285714],[\"(?)\",148.52805755395684],[\"(?)\",145.0],[\"(?)\",149.08466135458167]],\"domain\":{\"x\":[0.0,1.0],\"y\":[0.0,1.0]},\"hovertemplate\":\"labels=%{label}<br>class_counts=%{value}<br>parent=%{parent}<br>id=%{id}<br>ave_elo_xenos=%{customdata[0]}<br>ave_score_xenos=%{color}<extra></extra>\",\"ids\":[\"R1 Structures: Frequency and Overall Score for xenos/PI/ 1-m_0-ts_1-lab_1-pi_0-ac1_0-ac2\",\"R1 Structures: Frequency and Overall Score for xenos/lab/ 1-m_0-ts_2-lab_0-pi_0-ac1_0-ac2\",\"R1 Structures: Frequency and Overall Score for xenos/lab/ 1-m_1-ts_1-lab_0-pi_0-ac1_0-ac2\",\"R1 Structures: Frequency and Overall Score for xenos/lab/ 1-m_2-ts_1-lab_0-pi_0-ac1_0-ac2\",\"R1 Structures: Frequency and Overall Score for xenos/ac2/ 2-m_0-ts_0-lab_0-pi_0-ac1_1-ac2\",\"R1 Structures: Frequency and Overall Score for xenos/ac1/ 2-m_0-ts_0-lab_0-pi_1-ac1_0-ac2\",\"R1 Structures: Frequency and Overall Score for xenos/lab/ 2-m_0-ts_1-lab_0-pi_0-ac1_0-ac2\",\"R1 Structures: Frequency and Overall Score for xenos/PI/ 2-m_0-ts_1-lab_1-pi_0-ac1_0-ac2\",\"R1 Structures: Frequency and Overall Score for xenos/lab/ 2-m_0-ts_2-lab_0-pi_0-ac1_0-ac2\",\"R1 Structures: Frequency and Overall Score for xenos/ac1/ 2-m_1-ts_0-lab_0-pi_1-ac1_0-ac2\",\"R1 Structures: Frequency and Overall Score for xenos/PI/ 2-m_1-ts_0-lab_1-pi_0-ac1_0-ac2\",\"R1 Structures: Frequency and Overall Score for xenos/lab/ 2-m_1-ts_1-lab_0-pi_0-ac1_0-ac2\",\"R1 Structures: Frequency and Overall Score for xenos/ts/ 2-m_2-ts_0-lab_0-pi_0-ac1_0-ac2\",\"R1 Structures: Frequency and Overall Score for xenos/lab/ 2-m_2-ts_1-lab_0-pi_0-ac1_0-ac2\",\"R1 Structures: Frequency and Overall Score for xenos/ts/ 2-m_3-ts_0-lab_0-pi_0-ac1_0-ac2\",\"R1 Structures: Frequency and Overall Score for xenos/ac1/ 3-m_0-ts_0-lab_0-pi_1-ac1_0-ac2\",\"R1 Structures: Frequency and Overall Score for xenos/lab/ 3-m_0-ts_1-lab_0-pi_0-ac1_0-ac2\",\"R1 Structures: Frequency and Overall Score for xenos/lab/ 3-m_1-ts_1-lab_0-pi_0-ac1_0-ac2\",\"R1 Structures: Frequency and Overall Score for xenos/ts/ 3-m_2-ts_0-lab_0-pi_0-ac1_0-ac2\",\"R1 Structures: Frequency and Overall Score for xenos/ac1/ 4-m_0-ts_0-lab_0-pi_1-ac1_0-ac2\",\"R1 Structures: Frequency and Overall Score for xenos/PI/ 4-m_0-ts_0-lab_1-pi_0-ac1_0-ac2\",\"R1 Structures: Frequency and Overall Score for xenos/lab/ 4-m_0-ts_1-lab_0-pi_0-ac1_0-ac2\",\"R1 Structures: Frequency and Overall Score for xenos/ts/ 4-m_1-ts_0-lab_0-pi_0-ac1_0-ac2\",\"R1 Structures: Frequency and Overall Score for xenos/lab/ 4-m_1-ts_1-lab_0-pi_0-ac1_0-ac2\",\"R1 Structures: Frequency and Overall Score for xenos/ts/ 4-m_2-ts_0-lab_0-pi_0-ac1_0-ac2\",\"R1 Structures: Frequency and Overall Score for xenos/ac1/ 5-m_0-ts_0-lab_0-pi_1-ac1_0-ac2\",\"R1 Structures: Frequency and Overall Score for xenos/PI/ 5-m_0-ts_0-lab_1-pi_0-ac1_0-ac2\",\"R1 Structures: Frequency and Overall Score for xenos/lab/ 5-m_0-ts_1-lab_0-pi_0-ac1_0-ac2\",\"R1 Structures: Frequency and Overall Score for xenos/ts/ 5-m_1-ts_0-lab_0-pi_0-ac1_0-ac2\",\"R1 Structures: Frequency and Overall Score for xenos/lab/ 6-m_0-ts_1-lab_0-pi_0-ac1_0-ac2\",\"R1 Structures: Frequency and Overall Score for xenos/lab/ 7-m_0-ts_1-lab_0-pi_0-ac1_0-ac2\",\"R1 Structures: Frequency and Overall Score for xenos/PI\",\"R1 Structures: Frequency and Overall Score for xenos/ac1\",\"R1 Structures: Frequency and Overall Score for xenos/ac2\",\"R1 Structures: Frequency and Overall Score for xenos/lab\",\"R1 Structures: Frequency and Overall Score for xenos/ts\",\"R1 Structures: Frequency and Overall Score for xenos\"],\"labels\":[\" 1-m_0-ts_1-lab_1-pi_0-ac1_0-ac2\",\" 1-m_0-ts_2-lab_0-pi_0-ac1_0-ac2\",\" 1-m_1-ts_1-lab_0-pi_0-ac1_0-ac2\",\" 1-m_2-ts_1-lab_0-pi_0-ac1_0-ac2\",\" 2-m_0-ts_0-lab_0-pi_0-ac1_1-ac2\",\" 2-m_0-ts_0-lab_0-pi_1-ac1_0-ac2\",\" 2-m_0-ts_1-lab_0-pi_0-ac1_0-ac2\",\" 2-m_0-ts_1-lab_1-pi_0-ac1_0-ac2\",\" 2-m_0-ts_2-lab_0-pi_0-ac1_0-ac2\",\" 2-m_1-ts_0-lab_0-pi_1-ac1_0-ac2\",\" 2-m_1-ts_0-lab_1-pi_0-ac1_0-ac2\",\" 2-m_1-ts_1-lab_0-pi_0-ac1_0-ac2\",\" 2-m_2-ts_0-lab_0-pi_0-ac1_0-ac2\",\" 2-m_2-ts_1-lab_0-pi_0-ac1_0-ac2\",\" 2-m_3-ts_0-lab_0-pi_0-ac1_0-ac2\",\" 3-m_0-ts_0-lab_0-pi_1-ac1_0-ac2\",\" 3-m_0-ts_1-lab_0-pi_0-ac1_0-ac2\",\" 3-m_1-ts_1-lab_0-pi_0-ac1_0-ac2\",\" 3-m_2-ts_0-lab_0-pi_0-ac1_0-ac2\",\" 4-m_0-ts_0-lab_0-pi_1-ac1_0-ac2\",\" 4-m_0-ts_0-lab_1-pi_0-ac1_0-ac2\",\" 4-m_0-ts_1-lab_0-pi_0-ac1_0-ac2\",\" 4-m_1-ts_0-lab_0-pi_0-ac1_0-ac2\",\" 4-m_1-ts_1-lab_0-pi_0-ac1_0-ac2\",\" 4-m_2-ts_0-lab_0-pi_0-ac1_0-ac2\",\" 5-m_0-ts_0-lab_0-pi_1-ac1_0-ac2\",\" 5-m_0-ts_0-lab_1-pi_0-ac1_0-ac2\",\" 5-m_0-ts_1-lab_0-pi_0-ac1_0-ac2\",\" 5-m_1-ts_0-lab_0-pi_0-ac1_0-ac2\",\" 6-m_0-ts_1-lab_0-pi_0-ac1_0-ac2\",\" 7-m_0-ts_1-lab_0-pi_0-ac1_0-ac2\",\"PI\",\"ac1\",\"ac2\",\"lab\",\"ts\",\"R1 Structures: Frequency and Overall Score for xenos\"],\"marker\":{\"coloraxis\":\"coloraxis\",\"colors\":[141.5,157.93333333333334,144.14285714285714,137.66666666666666,145.14285714285714,154.36082474226805,149.76,130.1,152.52941176470588,135.5,139.25,144.08139534883722,126.0,151.83333333333334,163.5,151.28571428571428,139.45714285714286,138.0909090909091,139.0,152.0,130.25,144.32432432432432,136.66666666666666,140.6,144.16666666666666,152.0,155.0,150.5252525252525,167.66666666666666,165.03947368421052,144.4,133.67567567567568,153.68067226890756,145.14285714285714,148.52805755395684,145.0,149.08466135458167]},\"name\":\"\",\"parents\":[\"R1 Structures: Frequency and Overall Score for xenos/PI\",\"R1 Structures: Frequency and Overall Score for xenos/lab\",\"R1 Structures: Frequency and Overall Score for xenos/lab\",\"R1 Structures: Frequency and Overall Score for xenos/lab\",\"R1 Structures: Frequency and Overall Score for xenos/ac2\",\"R1 Structures: Frequency and Overall Score for xenos/ac1\",\"R1 Structures: Frequency and Overall Score for xenos/lab\",\"R1 Structures: Frequency and Overall Score for xenos/PI\",\"R1 Structures: Frequency and Overall Score for xenos/lab\",\"R1 Structures: Frequency and Overall Score for xenos/ac1\",\"R1 Structures: Frequency and Overall Score for xenos/PI\",\"R1 Structures: Frequency and Overall Score for xenos/lab\",\"R1 Structures: Frequency and Overall Score for xenos/ts\",\"R1 Structures: Frequency and Overall Score for xenos/lab\",\"R1 Structures: Frequency and Overall Score for xenos/ts\",\"R1 Structures: Frequency and Overall Score for xenos/ac1\",\"R1 Structures: Frequency and Overall Score for xenos/lab\",\"R1 Structures: Frequency and Overall Score for xenos/lab\",\"R1 Structures: Frequency and Overall Score for xenos/ts\",\"R1 Structures: Frequency and Overall Score for xenos/ac1\",\"R1 Structures: Frequency and Overall Score for xenos/PI\",\"R1 Structures: Frequency and Overall Score for xenos/lab\",\"R1 Structures: Frequency and Overall Score for xenos/ts\",\"R1 Structures: Frequency and Overall Score for xenos/lab\",\"R1 Structures: Frequency and Overall Score for xenos/ts\",\"R1 Structures: Frequency and Overall Score for xenos/ac1\",\"R1 Structures: Frequency and Overall Score for xenos/PI\",\"R1 Structures: Frequency and Overall Score for xenos/lab\",\"R1 Structures: Frequency and Overall Score for xenos/ts\",\"R1 Structures: Frequency and Overall Score for xenos/lab\",\"R1 Structures: Frequency and Overall Score for xenos/lab\",\"R1 Structures: Frequency and Overall Score for xenos\",\"R1 Structures: Frequency and Overall Score for xenos\",\"R1 Structures: Frequency and Overall Score for xenos\",\"R1 Structures: Frequency and Overall Score for xenos\",\"R1 Structures: Frequency and Overall Score for xenos\",\"\"],\"values\":[6,15,7,3,14,194,25,10,17,2,4,86,3,6,2,35,35,22,3,6,16,185,3,15,6,1,1,198,3,76,5,37,238,14,695,20,1004],\"type\":\"treemap\"}],                        {\"template\":{\"data\":{\"bar\":[{\"error_x\":{\"color\":\"#2a3f5f\"},\"error_y\":{\"color\":\"#2a3f5f\"},\"marker\":{\"line\":{\"color\":\"#E5ECF6\",\"width\":0.5},\"pattern\":{\"fillmode\":\"overlay\",\"size\":10,\"solidity\":0.2}},\"type\":\"bar\"}],\"barpolar\":[{\"marker\":{\"line\":{\"color\":\"#E5ECF6\",\"width\":0.5},\"pattern\":{\"fillmode\":\"overlay\",\"size\":10,\"solidity\":0.2}},\"type\":\"barpolar\"}],\"carpet\":[{\"aaxis\":{\"endlinecolor\":\"#2a3f5f\",\"gridcolor\":\"white\",\"linecolor\":\"white\",\"minorgridcolor\":\"white\",\"startlinecolor\":\"#2a3f5f\"},\"baxis\":{\"endlinecolor\":\"#2a3f5f\",\"gridcolor\":\"white\",\"linecolor\":\"white\",\"minorgridcolor\":\"white\",\"startlinecolor\":\"#2a3f5f\"},\"type\":\"carpet\"}],\"choropleth\":[{\"colorbar\":{\"outlinewidth\":0,\"ticks\":\"\"},\"type\":\"choropleth\"}],\"contour\":[{\"colorbar\":{\"outlinewidth\":0,\"ticks\":\"\"},\"colorscale\":[[0.0,\"#0d0887\"],[0.1111111111111111,\"#46039f\"],[0.2222222222222222,\"#7201a8\"],[0.3333333333333333,\"#9c179e\"],[0.4444444444444444,\"#bd3786\"],[0.5555555555555556,\"#d8576b\"],[0.6666666666666666,\"#ed7953\"],[0.7777777777777778,\"#fb9f3a\"],[0.8888888888888888,\"#fdca26\"],[1.0,\"#f0f921\"]],\"type\":\"contour\"}],\"contourcarpet\":[{\"colorbar\":{\"outlinewidth\":0,\"ticks\":\"\"},\"type\":\"contourcarpet\"}],\"heatmap\":[{\"colorbar\":{\"outlinewidth\":0,\"ticks\":\"\"},\"colorscale\":[[0.0,\"#0d0887\"],[0.1111111111111111,\"#46039f\"],[0.2222222222222222,\"#7201a8\"],[0.3333333333333333,\"#9c179e\"],[0.4444444444444444,\"#bd3786\"],[0.5555555555555556,\"#d8576b\"],[0.6666666666666666,\"#ed7953\"],[0.7777777777777778,\"#fb9f3a\"],[0.8888888888888888,\"#fdca26\"],[1.0,\"#f0f921\"]],\"type\":\"heatmap\"}],\"heatmapgl\":[{\"colorbar\":{\"outlinewidth\":0,\"ticks\":\"\"},\"colorscale\":[[0.0,\"#0d0887\"],[0.1111111111111111,\"#46039f\"],[0.2222222222222222,\"#7201a8\"],[0.3333333333333333,\"#9c179e\"],[0.4444444444444444,\"#bd3786\"],[0.5555555555555556,\"#d8576b\"],[0.6666666666666666,\"#ed7953\"],[0.7777777777777778,\"#fb9f3a\"],[0.8888888888888888,\"#fdca26\"],[1.0,\"#f0f921\"]],\"type\":\"heatmapgl\"}],\"histogram\":[{\"marker\":{\"pattern\":{\"fillmode\":\"overlay\",\"size\":10,\"solidity\":0.2}},\"type\":\"histogram\"}],\"histogram2d\":[{\"colorbar\":{\"outlinewidth\":0,\"ticks\":\"\"},\"colorscale\":[[0.0,\"#0d0887\"],[0.1111111111111111,\"#46039f\"],[0.2222222222222222,\"#7201a8\"],[0.3333333333333333,\"#9c179e\"],[0.4444444444444444,\"#bd3786\"],[0.5555555555555556,\"#d8576b\"],[0.6666666666666666,\"#ed7953\"],[0.7777777777777778,\"#fb9f3a\"],[0.8888888888888888,\"#fdca26\"],[1.0,\"#f0f921\"]],\"type\":\"histogram2d\"}],\"histogram2dcontour\":[{\"colorbar\":{\"outlinewidth\":0,\"ticks\":\"\"},\"colorscale\":[[0.0,\"#0d0887\"],[0.1111111111111111,\"#46039f\"],[0.2222222222222222,\"#7201a8\"],[0.3333333333333333,\"#9c179e\"],[0.4444444444444444,\"#bd3786\"],[0.5555555555555556,\"#d8576b\"],[0.6666666666666666,\"#ed7953\"],[0.7777777777777778,\"#fb9f3a\"],[0.8888888888888888,\"#fdca26\"],[1.0,\"#f0f921\"]],\"type\":\"histogram2dcontour\"}],\"mesh3d\":[{\"colorbar\":{\"outlinewidth\":0,\"ticks\":\"\"},\"type\":\"mesh3d\"}],\"parcoords\":[{\"line\":{\"colorbar\":{\"outlinewidth\":0,\"ticks\":\"\"}},\"type\":\"parcoords\"}],\"pie\":[{\"automargin\":true,\"type\":\"pie\"}],\"scatter\":[{\"marker\":{\"colorbar\":{\"outlinewidth\":0,\"ticks\":\"\"}},\"type\":\"scatter\"}],\"scatter3d\":[{\"line\":{\"colorbar\":{\"outlinewidth\":0,\"ticks\":\"\"}},\"marker\":{\"colorbar\":{\"outlinewidth\":0,\"ticks\":\"\"}},\"type\":\"scatter3d\"}],\"scattercarpet\":[{\"marker\":{\"colorbar\":{\"outlinewidth\":0,\"ticks\":\"\"}},\"type\":\"scattercarpet\"}],\"scattergeo\":[{\"marker\":{\"colorbar\":{\"outlinewidth\":0,\"ticks\":\"\"}},\"type\":\"scattergeo\"}],\"scattergl\":[{\"marker\":{\"colorbar\":{\"outlinewidth\":0,\"ticks\":\"\"}},\"type\":\"scattergl\"}],\"scattermapbox\":[{\"marker\":{\"colorbar\":{\"outlinewidth\":0,\"ticks\":\"\"}},\"type\":\"scattermapbox\"}],\"scatterpolar\":[{\"marker\":{\"colorbar\":{\"outlinewidth\":0,\"ticks\":\"\"}},\"type\":\"scatterpolar\"}],\"scatterpolargl\":[{\"marker\":{\"colorbar\":{\"outlinewidth\":0,\"ticks\":\"\"}},\"type\":\"scatterpolargl\"}],\"scatterternary\":[{\"marker\":{\"colorbar\":{\"outlinewidth\":0,\"ticks\":\"\"}},\"type\":\"scatterternary\"}],\"surface\":[{\"colorbar\":{\"outlinewidth\":0,\"ticks\":\"\"},\"colorscale\":[[0.0,\"#0d0887\"],[0.1111111111111111,\"#46039f\"],[0.2222222222222222,\"#7201a8\"],[0.3333333333333333,\"#9c179e\"],[0.4444444444444444,\"#bd3786\"],[0.5555555555555556,\"#d8576b\"],[0.6666666666666666,\"#ed7953\"],[0.7777777777777778,\"#fb9f3a\"],[0.8888888888888888,\"#fdca26\"],[1.0,\"#f0f921\"]],\"type\":\"surface\"}],\"table\":[{\"cells\":{\"fill\":{\"color\":\"#EBF0F8\"},\"line\":{\"color\":\"white\"}},\"header\":{\"fill\":{\"color\":\"#C8D4E3\"},\"line\":{\"color\":\"white\"}},\"type\":\"table\"}]},\"layout\":{\"annotationdefaults\":{\"arrowcolor\":\"#2a3f5f\",\"arrowhead\":0,\"arrowwidth\":1},\"autotypenumbers\":\"strict\",\"coloraxis\":{\"colorbar\":{\"outlinewidth\":0,\"ticks\":\"\"}},\"colorscale\":{\"diverging\":[[0,\"#8e0152\"],[0.1,\"#c51b7d\"],[0.2,\"#de77ae\"],[0.3,\"#f1b6da\"],[0.4,\"#fde0ef\"],[0.5,\"#f7f7f7\"],[0.6,\"#e6f5d0\"],[0.7,\"#b8e186\"],[0.8,\"#7fbc41\"],[0.9,\"#4d9221\"],[1,\"#276419\"]],\"sequential\":[[0.0,\"#0d0887\"],[0.1111111111111111,\"#46039f\"],[0.2222222222222222,\"#7201a8\"],[0.3333333333333333,\"#9c179e\"],[0.4444444444444444,\"#bd3786\"],[0.5555555555555556,\"#d8576b\"],[0.6666666666666666,\"#ed7953\"],[0.7777777777777778,\"#fb9f3a\"],[0.8888888888888888,\"#fdca26\"],[1.0,\"#f0f921\"]],\"sequentialminus\":[[0.0,\"#0d0887\"],[0.1111111111111111,\"#46039f\"],[0.2222222222222222,\"#7201a8\"],[0.3333333333333333,\"#9c179e\"],[0.4444444444444444,\"#bd3786\"],[0.5555555555555556,\"#d8576b\"],[0.6666666666666666,\"#ed7953\"],[0.7777777777777778,\"#fb9f3a\"],[0.8888888888888888,\"#fdca26\"],[1.0,\"#f0f921\"]]},\"colorway\":[\"#636efa\",\"#EF553B\",\"#00cc96\",\"#ab63fa\",\"#FFA15A\",\"#19d3f3\",\"#FF6692\",\"#B6E880\",\"#FF97FF\",\"#FECB52\"],\"font\":{\"color\":\"#2a3f5f\"},\"geo\":{\"bgcolor\":\"white\",\"lakecolor\":\"white\",\"landcolor\":\"#E5ECF6\",\"showlakes\":true,\"showland\":true,\"subunitcolor\":\"white\"},\"hoverlabel\":{\"align\":\"left\"},\"hovermode\":\"closest\",\"mapbox\":{\"style\":\"light\"},\"paper_bgcolor\":\"white\",\"plot_bgcolor\":\"#E5ECF6\",\"polar\":{\"angularaxis\":{\"gridcolor\":\"white\",\"linecolor\":\"white\",\"ticks\":\"\"},\"bgcolor\":\"#E5ECF6\",\"radialaxis\":{\"gridcolor\":\"white\",\"linecolor\":\"white\",\"ticks\":\"\"}},\"scene\":{\"xaxis\":{\"backgroundcolor\":\"#E5ECF6\",\"gridcolor\":\"white\",\"gridwidth\":2,\"linecolor\":\"white\",\"showbackground\":true,\"ticks\":\"\",\"zerolinecolor\":\"white\"},\"yaxis\":{\"backgroundcolor\":\"#E5ECF6\",\"gridcolor\":\"white\",\"gridwidth\":2,\"linecolor\":\"white\",\"showbackground\":true,\"ticks\":\"\",\"zerolinecolor\":\"white\"},\"zaxis\":{\"backgroundcolor\":\"#E5ECF6\",\"gridcolor\":\"white\",\"gridwidth\":2,\"linecolor\":\"white\",\"showbackground\":true,\"ticks\":\"\",\"zerolinecolor\":\"white\"}},\"shapedefaults\":{\"line\":{\"color\":\"#2a3f5f\"}},\"ternary\":{\"aaxis\":{\"gridcolor\":\"white\",\"linecolor\":\"white\",\"ticks\":\"\"},\"baxis\":{\"gridcolor\":\"white\",\"linecolor\":\"white\",\"ticks\":\"\"},\"bgcolor\":\"#E5ECF6\",\"caxis\":{\"gridcolor\":\"white\",\"linecolor\":\"white\",\"ticks\":\"\"}},\"title\":{\"x\":0.05},\"xaxis\":{\"automargin\":true,\"gridcolor\":\"white\",\"linecolor\":\"white\",\"ticks\":\"\",\"title\":{\"standoff\":15},\"zerolinecolor\":\"white\",\"zerolinewidth\":2},\"yaxis\":{\"automargin\":true,\"gridcolor\":\"white\",\"linecolor\":\"white\",\"ticks\":\"\",\"title\":{\"standoff\":15},\"zerolinecolor\":\"white\",\"zerolinewidth\":2}}},\"coloraxis\":{\"colorbar\":{\"title\":{\"text\":\"ave_score_xenos\"}},\"colorscale\":[[0.0,\"rgb(103,0,31)\"],[0.1,\"rgb(178,24,43)\"],[0.2,\"rgb(214,96,77)\"],[0.3,\"rgb(244,165,130)\"],[0.4,\"rgb(253,219,199)\"],[0.5,\"rgb(247,247,247)\"],[0.6,\"rgb(209,229,240)\"],[0.7,\"rgb(146,197,222)\"],[0.8,\"rgb(67,147,195)\"],[0.9,\"rgb(33,102,172)\"],[1.0,\"rgb(5,48,97)\"]],\"cmid\":153.409394703657},\"legend\":{\"tracegroupgap\":0},\"margin\":{\"t\":50,\"l\":25,\"r\":25,\"b\":25},\"title\":{\"text\":\"R1 Structures: Frequency and Impact on Score Relative to All Factions Average (153.41): xenos\"}},                        {\"responsive\": true}                    ).then(function(){\n",
       "                            \n",
       "var gd = document.getElementById('ffb49d44-175a-48c8-9c38-45b5684e3aeb');\n",
       "var x = new MutationObserver(function (mutations, observer) {{\n",
       "        var display = window.getComputedStyle(gd).display;\n",
       "        if (!display || display === 'none') {{\n",
       "            console.log([gd, 'removed!']);\n",
       "            Plotly.purge(gd);\n",
       "            observer.disconnect();\n",
       "        }}\n",
       "}});\n",
       "\n",
       "// Listen for the removal of the full notebook cells\n",
       "var notebookContainer = gd.closest('#notebook-container');\n",
       "if (notebookContainer) {{\n",
       "    x.observe(notebookContainer, {childList: true});\n",
       "}}\n",
       "\n",
       "// Listen for the clearing of the current output cell\n",
       "var outputEl = gd.closest('.output');\n",
       "if (outputEl) {{\n",
       "    x.observe(outputEl, {childList: true});\n",
       "}}\n",
       "\n",
       "                        })                };                });            </script>        </div>"
      ]
     },
     "metadata": {},
     "output_type": "display_data"
    },
    {
     "data": {
      "application/vnd.plotly.v1+json": {
       "config": {
        "plotlyServerURL": "https://plot.ly"
       },
       "data": [
        {
         "branchvalues": "total",
         "customdata": [
          [
           240,
           142.66666666666666
          ],
          [
           242,
           169
          ],
          [
           169.5,
           147
          ],
          [
           117.5,
           145.5
          ],
          [
           209.6,
           146.2
          ],
          [
           121,
           188.5
          ],
          [
           243.5609756097561,
           159.67073170731706
          ],
          [
           135.33333333333334,
           141.66666666666666
          ],
          [
           226.66666666666666,
           171.33333333333334
          ],
          [
           291.75,
           166.225
          ],
          [
           262.15384615384613,
           166.46153846153845
          ],
          [
           225.57142857142858,
           144.42857142857142
          ],
          [
           246,
           193
          ],
          [
           196.9090909090909,
           162.54545454545453
          ],
          [
           281.5,
           148.375
          ],
          [
           260.83054892601433,
           167.5871121718377
          ],
          [
           174.89743589743588,
           139.3846153846154
          ],
          [
           173.66666666666666,
           189
          ],
          [
           293.78,
           168.86
          ],
          [
           310,
           163
          ],
          [
           288.875,
           183.3125
          ],
          [
           94.16666666666667,
           159
          ],
          [
           211.66176470588235,
           156.8308823529412
          ],
          [
           271.3333333333333,
           161.33333333333334
          ],
          [
           163.14285714285714,
           156.14285714285714
          ],
          [
           278.42391304347825,
           170.30434782608697
          ],
          [
           176.135593220339,
           145.40677966101694
          ],
          [
           274.85714285714283,
           178.14285714285714
          ],
          [
           239,
           133
          ],
          [
           220.6315789473684,
           162.73684210526315
          ],
          [
           118,
           180
          ],
          [
           265.4074074074074,
           176.92592592592592
          ],
          [
           216.5,
           136.5
          ],
          [
           218.37864077669903,
           157.4368932038835
          ],
          [
           367.5,
           197.5
          ],
          [
           279.25,
           173.58333333333334
          ],
          [
           314,
           190.8
          ],
          [
           231.3913043478261,
           168.43478260869566
          ],
          [
           280.5,
           180.0625
          ],
          [
           1,
           161
          ],
          [
           317.5,
           191.5
          ],
          [
           "(?)",
           160.94117647058823
          ],
          [
           "(?)",
           167.83841463414635
          ],
          [
           "(?)",
           157.89473684210526
          ],
          [
           "(?)",
           158.96351575456052
          ],
          [
           1,
           161
          ],
          [
           239,
           133
          ],
          [
           "(?)",
           163.44410177332304
          ]
         ],
         "domain": {
          "x": [
           0,
           1
          ],
          "y": [
           0,
           1
          ]
         },
         "hovertemplate": "labels=%{label}<br>class_counts=%{value}<br>parent=%{parent}<br>id=%{id}<br>ave_elo_taklons=%{customdata[0]}<br>ave_score_taklons=%{color}<extra></extra>",
         "ids": [
          "R1 Structures: Frequency and Overall Score for taklons/PI/ 0-m_0-ts_1-lab_1-pi_0-ac1_0-ac2",
          "R1 Structures: Frequency and Overall Score for taklons/lab/ 0-m_0-ts_2-lab_0-pi_0-ac1_0-ac2",
          "R1 Structures: Frequency and Overall Score for taklons/ac1/ 0-m_1-ts_0-lab_0-pi_1-ac1_0-ac2",
          "R1 Structures: Frequency and Overall Score for taklons/lab/ 0-m_1-ts_1-lab_0-pi_0-ac1_0-ac2",
          "R1 Structures: Frequency and Overall Score for taklons/lab/ 0-m_2-ts_1-lab_0-pi_0-ac1_0-ac2",
          "R1 Structures: Frequency and Overall Score for taklons/ac2/ 1-m_0-ts_0-lab_0-pi_0-ac1_1-ac2",
          "R1 Structures: Frequency and Overall Score for taklons/ac1/ 1-m_0-ts_0-lab_0-pi_1-ac1_0-ac2",
          "R1 Structures: Frequency and Overall Score for taklons/lab/ 1-m_0-ts_1-lab_0-pi_0-ac1_0-ac2",
          "R1 Structures: Frequency and Overall Score for taklons/PI/ 1-m_0-ts_1-lab_1-pi_0-ac1_0-ac2",
          "R1 Structures: Frequency and Overall Score for taklons/lab/ 1-m_0-ts_2-lab_0-pi_0-ac1_0-ac2",
          "R1 Structures: Frequency and Overall Score for taklons/ac1/ 1-m_1-ts_0-lab_0-pi_1-ac1_0-ac2",
          "R1 Structures: Frequency and Overall Score for taklons/lab/ 1-m_1-ts_1-lab_0-pi_0-ac1_0-ac2",
          "R1 Structures: Frequency and Overall Score for taklons/lab/ 1-m_1-ts_2-lab_0-pi_0-ac1_0-ac2",
          "R1 Structures: Frequency and Overall Score for taklons/lab/ 1-m_2-ts_1-lab_0-pi_0-ac1_0-ac2",
          "R1 Structures: Frequency and Overall Score for taklons/ac2/ 2-m_0-ts_0-lab_0-pi_0-ac1_1-ac2",
          "R1 Structures: Frequency and Overall Score for taklons/ac1/ 2-m_0-ts_0-lab_0-pi_1-ac1_0-ac2",
          "R1 Structures: Frequency and Overall Score for taklons/lab/ 2-m_0-ts_1-lab_0-pi_0-ac1_0-ac2",
          "R1 Structures: Frequency and Overall Score for taklons/PI/ 2-m_0-ts_1-lab_1-pi_0-ac1_0-ac2",
          "R1 Structures: Frequency and Overall Score for taklons/lab/ 2-m_0-ts_2-lab_0-pi_0-ac1_0-ac2",
          "R1 Structures: Frequency and Overall Score for taklons/ac2/ 2-m_1-ts_0-lab_0-pi_0-ac1_1-ac2",
          "R1 Structures: Frequency and Overall Score for taklons/ac1/ 2-m_1-ts_0-lab_0-pi_1-ac1_0-ac2",
          "R1 Structures: Frequency and Overall Score for taklons/PI/ 2-m_1-ts_0-lab_1-pi_0-ac1_0-ac2",
          "R1 Structures: Frequency and Overall Score for taklons/lab/ 2-m_1-ts_1-lab_0-pi_0-ac1_0-ac2",
          "R1 Structures: Frequency and Overall Score for taklons/lab/ 2-m_2-ts_1-lab_0-pi_0-ac1_0-ac2",
          "R1 Structures: Frequency and Overall Score for taklons/ac2/ 3-m_0-ts_0-lab_0-pi_0-ac1_1-ac2",
          "R1 Structures: Frequency and Overall Score for taklons/ac1/ 3-m_0-ts_0-lab_0-pi_1-ac1_0-ac2",
          "R1 Structures: Frequency and Overall Score for taklons/lab/ 3-m_0-ts_1-lab_0-pi_0-ac1_0-ac2",
          "R1 Structures: Frequency and Overall Score for taklons/lab/ 3-m_0-ts_2-lab_0-pi_0-ac1_0-ac2",
          "R1 Structures: Frequency and Overall Score for taklons/ts/ 3-m_1-ts_0-lab_0-pi_0-ac1_0-ac2",
          "R1 Structures: Frequency and Overall Score for taklons/lab/ 3-m_1-ts_1-lab_0-pi_0-ac1_0-ac2",
          "R1 Structures: Frequency and Overall Score for taklons/ac2/ 4-m_0-ts_0-lab_0-pi_0-ac1_1-ac2",
          "R1 Structures: Frequency and Overall Score for taklons/ac1/ 4-m_0-ts_0-lab_0-pi_1-ac1_0-ac2",
          "R1 Structures: Frequency and Overall Score for taklons/PI/ 4-m_0-ts_0-lab_1-pi_0-ac1_0-ac2",
          "R1 Structures: Frequency and Overall Score for taklons/lab/ 4-m_0-ts_1-lab_0-pi_0-ac1_0-ac2",
          "R1 Structures: Frequency and Overall Score for taklons/lab/ 4-m_0-ts_2-lab_0-pi_0-ac1_0-ac2",
          "R1 Structures: Frequency and Overall Score for taklons/lab/ 4-m_1-ts_1-lab_0-pi_0-ac1_0-ac2",
          "R1 Structures: Frequency and Overall Score for taklons/ac1/ 5-m_0-ts_0-lab_0-pi_1-ac1_0-ac2",
          "R1 Structures: Frequency and Overall Score for taklons/lab/ 5-m_0-ts_1-lab_0-pi_0-ac1_0-ac2",
          "R1 Structures: Frequency and Overall Score for taklons/lab/ 6-m_0-ts_1-lab_0-pi_0-ac1_0-ac2",
          "R1 Structures: Frequency and Overall Score for taklons/m/ 7-m_0-ts_0-lab_0-pi_0-ac1_0-ac2",
          "R1 Structures: Frequency and Overall Score for taklons/lab/ 7-m_0-ts_1-lab_0-pi_0-ac1_0-ac2",
          "R1 Structures: Frequency and Overall Score for taklons/PI",
          "R1 Structures: Frequency and Overall Score for taklons/ac1",
          "R1 Structures: Frequency and Overall Score for taklons/ac2",
          "R1 Structures: Frequency and Overall Score for taklons/lab",
          "R1 Structures: Frequency and Overall Score for taklons/m",
          "R1 Structures: Frequency and Overall Score for taklons/ts",
          "R1 Structures: Frequency and Overall Score for taklons"
         ],
         "labels": [
          " 0-m_0-ts_1-lab_1-pi_0-ac1_0-ac2",
          " 0-m_0-ts_2-lab_0-pi_0-ac1_0-ac2",
          " 0-m_1-ts_0-lab_0-pi_1-ac1_0-ac2",
          " 0-m_1-ts_1-lab_0-pi_0-ac1_0-ac2",
          " 0-m_2-ts_1-lab_0-pi_0-ac1_0-ac2",
          " 1-m_0-ts_0-lab_0-pi_0-ac1_1-ac2",
          " 1-m_0-ts_0-lab_0-pi_1-ac1_0-ac2",
          " 1-m_0-ts_1-lab_0-pi_0-ac1_0-ac2",
          " 1-m_0-ts_1-lab_1-pi_0-ac1_0-ac2",
          " 1-m_0-ts_2-lab_0-pi_0-ac1_0-ac2",
          " 1-m_1-ts_0-lab_0-pi_1-ac1_0-ac2",
          " 1-m_1-ts_1-lab_0-pi_0-ac1_0-ac2",
          " 1-m_1-ts_2-lab_0-pi_0-ac1_0-ac2",
          " 1-m_2-ts_1-lab_0-pi_0-ac1_0-ac2",
          " 2-m_0-ts_0-lab_0-pi_0-ac1_1-ac2",
          " 2-m_0-ts_0-lab_0-pi_1-ac1_0-ac2",
          " 2-m_0-ts_1-lab_0-pi_0-ac1_0-ac2",
          " 2-m_0-ts_1-lab_1-pi_0-ac1_0-ac2",
          " 2-m_0-ts_2-lab_0-pi_0-ac1_0-ac2",
          " 2-m_1-ts_0-lab_0-pi_0-ac1_1-ac2",
          " 2-m_1-ts_0-lab_0-pi_1-ac1_0-ac2",
          " 2-m_1-ts_0-lab_1-pi_0-ac1_0-ac2",
          " 2-m_1-ts_1-lab_0-pi_0-ac1_0-ac2",
          " 2-m_2-ts_1-lab_0-pi_0-ac1_0-ac2",
          " 3-m_0-ts_0-lab_0-pi_0-ac1_1-ac2",
          " 3-m_0-ts_0-lab_0-pi_1-ac1_0-ac2",
          " 3-m_0-ts_1-lab_0-pi_0-ac1_0-ac2",
          " 3-m_0-ts_2-lab_0-pi_0-ac1_0-ac2",
          " 3-m_1-ts_0-lab_0-pi_0-ac1_0-ac2",
          " 3-m_1-ts_1-lab_0-pi_0-ac1_0-ac2",
          " 4-m_0-ts_0-lab_0-pi_0-ac1_1-ac2",
          " 4-m_0-ts_0-lab_0-pi_1-ac1_0-ac2",
          " 4-m_0-ts_0-lab_1-pi_0-ac1_0-ac2",
          " 4-m_0-ts_1-lab_0-pi_0-ac1_0-ac2",
          " 4-m_0-ts_2-lab_0-pi_0-ac1_0-ac2",
          " 4-m_1-ts_1-lab_0-pi_0-ac1_0-ac2",
          " 5-m_0-ts_0-lab_0-pi_1-ac1_0-ac2",
          " 5-m_0-ts_1-lab_0-pi_0-ac1_0-ac2",
          " 6-m_0-ts_1-lab_0-pi_0-ac1_0-ac2",
          " 7-m_0-ts_0-lab_0-pi_0-ac1_0-ac2",
          " 7-m_0-ts_1-lab_0-pi_0-ac1_0-ac2",
          "PI",
          "ac1",
          "ac2",
          "lab",
          "m",
          "ts",
          "R1 Structures: Frequency and Overall Score for taklons"
         ],
         "marker": {
          "coloraxis": "coloraxis",
          "colors": [
           142.66666666666666,
           169,
           147,
           145.5,
           146.2,
           188.5,
           159.67073170731706,
           141.66666666666666,
           171.33333333333334,
           166.225,
           166.46153846153845,
           144.42857142857142,
           193,
           162.54545454545453,
           148.375,
           167.5871121718377,
           139.3846153846154,
           189,
           168.86,
           163,
           183.3125,
           159,
           156.8308823529412,
           161.33333333333334,
           156.14285714285714,
           170.30434782608697,
           145.40677966101694,
           178.14285714285714,
           133,
           162.73684210526315,
           180,
           176.92592592592592,
           136.5,
           157.4368932038835,
           197.5,
           173.58333333333334,
           190.8,
           168.43478260869566,
           180.0625,
           161,
           191.5,
           160.94117647058823,
           167.83841463414635,
           157.89473684210526,
           158.96351575456052,
           161,
           133,
           163.44410177332304
          ]
         },
         "name": "",
         "parents": [
          "R1 Structures: Frequency and Overall Score for taklons/PI",
          "R1 Structures: Frequency and Overall Score for taklons/lab",
          "R1 Structures: Frequency and Overall Score for taklons/ac1",
          "R1 Structures: Frequency and Overall Score for taklons/lab",
          "R1 Structures: Frequency and Overall Score for taklons/lab",
          "R1 Structures: Frequency and Overall Score for taklons/ac2",
          "R1 Structures: Frequency and Overall Score for taklons/ac1",
          "R1 Structures: Frequency and Overall Score for taklons/lab",
          "R1 Structures: Frequency and Overall Score for taklons/PI",
          "R1 Structures: Frequency and Overall Score for taklons/lab",
          "R1 Structures: Frequency and Overall Score for taklons/ac1",
          "R1 Structures: Frequency and Overall Score for taklons/lab",
          "R1 Structures: Frequency and Overall Score for taklons/lab",
          "R1 Structures: Frequency and Overall Score for taklons/lab",
          "R1 Structures: Frequency and Overall Score for taklons/ac2",
          "R1 Structures: Frequency and Overall Score for taklons/ac1",
          "R1 Structures: Frequency and Overall Score for taklons/lab",
          "R1 Structures: Frequency and Overall Score for taklons/PI",
          "R1 Structures: Frequency and Overall Score for taklons/lab",
          "R1 Structures: Frequency and Overall Score for taklons/ac2",
          "R1 Structures: Frequency and Overall Score for taklons/ac1",
          "R1 Structures: Frequency and Overall Score for taklons/PI",
          "R1 Structures: Frequency and Overall Score for taklons/lab",
          "R1 Structures: Frequency and Overall Score for taklons/lab",
          "R1 Structures: Frequency and Overall Score for taklons/ac2",
          "R1 Structures: Frequency and Overall Score for taklons/ac1",
          "R1 Structures: Frequency and Overall Score for taklons/lab",
          "R1 Structures: Frequency and Overall Score for taklons/lab",
          "R1 Structures: Frequency and Overall Score for taklons/ts",
          "R1 Structures: Frequency and Overall Score for taklons/lab",
          "R1 Structures: Frequency and Overall Score for taklons/ac2",
          "R1 Structures: Frequency and Overall Score for taklons/ac1",
          "R1 Structures: Frequency and Overall Score for taklons/PI",
          "R1 Structures: Frequency and Overall Score for taklons/lab",
          "R1 Structures: Frequency and Overall Score for taklons/lab",
          "R1 Structures: Frequency and Overall Score for taklons/lab",
          "R1 Structures: Frequency and Overall Score for taklons/ac1",
          "R1 Structures: Frequency and Overall Score for taklons/lab",
          "R1 Structures: Frequency and Overall Score for taklons/lab",
          "R1 Structures: Frequency and Overall Score for taklons/m",
          "R1 Structures: Frequency and Overall Score for taklons/lab",
          "R1 Structures: Frequency and Overall Score for taklons",
          "R1 Structures: Frequency and Overall Score for taklons",
          "R1 Structures: Frequency and Overall Score for taklons",
          "R1 Structures: Frequency and Overall Score for taklons",
          "R1 Structures: Frequency and Overall Score for taklons",
          "R1 Structures: Frequency and Overall Score for taklons",
          ""
         ],
         "type": "treemap",
         "values": [
          3,
          1,
          2,
          2,
          5,
          2,
          82,
          3,
          3,
          40,
          13,
          21,
          3,
          11,
          8,
          419,
          39,
          3,
          50,
          1,
          16,
          6,
          136,
          3,
          7,
          92,
          59,
          7,
          1,
          19,
          1,
          27,
          2,
          103,
          2,
          12,
          5,
          69,
          16,
          1,
          2,
          17,
          656,
          19,
          603,
          1,
          1,
          1297
         ]
        }
       ],
       "layout": {
        "coloraxis": {
         "cmid": 153.409394703657,
         "colorbar": {
          "title": {
           "text": "ave_score_taklons"
          }
         },
         "colorscale": [
          [
           0,
           "rgb(103,0,31)"
          ],
          [
           0.1,
           "rgb(178,24,43)"
          ],
          [
           0.2,
           "rgb(214,96,77)"
          ],
          [
           0.3,
           "rgb(244,165,130)"
          ],
          [
           0.4,
           "rgb(253,219,199)"
          ],
          [
           0.5,
           "rgb(247,247,247)"
          ],
          [
           0.6,
           "rgb(209,229,240)"
          ],
          [
           0.7,
           "rgb(146,197,222)"
          ],
          [
           0.8,
           "rgb(67,147,195)"
          ],
          [
           0.9,
           "rgb(33,102,172)"
          ],
          [
           1,
           "rgb(5,48,97)"
          ]
         ]
        },
        "legend": {
         "tracegroupgap": 0
        },
        "margin": {
         "b": 25,
         "l": 25,
         "r": 25,
         "t": 50
        },
        "template": {
         "data": {
          "bar": [
           {
            "error_x": {
             "color": "#2a3f5f"
            },
            "error_y": {
             "color": "#2a3f5f"
            },
            "marker": {
             "line": {
              "color": "#E5ECF6",
              "width": 0.5
             },
             "pattern": {
              "fillmode": "overlay",
              "size": 10,
              "solidity": 0.2
             }
            },
            "type": "bar"
           }
          ],
          "barpolar": [
           {
            "marker": {
             "line": {
              "color": "#E5ECF6",
              "width": 0.5
             },
             "pattern": {
              "fillmode": "overlay",
              "size": 10,
              "solidity": 0.2
             }
            },
            "type": "barpolar"
           }
          ],
          "carpet": [
           {
            "aaxis": {
             "endlinecolor": "#2a3f5f",
             "gridcolor": "white",
             "linecolor": "white",
             "minorgridcolor": "white",
             "startlinecolor": "#2a3f5f"
            },
            "baxis": {
             "endlinecolor": "#2a3f5f",
             "gridcolor": "white",
             "linecolor": "white",
             "minorgridcolor": "white",
             "startlinecolor": "#2a3f5f"
            },
            "type": "carpet"
           }
          ],
          "choropleth": [
           {
            "colorbar": {
             "outlinewidth": 0,
             "ticks": ""
            },
            "type": "choropleth"
           }
          ],
          "contour": [
           {
            "colorbar": {
             "outlinewidth": 0,
             "ticks": ""
            },
            "colorscale": [
             [
              0,
              "#0d0887"
             ],
             [
              0.1111111111111111,
              "#46039f"
             ],
             [
              0.2222222222222222,
              "#7201a8"
             ],
             [
              0.3333333333333333,
              "#9c179e"
             ],
             [
              0.4444444444444444,
              "#bd3786"
             ],
             [
              0.5555555555555556,
              "#d8576b"
             ],
             [
              0.6666666666666666,
              "#ed7953"
             ],
             [
              0.7777777777777778,
              "#fb9f3a"
             ],
             [
              0.8888888888888888,
              "#fdca26"
             ],
             [
              1,
              "#f0f921"
             ]
            ],
            "type": "contour"
           }
          ],
          "contourcarpet": [
           {
            "colorbar": {
             "outlinewidth": 0,
             "ticks": ""
            },
            "type": "contourcarpet"
           }
          ],
          "heatmap": [
           {
            "colorbar": {
             "outlinewidth": 0,
             "ticks": ""
            },
            "colorscale": [
             [
              0,
              "#0d0887"
             ],
             [
              0.1111111111111111,
              "#46039f"
             ],
             [
              0.2222222222222222,
              "#7201a8"
             ],
             [
              0.3333333333333333,
              "#9c179e"
             ],
             [
              0.4444444444444444,
              "#bd3786"
             ],
             [
              0.5555555555555556,
              "#d8576b"
             ],
             [
              0.6666666666666666,
              "#ed7953"
             ],
             [
              0.7777777777777778,
              "#fb9f3a"
             ],
             [
              0.8888888888888888,
              "#fdca26"
             ],
             [
              1,
              "#f0f921"
             ]
            ],
            "type": "heatmap"
           }
          ],
          "heatmapgl": [
           {
            "colorbar": {
             "outlinewidth": 0,
             "ticks": ""
            },
            "colorscale": [
             [
              0,
              "#0d0887"
             ],
             [
              0.1111111111111111,
              "#46039f"
             ],
             [
              0.2222222222222222,
              "#7201a8"
             ],
             [
              0.3333333333333333,
              "#9c179e"
             ],
             [
              0.4444444444444444,
              "#bd3786"
             ],
             [
              0.5555555555555556,
              "#d8576b"
             ],
             [
              0.6666666666666666,
              "#ed7953"
             ],
             [
              0.7777777777777778,
              "#fb9f3a"
             ],
             [
              0.8888888888888888,
              "#fdca26"
             ],
             [
              1,
              "#f0f921"
             ]
            ],
            "type": "heatmapgl"
           }
          ],
          "histogram": [
           {
            "marker": {
             "pattern": {
              "fillmode": "overlay",
              "size": 10,
              "solidity": 0.2
             }
            },
            "type": "histogram"
           }
          ],
          "histogram2d": [
           {
            "colorbar": {
             "outlinewidth": 0,
             "ticks": ""
            },
            "colorscale": [
             [
              0,
              "#0d0887"
             ],
             [
              0.1111111111111111,
              "#46039f"
             ],
             [
              0.2222222222222222,
              "#7201a8"
             ],
             [
              0.3333333333333333,
              "#9c179e"
             ],
             [
              0.4444444444444444,
              "#bd3786"
             ],
             [
              0.5555555555555556,
              "#d8576b"
             ],
             [
              0.6666666666666666,
              "#ed7953"
             ],
             [
              0.7777777777777778,
              "#fb9f3a"
             ],
             [
              0.8888888888888888,
              "#fdca26"
             ],
             [
              1,
              "#f0f921"
             ]
            ],
            "type": "histogram2d"
           }
          ],
          "histogram2dcontour": [
           {
            "colorbar": {
             "outlinewidth": 0,
             "ticks": ""
            },
            "colorscale": [
             [
              0,
              "#0d0887"
             ],
             [
              0.1111111111111111,
              "#46039f"
             ],
             [
              0.2222222222222222,
              "#7201a8"
             ],
             [
              0.3333333333333333,
              "#9c179e"
             ],
             [
              0.4444444444444444,
              "#bd3786"
             ],
             [
              0.5555555555555556,
              "#d8576b"
             ],
             [
              0.6666666666666666,
              "#ed7953"
             ],
             [
              0.7777777777777778,
              "#fb9f3a"
             ],
             [
              0.8888888888888888,
              "#fdca26"
             ],
             [
              1,
              "#f0f921"
             ]
            ],
            "type": "histogram2dcontour"
           }
          ],
          "mesh3d": [
           {
            "colorbar": {
             "outlinewidth": 0,
             "ticks": ""
            },
            "type": "mesh3d"
           }
          ],
          "parcoords": [
           {
            "line": {
             "colorbar": {
              "outlinewidth": 0,
              "ticks": ""
             }
            },
            "type": "parcoords"
           }
          ],
          "pie": [
           {
            "automargin": true,
            "type": "pie"
           }
          ],
          "scatter": [
           {
            "marker": {
             "colorbar": {
              "outlinewidth": 0,
              "ticks": ""
             }
            },
            "type": "scatter"
           }
          ],
          "scatter3d": [
           {
            "line": {
             "colorbar": {
              "outlinewidth": 0,
              "ticks": ""
             }
            },
            "marker": {
             "colorbar": {
              "outlinewidth": 0,
              "ticks": ""
             }
            },
            "type": "scatter3d"
           }
          ],
          "scattercarpet": [
           {
            "marker": {
             "colorbar": {
              "outlinewidth": 0,
              "ticks": ""
             }
            },
            "type": "scattercarpet"
           }
          ],
          "scattergeo": [
           {
            "marker": {
             "colorbar": {
              "outlinewidth": 0,
              "ticks": ""
             }
            },
            "type": "scattergeo"
           }
          ],
          "scattergl": [
           {
            "marker": {
             "colorbar": {
              "outlinewidth": 0,
              "ticks": ""
             }
            },
            "type": "scattergl"
           }
          ],
          "scattermapbox": [
           {
            "marker": {
             "colorbar": {
              "outlinewidth": 0,
              "ticks": ""
             }
            },
            "type": "scattermapbox"
           }
          ],
          "scatterpolar": [
           {
            "marker": {
             "colorbar": {
              "outlinewidth": 0,
              "ticks": ""
             }
            },
            "type": "scatterpolar"
           }
          ],
          "scatterpolargl": [
           {
            "marker": {
             "colorbar": {
              "outlinewidth": 0,
              "ticks": ""
             }
            },
            "type": "scatterpolargl"
           }
          ],
          "scatterternary": [
           {
            "marker": {
             "colorbar": {
              "outlinewidth": 0,
              "ticks": ""
             }
            },
            "type": "scatterternary"
           }
          ],
          "surface": [
           {
            "colorbar": {
             "outlinewidth": 0,
             "ticks": ""
            },
            "colorscale": [
             [
              0,
              "#0d0887"
             ],
             [
              0.1111111111111111,
              "#46039f"
             ],
             [
              0.2222222222222222,
              "#7201a8"
             ],
             [
              0.3333333333333333,
              "#9c179e"
             ],
             [
              0.4444444444444444,
              "#bd3786"
             ],
             [
              0.5555555555555556,
              "#d8576b"
             ],
             [
              0.6666666666666666,
              "#ed7953"
             ],
             [
              0.7777777777777778,
              "#fb9f3a"
             ],
             [
              0.8888888888888888,
              "#fdca26"
             ],
             [
              1,
              "#f0f921"
             ]
            ],
            "type": "surface"
           }
          ],
          "table": [
           {
            "cells": {
             "fill": {
              "color": "#EBF0F8"
             },
             "line": {
              "color": "white"
             }
            },
            "header": {
             "fill": {
              "color": "#C8D4E3"
             },
             "line": {
              "color": "white"
             }
            },
            "type": "table"
           }
          ]
         },
         "layout": {
          "annotationdefaults": {
           "arrowcolor": "#2a3f5f",
           "arrowhead": 0,
           "arrowwidth": 1
          },
          "autotypenumbers": "strict",
          "coloraxis": {
           "colorbar": {
            "outlinewidth": 0,
            "ticks": ""
           }
          },
          "colorscale": {
           "diverging": [
            [
             0,
             "#8e0152"
            ],
            [
             0.1,
             "#c51b7d"
            ],
            [
             0.2,
             "#de77ae"
            ],
            [
             0.3,
             "#f1b6da"
            ],
            [
             0.4,
             "#fde0ef"
            ],
            [
             0.5,
             "#f7f7f7"
            ],
            [
             0.6,
             "#e6f5d0"
            ],
            [
             0.7,
             "#b8e186"
            ],
            [
             0.8,
             "#7fbc41"
            ],
            [
             0.9,
             "#4d9221"
            ],
            [
             1,
             "#276419"
            ]
           ],
           "sequential": [
            [
             0,
             "#0d0887"
            ],
            [
             0.1111111111111111,
             "#46039f"
            ],
            [
             0.2222222222222222,
             "#7201a8"
            ],
            [
             0.3333333333333333,
             "#9c179e"
            ],
            [
             0.4444444444444444,
             "#bd3786"
            ],
            [
             0.5555555555555556,
             "#d8576b"
            ],
            [
             0.6666666666666666,
             "#ed7953"
            ],
            [
             0.7777777777777778,
             "#fb9f3a"
            ],
            [
             0.8888888888888888,
             "#fdca26"
            ],
            [
             1,
             "#f0f921"
            ]
           ],
           "sequentialminus": [
            [
             0,
             "#0d0887"
            ],
            [
             0.1111111111111111,
             "#46039f"
            ],
            [
             0.2222222222222222,
             "#7201a8"
            ],
            [
             0.3333333333333333,
             "#9c179e"
            ],
            [
             0.4444444444444444,
             "#bd3786"
            ],
            [
             0.5555555555555556,
             "#d8576b"
            ],
            [
             0.6666666666666666,
             "#ed7953"
            ],
            [
             0.7777777777777778,
             "#fb9f3a"
            ],
            [
             0.8888888888888888,
             "#fdca26"
            ],
            [
             1,
             "#f0f921"
            ]
           ]
          },
          "colorway": [
           "#636efa",
           "#EF553B",
           "#00cc96",
           "#ab63fa",
           "#FFA15A",
           "#19d3f3",
           "#FF6692",
           "#B6E880",
           "#FF97FF",
           "#FECB52"
          ],
          "font": {
           "color": "#2a3f5f"
          },
          "geo": {
           "bgcolor": "white",
           "lakecolor": "white",
           "landcolor": "#E5ECF6",
           "showlakes": true,
           "showland": true,
           "subunitcolor": "white"
          },
          "hoverlabel": {
           "align": "left"
          },
          "hovermode": "closest",
          "mapbox": {
           "style": "light"
          },
          "paper_bgcolor": "white",
          "plot_bgcolor": "#E5ECF6",
          "polar": {
           "angularaxis": {
            "gridcolor": "white",
            "linecolor": "white",
            "ticks": ""
           },
           "bgcolor": "#E5ECF6",
           "radialaxis": {
            "gridcolor": "white",
            "linecolor": "white",
            "ticks": ""
           }
          },
          "scene": {
           "xaxis": {
            "backgroundcolor": "#E5ECF6",
            "gridcolor": "white",
            "gridwidth": 2,
            "linecolor": "white",
            "showbackground": true,
            "ticks": "",
            "zerolinecolor": "white"
           },
           "yaxis": {
            "backgroundcolor": "#E5ECF6",
            "gridcolor": "white",
            "gridwidth": 2,
            "linecolor": "white",
            "showbackground": true,
            "ticks": "",
            "zerolinecolor": "white"
           },
           "zaxis": {
            "backgroundcolor": "#E5ECF6",
            "gridcolor": "white",
            "gridwidth": 2,
            "linecolor": "white",
            "showbackground": true,
            "ticks": "",
            "zerolinecolor": "white"
           }
          },
          "shapedefaults": {
           "line": {
            "color": "#2a3f5f"
           }
          },
          "ternary": {
           "aaxis": {
            "gridcolor": "white",
            "linecolor": "white",
            "ticks": ""
           },
           "baxis": {
            "gridcolor": "white",
            "linecolor": "white",
            "ticks": ""
           },
           "bgcolor": "#E5ECF6",
           "caxis": {
            "gridcolor": "white",
            "linecolor": "white",
            "ticks": ""
           }
          },
          "title": {
           "x": 0.05
          },
          "xaxis": {
           "automargin": true,
           "gridcolor": "white",
           "linecolor": "white",
           "ticks": "",
           "title": {
            "standoff": 15
           },
           "zerolinecolor": "white",
           "zerolinewidth": 2
          },
          "yaxis": {
           "automargin": true,
           "gridcolor": "white",
           "linecolor": "white",
           "ticks": "",
           "title": {
            "standoff": 15
           },
           "zerolinecolor": "white",
           "zerolinewidth": 2
          }
         }
        },
        "title": {
         "text": "R1 Structures: Frequency and Impact on Score Relative to All Factions Average (153.41): taklons"
        }
       }
      },
      "text/html": [
       "<div>                            <div id=\"6a671be9-7a2d-4cb5-b2fd-19d618699c2f\" class=\"plotly-graph-div\" style=\"height:525px; width:100%;\"></div>            <script type=\"text/javascript\">                require([\"plotly\"], function(Plotly) {                    window.PLOTLYENV=window.PLOTLYENV || {};                                    if (document.getElementById(\"6a671be9-7a2d-4cb5-b2fd-19d618699c2f\")) {                    Plotly.newPlot(                        \"6a671be9-7a2d-4cb5-b2fd-19d618699c2f\",                        [{\"branchvalues\":\"total\",\"customdata\":[[240.0,142.66666666666666],[242.0,169.0],[169.5,147.0],[117.5,145.5],[209.6,146.2],[121.0,188.5],[243.5609756097561,159.67073170731706],[135.33333333333334,141.66666666666666],[226.66666666666666,171.33333333333334],[291.75,166.225],[262.15384615384613,166.46153846153845],[225.57142857142858,144.42857142857142],[246.0,193.0],[196.9090909090909,162.54545454545453],[281.5,148.375],[260.83054892601433,167.5871121718377],[174.89743589743588,139.3846153846154],[173.66666666666666,189.0],[293.78,168.86],[310.0,163.0],[288.875,183.3125],[94.16666666666667,159.0],[211.66176470588235,156.8308823529412],[271.3333333333333,161.33333333333334],[163.14285714285714,156.14285714285714],[278.42391304347825,170.30434782608697],[176.135593220339,145.40677966101694],[274.85714285714283,178.14285714285714],[239.0,133.0],[220.6315789473684,162.73684210526315],[118.0,180.0],[265.4074074074074,176.92592592592592],[216.5,136.5],[218.37864077669903,157.4368932038835],[367.5,197.5],[279.25,173.58333333333334],[314.0,190.8],[231.3913043478261,168.43478260869566],[280.5,180.0625],[1.0,161.0],[317.5,191.5],[\"(?)\",160.94117647058823],[\"(?)\",167.83841463414635],[\"(?)\",157.89473684210526],[\"(?)\",158.96351575456052],[1.0,161.0],[239.0,133.0],[\"(?)\",163.44410177332304]],\"domain\":{\"x\":[0.0,1.0],\"y\":[0.0,1.0]},\"hovertemplate\":\"labels=%{label}<br>class_counts=%{value}<br>parent=%{parent}<br>id=%{id}<br>ave_elo_taklons=%{customdata[0]}<br>ave_score_taklons=%{color}<extra></extra>\",\"ids\":[\"R1 Structures: Frequency and Overall Score for taklons/PI/ 0-m_0-ts_1-lab_1-pi_0-ac1_0-ac2\",\"R1 Structures: Frequency and Overall Score for taklons/lab/ 0-m_0-ts_2-lab_0-pi_0-ac1_0-ac2\",\"R1 Structures: Frequency and Overall Score for taklons/ac1/ 0-m_1-ts_0-lab_0-pi_1-ac1_0-ac2\",\"R1 Structures: Frequency and Overall Score for taklons/lab/ 0-m_1-ts_1-lab_0-pi_0-ac1_0-ac2\",\"R1 Structures: Frequency and Overall Score for taklons/lab/ 0-m_2-ts_1-lab_0-pi_0-ac1_0-ac2\",\"R1 Structures: Frequency and Overall Score for taklons/ac2/ 1-m_0-ts_0-lab_0-pi_0-ac1_1-ac2\",\"R1 Structures: Frequency and Overall Score for taklons/ac1/ 1-m_0-ts_0-lab_0-pi_1-ac1_0-ac2\",\"R1 Structures: Frequency and Overall Score for taklons/lab/ 1-m_0-ts_1-lab_0-pi_0-ac1_0-ac2\",\"R1 Structures: Frequency and Overall Score for taklons/PI/ 1-m_0-ts_1-lab_1-pi_0-ac1_0-ac2\",\"R1 Structures: Frequency and Overall Score for taklons/lab/ 1-m_0-ts_2-lab_0-pi_0-ac1_0-ac2\",\"R1 Structures: Frequency and Overall Score for taklons/ac1/ 1-m_1-ts_0-lab_0-pi_1-ac1_0-ac2\",\"R1 Structures: Frequency and Overall Score for taklons/lab/ 1-m_1-ts_1-lab_0-pi_0-ac1_0-ac2\",\"R1 Structures: Frequency and Overall Score for taklons/lab/ 1-m_1-ts_2-lab_0-pi_0-ac1_0-ac2\",\"R1 Structures: Frequency and Overall Score for taklons/lab/ 1-m_2-ts_1-lab_0-pi_0-ac1_0-ac2\",\"R1 Structures: Frequency and Overall Score for taklons/ac2/ 2-m_0-ts_0-lab_0-pi_0-ac1_1-ac2\",\"R1 Structures: Frequency and Overall Score for taklons/ac1/ 2-m_0-ts_0-lab_0-pi_1-ac1_0-ac2\",\"R1 Structures: Frequency and Overall Score for taklons/lab/ 2-m_0-ts_1-lab_0-pi_0-ac1_0-ac2\",\"R1 Structures: Frequency and Overall Score for taklons/PI/ 2-m_0-ts_1-lab_1-pi_0-ac1_0-ac2\",\"R1 Structures: Frequency and Overall Score for taklons/lab/ 2-m_0-ts_2-lab_0-pi_0-ac1_0-ac2\",\"R1 Structures: Frequency and Overall Score for taklons/ac2/ 2-m_1-ts_0-lab_0-pi_0-ac1_1-ac2\",\"R1 Structures: Frequency and Overall Score for taklons/ac1/ 2-m_1-ts_0-lab_0-pi_1-ac1_0-ac2\",\"R1 Structures: Frequency and Overall Score for taklons/PI/ 2-m_1-ts_0-lab_1-pi_0-ac1_0-ac2\",\"R1 Structures: Frequency and Overall Score for taklons/lab/ 2-m_1-ts_1-lab_0-pi_0-ac1_0-ac2\",\"R1 Structures: Frequency and Overall Score for taklons/lab/ 2-m_2-ts_1-lab_0-pi_0-ac1_0-ac2\",\"R1 Structures: Frequency and Overall Score for taklons/ac2/ 3-m_0-ts_0-lab_0-pi_0-ac1_1-ac2\",\"R1 Structures: Frequency and Overall Score for taklons/ac1/ 3-m_0-ts_0-lab_0-pi_1-ac1_0-ac2\",\"R1 Structures: Frequency and Overall Score for taklons/lab/ 3-m_0-ts_1-lab_0-pi_0-ac1_0-ac2\",\"R1 Structures: Frequency and Overall Score for taklons/lab/ 3-m_0-ts_2-lab_0-pi_0-ac1_0-ac2\",\"R1 Structures: Frequency and Overall Score for taklons/ts/ 3-m_1-ts_0-lab_0-pi_0-ac1_0-ac2\",\"R1 Structures: Frequency and Overall Score for taklons/lab/ 3-m_1-ts_1-lab_0-pi_0-ac1_0-ac2\",\"R1 Structures: Frequency and Overall Score for taklons/ac2/ 4-m_0-ts_0-lab_0-pi_0-ac1_1-ac2\",\"R1 Structures: Frequency and Overall Score for taklons/ac1/ 4-m_0-ts_0-lab_0-pi_1-ac1_0-ac2\",\"R1 Structures: Frequency and Overall Score for taklons/PI/ 4-m_0-ts_0-lab_1-pi_0-ac1_0-ac2\",\"R1 Structures: Frequency and Overall Score for taklons/lab/ 4-m_0-ts_1-lab_0-pi_0-ac1_0-ac2\",\"R1 Structures: Frequency and Overall Score for taklons/lab/ 4-m_0-ts_2-lab_0-pi_0-ac1_0-ac2\",\"R1 Structures: Frequency and Overall Score for taklons/lab/ 4-m_1-ts_1-lab_0-pi_0-ac1_0-ac2\",\"R1 Structures: Frequency and Overall Score for taklons/ac1/ 5-m_0-ts_0-lab_0-pi_1-ac1_0-ac2\",\"R1 Structures: Frequency and Overall Score for taklons/lab/ 5-m_0-ts_1-lab_0-pi_0-ac1_0-ac2\",\"R1 Structures: Frequency and Overall Score for taklons/lab/ 6-m_0-ts_1-lab_0-pi_0-ac1_0-ac2\",\"R1 Structures: Frequency and Overall Score for taklons/m/ 7-m_0-ts_0-lab_0-pi_0-ac1_0-ac2\",\"R1 Structures: Frequency and Overall Score for taklons/lab/ 7-m_0-ts_1-lab_0-pi_0-ac1_0-ac2\",\"R1 Structures: Frequency and Overall Score for taklons/PI\",\"R1 Structures: Frequency and Overall Score for taklons/ac1\",\"R1 Structures: Frequency and Overall Score for taklons/ac2\",\"R1 Structures: Frequency and Overall Score for taklons/lab\",\"R1 Structures: Frequency and Overall Score for taklons/m\",\"R1 Structures: Frequency and Overall Score for taklons/ts\",\"R1 Structures: Frequency and Overall Score for taklons\"],\"labels\":[\" 0-m_0-ts_1-lab_1-pi_0-ac1_0-ac2\",\" 0-m_0-ts_2-lab_0-pi_0-ac1_0-ac2\",\" 0-m_1-ts_0-lab_0-pi_1-ac1_0-ac2\",\" 0-m_1-ts_1-lab_0-pi_0-ac1_0-ac2\",\" 0-m_2-ts_1-lab_0-pi_0-ac1_0-ac2\",\" 1-m_0-ts_0-lab_0-pi_0-ac1_1-ac2\",\" 1-m_0-ts_0-lab_0-pi_1-ac1_0-ac2\",\" 1-m_0-ts_1-lab_0-pi_0-ac1_0-ac2\",\" 1-m_0-ts_1-lab_1-pi_0-ac1_0-ac2\",\" 1-m_0-ts_2-lab_0-pi_0-ac1_0-ac2\",\" 1-m_1-ts_0-lab_0-pi_1-ac1_0-ac2\",\" 1-m_1-ts_1-lab_0-pi_0-ac1_0-ac2\",\" 1-m_1-ts_2-lab_0-pi_0-ac1_0-ac2\",\" 1-m_2-ts_1-lab_0-pi_0-ac1_0-ac2\",\" 2-m_0-ts_0-lab_0-pi_0-ac1_1-ac2\",\" 2-m_0-ts_0-lab_0-pi_1-ac1_0-ac2\",\" 2-m_0-ts_1-lab_0-pi_0-ac1_0-ac2\",\" 2-m_0-ts_1-lab_1-pi_0-ac1_0-ac2\",\" 2-m_0-ts_2-lab_0-pi_0-ac1_0-ac2\",\" 2-m_1-ts_0-lab_0-pi_0-ac1_1-ac2\",\" 2-m_1-ts_0-lab_0-pi_1-ac1_0-ac2\",\" 2-m_1-ts_0-lab_1-pi_0-ac1_0-ac2\",\" 2-m_1-ts_1-lab_0-pi_0-ac1_0-ac2\",\" 2-m_2-ts_1-lab_0-pi_0-ac1_0-ac2\",\" 3-m_0-ts_0-lab_0-pi_0-ac1_1-ac2\",\" 3-m_0-ts_0-lab_0-pi_1-ac1_0-ac2\",\" 3-m_0-ts_1-lab_0-pi_0-ac1_0-ac2\",\" 3-m_0-ts_2-lab_0-pi_0-ac1_0-ac2\",\" 3-m_1-ts_0-lab_0-pi_0-ac1_0-ac2\",\" 3-m_1-ts_1-lab_0-pi_0-ac1_0-ac2\",\" 4-m_0-ts_0-lab_0-pi_0-ac1_1-ac2\",\" 4-m_0-ts_0-lab_0-pi_1-ac1_0-ac2\",\" 4-m_0-ts_0-lab_1-pi_0-ac1_0-ac2\",\" 4-m_0-ts_1-lab_0-pi_0-ac1_0-ac2\",\" 4-m_0-ts_2-lab_0-pi_0-ac1_0-ac2\",\" 4-m_1-ts_1-lab_0-pi_0-ac1_0-ac2\",\" 5-m_0-ts_0-lab_0-pi_1-ac1_0-ac2\",\" 5-m_0-ts_1-lab_0-pi_0-ac1_0-ac2\",\" 6-m_0-ts_1-lab_0-pi_0-ac1_0-ac2\",\" 7-m_0-ts_0-lab_0-pi_0-ac1_0-ac2\",\" 7-m_0-ts_1-lab_0-pi_0-ac1_0-ac2\",\"PI\",\"ac1\",\"ac2\",\"lab\",\"m\",\"ts\",\"R1 Structures: Frequency and Overall Score for taklons\"],\"marker\":{\"coloraxis\":\"coloraxis\",\"colors\":[142.66666666666666,169.0,147.0,145.5,146.2,188.5,159.67073170731706,141.66666666666666,171.33333333333334,166.225,166.46153846153845,144.42857142857142,193.0,162.54545454545453,148.375,167.5871121718377,139.3846153846154,189.0,168.86,163.0,183.3125,159.0,156.8308823529412,161.33333333333334,156.14285714285714,170.30434782608697,145.40677966101694,178.14285714285714,133.0,162.73684210526315,180.0,176.92592592592592,136.5,157.4368932038835,197.5,173.58333333333334,190.8,168.43478260869566,180.0625,161.0,191.5,160.94117647058823,167.83841463414635,157.89473684210526,158.96351575456052,161.0,133.0,163.44410177332304]},\"name\":\"\",\"parents\":[\"R1 Structures: Frequency and Overall Score for taklons/PI\",\"R1 Structures: Frequency and Overall Score for taklons/lab\",\"R1 Structures: Frequency and Overall Score for taklons/ac1\",\"R1 Structures: Frequency and Overall Score for taklons/lab\",\"R1 Structures: Frequency and Overall Score for taklons/lab\",\"R1 Structures: Frequency and Overall Score for taklons/ac2\",\"R1 Structures: Frequency and Overall Score for taklons/ac1\",\"R1 Structures: Frequency and Overall Score for taklons/lab\",\"R1 Structures: Frequency and Overall Score for taklons/PI\",\"R1 Structures: Frequency and Overall Score for taklons/lab\",\"R1 Structures: Frequency and Overall Score for taklons/ac1\",\"R1 Structures: Frequency and Overall Score for taklons/lab\",\"R1 Structures: Frequency and Overall Score for taklons/lab\",\"R1 Structures: Frequency and Overall Score for taklons/lab\",\"R1 Structures: Frequency and Overall Score for taklons/ac2\",\"R1 Structures: Frequency and Overall Score for taklons/ac1\",\"R1 Structures: Frequency and Overall Score for taklons/lab\",\"R1 Structures: Frequency and Overall Score for taklons/PI\",\"R1 Structures: Frequency and Overall Score for taklons/lab\",\"R1 Structures: Frequency and Overall Score for taklons/ac2\",\"R1 Structures: Frequency and Overall Score for taklons/ac1\",\"R1 Structures: Frequency and Overall Score for taklons/PI\",\"R1 Structures: Frequency and Overall Score for taklons/lab\",\"R1 Structures: Frequency and Overall Score for taklons/lab\",\"R1 Structures: Frequency and Overall Score for taklons/ac2\",\"R1 Structures: Frequency and Overall Score for taklons/ac1\",\"R1 Structures: Frequency and Overall Score for taklons/lab\",\"R1 Structures: Frequency and Overall Score for taklons/lab\",\"R1 Structures: Frequency and Overall Score for taklons/ts\",\"R1 Structures: Frequency and Overall Score for taklons/lab\",\"R1 Structures: Frequency and Overall Score for taklons/ac2\",\"R1 Structures: Frequency and Overall Score for taklons/ac1\",\"R1 Structures: Frequency and Overall Score for taklons/PI\",\"R1 Structures: Frequency and Overall Score for taklons/lab\",\"R1 Structures: Frequency and Overall Score for taklons/lab\",\"R1 Structures: Frequency and Overall Score for taklons/lab\",\"R1 Structures: Frequency and Overall Score for taklons/ac1\",\"R1 Structures: Frequency and Overall Score for taklons/lab\",\"R1 Structures: Frequency and Overall Score for taklons/lab\",\"R1 Structures: Frequency and Overall Score for taklons/m\",\"R1 Structures: Frequency and Overall Score for taklons/lab\",\"R1 Structures: Frequency and Overall Score for taklons\",\"R1 Structures: Frequency and Overall Score for taklons\",\"R1 Structures: Frequency and Overall Score for taklons\",\"R1 Structures: Frequency and Overall Score for taklons\",\"R1 Structures: Frequency and Overall Score for taklons\",\"R1 Structures: Frequency and Overall Score for taklons\",\"\"],\"values\":[3,1,2,2,5,2,82,3,3,40,13,21,3,11,8,419,39,3,50,1,16,6,136,3,7,92,59,7,1,19,1,27,2,103,2,12,5,69,16,1,2,17,656,19,603,1,1,1297],\"type\":\"treemap\"}],                        {\"template\":{\"data\":{\"bar\":[{\"error_x\":{\"color\":\"#2a3f5f\"},\"error_y\":{\"color\":\"#2a3f5f\"},\"marker\":{\"line\":{\"color\":\"#E5ECF6\",\"width\":0.5},\"pattern\":{\"fillmode\":\"overlay\",\"size\":10,\"solidity\":0.2}},\"type\":\"bar\"}],\"barpolar\":[{\"marker\":{\"line\":{\"color\":\"#E5ECF6\",\"width\":0.5},\"pattern\":{\"fillmode\":\"overlay\",\"size\":10,\"solidity\":0.2}},\"type\":\"barpolar\"}],\"carpet\":[{\"aaxis\":{\"endlinecolor\":\"#2a3f5f\",\"gridcolor\":\"white\",\"linecolor\":\"white\",\"minorgridcolor\":\"white\",\"startlinecolor\":\"#2a3f5f\"},\"baxis\":{\"endlinecolor\":\"#2a3f5f\",\"gridcolor\":\"white\",\"linecolor\":\"white\",\"minorgridcolor\":\"white\",\"startlinecolor\":\"#2a3f5f\"},\"type\":\"carpet\"}],\"choropleth\":[{\"colorbar\":{\"outlinewidth\":0,\"ticks\":\"\"},\"type\":\"choropleth\"}],\"contour\":[{\"colorbar\":{\"outlinewidth\":0,\"ticks\":\"\"},\"colorscale\":[[0.0,\"#0d0887\"],[0.1111111111111111,\"#46039f\"],[0.2222222222222222,\"#7201a8\"],[0.3333333333333333,\"#9c179e\"],[0.4444444444444444,\"#bd3786\"],[0.5555555555555556,\"#d8576b\"],[0.6666666666666666,\"#ed7953\"],[0.7777777777777778,\"#fb9f3a\"],[0.8888888888888888,\"#fdca26\"],[1.0,\"#f0f921\"]],\"type\":\"contour\"}],\"contourcarpet\":[{\"colorbar\":{\"outlinewidth\":0,\"ticks\":\"\"},\"type\":\"contourcarpet\"}],\"heatmap\":[{\"colorbar\":{\"outlinewidth\":0,\"ticks\":\"\"},\"colorscale\":[[0.0,\"#0d0887\"],[0.1111111111111111,\"#46039f\"],[0.2222222222222222,\"#7201a8\"],[0.3333333333333333,\"#9c179e\"],[0.4444444444444444,\"#bd3786\"],[0.5555555555555556,\"#d8576b\"],[0.6666666666666666,\"#ed7953\"],[0.7777777777777778,\"#fb9f3a\"],[0.8888888888888888,\"#fdca26\"],[1.0,\"#f0f921\"]],\"type\":\"heatmap\"}],\"heatmapgl\":[{\"colorbar\":{\"outlinewidth\":0,\"ticks\":\"\"},\"colorscale\":[[0.0,\"#0d0887\"],[0.1111111111111111,\"#46039f\"],[0.2222222222222222,\"#7201a8\"],[0.3333333333333333,\"#9c179e\"],[0.4444444444444444,\"#bd3786\"],[0.5555555555555556,\"#d8576b\"],[0.6666666666666666,\"#ed7953\"],[0.7777777777777778,\"#fb9f3a\"],[0.8888888888888888,\"#fdca26\"],[1.0,\"#f0f921\"]],\"type\":\"heatmapgl\"}],\"histogram\":[{\"marker\":{\"pattern\":{\"fillmode\":\"overlay\",\"size\":10,\"solidity\":0.2}},\"type\":\"histogram\"}],\"histogram2d\":[{\"colorbar\":{\"outlinewidth\":0,\"ticks\":\"\"},\"colorscale\":[[0.0,\"#0d0887\"],[0.1111111111111111,\"#46039f\"],[0.2222222222222222,\"#7201a8\"],[0.3333333333333333,\"#9c179e\"],[0.4444444444444444,\"#bd3786\"],[0.5555555555555556,\"#d8576b\"],[0.6666666666666666,\"#ed7953\"],[0.7777777777777778,\"#fb9f3a\"],[0.8888888888888888,\"#fdca26\"],[1.0,\"#f0f921\"]],\"type\":\"histogram2d\"}],\"histogram2dcontour\":[{\"colorbar\":{\"outlinewidth\":0,\"ticks\":\"\"},\"colorscale\":[[0.0,\"#0d0887\"],[0.1111111111111111,\"#46039f\"],[0.2222222222222222,\"#7201a8\"],[0.3333333333333333,\"#9c179e\"],[0.4444444444444444,\"#bd3786\"],[0.5555555555555556,\"#d8576b\"],[0.6666666666666666,\"#ed7953\"],[0.7777777777777778,\"#fb9f3a\"],[0.8888888888888888,\"#fdca26\"],[1.0,\"#f0f921\"]],\"type\":\"histogram2dcontour\"}],\"mesh3d\":[{\"colorbar\":{\"outlinewidth\":0,\"ticks\":\"\"},\"type\":\"mesh3d\"}],\"parcoords\":[{\"line\":{\"colorbar\":{\"outlinewidth\":0,\"ticks\":\"\"}},\"type\":\"parcoords\"}],\"pie\":[{\"automargin\":true,\"type\":\"pie\"}],\"scatter\":[{\"marker\":{\"colorbar\":{\"outlinewidth\":0,\"ticks\":\"\"}},\"type\":\"scatter\"}],\"scatter3d\":[{\"line\":{\"colorbar\":{\"outlinewidth\":0,\"ticks\":\"\"}},\"marker\":{\"colorbar\":{\"outlinewidth\":0,\"ticks\":\"\"}},\"type\":\"scatter3d\"}],\"scattercarpet\":[{\"marker\":{\"colorbar\":{\"outlinewidth\":0,\"ticks\":\"\"}},\"type\":\"scattercarpet\"}],\"scattergeo\":[{\"marker\":{\"colorbar\":{\"outlinewidth\":0,\"ticks\":\"\"}},\"type\":\"scattergeo\"}],\"scattergl\":[{\"marker\":{\"colorbar\":{\"outlinewidth\":0,\"ticks\":\"\"}},\"type\":\"scattergl\"}],\"scattermapbox\":[{\"marker\":{\"colorbar\":{\"outlinewidth\":0,\"ticks\":\"\"}},\"type\":\"scattermapbox\"}],\"scatterpolar\":[{\"marker\":{\"colorbar\":{\"outlinewidth\":0,\"ticks\":\"\"}},\"type\":\"scatterpolar\"}],\"scatterpolargl\":[{\"marker\":{\"colorbar\":{\"outlinewidth\":0,\"ticks\":\"\"}},\"type\":\"scatterpolargl\"}],\"scatterternary\":[{\"marker\":{\"colorbar\":{\"outlinewidth\":0,\"ticks\":\"\"}},\"type\":\"scatterternary\"}],\"surface\":[{\"colorbar\":{\"outlinewidth\":0,\"ticks\":\"\"},\"colorscale\":[[0.0,\"#0d0887\"],[0.1111111111111111,\"#46039f\"],[0.2222222222222222,\"#7201a8\"],[0.3333333333333333,\"#9c179e\"],[0.4444444444444444,\"#bd3786\"],[0.5555555555555556,\"#d8576b\"],[0.6666666666666666,\"#ed7953\"],[0.7777777777777778,\"#fb9f3a\"],[0.8888888888888888,\"#fdca26\"],[1.0,\"#f0f921\"]],\"type\":\"surface\"}],\"table\":[{\"cells\":{\"fill\":{\"color\":\"#EBF0F8\"},\"line\":{\"color\":\"white\"}},\"header\":{\"fill\":{\"color\":\"#C8D4E3\"},\"line\":{\"color\":\"white\"}},\"type\":\"table\"}]},\"layout\":{\"annotationdefaults\":{\"arrowcolor\":\"#2a3f5f\",\"arrowhead\":0,\"arrowwidth\":1},\"autotypenumbers\":\"strict\",\"coloraxis\":{\"colorbar\":{\"outlinewidth\":0,\"ticks\":\"\"}},\"colorscale\":{\"diverging\":[[0,\"#8e0152\"],[0.1,\"#c51b7d\"],[0.2,\"#de77ae\"],[0.3,\"#f1b6da\"],[0.4,\"#fde0ef\"],[0.5,\"#f7f7f7\"],[0.6,\"#e6f5d0\"],[0.7,\"#b8e186\"],[0.8,\"#7fbc41\"],[0.9,\"#4d9221\"],[1,\"#276419\"]],\"sequential\":[[0.0,\"#0d0887\"],[0.1111111111111111,\"#46039f\"],[0.2222222222222222,\"#7201a8\"],[0.3333333333333333,\"#9c179e\"],[0.4444444444444444,\"#bd3786\"],[0.5555555555555556,\"#d8576b\"],[0.6666666666666666,\"#ed7953\"],[0.7777777777777778,\"#fb9f3a\"],[0.8888888888888888,\"#fdca26\"],[1.0,\"#f0f921\"]],\"sequentialminus\":[[0.0,\"#0d0887\"],[0.1111111111111111,\"#46039f\"],[0.2222222222222222,\"#7201a8\"],[0.3333333333333333,\"#9c179e\"],[0.4444444444444444,\"#bd3786\"],[0.5555555555555556,\"#d8576b\"],[0.6666666666666666,\"#ed7953\"],[0.7777777777777778,\"#fb9f3a\"],[0.8888888888888888,\"#fdca26\"],[1.0,\"#f0f921\"]]},\"colorway\":[\"#636efa\",\"#EF553B\",\"#00cc96\",\"#ab63fa\",\"#FFA15A\",\"#19d3f3\",\"#FF6692\",\"#B6E880\",\"#FF97FF\",\"#FECB52\"],\"font\":{\"color\":\"#2a3f5f\"},\"geo\":{\"bgcolor\":\"white\",\"lakecolor\":\"white\",\"landcolor\":\"#E5ECF6\",\"showlakes\":true,\"showland\":true,\"subunitcolor\":\"white\"},\"hoverlabel\":{\"align\":\"left\"},\"hovermode\":\"closest\",\"mapbox\":{\"style\":\"light\"},\"paper_bgcolor\":\"white\",\"plot_bgcolor\":\"#E5ECF6\",\"polar\":{\"angularaxis\":{\"gridcolor\":\"white\",\"linecolor\":\"white\",\"ticks\":\"\"},\"bgcolor\":\"#E5ECF6\",\"radialaxis\":{\"gridcolor\":\"white\",\"linecolor\":\"white\",\"ticks\":\"\"}},\"scene\":{\"xaxis\":{\"backgroundcolor\":\"#E5ECF6\",\"gridcolor\":\"white\",\"gridwidth\":2,\"linecolor\":\"white\",\"showbackground\":true,\"ticks\":\"\",\"zerolinecolor\":\"white\"},\"yaxis\":{\"backgroundcolor\":\"#E5ECF6\",\"gridcolor\":\"white\",\"gridwidth\":2,\"linecolor\":\"white\",\"showbackground\":true,\"ticks\":\"\",\"zerolinecolor\":\"white\"},\"zaxis\":{\"backgroundcolor\":\"#E5ECF6\",\"gridcolor\":\"white\",\"gridwidth\":2,\"linecolor\":\"white\",\"showbackground\":true,\"ticks\":\"\",\"zerolinecolor\":\"white\"}},\"shapedefaults\":{\"line\":{\"color\":\"#2a3f5f\"}},\"ternary\":{\"aaxis\":{\"gridcolor\":\"white\",\"linecolor\":\"white\",\"ticks\":\"\"},\"baxis\":{\"gridcolor\":\"white\",\"linecolor\":\"white\",\"ticks\":\"\"},\"bgcolor\":\"#E5ECF6\",\"caxis\":{\"gridcolor\":\"white\",\"linecolor\":\"white\",\"ticks\":\"\"}},\"title\":{\"x\":0.05},\"xaxis\":{\"automargin\":true,\"gridcolor\":\"white\",\"linecolor\":\"white\",\"ticks\":\"\",\"title\":{\"standoff\":15},\"zerolinecolor\":\"white\",\"zerolinewidth\":2},\"yaxis\":{\"automargin\":true,\"gridcolor\":\"white\",\"linecolor\":\"white\",\"ticks\":\"\",\"title\":{\"standoff\":15},\"zerolinecolor\":\"white\",\"zerolinewidth\":2}}},\"coloraxis\":{\"colorbar\":{\"title\":{\"text\":\"ave_score_taklons\"}},\"colorscale\":[[0.0,\"rgb(103,0,31)\"],[0.1,\"rgb(178,24,43)\"],[0.2,\"rgb(214,96,77)\"],[0.3,\"rgb(244,165,130)\"],[0.4,\"rgb(253,219,199)\"],[0.5,\"rgb(247,247,247)\"],[0.6,\"rgb(209,229,240)\"],[0.7,\"rgb(146,197,222)\"],[0.8,\"rgb(67,147,195)\"],[0.9,\"rgb(33,102,172)\"],[1.0,\"rgb(5,48,97)\"]],\"cmid\":153.409394703657},\"legend\":{\"tracegroupgap\":0},\"margin\":{\"t\":50,\"l\":25,\"r\":25,\"b\":25},\"title\":{\"text\":\"R1 Structures: Frequency and Impact on Score Relative to All Factions Average (153.41): taklons\"}},                        {\"responsive\": true}                    ).then(function(){\n",
       "                            \n",
       "var gd = document.getElementById('6a671be9-7a2d-4cb5-b2fd-19d618699c2f');\n",
       "var x = new MutationObserver(function (mutations, observer) {{\n",
       "        var display = window.getComputedStyle(gd).display;\n",
       "        if (!display || display === 'none') {{\n",
       "            console.log([gd, 'removed!']);\n",
       "            Plotly.purge(gd);\n",
       "            observer.disconnect();\n",
       "        }}\n",
       "}});\n",
       "\n",
       "// Listen for the removal of the full notebook cells\n",
       "var notebookContainer = gd.closest('#notebook-container');\n",
       "if (notebookContainer) {{\n",
       "    x.observe(notebookContainer, {childList: true});\n",
       "}}\n",
       "\n",
       "// Listen for the clearing of the current output cell\n",
       "var outputEl = gd.closest('.output');\n",
       "if (outputEl) {{\n",
       "    x.observe(outputEl, {childList: true});\n",
       "}}\n",
       "\n",
       "                        })                };                });            </script>        </div>"
      ]
     },
     "metadata": {},
     "output_type": "display_data"
    },
    {
     "data": {
      "application/vnd.plotly.v1+json": {
       "config": {
        "plotlyServerURL": "https://plot.ly"
       },
       "data": [
        {
         "branchvalues": "total",
         "customdata": [
          [
           180.24242424242425,
           148.63636363636363
          ],
          [
           157.2,
           134.5
          ],
          [
           133,
           125.66666666666667
          ],
          [
           206.75,
           141.44444444444446
          ],
          [
           154,
           135
          ],
          [
           198.27272727272728,
           145.72727272727272
          ],
          [
           258.2083333333333,
           154.5
          ],
          [
           106,
           148
          ],
          [
           187.96969696969697,
           147.12121212121212
          ],
          [
           11,
           140
          ],
          [
           140,
           124
          ],
          [
           90.6,
           137.8
          ],
          [
           250.1904761904762,
           146.46031746031747
          ],
          [
           222.7391304347826,
           144.69565217391303
          ],
          [
           239,
           130.33333333333334
          ],
          [
           79,
           150
          ],
          [
           198.79310344827587,
           149.48275862068965
          ],
          [
           132,
           136
          ],
          [
           197.2,
           142.13846153846154
          ],
          [
           79.66666666666667,
           124
          ],
          [
           217.25,
           158
          ],
          [
           166,
           174
          ],
          [
           149,
           161
          ],
          [
           211,
           138.5
          ],
          [
           248.01604278074868,
           151.18716577540107
          ],
          [
           105.5,
           122.5
          ],
          [
           147,
           128.5
          ],
          [
           261.3424657534247,
           155.56164383561645
          ],
          [
           217,
           199
          ],
          [
           29,
           119
          ],
          [
           173.75,
           172.75
          ],
          [
           154,
           135
          ],
          [
           "(?)",
           144.4313725490196
          ],
          [
           "(?)",
           134.88888888888889
          ],
          [
           "(?)",
           148.10376134889754
          ],
          [
           "(?)",
           134.25
          ],
          [
           "(?)",
           143
          ],
          [
           "(?)",
           147.4064587973274
          ]
         ],
         "domain": {
          "x": [
           0,
           1
          ],
          "y": [
           0,
           1
          ]
         },
         "hovertemplate": "labels=%{label}<br>class_counts=%{value}<br>parent=%{parent}<br>id=%{id}<br>ave_elo_bescods=%{customdata[0]}<br>ave_score_bescods=%{color}<extra></extra>",
         "ids": [
          "R1 Structures: Frequency and Overall Score for bescods/lab/ 0-m_0-ts_2-lab_0-pi_0-ac1_0-ac2",
          "R1 Structures: Frequency and Overall Score for bescods/lab/ 0-m_1-ts_1-lab_0-pi_0-ac1_0-ac2",
          "R1 Structures: Frequency and Overall Score for bescods/ac2/ 1-m_0-ts_0-lab_0-pi_0-ac1_1-ac2",
          "R1 Structures: Frequency and Overall Score for bescods/ac1/ 1-m_0-ts_0-lab_0-pi_1-ac1_0-ac2",
          "R1 Structures: Frequency and Overall Score for bescods/PI/ 1-m_0-ts_0-lab_1-pi_0-ac1_0-ac2",
          "R1 Structures: Frequency and Overall Score for bescods/lab/ 1-m_0-ts_1-lab_0-pi_0-ac1_0-ac2",
          "R1 Structures: Frequency and Overall Score for bescods/lab/ 1-m_0-ts_2-lab_0-pi_0-ac1_0-ac2",
          "R1 Structures: Frequency and Overall Score for bescods/ac2/ 1-m_1-ts_0-lab_0-pi_0-ac1_1-ac2",
          "R1 Structures: Frequency and Overall Score for bescods/lab/ 1-m_1-ts_1-lab_0-pi_0-ac1_0-ac2",
          "R1 Structures: Frequency and Overall Score for bescods/ts/ 1-m_2-ts_0-lab_0-pi_0-ac1_0-ac2",
          "R1 Structures: Frequency and Overall Score for bescods/lab/ 1-m_2-ts_1-lab_0-pi_0-ac1_0-ac2",
          "R1 Structures: Frequency and Overall Score for bescods/ac2/ 2-m_0-ts_0-lab_0-pi_0-ac1_1-ac2",
          "R1 Structures: Frequency and Overall Score for bescods/ac1/ 2-m_0-ts_0-lab_0-pi_1-ac1_0-ac2",
          "R1 Structures: Frequency and Overall Score for bescods/lab/ 2-m_0-ts_1-lab_0-pi_0-ac1_0-ac2",
          "R1 Structures: Frequency and Overall Score for bescods/lab/ 2-m_0-ts_2-lab_0-pi_0-ac1_0-ac2",
          "R1 Structures: Frequency and Overall Score for bescods/ts/ 2-m_1-ts_0-lab_0-pi_0-ac1_0-ac2",
          "R1 Structures: Frequency and Overall Score for bescods/lab/ 2-m_1-ts_1-lab_0-pi_0-ac1_0-ac2",
          "R1 Structures: Frequency and Overall Score for bescods/ac1/ 3-m_0-ts_0-lab_0-pi_1-ac1_0-ac2",
          "R1 Structures: Frequency and Overall Score for bescods/lab/ 3-m_0-ts_1-lab_0-pi_0-ac1_0-ac2",
          "R1 Structures: Frequency and Overall Score for bescods/ts/ 3-m_1-ts_0-lab_0-pi_0-ac1_0-ac2",
          "R1 Structures: Frequency and Overall Score for bescods/lab/ 3-m_1-ts_1-lab_0-pi_0-ac1_0-ac2",
          "R1 Structures: Frequency and Overall Score for bescods/ts/ 3-m_2-ts_0-lab_0-pi_0-ac1_0-ac2",
          "R1 Structures: Frequency and Overall Score for bescods/m/ 4-m_0-ts_0-lab_0-pi_0-ac1_0-ac2",
          "R1 Structures: Frequency and Overall Score for bescods/ac1/ 4-m_0-ts_0-lab_0-pi_1-ac1_0-ac2",
          "R1 Structures: Frequency and Overall Score for bescods/lab/ 4-m_0-ts_1-lab_0-pi_0-ac1_0-ac2",
          "R1 Structures: Frequency and Overall Score for bescods/ts/ 4-m_1-ts_0-lab_0-pi_0-ac1_0-ac2",
          "R1 Structures: Frequency and Overall Score for bescods/m/ 5-m_0-ts_0-lab_0-pi_0-ac1_0-ac2",
          "R1 Structures: Frequency and Overall Score for bescods/lab/ 5-m_0-ts_1-lab_0-pi_0-ac1_0-ac2",
          "R1 Structures: Frequency and Overall Score for bescods/ts/ 5-m_1-ts_0-lab_0-pi_0-ac1_0-ac2",
          "R1 Structures: Frequency and Overall Score for bescods/m/ 6-m_0-ts_0-lab_0-pi_0-ac1_0-ac2",
          "R1 Structures: Frequency and Overall Score for bescods/lab/ 6-m_0-ts_1-lab_0-pi_0-ac1_0-ac2",
          "R1 Structures: Frequency and Overall Score for bescods/PI",
          "R1 Structures: Frequency and Overall Score for bescods/ac1",
          "R1 Structures: Frequency and Overall Score for bescods/ac2",
          "R1 Structures: Frequency and Overall Score for bescods/lab",
          "R1 Structures: Frequency and Overall Score for bescods/m",
          "R1 Structures: Frequency and Overall Score for bescods/ts",
          "R1 Structures: Frequency and Overall Score for bescods"
         ],
         "labels": [
          " 0-m_0-ts_2-lab_0-pi_0-ac1_0-ac2",
          " 0-m_1-ts_1-lab_0-pi_0-ac1_0-ac2",
          " 1-m_0-ts_0-lab_0-pi_0-ac1_1-ac2",
          " 1-m_0-ts_0-lab_0-pi_1-ac1_0-ac2",
          " 1-m_0-ts_0-lab_1-pi_0-ac1_0-ac2",
          " 1-m_0-ts_1-lab_0-pi_0-ac1_0-ac2",
          " 1-m_0-ts_2-lab_0-pi_0-ac1_0-ac2",
          " 1-m_1-ts_0-lab_0-pi_0-ac1_1-ac2",
          " 1-m_1-ts_1-lab_0-pi_0-ac1_0-ac2",
          " 1-m_2-ts_0-lab_0-pi_0-ac1_0-ac2",
          " 1-m_2-ts_1-lab_0-pi_0-ac1_0-ac2",
          " 2-m_0-ts_0-lab_0-pi_0-ac1_1-ac2",
          " 2-m_0-ts_0-lab_0-pi_1-ac1_0-ac2",
          " 2-m_0-ts_1-lab_0-pi_0-ac1_0-ac2",
          " 2-m_0-ts_2-lab_0-pi_0-ac1_0-ac2",
          " 2-m_1-ts_0-lab_0-pi_0-ac1_0-ac2",
          " 2-m_1-ts_1-lab_0-pi_0-ac1_0-ac2",
          " 3-m_0-ts_0-lab_0-pi_1-ac1_0-ac2",
          " 3-m_0-ts_1-lab_0-pi_0-ac1_0-ac2",
          " 3-m_1-ts_0-lab_0-pi_0-ac1_0-ac2",
          " 3-m_1-ts_1-lab_0-pi_0-ac1_0-ac2",
          " 3-m_2-ts_0-lab_0-pi_0-ac1_0-ac2",
          " 4-m_0-ts_0-lab_0-pi_0-ac1_0-ac2",
          " 4-m_0-ts_0-lab_0-pi_1-ac1_0-ac2",
          " 4-m_0-ts_1-lab_0-pi_0-ac1_0-ac2",
          " 4-m_1-ts_0-lab_0-pi_0-ac1_0-ac2",
          " 5-m_0-ts_0-lab_0-pi_0-ac1_0-ac2",
          " 5-m_0-ts_1-lab_0-pi_0-ac1_0-ac2",
          " 5-m_1-ts_0-lab_0-pi_0-ac1_0-ac2",
          " 6-m_0-ts_0-lab_0-pi_0-ac1_0-ac2",
          " 6-m_0-ts_1-lab_0-pi_0-ac1_0-ac2",
          "PI",
          "ac1",
          "ac2",
          "lab",
          "m",
          "ts",
          "R1 Structures: Frequency and Overall Score for bescods"
         ],
         "marker": {
          "coloraxis": "coloraxis",
          "colors": [
           148.63636363636363,
           134.5,
           125.66666666666667,
           141.44444444444446,
           135,
           145.72727272727272,
           154.5,
           148,
           147.12121212121212,
           140,
           124,
           137.8,
           146.46031746031747,
           144.69565217391303,
           130.33333333333334,
           150,
           149.48275862068965,
           136,
           142.13846153846154,
           124,
           158,
           174,
           161,
           138.5,
           151.18716577540107,
           122.5,
           128.5,
           155.56164383561645,
           199,
           119,
           172.75,
           135,
           144.4313725490196,
           134.88888888888889,
           148.10376134889754,
           134.25,
           143,
           147.4064587973274
          ]
         },
         "name": "",
         "parents": [
          "R1 Structures: Frequency and Overall Score for bescods/lab",
          "R1 Structures: Frequency and Overall Score for bescods/lab",
          "R1 Structures: Frequency and Overall Score for bescods/ac2",
          "R1 Structures: Frequency and Overall Score for bescods/ac1",
          "R1 Structures: Frequency and Overall Score for bescods/PI",
          "R1 Structures: Frequency and Overall Score for bescods/lab",
          "R1 Structures: Frequency and Overall Score for bescods/lab",
          "R1 Structures: Frequency and Overall Score for bescods/ac2",
          "R1 Structures: Frequency and Overall Score for bescods/lab",
          "R1 Structures: Frequency and Overall Score for bescods/ts",
          "R1 Structures: Frequency and Overall Score for bescods/lab",
          "R1 Structures: Frequency and Overall Score for bescods/ac2",
          "R1 Structures: Frequency and Overall Score for bescods/ac1",
          "R1 Structures: Frequency and Overall Score for bescods/lab",
          "R1 Structures: Frequency and Overall Score for bescods/lab",
          "R1 Structures: Frequency and Overall Score for bescods/ts",
          "R1 Structures: Frequency and Overall Score for bescods/lab",
          "R1 Structures: Frequency and Overall Score for bescods/ac1",
          "R1 Structures: Frequency and Overall Score for bescods/lab",
          "R1 Structures: Frequency and Overall Score for bescods/ts",
          "R1 Structures: Frequency and Overall Score for bescods/lab",
          "R1 Structures: Frequency and Overall Score for bescods/ts",
          "R1 Structures: Frequency and Overall Score for bescods/m",
          "R1 Structures: Frequency and Overall Score for bescods/ac1",
          "R1 Structures: Frequency and Overall Score for bescods/lab",
          "R1 Structures: Frequency and Overall Score for bescods/ts",
          "R1 Structures: Frequency and Overall Score for bescods/m",
          "R1 Structures: Frequency and Overall Score for bescods/lab",
          "R1 Structures: Frequency and Overall Score for bescods/ts",
          "R1 Structures: Frequency and Overall Score for bescods/m",
          "R1 Structures: Frequency and Overall Score for bescods/lab",
          "R1 Structures: Frequency and Overall Score for bescods",
          "R1 Structures: Frequency and Overall Score for bescods",
          "R1 Structures: Frequency and Overall Score for bescods",
          "R1 Structures: Frequency and Overall Score for bescods",
          "R1 Structures: Frequency and Overall Score for bescods",
          "R1 Structures: Frequency and Overall Score for bescods",
          ""
         ],
         "type": "treemap",
         "values": [
          33,
          10,
          3,
          36,
          2,
          11,
          24,
          1,
          66,
          1,
          1,
          5,
          63,
          138,
          3,
          2,
          87,
          1,
          130,
          3,
          4,
          1,
          1,
          2,
          187,
          2,
          2,
          73,
          1,
          1,
          4,
          2,
          102,
          9,
          771,
          4,
          10,
          898
         ]
        }
       ],
       "layout": {
        "coloraxis": {
         "cmid": 153.409394703657,
         "colorbar": {
          "title": {
           "text": "ave_score_bescods"
          }
         },
         "colorscale": [
          [
           0,
           "rgb(103,0,31)"
          ],
          [
           0.1,
           "rgb(178,24,43)"
          ],
          [
           0.2,
           "rgb(214,96,77)"
          ],
          [
           0.3,
           "rgb(244,165,130)"
          ],
          [
           0.4,
           "rgb(253,219,199)"
          ],
          [
           0.5,
           "rgb(247,247,247)"
          ],
          [
           0.6,
           "rgb(209,229,240)"
          ],
          [
           0.7,
           "rgb(146,197,222)"
          ],
          [
           0.8,
           "rgb(67,147,195)"
          ],
          [
           0.9,
           "rgb(33,102,172)"
          ],
          [
           1,
           "rgb(5,48,97)"
          ]
         ]
        },
        "legend": {
         "tracegroupgap": 0
        },
        "margin": {
         "b": 25,
         "l": 25,
         "r": 25,
         "t": 50
        },
        "template": {
         "data": {
          "bar": [
           {
            "error_x": {
             "color": "#2a3f5f"
            },
            "error_y": {
             "color": "#2a3f5f"
            },
            "marker": {
             "line": {
              "color": "#E5ECF6",
              "width": 0.5
             },
             "pattern": {
              "fillmode": "overlay",
              "size": 10,
              "solidity": 0.2
             }
            },
            "type": "bar"
           }
          ],
          "barpolar": [
           {
            "marker": {
             "line": {
              "color": "#E5ECF6",
              "width": 0.5
             },
             "pattern": {
              "fillmode": "overlay",
              "size": 10,
              "solidity": 0.2
             }
            },
            "type": "barpolar"
           }
          ],
          "carpet": [
           {
            "aaxis": {
             "endlinecolor": "#2a3f5f",
             "gridcolor": "white",
             "linecolor": "white",
             "minorgridcolor": "white",
             "startlinecolor": "#2a3f5f"
            },
            "baxis": {
             "endlinecolor": "#2a3f5f",
             "gridcolor": "white",
             "linecolor": "white",
             "minorgridcolor": "white",
             "startlinecolor": "#2a3f5f"
            },
            "type": "carpet"
           }
          ],
          "choropleth": [
           {
            "colorbar": {
             "outlinewidth": 0,
             "ticks": ""
            },
            "type": "choropleth"
           }
          ],
          "contour": [
           {
            "colorbar": {
             "outlinewidth": 0,
             "ticks": ""
            },
            "colorscale": [
             [
              0,
              "#0d0887"
             ],
             [
              0.1111111111111111,
              "#46039f"
             ],
             [
              0.2222222222222222,
              "#7201a8"
             ],
             [
              0.3333333333333333,
              "#9c179e"
             ],
             [
              0.4444444444444444,
              "#bd3786"
             ],
             [
              0.5555555555555556,
              "#d8576b"
             ],
             [
              0.6666666666666666,
              "#ed7953"
             ],
             [
              0.7777777777777778,
              "#fb9f3a"
             ],
             [
              0.8888888888888888,
              "#fdca26"
             ],
             [
              1,
              "#f0f921"
             ]
            ],
            "type": "contour"
           }
          ],
          "contourcarpet": [
           {
            "colorbar": {
             "outlinewidth": 0,
             "ticks": ""
            },
            "type": "contourcarpet"
           }
          ],
          "heatmap": [
           {
            "colorbar": {
             "outlinewidth": 0,
             "ticks": ""
            },
            "colorscale": [
             [
              0,
              "#0d0887"
             ],
             [
              0.1111111111111111,
              "#46039f"
             ],
             [
              0.2222222222222222,
              "#7201a8"
             ],
             [
              0.3333333333333333,
              "#9c179e"
             ],
             [
              0.4444444444444444,
              "#bd3786"
             ],
             [
              0.5555555555555556,
              "#d8576b"
             ],
             [
              0.6666666666666666,
              "#ed7953"
             ],
             [
              0.7777777777777778,
              "#fb9f3a"
             ],
             [
              0.8888888888888888,
              "#fdca26"
             ],
             [
              1,
              "#f0f921"
             ]
            ],
            "type": "heatmap"
           }
          ],
          "heatmapgl": [
           {
            "colorbar": {
             "outlinewidth": 0,
             "ticks": ""
            },
            "colorscale": [
             [
              0,
              "#0d0887"
             ],
             [
              0.1111111111111111,
              "#46039f"
             ],
             [
              0.2222222222222222,
              "#7201a8"
             ],
             [
              0.3333333333333333,
              "#9c179e"
             ],
             [
              0.4444444444444444,
              "#bd3786"
             ],
             [
              0.5555555555555556,
              "#d8576b"
             ],
             [
              0.6666666666666666,
              "#ed7953"
             ],
             [
              0.7777777777777778,
              "#fb9f3a"
             ],
             [
              0.8888888888888888,
              "#fdca26"
             ],
             [
              1,
              "#f0f921"
             ]
            ],
            "type": "heatmapgl"
           }
          ],
          "histogram": [
           {
            "marker": {
             "pattern": {
              "fillmode": "overlay",
              "size": 10,
              "solidity": 0.2
             }
            },
            "type": "histogram"
           }
          ],
          "histogram2d": [
           {
            "colorbar": {
             "outlinewidth": 0,
             "ticks": ""
            },
            "colorscale": [
             [
              0,
              "#0d0887"
             ],
             [
              0.1111111111111111,
              "#46039f"
             ],
             [
              0.2222222222222222,
              "#7201a8"
             ],
             [
              0.3333333333333333,
              "#9c179e"
             ],
             [
              0.4444444444444444,
              "#bd3786"
             ],
             [
              0.5555555555555556,
              "#d8576b"
             ],
             [
              0.6666666666666666,
              "#ed7953"
             ],
             [
              0.7777777777777778,
              "#fb9f3a"
             ],
             [
              0.8888888888888888,
              "#fdca26"
             ],
             [
              1,
              "#f0f921"
             ]
            ],
            "type": "histogram2d"
           }
          ],
          "histogram2dcontour": [
           {
            "colorbar": {
             "outlinewidth": 0,
             "ticks": ""
            },
            "colorscale": [
             [
              0,
              "#0d0887"
             ],
             [
              0.1111111111111111,
              "#46039f"
             ],
             [
              0.2222222222222222,
              "#7201a8"
             ],
             [
              0.3333333333333333,
              "#9c179e"
             ],
             [
              0.4444444444444444,
              "#bd3786"
             ],
             [
              0.5555555555555556,
              "#d8576b"
             ],
             [
              0.6666666666666666,
              "#ed7953"
             ],
             [
              0.7777777777777778,
              "#fb9f3a"
             ],
             [
              0.8888888888888888,
              "#fdca26"
             ],
             [
              1,
              "#f0f921"
             ]
            ],
            "type": "histogram2dcontour"
           }
          ],
          "mesh3d": [
           {
            "colorbar": {
             "outlinewidth": 0,
             "ticks": ""
            },
            "type": "mesh3d"
           }
          ],
          "parcoords": [
           {
            "line": {
             "colorbar": {
              "outlinewidth": 0,
              "ticks": ""
             }
            },
            "type": "parcoords"
           }
          ],
          "pie": [
           {
            "automargin": true,
            "type": "pie"
           }
          ],
          "scatter": [
           {
            "marker": {
             "colorbar": {
              "outlinewidth": 0,
              "ticks": ""
             }
            },
            "type": "scatter"
           }
          ],
          "scatter3d": [
           {
            "line": {
             "colorbar": {
              "outlinewidth": 0,
              "ticks": ""
             }
            },
            "marker": {
             "colorbar": {
              "outlinewidth": 0,
              "ticks": ""
             }
            },
            "type": "scatter3d"
           }
          ],
          "scattercarpet": [
           {
            "marker": {
             "colorbar": {
              "outlinewidth": 0,
              "ticks": ""
             }
            },
            "type": "scattercarpet"
           }
          ],
          "scattergeo": [
           {
            "marker": {
             "colorbar": {
              "outlinewidth": 0,
              "ticks": ""
             }
            },
            "type": "scattergeo"
           }
          ],
          "scattergl": [
           {
            "marker": {
             "colorbar": {
              "outlinewidth": 0,
              "ticks": ""
             }
            },
            "type": "scattergl"
           }
          ],
          "scattermapbox": [
           {
            "marker": {
             "colorbar": {
              "outlinewidth": 0,
              "ticks": ""
             }
            },
            "type": "scattermapbox"
           }
          ],
          "scatterpolar": [
           {
            "marker": {
             "colorbar": {
              "outlinewidth": 0,
              "ticks": ""
             }
            },
            "type": "scatterpolar"
           }
          ],
          "scatterpolargl": [
           {
            "marker": {
             "colorbar": {
              "outlinewidth": 0,
              "ticks": ""
             }
            },
            "type": "scatterpolargl"
           }
          ],
          "scatterternary": [
           {
            "marker": {
             "colorbar": {
              "outlinewidth": 0,
              "ticks": ""
             }
            },
            "type": "scatterternary"
           }
          ],
          "surface": [
           {
            "colorbar": {
             "outlinewidth": 0,
             "ticks": ""
            },
            "colorscale": [
             [
              0,
              "#0d0887"
             ],
             [
              0.1111111111111111,
              "#46039f"
             ],
             [
              0.2222222222222222,
              "#7201a8"
             ],
             [
              0.3333333333333333,
              "#9c179e"
             ],
             [
              0.4444444444444444,
              "#bd3786"
             ],
             [
              0.5555555555555556,
              "#d8576b"
             ],
             [
              0.6666666666666666,
              "#ed7953"
             ],
             [
              0.7777777777777778,
              "#fb9f3a"
             ],
             [
              0.8888888888888888,
              "#fdca26"
             ],
             [
              1,
              "#f0f921"
             ]
            ],
            "type": "surface"
           }
          ],
          "table": [
           {
            "cells": {
             "fill": {
              "color": "#EBF0F8"
             },
             "line": {
              "color": "white"
             }
            },
            "header": {
             "fill": {
              "color": "#C8D4E3"
             },
             "line": {
              "color": "white"
             }
            },
            "type": "table"
           }
          ]
         },
         "layout": {
          "annotationdefaults": {
           "arrowcolor": "#2a3f5f",
           "arrowhead": 0,
           "arrowwidth": 1
          },
          "autotypenumbers": "strict",
          "coloraxis": {
           "colorbar": {
            "outlinewidth": 0,
            "ticks": ""
           }
          },
          "colorscale": {
           "diverging": [
            [
             0,
             "#8e0152"
            ],
            [
             0.1,
             "#c51b7d"
            ],
            [
             0.2,
             "#de77ae"
            ],
            [
             0.3,
             "#f1b6da"
            ],
            [
             0.4,
             "#fde0ef"
            ],
            [
             0.5,
             "#f7f7f7"
            ],
            [
             0.6,
             "#e6f5d0"
            ],
            [
             0.7,
             "#b8e186"
            ],
            [
             0.8,
             "#7fbc41"
            ],
            [
             0.9,
             "#4d9221"
            ],
            [
             1,
             "#276419"
            ]
           ],
           "sequential": [
            [
             0,
             "#0d0887"
            ],
            [
             0.1111111111111111,
             "#46039f"
            ],
            [
             0.2222222222222222,
             "#7201a8"
            ],
            [
             0.3333333333333333,
             "#9c179e"
            ],
            [
             0.4444444444444444,
             "#bd3786"
            ],
            [
             0.5555555555555556,
             "#d8576b"
            ],
            [
             0.6666666666666666,
             "#ed7953"
            ],
            [
             0.7777777777777778,
             "#fb9f3a"
            ],
            [
             0.8888888888888888,
             "#fdca26"
            ],
            [
             1,
             "#f0f921"
            ]
           ],
           "sequentialminus": [
            [
             0,
             "#0d0887"
            ],
            [
             0.1111111111111111,
             "#46039f"
            ],
            [
             0.2222222222222222,
             "#7201a8"
            ],
            [
             0.3333333333333333,
             "#9c179e"
            ],
            [
             0.4444444444444444,
             "#bd3786"
            ],
            [
             0.5555555555555556,
             "#d8576b"
            ],
            [
             0.6666666666666666,
             "#ed7953"
            ],
            [
             0.7777777777777778,
             "#fb9f3a"
            ],
            [
             0.8888888888888888,
             "#fdca26"
            ],
            [
             1,
             "#f0f921"
            ]
           ]
          },
          "colorway": [
           "#636efa",
           "#EF553B",
           "#00cc96",
           "#ab63fa",
           "#FFA15A",
           "#19d3f3",
           "#FF6692",
           "#B6E880",
           "#FF97FF",
           "#FECB52"
          ],
          "font": {
           "color": "#2a3f5f"
          },
          "geo": {
           "bgcolor": "white",
           "lakecolor": "white",
           "landcolor": "#E5ECF6",
           "showlakes": true,
           "showland": true,
           "subunitcolor": "white"
          },
          "hoverlabel": {
           "align": "left"
          },
          "hovermode": "closest",
          "mapbox": {
           "style": "light"
          },
          "paper_bgcolor": "white",
          "plot_bgcolor": "#E5ECF6",
          "polar": {
           "angularaxis": {
            "gridcolor": "white",
            "linecolor": "white",
            "ticks": ""
           },
           "bgcolor": "#E5ECF6",
           "radialaxis": {
            "gridcolor": "white",
            "linecolor": "white",
            "ticks": ""
           }
          },
          "scene": {
           "xaxis": {
            "backgroundcolor": "#E5ECF6",
            "gridcolor": "white",
            "gridwidth": 2,
            "linecolor": "white",
            "showbackground": true,
            "ticks": "",
            "zerolinecolor": "white"
           },
           "yaxis": {
            "backgroundcolor": "#E5ECF6",
            "gridcolor": "white",
            "gridwidth": 2,
            "linecolor": "white",
            "showbackground": true,
            "ticks": "",
            "zerolinecolor": "white"
           },
           "zaxis": {
            "backgroundcolor": "#E5ECF6",
            "gridcolor": "white",
            "gridwidth": 2,
            "linecolor": "white",
            "showbackground": true,
            "ticks": "",
            "zerolinecolor": "white"
           }
          },
          "shapedefaults": {
           "line": {
            "color": "#2a3f5f"
           }
          },
          "ternary": {
           "aaxis": {
            "gridcolor": "white",
            "linecolor": "white",
            "ticks": ""
           },
           "baxis": {
            "gridcolor": "white",
            "linecolor": "white",
            "ticks": ""
           },
           "bgcolor": "#E5ECF6",
           "caxis": {
            "gridcolor": "white",
            "linecolor": "white",
            "ticks": ""
           }
          },
          "title": {
           "x": 0.05
          },
          "xaxis": {
           "automargin": true,
           "gridcolor": "white",
           "linecolor": "white",
           "ticks": "",
           "title": {
            "standoff": 15
           },
           "zerolinecolor": "white",
           "zerolinewidth": 2
          },
          "yaxis": {
           "automargin": true,
           "gridcolor": "white",
           "linecolor": "white",
           "ticks": "",
           "title": {
            "standoff": 15
           },
           "zerolinecolor": "white",
           "zerolinewidth": 2
          }
         }
        },
        "title": {
         "text": "R1 Structures: Frequency and Impact on Score Relative to All Factions Average (153.41): bescods"
        }
       }
      },
      "text/html": [
       "<div>                            <div id=\"252e5083-fdde-41bc-ab61-f3d6a515f40a\" class=\"plotly-graph-div\" style=\"height:525px; width:100%;\"></div>            <script type=\"text/javascript\">                require([\"plotly\"], function(Plotly) {                    window.PLOTLYENV=window.PLOTLYENV || {};                                    if (document.getElementById(\"252e5083-fdde-41bc-ab61-f3d6a515f40a\")) {                    Plotly.newPlot(                        \"252e5083-fdde-41bc-ab61-f3d6a515f40a\",                        [{\"branchvalues\":\"total\",\"customdata\":[[180.24242424242425,148.63636363636363],[157.2,134.5],[133.0,125.66666666666667],[206.75,141.44444444444446],[154.0,135.0],[198.27272727272728,145.72727272727272],[258.2083333333333,154.5],[106.0,148.0],[187.96969696969697,147.12121212121212],[11.0,140.0],[140.0,124.0],[90.6,137.8],[250.1904761904762,146.46031746031747],[222.7391304347826,144.69565217391303],[239.0,130.33333333333334],[79.0,150.0],[198.79310344827587,149.48275862068965],[132.0,136.0],[197.2,142.13846153846154],[79.66666666666667,124.0],[217.25,158.0],[166.0,174.0],[149.0,161.0],[211.0,138.5],[248.01604278074868,151.18716577540107],[105.5,122.5],[147.0,128.5],[261.3424657534247,155.56164383561645],[217.0,199.0],[29.0,119.0],[173.75,172.75],[154.0,135.0],[\"(?)\",144.4313725490196],[\"(?)\",134.88888888888889],[\"(?)\",148.10376134889754],[\"(?)\",134.25],[\"(?)\",143.0],[\"(?)\",147.4064587973274]],\"domain\":{\"x\":[0.0,1.0],\"y\":[0.0,1.0]},\"hovertemplate\":\"labels=%{label}<br>class_counts=%{value}<br>parent=%{parent}<br>id=%{id}<br>ave_elo_bescods=%{customdata[0]}<br>ave_score_bescods=%{color}<extra></extra>\",\"ids\":[\"R1 Structures: Frequency and Overall Score for bescods/lab/ 0-m_0-ts_2-lab_0-pi_0-ac1_0-ac2\",\"R1 Structures: Frequency and Overall Score for bescods/lab/ 0-m_1-ts_1-lab_0-pi_0-ac1_0-ac2\",\"R1 Structures: Frequency and Overall Score for bescods/ac2/ 1-m_0-ts_0-lab_0-pi_0-ac1_1-ac2\",\"R1 Structures: Frequency and Overall Score for bescods/ac1/ 1-m_0-ts_0-lab_0-pi_1-ac1_0-ac2\",\"R1 Structures: Frequency and Overall Score for bescods/PI/ 1-m_0-ts_0-lab_1-pi_0-ac1_0-ac2\",\"R1 Structures: Frequency and Overall Score for bescods/lab/ 1-m_0-ts_1-lab_0-pi_0-ac1_0-ac2\",\"R1 Structures: Frequency and Overall Score for bescods/lab/ 1-m_0-ts_2-lab_0-pi_0-ac1_0-ac2\",\"R1 Structures: Frequency and Overall Score for bescods/ac2/ 1-m_1-ts_0-lab_0-pi_0-ac1_1-ac2\",\"R1 Structures: Frequency and Overall Score for bescods/lab/ 1-m_1-ts_1-lab_0-pi_0-ac1_0-ac2\",\"R1 Structures: Frequency and Overall Score for bescods/ts/ 1-m_2-ts_0-lab_0-pi_0-ac1_0-ac2\",\"R1 Structures: Frequency and Overall Score for bescods/lab/ 1-m_2-ts_1-lab_0-pi_0-ac1_0-ac2\",\"R1 Structures: Frequency and Overall Score for bescods/ac2/ 2-m_0-ts_0-lab_0-pi_0-ac1_1-ac2\",\"R1 Structures: Frequency and Overall Score for bescods/ac1/ 2-m_0-ts_0-lab_0-pi_1-ac1_0-ac2\",\"R1 Structures: Frequency and Overall Score for bescods/lab/ 2-m_0-ts_1-lab_0-pi_0-ac1_0-ac2\",\"R1 Structures: Frequency and Overall Score for bescods/lab/ 2-m_0-ts_2-lab_0-pi_0-ac1_0-ac2\",\"R1 Structures: Frequency and Overall Score for bescods/ts/ 2-m_1-ts_0-lab_0-pi_0-ac1_0-ac2\",\"R1 Structures: Frequency and Overall Score for bescods/lab/ 2-m_1-ts_1-lab_0-pi_0-ac1_0-ac2\",\"R1 Structures: Frequency and Overall Score for bescods/ac1/ 3-m_0-ts_0-lab_0-pi_1-ac1_0-ac2\",\"R1 Structures: Frequency and Overall Score for bescods/lab/ 3-m_0-ts_1-lab_0-pi_0-ac1_0-ac2\",\"R1 Structures: Frequency and Overall Score for bescods/ts/ 3-m_1-ts_0-lab_0-pi_0-ac1_0-ac2\",\"R1 Structures: Frequency and Overall Score for bescods/lab/ 3-m_1-ts_1-lab_0-pi_0-ac1_0-ac2\",\"R1 Structures: Frequency and Overall Score for bescods/ts/ 3-m_2-ts_0-lab_0-pi_0-ac1_0-ac2\",\"R1 Structures: Frequency and Overall Score for bescods/m/ 4-m_0-ts_0-lab_0-pi_0-ac1_0-ac2\",\"R1 Structures: Frequency and Overall Score for bescods/ac1/ 4-m_0-ts_0-lab_0-pi_1-ac1_0-ac2\",\"R1 Structures: Frequency and Overall Score for bescods/lab/ 4-m_0-ts_1-lab_0-pi_0-ac1_0-ac2\",\"R1 Structures: Frequency and Overall Score for bescods/ts/ 4-m_1-ts_0-lab_0-pi_0-ac1_0-ac2\",\"R1 Structures: Frequency and Overall Score for bescods/m/ 5-m_0-ts_0-lab_0-pi_0-ac1_0-ac2\",\"R1 Structures: Frequency and Overall Score for bescods/lab/ 5-m_0-ts_1-lab_0-pi_0-ac1_0-ac2\",\"R1 Structures: Frequency and Overall Score for bescods/ts/ 5-m_1-ts_0-lab_0-pi_0-ac1_0-ac2\",\"R1 Structures: Frequency and Overall Score for bescods/m/ 6-m_0-ts_0-lab_0-pi_0-ac1_0-ac2\",\"R1 Structures: Frequency and Overall Score for bescods/lab/ 6-m_0-ts_1-lab_0-pi_0-ac1_0-ac2\",\"R1 Structures: Frequency and Overall Score for bescods/PI\",\"R1 Structures: Frequency and Overall Score for bescods/ac1\",\"R1 Structures: Frequency and Overall Score for bescods/ac2\",\"R1 Structures: Frequency and Overall Score for bescods/lab\",\"R1 Structures: Frequency and Overall Score for bescods/m\",\"R1 Structures: Frequency and Overall Score for bescods/ts\",\"R1 Structures: Frequency and Overall Score for bescods\"],\"labels\":[\" 0-m_0-ts_2-lab_0-pi_0-ac1_0-ac2\",\" 0-m_1-ts_1-lab_0-pi_0-ac1_0-ac2\",\" 1-m_0-ts_0-lab_0-pi_0-ac1_1-ac2\",\" 1-m_0-ts_0-lab_0-pi_1-ac1_0-ac2\",\" 1-m_0-ts_0-lab_1-pi_0-ac1_0-ac2\",\" 1-m_0-ts_1-lab_0-pi_0-ac1_0-ac2\",\" 1-m_0-ts_2-lab_0-pi_0-ac1_0-ac2\",\" 1-m_1-ts_0-lab_0-pi_0-ac1_1-ac2\",\" 1-m_1-ts_1-lab_0-pi_0-ac1_0-ac2\",\" 1-m_2-ts_0-lab_0-pi_0-ac1_0-ac2\",\" 1-m_2-ts_1-lab_0-pi_0-ac1_0-ac2\",\" 2-m_0-ts_0-lab_0-pi_0-ac1_1-ac2\",\" 2-m_0-ts_0-lab_0-pi_1-ac1_0-ac2\",\" 2-m_0-ts_1-lab_0-pi_0-ac1_0-ac2\",\" 2-m_0-ts_2-lab_0-pi_0-ac1_0-ac2\",\" 2-m_1-ts_0-lab_0-pi_0-ac1_0-ac2\",\" 2-m_1-ts_1-lab_0-pi_0-ac1_0-ac2\",\" 3-m_0-ts_0-lab_0-pi_1-ac1_0-ac2\",\" 3-m_0-ts_1-lab_0-pi_0-ac1_0-ac2\",\" 3-m_1-ts_0-lab_0-pi_0-ac1_0-ac2\",\" 3-m_1-ts_1-lab_0-pi_0-ac1_0-ac2\",\" 3-m_2-ts_0-lab_0-pi_0-ac1_0-ac2\",\" 4-m_0-ts_0-lab_0-pi_0-ac1_0-ac2\",\" 4-m_0-ts_0-lab_0-pi_1-ac1_0-ac2\",\" 4-m_0-ts_1-lab_0-pi_0-ac1_0-ac2\",\" 4-m_1-ts_0-lab_0-pi_0-ac1_0-ac2\",\" 5-m_0-ts_0-lab_0-pi_0-ac1_0-ac2\",\" 5-m_0-ts_1-lab_0-pi_0-ac1_0-ac2\",\" 5-m_1-ts_0-lab_0-pi_0-ac1_0-ac2\",\" 6-m_0-ts_0-lab_0-pi_0-ac1_0-ac2\",\" 6-m_0-ts_1-lab_0-pi_0-ac1_0-ac2\",\"PI\",\"ac1\",\"ac2\",\"lab\",\"m\",\"ts\",\"R1 Structures: Frequency and Overall Score for bescods\"],\"marker\":{\"coloraxis\":\"coloraxis\",\"colors\":[148.63636363636363,134.5,125.66666666666667,141.44444444444446,135.0,145.72727272727272,154.5,148.0,147.12121212121212,140.0,124.0,137.8,146.46031746031747,144.69565217391303,130.33333333333334,150.0,149.48275862068965,136.0,142.13846153846154,124.0,158.0,174.0,161.0,138.5,151.18716577540107,122.5,128.5,155.56164383561645,199.0,119.0,172.75,135.0,144.4313725490196,134.88888888888889,148.10376134889754,134.25,143.0,147.4064587973274]},\"name\":\"\",\"parents\":[\"R1 Structures: Frequency and Overall Score for bescods/lab\",\"R1 Structures: Frequency and Overall Score for bescods/lab\",\"R1 Structures: Frequency and Overall Score for bescods/ac2\",\"R1 Structures: Frequency and Overall Score for bescods/ac1\",\"R1 Structures: Frequency and Overall Score for bescods/PI\",\"R1 Structures: Frequency and Overall Score for bescods/lab\",\"R1 Structures: Frequency and Overall Score for bescods/lab\",\"R1 Structures: Frequency and Overall Score for bescods/ac2\",\"R1 Structures: Frequency and Overall Score for bescods/lab\",\"R1 Structures: Frequency and Overall Score for bescods/ts\",\"R1 Structures: Frequency and Overall Score for bescods/lab\",\"R1 Structures: Frequency and Overall Score for bescods/ac2\",\"R1 Structures: Frequency and Overall Score for bescods/ac1\",\"R1 Structures: Frequency and Overall Score for bescods/lab\",\"R1 Structures: Frequency and Overall Score for bescods/lab\",\"R1 Structures: Frequency and Overall Score for bescods/ts\",\"R1 Structures: Frequency and Overall Score for bescods/lab\",\"R1 Structures: Frequency and Overall Score for bescods/ac1\",\"R1 Structures: Frequency and Overall Score for bescods/lab\",\"R1 Structures: Frequency and Overall Score for bescods/ts\",\"R1 Structures: Frequency and Overall Score for bescods/lab\",\"R1 Structures: Frequency and Overall Score for bescods/ts\",\"R1 Structures: Frequency and Overall Score for bescods/m\",\"R1 Structures: Frequency and Overall Score for bescods/ac1\",\"R1 Structures: Frequency and Overall Score for bescods/lab\",\"R1 Structures: Frequency and Overall Score for bescods/ts\",\"R1 Structures: Frequency and Overall Score for bescods/m\",\"R1 Structures: Frequency and Overall Score for bescods/lab\",\"R1 Structures: Frequency and Overall Score for bescods/ts\",\"R1 Structures: Frequency and Overall Score for bescods/m\",\"R1 Structures: Frequency and Overall Score for bescods/lab\",\"R1 Structures: Frequency and Overall Score for bescods\",\"R1 Structures: Frequency and Overall Score for bescods\",\"R1 Structures: Frequency and Overall Score for bescods\",\"R1 Structures: Frequency and Overall Score for bescods\",\"R1 Structures: Frequency and Overall Score for bescods\",\"R1 Structures: Frequency and Overall Score for bescods\",\"\"],\"values\":[33,10,3,36,2,11,24,1,66,1,1,5,63,138,3,2,87,1,130,3,4,1,1,2,187,2,2,73,1,1,4,2,102,9,771,4,10,898],\"type\":\"treemap\"}],                        {\"template\":{\"data\":{\"bar\":[{\"error_x\":{\"color\":\"#2a3f5f\"},\"error_y\":{\"color\":\"#2a3f5f\"},\"marker\":{\"line\":{\"color\":\"#E5ECF6\",\"width\":0.5},\"pattern\":{\"fillmode\":\"overlay\",\"size\":10,\"solidity\":0.2}},\"type\":\"bar\"}],\"barpolar\":[{\"marker\":{\"line\":{\"color\":\"#E5ECF6\",\"width\":0.5},\"pattern\":{\"fillmode\":\"overlay\",\"size\":10,\"solidity\":0.2}},\"type\":\"barpolar\"}],\"carpet\":[{\"aaxis\":{\"endlinecolor\":\"#2a3f5f\",\"gridcolor\":\"white\",\"linecolor\":\"white\",\"minorgridcolor\":\"white\",\"startlinecolor\":\"#2a3f5f\"},\"baxis\":{\"endlinecolor\":\"#2a3f5f\",\"gridcolor\":\"white\",\"linecolor\":\"white\",\"minorgridcolor\":\"white\",\"startlinecolor\":\"#2a3f5f\"},\"type\":\"carpet\"}],\"choropleth\":[{\"colorbar\":{\"outlinewidth\":0,\"ticks\":\"\"},\"type\":\"choropleth\"}],\"contour\":[{\"colorbar\":{\"outlinewidth\":0,\"ticks\":\"\"},\"colorscale\":[[0.0,\"#0d0887\"],[0.1111111111111111,\"#46039f\"],[0.2222222222222222,\"#7201a8\"],[0.3333333333333333,\"#9c179e\"],[0.4444444444444444,\"#bd3786\"],[0.5555555555555556,\"#d8576b\"],[0.6666666666666666,\"#ed7953\"],[0.7777777777777778,\"#fb9f3a\"],[0.8888888888888888,\"#fdca26\"],[1.0,\"#f0f921\"]],\"type\":\"contour\"}],\"contourcarpet\":[{\"colorbar\":{\"outlinewidth\":0,\"ticks\":\"\"},\"type\":\"contourcarpet\"}],\"heatmap\":[{\"colorbar\":{\"outlinewidth\":0,\"ticks\":\"\"},\"colorscale\":[[0.0,\"#0d0887\"],[0.1111111111111111,\"#46039f\"],[0.2222222222222222,\"#7201a8\"],[0.3333333333333333,\"#9c179e\"],[0.4444444444444444,\"#bd3786\"],[0.5555555555555556,\"#d8576b\"],[0.6666666666666666,\"#ed7953\"],[0.7777777777777778,\"#fb9f3a\"],[0.8888888888888888,\"#fdca26\"],[1.0,\"#f0f921\"]],\"type\":\"heatmap\"}],\"heatmapgl\":[{\"colorbar\":{\"outlinewidth\":0,\"ticks\":\"\"},\"colorscale\":[[0.0,\"#0d0887\"],[0.1111111111111111,\"#46039f\"],[0.2222222222222222,\"#7201a8\"],[0.3333333333333333,\"#9c179e\"],[0.4444444444444444,\"#bd3786\"],[0.5555555555555556,\"#d8576b\"],[0.6666666666666666,\"#ed7953\"],[0.7777777777777778,\"#fb9f3a\"],[0.8888888888888888,\"#fdca26\"],[1.0,\"#f0f921\"]],\"type\":\"heatmapgl\"}],\"histogram\":[{\"marker\":{\"pattern\":{\"fillmode\":\"overlay\",\"size\":10,\"solidity\":0.2}},\"type\":\"histogram\"}],\"histogram2d\":[{\"colorbar\":{\"outlinewidth\":0,\"ticks\":\"\"},\"colorscale\":[[0.0,\"#0d0887\"],[0.1111111111111111,\"#46039f\"],[0.2222222222222222,\"#7201a8\"],[0.3333333333333333,\"#9c179e\"],[0.4444444444444444,\"#bd3786\"],[0.5555555555555556,\"#d8576b\"],[0.6666666666666666,\"#ed7953\"],[0.7777777777777778,\"#fb9f3a\"],[0.8888888888888888,\"#fdca26\"],[1.0,\"#f0f921\"]],\"type\":\"histogram2d\"}],\"histogram2dcontour\":[{\"colorbar\":{\"outlinewidth\":0,\"ticks\":\"\"},\"colorscale\":[[0.0,\"#0d0887\"],[0.1111111111111111,\"#46039f\"],[0.2222222222222222,\"#7201a8\"],[0.3333333333333333,\"#9c179e\"],[0.4444444444444444,\"#bd3786\"],[0.5555555555555556,\"#d8576b\"],[0.6666666666666666,\"#ed7953\"],[0.7777777777777778,\"#fb9f3a\"],[0.8888888888888888,\"#fdca26\"],[1.0,\"#f0f921\"]],\"type\":\"histogram2dcontour\"}],\"mesh3d\":[{\"colorbar\":{\"outlinewidth\":0,\"ticks\":\"\"},\"type\":\"mesh3d\"}],\"parcoords\":[{\"line\":{\"colorbar\":{\"outlinewidth\":0,\"ticks\":\"\"}},\"type\":\"parcoords\"}],\"pie\":[{\"automargin\":true,\"type\":\"pie\"}],\"scatter\":[{\"marker\":{\"colorbar\":{\"outlinewidth\":0,\"ticks\":\"\"}},\"type\":\"scatter\"}],\"scatter3d\":[{\"line\":{\"colorbar\":{\"outlinewidth\":0,\"ticks\":\"\"}},\"marker\":{\"colorbar\":{\"outlinewidth\":0,\"ticks\":\"\"}},\"type\":\"scatter3d\"}],\"scattercarpet\":[{\"marker\":{\"colorbar\":{\"outlinewidth\":0,\"ticks\":\"\"}},\"type\":\"scattercarpet\"}],\"scattergeo\":[{\"marker\":{\"colorbar\":{\"outlinewidth\":0,\"ticks\":\"\"}},\"type\":\"scattergeo\"}],\"scattergl\":[{\"marker\":{\"colorbar\":{\"outlinewidth\":0,\"ticks\":\"\"}},\"type\":\"scattergl\"}],\"scattermapbox\":[{\"marker\":{\"colorbar\":{\"outlinewidth\":0,\"ticks\":\"\"}},\"type\":\"scattermapbox\"}],\"scatterpolar\":[{\"marker\":{\"colorbar\":{\"outlinewidth\":0,\"ticks\":\"\"}},\"type\":\"scatterpolar\"}],\"scatterpolargl\":[{\"marker\":{\"colorbar\":{\"outlinewidth\":0,\"ticks\":\"\"}},\"type\":\"scatterpolargl\"}],\"scatterternary\":[{\"marker\":{\"colorbar\":{\"outlinewidth\":0,\"ticks\":\"\"}},\"type\":\"scatterternary\"}],\"surface\":[{\"colorbar\":{\"outlinewidth\":0,\"ticks\":\"\"},\"colorscale\":[[0.0,\"#0d0887\"],[0.1111111111111111,\"#46039f\"],[0.2222222222222222,\"#7201a8\"],[0.3333333333333333,\"#9c179e\"],[0.4444444444444444,\"#bd3786\"],[0.5555555555555556,\"#d8576b\"],[0.6666666666666666,\"#ed7953\"],[0.7777777777777778,\"#fb9f3a\"],[0.8888888888888888,\"#fdca26\"],[1.0,\"#f0f921\"]],\"type\":\"surface\"}],\"table\":[{\"cells\":{\"fill\":{\"color\":\"#EBF0F8\"},\"line\":{\"color\":\"white\"}},\"header\":{\"fill\":{\"color\":\"#C8D4E3\"},\"line\":{\"color\":\"white\"}},\"type\":\"table\"}]},\"layout\":{\"annotationdefaults\":{\"arrowcolor\":\"#2a3f5f\",\"arrowhead\":0,\"arrowwidth\":1},\"autotypenumbers\":\"strict\",\"coloraxis\":{\"colorbar\":{\"outlinewidth\":0,\"ticks\":\"\"}},\"colorscale\":{\"diverging\":[[0,\"#8e0152\"],[0.1,\"#c51b7d\"],[0.2,\"#de77ae\"],[0.3,\"#f1b6da\"],[0.4,\"#fde0ef\"],[0.5,\"#f7f7f7\"],[0.6,\"#e6f5d0\"],[0.7,\"#b8e186\"],[0.8,\"#7fbc41\"],[0.9,\"#4d9221\"],[1,\"#276419\"]],\"sequential\":[[0.0,\"#0d0887\"],[0.1111111111111111,\"#46039f\"],[0.2222222222222222,\"#7201a8\"],[0.3333333333333333,\"#9c179e\"],[0.4444444444444444,\"#bd3786\"],[0.5555555555555556,\"#d8576b\"],[0.6666666666666666,\"#ed7953\"],[0.7777777777777778,\"#fb9f3a\"],[0.8888888888888888,\"#fdca26\"],[1.0,\"#f0f921\"]],\"sequentialminus\":[[0.0,\"#0d0887\"],[0.1111111111111111,\"#46039f\"],[0.2222222222222222,\"#7201a8\"],[0.3333333333333333,\"#9c179e\"],[0.4444444444444444,\"#bd3786\"],[0.5555555555555556,\"#d8576b\"],[0.6666666666666666,\"#ed7953\"],[0.7777777777777778,\"#fb9f3a\"],[0.8888888888888888,\"#fdca26\"],[1.0,\"#f0f921\"]]},\"colorway\":[\"#636efa\",\"#EF553B\",\"#00cc96\",\"#ab63fa\",\"#FFA15A\",\"#19d3f3\",\"#FF6692\",\"#B6E880\",\"#FF97FF\",\"#FECB52\"],\"font\":{\"color\":\"#2a3f5f\"},\"geo\":{\"bgcolor\":\"white\",\"lakecolor\":\"white\",\"landcolor\":\"#E5ECF6\",\"showlakes\":true,\"showland\":true,\"subunitcolor\":\"white\"},\"hoverlabel\":{\"align\":\"left\"},\"hovermode\":\"closest\",\"mapbox\":{\"style\":\"light\"},\"paper_bgcolor\":\"white\",\"plot_bgcolor\":\"#E5ECF6\",\"polar\":{\"angularaxis\":{\"gridcolor\":\"white\",\"linecolor\":\"white\",\"ticks\":\"\"},\"bgcolor\":\"#E5ECF6\",\"radialaxis\":{\"gridcolor\":\"white\",\"linecolor\":\"white\",\"ticks\":\"\"}},\"scene\":{\"xaxis\":{\"backgroundcolor\":\"#E5ECF6\",\"gridcolor\":\"white\",\"gridwidth\":2,\"linecolor\":\"white\",\"showbackground\":true,\"ticks\":\"\",\"zerolinecolor\":\"white\"},\"yaxis\":{\"backgroundcolor\":\"#E5ECF6\",\"gridcolor\":\"white\",\"gridwidth\":2,\"linecolor\":\"white\",\"showbackground\":true,\"ticks\":\"\",\"zerolinecolor\":\"white\"},\"zaxis\":{\"backgroundcolor\":\"#E5ECF6\",\"gridcolor\":\"white\",\"gridwidth\":2,\"linecolor\":\"white\",\"showbackground\":true,\"ticks\":\"\",\"zerolinecolor\":\"white\"}},\"shapedefaults\":{\"line\":{\"color\":\"#2a3f5f\"}},\"ternary\":{\"aaxis\":{\"gridcolor\":\"white\",\"linecolor\":\"white\",\"ticks\":\"\"},\"baxis\":{\"gridcolor\":\"white\",\"linecolor\":\"white\",\"ticks\":\"\"},\"bgcolor\":\"#E5ECF6\",\"caxis\":{\"gridcolor\":\"white\",\"linecolor\":\"white\",\"ticks\":\"\"}},\"title\":{\"x\":0.05},\"xaxis\":{\"automargin\":true,\"gridcolor\":\"white\",\"linecolor\":\"white\",\"ticks\":\"\",\"title\":{\"standoff\":15},\"zerolinecolor\":\"white\",\"zerolinewidth\":2},\"yaxis\":{\"automargin\":true,\"gridcolor\":\"white\",\"linecolor\":\"white\",\"ticks\":\"\",\"title\":{\"standoff\":15},\"zerolinecolor\":\"white\",\"zerolinewidth\":2}}},\"coloraxis\":{\"colorbar\":{\"title\":{\"text\":\"ave_score_bescods\"}},\"colorscale\":[[0.0,\"rgb(103,0,31)\"],[0.1,\"rgb(178,24,43)\"],[0.2,\"rgb(214,96,77)\"],[0.3,\"rgb(244,165,130)\"],[0.4,\"rgb(253,219,199)\"],[0.5,\"rgb(247,247,247)\"],[0.6,\"rgb(209,229,240)\"],[0.7,\"rgb(146,197,222)\"],[0.8,\"rgb(67,147,195)\"],[0.9,\"rgb(33,102,172)\"],[1.0,\"rgb(5,48,97)\"]],\"cmid\":153.409394703657},\"legend\":{\"tracegroupgap\":0},\"margin\":{\"t\":50,\"l\":25,\"r\":25,\"b\":25},\"title\":{\"text\":\"R1 Structures: Frequency and Impact on Score Relative to All Factions Average (153.41): bescods\"}},                        {\"responsive\": true}                    ).then(function(){\n",
       "                            \n",
       "var gd = document.getElementById('252e5083-fdde-41bc-ab61-f3d6a515f40a');\n",
       "var x = new MutationObserver(function (mutations, observer) {{\n",
       "        var display = window.getComputedStyle(gd).display;\n",
       "        if (!display || display === 'none') {{\n",
       "            console.log([gd, 'removed!']);\n",
       "            Plotly.purge(gd);\n",
       "            observer.disconnect();\n",
       "        }}\n",
       "}});\n",
       "\n",
       "// Listen for the removal of the full notebook cells\n",
       "var notebookContainer = gd.closest('#notebook-container');\n",
       "if (notebookContainer) {{\n",
       "    x.observe(notebookContainer, {childList: true});\n",
       "}}\n",
       "\n",
       "// Listen for the clearing of the current output cell\n",
       "var outputEl = gd.closest('.output');\n",
       "if (outputEl) {{\n",
       "    x.observe(outputEl, {childList: true});\n",
       "}}\n",
       "\n",
       "                        })                };                });            </script>        </div>"
      ]
     },
     "metadata": {},
     "output_type": "display_data"
    },
    {
     "data": {
      "application/vnd.plotly.v1+json": {
       "config": {
        "plotlyServerURL": "https://plot.ly"
       },
       "data": [
        {
         "branchvalues": "total",
         "customdata": [
          [
           161.47368421052633,
           135.47368421052633
          ],
          [
           186.66666666666666,
           139.66666666666666
          ],
          [
           302,
           138
          ],
          [
           149.28571428571428,
           131.71428571428572
          ],
          [
           178.42857142857142,
           147.71428571428572
          ],
          [
           230.52830188679246,
           151.26415094339623
          ],
          [
           166.4,
           129.8
          ],
          [
           232.16666666666666,
           125.83333333333333
          ],
          [
           226.41666666666666,
           134.25
          ],
          [
           190,
           146
          ],
          [
           190.12359550561797,
           141.5056179775281
          ],
          [
           188.5,
           150.27272727272728
          ],
          [
           133,
           151
          ],
          [
           138,
           176
          ],
          [
           146.16666666666666,
           161.16666666666666
          ],
          [
           254.6103896103896,
           149.53246753246754
          ],
          [
           198.2051282051282,
           144.07692307692307
          ],
          [
           149.03846153846155,
           138.23076923076923
          ],
          [
           115,
           123
          ],
          [
           215.10619469026548,
           149.20353982300884
          ],
          [
           227.83333333333334,
           152.30555555555554
          ],
          [
           139,
           163
          ],
          [
           158,
           140.85714285714286
          ],
          [
           190.72666666666666,
           137.68666666666667
          ],
          [
           185.71428571428572,
           122.14285714285714
          ],
          [
           258.5,
           165
          ],
          [
           145.33333333333334,
           144.66666666666666
          ],
          [
           346,
           125
          ],
          [
           235.54871794871795,
           160.96410256410257
          ],
          [
           199.71428571428572,
           161.14285714285714
          ],
          [
           157,
           162
          ],
          [
           243.9047619047619,
           163.33333333333334
          ],
          [
           139.44444444444446,
           154.77777777777777
          ],
          [
           244,
           193
          ],
          [
           "(?)",
           147.375
          ],
          [
           "(?)",
           149.75912408759123
          ],
          [
           "(?)",
           150.93333333333334
          ],
          [
           "(?)",
           145.7709923664122
          ],
          [
           157,
           162
          ],
          [
           "(?)",
           155
          ],
          [
           "(?)",
           147.56438356164384
          ]
         ],
         "domain": {
          "x": [
           0,
           1
          ],
          "y": [
           0,
           1
          ]
         },
         "hovertemplate": "labels=%{label}<br>class_counts=%{value}<br>parent=%{parent}<br>id=%{id}<br>ave_elo_geodens=%{customdata[0]}<br>ave_score_geodens=%{color}<extra></extra>",
         "ids": [
          "R1 Structures: Frequency and Overall Score for geodens/PI/ 0-m_0-ts_1-lab_1-pi_0-ac1_0-ac2",
          "R1 Structures: Frequency and Overall Score for geodens/lab/ 0-m_0-ts_2-lab_0-pi_0-ac1_0-ac2",
          "R1 Structures: Frequency and Overall Score for geodens/ac2/ 0-m_1-ts_0-lab_0-pi_0-ac1_1-ac2",
          "R1 Structures: Frequency and Overall Score for geodens/lab/ 0-m_1-ts_1-lab_0-pi_0-ac1_0-ac2",
          "R1 Structures: Frequency and Overall Score for geodens/ac2/ 1-m_0-ts_0-lab_0-pi_0-ac1_1-ac2",
          "R1 Structures: Frequency and Overall Score for geodens/ac1/ 1-m_0-ts_0-lab_0-pi_1-ac1_0-ac2",
          "R1 Structures: Frequency and Overall Score for geodens/PI/ 1-m_0-ts_0-lab_1-pi_0-ac1_0-ac2",
          "R1 Structures: Frequency and Overall Score for geodens/lab/ 1-m_0-ts_1-lab_0-pi_0-ac1_0-ac2",
          "R1 Structures: Frequency and Overall Score for geodens/PI/ 1-m_0-ts_1-lab_1-pi_0-ac1_0-ac2",
          "R1 Structures: Frequency and Overall Score for geodens/lab/ 1-m_0-ts_2-lab_0-pi_0-ac1_0-ac2",
          "R1 Structures: Frequency and Overall Score for geodens/PI/ 1-m_1-ts_0-lab_1-pi_0-ac1_0-ac2",
          "R1 Structures: Frequency and Overall Score for geodens/lab/ 1-m_1-ts_1-lab_0-pi_0-ac1_0-ac2",
          "R1 Structures: Frequency and Overall Score for geodens/ts/ 1-m_2-ts_0-lab_0-pi_0-ac1_0-ac2",
          "R1 Structures: Frequency and Overall Score for geodens/lab/ 1-m_2-ts_1-lab_0-pi_0-ac1_0-ac2",
          "R1 Structures: Frequency and Overall Score for geodens/ac2/ 2-m_0-ts_0-lab_0-pi_0-ac1_1-ac2",
          "R1 Structures: Frequency and Overall Score for geodens/ac1/ 2-m_0-ts_0-lab_0-pi_1-ac1_0-ac2",
          "R1 Structures: Frequency and Overall Score for geodens/PI/ 2-m_0-ts_0-lab_1-pi_0-ac1_0-ac2",
          "R1 Structures: Frequency and Overall Score for geodens/lab/ 2-m_0-ts_1-lab_0-pi_0-ac1_0-ac2",
          "R1 Structures: Frequency and Overall Score for geodens/PI/ 2-m_0-ts_1-lab_1-pi_0-ac1_0-ac2",
          "R1 Structures: Frequency and Overall Score for geodens/PI/ 2-m_1-ts_0-lab_1-pi_0-ac1_0-ac2",
          "R1 Structures: Frequency and Overall Score for geodens/lab/ 2-m_1-ts_1-lab_0-pi_0-ac1_0-ac2",
          "R1 Structures: Frequency and Overall Score for geodens/ts/ 2-m_2-ts_0-lab_0-pi_0-ac1_0-ac2",
          "R1 Structures: Frequency and Overall Score for geodens/ac1/ 3-m_0-ts_0-lab_0-pi_1-ac1_0-ac2",
          "R1 Structures: Frequency and Overall Score for geodens/PI/ 3-m_0-ts_0-lab_1-pi_0-ac1_0-ac2",
          "R1 Structures: Frequency and Overall Score for geodens/lab/ 3-m_0-ts_1-lab_0-pi_0-ac1_0-ac2",
          "R1 Structures: Frequency and Overall Score for geodens/PI/ 3-m_1-ts_0-lab_1-pi_0-ac1_0-ac2",
          "R1 Structures: Frequency and Overall Score for geodens/lab/ 3-m_1-ts_1-lab_0-pi_0-ac1_0-ac2",
          "R1 Structures: Frequency and Overall Score for geodens/ac2/ 4-m_0-ts_0-lab_0-pi_0-ac1_1-ac2",
          "R1 Structures: Frequency and Overall Score for geodens/PI/ 4-m_0-ts_0-lab_1-pi_0-ac1_0-ac2",
          "R1 Structures: Frequency and Overall Score for geodens/lab/ 4-m_0-ts_1-lab_0-pi_0-ac1_0-ac2",
          "R1 Structures: Frequency and Overall Score for geodens/m/ 5-m_0-ts_0-lab_0-pi_0-ac1_0-ac2",
          "R1 Structures: Frequency and Overall Score for geodens/PI/ 5-m_0-ts_0-lab_1-pi_0-ac1_0-ac2",
          "R1 Structures: Frequency and Overall Score for geodens/lab/ 5-m_0-ts_1-lab_0-pi_0-ac1_0-ac2",
          "R1 Structures: Frequency and Overall Score for geodens/lab/ 6-m_0-ts_1-lab_0-pi_0-ac1_0-ac2",
          "R1 Structures: Frequency and Overall Score for geodens/PI",
          "R1 Structures: Frequency and Overall Score for geodens/ac1",
          "R1 Structures: Frequency and Overall Score for geodens/ac2",
          "R1 Structures: Frequency and Overall Score for geodens/lab",
          "R1 Structures: Frequency and Overall Score for geodens/m",
          "R1 Structures: Frequency and Overall Score for geodens/ts",
          "R1 Structures: Frequency and Overall Score for geodens"
         ],
         "labels": [
          " 0-m_0-ts_1-lab_1-pi_0-ac1_0-ac2",
          " 0-m_0-ts_2-lab_0-pi_0-ac1_0-ac2",
          " 0-m_1-ts_0-lab_0-pi_0-ac1_1-ac2",
          " 0-m_1-ts_1-lab_0-pi_0-ac1_0-ac2",
          " 1-m_0-ts_0-lab_0-pi_0-ac1_1-ac2",
          " 1-m_0-ts_0-lab_0-pi_1-ac1_0-ac2",
          " 1-m_0-ts_0-lab_1-pi_0-ac1_0-ac2",
          " 1-m_0-ts_1-lab_0-pi_0-ac1_0-ac2",
          " 1-m_0-ts_1-lab_1-pi_0-ac1_0-ac2",
          " 1-m_0-ts_2-lab_0-pi_0-ac1_0-ac2",
          " 1-m_1-ts_0-lab_1-pi_0-ac1_0-ac2",
          " 1-m_1-ts_1-lab_0-pi_0-ac1_0-ac2",
          " 1-m_2-ts_0-lab_0-pi_0-ac1_0-ac2",
          " 1-m_2-ts_1-lab_0-pi_0-ac1_0-ac2",
          " 2-m_0-ts_0-lab_0-pi_0-ac1_1-ac2",
          " 2-m_0-ts_0-lab_0-pi_1-ac1_0-ac2",
          " 2-m_0-ts_0-lab_1-pi_0-ac1_0-ac2",
          " 2-m_0-ts_1-lab_0-pi_0-ac1_0-ac2",
          " 2-m_0-ts_1-lab_1-pi_0-ac1_0-ac2",
          " 2-m_1-ts_0-lab_1-pi_0-ac1_0-ac2",
          " 2-m_1-ts_1-lab_0-pi_0-ac1_0-ac2",
          " 2-m_2-ts_0-lab_0-pi_0-ac1_0-ac2",
          " 3-m_0-ts_0-lab_0-pi_1-ac1_0-ac2",
          " 3-m_0-ts_0-lab_1-pi_0-ac1_0-ac2",
          " 3-m_0-ts_1-lab_0-pi_0-ac1_0-ac2",
          " 3-m_1-ts_0-lab_1-pi_0-ac1_0-ac2",
          " 3-m_1-ts_1-lab_0-pi_0-ac1_0-ac2",
          " 4-m_0-ts_0-lab_0-pi_0-ac1_1-ac2",
          " 4-m_0-ts_0-lab_1-pi_0-ac1_0-ac2",
          " 4-m_0-ts_1-lab_0-pi_0-ac1_0-ac2",
          " 5-m_0-ts_0-lab_0-pi_0-ac1_0-ac2",
          " 5-m_0-ts_0-lab_1-pi_0-ac1_0-ac2",
          " 5-m_0-ts_1-lab_0-pi_0-ac1_0-ac2",
          " 6-m_0-ts_1-lab_0-pi_0-ac1_0-ac2",
          "PI",
          "ac1",
          "ac2",
          "lab",
          "m",
          "ts",
          "R1 Structures: Frequency and Overall Score for geodens"
         ],
         "marker": {
          "coloraxis": "coloraxis",
          "colors": [
           135.47368421052633,
           139.66666666666666,
           138,
           131.71428571428572,
           147.71428571428572,
           151.26415094339623,
           129.8,
           125.83333333333333,
           134.25,
           146,
           141.5056179775281,
           150.27272727272728,
           151,
           176,
           161.16666666666666,
           149.53246753246754,
           144.07692307692307,
           138.23076923076923,
           123,
           149.20353982300884,
           152.30555555555554,
           163,
           140.85714285714286,
           137.68666666666667,
           122.14285714285714,
           165,
           144.66666666666666,
           125,
           160.96410256410257,
           161.14285714285714,
           162,
           163.33333333333334,
           154.77777777777777,
           193,
           147.375,
           149.75912408759123,
           150.93333333333334,
           145.7709923664122,
           162,
           155,
           147.56438356164384
          ]
         },
         "name": "",
         "parents": [
          "R1 Structures: Frequency and Overall Score for geodens/PI",
          "R1 Structures: Frequency and Overall Score for geodens/lab",
          "R1 Structures: Frequency and Overall Score for geodens/ac2",
          "R1 Structures: Frequency and Overall Score for geodens/lab",
          "R1 Structures: Frequency and Overall Score for geodens/ac2",
          "R1 Structures: Frequency and Overall Score for geodens/ac1",
          "R1 Structures: Frequency and Overall Score for geodens/PI",
          "R1 Structures: Frequency and Overall Score for geodens/lab",
          "R1 Structures: Frequency and Overall Score for geodens/PI",
          "R1 Structures: Frequency and Overall Score for geodens/lab",
          "R1 Structures: Frequency and Overall Score for geodens/PI",
          "R1 Structures: Frequency and Overall Score for geodens/lab",
          "R1 Structures: Frequency and Overall Score for geodens/ts",
          "R1 Structures: Frequency and Overall Score for geodens/lab",
          "R1 Structures: Frequency and Overall Score for geodens/ac2",
          "R1 Structures: Frequency and Overall Score for geodens/ac1",
          "R1 Structures: Frequency and Overall Score for geodens/PI",
          "R1 Structures: Frequency and Overall Score for geodens/lab",
          "R1 Structures: Frequency and Overall Score for geodens/PI",
          "R1 Structures: Frequency and Overall Score for geodens/PI",
          "R1 Structures: Frequency and Overall Score for geodens/lab",
          "R1 Structures: Frequency and Overall Score for geodens/ts",
          "R1 Structures: Frequency and Overall Score for geodens/ac1",
          "R1 Structures: Frequency and Overall Score for geodens/PI",
          "R1 Structures: Frequency and Overall Score for geodens/lab",
          "R1 Structures: Frequency and Overall Score for geodens/PI",
          "R1 Structures: Frequency and Overall Score for geodens/lab",
          "R1 Structures: Frequency and Overall Score for geodens/ac2",
          "R1 Structures: Frequency and Overall Score for geodens/PI",
          "R1 Structures: Frequency and Overall Score for geodens/lab",
          "R1 Structures: Frequency and Overall Score for geodens/m",
          "R1 Structures: Frequency and Overall Score for geodens/PI",
          "R1 Structures: Frequency and Overall Score for geodens/lab",
          "R1 Structures: Frequency and Overall Score for geodens/lab",
          "R1 Structures: Frequency and Overall Score for geodens",
          "R1 Structures: Frequency and Overall Score for geodens",
          "R1 Structures: Frequency and Overall Score for geodens",
          "R1 Structures: Frequency and Overall Score for geodens",
          "R1 Structures: Frequency and Overall Score for geodens",
          "R1 Structures: Frequency and Overall Score for geodens",
          ""
         ],
         "type": "treemap",
         "values": [
          19,
          3,
          1,
          7,
          7,
          53,
          10,
          6,
          12,
          3,
          89,
          22,
          2,
          1,
          6,
          77,
          195,
          26,
          2,
          113,
          36,
          1,
          7,
          150,
          7,
          2,
          3,
          1,
          195,
          7,
          1,
          21,
          9,
          1,
          808,
          137,
          15,
          131,
          1,
          3,
          1095
         ]
        }
       ],
       "layout": {
        "coloraxis": {
         "cmid": 153.409394703657,
         "colorbar": {
          "title": {
           "text": "ave_score_geodens"
          }
         },
         "colorscale": [
          [
           0,
           "rgb(103,0,31)"
          ],
          [
           0.1,
           "rgb(178,24,43)"
          ],
          [
           0.2,
           "rgb(214,96,77)"
          ],
          [
           0.3,
           "rgb(244,165,130)"
          ],
          [
           0.4,
           "rgb(253,219,199)"
          ],
          [
           0.5,
           "rgb(247,247,247)"
          ],
          [
           0.6,
           "rgb(209,229,240)"
          ],
          [
           0.7,
           "rgb(146,197,222)"
          ],
          [
           0.8,
           "rgb(67,147,195)"
          ],
          [
           0.9,
           "rgb(33,102,172)"
          ],
          [
           1,
           "rgb(5,48,97)"
          ]
         ]
        },
        "legend": {
         "tracegroupgap": 0
        },
        "margin": {
         "b": 25,
         "l": 25,
         "r": 25,
         "t": 50
        },
        "template": {
         "data": {
          "bar": [
           {
            "error_x": {
             "color": "#2a3f5f"
            },
            "error_y": {
             "color": "#2a3f5f"
            },
            "marker": {
             "line": {
              "color": "#E5ECF6",
              "width": 0.5
             },
             "pattern": {
              "fillmode": "overlay",
              "size": 10,
              "solidity": 0.2
             }
            },
            "type": "bar"
           }
          ],
          "barpolar": [
           {
            "marker": {
             "line": {
              "color": "#E5ECF6",
              "width": 0.5
             },
             "pattern": {
              "fillmode": "overlay",
              "size": 10,
              "solidity": 0.2
             }
            },
            "type": "barpolar"
           }
          ],
          "carpet": [
           {
            "aaxis": {
             "endlinecolor": "#2a3f5f",
             "gridcolor": "white",
             "linecolor": "white",
             "minorgridcolor": "white",
             "startlinecolor": "#2a3f5f"
            },
            "baxis": {
             "endlinecolor": "#2a3f5f",
             "gridcolor": "white",
             "linecolor": "white",
             "minorgridcolor": "white",
             "startlinecolor": "#2a3f5f"
            },
            "type": "carpet"
           }
          ],
          "choropleth": [
           {
            "colorbar": {
             "outlinewidth": 0,
             "ticks": ""
            },
            "type": "choropleth"
           }
          ],
          "contour": [
           {
            "colorbar": {
             "outlinewidth": 0,
             "ticks": ""
            },
            "colorscale": [
             [
              0,
              "#0d0887"
             ],
             [
              0.1111111111111111,
              "#46039f"
             ],
             [
              0.2222222222222222,
              "#7201a8"
             ],
             [
              0.3333333333333333,
              "#9c179e"
             ],
             [
              0.4444444444444444,
              "#bd3786"
             ],
             [
              0.5555555555555556,
              "#d8576b"
             ],
             [
              0.6666666666666666,
              "#ed7953"
             ],
             [
              0.7777777777777778,
              "#fb9f3a"
             ],
             [
              0.8888888888888888,
              "#fdca26"
             ],
             [
              1,
              "#f0f921"
             ]
            ],
            "type": "contour"
           }
          ],
          "contourcarpet": [
           {
            "colorbar": {
             "outlinewidth": 0,
             "ticks": ""
            },
            "type": "contourcarpet"
           }
          ],
          "heatmap": [
           {
            "colorbar": {
             "outlinewidth": 0,
             "ticks": ""
            },
            "colorscale": [
             [
              0,
              "#0d0887"
             ],
             [
              0.1111111111111111,
              "#46039f"
             ],
             [
              0.2222222222222222,
              "#7201a8"
             ],
             [
              0.3333333333333333,
              "#9c179e"
             ],
             [
              0.4444444444444444,
              "#bd3786"
             ],
             [
              0.5555555555555556,
              "#d8576b"
             ],
             [
              0.6666666666666666,
              "#ed7953"
             ],
             [
              0.7777777777777778,
              "#fb9f3a"
             ],
             [
              0.8888888888888888,
              "#fdca26"
             ],
             [
              1,
              "#f0f921"
             ]
            ],
            "type": "heatmap"
           }
          ],
          "heatmapgl": [
           {
            "colorbar": {
             "outlinewidth": 0,
             "ticks": ""
            },
            "colorscale": [
             [
              0,
              "#0d0887"
             ],
             [
              0.1111111111111111,
              "#46039f"
             ],
             [
              0.2222222222222222,
              "#7201a8"
             ],
             [
              0.3333333333333333,
              "#9c179e"
             ],
             [
              0.4444444444444444,
              "#bd3786"
             ],
             [
              0.5555555555555556,
              "#d8576b"
             ],
             [
              0.6666666666666666,
              "#ed7953"
             ],
             [
              0.7777777777777778,
              "#fb9f3a"
             ],
             [
              0.8888888888888888,
              "#fdca26"
             ],
             [
              1,
              "#f0f921"
             ]
            ],
            "type": "heatmapgl"
           }
          ],
          "histogram": [
           {
            "marker": {
             "pattern": {
              "fillmode": "overlay",
              "size": 10,
              "solidity": 0.2
             }
            },
            "type": "histogram"
           }
          ],
          "histogram2d": [
           {
            "colorbar": {
             "outlinewidth": 0,
             "ticks": ""
            },
            "colorscale": [
             [
              0,
              "#0d0887"
             ],
             [
              0.1111111111111111,
              "#46039f"
             ],
             [
              0.2222222222222222,
              "#7201a8"
             ],
             [
              0.3333333333333333,
              "#9c179e"
             ],
             [
              0.4444444444444444,
              "#bd3786"
             ],
             [
              0.5555555555555556,
              "#d8576b"
             ],
             [
              0.6666666666666666,
              "#ed7953"
             ],
             [
              0.7777777777777778,
              "#fb9f3a"
             ],
             [
              0.8888888888888888,
              "#fdca26"
             ],
             [
              1,
              "#f0f921"
             ]
            ],
            "type": "histogram2d"
           }
          ],
          "histogram2dcontour": [
           {
            "colorbar": {
             "outlinewidth": 0,
             "ticks": ""
            },
            "colorscale": [
             [
              0,
              "#0d0887"
             ],
             [
              0.1111111111111111,
              "#46039f"
             ],
             [
              0.2222222222222222,
              "#7201a8"
             ],
             [
              0.3333333333333333,
              "#9c179e"
             ],
             [
              0.4444444444444444,
              "#bd3786"
             ],
             [
              0.5555555555555556,
              "#d8576b"
             ],
             [
              0.6666666666666666,
              "#ed7953"
             ],
             [
              0.7777777777777778,
              "#fb9f3a"
             ],
             [
              0.8888888888888888,
              "#fdca26"
             ],
             [
              1,
              "#f0f921"
             ]
            ],
            "type": "histogram2dcontour"
           }
          ],
          "mesh3d": [
           {
            "colorbar": {
             "outlinewidth": 0,
             "ticks": ""
            },
            "type": "mesh3d"
           }
          ],
          "parcoords": [
           {
            "line": {
             "colorbar": {
              "outlinewidth": 0,
              "ticks": ""
             }
            },
            "type": "parcoords"
           }
          ],
          "pie": [
           {
            "automargin": true,
            "type": "pie"
           }
          ],
          "scatter": [
           {
            "marker": {
             "colorbar": {
              "outlinewidth": 0,
              "ticks": ""
             }
            },
            "type": "scatter"
           }
          ],
          "scatter3d": [
           {
            "line": {
             "colorbar": {
              "outlinewidth": 0,
              "ticks": ""
             }
            },
            "marker": {
             "colorbar": {
              "outlinewidth": 0,
              "ticks": ""
             }
            },
            "type": "scatter3d"
           }
          ],
          "scattercarpet": [
           {
            "marker": {
             "colorbar": {
              "outlinewidth": 0,
              "ticks": ""
             }
            },
            "type": "scattercarpet"
           }
          ],
          "scattergeo": [
           {
            "marker": {
             "colorbar": {
              "outlinewidth": 0,
              "ticks": ""
             }
            },
            "type": "scattergeo"
           }
          ],
          "scattergl": [
           {
            "marker": {
             "colorbar": {
              "outlinewidth": 0,
              "ticks": ""
             }
            },
            "type": "scattergl"
           }
          ],
          "scattermapbox": [
           {
            "marker": {
             "colorbar": {
              "outlinewidth": 0,
              "ticks": ""
             }
            },
            "type": "scattermapbox"
           }
          ],
          "scatterpolar": [
           {
            "marker": {
             "colorbar": {
              "outlinewidth": 0,
              "ticks": ""
             }
            },
            "type": "scatterpolar"
           }
          ],
          "scatterpolargl": [
           {
            "marker": {
             "colorbar": {
              "outlinewidth": 0,
              "ticks": ""
             }
            },
            "type": "scatterpolargl"
           }
          ],
          "scatterternary": [
           {
            "marker": {
             "colorbar": {
              "outlinewidth": 0,
              "ticks": ""
             }
            },
            "type": "scatterternary"
           }
          ],
          "surface": [
           {
            "colorbar": {
             "outlinewidth": 0,
             "ticks": ""
            },
            "colorscale": [
             [
              0,
              "#0d0887"
             ],
             [
              0.1111111111111111,
              "#46039f"
             ],
             [
              0.2222222222222222,
              "#7201a8"
             ],
             [
              0.3333333333333333,
              "#9c179e"
             ],
             [
              0.4444444444444444,
              "#bd3786"
             ],
             [
              0.5555555555555556,
              "#d8576b"
             ],
             [
              0.6666666666666666,
              "#ed7953"
             ],
             [
              0.7777777777777778,
              "#fb9f3a"
             ],
             [
              0.8888888888888888,
              "#fdca26"
             ],
             [
              1,
              "#f0f921"
             ]
            ],
            "type": "surface"
           }
          ],
          "table": [
           {
            "cells": {
             "fill": {
              "color": "#EBF0F8"
             },
             "line": {
              "color": "white"
             }
            },
            "header": {
             "fill": {
              "color": "#C8D4E3"
             },
             "line": {
              "color": "white"
             }
            },
            "type": "table"
           }
          ]
         },
         "layout": {
          "annotationdefaults": {
           "arrowcolor": "#2a3f5f",
           "arrowhead": 0,
           "arrowwidth": 1
          },
          "autotypenumbers": "strict",
          "coloraxis": {
           "colorbar": {
            "outlinewidth": 0,
            "ticks": ""
           }
          },
          "colorscale": {
           "diverging": [
            [
             0,
             "#8e0152"
            ],
            [
             0.1,
             "#c51b7d"
            ],
            [
             0.2,
             "#de77ae"
            ],
            [
             0.3,
             "#f1b6da"
            ],
            [
             0.4,
             "#fde0ef"
            ],
            [
             0.5,
             "#f7f7f7"
            ],
            [
             0.6,
             "#e6f5d0"
            ],
            [
             0.7,
             "#b8e186"
            ],
            [
             0.8,
             "#7fbc41"
            ],
            [
             0.9,
             "#4d9221"
            ],
            [
             1,
             "#276419"
            ]
           ],
           "sequential": [
            [
             0,
             "#0d0887"
            ],
            [
             0.1111111111111111,
             "#46039f"
            ],
            [
             0.2222222222222222,
             "#7201a8"
            ],
            [
             0.3333333333333333,
             "#9c179e"
            ],
            [
             0.4444444444444444,
             "#bd3786"
            ],
            [
             0.5555555555555556,
             "#d8576b"
            ],
            [
             0.6666666666666666,
             "#ed7953"
            ],
            [
             0.7777777777777778,
             "#fb9f3a"
            ],
            [
             0.8888888888888888,
             "#fdca26"
            ],
            [
             1,
             "#f0f921"
            ]
           ],
           "sequentialminus": [
            [
             0,
             "#0d0887"
            ],
            [
             0.1111111111111111,
             "#46039f"
            ],
            [
             0.2222222222222222,
             "#7201a8"
            ],
            [
             0.3333333333333333,
             "#9c179e"
            ],
            [
             0.4444444444444444,
             "#bd3786"
            ],
            [
             0.5555555555555556,
             "#d8576b"
            ],
            [
             0.6666666666666666,
             "#ed7953"
            ],
            [
             0.7777777777777778,
             "#fb9f3a"
            ],
            [
             0.8888888888888888,
             "#fdca26"
            ],
            [
             1,
             "#f0f921"
            ]
           ]
          },
          "colorway": [
           "#636efa",
           "#EF553B",
           "#00cc96",
           "#ab63fa",
           "#FFA15A",
           "#19d3f3",
           "#FF6692",
           "#B6E880",
           "#FF97FF",
           "#FECB52"
          ],
          "font": {
           "color": "#2a3f5f"
          },
          "geo": {
           "bgcolor": "white",
           "lakecolor": "white",
           "landcolor": "#E5ECF6",
           "showlakes": true,
           "showland": true,
           "subunitcolor": "white"
          },
          "hoverlabel": {
           "align": "left"
          },
          "hovermode": "closest",
          "mapbox": {
           "style": "light"
          },
          "paper_bgcolor": "white",
          "plot_bgcolor": "#E5ECF6",
          "polar": {
           "angularaxis": {
            "gridcolor": "white",
            "linecolor": "white",
            "ticks": ""
           },
           "bgcolor": "#E5ECF6",
           "radialaxis": {
            "gridcolor": "white",
            "linecolor": "white",
            "ticks": ""
           }
          },
          "scene": {
           "xaxis": {
            "backgroundcolor": "#E5ECF6",
            "gridcolor": "white",
            "gridwidth": 2,
            "linecolor": "white",
            "showbackground": true,
            "ticks": "",
            "zerolinecolor": "white"
           },
           "yaxis": {
            "backgroundcolor": "#E5ECF6",
            "gridcolor": "white",
            "gridwidth": 2,
            "linecolor": "white",
            "showbackground": true,
            "ticks": "",
            "zerolinecolor": "white"
           },
           "zaxis": {
            "backgroundcolor": "#E5ECF6",
            "gridcolor": "white",
            "gridwidth": 2,
            "linecolor": "white",
            "showbackground": true,
            "ticks": "",
            "zerolinecolor": "white"
           }
          },
          "shapedefaults": {
           "line": {
            "color": "#2a3f5f"
           }
          },
          "ternary": {
           "aaxis": {
            "gridcolor": "white",
            "linecolor": "white",
            "ticks": ""
           },
           "baxis": {
            "gridcolor": "white",
            "linecolor": "white",
            "ticks": ""
           },
           "bgcolor": "#E5ECF6",
           "caxis": {
            "gridcolor": "white",
            "linecolor": "white",
            "ticks": ""
           }
          },
          "title": {
           "x": 0.05
          },
          "xaxis": {
           "automargin": true,
           "gridcolor": "white",
           "linecolor": "white",
           "ticks": "",
           "title": {
            "standoff": 15
           },
           "zerolinecolor": "white",
           "zerolinewidth": 2
          },
          "yaxis": {
           "automargin": true,
           "gridcolor": "white",
           "linecolor": "white",
           "ticks": "",
           "title": {
            "standoff": 15
           },
           "zerolinecolor": "white",
           "zerolinewidth": 2
          }
         }
        },
        "title": {
         "text": "R1 Structures: Frequency and Impact on Score Relative to All Factions Average (153.41): geodens"
        }
       }
      },
      "text/html": [
       "<div>                            <div id=\"9b06d9eb-d591-4072-84ee-6e7bca17c132\" class=\"plotly-graph-div\" style=\"height:525px; width:100%;\"></div>            <script type=\"text/javascript\">                require([\"plotly\"], function(Plotly) {                    window.PLOTLYENV=window.PLOTLYENV || {};                                    if (document.getElementById(\"9b06d9eb-d591-4072-84ee-6e7bca17c132\")) {                    Plotly.newPlot(                        \"9b06d9eb-d591-4072-84ee-6e7bca17c132\",                        [{\"branchvalues\":\"total\",\"customdata\":[[161.47368421052633,135.47368421052633],[186.66666666666666,139.66666666666666],[302.0,138.0],[149.28571428571428,131.71428571428572],[178.42857142857142,147.71428571428572],[230.52830188679246,151.26415094339623],[166.4,129.8],[232.16666666666666,125.83333333333333],[226.41666666666666,134.25],[190.0,146.0],[190.12359550561797,141.5056179775281],[188.5,150.27272727272728],[133.0,151.0],[138.0,176.0],[146.16666666666666,161.16666666666666],[254.6103896103896,149.53246753246754],[198.2051282051282,144.07692307692307],[149.03846153846155,138.23076923076923],[115.0,123.0],[215.10619469026548,149.20353982300884],[227.83333333333334,152.30555555555554],[139.0,163.0],[158.0,140.85714285714286],[190.72666666666666,137.68666666666667],[185.71428571428572,122.14285714285714],[258.5,165.0],[145.33333333333334,144.66666666666666],[346.0,125.0],[235.54871794871795,160.96410256410257],[199.71428571428572,161.14285714285714],[157.0,162.0],[243.9047619047619,163.33333333333334],[139.44444444444446,154.77777777777777],[244.0,193.0],[\"(?)\",147.375],[\"(?)\",149.75912408759123],[\"(?)\",150.93333333333334],[\"(?)\",145.7709923664122],[157.0,162.0],[\"(?)\",155.0],[\"(?)\",147.56438356164384]],\"domain\":{\"x\":[0.0,1.0],\"y\":[0.0,1.0]},\"hovertemplate\":\"labels=%{label}<br>class_counts=%{value}<br>parent=%{parent}<br>id=%{id}<br>ave_elo_geodens=%{customdata[0]}<br>ave_score_geodens=%{color}<extra></extra>\",\"ids\":[\"R1 Structures: Frequency and Overall Score for geodens/PI/ 0-m_0-ts_1-lab_1-pi_0-ac1_0-ac2\",\"R1 Structures: Frequency and Overall Score for geodens/lab/ 0-m_0-ts_2-lab_0-pi_0-ac1_0-ac2\",\"R1 Structures: Frequency and Overall Score for geodens/ac2/ 0-m_1-ts_0-lab_0-pi_0-ac1_1-ac2\",\"R1 Structures: Frequency and Overall Score for geodens/lab/ 0-m_1-ts_1-lab_0-pi_0-ac1_0-ac2\",\"R1 Structures: Frequency and Overall Score for geodens/ac2/ 1-m_0-ts_0-lab_0-pi_0-ac1_1-ac2\",\"R1 Structures: Frequency and Overall Score for geodens/ac1/ 1-m_0-ts_0-lab_0-pi_1-ac1_0-ac2\",\"R1 Structures: Frequency and Overall Score for geodens/PI/ 1-m_0-ts_0-lab_1-pi_0-ac1_0-ac2\",\"R1 Structures: Frequency and Overall Score for geodens/lab/ 1-m_0-ts_1-lab_0-pi_0-ac1_0-ac2\",\"R1 Structures: Frequency and Overall Score for geodens/PI/ 1-m_0-ts_1-lab_1-pi_0-ac1_0-ac2\",\"R1 Structures: Frequency and Overall Score for geodens/lab/ 1-m_0-ts_2-lab_0-pi_0-ac1_0-ac2\",\"R1 Structures: Frequency and Overall Score for geodens/PI/ 1-m_1-ts_0-lab_1-pi_0-ac1_0-ac2\",\"R1 Structures: Frequency and Overall Score for geodens/lab/ 1-m_1-ts_1-lab_0-pi_0-ac1_0-ac2\",\"R1 Structures: Frequency and Overall Score for geodens/ts/ 1-m_2-ts_0-lab_0-pi_0-ac1_0-ac2\",\"R1 Structures: Frequency and Overall Score for geodens/lab/ 1-m_2-ts_1-lab_0-pi_0-ac1_0-ac2\",\"R1 Structures: Frequency and Overall Score for geodens/ac2/ 2-m_0-ts_0-lab_0-pi_0-ac1_1-ac2\",\"R1 Structures: Frequency and Overall Score for geodens/ac1/ 2-m_0-ts_0-lab_0-pi_1-ac1_0-ac2\",\"R1 Structures: Frequency and Overall Score for geodens/PI/ 2-m_0-ts_0-lab_1-pi_0-ac1_0-ac2\",\"R1 Structures: Frequency and Overall Score for geodens/lab/ 2-m_0-ts_1-lab_0-pi_0-ac1_0-ac2\",\"R1 Structures: Frequency and Overall Score for geodens/PI/ 2-m_0-ts_1-lab_1-pi_0-ac1_0-ac2\",\"R1 Structures: Frequency and Overall Score for geodens/PI/ 2-m_1-ts_0-lab_1-pi_0-ac1_0-ac2\",\"R1 Structures: Frequency and Overall Score for geodens/lab/ 2-m_1-ts_1-lab_0-pi_0-ac1_0-ac2\",\"R1 Structures: Frequency and Overall Score for geodens/ts/ 2-m_2-ts_0-lab_0-pi_0-ac1_0-ac2\",\"R1 Structures: Frequency and Overall Score for geodens/ac1/ 3-m_0-ts_0-lab_0-pi_1-ac1_0-ac2\",\"R1 Structures: Frequency and Overall Score for geodens/PI/ 3-m_0-ts_0-lab_1-pi_0-ac1_0-ac2\",\"R1 Structures: Frequency and Overall Score for geodens/lab/ 3-m_0-ts_1-lab_0-pi_0-ac1_0-ac2\",\"R1 Structures: Frequency and Overall Score for geodens/PI/ 3-m_1-ts_0-lab_1-pi_0-ac1_0-ac2\",\"R1 Structures: Frequency and Overall Score for geodens/lab/ 3-m_1-ts_1-lab_0-pi_0-ac1_0-ac2\",\"R1 Structures: Frequency and Overall Score for geodens/ac2/ 4-m_0-ts_0-lab_0-pi_0-ac1_1-ac2\",\"R1 Structures: Frequency and Overall Score for geodens/PI/ 4-m_0-ts_0-lab_1-pi_0-ac1_0-ac2\",\"R1 Structures: Frequency and Overall Score for geodens/lab/ 4-m_0-ts_1-lab_0-pi_0-ac1_0-ac2\",\"R1 Structures: Frequency and Overall Score for geodens/m/ 5-m_0-ts_0-lab_0-pi_0-ac1_0-ac2\",\"R1 Structures: Frequency and Overall Score for geodens/PI/ 5-m_0-ts_0-lab_1-pi_0-ac1_0-ac2\",\"R1 Structures: Frequency and Overall Score for geodens/lab/ 5-m_0-ts_1-lab_0-pi_0-ac1_0-ac2\",\"R1 Structures: Frequency and Overall Score for geodens/lab/ 6-m_0-ts_1-lab_0-pi_0-ac1_0-ac2\",\"R1 Structures: Frequency and Overall Score for geodens/PI\",\"R1 Structures: Frequency and Overall Score for geodens/ac1\",\"R1 Structures: Frequency and Overall Score for geodens/ac2\",\"R1 Structures: Frequency and Overall Score for geodens/lab\",\"R1 Structures: Frequency and Overall Score for geodens/m\",\"R1 Structures: Frequency and Overall Score for geodens/ts\",\"R1 Structures: Frequency and Overall Score for geodens\"],\"labels\":[\" 0-m_0-ts_1-lab_1-pi_0-ac1_0-ac2\",\" 0-m_0-ts_2-lab_0-pi_0-ac1_0-ac2\",\" 0-m_1-ts_0-lab_0-pi_0-ac1_1-ac2\",\" 0-m_1-ts_1-lab_0-pi_0-ac1_0-ac2\",\" 1-m_0-ts_0-lab_0-pi_0-ac1_1-ac2\",\" 1-m_0-ts_0-lab_0-pi_1-ac1_0-ac2\",\" 1-m_0-ts_0-lab_1-pi_0-ac1_0-ac2\",\" 1-m_0-ts_1-lab_0-pi_0-ac1_0-ac2\",\" 1-m_0-ts_1-lab_1-pi_0-ac1_0-ac2\",\" 1-m_0-ts_2-lab_0-pi_0-ac1_0-ac2\",\" 1-m_1-ts_0-lab_1-pi_0-ac1_0-ac2\",\" 1-m_1-ts_1-lab_0-pi_0-ac1_0-ac2\",\" 1-m_2-ts_0-lab_0-pi_0-ac1_0-ac2\",\" 1-m_2-ts_1-lab_0-pi_0-ac1_0-ac2\",\" 2-m_0-ts_0-lab_0-pi_0-ac1_1-ac2\",\" 2-m_0-ts_0-lab_0-pi_1-ac1_0-ac2\",\" 2-m_0-ts_0-lab_1-pi_0-ac1_0-ac2\",\" 2-m_0-ts_1-lab_0-pi_0-ac1_0-ac2\",\" 2-m_0-ts_1-lab_1-pi_0-ac1_0-ac2\",\" 2-m_1-ts_0-lab_1-pi_0-ac1_0-ac2\",\" 2-m_1-ts_1-lab_0-pi_0-ac1_0-ac2\",\" 2-m_2-ts_0-lab_0-pi_0-ac1_0-ac2\",\" 3-m_0-ts_0-lab_0-pi_1-ac1_0-ac2\",\" 3-m_0-ts_0-lab_1-pi_0-ac1_0-ac2\",\" 3-m_0-ts_1-lab_0-pi_0-ac1_0-ac2\",\" 3-m_1-ts_0-lab_1-pi_0-ac1_0-ac2\",\" 3-m_1-ts_1-lab_0-pi_0-ac1_0-ac2\",\" 4-m_0-ts_0-lab_0-pi_0-ac1_1-ac2\",\" 4-m_0-ts_0-lab_1-pi_0-ac1_0-ac2\",\" 4-m_0-ts_1-lab_0-pi_0-ac1_0-ac2\",\" 5-m_0-ts_0-lab_0-pi_0-ac1_0-ac2\",\" 5-m_0-ts_0-lab_1-pi_0-ac1_0-ac2\",\" 5-m_0-ts_1-lab_0-pi_0-ac1_0-ac2\",\" 6-m_0-ts_1-lab_0-pi_0-ac1_0-ac2\",\"PI\",\"ac1\",\"ac2\",\"lab\",\"m\",\"ts\",\"R1 Structures: Frequency and Overall Score for geodens\"],\"marker\":{\"coloraxis\":\"coloraxis\",\"colors\":[135.47368421052633,139.66666666666666,138.0,131.71428571428572,147.71428571428572,151.26415094339623,129.8,125.83333333333333,134.25,146.0,141.5056179775281,150.27272727272728,151.0,176.0,161.16666666666666,149.53246753246754,144.07692307692307,138.23076923076923,123.0,149.20353982300884,152.30555555555554,163.0,140.85714285714286,137.68666666666667,122.14285714285714,165.0,144.66666666666666,125.0,160.96410256410257,161.14285714285714,162.0,163.33333333333334,154.77777777777777,193.0,147.375,149.75912408759123,150.93333333333334,145.7709923664122,162.0,155.0,147.56438356164384]},\"name\":\"\",\"parents\":[\"R1 Structures: Frequency and Overall Score for geodens/PI\",\"R1 Structures: Frequency and Overall Score for geodens/lab\",\"R1 Structures: Frequency and Overall Score for geodens/ac2\",\"R1 Structures: Frequency and Overall Score for geodens/lab\",\"R1 Structures: Frequency and Overall Score for geodens/ac2\",\"R1 Structures: Frequency and Overall Score for geodens/ac1\",\"R1 Structures: Frequency and Overall Score for geodens/PI\",\"R1 Structures: Frequency and Overall Score for geodens/lab\",\"R1 Structures: Frequency and Overall Score for geodens/PI\",\"R1 Structures: Frequency and Overall Score for geodens/lab\",\"R1 Structures: Frequency and Overall Score for geodens/PI\",\"R1 Structures: Frequency and Overall Score for geodens/lab\",\"R1 Structures: Frequency and Overall Score for geodens/ts\",\"R1 Structures: Frequency and Overall Score for geodens/lab\",\"R1 Structures: Frequency and Overall Score for geodens/ac2\",\"R1 Structures: Frequency and Overall Score for geodens/ac1\",\"R1 Structures: Frequency and Overall Score for geodens/PI\",\"R1 Structures: Frequency and Overall Score for geodens/lab\",\"R1 Structures: Frequency and Overall Score for geodens/PI\",\"R1 Structures: Frequency and Overall Score for geodens/PI\",\"R1 Structures: Frequency and Overall Score for geodens/lab\",\"R1 Structures: Frequency and Overall Score for geodens/ts\",\"R1 Structures: Frequency and Overall Score for geodens/ac1\",\"R1 Structures: Frequency and Overall Score for geodens/PI\",\"R1 Structures: Frequency and Overall Score for geodens/lab\",\"R1 Structures: Frequency and Overall Score for geodens/PI\",\"R1 Structures: Frequency and Overall Score for geodens/lab\",\"R1 Structures: Frequency and Overall Score for geodens/ac2\",\"R1 Structures: Frequency and Overall Score for geodens/PI\",\"R1 Structures: Frequency and Overall Score for geodens/lab\",\"R1 Structures: Frequency and Overall Score for geodens/m\",\"R1 Structures: Frequency and Overall Score for geodens/PI\",\"R1 Structures: Frequency and Overall Score for geodens/lab\",\"R1 Structures: Frequency and Overall Score for geodens/lab\",\"R1 Structures: Frequency and Overall Score for geodens\",\"R1 Structures: Frequency and Overall Score for geodens\",\"R1 Structures: Frequency and Overall Score for geodens\",\"R1 Structures: Frequency and Overall Score for geodens\",\"R1 Structures: Frequency and Overall Score for geodens\",\"R1 Structures: Frequency and Overall Score for geodens\",\"\"],\"values\":[19,3,1,7,7,53,10,6,12,3,89,22,2,1,6,77,195,26,2,113,36,1,7,150,7,2,3,1,195,7,1,21,9,1,808,137,15,131,1,3,1095],\"type\":\"treemap\"}],                        {\"template\":{\"data\":{\"bar\":[{\"error_x\":{\"color\":\"#2a3f5f\"},\"error_y\":{\"color\":\"#2a3f5f\"},\"marker\":{\"line\":{\"color\":\"#E5ECF6\",\"width\":0.5},\"pattern\":{\"fillmode\":\"overlay\",\"size\":10,\"solidity\":0.2}},\"type\":\"bar\"}],\"barpolar\":[{\"marker\":{\"line\":{\"color\":\"#E5ECF6\",\"width\":0.5},\"pattern\":{\"fillmode\":\"overlay\",\"size\":10,\"solidity\":0.2}},\"type\":\"barpolar\"}],\"carpet\":[{\"aaxis\":{\"endlinecolor\":\"#2a3f5f\",\"gridcolor\":\"white\",\"linecolor\":\"white\",\"minorgridcolor\":\"white\",\"startlinecolor\":\"#2a3f5f\"},\"baxis\":{\"endlinecolor\":\"#2a3f5f\",\"gridcolor\":\"white\",\"linecolor\":\"white\",\"minorgridcolor\":\"white\",\"startlinecolor\":\"#2a3f5f\"},\"type\":\"carpet\"}],\"choropleth\":[{\"colorbar\":{\"outlinewidth\":0,\"ticks\":\"\"},\"type\":\"choropleth\"}],\"contour\":[{\"colorbar\":{\"outlinewidth\":0,\"ticks\":\"\"},\"colorscale\":[[0.0,\"#0d0887\"],[0.1111111111111111,\"#46039f\"],[0.2222222222222222,\"#7201a8\"],[0.3333333333333333,\"#9c179e\"],[0.4444444444444444,\"#bd3786\"],[0.5555555555555556,\"#d8576b\"],[0.6666666666666666,\"#ed7953\"],[0.7777777777777778,\"#fb9f3a\"],[0.8888888888888888,\"#fdca26\"],[1.0,\"#f0f921\"]],\"type\":\"contour\"}],\"contourcarpet\":[{\"colorbar\":{\"outlinewidth\":0,\"ticks\":\"\"},\"type\":\"contourcarpet\"}],\"heatmap\":[{\"colorbar\":{\"outlinewidth\":0,\"ticks\":\"\"},\"colorscale\":[[0.0,\"#0d0887\"],[0.1111111111111111,\"#46039f\"],[0.2222222222222222,\"#7201a8\"],[0.3333333333333333,\"#9c179e\"],[0.4444444444444444,\"#bd3786\"],[0.5555555555555556,\"#d8576b\"],[0.6666666666666666,\"#ed7953\"],[0.7777777777777778,\"#fb9f3a\"],[0.8888888888888888,\"#fdca26\"],[1.0,\"#f0f921\"]],\"type\":\"heatmap\"}],\"heatmapgl\":[{\"colorbar\":{\"outlinewidth\":0,\"ticks\":\"\"},\"colorscale\":[[0.0,\"#0d0887\"],[0.1111111111111111,\"#46039f\"],[0.2222222222222222,\"#7201a8\"],[0.3333333333333333,\"#9c179e\"],[0.4444444444444444,\"#bd3786\"],[0.5555555555555556,\"#d8576b\"],[0.6666666666666666,\"#ed7953\"],[0.7777777777777778,\"#fb9f3a\"],[0.8888888888888888,\"#fdca26\"],[1.0,\"#f0f921\"]],\"type\":\"heatmapgl\"}],\"histogram\":[{\"marker\":{\"pattern\":{\"fillmode\":\"overlay\",\"size\":10,\"solidity\":0.2}},\"type\":\"histogram\"}],\"histogram2d\":[{\"colorbar\":{\"outlinewidth\":0,\"ticks\":\"\"},\"colorscale\":[[0.0,\"#0d0887\"],[0.1111111111111111,\"#46039f\"],[0.2222222222222222,\"#7201a8\"],[0.3333333333333333,\"#9c179e\"],[0.4444444444444444,\"#bd3786\"],[0.5555555555555556,\"#d8576b\"],[0.6666666666666666,\"#ed7953\"],[0.7777777777777778,\"#fb9f3a\"],[0.8888888888888888,\"#fdca26\"],[1.0,\"#f0f921\"]],\"type\":\"histogram2d\"}],\"histogram2dcontour\":[{\"colorbar\":{\"outlinewidth\":0,\"ticks\":\"\"},\"colorscale\":[[0.0,\"#0d0887\"],[0.1111111111111111,\"#46039f\"],[0.2222222222222222,\"#7201a8\"],[0.3333333333333333,\"#9c179e\"],[0.4444444444444444,\"#bd3786\"],[0.5555555555555556,\"#d8576b\"],[0.6666666666666666,\"#ed7953\"],[0.7777777777777778,\"#fb9f3a\"],[0.8888888888888888,\"#fdca26\"],[1.0,\"#f0f921\"]],\"type\":\"histogram2dcontour\"}],\"mesh3d\":[{\"colorbar\":{\"outlinewidth\":0,\"ticks\":\"\"},\"type\":\"mesh3d\"}],\"parcoords\":[{\"line\":{\"colorbar\":{\"outlinewidth\":0,\"ticks\":\"\"}},\"type\":\"parcoords\"}],\"pie\":[{\"automargin\":true,\"type\":\"pie\"}],\"scatter\":[{\"marker\":{\"colorbar\":{\"outlinewidth\":0,\"ticks\":\"\"}},\"type\":\"scatter\"}],\"scatter3d\":[{\"line\":{\"colorbar\":{\"outlinewidth\":0,\"ticks\":\"\"}},\"marker\":{\"colorbar\":{\"outlinewidth\":0,\"ticks\":\"\"}},\"type\":\"scatter3d\"}],\"scattercarpet\":[{\"marker\":{\"colorbar\":{\"outlinewidth\":0,\"ticks\":\"\"}},\"type\":\"scattercarpet\"}],\"scattergeo\":[{\"marker\":{\"colorbar\":{\"outlinewidth\":0,\"ticks\":\"\"}},\"type\":\"scattergeo\"}],\"scattergl\":[{\"marker\":{\"colorbar\":{\"outlinewidth\":0,\"ticks\":\"\"}},\"type\":\"scattergl\"}],\"scattermapbox\":[{\"marker\":{\"colorbar\":{\"outlinewidth\":0,\"ticks\":\"\"}},\"type\":\"scattermapbox\"}],\"scatterpolar\":[{\"marker\":{\"colorbar\":{\"outlinewidth\":0,\"ticks\":\"\"}},\"type\":\"scatterpolar\"}],\"scatterpolargl\":[{\"marker\":{\"colorbar\":{\"outlinewidth\":0,\"ticks\":\"\"}},\"type\":\"scatterpolargl\"}],\"scatterternary\":[{\"marker\":{\"colorbar\":{\"outlinewidth\":0,\"ticks\":\"\"}},\"type\":\"scatterternary\"}],\"surface\":[{\"colorbar\":{\"outlinewidth\":0,\"ticks\":\"\"},\"colorscale\":[[0.0,\"#0d0887\"],[0.1111111111111111,\"#46039f\"],[0.2222222222222222,\"#7201a8\"],[0.3333333333333333,\"#9c179e\"],[0.4444444444444444,\"#bd3786\"],[0.5555555555555556,\"#d8576b\"],[0.6666666666666666,\"#ed7953\"],[0.7777777777777778,\"#fb9f3a\"],[0.8888888888888888,\"#fdca26\"],[1.0,\"#f0f921\"]],\"type\":\"surface\"}],\"table\":[{\"cells\":{\"fill\":{\"color\":\"#EBF0F8\"},\"line\":{\"color\":\"white\"}},\"header\":{\"fill\":{\"color\":\"#C8D4E3\"},\"line\":{\"color\":\"white\"}},\"type\":\"table\"}]},\"layout\":{\"annotationdefaults\":{\"arrowcolor\":\"#2a3f5f\",\"arrowhead\":0,\"arrowwidth\":1},\"autotypenumbers\":\"strict\",\"coloraxis\":{\"colorbar\":{\"outlinewidth\":0,\"ticks\":\"\"}},\"colorscale\":{\"diverging\":[[0,\"#8e0152\"],[0.1,\"#c51b7d\"],[0.2,\"#de77ae\"],[0.3,\"#f1b6da\"],[0.4,\"#fde0ef\"],[0.5,\"#f7f7f7\"],[0.6,\"#e6f5d0\"],[0.7,\"#b8e186\"],[0.8,\"#7fbc41\"],[0.9,\"#4d9221\"],[1,\"#276419\"]],\"sequential\":[[0.0,\"#0d0887\"],[0.1111111111111111,\"#46039f\"],[0.2222222222222222,\"#7201a8\"],[0.3333333333333333,\"#9c179e\"],[0.4444444444444444,\"#bd3786\"],[0.5555555555555556,\"#d8576b\"],[0.6666666666666666,\"#ed7953\"],[0.7777777777777778,\"#fb9f3a\"],[0.8888888888888888,\"#fdca26\"],[1.0,\"#f0f921\"]],\"sequentialminus\":[[0.0,\"#0d0887\"],[0.1111111111111111,\"#46039f\"],[0.2222222222222222,\"#7201a8\"],[0.3333333333333333,\"#9c179e\"],[0.4444444444444444,\"#bd3786\"],[0.5555555555555556,\"#d8576b\"],[0.6666666666666666,\"#ed7953\"],[0.7777777777777778,\"#fb9f3a\"],[0.8888888888888888,\"#fdca26\"],[1.0,\"#f0f921\"]]},\"colorway\":[\"#636efa\",\"#EF553B\",\"#00cc96\",\"#ab63fa\",\"#FFA15A\",\"#19d3f3\",\"#FF6692\",\"#B6E880\",\"#FF97FF\",\"#FECB52\"],\"font\":{\"color\":\"#2a3f5f\"},\"geo\":{\"bgcolor\":\"white\",\"lakecolor\":\"white\",\"landcolor\":\"#E5ECF6\",\"showlakes\":true,\"showland\":true,\"subunitcolor\":\"white\"},\"hoverlabel\":{\"align\":\"left\"},\"hovermode\":\"closest\",\"mapbox\":{\"style\":\"light\"},\"paper_bgcolor\":\"white\",\"plot_bgcolor\":\"#E5ECF6\",\"polar\":{\"angularaxis\":{\"gridcolor\":\"white\",\"linecolor\":\"white\",\"ticks\":\"\"},\"bgcolor\":\"#E5ECF6\",\"radialaxis\":{\"gridcolor\":\"white\",\"linecolor\":\"white\",\"ticks\":\"\"}},\"scene\":{\"xaxis\":{\"backgroundcolor\":\"#E5ECF6\",\"gridcolor\":\"white\",\"gridwidth\":2,\"linecolor\":\"white\",\"showbackground\":true,\"ticks\":\"\",\"zerolinecolor\":\"white\"},\"yaxis\":{\"backgroundcolor\":\"#E5ECF6\",\"gridcolor\":\"white\",\"gridwidth\":2,\"linecolor\":\"white\",\"showbackground\":true,\"ticks\":\"\",\"zerolinecolor\":\"white\"},\"zaxis\":{\"backgroundcolor\":\"#E5ECF6\",\"gridcolor\":\"white\",\"gridwidth\":2,\"linecolor\":\"white\",\"showbackground\":true,\"ticks\":\"\",\"zerolinecolor\":\"white\"}},\"shapedefaults\":{\"line\":{\"color\":\"#2a3f5f\"}},\"ternary\":{\"aaxis\":{\"gridcolor\":\"white\",\"linecolor\":\"white\",\"ticks\":\"\"},\"baxis\":{\"gridcolor\":\"white\",\"linecolor\":\"white\",\"ticks\":\"\"},\"bgcolor\":\"#E5ECF6\",\"caxis\":{\"gridcolor\":\"white\",\"linecolor\":\"white\",\"ticks\":\"\"}},\"title\":{\"x\":0.05},\"xaxis\":{\"automargin\":true,\"gridcolor\":\"white\",\"linecolor\":\"white\",\"ticks\":\"\",\"title\":{\"standoff\":15},\"zerolinecolor\":\"white\",\"zerolinewidth\":2},\"yaxis\":{\"automargin\":true,\"gridcolor\":\"white\",\"linecolor\":\"white\",\"ticks\":\"\",\"title\":{\"standoff\":15},\"zerolinecolor\":\"white\",\"zerolinewidth\":2}}},\"coloraxis\":{\"colorbar\":{\"title\":{\"text\":\"ave_score_geodens\"}},\"colorscale\":[[0.0,\"rgb(103,0,31)\"],[0.1,\"rgb(178,24,43)\"],[0.2,\"rgb(214,96,77)\"],[0.3,\"rgb(244,165,130)\"],[0.4,\"rgb(253,219,199)\"],[0.5,\"rgb(247,247,247)\"],[0.6,\"rgb(209,229,240)\"],[0.7,\"rgb(146,197,222)\"],[0.8,\"rgb(67,147,195)\"],[0.9,\"rgb(33,102,172)\"],[1.0,\"rgb(5,48,97)\"]],\"cmid\":153.409394703657},\"legend\":{\"tracegroupgap\":0},\"margin\":{\"t\":50,\"l\":25,\"r\":25,\"b\":25},\"title\":{\"text\":\"R1 Structures: Frequency and Impact on Score Relative to All Factions Average (153.41): geodens\"}},                        {\"responsive\": true}                    ).then(function(){\n",
       "                            \n",
       "var gd = document.getElementById('9b06d9eb-d591-4072-84ee-6e7bca17c132');\n",
       "var x = new MutationObserver(function (mutations, observer) {{\n",
       "        var display = window.getComputedStyle(gd).display;\n",
       "        if (!display || display === 'none') {{\n",
       "            console.log([gd, 'removed!']);\n",
       "            Plotly.purge(gd);\n",
       "            observer.disconnect();\n",
       "        }}\n",
       "}});\n",
       "\n",
       "// Listen for the removal of the full notebook cells\n",
       "var notebookContainer = gd.closest('#notebook-container');\n",
       "if (notebookContainer) {{\n",
       "    x.observe(notebookContainer, {childList: true});\n",
       "}}\n",
       "\n",
       "// Listen for the clearing of the current output cell\n",
       "var outputEl = gd.closest('.output');\n",
       "if (outputEl) {{\n",
       "    x.observe(outputEl, {childList: true});\n",
       "}}\n",
       "\n",
       "                        })                };                });            </script>        </div>"
      ]
     },
     "metadata": {},
     "output_type": "display_data"
    },
    {
     "data": {
      "application/vnd.plotly.v1+json": {
       "config": {
        "plotlyServerURL": "https://plot.ly"
       },
       "data": [
        {
         "branchvalues": "total",
         "customdata": [
          [
           170.125,
           140.25
          ],
          [
           128.14285714285714,
           132.57142857142858
          ],
          [
           271,
           157
          ],
          [
           105.66666666666667,
           137.33333333333334
          ],
          [
           243,
           134
          ],
          [
           158,
           150.33333333333334
          ],
          [
           242.66666666666666,
           158.33333333333334
          ],
          [
           262,
           139.33333333333334
          ],
          [
           202.42727272727274,
           148.76363636363635
          ],
          [
           452,
           160
          ],
          [
           185.8181818181818,
           137.54545454545453
          ],
          [
           225.77777777777777,
           153.38888888888889
          ],
          [
           109.5,
           131.5
          ],
          [
           153.55555555555554,
           132.83333333333334
          ],
          [
           140.52380952380952,
           140.38095238095238
          ],
          [
           174.4,
           132.2
          ],
          [
           119,
           141.75
          ],
          [
           235.75,
           150.5
          ],
          [
           270.5,
           194
          ],
          [
           245.05755395683454,
           153.83453237410072
          ],
          [
           197.3921568627451,
           139.76470588235293
          ],
          [
           180.29113924050634,
           145
          ],
          [
           189,
           145.33333333333334
          ],
          [
           189.11111111111111,
           153.44444444444446
          ],
          [
           166.71428571428572,
           141.45714285714286
          ],
          [
           209.83783783783784,
           152.74324324324326
          ],
          [
           181.2,
           145.2
          ],
          [
           112,
           171
          ],
          [
           250.28571428571428,
           156.28571428571428
          ],
          [
           188.3846153846154,
           144.39423076923077
          ],
          [
           299,
           147
          ],
          [
           189,
           138.6
          ],
          [
           303.5,
           157.5
          ],
          [
           157.14285714285714,
           160.14285714285714
          ],
          [
           211.17777777777778,
           150.8740740740741
          ],
          [
           266.56470588235294,
           165.50588235294117
          ],
          [
           290.375,
           172.4375
          ],
          [
           261,
           189
          ],
          [
           "(?)",
           140.61832061068702
          ],
          [
           "(?)",
           151.7537313432836
          ],
          [
           "(?)",
           161.2
          ],
          [
           "(?)",
           150.64597315436242
          ],
          [
           "(?)",
           148.33333333333334
          ],
          [
           "(?)",
           149.66600790513834
          ]
         ],
         "domain": {
          "x": [
           0,
           1
          ],
          "y": [
           0,
           1
          ]
         },
         "hovertemplate": "labels=%{label}<br>class_counts=%{value}<br>parent=%{parent}<br>id=%{id}<br>ave_elo_hadsch-hallas=%{customdata[0]}<br>ave_score_hadsch-hallas=%{color}<extra></extra>",
         "ids": [
          "R1 Structures: Frequency and Overall Score for hadsch-hallas/PI/ 0-m_0-ts_1-lab_1-pi_0-ac1_0-ac2",
          "R1 Structures: Frequency and Overall Score for hadsch-hallas/lab/ 0-m_0-ts_2-lab_0-pi_0-ac1_0-ac2",
          "R1 Structures: Frequency and Overall Score for hadsch-hallas/ac1/ 0-m_1-ts_0-lab_0-pi_1-ac1_0-ac2",
          "R1 Structures: Frequency and Overall Score for hadsch-hallas/lab/ 0-m_1-ts_1-lab_0-pi_0-ac1_0-ac2",
          "R1 Structures: Frequency and Overall Score for hadsch-hallas/ts/ 0-m_2-ts_0-lab_0-pi_0-ac1_0-ac2",
          "R1 Structures: Frequency and Overall Score for hadsch-hallas/PI/ 0-m_2-ts_0-lab_1-pi_0-ac1_0-ac2",
          "R1 Structures: Frequency and Overall Score for hadsch-hallas/lab/ 0-m_2-ts_1-lab_0-pi_0-ac1_0-ac2",
          "R1 Structures: Frequency and Overall Score for hadsch-hallas/ac2/ 1-m_0-ts_0-lab_0-pi_0-ac1_1-ac2",
          "R1 Structures: Frequency and Overall Score for hadsch-hallas/ac1/ 1-m_0-ts_0-lab_0-pi_1-ac1_0-ac2",
          "R1 Structures: Frequency and Overall Score for hadsch-hallas/PI/ 1-m_0-ts_0-lab_1-pi_0-ac1_0-ac2",
          "R1 Structures: Frequency and Overall Score for hadsch-hallas/lab/ 1-m_0-ts_1-lab_0-pi_0-ac1_0-ac2",
          "R1 Structures: Frequency and Overall Score for hadsch-hallas/lab/ 1-m_0-ts_2-lab_0-pi_0-ac1_0-ac2",
          "R1 Structures: Frequency and Overall Score for hadsch-hallas/ac1/ 1-m_1-ts_0-lab_0-pi_1-ac1_0-ac2",
          "R1 Structures: Frequency and Overall Score for hadsch-hallas/PI/ 1-m_1-ts_0-lab_1-pi_0-ac1_0-ac2",
          "R1 Structures: Frequency and Overall Score for hadsch-hallas/lab/ 1-m_1-ts_1-lab_0-pi_0-ac1_0-ac2",
          "R1 Structures: Frequency and Overall Score for hadsch-hallas/PI/ 1-m_2-ts_0-lab_1-pi_0-ac1_0-ac2",
          "R1 Structures: Frequency and Overall Score for hadsch-hallas/lab/ 1-m_2-ts_1-lab_0-pi_0-ac1_0-ac2",
          "R1 Structures: Frequency and Overall Score for hadsch-hallas/ts/ 1-m_3-ts_0-lab_0-pi_0-ac1_0-ac2",
          "R1 Structures: Frequency and Overall Score for hadsch-hallas/ac2/ 2-m_0-ts_0-lab_0-pi_0-ac1_1-ac2",
          "R1 Structures: Frequency and Overall Score for hadsch-hallas/ac1/ 2-m_0-ts_0-lab_0-pi_1-ac1_0-ac2",
          "R1 Structures: Frequency and Overall Score for hadsch-hallas/PI/ 2-m_0-ts_0-lab_1-pi_0-ac1_0-ac2",
          "R1 Structures: Frequency and Overall Score for hadsch-hallas/lab/ 2-m_0-ts_1-lab_0-pi_0-ac1_0-ac2",
          "R1 Structures: Frequency and Overall Score for hadsch-hallas/PI/ 2-m_0-ts_1-lab_1-pi_0-ac1_0-ac2",
          "R1 Structures: Frequency and Overall Score for hadsch-hallas/lab/ 2-m_0-ts_2-lab_0-pi_0-ac1_0-ac2",
          "R1 Structures: Frequency and Overall Score for hadsch-hallas/PI/ 2-m_1-ts_0-lab_1-pi_0-ac1_0-ac2",
          "R1 Structures: Frequency and Overall Score for hadsch-hallas/lab/ 2-m_1-ts_1-lab_0-pi_0-ac1_0-ac2",
          "R1 Structures: Frequency and Overall Score for hadsch-hallas/ts/ 2-m_2-ts_0-lab_0-pi_0-ac1_0-ac2",
          "R1 Structures: Frequency and Overall Score for hadsch-hallas/ts/ 2-m_3-ts_0-lab_0-pi_0-ac1_0-ac2",
          "R1 Structures: Frequency and Overall Score for hadsch-hallas/ac1/ 3-m_0-ts_0-lab_0-pi_1-ac1_0-ac2",
          "R1 Structures: Frequency and Overall Score for hadsch-hallas/lab/ 3-m_0-ts_1-lab_0-pi_0-ac1_0-ac2",
          "R1 Structures: Frequency and Overall Score for hadsch-hallas/ts/ 3-m_1-ts_0-lab_0-pi_0-ac1_0-ac2",
          "R1 Structures: Frequency and Overall Score for hadsch-hallas/lab/ 3-m_1-ts_1-lab_0-pi_0-ac1_0-ac2",
          "R1 Structures: Frequency and Overall Score for hadsch-hallas/ac1/ 4-m_0-ts_0-lab_0-pi_1-ac1_0-ac2",
          "R1 Structures: Frequency and Overall Score for hadsch-hallas/PI/ 4-m_0-ts_0-lab_1-pi_0-ac1_0-ac2",
          "R1 Structures: Frequency and Overall Score for hadsch-hallas/lab/ 4-m_0-ts_1-lab_0-pi_0-ac1_0-ac2",
          "R1 Structures: Frequency and Overall Score for hadsch-hallas/lab/ 5-m_0-ts_1-lab_0-pi_0-ac1_0-ac2",
          "R1 Structures: Frequency and Overall Score for hadsch-hallas/lab/ 6-m_0-ts_1-lab_0-pi_0-ac1_0-ac2",
          "R1 Structures: Frequency and Overall Score for hadsch-hallas/lab/ 7-m_0-ts_1-lab_0-pi_0-ac1_0-ac2",
          "R1 Structures: Frequency and Overall Score for hadsch-hallas/PI",
          "R1 Structures: Frequency and Overall Score for hadsch-hallas/ac1",
          "R1 Structures: Frequency and Overall Score for hadsch-hallas/ac2",
          "R1 Structures: Frequency and Overall Score for hadsch-hallas/lab",
          "R1 Structures: Frequency and Overall Score for hadsch-hallas/ts",
          "R1 Structures: Frequency and Overall Score for hadsch-hallas"
         ],
         "labels": [
          " 0-m_0-ts_1-lab_1-pi_0-ac1_0-ac2",
          " 0-m_0-ts_2-lab_0-pi_0-ac1_0-ac2",
          " 0-m_1-ts_0-lab_0-pi_1-ac1_0-ac2",
          " 0-m_1-ts_1-lab_0-pi_0-ac1_0-ac2",
          " 0-m_2-ts_0-lab_0-pi_0-ac1_0-ac2",
          " 0-m_2-ts_0-lab_1-pi_0-ac1_0-ac2",
          " 0-m_2-ts_1-lab_0-pi_0-ac1_0-ac2",
          " 1-m_0-ts_0-lab_0-pi_0-ac1_1-ac2",
          " 1-m_0-ts_0-lab_0-pi_1-ac1_0-ac2",
          " 1-m_0-ts_0-lab_1-pi_0-ac1_0-ac2",
          " 1-m_0-ts_1-lab_0-pi_0-ac1_0-ac2",
          " 1-m_0-ts_2-lab_0-pi_0-ac1_0-ac2",
          " 1-m_1-ts_0-lab_0-pi_1-ac1_0-ac2",
          " 1-m_1-ts_0-lab_1-pi_0-ac1_0-ac2",
          " 1-m_1-ts_1-lab_0-pi_0-ac1_0-ac2",
          " 1-m_2-ts_0-lab_1-pi_0-ac1_0-ac2",
          " 1-m_2-ts_1-lab_0-pi_0-ac1_0-ac2",
          " 1-m_3-ts_0-lab_0-pi_0-ac1_0-ac2",
          " 2-m_0-ts_0-lab_0-pi_0-ac1_1-ac2",
          " 2-m_0-ts_0-lab_0-pi_1-ac1_0-ac2",
          " 2-m_0-ts_0-lab_1-pi_0-ac1_0-ac2",
          " 2-m_0-ts_1-lab_0-pi_0-ac1_0-ac2",
          " 2-m_0-ts_1-lab_1-pi_0-ac1_0-ac2",
          " 2-m_0-ts_2-lab_0-pi_0-ac1_0-ac2",
          " 2-m_1-ts_0-lab_1-pi_0-ac1_0-ac2",
          " 2-m_1-ts_1-lab_0-pi_0-ac1_0-ac2",
          " 2-m_2-ts_0-lab_0-pi_0-ac1_0-ac2",
          " 2-m_3-ts_0-lab_0-pi_0-ac1_0-ac2",
          " 3-m_0-ts_0-lab_0-pi_1-ac1_0-ac2",
          " 3-m_0-ts_1-lab_0-pi_0-ac1_0-ac2",
          " 3-m_1-ts_0-lab_0-pi_0-ac1_0-ac2",
          " 3-m_1-ts_1-lab_0-pi_0-ac1_0-ac2",
          " 4-m_0-ts_0-lab_0-pi_1-ac1_0-ac2",
          " 4-m_0-ts_0-lab_1-pi_0-ac1_0-ac2",
          " 4-m_0-ts_1-lab_0-pi_0-ac1_0-ac2",
          " 5-m_0-ts_1-lab_0-pi_0-ac1_0-ac2",
          " 6-m_0-ts_1-lab_0-pi_0-ac1_0-ac2",
          " 7-m_0-ts_1-lab_0-pi_0-ac1_0-ac2",
          "PI",
          "ac1",
          "ac2",
          "lab",
          "ts",
          "R1 Structures: Frequency and Overall Score for hadsch-hallas"
         ],
         "marker": {
          "coloraxis": "coloraxis",
          "colors": [
           140.25,
           132.57142857142858,
           157,
           137.33333333333334,
           134,
           150.33333333333334,
           158.33333333333334,
           139.33333333333334,
           148.76363636363635,
           160,
           137.54545454545453,
           153.38888888888889,
           131.5,
           132.83333333333334,
           140.38095238095238,
           132.2,
           141.75,
           150.5,
           194,
           153.83453237410072,
           139.76470588235293,
           145,
           145.33333333333334,
           153.44444444444446,
           141.45714285714286,
           152.74324324324326,
           145.2,
           171,
           156.28571428571428,
           144.39423076923077,
           147,
           138.6,
           157.5,
           160.14285714285714,
           150.8740740740741,
           165.50588235294117,
           172.4375,
           189,
           140.61832061068702,
           151.7537313432836,
           161.2,
           150.64597315436242,
           148.33333333333334,
           149.66600790513834
          ]
         },
         "name": "",
         "parents": [
          "R1 Structures: Frequency and Overall Score for hadsch-hallas/PI",
          "R1 Structures: Frequency and Overall Score for hadsch-hallas/lab",
          "R1 Structures: Frequency and Overall Score for hadsch-hallas/ac1",
          "R1 Structures: Frequency and Overall Score for hadsch-hallas/lab",
          "R1 Structures: Frequency and Overall Score for hadsch-hallas/ts",
          "R1 Structures: Frequency and Overall Score for hadsch-hallas/PI",
          "R1 Structures: Frequency and Overall Score for hadsch-hallas/lab",
          "R1 Structures: Frequency and Overall Score for hadsch-hallas/ac2",
          "R1 Structures: Frequency and Overall Score for hadsch-hallas/ac1",
          "R1 Structures: Frequency and Overall Score for hadsch-hallas/PI",
          "R1 Structures: Frequency and Overall Score for hadsch-hallas/lab",
          "R1 Structures: Frequency and Overall Score for hadsch-hallas/lab",
          "R1 Structures: Frequency and Overall Score for hadsch-hallas/ac1",
          "R1 Structures: Frequency and Overall Score for hadsch-hallas/PI",
          "R1 Structures: Frequency and Overall Score for hadsch-hallas/lab",
          "R1 Structures: Frequency and Overall Score for hadsch-hallas/PI",
          "R1 Structures: Frequency and Overall Score for hadsch-hallas/lab",
          "R1 Structures: Frequency and Overall Score for hadsch-hallas/ts",
          "R1 Structures: Frequency and Overall Score for hadsch-hallas/ac2",
          "R1 Structures: Frequency and Overall Score for hadsch-hallas/ac1",
          "R1 Structures: Frequency and Overall Score for hadsch-hallas/PI",
          "R1 Structures: Frequency and Overall Score for hadsch-hallas/lab",
          "R1 Structures: Frequency and Overall Score for hadsch-hallas/PI",
          "R1 Structures: Frequency and Overall Score for hadsch-hallas/lab",
          "R1 Structures: Frequency and Overall Score for hadsch-hallas/PI",
          "R1 Structures: Frequency and Overall Score for hadsch-hallas/lab",
          "R1 Structures: Frequency and Overall Score for hadsch-hallas/ts",
          "R1 Structures: Frequency and Overall Score for hadsch-hallas/ts",
          "R1 Structures: Frequency and Overall Score for hadsch-hallas/ac1",
          "R1 Structures: Frequency and Overall Score for hadsch-hallas/lab",
          "R1 Structures: Frequency and Overall Score for hadsch-hallas/ts",
          "R1 Structures: Frequency and Overall Score for hadsch-hallas/lab",
          "R1 Structures: Frequency and Overall Score for hadsch-hallas/ac1",
          "R1 Structures: Frequency and Overall Score for hadsch-hallas/PI",
          "R1 Structures: Frequency and Overall Score for hadsch-hallas/lab",
          "R1 Structures: Frequency and Overall Score for hadsch-hallas/lab",
          "R1 Structures: Frequency and Overall Score for hadsch-hallas/lab",
          "R1 Structures: Frequency and Overall Score for hadsch-hallas/lab",
          "R1 Structures: Frequency and Overall Score for hadsch-hallas",
          "R1 Structures: Frequency and Overall Score for hadsch-hallas",
          "R1 Structures: Frequency and Overall Score for hadsch-hallas",
          "R1 Structures: Frequency and Overall Score for hadsch-hallas",
          "R1 Structures: Frequency and Overall Score for hadsch-hallas",
          ""
         ],
         "type": "treemap",
         "values": [
          8,
          7,
          1,
          3,
          1,
          3,
          3,
          3,
          110,
          1,
          11,
          18,
          2,
          18,
          42,
          5,
          4,
          4,
          2,
          139,
          51,
          79,
          3,
          9,
          35,
          74,
          5,
          1,
          14,
          104,
          1,
          5,
          2,
          7,
          135,
          85,
          16,
          1,
          131,
          268,
          5,
          596,
          12,
          1012
         ]
        }
       ],
       "layout": {
        "coloraxis": {
         "cmid": 153.409394703657,
         "colorbar": {
          "title": {
           "text": "ave_score_hadsch-hallas"
          }
         },
         "colorscale": [
          [
           0,
           "rgb(103,0,31)"
          ],
          [
           0.1,
           "rgb(178,24,43)"
          ],
          [
           0.2,
           "rgb(214,96,77)"
          ],
          [
           0.3,
           "rgb(244,165,130)"
          ],
          [
           0.4,
           "rgb(253,219,199)"
          ],
          [
           0.5,
           "rgb(247,247,247)"
          ],
          [
           0.6,
           "rgb(209,229,240)"
          ],
          [
           0.7,
           "rgb(146,197,222)"
          ],
          [
           0.8,
           "rgb(67,147,195)"
          ],
          [
           0.9,
           "rgb(33,102,172)"
          ],
          [
           1,
           "rgb(5,48,97)"
          ]
         ]
        },
        "legend": {
         "tracegroupgap": 0
        },
        "margin": {
         "b": 25,
         "l": 25,
         "r": 25,
         "t": 50
        },
        "template": {
         "data": {
          "bar": [
           {
            "error_x": {
             "color": "#2a3f5f"
            },
            "error_y": {
             "color": "#2a3f5f"
            },
            "marker": {
             "line": {
              "color": "#E5ECF6",
              "width": 0.5
             },
             "pattern": {
              "fillmode": "overlay",
              "size": 10,
              "solidity": 0.2
             }
            },
            "type": "bar"
           }
          ],
          "barpolar": [
           {
            "marker": {
             "line": {
              "color": "#E5ECF6",
              "width": 0.5
             },
             "pattern": {
              "fillmode": "overlay",
              "size": 10,
              "solidity": 0.2
             }
            },
            "type": "barpolar"
           }
          ],
          "carpet": [
           {
            "aaxis": {
             "endlinecolor": "#2a3f5f",
             "gridcolor": "white",
             "linecolor": "white",
             "minorgridcolor": "white",
             "startlinecolor": "#2a3f5f"
            },
            "baxis": {
             "endlinecolor": "#2a3f5f",
             "gridcolor": "white",
             "linecolor": "white",
             "minorgridcolor": "white",
             "startlinecolor": "#2a3f5f"
            },
            "type": "carpet"
           }
          ],
          "choropleth": [
           {
            "colorbar": {
             "outlinewidth": 0,
             "ticks": ""
            },
            "type": "choropleth"
           }
          ],
          "contour": [
           {
            "colorbar": {
             "outlinewidth": 0,
             "ticks": ""
            },
            "colorscale": [
             [
              0,
              "#0d0887"
             ],
             [
              0.1111111111111111,
              "#46039f"
             ],
             [
              0.2222222222222222,
              "#7201a8"
             ],
             [
              0.3333333333333333,
              "#9c179e"
             ],
             [
              0.4444444444444444,
              "#bd3786"
             ],
             [
              0.5555555555555556,
              "#d8576b"
             ],
             [
              0.6666666666666666,
              "#ed7953"
             ],
             [
              0.7777777777777778,
              "#fb9f3a"
             ],
             [
              0.8888888888888888,
              "#fdca26"
             ],
             [
              1,
              "#f0f921"
             ]
            ],
            "type": "contour"
           }
          ],
          "contourcarpet": [
           {
            "colorbar": {
             "outlinewidth": 0,
             "ticks": ""
            },
            "type": "contourcarpet"
           }
          ],
          "heatmap": [
           {
            "colorbar": {
             "outlinewidth": 0,
             "ticks": ""
            },
            "colorscale": [
             [
              0,
              "#0d0887"
             ],
             [
              0.1111111111111111,
              "#46039f"
             ],
             [
              0.2222222222222222,
              "#7201a8"
             ],
             [
              0.3333333333333333,
              "#9c179e"
             ],
             [
              0.4444444444444444,
              "#bd3786"
             ],
             [
              0.5555555555555556,
              "#d8576b"
             ],
             [
              0.6666666666666666,
              "#ed7953"
             ],
             [
              0.7777777777777778,
              "#fb9f3a"
             ],
             [
              0.8888888888888888,
              "#fdca26"
             ],
             [
              1,
              "#f0f921"
             ]
            ],
            "type": "heatmap"
           }
          ],
          "heatmapgl": [
           {
            "colorbar": {
             "outlinewidth": 0,
             "ticks": ""
            },
            "colorscale": [
             [
              0,
              "#0d0887"
             ],
             [
              0.1111111111111111,
              "#46039f"
             ],
             [
              0.2222222222222222,
              "#7201a8"
             ],
             [
              0.3333333333333333,
              "#9c179e"
             ],
             [
              0.4444444444444444,
              "#bd3786"
             ],
             [
              0.5555555555555556,
              "#d8576b"
             ],
             [
              0.6666666666666666,
              "#ed7953"
             ],
             [
              0.7777777777777778,
              "#fb9f3a"
             ],
             [
              0.8888888888888888,
              "#fdca26"
             ],
             [
              1,
              "#f0f921"
             ]
            ],
            "type": "heatmapgl"
           }
          ],
          "histogram": [
           {
            "marker": {
             "pattern": {
              "fillmode": "overlay",
              "size": 10,
              "solidity": 0.2
             }
            },
            "type": "histogram"
           }
          ],
          "histogram2d": [
           {
            "colorbar": {
             "outlinewidth": 0,
             "ticks": ""
            },
            "colorscale": [
             [
              0,
              "#0d0887"
             ],
             [
              0.1111111111111111,
              "#46039f"
             ],
             [
              0.2222222222222222,
              "#7201a8"
             ],
             [
              0.3333333333333333,
              "#9c179e"
             ],
             [
              0.4444444444444444,
              "#bd3786"
             ],
             [
              0.5555555555555556,
              "#d8576b"
             ],
             [
              0.6666666666666666,
              "#ed7953"
             ],
             [
              0.7777777777777778,
              "#fb9f3a"
             ],
             [
              0.8888888888888888,
              "#fdca26"
             ],
             [
              1,
              "#f0f921"
             ]
            ],
            "type": "histogram2d"
           }
          ],
          "histogram2dcontour": [
           {
            "colorbar": {
             "outlinewidth": 0,
             "ticks": ""
            },
            "colorscale": [
             [
              0,
              "#0d0887"
             ],
             [
              0.1111111111111111,
              "#46039f"
             ],
             [
              0.2222222222222222,
              "#7201a8"
             ],
             [
              0.3333333333333333,
              "#9c179e"
             ],
             [
              0.4444444444444444,
              "#bd3786"
             ],
             [
              0.5555555555555556,
              "#d8576b"
             ],
             [
              0.6666666666666666,
              "#ed7953"
             ],
             [
              0.7777777777777778,
              "#fb9f3a"
             ],
             [
              0.8888888888888888,
              "#fdca26"
             ],
             [
              1,
              "#f0f921"
             ]
            ],
            "type": "histogram2dcontour"
           }
          ],
          "mesh3d": [
           {
            "colorbar": {
             "outlinewidth": 0,
             "ticks": ""
            },
            "type": "mesh3d"
           }
          ],
          "parcoords": [
           {
            "line": {
             "colorbar": {
              "outlinewidth": 0,
              "ticks": ""
             }
            },
            "type": "parcoords"
           }
          ],
          "pie": [
           {
            "automargin": true,
            "type": "pie"
           }
          ],
          "scatter": [
           {
            "marker": {
             "colorbar": {
              "outlinewidth": 0,
              "ticks": ""
             }
            },
            "type": "scatter"
           }
          ],
          "scatter3d": [
           {
            "line": {
             "colorbar": {
              "outlinewidth": 0,
              "ticks": ""
             }
            },
            "marker": {
             "colorbar": {
              "outlinewidth": 0,
              "ticks": ""
             }
            },
            "type": "scatter3d"
           }
          ],
          "scattercarpet": [
           {
            "marker": {
             "colorbar": {
              "outlinewidth": 0,
              "ticks": ""
             }
            },
            "type": "scattercarpet"
           }
          ],
          "scattergeo": [
           {
            "marker": {
             "colorbar": {
              "outlinewidth": 0,
              "ticks": ""
             }
            },
            "type": "scattergeo"
           }
          ],
          "scattergl": [
           {
            "marker": {
             "colorbar": {
              "outlinewidth": 0,
              "ticks": ""
             }
            },
            "type": "scattergl"
           }
          ],
          "scattermapbox": [
           {
            "marker": {
             "colorbar": {
              "outlinewidth": 0,
              "ticks": ""
             }
            },
            "type": "scattermapbox"
           }
          ],
          "scatterpolar": [
           {
            "marker": {
             "colorbar": {
              "outlinewidth": 0,
              "ticks": ""
             }
            },
            "type": "scatterpolar"
           }
          ],
          "scatterpolargl": [
           {
            "marker": {
             "colorbar": {
              "outlinewidth": 0,
              "ticks": ""
             }
            },
            "type": "scatterpolargl"
           }
          ],
          "scatterternary": [
           {
            "marker": {
             "colorbar": {
              "outlinewidth": 0,
              "ticks": ""
             }
            },
            "type": "scatterternary"
           }
          ],
          "surface": [
           {
            "colorbar": {
             "outlinewidth": 0,
             "ticks": ""
            },
            "colorscale": [
             [
              0,
              "#0d0887"
             ],
             [
              0.1111111111111111,
              "#46039f"
             ],
             [
              0.2222222222222222,
              "#7201a8"
             ],
             [
              0.3333333333333333,
              "#9c179e"
             ],
             [
              0.4444444444444444,
              "#bd3786"
             ],
             [
              0.5555555555555556,
              "#d8576b"
             ],
             [
              0.6666666666666666,
              "#ed7953"
             ],
             [
              0.7777777777777778,
              "#fb9f3a"
             ],
             [
              0.8888888888888888,
              "#fdca26"
             ],
             [
              1,
              "#f0f921"
             ]
            ],
            "type": "surface"
           }
          ],
          "table": [
           {
            "cells": {
             "fill": {
              "color": "#EBF0F8"
             },
             "line": {
              "color": "white"
             }
            },
            "header": {
             "fill": {
              "color": "#C8D4E3"
             },
             "line": {
              "color": "white"
             }
            },
            "type": "table"
           }
          ]
         },
         "layout": {
          "annotationdefaults": {
           "arrowcolor": "#2a3f5f",
           "arrowhead": 0,
           "arrowwidth": 1
          },
          "autotypenumbers": "strict",
          "coloraxis": {
           "colorbar": {
            "outlinewidth": 0,
            "ticks": ""
           }
          },
          "colorscale": {
           "diverging": [
            [
             0,
             "#8e0152"
            ],
            [
             0.1,
             "#c51b7d"
            ],
            [
             0.2,
             "#de77ae"
            ],
            [
             0.3,
             "#f1b6da"
            ],
            [
             0.4,
             "#fde0ef"
            ],
            [
             0.5,
             "#f7f7f7"
            ],
            [
             0.6,
             "#e6f5d0"
            ],
            [
             0.7,
             "#b8e186"
            ],
            [
             0.8,
             "#7fbc41"
            ],
            [
             0.9,
             "#4d9221"
            ],
            [
             1,
             "#276419"
            ]
           ],
           "sequential": [
            [
             0,
             "#0d0887"
            ],
            [
             0.1111111111111111,
             "#46039f"
            ],
            [
             0.2222222222222222,
             "#7201a8"
            ],
            [
             0.3333333333333333,
             "#9c179e"
            ],
            [
             0.4444444444444444,
             "#bd3786"
            ],
            [
             0.5555555555555556,
             "#d8576b"
            ],
            [
             0.6666666666666666,
             "#ed7953"
            ],
            [
             0.7777777777777778,
             "#fb9f3a"
            ],
            [
             0.8888888888888888,
             "#fdca26"
            ],
            [
             1,
             "#f0f921"
            ]
           ],
           "sequentialminus": [
            [
             0,
             "#0d0887"
            ],
            [
             0.1111111111111111,
             "#46039f"
            ],
            [
             0.2222222222222222,
             "#7201a8"
            ],
            [
             0.3333333333333333,
             "#9c179e"
            ],
            [
             0.4444444444444444,
             "#bd3786"
            ],
            [
             0.5555555555555556,
             "#d8576b"
            ],
            [
             0.6666666666666666,
             "#ed7953"
            ],
            [
             0.7777777777777778,
             "#fb9f3a"
            ],
            [
             0.8888888888888888,
             "#fdca26"
            ],
            [
             1,
             "#f0f921"
            ]
           ]
          },
          "colorway": [
           "#636efa",
           "#EF553B",
           "#00cc96",
           "#ab63fa",
           "#FFA15A",
           "#19d3f3",
           "#FF6692",
           "#B6E880",
           "#FF97FF",
           "#FECB52"
          ],
          "font": {
           "color": "#2a3f5f"
          },
          "geo": {
           "bgcolor": "white",
           "lakecolor": "white",
           "landcolor": "#E5ECF6",
           "showlakes": true,
           "showland": true,
           "subunitcolor": "white"
          },
          "hoverlabel": {
           "align": "left"
          },
          "hovermode": "closest",
          "mapbox": {
           "style": "light"
          },
          "paper_bgcolor": "white",
          "plot_bgcolor": "#E5ECF6",
          "polar": {
           "angularaxis": {
            "gridcolor": "white",
            "linecolor": "white",
            "ticks": ""
           },
           "bgcolor": "#E5ECF6",
           "radialaxis": {
            "gridcolor": "white",
            "linecolor": "white",
            "ticks": ""
           }
          },
          "scene": {
           "xaxis": {
            "backgroundcolor": "#E5ECF6",
            "gridcolor": "white",
            "gridwidth": 2,
            "linecolor": "white",
            "showbackground": true,
            "ticks": "",
            "zerolinecolor": "white"
           },
           "yaxis": {
            "backgroundcolor": "#E5ECF6",
            "gridcolor": "white",
            "gridwidth": 2,
            "linecolor": "white",
            "showbackground": true,
            "ticks": "",
            "zerolinecolor": "white"
           },
           "zaxis": {
            "backgroundcolor": "#E5ECF6",
            "gridcolor": "white",
            "gridwidth": 2,
            "linecolor": "white",
            "showbackground": true,
            "ticks": "",
            "zerolinecolor": "white"
           }
          },
          "shapedefaults": {
           "line": {
            "color": "#2a3f5f"
           }
          },
          "ternary": {
           "aaxis": {
            "gridcolor": "white",
            "linecolor": "white",
            "ticks": ""
           },
           "baxis": {
            "gridcolor": "white",
            "linecolor": "white",
            "ticks": ""
           },
           "bgcolor": "#E5ECF6",
           "caxis": {
            "gridcolor": "white",
            "linecolor": "white",
            "ticks": ""
           }
          },
          "title": {
           "x": 0.05
          },
          "xaxis": {
           "automargin": true,
           "gridcolor": "white",
           "linecolor": "white",
           "ticks": "",
           "title": {
            "standoff": 15
           },
           "zerolinecolor": "white",
           "zerolinewidth": 2
          },
          "yaxis": {
           "automargin": true,
           "gridcolor": "white",
           "linecolor": "white",
           "ticks": "",
           "title": {
            "standoff": 15
           },
           "zerolinecolor": "white",
           "zerolinewidth": 2
          }
         }
        },
        "title": {
         "text": "R1 Structures: Frequency and Impact on Score Relative to All Factions Average (153.41): hadsch-hallas"
        }
       }
      },
      "text/html": [
       "<div>                            <div id=\"dc785ea5-18e9-4fb0-bbe6-c54da072d494\" class=\"plotly-graph-div\" style=\"height:525px; width:100%;\"></div>            <script type=\"text/javascript\">                require([\"plotly\"], function(Plotly) {                    window.PLOTLYENV=window.PLOTLYENV || {};                                    if (document.getElementById(\"dc785ea5-18e9-4fb0-bbe6-c54da072d494\")) {                    Plotly.newPlot(                        \"dc785ea5-18e9-4fb0-bbe6-c54da072d494\",                        [{\"branchvalues\":\"total\",\"customdata\":[[170.125,140.25],[128.14285714285714,132.57142857142858],[271.0,157.0],[105.66666666666667,137.33333333333334],[243.0,134.0],[158.0,150.33333333333334],[242.66666666666666,158.33333333333334],[262.0,139.33333333333334],[202.42727272727274,148.76363636363635],[452.0,160.0],[185.8181818181818,137.54545454545453],[225.77777777777777,153.38888888888889],[109.5,131.5],[153.55555555555554,132.83333333333334],[140.52380952380952,140.38095238095238],[174.4,132.2],[119.0,141.75],[235.75,150.5],[270.5,194.0],[245.05755395683454,153.83453237410072],[197.3921568627451,139.76470588235293],[180.29113924050634,145.0],[189.0,145.33333333333334],[189.11111111111111,153.44444444444446],[166.71428571428572,141.45714285714286],[209.83783783783784,152.74324324324326],[181.2,145.2],[112.0,171.0],[250.28571428571428,156.28571428571428],[188.3846153846154,144.39423076923077],[299.0,147.0],[189.0,138.6],[303.5,157.5],[157.14285714285714,160.14285714285714],[211.17777777777778,150.8740740740741],[266.56470588235294,165.50588235294117],[290.375,172.4375],[261.0,189.0],[\"(?)\",140.61832061068702],[\"(?)\",151.7537313432836],[\"(?)\",161.2],[\"(?)\",150.64597315436242],[\"(?)\",148.33333333333334],[\"(?)\",149.66600790513834]],\"domain\":{\"x\":[0.0,1.0],\"y\":[0.0,1.0]},\"hovertemplate\":\"labels=%{label}<br>class_counts=%{value}<br>parent=%{parent}<br>id=%{id}<br>ave_elo_hadsch-hallas=%{customdata[0]}<br>ave_score_hadsch-hallas=%{color}<extra></extra>\",\"ids\":[\"R1 Structures: Frequency and Overall Score for hadsch-hallas/PI/ 0-m_0-ts_1-lab_1-pi_0-ac1_0-ac2\",\"R1 Structures: Frequency and Overall Score for hadsch-hallas/lab/ 0-m_0-ts_2-lab_0-pi_0-ac1_0-ac2\",\"R1 Structures: Frequency and Overall Score for hadsch-hallas/ac1/ 0-m_1-ts_0-lab_0-pi_1-ac1_0-ac2\",\"R1 Structures: Frequency and Overall Score for hadsch-hallas/lab/ 0-m_1-ts_1-lab_0-pi_0-ac1_0-ac2\",\"R1 Structures: Frequency and Overall Score for hadsch-hallas/ts/ 0-m_2-ts_0-lab_0-pi_0-ac1_0-ac2\",\"R1 Structures: Frequency and Overall Score for hadsch-hallas/PI/ 0-m_2-ts_0-lab_1-pi_0-ac1_0-ac2\",\"R1 Structures: Frequency and Overall Score for hadsch-hallas/lab/ 0-m_2-ts_1-lab_0-pi_0-ac1_0-ac2\",\"R1 Structures: Frequency and Overall Score for hadsch-hallas/ac2/ 1-m_0-ts_0-lab_0-pi_0-ac1_1-ac2\",\"R1 Structures: Frequency and Overall Score for hadsch-hallas/ac1/ 1-m_0-ts_0-lab_0-pi_1-ac1_0-ac2\",\"R1 Structures: Frequency and Overall Score for hadsch-hallas/PI/ 1-m_0-ts_0-lab_1-pi_0-ac1_0-ac2\",\"R1 Structures: Frequency and Overall Score for hadsch-hallas/lab/ 1-m_0-ts_1-lab_0-pi_0-ac1_0-ac2\",\"R1 Structures: Frequency and Overall Score for hadsch-hallas/lab/ 1-m_0-ts_2-lab_0-pi_0-ac1_0-ac2\",\"R1 Structures: Frequency and Overall Score for hadsch-hallas/ac1/ 1-m_1-ts_0-lab_0-pi_1-ac1_0-ac2\",\"R1 Structures: Frequency and Overall Score for hadsch-hallas/PI/ 1-m_1-ts_0-lab_1-pi_0-ac1_0-ac2\",\"R1 Structures: Frequency and Overall Score for hadsch-hallas/lab/ 1-m_1-ts_1-lab_0-pi_0-ac1_0-ac2\",\"R1 Structures: Frequency and Overall Score for hadsch-hallas/PI/ 1-m_2-ts_0-lab_1-pi_0-ac1_0-ac2\",\"R1 Structures: Frequency and Overall Score for hadsch-hallas/lab/ 1-m_2-ts_1-lab_0-pi_0-ac1_0-ac2\",\"R1 Structures: Frequency and Overall Score for hadsch-hallas/ts/ 1-m_3-ts_0-lab_0-pi_0-ac1_0-ac2\",\"R1 Structures: Frequency and Overall Score for hadsch-hallas/ac2/ 2-m_0-ts_0-lab_0-pi_0-ac1_1-ac2\",\"R1 Structures: Frequency and Overall Score for hadsch-hallas/ac1/ 2-m_0-ts_0-lab_0-pi_1-ac1_0-ac2\",\"R1 Structures: Frequency and Overall Score for hadsch-hallas/PI/ 2-m_0-ts_0-lab_1-pi_0-ac1_0-ac2\",\"R1 Structures: Frequency and Overall Score for hadsch-hallas/lab/ 2-m_0-ts_1-lab_0-pi_0-ac1_0-ac2\",\"R1 Structures: Frequency and Overall Score for hadsch-hallas/PI/ 2-m_0-ts_1-lab_1-pi_0-ac1_0-ac2\",\"R1 Structures: Frequency and Overall Score for hadsch-hallas/lab/ 2-m_0-ts_2-lab_0-pi_0-ac1_0-ac2\",\"R1 Structures: Frequency and Overall Score for hadsch-hallas/PI/ 2-m_1-ts_0-lab_1-pi_0-ac1_0-ac2\",\"R1 Structures: Frequency and Overall Score for hadsch-hallas/lab/ 2-m_1-ts_1-lab_0-pi_0-ac1_0-ac2\",\"R1 Structures: Frequency and Overall Score for hadsch-hallas/ts/ 2-m_2-ts_0-lab_0-pi_0-ac1_0-ac2\",\"R1 Structures: Frequency and Overall Score for hadsch-hallas/ts/ 2-m_3-ts_0-lab_0-pi_0-ac1_0-ac2\",\"R1 Structures: Frequency and Overall Score for hadsch-hallas/ac1/ 3-m_0-ts_0-lab_0-pi_1-ac1_0-ac2\",\"R1 Structures: Frequency and Overall Score for hadsch-hallas/lab/ 3-m_0-ts_1-lab_0-pi_0-ac1_0-ac2\",\"R1 Structures: Frequency and Overall Score for hadsch-hallas/ts/ 3-m_1-ts_0-lab_0-pi_0-ac1_0-ac2\",\"R1 Structures: Frequency and Overall Score for hadsch-hallas/lab/ 3-m_1-ts_1-lab_0-pi_0-ac1_0-ac2\",\"R1 Structures: Frequency and Overall Score for hadsch-hallas/ac1/ 4-m_0-ts_0-lab_0-pi_1-ac1_0-ac2\",\"R1 Structures: Frequency and Overall Score for hadsch-hallas/PI/ 4-m_0-ts_0-lab_1-pi_0-ac1_0-ac2\",\"R1 Structures: Frequency and Overall Score for hadsch-hallas/lab/ 4-m_0-ts_1-lab_0-pi_0-ac1_0-ac2\",\"R1 Structures: Frequency and Overall Score for hadsch-hallas/lab/ 5-m_0-ts_1-lab_0-pi_0-ac1_0-ac2\",\"R1 Structures: Frequency and Overall Score for hadsch-hallas/lab/ 6-m_0-ts_1-lab_0-pi_0-ac1_0-ac2\",\"R1 Structures: Frequency and Overall Score for hadsch-hallas/lab/ 7-m_0-ts_1-lab_0-pi_0-ac1_0-ac2\",\"R1 Structures: Frequency and Overall Score for hadsch-hallas/PI\",\"R1 Structures: Frequency and Overall Score for hadsch-hallas/ac1\",\"R1 Structures: Frequency and Overall Score for hadsch-hallas/ac2\",\"R1 Structures: Frequency and Overall Score for hadsch-hallas/lab\",\"R1 Structures: Frequency and Overall Score for hadsch-hallas/ts\",\"R1 Structures: Frequency and Overall Score for hadsch-hallas\"],\"labels\":[\" 0-m_0-ts_1-lab_1-pi_0-ac1_0-ac2\",\" 0-m_0-ts_2-lab_0-pi_0-ac1_0-ac2\",\" 0-m_1-ts_0-lab_0-pi_1-ac1_0-ac2\",\" 0-m_1-ts_1-lab_0-pi_0-ac1_0-ac2\",\" 0-m_2-ts_0-lab_0-pi_0-ac1_0-ac2\",\" 0-m_2-ts_0-lab_1-pi_0-ac1_0-ac2\",\" 0-m_2-ts_1-lab_0-pi_0-ac1_0-ac2\",\" 1-m_0-ts_0-lab_0-pi_0-ac1_1-ac2\",\" 1-m_0-ts_0-lab_0-pi_1-ac1_0-ac2\",\" 1-m_0-ts_0-lab_1-pi_0-ac1_0-ac2\",\" 1-m_0-ts_1-lab_0-pi_0-ac1_0-ac2\",\" 1-m_0-ts_2-lab_0-pi_0-ac1_0-ac2\",\" 1-m_1-ts_0-lab_0-pi_1-ac1_0-ac2\",\" 1-m_1-ts_0-lab_1-pi_0-ac1_0-ac2\",\" 1-m_1-ts_1-lab_0-pi_0-ac1_0-ac2\",\" 1-m_2-ts_0-lab_1-pi_0-ac1_0-ac2\",\" 1-m_2-ts_1-lab_0-pi_0-ac1_0-ac2\",\" 1-m_3-ts_0-lab_0-pi_0-ac1_0-ac2\",\" 2-m_0-ts_0-lab_0-pi_0-ac1_1-ac2\",\" 2-m_0-ts_0-lab_0-pi_1-ac1_0-ac2\",\" 2-m_0-ts_0-lab_1-pi_0-ac1_0-ac2\",\" 2-m_0-ts_1-lab_0-pi_0-ac1_0-ac2\",\" 2-m_0-ts_1-lab_1-pi_0-ac1_0-ac2\",\" 2-m_0-ts_2-lab_0-pi_0-ac1_0-ac2\",\" 2-m_1-ts_0-lab_1-pi_0-ac1_0-ac2\",\" 2-m_1-ts_1-lab_0-pi_0-ac1_0-ac2\",\" 2-m_2-ts_0-lab_0-pi_0-ac1_0-ac2\",\" 2-m_3-ts_0-lab_0-pi_0-ac1_0-ac2\",\" 3-m_0-ts_0-lab_0-pi_1-ac1_0-ac2\",\" 3-m_0-ts_1-lab_0-pi_0-ac1_0-ac2\",\" 3-m_1-ts_0-lab_0-pi_0-ac1_0-ac2\",\" 3-m_1-ts_1-lab_0-pi_0-ac1_0-ac2\",\" 4-m_0-ts_0-lab_0-pi_1-ac1_0-ac2\",\" 4-m_0-ts_0-lab_1-pi_0-ac1_0-ac2\",\" 4-m_0-ts_1-lab_0-pi_0-ac1_0-ac2\",\" 5-m_0-ts_1-lab_0-pi_0-ac1_0-ac2\",\" 6-m_0-ts_1-lab_0-pi_0-ac1_0-ac2\",\" 7-m_0-ts_1-lab_0-pi_0-ac1_0-ac2\",\"PI\",\"ac1\",\"ac2\",\"lab\",\"ts\",\"R1 Structures: Frequency and Overall Score for hadsch-hallas\"],\"marker\":{\"coloraxis\":\"coloraxis\",\"colors\":[140.25,132.57142857142858,157.0,137.33333333333334,134.0,150.33333333333334,158.33333333333334,139.33333333333334,148.76363636363635,160.0,137.54545454545453,153.38888888888889,131.5,132.83333333333334,140.38095238095238,132.2,141.75,150.5,194.0,153.83453237410072,139.76470588235293,145.0,145.33333333333334,153.44444444444446,141.45714285714286,152.74324324324326,145.2,171.0,156.28571428571428,144.39423076923077,147.0,138.6,157.5,160.14285714285714,150.8740740740741,165.50588235294117,172.4375,189.0,140.61832061068702,151.7537313432836,161.2,150.64597315436242,148.33333333333334,149.66600790513834]},\"name\":\"\",\"parents\":[\"R1 Structures: Frequency and Overall Score for hadsch-hallas/PI\",\"R1 Structures: Frequency and Overall Score for hadsch-hallas/lab\",\"R1 Structures: Frequency and Overall Score for hadsch-hallas/ac1\",\"R1 Structures: Frequency and Overall Score for hadsch-hallas/lab\",\"R1 Structures: Frequency and Overall Score for hadsch-hallas/ts\",\"R1 Structures: Frequency and Overall Score for hadsch-hallas/PI\",\"R1 Structures: Frequency and Overall Score for hadsch-hallas/lab\",\"R1 Structures: Frequency and Overall Score for hadsch-hallas/ac2\",\"R1 Structures: Frequency and Overall Score for hadsch-hallas/ac1\",\"R1 Structures: Frequency and Overall Score for hadsch-hallas/PI\",\"R1 Structures: Frequency and Overall Score for hadsch-hallas/lab\",\"R1 Structures: Frequency and Overall Score for hadsch-hallas/lab\",\"R1 Structures: Frequency and Overall Score for hadsch-hallas/ac1\",\"R1 Structures: Frequency and Overall Score for hadsch-hallas/PI\",\"R1 Structures: Frequency and Overall Score for hadsch-hallas/lab\",\"R1 Structures: Frequency and Overall Score for hadsch-hallas/PI\",\"R1 Structures: Frequency and Overall Score for hadsch-hallas/lab\",\"R1 Structures: Frequency and Overall Score for hadsch-hallas/ts\",\"R1 Structures: Frequency and Overall Score for hadsch-hallas/ac2\",\"R1 Structures: Frequency and Overall Score for hadsch-hallas/ac1\",\"R1 Structures: Frequency and Overall Score for hadsch-hallas/PI\",\"R1 Structures: Frequency and Overall Score for hadsch-hallas/lab\",\"R1 Structures: Frequency and Overall Score for hadsch-hallas/PI\",\"R1 Structures: Frequency and Overall Score for hadsch-hallas/lab\",\"R1 Structures: Frequency and Overall Score for hadsch-hallas/PI\",\"R1 Structures: Frequency and Overall Score for hadsch-hallas/lab\",\"R1 Structures: Frequency and Overall Score for hadsch-hallas/ts\",\"R1 Structures: Frequency and Overall Score for hadsch-hallas/ts\",\"R1 Structures: Frequency and Overall Score for hadsch-hallas/ac1\",\"R1 Structures: Frequency and Overall Score for hadsch-hallas/lab\",\"R1 Structures: Frequency and Overall Score for hadsch-hallas/ts\",\"R1 Structures: Frequency and Overall Score for hadsch-hallas/lab\",\"R1 Structures: Frequency and Overall Score for hadsch-hallas/ac1\",\"R1 Structures: Frequency and Overall Score for hadsch-hallas/PI\",\"R1 Structures: Frequency and Overall Score for hadsch-hallas/lab\",\"R1 Structures: Frequency and Overall Score for hadsch-hallas/lab\",\"R1 Structures: Frequency and Overall Score for hadsch-hallas/lab\",\"R1 Structures: Frequency and Overall Score for hadsch-hallas/lab\",\"R1 Structures: Frequency and Overall Score for hadsch-hallas\",\"R1 Structures: Frequency and Overall Score for hadsch-hallas\",\"R1 Structures: Frequency and Overall Score for hadsch-hallas\",\"R1 Structures: Frequency and Overall Score for hadsch-hallas\",\"R1 Structures: Frequency and Overall Score for hadsch-hallas\",\"\"],\"values\":[8,7,1,3,1,3,3,3,110,1,11,18,2,18,42,5,4,4,2,139,51,79,3,9,35,74,5,1,14,104,1,5,2,7,135,85,16,1,131,268,5,596,12,1012],\"type\":\"treemap\"}],                        {\"template\":{\"data\":{\"bar\":[{\"error_x\":{\"color\":\"#2a3f5f\"},\"error_y\":{\"color\":\"#2a3f5f\"},\"marker\":{\"line\":{\"color\":\"#E5ECF6\",\"width\":0.5},\"pattern\":{\"fillmode\":\"overlay\",\"size\":10,\"solidity\":0.2}},\"type\":\"bar\"}],\"barpolar\":[{\"marker\":{\"line\":{\"color\":\"#E5ECF6\",\"width\":0.5},\"pattern\":{\"fillmode\":\"overlay\",\"size\":10,\"solidity\":0.2}},\"type\":\"barpolar\"}],\"carpet\":[{\"aaxis\":{\"endlinecolor\":\"#2a3f5f\",\"gridcolor\":\"white\",\"linecolor\":\"white\",\"minorgridcolor\":\"white\",\"startlinecolor\":\"#2a3f5f\"},\"baxis\":{\"endlinecolor\":\"#2a3f5f\",\"gridcolor\":\"white\",\"linecolor\":\"white\",\"minorgridcolor\":\"white\",\"startlinecolor\":\"#2a3f5f\"},\"type\":\"carpet\"}],\"choropleth\":[{\"colorbar\":{\"outlinewidth\":0,\"ticks\":\"\"},\"type\":\"choropleth\"}],\"contour\":[{\"colorbar\":{\"outlinewidth\":0,\"ticks\":\"\"},\"colorscale\":[[0.0,\"#0d0887\"],[0.1111111111111111,\"#46039f\"],[0.2222222222222222,\"#7201a8\"],[0.3333333333333333,\"#9c179e\"],[0.4444444444444444,\"#bd3786\"],[0.5555555555555556,\"#d8576b\"],[0.6666666666666666,\"#ed7953\"],[0.7777777777777778,\"#fb9f3a\"],[0.8888888888888888,\"#fdca26\"],[1.0,\"#f0f921\"]],\"type\":\"contour\"}],\"contourcarpet\":[{\"colorbar\":{\"outlinewidth\":0,\"ticks\":\"\"},\"type\":\"contourcarpet\"}],\"heatmap\":[{\"colorbar\":{\"outlinewidth\":0,\"ticks\":\"\"},\"colorscale\":[[0.0,\"#0d0887\"],[0.1111111111111111,\"#46039f\"],[0.2222222222222222,\"#7201a8\"],[0.3333333333333333,\"#9c179e\"],[0.4444444444444444,\"#bd3786\"],[0.5555555555555556,\"#d8576b\"],[0.6666666666666666,\"#ed7953\"],[0.7777777777777778,\"#fb9f3a\"],[0.8888888888888888,\"#fdca26\"],[1.0,\"#f0f921\"]],\"type\":\"heatmap\"}],\"heatmapgl\":[{\"colorbar\":{\"outlinewidth\":0,\"ticks\":\"\"},\"colorscale\":[[0.0,\"#0d0887\"],[0.1111111111111111,\"#46039f\"],[0.2222222222222222,\"#7201a8\"],[0.3333333333333333,\"#9c179e\"],[0.4444444444444444,\"#bd3786\"],[0.5555555555555556,\"#d8576b\"],[0.6666666666666666,\"#ed7953\"],[0.7777777777777778,\"#fb9f3a\"],[0.8888888888888888,\"#fdca26\"],[1.0,\"#f0f921\"]],\"type\":\"heatmapgl\"}],\"histogram\":[{\"marker\":{\"pattern\":{\"fillmode\":\"overlay\",\"size\":10,\"solidity\":0.2}},\"type\":\"histogram\"}],\"histogram2d\":[{\"colorbar\":{\"outlinewidth\":0,\"ticks\":\"\"},\"colorscale\":[[0.0,\"#0d0887\"],[0.1111111111111111,\"#46039f\"],[0.2222222222222222,\"#7201a8\"],[0.3333333333333333,\"#9c179e\"],[0.4444444444444444,\"#bd3786\"],[0.5555555555555556,\"#d8576b\"],[0.6666666666666666,\"#ed7953\"],[0.7777777777777778,\"#fb9f3a\"],[0.8888888888888888,\"#fdca26\"],[1.0,\"#f0f921\"]],\"type\":\"histogram2d\"}],\"histogram2dcontour\":[{\"colorbar\":{\"outlinewidth\":0,\"ticks\":\"\"},\"colorscale\":[[0.0,\"#0d0887\"],[0.1111111111111111,\"#46039f\"],[0.2222222222222222,\"#7201a8\"],[0.3333333333333333,\"#9c179e\"],[0.4444444444444444,\"#bd3786\"],[0.5555555555555556,\"#d8576b\"],[0.6666666666666666,\"#ed7953\"],[0.7777777777777778,\"#fb9f3a\"],[0.8888888888888888,\"#fdca26\"],[1.0,\"#f0f921\"]],\"type\":\"histogram2dcontour\"}],\"mesh3d\":[{\"colorbar\":{\"outlinewidth\":0,\"ticks\":\"\"},\"type\":\"mesh3d\"}],\"parcoords\":[{\"line\":{\"colorbar\":{\"outlinewidth\":0,\"ticks\":\"\"}},\"type\":\"parcoords\"}],\"pie\":[{\"automargin\":true,\"type\":\"pie\"}],\"scatter\":[{\"marker\":{\"colorbar\":{\"outlinewidth\":0,\"ticks\":\"\"}},\"type\":\"scatter\"}],\"scatter3d\":[{\"line\":{\"colorbar\":{\"outlinewidth\":0,\"ticks\":\"\"}},\"marker\":{\"colorbar\":{\"outlinewidth\":0,\"ticks\":\"\"}},\"type\":\"scatter3d\"}],\"scattercarpet\":[{\"marker\":{\"colorbar\":{\"outlinewidth\":0,\"ticks\":\"\"}},\"type\":\"scattercarpet\"}],\"scattergeo\":[{\"marker\":{\"colorbar\":{\"outlinewidth\":0,\"ticks\":\"\"}},\"type\":\"scattergeo\"}],\"scattergl\":[{\"marker\":{\"colorbar\":{\"outlinewidth\":0,\"ticks\":\"\"}},\"type\":\"scattergl\"}],\"scattermapbox\":[{\"marker\":{\"colorbar\":{\"outlinewidth\":0,\"ticks\":\"\"}},\"type\":\"scattermapbox\"}],\"scatterpolar\":[{\"marker\":{\"colorbar\":{\"outlinewidth\":0,\"ticks\":\"\"}},\"type\":\"scatterpolar\"}],\"scatterpolargl\":[{\"marker\":{\"colorbar\":{\"outlinewidth\":0,\"ticks\":\"\"}},\"type\":\"scatterpolargl\"}],\"scatterternary\":[{\"marker\":{\"colorbar\":{\"outlinewidth\":0,\"ticks\":\"\"}},\"type\":\"scatterternary\"}],\"surface\":[{\"colorbar\":{\"outlinewidth\":0,\"ticks\":\"\"},\"colorscale\":[[0.0,\"#0d0887\"],[0.1111111111111111,\"#46039f\"],[0.2222222222222222,\"#7201a8\"],[0.3333333333333333,\"#9c179e\"],[0.4444444444444444,\"#bd3786\"],[0.5555555555555556,\"#d8576b\"],[0.6666666666666666,\"#ed7953\"],[0.7777777777777778,\"#fb9f3a\"],[0.8888888888888888,\"#fdca26\"],[1.0,\"#f0f921\"]],\"type\":\"surface\"}],\"table\":[{\"cells\":{\"fill\":{\"color\":\"#EBF0F8\"},\"line\":{\"color\":\"white\"}},\"header\":{\"fill\":{\"color\":\"#C8D4E3\"},\"line\":{\"color\":\"white\"}},\"type\":\"table\"}]},\"layout\":{\"annotationdefaults\":{\"arrowcolor\":\"#2a3f5f\",\"arrowhead\":0,\"arrowwidth\":1},\"autotypenumbers\":\"strict\",\"coloraxis\":{\"colorbar\":{\"outlinewidth\":0,\"ticks\":\"\"}},\"colorscale\":{\"diverging\":[[0,\"#8e0152\"],[0.1,\"#c51b7d\"],[0.2,\"#de77ae\"],[0.3,\"#f1b6da\"],[0.4,\"#fde0ef\"],[0.5,\"#f7f7f7\"],[0.6,\"#e6f5d0\"],[0.7,\"#b8e186\"],[0.8,\"#7fbc41\"],[0.9,\"#4d9221\"],[1,\"#276419\"]],\"sequential\":[[0.0,\"#0d0887\"],[0.1111111111111111,\"#46039f\"],[0.2222222222222222,\"#7201a8\"],[0.3333333333333333,\"#9c179e\"],[0.4444444444444444,\"#bd3786\"],[0.5555555555555556,\"#d8576b\"],[0.6666666666666666,\"#ed7953\"],[0.7777777777777778,\"#fb9f3a\"],[0.8888888888888888,\"#fdca26\"],[1.0,\"#f0f921\"]],\"sequentialminus\":[[0.0,\"#0d0887\"],[0.1111111111111111,\"#46039f\"],[0.2222222222222222,\"#7201a8\"],[0.3333333333333333,\"#9c179e\"],[0.4444444444444444,\"#bd3786\"],[0.5555555555555556,\"#d8576b\"],[0.6666666666666666,\"#ed7953\"],[0.7777777777777778,\"#fb9f3a\"],[0.8888888888888888,\"#fdca26\"],[1.0,\"#f0f921\"]]},\"colorway\":[\"#636efa\",\"#EF553B\",\"#00cc96\",\"#ab63fa\",\"#FFA15A\",\"#19d3f3\",\"#FF6692\",\"#B6E880\",\"#FF97FF\",\"#FECB52\"],\"font\":{\"color\":\"#2a3f5f\"},\"geo\":{\"bgcolor\":\"white\",\"lakecolor\":\"white\",\"landcolor\":\"#E5ECF6\",\"showlakes\":true,\"showland\":true,\"subunitcolor\":\"white\"},\"hoverlabel\":{\"align\":\"left\"},\"hovermode\":\"closest\",\"mapbox\":{\"style\":\"light\"},\"paper_bgcolor\":\"white\",\"plot_bgcolor\":\"#E5ECF6\",\"polar\":{\"angularaxis\":{\"gridcolor\":\"white\",\"linecolor\":\"white\",\"ticks\":\"\"},\"bgcolor\":\"#E5ECF6\",\"radialaxis\":{\"gridcolor\":\"white\",\"linecolor\":\"white\",\"ticks\":\"\"}},\"scene\":{\"xaxis\":{\"backgroundcolor\":\"#E5ECF6\",\"gridcolor\":\"white\",\"gridwidth\":2,\"linecolor\":\"white\",\"showbackground\":true,\"ticks\":\"\",\"zerolinecolor\":\"white\"},\"yaxis\":{\"backgroundcolor\":\"#E5ECF6\",\"gridcolor\":\"white\",\"gridwidth\":2,\"linecolor\":\"white\",\"showbackground\":true,\"ticks\":\"\",\"zerolinecolor\":\"white\"},\"zaxis\":{\"backgroundcolor\":\"#E5ECF6\",\"gridcolor\":\"white\",\"gridwidth\":2,\"linecolor\":\"white\",\"showbackground\":true,\"ticks\":\"\",\"zerolinecolor\":\"white\"}},\"shapedefaults\":{\"line\":{\"color\":\"#2a3f5f\"}},\"ternary\":{\"aaxis\":{\"gridcolor\":\"white\",\"linecolor\":\"white\",\"ticks\":\"\"},\"baxis\":{\"gridcolor\":\"white\",\"linecolor\":\"white\",\"ticks\":\"\"},\"bgcolor\":\"#E5ECF6\",\"caxis\":{\"gridcolor\":\"white\",\"linecolor\":\"white\",\"ticks\":\"\"}},\"title\":{\"x\":0.05},\"xaxis\":{\"automargin\":true,\"gridcolor\":\"white\",\"linecolor\":\"white\",\"ticks\":\"\",\"title\":{\"standoff\":15},\"zerolinecolor\":\"white\",\"zerolinewidth\":2},\"yaxis\":{\"automargin\":true,\"gridcolor\":\"white\",\"linecolor\":\"white\",\"ticks\":\"\",\"title\":{\"standoff\":15},\"zerolinecolor\":\"white\",\"zerolinewidth\":2}}},\"coloraxis\":{\"colorbar\":{\"title\":{\"text\":\"ave_score_hadsch-hallas\"}},\"colorscale\":[[0.0,\"rgb(103,0,31)\"],[0.1,\"rgb(178,24,43)\"],[0.2,\"rgb(214,96,77)\"],[0.3,\"rgb(244,165,130)\"],[0.4,\"rgb(253,219,199)\"],[0.5,\"rgb(247,247,247)\"],[0.6,\"rgb(209,229,240)\"],[0.7,\"rgb(146,197,222)\"],[0.8,\"rgb(67,147,195)\"],[0.9,\"rgb(33,102,172)\"],[1.0,\"rgb(5,48,97)\"]],\"cmid\":153.409394703657},\"legend\":{\"tracegroupgap\":0},\"margin\":{\"t\":50,\"l\":25,\"r\":25,\"b\":25},\"title\":{\"text\":\"R1 Structures: Frequency and Impact on Score Relative to All Factions Average (153.41): hadsch-hallas\"}},                        {\"responsive\": true}                    ).then(function(){\n",
       "                            \n",
       "var gd = document.getElementById('dc785ea5-18e9-4fb0-bbe6-c54da072d494');\n",
       "var x = new MutationObserver(function (mutations, observer) {{\n",
       "        var display = window.getComputedStyle(gd).display;\n",
       "        if (!display || display === 'none') {{\n",
       "            console.log([gd, 'removed!']);\n",
       "            Plotly.purge(gd);\n",
       "            observer.disconnect();\n",
       "        }}\n",
       "}});\n",
       "\n",
       "// Listen for the removal of the full notebook cells\n",
       "var notebookContainer = gd.closest('#notebook-container');\n",
       "if (notebookContainer) {{\n",
       "    x.observe(notebookContainer, {childList: true});\n",
       "}}\n",
       "\n",
       "// Listen for the clearing of the current output cell\n",
       "var outputEl = gd.closest('.output');\n",
       "if (outputEl) {{\n",
       "    x.observe(outputEl, {childList: true});\n",
       "}}\n",
       "\n",
       "                        })                };                });            </script>        </div>"
      ]
     },
     "metadata": {},
     "output_type": "display_data"
    },
    {
     "data": {
      "application/vnd.plotly.v1+json": {
       "config": {
        "plotlyServerURL": "https://plot.ly"
       },
       "data": [
        {
         "branchvalues": "total",
         "customdata": [
          [
           217,
           151
          ],
          [
           260.0676691729323,
           164.93984962406014
          ],
          [
           173.5,
           132.5
          ],
          [
           155,
           127
          ],
          [
           83.25,
           114.75
          ],
          [
           201.82608695652175,
           144.7826086956522
          ],
          [
           118,
           122
          ],
          [
           287.6623376623377,
           170.1038961038961
          ],
          [
           223.5974025974026,
           150.6103896103896
          ],
          [
           215,
           173
          ],
          [
           83.33333333333333,
           136
          ],
          [
           178,
           130.625
          ],
          [
           216.07692307692307,
           152.8945868945869
          ],
          [
           246.16666666666666,
           148.16666666666666
          ],
          [
           212.3181818181818,
           153.7159090909091
          ],
          [
           110,
           136.25
          ],
          [
           104,
           128.5
          ],
          [
           187.55789473684212,
           146.1578947368421
          ],
          [
           101,
           115.5
          ],
          [
           124,
           140.33333333333334
          ],
          [
           265.94444444444446,
           154.22222222222223
          ],
          [
           72,
           128
          ],
          [
           "(?)",
           164.21153846153845
          ],
          [
           "(?)",
           132.4
          ],
          [
           "(?)",
           151.15912408759124
          ],
          [
           "(?)",
           135.57142857142858
          ],
          [
           "(?)",
           155.44580584354384
          ]
         ],
         "domain": {
          "x": [
           0,
           1
          ],
          "y": [
           0,
           1
          ]
         },
         "hovertemplate": "labels=%{label}<br>class_counts=%{value}<br>parent=%{parent}<br>id=%{id}<br>ave_elo_firaks=%{customdata[0]}<br>ave_score_firaks=%{color}<extra></extra>",
         "ids": [
          "R1 Structures: Frequency and Overall Score for firaks/PI/ 0-m_0-ts_1-lab_1-pi_0-ac1_0-ac2",
          "R1 Structures: Frequency and Overall Score for firaks/PI/ 0-m_1-ts_0-lab_1-pi_0-ac1_0-ac2",
          "R1 Structures: Frequency and Overall Score for firaks/lab/ 0-m_1-ts_1-lab_0-pi_0-ac1_0-ac2",
          "R1 Structures: Frequency and Overall Score for firaks/ac1/ 1-m_0-ts_0-lab_0-pi_1-ac1_0-ac2",
          "R1 Structures: Frequency and Overall Score for firaks/PI/ 1-m_0-ts_0-lab_1-pi_0-ac1_0-ac2",
          "R1 Structures: Frequency and Overall Score for firaks/lab/ 1-m_0-ts_1-lab_0-pi_0-ac1_0-ac2",
          "R1 Structures: Frequency and Overall Score for firaks/lab/ 1-m_0-ts_2-lab_0-pi_0-ac1_0-ac2",
          "R1 Structures: Frequency and Overall Score for firaks/PI/ 1-m_1-ts_0-lab_1-pi_0-ac1_0-ac2",
          "R1 Structures: Frequency and Overall Score for firaks/lab/ 1-m_1-ts_1-lab_0-pi_0-ac1_0-ac2",
          "R1 Structures: Frequency and Overall Score for firaks/ts/ 1-m_3-ts_0-lab_0-pi_0-ac1_0-ac2",
          "R1 Structures: Frequency and Overall Score for firaks/ac1/ 2-m_0-ts_0-lab_0-pi_1-ac1_0-ac2",
          "R1 Structures: Frequency and Overall Score for firaks/PI/ 2-m_0-ts_0-lab_1-pi_0-ac1_0-ac2",
          "R1 Structures: Frequency and Overall Score for firaks/lab/ 2-m_0-ts_1-lab_0-pi_0-ac1_0-ac2",
          "R1 Structures: Frequency and Overall Score for firaks/PI/ 2-m_1-ts_0-lab_1-pi_0-ac1_0-ac2",
          "R1 Structures: Frequency and Overall Score for firaks/lab/ 2-m_1-ts_1-lab_0-pi_0-ac1_0-ac2",
          "R1 Structures: Frequency and Overall Score for firaks/ts/ 2-m_2-ts_0-lab_0-pi_0-ac1_0-ac2",
          "R1 Structures: Frequency and Overall Score for firaks/PI/ 3-m_0-ts_0-lab_1-pi_0-ac1_0-ac2",
          "R1 Structures: Frequency and Overall Score for firaks/lab/ 3-m_0-ts_1-lab_0-pi_0-ac1_0-ac2",
          "R1 Structures: Frequency and Overall Score for firaks/ts/ 3-m_1-ts_0-lab_0-pi_0-ac1_0-ac2",
          "R1 Structures: Frequency and Overall Score for firaks/lab/ 3-m_1-ts_1-lab_0-pi_0-ac1_0-ac2",
          "R1 Structures: Frequency and Overall Score for firaks/lab/ 4-m_0-ts_1-lab_0-pi_0-ac1_0-ac2",
          "R1 Structures: Frequency and Overall Score for firaks/lab/ 5-m_0-ts_1-lab_0-pi_0-ac1_0-ac2",
          "R1 Structures: Frequency and Overall Score for firaks/PI",
          "R1 Structures: Frequency and Overall Score for firaks/ac1",
          "R1 Structures: Frequency and Overall Score for firaks/lab",
          "R1 Structures: Frequency and Overall Score for firaks/ts",
          "R1 Structures: Frequency and Overall Score for firaks"
         ],
         "labels": [
          " 0-m_0-ts_1-lab_1-pi_0-ac1_0-ac2",
          " 0-m_1-ts_0-lab_1-pi_0-ac1_0-ac2",
          " 0-m_1-ts_1-lab_0-pi_0-ac1_0-ac2",
          " 1-m_0-ts_0-lab_0-pi_1-ac1_0-ac2",
          " 1-m_0-ts_0-lab_1-pi_0-ac1_0-ac2",
          " 1-m_0-ts_1-lab_0-pi_0-ac1_0-ac2",
          " 1-m_0-ts_2-lab_0-pi_0-ac1_0-ac2",
          " 1-m_1-ts_0-lab_1-pi_0-ac1_0-ac2",
          " 1-m_1-ts_1-lab_0-pi_0-ac1_0-ac2",
          " 1-m_3-ts_0-lab_0-pi_0-ac1_0-ac2",
          " 2-m_0-ts_0-lab_0-pi_1-ac1_0-ac2",
          " 2-m_0-ts_0-lab_1-pi_0-ac1_0-ac2",
          " 2-m_0-ts_1-lab_0-pi_0-ac1_0-ac2",
          " 2-m_1-ts_0-lab_1-pi_0-ac1_0-ac2",
          " 2-m_1-ts_1-lab_0-pi_0-ac1_0-ac2",
          " 2-m_2-ts_0-lab_0-pi_0-ac1_0-ac2",
          " 3-m_0-ts_0-lab_1-pi_0-ac1_0-ac2",
          " 3-m_0-ts_1-lab_0-pi_0-ac1_0-ac2",
          " 3-m_1-ts_0-lab_0-pi_0-ac1_0-ac2",
          " 3-m_1-ts_1-lab_0-pi_0-ac1_0-ac2",
          " 4-m_0-ts_1-lab_0-pi_0-ac1_0-ac2",
          " 5-m_0-ts_1-lab_0-pi_0-ac1_0-ac2",
          "PI",
          "ac1",
          "lab",
          "ts",
          "R1 Structures: Frequency and Overall Score for firaks"
         ],
         "marker": {
          "coloraxis": "coloraxis",
          "colors": [
           151,
           164.93984962406014,
           132.5,
           127,
           114.75,
           144.7826086956522,
           122,
           170.1038961038961,
           150.6103896103896,
           173,
           136,
           130.625,
           152.8945868945869,
           148.16666666666666,
           153.7159090909091,
           136.25,
           128.5,
           146.1578947368421,
           115.5,
           140.33333333333334,
           154.22222222222223,
           128,
           164.21153846153845,
           132.4,
           151.15912408759124,
           135.57142857142858,
           155.44580584354384
          ]
         },
         "name": "",
         "parents": [
          "R1 Structures: Frequency and Overall Score for firaks/PI",
          "R1 Structures: Frequency and Overall Score for firaks/PI",
          "R1 Structures: Frequency and Overall Score for firaks/lab",
          "R1 Structures: Frequency and Overall Score for firaks/ac1",
          "R1 Structures: Frequency and Overall Score for firaks/PI",
          "R1 Structures: Frequency and Overall Score for firaks/lab",
          "R1 Structures: Frequency and Overall Score for firaks/lab",
          "R1 Structures: Frequency and Overall Score for firaks/PI",
          "R1 Structures: Frequency and Overall Score for firaks/lab",
          "R1 Structures: Frequency and Overall Score for firaks/ts",
          "R1 Structures: Frequency and Overall Score for firaks/ac1",
          "R1 Structures: Frequency and Overall Score for firaks/PI",
          "R1 Structures: Frequency and Overall Score for firaks/lab",
          "R1 Structures: Frequency and Overall Score for firaks/PI",
          "R1 Structures: Frequency and Overall Score for firaks/lab",
          "R1 Structures: Frequency and Overall Score for firaks/ts",
          "R1 Structures: Frequency and Overall Score for firaks/PI",
          "R1 Structures: Frequency and Overall Score for firaks/lab",
          "R1 Structures: Frequency and Overall Score for firaks/ts",
          "R1 Structures: Frequency and Overall Score for firaks/lab",
          "R1 Structures: Frequency and Overall Score for firaks/lab",
          "R1 Structures: Frequency and Overall Score for firaks/lab",
          "R1 Structures: Frequency and Overall Score for firaks",
          "R1 Structures: Frequency and Overall Score for firaks",
          "R1 Structures: Frequency and Overall Score for firaks",
          "R1 Structures: Frequency and Overall Score for firaks",
          ""
         ],
         "type": "treemap",
         "values": [
          1,
          266,
          8,
          2,
          4,
          23,
          1,
          77,
          77,
          1,
          3,
          8,
          351,
          6,
          88,
          4,
          2,
          95,
          2,
          3,
          36,
          3,
          364,
          5,
          685,
          7,
          1061
         ]
        }
       ],
       "layout": {
        "coloraxis": {
         "cmid": 153.409394703657,
         "colorbar": {
          "title": {
           "text": "ave_score_firaks"
          }
         },
         "colorscale": [
          [
           0,
           "rgb(103,0,31)"
          ],
          [
           0.1,
           "rgb(178,24,43)"
          ],
          [
           0.2,
           "rgb(214,96,77)"
          ],
          [
           0.3,
           "rgb(244,165,130)"
          ],
          [
           0.4,
           "rgb(253,219,199)"
          ],
          [
           0.5,
           "rgb(247,247,247)"
          ],
          [
           0.6,
           "rgb(209,229,240)"
          ],
          [
           0.7,
           "rgb(146,197,222)"
          ],
          [
           0.8,
           "rgb(67,147,195)"
          ],
          [
           0.9,
           "rgb(33,102,172)"
          ],
          [
           1,
           "rgb(5,48,97)"
          ]
         ]
        },
        "legend": {
         "tracegroupgap": 0
        },
        "margin": {
         "b": 25,
         "l": 25,
         "r": 25,
         "t": 50
        },
        "template": {
         "data": {
          "bar": [
           {
            "error_x": {
             "color": "#2a3f5f"
            },
            "error_y": {
             "color": "#2a3f5f"
            },
            "marker": {
             "line": {
              "color": "#E5ECF6",
              "width": 0.5
             },
             "pattern": {
              "fillmode": "overlay",
              "size": 10,
              "solidity": 0.2
             }
            },
            "type": "bar"
           }
          ],
          "barpolar": [
           {
            "marker": {
             "line": {
              "color": "#E5ECF6",
              "width": 0.5
             },
             "pattern": {
              "fillmode": "overlay",
              "size": 10,
              "solidity": 0.2
             }
            },
            "type": "barpolar"
           }
          ],
          "carpet": [
           {
            "aaxis": {
             "endlinecolor": "#2a3f5f",
             "gridcolor": "white",
             "linecolor": "white",
             "minorgridcolor": "white",
             "startlinecolor": "#2a3f5f"
            },
            "baxis": {
             "endlinecolor": "#2a3f5f",
             "gridcolor": "white",
             "linecolor": "white",
             "minorgridcolor": "white",
             "startlinecolor": "#2a3f5f"
            },
            "type": "carpet"
           }
          ],
          "choropleth": [
           {
            "colorbar": {
             "outlinewidth": 0,
             "ticks": ""
            },
            "type": "choropleth"
           }
          ],
          "contour": [
           {
            "colorbar": {
             "outlinewidth": 0,
             "ticks": ""
            },
            "colorscale": [
             [
              0,
              "#0d0887"
             ],
             [
              0.1111111111111111,
              "#46039f"
             ],
             [
              0.2222222222222222,
              "#7201a8"
             ],
             [
              0.3333333333333333,
              "#9c179e"
             ],
             [
              0.4444444444444444,
              "#bd3786"
             ],
             [
              0.5555555555555556,
              "#d8576b"
             ],
             [
              0.6666666666666666,
              "#ed7953"
             ],
             [
              0.7777777777777778,
              "#fb9f3a"
             ],
             [
              0.8888888888888888,
              "#fdca26"
             ],
             [
              1,
              "#f0f921"
             ]
            ],
            "type": "contour"
           }
          ],
          "contourcarpet": [
           {
            "colorbar": {
             "outlinewidth": 0,
             "ticks": ""
            },
            "type": "contourcarpet"
           }
          ],
          "heatmap": [
           {
            "colorbar": {
             "outlinewidth": 0,
             "ticks": ""
            },
            "colorscale": [
             [
              0,
              "#0d0887"
             ],
             [
              0.1111111111111111,
              "#46039f"
             ],
             [
              0.2222222222222222,
              "#7201a8"
             ],
             [
              0.3333333333333333,
              "#9c179e"
             ],
             [
              0.4444444444444444,
              "#bd3786"
             ],
             [
              0.5555555555555556,
              "#d8576b"
             ],
             [
              0.6666666666666666,
              "#ed7953"
             ],
             [
              0.7777777777777778,
              "#fb9f3a"
             ],
             [
              0.8888888888888888,
              "#fdca26"
             ],
             [
              1,
              "#f0f921"
             ]
            ],
            "type": "heatmap"
           }
          ],
          "heatmapgl": [
           {
            "colorbar": {
             "outlinewidth": 0,
             "ticks": ""
            },
            "colorscale": [
             [
              0,
              "#0d0887"
             ],
             [
              0.1111111111111111,
              "#46039f"
             ],
             [
              0.2222222222222222,
              "#7201a8"
             ],
             [
              0.3333333333333333,
              "#9c179e"
             ],
             [
              0.4444444444444444,
              "#bd3786"
             ],
             [
              0.5555555555555556,
              "#d8576b"
             ],
             [
              0.6666666666666666,
              "#ed7953"
             ],
             [
              0.7777777777777778,
              "#fb9f3a"
             ],
             [
              0.8888888888888888,
              "#fdca26"
             ],
             [
              1,
              "#f0f921"
             ]
            ],
            "type": "heatmapgl"
           }
          ],
          "histogram": [
           {
            "marker": {
             "pattern": {
              "fillmode": "overlay",
              "size": 10,
              "solidity": 0.2
             }
            },
            "type": "histogram"
           }
          ],
          "histogram2d": [
           {
            "colorbar": {
             "outlinewidth": 0,
             "ticks": ""
            },
            "colorscale": [
             [
              0,
              "#0d0887"
             ],
             [
              0.1111111111111111,
              "#46039f"
             ],
             [
              0.2222222222222222,
              "#7201a8"
             ],
             [
              0.3333333333333333,
              "#9c179e"
             ],
             [
              0.4444444444444444,
              "#bd3786"
             ],
             [
              0.5555555555555556,
              "#d8576b"
             ],
             [
              0.6666666666666666,
              "#ed7953"
             ],
             [
              0.7777777777777778,
              "#fb9f3a"
             ],
             [
              0.8888888888888888,
              "#fdca26"
             ],
             [
              1,
              "#f0f921"
             ]
            ],
            "type": "histogram2d"
           }
          ],
          "histogram2dcontour": [
           {
            "colorbar": {
             "outlinewidth": 0,
             "ticks": ""
            },
            "colorscale": [
             [
              0,
              "#0d0887"
             ],
             [
              0.1111111111111111,
              "#46039f"
             ],
             [
              0.2222222222222222,
              "#7201a8"
             ],
             [
              0.3333333333333333,
              "#9c179e"
             ],
             [
              0.4444444444444444,
              "#bd3786"
             ],
             [
              0.5555555555555556,
              "#d8576b"
             ],
             [
              0.6666666666666666,
              "#ed7953"
             ],
             [
              0.7777777777777778,
              "#fb9f3a"
             ],
             [
              0.8888888888888888,
              "#fdca26"
             ],
             [
              1,
              "#f0f921"
             ]
            ],
            "type": "histogram2dcontour"
           }
          ],
          "mesh3d": [
           {
            "colorbar": {
             "outlinewidth": 0,
             "ticks": ""
            },
            "type": "mesh3d"
           }
          ],
          "parcoords": [
           {
            "line": {
             "colorbar": {
              "outlinewidth": 0,
              "ticks": ""
             }
            },
            "type": "parcoords"
           }
          ],
          "pie": [
           {
            "automargin": true,
            "type": "pie"
           }
          ],
          "scatter": [
           {
            "marker": {
             "colorbar": {
              "outlinewidth": 0,
              "ticks": ""
             }
            },
            "type": "scatter"
           }
          ],
          "scatter3d": [
           {
            "line": {
             "colorbar": {
              "outlinewidth": 0,
              "ticks": ""
             }
            },
            "marker": {
             "colorbar": {
              "outlinewidth": 0,
              "ticks": ""
             }
            },
            "type": "scatter3d"
           }
          ],
          "scattercarpet": [
           {
            "marker": {
             "colorbar": {
              "outlinewidth": 0,
              "ticks": ""
             }
            },
            "type": "scattercarpet"
           }
          ],
          "scattergeo": [
           {
            "marker": {
             "colorbar": {
              "outlinewidth": 0,
              "ticks": ""
             }
            },
            "type": "scattergeo"
           }
          ],
          "scattergl": [
           {
            "marker": {
             "colorbar": {
              "outlinewidth": 0,
              "ticks": ""
             }
            },
            "type": "scattergl"
           }
          ],
          "scattermapbox": [
           {
            "marker": {
             "colorbar": {
              "outlinewidth": 0,
              "ticks": ""
             }
            },
            "type": "scattermapbox"
           }
          ],
          "scatterpolar": [
           {
            "marker": {
             "colorbar": {
              "outlinewidth": 0,
              "ticks": ""
             }
            },
            "type": "scatterpolar"
           }
          ],
          "scatterpolargl": [
           {
            "marker": {
             "colorbar": {
              "outlinewidth": 0,
              "ticks": ""
             }
            },
            "type": "scatterpolargl"
           }
          ],
          "scatterternary": [
           {
            "marker": {
             "colorbar": {
              "outlinewidth": 0,
              "ticks": ""
             }
            },
            "type": "scatterternary"
           }
          ],
          "surface": [
           {
            "colorbar": {
             "outlinewidth": 0,
             "ticks": ""
            },
            "colorscale": [
             [
              0,
              "#0d0887"
             ],
             [
              0.1111111111111111,
              "#46039f"
             ],
             [
              0.2222222222222222,
              "#7201a8"
             ],
             [
              0.3333333333333333,
              "#9c179e"
             ],
             [
              0.4444444444444444,
              "#bd3786"
             ],
             [
              0.5555555555555556,
              "#d8576b"
             ],
             [
              0.6666666666666666,
              "#ed7953"
             ],
             [
              0.7777777777777778,
              "#fb9f3a"
             ],
             [
              0.8888888888888888,
              "#fdca26"
             ],
             [
              1,
              "#f0f921"
             ]
            ],
            "type": "surface"
           }
          ],
          "table": [
           {
            "cells": {
             "fill": {
              "color": "#EBF0F8"
             },
             "line": {
              "color": "white"
             }
            },
            "header": {
             "fill": {
              "color": "#C8D4E3"
             },
             "line": {
              "color": "white"
             }
            },
            "type": "table"
           }
          ]
         },
         "layout": {
          "annotationdefaults": {
           "arrowcolor": "#2a3f5f",
           "arrowhead": 0,
           "arrowwidth": 1
          },
          "autotypenumbers": "strict",
          "coloraxis": {
           "colorbar": {
            "outlinewidth": 0,
            "ticks": ""
           }
          },
          "colorscale": {
           "diverging": [
            [
             0,
             "#8e0152"
            ],
            [
             0.1,
             "#c51b7d"
            ],
            [
             0.2,
             "#de77ae"
            ],
            [
             0.3,
             "#f1b6da"
            ],
            [
             0.4,
             "#fde0ef"
            ],
            [
             0.5,
             "#f7f7f7"
            ],
            [
             0.6,
             "#e6f5d0"
            ],
            [
             0.7,
             "#b8e186"
            ],
            [
             0.8,
             "#7fbc41"
            ],
            [
             0.9,
             "#4d9221"
            ],
            [
             1,
             "#276419"
            ]
           ],
           "sequential": [
            [
             0,
             "#0d0887"
            ],
            [
             0.1111111111111111,
             "#46039f"
            ],
            [
             0.2222222222222222,
             "#7201a8"
            ],
            [
             0.3333333333333333,
             "#9c179e"
            ],
            [
             0.4444444444444444,
             "#bd3786"
            ],
            [
             0.5555555555555556,
             "#d8576b"
            ],
            [
             0.6666666666666666,
             "#ed7953"
            ],
            [
             0.7777777777777778,
             "#fb9f3a"
            ],
            [
             0.8888888888888888,
             "#fdca26"
            ],
            [
             1,
             "#f0f921"
            ]
           ],
           "sequentialminus": [
            [
             0,
             "#0d0887"
            ],
            [
             0.1111111111111111,
             "#46039f"
            ],
            [
             0.2222222222222222,
             "#7201a8"
            ],
            [
             0.3333333333333333,
             "#9c179e"
            ],
            [
             0.4444444444444444,
             "#bd3786"
            ],
            [
             0.5555555555555556,
             "#d8576b"
            ],
            [
             0.6666666666666666,
             "#ed7953"
            ],
            [
             0.7777777777777778,
             "#fb9f3a"
            ],
            [
             0.8888888888888888,
             "#fdca26"
            ],
            [
             1,
             "#f0f921"
            ]
           ]
          },
          "colorway": [
           "#636efa",
           "#EF553B",
           "#00cc96",
           "#ab63fa",
           "#FFA15A",
           "#19d3f3",
           "#FF6692",
           "#B6E880",
           "#FF97FF",
           "#FECB52"
          ],
          "font": {
           "color": "#2a3f5f"
          },
          "geo": {
           "bgcolor": "white",
           "lakecolor": "white",
           "landcolor": "#E5ECF6",
           "showlakes": true,
           "showland": true,
           "subunitcolor": "white"
          },
          "hoverlabel": {
           "align": "left"
          },
          "hovermode": "closest",
          "mapbox": {
           "style": "light"
          },
          "paper_bgcolor": "white",
          "plot_bgcolor": "#E5ECF6",
          "polar": {
           "angularaxis": {
            "gridcolor": "white",
            "linecolor": "white",
            "ticks": ""
           },
           "bgcolor": "#E5ECF6",
           "radialaxis": {
            "gridcolor": "white",
            "linecolor": "white",
            "ticks": ""
           }
          },
          "scene": {
           "xaxis": {
            "backgroundcolor": "#E5ECF6",
            "gridcolor": "white",
            "gridwidth": 2,
            "linecolor": "white",
            "showbackground": true,
            "ticks": "",
            "zerolinecolor": "white"
           },
           "yaxis": {
            "backgroundcolor": "#E5ECF6",
            "gridcolor": "white",
            "gridwidth": 2,
            "linecolor": "white",
            "showbackground": true,
            "ticks": "",
            "zerolinecolor": "white"
           },
           "zaxis": {
            "backgroundcolor": "#E5ECF6",
            "gridcolor": "white",
            "gridwidth": 2,
            "linecolor": "white",
            "showbackground": true,
            "ticks": "",
            "zerolinecolor": "white"
           }
          },
          "shapedefaults": {
           "line": {
            "color": "#2a3f5f"
           }
          },
          "ternary": {
           "aaxis": {
            "gridcolor": "white",
            "linecolor": "white",
            "ticks": ""
           },
           "baxis": {
            "gridcolor": "white",
            "linecolor": "white",
            "ticks": ""
           },
           "bgcolor": "#E5ECF6",
           "caxis": {
            "gridcolor": "white",
            "linecolor": "white",
            "ticks": ""
           }
          },
          "title": {
           "x": 0.05
          },
          "xaxis": {
           "automargin": true,
           "gridcolor": "white",
           "linecolor": "white",
           "ticks": "",
           "title": {
            "standoff": 15
           },
           "zerolinecolor": "white",
           "zerolinewidth": 2
          },
          "yaxis": {
           "automargin": true,
           "gridcolor": "white",
           "linecolor": "white",
           "ticks": "",
           "title": {
            "standoff": 15
           },
           "zerolinecolor": "white",
           "zerolinewidth": 2
          }
         }
        },
        "title": {
         "text": "R1 Structures: Frequency and Impact on Score Relative to All Factions Average (153.41): firaks"
        }
       }
      },
      "text/html": [
       "<div>                            <div id=\"0ff43df4-504b-4184-b773-9eb22aa38569\" class=\"plotly-graph-div\" style=\"height:525px; width:100%;\"></div>            <script type=\"text/javascript\">                require([\"plotly\"], function(Plotly) {                    window.PLOTLYENV=window.PLOTLYENV || {};                                    if (document.getElementById(\"0ff43df4-504b-4184-b773-9eb22aa38569\")) {                    Plotly.newPlot(                        \"0ff43df4-504b-4184-b773-9eb22aa38569\",                        [{\"branchvalues\":\"total\",\"customdata\":[[217.0,151.0],[260.0676691729323,164.93984962406014],[173.5,132.5],[155.0,127.0],[83.25,114.75],[201.82608695652175,144.7826086956522],[118.0,122.0],[287.6623376623377,170.1038961038961],[223.5974025974026,150.6103896103896],[215.0,173.0],[83.33333333333333,136.0],[178.0,130.625],[216.07692307692307,152.8945868945869],[246.16666666666666,148.16666666666666],[212.3181818181818,153.7159090909091],[110.0,136.25],[104.0,128.5],[187.55789473684212,146.1578947368421],[101.0,115.5],[124.0,140.33333333333334],[265.94444444444446,154.22222222222223],[72.0,128.0],[\"(?)\",164.21153846153845],[\"(?)\",132.4],[\"(?)\",151.15912408759124],[\"(?)\",135.57142857142858],[\"(?)\",155.44580584354384]],\"domain\":{\"x\":[0.0,1.0],\"y\":[0.0,1.0]},\"hovertemplate\":\"labels=%{label}<br>class_counts=%{value}<br>parent=%{parent}<br>id=%{id}<br>ave_elo_firaks=%{customdata[0]}<br>ave_score_firaks=%{color}<extra></extra>\",\"ids\":[\"R1 Structures: Frequency and Overall Score for firaks/PI/ 0-m_0-ts_1-lab_1-pi_0-ac1_0-ac2\",\"R1 Structures: Frequency and Overall Score for firaks/PI/ 0-m_1-ts_0-lab_1-pi_0-ac1_0-ac2\",\"R1 Structures: Frequency and Overall Score for firaks/lab/ 0-m_1-ts_1-lab_0-pi_0-ac1_0-ac2\",\"R1 Structures: Frequency and Overall Score for firaks/ac1/ 1-m_0-ts_0-lab_0-pi_1-ac1_0-ac2\",\"R1 Structures: Frequency and Overall Score for firaks/PI/ 1-m_0-ts_0-lab_1-pi_0-ac1_0-ac2\",\"R1 Structures: Frequency and Overall Score for firaks/lab/ 1-m_0-ts_1-lab_0-pi_0-ac1_0-ac2\",\"R1 Structures: Frequency and Overall Score for firaks/lab/ 1-m_0-ts_2-lab_0-pi_0-ac1_0-ac2\",\"R1 Structures: Frequency and Overall Score for firaks/PI/ 1-m_1-ts_0-lab_1-pi_0-ac1_0-ac2\",\"R1 Structures: Frequency and Overall Score for firaks/lab/ 1-m_1-ts_1-lab_0-pi_0-ac1_0-ac2\",\"R1 Structures: Frequency and Overall Score for firaks/ts/ 1-m_3-ts_0-lab_0-pi_0-ac1_0-ac2\",\"R1 Structures: Frequency and Overall Score for firaks/ac1/ 2-m_0-ts_0-lab_0-pi_1-ac1_0-ac2\",\"R1 Structures: Frequency and Overall Score for firaks/PI/ 2-m_0-ts_0-lab_1-pi_0-ac1_0-ac2\",\"R1 Structures: Frequency and Overall Score for firaks/lab/ 2-m_0-ts_1-lab_0-pi_0-ac1_0-ac2\",\"R1 Structures: Frequency and Overall Score for firaks/PI/ 2-m_1-ts_0-lab_1-pi_0-ac1_0-ac2\",\"R1 Structures: Frequency and Overall Score for firaks/lab/ 2-m_1-ts_1-lab_0-pi_0-ac1_0-ac2\",\"R1 Structures: Frequency and Overall Score for firaks/ts/ 2-m_2-ts_0-lab_0-pi_0-ac1_0-ac2\",\"R1 Structures: Frequency and Overall Score for firaks/PI/ 3-m_0-ts_0-lab_1-pi_0-ac1_0-ac2\",\"R1 Structures: Frequency and Overall Score for firaks/lab/ 3-m_0-ts_1-lab_0-pi_0-ac1_0-ac2\",\"R1 Structures: Frequency and Overall Score for firaks/ts/ 3-m_1-ts_0-lab_0-pi_0-ac1_0-ac2\",\"R1 Structures: Frequency and Overall Score for firaks/lab/ 3-m_1-ts_1-lab_0-pi_0-ac1_0-ac2\",\"R1 Structures: Frequency and Overall Score for firaks/lab/ 4-m_0-ts_1-lab_0-pi_0-ac1_0-ac2\",\"R1 Structures: Frequency and Overall Score for firaks/lab/ 5-m_0-ts_1-lab_0-pi_0-ac1_0-ac2\",\"R1 Structures: Frequency and Overall Score for firaks/PI\",\"R1 Structures: Frequency and Overall Score for firaks/ac1\",\"R1 Structures: Frequency and Overall Score for firaks/lab\",\"R1 Structures: Frequency and Overall Score for firaks/ts\",\"R1 Structures: Frequency and Overall Score for firaks\"],\"labels\":[\" 0-m_0-ts_1-lab_1-pi_0-ac1_0-ac2\",\" 0-m_1-ts_0-lab_1-pi_0-ac1_0-ac2\",\" 0-m_1-ts_1-lab_0-pi_0-ac1_0-ac2\",\" 1-m_0-ts_0-lab_0-pi_1-ac1_0-ac2\",\" 1-m_0-ts_0-lab_1-pi_0-ac1_0-ac2\",\" 1-m_0-ts_1-lab_0-pi_0-ac1_0-ac2\",\" 1-m_0-ts_2-lab_0-pi_0-ac1_0-ac2\",\" 1-m_1-ts_0-lab_1-pi_0-ac1_0-ac2\",\" 1-m_1-ts_1-lab_0-pi_0-ac1_0-ac2\",\" 1-m_3-ts_0-lab_0-pi_0-ac1_0-ac2\",\" 2-m_0-ts_0-lab_0-pi_1-ac1_0-ac2\",\" 2-m_0-ts_0-lab_1-pi_0-ac1_0-ac2\",\" 2-m_0-ts_1-lab_0-pi_0-ac1_0-ac2\",\" 2-m_1-ts_0-lab_1-pi_0-ac1_0-ac2\",\" 2-m_1-ts_1-lab_0-pi_0-ac1_0-ac2\",\" 2-m_2-ts_0-lab_0-pi_0-ac1_0-ac2\",\" 3-m_0-ts_0-lab_1-pi_0-ac1_0-ac2\",\" 3-m_0-ts_1-lab_0-pi_0-ac1_0-ac2\",\" 3-m_1-ts_0-lab_0-pi_0-ac1_0-ac2\",\" 3-m_1-ts_1-lab_0-pi_0-ac1_0-ac2\",\" 4-m_0-ts_1-lab_0-pi_0-ac1_0-ac2\",\" 5-m_0-ts_1-lab_0-pi_0-ac1_0-ac2\",\"PI\",\"ac1\",\"lab\",\"ts\",\"R1 Structures: Frequency and Overall Score for firaks\"],\"marker\":{\"coloraxis\":\"coloraxis\",\"colors\":[151.0,164.93984962406014,132.5,127.0,114.75,144.7826086956522,122.0,170.1038961038961,150.6103896103896,173.0,136.0,130.625,152.8945868945869,148.16666666666666,153.7159090909091,136.25,128.5,146.1578947368421,115.5,140.33333333333334,154.22222222222223,128.0,164.21153846153845,132.4,151.15912408759124,135.57142857142858,155.44580584354384]},\"name\":\"\",\"parents\":[\"R1 Structures: Frequency and Overall Score for firaks/PI\",\"R1 Structures: Frequency and Overall Score for firaks/PI\",\"R1 Structures: Frequency and Overall Score for firaks/lab\",\"R1 Structures: Frequency and Overall Score for firaks/ac1\",\"R1 Structures: Frequency and Overall Score for firaks/PI\",\"R1 Structures: Frequency and Overall Score for firaks/lab\",\"R1 Structures: Frequency and Overall Score for firaks/lab\",\"R1 Structures: Frequency and Overall Score for firaks/PI\",\"R1 Structures: Frequency and Overall Score for firaks/lab\",\"R1 Structures: Frequency and Overall Score for firaks/ts\",\"R1 Structures: Frequency and Overall Score for firaks/ac1\",\"R1 Structures: Frequency and Overall Score for firaks/PI\",\"R1 Structures: Frequency and Overall Score for firaks/lab\",\"R1 Structures: Frequency and Overall Score for firaks/PI\",\"R1 Structures: Frequency and Overall Score for firaks/lab\",\"R1 Structures: Frequency and Overall Score for firaks/ts\",\"R1 Structures: Frequency and Overall Score for firaks/PI\",\"R1 Structures: Frequency and Overall Score for firaks/lab\",\"R1 Structures: Frequency and Overall Score for firaks/ts\",\"R1 Structures: Frequency and Overall Score for firaks/lab\",\"R1 Structures: Frequency and Overall Score for firaks/lab\",\"R1 Structures: Frequency and Overall Score for firaks/lab\",\"R1 Structures: Frequency and Overall Score for firaks\",\"R1 Structures: Frequency and Overall Score for firaks\",\"R1 Structures: Frequency and Overall Score for firaks\",\"R1 Structures: Frequency and Overall Score for firaks\",\"\"],\"values\":[1,266,8,2,4,23,1,77,77,1,3,8,351,6,88,4,2,95,2,3,36,3,364,5,685,7,1061],\"type\":\"treemap\"}],                        {\"template\":{\"data\":{\"bar\":[{\"error_x\":{\"color\":\"#2a3f5f\"},\"error_y\":{\"color\":\"#2a3f5f\"},\"marker\":{\"line\":{\"color\":\"#E5ECF6\",\"width\":0.5},\"pattern\":{\"fillmode\":\"overlay\",\"size\":10,\"solidity\":0.2}},\"type\":\"bar\"}],\"barpolar\":[{\"marker\":{\"line\":{\"color\":\"#E5ECF6\",\"width\":0.5},\"pattern\":{\"fillmode\":\"overlay\",\"size\":10,\"solidity\":0.2}},\"type\":\"barpolar\"}],\"carpet\":[{\"aaxis\":{\"endlinecolor\":\"#2a3f5f\",\"gridcolor\":\"white\",\"linecolor\":\"white\",\"minorgridcolor\":\"white\",\"startlinecolor\":\"#2a3f5f\"},\"baxis\":{\"endlinecolor\":\"#2a3f5f\",\"gridcolor\":\"white\",\"linecolor\":\"white\",\"minorgridcolor\":\"white\",\"startlinecolor\":\"#2a3f5f\"},\"type\":\"carpet\"}],\"choropleth\":[{\"colorbar\":{\"outlinewidth\":0,\"ticks\":\"\"},\"type\":\"choropleth\"}],\"contour\":[{\"colorbar\":{\"outlinewidth\":0,\"ticks\":\"\"},\"colorscale\":[[0.0,\"#0d0887\"],[0.1111111111111111,\"#46039f\"],[0.2222222222222222,\"#7201a8\"],[0.3333333333333333,\"#9c179e\"],[0.4444444444444444,\"#bd3786\"],[0.5555555555555556,\"#d8576b\"],[0.6666666666666666,\"#ed7953\"],[0.7777777777777778,\"#fb9f3a\"],[0.8888888888888888,\"#fdca26\"],[1.0,\"#f0f921\"]],\"type\":\"contour\"}],\"contourcarpet\":[{\"colorbar\":{\"outlinewidth\":0,\"ticks\":\"\"},\"type\":\"contourcarpet\"}],\"heatmap\":[{\"colorbar\":{\"outlinewidth\":0,\"ticks\":\"\"},\"colorscale\":[[0.0,\"#0d0887\"],[0.1111111111111111,\"#46039f\"],[0.2222222222222222,\"#7201a8\"],[0.3333333333333333,\"#9c179e\"],[0.4444444444444444,\"#bd3786\"],[0.5555555555555556,\"#d8576b\"],[0.6666666666666666,\"#ed7953\"],[0.7777777777777778,\"#fb9f3a\"],[0.8888888888888888,\"#fdca26\"],[1.0,\"#f0f921\"]],\"type\":\"heatmap\"}],\"heatmapgl\":[{\"colorbar\":{\"outlinewidth\":0,\"ticks\":\"\"},\"colorscale\":[[0.0,\"#0d0887\"],[0.1111111111111111,\"#46039f\"],[0.2222222222222222,\"#7201a8\"],[0.3333333333333333,\"#9c179e\"],[0.4444444444444444,\"#bd3786\"],[0.5555555555555556,\"#d8576b\"],[0.6666666666666666,\"#ed7953\"],[0.7777777777777778,\"#fb9f3a\"],[0.8888888888888888,\"#fdca26\"],[1.0,\"#f0f921\"]],\"type\":\"heatmapgl\"}],\"histogram\":[{\"marker\":{\"pattern\":{\"fillmode\":\"overlay\",\"size\":10,\"solidity\":0.2}},\"type\":\"histogram\"}],\"histogram2d\":[{\"colorbar\":{\"outlinewidth\":0,\"ticks\":\"\"},\"colorscale\":[[0.0,\"#0d0887\"],[0.1111111111111111,\"#46039f\"],[0.2222222222222222,\"#7201a8\"],[0.3333333333333333,\"#9c179e\"],[0.4444444444444444,\"#bd3786\"],[0.5555555555555556,\"#d8576b\"],[0.6666666666666666,\"#ed7953\"],[0.7777777777777778,\"#fb9f3a\"],[0.8888888888888888,\"#fdca26\"],[1.0,\"#f0f921\"]],\"type\":\"histogram2d\"}],\"histogram2dcontour\":[{\"colorbar\":{\"outlinewidth\":0,\"ticks\":\"\"},\"colorscale\":[[0.0,\"#0d0887\"],[0.1111111111111111,\"#46039f\"],[0.2222222222222222,\"#7201a8\"],[0.3333333333333333,\"#9c179e\"],[0.4444444444444444,\"#bd3786\"],[0.5555555555555556,\"#d8576b\"],[0.6666666666666666,\"#ed7953\"],[0.7777777777777778,\"#fb9f3a\"],[0.8888888888888888,\"#fdca26\"],[1.0,\"#f0f921\"]],\"type\":\"histogram2dcontour\"}],\"mesh3d\":[{\"colorbar\":{\"outlinewidth\":0,\"ticks\":\"\"},\"type\":\"mesh3d\"}],\"parcoords\":[{\"line\":{\"colorbar\":{\"outlinewidth\":0,\"ticks\":\"\"}},\"type\":\"parcoords\"}],\"pie\":[{\"automargin\":true,\"type\":\"pie\"}],\"scatter\":[{\"marker\":{\"colorbar\":{\"outlinewidth\":0,\"ticks\":\"\"}},\"type\":\"scatter\"}],\"scatter3d\":[{\"line\":{\"colorbar\":{\"outlinewidth\":0,\"ticks\":\"\"}},\"marker\":{\"colorbar\":{\"outlinewidth\":0,\"ticks\":\"\"}},\"type\":\"scatter3d\"}],\"scattercarpet\":[{\"marker\":{\"colorbar\":{\"outlinewidth\":0,\"ticks\":\"\"}},\"type\":\"scattercarpet\"}],\"scattergeo\":[{\"marker\":{\"colorbar\":{\"outlinewidth\":0,\"ticks\":\"\"}},\"type\":\"scattergeo\"}],\"scattergl\":[{\"marker\":{\"colorbar\":{\"outlinewidth\":0,\"ticks\":\"\"}},\"type\":\"scattergl\"}],\"scattermapbox\":[{\"marker\":{\"colorbar\":{\"outlinewidth\":0,\"ticks\":\"\"}},\"type\":\"scattermapbox\"}],\"scatterpolar\":[{\"marker\":{\"colorbar\":{\"outlinewidth\":0,\"ticks\":\"\"}},\"type\":\"scatterpolar\"}],\"scatterpolargl\":[{\"marker\":{\"colorbar\":{\"outlinewidth\":0,\"ticks\":\"\"}},\"type\":\"scatterpolargl\"}],\"scatterternary\":[{\"marker\":{\"colorbar\":{\"outlinewidth\":0,\"ticks\":\"\"}},\"type\":\"scatterternary\"}],\"surface\":[{\"colorbar\":{\"outlinewidth\":0,\"ticks\":\"\"},\"colorscale\":[[0.0,\"#0d0887\"],[0.1111111111111111,\"#46039f\"],[0.2222222222222222,\"#7201a8\"],[0.3333333333333333,\"#9c179e\"],[0.4444444444444444,\"#bd3786\"],[0.5555555555555556,\"#d8576b\"],[0.6666666666666666,\"#ed7953\"],[0.7777777777777778,\"#fb9f3a\"],[0.8888888888888888,\"#fdca26\"],[1.0,\"#f0f921\"]],\"type\":\"surface\"}],\"table\":[{\"cells\":{\"fill\":{\"color\":\"#EBF0F8\"},\"line\":{\"color\":\"white\"}},\"header\":{\"fill\":{\"color\":\"#C8D4E3\"},\"line\":{\"color\":\"white\"}},\"type\":\"table\"}]},\"layout\":{\"annotationdefaults\":{\"arrowcolor\":\"#2a3f5f\",\"arrowhead\":0,\"arrowwidth\":1},\"autotypenumbers\":\"strict\",\"coloraxis\":{\"colorbar\":{\"outlinewidth\":0,\"ticks\":\"\"}},\"colorscale\":{\"diverging\":[[0,\"#8e0152\"],[0.1,\"#c51b7d\"],[0.2,\"#de77ae\"],[0.3,\"#f1b6da\"],[0.4,\"#fde0ef\"],[0.5,\"#f7f7f7\"],[0.6,\"#e6f5d0\"],[0.7,\"#b8e186\"],[0.8,\"#7fbc41\"],[0.9,\"#4d9221\"],[1,\"#276419\"]],\"sequential\":[[0.0,\"#0d0887\"],[0.1111111111111111,\"#46039f\"],[0.2222222222222222,\"#7201a8\"],[0.3333333333333333,\"#9c179e\"],[0.4444444444444444,\"#bd3786\"],[0.5555555555555556,\"#d8576b\"],[0.6666666666666666,\"#ed7953\"],[0.7777777777777778,\"#fb9f3a\"],[0.8888888888888888,\"#fdca26\"],[1.0,\"#f0f921\"]],\"sequentialminus\":[[0.0,\"#0d0887\"],[0.1111111111111111,\"#46039f\"],[0.2222222222222222,\"#7201a8\"],[0.3333333333333333,\"#9c179e\"],[0.4444444444444444,\"#bd3786\"],[0.5555555555555556,\"#d8576b\"],[0.6666666666666666,\"#ed7953\"],[0.7777777777777778,\"#fb9f3a\"],[0.8888888888888888,\"#fdca26\"],[1.0,\"#f0f921\"]]},\"colorway\":[\"#636efa\",\"#EF553B\",\"#00cc96\",\"#ab63fa\",\"#FFA15A\",\"#19d3f3\",\"#FF6692\",\"#B6E880\",\"#FF97FF\",\"#FECB52\"],\"font\":{\"color\":\"#2a3f5f\"},\"geo\":{\"bgcolor\":\"white\",\"lakecolor\":\"white\",\"landcolor\":\"#E5ECF6\",\"showlakes\":true,\"showland\":true,\"subunitcolor\":\"white\"},\"hoverlabel\":{\"align\":\"left\"},\"hovermode\":\"closest\",\"mapbox\":{\"style\":\"light\"},\"paper_bgcolor\":\"white\",\"plot_bgcolor\":\"#E5ECF6\",\"polar\":{\"angularaxis\":{\"gridcolor\":\"white\",\"linecolor\":\"white\",\"ticks\":\"\"},\"bgcolor\":\"#E5ECF6\",\"radialaxis\":{\"gridcolor\":\"white\",\"linecolor\":\"white\",\"ticks\":\"\"}},\"scene\":{\"xaxis\":{\"backgroundcolor\":\"#E5ECF6\",\"gridcolor\":\"white\",\"gridwidth\":2,\"linecolor\":\"white\",\"showbackground\":true,\"ticks\":\"\",\"zerolinecolor\":\"white\"},\"yaxis\":{\"backgroundcolor\":\"#E5ECF6\",\"gridcolor\":\"white\",\"gridwidth\":2,\"linecolor\":\"white\",\"showbackground\":true,\"ticks\":\"\",\"zerolinecolor\":\"white\"},\"zaxis\":{\"backgroundcolor\":\"#E5ECF6\",\"gridcolor\":\"white\",\"gridwidth\":2,\"linecolor\":\"white\",\"showbackground\":true,\"ticks\":\"\",\"zerolinecolor\":\"white\"}},\"shapedefaults\":{\"line\":{\"color\":\"#2a3f5f\"}},\"ternary\":{\"aaxis\":{\"gridcolor\":\"white\",\"linecolor\":\"white\",\"ticks\":\"\"},\"baxis\":{\"gridcolor\":\"white\",\"linecolor\":\"white\",\"ticks\":\"\"},\"bgcolor\":\"#E5ECF6\",\"caxis\":{\"gridcolor\":\"white\",\"linecolor\":\"white\",\"ticks\":\"\"}},\"title\":{\"x\":0.05},\"xaxis\":{\"automargin\":true,\"gridcolor\":\"white\",\"linecolor\":\"white\",\"ticks\":\"\",\"title\":{\"standoff\":15},\"zerolinecolor\":\"white\",\"zerolinewidth\":2},\"yaxis\":{\"automargin\":true,\"gridcolor\":\"white\",\"linecolor\":\"white\",\"ticks\":\"\",\"title\":{\"standoff\":15},\"zerolinecolor\":\"white\",\"zerolinewidth\":2}}},\"coloraxis\":{\"colorbar\":{\"title\":{\"text\":\"ave_score_firaks\"}},\"colorscale\":[[0.0,\"rgb(103,0,31)\"],[0.1,\"rgb(178,24,43)\"],[0.2,\"rgb(214,96,77)\"],[0.3,\"rgb(244,165,130)\"],[0.4,\"rgb(253,219,199)\"],[0.5,\"rgb(247,247,247)\"],[0.6,\"rgb(209,229,240)\"],[0.7,\"rgb(146,197,222)\"],[0.8,\"rgb(67,147,195)\"],[0.9,\"rgb(33,102,172)\"],[1.0,\"rgb(5,48,97)\"]],\"cmid\":153.409394703657},\"legend\":{\"tracegroupgap\":0},\"margin\":{\"t\":50,\"l\":25,\"r\":25,\"b\":25},\"title\":{\"text\":\"R1 Structures: Frequency and Impact on Score Relative to All Factions Average (153.41): firaks\"}},                        {\"responsive\": true}                    ).then(function(){\n",
       "                            \n",
       "var gd = document.getElementById('0ff43df4-504b-4184-b773-9eb22aa38569');\n",
       "var x = new MutationObserver(function (mutations, observer) {{\n",
       "        var display = window.getComputedStyle(gd).display;\n",
       "        if (!display || display === 'none') {{\n",
       "            console.log([gd, 'removed!']);\n",
       "            Plotly.purge(gd);\n",
       "            observer.disconnect();\n",
       "        }}\n",
       "}});\n",
       "\n",
       "// Listen for the removal of the full notebook cells\n",
       "var notebookContainer = gd.closest('#notebook-container');\n",
       "if (notebookContainer) {{\n",
       "    x.observe(notebookContainer, {childList: true});\n",
       "}}\n",
       "\n",
       "// Listen for the clearing of the current output cell\n",
       "var outputEl = gd.closest('.output');\n",
       "if (outputEl) {{\n",
       "    x.observe(outputEl, {childList: true});\n",
       "}}\n",
       "\n",
       "                        })                };                });            </script>        </div>"
      ]
     },
     "metadata": {},
     "output_type": "display_data"
    },
    {
     "data": {
      "application/vnd.plotly.v1+json": {
       "config": {
        "plotlyServerURL": "https://plot.ly"
       },
       "data": [
        {
         "branchvalues": "total",
         "customdata": [
          [
           130.4,
           162.4
          ],
          [
           80,
           148
          ],
          [
           224,
           163.25
          ],
          [
           224.3186813186813,
           150.78021978021977
          ],
          [
           166.66666666666666,
           150.33333333333334
          ],
          [
           315,
           187
          ],
          [
           159.05555555555554,
           142
          ],
          [
           65,
           164
          ],
          [
           130,
           149.33333333333334
          ],
          [
           139.5,
           141.5
          ],
          [
           238.77300613496934,
           155.21472392638037
          ],
          [
           200.25925925925927,
           151.44444444444446
          ],
          [
           191.66666666666666,
           158.33333333333334
          ],
          [
           134,
           149
          ],
          [
           231.95862068965516,
           148.5103448275862
          ],
          [
           181,
           152.33333333333334
          ],
          [
           276,
           167
          ],
          [
           242.66666666666666,
           149
          ],
          [
           121,
           170
          ],
          [
           221.625,
           154
          ],
          [
           193.47916666666666,
           145.95833333333334
          ],
          [
           215.76923076923077,
           151
          ],
          [
           353.6666666666667,
           161
          ],
          [
           66,
           155
          ],
          [
           226.94736842105263,
           152.32236842105263
          ],
          [
           206.8,
           132.4
          ],
          [
           169,
           152.5
          ],
          [
           226.17391304347825,
           158.17391304347825
          ],
          [
           255.45454545454547,
           165.8939393939394
          ],
          [
           218.4,
           162.2
          ],
          [
           121,
           154
          ],
          [
           99.16666666666667,
           161
          ],
          [
           279.45454545454544,
           165.95454545454547
          ],
          [
           287.1666666666667,
           170.83333333333334
          ],
          [
           340,
           219
          ],
          [
           310,
           212.5
          ],
          [
           "(?)",
           152
          ],
          [
           "(?)",
           153.85036496350364
          ],
          [
           "(?)",
           154.33333333333334
          ],
          [
           "(?)",
           153.8879892037787
          ],
          [
           99.16666666666667,
           161
          ],
          [
           "(?)",
           157.42857142857142
          ],
          [
           "(?)",
           154.10018382352942
          ]
         ],
         "domain": {
          "x": [
           0,
           1
          ],
          "y": [
           0,
           1
          ]
         },
         "hovertemplate": "labels=%{label}<br>class_counts=%{value}<br>parent=%{parent}<br>id=%{id}<br>ave_elo_ambas=%{customdata[0]}<br>ave_score_ambas=%{color}<extra></extra>",
         "ids": [
          "R1 Structures: Frequency and Overall Score for ambas/lab/ 0-m_0-ts_2-lab_0-pi_0-ac1_0-ac2",
          "R1 Structures: Frequency and Overall Score for ambas/ts/ 0-m_3-ts_0-lab_0-pi_0-ac1_0-ac2",
          "R1 Structures: Frequency and Overall Score for ambas/ac2/ 1-m_0-ts_0-lab_0-pi_0-ac1_1-ac2",
          "R1 Structures: Frequency and Overall Score for ambas/ac1/ 1-m_0-ts_0-lab_0-pi_1-ac1_0-ac2",
          "R1 Structures: Frequency and Overall Score for ambas/lab/ 1-m_0-ts_1-lab_0-pi_0-ac1_0-ac2",
          "R1 Structures: Frequency and Overall Score for ambas/ac1/ 1-m_1-ts_0-lab_0-pi_1-ac1_0-ac2",
          "R1 Structures: Frequency and Overall Score for ambas/lab/ 1-m_1-ts_1-lab_0-pi_0-ac1_0-ac2",
          "R1 Structures: Frequency and Overall Score for ambas/lab/ 1-m_2-ts_1-lab_0-pi_0-ac1_0-ac2",
          "R1 Structures: Frequency and Overall Score for ambas/ts/ 1-m_3-ts_0-lab_0-pi_0-ac1_0-ac2",
          "R1 Structures: Frequency and Overall Score for ambas/ac2/ 2-m_0-ts_0-lab_0-pi_0-ac1_1-ac2",
          "R1 Structures: Frequency and Overall Score for ambas/ac1/ 2-m_0-ts_0-lab_0-pi_1-ac1_0-ac2",
          "R1 Structures: Frequency and Overall Score for ambas/lab/ 2-m_0-ts_1-lab_0-pi_0-ac1_0-ac2",
          "R1 Structures: Frequency and Overall Score for ambas/lab/ 2-m_0-ts_2-lab_0-pi_0-ac1_0-ac2",
          "R1 Structures: Frequency and Overall Score for ambas/PI/ 2-m_1-ts_0-lab_1-pi_0-ac1_0-ac2",
          "R1 Structures: Frequency and Overall Score for ambas/lab/ 2-m_1-ts_1-lab_0-pi_0-ac1_0-ac2",
          "R1 Structures: Frequency and Overall Score for ambas/ts/ 2-m_2-ts_0-lab_0-pi_0-ac1_0-ac2",
          "R1 Structures: Frequency and Overall Score for ambas/lab/ 2-m_2-ts_1-lab_0-pi_0-ac1_0-ac2",
          "R1 Structures: Frequency and Overall Score for ambas/ts/ 2-m_3-ts_0-lab_0-pi_0-ac1_0-ac2",
          "R1 Structures: Frequency and Overall Score for ambas/ac2/ 3-m_0-ts_0-lab_0-pi_0-ac1_1-ac2",
          "R1 Structures: Frequency and Overall Score for ambas/ac1/ 3-m_0-ts_0-lab_0-pi_1-ac1_0-ac2",
          "R1 Structures: Frequency and Overall Score for ambas/lab/ 3-m_0-ts_1-lab_0-pi_0-ac1_0-ac2",
          "R1 Structures: Frequency and Overall Score for ambas/lab/ 3-m_1-ts_1-lab_0-pi_0-ac1_0-ac2",
          "R1 Structures: Frequency and Overall Score for ambas/ac1/ 4-m_0-ts_0-lab_0-pi_1-ac1_0-ac2",
          "R1 Structures: Frequency and Overall Score for ambas/PI/ 4-m_0-ts_0-lab_1-pi_0-ac1_0-ac2",
          "R1 Structures: Frequency and Overall Score for ambas/lab/ 4-m_0-ts_1-lab_0-pi_0-ac1_0-ac2",
          "R1 Structures: Frequency and Overall Score for ambas/ts/ 4-m_1-ts_0-lab_0-pi_0-ac1_0-ac2",
          "R1 Structures: Frequency and Overall Score for ambas/lab/ 4-m_1-ts_1-lab_0-pi_0-ac1_0-ac2",
          "R1 Structures: Frequency and Overall Score for ambas/ts/ 4-m_2-ts_0-lab_0-pi_0-ac1_0-ac2",
          "R1 Structures: Frequency and Overall Score for ambas/lab/ 5-m_0-ts_1-lab_0-pi_0-ac1_0-ac2",
          "R1 Structures: Frequency and Overall Score for ambas/ts/ 5-m_1-ts_0-lab_0-pi_0-ac1_0-ac2",
          "R1 Structures: Frequency and Overall Score for ambas/ts/ 5-m_2-ts_0-lab_0-pi_0-ac1_0-ac2",
          "R1 Structures: Frequency and Overall Score for ambas/m/ 6-m_0-ts_0-lab_0-pi_0-ac1_0-ac2",
          "R1 Structures: Frequency and Overall Score for ambas/lab/ 6-m_0-ts_1-lab_0-pi_0-ac1_0-ac2",
          "R1 Structures: Frequency and Overall Score for ambas/ts/ 6-m_1-ts_0-lab_0-pi_0-ac1_0-ac2",
          "R1 Structures: Frequency and Overall Score for ambas/lab/ 7-m_0-ts_1-lab_0-pi_0-ac1_0-ac2",
          "R1 Structures: Frequency and Overall Score for ambas/ts/ 7-m_1-ts_0-lab_0-pi_0-ac1_0-ac2",
          "R1 Structures: Frequency and Overall Score for ambas/PI",
          "R1 Structures: Frequency and Overall Score for ambas/ac1",
          "R1 Structures: Frequency and Overall Score for ambas/ac2",
          "R1 Structures: Frequency and Overall Score for ambas/lab",
          "R1 Structures: Frequency and Overall Score for ambas/m",
          "R1 Structures: Frequency and Overall Score for ambas/ts",
          "R1 Structures: Frequency and Overall Score for ambas"
         ],
         "labels": [
          " 0-m_0-ts_2-lab_0-pi_0-ac1_0-ac2",
          " 0-m_3-ts_0-lab_0-pi_0-ac1_0-ac2",
          " 1-m_0-ts_0-lab_0-pi_0-ac1_1-ac2",
          " 1-m_0-ts_0-lab_0-pi_1-ac1_0-ac2",
          " 1-m_0-ts_1-lab_0-pi_0-ac1_0-ac2",
          " 1-m_1-ts_0-lab_0-pi_1-ac1_0-ac2",
          " 1-m_1-ts_1-lab_0-pi_0-ac1_0-ac2",
          " 1-m_2-ts_1-lab_0-pi_0-ac1_0-ac2",
          " 1-m_3-ts_0-lab_0-pi_0-ac1_0-ac2",
          " 2-m_0-ts_0-lab_0-pi_0-ac1_1-ac2",
          " 2-m_0-ts_0-lab_0-pi_1-ac1_0-ac2",
          " 2-m_0-ts_1-lab_0-pi_0-ac1_0-ac2",
          " 2-m_0-ts_2-lab_0-pi_0-ac1_0-ac2",
          " 2-m_1-ts_0-lab_1-pi_0-ac1_0-ac2",
          " 2-m_1-ts_1-lab_0-pi_0-ac1_0-ac2",
          " 2-m_2-ts_0-lab_0-pi_0-ac1_0-ac2",
          " 2-m_2-ts_1-lab_0-pi_0-ac1_0-ac2",
          " 2-m_3-ts_0-lab_0-pi_0-ac1_0-ac2",
          " 3-m_0-ts_0-lab_0-pi_0-ac1_1-ac2",
          " 3-m_0-ts_0-lab_0-pi_1-ac1_0-ac2",
          " 3-m_0-ts_1-lab_0-pi_0-ac1_0-ac2",
          " 3-m_1-ts_1-lab_0-pi_0-ac1_0-ac2",
          " 4-m_0-ts_0-lab_0-pi_1-ac1_0-ac2",
          " 4-m_0-ts_0-lab_1-pi_0-ac1_0-ac2",
          " 4-m_0-ts_1-lab_0-pi_0-ac1_0-ac2",
          " 4-m_1-ts_0-lab_0-pi_0-ac1_0-ac2",
          " 4-m_1-ts_1-lab_0-pi_0-ac1_0-ac2",
          " 4-m_2-ts_0-lab_0-pi_0-ac1_0-ac2",
          " 5-m_0-ts_1-lab_0-pi_0-ac1_0-ac2",
          " 5-m_1-ts_0-lab_0-pi_0-ac1_0-ac2",
          " 5-m_2-ts_0-lab_0-pi_0-ac1_0-ac2",
          " 6-m_0-ts_0-lab_0-pi_0-ac1_0-ac2",
          " 6-m_0-ts_1-lab_0-pi_0-ac1_0-ac2",
          " 6-m_1-ts_0-lab_0-pi_0-ac1_0-ac2",
          " 7-m_0-ts_1-lab_0-pi_0-ac1_0-ac2",
          " 7-m_1-ts_0-lab_0-pi_0-ac1_0-ac2",
          "PI",
          "ac1",
          "ac2",
          "lab",
          "m",
          "ts",
          "R1 Structures: Frequency and Overall Score for ambas"
         ],
         "marker": {
          "coloraxis": "coloraxis",
          "colors": [
           162.4,
           148,
           163.25,
           150.78021978021977,
           150.33333333333334,
           187,
           142,
           164,
           149.33333333333334,
           141.5,
           155.21472392638037,
           151.44444444444446,
           158.33333333333334,
           149,
           148.5103448275862,
           152.33333333333334,
           167,
           149,
           170,
           154,
           145.95833333333334,
           151,
           161,
           155,
           152.32236842105263,
           132.4,
           152.5,
           158.17391304347825,
           165.8939393939394,
           162.2,
           154,
           161,
           165.95454545454547,
           170.83333333333334,
           219,
           212.5,
           152,
           153.85036496350364,
           154.33333333333334,
           153.8879892037787,
           161,
           157.42857142857142,
           154.10018382352942
          ]
         },
         "name": "",
         "parents": [
          "R1 Structures: Frequency and Overall Score for ambas/lab",
          "R1 Structures: Frequency and Overall Score for ambas/ts",
          "R1 Structures: Frequency and Overall Score for ambas/ac2",
          "R1 Structures: Frequency and Overall Score for ambas/ac1",
          "R1 Structures: Frequency and Overall Score for ambas/lab",
          "R1 Structures: Frequency and Overall Score for ambas/ac1",
          "R1 Structures: Frequency and Overall Score for ambas/lab",
          "R1 Structures: Frequency and Overall Score for ambas/lab",
          "R1 Structures: Frequency and Overall Score for ambas/ts",
          "R1 Structures: Frequency and Overall Score for ambas/ac2",
          "R1 Structures: Frequency and Overall Score for ambas/ac1",
          "R1 Structures: Frequency and Overall Score for ambas/lab",
          "R1 Structures: Frequency and Overall Score for ambas/lab",
          "R1 Structures: Frequency and Overall Score for ambas/PI",
          "R1 Structures: Frequency and Overall Score for ambas/lab",
          "R1 Structures: Frequency and Overall Score for ambas/ts",
          "R1 Structures: Frequency and Overall Score for ambas/lab",
          "R1 Structures: Frequency and Overall Score for ambas/ts",
          "R1 Structures: Frequency and Overall Score for ambas/ac2",
          "R1 Structures: Frequency and Overall Score for ambas/ac1",
          "R1 Structures: Frequency and Overall Score for ambas/lab",
          "R1 Structures: Frequency and Overall Score for ambas/lab",
          "R1 Structures: Frequency and Overall Score for ambas/ac1",
          "R1 Structures: Frequency and Overall Score for ambas/PI",
          "R1 Structures: Frequency and Overall Score for ambas/lab",
          "R1 Structures: Frequency and Overall Score for ambas/ts",
          "R1 Structures: Frequency and Overall Score for ambas/lab",
          "R1 Structures: Frequency and Overall Score for ambas/ts",
          "R1 Structures: Frequency and Overall Score for ambas/lab",
          "R1 Structures: Frequency and Overall Score for ambas/ts",
          "R1 Structures: Frequency and Overall Score for ambas/ts",
          "R1 Structures: Frequency and Overall Score for ambas/m",
          "R1 Structures: Frequency and Overall Score for ambas/lab",
          "R1 Structures: Frequency and Overall Score for ambas/ts",
          "R1 Structures: Frequency and Overall Score for ambas/lab",
          "R1 Structures: Frequency and Overall Score for ambas/ts",
          "R1 Structures: Frequency and Overall Score for ambas",
          "R1 Structures: Frequency and Overall Score for ambas",
          "R1 Structures: Frequency and Overall Score for ambas",
          "R1 Structures: Frequency and Overall Score for ambas",
          "R1 Structures: Frequency and Overall Score for ambas",
          "R1 Structures: Frequency and Overall Score for ambas",
          ""
         ],
         "type": "treemap",
         "values": [
          5,
          1,
          4,
          91,
          3,
          1,
          18,
          1,
          3,
          4,
          163,
          27,
          3,
          1,
          145,
          3,
          2,
          6,
          1,
          16,
          48,
          26,
          3,
          1,
          304,
          5,
          4,
          23,
          132,
          5,
          2,
          6,
          22,
          6,
          1,
          2,
          2,
          274,
          9,
          741,
          6,
          56,
          1088
         ]
        }
       ],
       "layout": {
        "coloraxis": {
         "cmid": 153.409394703657,
         "colorbar": {
          "title": {
           "text": "ave_score_ambas"
          }
         },
         "colorscale": [
          [
           0,
           "rgb(103,0,31)"
          ],
          [
           0.1,
           "rgb(178,24,43)"
          ],
          [
           0.2,
           "rgb(214,96,77)"
          ],
          [
           0.3,
           "rgb(244,165,130)"
          ],
          [
           0.4,
           "rgb(253,219,199)"
          ],
          [
           0.5,
           "rgb(247,247,247)"
          ],
          [
           0.6,
           "rgb(209,229,240)"
          ],
          [
           0.7,
           "rgb(146,197,222)"
          ],
          [
           0.8,
           "rgb(67,147,195)"
          ],
          [
           0.9,
           "rgb(33,102,172)"
          ],
          [
           1,
           "rgb(5,48,97)"
          ]
         ]
        },
        "legend": {
         "tracegroupgap": 0
        },
        "margin": {
         "b": 25,
         "l": 25,
         "r": 25,
         "t": 50
        },
        "template": {
         "data": {
          "bar": [
           {
            "error_x": {
             "color": "#2a3f5f"
            },
            "error_y": {
             "color": "#2a3f5f"
            },
            "marker": {
             "line": {
              "color": "#E5ECF6",
              "width": 0.5
             },
             "pattern": {
              "fillmode": "overlay",
              "size": 10,
              "solidity": 0.2
             }
            },
            "type": "bar"
           }
          ],
          "barpolar": [
           {
            "marker": {
             "line": {
              "color": "#E5ECF6",
              "width": 0.5
             },
             "pattern": {
              "fillmode": "overlay",
              "size": 10,
              "solidity": 0.2
             }
            },
            "type": "barpolar"
           }
          ],
          "carpet": [
           {
            "aaxis": {
             "endlinecolor": "#2a3f5f",
             "gridcolor": "white",
             "linecolor": "white",
             "minorgridcolor": "white",
             "startlinecolor": "#2a3f5f"
            },
            "baxis": {
             "endlinecolor": "#2a3f5f",
             "gridcolor": "white",
             "linecolor": "white",
             "minorgridcolor": "white",
             "startlinecolor": "#2a3f5f"
            },
            "type": "carpet"
           }
          ],
          "choropleth": [
           {
            "colorbar": {
             "outlinewidth": 0,
             "ticks": ""
            },
            "type": "choropleth"
           }
          ],
          "contour": [
           {
            "colorbar": {
             "outlinewidth": 0,
             "ticks": ""
            },
            "colorscale": [
             [
              0,
              "#0d0887"
             ],
             [
              0.1111111111111111,
              "#46039f"
             ],
             [
              0.2222222222222222,
              "#7201a8"
             ],
             [
              0.3333333333333333,
              "#9c179e"
             ],
             [
              0.4444444444444444,
              "#bd3786"
             ],
             [
              0.5555555555555556,
              "#d8576b"
             ],
             [
              0.6666666666666666,
              "#ed7953"
             ],
             [
              0.7777777777777778,
              "#fb9f3a"
             ],
             [
              0.8888888888888888,
              "#fdca26"
             ],
             [
              1,
              "#f0f921"
             ]
            ],
            "type": "contour"
           }
          ],
          "contourcarpet": [
           {
            "colorbar": {
             "outlinewidth": 0,
             "ticks": ""
            },
            "type": "contourcarpet"
           }
          ],
          "heatmap": [
           {
            "colorbar": {
             "outlinewidth": 0,
             "ticks": ""
            },
            "colorscale": [
             [
              0,
              "#0d0887"
             ],
             [
              0.1111111111111111,
              "#46039f"
             ],
             [
              0.2222222222222222,
              "#7201a8"
             ],
             [
              0.3333333333333333,
              "#9c179e"
             ],
             [
              0.4444444444444444,
              "#bd3786"
             ],
             [
              0.5555555555555556,
              "#d8576b"
             ],
             [
              0.6666666666666666,
              "#ed7953"
             ],
             [
              0.7777777777777778,
              "#fb9f3a"
             ],
             [
              0.8888888888888888,
              "#fdca26"
             ],
             [
              1,
              "#f0f921"
             ]
            ],
            "type": "heatmap"
           }
          ],
          "heatmapgl": [
           {
            "colorbar": {
             "outlinewidth": 0,
             "ticks": ""
            },
            "colorscale": [
             [
              0,
              "#0d0887"
             ],
             [
              0.1111111111111111,
              "#46039f"
             ],
             [
              0.2222222222222222,
              "#7201a8"
             ],
             [
              0.3333333333333333,
              "#9c179e"
             ],
             [
              0.4444444444444444,
              "#bd3786"
             ],
             [
              0.5555555555555556,
              "#d8576b"
             ],
             [
              0.6666666666666666,
              "#ed7953"
             ],
             [
              0.7777777777777778,
              "#fb9f3a"
             ],
             [
              0.8888888888888888,
              "#fdca26"
             ],
             [
              1,
              "#f0f921"
             ]
            ],
            "type": "heatmapgl"
           }
          ],
          "histogram": [
           {
            "marker": {
             "pattern": {
              "fillmode": "overlay",
              "size": 10,
              "solidity": 0.2
             }
            },
            "type": "histogram"
           }
          ],
          "histogram2d": [
           {
            "colorbar": {
             "outlinewidth": 0,
             "ticks": ""
            },
            "colorscale": [
             [
              0,
              "#0d0887"
             ],
             [
              0.1111111111111111,
              "#46039f"
             ],
             [
              0.2222222222222222,
              "#7201a8"
             ],
             [
              0.3333333333333333,
              "#9c179e"
             ],
             [
              0.4444444444444444,
              "#bd3786"
             ],
             [
              0.5555555555555556,
              "#d8576b"
             ],
             [
              0.6666666666666666,
              "#ed7953"
             ],
             [
              0.7777777777777778,
              "#fb9f3a"
             ],
             [
              0.8888888888888888,
              "#fdca26"
             ],
             [
              1,
              "#f0f921"
             ]
            ],
            "type": "histogram2d"
           }
          ],
          "histogram2dcontour": [
           {
            "colorbar": {
             "outlinewidth": 0,
             "ticks": ""
            },
            "colorscale": [
             [
              0,
              "#0d0887"
             ],
             [
              0.1111111111111111,
              "#46039f"
             ],
             [
              0.2222222222222222,
              "#7201a8"
             ],
             [
              0.3333333333333333,
              "#9c179e"
             ],
             [
              0.4444444444444444,
              "#bd3786"
             ],
             [
              0.5555555555555556,
              "#d8576b"
             ],
             [
              0.6666666666666666,
              "#ed7953"
             ],
             [
              0.7777777777777778,
              "#fb9f3a"
             ],
             [
              0.8888888888888888,
              "#fdca26"
             ],
             [
              1,
              "#f0f921"
             ]
            ],
            "type": "histogram2dcontour"
           }
          ],
          "mesh3d": [
           {
            "colorbar": {
             "outlinewidth": 0,
             "ticks": ""
            },
            "type": "mesh3d"
           }
          ],
          "parcoords": [
           {
            "line": {
             "colorbar": {
              "outlinewidth": 0,
              "ticks": ""
             }
            },
            "type": "parcoords"
           }
          ],
          "pie": [
           {
            "automargin": true,
            "type": "pie"
           }
          ],
          "scatter": [
           {
            "marker": {
             "colorbar": {
              "outlinewidth": 0,
              "ticks": ""
             }
            },
            "type": "scatter"
           }
          ],
          "scatter3d": [
           {
            "line": {
             "colorbar": {
              "outlinewidth": 0,
              "ticks": ""
             }
            },
            "marker": {
             "colorbar": {
              "outlinewidth": 0,
              "ticks": ""
             }
            },
            "type": "scatter3d"
           }
          ],
          "scattercarpet": [
           {
            "marker": {
             "colorbar": {
              "outlinewidth": 0,
              "ticks": ""
             }
            },
            "type": "scattercarpet"
           }
          ],
          "scattergeo": [
           {
            "marker": {
             "colorbar": {
              "outlinewidth": 0,
              "ticks": ""
             }
            },
            "type": "scattergeo"
           }
          ],
          "scattergl": [
           {
            "marker": {
             "colorbar": {
              "outlinewidth": 0,
              "ticks": ""
             }
            },
            "type": "scattergl"
           }
          ],
          "scattermapbox": [
           {
            "marker": {
             "colorbar": {
              "outlinewidth": 0,
              "ticks": ""
             }
            },
            "type": "scattermapbox"
           }
          ],
          "scatterpolar": [
           {
            "marker": {
             "colorbar": {
              "outlinewidth": 0,
              "ticks": ""
             }
            },
            "type": "scatterpolar"
           }
          ],
          "scatterpolargl": [
           {
            "marker": {
             "colorbar": {
              "outlinewidth": 0,
              "ticks": ""
             }
            },
            "type": "scatterpolargl"
           }
          ],
          "scatterternary": [
           {
            "marker": {
             "colorbar": {
              "outlinewidth": 0,
              "ticks": ""
             }
            },
            "type": "scatterternary"
           }
          ],
          "surface": [
           {
            "colorbar": {
             "outlinewidth": 0,
             "ticks": ""
            },
            "colorscale": [
             [
              0,
              "#0d0887"
             ],
             [
              0.1111111111111111,
              "#46039f"
             ],
             [
              0.2222222222222222,
              "#7201a8"
             ],
             [
              0.3333333333333333,
              "#9c179e"
             ],
             [
              0.4444444444444444,
              "#bd3786"
             ],
             [
              0.5555555555555556,
              "#d8576b"
             ],
             [
              0.6666666666666666,
              "#ed7953"
             ],
             [
              0.7777777777777778,
              "#fb9f3a"
             ],
             [
              0.8888888888888888,
              "#fdca26"
             ],
             [
              1,
              "#f0f921"
             ]
            ],
            "type": "surface"
           }
          ],
          "table": [
           {
            "cells": {
             "fill": {
              "color": "#EBF0F8"
             },
             "line": {
              "color": "white"
             }
            },
            "header": {
             "fill": {
              "color": "#C8D4E3"
             },
             "line": {
              "color": "white"
             }
            },
            "type": "table"
           }
          ]
         },
         "layout": {
          "annotationdefaults": {
           "arrowcolor": "#2a3f5f",
           "arrowhead": 0,
           "arrowwidth": 1
          },
          "autotypenumbers": "strict",
          "coloraxis": {
           "colorbar": {
            "outlinewidth": 0,
            "ticks": ""
           }
          },
          "colorscale": {
           "diverging": [
            [
             0,
             "#8e0152"
            ],
            [
             0.1,
             "#c51b7d"
            ],
            [
             0.2,
             "#de77ae"
            ],
            [
             0.3,
             "#f1b6da"
            ],
            [
             0.4,
             "#fde0ef"
            ],
            [
             0.5,
             "#f7f7f7"
            ],
            [
             0.6,
             "#e6f5d0"
            ],
            [
             0.7,
             "#b8e186"
            ],
            [
             0.8,
             "#7fbc41"
            ],
            [
             0.9,
             "#4d9221"
            ],
            [
             1,
             "#276419"
            ]
           ],
           "sequential": [
            [
             0,
             "#0d0887"
            ],
            [
             0.1111111111111111,
             "#46039f"
            ],
            [
             0.2222222222222222,
             "#7201a8"
            ],
            [
             0.3333333333333333,
             "#9c179e"
            ],
            [
             0.4444444444444444,
             "#bd3786"
            ],
            [
             0.5555555555555556,
             "#d8576b"
            ],
            [
             0.6666666666666666,
             "#ed7953"
            ],
            [
             0.7777777777777778,
             "#fb9f3a"
            ],
            [
             0.8888888888888888,
             "#fdca26"
            ],
            [
             1,
             "#f0f921"
            ]
           ],
           "sequentialminus": [
            [
             0,
             "#0d0887"
            ],
            [
             0.1111111111111111,
             "#46039f"
            ],
            [
             0.2222222222222222,
             "#7201a8"
            ],
            [
             0.3333333333333333,
             "#9c179e"
            ],
            [
             0.4444444444444444,
             "#bd3786"
            ],
            [
             0.5555555555555556,
             "#d8576b"
            ],
            [
             0.6666666666666666,
             "#ed7953"
            ],
            [
             0.7777777777777778,
             "#fb9f3a"
            ],
            [
             0.8888888888888888,
             "#fdca26"
            ],
            [
             1,
             "#f0f921"
            ]
           ]
          },
          "colorway": [
           "#636efa",
           "#EF553B",
           "#00cc96",
           "#ab63fa",
           "#FFA15A",
           "#19d3f3",
           "#FF6692",
           "#B6E880",
           "#FF97FF",
           "#FECB52"
          ],
          "font": {
           "color": "#2a3f5f"
          },
          "geo": {
           "bgcolor": "white",
           "lakecolor": "white",
           "landcolor": "#E5ECF6",
           "showlakes": true,
           "showland": true,
           "subunitcolor": "white"
          },
          "hoverlabel": {
           "align": "left"
          },
          "hovermode": "closest",
          "mapbox": {
           "style": "light"
          },
          "paper_bgcolor": "white",
          "plot_bgcolor": "#E5ECF6",
          "polar": {
           "angularaxis": {
            "gridcolor": "white",
            "linecolor": "white",
            "ticks": ""
           },
           "bgcolor": "#E5ECF6",
           "radialaxis": {
            "gridcolor": "white",
            "linecolor": "white",
            "ticks": ""
           }
          },
          "scene": {
           "xaxis": {
            "backgroundcolor": "#E5ECF6",
            "gridcolor": "white",
            "gridwidth": 2,
            "linecolor": "white",
            "showbackground": true,
            "ticks": "",
            "zerolinecolor": "white"
           },
           "yaxis": {
            "backgroundcolor": "#E5ECF6",
            "gridcolor": "white",
            "gridwidth": 2,
            "linecolor": "white",
            "showbackground": true,
            "ticks": "",
            "zerolinecolor": "white"
           },
           "zaxis": {
            "backgroundcolor": "#E5ECF6",
            "gridcolor": "white",
            "gridwidth": 2,
            "linecolor": "white",
            "showbackground": true,
            "ticks": "",
            "zerolinecolor": "white"
           }
          },
          "shapedefaults": {
           "line": {
            "color": "#2a3f5f"
           }
          },
          "ternary": {
           "aaxis": {
            "gridcolor": "white",
            "linecolor": "white",
            "ticks": ""
           },
           "baxis": {
            "gridcolor": "white",
            "linecolor": "white",
            "ticks": ""
           },
           "bgcolor": "#E5ECF6",
           "caxis": {
            "gridcolor": "white",
            "linecolor": "white",
            "ticks": ""
           }
          },
          "title": {
           "x": 0.05
          },
          "xaxis": {
           "automargin": true,
           "gridcolor": "white",
           "linecolor": "white",
           "ticks": "",
           "title": {
            "standoff": 15
           },
           "zerolinecolor": "white",
           "zerolinewidth": 2
          },
          "yaxis": {
           "automargin": true,
           "gridcolor": "white",
           "linecolor": "white",
           "ticks": "",
           "title": {
            "standoff": 15
           },
           "zerolinecolor": "white",
           "zerolinewidth": 2
          }
         }
        },
        "title": {
         "text": "R1 Structures: Frequency and Impact on Score Relative to All Factions Average (153.41): ambas"
        }
       }
      },
      "text/html": [
       "<div>                            <div id=\"6281b6aa-dd78-46ee-bd21-5b90f018600b\" class=\"plotly-graph-div\" style=\"height:525px; width:100%;\"></div>            <script type=\"text/javascript\">                require([\"plotly\"], function(Plotly) {                    window.PLOTLYENV=window.PLOTLYENV || {};                                    if (document.getElementById(\"6281b6aa-dd78-46ee-bd21-5b90f018600b\")) {                    Plotly.newPlot(                        \"6281b6aa-dd78-46ee-bd21-5b90f018600b\",                        [{\"branchvalues\":\"total\",\"customdata\":[[130.4,162.4],[80.0,148.0],[224.0,163.25],[224.3186813186813,150.78021978021977],[166.66666666666666,150.33333333333334],[315.0,187.0],[159.05555555555554,142.0],[65.0,164.0],[130.0,149.33333333333334],[139.5,141.5],[238.77300613496934,155.21472392638037],[200.25925925925927,151.44444444444446],[191.66666666666666,158.33333333333334],[134.0,149.0],[231.95862068965516,148.5103448275862],[181.0,152.33333333333334],[276.0,167.0],[242.66666666666666,149.0],[121.0,170.0],[221.625,154.0],[193.47916666666666,145.95833333333334],[215.76923076923077,151.0],[353.6666666666667,161.0],[66.0,155.0],[226.94736842105263,152.32236842105263],[206.8,132.4],[169.0,152.5],[226.17391304347825,158.17391304347825],[255.45454545454547,165.8939393939394],[218.4,162.2],[121.0,154.0],[99.16666666666667,161.0],[279.45454545454544,165.95454545454547],[287.1666666666667,170.83333333333334],[340.0,219.0],[310.0,212.5],[\"(?)\",152.0],[\"(?)\",153.85036496350364],[\"(?)\",154.33333333333334],[\"(?)\",153.8879892037787],[99.16666666666667,161.0],[\"(?)\",157.42857142857142],[\"(?)\",154.10018382352942]],\"domain\":{\"x\":[0.0,1.0],\"y\":[0.0,1.0]},\"hovertemplate\":\"labels=%{label}<br>class_counts=%{value}<br>parent=%{parent}<br>id=%{id}<br>ave_elo_ambas=%{customdata[0]}<br>ave_score_ambas=%{color}<extra></extra>\",\"ids\":[\"R1 Structures: Frequency and Overall Score for ambas/lab/ 0-m_0-ts_2-lab_0-pi_0-ac1_0-ac2\",\"R1 Structures: Frequency and Overall Score for ambas/ts/ 0-m_3-ts_0-lab_0-pi_0-ac1_0-ac2\",\"R1 Structures: Frequency and Overall Score for ambas/ac2/ 1-m_0-ts_0-lab_0-pi_0-ac1_1-ac2\",\"R1 Structures: Frequency and Overall Score for ambas/ac1/ 1-m_0-ts_0-lab_0-pi_1-ac1_0-ac2\",\"R1 Structures: Frequency and Overall Score for ambas/lab/ 1-m_0-ts_1-lab_0-pi_0-ac1_0-ac2\",\"R1 Structures: Frequency and Overall Score for ambas/ac1/ 1-m_1-ts_0-lab_0-pi_1-ac1_0-ac2\",\"R1 Structures: Frequency and Overall Score for ambas/lab/ 1-m_1-ts_1-lab_0-pi_0-ac1_0-ac2\",\"R1 Structures: Frequency and Overall Score for ambas/lab/ 1-m_2-ts_1-lab_0-pi_0-ac1_0-ac2\",\"R1 Structures: Frequency and Overall Score for ambas/ts/ 1-m_3-ts_0-lab_0-pi_0-ac1_0-ac2\",\"R1 Structures: Frequency and Overall Score for ambas/ac2/ 2-m_0-ts_0-lab_0-pi_0-ac1_1-ac2\",\"R1 Structures: Frequency and Overall Score for ambas/ac1/ 2-m_0-ts_0-lab_0-pi_1-ac1_0-ac2\",\"R1 Structures: Frequency and Overall Score for ambas/lab/ 2-m_0-ts_1-lab_0-pi_0-ac1_0-ac2\",\"R1 Structures: Frequency and Overall Score for ambas/lab/ 2-m_0-ts_2-lab_0-pi_0-ac1_0-ac2\",\"R1 Structures: Frequency and Overall Score for ambas/PI/ 2-m_1-ts_0-lab_1-pi_0-ac1_0-ac2\",\"R1 Structures: Frequency and Overall Score for ambas/lab/ 2-m_1-ts_1-lab_0-pi_0-ac1_0-ac2\",\"R1 Structures: Frequency and Overall Score for ambas/ts/ 2-m_2-ts_0-lab_0-pi_0-ac1_0-ac2\",\"R1 Structures: Frequency and Overall Score for ambas/lab/ 2-m_2-ts_1-lab_0-pi_0-ac1_0-ac2\",\"R1 Structures: Frequency and Overall Score for ambas/ts/ 2-m_3-ts_0-lab_0-pi_0-ac1_0-ac2\",\"R1 Structures: Frequency and Overall Score for ambas/ac2/ 3-m_0-ts_0-lab_0-pi_0-ac1_1-ac2\",\"R1 Structures: Frequency and Overall Score for ambas/ac1/ 3-m_0-ts_0-lab_0-pi_1-ac1_0-ac2\",\"R1 Structures: Frequency and Overall Score for ambas/lab/ 3-m_0-ts_1-lab_0-pi_0-ac1_0-ac2\",\"R1 Structures: Frequency and Overall Score for ambas/lab/ 3-m_1-ts_1-lab_0-pi_0-ac1_0-ac2\",\"R1 Structures: Frequency and Overall Score for ambas/ac1/ 4-m_0-ts_0-lab_0-pi_1-ac1_0-ac2\",\"R1 Structures: Frequency and Overall Score for ambas/PI/ 4-m_0-ts_0-lab_1-pi_0-ac1_0-ac2\",\"R1 Structures: Frequency and Overall Score for ambas/lab/ 4-m_0-ts_1-lab_0-pi_0-ac1_0-ac2\",\"R1 Structures: Frequency and Overall Score for ambas/ts/ 4-m_1-ts_0-lab_0-pi_0-ac1_0-ac2\",\"R1 Structures: Frequency and Overall Score for ambas/lab/ 4-m_1-ts_1-lab_0-pi_0-ac1_0-ac2\",\"R1 Structures: Frequency and Overall Score for ambas/ts/ 4-m_2-ts_0-lab_0-pi_0-ac1_0-ac2\",\"R1 Structures: Frequency and Overall Score for ambas/lab/ 5-m_0-ts_1-lab_0-pi_0-ac1_0-ac2\",\"R1 Structures: Frequency and Overall Score for ambas/ts/ 5-m_1-ts_0-lab_0-pi_0-ac1_0-ac2\",\"R1 Structures: Frequency and Overall Score for ambas/ts/ 5-m_2-ts_0-lab_0-pi_0-ac1_0-ac2\",\"R1 Structures: Frequency and Overall Score for ambas/m/ 6-m_0-ts_0-lab_0-pi_0-ac1_0-ac2\",\"R1 Structures: Frequency and Overall Score for ambas/lab/ 6-m_0-ts_1-lab_0-pi_0-ac1_0-ac2\",\"R1 Structures: Frequency and Overall Score for ambas/ts/ 6-m_1-ts_0-lab_0-pi_0-ac1_0-ac2\",\"R1 Structures: Frequency and Overall Score for ambas/lab/ 7-m_0-ts_1-lab_0-pi_0-ac1_0-ac2\",\"R1 Structures: Frequency and Overall Score for ambas/ts/ 7-m_1-ts_0-lab_0-pi_0-ac1_0-ac2\",\"R1 Structures: Frequency and Overall Score for ambas/PI\",\"R1 Structures: Frequency and Overall Score for ambas/ac1\",\"R1 Structures: Frequency and Overall Score for ambas/ac2\",\"R1 Structures: Frequency and Overall Score for ambas/lab\",\"R1 Structures: Frequency and Overall Score for ambas/m\",\"R1 Structures: Frequency and Overall Score for ambas/ts\",\"R1 Structures: Frequency and Overall Score for ambas\"],\"labels\":[\" 0-m_0-ts_2-lab_0-pi_0-ac1_0-ac2\",\" 0-m_3-ts_0-lab_0-pi_0-ac1_0-ac2\",\" 1-m_0-ts_0-lab_0-pi_0-ac1_1-ac2\",\" 1-m_0-ts_0-lab_0-pi_1-ac1_0-ac2\",\" 1-m_0-ts_1-lab_0-pi_0-ac1_0-ac2\",\" 1-m_1-ts_0-lab_0-pi_1-ac1_0-ac2\",\" 1-m_1-ts_1-lab_0-pi_0-ac1_0-ac2\",\" 1-m_2-ts_1-lab_0-pi_0-ac1_0-ac2\",\" 1-m_3-ts_0-lab_0-pi_0-ac1_0-ac2\",\" 2-m_0-ts_0-lab_0-pi_0-ac1_1-ac2\",\" 2-m_0-ts_0-lab_0-pi_1-ac1_0-ac2\",\" 2-m_0-ts_1-lab_0-pi_0-ac1_0-ac2\",\" 2-m_0-ts_2-lab_0-pi_0-ac1_0-ac2\",\" 2-m_1-ts_0-lab_1-pi_0-ac1_0-ac2\",\" 2-m_1-ts_1-lab_0-pi_0-ac1_0-ac2\",\" 2-m_2-ts_0-lab_0-pi_0-ac1_0-ac2\",\" 2-m_2-ts_1-lab_0-pi_0-ac1_0-ac2\",\" 2-m_3-ts_0-lab_0-pi_0-ac1_0-ac2\",\" 3-m_0-ts_0-lab_0-pi_0-ac1_1-ac2\",\" 3-m_0-ts_0-lab_0-pi_1-ac1_0-ac2\",\" 3-m_0-ts_1-lab_0-pi_0-ac1_0-ac2\",\" 3-m_1-ts_1-lab_0-pi_0-ac1_0-ac2\",\" 4-m_0-ts_0-lab_0-pi_1-ac1_0-ac2\",\" 4-m_0-ts_0-lab_1-pi_0-ac1_0-ac2\",\" 4-m_0-ts_1-lab_0-pi_0-ac1_0-ac2\",\" 4-m_1-ts_0-lab_0-pi_0-ac1_0-ac2\",\" 4-m_1-ts_1-lab_0-pi_0-ac1_0-ac2\",\" 4-m_2-ts_0-lab_0-pi_0-ac1_0-ac2\",\" 5-m_0-ts_1-lab_0-pi_0-ac1_0-ac2\",\" 5-m_1-ts_0-lab_0-pi_0-ac1_0-ac2\",\" 5-m_2-ts_0-lab_0-pi_0-ac1_0-ac2\",\" 6-m_0-ts_0-lab_0-pi_0-ac1_0-ac2\",\" 6-m_0-ts_1-lab_0-pi_0-ac1_0-ac2\",\" 6-m_1-ts_0-lab_0-pi_0-ac1_0-ac2\",\" 7-m_0-ts_1-lab_0-pi_0-ac1_0-ac2\",\" 7-m_1-ts_0-lab_0-pi_0-ac1_0-ac2\",\"PI\",\"ac1\",\"ac2\",\"lab\",\"m\",\"ts\",\"R1 Structures: Frequency and Overall Score for ambas\"],\"marker\":{\"coloraxis\":\"coloraxis\",\"colors\":[162.4,148.0,163.25,150.78021978021977,150.33333333333334,187.0,142.0,164.0,149.33333333333334,141.5,155.21472392638037,151.44444444444446,158.33333333333334,149.0,148.5103448275862,152.33333333333334,167.0,149.0,170.0,154.0,145.95833333333334,151.0,161.0,155.0,152.32236842105263,132.4,152.5,158.17391304347825,165.8939393939394,162.2,154.0,161.0,165.95454545454547,170.83333333333334,219.0,212.5,152.0,153.85036496350364,154.33333333333334,153.8879892037787,161.0,157.42857142857142,154.10018382352942]},\"name\":\"\",\"parents\":[\"R1 Structures: Frequency and Overall Score for ambas/lab\",\"R1 Structures: Frequency and Overall Score for ambas/ts\",\"R1 Structures: Frequency and Overall Score for ambas/ac2\",\"R1 Structures: Frequency and Overall Score for ambas/ac1\",\"R1 Structures: Frequency and Overall Score for ambas/lab\",\"R1 Structures: Frequency and Overall Score for ambas/ac1\",\"R1 Structures: Frequency and Overall Score for ambas/lab\",\"R1 Structures: Frequency and Overall Score for ambas/lab\",\"R1 Structures: Frequency and Overall Score for ambas/ts\",\"R1 Structures: Frequency and Overall Score for ambas/ac2\",\"R1 Structures: Frequency and Overall Score for ambas/ac1\",\"R1 Structures: Frequency and Overall Score for ambas/lab\",\"R1 Structures: Frequency and Overall Score for ambas/lab\",\"R1 Structures: Frequency and Overall Score for ambas/PI\",\"R1 Structures: Frequency and Overall Score for ambas/lab\",\"R1 Structures: Frequency and Overall Score for ambas/ts\",\"R1 Structures: Frequency and Overall Score for ambas/lab\",\"R1 Structures: Frequency and Overall Score for ambas/ts\",\"R1 Structures: Frequency and Overall Score for ambas/ac2\",\"R1 Structures: Frequency and Overall Score for ambas/ac1\",\"R1 Structures: Frequency and Overall Score for ambas/lab\",\"R1 Structures: Frequency and Overall Score for ambas/lab\",\"R1 Structures: Frequency and Overall Score for ambas/ac1\",\"R1 Structures: Frequency and Overall Score for ambas/PI\",\"R1 Structures: Frequency and Overall Score for ambas/lab\",\"R1 Structures: Frequency and Overall Score for ambas/ts\",\"R1 Structures: Frequency and Overall Score for ambas/lab\",\"R1 Structures: Frequency and Overall Score for ambas/ts\",\"R1 Structures: Frequency and Overall Score for ambas/lab\",\"R1 Structures: Frequency and Overall Score for ambas/ts\",\"R1 Structures: Frequency and Overall Score for ambas/ts\",\"R1 Structures: Frequency and Overall Score for ambas/m\",\"R1 Structures: Frequency and Overall Score for ambas/lab\",\"R1 Structures: Frequency and Overall Score for ambas/ts\",\"R1 Structures: Frequency and Overall Score for ambas/lab\",\"R1 Structures: Frequency and Overall Score for ambas/ts\",\"R1 Structures: Frequency and Overall Score for ambas\",\"R1 Structures: Frequency and Overall Score for ambas\",\"R1 Structures: Frequency and Overall Score for ambas\",\"R1 Structures: Frequency and Overall Score for ambas\",\"R1 Structures: Frequency and Overall Score for ambas\",\"R1 Structures: Frequency and Overall Score for ambas\",\"\"],\"values\":[5,1,4,91,3,1,18,1,3,4,163,27,3,1,145,3,2,6,1,16,48,26,3,1,304,5,4,23,132,5,2,6,22,6,1,2,2,274,9,741,6,56,1088],\"type\":\"treemap\"}],                        {\"template\":{\"data\":{\"bar\":[{\"error_x\":{\"color\":\"#2a3f5f\"},\"error_y\":{\"color\":\"#2a3f5f\"},\"marker\":{\"line\":{\"color\":\"#E5ECF6\",\"width\":0.5},\"pattern\":{\"fillmode\":\"overlay\",\"size\":10,\"solidity\":0.2}},\"type\":\"bar\"}],\"barpolar\":[{\"marker\":{\"line\":{\"color\":\"#E5ECF6\",\"width\":0.5},\"pattern\":{\"fillmode\":\"overlay\",\"size\":10,\"solidity\":0.2}},\"type\":\"barpolar\"}],\"carpet\":[{\"aaxis\":{\"endlinecolor\":\"#2a3f5f\",\"gridcolor\":\"white\",\"linecolor\":\"white\",\"minorgridcolor\":\"white\",\"startlinecolor\":\"#2a3f5f\"},\"baxis\":{\"endlinecolor\":\"#2a3f5f\",\"gridcolor\":\"white\",\"linecolor\":\"white\",\"minorgridcolor\":\"white\",\"startlinecolor\":\"#2a3f5f\"},\"type\":\"carpet\"}],\"choropleth\":[{\"colorbar\":{\"outlinewidth\":0,\"ticks\":\"\"},\"type\":\"choropleth\"}],\"contour\":[{\"colorbar\":{\"outlinewidth\":0,\"ticks\":\"\"},\"colorscale\":[[0.0,\"#0d0887\"],[0.1111111111111111,\"#46039f\"],[0.2222222222222222,\"#7201a8\"],[0.3333333333333333,\"#9c179e\"],[0.4444444444444444,\"#bd3786\"],[0.5555555555555556,\"#d8576b\"],[0.6666666666666666,\"#ed7953\"],[0.7777777777777778,\"#fb9f3a\"],[0.8888888888888888,\"#fdca26\"],[1.0,\"#f0f921\"]],\"type\":\"contour\"}],\"contourcarpet\":[{\"colorbar\":{\"outlinewidth\":0,\"ticks\":\"\"},\"type\":\"contourcarpet\"}],\"heatmap\":[{\"colorbar\":{\"outlinewidth\":0,\"ticks\":\"\"},\"colorscale\":[[0.0,\"#0d0887\"],[0.1111111111111111,\"#46039f\"],[0.2222222222222222,\"#7201a8\"],[0.3333333333333333,\"#9c179e\"],[0.4444444444444444,\"#bd3786\"],[0.5555555555555556,\"#d8576b\"],[0.6666666666666666,\"#ed7953\"],[0.7777777777777778,\"#fb9f3a\"],[0.8888888888888888,\"#fdca26\"],[1.0,\"#f0f921\"]],\"type\":\"heatmap\"}],\"heatmapgl\":[{\"colorbar\":{\"outlinewidth\":0,\"ticks\":\"\"},\"colorscale\":[[0.0,\"#0d0887\"],[0.1111111111111111,\"#46039f\"],[0.2222222222222222,\"#7201a8\"],[0.3333333333333333,\"#9c179e\"],[0.4444444444444444,\"#bd3786\"],[0.5555555555555556,\"#d8576b\"],[0.6666666666666666,\"#ed7953\"],[0.7777777777777778,\"#fb9f3a\"],[0.8888888888888888,\"#fdca26\"],[1.0,\"#f0f921\"]],\"type\":\"heatmapgl\"}],\"histogram\":[{\"marker\":{\"pattern\":{\"fillmode\":\"overlay\",\"size\":10,\"solidity\":0.2}},\"type\":\"histogram\"}],\"histogram2d\":[{\"colorbar\":{\"outlinewidth\":0,\"ticks\":\"\"},\"colorscale\":[[0.0,\"#0d0887\"],[0.1111111111111111,\"#46039f\"],[0.2222222222222222,\"#7201a8\"],[0.3333333333333333,\"#9c179e\"],[0.4444444444444444,\"#bd3786\"],[0.5555555555555556,\"#d8576b\"],[0.6666666666666666,\"#ed7953\"],[0.7777777777777778,\"#fb9f3a\"],[0.8888888888888888,\"#fdca26\"],[1.0,\"#f0f921\"]],\"type\":\"histogram2d\"}],\"histogram2dcontour\":[{\"colorbar\":{\"outlinewidth\":0,\"ticks\":\"\"},\"colorscale\":[[0.0,\"#0d0887\"],[0.1111111111111111,\"#46039f\"],[0.2222222222222222,\"#7201a8\"],[0.3333333333333333,\"#9c179e\"],[0.4444444444444444,\"#bd3786\"],[0.5555555555555556,\"#d8576b\"],[0.6666666666666666,\"#ed7953\"],[0.7777777777777778,\"#fb9f3a\"],[0.8888888888888888,\"#fdca26\"],[1.0,\"#f0f921\"]],\"type\":\"histogram2dcontour\"}],\"mesh3d\":[{\"colorbar\":{\"outlinewidth\":0,\"ticks\":\"\"},\"type\":\"mesh3d\"}],\"parcoords\":[{\"line\":{\"colorbar\":{\"outlinewidth\":0,\"ticks\":\"\"}},\"type\":\"parcoords\"}],\"pie\":[{\"automargin\":true,\"type\":\"pie\"}],\"scatter\":[{\"marker\":{\"colorbar\":{\"outlinewidth\":0,\"ticks\":\"\"}},\"type\":\"scatter\"}],\"scatter3d\":[{\"line\":{\"colorbar\":{\"outlinewidth\":0,\"ticks\":\"\"}},\"marker\":{\"colorbar\":{\"outlinewidth\":0,\"ticks\":\"\"}},\"type\":\"scatter3d\"}],\"scattercarpet\":[{\"marker\":{\"colorbar\":{\"outlinewidth\":0,\"ticks\":\"\"}},\"type\":\"scattercarpet\"}],\"scattergeo\":[{\"marker\":{\"colorbar\":{\"outlinewidth\":0,\"ticks\":\"\"}},\"type\":\"scattergeo\"}],\"scattergl\":[{\"marker\":{\"colorbar\":{\"outlinewidth\":0,\"ticks\":\"\"}},\"type\":\"scattergl\"}],\"scattermapbox\":[{\"marker\":{\"colorbar\":{\"outlinewidth\":0,\"ticks\":\"\"}},\"type\":\"scattermapbox\"}],\"scatterpolar\":[{\"marker\":{\"colorbar\":{\"outlinewidth\":0,\"ticks\":\"\"}},\"type\":\"scatterpolar\"}],\"scatterpolargl\":[{\"marker\":{\"colorbar\":{\"outlinewidth\":0,\"ticks\":\"\"}},\"type\":\"scatterpolargl\"}],\"scatterternary\":[{\"marker\":{\"colorbar\":{\"outlinewidth\":0,\"ticks\":\"\"}},\"type\":\"scatterternary\"}],\"surface\":[{\"colorbar\":{\"outlinewidth\":0,\"ticks\":\"\"},\"colorscale\":[[0.0,\"#0d0887\"],[0.1111111111111111,\"#46039f\"],[0.2222222222222222,\"#7201a8\"],[0.3333333333333333,\"#9c179e\"],[0.4444444444444444,\"#bd3786\"],[0.5555555555555556,\"#d8576b\"],[0.6666666666666666,\"#ed7953\"],[0.7777777777777778,\"#fb9f3a\"],[0.8888888888888888,\"#fdca26\"],[1.0,\"#f0f921\"]],\"type\":\"surface\"}],\"table\":[{\"cells\":{\"fill\":{\"color\":\"#EBF0F8\"},\"line\":{\"color\":\"white\"}},\"header\":{\"fill\":{\"color\":\"#C8D4E3\"},\"line\":{\"color\":\"white\"}},\"type\":\"table\"}]},\"layout\":{\"annotationdefaults\":{\"arrowcolor\":\"#2a3f5f\",\"arrowhead\":0,\"arrowwidth\":1},\"autotypenumbers\":\"strict\",\"coloraxis\":{\"colorbar\":{\"outlinewidth\":0,\"ticks\":\"\"}},\"colorscale\":{\"diverging\":[[0,\"#8e0152\"],[0.1,\"#c51b7d\"],[0.2,\"#de77ae\"],[0.3,\"#f1b6da\"],[0.4,\"#fde0ef\"],[0.5,\"#f7f7f7\"],[0.6,\"#e6f5d0\"],[0.7,\"#b8e186\"],[0.8,\"#7fbc41\"],[0.9,\"#4d9221\"],[1,\"#276419\"]],\"sequential\":[[0.0,\"#0d0887\"],[0.1111111111111111,\"#46039f\"],[0.2222222222222222,\"#7201a8\"],[0.3333333333333333,\"#9c179e\"],[0.4444444444444444,\"#bd3786\"],[0.5555555555555556,\"#d8576b\"],[0.6666666666666666,\"#ed7953\"],[0.7777777777777778,\"#fb9f3a\"],[0.8888888888888888,\"#fdca26\"],[1.0,\"#f0f921\"]],\"sequentialminus\":[[0.0,\"#0d0887\"],[0.1111111111111111,\"#46039f\"],[0.2222222222222222,\"#7201a8\"],[0.3333333333333333,\"#9c179e\"],[0.4444444444444444,\"#bd3786\"],[0.5555555555555556,\"#d8576b\"],[0.6666666666666666,\"#ed7953\"],[0.7777777777777778,\"#fb9f3a\"],[0.8888888888888888,\"#fdca26\"],[1.0,\"#f0f921\"]]},\"colorway\":[\"#636efa\",\"#EF553B\",\"#00cc96\",\"#ab63fa\",\"#FFA15A\",\"#19d3f3\",\"#FF6692\",\"#B6E880\",\"#FF97FF\",\"#FECB52\"],\"font\":{\"color\":\"#2a3f5f\"},\"geo\":{\"bgcolor\":\"white\",\"lakecolor\":\"white\",\"landcolor\":\"#E5ECF6\",\"showlakes\":true,\"showland\":true,\"subunitcolor\":\"white\"},\"hoverlabel\":{\"align\":\"left\"},\"hovermode\":\"closest\",\"mapbox\":{\"style\":\"light\"},\"paper_bgcolor\":\"white\",\"plot_bgcolor\":\"#E5ECF6\",\"polar\":{\"angularaxis\":{\"gridcolor\":\"white\",\"linecolor\":\"white\",\"ticks\":\"\"},\"bgcolor\":\"#E5ECF6\",\"radialaxis\":{\"gridcolor\":\"white\",\"linecolor\":\"white\",\"ticks\":\"\"}},\"scene\":{\"xaxis\":{\"backgroundcolor\":\"#E5ECF6\",\"gridcolor\":\"white\",\"gridwidth\":2,\"linecolor\":\"white\",\"showbackground\":true,\"ticks\":\"\",\"zerolinecolor\":\"white\"},\"yaxis\":{\"backgroundcolor\":\"#E5ECF6\",\"gridcolor\":\"white\",\"gridwidth\":2,\"linecolor\":\"white\",\"showbackground\":true,\"ticks\":\"\",\"zerolinecolor\":\"white\"},\"zaxis\":{\"backgroundcolor\":\"#E5ECF6\",\"gridcolor\":\"white\",\"gridwidth\":2,\"linecolor\":\"white\",\"showbackground\":true,\"ticks\":\"\",\"zerolinecolor\":\"white\"}},\"shapedefaults\":{\"line\":{\"color\":\"#2a3f5f\"}},\"ternary\":{\"aaxis\":{\"gridcolor\":\"white\",\"linecolor\":\"white\",\"ticks\":\"\"},\"baxis\":{\"gridcolor\":\"white\",\"linecolor\":\"white\",\"ticks\":\"\"},\"bgcolor\":\"#E5ECF6\",\"caxis\":{\"gridcolor\":\"white\",\"linecolor\":\"white\",\"ticks\":\"\"}},\"title\":{\"x\":0.05},\"xaxis\":{\"automargin\":true,\"gridcolor\":\"white\",\"linecolor\":\"white\",\"ticks\":\"\",\"title\":{\"standoff\":15},\"zerolinecolor\":\"white\",\"zerolinewidth\":2},\"yaxis\":{\"automargin\":true,\"gridcolor\":\"white\",\"linecolor\":\"white\",\"ticks\":\"\",\"title\":{\"standoff\":15},\"zerolinecolor\":\"white\",\"zerolinewidth\":2}}},\"coloraxis\":{\"colorbar\":{\"title\":{\"text\":\"ave_score_ambas\"}},\"colorscale\":[[0.0,\"rgb(103,0,31)\"],[0.1,\"rgb(178,24,43)\"],[0.2,\"rgb(214,96,77)\"],[0.3,\"rgb(244,165,130)\"],[0.4,\"rgb(253,219,199)\"],[0.5,\"rgb(247,247,247)\"],[0.6,\"rgb(209,229,240)\"],[0.7,\"rgb(146,197,222)\"],[0.8,\"rgb(67,147,195)\"],[0.9,\"rgb(33,102,172)\"],[1.0,\"rgb(5,48,97)\"]],\"cmid\":153.409394703657},\"legend\":{\"tracegroupgap\":0},\"margin\":{\"t\":50,\"l\":25,\"r\":25,\"b\":25},\"title\":{\"text\":\"R1 Structures: Frequency and Impact on Score Relative to All Factions Average (153.41): ambas\"}},                        {\"responsive\": true}                    ).then(function(){\n",
       "                            \n",
       "var gd = document.getElementById('6281b6aa-dd78-46ee-bd21-5b90f018600b');\n",
       "var x = new MutationObserver(function (mutations, observer) {{\n",
       "        var display = window.getComputedStyle(gd).display;\n",
       "        if (!display || display === 'none') {{\n",
       "            console.log([gd, 'removed!']);\n",
       "            Plotly.purge(gd);\n",
       "            observer.disconnect();\n",
       "        }}\n",
       "}});\n",
       "\n",
       "// Listen for the removal of the full notebook cells\n",
       "var notebookContainer = gd.closest('#notebook-container');\n",
       "if (notebookContainer) {{\n",
       "    x.observe(notebookContainer, {childList: true});\n",
       "}}\n",
       "\n",
       "// Listen for the clearing of the current output cell\n",
       "var outputEl = gd.closest('.output');\n",
       "if (outputEl) {{\n",
       "    x.observe(outputEl, {childList: true});\n",
       "}}\n",
       "\n",
       "                        })                };                });            </script>        </div>"
      ]
     },
     "metadata": {},
     "output_type": "display_data"
    },
    {
     "data": {
      "application/vnd.plotly.v1+json": {
       "config": {
        "plotlyServerURL": "https://plot.ly"
       },
       "data": [
        {
         "branchvalues": "total",
         "customdata": [
          [
           227.33333333333334,
           146.5
          ],
          [
           257,
           171
          ],
          [
           108,
           136
          ],
          [
           179.53846153846155,
           144.15384615384616
          ],
          [
           210.95081967213116,
           151.0983606557377
          ],
          [
           239.7608695652174,
           153.22608695652173
          ],
          [
           184.5,
           142.80555555555554
          ],
          [
           310.8333333333333,
           166.5
          ],
          [
           176.525,
           143.925
          ],
          [
           197.04166666666666,
           149.97916666666666
          ],
          [
           268.8979591836735,
           156.24489795918367
          ],
          [
           225.4590747330961,
           152.24199288256227
          ],
          [
           220.83333333333334,
           148.73333333333332
          ],
          [
           238.33333333333334,
           135
          ],
          [
           175,
           150
          ],
          [
           434,
           154
          ],
          [
           213.6014492753623,
           148.84782608695653
          ],
          [
           241.36363636363637,
           156.9318181818182
          ],
          [
           172,
           135
          ],
          [
           42,
           140
          ],
          [
           262,
           130
          ],
          [
           108,
           136
          ],
          [
           "(?)",
           154.1787878787879
          ],
          [
           "(?)",
           150.6
          ],
          [
           "(?)",
           150.25198098256735
          ],
          [
           42,
           140
          ],
          [
           "(?)",
           135
          ],
          [
           "(?)",
           151.4113277623027
          ]
         ],
         "domain": {
          "x": [
           0,
           1
          ],
          "y": [
           0,
           1
          ]
         },
         "hovertemplate": "labels=%{label}<br>class_counts=%{value}<br>parent=%{parent}<br>id=%{id}<br>ave_elo_baltaks=%{customdata[0]}<br>ave_score_baltaks=%{color}<extra></extra>",
         "ids": [
          "R1 Structures: Frequency and Overall Score for baltaks/lab/ 0-m_0-ts_2-lab_0-pi_0-ac1_0-ac2",
          "R1 Structures: Frequency and Overall Score for baltaks/ac1/ 0-m_1-ts_0-lab_0-pi_1-ac1_0-ac2",
          "R1 Structures: Frequency and Overall Score for baltaks/PI/ 0-m_1-ts_0-lab_1-pi_0-ac1_0-ac2",
          "R1 Structures: Frequency and Overall Score for baltaks/lab/ 0-m_1-ts_1-lab_0-pi_0-ac1_0-ac2",
          "R1 Structures: Frequency and Overall Score for baltaks/ac2/ 1-m_0-ts_0-lab_0-pi_0-ac1_1-ac2",
          "R1 Structures: Frequency and Overall Score for baltaks/ac1/ 1-m_0-ts_0-lab_0-pi_1-ac1_0-ac2",
          "R1 Structures: Frequency and Overall Score for baltaks/lab/ 1-m_0-ts_1-lab_0-pi_0-ac1_0-ac2",
          "R1 Structures: Frequency and Overall Score for baltaks/lab/ 1-m_0-ts_2-lab_0-pi_0-ac1_0-ac2",
          "R1 Structures: Frequency and Overall Score for baltaks/lab/ 1-m_1-ts_1-lab_0-pi_0-ac1_0-ac2",
          "R1 Structures: Frequency and Overall Score for baltaks/ac2/ 2-m_0-ts_0-lab_0-pi_0-ac1_1-ac2",
          "R1 Structures: Frequency and Overall Score for baltaks/ac1/ 2-m_0-ts_0-lab_0-pi_1-ac1_0-ac2",
          "R1 Structures: Frequency and Overall Score for baltaks/lab/ 2-m_0-ts_1-lab_0-pi_0-ac1_0-ac2",
          "R1 Structures: Frequency and Overall Score for baltaks/lab/ 2-m_1-ts_1-lab_0-pi_0-ac1_0-ac2",
          "R1 Structures: Frequency and Overall Score for baltaks/ts/ 2-m_2-ts_0-lab_0-pi_0-ac1_0-ac2",
          "R1 Structures: Frequency and Overall Score for baltaks/ac2/ 3-m_0-ts_0-lab_0-pi_0-ac1_1-ac2",
          "R1 Structures: Frequency and Overall Score for baltaks/ac1/ 3-m_0-ts_0-lab_0-pi_1-ac1_0-ac2",
          "R1 Structures: Frequency and Overall Score for baltaks/lab/ 3-m_0-ts_1-lab_0-pi_0-ac1_0-ac2",
          "R1 Structures: Frequency and Overall Score for baltaks/lab/ 4-m_0-ts_1-lab_0-pi_0-ac1_0-ac2",
          "R1 Structures: Frequency and Overall Score for baltaks/ts/ 4-m_1-ts_0-lab_0-pi_0-ac1_0-ac2",
          "R1 Structures: Frequency and Overall Score for baltaks/m/ 5-m_0-ts_0-lab_0-pi_0-ac1_0-ac2",
          "R1 Structures: Frequency and Overall Score for baltaks/lab/ 5-m_0-ts_1-lab_0-pi_0-ac1_0-ac2",
          "R1 Structures: Frequency and Overall Score for baltaks/PI",
          "R1 Structures: Frequency and Overall Score for baltaks/ac1",
          "R1 Structures: Frequency and Overall Score for baltaks/ac2",
          "R1 Structures: Frequency and Overall Score for baltaks/lab",
          "R1 Structures: Frequency and Overall Score for baltaks/m",
          "R1 Structures: Frequency and Overall Score for baltaks/ts",
          "R1 Structures: Frequency and Overall Score for baltaks"
         ],
         "labels": [
          " 0-m_0-ts_2-lab_0-pi_0-ac1_0-ac2",
          " 0-m_1-ts_0-lab_0-pi_1-ac1_0-ac2",
          " 0-m_1-ts_0-lab_1-pi_0-ac1_0-ac2",
          " 0-m_1-ts_1-lab_0-pi_0-ac1_0-ac2",
          " 1-m_0-ts_0-lab_0-pi_0-ac1_1-ac2",
          " 1-m_0-ts_0-lab_0-pi_1-ac1_0-ac2",
          " 1-m_0-ts_1-lab_0-pi_0-ac1_0-ac2",
          " 1-m_0-ts_2-lab_0-pi_0-ac1_0-ac2",
          " 1-m_1-ts_1-lab_0-pi_0-ac1_0-ac2",
          " 2-m_0-ts_0-lab_0-pi_0-ac1_1-ac2",
          " 2-m_0-ts_0-lab_0-pi_1-ac1_0-ac2",
          " 2-m_0-ts_1-lab_0-pi_0-ac1_0-ac2",
          " 2-m_1-ts_1-lab_0-pi_0-ac1_0-ac2",
          " 2-m_2-ts_0-lab_0-pi_0-ac1_0-ac2",
          " 3-m_0-ts_0-lab_0-pi_0-ac1_1-ac2",
          " 3-m_0-ts_0-lab_0-pi_1-ac1_0-ac2",
          " 3-m_0-ts_1-lab_0-pi_0-ac1_0-ac2",
          " 4-m_0-ts_1-lab_0-pi_0-ac1_0-ac2",
          " 4-m_1-ts_0-lab_0-pi_0-ac1_0-ac2",
          " 5-m_0-ts_0-lab_0-pi_0-ac1_0-ac2",
          " 5-m_0-ts_1-lab_0-pi_0-ac1_0-ac2",
          "PI",
          "ac1",
          "ac2",
          "lab",
          "m",
          "ts",
          "R1 Structures: Frequency and Overall Score for baltaks"
         ],
         "marker": {
          "coloraxis": "coloraxis",
          "colors": [
           146.5,
           171,
           136,
           144.15384615384616,
           151.0983606557377,
           153.22608695652173,
           142.80555555555554,
           166.5,
           143.925,
           149.97916666666666,
           156.24489795918367,
           152.24199288256227,
           148.73333333333332,
           135,
           150,
           154,
           148.84782608695653,
           156.9318181818182,
           135,
           140,
           130,
           136,
           154.1787878787879,
           150.6,
           150.25198098256735,
           140,
           135,
           151.4113277623027
          ]
         },
         "name": "",
         "parents": [
          "R1 Structures: Frequency and Overall Score for baltaks/lab",
          "R1 Structures: Frequency and Overall Score for baltaks/ac1",
          "R1 Structures: Frequency and Overall Score for baltaks/PI",
          "R1 Structures: Frequency and Overall Score for baltaks/lab",
          "R1 Structures: Frequency and Overall Score for baltaks/ac2",
          "R1 Structures: Frequency and Overall Score for baltaks/ac1",
          "R1 Structures: Frequency and Overall Score for baltaks/lab",
          "R1 Structures: Frequency and Overall Score for baltaks/lab",
          "R1 Structures: Frequency and Overall Score for baltaks/lab",
          "R1 Structures: Frequency and Overall Score for baltaks/ac2",
          "R1 Structures: Frequency and Overall Score for baltaks/ac1",
          "R1 Structures: Frequency and Overall Score for baltaks/lab",
          "R1 Structures: Frequency and Overall Score for baltaks/lab",
          "R1 Structures: Frequency and Overall Score for baltaks/ts",
          "R1 Structures: Frequency and Overall Score for baltaks/ac2",
          "R1 Structures: Frequency and Overall Score for baltaks/ac1",
          "R1 Structures: Frequency and Overall Score for baltaks/lab",
          "R1 Structures: Frequency and Overall Score for baltaks/lab",
          "R1 Structures: Frequency and Overall Score for baltaks/ts",
          "R1 Structures: Frequency and Overall Score for baltaks/m",
          "R1 Structures: Frequency and Overall Score for baltaks/lab",
          "R1 Structures: Frequency and Overall Score for baltaks",
          "R1 Structures: Frequency and Overall Score for baltaks",
          "R1 Structures: Frequency and Overall Score for baltaks",
          "R1 Structures: Frequency and Overall Score for baltaks",
          "R1 Structures: Frequency and Overall Score for baltaks",
          "R1 Structures: Frequency and Overall Score for baltaks",
          ""
         ],
         "type": "treemap",
         "values": [
          12,
          1,
          1,
          13,
          61,
          230,
          36,
          6,
          40,
          48,
          98,
          281,
          60,
          3,
          1,
          1,
          138,
          44,
          1,
          1,
          1,
          1,
          330,
          110,
          631,
          1,
          4,
          1077
         ]
        }
       ],
       "layout": {
        "coloraxis": {
         "cmid": 153.409394703657,
         "colorbar": {
          "title": {
           "text": "ave_score_baltaks"
          }
         },
         "colorscale": [
          [
           0,
           "rgb(103,0,31)"
          ],
          [
           0.1,
           "rgb(178,24,43)"
          ],
          [
           0.2,
           "rgb(214,96,77)"
          ],
          [
           0.3,
           "rgb(244,165,130)"
          ],
          [
           0.4,
           "rgb(253,219,199)"
          ],
          [
           0.5,
           "rgb(247,247,247)"
          ],
          [
           0.6,
           "rgb(209,229,240)"
          ],
          [
           0.7,
           "rgb(146,197,222)"
          ],
          [
           0.8,
           "rgb(67,147,195)"
          ],
          [
           0.9,
           "rgb(33,102,172)"
          ],
          [
           1,
           "rgb(5,48,97)"
          ]
         ]
        },
        "legend": {
         "tracegroupgap": 0
        },
        "margin": {
         "b": 25,
         "l": 25,
         "r": 25,
         "t": 50
        },
        "template": {
         "data": {
          "bar": [
           {
            "error_x": {
             "color": "#2a3f5f"
            },
            "error_y": {
             "color": "#2a3f5f"
            },
            "marker": {
             "line": {
              "color": "#E5ECF6",
              "width": 0.5
             },
             "pattern": {
              "fillmode": "overlay",
              "size": 10,
              "solidity": 0.2
             }
            },
            "type": "bar"
           }
          ],
          "barpolar": [
           {
            "marker": {
             "line": {
              "color": "#E5ECF6",
              "width": 0.5
             },
             "pattern": {
              "fillmode": "overlay",
              "size": 10,
              "solidity": 0.2
             }
            },
            "type": "barpolar"
           }
          ],
          "carpet": [
           {
            "aaxis": {
             "endlinecolor": "#2a3f5f",
             "gridcolor": "white",
             "linecolor": "white",
             "minorgridcolor": "white",
             "startlinecolor": "#2a3f5f"
            },
            "baxis": {
             "endlinecolor": "#2a3f5f",
             "gridcolor": "white",
             "linecolor": "white",
             "minorgridcolor": "white",
             "startlinecolor": "#2a3f5f"
            },
            "type": "carpet"
           }
          ],
          "choropleth": [
           {
            "colorbar": {
             "outlinewidth": 0,
             "ticks": ""
            },
            "type": "choropleth"
           }
          ],
          "contour": [
           {
            "colorbar": {
             "outlinewidth": 0,
             "ticks": ""
            },
            "colorscale": [
             [
              0,
              "#0d0887"
             ],
             [
              0.1111111111111111,
              "#46039f"
             ],
             [
              0.2222222222222222,
              "#7201a8"
             ],
             [
              0.3333333333333333,
              "#9c179e"
             ],
             [
              0.4444444444444444,
              "#bd3786"
             ],
             [
              0.5555555555555556,
              "#d8576b"
             ],
             [
              0.6666666666666666,
              "#ed7953"
             ],
             [
              0.7777777777777778,
              "#fb9f3a"
             ],
             [
              0.8888888888888888,
              "#fdca26"
             ],
             [
              1,
              "#f0f921"
             ]
            ],
            "type": "contour"
           }
          ],
          "contourcarpet": [
           {
            "colorbar": {
             "outlinewidth": 0,
             "ticks": ""
            },
            "type": "contourcarpet"
           }
          ],
          "heatmap": [
           {
            "colorbar": {
             "outlinewidth": 0,
             "ticks": ""
            },
            "colorscale": [
             [
              0,
              "#0d0887"
             ],
             [
              0.1111111111111111,
              "#46039f"
             ],
             [
              0.2222222222222222,
              "#7201a8"
             ],
             [
              0.3333333333333333,
              "#9c179e"
             ],
             [
              0.4444444444444444,
              "#bd3786"
             ],
             [
              0.5555555555555556,
              "#d8576b"
             ],
             [
              0.6666666666666666,
              "#ed7953"
             ],
             [
              0.7777777777777778,
              "#fb9f3a"
             ],
             [
              0.8888888888888888,
              "#fdca26"
             ],
             [
              1,
              "#f0f921"
             ]
            ],
            "type": "heatmap"
           }
          ],
          "heatmapgl": [
           {
            "colorbar": {
             "outlinewidth": 0,
             "ticks": ""
            },
            "colorscale": [
             [
              0,
              "#0d0887"
             ],
             [
              0.1111111111111111,
              "#46039f"
             ],
             [
              0.2222222222222222,
              "#7201a8"
             ],
             [
              0.3333333333333333,
              "#9c179e"
             ],
             [
              0.4444444444444444,
              "#bd3786"
             ],
             [
              0.5555555555555556,
              "#d8576b"
             ],
             [
              0.6666666666666666,
              "#ed7953"
             ],
             [
              0.7777777777777778,
              "#fb9f3a"
             ],
             [
              0.8888888888888888,
              "#fdca26"
             ],
             [
              1,
              "#f0f921"
             ]
            ],
            "type": "heatmapgl"
           }
          ],
          "histogram": [
           {
            "marker": {
             "pattern": {
              "fillmode": "overlay",
              "size": 10,
              "solidity": 0.2
             }
            },
            "type": "histogram"
           }
          ],
          "histogram2d": [
           {
            "colorbar": {
             "outlinewidth": 0,
             "ticks": ""
            },
            "colorscale": [
             [
              0,
              "#0d0887"
             ],
             [
              0.1111111111111111,
              "#46039f"
             ],
             [
              0.2222222222222222,
              "#7201a8"
             ],
             [
              0.3333333333333333,
              "#9c179e"
             ],
             [
              0.4444444444444444,
              "#bd3786"
             ],
             [
              0.5555555555555556,
              "#d8576b"
             ],
             [
              0.6666666666666666,
              "#ed7953"
             ],
             [
              0.7777777777777778,
              "#fb9f3a"
             ],
             [
              0.8888888888888888,
              "#fdca26"
             ],
             [
              1,
              "#f0f921"
             ]
            ],
            "type": "histogram2d"
           }
          ],
          "histogram2dcontour": [
           {
            "colorbar": {
             "outlinewidth": 0,
             "ticks": ""
            },
            "colorscale": [
             [
              0,
              "#0d0887"
             ],
             [
              0.1111111111111111,
              "#46039f"
             ],
             [
              0.2222222222222222,
              "#7201a8"
             ],
             [
              0.3333333333333333,
              "#9c179e"
             ],
             [
              0.4444444444444444,
              "#bd3786"
             ],
             [
              0.5555555555555556,
              "#d8576b"
             ],
             [
              0.6666666666666666,
              "#ed7953"
             ],
             [
              0.7777777777777778,
              "#fb9f3a"
             ],
             [
              0.8888888888888888,
              "#fdca26"
             ],
             [
              1,
              "#f0f921"
             ]
            ],
            "type": "histogram2dcontour"
           }
          ],
          "mesh3d": [
           {
            "colorbar": {
             "outlinewidth": 0,
             "ticks": ""
            },
            "type": "mesh3d"
           }
          ],
          "parcoords": [
           {
            "line": {
             "colorbar": {
              "outlinewidth": 0,
              "ticks": ""
             }
            },
            "type": "parcoords"
           }
          ],
          "pie": [
           {
            "automargin": true,
            "type": "pie"
           }
          ],
          "scatter": [
           {
            "marker": {
             "colorbar": {
              "outlinewidth": 0,
              "ticks": ""
             }
            },
            "type": "scatter"
           }
          ],
          "scatter3d": [
           {
            "line": {
             "colorbar": {
              "outlinewidth": 0,
              "ticks": ""
             }
            },
            "marker": {
             "colorbar": {
              "outlinewidth": 0,
              "ticks": ""
             }
            },
            "type": "scatter3d"
           }
          ],
          "scattercarpet": [
           {
            "marker": {
             "colorbar": {
              "outlinewidth": 0,
              "ticks": ""
             }
            },
            "type": "scattercarpet"
           }
          ],
          "scattergeo": [
           {
            "marker": {
             "colorbar": {
              "outlinewidth": 0,
              "ticks": ""
             }
            },
            "type": "scattergeo"
           }
          ],
          "scattergl": [
           {
            "marker": {
             "colorbar": {
              "outlinewidth": 0,
              "ticks": ""
             }
            },
            "type": "scattergl"
           }
          ],
          "scattermapbox": [
           {
            "marker": {
             "colorbar": {
              "outlinewidth": 0,
              "ticks": ""
             }
            },
            "type": "scattermapbox"
           }
          ],
          "scatterpolar": [
           {
            "marker": {
             "colorbar": {
              "outlinewidth": 0,
              "ticks": ""
             }
            },
            "type": "scatterpolar"
           }
          ],
          "scatterpolargl": [
           {
            "marker": {
             "colorbar": {
              "outlinewidth": 0,
              "ticks": ""
             }
            },
            "type": "scatterpolargl"
           }
          ],
          "scatterternary": [
           {
            "marker": {
             "colorbar": {
              "outlinewidth": 0,
              "ticks": ""
             }
            },
            "type": "scatterternary"
           }
          ],
          "surface": [
           {
            "colorbar": {
             "outlinewidth": 0,
             "ticks": ""
            },
            "colorscale": [
             [
              0,
              "#0d0887"
             ],
             [
              0.1111111111111111,
              "#46039f"
             ],
             [
              0.2222222222222222,
              "#7201a8"
             ],
             [
              0.3333333333333333,
              "#9c179e"
             ],
             [
              0.4444444444444444,
              "#bd3786"
             ],
             [
              0.5555555555555556,
              "#d8576b"
             ],
             [
              0.6666666666666666,
              "#ed7953"
             ],
             [
              0.7777777777777778,
              "#fb9f3a"
             ],
             [
              0.8888888888888888,
              "#fdca26"
             ],
             [
              1,
              "#f0f921"
             ]
            ],
            "type": "surface"
           }
          ],
          "table": [
           {
            "cells": {
             "fill": {
              "color": "#EBF0F8"
             },
             "line": {
              "color": "white"
             }
            },
            "header": {
             "fill": {
              "color": "#C8D4E3"
             },
             "line": {
              "color": "white"
             }
            },
            "type": "table"
           }
          ]
         },
         "layout": {
          "annotationdefaults": {
           "arrowcolor": "#2a3f5f",
           "arrowhead": 0,
           "arrowwidth": 1
          },
          "autotypenumbers": "strict",
          "coloraxis": {
           "colorbar": {
            "outlinewidth": 0,
            "ticks": ""
           }
          },
          "colorscale": {
           "diverging": [
            [
             0,
             "#8e0152"
            ],
            [
             0.1,
             "#c51b7d"
            ],
            [
             0.2,
             "#de77ae"
            ],
            [
             0.3,
             "#f1b6da"
            ],
            [
             0.4,
             "#fde0ef"
            ],
            [
             0.5,
             "#f7f7f7"
            ],
            [
             0.6,
             "#e6f5d0"
            ],
            [
             0.7,
             "#b8e186"
            ],
            [
             0.8,
             "#7fbc41"
            ],
            [
             0.9,
             "#4d9221"
            ],
            [
             1,
             "#276419"
            ]
           ],
           "sequential": [
            [
             0,
             "#0d0887"
            ],
            [
             0.1111111111111111,
             "#46039f"
            ],
            [
             0.2222222222222222,
             "#7201a8"
            ],
            [
             0.3333333333333333,
             "#9c179e"
            ],
            [
             0.4444444444444444,
             "#bd3786"
            ],
            [
             0.5555555555555556,
             "#d8576b"
            ],
            [
             0.6666666666666666,
             "#ed7953"
            ],
            [
             0.7777777777777778,
             "#fb9f3a"
            ],
            [
             0.8888888888888888,
             "#fdca26"
            ],
            [
             1,
             "#f0f921"
            ]
           ],
           "sequentialminus": [
            [
             0,
             "#0d0887"
            ],
            [
             0.1111111111111111,
             "#46039f"
            ],
            [
             0.2222222222222222,
             "#7201a8"
            ],
            [
             0.3333333333333333,
             "#9c179e"
            ],
            [
             0.4444444444444444,
             "#bd3786"
            ],
            [
             0.5555555555555556,
             "#d8576b"
            ],
            [
             0.6666666666666666,
             "#ed7953"
            ],
            [
             0.7777777777777778,
             "#fb9f3a"
            ],
            [
             0.8888888888888888,
             "#fdca26"
            ],
            [
             1,
             "#f0f921"
            ]
           ]
          },
          "colorway": [
           "#636efa",
           "#EF553B",
           "#00cc96",
           "#ab63fa",
           "#FFA15A",
           "#19d3f3",
           "#FF6692",
           "#B6E880",
           "#FF97FF",
           "#FECB52"
          ],
          "font": {
           "color": "#2a3f5f"
          },
          "geo": {
           "bgcolor": "white",
           "lakecolor": "white",
           "landcolor": "#E5ECF6",
           "showlakes": true,
           "showland": true,
           "subunitcolor": "white"
          },
          "hoverlabel": {
           "align": "left"
          },
          "hovermode": "closest",
          "mapbox": {
           "style": "light"
          },
          "paper_bgcolor": "white",
          "plot_bgcolor": "#E5ECF6",
          "polar": {
           "angularaxis": {
            "gridcolor": "white",
            "linecolor": "white",
            "ticks": ""
           },
           "bgcolor": "#E5ECF6",
           "radialaxis": {
            "gridcolor": "white",
            "linecolor": "white",
            "ticks": ""
           }
          },
          "scene": {
           "xaxis": {
            "backgroundcolor": "#E5ECF6",
            "gridcolor": "white",
            "gridwidth": 2,
            "linecolor": "white",
            "showbackground": true,
            "ticks": "",
            "zerolinecolor": "white"
           },
           "yaxis": {
            "backgroundcolor": "#E5ECF6",
            "gridcolor": "white",
            "gridwidth": 2,
            "linecolor": "white",
            "showbackground": true,
            "ticks": "",
            "zerolinecolor": "white"
           },
           "zaxis": {
            "backgroundcolor": "#E5ECF6",
            "gridcolor": "white",
            "gridwidth": 2,
            "linecolor": "white",
            "showbackground": true,
            "ticks": "",
            "zerolinecolor": "white"
           }
          },
          "shapedefaults": {
           "line": {
            "color": "#2a3f5f"
           }
          },
          "ternary": {
           "aaxis": {
            "gridcolor": "white",
            "linecolor": "white",
            "ticks": ""
           },
           "baxis": {
            "gridcolor": "white",
            "linecolor": "white",
            "ticks": ""
           },
           "bgcolor": "#E5ECF6",
           "caxis": {
            "gridcolor": "white",
            "linecolor": "white",
            "ticks": ""
           }
          },
          "title": {
           "x": 0.05
          },
          "xaxis": {
           "automargin": true,
           "gridcolor": "white",
           "linecolor": "white",
           "ticks": "",
           "title": {
            "standoff": 15
           },
           "zerolinecolor": "white",
           "zerolinewidth": 2
          },
          "yaxis": {
           "automargin": true,
           "gridcolor": "white",
           "linecolor": "white",
           "ticks": "",
           "title": {
            "standoff": 15
           },
           "zerolinecolor": "white",
           "zerolinewidth": 2
          }
         }
        },
        "title": {
         "text": "R1 Structures: Frequency and Impact on Score Relative to All Factions Average (153.41): baltaks"
        }
       }
      },
      "text/html": [
       "<div>                            <div id=\"15ae8075-a87c-4bc5-9732-5e97291c94a1\" class=\"plotly-graph-div\" style=\"height:525px; width:100%;\"></div>            <script type=\"text/javascript\">                require([\"plotly\"], function(Plotly) {                    window.PLOTLYENV=window.PLOTLYENV || {};                                    if (document.getElementById(\"15ae8075-a87c-4bc5-9732-5e97291c94a1\")) {                    Plotly.newPlot(                        \"15ae8075-a87c-4bc5-9732-5e97291c94a1\",                        [{\"branchvalues\":\"total\",\"customdata\":[[227.33333333333334,146.5],[257.0,171.0],[108.0,136.0],[179.53846153846155,144.15384615384616],[210.95081967213116,151.0983606557377],[239.7608695652174,153.22608695652173],[184.5,142.80555555555554],[310.8333333333333,166.5],[176.525,143.925],[197.04166666666666,149.97916666666666],[268.8979591836735,156.24489795918367],[225.4590747330961,152.24199288256227],[220.83333333333334,148.73333333333332],[238.33333333333334,135.0],[175.0,150.0],[434.0,154.0],[213.6014492753623,148.84782608695653],[241.36363636363637,156.9318181818182],[172.0,135.0],[42.0,140.0],[262.0,130.0],[108.0,136.0],[\"(?)\",154.1787878787879],[\"(?)\",150.6],[\"(?)\",150.25198098256735],[42.0,140.0],[\"(?)\",135.0],[\"(?)\",151.4113277623027]],\"domain\":{\"x\":[0.0,1.0],\"y\":[0.0,1.0]},\"hovertemplate\":\"labels=%{label}<br>class_counts=%{value}<br>parent=%{parent}<br>id=%{id}<br>ave_elo_baltaks=%{customdata[0]}<br>ave_score_baltaks=%{color}<extra></extra>\",\"ids\":[\"R1 Structures: Frequency and Overall Score for baltaks/lab/ 0-m_0-ts_2-lab_0-pi_0-ac1_0-ac2\",\"R1 Structures: Frequency and Overall Score for baltaks/ac1/ 0-m_1-ts_0-lab_0-pi_1-ac1_0-ac2\",\"R1 Structures: Frequency and Overall Score for baltaks/PI/ 0-m_1-ts_0-lab_1-pi_0-ac1_0-ac2\",\"R1 Structures: Frequency and Overall Score for baltaks/lab/ 0-m_1-ts_1-lab_0-pi_0-ac1_0-ac2\",\"R1 Structures: Frequency and Overall Score for baltaks/ac2/ 1-m_0-ts_0-lab_0-pi_0-ac1_1-ac2\",\"R1 Structures: Frequency and Overall Score for baltaks/ac1/ 1-m_0-ts_0-lab_0-pi_1-ac1_0-ac2\",\"R1 Structures: Frequency and Overall Score for baltaks/lab/ 1-m_0-ts_1-lab_0-pi_0-ac1_0-ac2\",\"R1 Structures: Frequency and Overall Score for baltaks/lab/ 1-m_0-ts_2-lab_0-pi_0-ac1_0-ac2\",\"R1 Structures: Frequency and Overall Score for baltaks/lab/ 1-m_1-ts_1-lab_0-pi_0-ac1_0-ac2\",\"R1 Structures: Frequency and Overall Score for baltaks/ac2/ 2-m_0-ts_0-lab_0-pi_0-ac1_1-ac2\",\"R1 Structures: Frequency and Overall Score for baltaks/ac1/ 2-m_0-ts_0-lab_0-pi_1-ac1_0-ac2\",\"R1 Structures: Frequency and Overall Score for baltaks/lab/ 2-m_0-ts_1-lab_0-pi_0-ac1_0-ac2\",\"R1 Structures: Frequency and Overall Score for baltaks/lab/ 2-m_1-ts_1-lab_0-pi_0-ac1_0-ac2\",\"R1 Structures: Frequency and Overall Score for baltaks/ts/ 2-m_2-ts_0-lab_0-pi_0-ac1_0-ac2\",\"R1 Structures: Frequency and Overall Score for baltaks/ac2/ 3-m_0-ts_0-lab_0-pi_0-ac1_1-ac2\",\"R1 Structures: Frequency and Overall Score for baltaks/ac1/ 3-m_0-ts_0-lab_0-pi_1-ac1_0-ac2\",\"R1 Structures: Frequency and Overall Score for baltaks/lab/ 3-m_0-ts_1-lab_0-pi_0-ac1_0-ac2\",\"R1 Structures: Frequency and Overall Score for baltaks/lab/ 4-m_0-ts_1-lab_0-pi_0-ac1_0-ac2\",\"R1 Structures: Frequency and Overall Score for baltaks/ts/ 4-m_1-ts_0-lab_0-pi_0-ac1_0-ac2\",\"R1 Structures: Frequency and Overall Score for baltaks/m/ 5-m_0-ts_0-lab_0-pi_0-ac1_0-ac2\",\"R1 Structures: Frequency and Overall Score for baltaks/lab/ 5-m_0-ts_1-lab_0-pi_0-ac1_0-ac2\",\"R1 Structures: Frequency and Overall Score for baltaks/PI\",\"R1 Structures: Frequency and Overall Score for baltaks/ac1\",\"R1 Structures: Frequency and Overall Score for baltaks/ac2\",\"R1 Structures: Frequency and Overall Score for baltaks/lab\",\"R1 Structures: Frequency and Overall Score for baltaks/m\",\"R1 Structures: Frequency and Overall Score for baltaks/ts\",\"R1 Structures: Frequency and Overall Score for baltaks\"],\"labels\":[\" 0-m_0-ts_2-lab_0-pi_0-ac1_0-ac2\",\" 0-m_1-ts_0-lab_0-pi_1-ac1_0-ac2\",\" 0-m_1-ts_0-lab_1-pi_0-ac1_0-ac2\",\" 0-m_1-ts_1-lab_0-pi_0-ac1_0-ac2\",\" 1-m_0-ts_0-lab_0-pi_0-ac1_1-ac2\",\" 1-m_0-ts_0-lab_0-pi_1-ac1_0-ac2\",\" 1-m_0-ts_1-lab_0-pi_0-ac1_0-ac2\",\" 1-m_0-ts_2-lab_0-pi_0-ac1_0-ac2\",\" 1-m_1-ts_1-lab_0-pi_0-ac1_0-ac2\",\" 2-m_0-ts_0-lab_0-pi_0-ac1_1-ac2\",\" 2-m_0-ts_0-lab_0-pi_1-ac1_0-ac2\",\" 2-m_0-ts_1-lab_0-pi_0-ac1_0-ac2\",\" 2-m_1-ts_1-lab_0-pi_0-ac1_0-ac2\",\" 2-m_2-ts_0-lab_0-pi_0-ac1_0-ac2\",\" 3-m_0-ts_0-lab_0-pi_0-ac1_1-ac2\",\" 3-m_0-ts_0-lab_0-pi_1-ac1_0-ac2\",\" 3-m_0-ts_1-lab_0-pi_0-ac1_0-ac2\",\" 4-m_0-ts_1-lab_0-pi_0-ac1_0-ac2\",\" 4-m_1-ts_0-lab_0-pi_0-ac1_0-ac2\",\" 5-m_0-ts_0-lab_0-pi_0-ac1_0-ac2\",\" 5-m_0-ts_1-lab_0-pi_0-ac1_0-ac2\",\"PI\",\"ac1\",\"ac2\",\"lab\",\"m\",\"ts\",\"R1 Structures: Frequency and Overall Score for baltaks\"],\"marker\":{\"coloraxis\":\"coloraxis\",\"colors\":[146.5,171.0,136.0,144.15384615384616,151.0983606557377,153.22608695652173,142.80555555555554,166.5,143.925,149.97916666666666,156.24489795918367,152.24199288256227,148.73333333333332,135.0,150.0,154.0,148.84782608695653,156.9318181818182,135.0,140.0,130.0,136.0,154.1787878787879,150.6,150.25198098256735,140.0,135.0,151.4113277623027]},\"name\":\"\",\"parents\":[\"R1 Structures: Frequency and Overall Score for baltaks/lab\",\"R1 Structures: Frequency and Overall Score for baltaks/ac1\",\"R1 Structures: Frequency and Overall Score for baltaks/PI\",\"R1 Structures: Frequency and Overall Score for baltaks/lab\",\"R1 Structures: Frequency and Overall Score for baltaks/ac2\",\"R1 Structures: Frequency and Overall Score for baltaks/ac1\",\"R1 Structures: Frequency and Overall Score for baltaks/lab\",\"R1 Structures: Frequency and Overall Score for baltaks/lab\",\"R1 Structures: Frequency and Overall Score for baltaks/lab\",\"R1 Structures: Frequency and Overall Score for baltaks/ac2\",\"R1 Structures: Frequency and Overall Score for baltaks/ac1\",\"R1 Structures: Frequency and Overall Score for baltaks/lab\",\"R1 Structures: Frequency and Overall Score for baltaks/lab\",\"R1 Structures: Frequency and Overall Score for baltaks/ts\",\"R1 Structures: Frequency and Overall Score for baltaks/ac2\",\"R1 Structures: Frequency and Overall Score for baltaks/ac1\",\"R1 Structures: Frequency and Overall Score for baltaks/lab\",\"R1 Structures: Frequency and Overall Score for baltaks/lab\",\"R1 Structures: Frequency and Overall Score for baltaks/ts\",\"R1 Structures: Frequency and Overall Score for baltaks/m\",\"R1 Structures: Frequency and Overall Score for baltaks/lab\",\"R1 Structures: Frequency and Overall Score for baltaks\",\"R1 Structures: Frequency and Overall Score for baltaks\",\"R1 Structures: Frequency and Overall Score for baltaks\",\"R1 Structures: Frequency and Overall Score for baltaks\",\"R1 Structures: Frequency and Overall Score for baltaks\",\"R1 Structures: Frequency and Overall Score for baltaks\",\"\"],\"values\":[12,1,1,13,61,230,36,6,40,48,98,281,60,3,1,1,138,44,1,1,1,1,330,110,631,1,4,1077],\"type\":\"treemap\"}],                        {\"template\":{\"data\":{\"bar\":[{\"error_x\":{\"color\":\"#2a3f5f\"},\"error_y\":{\"color\":\"#2a3f5f\"},\"marker\":{\"line\":{\"color\":\"#E5ECF6\",\"width\":0.5},\"pattern\":{\"fillmode\":\"overlay\",\"size\":10,\"solidity\":0.2}},\"type\":\"bar\"}],\"barpolar\":[{\"marker\":{\"line\":{\"color\":\"#E5ECF6\",\"width\":0.5},\"pattern\":{\"fillmode\":\"overlay\",\"size\":10,\"solidity\":0.2}},\"type\":\"barpolar\"}],\"carpet\":[{\"aaxis\":{\"endlinecolor\":\"#2a3f5f\",\"gridcolor\":\"white\",\"linecolor\":\"white\",\"minorgridcolor\":\"white\",\"startlinecolor\":\"#2a3f5f\"},\"baxis\":{\"endlinecolor\":\"#2a3f5f\",\"gridcolor\":\"white\",\"linecolor\":\"white\",\"minorgridcolor\":\"white\",\"startlinecolor\":\"#2a3f5f\"},\"type\":\"carpet\"}],\"choropleth\":[{\"colorbar\":{\"outlinewidth\":0,\"ticks\":\"\"},\"type\":\"choropleth\"}],\"contour\":[{\"colorbar\":{\"outlinewidth\":0,\"ticks\":\"\"},\"colorscale\":[[0.0,\"#0d0887\"],[0.1111111111111111,\"#46039f\"],[0.2222222222222222,\"#7201a8\"],[0.3333333333333333,\"#9c179e\"],[0.4444444444444444,\"#bd3786\"],[0.5555555555555556,\"#d8576b\"],[0.6666666666666666,\"#ed7953\"],[0.7777777777777778,\"#fb9f3a\"],[0.8888888888888888,\"#fdca26\"],[1.0,\"#f0f921\"]],\"type\":\"contour\"}],\"contourcarpet\":[{\"colorbar\":{\"outlinewidth\":0,\"ticks\":\"\"},\"type\":\"contourcarpet\"}],\"heatmap\":[{\"colorbar\":{\"outlinewidth\":0,\"ticks\":\"\"},\"colorscale\":[[0.0,\"#0d0887\"],[0.1111111111111111,\"#46039f\"],[0.2222222222222222,\"#7201a8\"],[0.3333333333333333,\"#9c179e\"],[0.4444444444444444,\"#bd3786\"],[0.5555555555555556,\"#d8576b\"],[0.6666666666666666,\"#ed7953\"],[0.7777777777777778,\"#fb9f3a\"],[0.8888888888888888,\"#fdca26\"],[1.0,\"#f0f921\"]],\"type\":\"heatmap\"}],\"heatmapgl\":[{\"colorbar\":{\"outlinewidth\":0,\"ticks\":\"\"},\"colorscale\":[[0.0,\"#0d0887\"],[0.1111111111111111,\"#46039f\"],[0.2222222222222222,\"#7201a8\"],[0.3333333333333333,\"#9c179e\"],[0.4444444444444444,\"#bd3786\"],[0.5555555555555556,\"#d8576b\"],[0.6666666666666666,\"#ed7953\"],[0.7777777777777778,\"#fb9f3a\"],[0.8888888888888888,\"#fdca26\"],[1.0,\"#f0f921\"]],\"type\":\"heatmapgl\"}],\"histogram\":[{\"marker\":{\"pattern\":{\"fillmode\":\"overlay\",\"size\":10,\"solidity\":0.2}},\"type\":\"histogram\"}],\"histogram2d\":[{\"colorbar\":{\"outlinewidth\":0,\"ticks\":\"\"},\"colorscale\":[[0.0,\"#0d0887\"],[0.1111111111111111,\"#46039f\"],[0.2222222222222222,\"#7201a8\"],[0.3333333333333333,\"#9c179e\"],[0.4444444444444444,\"#bd3786\"],[0.5555555555555556,\"#d8576b\"],[0.6666666666666666,\"#ed7953\"],[0.7777777777777778,\"#fb9f3a\"],[0.8888888888888888,\"#fdca26\"],[1.0,\"#f0f921\"]],\"type\":\"histogram2d\"}],\"histogram2dcontour\":[{\"colorbar\":{\"outlinewidth\":0,\"ticks\":\"\"},\"colorscale\":[[0.0,\"#0d0887\"],[0.1111111111111111,\"#46039f\"],[0.2222222222222222,\"#7201a8\"],[0.3333333333333333,\"#9c179e\"],[0.4444444444444444,\"#bd3786\"],[0.5555555555555556,\"#d8576b\"],[0.6666666666666666,\"#ed7953\"],[0.7777777777777778,\"#fb9f3a\"],[0.8888888888888888,\"#fdca26\"],[1.0,\"#f0f921\"]],\"type\":\"histogram2dcontour\"}],\"mesh3d\":[{\"colorbar\":{\"outlinewidth\":0,\"ticks\":\"\"},\"type\":\"mesh3d\"}],\"parcoords\":[{\"line\":{\"colorbar\":{\"outlinewidth\":0,\"ticks\":\"\"}},\"type\":\"parcoords\"}],\"pie\":[{\"automargin\":true,\"type\":\"pie\"}],\"scatter\":[{\"marker\":{\"colorbar\":{\"outlinewidth\":0,\"ticks\":\"\"}},\"type\":\"scatter\"}],\"scatter3d\":[{\"line\":{\"colorbar\":{\"outlinewidth\":0,\"ticks\":\"\"}},\"marker\":{\"colorbar\":{\"outlinewidth\":0,\"ticks\":\"\"}},\"type\":\"scatter3d\"}],\"scattercarpet\":[{\"marker\":{\"colorbar\":{\"outlinewidth\":0,\"ticks\":\"\"}},\"type\":\"scattercarpet\"}],\"scattergeo\":[{\"marker\":{\"colorbar\":{\"outlinewidth\":0,\"ticks\":\"\"}},\"type\":\"scattergeo\"}],\"scattergl\":[{\"marker\":{\"colorbar\":{\"outlinewidth\":0,\"ticks\":\"\"}},\"type\":\"scattergl\"}],\"scattermapbox\":[{\"marker\":{\"colorbar\":{\"outlinewidth\":0,\"ticks\":\"\"}},\"type\":\"scattermapbox\"}],\"scatterpolar\":[{\"marker\":{\"colorbar\":{\"outlinewidth\":0,\"ticks\":\"\"}},\"type\":\"scatterpolar\"}],\"scatterpolargl\":[{\"marker\":{\"colorbar\":{\"outlinewidth\":0,\"ticks\":\"\"}},\"type\":\"scatterpolargl\"}],\"scatterternary\":[{\"marker\":{\"colorbar\":{\"outlinewidth\":0,\"ticks\":\"\"}},\"type\":\"scatterternary\"}],\"surface\":[{\"colorbar\":{\"outlinewidth\":0,\"ticks\":\"\"},\"colorscale\":[[0.0,\"#0d0887\"],[0.1111111111111111,\"#46039f\"],[0.2222222222222222,\"#7201a8\"],[0.3333333333333333,\"#9c179e\"],[0.4444444444444444,\"#bd3786\"],[0.5555555555555556,\"#d8576b\"],[0.6666666666666666,\"#ed7953\"],[0.7777777777777778,\"#fb9f3a\"],[0.8888888888888888,\"#fdca26\"],[1.0,\"#f0f921\"]],\"type\":\"surface\"}],\"table\":[{\"cells\":{\"fill\":{\"color\":\"#EBF0F8\"},\"line\":{\"color\":\"white\"}},\"header\":{\"fill\":{\"color\":\"#C8D4E3\"},\"line\":{\"color\":\"white\"}},\"type\":\"table\"}]},\"layout\":{\"annotationdefaults\":{\"arrowcolor\":\"#2a3f5f\",\"arrowhead\":0,\"arrowwidth\":1},\"autotypenumbers\":\"strict\",\"coloraxis\":{\"colorbar\":{\"outlinewidth\":0,\"ticks\":\"\"}},\"colorscale\":{\"diverging\":[[0,\"#8e0152\"],[0.1,\"#c51b7d\"],[0.2,\"#de77ae\"],[0.3,\"#f1b6da\"],[0.4,\"#fde0ef\"],[0.5,\"#f7f7f7\"],[0.6,\"#e6f5d0\"],[0.7,\"#b8e186\"],[0.8,\"#7fbc41\"],[0.9,\"#4d9221\"],[1,\"#276419\"]],\"sequential\":[[0.0,\"#0d0887\"],[0.1111111111111111,\"#46039f\"],[0.2222222222222222,\"#7201a8\"],[0.3333333333333333,\"#9c179e\"],[0.4444444444444444,\"#bd3786\"],[0.5555555555555556,\"#d8576b\"],[0.6666666666666666,\"#ed7953\"],[0.7777777777777778,\"#fb9f3a\"],[0.8888888888888888,\"#fdca26\"],[1.0,\"#f0f921\"]],\"sequentialminus\":[[0.0,\"#0d0887\"],[0.1111111111111111,\"#46039f\"],[0.2222222222222222,\"#7201a8\"],[0.3333333333333333,\"#9c179e\"],[0.4444444444444444,\"#bd3786\"],[0.5555555555555556,\"#d8576b\"],[0.6666666666666666,\"#ed7953\"],[0.7777777777777778,\"#fb9f3a\"],[0.8888888888888888,\"#fdca26\"],[1.0,\"#f0f921\"]]},\"colorway\":[\"#636efa\",\"#EF553B\",\"#00cc96\",\"#ab63fa\",\"#FFA15A\",\"#19d3f3\",\"#FF6692\",\"#B6E880\",\"#FF97FF\",\"#FECB52\"],\"font\":{\"color\":\"#2a3f5f\"},\"geo\":{\"bgcolor\":\"white\",\"lakecolor\":\"white\",\"landcolor\":\"#E5ECF6\",\"showlakes\":true,\"showland\":true,\"subunitcolor\":\"white\"},\"hoverlabel\":{\"align\":\"left\"},\"hovermode\":\"closest\",\"mapbox\":{\"style\":\"light\"},\"paper_bgcolor\":\"white\",\"plot_bgcolor\":\"#E5ECF6\",\"polar\":{\"angularaxis\":{\"gridcolor\":\"white\",\"linecolor\":\"white\",\"ticks\":\"\"},\"bgcolor\":\"#E5ECF6\",\"radialaxis\":{\"gridcolor\":\"white\",\"linecolor\":\"white\",\"ticks\":\"\"}},\"scene\":{\"xaxis\":{\"backgroundcolor\":\"#E5ECF6\",\"gridcolor\":\"white\",\"gridwidth\":2,\"linecolor\":\"white\",\"showbackground\":true,\"ticks\":\"\",\"zerolinecolor\":\"white\"},\"yaxis\":{\"backgroundcolor\":\"#E5ECF6\",\"gridcolor\":\"white\",\"gridwidth\":2,\"linecolor\":\"white\",\"showbackground\":true,\"ticks\":\"\",\"zerolinecolor\":\"white\"},\"zaxis\":{\"backgroundcolor\":\"#E5ECF6\",\"gridcolor\":\"white\",\"gridwidth\":2,\"linecolor\":\"white\",\"showbackground\":true,\"ticks\":\"\",\"zerolinecolor\":\"white\"}},\"shapedefaults\":{\"line\":{\"color\":\"#2a3f5f\"}},\"ternary\":{\"aaxis\":{\"gridcolor\":\"white\",\"linecolor\":\"white\",\"ticks\":\"\"},\"baxis\":{\"gridcolor\":\"white\",\"linecolor\":\"white\",\"ticks\":\"\"},\"bgcolor\":\"#E5ECF6\",\"caxis\":{\"gridcolor\":\"white\",\"linecolor\":\"white\",\"ticks\":\"\"}},\"title\":{\"x\":0.05},\"xaxis\":{\"automargin\":true,\"gridcolor\":\"white\",\"linecolor\":\"white\",\"ticks\":\"\",\"title\":{\"standoff\":15},\"zerolinecolor\":\"white\",\"zerolinewidth\":2},\"yaxis\":{\"automargin\":true,\"gridcolor\":\"white\",\"linecolor\":\"white\",\"ticks\":\"\",\"title\":{\"standoff\":15},\"zerolinecolor\":\"white\",\"zerolinewidth\":2}}},\"coloraxis\":{\"colorbar\":{\"title\":{\"text\":\"ave_score_baltaks\"}},\"colorscale\":[[0.0,\"rgb(103,0,31)\"],[0.1,\"rgb(178,24,43)\"],[0.2,\"rgb(214,96,77)\"],[0.3,\"rgb(244,165,130)\"],[0.4,\"rgb(253,219,199)\"],[0.5,\"rgb(247,247,247)\"],[0.6,\"rgb(209,229,240)\"],[0.7,\"rgb(146,197,222)\"],[0.8,\"rgb(67,147,195)\"],[0.9,\"rgb(33,102,172)\"],[1.0,\"rgb(5,48,97)\"]],\"cmid\":153.409394703657},\"legend\":{\"tracegroupgap\":0},\"margin\":{\"t\":50,\"l\":25,\"r\":25,\"b\":25},\"title\":{\"text\":\"R1 Structures: Frequency and Impact on Score Relative to All Factions Average (153.41): baltaks\"}},                        {\"responsive\": true}                    ).then(function(){\n",
       "                            \n",
       "var gd = document.getElementById('15ae8075-a87c-4bc5-9732-5e97291c94a1');\n",
       "var x = new MutationObserver(function (mutations, observer) {{\n",
       "        var display = window.getComputedStyle(gd).display;\n",
       "        if (!display || display === 'none') {{\n",
       "            console.log([gd, 'removed!']);\n",
       "            Plotly.purge(gd);\n",
       "            observer.disconnect();\n",
       "        }}\n",
       "}});\n",
       "\n",
       "// Listen for the removal of the full notebook cells\n",
       "var notebookContainer = gd.closest('#notebook-container');\n",
       "if (notebookContainer) {{\n",
       "    x.observe(notebookContainer, {childList: true});\n",
       "}}\n",
       "\n",
       "// Listen for the clearing of the current output cell\n",
       "var outputEl = gd.closest('.output');\n",
       "if (outputEl) {{\n",
       "    x.observe(outputEl, {childList: true});\n",
       "}}\n",
       "\n",
       "                        })                };                });            </script>        </div>"
      ]
     },
     "metadata": {},
     "output_type": "display_data"
    },
    {
     "data": {
      "application/vnd.plotly.v1+json": {
       "config": {
        "plotlyServerURL": "https://plot.ly"
       },
       "data": [
        {
         "branchvalues": "total",
         "customdata": [
          [
           192.453125,
           150.3125
          ],
          [
           149.57142857142858,
           151.57142857142858
          ],
          [
           172.60714285714286,
           149.96428571428572
          ],
          [
           128,
           141
          ],
          [
           205,
           142
          ],
          [
           235,
           155.75
          ],
          [
           252.29166666666666,
           158.4375
          ],
          [
           174.3909090909091,
           145.75454545454545
          ],
          [
           229.58333333333334,
           156.25
          ],
          [
           222,
           156.5681818181818
          ],
          [
           193.20454545454547,
           147.75
          ],
          [
           318,
           194
          ],
          [
           245.91176470588235,
           153.23529411764707
          ],
          [
           224.7504215851602,
           155.6441821247892
          ],
          [
           205.57792207792207,
           149.35064935064935
          ],
          [
           331,
           185
          ],
          [
           232.05882352941177,
           159.05882352941177
          ],
          [
           233.08695652173913,
           158.58695652173913
          ],
          [
           244,
           145.5
          ],
          [
           191.58139534883722,
           159.25581395348837
          ],
          [
           194.51190476190476,
           149.07142857142858
          ],
          [
           294,
           163
          ],
          [
           0,
           144.5
          ],
          [
           178,
           155.5
          ],
          [
           245.09803921568627,
           160.97058823529412
          ],
          [
           241.92857142857142,
           166.28571428571428
          ],
          [
           "(?)",
           154.1905805038335
          ],
          [
           "(?)",
           157.07692307692307
          ],
          [
           "(?)",
           163.4
          ],
          [
           "(?)",
           153.776
          ],
          [
           0,
           144.5
          ],
          [
           "(?)",
           154.5
          ],
          [
           "(?)",
           154.3166023166023
          ]
         ],
         "domain": {
          "x": [
           0,
           1
          ],
          "y": [
           0,
           1
          ]
         },
         "hovertemplate": "labels=%{label}<br>class_counts=%{value}<br>parent=%{parent}<br>id=%{id}<br>ave_elo_terrans=%{customdata[0]}<br>ave_score_terrans=%{color}<extra></extra>",
         "ids": [
          "R1 Structures: Frequency and Overall Score for terrans/PI/ 0-m_0-ts_1-lab_1-pi_0-ac1_0-ac2",
          "R1 Structures: Frequency and Overall Score for terrans/lab/ 0-m_0-ts_2-lab_0-pi_0-ac1_0-ac2",
          "R1 Structures: Frequency and Overall Score for terrans/PI/ 0-m_1-ts_0-lab_1-pi_0-ac1_0-ac2",
          "R1 Structures: Frequency and Overall Score for terrans/lab/ 0-m_2-ts_1-lab_0-pi_0-ac1_0-ac2",
          "R1 Structures: Frequency and Overall Score for terrans/ts/ 0-m_3-ts_0-lab_0-pi_0-ac1_0-ac2",
          "R1 Structures: Frequency and Overall Score for terrans/ac2/ 1-m_0-ts_0-lab_0-pi_0-ac1_1-ac2",
          "R1 Structures: Frequency and Overall Score for terrans/ac1/ 1-m_0-ts_0-lab_0-pi_1-ac1_0-ac2",
          "R1 Structures: Frequency and Overall Score for terrans/PI/ 1-m_0-ts_0-lab_1-pi_0-ac1_0-ac2",
          "R1 Structures: Frequency and Overall Score for terrans/PI/ 1-m_0-ts_1-lab_1-pi_0-ac1_0-ac2",
          "R1 Structures: Frequency and Overall Score for terrans/PI/ 1-m_1-ts_0-lab_1-pi_0-ac1_0-ac2",
          "R1 Structures: Frequency and Overall Score for terrans/lab/ 1-m_1-ts_1-lab_0-pi_0-ac1_0-ac2",
          "R1 Structures: Frequency and Overall Score for terrans/ac2/ 2-m_0-ts_0-lab_0-pi_0-ac1_1-ac2",
          "R1 Structures: Frequency and Overall Score for terrans/ac1/ 2-m_0-ts_0-lab_0-pi_1-ac1_0-ac2",
          "R1 Structures: Frequency and Overall Score for terrans/PI/ 2-m_0-ts_0-lab_1-pi_0-ac1_0-ac2",
          "R1 Structures: Frequency and Overall Score for terrans/lab/ 2-m_0-ts_1-lab_0-pi_0-ac1_0-ac2",
          "R1 Structures: Frequency and Overall Score for terrans/ts/ 2-m_1-ts_0-lab_0-pi_0-ac1_0-ac2",
          "R1 Structures: Frequency and Overall Score for terrans/PI/ 2-m_1-ts_0-lab_1-pi_0-ac1_0-ac2",
          "R1 Structures: Frequency and Overall Score for terrans/lab/ 2-m_1-ts_1-lab_0-pi_0-ac1_0-ac2",
          "R1 Structures: Frequency and Overall Score for terrans/ts/ 2-m_2-ts_0-lab_0-pi_0-ac1_0-ac2",
          "R1 Structures: Frequency and Overall Score for terrans/PI/ 3-m_0-ts_0-lab_1-pi_0-ac1_0-ac2",
          "R1 Structures: Frequency and Overall Score for terrans/lab/ 3-m_0-ts_1-lab_0-pi_0-ac1_0-ac2",
          "R1 Structures: Frequency and Overall Score for terrans/lab/ 3-m_1-ts_1-lab_0-pi_0-ac1_0-ac2",
          "R1 Structures: Frequency and Overall Score for terrans/m/ 4-m_0-ts_0-lab_0-pi_0-ac1_0-ac2",
          "R1 Structures: Frequency and Overall Score for terrans/PI/ 4-m_0-ts_0-lab_1-pi_0-ac1_0-ac2",
          "R1 Structures: Frequency and Overall Score for terrans/lab/ 4-m_0-ts_1-lab_0-pi_0-ac1_0-ac2",
          "R1 Structures: Frequency and Overall Score for terrans/lab/ 5-m_0-ts_1-lab_0-pi_0-ac1_0-ac2",
          "R1 Structures: Frequency and Overall Score for terrans/PI",
          "R1 Structures: Frequency and Overall Score for terrans/ac1",
          "R1 Structures: Frequency and Overall Score for terrans/ac2",
          "R1 Structures: Frequency and Overall Score for terrans/lab",
          "R1 Structures: Frequency and Overall Score for terrans/m",
          "R1 Structures: Frequency and Overall Score for terrans/ts",
          "R1 Structures: Frequency and Overall Score for terrans"
         ],
         "labels": [
          " 0-m_0-ts_1-lab_1-pi_0-ac1_0-ac2",
          " 0-m_0-ts_2-lab_0-pi_0-ac1_0-ac2",
          " 0-m_1-ts_0-lab_1-pi_0-ac1_0-ac2",
          " 0-m_2-ts_1-lab_0-pi_0-ac1_0-ac2",
          " 0-m_3-ts_0-lab_0-pi_0-ac1_0-ac2",
          " 1-m_0-ts_0-lab_0-pi_0-ac1_1-ac2",
          " 1-m_0-ts_0-lab_0-pi_1-ac1_0-ac2",
          " 1-m_0-ts_0-lab_1-pi_0-ac1_0-ac2",
          " 1-m_0-ts_1-lab_1-pi_0-ac1_0-ac2",
          " 1-m_1-ts_0-lab_1-pi_0-ac1_0-ac2",
          " 1-m_1-ts_1-lab_0-pi_0-ac1_0-ac2",
          " 2-m_0-ts_0-lab_0-pi_0-ac1_1-ac2",
          " 2-m_0-ts_0-lab_0-pi_1-ac1_0-ac2",
          " 2-m_0-ts_0-lab_1-pi_0-ac1_0-ac2",
          " 2-m_0-ts_1-lab_0-pi_0-ac1_0-ac2",
          " 2-m_1-ts_0-lab_0-pi_0-ac1_0-ac2",
          " 2-m_1-ts_0-lab_1-pi_0-ac1_0-ac2",
          " 2-m_1-ts_1-lab_0-pi_0-ac1_0-ac2",
          " 2-m_2-ts_0-lab_0-pi_0-ac1_0-ac2",
          " 3-m_0-ts_0-lab_1-pi_0-ac1_0-ac2",
          " 3-m_0-ts_1-lab_0-pi_0-ac1_0-ac2",
          " 3-m_1-ts_1-lab_0-pi_0-ac1_0-ac2",
          " 4-m_0-ts_0-lab_0-pi_0-ac1_0-ac2",
          " 4-m_0-ts_0-lab_1-pi_0-ac1_0-ac2",
          " 4-m_0-ts_1-lab_0-pi_0-ac1_0-ac2",
          " 5-m_0-ts_1-lab_0-pi_0-ac1_0-ac2",
          "PI",
          "ac1",
          "ac2",
          "lab",
          "m",
          "ts",
          "R1 Structures: Frequency and Overall Score for terrans"
         ],
         "marker": {
          "coloraxis": "coloraxis",
          "colors": [
           150.3125,
           151.57142857142858,
           149.96428571428572,
           141,
           142,
           155.75,
           158.4375,
           145.75454545454545,
           156.25,
           156.5681818181818,
           147.75,
           194,
           153.23529411764707,
           155.6441821247892,
           149.35064935064935,
           185,
           159.05882352941177,
           158.58695652173913,
           145.5,
           159.25581395348837,
           149.07142857142858,
           163,
           144.5,
           155.5,
           160.97058823529412,
           166.28571428571428,
           154.1905805038335,
           157.07692307692307,
           163.4,
           153.776,
           144.5,
           154.5,
           154.3166023166023
          ]
         },
         "name": "",
         "parents": [
          "R1 Structures: Frequency and Overall Score for terrans/PI",
          "R1 Structures: Frequency and Overall Score for terrans/lab",
          "R1 Structures: Frequency and Overall Score for terrans/PI",
          "R1 Structures: Frequency and Overall Score for terrans/lab",
          "R1 Structures: Frequency and Overall Score for terrans/ts",
          "R1 Structures: Frequency and Overall Score for terrans/ac2",
          "R1 Structures: Frequency and Overall Score for terrans/ac1",
          "R1 Structures: Frequency and Overall Score for terrans/PI",
          "R1 Structures: Frequency and Overall Score for terrans/PI",
          "R1 Structures: Frequency and Overall Score for terrans/PI",
          "R1 Structures: Frequency and Overall Score for terrans/lab",
          "R1 Structures: Frequency and Overall Score for terrans/ac2",
          "R1 Structures: Frequency and Overall Score for terrans/ac1",
          "R1 Structures: Frequency and Overall Score for terrans/PI",
          "R1 Structures: Frequency and Overall Score for terrans/lab",
          "R1 Structures: Frequency and Overall Score for terrans/ts",
          "R1 Structures: Frequency and Overall Score for terrans/PI",
          "R1 Structures: Frequency and Overall Score for terrans/lab",
          "R1 Structures: Frequency and Overall Score for terrans/ts",
          "R1 Structures: Frequency and Overall Score for terrans/PI",
          "R1 Structures: Frequency and Overall Score for terrans/lab",
          "R1 Structures: Frequency and Overall Score for terrans/lab",
          "R1 Structures: Frequency and Overall Score for terrans/m",
          "R1 Structures: Frequency and Overall Score for terrans/PI",
          "R1 Structures: Frequency and Overall Score for terrans/lab",
          "R1 Structures: Frequency and Overall Score for terrans/lab",
          "R1 Structures: Frequency and Overall Score for terrans",
          "R1 Structures: Frequency and Overall Score for terrans",
          "R1 Structures: Frequency and Overall Score for terrans",
          "R1 Structures: Frequency and Overall Score for terrans",
          "R1 Structures: Frequency and Overall Score for terrans",
          "R1 Structures: Frequency and Overall Score for terrans",
          ""
         ],
         "type": "treemap",
         "values": [
          64,
          7,
          28,
          1,
          1,
          4,
          96,
          110,
          12,
          44,
          44,
          1,
          34,
          593,
          154,
          1,
          17,
          92,
          2,
          43,
          84,
          2,
          2,
          2,
          102,
          14,
          913,
          130,
          5,
          500,
          2,
          4,
          1554
         ]
        }
       ],
       "layout": {
        "coloraxis": {
         "cmid": 153.409394703657,
         "colorbar": {
          "title": {
           "text": "ave_score_terrans"
          }
         },
         "colorscale": [
          [
           0,
           "rgb(103,0,31)"
          ],
          [
           0.1,
           "rgb(178,24,43)"
          ],
          [
           0.2,
           "rgb(214,96,77)"
          ],
          [
           0.3,
           "rgb(244,165,130)"
          ],
          [
           0.4,
           "rgb(253,219,199)"
          ],
          [
           0.5,
           "rgb(247,247,247)"
          ],
          [
           0.6,
           "rgb(209,229,240)"
          ],
          [
           0.7,
           "rgb(146,197,222)"
          ],
          [
           0.8,
           "rgb(67,147,195)"
          ],
          [
           0.9,
           "rgb(33,102,172)"
          ],
          [
           1,
           "rgb(5,48,97)"
          ]
         ]
        },
        "legend": {
         "tracegroupgap": 0
        },
        "margin": {
         "b": 25,
         "l": 25,
         "r": 25,
         "t": 50
        },
        "template": {
         "data": {
          "bar": [
           {
            "error_x": {
             "color": "#2a3f5f"
            },
            "error_y": {
             "color": "#2a3f5f"
            },
            "marker": {
             "line": {
              "color": "#E5ECF6",
              "width": 0.5
             },
             "pattern": {
              "fillmode": "overlay",
              "size": 10,
              "solidity": 0.2
             }
            },
            "type": "bar"
           }
          ],
          "barpolar": [
           {
            "marker": {
             "line": {
              "color": "#E5ECF6",
              "width": 0.5
             },
             "pattern": {
              "fillmode": "overlay",
              "size": 10,
              "solidity": 0.2
             }
            },
            "type": "barpolar"
           }
          ],
          "carpet": [
           {
            "aaxis": {
             "endlinecolor": "#2a3f5f",
             "gridcolor": "white",
             "linecolor": "white",
             "minorgridcolor": "white",
             "startlinecolor": "#2a3f5f"
            },
            "baxis": {
             "endlinecolor": "#2a3f5f",
             "gridcolor": "white",
             "linecolor": "white",
             "minorgridcolor": "white",
             "startlinecolor": "#2a3f5f"
            },
            "type": "carpet"
           }
          ],
          "choropleth": [
           {
            "colorbar": {
             "outlinewidth": 0,
             "ticks": ""
            },
            "type": "choropleth"
           }
          ],
          "contour": [
           {
            "colorbar": {
             "outlinewidth": 0,
             "ticks": ""
            },
            "colorscale": [
             [
              0,
              "#0d0887"
             ],
             [
              0.1111111111111111,
              "#46039f"
             ],
             [
              0.2222222222222222,
              "#7201a8"
             ],
             [
              0.3333333333333333,
              "#9c179e"
             ],
             [
              0.4444444444444444,
              "#bd3786"
             ],
             [
              0.5555555555555556,
              "#d8576b"
             ],
             [
              0.6666666666666666,
              "#ed7953"
             ],
             [
              0.7777777777777778,
              "#fb9f3a"
             ],
             [
              0.8888888888888888,
              "#fdca26"
             ],
             [
              1,
              "#f0f921"
             ]
            ],
            "type": "contour"
           }
          ],
          "contourcarpet": [
           {
            "colorbar": {
             "outlinewidth": 0,
             "ticks": ""
            },
            "type": "contourcarpet"
           }
          ],
          "heatmap": [
           {
            "colorbar": {
             "outlinewidth": 0,
             "ticks": ""
            },
            "colorscale": [
             [
              0,
              "#0d0887"
             ],
             [
              0.1111111111111111,
              "#46039f"
             ],
             [
              0.2222222222222222,
              "#7201a8"
             ],
             [
              0.3333333333333333,
              "#9c179e"
             ],
             [
              0.4444444444444444,
              "#bd3786"
             ],
             [
              0.5555555555555556,
              "#d8576b"
             ],
             [
              0.6666666666666666,
              "#ed7953"
             ],
             [
              0.7777777777777778,
              "#fb9f3a"
             ],
             [
              0.8888888888888888,
              "#fdca26"
             ],
             [
              1,
              "#f0f921"
             ]
            ],
            "type": "heatmap"
           }
          ],
          "heatmapgl": [
           {
            "colorbar": {
             "outlinewidth": 0,
             "ticks": ""
            },
            "colorscale": [
             [
              0,
              "#0d0887"
             ],
             [
              0.1111111111111111,
              "#46039f"
             ],
             [
              0.2222222222222222,
              "#7201a8"
             ],
             [
              0.3333333333333333,
              "#9c179e"
             ],
             [
              0.4444444444444444,
              "#bd3786"
             ],
             [
              0.5555555555555556,
              "#d8576b"
             ],
             [
              0.6666666666666666,
              "#ed7953"
             ],
             [
              0.7777777777777778,
              "#fb9f3a"
             ],
             [
              0.8888888888888888,
              "#fdca26"
             ],
             [
              1,
              "#f0f921"
             ]
            ],
            "type": "heatmapgl"
           }
          ],
          "histogram": [
           {
            "marker": {
             "pattern": {
              "fillmode": "overlay",
              "size": 10,
              "solidity": 0.2
             }
            },
            "type": "histogram"
           }
          ],
          "histogram2d": [
           {
            "colorbar": {
             "outlinewidth": 0,
             "ticks": ""
            },
            "colorscale": [
             [
              0,
              "#0d0887"
             ],
             [
              0.1111111111111111,
              "#46039f"
             ],
             [
              0.2222222222222222,
              "#7201a8"
             ],
             [
              0.3333333333333333,
              "#9c179e"
             ],
             [
              0.4444444444444444,
              "#bd3786"
             ],
             [
              0.5555555555555556,
              "#d8576b"
             ],
             [
              0.6666666666666666,
              "#ed7953"
             ],
             [
              0.7777777777777778,
              "#fb9f3a"
             ],
             [
              0.8888888888888888,
              "#fdca26"
             ],
             [
              1,
              "#f0f921"
             ]
            ],
            "type": "histogram2d"
           }
          ],
          "histogram2dcontour": [
           {
            "colorbar": {
             "outlinewidth": 0,
             "ticks": ""
            },
            "colorscale": [
             [
              0,
              "#0d0887"
             ],
             [
              0.1111111111111111,
              "#46039f"
             ],
             [
              0.2222222222222222,
              "#7201a8"
             ],
             [
              0.3333333333333333,
              "#9c179e"
             ],
             [
              0.4444444444444444,
              "#bd3786"
             ],
             [
              0.5555555555555556,
              "#d8576b"
             ],
             [
              0.6666666666666666,
              "#ed7953"
             ],
             [
              0.7777777777777778,
              "#fb9f3a"
             ],
             [
              0.8888888888888888,
              "#fdca26"
             ],
             [
              1,
              "#f0f921"
             ]
            ],
            "type": "histogram2dcontour"
           }
          ],
          "mesh3d": [
           {
            "colorbar": {
             "outlinewidth": 0,
             "ticks": ""
            },
            "type": "mesh3d"
           }
          ],
          "parcoords": [
           {
            "line": {
             "colorbar": {
              "outlinewidth": 0,
              "ticks": ""
             }
            },
            "type": "parcoords"
           }
          ],
          "pie": [
           {
            "automargin": true,
            "type": "pie"
           }
          ],
          "scatter": [
           {
            "marker": {
             "colorbar": {
              "outlinewidth": 0,
              "ticks": ""
             }
            },
            "type": "scatter"
           }
          ],
          "scatter3d": [
           {
            "line": {
             "colorbar": {
              "outlinewidth": 0,
              "ticks": ""
             }
            },
            "marker": {
             "colorbar": {
              "outlinewidth": 0,
              "ticks": ""
             }
            },
            "type": "scatter3d"
           }
          ],
          "scattercarpet": [
           {
            "marker": {
             "colorbar": {
              "outlinewidth": 0,
              "ticks": ""
             }
            },
            "type": "scattercarpet"
           }
          ],
          "scattergeo": [
           {
            "marker": {
             "colorbar": {
              "outlinewidth": 0,
              "ticks": ""
             }
            },
            "type": "scattergeo"
           }
          ],
          "scattergl": [
           {
            "marker": {
             "colorbar": {
              "outlinewidth": 0,
              "ticks": ""
             }
            },
            "type": "scattergl"
           }
          ],
          "scattermapbox": [
           {
            "marker": {
             "colorbar": {
              "outlinewidth": 0,
              "ticks": ""
             }
            },
            "type": "scattermapbox"
           }
          ],
          "scatterpolar": [
           {
            "marker": {
             "colorbar": {
              "outlinewidth": 0,
              "ticks": ""
             }
            },
            "type": "scatterpolar"
           }
          ],
          "scatterpolargl": [
           {
            "marker": {
             "colorbar": {
              "outlinewidth": 0,
              "ticks": ""
             }
            },
            "type": "scatterpolargl"
           }
          ],
          "scatterternary": [
           {
            "marker": {
             "colorbar": {
              "outlinewidth": 0,
              "ticks": ""
             }
            },
            "type": "scatterternary"
           }
          ],
          "surface": [
           {
            "colorbar": {
             "outlinewidth": 0,
             "ticks": ""
            },
            "colorscale": [
             [
              0,
              "#0d0887"
             ],
             [
              0.1111111111111111,
              "#46039f"
             ],
             [
              0.2222222222222222,
              "#7201a8"
             ],
             [
              0.3333333333333333,
              "#9c179e"
             ],
             [
              0.4444444444444444,
              "#bd3786"
             ],
             [
              0.5555555555555556,
              "#d8576b"
             ],
             [
              0.6666666666666666,
              "#ed7953"
             ],
             [
              0.7777777777777778,
              "#fb9f3a"
             ],
             [
              0.8888888888888888,
              "#fdca26"
             ],
             [
              1,
              "#f0f921"
             ]
            ],
            "type": "surface"
           }
          ],
          "table": [
           {
            "cells": {
             "fill": {
              "color": "#EBF0F8"
             },
             "line": {
              "color": "white"
             }
            },
            "header": {
             "fill": {
              "color": "#C8D4E3"
             },
             "line": {
              "color": "white"
             }
            },
            "type": "table"
           }
          ]
         },
         "layout": {
          "annotationdefaults": {
           "arrowcolor": "#2a3f5f",
           "arrowhead": 0,
           "arrowwidth": 1
          },
          "autotypenumbers": "strict",
          "coloraxis": {
           "colorbar": {
            "outlinewidth": 0,
            "ticks": ""
           }
          },
          "colorscale": {
           "diverging": [
            [
             0,
             "#8e0152"
            ],
            [
             0.1,
             "#c51b7d"
            ],
            [
             0.2,
             "#de77ae"
            ],
            [
             0.3,
             "#f1b6da"
            ],
            [
             0.4,
             "#fde0ef"
            ],
            [
             0.5,
             "#f7f7f7"
            ],
            [
             0.6,
             "#e6f5d0"
            ],
            [
             0.7,
             "#b8e186"
            ],
            [
             0.8,
             "#7fbc41"
            ],
            [
             0.9,
             "#4d9221"
            ],
            [
             1,
             "#276419"
            ]
           ],
           "sequential": [
            [
             0,
             "#0d0887"
            ],
            [
             0.1111111111111111,
             "#46039f"
            ],
            [
             0.2222222222222222,
             "#7201a8"
            ],
            [
             0.3333333333333333,
             "#9c179e"
            ],
            [
             0.4444444444444444,
             "#bd3786"
            ],
            [
             0.5555555555555556,
             "#d8576b"
            ],
            [
             0.6666666666666666,
             "#ed7953"
            ],
            [
             0.7777777777777778,
             "#fb9f3a"
            ],
            [
             0.8888888888888888,
             "#fdca26"
            ],
            [
             1,
             "#f0f921"
            ]
           ],
           "sequentialminus": [
            [
             0,
             "#0d0887"
            ],
            [
             0.1111111111111111,
             "#46039f"
            ],
            [
             0.2222222222222222,
             "#7201a8"
            ],
            [
             0.3333333333333333,
             "#9c179e"
            ],
            [
             0.4444444444444444,
             "#bd3786"
            ],
            [
             0.5555555555555556,
             "#d8576b"
            ],
            [
             0.6666666666666666,
             "#ed7953"
            ],
            [
             0.7777777777777778,
             "#fb9f3a"
            ],
            [
             0.8888888888888888,
             "#fdca26"
            ],
            [
             1,
             "#f0f921"
            ]
           ]
          },
          "colorway": [
           "#636efa",
           "#EF553B",
           "#00cc96",
           "#ab63fa",
           "#FFA15A",
           "#19d3f3",
           "#FF6692",
           "#B6E880",
           "#FF97FF",
           "#FECB52"
          ],
          "font": {
           "color": "#2a3f5f"
          },
          "geo": {
           "bgcolor": "white",
           "lakecolor": "white",
           "landcolor": "#E5ECF6",
           "showlakes": true,
           "showland": true,
           "subunitcolor": "white"
          },
          "hoverlabel": {
           "align": "left"
          },
          "hovermode": "closest",
          "mapbox": {
           "style": "light"
          },
          "paper_bgcolor": "white",
          "plot_bgcolor": "#E5ECF6",
          "polar": {
           "angularaxis": {
            "gridcolor": "white",
            "linecolor": "white",
            "ticks": ""
           },
           "bgcolor": "#E5ECF6",
           "radialaxis": {
            "gridcolor": "white",
            "linecolor": "white",
            "ticks": ""
           }
          },
          "scene": {
           "xaxis": {
            "backgroundcolor": "#E5ECF6",
            "gridcolor": "white",
            "gridwidth": 2,
            "linecolor": "white",
            "showbackground": true,
            "ticks": "",
            "zerolinecolor": "white"
           },
           "yaxis": {
            "backgroundcolor": "#E5ECF6",
            "gridcolor": "white",
            "gridwidth": 2,
            "linecolor": "white",
            "showbackground": true,
            "ticks": "",
            "zerolinecolor": "white"
           },
           "zaxis": {
            "backgroundcolor": "#E5ECF6",
            "gridcolor": "white",
            "gridwidth": 2,
            "linecolor": "white",
            "showbackground": true,
            "ticks": "",
            "zerolinecolor": "white"
           }
          },
          "shapedefaults": {
           "line": {
            "color": "#2a3f5f"
           }
          },
          "ternary": {
           "aaxis": {
            "gridcolor": "white",
            "linecolor": "white",
            "ticks": ""
           },
           "baxis": {
            "gridcolor": "white",
            "linecolor": "white",
            "ticks": ""
           },
           "bgcolor": "#E5ECF6",
           "caxis": {
            "gridcolor": "white",
            "linecolor": "white",
            "ticks": ""
           }
          },
          "title": {
           "x": 0.05
          },
          "xaxis": {
           "automargin": true,
           "gridcolor": "white",
           "linecolor": "white",
           "ticks": "",
           "title": {
            "standoff": 15
           },
           "zerolinecolor": "white",
           "zerolinewidth": 2
          },
          "yaxis": {
           "automargin": true,
           "gridcolor": "white",
           "linecolor": "white",
           "ticks": "",
           "title": {
            "standoff": 15
           },
           "zerolinecolor": "white",
           "zerolinewidth": 2
          }
         }
        },
        "title": {
         "text": "R1 Structures: Frequency and Impact on Score Relative to All Factions Average (153.41): terrans"
        }
       }
      },
      "text/html": [
       "<div>                            <div id=\"f6073ae1-4484-44bf-b348-175ea62d3de8\" class=\"plotly-graph-div\" style=\"height:525px; width:100%;\"></div>            <script type=\"text/javascript\">                require([\"plotly\"], function(Plotly) {                    window.PLOTLYENV=window.PLOTLYENV || {};                                    if (document.getElementById(\"f6073ae1-4484-44bf-b348-175ea62d3de8\")) {                    Plotly.newPlot(                        \"f6073ae1-4484-44bf-b348-175ea62d3de8\",                        [{\"branchvalues\":\"total\",\"customdata\":[[192.453125,150.3125],[149.57142857142858,151.57142857142858],[172.60714285714286,149.96428571428572],[128.0,141.0],[205.0,142.0],[235.0,155.75],[252.29166666666666,158.4375],[174.3909090909091,145.75454545454545],[229.58333333333334,156.25],[222.0,156.5681818181818],[193.20454545454547,147.75],[318.0,194.0],[245.91176470588235,153.23529411764707],[224.7504215851602,155.6441821247892],[205.57792207792207,149.35064935064935],[331.0,185.0],[232.05882352941177,159.05882352941177],[233.08695652173913,158.58695652173913],[244.0,145.5],[191.58139534883722,159.25581395348837],[194.51190476190476,149.07142857142858],[294.0,163.0],[0.0,144.5],[178.0,155.5],[245.09803921568627,160.97058823529412],[241.92857142857142,166.28571428571428],[\"(?)\",154.1905805038335],[\"(?)\",157.07692307692307],[\"(?)\",163.4],[\"(?)\",153.776],[0.0,144.5],[\"(?)\",154.5],[\"(?)\",154.3166023166023]],\"domain\":{\"x\":[0.0,1.0],\"y\":[0.0,1.0]},\"hovertemplate\":\"labels=%{label}<br>class_counts=%{value}<br>parent=%{parent}<br>id=%{id}<br>ave_elo_terrans=%{customdata[0]}<br>ave_score_terrans=%{color}<extra></extra>\",\"ids\":[\"R1 Structures: Frequency and Overall Score for terrans/PI/ 0-m_0-ts_1-lab_1-pi_0-ac1_0-ac2\",\"R1 Structures: Frequency and Overall Score for terrans/lab/ 0-m_0-ts_2-lab_0-pi_0-ac1_0-ac2\",\"R1 Structures: Frequency and Overall Score for terrans/PI/ 0-m_1-ts_0-lab_1-pi_0-ac1_0-ac2\",\"R1 Structures: Frequency and Overall Score for terrans/lab/ 0-m_2-ts_1-lab_0-pi_0-ac1_0-ac2\",\"R1 Structures: Frequency and Overall Score for terrans/ts/ 0-m_3-ts_0-lab_0-pi_0-ac1_0-ac2\",\"R1 Structures: Frequency and Overall Score for terrans/ac2/ 1-m_0-ts_0-lab_0-pi_0-ac1_1-ac2\",\"R1 Structures: Frequency and Overall Score for terrans/ac1/ 1-m_0-ts_0-lab_0-pi_1-ac1_0-ac2\",\"R1 Structures: Frequency and Overall Score for terrans/PI/ 1-m_0-ts_0-lab_1-pi_0-ac1_0-ac2\",\"R1 Structures: Frequency and Overall Score for terrans/PI/ 1-m_0-ts_1-lab_1-pi_0-ac1_0-ac2\",\"R1 Structures: Frequency and Overall Score for terrans/PI/ 1-m_1-ts_0-lab_1-pi_0-ac1_0-ac2\",\"R1 Structures: Frequency and Overall Score for terrans/lab/ 1-m_1-ts_1-lab_0-pi_0-ac1_0-ac2\",\"R1 Structures: Frequency and Overall Score for terrans/ac2/ 2-m_0-ts_0-lab_0-pi_0-ac1_1-ac2\",\"R1 Structures: Frequency and Overall Score for terrans/ac1/ 2-m_0-ts_0-lab_0-pi_1-ac1_0-ac2\",\"R1 Structures: Frequency and Overall Score for terrans/PI/ 2-m_0-ts_0-lab_1-pi_0-ac1_0-ac2\",\"R1 Structures: Frequency and Overall Score for terrans/lab/ 2-m_0-ts_1-lab_0-pi_0-ac1_0-ac2\",\"R1 Structures: Frequency and Overall Score for terrans/ts/ 2-m_1-ts_0-lab_0-pi_0-ac1_0-ac2\",\"R1 Structures: Frequency and Overall Score for terrans/PI/ 2-m_1-ts_0-lab_1-pi_0-ac1_0-ac2\",\"R1 Structures: Frequency and Overall Score for terrans/lab/ 2-m_1-ts_1-lab_0-pi_0-ac1_0-ac2\",\"R1 Structures: Frequency and Overall Score for terrans/ts/ 2-m_2-ts_0-lab_0-pi_0-ac1_0-ac2\",\"R1 Structures: Frequency and Overall Score for terrans/PI/ 3-m_0-ts_0-lab_1-pi_0-ac1_0-ac2\",\"R1 Structures: Frequency and Overall Score for terrans/lab/ 3-m_0-ts_1-lab_0-pi_0-ac1_0-ac2\",\"R1 Structures: Frequency and Overall Score for terrans/lab/ 3-m_1-ts_1-lab_0-pi_0-ac1_0-ac2\",\"R1 Structures: Frequency and Overall Score for terrans/m/ 4-m_0-ts_0-lab_0-pi_0-ac1_0-ac2\",\"R1 Structures: Frequency and Overall Score for terrans/PI/ 4-m_0-ts_0-lab_1-pi_0-ac1_0-ac2\",\"R1 Structures: Frequency and Overall Score for terrans/lab/ 4-m_0-ts_1-lab_0-pi_0-ac1_0-ac2\",\"R1 Structures: Frequency and Overall Score for terrans/lab/ 5-m_0-ts_1-lab_0-pi_0-ac1_0-ac2\",\"R1 Structures: Frequency and Overall Score for terrans/PI\",\"R1 Structures: Frequency and Overall Score for terrans/ac1\",\"R1 Structures: Frequency and Overall Score for terrans/ac2\",\"R1 Structures: Frequency and Overall Score for terrans/lab\",\"R1 Structures: Frequency and Overall Score for terrans/m\",\"R1 Structures: Frequency and Overall Score for terrans/ts\",\"R1 Structures: Frequency and Overall Score for terrans\"],\"labels\":[\" 0-m_0-ts_1-lab_1-pi_0-ac1_0-ac2\",\" 0-m_0-ts_2-lab_0-pi_0-ac1_0-ac2\",\" 0-m_1-ts_0-lab_1-pi_0-ac1_0-ac2\",\" 0-m_2-ts_1-lab_0-pi_0-ac1_0-ac2\",\" 0-m_3-ts_0-lab_0-pi_0-ac1_0-ac2\",\" 1-m_0-ts_0-lab_0-pi_0-ac1_1-ac2\",\" 1-m_0-ts_0-lab_0-pi_1-ac1_0-ac2\",\" 1-m_0-ts_0-lab_1-pi_0-ac1_0-ac2\",\" 1-m_0-ts_1-lab_1-pi_0-ac1_0-ac2\",\" 1-m_1-ts_0-lab_1-pi_0-ac1_0-ac2\",\" 1-m_1-ts_1-lab_0-pi_0-ac1_0-ac2\",\" 2-m_0-ts_0-lab_0-pi_0-ac1_1-ac2\",\" 2-m_0-ts_0-lab_0-pi_1-ac1_0-ac2\",\" 2-m_0-ts_0-lab_1-pi_0-ac1_0-ac2\",\" 2-m_0-ts_1-lab_0-pi_0-ac1_0-ac2\",\" 2-m_1-ts_0-lab_0-pi_0-ac1_0-ac2\",\" 2-m_1-ts_0-lab_1-pi_0-ac1_0-ac2\",\" 2-m_1-ts_1-lab_0-pi_0-ac1_0-ac2\",\" 2-m_2-ts_0-lab_0-pi_0-ac1_0-ac2\",\" 3-m_0-ts_0-lab_1-pi_0-ac1_0-ac2\",\" 3-m_0-ts_1-lab_0-pi_0-ac1_0-ac2\",\" 3-m_1-ts_1-lab_0-pi_0-ac1_0-ac2\",\" 4-m_0-ts_0-lab_0-pi_0-ac1_0-ac2\",\" 4-m_0-ts_0-lab_1-pi_0-ac1_0-ac2\",\" 4-m_0-ts_1-lab_0-pi_0-ac1_0-ac2\",\" 5-m_0-ts_1-lab_0-pi_0-ac1_0-ac2\",\"PI\",\"ac1\",\"ac2\",\"lab\",\"m\",\"ts\",\"R1 Structures: Frequency and Overall Score for terrans\"],\"marker\":{\"coloraxis\":\"coloraxis\",\"colors\":[150.3125,151.57142857142858,149.96428571428572,141.0,142.0,155.75,158.4375,145.75454545454545,156.25,156.5681818181818,147.75,194.0,153.23529411764707,155.6441821247892,149.35064935064935,185.0,159.05882352941177,158.58695652173913,145.5,159.25581395348837,149.07142857142858,163.0,144.5,155.5,160.97058823529412,166.28571428571428,154.1905805038335,157.07692307692307,163.4,153.776,144.5,154.5,154.3166023166023]},\"name\":\"\",\"parents\":[\"R1 Structures: Frequency and Overall Score for terrans/PI\",\"R1 Structures: Frequency and Overall Score for terrans/lab\",\"R1 Structures: Frequency and Overall Score for terrans/PI\",\"R1 Structures: Frequency and Overall Score for terrans/lab\",\"R1 Structures: Frequency and Overall Score for terrans/ts\",\"R1 Structures: Frequency and Overall Score for terrans/ac2\",\"R1 Structures: Frequency and Overall Score for terrans/ac1\",\"R1 Structures: Frequency and Overall Score for terrans/PI\",\"R1 Structures: Frequency and Overall Score for terrans/PI\",\"R1 Structures: Frequency and Overall Score for terrans/PI\",\"R1 Structures: Frequency and Overall Score for terrans/lab\",\"R1 Structures: Frequency and Overall Score for terrans/ac2\",\"R1 Structures: Frequency and Overall Score for terrans/ac1\",\"R1 Structures: Frequency and Overall Score for terrans/PI\",\"R1 Structures: Frequency and Overall Score for terrans/lab\",\"R1 Structures: Frequency and Overall Score for terrans/ts\",\"R1 Structures: Frequency and Overall Score for terrans/PI\",\"R1 Structures: Frequency and Overall Score for terrans/lab\",\"R1 Structures: Frequency and Overall Score for terrans/ts\",\"R1 Structures: Frequency and Overall Score for terrans/PI\",\"R1 Structures: Frequency and Overall Score for terrans/lab\",\"R1 Structures: Frequency and Overall Score for terrans/lab\",\"R1 Structures: Frequency and Overall Score for terrans/m\",\"R1 Structures: Frequency and Overall Score for terrans/PI\",\"R1 Structures: Frequency and Overall Score for terrans/lab\",\"R1 Structures: Frequency and Overall Score for terrans/lab\",\"R1 Structures: Frequency and Overall Score for terrans\",\"R1 Structures: Frequency and Overall Score for terrans\",\"R1 Structures: Frequency and Overall Score for terrans\",\"R1 Structures: Frequency and Overall Score for terrans\",\"R1 Structures: Frequency and Overall Score for terrans\",\"R1 Structures: Frequency and Overall Score for terrans\",\"\"],\"values\":[64,7,28,1,1,4,96,110,12,44,44,1,34,593,154,1,17,92,2,43,84,2,2,2,102,14,913,130,5,500,2,4,1554],\"type\":\"treemap\"}],                        {\"template\":{\"data\":{\"bar\":[{\"error_x\":{\"color\":\"#2a3f5f\"},\"error_y\":{\"color\":\"#2a3f5f\"},\"marker\":{\"line\":{\"color\":\"#E5ECF6\",\"width\":0.5},\"pattern\":{\"fillmode\":\"overlay\",\"size\":10,\"solidity\":0.2}},\"type\":\"bar\"}],\"barpolar\":[{\"marker\":{\"line\":{\"color\":\"#E5ECF6\",\"width\":0.5},\"pattern\":{\"fillmode\":\"overlay\",\"size\":10,\"solidity\":0.2}},\"type\":\"barpolar\"}],\"carpet\":[{\"aaxis\":{\"endlinecolor\":\"#2a3f5f\",\"gridcolor\":\"white\",\"linecolor\":\"white\",\"minorgridcolor\":\"white\",\"startlinecolor\":\"#2a3f5f\"},\"baxis\":{\"endlinecolor\":\"#2a3f5f\",\"gridcolor\":\"white\",\"linecolor\":\"white\",\"minorgridcolor\":\"white\",\"startlinecolor\":\"#2a3f5f\"},\"type\":\"carpet\"}],\"choropleth\":[{\"colorbar\":{\"outlinewidth\":0,\"ticks\":\"\"},\"type\":\"choropleth\"}],\"contour\":[{\"colorbar\":{\"outlinewidth\":0,\"ticks\":\"\"},\"colorscale\":[[0.0,\"#0d0887\"],[0.1111111111111111,\"#46039f\"],[0.2222222222222222,\"#7201a8\"],[0.3333333333333333,\"#9c179e\"],[0.4444444444444444,\"#bd3786\"],[0.5555555555555556,\"#d8576b\"],[0.6666666666666666,\"#ed7953\"],[0.7777777777777778,\"#fb9f3a\"],[0.8888888888888888,\"#fdca26\"],[1.0,\"#f0f921\"]],\"type\":\"contour\"}],\"contourcarpet\":[{\"colorbar\":{\"outlinewidth\":0,\"ticks\":\"\"},\"type\":\"contourcarpet\"}],\"heatmap\":[{\"colorbar\":{\"outlinewidth\":0,\"ticks\":\"\"},\"colorscale\":[[0.0,\"#0d0887\"],[0.1111111111111111,\"#46039f\"],[0.2222222222222222,\"#7201a8\"],[0.3333333333333333,\"#9c179e\"],[0.4444444444444444,\"#bd3786\"],[0.5555555555555556,\"#d8576b\"],[0.6666666666666666,\"#ed7953\"],[0.7777777777777778,\"#fb9f3a\"],[0.8888888888888888,\"#fdca26\"],[1.0,\"#f0f921\"]],\"type\":\"heatmap\"}],\"heatmapgl\":[{\"colorbar\":{\"outlinewidth\":0,\"ticks\":\"\"},\"colorscale\":[[0.0,\"#0d0887\"],[0.1111111111111111,\"#46039f\"],[0.2222222222222222,\"#7201a8\"],[0.3333333333333333,\"#9c179e\"],[0.4444444444444444,\"#bd3786\"],[0.5555555555555556,\"#d8576b\"],[0.6666666666666666,\"#ed7953\"],[0.7777777777777778,\"#fb9f3a\"],[0.8888888888888888,\"#fdca26\"],[1.0,\"#f0f921\"]],\"type\":\"heatmapgl\"}],\"histogram\":[{\"marker\":{\"pattern\":{\"fillmode\":\"overlay\",\"size\":10,\"solidity\":0.2}},\"type\":\"histogram\"}],\"histogram2d\":[{\"colorbar\":{\"outlinewidth\":0,\"ticks\":\"\"},\"colorscale\":[[0.0,\"#0d0887\"],[0.1111111111111111,\"#46039f\"],[0.2222222222222222,\"#7201a8\"],[0.3333333333333333,\"#9c179e\"],[0.4444444444444444,\"#bd3786\"],[0.5555555555555556,\"#d8576b\"],[0.6666666666666666,\"#ed7953\"],[0.7777777777777778,\"#fb9f3a\"],[0.8888888888888888,\"#fdca26\"],[1.0,\"#f0f921\"]],\"type\":\"histogram2d\"}],\"histogram2dcontour\":[{\"colorbar\":{\"outlinewidth\":0,\"ticks\":\"\"},\"colorscale\":[[0.0,\"#0d0887\"],[0.1111111111111111,\"#46039f\"],[0.2222222222222222,\"#7201a8\"],[0.3333333333333333,\"#9c179e\"],[0.4444444444444444,\"#bd3786\"],[0.5555555555555556,\"#d8576b\"],[0.6666666666666666,\"#ed7953\"],[0.7777777777777778,\"#fb9f3a\"],[0.8888888888888888,\"#fdca26\"],[1.0,\"#f0f921\"]],\"type\":\"histogram2dcontour\"}],\"mesh3d\":[{\"colorbar\":{\"outlinewidth\":0,\"ticks\":\"\"},\"type\":\"mesh3d\"}],\"parcoords\":[{\"line\":{\"colorbar\":{\"outlinewidth\":0,\"ticks\":\"\"}},\"type\":\"parcoords\"}],\"pie\":[{\"automargin\":true,\"type\":\"pie\"}],\"scatter\":[{\"marker\":{\"colorbar\":{\"outlinewidth\":0,\"ticks\":\"\"}},\"type\":\"scatter\"}],\"scatter3d\":[{\"line\":{\"colorbar\":{\"outlinewidth\":0,\"ticks\":\"\"}},\"marker\":{\"colorbar\":{\"outlinewidth\":0,\"ticks\":\"\"}},\"type\":\"scatter3d\"}],\"scattercarpet\":[{\"marker\":{\"colorbar\":{\"outlinewidth\":0,\"ticks\":\"\"}},\"type\":\"scattercarpet\"}],\"scattergeo\":[{\"marker\":{\"colorbar\":{\"outlinewidth\":0,\"ticks\":\"\"}},\"type\":\"scattergeo\"}],\"scattergl\":[{\"marker\":{\"colorbar\":{\"outlinewidth\":0,\"ticks\":\"\"}},\"type\":\"scattergl\"}],\"scattermapbox\":[{\"marker\":{\"colorbar\":{\"outlinewidth\":0,\"ticks\":\"\"}},\"type\":\"scattermapbox\"}],\"scatterpolar\":[{\"marker\":{\"colorbar\":{\"outlinewidth\":0,\"ticks\":\"\"}},\"type\":\"scatterpolar\"}],\"scatterpolargl\":[{\"marker\":{\"colorbar\":{\"outlinewidth\":0,\"ticks\":\"\"}},\"type\":\"scatterpolargl\"}],\"scatterternary\":[{\"marker\":{\"colorbar\":{\"outlinewidth\":0,\"ticks\":\"\"}},\"type\":\"scatterternary\"}],\"surface\":[{\"colorbar\":{\"outlinewidth\":0,\"ticks\":\"\"},\"colorscale\":[[0.0,\"#0d0887\"],[0.1111111111111111,\"#46039f\"],[0.2222222222222222,\"#7201a8\"],[0.3333333333333333,\"#9c179e\"],[0.4444444444444444,\"#bd3786\"],[0.5555555555555556,\"#d8576b\"],[0.6666666666666666,\"#ed7953\"],[0.7777777777777778,\"#fb9f3a\"],[0.8888888888888888,\"#fdca26\"],[1.0,\"#f0f921\"]],\"type\":\"surface\"}],\"table\":[{\"cells\":{\"fill\":{\"color\":\"#EBF0F8\"},\"line\":{\"color\":\"white\"}},\"header\":{\"fill\":{\"color\":\"#C8D4E3\"},\"line\":{\"color\":\"white\"}},\"type\":\"table\"}]},\"layout\":{\"annotationdefaults\":{\"arrowcolor\":\"#2a3f5f\",\"arrowhead\":0,\"arrowwidth\":1},\"autotypenumbers\":\"strict\",\"coloraxis\":{\"colorbar\":{\"outlinewidth\":0,\"ticks\":\"\"}},\"colorscale\":{\"diverging\":[[0,\"#8e0152\"],[0.1,\"#c51b7d\"],[0.2,\"#de77ae\"],[0.3,\"#f1b6da\"],[0.4,\"#fde0ef\"],[0.5,\"#f7f7f7\"],[0.6,\"#e6f5d0\"],[0.7,\"#b8e186\"],[0.8,\"#7fbc41\"],[0.9,\"#4d9221\"],[1,\"#276419\"]],\"sequential\":[[0.0,\"#0d0887\"],[0.1111111111111111,\"#46039f\"],[0.2222222222222222,\"#7201a8\"],[0.3333333333333333,\"#9c179e\"],[0.4444444444444444,\"#bd3786\"],[0.5555555555555556,\"#d8576b\"],[0.6666666666666666,\"#ed7953\"],[0.7777777777777778,\"#fb9f3a\"],[0.8888888888888888,\"#fdca26\"],[1.0,\"#f0f921\"]],\"sequentialminus\":[[0.0,\"#0d0887\"],[0.1111111111111111,\"#46039f\"],[0.2222222222222222,\"#7201a8\"],[0.3333333333333333,\"#9c179e\"],[0.4444444444444444,\"#bd3786\"],[0.5555555555555556,\"#d8576b\"],[0.6666666666666666,\"#ed7953\"],[0.7777777777777778,\"#fb9f3a\"],[0.8888888888888888,\"#fdca26\"],[1.0,\"#f0f921\"]]},\"colorway\":[\"#636efa\",\"#EF553B\",\"#00cc96\",\"#ab63fa\",\"#FFA15A\",\"#19d3f3\",\"#FF6692\",\"#B6E880\",\"#FF97FF\",\"#FECB52\"],\"font\":{\"color\":\"#2a3f5f\"},\"geo\":{\"bgcolor\":\"white\",\"lakecolor\":\"white\",\"landcolor\":\"#E5ECF6\",\"showlakes\":true,\"showland\":true,\"subunitcolor\":\"white\"},\"hoverlabel\":{\"align\":\"left\"},\"hovermode\":\"closest\",\"mapbox\":{\"style\":\"light\"},\"paper_bgcolor\":\"white\",\"plot_bgcolor\":\"#E5ECF6\",\"polar\":{\"angularaxis\":{\"gridcolor\":\"white\",\"linecolor\":\"white\",\"ticks\":\"\"},\"bgcolor\":\"#E5ECF6\",\"radialaxis\":{\"gridcolor\":\"white\",\"linecolor\":\"white\",\"ticks\":\"\"}},\"scene\":{\"xaxis\":{\"backgroundcolor\":\"#E5ECF6\",\"gridcolor\":\"white\",\"gridwidth\":2,\"linecolor\":\"white\",\"showbackground\":true,\"ticks\":\"\",\"zerolinecolor\":\"white\"},\"yaxis\":{\"backgroundcolor\":\"#E5ECF6\",\"gridcolor\":\"white\",\"gridwidth\":2,\"linecolor\":\"white\",\"showbackground\":true,\"ticks\":\"\",\"zerolinecolor\":\"white\"},\"zaxis\":{\"backgroundcolor\":\"#E5ECF6\",\"gridcolor\":\"white\",\"gridwidth\":2,\"linecolor\":\"white\",\"showbackground\":true,\"ticks\":\"\",\"zerolinecolor\":\"white\"}},\"shapedefaults\":{\"line\":{\"color\":\"#2a3f5f\"}},\"ternary\":{\"aaxis\":{\"gridcolor\":\"white\",\"linecolor\":\"white\",\"ticks\":\"\"},\"baxis\":{\"gridcolor\":\"white\",\"linecolor\":\"white\",\"ticks\":\"\"},\"bgcolor\":\"#E5ECF6\",\"caxis\":{\"gridcolor\":\"white\",\"linecolor\":\"white\",\"ticks\":\"\"}},\"title\":{\"x\":0.05},\"xaxis\":{\"automargin\":true,\"gridcolor\":\"white\",\"linecolor\":\"white\",\"ticks\":\"\",\"title\":{\"standoff\":15},\"zerolinecolor\":\"white\",\"zerolinewidth\":2},\"yaxis\":{\"automargin\":true,\"gridcolor\":\"white\",\"linecolor\":\"white\",\"ticks\":\"\",\"title\":{\"standoff\":15},\"zerolinecolor\":\"white\",\"zerolinewidth\":2}}},\"coloraxis\":{\"colorbar\":{\"title\":{\"text\":\"ave_score_terrans\"}},\"colorscale\":[[0.0,\"rgb(103,0,31)\"],[0.1,\"rgb(178,24,43)\"],[0.2,\"rgb(214,96,77)\"],[0.3,\"rgb(244,165,130)\"],[0.4,\"rgb(253,219,199)\"],[0.5,\"rgb(247,247,247)\"],[0.6,\"rgb(209,229,240)\"],[0.7,\"rgb(146,197,222)\"],[0.8,\"rgb(67,147,195)\"],[0.9,\"rgb(33,102,172)\"],[1.0,\"rgb(5,48,97)\"]],\"cmid\":153.409394703657},\"legend\":{\"tracegroupgap\":0},\"margin\":{\"t\":50,\"l\":25,\"r\":25,\"b\":25},\"title\":{\"text\":\"R1 Structures: Frequency and Impact on Score Relative to All Factions Average (153.41): terrans\"}},                        {\"responsive\": true}                    ).then(function(){\n",
       "                            \n",
       "var gd = document.getElementById('f6073ae1-4484-44bf-b348-175ea62d3de8');\n",
       "var x = new MutationObserver(function (mutations, observer) {{\n",
       "        var display = window.getComputedStyle(gd).display;\n",
       "        if (!display || display === 'none') {{\n",
       "            console.log([gd, 'removed!']);\n",
       "            Plotly.purge(gd);\n",
       "            observer.disconnect();\n",
       "        }}\n",
       "}});\n",
       "\n",
       "// Listen for the removal of the full notebook cells\n",
       "var notebookContainer = gd.closest('#notebook-container');\n",
       "if (notebookContainer) {{\n",
       "    x.observe(notebookContainer, {childList: true});\n",
       "}}\n",
       "\n",
       "// Listen for the clearing of the current output cell\n",
       "var outputEl = gd.closest('.output');\n",
       "if (outputEl) {{\n",
       "    x.observe(outputEl, {childList: true});\n",
       "}}\n",
       "\n",
       "                        })                };                });            </script>        </div>"
      ]
     },
     "metadata": {},
     "output_type": "display_data"
    }
   ],
   "source": [
    "plot_r1_structs_remote(4, dat_4)"
   ]
  },
  {
   "cell_type": "code",
   "execution_count": null,
   "id": "27231f84",
   "metadata": {},
   "outputs": [],
   "source": []
  }
 ],
 "metadata": {
  "kernelspec": {
   "display_name": "Python 3 (ipykernel)",
   "language": "python",
   "name": "python3"
  },
  "language_info": {
   "codemirror_mode": {
    "name": "ipython",
    "version": 3
   },
   "file_extension": ".py",
   "mimetype": "text/x-python",
   "name": "python",
   "nbconvert_exporter": "python",
   "pygments_lexer": "ipython3",
   "version": "3.8.10"
  }
 },
 "nbformat": 4,
 "nbformat_minor": 5
}
