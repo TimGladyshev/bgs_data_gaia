{
 "cells": [
  {
   "cell_type": "code",
   "execution_count": 1,
   "id": "a562ba5f",
   "metadata": {},
   "outputs": [],
   "source": [
    "import pandas as pd\n",
    "import numpy as np\n",
    "from scipy import stats\n",
    "pd.set_option('display.max_rows', 200)\n",
    "pd.set_option('display.max_columns', 100)\n",
    "pd.set_option('display.width', 1000)\n",
    "import json\n",
    "from IPython.display import display\n",
    "from subprocess import check_output\n",
    "import sys\n",
    "import traceback\n",
    "from tqdm.notebook import tqdm, trange\n",
    "import plotly.graph_objects as go\n",
    "import plotly.express as px\n",
    "pd.options.mode.chained_assignment = None\n",
    "import warnings\n",
    "warnings.simplefilter(action='ignore', category=FutureWarning)"
   ]
  },
  {
   "cell_type": "code",
   "execution_count": 2,
   "id": "0b63ea8e",
   "metadata": {},
   "outputs": [],
   "source": [
    "techs = {\n",
    "    \"tech1\": \"1q_1o\",\n",
    "    \"tech2\": \"k_per_terra\",\n",
    "    \"tech3\": \"4pip\",\n",
    "    \"tech4\": \"7vp\",\n",
    "    \"tech5\": \"1o_1pw\",\n",
    "    \"tech6\": \"1k_1c\",\n",
    "    \"tech7\": \"3vp_per_gaia_place\",\n",
    "    \"tech8\": \"4c\",\n",
    "    \"tech9\": \"4pw\",\n",
    "    # idk wtf this is --> \"tech-ship0\"\n",
    "}\n",
    "\n",
    "adv_techs = {\n",
    "    \"advtech1\": \"3vp_per_fed_pass\",\n",
    "    \"advtech2\": \"2vp_per_tech_bump\",\n",
    "    \"advtech3\": \"1qic_5c_action\",\n",
    "    \"advtech4\": \"2vp_per_mine\",\n",
    "    \"advtech5\": \"3vp_per_rl_pass\",\n",
    "    \"advtech6\": \"1o_per_sector\",\n",
    "    \"advtech7\": \"1vp_per_terra_pass\",\n",
    "    \"advtech8\": \"2vp_per_gaia\",\n",
    "    \"advtech9\": \"4vp_per_ts\",\n",
    "    \"advtech10\": \"2vp_per_sector\",\n",
    "    \"advtech11\": \"3o_action\",\n",
    "    \"advtech12\": \"5vp_per_fed\",\n",
    "    \"advtech13\": \"3k_action\",\n",
    "    \"advtech14\": \"3vp_per_mine_place\",\n",
    "    \"advtech15\": \"3vp_per_ts_place\",\n",
    "}\n",
    "\n",
    "feds = {\n",
    "    \"fed1\": \"12vp\",\n",
    "    \"fed2\": \"qic\",\n",
    "    \"fed3\": \"2pw\",\n",
    "    \"fed4\": \"2o\",\n",
    "    \"fed5\": \"6c\",\n",
    "    \"fed6\": \"2k\",\n",
    "    \"gleens\": \"gleens\"\n",
    "}\n",
    "\n",
    "round_scorings = {\n",
    "    \"score1\": \"2vp_per_terra\",\n",
    "    \"score2\": \"2vp_per_research_bump\",\n",
    "    \"score3\": \"2vp_per_mine_place\",\n",
    "    \"score4\": \"5vp_per_fed_place\",\n",
    "    \"score5\": \"4vp_per_ts_place\",\n",
    "    \"score6\": \"4vp_per_gaia_place\",\n",
    "    \"score7\": \"5vp_per_3pip_place\",\n",
    "    \"score8\": \"3vp_per_ts_place\",\n",
    "    \"score9\": \"3vp_per_gaia_place\",\n",
    "    \"score10\": \"5vp_per_3pip_place\",\n",
    "}\n",
    "\n",
    "boosters = {\n",
    "\n",
    "    \"booster1\": \"1k_1o\",\n",
    "    \"booster2\": \"2pwt_1o\",\n",
    "    \"booster3\": \"1qic_2c\",\n",
    "    \"booster4\": \"2c_terra\",\n",
    "    \"booster5\": \"2pw_nav\",\n",
    "    \"booster6\": \"1o_1vp_per_mine\",\n",
    "    \"booster7\": \"1o_2vp_per_ts\",\n",
    "    \"booster8\": \"1k_3vp_per_rl\",\n",
    "    \"booster9\": \"4pw_4vp_per_3pip\",\n",
    "    \"booster10\": \"4c_1vp_per_gaia\",\n",
    "}\n",
    "\n",
    "bad_buildings = {\"colony\", \n",
    "                 \"colonyShip\", \n",
    "                 \"tradeShip\", \n",
    "                 \"constructionShip\", \n",
    "                 \"researchShip\",\n",
    "                 \"scout\",\n",
    "                 \"frigate\",\n",
    "                 \"battleShip\",\n",
    "                 \"customsPost\",\n",
    "                 \"tradePost\"\n",
    "                }\n",
    "\n",
    "factions = {\n",
    "    \"terrans\",\n",
    "    \"lantids\",\n",
    "    \"hadsch-hallas\",\n",
    "    \"ivits\",\n",
    "    \"baltaks\",\n",
    "    \"geodens\",\n",
    "    \"xenos\",\n",
    "    \"gleens\",\n",
    "    \"ambas\",\n",
    "    \"taklons\",\n",
    "    \"bescods\",\n",
    "    \"firaks\",\n",
    "    \"itars\",\n",
    "    \"nevlas\"\n",
    "}"
   ]
  },
  {
   "cell_type": "code",
   "execution_count": 3,
   "id": "57c9df2b",
   "metadata": {},
   "outputs": [],
   "source": [
    "dat_2 = pd.read_pickle(\"two_players_data\")\n",
    "dat_3 = pd.read_pickle(\"three_players_data\")\n",
    "dat_4 = pd.read_pickle(\"four_players_data\")"
   ]
  },
  {
   "cell_type": "code",
   "execution_count": 4,
   "id": "d2b889c9",
   "metadata": {},
   "outputs": [
    {
     "data": {
      "text/plain": [
       "count      5215\n",
       "unique        2\n",
       "top       False\n",
       "freq       5201\n",
       "Name: pos_1_dropped, dtype: object"
      ]
     },
     "execution_count": 4,
     "metadata": {},
     "output_type": "execute_result"
    }
   ],
   "source": [
    "dat_4['pos_1_dropped'].describe()"
   ]
  },
  {
   "cell_type": "code",
   "execution_count": 7,
   "id": "f4917d9a",
   "metadata": {
    "scrolled": false
   },
   "outputs": [
    {
     "data": {
      "application/vnd.plotly.v1+json": {
       "config": {
        "plotlyServerURL": "https://plot.ly"
       },
       "data": [
        {
         "branchvalues": "total",
         "customdata": [
          [
           183.9189189189189,
           145.64864864864865
          ],
          [
           143,
           104
          ],
          [
           155.72222222222223,
           108.77777777777777
          ],
          [
           133,
           121.66666666666667
          ],
          [
           189.43243243243242,
           134.59459459459458
          ],
          [
           110.5,
           107.5
          ],
          [
           170.63636363636363,
           129.3181818181818
          ],
          [
           31,
           115
          ],
          [
           234.84,
           146.48
          ],
          [
           68,
           117.33333333333333
          ],
          [
           179.8953488372093,
           136.37209302325581
          ],
          [
           140,
           124
          ],
          [
           128.42857142857142,
           126.71428571428571
          ],
          [
           225.6184210526316,
           141.07894736842104
          ],
          [
           120.5,
           116.25
          ],
          [
           215.6904761904762,
           140.63690476190476
          ],
          [
           48,
           114
          ],
          [
           183.3119266055046,
           140.76146788990826
          ],
          [
           121,
           164
          ],
          [
           79,
           108
          ],
          [
           118,
           119.66666666666667
          ],
          [
           195.57142857142858,
           136.53571428571428
          ],
          [
           154.6,
           150.4
          ],
          [
           215,
           124
          ],
          [
           233.80612244897958,
           146.48979591836735
          ],
          [
           103.66666666666667,
           120.33333333333333
          ],
          [
           170,
           141
          ],
          [
           98.33333333333333,
           116.66666666666667
          ],
          [
           263.5595238095238,
           152.41666666666666
          ],
          [
           217,
           199
          ],
          [
           214.57142857142858,
           174.14285714285714
          ],
          [
           204,
           202
          ],
          [
           "(?)",
           110.36363636363636
          ],
          [
           "(?)",
           137.152
          ],
          [
           "(?)",
           120.78571428571429
          ],
          [
           "(?)",
           141.57667386609072
          ],
          [
           "(?)",
           128.5
          ],
          [
           "(?)",
           135.9
          ],
          [
           "(?)",
           140.38715596330275
          ]
         ],
         "domain": {
          "x": [
           0,
           1
          ],
          "y": [
           0,
           1
          ]
         },
         "hovertemplate": "labels=%{label}<br>class_counts=%{value}<br>parent=%{parent}<br>id=%{id}<br>ave_elo_bescods=%{customdata[0]}<br>ave_score_bescods=%{color}<extra></extra>",
         "ids": [
          "R1 Structures: Frequency and Overall Score for bescods/lab/ 0_m / 0_ts / 2_lab / 0_pi / 0_ac1 / 0_ac2",
          "R1 Structures: Frequency and Overall Score for bescods/PI/ 0_m / 1_ts / 0_lab / 1_pi / 0_ac1 / 0_ac2",
          "R1 Structures: Frequency and Overall Score for bescods/lab/ 0_m / 1_ts / 1_lab / 0_pi / 0_ac1 / 0_ac2",
          "R1 Structures: Frequency and Overall Score for bescods/ac2/ 1_m / 0_ts / 0_lab / 0_pi / 0_ac1 / 1_ac2",
          "R1 Structures: Frequency and Overall Score for bescods/ac1/ 1_m / 0_ts / 0_lab / 0_pi / 1_ac1 / 0_ac2",
          "R1 Structures: Frequency and Overall Score for bescods/PI/ 1_m / 0_ts / 0_lab / 1_pi / 0_ac1 / 0_ac2",
          "R1 Structures: Frequency and Overall Score for bescods/lab/ 1_m / 0_ts / 1_lab / 0_pi / 0_ac1 / 0_ac2",
          "R1 Structures: Frequency and Overall Score for bescods/ac2/ 1_m / 0_ts / 1_lab / 0_pi / 0_ac1 / 1_ac2",
          "R1 Structures: Frequency and Overall Score for bescods/lab/ 1_m / 0_ts / 2_lab / 0_pi / 0_ac1 / 0_ac2",
          "R1 Structures: Frequency and Overall Score for bescods/ac1/ 1_m / 1_ts / 0_lab / 0_pi / 1_ac1 / 0_ac2",
          "R1 Structures: Frequency and Overall Score for bescods/lab/ 1_m / 1_ts / 1_lab / 0_pi / 0_ac1 / 0_ac2",
          "R1 Structures: Frequency and Overall Score for bescods/lab/ 1_m / 2_ts / 1_lab / 0_pi / 0_ac1 / 0_ac2",
          "R1 Structures: Frequency and Overall Score for bescods/ac2/ 2_m / 0_ts / 0_lab / 0_pi / 0_ac1 / 1_ac2",
          "R1 Structures: Frequency and Overall Score for bescods/ac1/ 2_m / 0_ts / 0_lab / 0_pi / 1_ac1 / 0_ac2",
          "R1 Structures: Frequency and Overall Score for bescods/PI/ 2_m / 0_ts / 0_lab / 1_pi / 0_ac1 / 0_ac2",
          "R1 Structures: Frequency and Overall Score for bescods/lab/ 2_m / 0_ts / 1_lab / 0_pi / 0_ac1 / 0_ac2",
          "R1 Structures: Frequency and Overall Score for bescods/ts/ 2_m / 1_ts / 0_lab / 0_pi / 0_ac1 / 0_ac2",
          "R1 Structures: Frequency and Overall Score for bescods/lab/ 2_m / 1_ts / 1_lab / 0_pi / 0_ac1 / 0_ac2",
          "R1 Structures: Frequency and Overall Score for bescods/m/ 3_m / 0_ts / 0_lab / 0_pi / 0_ac1 / 0_ac2",
          "R1 Structures: Frequency and Overall Score for bescods/ac2/ 3_m / 0_ts / 0_lab / 0_pi / 0_ac1 / 1_ac2",
          "R1 Structures: Frequency and Overall Score for bescods/ac1/ 3_m / 0_ts / 0_lab / 0_pi / 1_ac1 / 0_ac2",
          "R1 Structures: Frequency and Overall Score for bescods/lab/ 3_m / 0_ts / 1_lab / 0_pi / 0_ac1 / 0_ac2",
          "R1 Structures: Frequency and Overall Score for bescods/lab/ 3_m / 1_ts / 1_lab / 0_pi / 0_ac1 / 0_ac2",
          "R1 Structures: Frequency and Overall Score for bescods/ac1/ 4_m / 0_ts / 0_lab / 0_pi / 1_ac1 / 0_ac2",
          "R1 Structures: Frequency and Overall Score for bescods/lab/ 4_m / 0_ts / 1_lab / 0_pi / 0_ac1 / 0_ac2",
          "R1 Structures: Frequency and Overall Score for bescods/ts/ 4_m / 1_ts / 0_lab / 0_pi / 0_ac1 / 0_ac2",
          "R1 Structures: Frequency and Overall Score for bescods/ts/ 4_m / 2_ts / 0_lab / 0_pi / 0_ac1 / 0_ac2",
          "R1 Structures: Frequency and Overall Score for bescods/m/ 5_m / 0_ts / 0_lab / 0_pi / 0_ac1 / 0_ac2",
          "R1 Structures: Frequency and Overall Score for bescods/lab/ 5_m / 0_ts / 1_lab / 0_pi / 0_ac1 / 0_ac2",
          "R1 Structures: Frequency and Overall Score for bescods/ts/ 5_m / 1_ts / 0_lab / 0_pi / 0_ac1 / 0_ac2",
          "R1 Structures: Frequency and Overall Score for bescods/lab/ 6_m / 0_ts / 1_lab / 0_pi / 0_ac1 / 0_ac2",
          "R1 Structures: Frequency and Overall Score for bescods/ts/ 6_m / 1_ts / 0_lab / 0_pi / 0_ac1 / 0_ac2",
          "R1 Structures: Frequency and Overall Score for bescods/PI",
          "R1 Structures: Frequency and Overall Score for bescods/ac1",
          "R1 Structures: Frequency and Overall Score for bescods/ac2",
          "R1 Structures: Frequency and Overall Score for bescods/lab",
          "R1 Structures: Frequency and Overall Score for bescods/m",
          "R1 Structures: Frequency and Overall Score for bescods/ts",
          "R1 Structures: Frequency and Overall Score for bescods"
         ],
         "labels": [
          " 0_m / 0_ts / 2_lab / 0_pi / 0_ac1 / 0_ac2",
          " 0_m / 1_ts / 0_lab / 1_pi / 0_ac1 / 0_ac2",
          " 0_m / 1_ts / 1_lab / 0_pi / 0_ac1 / 0_ac2",
          " 1_m / 0_ts / 0_lab / 0_pi / 0_ac1 / 1_ac2",
          " 1_m / 0_ts / 0_lab / 0_pi / 1_ac1 / 0_ac2",
          " 1_m / 0_ts / 0_lab / 1_pi / 0_ac1 / 0_ac2",
          " 1_m / 0_ts / 1_lab / 0_pi / 0_ac1 / 0_ac2",
          " 1_m / 0_ts / 1_lab / 0_pi / 0_ac1 / 1_ac2",
          " 1_m / 0_ts / 2_lab / 0_pi / 0_ac1 / 0_ac2",
          " 1_m / 1_ts / 0_lab / 0_pi / 1_ac1 / 0_ac2",
          " 1_m / 1_ts / 1_lab / 0_pi / 0_ac1 / 0_ac2",
          " 1_m / 2_ts / 1_lab / 0_pi / 0_ac1 / 0_ac2",
          " 2_m / 0_ts / 0_lab / 0_pi / 0_ac1 / 1_ac2",
          " 2_m / 0_ts / 0_lab / 0_pi / 1_ac1 / 0_ac2",
          " 2_m / 0_ts / 0_lab / 1_pi / 0_ac1 / 0_ac2",
          " 2_m / 0_ts / 1_lab / 0_pi / 0_ac1 / 0_ac2",
          " 2_m / 1_ts / 0_lab / 0_pi / 0_ac1 / 0_ac2",
          " 2_m / 1_ts / 1_lab / 0_pi / 0_ac1 / 0_ac2",
          " 3_m / 0_ts / 0_lab / 0_pi / 0_ac1 / 0_ac2",
          " 3_m / 0_ts / 0_lab / 0_pi / 0_ac1 / 1_ac2",
          " 3_m / 0_ts / 0_lab / 0_pi / 1_ac1 / 0_ac2",
          " 3_m / 0_ts / 1_lab / 0_pi / 0_ac1 / 0_ac2",
          " 3_m / 1_ts / 1_lab / 0_pi / 0_ac1 / 0_ac2",
          " 4_m / 0_ts / 0_lab / 0_pi / 1_ac1 / 0_ac2",
          " 4_m / 0_ts / 1_lab / 0_pi / 0_ac1 / 0_ac2",
          " 4_m / 1_ts / 0_lab / 0_pi / 0_ac1 / 0_ac2",
          " 4_m / 2_ts / 0_lab / 0_pi / 0_ac1 / 0_ac2",
          " 5_m / 0_ts / 0_lab / 0_pi / 0_ac1 / 0_ac2",
          " 5_m / 0_ts / 1_lab / 0_pi / 0_ac1 / 0_ac2",
          " 5_m / 1_ts / 0_lab / 0_pi / 0_ac1 / 0_ac2",
          " 6_m / 0_ts / 1_lab / 0_pi / 0_ac1 / 0_ac2",
          " 6_m / 1_ts / 0_lab / 0_pi / 0_ac1 / 0_ac2",
          "PI",
          "ac1",
          "ac2",
          "lab",
          "m",
          "ts",
          "R1 Structures: Frequency and Overall Score for bescods"
         ],
         "marker": {
          "coloraxis": "coloraxis",
          "colors": [
           145.64864864864865,
           104,
           108.77777777777777,
           121.66666666666667,
           134.59459459459458,
           107.5,
           129.3181818181818,
           115,
           146.48,
           117.33333333333333,
           136.37209302325581,
           124,
           126.71428571428571,
           141.07894736842104,
           116.25,
           140.63690476190476,
           114,
           140.76146788990826,
           164,
           108,
           119.66666666666667,
           136.53571428571428,
           150.4,
           124,
           146.48979591836735,
           120.33333333333333,
           141,
           116.66666666666667,
           152.41666666666666,
           199,
           174.14285714285714,
           202,
           110.36363636363636,
           137.152,
           120.78571428571429,
           141.57667386609072,
           128.5,
           135.9,
           140.38715596330275
          ]
         },
         "name": "",
         "parents": [
          "R1 Structures: Frequency and Overall Score for bescods/lab",
          "R1 Structures: Frequency and Overall Score for bescods/PI",
          "R1 Structures: Frequency and Overall Score for bescods/lab",
          "R1 Structures: Frequency and Overall Score for bescods/ac2",
          "R1 Structures: Frequency and Overall Score for bescods/ac1",
          "R1 Structures: Frequency and Overall Score for bescods/PI",
          "R1 Structures: Frequency and Overall Score for bescods/lab",
          "R1 Structures: Frequency and Overall Score for bescods/ac2",
          "R1 Structures: Frequency and Overall Score for bescods/lab",
          "R1 Structures: Frequency and Overall Score for bescods/ac1",
          "R1 Structures: Frequency and Overall Score for bescods/lab",
          "R1 Structures: Frequency and Overall Score for bescods/lab",
          "R1 Structures: Frequency and Overall Score for bescods/ac2",
          "R1 Structures: Frequency and Overall Score for bescods/ac1",
          "R1 Structures: Frequency and Overall Score for bescods/PI",
          "R1 Structures: Frequency and Overall Score for bescods/lab",
          "R1 Structures: Frequency and Overall Score for bescods/ts",
          "R1 Structures: Frequency and Overall Score for bescods/lab",
          "R1 Structures: Frequency and Overall Score for bescods/m",
          "R1 Structures: Frequency and Overall Score for bescods/ac2",
          "R1 Structures: Frequency and Overall Score for bescods/ac1",
          "R1 Structures: Frequency and Overall Score for bescods/lab",
          "R1 Structures: Frequency and Overall Score for bescods/lab",
          "R1 Structures: Frequency and Overall Score for bescods/ac1",
          "R1 Structures: Frequency and Overall Score for bescods/lab",
          "R1 Structures: Frequency and Overall Score for bescods/ts",
          "R1 Structures: Frequency and Overall Score for bescods/ts",
          "R1 Structures: Frequency and Overall Score for bescods/m",
          "R1 Structures: Frequency and Overall Score for bescods/lab",
          "R1 Structures: Frequency and Overall Score for bescods/ts",
          "R1 Structures: Frequency and Overall Score for bescods/lab",
          "R1 Structures: Frequency and Overall Score for bescods/ts",
          "R1 Structures: Frequency and Overall Score for bescods",
          "R1 Structures: Frequency and Overall Score for bescods",
          "R1 Structures: Frequency and Overall Score for bescods",
          "R1 Structures: Frequency and Overall Score for bescods",
          "R1 Structures: Frequency and Overall Score for bescods",
          "R1 Structures: Frequency and Overall Score for bescods",
          ""
         ],
         "type": "treemap",
         "values": [
          37,
          1,
          18,
          3,
          37,
          6,
          22,
          1,
          25,
          3,
          86,
          1,
          7,
          76,
          4,
          168,
          4,
          109,
          1,
          3,
          6,
          168,
          5,
          3,
          196,
          3,
          1,
          3,
          84,
          1,
          7,
          1,
          11,
          125,
          14,
          926,
          4,
          10,
          1090
         ]
        }
       ],
       "layout": {
        "coloraxis": {
         "cmid": 144.30885882929329,
         "colorbar": {
          "title": {
           "text": "ave_score_bescods"
          }
         },
         "colorscale": [
          [
           0,
           "rgb(103,0,31)"
          ],
          [
           0.1,
           "rgb(178,24,43)"
          ],
          [
           0.2,
           "rgb(214,96,77)"
          ],
          [
           0.3,
           "rgb(244,165,130)"
          ],
          [
           0.4,
           "rgb(253,219,199)"
          ],
          [
           0.5,
           "rgb(247,247,247)"
          ],
          [
           0.6,
           "rgb(209,229,240)"
          ],
          [
           0.7,
           "rgb(146,197,222)"
          ],
          [
           0.8,
           "rgb(67,147,195)"
          ],
          [
           0.9,
           "rgb(33,102,172)"
          ],
          [
           1,
           "rgb(5,48,97)"
          ]
         ]
        },
        "legend": {
         "tracegroupgap": 0
        },
        "margin": {
         "b": 25,
         "l": 25,
         "r": 25,
         "t": 50
        },
        "template": {
         "data": {
          "bar": [
           {
            "error_x": {
             "color": "#2a3f5f"
            },
            "error_y": {
             "color": "#2a3f5f"
            },
            "marker": {
             "line": {
              "color": "#E5ECF6",
              "width": 0.5
             },
             "pattern": {
              "fillmode": "overlay",
              "size": 10,
              "solidity": 0.2
             }
            },
            "type": "bar"
           }
          ],
          "barpolar": [
           {
            "marker": {
             "line": {
              "color": "#E5ECF6",
              "width": 0.5
             },
             "pattern": {
              "fillmode": "overlay",
              "size": 10,
              "solidity": 0.2
             }
            },
            "type": "barpolar"
           }
          ],
          "carpet": [
           {
            "aaxis": {
             "endlinecolor": "#2a3f5f",
             "gridcolor": "white",
             "linecolor": "white",
             "minorgridcolor": "white",
             "startlinecolor": "#2a3f5f"
            },
            "baxis": {
             "endlinecolor": "#2a3f5f",
             "gridcolor": "white",
             "linecolor": "white",
             "minorgridcolor": "white",
             "startlinecolor": "#2a3f5f"
            },
            "type": "carpet"
           }
          ],
          "choropleth": [
           {
            "colorbar": {
             "outlinewidth": 0,
             "ticks": ""
            },
            "type": "choropleth"
           }
          ],
          "contour": [
           {
            "colorbar": {
             "outlinewidth": 0,
             "ticks": ""
            },
            "colorscale": [
             [
              0,
              "#0d0887"
             ],
             [
              0.1111111111111111,
              "#46039f"
             ],
             [
              0.2222222222222222,
              "#7201a8"
             ],
             [
              0.3333333333333333,
              "#9c179e"
             ],
             [
              0.4444444444444444,
              "#bd3786"
             ],
             [
              0.5555555555555556,
              "#d8576b"
             ],
             [
              0.6666666666666666,
              "#ed7953"
             ],
             [
              0.7777777777777778,
              "#fb9f3a"
             ],
             [
              0.8888888888888888,
              "#fdca26"
             ],
             [
              1,
              "#f0f921"
             ]
            ],
            "type": "contour"
           }
          ],
          "contourcarpet": [
           {
            "colorbar": {
             "outlinewidth": 0,
             "ticks": ""
            },
            "type": "contourcarpet"
           }
          ],
          "heatmap": [
           {
            "colorbar": {
             "outlinewidth": 0,
             "ticks": ""
            },
            "colorscale": [
             [
              0,
              "#0d0887"
             ],
             [
              0.1111111111111111,
              "#46039f"
             ],
             [
              0.2222222222222222,
              "#7201a8"
             ],
             [
              0.3333333333333333,
              "#9c179e"
             ],
             [
              0.4444444444444444,
              "#bd3786"
             ],
             [
              0.5555555555555556,
              "#d8576b"
             ],
             [
              0.6666666666666666,
              "#ed7953"
             ],
             [
              0.7777777777777778,
              "#fb9f3a"
             ],
             [
              0.8888888888888888,
              "#fdca26"
             ],
             [
              1,
              "#f0f921"
             ]
            ],
            "type": "heatmap"
           }
          ],
          "heatmapgl": [
           {
            "colorbar": {
             "outlinewidth": 0,
             "ticks": ""
            },
            "colorscale": [
             [
              0,
              "#0d0887"
             ],
             [
              0.1111111111111111,
              "#46039f"
             ],
             [
              0.2222222222222222,
              "#7201a8"
             ],
             [
              0.3333333333333333,
              "#9c179e"
             ],
             [
              0.4444444444444444,
              "#bd3786"
             ],
             [
              0.5555555555555556,
              "#d8576b"
             ],
             [
              0.6666666666666666,
              "#ed7953"
             ],
             [
              0.7777777777777778,
              "#fb9f3a"
             ],
             [
              0.8888888888888888,
              "#fdca26"
             ],
             [
              1,
              "#f0f921"
             ]
            ],
            "type": "heatmapgl"
           }
          ],
          "histogram": [
           {
            "marker": {
             "pattern": {
              "fillmode": "overlay",
              "size": 10,
              "solidity": 0.2
             }
            },
            "type": "histogram"
           }
          ],
          "histogram2d": [
           {
            "colorbar": {
             "outlinewidth": 0,
             "ticks": ""
            },
            "colorscale": [
             [
              0,
              "#0d0887"
             ],
             [
              0.1111111111111111,
              "#46039f"
             ],
             [
              0.2222222222222222,
              "#7201a8"
             ],
             [
              0.3333333333333333,
              "#9c179e"
             ],
             [
              0.4444444444444444,
              "#bd3786"
             ],
             [
              0.5555555555555556,
              "#d8576b"
             ],
             [
              0.6666666666666666,
              "#ed7953"
             ],
             [
              0.7777777777777778,
              "#fb9f3a"
             ],
             [
              0.8888888888888888,
              "#fdca26"
             ],
             [
              1,
              "#f0f921"
             ]
            ],
            "type": "histogram2d"
           }
          ],
          "histogram2dcontour": [
           {
            "colorbar": {
             "outlinewidth": 0,
             "ticks": ""
            },
            "colorscale": [
             [
              0,
              "#0d0887"
             ],
             [
              0.1111111111111111,
              "#46039f"
             ],
             [
              0.2222222222222222,
              "#7201a8"
             ],
             [
              0.3333333333333333,
              "#9c179e"
             ],
             [
              0.4444444444444444,
              "#bd3786"
             ],
             [
              0.5555555555555556,
              "#d8576b"
             ],
             [
              0.6666666666666666,
              "#ed7953"
             ],
             [
              0.7777777777777778,
              "#fb9f3a"
             ],
             [
              0.8888888888888888,
              "#fdca26"
             ],
             [
              1,
              "#f0f921"
             ]
            ],
            "type": "histogram2dcontour"
           }
          ],
          "mesh3d": [
           {
            "colorbar": {
             "outlinewidth": 0,
             "ticks": ""
            },
            "type": "mesh3d"
           }
          ],
          "parcoords": [
           {
            "line": {
             "colorbar": {
              "outlinewidth": 0,
              "ticks": ""
             }
            },
            "type": "parcoords"
           }
          ],
          "pie": [
           {
            "automargin": true,
            "type": "pie"
           }
          ],
          "scatter": [
           {
            "marker": {
             "colorbar": {
              "outlinewidth": 0,
              "ticks": ""
             }
            },
            "type": "scatter"
           }
          ],
          "scatter3d": [
           {
            "line": {
             "colorbar": {
              "outlinewidth": 0,
              "ticks": ""
             }
            },
            "marker": {
             "colorbar": {
              "outlinewidth": 0,
              "ticks": ""
             }
            },
            "type": "scatter3d"
           }
          ],
          "scattercarpet": [
           {
            "marker": {
             "colorbar": {
              "outlinewidth": 0,
              "ticks": ""
             }
            },
            "type": "scattercarpet"
           }
          ],
          "scattergeo": [
           {
            "marker": {
             "colorbar": {
              "outlinewidth": 0,
              "ticks": ""
             }
            },
            "type": "scattergeo"
           }
          ],
          "scattergl": [
           {
            "marker": {
             "colorbar": {
              "outlinewidth": 0,
              "ticks": ""
             }
            },
            "type": "scattergl"
           }
          ],
          "scattermapbox": [
           {
            "marker": {
             "colorbar": {
              "outlinewidth": 0,
              "ticks": ""
             }
            },
            "type": "scattermapbox"
           }
          ],
          "scatterpolar": [
           {
            "marker": {
             "colorbar": {
              "outlinewidth": 0,
              "ticks": ""
             }
            },
            "type": "scatterpolar"
           }
          ],
          "scatterpolargl": [
           {
            "marker": {
             "colorbar": {
              "outlinewidth": 0,
              "ticks": ""
             }
            },
            "type": "scatterpolargl"
           }
          ],
          "scatterternary": [
           {
            "marker": {
             "colorbar": {
              "outlinewidth": 0,
              "ticks": ""
             }
            },
            "type": "scatterternary"
           }
          ],
          "surface": [
           {
            "colorbar": {
             "outlinewidth": 0,
             "ticks": ""
            },
            "colorscale": [
             [
              0,
              "#0d0887"
             ],
             [
              0.1111111111111111,
              "#46039f"
             ],
             [
              0.2222222222222222,
              "#7201a8"
             ],
             [
              0.3333333333333333,
              "#9c179e"
             ],
             [
              0.4444444444444444,
              "#bd3786"
             ],
             [
              0.5555555555555556,
              "#d8576b"
             ],
             [
              0.6666666666666666,
              "#ed7953"
             ],
             [
              0.7777777777777778,
              "#fb9f3a"
             ],
             [
              0.8888888888888888,
              "#fdca26"
             ],
             [
              1,
              "#f0f921"
             ]
            ],
            "type": "surface"
           }
          ],
          "table": [
           {
            "cells": {
             "fill": {
              "color": "#EBF0F8"
             },
             "line": {
              "color": "white"
             }
            },
            "header": {
             "fill": {
              "color": "#C8D4E3"
             },
             "line": {
              "color": "white"
             }
            },
            "type": "table"
           }
          ]
         },
         "layout": {
          "annotationdefaults": {
           "arrowcolor": "#2a3f5f",
           "arrowhead": 0,
           "arrowwidth": 1
          },
          "autotypenumbers": "strict",
          "coloraxis": {
           "colorbar": {
            "outlinewidth": 0,
            "ticks": ""
           }
          },
          "colorscale": {
           "diverging": [
            [
             0,
             "#8e0152"
            ],
            [
             0.1,
             "#c51b7d"
            ],
            [
             0.2,
             "#de77ae"
            ],
            [
             0.3,
             "#f1b6da"
            ],
            [
             0.4,
             "#fde0ef"
            ],
            [
             0.5,
             "#f7f7f7"
            ],
            [
             0.6,
             "#e6f5d0"
            ],
            [
             0.7,
             "#b8e186"
            ],
            [
             0.8,
             "#7fbc41"
            ],
            [
             0.9,
             "#4d9221"
            ],
            [
             1,
             "#276419"
            ]
           ],
           "sequential": [
            [
             0,
             "#0d0887"
            ],
            [
             0.1111111111111111,
             "#46039f"
            ],
            [
             0.2222222222222222,
             "#7201a8"
            ],
            [
             0.3333333333333333,
             "#9c179e"
            ],
            [
             0.4444444444444444,
             "#bd3786"
            ],
            [
             0.5555555555555556,
             "#d8576b"
            ],
            [
             0.6666666666666666,
             "#ed7953"
            ],
            [
             0.7777777777777778,
             "#fb9f3a"
            ],
            [
             0.8888888888888888,
             "#fdca26"
            ],
            [
             1,
             "#f0f921"
            ]
           ],
           "sequentialminus": [
            [
             0,
             "#0d0887"
            ],
            [
             0.1111111111111111,
             "#46039f"
            ],
            [
             0.2222222222222222,
             "#7201a8"
            ],
            [
             0.3333333333333333,
             "#9c179e"
            ],
            [
             0.4444444444444444,
             "#bd3786"
            ],
            [
             0.5555555555555556,
             "#d8576b"
            ],
            [
             0.6666666666666666,
             "#ed7953"
            ],
            [
             0.7777777777777778,
             "#fb9f3a"
            ],
            [
             0.8888888888888888,
             "#fdca26"
            ],
            [
             1,
             "#f0f921"
            ]
           ]
          },
          "colorway": [
           "#636efa",
           "#EF553B",
           "#00cc96",
           "#ab63fa",
           "#FFA15A",
           "#19d3f3",
           "#FF6692",
           "#B6E880",
           "#FF97FF",
           "#FECB52"
          ],
          "font": {
           "color": "#2a3f5f"
          },
          "geo": {
           "bgcolor": "white",
           "lakecolor": "white",
           "landcolor": "#E5ECF6",
           "showlakes": true,
           "showland": true,
           "subunitcolor": "white"
          },
          "hoverlabel": {
           "align": "left"
          },
          "hovermode": "closest",
          "mapbox": {
           "style": "light"
          },
          "paper_bgcolor": "white",
          "plot_bgcolor": "#E5ECF6",
          "polar": {
           "angularaxis": {
            "gridcolor": "white",
            "linecolor": "white",
            "ticks": ""
           },
           "bgcolor": "#E5ECF6",
           "radialaxis": {
            "gridcolor": "white",
            "linecolor": "white",
            "ticks": ""
           }
          },
          "scene": {
           "xaxis": {
            "backgroundcolor": "#E5ECF6",
            "gridcolor": "white",
            "gridwidth": 2,
            "linecolor": "white",
            "showbackground": true,
            "ticks": "",
            "zerolinecolor": "white"
           },
           "yaxis": {
            "backgroundcolor": "#E5ECF6",
            "gridcolor": "white",
            "gridwidth": 2,
            "linecolor": "white",
            "showbackground": true,
            "ticks": "",
            "zerolinecolor": "white"
           },
           "zaxis": {
            "backgroundcolor": "#E5ECF6",
            "gridcolor": "white",
            "gridwidth": 2,
            "linecolor": "white",
            "showbackground": true,
            "ticks": "",
            "zerolinecolor": "white"
           }
          },
          "shapedefaults": {
           "line": {
            "color": "#2a3f5f"
           }
          },
          "ternary": {
           "aaxis": {
            "gridcolor": "white",
            "linecolor": "white",
            "ticks": ""
           },
           "baxis": {
            "gridcolor": "white",
            "linecolor": "white",
            "ticks": ""
           },
           "bgcolor": "#E5ECF6",
           "caxis": {
            "gridcolor": "white",
            "linecolor": "white",
            "ticks": ""
           }
          },
          "title": {
           "x": 0.05
          },
          "xaxis": {
           "automargin": true,
           "gridcolor": "white",
           "linecolor": "white",
           "ticks": "",
           "title": {
            "standoff": 15
           },
           "zerolinecolor": "white",
           "zerolinewidth": 2
          },
          "yaxis": {
           "automargin": true,
           "gridcolor": "white",
           "linecolor": "white",
           "ticks": "",
           "title": {
            "standoff": 15
           },
           "zerolinecolor": "white",
           "zerolinewidth": 2
          }
         }
        }
       }
      },
      "text/html": [
       "<div>                            <div id=\"973533f1-5b83-4763-98d6-3a3acbe6a492\" class=\"plotly-graph-div\" style=\"height:525px; width:100%;\"></div>            <script type=\"text/javascript\">                require([\"plotly\"], function(Plotly) {                    window.PLOTLYENV=window.PLOTLYENV || {};                                    if (document.getElementById(\"973533f1-5b83-4763-98d6-3a3acbe6a492\")) {                    Plotly.newPlot(                        \"973533f1-5b83-4763-98d6-3a3acbe6a492\",                        [{\"branchvalues\":\"total\",\"customdata\":[[183.9189189189189,145.64864864864865],[143.0,104.0],[155.72222222222223,108.77777777777777],[133.0,121.66666666666667],[189.43243243243242,134.59459459459458],[110.5,107.5],[170.63636363636363,129.3181818181818],[31.0,115.0],[234.84,146.48],[68.0,117.33333333333333],[179.8953488372093,136.37209302325581],[140.0,124.0],[128.42857142857142,126.71428571428571],[225.6184210526316,141.07894736842104],[120.5,116.25],[215.6904761904762,140.63690476190476],[48.0,114.0],[183.3119266055046,140.76146788990826],[121.0,164.0],[79.0,108.0],[118.0,119.66666666666667],[195.57142857142858,136.53571428571428],[154.6,150.4],[215.0,124.0],[233.80612244897958,146.48979591836735],[103.66666666666667,120.33333333333333],[170.0,141.0],[98.33333333333333,116.66666666666667],[263.5595238095238,152.41666666666666],[217.0,199.0],[214.57142857142858,174.14285714285714],[204.0,202.0],[\"(?)\",110.36363636363636],[\"(?)\",137.152],[\"(?)\",120.78571428571429],[\"(?)\",141.57667386609072],[\"(?)\",128.5],[\"(?)\",135.9],[\"(?)\",140.38715596330275]],\"domain\":{\"x\":[0.0,1.0],\"y\":[0.0,1.0]},\"hovertemplate\":\"labels=%{label}<br>class_counts=%{value}<br>parent=%{parent}<br>id=%{id}<br>ave_elo_bescods=%{customdata[0]}<br>ave_score_bescods=%{color}<extra></extra>\",\"ids\":[\"R1 Structures: Frequency and Overall Score for bescods/lab/ 0_m / 0_ts / 2_lab / 0_pi / 0_ac1 / 0_ac2\",\"R1 Structures: Frequency and Overall Score for bescods/PI/ 0_m / 1_ts / 0_lab / 1_pi / 0_ac1 / 0_ac2\",\"R1 Structures: Frequency and Overall Score for bescods/lab/ 0_m / 1_ts / 1_lab / 0_pi / 0_ac1 / 0_ac2\",\"R1 Structures: Frequency and Overall Score for bescods/ac2/ 1_m / 0_ts / 0_lab / 0_pi / 0_ac1 / 1_ac2\",\"R1 Structures: Frequency and Overall Score for bescods/ac1/ 1_m / 0_ts / 0_lab / 0_pi / 1_ac1 / 0_ac2\",\"R1 Structures: Frequency and Overall Score for bescods/PI/ 1_m / 0_ts / 0_lab / 1_pi / 0_ac1 / 0_ac2\",\"R1 Structures: Frequency and Overall Score for bescods/lab/ 1_m / 0_ts / 1_lab / 0_pi / 0_ac1 / 0_ac2\",\"R1 Structures: Frequency and Overall Score for bescods/ac2/ 1_m / 0_ts / 1_lab / 0_pi / 0_ac1 / 1_ac2\",\"R1 Structures: Frequency and Overall Score for bescods/lab/ 1_m / 0_ts / 2_lab / 0_pi / 0_ac1 / 0_ac2\",\"R1 Structures: Frequency and Overall Score for bescods/ac1/ 1_m / 1_ts / 0_lab / 0_pi / 1_ac1 / 0_ac2\",\"R1 Structures: Frequency and Overall Score for bescods/lab/ 1_m / 1_ts / 1_lab / 0_pi / 0_ac1 / 0_ac2\",\"R1 Structures: Frequency and Overall Score for bescods/lab/ 1_m / 2_ts / 1_lab / 0_pi / 0_ac1 / 0_ac2\",\"R1 Structures: Frequency and Overall Score for bescods/ac2/ 2_m / 0_ts / 0_lab / 0_pi / 0_ac1 / 1_ac2\",\"R1 Structures: Frequency and Overall Score for bescods/ac1/ 2_m / 0_ts / 0_lab / 0_pi / 1_ac1 / 0_ac2\",\"R1 Structures: Frequency and Overall Score for bescods/PI/ 2_m / 0_ts / 0_lab / 1_pi / 0_ac1 / 0_ac2\",\"R1 Structures: Frequency and Overall Score for bescods/lab/ 2_m / 0_ts / 1_lab / 0_pi / 0_ac1 / 0_ac2\",\"R1 Structures: Frequency and Overall Score for bescods/ts/ 2_m / 1_ts / 0_lab / 0_pi / 0_ac1 / 0_ac2\",\"R1 Structures: Frequency and Overall Score for bescods/lab/ 2_m / 1_ts / 1_lab / 0_pi / 0_ac1 / 0_ac2\",\"R1 Structures: Frequency and Overall Score for bescods/m/ 3_m / 0_ts / 0_lab / 0_pi / 0_ac1 / 0_ac2\",\"R1 Structures: Frequency and Overall Score for bescods/ac2/ 3_m / 0_ts / 0_lab / 0_pi / 0_ac1 / 1_ac2\",\"R1 Structures: Frequency and Overall Score for bescods/ac1/ 3_m / 0_ts / 0_lab / 0_pi / 1_ac1 / 0_ac2\",\"R1 Structures: Frequency and Overall Score for bescods/lab/ 3_m / 0_ts / 1_lab / 0_pi / 0_ac1 / 0_ac2\",\"R1 Structures: Frequency and Overall Score for bescods/lab/ 3_m / 1_ts / 1_lab / 0_pi / 0_ac1 / 0_ac2\",\"R1 Structures: Frequency and Overall Score for bescods/ac1/ 4_m / 0_ts / 0_lab / 0_pi / 1_ac1 / 0_ac2\",\"R1 Structures: Frequency and Overall Score for bescods/lab/ 4_m / 0_ts / 1_lab / 0_pi / 0_ac1 / 0_ac2\",\"R1 Structures: Frequency and Overall Score for bescods/ts/ 4_m / 1_ts / 0_lab / 0_pi / 0_ac1 / 0_ac2\",\"R1 Structures: Frequency and Overall Score for bescods/ts/ 4_m / 2_ts / 0_lab / 0_pi / 0_ac1 / 0_ac2\",\"R1 Structures: Frequency and Overall Score for bescods/m/ 5_m / 0_ts / 0_lab / 0_pi / 0_ac1 / 0_ac2\",\"R1 Structures: Frequency and Overall Score for bescods/lab/ 5_m / 0_ts / 1_lab / 0_pi / 0_ac1 / 0_ac2\",\"R1 Structures: Frequency and Overall Score for bescods/ts/ 5_m / 1_ts / 0_lab / 0_pi / 0_ac1 / 0_ac2\",\"R1 Structures: Frequency and Overall Score for bescods/lab/ 6_m / 0_ts / 1_lab / 0_pi / 0_ac1 / 0_ac2\",\"R1 Structures: Frequency and Overall Score for bescods/ts/ 6_m / 1_ts / 0_lab / 0_pi / 0_ac1 / 0_ac2\",\"R1 Structures: Frequency and Overall Score for bescods/PI\",\"R1 Structures: Frequency and Overall Score for bescods/ac1\",\"R1 Structures: Frequency and Overall Score for bescods/ac2\",\"R1 Structures: Frequency and Overall Score for bescods/lab\",\"R1 Structures: Frequency and Overall Score for bescods/m\",\"R1 Structures: Frequency and Overall Score for bescods/ts\",\"R1 Structures: Frequency and Overall Score for bescods\"],\"labels\":[\" 0_m / 0_ts / 2_lab / 0_pi / 0_ac1 / 0_ac2\",\" 0_m / 1_ts / 0_lab / 1_pi / 0_ac1 / 0_ac2\",\" 0_m / 1_ts / 1_lab / 0_pi / 0_ac1 / 0_ac2\",\" 1_m / 0_ts / 0_lab / 0_pi / 0_ac1 / 1_ac2\",\" 1_m / 0_ts / 0_lab / 0_pi / 1_ac1 / 0_ac2\",\" 1_m / 0_ts / 0_lab / 1_pi / 0_ac1 / 0_ac2\",\" 1_m / 0_ts / 1_lab / 0_pi / 0_ac1 / 0_ac2\",\" 1_m / 0_ts / 1_lab / 0_pi / 0_ac1 / 1_ac2\",\" 1_m / 0_ts / 2_lab / 0_pi / 0_ac1 / 0_ac2\",\" 1_m / 1_ts / 0_lab / 0_pi / 1_ac1 / 0_ac2\",\" 1_m / 1_ts / 1_lab / 0_pi / 0_ac1 / 0_ac2\",\" 1_m / 2_ts / 1_lab / 0_pi / 0_ac1 / 0_ac2\",\" 2_m / 0_ts / 0_lab / 0_pi / 0_ac1 / 1_ac2\",\" 2_m / 0_ts / 0_lab / 0_pi / 1_ac1 / 0_ac2\",\" 2_m / 0_ts / 0_lab / 1_pi / 0_ac1 / 0_ac2\",\" 2_m / 0_ts / 1_lab / 0_pi / 0_ac1 / 0_ac2\",\" 2_m / 1_ts / 0_lab / 0_pi / 0_ac1 / 0_ac2\",\" 2_m / 1_ts / 1_lab / 0_pi / 0_ac1 / 0_ac2\",\" 3_m / 0_ts / 0_lab / 0_pi / 0_ac1 / 0_ac2\",\" 3_m / 0_ts / 0_lab / 0_pi / 0_ac1 / 1_ac2\",\" 3_m / 0_ts / 0_lab / 0_pi / 1_ac1 / 0_ac2\",\" 3_m / 0_ts / 1_lab / 0_pi / 0_ac1 / 0_ac2\",\" 3_m / 1_ts / 1_lab / 0_pi / 0_ac1 / 0_ac2\",\" 4_m / 0_ts / 0_lab / 0_pi / 1_ac1 / 0_ac2\",\" 4_m / 0_ts / 1_lab / 0_pi / 0_ac1 / 0_ac2\",\" 4_m / 1_ts / 0_lab / 0_pi / 0_ac1 / 0_ac2\",\" 4_m / 2_ts / 0_lab / 0_pi / 0_ac1 / 0_ac2\",\" 5_m / 0_ts / 0_lab / 0_pi / 0_ac1 / 0_ac2\",\" 5_m / 0_ts / 1_lab / 0_pi / 0_ac1 / 0_ac2\",\" 5_m / 1_ts / 0_lab / 0_pi / 0_ac1 / 0_ac2\",\" 6_m / 0_ts / 1_lab / 0_pi / 0_ac1 / 0_ac2\",\" 6_m / 1_ts / 0_lab / 0_pi / 0_ac1 / 0_ac2\",\"PI\",\"ac1\",\"ac2\",\"lab\",\"m\",\"ts\",\"R1 Structures: Frequency and Overall Score for bescods\"],\"marker\":{\"coloraxis\":\"coloraxis\",\"colors\":[145.64864864864865,104.0,108.77777777777777,121.66666666666667,134.59459459459458,107.5,129.3181818181818,115.0,146.48,117.33333333333333,136.37209302325581,124.0,126.71428571428571,141.07894736842104,116.25,140.63690476190476,114.0,140.76146788990826,164.0,108.0,119.66666666666667,136.53571428571428,150.4,124.0,146.48979591836735,120.33333333333333,141.0,116.66666666666667,152.41666666666666,199.0,174.14285714285714,202.0,110.36363636363636,137.152,120.78571428571429,141.57667386609072,128.5,135.9,140.38715596330275]},\"name\":\"\",\"parents\":[\"R1 Structures: Frequency and Overall Score for bescods/lab\",\"R1 Structures: Frequency and Overall Score for bescods/PI\",\"R1 Structures: Frequency and Overall Score for bescods/lab\",\"R1 Structures: Frequency and Overall Score for bescods/ac2\",\"R1 Structures: Frequency and Overall Score for bescods/ac1\",\"R1 Structures: Frequency and Overall Score for bescods/PI\",\"R1 Structures: Frequency and Overall Score for bescods/lab\",\"R1 Structures: Frequency and Overall Score for bescods/ac2\",\"R1 Structures: Frequency and Overall Score for bescods/lab\",\"R1 Structures: Frequency and Overall Score for bescods/ac1\",\"R1 Structures: Frequency and Overall Score for bescods/lab\",\"R1 Structures: Frequency and Overall Score for bescods/lab\",\"R1 Structures: Frequency and Overall Score for bescods/ac2\",\"R1 Structures: Frequency and Overall Score for bescods/ac1\",\"R1 Structures: Frequency and Overall Score for bescods/PI\",\"R1 Structures: Frequency and Overall Score for bescods/lab\",\"R1 Structures: Frequency and Overall Score for bescods/ts\",\"R1 Structures: Frequency and Overall Score for bescods/lab\",\"R1 Structures: Frequency and Overall Score for bescods/m\",\"R1 Structures: Frequency and Overall Score for bescods/ac2\",\"R1 Structures: Frequency and Overall Score for bescods/ac1\",\"R1 Structures: Frequency and Overall Score for bescods/lab\",\"R1 Structures: Frequency and Overall Score for bescods/lab\",\"R1 Structures: Frequency and Overall Score for bescods/ac1\",\"R1 Structures: Frequency and Overall Score for bescods/lab\",\"R1 Structures: Frequency and Overall Score for bescods/ts\",\"R1 Structures: Frequency and Overall Score for bescods/ts\",\"R1 Structures: Frequency and Overall Score for bescods/m\",\"R1 Structures: Frequency and Overall Score for bescods/lab\",\"R1 Structures: Frequency and Overall Score for bescods/ts\",\"R1 Structures: Frequency and Overall Score for bescods/lab\",\"R1 Structures: Frequency and Overall Score for bescods/ts\",\"R1 Structures: Frequency and Overall Score for bescods\",\"R1 Structures: Frequency and Overall Score for bescods\",\"R1 Structures: Frequency and Overall Score for bescods\",\"R1 Structures: Frequency and Overall Score for bescods\",\"R1 Structures: Frequency and Overall Score for bescods\",\"R1 Structures: Frequency and Overall Score for bescods\",\"\"],\"values\":[37,1,18,3,37,6,22,1,25,3,86,1,7,76,4,168,4,109,1,3,6,168,5,3,196,3,1,3,84,1,7,1,11,125,14,926,4,10,1090],\"type\":\"treemap\"}],                        {\"template\":{\"data\":{\"bar\":[{\"error_x\":{\"color\":\"#2a3f5f\"},\"error_y\":{\"color\":\"#2a3f5f\"},\"marker\":{\"line\":{\"color\":\"#E5ECF6\",\"width\":0.5},\"pattern\":{\"fillmode\":\"overlay\",\"size\":10,\"solidity\":0.2}},\"type\":\"bar\"}],\"barpolar\":[{\"marker\":{\"line\":{\"color\":\"#E5ECF6\",\"width\":0.5},\"pattern\":{\"fillmode\":\"overlay\",\"size\":10,\"solidity\":0.2}},\"type\":\"barpolar\"}],\"carpet\":[{\"aaxis\":{\"endlinecolor\":\"#2a3f5f\",\"gridcolor\":\"white\",\"linecolor\":\"white\",\"minorgridcolor\":\"white\",\"startlinecolor\":\"#2a3f5f\"},\"baxis\":{\"endlinecolor\":\"#2a3f5f\",\"gridcolor\":\"white\",\"linecolor\":\"white\",\"minorgridcolor\":\"white\",\"startlinecolor\":\"#2a3f5f\"},\"type\":\"carpet\"}],\"choropleth\":[{\"colorbar\":{\"outlinewidth\":0,\"ticks\":\"\"},\"type\":\"choropleth\"}],\"contour\":[{\"colorbar\":{\"outlinewidth\":0,\"ticks\":\"\"},\"colorscale\":[[0.0,\"#0d0887\"],[0.1111111111111111,\"#46039f\"],[0.2222222222222222,\"#7201a8\"],[0.3333333333333333,\"#9c179e\"],[0.4444444444444444,\"#bd3786\"],[0.5555555555555556,\"#d8576b\"],[0.6666666666666666,\"#ed7953\"],[0.7777777777777778,\"#fb9f3a\"],[0.8888888888888888,\"#fdca26\"],[1.0,\"#f0f921\"]],\"type\":\"contour\"}],\"contourcarpet\":[{\"colorbar\":{\"outlinewidth\":0,\"ticks\":\"\"},\"type\":\"contourcarpet\"}],\"heatmap\":[{\"colorbar\":{\"outlinewidth\":0,\"ticks\":\"\"},\"colorscale\":[[0.0,\"#0d0887\"],[0.1111111111111111,\"#46039f\"],[0.2222222222222222,\"#7201a8\"],[0.3333333333333333,\"#9c179e\"],[0.4444444444444444,\"#bd3786\"],[0.5555555555555556,\"#d8576b\"],[0.6666666666666666,\"#ed7953\"],[0.7777777777777778,\"#fb9f3a\"],[0.8888888888888888,\"#fdca26\"],[1.0,\"#f0f921\"]],\"type\":\"heatmap\"}],\"heatmapgl\":[{\"colorbar\":{\"outlinewidth\":0,\"ticks\":\"\"},\"colorscale\":[[0.0,\"#0d0887\"],[0.1111111111111111,\"#46039f\"],[0.2222222222222222,\"#7201a8\"],[0.3333333333333333,\"#9c179e\"],[0.4444444444444444,\"#bd3786\"],[0.5555555555555556,\"#d8576b\"],[0.6666666666666666,\"#ed7953\"],[0.7777777777777778,\"#fb9f3a\"],[0.8888888888888888,\"#fdca26\"],[1.0,\"#f0f921\"]],\"type\":\"heatmapgl\"}],\"histogram\":[{\"marker\":{\"pattern\":{\"fillmode\":\"overlay\",\"size\":10,\"solidity\":0.2}},\"type\":\"histogram\"}],\"histogram2d\":[{\"colorbar\":{\"outlinewidth\":0,\"ticks\":\"\"},\"colorscale\":[[0.0,\"#0d0887\"],[0.1111111111111111,\"#46039f\"],[0.2222222222222222,\"#7201a8\"],[0.3333333333333333,\"#9c179e\"],[0.4444444444444444,\"#bd3786\"],[0.5555555555555556,\"#d8576b\"],[0.6666666666666666,\"#ed7953\"],[0.7777777777777778,\"#fb9f3a\"],[0.8888888888888888,\"#fdca26\"],[1.0,\"#f0f921\"]],\"type\":\"histogram2d\"}],\"histogram2dcontour\":[{\"colorbar\":{\"outlinewidth\":0,\"ticks\":\"\"},\"colorscale\":[[0.0,\"#0d0887\"],[0.1111111111111111,\"#46039f\"],[0.2222222222222222,\"#7201a8\"],[0.3333333333333333,\"#9c179e\"],[0.4444444444444444,\"#bd3786\"],[0.5555555555555556,\"#d8576b\"],[0.6666666666666666,\"#ed7953\"],[0.7777777777777778,\"#fb9f3a\"],[0.8888888888888888,\"#fdca26\"],[1.0,\"#f0f921\"]],\"type\":\"histogram2dcontour\"}],\"mesh3d\":[{\"colorbar\":{\"outlinewidth\":0,\"ticks\":\"\"},\"type\":\"mesh3d\"}],\"parcoords\":[{\"line\":{\"colorbar\":{\"outlinewidth\":0,\"ticks\":\"\"}},\"type\":\"parcoords\"}],\"pie\":[{\"automargin\":true,\"type\":\"pie\"}],\"scatter\":[{\"marker\":{\"colorbar\":{\"outlinewidth\":0,\"ticks\":\"\"}},\"type\":\"scatter\"}],\"scatter3d\":[{\"line\":{\"colorbar\":{\"outlinewidth\":0,\"ticks\":\"\"}},\"marker\":{\"colorbar\":{\"outlinewidth\":0,\"ticks\":\"\"}},\"type\":\"scatter3d\"}],\"scattercarpet\":[{\"marker\":{\"colorbar\":{\"outlinewidth\":0,\"ticks\":\"\"}},\"type\":\"scattercarpet\"}],\"scattergeo\":[{\"marker\":{\"colorbar\":{\"outlinewidth\":0,\"ticks\":\"\"}},\"type\":\"scattergeo\"}],\"scattergl\":[{\"marker\":{\"colorbar\":{\"outlinewidth\":0,\"ticks\":\"\"}},\"type\":\"scattergl\"}],\"scattermapbox\":[{\"marker\":{\"colorbar\":{\"outlinewidth\":0,\"ticks\":\"\"}},\"type\":\"scattermapbox\"}],\"scatterpolar\":[{\"marker\":{\"colorbar\":{\"outlinewidth\":0,\"ticks\":\"\"}},\"type\":\"scatterpolar\"}],\"scatterpolargl\":[{\"marker\":{\"colorbar\":{\"outlinewidth\":0,\"ticks\":\"\"}},\"type\":\"scatterpolargl\"}],\"scatterternary\":[{\"marker\":{\"colorbar\":{\"outlinewidth\":0,\"ticks\":\"\"}},\"type\":\"scatterternary\"}],\"surface\":[{\"colorbar\":{\"outlinewidth\":0,\"ticks\":\"\"},\"colorscale\":[[0.0,\"#0d0887\"],[0.1111111111111111,\"#46039f\"],[0.2222222222222222,\"#7201a8\"],[0.3333333333333333,\"#9c179e\"],[0.4444444444444444,\"#bd3786\"],[0.5555555555555556,\"#d8576b\"],[0.6666666666666666,\"#ed7953\"],[0.7777777777777778,\"#fb9f3a\"],[0.8888888888888888,\"#fdca26\"],[1.0,\"#f0f921\"]],\"type\":\"surface\"}],\"table\":[{\"cells\":{\"fill\":{\"color\":\"#EBF0F8\"},\"line\":{\"color\":\"white\"}},\"header\":{\"fill\":{\"color\":\"#C8D4E3\"},\"line\":{\"color\":\"white\"}},\"type\":\"table\"}]},\"layout\":{\"annotationdefaults\":{\"arrowcolor\":\"#2a3f5f\",\"arrowhead\":0,\"arrowwidth\":1},\"autotypenumbers\":\"strict\",\"coloraxis\":{\"colorbar\":{\"outlinewidth\":0,\"ticks\":\"\"}},\"colorscale\":{\"diverging\":[[0,\"#8e0152\"],[0.1,\"#c51b7d\"],[0.2,\"#de77ae\"],[0.3,\"#f1b6da\"],[0.4,\"#fde0ef\"],[0.5,\"#f7f7f7\"],[0.6,\"#e6f5d0\"],[0.7,\"#b8e186\"],[0.8,\"#7fbc41\"],[0.9,\"#4d9221\"],[1,\"#276419\"]],\"sequential\":[[0.0,\"#0d0887\"],[0.1111111111111111,\"#46039f\"],[0.2222222222222222,\"#7201a8\"],[0.3333333333333333,\"#9c179e\"],[0.4444444444444444,\"#bd3786\"],[0.5555555555555556,\"#d8576b\"],[0.6666666666666666,\"#ed7953\"],[0.7777777777777778,\"#fb9f3a\"],[0.8888888888888888,\"#fdca26\"],[1.0,\"#f0f921\"]],\"sequentialminus\":[[0.0,\"#0d0887\"],[0.1111111111111111,\"#46039f\"],[0.2222222222222222,\"#7201a8\"],[0.3333333333333333,\"#9c179e\"],[0.4444444444444444,\"#bd3786\"],[0.5555555555555556,\"#d8576b\"],[0.6666666666666666,\"#ed7953\"],[0.7777777777777778,\"#fb9f3a\"],[0.8888888888888888,\"#fdca26\"],[1.0,\"#f0f921\"]]},\"colorway\":[\"#636efa\",\"#EF553B\",\"#00cc96\",\"#ab63fa\",\"#FFA15A\",\"#19d3f3\",\"#FF6692\",\"#B6E880\",\"#FF97FF\",\"#FECB52\"],\"font\":{\"color\":\"#2a3f5f\"},\"geo\":{\"bgcolor\":\"white\",\"lakecolor\":\"white\",\"landcolor\":\"#E5ECF6\",\"showlakes\":true,\"showland\":true,\"subunitcolor\":\"white\"},\"hoverlabel\":{\"align\":\"left\"},\"hovermode\":\"closest\",\"mapbox\":{\"style\":\"light\"},\"paper_bgcolor\":\"white\",\"plot_bgcolor\":\"#E5ECF6\",\"polar\":{\"angularaxis\":{\"gridcolor\":\"white\",\"linecolor\":\"white\",\"ticks\":\"\"},\"bgcolor\":\"#E5ECF6\",\"radialaxis\":{\"gridcolor\":\"white\",\"linecolor\":\"white\",\"ticks\":\"\"}},\"scene\":{\"xaxis\":{\"backgroundcolor\":\"#E5ECF6\",\"gridcolor\":\"white\",\"gridwidth\":2,\"linecolor\":\"white\",\"showbackground\":true,\"ticks\":\"\",\"zerolinecolor\":\"white\"},\"yaxis\":{\"backgroundcolor\":\"#E5ECF6\",\"gridcolor\":\"white\",\"gridwidth\":2,\"linecolor\":\"white\",\"showbackground\":true,\"ticks\":\"\",\"zerolinecolor\":\"white\"},\"zaxis\":{\"backgroundcolor\":\"#E5ECF6\",\"gridcolor\":\"white\",\"gridwidth\":2,\"linecolor\":\"white\",\"showbackground\":true,\"ticks\":\"\",\"zerolinecolor\":\"white\"}},\"shapedefaults\":{\"line\":{\"color\":\"#2a3f5f\"}},\"ternary\":{\"aaxis\":{\"gridcolor\":\"white\",\"linecolor\":\"white\",\"ticks\":\"\"},\"baxis\":{\"gridcolor\":\"white\",\"linecolor\":\"white\",\"ticks\":\"\"},\"bgcolor\":\"#E5ECF6\",\"caxis\":{\"gridcolor\":\"white\",\"linecolor\":\"white\",\"ticks\":\"\"}},\"title\":{\"x\":0.05},\"xaxis\":{\"automargin\":true,\"gridcolor\":\"white\",\"linecolor\":\"white\",\"ticks\":\"\",\"title\":{\"standoff\":15},\"zerolinecolor\":\"white\",\"zerolinewidth\":2},\"yaxis\":{\"automargin\":true,\"gridcolor\":\"white\",\"linecolor\":\"white\",\"ticks\":\"\",\"title\":{\"standoff\":15},\"zerolinecolor\":\"white\",\"zerolinewidth\":2}}},\"coloraxis\":{\"colorbar\":{\"title\":{\"text\":\"ave_score_bescods\"}},\"colorscale\":[[0.0,\"rgb(103,0,31)\"],[0.1,\"rgb(178,24,43)\"],[0.2,\"rgb(214,96,77)\"],[0.3,\"rgb(244,165,130)\"],[0.4,\"rgb(253,219,199)\"],[0.5,\"rgb(247,247,247)\"],[0.6,\"rgb(209,229,240)\"],[0.7,\"rgb(146,197,222)\"],[0.8,\"rgb(67,147,195)\"],[0.9,\"rgb(33,102,172)\"],[1.0,\"rgb(5,48,97)\"]],\"cmid\":144.30885882929329},\"legend\":{\"tracegroupgap\":0},\"margin\":{\"t\":50,\"l\":25,\"r\":25,\"b\":25}},                        {\"responsive\": true}                    ).then(function(){\n",
       "                            \n",
       "var gd = document.getElementById('973533f1-5b83-4763-98d6-3a3acbe6a492');\n",
       "var x = new MutationObserver(function (mutations, observer) {{\n",
       "        var display = window.getComputedStyle(gd).display;\n",
       "        if (!display || display === 'none') {{\n",
       "            console.log([gd, 'removed!']);\n",
       "            Plotly.purge(gd);\n",
       "            observer.disconnect();\n",
       "        }}\n",
       "}});\n",
       "\n",
       "// Listen for the removal of the full notebook cells\n",
       "var notebookContainer = gd.closest('#notebook-container');\n",
       "if (notebookContainer) {{\n",
       "    x.observe(notebookContainer, {childList: true});\n",
       "}}\n",
       "\n",
       "// Listen for the clearing of the current output cell\n",
       "var outputEl = gd.closest('.output');\n",
       "if (outputEl) {{\n",
       "    x.observe(outputEl, {childList: true});\n",
       "}}\n",
       "\n",
       "                        })                };                });            </script>        </div>"
      ]
     },
     "metadata": {},
     "output_type": "display_data"
    },
    {
     "data": {
      "application/vnd.plotly.v1+json": {
       "config": {
        "plotlyServerURL": "https://plot.ly"
       },
       "data": [
        {
         "branchvalues": "total",
         "customdata": [
          [
           183.31645569620252,
           145.0126582278481
          ],
          [
           59.166666666666664,
           115.83333333333333
          ],
          [
           155.27906976744185,
           128.11627906976744
          ],
          [
           170,
           139.47058823529412
          ],
          [
           128,
           133
          ],
          [
           102.5,
           103
          ],
          [
           176.5,
           152
          ],
          [
           246.95145631067962,
           152.74757281553397
          ],
          [
           157.7843137254902,
           140.75816993464053
          ],
          [
           167.06976744186048,
           131.13953488372093
          ],
          [
           203.16666666666666,
           136
          ],
          [
           218,
           134.16666666666666
          ],
          [
           198.32758620689654,
           145.8793103448276
          ],
          [
           183.58064516129033,
           143.51612903225808
          ],
          [
           181.5,
           123
          ],
          [
           234.61363636363637,
           153.45454545454547
          ],
          [
           214.96246648793564,
           148.81501340482575
          ],
          [
           188.95652173913044,
           141.41545893719805
          ],
          [
           212,
           147.76470588235293
          ],
          [
           210.40366972477065,
           149.54128440366972
          ],
          [
           122.5,
           107.25
          ],
          [
           188.76363636363635,
           150.65454545454546
          ],
          [
           185.1359223300971,
           144.76699029126215
          ],
          [
           277,
           149
          ],
          [
           0,
           107.25
          ],
          [
           243.2,
           174.6
          ],
          [
           237.96396396396398,
           157.59459459459458
          ],
          [
           228.75,
           171.41666666666666
          ],
          [
           "(?)",
           146.64469178082192
          ],
          [
           "(?)",
           152.9591836734694
          ],
          [
           176.5,
           152
          ],
          [
           "(?)",
           145.61061946902655
          ],
          [
           0,
           107.25
          ],
          [
           "(?)",
           110.125
          ],
          [
           "(?)",
           146.5445495271279
          ]
         ],
         "domain": {
          "x": [
           0,
           1
          ],
          "y": [
           0,
           1
          ]
         },
         "hovertemplate": "labels=%{label}<br>class_counts=%{value}<br>parent=%{parent}<br>id=%{id}<br>ave_elo_terrans=%{customdata[0]}<br>ave_score_terrans=%{color}<extra></extra>",
         "ids": [
          "R1 Structures: Frequency and Overall Score for terrans/PI/ 0_m / 0_ts / 1_lab / 1_pi / 0_ac1 / 0_ac2",
          "R1 Structures: Frequency and Overall Score for terrans/lab/ 0_m / 0_ts / 2_lab / 0_pi / 0_ac1 / 0_ac2",
          "R1 Structures: Frequency and Overall Score for terrans/PI/ 0_m / 1_ts / 0_lab / 1_pi / 0_ac1 / 0_ac2",
          "R1 Structures: Frequency and Overall Score for terrans/lab/ 0_m / 1_ts / 1_lab / 0_pi / 0_ac1 / 0_ac2",
          "R1 Structures: Frequency and Overall Score for terrans/lab/ 0_m / 2_ts / 1_lab / 0_pi / 0_ac1 / 0_ac2",
          "R1 Structures: Frequency and Overall Score for terrans/ts/ 0_m / 3_ts / 0_lab / 0_pi / 0_ac1 / 0_ac2",
          "R1 Structures: Frequency and Overall Score for terrans/ac2/ 1_m / 0_ts / 0_lab / 0_pi / 0_ac1 / 1_ac2",
          "R1 Structures: Frequency and Overall Score for terrans/ac1/ 1_m / 0_ts / 0_lab / 0_pi / 1_ac1 / 0_ac2",
          "R1 Structures: Frequency and Overall Score for terrans/PI/ 1_m / 0_ts / 0_lab / 1_pi / 0_ac1 / 0_ac2",
          "R1 Structures: Frequency and Overall Score for terrans/lab/ 1_m / 0_ts / 1_lab / 0_pi / 0_ac1 / 0_ac2",
          "R1 Structures: Frequency and Overall Score for terrans/PI/ 1_m / 0_ts / 1_lab / 1_pi / 0_ac1 / 0_ac2",
          "R1 Structures: Frequency and Overall Score for terrans/lab/ 1_m / 0_ts / 2_lab / 0_pi / 0_ac1 / 0_ac2",
          "R1 Structures: Frequency and Overall Score for terrans/PI/ 1_m / 1_ts / 0_lab / 1_pi / 0_ac1 / 0_ac2",
          "R1 Structures: Frequency and Overall Score for terrans/lab/ 1_m / 1_ts / 1_lab / 0_pi / 0_ac1 / 0_ac2",
          "R1 Structures: Frequency and Overall Score for terrans/ts/ 1_m / 2_ts / 0_lab / 0_pi / 0_ac1 / 0_ac2",
          "R1 Structures: Frequency and Overall Score for terrans/ac1/ 2_m / 0_ts / 0_lab / 0_pi / 1_ac1 / 0_ac2",
          "R1 Structures: Frequency and Overall Score for terrans/PI/ 2_m / 0_ts / 0_lab / 1_pi / 0_ac1 / 0_ac2",
          "R1 Structures: Frequency and Overall Score for terrans/lab/ 2_m / 0_ts / 1_lab / 0_pi / 0_ac1 / 0_ac2",
          "R1 Structures: Frequency and Overall Score for terrans/PI/ 2_m / 1_ts / 0_lab / 1_pi / 0_ac1 / 0_ac2",
          "R1 Structures: Frequency and Overall Score for terrans/lab/ 2_m / 1_ts / 1_lab / 0_pi / 0_ac1 / 0_ac2",
          "R1 Structures: Frequency and Overall Score for terrans/ts/ 2_m / 2_ts / 0_lab / 0_pi / 0_ac1 / 0_ac2",
          "R1 Structures: Frequency and Overall Score for terrans/PI/ 3_m / 0_ts / 0_lab / 1_pi / 0_ac1 / 0_ac2",
          "R1 Structures: Frequency and Overall Score for terrans/lab/ 3_m / 0_ts / 1_lab / 0_pi / 0_ac1 / 0_ac2",
          "R1 Structures: Frequency and Overall Score for terrans/lab/ 3_m / 1_ts / 1_lab / 0_pi / 0_ac1 / 0_ac2",
          "R1 Structures: Frequency and Overall Score for terrans/m/ 4_m / 0_ts / 0_lab / 0_pi / 0_ac1 / 0_ac2",
          "R1 Structures: Frequency and Overall Score for terrans/PI/ 4_m / 0_ts / 0_lab / 1_pi / 0_ac1 / 0_ac2",
          "R1 Structures: Frequency and Overall Score for terrans/lab/ 4_m / 0_ts / 1_lab / 0_pi / 0_ac1 / 0_ac2",
          "R1 Structures: Frequency and Overall Score for terrans/lab/ 5_m / 0_ts / 1_lab / 0_pi / 0_ac1 / 0_ac2",
          "R1 Structures: Frequency and Overall Score for terrans/PI",
          "R1 Structures: Frequency and Overall Score for terrans/ac1",
          "R1 Structures: Frequency and Overall Score for terrans/ac2",
          "R1 Structures: Frequency and Overall Score for terrans/lab",
          "R1 Structures: Frequency and Overall Score for terrans/m",
          "R1 Structures: Frequency and Overall Score for terrans/ts",
          "R1 Structures: Frequency and Overall Score for terrans"
         ],
         "labels": [
          " 0_m / 0_ts / 1_lab / 1_pi / 0_ac1 / 0_ac2",
          " 0_m / 0_ts / 2_lab / 0_pi / 0_ac1 / 0_ac2",
          " 0_m / 1_ts / 0_lab / 1_pi / 0_ac1 / 0_ac2",
          " 0_m / 1_ts / 1_lab / 0_pi / 0_ac1 / 0_ac2",
          " 0_m / 2_ts / 1_lab / 0_pi / 0_ac1 / 0_ac2",
          " 0_m / 3_ts / 0_lab / 0_pi / 0_ac1 / 0_ac2",
          " 1_m / 0_ts / 0_lab / 0_pi / 0_ac1 / 1_ac2",
          " 1_m / 0_ts / 0_lab / 0_pi / 1_ac1 / 0_ac2",
          " 1_m / 0_ts / 0_lab / 1_pi / 0_ac1 / 0_ac2",
          " 1_m / 0_ts / 1_lab / 0_pi / 0_ac1 / 0_ac2",
          " 1_m / 0_ts / 1_lab / 1_pi / 0_ac1 / 0_ac2",
          " 1_m / 0_ts / 2_lab / 0_pi / 0_ac1 / 0_ac2",
          " 1_m / 1_ts / 0_lab / 1_pi / 0_ac1 / 0_ac2",
          " 1_m / 1_ts / 1_lab / 0_pi / 0_ac1 / 0_ac2",
          " 1_m / 2_ts / 0_lab / 0_pi / 0_ac1 / 0_ac2",
          " 2_m / 0_ts / 0_lab / 0_pi / 1_ac1 / 0_ac2",
          " 2_m / 0_ts / 0_lab / 1_pi / 0_ac1 / 0_ac2",
          " 2_m / 0_ts / 1_lab / 0_pi / 0_ac1 / 0_ac2",
          " 2_m / 1_ts / 0_lab / 1_pi / 0_ac1 / 0_ac2",
          " 2_m / 1_ts / 1_lab / 0_pi / 0_ac1 / 0_ac2",
          " 2_m / 2_ts / 0_lab / 0_pi / 0_ac1 / 0_ac2",
          " 3_m / 0_ts / 0_lab / 1_pi / 0_ac1 / 0_ac2",
          " 3_m / 0_ts / 1_lab / 0_pi / 0_ac1 / 0_ac2",
          " 3_m / 1_ts / 1_lab / 0_pi / 0_ac1 / 0_ac2",
          " 4_m / 0_ts / 0_lab / 0_pi / 0_ac1 / 0_ac2",
          " 4_m / 0_ts / 0_lab / 1_pi / 0_ac1 / 0_ac2",
          " 4_m / 0_ts / 1_lab / 0_pi / 0_ac1 / 0_ac2",
          " 5_m / 0_ts / 1_lab / 0_pi / 0_ac1 / 0_ac2",
          "PI",
          "ac1",
          "ac2",
          "lab",
          "m",
          "ts",
          "R1 Structures: Frequency and Overall Score for terrans"
         ],
         "marker": {
          "coloraxis": "coloraxis",
          "colors": [
           145.0126582278481,
           115.83333333333333,
           128.11627906976744,
           139.47058823529412,
           133,
           103,
           152,
           152.74757281553397,
           140.75816993464053,
           131.13953488372093,
           136,
           134.16666666666666,
           145.8793103448276,
           143.51612903225808,
           123,
           153.45454545454547,
           148.81501340482575,
           141.41545893719805,
           147.76470588235293,
           149.54128440366972,
           107.25,
           150.65454545454546,
           144.76699029126215,
           149,
           107.25,
           174.6,
           157.59459459459458,
           171.41666666666666,
           146.64469178082192,
           152.9591836734694,
           152,
           145.61061946902655,
           107.25,
           110.125,
           146.5445495271279
          ]
         },
         "name": "",
         "parents": [
          "R1 Structures: Frequency and Overall Score for terrans/PI",
          "R1 Structures: Frequency and Overall Score for terrans/lab",
          "R1 Structures: Frequency and Overall Score for terrans/PI",
          "R1 Structures: Frequency and Overall Score for terrans/lab",
          "R1 Structures: Frequency and Overall Score for terrans/lab",
          "R1 Structures: Frequency and Overall Score for terrans/ts",
          "R1 Structures: Frequency and Overall Score for terrans/ac2",
          "R1 Structures: Frequency and Overall Score for terrans/ac1",
          "R1 Structures: Frequency and Overall Score for terrans/PI",
          "R1 Structures: Frequency and Overall Score for terrans/lab",
          "R1 Structures: Frequency and Overall Score for terrans/PI",
          "R1 Structures: Frequency and Overall Score for terrans/lab",
          "R1 Structures: Frequency and Overall Score for terrans/PI",
          "R1 Structures: Frequency and Overall Score for terrans/lab",
          "R1 Structures: Frequency and Overall Score for terrans/ts",
          "R1 Structures: Frequency and Overall Score for terrans/ac1",
          "R1 Structures: Frequency and Overall Score for terrans/PI",
          "R1 Structures: Frequency and Overall Score for terrans/lab",
          "R1 Structures: Frequency and Overall Score for terrans/PI",
          "R1 Structures: Frequency and Overall Score for terrans/lab",
          "R1 Structures: Frequency and Overall Score for terrans/ts",
          "R1 Structures: Frequency and Overall Score for terrans/PI",
          "R1 Structures: Frequency and Overall Score for terrans/lab",
          "R1 Structures: Frequency and Overall Score for terrans/lab",
          "R1 Structures: Frequency and Overall Score for terrans/m",
          "R1 Structures: Frequency and Overall Score for terrans/PI",
          "R1 Structures: Frequency and Overall Score for terrans/lab",
          "R1 Structures: Frequency and Overall Score for terrans/lab",
          "R1 Structures: Frequency and Overall Score for terrans",
          "R1 Structures: Frequency and Overall Score for terrans",
          "R1 Structures: Frequency and Overall Score for terrans",
          "R1 Structures: Frequency and Overall Score for terrans",
          "R1 Structures: Frequency and Overall Score for terrans",
          "R1 Structures: Frequency and Overall Score for terrans",
          ""
         ],
         "type": "treemap",
         "values": [
          79,
          6,
          43,
          17,
          1,
          2,
          4,
          103,
          153,
          43,
          12,
          6,
          58,
          62,
          2,
          44,
          746,
          207,
          17,
          109,
          4,
          55,
          103,
          1,
          4,
          5,
          111,
          12,
          1168,
          147,
          4,
          678,
          4,
          8,
          2009
         ]
        }
       ],
       "layout": {
        "coloraxis": {
         "cmid": 144.30885882929329,
         "colorbar": {
          "title": {
           "text": "ave_score_terrans"
          }
         },
         "colorscale": [
          [
           0,
           "rgb(103,0,31)"
          ],
          [
           0.1,
           "rgb(178,24,43)"
          ],
          [
           0.2,
           "rgb(214,96,77)"
          ],
          [
           0.3,
           "rgb(244,165,130)"
          ],
          [
           0.4,
           "rgb(253,219,199)"
          ],
          [
           0.5,
           "rgb(247,247,247)"
          ],
          [
           0.6,
           "rgb(209,229,240)"
          ],
          [
           0.7,
           "rgb(146,197,222)"
          ],
          [
           0.8,
           "rgb(67,147,195)"
          ],
          [
           0.9,
           "rgb(33,102,172)"
          ],
          [
           1,
           "rgb(5,48,97)"
          ]
         ]
        },
        "legend": {
         "tracegroupgap": 0
        },
        "margin": {
         "b": 25,
         "l": 25,
         "r": 25,
         "t": 50
        },
        "template": {
         "data": {
          "bar": [
           {
            "error_x": {
             "color": "#2a3f5f"
            },
            "error_y": {
             "color": "#2a3f5f"
            },
            "marker": {
             "line": {
              "color": "#E5ECF6",
              "width": 0.5
             },
             "pattern": {
              "fillmode": "overlay",
              "size": 10,
              "solidity": 0.2
             }
            },
            "type": "bar"
           }
          ],
          "barpolar": [
           {
            "marker": {
             "line": {
              "color": "#E5ECF6",
              "width": 0.5
             },
             "pattern": {
              "fillmode": "overlay",
              "size": 10,
              "solidity": 0.2
             }
            },
            "type": "barpolar"
           }
          ],
          "carpet": [
           {
            "aaxis": {
             "endlinecolor": "#2a3f5f",
             "gridcolor": "white",
             "linecolor": "white",
             "minorgridcolor": "white",
             "startlinecolor": "#2a3f5f"
            },
            "baxis": {
             "endlinecolor": "#2a3f5f",
             "gridcolor": "white",
             "linecolor": "white",
             "minorgridcolor": "white",
             "startlinecolor": "#2a3f5f"
            },
            "type": "carpet"
           }
          ],
          "choropleth": [
           {
            "colorbar": {
             "outlinewidth": 0,
             "ticks": ""
            },
            "type": "choropleth"
           }
          ],
          "contour": [
           {
            "colorbar": {
             "outlinewidth": 0,
             "ticks": ""
            },
            "colorscale": [
             [
              0,
              "#0d0887"
             ],
             [
              0.1111111111111111,
              "#46039f"
             ],
             [
              0.2222222222222222,
              "#7201a8"
             ],
             [
              0.3333333333333333,
              "#9c179e"
             ],
             [
              0.4444444444444444,
              "#bd3786"
             ],
             [
              0.5555555555555556,
              "#d8576b"
             ],
             [
              0.6666666666666666,
              "#ed7953"
             ],
             [
              0.7777777777777778,
              "#fb9f3a"
             ],
             [
              0.8888888888888888,
              "#fdca26"
             ],
             [
              1,
              "#f0f921"
             ]
            ],
            "type": "contour"
           }
          ],
          "contourcarpet": [
           {
            "colorbar": {
             "outlinewidth": 0,
             "ticks": ""
            },
            "type": "contourcarpet"
           }
          ],
          "heatmap": [
           {
            "colorbar": {
             "outlinewidth": 0,
             "ticks": ""
            },
            "colorscale": [
             [
              0,
              "#0d0887"
             ],
             [
              0.1111111111111111,
              "#46039f"
             ],
             [
              0.2222222222222222,
              "#7201a8"
             ],
             [
              0.3333333333333333,
              "#9c179e"
             ],
             [
              0.4444444444444444,
              "#bd3786"
             ],
             [
              0.5555555555555556,
              "#d8576b"
             ],
             [
              0.6666666666666666,
              "#ed7953"
             ],
             [
              0.7777777777777778,
              "#fb9f3a"
             ],
             [
              0.8888888888888888,
              "#fdca26"
             ],
             [
              1,
              "#f0f921"
             ]
            ],
            "type": "heatmap"
           }
          ],
          "heatmapgl": [
           {
            "colorbar": {
             "outlinewidth": 0,
             "ticks": ""
            },
            "colorscale": [
             [
              0,
              "#0d0887"
             ],
             [
              0.1111111111111111,
              "#46039f"
             ],
             [
              0.2222222222222222,
              "#7201a8"
             ],
             [
              0.3333333333333333,
              "#9c179e"
             ],
             [
              0.4444444444444444,
              "#bd3786"
             ],
             [
              0.5555555555555556,
              "#d8576b"
             ],
             [
              0.6666666666666666,
              "#ed7953"
             ],
             [
              0.7777777777777778,
              "#fb9f3a"
             ],
             [
              0.8888888888888888,
              "#fdca26"
             ],
             [
              1,
              "#f0f921"
             ]
            ],
            "type": "heatmapgl"
           }
          ],
          "histogram": [
           {
            "marker": {
             "pattern": {
              "fillmode": "overlay",
              "size": 10,
              "solidity": 0.2
             }
            },
            "type": "histogram"
           }
          ],
          "histogram2d": [
           {
            "colorbar": {
             "outlinewidth": 0,
             "ticks": ""
            },
            "colorscale": [
             [
              0,
              "#0d0887"
             ],
             [
              0.1111111111111111,
              "#46039f"
             ],
             [
              0.2222222222222222,
              "#7201a8"
             ],
             [
              0.3333333333333333,
              "#9c179e"
             ],
             [
              0.4444444444444444,
              "#bd3786"
             ],
             [
              0.5555555555555556,
              "#d8576b"
             ],
             [
              0.6666666666666666,
              "#ed7953"
             ],
             [
              0.7777777777777778,
              "#fb9f3a"
             ],
             [
              0.8888888888888888,
              "#fdca26"
             ],
             [
              1,
              "#f0f921"
             ]
            ],
            "type": "histogram2d"
           }
          ],
          "histogram2dcontour": [
           {
            "colorbar": {
             "outlinewidth": 0,
             "ticks": ""
            },
            "colorscale": [
             [
              0,
              "#0d0887"
             ],
             [
              0.1111111111111111,
              "#46039f"
             ],
             [
              0.2222222222222222,
              "#7201a8"
             ],
             [
              0.3333333333333333,
              "#9c179e"
             ],
             [
              0.4444444444444444,
              "#bd3786"
             ],
             [
              0.5555555555555556,
              "#d8576b"
             ],
             [
              0.6666666666666666,
              "#ed7953"
             ],
             [
              0.7777777777777778,
              "#fb9f3a"
             ],
             [
              0.8888888888888888,
              "#fdca26"
             ],
             [
              1,
              "#f0f921"
             ]
            ],
            "type": "histogram2dcontour"
           }
          ],
          "mesh3d": [
           {
            "colorbar": {
             "outlinewidth": 0,
             "ticks": ""
            },
            "type": "mesh3d"
           }
          ],
          "parcoords": [
           {
            "line": {
             "colorbar": {
              "outlinewidth": 0,
              "ticks": ""
             }
            },
            "type": "parcoords"
           }
          ],
          "pie": [
           {
            "automargin": true,
            "type": "pie"
           }
          ],
          "scatter": [
           {
            "marker": {
             "colorbar": {
              "outlinewidth": 0,
              "ticks": ""
             }
            },
            "type": "scatter"
           }
          ],
          "scatter3d": [
           {
            "line": {
             "colorbar": {
              "outlinewidth": 0,
              "ticks": ""
             }
            },
            "marker": {
             "colorbar": {
              "outlinewidth": 0,
              "ticks": ""
             }
            },
            "type": "scatter3d"
           }
          ],
          "scattercarpet": [
           {
            "marker": {
             "colorbar": {
              "outlinewidth": 0,
              "ticks": ""
             }
            },
            "type": "scattercarpet"
           }
          ],
          "scattergeo": [
           {
            "marker": {
             "colorbar": {
              "outlinewidth": 0,
              "ticks": ""
             }
            },
            "type": "scattergeo"
           }
          ],
          "scattergl": [
           {
            "marker": {
             "colorbar": {
              "outlinewidth": 0,
              "ticks": ""
             }
            },
            "type": "scattergl"
           }
          ],
          "scattermapbox": [
           {
            "marker": {
             "colorbar": {
              "outlinewidth": 0,
              "ticks": ""
             }
            },
            "type": "scattermapbox"
           }
          ],
          "scatterpolar": [
           {
            "marker": {
             "colorbar": {
              "outlinewidth": 0,
              "ticks": ""
             }
            },
            "type": "scatterpolar"
           }
          ],
          "scatterpolargl": [
           {
            "marker": {
             "colorbar": {
              "outlinewidth": 0,
              "ticks": ""
             }
            },
            "type": "scatterpolargl"
           }
          ],
          "scatterternary": [
           {
            "marker": {
             "colorbar": {
              "outlinewidth": 0,
              "ticks": ""
             }
            },
            "type": "scatterternary"
           }
          ],
          "surface": [
           {
            "colorbar": {
             "outlinewidth": 0,
             "ticks": ""
            },
            "colorscale": [
             [
              0,
              "#0d0887"
             ],
             [
              0.1111111111111111,
              "#46039f"
             ],
             [
              0.2222222222222222,
              "#7201a8"
             ],
             [
              0.3333333333333333,
              "#9c179e"
             ],
             [
              0.4444444444444444,
              "#bd3786"
             ],
             [
              0.5555555555555556,
              "#d8576b"
             ],
             [
              0.6666666666666666,
              "#ed7953"
             ],
             [
              0.7777777777777778,
              "#fb9f3a"
             ],
             [
              0.8888888888888888,
              "#fdca26"
             ],
             [
              1,
              "#f0f921"
             ]
            ],
            "type": "surface"
           }
          ],
          "table": [
           {
            "cells": {
             "fill": {
              "color": "#EBF0F8"
             },
             "line": {
              "color": "white"
             }
            },
            "header": {
             "fill": {
              "color": "#C8D4E3"
             },
             "line": {
              "color": "white"
             }
            },
            "type": "table"
           }
          ]
         },
         "layout": {
          "annotationdefaults": {
           "arrowcolor": "#2a3f5f",
           "arrowhead": 0,
           "arrowwidth": 1
          },
          "autotypenumbers": "strict",
          "coloraxis": {
           "colorbar": {
            "outlinewidth": 0,
            "ticks": ""
           }
          },
          "colorscale": {
           "diverging": [
            [
             0,
             "#8e0152"
            ],
            [
             0.1,
             "#c51b7d"
            ],
            [
             0.2,
             "#de77ae"
            ],
            [
             0.3,
             "#f1b6da"
            ],
            [
             0.4,
             "#fde0ef"
            ],
            [
             0.5,
             "#f7f7f7"
            ],
            [
             0.6,
             "#e6f5d0"
            ],
            [
             0.7,
             "#b8e186"
            ],
            [
             0.8,
             "#7fbc41"
            ],
            [
             0.9,
             "#4d9221"
            ],
            [
             1,
             "#276419"
            ]
           ],
           "sequential": [
            [
             0,
             "#0d0887"
            ],
            [
             0.1111111111111111,
             "#46039f"
            ],
            [
             0.2222222222222222,
             "#7201a8"
            ],
            [
             0.3333333333333333,
             "#9c179e"
            ],
            [
             0.4444444444444444,
             "#bd3786"
            ],
            [
             0.5555555555555556,
             "#d8576b"
            ],
            [
             0.6666666666666666,
             "#ed7953"
            ],
            [
             0.7777777777777778,
             "#fb9f3a"
            ],
            [
             0.8888888888888888,
             "#fdca26"
            ],
            [
             1,
             "#f0f921"
            ]
           ],
           "sequentialminus": [
            [
             0,
             "#0d0887"
            ],
            [
             0.1111111111111111,
             "#46039f"
            ],
            [
             0.2222222222222222,
             "#7201a8"
            ],
            [
             0.3333333333333333,
             "#9c179e"
            ],
            [
             0.4444444444444444,
             "#bd3786"
            ],
            [
             0.5555555555555556,
             "#d8576b"
            ],
            [
             0.6666666666666666,
             "#ed7953"
            ],
            [
             0.7777777777777778,
             "#fb9f3a"
            ],
            [
             0.8888888888888888,
             "#fdca26"
            ],
            [
             1,
             "#f0f921"
            ]
           ]
          },
          "colorway": [
           "#636efa",
           "#EF553B",
           "#00cc96",
           "#ab63fa",
           "#FFA15A",
           "#19d3f3",
           "#FF6692",
           "#B6E880",
           "#FF97FF",
           "#FECB52"
          ],
          "font": {
           "color": "#2a3f5f"
          },
          "geo": {
           "bgcolor": "white",
           "lakecolor": "white",
           "landcolor": "#E5ECF6",
           "showlakes": true,
           "showland": true,
           "subunitcolor": "white"
          },
          "hoverlabel": {
           "align": "left"
          },
          "hovermode": "closest",
          "mapbox": {
           "style": "light"
          },
          "paper_bgcolor": "white",
          "plot_bgcolor": "#E5ECF6",
          "polar": {
           "angularaxis": {
            "gridcolor": "white",
            "linecolor": "white",
            "ticks": ""
           },
           "bgcolor": "#E5ECF6",
           "radialaxis": {
            "gridcolor": "white",
            "linecolor": "white",
            "ticks": ""
           }
          },
          "scene": {
           "xaxis": {
            "backgroundcolor": "#E5ECF6",
            "gridcolor": "white",
            "gridwidth": 2,
            "linecolor": "white",
            "showbackground": true,
            "ticks": "",
            "zerolinecolor": "white"
           },
           "yaxis": {
            "backgroundcolor": "#E5ECF6",
            "gridcolor": "white",
            "gridwidth": 2,
            "linecolor": "white",
            "showbackground": true,
            "ticks": "",
            "zerolinecolor": "white"
           },
           "zaxis": {
            "backgroundcolor": "#E5ECF6",
            "gridcolor": "white",
            "gridwidth": 2,
            "linecolor": "white",
            "showbackground": true,
            "ticks": "",
            "zerolinecolor": "white"
           }
          },
          "shapedefaults": {
           "line": {
            "color": "#2a3f5f"
           }
          },
          "ternary": {
           "aaxis": {
            "gridcolor": "white",
            "linecolor": "white",
            "ticks": ""
           },
           "baxis": {
            "gridcolor": "white",
            "linecolor": "white",
            "ticks": ""
           },
           "bgcolor": "#E5ECF6",
           "caxis": {
            "gridcolor": "white",
            "linecolor": "white",
            "ticks": ""
           }
          },
          "title": {
           "x": 0.05
          },
          "xaxis": {
           "automargin": true,
           "gridcolor": "white",
           "linecolor": "white",
           "ticks": "",
           "title": {
            "standoff": 15
           },
           "zerolinecolor": "white",
           "zerolinewidth": 2
          },
          "yaxis": {
           "automargin": true,
           "gridcolor": "white",
           "linecolor": "white",
           "ticks": "",
           "title": {
            "standoff": 15
           },
           "zerolinecolor": "white",
           "zerolinewidth": 2
          }
         }
        }
       }
      },
      "text/html": [
       "<div>                            <div id=\"c241d014-fa37-433c-a8b5-65c8bc83d6b9\" class=\"plotly-graph-div\" style=\"height:525px; width:100%;\"></div>            <script type=\"text/javascript\">                require([\"plotly\"], function(Plotly) {                    window.PLOTLYENV=window.PLOTLYENV || {};                                    if (document.getElementById(\"c241d014-fa37-433c-a8b5-65c8bc83d6b9\")) {                    Plotly.newPlot(                        \"c241d014-fa37-433c-a8b5-65c8bc83d6b9\",                        [{\"branchvalues\":\"total\",\"customdata\":[[183.31645569620252,145.0126582278481],[59.166666666666664,115.83333333333333],[155.27906976744185,128.11627906976744],[170.0,139.47058823529412],[128.0,133.0],[102.5,103.0],[176.5,152.0],[246.95145631067962,152.74757281553397],[157.7843137254902,140.75816993464053],[167.06976744186048,131.13953488372093],[203.16666666666666,136.0],[218.0,134.16666666666666],[198.32758620689654,145.8793103448276],[183.58064516129033,143.51612903225808],[181.5,123.0],[234.61363636363637,153.45454545454547],[214.96246648793564,148.81501340482575],[188.95652173913044,141.41545893719805],[212.0,147.76470588235293],[210.40366972477065,149.54128440366972],[122.5,107.25],[188.76363636363635,150.65454545454546],[185.1359223300971,144.76699029126215],[277.0,149.0],[0.0,107.25],[243.2,174.6],[237.96396396396398,157.59459459459458],[228.75,171.41666666666666],[\"(?)\",146.64469178082192],[\"(?)\",152.9591836734694],[176.5,152.0],[\"(?)\",145.61061946902655],[0.0,107.25],[\"(?)\",110.125],[\"(?)\",146.5445495271279]],\"domain\":{\"x\":[0.0,1.0],\"y\":[0.0,1.0]},\"hovertemplate\":\"labels=%{label}<br>class_counts=%{value}<br>parent=%{parent}<br>id=%{id}<br>ave_elo_terrans=%{customdata[0]}<br>ave_score_terrans=%{color}<extra></extra>\",\"ids\":[\"R1 Structures: Frequency and Overall Score for terrans/PI/ 0_m / 0_ts / 1_lab / 1_pi / 0_ac1 / 0_ac2\",\"R1 Structures: Frequency and Overall Score for terrans/lab/ 0_m / 0_ts / 2_lab / 0_pi / 0_ac1 / 0_ac2\",\"R1 Structures: Frequency and Overall Score for terrans/PI/ 0_m / 1_ts / 0_lab / 1_pi / 0_ac1 / 0_ac2\",\"R1 Structures: Frequency and Overall Score for terrans/lab/ 0_m / 1_ts / 1_lab / 0_pi / 0_ac1 / 0_ac2\",\"R1 Structures: Frequency and Overall Score for terrans/lab/ 0_m / 2_ts / 1_lab / 0_pi / 0_ac1 / 0_ac2\",\"R1 Structures: Frequency and Overall Score for terrans/ts/ 0_m / 3_ts / 0_lab / 0_pi / 0_ac1 / 0_ac2\",\"R1 Structures: Frequency and Overall Score for terrans/ac2/ 1_m / 0_ts / 0_lab / 0_pi / 0_ac1 / 1_ac2\",\"R1 Structures: Frequency and Overall Score for terrans/ac1/ 1_m / 0_ts / 0_lab / 0_pi / 1_ac1 / 0_ac2\",\"R1 Structures: Frequency and Overall Score for terrans/PI/ 1_m / 0_ts / 0_lab / 1_pi / 0_ac1 / 0_ac2\",\"R1 Structures: Frequency and Overall Score for terrans/lab/ 1_m / 0_ts / 1_lab / 0_pi / 0_ac1 / 0_ac2\",\"R1 Structures: Frequency and Overall Score for terrans/PI/ 1_m / 0_ts / 1_lab / 1_pi / 0_ac1 / 0_ac2\",\"R1 Structures: Frequency and Overall Score for terrans/lab/ 1_m / 0_ts / 2_lab / 0_pi / 0_ac1 / 0_ac2\",\"R1 Structures: Frequency and Overall Score for terrans/PI/ 1_m / 1_ts / 0_lab / 1_pi / 0_ac1 / 0_ac2\",\"R1 Structures: Frequency and Overall Score for terrans/lab/ 1_m / 1_ts / 1_lab / 0_pi / 0_ac1 / 0_ac2\",\"R1 Structures: Frequency and Overall Score for terrans/ts/ 1_m / 2_ts / 0_lab / 0_pi / 0_ac1 / 0_ac2\",\"R1 Structures: Frequency and Overall Score for terrans/ac1/ 2_m / 0_ts / 0_lab / 0_pi / 1_ac1 / 0_ac2\",\"R1 Structures: Frequency and Overall Score for terrans/PI/ 2_m / 0_ts / 0_lab / 1_pi / 0_ac1 / 0_ac2\",\"R1 Structures: Frequency and Overall Score for terrans/lab/ 2_m / 0_ts / 1_lab / 0_pi / 0_ac1 / 0_ac2\",\"R1 Structures: Frequency and Overall Score for terrans/PI/ 2_m / 1_ts / 0_lab / 1_pi / 0_ac1 / 0_ac2\",\"R1 Structures: Frequency and Overall Score for terrans/lab/ 2_m / 1_ts / 1_lab / 0_pi / 0_ac1 / 0_ac2\",\"R1 Structures: Frequency and Overall Score for terrans/ts/ 2_m / 2_ts / 0_lab / 0_pi / 0_ac1 / 0_ac2\",\"R1 Structures: Frequency and Overall Score for terrans/PI/ 3_m / 0_ts / 0_lab / 1_pi / 0_ac1 / 0_ac2\",\"R1 Structures: Frequency and Overall Score for terrans/lab/ 3_m / 0_ts / 1_lab / 0_pi / 0_ac1 / 0_ac2\",\"R1 Structures: Frequency and Overall Score for terrans/lab/ 3_m / 1_ts / 1_lab / 0_pi / 0_ac1 / 0_ac2\",\"R1 Structures: Frequency and Overall Score for terrans/m/ 4_m / 0_ts / 0_lab / 0_pi / 0_ac1 / 0_ac2\",\"R1 Structures: Frequency and Overall Score for terrans/PI/ 4_m / 0_ts / 0_lab / 1_pi / 0_ac1 / 0_ac2\",\"R1 Structures: Frequency and Overall Score for terrans/lab/ 4_m / 0_ts / 1_lab / 0_pi / 0_ac1 / 0_ac2\",\"R1 Structures: Frequency and Overall Score for terrans/lab/ 5_m / 0_ts / 1_lab / 0_pi / 0_ac1 / 0_ac2\",\"R1 Structures: Frequency and Overall Score for terrans/PI\",\"R1 Structures: Frequency and Overall Score for terrans/ac1\",\"R1 Structures: Frequency and Overall Score for terrans/ac2\",\"R1 Structures: Frequency and Overall Score for terrans/lab\",\"R1 Structures: Frequency and Overall Score for terrans/m\",\"R1 Structures: Frequency and Overall Score for terrans/ts\",\"R1 Structures: Frequency and Overall Score for terrans\"],\"labels\":[\" 0_m / 0_ts / 1_lab / 1_pi / 0_ac1 / 0_ac2\",\" 0_m / 0_ts / 2_lab / 0_pi / 0_ac1 / 0_ac2\",\" 0_m / 1_ts / 0_lab / 1_pi / 0_ac1 / 0_ac2\",\" 0_m / 1_ts / 1_lab / 0_pi / 0_ac1 / 0_ac2\",\" 0_m / 2_ts / 1_lab / 0_pi / 0_ac1 / 0_ac2\",\" 0_m / 3_ts / 0_lab / 0_pi / 0_ac1 / 0_ac2\",\" 1_m / 0_ts / 0_lab / 0_pi / 0_ac1 / 1_ac2\",\" 1_m / 0_ts / 0_lab / 0_pi / 1_ac1 / 0_ac2\",\" 1_m / 0_ts / 0_lab / 1_pi / 0_ac1 / 0_ac2\",\" 1_m / 0_ts / 1_lab / 0_pi / 0_ac1 / 0_ac2\",\" 1_m / 0_ts / 1_lab / 1_pi / 0_ac1 / 0_ac2\",\" 1_m / 0_ts / 2_lab / 0_pi / 0_ac1 / 0_ac2\",\" 1_m / 1_ts / 0_lab / 1_pi / 0_ac1 / 0_ac2\",\" 1_m / 1_ts / 1_lab / 0_pi / 0_ac1 / 0_ac2\",\" 1_m / 2_ts / 0_lab / 0_pi / 0_ac1 / 0_ac2\",\" 2_m / 0_ts / 0_lab / 0_pi / 1_ac1 / 0_ac2\",\" 2_m / 0_ts / 0_lab / 1_pi / 0_ac1 / 0_ac2\",\" 2_m / 0_ts / 1_lab / 0_pi / 0_ac1 / 0_ac2\",\" 2_m / 1_ts / 0_lab / 1_pi / 0_ac1 / 0_ac2\",\" 2_m / 1_ts / 1_lab / 0_pi / 0_ac1 / 0_ac2\",\" 2_m / 2_ts / 0_lab / 0_pi / 0_ac1 / 0_ac2\",\" 3_m / 0_ts / 0_lab / 1_pi / 0_ac1 / 0_ac2\",\" 3_m / 0_ts / 1_lab / 0_pi / 0_ac1 / 0_ac2\",\" 3_m / 1_ts / 1_lab / 0_pi / 0_ac1 / 0_ac2\",\" 4_m / 0_ts / 0_lab / 0_pi / 0_ac1 / 0_ac2\",\" 4_m / 0_ts / 0_lab / 1_pi / 0_ac1 / 0_ac2\",\" 4_m / 0_ts / 1_lab / 0_pi / 0_ac1 / 0_ac2\",\" 5_m / 0_ts / 1_lab / 0_pi / 0_ac1 / 0_ac2\",\"PI\",\"ac1\",\"ac2\",\"lab\",\"m\",\"ts\",\"R1 Structures: Frequency and Overall Score for terrans\"],\"marker\":{\"coloraxis\":\"coloraxis\",\"colors\":[145.0126582278481,115.83333333333333,128.11627906976744,139.47058823529412,133.0,103.0,152.0,152.74757281553397,140.75816993464053,131.13953488372093,136.0,134.16666666666666,145.8793103448276,143.51612903225808,123.0,153.45454545454547,148.81501340482575,141.41545893719805,147.76470588235293,149.54128440366972,107.25,150.65454545454546,144.76699029126215,149.0,107.25,174.6,157.59459459459458,171.41666666666666,146.64469178082192,152.9591836734694,152.0,145.61061946902655,107.25,110.125,146.5445495271279]},\"name\":\"\",\"parents\":[\"R1 Structures: Frequency and Overall Score for terrans/PI\",\"R1 Structures: Frequency and Overall Score for terrans/lab\",\"R1 Structures: Frequency and Overall Score for terrans/PI\",\"R1 Structures: Frequency and Overall Score for terrans/lab\",\"R1 Structures: Frequency and Overall Score for terrans/lab\",\"R1 Structures: Frequency and Overall Score for terrans/ts\",\"R1 Structures: Frequency and Overall Score for terrans/ac2\",\"R1 Structures: Frequency and Overall Score for terrans/ac1\",\"R1 Structures: Frequency and Overall Score for terrans/PI\",\"R1 Structures: Frequency and Overall Score for terrans/lab\",\"R1 Structures: Frequency and Overall Score for terrans/PI\",\"R1 Structures: Frequency and Overall Score for terrans/lab\",\"R1 Structures: Frequency and Overall Score for terrans/PI\",\"R1 Structures: Frequency and Overall Score for terrans/lab\",\"R1 Structures: Frequency and Overall Score for terrans/ts\",\"R1 Structures: Frequency and Overall Score for terrans/ac1\",\"R1 Structures: Frequency and Overall Score for terrans/PI\",\"R1 Structures: Frequency and Overall Score for terrans/lab\",\"R1 Structures: Frequency and Overall Score for terrans/PI\",\"R1 Structures: Frequency and Overall Score for terrans/lab\",\"R1 Structures: Frequency and Overall Score for terrans/ts\",\"R1 Structures: Frequency and Overall Score for terrans/PI\",\"R1 Structures: Frequency and Overall Score for terrans/lab\",\"R1 Structures: Frequency and Overall Score for terrans/lab\",\"R1 Structures: Frequency and Overall Score for terrans/m\",\"R1 Structures: Frequency and Overall Score for terrans/PI\",\"R1 Structures: Frequency and Overall Score for terrans/lab\",\"R1 Structures: Frequency and Overall Score for terrans/lab\",\"R1 Structures: Frequency and Overall Score for terrans\",\"R1 Structures: Frequency and Overall Score for terrans\",\"R1 Structures: Frequency and Overall Score for terrans\",\"R1 Structures: Frequency and Overall Score for terrans\",\"R1 Structures: Frequency and Overall Score for terrans\",\"R1 Structures: Frequency and Overall Score for terrans\",\"\"],\"values\":[79,6,43,17,1,2,4,103,153,43,12,6,58,62,2,44,746,207,17,109,4,55,103,1,4,5,111,12,1168,147,4,678,4,8,2009],\"type\":\"treemap\"}],                        {\"template\":{\"data\":{\"bar\":[{\"error_x\":{\"color\":\"#2a3f5f\"},\"error_y\":{\"color\":\"#2a3f5f\"},\"marker\":{\"line\":{\"color\":\"#E5ECF6\",\"width\":0.5},\"pattern\":{\"fillmode\":\"overlay\",\"size\":10,\"solidity\":0.2}},\"type\":\"bar\"}],\"barpolar\":[{\"marker\":{\"line\":{\"color\":\"#E5ECF6\",\"width\":0.5},\"pattern\":{\"fillmode\":\"overlay\",\"size\":10,\"solidity\":0.2}},\"type\":\"barpolar\"}],\"carpet\":[{\"aaxis\":{\"endlinecolor\":\"#2a3f5f\",\"gridcolor\":\"white\",\"linecolor\":\"white\",\"minorgridcolor\":\"white\",\"startlinecolor\":\"#2a3f5f\"},\"baxis\":{\"endlinecolor\":\"#2a3f5f\",\"gridcolor\":\"white\",\"linecolor\":\"white\",\"minorgridcolor\":\"white\",\"startlinecolor\":\"#2a3f5f\"},\"type\":\"carpet\"}],\"choropleth\":[{\"colorbar\":{\"outlinewidth\":0,\"ticks\":\"\"},\"type\":\"choropleth\"}],\"contour\":[{\"colorbar\":{\"outlinewidth\":0,\"ticks\":\"\"},\"colorscale\":[[0.0,\"#0d0887\"],[0.1111111111111111,\"#46039f\"],[0.2222222222222222,\"#7201a8\"],[0.3333333333333333,\"#9c179e\"],[0.4444444444444444,\"#bd3786\"],[0.5555555555555556,\"#d8576b\"],[0.6666666666666666,\"#ed7953\"],[0.7777777777777778,\"#fb9f3a\"],[0.8888888888888888,\"#fdca26\"],[1.0,\"#f0f921\"]],\"type\":\"contour\"}],\"contourcarpet\":[{\"colorbar\":{\"outlinewidth\":0,\"ticks\":\"\"},\"type\":\"contourcarpet\"}],\"heatmap\":[{\"colorbar\":{\"outlinewidth\":0,\"ticks\":\"\"},\"colorscale\":[[0.0,\"#0d0887\"],[0.1111111111111111,\"#46039f\"],[0.2222222222222222,\"#7201a8\"],[0.3333333333333333,\"#9c179e\"],[0.4444444444444444,\"#bd3786\"],[0.5555555555555556,\"#d8576b\"],[0.6666666666666666,\"#ed7953\"],[0.7777777777777778,\"#fb9f3a\"],[0.8888888888888888,\"#fdca26\"],[1.0,\"#f0f921\"]],\"type\":\"heatmap\"}],\"heatmapgl\":[{\"colorbar\":{\"outlinewidth\":0,\"ticks\":\"\"},\"colorscale\":[[0.0,\"#0d0887\"],[0.1111111111111111,\"#46039f\"],[0.2222222222222222,\"#7201a8\"],[0.3333333333333333,\"#9c179e\"],[0.4444444444444444,\"#bd3786\"],[0.5555555555555556,\"#d8576b\"],[0.6666666666666666,\"#ed7953\"],[0.7777777777777778,\"#fb9f3a\"],[0.8888888888888888,\"#fdca26\"],[1.0,\"#f0f921\"]],\"type\":\"heatmapgl\"}],\"histogram\":[{\"marker\":{\"pattern\":{\"fillmode\":\"overlay\",\"size\":10,\"solidity\":0.2}},\"type\":\"histogram\"}],\"histogram2d\":[{\"colorbar\":{\"outlinewidth\":0,\"ticks\":\"\"},\"colorscale\":[[0.0,\"#0d0887\"],[0.1111111111111111,\"#46039f\"],[0.2222222222222222,\"#7201a8\"],[0.3333333333333333,\"#9c179e\"],[0.4444444444444444,\"#bd3786\"],[0.5555555555555556,\"#d8576b\"],[0.6666666666666666,\"#ed7953\"],[0.7777777777777778,\"#fb9f3a\"],[0.8888888888888888,\"#fdca26\"],[1.0,\"#f0f921\"]],\"type\":\"histogram2d\"}],\"histogram2dcontour\":[{\"colorbar\":{\"outlinewidth\":0,\"ticks\":\"\"},\"colorscale\":[[0.0,\"#0d0887\"],[0.1111111111111111,\"#46039f\"],[0.2222222222222222,\"#7201a8\"],[0.3333333333333333,\"#9c179e\"],[0.4444444444444444,\"#bd3786\"],[0.5555555555555556,\"#d8576b\"],[0.6666666666666666,\"#ed7953\"],[0.7777777777777778,\"#fb9f3a\"],[0.8888888888888888,\"#fdca26\"],[1.0,\"#f0f921\"]],\"type\":\"histogram2dcontour\"}],\"mesh3d\":[{\"colorbar\":{\"outlinewidth\":0,\"ticks\":\"\"},\"type\":\"mesh3d\"}],\"parcoords\":[{\"line\":{\"colorbar\":{\"outlinewidth\":0,\"ticks\":\"\"}},\"type\":\"parcoords\"}],\"pie\":[{\"automargin\":true,\"type\":\"pie\"}],\"scatter\":[{\"marker\":{\"colorbar\":{\"outlinewidth\":0,\"ticks\":\"\"}},\"type\":\"scatter\"}],\"scatter3d\":[{\"line\":{\"colorbar\":{\"outlinewidth\":0,\"ticks\":\"\"}},\"marker\":{\"colorbar\":{\"outlinewidth\":0,\"ticks\":\"\"}},\"type\":\"scatter3d\"}],\"scattercarpet\":[{\"marker\":{\"colorbar\":{\"outlinewidth\":0,\"ticks\":\"\"}},\"type\":\"scattercarpet\"}],\"scattergeo\":[{\"marker\":{\"colorbar\":{\"outlinewidth\":0,\"ticks\":\"\"}},\"type\":\"scattergeo\"}],\"scattergl\":[{\"marker\":{\"colorbar\":{\"outlinewidth\":0,\"ticks\":\"\"}},\"type\":\"scattergl\"}],\"scattermapbox\":[{\"marker\":{\"colorbar\":{\"outlinewidth\":0,\"ticks\":\"\"}},\"type\":\"scattermapbox\"}],\"scatterpolar\":[{\"marker\":{\"colorbar\":{\"outlinewidth\":0,\"ticks\":\"\"}},\"type\":\"scatterpolar\"}],\"scatterpolargl\":[{\"marker\":{\"colorbar\":{\"outlinewidth\":0,\"ticks\":\"\"}},\"type\":\"scatterpolargl\"}],\"scatterternary\":[{\"marker\":{\"colorbar\":{\"outlinewidth\":0,\"ticks\":\"\"}},\"type\":\"scatterternary\"}],\"surface\":[{\"colorbar\":{\"outlinewidth\":0,\"ticks\":\"\"},\"colorscale\":[[0.0,\"#0d0887\"],[0.1111111111111111,\"#46039f\"],[0.2222222222222222,\"#7201a8\"],[0.3333333333333333,\"#9c179e\"],[0.4444444444444444,\"#bd3786\"],[0.5555555555555556,\"#d8576b\"],[0.6666666666666666,\"#ed7953\"],[0.7777777777777778,\"#fb9f3a\"],[0.8888888888888888,\"#fdca26\"],[1.0,\"#f0f921\"]],\"type\":\"surface\"}],\"table\":[{\"cells\":{\"fill\":{\"color\":\"#EBF0F8\"},\"line\":{\"color\":\"white\"}},\"header\":{\"fill\":{\"color\":\"#C8D4E3\"},\"line\":{\"color\":\"white\"}},\"type\":\"table\"}]},\"layout\":{\"annotationdefaults\":{\"arrowcolor\":\"#2a3f5f\",\"arrowhead\":0,\"arrowwidth\":1},\"autotypenumbers\":\"strict\",\"coloraxis\":{\"colorbar\":{\"outlinewidth\":0,\"ticks\":\"\"}},\"colorscale\":{\"diverging\":[[0,\"#8e0152\"],[0.1,\"#c51b7d\"],[0.2,\"#de77ae\"],[0.3,\"#f1b6da\"],[0.4,\"#fde0ef\"],[0.5,\"#f7f7f7\"],[0.6,\"#e6f5d0\"],[0.7,\"#b8e186\"],[0.8,\"#7fbc41\"],[0.9,\"#4d9221\"],[1,\"#276419\"]],\"sequential\":[[0.0,\"#0d0887\"],[0.1111111111111111,\"#46039f\"],[0.2222222222222222,\"#7201a8\"],[0.3333333333333333,\"#9c179e\"],[0.4444444444444444,\"#bd3786\"],[0.5555555555555556,\"#d8576b\"],[0.6666666666666666,\"#ed7953\"],[0.7777777777777778,\"#fb9f3a\"],[0.8888888888888888,\"#fdca26\"],[1.0,\"#f0f921\"]],\"sequentialminus\":[[0.0,\"#0d0887\"],[0.1111111111111111,\"#46039f\"],[0.2222222222222222,\"#7201a8\"],[0.3333333333333333,\"#9c179e\"],[0.4444444444444444,\"#bd3786\"],[0.5555555555555556,\"#d8576b\"],[0.6666666666666666,\"#ed7953\"],[0.7777777777777778,\"#fb9f3a\"],[0.8888888888888888,\"#fdca26\"],[1.0,\"#f0f921\"]]},\"colorway\":[\"#636efa\",\"#EF553B\",\"#00cc96\",\"#ab63fa\",\"#FFA15A\",\"#19d3f3\",\"#FF6692\",\"#B6E880\",\"#FF97FF\",\"#FECB52\"],\"font\":{\"color\":\"#2a3f5f\"},\"geo\":{\"bgcolor\":\"white\",\"lakecolor\":\"white\",\"landcolor\":\"#E5ECF6\",\"showlakes\":true,\"showland\":true,\"subunitcolor\":\"white\"},\"hoverlabel\":{\"align\":\"left\"},\"hovermode\":\"closest\",\"mapbox\":{\"style\":\"light\"},\"paper_bgcolor\":\"white\",\"plot_bgcolor\":\"#E5ECF6\",\"polar\":{\"angularaxis\":{\"gridcolor\":\"white\",\"linecolor\":\"white\",\"ticks\":\"\"},\"bgcolor\":\"#E5ECF6\",\"radialaxis\":{\"gridcolor\":\"white\",\"linecolor\":\"white\",\"ticks\":\"\"}},\"scene\":{\"xaxis\":{\"backgroundcolor\":\"#E5ECF6\",\"gridcolor\":\"white\",\"gridwidth\":2,\"linecolor\":\"white\",\"showbackground\":true,\"ticks\":\"\",\"zerolinecolor\":\"white\"},\"yaxis\":{\"backgroundcolor\":\"#E5ECF6\",\"gridcolor\":\"white\",\"gridwidth\":2,\"linecolor\":\"white\",\"showbackground\":true,\"ticks\":\"\",\"zerolinecolor\":\"white\"},\"zaxis\":{\"backgroundcolor\":\"#E5ECF6\",\"gridcolor\":\"white\",\"gridwidth\":2,\"linecolor\":\"white\",\"showbackground\":true,\"ticks\":\"\",\"zerolinecolor\":\"white\"}},\"shapedefaults\":{\"line\":{\"color\":\"#2a3f5f\"}},\"ternary\":{\"aaxis\":{\"gridcolor\":\"white\",\"linecolor\":\"white\",\"ticks\":\"\"},\"baxis\":{\"gridcolor\":\"white\",\"linecolor\":\"white\",\"ticks\":\"\"},\"bgcolor\":\"#E5ECF6\",\"caxis\":{\"gridcolor\":\"white\",\"linecolor\":\"white\",\"ticks\":\"\"}},\"title\":{\"x\":0.05},\"xaxis\":{\"automargin\":true,\"gridcolor\":\"white\",\"linecolor\":\"white\",\"ticks\":\"\",\"title\":{\"standoff\":15},\"zerolinecolor\":\"white\",\"zerolinewidth\":2},\"yaxis\":{\"automargin\":true,\"gridcolor\":\"white\",\"linecolor\":\"white\",\"ticks\":\"\",\"title\":{\"standoff\":15},\"zerolinecolor\":\"white\",\"zerolinewidth\":2}}},\"coloraxis\":{\"colorbar\":{\"title\":{\"text\":\"ave_score_terrans\"}},\"colorscale\":[[0.0,\"rgb(103,0,31)\"],[0.1,\"rgb(178,24,43)\"],[0.2,\"rgb(214,96,77)\"],[0.3,\"rgb(244,165,130)\"],[0.4,\"rgb(253,219,199)\"],[0.5,\"rgb(247,247,247)\"],[0.6,\"rgb(209,229,240)\"],[0.7,\"rgb(146,197,222)\"],[0.8,\"rgb(67,147,195)\"],[0.9,\"rgb(33,102,172)\"],[1.0,\"rgb(5,48,97)\"]],\"cmid\":144.30885882929329},\"legend\":{\"tracegroupgap\":0},\"margin\":{\"t\":50,\"l\":25,\"r\":25,\"b\":25}},                        {\"responsive\": true}                    ).then(function(){\n",
       "                            \n",
       "var gd = document.getElementById('c241d014-fa37-433c-a8b5-65c8bc83d6b9');\n",
       "var x = new MutationObserver(function (mutations, observer) {{\n",
       "        var display = window.getComputedStyle(gd).display;\n",
       "        if (!display || display === 'none') {{\n",
       "            console.log([gd, 'removed!']);\n",
       "            Plotly.purge(gd);\n",
       "            observer.disconnect();\n",
       "        }}\n",
       "}});\n",
       "\n",
       "// Listen for the removal of the full notebook cells\n",
       "var notebookContainer = gd.closest('#notebook-container');\n",
       "if (notebookContainer) {{\n",
       "    x.observe(notebookContainer, {childList: true});\n",
       "}}\n",
       "\n",
       "// Listen for the clearing of the current output cell\n",
       "var outputEl = gd.closest('.output');\n",
       "if (outputEl) {{\n",
       "    x.observe(outputEl, {childList: true});\n",
       "}}\n",
       "\n",
       "                        })                };                });            </script>        </div>"
      ]
     },
     "metadata": {},
     "output_type": "display_data"
    },
    {
     "data": {
      "application/vnd.plotly.v1+json": {
       "config": {
        "plotlyServerURL": "https://plot.ly"
       },
       "data": [
        {
         "branchvalues": "total",
         "customdata": [
          [
           200.47058823529412,
           155.47058823529412
          ],
          [
           134,
           121.25
          ],
          [
           148.33333333333334,
           141.30555555555554
          ],
          [
           155.66666666666666,
           160
          ],
          [
           429,
           170
          ],
          [
           1,
           94
          ],
          [
           216.42153846153846,
           148.88615384615386
          ],
          [
           197.20661157024793,
           155.06611570247935
          ],
          [
           125.71428571428571,
           106.28571428571429
          ],
          [
           202.93333333333334,
           139.86666666666667
          ],
          [
           101.66666666666667,
           111.5
          ],
          [
           179,
           156.5
          ],
          [
           182.32222222222222,
           149.8111111111111
          ],
          [
           116.125,
           121.9375
          ],
          [
           184,
           151
          ],
          [
           243.03908794788273,
           152.63517915309447
          ],
          [
           237.1283292978208,
           155.89346246973366
          ],
          [
           163.90243902439025,
           126.82926829268293
          ],
          [
           259,
           159
          ],
          [
           199.125,
           149.9375
          ],
          [
           169.47619047619048,
           138.0952380952381
          ],
          [
           1,
           100
          ],
          [
           213,
           131.7
          ],
          [
           223.24,
           147.84
          ],
          [
           176.77777777777777,
           122
          ],
          [
           234,
           159.5
          ],
          [
           327,
           178
          ],
          [
           224.66666666666666,
           130.66666666666666
          ],
          [
           190.9375,
           130.5
          ],
          [
           289.5,
           163.5
          ],
          [
           30,
           86
          ],
          [
           221,
           124
          ],
          [
           270.07142857142856,
           153.28571428571428
          ],
          [
           282.5,
           173.5
          ],
          [
           "(?)",
           153.02597402597402
          ],
          [
           "(?)",
           150.29275808936825
          ],
          [
           "(?)",
           122.5
          ],
          [
           "(?)",
           132.29378531073445
          ],
          [
           "(?)",
           90.66666666666667
          ],
          [
           "(?)",
           149.63408820023838
          ]
         ],
         "domain": {
          "x": [
           0,
           1
          ],
          "y": [
           0,
           1
          ]
         },
         "hovertemplate": "labels=%{label}<br>class_counts=%{value}<br>parent=%{parent}<br>id=%{id}<br>ave_elo_itars=%{customdata[0]}<br>ave_score_itars=%{color}<extra></extra>",
         "ids": [
          "R1 Structures: Frequency and Overall Score for itars/PI/ 0_m / 0_ts / 1_lab / 1_pi / 0_ac1 / 0_ac2",
          "R1 Structures: Frequency and Overall Score for itars/ac1/ 0_m / 1_ts / 0_lab / 0_pi / 1_ac1 / 0_ac2",
          "R1 Structures: Frequency and Overall Score for itars/PI/ 0_m / 1_ts / 0_lab / 1_pi / 0_ac1 / 0_ac2",
          "R1 Structures: Frequency and Overall Score for itars/lab/ 0_m / 1_ts / 1_lab / 0_pi / 0_ac1 / 0_ac2",
          "R1 Structures: Frequency and Overall Score for itars/PI/ 0_m / 2_ts / 0_lab / 1_pi / 0_ac1 / 0_ac2",
          "R1 Structures: Frequency and Overall Score for itars/ac2/ 1_m / 0_ts / 0_lab / 0_pi / 0_ac1 / 1_ac2",
          "R1 Structures: Frequency and Overall Score for itars/ac1/ 1_m / 0_ts / 0_lab / 0_pi / 1_ac1 / 0_ac2",
          "R1 Structures: Frequency and Overall Score for itars/PI/ 1_m / 0_ts / 0_lab / 1_pi / 0_ac1 / 0_ac2",
          "R1 Structures: Frequency and Overall Score for itars/lab/ 1_m / 0_ts / 1_lab / 0_pi / 0_ac1 / 0_ac2",
          "R1 Structures: Frequency and Overall Score for itars/PI/ 1_m / 0_ts / 1_lab / 1_pi / 0_ac1 / 0_ac2",
          "R1 Structures: Frequency and Overall Score for itars/lab/ 1_m / 0_ts / 2_lab / 0_pi / 0_ac1 / 0_ac2",
          "R1 Structures: Frequency and Overall Score for itars/ac1/ 1_m / 1_ts / 0_lab / 0_pi / 1_ac1 / 0_ac2",
          "R1 Structures: Frequency and Overall Score for itars/PI/ 1_m / 1_ts / 0_lab / 1_pi / 0_ac1 / 0_ac2",
          "R1 Structures: Frequency and Overall Score for itars/lab/ 1_m / 1_ts / 1_lab / 0_pi / 0_ac1 / 0_ac2",
          "R1 Structures: Frequency and Overall Score for itars/ac2/ 2_m / 0_ts / 0_lab / 0_pi / 0_ac1 / 1_ac2",
          "R1 Structures: Frequency and Overall Score for itars/ac1/ 2_m / 0_ts / 0_lab / 0_pi / 1_ac1 / 0_ac2",
          "R1 Structures: Frequency and Overall Score for itars/PI/ 2_m / 0_ts / 0_lab / 1_pi / 0_ac1 / 0_ac2",
          "R1 Structures: Frequency and Overall Score for itars/lab/ 2_m / 0_ts / 1_lab / 0_pi / 0_ac1 / 0_ac2",
          "R1 Structures: Frequency and Overall Score for itars/lab/ 2_m / 0_ts / 2_lab / 0_pi / 0_ac1 / 0_ac2",
          "R1 Structures: Frequency and Overall Score for itars/PI/ 2_m / 1_ts / 0_lab / 1_pi / 0_ac1 / 0_ac2",
          "R1 Structures: Frequency and Overall Score for itars/lab/ 2_m / 1_ts / 1_lab / 0_pi / 0_ac1 / 0_ac2",
          "R1 Structures: Frequency and Overall Score for itars/m/ 3_m / 0_ts / 0_lab / 0_pi / 0_ac1 / 0_ac2",
          "R1 Structures: Frequency and Overall Score for itars/ac1/ 3_m / 0_ts / 0_lab / 0_pi / 1_ac1 / 0_ac2",
          "R1 Structures: Frequency and Overall Score for itars/PI/ 3_m / 0_ts / 0_lab / 1_pi / 0_ac1 / 0_ac2",
          "R1 Structures: Frequency and Overall Score for itars/lab/ 3_m / 0_ts / 1_lab / 0_pi / 0_ac1 / 0_ac2",
          "R1 Structures: Frequency and Overall Score for itars/lab/ 3_m / 1_ts / 1_lab / 0_pi / 0_ac1 / 0_ac2",
          "R1 Structures: Frequency and Overall Score for itars/ac1/ 4_m / 0_ts / 0_lab / 0_pi / 1_ac1 / 0_ac2",
          "R1 Structures: Frequency and Overall Score for itars/PI/ 4_m / 0_ts / 0_lab / 1_pi / 0_ac1 / 0_ac2",
          "R1 Structures: Frequency and Overall Score for itars/lab/ 4_m / 0_ts / 1_lab / 0_pi / 0_ac1 / 0_ac2",
          "R1 Structures: Frequency and Overall Score for itars/lab/ 4_m / 1_ts / 1_lab / 0_pi / 0_ac1 / 0_ac2",
          "R1 Structures: Frequency and Overall Score for itars/m/ 5_m / 0_ts / 0_lab / 0_pi / 0_ac1 / 0_ac2",
          "R1 Structures: Frequency and Overall Score for itars/PI/ 5_m / 0_ts / 0_lab / 1_pi / 0_ac1 / 0_ac2",
          "R1 Structures: Frequency and Overall Score for itars/lab/ 5_m / 0_ts / 1_lab / 0_pi / 0_ac1 / 0_ac2",
          "R1 Structures: Frequency and Overall Score for itars/lab/ 6_m / 0_ts / 1_lab / 0_pi / 0_ac1 / 0_ac2",
          "R1 Structures: Frequency and Overall Score for itars/PI",
          "R1 Structures: Frequency and Overall Score for itars/ac1",
          "R1 Structures: Frequency and Overall Score for itars/ac2",
          "R1 Structures: Frequency and Overall Score for itars/lab",
          "R1 Structures: Frequency and Overall Score for itars/m",
          "R1 Structures: Frequency and Overall Score for itars"
         ],
         "labels": [
          " 0_m / 0_ts / 1_lab / 1_pi / 0_ac1 / 0_ac2",
          " 0_m / 1_ts / 0_lab / 0_pi / 1_ac1 / 0_ac2",
          " 0_m / 1_ts / 0_lab / 1_pi / 0_ac1 / 0_ac2",
          " 0_m / 1_ts / 1_lab / 0_pi / 0_ac1 / 0_ac2",
          " 0_m / 2_ts / 0_lab / 1_pi / 0_ac1 / 0_ac2",
          " 1_m / 0_ts / 0_lab / 0_pi / 0_ac1 / 1_ac2",
          " 1_m / 0_ts / 0_lab / 0_pi / 1_ac1 / 0_ac2",
          " 1_m / 0_ts / 0_lab / 1_pi / 0_ac1 / 0_ac2",
          " 1_m / 0_ts / 1_lab / 0_pi / 0_ac1 / 0_ac2",
          " 1_m / 0_ts / 1_lab / 1_pi / 0_ac1 / 0_ac2",
          " 1_m / 0_ts / 2_lab / 0_pi / 0_ac1 / 0_ac2",
          " 1_m / 1_ts / 0_lab / 0_pi / 1_ac1 / 0_ac2",
          " 1_m / 1_ts / 0_lab / 1_pi / 0_ac1 / 0_ac2",
          " 1_m / 1_ts / 1_lab / 0_pi / 0_ac1 / 0_ac2",
          " 2_m / 0_ts / 0_lab / 0_pi / 0_ac1 / 1_ac2",
          " 2_m / 0_ts / 0_lab / 0_pi / 1_ac1 / 0_ac2",
          " 2_m / 0_ts / 0_lab / 1_pi / 0_ac1 / 0_ac2",
          " 2_m / 0_ts / 1_lab / 0_pi / 0_ac1 / 0_ac2",
          " 2_m / 0_ts / 2_lab / 0_pi / 0_ac1 / 0_ac2",
          " 2_m / 1_ts / 0_lab / 1_pi / 0_ac1 / 0_ac2",
          " 2_m / 1_ts / 1_lab / 0_pi / 0_ac1 / 0_ac2",
          " 3_m / 0_ts / 0_lab / 0_pi / 0_ac1 / 0_ac2",
          " 3_m / 0_ts / 0_lab / 0_pi / 1_ac1 / 0_ac2",
          " 3_m / 0_ts / 0_lab / 1_pi / 0_ac1 / 0_ac2",
          " 3_m / 0_ts / 1_lab / 0_pi / 0_ac1 / 0_ac2",
          " 3_m / 1_ts / 1_lab / 0_pi / 0_ac1 / 0_ac2",
          " 4_m / 0_ts / 0_lab / 0_pi / 1_ac1 / 0_ac2",
          " 4_m / 0_ts / 0_lab / 1_pi / 0_ac1 / 0_ac2",
          " 4_m / 0_ts / 1_lab / 0_pi / 0_ac1 / 0_ac2",
          " 4_m / 1_ts / 1_lab / 0_pi / 0_ac1 / 0_ac2",
          " 5_m / 0_ts / 0_lab / 0_pi / 0_ac1 / 0_ac2",
          " 5_m / 0_ts / 0_lab / 1_pi / 0_ac1 / 0_ac2",
          " 5_m / 0_ts / 1_lab / 0_pi / 0_ac1 / 0_ac2",
          " 6_m / 0_ts / 1_lab / 0_pi / 0_ac1 / 0_ac2",
          "PI",
          "ac1",
          "ac2",
          "lab",
          "m",
          "R1 Structures: Frequency and Overall Score for itars"
         ],
         "marker": {
          "coloraxis": "coloraxis",
          "colors": [
           155.47058823529412,
           121.25,
           141.30555555555554,
           160,
           170,
           94,
           148.88615384615386,
           155.06611570247935,
           106.28571428571429,
           139.86666666666667,
           111.5,
           156.5,
           149.8111111111111,
           121.9375,
           151,
           152.63517915309447,
           155.89346246973366,
           126.82926829268293,
           159,
           149.9375,
           138.0952380952381,
           100,
           131.7,
           147.84,
           122,
           159.5,
           178,
           130.66666666666666,
           130.5,
           163.5,
           86,
           124,
           153.28571428571428,
           173.5,
           153.02597402597402,
           150.29275808936825,
           122.5,
           132.29378531073445,
           90.66666666666667,
           149.63408820023838
          ]
         },
         "name": "",
         "parents": [
          "R1 Structures: Frequency and Overall Score for itars/PI",
          "R1 Structures: Frequency and Overall Score for itars/ac1",
          "R1 Structures: Frequency and Overall Score for itars/PI",
          "R1 Structures: Frequency and Overall Score for itars/lab",
          "R1 Structures: Frequency and Overall Score for itars/PI",
          "R1 Structures: Frequency and Overall Score for itars/ac2",
          "R1 Structures: Frequency and Overall Score for itars/ac1",
          "R1 Structures: Frequency and Overall Score for itars/PI",
          "R1 Structures: Frequency and Overall Score for itars/lab",
          "R1 Structures: Frequency and Overall Score for itars/PI",
          "R1 Structures: Frequency and Overall Score for itars/lab",
          "R1 Structures: Frequency and Overall Score for itars/ac1",
          "R1 Structures: Frequency and Overall Score for itars/PI",
          "R1 Structures: Frequency and Overall Score for itars/lab",
          "R1 Structures: Frequency and Overall Score for itars/ac2",
          "R1 Structures: Frequency and Overall Score for itars/ac1",
          "R1 Structures: Frequency and Overall Score for itars/PI",
          "R1 Structures: Frequency and Overall Score for itars/lab",
          "R1 Structures: Frequency and Overall Score for itars/lab",
          "R1 Structures: Frequency and Overall Score for itars/PI",
          "R1 Structures: Frequency and Overall Score for itars/lab",
          "R1 Structures: Frequency and Overall Score for itars/m",
          "R1 Structures: Frequency and Overall Score for itars/ac1",
          "R1 Structures: Frequency and Overall Score for itars/PI",
          "R1 Structures: Frequency and Overall Score for itars/lab",
          "R1 Structures: Frequency and Overall Score for itars/lab",
          "R1 Structures: Frequency and Overall Score for itars/ac1",
          "R1 Structures: Frequency and Overall Score for itars/PI",
          "R1 Structures: Frequency and Overall Score for itars/lab",
          "R1 Structures: Frequency and Overall Score for itars/lab",
          "R1 Structures: Frequency and Overall Score for itars/m",
          "R1 Structures: Frequency and Overall Score for itars/PI",
          "R1 Structures: Frequency and Overall Score for itars/lab",
          "R1 Structures: Frequency and Overall Score for itars/lab",
          "R1 Structures: Frequency and Overall Score for itars",
          "R1 Structures: Frequency and Overall Score for itars",
          "R1 Structures: Frequency and Overall Score for itars",
          "R1 Structures: Frequency and Overall Score for itars",
          "R1 Structures: Frequency and Overall Score for itars",
          ""
         ],
         "type": "treemap",
         "values": [
          51,
          4,
          36,
          3,
          1,
          1,
          325,
          121,
          7,
          15,
          6,
          2,
          90,
          16,
          1,
          307,
          413,
          41,
          1,
          16,
          42,
          1,
          10,
          100,
          9,
          2,
          1,
          3,
          32,
          2,
          2,
          1,
          14,
          2,
          847,
          649,
          2,
          177,
          3,
          1678
         ]
        }
       ],
       "layout": {
        "coloraxis": {
         "cmid": 144.30885882929329,
         "colorbar": {
          "title": {
           "text": "ave_score_itars"
          }
         },
         "colorscale": [
          [
           0,
           "rgb(103,0,31)"
          ],
          [
           0.1,
           "rgb(178,24,43)"
          ],
          [
           0.2,
           "rgb(214,96,77)"
          ],
          [
           0.3,
           "rgb(244,165,130)"
          ],
          [
           0.4,
           "rgb(253,219,199)"
          ],
          [
           0.5,
           "rgb(247,247,247)"
          ],
          [
           0.6,
           "rgb(209,229,240)"
          ],
          [
           0.7,
           "rgb(146,197,222)"
          ],
          [
           0.8,
           "rgb(67,147,195)"
          ],
          [
           0.9,
           "rgb(33,102,172)"
          ],
          [
           1,
           "rgb(5,48,97)"
          ]
         ]
        },
        "legend": {
         "tracegroupgap": 0
        },
        "margin": {
         "b": 25,
         "l": 25,
         "r": 25,
         "t": 50
        },
        "template": {
         "data": {
          "bar": [
           {
            "error_x": {
             "color": "#2a3f5f"
            },
            "error_y": {
             "color": "#2a3f5f"
            },
            "marker": {
             "line": {
              "color": "#E5ECF6",
              "width": 0.5
             },
             "pattern": {
              "fillmode": "overlay",
              "size": 10,
              "solidity": 0.2
             }
            },
            "type": "bar"
           }
          ],
          "barpolar": [
           {
            "marker": {
             "line": {
              "color": "#E5ECF6",
              "width": 0.5
             },
             "pattern": {
              "fillmode": "overlay",
              "size": 10,
              "solidity": 0.2
             }
            },
            "type": "barpolar"
           }
          ],
          "carpet": [
           {
            "aaxis": {
             "endlinecolor": "#2a3f5f",
             "gridcolor": "white",
             "linecolor": "white",
             "minorgridcolor": "white",
             "startlinecolor": "#2a3f5f"
            },
            "baxis": {
             "endlinecolor": "#2a3f5f",
             "gridcolor": "white",
             "linecolor": "white",
             "minorgridcolor": "white",
             "startlinecolor": "#2a3f5f"
            },
            "type": "carpet"
           }
          ],
          "choropleth": [
           {
            "colorbar": {
             "outlinewidth": 0,
             "ticks": ""
            },
            "type": "choropleth"
           }
          ],
          "contour": [
           {
            "colorbar": {
             "outlinewidth": 0,
             "ticks": ""
            },
            "colorscale": [
             [
              0,
              "#0d0887"
             ],
             [
              0.1111111111111111,
              "#46039f"
             ],
             [
              0.2222222222222222,
              "#7201a8"
             ],
             [
              0.3333333333333333,
              "#9c179e"
             ],
             [
              0.4444444444444444,
              "#bd3786"
             ],
             [
              0.5555555555555556,
              "#d8576b"
             ],
             [
              0.6666666666666666,
              "#ed7953"
             ],
             [
              0.7777777777777778,
              "#fb9f3a"
             ],
             [
              0.8888888888888888,
              "#fdca26"
             ],
             [
              1,
              "#f0f921"
             ]
            ],
            "type": "contour"
           }
          ],
          "contourcarpet": [
           {
            "colorbar": {
             "outlinewidth": 0,
             "ticks": ""
            },
            "type": "contourcarpet"
           }
          ],
          "heatmap": [
           {
            "colorbar": {
             "outlinewidth": 0,
             "ticks": ""
            },
            "colorscale": [
             [
              0,
              "#0d0887"
             ],
             [
              0.1111111111111111,
              "#46039f"
             ],
             [
              0.2222222222222222,
              "#7201a8"
             ],
             [
              0.3333333333333333,
              "#9c179e"
             ],
             [
              0.4444444444444444,
              "#bd3786"
             ],
             [
              0.5555555555555556,
              "#d8576b"
             ],
             [
              0.6666666666666666,
              "#ed7953"
             ],
             [
              0.7777777777777778,
              "#fb9f3a"
             ],
             [
              0.8888888888888888,
              "#fdca26"
             ],
             [
              1,
              "#f0f921"
             ]
            ],
            "type": "heatmap"
           }
          ],
          "heatmapgl": [
           {
            "colorbar": {
             "outlinewidth": 0,
             "ticks": ""
            },
            "colorscale": [
             [
              0,
              "#0d0887"
             ],
             [
              0.1111111111111111,
              "#46039f"
             ],
             [
              0.2222222222222222,
              "#7201a8"
             ],
             [
              0.3333333333333333,
              "#9c179e"
             ],
             [
              0.4444444444444444,
              "#bd3786"
             ],
             [
              0.5555555555555556,
              "#d8576b"
             ],
             [
              0.6666666666666666,
              "#ed7953"
             ],
             [
              0.7777777777777778,
              "#fb9f3a"
             ],
             [
              0.8888888888888888,
              "#fdca26"
             ],
             [
              1,
              "#f0f921"
             ]
            ],
            "type": "heatmapgl"
           }
          ],
          "histogram": [
           {
            "marker": {
             "pattern": {
              "fillmode": "overlay",
              "size": 10,
              "solidity": 0.2
             }
            },
            "type": "histogram"
           }
          ],
          "histogram2d": [
           {
            "colorbar": {
             "outlinewidth": 0,
             "ticks": ""
            },
            "colorscale": [
             [
              0,
              "#0d0887"
             ],
             [
              0.1111111111111111,
              "#46039f"
             ],
             [
              0.2222222222222222,
              "#7201a8"
             ],
             [
              0.3333333333333333,
              "#9c179e"
             ],
             [
              0.4444444444444444,
              "#bd3786"
             ],
             [
              0.5555555555555556,
              "#d8576b"
             ],
             [
              0.6666666666666666,
              "#ed7953"
             ],
             [
              0.7777777777777778,
              "#fb9f3a"
             ],
             [
              0.8888888888888888,
              "#fdca26"
             ],
             [
              1,
              "#f0f921"
             ]
            ],
            "type": "histogram2d"
           }
          ],
          "histogram2dcontour": [
           {
            "colorbar": {
             "outlinewidth": 0,
             "ticks": ""
            },
            "colorscale": [
             [
              0,
              "#0d0887"
             ],
             [
              0.1111111111111111,
              "#46039f"
             ],
             [
              0.2222222222222222,
              "#7201a8"
             ],
             [
              0.3333333333333333,
              "#9c179e"
             ],
             [
              0.4444444444444444,
              "#bd3786"
             ],
             [
              0.5555555555555556,
              "#d8576b"
             ],
             [
              0.6666666666666666,
              "#ed7953"
             ],
             [
              0.7777777777777778,
              "#fb9f3a"
             ],
             [
              0.8888888888888888,
              "#fdca26"
             ],
             [
              1,
              "#f0f921"
             ]
            ],
            "type": "histogram2dcontour"
           }
          ],
          "mesh3d": [
           {
            "colorbar": {
             "outlinewidth": 0,
             "ticks": ""
            },
            "type": "mesh3d"
           }
          ],
          "parcoords": [
           {
            "line": {
             "colorbar": {
              "outlinewidth": 0,
              "ticks": ""
             }
            },
            "type": "parcoords"
           }
          ],
          "pie": [
           {
            "automargin": true,
            "type": "pie"
           }
          ],
          "scatter": [
           {
            "marker": {
             "colorbar": {
              "outlinewidth": 0,
              "ticks": ""
             }
            },
            "type": "scatter"
           }
          ],
          "scatter3d": [
           {
            "line": {
             "colorbar": {
              "outlinewidth": 0,
              "ticks": ""
             }
            },
            "marker": {
             "colorbar": {
              "outlinewidth": 0,
              "ticks": ""
             }
            },
            "type": "scatter3d"
           }
          ],
          "scattercarpet": [
           {
            "marker": {
             "colorbar": {
              "outlinewidth": 0,
              "ticks": ""
             }
            },
            "type": "scattercarpet"
           }
          ],
          "scattergeo": [
           {
            "marker": {
             "colorbar": {
              "outlinewidth": 0,
              "ticks": ""
             }
            },
            "type": "scattergeo"
           }
          ],
          "scattergl": [
           {
            "marker": {
             "colorbar": {
              "outlinewidth": 0,
              "ticks": ""
             }
            },
            "type": "scattergl"
           }
          ],
          "scattermapbox": [
           {
            "marker": {
             "colorbar": {
              "outlinewidth": 0,
              "ticks": ""
             }
            },
            "type": "scattermapbox"
           }
          ],
          "scatterpolar": [
           {
            "marker": {
             "colorbar": {
              "outlinewidth": 0,
              "ticks": ""
             }
            },
            "type": "scatterpolar"
           }
          ],
          "scatterpolargl": [
           {
            "marker": {
             "colorbar": {
              "outlinewidth": 0,
              "ticks": ""
             }
            },
            "type": "scatterpolargl"
           }
          ],
          "scatterternary": [
           {
            "marker": {
             "colorbar": {
              "outlinewidth": 0,
              "ticks": ""
             }
            },
            "type": "scatterternary"
           }
          ],
          "surface": [
           {
            "colorbar": {
             "outlinewidth": 0,
             "ticks": ""
            },
            "colorscale": [
             [
              0,
              "#0d0887"
             ],
             [
              0.1111111111111111,
              "#46039f"
             ],
             [
              0.2222222222222222,
              "#7201a8"
             ],
             [
              0.3333333333333333,
              "#9c179e"
             ],
             [
              0.4444444444444444,
              "#bd3786"
             ],
             [
              0.5555555555555556,
              "#d8576b"
             ],
             [
              0.6666666666666666,
              "#ed7953"
             ],
             [
              0.7777777777777778,
              "#fb9f3a"
             ],
             [
              0.8888888888888888,
              "#fdca26"
             ],
             [
              1,
              "#f0f921"
             ]
            ],
            "type": "surface"
           }
          ],
          "table": [
           {
            "cells": {
             "fill": {
              "color": "#EBF0F8"
             },
             "line": {
              "color": "white"
             }
            },
            "header": {
             "fill": {
              "color": "#C8D4E3"
             },
             "line": {
              "color": "white"
             }
            },
            "type": "table"
           }
          ]
         },
         "layout": {
          "annotationdefaults": {
           "arrowcolor": "#2a3f5f",
           "arrowhead": 0,
           "arrowwidth": 1
          },
          "autotypenumbers": "strict",
          "coloraxis": {
           "colorbar": {
            "outlinewidth": 0,
            "ticks": ""
           }
          },
          "colorscale": {
           "diverging": [
            [
             0,
             "#8e0152"
            ],
            [
             0.1,
             "#c51b7d"
            ],
            [
             0.2,
             "#de77ae"
            ],
            [
             0.3,
             "#f1b6da"
            ],
            [
             0.4,
             "#fde0ef"
            ],
            [
             0.5,
             "#f7f7f7"
            ],
            [
             0.6,
             "#e6f5d0"
            ],
            [
             0.7,
             "#b8e186"
            ],
            [
             0.8,
             "#7fbc41"
            ],
            [
             0.9,
             "#4d9221"
            ],
            [
             1,
             "#276419"
            ]
           ],
           "sequential": [
            [
             0,
             "#0d0887"
            ],
            [
             0.1111111111111111,
             "#46039f"
            ],
            [
             0.2222222222222222,
             "#7201a8"
            ],
            [
             0.3333333333333333,
             "#9c179e"
            ],
            [
             0.4444444444444444,
             "#bd3786"
            ],
            [
             0.5555555555555556,
             "#d8576b"
            ],
            [
             0.6666666666666666,
             "#ed7953"
            ],
            [
             0.7777777777777778,
             "#fb9f3a"
            ],
            [
             0.8888888888888888,
             "#fdca26"
            ],
            [
             1,
             "#f0f921"
            ]
           ],
           "sequentialminus": [
            [
             0,
             "#0d0887"
            ],
            [
             0.1111111111111111,
             "#46039f"
            ],
            [
             0.2222222222222222,
             "#7201a8"
            ],
            [
             0.3333333333333333,
             "#9c179e"
            ],
            [
             0.4444444444444444,
             "#bd3786"
            ],
            [
             0.5555555555555556,
             "#d8576b"
            ],
            [
             0.6666666666666666,
             "#ed7953"
            ],
            [
             0.7777777777777778,
             "#fb9f3a"
            ],
            [
             0.8888888888888888,
             "#fdca26"
            ],
            [
             1,
             "#f0f921"
            ]
           ]
          },
          "colorway": [
           "#636efa",
           "#EF553B",
           "#00cc96",
           "#ab63fa",
           "#FFA15A",
           "#19d3f3",
           "#FF6692",
           "#B6E880",
           "#FF97FF",
           "#FECB52"
          ],
          "font": {
           "color": "#2a3f5f"
          },
          "geo": {
           "bgcolor": "white",
           "lakecolor": "white",
           "landcolor": "#E5ECF6",
           "showlakes": true,
           "showland": true,
           "subunitcolor": "white"
          },
          "hoverlabel": {
           "align": "left"
          },
          "hovermode": "closest",
          "mapbox": {
           "style": "light"
          },
          "paper_bgcolor": "white",
          "plot_bgcolor": "#E5ECF6",
          "polar": {
           "angularaxis": {
            "gridcolor": "white",
            "linecolor": "white",
            "ticks": ""
           },
           "bgcolor": "#E5ECF6",
           "radialaxis": {
            "gridcolor": "white",
            "linecolor": "white",
            "ticks": ""
           }
          },
          "scene": {
           "xaxis": {
            "backgroundcolor": "#E5ECF6",
            "gridcolor": "white",
            "gridwidth": 2,
            "linecolor": "white",
            "showbackground": true,
            "ticks": "",
            "zerolinecolor": "white"
           },
           "yaxis": {
            "backgroundcolor": "#E5ECF6",
            "gridcolor": "white",
            "gridwidth": 2,
            "linecolor": "white",
            "showbackground": true,
            "ticks": "",
            "zerolinecolor": "white"
           },
           "zaxis": {
            "backgroundcolor": "#E5ECF6",
            "gridcolor": "white",
            "gridwidth": 2,
            "linecolor": "white",
            "showbackground": true,
            "ticks": "",
            "zerolinecolor": "white"
           }
          },
          "shapedefaults": {
           "line": {
            "color": "#2a3f5f"
           }
          },
          "ternary": {
           "aaxis": {
            "gridcolor": "white",
            "linecolor": "white",
            "ticks": ""
           },
           "baxis": {
            "gridcolor": "white",
            "linecolor": "white",
            "ticks": ""
           },
           "bgcolor": "#E5ECF6",
           "caxis": {
            "gridcolor": "white",
            "linecolor": "white",
            "ticks": ""
           }
          },
          "title": {
           "x": 0.05
          },
          "xaxis": {
           "automargin": true,
           "gridcolor": "white",
           "linecolor": "white",
           "ticks": "",
           "title": {
            "standoff": 15
           },
           "zerolinecolor": "white",
           "zerolinewidth": 2
          },
          "yaxis": {
           "automargin": true,
           "gridcolor": "white",
           "linecolor": "white",
           "ticks": "",
           "title": {
            "standoff": 15
           },
           "zerolinecolor": "white",
           "zerolinewidth": 2
          }
         }
        }
       }
      },
      "text/html": [
       "<div>                            <div id=\"6c1fbd3e-380c-4daa-a2a4-cd8642ca37c4\" class=\"plotly-graph-div\" style=\"height:525px; width:100%;\"></div>            <script type=\"text/javascript\">                require([\"plotly\"], function(Plotly) {                    window.PLOTLYENV=window.PLOTLYENV || {};                                    if (document.getElementById(\"6c1fbd3e-380c-4daa-a2a4-cd8642ca37c4\")) {                    Plotly.newPlot(                        \"6c1fbd3e-380c-4daa-a2a4-cd8642ca37c4\",                        [{\"branchvalues\":\"total\",\"customdata\":[[200.47058823529412,155.47058823529412],[134.0,121.25],[148.33333333333334,141.30555555555554],[155.66666666666666,160.0],[429.0,170.0],[1.0,94.0],[216.42153846153846,148.88615384615386],[197.20661157024793,155.06611570247935],[125.71428571428571,106.28571428571429],[202.93333333333334,139.86666666666667],[101.66666666666667,111.5],[179.0,156.5],[182.32222222222222,149.8111111111111],[116.125,121.9375],[184.0,151.0],[243.03908794788273,152.63517915309447],[237.1283292978208,155.89346246973366],[163.90243902439025,126.82926829268293],[259.0,159.0],[199.125,149.9375],[169.47619047619048,138.0952380952381],[1.0,100.0],[213.0,131.7],[223.24,147.84],[176.77777777777777,122.0],[234.0,159.5],[327.0,178.0],[224.66666666666666,130.66666666666666],[190.9375,130.5],[289.5,163.5],[30.0,86.0],[221.0,124.0],[270.07142857142856,153.28571428571428],[282.5,173.5],[\"(?)\",153.02597402597402],[\"(?)\",150.29275808936825],[\"(?)\",122.5],[\"(?)\",132.29378531073445],[\"(?)\",90.66666666666667],[\"(?)\",149.63408820023838]],\"domain\":{\"x\":[0.0,1.0],\"y\":[0.0,1.0]},\"hovertemplate\":\"labels=%{label}<br>class_counts=%{value}<br>parent=%{parent}<br>id=%{id}<br>ave_elo_itars=%{customdata[0]}<br>ave_score_itars=%{color}<extra></extra>\",\"ids\":[\"R1 Structures: Frequency and Overall Score for itars/PI/ 0_m / 0_ts / 1_lab / 1_pi / 0_ac1 / 0_ac2\",\"R1 Structures: Frequency and Overall Score for itars/ac1/ 0_m / 1_ts / 0_lab / 0_pi / 1_ac1 / 0_ac2\",\"R1 Structures: Frequency and Overall Score for itars/PI/ 0_m / 1_ts / 0_lab / 1_pi / 0_ac1 / 0_ac2\",\"R1 Structures: Frequency and Overall Score for itars/lab/ 0_m / 1_ts / 1_lab / 0_pi / 0_ac1 / 0_ac2\",\"R1 Structures: Frequency and Overall Score for itars/PI/ 0_m / 2_ts / 0_lab / 1_pi / 0_ac1 / 0_ac2\",\"R1 Structures: Frequency and Overall Score for itars/ac2/ 1_m / 0_ts / 0_lab / 0_pi / 0_ac1 / 1_ac2\",\"R1 Structures: Frequency and Overall Score for itars/ac1/ 1_m / 0_ts / 0_lab / 0_pi / 1_ac1 / 0_ac2\",\"R1 Structures: Frequency and Overall Score for itars/PI/ 1_m / 0_ts / 0_lab / 1_pi / 0_ac1 / 0_ac2\",\"R1 Structures: Frequency and Overall Score for itars/lab/ 1_m / 0_ts / 1_lab / 0_pi / 0_ac1 / 0_ac2\",\"R1 Structures: Frequency and Overall Score for itars/PI/ 1_m / 0_ts / 1_lab / 1_pi / 0_ac1 / 0_ac2\",\"R1 Structures: Frequency and Overall Score for itars/lab/ 1_m / 0_ts / 2_lab / 0_pi / 0_ac1 / 0_ac2\",\"R1 Structures: Frequency and Overall Score for itars/ac1/ 1_m / 1_ts / 0_lab / 0_pi / 1_ac1 / 0_ac2\",\"R1 Structures: Frequency and Overall Score for itars/PI/ 1_m / 1_ts / 0_lab / 1_pi / 0_ac1 / 0_ac2\",\"R1 Structures: Frequency and Overall Score for itars/lab/ 1_m / 1_ts / 1_lab / 0_pi / 0_ac1 / 0_ac2\",\"R1 Structures: Frequency and Overall Score for itars/ac2/ 2_m / 0_ts / 0_lab / 0_pi / 0_ac1 / 1_ac2\",\"R1 Structures: Frequency and Overall Score for itars/ac1/ 2_m / 0_ts / 0_lab / 0_pi / 1_ac1 / 0_ac2\",\"R1 Structures: Frequency and Overall Score for itars/PI/ 2_m / 0_ts / 0_lab / 1_pi / 0_ac1 / 0_ac2\",\"R1 Structures: Frequency and Overall Score for itars/lab/ 2_m / 0_ts / 1_lab / 0_pi / 0_ac1 / 0_ac2\",\"R1 Structures: Frequency and Overall Score for itars/lab/ 2_m / 0_ts / 2_lab / 0_pi / 0_ac1 / 0_ac2\",\"R1 Structures: Frequency and Overall Score for itars/PI/ 2_m / 1_ts / 0_lab / 1_pi / 0_ac1 / 0_ac2\",\"R1 Structures: Frequency and Overall Score for itars/lab/ 2_m / 1_ts / 1_lab / 0_pi / 0_ac1 / 0_ac2\",\"R1 Structures: Frequency and Overall Score for itars/m/ 3_m / 0_ts / 0_lab / 0_pi / 0_ac1 / 0_ac2\",\"R1 Structures: Frequency and Overall Score for itars/ac1/ 3_m / 0_ts / 0_lab / 0_pi / 1_ac1 / 0_ac2\",\"R1 Structures: Frequency and Overall Score for itars/PI/ 3_m / 0_ts / 0_lab / 1_pi / 0_ac1 / 0_ac2\",\"R1 Structures: Frequency and Overall Score for itars/lab/ 3_m / 0_ts / 1_lab / 0_pi / 0_ac1 / 0_ac2\",\"R1 Structures: Frequency and Overall Score for itars/lab/ 3_m / 1_ts / 1_lab / 0_pi / 0_ac1 / 0_ac2\",\"R1 Structures: Frequency and Overall Score for itars/ac1/ 4_m / 0_ts / 0_lab / 0_pi / 1_ac1 / 0_ac2\",\"R1 Structures: Frequency and Overall Score for itars/PI/ 4_m / 0_ts / 0_lab / 1_pi / 0_ac1 / 0_ac2\",\"R1 Structures: Frequency and Overall Score for itars/lab/ 4_m / 0_ts / 1_lab / 0_pi / 0_ac1 / 0_ac2\",\"R1 Structures: Frequency and Overall Score for itars/lab/ 4_m / 1_ts / 1_lab / 0_pi / 0_ac1 / 0_ac2\",\"R1 Structures: Frequency and Overall Score for itars/m/ 5_m / 0_ts / 0_lab / 0_pi / 0_ac1 / 0_ac2\",\"R1 Structures: Frequency and Overall Score for itars/PI/ 5_m / 0_ts / 0_lab / 1_pi / 0_ac1 / 0_ac2\",\"R1 Structures: Frequency and Overall Score for itars/lab/ 5_m / 0_ts / 1_lab / 0_pi / 0_ac1 / 0_ac2\",\"R1 Structures: Frequency and Overall Score for itars/lab/ 6_m / 0_ts / 1_lab / 0_pi / 0_ac1 / 0_ac2\",\"R1 Structures: Frequency and Overall Score for itars/PI\",\"R1 Structures: Frequency and Overall Score for itars/ac1\",\"R1 Structures: Frequency and Overall Score for itars/ac2\",\"R1 Structures: Frequency and Overall Score for itars/lab\",\"R1 Structures: Frequency and Overall Score for itars/m\",\"R1 Structures: Frequency and Overall Score for itars\"],\"labels\":[\" 0_m / 0_ts / 1_lab / 1_pi / 0_ac1 / 0_ac2\",\" 0_m / 1_ts / 0_lab / 0_pi / 1_ac1 / 0_ac2\",\" 0_m / 1_ts / 0_lab / 1_pi / 0_ac1 / 0_ac2\",\" 0_m / 1_ts / 1_lab / 0_pi / 0_ac1 / 0_ac2\",\" 0_m / 2_ts / 0_lab / 1_pi / 0_ac1 / 0_ac2\",\" 1_m / 0_ts / 0_lab / 0_pi / 0_ac1 / 1_ac2\",\" 1_m / 0_ts / 0_lab / 0_pi / 1_ac1 / 0_ac2\",\" 1_m / 0_ts / 0_lab / 1_pi / 0_ac1 / 0_ac2\",\" 1_m / 0_ts / 1_lab / 0_pi / 0_ac1 / 0_ac2\",\" 1_m / 0_ts / 1_lab / 1_pi / 0_ac1 / 0_ac2\",\" 1_m / 0_ts / 2_lab / 0_pi / 0_ac1 / 0_ac2\",\" 1_m / 1_ts / 0_lab / 0_pi / 1_ac1 / 0_ac2\",\" 1_m / 1_ts / 0_lab / 1_pi / 0_ac1 / 0_ac2\",\" 1_m / 1_ts / 1_lab / 0_pi / 0_ac1 / 0_ac2\",\" 2_m / 0_ts / 0_lab / 0_pi / 0_ac1 / 1_ac2\",\" 2_m / 0_ts / 0_lab / 0_pi / 1_ac1 / 0_ac2\",\" 2_m / 0_ts / 0_lab / 1_pi / 0_ac1 / 0_ac2\",\" 2_m / 0_ts / 1_lab / 0_pi / 0_ac1 / 0_ac2\",\" 2_m / 0_ts / 2_lab / 0_pi / 0_ac1 / 0_ac2\",\" 2_m / 1_ts / 0_lab / 1_pi / 0_ac1 / 0_ac2\",\" 2_m / 1_ts / 1_lab / 0_pi / 0_ac1 / 0_ac2\",\" 3_m / 0_ts / 0_lab / 0_pi / 0_ac1 / 0_ac2\",\" 3_m / 0_ts / 0_lab / 0_pi / 1_ac1 / 0_ac2\",\" 3_m / 0_ts / 0_lab / 1_pi / 0_ac1 / 0_ac2\",\" 3_m / 0_ts / 1_lab / 0_pi / 0_ac1 / 0_ac2\",\" 3_m / 1_ts / 1_lab / 0_pi / 0_ac1 / 0_ac2\",\" 4_m / 0_ts / 0_lab / 0_pi / 1_ac1 / 0_ac2\",\" 4_m / 0_ts / 0_lab / 1_pi / 0_ac1 / 0_ac2\",\" 4_m / 0_ts / 1_lab / 0_pi / 0_ac1 / 0_ac2\",\" 4_m / 1_ts / 1_lab / 0_pi / 0_ac1 / 0_ac2\",\" 5_m / 0_ts / 0_lab / 0_pi / 0_ac1 / 0_ac2\",\" 5_m / 0_ts / 0_lab / 1_pi / 0_ac1 / 0_ac2\",\" 5_m / 0_ts / 1_lab / 0_pi / 0_ac1 / 0_ac2\",\" 6_m / 0_ts / 1_lab / 0_pi / 0_ac1 / 0_ac2\",\"PI\",\"ac1\",\"ac2\",\"lab\",\"m\",\"R1 Structures: Frequency and Overall Score for itars\"],\"marker\":{\"coloraxis\":\"coloraxis\",\"colors\":[155.47058823529412,121.25,141.30555555555554,160.0,170.0,94.0,148.88615384615386,155.06611570247935,106.28571428571429,139.86666666666667,111.5,156.5,149.8111111111111,121.9375,151.0,152.63517915309447,155.89346246973366,126.82926829268293,159.0,149.9375,138.0952380952381,100.0,131.7,147.84,122.0,159.5,178.0,130.66666666666666,130.5,163.5,86.0,124.0,153.28571428571428,173.5,153.02597402597402,150.29275808936825,122.5,132.29378531073445,90.66666666666667,149.63408820023838]},\"name\":\"\",\"parents\":[\"R1 Structures: Frequency and Overall Score for itars/PI\",\"R1 Structures: Frequency and Overall Score for itars/ac1\",\"R1 Structures: Frequency and Overall Score for itars/PI\",\"R1 Structures: Frequency and Overall Score for itars/lab\",\"R1 Structures: Frequency and Overall Score for itars/PI\",\"R1 Structures: Frequency and Overall Score for itars/ac2\",\"R1 Structures: Frequency and Overall Score for itars/ac1\",\"R1 Structures: Frequency and Overall Score for itars/PI\",\"R1 Structures: Frequency and Overall Score for itars/lab\",\"R1 Structures: Frequency and Overall Score for itars/PI\",\"R1 Structures: Frequency and Overall Score for itars/lab\",\"R1 Structures: Frequency and Overall Score for itars/ac1\",\"R1 Structures: Frequency and Overall Score for itars/PI\",\"R1 Structures: Frequency and Overall Score for itars/lab\",\"R1 Structures: Frequency and Overall Score for itars/ac2\",\"R1 Structures: Frequency and Overall Score for itars/ac1\",\"R1 Structures: Frequency and Overall Score for itars/PI\",\"R1 Structures: Frequency and Overall Score for itars/lab\",\"R1 Structures: Frequency and Overall Score for itars/lab\",\"R1 Structures: Frequency and Overall Score for itars/PI\",\"R1 Structures: Frequency and Overall Score for itars/lab\",\"R1 Structures: Frequency and Overall Score for itars/m\",\"R1 Structures: Frequency and Overall Score for itars/ac1\",\"R1 Structures: Frequency and Overall Score for itars/PI\",\"R1 Structures: Frequency and Overall Score for itars/lab\",\"R1 Structures: Frequency and Overall Score for itars/lab\",\"R1 Structures: Frequency and Overall Score for itars/ac1\",\"R1 Structures: Frequency and Overall Score for itars/PI\",\"R1 Structures: Frequency and Overall Score for itars/lab\",\"R1 Structures: Frequency and Overall Score for itars/lab\",\"R1 Structures: Frequency and Overall Score for itars/m\",\"R1 Structures: Frequency and Overall Score for itars/PI\",\"R1 Structures: Frequency and Overall Score for itars/lab\",\"R1 Structures: Frequency and Overall Score for itars/lab\",\"R1 Structures: Frequency and Overall Score for itars\",\"R1 Structures: Frequency and Overall Score for itars\",\"R1 Structures: Frequency and Overall Score for itars\",\"R1 Structures: Frequency and Overall Score for itars\",\"R1 Structures: Frequency and Overall Score for itars\",\"\"],\"values\":[51,4,36,3,1,1,325,121,7,15,6,2,90,16,1,307,413,41,1,16,42,1,10,100,9,2,1,3,32,2,2,1,14,2,847,649,2,177,3,1678],\"type\":\"treemap\"}],                        {\"template\":{\"data\":{\"bar\":[{\"error_x\":{\"color\":\"#2a3f5f\"},\"error_y\":{\"color\":\"#2a3f5f\"},\"marker\":{\"line\":{\"color\":\"#E5ECF6\",\"width\":0.5},\"pattern\":{\"fillmode\":\"overlay\",\"size\":10,\"solidity\":0.2}},\"type\":\"bar\"}],\"barpolar\":[{\"marker\":{\"line\":{\"color\":\"#E5ECF6\",\"width\":0.5},\"pattern\":{\"fillmode\":\"overlay\",\"size\":10,\"solidity\":0.2}},\"type\":\"barpolar\"}],\"carpet\":[{\"aaxis\":{\"endlinecolor\":\"#2a3f5f\",\"gridcolor\":\"white\",\"linecolor\":\"white\",\"minorgridcolor\":\"white\",\"startlinecolor\":\"#2a3f5f\"},\"baxis\":{\"endlinecolor\":\"#2a3f5f\",\"gridcolor\":\"white\",\"linecolor\":\"white\",\"minorgridcolor\":\"white\",\"startlinecolor\":\"#2a3f5f\"},\"type\":\"carpet\"}],\"choropleth\":[{\"colorbar\":{\"outlinewidth\":0,\"ticks\":\"\"},\"type\":\"choropleth\"}],\"contour\":[{\"colorbar\":{\"outlinewidth\":0,\"ticks\":\"\"},\"colorscale\":[[0.0,\"#0d0887\"],[0.1111111111111111,\"#46039f\"],[0.2222222222222222,\"#7201a8\"],[0.3333333333333333,\"#9c179e\"],[0.4444444444444444,\"#bd3786\"],[0.5555555555555556,\"#d8576b\"],[0.6666666666666666,\"#ed7953\"],[0.7777777777777778,\"#fb9f3a\"],[0.8888888888888888,\"#fdca26\"],[1.0,\"#f0f921\"]],\"type\":\"contour\"}],\"contourcarpet\":[{\"colorbar\":{\"outlinewidth\":0,\"ticks\":\"\"},\"type\":\"contourcarpet\"}],\"heatmap\":[{\"colorbar\":{\"outlinewidth\":0,\"ticks\":\"\"},\"colorscale\":[[0.0,\"#0d0887\"],[0.1111111111111111,\"#46039f\"],[0.2222222222222222,\"#7201a8\"],[0.3333333333333333,\"#9c179e\"],[0.4444444444444444,\"#bd3786\"],[0.5555555555555556,\"#d8576b\"],[0.6666666666666666,\"#ed7953\"],[0.7777777777777778,\"#fb9f3a\"],[0.8888888888888888,\"#fdca26\"],[1.0,\"#f0f921\"]],\"type\":\"heatmap\"}],\"heatmapgl\":[{\"colorbar\":{\"outlinewidth\":0,\"ticks\":\"\"},\"colorscale\":[[0.0,\"#0d0887\"],[0.1111111111111111,\"#46039f\"],[0.2222222222222222,\"#7201a8\"],[0.3333333333333333,\"#9c179e\"],[0.4444444444444444,\"#bd3786\"],[0.5555555555555556,\"#d8576b\"],[0.6666666666666666,\"#ed7953\"],[0.7777777777777778,\"#fb9f3a\"],[0.8888888888888888,\"#fdca26\"],[1.0,\"#f0f921\"]],\"type\":\"heatmapgl\"}],\"histogram\":[{\"marker\":{\"pattern\":{\"fillmode\":\"overlay\",\"size\":10,\"solidity\":0.2}},\"type\":\"histogram\"}],\"histogram2d\":[{\"colorbar\":{\"outlinewidth\":0,\"ticks\":\"\"},\"colorscale\":[[0.0,\"#0d0887\"],[0.1111111111111111,\"#46039f\"],[0.2222222222222222,\"#7201a8\"],[0.3333333333333333,\"#9c179e\"],[0.4444444444444444,\"#bd3786\"],[0.5555555555555556,\"#d8576b\"],[0.6666666666666666,\"#ed7953\"],[0.7777777777777778,\"#fb9f3a\"],[0.8888888888888888,\"#fdca26\"],[1.0,\"#f0f921\"]],\"type\":\"histogram2d\"}],\"histogram2dcontour\":[{\"colorbar\":{\"outlinewidth\":0,\"ticks\":\"\"},\"colorscale\":[[0.0,\"#0d0887\"],[0.1111111111111111,\"#46039f\"],[0.2222222222222222,\"#7201a8\"],[0.3333333333333333,\"#9c179e\"],[0.4444444444444444,\"#bd3786\"],[0.5555555555555556,\"#d8576b\"],[0.6666666666666666,\"#ed7953\"],[0.7777777777777778,\"#fb9f3a\"],[0.8888888888888888,\"#fdca26\"],[1.0,\"#f0f921\"]],\"type\":\"histogram2dcontour\"}],\"mesh3d\":[{\"colorbar\":{\"outlinewidth\":0,\"ticks\":\"\"},\"type\":\"mesh3d\"}],\"parcoords\":[{\"line\":{\"colorbar\":{\"outlinewidth\":0,\"ticks\":\"\"}},\"type\":\"parcoords\"}],\"pie\":[{\"automargin\":true,\"type\":\"pie\"}],\"scatter\":[{\"marker\":{\"colorbar\":{\"outlinewidth\":0,\"ticks\":\"\"}},\"type\":\"scatter\"}],\"scatter3d\":[{\"line\":{\"colorbar\":{\"outlinewidth\":0,\"ticks\":\"\"}},\"marker\":{\"colorbar\":{\"outlinewidth\":0,\"ticks\":\"\"}},\"type\":\"scatter3d\"}],\"scattercarpet\":[{\"marker\":{\"colorbar\":{\"outlinewidth\":0,\"ticks\":\"\"}},\"type\":\"scattercarpet\"}],\"scattergeo\":[{\"marker\":{\"colorbar\":{\"outlinewidth\":0,\"ticks\":\"\"}},\"type\":\"scattergeo\"}],\"scattergl\":[{\"marker\":{\"colorbar\":{\"outlinewidth\":0,\"ticks\":\"\"}},\"type\":\"scattergl\"}],\"scattermapbox\":[{\"marker\":{\"colorbar\":{\"outlinewidth\":0,\"ticks\":\"\"}},\"type\":\"scattermapbox\"}],\"scatterpolar\":[{\"marker\":{\"colorbar\":{\"outlinewidth\":0,\"ticks\":\"\"}},\"type\":\"scatterpolar\"}],\"scatterpolargl\":[{\"marker\":{\"colorbar\":{\"outlinewidth\":0,\"ticks\":\"\"}},\"type\":\"scatterpolargl\"}],\"scatterternary\":[{\"marker\":{\"colorbar\":{\"outlinewidth\":0,\"ticks\":\"\"}},\"type\":\"scatterternary\"}],\"surface\":[{\"colorbar\":{\"outlinewidth\":0,\"ticks\":\"\"},\"colorscale\":[[0.0,\"#0d0887\"],[0.1111111111111111,\"#46039f\"],[0.2222222222222222,\"#7201a8\"],[0.3333333333333333,\"#9c179e\"],[0.4444444444444444,\"#bd3786\"],[0.5555555555555556,\"#d8576b\"],[0.6666666666666666,\"#ed7953\"],[0.7777777777777778,\"#fb9f3a\"],[0.8888888888888888,\"#fdca26\"],[1.0,\"#f0f921\"]],\"type\":\"surface\"}],\"table\":[{\"cells\":{\"fill\":{\"color\":\"#EBF0F8\"},\"line\":{\"color\":\"white\"}},\"header\":{\"fill\":{\"color\":\"#C8D4E3\"},\"line\":{\"color\":\"white\"}},\"type\":\"table\"}]},\"layout\":{\"annotationdefaults\":{\"arrowcolor\":\"#2a3f5f\",\"arrowhead\":0,\"arrowwidth\":1},\"autotypenumbers\":\"strict\",\"coloraxis\":{\"colorbar\":{\"outlinewidth\":0,\"ticks\":\"\"}},\"colorscale\":{\"diverging\":[[0,\"#8e0152\"],[0.1,\"#c51b7d\"],[0.2,\"#de77ae\"],[0.3,\"#f1b6da\"],[0.4,\"#fde0ef\"],[0.5,\"#f7f7f7\"],[0.6,\"#e6f5d0\"],[0.7,\"#b8e186\"],[0.8,\"#7fbc41\"],[0.9,\"#4d9221\"],[1,\"#276419\"]],\"sequential\":[[0.0,\"#0d0887\"],[0.1111111111111111,\"#46039f\"],[0.2222222222222222,\"#7201a8\"],[0.3333333333333333,\"#9c179e\"],[0.4444444444444444,\"#bd3786\"],[0.5555555555555556,\"#d8576b\"],[0.6666666666666666,\"#ed7953\"],[0.7777777777777778,\"#fb9f3a\"],[0.8888888888888888,\"#fdca26\"],[1.0,\"#f0f921\"]],\"sequentialminus\":[[0.0,\"#0d0887\"],[0.1111111111111111,\"#46039f\"],[0.2222222222222222,\"#7201a8\"],[0.3333333333333333,\"#9c179e\"],[0.4444444444444444,\"#bd3786\"],[0.5555555555555556,\"#d8576b\"],[0.6666666666666666,\"#ed7953\"],[0.7777777777777778,\"#fb9f3a\"],[0.8888888888888888,\"#fdca26\"],[1.0,\"#f0f921\"]]},\"colorway\":[\"#636efa\",\"#EF553B\",\"#00cc96\",\"#ab63fa\",\"#FFA15A\",\"#19d3f3\",\"#FF6692\",\"#B6E880\",\"#FF97FF\",\"#FECB52\"],\"font\":{\"color\":\"#2a3f5f\"},\"geo\":{\"bgcolor\":\"white\",\"lakecolor\":\"white\",\"landcolor\":\"#E5ECF6\",\"showlakes\":true,\"showland\":true,\"subunitcolor\":\"white\"},\"hoverlabel\":{\"align\":\"left\"},\"hovermode\":\"closest\",\"mapbox\":{\"style\":\"light\"},\"paper_bgcolor\":\"white\",\"plot_bgcolor\":\"#E5ECF6\",\"polar\":{\"angularaxis\":{\"gridcolor\":\"white\",\"linecolor\":\"white\",\"ticks\":\"\"},\"bgcolor\":\"#E5ECF6\",\"radialaxis\":{\"gridcolor\":\"white\",\"linecolor\":\"white\",\"ticks\":\"\"}},\"scene\":{\"xaxis\":{\"backgroundcolor\":\"#E5ECF6\",\"gridcolor\":\"white\",\"gridwidth\":2,\"linecolor\":\"white\",\"showbackground\":true,\"ticks\":\"\",\"zerolinecolor\":\"white\"},\"yaxis\":{\"backgroundcolor\":\"#E5ECF6\",\"gridcolor\":\"white\",\"gridwidth\":2,\"linecolor\":\"white\",\"showbackground\":true,\"ticks\":\"\",\"zerolinecolor\":\"white\"},\"zaxis\":{\"backgroundcolor\":\"#E5ECF6\",\"gridcolor\":\"white\",\"gridwidth\":2,\"linecolor\":\"white\",\"showbackground\":true,\"ticks\":\"\",\"zerolinecolor\":\"white\"}},\"shapedefaults\":{\"line\":{\"color\":\"#2a3f5f\"}},\"ternary\":{\"aaxis\":{\"gridcolor\":\"white\",\"linecolor\":\"white\",\"ticks\":\"\"},\"baxis\":{\"gridcolor\":\"white\",\"linecolor\":\"white\",\"ticks\":\"\"},\"bgcolor\":\"#E5ECF6\",\"caxis\":{\"gridcolor\":\"white\",\"linecolor\":\"white\",\"ticks\":\"\"}},\"title\":{\"x\":0.05},\"xaxis\":{\"automargin\":true,\"gridcolor\":\"white\",\"linecolor\":\"white\",\"ticks\":\"\",\"title\":{\"standoff\":15},\"zerolinecolor\":\"white\",\"zerolinewidth\":2},\"yaxis\":{\"automargin\":true,\"gridcolor\":\"white\",\"linecolor\":\"white\",\"ticks\":\"\",\"title\":{\"standoff\":15},\"zerolinecolor\":\"white\",\"zerolinewidth\":2}}},\"coloraxis\":{\"colorbar\":{\"title\":{\"text\":\"ave_score_itars\"}},\"colorscale\":[[0.0,\"rgb(103,0,31)\"],[0.1,\"rgb(178,24,43)\"],[0.2,\"rgb(214,96,77)\"],[0.3,\"rgb(244,165,130)\"],[0.4,\"rgb(253,219,199)\"],[0.5,\"rgb(247,247,247)\"],[0.6,\"rgb(209,229,240)\"],[0.7,\"rgb(146,197,222)\"],[0.8,\"rgb(67,147,195)\"],[0.9,\"rgb(33,102,172)\"],[1.0,\"rgb(5,48,97)\"]],\"cmid\":144.30885882929329},\"legend\":{\"tracegroupgap\":0},\"margin\":{\"t\":50,\"l\":25,\"r\":25,\"b\":25}},                        {\"responsive\": true}                    ).then(function(){\n",
       "                            \n",
       "var gd = document.getElementById('6c1fbd3e-380c-4daa-a2a4-cd8642ca37c4');\n",
       "var x = new MutationObserver(function (mutations, observer) {{\n",
       "        var display = window.getComputedStyle(gd).display;\n",
       "        if (!display || display === 'none') {{\n",
       "            console.log([gd, 'removed!']);\n",
       "            Plotly.purge(gd);\n",
       "            observer.disconnect();\n",
       "        }}\n",
       "}});\n",
       "\n",
       "// Listen for the removal of the full notebook cells\n",
       "var notebookContainer = gd.closest('#notebook-container');\n",
       "if (notebookContainer) {{\n",
       "    x.observe(notebookContainer, {childList: true});\n",
       "}}\n",
       "\n",
       "// Listen for the clearing of the current output cell\n",
       "var outputEl = gd.closest('.output');\n",
       "if (outputEl) {{\n",
       "    x.observe(outputEl, {childList: true});\n",
       "}}\n",
       "\n",
       "                        })                };                });            </script>        </div>"
      ]
     },
     "metadata": {},
     "output_type": "display_data"
    },
    {
     "data": {
      "application/vnd.plotly.v1+json": {
       "config": {
        "plotlyServerURL": "https://plot.ly"
       },
       "data": [
        {
         "branchvalues": "total",
         "customdata": [
          [
           150.5,
           140.6
          ],
          [
           211.77358490566039,
           151.0754716981132
          ],
          [
           182.2925170068027,
           139.48979591836735
          ],
          [
           169.04166666666666,
           142.91666666666666
          ],
          [
           181.66666666666666,
           151.5
          ],
          [
           240.16,
           152.68
          ],
          [
           218.26944444444445,
           156.7763888888889
          ],
          [
           138.8108108108108,
           127.24324324324324
          ],
          [
           158.125,
           146.375
          ],
          [
           175.5,
           138.375
          ],
          [
           144.24489795918367,
           138.9795918367347
          ],
          [
           334,
           203
          ],
          [
           231.04488778054863,
           161.40399002493766
          ],
          [
           197.28030303030303,
           150.6590909090909
          ],
          [
           233.5,
           179
          ],
          [
           143,
           151.33333333333334
          ],
          [
           122.25,
           130.75
          ],
          [
           185.42105263157896,
           161.10526315789474
          ],
          [
           98.5,
           159.5
          ],
          [
           199,
           149.59259259259258
          ],
          [
           169,
           126
          ],
          [
           170.5,
           167.5
          ],
          [
           264.375,
           160.375
          ],
          [
           "(?)",
           153.8062538320049
          ],
          [
           "(?)",
           152.2405063291139
          ],
          [
           150.5,
           140.6
          ],
          [
           "(?)",
           153.65755813953487
          ]
         ],
         "domain": {
          "x": [
           0,
           1
          ],
          "y": [
           0,
           1
          ]
         },
         "hovertemplate": "labels=%{label}<br>class_counts=%{value}<br>parent=%{parent}<br>id=%{id}<br>ave_elo_ivits=%{customdata[0]}<br>ave_score_ivits=%{color}<extra></extra>",
         "ids": [
          "R1 Structures: Frequency and Overall Score for ivits/ac2/ 0_m / 0_ts / 0_lab / 1_pi / 0_ac1 / 1_ac2",
          "R1 Structures: Frequency and Overall Score for ivits/ac1/ 0_m / 0_ts / 0_lab / 1_pi / 1_ac1 / 0_ac2",
          "R1 Structures: Frequency and Overall Score for ivits/PI/ 0_m / 0_ts / 1_lab / 1_pi / 0_ac1 / 0_ac2",
          "R1 Structures: Frequency and Overall Score for ivits/PI/ 0_m / 1_ts / 1_lab / 1_pi / 0_ac1 / 0_ac2",
          "R1 Structures: Frequency and Overall Score for ivits/PI/ 0_m / 2_ts / 0_lab / 1_pi / 0_ac1 / 0_ac2",
          "R1 Structures: Frequency and Overall Score for ivits/ac1/ 1_m / 0_ts / 0_lab / 1_pi / 1_ac1 / 0_ac2",
          "R1 Structures: Frequency and Overall Score for ivits/PI/ 1_m / 0_ts / 1_lab / 1_pi / 0_ac1 / 0_ac2",
          "R1 Structures: Frequency and Overall Score for ivits/PI/ 1_m / 1_ts / 0_lab / 1_pi / 0_ac1 / 0_ac2",
          "R1 Structures: Frequency and Overall Score for ivits/PI/ 1_m / 1_ts / 1_lab / 1_pi / 0_ac1 / 0_ac2",
          "R1 Structures: Frequency and Overall Score for ivits/PI/ 1_m / 2_ts / 0_lab / 1_pi / 0_ac1 / 0_ac2",
          "R1 Structures: Frequency and Overall Score for ivits/PI/ 2_m / 0_ts / 0_lab / 1_pi / 0_ac1 / 0_ac2",
          "R1 Structures: Frequency and Overall Score for ivits/ac1/ 2_m / 0_ts / 0_lab / 1_pi / 1_ac1 / 0_ac2",
          "R1 Structures: Frequency and Overall Score for ivits/PI/ 2_m / 0_ts / 1_lab / 1_pi / 0_ac1 / 0_ac2",
          "R1 Structures: Frequency and Overall Score for ivits/PI/ 2_m / 1_ts / 0_lab / 1_pi / 0_ac1 / 0_ac2",
          "R1 Structures: Frequency and Overall Score for ivits/PI/ 2_m / 1_ts / 1_lab / 1_pi / 0_ac1 / 0_ac2",
          "R1 Structures: Frequency and Overall Score for ivits/PI/ 2_m / 2_ts / 0_lab / 1_pi / 0_ac1 / 0_ac2",
          "R1 Structures: Frequency and Overall Score for ivits/PI/ 3_m / 0_ts / 0_lab / 1_pi / 0_ac1 / 0_ac2",
          "R1 Structures: Frequency and Overall Score for ivits/PI/ 3_m / 0_ts / 1_lab / 1_pi / 0_ac1 / 0_ac2",
          "R1 Structures: Frequency and Overall Score for ivits/PI/ 3_m / 1_ts / 0_lab / 1_pi / 0_ac1 / 0_ac2",
          "R1 Structures: Frequency and Overall Score for ivits/PI/ 4_m / 0_ts / 0_lab / 1_pi / 0_ac1 / 0_ac2",
          "R1 Structures: Frequency and Overall Score for ivits/PI/ 4_m / 0_ts / 1_lab / 1_pi / 0_ac1 / 0_ac2",
          "R1 Structures: Frequency and Overall Score for ivits/PI/ 4_m / 1_ts / 0_lab / 1_pi / 0_ac1 / 0_ac2",
          "R1 Structures: Frequency and Overall Score for ivits/PI/ 5_m / 0_ts / 0_lab / 1_pi / 0_ac1 / 0_ac2",
          "R1 Structures: Frequency and Overall Score for ivits/PI",
          "R1 Structures: Frequency and Overall Score for ivits/ac1",
          "R1 Structures: Frequency and Overall Score for ivits/ac2",
          "R1 Structures: Frequency and Overall Score for ivits"
         ],
         "labels": [
          " 0_m / 0_ts / 0_lab / 1_pi / 0_ac1 / 1_ac2",
          " 0_m / 0_ts / 0_lab / 1_pi / 1_ac1 / 0_ac2",
          " 0_m / 0_ts / 1_lab / 1_pi / 0_ac1 / 0_ac2",
          " 0_m / 1_ts / 1_lab / 1_pi / 0_ac1 / 0_ac2",
          " 0_m / 2_ts / 0_lab / 1_pi / 0_ac1 / 0_ac2",
          " 1_m / 0_ts / 0_lab / 1_pi / 1_ac1 / 0_ac2",
          " 1_m / 0_ts / 1_lab / 1_pi / 0_ac1 / 0_ac2",
          " 1_m / 1_ts / 0_lab / 1_pi / 0_ac1 / 0_ac2",
          " 1_m / 1_ts / 1_lab / 1_pi / 0_ac1 / 0_ac2",
          " 1_m / 2_ts / 0_lab / 1_pi / 0_ac1 / 0_ac2",
          " 2_m / 0_ts / 0_lab / 1_pi / 0_ac1 / 0_ac2",
          " 2_m / 0_ts / 0_lab / 1_pi / 1_ac1 / 0_ac2",
          " 2_m / 0_ts / 1_lab / 1_pi / 0_ac1 / 0_ac2",
          " 2_m / 1_ts / 0_lab / 1_pi / 0_ac1 / 0_ac2",
          " 2_m / 1_ts / 1_lab / 1_pi / 0_ac1 / 0_ac2",
          " 2_m / 2_ts / 0_lab / 1_pi / 0_ac1 / 0_ac2",
          " 3_m / 0_ts / 0_lab / 1_pi / 0_ac1 / 0_ac2",
          " 3_m / 0_ts / 1_lab / 1_pi / 0_ac1 / 0_ac2",
          " 3_m / 1_ts / 0_lab / 1_pi / 0_ac1 / 0_ac2",
          " 4_m / 0_ts / 0_lab / 1_pi / 0_ac1 / 0_ac2",
          " 4_m / 0_ts / 1_lab / 1_pi / 0_ac1 / 0_ac2",
          " 4_m / 1_ts / 0_lab / 1_pi / 0_ac1 / 0_ac2",
          " 5_m / 0_ts / 0_lab / 1_pi / 0_ac1 / 0_ac2",
          "PI",
          "ac1",
          "ac2",
          "R1 Structures: Frequency and Overall Score for ivits"
         ],
         "marker": {
          "coloraxis": "coloraxis",
          "colors": [
           140.6,
           151.0754716981132,
           139.48979591836735,
           142.91666666666666,
           151.5,
           152.68,
           156.7763888888889,
           127.24324324324324,
           146.375,
           138.375,
           138.9795918367347,
           203,
           161.40399002493766,
           150.6590909090909,
           179,
           151.33333333333334,
           130.75,
           161.10526315789474,
           159.5,
           149.59259259259258,
           126,
           167.5,
           160.375,
           153.8062538320049,
           152.2405063291139,
           140.6,
           153.65755813953487
          ]
         },
         "name": "",
         "parents": [
          "R1 Structures: Frequency and Overall Score for ivits/ac2",
          "R1 Structures: Frequency and Overall Score for ivits/ac1",
          "R1 Structures: Frequency and Overall Score for ivits/PI",
          "R1 Structures: Frequency and Overall Score for ivits/PI",
          "R1 Structures: Frequency and Overall Score for ivits/PI",
          "R1 Structures: Frequency and Overall Score for ivits/ac1",
          "R1 Structures: Frequency and Overall Score for ivits/PI",
          "R1 Structures: Frequency and Overall Score for ivits/PI",
          "R1 Structures: Frequency and Overall Score for ivits/PI",
          "R1 Structures: Frequency and Overall Score for ivits/PI",
          "R1 Structures: Frequency and Overall Score for ivits/PI",
          "R1 Structures: Frequency and Overall Score for ivits/ac1",
          "R1 Structures: Frequency and Overall Score for ivits/PI",
          "R1 Structures: Frequency and Overall Score for ivits/PI",
          "R1 Structures: Frequency and Overall Score for ivits/PI",
          "R1 Structures: Frequency and Overall Score for ivits/PI",
          "R1 Structures: Frequency and Overall Score for ivits/PI",
          "R1 Structures: Frequency and Overall Score for ivits/PI",
          "R1 Structures: Frequency and Overall Score for ivits/PI",
          "R1 Structures: Frequency and Overall Score for ivits/PI",
          "R1 Structures: Frequency and Overall Score for ivits/PI",
          "R1 Structures: Frequency and Overall Score for ivits/PI",
          "R1 Structures: Frequency and Overall Score for ivits/PI",
          "R1 Structures: Frequency and Overall Score for ivits",
          "R1 Structures: Frequency and Overall Score for ivits",
          "R1 Structures: Frequency and Overall Score for ivits",
          ""
         ],
         "type": "treemap",
         "values": [
          10,
          53,
          147,
          24,
          6,
          25,
          720,
          37,
          16,
          8,
          49,
          1,
          401,
          132,
          2,
          3,
          24,
          19,
          4,
          27,
          2,
          2,
          8,
          1631,
          79,
          10,
          1720
         ]
        }
       ],
       "layout": {
        "coloraxis": {
         "cmid": 144.30885882929329,
         "colorbar": {
          "title": {
           "text": "ave_score_ivits"
          }
         },
         "colorscale": [
          [
           0,
           "rgb(103,0,31)"
          ],
          [
           0.1,
           "rgb(178,24,43)"
          ],
          [
           0.2,
           "rgb(214,96,77)"
          ],
          [
           0.3,
           "rgb(244,165,130)"
          ],
          [
           0.4,
           "rgb(253,219,199)"
          ],
          [
           0.5,
           "rgb(247,247,247)"
          ],
          [
           0.6,
           "rgb(209,229,240)"
          ],
          [
           0.7,
           "rgb(146,197,222)"
          ],
          [
           0.8,
           "rgb(67,147,195)"
          ],
          [
           0.9,
           "rgb(33,102,172)"
          ],
          [
           1,
           "rgb(5,48,97)"
          ]
         ]
        },
        "legend": {
         "tracegroupgap": 0
        },
        "margin": {
         "b": 25,
         "l": 25,
         "r": 25,
         "t": 50
        },
        "template": {
         "data": {
          "bar": [
           {
            "error_x": {
             "color": "#2a3f5f"
            },
            "error_y": {
             "color": "#2a3f5f"
            },
            "marker": {
             "line": {
              "color": "#E5ECF6",
              "width": 0.5
             },
             "pattern": {
              "fillmode": "overlay",
              "size": 10,
              "solidity": 0.2
             }
            },
            "type": "bar"
           }
          ],
          "barpolar": [
           {
            "marker": {
             "line": {
              "color": "#E5ECF6",
              "width": 0.5
             },
             "pattern": {
              "fillmode": "overlay",
              "size": 10,
              "solidity": 0.2
             }
            },
            "type": "barpolar"
           }
          ],
          "carpet": [
           {
            "aaxis": {
             "endlinecolor": "#2a3f5f",
             "gridcolor": "white",
             "linecolor": "white",
             "minorgridcolor": "white",
             "startlinecolor": "#2a3f5f"
            },
            "baxis": {
             "endlinecolor": "#2a3f5f",
             "gridcolor": "white",
             "linecolor": "white",
             "minorgridcolor": "white",
             "startlinecolor": "#2a3f5f"
            },
            "type": "carpet"
           }
          ],
          "choropleth": [
           {
            "colorbar": {
             "outlinewidth": 0,
             "ticks": ""
            },
            "type": "choropleth"
           }
          ],
          "contour": [
           {
            "colorbar": {
             "outlinewidth": 0,
             "ticks": ""
            },
            "colorscale": [
             [
              0,
              "#0d0887"
             ],
             [
              0.1111111111111111,
              "#46039f"
             ],
             [
              0.2222222222222222,
              "#7201a8"
             ],
             [
              0.3333333333333333,
              "#9c179e"
             ],
             [
              0.4444444444444444,
              "#bd3786"
             ],
             [
              0.5555555555555556,
              "#d8576b"
             ],
             [
              0.6666666666666666,
              "#ed7953"
             ],
             [
              0.7777777777777778,
              "#fb9f3a"
             ],
             [
              0.8888888888888888,
              "#fdca26"
             ],
             [
              1,
              "#f0f921"
             ]
            ],
            "type": "contour"
           }
          ],
          "contourcarpet": [
           {
            "colorbar": {
             "outlinewidth": 0,
             "ticks": ""
            },
            "type": "contourcarpet"
           }
          ],
          "heatmap": [
           {
            "colorbar": {
             "outlinewidth": 0,
             "ticks": ""
            },
            "colorscale": [
             [
              0,
              "#0d0887"
             ],
             [
              0.1111111111111111,
              "#46039f"
             ],
             [
              0.2222222222222222,
              "#7201a8"
             ],
             [
              0.3333333333333333,
              "#9c179e"
             ],
             [
              0.4444444444444444,
              "#bd3786"
             ],
             [
              0.5555555555555556,
              "#d8576b"
             ],
             [
              0.6666666666666666,
              "#ed7953"
             ],
             [
              0.7777777777777778,
              "#fb9f3a"
             ],
             [
              0.8888888888888888,
              "#fdca26"
             ],
             [
              1,
              "#f0f921"
             ]
            ],
            "type": "heatmap"
           }
          ],
          "heatmapgl": [
           {
            "colorbar": {
             "outlinewidth": 0,
             "ticks": ""
            },
            "colorscale": [
             [
              0,
              "#0d0887"
             ],
             [
              0.1111111111111111,
              "#46039f"
             ],
             [
              0.2222222222222222,
              "#7201a8"
             ],
             [
              0.3333333333333333,
              "#9c179e"
             ],
             [
              0.4444444444444444,
              "#bd3786"
             ],
             [
              0.5555555555555556,
              "#d8576b"
             ],
             [
              0.6666666666666666,
              "#ed7953"
             ],
             [
              0.7777777777777778,
              "#fb9f3a"
             ],
             [
              0.8888888888888888,
              "#fdca26"
             ],
             [
              1,
              "#f0f921"
             ]
            ],
            "type": "heatmapgl"
           }
          ],
          "histogram": [
           {
            "marker": {
             "pattern": {
              "fillmode": "overlay",
              "size": 10,
              "solidity": 0.2
             }
            },
            "type": "histogram"
           }
          ],
          "histogram2d": [
           {
            "colorbar": {
             "outlinewidth": 0,
             "ticks": ""
            },
            "colorscale": [
             [
              0,
              "#0d0887"
             ],
             [
              0.1111111111111111,
              "#46039f"
             ],
             [
              0.2222222222222222,
              "#7201a8"
             ],
             [
              0.3333333333333333,
              "#9c179e"
             ],
             [
              0.4444444444444444,
              "#bd3786"
             ],
             [
              0.5555555555555556,
              "#d8576b"
             ],
             [
              0.6666666666666666,
              "#ed7953"
             ],
             [
              0.7777777777777778,
              "#fb9f3a"
             ],
             [
              0.8888888888888888,
              "#fdca26"
             ],
             [
              1,
              "#f0f921"
             ]
            ],
            "type": "histogram2d"
           }
          ],
          "histogram2dcontour": [
           {
            "colorbar": {
             "outlinewidth": 0,
             "ticks": ""
            },
            "colorscale": [
             [
              0,
              "#0d0887"
             ],
             [
              0.1111111111111111,
              "#46039f"
             ],
             [
              0.2222222222222222,
              "#7201a8"
             ],
             [
              0.3333333333333333,
              "#9c179e"
             ],
             [
              0.4444444444444444,
              "#bd3786"
             ],
             [
              0.5555555555555556,
              "#d8576b"
             ],
             [
              0.6666666666666666,
              "#ed7953"
             ],
             [
              0.7777777777777778,
              "#fb9f3a"
             ],
             [
              0.8888888888888888,
              "#fdca26"
             ],
             [
              1,
              "#f0f921"
             ]
            ],
            "type": "histogram2dcontour"
           }
          ],
          "mesh3d": [
           {
            "colorbar": {
             "outlinewidth": 0,
             "ticks": ""
            },
            "type": "mesh3d"
           }
          ],
          "parcoords": [
           {
            "line": {
             "colorbar": {
              "outlinewidth": 0,
              "ticks": ""
             }
            },
            "type": "parcoords"
           }
          ],
          "pie": [
           {
            "automargin": true,
            "type": "pie"
           }
          ],
          "scatter": [
           {
            "marker": {
             "colorbar": {
              "outlinewidth": 0,
              "ticks": ""
             }
            },
            "type": "scatter"
           }
          ],
          "scatter3d": [
           {
            "line": {
             "colorbar": {
              "outlinewidth": 0,
              "ticks": ""
             }
            },
            "marker": {
             "colorbar": {
              "outlinewidth": 0,
              "ticks": ""
             }
            },
            "type": "scatter3d"
           }
          ],
          "scattercarpet": [
           {
            "marker": {
             "colorbar": {
              "outlinewidth": 0,
              "ticks": ""
             }
            },
            "type": "scattercarpet"
           }
          ],
          "scattergeo": [
           {
            "marker": {
             "colorbar": {
              "outlinewidth": 0,
              "ticks": ""
             }
            },
            "type": "scattergeo"
           }
          ],
          "scattergl": [
           {
            "marker": {
             "colorbar": {
              "outlinewidth": 0,
              "ticks": ""
             }
            },
            "type": "scattergl"
           }
          ],
          "scattermapbox": [
           {
            "marker": {
             "colorbar": {
              "outlinewidth": 0,
              "ticks": ""
             }
            },
            "type": "scattermapbox"
           }
          ],
          "scatterpolar": [
           {
            "marker": {
             "colorbar": {
              "outlinewidth": 0,
              "ticks": ""
             }
            },
            "type": "scatterpolar"
           }
          ],
          "scatterpolargl": [
           {
            "marker": {
             "colorbar": {
              "outlinewidth": 0,
              "ticks": ""
             }
            },
            "type": "scatterpolargl"
           }
          ],
          "scatterternary": [
           {
            "marker": {
             "colorbar": {
              "outlinewidth": 0,
              "ticks": ""
             }
            },
            "type": "scatterternary"
           }
          ],
          "surface": [
           {
            "colorbar": {
             "outlinewidth": 0,
             "ticks": ""
            },
            "colorscale": [
             [
              0,
              "#0d0887"
             ],
             [
              0.1111111111111111,
              "#46039f"
             ],
             [
              0.2222222222222222,
              "#7201a8"
             ],
             [
              0.3333333333333333,
              "#9c179e"
             ],
             [
              0.4444444444444444,
              "#bd3786"
             ],
             [
              0.5555555555555556,
              "#d8576b"
             ],
             [
              0.6666666666666666,
              "#ed7953"
             ],
             [
              0.7777777777777778,
              "#fb9f3a"
             ],
             [
              0.8888888888888888,
              "#fdca26"
             ],
             [
              1,
              "#f0f921"
             ]
            ],
            "type": "surface"
           }
          ],
          "table": [
           {
            "cells": {
             "fill": {
              "color": "#EBF0F8"
             },
             "line": {
              "color": "white"
             }
            },
            "header": {
             "fill": {
              "color": "#C8D4E3"
             },
             "line": {
              "color": "white"
             }
            },
            "type": "table"
           }
          ]
         },
         "layout": {
          "annotationdefaults": {
           "arrowcolor": "#2a3f5f",
           "arrowhead": 0,
           "arrowwidth": 1
          },
          "autotypenumbers": "strict",
          "coloraxis": {
           "colorbar": {
            "outlinewidth": 0,
            "ticks": ""
           }
          },
          "colorscale": {
           "diverging": [
            [
             0,
             "#8e0152"
            ],
            [
             0.1,
             "#c51b7d"
            ],
            [
             0.2,
             "#de77ae"
            ],
            [
             0.3,
             "#f1b6da"
            ],
            [
             0.4,
             "#fde0ef"
            ],
            [
             0.5,
             "#f7f7f7"
            ],
            [
             0.6,
             "#e6f5d0"
            ],
            [
             0.7,
             "#b8e186"
            ],
            [
             0.8,
             "#7fbc41"
            ],
            [
             0.9,
             "#4d9221"
            ],
            [
             1,
             "#276419"
            ]
           ],
           "sequential": [
            [
             0,
             "#0d0887"
            ],
            [
             0.1111111111111111,
             "#46039f"
            ],
            [
             0.2222222222222222,
             "#7201a8"
            ],
            [
             0.3333333333333333,
             "#9c179e"
            ],
            [
             0.4444444444444444,
             "#bd3786"
            ],
            [
             0.5555555555555556,
             "#d8576b"
            ],
            [
             0.6666666666666666,
             "#ed7953"
            ],
            [
             0.7777777777777778,
             "#fb9f3a"
            ],
            [
             0.8888888888888888,
             "#fdca26"
            ],
            [
             1,
             "#f0f921"
            ]
           ],
           "sequentialminus": [
            [
             0,
             "#0d0887"
            ],
            [
             0.1111111111111111,
             "#46039f"
            ],
            [
             0.2222222222222222,
             "#7201a8"
            ],
            [
             0.3333333333333333,
             "#9c179e"
            ],
            [
             0.4444444444444444,
             "#bd3786"
            ],
            [
             0.5555555555555556,
             "#d8576b"
            ],
            [
             0.6666666666666666,
             "#ed7953"
            ],
            [
             0.7777777777777778,
             "#fb9f3a"
            ],
            [
             0.8888888888888888,
             "#fdca26"
            ],
            [
             1,
             "#f0f921"
            ]
           ]
          },
          "colorway": [
           "#636efa",
           "#EF553B",
           "#00cc96",
           "#ab63fa",
           "#FFA15A",
           "#19d3f3",
           "#FF6692",
           "#B6E880",
           "#FF97FF",
           "#FECB52"
          ],
          "font": {
           "color": "#2a3f5f"
          },
          "geo": {
           "bgcolor": "white",
           "lakecolor": "white",
           "landcolor": "#E5ECF6",
           "showlakes": true,
           "showland": true,
           "subunitcolor": "white"
          },
          "hoverlabel": {
           "align": "left"
          },
          "hovermode": "closest",
          "mapbox": {
           "style": "light"
          },
          "paper_bgcolor": "white",
          "plot_bgcolor": "#E5ECF6",
          "polar": {
           "angularaxis": {
            "gridcolor": "white",
            "linecolor": "white",
            "ticks": ""
           },
           "bgcolor": "#E5ECF6",
           "radialaxis": {
            "gridcolor": "white",
            "linecolor": "white",
            "ticks": ""
           }
          },
          "scene": {
           "xaxis": {
            "backgroundcolor": "#E5ECF6",
            "gridcolor": "white",
            "gridwidth": 2,
            "linecolor": "white",
            "showbackground": true,
            "ticks": "",
            "zerolinecolor": "white"
           },
           "yaxis": {
            "backgroundcolor": "#E5ECF6",
            "gridcolor": "white",
            "gridwidth": 2,
            "linecolor": "white",
            "showbackground": true,
            "ticks": "",
            "zerolinecolor": "white"
           },
           "zaxis": {
            "backgroundcolor": "#E5ECF6",
            "gridcolor": "white",
            "gridwidth": 2,
            "linecolor": "white",
            "showbackground": true,
            "ticks": "",
            "zerolinecolor": "white"
           }
          },
          "shapedefaults": {
           "line": {
            "color": "#2a3f5f"
           }
          },
          "ternary": {
           "aaxis": {
            "gridcolor": "white",
            "linecolor": "white",
            "ticks": ""
           },
           "baxis": {
            "gridcolor": "white",
            "linecolor": "white",
            "ticks": ""
           },
           "bgcolor": "#E5ECF6",
           "caxis": {
            "gridcolor": "white",
            "linecolor": "white",
            "ticks": ""
           }
          },
          "title": {
           "x": 0.05
          },
          "xaxis": {
           "automargin": true,
           "gridcolor": "white",
           "linecolor": "white",
           "ticks": "",
           "title": {
            "standoff": 15
           },
           "zerolinecolor": "white",
           "zerolinewidth": 2
          },
          "yaxis": {
           "automargin": true,
           "gridcolor": "white",
           "linecolor": "white",
           "ticks": "",
           "title": {
            "standoff": 15
           },
           "zerolinecolor": "white",
           "zerolinewidth": 2
          }
         }
        }
       }
      },
      "text/html": [
       "<div>                            <div id=\"6d04e74b-0fa5-49cd-8a6b-889f131ed77f\" class=\"plotly-graph-div\" style=\"height:525px; width:100%;\"></div>            <script type=\"text/javascript\">                require([\"plotly\"], function(Plotly) {                    window.PLOTLYENV=window.PLOTLYENV || {};                                    if (document.getElementById(\"6d04e74b-0fa5-49cd-8a6b-889f131ed77f\")) {                    Plotly.newPlot(                        \"6d04e74b-0fa5-49cd-8a6b-889f131ed77f\",                        [{\"branchvalues\":\"total\",\"customdata\":[[150.5,140.6],[211.77358490566039,151.0754716981132],[182.2925170068027,139.48979591836735],[169.04166666666666,142.91666666666666],[181.66666666666666,151.5],[240.16,152.68],[218.26944444444445,156.7763888888889],[138.8108108108108,127.24324324324324],[158.125,146.375],[175.5,138.375],[144.24489795918367,138.9795918367347],[334.0,203.0],[231.04488778054863,161.40399002493766],[197.28030303030303,150.6590909090909],[233.5,179.0],[143.0,151.33333333333334],[122.25,130.75],[185.42105263157896,161.10526315789474],[98.5,159.5],[199.0,149.59259259259258],[169.0,126.0],[170.5,167.5],[264.375,160.375],[\"(?)\",153.8062538320049],[\"(?)\",152.2405063291139],[150.5,140.6],[\"(?)\",153.65755813953487]],\"domain\":{\"x\":[0.0,1.0],\"y\":[0.0,1.0]},\"hovertemplate\":\"labels=%{label}<br>class_counts=%{value}<br>parent=%{parent}<br>id=%{id}<br>ave_elo_ivits=%{customdata[0]}<br>ave_score_ivits=%{color}<extra></extra>\",\"ids\":[\"R1 Structures: Frequency and Overall Score for ivits/ac2/ 0_m / 0_ts / 0_lab / 1_pi / 0_ac1 / 1_ac2\",\"R1 Structures: Frequency and Overall Score for ivits/ac1/ 0_m / 0_ts / 0_lab / 1_pi / 1_ac1 / 0_ac2\",\"R1 Structures: Frequency and Overall Score for ivits/PI/ 0_m / 0_ts / 1_lab / 1_pi / 0_ac1 / 0_ac2\",\"R1 Structures: Frequency and Overall Score for ivits/PI/ 0_m / 1_ts / 1_lab / 1_pi / 0_ac1 / 0_ac2\",\"R1 Structures: Frequency and Overall Score for ivits/PI/ 0_m / 2_ts / 0_lab / 1_pi / 0_ac1 / 0_ac2\",\"R1 Structures: Frequency and Overall Score for ivits/ac1/ 1_m / 0_ts / 0_lab / 1_pi / 1_ac1 / 0_ac2\",\"R1 Structures: Frequency and Overall Score for ivits/PI/ 1_m / 0_ts / 1_lab / 1_pi / 0_ac1 / 0_ac2\",\"R1 Structures: Frequency and Overall Score for ivits/PI/ 1_m / 1_ts / 0_lab / 1_pi / 0_ac1 / 0_ac2\",\"R1 Structures: Frequency and Overall Score for ivits/PI/ 1_m / 1_ts / 1_lab / 1_pi / 0_ac1 / 0_ac2\",\"R1 Structures: Frequency and Overall Score for ivits/PI/ 1_m / 2_ts / 0_lab / 1_pi / 0_ac1 / 0_ac2\",\"R1 Structures: Frequency and Overall Score for ivits/PI/ 2_m / 0_ts / 0_lab / 1_pi / 0_ac1 / 0_ac2\",\"R1 Structures: Frequency and Overall Score for ivits/ac1/ 2_m / 0_ts / 0_lab / 1_pi / 1_ac1 / 0_ac2\",\"R1 Structures: Frequency and Overall Score for ivits/PI/ 2_m / 0_ts / 1_lab / 1_pi / 0_ac1 / 0_ac2\",\"R1 Structures: Frequency and Overall Score for ivits/PI/ 2_m / 1_ts / 0_lab / 1_pi / 0_ac1 / 0_ac2\",\"R1 Structures: Frequency and Overall Score for ivits/PI/ 2_m / 1_ts / 1_lab / 1_pi / 0_ac1 / 0_ac2\",\"R1 Structures: Frequency and Overall Score for ivits/PI/ 2_m / 2_ts / 0_lab / 1_pi / 0_ac1 / 0_ac2\",\"R1 Structures: Frequency and Overall Score for ivits/PI/ 3_m / 0_ts / 0_lab / 1_pi / 0_ac1 / 0_ac2\",\"R1 Structures: Frequency and Overall Score for ivits/PI/ 3_m / 0_ts / 1_lab / 1_pi / 0_ac1 / 0_ac2\",\"R1 Structures: Frequency and Overall Score for ivits/PI/ 3_m / 1_ts / 0_lab / 1_pi / 0_ac1 / 0_ac2\",\"R1 Structures: Frequency and Overall Score for ivits/PI/ 4_m / 0_ts / 0_lab / 1_pi / 0_ac1 / 0_ac2\",\"R1 Structures: Frequency and Overall Score for ivits/PI/ 4_m / 0_ts / 1_lab / 1_pi / 0_ac1 / 0_ac2\",\"R1 Structures: Frequency and Overall Score for ivits/PI/ 4_m / 1_ts / 0_lab / 1_pi / 0_ac1 / 0_ac2\",\"R1 Structures: Frequency and Overall Score for ivits/PI/ 5_m / 0_ts / 0_lab / 1_pi / 0_ac1 / 0_ac2\",\"R1 Structures: Frequency and Overall Score for ivits/PI\",\"R1 Structures: Frequency and Overall Score for ivits/ac1\",\"R1 Structures: Frequency and Overall Score for ivits/ac2\",\"R1 Structures: Frequency and Overall Score for ivits\"],\"labels\":[\" 0_m / 0_ts / 0_lab / 1_pi / 0_ac1 / 1_ac2\",\" 0_m / 0_ts / 0_lab / 1_pi / 1_ac1 / 0_ac2\",\" 0_m / 0_ts / 1_lab / 1_pi / 0_ac1 / 0_ac2\",\" 0_m / 1_ts / 1_lab / 1_pi / 0_ac1 / 0_ac2\",\" 0_m / 2_ts / 0_lab / 1_pi / 0_ac1 / 0_ac2\",\" 1_m / 0_ts / 0_lab / 1_pi / 1_ac1 / 0_ac2\",\" 1_m / 0_ts / 1_lab / 1_pi / 0_ac1 / 0_ac2\",\" 1_m / 1_ts / 0_lab / 1_pi / 0_ac1 / 0_ac2\",\" 1_m / 1_ts / 1_lab / 1_pi / 0_ac1 / 0_ac2\",\" 1_m / 2_ts / 0_lab / 1_pi / 0_ac1 / 0_ac2\",\" 2_m / 0_ts / 0_lab / 1_pi / 0_ac1 / 0_ac2\",\" 2_m / 0_ts / 0_lab / 1_pi / 1_ac1 / 0_ac2\",\" 2_m / 0_ts / 1_lab / 1_pi / 0_ac1 / 0_ac2\",\" 2_m / 1_ts / 0_lab / 1_pi / 0_ac1 / 0_ac2\",\" 2_m / 1_ts / 1_lab / 1_pi / 0_ac1 / 0_ac2\",\" 2_m / 2_ts / 0_lab / 1_pi / 0_ac1 / 0_ac2\",\" 3_m / 0_ts / 0_lab / 1_pi / 0_ac1 / 0_ac2\",\" 3_m / 0_ts / 1_lab / 1_pi / 0_ac1 / 0_ac2\",\" 3_m / 1_ts / 0_lab / 1_pi / 0_ac1 / 0_ac2\",\" 4_m / 0_ts / 0_lab / 1_pi / 0_ac1 / 0_ac2\",\" 4_m / 0_ts / 1_lab / 1_pi / 0_ac1 / 0_ac2\",\" 4_m / 1_ts / 0_lab / 1_pi / 0_ac1 / 0_ac2\",\" 5_m / 0_ts / 0_lab / 1_pi / 0_ac1 / 0_ac2\",\"PI\",\"ac1\",\"ac2\",\"R1 Structures: Frequency and Overall Score for ivits\"],\"marker\":{\"coloraxis\":\"coloraxis\",\"colors\":[140.6,151.0754716981132,139.48979591836735,142.91666666666666,151.5,152.68,156.7763888888889,127.24324324324324,146.375,138.375,138.9795918367347,203.0,161.40399002493766,150.6590909090909,179.0,151.33333333333334,130.75,161.10526315789474,159.5,149.59259259259258,126.0,167.5,160.375,153.8062538320049,152.2405063291139,140.6,153.65755813953487]},\"name\":\"\",\"parents\":[\"R1 Structures: Frequency and Overall Score for ivits/ac2\",\"R1 Structures: Frequency and Overall Score for ivits/ac1\",\"R1 Structures: Frequency and Overall Score for ivits/PI\",\"R1 Structures: Frequency and Overall Score for ivits/PI\",\"R1 Structures: Frequency and Overall Score for ivits/PI\",\"R1 Structures: Frequency and Overall Score for ivits/ac1\",\"R1 Structures: Frequency and Overall Score for ivits/PI\",\"R1 Structures: Frequency and Overall Score for ivits/PI\",\"R1 Structures: Frequency and Overall Score for ivits/PI\",\"R1 Structures: Frequency and Overall Score for ivits/PI\",\"R1 Structures: Frequency and Overall Score for ivits/PI\",\"R1 Structures: Frequency and Overall Score for ivits/ac1\",\"R1 Structures: Frequency and Overall Score for ivits/PI\",\"R1 Structures: Frequency and Overall Score for ivits/PI\",\"R1 Structures: Frequency and Overall Score for ivits/PI\",\"R1 Structures: Frequency and Overall Score for ivits/PI\",\"R1 Structures: Frequency and Overall Score for ivits/PI\",\"R1 Structures: Frequency and Overall Score for ivits/PI\",\"R1 Structures: Frequency and Overall Score for ivits/PI\",\"R1 Structures: Frequency and Overall Score for ivits/PI\",\"R1 Structures: Frequency and Overall Score for ivits/PI\",\"R1 Structures: Frequency and Overall Score for ivits/PI\",\"R1 Structures: Frequency and Overall Score for ivits/PI\",\"R1 Structures: Frequency and Overall Score for ivits\",\"R1 Structures: Frequency and Overall Score for ivits\",\"R1 Structures: Frequency and Overall Score for ivits\",\"\"],\"values\":[10,53,147,24,6,25,720,37,16,8,49,1,401,132,2,3,24,19,4,27,2,2,8,1631,79,10,1720],\"type\":\"treemap\"}],                        {\"template\":{\"data\":{\"bar\":[{\"error_x\":{\"color\":\"#2a3f5f\"},\"error_y\":{\"color\":\"#2a3f5f\"},\"marker\":{\"line\":{\"color\":\"#E5ECF6\",\"width\":0.5},\"pattern\":{\"fillmode\":\"overlay\",\"size\":10,\"solidity\":0.2}},\"type\":\"bar\"}],\"barpolar\":[{\"marker\":{\"line\":{\"color\":\"#E5ECF6\",\"width\":0.5},\"pattern\":{\"fillmode\":\"overlay\",\"size\":10,\"solidity\":0.2}},\"type\":\"barpolar\"}],\"carpet\":[{\"aaxis\":{\"endlinecolor\":\"#2a3f5f\",\"gridcolor\":\"white\",\"linecolor\":\"white\",\"minorgridcolor\":\"white\",\"startlinecolor\":\"#2a3f5f\"},\"baxis\":{\"endlinecolor\":\"#2a3f5f\",\"gridcolor\":\"white\",\"linecolor\":\"white\",\"minorgridcolor\":\"white\",\"startlinecolor\":\"#2a3f5f\"},\"type\":\"carpet\"}],\"choropleth\":[{\"colorbar\":{\"outlinewidth\":0,\"ticks\":\"\"},\"type\":\"choropleth\"}],\"contour\":[{\"colorbar\":{\"outlinewidth\":0,\"ticks\":\"\"},\"colorscale\":[[0.0,\"#0d0887\"],[0.1111111111111111,\"#46039f\"],[0.2222222222222222,\"#7201a8\"],[0.3333333333333333,\"#9c179e\"],[0.4444444444444444,\"#bd3786\"],[0.5555555555555556,\"#d8576b\"],[0.6666666666666666,\"#ed7953\"],[0.7777777777777778,\"#fb9f3a\"],[0.8888888888888888,\"#fdca26\"],[1.0,\"#f0f921\"]],\"type\":\"contour\"}],\"contourcarpet\":[{\"colorbar\":{\"outlinewidth\":0,\"ticks\":\"\"},\"type\":\"contourcarpet\"}],\"heatmap\":[{\"colorbar\":{\"outlinewidth\":0,\"ticks\":\"\"},\"colorscale\":[[0.0,\"#0d0887\"],[0.1111111111111111,\"#46039f\"],[0.2222222222222222,\"#7201a8\"],[0.3333333333333333,\"#9c179e\"],[0.4444444444444444,\"#bd3786\"],[0.5555555555555556,\"#d8576b\"],[0.6666666666666666,\"#ed7953\"],[0.7777777777777778,\"#fb9f3a\"],[0.8888888888888888,\"#fdca26\"],[1.0,\"#f0f921\"]],\"type\":\"heatmap\"}],\"heatmapgl\":[{\"colorbar\":{\"outlinewidth\":0,\"ticks\":\"\"},\"colorscale\":[[0.0,\"#0d0887\"],[0.1111111111111111,\"#46039f\"],[0.2222222222222222,\"#7201a8\"],[0.3333333333333333,\"#9c179e\"],[0.4444444444444444,\"#bd3786\"],[0.5555555555555556,\"#d8576b\"],[0.6666666666666666,\"#ed7953\"],[0.7777777777777778,\"#fb9f3a\"],[0.8888888888888888,\"#fdca26\"],[1.0,\"#f0f921\"]],\"type\":\"heatmapgl\"}],\"histogram\":[{\"marker\":{\"pattern\":{\"fillmode\":\"overlay\",\"size\":10,\"solidity\":0.2}},\"type\":\"histogram\"}],\"histogram2d\":[{\"colorbar\":{\"outlinewidth\":0,\"ticks\":\"\"},\"colorscale\":[[0.0,\"#0d0887\"],[0.1111111111111111,\"#46039f\"],[0.2222222222222222,\"#7201a8\"],[0.3333333333333333,\"#9c179e\"],[0.4444444444444444,\"#bd3786\"],[0.5555555555555556,\"#d8576b\"],[0.6666666666666666,\"#ed7953\"],[0.7777777777777778,\"#fb9f3a\"],[0.8888888888888888,\"#fdca26\"],[1.0,\"#f0f921\"]],\"type\":\"histogram2d\"}],\"histogram2dcontour\":[{\"colorbar\":{\"outlinewidth\":0,\"ticks\":\"\"},\"colorscale\":[[0.0,\"#0d0887\"],[0.1111111111111111,\"#46039f\"],[0.2222222222222222,\"#7201a8\"],[0.3333333333333333,\"#9c179e\"],[0.4444444444444444,\"#bd3786\"],[0.5555555555555556,\"#d8576b\"],[0.6666666666666666,\"#ed7953\"],[0.7777777777777778,\"#fb9f3a\"],[0.8888888888888888,\"#fdca26\"],[1.0,\"#f0f921\"]],\"type\":\"histogram2dcontour\"}],\"mesh3d\":[{\"colorbar\":{\"outlinewidth\":0,\"ticks\":\"\"},\"type\":\"mesh3d\"}],\"parcoords\":[{\"line\":{\"colorbar\":{\"outlinewidth\":0,\"ticks\":\"\"}},\"type\":\"parcoords\"}],\"pie\":[{\"automargin\":true,\"type\":\"pie\"}],\"scatter\":[{\"marker\":{\"colorbar\":{\"outlinewidth\":0,\"ticks\":\"\"}},\"type\":\"scatter\"}],\"scatter3d\":[{\"line\":{\"colorbar\":{\"outlinewidth\":0,\"ticks\":\"\"}},\"marker\":{\"colorbar\":{\"outlinewidth\":0,\"ticks\":\"\"}},\"type\":\"scatter3d\"}],\"scattercarpet\":[{\"marker\":{\"colorbar\":{\"outlinewidth\":0,\"ticks\":\"\"}},\"type\":\"scattercarpet\"}],\"scattergeo\":[{\"marker\":{\"colorbar\":{\"outlinewidth\":0,\"ticks\":\"\"}},\"type\":\"scattergeo\"}],\"scattergl\":[{\"marker\":{\"colorbar\":{\"outlinewidth\":0,\"ticks\":\"\"}},\"type\":\"scattergl\"}],\"scattermapbox\":[{\"marker\":{\"colorbar\":{\"outlinewidth\":0,\"ticks\":\"\"}},\"type\":\"scattermapbox\"}],\"scatterpolar\":[{\"marker\":{\"colorbar\":{\"outlinewidth\":0,\"ticks\":\"\"}},\"type\":\"scatterpolar\"}],\"scatterpolargl\":[{\"marker\":{\"colorbar\":{\"outlinewidth\":0,\"ticks\":\"\"}},\"type\":\"scatterpolargl\"}],\"scatterternary\":[{\"marker\":{\"colorbar\":{\"outlinewidth\":0,\"ticks\":\"\"}},\"type\":\"scatterternary\"}],\"surface\":[{\"colorbar\":{\"outlinewidth\":0,\"ticks\":\"\"},\"colorscale\":[[0.0,\"#0d0887\"],[0.1111111111111111,\"#46039f\"],[0.2222222222222222,\"#7201a8\"],[0.3333333333333333,\"#9c179e\"],[0.4444444444444444,\"#bd3786\"],[0.5555555555555556,\"#d8576b\"],[0.6666666666666666,\"#ed7953\"],[0.7777777777777778,\"#fb9f3a\"],[0.8888888888888888,\"#fdca26\"],[1.0,\"#f0f921\"]],\"type\":\"surface\"}],\"table\":[{\"cells\":{\"fill\":{\"color\":\"#EBF0F8\"},\"line\":{\"color\":\"white\"}},\"header\":{\"fill\":{\"color\":\"#C8D4E3\"},\"line\":{\"color\":\"white\"}},\"type\":\"table\"}]},\"layout\":{\"annotationdefaults\":{\"arrowcolor\":\"#2a3f5f\",\"arrowhead\":0,\"arrowwidth\":1},\"autotypenumbers\":\"strict\",\"coloraxis\":{\"colorbar\":{\"outlinewidth\":0,\"ticks\":\"\"}},\"colorscale\":{\"diverging\":[[0,\"#8e0152\"],[0.1,\"#c51b7d\"],[0.2,\"#de77ae\"],[0.3,\"#f1b6da\"],[0.4,\"#fde0ef\"],[0.5,\"#f7f7f7\"],[0.6,\"#e6f5d0\"],[0.7,\"#b8e186\"],[0.8,\"#7fbc41\"],[0.9,\"#4d9221\"],[1,\"#276419\"]],\"sequential\":[[0.0,\"#0d0887\"],[0.1111111111111111,\"#46039f\"],[0.2222222222222222,\"#7201a8\"],[0.3333333333333333,\"#9c179e\"],[0.4444444444444444,\"#bd3786\"],[0.5555555555555556,\"#d8576b\"],[0.6666666666666666,\"#ed7953\"],[0.7777777777777778,\"#fb9f3a\"],[0.8888888888888888,\"#fdca26\"],[1.0,\"#f0f921\"]],\"sequentialminus\":[[0.0,\"#0d0887\"],[0.1111111111111111,\"#46039f\"],[0.2222222222222222,\"#7201a8\"],[0.3333333333333333,\"#9c179e\"],[0.4444444444444444,\"#bd3786\"],[0.5555555555555556,\"#d8576b\"],[0.6666666666666666,\"#ed7953\"],[0.7777777777777778,\"#fb9f3a\"],[0.8888888888888888,\"#fdca26\"],[1.0,\"#f0f921\"]]},\"colorway\":[\"#636efa\",\"#EF553B\",\"#00cc96\",\"#ab63fa\",\"#FFA15A\",\"#19d3f3\",\"#FF6692\",\"#B6E880\",\"#FF97FF\",\"#FECB52\"],\"font\":{\"color\":\"#2a3f5f\"},\"geo\":{\"bgcolor\":\"white\",\"lakecolor\":\"white\",\"landcolor\":\"#E5ECF6\",\"showlakes\":true,\"showland\":true,\"subunitcolor\":\"white\"},\"hoverlabel\":{\"align\":\"left\"},\"hovermode\":\"closest\",\"mapbox\":{\"style\":\"light\"},\"paper_bgcolor\":\"white\",\"plot_bgcolor\":\"#E5ECF6\",\"polar\":{\"angularaxis\":{\"gridcolor\":\"white\",\"linecolor\":\"white\",\"ticks\":\"\"},\"bgcolor\":\"#E5ECF6\",\"radialaxis\":{\"gridcolor\":\"white\",\"linecolor\":\"white\",\"ticks\":\"\"}},\"scene\":{\"xaxis\":{\"backgroundcolor\":\"#E5ECF6\",\"gridcolor\":\"white\",\"gridwidth\":2,\"linecolor\":\"white\",\"showbackground\":true,\"ticks\":\"\",\"zerolinecolor\":\"white\"},\"yaxis\":{\"backgroundcolor\":\"#E5ECF6\",\"gridcolor\":\"white\",\"gridwidth\":2,\"linecolor\":\"white\",\"showbackground\":true,\"ticks\":\"\",\"zerolinecolor\":\"white\"},\"zaxis\":{\"backgroundcolor\":\"#E5ECF6\",\"gridcolor\":\"white\",\"gridwidth\":2,\"linecolor\":\"white\",\"showbackground\":true,\"ticks\":\"\",\"zerolinecolor\":\"white\"}},\"shapedefaults\":{\"line\":{\"color\":\"#2a3f5f\"}},\"ternary\":{\"aaxis\":{\"gridcolor\":\"white\",\"linecolor\":\"white\",\"ticks\":\"\"},\"baxis\":{\"gridcolor\":\"white\",\"linecolor\":\"white\",\"ticks\":\"\"},\"bgcolor\":\"#E5ECF6\",\"caxis\":{\"gridcolor\":\"white\",\"linecolor\":\"white\",\"ticks\":\"\"}},\"title\":{\"x\":0.05},\"xaxis\":{\"automargin\":true,\"gridcolor\":\"white\",\"linecolor\":\"white\",\"ticks\":\"\",\"title\":{\"standoff\":15},\"zerolinecolor\":\"white\",\"zerolinewidth\":2},\"yaxis\":{\"automargin\":true,\"gridcolor\":\"white\",\"linecolor\":\"white\",\"ticks\":\"\",\"title\":{\"standoff\":15},\"zerolinecolor\":\"white\",\"zerolinewidth\":2}}},\"coloraxis\":{\"colorbar\":{\"title\":{\"text\":\"ave_score_ivits\"}},\"colorscale\":[[0.0,\"rgb(103,0,31)\"],[0.1,\"rgb(178,24,43)\"],[0.2,\"rgb(214,96,77)\"],[0.3,\"rgb(244,165,130)\"],[0.4,\"rgb(253,219,199)\"],[0.5,\"rgb(247,247,247)\"],[0.6,\"rgb(209,229,240)\"],[0.7,\"rgb(146,197,222)\"],[0.8,\"rgb(67,147,195)\"],[0.9,\"rgb(33,102,172)\"],[1.0,\"rgb(5,48,97)\"]],\"cmid\":144.30885882929329},\"legend\":{\"tracegroupgap\":0},\"margin\":{\"t\":50,\"l\":25,\"r\":25,\"b\":25}},                        {\"responsive\": true}                    ).then(function(){\n",
       "                            \n",
       "var gd = document.getElementById('6d04e74b-0fa5-49cd-8a6b-889f131ed77f');\n",
       "var x = new MutationObserver(function (mutations, observer) {{\n",
       "        var display = window.getComputedStyle(gd).display;\n",
       "        if (!display || display === 'none') {{\n",
       "            console.log([gd, 'removed!']);\n",
       "            Plotly.purge(gd);\n",
       "            observer.disconnect();\n",
       "        }}\n",
       "}});\n",
       "\n",
       "// Listen for the removal of the full notebook cells\n",
       "var notebookContainer = gd.closest('#notebook-container');\n",
       "if (notebookContainer) {{\n",
       "    x.observe(notebookContainer, {childList: true});\n",
       "}}\n",
       "\n",
       "// Listen for the clearing of the current output cell\n",
       "var outputEl = gd.closest('.output');\n",
       "if (outputEl) {{\n",
       "    x.observe(outputEl, {childList: true});\n",
       "}}\n",
       "\n",
       "                        })                };                });            </script>        </div>"
      ]
     },
     "metadata": {},
     "output_type": "display_data"
    },
    {
     "data": {
      "application/vnd.plotly.v1+json": {
       "config": {
        "plotlyServerURL": "https://plot.ly"
       },
       "data": [
        {
         "branchvalues": "total",
         "customdata": [
          [
           212,
           140.8125
          ],
          [
           257,
           168
          ],
          [
           159.45454545454547,
           138.8181818181818
          ],
          [
           10,
           105
          ],
          [
           200.8783783783784,
           150.3783783783784
          ],
          [
           226.49433962264152,
           148.06037735849057
          ],
          [
           170.19607843137254,
           131.72549019607843
          ],
          [
           266.42857142857144,
           163
          ],
          [
           174.1764705882353,
           134.86274509803923
          ],
          [
           200.53703703703704,
           148.96296296296296
          ],
          [
           266.38260869565215,
           146.96521739130435
          ],
          [
           220.368115942029,
           148.52463768115942
          ],
          [
           112.25,
           110.75
          ],
          [
           217.31578947368422,
           143.67105263157896
          ],
          [
           190,
           132
          ],
          [
           41.333333333333336,
           87.66666666666667
          ],
          [
           185,
           156
          ],
          [
           434,
           141
          ],
          [
           208.179012345679,
           145.0493827160494
          ],
          [
           0.6666666666666666,
           104
          ],
          [
           100,
           110
          ],
          [
           234.47272727272727,
           146
          ],
          [
           172,
           135
          ],
          [
           42,
           140
          ],
          [
           262,
           112
          ],
          [
           "(?)",
           147.76439790575915
          ],
          [
           "(?)",
           149.87692307692308
          ],
          [
           "(?)",
           144.9251612903226
          ],
          [
           "(?)",
           100.75
          ],
          [
           "(?)",
           114.08333333333333
          ],
          [
           "(?)",
           145.831926323868
          ]
         ],
         "domain": {
          "x": [
           0,
           1
          ],
          "y": [
           0,
           1
          ]
         },
         "hovertemplate": "labels=%{label}<br>class_counts=%{value}<br>parent=%{parent}<br>id=%{id}<br>ave_elo_baltaks=%{customdata[0]}<br>ave_score_baltaks=%{color}<extra></extra>",
         "ids": [
          "R1 Structures: Frequency and Overall Score for baltaks/lab/ 0_m / 0_ts / 2_lab / 0_pi / 0_ac1 / 0_ac2",
          "R1 Structures: Frequency and Overall Score for baltaks/ac1/ 0_m / 1_ts / 0_lab / 0_pi / 1_ac1 / 0_ac2",
          "R1 Structures: Frequency and Overall Score for baltaks/lab/ 0_m / 1_ts / 1_lab / 0_pi / 0_ac1 / 0_ac2",
          "R1 Structures: Frequency and Overall Score for baltaks/ts/ 0_m / 3_ts / 0_lab / 0_pi / 0_ac1 / 0_ac2",
          "R1 Structures: Frequency and Overall Score for baltaks/ac2/ 1_m / 0_ts / 0_lab / 0_pi / 0_ac1 / 1_ac2",
          "R1 Structures: Frequency and Overall Score for baltaks/ac1/ 1_m / 0_ts / 0_lab / 0_pi / 1_ac1 / 0_ac2",
          "R1 Structures: Frequency and Overall Score for baltaks/lab/ 1_m / 0_ts / 1_lab / 0_pi / 0_ac1 / 0_ac2",
          "R1 Structures: Frequency and Overall Score for baltaks/lab/ 1_m / 0_ts / 2_lab / 0_pi / 0_ac1 / 0_ac2",
          "R1 Structures: Frequency and Overall Score for baltaks/lab/ 1_m / 1_ts / 1_lab / 0_pi / 0_ac1 / 0_ac2",
          "R1 Structures: Frequency and Overall Score for baltaks/ac2/ 2_m / 0_ts / 0_lab / 0_pi / 0_ac1 / 1_ac2",
          "R1 Structures: Frequency and Overall Score for baltaks/ac1/ 2_m / 0_ts / 0_lab / 0_pi / 1_ac1 / 0_ac2",
          "R1 Structures: Frequency and Overall Score for baltaks/lab/ 2_m / 0_ts / 1_lab / 0_pi / 0_ac1 / 0_ac2",
          "R1 Structures: Frequency and Overall Score for baltaks/ts/ 2_m / 1_ts / 0_lab / 0_pi / 0_ac1 / 0_ac2",
          "R1 Structures: Frequency and Overall Score for baltaks/lab/ 2_m / 1_ts / 1_lab / 0_pi / 0_ac1 / 0_ac2",
          "R1 Structures: Frequency and Overall Score for baltaks/ts/ 2_m / 2_ts / 0_lab / 0_pi / 0_ac1 / 0_ac2",
          "R1 Structures: Frequency and Overall Score for baltaks/m/ 3_m / 0_ts / 0_lab / 0_pi / 0_ac1 / 0_ac2",
          "R1 Structures: Frequency and Overall Score for baltaks/ac2/ 3_m / 0_ts / 0_lab / 0_pi / 0_ac1 / 1_ac2",
          "R1 Structures: Frequency and Overall Score for baltaks/ac1/ 3_m / 0_ts / 0_lab / 0_pi / 1_ac1 / 0_ac2",
          "R1 Structures: Frequency and Overall Score for baltaks/lab/ 3_m / 0_ts / 1_lab / 0_pi / 0_ac1 / 0_ac2",
          "R1 Structures: Frequency and Overall Score for baltaks/ts/ 3_m / 1_ts / 0_lab / 0_pi / 0_ac1 / 0_ac2",
          "R1 Structures: Frequency and Overall Score for baltaks/ts/ 3_m / 2_ts / 0_lab / 0_pi / 0_ac1 / 0_ac2",
          "R1 Structures: Frequency and Overall Score for baltaks/lab/ 4_m / 0_ts / 1_lab / 0_pi / 0_ac1 / 0_ac2",
          "R1 Structures: Frequency and Overall Score for baltaks/ts/ 4_m / 1_ts / 0_lab / 0_pi / 0_ac1 / 0_ac2",
          "R1 Structures: Frequency and Overall Score for baltaks/m/ 5_m / 0_ts / 0_lab / 0_pi / 0_ac1 / 0_ac2",
          "R1 Structures: Frequency and Overall Score for baltaks/lab/ 5_m / 0_ts / 1_lab / 0_pi / 0_ac1 / 0_ac2",
          "R1 Structures: Frequency and Overall Score for baltaks/ac1",
          "R1 Structures: Frequency and Overall Score for baltaks/ac2",
          "R1 Structures: Frequency and Overall Score for baltaks/lab",
          "R1 Structures: Frequency and Overall Score for baltaks/m",
          "R1 Structures: Frequency and Overall Score for baltaks/ts",
          "R1 Structures: Frequency and Overall Score for baltaks"
         ],
         "labels": [
          " 0_m / 0_ts / 2_lab / 0_pi / 0_ac1 / 0_ac2",
          " 0_m / 1_ts / 0_lab / 0_pi / 1_ac1 / 0_ac2",
          " 0_m / 1_ts / 1_lab / 0_pi / 0_ac1 / 0_ac2",
          " 0_m / 3_ts / 0_lab / 0_pi / 0_ac1 / 0_ac2",
          " 1_m / 0_ts / 0_lab / 0_pi / 0_ac1 / 1_ac2",
          " 1_m / 0_ts / 0_lab / 0_pi / 1_ac1 / 0_ac2",
          " 1_m / 0_ts / 1_lab / 0_pi / 0_ac1 / 0_ac2",
          " 1_m / 0_ts / 2_lab / 0_pi / 0_ac1 / 0_ac2",
          " 1_m / 1_ts / 1_lab / 0_pi / 0_ac1 / 0_ac2",
          " 2_m / 0_ts / 0_lab / 0_pi / 0_ac1 / 1_ac2",
          " 2_m / 0_ts / 0_lab / 0_pi / 1_ac1 / 0_ac2",
          " 2_m / 0_ts / 1_lab / 0_pi / 0_ac1 / 0_ac2",
          " 2_m / 1_ts / 0_lab / 0_pi / 0_ac1 / 0_ac2",
          " 2_m / 1_ts / 1_lab / 0_pi / 0_ac1 / 0_ac2",
          " 2_m / 2_ts / 0_lab / 0_pi / 0_ac1 / 0_ac2",
          " 3_m / 0_ts / 0_lab / 0_pi / 0_ac1 / 0_ac2",
          " 3_m / 0_ts / 0_lab / 0_pi / 0_ac1 / 1_ac2",
          " 3_m / 0_ts / 0_lab / 0_pi / 1_ac1 / 0_ac2",
          " 3_m / 0_ts / 1_lab / 0_pi / 0_ac1 / 0_ac2",
          " 3_m / 1_ts / 0_lab / 0_pi / 0_ac1 / 0_ac2",
          " 3_m / 2_ts / 0_lab / 0_pi / 0_ac1 / 0_ac2",
          " 4_m / 0_ts / 1_lab / 0_pi / 0_ac1 / 0_ac2",
          " 4_m / 1_ts / 0_lab / 0_pi / 0_ac1 / 0_ac2",
          " 5_m / 0_ts / 0_lab / 0_pi / 0_ac1 / 0_ac2",
          " 5_m / 0_ts / 1_lab / 0_pi / 0_ac1 / 0_ac2",
          "ac1",
          "ac2",
          "lab",
          "m",
          "ts",
          "R1 Structures: Frequency and Overall Score for baltaks"
         ],
         "marker": {
          "coloraxis": "coloraxis",
          "colors": [
           140.8125,
           168,
           138.8181818181818,
           105,
           150.3783783783784,
           148.06037735849057,
           131.72549019607843,
           163,
           134.86274509803923,
           148.96296296296296,
           146.96521739130435,
           148.52463768115942,
           110.75,
           143.67105263157896,
           132,
           87.66666666666667,
           156,
           141,
           145.0493827160494,
           104,
           110,
           146,
           135,
           140,
           112,
           147.76439790575915,
           149.87692307692308,
           144.9251612903226,
           100.75,
           114.08333333333333,
           145.831926323868
          ]
         },
         "name": "",
         "parents": [
          "R1 Structures: Frequency and Overall Score for baltaks/lab",
          "R1 Structures: Frequency and Overall Score for baltaks/ac1",
          "R1 Structures: Frequency and Overall Score for baltaks/lab",
          "R1 Structures: Frequency and Overall Score for baltaks/ts",
          "R1 Structures: Frequency and Overall Score for baltaks/ac2",
          "R1 Structures: Frequency and Overall Score for baltaks/ac1",
          "R1 Structures: Frequency and Overall Score for baltaks/lab",
          "R1 Structures: Frequency and Overall Score for baltaks/lab",
          "R1 Structures: Frequency and Overall Score for baltaks/lab",
          "R1 Structures: Frequency and Overall Score for baltaks/ac2",
          "R1 Structures: Frequency and Overall Score for baltaks/ac1",
          "R1 Structures: Frequency and Overall Score for baltaks/lab",
          "R1 Structures: Frequency and Overall Score for baltaks/ts",
          "R1 Structures: Frequency and Overall Score for baltaks/lab",
          "R1 Structures: Frequency and Overall Score for baltaks/ts",
          "R1 Structures: Frequency and Overall Score for baltaks/m",
          "R1 Structures: Frequency and Overall Score for baltaks/ac2",
          "R1 Structures: Frequency and Overall Score for baltaks/ac1",
          "R1 Structures: Frequency and Overall Score for baltaks/lab",
          "R1 Structures: Frequency and Overall Score for baltaks/ts",
          "R1 Structures: Frequency and Overall Score for baltaks/ts",
          "R1 Structures: Frequency and Overall Score for baltaks/lab",
          "R1 Structures: Frequency and Overall Score for baltaks/ts",
          "R1 Structures: Frequency and Overall Score for baltaks/m",
          "R1 Structures: Frequency and Overall Score for baltaks/lab",
          "R1 Structures: Frequency and Overall Score for baltaks",
          "R1 Structures: Frequency and Overall Score for baltaks",
          "R1 Structures: Frequency and Overall Score for baltaks",
          "R1 Structures: Frequency and Overall Score for baltaks",
          "R1 Structures: Frequency and Overall Score for baltaks",
          ""
         ],
         "type": "treemap",
         "values": [
          16,
          1,
          11,
          1,
          74,
          265,
          51,
          7,
          51,
          54,
          115,
          345,
          4,
          76,
          2,
          3,
          2,
          1,
          162,
          3,
          1,
          55,
          1,
          1,
          1,
          382,
          130,
          775,
          4,
          12,
          1303
         ]
        }
       ],
       "layout": {
        "coloraxis": {
         "cmid": 144.30885882929329,
         "colorbar": {
          "title": {
           "text": "ave_score_baltaks"
          }
         },
         "colorscale": [
          [
           0,
           "rgb(103,0,31)"
          ],
          [
           0.1,
           "rgb(178,24,43)"
          ],
          [
           0.2,
           "rgb(214,96,77)"
          ],
          [
           0.3,
           "rgb(244,165,130)"
          ],
          [
           0.4,
           "rgb(253,219,199)"
          ],
          [
           0.5,
           "rgb(247,247,247)"
          ],
          [
           0.6,
           "rgb(209,229,240)"
          ],
          [
           0.7,
           "rgb(146,197,222)"
          ],
          [
           0.8,
           "rgb(67,147,195)"
          ],
          [
           0.9,
           "rgb(33,102,172)"
          ],
          [
           1,
           "rgb(5,48,97)"
          ]
         ]
        },
        "legend": {
         "tracegroupgap": 0
        },
        "margin": {
         "b": 25,
         "l": 25,
         "r": 25,
         "t": 50
        },
        "template": {
         "data": {
          "bar": [
           {
            "error_x": {
             "color": "#2a3f5f"
            },
            "error_y": {
             "color": "#2a3f5f"
            },
            "marker": {
             "line": {
              "color": "#E5ECF6",
              "width": 0.5
             },
             "pattern": {
              "fillmode": "overlay",
              "size": 10,
              "solidity": 0.2
             }
            },
            "type": "bar"
           }
          ],
          "barpolar": [
           {
            "marker": {
             "line": {
              "color": "#E5ECF6",
              "width": 0.5
             },
             "pattern": {
              "fillmode": "overlay",
              "size": 10,
              "solidity": 0.2
             }
            },
            "type": "barpolar"
           }
          ],
          "carpet": [
           {
            "aaxis": {
             "endlinecolor": "#2a3f5f",
             "gridcolor": "white",
             "linecolor": "white",
             "minorgridcolor": "white",
             "startlinecolor": "#2a3f5f"
            },
            "baxis": {
             "endlinecolor": "#2a3f5f",
             "gridcolor": "white",
             "linecolor": "white",
             "minorgridcolor": "white",
             "startlinecolor": "#2a3f5f"
            },
            "type": "carpet"
           }
          ],
          "choropleth": [
           {
            "colorbar": {
             "outlinewidth": 0,
             "ticks": ""
            },
            "type": "choropleth"
           }
          ],
          "contour": [
           {
            "colorbar": {
             "outlinewidth": 0,
             "ticks": ""
            },
            "colorscale": [
             [
              0,
              "#0d0887"
             ],
             [
              0.1111111111111111,
              "#46039f"
             ],
             [
              0.2222222222222222,
              "#7201a8"
             ],
             [
              0.3333333333333333,
              "#9c179e"
             ],
             [
              0.4444444444444444,
              "#bd3786"
             ],
             [
              0.5555555555555556,
              "#d8576b"
             ],
             [
              0.6666666666666666,
              "#ed7953"
             ],
             [
              0.7777777777777778,
              "#fb9f3a"
             ],
             [
              0.8888888888888888,
              "#fdca26"
             ],
             [
              1,
              "#f0f921"
             ]
            ],
            "type": "contour"
           }
          ],
          "contourcarpet": [
           {
            "colorbar": {
             "outlinewidth": 0,
             "ticks": ""
            },
            "type": "contourcarpet"
           }
          ],
          "heatmap": [
           {
            "colorbar": {
             "outlinewidth": 0,
             "ticks": ""
            },
            "colorscale": [
             [
              0,
              "#0d0887"
             ],
             [
              0.1111111111111111,
              "#46039f"
             ],
             [
              0.2222222222222222,
              "#7201a8"
             ],
             [
              0.3333333333333333,
              "#9c179e"
             ],
             [
              0.4444444444444444,
              "#bd3786"
             ],
             [
              0.5555555555555556,
              "#d8576b"
             ],
             [
              0.6666666666666666,
              "#ed7953"
             ],
             [
              0.7777777777777778,
              "#fb9f3a"
             ],
             [
              0.8888888888888888,
              "#fdca26"
             ],
             [
              1,
              "#f0f921"
             ]
            ],
            "type": "heatmap"
           }
          ],
          "heatmapgl": [
           {
            "colorbar": {
             "outlinewidth": 0,
             "ticks": ""
            },
            "colorscale": [
             [
              0,
              "#0d0887"
             ],
             [
              0.1111111111111111,
              "#46039f"
             ],
             [
              0.2222222222222222,
              "#7201a8"
             ],
             [
              0.3333333333333333,
              "#9c179e"
             ],
             [
              0.4444444444444444,
              "#bd3786"
             ],
             [
              0.5555555555555556,
              "#d8576b"
             ],
             [
              0.6666666666666666,
              "#ed7953"
             ],
             [
              0.7777777777777778,
              "#fb9f3a"
             ],
             [
              0.8888888888888888,
              "#fdca26"
             ],
             [
              1,
              "#f0f921"
             ]
            ],
            "type": "heatmapgl"
           }
          ],
          "histogram": [
           {
            "marker": {
             "pattern": {
              "fillmode": "overlay",
              "size": 10,
              "solidity": 0.2
             }
            },
            "type": "histogram"
           }
          ],
          "histogram2d": [
           {
            "colorbar": {
             "outlinewidth": 0,
             "ticks": ""
            },
            "colorscale": [
             [
              0,
              "#0d0887"
             ],
             [
              0.1111111111111111,
              "#46039f"
             ],
             [
              0.2222222222222222,
              "#7201a8"
             ],
             [
              0.3333333333333333,
              "#9c179e"
             ],
             [
              0.4444444444444444,
              "#bd3786"
             ],
             [
              0.5555555555555556,
              "#d8576b"
             ],
             [
              0.6666666666666666,
              "#ed7953"
             ],
             [
              0.7777777777777778,
              "#fb9f3a"
             ],
             [
              0.8888888888888888,
              "#fdca26"
             ],
             [
              1,
              "#f0f921"
             ]
            ],
            "type": "histogram2d"
           }
          ],
          "histogram2dcontour": [
           {
            "colorbar": {
             "outlinewidth": 0,
             "ticks": ""
            },
            "colorscale": [
             [
              0,
              "#0d0887"
             ],
             [
              0.1111111111111111,
              "#46039f"
             ],
             [
              0.2222222222222222,
              "#7201a8"
             ],
             [
              0.3333333333333333,
              "#9c179e"
             ],
             [
              0.4444444444444444,
              "#bd3786"
             ],
             [
              0.5555555555555556,
              "#d8576b"
             ],
             [
              0.6666666666666666,
              "#ed7953"
             ],
             [
              0.7777777777777778,
              "#fb9f3a"
             ],
             [
              0.8888888888888888,
              "#fdca26"
             ],
             [
              1,
              "#f0f921"
             ]
            ],
            "type": "histogram2dcontour"
           }
          ],
          "mesh3d": [
           {
            "colorbar": {
             "outlinewidth": 0,
             "ticks": ""
            },
            "type": "mesh3d"
           }
          ],
          "parcoords": [
           {
            "line": {
             "colorbar": {
              "outlinewidth": 0,
              "ticks": ""
             }
            },
            "type": "parcoords"
           }
          ],
          "pie": [
           {
            "automargin": true,
            "type": "pie"
           }
          ],
          "scatter": [
           {
            "marker": {
             "colorbar": {
              "outlinewidth": 0,
              "ticks": ""
             }
            },
            "type": "scatter"
           }
          ],
          "scatter3d": [
           {
            "line": {
             "colorbar": {
              "outlinewidth": 0,
              "ticks": ""
             }
            },
            "marker": {
             "colorbar": {
              "outlinewidth": 0,
              "ticks": ""
             }
            },
            "type": "scatter3d"
           }
          ],
          "scattercarpet": [
           {
            "marker": {
             "colorbar": {
              "outlinewidth": 0,
              "ticks": ""
             }
            },
            "type": "scattercarpet"
           }
          ],
          "scattergeo": [
           {
            "marker": {
             "colorbar": {
              "outlinewidth": 0,
              "ticks": ""
             }
            },
            "type": "scattergeo"
           }
          ],
          "scattergl": [
           {
            "marker": {
             "colorbar": {
              "outlinewidth": 0,
              "ticks": ""
             }
            },
            "type": "scattergl"
           }
          ],
          "scattermapbox": [
           {
            "marker": {
             "colorbar": {
              "outlinewidth": 0,
              "ticks": ""
             }
            },
            "type": "scattermapbox"
           }
          ],
          "scatterpolar": [
           {
            "marker": {
             "colorbar": {
              "outlinewidth": 0,
              "ticks": ""
             }
            },
            "type": "scatterpolar"
           }
          ],
          "scatterpolargl": [
           {
            "marker": {
             "colorbar": {
              "outlinewidth": 0,
              "ticks": ""
             }
            },
            "type": "scatterpolargl"
           }
          ],
          "scatterternary": [
           {
            "marker": {
             "colorbar": {
              "outlinewidth": 0,
              "ticks": ""
             }
            },
            "type": "scatterternary"
           }
          ],
          "surface": [
           {
            "colorbar": {
             "outlinewidth": 0,
             "ticks": ""
            },
            "colorscale": [
             [
              0,
              "#0d0887"
             ],
             [
              0.1111111111111111,
              "#46039f"
             ],
             [
              0.2222222222222222,
              "#7201a8"
             ],
             [
              0.3333333333333333,
              "#9c179e"
             ],
             [
              0.4444444444444444,
              "#bd3786"
             ],
             [
              0.5555555555555556,
              "#d8576b"
             ],
             [
              0.6666666666666666,
              "#ed7953"
             ],
             [
              0.7777777777777778,
              "#fb9f3a"
             ],
             [
              0.8888888888888888,
              "#fdca26"
             ],
             [
              1,
              "#f0f921"
             ]
            ],
            "type": "surface"
           }
          ],
          "table": [
           {
            "cells": {
             "fill": {
              "color": "#EBF0F8"
             },
             "line": {
              "color": "white"
             }
            },
            "header": {
             "fill": {
              "color": "#C8D4E3"
             },
             "line": {
              "color": "white"
             }
            },
            "type": "table"
           }
          ]
         },
         "layout": {
          "annotationdefaults": {
           "arrowcolor": "#2a3f5f",
           "arrowhead": 0,
           "arrowwidth": 1
          },
          "autotypenumbers": "strict",
          "coloraxis": {
           "colorbar": {
            "outlinewidth": 0,
            "ticks": ""
           }
          },
          "colorscale": {
           "diverging": [
            [
             0,
             "#8e0152"
            ],
            [
             0.1,
             "#c51b7d"
            ],
            [
             0.2,
             "#de77ae"
            ],
            [
             0.3,
             "#f1b6da"
            ],
            [
             0.4,
             "#fde0ef"
            ],
            [
             0.5,
             "#f7f7f7"
            ],
            [
             0.6,
             "#e6f5d0"
            ],
            [
             0.7,
             "#b8e186"
            ],
            [
             0.8,
             "#7fbc41"
            ],
            [
             0.9,
             "#4d9221"
            ],
            [
             1,
             "#276419"
            ]
           ],
           "sequential": [
            [
             0,
             "#0d0887"
            ],
            [
             0.1111111111111111,
             "#46039f"
            ],
            [
             0.2222222222222222,
             "#7201a8"
            ],
            [
             0.3333333333333333,
             "#9c179e"
            ],
            [
             0.4444444444444444,
             "#bd3786"
            ],
            [
             0.5555555555555556,
             "#d8576b"
            ],
            [
             0.6666666666666666,
             "#ed7953"
            ],
            [
             0.7777777777777778,
             "#fb9f3a"
            ],
            [
             0.8888888888888888,
             "#fdca26"
            ],
            [
             1,
             "#f0f921"
            ]
           ],
           "sequentialminus": [
            [
             0,
             "#0d0887"
            ],
            [
             0.1111111111111111,
             "#46039f"
            ],
            [
             0.2222222222222222,
             "#7201a8"
            ],
            [
             0.3333333333333333,
             "#9c179e"
            ],
            [
             0.4444444444444444,
             "#bd3786"
            ],
            [
             0.5555555555555556,
             "#d8576b"
            ],
            [
             0.6666666666666666,
             "#ed7953"
            ],
            [
             0.7777777777777778,
             "#fb9f3a"
            ],
            [
             0.8888888888888888,
             "#fdca26"
            ],
            [
             1,
             "#f0f921"
            ]
           ]
          },
          "colorway": [
           "#636efa",
           "#EF553B",
           "#00cc96",
           "#ab63fa",
           "#FFA15A",
           "#19d3f3",
           "#FF6692",
           "#B6E880",
           "#FF97FF",
           "#FECB52"
          ],
          "font": {
           "color": "#2a3f5f"
          },
          "geo": {
           "bgcolor": "white",
           "lakecolor": "white",
           "landcolor": "#E5ECF6",
           "showlakes": true,
           "showland": true,
           "subunitcolor": "white"
          },
          "hoverlabel": {
           "align": "left"
          },
          "hovermode": "closest",
          "mapbox": {
           "style": "light"
          },
          "paper_bgcolor": "white",
          "plot_bgcolor": "#E5ECF6",
          "polar": {
           "angularaxis": {
            "gridcolor": "white",
            "linecolor": "white",
            "ticks": ""
           },
           "bgcolor": "#E5ECF6",
           "radialaxis": {
            "gridcolor": "white",
            "linecolor": "white",
            "ticks": ""
           }
          },
          "scene": {
           "xaxis": {
            "backgroundcolor": "#E5ECF6",
            "gridcolor": "white",
            "gridwidth": 2,
            "linecolor": "white",
            "showbackground": true,
            "ticks": "",
            "zerolinecolor": "white"
           },
           "yaxis": {
            "backgroundcolor": "#E5ECF6",
            "gridcolor": "white",
            "gridwidth": 2,
            "linecolor": "white",
            "showbackground": true,
            "ticks": "",
            "zerolinecolor": "white"
           },
           "zaxis": {
            "backgroundcolor": "#E5ECF6",
            "gridcolor": "white",
            "gridwidth": 2,
            "linecolor": "white",
            "showbackground": true,
            "ticks": "",
            "zerolinecolor": "white"
           }
          },
          "shapedefaults": {
           "line": {
            "color": "#2a3f5f"
           }
          },
          "ternary": {
           "aaxis": {
            "gridcolor": "white",
            "linecolor": "white",
            "ticks": ""
           },
           "baxis": {
            "gridcolor": "white",
            "linecolor": "white",
            "ticks": ""
           },
           "bgcolor": "#E5ECF6",
           "caxis": {
            "gridcolor": "white",
            "linecolor": "white",
            "ticks": ""
           }
          },
          "title": {
           "x": 0.05
          },
          "xaxis": {
           "automargin": true,
           "gridcolor": "white",
           "linecolor": "white",
           "ticks": "",
           "title": {
            "standoff": 15
           },
           "zerolinecolor": "white",
           "zerolinewidth": 2
          },
          "yaxis": {
           "automargin": true,
           "gridcolor": "white",
           "linecolor": "white",
           "ticks": "",
           "title": {
            "standoff": 15
           },
           "zerolinecolor": "white",
           "zerolinewidth": 2
          }
         }
        }
       }
      },
      "text/html": [
       "<div>                            <div id=\"6a7f02b9-5ff6-4595-b00d-6f3390427f88\" class=\"plotly-graph-div\" style=\"height:525px; width:100%;\"></div>            <script type=\"text/javascript\">                require([\"plotly\"], function(Plotly) {                    window.PLOTLYENV=window.PLOTLYENV || {};                                    if (document.getElementById(\"6a7f02b9-5ff6-4595-b00d-6f3390427f88\")) {                    Plotly.newPlot(                        \"6a7f02b9-5ff6-4595-b00d-6f3390427f88\",                        [{\"branchvalues\":\"total\",\"customdata\":[[212.0,140.8125],[257.0,168.0],[159.45454545454547,138.8181818181818],[10.0,105.0],[200.8783783783784,150.3783783783784],[226.49433962264152,148.06037735849057],[170.19607843137254,131.72549019607843],[266.42857142857144,163.0],[174.1764705882353,134.86274509803923],[200.53703703703704,148.96296296296296],[266.38260869565215,146.96521739130435],[220.368115942029,148.52463768115942],[112.25,110.75],[217.31578947368422,143.67105263157896],[190.0,132.0],[41.333333333333336,87.66666666666667],[185.0,156.0],[434.0,141.0],[208.179012345679,145.0493827160494],[0.6666666666666666,104.0],[100.0,110.0],[234.47272727272727,146.0],[172.0,135.0],[42.0,140.0],[262.0,112.0],[\"(?)\",147.76439790575915],[\"(?)\",149.87692307692308],[\"(?)\",144.9251612903226],[\"(?)\",100.75],[\"(?)\",114.08333333333333],[\"(?)\",145.831926323868]],\"domain\":{\"x\":[0.0,1.0],\"y\":[0.0,1.0]},\"hovertemplate\":\"labels=%{label}<br>class_counts=%{value}<br>parent=%{parent}<br>id=%{id}<br>ave_elo_baltaks=%{customdata[0]}<br>ave_score_baltaks=%{color}<extra></extra>\",\"ids\":[\"R1 Structures: Frequency and Overall Score for baltaks/lab/ 0_m / 0_ts / 2_lab / 0_pi / 0_ac1 / 0_ac2\",\"R1 Structures: Frequency and Overall Score for baltaks/ac1/ 0_m / 1_ts / 0_lab / 0_pi / 1_ac1 / 0_ac2\",\"R1 Structures: Frequency and Overall Score for baltaks/lab/ 0_m / 1_ts / 1_lab / 0_pi / 0_ac1 / 0_ac2\",\"R1 Structures: Frequency and Overall Score for baltaks/ts/ 0_m / 3_ts / 0_lab / 0_pi / 0_ac1 / 0_ac2\",\"R1 Structures: Frequency and Overall Score for baltaks/ac2/ 1_m / 0_ts / 0_lab / 0_pi / 0_ac1 / 1_ac2\",\"R1 Structures: Frequency and Overall Score for baltaks/ac1/ 1_m / 0_ts / 0_lab / 0_pi / 1_ac1 / 0_ac2\",\"R1 Structures: Frequency and Overall Score for baltaks/lab/ 1_m / 0_ts / 1_lab / 0_pi / 0_ac1 / 0_ac2\",\"R1 Structures: Frequency and Overall Score for baltaks/lab/ 1_m / 0_ts / 2_lab / 0_pi / 0_ac1 / 0_ac2\",\"R1 Structures: Frequency and Overall Score for baltaks/lab/ 1_m / 1_ts / 1_lab / 0_pi / 0_ac1 / 0_ac2\",\"R1 Structures: Frequency and Overall Score for baltaks/ac2/ 2_m / 0_ts / 0_lab / 0_pi / 0_ac1 / 1_ac2\",\"R1 Structures: Frequency and Overall Score for baltaks/ac1/ 2_m / 0_ts / 0_lab / 0_pi / 1_ac1 / 0_ac2\",\"R1 Structures: Frequency and Overall Score for baltaks/lab/ 2_m / 0_ts / 1_lab / 0_pi / 0_ac1 / 0_ac2\",\"R1 Structures: Frequency and Overall Score for baltaks/ts/ 2_m / 1_ts / 0_lab / 0_pi / 0_ac1 / 0_ac2\",\"R1 Structures: Frequency and Overall Score for baltaks/lab/ 2_m / 1_ts / 1_lab / 0_pi / 0_ac1 / 0_ac2\",\"R1 Structures: Frequency and Overall Score for baltaks/ts/ 2_m / 2_ts / 0_lab / 0_pi / 0_ac1 / 0_ac2\",\"R1 Structures: Frequency and Overall Score for baltaks/m/ 3_m / 0_ts / 0_lab / 0_pi / 0_ac1 / 0_ac2\",\"R1 Structures: Frequency and Overall Score for baltaks/ac2/ 3_m / 0_ts / 0_lab / 0_pi / 0_ac1 / 1_ac2\",\"R1 Structures: Frequency and Overall Score for baltaks/ac1/ 3_m / 0_ts / 0_lab / 0_pi / 1_ac1 / 0_ac2\",\"R1 Structures: Frequency and Overall Score for baltaks/lab/ 3_m / 0_ts / 1_lab / 0_pi / 0_ac1 / 0_ac2\",\"R1 Structures: Frequency and Overall Score for baltaks/ts/ 3_m / 1_ts / 0_lab / 0_pi / 0_ac1 / 0_ac2\",\"R1 Structures: Frequency and Overall Score for baltaks/ts/ 3_m / 2_ts / 0_lab / 0_pi / 0_ac1 / 0_ac2\",\"R1 Structures: Frequency and Overall Score for baltaks/lab/ 4_m / 0_ts / 1_lab / 0_pi / 0_ac1 / 0_ac2\",\"R1 Structures: Frequency and Overall Score for baltaks/ts/ 4_m / 1_ts / 0_lab / 0_pi / 0_ac1 / 0_ac2\",\"R1 Structures: Frequency and Overall Score for baltaks/m/ 5_m / 0_ts / 0_lab / 0_pi / 0_ac1 / 0_ac2\",\"R1 Structures: Frequency and Overall Score for baltaks/lab/ 5_m / 0_ts / 1_lab / 0_pi / 0_ac1 / 0_ac2\",\"R1 Structures: Frequency and Overall Score for baltaks/ac1\",\"R1 Structures: Frequency and Overall Score for baltaks/ac2\",\"R1 Structures: Frequency and Overall Score for baltaks/lab\",\"R1 Structures: Frequency and Overall Score for baltaks/m\",\"R1 Structures: Frequency and Overall Score for baltaks/ts\",\"R1 Structures: Frequency and Overall Score for baltaks\"],\"labels\":[\" 0_m / 0_ts / 2_lab / 0_pi / 0_ac1 / 0_ac2\",\" 0_m / 1_ts / 0_lab / 0_pi / 1_ac1 / 0_ac2\",\" 0_m / 1_ts / 1_lab / 0_pi / 0_ac1 / 0_ac2\",\" 0_m / 3_ts / 0_lab / 0_pi / 0_ac1 / 0_ac2\",\" 1_m / 0_ts / 0_lab / 0_pi / 0_ac1 / 1_ac2\",\" 1_m / 0_ts / 0_lab / 0_pi / 1_ac1 / 0_ac2\",\" 1_m / 0_ts / 1_lab / 0_pi / 0_ac1 / 0_ac2\",\" 1_m / 0_ts / 2_lab / 0_pi / 0_ac1 / 0_ac2\",\" 1_m / 1_ts / 1_lab / 0_pi / 0_ac1 / 0_ac2\",\" 2_m / 0_ts / 0_lab / 0_pi / 0_ac1 / 1_ac2\",\" 2_m / 0_ts / 0_lab / 0_pi / 1_ac1 / 0_ac2\",\" 2_m / 0_ts / 1_lab / 0_pi / 0_ac1 / 0_ac2\",\" 2_m / 1_ts / 0_lab / 0_pi / 0_ac1 / 0_ac2\",\" 2_m / 1_ts / 1_lab / 0_pi / 0_ac1 / 0_ac2\",\" 2_m / 2_ts / 0_lab / 0_pi / 0_ac1 / 0_ac2\",\" 3_m / 0_ts / 0_lab / 0_pi / 0_ac1 / 0_ac2\",\" 3_m / 0_ts / 0_lab / 0_pi / 0_ac1 / 1_ac2\",\" 3_m / 0_ts / 0_lab / 0_pi / 1_ac1 / 0_ac2\",\" 3_m / 0_ts / 1_lab / 0_pi / 0_ac1 / 0_ac2\",\" 3_m / 1_ts / 0_lab / 0_pi / 0_ac1 / 0_ac2\",\" 3_m / 2_ts / 0_lab / 0_pi / 0_ac1 / 0_ac2\",\" 4_m / 0_ts / 1_lab / 0_pi / 0_ac1 / 0_ac2\",\" 4_m / 1_ts / 0_lab / 0_pi / 0_ac1 / 0_ac2\",\" 5_m / 0_ts / 0_lab / 0_pi / 0_ac1 / 0_ac2\",\" 5_m / 0_ts / 1_lab / 0_pi / 0_ac1 / 0_ac2\",\"ac1\",\"ac2\",\"lab\",\"m\",\"ts\",\"R1 Structures: Frequency and Overall Score for baltaks\"],\"marker\":{\"coloraxis\":\"coloraxis\",\"colors\":[140.8125,168.0,138.8181818181818,105.0,150.3783783783784,148.06037735849057,131.72549019607843,163.0,134.86274509803923,148.96296296296296,146.96521739130435,148.52463768115942,110.75,143.67105263157896,132.0,87.66666666666667,156.0,141.0,145.0493827160494,104.0,110.0,146.0,135.0,140.0,112.0,147.76439790575915,149.87692307692308,144.9251612903226,100.75,114.08333333333333,145.831926323868]},\"name\":\"\",\"parents\":[\"R1 Structures: Frequency and Overall Score for baltaks/lab\",\"R1 Structures: Frequency and Overall Score for baltaks/ac1\",\"R1 Structures: Frequency and Overall Score for baltaks/lab\",\"R1 Structures: Frequency and Overall Score for baltaks/ts\",\"R1 Structures: Frequency and Overall Score for baltaks/ac2\",\"R1 Structures: Frequency and Overall Score for baltaks/ac1\",\"R1 Structures: Frequency and Overall Score for baltaks/lab\",\"R1 Structures: Frequency and Overall Score for baltaks/lab\",\"R1 Structures: Frequency and Overall Score for baltaks/lab\",\"R1 Structures: Frequency and Overall Score for baltaks/ac2\",\"R1 Structures: Frequency and Overall Score for baltaks/ac1\",\"R1 Structures: Frequency and Overall Score for baltaks/lab\",\"R1 Structures: Frequency and Overall Score for baltaks/ts\",\"R1 Structures: Frequency and Overall Score for baltaks/lab\",\"R1 Structures: Frequency and Overall Score for baltaks/ts\",\"R1 Structures: Frequency and Overall Score for baltaks/m\",\"R1 Structures: Frequency and Overall Score for baltaks/ac2\",\"R1 Structures: Frequency and Overall Score for baltaks/ac1\",\"R1 Structures: Frequency and Overall Score for baltaks/lab\",\"R1 Structures: Frequency and Overall Score for baltaks/ts\",\"R1 Structures: Frequency and Overall Score for baltaks/ts\",\"R1 Structures: Frequency and Overall Score for baltaks/lab\",\"R1 Structures: Frequency and Overall Score for baltaks/ts\",\"R1 Structures: Frequency and Overall Score for baltaks/m\",\"R1 Structures: Frequency and Overall Score for baltaks/lab\",\"R1 Structures: Frequency and Overall Score for baltaks\",\"R1 Structures: Frequency and Overall Score for baltaks\",\"R1 Structures: Frequency and Overall Score for baltaks\",\"R1 Structures: Frequency and Overall Score for baltaks\",\"R1 Structures: Frequency and Overall Score for baltaks\",\"\"],\"values\":[16,1,11,1,74,265,51,7,51,54,115,345,4,76,2,3,2,1,162,3,1,55,1,1,1,382,130,775,4,12,1303],\"type\":\"treemap\"}],                        {\"template\":{\"data\":{\"bar\":[{\"error_x\":{\"color\":\"#2a3f5f\"},\"error_y\":{\"color\":\"#2a3f5f\"},\"marker\":{\"line\":{\"color\":\"#E5ECF6\",\"width\":0.5},\"pattern\":{\"fillmode\":\"overlay\",\"size\":10,\"solidity\":0.2}},\"type\":\"bar\"}],\"barpolar\":[{\"marker\":{\"line\":{\"color\":\"#E5ECF6\",\"width\":0.5},\"pattern\":{\"fillmode\":\"overlay\",\"size\":10,\"solidity\":0.2}},\"type\":\"barpolar\"}],\"carpet\":[{\"aaxis\":{\"endlinecolor\":\"#2a3f5f\",\"gridcolor\":\"white\",\"linecolor\":\"white\",\"minorgridcolor\":\"white\",\"startlinecolor\":\"#2a3f5f\"},\"baxis\":{\"endlinecolor\":\"#2a3f5f\",\"gridcolor\":\"white\",\"linecolor\":\"white\",\"minorgridcolor\":\"white\",\"startlinecolor\":\"#2a3f5f\"},\"type\":\"carpet\"}],\"choropleth\":[{\"colorbar\":{\"outlinewidth\":0,\"ticks\":\"\"},\"type\":\"choropleth\"}],\"contour\":[{\"colorbar\":{\"outlinewidth\":0,\"ticks\":\"\"},\"colorscale\":[[0.0,\"#0d0887\"],[0.1111111111111111,\"#46039f\"],[0.2222222222222222,\"#7201a8\"],[0.3333333333333333,\"#9c179e\"],[0.4444444444444444,\"#bd3786\"],[0.5555555555555556,\"#d8576b\"],[0.6666666666666666,\"#ed7953\"],[0.7777777777777778,\"#fb9f3a\"],[0.8888888888888888,\"#fdca26\"],[1.0,\"#f0f921\"]],\"type\":\"contour\"}],\"contourcarpet\":[{\"colorbar\":{\"outlinewidth\":0,\"ticks\":\"\"},\"type\":\"contourcarpet\"}],\"heatmap\":[{\"colorbar\":{\"outlinewidth\":0,\"ticks\":\"\"},\"colorscale\":[[0.0,\"#0d0887\"],[0.1111111111111111,\"#46039f\"],[0.2222222222222222,\"#7201a8\"],[0.3333333333333333,\"#9c179e\"],[0.4444444444444444,\"#bd3786\"],[0.5555555555555556,\"#d8576b\"],[0.6666666666666666,\"#ed7953\"],[0.7777777777777778,\"#fb9f3a\"],[0.8888888888888888,\"#fdca26\"],[1.0,\"#f0f921\"]],\"type\":\"heatmap\"}],\"heatmapgl\":[{\"colorbar\":{\"outlinewidth\":0,\"ticks\":\"\"},\"colorscale\":[[0.0,\"#0d0887\"],[0.1111111111111111,\"#46039f\"],[0.2222222222222222,\"#7201a8\"],[0.3333333333333333,\"#9c179e\"],[0.4444444444444444,\"#bd3786\"],[0.5555555555555556,\"#d8576b\"],[0.6666666666666666,\"#ed7953\"],[0.7777777777777778,\"#fb9f3a\"],[0.8888888888888888,\"#fdca26\"],[1.0,\"#f0f921\"]],\"type\":\"heatmapgl\"}],\"histogram\":[{\"marker\":{\"pattern\":{\"fillmode\":\"overlay\",\"size\":10,\"solidity\":0.2}},\"type\":\"histogram\"}],\"histogram2d\":[{\"colorbar\":{\"outlinewidth\":0,\"ticks\":\"\"},\"colorscale\":[[0.0,\"#0d0887\"],[0.1111111111111111,\"#46039f\"],[0.2222222222222222,\"#7201a8\"],[0.3333333333333333,\"#9c179e\"],[0.4444444444444444,\"#bd3786\"],[0.5555555555555556,\"#d8576b\"],[0.6666666666666666,\"#ed7953\"],[0.7777777777777778,\"#fb9f3a\"],[0.8888888888888888,\"#fdca26\"],[1.0,\"#f0f921\"]],\"type\":\"histogram2d\"}],\"histogram2dcontour\":[{\"colorbar\":{\"outlinewidth\":0,\"ticks\":\"\"},\"colorscale\":[[0.0,\"#0d0887\"],[0.1111111111111111,\"#46039f\"],[0.2222222222222222,\"#7201a8\"],[0.3333333333333333,\"#9c179e\"],[0.4444444444444444,\"#bd3786\"],[0.5555555555555556,\"#d8576b\"],[0.6666666666666666,\"#ed7953\"],[0.7777777777777778,\"#fb9f3a\"],[0.8888888888888888,\"#fdca26\"],[1.0,\"#f0f921\"]],\"type\":\"histogram2dcontour\"}],\"mesh3d\":[{\"colorbar\":{\"outlinewidth\":0,\"ticks\":\"\"},\"type\":\"mesh3d\"}],\"parcoords\":[{\"line\":{\"colorbar\":{\"outlinewidth\":0,\"ticks\":\"\"}},\"type\":\"parcoords\"}],\"pie\":[{\"automargin\":true,\"type\":\"pie\"}],\"scatter\":[{\"marker\":{\"colorbar\":{\"outlinewidth\":0,\"ticks\":\"\"}},\"type\":\"scatter\"}],\"scatter3d\":[{\"line\":{\"colorbar\":{\"outlinewidth\":0,\"ticks\":\"\"}},\"marker\":{\"colorbar\":{\"outlinewidth\":0,\"ticks\":\"\"}},\"type\":\"scatter3d\"}],\"scattercarpet\":[{\"marker\":{\"colorbar\":{\"outlinewidth\":0,\"ticks\":\"\"}},\"type\":\"scattercarpet\"}],\"scattergeo\":[{\"marker\":{\"colorbar\":{\"outlinewidth\":0,\"ticks\":\"\"}},\"type\":\"scattergeo\"}],\"scattergl\":[{\"marker\":{\"colorbar\":{\"outlinewidth\":0,\"ticks\":\"\"}},\"type\":\"scattergl\"}],\"scattermapbox\":[{\"marker\":{\"colorbar\":{\"outlinewidth\":0,\"ticks\":\"\"}},\"type\":\"scattermapbox\"}],\"scatterpolar\":[{\"marker\":{\"colorbar\":{\"outlinewidth\":0,\"ticks\":\"\"}},\"type\":\"scatterpolar\"}],\"scatterpolargl\":[{\"marker\":{\"colorbar\":{\"outlinewidth\":0,\"ticks\":\"\"}},\"type\":\"scatterpolargl\"}],\"scatterternary\":[{\"marker\":{\"colorbar\":{\"outlinewidth\":0,\"ticks\":\"\"}},\"type\":\"scatterternary\"}],\"surface\":[{\"colorbar\":{\"outlinewidth\":0,\"ticks\":\"\"},\"colorscale\":[[0.0,\"#0d0887\"],[0.1111111111111111,\"#46039f\"],[0.2222222222222222,\"#7201a8\"],[0.3333333333333333,\"#9c179e\"],[0.4444444444444444,\"#bd3786\"],[0.5555555555555556,\"#d8576b\"],[0.6666666666666666,\"#ed7953\"],[0.7777777777777778,\"#fb9f3a\"],[0.8888888888888888,\"#fdca26\"],[1.0,\"#f0f921\"]],\"type\":\"surface\"}],\"table\":[{\"cells\":{\"fill\":{\"color\":\"#EBF0F8\"},\"line\":{\"color\":\"white\"}},\"header\":{\"fill\":{\"color\":\"#C8D4E3\"},\"line\":{\"color\":\"white\"}},\"type\":\"table\"}]},\"layout\":{\"annotationdefaults\":{\"arrowcolor\":\"#2a3f5f\",\"arrowhead\":0,\"arrowwidth\":1},\"autotypenumbers\":\"strict\",\"coloraxis\":{\"colorbar\":{\"outlinewidth\":0,\"ticks\":\"\"}},\"colorscale\":{\"diverging\":[[0,\"#8e0152\"],[0.1,\"#c51b7d\"],[0.2,\"#de77ae\"],[0.3,\"#f1b6da\"],[0.4,\"#fde0ef\"],[0.5,\"#f7f7f7\"],[0.6,\"#e6f5d0\"],[0.7,\"#b8e186\"],[0.8,\"#7fbc41\"],[0.9,\"#4d9221\"],[1,\"#276419\"]],\"sequential\":[[0.0,\"#0d0887\"],[0.1111111111111111,\"#46039f\"],[0.2222222222222222,\"#7201a8\"],[0.3333333333333333,\"#9c179e\"],[0.4444444444444444,\"#bd3786\"],[0.5555555555555556,\"#d8576b\"],[0.6666666666666666,\"#ed7953\"],[0.7777777777777778,\"#fb9f3a\"],[0.8888888888888888,\"#fdca26\"],[1.0,\"#f0f921\"]],\"sequentialminus\":[[0.0,\"#0d0887\"],[0.1111111111111111,\"#46039f\"],[0.2222222222222222,\"#7201a8\"],[0.3333333333333333,\"#9c179e\"],[0.4444444444444444,\"#bd3786\"],[0.5555555555555556,\"#d8576b\"],[0.6666666666666666,\"#ed7953\"],[0.7777777777777778,\"#fb9f3a\"],[0.8888888888888888,\"#fdca26\"],[1.0,\"#f0f921\"]]},\"colorway\":[\"#636efa\",\"#EF553B\",\"#00cc96\",\"#ab63fa\",\"#FFA15A\",\"#19d3f3\",\"#FF6692\",\"#B6E880\",\"#FF97FF\",\"#FECB52\"],\"font\":{\"color\":\"#2a3f5f\"},\"geo\":{\"bgcolor\":\"white\",\"lakecolor\":\"white\",\"landcolor\":\"#E5ECF6\",\"showlakes\":true,\"showland\":true,\"subunitcolor\":\"white\"},\"hoverlabel\":{\"align\":\"left\"},\"hovermode\":\"closest\",\"mapbox\":{\"style\":\"light\"},\"paper_bgcolor\":\"white\",\"plot_bgcolor\":\"#E5ECF6\",\"polar\":{\"angularaxis\":{\"gridcolor\":\"white\",\"linecolor\":\"white\",\"ticks\":\"\"},\"bgcolor\":\"#E5ECF6\",\"radialaxis\":{\"gridcolor\":\"white\",\"linecolor\":\"white\",\"ticks\":\"\"}},\"scene\":{\"xaxis\":{\"backgroundcolor\":\"#E5ECF6\",\"gridcolor\":\"white\",\"gridwidth\":2,\"linecolor\":\"white\",\"showbackground\":true,\"ticks\":\"\",\"zerolinecolor\":\"white\"},\"yaxis\":{\"backgroundcolor\":\"#E5ECF6\",\"gridcolor\":\"white\",\"gridwidth\":2,\"linecolor\":\"white\",\"showbackground\":true,\"ticks\":\"\",\"zerolinecolor\":\"white\"},\"zaxis\":{\"backgroundcolor\":\"#E5ECF6\",\"gridcolor\":\"white\",\"gridwidth\":2,\"linecolor\":\"white\",\"showbackground\":true,\"ticks\":\"\",\"zerolinecolor\":\"white\"}},\"shapedefaults\":{\"line\":{\"color\":\"#2a3f5f\"}},\"ternary\":{\"aaxis\":{\"gridcolor\":\"white\",\"linecolor\":\"white\",\"ticks\":\"\"},\"baxis\":{\"gridcolor\":\"white\",\"linecolor\":\"white\",\"ticks\":\"\"},\"bgcolor\":\"#E5ECF6\",\"caxis\":{\"gridcolor\":\"white\",\"linecolor\":\"white\",\"ticks\":\"\"}},\"title\":{\"x\":0.05},\"xaxis\":{\"automargin\":true,\"gridcolor\":\"white\",\"linecolor\":\"white\",\"ticks\":\"\",\"title\":{\"standoff\":15},\"zerolinecolor\":\"white\",\"zerolinewidth\":2},\"yaxis\":{\"automargin\":true,\"gridcolor\":\"white\",\"linecolor\":\"white\",\"ticks\":\"\",\"title\":{\"standoff\":15},\"zerolinecolor\":\"white\",\"zerolinewidth\":2}}},\"coloraxis\":{\"colorbar\":{\"title\":{\"text\":\"ave_score_baltaks\"}},\"colorscale\":[[0.0,\"rgb(103,0,31)\"],[0.1,\"rgb(178,24,43)\"],[0.2,\"rgb(214,96,77)\"],[0.3,\"rgb(244,165,130)\"],[0.4,\"rgb(253,219,199)\"],[0.5,\"rgb(247,247,247)\"],[0.6,\"rgb(209,229,240)\"],[0.7,\"rgb(146,197,222)\"],[0.8,\"rgb(67,147,195)\"],[0.9,\"rgb(33,102,172)\"],[1.0,\"rgb(5,48,97)\"]],\"cmid\":144.30885882929329},\"legend\":{\"tracegroupgap\":0},\"margin\":{\"t\":50,\"l\":25,\"r\":25,\"b\":25}},                        {\"responsive\": true}                    ).then(function(){\n",
       "                            \n",
       "var gd = document.getElementById('6a7f02b9-5ff6-4595-b00d-6f3390427f88');\n",
       "var x = new MutationObserver(function (mutations, observer) {{\n",
       "        var display = window.getComputedStyle(gd).display;\n",
       "        if (!display || display === 'none') {{\n",
       "            console.log([gd, 'removed!']);\n",
       "            Plotly.purge(gd);\n",
       "            observer.disconnect();\n",
       "        }}\n",
       "}});\n",
       "\n",
       "// Listen for the removal of the full notebook cells\n",
       "var notebookContainer = gd.closest('#notebook-container');\n",
       "if (notebookContainer) {{\n",
       "    x.observe(notebookContainer, {childList: true});\n",
       "}}\n",
       "\n",
       "// Listen for the clearing of the current output cell\n",
       "var outputEl = gd.closest('.output');\n",
       "if (outputEl) {{\n",
       "    x.observe(outputEl, {childList: true});\n",
       "}}\n",
       "\n",
       "                        })                };                });            </script>        </div>"
      ]
     },
     "metadata": {},
     "output_type": "display_data"
    },
    {
     "data": {
      "application/vnd.plotly.v1+json": {
       "config": {
        "plotlyServerURL": "https://plot.ly"
       },
       "data": [
        {
         "branchvalues": "total",
         "customdata": [
          [
           172.38095238095238,
           139.33333333333334
          ],
          [
           186.66666666666666,
           139.66666666666666
          ],
          [
           195,
           109
          ],
          [
           268,
           115
          ],
          [
           116,
           122
          ],
          [
           178.42857142857142,
           144.71428571428572
          ],
          [
           225.05172413793105,
           139.8448275862069
          ],
          [
           158.35294117647058,
           123.70588235294117
          ],
          [
           212.28571428571428,
           111.85714285714286
          ],
          [
           225.28571428571428,
           128.28571428571428
          ],
          [
           184.5,
           130.5
          ],
          [
           168.45299145299145,
           129.8803418803419
          ],
          [
           162.2,
           142.12
          ],
          [
           133,
           151
          ],
          [
           264,
           108
          ],
          [
           138,
           174
          ],
          [
           155.57142857142858,
           164.71428571428572
          ],
          [
           255.9294117647059,
           148.43529411764706
          ],
          [
           184.95785440613028,
           136.78544061302682
          ],
          [
           130.78125,
           132.6875
          ],
          [
           205.53030303030303,
           149.07575757575756
          ],
          [
           201.64,
           144.92
          ],
          [
           70,
           118
          ],
          [
           158,
           137.14285714285714
          ],
          [
           182.90291262135923,
           134.39805825242718
          ],
          [
           155.4,
           110.9
          ],
          [
           258.5,
           165
          ],
          [
           145.33333333333334,
           144.33333333333334
          ],
          [
           346,
           125
          ],
          [
           229.31034482758622,
           158.02586206896552
          ],
          [
           188.875,
           149.875
          ],
          [
           228.4814814814815,
           163.59259259259258
          ],
          [
           151.2,
           150.4
          ],
          [
           244,
           175
          ],
          [
           "(?)",
           142.30649854510185
          ],
          [
           "(?)",
           144.1184210526316
          ],
          [
           "(?)",
           152.73333333333332
          ],
          [
           "(?)",
           138.7207792207792
          ],
          [
           "(?)",
           132
          ],
          [
           "(?)",
           142.1798084008843
          ]
         ],
         "domain": {
          "x": [
           0,
           1
          ],
          "y": [
           0,
           1
          ]
         },
         "hovertemplate": "labels=%{label}<br>class_counts=%{value}<br>parent=%{parent}<br>id=%{id}<br>ave_elo_geodens=%{customdata[0]}<br>ave_score_geodens=%{color}<extra></extra>",
         "ids": [
          "R1 Structures: Frequency and Overall Score for geodens/PI/ 0_m / 0_ts / 1_lab / 1_pi / 0_ac1 / 0_ac2",
          "R1 Structures: Frequency and Overall Score for geodens/lab/ 0_m / 0_ts / 2_lab / 0_pi / 0_ac1 / 0_ac2",
          "R1 Structures: Frequency and Overall Score for geodens/ac1/ 0_m / 1_ts / 0_lab / 0_pi / 1_ac1 / 0_ac2",
          "R1 Structures: Frequency and Overall Score for geodens/PI/ 0_m / 2_ts / 0_lab / 1_pi / 0_ac1 / 0_ac2",
          "R1 Structures: Frequency and Overall Score for geodens/ts/ 0_m / 3_ts / 0_lab / 0_pi / 0_ac1 / 0_ac2",
          "R1 Structures: Frequency and Overall Score for geodens/ac2/ 1_m / 0_ts / 0_lab / 0_pi / 0_ac1 / 1_ac2",
          "R1 Structures: Frequency and Overall Score for geodens/ac1/ 1_m / 0_ts / 0_lab / 0_pi / 1_ac1 / 0_ac2",
          "R1 Structures: Frequency and Overall Score for geodens/PI/ 1_m / 0_ts / 0_lab / 1_pi / 0_ac1 / 0_ac2",
          "R1 Structures: Frequency and Overall Score for geodens/lab/ 1_m / 0_ts / 1_lab / 0_pi / 0_ac1 / 0_ac2",
          "R1 Structures: Frequency and Overall Score for geodens/PI/ 1_m / 0_ts / 1_lab / 1_pi / 0_ac1 / 0_ac2",
          "R1 Structures: Frequency and Overall Score for geodens/lab/ 1_m / 0_ts / 2_lab / 0_pi / 0_ac1 / 0_ac2",
          "R1 Structures: Frequency and Overall Score for geodens/PI/ 1_m / 1_ts / 0_lab / 1_pi / 0_ac1 / 0_ac2",
          "R1 Structures: Frequency and Overall Score for geodens/lab/ 1_m / 1_ts / 1_lab / 0_pi / 0_ac1 / 0_ac2",
          "R1 Structures: Frequency and Overall Score for geodens/ts/ 1_m / 2_ts / 0_lab / 0_pi / 0_ac1 / 0_ac2",
          "R1 Structures: Frequency and Overall Score for geodens/PI/ 1_m / 2_ts / 0_lab / 1_pi / 0_ac1 / 0_ac2",
          "R1 Structures: Frequency and Overall Score for geodens/lab/ 1_m / 2_ts / 1_lab / 0_pi / 0_ac1 / 0_ac2",
          "R1 Structures: Frequency and Overall Score for geodens/ac2/ 2_m / 0_ts / 0_lab / 0_pi / 0_ac1 / 1_ac2",
          "R1 Structures: Frequency and Overall Score for geodens/ac1/ 2_m / 0_ts / 0_lab / 0_pi / 1_ac1 / 0_ac2",
          "R1 Structures: Frequency and Overall Score for geodens/PI/ 2_m / 0_ts / 0_lab / 1_pi / 0_ac1 / 0_ac2",
          "R1 Structures: Frequency and Overall Score for geodens/lab/ 2_m / 0_ts / 1_lab / 0_pi / 0_ac1 / 0_ac2",
          "R1 Structures: Frequency and Overall Score for geodens/PI/ 2_m / 1_ts / 0_lab / 1_pi / 0_ac1 / 0_ac2",
          "R1 Structures: Frequency and Overall Score for geodens/lab/ 2_m / 1_ts / 1_lab / 0_pi / 0_ac1 / 0_ac2",
          "R1 Structures: Frequency and Overall Score for geodens/ts/ 2_m / 2_ts / 0_lab / 0_pi / 0_ac1 / 0_ac2",
          "R1 Structures: Frequency and Overall Score for geodens/ac1/ 3_m / 0_ts / 0_lab / 0_pi / 1_ac1 / 0_ac2",
          "R1 Structures: Frequency and Overall Score for geodens/PI/ 3_m / 0_ts / 0_lab / 1_pi / 0_ac1 / 0_ac2",
          "R1 Structures: Frequency and Overall Score for geodens/lab/ 3_m / 0_ts / 1_lab / 0_pi / 0_ac1 / 0_ac2",
          "R1 Structures: Frequency and Overall Score for geodens/PI/ 3_m / 1_ts / 0_lab / 1_pi / 0_ac1 / 0_ac2",
          "R1 Structures: Frequency and Overall Score for geodens/lab/ 3_m / 1_ts / 1_lab / 0_pi / 0_ac1 / 0_ac2",
          "R1 Structures: Frequency and Overall Score for geodens/ac2/ 4_m / 0_ts / 0_lab / 0_pi / 0_ac1 / 1_ac2",
          "R1 Structures: Frequency and Overall Score for geodens/PI/ 4_m / 0_ts / 0_lab / 1_pi / 0_ac1 / 0_ac2",
          "R1 Structures: Frequency and Overall Score for geodens/lab/ 4_m / 0_ts / 1_lab / 0_pi / 0_ac1 / 0_ac2",
          "R1 Structures: Frequency and Overall Score for geodens/PI/ 5_m / 0_ts / 0_lab / 1_pi / 0_ac1 / 0_ac2",
          "R1 Structures: Frequency and Overall Score for geodens/lab/ 5_m / 0_ts / 1_lab / 0_pi / 0_ac1 / 0_ac2",
          "R1 Structures: Frequency and Overall Score for geodens/lab/ 6_m / 0_ts / 1_lab / 0_pi / 0_ac1 / 0_ac2",
          "R1 Structures: Frequency and Overall Score for geodens/PI",
          "R1 Structures: Frequency and Overall Score for geodens/ac1",
          "R1 Structures: Frequency and Overall Score for geodens/ac2",
          "R1 Structures: Frequency and Overall Score for geodens/lab",
          "R1 Structures: Frequency and Overall Score for geodens/ts",
          "R1 Structures: Frequency and Overall Score for geodens"
         ],
         "labels": [
          " 0_m / 0_ts / 1_lab / 1_pi / 0_ac1 / 0_ac2",
          " 0_m / 0_ts / 2_lab / 0_pi / 0_ac1 / 0_ac2",
          " 0_m / 1_ts / 0_lab / 0_pi / 1_ac1 / 0_ac2",
          " 0_m / 2_ts / 0_lab / 1_pi / 0_ac1 / 0_ac2",
          " 0_m / 3_ts / 0_lab / 0_pi / 0_ac1 / 0_ac2",
          " 1_m / 0_ts / 0_lab / 0_pi / 0_ac1 / 1_ac2",
          " 1_m / 0_ts / 0_lab / 0_pi / 1_ac1 / 0_ac2",
          " 1_m / 0_ts / 0_lab / 1_pi / 0_ac1 / 0_ac2",
          " 1_m / 0_ts / 1_lab / 0_pi / 0_ac1 / 0_ac2",
          " 1_m / 0_ts / 1_lab / 1_pi / 0_ac1 / 0_ac2",
          " 1_m / 0_ts / 2_lab / 0_pi / 0_ac1 / 0_ac2",
          " 1_m / 1_ts / 0_lab / 1_pi / 0_ac1 / 0_ac2",
          " 1_m / 1_ts / 1_lab / 0_pi / 0_ac1 / 0_ac2",
          " 1_m / 2_ts / 0_lab / 0_pi / 0_ac1 / 0_ac2",
          " 1_m / 2_ts / 0_lab / 1_pi / 0_ac1 / 0_ac2",
          " 1_m / 2_ts / 1_lab / 0_pi / 0_ac1 / 0_ac2",
          " 2_m / 0_ts / 0_lab / 0_pi / 0_ac1 / 1_ac2",
          " 2_m / 0_ts / 0_lab / 0_pi / 1_ac1 / 0_ac2",
          " 2_m / 0_ts / 0_lab / 1_pi / 0_ac1 / 0_ac2",
          " 2_m / 0_ts / 1_lab / 0_pi / 0_ac1 / 0_ac2",
          " 2_m / 1_ts / 0_lab / 1_pi / 0_ac1 / 0_ac2",
          " 2_m / 1_ts / 1_lab / 0_pi / 0_ac1 / 0_ac2",
          " 2_m / 2_ts / 0_lab / 0_pi / 0_ac1 / 0_ac2",
          " 3_m / 0_ts / 0_lab / 0_pi / 1_ac1 / 0_ac2",
          " 3_m / 0_ts / 0_lab / 1_pi / 0_ac1 / 0_ac2",
          " 3_m / 0_ts / 1_lab / 0_pi / 0_ac1 / 0_ac2",
          " 3_m / 1_ts / 0_lab / 1_pi / 0_ac1 / 0_ac2",
          " 3_m / 1_ts / 1_lab / 0_pi / 0_ac1 / 0_ac2",
          " 4_m / 0_ts / 0_lab / 0_pi / 0_ac1 / 1_ac2",
          " 4_m / 0_ts / 0_lab / 1_pi / 0_ac1 / 0_ac2",
          " 4_m / 0_ts / 1_lab / 0_pi / 0_ac1 / 0_ac2",
          " 5_m / 0_ts / 0_lab / 1_pi / 0_ac1 / 0_ac2",
          " 5_m / 0_ts / 1_lab / 0_pi / 0_ac1 / 0_ac2",
          " 6_m / 0_ts / 1_lab / 0_pi / 0_ac1 / 0_ac2",
          "PI",
          "ac1",
          "ac2",
          "lab",
          "ts",
          "R1 Structures: Frequency and Overall Score for geodens"
         ],
         "marker": {
          "coloraxis": "coloraxis",
          "colors": [
           139.33333333333334,
           139.66666666666666,
           109,
           115,
           122,
           144.71428571428572,
           139.8448275862069,
           123.70588235294117,
           111.85714285714286,
           128.28571428571428,
           130.5,
           129.8803418803419,
           142.12,
           151,
           108,
           174,
           164.71428571428572,
           148.43529411764706,
           136.78544061302682,
           132.6875,
           149.07575757575756,
           144.92,
           118,
           137.14285714285714,
           134.39805825242718,
           110.9,
           165,
           144.33333333333334,
           125,
           158.02586206896552,
           149.875,
           163.59259259259258,
           150.4,
           175,
           142.30649854510185,
           144.1184210526316,
           152.73333333333332,
           138.7207792207792,
           132,
           142.1798084008843
          ]
         },
         "name": "",
         "parents": [
          "R1 Structures: Frequency and Overall Score for geodens/PI",
          "R1 Structures: Frequency and Overall Score for geodens/lab",
          "R1 Structures: Frequency and Overall Score for geodens/ac1",
          "R1 Structures: Frequency and Overall Score for geodens/PI",
          "R1 Structures: Frequency and Overall Score for geodens/ts",
          "R1 Structures: Frequency and Overall Score for geodens/ac2",
          "R1 Structures: Frequency and Overall Score for geodens/ac1",
          "R1 Structures: Frequency and Overall Score for geodens/PI",
          "R1 Structures: Frequency and Overall Score for geodens/lab",
          "R1 Structures: Frequency and Overall Score for geodens/PI",
          "R1 Structures: Frequency and Overall Score for geodens/lab",
          "R1 Structures: Frequency and Overall Score for geodens/PI",
          "R1 Structures: Frequency and Overall Score for geodens/lab",
          "R1 Structures: Frequency and Overall Score for geodens/ts",
          "R1 Structures: Frequency and Overall Score for geodens/PI",
          "R1 Structures: Frequency and Overall Score for geodens/lab",
          "R1 Structures: Frequency and Overall Score for geodens/ac2",
          "R1 Structures: Frequency and Overall Score for geodens/ac1",
          "R1 Structures: Frequency and Overall Score for geodens/PI",
          "R1 Structures: Frequency and Overall Score for geodens/lab",
          "R1 Structures: Frequency and Overall Score for geodens/PI",
          "R1 Structures: Frequency and Overall Score for geodens/lab",
          "R1 Structures: Frequency and Overall Score for geodens/ts",
          "R1 Structures: Frequency and Overall Score for geodens/ac1",
          "R1 Structures: Frequency and Overall Score for geodens/PI",
          "R1 Structures: Frequency and Overall Score for geodens/lab",
          "R1 Structures: Frequency and Overall Score for geodens/PI",
          "R1 Structures: Frequency and Overall Score for geodens/lab",
          "R1 Structures: Frequency and Overall Score for geodens/ac2",
          "R1 Structures: Frequency and Overall Score for geodens/PI",
          "R1 Structures: Frequency and Overall Score for geodens/lab",
          "R1 Structures: Frequency and Overall Score for geodens/PI",
          "R1 Structures: Frequency and Overall Score for geodens/lab",
          "R1 Structures: Frequency and Overall Score for geodens/lab",
          "R1 Structures: Frequency and Overall Score for geodens",
          "R1 Structures: Frequency and Overall Score for geodens",
          "R1 Structures: Frequency and Overall Score for geodens",
          "R1 Structures: Frequency and Overall Score for geodens",
          "R1 Structures: Frequency and Overall Score for geodens",
          ""
         ],
         "type": "treemap",
         "values": [
          21,
          3,
          2,
          1,
          1,
          7,
          58,
          17,
          7,
          14,
          4,
          117,
          25,
          2,
          1,
          1,
          7,
          85,
          261,
          32,
          132,
          50,
          2,
          7,
          206,
          10,
          2,
          3,
          1,
          232,
          8,
          27,
          10,
          1,
          1031,
          152,
          15,
          154,
          5,
          1357
         ]
        }
       ],
       "layout": {
        "coloraxis": {
         "cmid": 144.30885882929329,
         "colorbar": {
          "title": {
           "text": "ave_score_geodens"
          }
         },
         "colorscale": [
          [
           0,
           "rgb(103,0,31)"
          ],
          [
           0.1,
           "rgb(178,24,43)"
          ],
          [
           0.2,
           "rgb(214,96,77)"
          ],
          [
           0.3,
           "rgb(244,165,130)"
          ],
          [
           0.4,
           "rgb(253,219,199)"
          ],
          [
           0.5,
           "rgb(247,247,247)"
          ],
          [
           0.6,
           "rgb(209,229,240)"
          ],
          [
           0.7,
           "rgb(146,197,222)"
          ],
          [
           0.8,
           "rgb(67,147,195)"
          ],
          [
           0.9,
           "rgb(33,102,172)"
          ],
          [
           1,
           "rgb(5,48,97)"
          ]
         ]
        },
        "legend": {
         "tracegroupgap": 0
        },
        "margin": {
         "b": 25,
         "l": 25,
         "r": 25,
         "t": 50
        },
        "template": {
         "data": {
          "bar": [
           {
            "error_x": {
             "color": "#2a3f5f"
            },
            "error_y": {
             "color": "#2a3f5f"
            },
            "marker": {
             "line": {
              "color": "#E5ECF6",
              "width": 0.5
             },
             "pattern": {
              "fillmode": "overlay",
              "size": 10,
              "solidity": 0.2
             }
            },
            "type": "bar"
           }
          ],
          "barpolar": [
           {
            "marker": {
             "line": {
              "color": "#E5ECF6",
              "width": 0.5
             },
             "pattern": {
              "fillmode": "overlay",
              "size": 10,
              "solidity": 0.2
             }
            },
            "type": "barpolar"
           }
          ],
          "carpet": [
           {
            "aaxis": {
             "endlinecolor": "#2a3f5f",
             "gridcolor": "white",
             "linecolor": "white",
             "minorgridcolor": "white",
             "startlinecolor": "#2a3f5f"
            },
            "baxis": {
             "endlinecolor": "#2a3f5f",
             "gridcolor": "white",
             "linecolor": "white",
             "minorgridcolor": "white",
             "startlinecolor": "#2a3f5f"
            },
            "type": "carpet"
           }
          ],
          "choropleth": [
           {
            "colorbar": {
             "outlinewidth": 0,
             "ticks": ""
            },
            "type": "choropleth"
           }
          ],
          "contour": [
           {
            "colorbar": {
             "outlinewidth": 0,
             "ticks": ""
            },
            "colorscale": [
             [
              0,
              "#0d0887"
             ],
             [
              0.1111111111111111,
              "#46039f"
             ],
             [
              0.2222222222222222,
              "#7201a8"
             ],
             [
              0.3333333333333333,
              "#9c179e"
             ],
             [
              0.4444444444444444,
              "#bd3786"
             ],
             [
              0.5555555555555556,
              "#d8576b"
             ],
             [
              0.6666666666666666,
              "#ed7953"
             ],
             [
              0.7777777777777778,
              "#fb9f3a"
             ],
             [
              0.8888888888888888,
              "#fdca26"
             ],
             [
              1,
              "#f0f921"
             ]
            ],
            "type": "contour"
           }
          ],
          "contourcarpet": [
           {
            "colorbar": {
             "outlinewidth": 0,
             "ticks": ""
            },
            "type": "contourcarpet"
           }
          ],
          "heatmap": [
           {
            "colorbar": {
             "outlinewidth": 0,
             "ticks": ""
            },
            "colorscale": [
             [
              0,
              "#0d0887"
             ],
             [
              0.1111111111111111,
              "#46039f"
             ],
             [
              0.2222222222222222,
              "#7201a8"
             ],
             [
              0.3333333333333333,
              "#9c179e"
             ],
             [
              0.4444444444444444,
              "#bd3786"
             ],
             [
              0.5555555555555556,
              "#d8576b"
             ],
             [
              0.6666666666666666,
              "#ed7953"
             ],
             [
              0.7777777777777778,
              "#fb9f3a"
             ],
             [
              0.8888888888888888,
              "#fdca26"
             ],
             [
              1,
              "#f0f921"
             ]
            ],
            "type": "heatmap"
           }
          ],
          "heatmapgl": [
           {
            "colorbar": {
             "outlinewidth": 0,
             "ticks": ""
            },
            "colorscale": [
             [
              0,
              "#0d0887"
             ],
             [
              0.1111111111111111,
              "#46039f"
             ],
             [
              0.2222222222222222,
              "#7201a8"
             ],
             [
              0.3333333333333333,
              "#9c179e"
             ],
             [
              0.4444444444444444,
              "#bd3786"
             ],
             [
              0.5555555555555556,
              "#d8576b"
             ],
             [
              0.6666666666666666,
              "#ed7953"
             ],
             [
              0.7777777777777778,
              "#fb9f3a"
             ],
             [
              0.8888888888888888,
              "#fdca26"
             ],
             [
              1,
              "#f0f921"
             ]
            ],
            "type": "heatmapgl"
           }
          ],
          "histogram": [
           {
            "marker": {
             "pattern": {
              "fillmode": "overlay",
              "size": 10,
              "solidity": 0.2
             }
            },
            "type": "histogram"
           }
          ],
          "histogram2d": [
           {
            "colorbar": {
             "outlinewidth": 0,
             "ticks": ""
            },
            "colorscale": [
             [
              0,
              "#0d0887"
             ],
             [
              0.1111111111111111,
              "#46039f"
             ],
             [
              0.2222222222222222,
              "#7201a8"
             ],
             [
              0.3333333333333333,
              "#9c179e"
             ],
             [
              0.4444444444444444,
              "#bd3786"
             ],
             [
              0.5555555555555556,
              "#d8576b"
             ],
             [
              0.6666666666666666,
              "#ed7953"
             ],
             [
              0.7777777777777778,
              "#fb9f3a"
             ],
             [
              0.8888888888888888,
              "#fdca26"
             ],
             [
              1,
              "#f0f921"
             ]
            ],
            "type": "histogram2d"
           }
          ],
          "histogram2dcontour": [
           {
            "colorbar": {
             "outlinewidth": 0,
             "ticks": ""
            },
            "colorscale": [
             [
              0,
              "#0d0887"
             ],
             [
              0.1111111111111111,
              "#46039f"
             ],
             [
              0.2222222222222222,
              "#7201a8"
             ],
             [
              0.3333333333333333,
              "#9c179e"
             ],
             [
              0.4444444444444444,
              "#bd3786"
             ],
             [
              0.5555555555555556,
              "#d8576b"
             ],
             [
              0.6666666666666666,
              "#ed7953"
             ],
             [
              0.7777777777777778,
              "#fb9f3a"
             ],
             [
              0.8888888888888888,
              "#fdca26"
             ],
             [
              1,
              "#f0f921"
             ]
            ],
            "type": "histogram2dcontour"
           }
          ],
          "mesh3d": [
           {
            "colorbar": {
             "outlinewidth": 0,
             "ticks": ""
            },
            "type": "mesh3d"
           }
          ],
          "parcoords": [
           {
            "line": {
             "colorbar": {
              "outlinewidth": 0,
              "ticks": ""
             }
            },
            "type": "parcoords"
           }
          ],
          "pie": [
           {
            "automargin": true,
            "type": "pie"
           }
          ],
          "scatter": [
           {
            "marker": {
             "colorbar": {
              "outlinewidth": 0,
              "ticks": ""
             }
            },
            "type": "scatter"
           }
          ],
          "scatter3d": [
           {
            "line": {
             "colorbar": {
              "outlinewidth": 0,
              "ticks": ""
             }
            },
            "marker": {
             "colorbar": {
              "outlinewidth": 0,
              "ticks": ""
             }
            },
            "type": "scatter3d"
           }
          ],
          "scattercarpet": [
           {
            "marker": {
             "colorbar": {
              "outlinewidth": 0,
              "ticks": ""
             }
            },
            "type": "scattercarpet"
           }
          ],
          "scattergeo": [
           {
            "marker": {
             "colorbar": {
              "outlinewidth": 0,
              "ticks": ""
             }
            },
            "type": "scattergeo"
           }
          ],
          "scattergl": [
           {
            "marker": {
             "colorbar": {
              "outlinewidth": 0,
              "ticks": ""
             }
            },
            "type": "scattergl"
           }
          ],
          "scattermapbox": [
           {
            "marker": {
             "colorbar": {
              "outlinewidth": 0,
              "ticks": ""
             }
            },
            "type": "scattermapbox"
           }
          ],
          "scatterpolar": [
           {
            "marker": {
             "colorbar": {
              "outlinewidth": 0,
              "ticks": ""
             }
            },
            "type": "scatterpolar"
           }
          ],
          "scatterpolargl": [
           {
            "marker": {
             "colorbar": {
              "outlinewidth": 0,
              "ticks": ""
             }
            },
            "type": "scatterpolargl"
           }
          ],
          "scatterternary": [
           {
            "marker": {
             "colorbar": {
              "outlinewidth": 0,
              "ticks": ""
             }
            },
            "type": "scatterternary"
           }
          ],
          "surface": [
           {
            "colorbar": {
             "outlinewidth": 0,
             "ticks": ""
            },
            "colorscale": [
             [
              0,
              "#0d0887"
             ],
             [
              0.1111111111111111,
              "#46039f"
             ],
             [
              0.2222222222222222,
              "#7201a8"
             ],
             [
              0.3333333333333333,
              "#9c179e"
             ],
             [
              0.4444444444444444,
              "#bd3786"
             ],
             [
              0.5555555555555556,
              "#d8576b"
             ],
             [
              0.6666666666666666,
              "#ed7953"
             ],
             [
              0.7777777777777778,
              "#fb9f3a"
             ],
             [
              0.8888888888888888,
              "#fdca26"
             ],
             [
              1,
              "#f0f921"
             ]
            ],
            "type": "surface"
           }
          ],
          "table": [
           {
            "cells": {
             "fill": {
              "color": "#EBF0F8"
             },
             "line": {
              "color": "white"
             }
            },
            "header": {
             "fill": {
              "color": "#C8D4E3"
             },
             "line": {
              "color": "white"
             }
            },
            "type": "table"
           }
          ]
         },
         "layout": {
          "annotationdefaults": {
           "arrowcolor": "#2a3f5f",
           "arrowhead": 0,
           "arrowwidth": 1
          },
          "autotypenumbers": "strict",
          "coloraxis": {
           "colorbar": {
            "outlinewidth": 0,
            "ticks": ""
           }
          },
          "colorscale": {
           "diverging": [
            [
             0,
             "#8e0152"
            ],
            [
             0.1,
             "#c51b7d"
            ],
            [
             0.2,
             "#de77ae"
            ],
            [
             0.3,
             "#f1b6da"
            ],
            [
             0.4,
             "#fde0ef"
            ],
            [
             0.5,
             "#f7f7f7"
            ],
            [
             0.6,
             "#e6f5d0"
            ],
            [
             0.7,
             "#b8e186"
            ],
            [
             0.8,
             "#7fbc41"
            ],
            [
             0.9,
             "#4d9221"
            ],
            [
             1,
             "#276419"
            ]
           ],
           "sequential": [
            [
             0,
             "#0d0887"
            ],
            [
             0.1111111111111111,
             "#46039f"
            ],
            [
             0.2222222222222222,
             "#7201a8"
            ],
            [
             0.3333333333333333,
             "#9c179e"
            ],
            [
             0.4444444444444444,
             "#bd3786"
            ],
            [
             0.5555555555555556,
             "#d8576b"
            ],
            [
             0.6666666666666666,
             "#ed7953"
            ],
            [
             0.7777777777777778,
             "#fb9f3a"
            ],
            [
             0.8888888888888888,
             "#fdca26"
            ],
            [
             1,
             "#f0f921"
            ]
           ],
           "sequentialminus": [
            [
             0,
             "#0d0887"
            ],
            [
             0.1111111111111111,
             "#46039f"
            ],
            [
             0.2222222222222222,
             "#7201a8"
            ],
            [
             0.3333333333333333,
             "#9c179e"
            ],
            [
             0.4444444444444444,
             "#bd3786"
            ],
            [
             0.5555555555555556,
             "#d8576b"
            ],
            [
             0.6666666666666666,
             "#ed7953"
            ],
            [
             0.7777777777777778,
             "#fb9f3a"
            ],
            [
             0.8888888888888888,
             "#fdca26"
            ],
            [
             1,
             "#f0f921"
            ]
           ]
          },
          "colorway": [
           "#636efa",
           "#EF553B",
           "#00cc96",
           "#ab63fa",
           "#FFA15A",
           "#19d3f3",
           "#FF6692",
           "#B6E880",
           "#FF97FF",
           "#FECB52"
          ],
          "font": {
           "color": "#2a3f5f"
          },
          "geo": {
           "bgcolor": "white",
           "lakecolor": "white",
           "landcolor": "#E5ECF6",
           "showlakes": true,
           "showland": true,
           "subunitcolor": "white"
          },
          "hoverlabel": {
           "align": "left"
          },
          "hovermode": "closest",
          "mapbox": {
           "style": "light"
          },
          "paper_bgcolor": "white",
          "plot_bgcolor": "#E5ECF6",
          "polar": {
           "angularaxis": {
            "gridcolor": "white",
            "linecolor": "white",
            "ticks": ""
           },
           "bgcolor": "#E5ECF6",
           "radialaxis": {
            "gridcolor": "white",
            "linecolor": "white",
            "ticks": ""
           }
          },
          "scene": {
           "xaxis": {
            "backgroundcolor": "#E5ECF6",
            "gridcolor": "white",
            "gridwidth": 2,
            "linecolor": "white",
            "showbackground": true,
            "ticks": "",
            "zerolinecolor": "white"
           },
           "yaxis": {
            "backgroundcolor": "#E5ECF6",
            "gridcolor": "white",
            "gridwidth": 2,
            "linecolor": "white",
            "showbackground": true,
            "ticks": "",
            "zerolinecolor": "white"
           },
           "zaxis": {
            "backgroundcolor": "#E5ECF6",
            "gridcolor": "white",
            "gridwidth": 2,
            "linecolor": "white",
            "showbackground": true,
            "ticks": "",
            "zerolinecolor": "white"
           }
          },
          "shapedefaults": {
           "line": {
            "color": "#2a3f5f"
           }
          },
          "ternary": {
           "aaxis": {
            "gridcolor": "white",
            "linecolor": "white",
            "ticks": ""
           },
           "baxis": {
            "gridcolor": "white",
            "linecolor": "white",
            "ticks": ""
           },
           "bgcolor": "#E5ECF6",
           "caxis": {
            "gridcolor": "white",
            "linecolor": "white",
            "ticks": ""
           }
          },
          "title": {
           "x": 0.05
          },
          "xaxis": {
           "automargin": true,
           "gridcolor": "white",
           "linecolor": "white",
           "ticks": "",
           "title": {
            "standoff": 15
           },
           "zerolinecolor": "white",
           "zerolinewidth": 2
          },
          "yaxis": {
           "automargin": true,
           "gridcolor": "white",
           "linecolor": "white",
           "ticks": "",
           "title": {
            "standoff": 15
           },
           "zerolinecolor": "white",
           "zerolinewidth": 2
          }
         }
        }
       }
      },
      "text/html": [
       "<div>                            <div id=\"c4065315-a501-459f-a5db-692d32caef7f\" class=\"plotly-graph-div\" style=\"height:525px; width:100%;\"></div>            <script type=\"text/javascript\">                require([\"plotly\"], function(Plotly) {                    window.PLOTLYENV=window.PLOTLYENV || {};                                    if (document.getElementById(\"c4065315-a501-459f-a5db-692d32caef7f\")) {                    Plotly.newPlot(                        \"c4065315-a501-459f-a5db-692d32caef7f\",                        [{\"branchvalues\":\"total\",\"customdata\":[[172.38095238095238,139.33333333333334],[186.66666666666666,139.66666666666666],[195.0,109.0],[268.0,115.0],[116.0,122.0],[178.42857142857142,144.71428571428572],[225.05172413793105,139.8448275862069],[158.35294117647058,123.70588235294117],[212.28571428571428,111.85714285714286],[225.28571428571428,128.28571428571428],[184.5,130.5],[168.45299145299145,129.8803418803419],[162.2,142.12],[133.0,151.0],[264.0,108.0],[138.0,174.0],[155.57142857142858,164.71428571428572],[255.9294117647059,148.43529411764706],[184.95785440613028,136.78544061302682],[130.78125,132.6875],[205.53030303030303,149.07575757575756],[201.64,144.92],[70.0,118.0],[158.0,137.14285714285714],[182.90291262135923,134.39805825242718],[155.4,110.9],[258.5,165.0],[145.33333333333334,144.33333333333334],[346.0,125.0],[229.31034482758622,158.02586206896552],[188.875,149.875],[228.4814814814815,163.59259259259258],[151.2,150.4],[244.0,175.0],[\"(?)\",142.30649854510185],[\"(?)\",144.1184210526316],[\"(?)\",152.73333333333332],[\"(?)\",138.7207792207792],[\"(?)\",132.0],[\"(?)\",142.1798084008843]],\"domain\":{\"x\":[0.0,1.0],\"y\":[0.0,1.0]},\"hovertemplate\":\"labels=%{label}<br>class_counts=%{value}<br>parent=%{parent}<br>id=%{id}<br>ave_elo_geodens=%{customdata[0]}<br>ave_score_geodens=%{color}<extra></extra>\",\"ids\":[\"R1 Structures: Frequency and Overall Score for geodens/PI/ 0_m / 0_ts / 1_lab / 1_pi / 0_ac1 / 0_ac2\",\"R1 Structures: Frequency and Overall Score for geodens/lab/ 0_m / 0_ts / 2_lab / 0_pi / 0_ac1 / 0_ac2\",\"R1 Structures: Frequency and Overall Score for geodens/ac1/ 0_m / 1_ts / 0_lab / 0_pi / 1_ac1 / 0_ac2\",\"R1 Structures: Frequency and Overall Score for geodens/PI/ 0_m / 2_ts / 0_lab / 1_pi / 0_ac1 / 0_ac2\",\"R1 Structures: Frequency and Overall Score for geodens/ts/ 0_m / 3_ts / 0_lab / 0_pi / 0_ac1 / 0_ac2\",\"R1 Structures: Frequency and Overall Score for geodens/ac2/ 1_m / 0_ts / 0_lab / 0_pi / 0_ac1 / 1_ac2\",\"R1 Structures: Frequency and Overall Score for geodens/ac1/ 1_m / 0_ts / 0_lab / 0_pi / 1_ac1 / 0_ac2\",\"R1 Structures: Frequency and Overall Score for geodens/PI/ 1_m / 0_ts / 0_lab / 1_pi / 0_ac1 / 0_ac2\",\"R1 Structures: Frequency and Overall Score for geodens/lab/ 1_m / 0_ts / 1_lab / 0_pi / 0_ac1 / 0_ac2\",\"R1 Structures: Frequency and Overall Score for geodens/PI/ 1_m / 0_ts / 1_lab / 1_pi / 0_ac1 / 0_ac2\",\"R1 Structures: Frequency and Overall Score for geodens/lab/ 1_m / 0_ts / 2_lab / 0_pi / 0_ac1 / 0_ac2\",\"R1 Structures: Frequency and Overall Score for geodens/PI/ 1_m / 1_ts / 0_lab / 1_pi / 0_ac1 / 0_ac2\",\"R1 Structures: Frequency and Overall Score for geodens/lab/ 1_m / 1_ts / 1_lab / 0_pi / 0_ac1 / 0_ac2\",\"R1 Structures: Frequency and Overall Score for geodens/ts/ 1_m / 2_ts / 0_lab / 0_pi / 0_ac1 / 0_ac2\",\"R1 Structures: Frequency and Overall Score for geodens/PI/ 1_m / 2_ts / 0_lab / 1_pi / 0_ac1 / 0_ac2\",\"R1 Structures: Frequency and Overall Score for geodens/lab/ 1_m / 2_ts / 1_lab / 0_pi / 0_ac1 / 0_ac2\",\"R1 Structures: Frequency and Overall Score for geodens/ac2/ 2_m / 0_ts / 0_lab / 0_pi / 0_ac1 / 1_ac2\",\"R1 Structures: Frequency and Overall Score for geodens/ac1/ 2_m / 0_ts / 0_lab / 0_pi / 1_ac1 / 0_ac2\",\"R1 Structures: Frequency and Overall Score for geodens/PI/ 2_m / 0_ts / 0_lab / 1_pi / 0_ac1 / 0_ac2\",\"R1 Structures: Frequency and Overall Score for geodens/lab/ 2_m / 0_ts / 1_lab / 0_pi / 0_ac1 / 0_ac2\",\"R1 Structures: Frequency and Overall Score for geodens/PI/ 2_m / 1_ts / 0_lab / 1_pi / 0_ac1 / 0_ac2\",\"R1 Structures: Frequency and Overall Score for geodens/lab/ 2_m / 1_ts / 1_lab / 0_pi / 0_ac1 / 0_ac2\",\"R1 Structures: Frequency and Overall Score for geodens/ts/ 2_m / 2_ts / 0_lab / 0_pi / 0_ac1 / 0_ac2\",\"R1 Structures: Frequency and Overall Score for geodens/ac1/ 3_m / 0_ts / 0_lab / 0_pi / 1_ac1 / 0_ac2\",\"R1 Structures: Frequency and Overall Score for geodens/PI/ 3_m / 0_ts / 0_lab / 1_pi / 0_ac1 / 0_ac2\",\"R1 Structures: Frequency and Overall Score for geodens/lab/ 3_m / 0_ts / 1_lab / 0_pi / 0_ac1 / 0_ac2\",\"R1 Structures: Frequency and Overall Score for geodens/PI/ 3_m / 1_ts / 0_lab / 1_pi / 0_ac1 / 0_ac2\",\"R1 Structures: Frequency and Overall Score for geodens/lab/ 3_m / 1_ts / 1_lab / 0_pi / 0_ac1 / 0_ac2\",\"R1 Structures: Frequency and Overall Score for geodens/ac2/ 4_m / 0_ts / 0_lab / 0_pi / 0_ac1 / 1_ac2\",\"R1 Structures: Frequency and Overall Score for geodens/PI/ 4_m / 0_ts / 0_lab / 1_pi / 0_ac1 / 0_ac2\",\"R1 Structures: Frequency and Overall Score for geodens/lab/ 4_m / 0_ts / 1_lab / 0_pi / 0_ac1 / 0_ac2\",\"R1 Structures: Frequency and Overall Score for geodens/PI/ 5_m / 0_ts / 0_lab / 1_pi / 0_ac1 / 0_ac2\",\"R1 Structures: Frequency and Overall Score for geodens/lab/ 5_m / 0_ts / 1_lab / 0_pi / 0_ac1 / 0_ac2\",\"R1 Structures: Frequency and Overall Score for geodens/lab/ 6_m / 0_ts / 1_lab / 0_pi / 0_ac1 / 0_ac2\",\"R1 Structures: Frequency and Overall Score for geodens/PI\",\"R1 Structures: Frequency and Overall Score for geodens/ac1\",\"R1 Structures: Frequency and Overall Score for geodens/ac2\",\"R1 Structures: Frequency and Overall Score for geodens/lab\",\"R1 Structures: Frequency and Overall Score for geodens/ts\",\"R1 Structures: Frequency and Overall Score for geodens\"],\"labels\":[\" 0_m / 0_ts / 1_lab / 1_pi / 0_ac1 / 0_ac2\",\" 0_m / 0_ts / 2_lab / 0_pi / 0_ac1 / 0_ac2\",\" 0_m / 1_ts / 0_lab / 0_pi / 1_ac1 / 0_ac2\",\" 0_m / 2_ts / 0_lab / 1_pi / 0_ac1 / 0_ac2\",\" 0_m / 3_ts / 0_lab / 0_pi / 0_ac1 / 0_ac2\",\" 1_m / 0_ts / 0_lab / 0_pi / 0_ac1 / 1_ac2\",\" 1_m / 0_ts / 0_lab / 0_pi / 1_ac1 / 0_ac2\",\" 1_m / 0_ts / 0_lab / 1_pi / 0_ac1 / 0_ac2\",\" 1_m / 0_ts / 1_lab / 0_pi / 0_ac1 / 0_ac2\",\" 1_m / 0_ts / 1_lab / 1_pi / 0_ac1 / 0_ac2\",\" 1_m / 0_ts / 2_lab / 0_pi / 0_ac1 / 0_ac2\",\" 1_m / 1_ts / 0_lab / 1_pi / 0_ac1 / 0_ac2\",\" 1_m / 1_ts / 1_lab / 0_pi / 0_ac1 / 0_ac2\",\" 1_m / 2_ts / 0_lab / 0_pi / 0_ac1 / 0_ac2\",\" 1_m / 2_ts / 0_lab / 1_pi / 0_ac1 / 0_ac2\",\" 1_m / 2_ts / 1_lab / 0_pi / 0_ac1 / 0_ac2\",\" 2_m / 0_ts / 0_lab / 0_pi / 0_ac1 / 1_ac2\",\" 2_m / 0_ts / 0_lab / 0_pi / 1_ac1 / 0_ac2\",\" 2_m / 0_ts / 0_lab / 1_pi / 0_ac1 / 0_ac2\",\" 2_m / 0_ts / 1_lab / 0_pi / 0_ac1 / 0_ac2\",\" 2_m / 1_ts / 0_lab / 1_pi / 0_ac1 / 0_ac2\",\" 2_m / 1_ts / 1_lab / 0_pi / 0_ac1 / 0_ac2\",\" 2_m / 2_ts / 0_lab / 0_pi / 0_ac1 / 0_ac2\",\" 3_m / 0_ts / 0_lab / 0_pi / 1_ac1 / 0_ac2\",\" 3_m / 0_ts / 0_lab / 1_pi / 0_ac1 / 0_ac2\",\" 3_m / 0_ts / 1_lab / 0_pi / 0_ac1 / 0_ac2\",\" 3_m / 1_ts / 0_lab / 1_pi / 0_ac1 / 0_ac2\",\" 3_m / 1_ts / 1_lab / 0_pi / 0_ac1 / 0_ac2\",\" 4_m / 0_ts / 0_lab / 0_pi / 0_ac1 / 1_ac2\",\" 4_m / 0_ts / 0_lab / 1_pi / 0_ac1 / 0_ac2\",\" 4_m / 0_ts / 1_lab / 0_pi / 0_ac1 / 0_ac2\",\" 5_m / 0_ts / 0_lab / 1_pi / 0_ac1 / 0_ac2\",\" 5_m / 0_ts / 1_lab / 0_pi / 0_ac1 / 0_ac2\",\" 6_m / 0_ts / 1_lab / 0_pi / 0_ac1 / 0_ac2\",\"PI\",\"ac1\",\"ac2\",\"lab\",\"ts\",\"R1 Structures: Frequency and Overall Score for geodens\"],\"marker\":{\"coloraxis\":\"coloraxis\",\"colors\":[139.33333333333334,139.66666666666666,109.0,115.0,122.0,144.71428571428572,139.8448275862069,123.70588235294117,111.85714285714286,128.28571428571428,130.5,129.8803418803419,142.12,151.0,108.0,174.0,164.71428571428572,148.43529411764706,136.78544061302682,132.6875,149.07575757575756,144.92,118.0,137.14285714285714,134.39805825242718,110.9,165.0,144.33333333333334,125.0,158.02586206896552,149.875,163.59259259259258,150.4,175.0,142.30649854510185,144.1184210526316,152.73333333333332,138.7207792207792,132.0,142.1798084008843]},\"name\":\"\",\"parents\":[\"R1 Structures: Frequency and Overall Score for geodens/PI\",\"R1 Structures: Frequency and Overall Score for geodens/lab\",\"R1 Structures: Frequency and Overall Score for geodens/ac1\",\"R1 Structures: Frequency and Overall Score for geodens/PI\",\"R1 Structures: Frequency and Overall Score for geodens/ts\",\"R1 Structures: Frequency and Overall Score for geodens/ac2\",\"R1 Structures: Frequency and Overall Score for geodens/ac1\",\"R1 Structures: Frequency and Overall Score for geodens/PI\",\"R1 Structures: Frequency and Overall Score for geodens/lab\",\"R1 Structures: Frequency and Overall Score for geodens/PI\",\"R1 Structures: Frequency and Overall Score for geodens/lab\",\"R1 Structures: Frequency and Overall Score for geodens/PI\",\"R1 Structures: Frequency and Overall Score for geodens/lab\",\"R1 Structures: Frequency and Overall Score for geodens/ts\",\"R1 Structures: Frequency and Overall Score for geodens/PI\",\"R1 Structures: Frequency and Overall Score for geodens/lab\",\"R1 Structures: Frequency and Overall Score for geodens/ac2\",\"R1 Structures: Frequency and Overall Score for geodens/ac1\",\"R1 Structures: Frequency and Overall Score for geodens/PI\",\"R1 Structures: Frequency and Overall Score for geodens/lab\",\"R1 Structures: Frequency and Overall Score for geodens/PI\",\"R1 Structures: Frequency and Overall Score for geodens/lab\",\"R1 Structures: Frequency and Overall Score for geodens/ts\",\"R1 Structures: Frequency and Overall Score for geodens/ac1\",\"R1 Structures: Frequency and Overall Score for geodens/PI\",\"R1 Structures: Frequency and Overall Score for geodens/lab\",\"R1 Structures: Frequency and Overall Score for geodens/PI\",\"R1 Structures: Frequency and Overall Score for geodens/lab\",\"R1 Structures: Frequency and Overall Score for geodens/ac2\",\"R1 Structures: Frequency and Overall Score for geodens/PI\",\"R1 Structures: Frequency and Overall Score for geodens/lab\",\"R1 Structures: Frequency and Overall Score for geodens/PI\",\"R1 Structures: Frequency and Overall Score for geodens/lab\",\"R1 Structures: Frequency and Overall Score for geodens/lab\",\"R1 Structures: Frequency and Overall Score for geodens\",\"R1 Structures: Frequency and Overall Score for geodens\",\"R1 Structures: Frequency and Overall Score for geodens\",\"R1 Structures: Frequency and Overall Score for geodens\",\"R1 Structures: Frequency and Overall Score for geodens\",\"\"],\"values\":[21,3,2,1,1,7,58,17,7,14,4,117,25,2,1,1,7,85,261,32,132,50,2,7,206,10,2,3,1,232,8,27,10,1,1031,152,15,154,5,1357],\"type\":\"treemap\"}],                        {\"template\":{\"data\":{\"bar\":[{\"error_x\":{\"color\":\"#2a3f5f\"},\"error_y\":{\"color\":\"#2a3f5f\"},\"marker\":{\"line\":{\"color\":\"#E5ECF6\",\"width\":0.5},\"pattern\":{\"fillmode\":\"overlay\",\"size\":10,\"solidity\":0.2}},\"type\":\"bar\"}],\"barpolar\":[{\"marker\":{\"line\":{\"color\":\"#E5ECF6\",\"width\":0.5},\"pattern\":{\"fillmode\":\"overlay\",\"size\":10,\"solidity\":0.2}},\"type\":\"barpolar\"}],\"carpet\":[{\"aaxis\":{\"endlinecolor\":\"#2a3f5f\",\"gridcolor\":\"white\",\"linecolor\":\"white\",\"minorgridcolor\":\"white\",\"startlinecolor\":\"#2a3f5f\"},\"baxis\":{\"endlinecolor\":\"#2a3f5f\",\"gridcolor\":\"white\",\"linecolor\":\"white\",\"minorgridcolor\":\"white\",\"startlinecolor\":\"#2a3f5f\"},\"type\":\"carpet\"}],\"choropleth\":[{\"colorbar\":{\"outlinewidth\":0,\"ticks\":\"\"},\"type\":\"choropleth\"}],\"contour\":[{\"colorbar\":{\"outlinewidth\":0,\"ticks\":\"\"},\"colorscale\":[[0.0,\"#0d0887\"],[0.1111111111111111,\"#46039f\"],[0.2222222222222222,\"#7201a8\"],[0.3333333333333333,\"#9c179e\"],[0.4444444444444444,\"#bd3786\"],[0.5555555555555556,\"#d8576b\"],[0.6666666666666666,\"#ed7953\"],[0.7777777777777778,\"#fb9f3a\"],[0.8888888888888888,\"#fdca26\"],[1.0,\"#f0f921\"]],\"type\":\"contour\"}],\"contourcarpet\":[{\"colorbar\":{\"outlinewidth\":0,\"ticks\":\"\"},\"type\":\"contourcarpet\"}],\"heatmap\":[{\"colorbar\":{\"outlinewidth\":0,\"ticks\":\"\"},\"colorscale\":[[0.0,\"#0d0887\"],[0.1111111111111111,\"#46039f\"],[0.2222222222222222,\"#7201a8\"],[0.3333333333333333,\"#9c179e\"],[0.4444444444444444,\"#bd3786\"],[0.5555555555555556,\"#d8576b\"],[0.6666666666666666,\"#ed7953\"],[0.7777777777777778,\"#fb9f3a\"],[0.8888888888888888,\"#fdca26\"],[1.0,\"#f0f921\"]],\"type\":\"heatmap\"}],\"heatmapgl\":[{\"colorbar\":{\"outlinewidth\":0,\"ticks\":\"\"},\"colorscale\":[[0.0,\"#0d0887\"],[0.1111111111111111,\"#46039f\"],[0.2222222222222222,\"#7201a8\"],[0.3333333333333333,\"#9c179e\"],[0.4444444444444444,\"#bd3786\"],[0.5555555555555556,\"#d8576b\"],[0.6666666666666666,\"#ed7953\"],[0.7777777777777778,\"#fb9f3a\"],[0.8888888888888888,\"#fdca26\"],[1.0,\"#f0f921\"]],\"type\":\"heatmapgl\"}],\"histogram\":[{\"marker\":{\"pattern\":{\"fillmode\":\"overlay\",\"size\":10,\"solidity\":0.2}},\"type\":\"histogram\"}],\"histogram2d\":[{\"colorbar\":{\"outlinewidth\":0,\"ticks\":\"\"},\"colorscale\":[[0.0,\"#0d0887\"],[0.1111111111111111,\"#46039f\"],[0.2222222222222222,\"#7201a8\"],[0.3333333333333333,\"#9c179e\"],[0.4444444444444444,\"#bd3786\"],[0.5555555555555556,\"#d8576b\"],[0.6666666666666666,\"#ed7953\"],[0.7777777777777778,\"#fb9f3a\"],[0.8888888888888888,\"#fdca26\"],[1.0,\"#f0f921\"]],\"type\":\"histogram2d\"}],\"histogram2dcontour\":[{\"colorbar\":{\"outlinewidth\":0,\"ticks\":\"\"},\"colorscale\":[[0.0,\"#0d0887\"],[0.1111111111111111,\"#46039f\"],[0.2222222222222222,\"#7201a8\"],[0.3333333333333333,\"#9c179e\"],[0.4444444444444444,\"#bd3786\"],[0.5555555555555556,\"#d8576b\"],[0.6666666666666666,\"#ed7953\"],[0.7777777777777778,\"#fb9f3a\"],[0.8888888888888888,\"#fdca26\"],[1.0,\"#f0f921\"]],\"type\":\"histogram2dcontour\"}],\"mesh3d\":[{\"colorbar\":{\"outlinewidth\":0,\"ticks\":\"\"},\"type\":\"mesh3d\"}],\"parcoords\":[{\"line\":{\"colorbar\":{\"outlinewidth\":0,\"ticks\":\"\"}},\"type\":\"parcoords\"}],\"pie\":[{\"automargin\":true,\"type\":\"pie\"}],\"scatter\":[{\"marker\":{\"colorbar\":{\"outlinewidth\":0,\"ticks\":\"\"}},\"type\":\"scatter\"}],\"scatter3d\":[{\"line\":{\"colorbar\":{\"outlinewidth\":0,\"ticks\":\"\"}},\"marker\":{\"colorbar\":{\"outlinewidth\":0,\"ticks\":\"\"}},\"type\":\"scatter3d\"}],\"scattercarpet\":[{\"marker\":{\"colorbar\":{\"outlinewidth\":0,\"ticks\":\"\"}},\"type\":\"scattercarpet\"}],\"scattergeo\":[{\"marker\":{\"colorbar\":{\"outlinewidth\":0,\"ticks\":\"\"}},\"type\":\"scattergeo\"}],\"scattergl\":[{\"marker\":{\"colorbar\":{\"outlinewidth\":0,\"ticks\":\"\"}},\"type\":\"scattergl\"}],\"scattermapbox\":[{\"marker\":{\"colorbar\":{\"outlinewidth\":0,\"ticks\":\"\"}},\"type\":\"scattermapbox\"}],\"scatterpolar\":[{\"marker\":{\"colorbar\":{\"outlinewidth\":0,\"ticks\":\"\"}},\"type\":\"scatterpolar\"}],\"scatterpolargl\":[{\"marker\":{\"colorbar\":{\"outlinewidth\":0,\"ticks\":\"\"}},\"type\":\"scatterpolargl\"}],\"scatterternary\":[{\"marker\":{\"colorbar\":{\"outlinewidth\":0,\"ticks\":\"\"}},\"type\":\"scatterternary\"}],\"surface\":[{\"colorbar\":{\"outlinewidth\":0,\"ticks\":\"\"},\"colorscale\":[[0.0,\"#0d0887\"],[0.1111111111111111,\"#46039f\"],[0.2222222222222222,\"#7201a8\"],[0.3333333333333333,\"#9c179e\"],[0.4444444444444444,\"#bd3786\"],[0.5555555555555556,\"#d8576b\"],[0.6666666666666666,\"#ed7953\"],[0.7777777777777778,\"#fb9f3a\"],[0.8888888888888888,\"#fdca26\"],[1.0,\"#f0f921\"]],\"type\":\"surface\"}],\"table\":[{\"cells\":{\"fill\":{\"color\":\"#EBF0F8\"},\"line\":{\"color\":\"white\"}},\"header\":{\"fill\":{\"color\":\"#C8D4E3\"},\"line\":{\"color\":\"white\"}},\"type\":\"table\"}]},\"layout\":{\"annotationdefaults\":{\"arrowcolor\":\"#2a3f5f\",\"arrowhead\":0,\"arrowwidth\":1},\"autotypenumbers\":\"strict\",\"coloraxis\":{\"colorbar\":{\"outlinewidth\":0,\"ticks\":\"\"}},\"colorscale\":{\"diverging\":[[0,\"#8e0152\"],[0.1,\"#c51b7d\"],[0.2,\"#de77ae\"],[0.3,\"#f1b6da\"],[0.4,\"#fde0ef\"],[0.5,\"#f7f7f7\"],[0.6,\"#e6f5d0\"],[0.7,\"#b8e186\"],[0.8,\"#7fbc41\"],[0.9,\"#4d9221\"],[1,\"#276419\"]],\"sequential\":[[0.0,\"#0d0887\"],[0.1111111111111111,\"#46039f\"],[0.2222222222222222,\"#7201a8\"],[0.3333333333333333,\"#9c179e\"],[0.4444444444444444,\"#bd3786\"],[0.5555555555555556,\"#d8576b\"],[0.6666666666666666,\"#ed7953\"],[0.7777777777777778,\"#fb9f3a\"],[0.8888888888888888,\"#fdca26\"],[1.0,\"#f0f921\"]],\"sequentialminus\":[[0.0,\"#0d0887\"],[0.1111111111111111,\"#46039f\"],[0.2222222222222222,\"#7201a8\"],[0.3333333333333333,\"#9c179e\"],[0.4444444444444444,\"#bd3786\"],[0.5555555555555556,\"#d8576b\"],[0.6666666666666666,\"#ed7953\"],[0.7777777777777778,\"#fb9f3a\"],[0.8888888888888888,\"#fdca26\"],[1.0,\"#f0f921\"]]},\"colorway\":[\"#636efa\",\"#EF553B\",\"#00cc96\",\"#ab63fa\",\"#FFA15A\",\"#19d3f3\",\"#FF6692\",\"#B6E880\",\"#FF97FF\",\"#FECB52\"],\"font\":{\"color\":\"#2a3f5f\"},\"geo\":{\"bgcolor\":\"white\",\"lakecolor\":\"white\",\"landcolor\":\"#E5ECF6\",\"showlakes\":true,\"showland\":true,\"subunitcolor\":\"white\"},\"hoverlabel\":{\"align\":\"left\"},\"hovermode\":\"closest\",\"mapbox\":{\"style\":\"light\"},\"paper_bgcolor\":\"white\",\"plot_bgcolor\":\"#E5ECF6\",\"polar\":{\"angularaxis\":{\"gridcolor\":\"white\",\"linecolor\":\"white\",\"ticks\":\"\"},\"bgcolor\":\"#E5ECF6\",\"radialaxis\":{\"gridcolor\":\"white\",\"linecolor\":\"white\",\"ticks\":\"\"}},\"scene\":{\"xaxis\":{\"backgroundcolor\":\"#E5ECF6\",\"gridcolor\":\"white\",\"gridwidth\":2,\"linecolor\":\"white\",\"showbackground\":true,\"ticks\":\"\",\"zerolinecolor\":\"white\"},\"yaxis\":{\"backgroundcolor\":\"#E5ECF6\",\"gridcolor\":\"white\",\"gridwidth\":2,\"linecolor\":\"white\",\"showbackground\":true,\"ticks\":\"\",\"zerolinecolor\":\"white\"},\"zaxis\":{\"backgroundcolor\":\"#E5ECF6\",\"gridcolor\":\"white\",\"gridwidth\":2,\"linecolor\":\"white\",\"showbackground\":true,\"ticks\":\"\",\"zerolinecolor\":\"white\"}},\"shapedefaults\":{\"line\":{\"color\":\"#2a3f5f\"}},\"ternary\":{\"aaxis\":{\"gridcolor\":\"white\",\"linecolor\":\"white\",\"ticks\":\"\"},\"baxis\":{\"gridcolor\":\"white\",\"linecolor\":\"white\",\"ticks\":\"\"},\"bgcolor\":\"#E5ECF6\",\"caxis\":{\"gridcolor\":\"white\",\"linecolor\":\"white\",\"ticks\":\"\"}},\"title\":{\"x\":0.05},\"xaxis\":{\"automargin\":true,\"gridcolor\":\"white\",\"linecolor\":\"white\",\"ticks\":\"\",\"title\":{\"standoff\":15},\"zerolinecolor\":\"white\",\"zerolinewidth\":2},\"yaxis\":{\"automargin\":true,\"gridcolor\":\"white\",\"linecolor\":\"white\",\"ticks\":\"\",\"title\":{\"standoff\":15},\"zerolinecolor\":\"white\",\"zerolinewidth\":2}}},\"coloraxis\":{\"colorbar\":{\"title\":{\"text\":\"ave_score_geodens\"}},\"colorscale\":[[0.0,\"rgb(103,0,31)\"],[0.1,\"rgb(178,24,43)\"],[0.2,\"rgb(214,96,77)\"],[0.3,\"rgb(244,165,130)\"],[0.4,\"rgb(253,219,199)\"],[0.5,\"rgb(247,247,247)\"],[0.6,\"rgb(209,229,240)\"],[0.7,\"rgb(146,197,222)\"],[0.8,\"rgb(67,147,195)\"],[0.9,\"rgb(33,102,172)\"],[1.0,\"rgb(5,48,97)\"]],\"cmid\":144.30885882929329},\"legend\":{\"tracegroupgap\":0},\"margin\":{\"t\":50,\"l\":25,\"r\":25,\"b\":25}},                        {\"responsive\": true}                    ).then(function(){\n",
       "                            \n",
       "var gd = document.getElementById('c4065315-a501-459f-a5db-692d32caef7f');\n",
       "var x = new MutationObserver(function (mutations, observer) {{\n",
       "        var display = window.getComputedStyle(gd).display;\n",
       "        if (!display || display === 'none') {{\n",
       "            console.log([gd, 'removed!']);\n",
       "            Plotly.purge(gd);\n",
       "            observer.disconnect();\n",
       "        }}\n",
       "}});\n",
       "\n",
       "// Listen for the removal of the full notebook cells\n",
       "var notebookContainer = gd.closest('#notebook-container');\n",
       "if (notebookContainer) {{\n",
       "    x.observe(notebookContainer, {childList: true});\n",
       "}}\n",
       "\n",
       "// Listen for the clearing of the current output cell\n",
       "var outputEl = gd.closest('.output');\n",
       "if (outputEl) {{\n",
       "    x.observe(outputEl, {childList: true});\n",
       "}}\n",
       "\n",
       "                        })                };                });            </script>        </div>"
      ]
     },
     "metadata": {},
     "output_type": "display_data"
    },
    {
     "data": {
      "application/vnd.plotly.v1+json": {
       "config": {
        "plotlyServerURL": "https://plot.ly"
       },
       "data": [
        {
         "branchvalues": "total",
         "customdata": [
          [
           117,
           128.25
          ],
          [
           44,
           144
          ],
          [
           102.375,
           109.125
          ],
          [
           212.13636363636363,
           132.5909090909091
          ],
          [
           232.35714285714286,
           140.46428571428572
          ],
          [
           124,
           121.75
          ],
          [
           235.66666666666666,
           134.66666666666666
          ],
          [
           104,
           111.8
          ],
          [
           192.1153846153846,
           124.15384615384616
          ],
          [
           239.46666666666667,
           139
          ],
          [
           235.19402985074626,
           148.11940298507463
          ],
          [
           125.33333333333333,
           122.46666666666667
          ],
          [
           203.7685185185185,
           138.46296296296296
          ],
          [
           149,
           111.66666666666667
          ],
          [
           182.6,
           132.5
          ],
          [
           182.0326086956522,
           138.2391304347826
          ],
          [
           229.4,
           142.9
          ],
          [
           219,
           163
          ],
          [
           254.66666666666666,
           161.33333333333334
          ],
          [
           100,
           170
          ],
          [
           170.76923076923077,
           118.76923076923077
          ],
          [
           192.64583333333334,
           140.54166666666666
          ],
          [
           100,
           160
          ],
          [
           123.625,
           148.625
          ],
          [
           148.85714285714286,
           124.28571428571429
          ],
          [
           146.85714285714286,
           129
          ],
          [
           213.45810055865923,
           149.56424581005587
          ],
          [
           167.55172413793105,
           133.93103448275863
          ],
          [
           229.6,
           162.2
          ],
          [
           194.9,
           124.3
          ],
          [
           360,
           186.5
          ],
          [
           236.8181818181818,
           154.8181818181818
          ],
          [
           217,
           146.22535211267606
          ],
          [
           300,
           205
          ],
          [
           215.21666666666667,
           145.85
          ],
          [
           214.71428571428572,
           166.42857142857142
          ],
          [
           236.21428571428572,
           159.35714285714286
          ],
          [
           252.67123287671234,
           164.41095890410958
          ],
          [
           239.6,
           187.9
          ],
          [
           "(?)",
           125.82456140350877
          ],
          [
           "(?)",
           144.83870967741936
          ],
          [
           "(?)",
           137.65454545454546
          ],
          [
           "(?)",
           142.63173216885008
          ],
          [
           "(?)",
           154.09815950920245
          ],
          [
           "(?)",
           144.04255319148936
          ],
          [
           "(?)",
           143.53626731866342
          ]
         ],
         "domain": {
          "x": [
           0,
           1
          ],
          "y": [
           0,
           1
          ]
         },
         "hovertemplate": "labels=%{label}<br>class_counts=%{value}<br>parent=%{parent}<br>id=%{id}<br>ave_elo_gleens=%{customdata[0]}<br>ave_score_gleens=%{color}<extra></extra>",
         "ids": [
          "R1 Structures: Frequency and Overall Score for gleens/lab/ 0_m / 0_ts / 2_lab / 0_pi / 0_ac1 / 0_ac2",
          "R1 Structures: Frequency and Overall Score for gleens/PI/ 0_m / 1_ts / 0_lab / 1_pi / 0_ac1 / 0_ac2",
          "R1 Structures: Frequency and Overall Score for gleens/lab/ 0_m / 1_ts / 1_lab / 0_pi / 0_ac1 / 0_ac2",
          "R1 Structures: Frequency and Overall Score for gleens/ac2/ 1_m / 0_ts / 0_lab / 0_pi / 0_ac1 / 1_ac2",
          "R1 Structures: Frequency and Overall Score for gleens/ac1/ 1_m / 0_ts / 0_lab / 0_pi / 1_ac1 / 0_ac2",
          "R1 Structures: Frequency and Overall Score for gleens/PI/ 1_m / 0_ts / 1_lab / 1_pi / 0_ac1 / 0_ac2",
          "R1 Structures: Frequency and Overall Score for gleens/lab/ 1_m / 0_ts / 2_lab / 0_pi / 0_ac1 / 0_ac2",
          "R1 Structures: Frequency and Overall Score for gleens/PI/ 1_m / 1_ts / 0_lab / 1_pi / 0_ac1 / 0_ac2",
          "R1 Structures: Frequency and Overall Score for gleens/lab/ 1_m / 1_ts / 1_lab / 0_pi / 0_ac1 / 0_ac2",
          "R1 Structures: Frequency and Overall Score for gleens/ac2/ 2_m / 0_ts / 0_lab / 0_pi / 0_ac1 / 1_ac2",
          "R1 Structures: Frequency and Overall Score for gleens/ac1/ 2_m / 0_ts / 0_lab / 0_pi / 1_ac1 / 0_ac2",
          "R1 Structures: Frequency and Overall Score for gleens/PI/ 2_m / 0_ts / 0_lab / 1_pi / 0_ac1 / 0_ac2",
          "R1 Structures: Frequency and Overall Score for gleens/lab/ 2_m / 0_ts / 1_lab / 0_pi / 0_ac1 / 0_ac2",
          "R1 Structures: Frequency and Overall Score for gleens/ts/ 2_m / 1_ts / 0_lab / 0_pi / 0_ac1 / 0_ac2",
          "R1 Structures: Frequency and Overall Score for gleens/PI/ 2_m / 1_ts / 0_lab / 1_pi / 0_ac1 / 0_ac2",
          "R1 Structures: Frequency and Overall Score for gleens/lab/ 2_m / 1_ts / 1_lab / 0_pi / 0_ac1 / 0_ac2",
          "R1 Structures: Frequency and Overall Score for gleens/ts/ 2_m / 2_ts / 0_lab / 0_pi / 0_ac1 / 0_ac2",
          "R1 Structures: Frequency and Overall Score for gleens/ts/ 2_m / 3_ts / 0_lab / 0_pi / 0_ac1 / 0_ac2",
          "R1 Structures: Frequency and Overall Score for gleens/ac2/ 3_m / 0_ts / 0_lab / 0_pi / 0_ac1 / 1_ac2",
          "R1 Structures: Frequency and Overall Score for gleens/ac1/ 3_m / 0_ts / 0_lab / 0_pi / 1_ac1 / 0_ac2",
          "R1 Structures: Frequency and Overall Score for gleens/PI/ 3_m / 0_ts / 0_lab / 1_pi / 0_ac1 / 0_ac2",
          "R1 Structures: Frequency and Overall Score for gleens/lab/ 3_m / 0_ts / 1_lab / 0_pi / 0_ac1 / 0_ac2",
          "R1 Structures: Frequency and Overall Score for gleens/lab/ 3_m / 0_ts / 2_lab / 0_pi / 0_ac1 / 0_ac2",
          "R1 Structures: Frequency and Overall Score for gleens/lab/ 3_m / 1_ts / 1_lab / 0_pi / 0_ac1 / 0_ac2",
          "R1 Structures: Frequency and Overall Score for gleens/ts/ 3_m / 2_ts / 0_lab / 0_pi / 0_ac1 / 0_ac2",
          "R1 Structures: Frequency and Overall Score for gleens/PI/ 4_m / 0_ts / 0_lab / 1_pi / 0_ac1 / 0_ac2",
          "R1 Structures: Frequency and Overall Score for gleens/lab/ 4_m / 0_ts / 1_lab / 0_pi / 0_ac1 / 0_ac2",
          "R1 Structures: Frequency and Overall Score for gleens/ts/ 4_m / 1_ts / 0_lab / 0_pi / 0_ac1 / 0_ac2",
          "R1 Structures: Frequency and Overall Score for gleens/ts/ 4_m / 2_ts / 0_lab / 0_pi / 0_ac1 / 0_ac2",
          "R1 Structures: Frequency and Overall Score for gleens/m/ 5_m / 0_ts / 0_lab / 0_pi / 0_ac1 / 0_ac2",
          "R1 Structures: Frequency and Overall Score for gleens/PI/ 5_m / 0_ts / 0_lab / 1_pi / 0_ac1 / 0_ac2",
          "R1 Structures: Frequency and Overall Score for gleens/lab/ 5_m / 0_ts / 1_lab / 0_pi / 0_ac1 / 0_ac2",
          "R1 Structures: Frequency and Overall Score for gleens/ts/ 5_m / 1_ts / 0_lab / 0_pi / 0_ac1 / 0_ac2",
          "R1 Structures: Frequency and Overall Score for gleens/ts/ 5_m / 2_ts / 0_lab / 0_pi / 0_ac1 / 0_ac2",
          "R1 Structures: Frequency and Overall Score for gleens/m/ 6_m / 0_ts / 0_lab / 0_pi / 0_ac1 / 0_ac2",
          "R1 Structures: Frequency and Overall Score for gleens/lab/ 6_m / 0_ts / 1_lab / 0_pi / 0_ac1 / 0_ac2",
          "R1 Structures: Frequency and Overall Score for gleens/ts/ 6_m / 1_ts / 0_lab / 0_pi / 0_ac1 / 0_ac2",
          "R1 Structures: Frequency and Overall Score for gleens/m/ 7_m / 0_ts / 0_lab / 0_pi / 0_ac1 / 0_ac2",
          "R1 Structures: Frequency and Overall Score for gleens/m/ 8_m / 0_ts / 0_lab / 0_pi / 0_ac1 / 0_ac2",
          "R1 Structures: Frequency and Overall Score for gleens/PI",
          "R1 Structures: Frequency and Overall Score for gleens/ac1",
          "R1 Structures: Frequency and Overall Score for gleens/ac2",
          "R1 Structures: Frequency and Overall Score for gleens/lab",
          "R1 Structures: Frequency and Overall Score for gleens/m",
          "R1 Structures: Frequency and Overall Score for gleens/ts",
          "R1 Structures: Frequency and Overall Score for gleens"
         ],
         "labels": [
          " 0_m / 0_ts / 2_lab / 0_pi / 0_ac1 / 0_ac2",
          " 0_m / 1_ts / 0_lab / 1_pi / 0_ac1 / 0_ac2",
          " 0_m / 1_ts / 1_lab / 0_pi / 0_ac1 / 0_ac2",
          " 1_m / 0_ts / 0_lab / 0_pi / 0_ac1 / 1_ac2",
          " 1_m / 0_ts / 0_lab / 0_pi / 1_ac1 / 0_ac2",
          " 1_m / 0_ts / 1_lab / 1_pi / 0_ac1 / 0_ac2",
          " 1_m / 0_ts / 2_lab / 0_pi / 0_ac1 / 0_ac2",
          " 1_m / 1_ts / 0_lab / 1_pi / 0_ac1 / 0_ac2",
          " 1_m / 1_ts / 1_lab / 0_pi / 0_ac1 / 0_ac2",
          " 2_m / 0_ts / 0_lab / 0_pi / 0_ac1 / 1_ac2",
          " 2_m / 0_ts / 0_lab / 0_pi / 1_ac1 / 0_ac2",
          " 2_m / 0_ts / 0_lab / 1_pi / 0_ac1 / 0_ac2",
          " 2_m / 0_ts / 1_lab / 0_pi / 0_ac1 / 0_ac2",
          " 2_m / 1_ts / 0_lab / 0_pi / 0_ac1 / 0_ac2",
          " 2_m / 1_ts / 0_lab / 1_pi / 0_ac1 / 0_ac2",
          " 2_m / 1_ts / 1_lab / 0_pi / 0_ac1 / 0_ac2",
          " 2_m / 2_ts / 0_lab / 0_pi / 0_ac1 / 0_ac2",
          " 2_m / 3_ts / 0_lab / 0_pi / 0_ac1 / 0_ac2",
          " 3_m / 0_ts / 0_lab / 0_pi / 0_ac1 / 1_ac2",
          " 3_m / 0_ts / 0_lab / 0_pi / 1_ac1 / 0_ac2",
          " 3_m / 0_ts / 0_lab / 1_pi / 0_ac1 / 0_ac2",
          " 3_m / 0_ts / 1_lab / 0_pi / 0_ac1 / 0_ac2",
          " 3_m / 0_ts / 2_lab / 0_pi / 0_ac1 / 0_ac2",
          " 3_m / 1_ts / 1_lab / 0_pi / 0_ac1 / 0_ac2",
          " 3_m / 2_ts / 0_lab / 0_pi / 0_ac1 / 0_ac2",
          " 4_m / 0_ts / 0_lab / 1_pi / 0_ac1 / 0_ac2",
          " 4_m / 0_ts / 1_lab / 0_pi / 0_ac1 / 0_ac2",
          " 4_m / 1_ts / 0_lab / 0_pi / 0_ac1 / 0_ac2",
          " 4_m / 2_ts / 0_lab / 0_pi / 0_ac1 / 0_ac2",
          " 5_m / 0_ts / 0_lab / 0_pi / 0_ac1 / 0_ac2",
          " 5_m / 0_ts / 0_lab / 1_pi / 0_ac1 / 0_ac2",
          " 5_m / 0_ts / 1_lab / 0_pi / 0_ac1 / 0_ac2",
          " 5_m / 1_ts / 0_lab / 0_pi / 0_ac1 / 0_ac2",
          " 5_m / 2_ts / 0_lab / 0_pi / 0_ac1 / 0_ac2",
          " 6_m / 0_ts / 0_lab / 0_pi / 0_ac1 / 0_ac2",
          " 6_m / 0_ts / 1_lab / 0_pi / 0_ac1 / 0_ac2",
          " 6_m / 1_ts / 0_lab / 0_pi / 0_ac1 / 0_ac2",
          " 7_m / 0_ts / 0_lab / 0_pi / 0_ac1 / 0_ac2",
          " 8_m / 0_ts / 0_lab / 0_pi / 0_ac1 / 0_ac2",
          "PI",
          "ac1",
          "ac2",
          "lab",
          "m",
          "ts",
          "R1 Structures: Frequency and Overall Score for gleens"
         ],
         "marker": {
          "coloraxis": "coloraxis",
          "colors": [
           128.25,
           144,
           109.125,
           132.5909090909091,
           140.46428571428572,
           121.75,
           134.66666666666666,
           111.8,
           124.15384615384616,
           139,
           148.11940298507463,
           122.46666666666667,
           138.46296296296296,
           111.66666666666667,
           132.5,
           138.2391304347826,
           142.9,
           163,
           161.33333333333334,
           170,
           118.76923076923077,
           140.54166666666666,
           160,
           148.625,
           124.28571428571429,
           129,
           149.56424581005587,
           133.93103448275863,
           162.2,
           124.3,
           186.5,
           154.8181818181818,
           146.22535211267606,
           205,
           145.85,
           166.42857142857142,
           159.35714285714286,
           164.41095890410958,
           187.9,
           125.82456140350877,
           144.83870967741936,
           137.65454545454546,
           142.63173216885008,
           154.09815950920245,
           144.04255319148936,
           143.53626731866342
          ]
         },
         "name": "",
         "parents": [
          "R1 Structures: Frequency and Overall Score for gleens/lab",
          "R1 Structures: Frequency and Overall Score for gleens/PI",
          "R1 Structures: Frequency and Overall Score for gleens/lab",
          "R1 Structures: Frequency and Overall Score for gleens/ac2",
          "R1 Structures: Frequency and Overall Score for gleens/ac1",
          "R1 Structures: Frequency and Overall Score for gleens/PI",
          "R1 Structures: Frequency and Overall Score for gleens/lab",
          "R1 Structures: Frequency and Overall Score for gleens/PI",
          "R1 Structures: Frequency and Overall Score for gleens/lab",
          "R1 Structures: Frequency and Overall Score for gleens/ac2",
          "R1 Structures: Frequency and Overall Score for gleens/ac1",
          "R1 Structures: Frequency and Overall Score for gleens/PI",
          "R1 Structures: Frequency and Overall Score for gleens/lab",
          "R1 Structures: Frequency and Overall Score for gleens/ts",
          "R1 Structures: Frequency and Overall Score for gleens/PI",
          "R1 Structures: Frequency and Overall Score for gleens/lab",
          "R1 Structures: Frequency and Overall Score for gleens/ts",
          "R1 Structures: Frequency and Overall Score for gleens/ts",
          "R1 Structures: Frequency and Overall Score for gleens/ac2",
          "R1 Structures: Frequency and Overall Score for gleens/ac1",
          "R1 Structures: Frequency and Overall Score for gleens/PI",
          "R1 Structures: Frequency and Overall Score for gleens/lab",
          "R1 Structures: Frequency and Overall Score for gleens/lab",
          "R1 Structures: Frequency and Overall Score for gleens/lab",
          "R1 Structures: Frequency and Overall Score for gleens/ts",
          "R1 Structures: Frequency and Overall Score for gleens/PI",
          "R1 Structures: Frequency and Overall Score for gleens/lab",
          "R1 Structures: Frequency and Overall Score for gleens/ts",
          "R1 Structures: Frequency and Overall Score for gleens/ts",
          "R1 Structures: Frequency and Overall Score for gleens/m",
          "R1 Structures: Frequency and Overall Score for gleens/PI",
          "R1 Structures: Frequency and Overall Score for gleens/lab",
          "R1 Structures: Frequency and Overall Score for gleens/ts",
          "R1 Structures: Frequency and Overall Score for gleens/ts",
          "R1 Structures: Frequency and Overall Score for gleens/m",
          "R1 Structures: Frequency and Overall Score for gleens/lab",
          "R1 Structures: Frequency and Overall Score for gleens/ts",
          "R1 Structures: Frequency and Overall Score for gleens/m",
          "R1 Structures: Frequency and Overall Score for gleens/m",
          "R1 Structures: Frequency and Overall Score for gleens",
          "R1 Structures: Frequency and Overall Score for gleens",
          "R1 Structures: Frequency and Overall Score for gleens",
          "R1 Structures: Frequency and Overall Score for gleens",
          "R1 Structures: Frequency and Overall Score for gleens",
          "R1 Structures: Frequency and Overall Score for gleens",
          ""
         ],
         "type": "treemap",
         "values": [
          8,
          1,
          8,
          22,
          56,
          4,
          3,
          5,
          26,
          30,
          67,
          15,
          108,
          3,
          10,
          92,
          10,
          1,
          3,
          1,
          13,
          192,
          1,
          8,
          7,
          7,
          179,
          29,
          5,
          20,
          2,
          55,
          71,
          1,
          60,
          7,
          14,
          73,
          10,
          57,
          124,
          55,
          687,
          163,
          141,
          1227
         ]
        }
       ],
       "layout": {
        "coloraxis": {
         "cmid": 144.30885882929329,
         "colorbar": {
          "title": {
           "text": "ave_score_gleens"
          }
         },
         "colorscale": [
          [
           0,
           "rgb(103,0,31)"
          ],
          [
           0.1,
           "rgb(178,24,43)"
          ],
          [
           0.2,
           "rgb(214,96,77)"
          ],
          [
           0.3,
           "rgb(244,165,130)"
          ],
          [
           0.4,
           "rgb(253,219,199)"
          ],
          [
           0.5,
           "rgb(247,247,247)"
          ],
          [
           0.6,
           "rgb(209,229,240)"
          ],
          [
           0.7,
           "rgb(146,197,222)"
          ],
          [
           0.8,
           "rgb(67,147,195)"
          ],
          [
           0.9,
           "rgb(33,102,172)"
          ],
          [
           1,
           "rgb(5,48,97)"
          ]
         ]
        },
        "legend": {
         "tracegroupgap": 0
        },
        "margin": {
         "b": 25,
         "l": 25,
         "r": 25,
         "t": 50
        },
        "template": {
         "data": {
          "bar": [
           {
            "error_x": {
             "color": "#2a3f5f"
            },
            "error_y": {
             "color": "#2a3f5f"
            },
            "marker": {
             "line": {
              "color": "#E5ECF6",
              "width": 0.5
             },
             "pattern": {
              "fillmode": "overlay",
              "size": 10,
              "solidity": 0.2
             }
            },
            "type": "bar"
           }
          ],
          "barpolar": [
           {
            "marker": {
             "line": {
              "color": "#E5ECF6",
              "width": 0.5
             },
             "pattern": {
              "fillmode": "overlay",
              "size": 10,
              "solidity": 0.2
             }
            },
            "type": "barpolar"
           }
          ],
          "carpet": [
           {
            "aaxis": {
             "endlinecolor": "#2a3f5f",
             "gridcolor": "white",
             "linecolor": "white",
             "minorgridcolor": "white",
             "startlinecolor": "#2a3f5f"
            },
            "baxis": {
             "endlinecolor": "#2a3f5f",
             "gridcolor": "white",
             "linecolor": "white",
             "minorgridcolor": "white",
             "startlinecolor": "#2a3f5f"
            },
            "type": "carpet"
           }
          ],
          "choropleth": [
           {
            "colorbar": {
             "outlinewidth": 0,
             "ticks": ""
            },
            "type": "choropleth"
           }
          ],
          "contour": [
           {
            "colorbar": {
             "outlinewidth": 0,
             "ticks": ""
            },
            "colorscale": [
             [
              0,
              "#0d0887"
             ],
             [
              0.1111111111111111,
              "#46039f"
             ],
             [
              0.2222222222222222,
              "#7201a8"
             ],
             [
              0.3333333333333333,
              "#9c179e"
             ],
             [
              0.4444444444444444,
              "#bd3786"
             ],
             [
              0.5555555555555556,
              "#d8576b"
             ],
             [
              0.6666666666666666,
              "#ed7953"
             ],
             [
              0.7777777777777778,
              "#fb9f3a"
             ],
             [
              0.8888888888888888,
              "#fdca26"
             ],
             [
              1,
              "#f0f921"
             ]
            ],
            "type": "contour"
           }
          ],
          "contourcarpet": [
           {
            "colorbar": {
             "outlinewidth": 0,
             "ticks": ""
            },
            "type": "contourcarpet"
           }
          ],
          "heatmap": [
           {
            "colorbar": {
             "outlinewidth": 0,
             "ticks": ""
            },
            "colorscale": [
             [
              0,
              "#0d0887"
             ],
             [
              0.1111111111111111,
              "#46039f"
             ],
             [
              0.2222222222222222,
              "#7201a8"
             ],
             [
              0.3333333333333333,
              "#9c179e"
             ],
             [
              0.4444444444444444,
              "#bd3786"
             ],
             [
              0.5555555555555556,
              "#d8576b"
             ],
             [
              0.6666666666666666,
              "#ed7953"
             ],
             [
              0.7777777777777778,
              "#fb9f3a"
             ],
             [
              0.8888888888888888,
              "#fdca26"
             ],
             [
              1,
              "#f0f921"
             ]
            ],
            "type": "heatmap"
           }
          ],
          "heatmapgl": [
           {
            "colorbar": {
             "outlinewidth": 0,
             "ticks": ""
            },
            "colorscale": [
             [
              0,
              "#0d0887"
             ],
             [
              0.1111111111111111,
              "#46039f"
             ],
             [
              0.2222222222222222,
              "#7201a8"
             ],
             [
              0.3333333333333333,
              "#9c179e"
             ],
             [
              0.4444444444444444,
              "#bd3786"
             ],
             [
              0.5555555555555556,
              "#d8576b"
             ],
             [
              0.6666666666666666,
              "#ed7953"
             ],
             [
              0.7777777777777778,
              "#fb9f3a"
             ],
             [
              0.8888888888888888,
              "#fdca26"
             ],
             [
              1,
              "#f0f921"
             ]
            ],
            "type": "heatmapgl"
           }
          ],
          "histogram": [
           {
            "marker": {
             "pattern": {
              "fillmode": "overlay",
              "size": 10,
              "solidity": 0.2
             }
            },
            "type": "histogram"
           }
          ],
          "histogram2d": [
           {
            "colorbar": {
             "outlinewidth": 0,
             "ticks": ""
            },
            "colorscale": [
             [
              0,
              "#0d0887"
             ],
             [
              0.1111111111111111,
              "#46039f"
             ],
             [
              0.2222222222222222,
              "#7201a8"
             ],
             [
              0.3333333333333333,
              "#9c179e"
             ],
             [
              0.4444444444444444,
              "#bd3786"
             ],
             [
              0.5555555555555556,
              "#d8576b"
             ],
             [
              0.6666666666666666,
              "#ed7953"
             ],
             [
              0.7777777777777778,
              "#fb9f3a"
             ],
             [
              0.8888888888888888,
              "#fdca26"
             ],
             [
              1,
              "#f0f921"
             ]
            ],
            "type": "histogram2d"
           }
          ],
          "histogram2dcontour": [
           {
            "colorbar": {
             "outlinewidth": 0,
             "ticks": ""
            },
            "colorscale": [
             [
              0,
              "#0d0887"
             ],
             [
              0.1111111111111111,
              "#46039f"
             ],
             [
              0.2222222222222222,
              "#7201a8"
             ],
             [
              0.3333333333333333,
              "#9c179e"
             ],
             [
              0.4444444444444444,
              "#bd3786"
             ],
             [
              0.5555555555555556,
              "#d8576b"
             ],
             [
              0.6666666666666666,
              "#ed7953"
             ],
             [
              0.7777777777777778,
              "#fb9f3a"
             ],
             [
              0.8888888888888888,
              "#fdca26"
             ],
             [
              1,
              "#f0f921"
             ]
            ],
            "type": "histogram2dcontour"
           }
          ],
          "mesh3d": [
           {
            "colorbar": {
             "outlinewidth": 0,
             "ticks": ""
            },
            "type": "mesh3d"
           }
          ],
          "parcoords": [
           {
            "line": {
             "colorbar": {
              "outlinewidth": 0,
              "ticks": ""
             }
            },
            "type": "parcoords"
           }
          ],
          "pie": [
           {
            "automargin": true,
            "type": "pie"
           }
          ],
          "scatter": [
           {
            "marker": {
             "colorbar": {
              "outlinewidth": 0,
              "ticks": ""
             }
            },
            "type": "scatter"
           }
          ],
          "scatter3d": [
           {
            "line": {
             "colorbar": {
              "outlinewidth": 0,
              "ticks": ""
             }
            },
            "marker": {
             "colorbar": {
              "outlinewidth": 0,
              "ticks": ""
             }
            },
            "type": "scatter3d"
           }
          ],
          "scattercarpet": [
           {
            "marker": {
             "colorbar": {
              "outlinewidth": 0,
              "ticks": ""
             }
            },
            "type": "scattercarpet"
           }
          ],
          "scattergeo": [
           {
            "marker": {
             "colorbar": {
              "outlinewidth": 0,
              "ticks": ""
             }
            },
            "type": "scattergeo"
           }
          ],
          "scattergl": [
           {
            "marker": {
             "colorbar": {
              "outlinewidth": 0,
              "ticks": ""
             }
            },
            "type": "scattergl"
           }
          ],
          "scattermapbox": [
           {
            "marker": {
             "colorbar": {
              "outlinewidth": 0,
              "ticks": ""
             }
            },
            "type": "scattermapbox"
           }
          ],
          "scatterpolar": [
           {
            "marker": {
             "colorbar": {
              "outlinewidth": 0,
              "ticks": ""
             }
            },
            "type": "scatterpolar"
           }
          ],
          "scatterpolargl": [
           {
            "marker": {
             "colorbar": {
              "outlinewidth": 0,
              "ticks": ""
             }
            },
            "type": "scatterpolargl"
           }
          ],
          "scatterternary": [
           {
            "marker": {
             "colorbar": {
              "outlinewidth": 0,
              "ticks": ""
             }
            },
            "type": "scatterternary"
           }
          ],
          "surface": [
           {
            "colorbar": {
             "outlinewidth": 0,
             "ticks": ""
            },
            "colorscale": [
             [
              0,
              "#0d0887"
             ],
             [
              0.1111111111111111,
              "#46039f"
             ],
             [
              0.2222222222222222,
              "#7201a8"
             ],
             [
              0.3333333333333333,
              "#9c179e"
             ],
             [
              0.4444444444444444,
              "#bd3786"
             ],
             [
              0.5555555555555556,
              "#d8576b"
             ],
             [
              0.6666666666666666,
              "#ed7953"
             ],
             [
              0.7777777777777778,
              "#fb9f3a"
             ],
             [
              0.8888888888888888,
              "#fdca26"
             ],
             [
              1,
              "#f0f921"
             ]
            ],
            "type": "surface"
           }
          ],
          "table": [
           {
            "cells": {
             "fill": {
              "color": "#EBF0F8"
             },
             "line": {
              "color": "white"
             }
            },
            "header": {
             "fill": {
              "color": "#C8D4E3"
             },
             "line": {
              "color": "white"
             }
            },
            "type": "table"
           }
          ]
         },
         "layout": {
          "annotationdefaults": {
           "arrowcolor": "#2a3f5f",
           "arrowhead": 0,
           "arrowwidth": 1
          },
          "autotypenumbers": "strict",
          "coloraxis": {
           "colorbar": {
            "outlinewidth": 0,
            "ticks": ""
           }
          },
          "colorscale": {
           "diverging": [
            [
             0,
             "#8e0152"
            ],
            [
             0.1,
             "#c51b7d"
            ],
            [
             0.2,
             "#de77ae"
            ],
            [
             0.3,
             "#f1b6da"
            ],
            [
             0.4,
             "#fde0ef"
            ],
            [
             0.5,
             "#f7f7f7"
            ],
            [
             0.6,
             "#e6f5d0"
            ],
            [
             0.7,
             "#b8e186"
            ],
            [
             0.8,
             "#7fbc41"
            ],
            [
             0.9,
             "#4d9221"
            ],
            [
             1,
             "#276419"
            ]
           ],
           "sequential": [
            [
             0,
             "#0d0887"
            ],
            [
             0.1111111111111111,
             "#46039f"
            ],
            [
             0.2222222222222222,
             "#7201a8"
            ],
            [
             0.3333333333333333,
             "#9c179e"
            ],
            [
             0.4444444444444444,
             "#bd3786"
            ],
            [
             0.5555555555555556,
             "#d8576b"
            ],
            [
             0.6666666666666666,
             "#ed7953"
            ],
            [
             0.7777777777777778,
             "#fb9f3a"
            ],
            [
             0.8888888888888888,
             "#fdca26"
            ],
            [
             1,
             "#f0f921"
            ]
           ],
           "sequentialminus": [
            [
             0,
             "#0d0887"
            ],
            [
             0.1111111111111111,
             "#46039f"
            ],
            [
             0.2222222222222222,
             "#7201a8"
            ],
            [
             0.3333333333333333,
             "#9c179e"
            ],
            [
             0.4444444444444444,
             "#bd3786"
            ],
            [
             0.5555555555555556,
             "#d8576b"
            ],
            [
             0.6666666666666666,
             "#ed7953"
            ],
            [
             0.7777777777777778,
             "#fb9f3a"
            ],
            [
             0.8888888888888888,
             "#fdca26"
            ],
            [
             1,
             "#f0f921"
            ]
           ]
          },
          "colorway": [
           "#636efa",
           "#EF553B",
           "#00cc96",
           "#ab63fa",
           "#FFA15A",
           "#19d3f3",
           "#FF6692",
           "#B6E880",
           "#FF97FF",
           "#FECB52"
          ],
          "font": {
           "color": "#2a3f5f"
          },
          "geo": {
           "bgcolor": "white",
           "lakecolor": "white",
           "landcolor": "#E5ECF6",
           "showlakes": true,
           "showland": true,
           "subunitcolor": "white"
          },
          "hoverlabel": {
           "align": "left"
          },
          "hovermode": "closest",
          "mapbox": {
           "style": "light"
          },
          "paper_bgcolor": "white",
          "plot_bgcolor": "#E5ECF6",
          "polar": {
           "angularaxis": {
            "gridcolor": "white",
            "linecolor": "white",
            "ticks": ""
           },
           "bgcolor": "#E5ECF6",
           "radialaxis": {
            "gridcolor": "white",
            "linecolor": "white",
            "ticks": ""
           }
          },
          "scene": {
           "xaxis": {
            "backgroundcolor": "#E5ECF6",
            "gridcolor": "white",
            "gridwidth": 2,
            "linecolor": "white",
            "showbackground": true,
            "ticks": "",
            "zerolinecolor": "white"
           },
           "yaxis": {
            "backgroundcolor": "#E5ECF6",
            "gridcolor": "white",
            "gridwidth": 2,
            "linecolor": "white",
            "showbackground": true,
            "ticks": "",
            "zerolinecolor": "white"
           },
           "zaxis": {
            "backgroundcolor": "#E5ECF6",
            "gridcolor": "white",
            "gridwidth": 2,
            "linecolor": "white",
            "showbackground": true,
            "ticks": "",
            "zerolinecolor": "white"
           }
          },
          "shapedefaults": {
           "line": {
            "color": "#2a3f5f"
           }
          },
          "ternary": {
           "aaxis": {
            "gridcolor": "white",
            "linecolor": "white",
            "ticks": ""
           },
           "baxis": {
            "gridcolor": "white",
            "linecolor": "white",
            "ticks": ""
           },
           "bgcolor": "#E5ECF6",
           "caxis": {
            "gridcolor": "white",
            "linecolor": "white",
            "ticks": ""
           }
          },
          "title": {
           "x": 0.05
          },
          "xaxis": {
           "automargin": true,
           "gridcolor": "white",
           "linecolor": "white",
           "ticks": "",
           "title": {
            "standoff": 15
           },
           "zerolinecolor": "white",
           "zerolinewidth": 2
          },
          "yaxis": {
           "automargin": true,
           "gridcolor": "white",
           "linecolor": "white",
           "ticks": "",
           "title": {
            "standoff": 15
           },
           "zerolinecolor": "white",
           "zerolinewidth": 2
          }
         }
        }
       }
      },
      "text/html": [
       "<div>                            <div id=\"4d555a81-194d-4ea6-9c61-31bcefbf4fd5\" class=\"plotly-graph-div\" style=\"height:525px; width:100%;\"></div>            <script type=\"text/javascript\">                require([\"plotly\"], function(Plotly) {                    window.PLOTLYENV=window.PLOTLYENV || {};                                    if (document.getElementById(\"4d555a81-194d-4ea6-9c61-31bcefbf4fd5\")) {                    Plotly.newPlot(                        \"4d555a81-194d-4ea6-9c61-31bcefbf4fd5\",                        [{\"branchvalues\":\"total\",\"customdata\":[[117.0,128.25],[44.0,144.0],[102.375,109.125],[212.13636363636363,132.5909090909091],[232.35714285714286,140.46428571428572],[124.0,121.75],[235.66666666666666,134.66666666666666],[104.0,111.8],[192.1153846153846,124.15384615384616],[239.46666666666667,139.0],[235.19402985074626,148.11940298507463],[125.33333333333333,122.46666666666667],[203.7685185185185,138.46296296296296],[149.0,111.66666666666667],[182.6,132.5],[182.0326086956522,138.2391304347826],[229.4,142.9],[219.0,163.0],[254.66666666666666,161.33333333333334],[100.0,170.0],[170.76923076923077,118.76923076923077],[192.64583333333334,140.54166666666666],[100.0,160.0],[123.625,148.625],[148.85714285714286,124.28571428571429],[146.85714285714286,129.0],[213.45810055865923,149.56424581005587],[167.55172413793105,133.93103448275863],[229.6,162.2],[194.9,124.3],[360.0,186.5],[236.8181818181818,154.8181818181818],[217.0,146.22535211267606],[300.0,205.0],[215.21666666666667,145.85],[214.71428571428572,166.42857142857142],[236.21428571428572,159.35714285714286],[252.67123287671234,164.41095890410958],[239.6,187.9],[\"(?)\",125.82456140350877],[\"(?)\",144.83870967741936],[\"(?)\",137.65454545454546],[\"(?)\",142.63173216885008],[\"(?)\",154.09815950920245],[\"(?)\",144.04255319148936],[\"(?)\",143.53626731866342]],\"domain\":{\"x\":[0.0,1.0],\"y\":[0.0,1.0]},\"hovertemplate\":\"labels=%{label}<br>class_counts=%{value}<br>parent=%{parent}<br>id=%{id}<br>ave_elo_gleens=%{customdata[0]}<br>ave_score_gleens=%{color}<extra></extra>\",\"ids\":[\"R1 Structures: Frequency and Overall Score for gleens/lab/ 0_m / 0_ts / 2_lab / 0_pi / 0_ac1 / 0_ac2\",\"R1 Structures: Frequency and Overall Score for gleens/PI/ 0_m / 1_ts / 0_lab / 1_pi / 0_ac1 / 0_ac2\",\"R1 Structures: Frequency and Overall Score for gleens/lab/ 0_m / 1_ts / 1_lab / 0_pi / 0_ac1 / 0_ac2\",\"R1 Structures: Frequency and Overall Score for gleens/ac2/ 1_m / 0_ts / 0_lab / 0_pi / 0_ac1 / 1_ac2\",\"R1 Structures: Frequency and Overall Score for gleens/ac1/ 1_m / 0_ts / 0_lab / 0_pi / 1_ac1 / 0_ac2\",\"R1 Structures: Frequency and Overall Score for gleens/PI/ 1_m / 0_ts / 1_lab / 1_pi / 0_ac1 / 0_ac2\",\"R1 Structures: Frequency and Overall Score for gleens/lab/ 1_m / 0_ts / 2_lab / 0_pi / 0_ac1 / 0_ac2\",\"R1 Structures: Frequency and Overall Score for gleens/PI/ 1_m / 1_ts / 0_lab / 1_pi / 0_ac1 / 0_ac2\",\"R1 Structures: Frequency and Overall Score for gleens/lab/ 1_m / 1_ts / 1_lab / 0_pi / 0_ac1 / 0_ac2\",\"R1 Structures: Frequency and Overall Score for gleens/ac2/ 2_m / 0_ts / 0_lab / 0_pi / 0_ac1 / 1_ac2\",\"R1 Structures: Frequency and Overall Score for gleens/ac1/ 2_m / 0_ts / 0_lab / 0_pi / 1_ac1 / 0_ac2\",\"R1 Structures: Frequency and Overall Score for gleens/PI/ 2_m / 0_ts / 0_lab / 1_pi / 0_ac1 / 0_ac2\",\"R1 Structures: Frequency and Overall Score for gleens/lab/ 2_m / 0_ts / 1_lab / 0_pi / 0_ac1 / 0_ac2\",\"R1 Structures: Frequency and Overall Score for gleens/ts/ 2_m / 1_ts / 0_lab / 0_pi / 0_ac1 / 0_ac2\",\"R1 Structures: Frequency and Overall Score for gleens/PI/ 2_m / 1_ts / 0_lab / 1_pi / 0_ac1 / 0_ac2\",\"R1 Structures: Frequency and Overall Score for gleens/lab/ 2_m / 1_ts / 1_lab / 0_pi / 0_ac1 / 0_ac2\",\"R1 Structures: Frequency and Overall Score for gleens/ts/ 2_m / 2_ts / 0_lab / 0_pi / 0_ac1 / 0_ac2\",\"R1 Structures: Frequency and Overall Score for gleens/ts/ 2_m / 3_ts / 0_lab / 0_pi / 0_ac1 / 0_ac2\",\"R1 Structures: Frequency and Overall Score for gleens/ac2/ 3_m / 0_ts / 0_lab / 0_pi / 0_ac1 / 1_ac2\",\"R1 Structures: Frequency and Overall Score for gleens/ac1/ 3_m / 0_ts / 0_lab / 0_pi / 1_ac1 / 0_ac2\",\"R1 Structures: Frequency and Overall Score for gleens/PI/ 3_m / 0_ts / 0_lab / 1_pi / 0_ac1 / 0_ac2\",\"R1 Structures: Frequency and Overall Score for gleens/lab/ 3_m / 0_ts / 1_lab / 0_pi / 0_ac1 / 0_ac2\",\"R1 Structures: Frequency and Overall Score for gleens/lab/ 3_m / 0_ts / 2_lab / 0_pi / 0_ac1 / 0_ac2\",\"R1 Structures: Frequency and Overall Score for gleens/lab/ 3_m / 1_ts / 1_lab / 0_pi / 0_ac1 / 0_ac2\",\"R1 Structures: Frequency and Overall Score for gleens/ts/ 3_m / 2_ts / 0_lab / 0_pi / 0_ac1 / 0_ac2\",\"R1 Structures: Frequency and Overall Score for gleens/PI/ 4_m / 0_ts / 0_lab / 1_pi / 0_ac1 / 0_ac2\",\"R1 Structures: Frequency and Overall Score for gleens/lab/ 4_m / 0_ts / 1_lab / 0_pi / 0_ac1 / 0_ac2\",\"R1 Structures: Frequency and Overall Score for gleens/ts/ 4_m / 1_ts / 0_lab / 0_pi / 0_ac1 / 0_ac2\",\"R1 Structures: Frequency and Overall Score for gleens/ts/ 4_m / 2_ts / 0_lab / 0_pi / 0_ac1 / 0_ac2\",\"R1 Structures: Frequency and Overall Score for gleens/m/ 5_m / 0_ts / 0_lab / 0_pi / 0_ac1 / 0_ac2\",\"R1 Structures: Frequency and Overall Score for gleens/PI/ 5_m / 0_ts / 0_lab / 1_pi / 0_ac1 / 0_ac2\",\"R1 Structures: Frequency and Overall Score for gleens/lab/ 5_m / 0_ts / 1_lab / 0_pi / 0_ac1 / 0_ac2\",\"R1 Structures: Frequency and Overall Score for gleens/ts/ 5_m / 1_ts / 0_lab / 0_pi / 0_ac1 / 0_ac2\",\"R1 Structures: Frequency and Overall Score for gleens/ts/ 5_m / 2_ts / 0_lab / 0_pi / 0_ac1 / 0_ac2\",\"R1 Structures: Frequency and Overall Score for gleens/m/ 6_m / 0_ts / 0_lab / 0_pi / 0_ac1 / 0_ac2\",\"R1 Structures: Frequency and Overall Score for gleens/lab/ 6_m / 0_ts / 1_lab / 0_pi / 0_ac1 / 0_ac2\",\"R1 Structures: Frequency and Overall Score for gleens/ts/ 6_m / 1_ts / 0_lab / 0_pi / 0_ac1 / 0_ac2\",\"R1 Structures: Frequency and Overall Score for gleens/m/ 7_m / 0_ts / 0_lab / 0_pi / 0_ac1 / 0_ac2\",\"R1 Structures: Frequency and Overall Score for gleens/m/ 8_m / 0_ts / 0_lab / 0_pi / 0_ac1 / 0_ac2\",\"R1 Structures: Frequency and Overall Score for gleens/PI\",\"R1 Structures: Frequency and Overall Score for gleens/ac1\",\"R1 Structures: Frequency and Overall Score for gleens/ac2\",\"R1 Structures: Frequency and Overall Score for gleens/lab\",\"R1 Structures: Frequency and Overall Score for gleens/m\",\"R1 Structures: Frequency and Overall Score for gleens/ts\",\"R1 Structures: Frequency and Overall Score for gleens\"],\"labels\":[\" 0_m / 0_ts / 2_lab / 0_pi / 0_ac1 / 0_ac2\",\" 0_m / 1_ts / 0_lab / 1_pi / 0_ac1 / 0_ac2\",\" 0_m / 1_ts / 1_lab / 0_pi / 0_ac1 / 0_ac2\",\" 1_m / 0_ts / 0_lab / 0_pi / 0_ac1 / 1_ac2\",\" 1_m / 0_ts / 0_lab / 0_pi / 1_ac1 / 0_ac2\",\" 1_m / 0_ts / 1_lab / 1_pi / 0_ac1 / 0_ac2\",\" 1_m / 0_ts / 2_lab / 0_pi / 0_ac1 / 0_ac2\",\" 1_m / 1_ts / 0_lab / 1_pi / 0_ac1 / 0_ac2\",\" 1_m / 1_ts / 1_lab / 0_pi / 0_ac1 / 0_ac2\",\" 2_m / 0_ts / 0_lab / 0_pi / 0_ac1 / 1_ac2\",\" 2_m / 0_ts / 0_lab / 0_pi / 1_ac1 / 0_ac2\",\" 2_m / 0_ts / 0_lab / 1_pi / 0_ac1 / 0_ac2\",\" 2_m / 0_ts / 1_lab / 0_pi / 0_ac1 / 0_ac2\",\" 2_m / 1_ts / 0_lab / 0_pi / 0_ac1 / 0_ac2\",\" 2_m / 1_ts / 0_lab / 1_pi / 0_ac1 / 0_ac2\",\" 2_m / 1_ts / 1_lab / 0_pi / 0_ac1 / 0_ac2\",\" 2_m / 2_ts / 0_lab / 0_pi / 0_ac1 / 0_ac2\",\" 2_m / 3_ts / 0_lab / 0_pi / 0_ac1 / 0_ac2\",\" 3_m / 0_ts / 0_lab / 0_pi / 0_ac1 / 1_ac2\",\" 3_m / 0_ts / 0_lab / 0_pi / 1_ac1 / 0_ac2\",\" 3_m / 0_ts / 0_lab / 1_pi / 0_ac1 / 0_ac2\",\" 3_m / 0_ts / 1_lab / 0_pi / 0_ac1 / 0_ac2\",\" 3_m / 0_ts / 2_lab / 0_pi / 0_ac1 / 0_ac2\",\" 3_m / 1_ts / 1_lab / 0_pi / 0_ac1 / 0_ac2\",\" 3_m / 2_ts / 0_lab / 0_pi / 0_ac1 / 0_ac2\",\" 4_m / 0_ts / 0_lab / 1_pi / 0_ac1 / 0_ac2\",\" 4_m / 0_ts / 1_lab / 0_pi / 0_ac1 / 0_ac2\",\" 4_m / 1_ts / 0_lab / 0_pi / 0_ac1 / 0_ac2\",\" 4_m / 2_ts / 0_lab / 0_pi / 0_ac1 / 0_ac2\",\" 5_m / 0_ts / 0_lab / 0_pi / 0_ac1 / 0_ac2\",\" 5_m / 0_ts / 0_lab / 1_pi / 0_ac1 / 0_ac2\",\" 5_m / 0_ts / 1_lab / 0_pi / 0_ac1 / 0_ac2\",\" 5_m / 1_ts / 0_lab / 0_pi / 0_ac1 / 0_ac2\",\" 5_m / 2_ts / 0_lab / 0_pi / 0_ac1 / 0_ac2\",\" 6_m / 0_ts / 0_lab / 0_pi / 0_ac1 / 0_ac2\",\" 6_m / 0_ts / 1_lab / 0_pi / 0_ac1 / 0_ac2\",\" 6_m / 1_ts / 0_lab / 0_pi / 0_ac1 / 0_ac2\",\" 7_m / 0_ts / 0_lab / 0_pi / 0_ac1 / 0_ac2\",\" 8_m / 0_ts / 0_lab / 0_pi / 0_ac1 / 0_ac2\",\"PI\",\"ac1\",\"ac2\",\"lab\",\"m\",\"ts\",\"R1 Structures: Frequency and Overall Score for gleens\"],\"marker\":{\"coloraxis\":\"coloraxis\",\"colors\":[128.25,144.0,109.125,132.5909090909091,140.46428571428572,121.75,134.66666666666666,111.8,124.15384615384616,139.0,148.11940298507463,122.46666666666667,138.46296296296296,111.66666666666667,132.5,138.2391304347826,142.9,163.0,161.33333333333334,170.0,118.76923076923077,140.54166666666666,160.0,148.625,124.28571428571429,129.0,149.56424581005587,133.93103448275863,162.2,124.3,186.5,154.8181818181818,146.22535211267606,205.0,145.85,166.42857142857142,159.35714285714286,164.41095890410958,187.9,125.82456140350877,144.83870967741936,137.65454545454546,142.63173216885008,154.09815950920245,144.04255319148936,143.53626731866342]},\"name\":\"\",\"parents\":[\"R1 Structures: Frequency and Overall Score for gleens/lab\",\"R1 Structures: Frequency and Overall Score for gleens/PI\",\"R1 Structures: Frequency and Overall Score for gleens/lab\",\"R1 Structures: Frequency and Overall Score for gleens/ac2\",\"R1 Structures: Frequency and Overall Score for gleens/ac1\",\"R1 Structures: Frequency and Overall Score for gleens/PI\",\"R1 Structures: Frequency and Overall Score for gleens/lab\",\"R1 Structures: Frequency and Overall Score for gleens/PI\",\"R1 Structures: Frequency and Overall Score for gleens/lab\",\"R1 Structures: Frequency and Overall Score for gleens/ac2\",\"R1 Structures: Frequency and Overall Score for gleens/ac1\",\"R1 Structures: Frequency and Overall Score for gleens/PI\",\"R1 Structures: Frequency and Overall Score for gleens/lab\",\"R1 Structures: Frequency and Overall Score for gleens/ts\",\"R1 Structures: Frequency and Overall Score for gleens/PI\",\"R1 Structures: Frequency and Overall Score for gleens/lab\",\"R1 Structures: Frequency and Overall Score for gleens/ts\",\"R1 Structures: Frequency and Overall Score for gleens/ts\",\"R1 Structures: Frequency and Overall Score for gleens/ac2\",\"R1 Structures: Frequency and Overall Score for gleens/ac1\",\"R1 Structures: Frequency and Overall Score for gleens/PI\",\"R1 Structures: Frequency and Overall Score for gleens/lab\",\"R1 Structures: Frequency and Overall Score for gleens/lab\",\"R1 Structures: Frequency and Overall Score for gleens/lab\",\"R1 Structures: Frequency and Overall Score for gleens/ts\",\"R1 Structures: Frequency and Overall Score for gleens/PI\",\"R1 Structures: Frequency and Overall Score for gleens/lab\",\"R1 Structures: Frequency and Overall Score for gleens/ts\",\"R1 Structures: Frequency and Overall Score for gleens/ts\",\"R1 Structures: Frequency and Overall Score for gleens/m\",\"R1 Structures: Frequency and Overall Score for gleens/PI\",\"R1 Structures: Frequency and Overall Score for gleens/lab\",\"R1 Structures: Frequency and Overall Score for gleens/ts\",\"R1 Structures: Frequency and Overall Score for gleens/ts\",\"R1 Structures: Frequency and Overall Score for gleens/m\",\"R1 Structures: Frequency and Overall Score for gleens/lab\",\"R1 Structures: Frequency and Overall Score for gleens/ts\",\"R1 Structures: Frequency and Overall Score for gleens/m\",\"R1 Structures: Frequency and Overall Score for gleens/m\",\"R1 Structures: Frequency and Overall Score for gleens\",\"R1 Structures: Frequency and Overall Score for gleens\",\"R1 Structures: Frequency and Overall Score for gleens\",\"R1 Structures: Frequency and Overall Score for gleens\",\"R1 Structures: Frequency and Overall Score for gleens\",\"R1 Structures: Frequency and Overall Score for gleens\",\"\"],\"values\":[8,1,8,22,56,4,3,5,26,30,67,15,108,3,10,92,10,1,3,1,13,192,1,8,7,7,179,29,5,20,2,55,71,1,60,7,14,73,10,57,124,55,687,163,141,1227],\"type\":\"treemap\"}],                        {\"template\":{\"data\":{\"bar\":[{\"error_x\":{\"color\":\"#2a3f5f\"},\"error_y\":{\"color\":\"#2a3f5f\"},\"marker\":{\"line\":{\"color\":\"#E5ECF6\",\"width\":0.5},\"pattern\":{\"fillmode\":\"overlay\",\"size\":10,\"solidity\":0.2}},\"type\":\"bar\"}],\"barpolar\":[{\"marker\":{\"line\":{\"color\":\"#E5ECF6\",\"width\":0.5},\"pattern\":{\"fillmode\":\"overlay\",\"size\":10,\"solidity\":0.2}},\"type\":\"barpolar\"}],\"carpet\":[{\"aaxis\":{\"endlinecolor\":\"#2a3f5f\",\"gridcolor\":\"white\",\"linecolor\":\"white\",\"minorgridcolor\":\"white\",\"startlinecolor\":\"#2a3f5f\"},\"baxis\":{\"endlinecolor\":\"#2a3f5f\",\"gridcolor\":\"white\",\"linecolor\":\"white\",\"minorgridcolor\":\"white\",\"startlinecolor\":\"#2a3f5f\"},\"type\":\"carpet\"}],\"choropleth\":[{\"colorbar\":{\"outlinewidth\":0,\"ticks\":\"\"},\"type\":\"choropleth\"}],\"contour\":[{\"colorbar\":{\"outlinewidth\":0,\"ticks\":\"\"},\"colorscale\":[[0.0,\"#0d0887\"],[0.1111111111111111,\"#46039f\"],[0.2222222222222222,\"#7201a8\"],[0.3333333333333333,\"#9c179e\"],[0.4444444444444444,\"#bd3786\"],[0.5555555555555556,\"#d8576b\"],[0.6666666666666666,\"#ed7953\"],[0.7777777777777778,\"#fb9f3a\"],[0.8888888888888888,\"#fdca26\"],[1.0,\"#f0f921\"]],\"type\":\"contour\"}],\"contourcarpet\":[{\"colorbar\":{\"outlinewidth\":0,\"ticks\":\"\"},\"type\":\"contourcarpet\"}],\"heatmap\":[{\"colorbar\":{\"outlinewidth\":0,\"ticks\":\"\"},\"colorscale\":[[0.0,\"#0d0887\"],[0.1111111111111111,\"#46039f\"],[0.2222222222222222,\"#7201a8\"],[0.3333333333333333,\"#9c179e\"],[0.4444444444444444,\"#bd3786\"],[0.5555555555555556,\"#d8576b\"],[0.6666666666666666,\"#ed7953\"],[0.7777777777777778,\"#fb9f3a\"],[0.8888888888888888,\"#fdca26\"],[1.0,\"#f0f921\"]],\"type\":\"heatmap\"}],\"heatmapgl\":[{\"colorbar\":{\"outlinewidth\":0,\"ticks\":\"\"},\"colorscale\":[[0.0,\"#0d0887\"],[0.1111111111111111,\"#46039f\"],[0.2222222222222222,\"#7201a8\"],[0.3333333333333333,\"#9c179e\"],[0.4444444444444444,\"#bd3786\"],[0.5555555555555556,\"#d8576b\"],[0.6666666666666666,\"#ed7953\"],[0.7777777777777778,\"#fb9f3a\"],[0.8888888888888888,\"#fdca26\"],[1.0,\"#f0f921\"]],\"type\":\"heatmapgl\"}],\"histogram\":[{\"marker\":{\"pattern\":{\"fillmode\":\"overlay\",\"size\":10,\"solidity\":0.2}},\"type\":\"histogram\"}],\"histogram2d\":[{\"colorbar\":{\"outlinewidth\":0,\"ticks\":\"\"},\"colorscale\":[[0.0,\"#0d0887\"],[0.1111111111111111,\"#46039f\"],[0.2222222222222222,\"#7201a8\"],[0.3333333333333333,\"#9c179e\"],[0.4444444444444444,\"#bd3786\"],[0.5555555555555556,\"#d8576b\"],[0.6666666666666666,\"#ed7953\"],[0.7777777777777778,\"#fb9f3a\"],[0.8888888888888888,\"#fdca26\"],[1.0,\"#f0f921\"]],\"type\":\"histogram2d\"}],\"histogram2dcontour\":[{\"colorbar\":{\"outlinewidth\":0,\"ticks\":\"\"},\"colorscale\":[[0.0,\"#0d0887\"],[0.1111111111111111,\"#46039f\"],[0.2222222222222222,\"#7201a8\"],[0.3333333333333333,\"#9c179e\"],[0.4444444444444444,\"#bd3786\"],[0.5555555555555556,\"#d8576b\"],[0.6666666666666666,\"#ed7953\"],[0.7777777777777778,\"#fb9f3a\"],[0.8888888888888888,\"#fdca26\"],[1.0,\"#f0f921\"]],\"type\":\"histogram2dcontour\"}],\"mesh3d\":[{\"colorbar\":{\"outlinewidth\":0,\"ticks\":\"\"},\"type\":\"mesh3d\"}],\"parcoords\":[{\"line\":{\"colorbar\":{\"outlinewidth\":0,\"ticks\":\"\"}},\"type\":\"parcoords\"}],\"pie\":[{\"automargin\":true,\"type\":\"pie\"}],\"scatter\":[{\"marker\":{\"colorbar\":{\"outlinewidth\":0,\"ticks\":\"\"}},\"type\":\"scatter\"}],\"scatter3d\":[{\"line\":{\"colorbar\":{\"outlinewidth\":0,\"ticks\":\"\"}},\"marker\":{\"colorbar\":{\"outlinewidth\":0,\"ticks\":\"\"}},\"type\":\"scatter3d\"}],\"scattercarpet\":[{\"marker\":{\"colorbar\":{\"outlinewidth\":0,\"ticks\":\"\"}},\"type\":\"scattercarpet\"}],\"scattergeo\":[{\"marker\":{\"colorbar\":{\"outlinewidth\":0,\"ticks\":\"\"}},\"type\":\"scattergeo\"}],\"scattergl\":[{\"marker\":{\"colorbar\":{\"outlinewidth\":0,\"ticks\":\"\"}},\"type\":\"scattergl\"}],\"scattermapbox\":[{\"marker\":{\"colorbar\":{\"outlinewidth\":0,\"ticks\":\"\"}},\"type\":\"scattermapbox\"}],\"scatterpolar\":[{\"marker\":{\"colorbar\":{\"outlinewidth\":0,\"ticks\":\"\"}},\"type\":\"scatterpolar\"}],\"scatterpolargl\":[{\"marker\":{\"colorbar\":{\"outlinewidth\":0,\"ticks\":\"\"}},\"type\":\"scatterpolargl\"}],\"scatterternary\":[{\"marker\":{\"colorbar\":{\"outlinewidth\":0,\"ticks\":\"\"}},\"type\":\"scatterternary\"}],\"surface\":[{\"colorbar\":{\"outlinewidth\":0,\"ticks\":\"\"},\"colorscale\":[[0.0,\"#0d0887\"],[0.1111111111111111,\"#46039f\"],[0.2222222222222222,\"#7201a8\"],[0.3333333333333333,\"#9c179e\"],[0.4444444444444444,\"#bd3786\"],[0.5555555555555556,\"#d8576b\"],[0.6666666666666666,\"#ed7953\"],[0.7777777777777778,\"#fb9f3a\"],[0.8888888888888888,\"#fdca26\"],[1.0,\"#f0f921\"]],\"type\":\"surface\"}],\"table\":[{\"cells\":{\"fill\":{\"color\":\"#EBF0F8\"},\"line\":{\"color\":\"white\"}},\"header\":{\"fill\":{\"color\":\"#C8D4E3\"},\"line\":{\"color\":\"white\"}},\"type\":\"table\"}]},\"layout\":{\"annotationdefaults\":{\"arrowcolor\":\"#2a3f5f\",\"arrowhead\":0,\"arrowwidth\":1},\"autotypenumbers\":\"strict\",\"coloraxis\":{\"colorbar\":{\"outlinewidth\":0,\"ticks\":\"\"}},\"colorscale\":{\"diverging\":[[0,\"#8e0152\"],[0.1,\"#c51b7d\"],[0.2,\"#de77ae\"],[0.3,\"#f1b6da\"],[0.4,\"#fde0ef\"],[0.5,\"#f7f7f7\"],[0.6,\"#e6f5d0\"],[0.7,\"#b8e186\"],[0.8,\"#7fbc41\"],[0.9,\"#4d9221\"],[1,\"#276419\"]],\"sequential\":[[0.0,\"#0d0887\"],[0.1111111111111111,\"#46039f\"],[0.2222222222222222,\"#7201a8\"],[0.3333333333333333,\"#9c179e\"],[0.4444444444444444,\"#bd3786\"],[0.5555555555555556,\"#d8576b\"],[0.6666666666666666,\"#ed7953\"],[0.7777777777777778,\"#fb9f3a\"],[0.8888888888888888,\"#fdca26\"],[1.0,\"#f0f921\"]],\"sequentialminus\":[[0.0,\"#0d0887\"],[0.1111111111111111,\"#46039f\"],[0.2222222222222222,\"#7201a8\"],[0.3333333333333333,\"#9c179e\"],[0.4444444444444444,\"#bd3786\"],[0.5555555555555556,\"#d8576b\"],[0.6666666666666666,\"#ed7953\"],[0.7777777777777778,\"#fb9f3a\"],[0.8888888888888888,\"#fdca26\"],[1.0,\"#f0f921\"]]},\"colorway\":[\"#636efa\",\"#EF553B\",\"#00cc96\",\"#ab63fa\",\"#FFA15A\",\"#19d3f3\",\"#FF6692\",\"#B6E880\",\"#FF97FF\",\"#FECB52\"],\"font\":{\"color\":\"#2a3f5f\"},\"geo\":{\"bgcolor\":\"white\",\"lakecolor\":\"white\",\"landcolor\":\"#E5ECF6\",\"showlakes\":true,\"showland\":true,\"subunitcolor\":\"white\"},\"hoverlabel\":{\"align\":\"left\"},\"hovermode\":\"closest\",\"mapbox\":{\"style\":\"light\"},\"paper_bgcolor\":\"white\",\"plot_bgcolor\":\"#E5ECF6\",\"polar\":{\"angularaxis\":{\"gridcolor\":\"white\",\"linecolor\":\"white\",\"ticks\":\"\"},\"bgcolor\":\"#E5ECF6\",\"radialaxis\":{\"gridcolor\":\"white\",\"linecolor\":\"white\",\"ticks\":\"\"}},\"scene\":{\"xaxis\":{\"backgroundcolor\":\"#E5ECF6\",\"gridcolor\":\"white\",\"gridwidth\":2,\"linecolor\":\"white\",\"showbackground\":true,\"ticks\":\"\",\"zerolinecolor\":\"white\"},\"yaxis\":{\"backgroundcolor\":\"#E5ECF6\",\"gridcolor\":\"white\",\"gridwidth\":2,\"linecolor\":\"white\",\"showbackground\":true,\"ticks\":\"\",\"zerolinecolor\":\"white\"},\"zaxis\":{\"backgroundcolor\":\"#E5ECF6\",\"gridcolor\":\"white\",\"gridwidth\":2,\"linecolor\":\"white\",\"showbackground\":true,\"ticks\":\"\",\"zerolinecolor\":\"white\"}},\"shapedefaults\":{\"line\":{\"color\":\"#2a3f5f\"}},\"ternary\":{\"aaxis\":{\"gridcolor\":\"white\",\"linecolor\":\"white\",\"ticks\":\"\"},\"baxis\":{\"gridcolor\":\"white\",\"linecolor\":\"white\",\"ticks\":\"\"},\"bgcolor\":\"#E5ECF6\",\"caxis\":{\"gridcolor\":\"white\",\"linecolor\":\"white\",\"ticks\":\"\"}},\"title\":{\"x\":0.05},\"xaxis\":{\"automargin\":true,\"gridcolor\":\"white\",\"linecolor\":\"white\",\"ticks\":\"\",\"title\":{\"standoff\":15},\"zerolinecolor\":\"white\",\"zerolinewidth\":2},\"yaxis\":{\"automargin\":true,\"gridcolor\":\"white\",\"linecolor\":\"white\",\"ticks\":\"\",\"title\":{\"standoff\":15},\"zerolinecolor\":\"white\",\"zerolinewidth\":2}}},\"coloraxis\":{\"colorbar\":{\"title\":{\"text\":\"ave_score_gleens\"}},\"colorscale\":[[0.0,\"rgb(103,0,31)\"],[0.1,\"rgb(178,24,43)\"],[0.2,\"rgb(214,96,77)\"],[0.3,\"rgb(244,165,130)\"],[0.4,\"rgb(253,219,199)\"],[0.5,\"rgb(247,247,247)\"],[0.6,\"rgb(209,229,240)\"],[0.7,\"rgb(146,197,222)\"],[0.8,\"rgb(67,147,195)\"],[0.9,\"rgb(33,102,172)\"],[1.0,\"rgb(5,48,97)\"]],\"cmid\":144.30885882929329},\"legend\":{\"tracegroupgap\":0},\"margin\":{\"t\":50,\"l\":25,\"r\":25,\"b\":25}},                        {\"responsive\": true}                    ).then(function(){\n",
       "                            \n",
       "var gd = document.getElementById('4d555a81-194d-4ea6-9c61-31bcefbf4fd5');\n",
       "var x = new MutationObserver(function (mutations, observer) {{\n",
       "        var display = window.getComputedStyle(gd).display;\n",
       "        if (!display || display === 'none') {{\n",
       "            console.log([gd, 'removed!']);\n",
       "            Plotly.purge(gd);\n",
       "            observer.disconnect();\n",
       "        }}\n",
       "}});\n",
       "\n",
       "// Listen for the removal of the full notebook cells\n",
       "var notebookContainer = gd.closest('#notebook-container');\n",
       "if (notebookContainer) {{\n",
       "    x.observe(notebookContainer, {childList: true});\n",
       "}}\n",
       "\n",
       "// Listen for the clearing of the current output cell\n",
       "var outputEl = gd.closest('.output');\n",
       "if (outputEl) {{\n",
       "    x.observe(outputEl, {childList: true});\n",
       "}}\n",
       "\n",
       "                        })                };                });            </script>        </div>"
      ]
     },
     "metadata": {},
     "output_type": "display_data"
    },
    {
     "data": {
      "application/vnd.plotly.v1+json": {
       "config": {
        "plotlyServerURL": "https://plot.ly"
       },
       "data": [
        {
         "branchvalues": "total",
         "customdata": [
          [
           128.66666666666666,
           139.66666666666666
          ],
          [
           88,
           132.5
          ],
          [
           40,
           122
          ],
          [
           176.66666666666666,
           157
          ],
          [
           226.71428571428572,
           146.48214285714286
          ],
          [
           165,
           103.25
          ],
          [
           198.42857142857142,
           112.14285714285714
          ],
          [
           315,
           187
          ],
          [
           128,
           121.16
          ],
          [
           50,
           139.5
          ],
          [
           65,
           164
          ],
          [
           175.5,
           134.5
          ],
          [
           143,
           149.2
          ],
          [
           237.06,
           149.595
          ],
          [
           179.71052631578948,
           141.05263157894737
          ],
          [
           209,
           153.4
          ],
          [
           67.5,
           117
          ],
          [
           207.42105263157896,
           141.45029239766083
          ],
          [
           184.5,
           123
          ],
          [
           276,
           159
          ],
          [
           220.83333333333334,
           150.83333333333334
          ],
          [
           121,
           170
          ],
          [
           217.64705882352942,
           145.2941176470588
          ],
          [
           127.92307692307692,
           113.76923076923077
          ],
          [
           179.8235294117647,
           135.60294117647058
          ],
          [
           197.84848484848484,
           144.36363636363637
          ],
          [
           113.77777777777777,
           123.55555555555556
          ],
          [
           290.25,
           152
          ],
          [
           108,
           126
          ],
          [
           222.35327635327636,
           147.52136752136752
          ],
          [
           156,
           120.33333333333333
          ],
          [
           190.14285714285714,
           107.71428571428571
          ],
          [
           210.07142857142858,
           142.57142857142858
          ],
          [
           129,
           118
          ],
          [
           249.36075949367088,
           157.75316455696202
          ],
          [
           166.8,
           150
          ],
          [
           121,
           154
          ],
          [
           147,
           160.36363636363637
          ],
          [
           273.46153846153845,
           160.15384615384616
          ],
          [
           261.625,
           159
          ],
          [
           201.33333333333334,
           181.33333333333334
          ],
          [
           340,
           219
          ],
          [
           325.6666666666667,
           200.66666666666666
          ],
          [
           "(?)",
           115.58823529411765
          ],
          [
           "(?)",
           148.47305389221557
          ],
          [
           "(?)",
           154.11111111111111
          ],
          [
           "(?)",
           145.80552486187844
          ],
          [
           "(?)",
           159
          ],
          [
           "(?)",
           141.85882352941175
          ],
          [
           "(?)",
           146.04538799414348
          ]
         ],
         "domain": {
          "x": [
           0,
           1
          ],
          "y": [
           0,
           1
          ]
         },
         "hovertemplate": "labels=%{label}<br>class_counts=%{value}<br>parent=%{parent}<br>id=%{id}<br>ave_elo_ambas=%{customdata[0]}<br>ave_score_ambas=%{color}<extra></extra>",
         "ids": [
          "R1 Structures: Frequency and Overall Score for ambas/lab/ 0_m / 0_ts / 2_lab / 0_pi / 0_ac1 / 0_ac2",
          "R1 Structures: Frequency and Overall Score for ambas/lab/ 0_m / 1_ts / 1_lab / 0_pi / 0_ac1 / 0_ac2",
          "R1 Structures: Frequency and Overall Score for ambas/ts/ 0_m / 3_ts / 0_lab / 0_pi / 0_ac1 / 0_ac2",
          "R1 Structures: Frequency and Overall Score for ambas/ac2/ 1_m / 0_ts / 0_lab / 0_pi / 0_ac1 / 1_ac2",
          "R1 Structures: Frequency and Overall Score for ambas/ac1/ 1_m / 0_ts / 0_lab / 0_pi / 1_ac1 / 0_ac2",
          "R1 Structures: Frequency and Overall Score for ambas/lab/ 1_m / 0_ts / 1_lab / 0_pi / 0_ac1 / 0_ac2",
          "R1 Structures: Frequency and Overall Score for ambas/lab/ 1_m / 0_ts / 2_lab / 0_pi / 0_ac1 / 0_ac2",
          "R1 Structures: Frequency and Overall Score for ambas/ac1/ 1_m / 1_ts / 0_lab / 0_pi / 1_ac1 / 0_ac2",
          "R1 Structures: Frequency and Overall Score for ambas/lab/ 1_m / 1_ts / 1_lab / 0_pi / 0_ac1 / 0_ac2",
          "R1 Structures: Frequency and Overall Score for ambas/ts/ 1_m / 2_ts / 0_lab / 0_pi / 0_ac1 / 0_ac2",
          "R1 Structures: Frequency and Overall Score for ambas/lab/ 1_m / 2_ts / 1_lab / 0_pi / 0_ac1 / 0_ac2",
          "R1 Structures: Frequency and Overall Score for ambas/ts/ 1_m / 3_ts / 0_lab / 0_pi / 0_ac1 / 0_ac2",
          "R1 Structures: Frequency and Overall Score for ambas/ac2/ 2_m / 0_ts / 0_lab / 0_pi / 0_ac1 / 1_ac2",
          "R1 Structures: Frequency and Overall Score for ambas/ac1/ 2_m / 0_ts / 0_lab / 0_pi / 1_ac1 / 0_ac2",
          "R1 Structures: Frequency and Overall Score for ambas/lab/ 2_m / 0_ts / 1_lab / 0_pi / 0_ac1 / 0_ac2",
          "R1 Structures: Frequency and Overall Score for ambas/lab/ 2_m / 0_ts / 2_lab / 0_pi / 0_ac1 / 0_ac2",
          "R1 Structures: Frequency and Overall Score for ambas/PI/ 2_m / 1_ts / 0_lab / 1_pi / 0_ac1 / 0_ac2",
          "R1 Structures: Frequency and Overall Score for ambas/lab/ 2_m / 1_ts / 1_lab / 0_pi / 0_ac1 / 0_ac2",
          "R1 Structures: Frequency and Overall Score for ambas/ts/ 2_m / 2_ts / 0_lab / 0_pi / 0_ac1 / 0_ac2",
          "R1 Structures: Frequency and Overall Score for ambas/lab/ 2_m / 2_ts / 1_lab / 0_pi / 0_ac1 / 0_ac2",
          "R1 Structures: Frequency and Overall Score for ambas/ts/ 2_m / 3_ts / 0_lab / 0_pi / 0_ac1 / 0_ac2",
          "R1 Structures: Frequency and Overall Score for ambas/ac2/ 3_m / 0_ts / 0_lab / 0_pi / 0_ac1 / 1_ac2",
          "R1 Structures: Frequency and Overall Score for ambas/ac1/ 3_m / 0_ts / 0_lab / 0_pi / 1_ac1 / 0_ac2",
          "R1 Structures: Frequency and Overall Score for ambas/PI/ 3_m / 0_ts / 0_lab / 1_pi / 0_ac1 / 0_ac2",
          "R1 Structures: Frequency and Overall Score for ambas/lab/ 3_m / 0_ts / 1_lab / 0_pi / 0_ac1 / 0_ac2",
          "R1 Structures: Frequency and Overall Score for ambas/lab/ 3_m / 1_ts / 1_lab / 0_pi / 0_ac1 / 0_ac2",
          "R1 Structures: Frequency and Overall Score for ambas/ts/ 3_m / 2_ts / 0_lab / 0_pi / 0_ac1 / 0_ac2",
          "R1 Structures: Frequency and Overall Score for ambas/ac1/ 4_m / 0_ts / 0_lab / 0_pi / 1_ac1 / 0_ac2",
          "R1 Structures: Frequency and Overall Score for ambas/PI/ 4_m / 0_ts / 0_lab / 1_pi / 0_ac1 / 0_ac2",
          "R1 Structures: Frequency and Overall Score for ambas/lab/ 4_m / 0_ts / 1_lab / 0_pi / 0_ac1 / 0_ac2",
          "R1 Structures: Frequency and Overall Score for ambas/ts/ 4_m / 1_ts / 0_lab / 0_pi / 0_ac1 / 0_ac2",
          "R1 Structures: Frequency and Overall Score for ambas/lab/ 4_m / 1_ts / 1_lab / 0_pi / 0_ac1 / 0_ac2",
          "R1 Structures: Frequency and Overall Score for ambas/ts/ 4_m / 2_ts / 0_lab / 0_pi / 0_ac1 / 0_ac2",
          "R1 Structures: Frequency and Overall Score for ambas/m/ 5_m / 0_ts / 0_lab / 0_pi / 0_ac1 / 0_ac2",
          "R1 Structures: Frequency and Overall Score for ambas/lab/ 5_m / 0_ts / 1_lab / 0_pi / 0_ac1 / 0_ac2",
          "R1 Structures: Frequency and Overall Score for ambas/ts/ 5_m / 1_ts / 0_lab / 0_pi / 0_ac1 / 0_ac2",
          "R1 Structures: Frequency and Overall Score for ambas/ts/ 5_m / 2_ts / 0_lab / 0_pi / 0_ac1 / 0_ac2",
          "R1 Structures: Frequency and Overall Score for ambas/m/ 6_m / 0_ts / 0_lab / 0_pi / 0_ac1 / 0_ac2",
          "R1 Structures: Frequency and Overall Score for ambas/lab/ 6_m / 0_ts / 1_lab / 0_pi / 0_ac1 / 0_ac2",
          "R1 Structures: Frequency and Overall Score for ambas/ts/ 6_m / 1_ts / 0_lab / 0_pi / 0_ac1 / 0_ac2",
          "R1 Structures: Frequency and Overall Score for ambas/m/ 7_m / 0_ts / 0_lab / 0_pi / 0_ac1 / 0_ac2",
          "R1 Structures: Frequency and Overall Score for ambas/lab/ 7_m / 0_ts / 1_lab / 0_pi / 0_ac1 / 0_ac2",
          "R1 Structures: Frequency and Overall Score for ambas/ts/ 7_m / 1_ts / 0_lab / 0_pi / 0_ac1 / 0_ac2",
          "R1 Structures: Frequency and Overall Score for ambas/PI",
          "R1 Structures: Frequency and Overall Score for ambas/ac1",
          "R1 Structures: Frequency and Overall Score for ambas/ac2",
          "R1 Structures: Frequency and Overall Score for ambas/lab",
          "R1 Structures: Frequency and Overall Score for ambas/m",
          "R1 Structures: Frequency and Overall Score for ambas/ts",
          "R1 Structures: Frequency and Overall Score for ambas"
         ],
         "labels": [
          " 0_m / 0_ts / 2_lab / 0_pi / 0_ac1 / 0_ac2",
          " 0_m / 1_ts / 1_lab / 0_pi / 0_ac1 / 0_ac2",
          " 0_m / 3_ts / 0_lab / 0_pi / 0_ac1 / 0_ac2",
          " 1_m / 0_ts / 0_lab / 0_pi / 0_ac1 / 1_ac2",
          " 1_m / 0_ts / 0_lab / 0_pi / 1_ac1 / 0_ac2",
          " 1_m / 0_ts / 1_lab / 0_pi / 0_ac1 / 0_ac2",
          " 1_m / 0_ts / 2_lab / 0_pi / 0_ac1 / 0_ac2",
          " 1_m / 1_ts / 0_lab / 0_pi / 1_ac1 / 0_ac2",
          " 1_m / 1_ts / 1_lab / 0_pi / 0_ac1 / 0_ac2",
          " 1_m / 2_ts / 0_lab / 0_pi / 0_ac1 / 0_ac2",
          " 1_m / 2_ts / 1_lab / 0_pi / 0_ac1 / 0_ac2",
          " 1_m / 3_ts / 0_lab / 0_pi / 0_ac1 / 0_ac2",
          " 2_m / 0_ts / 0_lab / 0_pi / 0_ac1 / 1_ac2",
          " 2_m / 0_ts / 0_lab / 0_pi / 1_ac1 / 0_ac2",
          " 2_m / 0_ts / 1_lab / 0_pi / 0_ac1 / 0_ac2",
          " 2_m / 0_ts / 2_lab / 0_pi / 0_ac1 / 0_ac2",
          " 2_m / 1_ts / 0_lab / 1_pi / 0_ac1 / 0_ac2",
          " 2_m / 1_ts / 1_lab / 0_pi / 0_ac1 / 0_ac2",
          " 2_m / 2_ts / 0_lab / 0_pi / 0_ac1 / 0_ac2",
          " 2_m / 2_ts / 1_lab / 0_pi / 0_ac1 / 0_ac2",
          " 2_m / 3_ts / 0_lab / 0_pi / 0_ac1 / 0_ac2",
          " 3_m / 0_ts / 0_lab / 0_pi / 0_ac1 / 1_ac2",
          " 3_m / 0_ts / 0_lab / 0_pi / 1_ac1 / 0_ac2",
          " 3_m / 0_ts / 0_lab / 1_pi / 0_ac1 / 0_ac2",
          " 3_m / 0_ts / 1_lab / 0_pi / 0_ac1 / 0_ac2",
          " 3_m / 1_ts / 1_lab / 0_pi / 0_ac1 / 0_ac2",
          " 3_m / 2_ts / 0_lab / 0_pi / 0_ac1 / 0_ac2",
          " 4_m / 0_ts / 0_lab / 0_pi / 1_ac1 / 0_ac2",
          " 4_m / 0_ts / 0_lab / 1_pi / 0_ac1 / 0_ac2",
          " 4_m / 0_ts / 1_lab / 0_pi / 0_ac1 / 0_ac2",
          " 4_m / 1_ts / 0_lab / 0_pi / 0_ac1 / 0_ac2",
          " 4_m / 1_ts / 1_lab / 0_pi / 0_ac1 / 0_ac2",
          " 4_m / 2_ts / 0_lab / 0_pi / 0_ac1 / 0_ac2",
          " 5_m / 0_ts / 0_lab / 0_pi / 0_ac1 / 0_ac2",
          " 5_m / 0_ts / 1_lab / 0_pi / 0_ac1 / 0_ac2",
          " 5_m / 1_ts / 0_lab / 0_pi / 0_ac1 / 0_ac2",
          " 5_m / 2_ts / 0_lab / 0_pi / 0_ac1 / 0_ac2",
          " 6_m / 0_ts / 0_lab / 0_pi / 0_ac1 / 0_ac2",
          " 6_m / 0_ts / 1_lab / 0_pi / 0_ac1 / 0_ac2",
          " 6_m / 1_ts / 0_lab / 0_pi / 0_ac1 / 0_ac2",
          " 7_m / 0_ts / 0_lab / 0_pi / 0_ac1 / 0_ac2",
          " 7_m / 0_ts / 1_lab / 0_pi / 0_ac1 / 0_ac2",
          " 7_m / 1_ts / 0_lab / 0_pi / 0_ac1 / 0_ac2",
          "PI",
          "ac1",
          "ac2",
          "lab",
          "m",
          "ts",
          "R1 Structures: Frequency and Overall Score for ambas"
         ],
         "marker": {
          "coloraxis": "coloraxis",
          "colors": [
           139.66666666666666,
           132.5,
           122,
           157,
           146.48214285714286,
           103.25,
           112.14285714285714,
           187,
           121.16,
           139.5,
           164,
           134.5,
           149.2,
           149.595,
           141.05263157894737,
           153.4,
           117,
           141.45029239766083,
           123,
           159,
           150.83333333333334,
           170,
           145.2941176470588,
           113.76923076923077,
           135.60294117647058,
           144.36363636363637,
           123.55555555555556,
           152,
           126,
           147.52136752136752,
           120.33333333333333,
           107.71428571428571,
           142.57142857142858,
           118,
           157.75316455696202,
           150,
           154,
           160.36363636363637,
           160.15384615384616,
           159,
           181.33333333333334,
           219,
           200.66666666666666,
           115.58823529411765,
           148.47305389221557,
           154.11111111111111,
           145.80552486187844,
           159,
           141.85882352941175,
           146.04538799414348
          ]
         },
         "name": "",
         "parents": [
          "R1 Structures: Frequency and Overall Score for ambas/lab",
          "R1 Structures: Frequency and Overall Score for ambas/lab",
          "R1 Structures: Frequency and Overall Score for ambas/ts",
          "R1 Structures: Frequency and Overall Score for ambas/ac2",
          "R1 Structures: Frequency and Overall Score for ambas/ac1",
          "R1 Structures: Frequency and Overall Score for ambas/lab",
          "R1 Structures: Frequency and Overall Score for ambas/lab",
          "R1 Structures: Frequency and Overall Score for ambas/ac1",
          "R1 Structures: Frequency and Overall Score for ambas/lab",
          "R1 Structures: Frequency and Overall Score for ambas/ts",
          "R1 Structures: Frequency and Overall Score for ambas/lab",
          "R1 Structures: Frequency and Overall Score for ambas/ts",
          "R1 Structures: Frequency and Overall Score for ambas/ac2",
          "R1 Structures: Frequency and Overall Score for ambas/ac1",
          "R1 Structures: Frequency and Overall Score for ambas/lab",
          "R1 Structures: Frequency and Overall Score for ambas/lab",
          "R1 Structures: Frequency and Overall Score for ambas/PI",
          "R1 Structures: Frequency and Overall Score for ambas/lab",
          "R1 Structures: Frequency and Overall Score for ambas/ts",
          "R1 Structures: Frequency and Overall Score for ambas/lab",
          "R1 Structures: Frequency and Overall Score for ambas/ts",
          "R1 Structures: Frequency and Overall Score for ambas/ac2",
          "R1 Structures: Frequency and Overall Score for ambas/ac1",
          "R1 Structures: Frequency and Overall Score for ambas/PI",
          "R1 Structures: Frequency and Overall Score for ambas/lab",
          "R1 Structures: Frequency and Overall Score for ambas/lab",
          "R1 Structures: Frequency and Overall Score for ambas/ts",
          "R1 Structures: Frequency and Overall Score for ambas/ac1",
          "R1 Structures: Frequency and Overall Score for ambas/PI",
          "R1 Structures: Frequency and Overall Score for ambas/lab",
          "R1 Structures: Frequency and Overall Score for ambas/ts",
          "R1 Structures: Frequency and Overall Score for ambas/lab",
          "R1 Structures: Frequency and Overall Score for ambas/ts",
          "R1 Structures: Frequency and Overall Score for ambas/m",
          "R1 Structures: Frequency and Overall Score for ambas/lab",
          "R1 Structures: Frequency and Overall Score for ambas/ts",
          "R1 Structures: Frequency and Overall Score for ambas/ts",
          "R1 Structures: Frequency and Overall Score for ambas/m",
          "R1 Structures: Frequency and Overall Score for ambas/lab",
          "R1 Structures: Frequency and Overall Score for ambas/ts",
          "R1 Structures: Frequency and Overall Score for ambas/m",
          "R1 Structures: Frequency and Overall Score for ambas/lab",
          "R1 Structures: Frequency and Overall Score for ambas/ts",
          "R1 Structures: Frequency and Overall Score for ambas",
          "R1 Structures: Frequency and Overall Score for ambas",
          "R1 Structures: Frequency and Overall Score for ambas",
          "R1 Structures: Frequency and Overall Score for ambas",
          "R1 Structures: Frequency and Overall Score for ambas",
          "R1 Structures: Frequency and Overall Score for ambas",
          ""
         ],
         "type": "treemap",
         "values": [
          6,
          2,
          2,
          3,
          112,
          4,
          7,
          1,
          25,
          2,
          1,
          2,
          5,
          200,
          38,
          5,
          2,
          171,
          4,
          2,
          6,
          1,
          17,
          13,
          68,
          33,
          9,
          4,
          2,
          351,
          9,
          7,
          28,
          2,
          158,
          10,
          2,
          11,
          26,
          8,
          3,
          1,
          3,
          17,
          334,
          9,
          905,
          16,
          85,
          1366
         ]
        }
       ],
       "layout": {
        "coloraxis": {
         "cmid": 144.30885882929329,
         "colorbar": {
          "title": {
           "text": "ave_score_ambas"
          }
         },
         "colorscale": [
          [
           0,
           "rgb(103,0,31)"
          ],
          [
           0.1,
           "rgb(178,24,43)"
          ],
          [
           0.2,
           "rgb(214,96,77)"
          ],
          [
           0.3,
           "rgb(244,165,130)"
          ],
          [
           0.4,
           "rgb(253,219,199)"
          ],
          [
           0.5,
           "rgb(247,247,247)"
          ],
          [
           0.6,
           "rgb(209,229,240)"
          ],
          [
           0.7,
           "rgb(146,197,222)"
          ],
          [
           0.8,
           "rgb(67,147,195)"
          ],
          [
           0.9,
           "rgb(33,102,172)"
          ],
          [
           1,
           "rgb(5,48,97)"
          ]
         ]
        },
        "legend": {
         "tracegroupgap": 0
        },
        "margin": {
         "b": 25,
         "l": 25,
         "r": 25,
         "t": 50
        },
        "template": {
         "data": {
          "bar": [
           {
            "error_x": {
             "color": "#2a3f5f"
            },
            "error_y": {
             "color": "#2a3f5f"
            },
            "marker": {
             "line": {
              "color": "#E5ECF6",
              "width": 0.5
             },
             "pattern": {
              "fillmode": "overlay",
              "size": 10,
              "solidity": 0.2
             }
            },
            "type": "bar"
           }
          ],
          "barpolar": [
           {
            "marker": {
             "line": {
              "color": "#E5ECF6",
              "width": 0.5
             },
             "pattern": {
              "fillmode": "overlay",
              "size": 10,
              "solidity": 0.2
             }
            },
            "type": "barpolar"
           }
          ],
          "carpet": [
           {
            "aaxis": {
             "endlinecolor": "#2a3f5f",
             "gridcolor": "white",
             "linecolor": "white",
             "minorgridcolor": "white",
             "startlinecolor": "#2a3f5f"
            },
            "baxis": {
             "endlinecolor": "#2a3f5f",
             "gridcolor": "white",
             "linecolor": "white",
             "minorgridcolor": "white",
             "startlinecolor": "#2a3f5f"
            },
            "type": "carpet"
           }
          ],
          "choropleth": [
           {
            "colorbar": {
             "outlinewidth": 0,
             "ticks": ""
            },
            "type": "choropleth"
           }
          ],
          "contour": [
           {
            "colorbar": {
             "outlinewidth": 0,
             "ticks": ""
            },
            "colorscale": [
             [
              0,
              "#0d0887"
             ],
             [
              0.1111111111111111,
              "#46039f"
             ],
             [
              0.2222222222222222,
              "#7201a8"
             ],
             [
              0.3333333333333333,
              "#9c179e"
             ],
             [
              0.4444444444444444,
              "#bd3786"
             ],
             [
              0.5555555555555556,
              "#d8576b"
             ],
             [
              0.6666666666666666,
              "#ed7953"
             ],
             [
              0.7777777777777778,
              "#fb9f3a"
             ],
             [
              0.8888888888888888,
              "#fdca26"
             ],
             [
              1,
              "#f0f921"
             ]
            ],
            "type": "contour"
           }
          ],
          "contourcarpet": [
           {
            "colorbar": {
             "outlinewidth": 0,
             "ticks": ""
            },
            "type": "contourcarpet"
           }
          ],
          "heatmap": [
           {
            "colorbar": {
             "outlinewidth": 0,
             "ticks": ""
            },
            "colorscale": [
             [
              0,
              "#0d0887"
             ],
             [
              0.1111111111111111,
              "#46039f"
             ],
             [
              0.2222222222222222,
              "#7201a8"
             ],
             [
              0.3333333333333333,
              "#9c179e"
             ],
             [
              0.4444444444444444,
              "#bd3786"
             ],
             [
              0.5555555555555556,
              "#d8576b"
             ],
             [
              0.6666666666666666,
              "#ed7953"
             ],
             [
              0.7777777777777778,
              "#fb9f3a"
             ],
             [
              0.8888888888888888,
              "#fdca26"
             ],
             [
              1,
              "#f0f921"
             ]
            ],
            "type": "heatmap"
           }
          ],
          "heatmapgl": [
           {
            "colorbar": {
             "outlinewidth": 0,
             "ticks": ""
            },
            "colorscale": [
             [
              0,
              "#0d0887"
             ],
             [
              0.1111111111111111,
              "#46039f"
             ],
             [
              0.2222222222222222,
              "#7201a8"
             ],
             [
              0.3333333333333333,
              "#9c179e"
             ],
             [
              0.4444444444444444,
              "#bd3786"
             ],
             [
              0.5555555555555556,
              "#d8576b"
             ],
             [
              0.6666666666666666,
              "#ed7953"
             ],
             [
              0.7777777777777778,
              "#fb9f3a"
             ],
             [
              0.8888888888888888,
              "#fdca26"
             ],
             [
              1,
              "#f0f921"
             ]
            ],
            "type": "heatmapgl"
           }
          ],
          "histogram": [
           {
            "marker": {
             "pattern": {
              "fillmode": "overlay",
              "size": 10,
              "solidity": 0.2
             }
            },
            "type": "histogram"
           }
          ],
          "histogram2d": [
           {
            "colorbar": {
             "outlinewidth": 0,
             "ticks": ""
            },
            "colorscale": [
             [
              0,
              "#0d0887"
             ],
             [
              0.1111111111111111,
              "#46039f"
             ],
             [
              0.2222222222222222,
              "#7201a8"
             ],
             [
              0.3333333333333333,
              "#9c179e"
             ],
             [
              0.4444444444444444,
              "#bd3786"
             ],
             [
              0.5555555555555556,
              "#d8576b"
             ],
             [
              0.6666666666666666,
              "#ed7953"
             ],
             [
              0.7777777777777778,
              "#fb9f3a"
             ],
             [
              0.8888888888888888,
              "#fdca26"
             ],
             [
              1,
              "#f0f921"
             ]
            ],
            "type": "histogram2d"
           }
          ],
          "histogram2dcontour": [
           {
            "colorbar": {
             "outlinewidth": 0,
             "ticks": ""
            },
            "colorscale": [
             [
              0,
              "#0d0887"
             ],
             [
              0.1111111111111111,
              "#46039f"
             ],
             [
              0.2222222222222222,
              "#7201a8"
             ],
             [
              0.3333333333333333,
              "#9c179e"
             ],
             [
              0.4444444444444444,
              "#bd3786"
             ],
             [
              0.5555555555555556,
              "#d8576b"
             ],
             [
              0.6666666666666666,
              "#ed7953"
             ],
             [
              0.7777777777777778,
              "#fb9f3a"
             ],
             [
              0.8888888888888888,
              "#fdca26"
             ],
             [
              1,
              "#f0f921"
             ]
            ],
            "type": "histogram2dcontour"
           }
          ],
          "mesh3d": [
           {
            "colorbar": {
             "outlinewidth": 0,
             "ticks": ""
            },
            "type": "mesh3d"
           }
          ],
          "parcoords": [
           {
            "line": {
             "colorbar": {
              "outlinewidth": 0,
              "ticks": ""
             }
            },
            "type": "parcoords"
           }
          ],
          "pie": [
           {
            "automargin": true,
            "type": "pie"
           }
          ],
          "scatter": [
           {
            "marker": {
             "colorbar": {
              "outlinewidth": 0,
              "ticks": ""
             }
            },
            "type": "scatter"
           }
          ],
          "scatter3d": [
           {
            "line": {
             "colorbar": {
              "outlinewidth": 0,
              "ticks": ""
             }
            },
            "marker": {
             "colorbar": {
              "outlinewidth": 0,
              "ticks": ""
             }
            },
            "type": "scatter3d"
           }
          ],
          "scattercarpet": [
           {
            "marker": {
             "colorbar": {
              "outlinewidth": 0,
              "ticks": ""
             }
            },
            "type": "scattercarpet"
           }
          ],
          "scattergeo": [
           {
            "marker": {
             "colorbar": {
              "outlinewidth": 0,
              "ticks": ""
             }
            },
            "type": "scattergeo"
           }
          ],
          "scattergl": [
           {
            "marker": {
             "colorbar": {
              "outlinewidth": 0,
              "ticks": ""
             }
            },
            "type": "scattergl"
           }
          ],
          "scattermapbox": [
           {
            "marker": {
             "colorbar": {
              "outlinewidth": 0,
              "ticks": ""
             }
            },
            "type": "scattermapbox"
           }
          ],
          "scatterpolar": [
           {
            "marker": {
             "colorbar": {
              "outlinewidth": 0,
              "ticks": ""
             }
            },
            "type": "scatterpolar"
           }
          ],
          "scatterpolargl": [
           {
            "marker": {
             "colorbar": {
              "outlinewidth": 0,
              "ticks": ""
             }
            },
            "type": "scatterpolargl"
           }
          ],
          "scatterternary": [
           {
            "marker": {
             "colorbar": {
              "outlinewidth": 0,
              "ticks": ""
             }
            },
            "type": "scatterternary"
           }
          ],
          "surface": [
           {
            "colorbar": {
             "outlinewidth": 0,
             "ticks": ""
            },
            "colorscale": [
             [
              0,
              "#0d0887"
             ],
             [
              0.1111111111111111,
              "#46039f"
             ],
             [
              0.2222222222222222,
              "#7201a8"
             ],
             [
              0.3333333333333333,
              "#9c179e"
             ],
             [
              0.4444444444444444,
              "#bd3786"
             ],
             [
              0.5555555555555556,
              "#d8576b"
             ],
             [
              0.6666666666666666,
              "#ed7953"
             ],
             [
              0.7777777777777778,
              "#fb9f3a"
             ],
             [
              0.8888888888888888,
              "#fdca26"
             ],
             [
              1,
              "#f0f921"
             ]
            ],
            "type": "surface"
           }
          ],
          "table": [
           {
            "cells": {
             "fill": {
              "color": "#EBF0F8"
             },
             "line": {
              "color": "white"
             }
            },
            "header": {
             "fill": {
              "color": "#C8D4E3"
             },
             "line": {
              "color": "white"
             }
            },
            "type": "table"
           }
          ]
         },
         "layout": {
          "annotationdefaults": {
           "arrowcolor": "#2a3f5f",
           "arrowhead": 0,
           "arrowwidth": 1
          },
          "autotypenumbers": "strict",
          "coloraxis": {
           "colorbar": {
            "outlinewidth": 0,
            "ticks": ""
           }
          },
          "colorscale": {
           "diverging": [
            [
             0,
             "#8e0152"
            ],
            [
             0.1,
             "#c51b7d"
            ],
            [
             0.2,
             "#de77ae"
            ],
            [
             0.3,
             "#f1b6da"
            ],
            [
             0.4,
             "#fde0ef"
            ],
            [
             0.5,
             "#f7f7f7"
            ],
            [
             0.6,
             "#e6f5d0"
            ],
            [
             0.7,
             "#b8e186"
            ],
            [
             0.8,
             "#7fbc41"
            ],
            [
             0.9,
             "#4d9221"
            ],
            [
             1,
             "#276419"
            ]
           ],
           "sequential": [
            [
             0,
             "#0d0887"
            ],
            [
             0.1111111111111111,
             "#46039f"
            ],
            [
             0.2222222222222222,
             "#7201a8"
            ],
            [
             0.3333333333333333,
             "#9c179e"
            ],
            [
             0.4444444444444444,
             "#bd3786"
            ],
            [
             0.5555555555555556,
             "#d8576b"
            ],
            [
             0.6666666666666666,
             "#ed7953"
            ],
            [
             0.7777777777777778,
             "#fb9f3a"
            ],
            [
             0.8888888888888888,
             "#fdca26"
            ],
            [
             1,
             "#f0f921"
            ]
           ],
           "sequentialminus": [
            [
             0,
             "#0d0887"
            ],
            [
             0.1111111111111111,
             "#46039f"
            ],
            [
             0.2222222222222222,
             "#7201a8"
            ],
            [
             0.3333333333333333,
             "#9c179e"
            ],
            [
             0.4444444444444444,
             "#bd3786"
            ],
            [
             0.5555555555555556,
             "#d8576b"
            ],
            [
             0.6666666666666666,
             "#ed7953"
            ],
            [
             0.7777777777777778,
             "#fb9f3a"
            ],
            [
             0.8888888888888888,
             "#fdca26"
            ],
            [
             1,
             "#f0f921"
            ]
           ]
          },
          "colorway": [
           "#636efa",
           "#EF553B",
           "#00cc96",
           "#ab63fa",
           "#FFA15A",
           "#19d3f3",
           "#FF6692",
           "#B6E880",
           "#FF97FF",
           "#FECB52"
          ],
          "font": {
           "color": "#2a3f5f"
          },
          "geo": {
           "bgcolor": "white",
           "lakecolor": "white",
           "landcolor": "#E5ECF6",
           "showlakes": true,
           "showland": true,
           "subunitcolor": "white"
          },
          "hoverlabel": {
           "align": "left"
          },
          "hovermode": "closest",
          "mapbox": {
           "style": "light"
          },
          "paper_bgcolor": "white",
          "plot_bgcolor": "#E5ECF6",
          "polar": {
           "angularaxis": {
            "gridcolor": "white",
            "linecolor": "white",
            "ticks": ""
           },
           "bgcolor": "#E5ECF6",
           "radialaxis": {
            "gridcolor": "white",
            "linecolor": "white",
            "ticks": ""
           }
          },
          "scene": {
           "xaxis": {
            "backgroundcolor": "#E5ECF6",
            "gridcolor": "white",
            "gridwidth": 2,
            "linecolor": "white",
            "showbackground": true,
            "ticks": "",
            "zerolinecolor": "white"
           },
           "yaxis": {
            "backgroundcolor": "#E5ECF6",
            "gridcolor": "white",
            "gridwidth": 2,
            "linecolor": "white",
            "showbackground": true,
            "ticks": "",
            "zerolinecolor": "white"
           },
           "zaxis": {
            "backgroundcolor": "#E5ECF6",
            "gridcolor": "white",
            "gridwidth": 2,
            "linecolor": "white",
            "showbackground": true,
            "ticks": "",
            "zerolinecolor": "white"
           }
          },
          "shapedefaults": {
           "line": {
            "color": "#2a3f5f"
           }
          },
          "ternary": {
           "aaxis": {
            "gridcolor": "white",
            "linecolor": "white",
            "ticks": ""
           },
           "baxis": {
            "gridcolor": "white",
            "linecolor": "white",
            "ticks": ""
           },
           "bgcolor": "#E5ECF6",
           "caxis": {
            "gridcolor": "white",
            "linecolor": "white",
            "ticks": ""
           }
          },
          "title": {
           "x": 0.05
          },
          "xaxis": {
           "automargin": true,
           "gridcolor": "white",
           "linecolor": "white",
           "ticks": "",
           "title": {
            "standoff": 15
           },
           "zerolinecolor": "white",
           "zerolinewidth": 2
          },
          "yaxis": {
           "automargin": true,
           "gridcolor": "white",
           "linecolor": "white",
           "ticks": "",
           "title": {
            "standoff": 15
           },
           "zerolinecolor": "white",
           "zerolinewidth": 2
          }
         }
        }
       }
      },
      "text/html": [
       "<div>                            <div id=\"c11e6f91-4fdd-4052-a310-a70a3815ab5a\" class=\"plotly-graph-div\" style=\"height:525px; width:100%;\"></div>            <script type=\"text/javascript\">                require([\"plotly\"], function(Plotly) {                    window.PLOTLYENV=window.PLOTLYENV || {};                                    if (document.getElementById(\"c11e6f91-4fdd-4052-a310-a70a3815ab5a\")) {                    Plotly.newPlot(                        \"c11e6f91-4fdd-4052-a310-a70a3815ab5a\",                        [{\"branchvalues\":\"total\",\"customdata\":[[128.66666666666666,139.66666666666666],[88.0,132.5],[40.0,122.0],[176.66666666666666,157.0],[226.71428571428572,146.48214285714286],[165.0,103.25],[198.42857142857142,112.14285714285714],[315.0,187.0],[128.0,121.16],[50.0,139.5],[65.0,164.0],[175.5,134.5],[143.0,149.2],[237.06,149.595],[179.71052631578948,141.05263157894737],[209.0,153.4],[67.5,117.0],[207.42105263157896,141.45029239766083],[184.5,123.0],[276.0,159.0],[220.83333333333334,150.83333333333334],[121.0,170.0],[217.64705882352942,145.2941176470588],[127.92307692307692,113.76923076923077],[179.8235294117647,135.60294117647058],[197.84848484848484,144.36363636363637],[113.77777777777777,123.55555555555556],[290.25,152.0],[108.0,126.0],[222.35327635327636,147.52136752136752],[156.0,120.33333333333333],[190.14285714285714,107.71428571428571],[210.07142857142858,142.57142857142858],[129.0,118.0],[249.36075949367088,157.75316455696202],[166.8,150.0],[121.0,154.0],[147.0,160.36363636363637],[273.46153846153845,160.15384615384616],[261.625,159.0],[201.33333333333334,181.33333333333334],[340.0,219.0],[325.6666666666667,200.66666666666666],[\"(?)\",115.58823529411765],[\"(?)\",148.47305389221557],[\"(?)\",154.11111111111111],[\"(?)\",145.80552486187844],[\"(?)\",159.0],[\"(?)\",141.85882352941175],[\"(?)\",146.04538799414348]],\"domain\":{\"x\":[0.0,1.0],\"y\":[0.0,1.0]},\"hovertemplate\":\"labels=%{label}<br>class_counts=%{value}<br>parent=%{parent}<br>id=%{id}<br>ave_elo_ambas=%{customdata[0]}<br>ave_score_ambas=%{color}<extra></extra>\",\"ids\":[\"R1 Structures: Frequency and Overall Score for ambas/lab/ 0_m / 0_ts / 2_lab / 0_pi / 0_ac1 / 0_ac2\",\"R1 Structures: Frequency and Overall Score for ambas/lab/ 0_m / 1_ts / 1_lab / 0_pi / 0_ac1 / 0_ac2\",\"R1 Structures: Frequency and Overall Score for ambas/ts/ 0_m / 3_ts / 0_lab / 0_pi / 0_ac1 / 0_ac2\",\"R1 Structures: Frequency and Overall Score for ambas/ac2/ 1_m / 0_ts / 0_lab / 0_pi / 0_ac1 / 1_ac2\",\"R1 Structures: Frequency and Overall Score for ambas/ac1/ 1_m / 0_ts / 0_lab / 0_pi / 1_ac1 / 0_ac2\",\"R1 Structures: Frequency and Overall Score for ambas/lab/ 1_m / 0_ts / 1_lab / 0_pi / 0_ac1 / 0_ac2\",\"R1 Structures: Frequency and Overall Score for ambas/lab/ 1_m / 0_ts / 2_lab / 0_pi / 0_ac1 / 0_ac2\",\"R1 Structures: Frequency and Overall Score for ambas/ac1/ 1_m / 1_ts / 0_lab / 0_pi / 1_ac1 / 0_ac2\",\"R1 Structures: Frequency and Overall Score for ambas/lab/ 1_m / 1_ts / 1_lab / 0_pi / 0_ac1 / 0_ac2\",\"R1 Structures: Frequency and Overall Score for ambas/ts/ 1_m / 2_ts / 0_lab / 0_pi / 0_ac1 / 0_ac2\",\"R1 Structures: Frequency and Overall Score for ambas/lab/ 1_m / 2_ts / 1_lab / 0_pi / 0_ac1 / 0_ac2\",\"R1 Structures: Frequency and Overall Score for ambas/ts/ 1_m / 3_ts / 0_lab / 0_pi / 0_ac1 / 0_ac2\",\"R1 Structures: Frequency and Overall Score for ambas/ac2/ 2_m / 0_ts / 0_lab / 0_pi / 0_ac1 / 1_ac2\",\"R1 Structures: Frequency and Overall Score for ambas/ac1/ 2_m / 0_ts / 0_lab / 0_pi / 1_ac1 / 0_ac2\",\"R1 Structures: Frequency and Overall Score for ambas/lab/ 2_m / 0_ts / 1_lab / 0_pi / 0_ac1 / 0_ac2\",\"R1 Structures: Frequency and Overall Score for ambas/lab/ 2_m / 0_ts / 2_lab / 0_pi / 0_ac1 / 0_ac2\",\"R1 Structures: Frequency and Overall Score for ambas/PI/ 2_m / 1_ts / 0_lab / 1_pi / 0_ac1 / 0_ac2\",\"R1 Structures: Frequency and Overall Score for ambas/lab/ 2_m / 1_ts / 1_lab / 0_pi / 0_ac1 / 0_ac2\",\"R1 Structures: Frequency and Overall Score for ambas/ts/ 2_m / 2_ts / 0_lab / 0_pi / 0_ac1 / 0_ac2\",\"R1 Structures: Frequency and Overall Score for ambas/lab/ 2_m / 2_ts / 1_lab / 0_pi / 0_ac1 / 0_ac2\",\"R1 Structures: Frequency and Overall Score for ambas/ts/ 2_m / 3_ts / 0_lab / 0_pi / 0_ac1 / 0_ac2\",\"R1 Structures: Frequency and Overall Score for ambas/ac2/ 3_m / 0_ts / 0_lab / 0_pi / 0_ac1 / 1_ac2\",\"R1 Structures: Frequency and Overall Score for ambas/ac1/ 3_m / 0_ts / 0_lab / 0_pi / 1_ac1 / 0_ac2\",\"R1 Structures: Frequency and Overall Score for ambas/PI/ 3_m / 0_ts / 0_lab / 1_pi / 0_ac1 / 0_ac2\",\"R1 Structures: Frequency and Overall Score for ambas/lab/ 3_m / 0_ts / 1_lab / 0_pi / 0_ac1 / 0_ac2\",\"R1 Structures: Frequency and Overall Score for ambas/lab/ 3_m / 1_ts / 1_lab / 0_pi / 0_ac1 / 0_ac2\",\"R1 Structures: Frequency and Overall Score for ambas/ts/ 3_m / 2_ts / 0_lab / 0_pi / 0_ac1 / 0_ac2\",\"R1 Structures: Frequency and Overall Score for ambas/ac1/ 4_m / 0_ts / 0_lab / 0_pi / 1_ac1 / 0_ac2\",\"R1 Structures: Frequency and Overall Score for ambas/PI/ 4_m / 0_ts / 0_lab / 1_pi / 0_ac1 / 0_ac2\",\"R1 Structures: Frequency and Overall Score for ambas/lab/ 4_m / 0_ts / 1_lab / 0_pi / 0_ac1 / 0_ac2\",\"R1 Structures: Frequency and Overall Score for ambas/ts/ 4_m / 1_ts / 0_lab / 0_pi / 0_ac1 / 0_ac2\",\"R1 Structures: Frequency and Overall Score for ambas/lab/ 4_m / 1_ts / 1_lab / 0_pi / 0_ac1 / 0_ac2\",\"R1 Structures: Frequency and Overall Score for ambas/ts/ 4_m / 2_ts / 0_lab / 0_pi / 0_ac1 / 0_ac2\",\"R1 Structures: Frequency and Overall Score for ambas/m/ 5_m / 0_ts / 0_lab / 0_pi / 0_ac1 / 0_ac2\",\"R1 Structures: Frequency and Overall Score for ambas/lab/ 5_m / 0_ts / 1_lab / 0_pi / 0_ac1 / 0_ac2\",\"R1 Structures: Frequency and Overall Score for ambas/ts/ 5_m / 1_ts / 0_lab / 0_pi / 0_ac1 / 0_ac2\",\"R1 Structures: Frequency and Overall Score for ambas/ts/ 5_m / 2_ts / 0_lab / 0_pi / 0_ac1 / 0_ac2\",\"R1 Structures: Frequency and Overall Score for ambas/m/ 6_m / 0_ts / 0_lab / 0_pi / 0_ac1 / 0_ac2\",\"R1 Structures: Frequency and Overall Score for ambas/lab/ 6_m / 0_ts / 1_lab / 0_pi / 0_ac1 / 0_ac2\",\"R1 Structures: Frequency and Overall Score for ambas/ts/ 6_m / 1_ts / 0_lab / 0_pi / 0_ac1 / 0_ac2\",\"R1 Structures: Frequency and Overall Score for ambas/m/ 7_m / 0_ts / 0_lab / 0_pi / 0_ac1 / 0_ac2\",\"R1 Structures: Frequency and Overall Score for ambas/lab/ 7_m / 0_ts / 1_lab / 0_pi / 0_ac1 / 0_ac2\",\"R1 Structures: Frequency and Overall Score for ambas/ts/ 7_m / 1_ts / 0_lab / 0_pi / 0_ac1 / 0_ac2\",\"R1 Structures: Frequency and Overall Score for ambas/PI\",\"R1 Structures: Frequency and Overall Score for ambas/ac1\",\"R1 Structures: Frequency and Overall Score for ambas/ac2\",\"R1 Structures: Frequency and Overall Score for ambas/lab\",\"R1 Structures: Frequency and Overall Score for ambas/m\",\"R1 Structures: Frequency and Overall Score for ambas/ts\",\"R1 Structures: Frequency and Overall Score for ambas\"],\"labels\":[\" 0_m / 0_ts / 2_lab / 0_pi / 0_ac1 / 0_ac2\",\" 0_m / 1_ts / 1_lab / 0_pi / 0_ac1 / 0_ac2\",\" 0_m / 3_ts / 0_lab / 0_pi / 0_ac1 / 0_ac2\",\" 1_m / 0_ts / 0_lab / 0_pi / 0_ac1 / 1_ac2\",\" 1_m / 0_ts / 0_lab / 0_pi / 1_ac1 / 0_ac2\",\" 1_m / 0_ts / 1_lab / 0_pi / 0_ac1 / 0_ac2\",\" 1_m / 0_ts / 2_lab / 0_pi / 0_ac1 / 0_ac2\",\" 1_m / 1_ts / 0_lab / 0_pi / 1_ac1 / 0_ac2\",\" 1_m / 1_ts / 1_lab / 0_pi / 0_ac1 / 0_ac2\",\" 1_m / 2_ts / 0_lab / 0_pi / 0_ac1 / 0_ac2\",\" 1_m / 2_ts / 1_lab / 0_pi / 0_ac1 / 0_ac2\",\" 1_m / 3_ts / 0_lab / 0_pi / 0_ac1 / 0_ac2\",\" 2_m / 0_ts / 0_lab / 0_pi / 0_ac1 / 1_ac2\",\" 2_m / 0_ts / 0_lab / 0_pi / 1_ac1 / 0_ac2\",\" 2_m / 0_ts / 1_lab / 0_pi / 0_ac1 / 0_ac2\",\" 2_m / 0_ts / 2_lab / 0_pi / 0_ac1 / 0_ac2\",\" 2_m / 1_ts / 0_lab / 1_pi / 0_ac1 / 0_ac2\",\" 2_m / 1_ts / 1_lab / 0_pi / 0_ac1 / 0_ac2\",\" 2_m / 2_ts / 0_lab / 0_pi / 0_ac1 / 0_ac2\",\" 2_m / 2_ts / 1_lab / 0_pi / 0_ac1 / 0_ac2\",\" 2_m / 3_ts / 0_lab / 0_pi / 0_ac1 / 0_ac2\",\" 3_m / 0_ts / 0_lab / 0_pi / 0_ac1 / 1_ac2\",\" 3_m / 0_ts / 0_lab / 0_pi / 1_ac1 / 0_ac2\",\" 3_m / 0_ts / 0_lab / 1_pi / 0_ac1 / 0_ac2\",\" 3_m / 0_ts / 1_lab / 0_pi / 0_ac1 / 0_ac2\",\" 3_m / 1_ts / 1_lab / 0_pi / 0_ac1 / 0_ac2\",\" 3_m / 2_ts / 0_lab / 0_pi / 0_ac1 / 0_ac2\",\" 4_m / 0_ts / 0_lab / 0_pi / 1_ac1 / 0_ac2\",\" 4_m / 0_ts / 0_lab / 1_pi / 0_ac1 / 0_ac2\",\" 4_m / 0_ts / 1_lab / 0_pi / 0_ac1 / 0_ac2\",\" 4_m / 1_ts / 0_lab / 0_pi / 0_ac1 / 0_ac2\",\" 4_m / 1_ts / 1_lab / 0_pi / 0_ac1 / 0_ac2\",\" 4_m / 2_ts / 0_lab / 0_pi / 0_ac1 / 0_ac2\",\" 5_m / 0_ts / 0_lab / 0_pi / 0_ac1 / 0_ac2\",\" 5_m / 0_ts / 1_lab / 0_pi / 0_ac1 / 0_ac2\",\" 5_m / 1_ts / 0_lab / 0_pi / 0_ac1 / 0_ac2\",\" 5_m / 2_ts / 0_lab / 0_pi / 0_ac1 / 0_ac2\",\" 6_m / 0_ts / 0_lab / 0_pi / 0_ac1 / 0_ac2\",\" 6_m / 0_ts / 1_lab / 0_pi / 0_ac1 / 0_ac2\",\" 6_m / 1_ts / 0_lab / 0_pi / 0_ac1 / 0_ac2\",\" 7_m / 0_ts / 0_lab / 0_pi / 0_ac1 / 0_ac2\",\" 7_m / 0_ts / 1_lab / 0_pi / 0_ac1 / 0_ac2\",\" 7_m / 1_ts / 0_lab / 0_pi / 0_ac1 / 0_ac2\",\"PI\",\"ac1\",\"ac2\",\"lab\",\"m\",\"ts\",\"R1 Structures: Frequency and Overall Score for ambas\"],\"marker\":{\"coloraxis\":\"coloraxis\",\"colors\":[139.66666666666666,132.5,122.0,157.0,146.48214285714286,103.25,112.14285714285714,187.0,121.16,139.5,164.0,134.5,149.2,149.595,141.05263157894737,153.4,117.0,141.45029239766083,123.0,159.0,150.83333333333334,170.0,145.2941176470588,113.76923076923077,135.60294117647058,144.36363636363637,123.55555555555556,152.0,126.0,147.52136752136752,120.33333333333333,107.71428571428571,142.57142857142858,118.0,157.75316455696202,150.0,154.0,160.36363636363637,160.15384615384616,159.0,181.33333333333334,219.0,200.66666666666666,115.58823529411765,148.47305389221557,154.11111111111111,145.80552486187844,159.0,141.85882352941175,146.04538799414348]},\"name\":\"\",\"parents\":[\"R1 Structures: Frequency and Overall Score for ambas/lab\",\"R1 Structures: Frequency and Overall Score for ambas/lab\",\"R1 Structures: Frequency and Overall Score for ambas/ts\",\"R1 Structures: Frequency and Overall Score for ambas/ac2\",\"R1 Structures: Frequency and Overall Score for ambas/ac1\",\"R1 Structures: Frequency and Overall Score for ambas/lab\",\"R1 Structures: Frequency and Overall Score for ambas/lab\",\"R1 Structures: Frequency and Overall Score for ambas/ac1\",\"R1 Structures: Frequency and Overall Score for ambas/lab\",\"R1 Structures: Frequency and Overall Score for ambas/ts\",\"R1 Structures: Frequency and Overall Score for ambas/lab\",\"R1 Structures: Frequency and Overall Score for ambas/ts\",\"R1 Structures: Frequency and Overall Score for ambas/ac2\",\"R1 Structures: Frequency and Overall Score for ambas/ac1\",\"R1 Structures: Frequency and Overall Score for ambas/lab\",\"R1 Structures: Frequency and Overall Score for ambas/lab\",\"R1 Structures: Frequency and Overall Score for ambas/PI\",\"R1 Structures: Frequency and Overall Score for ambas/lab\",\"R1 Structures: Frequency and Overall Score for ambas/ts\",\"R1 Structures: Frequency and Overall Score for ambas/lab\",\"R1 Structures: Frequency and Overall Score for ambas/ts\",\"R1 Structures: Frequency and Overall Score for ambas/ac2\",\"R1 Structures: Frequency and Overall Score for ambas/ac1\",\"R1 Structures: Frequency and Overall Score for ambas/PI\",\"R1 Structures: Frequency and Overall Score for ambas/lab\",\"R1 Structures: Frequency and Overall Score for ambas/lab\",\"R1 Structures: Frequency and Overall Score for ambas/ts\",\"R1 Structures: Frequency and Overall Score for ambas/ac1\",\"R1 Structures: Frequency and Overall Score for ambas/PI\",\"R1 Structures: Frequency and Overall Score for ambas/lab\",\"R1 Structures: Frequency and Overall Score for ambas/ts\",\"R1 Structures: Frequency and Overall Score for ambas/lab\",\"R1 Structures: Frequency and Overall Score for ambas/ts\",\"R1 Structures: Frequency and Overall Score for ambas/m\",\"R1 Structures: Frequency and Overall Score for ambas/lab\",\"R1 Structures: Frequency and Overall Score for ambas/ts\",\"R1 Structures: Frequency and Overall Score for ambas/ts\",\"R1 Structures: Frequency and Overall Score for ambas/m\",\"R1 Structures: Frequency and Overall Score for ambas/lab\",\"R1 Structures: Frequency and Overall Score for ambas/ts\",\"R1 Structures: Frequency and Overall Score for ambas/m\",\"R1 Structures: Frequency and Overall Score for ambas/lab\",\"R1 Structures: Frequency and Overall Score for ambas/ts\",\"R1 Structures: Frequency and Overall Score for ambas\",\"R1 Structures: Frequency and Overall Score for ambas\",\"R1 Structures: Frequency and Overall Score for ambas\",\"R1 Structures: Frequency and Overall Score for ambas\",\"R1 Structures: Frequency and Overall Score for ambas\",\"R1 Structures: Frequency and Overall Score for ambas\",\"\"],\"values\":[6,2,2,3,112,4,7,1,25,2,1,2,5,200,38,5,2,171,4,2,6,1,17,13,68,33,9,4,2,351,9,7,28,2,158,10,2,11,26,8,3,1,3,17,334,9,905,16,85,1366],\"type\":\"treemap\"}],                        {\"template\":{\"data\":{\"bar\":[{\"error_x\":{\"color\":\"#2a3f5f\"},\"error_y\":{\"color\":\"#2a3f5f\"},\"marker\":{\"line\":{\"color\":\"#E5ECF6\",\"width\":0.5},\"pattern\":{\"fillmode\":\"overlay\",\"size\":10,\"solidity\":0.2}},\"type\":\"bar\"}],\"barpolar\":[{\"marker\":{\"line\":{\"color\":\"#E5ECF6\",\"width\":0.5},\"pattern\":{\"fillmode\":\"overlay\",\"size\":10,\"solidity\":0.2}},\"type\":\"barpolar\"}],\"carpet\":[{\"aaxis\":{\"endlinecolor\":\"#2a3f5f\",\"gridcolor\":\"white\",\"linecolor\":\"white\",\"minorgridcolor\":\"white\",\"startlinecolor\":\"#2a3f5f\"},\"baxis\":{\"endlinecolor\":\"#2a3f5f\",\"gridcolor\":\"white\",\"linecolor\":\"white\",\"minorgridcolor\":\"white\",\"startlinecolor\":\"#2a3f5f\"},\"type\":\"carpet\"}],\"choropleth\":[{\"colorbar\":{\"outlinewidth\":0,\"ticks\":\"\"},\"type\":\"choropleth\"}],\"contour\":[{\"colorbar\":{\"outlinewidth\":0,\"ticks\":\"\"},\"colorscale\":[[0.0,\"#0d0887\"],[0.1111111111111111,\"#46039f\"],[0.2222222222222222,\"#7201a8\"],[0.3333333333333333,\"#9c179e\"],[0.4444444444444444,\"#bd3786\"],[0.5555555555555556,\"#d8576b\"],[0.6666666666666666,\"#ed7953\"],[0.7777777777777778,\"#fb9f3a\"],[0.8888888888888888,\"#fdca26\"],[1.0,\"#f0f921\"]],\"type\":\"contour\"}],\"contourcarpet\":[{\"colorbar\":{\"outlinewidth\":0,\"ticks\":\"\"},\"type\":\"contourcarpet\"}],\"heatmap\":[{\"colorbar\":{\"outlinewidth\":0,\"ticks\":\"\"},\"colorscale\":[[0.0,\"#0d0887\"],[0.1111111111111111,\"#46039f\"],[0.2222222222222222,\"#7201a8\"],[0.3333333333333333,\"#9c179e\"],[0.4444444444444444,\"#bd3786\"],[0.5555555555555556,\"#d8576b\"],[0.6666666666666666,\"#ed7953\"],[0.7777777777777778,\"#fb9f3a\"],[0.8888888888888888,\"#fdca26\"],[1.0,\"#f0f921\"]],\"type\":\"heatmap\"}],\"heatmapgl\":[{\"colorbar\":{\"outlinewidth\":0,\"ticks\":\"\"},\"colorscale\":[[0.0,\"#0d0887\"],[0.1111111111111111,\"#46039f\"],[0.2222222222222222,\"#7201a8\"],[0.3333333333333333,\"#9c179e\"],[0.4444444444444444,\"#bd3786\"],[0.5555555555555556,\"#d8576b\"],[0.6666666666666666,\"#ed7953\"],[0.7777777777777778,\"#fb9f3a\"],[0.8888888888888888,\"#fdca26\"],[1.0,\"#f0f921\"]],\"type\":\"heatmapgl\"}],\"histogram\":[{\"marker\":{\"pattern\":{\"fillmode\":\"overlay\",\"size\":10,\"solidity\":0.2}},\"type\":\"histogram\"}],\"histogram2d\":[{\"colorbar\":{\"outlinewidth\":0,\"ticks\":\"\"},\"colorscale\":[[0.0,\"#0d0887\"],[0.1111111111111111,\"#46039f\"],[0.2222222222222222,\"#7201a8\"],[0.3333333333333333,\"#9c179e\"],[0.4444444444444444,\"#bd3786\"],[0.5555555555555556,\"#d8576b\"],[0.6666666666666666,\"#ed7953\"],[0.7777777777777778,\"#fb9f3a\"],[0.8888888888888888,\"#fdca26\"],[1.0,\"#f0f921\"]],\"type\":\"histogram2d\"}],\"histogram2dcontour\":[{\"colorbar\":{\"outlinewidth\":0,\"ticks\":\"\"},\"colorscale\":[[0.0,\"#0d0887\"],[0.1111111111111111,\"#46039f\"],[0.2222222222222222,\"#7201a8\"],[0.3333333333333333,\"#9c179e\"],[0.4444444444444444,\"#bd3786\"],[0.5555555555555556,\"#d8576b\"],[0.6666666666666666,\"#ed7953\"],[0.7777777777777778,\"#fb9f3a\"],[0.8888888888888888,\"#fdca26\"],[1.0,\"#f0f921\"]],\"type\":\"histogram2dcontour\"}],\"mesh3d\":[{\"colorbar\":{\"outlinewidth\":0,\"ticks\":\"\"},\"type\":\"mesh3d\"}],\"parcoords\":[{\"line\":{\"colorbar\":{\"outlinewidth\":0,\"ticks\":\"\"}},\"type\":\"parcoords\"}],\"pie\":[{\"automargin\":true,\"type\":\"pie\"}],\"scatter\":[{\"marker\":{\"colorbar\":{\"outlinewidth\":0,\"ticks\":\"\"}},\"type\":\"scatter\"}],\"scatter3d\":[{\"line\":{\"colorbar\":{\"outlinewidth\":0,\"ticks\":\"\"}},\"marker\":{\"colorbar\":{\"outlinewidth\":0,\"ticks\":\"\"}},\"type\":\"scatter3d\"}],\"scattercarpet\":[{\"marker\":{\"colorbar\":{\"outlinewidth\":0,\"ticks\":\"\"}},\"type\":\"scattercarpet\"}],\"scattergeo\":[{\"marker\":{\"colorbar\":{\"outlinewidth\":0,\"ticks\":\"\"}},\"type\":\"scattergeo\"}],\"scattergl\":[{\"marker\":{\"colorbar\":{\"outlinewidth\":0,\"ticks\":\"\"}},\"type\":\"scattergl\"}],\"scattermapbox\":[{\"marker\":{\"colorbar\":{\"outlinewidth\":0,\"ticks\":\"\"}},\"type\":\"scattermapbox\"}],\"scatterpolar\":[{\"marker\":{\"colorbar\":{\"outlinewidth\":0,\"ticks\":\"\"}},\"type\":\"scatterpolar\"}],\"scatterpolargl\":[{\"marker\":{\"colorbar\":{\"outlinewidth\":0,\"ticks\":\"\"}},\"type\":\"scatterpolargl\"}],\"scatterternary\":[{\"marker\":{\"colorbar\":{\"outlinewidth\":0,\"ticks\":\"\"}},\"type\":\"scatterternary\"}],\"surface\":[{\"colorbar\":{\"outlinewidth\":0,\"ticks\":\"\"},\"colorscale\":[[0.0,\"#0d0887\"],[0.1111111111111111,\"#46039f\"],[0.2222222222222222,\"#7201a8\"],[0.3333333333333333,\"#9c179e\"],[0.4444444444444444,\"#bd3786\"],[0.5555555555555556,\"#d8576b\"],[0.6666666666666666,\"#ed7953\"],[0.7777777777777778,\"#fb9f3a\"],[0.8888888888888888,\"#fdca26\"],[1.0,\"#f0f921\"]],\"type\":\"surface\"}],\"table\":[{\"cells\":{\"fill\":{\"color\":\"#EBF0F8\"},\"line\":{\"color\":\"white\"}},\"header\":{\"fill\":{\"color\":\"#C8D4E3\"},\"line\":{\"color\":\"white\"}},\"type\":\"table\"}]},\"layout\":{\"annotationdefaults\":{\"arrowcolor\":\"#2a3f5f\",\"arrowhead\":0,\"arrowwidth\":1},\"autotypenumbers\":\"strict\",\"coloraxis\":{\"colorbar\":{\"outlinewidth\":0,\"ticks\":\"\"}},\"colorscale\":{\"diverging\":[[0,\"#8e0152\"],[0.1,\"#c51b7d\"],[0.2,\"#de77ae\"],[0.3,\"#f1b6da\"],[0.4,\"#fde0ef\"],[0.5,\"#f7f7f7\"],[0.6,\"#e6f5d0\"],[0.7,\"#b8e186\"],[0.8,\"#7fbc41\"],[0.9,\"#4d9221\"],[1,\"#276419\"]],\"sequential\":[[0.0,\"#0d0887\"],[0.1111111111111111,\"#46039f\"],[0.2222222222222222,\"#7201a8\"],[0.3333333333333333,\"#9c179e\"],[0.4444444444444444,\"#bd3786\"],[0.5555555555555556,\"#d8576b\"],[0.6666666666666666,\"#ed7953\"],[0.7777777777777778,\"#fb9f3a\"],[0.8888888888888888,\"#fdca26\"],[1.0,\"#f0f921\"]],\"sequentialminus\":[[0.0,\"#0d0887\"],[0.1111111111111111,\"#46039f\"],[0.2222222222222222,\"#7201a8\"],[0.3333333333333333,\"#9c179e\"],[0.4444444444444444,\"#bd3786\"],[0.5555555555555556,\"#d8576b\"],[0.6666666666666666,\"#ed7953\"],[0.7777777777777778,\"#fb9f3a\"],[0.8888888888888888,\"#fdca26\"],[1.0,\"#f0f921\"]]},\"colorway\":[\"#636efa\",\"#EF553B\",\"#00cc96\",\"#ab63fa\",\"#FFA15A\",\"#19d3f3\",\"#FF6692\",\"#B6E880\",\"#FF97FF\",\"#FECB52\"],\"font\":{\"color\":\"#2a3f5f\"},\"geo\":{\"bgcolor\":\"white\",\"lakecolor\":\"white\",\"landcolor\":\"#E5ECF6\",\"showlakes\":true,\"showland\":true,\"subunitcolor\":\"white\"},\"hoverlabel\":{\"align\":\"left\"},\"hovermode\":\"closest\",\"mapbox\":{\"style\":\"light\"},\"paper_bgcolor\":\"white\",\"plot_bgcolor\":\"#E5ECF6\",\"polar\":{\"angularaxis\":{\"gridcolor\":\"white\",\"linecolor\":\"white\",\"ticks\":\"\"},\"bgcolor\":\"#E5ECF6\",\"radialaxis\":{\"gridcolor\":\"white\",\"linecolor\":\"white\",\"ticks\":\"\"}},\"scene\":{\"xaxis\":{\"backgroundcolor\":\"#E5ECF6\",\"gridcolor\":\"white\",\"gridwidth\":2,\"linecolor\":\"white\",\"showbackground\":true,\"ticks\":\"\",\"zerolinecolor\":\"white\"},\"yaxis\":{\"backgroundcolor\":\"#E5ECF6\",\"gridcolor\":\"white\",\"gridwidth\":2,\"linecolor\":\"white\",\"showbackground\":true,\"ticks\":\"\",\"zerolinecolor\":\"white\"},\"zaxis\":{\"backgroundcolor\":\"#E5ECF6\",\"gridcolor\":\"white\",\"gridwidth\":2,\"linecolor\":\"white\",\"showbackground\":true,\"ticks\":\"\",\"zerolinecolor\":\"white\"}},\"shapedefaults\":{\"line\":{\"color\":\"#2a3f5f\"}},\"ternary\":{\"aaxis\":{\"gridcolor\":\"white\",\"linecolor\":\"white\",\"ticks\":\"\"},\"baxis\":{\"gridcolor\":\"white\",\"linecolor\":\"white\",\"ticks\":\"\"},\"bgcolor\":\"#E5ECF6\",\"caxis\":{\"gridcolor\":\"white\",\"linecolor\":\"white\",\"ticks\":\"\"}},\"title\":{\"x\":0.05},\"xaxis\":{\"automargin\":true,\"gridcolor\":\"white\",\"linecolor\":\"white\",\"ticks\":\"\",\"title\":{\"standoff\":15},\"zerolinecolor\":\"white\",\"zerolinewidth\":2},\"yaxis\":{\"automargin\":true,\"gridcolor\":\"white\",\"linecolor\":\"white\",\"ticks\":\"\",\"title\":{\"standoff\":15},\"zerolinecolor\":\"white\",\"zerolinewidth\":2}}},\"coloraxis\":{\"colorbar\":{\"title\":{\"text\":\"ave_score_ambas\"}},\"colorscale\":[[0.0,\"rgb(103,0,31)\"],[0.1,\"rgb(178,24,43)\"],[0.2,\"rgb(214,96,77)\"],[0.3,\"rgb(244,165,130)\"],[0.4,\"rgb(253,219,199)\"],[0.5,\"rgb(247,247,247)\"],[0.6,\"rgb(209,229,240)\"],[0.7,\"rgb(146,197,222)\"],[0.8,\"rgb(67,147,195)\"],[0.9,\"rgb(33,102,172)\"],[1.0,\"rgb(5,48,97)\"]],\"cmid\":144.30885882929329},\"legend\":{\"tracegroupgap\":0},\"margin\":{\"t\":50,\"l\":25,\"r\":25,\"b\":25}},                        {\"responsive\": true}                    ).then(function(){\n",
       "                            \n",
       "var gd = document.getElementById('c11e6f91-4fdd-4052-a310-a70a3815ab5a');\n",
       "var x = new MutationObserver(function (mutations, observer) {{\n",
       "        var display = window.getComputedStyle(gd).display;\n",
       "        if (!display || display === 'none') {{\n",
       "            console.log([gd, 'removed!']);\n",
       "            Plotly.purge(gd);\n",
       "            observer.disconnect();\n",
       "        }}\n",
       "}});\n",
       "\n",
       "// Listen for the removal of the full notebook cells\n",
       "var notebookContainer = gd.closest('#notebook-container');\n",
       "if (notebookContainer) {{\n",
       "    x.observe(notebookContainer, {childList: true});\n",
       "}}\n",
       "\n",
       "// Listen for the clearing of the current output cell\n",
       "var outputEl = gd.closest('.output');\n",
       "if (outputEl) {{\n",
       "    x.observe(outputEl, {childList: true});\n",
       "}}\n",
       "\n",
       "                        })                };                });            </script>        </div>"
      ]
     },
     "metadata": {},
     "output_type": "display_data"
    },
    {
     "data": {
      "application/vnd.plotly.v1+json": {
       "config": {
        "plotlyServerURL": "https://plot.ly"
       },
       "data": [
        {
         "branchvalues": "total",
         "customdata": [
          [
           337.6666666666667,
           174.33333333333334
          ],
          [
           248.7159090909091,
           144.48863636363637
          ],
          [
           139.6,
           128
          ],
          [
           152,
           125.6923076923077
          ],
          [
           168.5,
           121.5
          ],
          [
           202,
           134
          ],
          [
           289.5,
           103.5
          ],
          [
           251.47008547008548,
           144.46153846153845
          ],
          [
           181.27777777777777,
           118.11111111111111
          ],
          [
           121.125,
           115.6875
          ],
          [
           241.05343511450383,
           154.24427480916032
          ],
          [
           100,
           156
          ],
          [
           210.62962962962962,
           139.75925925925927
          ],
          [
           142.46875,
           116.53125
          ],
          [
           133,
           182
          ],
          [
           58,
           158
          ],
          [
           148,
           138.33333333333334
          ],
          [
           252.74,
           142.36
          ],
          [
           200.26461538461538,
           143.19692307692307
          ],
          [
           166.5375,
           127.4
          ],
          [
           288.85714285714283,
           167.28571428571428
          ],
          [
           215.21875,
           148.9375
          ],
          [
           196.76190476190476,
           143.07142857142858
          ],
          [
           202.2127659574468,
           139.31914893617022
          ],
          [
           140.0983606557377,
           130.0327868852459
          ],
          [
           361,
           180
          ],
          [
           0,
           153
          ],
          [
           211.25,
           155.57142857142858
          ],
          [
           150,
           137.43333333333334
          ],
          [
           126,
           139
          ],
          [
           138,
           157
          ],
          [
           266,
           175
          ],
          [
           220.8,
           141
          ],
          [
           152,
           117
          ],
          [
           "(?)",
           144.853164556962
          ],
          [
           "(?)",
           144.37058823529412
          ],
          [
           148,
           138.33333333333334
          ],
          [
           "(?)",
           129.8913043478261
          ],
          [
           "(?)",
           151.33333333333334
          ],
          [
           "(?)",
           141.4621578099839
          ]
         ],
         "domain": {
          "x": [
           0,
           1
          ],
          "y": [
           0,
           1
          ]
         },
         "hovertemplate": "labels=%{label}<br>class_counts=%{value}<br>parent=%{parent}<br>id=%{id}<br>ave_elo_nevlas=%{customdata[0]}<br>ave_score_nevlas=%{color}<extra></extra>",
         "ids": [
          "R1 Structures: Frequency and Overall Score for nevlas/ac1/ 0_m / 0_ts / 0_lab / 1_pi / 1_ac1 / 0_ac2",
          "R1 Structures: Frequency and Overall Score for nevlas/PI/ 0_m / 0_ts / 1_lab / 1_pi / 0_ac1 / 0_ac2",
          "R1 Structures: Frequency and Overall Score for nevlas/lab/ 0_m / 0_ts / 2_lab / 0_pi / 0_ac1 / 0_ac2",
          "R1 Structures: Frequency and Overall Score for nevlas/PI/ 0_m / 1_ts / 0_lab / 1_pi / 0_ac1 / 0_ac2",
          "R1 Structures: Frequency and Overall Score for nevlas/lab/ 0_m / 1_ts / 1_lab / 0_pi / 0_ac1 / 0_ac2",
          "R1 Structures: Frequency and Overall Score for nevlas/PI/ 0_m / 1_ts / 1_lab / 1_pi / 0_ac1 / 0_ac2",
          "R1 Structures: Frequency and Overall Score for nevlas/PI/ 0_m / 2_ts / 0_lab / 1_pi / 0_ac1 / 0_ac2",
          "R1 Structures: Frequency and Overall Score for nevlas/ac1/ 1_m / 0_ts / 0_lab / 0_pi / 1_ac1 / 0_ac2",
          "R1 Structures: Frequency and Overall Score for nevlas/PI/ 1_m / 0_ts / 0_lab / 1_pi / 0_ac1 / 0_ac2",
          "R1 Structures: Frequency and Overall Score for nevlas/lab/ 1_m / 0_ts / 1_lab / 0_pi / 0_ac1 / 0_ac2",
          "R1 Structures: Frequency and Overall Score for nevlas/PI/ 1_m / 0_ts / 1_lab / 1_pi / 0_ac1 / 0_ac2",
          "R1 Structures: Frequency and Overall Score for nevlas/lab/ 1_m / 0_ts / 2_lab / 0_pi / 0_ac1 / 0_ac2",
          "R1 Structures: Frequency and Overall Score for nevlas/PI/ 1_m / 1_ts / 0_lab / 1_pi / 0_ac1 / 0_ac2",
          "R1 Structures: Frequency and Overall Score for nevlas/lab/ 1_m / 1_ts / 1_lab / 0_pi / 0_ac1 / 0_ac2",
          "R1 Structures: Frequency and Overall Score for nevlas/PI/ 1_m / 1_ts / 1_lab / 1_pi / 0_ac1 / 0_ac2",
          "R1 Structures: Frequency and Overall Score for nevlas/ts/ 1_m / 2_ts / 0_lab / 0_pi / 0_ac1 / 0_ac2",
          "R1 Structures: Frequency and Overall Score for nevlas/ac2/ 2_m / 0_ts / 0_lab / 0_pi / 0_ac1 / 1_ac2",
          "R1 Structures: Frequency and Overall Score for nevlas/ac1/ 2_m / 0_ts / 0_lab / 0_pi / 1_ac1 / 0_ac2",
          "R1 Structures: Frequency and Overall Score for nevlas/PI/ 2_m / 0_ts / 0_lab / 1_pi / 0_ac1 / 0_ac2",
          "R1 Structures: Frequency and Overall Score for nevlas/lab/ 2_m / 0_ts / 1_lab / 0_pi / 0_ac1 / 0_ac2",
          "R1 Structures: Frequency and Overall Score for nevlas/PI/ 2_m / 0_ts / 1_lab / 1_pi / 0_ac1 / 0_ac2",
          "R1 Structures: Frequency and Overall Score for nevlas/PI/ 2_m / 1_ts / 0_lab / 1_pi / 0_ac1 / 0_ac2",
          "R1 Structures: Frequency and Overall Score for nevlas/lab/ 2_m / 1_ts / 1_lab / 0_pi / 0_ac1 / 0_ac2",
          "R1 Structures: Frequency and Overall Score for nevlas/PI/ 3_m / 0_ts / 0_lab / 1_pi / 0_ac1 / 0_ac2",
          "R1 Structures: Frequency and Overall Score for nevlas/lab/ 3_m / 0_ts / 1_lab / 0_pi / 0_ac1 / 0_ac2",
          "R1 Structures: Frequency and Overall Score for nevlas/PI/ 3_m / 0_ts / 1_lab / 1_pi / 0_ac1 / 0_ac2",
          "R1 Structures: Frequency and Overall Score for nevlas/lab/ 3_m / 1_ts / 1_lab / 0_pi / 0_ac1 / 0_ac2",
          "R1 Structures: Frequency and Overall Score for nevlas/PI/ 4_m / 0_ts / 0_lab / 1_pi / 0_ac1 / 0_ac2",
          "R1 Structures: Frequency and Overall Score for nevlas/lab/ 4_m / 0_ts / 1_lab / 0_pi / 0_ac1 / 0_ac2",
          "R1 Structures: Frequency and Overall Score for nevlas/ts/ 4_m / 1_ts / 0_lab / 0_pi / 0_ac1 / 0_ac2",
          "R1 Structures: Frequency and Overall Score for nevlas/ts/ 4_m / 2_ts / 0_lab / 0_pi / 0_ac1 / 0_ac2",
          "R1 Structures: Frequency and Overall Score for nevlas/PI/ 5_m / 0_ts / 0_lab / 1_pi / 0_ac1 / 0_ac2",
          "R1 Structures: Frequency and Overall Score for nevlas/lab/ 5_m / 0_ts / 1_lab / 0_pi / 0_ac1 / 0_ac2",
          "R1 Structures: Frequency and Overall Score for nevlas/lab/ 6_m / 0_ts / 1_lab / 0_pi / 0_ac1 / 0_ac2",
          "R1 Structures: Frequency and Overall Score for nevlas/PI",
          "R1 Structures: Frequency and Overall Score for nevlas/ac1",
          "R1 Structures: Frequency and Overall Score for nevlas/ac2",
          "R1 Structures: Frequency and Overall Score for nevlas/lab",
          "R1 Structures: Frequency and Overall Score for nevlas/ts",
          "R1 Structures: Frequency and Overall Score for nevlas"
         ],
         "labels": [
          " 0_m / 0_ts / 0_lab / 1_pi / 1_ac1 / 0_ac2",
          " 0_m / 0_ts / 1_lab / 1_pi / 0_ac1 / 0_ac2",
          " 0_m / 0_ts / 2_lab / 0_pi / 0_ac1 / 0_ac2",
          " 0_m / 1_ts / 0_lab / 1_pi / 0_ac1 / 0_ac2",
          " 0_m / 1_ts / 1_lab / 0_pi / 0_ac1 / 0_ac2",
          " 0_m / 1_ts / 1_lab / 1_pi / 0_ac1 / 0_ac2",
          " 0_m / 2_ts / 0_lab / 1_pi / 0_ac1 / 0_ac2",
          " 1_m / 0_ts / 0_lab / 0_pi / 1_ac1 / 0_ac2",
          " 1_m / 0_ts / 0_lab / 1_pi / 0_ac1 / 0_ac2",
          " 1_m / 0_ts / 1_lab / 0_pi / 0_ac1 / 0_ac2",
          " 1_m / 0_ts / 1_lab / 1_pi / 0_ac1 / 0_ac2",
          " 1_m / 0_ts / 2_lab / 0_pi / 0_ac1 / 0_ac2",
          " 1_m / 1_ts / 0_lab / 1_pi / 0_ac1 / 0_ac2",
          " 1_m / 1_ts / 1_lab / 0_pi / 0_ac1 / 0_ac2",
          " 1_m / 1_ts / 1_lab / 1_pi / 0_ac1 / 0_ac2",
          " 1_m / 2_ts / 0_lab / 0_pi / 0_ac1 / 0_ac2",
          " 2_m / 0_ts / 0_lab / 0_pi / 0_ac1 / 1_ac2",
          " 2_m / 0_ts / 0_lab / 0_pi / 1_ac1 / 0_ac2",
          " 2_m / 0_ts / 0_lab / 1_pi / 0_ac1 / 0_ac2",
          " 2_m / 0_ts / 1_lab / 0_pi / 0_ac1 / 0_ac2",
          " 2_m / 0_ts / 1_lab / 1_pi / 0_ac1 / 0_ac2",
          " 2_m / 1_ts / 0_lab / 1_pi / 0_ac1 / 0_ac2",
          " 2_m / 1_ts / 1_lab / 0_pi / 0_ac1 / 0_ac2",
          " 3_m / 0_ts / 0_lab / 1_pi / 0_ac1 / 0_ac2",
          " 3_m / 0_ts / 1_lab / 0_pi / 0_ac1 / 0_ac2",
          " 3_m / 0_ts / 1_lab / 1_pi / 0_ac1 / 0_ac2",
          " 3_m / 1_ts / 1_lab / 0_pi / 0_ac1 / 0_ac2",
          " 4_m / 0_ts / 0_lab / 1_pi / 0_ac1 / 0_ac2",
          " 4_m / 0_ts / 1_lab / 0_pi / 0_ac1 / 0_ac2",
          " 4_m / 1_ts / 0_lab / 0_pi / 0_ac1 / 0_ac2",
          " 4_m / 2_ts / 0_lab / 0_pi / 0_ac1 / 0_ac2",
          " 5_m / 0_ts / 0_lab / 1_pi / 0_ac1 / 0_ac2",
          " 5_m / 0_ts / 1_lab / 0_pi / 0_ac1 / 0_ac2",
          " 6_m / 0_ts / 1_lab / 0_pi / 0_ac1 / 0_ac2",
          "PI",
          "ac1",
          "ac2",
          "lab",
          "ts",
          "R1 Structures: Frequency and Overall Score for nevlas"
         ],
         "marker": {
          "coloraxis": "coloraxis",
          "colors": [
           174.33333333333334,
           144.48863636363637,
           128,
           125.6923076923077,
           121.5,
           134,
           103.5,
           144.46153846153845,
           118.11111111111111,
           115.6875,
           154.24427480916032,
           156,
           139.75925925925927,
           116.53125,
           182,
           158,
           138.33333333333334,
           142.36,
           143.19692307692307,
           127.4,
           167.28571428571428,
           148.9375,
           143.07142857142858,
           139.31914893617022,
           130.0327868852459,
           180,
           153,
           155.57142857142858,
           137.43333333333334,
           139,
           157,
           175,
           141,
           117,
           144.853164556962,
           144.37058823529412,
           138.33333333333334,
           129.8913043478261,
           151.33333333333334,
           141.4621578099839
          ]
         },
         "name": "",
         "parents": [
          "R1 Structures: Frequency and Overall Score for nevlas/ac1",
          "R1 Structures: Frequency and Overall Score for nevlas/PI",
          "R1 Structures: Frequency and Overall Score for nevlas/lab",
          "R1 Structures: Frequency and Overall Score for nevlas/PI",
          "R1 Structures: Frequency and Overall Score for nevlas/lab",
          "R1 Structures: Frequency and Overall Score for nevlas/PI",
          "R1 Structures: Frequency and Overall Score for nevlas/PI",
          "R1 Structures: Frequency and Overall Score for nevlas/ac1",
          "R1 Structures: Frequency and Overall Score for nevlas/PI",
          "R1 Structures: Frequency and Overall Score for nevlas/lab",
          "R1 Structures: Frequency and Overall Score for nevlas/PI",
          "R1 Structures: Frequency and Overall Score for nevlas/lab",
          "R1 Structures: Frequency and Overall Score for nevlas/PI",
          "R1 Structures: Frequency and Overall Score for nevlas/lab",
          "R1 Structures: Frequency and Overall Score for nevlas/PI",
          "R1 Structures: Frequency and Overall Score for nevlas/ts",
          "R1 Structures: Frequency and Overall Score for nevlas/ac2",
          "R1 Structures: Frequency and Overall Score for nevlas/ac1",
          "R1 Structures: Frequency and Overall Score for nevlas/PI",
          "R1 Structures: Frequency and Overall Score for nevlas/lab",
          "R1 Structures: Frequency and Overall Score for nevlas/PI",
          "R1 Structures: Frequency and Overall Score for nevlas/PI",
          "R1 Structures: Frequency and Overall Score for nevlas/lab",
          "R1 Structures: Frequency and Overall Score for nevlas/PI",
          "R1 Structures: Frequency and Overall Score for nevlas/lab",
          "R1 Structures: Frequency and Overall Score for nevlas/PI",
          "R1 Structures: Frequency and Overall Score for nevlas/lab",
          "R1 Structures: Frequency and Overall Score for nevlas/PI",
          "R1 Structures: Frequency and Overall Score for nevlas/lab",
          "R1 Structures: Frequency and Overall Score for nevlas/ts",
          "R1 Structures: Frequency and Overall Score for nevlas/ts",
          "R1 Structures: Frequency and Overall Score for nevlas/PI",
          "R1 Structures: Frequency and Overall Score for nevlas/lab",
          "R1 Structures: Frequency and Overall Score for nevlas/lab",
          "R1 Structures: Frequency and Overall Score for nevlas",
          "R1 Structures: Frequency and Overall Score for nevlas",
          "R1 Structures: Frequency and Overall Score for nevlas",
          "R1 Structures: Frequency and Overall Score for nevlas",
          "R1 Structures: Frequency and Overall Score for nevlas",
          ""
         ],
         "type": "treemap",
         "values": [
          3,
          88,
          5,
          13,
          2,
          2,
          2,
          117,
          36,
          16,
          131,
          1,
          54,
          32,
          1,
          1,
          3,
          50,
          325,
          80,
          28,
          32,
          42,
          47,
          61,
          1,
          1,
          28,
          30,
          1,
          1,
          2,
          5,
          1,
          790,
          170,
          3,
          276,
          3,
          1242
         ]
        }
       ],
       "layout": {
        "coloraxis": {
         "cmid": 144.30885882929329,
         "colorbar": {
          "title": {
           "text": "ave_score_nevlas"
          }
         },
         "colorscale": [
          [
           0,
           "rgb(103,0,31)"
          ],
          [
           0.1,
           "rgb(178,24,43)"
          ],
          [
           0.2,
           "rgb(214,96,77)"
          ],
          [
           0.3,
           "rgb(244,165,130)"
          ],
          [
           0.4,
           "rgb(253,219,199)"
          ],
          [
           0.5,
           "rgb(247,247,247)"
          ],
          [
           0.6,
           "rgb(209,229,240)"
          ],
          [
           0.7,
           "rgb(146,197,222)"
          ],
          [
           0.8,
           "rgb(67,147,195)"
          ],
          [
           0.9,
           "rgb(33,102,172)"
          ],
          [
           1,
           "rgb(5,48,97)"
          ]
         ]
        },
        "legend": {
         "tracegroupgap": 0
        },
        "margin": {
         "b": 25,
         "l": 25,
         "r": 25,
         "t": 50
        },
        "template": {
         "data": {
          "bar": [
           {
            "error_x": {
             "color": "#2a3f5f"
            },
            "error_y": {
             "color": "#2a3f5f"
            },
            "marker": {
             "line": {
              "color": "#E5ECF6",
              "width": 0.5
             },
             "pattern": {
              "fillmode": "overlay",
              "size": 10,
              "solidity": 0.2
             }
            },
            "type": "bar"
           }
          ],
          "barpolar": [
           {
            "marker": {
             "line": {
              "color": "#E5ECF6",
              "width": 0.5
             },
             "pattern": {
              "fillmode": "overlay",
              "size": 10,
              "solidity": 0.2
             }
            },
            "type": "barpolar"
           }
          ],
          "carpet": [
           {
            "aaxis": {
             "endlinecolor": "#2a3f5f",
             "gridcolor": "white",
             "linecolor": "white",
             "minorgridcolor": "white",
             "startlinecolor": "#2a3f5f"
            },
            "baxis": {
             "endlinecolor": "#2a3f5f",
             "gridcolor": "white",
             "linecolor": "white",
             "minorgridcolor": "white",
             "startlinecolor": "#2a3f5f"
            },
            "type": "carpet"
           }
          ],
          "choropleth": [
           {
            "colorbar": {
             "outlinewidth": 0,
             "ticks": ""
            },
            "type": "choropleth"
           }
          ],
          "contour": [
           {
            "colorbar": {
             "outlinewidth": 0,
             "ticks": ""
            },
            "colorscale": [
             [
              0,
              "#0d0887"
             ],
             [
              0.1111111111111111,
              "#46039f"
             ],
             [
              0.2222222222222222,
              "#7201a8"
             ],
             [
              0.3333333333333333,
              "#9c179e"
             ],
             [
              0.4444444444444444,
              "#bd3786"
             ],
             [
              0.5555555555555556,
              "#d8576b"
             ],
             [
              0.6666666666666666,
              "#ed7953"
             ],
             [
              0.7777777777777778,
              "#fb9f3a"
             ],
             [
              0.8888888888888888,
              "#fdca26"
             ],
             [
              1,
              "#f0f921"
             ]
            ],
            "type": "contour"
           }
          ],
          "contourcarpet": [
           {
            "colorbar": {
             "outlinewidth": 0,
             "ticks": ""
            },
            "type": "contourcarpet"
           }
          ],
          "heatmap": [
           {
            "colorbar": {
             "outlinewidth": 0,
             "ticks": ""
            },
            "colorscale": [
             [
              0,
              "#0d0887"
             ],
             [
              0.1111111111111111,
              "#46039f"
             ],
             [
              0.2222222222222222,
              "#7201a8"
             ],
             [
              0.3333333333333333,
              "#9c179e"
             ],
             [
              0.4444444444444444,
              "#bd3786"
             ],
             [
              0.5555555555555556,
              "#d8576b"
             ],
             [
              0.6666666666666666,
              "#ed7953"
             ],
             [
              0.7777777777777778,
              "#fb9f3a"
             ],
             [
              0.8888888888888888,
              "#fdca26"
             ],
             [
              1,
              "#f0f921"
             ]
            ],
            "type": "heatmap"
           }
          ],
          "heatmapgl": [
           {
            "colorbar": {
             "outlinewidth": 0,
             "ticks": ""
            },
            "colorscale": [
             [
              0,
              "#0d0887"
             ],
             [
              0.1111111111111111,
              "#46039f"
             ],
             [
              0.2222222222222222,
              "#7201a8"
             ],
             [
              0.3333333333333333,
              "#9c179e"
             ],
             [
              0.4444444444444444,
              "#bd3786"
             ],
             [
              0.5555555555555556,
              "#d8576b"
             ],
             [
              0.6666666666666666,
              "#ed7953"
             ],
             [
              0.7777777777777778,
              "#fb9f3a"
             ],
             [
              0.8888888888888888,
              "#fdca26"
             ],
             [
              1,
              "#f0f921"
             ]
            ],
            "type": "heatmapgl"
           }
          ],
          "histogram": [
           {
            "marker": {
             "pattern": {
              "fillmode": "overlay",
              "size": 10,
              "solidity": 0.2
             }
            },
            "type": "histogram"
           }
          ],
          "histogram2d": [
           {
            "colorbar": {
             "outlinewidth": 0,
             "ticks": ""
            },
            "colorscale": [
             [
              0,
              "#0d0887"
             ],
             [
              0.1111111111111111,
              "#46039f"
             ],
             [
              0.2222222222222222,
              "#7201a8"
             ],
             [
              0.3333333333333333,
              "#9c179e"
             ],
             [
              0.4444444444444444,
              "#bd3786"
             ],
             [
              0.5555555555555556,
              "#d8576b"
             ],
             [
              0.6666666666666666,
              "#ed7953"
             ],
             [
              0.7777777777777778,
              "#fb9f3a"
             ],
             [
              0.8888888888888888,
              "#fdca26"
             ],
             [
              1,
              "#f0f921"
             ]
            ],
            "type": "histogram2d"
           }
          ],
          "histogram2dcontour": [
           {
            "colorbar": {
             "outlinewidth": 0,
             "ticks": ""
            },
            "colorscale": [
             [
              0,
              "#0d0887"
             ],
             [
              0.1111111111111111,
              "#46039f"
             ],
             [
              0.2222222222222222,
              "#7201a8"
             ],
             [
              0.3333333333333333,
              "#9c179e"
             ],
             [
              0.4444444444444444,
              "#bd3786"
             ],
             [
              0.5555555555555556,
              "#d8576b"
             ],
             [
              0.6666666666666666,
              "#ed7953"
             ],
             [
              0.7777777777777778,
              "#fb9f3a"
             ],
             [
              0.8888888888888888,
              "#fdca26"
             ],
             [
              1,
              "#f0f921"
             ]
            ],
            "type": "histogram2dcontour"
           }
          ],
          "mesh3d": [
           {
            "colorbar": {
             "outlinewidth": 0,
             "ticks": ""
            },
            "type": "mesh3d"
           }
          ],
          "parcoords": [
           {
            "line": {
             "colorbar": {
              "outlinewidth": 0,
              "ticks": ""
             }
            },
            "type": "parcoords"
           }
          ],
          "pie": [
           {
            "automargin": true,
            "type": "pie"
           }
          ],
          "scatter": [
           {
            "marker": {
             "colorbar": {
              "outlinewidth": 0,
              "ticks": ""
             }
            },
            "type": "scatter"
           }
          ],
          "scatter3d": [
           {
            "line": {
             "colorbar": {
              "outlinewidth": 0,
              "ticks": ""
             }
            },
            "marker": {
             "colorbar": {
              "outlinewidth": 0,
              "ticks": ""
             }
            },
            "type": "scatter3d"
           }
          ],
          "scattercarpet": [
           {
            "marker": {
             "colorbar": {
              "outlinewidth": 0,
              "ticks": ""
             }
            },
            "type": "scattercarpet"
           }
          ],
          "scattergeo": [
           {
            "marker": {
             "colorbar": {
              "outlinewidth": 0,
              "ticks": ""
             }
            },
            "type": "scattergeo"
           }
          ],
          "scattergl": [
           {
            "marker": {
             "colorbar": {
              "outlinewidth": 0,
              "ticks": ""
             }
            },
            "type": "scattergl"
           }
          ],
          "scattermapbox": [
           {
            "marker": {
             "colorbar": {
              "outlinewidth": 0,
              "ticks": ""
             }
            },
            "type": "scattermapbox"
           }
          ],
          "scatterpolar": [
           {
            "marker": {
             "colorbar": {
              "outlinewidth": 0,
              "ticks": ""
             }
            },
            "type": "scatterpolar"
           }
          ],
          "scatterpolargl": [
           {
            "marker": {
             "colorbar": {
              "outlinewidth": 0,
              "ticks": ""
             }
            },
            "type": "scatterpolargl"
           }
          ],
          "scatterternary": [
           {
            "marker": {
             "colorbar": {
              "outlinewidth": 0,
              "ticks": ""
             }
            },
            "type": "scatterternary"
           }
          ],
          "surface": [
           {
            "colorbar": {
             "outlinewidth": 0,
             "ticks": ""
            },
            "colorscale": [
             [
              0,
              "#0d0887"
             ],
             [
              0.1111111111111111,
              "#46039f"
             ],
             [
              0.2222222222222222,
              "#7201a8"
             ],
             [
              0.3333333333333333,
              "#9c179e"
             ],
             [
              0.4444444444444444,
              "#bd3786"
             ],
             [
              0.5555555555555556,
              "#d8576b"
             ],
             [
              0.6666666666666666,
              "#ed7953"
             ],
             [
              0.7777777777777778,
              "#fb9f3a"
             ],
             [
              0.8888888888888888,
              "#fdca26"
             ],
             [
              1,
              "#f0f921"
             ]
            ],
            "type": "surface"
           }
          ],
          "table": [
           {
            "cells": {
             "fill": {
              "color": "#EBF0F8"
             },
             "line": {
              "color": "white"
             }
            },
            "header": {
             "fill": {
              "color": "#C8D4E3"
             },
             "line": {
              "color": "white"
             }
            },
            "type": "table"
           }
          ]
         },
         "layout": {
          "annotationdefaults": {
           "arrowcolor": "#2a3f5f",
           "arrowhead": 0,
           "arrowwidth": 1
          },
          "autotypenumbers": "strict",
          "coloraxis": {
           "colorbar": {
            "outlinewidth": 0,
            "ticks": ""
           }
          },
          "colorscale": {
           "diverging": [
            [
             0,
             "#8e0152"
            ],
            [
             0.1,
             "#c51b7d"
            ],
            [
             0.2,
             "#de77ae"
            ],
            [
             0.3,
             "#f1b6da"
            ],
            [
             0.4,
             "#fde0ef"
            ],
            [
             0.5,
             "#f7f7f7"
            ],
            [
             0.6,
             "#e6f5d0"
            ],
            [
             0.7,
             "#b8e186"
            ],
            [
             0.8,
             "#7fbc41"
            ],
            [
             0.9,
             "#4d9221"
            ],
            [
             1,
             "#276419"
            ]
           ],
           "sequential": [
            [
             0,
             "#0d0887"
            ],
            [
             0.1111111111111111,
             "#46039f"
            ],
            [
             0.2222222222222222,
             "#7201a8"
            ],
            [
             0.3333333333333333,
             "#9c179e"
            ],
            [
             0.4444444444444444,
             "#bd3786"
            ],
            [
             0.5555555555555556,
             "#d8576b"
            ],
            [
             0.6666666666666666,
             "#ed7953"
            ],
            [
             0.7777777777777778,
             "#fb9f3a"
            ],
            [
             0.8888888888888888,
             "#fdca26"
            ],
            [
             1,
             "#f0f921"
            ]
           ],
           "sequentialminus": [
            [
             0,
             "#0d0887"
            ],
            [
             0.1111111111111111,
             "#46039f"
            ],
            [
             0.2222222222222222,
             "#7201a8"
            ],
            [
             0.3333333333333333,
             "#9c179e"
            ],
            [
             0.4444444444444444,
             "#bd3786"
            ],
            [
             0.5555555555555556,
             "#d8576b"
            ],
            [
             0.6666666666666666,
             "#ed7953"
            ],
            [
             0.7777777777777778,
             "#fb9f3a"
            ],
            [
             0.8888888888888888,
             "#fdca26"
            ],
            [
             1,
             "#f0f921"
            ]
           ]
          },
          "colorway": [
           "#636efa",
           "#EF553B",
           "#00cc96",
           "#ab63fa",
           "#FFA15A",
           "#19d3f3",
           "#FF6692",
           "#B6E880",
           "#FF97FF",
           "#FECB52"
          ],
          "font": {
           "color": "#2a3f5f"
          },
          "geo": {
           "bgcolor": "white",
           "lakecolor": "white",
           "landcolor": "#E5ECF6",
           "showlakes": true,
           "showland": true,
           "subunitcolor": "white"
          },
          "hoverlabel": {
           "align": "left"
          },
          "hovermode": "closest",
          "mapbox": {
           "style": "light"
          },
          "paper_bgcolor": "white",
          "plot_bgcolor": "#E5ECF6",
          "polar": {
           "angularaxis": {
            "gridcolor": "white",
            "linecolor": "white",
            "ticks": ""
           },
           "bgcolor": "#E5ECF6",
           "radialaxis": {
            "gridcolor": "white",
            "linecolor": "white",
            "ticks": ""
           }
          },
          "scene": {
           "xaxis": {
            "backgroundcolor": "#E5ECF6",
            "gridcolor": "white",
            "gridwidth": 2,
            "linecolor": "white",
            "showbackground": true,
            "ticks": "",
            "zerolinecolor": "white"
           },
           "yaxis": {
            "backgroundcolor": "#E5ECF6",
            "gridcolor": "white",
            "gridwidth": 2,
            "linecolor": "white",
            "showbackground": true,
            "ticks": "",
            "zerolinecolor": "white"
           },
           "zaxis": {
            "backgroundcolor": "#E5ECF6",
            "gridcolor": "white",
            "gridwidth": 2,
            "linecolor": "white",
            "showbackground": true,
            "ticks": "",
            "zerolinecolor": "white"
           }
          },
          "shapedefaults": {
           "line": {
            "color": "#2a3f5f"
           }
          },
          "ternary": {
           "aaxis": {
            "gridcolor": "white",
            "linecolor": "white",
            "ticks": ""
           },
           "baxis": {
            "gridcolor": "white",
            "linecolor": "white",
            "ticks": ""
           },
           "bgcolor": "#E5ECF6",
           "caxis": {
            "gridcolor": "white",
            "linecolor": "white",
            "ticks": ""
           }
          },
          "title": {
           "x": 0.05
          },
          "xaxis": {
           "automargin": true,
           "gridcolor": "white",
           "linecolor": "white",
           "ticks": "",
           "title": {
            "standoff": 15
           },
           "zerolinecolor": "white",
           "zerolinewidth": 2
          },
          "yaxis": {
           "automargin": true,
           "gridcolor": "white",
           "linecolor": "white",
           "ticks": "",
           "title": {
            "standoff": 15
           },
           "zerolinecolor": "white",
           "zerolinewidth": 2
          }
         }
        }
       }
      },
      "text/html": [
       "<div>                            <div id=\"31801ff8-2ced-4d47-a728-3263c5cc41aa\" class=\"plotly-graph-div\" style=\"height:525px; width:100%;\"></div>            <script type=\"text/javascript\">                require([\"plotly\"], function(Plotly) {                    window.PLOTLYENV=window.PLOTLYENV || {};                                    if (document.getElementById(\"31801ff8-2ced-4d47-a728-3263c5cc41aa\")) {                    Plotly.newPlot(                        \"31801ff8-2ced-4d47-a728-3263c5cc41aa\",                        [{\"branchvalues\":\"total\",\"customdata\":[[337.6666666666667,174.33333333333334],[248.7159090909091,144.48863636363637],[139.6,128.0],[152.0,125.6923076923077],[168.5,121.5],[202.0,134.0],[289.5,103.5],[251.47008547008548,144.46153846153845],[181.27777777777777,118.11111111111111],[121.125,115.6875],[241.05343511450383,154.24427480916032],[100.0,156.0],[210.62962962962962,139.75925925925927],[142.46875,116.53125],[133.0,182.0],[58.0,158.0],[148.0,138.33333333333334],[252.74,142.36],[200.26461538461538,143.19692307692307],[166.5375,127.4],[288.85714285714283,167.28571428571428],[215.21875,148.9375],[196.76190476190476,143.07142857142858],[202.2127659574468,139.31914893617022],[140.0983606557377,130.0327868852459],[361.0,180.0],[0.0,153.0],[211.25,155.57142857142858],[150.0,137.43333333333334],[126.0,139.0],[138.0,157.0],[266.0,175.0],[220.8,141.0],[152.0,117.0],[\"(?)\",144.853164556962],[\"(?)\",144.37058823529412],[148.0,138.33333333333334],[\"(?)\",129.8913043478261],[\"(?)\",151.33333333333334],[\"(?)\",141.4621578099839]],\"domain\":{\"x\":[0.0,1.0],\"y\":[0.0,1.0]},\"hovertemplate\":\"labels=%{label}<br>class_counts=%{value}<br>parent=%{parent}<br>id=%{id}<br>ave_elo_nevlas=%{customdata[0]}<br>ave_score_nevlas=%{color}<extra></extra>\",\"ids\":[\"R1 Structures: Frequency and Overall Score for nevlas/ac1/ 0_m / 0_ts / 0_lab / 1_pi / 1_ac1 / 0_ac2\",\"R1 Structures: Frequency and Overall Score for nevlas/PI/ 0_m / 0_ts / 1_lab / 1_pi / 0_ac1 / 0_ac2\",\"R1 Structures: Frequency and Overall Score for nevlas/lab/ 0_m / 0_ts / 2_lab / 0_pi / 0_ac1 / 0_ac2\",\"R1 Structures: Frequency and Overall Score for nevlas/PI/ 0_m / 1_ts / 0_lab / 1_pi / 0_ac1 / 0_ac2\",\"R1 Structures: Frequency and Overall Score for nevlas/lab/ 0_m / 1_ts / 1_lab / 0_pi / 0_ac1 / 0_ac2\",\"R1 Structures: Frequency and Overall Score for nevlas/PI/ 0_m / 1_ts / 1_lab / 1_pi / 0_ac1 / 0_ac2\",\"R1 Structures: Frequency and Overall Score for nevlas/PI/ 0_m / 2_ts / 0_lab / 1_pi / 0_ac1 / 0_ac2\",\"R1 Structures: Frequency and Overall Score for nevlas/ac1/ 1_m / 0_ts / 0_lab / 0_pi / 1_ac1 / 0_ac2\",\"R1 Structures: Frequency and Overall Score for nevlas/PI/ 1_m / 0_ts / 0_lab / 1_pi / 0_ac1 / 0_ac2\",\"R1 Structures: Frequency and Overall Score for nevlas/lab/ 1_m / 0_ts / 1_lab / 0_pi / 0_ac1 / 0_ac2\",\"R1 Structures: Frequency and Overall Score for nevlas/PI/ 1_m / 0_ts / 1_lab / 1_pi / 0_ac1 / 0_ac2\",\"R1 Structures: Frequency and Overall Score for nevlas/lab/ 1_m / 0_ts / 2_lab / 0_pi / 0_ac1 / 0_ac2\",\"R1 Structures: Frequency and Overall Score for nevlas/PI/ 1_m / 1_ts / 0_lab / 1_pi / 0_ac1 / 0_ac2\",\"R1 Structures: Frequency and Overall Score for nevlas/lab/ 1_m / 1_ts / 1_lab / 0_pi / 0_ac1 / 0_ac2\",\"R1 Structures: Frequency and Overall Score for nevlas/PI/ 1_m / 1_ts / 1_lab / 1_pi / 0_ac1 / 0_ac2\",\"R1 Structures: Frequency and Overall Score for nevlas/ts/ 1_m / 2_ts / 0_lab / 0_pi / 0_ac1 / 0_ac2\",\"R1 Structures: Frequency and Overall Score for nevlas/ac2/ 2_m / 0_ts / 0_lab / 0_pi / 0_ac1 / 1_ac2\",\"R1 Structures: Frequency and Overall Score for nevlas/ac1/ 2_m / 0_ts / 0_lab / 0_pi / 1_ac1 / 0_ac2\",\"R1 Structures: Frequency and Overall Score for nevlas/PI/ 2_m / 0_ts / 0_lab / 1_pi / 0_ac1 / 0_ac2\",\"R1 Structures: Frequency and Overall Score for nevlas/lab/ 2_m / 0_ts / 1_lab / 0_pi / 0_ac1 / 0_ac2\",\"R1 Structures: Frequency and Overall Score for nevlas/PI/ 2_m / 0_ts / 1_lab / 1_pi / 0_ac1 / 0_ac2\",\"R1 Structures: Frequency and Overall Score for nevlas/PI/ 2_m / 1_ts / 0_lab / 1_pi / 0_ac1 / 0_ac2\",\"R1 Structures: Frequency and Overall Score for nevlas/lab/ 2_m / 1_ts / 1_lab / 0_pi / 0_ac1 / 0_ac2\",\"R1 Structures: Frequency and Overall Score for nevlas/PI/ 3_m / 0_ts / 0_lab / 1_pi / 0_ac1 / 0_ac2\",\"R1 Structures: Frequency and Overall Score for nevlas/lab/ 3_m / 0_ts / 1_lab / 0_pi / 0_ac1 / 0_ac2\",\"R1 Structures: Frequency and Overall Score for nevlas/PI/ 3_m / 0_ts / 1_lab / 1_pi / 0_ac1 / 0_ac2\",\"R1 Structures: Frequency and Overall Score for nevlas/lab/ 3_m / 1_ts / 1_lab / 0_pi / 0_ac1 / 0_ac2\",\"R1 Structures: Frequency and Overall Score for nevlas/PI/ 4_m / 0_ts / 0_lab / 1_pi / 0_ac1 / 0_ac2\",\"R1 Structures: Frequency and Overall Score for nevlas/lab/ 4_m / 0_ts / 1_lab / 0_pi / 0_ac1 / 0_ac2\",\"R1 Structures: Frequency and Overall Score for nevlas/ts/ 4_m / 1_ts / 0_lab / 0_pi / 0_ac1 / 0_ac2\",\"R1 Structures: Frequency and Overall Score for nevlas/ts/ 4_m / 2_ts / 0_lab / 0_pi / 0_ac1 / 0_ac2\",\"R1 Structures: Frequency and Overall Score for nevlas/PI/ 5_m / 0_ts / 0_lab / 1_pi / 0_ac1 / 0_ac2\",\"R1 Structures: Frequency and Overall Score for nevlas/lab/ 5_m / 0_ts / 1_lab / 0_pi / 0_ac1 / 0_ac2\",\"R1 Structures: Frequency and Overall Score for nevlas/lab/ 6_m / 0_ts / 1_lab / 0_pi / 0_ac1 / 0_ac2\",\"R1 Structures: Frequency and Overall Score for nevlas/PI\",\"R1 Structures: Frequency and Overall Score for nevlas/ac1\",\"R1 Structures: Frequency and Overall Score for nevlas/ac2\",\"R1 Structures: Frequency and Overall Score for nevlas/lab\",\"R1 Structures: Frequency and Overall Score for nevlas/ts\",\"R1 Structures: Frequency and Overall Score for nevlas\"],\"labels\":[\" 0_m / 0_ts / 0_lab / 1_pi / 1_ac1 / 0_ac2\",\" 0_m / 0_ts / 1_lab / 1_pi / 0_ac1 / 0_ac2\",\" 0_m / 0_ts / 2_lab / 0_pi / 0_ac1 / 0_ac2\",\" 0_m / 1_ts / 0_lab / 1_pi / 0_ac1 / 0_ac2\",\" 0_m / 1_ts / 1_lab / 0_pi / 0_ac1 / 0_ac2\",\" 0_m / 1_ts / 1_lab / 1_pi / 0_ac1 / 0_ac2\",\" 0_m / 2_ts / 0_lab / 1_pi / 0_ac1 / 0_ac2\",\" 1_m / 0_ts / 0_lab / 0_pi / 1_ac1 / 0_ac2\",\" 1_m / 0_ts / 0_lab / 1_pi / 0_ac1 / 0_ac2\",\" 1_m / 0_ts / 1_lab / 0_pi / 0_ac1 / 0_ac2\",\" 1_m / 0_ts / 1_lab / 1_pi / 0_ac1 / 0_ac2\",\" 1_m / 0_ts / 2_lab / 0_pi / 0_ac1 / 0_ac2\",\" 1_m / 1_ts / 0_lab / 1_pi / 0_ac1 / 0_ac2\",\" 1_m / 1_ts / 1_lab / 0_pi / 0_ac1 / 0_ac2\",\" 1_m / 1_ts / 1_lab / 1_pi / 0_ac1 / 0_ac2\",\" 1_m / 2_ts / 0_lab / 0_pi / 0_ac1 / 0_ac2\",\" 2_m / 0_ts / 0_lab / 0_pi / 0_ac1 / 1_ac2\",\" 2_m / 0_ts / 0_lab / 0_pi / 1_ac1 / 0_ac2\",\" 2_m / 0_ts / 0_lab / 1_pi / 0_ac1 / 0_ac2\",\" 2_m / 0_ts / 1_lab / 0_pi / 0_ac1 / 0_ac2\",\" 2_m / 0_ts / 1_lab / 1_pi / 0_ac1 / 0_ac2\",\" 2_m / 1_ts / 0_lab / 1_pi / 0_ac1 / 0_ac2\",\" 2_m / 1_ts / 1_lab / 0_pi / 0_ac1 / 0_ac2\",\" 3_m / 0_ts / 0_lab / 1_pi / 0_ac1 / 0_ac2\",\" 3_m / 0_ts / 1_lab / 0_pi / 0_ac1 / 0_ac2\",\" 3_m / 0_ts / 1_lab / 1_pi / 0_ac1 / 0_ac2\",\" 3_m / 1_ts / 1_lab / 0_pi / 0_ac1 / 0_ac2\",\" 4_m / 0_ts / 0_lab / 1_pi / 0_ac1 / 0_ac2\",\" 4_m / 0_ts / 1_lab / 0_pi / 0_ac1 / 0_ac2\",\" 4_m / 1_ts / 0_lab / 0_pi / 0_ac1 / 0_ac2\",\" 4_m / 2_ts / 0_lab / 0_pi / 0_ac1 / 0_ac2\",\" 5_m / 0_ts / 0_lab / 1_pi / 0_ac1 / 0_ac2\",\" 5_m / 0_ts / 1_lab / 0_pi / 0_ac1 / 0_ac2\",\" 6_m / 0_ts / 1_lab / 0_pi / 0_ac1 / 0_ac2\",\"PI\",\"ac1\",\"ac2\",\"lab\",\"ts\",\"R1 Structures: Frequency and Overall Score for nevlas\"],\"marker\":{\"coloraxis\":\"coloraxis\",\"colors\":[174.33333333333334,144.48863636363637,128.0,125.6923076923077,121.5,134.0,103.5,144.46153846153845,118.11111111111111,115.6875,154.24427480916032,156.0,139.75925925925927,116.53125,182.0,158.0,138.33333333333334,142.36,143.19692307692307,127.4,167.28571428571428,148.9375,143.07142857142858,139.31914893617022,130.0327868852459,180.0,153.0,155.57142857142858,137.43333333333334,139.0,157.0,175.0,141.0,117.0,144.853164556962,144.37058823529412,138.33333333333334,129.8913043478261,151.33333333333334,141.4621578099839]},\"name\":\"\",\"parents\":[\"R1 Structures: Frequency and Overall Score for nevlas/ac1\",\"R1 Structures: Frequency and Overall Score for nevlas/PI\",\"R1 Structures: Frequency and Overall Score for nevlas/lab\",\"R1 Structures: Frequency and Overall Score for nevlas/PI\",\"R1 Structures: Frequency and Overall Score for nevlas/lab\",\"R1 Structures: Frequency and Overall Score for nevlas/PI\",\"R1 Structures: Frequency and Overall Score for nevlas/PI\",\"R1 Structures: Frequency and Overall Score for nevlas/ac1\",\"R1 Structures: Frequency and Overall Score for nevlas/PI\",\"R1 Structures: Frequency and Overall Score for nevlas/lab\",\"R1 Structures: Frequency and Overall Score for nevlas/PI\",\"R1 Structures: Frequency and Overall Score for nevlas/lab\",\"R1 Structures: Frequency and Overall Score for nevlas/PI\",\"R1 Structures: Frequency and Overall Score for nevlas/lab\",\"R1 Structures: Frequency and Overall Score for nevlas/PI\",\"R1 Structures: Frequency and Overall Score for nevlas/ts\",\"R1 Structures: Frequency and Overall Score for nevlas/ac2\",\"R1 Structures: Frequency and Overall Score for nevlas/ac1\",\"R1 Structures: Frequency and Overall Score for nevlas/PI\",\"R1 Structures: Frequency and Overall Score for nevlas/lab\",\"R1 Structures: Frequency and Overall Score for nevlas/PI\",\"R1 Structures: Frequency and Overall Score for nevlas/PI\",\"R1 Structures: Frequency and Overall Score for nevlas/lab\",\"R1 Structures: Frequency and Overall Score for nevlas/PI\",\"R1 Structures: Frequency and Overall Score for nevlas/lab\",\"R1 Structures: Frequency and Overall Score for nevlas/PI\",\"R1 Structures: Frequency and Overall Score for nevlas/lab\",\"R1 Structures: Frequency and Overall Score for nevlas/PI\",\"R1 Structures: Frequency and Overall Score for nevlas/lab\",\"R1 Structures: Frequency and Overall Score for nevlas/ts\",\"R1 Structures: Frequency and Overall Score for nevlas/ts\",\"R1 Structures: Frequency and Overall Score for nevlas/PI\",\"R1 Structures: Frequency and Overall Score for nevlas/lab\",\"R1 Structures: Frequency and Overall Score for nevlas/lab\",\"R1 Structures: Frequency and Overall Score for nevlas\",\"R1 Structures: Frequency and Overall Score for nevlas\",\"R1 Structures: Frequency and Overall Score for nevlas\",\"R1 Structures: Frequency and Overall Score for nevlas\",\"R1 Structures: Frequency and Overall Score for nevlas\",\"\"],\"values\":[3,88,5,13,2,2,2,117,36,16,131,1,54,32,1,1,3,50,325,80,28,32,42,47,61,1,1,28,30,1,1,2,5,1,790,170,3,276,3,1242],\"type\":\"treemap\"}],                        {\"template\":{\"data\":{\"bar\":[{\"error_x\":{\"color\":\"#2a3f5f\"},\"error_y\":{\"color\":\"#2a3f5f\"},\"marker\":{\"line\":{\"color\":\"#E5ECF6\",\"width\":0.5},\"pattern\":{\"fillmode\":\"overlay\",\"size\":10,\"solidity\":0.2}},\"type\":\"bar\"}],\"barpolar\":[{\"marker\":{\"line\":{\"color\":\"#E5ECF6\",\"width\":0.5},\"pattern\":{\"fillmode\":\"overlay\",\"size\":10,\"solidity\":0.2}},\"type\":\"barpolar\"}],\"carpet\":[{\"aaxis\":{\"endlinecolor\":\"#2a3f5f\",\"gridcolor\":\"white\",\"linecolor\":\"white\",\"minorgridcolor\":\"white\",\"startlinecolor\":\"#2a3f5f\"},\"baxis\":{\"endlinecolor\":\"#2a3f5f\",\"gridcolor\":\"white\",\"linecolor\":\"white\",\"minorgridcolor\":\"white\",\"startlinecolor\":\"#2a3f5f\"},\"type\":\"carpet\"}],\"choropleth\":[{\"colorbar\":{\"outlinewidth\":0,\"ticks\":\"\"},\"type\":\"choropleth\"}],\"contour\":[{\"colorbar\":{\"outlinewidth\":0,\"ticks\":\"\"},\"colorscale\":[[0.0,\"#0d0887\"],[0.1111111111111111,\"#46039f\"],[0.2222222222222222,\"#7201a8\"],[0.3333333333333333,\"#9c179e\"],[0.4444444444444444,\"#bd3786\"],[0.5555555555555556,\"#d8576b\"],[0.6666666666666666,\"#ed7953\"],[0.7777777777777778,\"#fb9f3a\"],[0.8888888888888888,\"#fdca26\"],[1.0,\"#f0f921\"]],\"type\":\"contour\"}],\"contourcarpet\":[{\"colorbar\":{\"outlinewidth\":0,\"ticks\":\"\"},\"type\":\"contourcarpet\"}],\"heatmap\":[{\"colorbar\":{\"outlinewidth\":0,\"ticks\":\"\"},\"colorscale\":[[0.0,\"#0d0887\"],[0.1111111111111111,\"#46039f\"],[0.2222222222222222,\"#7201a8\"],[0.3333333333333333,\"#9c179e\"],[0.4444444444444444,\"#bd3786\"],[0.5555555555555556,\"#d8576b\"],[0.6666666666666666,\"#ed7953\"],[0.7777777777777778,\"#fb9f3a\"],[0.8888888888888888,\"#fdca26\"],[1.0,\"#f0f921\"]],\"type\":\"heatmap\"}],\"heatmapgl\":[{\"colorbar\":{\"outlinewidth\":0,\"ticks\":\"\"},\"colorscale\":[[0.0,\"#0d0887\"],[0.1111111111111111,\"#46039f\"],[0.2222222222222222,\"#7201a8\"],[0.3333333333333333,\"#9c179e\"],[0.4444444444444444,\"#bd3786\"],[0.5555555555555556,\"#d8576b\"],[0.6666666666666666,\"#ed7953\"],[0.7777777777777778,\"#fb9f3a\"],[0.8888888888888888,\"#fdca26\"],[1.0,\"#f0f921\"]],\"type\":\"heatmapgl\"}],\"histogram\":[{\"marker\":{\"pattern\":{\"fillmode\":\"overlay\",\"size\":10,\"solidity\":0.2}},\"type\":\"histogram\"}],\"histogram2d\":[{\"colorbar\":{\"outlinewidth\":0,\"ticks\":\"\"},\"colorscale\":[[0.0,\"#0d0887\"],[0.1111111111111111,\"#46039f\"],[0.2222222222222222,\"#7201a8\"],[0.3333333333333333,\"#9c179e\"],[0.4444444444444444,\"#bd3786\"],[0.5555555555555556,\"#d8576b\"],[0.6666666666666666,\"#ed7953\"],[0.7777777777777778,\"#fb9f3a\"],[0.8888888888888888,\"#fdca26\"],[1.0,\"#f0f921\"]],\"type\":\"histogram2d\"}],\"histogram2dcontour\":[{\"colorbar\":{\"outlinewidth\":0,\"ticks\":\"\"},\"colorscale\":[[0.0,\"#0d0887\"],[0.1111111111111111,\"#46039f\"],[0.2222222222222222,\"#7201a8\"],[0.3333333333333333,\"#9c179e\"],[0.4444444444444444,\"#bd3786\"],[0.5555555555555556,\"#d8576b\"],[0.6666666666666666,\"#ed7953\"],[0.7777777777777778,\"#fb9f3a\"],[0.8888888888888888,\"#fdca26\"],[1.0,\"#f0f921\"]],\"type\":\"histogram2dcontour\"}],\"mesh3d\":[{\"colorbar\":{\"outlinewidth\":0,\"ticks\":\"\"},\"type\":\"mesh3d\"}],\"parcoords\":[{\"line\":{\"colorbar\":{\"outlinewidth\":0,\"ticks\":\"\"}},\"type\":\"parcoords\"}],\"pie\":[{\"automargin\":true,\"type\":\"pie\"}],\"scatter\":[{\"marker\":{\"colorbar\":{\"outlinewidth\":0,\"ticks\":\"\"}},\"type\":\"scatter\"}],\"scatter3d\":[{\"line\":{\"colorbar\":{\"outlinewidth\":0,\"ticks\":\"\"}},\"marker\":{\"colorbar\":{\"outlinewidth\":0,\"ticks\":\"\"}},\"type\":\"scatter3d\"}],\"scattercarpet\":[{\"marker\":{\"colorbar\":{\"outlinewidth\":0,\"ticks\":\"\"}},\"type\":\"scattercarpet\"}],\"scattergeo\":[{\"marker\":{\"colorbar\":{\"outlinewidth\":0,\"ticks\":\"\"}},\"type\":\"scattergeo\"}],\"scattergl\":[{\"marker\":{\"colorbar\":{\"outlinewidth\":0,\"ticks\":\"\"}},\"type\":\"scattergl\"}],\"scattermapbox\":[{\"marker\":{\"colorbar\":{\"outlinewidth\":0,\"ticks\":\"\"}},\"type\":\"scattermapbox\"}],\"scatterpolar\":[{\"marker\":{\"colorbar\":{\"outlinewidth\":0,\"ticks\":\"\"}},\"type\":\"scatterpolar\"}],\"scatterpolargl\":[{\"marker\":{\"colorbar\":{\"outlinewidth\":0,\"ticks\":\"\"}},\"type\":\"scatterpolargl\"}],\"scatterternary\":[{\"marker\":{\"colorbar\":{\"outlinewidth\":0,\"ticks\":\"\"}},\"type\":\"scatterternary\"}],\"surface\":[{\"colorbar\":{\"outlinewidth\":0,\"ticks\":\"\"},\"colorscale\":[[0.0,\"#0d0887\"],[0.1111111111111111,\"#46039f\"],[0.2222222222222222,\"#7201a8\"],[0.3333333333333333,\"#9c179e\"],[0.4444444444444444,\"#bd3786\"],[0.5555555555555556,\"#d8576b\"],[0.6666666666666666,\"#ed7953\"],[0.7777777777777778,\"#fb9f3a\"],[0.8888888888888888,\"#fdca26\"],[1.0,\"#f0f921\"]],\"type\":\"surface\"}],\"table\":[{\"cells\":{\"fill\":{\"color\":\"#EBF0F8\"},\"line\":{\"color\":\"white\"}},\"header\":{\"fill\":{\"color\":\"#C8D4E3\"},\"line\":{\"color\":\"white\"}},\"type\":\"table\"}]},\"layout\":{\"annotationdefaults\":{\"arrowcolor\":\"#2a3f5f\",\"arrowhead\":0,\"arrowwidth\":1},\"autotypenumbers\":\"strict\",\"coloraxis\":{\"colorbar\":{\"outlinewidth\":0,\"ticks\":\"\"}},\"colorscale\":{\"diverging\":[[0,\"#8e0152\"],[0.1,\"#c51b7d\"],[0.2,\"#de77ae\"],[0.3,\"#f1b6da\"],[0.4,\"#fde0ef\"],[0.5,\"#f7f7f7\"],[0.6,\"#e6f5d0\"],[0.7,\"#b8e186\"],[0.8,\"#7fbc41\"],[0.9,\"#4d9221\"],[1,\"#276419\"]],\"sequential\":[[0.0,\"#0d0887\"],[0.1111111111111111,\"#46039f\"],[0.2222222222222222,\"#7201a8\"],[0.3333333333333333,\"#9c179e\"],[0.4444444444444444,\"#bd3786\"],[0.5555555555555556,\"#d8576b\"],[0.6666666666666666,\"#ed7953\"],[0.7777777777777778,\"#fb9f3a\"],[0.8888888888888888,\"#fdca26\"],[1.0,\"#f0f921\"]],\"sequentialminus\":[[0.0,\"#0d0887\"],[0.1111111111111111,\"#46039f\"],[0.2222222222222222,\"#7201a8\"],[0.3333333333333333,\"#9c179e\"],[0.4444444444444444,\"#bd3786\"],[0.5555555555555556,\"#d8576b\"],[0.6666666666666666,\"#ed7953\"],[0.7777777777777778,\"#fb9f3a\"],[0.8888888888888888,\"#fdca26\"],[1.0,\"#f0f921\"]]},\"colorway\":[\"#636efa\",\"#EF553B\",\"#00cc96\",\"#ab63fa\",\"#FFA15A\",\"#19d3f3\",\"#FF6692\",\"#B6E880\",\"#FF97FF\",\"#FECB52\"],\"font\":{\"color\":\"#2a3f5f\"},\"geo\":{\"bgcolor\":\"white\",\"lakecolor\":\"white\",\"landcolor\":\"#E5ECF6\",\"showlakes\":true,\"showland\":true,\"subunitcolor\":\"white\"},\"hoverlabel\":{\"align\":\"left\"},\"hovermode\":\"closest\",\"mapbox\":{\"style\":\"light\"},\"paper_bgcolor\":\"white\",\"plot_bgcolor\":\"#E5ECF6\",\"polar\":{\"angularaxis\":{\"gridcolor\":\"white\",\"linecolor\":\"white\",\"ticks\":\"\"},\"bgcolor\":\"#E5ECF6\",\"radialaxis\":{\"gridcolor\":\"white\",\"linecolor\":\"white\",\"ticks\":\"\"}},\"scene\":{\"xaxis\":{\"backgroundcolor\":\"#E5ECF6\",\"gridcolor\":\"white\",\"gridwidth\":2,\"linecolor\":\"white\",\"showbackground\":true,\"ticks\":\"\",\"zerolinecolor\":\"white\"},\"yaxis\":{\"backgroundcolor\":\"#E5ECF6\",\"gridcolor\":\"white\",\"gridwidth\":2,\"linecolor\":\"white\",\"showbackground\":true,\"ticks\":\"\",\"zerolinecolor\":\"white\"},\"zaxis\":{\"backgroundcolor\":\"#E5ECF6\",\"gridcolor\":\"white\",\"gridwidth\":2,\"linecolor\":\"white\",\"showbackground\":true,\"ticks\":\"\",\"zerolinecolor\":\"white\"}},\"shapedefaults\":{\"line\":{\"color\":\"#2a3f5f\"}},\"ternary\":{\"aaxis\":{\"gridcolor\":\"white\",\"linecolor\":\"white\",\"ticks\":\"\"},\"baxis\":{\"gridcolor\":\"white\",\"linecolor\":\"white\",\"ticks\":\"\"},\"bgcolor\":\"#E5ECF6\",\"caxis\":{\"gridcolor\":\"white\",\"linecolor\":\"white\",\"ticks\":\"\"}},\"title\":{\"x\":0.05},\"xaxis\":{\"automargin\":true,\"gridcolor\":\"white\",\"linecolor\":\"white\",\"ticks\":\"\",\"title\":{\"standoff\":15},\"zerolinecolor\":\"white\",\"zerolinewidth\":2},\"yaxis\":{\"automargin\":true,\"gridcolor\":\"white\",\"linecolor\":\"white\",\"ticks\":\"\",\"title\":{\"standoff\":15},\"zerolinecolor\":\"white\",\"zerolinewidth\":2}}},\"coloraxis\":{\"colorbar\":{\"title\":{\"text\":\"ave_score_nevlas\"}},\"colorscale\":[[0.0,\"rgb(103,0,31)\"],[0.1,\"rgb(178,24,43)\"],[0.2,\"rgb(214,96,77)\"],[0.3,\"rgb(244,165,130)\"],[0.4,\"rgb(253,219,199)\"],[0.5,\"rgb(247,247,247)\"],[0.6,\"rgb(209,229,240)\"],[0.7,\"rgb(146,197,222)\"],[0.8,\"rgb(67,147,195)\"],[0.9,\"rgb(33,102,172)\"],[1.0,\"rgb(5,48,97)\"]],\"cmid\":144.30885882929329},\"legend\":{\"tracegroupgap\":0},\"margin\":{\"t\":50,\"l\":25,\"r\":25,\"b\":25}},                        {\"responsive\": true}                    ).then(function(){\n",
       "                            \n",
       "var gd = document.getElementById('31801ff8-2ced-4d47-a728-3263c5cc41aa');\n",
       "var x = new MutationObserver(function (mutations, observer) {{\n",
       "        var display = window.getComputedStyle(gd).display;\n",
       "        if (!display || display === 'none') {{\n",
       "            console.log([gd, 'removed!']);\n",
       "            Plotly.purge(gd);\n",
       "            observer.disconnect();\n",
       "        }}\n",
       "}});\n",
       "\n",
       "// Listen for the removal of the full notebook cells\n",
       "var notebookContainer = gd.closest('#notebook-container');\n",
       "if (notebookContainer) {{\n",
       "    x.observe(notebookContainer, {childList: true});\n",
       "}}\n",
       "\n",
       "// Listen for the clearing of the current output cell\n",
       "var outputEl = gd.closest('.output');\n",
       "if (outputEl) {{\n",
       "    x.observe(outputEl, {childList: true});\n",
       "}}\n",
       "\n",
       "                        })                };                });            </script>        </div>"
      ]
     },
     "metadata": {},
     "output_type": "display_data"
    },
    {
     "data": {
      "application/vnd.plotly.v1+json": {
       "config": {
        "plotlyServerURL": "https://plot.ly"
       },
       "data": [
        {
         "branchvalues": "total",
         "customdata": [
          [
           275,
           145
          ],
          [
           118,
           108
          ],
          [
           176.66666666666666,
           142.66666666666666
          ],
          [
           134,
           143
          ],
          [
           82,
           138
          ],
          [
           273.8524590163934,
           138.63934426229508
          ],
          [
           306.6666666666667,
           126.66666666666667
          ],
          [
           225.6315789473684,
           135.57894736842104
          ],
          [
           345,
           181
          ],
          [
           133,
           85.5
          ],
          [
           195.83333333333334,
           118.5
          ],
          [
           210.23684210526315,
           140.07894736842104
          ],
          [
           222.5,
           129
          ],
          [
           284,
           141
          ],
          [
           176.17021276595744,
           135.82978723404256
          ],
          [
           220.8,
           147.28571428571428
          ],
          [
           245,
           176
          ],
          [
           166.5,
           130.5
          ],
          [
           239.3,
           151.8
          ],
          [
           204.8235294117647,
           148.64705882352942
          ],
          [
           144.8,
           114.2
          ],
          [
           169.61111111111111,
           135.85802469135803
          ],
          [
           196.03571428571428,
           132.96428571428572
          ],
          [
           0.6666666666666666,
           88.66666666666667
          ],
          [
           276.5,
           166.5
          ],
          [
           245.96666666666667,
           151.00666666666666
          ],
          [
           228.85365853658536,
           144.26829268292684
          ],
          [
           272.5054945054945,
           166.42857142857142
          ],
          [
           221,
           170.5
          ],
          [
           270.7,
           193.4
          ],
          [
           135,
           160
          ],
          [
           151,
           215
          ],
          [
           343.57142857142856,
           191.57142857142858
          ],
          [
           266.6666666666667,
           196.66666666666666
          ],
          [
           "(?)",
           146.8397328881469
          ],
          [
           "(?)",
           139.10526315789474
          ],
          [
           82,
           138
          ],
          [
           "(?)",
           143.1023102310231
          ],
          [
           "(?)",
           113.3125
          ],
          [
           "(?)",
           144.56281407035175
          ]
         ],
         "domain": {
          "x": [
           0,
           1
          ],
          "y": [
           0,
           1
          ]
         },
         "hovertemplate": "labels=%{label}<br>class_counts=%{value}<br>parent=%{parent}<br>id=%{id}<br>ave_elo_lantids=%{customdata[0]}<br>ave_score_lantids=%{color}<extra></extra>",
         "ids": [
          "R1 Structures: Frequency and Overall Score for lantids/lab/ 0_m / 0_ts / 2_lab / 0_pi / 0_ac1 / 0_ac2",
          "R1 Structures: Frequency and Overall Score for lantids/PI/ 0_m / 1_ts / 0_lab / 1_pi / 0_ac1 / 0_ac2",
          "R1 Structures: Frequency and Overall Score for lantids/lab/ 0_m / 1_ts / 1_lab / 0_pi / 0_ac1 / 0_ac2",
          "R1 Structures: Frequency and Overall Score for lantids/ts/ 0_m / 3_ts / 0_lab / 0_pi / 0_ac1 / 0_ac2",
          "R1 Structures: Frequency and Overall Score for lantids/ac2/ 1_m / 0_ts / 0_lab / 0_pi / 0_ac1 / 1_ac2",
          "R1 Structures: Frequency and Overall Score for lantids/ac1/ 1_m / 0_ts / 0_lab / 0_pi / 1_ac1 / 0_ac2",
          "R1 Structures: Frequency and Overall Score for lantids/PI/ 1_m / 0_ts / 0_lab / 1_pi / 0_ac1 / 0_ac2",
          "R1 Structures: Frequency and Overall Score for lantids/lab/ 1_m / 0_ts / 1_lab / 0_pi / 0_ac1 / 0_ac2",
          "R1 Structures: Frequency and Overall Score for lantids/lab/ 1_m / 0_ts / 2_lab / 0_pi / 0_ac1 / 0_ac2",
          "R1 Structures: Frequency and Overall Score for lantids/ts/ 1_m / 1_ts / 0_lab / 0_pi / 0_ac1 / 0_ac2",
          "R1 Structures: Frequency and Overall Score for lantids/PI/ 1_m / 1_ts / 0_lab / 1_pi / 0_ac1 / 0_ac2",
          "R1 Structures: Frequency and Overall Score for lantids/lab/ 1_m / 1_ts / 1_lab / 0_pi / 0_ac1 / 0_ac2",
          "R1 Structures: Frequency and Overall Score for lantids/ts/ 1_m / 2_ts / 0_lab / 0_pi / 0_ac1 / 0_ac2",
          "R1 Structures: Frequency and Overall Score for lantids/ac1/ 2_m / 0_ts / 0_lab / 0_pi / 1_ac1 / 0_ac2",
          "R1 Structures: Frequency and Overall Score for lantids/PI/ 2_m / 0_ts / 0_lab / 1_pi / 0_ac1 / 0_ac2",
          "R1 Structures: Frequency and Overall Score for lantids/lab/ 2_m / 0_ts / 1_lab / 0_pi / 0_ac1 / 0_ac2",
          "R1 Structures: Frequency and Overall Score for lantids/PI/ 2_m / 0_ts / 1_lab / 1_pi / 0_ac1 / 0_ac2",
          "R1 Structures: Frequency and Overall Score for lantids/ts/ 2_m / 1_ts / 0_lab / 0_pi / 0_ac1 / 0_ac2",
          "R1 Structures: Frequency and Overall Score for lantids/PI/ 2_m / 1_ts / 0_lab / 1_pi / 0_ac1 / 0_ac2",
          "R1 Structures: Frequency and Overall Score for lantids/lab/ 2_m / 1_ts / 1_lab / 0_pi / 0_ac1 / 0_ac2",
          "R1 Structures: Frequency and Overall Score for lantids/ts/ 2_m / 2_ts / 0_lab / 0_pi / 0_ac1 / 0_ac2",
          "R1 Structures: Frequency and Overall Score for lantids/PI/ 3_m / 0_ts / 0_lab / 1_pi / 0_ac1 / 0_ac2",
          "R1 Structures: Frequency and Overall Score for lantids/lab/ 3_m / 0_ts / 1_lab / 0_pi / 0_ac1 / 0_ac2",
          "R1 Structures: Frequency and Overall Score for lantids/ts/ 3_m / 1_ts / 0_lab / 0_pi / 0_ac1 / 0_ac2",
          "R1 Structures: Frequency and Overall Score for lantids/PI/ 3_m / 1_ts / 0_lab / 1_pi / 0_ac1 / 0_ac2",
          "R1 Structures: Frequency and Overall Score for lantids/PI/ 4_m / 0_ts / 0_lab / 1_pi / 0_ac1 / 0_ac2",
          "R1 Structures: Frequency and Overall Score for lantids/lab/ 4_m / 0_ts / 1_lab / 0_pi / 0_ac1 / 0_ac2",
          "R1 Structures: Frequency and Overall Score for lantids/PI/ 5_m / 0_ts / 0_lab / 1_pi / 0_ac1 / 0_ac2",
          "R1 Structures: Frequency and Overall Score for lantids/lab/ 5_m / 0_ts / 1_lab / 0_pi / 0_ac1 / 0_ac2",
          "R1 Structures: Frequency and Overall Score for lantids/PI/ 6_m / 0_ts / 0_lab / 1_pi / 0_ac1 / 0_ac2",
          "R1 Structures: Frequency and Overall Score for lantids/lab/ 6_m / 0_ts / 1_lab / 0_pi / 0_ac1 / 0_ac2",
          "R1 Structures: Frequency and Overall Score for lantids/PI/ 6_m / 1_ts / 0_lab / 1_pi / 0_ac1 / 0_ac2",
          "R1 Structures: Frequency and Overall Score for lantids/PI/ 7_m / 0_ts / 0_lab / 1_pi / 0_ac1 / 0_ac2",
          "R1 Structures: Frequency and Overall Score for lantids/PI/ 8_m / 0_ts / 0_lab / 1_pi / 0_ac1 / 0_ac2",
          "R1 Structures: Frequency and Overall Score for lantids/PI",
          "R1 Structures: Frequency and Overall Score for lantids/ac1",
          "R1 Structures: Frequency and Overall Score for lantids/ac2",
          "R1 Structures: Frequency and Overall Score for lantids/lab",
          "R1 Structures: Frequency and Overall Score for lantids/ts",
          "R1 Structures: Frequency and Overall Score for lantids"
         ],
         "labels": [
          " 0_m / 0_ts / 2_lab / 0_pi / 0_ac1 / 0_ac2",
          " 0_m / 1_ts / 0_lab / 1_pi / 0_ac1 / 0_ac2",
          " 0_m / 1_ts / 1_lab / 0_pi / 0_ac1 / 0_ac2",
          " 0_m / 3_ts / 0_lab / 0_pi / 0_ac1 / 0_ac2",
          " 1_m / 0_ts / 0_lab / 0_pi / 0_ac1 / 1_ac2",
          " 1_m / 0_ts / 0_lab / 0_pi / 1_ac1 / 0_ac2",
          " 1_m / 0_ts / 0_lab / 1_pi / 0_ac1 / 0_ac2",
          " 1_m / 0_ts / 1_lab / 0_pi / 0_ac1 / 0_ac2",
          " 1_m / 0_ts / 2_lab / 0_pi / 0_ac1 / 0_ac2",
          " 1_m / 1_ts / 0_lab / 0_pi / 0_ac1 / 0_ac2",
          " 1_m / 1_ts / 0_lab / 1_pi / 0_ac1 / 0_ac2",
          " 1_m / 1_ts / 1_lab / 0_pi / 0_ac1 / 0_ac2",
          " 1_m / 2_ts / 0_lab / 0_pi / 0_ac1 / 0_ac2",
          " 2_m / 0_ts / 0_lab / 0_pi / 1_ac1 / 0_ac2",
          " 2_m / 0_ts / 0_lab / 1_pi / 0_ac1 / 0_ac2",
          " 2_m / 0_ts / 1_lab / 0_pi / 0_ac1 / 0_ac2",
          " 2_m / 0_ts / 1_lab / 1_pi / 0_ac1 / 0_ac2",
          " 2_m / 1_ts / 0_lab / 0_pi / 0_ac1 / 0_ac2",
          " 2_m / 1_ts / 0_lab / 1_pi / 0_ac1 / 0_ac2",
          " 2_m / 1_ts / 1_lab / 0_pi / 0_ac1 / 0_ac2",
          " 2_m / 2_ts / 0_lab / 0_pi / 0_ac1 / 0_ac2",
          " 3_m / 0_ts / 0_lab / 1_pi / 0_ac1 / 0_ac2",
          " 3_m / 0_ts / 1_lab / 0_pi / 0_ac1 / 0_ac2",
          " 3_m / 1_ts / 0_lab / 0_pi / 0_ac1 / 0_ac2",
          " 3_m / 1_ts / 0_lab / 1_pi / 0_ac1 / 0_ac2",
          " 4_m / 0_ts / 0_lab / 1_pi / 0_ac1 / 0_ac2",
          " 4_m / 0_ts / 1_lab / 0_pi / 0_ac1 / 0_ac2",
          " 5_m / 0_ts / 0_lab / 1_pi / 0_ac1 / 0_ac2",
          " 5_m / 0_ts / 1_lab / 0_pi / 0_ac1 / 0_ac2",
          " 6_m / 0_ts / 0_lab / 1_pi / 0_ac1 / 0_ac2",
          " 6_m / 0_ts / 1_lab / 0_pi / 0_ac1 / 0_ac2",
          " 6_m / 1_ts / 0_lab / 1_pi / 0_ac1 / 0_ac2",
          " 7_m / 0_ts / 0_lab / 1_pi / 0_ac1 / 0_ac2",
          " 8_m / 0_ts / 0_lab / 1_pi / 0_ac1 / 0_ac2",
          "PI",
          "ac1",
          "ac2",
          "lab",
          "ts",
          "R1 Structures: Frequency and Overall Score for lantids"
         ],
         "marker": {
          "coloraxis": "coloraxis",
          "colors": [
           145,
           108,
           142.66666666666666,
           143,
           138,
           138.63934426229508,
           126.66666666666667,
           135.57894736842104,
           181,
           85.5,
           118.5,
           140.07894736842104,
           129,
           141,
           135.82978723404256,
           147.28571428571428,
           176,
           130.5,
           151.8,
           148.64705882352942,
           114.2,
           135.85802469135803,
           132.96428571428572,
           88.66666666666667,
           166.5,
           151.00666666666666,
           144.26829268292684,
           166.42857142857142,
           170.5,
           193.4,
           160,
           215,
           191.57142857142858,
           196.66666666666666,
           146.8397328881469,
           139.10526315789474,
           138,
           143.1023102310231,
           113.3125,
           144.56281407035175
          ]
         },
         "name": "",
         "parents": [
          "R1 Structures: Frequency and Overall Score for lantids/lab",
          "R1 Structures: Frequency and Overall Score for lantids/PI",
          "R1 Structures: Frequency and Overall Score for lantids/lab",
          "R1 Structures: Frequency and Overall Score for lantids/ts",
          "R1 Structures: Frequency and Overall Score for lantids/ac2",
          "R1 Structures: Frequency and Overall Score for lantids/ac1",
          "R1 Structures: Frequency and Overall Score for lantids/PI",
          "R1 Structures: Frequency and Overall Score for lantids/lab",
          "R1 Structures: Frequency and Overall Score for lantids/lab",
          "R1 Structures: Frequency and Overall Score for lantids/ts",
          "R1 Structures: Frequency and Overall Score for lantids/PI",
          "R1 Structures: Frequency and Overall Score for lantids/lab",
          "R1 Structures: Frequency and Overall Score for lantids/ts",
          "R1 Structures: Frequency and Overall Score for lantids/ac1",
          "R1 Structures: Frequency and Overall Score for lantids/PI",
          "R1 Structures: Frequency and Overall Score for lantids/lab",
          "R1 Structures: Frequency and Overall Score for lantids/PI",
          "R1 Structures: Frequency and Overall Score for lantids/ts",
          "R1 Structures: Frequency and Overall Score for lantids/PI",
          "R1 Structures: Frequency and Overall Score for lantids/lab",
          "R1 Structures: Frequency and Overall Score for lantids/ts",
          "R1 Structures: Frequency and Overall Score for lantids/PI",
          "R1 Structures: Frequency and Overall Score for lantids/lab",
          "R1 Structures: Frequency and Overall Score for lantids/ts",
          "R1 Structures: Frequency and Overall Score for lantids/PI",
          "R1 Structures: Frequency and Overall Score for lantids/PI",
          "R1 Structures: Frequency and Overall Score for lantids/lab",
          "R1 Structures: Frequency and Overall Score for lantids/PI",
          "R1 Structures: Frequency and Overall Score for lantids/lab",
          "R1 Structures: Frequency and Overall Score for lantids/PI",
          "R1 Structures: Frequency and Overall Score for lantids/lab",
          "R1 Structures: Frequency and Overall Score for lantids/PI",
          "R1 Structures: Frequency and Overall Score for lantids/PI",
          "R1 Structures: Frequency and Overall Score for lantids/PI",
          "R1 Structures: Frequency and Overall Score for lantids",
          "R1 Structures: Frequency and Overall Score for lantids",
          "R1 Structures: Frequency and Overall Score for lantids",
          "R1 Structures: Frequency and Overall Score for lantids",
          "R1 Structures: Frequency and Overall Score for lantids",
          ""
         ],
         "type": "treemap",
         "values": [
          2,
          1,
          3,
          2,
          1,
          61,
          3,
          19,
          2,
          2,
          6,
          38,
          2,
          15,
          141,
          105,
          2,
          2,
          20,
          34,
          5,
          162,
          56,
          3,
          2,
          150,
          41,
          91,
          2,
          10,
          1,
          1,
          7,
          3,
          599,
          76,
          1,
          303,
          16,
          995
         ]
        }
       ],
       "layout": {
        "coloraxis": {
         "cmid": 144.30885882929329,
         "colorbar": {
          "title": {
           "text": "ave_score_lantids"
          }
         },
         "colorscale": [
          [
           0,
           "rgb(103,0,31)"
          ],
          [
           0.1,
           "rgb(178,24,43)"
          ],
          [
           0.2,
           "rgb(214,96,77)"
          ],
          [
           0.3,
           "rgb(244,165,130)"
          ],
          [
           0.4,
           "rgb(253,219,199)"
          ],
          [
           0.5,
           "rgb(247,247,247)"
          ],
          [
           0.6,
           "rgb(209,229,240)"
          ],
          [
           0.7,
           "rgb(146,197,222)"
          ],
          [
           0.8,
           "rgb(67,147,195)"
          ],
          [
           0.9,
           "rgb(33,102,172)"
          ],
          [
           1,
           "rgb(5,48,97)"
          ]
         ]
        },
        "legend": {
         "tracegroupgap": 0
        },
        "margin": {
         "b": 25,
         "l": 25,
         "r": 25,
         "t": 50
        },
        "template": {
         "data": {
          "bar": [
           {
            "error_x": {
             "color": "#2a3f5f"
            },
            "error_y": {
             "color": "#2a3f5f"
            },
            "marker": {
             "line": {
              "color": "#E5ECF6",
              "width": 0.5
             },
             "pattern": {
              "fillmode": "overlay",
              "size": 10,
              "solidity": 0.2
             }
            },
            "type": "bar"
           }
          ],
          "barpolar": [
           {
            "marker": {
             "line": {
              "color": "#E5ECF6",
              "width": 0.5
             },
             "pattern": {
              "fillmode": "overlay",
              "size": 10,
              "solidity": 0.2
             }
            },
            "type": "barpolar"
           }
          ],
          "carpet": [
           {
            "aaxis": {
             "endlinecolor": "#2a3f5f",
             "gridcolor": "white",
             "linecolor": "white",
             "minorgridcolor": "white",
             "startlinecolor": "#2a3f5f"
            },
            "baxis": {
             "endlinecolor": "#2a3f5f",
             "gridcolor": "white",
             "linecolor": "white",
             "minorgridcolor": "white",
             "startlinecolor": "#2a3f5f"
            },
            "type": "carpet"
           }
          ],
          "choropleth": [
           {
            "colorbar": {
             "outlinewidth": 0,
             "ticks": ""
            },
            "type": "choropleth"
           }
          ],
          "contour": [
           {
            "colorbar": {
             "outlinewidth": 0,
             "ticks": ""
            },
            "colorscale": [
             [
              0,
              "#0d0887"
             ],
             [
              0.1111111111111111,
              "#46039f"
             ],
             [
              0.2222222222222222,
              "#7201a8"
             ],
             [
              0.3333333333333333,
              "#9c179e"
             ],
             [
              0.4444444444444444,
              "#bd3786"
             ],
             [
              0.5555555555555556,
              "#d8576b"
             ],
             [
              0.6666666666666666,
              "#ed7953"
             ],
             [
              0.7777777777777778,
              "#fb9f3a"
             ],
             [
              0.8888888888888888,
              "#fdca26"
             ],
             [
              1,
              "#f0f921"
             ]
            ],
            "type": "contour"
           }
          ],
          "contourcarpet": [
           {
            "colorbar": {
             "outlinewidth": 0,
             "ticks": ""
            },
            "type": "contourcarpet"
           }
          ],
          "heatmap": [
           {
            "colorbar": {
             "outlinewidth": 0,
             "ticks": ""
            },
            "colorscale": [
             [
              0,
              "#0d0887"
             ],
             [
              0.1111111111111111,
              "#46039f"
             ],
             [
              0.2222222222222222,
              "#7201a8"
             ],
             [
              0.3333333333333333,
              "#9c179e"
             ],
             [
              0.4444444444444444,
              "#bd3786"
             ],
             [
              0.5555555555555556,
              "#d8576b"
             ],
             [
              0.6666666666666666,
              "#ed7953"
             ],
             [
              0.7777777777777778,
              "#fb9f3a"
             ],
             [
              0.8888888888888888,
              "#fdca26"
             ],
             [
              1,
              "#f0f921"
             ]
            ],
            "type": "heatmap"
           }
          ],
          "heatmapgl": [
           {
            "colorbar": {
             "outlinewidth": 0,
             "ticks": ""
            },
            "colorscale": [
             [
              0,
              "#0d0887"
             ],
             [
              0.1111111111111111,
              "#46039f"
             ],
             [
              0.2222222222222222,
              "#7201a8"
             ],
             [
              0.3333333333333333,
              "#9c179e"
             ],
             [
              0.4444444444444444,
              "#bd3786"
             ],
             [
              0.5555555555555556,
              "#d8576b"
             ],
             [
              0.6666666666666666,
              "#ed7953"
             ],
             [
              0.7777777777777778,
              "#fb9f3a"
             ],
             [
              0.8888888888888888,
              "#fdca26"
             ],
             [
              1,
              "#f0f921"
             ]
            ],
            "type": "heatmapgl"
           }
          ],
          "histogram": [
           {
            "marker": {
             "pattern": {
              "fillmode": "overlay",
              "size": 10,
              "solidity": 0.2
             }
            },
            "type": "histogram"
           }
          ],
          "histogram2d": [
           {
            "colorbar": {
             "outlinewidth": 0,
             "ticks": ""
            },
            "colorscale": [
             [
              0,
              "#0d0887"
             ],
             [
              0.1111111111111111,
              "#46039f"
             ],
             [
              0.2222222222222222,
              "#7201a8"
             ],
             [
              0.3333333333333333,
              "#9c179e"
             ],
             [
              0.4444444444444444,
              "#bd3786"
             ],
             [
              0.5555555555555556,
              "#d8576b"
             ],
             [
              0.6666666666666666,
              "#ed7953"
             ],
             [
              0.7777777777777778,
              "#fb9f3a"
             ],
             [
              0.8888888888888888,
              "#fdca26"
             ],
             [
              1,
              "#f0f921"
             ]
            ],
            "type": "histogram2d"
           }
          ],
          "histogram2dcontour": [
           {
            "colorbar": {
             "outlinewidth": 0,
             "ticks": ""
            },
            "colorscale": [
             [
              0,
              "#0d0887"
             ],
             [
              0.1111111111111111,
              "#46039f"
             ],
             [
              0.2222222222222222,
              "#7201a8"
             ],
             [
              0.3333333333333333,
              "#9c179e"
             ],
             [
              0.4444444444444444,
              "#bd3786"
             ],
             [
              0.5555555555555556,
              "#d8576b"
             ],
             [
              0.6666666666666666,
              "#ed7953"
             ],
             [
              0.7777777777777778,
              "#fb9f3a"
             ],
             [
              0.8888888888888888,
              "#fdca26"
             ],
             [
              1,
              "#f0f921"
             ]
            ],
            "type": "histogram2dcontour"
           }
          ],
          "mesh3d": [
           {
            "colorbar": {
             "outlinewidth": 0,
             "ticks": ""
            },
            "type": "mesh3d"
           }
          ],
          "parcoords": [
           {
            "line": {
             "colorbar": {
              "outlinewidth": 0,
              "ticks": ""
             }
            },
            "type": "parcoords"
           }
          ],
          "pie": [
           {
            "automargin": true,
            "type": "pie"
           }
          ],
          "scatter": [
           {
            "marker": {
             "colorbar": {
              "outlinewidth": 0,
              "ticks": ""
             }
            },
            "type": "scatter"
           }
          ],
          "scatter3d": [
           {
            "line": {
             "colorbar": {
              "outlinewidth": 0,
              "ticks": ""
             }
            },
            "marker": {
             "colorbar": {
              "outlinewidth": 0,
              "ticks": ""
             }
            },
            "type": "scatter3d"
           }
          ],
          "scattercarpet": [
           {
            "marker": {
             "colorbar": {
              "outlinewidth": 0,
              "ticks": ""
             }
            },
            "type": "scattercarpet"
           }
          ],
          "scattergeo": [
           {
            "marker": {
             "colorbar": {
              "outlinewidth": 0,
              "ticks": ""
             }
            },
            "type": "scattergeo"
           }
          ],
          "scattergl": [
           {
            "marker": {
             "colorbar": {
              "outlinewidth": 0,
              "ticks": ""
             }
            },
            "type": "scattergl"
           }
          ],
          "scattermapbox": [
           {
            "marker": {
             "colorbar": {
              "outlinewidth": 0,
              "ticks": ""
             }
            },
            "type": "scattermapbox"
           }
          ],
          "scatterpolar": [
           {
            "marker": {
             "colorbar": {
              "outlinewidth": 0,
              "ticks": ""
             }
            },
            "type": "scatterpolar"
           }
          ],
          "scatterpolargl": [
           {
            "marker": {
             "colorbar": {
              "outlinewidth": 0,
              "ticks": ""
             }
            },
            "type": "scatterpolargl"
           }
          ],
          "scatterternary": [
           {
            "marker": {
             "colorbar": {
              "outlinewidth": 0,
              "ticks": ""
             }
            },
            "type": "scatterternary"
           }
          ],
          "surface": [
           {
            "colorbar": {
             "outlinewidth": 0,
             "ticks": ""
            },
            "colorscale": [
             [
              0,
              "#0d0887"
             ],
             [
              0.1111111111111111,
              "#46039f"
             ],
             [
              0.2222222222222222,
              "#7201a8"
             ],
             [
              0.3333333333333333,
              "#9c179e"
             ],
             [
              0.4444444444444444,
              "#bd3786"
             ],
             [
              0.5555555555555556,
              "#d8576b"
             ],
             [
              0.6666666666666666,
              "#ed7953"
             ],
             [
              0.7777777777777778,
              "#fb9f3a"
             ],
             [
              0.8888888888888888,
              "#fdca26"
             ],
             [
              1,
              "#f0f921"
             ]
            ],
            "type": "surface"
           }
          ],
          "table": [
           {
            "cells": {
             "fill": {
              "color": "#EBF0F8"
             },
             "line": {
              "color": "white"
             }
            },
            "header": {
             "fill": {
              "color": "#C8D4E3"
             },
             "line": {
              "color": "white"
             }
            },
            "type": "table"
           }
          ]
         },
         "layout": {
          "annotationdefaults": {
           "arrowcolor": "#2a3f5f",
           "arrowhead": 0,
           "arrowwidth": 1
          },
          "autotypenumbers": "strict",
          "coloraxis": {
           "colorbar": {
            "outlinewidth": 0,
            "ticks": ""
           }
          },
          "colorscale": {
           "diverging": [
            [
             0,
             "#8e0152"
            ],
            [
             0.1,
             "#c51b7d"
            ],
            [
             0.2,
             "#de77ae"
            ],
            [
             0.3,
             "#f1b6da"
            ],
            [
             0.4,
             "#fde0ef"
            ],
            [
             0.5,
             "#f7f7f7"
            ],
            [
             0.6,
             "#e6f5d0"
            ],
            [
             0.7,
             "#b8e186"
            ],
            [
             0.8,
             "#7fbc41"
            ],
            [
             0.9,
             "#4d9221"
            ],
            [
             1,
             "#276419"
            ]
           ],
           "sequential": [
            [
             0,
             "#0d0887"
            ],
            [
             0.1111111111111111,
             "#46039f"
            ],
            [
             0.2222222222222222,
             "#7201a8"
            ],
            [
             0.3333333333333333,
             "#9c179e"
            ],
            [
             0.4444444444444444,
             "#bd3786"
            ],
            [
             0.5555555555555556,
             "#d8576b"
            ],
            [
             0.6666666666666666,
             "#ed7953"
            ],
            [
             0.7777777777777778,
             "#fb9f3a"
            ],
            [
             0.8888888888888888,
             "#fdca26"
            ],
            [
             1,
             "#f0f921"
            ]
           ],
           "sequentialminus": [
            [
             0,
             "#0d0887"
            ],
            [
             0.1111111111111111,
             "#46039f"
            ],
            [
             0.2222222222222222,
             "#7201a8"
            ],
            [
             0.3333333333333333,
             "#9c179e"
            ],
            [
             0.4444444444444444,
             "#bd3786"
            ],
            [
             0.5555555555555556,
             "#d8576b"
            ],
            [
             0.6666666666666666,
             "#ed7953"
            ],
            [
             0.7777777777777778,
             "#fb9f3a"
            ],
            [
             0.8888888888888888,
             "#fdca26"
            ],
            [
             1,
             "#f0f921"
            ]
           ]
          },
          "colorway": [
           "#636efa",
           "#EF553B",
           "#00cc96",
           "#ab63fa",
           "#FFA15A",
           "#19d3f3",
           "#FF6692",
           "#B6E880",
           "#FF97FF",
           "#FECB52"
          ],
          "font": {
           "color": "#2a3f5f"
          },
          "geo": {
           "bgcolor": "white",
           "lakecolor": "white",
           "landcolor": "#E5ECF6",
           "showlakes": true,
           "showland": true,
           "subunitcolor": "white"
          },
          "hoverlabel": {
           "align": "left"
          },
          "hovermode": "closest",
          "mapbox": {
           "style": "light"
          },
          "paper_bgcolor": "white",
          "plot_bgcolor": "#E5ECF6",
          "polar": {
           "angularaxis": {
            "gridcolor": "white",
            "linecolor": "white",
            "ticks": ""
           },
           "bgcolor": "#E5ECF6",
           "radialaxis": {
            "gridcolor": "white",
            "linecolor": "white",
            "ticks": ""
           }
          },
          "scene": {
           "xaxis": {
            "backgroundcolor": "#E5ECF6",
            "gridcolor": "white",
            "gridwidth": 2,
            "linecolor": "white",
            "showbackground": true,
            "ticks": "",
            "zerolinecolor": "white"
           },
           "yaxis": {
            "backgroundcolor": "#E5ECF6",
            "gridcolor": "white",
            "gridwidth": 2,
            "linecolor": "white",
            "showbackground": true,
            "ticks": "",
            "zerolinecolor": "white"
           },
           "zaxis": {
            "backgroundcolor": "#E5ECF6",
            "gridcolor": "white",
            "gridwidth": 2,
            "linecolor": "white",
            "showbackground": true,
            "ticks": "",
            "zerolinecolor": "white"
           }
          },
          "shapedefaults": {
           "line": {
            "color": "#2a3f5f"
           }
          },
          "ternary": {
           "aaxis": {
            "gridcolor": "white",
            "linecolor": "white",
            "ticks": ""
           },
           "baxis": {
            "gridcolor": "white",
            "linecolor": "white",
            "ticks": ""
           },
           "bgcolor": "#E5ECF6",
           "caxis": {
            "gridcolor": "white",
            "linecolor": "white",
            "ticks": ""
           }
          },
          "title": {
           "x": 0.05
          },
          "xaxis": {
           "automargin": true,
           "gridcolor": "white",
           "linecolor": "white",
           "ticks": "",
           "title": {
            "standoff": 15
           },
           "zerolinecolor": "white",
           "zerolinewidth": 2
          },
          "yaxis": {
           "automargin": true,
           "gridcolor": "white",
           "linecolor": "white",
           "ticks": "",
           "title": {
            "standoff": 15
           },
           "zerolinecolor": "white",
           "zerolinewidth": 2
          }
         }
        }
       }
      },
      "text/html": [
       "<div>                            <div id=\"98fee74c-5bac-4ca1-820a-58a4afac88a6\" class=\"plotly-graph-div\" style=\"height:525px; width:100%;\"></div>            <script type=\"text/javascript\">                require([\"plotly\"], function(Plotly) {                    window.PLOTLYENV=window.PLOTLYENV || {};                                    if (document.getElementById(\"98fee74c-5bac-4ca1-820a-58a4afac88a6\")) {                    Plotly.newPlot(                        \"98fee74c-5bac-4ca1-820a-58a4afac88a6\",                        [{\"branchvalues\":\"total\",\"customdata\":[[275.0,145.0],[118.0,108.0],[176.66666666666666,142.66666666666666],[134.0,143.0],[82.0,138.0],[273.8524590163934,138.63934426229508],[306.6666666666667,126.66666666666667],[225.6315789473684,135.57894736842104],[345.0,181.0],[133.0,85.5],[195.83333333333334,118.5],[210.23684210526315,140.07894736842104],[222.5,129.0],[284.0,141.0],[176.17021276595744,135.82978723404256],[220.8,147.28571428571428],[245.0,176.0],[166.5,130.5],[239.3,151.8],[204.8235294117647,148.64705882352942],[144.8,114.2],[169.61111111111111,135.85802469135803],[196.03571428571428,132.96428571428572],[0.6666666666666666,88.66666666666667],[276.5,166.5],[245.96666666666667,151.00666666666666],[228.85365853658536,144.26829268292684],[272.5054945054945,166.42857142857142],[221.0,170.5],[270.7,193.4],[135.0,160.0],[151.0,215.0],[343.57142857142856,191.57142857142858],[266.6666666666667,196.66666666666666],[\"(?)\",146.8397328881469],[\"(?)\",139.10526315789474],[82.0,138.0],[\"(?)\",143.1023102310231],[\"(?)\",113.3125],[\"(?)\",144.56281407035175]],\"domain\":{\"x\":[0.0,1.0],\"y\":[0.0,1.0]},\"hovertemplate\":\"labels=%{label}<br>class_counts=%{value}<br>parent=%{parent}<br>id=%{id}<br>ave_elo_lantids=%{customdata[0]}<br>ave_score_lantids=%{color}<extra></extra>\",\"ids\":[\"R1 Structures: Frequency and Overall Score for lantids/lab/ 0_m / 0_ts / 2_lab / 0_pi / 0_ac1 / 0_ac2\",\"R1 Structures: Frequency and Overall Score for lantids/PI/ 0_m / 1_ts / 0_lab / 1_pi / 0_ac1 / 0_ac2\",\"R1 Structures: Frequency and Overall Score for lantids/lab/ 0_m / 1_ts / 1_lab / 0_pi / 0_ac1 / 0_ac2\",\"R1 Structures: Frequency and Overall Score for lantids/ts/ 0_m / 3_ts / 0_lab / 0_pi / 0_ac1 / 0_ac2\",\"R1 Structures: Frequency and Overall Score for lantids/ac2/ 1_m / 0_ts / 0_lab / 0_pi / 0_ac1 / 1_ac2\",\"R1 Structures: Frequency and Overall Score for lantids/ac1/ 1_m / 0_ts / 0_lab / 0_pi / 1_ac1 / 0_ac2\",\"R1 Structures: Frequency and Overall Score for lantids/PI/ 1_m / 0_ts / 0_lab / 1_pi / 0_ac1 / 0_ac2\",\"R1 Structures: Frequency and Overall Score for lantids/lab/ 1_m / 0_ts / 1_lab / 0_pi / 0_ac1 / 0_ac2\",\"R1 Structures: Frequency and Overall Score for lantids/lab/ 1_m / 0_ts / 2_lab / 0_pi / 0_ac1 / 0_ac2\",\"R1 Structures: Frequency and Overall Score for lantids/ts/ 1_m / 1_ts / 0_lab / 0_pi / 0_ac1 / 0_ac2\",\"R1 Structures: Frequency and Overall Score for lantids/PI/ 1_m / 1_ts / 0_lab / 1_pi / 0_ac1 / 0_ac2\",\"R1 Structures: Frequency and Overall Score for lantids/lab/ 1_m / 1_ts / 1_lab / 0_pi / 0_ac1 / 0_ac2\",\"R1 Structures: Frequency and Overall Score for lantids/ts/ 1_m / 2_ts / 0_lab / 0_pi / 0_ac1 / 0_ac2\",\"R1 Structures: Frequency and Overall Score for lantids/ac1/ 2_m / 0_ts / 0_lab / 0_pi / 1_ac1 / 0_ac2\",\"R1 Structures: Frequency and Overall Score for lantids/PI/ 2_m / 0_ts / 0_lab / 1_pi / 0_ac1 / 0_ac2\",\"R1 Structures: Frequency and Overall Score for lantids/lab/ 2_m / 0_ts / 1_lab / 0_pi / 0_ac1 / 0_ac2\",\"R1 Structures: Frequency and Overall Score for lantids/PI/ 2_m / 0_ts / 1_lab / 1_pi / 0_ac1 / 0_ac2\",\"R1 Structures: Frequency and Overall Score for lantids/ts/ 2_m / 1_ts / 0_lab / 0_pi / 0_ac1 / 0_ac2\",\"R1 Structures: Frequency and Overall Score for lantids/PI/ 2_m / 1_ts / 0_lab / 1_pi / 0_ac1 / 0_ac2\",\"R1 Structures: Frequency and Overall Score for lantids/lab/ 2_m / 1_ts / 1_lab / 0_pi / 0_ac1 / 0_ac2\",\"R1 Structures: Frequency and Overall Score for lantids/ts/ 2_m / 2_ts / 0_lab / 0_pi / 0_ac1 / 0_ac2\",\"R1 Structures: Frequency and Overall Score for lantids/PI/ 3_m / 0_ts / 0_lab / 1_pi / 0_ac1 / 0_ac2\",\"R1 Structures: Frequency and Overall Score for lantids/lab/ 3_m / 0_ts / 1_lab / 0_pi / 0_ac1 / 0_ac2\",\"R1 Structures: Frequency and Overall Score for lantids/ts/ 3_m / 1_ts / 0_lab / 0_pi / 0_ac1 / 0_ac2\",\"R1 Structures: Frequency and Overall Score for lantids/PI/ 3_m / 1_ts / 0_lab / 1_pi / 0_ac1 / 0_ac2\",\"R1 Structures: Frequency and Overall Score for lantids/PI/ 4_m / 0_ts / 0_lab / 1_pi / 0_ac1 / 0_ac2\",\"R1 Structures: Frequency and Overall Score for lantids/lab/ 4_m / 0_ts / 1_lab / 0_pi / 0_ac1 / 0_ac2\",\"R1 Structures: Frequency and Overall Score for lantids/PI/ 5_m / 0_ts / 0_lab / 1_pi / 0_ac1 / 0_ac2\",\"R1 Structures: Frequency and Overall Score for lantids/lab/ 5_m / 0_ts / 1_lab / 0_pi / 0_ac1 / 0_ac2\",\"R1 Structures: Frequency and Overall Score for lantids/PI/ 6_m / 0_ts / 0_lab / 1_pi / 0_ac1 / 0_ac2\",\"R1 Structures: Frequency and Overall Score for lantids/lab/ 6_m / 0_ts / 1_lab / 0_pi / 0_ac1 / 0_ac2\",\"R1 Structures: Frequency and Overall Score for lantids/PI/ 6_m / 1_ts / 0_lab / 1_pi / 0_ac1 / 0_ac2\",\"R1 Structures: Frequency and Overall Score for lantids/PI/ 7_m / 0_ts / 0_lab / 1_pi / 0_ac1 / 0_ac2\",\"R1 Structures: Frequency and Overall Score for lantids/PI/ 8_m / 0_ts / 0_lab / 1_pi / 0_ac1 / 0_ac2\",\"R1 Structures: Frequency and Overall Score for lantids/PI\",\"R1 Structures: Frequency and Overall Score for lantids/ac1\",\"R1 Structures: Frequency and Overall Score for lantids/ac2\",\"R1 Structures: Frequency and Overall Score for lantids/lab\",\"R1 Structures: Frequency and Overall Score for lantids/ts\",\"R1 Structures: Frequency and Overall Score for lantids\"],\"labels\":[\" 0_m / 0_ts / 2_lab / 0_pi / 0_ac1 / 0_ac2\",\" 0_m / 1_ts / 0_lab / 1_pi / 0_ac1 / 0_ac2\",\" 0_m / 1_ts / 1_lab / 0_pi / 0_ac1 / 0_ac2\",\" 0_m / 3_ts / 0_lab / 0_pi / 0_ac1 / 0_ac2\",\" 1_m / 0_ts / 0_lab / 0_pi / 0_ac1 / 1_ac2\",\" 1_m / 0_ts / 0_lab / 0_pi / 1_ac1 / 0_ac2\",\" 1_m / 0_ts / 0_lab / 1_pi / 0_ac1 / 0_ac2\",\" 1_m / 0_ts / 1_lab / 0_pi / 0_ac1 / 0_ac2\",\" 1_m / 0_ts / 2_lab / 0_pi / 0_ac1 / 0_ac2\",\" 1_m / 1_ts / 0_lab / 0_pi / 0_ac1 / 0_ac2\",\" 1_m / 1_ts / 0_lab / 1_pi / 0_ac1 / 0_ac2\",\" 1_m / 1_ts / 1_lab / 0_pi / 0_ac1 / 0_ac2\",\" 1_m / 2_ts / 0_lab / 0_pi / 0_ac1 / 0_ac2\",\" 2_m / 0_ts / 0_lab / 0_pi / 1_ac1 / 0_ac2\",\" 2_m / 0_ts / 0_lab / 1_pi / 0_ac1 / 0_ac2\",\" 2_m / 0_ts / 1_lab / 0_pi / 0_ac1 / 0_ac2\",\" 2_m / 0_ts / 1_lab / 1_pi / 0_ac1 / 0_ac2\",\" 2_m / 1_ts / 0_lab / 0_pi / 0_ac1 / 0_ac2\",\" 2_m / 1_ts / 0_lab / 1_pi / 0_ac1 / 0_ac2\",\" 2_m / 1_ts / 1_lab / 0_pi / 0_ac1 / 0_ac2\",\" 2_m / 2_ts / 0_lab / 0_pi / 0_ac1 / 0_ac2\",\" 3_m / 0_ts / 0_lab / 1_pi / 0_ac1 / 0_ac2\",\" 3_m / 0_ts / 1_lab / 0_pi / 0_ac1 / 0_ac2\",\" 3_m / 1_ts / 0_lab / 0_pi / 0_ac1 / 0_ac2\",\" 3_m / 1_ts / 0_lab / 1_pi / 0_ac1 / 0_ac2\",\" 4_m / 0_ts / 0_lab / 1_pi / 0_ac1 / 0_ac2\",\" 4_m / 0_ts / 1_lab / 0_pi / 0_ac1 / 0_ac2\",\" 5_m / 0_ts / 0_lab / 1_pi / 0_ac1 / 0_ac2\",\" 5_m / 0_ts / 1_lab / 0_pi / 0_ac1 / 0_ac2\",\" 6_m / 0_ts / 0_lab / 1_pi / 0_ac1 / 0_ac2\",\" 6_m / 0_ts / 1_lab / 0_pi / 0_ac1 / 0_ac2\",\" 6_m / 1_ts / 0_lab / 1_pi / 0_ac1 / 0_ac2\",\" 7_m / 0_ts / 0_lab / 1_pi / 0_ac1 / 0_ac2\",\" 8_m / 0_ts / 0_lab / 1_pi / 0_ac1 / 0_ac2\",\"PI\",\"ac1\",\"ac2\",\"lab\",\"ts\",\"R1 Structures: Frequency and Overall Score for lantids\"],\"marker\":{\"coloraxis\":\"coloraxis\",\"colors\":[145.0,108.0,142.66666666666666,143.0,138.0,138.63934426229508,126.66666666666667,135.57894736842104,181.0,85.5,118.5,140.07894736842104,129.0,141.0,135.82978723404256,147.28571428571428,176.0,130.5,151.8,148.64705882352942,114.2,135.85802469135803,132.96428571428572,88.66666666666667,166.5,151.00666666666666,144.26829268292684,166.42857142857142,170.5,193.4,160.0,215.0,191.57142857142858,196.66666666666666,146.8397328881469,139.10526315789474,138.0,143.1023102310231,113.3125,144.56281407035175]},\"name\":\"\",\"parents\":[\"R1 Structures: Frequency and Overall Score for lantids/lab\",\"R1 Structures: Frequency and Overall Score for lantids/PI\",\"R1 Structures: Frequency and Overall Score for lantids/lab\",\"R1 Structures: Frequency and Overall Score for lantids/ts\",\"R1 Structures: Frequency and Overall Score for lantids/ac2\",\"R1 Structures: Frequency and Overall Score for lantids/ac1\",\"R1 Structures: Frequency and Overall Score for lantids/PI\",\"R1 Structures: Frequency and Overall Score for lantids/lab\",\"R1 Structures: Frequency and Overall Score for lantids/lab\",\"R1 Structures: Frequency and Overall Score for lantids/ts\",\"R1 Structures: Frequency and Overall Score for lantids/PI\",\"R1 Structures: Frequency and Overall Score for lantids/lab\",\"R1 Structures: Frequency and Overall Score for lantids/ts\",\"R1 Structures: Frequency and Overall Score for lantids/ac1\",\"R1 Structures: Frequency and Overall Score for lantids/PI\",\"R1 Structures: Frequency and Overall Score for lantids/lab\",\"R1 Structures: Frequency and Overall Score for lantids/PI\",\"R1 Structures: Frequency and Overall Score for lantids/ts\",\"R1 Structures: Frequency and Overall Score for lantids/PI\",\"R1 Structures: Frequency and Overall Score for lantids/lab\",\"R1 Structures: Frequency and Overall Score for lantids/ts\",\"R1 Structures: Frequency and Overall Score for lantids/PI\",\"R1 Structures: Frequency and Overall Score for lantids/lab\",\"R1 Structures: Frequency and Overall Score for lantids/ts\",\"R1 Structures: Frequency and Overall Score for lantids/PI\",\"R1 Structures: Frequency and Overall Score for lantids/PI\",\"R1 Structures: Frequency and Overall Score for lantids/lab\",\"R1 Structures: Frequency and Overall Score for lantids/PI\",\"R1 Structures: Frequency and Overall Score for lantids/lab\",\"R1 Structures: Frequency and Overall Score for lantids/PI\",\"R1 Structures: Frequency and Overall Score for lantids/lab\",\"R1 Structures: Frequency and Overall Score for lantids/PI\",\"R1 Structures: Frequency and Overall Score for lantids/PI\",\"R1 Structures: Frequency and Overall Score for lantids/PI\",\"R1 Structures: Frequency and Overall Score for lantids\",\"R1 Structures: Frequency and Overall Score for lantids\",\"R1 Structures: Frequency and Overall Score for lantids\",\"R1 Structures: Frequency and Overall Score for lantids\",\"R1 Structures: Frequency and Overall Score for lantids\",\"\"],\"values\":[2,1,3,2,1,61,3,19,2,2,6,38,2,15,141,105,2,2,20,34,5,162,56,3,2,150,41,91,2,10,1,1,7,3,599,76,1,303,16,995],\"type\":\"treemap\"}],                        {\"template\":{\"data\":{\"bar\":[{\"error_x\":{\"color\":\"#2a3f5f\"},\"error_y\":{\"color\":\"#2a3f5f\"},\"marker\":{\"line\":{\"color\":\"#E5ECF6\",\"width\":0.5},\"pattern\":{\"fillmode\":\"overlay\",\"size\":10,\"solidity\":0.2}},\"type\":\"bar\"}],\"barpolar\":[{\"marker\":{\"line\":{\"color\":\"#E5ECF6\",\"width\":0.5},\"pattern\":{\"fillmode\":\"overlay\",\"size\":10,\"solidity\":0.2}},\"type\":\"barpolar\"}],\"carpet\":[{\"aaxis\":{\"endlinecolor\":\"#2a3f5f\",\"gridcolor\":\"white\",\"linecolor\":\"white\",\"minorgridcolor\":\"white\",\"startlinecolor\":\"#2a3f5f\"},\"baxis\":{\"endlinecolor\":\"#2a3f5f\",\"gridcolor\":\"white\",\"linecolor\":\"white\",\"minorgridcolor\":\"white\",\"startlinecolor\":\"#2a3f5f\"},\"type\":\"carpet\"}],\"choropleth\":[{\"colorbar\":{\"outlinewidth\":0,\"ticks\":\"\"},\"type\":\"choropleth\"}],\"contour\":[{\"colorbar\":{\"outlinewidth\":0,\"ticks\":\"\"},\"colorscale\":[[0.0,\"#0d0887\"],[0.1111111111111111,\"#46039f\"],[0.2222222222222222,\"#7201a8\"],[0.3333333333333333,\"#9c179e\"],[0.4444444444444444,\"#bd3786\"],[0.5555555555555556,\"#d8576b\"],[0.6666666666666666,\"#ed7953\"],[0.7777777777777778,\"#fb9f3a\"],[0.8888888888888888,\"#fdca26\"],[1.0,\"#f0f921\"]],\"type\":\"contour\"}],\"contourcarpet\":[{\"colorbar\":{\"outlinewidth\":0,\"ticks\":\"\"},\"type\":\"contourcarpet\"}],\"heatmap\":[{\"colorbar\":{\"outlinewidth\":0,\"ticks\":\"\"},\"colorscale\":[[0.0,\"#0d0887\"],[0.1111111111111111,\"#46039f\"],[0.2222222222222222,\"#7201a8\"],[0.3333333333333333,\"#9c179e\"],[0.4444444444444444,\"#bd3786\"],[0.5555555555555556,\"#d8576b\"],[0.6666666666666666,\"#ed7953\"],[0.7777777777777778,\"#fb9f3a\"],[0.8888888888888888,\"#fdca26\"],[1.0,\"#f0f921\"]],\"type\":\"heatmap\"}],\"heatmapgl\":[{\"colorbar\":{\"outlinewidth\":0,\"ticks\":\"\"},\"colorscale\":[[0.0,\"#0d0887\"],[0.1111111111111111,\"#46039f\"],[0.2222222222222222,\"#7201a8\"],[0.3333333333333333,\"#9c179e\"],[0.4444444444444444,\"#bd3786\"],[0.5555555555555556,\"#d8576b\"],[0.6666666666666666,\"#ed7953\"],[0.7777777777777778,\"#fb9f3a\"],[0.8888888888888888,\"#fdca26\"],[1.0,\"#f0f921\"]],\"type\":\"heatmapgl\"}],\"histogram\":[{\"marker\":{\"pattern\":{\"fillmode\":\"overlay\",\"size\":10,\"solidity\":0.2}},\"type\":\"histogram\"}],\"histogram2d\":[{\"colorbar\":{\"outlinewidth\":0,\"ticks\":\"\"},\"colorscale\":[[0.0,\"#0d0887\"],[0.1111111111111111,\"#46039f\"],[0.2222222222222222,\"#7201a8\"],[0.3333333333333333,\"#9c179e\"],[0.4444444444444444,\"#bd3786\"],[0.5555555555555556,\"#d8576b\"],[0.6666666666666666,\"#ed7953\"],[0.7777777777777778,\"#fb9f3a\"],[0.8888888888888888,\"#fdca26\"],[1.0,\"#f0f921\"]],\"type\":\"histogram2d\"}],\"histogram2dcontour\":[{\"colorbar\":{\"outlinewidth\":0,\"ticks\":\"\"},\"colorscale\":[[0.0,\"#0d0887\"],[0.1111111111111111,\"#46039f\"],[0.2222222222222222,\"#7201a8\"],[0.3333333333333333,\"#9c179e\"],[0.4444444444444444,\"#bd3786\"],[0.5555555555555556,\"#d8576b\"],[0.6666666666666666,\"#ed7953\"],[0.7777777777777778,\"#fb9f3a\"],[0.8888888888888888,\"#fdca26\"],[1.0,\"#f0f921\"]],\"type\":\"histogram2dcontour\"}],\"mesh3d\":[{\"colorbar\":{\"outlinewidth\":0,\"ticks\":\"\"},\"type\":\"mesh3d\"}],\"parcoords\":[{\"line\":{\"colorbar\":{\"outlinewidth\":0,\"ticks\":\"\"}},\"type\":\"parcoords\"}],\"pie\":[{\"automargin\":true,\"type\":\"pie\"}],\"scatter\":[{\"marker\":{\"colorbar\":{\"outlinewidth\":0,\"ticks\":\"\"}},\"type\":\"scatter\"}],\"scatter3d\":[{\"line\":{\"colorbar\":{\"outlinewidth\":0,\"ticks\":\"\"}},\"marker\":{\"colorbar\":{\"outlinewidth\":0,\"ticks\":\"\"}},\"type\":\"scatter3d\"}],\"scattercarpet\":[{\"marker\":{\"colorbar\":{\"outlinewidth\":0,\"ticks\":\"\"}},\"type\":\"scattercarpet\"}],\"scattergeo\":[{\"marker\":{\"colorbar\":{\"outlinewidth\":0,\"ticks\":\"\"}},\"type\":\"scattergeo\"}],\"scattergl\":[{\"marker\":{\"colorbar\":{\"outlinewidth\":0,\"ticks\":\"\"}},\"type\":\"scattergl\"}],\"scattermapbox\":[{\"marker\":{\"colorbar\":{\"outlinewidth\":0,\"ticks\":\"\"}},\"type\":\"scattermapbox\"}],\"scatterpolar\":[{\"marker\":{\"colorbar\":{\"outlinewidth\":0,\"ticks\":\"\"}},\"type\":\"scatterpolar\"}],\"scatterpolargl\":[{\"marker\":{\"colorbar\":{\"outlinewidth\":0,\"ticks\":\"\"}},\"type\":\"scatterpolargl\"}],\"scatterternary\":[{\"marker\":{\"colorbar\":{\"outlinewidth\":0,\"ticks\":\"\"}},\"type\":\"scatterternary\"}],\"surface\":[{\"colorbar\":{\"outlinewidth\":0,\"ticks\":\"\"},\"colorscale\":[[0.0,\"#0d0887\"],[0.1111111111111111,\"#46039f\"],[0.2222222222222222,\"#7201a8\"],[0.3333333333333333,\"#9c179e\"],[0.4444444444444444,\"#bd3786\"],[0.5555555555555556,\"#d8576b\"],[0.6666666666666666,\"#ed7953\"],[0.7777777777777778,\"#fb9f3a\"],[0.8888888888888888,\"#fdca26\"],[1.0,\"#f0f921\"]],\"type\":\"surface\"}],\"table\":[{\"cells\":{\"fill\":{\"color\":\"#EBF0F8\"},\"line\":{\"color\":\"white\"}},\"header\":{\"fill\":{\"color\":\"#C8D4E3\"},\"line\":{\"color\":\"white\"}},\"type\":\"table\"}]},\"layout\":{\"annotationdefaults\":{\"arrowcolor\":\"#2a3f5f\",\"arrowhead\":0,\"arrowwidth\":1},\"autotypenumbers\":\"strict\",\"coloraxis\":{\"colorbar\":{\"outlinewidth\":0,\"ticks\":\"\"}},\"colorscale\":{\"diverging\":[[0,\"#8e0152\"],[0.1,\"#c51b7d\"],[0.2,\"#de77ae\"],[0.3,\"#f1b6da\"],[0.4,\"#fde0ef\"],[0.5,\"#f7f7f7\"],[0.6,\"#e6f5d0\"],[0.7,\"#b8e186\"],[0.8,\"#7fbc41\"],[0.9,\"#4d9221\"],[1,\"#276419\"]],\"sequential\":[[0.0,\"#0d0887\"],[0.1111111111111111,\"#46039f\"],[0.2222222222222222,\"#7201a8\"],[0.3333333333333333,\"#9c179e\"],[0.4444444444444444,\"#bd3786\"],[0.5555555555555556,\"#d8576b\"],[0.6666666666666666,\"#ed7953\"],[0.7777777777777778,\"#fb9f3a\"],[0.8888888888888888,\"#fdca26\"],[1.0,\"#f0f921\"]],\"sequentialminus\":[[0.0,\"#0d0887\"],[0.1111111111111111,\"#46039f\"],[0.2222222222222222,\"#7201a8\"],[0.3333333333333333,\"#9c179e\"],[0.4444444444444444,\"#bd3786\"],[0.5555555555555556,\"#d8576b\"],[0.6666666666666666,\"#ed7953\"],[0.7777777777777778,\"#fb9f3a\"],[0.8888888888888888,\"#fdca26\"],[1.0,\"#f0f921\"]]},\"colorway\":[\"#636efa\",\"#EF553B\",\"#00cc96\",\"#ab63fa\",\"#FFA15A\",\"#19d3f3\",\"#FF6692\",\"#B6E880\",\"#FF97FF\",\"#FECB52\"],\"font\":{\"color\":\"#2a3f5f\"},\"geo\":{\"bgcolor\":\"white\",\"lakecolor\":\"white\",\"landcolor\":\"#E5ECF6\",\"showlakes\":true,\"showland\":true,\"subunitcolor\":\"white\"},\"hoverlabel\":{\"align\":\"left\"},\"hovermode\":\"closest\",\"mapbox\":{\"style\":\"light\"},\"paper_bgcolor\":\"white\",\"plot_bgcolor\":\"#E5ECF6\",\"polar\":{\"angularaxis\":{\"gridcolor\":\"white\",\"linecolor\":\"white\",\"ticks\":\"\"},\"bgcolor\":\"#E5ECF6\",\"radialaxis\":{\"gridcolor\":\"white\",\"linecolor\":\"white\",\"ticks\":\"\"}},\"scene\":{\"xaxis\":{\"backgroundcolor\":\"#E5ECF6\",\"gridcolor\":\"white\",\"gridwidth\":2,\"linecolor\":\"white\",\"showbackground\":true,\"ticks\":\"\",\"zerolinecolor\":\"white\"},\"yaxis\":{\"backgroundcolor\":\"#E5ECF6\",\"gridcolor\":\"white\",\"gridwidth\":2,\"linecolor\":\"white\",\"showbackground\":true,\"ticks\":\"\",\"zerolinecolor\":\"white\"},\"zaxis\":{\"backgroundcolor\":\"#E5ECF6\",\"gridcolor\":\"white\",\"gridwidth\":2,\"linecolor\":\"white\",\"showbackground\":true,\"ticks\":\"\",\"zerolinecolor\":\"white\"}},\"shapedefaults\":{\"line\":{\"color\":\"#2a3f5f\"}},\"ternary\":{\"aaxis\":{\"gridcolor\":\"white\",\"linecolor\":\"white\",\"ticks\":\"\"},\"baxis\":{\"gridcolor\":\"white\",\"linecolor\":\"white\",\"ticks\":\"\"},\"bgcolor\":\"#E5ECF6\",\"caxis\":{\"gridcolor\":\"white\",\"linecolor\":\"white\",\"ticks\":\"\"}},\"title\":{\"x\":0.05},\"xaxis\":{\"automargin\":true,\"gridcolor\":\"white\",\"linecolor\":\"white\",\"ticks\":\"\",\"title\":{\"standoff\":15},\"zerolinecolor\":\"white\",\"zerolinewidth\":2},\"yaxis\":{\"automargin\":true,\"gridcolor\":\"white\",\"linecolor\":\"white\",\"ticks\":\"\",\"title\":{\"standoff\":15},\"zerolinecolor\":\"white\",\"zerolinewidth\":2}}},\"coloraxis\":{\"colorbar\":{\"title\":{\"text\":\"ave_score_lantids\"}},\"colorscale\":[[0.0,\"rgb(103,0,31)\"],[0.1,\"rgb(178,24,43)\"],[0.2,\"rgb(214,96,77)\"],[0.3,\"rgb(244,165,130)\"],[0.4,\"rgb(253,219,199)\"],[0.5,\"rgb(247,247,247)\"],[0.6,\"rgb(209,229,240)\"],[0.7,\"rgb(146,197,222)\"],[0.8,\"rgb(67,147,195)\"],[0.9,\"rgb(33,102,172)\"],[1.0,\"rgb(5,48,97)\"]],\"cmid\":144.30885882929329},\"legend\":{\"tracegroupgap\":0},\"margin\":{\"t\":50,\"l\":25,\"r\":25,\"b\":25}},                        {\"responsive\": true}                    ).then(function(){\n",
       "                            \n",
       "var gd = document.getElementById('98fee74c-5bac-4ca1-820a-58a4afac88a6');\n",
       "var x = new MutationObserver(function (mutations, observer) {{\n",
       "        var display = window.getComputedStyle(gd).display;\n",
       "        if (!display || display === 'none') {{\n",
       "            console.log([gd, 'removed!']);\n",
       "            Plotly.purge(gd);\n",
       "            observer.disconnect();\n",
       "        }}\n",
       "}});\n",
       "\n",
       "// Listen for the removal of the full notebook cells\n",
       "var notebookContainer = gd.closest('#notebook-container');\n",
       "if (notebookContainer) {{\n",
       "    x.observe(notebookContainer, {childList: true});\n",
       "}}\n",
       "\n",
       "// Listen for the clearing of the current output cell\n",
       "var outputEl = gd.closest('.output');\n",
       "if (outputEl) {{\n",
       "    x.observe(outputEl, {childList: true});\n",
       "}}\n",
       "\n",
       "                        })                };                });            </script>        </div>"
      ]
     },
     "metadata": {},
     "output_type": "display_data"
    },
    {
     "data": {
      "application/vnd.plotly.v1+json": {
       "config": {
        "plotlyServerURL": "https://plot.ly"
       },
       "data": [
        {
         "branchvalues": "total",
         "customdata": [
          [
           217,
           151
          ],
          [
           122.5,
           111
          ],
          [
           256.4506578947368,
           160.37171052631578
          ],
          [
           163.30769230769232,
           109.07692307692308
          ],
          [
           144.5,
           106.5
          ],
          [
           81.28571428571429,
           106.71428571428571
          ],
          [
           200.62962962962962,
           139.92592592592592
          ],
          [
           272.97752808988764,
           160.08988764044943
          ],
          [
           210.31578947368422,
           143.66315789473686
          ],
          [
           62.333333333333336,
           96
          ],
          [
           215,
           168
          ],
          [
           83.33333333333333,
           134
          ],
          [
           146.625,
           113.875
          ],
          [
           212.42637362637362,
           146.03516483516484
          ],
          [
           246.16666666666666,
           143.66666666666666
          ],
          [
           203.16190476190476,
           149.85714285714286
          ],
          [
           116.83333333333333,
           131.16666666666666
          ],
          [
           121,
           106.66666666666667
          ],
          [
           182.22314049586777,
           138.44628099173553
          ],
          [
           100.5,
           106
          ],
          [
           124,
           137.66666666666666
          ],
          [
           2,
           101
          ],
          [
           240.24444444444444,
           143
          ],
          [
           77,
           111
          ],
          [
           106.25,
           140.75
          ],
          [
           "(?)",
           157.04929577464787
          ],
          [
           "(?)",
           123
          ],
          [
           "(?)",
           144.1494252873563
          ],
          [
           2,
           101
          ],
          [
           "(?)",
           118.53333333333333
          ],
          [
           "(?)",
           147.91723614274866
          ]
         ],
         "domain": {
          "x": [
           0,
           1
          ],
          "y": [
           0,
           1
          ]
         },
         "hovertemplate": "labels=%{label}<br>class_counts=%{value}<br>parent=%{parent}<br>id=%{id}<br>ave_elo_firaks=%{customdata[0]}<br>ave_score_firaks=%{color}<extra></extra>",
         "ids": [
          "R1 Structures: Frequency and Overall Score for firaks/PI/ 0_m / 0_ts / 1_lab / 1_pi / 0_ac1 / 0_ac2",
          "R1 Structures: Frequency and Overall Score for firaks/lab/ 0_m / 0_ts / 2_lab / 0_pi / 0_ac1 / 0_ac2",
          "R1 Structures: Frequency and Overall Score for firaks/PI/ 0_m / 1_ts / 0_lab / 1_pi / 0_ac1 / 0_ac2",
          "R1 Structures: Frequency and Overall Score for firaks/lab/ 0_m / 1_ts / 1_lab / 0_pi / 0_ac1 / 0_ac2",
          "R1 Structures: Frequency and Overall Score for firaks/ac1/ 1_m / 0_ts / 0_lab / 0_pi / 1_ac1 / 0_ac2",
          "R1 Structures: Frequency and Overall Score for firaks/PI/ 1_m / 0_ts / 0_lab / 1_pi / 0_ac1 / 0_ac2",
          "R1 Structures: Frequency and Overall Score for firaks/lab/ 1_m / 0_ts / 1_lab / 0_pi / 0_ac1 / 0_ac2",
          "R1 Structures: Frequency and Overall Score for firaks/PI/ 1_m / 1_ts / 0_lab / 1_pi / 0_ac1 / 0_ac2",
          "R1 Structures: Frequency and Overall Score for firaks/lab/ 1_m / 1_ts / 1_lab / 0_pi / 0_ac1 / 0_ac2",
          "R1 Structures: Frequency and Overall Score for firaks/ts/ 1_m / 2_ts / 0_lab / 0_pi / 0_ac1 / 0_ac2",
          "R1 Structures: Frequency and Overall Score for firaks/ts/ 1_m / 3_ts / 0_lab / 0_pi / 0_ac1 / 0_ac2",
          "R1 Structures: Frequency and Overall Score for firaks/ac1/ 2_m / 0_ts / 0_lab / 0_pi / 1_ac1 / 0_ac2",
          "R1 Structures: Frequency and Overall Score for firaks/PI/ 2_m / 0_ts / 0_lab / 1_pi / 0_ac1 / 0_ac2",
          "R1 Structures: Frequency and Overall Score for firaks/lab/ 2_m / 0_ts / 1_lab / 0_pi / 0_ac1 / 0_ac2",
          "R1 Structures: Frequency and Overall Score for firaks/PI/ 2_m / 1_ts / 0_lab / 1_pi / 0_ac1 / 0_ac2",
          "R1 Structures: Frequency and Overall Score for firaks/lab/ 2_m / 1_ts / 1_lab / 0_pi / 0_ac1 / 0_ac2",
          "R1 Structures: Frequency and Overall Score for firaks/ts/ 2_m / 2_ts / 0_lab / 0_pi / 0_ac1 / 0_ac2",
          "R1 Structures: Frequency and Overall Score for firaks/PI/ 3_m / 0_ts / 0_lab / 1_pi / 0_ac1 / 0_ac2",
          "R1 Structures: Frequency and Overall Score for firaks/lab/ 3_m / 0_ts / 1_lab / 0_pi / 0_ac1 / 0_ac2",
          "R1 Structures: Frequency and Overall Score for firaks/ts/ 3_m / 1_ts / 0_lab / 0_pi / 0_ac1 / 0_ac2",
          "R1 Structures: Frequency and Overall Score for firaks/lab/ 3_m / 1_ts / 1_lab / 0_pi / 0_ac1 / 0_ac2",
          "R1 Structures: Frequency and Overall Score for firaks/m/ 4_m / 0_ts / 0_lab / 0_pi / 0_ac1 / 0_ac2",
          "R1 Structures: Frequency and Overall Score for firaks/lab/ 4_m / 0_ts / 1_lab / 0_pi / 0_ac1 / 0_ac2",
          "R1 Structures: Frequency and Overall Score for firaks/ts/ 4_m / 1_ts / 0_lab / 0_pi / 0_ac1 / 0_ac2",
          "R1 Structures: Frequency and Overall Score for firaks/lab/ 5_m / 0_ts / 1_lab / 0_pi / 0_ac1 / 0_ac2",
          "R1 Structures: Frequency and Overall Score for firaks/PI",
          "R1 Structures: Frequency and Overall Score for firaks/ac1",
          "R1 Structures: Frequency and Overall Score for firaks/lab",
          "R1 Structures: Frequency and Overall Score for firaks/m",
          "R1 Structures: Frequency and Overall Score for firaks/ts",
          "R1 Structures: Frequency and Overall Score for firaks"
         ],
         "labels": [
          " 0_m / 0_ts / 1_lab / 1_pi / 0_ac1 / 0_ac2",
          " 0_m / 0_ts / 2_lab / 0_pi / 0_ac1 / 0_ac2",
          " 0_m / 1_ts / 0_lab / 1_pi / 0_ac1 / 0_ac2",
          " 0_m / 1_ts / 1_lab / 0_pi / 0_ac1 / 0_ac2",
          " 1_m / 0_ts / 0_lab / 0_pi / 1_ac1 / 0_ac2",
          " 1_m / 0_ts / 0_lab / 1_pi / 0_ac1 / 0_ac2",
          " 1_m / 0_ts / 1_lab / 0_pi / 0_ac1 / 0_ac2",
          " 1_m / 1_ts / 0_lab / 1_pi / 0_ac1 / 0_ac2",
          " 1_m / 1_ts / 1_lab / 0_pi / 0_ac1 / 0_ac2",
          " 1_m / 2_ts / 0_lab / 0_pi / 0_ac1 / 0_ac2",
          " 1_m / 3_ts / 0_lab / 0_pi / 0_ac1 / 0_ac2",
          " 2_m / 0_ts / 0_lab / 0_pi / 1_ac1 / 0_ac2",
          " 2_m / 0_ts / 0_lab / 1_pi / 0_ac1 / 0_ac2",
          " 2_m / 0_ts / 1_lab / 0_pi / 0_ac1 / 0_ac2",
          " 2_m / 1_ts / 0_lab / 1_pi / 0_ac1 / 0_ac2",
          " 2_m / 1_ts / 1_lab / 0_pi / 0_ac1 / 0_ac2",
          " 2_m / 2_ts / 0_lab / 0_pi / 0_ac1 / 0_ac2",
          " 3_m / 0_ts / 0_lab / 1_pi / 0_ac1 / 0_ac2",
          " 3_m / 0_ts / 1_lab / 0_pi / 0_ac1 / 0_ac2",
          " 3_m / 1_ts / 0_lab / 0_pi / 0_ac1 / 0_ac2",
          " 3_m / 1_ts / 1_lab / 0_pi / 0_ac1 / 0_ac2",
          " 4_m / 0_ts / 0_lab / 0_pi / 0_ac1 / 0_ac2",
          " 4_m / 0_ts / 1_lab / 0_pi / 0_ac1 / 0_ac2",
          " 4_m / 1_ts / 0_lab / 0_pi / 0_ac1 / 0_ac2",
          " 5_m / 0_ts / 1_lab / 0_pi / 0_ac1 / 0_ac2",
          "PI",
          "ac1",
          "lab",
          "m",
          "ts",
          "R1 Structures: Frequency and Overall Score for firaks"
         ],
         "marker": {
          "coloraxis": "coloraxis",
          "colors": [
           151,
           111,
           160.37171052631578,
           109.07692307692308,
           106.5,
           106.71428571428571,
           139.92592592592592,
           160.08988764044943,
           143.66315789473686,
           96,
           168,
           134,
           113.875,
           146.03516483516484,
           143.66666666666666,
           149.85714285714286,
           131.16666666666666,
           106.66666666666667,
           138.44628099173553,
           106,
           137.66666666666666,
           101,
           143,
           111,
           140.75,
           157.04929577464787,
           123,
           144.1494252873563,
           101,
           118.53333333333333,
           147.91723614274866
          ]
         },
         "name": "",
         "parents": [
          "R1 Structures: Frequency and Overall Score for firaks/PI",
          "R1 Structures: Frequency and Overall Score for firaks/lab",
          "R1 Structures: Frequency and Overall Score for firaks/PI",
          "R1 Structures: Frequency and Overall Score for firaks/lab",
          "R1 Structures: Frequency and Overall Score for firaks/ac1",
          "R1 Structures: Frequency and Overall Score for firaks/PI",
          "R1 Structures: Frequency and Overall Score for firaks/lab",
          "R1 Structures: Frequency and Overall Score for firaks/PI",
          "R1 Structures: Frequency and Overall Score for firaks/lab",
          "R1 Structures: Frequency and Overall Score for firaks/ts",
          "R1 Structures: Frequency and Overall Score for firaks/ts",
          "R1 Structures: Frequency and Overall Score for firaks/ac1",
          "R1 Structures: Frequency and Overall Score for firaks/PI",
          "R1 Structures: Frequency and Overall Score for firaks/lab",
          "R1 Structures: Frequency and Overall Score for firaks/PI",
          "R1 Structures: Frequency and Overall Score for firaks/lab",
          "R1 Structures: Frequency and Overall Score for firaks/ts",
          "R1 Structures: Frequency and Overall Score for firaks/PI",
          "R1 Structures: Frequency and Overall Score for firaks/lab",
          "R1 Structures: Frequency and Overall Score for firaks/ts",
          "R1 Structures: Frequency and Overall Score for firaks/lab",
          "R1 Structures: Frequency and Overall Score for firaks/m",
          "R1 Structures: Frequency and Overall Score for firaks/lab",
          "R1 Structures: Frequency and Overall Score for firaks/ts",
          "R1 Structures: Frequency and Overall Score for firaks/lab",
          "R1 Structures: Frequency and Overall Score for firaks",
          "R1 Structures: Frequency and Overall Score for firaks",
          "R1 Structures: Frequency and Overall Score for firaks",
          "R1 Structures: Frequency and Overall Score for firaks",
          "R1 Structures: Frequency and Overall Score for firaks",
          ""
         ],
         "type": "treemap",
         "values": [
          1,
          2,
          304,
          13,
          2,
          7,
          27,
          89,
          95,
          3,
          1,
          3,
          16,
          455,
          6,
          105,
          6,
          3,
          121,
          4,
          3,
          1,
          45,
          1,
          4,
          426,
          5,
          870,
          1,
          15,
          1317
         ]
        }
       ],
       "layout": {
        "coloraxis": {
         "cmid": 144.30885882929329,
         "colorbar": {
          "title": {
           "text": "ave_score_firaks"
          }
         },
         "colorscale": [
          [
           0,
           "rgb(103,0,31)"
          ],
          [
           0.1,
           "rgb(178,24,43)"
          ],
          [
           0.2,
           "rgb(214,96,77)"
          ],
          [
           0.3,
           "rgb(244,165,130)"
          ],
          [
           0.4,
           "rgb(253,219,199)"
          ],
          [
           0.5,
           "rgb(247,247,247)"
          ],
          [
           0.6,
           "rgb(209,229,240)"
          ],
          [
           0.7,
           "rgb(146,197,222)"
          ],
          [
           0.8,
           "rgb(67,147,195)"
          ],
          [
           0.9,
           "rgb(33,102,172)"
          ],
          [
           1,
           "rgb(5,48,97)"
          ]
         ]
        },
        "legend": {
         "tracegroupgap": 0
        },
        "margin": {
         "b": 25,
         "l": 25,
         "r": 25,
         "t": 50
        },
        "template": {
         "data": {
          "bar": [
           {
            "error_x": {
             "color": "#2a3f5f"
            },
            "error_y": {
             "color": "#2a3f5f"
            },
            "marker": {
             "line": {
              "color": "#E5ECF6",
              "width": 0.5
             },
             "pattern": {
              "fillmode": "overlay",
              "size": 10,
              "solidity": 0.2
             }
            },
            "type": "bar"
           }
          ],
          "barpolar": [
           {
            "marker": {
             "line": {
              "color": "#E5ECF6",
              "width": 0.5
             },
             "pattern": {
              "fillmode": "overlay",
              "size": 10,
              "solidity": 0.2
             }
            },
            "type": "barpolar"
           }
          ],
          "carpet": [
           {
            "aaxis": {
             "endlinecolor": "#2a3f5f",
             "gridcolor": "white",
             "linecolor": "white",
             "minorgridcolor": "white",
             "startlinecolor": "#2a3f5f"
            },
            "baxis": {
             "endlinecolor": "#2a3f5f",
             "gridcolor": "white",
             "linecolor": "white",
             "minorgridcolor": "white",
             "startlinecolor": "#2a3f5f"
            },
            "type": "carpet"
           }
          ],
          "choropleth": [
           {
            "colorbar": {
             "outlinewidth": 0,
             "ticks": ""
            },
            "type": "choropleth"
           }
          ],
          "contour": [
           {
            "colorbar": {
             "outlinewidth": 0,
             "ticks": ""
            },
            "colorscale": [
             [
              0,
              "#0d0887"
             ],
             [
              0.1111111111111111,
              "#46039f"
             ],
             [
              0.2222222222222222,
              "#7201a8"
             ],
             [
              0.3333333333333333,
              "#9c179e"
             ],
             [
              0.4444444444444444,
              "#bd3786"
             ],
             [
              0.5555555555555556,
              "#d8576b"
             ],
             [
              0.6666666666666666,
              "#ed7953"
             ],
             [
              0.7777777777777778,
              "#fb9f3a"
             ],
             [
              0.8888888888888888,
              "#fdca26"
             ],
             [
              1,
              "#f0f921"
             ]
            ],
            "type": "contour"
           }
          ],
          "contourcarpet": [
           {
            "colorbar": {
             "outlinewidth": 0,
             "ticks": ""
            },
            "type": "contourcarpet"
           }
          ],
          "heatmap": [
           {
            "colorbar": {
             "outlinewidth": 0,
             "ticks": ""
            },
            "colorscale": [
             [
              0,
              "#0d0887"
             ],
             [
              0.1111111111111111,
              "#46039f"
             ],
             [
              0.2222222222222222,
              "#7201a8"
             ],
             [
              0.3333333333333333,
              "#9c179e"
             ],
             [
              0.4444444444444444,
              "#bd3786"
             ],
             [
              0.5555555555555556,
              "#d8576b"
             ],
             [
              0.6666666666666666,
              "#ed7953"
             ],
             [
              0.7777777777777778,
              "#fb9f3a"
             ],
             [
              0.8888888888888888,
              "#fdca26"
             ],
             [
              1,
              "#f0f921"
             ]
            ],
            "type": "heatmap"
           }
          ],
          "heatmapgl": [
           {
            "colorbar": {
             "outlinewidth": 0,
             "ticks": ""
            },
            "colorscale": [
             [
              0,
              "#0d0887"
             ],
             [
              0.1111111111111111,
              "#46039f"
             ],
             [
              0.2222222222222222,
              "#7201a8"
             ],
             [
              0.3333333333333333,
              "#9c179e"
             ],
             [
              0.4444444444444444,
              "#bd3786"
             ],
             [
              0.5555555555555556,
              "#d8576b"
             ],
             [
              0.6666666666666666,
              "#ed7953"
             ],
             [
              0.7777777777777778,
              "#fb9f3a"
             ],
             [
              0.8888888888888888,
              "#fdca26"
             ],
             [
              1,
              "#f0f921"
             ]
            ],
            "type": "heatmapgl"
           }
          ],
          "histogram": [
           {
            "marker": {
             "pattern": {
              "fillmode": "overlay",
              "size": 10,
              "solidity": 0.2
             }
            },
            "type": "histogram"
           }
          ],
          "histogram2d": [
           {
            "colorbar": {
             "outlinewidth": 0,
             "ticks": ""
            },
            "colorscale": [
             [
              0,
              "#0d0887"
             ],
             [
              0.1111111111111111,
              "#46039f"
             ],
             [
              0.2222222222222222,
              "#7201a8"
             ],
             [
              0.3333333333333333,
              "#9c179e"
             ],
             [
              0.4444444444444444,
              "#bd3786"
             ],
             [
              0.5555555555555556,
              "#d8576b"
             ],
             [
              0.6666666666666666,
              "#ed7953"
             ],
             [
              0.7777777777777778,
              "#fb9f3a"
             ],
             [
              0.8888888888888888,
              "#fdca26"
             ],
             [
              1,
              "#f0f921"
             ]
            ],
            "type": "histogram2d"
           }
          ],
          "histogram2dcontour": [
           {
            "colorbar": {
             "outlinewidth": 0,
             "ticks": ""
            },
            "colorscale": [
             [
              0,
              "#0d0887"
             ],
             [
              0.1111111111111111,
              "#46039f"
             ],
             [
              0.2222222222222222,
              "#7201a8"
             ],
             [
              0.3333333333333333,
              "#9c179e"
             ],
             [
              0.4444444444444444,
              "#bd3786"
             ],
             [
              0.5555555555555556,
              "#d8576b"
             ],
             [
              0.6666666666666666,
              "#ed7953"
             ],
             [
              0.7777777777777778,
              "#fb9f3a"
             ],
             [
              0.8888888888888888,
              "#fdca26"
             ],
             [
              1,
              "#f0f921"
             ]
            ],
            "type": "histogram2dcontour"
           }
          ],
          "mesh3d": [
           {
            "colorbar": {
             "outlinewidth": 0,
             "ticks": ""
            },
            "type": "mesh3d"
           }
          ],
          "parcoords": [
           {
            "line": {
             "colorbar": {
              "outlinewidth": 0,
              "ticks": ""
             }
            },
            "type": "parcoords"
           }
          ],
          "pie": [
           {
            "automargin": true,
            "type": "pie"
           }
          ],
          "scatter": [
           {
            "marker": {
             "colorbar": {
              "outlinewidth": 0,
              "ticks": ""
             }
            },
            "type": "scatter"
           }
          ],
          "scatter3d": [
           {
            "line": {
             "colorbar": {
              "outlinewidth": 0,
              "ticks": ""
             }
            },
            "marker": {
             "colorbar": {
              "outlinewidth": 0,
              "ticks": ""
             }
            },
            "type": "scatter3d"
           }
          ],
          "scattercarpet": [
           {
            "marker": {
             "colorbar": {
              "outlinewidth": 0,
              "ticks": ""
             }
            },
            "type": "scattercarpet"
           }
          ],
          "scattergeo": [
           {
            "marker": {
             "colorbar": {
              "outlinewidth": 0,
              "ticks": ""
             }
            },
            "type": "scattergeo"
           }
          ],
          "scattergl": [
           {
            "marker": {
             "colorbar": {
              "outlinewidth": 0,
              "ticks": ""
             }
            },
            "type": "scattergl"
           }
          ],
          "scattermapbox": [
           {
            "marker": {
             "colorbar": {
              "outlinewidth": 0,
              "ticks": ""
             }
            },
            "type": "scattermapbox"
           }
          ],
          "scatterpolar": [
           {
            "marker": {
             "colorbar": {
              "outlinewidth": 0,
              "ticks": ""
             }
            },
            "type": "scatterpolar"
           }
          ],
          "scatterpolargl": [
           {
            "marker": {
             "colorbar": {
              "outlinewidth": 0,
              "ticks": ""
             }
            },
            "type": "scatterpolargl"
           }
          ],
          "scatterternary": [
           {
            "marker": {
             "colorbar": {
              "outlinewidth": 0,
              "ticks": ""
             }
            },
            "type": "scatterternary"
           }
          ],
          "surface": [
           {
            "colorbar": {
             "outlinewidth": 0,
             "ticks": ""
            },
            "colorscale": [
             [
              0,
              "#0d0887"
             ],
             [
              0.1111111111111111,
              "#46039f"
             ],
             [
              0.2222222222222222,
              "#7201a8"
             ],
             [
              0.3333333333333333,
              "#9c179e"
             ],
             [
              0.4444444444444444,
              "#bd3786"
             ],
             [
              0.5555555555555556,
              "#d8576b"
             ],
             [
              0.6666666666666666,
              "#ed7953"
             ],
             [
              0.7777777777777778,
              "#fb9f3a"
             ],
             [
              0.8888888888888888,
              "#fdca26"
             ],
             [
              1,
              "#f0f921"
             ]
            ],
            "type": "surface"
           }
          ],
          "table": [
           {
            "cells": {
             "fill": {
              "color": "#EBF0F8"
             },
             "line": {
              "color": "white"
             }
            },
            "header": {
             "fill": {
              "color": "#C8D4E3"
             },
             "line": {
              "color": "white"
             }
            },
            "type": "table"
           }
          ]
         },
         "layout": {
          "annotationdefaults": {
           "arrowcolor": "#2a3f5f",
           "arrowhead": 0,
           "arrowwidth": 1
          },
          "autotypenumbers": "strict",
          "coloraxis": {
           "colorbar": {
            "outlinewidth": 0,
            "ticks": ""
           }
          },
          "colorscale": {
           "diverging": [
            [
             0,
             "#8e0152"
            ],
            [
             0.1,
             "#c51b7d"
            ],
            [
             0.2,
             "#de77ae"
            ],
            [
             0.3,
             "#f1b6da"
            ],
            [
             0.4,
             "#fde0ef"
            ],
            [
             0.5,
             "#f7f7f7"
            ],
            [
             0.6,
             "#e6f5d0"
            ],
            [
             0.7,
             "#b8e186"
            ],
            [
             0.8,
             "#7fbc41"
            ],
            [
             0.9,
             "#4d9221"
            ],
            [
             1,
             "#276419"
            ]
           ],
           "sequential": [
            [
             0,
             "#0d0887"
            ],
            [
             0.1111111111111111,
             "#46039f"
            ],
            [
             0.2222222222222222,
             "#7201a8"
            ],
            [
             0.3333333333333333,
             "#9c179e"
            ],
            [
             0.4444444444444444,
             "#bd3786"
            ],
            [
             0.5555555555555556,
             "#d8576b"
            ],
            [
             0.6666666666666666,
             "#ed7953"
            ],
            [
             0.7777777777777778,
             "#fb9f3a"
            ],
            [
             0.8888888888888888,
             "#fdca26"
            ],
            [
             1,
             "#f0f921"
            ]
           ],
           "sequentialminus": [
            [
             0,
             "#0d0887"
            ],
            [
             0.1111111111111111,
             "#46039f"
            ],
            [
             0.2222222222222222,
             "#7201a8"
            ],
            [
             0.3333333333333333,
             "#9c179e"
            ],
            [
             0.4444444444444444,
             "#bd3786"
            ],
            [
             0.5555555555555556,
             "#d8576b"
            ],
            [
             0.6666666666666666,
             "#ed7953"
            ],
            [
             0.7777777777777778,
             "#fb9f3a"
            ],
            [
             0.8888888888888888,
             "#fdca26"
            ],
            [
             1,
             "#f0f921"
            ]
           ]
          },
          "colorway": [
           "#636efa",
           "#EF553B",
           "#00cc96",
           "#ab63fa",
           "#FFA15A",
           "#19d3f3",
           "#FF6692",
           "#B6E880",
           "#FF97FF",
           "#FECB52"
          ],
          "font": {
           "color": "#2a3f5f"
          },
          "geo": {
           "bgcolor": "white",
           "lakecolor": "white",
           "landcolor": "#E5ECF6",
           "showlakes": true,
           "showland": true,
           "subunitcolor": "white"
          },
          "hoverlabel": {
           "align": "left"
          },
          "hovermode": "closest",
          "mapbox": {
           "style": "light"
          },
          "paper_bgcolor": "white",
          "plot_bgcolor": "#E5ECF6",
          "polar": {
           "angularaxis": {
            "gridcolor": "white",
            "linecolor": "white",
            "ticks": ""
           },
           "bgcolor": "#E5ECF6",
           "radialaxis": {
            "gridcolor": "white",
            "linecolor": "white",
            "ticks": ""
           }
          },
          "scene": {
           "xaxis": {
            "backgroundcolor": "#E5ECF6",
            "gridcolor": "white",
            "gridwidth": 2,
            "linecolor": "white",
            "showbackground": true,
            "ticks": "",
            "zerolinecolor": "white"
           },
           "yaxis": {
            "backgroundcolor": "#E5ECF6",
            "gridcolor": "white",
            "gridwidth": 2,
            "linecolor": "white",
            "showbackground": true,
            "ticks": "",
            "zerolinecolor": "white"
           },
           "zaxis": {
            "backgroundcolor": "#E5ECF6",
            "gridcolor": "white",
            "gridwidth": 2,
            "linecolor": "white",
            "showbackground": true,
            "ticks": "",
            "zerolinecolor": "white"
           }
          },
          "shapedefaults": {
           "line": {
            "color": "#2a3f5f"
           }
          },
          "ternary": {
           "aaxis": {
            "gridcolor": "white",
            "linecolor": "white",
            "ticks": ""
           },
           "baxis": {
            "gridcolor": "white",
            "linecolor": "white",
            "ticks": ""
           },
           "bgcolor": "#E5ECF6",
           "caxis": {
            "gridcolor": "white",
            "linecolor": "white",
            "ticks": ""
           }
          },
          "title": {
           "x": 0.05
          },
          "xaxis": {
           "automargin": true,
           "gridcolor": "white",
           "linecolor": "white",
           "ticks": "",
           "title": {
            "standoff": 15
           },
           "zerolinecolor": "white",
           "zerolinewidth": 2
          },
          "yaxis": {
           "automargin": true,
           "gridcolor": "white",
           "linecolor": "white",
           "ticks": "",
           "title": {
            "standoff": 15
           },
           "zerolinecolor": "white",
           "zerolinewidth": 2
          }
         }
        }
       }
      },
      "text/html": [
       "<div>                            <div id=\"d0ab12b6-a6ee-4ccd-ab74-d2104812fa4b\" class=\"plotly-graph-div\" style=\"height:525px; width:100%;\"></div>            <script type=\"text/javascript\">                require([\"plotly\"], function(Plotly) {                    window.PLOTLYENV=window.PLOTLYENV || {};                                    if (document.getElementById(\"d0ab12b6-a6ee-4ccd-ab74-d2104812fa4b\")) {                    Plotly.newPlot(                        \"d0ab12b6-a6ee-4ccd-ab74-d2104812fa4b\",                        [{\"branchvalues\":\"total\",\"customdata\":[[217.0,151.0],[122.5,111.0],[256.4506578947368,160.37171052631578],[163.30769230769232,109.07692307692308],[144.5,106.5],[81.28571428571429,106.71428571428571],[200.62962962962962,139.92592592592592],[272.97752808988764,160.08988764044943],[210.31578947368422,143.66315789473686],[62.333333333333336,96.0],[215.0,168.0],[83.33333333333333,134.0],[146.625,113.875],[212.42637362637362,146.03516483516484],[246.16666666666666,143.66666666666666],[203.16190476190476,149.85714285714286],[116.83333333333333,131.16666666666666],[121.0,106.66666666666667],[182.22314049586777,138.44628099173553],[100.5,106.0],[124.0,137.66666666666666],[2.0,101.0],[240.24444444444444,143.0],[77.0,111.0],[106.25,140.75],[\"(?)\",157.04929577464787],[\"(?)\",123.0],[\"(?)\",144.1494252873563],[2.0,101.0],[\"(?)\",118.53333333333333],[\"(?)\",147.91723614274866]],\"domain\":{\"x\":[0.0,1.0],\"y\":[0.0,1.0]},\"hovertemplate\":\"labels=%{label}<br>class_counts=%{value}<br>parent=%{parent}<br>id=%{id}<br>ave_elo_firaks=%{customdata[0]}<br>ave_score_firaks=%{color}<extra></extra>\",\"ids\":[\"R1 Structures: Frequency and Overall Score for firaks/PI/ 0_m / 0_ts / 1_lab / 1_pi / 0_ac1 / 0_ac2\",\"R1 Structures: Frequency and Overall Score for firaks/lab/ 0_m / 0_ts / 2_lab / 0_pi / 0_ac1 / 0_ac2\",\"R1 Structures: Frequency and Overall Score for firaks/PI/ 0_m / 1_ts / 0_lab / 1_pi / 0_ac1 / 0_ac2\",\"R1 Structures: Frequency and Overall Score for firaks/lab/ 0_m / 1_ts / 1_lab / 0_pi / 0_ac1 / 0_ac2\",\"R1 Structures: Frequency and Overall Score for firaks/ac1/ 1_m / 0_ts / 0_lab / 0_pi / 1_ac1 / 0_ac2\",\"R1 Structures: Frequency and Overall Score for firaks/PI/ 1_m / 0_ts / 0_lab / 1_pi / 0_ac1 / 0_ac2\",\"R1 Structures: Frequency and Overall Score for firaks/lab/ 1_m / 0_ts / 1_lab / 0_pi / 0_ac1 / 0_ac2\",\"R1 Structures: Frequency and Overall Score for firaks/PI/ 1_m / 1_ts / 0_lab / 1_pi / 0_ac1 / 0_ac2\",\"R1 Structures: Frequency and Overall Score for firaks/lab/ 1_m / 1_ts / 1_lab / 0_pi / 0_ac1 / 0_ac2\",\"R1 Structures: Frequency and Overall Score for firaks/ts/ 1_m / 2_ts / 0_lab / 0_pi / 0_ac1 / 0_ac2\",\"R1 Structures: Frequency and Overall Score for firaks/ts/ 1_m / 3_ts / 0_lab / 0_pi / 0_ac1 / 0_ac2\",\"R1 Structures: Frequency and Overall Score for firaks/ac1/ 2_m / 0_ts / 0_lab / 0_pi / 1_ac1 / 0_ac2\",\"R1 Structures: Frequency and Overall Score for firaks/PI/ 2_m / 0_ts / 0_lab / 1_pi / 0_ac1 / 0_ac2\",\"R1 Structures: Frequency and Overall Score for firaks/lab/ 2_m / 0_ts / 1_lab / 0_pi / 0_ac1 / 0_ac2\",\"R1 Structures: Frequency and Overall Score for firaks/PI/ 2_m / 1_ts / 0_lab / 1_pi / 0_ac1 / 0_ac2\",\"R1 Structures: Frequency and Overall Score for firaks/lab/ 2_m / 1_ts / 1_lab / 0_pi / 0_ac1 / 0_ac2\",\"R1 Structures: Frequency and Overall Score for firaks/ts/ 2_m / 2_ts / 0_lab / 0_pi / 0_ac1 / 0_ac2\",\"R1 Structures: Frequency and Overall Score for firaks/PI/ 3_m / 0_ts / 0_lab / 1_pi / 0_ac1 / 0_ac2\",\"R1 Structures: Frequency and Overall Score for firaks/lab/ 3_m / 0_ts / 1_lab / 0_pi / 0_ac1 / 0_ac2\",\"R1 Structures: Frequency and Overall Score for firaks/ts/ 3_m / 1_ts / 0_lab / 0_pi / 0_ac1 / 0_ac2\",\"R1 Structures: Frequency and Overall Score for firaks/lab/ 3_m / 1_ts / 1_lab / 0_pi / 0_ac1 / 0_ac2\",\"R1 Structures: Frequency and Overall Score for firaks/m/ 4_m / 0_ts / 0_lab / 0_pi / 0_ac1 / 0_ac2\",\"R1 Structures: Frequency and Overall Score for firaks/lab/ 4_m / 0_ts / 1_lab / 0_pi / 0_ac1 / 0_ac2\",\"R1 Structures: Frequency and Overall Score for firaks/ts/ 4_m / 1_ts / 0_lab / 0_pi / 0_ac1 / 0_ac2\",\"R1 Structures: Frequency and Overall Score for firaks/lab/ 5_m / 0_ts / 1_lab / 0_pi / 0_ac1 / 0_ac2\",\"R1 Structures: Frequency and Overall Score for firaks/PI\",\"R1 Structures: Frequency and Overall Score for firaks/ac1\",\"R1 Structures: Frequency and Overall Score for firaks/lab\",\"R1 Structures: Frequency and Overall Score for firaks/m\",\"R1 Structures: Frequency and Overall Score for firaks/ts\",\"R1 Structures: Frequency and Overall Score for firaks\"],\"labels\":[\" 0_m / 0_ts / 1_lab / 1_pi / 0_ac1 / 0_ac2\",\" 0_m / 0_ts / 2_lab / 0_pi / 0_ac1 / 0_ac2\",\" 0_m / 1_ts / 0_lab / 1_pi / 0_ac1 / 0_ac2\",\" 0_m / 1_ts / 1_lab / 0_pi / 0_ac1 / 0_ac2\",\" 1_m / 0_ts / 0_lab / 0_pi / 1_ac1 / 0_ac2\",\" 1_m / 0_ts / 0_lab / 1_pi / 0_ac1 / 0_ac2\",\" 1_m / 0_ts / 1_lab / 0_pi / 0_ac1 / 0_ac2\",\" 1_m / 1_ts / 0_lab / 1_pi / 0_ac1 / 0_ac2\",\" 1_m / 1_ts / 1_lab / 0_pi / 0_ac1 / 0_ac2\",\" 1_m / 2_ts / 0_lab / 0_pi / 0_ac1 / 0_ac2\",\" 1_m / 3_ts / 0_lab / 0_pi / 0_ac1 / 0_ac2\",\" 2_m / 0_ts / 0_lab / 0_pi / 1_ac1 / 0_ac2\",\" 2_m / 0_ts / 0_lab / 1_pi / 0_ac1 / 0_ac2\",\" 2_m / 0_ts / 1_lab / 0_pi / 0_ac1 / 0_ac2\",\" 2_m / 1_ts / 0_lab / 1_pi / 0_ac1 / 0_ac2\",\" 2_m / 1_ts / 1_lab / 0_pi / 0_ac1 / 0_ac2\",\" 2_m / 2_ts / 0_lab / 0_pi / 0_ac1 / 0_ac2\",\" 3_m / 0_ts / 0_lab / 1_pi / 0_ac1 / 0_ac2\",\" 3_m / 0_ts / 1_lab / 0_pi / 0_ac1 / 0_ac2\",\" 3_m / 1_ts / 0_lab / 0_pi / 0_ac1 / 0_ac2\",\" 3_m / 1_ts / 1_lab / 0_pi / 0_ac1 / 0_ac2\",\" 4_m / 0_ts / 0_lab / 0_pi / 0_ac1 / 0_ac2\",\" 4_m / 0_ts / 1_lab / 0_pi / 0_ac1 / 0_ac2\",\" 4_m / 1_ts / 0_lab / 0_pi / 0_ac1 / 0_ac2\",\" 5_m / 0_ts / 1_lab / 0_pi / 0_ac1 / 0_ac2\",\"PI\",\"ac1\",\"lab\",\"m\",\"ts\",\"R1 Structures: Frequency and Overall Score for firaks\"],\"marker\":{\"coloraxis\":\"coloraxis\",\"colors\":[151.0,111.0,160.37171052631578,109.07692307692308,106.5,106.71428571428571,139.92592592592592,160.08988764044943,143.66315789473686,96.0,168.0,134.0,113.875,146.03516483516484,143.66666666666666,149.85714285714286,131.16666666666666,106.66666666666667,138.44628099173553,106.0,137.66666666666666,101.0,143.0,111.0,140.75,157.04929577464787,123.0,144.1494252873563,101.0,118.53333333333333,147.91723614274866]},\"name\":\"\",\"parents\":[\"R1 Structures: Frequency and Overall Score for firaks/PI\",\"R1 Structures: Frequency and Overall Score for firaks/lab\",\"R1 Structures: Frequency and Overall Score for firaks/PI\",\"R1 Structures: Frequency and Overall Score for firaks/lab\",\"R1 Structures: Frequency and Overall Score for firaks/ac1\",\"R1 Structures: Frequency and Overall Score for firaks/PI\",\"R1 Structures: Frequency and Overall Score for firaks/lab\",\"R1 Structures: Frequency and Overall Score for firaks/PI\",\"R1 Structures: Frequency and Overall Score for firaks/lab\",\"R1 Structures: Frequency and Overall Score for firaks/ts\",\"R1 Structures: Frequency and Overall Score for firaks/ts\",\"R1 Structures: Frequency and Overall Score for firaks/ac1\",\"R1 Structures: Frequency and Overall Score for firaks/PI\",\"R1 Structures: Frequency and Overall Score for firaks/lab\",\"R1 Structures: Frequency and Overall Score for firaks/PI\",\"R1 Structures: Frequency and Overall Score for firaks/lab\",\"R1 Structures: Frequency and Overall Score for firaks/ts\",\"R1 Structures: Frequency and Overall Score for firaks/PI\",\"R1 Structures: Frequency and Overall Score for firaks/lab\",\"R1 Structures: Frequency and Overall Score for firaks/ts\",\"R1 Structures: Frequency and Overall Score for firaks/lab\",\"R1 Structures: Frequency and Overall Score for firaks/m\",\"R1 Structures: Frequency and Overall Score for firaks/lab\",\"R1 Structures: Frequency and Overall Score for firaks/ts\",\"R1 Structures: Frequency and Overall Score for firaks/lab\",\"R1 Structures: Frequency and Overall Score for firaks\",\"R1 Structures: Frequency and Overall Score for firaks\",\"R1 Structures: Frequency and Overall Score for firaks\",\"R1 Structures: Frequency and Overall Score for firaks\",\"R1 Structures: Frequency and Overall Score for firaks\",\"\"],\"values\":[1,2,304,13,2,7,27,89,95,3,1,3,16,455,6,105,6,3,121,4,3,1,45,1,4,426,5,870,1,15,1317],\"type\":\"treemap\"}],                        {\"template\":{\"data\":{\"bar\":[{\"error_x\":{\"color\":\"#2a3f5f\"},\"error_y\":{\"color\":\"#2a3f5f\"},\"marker\":{\"line\":{\"color\":\"#E5ECF6\",\"width\":0.5},\"pattern\":{\"fillmode\":\"overlay\",\"size\":10,\"solidity\":0.2}},\"type\":\"bar\"}],\"barpolar\":[{\"marker\":{\"line\":{\"color\":\"#E5ECF6\",\"width\":0.5},\"pattern\":{\"fillmode\":\"overlay\",\"size\":10,\"solidity\":0.2}},\"type\":\"barpolar\"}],\"carpet\":[{\"aaxis\":{\"endlinecolor\":\"#2a3f5f\",\"gridcolor\":\"white\",\"linecolor\":\"white\",\"minorgridcolor\":\"white\",\"startlinecolor\":\"#2a3f5f\"},\"baxis\":{\"endlinecolor\":\"#2a3f5f\",\"gridcolor\":\"white\",\"linecolor\":\"white\",\"minorgridcolor\":\"white\",\"startlinecolor\":\"#2a3f5f\"},\"type\":\"carpet\"}],\"choropleth\":[{\"colorbar\":{\"outlinewidth\":0,\"ticks\":\"\"},\"type\":\"choropleth\"}],\"contour\":[{\"colorbar\":{\"outlinewidth\":0,\"ticks\":\"\"},\"colorscale\":[[0.0,\"#0d0887\"],[0.1111111111111111,\"#46039f\"],[0.2222222222222222,\"#7201a8\"],[0.3333333333333333,\"#9c179e\"],[0.4444444444444444,\"#bd3786\"],[0.5555555555555556,\"#d8576b\"],[0.6666666666666666,\"#ed7953\"],[0.7777777777777778,\"#fb9f3a\"],[0.8888888888888888,\"#fdca26\"],[1.0,\"#f0f921\"]],\"type\":\"contour\"}],\"contourcarpet\":[{\"colorbar\":{\"outlinewidth\":0,\"ticks\":\"\"},\"type\":\"contourcarpet\"}],\"heatmap\":[{\"colorbar\":{\"outlinewidth\":0,\"ticks\":\"\"},\"colorscale\":[[0.0,\"#0d0887\"],[0.1111111111111111,\"#46039f\"],[0.2222222222222222,\"#7201a8\"],[0.3333333333333333,\"#9c179e\"],[0.4444444444444444,\"#bd3786\"],[0.5555555555555556,\"#d8576b\"],[0.6666666666666666,\"#ed7953\"],[0.7777777777777778,\"#fb9f3a\"],[0.8888888888888888,\"#fdca26\"],[1.0,\"#f0f921\"]],\"type\":\"heatmap\"}],\"heatmapgl\":[{\"colorbar\":{\"outlinewidth\":0,\"ticks\":\"\"},\"colorscale\":[[0.0,\"#0d0887\"],[0.1111111111111111,\"#46039f\"],[0.2222222222222222,\"#7201a8\"],[0.3333333333333333,\"#9c179e\"],[0.4444444444444444,\"#bd3786\"],[0.5555555555555556,\"#d8576b\"],[0.6666666666666666,\"#ed7953\"],[0.7777777777777778,\"#fb9f3a\"],[0.8888888888888888,\"#fdca26\"],[1.0,\"#f0f921\"]],\"type\":\"heatmapgl\"}],\"histogram\":[{\"marker\":{\"pattern\":{\"fillmode\":\"overlay\",\"size\":10,\"solidity\":0.2}},\"type\":\"histogram\"}],\"histogram2d\":[{\"colorbar\":{\"outlinewidth\":0,\"ticks\":\"\"},\"colorscale\":[[0.0,\"#0d0887\"],[0.1111111111111111,\"#46039f\"],[0.2222222222222222,\"#7201a8\"],[0.3333333333333333,\"#9c179e\"],[0.4444444444444444,\"#bd3786\"],[0.5555555555555556,\"#d8576b\"],[0.6666666666666666,\"#ed7953\"],[0.7777777777777778,\"#fb9f3a\"],[0.8888888888888888,\"#fdca26\"],[1.0,\"#f0f921\"]],\"type\":\"histogram2d\"}],\"histogram2dcontour\":[{\"colorbar\":{\"outlinewidth\":0,\"ticks\":\"\"},\"colorscale\":[[0.0,\"#0d0887\"],[0.1111111111111111,\"#46039f\"],[0.2222222222222222,\"#7201a8\"],[0.3333333333333333,\"#9c179e\"],[0.4444444444444444,\"#bd3786\"],[0.5555555555555556,\"#d8576b\"],[0.6666666666666666,\"#ed7953\"],[0.7777777777777778,\"#fb9f3a\"],[0.8888888888888888,\"#fdca26\"],[1.0,\"#f0f921\"]],\"type\":\"histogram2dcontour\"}],\"mesh3d\":[{\"colorbar\":{\"outlinewidth\":0,\"ticks\":\"\"},\"type\":\"mesh3d\"}],\"parcoords\":[{\"line\":{\"colorbar\":{\"outlinewidth\":0,\"ticks\":\"\"}},\"type\":\"parcoords\"}],\"pie\":[{\"automargin\":true,\"type\":\"pie\"}],\"scatter\":[{\"marker\":{\"colorbar\":{\"outlinewidth\":0,\"ticks\":\"\"}},\"type\":\"scatter\"}],\"scatter3d\":[{\"line\":{\"colorbar\":{\"outlinewidth\":0,\"ticks\":\"\"}},\"marker\":{\"colorbar\":{\"outlinewidth\":0,\"ticks\":\"\"}},\"type\":\"scatter3d\"}],\"scattercarpet\":[{\"marker\":{\"colorbar\":{\"outlinewidth\":0,\"ticks\":\"\"}},\"type\":\"scattercarpet\"}],\"scattergeo\":[{\"marker\":{\"colorbar\":{\"outlinewidth\":0,\"ticks\":\"\"}},\"type\":\"scattergeo\"}],\"scattergl\":[{\"marker\":{\"colorbar\":{\"outlinewidth\":0,\"ticks\":\"\"}},\"type\":\"scattergl\"}],\"scattermapbox\":[{\"marker\":{\"colorbar\":{\"outlinewidth\":0,\"ticks\":\"\"}},\"type\":\"scattermapbox\"}],\"scatterpolar\":[{\"marker\":{\"colorbar\":{\"outlinewidth\":0,\"ticks\":\"\"}},\"type\":\"scatterpolar\"}],\"scatterpolargl\":[{\"marker\":{\"colorbar\":{\"outlinewidth\":0,\"ticks\":\"\"}},\"type\":\"scatterpolargl\"}],\"scatterternary\":[{\"marker\":{\"colorbar\":{\"outlinewidth\":0,\"ticks\":\"\"}},\"type\":\"scatterternary\"}],\"surface\":[{\"colorbar\":{\"outlinewidth\":0,\"ticks\":\"\"},\"colorscale\":[[0.0,\"#0d0887\"],[0.1111111111111111,\"#46039f\"],[0.2222222222222222,\"#7201a8\"],[0.3333333333333333,\"#9c179e\"],[0.4444444444444444,\"#bd3786\"],[0.5555555555555556,\"#d8576b\"],[0.6666666666666666,\"#ed7953\"],[0.7777777777777778,\"#fb9f3a\"],[0.8888888888888888,\"#fdca26\"],[1.0,\"#f0f921\"]],\"type\":\"surface\"}],\"table\":[{\"cells\":{\"fill\":{\"color\":\"#EBF0F8\"},\"line\":{\"color\":\"white\"}},\"header\":{\"fill\":{\"color\":\"#C8D4E3\"},\"line\":{\"color\":\"white\"}},\"type\":\"table\"}]},\"layout\":{\"annotationdefaults\":{\"arrowcolor\":\"#2a3f5f\",\"arrowhead\":0,\"arrowwidth\":1},\"autotypenumbers\":\"strict\",\"coloraxis\":{\"colorbar\":{\"outlinewidth\":0,\"ticks\":\"\"}},\"colorscale\":{\"diverging\":[[0,\"#8e0152\"],[0.1,\"#c51b7d\"],[0.2,\"#de77ae\"],[0.3,\"#f1b6da\"],[0.4,\"#fde0ef\"],[0.5,\"#f7f7f7\"],[0.6,\"#e6f5d0\"],[0.7,\"#b8e186\"],[0.8,\"#7fbc41\"],[0.9,\"#4d9221\"],[1,\"#276419\"]],\"sequential\":[[0.0,\"#0d0887\"],[0.1111111111111111,\"#46039f\"],[0.2222222222222222,\"#7201a8\"],[0.3333333333333333,\"#9c179e\"],[0.4444444444444444,\"#bd3786\"],[0.5555555555555556,\"#d8576b\"],[0.6666666666666666,\"#ed7953\"],[0.7777777777777778,\"#fb9f3a\"],[0.8888888888888888,\"#fdca26\"],[1.0,\"#f0f921\"]],\"sequentialminus\":[[0.0,\"#0d0887\"],[0.1111111111111111,\"#46039f\"],[0.2222222222222222,\"#7201a8\"],[0.3333333333333333,\"#9c179e\"],[0.4444444444444444,\"#bd3786\"],[0.5555555555555556,\"#d8576b\"],[0.6666666666666666,\"#ed7953\"],[0.7777777777777778,\"#fb9f3a\"],[0.8888888888888888,\"#fdca26\"],[1.0,\"#f0f921\"]]},\"colorway\":[\"#636efa\",\"#EF553B\",\"#00cc96\",\"#ab63fa\",\"#FFA15A\",\"#19d3f3\",\"#FF6692\",\"#B6E880\",\"#FF97FF\",\"#FECB52\"],\"font\":{\"color\":\"#2a3f5f\"},\"geo\":{\"bgcolor\":\"white\",\"lakecolor\":\"white\",\"landcolor\":\"#E5ECF6\",\"showlakes\":true,\"showland\":true,\"subunitcolor\":\"white\"},\"hoverlabel\":{\"align\":\"left\"},\"hovermode\":\"closest\",\"mapbox\":{\"style\":\"light\"},\"paper_bgcolor\":\"white\",\"plot_bgcolor\":\"#E5ECF6\",\"polar\":{\"angularaxis\":{\"gridcolor\":\"white\",\"linecolor\":\"white\",\"ticks\":\"\"},\"bgcolor\":\"#E5ECF6\",\"radialaxis\":{\"gridcolor\":\"white\",\"linecolor\":\"white\",\"ticks\":\"\"}},\"scene\":{\"xaxis\":{\"backgroundcolor\":\"#E5ECF6\",\"gridcolor\":\"white\",\"gridwidth\":2,\"linecolor\":\"white\",\"showbackground\":true,\"ticks\":\"\",\"zerolinecolor\":\"white\"},\"yaxis\":{\"backgroundcolor\":\"#E5ECF6\",\"gridcolor\":\"white\",\"gridwidth\":2,\"linecolor\":\"white\",\"showbackground\":true,\"ticks\":\"\",\"zerolinecolor\":\"white\"},\"zaxis\":{\"backgroundcolor\":\"#E5ECF6\",\"gridcolor\":\"white\",\"gridwidth\":2,\"linecolor\":\"white\",\"showbackground\":true,\"ticks\":\"\",\"zerolinecolor\":\"white\"}},\"shapedefaults\":{\"line\":{\"color\":\"#2a3f5f\"}},\"ternary\":{\"aaxis\":{\"gridcolor\":\"white\",\"linecolor\":\"white\",\"ticks\":\"\"},\"baxis\":{\"gridcolor\":\"white\",\"linecolor\":\"white\",\"ticks\":\"\"},\"bgcolor\":\"#E5ECF6\",\"caxis\":{\"gridcolor\":\"white\",\"linecolor\":\"white\",\"ticks\":\"\"}},\"title\":{\"x\":0.05},\"xaxis\":{\"automargin\":true,\"gridcolor\":\"white\",\"linecolor\":\"white\",\"ticks\":\"\",\"title\":{\"standoff\":15},\"zerolinecolor\":\"white\",\"zerolinewidth\":2},\"yaxis\":{\"automargin\":true,\"gridcolor\":\"white\",\"linecolor\":\"white\",\"ticks\":\"\",\"title\":{\"standoff\":15},\"zerolinecolor\":\"white\",\"zerolinewidth\":2}}},\"coloraxis\":{\"colorbar\":{\"title\":{\"text\":\"ave_score_firaks\"}},\"colorscale\":[[0.0,\"rgb(103,0,31)\"],[0.1,\"rgb(178,24,43)\"],[0.2,\"rgb(214,96,77)\"],[0.3,\"rgb(244,165,130)\"],[0.4,\"rgb(253,219,199)\"],[0.5,\"rgb(247,247,247)\"],[0.6,\"rgb(209,229,240)\"],[0.7,\"rgb(146,197,222)\"],[0.8,\"rgb(67,147,195)\"],[0.9,\"rgb(33,102,172)\"],[1.0,\"rgb(5,48,97)\"]],\"cmid\":144.30885882929329},\"legend\":{\"tracegroupgap\":0},\"margin\":{\"t\":50,\"l\":25,\"r\":25,\"b\":25}},                        {\"responsive\": true}                    ).then(function(){\n",
       "                            \n",
       "var gd = document.getElementById('d0ab12b6-a6ee-4ccd-ab74-d2104812fa4b');\n",
       "var x = new MutationObserver(function (mutations, observer) {{\n",
       "        var display = window.getComputedStyle(gd).display;\n",
       "        if (!display || display === 'none') {{\n",
       "            console.log([gd, 'removed!']);\n",
       "            Plotly.purge(gd);\n",
       "            observer.disconnect();\n",
       "        }}\n",
       "}});\n",
       "\n",
       "// Listen for the removal of the full notebook cells\n",
       "var notebookContainer = gd.closest('#notebook-container');\n",
       "if (notebookContainer) {{\n",
       "    x.observe(notebookContainer, {childList: true});\n",
       "}}\n",
       "\n",
       "// Listen for the clearing of the current output cell\n",
       "var outputEl = gd.closest('.output');\n",
       "if (outputEl) {{\n",
       "    x.observe(outputEl, {childList: true});\n",
       "}}\n",
       "\n",
       "                        })                };                });            </script>        </div>"
      ]
     },
     "metadata": {},
     "output_type": "display_data"
    },
    {
     "data": {
      "application/vnd.plotly.v1+json": {
       "config": {
        "plotlyServerURL": "https://plot.ly"
       },
       "data": [
        {
         "branchvalues": "total",
         "customdata": [
          [
           208,
           139.76470588235293
          ],
          [
           127.875,
           122.875
          ],
          [
           185.5,
           138.5
          ],
          [
           148.14285714285714,
           121
          ],
          [
           144.5,
           109.5
          ],
          [
           125.5,
           139.5
          ],
          [
           154.2,
           157.2
          ],
          [
           162.36363636363637,
           119.0909090909091
          ],
          [
           115,
           168
          ],
          [
           268,
           138
          ],
          [
           197.67796610169492,
           142.4406779661017
          ],
          [
           249.25,
           124
          ],
          [
           175.53333333333333,
           137.06666666666666
          ],
          [
           142.02777777777777,
           128.97222222222223
          ],
          [
           215.4,
           149.7
          ],
          [
           161,
           127
          ],
          [
           109.5,
           118.5
          ],
          [
           138.07407407407408,
           126.33333333333333
          ],
          [
           132.45454545454547,
           130.85454545454544
          ],
          [
           138.5,
           129.25
          ],
          [
           188,
           143
          ],
          [
           262.1666666666667,
           146
          ],
          [
           305.3333333333333,
           191.33333333333334
          ],
          [
           237.99404761904762,
           150.11309523809524
          ],
          [
           175.06896551724137,
           133.8793103448276
          ],
          [
           171.66,
           140.88
          ],
          [
           312,
           166
          ],
          [
           183.25,
           153.375
          ],
          [
           156.71428571428572,
           132.95238095238096
          ],
          [
           200,
           148.81521739130434
          ],
          [
           147.33333333333334,
           136.16666666666666
          ],
          [
           112,
           171
          ],
          [
           240.73333333333332,
           154.73333333333332
          ],
          [
           132.55555555555554,
           124.96296296296296
          ],
          [
           179.36666666666667,
           138.58333333333334
          ],
          [
           189,
           135.8
          ],
          [
           97.5,
           114.25
          ],
          [
           249.2,
           159.6
          ],
          [
           149.5,
           143.3
          ],
          [
           206.06369426751593,
           143.60509554140128
          ],
          [
           30,
           150
          ],
          [
           260.5632183908046,
           158.82758620689654
          ],
          [
           377,
           219
          ],
          [
           289.6111111111111,
           160.05555555555554
          ],
          [
           261,
           189
          ],
          [
           "(?)",
           132.13362068965517
          ],
          [
           "(?)",
           147.29032258064515
          ],
          [
           "(?)",
           156.625
          ],
          [
           "(?)",
           144.24679029957204
          ],
          [
           "(?)",
           121.4
          ],
          [
           "(?)",
           131.88888888888889
          ],
          [
           "(?)",
           142.5198752922837
          ]
         ],
         "domain": {
          "x": [
           0,
           1
          ],
          "y": [
           0,
           1
          ]
         },
         "hovertemplate": "labels=%{label}<br>class_counts=%{value}<br>parent=%{parent}<br>id=%{id}<br>ave_elo_hadsch-hallas=%{customdata[0]}<br>ave_score_hadsch-hallas=%{color}<extra></extra>",
         "ids": [
          "R1 Structures: Frequency and Overall Score for hadsch-hallas/PI/ 0_m / 0_ts / 1_lab / 1_pi / 0_ac1 / 0_ac2",
          "R1 Structures: Frequency and Overall Score for hadsch-hallas/lab/ 0_m / 0_ts / 2_lab / 0_pi / 0_ac1 / 0_ac2",
          "R1 Structures: Frequency and Overall Score for hadsch-hallas/ac1/ 0_m / 1_ts / 0_lab / 0_pi / 1_ac1 / 0_ac2",
          "R1 Structures: Frequency and Overall Score for hadsch-hallas/lab/ 0_m / 1_ts / 1_lab / 0_pi / 0_ac1 / 0_ac2",
          "R1 Structures: Frequency and Overall Score for hadsch-hallas/ts/ 0_m / 2_ts / 0_lab / 0_pi / 0_ac1 / 0_ac2",
          "R1 Structures: Frequency and Overall Score for hadsch-hallas/PI/ 0_m / 2_ts / 0_lab / 1_pi / 0_ac1 / 0_ac2",
          "R1 Structures: Frequency and Overall Score for hadsch-hallas/lab/ 0_m / 2_ts / 1_lab / 0_pi / 0_ac1 / 0_ac2",
          "R1 Structures: Frequency and Overall Score for hadsch-hallas/ts/ 0_m / 3_ts / 0_lab / 0_pi / 0_ac1 / 0_ac2",
          "R1 Structures: Frequency and Overall Score for hadsch-hallas/ts/ 0_m / 4_ts / 0_lab / 0_pi / 0_ac1 / 0_ac2",
          "R1 Structures: Frequency and Overall Score for hadsch-hallas/ac2/ 1_m / 0_ts / 0_lab / 0_pi / 0_ac1 / 1_ac2",
          "R1 Structures: Frequency and Overall Score for hadsch-hallas/ac1/ 1_m / 0_ts / 0_lab / 0_pi / 1_ac1 / 0_ac2",
          "R1 Structures: Frequency and Overall Score for hadsch-hallas/PI/ 1_m / 0_ts / 0_lab / 1_pi / 0_ac1 / 0_ac2",
          "R1 Structures: Frequency and Overall Score for hadsch-hallas/lab/ 1_m / 0_ts / 1_lab / 0_pi / 0_ac1 / 0_ac2",
          "R1 Structures: Frequency and Overall Score for hadsch-hallas/PI/ 1_m / 0_ts / 1_lab / 1_pi / 0_ac1 / 0_ac2",
          "R1 Structures: Frequency and Overall Score for hadsch-hallas/lab/ 1_m / 0_ts / 2_lab / 0_pi / 0_ac1 / 0_ac2",
          "R1 Structures: Frequency and Overall Score for hadsch-hallas/ac2/ 1_m / 1_ts / 0_lab / 0_pi / 0_ac1 / 1_ac2",
          "R1 Structures: Frequency and Overall Score for hadsch-hallas/ac1/ 1_m / 1_ts / 0_lab / 0_pi / 1_ac1 / 0_ac2",
          "R1 Structures: Frequency and Overall Score for hadsch-hallas/PI/ 1_m / 1_ts / 0_lab / 1_pi / 0_ac1 / 0_ac2",
          "R1 Structures: Frequency and Overall Score for hadsch-hallas/lab/ 1_m / 1_ts / 1_lab / 0_pi / 0_ac1 / 0_ac2",
          "R1 Structures: Frequency and Overall Score for hadsch-hallas/PI/ 1_m / 2_ts / 0_lab / 1_pi / 0_ac1 / 0_ac2",
          "R1 Structures: Frequency and Overall Score for hadsch-hallas/lab/ 1_m / 2_ts / 1_lab / 0_pi / 0_ac1 / 0_ac2",
          "R1 Structures: Frequency and Overall Score for hadsch-hallas/ts/ 1_m / 3_ts / 0_lab / 0_pi / 0_ac1 / 0_ac2",
          "R1 Structures: Frequency and Overall Score for hadsch-hallas/ac2/ 2_m / 0_ts / 0_lab / 0_pi / 0_ac1 / 1_ac2",
          "R1 Structures: Frequency and Overall Score for hadsch-hallas/ac1/ 2_m / 0_ts / 0_lab / 0_pi / 1_ac1 / 0_ac2",
          "R1 Structures: Frequency and Overall Score for hadsch-hallas/PI/ 2_m / 0_ts / 0_lab / 1_pi / 0_ac1 / 0_ac2",
          "R1 Structures: Frequency and Overall Score for hadsch-hallas/lab/ 2_m / 0_ts / 1_lab / 0_pi / 0_ac1 / 0_ac2",
          "R1 Structures: Frequency and Overall Score for hadsch-hallas/PI/ 2_m / 0_ts / 1_lab / 1_pi / 0_ac1 / 0_ac2",
          "R1 Structures: Frequency and Overall Score for hadsch-hallas/lab/ 2_m / 0_ts / 2_lab / 0_pi / 0_ac1 / 0_ac2",
          "R1 Structures: Frequency and Overall Score for hadsch-hallas/PI/ 2_m / 1_ts / 0_lab / 1_pi / 0_ac1 / 0_ac2",
          "R1 Structures: Frequency and Overall Score for hadsch-hallas/lab/ 2_m / 1_ts / 1_lab / 0_pi / 0_ac1 / 0_ac2",
          "R1 Structures: Frequency and Overall Score for hadsch-hallas/ts/ 2_m / 2_ts / 0_lab / 0_pi / 0_ac1 / 0_ac2",
          "R1 Structures: Frequency and Overall Score for hadsch-hallas/ts/ 2_m / 3_ts / 0_lab / 0_pi / 0_ac1 / 0_ac2",
          "R1 Structures: Frequency and Overall Score for hadsch-hallas/ac1/ 3_m / 0_ts / 0_lab / 0_pi / 1_ac1 / 0_ac2",
          "R1 Structures: Frequency and Overall Score for hadsch-hallas/PI/ 3_m / 0_ts / 0_lab / 1_pi / 0_ac1 / 0_ac2",
          "R1 Structures: Frequency and Overall Score for hadsch-hallas/lab/ 3_m / 0_ts / 1_lab / 0_pi / 0_ac1 / 0_ac2",
          "R1 Structures: Frequency and Overall Score for hadsch-hallas/lab/ 3_m / 1_ts / 1_lab / 0_pi / 0_ac1 / 0_ac2",
          "R1 Structures: Frequency and Overall Score for hadsch-hallas/m/ 4_m / 0_ts / 0_lab / 0_pi / 0_ac1 / 0_ac2",
          "R1 Structures: Frequency and Overall Score for hadsch-hallas/ac1/ 4_m / 0_ts / 0_lab / 0_pi / 1_ac1 / 0_ac2",
          "R1 Structures: Frequency and Overall Score for hadsch-hallas/PI/ 4_m / 0_ts / 0_lab / 1_pi / 0_ac1 / 0_ac2",
          "R1 Structures: Frequency and Overall Score for hadsch-hallas/lab/ 4_m / 0_ts / 1_lab / 0_pi / 0_ac1 / 0_ac2",
          "R1 Structures: Frequency and Overall Score for hadsch-hallas/m/ 5_m / 0_ts / 0_lab / 0_pi / 0_ac1 / 0_ac2",
          "R1 Structures: Frequency and Overall Score for hadsch-hallas/lab/ 5_m / 0_ts / 1_lab / 0_pi / 0_ac1 / 0_ac2",
          "R1 Structures: Frequency and Overall Score for hadsch-hallas/lab/ 5_m / 1_ts / 1_lab / 0_pi / 0_ac1 / 0_ac2",
          "R1 Structures: Frequency and Overall Score for hadsch-hallas/lab/ 6_m / 0_ts / 1_lab / 0_pi / 0_ac1 / 0_ac2",
          "R1 Structures: Frequency and Overall Score for hadsch-hallas/lab/ 7_m / 0_ts / 1_lab / 0_pi / 0_ac1 / 0_ac2",
          "R1 Structures: Frequency and Overall Score for hadsch-hallas/PI",
          "R1 Structures: Frequency and Overall Score for hadsch-hallas/ac1",
          "R1 Structures: Frequency and Overall Score for hadsch-hallas/ac2",
          "R1 Structures: Frequency and Overall Score for hadsch-hallas/lab",
          "R1 Structures: Frequency and Overall Score for hadsch-hallas/m",
          "R1 Structures: Frequency and Overall Score for hadsch-hallas/ts",
          "R1 Structures: Frequency and Overall Score for hadsch-hallas"
         ],
         "labels": [
          " 0_m / 0_ts / 1_lab / 1_pi / 0_ac1 / 0_ac2",
          " 0_m / 0_ts / 2_lab / 0_pi / 0_ac1 / 0_ac2",
          " 0_m / 1_ts / 0_lab / 0_pi / 1_ac1 / 0_ac2",
          " 0_m / 1_ts / 1_lab / 0_pi / 0_ac1 / 0_ac2",
          " 0_m / 2_ts / 0_lab / 0_pi / 0_ac1 / 0_ac2",
          " 0_m / 2_ts / 0_lab / 1_pi / 0_ac1 / 0_ac2",
          " 0_m / 2_ts / 1_lab / 0_pi / 0_ac1 / 0_ac2",
          " 0_m / 3_ts / 0_lab / 0_pi / 0_ac1 / 0_ac2",
          " 0_m / 4_ts / 0_lab / 0_pi / 0_ac1 / 0_ac2",
          " 1_m / 0_ts / 0_lab / 0_pi / 0_ac1 / 1_ac2",
          " 1_m / 0_ts / 0_lab / 0_pi / 1_ac1 / 0_ac2",
          " 1_m / 0_ts / 0_lab / 1_pi / 0_ac1 / 0_ac2",
          " 1_m / 0_ts / 1_lab / 0_pi / 0_ac1 / 0_ac2",
          " 1_m / 0_ts / 1_lab / 1_pi / 0_ac1 / 0_ac2",
          " 1_m / 0_ts / 2_lab / 0_pi / 0_ac1 / 0_ac2",
          " 1_m / 1_ts / 0_lab / 0_pi / 0_ac1 / 1_ac2",
          " 1_m / 1_ts / 0_lab / 0_pi / 1_ac1 / 0_ac2",
          " 1_m / 1_ts / 0_lab / 1_pi / 0_ac1 / 0_ac2",
          " 1_m / 1_ts / 1_lab / 0_pi / 0_ac1 / 0_ac2",
          " 1_m / 2_ts / 0_lab / 1_pi / 0_ac1 / 0_ac2",
          " 1_m / 2_ts / 1_lab / 0_pi / 0_ac1 / 0_ac2",
          " 1_m / 3_ts / 0_lab / 0_pi / 0_ac1 / 0_ac2",
          " 2_m / 0_ts / 0_lab / 0_pi / 0_ac1 / 1_ac2",
          " 2_m / 0_ts / 0_lab / 0_pi / 1_ac1 / 0_ac2",
          " 2_m / 0_ts / 0_lab / 1_pi / 0_ac1 / 0_ac2",
          " 2_m / 0_ts / 1_lab / 0_pi / 0_ac1 / 0_ac2",
          " 2_m / 0_ts / 1_lab / 1_pi / 0_ac1 / 0_ac2",
          " 2_m / 0_ts / 2_lab / 0_pi / 0_ac1 / 0_ac2",
          " 2_m / 1_ts / 0_lab / 1_pi / 0_ac1 / 0_ac2",
          " 2_m / 1_ts / 1_lab / 0_pi / 0_ac1 / 0_ac2",
          " 2_m / 2_ts / 0_lab / 0_pi / 0_ac1 / 0_ac2",
          " 2_m / 3_ts / 0_lab / 0_pi / 0_ac1 / 0_ac2",
          " 3_m / 0_ts / 0_lab / 0_pi / 1_ac1 / 0_ac2",
          " 3_m / 0_ts / 0_lab / 1_pi / 0_ac1 / 0_ac2",
          " 3_m / 0_ts / 1_lab / 0_pi / 0_ac1 / 0_ac2",
          " 3_m / 1_ts / 1_lab / 0_pi / 0_ac1 / 0_ac2",
          " 4_m / 0_ts / 0_lab / 0_pi / 0_ac1 / 0_ac2",
          " 4_m / 0_ts / 0_lab / 0_pi / 1_ac1 / 0_ac2",
          " 4_m / 0_ts / 0_lab / 1_pi / 0_ac1 / 0_ac2",
          " 4_m / 0_ts / 1_lab / 0_pi / 0_ac1 / 0_ac2",
          " 5_m / 0_ts / 0_lab / 0_pi / 0_ac1 / 0_ac2",
          " 5_m / 0_ts / 1_lab / 0_pi / 0_ac1 / 0_ac2",
          " 5_m / 1_ts / 1_lab / 0_pi / 0_ac1 / 0_ac2",
          " 6_m / 0_ts / 1_lab / 0_pi / 0_ac1 / 0_ac2",
          " 7_m / 0_ts / 1_lab / 0_pi / 0_ac1 / 0_ac2",
          "PI",
          "ac1",
          "ac2",
          "lab",
          "m",
          "ts",
          "R1 Structures: Frequency and Overall Score for hadsch-hallas"
         ],
         "marker": {
          "coloraxis": "coloraxis",
          "colors": [
           139.76470588235293,
           122.875,
           138.5,
           121,
           109.5,
           139.5,
           157.2,
           119.0909090909091,
           168,
           138,
           142.4406779661017,
           124,
           137.06666666666666,
           128.97222222222223,
           149.7,
           127,
           118.5,
           126.33333333333333,
           130.85454545454544,
           129.25,
           143,
           146,
           191.33333333333334,
           150.11309523809524,
           133.8793103448276,
           140.88,
           166,
           153.375,
           132.95238095238096,
           148.81521739130434,
           136.16666666666666,
           171,
           154.73333333333332,
           124.96296296296296,
           138.58333333333334,
           135.8,
           114.25,
           159.6,
           143.3,
           143.60509554140128,
           150,
           158.82758620689654,
           219,
           160.05555555555554,
           189,
           132.13362068965517,
           147.29032258064515,
           156.625,
           144.24679029957204,
           121.4,
           131.88888888888889,
           142.5198752922837
          ]
         },
         "name": "",
         "parents": [
          "R1 Structures: Frequency and Overall Score for hadsch-hallas/PI",
          "R1 Structures: Frequency and Overall Score for hadsch-hallas/lab",
          "R1 Structures: Frequency and Overall Score for hadsch-hallas/ac1",
          "R1 Structures: Frequency and Overall Score for hadsch-hallas/lab",
          "R1 Structures: Frequency and Overall Score for hadsch-hallas/ts",
          "R1 Structures: Frequency and Overall Score for hadsch-hallas/PI",
          "R1 Structures: Frequency and Overall Score for hadsch-hallas/lab",
          "R1 Structures: Frequency and Overall Score for hadsch-hallas/ts",
          "R1 Structures: Frequency and Overall Score for hadsch-hallas/ts",
          "R1 Structures: Frequency and Overall Score for hadsch-hallas/ac2",
          "R1 Structures: Frequency and Overall Score for hadsch-hallas/ac1",
          "R1 Structures: Frequency and Overall Score for hadsch-hallas/PI",
          "R1 Structures: Frequency and Overall Score for hadsch-hallas/lab",
          "R1 Structures: Frequency and Overall Score for hadsch-hallas/PI",
          "R1 Structures: Frequency and Overall Score for hadsch-hallas/lab",
          "R1 Structures: Frequency and Overall Score for hadsch-hallas/ac2",
          "R1 Structures: Frequency and Overall Score for hadsch-hallas/ac1",
          "R1 Structures: Frequency and Overall Score for hadsch-hallas/PI",
          "R1 Structures: Frequency and Overall Score for hadsch-hallas/lab",
          "R1 Structures: Frequency and Overall Score for hadsch-hallas/PI",
          "R1 Structures: Frequency and Overall Score for hadsch-hallas/lab",
          "R1 Structures: Frequency and Overall Score for hadsch-hallas/ts",
          "R1 Structures: Frequency and Overall Score for hadsch-hallas/ac2",
          "R1 Structures: Frequency and Overall Score for hadsch-hallas/ac1",
          "R1 Structures: Frequency and Overall Score for hadsch-hallas/PI",
          "R1 Structures: Frequency and Overall Score for hadsch-hallas/lab",
          "R1 Structures: Frequency and Overall Score for hadsch-hallas/PI",
          "R1 Structures: Frequency and Overall Score for hadsch-hallas/lab",
          "R1 Structures: Frequency and Overall Score for hadsch-hallas/PI",
          "R1 Structures: Frequency and Overall Score for hadsch-hallas/lab",
          "R1 Structures: Frequency and Overall Score for hadsch-hallas/ts",
          "R1 Structures: Frequency and Overall Score for hadsch-hallas/ts",
          "R1 Structures: Frequency and Overall Score for hadsch-hallas/ac1",
          "R1 Structures: Frequency and Overall Score for hadsch-hallas/PI",
          "R1 Structures: Frequency and Overall Score for hadsch-hallas/lab",
          "R1 Structures: Frequency and Overall Score for hadsch-hallas/lab",
          "R1 Structures: Frequency and Overall Score for hadsch-hallas/m",
          "R1 Structures: Frequency and Overall Score for hadsch-hallas/ac1",
          "R1 Structures: Frequency and Overall Score for hadsch-hallas/PI",
          "R1 Structures: Frequency and Overall Score for hadsch-hallas/lab",
          "R1 Structures: Frequency and Overall Score for hadsch-hallas/m",
          "R1 Structures: Frequency and Overall Score for hadsch-hallas/lab",
          "R1 Structures: Frequency and Overall Score for hadsch-hallas/lab",
          "R1 Structures: Frequency and Overall Score for hadsch-hallas/lab",
          "R1 Structures: Frequency and Overall Score for hadsch-hallas/lab",
          "R1 Structures: Frequency and Overall Score for hadsch-hallas",
          "R1 Structures: Frequency and Overall Score for hadsch-hallas",
          "R1 Structures: Frequency and Overall Score for hadsch-hallas",
          "R1 Structures: Frequency and Overall Score for hadsch-hallas",
          "R1 Structures: Frequency and Overall Score for hadsch-hallas",
          "R1 Structures: Frequency and Overall Score for hadsch-hallas",
          ""
         ],
         "type": "treemap",
         "values": [
          17,
          8,
          2,
          7,
          2,
          4,
          5,
          11,
          1,
          4,
          118,
          4,
          15,
          36,
          20,
          1,
          2,
          27,
          55,
          4,
          2,
          6,
          3,
          168,
          58,
          100,
          3,
          8,
          42,
          92,
          6,
          1,
          15,
          27,
          120,
          5,
          4,
          5,
          10,
          157,
          1,
          87,
          1,
          18,
          1,
          232,
          310,
          8,
          701,
          5,
          27,
          1283
         ]
        }
       ],
       "layout": {
        "coloraxis": {
         "cmid": 144.30885882929329,
         "colorbar": {
          "title": {
           "text": "ave_score_hadsch-hallas"
          }
         },
         "colorscale": [
          [
           0,
           "rgb(103,0,31)"
          ],
          [
           0.1,
           "rgb(178,24,43)"
          ],
          [
           0.2,
           "rgb(214,96,77)"
          ],
          [
           0.3,
           "rgb(244,165,130)"
          ],
          [
           0.4,
           "rgb(253,219,199)"
          ],
          [
           0.5,
           "rgb(247,247,247)"
          ],
          [
           0.6,
           "rgb(209,229,240)"
          ],
          [
           0.7,
           "rgb(146,197,222)"
          ],
          [
           0.8,
           "rgb(67,147,195)"
          ],
          [
           0.9,
           "rgb(33,102,172)"
          ],
          [
           1,
           "rgb(5,48,97)"
          ]
         ]
        },
        "legend": {
         "tracegroupgap": 0
        },
        "margin": {
         "b": 25,
         "l": 25,
         "r": 25,
         "t": 50
        },
        "template": {
         "data": {
          "bar": [
           {
            "error_x": {
             "color": "#2a3f5f"
            },
            "error_y": {
             "color": "#2a3f5f"
            },
            "marker": {
             "line": {
              "color": "#E5ECF6",
              "width": 0.5
             },
             "pattern": {
              "fillmode": "overlay",
              "size": 10,
              "solidity": 0.2
             }
            },
            "type": "bar"
           }
          ],
          "barpolar": [
           {
            "marker": {
             "line": {
              "color": "#E5ECF6",
              "width": 0.5
             },
             "pattern": {
              "fillmode": "overlay",
              "size": 10,
              "solidity": 0.2
             }
            },
            "type": "barpolar"
           }
          ],
          "carpet": [
           {
            "aaxis": {
             "endlinecolor": "#2a3f5f",
             "gridcolor": "white",
             "linecolor": "white",
             "minorgridcolor": "white",
             "startlinecolor": "#2a3f5f"
            },
            "baxis": {
             "endlinecolor": "#2a3f5f",
             "gridcolor": "white",
             "linecolor": "white",
             "minorgridcolor": "white",
             "startlinecolor": "#2a3f5f"
            },
            "type": "carpet"
           }
          ],
          "choropleth": [
           {
            "colorbar": {
             "outlinewidth": 0,
             "ticks": ""
            },
            "type": "choropleth"
           }
          ],
          "contour": [
           {
            "colorbar": {
             "outlinewidth": 0,
             "ticks": ""
            },
            "colorscale": [
             [
              0,
              "#0d0887"
             ],
             [
              0.1111111111111111,
              "#46039f"
             ],
             [
              0.2222222222222222,
              "#7201a8"
             ],
             [
              0.3333333333333333,
              "#9c179e"
             ],
             [
              0.4444444444444444,
              "#bd3786"
             ],
             [
              0.5555555555555556,
              "#d8576b"
             ],
             [
              0.6666666666666666,
              "#ed7953"
             ],
             [
              0.7777777777777778,
              "#fb9f3a"
             ],
             [
              0.8888888888888888,
              "#fdca26"
             ],
             [
              1,
              "#f0f921"
             ]
            ],
            "type": "contour"
           }
          ],
          "contourcarpet": [
           {
            "colorbar": {
             "outlinewidth": 0,
             "ticks": ""
            },
            "type": "contourcarpet"
           }
          ],
          "heatmap": [
           {
            "colorbar": {
             "outlinewidth": 0,
             "ticks": ""
            },
            "colorscale": [
             [
              0,
              "#0d0887"
             ],
             [
              0.1111111111111111,
              "#46039f"
             ],
             [
              0.2222222222222222,
              "#7201a8"
             ],
             [
              0.3333333333333333,
              "#9c179e"
             ],
             [
              0.4444444444444444,
              "#bd3786"
             ],
             [
              0.5555555555555556,
              "#d8576b"
             ],
             [
              0.6666666666666666,
              "#ed7953"
             ],
             [
              0.7777777777777778,
              "#fb9f3a"
             ],
             [
              0.8888888888888888,
              "#fdca26"
             ],
             [
              1,
              "#f0f921"
             ]
            ],
            "type": "heatmap"
           }
          ],
          "heatmapgl": [
           {
            "colorbar": {
             "outlinewidth": 0,
             "ticks": ""
            },
            "colorscale": [
             [
              0,
              "#0d0887"
             ],
             [
              0.1111111111111111,
              "#46039f"
             ],
             [
              0.2222222222222222,
              "#7201a8"
             ],
             [
              0.3333333333333333,
              "#9c179e"
             ],
             [
              0.4444444444444444,
              "#bd3786"
             ],
             [
              0.5555555555555556,
              "#d8576b"
             ],
             [
              0.6666666666666666,
              "#ed7953"
             ],
             [
              0.7777777777777778,
              "#fb9f3a"
             ],
             [
              0.8888888888888888,
              "#fdca26"
             ],
             [
              1,
              "#f0f921"
             ]
            ],
            "type": "heatmapgl"
           }
          ],
          "histogram": [
           {
            "marker": {
             "pattern": {
              "fillmode": "overlay",
              "size": 10,
              "solidity": 0.2
             }
            },
            "type": "histogram"
           }
          ],
          "histogram2d": [
           {
            "colorbar": {
             "outlinewidth": 0,
             "ticks": ""
            },
            "colorscale": [
             [
              0,
              "#0d0887"
             ],
             [
              0.1111111111111111,
              "#46039f"
             ],
             [
              0.2222222222222222,
              "#7201a8"
             ],
             [
              0.3333333333333333,
              "#9c179e"
             ],
             [
              0.4444444444444444,
              "#bd3786"
             ],
             [
              0.5555555555555556,
              "#d8576b"
             ],
             [
              0.6666666666666666,
              "#ed7953"
             ],
             [
              0.7777777777777778,
              "#fb9f3a"
             ],
             [
              0.8888888888888888,
              "#fdca26"
             ],
             [
              1,
              "#f0f921"
             ]
            ],
            "type": "histogram2d"
           }
          ],
          "histogram2dcontour": [
           {
            "colorbar": {
             "outlinewidth": 0,
             "ticks": ""
            },
            "colorscale": [
             [
              0,
              "#0d0887"
             ],
             [
              0.1111111111111111,
              "#46039f"
             ],
             [
              0.2222222222222222,
              "#7201a8"
             ],
             [
              0.3333333333333333,
              "#9c179e"
             ],
             [
              0.4444444444444444,
              "#bd3786"
             ],
             [
              0.5555555555555556,
              "#d8576b"
             ],
             [
              0.6666666666666666,
              "#ed7953"
             ],
             [
              0.7777777777777778,
              "#fb9f3a"
             ],
             [
              0.8888888888888888,
              "#fdca26"
             ],
             [
              1,
              "#f0f921"
             ]
            ],
            "type": "histogram2dcontour"
           }
          ],
          "mesh3d": [
           {
            "colorbar": {
             "outlinewidth": 0,
             "ticks": ""
            },
            "type": "mesh3d"
           }
          ],
          "parcoords": [
           {
            "line": {
             "colorbar": {
              "outlinewidth": 0,
              "ticks": ""
             }
            },
            "type": "parcoords"
           }
          ],
          "pie": [
           {
            "automargin": true,
            "type": "pie"
           }
          ],
          "scatter": [
           {
            "marker": {
             "colorbar": {
              "outlinewidth": 0,
              "ticks": ""
             }
            },
            "type": "scatter"
           }
          ],
          "scatter3d": [
           {
            "line": {
             "colorbar": {
              "outlinewidth": 0,
              "ticks": ""
             }
            },
            "marker": {
             "colorbar": {
              "outlinewidth": 0,
              "ticks": ""
             }
            },
            "type": "scatter3d"
           }
          ],
          "scattercarpet": [
           {
            "marker": {
             "colorbar": {
              "outlinewidth": 0,
              "ticks": ""
             }
            },
            "type": "scattercarpet"
           }
          ],
          "scattergeo": [
           {
            "marker": {
             "colorbar": {
              "outlinewidth": 0,
              "ticks": ""
             }
            },
            "type": "scattergeo"
           }
          ],
          "scattergl": [
           {
            "marker": {
             "colorbar": {
              "outlinewidth": 0,
              "ticks": ""
             }
            },
            "type": "scattergl"
           }
          ],
          "scattermapbox": [
           {
            "marker": {
             "colorbar": {
              "outlinewidth": 0,
              "ticks": ""
             }
            },
            "type": "scattermapbox"
           }
          ],
          "scatterpolar": [
           {
            "marker": {
             "colorbar": {
              "outlinewidth": 0,
              "ticks": ""
             }
            },
            "type": "scatterpolar"
           }
          ],
          "scatterpolargl": [
           {
            "marker": {
             "colorbar": {
              "outlinewidth": 0,
              "ticks": ""
             }
            },
            "type": "scatterpolargl"
           }
          ],
          "scatterternary": [
           {
            "marker": {
             "colorbar": {
              "outlinewidth": 0,
              "ticks": ""
             }
            },
            "type": "scatterternary"
           }
          ],
          "surface": [
           {
            "colorbar": {
             "outlinewidth": 0,
             "ticks": ""
            },
            "colorscale": [
             [
              0,
              "#0d0887"
             ],
             [
              0.1111111111111111,
              "#46039f"
             ],
             [
              0.2222222222222222,
              "#7201a8"
             ],
             [
              0.3333333333333333,
              "#9c179e"
             ],
             [
              0.4444444444444444,
              "#bd3786"
             ],
             [
              0.5555555555555556,
              "#d8576b"
             ],
             [
              0.6666666666666666,
              "#ed7953"
             ],
             [
              0.7777777777777778,
              "#fb9f3a"
             ],
             [
              0.8888888888888888,
              "#fdca26"
             ],
             [
              1,
              "#f0f921"
             ]
            ],
            "type": "surface"
           }
          ],
          "table": [
           {
            "cells": {
             "fill": {
              "color": "#EBF0F8"
             },
             "line": {
              "color": "white"
             }
            },
            "header": {
             "fill": {
              "color": "#C8D4E3"
             },
             "line": {
              "color": "white"
             }
            },
            "type": "table"
           }
          ]
         },
         "layout": {
          "annotationdefaults": {
           "arrowcolor": "#2a3f5f",
           "arrowhead": 0,
           "arrowwidth": 1
          },
          "autotypenumbers": "strict",
          "coloraxis": {
           "colorbar": {
            "outlinewidth": 0,
            "ticks": ""
           }
          },
          "colorscale": {
           "diverging": [
            [
             0,
             "#8e0152"
            ],
            [
             0.1,
             "#c51b7d"
            ],
            [
             0.2,
             "#de77ae"
            ],
            [
             0.3,
             "#f1b6da"
            ],
            [
             0.4,
             "#fde0ef"
            ],
            [
             0.5,
             "#f7f7f7"
            ],
            [
             0.6,
             "#e6f5d0"
            ],
            [
             0.7,
             "#b8e186"
            ],
            [
             0.8,
             "#7fbc41"
            ],
            [
             0.9,
             "#4d9221"
            ],
            [
             1,
             "#276419"
            ]
           ],
           "sequential": [
            [
             0,
             "#0d0887"
            ],
            [
             0.1111111111111111,
             "#46039f"
            ],
            [
             0.2222222222222222,
             "#7201a8"
            ],
            [
             0.3333333333333333,
             "#9c179e"
            ],
            [
             0.4444444444444444,
             "#bd3786"
            ],
            [
             0.5555555555555556,
             "#d8576b"
            ],
            [
             0.6666666666666666,
             "#ed7953"
            ],
            [
             0.7777777777777778,
             "#fb9f3a"
            ],
            [
             0.8888888888888888,
             "#fdca26"
            ],
            [
             1,
             "#f0f921"
            ]
           ],
           "sequentialminus": [
            [
             0,
             "#0d0887"
            ],
            [
             0.1111111111111111,
             "#46039f"
            ],
            [
             0.2222222222222222,
             "#7201a8"
            ],
            [
             0.3333333333333333,
             "#9c179e"
            ],
            [
             0.4444444444444444,
             "#bd3786"
            ],
            [
             0.5555555555555556,
             "#d8576b"
            ],
            [
             0.6666666666666666,
             "#ed7953"
            ],
            [
             0.7777777777777778,
             "#fb9f3a"
            ],
            [
             0.8888888888888888,
             "#fdca26"
            ],
            [
             1,
             "#f0f921"
            ]
           ]
          },
          "colorway": [
           "#636efa",
           "#EF553B",
           "#00cc96",
           "#ab63fa",
           "#FFA15A",
           "#19d3f3",
           "#FF6692",
           "#B6E880",
           "#FF97FF",
           "#FECB52"
          ],
          "font": {
           "color": "#2a3f5f"
          },
          "geo": {
           "bgcolor": "white",
           "lakecolor": "white",
           "landcolor": "#E5ECF6",
           "showlakes": true,
           "showland": true,
           "subunitcolor": "white"
          },
          "hoverlabel": {
           "align": "left"
          },
          "hovermode": "closest",
          "mapbox": {
           "style": "light"
          },
          "paper_bgcolor": "white",
          "plot_bgcolor": "#E5ECF6",
          "polar": {
           "angularaxis": {
            "gridcolor": "white",
            "linecolor": "white",
            "ticks": ""
           },
           "bgcolor": "#E5ECF6",
           "radialaxis": {
            "gridcolor": "white",
            "linecolor": "white",
            "ticks": ""
           }
          },
          "scene": {
           "xaxis": {
            "backgroundcolor": "#E5ECF6",
            "gridcolor": "white",
            "gridwidth": 2,
            "linecolor": "white",
            "showbackground": true,
            "ticks": "",
            "zerolinecolor": "white"
           },
           "yaxis": {
            "backgroundcolor": "#E5ECF6",
            "gridcolor": "white",
            "gridwidth": 2,
            "linecolor": "white",
            "showbackground": true,
            "ticks": "",
            "zerolinecolor": "white"
           },
           "zaxis": {
            "backgroundcolor": "#E5ECF6",
            "gridcolor": "white",
            "gridwidth": 2,
            "linecolor": "white",
            "showbackground": true,
            "ticks": "",
            "zerolinecolor": "white"
           }
          },
          "shapedefaults": {
           "line": {
            "color": "#2a3f5f"
           }
          },
          "ternary": {
           "aaxis": {
            "gridcolor": "white",
            "linecolor": "white",
            "ticks": ""
           },
           "baxis": {
            "gridcolor": "white",
            "linecolor": "white",
            "ticks": ""
           },
           "bgcolor": "#E5ECF6",
           "caxis": {
            "gridcolor": "white",
            "linecolor": "white",
            "ticks": ""
           }
          },
          "title": {
           "x": 0.05
          },
          "xaxis": {
           "automargin": true,
           "gridcolor": "white",
           "linecolor": "white",
           "ticks": "",
           "title": {
            "standoff": 15
           },
           "zerolinecolor": "white",
           "zerolinewidth": 2
          },
          "yaxis": {
           "automargin": true,
           "gridcolor": "white",
           "linecolor": "white",
           "ticks": "",
           "title": {
            "standoff": 15
           },
           "zerolinecolor": "white",
           "zerolinewidth": 2
          }
         }
        }
       }
      },
      "text/html": [
       "<div>                            <div id=\"025de194-d053-4d28-988d-81358e32c85a\" class=\"plotly-graph-div\" style=\"height:525px; width:100%;\"></div>            <script type=\"text/javascript\">                require([\"plotly\"], function(Plotly) {                    window.PLOTLYENV=window.PLOTLYENV || {};                                    if (document.getElementById(\"025de194-d053-4d28-988d-81358e32c85a\")) {                    Plotly.newPlot(                        \"025de194-d053-4d28-988d-81358e32c85a\",                        [{\"branchvalues\":\"total\",\"customdata\":[[208.0,139.76470588235293],[127.875,122.875],[185.5,138.5],[148.14285714285714,121.0],[144.5,109.5],[125.5,139.5],[154.2,157.2],[162.36363636363637,119.0909090909091],[115.0,168.0],[268.0,138.0],[197.67796610169492,142.4406779661017],[249.25,124.0],[175.53333333333333,137.06666666666666],[142.02777777777777,128.97222222222223],[215.4,149.7],[161.0,127.0],[109.5,118.5],[138.07407407407408,126.33333333333333],[132.45454545454547,130.85454545454544],[138.5,129.25],[188.0,143.0],[262.1666666666667,146.0],[305.3333333333333,191.33333333333334],[237.99404761904762,150.11309523809524],[175.06896551724137,133.8793103448276],[171.66,140.88],[312.0,166.0],[183.25,153.375],[156.71428571428572,132.95238095238096],[200.0,148.81521739130434],[147.33333333333334,136.16666666666666],[112.0,171.0],[240.73333333333332,154.73333333333332],[132.55555555555554,124.96296296296296],[179.36666666666667,138.58333333333334],[189.0,135.8],[97.5,114.25],[249.2,159.6],[149.5,143.3],[206.06369426751593,143.60509554140128],[30.0,150.0],[260.5632183908046,158.82758620689654],[377.0,219.0],[289.6111111111111,160.05555555555554],[261.0,189.0],[\"(?)\",132.13362068965517],[\"(?)\",147.29032258064515],[\"(?)\",156.625],[\"(?)\",144.24679029957204],[\"(?)\",121.4],[\"(?)\",131.88888888888889],[\"(?)\",142.5198752922837]],\"domain\":{\"x\":[0.0,1.0],\"y\":[0.0,1.0]},\"hovertemplate\":\"labels=%{label}<br>class_counts=%{value}<br>parent=%{parent}<br>id=%{id}<br>ave_elo_hadsch-hallas=%{customdata[0]}<br>ave_score_hadsch-hallas=%{color}<extra></extra>\",\"ids\":[\"R1 Structures: Frequency and Overall Score for hadsch-hallas/PI/ 0_m / 0_ts / 1_lab / 1_pi / 0_ac1 / 0_ac2\",\"R1 Structures: Frequency and Overall Score for hadsch-hallas/lab/ 0_m / 0_ts / 2_lab / 0_pi / 0_ac1 / 0_ac2\",\"R1 Structures: Frequency and Overall Score for hadsch-hallas/ac1/ 0_m / 1_ts / 0_lab / 0_pi / 1_ac1 / 0_ac2\",\"R1 Structures: Frequency and Overall Score for hadsch-hallas/lab/ 0_m / 1_ts / 1_lab / 0_pi / 0_ac1 / 0_ac2\",\"R1 Structures: Frequency and Overall Score for hadsch-hallas/ts/ 0_m / 2_ts / 0_lab / 0_pi / 0_ac1 / 0_ac2\",\"R1 Structures: Frequency and Overall Score for hadsch-hallas/PI/ 0_m / 2_ts / 0_lab / 1_pi / 0_ac1 / 0_ac2\",\"R1 Structures: Frequency and Overall Score for hadsch-hallas/lab/ 0_m / 2_ts / 1_lab / 0_pi / 0_ac1 / 0_ac2\",\"R1 Structures: Frequency and Overall Score for hadsch-hallas/ts/ 0_m / 3_ts / 0_lab / 0_pi / 0_ac1 / 0_ac2\",\"R1 Structures: Frequency and Overall Score for hadsch-hallas/ts/ 0_m / 4_ts / 0_lab / 0_pi / 0_ac1 / 0_ac2\",\"R1 Structures: Frequency and Overall Score for hadsch-hallas/ac2/ 1_m / 0_ts / 0_lab / 0_pi / 0_ac1 / 1_ac2\",\"R1 Structures: Frequency and Overall Score for hadsch-hallas/ac1/ 1_m / 0_ts / 0_lab / 0_pi / 1_ac1 / 0_ac2\",\"R1 Structures: Frequency and Overall Score for hadsch-hallas/PI/ 1_m / 0_ts / 0_lab / 1_pi / 0_ac1 / 0_ac2\",\"R1 Structures: Frequency and Overall Score for hadsch-hallas/lab/ 1_m / 0_ts / 1_lab / 0_pi / 0_ac1 / 0_ac2\",\"R1 Structures: Frequency and Overall Score for hadsch-hallas/PI/ 1_m / 0_ts / 1_lab / 1_pi / 0_ac1 / 0_ac2\",\"R1 Structures: Frequency and Overall Score for hadsch-hallas/lab/ 1_m / 0_ts / 2_lab / 0_pi / 0_ac1 / 0_ac2\",\"R1 Structures: Frequency and Overall Score for hadsch-hallas/ac2/ 1_m / 1_ts / 0_lab / 0_pi / 0_ac1 / 1_ac2\",\"R1 Structures: Frequency and Overall Score for hadsch-hallas/ac1/ 1_m / 1_ts / 0_lab / 0_pi / 1_ac1 / 0_ac2\",\"R1 Structures: Frequency and Overall Score for hadsch-hallas/PI/ 1_m / 1_ts / 0_lab / 1_pi / 0_ac1 / 0_ac2\",\"R1 Structures: Frequency and Overall Score for hadsch-hallas/lab/ 1_m / 1_ts / 1_lab / 0_pi / 0_ac1 / 0_ac2\",\"R1 Structures: Frequency and Overall Score for hadsch-hallas/PI/ 1_m / 2_ts / 0_lab / 1_pi / 0_ac1 / 0_ac2\",\"R1 Structures: Frequency and Overall Score for hadsch-hallas/lab/ 1_m / 2_ts / 1_lab / 0_pi / 0_ac1 / 0_ac2\",\"R1 Structures: Frequency and Overall Score for hadsch-hallas/ts/ 1_m / 3_ts / 0_lab / 0_pi / 0_ac1 / 0_ac2\",\"R1 Structures: Frequency and Overall Score for hadsch-hallas/ac2/ 2_m / 0_ts / 0_lab / 0_pi / 0_ac1 / 1_ac2\",\"R1 Structures: Frequency and Overall Score for hadsch-hallas/ac1/ 2_m / 0_ts / 0_lab / 0_pi / 1_ac1 / 0_ac2\",\"R1 Structures: Frequency and Overall Score for hadsch-hallas/PI/ 2_m / 0_ts / 0_lab / 1_pi / 0_ac1 / 0_ac2\",\"R1 Structures: Frequency and Overall Score for hadsch-hallas/lab/ 2_m / 0_ts / 1_lab / 0_pi / 0_ac1 / 0_ac2\",\"R1 Structures: Frequency and Overall Score for hadsch-hallas/PI/ 2_m / 0_ts / 1_lab / 1_pi / 0_ac1 / 0_ac2\",\"R1 Structures: Frequency and Overall Score for hadsch-hallas/lab/ 2_m / 0_ts / 2_lab / 0_pi / 0_ac1 / 0_ac2\",\"R1 Structures: Frequency and Overall Score for hadsch-hallas/PI/ 2_m / 1_ts / 0_lab / 1_pi / 0_ac1 / 0_ac2\",\"R1 Structures: Frequency and Overall Score for hadsch-hallas/lab/ 2_m / 1_ts / 1_lab / 0_pi / 0_ac1 / 0_ac2\",\"R1 Structures: Frequency and Overall Score for hadsch-hallas/ts/ 2_m / 2_ts / 0_lab / 0_pi / 0_ac1 / 0_ac2\",\"R1 Structures: Frequency and Overall Score for hadsch-hallas/ts/ 2_m / 3_ts / 0_lab / 0_pi / 0_ac1 / 0_ac2\",\"R1 Structures: Frequency and Overall Score for hadsch-hallas/ac1/ 3_m / 0_ts / 0_lab / 0_pi / 1_ac1 / 0_ac2\",\"R1 Structures: Frequency and Overall Score for hadsch-hallas/PI/ 3_m / 0_ts / 0_lab / 1_pi / 0_ac1 / 0_ac2\",\"R1 Structures: Frequency and Overall Score for hadsch-hallas/lab/ 3_m / 0_ts / 1_lab / 0_pi / 0_ac1 / 0_ac2\",\"R1 Structures: Frequency and Overall Score for hadsch-hallas/lab/ 3_m / 1_ts / 1_lab / 0_pi / 0_ac1 / 0_ac2\",\"R1 Structures: Frequency and Overall Score for hadsch-hallas/m/ 4_m / 0_ts / 0_lab / 0_pi / 0_ac1 / 0_ac2\",\"R1 Structures: Frequency and Overall Score for hadsch-hallas/ac1/ 4_m / 0_ts / 0_lab / 0_pi / 1_ac1 / 0_ac2\",\"R1 Structures: Frequency and Overall Score for hadsch-hallas/PI/ 4_m / 0_ts / 0_lab / 1_pi / 0_ac1 / 0_ac2\",\"R1 Structures: Frequency and Overall Score for hadsch-hallas/lab/ 4_m / 0_ts / 1_lab / 0_pi / 0_ac1 / 0_ac2\",\"R1 Structures: Frequency and Overall Score for hadsch-hallas/m/ 5_m / 0_ts / 0_lab / 0_pi / 0_ac1 / 0_ac2\",\"R1 Structures: Frequency and Overall Score for hadsch-hallas/lab/ 5_m / 0_ts / 1_lab / 0_pi / 0_ac1 / 0_ac2\",\"R1 Structures: Frequency and Overall Score for hadsch-hallas/lab/ 5_m / 1_ts / 1_lab / 0_pi / 0_ac1 / 0_ac2\",\"R1 Structures: Frequency and Overall Score for hadsch-hallas/lab/ 6_m / 0_ts / 1_lab / 0_pi / 0_ac1 / 0_ac2\",\"R1 Structures: Frequency and Overall Score for hadsch-hallas/lab/ 7_m / 0_ts / 1_lab / 0_pi / 0_ac1 / 0_ac2\",\"R1 Structures: Frequency and Overall Score for hadsch-hallas/PI\",\"R1 Structures: Frequency and Overall Score for hadsch-hallas/ac1\",\"R1 Structures: Frequency and Overall Score for hadsch-hallas/ac2\",\"R1 Structures: Frequency and Overall Score for hadsch-hallas/lab\",\"R1 Structures: Frequency and Overall Score for hadsch-hallas/m\",\"R1 Structures: Frequency and Overall Score for hadsch-hallas/ts\",\"R1 Structures: Frequency and Overall Score for hadsch-hallas\"],\"labels\":[\" 0_m / 0_ts / 1_lab / 1_pi / 0_ac1 / 0_ac2\",\" 0_m / 0_ts / 2_lab / 0_pi / 0_ac1 / 0_ac2\",\" 0_m / 1_ts / 0_lab / 0_pi / 1_ac1 / 0_ac2\",\" 0_m / 1_ts / 1_lab / 0_pi / 0_ac1 / 0_ac2\",\" 0_m / 2_ts / 0_lab / 0_pi / 0_ac1 / 0_ac2\",\" 0_m / 2_ts / 0_lab / 1_pi / 0_ac1 / 0_ac2\",\" 0_m / 2_ts / 1_lab / 0_pi / 0_ac1 / 0_ac2\",\" 0_m / 3_ts / 0_lab / 0_pi / 0_ac1 / 0_ac2\",\" 0_m / 4_ts / 0_lab / 0_pi / 0_ac1 / 0_ac2\",\" 1_m / 0_ts / 0_lab / 0_pi / 0_ac1 / 1_ac2\",\" 1_m / 0_ts / 0_lab / 0_pi / 1_ac1 / 0_ac2\",\" 1_m / 0_ts / 0_lab / 1_pi / 0_ac1 / 0_ac2\",\" 1_m / 0_ts / 1_lab / 0_pi / 0_ac1 / 0_ac2\",\" 1_m / 0_ts / 1_lab / 1_pi / 0_ac1 / 0_ac2\",\" 1_m / 0_ts / 2_lab / 0_pi / 0_ac1 / 0_ac2\",\" 1_m / 1_ts / 0_lab / 0_pi / 0_ac1 / 1_ac2\",\" 1_m / 1_ts / 0_lab / 0_pi / 1_ac1 / 0_ac2\",\" 1_m / 1_ts / 0_lab / 1_pi / 0_ac1 / 0_ac2\",\" 1_m / 1_ts / 1_lab / 0_pi / 0_ac1 / 0_ac2\",\" 1_m / 2_ts / 0_lab / 1_pi / 0_ac1 / 0_ac2\",\" 1_m / 2_ts / 1_lab / 0_pi / 0_ac1 / 0_ac2\",\" 1_m / 3_ts / 0_lab / 0_pi / 0_ac1 / 0_ac2\",\" 2_m / 0_ts / 0_lab / 0_pi / 0_ac1 / 1_ac2\",\" 2_m / 0_ts / 0_lab / 0_pi / 1_ac1 / 0_ac2\",\" 2_m / 0_ts / 0_lab / 1_pi / 0_ac1 / 0_ac2\",\" 2_m / 0_ts / 1_lab / 0_pi / 0_ac1 / 0_ac2\",\" 2_m / 0_ts / 1_lab / 1_pi / 0_ac1 / 0_ac2\",\" 2_m / 0_ts / 2_lab / 0_pi / 0_ac1 / 0_ac2\",\" 2_m / 1_ts / 0_lab / 1_pi / 0_ac1 / 0_ac2\",\" 2_m / 1_ts / 1_lab / 0_pi / 0_ac1 / 0_ac2\",\" 2_m / 2_ts / 0_lab / 0_pi / 0_ac1 / 0_ac2\",\" 2_m / 3_ts / 0_lab / 0_pi / 0_ac1 / 0_ac2\",\" 3_m / 0_ts / 0_lab / 0_pi / 1_ac1 / 0_ac2\",\" 3_m / 0_ts / 0_lab / 1_pi / 0_ac1 / 0_ac2\",\" 3_m / 0_ts / 1_lab / 0_pi / 0_ac1 / 0_ac2\",\" 3_m / 1_ts / 1_lab / 0_pi / 0_ac1 / 0_ac2\",\" 4_m / 0_ts / 0_lab / 0_pi / 0_ac1 / 0_ac2\",\" 4_m / 0_ts / 0_lab / 0_pi / 1_ac1 / 0_ac2\",\" 4_m / 0_ts / 0_lab / 1_pi / 0_ac1 / 0_ac2\",\" 4_m / 0_ts / 1_lab / 0_pi / 0_ac1 / 0_ac2\",\" 5_m / 0_ts / 0_lab / 0_pi / 0_ac1 / 0_ac2\",\" 5_m / 0_ts / 1_lab / 0_pi / 0_ac1 / 0_ac2\",\" 5_m / 1_ts / 1_lab / 0_pi / 0_ac1 / 0_ac2\",\" 6_m / 0_ts / 1_lab / 0_pi / 0_ac1 / 0_ac2\",\" 7_m / 0_ts / 1_lab / 0_pi / 0_ac1 / 0_ac2\",\"PI\",\"ac1\",\"ac2\",\"lab\",\"m\",\"ts\",\"R1 Structures: Frequency and Overall Score for hadsch-hallas\"],\"marker\":{\"coloraxis\":\"coloraxis\",\"colors\":[139.76470588235293,122.875,138.5,121.0,109.5,139.5,157.2,119.0909090909091,168.0,138.0,142.4406779661017,124.0,137.06666666666666,128.97222222222223,149.7,127.0,118.5,126.33333333333333,130.85454545454544,129.25,143.0,146.0,191.33333333333334,150.11309523809524,133.8793103448276,140.88,166.0,153.375,132.95238095238096,148.81521739130434,136.16666666666666,171.0,154.73333333333332,124.96296296296296,138.58333333333334,135.8,114.25,159.6,143.3,143.60509554140128,150.0,158.82758620689654,219.0,160.05555555555554,189.0,132.13362068965517,147.29032258064515,156.625,144.24679029957204,121.4,131.88888888888889,142.5198752922837]},\"name\":\"\",\"parents\":[\"R1 Structures: Frequency and Overall Score for hadsch-hallas/PI\",\"R1 Structures: Frequency and Overall Score for hadsch-hallas/lab\",\"R1 Structures: Frequency and Overall Score for hadsch-hallas/ac1\",\"R1 Structures: Frequency and Overall Score for hadsch-hallas/lab\",\"R1 Structures: Frequency and Overall Score for hadsch-hallas/ts\",\"R1 Structures: Frequency and Overall Score for hadsch-hallas/PI\",\"R1 Structures: Frequency and Overall Score for hadsch-hallas/lab\",\"R1 Structures: Frequency and Overall Score for hadsch-hallas/ts\",\"R1 Structures: Frequency and Overall Score for hadsch-hallas/ts\",\"R1 Structures: Frequency and Overall Score for hadsch-hallas/ac2\",\"R1 Structures: Frequency and Overall Score for hadsch-hallas/ac1\",\"R1 Structures: Frequency and Overall Score for hadsch-hallas/PI\",\"R1 Structures: Frequency and Overall Score for hadsch-hallas/lab\",\"R1 Structures: Frequency and Overall Score for hadsch-hallas/PI\",\"R1 Structures: Frequency and Overall Score for hadsch-hallas/lab\",\"R1 Structures: Frequency and Overall Score for hadsch-hallas/ac2\",\"R1 Structures: Frequency and Overall Score for hadsch-hallas/ac1\",\"R1 Structures: Frequency and Overall Score for hadsch-hallas/PI\",\"R1 Structures: Frequency and Overall Score for hadsch-hallas/lab\",\"R1 Structures: Frequency and Overall Score for hadsch-hallas/PI\",\"R1 Structures: Frequency and Overall Score for hadsch-hallas/lab\",\"R1 Structures: Frequency and Overall Score for hadsch-hallas/ts\",\"R1 Structures: Frequency and Overall Score for hadsch-hallas/ac2\",\"R1 Structures: Frequency and Overall Score for hadsch-hallas/ac1\",\"R1 Structures: Frequency and Overall Score for hadsch-hallas/PI\",\"R1 Structures: Frequency and Overall Score for hadsch-hallas/lab\",\"R1 Structures: Frequency and Overall Score for hadsch-hallas/PI\",\"R1 Structures: Frequency and Overall Score for hadsch-hallas/lab\",\"R1 Structures: Frequency and Overall Score for hadsch-hallas/PI\",\"R1 Structures: Frequency and Overall Score for hadsch-hallas/lab\",\"R1 Structures: Frequency and Overall Score for hadsch-hallas/ts\",\"R1 Structures: Frequency and Overall Score for hadsch-hallas/ts\",\"R1 Structures: Frequency and Overall Score for hadsch-hallas/ac1\",\"R1 Structures: Frequency and Overall Score for hadsch-hallas/PI\",\"R1 Structures: Frequency and Overall Score for hadsch-hallas/lab\",\"R1 Structures: Frequency and Overall Score for hadsch-hallas/lab\",\"R1 Structures: Frequency and Overall Score for hadsch-hallas/m\",\"R1 Structures: Frequency and Overall Score for hadsch-hallas/ac1\",\"R1 Structures: Frequency and Overall Score for hadsch-hallas/PI\",\"R1 Structures: Frequency and Overall Score for hadsch-hallas/lab\",\"R1 Structures: Frequency and Overall Score for hadsch-hallas/m\",\"R1 Structures: Frequency and Overall Score for hadsch-hallas/lab\",\"R1 Structures: Frequency and Overall Score for hadsch-hallas/lab\",\"R1 Structures: Frequency and Overall Score for hadsch-hallas/lab\",\"R1 Structures: Frequency and Overall Score for hadsch-hallas/lab\",\"R1 Structures: Frequency and Overall Score for hadsch-hallas\",\"R1 Structures: Frequency and Overall Score for hadsch-hallas\",\"R1 Structures: Frequency and Overall Score for hadsch-hallas\",\"R1 Structures: Frequency and Overall Score for hadsch-hallas\",\"R1 Structures: Frequency and Overall Score for hadsch-hallas\",\"R1 Structures: Frequency and Overall Score for hadsch-hallas\",\"\"],\"values\":[17,8,2,7,2,4,5,11,1,4,118,4,15,36,20,1,2,27,55,4,2,6,3,168,58,100,3,8,42,92,6,1,15,27,120,5,4,5,10,157,1,87,1,18,1,232,310,8,701,5,27,1283],\"type\":\"treemap\"}],                        {\"template\":{\"data\":{\"bar\":[{\"error_x\":{\"color\":\"#2a3f5f\"},\"error_y\":{\"color\":\"#2a3f5f\"},\"marker\":{\"line\":{\"color\":\"#E5ECF6\",\"width\":0.5},\"pattern\":{\"fillmode\":\"overlay\",\"size\":10,\"solidity\":0.2}},\"type\":\"bar\"}],\"barpolar\":[{\"marker\":{\"line\":{\"color\":\"#E5ECF6\",\"width\":0.5},\"pattern\":{\"fillmode\":\"overlay\",\"size\":10,\"solidity\":0.2}},\"type\":\"barpolar\"}],\"carpet\":[{\"aaxis\":{\"endlinecolor\":\"#2a3f5f\",\"gridcolor\":\"white\",\"linecolor\":\"white\",\"minorgridcolor\":\"white\",\"startlinecolor\":\"#2a3f5f\"},\"baxis\":{\"endlinecolor\":\"#2a3f5f\",\"gridcolor\":\"white\",\"linecolor\":\"white\",\"minorgridcolor\":\"white\",\"startlinecolor\":\"#2a3f5f\"},\"type\":\"carpet\"}],\"choropleth\":[{\"colorbar\":{\"outlinewidth\":0,\"ticks\":\"\"},\"type\":\"choropleth\"}],\"contour\":[{\"colorbar\":{\"outlinewidth\":0,\"ticks\":\"\"},\"colorscale\":[[0.0,\"#0d0887\"],[0.1111111111111111,\"#46039f\"],[0.2222222222222222,\"#7201a8\"],[0.3333333333333333,\"#9c179e\"],[0.4444444444444444,\"#bd3786\"],[0.5555555555555556,\"#d8576b\"],[0.6666666666666666,\"#ed7953\"],[0.7777777777777778,\"#fb9f3a\"],[0.8888888888888888,\"#fdca26\"],[1.0,\"#f0f921\"]],\"type\":\"contour\"}],\"contourcarpet\":[{\"colorbar\":{\"outlinewidth\":0,\"ticks\":\"\"},\"type\":\"contourcarpet\"}],\"heatmap\":[{\"colorbar\":{\"outlinewidth\":0,\"ticks\":\"\"},\"colorscale\":[[0.0,\"#0d0887\"],[0.1111111111111111,\"#46039f\"],[0.2222222222222222,\"#7201a8\"],[0.3333333333333333,\"#9c179e\"],[0.4444444444444444,\"#bd3786\"],[0.5555555555555556,\"#d8576b\"],[0.6666666666666666,\"#ed7953\"],[0.7777777777777778,\"#fb9f3a\"],[0.8888888888888888,\"#fdca26\"],[1.0,\"#f0f921\"]],\"type\":\"heatmap\"}],\"heatmapgl\":[{\"colorbar\":{\"outlinewidth\":0,\"ticks\":\"\"},\"colorscale\":[[0.0,\"#0d0887\"],[0.1111111111111111,\"#46039f\"],[0.2222222222222222,\"#7201a8\"],[0.3333333333333333,\"#9c179e\"],[0.4444444444444444,\"#bd3786\"],[0.5555555555555556,\"#d8576b\"],[0.6666666666666666,\"#ed7953\"],[0.7777777777777778,\"#fb9f3a\"],[0.8888888888888888,\"#fdca26\"],[1.0,\"#f0f921\"]],\"type\":\"heatmapgl\"}],\"histogram\":[{\"marker\":{\"pattern\":{\"fillmode\":\"overlay\",\"size\":10,\"solidity\":0.2}},\"type\":\"histogram\"}],\"histogram2d\":[{\"colorbar\":{\"outlinewidth\":0,\"ticks\":\"\"},\"colorscale\":[[0.0,\"#0d0887\"],[0.1111111111111111,\"#46039f\"],[0.2222222222222222,\"#7201a8\"],[0.3333333333333333,\"#9c179e\"],[0.4444444444444444,\"#bd3786\"],[0.5555555555555556,\"#d8576b\"],[0.6666666666666666,\"#ed7953\"],[0.7777777777777778,\"#fb9f3a\"],[0.8888888888888888,\"#fdca26\"],[1.0,\"#f0f921\"]],\"type\":\"histogram2d\"}],\"histogram2dcontour\":[{\"colorbar\":{\"outlinewidth\":0,\"ticks\":\"\"},\"colorscale\":[[0.0,\"#0d0887\"],[0.1111111111111111,\"#46039f\"],[0.2222222222222222,\"#7201a8\"],[0.3333333333333333,\"#9c179e\"],[0.4444444444444444,\"#bd3786\"],[0.5555555555555556,\"#d8576b\"],[0.6666666666666666,\"#ed7953\"],[0.7777777777777778,\"#fb9f3a\"],[0.8888888888888888,\"#fdca26\"],[1.0,\"#f0f921\"]],\"type\":\"histogram2dcontour\"}],\"mesh3d\":[{\"colorbar\":{\"outlinewidth\":0,\"ticks\":\"\"},\"type\":\"mesh3d\"}],\"parcoords\":[{\"line\":{\"colorbar\":{\"outlinewidth\":0,\"ticks\":\"\"}},\"type\":\"parcoords\"}],\"pie\":[{\"automargin\":true,\"type\":\"pie\"}],\"scatter\":[{\"marker\":{\"colorbar\":{\"outlinewidth\":0,\"ticks\":\"\"}},\"type\":\"scatter\"}],\"scatter3d\":[{\"line\":{\"colorbar\":{\"outlinewidth\":0,\"ticks\":\"\"}},\"marker\":{\"colorbar\":{\"outlinewidth\":0,\"ticks\":\"\"}},\"type\":\"scatter3d\"}],\"scattercarpet\":[{\"marker\":{\"colorbar\":{\"outlinewidth\":0,\"ticks\":\"\"}},\"type\":\"scattercarpet\"}],\"scattergeo\":[{\"marker\":{\"colorbar\":{\"outlinewidth\":0,\"ticks\":\"\"}},\"type\":\"scattergeo\"}],\"scattergl\":[{\"marker\":{\"colorbar\":{\"outlinewidth\":0,\"ticks\":\"\"}},\"type\":\"scattergl\"}],\"scattermapbox\":[{\"marker\":{\"colorbar\":{\"outlinewidth\":0,\"ticks\":\"\"}},\"type\":\"scattermapbox\"}],\"scatterpolar\":[{\"marker\":{\"colorbar\":{\"outlinewidth\":0,\"ticks\":\"\"}},\"type\":\"scatterpolar\"}],\"scatterpolargl\":[{\"marker\":{\"colorbar\":{\"outlinewidth\":0,\"ticks\":\"\"}},\"type\":\"scatterpolargl\"}],\"scatterternary\":[{\"marker\":{\"colorbar\":{\"outlinewidth\":0,\"ticks\":\"\"}},\"type\":\"scatterternary\"}],\"surface\":[{\"colorbar\":{\"outlinewidth\":0,\"ticks\":\"\"},\"colorscale\":[[0.0,\"#0d0887\"],[0.1111111111111111,\"#46039f\"],[0.2222222222222222,\"#7201a8\"],[0.3333333333333333,\"#9c179e\"],[0.4444444444444444,\"#bd3786\"],[0.5555555555555556,\"#d8576b\"],[0.6666666666666666,\"#ed7953\"],[0.7777777777777778,\"#fb9f3a\"],[0.8888888888888888,\"#fdca26\"],[1.0,\"#f0f921\"]],\"type\":\"surface\"}],\"table\":[{\"cells\":{\"fill\":{\"color\":\"#EBF0F8\"},\"line\":{\"color\":\"white\"}},\"header\":{\"fill\":{\"color\":\"#C8D4E3\"},\"line\":{\"color\":\"white\"}},\"type\":\"table\"}]},\"layout\":{\"annotationdefaults\":{\"arrowcolor\":\"#2a3f5f\",\"arrowhead\":0,\"arrowwidth\":1},\"autotypenumbers\":\"strict\",\"coloraxis\":{\"colorbar\":{\"outlinewidth\":0,\"ticks\":\"\"}},\"colorscale\":{\"diverging\":[[0,\"#8e0152\"],[0.1,\"#c51b7d\"],[0.2,\"#de77ae\"],[0.3,\"#f1b6da\"],[0.4,\"#fde0ef\"],[0.5,\"#f7f7f7\"],[0.6,\"#e6f5d0\"],[0.7,\"#b8e186\"],[0.8,\"#7fbc41\"],[0.9,\"#4d9221\"],[1,\"#276419\"]],\"sequential\":[[0.0,\"#0d0887\"],[0.1111111111111111,\"#46039f\"],[0.2222222222222222,\"#7201a8\"],[0.3333333333333333,\"#9c179e\"],[0.4444444444444444,\"#bd3786\"],[0.5555555555555556,\"#d8576b\"],[0.6666666666666666,\"#ed7953\"],[0.7777777777777778,\"#fb9f3a\"],[0.8888888888888888,\"#fdca26\"],[1.0,\"#f0f921\"]],\"sequentialminus\":[[0.0,\"#0d0887\"],[0.1111111111111111,\"#46039f\"],[0.2222222222222222,\"#7201a8\"],[0.3333333333333333,\"#9c179e\"],[0.4444444444444444,\"#bd3786\"],[0.5555555555555556,\"#d8576b\"],[0.6666666666666666,\"#ed7953\"],[0.7777777777777778,\"#fb9f3a\"],[0.8888888888888888,\"#fdca26\"],[1.0,\"#f0f921\"]]},\"colorway\":[\"#636efa\",\"#EF553B\",\"#00cc96\",\"#ab63fa\",\"#FFA15A\",\"#19d3f3\",\"#FF6692\",\"#B6E880\",\"#FF97FF\",\"#FECB52\"],\"font\":{\"color\":\"#2a3f5f\"},\"geo\":{\"bgcolor\":\"white\",\"lakecolor\":\"white\",\"landcolor\":\"#E5ECF6\",\"showlakes\":true,\"showland\":true,\"subunitcolor\":\"white\"},\"hoverlabel\":{\"align\":\"left\"},\"hovermode\":\"closest\",\"mapbox\":{\"style\":\"light\"},\"paper_bgcolor\":\"white\",\"plot_bgcolor\":\"#E5ECF6\",\"polar\":{\"angularaxis\":{\"gridcolor\":\"white\",\"linecolor\":\"white\",\"ticks\":\"\"},\"bgcolor\":\"#E5ECF6\",\"radialaxis\":{\"gridcolor\":\"white\",\"linecolor\":\"white\",\"ticks\":\"\"}},\"scene\":{\"xaxis\":{\"backgroundcolor\":\"#E5ECF6\",\"gridcolor\":\"white\",\"gridwidth\":2,\"linecolor\":\"white\",\"showbackground\":true,\"ticks\":\"\",\"zerolinecolor\":\"white\"},\"yaxis\":{\"backgroundcolor\":\"#E5ECF6\",\"gridcolor\":\"white\",\"gridwidth\":2,\"linecolor\":\"white\",\"showbackground\":true,\"ticks\":\"\",\"zerolinecolor\":\"white\"},\"zaxis\":{\"backgroundcolor\":\"#E5ECF6\",\"gridcolor\":\"white\",\"gridwidth\":2,\"linecolor\":\"white\",\"showbackground\":true,\"ticks\":\"\",\"zerolinecolor\":\"white\"}},\"shapedefaults\":{\"line\":{\"color\":\"#2a3f5f\"}},\"ternary\":{\"aaxis\":{\"gridcolor\":\"white\",\"linecolor\":\"white\",\"ticks\":\"\"},\"baxis\":{\"gridcolor\":\"white\",\"linecolor\":\"white\",\"ticks\":\"\"},\"bgcolor\":\"#E5ECF6\",\"caxis\":{\"gridcolor\":\"white\",\"linecolor\":\"white\",\"ticks\":\"\"}},\"title\":{\"x\":0.05},\"xaxis\":{\"automargin\":true,\"gridcolor\":\"white\",\"linecolor\":\"white\",\"ticks\":\"\",\"title\":{\"standoff\":15},\"zerolinecolor\":\"white\",\"zerolinewidth\":2},\"yaxis\":{\"automargin\":true,\"gridcolor\":\"white\",\"linecolor\":\"white\",\"ticks\":\"\",\"title\":{\"standoff\":15},\"zerolinecolor\":\"white\",\"zerolinewidth\":2}}},\"coloraxis\":{\"colorbar\":{\"title\":{\"text\":\"ave_score_hadsch-hallas\"}},\"colorscale\":[[0.0,\"rgb(103,0,31)\"],[0.1,\"rgb(178,24,43)\"],[0.2,\"rgb(214,96,77)\"],[0.3,\"rgb(244,165,130)\"],[0.4,\"rgb(253,219,199)\"],[0.5,\"rgb(247,247,247)\"],[0.6,\"rgb(209,229,240)\"],[0.7,\"rgb(146,197,222)\"],[0.8,\"rgb(67,147,195)\"],[0.9,\"rgb(33,102,172)\"],[1.0,\"rgb(5,48,97)\"]],\"cmid\":144.30885882929329},\"legend\":{\"tracegroupgap\":0},\"margin\":{\"t\":50,\"l\":25,\"r\":25,\"b\":25}},                        {\"responsive\": true}                    ).then(function(){\n",
       "                            \n",
       "var gd = document.getElementById('025de194-d053-4d28-988d-81358e32c85a');\n",
       "var x = new MutationObserver(function (mutations, observer) {{\n",
       "        var display = window.getComputedStyle(gd).display;\n",
       "        if (!display || display === 'none') {{\n",
       "            console.log([gd, 'removed!']);\n",
       "            Plotly.purge(gd);\n",
       "            observer.disconnect();\n",
       "        }}\n",
       "}});\n",
       "\n",
       "// Listen for the removal of the full notebook cells\n",
       "var notebookContainer = gd.closest('#notebook-container');\n",
       "if (notebookContainer) {{\n",
       "    x.observe(notebookContainer, {childList: true});\n",
       "}}\n",
       "\n",
       "// Listen for the clearing of the current output cell\n",
       "var outputEl = gd.closest('.output');\n",
       "if (outputEl) {{\n",
       "    x.observe(outputEl, {childList: true});\n",
       "}}\n",
       "\n",
       "                        })                };                });            </script>        </div>"
      ]
     },
     "metadata": {},
     "output_type": "display_data"
    },
    {
     "data": {
      "application/vnd.plotly.v1+json": {
       "config": {
        "plotlyServerURL": "https://plot.ly"
       },
       "data": [
        {
         "branchvalues": "total",
         "customdata": [
          [
           163.8,
           141.6
          ],
          [
           181.65,
           146.2
          ],
          [
           234,
           163
          ],
          [
           137,
           119
          ],
          [
           155.45454545454547,
           147.63636363636363
          ],
          [
           106,
           122.25
          ],
          [
           27.5,
           119
          ],
          [
           131.6,
           149.13333333333333
          ],
          [
           255.3781094527363,
           150.49751243781094
          ],
          [
           89,
           116
          ],
          [
           153.05555555555554,
           144
          ],
          [
           159.85714285714286,
           127.57142857142857
          ],
          [
           203,
           142.35
          ],
          [
           165,
           128
          ],
          [
           82.71428571428571,
           114.95238095238095
          ],
          [
           173.45714285714286,
           137.37142857142857
          ],
          [
           185.6,
           158.4
          ],
          [
           157,
           133.33333333333334
          ],
          [
           110,
           123
          ],
          [
           207.925,
           146.925
          ],
          [
           169.4390243902439,
           135.0731707317073
          ],
          [
           146.55172413793105,
           130.3793103448276
          ],
          [
           63.666666666666664,
           139
          ],
          [
           228,
           141.5
          ],
          [
           254.85714285714286,
           148
          ],
          [
           131.56,
           125.48
          ],
          [
           182.69620253164558,
           136.42194092827003
          ],
          [
           100.6,
           114.8
          ],
          [
           148.6,
           136
          ],
          [
           144.42857142857142,
           144
          ],
          [
           219.02325581395348,
           145.88372093023256
          ],
          [
           67,
           150.66666666666666
          ],
          [
           253.22826086956522,
           157.9673913043478
          ],
          [
           0,
           166
          ],
          [
           190.25,
           129.25
          ],
          [
           "(?)",
           122.3731343283582
          ],
          [
           "(?)",
           149.816
          ],
          [
           "(?)",
           144.45
          ],
          [
           "(?)",
           141.85883748517202
          ],
          [
           "(?)",
           135.625
          ],
          [
           "(?)",
           142.34551495016612
          ]
         ],
         "domain": {
          "x": [
           0,
           1
          ],
          "y": [
           0,
           1
          ]
         },
         "hovertemplate": "labels=%{label}<br>class_counts=%{value}<br>parent=%{parent}<br>id=%{id}<br>ave_elo_xenos=%{customdata[0]}<br>ave_score_xenos=%{color}<extra></extra>",
         "ids": [
          "R1 Structures: Frequency and Overall Score for xenos/PI/ 1_m / 0_ts / 1_lab / 1_pi / 0_ac1 / 0_ac2",
          "R1 Structures: Frequency and Overall Score for xenos/lab/ 1_m / 0_ts / 2_lab / 0_pi / 0_ac1 / 0_ac2",
          "R1 Structures: Frequency and Overall Score for xenos/ac1/ 1_m / 1_ts / 0_lab / 0_pi / 1_ac1 / 0_ac2",
          "R1 Structures: Frequency and Overall Score for xenos/PI/ 1_m / 1_ts / 0_lab / 1_pi / 0_ac1 / 0_ac2",
          "R1 Structures: Frequency and Overall Score for xenos/lab/ 1_m / 1_ts / 1_lab / 0_pi / 0_ac1 / 0_ac2",
          "R1 Structures: Frequency and Overall Score for xenos/lab/ 1_m / 2_ts / 1_lab / 0_pi / 0_ac1 / 0_ac2",
          "R1 Structures: Frequency and Overall Score for xenos/ts/ 1_m / 3_ts / 0_lab / 0_pi / 0_ac1 / 0_ac2",
          "R1 Structures: Frequency and Overall Score for xenos/ac2/ 2_m / 0_ts / 0_lab / 0_pi / 0_ac1 / 1_ac2",
          "R1 Structures: Frequency and Overall Score for xenos/ac1/ 2_m / 0_ts / 0_lab / 0_pi / 1_ac1 / 0_ac2",
          "R1 Structures: Frequency and Overall Score for xenos/PI/ 2_m / 0_ts / 0_lab / 1_pi / 0_ac1 / 0_ac2",
          "R1 Structures: Frequency and Overall Score for xenos/lab/ 2_m / 0_ts / 1_lab / 0_pi / 0_ac1 / 0_ac2",
          "R1 Structures: Frequency and Overall Score for xenos/PI/ 2_m / 0_ts / 1_lab / 1_pi / 0_ac1 / 0_ac2",
          "R1 Structures: Frequency and Overall Score for xenos/lab/ 2_m / 0_ts / 2_lab / 0_pi / 0_ac1 / 0_ac2",
          "R1 Structures: Frequency and Overall Score for xenos/ac1/ 2_m / 1_ts / 0_lab / 0_pi / 1_ac1 / 0_ac2",
          "R1 Structures: Frequency and Overall Score for xenos/PI/ 2_m / 1_ts / 0_lab / 1_pi / 0_ac1 / 0_ac2",
          "R1 Structures: Frequency and Overall Score for xenos/lab/ 2_m / 1_ts / 1_lab / 0_pi / 0_ac1 / 0_ac2",
          "R1 Structures: Frequency and Overall Score for xenos/lab/ 2_m / 2_ts / 1_lab / 0_pi / 0_ac1 / 0_ac2",
          "R1 Structures: Frequency and Overall Score for xenos/ts/ 2_m / 3_ts / 0_lab / 0_pi / 0_ac1 / 0_ac2",
          "R1 Structures: Frequency and Overall Score for xenos/ac2/ 3_m / 0_ts / 0_lab / 0_pi / 0_ac1 / 1_ac2",
          "R1 Structures: Frequency and Overall Score for xenos/ac1/ 3_m / 0_ts / 0_lab / 0_pi / 1_ac1 / 0_ac2",
          "R1 Structures: Frequency and Overall Score for xenos/lab/ 3_m / 0_ts / 1_lab / 0_pi / 0_ac1 / 0_ac2",
          "R1 Structures: Frequency and Overall Score for xenos/lab/ 3_m / 1_ts / 1_lab / 0_pi / 0_ac1 / 0_ac2",
          "R1 Structures: Frequency and Overall Score for xenos/ts/ 3_m / 2_ts / 0_lab / 0_pi / 0_ac1 / 0_ac2",
          "R1 Structures: Frequency and Overall Score for xenos/ac2/ 4_m / 0_ts / 0_lab / 0_pi / 0_ac1 / 1_ac2",
          "R1 Structures: Frequency and Overall Score for xenos/ac1/ 4_m / 0_ts / 0_lab / 0_pi / 1_ac1 / 0_ac2",
          "R1 Structures: Frequency and Overall Score for xenos/PI/ 4_m / 0_ts / 0_lab / 1_pi / 0_ac1 / 0_ac2",
          "R1 Structures: Frequency and Overall Score for xenos/lab/ 4_m / 0_ts / 1_lab / 0_pi / 0_ac1 / 0_ac2",
          "R1 Structures: Frequency and Overall Score for xenos/ts/ 4_m / 1_ts / 0_lab / 0_pi / 0_ac1 / 0_ac2",
          "R1 Structures: Frequency and Overall Score for xenos/lab/ 4_m / 1_ts / 1_lab / 0_pi / 0_ac1 / 0_ac2",
          "R1 Structures: Frequency and Overall Score for xenos/ts/ 4_m / 2_ts / 0_lab / 0_pi / 0_ac1 / 0_ac2",
          "R1 Structures: Frequency and Overall Score for xenos/lab/ 5_m / 0_ts / 1_lab / 0_pi / 0_ac1 / 0_ac2",
          "R1 Structures: Frequency and Overall Score for xenos/ts/ 5_m / 1_ts / 0_lab / 0_pi / 0_ac1 / 0_ac2",
          "R1 Structures: Frequency and Overall Score for xenos/lab/ 6_m / 0_ts / 1_lab / 0_pi / 0_ac1 / 0_ac2",
          "R1 Structures: Frequency and Overall Score for xenos/ts/ 6_m / 1_ts / 0_lab / 0_pi / 0_ac1 / 0_ac2",
          "R1 Structures: Frequency and Overall Score for xenos/lab/ 7_m / 0_ts / 1_lab / 0_pi / 0_ac1 / 0_ac2",
          "R1 Structures: Frequency and Overall Score for xenos/PI",
          "R1 Structures: Frequency and Overall Score for xenos/ac1",
          "R1 Structures: Frequency and Overall Score for xenos/ac2",
          "R1 Structures: Frequency and Overall Score for xenos/lab",
          "R1 Structures: Frequency and Overall Score for xenos/ts",
          "R1 Structures: Frequency and Overall Score for xenos"
         ],
         "labels": [
          " 1_m / 0_ts / 1_lab / 1_pi / 0_ac1 / 0_ac2",
          " 1_m / 0_ts / 2_lab / 0_pi / 0_ac1 / 0_ac2",
          " 1_m / 1_ts / 0_lab / 0_pi / 1_ac1 / 0_ac2",
          " 1_m / 1_ts / 0_lab / 1_pi / 0_ac1 / 0_ac2",
          " 1_m / 1_ts / 1_lab / 0_pi / 0_ac1 / 0_ac2",
          " 1_m / 2_ts / 1_lab / 0_pi / 0_ac1 / 0_ac2",
          " 1_m / 3_ts / 0_lab / 0_pi / 0_ac1 / 0_ac2",
          " 2_m / 0_ts / 0_lab / 0_pi / 0_ac1 / 1_ac2",
          " 2_m / 0_ts / 0_lab / 0_pi / 1_ac1 / 0_ac2",
          " 2_m / 0_ts / 0_lab / 1_pi / 0_ac1 / 0_ac2",
          " 2_m / 0_ts / 1_lab / 0_pi / 0_ac1 / 0_ac2",
          " 2_m / 0_ts / 1_lab / 1_pi / 0_ac1 / 0_ac2",
          " 2_m / 0_ts / 2_lab / 0_pi / 0_ac1 / 0_ac2",
          " 2_m / 1_ts / 0_lab / 0_pi / 1_ac1 / 0_ac2",
          " 2_m / 1_ts / 0_lab / 1_pi / 0_ac1 / 0_ac2",
          " 2_m / 1_ts / 1_lab / 0_pi / 0_ac1 / 0_ac2",
          " 2_m / 2_ts / 1_lab / 0_pi / 0_ac1 / 0_ac2",
          " 2_m / 3_ts / 0_lab / 0_pi / 0_ac1 / 0_ac2",
          " 3_m / 0_ts / 0_lab / 0_pi / 0_ac1 / 1_ac2",
          " 3_m / 0_ts / 0_lab / 0_pi / 1_ac1 / 0_ac2",
          " 3_m / 0_ts / 1_lab / 0_pi / 0_ac1 / 0_ac2",
          " 3_m / 1_ts / 1_lab / 0_pi / 0_ac1 / 0_ac2",
          " 3_m / 2_ts / 0_lab / 0_pi / 0_ac1 / 0_ac2",
          " 4_m / 0_ts / 0_lab / 0_pi / 0_ac1 / 1_ac2",
          " 4_m / 0_ts / 0_lab / 0_pi / 1_ac1 / 0_ac2",
          " 4_m / 0_ts / 0_lab / 1_pi / 0_ac1 / 0_ac2",
          " 4_m / 0_ts / 1_lab / 0_pi / 0_ac1 / 0_ac2",
          " 4_m / 1_ts / 0_lab / 0_pi / 0_ac1 / 0_ac2",
          " 4_m / 1_ts / 1_lab / 0_pi / 0_ac1 / 0_ac2",
          " 4_m / 2_ts / 0_lab / 0_pi / 0_ac1 / 0_ac2",
          " 5_m / 0_ts / 1_lab / 0_pi / 0_ac1 / 0_ac2",
          " 5_m / 1_ts / 0_lab / 0_pi / 0_ac1 / 0_ac2",
          " 6_m / 0_ts / 1_lab / 0_pi / 0_ac1 / 0_ac2",
          " 6_m / 1_ts / 0_lab / 0_pi / 0_ac1 / 0_ac2",
          " 7_m / 0_ts / 1_lab / 0_pi / 0_ac1 / 0_ac2",
          "PI",
          "ac1",
          "ac2",
          "lab",
          "ts",
          "R1 Structures: Frequency and Overall Score for xenos"
         ],
         "marker": {
          "coloraxis": "coloraxis",
          "colors": [
           141.6,
           146.2,
           163,
           119,
           147.63636363636363,
           122.25,
           119,
           149.13333333333333,
           150.49751243781094,
           116,
           144,
           127.57142857142857,
           142.35,
           128,
           114.95238095238095,
           137.37142857142857,
           158.4,
           133.33333333333334,
           123,
           146.925,
           135.0731707317073,
           130.3793103448276,
           139,
           141.5,
           148,
           125.48,
           136.42194092827003,
           114.8,
           136,
           144,
           145.88372093023256,
           150.66666666666666,
           157.9673913043478,
           166,
           129.25,
           122.3731343283582,
           149.816,
           144.45,
           141.85883748517202,
           135.625,
           142.34551495016612
          ]
         },
         "name": "",
         "parents": [
          "R1 Structures: Frequency and Overall Score for xenos/PI",
          "R1 Structures: Frequency and Overall Score for xenos/lab",
          "R1 Structures: Frequency and Overall Score for xenos/ac1",
          "R1 Structures: Frequency and Overall Score for xenos/PI",
          "R1 Structures: Frequency and Overall Score for xenos/lab",
          "R1 Structures: Frequency and Overall Score for xenos/lab",
          "R1 Structures: Frequency and Overall Score for xenos/ts",
          "R1 Structures: Frequency and Overall Score for xenos/ac2",
          "R1 Structures: Frequency and Overall Score for xenos/ac1",
          "R1 Structures: Frequency and Overall Score for xenos/PI",
          "R1 Structures: Frequency and Overall Score for xenos/lab",
          "R1 Structures: Frequency and Overall Score for xenos/PI",
          "R1 Structures: Frequency and Overall Score for xenos/lab",
          "R1 Structures: Frequency and Overall Score for xenos/ac1",
          "R1 Structures: Frequency and Overall Score for xenos/PI",
          "R1 Structures: Frequency and Overall Score for xenos/lab",
          "R1 Structures: Frequency and Overall Score for xenos/lab",
          "R1 Structures: Frequency and Overall Score for xenos/ts",
          "R1 Structures: Frequency and Overall Score for xenos/ac2",
          "R1 Structures: Frequency and Overall Score for xenos/ac1",
          "R1 Structures: Frequency and Overall Score for xenos/lab",
          "R1 Structures: Frequency and Overall Score for xenos/lab",
          "R1 Structures: Frequency and Overall Score for xenos/ts",
          "R1 Structures: Frequency and Overall Score for xenos/ac2",
          "R1 Structures: Frequency and Overall Score for xenos/ac1",
          "R1 Structures: Frequency and Overall Score for xenos/PI",
          "R1 Structures: Frequency and Overall Score for xenos/lab",
          "R1 Structures: Frequency and Overall Score for xenos/ts",
          "R1 Structures: Frequency and Overall Score for xenos/lab",
          "R1 Structures: Frequency and Overall Score for xenos/ts",
          "R1 Structures: Frequency and Overall Score for xenos/lab",
          "R1 Structures: Frequency and Overall Score for xenos/ts",
          "R1 Structures: Frequency and Overall Score for xenos/lab",
          "R1 Structures: Frequency and Overall Score for xenos/ts",
          "R1 Structures: Frequency and Overall Score for xenos/lab",
          "R1 Structures: Frequency and Overall Score for xenos",
          "R1 Structures: Frequency and Overall Score for xenos",
          "R1 Structures: Frequency and Overall Score for xenos",
          "R1 Structures: Frequency and Overall Score for xenos",
          "R1 Structures: Frequency and Overall Score for xenos",
          ""
         ],
         "type": "treemap",
         "values": [
          5,
          20,
          1,
          1,
          11,
          4,
          2,
          15,
          201,
          8,
          36,
          7,
          20,
          1,
          21,
          105,
          5,
          3,
          3,
          40,
          41,
          29,
          3,
          2,
          7,
          25,
          237,
          5,
          20,
          7,
          215,
          3,
          92,
          1,
          8,
          67,
          250,
          20,
          843,
          24,
          1204
         ]
        }
       ],
       "layout": {
        "coloraxis": {
         "cmid": 144.30885882929329,
         "colorbar": {
          "title": {
           "text": "ave_score_xenos"
          }
         },
         "colorscale": [
          [
           0,
           "rgb(103,0,31)"
          ],
          [
           0.1,
           "rgb(178,24,43)"
          ],
          [
           0.2,
           "rgb(214,96,77)"
          ],
          [
           0.3,
           "rgb(244,165,130)"
          ],
          [
           0.4,
           "rgb(253,219,199)"
          ],
          [
           0.5,
           "rgb(247,247,247)"
          ],
          [
           0.6,
           "rgb(209,229,240)"
          ],
          [
           0.7,
           "rgb(146,197,222)"
          ],
          [
           0.8,
           "rgb(67,147,195)"
          ],
          [
           0.9,
           "rgb(33,102,172)"
          ],
          [
           1,
           "rgb(5,48,97)"
          ]
         ]
        },
        "legend": {
         "tracegroupgap": 0
        },
        "margin": {
         "b": 25,
         "l": 25,
         "r": 25,
         "t": 50
        },
        "template": {
         "data": {
          "bar": [
           {
            "error_x": {
             "color": "#2a3f5f"
            },
            "error_y": {
             "color": "#2a3f5f"
            },
            "marker": {
             "line": {
              "color": "#E5ECF6",
              "width": 0.5
             },
             "pattern": {
              "fillmode": "overlay",
              "size": 10,
              "solidity": 0.2
             }
            },
            "type": "bar"
           }
          ],
          "barpolar": [
           {
            "marker": {
             "line": {
              "color": "#E5ECF6",
              "width": 0.5
             },
             "pattern": {
              "fillmode": "overlay",
              "size": 10,
              "solidity": 0.2
             }
            },
            "type": "barpolar"
           }
          ],
          "carpet": [
           {
            "aaxis": {
             "endlinecolor": "#2a3f5f",
             "gridcolor": "white",
             "linecolor": "white",
             "minorgridcolor": "white",
             "startlinecolor": "#2a3f5f"
            },
            "baxis": {
             "endlinecolor": "#2a3f5f",
             "gridcolor": "white",
             "linecolor": "white",
             "minorgridcolor": "white",
             "startlinecolor": "#2a3f5f"
            },
            "type": "carpet"
           }
          ],
          "choropleth": [
           {
            "colorbar": {
             "outlinewidth": 0,
             "ticks": ""
            },
            "type": "choropleth"
           }
          ],
          "contour": [
           {
            "colorbar": {
             "outlinewidth": 0,
             "ticks": ""
            },
            "colorscale": [
             [
              0,
              "#0d0887"
             ],
             [
              0.1111111111111111,
              "#46039f"
             ],
             [
              0.2222222222222222,
              "#7201a8"
             ],
             [
              0.3333333333333333,
              "#9c179e"
             ],
             [
              0.4444444444444444,
              "#bd3786"
             ],
             [
              0.5555555555555556,
              "#d8576b"
             ],
             [
              0.6666666666666666,
              "#ed7953"
             ],
             [
              0.7777777777777778,
              "#fb9f3a"
             ],
             [
              0.8888888888888888,
              "#fdca26"
             ],
             [
              1,
              "#f0f921"
             ]
            ],
            "type": "contour"
           }
          ],
          "contourcarpet": [
           {
            "colorbar": {
             "outlinewidth": 0,
             "ticks": ""
            },
            "type": "contourcarpet"
           }
          ],
          "heatmap": [
           {
            "colorbar": {
             "outlinewidth": 0,
             "ticks": ""
            },
            "colorscale": [
             [
              0,
              "#0d0887"
             ],
             [
              0.1111111111111111,
              "#46039f"
             ],
             [
              0.2222222222222222,
              "#7201a8"
             ],
             [
              0.3333333333333333,
              "#9c179e"
             ],
             [
              0.4444444444444444,
              "#bd3786"
             ],
             [
              0.5555555555555556,
              "#d8576b"
             ],
             [
              0.6666666666666666,
              "#ed7953"
             ],
             [
              0.7777777777777778,
              "#fb9f3a"
             ],
             [
              0.8888888888888888,
              "#fdca26"
             ],
             [
              1,
              "#f0f921"
             ]
            ],
            "type": "heatmap"
           }
          ],
          "heatmapgl": [
           {
            "colorbar": {
             "outlinewidth": 0,
             "ticks": ""
            },
            "colorscale": [
             [
              0,
              "#0d0887"
             ],
             [
              0.1111111111111111,
              "#46039f"
             ],
             [
              0.2222222222222222,
              "#7201a8"
             ],
             [
              0.3333333333333333,
              "#9c179e"
             ],
             [
              0.4444444444444444,
              "#bd3786"
             ],
             [
              0.5555555555555556,
              "#d8576b"
             ],
             [
              0.6666666666666666,
              "#ed7953"
             ],
             [
              0.7777777777777778,
              "#fb9f3a"
             ],
             [
              0.8888888888888888,
              "#fdca26"
             ],
             [
              1,
              "#f0f921"
             ]
            ],
            "type": "heatmapgl"
           }
          ],
          "histogram": [
           {
            "marker": {
             "pattern": {
              "fillmode": "overlay",
              "size": 10,
              "solidity": 0.2
             }
            },
            "type": "histogram"
           }
          ],
          "histogram2d": [
           {
            "colorbar": {
             "outlinewidth": 0,
             "ticks": ""
            },
            "colorscale": [
             [
              0,
              "#0d0887"
             ],
             [
              0.1111111111111111,
              "#46039f"
             ],
             [
              0.2222222222222222,
              "#7201a8"
             ],
             [
              0.3333333333333333,
              "#9c179e"
             ],
             [
              0.4444444444444444,
              "#bd3786"
             ],
             [
              0.5555555555555556,
              "#d8576b"
             ],
             [
              0.6666666666666666,
              "#ed7953"
             ],
             [
              0.7777777777777778,
              "#fb9f3a"
             ],
             [
              0.8888888888888888,
              "#fdca26"
             ],
             [
              1,
              "#f0f921"
             ]
            ],
            "type": "histogram2d"
           }
          ],
          "histogram2dcontour": [
           {
            "colorbar": {
             "outlinewidth": 0,
             "ticks": ""
            },
            "colorscale": [
             [
              0,
              "#0d0887"
             ],
             [
              0.1111111111111111,
              "#46039f"
             ],
             [
              0.2222222222222222,
              "#7201a8"
             ],
             [
              0.3333333333333333,
              "#9c179e"
             ],
             [
              0.4444444444444444,
              "#bd3786"
             ],
             [
              0.5555555555555556,
              "#d8576b"
             ],
             [
              0.6666666666666666,
              "#ed7953"
             ],
             [
              0.7777777777777778,
              "#fb9f3a"
             ],
             [
              0.8888888888888888,
              "#fdca26"
             ],
             [
              1,
              "#f0f921"
             ]
            ],
            "type": "histogram2dcontour"
           }
          ],
          "mesh3d": [
           {
            "colorbar": {
             "outlinewidth": 0,
             "ticks": ""
            },
            "type": "mesh3d"
           }
          ],
          "parcoords": [
           {
            "line": {
             "colorbar": {
              "outlinewidth": 0,
              "ticks": ""
             }
            },
            "type": "parcoords"
           }
          ],
          "pie": [
           {
            "automargin": true,
            "type": "pie"
           }
          ],
          "scatter": [
           {
            "marker": {
             "colorbar": {
              "outlinewidth": 0,
              "ticks": ""
             }
            },
            "type": "scatter"
           }
          ],
          "scatter3d": [
           {
            "line": {
             "colorbar": {
              "outlinewidth": 0,
              "ticks": ""
             }
            },
            "marker": {
             "colorbar": {
              "outlinewidth": 0,
              "ticks": ""
             }
            },
            "type": "scatter3d"
           }
          ],
          "scattercarpet": [
           {
            "marker": {
             "colorbar": {
              "outlinewidth": 0,
              "ticks": ""
             }
            },
            "type": "scattercarpet"
           }
          ],
          "scattergeo": [
           {
            "marker": {
             "colorbar": {
              "outlinewidth": 0,
              "ticks": ""
             }
            },
            "type": "scattergeo"
           }
          ],
          "scattergl": [
           {
            "marker": {
             "colorbar": {
              "outlinewidth": 0,
              "ticks": ""
             }
            },
            "type": "scattergl"
           }
          ],
          "scattermapbox": [
           {
            "marker": {
             "colorbar": {
              "outlinewidth": 0,
              "ticks": ""
             }
            },
            "type": "scattermapbox"
           }
          ],
          "scatterpolar": [
           {
            "marker": {
             "colorbar": {
              "outlinewidth": 0,
              "ticks": ""
             }
            },
            "type": "scatterpolar"
           }
          ],
          "scatterpolargl": [
           {
            "marker": {
             "colorbar": {
              "outlinewidth": 0,
              "ticks": ""
             }
            },
            "type": "scatterpolargl"
           }
          ],
          "scatterternary": [
           {
            "marker": {
             "colorbar": {
              "outlinewidth": 0,
              "ticks": ""
             }
            },
            "type": "scatterternary"
           }
          ],
          "surface": [
           {
            "colorbar": {
             "outlinewidth": 0,
             "ticks": ""
            },
            "colorscale": [
             [
              0,
              "#0d0887"
             ],
             [
              0.1111111111111111,
              "#46039f"
             ],
             [
              0.2222222222222222,
              "#7201a8"
             ],
             [
              0.3333333333333333,
              "#9c179e"
             ],
             [
              0.4444444444444444,
              "#bd3786"
             ],
             [
              0.5555555555555556,
              "#d8576b"
             ],
             [
              0.6666666666666666,
              "#ed7953"
             ],
             [
              0.7777777777777778,
              "#fb9f3a"
             ],
             [
              0.8888888888888888,
              "#fdca26"
             ],
             [
              1,
              "#f0f921"
             ]
            ],
            "type": "surface"
           }
          ],
          "table": [
           {
            "cells": {
             "fill": {
              "color": "#EBF0F8"
             },
             "line": {
              "color": "white"
             }
            },
            "header": {
             "fill": {
              "color": "#C8D4E3"
             },
             "line": {
              "color": "white"
             }
            },
            "type": "table"
           }
          ]
         },
         "layout": {
          "annotationdefaults": {
           "arrowcolor": "#2a3f5f",
           "arrowhead": 0,
           "arrowwidth": 1
          },
          "autotypenumbers": "strict",
          "coloraxis": {
           "colorbar": {
            "outlinewidth": 0,
            "ticks": ""
           }
          },
          "colorscale": {
           "diverging": [
            [
             0,
             "#8e0152"
            ],
            [
             0.1,
             "#c51b7d"
            ],
            [
             0.2,
             "#de77ae"
            ],
            [
             0.3,
             "#f1b6da"
            ],
            [
             0.4,
             "#fde0ef"
            ],
            [
             0.5,
             "#f7f7f7"
            ],
            [
             0.6,
             "#e6f5d0"
            ],
            [
             0.7,
             "#b8e186"
            ],
            [
             0.8,
             "#7fbc41"
            ],
            [
             0.9,
             "#4d9221"
            ],
            [
             1,
             "#276419"
            ]
           ],
           "sequential": [
            [
             0,
             "#0d0887"
            ],
            [
             0.1111111111111111,
             "#46039f"
            ],
            [
             0.2222222222222222,
             "#7201a8"
            ],
            [
             0.3333333333333333,
             "#9c179e"
            ],
            [
             0.4444444444444444,
             "#bd3786"
            ],
            [
             0.5555555555555556,
             "#d8576b"
            ],
            [
             0.6666666666666666,
             "#ed7953"
            ],
            [
             0.7777777777777778,
             "#fb9f3a"
            ],
            [
             0.8888888888888888,
             "#fdca26"
            ],
            [
             1,
             "#f0f921"
            ]
           ],
           "sequentialminus": [
            [
             0,
             "#0d0887"
            ],
            [
             0.1111111111111111,
             "#46039f"
            ],
            [
             0.2222222222222222,
             "#7201a8"
            ],
            [
             0.3333333333333333,
             "#9c179e"
            ],
            [
             0.4444444444444444,
             "#bd3786"
            ],
            [
             0.5555555555555556,
             "#d8576b"
            ],
            [
             0.6666666666666666,
             "#ed7953"
            ],
            [
             0.7777777777777778,
             "#fb9f3a"
            ],
            [
             0.8888888888888888,
             "#fdca26"
            ],
            [
             1,
             "#f0f921"
            ]
           ]
          },
          "colorway": [
           "#636efa",
           "#EF553B",
           "#00cc96",
           "#ab63fa",
           "#FFA15A",
           "#19d3f3",
           "#FF6692",
           "#B6E880",
           "#FF97FF",
           "#FECB52"
          ],
          "font": {
           "color": "#2a3f5f"
          },
          "geo": {
           "bgcolor": "white",
           "lakecolor": "white",
           "landcolor": "#E5ECF6",
           "showlakes": true,
           "showland": true,
           "subunitcolor": "white"
          },
          "hoverlabel": {
           "align": "left"
          },
          "hovermode": "closest",
          "mapbox": {
           "style": "light"
          },
          "paper_bgcolor": "white",
          "plot_bgcolor": "#E5ECF6",
          "polar": {
           "angularaxis": {
            "gridcolor": "white",
            "linecolor": "white",
            "ticks": ""
           },
           "bgcolor": "#E5ECF6",
           "radialaxis": {
            "gridcolor": "white",
            "linecolor": "white",
            "ticks": ""
           }
          },
          "scene": {
           "xaxis": {
            "backgroundcolor": "#E5ECF6",
            "gridcolor": "white",
            "gridwidth": 2,
            "linecolor": "white",
            "showbackground": true,
            "ticks": "",
            "zerolinecolor": "white"
           },
           "yaxis": {
            "backgroundcolor": "#E5ECF6",
            "gridcolor": "white",
            "gridwidth": 2,
            "linecolor": "white",
            "showbackground": true,
            "ticks": "",
            "zerolinecolor": "white"
           },
           "zaxis": {
            "backgroundcolor": "#E5ECF6",
            "gridcolor": "white",
            "gridwidth": 2,
            "linecolor": "white",
            "showbackground": true,
            "ticks": "",
            "zerolinecolor": "white"
           }
          },
          "shapedefaults": {
           "line": {
            "color": "#2a3f5f"
           }
          },
          "ternary": {
           "aaxis": {
            "gridcolor": "white",
            "linecolor": "white",
            "ticks": ""
           },
           "baxis": {
            "gridcolor": "white",
            "linecolor": "white",
            "ticks": ""
           },
           "bgcolor": "#E5ECF6",
           "caxis": {
            "gridcolor": "white",
            "linecolor": "white",
            "ticks": ""
           }
          },
          "title": {
           "x": 0.05
          },
          "xaxis": {
           "automargin": true,
           "gridcolor": "white",
           "linecolor": "white",
           "ticks": "",
           "title": {
            "standoff": 15
           },
           "zerolinecolor": "white",
           "zerolinewidth": 2
          },
          "yaxis": {
           "automargin": true,
           "gridcolor": "white",
           "linecolor": "white",
           "ticks": "",
           "title": {
            "standoff": 15
           },
           "zerolinecolor": "white",
           "zerolinewidth": 2
          }
         }
        }
       }
      },
      "text/html": [
       "<div>                            <div id=\"e3c710a8-14b7-461f-8636-bb4521b36ea5\" class=\"plotly-graph-div\" style=\"height:525px; width:100%;\"></div>            <script type=\"text/javascript\">                require([\"plotly\"], function(Plotly) {                    window.PLOTLYENV=window.PLOTLYENV || {};                                    if (document.getElementById(\"e3c710a8-14b7-461f-8636-bb4521b36ea5\")) {                    Plotly.newPlot(                        \"e3c710a8-14b7-461f-8636-bb4521b36ea5\",                        [{\"branchvalues\":\"total\",\"customdata\":[[163.8,141.6],[181.65,146.2],[234.0,163.0],[137.0,119.0],[155.45454545454547,147.63636363636363],[106.0,122.25],[27.5,119.0],[131.6,149.13333333333333],[255.3781094527363,150.49751243781094],[89.0,116.0],[153.05555555555554,144.0],[159.85714285714286,127.57142857142857],[203.0,142.35],[165.0,128.0],[82.71428571428571,114.95238095238095],[173.45714285714286,137.37142857142857],[185.6,158.4],[157.0,133.33333333333334],[110.0,123.0],[207.925,146.925],[169.4390243902439,135.0731707317073],[146.55172413793105,130.3793103448276],[63.666666666666664,139.0],[228.0,141.5],[254.85714285714286,148.0],[131.56,125.48],[182.69620253164558,136.42194092827003],[100.6,114.8],[148.6,136.0],[144.42857142857142,144.0],[219.02325581395348,145.88372093023256],[67.0,150.66666666666666],[253.22826086956522,157.9673913043478],[0.0,166.0],[190.25,129.25],[\"(?)\",122.3731343283582],[\"(?)\",149.816],[\"(?)\",144.45],[\"(?)\",141.85883748517202],[\"(?)\",135.625],[\"(?)\",142.34551495016612]],\"domain\":{\"x\":[0.0,1.0],\"y\":[0.0,1.0]},\"hovertemplate\":\"labels=%{label}<br>class_counts=%{value}<br>parent=%{parent}<br>id=%{id}<br>ave_elo_xenos=%{customdata[0]}<br>ave_score_xenos=%{color}<extra></extra>\",\"ids\":[\"R1 Structures: Frequency and Overall Score for xenos/PI/ 1_m / 0_ts / 1_lab / 1_pi / 0_ac1 / 0_ac2\",\"R1 Structures: Frequency and Overall Score for xenos/lab/ 1_m / 0_ts / 2_lab / 0_pi / 0_ac1 / 0_ac2\",\"R1 Structures: Frequency and Overall Score for xenos/ac1/ 1_m / 1_ts / 0_lab / 0_pi / 1_ac1 / 0_ac2\",\"R1 Structures: Frequency and Overall Score for xenos/PI/ 1_m / 1_ts / 0_lab / 1_pi / 0_ac1 / 0_ac2\",\"R1 Structures: Frequency and Overall Score for xenos/lab/ 1_m / 1_ts / 1_lab / 0_pi / 0_ac1 / 0_ac2\",\"R1 Structures: Frequency and Overall Score for xenos/lab/ 1_m / 2_ts / 1_lab / 0_pi / 0_ac1 / 0_ac2\",\"R1 Structures: Frequency and Overall Score for xenos/ts/ 1_m / 3_ts / 0_lab / 0_pi / 0_ac1 / 0_ac2\",\"R1 Structures: Frequency and Overall Score for xenos/ac2/ 2_m / 0_ts / 0_lab / 0_pi / 0_ac1 / 1_ac2\",\"R1 Structures: Frequency and Overall Score for xenos/ac1/ 2_m / 0_ts / 0_lab / 0_pi / 1_ac1 / 0_ac2\",\"R1 Structures: Frequency and Overall Score for xenos/PI/ 2_m / 0_ts / 0_lab / 1_pi / 0_ac1 / 0_ac2\",\"R1 Structures: Frequency and Overall Score for xenos/lab/ 2_m / 0_ts / 1_lab / 0_pi / 0_ac1 / 0_ac2\",\"R1 Structures: Frequency and Overall Score for xenos/PI/ 2_m / 0_ts / 1_lab / 1_pi / 0_ac1 / 0_ac2\",\"R1 Structures: Frequency and Overall Score for xenos/lab/ 2_m / 0_ts / 2_lab / 0_pi / 0_ac1 / 0_ac2\",\"R1 Structures: Frequency and Overall Score for xenos/ac1/ 2_m / 1_ts / 0_lab / 0_pi / 1_ac1 / 0_ac2\",\"R1 Structures: Frequency and Overall Score for xenos/PI/ 2_m / 1_ts / 0_lab / 1_pi / 0_ac1 / 0_ac2\",\"R1 Structures: Frequency and Overall Score for xenos/lab/ 2_m / 1_ts / 1_lab / 0_pi / 0_ac1 / 0_ac2\",\"R1 Structures: Frequency and Overall Score for xenos/lab/ 2_m / 2_ts / 1_lab / 0_pi / 0_ac1 / 0_ac2\",\"R1 Structures: Frequency and Overall Score for xenos/ts/ 2_m / 3_ts / 0_lab / 0_pi / 0_ac1 / 0_ac2\",\"R1 Structures: Frequency and Overall Score for xenos/ac2/ 3_m / 0_ts / 0_lab / 0_pi / 0_ac1 / 1_ac2\",\"R1 Structures: Frequency and Overall Score for xenos/ac1/ 3_m / 0_ts / 0_lab / 0_pi / 1_ac1 / 0_ac2\",\"R1 Structures: Frequency and Overall Score for xenos/lab/ 3_m / 0_ts / 1_lab / 0_pi / 0_ac1 / 0_ac2\",\"R1 Structures: Frequency and Overall Score for xenos/lab/ 3_m / 1_ts / 1_lab / 0_pi / 0_ac1 / 0_ac2\",\"R1 Structures: Frequency and Overall Score for xenos/ts/ 3_m / 2_ts / 0_lab / 0_pi / 0_ac1 / 0_ac2\",\"R1 Structures: Frequency and Overall Score for xenos/ac2/ 4_m / 0_ts / 0_lab / 0_pi / 0_ac1 / 1_ac2\",\"R1 Structures: Frequency and Overall Score for xenos/ac1/ 4_m / 0_ts / 0_lab / 0_pi / 1_ac1 / 0_ac2\",\"R1 Structures: Frequency and Overall Score for xenos/PI/ 4_m / 0_ts / 0_lab / 1_pi / 0_ac1 / 0_ac2\",\"R1 Structures: Frequency and Overall Score for xenos/lab/ 4_m / 0_ts / 1_lab / 0_pi / 0_ac1 / 0_ac2\",\"R1 Structures: Frequency and Overall Score for xenos/ts/ 4_m / 1_ts / 0_lab / 0_pi / 0_ac1 / 0_ac2\",\"R1 Structures: Frequency and Overall Score for xenos/lab/ 4_m / 1_ts / 1_lab / 0_pi / 0_ac1 / 0_ac2\",\"R1 Structures: Frequency and Overall Score for xenos/ts/ 4_m / 2_ts / 0_lab / 0_pi / 0_ac1 / 0_ac2\",\"R1 Structures: Frequency and Overall Score for xenos/lab/ 5_m / 0_ts / 1_lab / 0_pi / 0_ac1 / 0_ac2\",\"R1 Structures: Frequency and Overall Score for xenos/ts/ 5_m / 1_ts / 0_lab / 0_pi / 0_ac1 / 0_ac2\",\"R1 Structures: Frequency and Overall Score for xenos/lab/ 6_m / 0_ts / 1_lab / 0_pi / 0_ac1 / 0_ac2\",\"R1 Structures: Frequency and Overall Score for xenos/ts/ 6_m / 1_ts / 0_lab / 0_pi / 0_ac1 / 0_ac2\",\"R1 Structures: Frequency and Overall Score for xenos/lab/ 7_m / 0_ts / 1_lab / 0_pi / 0_ac1 / 0_ac2\",\"R1 Structures: Frequency and Overall Score for xenos/PI\",\"R1 Structures: Frequency and Overall Score for xenos/ac1\",\"R1 Structures: Frequency and Overall Score for xenos/ac2\",\"R1 Structures: Frequency and Overall Score for xenos/lab\",\"R1 Structures: Frequency and Overall Score for xenos/ts\",\"R1 Structures: Frequency and Overall Score for xenos\"],\"labels\":[\" 1_m / 0_ts / 1_lab / 1_pi / 0_ac1 / 0_ac2\",\" 1_m / 0_ts / 2_lab / 0_pi / 0_ac1 / 0_ac2\",\" 1_m / 1_ts / 0_lab / 0_pi / 1_ac1 / 0_ac2\",\" 1_m / 1_ts / 0_lab / 1_pi / 0_ac1 / 0_ac2\",\" 1_m / 1_ts / 1_lab / 0_pi / 0_ac1 / 0_ac2\",\" 1_m / 2_ts / 1_lab / 0_pi / 0_ac1 / 0_ac2\",\" 1_m / 3_ts / 0_lab / 0_pi / 0_ac1 / 0_ac2\",\" 2_m / 0_ts / 0_lab / 0_pi / 0_ac1 / 1_ac2\",\" 2_m / 0_ts / 0_lab / 0_pi / 1_ac1 / 0_ac2\",\" 2_m / 0_ts / 0_lab / 1_pi / 0_ac1 / 0_ac2\",\" 2_m / 0_ts / 1_lab / 0_pi / 0_ac1 / 0_ac2\",\" 2_m / 0_ts / 1_lab / 1_pi / 0_ac1 / 0_ac2\",\" 2_m / 0_ts / 2_lab / 0_pi / 0_ac1 / 0_ac2\",\" 2_m / 1_ts / 0_lab / 0_pi / 1_ac1 / 0_ac2\",\" 2_m / 1_ts / 0_lab / 1_pi / 0_ac1 / 0_ac2\",\" 2_m / 1_ts / 1_lab / 0_pi / 0_ac1 / 0_ac2\",\" 2_m / 2_ts / 1_lab / 0_pi / 0_ac1 / 0_ac2\",\" 2_m / 3_ts / 0_lab / 0_pi / 0_ac1 / 0_ac2\",\" 3_m / 0_ts / 0_lab / 0_pi / 0_ac1 / 1_ac2\",\" 3_m / 0_ts / 0_lab / 0_pi / 1_ac1 / 0_ac2\",\" 3_m / 0_ts / 1_lab / 0_pi / 0_ac1 / 0_ac2\",\" 3_m / 1_ts / 1_lab / 0_pi / 0_ac1 / 0_ac2\",\" 3_m / 2_ts / 0_lab / 0_pi / 0_ac1 / 0_ac2\",\" 4_m / 0_ts / 0_lab / 0_pi / 0_ac1 / 1_ac2\",\" 4_m / 0_ts / 0_lab / 0_pi / 1_ac1 / 0_ac2\",\" 4_m / 0_ts / 0_lab / 1_pi / 0_ac1 / 0_ac2\",\" 4_m / 0_ts / 1_lab / 0_pi / 0_ac1 / 0_ac2\",\" 4_m / 1_ts / 0_lab / 0_pi / 0_ac1 / 0_ac2\",\" 4_m / 1_ts / 1_lab / 0_pi / 0_ac1 / 0_ac2\",\" 4_m / 2_ts / 0_lab / 0_pi / 0_ac1 / 0_ac2\",\" 5_m / 0_ts / 1_lab / 0_pi / 0_ac1 / 0_ac2\",\" 5_m / 1_ts / 0_lab / 0_pi / 0_ac1 / 0_ac2\",\" 6_m / 0_ts / 1_lab / 0_pi / 0_ac1 / 0_ac2\",\" 6_m / 1_ts / 0_lab / 0_pi / 0_ac1 / 0_ac2\",\" 7_m / 0_ts / 1_lab / 0_pi / 0_ac1 / 0_ac2\",\"PI\",\"ac1\",\"ac2\",\"lab\",\"ts\",\"R1 Structures: Frequency and Overall Score for xenos\"],\"marker\":{\"coloraxis\":\"coloraxis\",\"colors\":[141.6,146.2,163.0,119.0,147.63636363636363,122.25,119.0,149.13333333333333,150.49751243781094,116.0,144.0,127.57142857142857,142.35,128.0,114.95238095238095,137.37142857142857,158.4,133.33333333333334,123.0,146.925,135.0731707317073,130.3793103448276,139.0,141.5,148.0,125.48,136.42194092827003,114.8,136.0,144.0,145.88372093023256,150.66666666666666,157.9673913043478,166.0,129.25,122.3731343283582,149.816,144.45,141.85883748517202,135.625,142.34551495016612]},\"name\":\"\",\"parents\":[\"R1 Structures: Frequency and Overall Score for xenos/PI\",\"R1 Structures: Frequency and Overall Score for xenos/lab\",\"R1 Structures: Frequency and Overall Score for xenos/ac1\",\"R1 Structures: Frequency and Overall Score for xenos/PI\",\"R1 Structures: Frequency and Overall Score for xenos/lab\",\"R1 Structures: Frequency and Overall Score for xenos/lab\",\"R1 Structures: Frequency and Overall Score for xenos/ts\",\"R1 Structures: Frequency and Overall Score for xenos/ac2\",\"R1 Structures: Frequency and Overall Score for xenos/ac1\",\"R1 Structures: Frequency and Overall Score for xenos/PI\",\"R1 Structures: Frequency and Overall Score for xenos/lab\",\"R1 Structures: Frequency and Overall Score for xenos/PI\",\"R1 Structures: Frequency and Overall Score for xenos/lab\",\"R1 Structures: Frequency and Overall Score for xenos/ac1\",\"R1 Structures: Frequency and Overall Score for xenos/PI\",\"R1 Structures: Frequency and Overall Score for xenos/lab\",\"R1 Structures: Frequency and Overall Score for xenos/lab\",\"R1 Structures: Frequency and Overall Score for xenos/ts\",\"R1 Structures: Frequency and Overall Score for xenos/ac2\",\"R1 Structures: Frequency and Overall Score for xenos/ac1\",\"R1 Structures: Frequency and Overall Score for xenos/lab\",\"R1 Structures: Frequency and Overall Score for xenos/lab\",\"R1 Structures: Frequency and Overall Score for xenos/ts\",\"R1 Structures: Frequency and Overall Score for xenos/ac2\",\"R1 Structures: Frequency and Overall Score for xenos/ac1\",\"R1 Structures: Frequency and Overall Score for xenos/PI\",\"R1 Structures: Frequency and Overall Score for xenos/lab\",\"R1 Structures: Frequency and Overall Score for xenos/ts\",\"R1 Structures: Frequency and Overall Score for xenos/lab\",\"R1 Structures: Frequency and Overall Score for xenos/ts\",\"R1 Structures: Frequency and Overall Score for xenos/lab\",\"R1 Structures: Frequency and Overall Score for xenos/ts\",\"R1 Structures: Frequency and Overall Score for xenos/lab\",\"R1 Structures: Frequency and Overall Score for xenos/ts\",\"R1 Structures: Frequency and Overall Score for xenos/lab\",\"R1 Structures: Frequency and Overall Score for xenos\",\"R1 Structures: Frequency and Overall Score for xenos\",\"R1 Structures: Frequency and Overall Score for xenos\",\"R1 Structures: Frequency and Overall Score for xenos\",\"R1 Structures: Frequency and Overall Score for xenos\",\"\"],\"values\":[5,20,1,1,11,4,2,15,201,8,36,7,20,1,21,105,5,3,3,40,41,29,3,2,7,25,237,5,20,7,215,3,92,1,8,67,250,20,843,24,1204],\"type\":\"treemap\"}],                        {\"template\":{\"data\":{\"bar\":[{\"error_x\":{\"color\":\"#2a3f5f\"},\"error_y\":{\"color\":\"#2a3f5f\"},\"marker\":{\"line\":{\"color\":\"#E5ECF6\",\"width\":0.5},\"pattern\":{\"fillmode\":\"overlay\",\"size\":10,\"solidity\":0.2}},\"type\":\"bar\"}],\"barpolar\":[{\"marker\":{\"line\":{\"color\":\"#E5ECF6\",\"width\":0.5},\"pattern\":{\"fillmode\":\"overlay\",\"size\":10,\"solidity\":0.2}},\"type\":\"barpolar\"}],\"carpet\":[{\"aaxis\":{\"endlinecolor\":\"#2a3f5f\",\"gridcolor\":\"white\",\"linecolor\":\"white\",\"minorgridcolor\":\"white\",\"startlinecolor\":\"#2a3f5f\"},\"baxis\":{\"endlinecolor\":\"#2a3f5f\",\"gridcolor\":\"white\",\"linecolor\":\"white\",\"minorgridcolor\":\"white\",\"startlinecolor\":\"#2a3f5f\"},\"type\":\"carpet\"}],\"choropleth\":[{\"colorbar\":{\"outlinewidth\":0,\"ticks\":\"\"},\"type\":\"choropleth\"}],\"contour\":[{\"colorbar\":{\"outlinewidth\":0,\"ticks\":\"\"},\"colorscale\":[[0.0,\"#0d0887\"],[0.1111111111111111,\"#46039f\"],[0.2222222222222222,\"#7201a8\"],[0.3333333333333333,\"#9c179e\"],[0.4444444444444444,\"#bd3786\"],[0.5555555555555556,\"#d8576b\"],[0.6666666666666666,\"#ed7953\"],[0.7777777777777778,\"#fb9f3a\"],[0.8888888888888888,\"#fdca26\"],[1.0,\"#f0f921\"]],\"type\":\"contour\"}],\"contourcarpet\":[{\"colorbar\":{\"outlinewidth\":0,\"ticks\":\"\"},\"type\":\"contourcarpet\"}],\"heatmap\":[{\"colorbar\":{\"outlinewidth\":0,\"ticks\":\"\"},\"colorscale\":[[0.0,\"#0d0887\"],[0.1111111111111111,\"#46039f\"],[0.2222222222222222,\"#7201a8\"],[0.3333333333333333,\"#9c179e\"],[0.4444444444444444,\"#bd3786\"],[0.5555555555555556,\"#d8576b\"],[0.6666666666666666,\"#ed7953\"],[0.7777777777777778,\"#fb9f3a\"],[0.8888888888888888,\"#fdca26\"],[1.0,\"#f0f921\"]],\"type\":\"heatmap\"}],\"heatmapgl\":[{\"colorbar\":{\"outlinewidth\":0,\"ticks\":\"\"},\"colorscale\":[[0.0,\"#0d0887\"],[0.1111111111111111,\"#46039f\"],[0.2222222222222222,\"#7201a8\"],[0.3333333333333333,\"#9c179e\"],[0.4444444444444444,\"#bd3786\"],[0.5555555555555556,\"#d8576b\"],[0.6666666666666666,\"#ed7953\"],[0.7777777777777778,\"#fb9f3a\"],[0.8888888888888888,\"#fdca26\"],[1.0,\"#f0f921\"]],\"type\":\"heatmapgl\"}],\"histogram\":[{\"marker\":{\"pattern\":{\"fillmode\":\"overlay\",\"size\":10,\"solidity\":0.2}},\"type\":\"histogram\"}],\"histogram2d\":[{\"colorbar\":{\"outlinewidth\":0,\"ticks\":\"\"},\"colorscale\":[[0.0,\"#0d0887\"],[0.1111111111111111,\"#46039f\"],[0.2222222222222222,\"#7201a8\"],[0.3333333333333333,\"#9c179e\"],[0.4444444444444444,\"#bd3786\"],[0.5555555555555556,\"#d8576b\"],[0.6666666666666666,\"#ed7953\"],[0.7777777777777778,\"#fb9f3a\"],[0.8888888888888888,\"#fdca26\"],[1.0,\"#f0f921\"]],\"type\":\"histogram2d\"}],\"histogram2dcontour\":[{\"colorbar\":{\"outlinewidth\":0,\"ticks\":\"\"},\"colorscale\":[[0.0,\"#0d0887\"],[0.1111111111111111,\"#46039f\"],[0.2222222222222222,\"#7201a8\"],[0.3333333333333333,\"#9c179e\"],[0.4444444444444444,\"#bd3786\"],[0.5555555555555556,\"#d8576b\"],[0.6666666666666666,\"#ed7953\"],[0.7777777777777778,\"#fb9f3a\"],[0.8888888888888888,\"#fdca26\"],[1.0,\"#f0f921\"]],\"type\":\"histogram2dcontour\"}],\"mesh3d\":[{\"colorbar\":{\"outlinewidth\":0,\"ticks\":\"\"},\"type\":\"mesh3d\"}],\"parcoords\":[{\"line\":{\"colorbar\":{\"outlinewidth\":0,\"ticks\":\"\"}},\"type\":\"parcoords\"}],\"pie\":[{\"automargin\":true,\"type\":\"pie\"}],\"scatter\":[{\"marker\":{\"colorbar\":{\"outlinewidth\":0,\"ticks\":\"\"}},\"type\":\"scatter\"}],\"scatter3d\":[{\"line\":{\"colorbar\":{\"outlinewidth\":0,\"ticks\":\"\"}},\"marker\":{\"colorbar\":{\"outlinewidth\":0,\"ticks\":\"\"}},\"type\":\"scatter3d\"}],\"scattercarpet\":[{\"marker\":{\"colorbar\":{\"outlinewidth\":0,\"ticks\":\"\"}},\"type\":\"scattercarpet\"}],\"scattergeo\":[{\"marker\":{\"colorbar\":{\"outlinewidth\":0,\"ticks\":\"\"}},\"type\":\"scattergeo\"}],\"scattergl\":[{\"marker\":{\"colorbar\":{\"outlinewidth\":0,\"ticks\":\"\"}},\"type\":\"scattergl\"}],\"scattermapbox\":[{\"marker\":{\"colorbar\":{\"outlinewidth\":0,\"ticks\":\"\"}},\"type\":\"scattermapbox\"}],\"scatterpolar\":[{\"marker\":{\"colorbar\":{\"outlinewidth\":0,\"ticks\":\"\"}},\"type\":\"scatterpolar\"}],\"scatterpolargl\":[{\"marker\":{\"colorbar\":{\"outlinewidth\":0,\"ticks\":\"\"}},\"type\":\"scatterpolargl\"}],\"scatterternary\":[{\"marker\":{\"colorbar\":{\"outlinewidth\":0,\"ticks\":\"\"}},\"type\":\"scatterternary\"}],\"surface\":[{\"colorbar\":{\"outlinewidth\":0,\"ticks\":\"\"},\"colorscale\":[[0.0,\"#0d0887\"],[0.1111111111111111,\"#46039f\"],[0.2222222222222222,\"#7201a8\"],[0.3333333333333333,\"#9c179e\"],[0.4444444444444444,\"#bd3786\"],[0.5555555555555556,\"#d8576b\"],[0.6666666666666666,\"#ed7953\"],[0.7777777777777778,\"#fb9f3a\"],[0.8888888888888888,\"#fdca26\"],[1.0,\"#f0f921\"]],\"type\":\"surface\"}],\"table\":[{\"cells\":{\"fill\":{\"color\":\"#EBF0F8\"},\"line\":{\"color\":\"white\"}},\"header\":{\"fill\":{\"color\":\"#C8D4E3\"},\"line\":{\"color\":\"white\"}},\"type\":\"table\"}]},\"layout\":{\"annotationdefaults\":{\"arrowcolor\":\"#2a3f5f\",\"arrowhead\":0,\"arrowwidth\":1},\"autotypenumbers\":\"strict\",\"coloraxis\":{\"colorbar\":{\"outlinewidth\":0,\"ticks\":\"\"}},\"colorscale\":{\"diverging\":[[0,\"#8e0152\"],[0.1,\"#c51b7d\"],[0.2,\"#de77ae\"],[0.3,\"#f1b6da\"],[0.4,\"#fde0ef\"],[0.5,\"#f7f7f7\"],[0.6,\"#e6f5d0\"],[0.7,\"#b8e186\"],[0.8,\"#7fbc41\"],[0.9,\"#4d9221\"],[1,\"#276419\"]],\"sequential\":[[0.0,\"#0d0887\"],[0.1111111111111111,\"#46039f\"],[0.2222222222222222,\"#7201a8\"],[0.3333333333333333,\"#9c179e\"],[0.4444444444444444,\"#bd3786\"],[0.5555555555555556,\"#d8576b\"],[0.6666666666666666,\"#ed7953\"],[0.7777777777777778,\"#fb9f3a\"],[0.8888888888888888,\"#fdca26\"],[1.0,\"#f0f921\"]],\"sequentialminus\":[[0.0,\"#0d0887\"],[0.1111111111111111,\"#46039f\"],[0.2222222222222222,\"#7201a8\"],[0.3333333333333333,\"#9c179e\"],[0.4444444444444444,\"#bd3786\"],[0.5555555555555556,\"#d8576b\"],[0.6666666666666666,\"#ed7953\"],[0.7777777777777778,\"#fb9f3a\"],[0.8888888888888888,\"#fdca26\"],[1.0,\"#f0f921\"]]},\"colorway\":[\"#636efa\",\"#EF553B\",\"#00cc96\",\"#ab63fa\",\"#FFA15A\",\"#19d3f3\",\"#FF6692\",\"#B6E880\",\"#FF97FF\",\"#FECB52\"],\"font\":{\"color\":\"#2a3f5f\"},\"geo\":{\"bgcolor\":\"white\",\"lakecolor\":\"white\",\"landcolor\":\"#E5ECF6\",\"showlakes\":true,\"showland\":true,\"subunitcolor\":\"white\"},\"hoverlabel\":{\"align\":\"left\"},\"hovermode\":\"closest\",\"mapbox\":{\"style\":\"light\"},\"paper_bgcolor\":\"white\",\"plot_bgcolor\":\"#E5ECF6\",\"polar\":{\"angularaxis\":{\"gridcolor\":\"white\",\"linecolor\":\"white\",\"ticks\":\"\"},\"bgcolor\":\"#E5ECF6\",\"radialaxis\":{\"gridcolor\":\"white\",\"linecolor\":\"white\",\"ticks\":\"\"}},\"scene\":{\"xaxis\":{\"backgroundcolor\":\"#E5ECF6\",\"gridcolor\":\"white\",\"gridwidth\":2,\"linecolor\":\"white\",\"showbackground\":true,\"ticks\":\"\",\"zerolinecolor\":\"white\"},\"yaxis\":{\"backgroundcolor\":\"#E5ECF6\",\"gridcolor\":\"white\",\"gridwidth\":2,\"linecolor\":\"white\",\"showbackground\":true,\"ticks\":\"\",\"zerolinecolor\":\"white\"},\"zaxis\":{\"backgroundcolor\":\"#E5ECF6\",\"gridcolor\":\"white\",\"gridwidth\":2,\"linecolor\":\"white\",\"showbackground\":true,\"ticks\":\"\",\"zerolinecolor\":\"white\"}},\"shapedefaults\":{\"line\":{\"color\":\"#2a3f5f\"}},\"ternary\":{\"aaxis\":{\"gridcolor\":\"white\",\"linecolor\":\"white\",\"ticks\":\"\"},\"baxis\":{\"gridcolor\":\"white\",\"linecolor\":\"white\",\"ticks\":\"\"},\"bgcolor\":\"#E5ECF6\",\"caxis\":{\"gridcolor\":\"white\",\"linecolor\":\"white\",\"ticks\":\"\"}},\"title\":{\"x\":0.05},\"xaxis\":{\"automargin\":true,\"gridcolor\":\"white\",\"linecolor\":\"white\",\"ticks\":\"\",\"title\":{\"standoff\":15},\"zerolinecolor\":\"white\",\"zerolinewidth\":2},\"yaxis\":{\"automargin\":true,\"gridcolor\":\"white\",\"linecolor\":\"white\",\"ticks\":\"\",\"title\":{\"standoff\":15},\"zerolinecolor\":\"white\",\"zerolinewidth\":2}}},\"coloraxis\":{\"colorbar\":{\"title\":{\"text\":\"ave_score_xenos\"}},\"colorscale\":[[0.0,\"rgb(103,0,31)\"],[0.1,\"rgb(178,24,43)\"],[0.2,\"rgb(214,96,77)\"],[0.3,\"rgb(244,165,130)\"],[0.4,\"rgb(253,219,199)\"],[0.5,\"rgb(247,247,247)\"],[0.6,\"rgb(209,229,240)\"],[0.7,\"rgb(146,197,222)\"],[0.8,\"rgb(67,147,195)\"],[0.9,\"rgb(33,102,172)\"],[1.0,\"rgb(5,48,97)\"]],\"cmid\":144.30885882929329},\"legend\":{\"tracegroupgap\":0},\"margin\":{\"t\":50,\"l\":25,\"r\":25,\"b\":25}},                        {\"responsive\": true}                    ).then(function(){\n",
       "                            \n",
       "var gd = document.getElementById('e3c710a8-14b7-461f-8636-bb4521b36ea5');\n",
       "var x = new MutationObserver(function (mutations, observer) {{\n",
       "        var display = window.getComputedStyle(gd).display;\n",
       "        if (!display || display === 'none') {{\n",
       "            console.log([gd, 'removed!']);\n",
       "            Plotly.purge(gd);\n",
       "            observer.disconnect();\n",
       "        }}\n",
       "}});\n",
       "\n",
       "// Listen for the removal of the full notebook cells\n",
       "var notebookContainer = gd.closest('#notebook-container');\n",
       "if (notebookContainer) {{\n",
       "    x.observe(notebookContainer, {childList: true});\n",
       "}}\n",
       "\n",
       "// Listen for the clearing of the current output cell\n",
       "var outputEl = gd.closest('.output');\n",
       "if (outputEl) {{\n",
       "    x.observe(outputEl, {childList: true});\n",
       "}}\n",
       "\n",
       "                        })                };                });            </script>        </div>"
      ]
     },
     "metadata": {},
     "output_type": "display_data"
    },
    {
     "data": {
      "application/vnd.plotly.v1+json": {
       "config": {
        "plotlyServerURL": "https://plot.ly"
       },
       "data": [
        {
         "branchvalues": "total",
         "customdata": [
          [
           226.8,
           133.6
          ],
          [
           242,
           163
          ],
          [
           113,
           116.33333333333333
          ],
          [
           85.5,
           114
          ],
          [
           208.5,
           144.25
          ],
          [
           150.33333333333334,
           175
          ],
          [
           221.2803738317757,
           153.65420560747663
          ],
          [
           135.33333333333334,
           126.66666666666667
          ],
          [
           153.4,
           134
          ],
          [
           304.55882352941177,
           159.61764705882354
          ],
          [
           100,
           129
          ],
          [
           257.4117647058824,
           163.41176470588235
          ],
          [
           199.83870967741936,
           123.35483870967742
          ],
          [
           324,
           211
          ],
          [
           170.55555555555554,
           162
          ],
          [
           263.3333333333333,
           144.33333333333334
          ],
          [
           253.44758064516128,
           157.2258064516129
          ],
          [
           170.83333333333334,
           132.87037037037038
          ],
          [
           125.66666666666667,
           145
          ],
          [
           301.2295081967213,
           161.62295081967213
          ],
          [
           245,
           197
          ],
          [
           294.3333333333333,
           170.44444444444446
          ],
          [
           112,
           152
          ],
          [
           206.91907514450867,
           150.3815028901734
          ],
          [
           252,
           156.57142857142858
          ],
          [
           141.6,
           161.2
          ],
          [
           260.42857142857144,
           164.41071428571428
          ],
          [
           85.66666666666667,
           108.6
          ],
          [
           167.56410256410257,
           134.42307692307693
          ],
          [
           257.8333333333333,
           181
          ],
          [
           203.91304347826087,
           155.1304347826087
          ],
          [
           164,
           115
          ],
          [
           104.5,
           108.5
          ],
          [
           169.5,
           164.5
          ],
          [
           244.52941176470588,
           160.38235294117646
          ],
          [
           158,
           129.5
          ],
          [
           213.3846153846154,
           144.2923076923077
          ],
          [
           101,
           117
          ],
          [
           272.53333333333336,
           162.53333333333333
          ],
          [
           61.5,
           125
          ],
          [
           314,
           180.8
          ],
          [
           233.75555555555556,
           159.9777777777778
          ],
          [
           161,
           165
          ],
          [
           255,
           174.1764705882353
          ],
          [
           1,
           161
          ],
          [
           317.5,
           173.5
          ],
          [
           "(?)",
           129
          ],
          [
           "(?)",
           158.3219696969697
          ],
          [
           "(?)",
           158.27272727272728
          ],
          [
           "(?)",
           149.05107526881721
          ],
          [
           "(?)",
           125.6
          ],
          [
           "(?)",
           132.33333333333334
          ],
          [
           "(?)",
           153.14570361145704
          ]
         ],
         "domain": {
          "x": [
           0,
           1
          ],
          "y": [
           0,
           1
          ]
         },
         "hovertemplate": "labels=%{label}<br>class_counts=%{value}<br>parent=%{parent}<br>id=%{id}<br>ave_elo_taklons=%{customdata[0]}<br>ave_score_taklons=%{color}<extra></extra>",
         "ids": [
          "R1 Structures: Frequency and Overall Score for taklons/PI/ 0_m / 0_ts / 1_lab / 1_pi / 0_ac1 / 0_ac2",
          "R1 Structures: Frequency and Overall Score for taklons/lab/ 0_m / 0_ts / 2_lab / 0_pi / 0_ac1 / 0_ac2",
          "R1 Structures: Frequency and Overall Score for taklons/ac1/ 0_m / 1_ts / 0_lab / 0_pi / 1_ac1 / 0_ac2",
          "R1 Structures: Frequency and Overall Score for taklons/lab/ 0_m / 1_ts / 1_lab / 0_pi / 0_ac1 / 0_ac2",
          "R1 Structures: Frequency and Overall Score for taklons/lab/ 0_m / 2_ts / 1_lab / 0_pi / 0_ac1 / 0_ac2",
          "R1 Structures: Frequency and Overall Score for taklons/ac2/ 1_m / 0_ts / 0_lab / 0_pi / 0_ac1 / 1_ac2",
          "R1 Structures: Frequency and Overall Score for taklons/ac1/ 1_m / 0_ts / 0_lab / 0_pi / 1_ac1 / 0_ac2",
          "R1 Structures: Frequency and Overall Score for taklons/lab/ 1_m / 0_ts / 1_lab / 0_pi / 0_ac1 / 0_ac2",
          "R1 Structures: Frequency and Overall Score for taklons/PI/ 1_m / 0_ts / 1_lab / 1_pi / 0_ac1 / 0_ac2",
          "R1 Structures: Frequency and Overall Score for taklons/lab/ 1_m / 0_ts / 2_lab / 0_pi / 0_ac1 / 0_ac2",
          "R1 Structures: Frequency and Overall Score for taklons/ac2/ 1_m / 1_ts / 0_lab / 0_pi / 0_ac1 / 1_ac2",
          "R1 Structures: Frequency and Overall Score for taklons/ac1/ 1_m / 1_ts / 0_lab / 0_pi / 1_ac1 / 0_ac2",
          "R1 Structures: Frequency and Overall Score for taklons/lab/ 1_m / 1_ts / 1_lab / 0_pi / 0_ac1 / 0_ac2",
          "R1 Structures: Frequency and Overall Score for taklons/lab/ 1_m / 1_ts / 2_lab / 0_pi / 0_ac1 / 0_ac2",
          "R1 Structures: Frequency and Overall Score for taklons/lab/ 1_m / 2_ts / 1_lab / 0_pi / 0_ac1 / 0_ac2",
          "R1 Structures: Frequency and Overall Score for taklons/ac2/ 2_m / 0_ts / 0_lab / 0_pi / 0_ac1 / 1_ac2",
          "R1 Structures: Frequency and Overall Score for taklons/ac1/ 2_m / 0_ts / 0_lab / 0_pi / 1_ac1 / 0_ac2",
          "R1 Structures: Frequency and Overall Score for taklons/lab/ 2_m / 0_ts / 1_lab / 0_pi / 0_ac1 / 0_ac2",
          "R1 Structures: Frequency and Overall Score for taklons/PI/ 2_m / 0_ts / 1_lab / 1_pi / 0_ac1 / 0_ac2",
          "R1 Structures: Frequency and Overall Score for taklons/lab/ 2_m / 0_ts / 2_lab / 0_pi / 0_ac1 / 0_ac2",
          "R1 Structures: Frequency and Overall Score for taklons/ac2/ 2_m / 1_ts / 0_lab / 0_pi / 0_ac1 / 1_ac2",
          "R1 Structures: Frequency and Overall Score for taklons/ac1/ 2_m / 1_ts / 0_lab / 0_pi / 1_ac1 / 0_ac2",
          "R1 Structures: Frequency and Overall Score for taklons/PI/ 2_m / 1_ts / 0_lab / 1_pi / 0_ac1 / 0_ac2",
          "R1 Structures: Frequency and Overall Score for taklons/lab/ 2_m / 1_ts / 1_lab / 0_pi / 0_ac1 / 0_ac2",
          "R1 Structures: Frequency and Overall Score for taklons/lab/ 2_m / 2_ts / 1_lab / 0_pi / 0_ac1 / 0_ac2",
          "R1 Structures: Frequency and Overall Score for taklons/ac2/ 3_m / 0_ts / 0_lab / 0_pi / 0_ac1 / 1_ac2",
          "R1 Structures: Frequency and Overall Score for taklons/ac1/ 3_m / 0_ts / 0_lab / 0_pi / 1_ac1 / 0_ac2",
          "R1 Structures: Frequency and Overall Score for taklons/PI/ 3_m / 0_ts / 0_lab / 1_pi / 0_ac1 / 0_ac2",
          "R1 Structures: Frequency and Overall Score for taklons/lab/ 3_m / 0_ts / 1_lab / 0_pi / 0_ac1 / 0_ac2",
          "R1 Structures: Frequency and Overall Score for taklons/lab/ 3_m / 0_ts / 2_lab / 0_pi / 0_ac1 / 0_ac2",
          "R1 Structures: Frequency and Overall Score for taklons/lab/ 3_m / 1_ts / 1_lab / 0_pi / 0_ac1 / 0_ac2",
          "R1 Structures: Frequency and Overall Score for taklons/ts/ 3_m / 2_ts / 0_lab / 0_pi / 0_ac1 / 0_ac2",
          "R1 Structures: Frequency and Overall Score for taklons/m/ 4_m / 0_ts / 0_lab / 0_pi / 0_ac1 / 0_ac2",
          "R1 Structures: Frequency and Overall Score for taklons/ac2/ 4_m / 0_ts / 0_lab / 0_pi / 0_ac1 / 1_ac2",
          "R1 Structures: Frequency and Overall Score for taklons/ac1/ 4_m / 0_ts / 0_lab / 0_pi / 1_ac1 / 0_ac2",
          "R1 Structures: Frequency and Overall Score for taklons/PI/ 4_m / 0_ts / 0_lab / 1_pi / 0_ac1 / 0_ac2",
          "R1 Structures: Frequency and Overall Score for taklons/lab/ 4_m / 0_ts / 1_lab / 0_pi / 0_ac1 / 0_ac2",
          "R1 Structures: Frequency and Overall Score for taklons/ts/ 4_m / 1_ts / 0_lab / 0_pi / 0_ac1 / 0_ac2",
          "R1 Structures: Frequency and Overall Score for taklons/lab/ 4_m / 1_ts / 1_lab / 0_pi / 0_ac1 / 0_ac2",
          "R1 Structures: Frequency and Overall Score for taklons/m/ 5_m / 0_ts / 0_lab / 0_pi / 0_ac1 / 0_ac2",
          "R1 Structures: Frequency and Overall Score for taklons/ac1/ 5_m / 0_ts / 0_lab / 0_pi / 1_ac1 / 0_ac2",
          "R1 Structures: Frequency and Overall Score for taklons/lab/ 5_m / 0_ts / 1_lab / 0_pi / 0_ac1 / 0_ac2",
          "R1 Structures: Frequency and Overall Score for taklons/ts/ 5_m / 1_ts / 0_lab / 0_pi / 0_ac1 / 0_ac2",
          "R1 Structures: Frequency and Overall Score for taklons/lab/ 6_m / 0_ts / 1_lab / 0_pi / 0_ac1 / 0_ac2",
          "R1 Structures: Frequency and Overall Score for taklons/m/ 7_m / 0_ts / 0_lab / 0_pi / 0_ac1 / 0_ac2",
          "R1 Structures: Frequency and Overall Score for taklons/lab/ 7_m / 0_ts / 1_lab / 0_pi / 0_ac1 / 0_ac2",
          "R1 Structures: Frequency and Overall Score for taklons/PI",
          "R1 Structures: Frequency and Overall Score for taklons/ac1",
          "R1 Structures: Frequency and Overall Score for taklons/ac2",
          "R1 Structures: Frequency and Overall Score for taklons/lab",
          "R1 Structures: Frequency and Overall Score for taklons/m",
          "R1 Structures: Frequency and Overall Score for taklons/ts",
          "R1 Structures: Frequency and Overall Score for taklons"
         ],
         "labels": [
          " 0_m / 0_ts / 1_lab / 1_pi / 0_ac1 / 0_ac2",
          " 0_m / 0_ts / 2_lab / 0_pi / 0_ac1 / 0_ac2",
          " 0_m / 1_ts / 0_lab / 0_pi / 1_ac1 / 0_ac2",
          " 0_m / 1_ts / 1_lab / 0_pi / 0_ac1 / 0_ac2",
          " 0_m / 2_ts / 1_lab / 0_pi / 0_ac1 / 0_ac2",
          " 1_m / 0_ts / 0_lab / 0_pi / 0_ac1 / 1_ac2",
          " 1_m / 0_ts / 0_lab / 0_pi / 1_ac1 / 0_ac2",
          " 1_m / 0_ts / 1_lab / 0_pi / 0_ac1 / 0_ac2",
          " 1_m / 0_ts / 1_lab / 1_pi / 0_ac1 / 0_ac2",
          " 1_m / 0_ts / 2_lab / 0_pi / 0_ac1 / 0_ac2",
          " 1_m / 1_ts / 0_lab / 0_pi / 0_ac1 / 1_ac2",
          " 1_m / 1_ts / 0_lab / 0_pi / 1_ac1 / 0_ac2",
          " 1_m / 1_ts / 1_lab / 0_pi / 0_ac1 / 0_ac2",
          " 1_m / 1_ts / 2_lab / 0_pi / 0_ac1 / 0_ac2",
          " 1_m / 2_ts / 1_lab / 0_pi / 0_ac1 / 0_ac2",
          " 2_m / 0_ts / 0_lab / 0_pi / 0_ac1 / 1_ac2",
          " 2_m / 0_ts / 0_lab / 0_pi / 1_ac1 / 0_ac2",
          " 2_m / 0_ts / 1_lab / 0_pi / 0_ac1 / 0_ac2",
          " 2_m / 0_ts / 1_lab / 1_pi / 0_ac1 / 0_ac2",
          " 2_m / 0_ts / 2_lab / 0_pi / 0_ac1 / 0_ac2",
          " 2_m / 1_ts / 0_lab / 0_pi / 0_ac1 / 1_ac2",
          " 2_m / 1_ts / 0_lab / 0_pi / 1_ac1 / 0_ac2",
          " 2_m / 1_ts / 0_lab / 1_pi / 0_ac1 / 0_ac2",
          " 2_m / 1_ts / 1_lab / 0_pi / 0_ac1 / 0_ac2",
          " 2_m / 2_ts / 1_lab / 0_pi / 0_ac1 / 0_ac2",
          " 3_m / 0_ts / 0_lab / 0_pi / 0_ac1 / 1_ac2",
          " 3_m / 0_ts / 0_lab / 0_pi / 1_ac1 / 0_ac2",
          " 3_m / 0_ts / 0_lab / 1_pi / 0_ac1 / 0_ac2",
          " 3_m / 0_ts / 1_lab / 0_pi / 0_ac1 / 0_ac2",
          " 3_m / 0_ts / 2_lab / 0_pi / 0_ac1 / 0_ac2",
          " 3_m / 1_ts / 1_lab / 0_pi / 0_ac1 / 0_ac2",
          " 3_m / 2_ts / 0_lab / 0_pi / 0_ac1 / 0_ac2",
          " 4_m / 0_ts / 0_lab / 0_pi / 0_ac1 / 0_ac2",
          " 4_m / 0_ts / 0_lab / 0_pi / 0_ac1 / 1_ac2",
          " 4_m / 0_ts / 0_lab / 0_pi / 1_ac1 / 0_ac2",
          " 4_m / 0_ts / 0_lab / 1_pi / 0_ac1 / 0_ac2",
          " 4_m / 0_ts / 1_lab / 0_pi / 0_ac1 / 0_ac2",
          " 4_m / 1_ts / 0_lab / 0_pi / 0_ac1 / 0_ac2",
          " 4_m / 1_ts / 1_lab / 0_pi / 0_ac1 / 0_ac2",
          " 5_m / 0_ts / 0_lab / 0_pi / 0_ac1 / 0_ac2",
          " 5_m / 0_ts / 0_lab / 0_pi / 1_ac1 / 0_ac2",
          " 5_m / 0_ts / 1_lab / 0_pi / 0_ac1 / 0_ac2",
          " 5_m / 1_ts / 0_lab / 0_pi / 0_ac1 / 0_ac2",
          " 6_m / 0_ts / 1_lab / 0_pi / 0_ac1 / 0_ac2",
          " 7_m / 0_ts / 0_lab / 0_pi / 0_ac1 / 0_ac2",
          " 7_m / 0_ts / 1_lab / 0_pi / 0_ac1 / 0_ac2",
          "PI",
          "ac1",
          "ac2",
          "lab",
          "m",
          "ts",
          "R1 Structures: Frequency and Overall Score for taklons"
         ],
         "marker": {
          "coloraxis": "coloraxis",
          "colors": [
           133.6,
           163,
           116.33333333333333,
           114,
           144.25,
           175,
           153.65420560747663,
           126.66666666666667,
           134,
           159.61764705882354,
           129,
           163.41176470588235,
           123.35483870967742,
           211,
           162,
           144.33333333333334,
           157.2258064516129,
           132.87037037037038,
           145,
           161.62295081967213,
           197,
           170.44444444444446,
           152,
           150.3815028901734,
           156.57142857142858,
           161.2,
           164.41071428571428,
           108.6,
           134.42307692307693,
           181,
           155.1304347826087,
           115,
           108.5,
           164.5,
           160.38235294117646,
           129.5,
           144.2923076923077,
           117,
           162.53333333333333,
           125,
           180.8,
           159.9777777777778,
           165,
           174.1764705882353,
           161,
           173.5,
           129,
           158.3219696969697,
           158.27272727272728,
           149.05107526881721,
           125.6,
           132.33333333333334,
           153.14570361145704
          ]
         },
         "name": "",
         "parents": [
          "R1 Structures: Frequency and Overall Score for taklons/PI",
          "R1 Structures: Frequency and Overall Score for taklons/lab",
          "R1 Structures: Frequency and Overall Score for taklons/ac1",
          "R1 Structures: Frequency and Overall Score for taklons/lab",
          "R1 Structures: Frequency and Overall Score for taklons/lab",
          "R1 Structures: Frequency and Overall Score for taklons/ac2",
          "R1 Structures: Frequency and Overall Score for taklons/ac1",
          "R1 Structures: Frequency and Overall Score for taklons/lab",
          "R1 Structures: Frequency and Overall Score for taklons/PI",
          "R1 Structures: Frequency and Overall Score for taklons/lab",
          "R1 Structures: Frequency and Overall Score for taklons/ac2",
          "R1 Structures: Frequency and Overall Score for taklons/ac1",
          "R1 Structures: Frequency and Overall Score for taklons/lab",
          "R1 Structures: Frequency and Overall Score for taklons/lab",
          "R1 Structures: Frequency and Overall Score for taklons/lab",
          "R1 Structures: Frequency and Overall Score for taklons/ac2",
          "R1 Structures: Frequency and Overall Score for taklons/ac1",
          "R1 Structures: Frequency and Overall Score for taklons/lab",
          "R1 Structures: Frequency and Overall Score for taklons/PI",
          "R1 Structures: Frequency and Overall Score for taklons/lab",
          "R1 Structures: Frequency and Overall Score for taklons/ac2",
          "R1 Structures: Frequency and Overall Score for taklons/ac1",
          "R1 Structures: Frequency and Overall Score for taklons/PI",
          "R1 Structures: Frequency and Overall Score for taklons/lab",
          "R1 Structures: Frequency and Overall Score for taklons/lab",
          "R1 Structures: Frequency and Overall Score for taklons/ac2",
          "R1 Structures: Frequency and Overall Score for taklons/ac1",
          "R1 Structures: Frequency and Overall Score for taklons/PI",
          "R1 Structures: Frequency and Overall Score for taklons/lab",
          "R1 Structures: Frequency and Overall Score for taklons/lab",
          "R1 Structures: Frequency and Overall Score for taklons/lab",
          "R1 Structures: Frequency and Overall Score for taklons/ts",
          "R1 Structures: Frequency and Overall Score for taklons/m",
          "R1 Structures: Frequency and Overall Score for taklons/ac2",
          "R1 Structures: Frequency and Overall Score for taklons/ac1",
          "R1 Structures: Frequency and Overall Score for taklons/PI",
          "R1 Structures: Frequency and Overall Score for taklons/lab",
          "R1 Structures: Frequency and Overall Score for taklons/ts",
          "R1 Structures: Frequency and Overall Score for taklons/lab",
          "R1 Structures: Frequency and Overall Score for taklons/m",
          "R1 Structures: Frequency and Overall Score for taklons/ac1",
          "R1 Structures: Frequency and Overall Score for taklons/lab",
          "R1 Structures: Frequency and Overall Score for taklons/ts",
          "R1 Structures: Frequency and Overall Score for taklons/lab",
          "R1 Structures: Frequency and Overall Score for taklons/m",
          "R1 Structures: Frequency and Overall Score for taklons/lab",
          "R1 Structures: Frequency and Overall Score for taklons",
          "R1 Structures: Frequency and Overall Score for taklons",
          "R1 Structures: Frequency and Overall Score for taklons",
          "R1 Structures: Frequency and Overall Score for taklons",
          "R1 Structures: Frequency and Overall Score for taklons",
          "R1 Structures: Frequency and Overall Score for taklons",
          ""
         ],
         "type": "treemap",
         "values": [
          5,
          1,
          3,
          4,
          4,
          3,
          107,
          3,
          5,
          34,
          1,
          17,
          31,
          2,
          9,
          9,
          496,
          54,
          6,
          61,
          2,
          18,
          7,
          173,
          7,
          5,
          112,
          15,
          78,
          6,
          23,
          1,
          2,
          2,
          34,
          2,
          130,
          1,
          15,
          2,
          5,
          90,
          1,
          17,
          1,
          2,
          40,
          792,
          22,
          744,
          5,
          3,
          1606
         ]
        }
       ],
       "layout": {
        "coloraxis": {
         "cmid": 144.30885882929329,
         "colorbar": {
          "title": {
           "text": "ave_score_taklons"
          }
         },
         "colorscale": [
          [
           0,
           "rgb(103,0,31)"
          ],
          [
           0.1,
           "rgb(178,24,43)"
          ],
          [
           0.2,
           "rgb(214,96,77)"
          ],
          [
           0.3,
           "rgb(244,165,130)"
          ],
          [
           0.4,
           "rgb(253,219,199)"
          ],
          [
           0.5,
           "rgb(247,247,247)"
          ],
          [
           0.6,
           "rgb(209,229,240)"
          ],
          [
           0.7,
           "rgb(146,197,222)"
          ],
          [
           0.8,
           "rgb(67,147,195)"
          ],
          [
           0.9,
           "rgb(33,102,172)"
          ],
          [
           1,
           "rgb(5,48,97)"
          ]
         ]
        },
        "legend": {
         "tracegroupgap": 0
        },
        "margin": {
         "b": 25,
         "l": 25,
         "r": 25,
         "t": 50
        },
        "template": {
         "data": {
          "bar": [
           {
            "error_x": {
             "color": "#2a3f5f"
            },
            "error_y": {
             "color": "#2a3f5f"
            },
            "marker": {
             "line": {
              "color": "#E5ECF6",
              "width": 0.5
             },
             "pattern": {
              "fillmode": "overlay",
              "size": 10,
              "solidity": 0.2
             }
            },
            "type": "bar"
           }
          ],
          "barpolar": [
           {
            "marker": {
             "line": {
              "color": "#E5ECF6",
              "width": 0.5
             },
             "pattern": {
              "fillmode": "overlay",
              "size": 10,
              "solidity": 0.2
             }
            },
            "type": "barpolar"
           }
          ],
          "carpet": [
           {
            "aaxis": {
             "endlinecolor": "#2a3f5f",
             "gridcolor": "white",
             "linecolor": "white",
             "minorgridcolor": "white",
             "startlinecolor": "#2a3f5f"
            },
            "baxis": {
             "endlinecolor": "#2a3f5f",
             "gridcolor": "white",
             "linecolor": "white",
             "minorgridcolor": "white",
             "startlinecolor": "#2a3f5f"
            },
            "type": "carpet"
           }
          ],
          "choropleth": [
           {
            "colorbar": {
             "outlinewidth": 0,
             "ticks": ""
            },
            "type": "choropleth"
           }
          ],
          "contour": [
           {
            "colorbar": {
             "outlinewidth": 0,
             "ticks": ""
            },
            "colorscale": [
             [
              0,
              "#0d0887"
             ],
             [
              0.1111111111111111,
              "#46039f"
             ],
             [
              0.2222222222222222,
              "#7201a8"
             ],
             [
              0.3333333333333333,
              "#9c179e"
             ],
             [
              0.4444444444444444,
              "#bd3786"
             ],
             [
              0.5555555555555556,
              "#d8576b"
             ],
             [
              0.6666666666666666,
              "#ed7953"
             ],
             [
              0.7777777777777778,
              "#fb9f3a"
             ],
             [
              0.8888888888888888,
              "#fdca26"
             ],
             [
              1,
              "#f0f921"
             ]
            ],
            "type": "contour"
           }
          ],
          "contourcarpet": [
           {
            "colorbar": {
             "outlinewidth": 0,
             "ticks": ""
            },
            "type": "contourcarpet"
           }
          ],
          "heatmap": [
           {
            "colorbar": {
             "outlinewidth": 0,
             "ticks": ""
            },
            "colorscale": [
             [
              0,
              "#0d0887"
             ],
             [
              0.1111111111111111,
              "#46039f"
             ],
             [
              0.2222222222222222,
              "#7201a8"
             ],
             [
              0.3333333333333333,
              "#9c179e"
             ],
             [
              0.4444444444444444,
              "#bd3786"
             ],
             [
              0.5555555555555556,
              "#d8576b"
             ],
             [
              0.6666666666666666,
              "#ed7953"
             ],
             [
              0.7777777777777778,
              "#fb9f3a"
             ],
             [
              0.8888888888888888,
              "#fdca26"
             ],
             [
              1,
              "#f0f921"
             ]
            ],
            "type": "heatmap"
           }
          ],
          "heatmapgl": [
           {
            "colorbar": {
             "outlinewidth": 0,
             "ticks": ""
            },
            "colorscale": [
             [
              0,
              "#0d0887"
             ],
             [
              0.1111111111111111,
              "#46039f"
             ],
             [
              0.2222222222222222,
              "#7201a8"
             ],
             [
              0.3333333333333333,
              "#9c179e"
             ],
             [
              0.4444444444444444,
              "#bd3786"
             ],
             [
              0.5555555555555556,
              "#d8576b"
             ],
             [
              0.6666666666666666,
              "#ed7953"
             ],
             [
              0.7777777777777778,
              "#fb9f3a"
             ],
             [
              0.8888888888888888,
              "#fdca26"
             ],
             [
              1,
              "#f0f921"
             ]
            ],
            "type": "heatmapgl"
           }
          ],
          "histogram": [
           {
            "marker": {
             "pattern": {
              "fillmode": "overlay",
              "size": 10,
              "solidity": 0.2
             }
            },
            "type": "histogram"
           }
          ],
          "histogram2d": [
           {
            "colorbar": {
             "outlinewidth": 0,
             "ticks": ""
            },
            "colorscale": [
             [
              0,
              "#0d0887"
             ],
             [
              0.1111111111111111,
              "#46039f"
             ],
             [
              0.2222222222222222,
              "#7201a8"
             ],
             [
              0.3333333333333333,
              "#9c179e"
             ],
             [
              0.4444444444444444,
              "#bd3786"
             ],
             [
              0.5555555555555556,
              "#d8576b"
             ],
             [
              0.6666666666666666,
              "#ed7953"
             ],
             [
              0.7777777777777778,
              "#fb9f3a"
             ],
             [
              0.8888888888888888,
              "#fdca26"
             ],
             [
              1,
              "#f0f921"
             ]
            ],
            "type": "histogram2d"
           }
          ],
          "histogram2dcontour": [
           {
            "colorbar": {
             "outlinewidth": 0,
             "ticks": ""
            },
            "colorscale": [
             [
              0,
              "#0d0887"
             ],
             [
              0.1111111111111111,
              "#46039f"
             ],
             [
              0.2222222222222222,
              "#7201a8"
             ],
             [
              0.3333333333333333,
              "#9c179e"
             ],
             [
              0.4444444444444444,
              "#bd3786"
             ],
             [
              0.5555555555555556,
              "#d8576b"
             ],
             [
              0.6666666666666666,
              "#ed7953"
             ],
             [
              0.7777777777777778,
              "#fb9f3a"
             ],
             [
              0.8888888888888888,
              "#fdca26"
             ],
             [
              1,
              "#f0f921"
             ]
            ],
            "type": "histogram2dcontour"
           }
          ],
          "mesh3d": [
           {
            "colorbar": {
             "outlinewidth": 0,
             "ticks": ""
            },
            "type": "mesh3d"
           }
          ],
          "parcoords": [
           {
            "line": {
             "colorbar": {
              "outlinewidth": 0,
              "ticks": ""
             }
            },
            "type": "parcoords"
           }
          ],
          "pie": [
           {
            "automargin": true,
            "type": "pie"
           }
          ],
          "scatter": [
           {
            "marker": {
             "colorbar": {
              "outlinewidth": 0,
              "ticks": ""
             }
            },
            "type": "scatter"
           }
          ],
          "scatter3d": [
           {
            "line": {
             "colorbar": {
              "outlinewidth": 0,
              "ticks": ""
             }
            },
            "marker": {
             "colorbar": {
              "outlinewidth": 0,
              "ticks": ""
             }
            },
            "type": "scatter3d"
           }
          ],
          "scattercarpet": [
           {
            "marker": {
             "colorbar": {
              "outlinewidth": 0,
              "ticks": ""
             }
            },
            "type": "scattercarpet"
           }
          ],
          "scattergeo": [
           {
            "marker": {
             "colorbar": {
              "outlinewidth": 0,
              "ticks": ""
             }
            },
            "type": "scattergeo"
           }
          ],
          "scattergl": [
           {
            "marker": {
             "colorbar": {
              "outlinewidth": 0,
              "ticks": ""
             }
            },
            "type": "scattergl"
           }
          ],
          "scattermapbox": [
           {
            "marker": {
             "colorbar": {
              "outlinewidth": 0,
              "ticks": ""
             }
            },
            "type": "scattermapbox"
           }
          ],
          "scatterpolar": [
           {
            "marker": {
             "colorbar": {
              "outlinewidth": 0,
              "ticks": ""
             }
            },
            "type": "scatterpolar"
           }
          ],
          "scatterpolargl": [
           {
            "marker": {
             "colorbar": {
              "outlinewidth": 0,
              "ticks": ""
             }
            },
            "type": "scatterpolargl"
           }
          ],
          "scatterternary": [
           {
            "marker": {
             "colorbar": {
              "outlinewidth": 0,
              "ticks": ""
             }
            },
            "type": "scatterternary"
           }
          ],
          "surface": [
           {
            "colorbar": {
             "outlinewidth": 0,
             "ticks": ""
            },
            "colorscale": [
             [
              0,
              "#0d0887"
             ],
             [
              0.1111111111111111,
              "#46039f"
             ],
             [
              0.2222222222222222,
              "#7201a8"
             ],
             [
              0.3333333333333333,
              "#9c179e"
             ],
             [
              0.4444444444444444,
              "#bd3786"
             ],
             [
              0.5555555555555556,
              "#d8576b"
             ],
             [
              0.6666666666666666,
              "#ed7953"
             ],
             [
              0.7777777777777778,
              "#fb9f3a"
             ],
             [
              0.8888888888888888,
              "#fdca26"
             ],
             [
              1,
              "#f0f921"
             ]
            ],
            "type": "surface"
           }
          ],
          "table": [
           {
            "cells": {
             "fill": {
              "color": "#EBF0F8"
             },
             "line": {
              "color": "white"
             }
            },
            "header": {
             "fill": {
              "color": "#C8D4E3"
             },
             "line": {
              "color": "white"
             }
            },
            "type": "table"
           }
          ]
         },
         "layout": {
          "annotationdefaults": {
           "arrowcolor": "#2a3f5f",
           "arrowhead": 0,
           "arrowwidth": 1
          },
          "autotypenumbers": "strict",
          "coloraxis": {
           "colorbar": {
            "outlinewidth": 0,
            "ticks": ""
           }
          },
          "colorscale": {
           "diverging": [
            [
             0,
             "#8e0152"
            ],
            [
             0.1,
             "#c51b7d"
            ],
            [
             0.2,
             "#de77ae"
            ],
            [
             0.3,
             "#f1b6da"
            ],
            [
             0.4,
             "#fde0ef"
            ],
            [
             0.5,
             "#f7f7f7"
            ],
            [
             0.6,
             "#e6f5d0"
            ],
            [
             0.7,
             "#b8e186"
            ],
            [
             0.8,
             "#7fbc41"
            ],
            [
             0.9,
             "#4d9221"
            ],
            [
             1,
             "#276419"
            ]
           ],
           "sequential": [
            [
             0,
             "#0d0887"
            ],
            [
             0.1111111111111111,
             "#46039f"
            ],
            [
             0.2222222222222222,
             "#7201a8"
            ],
            [
             0.3333333333333333,
             "#9c179e"
            ],
            [
             0.4444444444444444,
             "#bd3786"
            ],
            [
             0.5555555555555556,
             "#d8576b"
            ],
            [
             0.6666666666666666,
             "#ed7953"
            ],
            [
             0.7777777777777778,
             "#fb9f3a"
            ],
            [
             0.8888888888888888,
             "#fdca26"
            ],
            [
             1,
             "#f0f921"
            ]
           ],
           "sequentialminus": [
            [
             0,
             "#0d0887"
            ],
            [
             0.1111111111111111,
             "#46039f"
            ],
            [
             0.2222222222222222,
             "#7201a8"
            ],
            [
             0.3333333333333333,
             "#9c179e"
            ],
            [
             0.4444444444444444,
             "#bd3786"
            ],
            [
             0.5555555555555556,
             "#d8576b"
            ],
            [
             0.6666666666666666,
             "#ed7953"
            ],
            [
             0.7777777777777778,
             "#fb9f3a"
            ],
            [
             0.8888888888888888,
             "#fdca26"
            ],
            [
             1,
             "#f0f921"
            ]
           ]
          },
          "colorway": [
           "#636efa",
           "#EF553B",
           "#00cc96",
           "#ab63fa",
           "#FFA15A",
           "#19d3f3",
           "#FF6692",
           "#B6E880",
           "#FF97FF",
           "#FECB52"
          ],
          "font": {
           "color": "#2a3f5f"
          },
          "geo": {
           "bgcolor": "white",
           "lakecolor": "white",
           "landcolor": "#E5ECF6",
           "showlakes": true,
           "showland": true,
           "subunitcolor": "white"
          },
          "hoverlabel": {
           "align": "left"
          },
          "hovermode": "closest",
          "mapbox": {
           "style": "light"
          },
          "paper_bgcolor": "white",
          "plot_bgcolor": "#E5ECF6",
          "polar": {
           "angularaxis": {
            "gridcolor": "white",
            "linecolor": "white",
            "ticks": ""
           },
           "bgcolor": "#E5ECF6",
           "radialaxis": {
            "gridcolor": "white",
            "linecolor": "white",
            "ticks": ""
           }
          },
          "scene": {
           "xaxis": {
            "backgroundcolor": "#E5ECF6",
            "gridcolor": "white",
            "gridwidth": 2,
            "linecolor": "white",
            "showbackground": true,
            "ticks": "",
            "zerolinecolor": "white"
           },
           "yaxis": {
            "backgroundcolor": "#E5ECF6",
            "gridcolor": "white",
            "gridwidth": 2,
            "linecolor": "white",
            "showbackground": true,
            "ticks": "",
            "zerolinecolor": "white"
           },
           "zaxis": {
            "backgroundcolor": "#E5ECF6",
            "gridcolor": "white",
            "gridwidth": 2,
            "linecolor": "white",
            "showbackground": true,
            "ticks": "",
            "zerolinecolor": "white"
           }
          },
          "shapedefaults": {
           "line": {
            "color": "#2a3f5f"
           }
          },
          "ternary": {
           "aaxis": {
            "gridcolor": "white",
            "linecolor": "white",
            "ticks": ""
           },
           "baxis": {
            "gridcolor": "white",
            "linecolor": "white",
            "ticks": ""
           },
           "bgcolor": "#E5ECF6",
           "caxis": {
            "gridcolor": "white",
            "linecolor": "white",
            "ticks": ""
           }
          },
          "title": {
           "x": 0.05
          },
          "xaxis": {
           "automargin": true,
           "gridcolor": "white",
           "linecolor": "white",
           "ticks": "",
           "title": {
            "standoff": 15
           },
           "zerolinecolor": "white",
           "zerolinewidth": 2
          },
          "yaxis": {
           "automargin": true,
           "gridcolor": "white",
           "linecolor": "white",
           "ticks": "",
           "title": {
            "standoff": 15
           },
           "zerolinecolor": "white",
           "zerolinewidth": 2
          }
         }
        }
       }
      },
      "text/html": [
       "<div>                            <div id=\"50d947ee-204e-4669-8ab1-5979cf493d7f\" class=\"plotly-graph-div\" style=\"height:525px; width:100%;\"></div>            <script type=\"text/javascript\">                require([\"plotly\"], function(Plotly) {                    window.PLOTLYENV=window.PLOTLYENV || {};                                    if (document.getElementById(\"50d947ee-204e-4669-8ab1-5979cf493d7f\")) {                    Plotly.newPlot(                        \"50d947ee-204e-4669-8ab1-5979cf493d7f\",                        [{\"branchvalues\":\"total\",\"customdata\":[[226.8,133.6],[242.0,163.0],[113.0,116.33333333333333],[85.5,114.0],[208.5,144.25],[150.33333333333334,175.0],[221.2803738317757,153.65420560747663],[135.33333333333334,126.66666666666667],[153.4,134.0],[304.55882352941177,159.61764705882354],[100.0,129.0],[257.4117647058824,163.41176470588235],[199.83870967741936,123.35483870967742],[324.0,211.0],[170.55555555555554,162.0],[263.3333333333333,144.33333333333334],[253.44758064516128,157.2258064516129],[170.83333333333334,132.87037037037038],[125.66666666666667,145.0],[301.2295081967213,161.62295081967213],[245.0,197.0],[294.3333333333333,170.44444444444446],[112.0,152.0],[206.91907514450867,150.3815028901734],[252.0,156.57142857142858],[141.6,161.2],[260.42857142857144,164.41071428571428],[85.66666666666667,108.6],[167.56410256410257,134.42307692307693],[257.8333333333333,181.0],[203.91304347826087,155.1304347826087],[164.0,115.0],[104.5,108.5],[169.5,164.5],[244.52941176470588,160.38235294117646],[158.0,129.5],[213.3846153846154,144.2923076923077],[101.0,117.0],[272.53333333333336,162.53333333333333],[61.5,125.0],[314.0,180.8],[233.75555555555556,159.9777777777778],[161.0,165.0],[255.0,174.1764705882353],[1.0,161.0],[317.5,173.5],[\"(?)\",129.0],[\"(?)\",158.3219696969697],[\"(?)\",158.27272727272728],[\"(?)\",149.05107526881721],[\"(?)\",125.6],[\"(?)\",132.33333333333334],[\"(?)\",153.14570361145704]],\"domain\":{\"x\":[0.0,1.0],\"y\":[0.0,1.0]},\"hovertemplate\":\"labels=%{label}<br>class_counts=%{value}<br>parent=%{parent}<br>id=%{id}<br>ave_elo_taklons=%{customdata[0]}<br>ave_score_taklons=%{color}<extra></extra>\",\"ids\":[\"R1 Structures: Frequency and Overall Score for taklons/PI/ 0_m / 0_ts / 1_lab / 1_pi / 0_ac1 / 0_ac2\",\"R1 Structures: Frequency and Overall Score for taklons/lab/ 0_m / 0_ts / 2_lab / 0_pi / 0_ac1 / 0_ac2\",\"R1 Structures: Frequency and Overall Score for taklons/ac1/ 0_m / 1_ts / 0_lab / 0_pi / 1_ac1 / 0_ac2\",\"R1 Structures: Frequency and Overall Score for taklons/lab/ 0_m / 1_ts / 1_lab / 0_pi / 0_ac1 / 0_ac2\",\"R1 Structures: Frequency and Overall Score for taklons/lab/ 0_m / 2_ts / 1_lab / 0_pi / 0_ac1 / 0_ac2\",\"R1 Structures: Frequency and Overall Score for taklons/ac2/ 1_m / 0_ts / 0_lab / 0_pi / 0_ac1 / 1_ac2\",\"R1 Structures: Frequency and Overall Score for taklons/ac1/ 1_m / 0_ts / 0_lab / 0_pi / 1_ac1 / 0_ac2\",\"R1 Structures: Frequency and Overall Score for taklons/lab/ 1_m / 0_ts / 1_lab / 0_pi / 0_ac1 / 0_ac2\",\"R1 Structures: Frequency and Overall Score for taklons/PI/ 1_m / 0_ts / 1_lab / 1_pi / 0_ac1 / 0_ac2\",\"R1 Structures: Frequency and Overall Score for taklons/lab/ 1_m / 0_ts / 2_lab / 0_pi / 0_ac1 / 0_ac2\",\"R1 Structures: Frequency and Overall Score for taklons/ac2/ 1_m / 1_ts / 0_lab / 0_pi / 0_ac1 / 1_ac2\",\"R1 Structures: Frequency and Overall Score for taklons/ac1/ 1_m / 1_ts / 0_lab / 0_pi / 1_ac1 / 0_ac2\",\"R1 Structures: Frequency and Overall Score for taklons/lab/ 1_m / 1_ts / 1_lab / 0_pi / 0_ac1 / 0_ac2\",\"R1 Structures: Frequency and Overall Score for taklons/lab/ 1_m / 1_ts / 2_lab / 0_pi / 0_ac1 / 0_ac2\",\"R1 Structures: Frequency and Overall Score for taklons/lab/ 1_m / 2_ts / 1_lab / 0_pi / 0_ac1 / 0_ac2\",\"R1 Structures: Frequency and Overall Score for taklons/ac2/ 2_m / 0_ts / 0_lab / 0_pi / 0_ac1 / 1_ac2\",\"R1 Structures: Frequency and Overall Score for taklons/ac1/ 2_m / 0_ts / 0_lab / 0_pi / 1_ac1 / 0_ac2\",\"R1 Structures: Frequency and Overall Score for taklons/lab/ 2_m / 0_ts / 1_lab / 0_pi / 0_ac1 / 0_ac2\",\"R1 Structures: Frequency and Overall Score for taklons/PI/ 2_m / 0_ts / 1_lab / 1_pi / 0_ac1 / 0_ac2\",\"R1 Structures: Frequency and Overall Score for taklons/lab/ 2_m / 0_ts / 2_lab / 0_pi / 0_ac1 / 0_ac2\",\"R1 Structures: Frequency and Overall Score for taklons/ac2/ 2_m / 1_ts / 0_lab / 0_pi / 0_ac1 / 1_ac2\",\"R1 Structures: Frequency and Overall Score for taklons/ac1/ 2_m / 1_ts / 0_lab / 0_pi / 1_ac1 / 0_ac2\",\"R1 Structures: Frequency and Overall Score for taklons/PI/ 2_m / 1_ts / 0_lab / 1_pi / 0_ac1 / 0_ac2\",\"R1 Structures: Frequency and Overall Score for taklons/lab/ 2_m / 1_ts / 1_lab / 0_pi / 0_ac1 / 0_ac2\",\"R1 Structures: Frequency and Overall Score for taklons/lab/ 2_m / 2_ts / 1_lab / 0_pi / 0_ac1 / 0_ac2\",\"R1 Structures: Frequency and Overall Score for taklons/ac2/ 3_m / 0_ts / 0_lab / 0_pi / 0_ac1 / 1_ac2\",\"R1 Structures: Frequency and Overall Score for taklons/ac1/ 3_m / 0_ts / 0_lab / 0_pi / 1_ac1 / 0_ac2\",\"R1 Structures: Frequency and Overall Score for taklons/PI/ 3_m / 0_ts / 0_lab / 1_pi / 0_ac1 / 0_ac2\",\"R1 Structures: Frequency and Overall Score for taklons/lab/ 3_m / 0_ts / 1_lab / 0_pi / 0_ac1 / 0_ac2\",\"R1 Structures: Frequency and Overall Score for taklons/lab/ 3_m / 0_ts / 2_lab / 0_pi / 0_ac1 / 0_ac2\",\"R1 Structures: Frequency and Overall Score for taklons/lab/ 3_m / 1_ts / 1_lab / 0_pi / 0_ac1 / 0_ac2\",\"R1 Structures: Frequency and Overall Score for taklons/ts/ 3_m / 2_ts / 0_lab / 0_pi / 0_ac1 / 0_ac2\",\"R1 Structures: Frequency and Overall Score for taklons/m/ 4_m / 0_ts / 0_lab / 0_pi / 0_ac1 / 0_ac2\",\"R1 Structures: Frequency and Overall Score for taklons/ac2/ 4_m / 0_ts / 0_lab / 0_pi / 0_ac1 / 1_ac2\",\"R1 Structures: Frequency and Overall Score for taklons/ac1/ 4_m / 0_ts / 0_lab / 0_pi / 1_ac1 / 0_ac2\",\"R1 Structures: Frequency and Overall Score for taklons/PI/ 4_m / 0_ts / 0_lab / 1_pi / 0_ac1 / 0_ac2\",\"R1 Structures: Frequency and Overall Score for taklons/lab/ 4_m / 0_ts / 1_lab / 0_pi / 0_ac1 / 0_ac2\",\"R1 Structures: Frequency and Overall Score for taklons/ts/ 4_m / 1_ts / 0_lab / 0_pi / 0_ac1 / 0_ac2\",\"R1 Structures: Frequency and Overall Score for taklons/lab/ 4_m / 1_ts / 1_lab / 0_pi / 0_ac1 / 0_ac2\",\"R1 Structures: Frequency and Overall Score for taklons/m/ 5_m / 0_ts / 0_lab / 0_pi / 0_ac1 / 0_ac2\",\"R1 Structures: Frequency and Overall Score for taklons/ac1/ 5_m / 0_ts / 0_lab / 0_pi / 1_ac1 / 0_ac2\",\"R1 Structures: Frequency and Overall Score for taklons/lab/ 5_m / 0_ts / 1_lab / 0_pi / 0_ac1 / 0_ac2\",\"R1 Structures: Frequency and Overall Score for taklons/ts/ 5_m / 1_ts / 0_lab / 0_pi / 0_ac1 / 0_ac2\",\"R1 Structures: Frequency and Overall Score for taklons/lab/ 6_m / 0_ts / 1_lab / 0_pi / 0_ac1 / 0_ac2\",\"R1 Structures: Frequency and Overall Score for taklons/m/ 7_m / 0_ts / 0_lab / 0_pi / 0_ac1 / 0_ac2\",\"R1 Structures: Frequency and Overall Score for taklons/lab/ 7_m / 0_ts / 1_lab / 0_pi / 0_ac1 / 0_ac2\",\"R1 Structures: Frequency and Overall Score for taklons/PI\",\"R1 Structures: Frequency and Overall Score for taklons/ac1\",\"R1 Structures: Frequency and Overall Score for taklons/ac2\",\"R1 Structures: Frequency and Overall Score for taklons/lab\",\"R1 Structures: Frequency and Overall Score for taklons/m\",\"R1 Structures: Frequency and Overall Score for taklons/ts\",\"R1 Structures: Frequency and Overall Score for taklons\"],\"labels\":[\" 0_m / 0_ts / 1_lab / 1_pi / 0_ac1 / 0_ac2\",\" 0_m / 0_ts / 2_lab / 0_pi / 0_ac1 / 0_ac2\",\" 0_m / 1_ts / 0_lab / 0_pi / 1_ac1 / 0_ac2\",\" 0_m / 1_ts / 1_lab / 0_pi / 0_ac1 / 0_ac2\",\" 0_m / 2_ts / 1_lab / 0_pi / 0_ac1 / 0_ac2\",\" 1_m / 0_ts / 0_lab / 0_pi / 0_ac1 / 1_ac2\",\" 1_m / 0_ts / 0_lab / 0_pi / 1_ac1 / 0_ac2\",\" 1_m / 0_ts / 1_lab / 0_pi / 0_ac1 / 0_ac2\",\" 1_m / 0_ts / 1_lab / 1_pi / 0_ac1 / 0_ac2\",\" 1_m / 0_ts / 2_lab / 0_pi / 0_ac1 / 0_ac2\",\" 1_m / 1_ts / 0_lab / 0_pi / 0_ac1 / 1_ac2\",\" 1_m / 1_ts / 0_lab / 0_pi / 1_ac1 / 0_ac2\",\" 1_m / 1_ts / 1_lab / 0_pi / 0_ac1 / 0_ac2\",\" 1_m / 1_ts / 2_lab / 0_pi / 0_ac1 / 0_ac2\",\" 1_m / 2_ts / 1_lab / 0_pi / 0_ac1 / 0_ac2\",\" 2_m / 0_ts / 0_lab / 0_pi / 0_ac1 / 1_ac2\",\" 2_m / 0_ts / 0_lab / 0_pi / 1_ac1 / 0_ac2\",\" 2_m / 0_ts / 1_lab / 0_pi / 0_ac1 / 0_ac2\",\" 2_m / 0_ts / 1_lab / 1_pi / 0_ac1 / 0_ac2\",\" 2_m / 0_ts / 2_lab / 0_pi / 0_ac1 / 0_ac2\",\" 2_m / 1_ts / 0_lab / 0_pi / 0_ac1 / 1_ac2\",\" 2_m / 1_ts / 0_lab / 0_pi / 1_ac1 / 0_ac2\",\" 2_m / 1_ts / 0_lab / 1_pi / 0_ac1 / 0_ac2\",\" 2_m / 1_ts / 1_lab / 0_pi / 0_ac1 / 0_ac2\",\" 2_m / 2_ts / 1_lab / 0_pi / 0_ac1 / 0_ac2\",\" 3_m / 0_ts / 0_lab / 0_pi / 0_ac1 / 1_ac2\",\" 3_m / 0_ts / 0_lab / 0_pi / 1_ac1 / 0_ac2\",\" 3_m / 0_ts / 0_lab / 1_pi / 0_ac1 / 0_ac2\",\" 3_m / 0_ts / 1_lab / 0_pi / 0_ac1 / 0_ac2\",\" 3_m / 0_ts / 2_lab / 0_pi / 0_ac1 / 0_ac2\",\" 3_m / 1_ts / 1_lab / 0_pi / 0_ac1 / 0_ac2\",\" 3_m / 2_ts / 0_lab / 0_pi / 0_ac1 / 0_ac2\",\" 4_m / 0_ts / 0_lab / 0_pi / 0_ac1 / 0_ac2\",\" 4_m / 0_ts / 0_lab / 0_pi / 0_ac1 / 1_ac2\",\" 4_m / 0_ts / 0_lab / 0_pi / 1_ac1 / 0_ac2\",\" 4_m / 0_ts / 0_lab / 1_pi / 0_ac1 / 0_ac2\",\" 4_m / 0_ts / 1_lab / 0_pi / 0_ac1 / 0_ac2\",\" 4_m / 1_ts / 0_lab / 0_pi / 0_ac1 / 0_ac2\",\" 4_m / 1_ts / 1_lab / 0_pi / 0_ac1 / 0_ac2\",\" 5_m / 0_ts / 0_lab / 0_pi / 0_ac1 / 0_ac2\",\" 5_m / 0_ts / 0_lab / 0_pi / 1_ac1 / 0_ac2\",\" 5_m / 0_ts / 1_lab / 0_pi / 0_ac1 / 0_ac2\",\" 5_m / 1_ts / 0_lab / 0_pi / 0_ac1 / 0_ac2\",\" 6_m / 0_ts / 1_lab / 0_pi / 0_ac1 / 0_ac2\",\" 7_m / 0_ts / 0_lab / 0_pi / 0_ac1 / 0_ac2\",\" 7_m / 0_ts / 1_lab / 0_pi / 0_ac1 / 0_ac2\",\"PI\",\"ac1\",\"ac2\",\"lab\",\"m\",\"ts\",\"R1 Structures: Frequency and Overall Score for taklons\"],\"marker\":{\"coloraxis\":\"coloraxis\",\"colors\":[133.6,163.0,116.33333333333333,114.0,144.25,175.0,153.65420560747663,126.66666666666667,134.0,159.61764705882354,129.0,163.41176470588235,123.35483870967742,211.0,162.0,144.33333333333334,157.2258064516129,132.87037037037038,145.0,161.62295081967213,197.0,170.44444444444446,152.0,150.3815028901734,156.57142857142858,161.2,164.41071428571428,108.6,134.42307692307693,181.0,155.1304347826087,115.0,108.5,164.5,160.38235294117646,129.5,144.2923076923077,117.0,162.53333333333333,125.0,180.8,159.9777777777778,165.0,174.1764705882353,161.0,173.5,129.0,158.3219696969697,158.27272727272728,149.05107526881721,125.6,132.33333333333334,153.14570361145704]},\"name\":\"\",\"parents\":[\"R1 Structures: Frequency and Overall Score for taklons/PI\",\"R1 Structures: Frequency and Overall Score for taklons/lab\",\"R1 Structures: Frequency and Overall Score for taklons/ac1\",\"R1 Structures: Frequency and Overall Score for taklons/lab\",\"R1 Structures: Frequency and Overall Score for taklons/lab\",\"R1 Structures: Frequency and Overall Score for taklons/ac2\",\"R1 Structures: Frequency and Overall Score for taklons/ac1\",\"R1 Structures: Frequency and Overall Score for taklons/lab\",\"R1 Structures: Frequency and Overall Score for taklons/PI\",\"R1 Structures: Frequency and Overall Score for taklons/lab\",\"R1 Structures: Frequency and Overall Score for taklons/ac2\",\"R1 Structures: Frequency and Overall Score for taklons/ac1\",\"R1 Structures: Frequency and Overall Score for taklons/lab\",\"R1 Structures: Frequency and Overall Score for taklons/lab\",\"R1 Structures: Frequency and Overall Score for taklons/lab\",\"R1 Structures: Frequency and Overall Score for taklons/ac2\",\"R1 Structures: Frequency and Overall Score for taklons/ac1\",\"R1 Structures: Frequency and Overall Score for taklons/lab\",\"R1 Structures: Frequency and Overall Score for taklons/PI\",\"R1 Structures: Frequency and Overall Score for taklons/lab\",\"R1 Structures: Frequency and Overall Score for taklons/ac2\",\"R1 Structures: Frequency and Overall Score for taklons/ac1\",\"R1 Structures: Frequency and Overall Score for taklons/PI\",\"R1 Structures: Frequency and Overall Score for taklons/lab\",\"R1 Structures: Frequency and Overall Score for taklons/lab\",\"R1 Structures: Frequency and Overall Score for taklons/ac2\",\"R1 Structures: Frequency and Overall Score for taklons/ac1\",\"R1 Structures: Frequency and Overall Score for taklons/PI\",\"R1 Structures: Frequency and Overall Score for taklons/lab\",\"R1 Structures: Frequency and Overall Score for taklons/lab\",\"R1 Structures: Frequency and Overall Score for taklons/lab\",\"R1 Structures: Frequency and Overall Score for taklons/ts\",\"R1 Structures: Frequency and Overall Score for taklons/m\",\"R1 Structures: Frequency and Overall Score for taklons/ac2\",\"R1 Structures: Frequency and Overall Score for taklons/ac1\",\"R1 Structures: Frequency and Overall Score for taklons/PI\",\"R1 Structures: Frequency and Overall Score for taklons/lab\",\"R1 Structures: Frequency and Overall Score for taklons/ts\",\"R1 Structures: Frequency and Overall Score for taklons/lab\",\"R1 Structures: Frequency and Overall Score for taklons/m\",\"R1 Structures: Frequency and Overall Score for taklons/ac1\",\"R1 Structures: Frequency and Overall Score for taklons/lab\",\"R1 Structures: Frequency and Overall Score for taklons/ts\",\"R1 Structures: Frequency and Overall Score for taklons/lab\",\"R1 Structures: Frequency and Overall Score for taklons/m\",\"R1 Structures: Frequency and Overall Score for taklons/lab\",\"R1 Structures: Frequency and Overall Score for taklons\",\"R1 Structures: Frequency and Overall Score for taklons\",\"R1 Structures: Frequency and Overall Score for taklons\",\"R1 Structures: Frequency and Overall Score for taklons\",\"R1 Structures: Frequency and Overall Score for taklons\",\"R1 Structures: Frequency and Overall Score for taklons\",\"\"],\"values\":[5,1,3,4,4,3,107,3,5,34,1,17,31,2,9,9,496,54,6,61,2,18,7,173,7,5,112,15,78,6,23,1,2,2,34,2,130,1,15,2,5,90,1,17,1,2,40,792,22,744,5,3,1606],\"type\":\"treemap\"}],                        {\"template\":{\"data\":{\"bar\":[{\"error_x\":{\"color\":\"#2a3f5f\"},\"error_y\":{\"color\":\"#2a3f5f\"},\"marker\":{\"line\":{\"color\":\"#E5ECF6\",\"width\":0.5},\"pattern\":{\"fillmode\":\"overlay\",\"size\":10,\"solidity\":0.2}},\"type\":\"bar\"}],\"barpolar\":[{\"marker\":{\"line\":{\"color\":\"#E5ECF6\",\"width\":0.5},\"pattern\":{\"fillmode\":\"overlay\",\"size\":10,\"solidity\":0.2}},\"type\":\"barpolar\"}],\"carpet\":[{\"aaxis\":{\"endlinecolor\":\"#2a3f5f\",\"gridcolor\":\"white\",\"linecolor\":\"white\",\"minorgridcolor\":\"white\",\"startlinecolor\":\"#2a3f5f\"},\"baxis\":{\"endlinecolor\":\"#2a3f5f\",\"gridcolor\":\"white\",\"linecolor\":\"white\",\"minorgridcolor\":\"white\",\"startlinecolor\":\"#2a3f5f\"},\"type\":\"carpet\"}],\"choropleth\":[{\"colorbar\":{\"outlinewidth\":0,\"ticks\":\"\"},\"type\":\"choropleth\"}],\"contour\":[{\"colorbar\":{\"outlinewidth\":0,\"ticks\":\"\"},\"colorscale\":[[0.0,\"#0d0887\"],[0.1111111111111111,\"#46039f\"],[0.2222222222222222,\"#7201a8\"],[0.3333333333333333,\"#9c179e\"],[0.4444444444444444,\"#bd3786\"],[0.5555555555555556,\"#d8576b\"],[0.6666666666666666,\"#ed7953\"],[0.7777777777777778,\"#fb9f3a\"],[0.8888888888888888,\"#fdca26\"],[1.0,\"#f0f921\"]],\"type\":\"contour\"}],\"contourcarpet\":[{\"colorbar\":{\"outlinewidth\":0,\"ticks\":\"\"},\"type\":\"contourcarpet\"}],\"heatmap\":[{\"colorbar\":{\"outlinewidth\":0,\"ticks\":\"\"},\"colorscale\":[[0.0,\"#0d0887\"],[0.1111111111111111,\"#46039f\"],[0.2222222222222222,\"#7201a8\"],[0.3333333333333333,\"#9c179e\"],[0.4444444444444444,\"#bd3786\"],[0.5555555555555556,\"#d8576b\"],[0.6666666666666666,\"#ed7953\"],[0.7777777777777778,\"#fb9f3a\"],[0.8888888888888888,\"#fdca26\"],[1.0,\"#f0f921\"]],\"type\":\"heatmap\"}],\"heatmapgl\":[{\"colorbar\":{\"outlinewidth\":0,\"ticks\":\"\"},\"colorscale\":[[0.0,\"#0d0887\"],[0.1111111111111111,\"#46039f\"],[0.2222222222222222,\"#7201a8\"],[0.3333333333333333,\"#9c179e\"],[0.4444444444444444,\"#bd3786\"],[0.5555555555555556,\"#d8576b\"],[0.6666666666666666,\"#ed7953\"],[0.7777777777777778,\"#fb9f3a\"],[0.8888888888888888,\"#fdca26\"],[1.0,\"#f0f921\"]],\"type\":\"heatmapgl\"}],\"histogram\":[{\"marker\":{\"pattern\":{\"fillmode\":\"overlay\",\"size\":10,\"solidity\":0.2}},\"type\":\"histogram\"}],\"histogram2d\":[{\"colorbar\":{\"outlinewidth\":0,\"ticks\":\"\"},\"colorscale\":[[0.0,\"#0d0887\"],[0.1111111111111111,\"#46039f\"],[0.2222222222222222,\"#7201a8\"],[0.3333333333333333,\"#9c179e\"],[0.4444444444444444,\"#bd3786\"],[0.5555555555555556,\"#d8576b\"],[0.6666666666666666,\"#ed7953\"],[0.7777777777777778,\"#fb9f3a\"],[0.8888888888888888,\"#fdca26\"],[1.0,\"#f0f921\"]],\"type\":\"histogram2d\"}],\"histogram2dcontour\":[{\"colorbar\":{\"outlinewidth\":0,\"ticks\":\"\"},\"colorscale\":[[0.0,\"#0d0887\"],[0.1111111111111111,\"#46039f\"],[0.2222222222222222,\"#7201a8\"],[0.3333333333333333,\"#9c179e\"],[0.4444444444444444,\"#bd3786\"],[0.5555555555555556,\"#d8576b\"],[0.6666666666666666,\"#ed7953\"],[0.7777777777777778,\"#fb9f3a\"],[0.8888888888888888,\"#fdca26\"],[1.0,\"#f0f921\"]],\"type\":\"histogram2dcontour\"}],\"mesh3d\":[{\"colorbar\":{\"outlinewidth\":0,\"ticks\":\"\"},\"type\":\"mesh3d\"}],\"parcoords\":[{\"line\":{\"colorbar\":{\"outlinewidth\":0,\"ticks\":\"\"}},\"type\":\"parcoords\"}],\"pie\":[{\"automargin\":true,\"type\":\"pie\"}],\"scatter\":[{\"marker\":{\"colorbar\":{\"outlinewidth\":0,\"ticks\":\"\"}},\"type\":\"scatter\"}],\"scatter3d\":[{\"line\":{\"colorbar\":{\"outlinewidth\":0,\"ticks\":\"\"}},\"marker\":{\"colorbar\":{\"outlinewidth\":0,\"ticks\":\"\"}},\"type\":\"scatter3d\"}],\"scattercarpet\":[{\"marker\":{\"colorbar\":{\"outlinewidth\":0,\"ticks\":\"\"}},\"type\":\"scattercarpet\"}],\"scattergeo\":[{\"marker\":{\"colorbar\":{\"outlinewidth\":0,\"ticks\":\"\"}},\"type\":\"scattergeo\"}],\"scattergl\":[{\"marker\":{\"colorbar\":{\"outlinewidth\":0,\"ticks\":\"\"}},\"type\":\"scattergl\"}],\"scattermapbox\":[{\"marker\":{\"colorbar\":{\"outlinewidth\":0,\"ticks\":\"\"}},\"type\":\"scattermapbox\"}],\"scatterpolar\":[{\"marker\":{\"colorbar\":{\"outlinewidth\":0,\"ticks\":\"\"}},\"type\":\"scatterpolar\"}],\"scatterpolargl\":[{\"marker\":{\"colorbar\":{\"outlinewidth\":0,\"ticks\":\"\"}},\"type\":\"scatterpolargl\"}],\"scatterternary\":[{\"marker\":{\"colorbar\":{\"outlinewidth\":0,\"ticks\":\"\"}},\"type\":\"scatterternary\"}],\"surface\":[{\"colorbar\":{\"outlinewidth\":0,\"ticks\":\"\"},\"colorscale\":[[0.0,\"#0d0887\"],[0.1111111111111111,\"#46039f\"],[0.2222222222222222,\"#7201a8\"],[0.3333333333333333,\"#9c179e\"],[0.4444444444444444,\"#bd3786\"],[0.5555555555555556,\"#d8576b\"],[0.6666666666666666,\"#ed7953\"],[0.7777777777777778,\"#fb9f3a\"],[0.8888888888888888,\"#fdca26\"],[1.0,\"#f0f921\"]],\"type\":\"surface\"}],\"table\":[{\"cells\":{\"fill\":{\"color\":\"#EBF0F8\"},\"line\":{\"color\":\"white\"}},\"header\":{\"fill\":{\"color\":\"#C8D4E3\"},\"line\":{\"color\":\"white\"}},\"type\":\"table\"}]},\"layout\":{\"annotationdefaults\":{\"arrowcolor\":\"#2a3f5f\",\"arrowhead\":0,\"arrowwidth\":1},\"autotypenumbers\":\"strict\",\"coloraxis\":{\"colorbar\":{\"outlinewidth\":0,\"ticks\":\"\"}},\"colorscale\":{\"diverging\":[[0,\"#8e0152\"],[0.1,\"#c51b7d\"],[0.2,\"#de77ae\"],[0.3,\"#f1b6da\"],[0.4,\"#fde0ef\"],[0.5,\"#f7f7f7\"],[0.6,\"#e6f5d0\"],[0.7,\"#b8e186\"],[0.8,\"#7fbc41\"],[0.9,\"#4d9221\"],[1,\"#276419\"]],\"sequential\":[[0.0,\"#0d0887\"],[0.1111111111111111,\"#46039f\"],[0.2222222222222222,\"#7201a8\"],[0.3333333333333333,\"#9c179e\"],[0.4444444444444444,\"#bd3786\"],[0.5555555555555556,\"#d8576b\"],[0.6666666666666666,\"#ed7953\"],[0.7777777777777778,\"#fb9f3a\"],[0.8888888888888888,\"#fdca26\"],[1.0,\"#f0f921\"]],\"sequentialminus\":[[0.0,\"#0d0887\"],[0.1111111111111111,\"#46039f\"],[0.2222222222222222,\"#7201a8\"],[0.3333333333333333,\"#9c179e\"],[0.4444444444444444,\"#bd3786\"],[0.5555555555555556,\"#d8576b\"],[0.6666666666666666,\"#ed7953\"],[0.7777777777777778,\"#fb9f3a\"],[0.8888888888888888,\"#fdca26\"],[1.0,\"#f0f921\"]]},\"colorway\":[\"#636efa\",\"#EF553B\",\"#00cc96\",\"#ab63fa\",\"#FFA15A\",\"#19d3f3\",\"#FF6692\",\"#B6E880\",\"#FF97FF\",\"#FECB52\"],\"font\":{\"color\":\"#2a3f5f\"},\"geo\":{\"bgcolor\":\"white\",\"lakecolor\":\"white\",\"landcolor\":\"#E5ECF6\",\"showlakes\":true,\"showland\":true,\"subunitcolor\":\"white\"},\"hoverlabel\":{\"align\":\"left\"},\"hovermode\":\"closest\",\"mapbox\":{\"style\":\"light\"},\"paper_bgcolor\":\"white\",\"plot_bgcolor\":\"#E5ECF6\",\"polar\":{\"angularaxis\":{\"gridcolor\":\"white\",\"linecolor\":\"white\",\"ticks\":\"\"},\"bgcolor\":\"#E5ECF6\",\"radialaxis\":{\"gridcolor\":\"white\",\"linecolor\":\"white\",\"ticks\":\"\"}},\"scene\":{\"xaxis\":{\"backgroundcolor\":\"#E5ECF6\",\"gridcolor\":\"white\",\"gridwidth\":2,\"linecolor\":\"white\",\"showbackground\":true,\"ticks\":\"\",\"zerolinecolor\":\"white\"},\"yaxis\":{\"backgroundcolor\":\"#E5ECF6\",\"gridcolor\":\"white\",\"gridwidth\":2,\"linecolor\":\"white\",\"showbackground\":true,\"ticks\":\"\",\"zerolinecolor\":\"white\"},\"zaxis\":{\"backgroundcolor\":\"#E5ECF6\",\"gridcolor\":\"white\",\"gridwidth\":2,\"linecolor\":\"white\",\"showbackground\":true,\"ticks\":\"\",\"zerolinecolor\":\"white\"}},\"shapedefaults\":{\"line\":{\"color\":\"#2a3f5f\"}},\"ternary\":{\"aaxis\":{\"gridcolor\":\"white\",\"linecolor\":\"white\",\"ticks\":\"\"},\"baxis\":{\"gridcolor\":\"white\",\"linecolor\":\"white\",\"ticks\":\"\"},\"bgcolor\":\"#E5ECF6\",\"caxis\":{\"gridcolor\":\"white\",\"linecolor\":\"white\",\"ticks\":\"\"}},\"title\":{\"x\":0.05},\"xaxis\":{\"automargin\":true,\"gridcolor\":\"white\",\"linecolor\":\"white\",\"ticks\":\"\",\"title\":{\"standoff\":15},\"zerolinecolor\":\"white\",\"zerolinewidth\":2},\"yaxis\":{\"automargin\":true,\"gridcolor\":\"white\",\"linecolor\":\"white\",\"ticks\":\"\",\"title\":{\"standoff\":15},\"zerolinecolor\":\"white\",\"zerolinewidth\":2}}},\"coloraxis\":{\"colorbar\":{\"title\":{\"text\":\"ave_score_taklons\"}},\"colorscale\":[[0.0,\"rgb(103,0,31)\"],[0.1,\"rgb(178,24,43)\"],[0.2,\"rgb(214,96,77)\"],[0.3,\"rgb(244,165,130)\"],[0.4,\"rgb(253,219,199)\"],[0.5,\"rgb(247,247,247)\"],[0.6,\"rgb(209,229,240)\"],[0.7,\"rgb(146,197,222)\"],[0.8,\"rgb(67,147,195)\"],[0.9,\"rgb(33,102,172)\"],[1.0,\"rgb(5,48,97)\"]],\"cmid\":144.30885882929329},\"legend\":{\"tracegroupgap\":0},\"margin\":{\"t\":50,\"l\":25,\"r\":25,\"b\":25}},                        {\"responsive\": true}                    ).then(function(){\n",
       "                            \n",
       "var gd = document.getElementById('50d947ee-204e-4669-8ab1-5979cf493d7f');\n",
       "var x = new MutationObserver(function (mutations, observer) {{\n",
       "        var display = window.getComputedStyle(gd).display;\n",
       "        if (!display || display === 'none') {{\n",
       "            console.log([gd, 'removed!']);\n",
       "            Plotly.purge(gd);\n",
       "            observer.disconnect();\n",
       "        }}\n",
       "}});\n",
       "\n",
       "// Listen for the removal of the full notebook cells\n",
       "var notebookContainer = gd.closest('#notebook-container');\n",
       "if (notebookContainer) {{\n",
       "    x.observe(notebookContainer, {childList: true});\n",
       "}}\n",
       "\n",
       "// Listen for the clearing of the current output cell\n",
       "var outputEl = gd.closest('.output');\n",
       "if (outputEl) {{\n",
       "    x.observe(outputEl, {childList: true});\n",
       "}}\n",
       "\n",
       "                        })                };                });            </script>        </div>"
      ]
     },
     "metadata": {},
     "output_type": "display_data"
    }
   ],
   "source": [
    "for faction in factions:\n",
    "    factions_pos = []\n",
    "    for pos in range(4):\n",
    "        dat = dat_4\n",
    "        \n",
    "        # select faction\n",
    "        dat = dat[dat[\"pos_\" + str(pos + 1) +\"_faction\"] == faction]\n",
    "        \n",
    "        #remove dropped players\n",
    "        dat = dat[dat['pos_' + str(pos + 1) + '_dropped'] == False]\n",
    "        \n",
    "        #labels\n",
    "        prefix = \"pos_\" + str(pos + 1) + '_buildings_r_1'\n",
    "        structs_class = 'r1_structs_class_' + faction\n",
    "        structs_exact = 'r1_structs_exact_' + faction\n",
    "        over_all_score = 'ave_score_' + faction\n",
    "        over_all_elo = 'ave_elo_' + faction\n",
    "        \n",
    "        #get scores and elos\n",
    "        dat[over_all_score] = dat['pos_' + str(pos + 1) + '_score']\n",
    "        dat[over_all_elo] = dat['pos_' + str(pos + 1) + '_elo']\n",
    "        \n",
    "        #structs placed\n",
    "        dat[prefix + '_PI'] = pd.to_numeric(dat[prefix + '_PI'], downcast='integer')\n",
    "        dat[prefix + '_ac1'] = pd.to_numeric(dat[prefix + '_ac1'], downcast='integer')\n",
    "        dat[prefix + '_ac2'] = pd.to_numeric(dat[prefix + '_ac2'], downcast='integer')\n",
    "        dat[prefix + '_lab'] = pd.to_numeric(dat[prefix + '_lab'], downcast='integer')\n",
    "        dat[prefix + '_ts'] = pd.to_numeric(dat[prefix + '_ts'], downcast='integer')\n",
    "        dat[prefix + '_m'] = pd.to_numeric(dat[prefix + '_m'], downcast='integer')\n",
    "        \n",
    "        # create general structs catergory                        \n",
    "        dat.loc[dat[prefix + '_PI'] > 0, structs_class] = 'PI'\n",
    "        dat.loc[dat[prefix + '_ac1'] > 0, structs_class] = 'ac1'\n",
    "        dat.loc[dat[prefix + '_ac2'] > 0, structs_class] = 'ac2'\n",
    "        dat.loc[\n",
    "            (dat[prefix + '_lab'] > 0) &\n",
    "            (dat[prefix + '_PI'] == 0) &\n",
    "            (dat[prefix + '_ac1'] == 0) &\n",
    "            (dat[prefix + '_ac2'] == 0)\n",
    "            , structs_class] = 'lab'\n",
    "        \n",
    "        dat.loc[\n",
    "            (dat[prefix + '_ts'] > 0) &\n",
    "            (dat[prefix + '_lab'] == 0) &\n",
    "            (dat[prefix + '_PI'] == 0) &\n",
    "            (dat[prefix + '_ac1'] == 0) &\n",
    "            (dat[prefix + '_ac2'] == 0)\n",
    "            , structs_class] = 'ts'\n",
    "        \n",
    "        dat.loc[\n",
    "            (dat[prefix + '_ts'] == 0) &\n",
    "            (dat[prefix + '_lab'] == 0) &\n",
    "            (dat[prefix + '_PI'] == 0) &\n",
    "            (dat[prefix + '_ac1'] == 0) &\n",
    "            (dat[prefix + '_ac2'] == 0)\n",
    "            , structs_class] = 'm'\n",
    "        \n",
    "        \n",
    "        #create exact category\n",
    "        dat[structs_exact] = [\" \" +\n",
    "            str(m) + '_m / ' +\n",
    "            str(ts) + '_ts / ' +\n",
    "            str(lab) + '_lab / ' +\n",
    "            str(PI) + '_pi / ' +\n",
    "            str(ac1) + '_ac1 / ' +\n",
    "            str(ac2) + '_ac2' \n",
    "            for m, ts, lab, PI, ac1, ac2 in zip(\n",
    "            dat[prefix + '_m'], \n",
    "            dat[prefix + '_ts'], \n",
    "            dat[prefix + '_lab'],\n",
    "            dat[prefix + '_PI'], \n",
    "            dat[prefix + '_ac1'], \n",
    "            dat[prefix + '_ac2'])\n",
    "        ]\n",
    "        \n",
    "        \n",
    "        factions_pos.append(dat)\n",
    "        \n",
    "    factions_in = pd.concat(factions_pos, ignore_index=True)\n",
    "    \n",
    "    unique_starts = factions_in[[structs_exact, structs_class, over_all_score, over_all_elo]]\n",
    "    unique_starts['class_counts'] = 0\n",
    "    counts = unique_starts.groupby(structs_exact)['class_counts'].transform('count').to_frame()\n",
    "    unique_starts = unique_starts[[structs_exact, structs_class, over_all_score, over_all_elo]]\n",
    "    unique_starts = pd.concat([unique_starts, counts], axis=1)\n",
    "    unique_starts = unique_starts.groupby([structs_class, structs_exact]).mean().reset_index()\n",
    "    unique_starts['class_counts'] = pd.to_numeric(unique_starts['class_counts'], downcast='integer')\n",
    "    \n",
    "    #remove really low scores\n",
    "    #unique_starts = unique_starts[(np.abs(stats.zscore(unique_starts[over_all_score])) > 2)]\n",
    "    unique_starts = unique_starts[unique_starts[over_all_score].between(unique_starts[over_all_score].quantile(.15), unique_starts[over_all_score].quantile(1))]\n",
    "    \n",
    "    \n",
    "    \n",
    "    #midpoint is average for all factions overall - but color ends are highest and lowest score by that faction\n",
    "    fig = px.treemap(unique_starts, path=[px.Constant('R1 Structures: Frequency and Overall Score for ' + faction), structs_class, structs_exact], values='class_counts',\n",
    "                  color=over_all_score, hover_data=[over_all_elo],\n",
    "                  color_continuous_scale='RdBu',\n",
    "                  color_continuous_midpoint=(( #average score overall for position played till end\n",
    "                      np.mean(dat_4[dat_4['pos_1_dropped'] == False]['pos_1_score']) + \n",
    "                      np.mean(dat_4[dat_4['pos_2_dropped'] == False]['pos_2_score']) + \n",
    "                      np.mean(dat_4[dat_4['pos_3_dropped'] == False]['pos_3_score']) + \n",
    "                      np.mean(dat_4[dat_4['pos_4_dropped'] == False]['pos_4_score'])) / 4)\n",
    "                    )\n",
    "    fig.update_layout(margin = dict(t=50, l=25, r=25, b=25))\n",
    "    \n",
    "    fig.write_html(\"./plots/r1_structs_analysis/freq_and_score/\" + faction + \".html\")\n",
    "    fig.show()\n",
    "    \n",
    "    \"\"\"\n",
    "    fig = px.sunburst(unique_starts, path=[px.Constant('R1 Structures: Frequency and Overall Score for ' + faction), structs_class, structs_exact], values='class_counts',\n",
    "                  color=over_all_score, hover_data=[over_all_elo],\n",
    "                  color_continuous_scale='RdBu',\n",
    "                  color_continuous_midpoint=np.median(unique_starts[over_all_score]))\n",
    "    fig.show()\n",
    "    \"\"\"\n",
    "    \n",
    "    \n",
    "    \n",
    "    "
   ]
  },
  {
   "cell_type": "code",
   "execution_count": null,
   "id": "cac38859",
   "metadata": {},
   "outputs": [],
   "source": [
    "# checking out if data wrong for unlikely taklon start --> it happend!\n",
    "p = 'pos_1_buildings_r_1'\n",
    "taklons_1 = dat_4[dat_4['pos_1_faction'] == 'taklons']\n",
    "taklons_1 = taklons_1.loc[(taklons_1[p + '_m'] == 7) & (taklons_1[p + '_lab'] == 1)]\n",
    "taklons_1.head()"
   ]
  },
  {
   "cell_type": "code",
   "execution_count": null,
   "id": "2987b2d8",
   "metadata": {},
   "outputs": [],
   "source": []
  }
 ],
 "metadata": {
  "kernelspec": {
   "display_name": "Python 3 (ipykernel)",
   "language": "python",
   "name": "python3"
  },
  "language_info": {
   "codemirror_mode": {
    "name": "ipython",
    "version": 3
   },
   "file_extension": ".py",
   "mimetype": "text/x-python",
   "name": "python",
   "nbconvert_exporter": "python",
   "pygments_lexer": "ipython3",
   "version": "3.8.10"
  }
 },
 "nbformat": 4,
 "nbformat_minor": 5
}
